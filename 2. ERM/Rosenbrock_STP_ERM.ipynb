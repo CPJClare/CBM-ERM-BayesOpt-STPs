{
  "cells": [
    {
      "cell_type": "markdown",
      "metadata": {
        "id": "OrYfJFnSJLkS"
      },
      "source": [
        "Rosenbrock synthetic function:\n",
        "\n",
        "GP ERM versus STP nu = 3 ERM (winner)\n",
        "\n",
        "https://www.sfu.ca/~ssurjano/camel6.html"
      ]
    },
    {
      "cell_type": "code",
      "source": [
        "pip install pyGPGO\n"
      ],
      "metadata": {
        "colab": {
          "base_uri": "https://localhost:8080/"
        },
        "id": "2FgAmLMpOX3c",
        "outputId": "36f68552-ee81-4ebc-d304-89e18082d735"
      },
      "execution_count": null,
      "outputs": [
        {
          "output_type": "stream",
          "name": "stdout",
          "text": [
            "Looking in indexes: https://pypi.org/simple, https://us-python.pkg.dev/colab-wheels/public/simple/\n",
            "Collecting pyGPGO\n",
            "  Downloading pyGPGO-0.5.1.tar.gz (14 kB)\n",
            "Requirement already satisfied: numpy in /usr/local/lib/python3.7/dist-packages (from pyGPGO) (1.21.6)\n",
            "Requirement already satisfied: mkl in /usr/local/lib/python3.7/dist-packages (from pyGPGO) (2019.0)\n",
            "Requirement already satisfied: scipy in /usr/local/lib/python3.7/dist-packages (from pyGPGO) (1.7.3)\n",
            "Requirement already satisfied: joblib in /usr/local/lib/python3.7/dist-packages (from pyGPGO) (1.1.0)\n",
            "Requirement already satisfied: scikit-learn in /usr/local/lib/python3.7/dist-packages (from pyGPGO) (1.0.2)\n",
            "Collecting Theano-PyMC\n",
            "  Downloading Theano-PyMC-1.1.2.tar.gz (1.8 MB)\n",
            "\u001b[K     |████████████████████████████████| 1.8 MB 45.9 MB/s \n",
            "\u001b[?25hCollecting pyMC3\n",
            "  Downloading pymc3-3.11.5-py3-none-any.whl (872 kB)\n",
            "\u001b[K     |████████████████████████████████| 872 kB 62.2 MB/s \n",
            "\u001b[?25hRequirement already satisfied: intel-openmp in /usr/local/lib/python3.7/dist-packages (from mkl->pyGPGO) (2022.1.0)\n",
            "Requirement already satisfied: patsy>=0.5.1 in /usr/local/lib/python3.7/dist-packages (from pyMC3->pyGPGO) (0.5.2)\n",
            "Requirement already satisfied: fastprogress>=0.2.0 in /usr/local/lib/python3.7/dist-packages (from pyMC3->pyGPGO) (1.0.3)\n",
            "Requirement already satisfied: cachetools>=4.2.1 in /usr/local/lib/python3.7/dist-packages (from pyMC3->pyGPGO) (4.2.4)\n",
            "Requirement already satisfied: pandas>=0.24.0 in /usr/local/lib/python3.7/dist-packages (from pyMC3->pyGPGO) (1.3.5)\n",
            "Collecting deprecat\n",
            "  Downloading deprecat-2.1.1-py2.py3-none-any.whl (9.8 kB)\n",
            "Requirement already satisfied: typing-extensions>=3.7.4 in /usr/local/lib/python3.7/dist-packages (from pyMC3->pyGPGO) (4.1.1)\n",
            "Collecting semver>=2.13.0\n",
            "  Downloading semver-2.13.0-py2.py3-none-any.whl (12 kB)\n",
            "Requirement already satisfied: dill in /usr/local/lib/python3.7/dist-packages (from pyMC3->pyGPGO) (0.3.5.1)\n",
            "Requirement already satisfied: arviz>=0.11.0 in /usr/local/lib/python3.7/dist-packages (from pyMC3->pyGPGO) (0.12.1)\n",
            "Requirement already satisfied: filelock in /usr/local/lib/python3.7/dist-packages (from Theano-PyMC->pyGPGO) (3.8.0)\n",
            "Requirement already satisfied: setuptools>=38.4 in /usr/local/lib/python3.7/dist-packages (from arviz>=0.11.0->pyMC3->pyGPGO) (57.4.0)\n",
            "Requirement already satisfied: packaging in /usr/local/lib/python3.7/dist-packages (from arviz>=0.11.0->pyMC3->pyGPGO) (21.3)\n",
            "Requirement already satisfied: matplotlib>=3.0 in /usr/local/lib/python3.7/dist-packages (from arviz>=0.11.0->pyMC3->pyGPGO) (3.2.2)\n",
            "Requirement already satisfied: xarray>=0.16.1 in /usr/local/lib/python3.7/dist-packages (from arviz>=0.11.0->pyMC3->pyGPGO) (0.20.2)\n",
            "Requirement already satisfied: xarray-einstats>=0.2 in /usr/local/lib/python3.7/dist-packages (from arviz>=0.11.0->pyMC3->pyGPGO) (0.2.2)\n",
            "Requirement already satisfied: netcdf4 in /usr/local/lib/python3.7/dist-packages (from arviz>=0.11.0->pyMC3->pyGPGO) (1.6.0)\n",
            "Requirement already satisfied: kiwisolver>=1.0.1 in /usr/local/lib/python3.7/dist-packages (from matplotlib>=3.0->arviz>=0.11.0->pyMC3->pyGPGO) (1.4.4)\n",
            "Requirement already satisfied: pyparsing!=2.0.4,!=2.1.2,!=2.1.6,>=2.0.1 in /usr/local/lib/python3.7/dist-packages (from matplotlib>=3.0->arviz>=0.11.0->pyMC3->pyGPGO) (3.0.9)\n",
            "Requirement already satisfied: python-dateutil>=2.1 in /usr/local/lib/python3.7/dist-packages (from matplotlib>=3.0->arviz>=0.11.0->pyMC3->pyGPGO) (2.8.2)\n",
            "Requirement already satisfied: cycler>=0.10 in /usr/local/lib/python3.7/dist-packages (from matplotlib>=3.0->arviz>=0.11.0->pyMC3->pyGPGO) (0.11.0)\n",
            "Requirement already satisfied: pytz>=2017.3 in /usr/local/lib/python3.7/dist-packages (from pandas>=0.24.0->pyMC3->pyGPGO) (2022.2.1)\n",
            "Requirement already satisfied: six in /usr/local/lib/python3.7/dist-packages (from patsy>=0.5.1->pyMC3->pyGPGO) (1.15.0)\n",
            "Requirement already satisfied: importlib-metadata in /usr/local/lib/python3.7/dist-packages (from xarray>=0.16.1->arviz>=0.11.0->pyMC3->pyGPGO) (4.12.0)\n",
            "Requirement already satisfied: wrapt<2,>=1.10 in /usr/local/lib/python3.7/dist-packages (from deprecat->pyMC3->pyGPGO) (1.14.1)\n",
            "Requirement already satisfied: zipp>=0.5 in /usr/local/lib/python3.7/dist-packages (from importlib-metadata->xarray>=0.16.1->arviz>=0.11.0->pyMC3->pyGPGO) (3.8.1)\n",
            "Requirement already satisfied: cftime in /usr/local/lib/python3.7/dist-packages (from netcdf4->arviz>=0.11.0->pyMC3->pyGPGO) (1.6.1)\n",
            "Requirement already satisfied: threadpoolctl>=2.0.0 in /usr/local/lib/python3.7/dist-packages (from scikit-learn->pyGPGO) (3.1.0)\n",
            "Building wheels for collected packages: pyGPGO, Theano-PyMC\n",
            "  Building wheel for pyGPGO (setup.py) ... \u001b[?25l\u001b[?25hdone\n",
            "  Created wheel for pyGPGO: filename=pyGPGO-0.5.1-py3-none-any.whl size=19879 sha256=a3baad78c8bf06257e6ded8d471130eebcceaac8d4ba550213d44be4bed67890\n",
            "  Stored in directory: /root/.cache/pip/wheels/c8/5d/0b/2160114e2f1b87791c51b66cf07f89831dbb6f49167950316f\n",
            "  Building wheel for Theano-PyMC (setup.py) ... \u001b[?25l\u001b[?25hdone\n",
            "  Created wheel for Theano-PyMC: filename=Theano_PyMC-1.1.2-py3-none-any.whl size=1529963 sha256=bb91f3698cf1b7db6f277e3ae85a8702d4bed9132f0c7b362a0ab96e8b555b80\n",
            "  Stored in directory: /root/.cache/pip/wheels/f3/af/8c/5dd7553522d74c52a7813806fc7ee1a9caa20a3f7c8fd850d5\n",
            "Successfully built pyGPGO Theano-PyMC\n",
            "Installing collected packages: Theano-PyMC, semver, deprecat, pyMC3, pyGPGO\n",
            "Successfully installed Theano-PyMC-1.1.2 deprecat-2.1.1 pyGPGO-0.5.1 pyMC3-3.11.5 semver-2.13.0\n"
          ]
        }
      ]
    },
    {
      "cell_type": "code",
      "execution_count": null,
      "metadata": {
        "id": "Dn_SAbhVJLke"
      },
      "outputs": [],
      "source": [
        "### Import modules:\n",
        "\n",
        "import numpy as np\n",
        "import scipy as sp\n",
        "import pandas as pd\n",
        "import matplotlib.pyplot as plt\n",
        "import random\n",
        "import warnings\n",
        "\n",
        "from pyGPGO.logger import EventLogger\n",
        "from pyGPGO.GPGO import GPGO\n",
        "from pyGPGO.surrogates.GaussianProcess import GaussianProcess\n",
        "from pyGPGO.surrogates.tStudentProcess import tStudentProcess, logpdf\n",
        "from pyGPGO.acquisition import Acquisition\n",
        "from pyGPGO.covfunc import squaredExponential\n",
        "\n",
        "from collections import OrderedDict\n",
        "from joblib import Parallel, delayed\n",
        "from numpy.linalg import slogdet, inv, cholesky, solve\n",
        "from scipy.optimize import minimize\n",
        "from scipy.spatial.distance import cdist\n",
        "from scipy.special import gamma\n",
        "from scipy.stats import norm, t\n",
        "from matplotlib.pyplot import rc\n",
        "\n",
        "rc('text', usetex=False)\n",
        "plt.rcParams['text.latex.preamble']=[r'\\usepackage{amsmath}']\n",
        "plt.rcParams['text.latex.preamble'] = [r'\\boldmath']\n",
        "\n",
        "warnings.filterwarnings(\"ignore\", category=FutureWarning)\n",
        "warnings.filterwarnings(\"ignore\", category=RuntimeWarning)\n",
        "warnings.filterwarnings(\"ignore\", category=UserWarning)\n"
      ]
    },
    {
      "cell_type": "code",
      "execution_count": null,
      "metadata": {
        "id": "4Nwg_XO0JLki"
      },
      "outputs": [],
      "source": [
        "### Inputs:\n",
        "\n",
        "obj_func = 'Rosenbrock'\n",
        "n_test = 500 # test points\n",
        "df = 3 # nu\n",
        "\n",
        "util_gp = 'RegretMinimized'\n",
        "util_stp = 'tRegretMinimized'\n",
        "n_init = 5 # random initialisations\n",
        "\n",
        "cov_func = squaredExponential()\n",
        "hyperOpt = True\n"
      ]
    },
    {
      "cell_type": "code",
      "execution_count": null,
      "metadata": {
        "id": "DVYGZ6jYJLkj"
      },
      "outputs": [],
      "source": [
        "### Objective function:\n",
        "\n",
        "if obj_func == 'Rosenbrock':\n",
        "            \n",
        "    # True y bounds:\n",
        "    y_lb = 0\n",
        "    operator = -1 # targets global minimum \n",
        "    y_global_orig = y_lb * operator # targets global minimum\n",
        "            \n",
        "# Constraints:\n",
        "    lb = -2.048 \n",
        "    ub = +2.048 \n",
        "    \n",
        "# Input array dimension(s):\n",
        "    dim = 2\n",
        "\n",
        "# 2-D inputs' parameter bounds:\n",
        "    param = {'x1_training': ('cont', [lb, ub]),\n",
        "             'x2_training': ('cont', [lb, ub])}\n",
        "    \n",
        "# Test data:\n",
        "    x1_test = np.linspace(lb, ub, n_test)\n",
        "    x2_test = np.linspace(lb, ub, n_test)\n",
        "    Xstar_d = np.column_stack((x1_test, x2_test))\n",
        "    \n",
        "    def f_syn_polarity(x1_training, x2_training):\n",
        "        return operator * (100 * (x2_training - x1_training ** 2) ** 2 + (x1_training - 1) ** 2)\n"
      ]
    },
    {
      "cell_type": "code",
      "source": [
        "max_iter = dim * 10  # iterations of Bayesian optimisation"
      ],
      "metadata": {
        "id": "S9JivCxiYACE"
      },
      "execution_count": null,
      "outputs": []
    },
    {
      "cell_type": "code",
      "execution_count": null,
      "metadata": {
        "id": "hE7COdNcJLkl"
      },
      "outputs": [],
      "source": [
        "### Cumulative Regret Calculator:\n",
        "\n",
        "def min_max_array(x):\n",
        "    new_list = []\n",
        "    for i, num in enumerate(x):\n",
        "            new_list.append(np.min(x[0:i+1]))\n",
        "    return new_list\n"
      ]
    },
    {
      "cell_type": "code",
      "execution_count": null,
      "metadata": {
        "id": "gkY6wLl_JLkm"
      },
      "outputs": [],
      "source": [
        "### Set-seeds:\n",
        "\n",
        "run_num_1 = 1\n",
        "run_num_2 = 2\n",
        "run_num_3 = 3\n",
        "run_num_4 = 4\n",
        "run_num_5 = 5\n",
        "run_num_6 = 6\n",
        "run_num_7 = 7\n",
        "run_num_8 = 8\n",
        "run_num_9 = 9\n",
        "run_num_10 = 10\n",
        "run_num_11 = 11\n",
        "run_num_12 = 12\n",
        "run_num_13 = 13\n",
        "run_num_14 = 14\n",
        "run_num_15 = 15\n",
        "run_num_16 = 16\n",
        "run_num_17 = 17\n",
        "run_num_18 = 18\n",
        "run_num_19 = 19\n",
        "run_num_20 = 20\n"
      ]
    },
    {
      "cell_type": "code",
      "execution_count": null,
      "metadata": {
        "id": "Mh53nXeyJLko"
      },
      "outputs": [],
      "source": [
        "### Acquisition function - ERM:\n",
        "\n",
        "class Acquisition_new(Acquisition):    \n",
        "    def __init__(self, mode, eps=1e-06, **params):\n",
        "        \n",
        "        self.params = params\n",
        "        self.eps = eps\n",
        "\n",
        "        mode_dict = {\n",
        "            'RegretMinimized': self.RegretMinimized,\n",
        "            'tRegretMinimized': self.tRegretMinimized\n",
        "        }\n",
        "\n",
        "        self.f = mode_dict[mode]\n",
        "   \n",
        "    def RegretMinimized(self, tau, mean, std):\n",
        "        \n",
        "        z = (mean - y_global_orig - self.eps) / (std + self.eps)\n",
        "        return z * (std + self.eps) * norm.cdf(z) + (std + self.eps) * norm.pdf(z)[0]\n",
        "    \n",
        "    def tRegretMinimized(self, tau, mean, std, nu=3.0):\n",
        "        \n",
        "        gamma = (mean - y_global_orig - self.eps) / (std + self.eps)\n",
        "        return gamma * (std + self.eps) * t.cdf(gamma, df=nu) + (std + self.eps) * (nu + gamma ** 2)/(nu - 1) * t.pdf(gamma, df=nu)\n",
        "    "
      ]
    },
    {
      "cell_type": "code",
      "execution_count": null,
      "metadata": {
        "scrolled": false,
        "colab": {
          "base_uri": "https://localhost:8080/"
        },
        "id": "Fio5AsW9JLkp",
        "outputId": "d8b2f8a3-8d65-48b1-90f5-1e49a73075b8"
      },
      "outputs": [
        {
          "output_type": "stream",
          "name": "stdout",
          "text": [
            "Evaluation \t Proposed point \t  Current eval. \t Best eval.\n",
            "init   \t [-0.33987787  0.90244913]. \t  -63.72149506568065 \t -2.0636815813193974\n",
            "init   \t [-2.04753152 -0.80964578]. \t  -2511.318971868364 \t -2.0636815813193974\n",
            "init   \t [-1.44688787 -1.66978112]. \t  -1422.2040787100386 \t -2.0636815813193974\n",
            "init   \t [-1.28507817 -0.63258326]. \t  -526.8913737894474 \t -2.0636815813193974\n",
            "init   \t [-0.42284043  0.15899334]. \t  -2.0636815813193974 \t -2.0636815813193974\n",
            "1      \t [0.53409109 0.08802462]. \t  -4.106985812246922 \t -2.0636815813193974\n",
            "2      \t [0.47530471 0.1393473 ]. \t  \u001b[92m-1.0246942144063667\u001b[0m \t -1.0246942144063667\n",
            "3      \t [0.4585615  0.15332307]. \t  \u001b[92m-0.6175494468491596\u001b[0m \t -0.6175494468491596\n",
            "4      \t [0.45045053 0.15985315]. \t  \u001b[92m-0.4873566845030128\u001b[0m \t -0.4873566845030128\n",
            "5      \t [0.44573481 0.16351885]. \t  \u001b[92m-0.4308371448624324\u001b[0m \t -0.4308371448624324\n",
            "6      \t [0.4426961 0.1658029]. \t  \u001b[92m-0.40165235178408193\u001b[0m \t -0.40165235178408193\n",
            "7      \t [0.44059826 0.16733018]. \t  \u001b[92m-0.3847363059651358\u001b[0m \t -0.3847363059651358\n",
            "8      \t [0.4390747  0.16840612]. \t  \u001b[92m-0.3740779512302821\u001b[0m \t -0.3740779512302821\n",
            "9      \t [0.43792437 0.16919517]. \t  \u001b[92m-0.3669263381976003\u001b[0m \t -0.3669263381976003\n",
            "10     \t [0.43702877 0.16979266]. \t  \u001b[92m-0.3618869024351424\u001b[0m \t -0.3618869024351424\n",
            "11     \t [0.43631396 0.17025691]. \t  \u001b[92m-0.3581950893998065\u001b[0m \t -0.3581950893998065\n",
            "12     \t [0.43573197 0.17062519]. \t  \u001b[92m-0.3554052484591481\u001b[0m \t -0.3554052484591481\n",
            "13     \t [0.43524991 0.17092271]. \t  \u001b[92m-0.3532408596231708\u001b[0m \t -0.3532408596231708\n",
            "14     \t [0.43484509 0.17116645]. \t  \u001b[92m-0.3515263413147877\u001b[0m \t -0.3515263413147877\n",
            "15     \t [0.43450079 0.17136885]. \t  \u001b[92m-0.3501422805963474\u001b[0m \t -0.3501422805963474\n",
            "16     \t [0.43420499 0.17153873]. \t  \u001b[92m-0.3490078206028276\u001b[0m \t -0.3490078206028276\n",
            "17     \t [0.43394842 0.17168277]. \t  \u001b[92m-0.3480649477821758\u001b[0m \t -0.3480649477821758\n",
            "18     \t [0.4337241  0.17180591]. \t  \u001b[92m-0.34727224107301363\u001b[0m \t -0.34727224107301363\n",
            "19     \t [0.43352653 0.17191193]. \t  \u001b[92m-0.3465989383445193\u001b[0m \t -0.3465989383445193\n",
            "20     \t [0.43335139 0.172004  ]. \t  \u001b[92m-0.3460212409431895\u001b[0m \t -0.3460212409431895\n"
          ]
        }
      ],
      "source": [
        "### Bayesian optimisation runs (x20): 'GP' Acquisition Function run number = 1\n",
        "\n",
        "np.random.seed(run_num_1)\n",
        "surrogate_gp_1 = GaussianProcess(cov_func, optimize=hyperOpt)\n",
        "\n",
        "gp_1 = GPGO(surrogate_gp_1, Acquisition_new(util_gp), f_syn_polarity, param, n_jobs = -1) # define BayesOpt\n",
        "gp_1.run(max_iter = max_iter, init_evals = n_init) # run\n"
      ]
    },
    {
      "cell_type": "code",
      "execution_count": null,
      "metadata": {
        "colab": {
          "base_uri": "https://localhost:8080/"
        },
        "id": "6CLxOiUrJLks",
        "outputId": "4b17f3ff-db91-491c-868b-54f0058c4bac"
      },
      "outputs": [
        {
          "output_type": "stream",
          "name": "stdout",
          "text": [
            "Evaluation \t Proposed point \t  Current eval. \t Best eval.\n",
            "init   \t [-0.26216488 -1.94180615]. \t  -405.8187938051167 \t -10.016400127761926\n",
            "init   \t [ 0.20341751 -0.26491948]. \t  -10.016400127761926 \t -10.016400127761926\n",
            "init   \t [-0.32617348 -0.69494857]. \t  -65.97294928625357 \t -10.016400127761926\n",
            "init   \t [-1.20975919  0.48853388]. \t  -99.94230490266065 \t -10.016400127761926\n",
            "init   \t [-0.82061446 -0.95507548]. \t  -268.5105099964258 \t -10.016400127761926\n",
            "1      \t [1.06286346 0.39570345]. \t  -53.87592295137095 \t -10.016400127761926\n",
            "2      \t [2.048 2.048]. \t  -461.7603900415999 \t -10.016400127761926\n",
            "3      \t [ 2.01492577 -0.8155885 ]. \t  -2378.0941119291424 \t -10.016400127761926\n",
            "4      \t [0.35048084 0.64610564]. \t  -27.802900843199144 \t -10.016400127761926\n",
            "5      \t [-2.048  2.048]. \t  -469.9523900415999 \t -10.016400127761926\n",
            "6      \t [0.01535266 2.048     ]. \t  -420.3033915593164 \t -10.016400127761926\n",
            "7      \t [0.17476065 0.24246338]. \t  \u001b[92m-5.172117497020742\u001b[0m \t -5.172117497020742\n",
            "8      \t [-0.03149383  0.07358909]. \t  \u001b[92m-1.5910153274713936\u001b[0m \t -1.5910153274713936\n",
            "9      \t [2.08992689e-04 4.10679584e-01]. \t  -17.86535055054567 \t -1.5910153274713936\n",
            "10     \t [0.16799702 0.22964902]. \t  -4.749473116691283 \t -1.5910153274713936\n",
            "11     \t [0.37918549 0.34501971]. \t  -4.4350867241230745 \t -1.5910153274713936\n",
            "12     \t [-0.06297975 -0.03747417]. \t  \u001b[92m-1.3016583989812969\u001b[0m \t -1.3016583989812969\n",
            "13     \t [-0.05493222  0.21934716]. \t  -5.792731939957032 \t -1.3016583989812969\n",
            "14     \t [0.15461315 0.21521701]. \t  -4.374698873015438 \t -1.3016583989812969\n",
            "15     \t [0.1543737  0.21509922]. \t  -4.373427948229427 \t -1.3016583989812969\n",
            "16     \t [0.15417548 0.21500459]. \t  -4.372482751074046 \t -1.3016583989812969\n",
            "17     \t [-0.08277361  0.10972097]. \t  -2.230612159977837 \t -1.3016583989812969\n",
            "18     \t [0.14721282 0.21068418]. \t  -4.299820895144168 \t -1.3016583989812969\n",
            "19     \t [0.08422655 0.49464983]. \t  -24.609699373284112 \t -1.3016583989812969\n",
            "20     \t [0.62875743 0.60779163]. \t  -4.651564962130434 \t -1.3016583989812969\n"
          ]
        }
      ],
      "source": [
        "### Bayesian optimisation runs (x20): 'GP' Acquisition Function run number = 2\n",
        "\n",
        "np.random.seed(run_num_2)\n",
        "surrogate_gp_2 = GaussianProcess(cov_func, optimize=hyperOpt)\n",
        "\n",
        "gp_2 = GPGO(surrogate_gp_2, Acquisition_new(util_gp), f_syn_polarity, param, n_jobs = -1) # define BayesOpt\n",
        "gp_2.run(max_iter = max_iter, init_evals = n_init) # run\n"
      ]
    },
    {
      "cell_type": "code",
      "execution_count": null,
      "metadata": {
        "id": "OrboSzBtJLku",
        "colab": {
          "base_uri": "https://localhost:8080/"
        },
        "outputId": "fd5e8d35-daca-46bf-994e-84015633883e"
      },
      "outputs": [
        {
          "output_type": "stream",
          "name": "stdout",
          "text": [
            "Evaluation \t Proposed point \t  Current eval. \t Best eval.\n",
            "init   \t [0.20806821 0.85257348]. \t  -66.12074614607258 \t -50.941111321262525\n",
            "init   \t [-0.85645419  0.04434987]. \t  -50.941111321262525 \t -50.941111321262525\n",
            "init   \t [1.60951073 1.62321649]. \t  -93.94003449768307 \t -50.941111321262525\n",
            "init   \t [-1.53360257 -1.19913317]. \t  -1267.4289626896234 \t -50.941111321262525\n",
            "init   \t [-1.83719034 -0.24244288]. \t  -1316.8330877748904 \t -50.941111321262525\n",
            "1      \t [ 2.048 -2.048]. \t  -3897.7342268415996 \t -50.941111321262525\n",
            "2      \t [-0.84093543  1.99930984]. \t  -170.35095926890492 \t -50.941111321262525\n",
            "3      \t [-0.16530286  0.88103863]. \t  -74.24062060473987 \t -50.941111321262525\n",
            "4      \t [0.11766762 0.4885386 ]. \t  \u001b[92m-23.311848659467007\u001b[0m \t -23.311848659467007\n",
            "5      \t [0.26833154 0.63665775]. \t  -32.41897086014718 \t -23.311848659467007\n",
            "6      \t [0.24516793 0.33020218]. \t  \u001b[92m-7.864895001703296\u001b[0m \t -7.864895001703296\n",
            "7      \t [0.15012125 0.7043024 ]. \t  -47.2027834148797 \t -7.864895001703296\n",
            "8      \t [0.18547488 0.68301802]. \t  -42.7338633991503 \t -7.864895001703296\n",
            "9      \t [0.33365452 0.66995351]. \t  -31.650559690058 \t -7.864895001703296\n",
            "10     \t [0.25960275 0.39856401]. \t  -11.515572883037485 \t -7.864895001703296\n",
            "11     \t [0.36086996 0.23242093]. \t  \u001b[92m-1.4528445452964724\u001b[0m \t -1.4528445452964724\n",
            "12     \t [0.18122001 0.54513174]. \t  -26.914612302431667 \t -1.4528445452964724\n",
            "13     \t [0.03933727 0.49648119]. \t  -25.41881667826204 \t -1.4528445452964724\n",
            "14     \t [0.30997154 0.46127153]. \t  -13.812452484840644 \t -1.4528445452964724\n",
            "15     \t [0.41453934 0.58982276]. \t  -17.81348368326192 \t -1.4528445452964724\n",
            "16     \t [0.25164194 0.72074122]. \t  -43.779823195457595 \t -1.4528445452964724\n",
            "17     \t [0.39442171 0.71344433]. \t  -31.4892702040938 \t -1.4528445452964724\n",
            "18     \t [0.2525088  0.38199779]. \t  -10.686228404402327 \t -1.4528445452964724\n",
            "19     \t [0.31410068 0.59866593]. \t  -25.47112698691247 \t -1.4528445452964724\n",
            "20     \t [0.18512718 0.42394352]. \t  -15.848401610215152 \t -1.4528445452964724\n"
          ]
        }
      ],
      "source": [
        "### Bayesian optimisation runs (x20): 'GP' Acquisition Function run number = 3\n",
        "\n",
        "np.random.seed(run_num_3)\n",
        "surrogate_gp_3 = GaussianProcess(cov_func, optimize=hyperOpt)\n",
        "\n",
        "gp_3 = GPGO(surrogate_gp_3, Acquisition_new(util_gp), f_syn_polarity, param, n_jobs = -1) # define BayesOpt\n",
        "gp_3.run(max_iter = max_iter, init_evals = n_init) # run\n"
      ]
    },
    {
      "cell_type": "code",
      "execution_count": null,
      "metadata": {
        "id": "wmlwMmKcJLkv",
        "colab": {
          "base_uri": "https://localhost:8080/"
        },
        "outputId": "7fd400bb-9519-4cfa-d487-4f4cbe5f6c75"
      },
      "outputs": [
        {
          "output_type": "stream",
          "name": "stdout",
          "text": [
            "Evaluation \t Proposed point \t  Current eval. \t Best eval.\n",
            "init   \t [1.91295422 0.19346329]. \t  -1202.1009483415905 \t -170.66405971002487\n",
            "init   \t [1.93611514 0.87988631]. \t  -823.7947602867234 \t -170.66405971002487\n",
            "init   \t [ 0.80989727 -1.16289743]. \t  -330.8507621971172 \t -170.66405971002487\n",
            "init   \t [ 1.95082017 -2.02248087]. \t  -3397.672500714367 \t -170.66405971002487\n",
            "init   \t [-1.01178424 -0.26709388]. \t  -170.66405971002487 \t -170.66405971002487\n",
            "1      \t [-1.88378675 -1.98258165]. \t  -3067.771381194946 \t -170.66405971002487\n",
            "2      \t [-1.48035479  1.63064391]. \t  \u001b[92m-37.60254158705402\u001b[0m \t -37.60254158705402\n",
            "3      \t [-2.04428628  1.95214134]. \t  -505.2050127637462 \t -37.60254158705402\n",
            "4      \t [-0.70819201  0.58565887]. \t  \u001b[92m-3.6255869950310164\u001b[0m \t -3.6255869950310164\n",
            "5      \t [-0.33041716  0.74776648]. \t  -42.54985329817782 \t -3.6255869950310164\n",
            "6      \t [-0.68586728  0.87851972]. \t  -19.497182884452954 \t -3.6255869950310164\n",
            "7      \t [-0.45088506  0.50518933]. \t  -11.218944943362382 \t -3.6255869950310164\n",
            "8      \t [-0.7288554   0.78166966]. \t  -9.260933615410268 \t -3.6255869950310164\n",
            "9      \t [-0.7730047   0.67860271]. \t  -3.8007225565800757 \t -3.6255869950310164\n",
            "10     \t [-0.54620846  0.77148279]. \t  -24.776822201980142 \t -3.6255869950310164\n",
            "11     \t [-0.58731404  0.59599286]. \t  -8.822430835075064 \t -3.6255869950310164\n",
            "12     \t [-0.69411061  0.58714372]. \t  -3.979961132745538 \t -3.6255869950310164\n",
            "13     \t [-0.73052556  0.4934329 ]. \t  \u001b[92m-3.1566017931367316\u001b[0m \t -3.1566017931367316\n",
            "14     \t [-0.5814762   0.71677885]. \t  -16.839730980136306 \t -3.1566017931367316\n",
            "15     \t [-0.68372388  0.59984983]. \t  -4.58714712690551 \t -3.1566017931367316\n",
            "16     \t [-0.3605874   0.56926127]. \t  -21.14419950632866 \t -3.1566017931367316\n",
            "17     \t [-0.52925908  0.77361324]. \t  -26.692667286132377 \t -3.1566017931367316\n",
            "18     \t [-0.64597135  0.54688894]. \t  -4.389095699773385 \t -3.1566017931367316\n",
            "19     \t [-0.59440989  0.5895748 ]. \t  -8.12362849660191 \t -3.1566017931367316\n",
            "20     \t [-0.55869747  0.87725675]. \t  -34.36490800376605 \t -3.1566017931367316\n"
          ]
        }
      ],
      "source": [
        "### Bayesian optimisation runs (x20): 'GP' Acquisition Function run number = 4\n",
        "\n",
        "np.random.seed(run_num_4)\n",
        "surrogate_gp_4 = GaussianProcess(cov_func, optimize=hyperOpt)\n",
        "\n",
        "gp_4 = GPGO(surrogate_gp_4, Acquisition_new(util_gp), f_syn_polarity, param, n_jobs = -1) # define BayesOpt\n",
        "gp_4.run(max_iter = max_iter, init_evals = n_init) # run\n"
      ]
    },
    {
      "cell_type": "code",
      "execution_count": null,
      "metadata": {
        "id": "ntlcfbyWJLkw",
        "colab": {
          "base_uri": "https://localhost:8080/"
        },
        "outputId": "68c9d40d-ceef-457c-b1b8-b66005531fb2"
      },
      "outputs": [
        {
          "output_type": "stream",
          "name": "stdout",
          "text": [
            "Evaluation \t Proposed point \t  Current eval. \t Best eval.\n",
            "init   \t [-1.13871597  1.51851953]. \t  -9.495646950867519 \t -9.495646950867519\n",
            "init   \t [-1.20127834  1.71463028]. \t  -12.220143873516523 \t -9.495646950867519\n",
            "init   \t [-0.04746777  0.45770286]. \t  -21.840629211931905 \t -9.495646950867519\n",
            "init   \t [1.08915858 0.07544008]. \t  -123.40146376592485 \t -9.495646950867519\n",
            "init   \t [-0.83230515 -1.27909385]. \t  -392.1670023300852 \t -9.495646950867519\n",
            "1      \t [-0.03014458  2.048     ]. \t  -420.11947863779767 \t -9.495646950867519\n",
            "2      \t [-1.72509646  1.35503075]. \t  -270.16660221824793 \t -9.495646950867519\n",
            "3      \t [-1.40023327 -1.67396716]. \t  -1326.8076446826026 \t -9.495646950867519\n",
            "4      \t [ 2.048 -2.048]. \t  -3897.7342268415996 \t -9.495646950867519\n",
            "5      \t [2.048 2.048]. \t  -461.7603900415999 \t -9.495646950867519\n",
            "6      \t [0.04117728 0.10127054]. \t  \u001b[92m-1.910858495417313\u001b[0m \t -1.910858495417313\n",
            "7      \t [ 0.08525473 -0.18888997]. \t  -4.684568453075414 \t -1.910858495417313\n",
            "8      \t [-0.38206374  0.14377653]. \t  \u001b[92m-1.910582503490052\u001b[0m \t -1.910582503490052\n",
            "9      \t [-0.38480893  0.14483981]. \t  -1.9187443005159903 \t -1.910582503490052\n",
            "10     \t [-0.38634693  0.14544127]. \t  -1.9234191139315493 \t -1.910582503490052\n",
            "11     \t [-0.38733318  0.1458266 ]. \t  -1.926457680074655 \t -1.910582503490052\n",
            "12     \t [-0.38801851  0.14609512]. \t  -1.9285874559901646 \t -1.910582503490052\n",
            "13     \t [-0.38852147  0.14629342]. \t  -1.9301592515548762 \t -1.910582503490052\n",
            "14     \t [-0.38890696  0.14644525]. \t  -1.931369778458534 \t -1.910582503490052\n",
            "15     \t [-0.3892122   0.14656601]. \t  -1.9323313093344767 \t -1.910582503490052\n",
            "16     \t [-0.38945894  0.14666388]. \t  -1.933110537496568 \t -1.910582503490052\n",
            "17     \t [-0.38966277  0.14674514]. \t  -1.9337553842700477 \t -1.910582503490052\n",
            "18     \t [-0.38983435  0.14681324]. \t  -1.9342995844800863 \t -1.910582503490052\n",
            "19     \t [-0.38998059  0.14687185]. \t  -1.934763572711531 \t -1.910582503490052\n",
            "20     \t [-0.39010562  0.1469218 ]. \t  -1.9351610114354316 \t -1.910582503490052\n"
          ]
        }
      ],
      "source": [
        "### Bayesian optimisation runs (x20): 'GP' Acquisition Function run number = 5\n",
        "\n",
        "np.random.seed(run_num_5)\n",
        "surrogate_gp_5 = GaussianProcess(cov_func, optimize=hyperOpt)\n",
        "\n",
        "gp_5 = GPGO(surrogate_gp_5, Acquisition_new(util_gp), f_syn_polarity, param, n_jobs = -1) # define BayesOpt\n",
        "gp_5.run(max_iter = max_iter, init_evals = n_init) # run\n"
      ]
    },
    {
      "cell_type": "code",
      "execution_count": null,
      "metadata": {
        "id": "HHrK2qnsJLkx",
        "colab": {
          "base_uri": "https://localhost:8080/"
        },
        "outputId": "a7be2d64-8888-4a9f-9e29-d4138499917c"
      },
      "outputs": [
        {
          "output_type": "stream",
          "name": "stdout",
          "text": [
            "Evaluation \t Proposed point \t  Current eval. \t Best eval.\n",
            "init   \t [ 1.60915518 -0.68821072]. \t  -1074.6314195925434 \t -3.0269049669752817\n",
            "init   \t [ 1.31575449 -1.87721062]. \t  -1302.169546932896 \t -3.0269049669752817\n",
            "init   \t [-1.60703824  0.38933325]. \t  -487.8262244570432 \t -3.0269049669752817\n",
            "init   \t [ 0.12213192 -0.33256477]. \t  -12.844955340992902 \t -3.0269049669752817\n",
            "init   \t [-0.67416945  0.50183959]. \t  -3.0269049669752817 \t -3.0269049669752817\n",
            "1      \t [0.27224891 1.63400724]. \t  -243.85460783472564 \t -3.0269049669752817\n",
            "2      \t [-1.88965856 -1.94484361]. \t  -3050.593025936572 \t -3.0269049669752817\n",
            "3      \t [1.65100391 1.98293551]. \t  -55.610635638057026 \t -3.0269049669752817\n",
            "4      \t [-0.02631313  0.72866058]. \t  -54.047088434405104 \t -3.0269049669752817\n",
            "5      \t [2.01355057 1.95090857]. \t  -443.4889784300038 \t -3.0269049669752817\n",
            "6      \t [-0.31179062  0.46178199]. \t  -15.011820767202018 \t -3.0269049669752817\n",
            "7      \t [-1.79037919  1.95087085]. \t  -165.18502126094342 \t -3.0269049669752817\n",
            "8      \t [-0.22255974  0.56786305]. \t  -28.361272763356894 \t -3.0269049669752817\n",
            "9      \t [-0.20022271  0.36765026]. \t  -12.170164038439784 \t -3.0269049669752817\n",
            "10     \t [-0.25340272  0.58960192]. \t  -29.174376442108343 \t -3.0269049669752817\n",
            "11     \t [-0.01658601  0.25848754]. \t  -7.700813637725634 \t -3.0269049669752817\n",
            "12     \t [-0.29236345  0.49659495]. \t  -18.572050339535746 \t -3.0269049669752817\n",
            "13     \t [0.18222327 0.4075563 ]. \t  -14.682624340709658 \t -3.0269049669752817\n",
            "14     \t [0.18335798 0.79011745]. \t  -57.89572019558298 \t -3.0269049669752817\n",
            "15     \t [-0.44149361  0.30669694]. \t  -3.3273880902860187 \t -3.0269049669752817\n",
            "16     \t [-0.22311957  0.67483924]. \t  -40.565634442430984 \t -3.0269049669752817\n",
            "17     \t [-0.04065379  0.27270045]. \t  -8.429646731468374 \t -3.0269049669752817\n",
            "18     \t [-0.2606068  0.1346031]. \t  \u001b[92m-2.0338477212333266\u001b[0m \t -2.0338477212333266\n",
            "19     \t [-0.26916503  0.48960541]. \t  -19.012658807645547 \t -2.0338477212333266\n",
            "20     \t [-0.36459367  0.5882856 ]. \t  -22.597120408637284 \t -2.0338477212333266\n"
          ]
        }
      ],
      "source": [
        "### Bayesian optimisation runs (x20): 'GP' Acquisition Function run number = 6\n",
        "\n",
        "np.random.seed(run_num_6)\n",
        "surrogate_gp_6 = GaussianProcess(cov_func, optimize=hyperOpt)\n",
        "\n",
        "gp_6 = GPGO(surrogate_gp_6, Acquisition_new(util_gp), f_syn_polarity, param, n_jobs = -1) # define BayesOpt\n",
        "gp_6.run(max_iter = max_iter, init_evals = n_init) # run\n"
      ]
    },
    {
      "cell_type": "code",
      "execution_count": null,
      "metadata": {
        "id": "rht2Y9u8JLky",
        "colab": {
          "base_uri": "https://localhost:8080/"
        },
        "outputId": "f9240ae4-9f05-4e48-9a5e-6ec52c56ac06"
      },
      "outputs": [
        {
          "output_type": "stream",
          "name": "stdout",
          "text": [
            "Evaluation \t Proposed point \t  Current eval. \t Best eval.\n",
            "init   \t [-1.73544125  1.14654737]. \t  -355.3830807157107 \t -74.10242381766855\n",
            "init   \t [-0.25227579  0.91531337]. \t  -74.10242381766855 \t -74.10242381766855\n",
            "init   \t [1.95784504 0.15767909]. \t  -1351.8314081149692 \t -74.10242381766855\n",
            "init   \t [ 0.00458942 -1.75287856]. \t  -308.2565501886822 \t -74.10242381766855\n",
            "init   \t [-9.48473938e-01 -4.81276619e-04]. \t  -84.81168700546641 \t -74.10242381766855\n",
            "1      \t [-2.0421555  -1.67009343]. \t  -3420.389981586825 \t -74.10242381766855\n",
            "2      \t [-0.11924277  1.92352928]. \t  -365.7993426787082 \t -74.10242381766855\n",
            "3      \t [ 1.67806705 -2.04724257]. \t  -2365.4841073545713 \t -74.10242381766855\n",
            "4      \t [ 1.55314185 -1.57142902]. \t  -1587.2754944073672 \t -74.10242381766855\n",
            "5      \t [ 1.14091989 -0.99748813]. \t  -528.645634360415 \t -74.10242381766855\n",
            "6      \t [-0.41214235  0.28249209]. \t  \u001b[92m-3.262714961171092\u001b[0m \t -3.262714961171092\n",
            "7      \t [-0.29437537  0.22893695]. \t  -3.699770211164928 \t -3.262714961171092\n",
            "8      \t [-0.65900369  0.34484853]. \t  -3.552196916694974 \t -3.262714961171092\n",
            "9      \t [-0.4281209   0.29265712]. \t  \u001b[92m-3.2357006031617184\u001b[0m \t -3.2357006031617184\n",
            "10     \t [-0.18743551  0.06172206]. \t  \u001b[92m-1.48070585630452\u001b[0m \t -1.48070585630452\n",
            "11     \t [-0.1495314   0.16864696]. \t  -3.461420340185132 \t -1.48070585630452\n",
            "12     \t [-0.1100914   0.37655619]. \t  -14.513668254421688 \t -1.48070585630452\n",
            "13     \t [-0.17900643  0.23056927]. \t  -5.331312334553493 \t -1.48070585630452\n",
            "14     \t [ 0.1127785  -0.18276447]. \t  -4.608540397360857 \t -1.48070585630452\n",
            "15     \t [-0.71042739  0.40842527]. \t  -3.8525805488439073 \t -1.48070585630452\n",
            "16     \t [-0.24692206  0.14429735]. \t  -2.2491509928589033 \t -1.48070585630452\n",
            "17     \t [-0.24709878  0.14461055]. \t  -2.253361531406623 \t -1.48070585630452\n",
            "18     \t [ 0.01918331 -0.19458119]. \t  -4.762519938925842 \t -1.48070585630452\n",
            "19     \t [-0.19745997  0.12298635]. \t  -2.1394417365769636 \t -1.48070585630452\n",
            "20     \t [-0.23751416  0.12781557]. \t  -2.0412743622267575 \t -1.48070585630452\n"
          ]
        }
      ],
      "source": [
        "### Bayesian optimisation runs (x20): 'GP' Acquisition Function run number = 7\n",
        "\n",
        "np.random.seed(run_num_7)\n",
        "surrogate_gp_7 = GaussianProcess(cov_func, optimize=hyperOpt)\n",
        "\n",
        "gp_7 = GPGO(surrogate_gp_7, Acquisition_new(util_gp), f_syn_polarity, param, n_jobs = -1) # define BayesOpt\n",
        "gp_7.run(max_iter = max_iter, init_evals = n_init) # run\n"
      ]
    },
    {
      "cell_type": "code",
      "execution_count": null,
      "metadata": {
        "id": "vHGwZn0qJLkz",
        "colab": {
          "base_uri": "https://localhost:8080/"
        },
        "outputId": "ed6d164e-cb45-4328-87c9-34e61f118c34"
      },
      "outputs": [
        {
          "output_type": "stream",
          "name": "stdout",
          "text": [
            "Evaluation \t Proposed point \t  Current eval. \t Best eval.\n",
            "init   \t [1.52956683 1.91914255]. \t  -17.95675982372887 \t -1.7663579664225912\n",
            "init   \t [1.51222084 0.12638491]. \t  -467.0068292530542 \t -1.7663579664225912\n",
            "init   \t [-1.09474477 -2.0013105 ]. \t  -1028.244988519411 \t -1.7663579664225912\n",
            "init   \t [-0.28479972 -0.39996883]. \t  -24.79447905426233 \t -1.7663579664225912\n",
            "init   \t [ 0.09287545 -0.0885072 ]. \t  -1.7663579664225912 \t -1.7663579664225912\n",
            "1      \t [-0.5484205   0.83252403]. \t  -30.67436767217976 \t -1.7663579664225912\n",
            "2      \t [-2.048  2.048]. \t  -469.9523900415999 \t -1.7663579664225912\n",
            "3      \t [ 2.048 -2.048]. \t  -3897.7342268415996 \t -1.7663579664225912\n",
            "4      \t [-0.36804767  0.37907426]. \t  -7.806389892032405 \t -1.7663579664225912\n",
            "5      \t [-0.36707244  0.37771432]. \t  -7.772433320629006 \t -1.7663579664225912\n",
            "6      \t [-0.36647378  0.37687622]. \t  -7.751425833891719 \t -1.7663579664225912\n",
            "7      \t [-0.37121485  0.03374371]. \t  -2.9630110560359437 \t -1.7663579664225912\n",
            "8      \t [-0.3724097   0.36383057]. \t  -6.952381518553585 \t -1.7663579664225912\n",
            "9      \t [-0.37217104  0.36295852]. \t  -6.920509295755855 \t -1.7663579664225912\n",
            "10     \t [-0.10074917  0.54708039]. \t  -30.04103066736991 \t -1.7663579664225912\n",
            "11     \t [-0.46789349  0.59285728]. \t  -16.137297024671295 \t -1.7663579664225912\n",
            "12     \t [-0.39693569  0.33890236]. \t  -5.240009075020503 \t -1.7663579664225912\n",
            "13     \t [-0.38668842  0.12987147]. \t  -1.9615424270273116 \t -1.7663579664225912\n",
            "14     \t [-0.50431885  0.48920769]. \t  -7.779375417773606 \t -1.7663579664225912\n",
            "15     \t [-0.62721546  0.32839185]. \t  -3.070426082812326 \t -1.7663579664225912\n",
            "16     \t [-0.19154322  0.14796364]. \t  -2.657984131009605 \t -1.7663579664225912\n",
            "17     \t [-0.17331136  0.18243612]. \t  -3.699213940944402 \t -1.7663579664225912\n",
            "18     \t [-0.34068023  0.11551123]. \t  -1.797453912937021 \t -1.7663579664225912\n",
            "19     \t [-0.35754263  0.65595169]. \t  -29.73346272056792 \t -1.7663579664225912\n",
            "20     \t [-0.62410421  0.5476889 ]. \t  -5.139895165473294 \t -1.7663579664225912\n"
          ]
        }
      ],
      "source": [
        "### Bayesian optimisation runs (x20): 'GP' Acquisition Function run number = 8\n",
        "\n",
        "np.random.seed(run_num_8)\n",
        "surrogate_gp_8 = GaussianProcess(cov_func, optimize=hyperOpt)\n",
        "\n",
        "gp_8 = GPGO(surrogate_gp_8, Acquisition_new(util_gp), f_syn_polarity, param, n_jobs = -1) # define BayesOpt\n",
        "gp_8.run(max_iter = max_iter, init_evals = n_init) # run\n"
      ]
    },
    {
      "cell_type": "code",
      "execution_count": null,
      "metadata": {
        "id": "YC6sxKgkJLkz",
        "colab": {
          "base_uri": "https://localhost:8080/"
        },
        "outputId": "748ec083-6888-431b-c0be-141c63ca334a"
      },
      "outputs": [
        {
          "output_type": "stream",
          "name": "stdout",
          "text": [
            "Evaluation \t Proposed point \t  Current eval. \t Best eval.\n",
            "init   \t [-2.00550747  0.00767833]. \t  -1620.5592513107108 \t -132.4681822844375\n",
            "init   \t [-0.01731259 -1.49983425]. \t  -226.0751192637302 \t -132.4681822844375\n",
            "init   \t [-1.46591299 -1.15278366]. \t  -1096.1928272344956 \t -132.4681822844375\n",
            "init   \t [-0.33379049 -1.03177761]. \t  -132.4681822844375 \t -132.4681822844375\n",
            "init   \t [-1.70369167 -0.63283757]. \t  -1257.2172959284223 \t -132.4681822844375\n",
            "1      \t [ 1.43961607 -0.0150298 ]. \t  -435.96900079793056 \t -132.4681822844375\n",
            "2      \t [0.649807   1.96060156]. \t  -236.77545230530336 \t -132.4681822844375\n",
            "3      \t [ 1.76903842 -2.01356585]. \t  -2645.700903057097 \t -132.4681822844375\n",
            "4      \t [-1.33262132  0.03398997]. \t  -308.85906115703335 \t -132.4681822844375\n",
            "5      \t [-0.89266997  1.95629202]. \t  -138.01053730864652 \t -132.4681822844375\n",
            "6      \t [1.97189655 1.69146074]. \t  -483.58825297038885 \t -132.4681822844375\n",
            "7      \t [-0.30574256 -1.50347844]. \t  -256.73211470422433 \t -132.4681822844375\n",
            "8      \t [-1.02797903 -0.22317715]. \t  -167.93171505128686 \t -132.4681822844375\n",
            "9      \t [-0.21672147  0.65370342]. \t  \u001b[92m-38.29317465585913\u001b[0m \t -38.29317465585913\n",
            "10     \t [-0.06707958  0.4035081 ]. \t  \u001b[92m-17.05943186888348\u001b[0m \t -17.05943186888348\n",
            "11     \t [0.16883241 0.15896192]. \t  \u001b[92m-2.39275651179314\u001b[0m \t -2.39275651179314\n",
            "12     \t [-0.1284428   0.35347259]. \t  -12.628600475731512 \t -2.39275651179314\n",
            "13     \t [-0.28925032  0.56697067]. \t  -25.02053125125799 \t -2.39275651179314\n",
            "14     \t [-0.03761733  0.40233732]. \t  -17.15051517828815 \t -2.39275651179314\n",
            "15     \t [0.04443021 0.11600383]. \t  \u001b[92m-2.2133927437836465\u001b[0m \t -2.2133927437836465\n",
            "16     \t [-0.1803797  0.430231 ]. \t  -17.209360551077495 \t -2.2133927437836465\n",
            "17     \t [-0.21214205  0.27846629]. \t  -6.919740809195033 \t -2.2133927437836465\n",
            "18     \t [-0.00712504  0.60091809]. \t  -37.11845533617206 \t -2.2133927437836465\n",
            "19     \t [-0.12660671  0.21112944]. \t  -5.0756505839427515 \t -2.2133927437836465\n",
            "20     \t [-0.02796145  0.62759412]. \t  -40.3460678982197 \t -2.2133927437836465\n"
          ]
        }
      ],
      "source": [
        "### Bayesian optimisation runs (x20): 'GP' Acquisition Function run number = 9\n",
        "\n",
        "np.random.seed(run_num_9)\n",
        "surrogate_gp_9 = GaussianProcess(cov_func, optimize=hyperOpt)\n",
        "\n",
        "gp_9 = GPGO(surrogate_gp_9, Acquisition_new(util_gp), f_syn_polarity, param, n_jobs = -1) # define BayesOpt\n",
        "gp_9.run(max_iter = max_iter, init_evals = n_init) # run\n"
      ]
    },
    {
      "cell_type": "code",
      "execution_count": null,
      "metadata": {
        "id": "P-0wfCEIJLk0",
        "colab": {
          "base_uri": "https://localhost:8080/"
        },
        "outputId": "d2b58551-f5ee-4f6a-af5a-89fa4a9a8e4f"
      },
      "outputs": [
        {
          "output_type": "stream",
          "name": "stdout",
          "text": [
            "Evaluation \t Proposed point \t  Current eval. \t Best eval.\n",
            "init   \t [ 1.11132935 -1.96300002]. \t  -1022.7666615237944 \t -26.382363522743674\n",
            "init   \t [0.54742317 1.0191007 ]. \t  -51.962573317574716 \t -26.382363522743674\n",
            "init   \t [-0.00611528 -1.12723294]. \t  -128.08610911295406 \t -26.382363522743674\n",
            "init   \t [-1.23673451  1.0671338 ]. \t  -26.382363522743674 \t -26.382363522743674\n",
            "init   \t [-1.35532201 -1.68616012]. \t  -1246.7412252563456 \t -26.382363522743674\n",
            "1      \t [2.048 2.048]. \t  -461.7603900415999 \t -26.382363522743674\n",
            "2      \t [-2.048  2.048]. \t  -469.9523900415999 \t -26.382363522743674\n",
            "3      \t [-1.17666036  0.52423499]. \t  -78.74853252469968 \t -26.382363522743674\n",
            "4      \t [2.03590511 0.06522454]. \t  -1665.4561164531221 \t -26.382363522743674\n",
            "5      \t [-0.31648524  1.00128321]. \t  -82.93491407808244 \t -26.382363522743674\n",
            "6      \t [-0.39088116  1.05199744]. \t  -82.79229737024147 \t -26.382363522743674\n",
            "7      \t [-0.03615648  1.8600867 ]. \t  -346.5797109830466 \t -26.382363522743674\n",
            "8      \t [-0.50251137  0.3427241 ]. \t  \u001b[92m-3.0712602457146376\u001b[0m \t -3.0712602457146376\n",
            "9      \t [-0.57770649  0.37866088]. \t  \u001b[92m-2.6909032447420254\u001b[0m \t -2.6909032447420254\n",
            "10     \t [-0.54293795  0.7783017 ]. \t  -25.75982447892277 \t -2.6909032447420254\n",
            "11     \t [-0.44192717  0.59858707]. \t  -18.343230513027883 \t -2.6909032447420254\n",
            "12     \t [-0.95668329  0.51911323]. \t  -19.52048213463877 \t -2.6909032447420254\n",
            "13     \t [-0.6057119   0.40221907]. \t  -2.7031468651569193 \t -2.6909032447420254\n",
            "14     \t [-0.16320618  0.36721656]. \t  -12.952542730327988 \t -2.6909032447420254\n",
            "15     \t [-0.54220882  0.50417993]. \t  -6.796371883069753 \t -2.6909032447420254\n",
            "16     \t [-0.50399811  0.63951716]. \t  -17.123272253016257 \t -2.6909032447420254\n",
            "17     \t [-0.75630146  0.24790327]. \t  -13.58793896346791 \t -2.6909032447420254\n",
            "18     \t [-0.6818937   0.41414871]. \t  -3.0871385121501294 \t -2.6909032447420254\n",
            "19     \t [-0.42312434  0.23735092]. \t  \u001b[92m-2.3653668563976717\u001b[0m \t -2.3653668563976717\n",
            "20     \t [-0.9008061   0.47178947]. \t  -15.150101700288456 \t -2.3653668563976717\n"
          ]
        }
      ],
      "source": [
        "### Bayesian optimisation runs (x20): 'GP' Acquisition Function run number = 10\n",
        "\n",
        "np.random.seed(run_num_10)\n",
        "surrogate_gp_10 = GaussianProcess(cov_func, optimize=hyperOpt)\n",
        "\n",
        "gp_10 = GPGO(surrogate_gp_10, Acquisition_new(util_gp), f_syn_polarity, param, n_jobs = -1) # define BayesOpt\n",
        "gp_10.run(max_iter = max_iter, init_evals = n_init) # run\n"
      ]
    },
    {
      "cell_type": "code",
      "execution_count": null,
      "metadata": {
        "id": "Z6wmPCIEJLk2",
        "colab": {
          "base_uri": "https://localhost:8080/"
        },
        "outputId": "dcb7006c-b349-4d5c-9c67-8cc6a4a149d5"
      },
      "outputs": [
        {
          "output_type": "stream",
          "name": "stdout",
          "text": [
            "Evaluation \t Proposed point \t  Current eval. \t Best eval.\n",
            "init   \t [-1.30961535 -1.96822941]. \t  -1362.0202619238294 \t -4.533376036769996\n",
            "init   \t [-0.15065692  0.92132937]. \t  -82.0779347186456 \t -4.533376036769996\n",
            "init   \t [-0.32684604 -0.05969061]. \t  -4.533376036769996 \t -4.533376036769996\n",
            "init   \t [-1.99564978 -0.0517259 ]. \t  -1636.5670319859503 \t -4.533376036769996\n",
            "init   \t [1.80964005 1.43685669]. \t  -338.45801473698816 \t -4.533376036769996\n",
            "1      \t [ 0.67330233 -0.25150168]. \t  -49.78635047431575 \t -4.533376036769996\n",
            "2      \t [ 2.048 -2.048]. \t  -3897.7342268415996 \t -4.533376036769996\n",
            "3      \t [0.33509285 0.32872082]. \t  -5.126451964511051 \t -4.533376036769996\n",
            "4      \t [0.46139379 0.16818261]. \t  \u001b[92m-0.48992007268940424\u001b[0m \t -0.48992007268940424\n",
            "5      \t [0.14435328 0.0798537 ]. \t  -1.0804180883634267 \t -0.48992007268940424\n",
            "6      \t [0.3336875  0.31973603]. \t  -4.786556440937172 \t -0.48992007268940424\n",
            "7      \t [0.33306802 0.31828844]. \t  -4.744372039836517 \t -0.48992007268940424\n",
            "8      \t [0.33262805 0.31726085]. \t  -4.714544183808528 \t -0.48992007268940424\n",
            "9      \t [0.6408888  0.34893828]. \t  -0.510887083095288 \t -0.48992007268940424\n",
            "10     \t [0.15902621 0.56172573]. \t  -29.483637566336544 \t -0.48992007268940424\n",
            "11     \t [0.53782909 0.17309484]. \t  -1.5630394847344409 \t -0.48992007268940424\n",
            "12     \t [0.54813493 0.03973074]. \t  -7.001734421127701 \t -0.48992007268940424\n",
            "13     \t [0.35057902 0.30041828]. \t  -3.5728207906320533 \t -0.48992007268940424\n",
            "14     \t [0.1428414  0.24336195]. \t  -5.705760460546289 \t -0.48992007268940424\n",
            "15     \t [0.34955495 0.32267053]. \t  -4.442376561068728 \t -0.48992007268940424\n",
            "16     \t [0.34941164 0.29890366]. \t  -3.5496257136817837 \t -0.48992007268940424\n",
            "17     \t [0.41892942 0.08667657]. \t  -1.1266362244396964 \t -0.48992007268940424\n",
            "18     \t [0.45473957 0.64031554]. \t  -19.091915033342683 \t -0.48992007268940424\n",
            "19     \t [0.59882497 0.56948326]. \t  -4.608481519328837 \t -0.48992007268940424\n",
            "20     \t [0.35354174 0.30027877]. \t  -3.49046199072367 \t -0.48992007268940424\n"
          ]
        }
      ],
      "source": [
        "### Bayesian optimisation runs (x20): 'GP' Acquisition Function run number = 11\n",
        "\n",
        "np.random.seed(run_num_11)\n",
        "surrogate_gp_11 = GaussianProcess(cov_func, optimize=hyperOpt)\n",
        "\n",
        "gp_11 = GPGO(surrogate_gp_11, Acquisition_new(util_gp), f_syn_polarity, param, n_jobs = -1) # define BayesOpt\n",
        "gp_11.run(max_iter = max_iter, init_evals = n_init) # run\n"
      ]
    },
    {
      "cell_type": "code",
      "execution_count": null,
      "metadata": {
        "id": "oNR6-n7iJLk3",
        "colab": {
          "base_uri": "https://localhost:8080/"
        },
        "outputId": "f0f48ca4-77aa-4e60-9488-57fc945e51a4"
      },
      "outputs": [
        {
          "output_type": "stream",
          "name": "stdout",
          "text": [
            "Evaluation \t Proposed point \t  Current eval. \t Best eval.\n",
            "init   \t [-1.416549    0.98324356]. \t  -110.56781423235984 \t -68.14456326432247\n",
            "init   \t [-0.9694617   0.13819656]. \t  -68.14456326432247 \t -68.14456326432247\n",
            "init   \t [-1.98830095  1.71518775]. \t  -509.86279959563035 \t -68.14456326432247\n",
            "init   \t [ 1.64132804 -1.91110583]. \t  -2121.0723550229873 \t -68.14456326432247\n",
            "init   \t [ 1.87166448 -1.48599062]. \t  -2489.890190157968 \t -68.14456326432247\n",
            "1      \t [-2.048 -2.048]. \t  -3905.9262268415996 \t -68.14456326432247\n",
            "2      \t [2.048 2.048]. \t  -461.7603900415999 \t -68.14456326432247\n",
            "3      \t [-0.26652566  0.77187775]. \t  \u001b[92m-50.72201406545141\u001b[0m \t -50.72201406545141\n",
            "4      \t [-0.15281669  0.82362294]. \t  -65.37219271231665 \t -50.72201406545141\n",
            "5      \t [-0.20933596  0.65019587]. \t  \u001b[92m-38.23147501880933\u001b[0m \t -38.23147501880933\n",
            "6      \t [-0.33081207  0.44778174]. \t  \u001b[92m-13.21880220617588\u001b[0m \t -13.21880220617588\n",
            "7      \t [-0.63400856  0.44223866]. \t  \u001b[92m-2.8321658385015542\u001b[0m \t -2.8321658385015542\n",
            "8      \t [-0.36748774  0.59946949]. \t  -23.438825830188065 \t -2.8321658385015542\n",
            "9      \t [-0.43706489  0.62492745]. \t  -20.892227105550273 \t -2.8321658385015542\n",
            "10     \t [-0.16066123  0.52342859]. \t  -26.109358418701476 \t -2.8321658385015542\n",
            "11     \t [-0.07546789  0.74771496]. \t  -56.21593364524319 \t -2.8321658385015542\n",
            "12     \t [-0.63208347  0.42272281]. \t  \u001b[92m-2.7174893362614037\u001b[0m \t -2.7174893362614037\n",
            "13     \t [-0.40184234  0.65657022]. \t  -26.47686512116079 \t -2.7174893362614037\n",
            "14     \t [-0.40565668  0.56528702]. \t  -18.034298164092803 \t -2.7174893362614037\n",
            "15     \t [-0.48471795  0.57267375]. \t  -13.61001979892677 \t -2.7174893362614037\n",
            "16     \t [-0.51736953  0.38775176]. \t  -3.7443437570529765 \t -2.7174893362614037\n",
            "17     \t [-0.53315119  0.45495132]. \t  -5.264440093287371 \t -2.7174893362614037\n",
            "18     \t [-0.60975522  0.71021452]. \t  -14.043653943356823 \t -2.7174893362614037\n",
            "19     \t [-0.54388897  0.28591795]. \t  \u001b[92m-2.3933887348401077\u001b[0m \t -2.3933887348401077\n",
            "20     \t [-0.36535535  0.24743611]. \t  -3.162691510348437 \t -2.3933887348401077\n"
          ]
        }
      ],
      "source": [
        "### Bayesian optimisation runs (x20): 'GP' Acquisition Function run number = 12\n",
        "\n",
        "np.random.seed(run_num_12)\n",
        "surrogate_gp_12 = GaussianProcess(cov_func, optimize=hyperOpt)\n",
        "\n",
        "gp_12 = GPGO(surrogate_gp_12, Acquisition_new(util_gp), f_syn_polarity, param, n_jobs = -1) # define BayesOpt\n",
        "gp_12.run(max_iter = max_iter, init_evals = n_init) # run\n"
      ]
    },
    {
      "cell_type": "code",
      "execution_count": null,
      "metadata": {
        "id": "z1CyiX30JLk4",
        "colab": {
          "base_uri": "https://localhost:8080/"
        },
        "outputId": "d365a5b6-d6b2-4b68-e98f-fb633bbd7efa"
      },
      "outputs": [
        {
          "output_type": "stream",
          "name": "stdout",
          "text": [
            "Evaluation \t Proposed point \t  Current eval. \t Best eval.\n",
            "init   \t [ 1.13746907 -1.07503116]. \t  -561.1720108286133 \t -2.166231627813885\n",
            "init   \t [1.32824487 1.90770872]. \t  -2.166231627813885 \t -2.166231627813885\n",
            "init   \t [ 1.93577416 -0.19067188]. \t  -1551.5761879230556 \t -2.166231627813885\n",
            "init   \t [0.44663793 1.1285566 ]. \t  -86.6235326520391 \t -2.166231627813885\n",
            "init   \t [0.58004826 0.90938667]. \t  -33.00131633274188 \t -2.166231627813885\n",
            "1      \t [0.19520357 2.048     ]. \t  -404.6157157112449 \t -2.166231627813885\n",
            "2      \t [-2.048      -0.34127747]. \t  -2066.4402301214827 \t -2.166231627813885\n",
            "3      \t [ 0.12352356 -2.03393834]. \t  -420.6888034849846 \t -2.166231627813885\n",
            "4      \t [-0.41524763  1.07524635]. \t  -83.51055543315252 \t -2.166231627813885\n",
            "5      \t [1.7548316  1.99858258]. \t  -117.39373499015568 \t -2.166231627813885\n",
            "6      \t [2.00770428 0.63921124]. \t  -1151.3547781127545 \t -2.166231627813885\n",
            "7      \t [1.517846   1.74435562]. \t  -31.57228594335722 \t -2.166231627813885\n",
            "8      \t [ 0.96556905 -0.63819689]. \t  -246.65464691201817 \t -2.166231627813885\n",
            "9      \t [ 0.58678078 -1.81357919]. \t  -465.8200512077586 \t -2.166231627813885\n",
            "10     \t [1.87602237 1.04819478]. \t  -611.4825645920617 \t -2.166231627813885\n",
            "11     \t [1.74355622 1.57604276]. \t  -214.86652942076827 \t -2.166231627813885\n",
            "12     \t [-1.99215326  1.98547401]. \t  -402.26144955986825 \t -2.166231627813885\n",
            "13     \t [0.65923755 0.19512173]. \t  -5.850822825316597 \t -2.166231627813885\n",
            "14     \t [ 0.23948793 -0.0707466 ]. \t  -2.2193669069308277 \t -2.166231627813885\n",
            "15     \t [0.09068805 0.40299901]. \t  -16.411553610915 \t -2.166231627813885\n",
            "16     \t [0.16360855 0.19778794]. \t  -3.6243409248112157 \t -2.166231627813885\n",
            "17     \t [0.0926717  0.40373669]. \t  -16.437489814438962 \t -2.166231627813885\n",
            "18     \t [0.0940399 0.4050467]. \t  -16.51846133048838 \t -2.166231627813885\n",
            "19     \t [-0.03874766  0.63869426]. \t  -41.68047376606407 \t -2.166231627813885\n",
            "20     \t [0.08714943 0.86086967]. \t  -73.64105844096254 \t -2.166231627813885\n"
          ]
        }
      ],
      "source": [
        "### Bayesian optimisation runs (x20): 'GP' Acquisition Function run number = 13\n",
        "\n",
        "np.random.seed(run_num_13)\n",
        "surrogate_gp_13 = GaussianProcess(cov_func, optimize=hyperOpt)\n",
        "\n",
        "gp_13 = GPGO(surrogate_gp_13, Acquisition_new(util_gp), f_syn_polarity, param, n_jobs = -1) # define BayesOpt\n",
        "gp_13.run(max_iter = max_iter, init_evals = n_init) # run\n"
      ]
    },
    {
      "cell_type": "code",
      "execution_count": null,
      "metadata": {
        "id": "Dx5l3xHMJLk5",
        "colab": {
          "base_uri": "https://localhost:8080/"
        },
        "outputId": "7235b032-c91a-46e3-f746-9f8daf8679bc"
      },
      "outputs": [
        {
          "output_type": "stream",
          "name": "stdout",
          "text": [
            "Evaluation \t Proposed point \t  Current eval. \t Best eval.\n",
            "init   \t [0.05711194 1.11888405]. \t  -125.35034508047823 \t -56.7252447162893\n",
            "init   \t [ 1.5172718 -2.0150397]. \t  -1864.0489319378007 \t -56.7252447162893\n",
            "init   \t [-0.77932165  1.87434492]. \t  -163.6955655658878 \t -56.7252447162893\n",
            "init   \t [ 0.05372605 -0.744307  ]. \t  -56.7252447162893 \t -56.7252447162893\n",
            "init   \t [ 0.16056294 -1.14173976]. \t  -137.01499974575526 \t -56.7252447162893\n",
            "1      \t [-1.8555373  -1.21491847]. \t  -2177.791937514941 \t -56.7252447162893\n",
            "2      \t [2.048 2.048]. \t  -461.7603900415999 \t -56.7252447162893\n",
            "3      \t [-2.01372988  1.35992668]. \t  -735.4828082636033 \t -56.7252447162893\n",
            "4      \t [0.41569504 0.07851691]. \t  \u001b[92m-1.2303869743266953\u001b[0m \t -1.2303869743266953\n",
            "5      \t [0.52544163 0.07354274]. \t  -4.327700586521619 \t -1.2303869743266953\n",
            "6      \t [0.63152456 0.25438824]. \t  -2.2219221800240576 \t -1.2303869743266953\n",
            "7      \t [0.49333102 0.1573701 ]. \t  \u001b[92m-0.9964061942938153\u001b[0m \t -0.9964061942938153\n",
            "8      \t [0.4230998  0.02502394]. \t  -2.704090555599721 \t -0.9964061942938153\n",
            "9      \t [0.32273287 0.14652587]. \t  \u001b[92m-0.6382070091110164\u001b[0m \t -0.6382070091110164\n",
            "10     \t [0.4413193  0.07919874]. \t  -1.6476276833476593 \t -0.6382070091110164\n",
            "11     \t [ 0.46771234 -0.22884672]. \t  -20.31804533044892 \t -0.6382070091110164\n",
            "12     \t [ 0.60825933 -0.06057785]. \t  -18.69141606823923 \t -0.6382070091110164\n",
            "13     \t [0.39091018 0.22993049]. \t  -0.9657355620882946 \t -0.6382070091110164\n",
            "14     \t [0.31395935 0.19736254]. \t  -1.4466390004655785 \t -0.6382070091110164\n",
            "15     \t [0.42762583 0.08769112]. \t  -1.2333970445249585 \t -0.6382070091110164\n",
            "16     \t [0.42737485 0.08771917]. \t  -1.229071719850945 \t -0.6382070091110164\n",
            "17     \t [0.4271411  0.08766129]. \t  -1.226648069315838 \t -0.6382070091110164\n",
            "18     \t [0.72675112 0.21722127]. \t  -9.743401085990985 \t -0.6382070091110164\n",
            "19     \t [0.63880413 0.33429004]. \t  -0.6748212214568726 \t -0.6382070091110164\n",
            "20     \t [0.4379936  0.09711862]. \t  -1.2130347238553387 \t -0.6382070091110164\n"
          ]
        }
      ],
      "source": [
        "### Bayesian optimisation runs (x20): 'GP' Acquisition Function run number = 14\n",
        "\n",
        "np.random.seed(run_num_14)\n",
        "surrogate_gp_14 = GaussianProcess(cov_func, optimize=hyperOpt)\n",
        "\n",
        "gp_14 = GPGO(surrogate_gp_14, Acquisition_new(util_gp), f_syn_polarity, param, n_jobs = -1) # define BayesOpt\n",
        "gp_14.run(max_iter = max_iter, init_evals = n_init) # run\n"
      ]
    },
    {
      "cell_type": "code",
      "execution_count": null,
      "metadata": {
        "id": "mNCLg6LHJLk6",
        "colab": {
          "base_uri": "https://localhost:8080/"
        },
        "outputId": "9f443bfd-4d2a-44eb-92b8-6eca56b572b2"
      },
      "outputs": [
        {
          "output_type": "stream",
          "name": "stdout",
          "text": [
            "Evaluation \t Proposed point \t  Current eval. \t Best eval.\n",
            "init   \t [ 1.42875729 -1.31524229]. \t  -1126.8532605124637 \t -56.02298763074632\n",
            "init   \t [-1.82532827 -0.56713852]. \t  -1528.1728177033635 \t -56.02298763074632\n",
            "init   \t [-0.9199578   0.12288092]. \t  -56.02298763074632 \t -56.02298763074632\n",
            "init   \t [-0.79495612 -0.80087302]. \t  -208.52154958515655 \t -56.02298763074632\n",
            "init   \t [-1.59030773 -1.02441364]. \t  -1269.4404638957562 \t -56.02298763074632\n",
            "1      \t [-0.25896001  0.46628132]. \t  \u001b[92m-17.522723831062574\u001b[0m \t -17.522723831062574\n",
            "2      \t [-0.29046513  0.45840293]. \t  \u001b[92m-15.655364326048161\u001b[0m \t -15.655364326048161\n",
            "3      \t [-0.88757809  1.27875231]. \t  -27.66687187085138 \t -15.655364326048161\n",
            "4      \t [2.048 2.048]. \t  -461.7603900415999 \t -15.655364326048161\n",
            "5      \t [-2.048  2.048]. \t  -469.9523900415999 \t -15.655364326048161\n",
            "6      \t [-0.21863239  0.31313366]. \t  \u001b[92m-8.525253478037605\u001b[0m \t -8.525253478037605\n",
            "7      \t [-0.26913121  0.40160538]. \t  -12.446231416209436 \t -8.525253478037605\n",
            "8      \t [-0.36370358  0.55806908]. \t  -19.98929623298912 \t -8.525253478037605\n",
            "9      \t [-0.1492204  0.1520566]. \t  \u001b[92m-3.0052486807806202\u001b[0m \t -3.0052486807806202\n",
            "10     \t [-0.14635115  0.14544692]. \t  \u001b[92m-2.8524220061297907\u001b[0m \t -2.8524220061297907\n",
            "11     \t [-0.14403691  0.1400998 ]. \t  \u001b[92m-2.7333382352144375\u001b[0m \t -2.7333382352144375\n",
            "12     \t [-0.14226223  0.13595182]. \t  \u001b[92m-2.6437193401995116\u001b[0m \t -2.6437193401995116\n",
            "13     \t [-0.14084321  0.13261667]. \t  \u001b[92m-2.5734529292309754\u001b[0m \t -2.5734529292309754\n",
            "14     \t [0.10994981 1.87760881]. \t  -348.80861971415294 \t -2.5734529292309754\n",
            "15     \t [-0.02568308  0.24048957]. \t  -6.803866095607212 \t -2.5734529292309754\n",
            "16     \t [-0.15743681  0.09810043]. \t  \u001b[92m-1.8771553936166516\u001b[0m \t -1.8771553936166516\n",
            "17     \t [-0.15722108  0.0976249 ]. \t  \u001b[92m-1.8706953840556575\u001b[0m \t -1.8706953840556575\n",
            "18     \t [-0.15704049  0.09722644]. \t  \u001b[92m-1.8653065775209883\u001b[0m \t -1.8653065775209883\n",
            "19     \t [-0.15688677  0.09688732]. \t  \u001b[92m-1.8607380922318022\u001b[0m \t -1.8607380922318022\n",
            "20     \t [-0.39866087  0.41437224]. \t  -8.481301008510334 \t -1.8607380922318022\n"
          ]
        }
      ],
      "source": [
        "### Bayesian optimisation runs (x20): 'GP' Acquisition Function run number = 15\n",
        "\n",
        "np.random.seed(run_num_15)\n",
        "surrogate_gp_15 = GaussianProcess(cov_func, optimize=hyperOpt)\n",
        "\n",
        "gp_15 = GPGO(surrogate_gp_15, Acquisition_new(util_gp), f_syn_polarity, param, n_jobs = -1) # define BayesOpt\n",
        "gp_15.run(max_iter = max_iter, init_evals = n_init) # run\n"
      ]
    },
    {
      "cell_type": "code",
      "execution_count": null,
      "metadata": {
        "id": "5xwjkr9RJLk6",
        "colab": {
          "base_uri": "https://localhost:8080/"
        },
        "outputId": "dc770670-df2b-41f5-c8cd-ffa3df64b1e9"
      },
      "outputs": [
        {
          "output_type": "stream",
          "name": "stdout",
          "text": [
            "Evaluation \t Proposed point \t  Current eval. \t Best eval.\n",
            "init   \t [-1.13339974  0.09487705]. \t  -146.09426826423262 \t -146.09426826423262\n",
            "init   \t [ 0.20767317 -1.86121441]. \t  -363.27983894611043 \t -146.09426826423262\n",
            "init   \t [-0.57045469 -1.13426046]. \t  -215.5326110993483 \t -146.09426826423262\n",
            "init   \t [ 0.77302236 -1.37735608]. \t  -390.08228141599125 \t -146.09426826423262\n",
            "init   \t [-1.75994935  1.80638048]. \t  -174.29606237276562 \t -146.09426826423262\n",
            "1      \t [2.048 2.048]. \t  -461.7603900415999 \t -146.09426826423262\n",
            "2      \t [-2.04798177 -1.8753763 ]. \t  -3693.301457555003 \t -146.09426826423262\n",
            "3      \t [0.38005433 0.74517607]. \t  \u001b[92m-36.472559318271706\u001b[0m \t -36.472559318271706\n",
            "4      \t [-0.22098274  1.94087324]. \t  -359.47228643134304 \t -36.472559318271706\n",
            "5      \t [1.82318287 0.28880685]. \t  -921.9148215197143 \t -36.472559318271706\n",
            "6      \t [-0.09258787  0.36934485]. \t  \u001b[92m-14.20941604237079\u001b[0m \t -14.20941604237079\n",
            "7      \t [-0.42633973  0.41728324]. \t  \u001b[92m-7.581302567056827\u001b[0m \t -7.581302567056827\n",
            "8      \t [-0.24958492  0.2100957 ]. \t  \u001b[92m-3.7460370355212538\u001b[0m \t -3.7460370355212538\n",
            "9      \t [-0.17437386 -0.01111592]. \t  \u001b[92m-1.551563031188927\u001b[0m \t -1.551563031188927\n",
            "10     \t [-0.3877512   0.30761675]. \t  -4.399105075698802 \t -1.551563031188927\n",
            "11     \t [-0.15207225  0.21163394]. \t  -4.880795857382473 \t -1.551563031188927\n",
            "12     \t [-0.33019782  0.09263553]. \t  -1.7963060491533094 \t -1.551563031188927\n",
            "13     \t [-0.42289733  0.29416347]. \t  -3.3545373738485162 \t -1.551563031188927\n",
            "14     \t [-0.4717523   0.48687903]. \t  -9.153026077507182 \t -1.551563031188927\n",
            "15     \t [-0.30820363  0.20323062]. \t  -2.883011223543697 \t -1.551563031188927\n",
            "16     \t [-0.21058749  0.15056963]. \t  -2.593844791723237 \t -1.551563031188927\n",
            "17     \t [-0.1668149   0.30475852]. \t  -9.030551894651795 \t -1.551563031188927\n",
            "18     \t [-0.27696696  0.0649006 ]. \t  -1.6445924752485812 \t -1.551563031188927\n",
            "19     \t [-0.30623857  0.19865261]. \t  -2.806042339371092 \t -1.551563031188927\n",
            "20     \t [-0.30625199  0.19846529]. \t  -2.801980088522046 \t -1.551563031188927\n"
          ]
        }
      ],
      "source": [
        "### Bayesian optimisation runs (x20): 'GP' Acquisition Function run number = 16\n",
        "\n",
        "np.random.seed(run_num_16)\n",
        "surrogate_gp_16 = GaussianProcess(cov_func, optimize=hyperOpt)\n",
        "\n",
        "gp_16 = GPGO(surrogate_gp_16, Acquisition_new(util_gp), f_syn_polarity, param, n_jobs = -1) # define BayesOpt\n",
        "gp_16.run(max_iter = max_iter, init_evals = n_init) # run\n"
      ]
    },
    {
      "cell_type": "code",
      "execution_count": null,
      "metadata": {
        "id": "zbpfP0FWJLk7",
        "colab": {
          "base_uri": "https://localhost:8080/"
        },
        "outputId": "cd230e84-7bcd-439c-ca8a-e75594181824"
      },
      "outputs": [
        {
          "output_type": "stream",
          "name": "stdout",
          "text": [
            "Evaluation \t Proposed point \t  Current eval. \t Best eval.\n",
            "init   \t [-0.84105215  0.12528335]. \t  -37.27181038922863 \t -0.19652774971866602\n",
            "init   \t [-1.26353086 -1.76988013]. \t  -1138.381976578598 \t -0.19652774971866602\n",
            "init   \t [1.17549244 0.64034211]. \t  -55.004181467935105 \t -0.19652774971866602\n",
            "init   \t [0.56328559 0.30966945]. \t  -0.19652774971866602 \t -0.19652774971866602\n",
            "init   \t [-1.8879983  -0.58239548]. \t  -1728.0458971940702 \t -0.19652774971866602\n",
            "1      \t [-0.19186371  1.09890031]. \t  -114.22376393941536 \t -0.19652774971866602\n",
            "2      \t [ 2.048 -2.048]. \t  -3897.7342268415996 \t -0.19652774971866602\n",
            "3      \t [1.76547411 2.00100021]. \t  -125.10892418336189 \t -0.19652774971866602\n",
            "4      \t [0.46177927 0.4722786 ]. \t  -6.999776398665627 \t -0.19652774971866602\n",
            "5      \t [0.16341285 0.57561025]. \t  -30.829711326298284 \t -0.19652774971866602\n",
            "6      \t [0.04864172 0.7449584 ]. \t  -56.0494267622846 \t -0.19652774971866602\n",
            "7      \t [-0.0138358   0.67326891]. \t  -46.331192682516615 \t -0.19652774971866602\n",
            "8      \t [-1.64966776  2.03051572]. \t  -54.75336203335861 \t -0.19652774971866602\n",
            "9      \t [0.39105534 0.72430536]. \t  -33.01844812088945 \t -0.19652774971866602\n",
            "10     \t [0.11169996 0.7836162 ]. \t  -60.25466282573169 \t -0.19652774971866602\n",
            "11     \t [0.49353867 0.39846799]. \t  -2.655518847478034 \t -0.19652774971866602\n",
            "12     \t [0.50426256 0.48761071]. \t  -5.690043308255317 \t -0.19652774971866602\n",
            "13     \t [-0.05415608  0.52827336]. \t  -28.70950717208269 \t -0.19652774971866602\n",
            "14     \t [0.34718293 0.48022327]. \t  -13.363664832815001 \t -0.19652774971866602\n",
            "15     \t [0.42782934 0.52238148]. \t  -11.84278279204181 \t -0.19652774971866602\n",
            "16     \t [0.54590033 0.35632314]. \t  -0.5462818256794953 \t -0.19652774971866602\n",
            "17     \t [0.0280447  0.51204515]. \t  -27.083237758168956 \t -0.19652774971866602\n",
            "18     \t [0.65979158 0.51636926]. \t  -0.7725602341524541 \t -0.19652774971866602\n",
            "19     \t [0.33352651 0.38125443]. \t  -7.734969950776354 \t -0.19652774971866602\n",
            "20     \t [0.16811096 0.29529543]. \t  -7.822762331127984 \t -0.19652774971866602\n"
          ]
        }
      ],
      "source": [
        "### Bayesian optimisation runs (x20): 'GP' Acquisition Function run number = 17\n",
        "\n",
        "np.random.seed(run_num_17)\n",
        "surrogate_gp_17 = GaussianProcess(cov_func, optimize=hyperOpt)\n",
        "\n",
        "gp_17 = GPGO(surrogate_gp_17, Acquisition_new(util_gp), f_syn_polarity, param, n_jobs = -1) # define BayesOpt\n",
        "gp_17.run(max_iter = max_iter, init_evals = n_init) # run\n"
      ]
    },
    {
      "cell_type": "code",
      "execution_count": null,
      "metadata": {
        "id": "1d-1rDI5JLk8",
        "colab": {
          "base_uri": "https://localhost:8080/"
        },
        "outputId": "25e75cc6-5811-473c-8fc4-fcf41fc24ab4"
      },
      "outputs": [
        {
          "output_type": "stream",
          "name": "stdout",
          "text": [
            "Evaluation \t Proposed point \t  Current eval. \t Best eval.\n",
            "init   \t [0.61593289 0.02233702]. \t  -12.895000300241685 \t -12.895000300241685\n",
            "init   \t [ 1.55075162 -1.30318244]. \t  -1375.2393970855524 \t -12.895000300241685\n",
            "init   \t [1.44274665 1.02455823]. \t  -111.91239818238155 \t -12.895000300241685\n",
            "init   \t [0.68035243 1.99841976]. \t  -235.89058418537797 \t -12.895000300241685\n",
            "init   \t [-0.99545734 -1.93205893]. \t  -858.3713873043706 \t -12.895000300241685\n",
            "1      \t [-2.048       1.41633307]. \t  -781.0025505249776 \t -12.895000300241685\n",
            "2      \t [0.31647942 0.43814362]. \t  \u001b[92m-11.89054553640763\u001b[0m \t -11.89054553640763\n",
            "3      \t [0.38067933 0.76346784]. \t  -38.644102426085354 \t -11.89054553640763\n",
            "4      \t [0.31480693 0.79289945]. \t  -48.60478588824291 \t -11.89054553640763\n",
            "5      \t [0.4965373  0.73450353]. \t  -24.063408665066657 \t -11.89054553640763\n",
            "6      \t [0.49743321 0.71061001]. \t  -21.70523800371376 \t -11.89054553640763\n",
            "7      \t [0.38945748 0.63591972]. \t  -23.82185137299872 \t -11.89054553640763\n",
            "8      \t [0.31863511 0.59149179]. \t  -24.47067703176053 \t -11.89054553640763\n",
            "9      \t [0.03768604 0.51634518]. \t  -27.440817602763783 \t -11.89054553640763\n",
            "10     \t [0.05178716 0.4818356 ]. \t  -23.857933531699437 \t -11.89054553640763\n",
            "11     \t [0.56251017 0.4866363 ]. \t  \u001b[92m-3.088834870327956\u001b[0m \t -3.088834870327956\n",
            "12     \t [0.10896891 0.35966126]. \t  -12.889518602323353 \t -3.088834870327956\n",
            "13     \t [0.52525002 0.72639252]. \t  -20.520857597393363 \t -3.088834870327956\n",
            "14     \t [0.15003639 0.63630686]. \t  -38.39698359955077 \t -3.088834870327956\n",
            "15     \t [-0.00552239  0.44530568]. \t  -20.838074412274 \t -3.088834870327956\n",
            "16     \t [0.23602654 0.48263748]. \t  -18.81048859646346 \t -3.088834870327956\n",
            "17     \t [0.1767872  0.57890755]. \t  -30.67015225538079 \t -3.088834870327956\n",
            "18     \t [0.55844066 0.62677339]. \t  -10.112272907443591 \t -3.088834870327956\n",
            "19     \t [0.10230886 0.4397501 ]. \t  -19.234238600129316 \t -3.088834870327956\n",
            "20     \t [0.57490127 0.62698516]. \t  -8.970373941328967 \t -3.088834870327956\n"
          ]
        }
      ],
      "source": [
        "### Bayesian optimisation runs (x20): 'GP' Acquisition Function run number = 18\n",
        "\n",
        "np.random.seed(run_num_18)\n",
        "surrogate_gp_18 = GaussianProcess(cov_func, optimize=hyperOpt)\n",
        "\n",
        "gp_18 = GPGO(surrogate_gp_18, Acquisition_new(util_gp), f_syn_polarity, param, n_jobs = -1) # define BayesOpt\n",
        "gp_18.run(max_iter = max_iter, init_evals = n_init) # run\n"
      ]
    },
    {
      "cell_type": "code",
      "execution_count": null,
      "metadata": {
        "id": "E7485DWlJLk8",
        "colab": {
          "base_uri": "https://localhost:8080/"
        },
        "outputId": "29fb955e-8d1d-4c1e-abfc-2d95e7f15998"
      },
      "outputs": [
        {
          "output_type": "stream",
          "name": "stdout",
          "text": [
            "Evaluation \t Proposed point \t  Current eval. \t Best eval.\n",
            "init   \t [-1.64850237  1.07007884]. \t  -278.43400025820534 \t -57.78708636899354\n",
            "init   \t [-1.03654206 -1.48221261]. \t  -657.7842496298689 \t -57.78708636899354\n",
            "init   \t [-0.69039488 -1.70803378]. \t  -480.139610337942 \t -57.78708636899354\n",
            "init   \t [0.70441812 1.2558082 ]. \t  -57.78708636899354 \t -57.78708636899354\n",
            "init   \t [1.97731088 0.55566637]. \t  -1125.9484203106679 \t -57.78708636899354\n",
            "1      \t [ 2.048 -2.048]. \t  -3897.7342268415996 \t -57.78708636899354\n",
            "2      \t [-0.45533563  1.72168138]. \t  -231.44384875314108 \t -57.78708636899354\n",
            "3      \t [-0.60938349  1.82190652]. \t  -213.0020482872216 \t -57.78708636899354\n",
            "4      \t [-1.55195522 -1.45872848]. \t  -1502.1083655717082 \t -57.78708636899354\n",
            "5      \t [-0.47549141  1.48710475]. \t  -161.19237080425668 \t -57.78708636899354\n",
            "6      \t [-0.61072714 -0.96535281]. \t  -181.70995647251598 \t -57.78708636899354\n",
            "7      \t [ 0.61179816 -1.60214933]. \t  -390.7847050291883 \t -57.78708636899354\n",
            "8      \t [-0.03497897  0.07523314]. \t  \u001b[92m-1.6189237436263006\u001b[0m \t -1.6189237436263006\n",
            "9      \t [ 0.13594252 -0.096407  ]. \t  -2.066506186971618 \t -1.6189237436263006\n",
            "10     \t [-0.11414528  0.14337861]. \t  -2.940418135543937 \t -1.6189237436263006\n",
            "11     \t [-0.05718284  0.07049664]. \t  \u001b[92m-1.56957937251298\u001b[0m \t -1.56957937251298\n",
            "12     \t [-0.05045874  0.1346962 ]. \t  -2.8498288836526804 \t -1.56957937251298\n",
            "13     \t [-0.06181803  0.05673822]. \t  \u001b[92m-1.4074757708091588\u001b[0m \t -1.4074757708091588\n",
            "14     \t [ 0.06929702 -0.04674515]. \t  \u001b[92m-1.1319196559062108\u001b[0m \t -1.1319196559062108\n",
            "15     \t [0.00190528 0.10442692]. \t  -2.086615389176442 \t -1.1319196559062108\n",
            "16     \t [-0.11366788 -0.1013828 ]. \t  -2.5467780643706908 \t -1.1319196559062108\n",
            "17     \t [-0.2077052   0.13448277]. \t  -2.2928755944312864 \t -1.1319196559062108\n",
            "18     \t [-0.21172488 -0.35878648]. \t  -17.758695929095165 \t -1.1319196559062108\n",
            "19     \t [ 0.15504802 -0.2855694 ]. \t  -10.299734855050698 \t -1.1319196559062108\n",
            "20     \t [-0.2209285  -0.01185068]. \t  -1.8586308883084617 \t -1.1319196559062108\n"
          ]
        }
      ],
      "source": [
        "### Bayesian optimisation runs (x20): 'GP' Acquisition Function run number = 19\n",
        "\n",
        "np.random.seed(run_num_19)\n",
        "surrogate_gp_19 = GaussianProcess(cov_func, optimize=hyperOpt)\n",
        "\n",
        "gp_19 = GPGO(surrogate_gp_19, Acquisition_new(util_gp), f_syn_polarity, param, n_jobs = -1) # define BayesOpt\n",
        "gp_19.run(max_iter = max_iter, init_evals = n_init) # run\n"
      ]
    },
    {
      "cell_type": "code",
      "execution_count": null,
      "metadata": {
        "id": "v9oZm6NvJLk9",
        "colab": {
          "base_uri": "https://localhost:8080/"
        },
        "outputId": "384c672a-b2cb-4bac-f732-ed5c085ee9fc"
      },
      "outputs": [
        {
          "output_type": "stream",
          "name": "stdout",
          "text": [
            "Evaluation \t Proposed point \t  Current eval. \t Best eval.\n",
            "init   \t [0.36098376 1.62903543]. \t  -225.0263501192369 \t -5.168692520381821\n",
            "init   \t [1.60370987 1.29367031]. \t  -163.7478327754951 \t -5.168692520381821\n",
            "init   \t [-1.90099626  0.78543905]. \t  -808.3708592256118 \t -5.168692520381821\n",
            "init   \t [-0.49692286  0.07582083]. \t  -5.168692520381821 \t -5.168692520381821\n",
            "init   \t [ 0.6469692  -1.25398951]. \t  -279.86987688431674 \t -5.168692520381821\n",
            "1      \t [-2.048 -2.048]. \t  -3905.9262268415996 \t -5.168692520381821\n",
            "2      \t [ 1.84910607 -0.08772475]. \t  -1230.5683726427526 \t -5.168692520381821\n",
            "3      \t [ 0.42886728 -0.39777083]. \t  -34.16344597641934 \t -5.168692520381821\n",
            "4      \t [-0.23432436  0.22102855]. \t  \u001b[92m-4.283163303783041\u001b[0m \t -4.283163303783041\n",
            "5      \t [-0.17676039  0.26360083]. \t  -6.783723899179961 \t -4.283163303783041\n",
            "6      \t [-0.05761396  0.0677519 ]. \t  \u001b[92m-1.5337024247364355\u001b[0m \t -1.5337024247364355\n",
            "7      \t [-0.29261363 -0.27876114]. \t  -14.948410540645884 \t -1.5337024247364355\n",
            "8      \t [-0.28069695 -0.01775909]. \t  -2.5723723856567227 \t -1.5337024247364355\n",
            "9      \t [0.02278485 0.41141662]. \t  -17.838622743475398 \t -1.5337024247364355\n",
            "10     \t [-0.08078682  0.1103848 ]. \t  -2.2467545668919824 \t -1.5337024247364355\n",
            "11     \t [-0.07097496  0.12901286]. \t  -2.6839776249322904 \t -1.5337024247364355\n",
            "12     \t [-0.11042427  0.13695561]. \t  -2.789600070511013 \t -1.5337024247364355\n",
            "13     \t [-0.30875139  0.18205523]. \t  -2.4650014959790107 \t -1.5337024247364355\n",
            "14     \t [-0.11544859  0.29839084]. \t  -9.370286321599947 \t -1.5337024247364355\n",
            "15     \t [-0.15812238  0.02013383]. \t  \u001b[92m-1.3436180315735078\u001b[0m \t -1.3436180315735078\n",
            "16     \t [-0.15827715  0.01904764]. \t  -1.3452107796242734 \t -1.3436180315735078\n",
            "17     \t [-0.34811222  0.033876  ]. \t  -2.5796423811062446 \t -1.3436180315735078\n",
            "18     \t [-0.25003196 -0.32675501]. \t  -16.715770462582956 \t -1.3436180315735078\n",
            "19     \t [-0.1628234   0.00631783]. \t  -1.3929365425192948 \t -1.3436180315735078\n",
            "20     \t [-0.33551657  0.2186159 ]. \t  -2.9081486869537185 \t -1.3436180315735078\n"
          ]
        }
      ],
      "source": [
        "### Bayesian optimisation runs (x20): 'GP' Acquisition Function run number = 20\n",
        "\n",
        "np.random.seed(run_num_20)\n",
        "surrogate_gp_20 = GaussianProcess(cov_func, optimize=hyperOpt)\n",
        "\n",
        "gp_20 = GPGO(surrogate_gp_20, Acquisition_new(util_gp), f_syn_polarity, param, n_jobs = -1) # define BayesOpt\n",
        "gp_20.run(max_iter = max_iter, init_evals = n_init) # run\n"
      ]
    },
    {
      "cell_type": "code",
      "execution_count": null,
      "metadata": {
        "id": "m3W7oEVSJLk9",
        "colab": {
          "base_uri": "https://localhost:8080/"
        },
        "outputId": "1fcd83e0-22fb-4d53-f8ce-d7726926de99"
      },
      "outputs": [
        {
          "output_type": "stream",
          "name": "stdout",
          "text": [
            "Evaluation \t Proposed point \t  Current eval. \t Best eval.\n",
            "init   \t [-0.33987787  0.90244913]. \t  -63.72149506568065 \t -2.0636815813193974\n",
            "init   \t [-2.04753152 -0.80964578]. \t  -2511.318971868364 \t -2.0636815813193974\n",
            "init   \t [-1.44688787 -1.66978112]. \t  -1422.2040787100386 \t -2.0636815813193974\n",
            "init   \t [-1.28507817 -0.63258326]. \t  -526.8913737894474 \t -2.0636815813193974\n",
            "init   \t [-0.42284043  0.15899334]. \t  -2.0636815813193974 \t -2.0636815813193974\n",
            "1      \t [ 1.42184489 -0.49163317]. \t  -631.8336124246601 \t -2.0636815813193974\n",
            "2      \t [2.048 2.048]. \t  -461.7603900415999 \t -2.0636815813193974\n",
            "3      \t [-2.048  2.048]. \t  -469.9523900415999 \t -2.0636815813193974\n",
            "4      \t [ 2.048 -2.048]. \t  -3897.7342268415996 \t -2.0636815813193974\n",
            "5      \t [0.15373803 2.048     ]. \t  -410.5213702989926 \t -2.0636815813193974\n",
            "6      \t [0.75216489 0.60299693]. \t  \u001b[92m-0.2001406435232961\u001b[0m \t -0.2001406435232961\n",
            "7      \t [2.048      0.71933353]. \t  -1208.640282775604 \t -0.2001406435232961\n",
            "8      \t [ 0.11743804 -0.15471628]. \t  -3.618409328792268 \t -0.2001406435232961\n",
            "9      \t [0.04453066 0.24254112]. \t  -6.69974373411405 \t -0.2001406435232961\n",
            "10     \t [-0.15404972 -2.048     ]. \t  -430.5388948125362 \t -0.2001406435232961\n",
            "11     \t [-0.47021409 -0.94109373]. \t  -137.231254837197 \t -0.2001406435232961\n",
            "12     \t [-1.68871311  0.84446592]. \t  -410.1489046243713 \t -0.2001406435232961\n",
            "13     \t [-0.96856479  2.048     ]. \t  -127.05910577756735 \t -0.2001406435232961\n",
            "14     \t [0.76748301 0.04914589]. \t  -29.201567375722888 \t -0.2001406435232961\n",
            "15     \t [1.17527665 2.048     ]. \t  -44.482917278082844 \t -0.2001406435232961\n",
            "16     \t [0.65456282 1.33903493]. \t  -83.03536464638417 \t -0.2001406435232961\n",
            "17     \t [-1.13974302  1.41381467]. \t  -5.896416181141086 \t -0.2001406435232961\n",
            "18     \t [-0.65769489 -0.33243116]. \t  -61.26949241897339 \t -0.2001406435232961\n",
            "19     \t [ 0.49442431 -1.11502003]. \t  -185.0729510436368 \t -0.2001406435232961\n",
            "20     \t [ 0.05529967 -0.41823913]. \t  -18.641590545373305 \t -0.2001406435232961\n"
          ]
        }
      ],
      "source": [
        "### Bayesian optimisation runs (x20): 'STP' Acquisition Function run number = 1 \n",
        "\n",
        "np.random.seed(run_num_1)\n",
        "surrogate_stp_1 = tStudentProcess(cov_func, nu = df, optimize=hyperOpt)\n",
        "\n",
        "stp_1 = GPGO(surrogate_stp_1, Acquisition_new(util_stp), f_syn_polarity, param, n_jobs = -1) # Define BayesOpt\n",
        "stp_1.run(max_iter = max_iter, init_evals = n_init) # run\n"
      ]
    },
    {
      "cell_type": "code",
      "execution_count": null,
      "metadata": {
        "id": "FGw67C40JLk-",
        "colab": {
          "base_uri": "https://localhost:8080/"
        },
        "outputId": "3d2a01b4-300b-465a-b6d7-e49cafaed74e"
      },
      "outputs": [
        {
          "output_type": "stream",
          "name": "stdout",
          "text": [
            "Evaluation \t Proposed point \t  Current eval. \t Best eval.\n",
            "init   \t [-0.26216488 -1.94180615]. \t  -405.8187938051167 \t -10.016400127761926\n",
            "init   \t [ 0.20341751 -0.26491948]. \t  -10.016400127761926 \t -10.016400127761926\n",
            "init   \t [-0.32617348 -0.69494857]. \t  -65.97294928625357 \t -10.016400127761926\n",
            "init   \t [-1.20975919  0.48853388]. \t  -99.94230490266065 \t -10.016400127761926\n",
            "init   \t [-0.82061446 -0.95507548]. \t  -268.5105099964258 \t -10.016400127761926\n",
            "1      \t [1.43962057 0.58188765]. \t  -222.38798657419204 \t -10.016400127761926\n",
            "2      \t [-2.048  2.048]. \t  -469.9523900415999 \t -10.016400127761926\n",
            "3      \t [ 2.048 -2.048]. \t  -3897.7342268415996 \t -10.016400127761926\n",
            "4      \t [0.40660129 2.048     ]. \t  -354.7987837147868 \t -10.016400127761926\n",
            "5      \t [2.048 2.048]. \t  -461.7603900415999 \t -10.016400127761926\n",
            "6      \t [-2.048 -2.048]. \t  -3905.9262268415996 \t -10.016400127761926\n",
            "7      \t [-0.15530618  0.66673178]. \t  -42.62972117946609 \t -10.016400127761926\n",
            "8      \t [-2.048       0.07987136]. \t  -1702.1459015004125 \t -10.016400127761926\n",
            "9      \t [-0.83980363  2.048     ]. \t  -183.6772254819573 \t -10.016400127761926\n",
            "10     \t [ 2.048     -0.0832107]. \t  -1830.8115017577827 \t -10.016400127761926\n",
            "11     \t [0.85047592 0.9944413 ]. \t  \u001b[92m-7.373614602482677\u001b[0m \t -7.373614602482677\n",
            "12     \t [-1.12693376  1.25304112]. \t  \u001b[92m-4.552538724194894\u001b[0m \t -4.552538724194894\n",
            "13     \t [0.71831224 0.35714371]. \t  \u001b[92m-2.602005720650922\u001b[0m \t -2.602005720650922\n",
            "14     \t [-0.56725197  0.01949598]. \t  -11.593527261279363 \t -2.602005720650922\n",
            "15     \t [2.048      1.22278583]. \t  -884.0903268204216 \t -2.602005720650922\n",
            "16     \t [1.27491777 2.048     ]. \t  -17.93336023218637 \t -2.602005720650922\n",
            "17     \t [-0.78021933  0.79679782]. \t  -6.705672480312882 \t -2.602005720650922\n",
            "18     \t [ 0.42132128 -1.34298919]. \t  -231.5271429304534 \t -2.602005720650922\n",
            "19     \t [-0.00599785  0.48537115]. \t  -24.567055024919103 \t -2.602005720650922\n",
            "20     \t [-0.05311339 -0.24310608]. \t  -7.1570621446864156 \t -2.602005720650922\n"
          ]
        }
      ],
      "source": [
        "### Bayesian optimisation runs (x20): 'STP' Acquisition Function run number = 2 \n",
        "\n",
        "np.random.seed(run_num_2)\n",
        "surrogate_stp_2 = tStudentProcess(cov_func, nu = df, optimize=hyperOpt)\n",
        "\n",
        "stp_2 = GPGO(surrogate_stp_2, Acquisition_new(util_stp), f_syn_polarity, param, n_jobs = -1) # Define BayesOpt\n",
        "stp_2.run(max_iter = max_iter, init_evals = n_init) # run\n"
      ]
    },
    {
      "cell_type": "code",
      "execution_count": null,
      "metadata": {
        "id": "oFLQAtDZJLk_",
        "colab": {
          "base_uri": "https://localhost:8080/"
        },
        "outputId": "6c3b4e37-a3a0-4a00-907d-5f09cc26beac"
      },
      "outputs": [
        {
          "output_type": "stream",
          "name": "stdout",
          "text": [
            "Evaluation \t Proposed point \t  Current eval. \t Best eval.\n",
            "init   \t [0.20806821 0.85257348]. \t  -66.12074614607258 \t -50.941111321262525\n",
            "init   \t [-0.85645419  0.04434987]. \t  -50.941111321262525 \t -50.941111321262525\n",
            "init   \t [1.60951073 1.62321649]. \t  -93.94003449768307 \t -50.941111321262525\n",
            "init   \t [-1.53360257 -1.19913317]. \t  -1267.4289626896234 \t -50.941111321262525\n",
            "init   \t [-1.83719034 -0.24244288]. \t  -1316.8330877748904 \t -50.941111321262525\n",
            "1      \t [ 2.048 -2.048]. \t  -3897.7342268415996 \t -50.941111321262525\n",
            "2      \t [-1.21526365  2.048     ]. \t  \u001b[92m-37.52682793027927\u001b[0m \t -37.52682793027927\n",
            "3      \t [0.1705731 2.048    ]. \t  -408.2856154837672 \t -37.52682793027927\n",
            "4      \t [-2.048  2.048]. \t  -469.9523900415999 \t -37.52682793027927\n",
            "5      \t [2.048      0.62093404]. \t  -1277.9955919749189 \t -37.52682793027927\n",
            "6      \t [ 0.15967569 -0.17222319]. \t  \u001b[92m-4.615445543016855\u001b[0m \t -4.615445543016855\n",
            "7      \t [-0.48692319  0.93550197]. \t  -50.98828334249545 \t -4.615445543016855\n",
            "8      \t [2.048 2.048]. \t  -461.7603900415999 \t -4.615445543016855\n",
            "9      \t [-0.26685305 -2.048     ]. \t  -450.71025312422114 \t -4.615445543016855\n",
            "10     \t [-2.048 -2.048]. \t  -3905.9262268415996 \t -4.615445543016855\n",
            "11     \t [-0.4613449  -0.91079775]. \t  -128.39150939278326 \t -4.615445543016855\n",
            "12     \t [1.16069914 2.048     ]. \t  -49.13473466440708 \t -4.615445543016855\n",
            "13     \t [-0.2658472   0.16097351]. \t  \u001b[92m-2.41775608188187\u001b[0m \t -2.41775608188187\n",
            "14     \t [-1.45428983  1.21833263]. \t  -86.41740610094605 \t -2.41775608188187\n",
            "15     \t [0.90428706 0.47933526]. \t  -11.460605606068905 \t -2.41775608188187\n",
            "16     \t [0.98597322 1.34223706]. \t  -13.697144456629356 \t -2.41775608188187\n",
            "17     \t [ 1.11386577 -0.59974513]. \t  -338.73566922936135 \t -2.41775608188187\n",
            "18     \t [ 0.14181115 -0.65990719]. \t  -46.978881221289406 \t -2.41775608188187\n",
            "19     \t [ 0.48983066 -2.048     ]. \t  -523.7245043911911 \t -2.41775608188187\n",
            "20     \t [0.10862719 0.14568476]. \t  -2.587062013809176 \t -2.41775608188187\n"
          ]
        }
      ],
      "source": [
        "### Bayesian optimisation runs (x20): 'STP' Acquisition Function run number = 3 \n",
        "\n",
        "np.random.seed(run_num_3)\n",
        "surrogate_stp_3 = tStudentProcess(cov_func, nu = df, optimize=hyperOpt)\n",
        "\n",
        "stp_3 = GPGO(surrogate_stp_3, Acquisition_new(util_stp), f_syn_polarity, param, n_jobs = -1) # Define BayesOpt\n",
        "stp_3.run(max_iter = max_iter, init_evals = n_init) # run\n"
      ]
    },
    {
      "cell_type": "code",
      "execution_count": null,
      "metadata": {
        "id": "zhFOxkF0JLk_",
        "colab": {
          "base_uri": "https://localhost:8080/"
        },
        "outputId": "69c8fedc-bfb8-41eb-f308-f38a3dc15f81"
      },
      "outputs": [
        {
          "output_type": "stream",
          "name": "stdout",
          "text": [
            "Evaluation \t Proposed point \t  Current eval. \t Best eval.\n",
            "init   \t [1.91295422 0.19346329]. \t  -1202.1009483415905 \t -170.66405971002487\n",
            "init   \t [1.93611514 0.87988631]. \t  -823.7947602867234 \t -170.66405971002487\n",
            "init   \t [ 0.80989727 -1.16289743]. \t  -330.8507621971172 \t -170.66405971002487\n",
            "init   \t [ 1.95082017 -2.02248087]. \t  -3397.672500714367 \t -170.66405971002487\n",
            "init   \t [-1.01178424 -0.26709388]. \t  -170.66405971002487 \t -170.66405971002487\n",
            "1      \t [-2.048  2.048]. \t  -469.9523900415999 \t -170.66405971002487\n",
            "2      \t [-2.048 -2.048]. \t  -3905.9262268415996 \t -170.66405971002487\n",
            "3      \t [0.04210194 2.048     ]. \t  -419.6222369236261 \t -170.66405971002487\n",
            "4      \t [-2.048       0.59828972]. \t  -1302.4221762334503 \t -170.66405971002487\n",
            "5      \t [ 0.01666383 -0.01925374]. \t  \u001b[92m-1.0050976635516513\u001b[0m \t -1.0050976635516513\n",
            "6      \t [2.048 2.048]. \t  -461.7603900415999 \t -1.0050976635516513\n",
            "7      \t [-0.07046102 -0.62459071]. \t  -40.779895500782885 \t -1.0050976635516513\n",
            "8      \t [-0.11649859  0.60545319]. \t  -36.278912702450384 \t -1.0050976635516513\n",
            "9      \t [ 0.10276874 -2.048     ]. \t  -424.5725332124582 \t -1.0050976635516513\n",
            "10     \t [-0.991568  2.048   ]. \t  -117.344734812477 \t -1.0050976635516513\n",
            "11     \t [-0.04920503 -0.26044665]. \t  -8.010778344926155 \t -1.0050976635516513\n",
            "12     \t [0.89341553 1.24646643]. \t  -20.106418260321664 \t -1.0050976635516513\n",
            "13     \t [1.14593771 2.048     ]. \t  -54.018336210417395 \t -1.0050976635516513\n",
            "14     \t [-0.94783687  0.71395096]. \t  -7.1960188976873525 \t -1.0050976635516513\n",
            "15     \t [ 0.6456972  -0.39108125]. \t  -65.41291900173027 \t -1.0050976635516513\n",
            "16     \t [-0.68753243  0.26017292]. \t  -7.364577275808292 \t -1.0050976635516513\n",
            "17     \t [-0.98227141  1.43049107]. \t  -25.610897228335556 \t -1.0050976635516513\n",
            "18     \t [0.71052495 0.59954004]. \t  \u001b[92m-0.9804974593956275\u001b[0m \t -0.9804974593956275\n",
            "19     \t [-0.06852918  0.67750803]. \t  -46.40932370839103 \t -0.9804974593956275\n",
            "20     \t [-0.05959795  0.21824949]. \t  -5.732252503010504 \t -0.9804974593956275\n"
          ]
        }
      ],
      "source": [
        "### Bayesian optimisation runs (x20): 'STP' Acquisition Function run number = 4 \n",
        "\n",
        "np.random.seed(run_num_4)\n",
        "surrogate_stp_4 = tStudentProcess(cov_func, nu = df, optimize=hyperOpt)\n",
        "\n",
        "stp_4 = GPGO(surrogate_stp_4, Acquisition_new(util_stp), f_syn_polarity, param, n_jobs = -1) # Define BayesOpt\n",
        "stp_4.run(max_iter = max_iter, init_evals = n_init) # run\n"
      ]
    },
    {
      "cell_type": "code",
      "execution_count": null,
      "metadata": {
        "id": "YdzaqIajJLlA",
        "colab": {
          "base_uri": "https://localhost:8080/"
        },
        "outputId": "c2a0fb13-08b1-4a3f-c0dd-0da9997eec45"
      },
      "outputs": [
        {
          "output_type": "stream",
          "name": "stdout",
          "text": [
            "Evaluation \t Proposed point \t  Current eval. \t Best eval.\n",
            "init   \t [-1.13871597  1.51851953]. \t  -9.495646950867519 \t -9.495646950867519\n",
            "init   \t [-1.20127834  1.71463028]. \t  -12.220143873516523 \t -9.495646950867519\n",
            "init   \t [-0.04746777  0.45770286]. \t  -21.840629211931905 \t -9.495646950867519\n",
            "init   \t [1.08915858 0.07544008]. \t  -123.40146376592485 \t -9.495646950867519\n",
            "init   \t [-0.83230515 -1.27909385]. \t  -392.1670023300852 \t -9.495646950867519\n",
            "1      \t [2.048 2.048]. \t  -461.7603900415999 \t -9.495646950867519\n",
            "2      \t [ 2.048 -2.048]. \t  -3897.7342268415996 \t -9.495646950867519\n",
            "3      \t [-2.048       0.26122254]. \t  -1556.203281098116 \t -9.495646950867519\n",
            "4      \t [0.07260645 2.048     ]. \t  -418.13395076526155 \t -9.495646950867519\n",
            "5      \t [-2.048 -2.048]. \t  -3905.9262268415996 \t -9.495646950867519\n",
            "6      \t [-2.048  2.048]. \t  -469.9523900415999 \t -9.495646950867519\n",
            "7      \t [ 0.05967358 -0.8847758 ]. \t  -79.79842988294773 \t -9.495646950867519\n",
            "8      \t [2.048      0.63438325]. \t  -1268.4018770865355 \t -9.495646950867519\n",
            "9      \t [ 0.00475613 -0.12151962]. \t  \u001b[92m-2.467762109464536\u001b[0m \t -2.467762109464536\n",
            "10     \t [-0.06599678  0.83862093]. \t  -70.7362180566211 \t -2.467762109464536\n",
            "11     \t [-0.17171138 -2.048     ]. \t  -432.9672166847565 \t -2.467762109464536\n",
            "12     \t [0.95283363 1.15840453]. \t  -6.277880608781731 \t -2.467762109464536\n",
            "13     \t [0.62529747 0.47896491]. \t  \u001b[92m-0.9142386381180557\u001b[0m \t -0.9142386381180557\n",
            "14     \t [1.14136345 2.048     ]. \t  -55.565624781785175 \t -0.9142386381180557\n",
            "15     \t [-0.7346262  -0.31900705]. \t  -76.74252800162292 \t -0.9142386381180557\n",
            "16     \t [-0.38670505 -0.84178344]. \t  -100.19532494735132 \t -0.9142386381180557\n",
            "17     \t [ 0.68820165 -0.39596063]. \t  -75.71452934181355 \t -0.9142386381180557\n",
            "18     \t [-0.75554909  0.62566225]. \t  -3.38234234612 \t -0.9142386381180557\n",
            "19     \t [ 0.03117782 -0.13595128]. \t  -2.813416387384691 \t -0.9142386381180557\n",
            "20     \t [-0.82830107  2.048     ]. \t  -188.8245681532 \t -0.9142386381180557\n"
          ]
        }
      ],
      "source": [
        "### Bayesian optimisation runs (x20): 'STP' Acquisition Function run number = 5 \n",
        "\n",
        "np.random.seed(run_num_5)\n",
        "surrogate_stp_5 = tStudentProcess(cov_func, nu = df, optimize=hyperOpt)\n",
        "\n",
        "stp_5 = GPGO(surrogate_stp_5, Acquisition_new(util_stp), f_syn_polarity, param, n_jobs = -1) # Define BayesOpt\n",
        "stp_5.run(max_iter = max_iter, init_evals = n_init) # run\n"
      ]
    },
    {
      "cell_type": "code",
      "execution_count": null,
      "metadata": {
        "id": "_KSBbC1zJLlA",
        "colab": {
          "base_uri": "https://localhost:8080/"
        },
        "outputId": "62ff5a9c-fe75-45ca-8b5d-0d815bb27381"
      },
      "outputs": [
        {
          "output_type": "stream",
          "name": "stdout",
          "text": [
            "Evaluation \t Proposed point \t  Current eval. \t Best eval.\n",
            "init   \t [ 1.60915518 -0.68821072]. \t  -1074.6314195925434 \t -3.0269049669752817\n",
            "init   \t [ 1.31575449 -1.87721062]. \t  -1302.169546932896 \t -3.0269049669752817\n",
            "init   \t [-1.60703824  0.38933325]. \t  -487.8262244570432 \t -3.0269049669752817\n",
            "init   \t [ 0.12213192 -0.33256477]. \t  -12.844955340992902 \t -3.0269049669752817\n",
            "init   \t [-0.67416945  0.50183959]. \t  -3.0269049669752817 \t -3.0269049669752817\n",
            "1      \t [0.50024898 2.048     ]. \t  -323.44060300558914 \t -3.0269049669752817\n",
            "2      \t [-2.048 -2.048]. \t  -3905.9262268415996 \t -3.0269049669752817\n",
            "3      \t [-2.048  2.048]. \t  -469.9523900415999 \t -3.0269049669752817\n",
            "4      \t [2.048 2.048]. \t  -461.7603900415999 \t -3.0269049669752817\n",
            "5      \t [0.26430921 0.75033013]. \t  -46.845287829541135 \t -3.0269049669752817\n",
            "6      \t [-0.6368468  2.048    ]. \t  -272.4356338297758 \t -3.0269049669752817\n",
            "7      \t [-0.10877826  0.32309408]. \t  -10.91775303732557 \t -3.0269049669752817\n",
            "8      \t [2.048      0.75349669]. \t  -1185.01379934172 \t -3.0269049669752817\n",
            "9      \t [-0.06467662 -2.048     ]. \t  -422.27906977284414 \t -3.0269049669752817\n",
            "10     \t [-0.50112077 -0.77236153]. \t  -107.00522157300497 \t -3.0269049669752817\n",
            "11     \t [-0.35228565  1.1976852 ]. \t  -117.08608197513229 \t -3.0269049669752817\n",
            "12     \t [ 0.09503805 -1.14495737]. \t  -133.98815652701484 \t -3.0269049669752817\n",
            "13     \t [-1.3135997  1.3100864]. \t  -22.613260011526254 \t -3.0269049669752817\n",
            "14     \t [1.09611156 1.47777711]. \t  -7.644321200971261 \t -3.0269049669752817\n",
            "15     \t [1.27273133 2.048     ]. \t  -18.406048674566545 \t -3.0269049669752817\n",
            "16     \t [-0.27742031 -0.33624677]. \t  -18.705953319196006 \t -3.0269049669752817\n",
            "17     \t [0.87858357 0.43348137]. \t  -11.468074337870085 \t -3.0269049669752817\n",
            "18     \t [-0.92708226  1.06773342]. \t  -8.050531623122218 \t -3.0269049669752817\n",
            "19     \t [-2.048       1.14634019]. \t  -938.2986434346711 \t -3.0269049669752817\n",
            "20     \t [-0.12714851  0.29031463]. \t  -8.786170073120282 \t -3.0269049669752817\n"
          ]
        }
      ],
      "source": [
        "### Bayesian optimisation runs (x20): 'STP' Acquisition Function run number = 6 \n",
        "\n",
        "np.random.seed(run_num_6)\n",
        "surrogate_stp_6 = tStudentProcess(cov_func, nu = df, optimize=hyperOpt)\n",
        "\n",
        "stp_6 = GPGO(surrogate_stp_6, Acquisition_new(util_stp), f_syn_polarity, param, n_jobs = -1) # Define BayesOpt\n",
        "stp_6.run(max_iter = max_iter, init_evals = n_init) # run\n"
      ]
    },
    {
      "cell_type": "code",
      "execution_count": null,
      "metadata": {
        "id": "WB64BgXFJLlB",
        "colab": {
          "base_uri": "https://localhost:8080/"
        },
        "outputId": "659bd54c-0bfd-40ff-b718-a093ad352a30"
      },
      "outputs": [
        {
          "output_type": "stream",
          "name": "stdout",
          "text": [
            "Evaluation \t Proposed point \t  Current eval. \t Best eval.\n",
            "init   \t [-1.73544125  1.14654737]. \t  -355.3830807157107 \t -74.10242381766855\n",
            "init   \t [-0.25227579  0.91531337]. \t  -74.10242381766855 \t -74.10242381766855\n",
            "init   \t [1.95784504 0.15767909]. \t  -1351.8314081149692 \t -74.10242381766855\n",
            "init   \t [ 0.00458942 -1.75287856]. \t  -308.2565501886822 \t -74.10242381766855\n",
            "init   \t [-9.48473938e-01 -4.81276619e-04]. \t  -84.81168700546641 \t -74.10242381766855\n",
            "1      \t [-2.048 -2.048]. \t  -3905.9262268415996 \t -74.10242381766855\n",
            "2      \t [ 2.048 -2.048]. \t  -3897.7342268415996 \t -74.10242381766855\n",
            "3      \t [0.81847744 2.048     ]. \t  -189.94744690468372 \t -74.10242381766855\n",
            "4      \t [-0.72792287  2.048     ]. \t  -233.4570674408131 \t -74.10242381766855\n",
            "5      \t [2.048 2.048]. \t  -461.7603900415999 \t -74.10242381766855\n",
            "6      \t [-2.048  2.048]. \t  -469.9523900415999 \t -74.10242381766855\n",
            "7      \t [-0.00621296 -0.22067027]. \t  \u001b[92m-5.88370511704852\u001b[0m \t -5.88370511704852\n",
            "8      \t [-0.12581424  0.28879196]. \t  -8.718323300179168 \t -5.88370511704852\n",
            "9      \t [-2.048       0.08130847]. \t  -1700.9635275981934 \t -5.88370511704852\n",
            "10     \t [-0.47891979 -0.85118909]. \t  -118.94673656272974 \t -5.88370511704852\n",
            "11     \t [1.06151016 1.10973332]. \t  \u001b[92m-0.03292371308633622\u001b[0m \t -0.03292371308633622\n",
            "12     \t [-0.9210334   0.85044187]. \t  -3.690827015092792 \t -0.03292371308633622\n",
            "13     \t [2.048      1.21816893]. \t  -886.8362991211211 \t -0.03292371308633622\n",
            "14     \t [0.72678985 0.42357454]. \t  -1.1697838947099626 \t -0.03292371308633622\n",
            "15     \t [0.60639505 1.06616729]. \t  -48.93849179331564 \t -0.03292371308633622\n",
            "16     \t [ 0.59128689 -1.02925284]. \t  -190.29613093727963 \t -0.03292371308633622\n",
            "17     \t [ 0.07392039 -1.00348646]. \t  -102.65577235504095 \t -0.03292371308633622\n",
            "18     \t [-1.19408631  1.57799346]. \t  -7.129018010324275 \t -0.03292371308633622\n",
            "19     \t [-0.51924764 -0.1180149 ]. \t  -17.334048624691132 \t -0.03292371308633622\n",
            "20     \t [-0.03604074  0.87116687]. \t  -76.74040343942644 \t -0.03292371308633622\n"
          ]
        }
      ],
      "source": [
        "### Bayesian optimisation runs (x20): 'STP' Acquisition Function run number = 7 \n",
        "\n",
        "np.random.seed(run_num_7)\n",
        "surrogate_stp_7 = tStudentProcess(cov_func, nu = df, optimize=hyperOpt)\n",
        "\n",
        "stp_7 = GPGO(surrogate_stp_7, Acquisition_new(util_stp), f_syn_polarity, param, n_jobs = -1) # Define BayesOpt\n",
        "stp_7.run(max_iter = max_iter, init_evals = n_init) # run\n"
      ]
    },
    {
      "cell_type": "code",
      "execution_count": null,
      "metadata": {
        "id": "yCh1YYTlJLlB",
        "colab": {
          "base_uri": "https://localhost:8080/"
        },
        "outputId": "773c39d4-ffdb-4110-ec6d-473aa09bdf4d"
      },
      "outputs": [
        {
          "output_type": "stream",
          "name": "stdout",
          "text": [
            "Evaluation \t Proposed point \t  Current eval. \t Best eval.\n",
            "init   \t [1.52956683 1.91914255]. \t  -17.95675982372887 \t -1.7663579664225912\n",
            "init   \t [1.51222084 0.12638491]. \t  -467.0068292530542 \t -1.7663579664225912\n",
            "init   \t [-1.09474477 -2.0013105 ]. \t  -1028.244988519411 \t -1.7663579664225912\n",
            "init   \t [-0.28479972 -0.39996883]. \t  -24.79447905426233 \t -1.7663579664225912\n",
            "init   \t [ 0.09287545 -0.0885072 ]. \t  -1.7663579664225912 \t -1.7663579664225912\n",
            "1      \t [-1.07862291  1.10441221]. \t  -4.668952280279901 \t -1.7663579664225912\n",
            "2      \t [-2.048  2.048]. \t  -469.9523900415999 \t -1.7663579664225912\n",
            "3      \t [ 2.048 -2.048]. \t  -3897.7342268415996 \t -1.7663579664225912\n",
            "4      \t [0.11035187 2.048     ]. \t  -415.2487843610003 \t -1.7663579664225912\n",
            "5      \t [-2.048       0.01480877]. \t  -1756.1083376470501 \t -1.7663579664225912\n",
            "6      \t [2.048 2.048]. \t  -461.7603900415999 \t -1.7663579664225912\n",
            "7      \t [0.11860167 0.75994828]. \t  -56.41084690972816 \t -1.7663579664225912\n",
            "8      \t [0.0176376 0.6215663]. \t  -39.560839666252505 \t -1.7663579664225912\n",
            "9      \t [-0.83823951  2.048     ]. \t  -184.37700518747621 \t -1.7663579664225912\n",
            "10     \t [1.42331139 1.15751232]. \t  -75.57420411788581 \t -1.7663579664225912\n",
            "11     \t [ 0.14560623 -1.4136892 ]. \t  -206.62102730431496 \t -1.7663579664225912\n",
            "12     \t [-2.048 -2.048]. \t  -3905.9262268415996 \t -1.7663579664225912\n",
            "13     \t [-0.27323147 -2.048     ]. \t  -452.1877273551087 \t -1.7663579664225912\n",
            "14     \t [-0.41631262 -1.2308635 ]. \t  -199.17800386540884 \t -1.7663579664225912\n",
            "15     \t [-0.5475649   1.23533157]. \t  -89.91177773312921 \t -1.7663579664225912\n",
            "16     \t [0.9963174  1.62017541]. \t  -39.37903280717108 \t -1.7663579664225912\n",
            "17     \t [2.048      0.64516905]. \t  -1260.7341959042233 \t -1.7663579664225912\n",
            "18     \t [ 0.77655601 -0.65218784]. \t  -157.60942877390514 \t -1.7663579664225912\n",
            "19     \t [ 0.20912145 -0.18752975]. \t  -5.9736786367615196 \t -1.7663579664225912\n",
            "20     \t [0.55341731 0.36251497]. \t  \u001b[92m-0.5157776984629651\u001b[0m \t -0.5157776984629651\n"
          ]
        }
      ],
      "source": [
        "### Bayesian optimisation runs (x20): 'STP' Acquisition Function run number = 8 \n",
        "\n",
        "np.random.seed(run_num_8)\n",
        "surrogate_stp_8 = tStudentProcess(cov_func, nu = df, optimize=hyperOpt)\n",
        "\n",
        "stp_8 = GPGO(surrogate_stp_8, Acquisition_new(util_stp), f_syn_polarity, param, n_jobs = -1) # Define BayesOpt\n",
        "stp_8.run(max_iter = max_iter, init_evals = n_init) # run\n"
      ]
    },
    {
      "cell_type": "code",
      "execution_count": null,
      "metadata": {
        "id": "IDhy8DkEJLlC",
        "colab": {
          "base_uri": "https://localhost:8080/"
        },
        "outputId": "94150cad-df1f-4a30-aae9-48eb5d990778"
      },
      "outputs": [
        {
          "output_type": "stream",
          "name": "stdout",
          "text": [
            "Evaluation \t Proposed point \t  Current eval. \t Best eval.\n",
            "init   \t [-2.00550747  0.00767833]. \t  -1620.5592513107108 \t -132.4681822844375\n",
            "init   \t [-0.01731259 -1.49983425]. \t  -226.0751192637302 \t -132.4681822844375\n",
            "init   \t [-1.46591299 -1.15278366]. \t  -1096.1928272344956 \t -132.4681822844375\n",
            "init   \t [-0.33379049 -1.03177761]. \t  -132.4681822844375 \t -132.4681822844375\n",
            "init   \t [-1.70369167 -0.63283757]. \t  -1257.2172959284223 \t -132.4681822844375\n",
            "1      \t [0.80127192 0.15053088]. \t  \u001b[92m-24.19728800417794\u001b[0m \t -24.19728800417794\n",
            "2      \t [2.048 2.048]. \t  -461.7603900415999 \t -24.19728800417794\n",
            "3      \t [ 2.048 -2.048]. \t  -3897.7342268415996 \t -24.19728800417794\n",
            "4      \t [-0.30777719  2.048     ]. \t  -383.2379021770504 \t -24.19728800417794\n",
            "5      \t [-2.048  2.048]. \t  -469.9523900415999 \t -24.19728800417794\n",
            "6      \t [2.048      0.51787016]. \t  -1352.714883287257 \t -24.19728800417794\n",
            "7      \t [0.06345412 0.53868963]. \t  -29.463592726417914 \t -24.19728800417794\n",
            "8      \t [ 0.27083083 -0.40029002]. \t  \u001b[92m-22.96511214484793\u001b[0m \t -22.96511214484793\n",
            "9      \t [0.84928718 2.048     ]. \t  -176.03899586658972 \t -22.96511214484793\n",
            "10     \t [0.67751601 1.08756217]. \t  -39.609522670034124 \t -22.96511214484793\n",
            "11     \t [-0.51143657 -2.048     ]. \t  -535.6945815822216 \t -22.96511214484793\n",
            "12     \t [-2.048 -2.048]. \t  -3905.9262268415996 \t -22.96511214484793\n",
            "13     \t [-1.09153571  1.27300787]. \t  \u001b[92m-5.039687100413046\u001b[0m \t -5.039687100413046\n",
            "14     \t [-1.22312722  2.048     ]. \t  -35.4082567433468 \t -5.039687100413046\n",
            "15     \t [ 1.12903586 -0.64451314]. \t  -368.3629904649625 \t -5.039687100413046\n",
            "16     \t [-0.4285442   1.28308621]. \t  -122.91670657910944 \t -5.039687100413046\n",
            "17     \t [-0.78825554  0.22003811]. \t  -19.30272355762886 \t -5.039687100413046\n",
            "18     \t [1.32379345 1.53315372]. \t  \u001b[92m-4.913011372298608\u001b[0m \t -4.913011372298608\n",
            "19     \t [-0.7146899   0.74050347]. \t  -8.217372857967254 \t -4.913011372298608\n",
            "20     \t [-0.16373785 -0.07029133]. \t  \u001b[92m-2.297154268626108\u001b[0m \t -2.297154268626108\n"
          ]
        }
      ],
      "source": [
        "### Bayesian optimisation runs (x20): 'STP' Acquisition Function run number = 9 \n",
        "\n",
        "np.random.seed(run_num_9)\n",
        "surrogate_stp_9 = tStudentProcess(cov_func, nu = df, optimize=hyperOpt)\n",
        "\n",
        "stp_9 = GPGO(surrogate_stp_9, Acquisition_new(util_stp), f_syn_polarity, param, n_jobs = -1) # Define BayesOpt\n",
        "stp_9.run(max_iter = max_iter, init_evals = n_init) # run\n"
      ]
    },
    {
      "cell_type": "code",
      "execution_count": null,
      "metadata": {
        "id": "RqwHOur5JLlC",
        "colab": {
          "base_uri": "https://localhost:8080/"
        },
        "outputId": "428bb164-f42d-4991-9f85-fcedc6b804e6"
      },
      "outputs": [
        {
          "output_type": "stream",
          "name": "stdout",
          "text": [
            "Evaluation \t Proposed point \t  Current eval. \t Best eval.\n",
            "init   \t [ 1.11132935 -1.96300002]. \t  -1022.7666615237944 \t -26.382363522743674\n",
            "init   \t [0.54742317 1.0191007 ]. \t  -51.962573317574716 \t -26.382363522743674\n",
            "init   \t [-0.00611528 -1.12723294]. \t  -128.08610911295406 \t -26.382363522743674\n",
            "init   \t [-1.23673451  1.0671338 ]. \t  -26.382363522743674 \t -26.382363522743674\n",
            "init   \t [-1.35532201 -1.68616012]. \t  -1246.7412252563456 \t -26.382363522743674\n",
            "1      \t [2.048 2.048]. \t  -461.7603900415999 \t -26.382363522743674\n",
            "2      \t [-2.048  2.048]. \t  -469.9523900415999 \t -26.382363522743674\n",
            "3      \t [-0.15547121  0.32546045]. \t  \u001b[92m-10.412629325771386\u001b[0m \t -10.412629325771386\n",
            "4      \t [2.048      0.07583489]. \t  -1697.2770864116435 \t -10.412629325771386\n",
            "5      \t [-0.06652601  2.048     ]. \t  -418.7570656572948 \t -10.412629325771386\n",
            "6      \t [-2.048       0.31514166]. \t  -1514.0803492351513 \t -10.412629325771386\n",
            "7      \t [-0.14934119  0.66595475]. \t  -42.74976904854342 \t -10.412629325771386\n",
            "8      \t [-0.13203093  0.63860985]. \t  -39.8676652526413 \t -10.412629325771386\n",
            "9      \t [-1.06394796  1.68255239]. \t  -34.572298685430646 \t -10.412629325771386\n",
            "10     \t [ 0.31921741 -0.43547014]. \t  -29.34010512506366 \t -10.412629325771386\n",
            "11     \t [1.06334886 2.048     ]. \t  -84.14596201968135 \t -10.412629325771386\n",
            "12     \t [ 2.048 -2.048]. \t  -3897.7342268415996 \t -10.412629325771386\n",
            "13     \t [ 0.21679551 -2.048     ]. \t  -439.51603144653984 \t -10.412629325771386\n",
            "14     \t [-2.048 -2.048]. \t  -3905.9262268415996 \t -10.412629325771386\n",
            "15     \t [-0.91049312 -0.77977103]. \t  -262.46367396644337 \t -10.412629325771386\n",
            "16     \t [1.51632909 1.27707677]. \t  -104.75120459182418 \t -10.412629325771386\n",
            "17     \t [ 0.82632974 -1.05716058]. \t  -302.78369726687293 \t -10.412629325771386\n",
            "18     \t [0.93418779 0.40402046]. \t  -21.971022562102576 \t -10.412629325771386\n",
            "19     \t [-0.64078266 -2.048     ]. \t  -607.1647527079972 \t -10.412629325771386\n",
            "20     \t [-0.88768679  1.12935263]. \t  -15.216353995970616 \t -10.412629325771386\n"
          ]
        }
      ],
      "source": [
        "### Bayesian optimisation runs (x20): 'STP' Acquisition Function run number = 10 \n",
        "\n",
        "np.random.seed(run_num_10)\n",
        "surrogate_stp_10 = tStudentProcess(cov_func, nu = df, optimize=hyperOpt)\n",
        "\n",
        "stp_10 = GPGO(surrogate_stp_10, Acquisition_new(util_stp), f_syn_polarity, param, n_jobs = -1) # Define BayesOpt\n",
        "stp_10.run(max_iter = max_iter, init_evals = n_init) # run\n"
      ]
    },
    {
      "cell_type": "code",
      "execution_count": null,
      "metadata": {
        "id": "iXLW3-5DJLlD",
        "colab": {
          "base_uri": "https://localhost:8080/"
        },
        "outputId": "42929c10-dce4-4a59-92f9-457f082ffc74"
      },
      "outputs": [
        {
          "output_type": "stream",
          "name": "stdout",
          "text": [
            "Evaluation \t Proposed point \t  Current eval. \t Best eval.\n",
            "init   \t [-1.30961535 -1.96822941]. \t  -1362.0202619238294 \t -4.533376036769996\n",
            "init   \t [-0.15065692  0.92132937]. \t  -82.0779347186456 \t -4.533376036769996\n",
            "init   \t [-0.32684604 -0.05969061]. \t  -4.533376036769996 \t -4.533376036769996\n",
            "init   \t [-1.99564978 -0.0517259 ]. \t  -1636.5670319859503 \t -4.533376036769996\n",
            "init   \t [1.80964005 1.43685669]. \t  -338.45801473698816 \t -4.533376036769996\n",
            "1      \t [ 2.048      -1.71297186]. \t  -3490.6891096929444 \t -4.533376036769996\n",
            "2      \t [-1.07111339  2.048     ]. \t  -85.4184614472169 \t -4.533376036769996\n",
            "3      \t [0.37642978 2.048     ]. \t  -363.78704512109465 \t -4.533376036769996\n",
            "4      \t [-2.048  2.048]. \t  -469.9523900415999 \t -4.533376036769996\n",
            "5      \t [0.6225676  0.30338968]. \t  \u001b[92m-0.8514316673402376\u001b[0m \t -0.8514316673402376\n",
            "6      \t [0.34777185 0.24131558]. \t  -1.8743027987520355 \t -0.8514316673402376\n",
            "7      \t [2.048      0.38759929]. \t  -1450.1983825309314 \t -0.8514316673402376\n",
            "8      \t [ 0.05697168 -1.16149575]. \t  -136.5515830222873 \t -0.8514316673402376\n",
            "9      \t [2.048 2.048]. \t  -461.7603900415999 \t -0.8514316673402376\n",
            "10     \t [0.83770203 1.11891588]. \t  -17.42952056884429 \t -0.8514316673402376\n",
            "11     \t [ 0.10526775 -2.048     ]. \t  -424.7821252522534 \t -0.8514316673402376\n",
            "12     \t [-1.18301564  1.19165795]. \t  -9.086470010800934 \t -0.8514316673402376\n",
            "13     \t [-0.78611542  1.47522228]. \t  -76.67707771342943 \t -0.8514316673402376\n",
            "14     \t [1.24688846 2.048     ]. \t  -24.392400480052057 \t -0.8514316673402376\n",
            "15     \t [-0.73411958  0.66943851]. \t  -4.710377173898963 \t -0.8514316673402376\n",
            "16     \t [ 0.29375634 -0.44436431]. \t  -28.658475785532072 \t -0.8514316673402376\n",
            "17     \t [ 0.03180233 -0.04431959]. \t  -1.1428965124253676 \t -0.8514316673402376\n",
            "18     \t [-0.3866356  -0.76242411]. \t  -85.08096238331584 \t -0.8514316673402376\n",
            "19     \t [-0.00477597  0.40757188]. \t  -17.619199127414824 \t -0.8514316673402376\n",
            "20     \t [ 1.12741635 -0.5712358 ]. \t  -339.4244306136714 \t -0.8514316673402376\n"
          ]
        }
      ],
      "source": [
        "### Bayesian optimisation runs (x20): 'STP' Acquisition Function run number = 11 \n",
        "\n",
        "np.random.seed(run_num_11)\n",
        "surrogate_stp_11 = tStudentProcess(cov_func, nu = df, optimize=hyperOpt)\n",
        "\n",
        "stp_11 = GPGO(surrogate_stp_11, Acquisition_new(util_stp), f_syn_polarity, param, n_jobs = -1) # Define BayesOpt\n",
        "stp_11.run(max_iter = max_iter, init_evals = n_init) # run\n"
      ]
    },
    {
      "cell_type": "code",
      "execution_count": null,
      "metadata": {
        "id": "Sv5SygMbJLlD",
        "colab": {
          "base_uri": "https://localhost:8080/"
        },
        "outputId": "fc46dee4-793a-4fa0-9913-326d5879e2a8"
      },
      "outputs": [
        {
          "output_type": "stream",
          "name": "stdout",
          "text": [
            "Evaluation \t Proposed point \t  Current eval. \t Best eval.\n",
            "init   \t [-1.416549    0.98324356]. \t  -110.56781423235984 \t -68.14456326432247\n",
            "init   \t [-0.9694617   0.13819656]. \t  -68.14456326432247 \t -68.14456326432247\n",
            "init   \t [-1.98830095  1.71518775]. \t  -509.86279959563035 \t -68.14456326432247\n",
            "init   \t [ 1.64132804 -1.91110583]. \t  -2121.0723550229873 \t -68.14456326432247\n",
            "init   \t [ 1.87166448 -1.48599062]. \t  -2489.890190157968 \t -68.14456326432247\n",
            "1      \t [0.75028394 2.048     ]. \t  -220.60683847256544 \t -68.14456326432247\n",
            "2      \t [-2.048 -2.048]. \t  -3905.9262268415996 \t -68.14456326432247\n",
            "3      \t [2.048      1.30412338]. \t  -836.4127073310823 \t -68.14456326432247\n",
            "4      \t [0.08272581 0.76888475]. \t  \u001b[92m-58.912068911290724\u001b[0m \t -58.912068911290724\n",
            "5      \t [-0.47891332  2.048     ]. \t  -332.9330673005277 \t -58.912068911290724\n",
            "6      \t [-2.048       0.24783478]. \t  -1566.7522368446976 \t -58.912068911290724\n",
            "7      \t [ 0.01443276 -0.73735731]. \t  \u001b[92m-55.37164598827685\u001b[0m \t -55.37164598827685\n",
            "8      \t [ 0.01060759 -2.048     ]. \t  -420.45538716502443 \t -55.37164598827685\n",
            "9      \t [-0.65707728  0.77047978]. \t  \u001b[92m-14.219653978022098\u001b[0m \t -14.219653978022098\n",
            "10     \t [0.97707065 0.20427944]. \t  -56.308684001758465 \t -14.219653978022098\n",
            "11     \t [ 0.00509976 -0.00387892]. \t  \u001b[92m-0.9913513209501942\u001b[0m \t -0.9913513209501942\n",
            "12     \t [0.9497368  0.97185322]. \t  \u001b[92m-0.49047382992189936\u001b[0m \t -0.49047382992189936\n",
            "13     \t [2.048      0.23669369]. \t  -1567.3662377751534 \t -0.49047382992189936\n",
            "14     \t [2.048 2.048]. \t  -461.7603900415999 \t -0.49047382992189936\n",
            "15     \t [0.63930947 0.48474801]. \t  -0.7081752072961378 \t -0.49047382992189936\n",
            "16     \t [-0.58640375 -0.67271061]. \t  -105.86015853316597 \t -0.49047382992189936\n",
            "17     \t [-1.32842905  2.048     ]. \t  -13.446125309589114 \t -0.49047382992189936\n",
            "18     \t [-1.09083155  1.45772633]. \t  -11.543949055071458 \t -0.49047382992189936\n",
            "19     \t [-0.42964057 -0.12386538]. \t  -11.55840719872945 \t -0.49047382992189936\n",
            "20     \t [-0.03184025  0.44343186]. \t  -20.638068143092752 \t -0.49047382992189936\n"
          ]
        }
      ],
      "source": [
        "### Bayesian optimisation runs (x20): 'STP' Acquisition Function run number = 12\n",
        "\n",
        "np.random.seed(run_num_12)\n",
        "surrogate_stp_12 = tStudentProcess(cov_func, nu = df, optimize=hyperOpt)\n",
        "\n",
        "stp_12 = GPGO(surrogate_stp_12, Acquisition_new(util_stp), f_syn_polarity, param, n_jobs = -1) # Define BayesOpt\n",
        "stp_12.run(max_iter = max_iter, init_evals = n_init) # run\n"
      ]
    },
    {
      "cell_type": "code",
      "execution_count": null,
      "metadata": {
        "id": "NSskozWHJLlE",
        "colab": {
          "base_uri": "https://localhost:8080/"
        },
        "outputId": "6e4488af-51da-4672-a7de-b2d6f524db2b"
      },
      "outputs": [
        {
          "output_type": "stream",
          "name": "stdout",
          "text": [
            "Evaluation \t Proposed point \t  Current eval. \t Best eval.\n",
            "init   \t [ 1.13746907 -1.07503116]. \t  -561.1720108286133 \t -2.166231627813885\n",
            "init   \t [1.32824487 1.90770872]. \t  -2.166231627813885 \t -2.166231627813885\n",
            "init   \t [ 1.93577416 -0.19067188]. \t  -1551.5761879230556 \t -2.166231627813885\n",
            "init   \t [0.44663793 1.1285566 ]. \t  -86.6235326520391 \t -2.166231627813885\n",
            "init   \t [0.58004826 0.90938667]. \t  -33.00131633274188 \t -2.166231627813885\n",
            "1      \t [-1.63142135  1.0882911 ]. \t  -254.43421066577562 \t -2.166231627813885\n",
            "2      \t [-2.048 -2.048]. \t  -3905.9262268415996 \t -2.166231627813885\n",
            "3      \t [-0.36081173  2.048     ]. \t  -369.6532067260384 \t -2.166231627813885\n",
            "4      \t [2.048 2.048]. \t  -461.7603900415999 \t -2.166231627813885\n",
            "5      \t [-0.28269559 -0.27088097]. \t  -13.95121550202119 \t -2.166231627813885\n",
            "6      \t [ 0.43951166 -2.048     ]. \t  -502.5986668514394 \t -2.166231627813885\n",
            "7      \t [ 2.048 -2.048]. \t  -3897.7342268415996 \t -2.166231627813885\n",
            "8      \t [-2.048  2.048]. \t  -469.9523900415999 \t -2.166231627813885\n",
            "9      \t [-0.52838954  0.36981361]. \t  -3.157138734910887 \t -2.166231627813885\n",
            "10     \t [ 0.49312228 -0.5372621 ]. \t  -61.164286416440575 \t -2.166231627813885\n",
            "11     \t [-2.048       0.06020403]. \t  -1718.3685627137706 \t -2.166231627813885\n",
            "12     \t [ 0.05695376 -1.26617021]. \t  -162.0305109274444 \t -2.166231627813885\n",
            "13     \t [1.54126691 1.20959544]. \t  -136.22717124500198 \t -2.166231627813885\n",
            "14     \t [-1.10741371  1.59344025]. \t  -17.915606314380806 \t -2.166231627813885\n",
            "15     \t [1.03918434 1.40502516]. \t  -10.57190548725458 \t -2.166231627813885\n",
            "16     \t [-0.00859576  0.29537937]. \t  -9.737798493465231 \t -2.166231627813885\n",
            "17     \t [0.80112355 2.048     ]. \t  -197.77969147468914 \t -2.166231627813885\n",
            "18     \t [-0.75214292  1.12085751]. \t  -33.887884253233075 \t -2.166231627813885\n",
            "19     \t [-0.43738623 -2.048     ]. \t  -503.5155349057807 \t -2.166231627813885\n",
            "20     \t [-0.93352568 -0.85322795]. \t  -301.1968909367355 \t -2.166231627813885\n"
          ]
        }
      ],
      "source": [
        "### Bayesian optimisation runs (x20): 'STP' Acquisition Function run number = 13 \n",
        "\n",
        "np.random.seed(run_num_13)\n",
        "surrogate_stp_13 = tStudentProcess(cov_func, nu = df, optimize=hyperOpt)\n",
        "\n",
        "stp_13 = GPGO(surrogate_stp_13, Acquisition_new(util_stp), f_syn_polarity, param, n_jobs = -1) # Define BayesOpt\n",
        "stp_13.run(max_iter = max_iter, init_evals = n_init) # run\n"
      ]
    },
    {
      "cell_type": "code",
      "execution_count": null,
      "metadata": {
        "id": "aM5FQ3ibJLlE",
        "colab": {
          "base_uri": "https://localhost:8080/"
        },
        "outputId": "681fe460-595d-4ae5-a65e-d8cf56fd0400"
      },
      "outputs": [
        {
          "output_type": "stream",
          "name": "stdout",
          "text": [
            "Evaluation \t Proposed point \t  Current eval. \t Best eval.\n",
            "init   \t [0.05711194 1.11888405]. \t  -125.35034508047823 \t -56.7252447162893\n",
            "init   \t [ 1.5172718 -2.0150397]. \t  -1864.0489319378007 \t -56.7252447162893\n",
            "init   \t [-0.77932165  1.87434492]. \t  -163.6955655658878 \t -56.7252447162893\n",
            "init   \t [ 0.05372605 -0.744307  ]. \t  -56.7252447162893 \t -56.7252447162893\n",
            "init   \t [ 0.16056294 -1.14173976]. \t  -137.01499974575526 \t -56.7252447162893\n",
            "1      \t [-1.84887105 -1.19746108]. \t  -2138.6634120889366 \t -56.7252447162893\n",
            "2      \t [2.048 2.048]. \t  -461.7603900415999 \t -56.7252447162893\n",
            "3      \t [-2.048  2.048]. \t  -469.9523900415999 \t -56.7252447162893\n",
            "4      \t [2.048      0.29150734]. \t  -1524.2804817897315 \t -56.7252447162893\n",
            "5      \t [0.35452624 2.048     ]. \t  -369.9446501039841 \t -56.7252447162893\n",
            "6      \t [-1.11789216  0.71648275]. \t  \u001b[92m-32.91570499148761\u001b[0m \t -32.91570499148761\n",
            "7      \t [-0.3838023 -2.048    ]. \t  -483.85096566054546 \t -32.91570499148761\n",
            "8      \t [-2.048       0.83014974]. \t  -1141.0436942075828 \t -32.91570499148761\n",
            "9      \t [-0.50431608  0.53637733]. \t  \u001b[92m-10.217771034083636\u001b[0m \t -10.217771034083636\n",
            "10     \t [-0.77289489  1.11447678]. \t  -29.883460248812916 \t -10.217771034083636\n",
            "11     \t [ 0.56568758 -0.10460737]. \t  -18.21797564585007 \t -10.217771034083636\n",
            "12     \t [1.03660268 1.22613451]. \t  \u001b[92m-2.2992742624107074\u001b[0m \t -2.2992742624107074\n",
            "13     \t [0.62414851 0.66632945]. \t  -7.801321712662396 \t -2.2992742624107074\n",
            "14     \t [1.22655448 2.048     ]. \t  -29.597520714045913 \t -2.2992742624107074\n",
            "15     \t [0.87957498 1.47255024]. \t  -48.86035570301949 \t -2.2992742624107074\n",
            "16     \t [0.20786125 0.0373159 ]. \t  \u001b[92m-0.6309534798251708\u001b[0m \t -0.6309534798251708\n",
            "17     \t [ 0.37481736 -0.539673  ]. \t  -46.65275977560868 \t -0.6309534798251708\n",
            "18     \t [-0.77314098  0.71710489]. \t  -4.568660244934448 \t -0.6309534798251708\n",
            "19     \t [-0.16466852  0.07091674]. \t  -1.5483056440313572 \t -0.6309534798251708\n",
            "20     \t [-0.02674458  0.45615145]. \t  -21.796415881235987 \t -0.6309534798251708\n"
          ]
        }
      ],
      "source": [
        "### Bayesian optimisation runs (x20): 'STP' Acquisition Function run number = 14 \n",
        "\n",
        "np.random.seed(run_num_14)\n",
        "surrogate_stp_14 = tStudentProcess(cov_func, nu = df, optimize=hyperOpt)\n",
        "\n",
        "stp_14 = GPGO(surrogate_stp_14, Acquisition_new(util_stp), f_syn_polarity, param, n_jobs = -1) # Define BayesOpt\n",
        "stp_14.run(max_iter = max_iter, init_evals = n_init) # run\n"
      ]
    },
    {
      "cell_type": "code",
      "execution_count": null,
      "metadata": {
        "id": "XmPTh2j_JLlF",
        "colab": {
          "base_uri": "https://localhost:8080/"
        },
        "outputId": "e9a7e1b9-4a39-4569-a7aa-6b8ded98895e"
      },
      "outputs": [
        {
          "output_type": "stream",
          "name": "stdout",
          "text": [
            "Evaluation \t Proposed point \t  Current eval. \t Best eval.\n",
            "init   \t [ 1.42875729 -1.31524229]. \t  -1126.8532605124637 \t -56.02298763074632\n",
            "init   \t [-1.82532827 -0.56713852]. \t  -1528.1728177033635 \t -56.02298763074632\n",
            "init   \t [-0.9199578   0.12288092]. \t  -56.02298763074632 \t -56.02298763074632\n",
            "init   \t [-0.79495612 -0.80087302]. \t  -208.52154958515655 \t -56.02298763074632\n",
            "init   \t [-1.59030773 -1.02441364]. \t  -1269.4404638957562 \t -56.02298763074632\n",
            "1      \t [-0.00904984  0.95033756]. \t  -91.31676288530588 \t -56.02298763074632\n",
            "2      \t [2.048 2.048]. \t  -461.7603900415999 \t -56.02298763074632\n",
            "3      \t [-1.99553538  2.048     ]. \t  -383.0712795543639 \t -56.02298763074632\n",
            "4      \t [-0.06616096 -0.21008659]. \t  \u001b[92m-5.736174086457402\u001b[0m \t -5.736174086457402\n",
            "5      \t [-0.37129147 -2.048     ]. \t  -479.6776771545695 \t -5.736174086457402\n",
            "6      \t [-0.12070914  2.048     ]. \t  -414.7394619399661 \t -5.736174086457402\n",
            "7      \t [2.048      0.50763819]. \t  -1360.2487800973083 \t -5.736174086457402\n",
            "8      \t [-0.46405242  0.29728748]. \t  \u001b[92m-2.8149122687588495\u001b[0m \t -2.8149122687588495\n",
            "9      \t [-1.08657555  1.12776935]. \t  -4.633396060506081 \t -2.8149122687588495\n",
            "10     \t [-2.048       1.06791429]. \t  -986.7215647713903 \t -2.8149122687588495\n",
            "11     \t [-0.62806805  0.89379302]. \t  -27.583006283389643 \t -2.8149122687588495\n",
            "12     \t [-1.10965486  2.048     ]. \t  -71.14499430529487 \t -2.8149122687588495\n",
            "13     \t [0.95192748 1.57103476]. \t  -44.207365819358245 \t -2.8149122687588495\n",
            "14     \t [ 2.048 -2.048]. \t  -3897.7342268415996 \t -2.8149122687588495\n",
            "15     \t [ 0.37808117 -1.15958262]. \t  -170.04469978834274 \t -2.8149122687588495\n",
            "16     \t [ 1.00899475 -0.36897463]. \t  -192.3894724498167 \t -2.8149122687588495\n",
            "17     \t [-2.048 -2.048]. \t  -3905.9262268415996 \t -2.8149122687588495\n",
            "18     \t [ 0.04616943 -0.05605369]. \t  \u001b[92m-1.2483457950988819\u001b[0m \t -1.2483457950988819\n",
            "19     \t [1.04227015 2.048     ]. \t  -92.48326844516832 \t -1.2483457950988819\n",
            "20     \t [ 0.00177123 -0.70699061]. \t  -50.980476728710904 \t -1.2483457950988819\n"
          ]
        }
      ],
      "source": [
        "### Bayesian optimisation runs (x20): 'STP' Acquisition Function run number = 15 \n",
        "\n",
        "np.random.seed(run_num_15)\n",
        "surrogate_stp_15 = tStudentProcess(cov_func, nu = df, optimize=hyperOpt)\n",
        "\n",
        "stp_15 = GPGO(surrogate_stp_15, Acquisition_new(util_stp), f_syn_polarity, param, n_jobs = -1) # Define BayesOpt\n",
        "stp_15.run(max_iter = max_iter, init_evals = n_init) # run\n"
      ]
    },
    {
      "cell_type": "code",
      "execution_count": null,
      "metadata": {
        "id": "6aUP_b73JLlG",
        "colab": {
          "base_uri": "https://localhost:8080/"
        },
        "outputId": "3024b065-54b3-41d6-a3f4-06ea1079e8b8"
      },
      "outputs": [
        {
          "output_type": "stream",
          "name": "stdout",
          "text": [
            "Evaluation \t Proposed point \t  Current eval. \t Best eval.\n",
            "init   \t [-1.13339974  0.09487705]. \t  -146.09426826423262 \t -146.09426826423262\n",
            "init   \t [ 0.20767317 -1.86121441]. \t  -363.27983894611043 \t -146.09426826423262\n",
            "init   \t [-0.57045469 -1.13426046]. \t  -215.5326110993483 \t -146.09426826423262\n",
            "init   \t [ 0.77302236 -1.37735608]. \t  -390.08228141599125 \t -146.09426826423262\n",
            "init   \t [-1.75994935  1.80638048]. \t  -174.29606237276562 \t -146.09426826423262\n",
            "1      \t [2.048 2.048]. \t  -461.7603900415999 \t -146.09426826423262\n",
            "2      \t [-2.048 -2.048]. \t  -3905.9262268415996 \t -146.09426826423262\n",
            "3      \t [0.30520745 0.83452276]. \t  \u001b[92m-55.44585828870649\u001b[0m \t -55.44585828870649\n",
            "4      \t [ 2.048      -0.08790805]. \t  -1834.8323122036293 \t -55.44585828870649\n",
            "5      \t [-0.15254473  2.048     ]. \t  -411.2815596583393 \t -55.44585828870649\n",
            "6      \t [-2.048       0.74855349]. \t  -1196.6099633366086 \t -55.44585828870649\n",
            "7      \t [ 2.048 -2.048]. \t  -3897.7342268415996 \t -55.44585828870649\n",
            "8      \t [-0.05481149 -0.20168941]. \t  \u001b[92m-5.302578845834633\u001b[0m \t -5.302578845834633\n",
            "9      \t [-0.10595863 -0.18714171]. \t  \u001b[92m-5.15816807405552\u001b[0m \t -5.15816807405552\n",
            "10     \t [-0.74476608  1.14075886]. \t  -37.39346090449006 \t -5.15816807405552\n",
            "11     \t [1.01339398 2.048     ]. \t  -104.25094646999979 \t -5.15816807405552\n",
            "12     \t [ 0.14872134 -1.01537972]. \t  -108.36483527907431 \t -5.15816807405552\n",
            "13     \t [-1.18641835  2.048     ]. \t  -45.793113724812116 \t -5.15816807405552\n",
            "14     \t [1.34881893 1.14498585]. \t  -45.59331746304921 \t -5.15816807405552\n",
            "15     \t [0.86161476 0.27966351]. \t  -21.42980492930471 \t -5.15816807405552\n",
            "16     \t [-2.048  2.048]. \t  -469.9523900415999 \t -5.15816807405552\n",
            "17     \t [-0.90274939 -0.51549707]. \t  -180.631113082765 \t -5.15816807405552\n",
            "18     \t [0.91225058 1.33995859]. \t  -25.78946545932238 \t -5.15816807405552\n",
            "19     \t [-1.2230476   1.45471071]. \t  \u001b[92m-5.111147072446322\u001b[0m \t -5.111147072446322\n",
            "20     \t [-2.048      -0.52402353]. \t  -2235.5517706651644 \t -5.111147072446322\n"
          ]
        }
      ],
      "source": [
        "### Bayesian optimisation runs (x20): 'STP' Acquisition Function run number = 16 \n",
        "\n",
        "np.random.seed(run_num_16)\n",
        "surrogate_stp_16 = tStudentProcess(cov_func, nu = df, optimize=hyperOpt)\n",
        "\n",
        "stp_16 = GPGO(surrogate_stp_16, Acquisition_new(util_stp), f_syn_polarity, param, n_jobs = -1) # Define BayesOpt\n",
        "stp_16.run(max_iter = max_iter, init_evals = n_init) # run\n"
      ]
    },
    {
      "cell_type": "code",
      "execution_count": null,
      "metadata": {
        "id": "TV8_B_7cJLlH",
        "colab": {
          "base_uri": "https://localhost:8080/"
        },
        "outputId": "9c12259b-0d0f-44aa-c857-313fa058305f"
      },
      "outputs": [
        {
          "output_type": "stream",
          "name": "stdout",
          "text": [
            "Evaluation \t Proposed point \t  Current eval. \t Best eval.\n",
            "init   \t [-0.84105215  0.12528335]. \t  -37.27181038922863 \t -0.19652774971866602\n",
            "init   \t [-1.26353086 -1.76988013]. \t  -1138.381976578598 \t -0.19652774971866602\n",
            "init   \t [1.17549244 0.64034211]. \t  -55.004181467935105 \t -0.19652774971866602\n",
            "init   \t [0.56328559 0.30966945]. \t  -0.19652774971866602 \t -0.19652774971866602\n",
            "init   \t [-1.8879983  -0.58239548]. \t  -1728.0458971940702 \t -0.19652774971866602\n",
            "1      \t [-0.54718559  1.82380039]. \t  -234.76975912296297 \t -0.19652774971866602\n",
            "2      \t [ 2.048 -2.048]. \t  -3897.7342268415996 \t -0.19652774971866602\n",
            "3      \t [2.048 2.048]. \t  -461.7603900415999 \t -0.19652774971866602\n",
            "4      \t [-2.048  2.048]. \t  -469.9523900415999 \t -0.19652774971866602\n",
            "5      \t [0.01516779 0.83704483]. \t  -70.99579034810621 \t -0.19652774971866602\n",
            "6      \t [0.58805934 2.048     ]. \t  -289.9134844363851 \t -0.19652774971866602\n",
            "7      \t [2.048      0.24518843]. \t  -1560.6496826399664 \t -0.19652774971866602\n",
            "8      \t [0.05148435 0.08541703]. \t  -1.584709523125046 \t -0.19652774971866602\n",
            "9      \t [-0.05782212  0.63500394]. \t  -41.018491343443344 \t -0.19652774971866602\n",
            "10     \t [-0.01530037 -2.048     ]. \t  -420.55712826328073 \t -0.19652774971866602\n",
            "11     \t [-1.51155996  0.99436767]. \t  -172.83297888684433 \t -0.19652774971866602\n",
            "12     \t [0.95137333 1.15594919]. \t  -6.294333356554877 \t -0.19652774971866602\n",
            "13     \t [-0.09694732 -1.0412219 ]. \t  -111.5836747212766 \t -0.19652774971866602\n",
            "14     \t [-0.82969493  0.86100376]. \t  -6.32720793825526 \t -0.19652774971866602\n",
            "15     \t [-2.048 -2.048]. \t  -3905.9262268415996 \t -0.19652774971866602\n",
            "16     \t [-0.6259878  -1.04814504]. \t  -210.00549786402132 \t -0.19652774971866602\n",
            "17     \t [-0.59509319 -2.048     ]. \t  -579.5700149490382 \t -0.19652774971866602\n",
            "18     \t [ 0.82566976 -0.76202723]. \t  -208.4740435394556 \t -0.19652774971866602\n",
            "19     \t [2.048     1.2928105]. \t  -842.9647547402864 \t -0.19652774971866602\n",
            "20     \t [ 0.05138755 -0.11831486]. \t  -2.3628898586203975 \t -0.19652774971866602\n"
          ]
        }
      ],
      "source": [
        "### Bayesian optimisation runs (x20): 'STP' Acquisition Function run number = 17 \n",
        "\n",
        "np.random.seed(run_num_17)\n",
        "surrogate_stp_17 = tStudentProcess(cov_func, nu = df, optimize=hyperOpt)\n",
        "\n",
        "stp_17 = GPGO(surrogate_stp_17, Acquisition_new(util_stp), f_syn_polarity, param, n_jobs = -1) # Define BayesOpt\n",
        "stp_17.run(max_iter = max_iter, init_evals = n_init) # run\n"
      ]
    },
    {
      "cell_type": "code",
      "execution_count": null,
      "metadata": {
        "id": "57ABzGR1JLlI",
        "colab": {
          "base_uri": "https://localhost:8080/"
        },
        "outputId": "a80e2e05-aac7-46ef-fbb4-2e795191c7d5"
      },
      "outputs": [
        {
          "output_type": "stream",
          "name": "stdout",
          "text": [
            "Evaluation \t Proposed point \t  Current eval. \t Best eval.\n",
            "init   \t [0.61593289 0.02233702]. \t  -12.895000300241685 \t -12.895000300241685\n",
            "init   \t [ 1.55075162 -1.30318244]. \t  -1375.2393970855524 \t -12.895000300241685\n",
            "init   \t [1.44274665 1.02455823]. \t  -111.91239818238155 \t -12.895000300241685\n",
            "init   \t [0.68035243 1.99841976]. \t  -235.89058418537797 \t -12.895000300241685\n",
            "init   \t [-0.99545734 -1.93205893]. \t  -858.3713873043706 \t -12.895000300241685\n",
            "1      \t [-2.048       1.41417095]. \t  -782.2042818287646 \t -12.895000300241685\n",
            "2      \t [2.048 2.048]. \t  -461.7603900415999 \t -12.895000300241685\n",
            "3      \t [-0.1345729   0.56844034]. \t  -31.573618391446495 \t -12.895000300241685\n",
            "4      \t [0.17416964 0.68782045]. \t  -43.91069831971145 \t -12.895000300241685\n",
            "5      \t [-2.048     -0.4770969]. \t  -2191.4889412550956 \t -12.895000300241685\n",
            "6      \t [-0.69691608  2.048     ]. \t  -246.96014412842462 \t -12.895000300241685\n",
            "7      \t [0.5535192  0.73625254]. \t  -18.678083804759414 \t -12.895000300241685\n",
            "8      \t [2.048      0.20005989]. \t  -1596.4969083244503 \t -12.895000300241685\n",
            "9      \t [-0.04741959 -0.51755696]. \t  -28.116871968295055 \t -12.895000300241685\n",
            "10     \t [ 0.33348513 -2.048     ]. \t  -466.66403141649437 \t -12.895000300241685\n",
            "11     \t [0.11424835 0.03039418]. \t  \u001b[92m-0.8146287238800495\u001b[0m \t -0.8146287238800495\n",
            "12     \t [-0.7893044  1.1952982]. \t  -35.95396878100828 \t -0.8146287238800495\n",
            "13     \t [-2.048 -2.048]. \t  -3905.9262268415996 \t -0.8146287238800495\n",
            "14     \t [-0.29024535 -1.57167986]. \t  -275.872574417326 \t -0.8146287238800495\n",
            "15     \t [ 2.048 -2.048]. \t  -3897.7342268415996 \t -0.8146287238800495\n",
            "16     \t [ 0.6393649  -0.84178198]. \t  -156.5224559671364 \t -0.8146287238800495\n",
            "17     \t [-2.048  2.048]. \t  -469.9523900415999 \t -0.8146287238800495\n",
            "18     \t [1.17717263 1.50028022]. \t  -1.343441461631578 \t -0.8146287238800495\n",
            "19     \t [-0.34748596 -2.048     ]. \t  -472.16185383329184 \t -0.8146287238800495\n",
            "20     \t [-0.79362979 -0.65503775]. \t  -168.31031196110462 \t -0.8146287238800495\n"
          ]
        }
      ],
      "source": [
        "### Bayesian optimisation runs (x20): 'STP' Acquisition Function run number = 18 \n",
        "\n",
        "np.random.seed(run_num_18)\n",
        "surrogate_stp_18 = tStudentProcess(cov_func, nu = df, optimize=hyperOpt)\n",
        "\n",
        "stp_18 = GPGO(surrogate_stp_18, Acquisition_new(util_stp), f_syn_polarity, param, n_jobs = -1) # Define BayesOpt\n",
        "stp_18.run(max_iter = max_iter, init_evals = n_init) # run\n"
      ]
    },
    {
      "cell_type": "code",
      "execution_count": null,
      "metadata": {
        "id": "x2CyIorrJLlJ",
        "colab": {
          "base_uri": "https://localhost:8080/"
        },
        "outputId": "bd850498-4859-4400-e083-9124e2e98e6c"
      },
      "outputs": [
        {
          "output_type": "stream",
          "name": "stdout",
          "text": [
            "Evaluation \t Proposed point \t  Current eval. \t Best eval.\n",
            "init   \t [-1.64850237  1.07007884]. \t  -278.43400025820534 \t -57.78708636899354\n",
            "init   \t [-1.03654206 -1.48221261]. \t  -657.7842496298689 \t -57.78708636899354\n",
            "init   \t [-0.69039488 -1.70803378]. \t  -480.139610337942 \t -57.78708636899354\n",
            "init   \t [0.70441812 1.2558082 ]. \t  -57.78708636899354 \t -57.78708636899354\n",
            "init   \t [1.97731088 0.55566637]. \t  -1125.9484203106679 \t -57.78708636899354\n",
            "1      \t [ 2.048 -2.048]. \t  -3897.7342268415996 \t -57.78708636899354\n",
            "2      \t [-0.31186614  2.048     ]. \t  -382.25945576772983 \t -57.78708636899354\n",
            "3      \t [-2.048  2.048]. \t  -469.9523900415999 \t -57.78708636899354\n",
            "4      \t [-2.048      -0.23501839]. \t  -1971.1799851356232 \t -57.78708636899354\n",
            "5      \t [2.048 2.048]. \t  -461.7603900415999 \t -57.78708636899354\n",
            "6      \t [-0.09712567  0.30234144]. \t  \u001b[92m-9.783196881071262\u001b[0m \t -9.783196881071262\n",
            "7      \t [-0.05900088  0.86076509]. \t  -74.61506657146099 \t -9.783196881071262\n",
            "8      \t [-2.048 -2.048]. \t  -3905.9262268415996 \t -9.783196881071262\n",
            "9      \t [-0.40929605 -0.81226064]. \t  -97.9837628047809 \t -9.783196881071262\n",
            "10     \t [ 0.22181415 -0.41322862]. \t  -21.98973693555512 \t -9.783196881071262\n",
            "11     \t [0.87131401 2.048     ]. \t  -166.12017040346717 \t -9.783196881071262\n",
            "12     \t [0.6982355  0.28297301]. \t  \u001b[92m-4.275533055967095\u001b[0m \t -4.275533055967095\n",
            "13     \t [-1.15317766  1.64782965]. \t  -14.749269000154985 \t -4.275533055967095\n",
            "14     \t [-0.90956725  0.80651543]. \t  \u001b[92m-3.689699264109178\u001b[0m \t -3.689699264109178\n",
            "15     \t [ 0.42699456 -2.048     ]. \t  -497.7630063239723 \t -3.689699264109178\n",
            "16     \t [ 1.24668865 -0.60080583]. \t  -464.4799154488459 \t -3.689699264109178\n",
            "17     \t [ 0.39483492 -1.22273639]. \t  -190.42857037820468 \t -3.689699264109178\n",
            "18     \t [1.36771449 1.56237265]. \t  -9.638270736537175 \t -3.689699264109178\n",
            "19     \t [ 0.01873883 -0.60144888]. \t  -37.17920005405118 \t -3.689699264109178\n",
            "20     \t [0.01175244 0.30423021]. \t  -10.223833247493841 \t -3.689699264109178\n"
          ]
        }
      ],
      "source": [
        "### Bayesian optimisation runs (x20): 'STP' Acquisition Function run number = 19 \n",
        "\n",
        "np.random.seed(run_num_19)\n",
        "surrogate_stp_19 = tStudentProcess(cov_func, nu = df, optimize=hyperOpt)\n",
        "\n",
        "stp_19 = GPGO(surrogate_stp_19, Acquisition_new(util_stp), f_syn_polarity, param, n_jobs = -1) # Define BayesOpt\n",
        "stp_19.run(max_iter = max_iter, init_evals = n_init) # run\n"
      ]
    },
    {
      "cell_type": "code",
      "execution_count": null,
      "metadata": {
        "id": "4O6_IplWJLlJ",
        "colab": {
          "base_uri": "https://localhost:8080/"
        },
        "outputId": "4c8c5a3f-6b32-45cc-a485-fff3b71756ca"
      },
      "outputs": [
        {
          "output_type": "stream",
          "name": "stdout",
          "text": [
            "Evaluation \t Proposed point \t  Current eval. \t Best eval.\n",
            "init   \t [0.36098376 1.62903543]. \t  -225.0263501192369 \t -5.168692520381821\n",
            "init   \t [1.60370987 1.29367031]. \t  -163.7478327754951 \t -5.168692520381821\n",
            "init   \t [-1.90099626  0.78543905]. \t  -808.3708592256118 \t -5.168692520381821\n",
            "init   \t [-0.49692286  0.07582083]. \t  -5.168692520381821 \t -5.168692520381821\n",
            "init   \t [ 0.6469692  -1.25398951]. \t  -279.86987688431674 \t -5.168692520381821\n",
            "1      \t [-2.048 -2.048]. \t  -3905.9262268415996 \t -5.168692520381821\n",
            "2      \t [ 2.048 -2.048]. \t  -3897.7342268415996 \t -5.168692520381821\n",
            "3      \t [0.67954782 0.14017693]. \t  -10.445879397363386 \t -5.168692520381821\n",
            "4      \t [2.048 2.048]. \t  -461.7603900415999 \t -5.168692520381821\n",
            "5      \t [-0.96583351  2.048     ]. \t  -128.22393832399186 \t -5.168692520381821\n",
            "6      \t [2.048      0.35801454]. \t  -1472.8099844387727 \t -5.168692520381821\n",
            "7      \t [-0.04975003 -0.43503042]. \t  -20.243080499429617 \t -5.168692520381821\n",
            "8      \t [-2.048  2.048]. \t  -469.9523900415999 \t -5.168692520381821\n",
            "9      \t [-0.03985695  0.67249909]. \t  -46.09339463284315 \t -5.168692520381821\n",
            "10     \t [0.2235323 2.048    ]. \t  -399.81661406782274 \t -5.168692520381821\n",
            "11     \t [ 6.17414071e-04 -2.04800000e+00]. \t  -420.4293216926478 \t -5.168692520381821\n",
            "12     \t [-2.048      -0.30888455]. \t  -2037.1610129272676 \t -5.168692520381821\n",
            "13     \t [1.19124465 2.048     ]. \t  -39.59264717931134 \t -5.168692520381821\n",
            "14     \t [-0.92505874  1.06835213]. \t  -8.226511807370752 \t -5.168692520381821\n",
            "15     \t [0.95098702 1.07888486]. \t  \u001b[92m-3.04772547331088\u001b[0m \t -3.04772547331088\n",
            "16     \t [ 0.4815753  -0.46873851]. \t  -49.360266121674734 \t -3.04772547331088\n",
            "17     \t [-0.12452425 -1.26663166]. \t  -165.65232524233147 \t -3.04772547331088\n",
            "18     \t [1.19333863 1.6098948 ]. \t  -3.4909458210808957 \t -3.04772547331088\n",
            "19     \t [-1.3355327   1.60130964]. \t  -8.779425468100326 \t -3.04772547331088\n",
            "20     \t [0.07947506 0.40281773]. \t  -16.56870570363662 \t -3.04772547331088\n"
          ]
        }
      ],
      "source": [
        "### Bayesian optimisation runs (x20): 'STP' Acquisition Function run number = 20 \n",
        "\n",
        "np.random.seed(run_num_20)\n",
        "surrogate_stp_20 = tStudentProcess(cov_func, nu = df, optimize=hyperOpt)\n",
        "\n",
        "stp_20 = GPGO(surrogate_stp_20, Acquisition_new(util_stp), f_syn_polarity, param, n_jobs = -1) # Define BayesOpt\n",
        "stp_20.run(max_iter = max_iter, init_evals = n_init) # run\n"
      ]
    },
    {
      "cell_type": "code",
      "execution_count": null,
      "metadata": {
        "id": "B9S2UvZ9JLlK",
        "colab": {
          "base_uri": "https://localhost:8080/"
        },
        "outputId": "044b5d4c-745e-4515-e24d-abb97af36b38"
      },
      "outputs": [
        {
          "output_type": "execute_result",
          "data": {
            "text/plain": [
              "(-1.061255115799484, -1.6087349419592718)"
            ]
          },
          "metadata": {},
          "execution_count": 49
        }
      ],
      "source": [
        "### Simple regret minimisation: run number = 1\n",
        "\n",
        "gp_output_1 = np.append(np.max(gp_1.GP.y[0:n_init]),gp_1.GP.y[n_init:(n_init+max_iter)]) \n",
        "stp_output_1 = np.append(np.max(stp_1.GP.y[0:n_init]),stp_1.GP.y[n_init:(n_init+max_iter)]) \n",
        "\n",
        "regret_gp_1 = np.log(y_global_orig - gp_output_1)\n",
        "regret_stp_1 = np.log(y_global_orig - stp_output_1)\n",
        "\n",
        "simple_regret_gp_1 = min_max_array(regret_gp_1)\n",
        "simple_regret_stp_1 = min_max_array(regret_stp_1)\n",
        "\n",
        "min_simple_regret_gp_1 = min(simple_regret_gp_1)\n",
        "min_simple_regret_stp_1 = min(simple_regret_stp_1)\n",
        "\n",
        "min_simple_regret_gp_1, min_simple_regret_stp_1\n"
      ]
    },
    {
      "cell_type": "code",
      "execution_count": null,
      "metadata": {
        "id": "adGcU8l5JLlK",
        "colab": {
          "base_uri": "https://localhost:8080/"
        },
        "outputId": "3a6609ac-36cc-40d8-e26d-52f9565b6110"
      },
      "outputs": [
        {
          "output_type": "execute_result",
          "data": {
            "text/plain": [
              "(0.26363914298848723, 0.956282578647052)"
            ]
          },
          "metadata": {},
          "execution_count": 50
        }
      ],
      "source": [
        "### Simple regret minimisation: run number = 2\n",
        "\n",
        "gp_output_2 = np.append(np.max(gp_2.GP.y[0:n_init]),gp_2.GP.y[n_init:(n_init+max_iter)]) \n",
        "stp_output_2 = np.append(np.max(stp_2.GP.y[0:n_init]),stp_2.GP.y[n_init:(n_init+max_iter)]) \n",
        "\n",
        "regret_gp_2 = np.log(y_global_orig - gp_output_2)\n",
        "regret_stp_2 = np.log(y_global_orig - stp_output_2)\n",
        "\n",
        "simple_regret_gp_2 = min_max_array(regret_gp_2)\n",
        "simple_regret_stp_2 = min_max_array(regret_stp_2)\n",
        "\n",
        "min_simple_regret_gp_2 = min(simple_regret_gp_2)\n",
        "min_simple_regret_stp_2 = min(simple_regret_stp_2)\n",
        "\n",
        "min_simple_regret_gp_2, min_simple_regret_stp_2\n"
      ]
    },
    {
      "cell_type": "code",
      "execution_count": null,
      "metadata": {
        "id": "1F9LaViaJLlL",
        "colab": {
          "base_uri": "https://localhost:8080/"
        },
        "outputId": "9bc27276-9f13-4f62-b105-cbf8e301d378"
      },
      "outputs": [
        {
          "output_type": "execute_result",
          "data": {
            "text/plain": [
              "(0.37352339008017915, 0.8828398711249016)"
            ]
          },
          "metadata": {},
          "execution_count": 51
        }
      ],
      "source": [
        "### Simple regret minimisation: run number = 3\n",
        "\n",
        "gp_output_3 = np.append(np.max(gp_3.GP.y[0:n_init]),gp_3.GP.y[n_init:(n_init+max_iter)]) \n",
        "stp_output_3 = np.append(np.max(stp_3.GP.y[0:n_init]),stp_3.GP.y[n_init:(n_init+max_iter)]) \n",
        "\n",
        "regret_gp_3 = np.log(y_global_orig - gp_output_3)\n",
        "regret_stp_3 = np.log(y_global_orig - stp_output_3)\n",
        "\n",
        "simple_regret_gp_3 = min_max_array(regret_gp_3)\n",
        "simple_regret_stp_3 = min_max_array(regret_stp_3)\n",
        "\n",
        "min_simple_regret_gp_3 = min(simple_regret_gp_3)\n",
        "min_simple_regret_stp_3 = min(simple_regret_stp_3)\n",
        "\n",
        "min_simple_regret_gp_3, min_simple_regret_stp_3\n"
      ]
    },
    {
      "cell_type": "code",
      "execution_count": null,
      "metadata": {
        "id": "vThMylZmJLlL",
        "colab": {
          "base_uri": "https://localhost:8080/"
        },
        "outputId": "13050298-9a81-44ce-9c33-74a91df078c1"
      },
      "outputs": [
        {
          "output_type": "execute_result",
          "data": {
            "text/plain": [
              "(1.1494960670420542, -0.019695224480528573)"
            ]
          },
          "metadata": {},
          "execution_count": 52
        }
      ],
      "source": [
        "### Simple regret minimisation: run number = 4\n",
        "\n",
        "gp_output_4 = np.append(np.max(gp_4.GP.y[0:n_init]),gp_4.GP.y[n_init:(n_init+max_iter)]) \n",
        "stp_output_4 = np.append(np.max(stp_4.GP.y[0:n_init]),stp_4.GP.y[n_init:(n_init+max_iter)]) \n",
        "\n",
        "regret_gp_4 = np.log(y_global_orig - gp_output_4)\n",
        "regret_stp_4 = np.log(y_global_orig - stp_output_4)\n",
        "\n",
        "simple_regret_gp_4 = min_max_array(regret_gp_4)\n",
        "simple_regret_stp_4 = min_max_array(regret_stp_4)\n",
        "\n",
        "min_simple_regret_gp_4 = min(simple_regret_gp_4)\n",
        "min_simple_regret_stp_4 = min(simple_regret_stp_4)\n",
        "\n",
        "min_simple_regret_gp_4, min_simple_regret_stp_4\n"
      ]
    },
    {
      "cell_type": "code",
      "execution_count": null,
      "metadata": {
        "id": "9Um6_WG7JLlM",
        "colab": {
          "base_uri": "https://localhost:8080/"
        },
        "outputId": "7cd7e66c-71fa-475e-b54f-3631237614da"
      },
      "outputs": [
        {
          "output_type": "execute_result",
          "data": {
            "text/plain": [
              "(0.6474081712121602, -0.0896636495736965)"
            ]
          },
          "metadata": {},
          "execution_count": 53
        }
      ],
      "source": [
        "### Simple regret minimisation: run number = 5\n",
        "\n",
        "gp_output_5 = np.append(np.max(gp_5.GP.y[0:n_init]),gp_5.GP.y[n_init:(n_init+max_iter)]) \n",
        "stp_output_5 = np.append(np.max(stp_5.GP.y[0:n_init]),stp_5.GP.y[n_init:(n_init+max_iter)]) \n",
        "\n",
        "regret_gp_5 = np.log(y_global_orig - gp_output_5)\n",
        "regret_stp_5 = np.log(y_global_orig - stp_output_5)\n",
        "\n",
        "simple_regret_gp_5 = min_max_array(regret_gp_5)\n",
        "simple_regret_stp_5 = min_max_array(regret_stp_5)\n",
        "\n",
        "min_simple_regret_gp_5 = min(simple_regret_gp_5)\n",
        "min_simple_regret_stp_5 = min(simple_regret_stp_5)\n",
        "\n",
        "min_simple_regret_gp_5, min_simple_regret_stp_5\n"
      ]
    },
    {
      "cell_type": "code",
      "execution_count": null,
      "metadata": {
        "id": "s7F8Y3b9JLlM",
        "colab": {
          "base_uri": "https://localhost:8080/"
        },
        "outputId": "08a0e838-2877-41ab-acf9-f7ae90029618"
      },
      "outputs": [
        {
          "output_type": "execute_result",
          "data": {
            "text/plain": [
              "(0.7099294281734387, 1.107540634427908)"
            ]
          },
          "metadata": {},
          "execution_count": 54
        }
      ],
      "source": [
        "### Simple regret minimisation: run number = 6\n",
        "\n",
        "gp_output_6 = np.append(np.max(gp_6.GP.y[0:n_init]),gp_6.GP.y[n_init:(n_init+max_iter)]) \n",
        "stp_output_6 = np.append(np.max(stp_6.GP.y[0:n_init]),stp_6.GP.y[n_init:(n_init+max_iter)]) \n",
        "\n",
        "regret_gp_6 = np.log(y_global_orig - gp_output_6)\n",
        "regret_stp_6 = np.log(y_global_orig - stp_output_6)\n",
        "\n",
        "simple_regret_gp_6 = min_max_array(regret_gp_6)\n",
        "simple_regret_stp_6 = min_max_array(regret_stp_6)\n",
        "\n",
        "min_simple_regret_gp_6 = min(simple_regret_gp_6)\n",
        "min_simple_regret_stp_6 = min(simple_regret_stp_6)\n",
        "\n",
        "min_simple_regret_gp_6, min_simple_regret_stp_6\n"
      ]
    },
    {
      "cell_type": "code",
      "execution_count": null,
      "metadata": {
        "id": "FbMNex-gJLlN",
        "colab": {
          "base_uri": "https://localhost:8080/"
        },
        "outputId": "8b74fa6a-f178-4dab-b65e-60cc092d532c"
      },
      "outputs": [
        {
          "output_type": "execute_result",
          "data": {
            "text/plain": [
              "(0.3925189040165767, -3.4135621183327385)"
            ]
          },
          "metadata": {},
          "execution_count": 55
        }
      ],
      "source": [
        "### Simple regret minimisation: run number = 7\n",
        "\n",
        "gp_output_7 = np.append(np.max(gp_7.GP.y[0:n_init]),gp_7.GP.y[n_init:(n_init+max_iter)]) \n",
        "stp_output_7 = np.append(np.max(stp_7.GP.y[0:n_init]),stp_7.GP.y[n_init:(n_init+max_iter)]) \n",
        "\n",
        "regret_gp_7 = np.log(y_global_orig - gp_output_7)\n",
        "regret_stp_7 = np.log(y_global_orig - stp_output_7)\n",
        "\n",
        "simple_regret_gp_7 = min_max_array(regret_gp_7)\n",
        "simple_regret_stp_7 = min_max_array(regret_stp_7)\n",
        "\n",
        "min_simple_regret_gp_7 = min(simple_regret_gp_7)\n",
        "min_simple_regret_stp_7 = min(simple_regret_stp_7)\n",
        "\n",
        "min_simple_regret_gp_7, min_simple_regret_stp_7\n"
      ]
    },
    {
      "cell_type": "code",
      "execution_count": null,
      "metadata": {
        "id": "yTxbjos2JLlN",
        "colab": {
          "base_uri": "https://localhost:8080/"
        },
        "outputId": "13679991-14b3-4415-a558-6fc4f41f75f5"
      },
      "outputs": [
        {
          "output_type": "execute_result",
          "data": {
            "text/plain": [
              "(0.5689197806346428, -0.6620794232610894)"
            ]
          },
          "metadata": {},
          "execution_count": 56
        }
      ],
      "source": [
        "### Simple regret minimisation: run number = 8\n",
        "\n",
        "gp_output_8 = np.append(np.max(gp_8.GP.y[0:n_init]),gp_8.GP.y[n_init:(n_init+max_iter)]) \n",
        "stp_output_8 = np.append(np.max(stp_8.GP.y[0:n_init]),stp_8.GP.y[n_init:(n_init+max_iter)]) \n",
        "\n",
        "regret_gp_8 = np.log(y_global_orig - gp_output_8)\n",
        "regret_stp_8 = np.log(y_global_orig - stp_output_8)\n",
        "\n",
        "simple_regret_gp_8 = min_max_array(regret_gp_8)\n",
        "simple_regret_stp_8 = min_max_array(regret_stp_8)\n",
        "\n",
        "min_simple_regret_gp_8 = min(simple_regret_gp_8)\n",
        "min_simple_regret_stp_8 = min(simple_regret_stp_8)\n",
        "\n",
        "min_simple_regret_gp_8, min_simple_regret_stp_8\n"
      ]
    },
    {
      "cell_type": "code",
      "execution_count": null,
      "metadata": {
        "id": "iBuMpq59JLlO",
        "colab": {
          "base_uri": "https://localhost:8080/"
        },
        "outputId": "b4adc58f-bf5e-48d2-b975-eee938aea7f6"
      },
      "outputs": [
        {
          "output_type": "execute_result",
          "data": {
            "text/plain": [
              "(0.7945265165309154, 0.8316710823686628)"
            ]
          },
          "metadata": {},
          "execution_count": 57
        }
      ],
      "source": [
        "### Simple regret minimisation: run number = 9\n",
        "\n",
        "gp_output_9 = np.append(np.max(gp_9.GP.y[0:n_init]),gp_9.GP.y[n_init:(n_init+max_iter)]) \n",
        "stp_output_9 = np.append(np.max(stp_9.GP.y[0:n_init]),stp_9.GP.y[n_init:(n_init+max_iter)]) \n",
        "\n",
        "regret_gp_9 = np.log(y_global_orig - gp_output_9)\n",
        "regret_stp_9 = np.log(y_global_orig - stp_output_9)\n",
        "\n",
        "simple_regret_gp_9 = min_max_array(regret_gp_9)\n",
        "simple_regret_stp_9 = min_max_array(regret_stp_9)\n",
        "\n",
        "min_simple_regret_gp_9 = min(simple_regret_gp_9)\n",
        "min_simple_regret_stp_9 = min(simple_regret_stp_9)\n",
        "\n",
        "min_simple_regret_gp_9, min_simple_regret_stp_9\n"
      ]
    },
    {
      "cell_type": "code",
      "execution_count": null,
      "metadata": {
        "id": "MT-MYaKEJLlO",
        "colab": {
          "base_uri": "https://localhost:8080/"
        },
        "outputId": "0d10a6dd-6eee-43a8-e246-8b7e4f83185e"
      },
      "outputs": [
        {
          "output_type": "execute_result",
          "data": {
            "text/plain": [
              "(0.860933128898407, 2.3430194276579805)"
            ]
          },
          "metadata": {},
          "execution_count": 58
        }
      ],
      "source": [
        "### Simple regret minimisation: run number = 10\n",
        "\n",
        "gp_output_10 = np.append(np.max(gp_10.GP.y[0:n_init]),gp_10.GP.y[n_init:(n_init+max_iter)]) \n",
        "stp_output_10 = np.append(np.max(stp_10.GP.y[0:n_init]),stp_10.GP.y[n_init:(n_init+max_iter)]) \n",
        "\n",
        "regret_gp_10 = np.log(y_global_orig - gp_output_10)\n",
        "regret_stp_10 = np.log(y_global_orig - stp_output_10)\n",
        "\n",
        "simple_regret_gp_10 = min_max_array(regret_gp_10)\n",
        "simple_regret_stp_10 = min_max_array(regret_stp_10)\n",
        "\n",
        "min_simple_regret_gp_10 = min(simple_regret_gp_10)\n",
        "min_simple_regret_stp_10 = min(simple_regret_stp_10)\n",
        "\n",
        "min_simple_regret_gp_10, min_simple_regret_stp_10\n"
      ]
    },
    {
      "cell_type": "code",
      "execution_count": null,
      "metadata": {
        "id": "JgXNMHBOJLlP",
        "colab": {
          "base_uri": "https://localhost:8080/"
        },
        "outputId": "049d1ff9-e4ea-47d9-c8ef-3e55102b42b5"
      },
      "outputs": [
        {
          "output_type": "execute_result",
          "data": {
            "text/plain": [
              "(-0.7135130181428825, -0.16083603184680273)"
            ]
          },
          "metadata": {},
          "execution_count": 59
        }
      ],
      "source": [
        "### Simple regret minimisation: run number = 11\n",
        "\n",
        "gp_output_11 = np.append(np.max(gp_11.GP.y[0:n_init]),gp_11.GP.y[n_init:(n_init+max_iter)]) \n",
        "stp_output_11 = np.append(np.max(stp_11.GP.y[0:n_init]),stp_11.GP.y[n_init:(n_init+max_iter)]) \n",
        "\n",
        "regret_gp_11 = np.log(y_global_orig - gp_output_11)\n",
        "regret_stp_11 = np.log(y_global_orig - stp_output_11)\n",
        "\n",
        "simple_regret_gp_11 = min_max_array(regret_gp_11)\n",
        "simple_regret_stp_11 = min_max_array(regret_stp_11)\n",
        "\n",
        "min_simple_regret_gp_11 = min(simple_regret_gp_11)\n",
        "min_simple_regret_stp_11 = min(simple_regret_stp_11)\n",
        "\n",
        "min_simple_regret_gp_11, min_simple_regret_stp_11\n"
      ]
    },
    {
      "cell_type": "code",
      "execution_count": null,
      "metadata": {
        "id": "CNvnLAXOJLlQ",
        "colab": {
          "base_uri": "https://localhost:8080/"
        },
        "outputId": "1a731d6b-efc0-46e4-a482-0892827121dd"
      },
      "outputs": [
        {
          "output_type": "execute_result",
          "data": {
            "text/plain": [
              "(0.8727102423859897, -0.712383355280008)"
            ]
          },
          "metadata": {},
          "execution_count": 60
        }
      ],
      "source": [
        "### Simple regret minimisation: run number = 12\n",
        "\n",
        "gp_output_12 = np.append(np.max(gp_12.GP.y[0:n_init]),gp_12.GP.y[n_init:(n_init+max_iter)]) \n",
        "stp_output_12 = np.append(np.max(stp_12.GP.y[0:n_init]),stp_12.GP.y[n_init:(n_init+max_iter)]) \n",
        "\n",
        "regret_gp_12 = np.log(y_global_orig - gp_output_12)\n",
        "regret_stp_12 = np.log(y_global_orig - stp_output_12)\n",
        "\n",
        "simple_regret_gp_12 = min_max_array(regret_gp_12)\n",
        "simple_regret_stp_12 = min_max_array(regret_stp_12)\n",
        "\n",
        "min_simple_regret_gp_12 = min(simple_regret_gp_12)\n",
        "min_simple_regret_stp_12 = min(simple_regret_stp_12)\n",
        "\n",
        "min_simple_regret_gp_12, min_simple_regret_stp_12\n"
      ]
    },
    {
      "cell_type": "code",
      "execution_count": null,
      "metadata": {
        "id": "LccPP2SJJLlQ",
        "colab": {
          "base_uri": "https://localhost:8080/"
        },
        "outputId": "31d6988d-c080-486f-c477-4e47c30baf17"
      },
      "outputs": [
        {
          "output_type": "execute_result",
          "data": {
            "text/plain": [
              "(0.7729890809102185, 0.7729890809102185)"
            ]
          },
          "metadata": {},
          "execution_count": 61
        }
      ],
      "source": [
        "### Simple regret minimisation: run number = 13\n",
        "\n",
        "gp_output_13 = np.append(np.max(gp_13.GP.y[0:n_init]),gp_13.GP.y[n_init:(n_init+max_iter)]) \n",
        "stp_output_13 = np.append(np.max(stp_13.GP.y[0:n_init]),stp_13.GP.y[n_init:(n_init+max_iter)]) \n",
        "\n",
        "regret_gp_13 = np.log(y_global_orig - gp_output_13)\n",
        "regret_stp_13 = np.log(y_global_orig - stp_output_13)\n",
        "\n",
        "simple_regret_gp_13 = min_max_array(regret_gp_13)\n",
        "simple_regret_stp_13 = min_max_array(regret_stp_13)\n",
        "\n",
        "min_simple_regret_gp_13 = min(simple_regret_gp_13)\n",
        "min_simple_regret_stp_13 = min(simple_regret_stp_13)\n",
        "\n",
        "min_simple_regret_gp_13, min_simple_regret_stp_13\n"
      ]
    },
    {
      "cell_type": "code",
      "execution_count": null,
      "metadata": {
        "id": "OsCDbV_CJLlR",
        "colab": {
          "base_uri": "https://localhost:8080/"
        },
        "outputId": "cfd515fd-9084-4a06-d972-e049ba016b0b"
      },
      "outputs": [
        {
          "output_type": "execute_result",
          "data": {
            "text/plain": [
              "(-0.44909258257370777, -0.46052314368300373)"
            ]
          },
          "metadata": {},
          "execution_count": 62
        }
      ],
      "source": [
        "### Simple regret minimisation: run number = 14\n",
        "\n",
        "gp_output_14 = np.append(np.max(gp_14.GP.y[0:n_init]),gp_14.GP.y[n_init:(n_init+max_iter)]) \n",
        "stp_output_14 = np.append(np.max(stp_14.GP.y[0:n_init]),stp_14.GP.y[n_init:(n_init+max_iter)]) \n",
        "\n",
        "regret_gp_14 = np.log(y_global_orig - gp_output_14)\n",
        "regret_stp_14 = np.log(y_global_orig - stp_output_14)\n",
        "\n",
        "simple_regret_gp_14 = min_max_array(regret_gp_14)\n",
        "simple_regret_stp_14 = min_max_array(regret_stp_14)\n",
        "\n",
        "min_simple_regret_gp_14 = min(simple_regret_gp_14)\n",
        "min_simple_regret_stp_14 = min(simple_regret_stp_14)\n",
        "\n",
        "min_simple_regret_gp_14, min_simple_regret_stp_14\n"
      ]
    },
    {
      "cell_type": "code",
      "execution_count": null,
      "metadata": {
        "id": "HVNGSKzNJLlR",
        "colab": {
          "base_uri": "https://localhost:8080/"
        },
        "outputId": "ade5654f-9804-4819-eabc-29f8c5dec074"
      },
      "outputs": [
        {
          "output_type": "execute_result",
          "data": {
            "text/plain": [
              "(0.6209732327919153, 0.2218193109739819)"
            ]
          },
          "metadata": {},
          "execution_count": 63
        }
      ],
      "source": [
        "### Simple regret minimisation: run number = 15\n",
        "\n",
        "gp_output_15 = np.append(np.max(gp_15.GP.y[0:n_init]),gp_15.GP.y[n_init:(n_init+max_iter)]) \n",
        "stp_output_15 = np.append(np.max(stp_15.GP.y[0:n_init]),stp_15.GP.y[n_init:(n_init+max_iter)]) \n",
        "\n",
        "regret_gp_15 = np.log(y_global_orig - gp_output_15)\n",
        "regret_stp_15 = np.log(y_global_orig - stp_output_15)\n",
        "\n",
        "simple_regret_gp_15 = min_max_array(regret_gp_15)\n",
        "simple_regret_stp_15 = min_max_array(regret_stp_15)\n",
        "\n",
        "min_simple_regret_gp_15 = min(simple_regret_gp_15)\n",
        "min_simple_regret_stp_15 = min(simple_regret_stp_15)\n",
        "\n",
        "min_simple_regret_gp_15, min_simple_regret_stp_15\n"
      ]
    },
    {
      "cell_type": "code",
      "execution_count": null,
      "metadata": {
        "id": "vFT0-DcpJLlS",
        "colab": {
          "base_uri": "https://localhost:8080/"
        },
        "outputId": "9e6c5f5b-f293-44df-8326-156df6844462"
      },
      "outputs": [
        {
          "output_type": "execute_result",
          "data": {
            "text/plain": [
              "(0.43926283004881167, 1.6314238550415345)"
            ]
          },
          "metadata": {},
          "execution_count": 64
        }
      ],
      "source": [
        "### Simple regret minimisation: run number = 16\n",
        "\n",
        "gp_output_16 = np.append(np.max(gp_16.GP.y[0:n_init]),gp_16.GP.y[n_init:(n_init+max_iter)]) \n",
        "stp_output_16 = np.append(np.max(stp_16.GP.y[0:n_init]),stp_16.GP.y[n_init:(n_init+max_iter)]) \n",
        "\n",
        "regret_gp_16 = np.log(y_global_orig - gp_output_16)\n",
        "regret_stp_16 = np.log(y_global_orig - stp_output_16)\n",
        "\n",
        "simple_regret_gp_16 = min_max_array(regret_gp_16)\n",
        "simple_regret_stp_16 = min_max_array(regret_stp_16)\n",
        "\n",
        "min_simple_regret_gp_16 = min(simple_regret_gp_16)\n",
        "min_simple_regret_stp_16 = min(simple_regret_stp_16)\n",
        "\n",
        "min_simple_regret_gp_16, min_simple_regret_stp_16\n"
      ]
    },
    {
      "cell_type": "code",
      "execution_count": null,
      "metadata": {
        "id": "TPbl73U3JLlS",
        "colab": {
          "base_uri": "https://localhost:8080/"
        },
        "outputId": "39f48316-50e1-41b8-eff3-bad8f5b4aef8"
      },
      "outputs": [
        {
          "output_type": "execute_result",
          "data": {
            "text/plain": [
              "(-1.6269516377010977, -1.6269516377010977)"
            ]
          },
          "metadata": {},
          "execution_count": 65
        }
      ],
      "source": [
        "### Simple regret minimisation: run number = 17\n",
        "\n",
        "gp_output_17 = np.append(np.max(gp_17.GP.y[0:n_init]),gp_17.GP.y[n_init:(n_init+max_iter)]) \n",
        "stp_output_17 = np.append(np.max(stp_17.GP.y[0:n_init]),stp_17.GP.y[n_init:(n_init+max_iter)]) \n",
        "\n",
        "regret_gp_17 = np.log(y_global_orig - gp_output_17)\n",
        "regret_stp_17 = np.log(y_global_orig - stp_output_17)\n",
        "\n",
        "simple_regret_gp_17 = min_max_array(regret_gp_17)\n",
        "simple_regret_stp_17 = min_max_array(regret_stp_17)\n",
        "\n",
        "min_simple_regret_gp_17 = min(simple_regret_gp_17)\n",
        "min_simple_regret_stp_17 = min(simple_regret_stp_17)\n",
        "\n",
        "min_simple_regret_gp_17, min_simple_regret_stp_17\n"
      ]
    },
    {
      "cell_type": "code",
      "execution_count": null,
      "metadata": {
        "id": "ANjpLP7uJLlT",
        "colab": {
          "base_uri": "https://localhost:8080/"
        },
        "outputId": "85659451-cbee-4ddf-9e6f-59651eb68cce"
      },
      "outputs": [
        {
          "output_type": "execute_result",
          "data": {
            "text/plain": [
              "(1.1277939551841312, -0.20502282305871575)"
            ]
          },
          "metadata": {},
          "execution_count": 66
        }
      ],
      "source": [
        "### Simple regret minimisation: run number = 18\n",
        "\n",
        "gp_output_18 = np.append(np.max(gp_18.GP.y[0:n_init]),gp_18.GP.y[n_init:(n_init+max_iter)]) \n",
        "stp_output_18 = np.append(np.max(stp_18.GP.y[0:n_init]),stp_18.GP.y[n_init:(n_init+max_iter)]) \n",
        "\n",
        "regret_gp_18 = np.log(y_global_orig - gp_output_18)\n",
        "regret_stp_18 = np.log(y_global_orig - stp_output_18)\n",
        "\n",
        "simple_regret_gp_18 = min_max_array(regret_gp_18)\n",
        "simple_regret_stp_18 = min_max_array(regret_stp_18)\n",
        "\n",
        "min_simple_regret_gp_18 = min(simple_regret_gp_18)\n",
        "min_simple_regret_stp_18 = min(simple_regret_stp_18)\n",
        "\n",
        "min_simple_regret_gp_18, min_simple_regret_stp_18\n"
      ]
    },
    {
      "cell_type": "code",
      "execution_count": null,
      "metadata": {
        "id": "yYy7bHMOJLlT",
        "colab": {
          "base_uri": "https://localhost:8080/"
        },
        "outputId": "b22592aa-e4ee-4abd-aa54-04a199e47429"
      },
      "outputs": [
        {
          "output_type": "execute_result",
          "data": {
            "text/plain": [
              "(0.12391500191425169, 1.3055449544896955)"
            ]
          },
          "metadata": {},
          "execution_count": 67
        }
      ],
      "source": [
        "### Simple regret minimisation: run number = 19\n",
        "\n",
        "gp_output_19 = np.append(np.max(gp_19.GP.y[0:n_init]),gp_19.GP.y[n_init:(n_init+max_iter)]) \n",
        "stp_output_19 = np.append(np.max(stp_19.GP.y[0:n_init]),stp_19.GP.y[n_init:(n_init+max_iter)]) \n",
        "\n",
        "regret_gp_19 = np.log(y_global_orig - gp_output_19)\n",
        "regret_stp_19 = np.log(y_global_orig - stp_output_19)\n",
        "\n",
        "simple_regret_gp_19 = min_max_array(regret_gp_19)\n",
        "simple_regret_stp_19 = min_max_array(regret_stp_19)\n",
        "\n",
        "min_simple_regret_gp_19 = min(simple_regret_gp_19)\n",
        "min_simple_regret_stp_19 = min(simple_regret_stp_19)\n",
        "\n",
        "min_simple_regret_gp_19, min_simple_regret_stp_19\n"
      ]
    },
    {
      "cell_type": "code",
      "execution_count": null,
      "metadata": {
        "id": "7h8DTQ7MJLlU",
        "colab": {
          "base_uri": "https://localhost:8080/"
        },
        "outputId": "ebef18ae-9548-4e0b-90ff-017284e94cae"
      },
      "outputs": [
        {
          "output_type": "execute_result",
          "data": {
            "text/plain": [
              "(0.2953659990094346, 1.1143955659566598)"
            ]
          },
          "metadata": {},
          "execution_count": 68
        }
      ],
      "source": [
        "### Simple regret minimisation: run number = 20\n",
        "\n",
        "gp_output_20 = np.append(np.max(gp_20.GP.y[0:n_init]),gp_20.GP.y[n_init:(n_init+max_iter)]) \n",
        "stp_output_20 = np.append(np.max(stp_20.GP.y[0:n_init]),stp_20.GP.y[n_init:(n_init+max_iter)]) \n",
        "\n",
        "regret_gp_20 = np.log(y_global_orig - gp_output_20)\n",
        "regret_stp_20 = np.log(y_global_orig - stp_output_20)\n",
        "\n",
        "simple_regret_gp_20 = min_max_array(regret_gp_20)\n",
        "simple_regret_stp_20 = min_max_array(regret_stp_20)\n",
        "\n",
        "min_simple_regret_gp_20 = min(simple_regret_gp_20)\n",
        "min_simple_regret_stp_20 = min(simple_regret_stp_20)\n",
        "\n",
        "min_simple_regret_gp_20, min_simple_regret_stp_20\n"
      ]
    },
    {
      "cell_type": "code",
      "execution_count": null,
      "metadata": {
        "id": "FuTVzVQkJLlU"
      },
      "outputs": [],
      "source": [
        "# Iteration1 :\n",
        "\n",
        "slice1 = 0\n",
        "\n",
        "gp1 = [simple_regret_gp_1[slice1],\n",
        "       simple_regret_gp_2[slice1],\n",
        "       simple_regret_gp_3[slice1],\n",
        "       simple_regret_gp_4[slice1],\n",
        "       simple_regret_gp_5[slice1],\n",
        "       simple_regret_gp_6[slice1],\n",
        "       simple_regret_gp_7[slice1],\n",
        "       simple_regret_gp_8[slice1],\n",
        "       simple_regret_gp_9[slice1],\n",
        "       simple_regret_gp_10[slice1],\n",
        "       simple_regret_gp_11[slice1],\n",
        "       simple_regret_gp_12[slice1],\n",
        "       simple_regret_gp_13[slice1],\n",
        "       simple_regret_gp_14[slice1],\n",
        "       simple_regret_gp_15[slice1],\n",
        "       simple_regret_gp_16[slice1],\n",
        "       simple_regret_gp_17[slice1],\n",
        "       simple_regret_gp_18[slice1],\n",
        "       simple_regret_gp_19[slice1],\n",
        "       simple_regret_gp_20[slice1]]\n",
        "\n",
        "stp1 = [simple_regret_stp_1[slice1],\n",
        "       simple_regret_stp_2[slice1],\n",
        "       simple_regret_stp_3[slice1],\n",
        "       simple_regret_stp_4[slice1],\n",
        "       simple_regret_stp_5[slice1],\n",
        "       simple_regret_stp_6[slice1],\n",
        "       simple_regret_stp_7[slice1],\n",
        "       simple_regret_stp_8[slice1],\n",
        "       simple_regret_stp_9[slice1],\n",
        "       simple_regret_stp_10[slice1],\n",
        "       simple_regret_stp_11[slice1],\n",
        "       simple_regret_stp_12[slice1],\n",
        "       simple_regret_stp_13[slice1],\n",
        "       simple_regret_stp_14[slice1],\n",
        "       simple_regret_stp_15[slice1],\n",
        "       simple_regret_stp_16[slice1],\n",
        "       simple_regret_stp_17[slice1],\n",
        "       simple_regret_stp_18[slice1],\n",
        "       simple_regret_stp_19[slice1],\n",
        "       simple_regret_stp_20[slice1]]\n",
        "\n",
        "gp1_results = pd.DataFrame(gp1).sort_values(by=[0], ascending=False)\n",
        "stp1_results = pd.DataFrame(stp1).sort_values(by=[0], ascending=False)\n",
        "\n",
        "### Best training regret minimization IQR - gp:\n",
        "lower_gp1 = np.asarray(gp1_results[4:5][0])[0]\n",
        "median_gp1 = np.asarray(gp1_results[9:10][0])[0]\n",
        "upper_gp1 = np.asarray(gp1_results[14:15][0])[0]\n",
        "\n",
        "lower_stp1 = np.asarray(stp1_results[4:5][0])[0]\n",
        "median_stp1 = np.asarray(stp1_results[9:10][0])[0]\n",
        "upper_stp1 = np.asarray(stp1_results[14:15][0])[0]\n"
      ]
    },
    {
      "cell_type": "code",
      "execution_count": null,
      "metadata": {
        "id": "OCTtqlBHJLlV"
      },
      "outputs": [],
      "source": [
        "# Iteration11 :\n",
        "\n",
        "slice11 = 10\n",
        "\n",
        "gp11 = [simple_regret_gp_1[slice11],\n",
        "       simple_regret_gp_2[slice11],\n",
        "       simple_regret_gp_3[slice11],\n",
        "       simple_regret_gp_4[slice11],\n",
        "       simple_regret_gp_5[slice11],\n",
        "       simple_regret_gp_6[slice11],\n",
        "       simple_regret_gp_7[slice11],\n",
        "       simple_regret_gp_8[slice11],\n",
        "       simple_regret_gp_9[slice11],\n",
        "       simple_regret_gp_10[slice11],\n",
        "       simple_regret_gp_11[slice11],\n",
        "       simple_regret_gp_12[slice11],\n",
        "       simple_regret_gp_13[slice11],\n",
        "       simple_regret_gp_14[slice11],\n",
        "       simple_regret_gp_15[slice11],\n",
        "       simple_regret_gp_16[slice11],\n",
        "       simple_regret_gp_17[slice11],\n",
        "       simple_regret_gp_18[slice11],\n",
        "       simple_regret_gp_19[slice11],\n",
        "       simple_regret_gp_20[slice11]]\n",
        "\n",
        "stp11 = [simple_regret_stp_1[slice11],\n",
        "       simple_regret_stp_2[slice11],\n",
        "       simple_regret_stp_3[slice11],\n",
        "       simple_regret_stp_4[slice11],\n",
        "       simple_regret_stp_5[slice11],\n",
        "       simple_regret_stp_6[slice11],\n",
        "       simple_regret_stp_7[slice11],\n",
        "       simple_regret_stp_8[slice11],\n",
        "       simple_regret_stp_9[slice11],\n",
        "       simple_regret_stp_10[slice11],\n",
        "       simple_regret_stp_11[slice11],\n",
        "       simple_regret_stp_12[slice11],\n",
        "       simple_regret_stp_13[slice11],\n",
        "       simple_regret_stp_14[slice11],\n",
        "       simple_regret_stp_15[slice11],\n",
        "       simple_regret_stp_16[slice11],\n",
        "       simple_regret_stp_17[slice11],\n",
        "       simple_regret_stp_18[slice11],\n",
        "       simple_regret_stp_19[slice11],\n",
        "       simple_regret_stp_20[slice11]]\n",
        "\n",
        "gp11_results = pd.DataFrame(gp11).sort_values(by=[0], ascending=False)\n",
        "stp11_results = pd.DataFrame(stp11).sort_values(by=[0], ascending=False)\n",
        "\n",
        "### Best training regret minimization IQR - gp:\n",
        "lower_gp11 = np.asarray(gp11_results[4:5][0])[0]\n",
        "median_gp11 = np.asarray(gp11_results[9:10][0])[0]\n",
        "upper_gp11 = np.asarray(gp11_results[14:15][0])[0]\n",
        "\n",
        "lower_stp11 = np.asarray(stp11_results[4:5][0])[0]\n",
        "median_stp11 = np.asarray(stp11_results[9:10][0])[0]\n",
        "upper_stp11 = np.asarray(stp11_results[14:15][0])[0]\n"
      ]
    },
    {
      "cell_type": "code",
      "execution_count": null,
      "metadata": {
        "id": "OhneK6K5JLlV"
      },
      "outputs": [],
      "source": [
        "# Iteration21 :\n",
        "\n",
        "slice21 = 20\n",
        "\n",
        "gp21 = [simple_regret_gp_1[slice21],\n",
        "       simple_regret_gp_2[slice21],\n",
        "       simple_regret_gp_3[slice21],\n",
        "       simple_regret_gp_4[slice21],\n",
        "       simple_regret_gp_5[slice21],\n",
        "       simple_regret_gp_6[slice21],\n",
        "       simple_regret_gp_7[slice21],\n",
        "       simple_regret_gp_8[slice21],\n",
        "       simple_regret_gp_9[slice21],\n",
        "       simple_regret_gp_10[slice21],\n",
        "       simple_regret_gp_11[slice21],\n",
        "       simple_regret_gp_12[slice21],\n",
        "       simple_regret_gp_13[slice21],\n",
        "       simple_regret_gp_14[slice21],\n",
        "       simple_regret_gp_15[slice21],\n",
        "       simple_regret_gp_16[slice21],\n",
        "       simple_regret_gp_17[slice21],\n",
        "       simple_regret_gp_18[slice21],\n",
        "       simple_regret_gp_19[slice21],\n",
        "       simple_regret_gp_20[slice21]]\n",
        "\n",
        "stp21 = [simple_regret_stp_1[slice21],\n",
        "       simple_regret_stp_2[slice21],\n",
        "       simple_regret_stp_3[slice21],\n",
        "       simple_regret_stp_4[slice21],\n",
        "       simple_regret_stp_5[slice21],\n",
        "       simple_regret_stp_6[slice21],\n",
        "       simple_regret_stp_7[slice21],\n",
        "       simple_regret_stp_8[slice21],\n",
        "       simple_regret_stp_9[slice21],\n",
        "       simple_regret_stp_10[slice21],\n",
        "       simple_regret_stp_11[slice21],\n",
        "       simple_regret_stp_12[slice21],\n",
        "       simple_regret_stp_13[slice21],\n",
        "       simple_regret_stp_14[slice21],\n",
        "       simple_regret_stp_15[slice21],\n",
        "       simple_regret_stp_16[slice21],\n",
        "       simple_regret_stp_17[slice21],\n",
        "       simple_regret_stp_18[slice21],\n",
        "       simple_regret_stp_19[slice21],\n",
        "       simple_regret_stp_20[slice21]]\n",
        "\n",
        "gp21_results = pd.DataFrame(gp21).sort_values(by=[0], ascending=False)\n",
        "stp21_results = pd.DataFrame(stp21).sort_values(by=[0], ascending=False)\n",
        "\n",
        "### Best training regret minimization IQR - gp:\n",
        "lower_gp21 = np.asarray(gp21_results[4:5][0])[0]\n",
        "median_gp21 = np.asarray(gp21_results[9:10][0])[0]\n",
        "upper_gp21 = np.asarray(gp21_results[14:15][0])[0]\n",
        "\n",
        "lower_stp21 = np.asarray(stp21_results[4:5][0])[0]\n",
        "median_stp21 = np.asarray(stp21_results[9:10][0])[0]\n",
        "upper_stp21 = np.asarray(stp21_results[14:15][0])[0]\n"
      ]
    },
    {
      "cell_type": "code",
      "execution_count": null,
      "metadata": {
        "id": "wetKUCmLJLlb"
      },
      "outputs": [],
      "source": [
        "# Iteration2 :\n",
        "\n",
        "slice2 = 1\n",
        "\n",
        "gp2 = [simple_regret_gp_1[slice2],\n",
        "       simple_regret_gp_2[slice2],\n",
        "       simple_regret_gp_3[slice2],\n",
        "       simple_regret_gp_4[slice2],\n",
        "       simple_regret_gp_5[slice2],\n",
        "       simple_regret_gp_6[slice2],\n",
        "       simple_regret_gp_7[slice2],\n",
        "       simple_regret_gp_8[slice2],\n",
        "       simple_regret_gp_9[slice2],\n",
        "       simple_regret_gp_10[slice2],\n",
        "       simple_regret_gp_11[slice2],\n",
        "       simple_regret_gp_12[slice2],\n",
        "       simple_regret_gp_13[slice2],\n",
        "       simple_regret_gp_14[slice2],\n",
        "       simple_regret_gp_15[slice2],\n",
        "       simple_regret_gp_16[slice2],\n",
        "       simple_regret_gp_17[slice2],\n",
        "       simple_regret_gp_18[slice2],\n",
        "       simple_regret_gp_19[slice2],\n",
        "       simple_regret_gp_20[slice2]]\n",
        "\n",
        "stp2 = [simple_regret_stp_1[slice2],\n",
        "       simple_regret_stp_2[slice2],\n",
        "       simple_regret_stp_3[slice2],\n",
        "       simple_regret_stp_4[slice2],\n",
        "       simple_regret_stp_5[slice2],\n",
        "       simple_regret_stp_6[slice2],\n",
        "       simple_regret_stp_7[slice2],\n",
        "       simple_regret_stp_8[slice2],\n",
        "       simple_regret_stp_9[slice2],\n",
        "       simple_regret_stp_10[slice2],\n",
        "       simple_regret_stp_11[slice2],\n",
        "       simple_regret_stp_12[slice2],\n",
        "       simple_regret_stp_13[slice2],\n",
        "       simple_regret_stp_14[slice2],\n",
        "       simple_regret_stp_15[slice2],\n",
        "       simple_regret_stp_16[slice2],\n",
        "       simple_regret_stp_17[slice2],\n",
        "       simple_regret_stp_18[slice2],\n",
        "       simple_regret_stp_19[slice2],\n",
        "       simple_regret_stp_20[slice2]]\n",
        "\n",
        "gp2_results = pd.DataFrame(gp2).sort_values(by=[0], ascending=False)\n",
        "stp2_results = pd.DataFrame(stp2).sort_values(by=[0], ascending=False)\n",
        "\n",
        "### Best training regret minimization IQR - gp:\n",
        "lower_gp2 = np.asarray(gp2_results[4:5][0])[0]\n",
        "median_gp2 = np.asarray(gp2_results[9:10][0])[0]\n",
        "upper_gp2 = np.asarray(gp2_results[14:15][0])[0]\n",
        "\n",
        "lower_stp2 = np.asarray(stp2_results[4:5][0])[0]\n",
        "median_stp2 = np.asarray(stp2_results[9:10][0])[0]\n",
        "upper_stp2 = np.asarray(stp2_results[14:15][0])[0]\n"
      ]
    },
    {
      "cell_type": "code",
      "execution_count": null,
      "metadata": {
        "id": "8dIyaTLKJLlc"
      },
      "outputs": [],
      "source": [
        "# Iteration12 :\n",
        "\n",
        "slice12 = 11\n",
        "\n",
        "gp12 = [simple_regret_gp_1[slice12],\n",
        "       simple_regret_gp_2[slice12],\n",
        "       simple_regret_gp_3[slice12],\n",
        "       simple_regret_gp_4[slice12],\n",
        "       simple_regret_gp_5[slice12],\n",
        "       simple_regret_gp_6[slice12],\n",
        "       simple_regret_gp_7[slice12],\n",
        "       simple_regret_gp_8[slice12],\n",
        "       simple_regret_gp_9[slice12],\n",
        "       simple_regret_gp_10[slice12],\n",
        "       simple_regret_gp_11[slice12],\n",
        "       simple_regret_gp_12[slice12],\n",
        "       simple_regret_gp_13[slice12],\n",
        "       simple_regret_gp_14[slice12],\n",
        "       simple_regret_gp_15[slice12],\n",
        "       simple_regret_gp_16[slice12],\n",
        "       simple_regret_gp_17[slice12],\n",
        "       simple_regret_gp_18[slice12],\n",
        "       simple_regret_gp_19[slice12],\n",
        "       simple_regret_gp_20[slice12]]\n",
        "\n",
        "stp12 = [simple_regret_stp_1[slice12],\n",
        "       simple_regret_stp_2[slice12],\n",
        "       simple_regret_stp_3[slice12],\n",
        "       simple_regret_stp_4[slice12],\n",
        "       simple_regret_stp_5[slice12],\n",
        "       simple_regret_stp_6[slice12],\n",
        "       simple_regret_stp_7[slice12],\n",
        "       simple_regret_stp_8[slice12],\n",
        "       simple_regret_stp_9[slice12],\n",
        "       simple_regret_stp_10[slice12],\n",
        "       simple_regret_stp_11[slice12],\n",
        "       simple_regret_stp_12[slice12],\n",
        "       simple_regret_stp_13[slice12],\n",
        "       simple_regret_stp_14[slice12],\n",
        "       simple_regret_stp_15[slice12],\n",
        "       simple_regret_stp_16[slice12],\n",
        "       simple_regret_stp_17[slice12],\n",
        "       simple_regret_stp_18[slice12],\n",
        "       simple_regret_stp_19[slice12],\n",
        "       simple_regret_stp_20[slice12]]\n",
        "\n",
        "gp12_results = pd.DataFrame(gp12).sort_values(by=[0], ascending=False)\n",
        "stp12_results = pd.DataFrame(stp12).sort_values(by=[0], ascending=False)\n",
        "\n",
        "### Best training regret minimization IQR - gp:\n",
        "lower_gp12 = np.asarray(gp12_results[4:5][0])[0]\n",
        "median_gp12 = np.asarray(gp12_results[9:10][0])[0]\n",
        "upper_gp12 = np.asarray(gp12_results[14:15][0])[0]\n",
        "\n",
        "lower_stp12 = np.asarray(stp12_results[4:5][0])[0]\n",
        "median_stp12 = np.asarray(stp12_results[9:10][0])[0]\n",
        "upper_stp12 = np.asarray(stp12_results[14:15][0])[0]\n"
      ]
    },
    {
      "cell_type": "code",
      "execution_count": null,
      "metadata": {
        "id": "1_6u8LF1JLlt"
      },
      "outputs": [],
      "source": [
        "# Iteration3 :\n",
        "\n",
        "slice3 = 2\n",
        "\n",
        "gp3 = [simple_regret_gp_1[slice3],\n",
        "       simple_regret_gp_2[slice3],\n",
        "       simple_regret_gp_3[slice3],\n",
        "       simple_regret_gp_4[slice3],\n",
        "       simple_regret_gp_5[slice3],\n",
        "       simple_regret_gp_6[slice3],\n",
        "       simple_regret_gp_7[slice3],\n",
        "       simple_regret_gp_8[slice3],\n",
        "       simple_regret_gp_9[slice3],\n",
        "       simple_regret_gp_10[slice3],\n",
        "       simple_regret_gp_11[slice3],\n",
        "       simple_regret_gp_12[slice3],\n",
        "       simple_regret_gp_13[slice3],\n",
        "       simple_regret_gp_14[slice3],\n",
        "       simple_regret_gp_15[slice3],\n",
        "       simple_regret_gp_16[slice3],\n",
        "       simple_regret_gp_17[slice3],\n",
        "       simple_regret_gp_18[slice3],\n",
        "       simple_regret_gp_19[slice3],\n",
        "       simple_regret_gp_20[slice3]]\n",
        "\n",
        "stp3 = [simple_regret_stp_1[slice3],\n",
        "       simple_regret_stp_2[slice3],\n",
        "       simple_regret_stp_3[slice3],\n",
        "       simple_regret_stp_4[slice3],\n",
        "       simple_regret_stp_5[slice3],\n",
        "       simple_regret_stp_6[slice3],\n",
        "       simple_regret_stp_7[slice3],\n",
        "       simple_regret_stp_8[slice3],\n",
        "       simple_regret_stp_9[slice3],\n",
        "       simple_regret_stp_10[slice3],\n",
        "       simple_regret_stp_11[slice3],\n",
        "       simple_regret_stp_12[slice3],\n",
        "       simple_regret_stp_13[slice3],\n",
        "       simple_regret_stp_14[slice3],\n",
        "       simple_regret_stp_15[slice3],\n",
        "       simple_regret_stp_16[slice3],\n",
        "       simple_regret_stp_17[slice3],\n",
        "       simple_regret_stp_18[slice3],\n",
        "       simple_regret_stp_19[slice3],\n",
        "       simple_regret_stp_20[slice3]]\n",
        "\n",
        "gp3_results = pd.DataFrame(gp3).sort_values(by=[0], ascending=False)\n",
        "stp3_results = pd.DataFrame(stp3).sort_values(by=[0], ascending=False)\n",
        "\n",
        "### Best training regret minimization IQR - gp:\n",
        "lower_gp3 = np.asarray(gp3_results[4:5][0])[0]\n",
        "median_gp3 = np.asarray(gp3_results[9:10][0])[0]\n",
        "upper_gp3 = np.asarray(gp3_results[14:15][0])[0]\n",
        "\n",
        "lower_stp3 = np.asarray(stp3_results[4:5][0])[0]\n",
        "median_stp3 = np.asarray(stp3_results[9:10][0])[0]\n",
        "upper_stp3 = np.asarray(stp3_results[14:15][0])[0]\n"
      ]
    },
    {
      "cell_type": "code",
      "execution_count": null,
      "metadata": {
        "id": "GGEAa73pJLlu"
      },
      "outputs": [],
      "source": [
        "# Iteration13 :\n",
        "\n",
        "slice13 = 12\n",
        "\n",
        "gp13 = [simple_regret_gp_1[slice13],\n",
        "       simple_regret_gp_2[slice13],\n",
        "       simple_regret_gp_3[slice13],\n",
        "       simple_regret_gp_4[slice13],\n",
        "       simple_regret_gp_5[slice13],\n",
        "       simple_regret_gp_6[slice13],\n",
        "       simple_regret_gp_7[slice13],\n",
        "       simple_regret_gp_8[slice13],\n",
        "       simple_regret_gp_9[slice13],\n",
        "       simple_regret_gp_10[slice13],\n",
        "       simple_regret_gp_11[slice13],\n",
        "       simple_regret_gp_12[slice13],\n",
        "       simple_regret_gp_13[slice13],\n",
        "       simple_regret_gp_14[slice13],\n",
        "       simple_regret_gp_15[slice13],\n",
        "       simple_regret_gp_16[slice13],\n",
        "       simple_regret_gp_17[slice13],\n",
        "       simple_regret_gp_18[slice13],\n",
        "       simple_regret_gp_19[slice13],\n",
        "       simple_regret_gp_20[slice13]]\n",
        "\n",
        "stp13 = [simple_regret_stp_1[slice13],\n",
        "       simple_regret_stp_2[slice13],\n",
        "       simple_regret_stp_3[slice13],\n",
        "       simple_regret_stp_4[slice13],\n",
        "       simple_regret_stp_5[slice13],\n",
        "       simple_regret_stp_6[slice13],\n",
        "       simple_regret_stp_7[slice13],\n",
        "       simple_regret_stp_8[slice13],\n",
        "       simple_regret_stp_9[slice13],\n",
        "       simple_regret_stp_10[slice13],\n",
        "       simple_regret_stp_11[slice13],\n",
        "       simple_regret_stp_12[slice13],\n",
        "       simple_regret_stp_13[slice13],\n",
        "       simple_regret_stp_14[slice13],\n",
        "       simple_regret_stp_15[slice13],\n",
        "       simple_regret_stp_16[slice13],\n",
        "       simple_regret_stp_17[slice13],\n",
        "       simple_regret_stp_18[slice13],\n",
        "       simple_regret_stp_19[slice13],\n",
        "       simple_regret_stp_20[slice13]]\n",
        "\n",
        "gp13_results = pd.DataFrame(gp12).sort_values(by=[0], ascending=False)\n",
        "stp13_results = pd.DataFrame(stp12).sort_values(by=[0], ascending=False)\n",
        "\n",
        "### Best training regret minimization IQR - gp:\n",
        "lower_gp13 = np.asarray(gp13_results[4:5][0])[0]\n",
        "median_gp13 = np.asarray(gp13_results[9:10][0])[0]\n",
        "upper_gp13 = np.asarray(gp13_results[14:15][0])[0]\n",
        "\n",
        "lower_stp13 = np.asarray(stp13_results[4:5][0])[0]\n",
        "median_stp13 = np.asarray(stp13_results[9:10][0])[0]\n",
        "upper_stp13 = np.asarray(stp13_results[14:15][0])[0]\n"
      ]
    },
    {
      "cell_type": "code",
      "execution_count": null,
      "metadata": {
        "id": "T30xLxygJLl0"
      },
      "outputs": [],
      "source": [
        "# Iteration4 :\n",
        "\n",
        "slice4 = 3\n",
        "\n",
        "gp4 = [simple_regret_gp_1[slice4],\n",
        "       simple_regret_gp_2[slice4],\n",
        "       simple_regret_gp_3[slice4],\n",
        "       simple_regret_gp_4[slice4],\n",
        "       simple_regret_gp_5[slice4],\n",
        "       simple_regret_gp_6[slice4],\n",
        "       simple_regret_gp_7[slice4],\n",
        "       simple_regret_gp_8[slice4],\n",
        "       simple_regret_gp_9[slice4],\n",
        "       simple_regret_gp_10[slice4],\n",
        "       simple_regret_gp_11[slice4],\n",
        "       simple_regret_gp_12[slice4],\n",
        "       simple_regret_gp_13[slice4],\n",
        "       simple_regret_gp_14[slice4],\n",
        "       simple_regret_gp_15[slice4],\n",
        "       simple_regret_gp_16[slice4],\n",
        "       simple_regret_gp_17[slice4],\n",
        "       simple_regret_gp_18[slice4],\n",
        "       simple_regret_gp_19[slice4],\n",
        "       simple_regret_gp_20[slice4]]\n",
        "\n",
        "stp4 = [simple_regret_stp_1[slice4],\n",
        "       simple_regret_stp_2[slice4],\n",
        "       simple_regret_stp_3[slice4],\n",
        "       simple_regret_stp_4[slice4],\n",
        "       simple_regret_stp_5[slice4],\n",
        "       simple_regret_stp_6[slice4],\n",
        "       simple_regret_stp_7[slice4],\n",
        "       simple_regret_stp_8[slice4],\n",
        "       simple_regret_stp_9[slice4],\n",
        "       simple_regret_stp_10[slice4],\n",
        "       simple_regret_stp_11[slice4],\n",
        "       simple_regret_stp_12[slice4],\n",
        "       simple_regret_stp_13[slice4],\n",
        "       simple_regret_stp_14[slice4],\n",
        "       simple_regret_stp_15[slice4],\n",
        "       simple_regret_stp_16[slice4],\n",
        "       simple_regret_stp_17[slice4],\n",
        "       simple_regret_stp_18[slice4],\n",
        "       simple_regret_stp_19[slice4],\n",
        "       simple_regret_stp_20[slice4]]\n",
        "\n",
        "gp4_results = pd.DataFrame(gp4).sort_values(by=[0], ascending=False)\n",
        "stp4_results = pd.DataFrame(stp4).sort_values(by=[0], ascending=False)\n",
        "\n",
        "### Best training regret minimization IQR - gp:\n",
        "lower_gp4 = np.asarray(gp4_results[4:5][0])[0]\n",
        "median_gp4 = np.asarray(gp4_results[9:10][0])[0]\n",
        "upper_gp4 = np.asarray(gp4_results[14:15][0])[0]\n",
        "\n",
        "lower_stp4 = np.asarray(stp4_results[4:5][0])[0]\n",
        "median_stp4 = np.asarray(stp4_results[9:10][0])[0]\n",
        "upper_stp4 = np.asarray(stp4_results[14:15][0])[0]\n"
      ]
    },
    {
      "cell_type": "code",
      "execution_count": null,
      "metadata": {
        "id": "MQ-jpNrnJLl1"
      },
      "outputs": [],
      "source": [
        "# Iteration14 :\n",
        "\n",
        "slice14 = 13\n",
        "\n",
        "gp14 = [simple_regret_gp_1[slice14],\n",
        "       simple_regret_gp_2[slice14],\n",
        "       simple_regret_gp_3[slice14],\n",
        "       simple_regret_gp_4[slice14],\n",
        "       simple_regret_gp_5[slice14],\n",
        "       simple_regret_gp_6[slice14],\n",
        "       simple_regret_gp_7[slice14],\n",
        "       simple_regret_gp_8[slice14],\n",
        "       simple_regret_gp_9[slice14],\n",
        "       simple_regret_gp_10[slice14],\n",
        "       simple_regret_gp_11[slice14],\n",
        "       simple_regret_gp_12[slice14],\n",
        "       simple_regret_gp_13[slice14],\n",
        "       simple_regret_gp_14[slice14],\n",
        "       simple_regret_gp_15[slice14],\n",
        "       simple_regret_gp_16[slice14],\n",
        "       simple_regret_gp_17[slice14],\n",
        "       simple_regret_gp_18[slice14],\n",
        "       simple_regret_gp_19[slice14],\n",
        "       simple_regret_gp_20[slice14]]\n",
        "\n",
        "stp14 = [simple_regret_stp_1[slice14],\n",
        "       simple_regret_stp_2[slice14],\n",
        "       simple_regret_stp_3[slice14],\n",
        "       simple_regret_stp_4[slice14],\n",
        "       simple_regret_stp_5[slice14],\n",
        "       simple_regret_stp_6[slice14],\n",
        "       simple_regret_stp_7[slice14],\n",
        "       simple_regret_stp_8[slice14],\n",
        "       simple_regret_stp_9[slice14],\n",
        "       simple_regret_stp_10[slice14],\n",
        "       simple_regret_stp_11[slice14],\n",
        "       simple_regret_stp_12[slice14],\n",
        "       simple_regret_stp_13[slice14],\n",
        "       simple_regret_stp_14[slice14],\n",
        "       simple_regret_stp_15[slice14],\n",
        "       simple_regret_stp_16[slice14],\n",
        "       simple_regret_stp_17[slice14],\n",
        "       simple_regret_stp_18[slice14],\n",
        "       simple_regret_stp_19[slice14],\n",
        "       simple_regret_stp_20[slice14]]\n",
        "\n",
        "gp14_results = pd.DataFrame(gp14).sort_values(by=[0], ascending=False)\n",
        "stp14_results = pd.DataFrame(stp14).sort_values(by=[0], ascending=False)\n",
        "\n",
        "### Best training regret minimization IQR - gp:\n",
        "lower_gp14 = np.asarray(gp14_results[4:5][0])[0]\n",
        "median_gp14 = np.asarray(gp14_results[9:10][0])[0]\n",
        "upper_gp14 = np.asarray(gp14_results[14:15][0])[0]\n",
        "\n",
        "lower_stp14 = np.asarray(stp14_results[4:5][0])[0]\n",
        "median_stp14 = np.asarray(stp14_results[9:10][0])[0]\n",
        "upper_stp14 = np.asarray(stp14_results[14:15][0])[0]\n"
      ]
    },
    {
      "cell_type": "code",
      "execution_count": null,
      "metadata": {
        "id": "Xhy_AN9jJLl9"
      },
      "outputs": [],
      "source": [
        "# Iteration5 :\n",
        "\n",
        "slice5 = 4\n",
        "\n",
        "gp5 = [simple_regret_gp_1[slice5],\n",
        "       simple_regret_gp_2[slice5],\n",
        "       simple_regret_gp_3[slice5],\n",
        "       simple_regret_gp_4[slice5],\n",
        "       simple_regret_gp_5[slice5],\n",
        "       simple_regret_gp_6[slice5],\n",
        "       simple_regret_gp_7[slice5],\n",
        "       simple_regret_gp_8[slice5],\n",
        "       simple_regret_gp_9[slice5],\n",
        "       simple_regret_gp_10[slice5],\n",
        "       simple_regret_gp_11[slice5],\n",
        "       simple_regret_gp_12[slice5],\n",
        "       simple_regret_gp_13[slice5],\n",
        "       simple_regret_gp_14[slice5],\n",
        "       simple_regret_gp_15[slice5],\n",
        "       simple_regret_gp_16[slice5],\n",
        "       simple_regret_gp_17[slice5],\n",
        "       simple_regret_gp_18[slice5],\n",
        "       simple_regret_gp_19[slice5],\n",
        "       simple_regret_gp_20[slice5]]\n",
        "\n",
        "stp5 = [simple_regret_stp_1[slice5],\n",
        "       simple_regret_stp_2[slice5],\n",
        "       simple_regret_stp_3[slice5],\n",
        "       simple_regret_stp_4[slice5],\n",
        "       simple_regret_stp_5[slice5],\n",
        "       simple_regret_stp_6[slice5],\n",
        "       simple_regret_stp_7[slice5],\n",
        "       simple_regret_stp_8[slice5],\n",
        "       simple_regret_stp_9[slice5],\n",
        "       simple_regret_stp_10[slice5],\n",
        "       simple_regret_stp_11[slice5],\n",
        "       simple_regret_stp_12[slice5],\n",
        "       simple_regret_stp_13[slice5],\n",
        "       simple_regret_stp_14[slice5],\n",
        "       simple_regret_stp_15[slice5],\n",
        "       simple_regret_stp_16[slice5],\n",
        "       simple_regret_stp_17[slice5],\n",
        "       simple_regret_stp_18[slice5],\n",
        "       simple_regret_stp_19[slice5],\n",
        "       simple_regret_stp_20[slice5]]\n",
        "\n",
        "gp5_results = pd.DataFrame(gp5).sort_values(by=[0], ascending=False)\n",
        "stp5_results = pd.DataFrame(stp5).sort_values(by=[0], ascending=False)\n",
        "\n",
        "### Best training regret minimization IQR - gp:\n",
        "lower_gp5 = np.asarray(gp5_results[4:5][0])[0]\n",
        "median_gp5 = np.asarray(gp5_results[9:10][0])[0]\n",
        "upper_gp5 = np.asarray(gp5_results[14:15][0])[0]\n",
        "\n",
        "lower_stp5 = np.asarray(stp5_results[4:5][0])[0]\n",
        "median_stp5 = np.asarray(stp5_results[9:10][0])[0]\n",
        "upper_stp5 = np.asarray(stp5_results[14:15][0])[0]\n"
      ]
    },
    {
      "cell_type": "code",
      "execution_count": null,
      "metadata": {
        "id": "WHbtLHnbJLl-"
      },
      "outputs": [],
      "source": [
        "# Iteration15 :\n",
        "\n",
        "slice15 = 14\n",
        "\n",
        "gp15 = [simple_regret_gp_1[slice15],\n",
        "       simple_regret_gp_2[slice15],\n",
        "       simple_regret_gp_3[slice15],\n",
        "       simple_regret_gp_4[slice15],\n",
        "       simple_regret_gp_5[slice15],\n",
        "       simple_regret_gp_6[slice15],\n",
        "       simple_regret_gp_7[slice15],\n",
        "       simple_regret_gp_8[slice15],\n",
        "       simple_regret_gp_9[slice15],\n",
        "       simple_regret_gp_10[slice15],\n",
        "       simple_regret_gp_11[slice15],\n",
        "       simple_regret_gp_12[slice15],\n",
        "       simple_regret_gp_13[slice15],\n",
        "       simple_regret_gp_14[slice15],\n",
        "       simple_regret_gp_15[slice15],\n",
        "       simple_regret_gp_16[slice15],\n",
        "       simple_regret_gp_17[slice15],\n",
        "       simple_regret_gp_18[slice15],\n",
        "       simple_regret_gp_19[slice15],\n",
        "       simple_regret_gp_20[slice15]]\n",
        "\n",
        "stp15 = [simple_regret_stp_1[slice15],\n",
        "       simple_regret_stp_2[slice15],\n",
        "       simple_regret_stp_3[slice15],\n",
        "       simple_regret_stp_4[slice15],\n",
        "       simple_regret_stp_5[slice15],\n",
        "       simple_regret_stp_6[slice15],\n",
        "       simple_regret_stp_7[slice15],\n",
        "       simple_regret_stp_8[slice15],\n",
        "       simple_regret_stp_9[slice15],\n",
        "       simple_regret_stp_10[slice15],\n",
        "       simple_regret_stp_11[slice15],\n",
        "       simple_regret_stp_12[slice15],\n",
        "       simple_regret_stp_13[slice15],\n",
        "       simple_regret_stp_14[slice15],\n",
        "       simple_regret_stp_15[slice15],\n",
        "       simple_regret_stp_16[slice15],\n",
        "       simple_regret_stp_17[slice15],\n",
        "       simple_regret_stp_18[slice15],\n",
        "       simple_regret_stp_19[slice15],\n",
        "       simple_regret_stp_20[slice15]]\n",
        "\n",
        "gp15_results = pd.DataFrame(gp15).sort_values(by=[0], ascending=False)\n",
        "stp15_results = pd.DataFrame(stp15).sort_values(by=[0], ascending=False)\n",
        "\n",
        "### Best training regret minimization IQR - gp:\n",
        "lower_gp15 = np.asarray(gp15_results[4:5][0])[0]\n",
        "median_gp15 = np.asarray(gp15_results[9:10][0])[0]\n",
        "upper_gp15 = np.asarray(gp15_results[14:15][0])[0]\n",
        "\n",
        "lower_stp15 = np.asarray(stp15_results[4:5][0])[0]\n",
        "median_stp15 = np.asarray(stp15_results[9:10][0])[0]\n",
        "upper_stp15 = np.asarray(stp15_results[14:15][0])[0]\n"
      ]
    },
    {
      "cell_type": "code",
      "execution_count": null,
      "metadata": {
        "id": "XqsNyHzqJLmC"
      },
      "outputs": [],
      "source": [
        "# Iteration6 :\n",
        "\n",
        "slice6 = 5\n",
        "\n",
        "gp6 = [simple_regret_gp_1[slice6],\n",
        "       simple_regret_gp_2[slice6],\n",
        "       simple_regret_gp_3[slice6],\n",
        "       simple_regret_gp_4[slice6],\n",
        "       simple_regret_gp_5[slice6],\n",
        "       simple_regret_gp_6[slice6],\n",
        "       simple_regret_gp_7[slice6],\n",
        "       simple_regret_gp_8[slice6],\n",
        "       simple_regret_gp_9[slice6],\n",
        "       simple_regret_gp_10[slice6],\n",
        "       simple_regret_gp_11[slice6],\n",
        "       simple_regret_gp_12[slice6],\n",
        "       simple_regret_gp_13[slice6],\n",
        "       simple_regret_gp_14[slice6],\n",
        "       simple_regret_gp_15[slice6],\n",
        "       simple_regret_gp_16[slice6],\n",
        "       simple_regret_gp_17[slice6],\n",
        "       simple_regret_gp_18[slice6],\n",
        "       simple_regret_gp_19[slice6],\n",
        "       simple_regret_gp_20[slice6]]\n",
        "\n",
        "stp6 = [simple_regret_stp_1[slice6],\n",
        "       simple_regret_stp_2[slice6],\n",
        "       simple_regret_stp_3[slice6],\n",
        "       simple_regret_stp_4[slice6],\n",
        "       simple_regret_stp_5[slice6],\n",
        "       simple_regret_stp_6[slice6],\n",
        "       simple_regret_stp_7[slice6],\n",
        "       simple_regret_stp_8[slice6],\n",
        "       simple_regret_stp_9[slice6],\n",
        "       simple_regret_stp_10[slice6],\n",
        "       simple_regret_stp_11[slice6],\n",
        "       simple_regret_stp_12[slice6],\n",
        "       simple_regret_stp_13[slice6],\n",
        "       simple_regret_stp_14[slice6],\n",
        "       simple_regret_stp_15[slice6],\n",
        "       simple_regret_stp_16[slice6],\n",
        "       simple_regret_stp_17[slice6],\n",
        "       simple_regret_stp_18[slice6],\n",
        "       simple_regret_stp_19[slice6],\n",
        "       simple_regret_stp_20[slice6]]\n",
        "\n",
        "gp6_results = pd.DataFrame(gp6).sort_values(by=[0], ascending=False)\n",
        "stp6_results = pd.DataFrame(stp6).sort_values(by=[0], ascending=False)\n",
        "\n",
        "### Best training regret minimization IQR - gp:\n",
        "lower_gp6 = np.asarray(gp6_results[4:5][0])[0]\n",
        "median_gp6 = np.asarray(gp6_results[9:10][0])[0]\n",
        "upper_gp6 = np.asarray(gp6_results[14:15][0])[0]\n",
        "\n",
        "lower_stp6 = np.asarray(stp6_results[4:5][0])[0]\n",
        "median_stp6 = np.asarray(stp6_results[9:10][0])[0]\n",
        "upper_stp6 = np.asarray(stp6_results[14:15][0])[0]\n"
      ]
    },
    {
      "cell_type": "code",
      "execution_count": null,
      "metadata": {
        "id": "V0-8P_clJLmD"
      },
      "outputs": [],
      "source": [
        "# Iteration16 :\n",
        "\n",
        "slice16 = 15\n",
        "\n",
        "gp16 = [simple_regret_gp_1[slice16],\n",
        "       simple_regret_gp_2[slice16],\n",
        "       simple_regret_gp_3[slice16],\n",
        "       simple_regret_gp_4[slice16],\n",
        "       simple_regret_gp_5[slice16],\n",
        "       simple_regret_gp_6[slice16],\n",
        "       simple_regret_gp_7[slice16],\n",
        "       simple_regret_gp_8[slice16],\n",
        "       simple_regret_gp_9[slice16],\n",
        "       simple_regret_gp_10[slice16],\n",
        "       simple_regret_gp_11[slice16],\n",
        "       simple_regret_gp_12[slice16],\n",
        "       simple_regret_gp_13[slice16],\n",
        "       simple_regret_gp_14[slice16],\n",
        "       simple_regret_gp_15[slice16],\n",
        "       simple_regret_gp_16[slice16],\n",
        "       simple_regret_gp_17[slice16],\n",
        "       simple_regret_gp_18[slice16],\n",
        "       simple_regret_gp_19[slice16],\n",
        "       simple_regret_gp_20[slice16]]\n",
        "\n",
        "stp16 = [simple_regret_stp_1[slice16],\n",
        "       simple_regret_stp_2[slice16],\n",
        "       simple_regret_stp_3[slice16],\n",
        "       simple_regret_stp_4[slice16],\n",
        "       simple_regret_stp_5[slice16],\n",
        "       simple_regret_stp_6[slice16],\n",
        "       simple_regret_stp_7[slice16],\n",
        "       simple_regret_stp_8[slice16],\n",
        "       simple_regret_stp_9[slice16],\n",
        "       simple_regret_stp_10[slice16],\n",
        "       simple_regret_stp_11[slice16],\n",
        "       simple_regret_stp_12[slice16],\n",
        "       simple_regret_stp_13[slice16],\n",
        "       simple_regret_stp_14[slice16],\n",
        "       simple_regret_stp_15[slice16],\n",
        "       simple_regret_stp_16[slice16],\n",
        "       simple_regret_stp_17[slice16],\n",
        "       simple_regret_stp_18[slice16],\n",
        "       simple_regret_stp_19[slice16],\n",
        "       simple_regret_stp_20[slice16]]\n",
        "\n",
        "gp16_results = pd.DataFrame(gp16).sort_values(by=[0], ascending=False)\n",
        "stp16_results = pd.DataFrame(stp16).sort_values(by=[0], ascending=False)\n",
        "\n",
        "### Best training regret minimization IQR - gp:\n",
        "lower_gp16 = np.asarray(gp16_results[4:5][0])[0]\n",
        "median_gp16 = np.asarray(gp16_results[9:10][0])[0]\n",
        "upper_gp16 = np.asarray(gp16_results[14:15][0])[0]\n",
        "\n",
        "lower_stp16 = np.asarray(stp16_results[4:5][0])[0]\n",
        "median_stp16 = np.asarray(stp16_results[9:10][0])[0]\n",
        "upper_stp16 = np.asarray(stp16_results[14:15][0])[0]\n"
      ]
    },
    {
      "cell_type": "code",
      "execution_count": null,
      "metadata": {
        "id": "OcLUACB0JLmM"
      },
      "outputs": [],
      "source": [
        "# Iteration7 :\n",
        "\n",
        "slice7 = 6\n",
        "\n",
        "gp7 = [simple_regret_gp_1[slice7],\n",
        "       simple_regret_gp_2[slice7],\n",
        "       simple_regret_gp_3[slice7],\n",
        "       simple_regret_gp_4[slice7],\n",
        "       simple_regret_gp_5[slice7],\n",
        "       simple_regret_gp_6[slice7],\n",
        "       simple_regret_gp_7[slice7],\n",
        "       simple_regret_gp_8[slice7],\n",
        "       simple_regret_gp_9[slice7],\n",
        "       simple_regret_gp_10[slice7],\n",
        "       simple_regret_gp_11[slice7],\n",
        "       simple_regret_gp_12[slice7],\n",
        "       simple_regret_gp_13[slice7],\n",
        "       simple_regret_gp_14[slice7],\n",
        "       simple_regret_gp_15[slice7],\n",
        "       simple_regret_gp_16[slice7],\n",
        "       simple_regret_gp_17[slice7],\n",
        "       simple_regret_gp_18[slice7],\n",
        "       simple_regret_gp_19[slice7],\n",
        "       simple_regret_gp_20[slice7]]\n",
        "\n",
        "stp7 = [simple_regret_stp_1[slice7],\n",
        "       simple_regret_stp_2[slice7],\n",
        "       simple_regret_stp_3[slice7],\n",
        "       simple_regret_stp_4[slice7],\n",
        "       simple_regret_stp_5[slice7],\n",
        "       simple_regret_stp_6[slice7],\n",
        "       simple_regret_stp_7[slice7],\n",
        "       simple_regret_stp_8[slice7],\n",
        "       simple_regret_stp_9[slice7],\n",
        "       simple_regret_stp_10[slice7],\n",
        "       simple_regret_stp_11[slice7],\n",
        "       simple_regret_stp_12[slice7],\n",
        "       simple_regret_stp_13[slice7],\n",
        "       simple_regret_stp_14[slice7],\n",
        "       simple_regret_stp_15[slice7],\n",
        "       simple_regret_stp_16[slice7],\n",
        "       simple_regret_stp_17[slice7],\n",
        "       simple_regret_stp_18[slice7],\n",
        "       simple_regret_stp_19[slice7],\n",
        "       simple_regret_stp_20[slice7]]\n",
        "\n",
        "gp7_results = pd.DataFrame(gp7).sort_values(by=[0], ascending=False)\n",
        "stp7_results = pd.DataFrame(stp7).sort_values(by=[0], ascending=False)\n",
        "\n",
        "### Best training regret minimization IQR - gp:\n",
        "lower_gp7 = np.asarray(gp7_results[4:5][0])[0]\n",
        "median_gp7 = np.asarray(gp7_results[9:10][0])[0]\n",
        "upper_gp7 = np.asarray(gp7_results[14:15][0])[0]\n",
        "\n",
        "lower_stp7 = np.asarray(stp7_results[4:5][0])[0]\n",
        "median_stp7 = np.asarray(stp7_results[9:10][0])[0]\n",
        "upper_stp7 = np.asarray(stp7_results[14:15][0])[0]\n"
      ]
    },
    {
      "cell_type": "code",
      "execution_count": null,
      "metadata": {
        "id": "q-Fd0t3kJLmN"
      },
      "outputs": [],
      "source": [
        "# Iteration17 :\n",
        "\n",
        "slice17 = 16\n",
        "\n",
        "gp17 = [simple_regret_gp_1[slice17],\n",
        "       simple_regret_gp_2[slice17],\n",
        "       simple_regret_gp_3[slice17],\n",
        "       simple_regret_gp_4[slice17],\n",
        "       simple_regret_gp_5[slice17],\n",
        "       simple_regret_gp_6[slice17],\n",
        "       simple_regret_gp_7[slice17],\n",
        "       simple_regret_gp_8[slice17],\n",
        "       simple_regret_gp_9[slice17],\n",
        "       simple_regret_gp_10[slice17],\n",
        "       simple_regret_gp_11[slice17],\n",
        "       simple_regret_gp_12[slice17],\n",
        "       simple_regret_gp_13[slice17],\n",
        "       simple_regret_gp_14[slice17],\n",
        "       simple_regret_gp_15[slice17],\n",
        "       simple_regret_gp_16[slice17],\n",
        "       simple_regret_gp_17[slice17],\n",
        "       simple_regret_gp_18[slice17],\n",
        "       simple_regret_gp_19[slice17],\n",
        "       simple_regret_gp_20[slice17]]\n",
        "\n",
        "stp17 = [simple_regret_stp_1[slice17],\n",
        "       simple_regret_stp_2[slice17],\n",
        "       simple_regret_stp_3[slice17],\n",
        "       simple_regret_stp_4[slice17],\n",
        "       simple_regret_stp_5[slice17],\n",
        "       simple_regret_stp_6[slice17],\n",
        "       simple_regret_stp_7[slice17],\n",
        "       simple_regret_stp_8[slice17],\n",
        "       simple_regret_stp_9[slice17],\n",
        "       simple_regret_stp_10[slice17],\n",
        "       simple_regret_stp_11[slice17],\n",
        "       simple_regret_stp_12[slice17],\n",
        "       simple_regret_stp_13[slice17],\n",
        "       simple_regret_stp_14[slice17],\n",
        "       simple_regret_stp_15[slice17],\n",
        "       simple_regret_stp_16[slice17],\n",
        "       simple_regret_stp_17[slice17],\n",
        "       simple_regret_stp_18[slice17],\n",
        "       simple_regret_stp_19[slice17],\n",
        "       simple_regret_stp_20[slice17]]\n",
        "\n",
        "gp17_results = pd.DataFrame(gp17).sort_values(by=[0], ascending=False)\n",
        "stp17_results = pd.DataFrame(stp17).sort_values(by=[0], ascending=False)\n",
        "\n",
        "### Best training regret minimization IQR - gp:\n",
        "lower_gp17 = np.asarray(gp17_results[4:5][0])[0]\n",
        "median_gp17 = np.asarray(gp17_results[9:10][0])[0]\n",
        "upper_gp17 = np.asarray(gp17_results[14:15][0])[0]\n",
        "\n",
        "lower_stp17 = np.asarray(stp17_results[4:5][0])[0]\n",
        "median_stp17 = np.asarray(stp17_results[9:10][0])[0]\n",
        "upper_stp17 = np.asarray(stp17_results[14:15][0])[0]\n"
      ]
    },
    {
      "cell_type": "code",
      "execution_count": null,
      "metadata": {
        "id": "JueXVbnGJLmU"
      },
      "outputs": [],
      "source": [
        "# Iteration8 :\n",
        "\n",
        "slice8 = 7\n",
        "\n",
        "gp8 = [simple_regret_gp_1[slice8],\n",
        "       simple_regret_gp_2[slice8],\n",
        "       simple_regret_gp_3[slice8],\n",
        "       simple_regret_gp_4[slice8],\n",
        "       simple_regret_gp_5[slice8],\n",
        "       simple_regret_gp_6[slice8],\n",
        "       simple_regret_gp_7[slice8],\n",
        "       simple_regret_gp_8[slice8],\n",
        "       simple_regret_gp_9[slice8],\n",
        "       simple_regret_gp_10[slice8],\n",
        "       simple_regret_gp_11[slice8],\n",
        "       simple_regret_gp_12[slice8],\n",
        "       simple_regret_gp_13[slice8],\n",
        "       simple_regret_gp_14[slice8],\n",
        "       simple_regret_gp_15[slice8],\n",
        "       simple_regret_gp_16[slice8],\n",
        "       simple_regret_gp_17[slice8],\n",
        "       simple_regret_gp_18[slice8],\n",
        "       simple_regret_gp_19[slice8],\n",
        "       simple_regret_gp_20[slice8]]\n",
        "\n",
        "stp8 = [simple_regret_stp_1[slice8],\n",
        "       simple_regret_stp_2[slice8],\n",
        "       simple_regret_stp_3[slice8],\n",
        "       simple_regret_stp_4[slice8],\n",
        "       simple_regret_stp_5[slice8],\n",
        "       simple_regret_stp_6[slice8],\n",
        "       simple_regret_stp_7[slice8],\n",
        "       simple_regret_stp_8[slice8],\n",
        "       simple_regret_stp_9[slice8],\n",
        "       simple_regret_stp_10[slice8],\n",
        "       simple_regret_stp_11[slice8],\n",
        "       simple_regret_stp_12[slice8],\n",
        "       simple_regret_stp_13[slice8],\n",
        "       simple_regret_stp_14[slice8],\n",
        "       simple_regret_stp_15[slice8],\n",
        "       simple_regret_stp_16[slice8],\n",
        "       simple_regret_stp_17[slice8],\n",
        "       simple_regret_stp_18[slice8],\n",
        "       simple_regret_stp_19[slice8],\n",
        "       simple_regret_stp_20[slice8]]\n",
        "\n",
        "gp8_results = pd.DataFrame(gp8).sort_values(by=[0], ascending=False)\n",
        "stp8_results = pd.DataFrame(stp8).sort_values(by=[0], ascending=False)\n",
        "\n",
        "### Best training regret minimization IQR - gp:\n",
        "lower_gp8 = np.asarray(gp8_results[4:5][0])[0]\n",
        "median_gp8 = np.asarray(gp8_results[9:10][0])[0]\n",
        "upper_gp8 = np.asarray(gp8_results[14:15][0])[0]\n",
        "\n",
        "lower_stp8 = np.asarray(stp8_results[4:5][0])[0]\n",
        "median_stp8 = np.asarray(stp8_results[9:10][0])[0]\n",
        "upper_stp8 = np.asarray(stp8_results[14:15][0])[0]\n"
      ]
    },
    {
      "cell_type": "code",
      "execution_count": null,
      "metadata": {
        "id": "mnFJ7maJJLmU"
      },
      "outputs": [],
      "source": [
        "# Iteration18 :\n",
        "\n",
        "slice18 = 17\n",
        "\n",
        "gp18 = [simple_regret_gp_1[slice18],\n",
        "       simple_regret_gp_2[slice18],\n",
        "       simple_regret_gp_3[slice18],\n",
        "       simple_regret_gp_4[slice18],\n",
        "       simple_regret_gp_5[slice18],\n",
        "       simple_regret_gp_6[slice18],\n",
        "       simple_regret_gp_7[slice18],\n",
        "       simple_regret_gp_8[slice18],\n",
        "       simple_regret_gp_9[slice18],\n",
        "       simple_regret_gp_10[slice18],\n",
        "       simple_regret_gp_11[slice18],\n",
        "       simple_regret_gp_12[slice18],\n",
        "       simple_regret_gp_13[slice18],\n",
        "       simple_regret_gp_14[slice18],\n",
        "       simple_regret_gp_15[slice18],\n",
        "       simple_regret_gp_16[slice18],\n",
        "       simple_regret_gp_17[slice18],\n",
        "       simple_regret_gp_18[slice18],\n",
        "       simple_regret_gp_19[slice18],\n",
        "       simple_regret_gp_20[slice18]]\n",
        "\n",
        "stp18 = [simple_regret_stp_1[slice18],\n",
        "       simple_regret_stp_2[slice18],\n",
        "       simple_regret_stp_3[slice18],\n",
        "       simple_regret_stp_4[slice18],\n",
        "       simple_regret_stp_5[slice18],\n",
        "       simple_regret_stp_6[slice18],\n",
        "       simple_regret_stp_7[slice18],\n",
        "       simple_regret_stp_8[slice18],\n",
        "       simple_regret_stp_9[slice18],\n",
        "       simple_regret_stp_10[slice18],\n",
        "       simple_regret_stp_11[slice18],\n",
        "       simple_regret_stp_12[slice18],\n",
        "       simple_regret_stp_13[slice18],\n",
        "       simple_regret_stp_14[slice18],\n",
        "       simple_regret_stp_15[slice18],\n",
        "       simple_regret_stp_16[slice18],\n",
        "       simple_regret_stp_17[slice18],\n",
        "       simple_regret_stp_18[slice18],\n",
        "       simple_regret_stp_19[slice18],\n",
        "       simple_regret_stp_20[slice18]]\n",
        "\n",
        "gp18_results = pd.DataFrame(gp18).sort_values(by=[0], ascending=False)\n",
        "stp18_results = pd.DataFrame(stp18).sort_values(by=[0], ascending=False)\n",
        "\n",
        "### Best training regret minimization IQR - gp:\n",
        "lower_gp18 = np.asarray(gp18_results[4:5][0])[0]\n",
        "median_gp18 = np.asarray(gp18_results[9:10][0])[0]\n",
        "upper_gp18 = np.asarray(gp18_results[14:15][0])[0]\n",
        "\n",
        "lower_stp18 = np.asarray(stp18_results[4:5][0])[0]\n",
        "median_stp18 = np.asarray(stp18_results[9:10][0])[0]\n",
        "upper_stp18 = np.asarray(stp18_results[14:15][0])[0]\n"
      ]
    },
    {
      "cell_type": "code",
      "execution_count": null,
      "metadata": {
        "id": "ll-p_qWUJLmb"
      },
      "outputs": [],
      "source": [
        "# Iteration9 :\n",
        "\n",
        "slice9 = 8\n",
        "\n",
        "gp9 = [simple_regret_gp_1[slice9],\n",
        "       simple_regret_gp_2[slice9],\n",
        "       simple_regret_gp_3[slice9],\n",
        "       simple_regret_gp_4[slice9],\n",
        "       simple_regret_gp_5[slice9],\n",
        "       simple_regret_gp_6[slice9],\n",
        "       simple_regret_gp_7[slice9],\n",
        "       simple_regret_gp_8[slice9],\n",
        "       simple_regret_gp_9[slice9],\n",
        "       simple_regret_gp_10[slice9],\n",
        "       simple_regret_gp_11[slice9],\n",
        "       simple_regret_gp_12[slice9],\n",
        "       simple_regret_gp_13[slice9],\n",
        "       simple_regret_gp_14[slice9],\n",
        "       simple_regret_gp_15[slice9],\n",
        "       simple_regret_gp_16[slice9],\n",
        "       simple_regret_gp_17[slice9],\n",
        "       simple_regret_gp_18[slice9],\n",
        "       simple_regret_gp_19[slice9],\n",
        "       simple_regret_gp_20[slice9]]\n",
        "\n",
        "stp9 = [simple_regret_stp_1[slice9],\n",
        "       simple_regret_stp_2[slice9],\n",
        "       simple_regret_stp_3[slice9],\n",
        "       simple_regret_stp_4[slice9],\n",
        "       simple_regret_stp_5[slice9],\n",
        "       simple_regret_stp_6[slice9],\n",
        "       simple_regret_stp_7[slice9],\n",
        "       simple_regret_stp_8[slice9],\n",
        "       simple_regret_stp_9[slice9],\n",
        "       simple_regret_stp_10[slice9],\n",
        "       simple_regret_stp_11[slice9],\n",
        "       simple_regret_stp_12[slice9],\n",
        "       simple_regret_stp_13[slice9],\n",
        "       simple_regret_stp_14[slice9],\n",
        "       simple_regret_stp_15[slice9],\n",
        "       simple_regret_stp_16[slice9],\n",
        "       simple_regret_stp_17[slice9],\n",
        "       simple_regret_stp_18[slice9],\n",
        "       simple_regret_stp_19[slice9],\n",
        "       simple_regret_stp_20[slice9]]\n",
        "\n",
        "gp9_results = pd.DataFrame(gp9).sort_values(by=[0], ascending=False)\n",
        "stp9_results = pd.DataFrame(stp9).sort_values(by=[0], ascending=False)\n",
        "\n",
        "### Best training regret minimization IQR - gp:\n",
        "lower_gp9 = np.asarray(gp9_results[4:5][0])[0]\n",
        "median_gp9 = np.asarray(gp9_results[9:10][0])[0]\n",
        "upper_gp9 = np.asarray(gp9_results[14:15][0])[0]\n",
        "\n",
        "lower_stp9 = np.asarray(stp9_results[4:5][0])[0]\n",
        "median_stp9 = np.asarray(stp9_results[9:10][0])[0]\n",
        "upper_stp9 = np.asarray(stp9_results[14:15][0])[0]\n"
      ]
    },
    {
      "cell_type": "code",
      "execution_count": null,
      "metadata": {
        "id": "G3QVtLpJJLmc"
      },
      "outputs": [],
      "source": [
        "# Iteration19 :\n",
        "\n",
        "slice19 = 18\n",
        "\n",
        "gp19 = [simple_regret_gp_1[slice19],\n",
        "       simple_regret_gp_2[slice19],\n",
        "       simple_regret_gp_3[slice19],\n",
        "       simple_regret_gp_4[slice19],\n",
        "       simple_regret_gp_5[slice19],\n",
        "       simple_regret_gp_6[slice19],\n",
        "       simple_regret_gp_7[slice19],\n",
        "       simple_regret_gp_8[slice19],\n",
        "       simple_regret_gp_9[slice19],\n",
        "       simple_regret_gp_10[slice19],\n",
        "       simple_regret_gp_11[slice19],\n",
        "       simple_regret_gp_12[slice19],\n",
        "       simple_regret_gp_13[slice19],\n",
        "       simple_regret_gp_14[slice19],\n",
        "       simple_regret_gp_15[slice19],\n",
        "       simple_regret_gp_16[slice19],\n",
        "       simple_regret_gp_17[slice19],\n",
        "       simple_regret_gp_18[slice19],\n",
        "       simple_regret_gp_19[slice19],\n",
        "       simple_regret_gp_20[slice19]]\n",
        "\n",
        "stp19 = [simple_regret_stp_1[slice19],\n",
        "       simple_regret_stp_2[slice19],\n",
        "       simple_regret_stp_3[slice19],\n",
        "       simple_regret_stp_4[slice19],\n",
        "       simple_regret_stp_5[slice19],\n",
        "       simple_regret_stp_6[slice19],\n",
        "       simple_regret_stp_7[slice19],\n",
        "       simple_regret_stp_8[slice19],\n",
        "       simple_regret_stp_9[slice19],\n",
        "       simple_regret_stp_10[slice19],\n",
        "       simple_regret_stp_11[slice19],\n",
        "       simple_regret_stp_12[slice19],\n",
        "       simple_regret_stp_13[slice19],\n",
        "       simple_regret_stp_14[slice19],\n",
        "       simple_regret_stp_15[slice19],\n",
        "       simple_regret_stp_16[slice19],\n",
        "       simple_regret_stp_17[slice19],\n",
        "       simple_regret_stp_18[slice19],\n",
        "       simple_regret_stp_19[slice19],\n",
        "       simple_regret_stp_20[slice19]]\n",
        "\n",
        "gp19_results = pd.DataFrame(gp19).sort_values(by=[0], ascending=False)\n",
        "stp19_results = pd.DataFrame(stp19).sort_values(by=[0], ascending=False)\n",
        "\n",
        "### Best training regret minimization IQR - gp:\n",
        "lower_gp19 = np.asarray(gp19_results[4:5][0])[0]\n",
        "median_gp19 = np.asarray(gp19_results[9:10][0])[0]\n",
        "upper_gp19 = np.asarray(gp19_results[14:15][0])[0]\n",
        "\n",
        "lower_stp19 = np.asarray(stp19_results[4:5][0])[0]\n",
        "median_stp19 = np.asarray(stp19_results[9:10][0])[0]\n",
        "upper_stp19 = np.asarray(stp19_results[14:15][0])[0]\n"
      ]
    },
    {
      "cell_type": "code",
      "execution_count": null,
      "metadata": {
        "id": "IzQng-ULJLmj"
      },
      "outputs": [],
      "source": [
        "# Iteration10 :\n",
        "\n",
        "slice10 = 9\n",
        "\n",
        "gp10 = [simple_regret_gp_1[slice10],\n",
        "       simple_regret_gp_2[slice10],\n",
        "       simple_regret_gp_3[slice10],\n",
        "       simple_regret_gp_4[slice10],\n",
        "       simple_regret_gp_5[slice10],\n",
        "       simple_regret_gp_6[slice10],\n",
        "       simple_regret_gp_7[slice10],\n",
        "       simple_regret_gp_8[slice10],\n",
        "       simple_regret_gp_9[slice10],\n",
        "       simple_regret_gp_10[slice10],\n",
        "       simple_regret_gp_11[slice10],\n",
        "       simple_regret_gp_12[slice10],\n",
        "       simple_regret_gp_13[slice10],\n",
        "       simple_regret_gp_14[slice10],\n",
        "       simple_regret_gp_15[slice10],\n",
        "       simple_regret_gp_16[slice10],\n",
        "       simple_regret_gp_17[slice10],\n",
        "       simple_regret_gp_18[slice10],\n",
        "       simple_regret_gp_19[slice10],\n",
        "       simple_regret_gp_20[slice10]]\n",
        "\n",
        "stp10 = [simple_regret_stp_1[slice10],\n",
        "       simple_regret_stp_2[slice10],\n",
        "       simple_regret_stp_3[slice10],\n",
        "       simple_regret_stp_4[slice10],\n",
        "       simple_regret_stp_5[slice10],\n",
        "       simple_regret_stp_6[slice10],\n",
        "       simple_regret_stp_7[slice10],\n",
        "       simple_regret_stp_8[slice10],\n",
        "       simple_regret_stp_9[slice10],\n",
        "       simple_regret_stp_10[slice10],\n",
        "       simple_regret_stp_11[slice10],\n",
        "       simple_regret_stp_12[slice10],\n",
        "       simple_regret_stp_13[slice10],\n",
        "       simple_regret_stp_14[slice10],\n",
        "       simple_regret_stp_15[slice10],\n",
        "       simple_regret_stp_16[slice10],\n",
        "       simple_regret_stp_17[slice10],\n",
        "       simple_regret_stp_18[slice10],\n",
        "       simple_regret_stp_19[slice10],\n",
        "       simple_regret_stp_20[slice10]]\n",
        "\n",
        "gp10_results = pd.DataFrame(gp10).sort_values(by=[0], ascending=False)\n",
        "stp10_results = pd.DataFrame(stp10).sort_values(by=[0], ascending=False)\n",
        "\n",
        "### Best training regret minimization IQR - gp:\n",
        "lower_gp10 = np.asarray(gp10_results[4:5][0])[0]\n",
        "median_gp10 = np.asarray(gp10_results[9:10][0])[0]\n",
        "upper_gp10 = np.asarray(gp10_results[14:15][0])[0]\n",
        "\n",
        "lower_stp10 = np.asarray(stp10_results[4:5][0])[0]\n",
        "median_stp10 = np.asarray(stp10_results[9:10][0])[0]\n",
        "upper_stp10 = np.asarray(stp10_results[14:15][0])[0]\n"
      ]
    },
    {
      "cell_type": "code",
      "execution_count": null,
      "metadata": {
        "id": "DQ_Cuh-4JLmk"
      },
      "outputs": [],
      "source": [
        "# Iteration20 :\n",
        "\n",
        "slice20 = 19\n",
        "\n",
        "gp20 = [simple_regret_gp_1[slice20],\n",
        "       simple_regret_gp_2[slice20],\n",
        "       simple_regret_gp_3[slice20],\n",
        "       simple_regret_gp_4[slice20],\n",
        "       simple_regret_gp_5[slice20],\n",
        "       simple_regret_gp_6[slice20],\n",
        "       simple_regret_gp_7[slice20],\n",
        "       simple_regret_gp_8[slice20],\n",
        "       simple_regret_gp_9[slice20],\n",
        "       simple_regret_gp_10[slice20],\n",
        "       simple_regret_gp_11[slice20],\n",
        "       simple_regret_gp_12[slice20],\n",
        "       simple_regret_gp_13[slice20],\n",
        "       simple_regret_gp_14[slice20],\n",
        "       simple_regret_gp_15[slice20],\n",
        "       simple_regret_gp_16[slice20],\n",
        "       simple_regret_gp_17[slice20],\n",
        "       simple_regret_gp_18[slice20],\n",
        "       simple_regret_gp_19[slice20],\n",
        "       simple_regret_gp_20[slice20]]\n",
        "\n",
        "stp20 = [simple_regret_stp_1[slice20],\n",
        "       simple_regret_stp_2[slice20],\n",
        "       simple_regret_stp_3[slice20],\n",
        "       simple_regret_stp_4[slice20],\n",
        "       simple_regret_stp_5[slice20],\n",
        "       simple_regret_stp_6[slice20],\n",
        "       simple_regret_stp_7[slice20],\n",
        "       simple_regret_stp_8[slice20],\n",
        "       simple_regret_stp_9[slice20],\n",
        "       simple_regret_stp_10[slice20],\n",
        "       simple_regret_stp_11[slice20],\n",
        "       simple_regret_stp_12[slice20],\n",
        "       simple_regret_stp_13[slice20],\n",
        "       simple_regret_stp_14[slice20],\n",
        "       simple_regret_stp_15[slice20],\n",
        "       simple_regret_stp_16[slice20],\n",
        "       simple_regret_stp_17[slice20],\n",
        "       simple_regret_stp_18[slice20],\n",
        "       simple_regret_stp_19[slice20],\n",
        "       simple_regret_stp_20[slice20]]\n",
        "\n",
        "gp20_results = pd.DataFrame(gp20).sort_values(by=[0], ascending=False)\n",
        "stp20_results = pd.DataFrame(stp20).sort_values(by=[0], ascending=False)\n",
        "\n",
        "### Best training regret minimization IQR - gp:\n",
        "lower_gp20 = np.asarray(gp20_results[4:5][0])[0]\n",
        "median_gp20 = np.asarray(gp20_results[9:10][0])[0]\n",
        "upper_gp20 = np.asarray(gp20_results[14:15][0])[0]\n",
        "\n",
        "lower_stp20 = np.asarray(stp20_results[4:5][0])[0]\n",
        "median_stp20 = np.asarray(stp20_results[9:10][0])[0]\n",
        "upper_stp20 = np.asarray(stp20_results[14:15][0])[0]\n"
      ]
    },
    {
      "cell_type": "code",
      "execution_count": null,
      "metadata": {
        "id": "R1gk3HGTJLms"
      },
      "outputs": [],
      "source": [
        "### Summarise arrays: 'GP'\n",
        "\n",
        "lower_gp = [lower_gp1,\n",
        "            lower_gp2,\n",
        "            lower_gp3,\n",
        "            lower_gp4,\n",
        "            lower_gp5,\n",
        "            lower_gp6,\n",
        "            lower_gp7,\n",
        "            lower_gp8,\n",
        "            lower_gp9,\n",
        "            lower_gp10,\n",
        "            lower_gp11,\n",
        "            lower_gp12,\n",
        "            lower_gp13,\n",
        "            lower_gp14,\n",
        "            lower_gp15,\n",
        "            lower_gp16,\n",
        "            lower_gp17,\n",
        "            lower_gp18,\n",
        "            lower_gp19,\n",
        "            lower_gp20,\n",
        "            lower_gp21]\n",
        "\n",
        "median_gp = [median_gp1,\n",
        "            median_gp2,\n",
        "            median_gp3,\n",
        "            median_gp4,\n",
        "            median_gp5,\n",
        "            median_gp6,\n",
        "            median_gp7,\n",
        "            median_gp8,\n",
        "            median_gp9,\n",
        "            median_gp10,\n",
        "            median_gp11,\n",
        "            median_gp12,\n",
        "            median_gp13,\n",
        "            median_gp14,\n",
        "            median_gp15,\n",
        "            median_gp16,\n",
        "            median_gp17,\n",
        "            median_gp18,\n",
        "            median_gp19,\n",
        "            median_gp20,\n",
        "            median_gp21]\n",
        "\n",
        "upper_gp = [upper_gp1,\n",
        "            upper_gp2,\n",
        "            upper_gp3,\n",
        "            upper_gp4,\n",
        "            upper_gp5,\n",
        "            upper_gp6,\n",
        "            upper_gp7,\n",
        "            upper_gp8,\n",
        "            upper_gp9,\n",
        "            upper_gp10,\n",
        "            upper_gp11,\n",
        "            upper_gp12,\n",
        "            upper_gp13,\n",
        "            upper_gp14,\n",
        "            upper_gp15,\n",
        "            upper_gp16,\n",
        "            upper_gp17,\n",
        "            upper_gp18,\n",
        "            upper_gp19,\n",
        "            upper_gp20,\n",
        "            upper_gp21]\n"
      ]
    },
    {
      "cell_type": "code",
      "execution_count": null,
      "metadata": {
        "id": "jox8uqaeJLmu"
      },
      "outputs": [],
      "source": [
        "### Summarise arrays: 'STP'\n",
        "\n",
        "lower_stp = [lower_stp1,\n",
        "            lower_stp2,\n",
        "            lower_stp3,\n",
        "            lower_stp4,\n",
        "            lower_stp5,\n",
        "            lower_stp6,\n",
        "            lower_stp7,\n",
        "            lower_stp8,\n",
        "            lower_stp9,\n",
        "            lower_stp10,\n",
        "            lower_stp11,\n",
        "            lower_stp12,\n",
        "            lower_stp13,\n",
        "            lower_stp14,\n",
        "            lower_stp15,\n",
        "            lower_stp16,\n",
        "            lower_stp17,\n",
        "            lower_stp18,\n",
        "            lower_stp19,\n",
        "            lower_stp20,\n",
        "            lower_stp21]\n",
        "\n",
        "median_stp = [median_stp1,\n",
        "            median_stp2,\n",
        "            median_stp3,\n",
        "            median_stp4,\n",
        "            median_stp5,\n",
        "            median_stp6,\n",
        "            median_stp7,\n",
        "            median_stp8,\n",
        "            median_stp9,\n",
        "            median_stp10,\n",
        "            median_stp11,\n",
        "            median_stp12,\n",
        "            median_stp13,\n",
        "            median_stp14,\n",
        "            median_stp15,\n",
        "            median_stp16,\n",
        "            median_stp17,\n",
        "            median_stp18,\n",
        "            median_stp19,\n",
        "            median_stp20,\n",
        "            median_stp21]\n",
        "\n",
        "upper_stp = [upper_stp1,\n",
        "            upper_stp2,\n",
        "            upper_stp3,\n",
        "            upper_stp4,\n",
        "            upper_stp5,\n",
        "            upper_stp6,\n",
        "            upper_stp7,\n",
        "            upper_stp8,\n",
        "            upper_stp9,\n",
        "            upper_stp10,\n",
        "            upper_stp11,\n",
        "            upper_stp12,\n",
        "            upper_stp13,\n",
        "            upper_stp14,\n",
        "            upper_stp15,\n",
        "            upper_stp16,\n",
        "            upper_stp17,\n",
        "            upper_stp18,\n",
        "            upper_stp19,\n",
        "            upper_stp20,\n",
        "            upper_stp21]\n"
      ]
    },
    {
      "cell_type": "code",
      "execution_count": null,
      "metadata": {
        "id": "W4hkYeeMJLmw",
        "colab": {
          "base_uri": "https://localhost:8080/",
          "height": 299
        },
        "outputId": "0d7cbafc-cb43-45cc-a1d2-9b0f3b29d400"
      },
      "outputs": [
        {
          "output_type": "display_data",
          "data": {
            "text/plain": [
              "<Figure size 432x288 with 1 Axes>"
            ],
            "image/png": "[encoded data removed]"
          },
          "metadata": {
            "needs_background": "light"
          }
        }
      ],
      "source": [
        "### Visualise!\n",
        "\n",
        "title = obj_func\n",
        "\n",
        "plt.figure()\n",
        "\n",
        "plt.plot(median_gp, color = 'Red')\n",
        "plt.plot(median_stp, color = 'Blue')\n",
        "\n",
        "xstar = np.arange(0, max_iter+1, step=1)\n",
        "plt.fill_between(xstar, lower_gp, upper_gp, facecolor = 'Red', alpha=0.4, label='GP ERM Regret: IQR')\n",
        "plt.fill_between(xstar, lower_stp, upper_stp, facecolor = 'Blue', alpha=0.4, label='STP ERM Regret: IQR ' r'($\\nu$' ' = {})'.format(df))\n",
        "\n",
        "plt.title(title, weight = 'bold')\n",
        "plt.xlabel('(Post-initialisation) iteration $\\it{k}$', weight = 'bold') # x-axis label\n",
        "plt.ylabel('ln(Regret)', weight = 'bold') # y-axis label\n",
        "plt.legend(loc=0) # add plot legend\n",
        "\n",
        "### Make the x-ticks integers, not floats:\n",
        "count = len(xstar)\n",
        "plt.xticks(np.arange(count), np.arange(0, count))\n",
        "plt.show() #visualise!\n"
      ]
    },
    {
      "cell_type": "code",
      "execution_count": null,
      "metadata": {
        "id": "5TOZMC49JLmw"
      },
      "outputs": [],
      "source": []
    }
  ],
  "metadata": {
    "kernelspec": {
      "display_name": "Python 3",
      "language": "python",
      "name": "python3"
    },
    "language_info": {
      "codemirror_mode": {
        "name": "ipython",
        "version": 3
      },
      "file_extension": ".py",
      "mimetype": "text/x-python",
      "name": "python",
      "nbconvert_exporter": "python",
      "pygments_lexer": "ipython3",
      "version": "3.6.5"
    },
    "colab": {
      "provenance": [],
      "collapsed_sections": []
    }
  },
  "nbformat": 4,
  "nbformat_minor": 0
}