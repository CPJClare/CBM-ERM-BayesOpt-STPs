{
  "cells": [
    {
      "cell_type": "markdown",
      "metadata": {
        "id": "Dqn4dFx7Z2Ir"
      },
      "source": [
        "\n",
        "Booth: 2D\n"
      ]
    },
    {
      "cell_type": "code",
      "execution_count": 1,
      "metadata": {
        "colab": {
          "base_uri": "https://localhost:8080/"
        },
        "id": "MJTM_GZZZb5x",
        "outputId": "60b8c40c-14e8-4571-c15f-18ac8ec8d6a2"
      },
      "outputs": [
        {
          "output_type": "stream",
          "name": "stdout",
          "text": [
            "Looking in indexes: https://pypi.org/simple, https://us-python.pkg.dev/colab-wheels/public/simple/\n",
            "Requirement already satisfied: pyGPGO in /usr/local/lib/python3.7/dist-packages (0.5.1)\n",
            "Requirement already satisfied: numpy in /usr/local/lib/python3.7/dist-packages (from pyGPGO) (1.21.6)\n",
            "Requirement already satisfied: scikit-learn in /usr/local/lib/python3.7/dist-packages (from pyGPGO) (1.0.2)\n",
            "Requirement already satisfied: mkl in /usr/local/lib/python3.7/dist-packages (from pyGPGO) (2019.0)\n",
            "Requirement already satisfied: scipy in /usr/local/lib/python3.7/dist-packages (from pyGPGO) (1.7.3)\n",
            "Requirement already satisfied: joblib in /usr/local/lib/python3.7/dist-packages (from pyGPGO) (1.2.0)\n",
            "Requirement already satisfied: pyMC3 in /usr/local/lib/python3.7/dist-packages (from pyGPGO) (3.11.5)\n",
            "Requirement already satisfied: Theano-PyMC in /usr/local/lib/python3.7/dist-packages (from pyGPGO) (1.1.2)\n",
            "Requirement already satisfied: intel-openmp in /usr/local/lib/python3.7/dist-packages (from mkl->pyGPGO) (2022.2.0)\n",
            "Requirement already satisfied: arviz>=0.11.0 in /usr/local/lib/python3.7/dist-packages (from pyMC3->pyGPGO) (0.12.1)\n",
            "Requirement already satisfied: pandas>=0.24.0 in /usr/local/lib/python3.7/dist-packages (from pyMC3->pyGPGO) (1.3.5)\n",
            "Requirement already satisfied: fastprogress>=0.2.0 in /usr/local/lib/python3.7/dist-packages (from pyMC3->pyGPGO) (1.0.3)\n",
            "Requirement already satisfied: dill in /usr/local/lib/python3.7/dist-packages (from pyMC3->pyGPGO) (0.3.6)\n",
            "Requirement already satisfied: patsy>=0.5.1 in /usr/local/lib/python3.7/dist-packages (from pyMC3->pyGPGO) (0.5.3)\n",
            "Requirement already satisfied: cachetools>=4.2.1 in /usr/local/lib/python3.7/dist-packages (from pyMC3->pyGPGO) (4.2.4)\n",
            "Requirement already satisfied: semver>=2.13.0 in /usr/local/lib/python3.7/dist-packages (from pyMC3->pyGPGO) (2.13.0)\n",
            "Requirement already satisfied: typing-extensions>=3.7.4 in /usr/local/lib/python3.7/dist-packages (from pyMC3->pyGPGO) (4.1.1)\n",
            "Requirement already satisfied: deprecat in /usr/local/lib/python3.7/dist-packages (from pyMC3->pyGPGO) (2.1.1)\n",
            "Requirement already satisfied: filelock in /usr/local/lib/python3.7/dist-packages (from Theano-PyMC->pyGPGO) (3.8.0)\n",
            "Requirement already satisfied: xarray-einstats>=0.2 in /usr/local/lib/python3.7/dist-packages (from arviz>=0.11.0->pyMC3->pyGPGO) (0.2.2)\n",
            "Requirement already satisfied: packaging in /usr/local/lib/python3.7/dist-packages (from arviz>=0.11.0->pyMC3->pyGPGO) (21.3)\n",
            "Requirement already satisfied: setuptools>=38.4 in /usr/local/lib/python3.7/dist-packages (from arviz>=0.11.0->pyMC3->pyGPGO) (57.4.0)\n",
            "Requirement already satisfied: xarray>=0.16.1 in /usr/local/lib/python3.7/dist-packages (from arviz>=0.11.0->pyMC3->pyGPGO) (0.20.2)\n",
            "Requirement already satisfied: matplotlib>=3.0 in /usr/local/lib/python3.7/dist-packages (from arviz>=0.11.0->pyMC3->pyGPGO) (3.2.2)\n",
            "Requirement already satisfied: netcdf4 in /usr/local/lib/python3.7/dist-packages (from arviz>=0.11.0->pyMC3->pyGPGO) (1.6.1)\n",
            "Requirement already satisfied: cycler>=0.10 in /usr/local/lib/python3.7/dist-packages (from matplotlib>=3.0->arviz>=0.11.0->pyMC3->pyGPGO) (0.11.0)\n",
            "Requirement already satisfied: kiwisolver>=1.0.1 in /usr/local/lib/python3.7/dist-packages (from matplotlib>=3.0->arviz>=0.11.0->pyMC3->pyGPGO) (1.4.4)\n",
            "Requirement already satisfied: pyparsing!=2.0.4,!=2.1.2,!=2.1.6,>=2.0.1 in /usr/local/lib/python3.7/dist-packages (from matplotlib>=3.0->arviz>=0.11.0->pyMC3->pyGPGO) (3.0.9)\n",
            "Requirement already satisfied: python-dateutil>=2.1 in /usr/local/lib/python3.7/dist-packages (from matplotlib>=3.0->arviz>=0.11.0->pyMC3->pyGPGO) (2.8.2)\n",
            "Requirement already satisfied: pytz>=2017.3 in /usr/local/lib/python3.7/dist-packages (from pandas>=0.24.0->pyMC3->pyGPGO) (2022.6)\n",
            "Requirement already satisfied: six in /usr/local/lib/python3.7/dist-packages (from patsy>=0.5.1->pyMC3->pyGPGO) (1.15.0)\n",
            "Requirement already satisfied: importlib-metadata in /usr/local/lib/python3.7/dist-packages (from xarray>=0.16.1->arviz>=0.11.0->pyMC3->pyGPGO) (4.13.0)\n",
            "Requirement already satisfied: wrapt<2,>=1.10 in /usr/local/lib/python3.7/dist-packages (from deprecat->pyMC3->pyGPGO) (1.14.1)\n",
            "Requirement already satisfied: zipp>=0.5 in /usr/local/lib/python3.7/dist-packages (from importlib-metadata->xarray>=0.16.1->arviz>=0.11.0->pyMC3->pyGPGO) (3.10.0)\n",
            "Requirement already satisfied: cftime in /usr/local/lib/python3.7/dist-packages (from netcdf4->arviz>=0.11.0->pyMC3->pyGPGO) (1.6.2)\n",
            "Requirement already satisfied: threadpoolctl>=2.0.0 in /usr/local/lib/python3.7/dist-packages (from scikit-learn->pyGPGO) (3.1.0)\n"
          ]
        }
      ],
      "source": [
        "pip install pyGPGO\n"
      ]
    },
    {
      "cell_type": "code",
      "execution_count": 2,
      "metadata": {
        "id": "ZJSSPbwPaEUB"
      },
      "outputs": [],
      "source": [
        "### Import:\n",
        "\n",
        "import numpy as np\n",
        "import scipy as sp\n",
        "import pandas as pd\n",
        "import matplotlib.pyplot as plt\n",
        "import warnings\n",
        "import itertools\n",
        "\n",
        "from pyGPGO.GPGO import GPGO\n",
        "from pyGPGO.surrogates.GaussianProcess import GaussianProcess\n",
        "from pyGPGO.surrogates.tStudentProcess import tStudentProcess\n",
        "from pyGPGO.acquisition import Acquisition\n",
        "from pyGPGO.covfunc import squaredExponential\n",
        "\n",
        "from joblib import Parallel, delayed\n",
        "from numpy.linalg import solve, cholesky\n",
        "from scipy.spatial.distance import cdist\n",
        "from scipy.optimize import minimize\n",
        "from scipy.stats import norm, t\n",
        "import time\n",
        "\n",
        "warnings.filterwarnings(\"ignore\", category=RuntimeWarning)\n"
      ]
    },
    {
      "cell_type": "code",
      "execution_count": 3,
      "metadata": {
        "id": "OeYcTUNoaJWa"
      },
      "outputs": [],
      "source": [
        "### Inputs:\n",
        "\n",
        "func = 'Booth'\n",
        "n_test = 500\n",
        "eps = 1e-08\n",
        "\n",
        "util = 'ERM'\n",
        "util_t = 'tERM'\n",
        "\n",
        "n_init = 5 # random initialisations\n",
        "iters = 20\n",
        "opt = True\n",
        "\n",
        "df = 3\n",
        "cov_func = squaredExponential()\n"
      ]
    },
    {
      "cell_type": "code",
      "execution_count": 4,
      "metadata": {
        "id": "xpaEOjdzaPMS"
      },
      "outputs": [],
      "source": [
        "### Objective function:\n",
        "\n",
        "if func == 'Booth':\n",
        "    \n",
        "    # True y bounds:\n",
        "    y_lb = 0\n",
        "    operator = -1 # targets global minimum \n",
        "    y_global_orig = y_lb * operator # targets global minimum\n",
        "            \n",
        "# Constraints:\n",
        "    lb = -10 \n",
        "    ub = +10\n",
        "\n",
        "# Input array dimension(s):\n",
        "    dim = 2\n",
        "\n",
        "# 2-D inputs' parameter bounds:\n",
        "    param = {'x1_training': ('cont', [lb, ub]),\n",
        "             'x2_training': ('cont', [lb, ub])}\n",
        "    \n",
        "# Test data:\n",
        "    x1_test = np.linspace(lb, ub, n_test)\n",
        "    x2_test = np.linspace(lb, ub, n_test)\n",
        "    Xstar_d = np.column_stack((x1_test, x2_test))\n",
        "\n",
        "    def objfunc(x1_training, x2_training):\n",
        "        return operator * ( (x1_training + 2 * x2_training -7) ** 2 +\n",
        "                                 (2 * x1_training + x2_training -5) ** 2\n",
        "                            )\n",
        "        "
      ]
    },
    {
      "cell_type": "code",
      "execution_count": 5,
      "metadata": {
        "id": "eYpI3Zm4aGxi"
      },
      "outputs": [],
      "source": [
        "n_start_AcqFunc = iters\n",
        "inverse = -1\n"
      ]
    },
    {
      "cell_type": "code",
      "execution_count": 6,
      "metadata": {
        "id": "oO_GUmOoaV0T"
      },
      "outputs": [],
      "source": [
        "### Cumulative Regret Calculators:\n",
        "\n",
        "def min_max_array(x):\n",
        "    new_list = []\n",
        "    for i, num in enumerate(x):\n",
        "            new_list.append(np.min(x[0:i+1]))\n",
        "    return new_list\n",
        "  \n",
        "def acqFuncExact(x):\n",
        "    new_array = []\n",
        "    x = np.array(x) * -1\n",
        "    for i, num in enumerate(x):\n",
        "            new_array = x[:-2][::-3]\n",
        "    return new_array[::-1]\n",
        "\n",
        "def acqFuncApprox(x):\n",
        "    new_array = []\n",
        "    x = np.array(x) * -1\n",
        "    for i, num in enumerate(x):\n",
        "            new_array = x[:-1][::-3]\n",
        "    return new_array[::-1]\n"
      ]
    },
    {
      "cell_type": "code",
      "execution_count": 7,
      "metadata": {
        "id": "_Dc3YVHVaXz7"
      },
      "outputs": [],
      "source": [
        "### Acquisition function:\n",
        "\n",
        "class Acquisition(Acquisition):    \n",
        "    def __init__(self, mode, eps=eps, **params):\n",
        "        \n",
        "        self.params = params\n",
        "        self.eps = eps\n",
        "\n",
        "        mode_dict = {\n",
        "            'ERM': self.ERM,\n",
        "            'tERM': self.tERM\n",
        "        }\n",
        "\n",
        "        self.f = mode_dict[mode]\n",
        "    \n",
        "    def ERM(self, y_global_orig, mean, std):\n",
        "        z = (mean - y_global_orig - self.eps) / (std + self.eps)\n",
        "        return z * (std + self.eps) * norm.cdf(z) + (std + self.eps) * norm.pdf(z)[0]\n",
        "\n",
        "    def tERM(self, y_global_orig, mean, std, nu=df):\n",
        "        gamma = (mean - y_global_orig - self.eps) / (std + self.eps)\n",
        "        return gamma * (std + self.eps) * t.cdf(gamma, df=nu) + (std + self.eps) * (nu + gamma ** 2)/(nu - 1) * t.pdf(gamma, df=nu)\n",
        "\n",
        "    def eval(self, y_global_orig, mean, std):\n",
        "    \n",
        "        return self.f(y_global_orig, mean, std, **self.params)\n",
        "        \n",
        "    def t_eval(self, y_global_orig, mean, std, nu=df):\n",
        "    \n",
        "        return self.f(y_global_orig, mean, std, nu=df, **self.params)\n"
      ]
    },
    {
      "cell_type": "code",
      "source": [
        "n_start = n_start_AcqFunc\n",
        "inverseRev = 1\n"
      ],
      "metadata": {
        "id": "2hGeeNy04dwe"
      },
      "execution_count": 8,
      "outputs": []
    },
    {
      "cell_type": "code",
      "execution_count": 9,
      "metadata": {
        "id": "PITEQC8YSl7i"
      },
      "outputs": [],
      "source": [
        "## GPGO_multi: Gaussian\n",
        "\n",
        "class GPGO_multi(GPGO):\n",
        "\n",
        "    def __init__(self, surrogate, acquisition, f, parameter_dict, n_jobs=1):\n",
        "        self.GP = surrogate\n",
        "        self.A = acquisition\n",
        "        self.f = f\n",
        "        self.parameters = parameter_dict\n",
        "        self.n_jobs = n_jobs\n",
        "\n",
        "        self.parameter_key = list(parameter_dict.keys())\n",
        "        self.parameter_value = list(parameter_dict.values())\n",
        "        self.parameter_type = [p[0] for p in self.parameter_value]\n",
        "        self.parameter_range = [p[1] for p in self.parameter_value]\n",
        "\n",
        "        self.history = []\n",
        "        self.header =   'Evaluation \\t Proposed point \\t  Current eval. \\t  Best eval. \\t Min. ApproxAcqFunc '\n",
        "        self.template = '{:3}\\t {}\\t {:3}\\t {:3}\\t {:3}'\n",
        " \n",
        "    def acqfuncApprox(self, xnew):\n",
        "        new_mean, new_var = self.GP.predict(xnew, return_std=True)\n",
        "        new_std = np.sqrt(new_var + eps)\n",
        "        f = self.A.eval(self.tau, new_mean, new_std)\n",
        "\n",
        "        return -f\n",
        "   \n",
        "    def _optimizeAcq(self, method='L-BFGS-B'):\n",
        "        \n",
        "        start_points_dict = [self._sampleParam() for i in range(n_start)]\n",
        "        start_points_arr = np.array([list(s.values())\n",
        "                                     for s in start_points_dict])\n",
        "        x_best = np.empty((n_start, len(self.parameter_key)))\n",
        "        f_best = np.empty((n_start,))\n",
        "        opt = Parallel(n_jobs=self.n_jobs)(delayed(minimize)(self.acqfuncApprox,\n",
        "                                                                 x0=start_point,\n",
        "                                                                 method=method,\n",
        "                                                                 jac = False,\n",
        "                                                                 bounds=self.parameter_range) for start_point in\n",
        "                                               start_points_arr)\n",
        "        x_best = np.array([res.x for res in opt])\n",
        "        f_best = np.array([np.atleast_1d(res.fun)[0] for res in opt])\n",
        "        f_best_min = min(f_best)\n",
        "\n",
        "        self.x_best = x_best\n",
        "        self.f_best = f_best\n",
        "        self.f_best_min = f_best_min\n",
        "        self.best = x_best[np.argmin(f_best)]\n",
        "        self.start_points_arr = start_points_arr        \n",
        "        self.history.append(self.f_best_min)\n",
        "\n",
        "    def _printInit(self):\n",
        "        print(self.header)\n",
        "        for init_eval in range(self.init_evals):\n",
        "            print(self.template.format('init', self.GP.X[init_eval], inverseRev * self.GP.y[init_eval], inverseRev * self.tau, ''))\n",
        "      \n",
        "    def _printCurrent(self):\n",
        "        OKGREEN = '\\033[92m'\n",
        "        ENDC = '\\033[0m'\n",
        "        BOLD = '\\033[1m'\n",
        "        eval = str(len(self.GP.y) - self.init_evals)\n",
        "        proposed = str(self.best)\n",
        "        curr_eval = str(inverseRev * self.GP.y[-1])\n",
        "        curr_best = str(inverseRev * self.tau)\n",
        "        min_acqfunc = str(self.f_best_min)\n",
        "        if float(curr_eval) <= float(curr_best):\n",
        "            eval = BOLD + OKGREEN + eval + ENDC\n",
        "            proposed = BOLD + OKGREEN + proposed + ENDC\n",
        "            curr_eval = BOLD + OKGREEN + curr_eval + ENDC\n",
        "            curr_best = BOLD + OKGREEN + curr_best + ENDC\n",
        "            min_acqfunc = BOLD + OKGREEN + min_acqfunc + ENDC\n",
        "        print(self.template.format(eval, proposed, curr_eval, curr_best, min_acqfunc))\n",
        "        \n",
        "    def run(self, max_iter=10, init_evals=3, resume=False):\n",
        "        \n",
        "        if not resume:\n",
        "            self.init_evals = init_evals\n",
        "            self._firstRun(self.init_evals)\n",
        "            self._printInit()\n",
        "        for iteration in range(max_iter):\n",
        "            self._optimizeAcq()\n",
        "            self.updateGP()\n",
        "            self._printCurrent()\n"
      ]
    },
    {
      "cell_type": "code",
      "source": [
        "## GPGO_multi_STP: Student's-t\n",
        "\n",
        "class GPGO_multi_STP(GPGO):\n",
        "\n",
        "    def __init__(self, surrogate, acquisition, f, parameter_dict, n_jobs=1):\n",
        "        self.GP = surrogate\n",
        "        self.A = acquisition\n",
        "        self.f = f\n",
        "        self.parameters = parameter_dict\n",
        "        self.n_jobs = n_jobs\n",
        "\n",
        "        self.parameter_key = list(parameter_dict.keys())\n",
        "        self.parameter_value = list(parameter_dict.values())\n",
        "        self.parameter_type = [p[0] for p in self.parameter_value]\n",
        "        self.parameter_range = [p[1] for p in self.parameter_value]\n",
        "\n",
        "        self.history = []\n",
        "        self.header =   'Evaluation \\t Proposed point \\t  Current eval. \\t  Best eval. \\t Min. ApproxAcqFunc '\n",
        "        self.template = '{:3}\\t {}\\t {:3}\\t {:3}\\t {:3}'\n",
        " \n",
        "    def acqfuncApprox(self, xnew):\n",
        "        new_mean, new_var = self.GP.predict(xnew, return_std=True)\n",
        "        new_std = np.sqrt(new_var + eps)\n",
        "        f = self.A.t_eval(self.tau, new_mean, new_std)\n",
        "\n",
        "        return -f\n",
        "   \n",
        "    def _optimizeAcq(self, method='L-BFGS-B'):\n",
        "        \n",
        "        start_points_dict = [self._sampleParam() for i in range(n_start)]\n",
        "        start_points_arr = np.array([list(s.values())\n",
        "                                     for s in start_points_dict])\n",
        "        x_best = np.empty((n_start, len(self.parameter_key)))\n",
        "        f_best = np.empty((n_start,))\n",
        "        opt = Parallel(n_jobs=self.n_jobs)(delayed(minimize)(self.acqfuncApprox,\n",
        "                                                                 x0=start_point,\n",
        "                                                                 method=method,\n",
        "                                                                 jac = False,\n",
        "                                                                 bounds=self.parameter_range) for start_point in\n",
        "                                               start_points_arr)\n",
        "        x_best = np.array([res.x for res in opt])\n",
        "        f_best = np.array([np.atleast_1d(res.fun)[0] for res in opt])\n",
        "        f_best_min = min(f_best)\n",
        "\n",
        "        self.x_best = x_best\n",
        "        self.f_best = f_best\n",
        "        self.f_best_min = f_best_min\n",
        "        self.best = x_best[np.argmin(f_best)]\n",
        "        self.start_points_arr = start_points_arr        \n",
        "        self.history.append(self.f_best_min)\n",
        "\n",
        "    def _printInit(self):\n",
        "        print(self.header)\n",
        "        for init_eval in range(self.init_evals):\n",
        "            print(self.template.format('init', self.GP.X[init_eval], inverseRev * self.GP.y[init_eval], inverseRev * self.tau, ''))\n",
        "      \n",
        "    def _printCurrent(self):\n",
        "        OKGREEN = '\\033[92m'\n",
        "        ENDC = '\\033[0m'\n",
        "        BOLD = '\\033[1m'\n",
        "        eval = str(len(self.GP.y) - self.init_evals)\n",
        "        proposed = str(self.best)\n",
        "        curr_eval = str(inverseRev * self.GP.y[-1])\n",
        "        curr_best = str(inverseRev * self.tau)\n",
        "        min_acqfunc = str(self.f_best_min)\n",
        "        if float(curr_eval) <= float(curr_best):\n",
        "            eval = BOLD + OKGREEN + eval + ENDC\n",
        "            proposed = BOLD + OKGREEN + proposed + ENDC\n",
        "            curr_eval = BOLD + OKGREEN + curr_eval + ENDC\n",
        "            curr_best = BOLD + OKGREEN + curr_best + ENDC\n",
        "            min_acqfunc = BOLD + OKGREEN + min_acqfunc + ENDC\n",
        "        print(self.template.format(eval, proposed, curr_eval, curr_best, min_acqfunc))\n",
        "        \n",
        "    def run(self, max_iter=10, init_evals=3, resume=False):\n",
        "        \n",
        "        if not resume:\n",
        "            self.init_evals = init_evals\n",
        "            self._firstRun(self.init_evals)\n",
        "            self._printInit()\n",
        "        for iteration in range(max_iter):\n",
        "            self._optimizeAcq()\n",
        "            self.updateGP()\n",
        "            self._printCurrent()\n"
      ],
      "metadata": {
        "id": "YKVBeKgC4VN-"
      },
      "execution_count": 10,
      "outputs": []
    },
    {
      "cell_type": "code",
      "execution_count": 11,
      "metadata": {
        "id": "qXIKGuXVGEg2"
      },
      "outputs": [],
      "source": [
        "###Reproducible set-seeds:\n",
        "\n",
        "run_num_4 = 4\n"
      ]
    },
    {
      "cell_type": "code",
      "source": [
        "### ESTIMATED GP ERM GRADIENTS: 20 random-multi starts (i.e. 20 rms)\n",
        "\n",
        "np.random.seed(run_num_4)\n",
        "surrogate_gp_4 = GaussianProcess(cov_func, optimize=opt)\n",
        "\n",
        "gp_4 = GPGO_multi(surrogate_gp_4, Acquisition(util), objfunc, param)\n",
        "gp_4.run(init_evals=n_init, max_iter=2)\n"
      ],
      "metadata": {
        "id": "eDtZ-5P6HkZK",
        "colab": {
          "base_uri": "https://localhost:8080/"
        },
        "outputId": "9aebccbf-d624-41d0-f72b-663bd8431953"
      },
      "execution_count": 12,
      "outputs": [
        {
          "output_type": "stream",
          "name": "stdout",
          "text": [
            "Evaluation \t Proposed point \t  Current eval. \t  Best eval. \t Min. ApproxAcqFunc \n",
            "init\t [9.34059678 0.94464498]\t -231.80709501196006\t -215.08077877054313\t    \n",
            "init\t [9.4536872  4.29631987]\t -453.3958241553961\t -215.08077877054313\t    \n",
            "init\t [ 3.95457649 -5.67821009]\t -215.08077877054313\t -215.08077877054313\t    \n",
            "init\t [ 9.5254891 -9.8753949]\t -314.14647993232734\t -215.08077877054313\t    \n",
            "init\t [-4.94035275 -1.30416935]\t -473.61459720928724\t -215.08077877054313\t    \n",
            "\u001b[1m\u001b[92m1\u001b[0m\t \u001b[1m\u001b[92m[-10. -10.]\u001b[0m\t \u001b[1m\u001b[92m-2594.0\u001b[0m\t \u001b[1m\u001b[92m-215.08077877054313\u001b[0m\t \u001b[1m\u001b[92m-215.08077876054313\u001b[0m\n",
            "\u001b[1m\u001b[92m2\u001b[0m\t \u001b[1m\u001b[92m[-0.24524722  6.20288844]\u001b[0m\t \u001b[1m\u001b[92m-27.138571678074374\u001b[0m\t \u001b[1m\u001b[92m-27.138571678074374\u001b[0m\t \u001b[1m\u001b[92m-215.08077876054313\u001b[0m\n"
          ]
        }
      ]
    },
    {
      "cell_type": "code",
      "source": [
        "### ESTIMATED STP ERM GRADIENTS: 20 random-multi starts (i.e. 20 rms)\n",
        "\n",
        "np.random.seed(run_num_4)\n",
        "surrogate_stp_4 = tStudentProcess(cov_func, optimize=opt, nu = df)\n",
        "\n",
        "stp_4 = GPGO_multi_STP(surrogate_stp_4, Acquisition(util_t), objfunc, param)\n",
        "stp_4.run(init_evals=n_init, max_iter=2)\n"
      ],
      "metadata": {
        "id": "PlKo5TWvHkKM",
        "colab": {
          "base_uri": "https://localhost:8080/"
        },
        "outputId": "d0978552-6699-42a2-fe70-9b1efd44913c"
      },
      "execution_count": 13,
      "outputs": [
        {
          "output_type": "stream",
          "name": "stdout",
          "text": [
            "Evaluation \t Proposed point \t  Current eval. \t  Best eval. \t Min. ApproxAcqFunc \n",
            "init\t [9.34059678 0.94464498]\t -231.80709501196006\t -215.08077877054313\t    \n",
            "init\t [9.4536872  4.29631987]\t -453.3958241553961\t -215.08077877054313\t    \n",
            "init\t [ 3.95457649 -5.67821009]\t -215.08077877054313\t -215.08077877054313\t    \n",
            "init\t [ 9.5254891 -9.8753949]\t -314.14647993232734\t -215.08077877054313\t    \n",
            "init\t [-4.94035275 -1.30416935]\t -473.61459720928724\t -215.08077877054313\t    \n",
            "\u001b[1m\u001b[92m1\u001b[0m\t \u001b[1m\u001b[92m[-10. -10.]\u001b[0m\t \u001b[1m\u001b[92m-2594.0\u001b[0m\t \u001b[1m\u001b[92m-215.08077877054313\u001b[0m\t \u001b[1m\u001b[92m-311.02120332555216\u001b[0m\n",
            "\u001b[1m\u001b[92m2\u001b[0m\t \u001b[1m\u001b[92m[1.43282743 6.87413988]\u001b[0m\t \u001b[1m\u001b[92m-89.39616910477575\u001b[0m\t \u001b[1m\u001b[92m-89.39616910477575\u001b[0m\t \u001b[1m\u001b[92m-681.0065927234884\u001b[0m\n"
          ]
        }
      ]
    },
    {
      "cell_type": "code",
      "source": [
        "gp_4.start_points_arr\n"
      ],
      "metadata": {
        "id": "3Y0Od6Rf5D4j",
        "colab": {
          "base_uri": "https://localhost:8080/"
        },
        "outputId": "1149843d-1394-4ce6-8032-d2598344277b"
      },
      "execution_count": 14,
      "outputs": [
        {
          "output_type": "execute_result",
          "data": {
            "text/plain": [
              "array([[-9.02931727, -7.80363764],\n",
              "       [ 3.6804643 ,  0.29307394],\n",
              "       [ 1.43282743,  6.87413988],\n",
              "       [-0.24524722,  6.20288844],\n",
              "       [ 0.20487259,  8.53441386],\n",
              "       [ 3.33855543, -7.02546321],\n",
              "       [-2.70893649,  7.31549832],\n",
              "       [-2.99429578, -6.21948481],\n",
              "       [-0.54757382, -2.1443765 ],\n",
              "       [ 2.37859853, -1.26467416],\n",
              "       [-4.78155685, -1.75055577],\n",
              "       [-1.61931931,  8.04843712],\n",
              "       [ 9.59232524,  2.47137679],\n",
              "       [-8.33631755,  4.65997435],\n",
              "       [ 3.57370805,  6.52045734],\n",
              "       [-3.05097327, -8.82239812],\n",
              "       [ 2.23643633, -7.51970763],\n",
              "       [ 5.19059058,  5.88846635],\n",
              "       [-1.82746427,  8.87595012],\n",
              "       [-6.52440412,  8.85171699]])"
            ]
          },
          "metadata": {},
          "execution_count": 14
        }
      ]
    },
    {
      "cell_type": "code",
      "source": [
        "stp_4.start_points_arr\n"
      ],
      "metadata": {
        "id": "DBTKkApEALxa",
        "colab": {
          "base_uri": "https://localhost:8080/"
        },
        "outputId": "7c7c5d62-27c2-4a5c-e2a0-1766b7969084"
      },
      "execution_count": 15,
      "outputs": [
        {
          "output_type": "execute_result",
          "data": {
            "text/plain": [
              "array([[-9.02931727, -7.80363764],\n",
              "       [ 3.6804643 ,  0.29307394],\n",
              "       [ 1.43282743,  6.87413988],\n",
              "       [-0.24524722,  6.20288844],\n",
              "       [ 0.20487259,  8.53441386],\n",
              "       [ 3.33855543, -7.02546321],\n",
              "       [-2.70893649,  7.31549832],\n",
              "       [-2.99429578, -6.21948481],\n",
              "       [-0.54757382, -2.1443765 ],\n",
              "       [ 2.37859853, -1.26467416],\n",
              "       [-4.78155685, -1.75055577],\n",
              "       [-1.61931931,  8.04843712],\n",
              "       [ 9.59232524,  2.47137679],\n",
              "       [-8.33631755,  4.65997435],\n",
              "       [ 3.57370805,  6.52045734],\n",
              "       [-3.05097327, -8.82239812],\n",
              "       [ 2.23643633, -7.51970763],\n",
              "       [ 5.19059058,  5.88846635],\n",
              "       [-1.82746427,  8.87595012],\n",
              "       [-6.52440412,  8.85171699]])"
            ]
          },
          "metadata": {},
          "execution_count": 15
        }
      ]
    },
    {
      "cell_type": "code",
      "source": [
        "np.sum((stp_4.start_points_arr - gp_4.start_points_arr)**2)\n"
      ],
      "metadata": {
        "id": "EBcqS3q-ALD0",
        "colab": {
          "base_uri": "https://localhost:8080/"
        },
        "outputId": "034937ab-e05d-44fb-be73-307621d6cd90"
      },
      "execution_count": 16,
      "outputs": [
        {
          "output_type": "execute_result",
          "data": {
            "text/plain": [
              "0.0"
            ]
          },
          "metadata": {},
          "execution_count": 16
        }
      ]
    },
    {
      "cell_type": "code",
      "source": [
        "np.round(gp_4.f_best, 5), np.argmin(gp_4.f_best)\n"
      ],
      "metadata": {
        "id": "hd6-F3NwARmA",
        "colab": {
          "base_uri": "https://localhost:8080/"
        },
        "outputId": "5b99e843-47b2-4111-e6c2-bfcfeb87f11f"
      },
      "execution_count": 17,
      "outputs": [
        {
          "output_type": "execute_result",
          "data": {
            "text/plain": [
              "(array([-215.08076, -215.08077, -215.08078, -215.08078, -215.08078,\n",
              "        -215.08078, -215.08078, -215.08078, -215.08078, -215.08078,\n",
              "         -75.81716, -215.08078, -151.43062, -215.08078, -215.08078,\n",
              "        -215.08078, -215.08078, -215.08078, -215.08078, -215.08078]), 3)"
            ]
          },
          "metadata": {},
          "execution_count": 17
        }
      ]
    },
    {
      "cell_type": "code",
      "source": [
        "min(gp_4.f_best), np.round(max(gp_4.f_best), 4)\n"
      ],
      "metadata": {
        "id": "52yjLltTJDu3",
        "colab": {
          "base_uri": "https://localhost:8080/"
        },
        "outputId": "1e8ee3bb-aa2e-4850-a87c-e68a61c06c75"
      },
      "execution_count": 18,
      "outputs": [
        {
          "output_type": "execute_result",
          "data": {
            "text/plain": [
              "(-215.08077876054313, -75.8172)"
            ]
          },
          "metadata": {},
          "execution_count": 18
        }
      ]
    },
    {
      "cell_type": "code",
      "source": [
        "gp_4.x_best[np.argmin(gp_4.f_best)], gp_4.best\n"
      ],
      "metadata": {
        "id": "xeO8F2XEI9_B",
        "colab": {
          "base_uri": "https://localhost:8080/"
        },
        "outputId": "e9db6500-77c7-40f7-bc95-e589f4a1ecbe"
      },
      "execution_count": 19,
      "outputs": [
        {
          "output_type": "execute_result",
          "data": {
            "text/plain": [
              "(array([-0.24524722,  6.20288844]), array([-0.24524722,  6.20288844]))"
            ]
          },
          "metadata": {},
          "execution_count": 19
        }
      ]
    },
    {
      "cell_type": "code",
      "source": [
        "np.round(stp_4.f_best, 5), np.argmin(stp_4.f_best)\n"
      ],
      "metadata": {
        "id": "vNGZtQG6D2Ss",
        "colab": {
          "base_uri": "https://localhost:8080/"
        },
        "outputId": "6acf1555-468b-4892-80ba-499c1c42954a"
      },
      "execution_count": 20,
      "outputs": [
        {
          "output_type": "execute_result",
          "data": {
            "text/plain": [
              "(array([-681.00658, -681.00659, -681.00659, -681.00659, -681.00659,\n",
              "        -681.00659, -681.00659, -681.00648, -681.00659, -681.00659,\n",
              "        -545.69764, -681.00659, -681.00653, -681.00659, -681.00659,\n",
              "        -681.00659, -681.00659, -681.00659, -681.00659, -681.00659]), 2)"
            ]
          },
          "metadata": {},
          "execution_count": 20
        }
      ]
    },
    {
      "cell_type": "code",
      "source": [
        "min(stp_4.f_best), np.round(max(stp_4.f_best), 4)\n"
      ],
      "metadata": {
        "id": "V6g2xsxyJRGt",
        "colab": {
          "base_uri": "https://localhost:8080/"
        },
        "outputId": "102cc2bb-2238-4256-d01e-ef2e79f4bece"
      },
      "execution_count": 21,
      "outputs": [
        {
          "output_type": "execute_result",
          "data": {
            "text/plain": [
              "(-681.0065927234884, -545.6976)"
            ]
          },
          "metadata": {},
          "execution_count": 21
        }
      ]
    },
    {
      "cell_type": "code",
      "source": [
        "stp_4.x_best[np.argmin(stp_4.f_best)], stp_4.best\n"
      ],
      "metadata": {
        "id": "2JEFDuenJRgd",
        "colab": {
          "base_uri": "https://localhost:8080/"
        },
        "outputId": "db99633f-89e2-4616-c77a-9f46095fc865"
      },
      "execution_count": 22,
      "outputs": [
        {
          "output_type": "execute_result",
          "data": {
            "text/plain": [
              "(array([1.43282743, 6.87413988]), array([1.43282743, 6.87413988]))"
            ]
          },
          "metadata": {},
          "execution_count": 22
        }
      ]
    },
    {
      "cell_type": "code",
      "source": [
        "np.sum((stp_4.f_best - gp_4.f_best)**2)\n"
      ],
      "metadata": {
        "id": "LWowxcrKEG3y",
        "colab": {
          "base_uri": "https://localhost:8080/"
        },
        "outputId": "e85f57a1-288c-467c-baa0-525347b9f955"
      },
      "execution_count": 23,
      "outputs": [
        {
          "output_type": "execute_result",
          "data": {
            "text/plain": [
              "4408801.777913726"
            ]
          },
          "metadata": {},
          "execution_count": 23
        }
      ]
    },
    {
      "cell_type": "code",
      "source": [
        "stp_4.x_best\n"
      ],
      "metadata": {
        "id": "LJ3coqwsHUEF",
        "colab": {
          "base_uri": "https://localhost:8080/"
        },
        "outputId": "f813ebff-59a6-40be-ac5e-5a986476e110"
      },
      "execution_count": 24,
      "outputs": [
        {
          "output_type": "execute_result",
          "data": {
            "text/plain": [
              "array([[ 10.        ,  10.        ],\n",
              "       [  3.68041883,   0.29307394],\n",
              "       [  1.43282743,   6.87413988],\n",
              "       [ -0.24524722,   6.20288844],\n",
              "       [  0.20487259,   8.53441386],\n",
              "       [ -1.83646946,  -6.67274591],\n",
              "       [ -2.70893649,   7.31549832],\n",
              "       [ -2.99409115,  -6.22005325],\n",
              "       [  2.14312728,   1.21723057],\n",
              "       [  1.85693236,   0.0652796 ],\n",
              "       [ 10.        , -10.        ],\n",
              "       [ -1.61931931,   8.04843712],\n",
              "       [ 10.        ,  -4.42604037],\n",
              "       [ -8.33631755,   4.65997435],\n",
              "       [  3.57370805,   6.52045734],\n",
              "       [ -3.05097327,  -8.82239812],\n",
              "       [ -2.63888731, -10.        ],\n",
              "       [  2.63284377,   6.39925524],\n",
              "       [ -1.82746427,   8.87595012],\n",
              "       [ -6.52440412,   8.85171699]])"
            ]
          },
          "metadata": {},
          "execution_count": 24
        }
      ]
    },
    {
      "cell_type": "code",
      "source": [
        "np.sum((stp_4.x_best - stp_4.start_points_arr)**2)\n"
      ],
      "metadata": {
        "id": "y9S_78YLKMiZ",
        "colab": {
          "base_uri": "https://localhost:8080/"
        },
        "outputId": "0c780a41-5bc7-4dc1-8eae-ca003334dc67"
      },
      "execution_count": 25,
      "outputs": [
        {
          "output_type": "execute_result",
          "data": {
            "text/plain": [
              "1097.5828288332082"
            ]
          },
          "metadata": {},
          "execution_count": 25
        }
      ]
    },
    {
      "cell_type": "code",
      "source": [
        "gp_4.x_best\n"
      ],
      "metadata": {
        "id": "UGJJW2cFJ3CG",
        "colab": {
          "base_uri": "https://localhost:8080/"
        },
        "outputId": "df2f93f9-34b0-4c41-e48d-4c0d464e35de"
      },
      "execution_count": 26,
      "outputs": [
        {
          "output_type": "execute_result",
          "data": {
            "text/plain": [
              "array([[ 10.        ,  10.        ],\n",
              "       [  3.68040462,   0.29307963],\n",
              "       [  1.43282743,   6.87413988],\n",
              "       [ -0.24524722,   6.20288844],\n",
              "       [  0.20487259,   8.53441386],\n",
              "       [ -1.88196713,  -7.14211053],\n",
              "       [ -2.70893649,   7.31549832],\n",
              "       [ -2.3631392 ,  -7.04062111],\n",
              "       [  1.38811191,  -0.20096229],\n",
              "       [  1.95168042,  -0.03651408],\n",
              "       [ 10.        , -10.        ],\n",
              "       [ -1.61931931,   8.04843712],\n",
              "       [ 10.        ,   2.27404372],\n",
              "       [ -8.33631755,   4.65997435],\n",
              "       [  3.57370805,   6.52045734],\n",
              "       [ -3.05097327,  -8.82239812],\n",
              "       [ -3.57724993, -10.        ],\n",
              "       [  3.70750091,   6.42494422],\n",
              "       [ -1.82746427,   8.87595012],\n",
              "       [ -6.52440412,   8.85171699]])"
            ]
          },
          "metadata": {},
          "execution_count": 26
        }
      ]
    },
    {
      "cell_type": "code",
      "source": [
        "np.sum((gp_4.x_best - gp_4.start_points_arr)**2)\n"
      ],
      "metadata": {
        "id": "rmJKtRv2tzw6",
        "colab": {
          "base_uri": "https://localhost:8080/"
        },
        "outputId": "c81cf406-456e-4f46-992d-c54ae8c091de"
      },
      "execution_count": 27,
      "outputs": [
        {
          "output_type": "execute_result",
          "data": {
            "text/plain": [
              "1045.829943051971"
            ]
          },
          "metadata": {},
          "execution_count": 27
        }
      ]
    },
    {
      "cell_type": "code",
      "source": [
        "np.sum((stp_4.x_best - gp_4.x_best)**2)\n"
      ],
      "metadata": {
        "id": "FPAiIpCtJ3EV",
        "colab": {
          "base_uri": "https://localhost:8080/"
        },
        "outputId": "7311a7bf-e766-4db5-9006-1dfa5a47d414"
      },
      "execution_count": 28,
      "outputs": [
        {
          "output_type": "execute_result",
          "data": {
            "text/plain": [
              "50.821662689414765"
            ]
          },
          "metadata": {},
          "execution_count": 28
        }
      ]
    },
    {
      "cell_type": "code",
      "source": [
        "a = gp_4.best[0]\n",
        "b = gp_4.best[1]\n",
        "\n",
        "-objfunc(a, b) # negating before final print statement, as agreed with GH and SMcC\n"
      ],
      "metadata": {
        "id": "emNE3Q59EZ_s",
        "colab": {
          "base_uri": "https://localhost:8080/"
        },
        "outputId": "20e4b655-ba5a-444c-8557-78c585f8b040"
      },
      "execution_count": 29,
      "outputs": [
        {
          "output_type": "execute_result",
          "data": {
            "text/plain": [
              "27.138571678074374"
            ]
          },
          "metadata": {},
          "execution_count": 29
        }
      ]
    },
    {
      "cell_type": "code",
      "source": [
        "a = stp_4.best[0]\n",
        "b = stp_4.best[1]\n",
        "\n",
        "-objfunc(a, b) # negating before final print statement, as agreed with GH and SMcC\n"
      ],
      "metadata": {
        "id": "tiaatjhFHYIA",
        "colab": {
          "base_uri": "https://localhost:8080/"
        },
        "outputId": "a746a087-0328-4187-b4bf-58ca502ad774"
      },
      "execution_count": 30,
      "outputs": [
        {
          "output_type": "execute_result",
          "data": {
            "text/plain": [
              "89.39616910477575"
            ]
          },
          "metadata": {},
          "execution_count": 30
        }
      ]
    },
    {
      "cell_type": "code",
      "source": [
        "xBest0 = 0.0898\n",
        "xBest1 = -0.7126\n",
        "\n",
        "xBest = [xBest0, xBest1]\n",
        "xBest\n"
      ],
      "metadata": {
        "colab": {
          "base_uri": "https://localhost:8080/"
        },
        "id": "3cj-Rro3h9I1",
        "outputId": "fbdeea71-e231-4a95-ade0-3bce41ef841e"
      },
      "execution_count": 31,
      "outputs": [
        {
          "output_type": "execute_result",
          "data": {
            "text/plain": [
              "[0.0898, -0.7126]"
            ]
          },
          "metadata": {},
          "execution_count": 31
        }
      ]
    },
    {
      "cell_type": "code",
      "source": [
        "def check(x):\n",
        "  a = x[:,0]\n",
        "  b = x[:,1] \n",
        "  for i in range(0, len(a) - 1):\n",
        "    res = (a - xBest0)**2 + (b - xBest1)**2 \n",
        "    return np.sum(res)\n",
        "\n",
        "check(gp_4.x_best), check(stp_4.x_best)\n"
      ],
      "metadata": {
        "colab": {
          "base_uri": "https://localhost:8080/"
        },
        "id": "yf_s3brgh9Lc",
        "outputId": "863e43ee-1c40-4e26-e26d-e760c0e61e19"
      },
      "execution_count": 32,
      "outputs": [
        {
          "output_type": "execute_result",
          "data": {
            "text/plain": [
              "(1594.9406428901952, 1580.4082911174662)"
            ]
          },
          "metadata": {},
          "execution_count": 32
        }
      ]
    },
    {
      "cell_type": "code",
      "source": [
        "np.std(gp_4.x_best), np.std(stp_4.x_best)\n"
      ],
      "metadata": {
        "colab": {
          "base_uri": "https://localhost:8080/"
        },
        "id": "Yzy4sOHoh9OE",
        "outputId": "ee93400f-b49b-4f2c-a1e2-61811c5a49c1"
      },
      "execution_count": 33,
      "outputs": [
        {
          "output_type": "execute_result",
          "data": {
            "text/plain": [
              "(6.022739707902296, 6.026197632489897)"
            ]
          },
          "metadata": {},
          "execution_count": 33
        }
      ]
    },
    {
      "cell_type": "code",
      "source": [
        "np.mean(gp_4.x_best), np.mean(stp_4.x_best)\n"
      ],
      "metadata": {
        "id": "DDH68Z_UzDq0",
        "colab": {
          "base_uri": "https://localhost:8080/"
        },
        "outputId": "445d296a-9016-47ad-dfcc-df915dacf000"
      },
      "execution_count": 34,
      "outputs": [
        {
          "output_type": "execute_result",
          "data": {
            "text/plain": [
              "(1.3859256326379754, 1.2864924573802399)"
            ]
          },
          "metadata": {},
          "execution_count": 34
        }
      ]
    },
    {
      "cell_type": "code",
      "source": [
        "gp_4_20rms = pd.Series(np.round(gp_4.f_best, 2)).value_counts(sort=True)\n",
        "gp_4_20rms_df = pd.DataFrame({'Frequency':gp_4_20rms.values,'GP ERM':gp_4_20rms.index})\n",
        "gp_4_20rms_df\n"
      ],
      "metadata": {
        "colab": {
          "base_uri": "https://localhost:8080/",
          "height": 143
        },
        "id": "F7A6b1EI8vpS",
        "outputId": "cf85dd3b-66e3-46e0-fc02-2932b04243f0"
      },
      "execution_count": 35,
      "outputs": [
        {
          "output_type": "execute_result",
          "data": {
            "text/plain": [
              "   Frequency  GP ERM\n",
              "0         18 -215.08\n",
              "1          1  -75.82\n",
              "2          1 -151.43"
            ],
            "text/html": [
              "\n",
              "  <div id=\"df-85772e12-bde3-469b-9494-997be9963367\">\n",
              "    <div class=\"colab-df-container\">\n",
              "      <div>\n",
              "<style scoped>\n",
              "    .dataframe tbody tr th:only-of-type {\n",
              "        vertical-align: middle;\n",
              "    }\n",
              "\n",
              "    .dataframe tbody tr th {\n",
              "        vertical-align: top;\n",
              "    }\n",
              "\n",
              "    .dataframe thead th {\n",
              "        text-align: right;\n",
              "    }\n",
              "</style>\n",
              "<table border=\"1\" class=\"dataframe\">\n",
              "  <thead>\n",
              "    <tr style=\"text-align: right;\">\n",
              "      <th></th>\n",
              "      <th>Frequency</th>\n",
              "      <th>GP ERM</th>\n",
              "    </tr>\n",
              "  </thead>\n",
              "  <tbody>\n",
              "    <tr>\n",
              "      <th>0</th>\n",
              "      <td>18</td>\n",
              "      <td>-215.08</td>\n",
              "    </tr>\n",
              "    <tr>\n",
              "      <th>1</th>\n",
              "      <td>1</td>\n",
              "      <td>-75.82</td>\n",
              "    </tr>\n",
              "    <tr>\n",
              "      <th>2</th>\n",
              "      <td>1</td>\n",
              "      <td>-151.43</td>\n",
              "    </tr>\n",
              "  </tbody>\n",
              "</table>\n",
              "</div>\n",
              "      <button class=\"colab-df-convert\" onclick=\"convertToInteractive('df-85772e12-bde3-469b-9494-997be9963367')\"\n",
              "              title=\"Convert this dataframe to an interactive table.\"\n",
              "              style=\"display:none;\">\n",
              "        \n",
              "  <svg xmlns=\"http://www.w3.org/2000/svg\" height=\"24px\"viewBox=\"0 0 24 24\"\n",
              "       width=\"24px\">\n",
              "    <path d=\"M0 0h24v24H0V0z\" fill=\"none\"/>\n",
              "    <path d=\"M18.56 5.44l.94 2.06.94-2.06 2.06-.94-2.06-.94-.94-2.06-.94 2.06-2.06.94zm-11 1L8.5 8.5l.94-2.06 2.06-.94-2.06-.94L8.5 2.5l-.94 2.06-2.06.94zm10 10l.94 2.06.94-2.06 2.06-.94-2.06-.94-.94-2.06-.94 2.06-2.06.94z\"/><path d=\"M17.41 7.96l-1.37-1.37c-.4-.4-.92-.59-1.43-.59-.52 0-1.04.2-1.43.59L10.3 9.45l-7.72 7.72c-.78.78-.78 2.05 0 2.83L4 21.41c.39.39.9.59 1.41.59.51 0 1.02-.2 1.41-.59l7.78-7.78 2.81-2.81c.8-.78.8-2.07 0-2.86zM5.41 20L4 18.59l7.72-7.72 1.47 1.35L5.41 20z\"/>\n",
              "  </svg>\n",
              "      </button>\n",
              "      \n",
              "  <style>\n",
              "    .colab-df-container {\n",
              "      display:flex;\n",
              "      flex-wrap:wrap;\n",
              "      gap: 12px;\n",
              "    }\n",
              "\n",
              "    .colab-df-convert {\n",
              "      background-color: #E8F0FE;\n",
              "      border: none;\n",
              "      border-radius: 50%;\n",
              "      cursor: pointer;\n",
              "      display: none;\n",
              "      fill: #1967D2;\n",
              "      height: 32px;\n",
              "      padding: 0 0 0 0;\n",
              "      width: 32px;\n",
              "    }\n",
              "\n",
              "    .colab-df-convert:hover {\n",
              "      background-color: #E2EBFA;\n",
              "      box-shadow: 0px 1px 2px rgba(60, 64, 67, 0.3), 0px 1px 3px 1px rgba(60, 64, 67, 0.15);\n",
              "      fill: #174EA6;\n",
              "    }\n",
              "\n",
              "    [theme=dark] .colab-df-convert {\n",
              "      background-color: #3B4455;\n",
              "      fill: #D2E3FC;\n",
              "    }\n",
              "\n",
              "    [theme=dark] .colab-df-convert:hover {\n",
              "      background-color: #434B5C;\n",
              "      box-shadow: 0px 1px 3px 1px rgba(0, 0, 0, 0.15);\n",
              "      filter: drop-shadow(0px 1px 2px rgba(0, 0, 0, 0.3));\n",
              "      fill: #FFFFFF;\n",
              "    }\n",
              "  </style>\n",
              "\n",
              "      <script>\n",
              "        const buttonEl =\n",
              "          document.querySelector('#df-85772e12-bde3-469b-9494-997be9963367 button.colab-df-convert');\n",
              "        buttonEl.style.display =\n",
              "          google.colab.kernel.accessAllowed ? 'block' : 'none';\n",
              "\n",
              "        async function convertToInteractive(key) {\n",
              "          const element = document.querySelector('#df-85772e12-bde3-469b-9494-997be9963367');\n",
              "          const dataTable =\n",
              "            await google.colab.kernel.invokeFunction('convertToInteractive',\n",
              "                                                     [key], {});\n",
              "          if (!dataTable) return;\n",
              "\n",
              "          const docLinkHtml = 'Like what you see? Visit the ' +\n",
              "            '<a target=\"_blank\" href=https://colab.research.google.com/notebooks/data_table.ipynb>data table notebook</a>'\n",
              "            + ' to learn more about interactive tables.';\n",
              "          element.innerHTML = '';\n",
              "          dataTable['output_type'] = 'display_data';\n",
              "          await google.colab.output.renderOutput(dataTable, element);\n",
              "          const docLink = document.createElement('div');\n",
              "          docLink.innerHTML = docLinkHtml;\n",
              "          element.appendChild(docLink);\n",
              "        }\n",
              "      </script>\n",
              "    </div>\n",
              "  </div>\n",
              "  "
            ]
          },
          "metadata": {},
          "execution_count": 35
        }
      ]
    },
    {
      "cell_type": "code",
      "source": [
        "ax = gp_4_20rms.plot.bar(title=\"GP ERM optimisation: 20 random multi-starts\", xlabel=\"GP ERM, optimised using approximate GP ERM gradients\", ylabel=\"Frequency\", color=\"red\")\n"
      ],
      "metadata": {
        "colab": {
          "base_uri": "https://localhost:8080/",
          "height": 324
        },
        "id": "4pWU1x_MwCkD",
        "outputId": "1df10b7c-6134-483e-94c4-02189e306ec5"
      },
      "execution_count": 36,
      "outputs": [
        {
          "output_type": "display_data",
          "data": {
            "text/plain": [
              "<Figure size 432x288 with 1 Axes>"
            ],
            "image/png": "[encoded data removed]"
          },
          "metadata": {
            "needs_background": "light"
          }
        }
      ]
    },
    {
      "cell_type": "code",
      "source": [
        "stp_4_20rms = pd.Series(np.round(stp_4.f_best, 2)).value_counts(sort=True)\n",
        "stp_4_20rms_df = pd.DataFrame({'Frequency':stp_4_20rms.values,'STP ERM':stp_4_20rms.index})\n",
        "stp_4_20rms_df\n"
      ],
      "metadata": {
        "colab": {
          "base_uri": "https://localhost:8080/",
          "height": 112
        },
        "id": "pdszDVmD-C4G",
        "outputId": "32d5c59c-bc4e-43b8-d679-6f131fd9fc81"
      },
      "execution_count": 37,
      "outputs": [
        {
          "output_type": "execute_result",
          "data": {
            "text/plain": [
              "   Frequency  STP ERM\n",
              "0         19  -681.01\n",
              "1          1  -545.70"
            ],
            "text/html": [
              "\n",
              "  <div id=\"df-c489853d-f5d1-4a03-8038-dfbf1ae06349\">\n",
              "    <div class=\"colab-df-container\">\n",
              "      <div>\n",
              "<style scoped>\n",
              "    .dataframe tbody tr th:only-of-type {\n",
              "        vertical-align: middle;\n",
              "    }\n",
              "\n",
              "    .dataframe tbody tr th {\n",
              "        vertical-align: top;\n",
              "    }\n",
              "\n",
              "    .dataframe thead th {\n",
              "        text-align: right;\n",
              "    }\n",
              "</style>\n",
              "<table border=\"1\" class=\"dataframe\">\n",
              "  <thead>\n",
              "    <tr style=\"text-align: right;\">\n",
              "      <th></th>\n",
              "      <th>Frequency</th>\n",
              "      <th>STP ERM</th>\n",
              "    </tr>\n",
              "  </thead>\n",
              "  <tbody>\n",
              "    <tr>\n",
              "      <th>0</th>\n",
              "      <td>19</td>\n",
              "      <td>-681.01</td>\n",
              "    </tr>\n",
              "    <tr>\n",
              "      <th>1</th>\n",
              "      <td>1</td>\n",
              "      <td>-545.70</td>\n",
              "    </tr>\n",
              "  </tbody>\n",
              "</table>\n",
              "</div>\n",
              "      <button class=\"colab-df-convert\" onclick=\"convertToInteractive('df-c489853d-f5d1-4a03-8038-dfbf1ae06349')\"\n",
              "              title=\"Convert this dataframe to an interactive table.\"\n",
              "              style=\"display:none;\">\n",
              "        \n",
              "  <svg xmlns=\"http://www.w3.org/2000/svg\" height=\"24px\"viewBox=\"0 0 24 24\"\n",
              "       width=\"24px\">\n",
              "    <path d=\"M0 0h24v24H0V0z\" fill=\"none\"/>\n",
              "    <path d=\"M18.56 5.44l.94 2.06.94-2.06 2.06-.94-2.06-.94-.94-2.06-.94 2.06-2.06.94zm-11 1L8.5 8.5l.94-2.06 2.06-.94-2.06-.94L8.5 2.5l-.94 2.06-2.06.94zm10 10l.94 2.06.94-2.06 2.06-.94-2.06-.94-.94-2.06-.94 2.06-2.06.94z\"/><path d=\"M17.41 7.96l-1.37-1.37c-.4-.4-.92-.59-1.43-.59-.52 0-1.04.2-1.43.59L10.3 9.45l-7.72 7.72c-.78.78-.78 2.05 0 2.83L4 21.41c.39.39.9.59 1.41.59.51 0 1.02-.2 1.41-.59l7.78-7.78 2.81-2.81c.8-.78.8-2.07 0-2.86zM5.41 20L4 18.59l7.72-7.72 1.47 1.35L5.41 20z\"/>\n",
              "  </svg>\n",
              "      </button>\n",
              "      \n",
              "  <style>\n",
              "    .colab-df-container {\n",
              "      display:flex;\n",
              "      flex-wrap:wrap;\n",
              "      gap: 12px;\n",
              "    }\n",
              "\n",
              "    .colab-df-convert {\n",
              "      background-color: #E8F0FE;\n",
              "      border: none;\n",
              "      border-radius: 50%;\n",
              "      cursor: pointer;\n",
              "      display: none;\n",
              "      fill: #1967D2;\n",
              "      height: 32px;\n",
              "      padding: 0 0 0 0;\n",
              "      width: 32px;\n",
              "    }\n",
              "\n",
              "    .colab-df-convert:hover {\n",
              "      background-color: #E2EBFA;\n",
              "      box-shadow: 0px 1px 2px rgba(60, 64, 67, 0.3), 0px 1px 3px 1px rgba(60, 64, 67, 0.15);\n",
              "      fill: #174EA6;\n",
              "    }\n",
              "\n",
              "    [theme=dark] .colab-df-convert {\n",
              "      background-color: #3B4455;\n",
              "      fill: #D2E3FC;\n",
              "    }\n",
              "\n",
              "    [theme=dark] .colab-df-convert:hover {\n",
              "      background-color: #434B5C;\n",
              "      box-shadow: 0px 1px 3px 1px rgba(0, 0, 0, 0.15);\n",
              "      filter: drop-shadow(0px 1px 2px rgba(0, 0, 0, 0.3));\n",
              "      fill: #FFFFFF;\n",
              "    }\n",
              "  </style>\n",
              "\n",
              "      <script>\n",
              "        const buttonEl =\n",
              "          document.querySelector('#df-c489853d-f5d1-4a03-8038-dfbf1ae06349 button.colab-df-convert');\n",
              "        buttonEl.style.display =\n",
              "          google.colab.kernel.accessAllowed ? 'block' : 'none';\n",
              "\n",
              "        async function convertToInteractive(key) {\n",
              "          const element = document.querySelector('#df-c489853d-f5d1-4a03-8038-dfbf1ae06349');\n",
              "          const dataTable =\n",
              "            await google.colab.kernel.invokeFunction('convertToInteractive',\n",
              "                                                     [key], {});\n",
              "          if (!dataTable) return;\n",
              "\n",
              "          const docLinkHtml = 'Like what you see? Visit the ' +\n",
              "            '<a target=\"_blank\" href=https://colab.research.google.com/notebooks/data_table.ipynb>data table notebook</a>'\n",
              "            + ' to learn more about interactive tables.';\n",
              "          element.innerHTML = '';\n",
              "          dataTable['output_type'] = 'display_data';\n",
              "          await google.colab.output.renderOutput(dataTable, element);\n",
              "          const docLink = document.createElement('div');\n",
              "          docLink.innerHTML = docLinkHtml;\n",
              "          element.appendChild(docLink);\n",
              "        }\n",
              "      </script>\n",
              "    </div>\n",
              "  </div>\n",
              "  "
            ]
          },
          "metadata": {},
          "execution_count": 37
        }
      ]
    },
    {
      "cell_type": "code",
      "source": [
        "ax = stp_4_20rms.plot.bar(title=\"STP ERM optimisation: 20 random multi-starts\", xlabel=\"STP ERM, optimised using approximate STP ERM gradients\", ylabel=\"Frequency\", color=\"blue\")\n"
      ],
      "metadata": {
        "colab": {
          "base_uri": "https://localhost:8080/",
          "height": 324
        },
        "id": "R4tQIFNHwIUs",
        "outputId": "b612b4f7-7eda-439f-8c69-372a3d1d03cd"
      },
      "execution_count": 38,
      "outputs": [
        {
          "output_type": "display_data",
          "data": {
            "text/plain": [
              "<Figure size 432x288 with 1 Axes>"
            ],
            "image/png": "[encoded data removed]"
          },
          "metadata": {
            "needs_background": "light"
          }
        }
      ]
    },
    {
      "cell_type": "code",
      "source": [
        "n_start = 50\n"
      ],
      "metadata": {
        "id": "DItU8FrcMiax"
      },
      "execution_count": 39,
      "outputs": []
    },
    {
      "cell_type": "code",
      "source": [
        "### ESTIMATED GP ERM GRADIENTS: 50 random-multi starts (i.e. 50 rms)\n",
        "\n",
        "np.random.seed(run_num_4)\n",
        "surrogate_gp_4_50rms = GaussianProcess(cov_func, optimize=opt)\n",
        "\n",
        "gp_4_50rms = GPGO_multi(surrogate_gp_4_50rms, Acquisition(util), objfunc, param)\n",
        "gp_4_50rms.run(init_evals=n_init, max_iter=2)\n"
      ],
      "metadata": {
        "colab": {
          "base_uri": "https://localhost:8080/"
        },
        "id": "XZ1IQDVXEBMV",
        "outputId": "7ee09ae7-e770-440c-c92b-18f779da9352"
      },
      "execution_count": 40,
      "outputs": [
        {
          "output_type": "stream",
          "name": "stdout",
          "text": [
            "Evaluation \t Proposed point \t  Current eval. \t  Best eval. \t Min. ApproxAcqFunc \n",
            "init\t [9.34059678 0.94464498]\t -231.80709501196006\t -215.08077877054313\t    \n",
            "init\t [9.4536872  4.29631987]\t -453.3958241553961\t -215.08077877054313\t    \n",
            "init\t [ 3.95457649 -5.67821009]\t -215.08077877054313\t -215.08077877054313\t    \n",
            "init\t [ 9.5254891 -9.8753949]\t -314.14647993232734\t -215.08077877054313\t    \n",
            "init\t [-4.94035275 -1.30416935]\t -473.61459720928724\t -215.08077877054313\t    \n",
            "\u001b[1m\u001b[92m1\u001b[0m\t \u001b[1m\u001b[92m[-10. -10.]\u001b[0m\t \u001b[1m\u001b[92m-2594.0\u001b[0m\t \u001b[1m\u001b[92m-215.08077877054313\u001b[0m\t \u001b[1m\u001b[92m-215.08077876054313\u001b[0m\n",
            "\u001b[1m\u001b[92m2\u001b[0m\t \u001b[1m\u001b[92m[-2.91708924  8.51617195]\u001b[0m\t \u001b[1m\u001b[92m-56.00000306237889\u001b[0m\t \u001b[1m\u001b[92m-56.00000306237889\u001b[0m\t \u001b[1m\u001b[92m-215.08077876054313\u001b[0m\n"
          ]
        }
      ]
    },
    {
      "cell_type": "code",
      "source": [
        "### ESTIMATED STP ERM GRADIENTS: 50 random-multi starts (i.e. 50 rms)\n",
        "\n",
        "np.random.seed(run_num_4)\n",
        "surrogate_stp_4_50rms = tStudentProcess(cov_func, optimize=opt, nu = df)\n",
        "\n",
        "stp_4_50rms = GPGO_multi_STP(surrogate_stp_4_50rms, Acquisition(util_t), objfunc, param)\n",
        "stp_4_50rms.run(init_evals=n_init, max_iter=2)\n"
      ],
      "metadata": {
        "colab": {
          "base_uri": "https://localhost:8080/"
        },
        "id": "FcBbXxAREDRl",
        "outputId": "ef43bd2d-b1ef-4202-81ba-869be39e1571"
      },
      "execution_count": 41,
      "outputs": [
        {
          "output_type": "stream",
          "name": "stdout",
          "text": [
            "Evaluation \t Proposed point \t  Current eval. \t  Best eval. \t Min. ApproxAcqFunc \n",
            "init\t [9.34059678 0.94464498]\t -231.80709501196006\t -215.08077877054313\t    \n",
            "init\t [9.4536872  4.29631987]\t -453.3958241553961\t -215.08077877054313\t    \n",
            "init\t [ 3.95457649 -5.67821009]\t -215.08077877054313\t -215.08077877054313\t    \n",
            "init\t [ 9.5254891 -9.8753949]\t -314.14647993232734\t -215.08077877054313\t    \n",
            "init\t [-4.94035275 -1.30416935]\t -473.61459720928724\t -215.08077877054313\t    \n",
            "\u001b[1m\u001b[92m1\u001b[0m\t \u001b[1m\u001b[92m[-10. -10.]\u001b[0m\t \u001b[1m\u001b[92m-2594.0\u001b[0m\t \u001b[1m\u001b[92m-215.08077877054313\u001b[0m\t \u001b[1m\u001b[92m-311.02120332555216\u001b[0m\n",
            "\u001b[1m\u001b[92m2\u001b[0m\t \u001b[1m\u001b[92m[-2.91708924  8.51617195]\u001b[0m\t \u001b[1m\u001b[92m-56.00000306237889\u001b[0m\t \u001b[1m\u001b[92m-56.00000306237889\u001b[0m\t \u001b[1m\u001b[92m-681.0065927234884\u001b[0m\n"
          ]
        }
      ]
    },
    {
      "cell_type": "code",
      "source": [
        "gp_4_50rms = pd.Series(np.round(gp_4_50rms.f_best, 2)).value_counts(sort=True)\n",
        "gp_4_50rms_df = pd.DataFrame({'Frequency':gp_4_50rms.values,'GP ERM':gp_4_50rms.index})\n",
        "gp_4_50rms_df\n"
      ],
      "metadata": {
        "colab": {
          "base_uri": "https://localhost:8080/",
          "height": 112
        },
        "id": "YC01bg4kKi7D",
        "outputId": "8a68dbbe-6e00-4717-cb1b-6b10b6150c8a"
      },
      "execution_count": 42,
      "outputs": [
        {
          "output_type": "execute_result",
          "data": {
            "text/plain": [
              "   Frequency  GP ERM\n",
              "0         49 -215.08\n",
              "1          1 -215.07"
            ],
            "text/html": [
              "\n",
              "  <div id=\"df-6fed6128-0892-4d7f-908b-26b68c3c6231\">\n",
              "    <div class=\"colab-df-container\">\n",
              "      <div>\n",
              "<style scoped>\n",
              "    .dataframe tbody tr th:only-of-type {\n",
              "        vertical-align: middle;\n",
              "    }\n",
              "\n",
              "    .dataframe tbody tr th {\n",
              "        vertical-align: top;\n",
              "    }\n",
              "\n",
              "    .dataframe thead th {\n",
              "        text-align: right;\n",
              "    }\n",
              "</style>\n",
              "<table border=\"1\" class=\"dataframe\">\n",
              "  <thead>\n",
              "    <tr style=\"text-align: right;\">\n",
              "      <th></th>\n",
              "      <th>Frequency</th>\n",
              "      <th>GP ERM</th>\n",
              "    </tr>\n",
              "  </thead>\n",
              "  <tbody>\n",
              "    <tr>\n",
              "      <th>0</th>\n",
              "      <td>49</td>\n",
              "      <td>-215.08</td>\n",
              "    </tr>\n",
              "    <tr>\n",
              "      <th>1</th>\n",
              "      <td>1</td>\n",
              "      <td>-215.07</td>\n",
              "    </tr>\n",
              "  </tbody>\n",
              "</table>\n",
              "</div>\n",
              "      <button class=\"colab-df-convert\" onclick=\"convertToInteractive('df-6fed6128-0892-4d7f-908b-26b68c3c6231')\"\n",
              "              title=\"Convert this dataframe to an interactive table.\"\n",
              "              style=\"display:none;\">\n",
              "        \n",
              "  <svg xmlns=\"http://www.w3.org/2000/svg\" height=\"24px\"viewBox=\"0 0 24 24\"\n",
              "       width=\"24px\">\n",
              "    <path d=\"M0 0h24v24H0V0z\" fill=\"none\"/>\n",
              "    <path d=\"M18.56 5.44l.94 2.06.94-2.06 2.06-.94-2.06-.94-.94-2.06-.94 2.06-2.06.94zm-11 1L8.5 8.5l.94-2.06 2.06-.94-2.06-.94L8.5 2.5l-.94 2.06-2.06.94zm10 10l.94 2.06.94-2.06 2.06-.94-2.06-.94-.94-2.06-.94 2.06-2.06.94z\"/><path d=\"M17.41 7.96l-1.37-1.37c-.4-.4-.92-.59-1.43-.59-.52 0-1.04.2-1.43.59L10.3 9.45l-7.72 7.72c-.78.78-.78 2.05 0 2.83L4 21.41c.39.39.9.59 1.41.59.51 0 1.02-.2 1.41-.59l7.78-7.78 2.81-2.81c.8-.78.8-2.07 0-2.86zM5.41 20L4 18.59l7.72-7.72 1.47 1.35L5.41 20z\"/>\n",
              "  </svg>\n",
              "      </button>\n",
              "      \n",
              "  <style>\n",
              "    .colab-df-container {\n",
              "      display:flex;\n",
              "      flex-wrap:wrap;\n",
              "      gap: 12px;\n",
              "    }\n",
              "\n",
              "    .colab-df-convert {\n",
              "      background-color: #E8F0FE;\n",
              "      border: none;\n",
              "      border-radius: 50%;\n",
              "      cursor: pointer;\n",
              "      display: none;\n",
              "      fill: #1967D2;\n",
              "      height: 32px;\n",
              "      padding: 0 0 0 0;\n",
              "      width: 32px;\n",
              "    }\n",
              "\n",
              "    .colab-df-convert:hover {\n",
              "      background-color: #E2EBFA;\n",
              "      box-shadow: 0px 1px 2px rgba(60, 64, 67, 0.3), 0px 1px 3px 1px rgba(60, 64, 67, 0.15);\n",
              "      fill: #174EA6;\n",
              "    }\n",
              "\n",
              "    [theme=dark] .colab-df-convert {\n",
              "      background-color: #3B4455;\n",
              "      fill: #D2E3FC;\n",
              "    }\n",
              "\n",
              "    [theme=dark] .colab-df-convert:hover {\n",
              "      background-color: #434B5C;\n",
              "      box-shadow: 0px 1px 3px 1px rgba(0, 0, 0, 0.15);\n",
              "      filter: drop-shadow(0px 1px 2px rgba(0, 0, 0, 0.3));\n",
              "      fill: #FFFFFF;\n",
              "    }\n",
              "  </style>\n",
              "\n",
              "      <script>\n",
              "        const buttonEl =\n",
              "          document.querySelector('#df-6fed6128-0892-4d7f-908b-26b68c3c6231 button.colab-df-convert');\n",
              "        buttonEl.style.display =\n",
              "          google.colab.kernel.accessAllowed ? 'block' : 'none';\n",
              "\n",
              "        async function convertToInteractive(key) {\n",
              "          const element = document.querySelector('#df-6fed6128-0892-4d7f-908b-26b68c3c6231');\n",
              "          const dataTable =\n",
              "            await google.colab.kernel.invokeFunction('convertToInteractive',\n",
              "                                                     [key], {});\n",
              "          if (!dataTable) return;\n",
              "\n",
              "          const docLinkHtml = 'Like what you see? Visit the ' +\n",
              "            '<a target=\"_blank\" href=https://colab.research.google.com/notebooks/data_table.ipynb>data table notebook</a>'\n",
              "            + ' to learn more about interactive tables.';\n",
              "          element.innerHTML = '';\n",
              "          dataTable['output_type'] = 'display_data';\n",
              "          await google.colab.output.renderOutput(dataTable, element);\n",
              "          const docLink = document.createElement('div');\n",
              "          docLink.innerHTML = docLinkHtml;\n",
              "          element.appendChild(docLink);\n",
              "        }\n",
              "      </script>\n",
              "    </div>\n",
              "  </div>\n",
              "  "
            ]
          },
          "metadata": {},
          "execution_count": 42
        }
      ]
    },
    {
      "cell_type": "code",
      "source": [
        "ax = gp_4_50rms.plot.bar(title=\"GP ERM optimisation: 50 random multi-starts\", xlabel=\"GP ERM, optimised using approximate GP ERM gradients\", ylabel=\"Frequency\", color=\"red\")\n"
      ],
      "metadata": {
        "colab": {
          "base_uri": "https://localhost:8080/",
          "height": 324
        },
        "id": "bkzARFD6tQrf",
        "outputId": "70f753f0-8540-4f68-b8dd-9daba9446c8e"
      },
      "execution_count": 43,
      "outputs": [
        {
          "output_type": "display_data",
          "data": {
            "text/plain": [
              "<Figure size 432x288 with 1 Axes>"
            ],
            "image/png": "[encoded data removed]"
          },
          "metadata": {
            "needs_background": "light"
          }
        }
      ]
    },
    {
      "cell_type": "code",
      "source": [
        "stp_4_50rms = pd.Series(np.round(stp_4_50rms.f_best, 2)).value_counts(sort=True)\n",
        "stp_4_50rms_df = pd.DataFrame({'Frequency':stp_4_50rms.values,'STP ERM':stp_4_50rms.index})\n",
        "stp_4_50rms_df\n"
      ],
      "metadata": {
        "colab": {
          "base_uri": "https://localhost:8080/",
          "height": 112
        },
        "id": "qshNk4ospKFs",
        "outputId": "135f3d9a-b65c-478e-f2f0-393e45e589e5"
      },
      "execution_count": 44,
      "outputs": [
        {
          "output_type": "execute_result",
          "data": {
            "text/plain": [
              "   Frequency  STP ERM\n",
              "0         49  -681.01\n",
              "1          1  -681.00"
            ],
            "text/html": [
              "\n",
              "  <div id=\"df-43be9340-2385-401e-941b-3f9ab7d448e9\">\n",
              "    <div class=\"colab-df-container\">\n",
              "      <div>\n",
              "<style scoped>\n",
              "    .dataframe tbody tr th:only-of-type {\n",
              "        vertical-align: middle;\n",
              "    }\n",
              "\n",
              "    .dataframe tbody tr th {\n",
              "        vertical-align: top;\n",
              "    }\n",
              "\n",
              "    .dataframe thead th {\n",
              "        text-align: right;\n",
              "    }\n",
              "</style>\n",
              "<table border=\"1\" class=\"dataframe\">\n",
              "  <thead>\n",
              "    <tr style=\"text-align: right;\">\n",
              "      <th></th>\n",
              "      <th>Frequency</th>\n",
              "      <th>STP ERM</th>\n",
              "    </tr>\n",
              "  </thead>\n",
              "  <tbody>\n",
              "    <tr>\n",
              "      <th>0</th>\n",
              "      <td>49</td>\n",
              "      <td>-681.01</td>\n",
              "    </tr>\n",
              "    <tr>\n",
              "      <th>1</th>\n",
              "      <td>1</td>\n",
              "      <td>-681.00</td>\n",
              "    </tr>\n",
              "  </tbody>\n",
              "</table>\n",
              "</div>\n",
              "      <button class=\"colab-df-convert\" onclick=\"convertToInteractive('df-43be9340-2385-401e-941b-3f9ab7d448e9')\"\n",
              "              title=\"Convert this dataframe to an interactive table.\"\n",
              "              style=\"display:none;\">\n",
              "        \n",
              "  <svg xmlns=\"http://www.w3.org/2000/svg\" height=\"24px\"viewBox=\"0 0 24 24\"\n",
              "       width=\"24px\">\n",
              "    <path d=\"M0 0h24v24H0V0z\" fill=\"none\"/>\n",
              "    <path d=\"M18.56 5.44l.94 2.06.94-2.06 2.06-.94-2.06-.94-.94-2.06-.94 2.06-2.06.94zm-11 1L8.5 8.5l.94-2.06 2.06-.94-2.06-.94L8.5 2.5l-.94 2.06-2.06.94zm10 10l.94 2.06.94-2.06 2.06-.94-2.06-.94-.94-2.06-.94 2.06-2.06.94z\"/><path d=\"M17.41 7.96l-1.37-1.37c-.4-.4-.92-.59-1.43-.59-.52 0-1.04.2-1.43.59L10.3 9.45l-7.72 7.72c-.78.78-.78 2.05 0 2.83L4 21.41c.39.39.9.59 1.41.59.51 0 1.02-.2 1.41-.59l7.78-7.78 2.81-2.81c.8-.78.8-2.07 0-2.86zM5.41 20L4 18.59l7.72-7.72 1.47 1.35L5.41 20z\"/>\n",
              "  </svg>\n",
              "      </button>\n",
              "      \n",
              "  <style>\n",
              "    .colab-df-container {\n",
              "      display:flex;\n",
              "      flex-wrap:wrap;\n",
              "      gap: 12px;\n",
              "    }\n",
              "\n",
              "    .colab-df-convert {\n",
              "      background-color: #E8F0FE;\n",
              "      border: none;\n",
              "      border-radius: 50%;\n",
              "      cursor: pointer;\n",
              "      display: none;\n",
              "      fill: #1967D2;\n",
              "      height: 32px;\n",
              "      padding: 0 0 0 0;\n",
              "      width: 32px;\n",
              "    }\n",
              "\n",
              "    .colab-df-convert:hover {\n",
              "      background-color: #E2EBFA;\n",
              "      box-shadow: 0px 1px 2px rgba(60, 64, 67, 0.3), 0px 1px 3px 1px rgba(60, 64, 67, 0.15);\n",
              "      fill: #174EA6;\n",
              "    }\n",
              "\n",
              "    [theme=dark] .colab-df-convert {\n",
              "      background-color: #3B4455;\n",
              "      fill: #D2E3FC;\n",
              "    }\n",
              "\n",
              "    [theme=dark] .colab-df-convert:hover {\n",
              "      background-color: #434B5C;\n",
              "      box-shadow: 0px 1px 3px 1px rgba(0, 0, 0, 0.15);\n",
              "      filter: drop-shadow(0px 1px 2px rgba(0, 0, 0, 0.3));\n",
              "      fill: #FFFFFF;\n",
              "    }\n",
              "  </style>\n",
              "\n",
              "      <script>\n",
              "        const buttonEl =\n",
              "          document.querySelector('#df-43be9340-2385-401e-941b-3f9ab7d448e9 button.colab-df-convert');\n",
              "        buttonEl.style.display =\n",
              "          google.colab.kernel.accessAllowed ? 'block' : 'none';\n",
              "\n",
              "        async function convertToInteractive(key) {\n",
              "          const element = document.querySelector('#df-43be9340-2385-401e-941b-3f9ab7d448e9');\n",
              "          const dataTable =\n",
              "            await google.colab.kernel.invokeFunction('convertToInteractive',\n",
              "                                                     [key], {});\n",
              "          if (!dataTable) return;\n",
              "\n",
              "          const docLinkHtml = 'Like what you see? Visit the ' +\n",
              "            '<a target=\"_blank\" href=https://colab.research.google.com/notebooks/data_table.ipynb>data table notebook</a>'\n",
              "            + ' to learn more about interactive tables.';\n",
              "          element.innerHTML = '';\n",
              "          dataTable['output_type'] = 'display_data';\n",
              "          await google.colab.output.renderOutput(dataTable, element);\n",
              "          const docLink = document.createElement('div');\n",
              "          docLink.innerHTML = docLinkHtml;\n",
              "          element.appendChild(docLink);\n",
              "        }\n",
              "      </script>\n",
              "    </div>\n",
              "  </div>\n",
              "  "
            ]
          },
          "metadata": {},
          "execution_count": 44
        }
      ]
    },
    {
      "cell_type": "code",
      "source": [
        "ax = stp_4_50rms.plot.bar(title=\"STP ERM optimisation: 50 random multi-starts\", xlabel=\"STP ERM, optimised using approximate STP ERM gradients\", ylabel=\"Frequency\", color=\"blue\")\n"
      ],
      "metadata": {
        "id": "tqgtupyivmi-",
        "colab": {
          "base_uri": "https://localhost:8080/",
          "height": 324
        },
        "outputId": "4dad91d3-c31d-424d-e1db-ba32850ef448"
      },
      "execution_count": 45,
      "outputs": [
        {
          "output_type": "display_data",
          "data": {
            "text/plain": [
              "<Figure size 432x288 with 1 Axes>"
            ],
            "image/png": "[encoded data removed]"
          },
          "metadata": {
            "needs_background": "light"
          }
        }
      ]
    },
    {
      "cell_type": "code",
      "source": [
        "n_start = 100\n"
      ],
      "metadata": {
        "id": "49g0OndrTTz9"
      },
      "execution_count": 46,
      "outputs": []
    },
    {
      "cell_type": "code",
      "source": [
        "### ESTIMATED GP ERM GRADIENTS: 100 random-multi starts (i.e. 100 rms)\n",
        "\n",
        "np.random.seed(run_num_4)\n",
        "surrogate_gp_4_100rms = GaussianProcess(cov_func, optimize=opt)\n",
        "\n",
        "gp_4_100rms = GPGO_multi(surrogate_gp_4_100rms, Acquisition(util), objfunc, param)\n",
        "gp_4_100rms.run(init_evals=n_init, max_iter=2)\n"
      ],
      "metadata": {
        "colab": {
          "base_uri": "https://localhost:8080/"
        },
        "outputId": "6a434f2f-c36a-4cb7-fb46-85ed474c364f",
        "id": "x-OcaB_hTT0W"
      },
      "execution_count": 47,
      "outputs": [
        {
          "output_type": "stream",
          "name": "stdout",
          "text": [
            "Evaluation \t Proposed point \t  Current eval. \t  Best eval. \t Min. ApproxAcqFunc \n",
            "init\t [9.34059678 0.94464498]\t -231.80709501196006\t -215.08077877054313\t    \n",
            "init\t [9.4536872  4.29631987]\t -453.3958241553961\t -215.08077877054313\t    \n",
            "init\t [ 3.95457649 -5.67821009]\t -215.08077877054313\t -215.08077877054313\t    \n",
            "init\t [ 9.5254891 -9.8753949]\t -314.14647993232734\t -215.08077877054313\t    \n",
            "init\t [-4.94035275 -1.30416935]\t -473.61459720928724\t -215.08077877054313\t    \n",
            "\u001b[1m\u001b[92m1\u001b[0m\t \u001b[1m\u001b[92m[-10. -10.]\u001b[0m\t \u001b[1m\u001b[92m-2594.0\u001b[0m\t \u001b[1m\u001b[92m-215.08077877054313\u001b[0m\t \u001b[1m\u001b[92m-215.08077876054313\u001b[0m\n",
            "\u001b[1m\u001b[92m2\u001b[0m\t \u001b[1m\u001b[92m[-1.54688157  7.50124694]\u001b[0m\t \u001b[1m\u001b[92m-42.026005803069296\u001b[0m\t \u001b[1m\u001b[92m-42.026005803069296\u001b[0m\t \u001b[1m\u001b[92m-215.08077876054313\u001b[0m\n"
          ]
        }
      ]
    },
    {
      "cell_type": "code",
      "source": [
        "### ESTIMATED STP ERM GRADIENTS: 100 random-multi starts (i.e. 100 rms)\n",
        "\n",
        "np.random.seed(run_num_4)\n",
        "surrogate_stp_4_100rms = tStudentProcess(cov_func, optimize=opt, nu = df)\n",
        "\n",
        "stp_4_100rms = GPGO_multi_STP(surrogate_stp_4_100rms, Acquisition(util_t), objfunc, param)\n",
        "stp_4_100rms.run(init_evals=n_init, max_iter=2)\n"
      ],
      "metadata": {
        "colab": {
          "base_uri": "https://localhost:8080/"
        },
        "outputId": "18584227-a8e4-46fc-9618-51b38c2a9074",
        "id": "rBIQgFewTT0X"
      },
      "execution_count": 48,
      "outputs": [
        {
          "output_type": "stream",
          "name": "stdout",
          "text": [
            "Evaluation \t Proposed point \t  Current eval. \t  Best eval. \t Min. ApproxAcqFunc \n",
            "init\t [9.34059678 0.94464498]\t -231.80709501196006\t -215.08077877054313\t    \n",
            "init\t [9.4536872  4.29631987]\t -453.3958241553961\t -215.08077877054313\t    \n",
            "init\t [ 3.95457649 -5.67821009]\t -215.08077877054313\t -215.08077877054313\t    \n",
            "init\t [ 9.5254891 -9.8753949]\t -314.14647993232734\t -215.08077877054313\t    \n",
            "init\t [-4.94035275 -1.30416935]\t -473.61459720928724\t -215.08077877054313\t    \n",
            "\u001b[1m\u001b[92m1\u001b[0m\t \u001b[1m\u001b[92m[-10. -10.]\u001b[0m\t \u001b[1m\u001b[92m-2594.0\u001b[0m\t \u001b[1m\u001b[92m-215.08077877054313\u001b[0m\t \u001b[1m\u001b[92m-311.02120332555216\u001b[0m\n",
            "\u001b[1m\u001b[92m2\u001b[0m\t \u001b[1m\u001b[92m[-1.54688157  7.50124694]\u001b[0m\t \u001b[1m\u001b[92m-42.026005803069296\u001b[0m\t \u001b[1m\u001b[92m-42.026005803069296\u001b[0m\t \u001b[1m\u001b[92m-681.0065927234884\u001b[0m\n"
          ]
        }
      ]
    },
    {
      "cell_type": "code",
      "source": [
        "gp_4_100rms = pd.Series(np.round(gp_4_100rms.f_best, 2)).value_counts(sort=True)\n",
        "gp_4_100rms_df = pd.DataFrame({'Frequency':gp_4_100rms.values,'GP ERM':gp_4_100rms.index})\n",
        "gp_4_100rms_df\n"
      ],
      "metadata": {
        "colab": {
          "base_uri": "https://localhost:8080/",
          "height": 112
        },
        "outputId": "d93be67c-f3ca-4631-8cfe-c279ed4063b2",
        "id": "X_mPl5YCTT0Y"
      },
      "execution_count": 49,
      "outputs": [
        {
          "output_type": "execute_result",
          "data": {
            "text/plain": [
              "   Frequency  GP ERM\n",
              "0         97 -215.08\n",
              "1          3 -215.07"
            ],
            "text/html": [
              "\n",
              "  <div id=\"df-51bc9333-d1f4-4249-b663-22824fdb5451\">\n",
              "    <div class=\"colab-df-container\">\n",
              "      <div>\n",
              "<style scoped>\n",
              "    .dataframe tbody tr th:only-of-type {\n",
              "        vertical-align: middle;\n",
              "    }\n",
              "\n",
              "    .dataframe tbody tr th {\n",
              "        vertical-align: top;\n",
              "    }\n",
              "\n",
              "    .dataframe thead th {\n",
              "        text-align: right;\n",
              "    }\n",
              "</style>\n",
              "<table border=\"1\" class=\"dataframe\">\n",
              "  <thead>\n",
              "    <tr style=\"text-align: right;\">\n",
              "      <th></th>\n",
              "      <th>Frequency</th>\n",
              "      <th>GP ERM</th>\n",
              "    </tr>\n",
              "  </thead>\n",
              "  <tbody>\n",
              "    <tr>\n",
              "      <th>0</th>\n",
              "      <td>97</td>\n",
              "      <td>-215.08</td>\n",
              "    </tr>\n",
              "    <tr>\n",
              "      <th>1</th>\n",
              "      <td>3</td>\n",
              "      <td>-215.07</td>\n",
              "    </tr>\n",
              "  </tbody>\n",
              "</table>\n",
              "</div>\n",
              "      <button class=\"colab-df-convert\" onclick=\"convertToInteractive('df-51bc9333-d1f4-4249-b663-22824fdb5451')\"\n",
              "              title=\"Convert this dataframe to an interactive table.\"\n",
              "              style=\"display:none;\">\n",
              "        \n",
              "  <svg xmlns=\"http://www.w3.org/2000/svg\" height=\"24px\"viewBox=\"0 0 24 24\"\n",
              "       width=\"24px\">\n",
              "    <path d=\"M0 0h24v24H0V0z\" fill=\"none\"/>\n",
              "    <path d=\"M18.56 5.44l.94 2.06.94-2.06 2.06-.94-2.06-.94-.94-2.06-.94 2.06-2.06.94zm-11 1L8.5 8.5l.94-2.06 2.06-.94-2.06-.94L8.5 2.5l-.94 2.06-2.06.94zm10 10l.94 2.06.94-2.06 2.06-.94-2.06-.94-.94-2.06-.94 2.06-2.06.94z\"/><path d=\"M17.41 7.96l-1.37-1.37c-.4-.4-.92-.59-1.43-.59-.52 0-1.04.2-1.43.59L10.3 9.45l-7.72 7.72c-.78.78-.78 2.05 0 2.83L4 21.41c.39.39.9.59 1.41.59.51 0 1.02-.2 1.41-.59l7.78-7.78 2.81-2.81c.8-.78.8-2.07 0-2.86zM5.41 20L4 18.59l7.72-7.72 1.47 1.35L5.41 20z\"/>\n",
              "  </svg>\n",
              "      </button>\n",
              "      \n",
              "  <style>\n",
              "    .colab-df-container {\n",
              "      display:flex;\n",
              "      flex-wrap:wrap;\n",
              "      gap: 12px;\n",
              "    }\n",
              "\n",
              "    .colab-df-convert {\n",
              "      background-color: #E8F0FE;\n",
              "      border: none;\n",
              "      border-radius: 50%;\n",
              "      cursor: pointer;\n",
              "      display: none;\n",
              "      fill: #1967D2;\n",
              "      height: 32px;\n",
              "      padding: 0 0 0 0;\n",
              "      width: 32px;\n",
              "    }\n",
              "\n",
              "    .colab-df-convert:hover {\n",
              "      background-color: #E2EBFA;\n",
              "      box-shadow: 0px 1px 2px rgba(60, 64, 67, 0.3), 0px 1px 3px 1px rgba(60, 64, 67, 0.15);\n",
              "      fill: #174EA6;\n",
              "    }\n",
              "\n",
              "    [theme=dark] .colab-df-convert {\n",
              "      background-color: #3B4455;\n",
              "      fill: #D2E3FC;\n",
              "    }\n",
              "\n",
              "    [theme=dark] .colab-df-convert:hover {\n",
              "      background-color: #434B5C;\n",
              "      box-shadow: 0px 1px 3px 1px rgba(0, 0, 0, 0.15);\n",
              "      filter: drop-shadow(0px 1px 2px rgba(0, 0, 0, 0.3));\n",
              "      fill: #FFFFFF;\n",
              "    }\n",
              "  </style>\n",
              "\n",
              "      <script>\n",
              "        const buttonEl =\n",
              "          document.querySelector('#df-51bc9333-d1f4-4249-b663-22824fdb5451 button.colab-df-convert');\n",
              "        buttonEl.style.display =\n",
              "          google.colab.kernel.accessAllowed ? 'block' : 'none';\n",
              "\n",
              "        async function convertToInteractive(key) {\n",
              "          const element = document.querySelector('#df-51bc9333-d1f4-4249-b663-22824fdb5451');\n",
              "          const dataTable =\n",
              "            await google.colab.kernel.invokeFunction('convertToInteractive',\n",
              "                                                     [key], {});\n",
              "          if (!dataTable) return;\n",
              "\n",
              "          const docLinkHtml = 'Like what you see? Visit the ' +\n",
              "            '<a target=\"_blank\" href=https://colab.research.google.com/notebooks/data_table.ipynb>data table notebook</a>'\n",
              "            + ' to learn more about interactive tables.';\n",
              "          element.innerHTML = '';\n",
              "          dataTable['output_type'] = 'display_data';\n",
              "          await google.colab.output.renderOutput(dataTable, element);\n",
              "          const docLink = document.createElement('div');\n",
              "          docLink.innerHTML = docLinkHtml;\n",
              "          element.appendChild(docLink);\n",
              "        }\n",
              "      </script>\n",
              "    </div>\n",
              "  </div>\n",
              "  "
            ]
          },
          "metadata": {},
          "execution_count": 49
        }
      ]
    },
    {
      "cell_type": "code",
      "source": [
        "ax = gp_4_100rms.plot.bar(title=\"GP ERM optimisation: 100 random multi-starts\", xlabel=\"GP ERM, optimised using approximate GP ERM gradients\", ylabel=\"Frequency\", color=\"red\")\n"
      ],
      "metadata": {
        "colab": {
          "base_uri": "https://localhost:8080/",
          "height": 324
        },
        "outputId": "85787711-8e96-49aa-b014-7ad013edc73b",
        "id": "VCVU06HOTT0Z"
      },
      "execution_count": 50,
      "outputs": [
        {
          "output_type": "display_data",
          "data": {
            "text/plain": [
              "<Figure size 432x288 with 1 Axes>"
            ],
            "image/png": "[encoded data removed]"
          },
          "metadata": {
            "needs_background": "light"
          }
        }
      ]
    },
    {
      "cell_type": "code",
      "source": [
        "stp_4_100rms = pd.Series(np.round(stp_4_100rms.f_best, 2)).value_counts(sort=True)\n",
        "stp_4_100rms_df = pd.DataFrame({'Frequency':stp_4_100rms.values,'STP ERM':stp_4_100rms.index})\n",
        "stp_4_100rms_df\n"
      ],
      "metadata": {
        "colab": {
          "base_uri": "https://localhost:8080/",
          "height": 143
        },
        "outputId": "bc5d08c1-2d67-442f-e5e2-42ff19e788ff",
        "id": "P1wJlRiNTT0a"
      },
      "execution_count": 51,
      "outputs": [
        {
          "output_type": "execute_result",
          "data": {
            "text/plain": [
              "   Frequency  STP ERM\n",
              "0         95  -681.01\n",
              "1          4  -681.00\n",
              "2          1  -680.99"
            ],
            "text/html": [
              "\n",
              "  <div id=\"df-8d22a42e-ebe1-4bf8-bea0-69bf0116e6ab\">\n",
              "    <div class=\"colab-df-container\">\n",
              "      <div>\n",
              "<style scoped>\n",
              "    .dataframe tbody tr th:only-of-type {\n",
              "        vertical-align: middle;\n",
              "    }\n",
              "\n",
              "    .dataframe tbody tr th {\n",
              "        vertical-align: top;\n",
              "    }\n",
              "\n",
              "    .dataframe thead th {\n",
              "        text-align: right;\n",
              "    }\n",
              "</style>\n",
              "<table border=\"1\" class=\"dataframe\">\n",
              "  <thead>\n",
              "    <tr style=\"text-align: right;\">\n",
              "      <th></th>\n",
              "      <th>Frequency</th>\n",
              "      <th>STP ERM</th>\n",
              "    </tr>\n",
              "  </thead>\n",
              "  <tbody>\n",
              "    <tr>\n",
              "      <th>0</th>\n",
              "      <td>95</td>\n",
              "      <td>-681.01</td>\n",
              "    </tr>\n",
              "    <tr>\n",
              "      <th>1</th>\n",
              "      <td>4</td>\n",
              "      <td>-681.00</td>\n",
              "    </tr>\n",
              "    <tr>\n",
              "      <th>2</th>\n",
              "      <td>1</td>\n",
              "      <td>-680.99</td>\n",
              "    </tr>\n",
              "  </tbody>\n",
              "</table>\n",
              "</div>\n",
              "      <button class=\"colab-df-convert\" onclick=\"convertToInteractive('df-8d22a42e-ebe1-4bf8-bea0-69bf0116e6ab')\"\n",
              "              title=\"Convert this dataframe to an interactive table.\"\n",
              "              style=\"display:none;\">\n",
              "        \n",
              "  <svg xmlns=\"http://www.w3.org/2000/svg\" height=\"24px\"viewBox=\"0 0 24 24\"\n",
              "       width=\"24px\">\n",
              "    <path d=\"M0 0h24v24H0V0z\" fill=\"none\"/>\n",
              "    <path d=\"M18.56 5.44l.94 2.06.94-2.06 2.06-.94-2.06-.94-.94-2.06-.94 2.06-2.06.94zm-11 1L8.5 8.5l.94-2.06 2.06-.94-2.06-.94L8.5 2.5l-.94 2.06-2.06.94zm10 10l.94 2.06.94-2.06 2.06-.94-2.06-.94-.94-2.06-.94 2.06-2.06.94z\"/><path d=\"M17.41 7.96l-1.37-1.37c-.4-.4-.92-.59-1.43-.59-.52 0-1.04.2-1.43.59L10.3 9.45l-7.72 7.72c-.78.78-.78 2.05 0 2.83L4 21.41c.39.39.9.59 1.41.59.51 0 1.02-.2 1.41-.59l7.78-7.78 2.81-2.81c.8-.78.8-2.07 0-2.86zM5.41 20L4 18.59l7.72-7.72 1.47 1.35L5.41 20z\"/>\n",
              "  </svg>\n",
              "      </button>\n",
              "      \n",
              "  <style>\n",
              "    .colab-df-container {\n",
              "      display:flex;\n",
              "      flex-wrap:wrap;\n",
              "      gap: 12px;\n",
              "    }\n",
              "\n",
              "    .colab-df-convert {\n",
              "      background-color: #E8F0FE;\n",
              "      border: none;\n",
              "      border-radius: 50%;\n",
              "      cursor: pointer;\n",
              "      display: none;\n",
              "      fill: #1967D2;\n",
              "      height: 32px;\n",
              "      padding: 0 0 0 0;\n",
              "      width: 32px;\n",
              "    }\n",
              "\n",
              "    .colab-df-convert:hover {\n",
              "      background-color: #E2EBFA;\n",
              "      box-shadow: 0px 1px 2px rgba(60, 64, 67, 0.3), 0px 1px 3px 1px rgba(60, 64, 67, 0.15);\n",
              "      fill: #174EA6;\n",
              "    }\n",
              "\n",
              "    [theme=dark] .colab-df-convert {\n",
              "      background-color: #3B4455;\n",
              "      fill: #D2E3FC;\n",
              "    }\n",
              "\n",
              "    [theme=dark] .colab-df-convert:hover {\n",
              "      background-color: #434B5C;\n",
              "      box-shadow: 0px 1px 3px 1px rgba(0, 0, 0, 0.15);\n",
              "      filter: drop-shadow(0px 1px 2px rgba(0, 0, 0, 0.3));\n",
              "      fill: #FFFFFF;\n",
              "    }\n",
              "  </style>\n",
              "\n",
              "      <script>\n",
              "        const buttonEl =\n",
              "          document.querySelector('#df-8d22a42e-ebe1-4bf8-bea0-69bf0116e6ab button.colab-df-convert');\n",
              "        buttonEl.style.display =\n",
              "          google.colab.kernel.accessAllowed ? 'block' : 'none';\n",
              "\n",
              "        async function convertToInteractive(key) {\n",
              "          const element = document.querySelector('#df-8d22a42e-ebe1-4bf8-bea0-69bf0116e6ab');\n",
              "          const dataTable =\n",
              "            await google.colab.kernel.invokeFunction('convertToInteractive',\n",
              "                                                     [key], {});\n",
              "          if (!dataTable) return;\n",
              "\n",
              "          const docLinkHtml = 'Like what you see? Visit the ' +\n",
              "            '<a target=\"_blank\" href=https://colab.research.google.com/notebooks/data_table.ipynb>data table notebook</a>'\n",
              "            + ' to learn more about interactive tables.';\n",
              "          element.innerHTML = '';\n",
              "          dataTable['output_type'] = 'display_data';\n",
              "          await google.colab.output.renderOutput(dataTable, element);\n",
              "          const docLink = document.createElement('div');\n",
              "          docLink.innerHTML = docLinkHtml;\n",
              "          element.appendChild(docLink);\n",
              "        }\n",
              "      </script>\n",
              "    </div>\n",
              "  </div>\n",
              "  "
            ]
          },
          "metadata": {},
          "execution_count": 51
        }
      ]
    },
    {
      "cell_type": "code",
      "source": [
        "ax = stp_4_100rms.plot.bar(title=\"STP ERM optimisation: 100 random multi-starts\", xlabel=\"STP ERM, optimised using approximate STP ERM gradients\", ylabel=\"Frequency\", color=\"blue\")\n"
      ],
      "metadata": {
        "colab": {
          "base_uri": "https://localhost:8080/",
          "height": 324
        },
        "outputId": "4f790cdf-0a07-4641-edcc-3847b6b0cd8e",
        "id": "3ve6kE6RTT0a"
      },
      "execution_count": 52,
      "outputs": [
        {
          "output_type": "display_data",
          "data": {
            "text/plain": [
              "<Figure size 432x288 with 1 Axes>"
            ],
            "image/png": "[encoded data removed]"
          },
          "metadata": {
            "needs_background": "light"
          }
        }
      ]
    },
    {
      "cell_type": "code",
      "source": [
        "print(gp_4_20rms.to_latex(index=True))\n"
      ],
      "metadata": {
        "colab": {
          "base_uri": "https://localhost:8080/"
        },
        "id": "N0IzWilSXdkh",
        "outputId": "27aee23b-46ff-48ee-c758-8338c5488e44"
      },
      "execution_count": 53,
      "outputs": [
        {
          "output_type": "stream",
          "name": "stdout",
          "text": [
            "\\begin{tabular}{lr}\n",
            "\\toprule\n",
            "{} &   0 \\\\\n",
            "\\midrule\n",
            "-215.08 &  18 \\\\\n",
            "-75.82  &   1 \\\\\n",
            "-151.43 &   1 \\\\\n",
            "\\bottomrule\n",
            "\\end{tabular}\n",
            "\n"
          ]
        }
      ]
    },
    {
      "cell_type": "code",
      "source": [
        "print(stp_4_20rms.to_latex(index=True))\n"
      ],
      "metadata": {
        "colab": {
          "base_uri": "https://localhost:8080/"
        },
        "id": "RYeQqoY8ceOC",
        "outputId": "7291b37d-3910-429a-cf0f-f66198958f53"
      },
      "execution_count": 54,
      "outputs": [
        {
          "output_type": "stream",
          "name": "stdout",
          "text": [
            "\\begin{tabular}{lr}\n",
            "\\toprule\n",
            "{} &   0 \\\\\n",
            "\\midrule\n",
            "-681.01 &  19 \\\\\n",
            "-545.70 &   1 \\\\\n",
            "\\bottomrule\n",
            "\\end{tabular}\n",
            "\n"
          ]
        }
      ]
    },
    {
      "cell_type": "code",
      "source": [
        "print(gp_4_50rms.to_latex(index=True))\n"
      ],
      "metadata": {
        "colab": {
          "base_uri": "https://localhost:8080/"
        },
        "id": "JRK799cwcltn",
        "outputId": "83ff74eb-b68f-4260-a24b-6319a5c8d90b"
      },
      "execution_count": 55,
      "outputs": [
        {
          "output_type": "stream",
          "name": "stdout",
          "text": [
            "\\begin{tabular}{lr}\n",
            "\\toprule\n",
            "{} &   0 \\\\\n",
            "\\midrule\n",
            "-215.08 &  49 \\\\\n",
            "-215.07 &   1 \\\\\n",
            "\\bottomrule\n",
            "\\end{tabular}\n",
            "\n"
          ]
        }
      ]
    },
    {
      "cell_type": "code",
      "source": [
        "print(stp_4_50rms.to_latex(index=True))\n"
      ],
      "metadata": {
        "id": "hBt9X5T6TT0a",
        "colab": {
          "base_uri": "https://localhost:8080/"
        },
        "outputId": "8c884c79-e496-49f3-d9c9-1f682944a22b"
      },
      "execution_count": 56,
      "outputs": [
        {
          "output_type": "stream",
          "name": "stdout",
          "text": [
            "\\begin{tabular}{lr}\n",
            "\\toprule\n",
            "{} &   0 \\\\\n",
            "\\midrule\n",
            "-681.01 &  49 \\\\\n",
            "-681.00 &   1 \\\\\n",
            "\\bottomrule\n",
            "\\end{tabular}\n",
            "\n"
          ]
        }
      ]
    },
    {
      "cell_type": "code",
      "source": [
        "print(gp_4_100rms.to_latex(index=True))\n"
      ],
      "metadata": {
        "colab": {
          "base_uri": "https://localhost:8080/"
        },
        "id": "veFjdCC4fM1t",
        "outputId": "80645204-fd62-46e9-87be-2b05bce3f4e2"
      },
      "execution_count": 57,
      "outputs": [
        {
          "output_type": "stream",
          "name": "stdout",
          "text": [
            "\\begin{tabular}{lr}\n",
            "\\toprule\n",
            "{} &   0 \\\\\n",
            "\\midrule\n",
            "-215.08 &  97 \\\\\n",
            "-215.07 &   3 \\\\\n",
            "\\bottomrule\n",
            "\\end{tabular}\n",
            "\n"
          ]
        }
      ]
    },
    {
      "cell_type": "code",
      "source": [
        "print(stp_4_100rms.to_latex(index=True))\n"
      ],
      "metadata": {
        "colab": {
          "base_uri": "https://localhost:8080/"
        },
        "id": "QEacMyWJfM42",
        "outputId": "f84b70a3-bd1a-4250-ef60-f93ee4e4ade9"
      },
      "execution_count": 58,
      "outputs": [
        {
          "output_type": "stream",
          "name": "stdout",
          "text": [
            "\\begin{tabular}{lr}\n",
            "\\toprule\n",
            "{} &   0 \\\\\n",
            "\\midrule\n",
            "-681.01 &  95 \\\\\n",
            "-681.00 &   4 \\\\\n",
            "-680.99 &   1 \\\\\n",
            "\\bottomrule\n",
            "\\end{tabular}\n",
            "\n"
          ]
        }
      ]
    },
    {
      "cell_type": "code",
      "source": [],
      "metadata": {
        "id": "htldQEgffM8e"
      },
      "execution_count": 58,
      "outputs": []
    }
  ],
  "metadata": {
    "colab": {
      "collapsed_sections": [],
      "provenance": []
    },
    "kernelspec": {
      "display_name": "Python 3",
      "name": "python3"
    },
    "language_info": {
      "name": "python"
    }
  },
  "nbformat": 4,
  "nbformat_minor": 0
}