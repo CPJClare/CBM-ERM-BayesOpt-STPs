{
  "cells": [
    {
      "cell_type": "markdown",
      "metadata": {
        "id": "OrYfJFnSJLkS"
      },
      "source": [
        "Rastrigin synthetic function:\n",
        "\n",
        "GP ERM versus STP nu = 3 ERM (winner)\n",
        "\n",
        "https://www.sfu.ca/~ssurjano/rastr.html"
      ]
    },
    {
      "cell_type": "code",
      "source": [
        "pip install pyGPGO\n"
      ],
      "metadata": {
        "colab": {
          "base_uri": "https://localhost:8080/"
        },
        "id": "2FgAmLMpOX3c",
        "outputId": "19c86fd3-05a2-4289-e966-5f09cca01336"
      },
      "execution_count": 1,
      "outputs": [
        {
          "output_type": "stream",
          "name": "stdout",
          "text": [
            "Looking in indexes: https://pypi.org/simple, https://us-python.pkg.dev/colab-wheels/public/simple/\n",
            "Collecting pyGPGO\n",
            "  Downloading pyGPGO-0.5.1.tar.gz (14 kB)\n",
            "Requirement already satisfied: numpy in /usr/local/lib/python3.7/dist-packages (from pyGPGO) (1.21.6)\n",
            "Requirement already satisfied: mkl in /usr/local/lib/python3.7/dist-packages (from pyGPGO) (2019.0)\n",
            "Requirement already satisfied: scipy in /usr/local/lib/python3.7/dist-packages (from pyGPGO) (1.7.3)\n",
            "Requirement already satisfied: joblib in /usr/local/lib/python3.7/dist-packages (from pyGPGO) (1.2.0)\n",
            "Requirement already satisfied: scikit-learn in /usr/local/lib/python3.7/dist-packages (from pyGPGO) (1.0.2)\n",
            "Collecting Theano-PyMC\n",
            "  Downloading Theano-PyMC-1.1.2.tar.gz (1.8 MB)\n",
            "\u001b[K     |████████████████████████████████| 1.8 MB 4.8 MB/s \n",
            "\u001b[?25hCollecting pyMC3\n",
            "  Downloading pymc3-3.11.5-py3-none-any.whl (872 kB)\n",
            "\u001b[K     |████████████████████████████████| 872 kB 54.3 MB/s \n",
            "\u001b[?25hRequirement already satisfied: intel-openmp in /usr/local/lib/python3.7/dist-packages (from mkl->pyGPGO) (2022.2.1)\n",
            "Requirement already satisfied: arviz>=0.11.0 in /usr/local/lib/python3.7/dist-packages (from pyMC3->pyGPGO) (0.12.1)\n",
            "Requirement already satisfied: typing-extensions>=3.7.4 in /usr/local/lib/python3.7/dist-packages (from pyMC3->pyGPGO) (4.1.1)\n",
            "Collecting semver>=2.13.0\n",
            "  Downloading semver-2.13.0-py2.py3-none-any.whl (12 kB)\n",
            "Requirement already satisfied: dill in /usr/local/lib/python3.7/dist-packages (from pyMC3->pyGPGO) (0.3.6)\n",
            "Requirement already satisfied: cachetools>=4.2.1 in /usr/local/lib/python3.7/dist-packages (from pyMC3->pyGPGO) (5.2.0)\n",
            "Requirement already satisfied: patsy>=0.5.1 in /usr/local/lib/python3.7/dist-packages (from pyMC3->pyGPGO) (0.5.3)\n",
            "Requirement already satisfied: pandas>=0.24.0 in /usr/local/lib/python3.7/dist-packages (from pyMC3->pyGPGO) (1.3.5)\n",
            "Collecting deprecat\n",
            "  Downloading deprecat-2.1.1-py2.py3-none-any.whl (9.8 kB)\n",
            "Requirement already satisfied: fastprogress>=0.2.0 in /usr/local/lib/python3.7/dist-packages (from pyMC3->pyGPGO) (1.0.3)\n",
            "Requirement already satisfied: filelock in /usr/local/lib/python3.7/dist-packages (from Theano-PyMC->pyGPGO) (3.8.0)\n",
            "Requirement already satisfied: xarray-einstats>=0.2 in /usr/local/lib/python3.7/dist-packages (from arviz>=0.11.0->pyMC3->pyGPGO) (0.2.2)\n",
            "Requirement already satisfied: packaging in /usr/local/lib/python3.7/dist-packages (from arviz>=0.11.0->pyMC3->pyGPGO) (21.3)\n",
            "Requirement already satisfied: netcdf4 in /usr/local/lib/python3.7/dist-packages (from arviz>=0.11.0->pyMC3->pyGPGO) (1.6.1)\n",
            "Requirement already satisfied: setuptools>=38.4 in /usr/local/lib/python3.7/dist-packages (from arviz>=0.11.0->pyMC3->pyGPGO) (57.4.0)\n",
            "Requirement already satisfied: xarray>=0.16.1 in /usr/local/lib/python3.7/dist-packages (from arviz>=0.11.0->pyMC3->pyGPGO) (0.20.2)\n",
            "Requirement already satisfied: matplotlib>=3.0 in /usr/local/lib/python3.7/dist-packages (from arviz>=0.11.0->pyMC3->pyGPGO) (3.2.2)\n",
            "Requirement already satisfied: kiwisolver>=1.0.1 in /usr/local/lib/python3.7/dist-packages (from matplotlib>=3.0->arviz>=0.11.0->pyMC3->pyGPGO) (1.4.4)\n",
            "Requirement already satisfied: cycler>=0.10 in /usr/local/lib/python3.7/dist-packages (from matplotlib>=3.0->arviz>=0.11.0->pyMC3->pyGPGO) (0.11.0)\n",
            "Requirement already satisfied: pyparsing!=2.0.4,!=2.1.2,!=2.1.6,>=2.0.1 in /usr/local/lib/python3.7/dist-packages (from matplotlib>=3.0->arviz>=0.11.0->pyMC3->pyGPGO) (3.0.9)\n",
            "Requirement already satisfied: python-dateutil>=2.1 in /usr/local/lib/python3.7/dist-packages (from matplotlib>=3.0->arviz>=0.11.0->pyMC3->pyGPGO) (2.8.2)\n",
            "Requirement already satisfied: pytz>=2017.3 in /usr/local/lib/python3.7/dist-packages (from pandas>=0.24.0->pyMC3->pyGPGO) (2022.6)\n",
            "Requirement already satisfied: six in /usr/local/lib/python3.7/dist-packages (from patsy>=0.5.1->pyMC3->pyGPGO) (1.15.0)\n",
            "Requirement already satisfied: importlib-metadata in /usr/local/lib/python3.7/dist-packages (from xarray>=0.16.1->arviz>=0.11.0->pyMC3->pyGPGO) (4.13.0)\n",
            "Requirement already satisfied: wrapt<2,>=1.10 in /usr/local/lib/python3.7/dist-packages (from deprecat->pyMC3->pyGPGO) (1.14.1)\n",
            "Requirement already satisfied: zipp>=0.5 in /usr/local/lib/python3.7/dist-packages (from importlib-metadata->xarray>=0.16.1->arviz>=0.11.0->pyMC3->pyGPGO) (3.10.0)\n",
            "Requirement already satisfied: cftime in /usr/local/lib/python3.7/dist-packages (from netcdf4->arviz>=0.11.0->pyMC3->pyGPGO) (1.6.2)\n",
            "Requirement already satisfied: threadpoolctl>=2.0.0 in /usr/local/lib/python3.7/dist-packages (from scikit-learn->pyGPGO) (3.1.0)\n",
            "Building wheels for collected packages: pyGPGO, Theano-PyMC\n",
            "  Building wheel for pyGPGO (setup.py) ... \u001b[?25l\u001b[?25hdone\n",
            "  Created wheel for pyGPGO: filename=pyGPGO-0.5.1-py3-none-any.whl size=19880 sha256=3b869c6e4eacee55def677e203fcb3e744f6f8bf0ad365c9faaa76498ef3fafc\n",
            "  Stored in directory: /root/.cache/pip/wheels/c8/5d/0b/2160114e2f1b87791c51b66cf07f89831dbb6f49167950316f\n",
            "  Building wheel for Theano-PyMC (setup.py) ... \u001b[?25l\u001b[?25hdone\n",
            "  Created wheel for Theano-PyMC: filename=Theano_PyMC-1.1.2-py3-none-any.whl size=1529964 sha256=a953908e4ab83fb5c2e875a9793a68e852620a1835ab8912bfaddb387bea4a4c\n",
            "  Stored in directory: /root/.cache/pip/wheels/f3/af/8c/5dd7553522d74c52a7813806fc7ee1a9caa20a3f7c8fd850d5\n",
            "Successfully built pyGPGO Theano-PyMC\n",
            "Installing collected packages: Theano-PyMC, semver, deprecat, pyMC3, pyGPGO\n",
            "Successfully installed Theano-PyMC-1.1.2 deprecat-2.1.1 pyGPGO-0.5.1 pyMC3-3.11.5 semver-2.13.0\n"
          ]
        }
      ]
    },
    {
      "cell_type": "code",
      "execution_count": 2,
      "metadata": {
        "id": "Dn_SAbhVJLke"
      },
      "outputs": [],
      "source": [
        "### Import modules:\n",
        "\n",
        "import numpy as np\n",
        "import scipy as sp\n",
        "import pandas as pd\n",
        "import matplotlib.pyplot as plt\n",
        "import random\n",
        "import warnings\n",
        "\n",
        "from pyGPGO.logger import EventLogger\n",
        "from pyGPGO.GPGO import GPGO\n",
        "from pyGPGO.surrogates.GaussianProcess import GaussianProcess\n",
        "from pyGPGO.surrogates.tStudentProcess import tStudentProcess, logpdf\n",
        "from pyGPGO.acquisition import Acquisition\n",
        "from pyGPGO.covfunc import squaredExponential\n",
        "\n",
        "from collections import OrderedDict\n",
        "from joblib import Parallel, delayed\n",
        "from numpy.linalg import slogdet, inv, cholesky, solve\n",
        "from scipy.optimize import minimize\n",
        "from scipy.spatial.distance import cdist\n",
        "from scipy.special import gamma\n",
        "from scipy.stats import norm, t\n",
        "from matplotlib.pyplot import rc\n",
        "\n",
        "rc('text', usetex=False)\n",
        "plt.rcParams['text.latex.preamble']=[r'\\usepackage{amsmath}']\n",
        "plt.rcParams['text.latex.preamble'] = [r'\\boldmath']\n",
        "\n",
        "warnings.filterwarnings(\"ignore\", category=FutureWarning)\n",
        "warnings.filterwarnings(\"ignore\", category=RuntimeWarning)\n",
        "warnings.filterwarnings(\"ignore\", category=UserWarning)\n"
      ]
    },
    {
      "cell_type": "code",
      "execution_count": 3,
      "metadata": {
        "id": "4Nwg_XO0JLki"
      },
      "outputs": [],
      "source": [
        "### Inputs:\n",
        "\n",
        "obj_func = 'Rastrigin'\n",
        "n_test = 500 # test points\n",
        "eps = 1e-08\n",
        "df = 3 # nu\n",
        "\n",
        "util_gp = 'RegretMinimized'\n",
        "util_stp = 'tRegretMinimized'\n",
        "n_init = 5 # random initialisations\n",
        "\n",
        "cov_func = squaredExponential()\n",
        "hyperOpt = True\n"
      ]
    },
    {
      "cell_type": "code",
      "execution_count": 4,
      "metadata": {
        "id": "DVYGZ6jYJLkj"
      },
      "outputs": [],
      "source": [
        "### Objective function:\n",
        "\n",
        "if obj_func == 'Rastrigin':\n",
        "    \n",
        "    # True y bounds:\n",
        "    y_lb = 0\n",
        "    operator = -1 # targets global minimum \n",
        "    y_global_orig = y_lb * operator # targets global minimum\n",
        "            \n",
        "# Constraints:\n",
        "    lb = -5.12 \n",
        "    ub = +5.12\n",
        "\n",
        "# Input array dimension(s):\n",
        "    dim = 2\n",
        "\n",
        "# 2-D inputs' parameter bounds:\n",
        "    param = {'x1_training': ('cont', [lb, ub]),\n",
        "             'x2_training': ('cont', [lb, ub])}\n",
        "    \n",
        "# Test data:\n",
        "    x1_test = np.linspace(lb, ub, n_test)\n",
        "    x2_test = np.linspace(lb, ub, n_test)\n",
        "    Xstar_d = np.column_stack((x1_test, x2_test))\n",
        "\n",
        "    def f_syn_polarity(x1_training, x2_training):\n",
        "        return  operator * (10 * dim + x1_training** 2 - 10 * np.cos(2 * np.pi * x1_training)\n",
        "                                    + x2_training** 2 - 10 * np.cos(2 * np.pi * x2_training)\n",
        "                          )\n",
        "    "
      ]
    },
    {
      "cell_type": "code",
      "source": [
        "max_iter = dim * 10  # iterations of Bayesian optimisation\n"
      ],
      "metadata": {
        "id": "S9JivCxiYACE"
      },
      "execution_count": 5,
      "outputs": []
    },
    {
      "cell_type": "code",
      "execution_count": 6,
      "metadata": {
        "id": "hE7COdNcJLkl"
      },
      "outputs": [],
      "source": [
        "### Cumulative Regret Calculator:\n",
        "\n",
        "def min_max_array(x):\n",
        "    new_list = []\n",
        "    for i, num in enumerate(x):\n",
        "            new_list.append(np.min(x[0:i+1]))\n",
        "    return new_list\n"
      ]
    },
    {
      "cell_type": "code",
      "execution_count": 7,
      "metadata": {
        "id": "gkY6wLl_JLkm"
      },
      "outputs": [],
      "source": [
        "### Set-seeds:\n",
        "\n",
        "run_num_1 = 1\n",
        "run_num_2 = 2\n",
        "run_num_3 = 3\n",
        "run_num_4 = 4\n",
        "run_num_5 = 5\n",
        "run_num_6 = 6\n",
        "run_num_7 = 7\n",
        "run_num_8 = 8\n",
        "run_num_9 = 9\n",
        "run_num_10 = 10\n",
        "run_num_11 = 11\n",
        "run_num_12 = 12\n",
        "run_num_13 = 13\n",
        "run_num_14 = 14\n",
        "run_num_15 = 15\n",
        "run_num_16 = 16\n",
        "run_num_17 = 17\n",
        "run_num_18 = 18\n",
        "run_num_19 = 19\n",
        "run_num_20 = 20\n"
      ]
    },
    {
      "cell_type": "code",
      "execution_count": 8,
      "metadata": {
        "id": "Mh53nXeyJLko"
      },
      "outputs": [],
      "source": [
        "### Acquisition function - ERM:\n",
        "\n",
        "class Acquisition_new(Acquisition):    \n",
        "    def __init__(self, mode, eps=eps, **params):\n",
        "        \n",
        "        self.params = params\n",
        "        self.eps = eps\n",
        "\n",
        "        mode_dict = {\n",
        "            'RegretMinimized': self.RegretMinimized,\n",
        "            'tRegretMinimized': self.tRegretMinimized\n",
        "        }\n",
        "\n",
        "        self.f = mode_dict[mode]\n",
        "   \n",
        "    def RegretMinimized(self, tau, mean, std):\n",
        "        \n",
        "        z = (mean - y_global_orig - self.eps) / (std + self.eps)\n",
        "        return z * (std + self.eps) * norm.cdf(z) + (std + self.eps) * norm.pdf(z)[0]\n",
        "    \n",
        "    def tRegretMinimized(self, tau, mean, std, nu=3.0):\n",
        "        \n",
        "        gamma = (mean - y_global_orig - self.eps) / (std + self.eps)\n",
        "        return gamma * (std + self.eps) * t.cdf(gamma, df=nu) + (std + self.eps) * (nu + gamma ** 2)/(nu - 1) * t.pdf(gamma, df=nu)\n",
        "    \n",
        "    def eval(self, y_global_orig, mean, std):\n",
        "    \n",
        "        return self.f(y_global_orig, mean, std, **self.params)\n",
        "        \n",
        "    def t_eval(self, y_global_orig, mean, std, nu=df):\n",
        "    \n",
        "        return self.f(y_global_orig, mean, std, nu=df, **self.params)\n"
      ]
    },
    {
      "cell_type": "code",
      "source": [
        "n_start_AcqFunc = max_iter\n",
        "inverse = -1\n"
      ],
      "metadata": {
        "id": "xSwpeFj-Y-Hl"
      },
      "execution_count": 9,
      "outputs": []
    },
    {
      "cell_type": "code",
      "source": [
        "## GPGO_multi: Gaussian\n",
        "\n",
        "n_start = n_start_AcqFunc\n",
        "\n",
        "class GPGO_multi(GPGO):\n",
        "\n",
        "    def __init__(self, surrogate, acquisition, f, parameter_dict, n_jobs=1):\n",
        "        self.GP = surrogate\n",
        "        self.A = acquisition\n",
        "        self.f = f\n",
        "        self.parameters = parameter_dict\n",
        "        self.n_jobs = n_jobs\n",
        "\n",
        "        self.parameter_key = list(parameter_dict.keys())\n",
        "        self.parameter_value = list(parameter_dict.values())\n",
        "        self.parameter_type = [p[0] for p in self.parameter_value]\n",
        "        self.parameter_range = [p[1] for p in self.parameter_value]\n",
        "\n",
        "        self.history = []\n",
        "        self.header =   'Evaluation \\t Proposed point \\t  Current eval. \\t  Best eval. \\t Min. ApproxAcqFunc '\n",
        "        self.template = '{:3}\\t {}\\t {:3}\\t {:3}\\t {:3}'\n",
        " \n",
        "    def acqfuncApprox(self, xnew):\n",
        "        new_mean, new_var = self.GP.predict(xnew, return_std=True)\n",
        "        new_std = np.sqrt(new_var + eps)\n",
        "        f = self.A.eval(self.tau, new_mean, new_std)\n",
        "\n",
        "        return -f\n",
        "   \n",
        "    def _optimizeAcq(self, method='L-BFGS-B'):\n",
        "        \n",
        "        start_points_dict = [self._sampleParam() for i in range(n_start)]\n",
        "        start_points_arr = np.array([list(s.values())\n",
        "                                     for s in start_points_dict])\n",
        "        x_best = np.empty((n_start, len(self.parameter_key)))\n",
        "        f_best = np.empty((n_start,))\n",
        "        opt = Parallel(n_jobs=self.n_jobs)(delayed(minimize)(self.acqfuncApprox,\n",
        "                                                                 x0=start_point,\n",
        "                                                                 method=method,\n",
        "                                                                 jac = False,\n",
        "                                                                 bounds=self.parameter_range) for start_point in\n",
        "                                               start_points_arr)\n",
        "        x_best = np.array([res.x for res in opt])\n",
        "        f_best = np.array([np.atleast_1d(res.fun)[0] for res in opt])\n",
        "        f_best_min = min(f_best)\n",
        "\n",
        "        self.x_best = x_best\n",
        "        self.f_best = f_best\n",
        "        self.f_best_min = f_best_min\n",
        "        self.best = x_best[np.argmin(f_best)]\n",
        "        self.start_points_arr = start_points_arr        \n",
        "        self.history.append(self.f_best_min)\n",
        "\n",
        "    def _printInit(self):\n",
        "        print(self.header)\n",
        "        for init_eval in range(self.init_evals):\n",
        "            print(self.template.format('init', self.GP.X[init_eval], inverse * self.GP.y[init_eval], inverse * self.tau, ''))\n",
        "      \n",
        "    def _printCurrent(self):\n",
        "        OKGREEN = '\\033[92m'\n",
        "        ENDC = '\\033[0m'\n",
        "        BOLD = '\\033[1m'\n",
        "        eval = str(len(self.GP.y) - self.init_evals)\n",
        "        proposed = str(self.best)\n",
        "        curr_eval = str(inverse * self.GP.y[-1])\n",
        "        curr_best = str(inverse * self.tau)\n",
        "        min_acqfunc = str(self.f_best_min)\n",
        "        if float(curr_eval) <= float(curr_best):\n",
        "            eval = BOLD + OKGREEN + eval + ENDC\n",
        "            proposed = BOLD + OKGREEN + proposed + ENDC\n",
        "            curr_eval = BOLD + OKGREEN + curr_eval + ENDC\n",
        "            curr_best = BOLD + OKGREEN + curr_best + ENDC\n",
        "            min_acqfunc = BOLD + OKGREEN + min_acqfunc + ENDC\n",
        "        print(self.template.format(eval, proposed, curr_eval, curr_best, min_acqfunc))\n",
        "        \n",
        "    def run(self, max_iter=10, init_evals=3, resume=False):\n",
        "        \n",
        "        if not resume:\n",
        "            self.init_evals = init_evals\n",
        "            self._firstRun(self.init_evals)\n",
        "            self._printInit()\n",
        "        for iteration in range(max_iter):\n",
        "            self._optimizeAcq()\n",
        "            self.updateGP()\n",
        "            self._printCurrent()\n"
      ],
      "metadata": {
        "id": "YorxhvyZXyfZ"
      },
      "execution_count": 10,
      "outputs": []
    },
    {
      "cell_type": "code",
      "source": [
        "## GPGO_multi_STP: Student's-t\n",
        "\n",
        "class GPGO_multi_STP(GPGO):\n",
        "\n",
        "    def __init__(self, surrogate, acquisition, f, parameter_dict, n_jobs=1):\n",
        "        self.GP = surrogate\n",
        "        self.A = acquisition\n",
        "        self.f = f\n",
        "        self.parameters = parameter_dict\n",
        "        self.n_jobs = n_jobs\n",
        "\n",
        "        self.parameter_key = list(parameter_dict.keys())\n",
        "        self.parameter_value = list(parameter_dict.values())\n",
        "        self.parameter_type = [p[0] for p in self.parameter_value]\n",
        "        self.parameter_range = [p[1] for p in self.parameter_value]\n",
        "\n",
        "        self.history = []\n",
        "        self.header =   'Evaluation \\t Proposed point \\t  Current eval. \\t  Best eval. \\t Min. ApproxAcqFunc '\n",
        "        self.template = '{:3}\\t {}\\t {:3}\\t {:3}\\t {:3}'\n",
        " \n",
        "    def acqfuncApprox(self, xnew):\n",
        "        new_mean, new_var = self.GP.predict(xnew, return_std=True)\n",
        "        new_std = np.sqrt(new_var + eps)\n",
        "        f = self.A.t_eval(self.tau, new_mean, new_std)\n",
        "\n",
        "        return -f\n",
        "   \n",
        "    def _optimizeAcq(self, method='L-BFGS-B'):\n",
        "        \n",
        "        start_points_dict = [self._sampleParam() for i in range(n_start)]\n",
        "        start_points_arr = np.array([list(s.values())\n",
        "                                     for s in start_points_dict])\n",
        "        x_best = np.empty((n_start, len(self.parameter_key)))\n",
        "        f_best = np.empty((n_start,))\n",
        "        opt = Parallel(n_jobs=self.n_jobs)(delayed(minimize)(self.acqfuncApprox,\n",
        "                                                                 x0=start_point,\n",
        "                                                                 method=method,\n",
        "                                                                 jac = False,\n",
        "                                                                 bounds=self.parameter_range) for start_point in\n",
        "                                               start_points_arr)\n",
        "        x_best = np.array([res.x for res in opt])\n",
        "        f_best = np.array([np.atleast_1d(res.fun)[0] for res in opt])\n",
        "        f_best_min = min(f_best)\n",
        "\n",
        "        self.x_best = x_best\n",
        "        self.f_best = f_best\n",
        "        self.f_best_min = f_best_min\n",
        "        self.best = x_best[np.argmin(f_best)]\n",
        "        self.start_points_arr = start_points_arr        \n",
        "        self.history.append(self.f_best_min)\n",
        "\n",
        "    def _printInit(self):\n",
        "        print(self.header)\n",
        "        for init_eval in range(self.init_evals):\n",
        "            print(self.template.format('init', self.GP.X[init_eval], inverse * self.GP.y[init_eval], inverse * self.tau, ''))\n",
        "      \n",
        "    def _printCurrent(self):\n",
        "        OKGREEN = '\\033[92m'\n",
        "        ENDC = '\\033[0m'\n",
        "        BOLD = '\\033[1m'\n",
        "        eval = str(len(self.GP.y) - self.init_evals)\n",
        "        proposed = str(self.best)\n",
        "        curr_eval = str(inverse * self.GP.y[-1])\n",
        "        curr_best = str(inverse * self.tau)\n",
        "        min_acqfunc = str(self.f_best_min)\n",
        "        if float(curr_eval) <= float(curr_best):\n",
        "            eval = BOLD + OKGREEN + eval + ENDC\n",
        "            proposed = BOLD + OKGREEN + proposed + ENDC\n",
        "            curr_eval = BOLD + OKGREEN + curr_eval + ENDC\n",
        "            curr_best = BOLD + OKGREEN + curr_best + ENDC\n",
        "            min_acqfunc = BOLD + OKGREEN + min_acqfunc + ENDC\n",
        "        print(self.template.format(eval, proposed, curr_eval, curr_best, min_acqfunc))\n",
        "        \n",
        "    def run(self, max_iter=10, init_evals=3, resume=False):\n",
        "        \n",
        "        if not resume:\n",
        "            self.init_evals = init_evals\n",
        "            self._firstRun(self.init_evals)\n",
        "            self._printInit()\n",
        "        for iteration in range(max_iter):\n",
        "            self._optimizeAcq()\n",
        "            self.updateGP()\n",
        "            self._printCurrent()\n"
      ],
      "metadata": {
        "id": "QaOjAKNoXynM"
      },
      "execution_count": 11,
      "outputs": []
    },
    {
      "cell_type": "code",
      "execution_count": 12,
      "metadata": {
        "scrolled": false,
        "colab": {
          "base_uri": "https://localhost:8080/"
        },
        "id": "Fio5AsW9JLkp",
        "outputId": "5ebfa256-f999-42e3-b0f1-0673ecf64b45"
      },
      "outputs": [
        {
          "output_type": "stream",
          "name": "stdout",
          "text": [
            "Evaluation \t Proposed point \t  Current eval. \t  Best eval. \t Min. ApproxAcqFunc \n",
            "init\t [-0.84969467  2.25612281]\t 20.33436270766351\t 19.908403246996286\t    \n",
            "init\t [-5.1188288  -2.02411446]\t 33.07414982069084\t 19.908403246996286\t    \n",
            "init\t [-3.61721968 -4.17445279]\t 53.347974723929894\t 19.908403246996286\t    \n",
            "init\t [-3.21269544 -1.58145816]\t 39.218472310354045\t 19.908403246996286\t    \n",
            "init\t [-1.05710106  0.39748336]\t 19.908403246996286\t 19.908403246996286\t    \n",
            "1  \t [ 4.04077223 -4.24914728]\t 44.655863836006326\t 19.908403246996286\t -0.7978845605763168\n",
            "2  \t [4.64028793 5.12      ]\t 66.81727560213392\t 19.908403246996286\t -0.7978845386271473\n",
            "3  \t [-5.12  5.12]\t 57.849427451571785\t 19.908403246996286\t -0.7978760222071729\n",
            "4  \t [5.12       0.33809514]\t 44.29585437783213\t 19.908403246996286\t -0.7975552609791186\n",
            "5  \t [ 0.22553114 -5.12      ]\t 37.44420393522627\t 19.908403246996286\t -0.787408603407545\n",
            "6  \t [0.75631098 5.12      ]\t 39.10029321304164\t 19.908403246996286\t -0.7679907916733563\n",
            "7  \t [ 1.73165739 -1.3903182 ]\t 33.79943369579087\t 19.908403246996286\t -0.7557855794710444\n",
            "8  \t [-5.12        1.53252439]\t 51.06526191677733\t 19.908403246996286\t -0.7499107875465545\n",
            "9  \t [2.34013661 2.1295938 ]\t 28.512868515557606\t 19.908403246996286\t -0.6673869590623505\n",
            "10 \t [-0.69320422 -2.54695222]\t 40.02881466768057\t 19.908403246996286\t -0.24345456644531438\n",
            "11 \t [-2.12389699  5.12      ]\t 36.31574923224122\t 19.908403246996286\t -0.49554123376278186\n",
            "12 \t [-2.92078529  2.70661158]\t 29.76253445333706\t 19.908403246996286\t -0.05346456004435374\n",
            "13 \t [ 1.87123039 -3.63032317]\t 36.6097838506953\t 19.908403246996286\t -0.0035716452928535383\n",
            "14 \t [ 5.12       -2.11637194]\t 35.95991709635346\t 19.908403246996286\t -0.11203779446455031\n",
            "15 \t [0.87623478 0.65026212]\t 19.92943409331444\t 19.908403246996286\t -0.004528408497661084\n",
            "16 \t [5.12       2.65908442]\t 51.402195010092036\t 19.908403246996286\t -0.048584849778229716\n",
            "17 \t [-2.87561171  0.5129826 ]\t 31.400849291301938\t 19.908403246996286\t -0.0005152828891330256\n",
            "18 \t [2.47998671 4.04392544]\t 42.803155092992824\t 19.908403246996286\t -0.00020414408356734994\n",
            "19 \t [-1.74997841 -5.12      ]\t 41.98849472966465\t 19.908403246996286\t -0.0009150206536448109\n",
            "20 \t [3.63714851 1.07184182]\t 31.890559735488843\t 19.908403246996286\t -3.860500757091968e-09\n"
          ]
        }
      ],
      "source": [
        "### Bayesian optimisation runs (x20): 'GP' Acquisition Function run number = 1\n",
        "\n",
        "np.random.seed(run_num_1)\n",
        "surrogate_gp_1 = GaussianProcess(cov_func, optimize=hyperOpt)\n",
        "\n",
        "gp_1 = GPGO_multi(surrogate_gp_1, Acquisition_new(util_gp), f_syn_polarity, param, n_jobs = -1) # define BayesOpt\n",
        "gp_1.run(max_iter = max_iter, init_evals = n_init) # run\n"
      ]
    },
    {
      "cell_type": "code",
      "execution_count": 13,
      "metadata": {
        "colab": {
          "base_uri": "https://localhost:8080/"
        },
        "id": "6CLxOiUrJLks",
        "outputId": "e6e03544-49b7-4c05-e559-2510a9a44415"
      },
      "outputs": [
        {
          "output_type": "stream",
          "name": "stdout",
          "text": [
            "Evaluation \t Proposed point \t  Current eval. \t  Best eval. \t Min. ApproxAcqFunc \n",
            "init\t [-0.6554122  -4.85451539]\t 43.490296251903594\t 18.964539418712707\t    \n",
            "init\t [ 0.50854377 -0.6622987 ]\t 35.91861667536101\t 18.964539418712707\t    \n",
            "init\t [-0.81543371 -1.73737143]\t 20.479562046739524\t 18.964539418712707\t    \n",
            "init\t [-3.02439799  1.2213347 ]\t 18.964539418712707\t 18.964539418712707\t    \n",
            "init\t [-2.05153614 -2.3876887 ]\t 28.041315668371354\t 18.964539418712707\t    \n",
            "1  \t [ 5.12 -5.12]\t 57.849427451571785\t 18.964539418712707\t -0.7978839545016416\n",
            "2  \t [4.77484753 5.12      ]\t 60.16900059908957\t 18.964539418712707\t -0.7978845607368477\n",
            "3  \t [-0.33018675  5.12      ]\t 43.86155308849719\t 18.964539418712707\t -0.7977883707022733\n",
            "4  \t [5.12       0.08038346]\t 30.179741015980827\t 18.964539418712707\t -0.7976642061783215\n",
            "5  \t [-5.12  5.12]\t 57.849427451571785\t 18.964539418712707\t -0.7975065501636394\n",
            "6  \t [-5.12 -5.12]\t 57.849427451571785\t 18.964539418712707\t -0.7960279228818826\n",
            "7  \t [2.21222073 2.42058813]\t 37.18246455608582\t 18.964539418712707\t -0.7482708004325688\n",
            "8  \t [-5.12       -1.23376939]\t 39.42886795442668\t 18.964539418712707\t -0.7363961611211902\n",
            "9  \t [ 2.6153069  -2.99622333]\t 33.30834434439398\t 18.964539418712707\t -0.6630285218961602\n",
            "10 \t [-0.7260102   2.16940169]\t 21.88457104560454\t 18.964539418712707\t -0.37215941097615857\n",
            "11 \t [-5.12        2.08416159]\t 34.63432666225632\t 18.964539418712707\t -0.373032211601077\n",
            "12 \t [5.12       2.45307321]\t 54.51074005678497\t 18.964539418712707\t -0.1692936199234047\n",
            "13 \t [ 5.12       -2.31182535]\t 48.05688729365194\t 18.964539418712707\t -0.17521337287108713\n",
            "14 \t [-2.68770516  3.85014913]\t 39.976898868195185\t 18.964539418712707\t -0.1535673190257908\n",
            "15 \t [ 2.83678976 -0.1892908 ]\t 19.173683091298535\t 18.964539418712707\t -0.05605409953020429\n",
            "16 \t [ 2.01549147 -5.12      ]\t 33.03425349892663\t 18.964539418712707\t -0.13279889095471875\n",
            "17 \t [2.14374695 5.12      ]\t 37.32927456597031\t 18.964539418712707\t -0.1085072062190921\n",
            "18 \t [-2.8049774 -5.12     ]\t 43.406568699796026\t 18.964539418712707\t -0.011705698663175751\n",
            "19 \t [-2.24038484 -0.19774869]\t 21.23027066155339\t 18.964539418712707\t -0.005573066888215919\n",
            "\u001b[1m\u001b[92m20\u001b[0m\t \u001b[1m\u001b[92m[0.69558842 0.97492405]\u001b[0m\t \u001b[1m\u001b[92m14.910754531299352\u001b[0m\t \u001b[1m\u001b[92m14.910754531299352\u001b[0m\t \u001b[1m\u001b[92m-2.3687091942265127e-06\u001b[0m\n"
          ]
        }
      ],
      "source": [
        "### Bayesian optimisation runs (x20): 'GP' Acquisition Function run number = 2\n",
        "\n",
        "np.random.seed(run_num_2)\n",
        "surrogate_gp_2 = GaussianProcess(cov_func, optimize=hyperOpt)\n",
        "\n",
        "gp_2 = GPGO_multi(surrogate_gp_2, Acquisition_new(util_gp), f_syn_polarity, param, n_jobs = -1) # define BayesOpt\n",
        "gp_2.run(max_iter = max_iter, init_evals = n_init) # run\n"
      ]
    },
    {
      "cell_type": "code",
      "execution_count": 14,
      "metadata": {
        "id": "OrboSzBtJLku",
        "colab": {
          "base_uri": "https://localhost:8080/"
        },
        "outputId": "d88875b9-f4bb-4756-d686-3d045aa6d62f"
      },
      "outputs": [
        {
          "output_type": "stream",
          "name": "stdout",
          "text": [
            "Evaluation \t Proposed point \t  Current eval. \t  Best eval. \t Min. ApproxAcqFunc \n",
            "init\t [0.52017052 2.1314337 ]\t 27.953858411008774\t 10.607662635789808\t    \n",
            "init\t [-2.14113547  0.11087468]\t 10.607662635789808\t 10.607662635789808\t    \n",
            "init\t [4.02377681 4.05804123]\t 33.42749829480097\t 10.607662635789808\t    \n",
            "init\t [-3.83400642 -2.99783293]\t 28.650953928965198\t 10.607662635789808\t    \n",
            "init\t [-4.59297584 -0.6061072 ]\t 57.6631355589384\t 10.607662635789808\t    \n",
            "1  \t [ 5.12 -5.12]\t 57.849427451571785\t 10.607662635789808\t -0.7978845607896432\n",
            "2  \t [-4.58738203  5.09579813]\t 67.29899005638403\t 10.607662635789808\t -0.7978826589651652\n",
            "3  \t [ 5.12       -0.40159085]\t 47.23450659297393\t 10.607662635789808\t -0.7974457543317222\n",
            "4  \t [ 0.2907194 -5.12     ]\t 41.53988614720974\t 10.607662635789808\t -0.7976139524615257\n",
            "5  \t [ 1.34928012 -1.5109385 ]\t 39.92108250169747\t 10.607662635789808\t -0.7760871870708544\n",
            "6  \t [-0.77703748  5.12      ]\t 37.83784551940017\t 10.607662635789808\t -0.7522758946644962\n",
            "7  \t [-2.80934745  2.45739276]\t 39.931913223925605\t 10.607662635789808\t -0.5228717447248349\n",
            "8  \t [-5.12 -5.12]\t 57.849427451571785\t 10.607662635789808\t -0.5212266129207491\n",
            "9  \t [-1.29224395 -2.45058375]\t 39.82030003733976\t 10.607662635789808\t -0.35457749037870234\n",
            "10 \t [2.99536095 1.38869485]\t 28.557510479965355\t 10.607662635789808\t -0.299098940790414\n",
            "11 \t [ 2.8558632  -3.62591985]\t 42.161496288067845\t 10.607662635789808\t -0.2254869626938335\n",
            "12 \t [-0.59187093  0.19464449]\t 25.359519229864077\t 10.607662635789808\t -0.02635387294745234\n",
            "13 \t [-2.30496996 -5.12      ]\t 47.6232033290241\t 10.607662635789808\t -0.16718830645478244\n",
            "14 \t [1.80840567 5.12      ]\t 38.607122660903585\t 10.607662635789808\t -0.2508590017131323\n",
            "15 \t [5.12       2.19522816]\t 40.36985299525068\t 10.607662635789808\t -0.03628688921668713\n",
            "16 \t [-5.12        2.15339475]\t 37.85785641204728\t 10.607662635789808\t -0.13161916892566378\n",
            "17 \t [-0.87023322  3.35305435]\t 31.17615311042552\t 10.607662635789808\t -4.777213297984728e-06\n",
            "18 \t [ 5.12       -2.64157221]\t 52.20043243926795\t 10.607662635789808\t -0.01310807871415788\n",
            "19 \t [5.12 5.12]\t 57.849427451571785\t 10.607662635789808\t -0.003092133416395953\n",
            "20 \t [2.45194308 2.74121001]\t 43.625850463320596\t 10.607662635789808\t -1.3224770540561655e-06\n"
          ]
        }
      ],
      "source": [
        "### Bayesian optimisation runs (x20): 'GP' Acquisition Function run number = 3\n",
        "\n",
        "np.random.seed(run_num_3)\n",
        "surrogate_gp_3 = GaussianProcess(cov_func, optimize=hyperOpt)\n",
        "\n",
        "gp_3 = GPGO_multi(surrogate_gp_3, Acquisition_new(util_gp), f_syn_polarity, param, n_jobs = -1) # define BayesOpt\n",
        "gp_3.run(max_iter = max_iter, init_evals = n_init) # run\n"
      ]
    },
    {
      "cell_type": "code",
      "execution_count": 15,
      "metadata": {
        "id": "wmlwMmKcJLkv",
        "colab": {
          "base_uri": "https://localhost:8080/"
        },
        "outputId": "2c89f442-5bee-4ca0-9526-1d882d3886c4"
      },
      "outputs": [
        {
          "output_type": "stream",
          "name": "stdout",
          "text": [
            "Evaluation \t Proposed point \t  Current eval. \t  Best eval. \t Min. ApproxAcqFunc \n",
            "init\t [4.78238555 0.48365823]\t 51.03163809010808\t 14.323038259018315\t    \n",
            "init\t [4.84028785 2.19971578]\t 39.78645699016559\t 14.323038259018315\t    \n",
            "init\t [ 2.02474316 -2.90724357]\t 14.323038259018315\t 14.323038259018315\t    \n",
            "init\t [ 4.87705042 -5.05620219]\t 52.80627247106233\t 14.323038259018315\t    \n",
            "init\t [-2.52946061 -0.66773471]\t 41.61497868486559\t 14.323038259018315\t    \n",
            "1  \t [-5.12        4.34429436]\t 63.38171584115068\t 14.323038259018315\t -0.7978832869820007\n",
            "2  \t [0.34209231 5.12      ]\t 44.51054090468416\t 14.323038259018315\t -0.7978757560500602\n",
            "3  \t [-5.12 -5.12]\t 57.849427451571785\t 14.323038259018315\t -0.7978665514855415\n",
            "4  \t [-0.95956488 -5.12      ]\t 30.166482141127112\t 14.323038259018315\t -0.7916353717853625\n",
            "\u001b[1m\u001b[92m5\u001b[0m\t \u001b[1m\u001b[92m[0.85281389 1.15155678]\u001b[0m\t \u001b[1m\u001b[92m10.234974204732818\u001b[0m\t \u001b[1m\u001b[92m10.234974204732818\u001b[0m\t \u001b[1m\u001b[92m-0.7813544800100467\u001b[0m\n",
            "6  \t [3.88842839 5.12      ]\t 46.40277499881027\t 10.234974204732818\t -0.7039469225652909\n",
            "7  \t [-2.02154068  2.66880328]\t 26.183879139981066\t 10.234974204732818\t -0.6893248355509016\n",
            "8  \t [-5.12        0.90285675]\t 31.545498550027627\t 10.234974204732818\t -0.6486614515255519\n",
            "9  \t [ 0.2993223  -1.29786678]\t 27.78611943402844\t 10.234974204732818\t -0.403453613908411\n",
            "10 \t [-5.12       -2.09317776]\t 34.97148914149375\t 10.234974204732818\t -0.4846174907681463\n",
            "11 \t [ 5.12       -2.25322082]\t 44.204074179203694\t 10.234974204732818\t -0.3725522578582011\n",
            "12 \t [ 1.82470334 -5.12      ]\t 37.730966919083656\t 10.234974204732818\t -0.3569613810672978\n",
            "13 \t [2.0278342 2.7465811]\t 22.023157336754547\t 10.234974204732818\t -0.24645757584076572\n",
            "14 \t [-2.60506788 -3.36527579]\t 52.63650200911752\t 10.234974204732818\t -0.17116948504296065\n",
            "15 \t [ 2.4488514  -0.46622645]\t 45.47794455362991\t 10.234974204732818\t -0.08079836536078519\n",
            "16 \t [-0.49071365  1.1470468 ]\t 25.512549671750854\t 10.234974204732818\t -0.02079371913426148\n",
            "17 \t [ 0.10582843 -3.24843064]\t 22.595357022460867\t 10.234974204732818\t -0.0017935754316339494\n",
            "18 \t [-2.40853792  5.12      ]\t 53.11946865939025\t 10.234974204732818\t -0.22586829102610084\n",
            "19 \t [-3.63944642  2.08600745]\t 35.42297326851445\t 10.234974204732818\t -0.0002633707758614729\n",
            "20 \t [0.08755013 2.93670421]\t 10.887595836730856\t 10.234974204732818\t -0.00015412335378419285\n"
          ]
        }
      ],
      "source": [
        "### Bayesian optimisation runs (x20): 'GP' Acquisition Function run number = 4\n",
        "\n",
        "np.random.seed(run_num_4)\n",
        "surrogate_gp_4 = GaussianProcess(cov_func, optimize=hyperOpt)\n",
        "\n",
        "gp_4 = GPGO_multi(surrogate_gp_4, Acquisition_new(util_gp), f_syn_polarity, param, n_jobs = -1) # define BayesOpt\n",
        "gp_4.run(max_iter = max_iter, init_evals = n_init) # run\n"
      ]
    },
    {
      "cell_type": "code",
      "execution_count": 16,
      "metadata": {
        "id": "ntlcfbyWJLkw",
        "colab": {
          "base_uri": "https://localhost:8080/"
        },
        "outputId": "083428c0-d40a-40e7-8617-86e31ca42cd7"
      },
      "outputs": [
        {
          "output_type": "stream",
          "name": "stdout",
          "text": [
            "Evaluation \t Proposed point \t  Current eval. \t  Best eval. \t Min. ApproxAcqFunc \n",
            "init\t [-2.84678993  3.79629882]\t 33.93442008827236\t 7.8108627039749745\t    \n",
            "init\t [-3.00319585  4.2865757 ]\t 39.673876075575784\t 7.8108627039749745\t    \n",
            "init\t [-0.11866943  1.14425716]\t 7.8108627039749745\t 7.8108627039749745\t    \n",
            "init\t [2.72289645 0.1886002 ]\t 25.38160395721669\t 7.8108627039749745\t    \n",
            "init\t [-2.08076286 -3.19773462]\t 22.589982116319675\t 7.8108627039749745\t    \n",
            "1  \t [ 5.12       -4.82933075]\t 57.46650377631515\t 7.8108627039749745\t -0.7978833409847951\n",
            "2  \t [5.12 5.12]\t 57.849427451571785\t 7.8108627039749745\t -0.7978826840025247\n",
            "3  \t [-5.12       -0.04624548]\t 29.346042003871005\t 7.8108627039749745\t -0.7971838244179176\n",
            "4  \t [1.0036762 5.12     ]\t 29.934747175161554\t 7.8108627039749745\t -0.7914341618687212\n",
            "5  \t [-5.12 -5.12]\t 57.849427451571785\t 7.8108627039749745\t -0.7891127647393021\n",
            "6  \t [ 1.10697515 -5.12      ]\t 32.32522730674058\t 7.8108627039749745\t -0.7880161674108926\n",
            "7  \t [ 5.12       -1.43835569]\t 50.252817360621634\t 7.8108627039749745\t -0.6647124414530482\n",
            "8  \t [ 0.60094424 -1.87987199]\t 24.666030243606393\t 7.8108627039749745\t -0.6178024182415259\n",
            "9  \t [5.12       1.92583673]\t 33.699751033349116\t 7.8108627039749745\t -0.6060961854103377\n",
            "10 \t [-2.1975491   0.01748259]\t 11.653542584006166\t 7.8108627039749745\t -0.553749017675133\n",
            "11 \t [2.18577359 2.78413312]\t 26.473935212898365\t 7.8108627039749745\t -0.36534500305117507\n",
            "12 \t [-5.12       2.6167186]\t 53.20119431156081\t 7.8108627039749745\t -0.33293431148137104\n",
            "13 \t [-5.12      -2.4125063]\t 53.2715088667668\t 7.8108627039749745\t -0.22106980843333796\n",
            "14 \t [ 2.79554147 -3.03538828]\t 24.45225204666886\t 7.8108627039749745\t -0.17928063826114143\n",
            "15 \t [-1.6821378 -5.12     ]\t 45.890175585476825\t 7.8108627039749745\t -0.16144781575560413\n",
            "16 \t [-0.55252815  2.80290462]\t 34.35862603489174\t 7.8108627039749745\t -0.14555648551949524\n",
            "\u001b[1m\u001b[92m17\u001b[0m\t \u001b[1m\u001b[92m[-0.13846245  0.11770776]\u001b[0m\t \u001b[1m\u001b[92m6.197129311254276\u001b[0m\t \u001b[1m\u001b[92m6.197129311254276\u001b[0m\t \u001b[1m\u001b[92m-0.025001610812511607\u001b[0m\n",
            "18 \t [-2.74272899  1.33637432]\t 34.92970032847358\t 6.197129311254276\t -0.011679561894970242\n",
            "19 \t [-1.85558755 -1.21696582]\t 16.705284518355285\t 6.197129311254276\t -0.024206698743605343\n",
            "20 \t [0.60700318 0.51647148]\t 38.405472820141725\t 6.197129311254276\t -0.003777239245245631\n"
          ]
        }
      ],
      "source": [
        "### Bayesian optimisation runs (x20): 'GP' Acquisition Function run number = 5\n",
        "\n",
        "np.random.seed(run_num_5)\n",
        "surrogate_gp_5 = GaussianProcess(cov_func, optimize=hyperOpt)\n",
        "\n",
        "gp_5 = GPGO_multi(surrogate_gp_5, Acquisition_new(util_gp), f_syn_polarity, param, n_jobs = -1) # define BayesOpt\n",
        "gp_5.run(max_iter = max_iter, init_evals = n_init) # run\n"
      ]
    },
    {
      "cell_type": "code",
      "execution_count": 17,
      "metadata": {
        "id": "HHrK2qnsJLkx",
        "colab": {
          "base_uri": "https://localhost:8080/"
        },
        "outputId": "863ed872-1863-4818-ab89-cfe7e4d6f7c4"
      },
      "outputs": [
        {
          "output_type": "stream",
          "name": "stdout",
          "text": [
            "Evaluation \t Proposed point \t  Current eval. \t  Best eval. \t Min. ApproxAcqFunc \n",
            "init\t [ 4.02288795 -1.72052679]\t 31.08835710146886\t 17.28954482757088\t    \n",
            "init\t [ 3.28938622 -4.69302655]\t 58.797867722203385\t 17.28954482757088\t    \n",
            "init\t [-4.0175956   0.97333314]\t 17.28954482757088\t 17.28954482757088\t    \n",
            "init\t [ 0.30532979 -0.83141193]\t 19.296253155889353\t 17.28954482757088\t    \n",
            "init\t [-1.68542362  1.25459899]\t 28.650630936276173\t 17.28954482757088\t    \n",
            "1  \t [-3.50674745 -4.82185888]\t 61.17543432012923\t 17.28954482757088\t -0.79788320213269\n",
            "2  \t [5.12 5.12]\t 57.849427451571785\t 17.28954482757088\t -0.7978845604970858\n",
            "3  \t [-5.12  5.12]\t 57.849427451571785\t 17.28954482757088\t -0.7974614536659732\n",
            "4  \t [0.39543742 5.12      ]\t 46.999449818344814\t 17.28954482757088\t -0.7972181321183911\n",
            "5  \t [2.84230716 1.91250836]\t 17.729625229985217\t 17.28954482757088\t -0.7784530988606893\n",
            "6  \t [-5.12       -1.80318523]\t 38.89631343981903\t 17.28954482757088\t -0.7099866693153976\n",
            "7  \t [-0.1179019  -4.27594303]\t 32.54113683841114\t 17.28954482757088\t -0.7070859242349518\n",
            "8  \t [5.12      1.1216647]\t 32.965157639608\t 17.28954482757088\t -0.5173979993694733\n",
            "\u001b[1m\u001b[92m9\u001b[0m\t \u001b[1m\u001b[92m[-2.15243124 -1.84298669]\u001b[0m\t \u001b[1m\u001b[92m16.76021228805582\u001b[0m\t \u001b[1m\u001b[92m16.76021228805582\u001b[0m\t \u001b[1m\u001b[92m-0.42867899984486435\u001b[0m\n",
            "10 \t [-2.34769572  4.0394312 ]\t 37.89413158687071\t 16.76021228805582\t -0.4270931965048962\n",
            "11 \t [-5.12        2.43494918]\t 54.02996896401434\t 16.76021228805582\t -0.10788358876279741\n",
            "12 \t [0.64354665 2.21400968]\t 29.27484457256303\t 16.76021228805582\t -0.20847393339641762\n",
            "13 \t [ 1.64081304 -2.38180102]\t 42.06672117988888\t 16.76021228805582\t -0.05995564982665949\n",
            "14 \t [2.7469084  4.14294071]\t 38.67291025566695\t 16.76021228805582\t -0.06707103390722594\n",
            "15 \t [-3.14404666 -0.447959  ]\t 33.37956175186496\t 16.76021228805582\t -0.0014912053217432785\n",
            "16 \t [ 5.12       -3.46514505]\t 60.69309561632285\t 16.76021228805582\t -0.009997127643571559\n",
            "17 \t [2.39403764 0.1259606 ]\t 26.583366399983294\t 16.76021228805582\t -0.023296223942102623\n",
            "18 \t [-1.17986672 -2.58045442]\t 32.53473795628815\t 16.76021228805582\t -0.00022406039221103697\n",
            "19 \t [ 1.64771181 -5.04664027]\t 44.60341226542793\t 16.76021228805582\t -1.6369526958893556e-07\n",
            "20 \t [-3.8240752  -2.91744674]\t 29.96233531213317\t 16.76021228805582\t -1.870033261783257e-08\n"
          ]
        }
      ],
      "source": [
        "### Bayesian optimisation runs (x20): 'GP' Acquisition Function run number = 6\n",
        "\n",
        "np.random.seed(run_num_6)\n",
        "surrogate_gp_6 = GaussianProcess(cov_func, optimize=hyperOpt)\n",
        "\n",
        "gp_6 = GPGO_multi(surrogate_gp_6, Acquisition_new(util_gp), f_syn_polarity, param, n_jobs = -1) # define BayesOpt\n",
        "gp_6.run(max_iter = max_iter, init_evals = n_init) # run\n"
      ]
    },
    {
      "cell_type": "code",
      "execution_count": 18,
      "metadata": {
        "id": "rht2Y9u8JLky",
        "colab": {
          "base_uri": "https://localhost:8080/"
        },
        "outputId": "115bfdc6-b5c6-4749-c957-74958344ea6e"
      },
      "outputs": [
        {
          "output_type": "stream",
          "name": "stdout",
          "text": [
            "Evaluation \t Proposed point \t  Current eval. \t  Best eval. \t Min. ApproxAcqFunc \n",
            "init\t [-4.33860312  2.86636843]\t 45.646133072936244\t 22.52235437888213\t    \n",
            "init\t [-0.63068947  2.28828342]\t 34.83012662845338\t 22.52235437888213\t    \n",
            "init\t [4.8946126  0.39419771]\t 44.09657005662876\t 22.52235437888213\t    \n",
            "init\t [ 0.01147355 -4.38219639]\t 36.613209822404315\t 22.52235437888213\t    \n",
            "init\t [-2.37118484e+00 -1.20319155e-03]\t 22.52235437888213\t 22.52235437888213\t    \n",
            "1  \t [-5.12 -5.12]\t 57.849427451571785\t 22.52235437888213\t -0.797870952716848\n",
            "2  \t [ 5.12 -5.12]\t 57.849427451571785\t 22.52235437888213\t -0.7978668645922817\n",
            "3  \t [3.59148976 5.12      ]\t 60.21626667364799\t 22.52235437888213\t -0.7977967392570915\n",
            "4  \t [-4.02558214 -1.33646422]\t 33.289738493146906\t 22.52235437888213\t -0.7978845607896439\n",
            "\u001b[1m\u001b[92m5\u001b[0m\t \u001b[1m\u001b[92m[ 1.40596233 -0.96124902]\u001b[0m\t \u001b[1m\u001b[92m21.500320538665335\u001b[0m\t \u001b[1m\u001b[92m21.500320538665335\u001b[0m\t \u001b[1m\u001b[92m-0.7700991234650246\u001b[0m\n",
            "6  \t [-1.80774683  5.12      ]\t 38.643410349277715\t 21.500320538665335\t -0.687967912205496\n",
            "7  \t [2.33744294 2.13046489]\t 28.40030007035302\t 21.500320538665335\t -0.5299803120259609\n",
            "8  \t [ 3.57934988 -2.53929696]\t 57.739169527911216\t 21.500320538665335\t -0.4828568896388673\n",
            "9  \t [-2.52339262 -3.63387354]\t 56.13076918084851\t 21.500320538665335\t -0.3179250106439747\n",
            "10 \t [-5.12  5.12]\t 57.849427451571785\t 21.500320538665335\t -0.2845671407482652\n",
            "11 \t [0.80579632 5.12      ]\t 36.139608718552296\t 21.500320538665335\t -0.2830869046088469\n",
            "12 \t [ 2.3217479 -5.12     ]\t 48.67213256447926\t 21.500320538665335\t -0.169300842492157\n",
            "13 \t [5.12       2.99416019]\t 37.896439951359156\t 21.500320538665335\t -0.18355070131905127\n",
            "14 \t [-0.64386998 -1.53213339]\t 38.743891930510756\t 21.500320538665335\t -0.0897836529151877\n",
            "15 \t [ 3.25667925 -0.42133209]\t 40.006108122381704\t 21.500320538665335\t -2.2118840673279532e-06\n",
            "16 \t [-5.12        0.58600139]\t 47.843332837368514\t 21.500320538665335\t -0.07664088830238192\n",
            "\u001b[1m\u001b[92m17\u001b[0m\t \u001b[1m\u001b[92m[-2.19405477  0.94961621]\u001b[0m\t \u001b[1m\u001b[92m12.769362746067559\u001b[0m\t \u001b[1m\u001b[92m12.769362746067559\u001b[0m\t \u001b[1m\u001b[92m-3.1264335645574896e-07\u001b[0m\n",
            "18 \t [ 1.19347349 -2.25353536]\t 23.24745028953262\t 12.769362746067559\t -6.969938304730884e-07\n",
            "19 \t [0.6351345  0.61051914]\t 35.06720655226267\t 12.769362746067559\t -0.0013862076619564779\n",
            "20 \t [-3.55098647  4.45289609]\t 71.4942359968112\t 12.769362746067559\t -3.550872491302102e-14\n"
          ]
        }
      ],
      "source": [
        "### Bayesian optimisation runs (x20): 'GP' Acquisition Function run number = 7\n",
        "\n",
        "np.random.seed(run_num_7)\n",
        "surrogate_gp_7 = GaussianProcess(cov_func, optimize=hyperOpt)\n",
        "\n",
        "gp_7 = GPGO_multi(surrogate_gp_7, Acquisition_new(util_gp), f_syn_polarity, param, n_jobs = -1) # define BayesOpt\n",
        "gp_7.run(max_iter = max_iter, init_evals = n_init) # run\n"
      ]
    },
    {
      "cell_type": "code",
      "execution_count": 19,
      "metadata": {
        "id": "vHGwZn0qJLkz",
        "colab": {
          "base_uri": "https://localhost:8080/"
        },
        "outputId": "731db833-370e-4dde-ba21-be293345061f"
      },
      "outputs": [
        {
          "output_type": "stream",
          "name": "stdout",
          "text": [
            "Evaluation \t Proposed point \t  Current eval. \t  Best eval. \t Min. ApproxAcqFunc \n",
            "init\t [3.82391708 4.79785639]\t 50.20079446939181\t 13.871821018360485\t    \n",
            "init\t [3.78055209 0.31596228]\t 36.5114251593508\t 13.871821018360485\t    \n",
            "init\t [-2.73686192 -5.00327624]\t 43.34985765011677\t 13.871821018360485\t    \n",
            "init\t [-0.7119993  -0.99992207]\t 13.871821018360485\t 13.871821018360485\t    \n",
            "init\t [ 0.23218863 -0.22126801]\t 17.190590355445654\t 13.871821018360485\t    \n",
            "1  \t [-3.08031965  4.1331065 ]\t 31.115674086949312\t 13.871821018360485\t -0.7978830989272913\n",
            "2  \t [ 5.12 -5.12]\t 57.849427451571785\t 13.871821018360485\t -0.7978831350335036\n",
            "3  \t [-5.12      -0.3998489]\t 47.16917868555392\t 13.871821018360485\t -0.7977020056075353\n",
            "4  \t [ 1.18398229 -4.40957201]\t 45.244896246982556\t 13.871821018360485\t -0.7872465519327715\n",
            "5  \t [0.42099732 3.28839966]\t 42.173275721031196\t 13.871821018360485\t -0.7659955685442256\n",
            "6  \t [-2.38775987  1.21888673]\t 32.85925876138888\t 13.871821018360485\t -0.5457710428989525\n",
            "7  \t [ 5.12       -2.11274932]\t 35.79454689454444\t 13.871821018360485\t -0.4944645791538275\n",
            "8  \t [-5.12       -3.49176223]\t 61.10372502825977\t 13.871821018360485\t -0.5328270278087521\n",
            "9  \t [-5.12        2.62408293]\t 52.92221940869606\t 13.871821018360485\t -0.3941894531254487\n",
            "10 \t [5.12       2.45000556]\t 54.43791419917598\t 13.871821018360485\t -0.2749531108925806\n",
            "11 \t [-2.40451381 -2.09521868]\t 30.16214946421189\t 13.871821018360485\t -0.26384101863754084\n",
            "12 \t [ 2.13222448 -1.86139632]\t 14.826664653139456\t 13.871821018360485\t -0.2512140187061463\n",
            "13 \t [-5.12  5.12]\t 57.849427451571785\t 13.871821018360485\t -0.1239217972827914\n",
            "14 \t [1.72916349 1.31526915]\t 30.01239265332765\t 13.871821018360485\t -0.03574766066010801\n",
            "15 \t [ 3.24236152 -3.3819446 ]\t 48.843481744425446\t 13.871821018360485\t -0.002904983565785075\n",
            "16 \t [-0.29471744 -2.72364508]\t 31.926329831335735\t 13.871821018360485\t -0.00864785983776626\n",
            "17 \t [-0.74487209  0.60054414]\t 29.307654621964044\t 13.871821018360485\t -5.612302598484992e-06\n",
            "18 \t [0.68465518 4.4767246 ]\t 54.39442390069189\t 13.871821018360485\t -4.158275913368698e-08\n",
            "19 \t [ 1.55372531 -0.95891274]\t 23.100594916695904\t 13.871821018360485\t -6.358433353206481e-05\n",
            "20 \t [-2.29349869  3.07090807]\t 28.365985948307426\t 13.871821018360485\t -1.627516976816455e-07\n"
          ]
        }
      ],
      "source": [
        "### Bayesian optimisation runs (x20): 'GP' Acquisition Function run number = 8\n",
        "\n",
        "np.random.seed(run_num_8)\n",
        "surrogate_gp_8 = GaussianProcess(cov_func, optimize=hyperOpt)\n",
        "\n",
        "gp_8 = GPGO_multi(surrogate_gp_8, Acquisition_new(util_gp), f_syn_polarity, param, n_jobs = -1) # define BayesOpt\n",
        "gp_8.run(max_iter = max_iter, init_evals = n_init) # run\n"
      ]
    },
    {
      "cell_type": "code",
      "execution_count": 20,
      "metadata": {
        "id": "YC6sxKgkJLkz",
        "colab": {
          "base_uri": "https://localhost:8080/"
        },
        "outputId": "0a349265-7b20-43be-ce13-2092649ec3d4"
      },
      "outputs": [
        {
          "output_type": "stream",
          "name": "stdout",
          "text": [
            "Evaluation \t Proposed point \t  Current eval. \t  Best eval. \t Min. ApproxAcqFunc \n",
            "init\t [-5.01376866  0.01919582]\t 25.248289026162446\t 24.454800313488693\t    \n",
            "init\t [-0.04328148 -3.74958562]\t 24.454800313488693\t 24.454800313488693\t    \n",
            "init\t [-3.66478248 -2.88195916]\t 39.46509426509438\t 24.454800313488693\t    \n",
            "init\t [-0.83447623 -2.57944404]\t 31.06766397812992\t 24.454800313488693\t    \n",
            "init\t [-4.25922917 -1.58209393]\t 49.922543556206975\t 24.454800313488693\t    \n",
            "1  \t [3.69491889 4.82146316]\t 55.95031066333101\t 24.454800313488693\t -0.7978845607896435\n",
            "2  \t [-2.1984441   5.08607262]\t 38.945376636378526\t 24.454800313488693\t -0.7978839100842573\n",
            "3  \t [ 5.10449854 -0.6835496 ]\t 42.65727260376921\t 24.454800313488693\t -0.7978830981318622\n",
            "4  \t [ 4.49589695 -5.12      ]\t 69.13448023543316\t 24.454800313488693\t -0.7973491299570542\n",
            "5  \t [0.62500973 1.48418216]\t 39.614721622579665\t 24.454800313488693\t -0.7964725025894012\n",
            "6  \t [-5.12       3.4091093]\t 58.95990012960344\t 24.454800313488693\t -0.7489096289798648\n",
            "7  \t [ 2.19624707 -1.69822871]\t 27.589752142959853\t 24.454800313488693\t -0.6058243544698287\n",
            "8  \t [-2.38098455  1.43088425]\t 44.12019749476897\t 24.454800313488693\t -0.573851488276779\n",
            "9  \t [0.68711247 5.12      ]\t 43.24615591483223\t 24.454800313488693\t -0.5263442393503717\n",
            "10 \t [3.73995121 1.83500595]\t 32.894710629545905\t 24.454800313488693\t -0.45157679409979706\n",
            "11 \t [-5.12 -5.12]\t 57.849427451571785\t 24.454800313488693\t -0.5824613021023515\n",
            "12 \t [-0.76221075 -0.52620426]\t 29.956148734647616\t 24.454800313488693\t -0.025739985529375953\n",
            "13 \t [-0.82736874  3.25099685]\t 26.64414550170583\t 24.454800313488693\t -0.002737712321446782\n",
            "14 \t [ 1.62968067 -5.12      ]\t 48.44065627772842\t 24.454800313488693\t -0.24630273082497378\n",
            "15 \t [ 5.12       -2.82669898]\t 42.28018132533583\t 24.454800313488693\t -0.011605925022149341\n",
            "16 \t [2.48013958 0.15060675]\t 30.24904974815361\t 24.454800313488693\t -0.0007085125863652711\n",
            "17 \t [-2.34863671 -3.58784536]\t 52.71211149756779\t 24.454800313488693\t -1.5171987669147647e-06\n",
            "\u001b[1m\u001b[92m18\u001b[0m\t \u001b[1m\u001b[92m[1.93550481 3.15896696]\u001b[0m\t \u001b[1m\u001b[92m19.122196028831404\u001b[0m\t \u001b[1m\u001b[92m19.122196028831404\u001b[0m\t \u001b[1m\u001b[92m-0.00034095873021733423\u001b[0m\n",
            "19 \t [ 2.25636217 -3.10193573]\t 27.09473238514955\t 19.122196028831404\t -3.4656903101991886e-06\n",
            "\u001b[1m\u001b[92m20\u001b[0m\t \u001b[1m\u001b[92m[ 0.91410357 -0.70379965]\u001b[0m\t \u001b[1m\u001b[92m15.61456315105384\u001b[0m\t \u001b[1m\u001b[92m15.61456315105384\u001b[0m\t \u001b[1m\u001b[92m-4.689247753138252e-09\u001b[0m\n"
          ]
        }
      ],
      "source": [
        "### Bayesian optimisation runs (x20): 'GP' Acquisition Function run number = 9\n",
        "\n",
        "np.random.seed(run_num_9)\n",
        "surrogate_gp_9 = GaussianProcess(cov_func, optimize=hyperOpt)\n",
        "\n",
        "gp_9 = GPGO_multi(surrogate_gp_9, Acquisition_new(util_gp), f_syn_polarity, param, n_jobs = -1) # define BayesOpt\n",
        "gp_9.run(max_iter = max_iter, init_evals = n_init) # run\n"
      ]
    },
    {
      "cell_type": "code",
      "execution_count": 21,
      "metadata": {
        "id": "P-0wfCEIJLk0",
        "colab": {
          "base_uri": "https://localhost:8080/"
        },
        "outputId": "c1194bf6-17ef-43fe-9469-817349af5fab"
      },
      "outputs": [
        {
          "output_type": "stream",
          "name": "stdout",
          "text": [
            "Evaluation \t Proposed point \t  Current eval. \t  Best eval. \t Min. ApproxAcqFunc \n",
            "init\t [ 2.77832339 -4.90750004]\t 41.674330194390116\t 13.839458310244165\t    \n",
            "init\t [1.36855793 2.54775176]\t 44.69639719065837\t 13.839458310244165\t    \n",
            "init\t [-0.01528819 -2.81808235]\t 13.839458310244165\t 13.839458310244165\t    \n",
            "init\t [-3.09183626  2.66783449]\t 33.23221510904937\t 13.839458310244165\t    \n",
            "init\t [-3.38830503 -4.2154003 ]\t 54.73014366983691\t 13.839458310244165\t    \n",
            "1  \t [ 5.12       -0.56860951]\t 48.333154227419236\t 13.839458310244165\t -0.7977527899905499\n",
            "2  \t [5.12 5.12]\t 57.849427451571785\t 13.839458310244165\t -0.7975241622711899\n",
            "3  \t [-5.12       -0.60617891]\t 47.148100531475194\t 13.839458310244165\t -0.7883923765029025\n",
            "4  \t [-5.12  5.12]\t 57.849427451571785\t 13.839458310244165\t -0.7464575634575921\n",
            "5  \t [-0.83793555  5.12      ]\t 34.378549826358224\t 13.839458310244165\t -0.7302606186127267\n",
            "\u001b[1m\u001b[92m6\u001b[0m\t \u001b[1m\u001b[92m[-1.23133442 -0.10555893]\u001b[0m\t \u001b[1m\u001b[92m12.477244167931238\u001b[0m\t \u001b[1m\u001b[92m12.477244167931238\u001b[0m\t \u001b[1m\u001b[92m-0.7114547162651806\u001b[0m\n",
            "7  \t [ 1.89650541 -0.79268067]\t 13.616228014841013\t 12.477244167931238\t -0.6201521812117078\n",
            "8  \t [-0.38443071 -5.12      ]\t 46.54990847918148\t 12.477244167931238\t -0.4660493176563383\n",
            "9  \t [ 5.12       -3.59890051]\t 60.007381154613675\t 12.477244167931238\t -0.45605019693718485\n",
            "10 \t [4.53189297 2.23124176]\t 54.14049661572986\t 12.477244167931238\t -0.4206862201282165\n",
            "11 \t [2.14106135 5.12      ]\t 37.186141954358064\t 12.477244167931238\t -0.34573952977563643\n",
            "12 \t [-2.40776997 -1.64851825]\t 42.835259972742804\t 12.477244167931238\t -0.15176744106189166\n",
            "13 \t [-0.92614633  1.57312358]\t 23.35290154009189\t 12.477244167931238\t -0.05702552525683985\n",
            "14 \t [-5.12        2.04460707]\t 33.49533642628765\t 12.477244167931238\t -0.08478498513436053\n",
            "15 \t [ 2.34622016 -2.44967213]\t 46.69389766073181\t 12.477244167931238\t -0.045954615377302915\n",
            "16 \t [-5.12 -5.12]\t 57.849427451571785\t 12.477244167931238\t -0.016415168416507253\n",
            "17 \t [2.50557012 0.41816448]\t 45.15354433180367\t 12.477244167931238\t -0.00924826003742367\n",
            "18 \t [-5.12       -2.67621246]\t 50.55872305966899\t 12.477244167931238\t -0.0006157305864461183\n",
            "19 \t [ 0.23652545 -0.75067136]\t 19.731649146084973\t 12.477244167931238\t -0.02273584364018852\n",
            "20 \t [-3.07730341  4.02975103]\t 27.039468593004102\t 12.477244167931238\t -5.873463399582093e-07\n"
          ]
        }
      ],
      "source": [
        "### Bayesian optimisation runs (x20): 'GP' Acquisition Function run number = 10\n",
        "\n",
        "np.random.seed(run_num_10)\n",
        "surrogate_gp_10 = GaussianProcess(cov_func, optimize=hyperOpt)\n",
        "\n",
        "gp_10 = GPGO_multi(surrogate_gp_10, Acquisition_new(util_gp), f_syn_polarity, param, n_jobs = -1) # define BayesOpt\n",
        "gp_10.run(max_iter = max_iter, init_evals = n_init) # run\n"
      ]
    },
    {
      "cell_type": "code",
      "execution_count": 22,
      "metadata": {
        "id": "Z6wmPCIEJLk2",
        "colab": {
          "base_uri": "https://localhost:8080/"
        },
        "outputId": "6c28a92e-7769-4e4f-a20d-7d65b7caf5ae"
      },
      "outputs": [
        {
          "output_type": "stream",
          "name": "stdout",
          "text": [
            "Evaluation \t Proposed point \t  Current eval. \t  Best eval. \t Min. ApproxAcqFunc \n",
            "init\t [-3.27403839 -4.92057353]\t 47.655641290890955\t 10.679755252484755\t    \n",
            "init\t [-0.37664229  2.30332343]\t 35.87889240695259\t 10.679755252484755\t    \n",
            "init\t [-0.81711509 -0.14922651]\t 10.679755252484755\t 10.679755252484755\t    \n",
            "init\t [-4.98912446 -0.12931474]\t 28.05462905574235\t 10.679755252484755\t    \n",
            "init\t [4.52410012 3.59214172]\t 71.62694632141611\t 10.679755252484755\t    \n",
            "1  \t [ 3.73199281 -5.12      ]\t 53.981496645775195\t 10.679755252484755\t -0.7978845601917111\n",
            "2  \t [-5.12  5.12]\t 57.849427451571785\t 10.679755252484755\t -0.7978751427330447\n",
            "3  \t [ 5.12       -0.89340917]\t 31.883000294632865\t 10.679755252484755\t -0.7965638796638167\n",
            "4  \t [ 0.31355448 -3.36749547]\t 42.05621827157918\t 10.679755252484755\t -0.7765707515784276\n",
            "5  \t [1.20983407 5.12      ]\t 37.89141684998465\t 10.679755252484755\t -0.7289800108096495\n",
            "6  \t [2.15080867 0.11826641]\t 11.439478199953985\t 10.679755252484755\t -0.6766706882833599\n",
            "7  \t [-1.93524337  5.12      ]\t 33.48627219518501\t 10.679755252484755\t -0.6072367703318302\n",
            "8  \t [-3.48346975  2.27241439]\t 48.64822654381169\t 10.679755252484755\t -0.5260113152681125\n",
            "9  \t [-2.67789048 -1.87845735]\t 27.85405168301323\t 10.679755252484755\t -0.504337665153987\n",
            "10 \t [-5.12       -2.92559816]\t 38.556773540069166\t 10.679755252484755\t -0.32047458317766614\n",
            "11 \t [ 2.83473441 -2.22574617]\t 26.39559974594072\t 10.679755252484755\t -0.2631477396902184\n",
            "12 \t [2.20443808 2.05642161]\t 16.886442672207203\t 10.679755252484755\t -0.1257220473884995\n",
            "13 \t [5.12       1.17109828]\t 35.539233567561034\t 10.679755252484755\t -0.02930100086687934\n",
            "14 \t [ 0.63093492 -0.73443237]\t 28.716585249343595\t 10.679755252484755\t -0.027999181564532738\n",
            "15 \t [-0.79709515 -5.12      ]\t 36.6439934313326\t 10.679755252484755\t -0.03250867672507346\n",
            "16 \t [-5.01765715 -4.69688599]\t 60.574749381235634\t 10.679755252484755\t -1.6585072582663937e-06\n",
            "17 \t [-2.12985316  0.23382358]\t 16.72410929607129\t 10.679755252484755\t -0.009226982689334341\n",
            "18 \t [ 5.12       -3.18030353]\t 44.798515593392835\t 10.679755252484755\t -0.04486083513375835\n",
            "19 \t [2.81838208 1.45745274]\t 35.546643713687246\t 10.679755252484755\t -1.2547813712189535e-06\n",
            "20 \t [ 2.17713294 -0.83168554]\t 16.101447219533263\t 10.679755252484755\t -3.043229361333486e-08\n"
          ]
        }
      ],
      "source": [
        "### Bayesian optimisation runs (x20): 'GP' Acquisition Function run number = 11\n",
        "\n",
        "np.random.seed(run_num_11)\n",
        "surrogate_gp_11 = GaussianProcess(cov_func, optimize=hyperOpt)\n",
        "\n",
        "gp_11 = GPGO_multi(surrogate_gp_11, Acquisition_new(util_gp), f_syn_polarity, param, n_jobs = -1) # define BayesOpt\n",
        "gp_11.run(max_iter = max_iter, init_evals = n_init) # run\n"
      ]
    },
    {
      "cell_type": "code",
      "execution_count": 23,
      "metadata": {
        "id": "oNR6-n7iJLk3",
        "colab": {
          "base_uri": "https://localhost:8080/"
        },
        "outputId": "1930215d-ab8a-43bf-a4ce-b1aef5c57a20"
      },
      "outputs": [
        {
          "output_type": "stream",
          "name": "stdout",
          "text": [
            "Evaluation \t Proposed point \t  Current eval. \t  Best eval. \t Min. ApproxAcqFunc \n",
            "init\t [-3.54137249  2.45810889]\t 57.903242869085595\t 40.51116653209555\t    \n",
            "init\t [-2.42365424  0.34549139]\t 40.51116653209555\t 40.51116653209555\t    \n",
            "init\t [-4.97075238  4.28796936]\t 55.62655915398208\t 40.51116653209555\t    \n",
            "init\t [ 4.10332011 -4.77776458]\t 49.962803461970296\t 40.51116653209555\t    \n",
            "init\t [ 4.6791612  -3.71497655]\t 62.183891474990624\t 40.51116653209555\t    \n",
            "1  \t [4.12801255 5.12      ]\t 49.029236031330754\t 40.51116653209555\t -0.7978845607895244\n",
            "2  \t [-5.12 -5.12]\t 57.84942745157172\t 40.51116653209555\t -0.7978844770398728\n",
            "3  \t [2.4087622  0.58849186]\t 43.04348319114295\t 40.51116653209555\t -0.7976096443302453\n",
            "\u001b[1m\u001b[92m4\u001b[0m\t \u001b[1m\u001b[92m[-0.48693949 -4.12693528]\u001b[0m\t \u001b[1m\u001b[92m40.25048830391129\u001b[0m\t \u001b[1m\u001b[92m40.25048830391129\u001b[0m\t \u001b[1m\u001b[92m-0.7974025457415399\u001b[0m\n",
            "5  \t [-5.12       -1.54445326]\t 50.92251384084567\t 40.25048830391129\t -0.7311795299138888\n",
            "\u001b[1m\u001b[92m6\u001b[0m\t \u001b[1m\u001b[92m[-0.1736295  5.12     ]\u001b[0m\t \u001b[1m\u001b[92m34.33839944237008\u001b[0m\t \u001b[1m\u001b[92m34.33839944237008\u001b[0m\t \u001b[1m\u001b[92m-0.7952243390173417\u001b[0m\n",
            "\u001b[1m\u001b[92m7\u001b[0m\t \u001b[1m\u001b[92m[5.12       1.93248543]\u001b[0m\t \u001b[1m\u001b[92m33.54555773134139\u001b[0m\t \u001b[1m\u001b[92m33.54555773134139\u001b[0m\t \u001b[1m\u001b[92m-0.6505858250799141\u001b[0m\n",
            "\u001b[1m\u001b[92m8\u001b[0m\t \u001b[1m\u001b[92m[-0.03120181  2.24839403]\u001b[0m\t \u001b[1m\u001b[92m15.146901916725069\u001b[0m\t \u001b[1m\u001b[92m15.146901916725069\u001b[0m\t \u001b[1m\u001b[92m-0.4646287838099377\u001b[0m\n",
            "9  \t [ 1.7311365  -2.25522597]\t 29.59363149968893\t 15.146901916725069\t -0.47411176927946475\n",
            "10 \t [-2.63277195 -2.71416176]\t 43.24844092020206\t 15.146901916725069\t -0.24700031456436455\n",
            "11 \t [-0.16142344 -0.71960971]\t 17.15925096893967\t 15.146901916725069\t -0.13734289095753688\n",
            "12 \t [ 5.12      -0.8598763]\t 33.29585146690438\t 15.146901916725069\t -0.4088457012009415\n",
            "13 \t [2.04927108 3.39202732]\t 33.966443251093175\t 15.146901916725069\t -0.19579869944252137\n",
            "14 \t [-2.49521122  5.12      ]\t 55.14626642000826\t 15.146901916725069\t -0.10097389682625474\n",
            "15 \t [ 1.66813559 -5.12      ]\t 46.62724832698164\t 15.146901916725069\t -0.10964919696306402\n",
            "\u001b[1m\u001b[92m16\u001b[0m\t \u001b[1m\u001b[92m[-0.06028046  0.9214212 ]\u001b[0m\t \u001b[1m\u001b[92m2.7556515323536246\u001b[0m\t \u001b[1m\u001b[92m2.7556515323536246\u001b[0m\t \u001b[1m\u001b[92m-0.00011975190946238363\u001b[0m\n",
            "17 \t [-0.05925774  0.91976156]\t 2.778801176361151\t 2.7556515323536246\t -0.001095969182033073\n",
            "18 \t [-0.05902851  0.91870149]\t 2.8039643706640156\t 2.7556515323536246\t -0.0024171500134326125\n",
            "19 \t [-2.55377853 -5.12      ]\t 54.88102609441174\t 2.7556515323536246\t -0.02852881904869367\n",
            "20 \t [-0.05880694  0.91834993]\t 2.809075978649494\t 2.7556515323536246\t -0.0035952162015293505\n"
          ]
        }
      ],
      "source": [
        "### Bayesian optimisation runs (x20): 'GP' Acquisition Function run number = 12\n",
        "\n",
        "np.random.seed(run_num_12)\n",
        "surrogate_gp_12 = GaussianProcess(cov_func, optimize=hyperOpt)\n",
        "\n",
        "gp_12 = GPGO_multi(surrogate_gp_12, Acquisition_new(util_gp), f_syn_polarity, param, n_jobs = -1) # define BayesOpt\n",
        "gp_12.run(max_iter = max_iter, init_evals = n_init) # run\n"
      ]
    },
    {
      "cell_type": "code",
      "execution_count": 24,
      "metadata": {
        "id": "z1CyiX30JLk4",
        "colab": {
          "base_uri": "https://localhost:8080/"
        },
        "outputId": "1efa2624-bf2f-49cf-9a62-842f5481545f"
      },
      "outputs": [
        {
          "output_type": "stream",
          "name": "stdout",
          "text": [
            "Evaluation \t Proposed point \t  Current eval. \t  Best eval. \t Min. ApproxAcqFunc \n",
            "init\t [ 2.84367268 -2.68757791]\t 33.58019830007169\t 17.435826639425656\t    \n",
            "init\t [3.32061217 4.76927179]\t 56.857057997503354\t 17.435826639425656\t    \n",
            "init\t [ 4.83943541 -0.47667971]\t 48.211919361679726\t 17.435826639425656\t    \n",
            "init\t [1.11659482 2.82139151]\t 17.435826639425656\t 17.435826639425656\t    \n",
            "init\t [1.45012065 2.27346667]\t 38.25352329493884\t 17.435826639425656\t    \n",
            "1  \t [-4.10876704 -2.60547476]\t 43.79941556238635\t 17.435826639425656\t -0.7978845605124194\n",
            "2  \t [-4.21031778  3.16136339]\t 39.967696434876814\t 17.435826639425656\t -0.7978829061025323\n",
            "3  \t [-0.62129884 -5.12      ]\t 46.544305319179244\t 17.435826639425656\t -0.7957584444369071\n",
            "4  \t [-0.72633081 -0.8250234 ]\t 18.148708132481218\t 17.435826639425656\t -0.7797128344843667\n",
            "5  \t [-1.03400059  5.12      ]\t 30.221197622661876\t 17.435826639425656\t -0.7768349803895023\n",
            "6  \t [-5.12        0.27690528]\t 40.683858592773284\t 17.435826639425656\t -0.6084781816560886\n",
            "7  \t [ 5.12 -5.12]\t 57.849427451571785\t 17.435826639425656\t -0.7656864305334754\n",
            "8  \t [-5.12 -5.12]\t 57.849427451571785\t 17.435826639425656\t -0.5509076129066762\n",
            "9  \t [-1.61602128  1.74878254]\t 33.204780809440216\t 17.435826639425656\t -0.49868617321171793\n",
            "10 \t [5.12       2.46276819]\t 54.71755997272787\t 17.435826639425656\t -0.48835225172938534\n",
            "11 \t [ 1.69877565 -0.35321461]\t 32.213888065846035\t 17.435826639425656\t -0.21182714982006912\n",
            "12 \t [ 0.16665656 -2.74600057]\t 22.819008851904016\t 17.435826639425656\t -0.08621051448309874\n",
            "13 \t [-3.58600783  5.12      ]\t 60.359179370421614\t 17.435826639425656\t -0.05956564372314979\n",
            "14 \t [ 2.15664296 -5.12      ]\t 38.04066631804744\t 17.435826639425656\t -0.24200011257492393\n",
            "15 \t [-2.67284052 -0.52417731]\t 41.96405458360344\t 17.435826639425656\t -0.03264587892287457\n",
            "16 \t [-2.78044089 -5.12      ]\t 44.754547903193924\t 17.435826639425656\t -0.00891372072935108\n",
            "17 \t [0.96028915 5.12      ]\t 30.15653516251657\t 17.435826639425656\t -0.0173647903085081\n",
            "18 \t [-0.57701341  3.30757478]\t 43.66406006467283\t 17.435826639425656\t -3.6824442543608935e-05\n",
            "19 \t [-3.21492355  1.04796609]\t 19.698568468935775\t 17.435826639425656\t -4.760489732334837e-10\n",
            "20 \t [-2.50235735 -2.46612373]\t 52.11678819285541\t 17.435826639425656\t -1.0343109658330402e-07\n"
          ]
        }
      ],
      "source": [
        "### Bayesian optimisation runs (x20): 'GP' Acquisition Function run number = 13\n",
        "\n",
        "np.random.seed(run_num_13)\n",
        "surrogate_gp_13 = GaussianProcess(cov_func, optimize=hyperOpt)\n",
        "\n",
        "gp_13 = GPGO_multi(surrogate_gp_13, Acquisition_new(util_gp), f_syn_polarity, param, n_jobs = -1) # define BayesOpt\n",
        "gp_13.run(max_iter = max_iter, init_evals = n_init) # run\n"
      ]
    },
    {
      "cell_type": "code",
      "execution_count": 25,
      "metadata": {
        "id": "Dx5l3xHMJLk5",
        "colab": {
          "base_uri": "https://localhost:8080/"
        },
        "outputId": "11577f75-daed-41ad-c6f5-851caa48656a"
      },
      "outputs": [
        {
          "output_type": "stream",
          "name": "stdout",
          "text": [
            "Evaluation \t Proposed point \t  Current eval. \t  Best eval. \t Min. ApproxAcqFunc \n",
            "init\t [0.14277984 2.79721013]\t 18.683085263052178\t 10.423838604848608\t    \n",
            "init\t [ 3.7931795  -5.03759925]\t 47.36348784446708\t 10.423838604848608\t    \n",
            "init\t [-1.94830412  4.68586229]\t 40.19779334078636\t 10.423838604848608\t    \n",
            "init\t [ 0.13431513 -1.86076749]\t 10.423838604848608\t 10.423838604848608\t    \n",
            "init\t [ 0.40140736 -2.85434939]\t 30.353548735049138\t 10.423838604848608\t    \n",
            "1  \t [-4.70848678 -5.12      ]\t 63.673437963575026\t 10.423838604848608\t -0.7978833184109639\n",
            "2  \t [5.12 5.12]\t 57.849427451571785\t 10.423838604848608\t -0.7978832735892897\n",
            "3  \t [-5.12        0.35842555]\t 45.35088849902042\t 10.423838604848608\t -0.7978742288100157\n",
            "4  \t [ 5.12       -0.06395315]\t 29.725333604146282\t 10.423838604848608\t -0.7978397022550058\n",
            "5  \t [-1.64698364  0.04264381]\t 19.101303442923523\t 10.423838604848608\t -0.7256859867777973\n",
            "6  \t [-5.12  5.12]\t 57.849427451571785\t 10.423838604848608\t -0.7396111794137876\n",
            "7  \t [1.91878611 0.2374634 ]\t 14.225177186324212\t 10.423838604848608\t -0.6898274540660783\n",
            "8  \t [1.75630302 5.12      ]\t 41.613387318086964\t 10.423838604848608\t -0.6625972970857432\n",
            "9  \t [-2.90316864 -2.49079688]\t 36.410161498764715\t 10.423838604848608\t -0.5853955183079766\n",
            "10 \t [-1.23196434 -5.12      ]\t 39.311659849892905\t 10.423838604848608\t -0.5647543872842817\n",
            "11 \t [3.48252336 2.41566813]\t 56.531905755603475\t 10.423838604848608\t -0.4894448912264606\n",
            "12 \t [ 3.28443466 -2.13848652]\t 31.060165746585774\t 10.423838604848608\t -0.4059919473157914\n",
            "13 \t [-3.13838332  2.27957996]\t 30.441639304715757\t 10.423838604848608\t -0.28481581657038346\n",
            "14 \t [ 1.30038194 -5.12      ]\t 43.72869153065368\t 10.423838604848608\t -0.08927604182710255\n",
            "15 \t [0.26958155 0.06829042]\t 12.211098157967387\t 10.423838604848608\t -0.02553937996517197\n",
            "16 \t [ 5.12       -2.95522911]\t 38.05114969515431\t 10.423838604848608\t -0.03977808611425787\n",
            "17 \t [-0.92645957  1.66060014]\t 19.99098824980385\t 10.423838604848608\t -0.0003916812397375862\n",
            "18 \t [-5.12       2.7325279]\t 47.48702297630228\t 10.423838604848608\t -0.004983928571503322\n",
            "19 \t [ 1.32625954 -1.0412622 ]\t 17.787662359126493\t 10.423838604848608\t -0.00015477338705609462\n",
            "20 \t [-0.94952815 -1.40760525]\t 21.743296958902413\t 10.423838604848608\t -0.00018946896740302263\n"
          ]
        }
      ],
      "source": [
        "### Bayesian optimisation runs (x20): 'GP' Acquisition Function run number = 14\n",
        "\n",
        "np.random.seed(run_num_14)\n",
        "surrogate_gp_14 = GaussianProcess(cov_func, optimize=hyperOpt)\n",
        "\n",
        "gp_14 = GPGO_multi(surrogate_gp_14, Acquisition_new(util_gp), f_syn_polarity, param, n_jobs = -1) # define BayesOpt\n",
        "gp_14.run(max_iter = max_iter, init_evals = n_init) # run\n"
      ]
    },
    {
      "cell_type": "code",
      "execution_count": 26,
      "metadata": {
        "id": "mNCLg6LHJLk6",
        "colab": {
          "base_uri": "https://localhost:8080/"
        },
        "outputId": "efbf5178-be0e-4a68-9e15-0b311dfe1eae"
      },
      "outputs": [
        {
          "output_type": "stream",
          "name": "stdout",
          "text": [
            "Evaluation \t Proposed point \t  Current eval. \t  Best eval. \t Min. ApproxAcqFunc \n",
            "init\t [ 3.57189322 -3.28810573]\t 54.938487770767075\t 7.990765314336182\t    \n",
            "init\t [-4.56332069 -1.41784631]\t 60.750198753157726\t 7.990765314336182\t    \n",
            "init\t [-2.29989449  0.3072023 ]\t 31.984997246800887\t 7.990765314336182\t    \n",
            "init\t [-1.9873903  -2.00218256]\t 7.990765314336182\t 7.990765314336182\t    \n",
            "init\t [-3.97576933 -2.5610341 ]\t 41.754957769694336\t 7.990765314336182\t    \n",
            "1  \t [5.12       4.80077285]\t 58.835817245851594\t 7.990765314336182\t -0.7978845607896178\n",
            "2  \t [-5.12        5.06616995]\t 55.44268739247094\t 7.990765314336182\t -0.7978827790068307\n",
            "3  \t [0.00786909 5.12      ]\t 28.936996176311574\t 7.990765314336182\t -0.797822921469876\n",
            "4  \t [2.25293295 1.11071713]\t 18.817338560251102\t 7.990765314336182\t -0.7968887159947444\n",
            "5  \t [-0.33197529 -5.12      ]\t 43.960843667147955\t 7.990765314336182\t -0.7941092499069318\n",
            "6  \t [5.12       0.08147383]\t 30.213271943254803\t 7.990765314336182\t -0.7394610337487173\n",
            "7  \t [ 0.59199096 -1.56889258]\t 40.26514537711392\t 7.990765314336182\t -0.6667470556352437\n",
            "8  \t [-5.12 -5.12]\t 57.849427451571785\t 7.990765314336182\t -0.649570790993621\n",
            "9  \t [-2.39453276  3.29896393]\t 47.528665244964\t 7.990765314336182\t -0.5835792890681301\n",
            "10 \t [0.2259189 2.1744875]\t 18.703568703538327\t 7.990765314336182\t -0.28781615168973573\n",
            "11 \t [-5.12        1.74787476]\t 42.11330873108628\t 7.990765314336182\t -0.5560424609898085\n",
            "12 \t [ 2.13208501 -5.12      ]\t 36.72111254178354\t 7.990765314336182\t -0.06661153627123317\n",
            "13 \t [2.41653142 3.8436153 ]\t 43.72034150860757\t 7.990765314336182\t -0.32734670179096\n",
            "14 \t [5.12       2.25665959]\t 44.43553883957513\t 7.990765314336182\t -0.0735255026798628\n",
            "15 \t [-2.63102736 -5.12      ]\t 52.64529205850623\t 7.990765314336182\t -0.05368722105594881\n",
            "16 \t [-0.08627151  0.53739887]\t 21.4549427888263\t 7.990765314336182\t -0.0012455648526537248\n",
            "17 \t [ 3.0032041  -0.77494164]\t 18.061072702694\t 7.990765314336182\t -0.018434570137532996\n",
            "18 \t [-1.38799134 -2.76081998]\t 36.49340408557099\t 7.990765314336182\t -0.004902175635661692\n",
            "19 \t [ 1.10265193 -3.52288256]\t 35.532252564689834\t 7.990765314336182\t -8.118894252471023e-07\n",
            "20 \t [ 3.87272803 -0.60031097]\t 36.46765569949622\t 7.990765314336182\t -1.8888661364288124e-10\n"
          ]
        }
      ],
      "source": [
        "### Bayesian optimisation runs (x20): 'GP' Acquisition Function run number = 15\n",
        "\n",
        "np.random.seed(run_num_15)\n",
        "surrogate_gp_15 = GaussianProcess(cov_func, optimize=hyperOpt)\n",
        "\n",
        "gp_15 = GPGO_multi(surrogate_gp_15, Acquisition_new(util_gp), f_syn_polarity, param, n_jobs = -1) # define BayesOpt\n",
        "gp_15.run(max_iter = max_iter, init_evals = n_init) # run\n"
      ]
    },
    {
      "cell_type": "code",
      "execution_count": 27,
      "metadata": {
        "id": "5xwjkr9RJLk6",
        "colab": {
          "base_uri": "https://localhost:8080/"
        },
        "outputId": "97d6d5ca-253b-4280-818f-af91abc00396"
      },
      "outputs": [
        {
          "output_type": "stream",
          "name": "stdout",
          "text": [
            "Evaluation \t Proposed point \t  Current eval. \t  Best eval. \t Min. ApproxAcqFunc \n",
            "init\t [-2.83349935  0.23719262]\t 22.27210456874814\t 22.27210456874814\t    \n",
            "init\t [ 0.51918292 -4.65303603]\t 57.57021076017139\t 22.27210456874814\t    \n",
            "init\t [-1.42613673 -2.83565116]\t 33.89145899403749\t 22.27210456874814\t    \n",
            "init\t [ 1.9325559  -3.44339021]\t 35.85029586225333\t 22.27210456874814\t    \n",
            "init\t [-4.39987336  4.51595121]\t 77.78800881964571\t 22.27210456874814\t    \n",
            "1  \t [2.142749   4.83374619]\t 36.69381850109535\t 22.27210456874814\t -0.7978845508179482\n",
            "2  \t [5.12       0.59293433]\t 47.61934452567999\t 22.27210456874814\t -0.7978570248534114\n",
            "3  \t [-5.12 -5.12]\t 57.849427451571785\t 22.27210456874814\t -0.7972211618053443\n",
            "\u001b[1m\u001b[92m4\u001b[0m\t \u001b[1m\u001b[92m[1.00686869 0.83549454]\u001b[0m\t \u001b[1m\u001b[92m6.604011697570501\u001b[0m\t \u001b[1m\u001b[92m6.604011697570501\u001b[0m\t \u001b[1m\u001b[92m-0.7898772476407555\u001b[0m\n",
            "5  \t [-0.94229324  3.24295778]\t 21.612520217652467\t 6.604011697570501\t -0.7318586062739123\n",
            "6  \t [ 5.12 -5.12]\t 57.849427451571785\t 6.604011697570501\t -0.7858159755426392\n",
            "7  \t [-5.12       -1.65377298]\t 47.344109585171324\t 6.604011697570501\t -0.6944718512043876\n",
            "8  \t [5.12       4.25508273]\t 57.34974577823031\t 6.604011697570501\t -0.695650780965404\n",
            "9  \t [ 5.12       -2.21590375]\t 41.7089626465653\t 6.604011697570501\t -0.41688160006950314\n",
            "10 \t [-5.12        1.50296291]\t 51.18187840821604\t 6.604011697570501\t -0.4462600160391117\n",
            "11 \t [2.52047193 1.99873374]\t 30.265418800522497\t 6.604011697570501\t -0.33017517146102504\n",
            "12 \t [ 0.61975435 -0.77899895]\t 26.479185243284817\t 6.604011697570501\t -0.37850081537374225\n",
            "13 \t [-1.27023555  5.12      ]\t 41.806226141328544\t 6.604011697570501\t -0.15864098309863012\n",
            "14 \t [-2.37027109 -5.12      ]\t 51.400776719369844\t 6.604011697570501\t -0.19898641483671392\n",
            "15 \t [-0.59153704  1.20635444]\t 27.488257734173608\t 6.604011697570501\t -0.07955700366009202\n",
            "16 \t [ 2.83179188 -0.80748541]\t 20.221296849692735\t 6.604011697570501\t -0.07001335655840957\n",
            "17 \t [0.77471809 3.02780651]\t 18.373189089251436\t 6.604011697570501\t -0.00041267949241250573\n",
            "18 \t [-2.68066264  2.42597537]\t 46.22911270437491\t 6.604011697570501\t -0.00483784982931483\n",
            "19 \t [-1.77710828 -0.94447214]\t 12.957580388398044\t 6.604011697570501\t -0.00023535378082559667\n",
            "20 \t [ 3.45569769 -4.61735471]\t 70.27933734324651\t 6.604011697570501\t -4.0168442497754054e-07\n"
          ]
        }
      ],
      "source": [
        "### Bayesian optimisation runs (x20): 'GP' Acquisition Function run number = 16\n",
        "\n",
        "np.random.seed(run_num_16)\n",
        "surrogate_gp_16 = GaussianProcess(cov_func, optimize=hyperOpt)\n",
        "\n",
        "gp_16 = GPGO_multi(surrogate_gp_16, Acquisition_new(util_gp), f_syn_polarity, param, n_jobs = -1) # define BayesOpt\n",
        "gp_16.run(max_iter = max_iter, init_evals = n_init) # run\n"
      ]
    },
    {
      "cell_type": "code",
      "execution_count": 28,
      "metadata": {
        "id": "zbpfP0FWJLk7",
        "colab": {
          "base_uri": "https://localhost:8080/"
        },
        "outputId": "763688d0-cdce-4781-f65b-17ceb6e537fc"
      },
      "outputs": [
        {
          "output_type": "stream",
          "name": "stdout",
          "text": [
            "Evaluation \t Proposed point \t  Current eval. \t  Best eval. \t Min. ApproxAcqFunc \n",
            "init\t [-2.10263037  0.31320838]\t 20.395145364684023\t 20.395145364684023\t    \n",
            "init\t [-3.15882714 -4.42470033]\t 53.03732051200137\t 20.395145364684023\t    \n",
            "init\t [2.93873111 1.60085526]\t 29.989224812583537\t 20.395145364684023\t    \n",
            "init\t [1.40821398 0.77417363]\t 29.451989415882437\t 20.395145364684023\t    \n",
            "init\t [-4.71999574 -1.45598869]\t 55.89242173757483\t 20.395145364684023\t    \n",
            "1  \t [ 5.12 -5.12]\t 57.849427451571785\t 20.395145364684023\t -0.7978845604995516\n",
            "2  \t [-4.70696616  5.12      ]\t 63.751313255077804\t 20.395145364684023\t -0.7978829227686138\n",
            "3  \t [0.05624164 5.12      ]\t 29.545781683187776\t 20.395145364684023\t -0.7972639168284501\n",
            "4  \t [5.12 5.12]\t 57.849427451571785\t 20.395145364684023\t -0.7965820621781331\n",
            "5  \t [ 1.07726363 -3.5143271 ]\t 34.62590542363461\t 20.395145364684023\t -0.7949936509888714\n",
            "6  \t [ 5.12       -1.25380509]\t 40.73579906584446\t 20.395145364684023\t -0.778120027566749\n",
            "7  \t [-5.12        1.83143809]\t 37.382359239414875\t 20.395145364684023\t -0.6654233359195878\n",
            "\u001b[1m\u001b[92m8\u001b[0m\t \u001b[1m\u001b[92m[-1.98272196  3.08682476]\u001b[0m\t \u001b[1m\u001b[92m14.970050556303683\u001b[0m\t \u001b[1m\u001b[92m14.970050556303683\u001b[0m\t \u001b[1m\u001b[92m-0.5295658222821833\u001b[0m\n",
            "\u001b[1m\u001b[92m9\u001b[0m\t \u001b[1m\u001b[92m[-1.18641997 -1.9922026 ]\u001b[0m\t \u001b[1m\u001b[92m11.49902218960535\u001b[0m\t \u001b[1m\u001b[92m11.49902218960535\u001b[0m\t \u001b[1m\u001b[92m-0.35599072480793836\u001b[0m\n",
            "10 \t [5.12       2.05334668]\t 33.69745831518553\t 11.49902218960535\t -0.2652329276560234\n",
            "11 \t [ 2.52175103 -1.51538066]\t 48.51570473265319\t 11.49902218960535\t -0.14896215932122925\n",
            "12 \t [2.39043183 4.26296339]\t 52.42303410217378\t 11.49902218960535\t -0.2573850052981932\n",
            "13 \t [-0.57836372 -5.12      ]\t 48.07135052474894\t 11.49902218960535\t -0.17526857911060417\n",
            "14 \t [-0.1535172   2.41431845]\t 28.74039845221381\t 11.49902218960535\t -0.06904383893189409\n",
            "15 \t [-2.13586418  5.12      ]\t 36.9143376040107\t 11.49902218960535\t -0.04270408475222287\n",
            "16 \t [-0.16169213 -0.81111802]\t 11.669389847076905\t 11.49902218960535\t -0.013787212401767057\n",
            "17 \t [ 2.54922501 -5.12      ]\t 54.94876146880523\t 11.49902218960535\t -0.07701934556826004\n",
            "18 \t [-0.52560078  0.07159203]\t 21.14706168452146\t 11.49902218960535\t -4.513423180385593e-06\n",
            "19 \t [-2.98544986  2.11046435]\t 15.72222850453242\t 11.49902218960535\t -0.001639964090738296\n",
            "20 \t [-2.30729136 -2.0074822 ]\t 22.88710954634344\t 11.49902218960535\t -0.0010355817179450617\n"
          ]
        }
      ],
      "source": [
        "### Bayesian optimisation runs (x20): 'GP' Acquisition Function run number = 17\n",
        "\n",
        "np.random.seed(run_num_17)\n",
        "surrogate_gp_17 = GaussianProcess(cov_func, optimize=hyperOpt)\n",
        "\n",
        "gp_17 = GPGO_multi(surrogate_gp_17, Acquisition_new(util_gp), f_syn_polarity, param, n_jobs = -1) # define BayesOpt\n",
        "gp_17.run(max_iter = max_iter, init_evals = n_init) # run\n"
      ]
    },
    {
      "cell_type": "code",
      "execution_count": 29,
      "metadata": {
        "id": "1d-1rDI5JLk8",
        "colab": {
          "base_uri": "https://localhost:8080/"
        },
        "outputId": "d10df1c4-16f9-4146-98e3-8768747358b6"
      },
      "outputs": [
        {
          "output_type": "stream",
          "name": "stdout",
          "text": [
            "Evaluation \t Proposed point \t  Current eval. \t  Best eval. \t Min. ApproxAcqFunc \n",
            "init\t [1.53983224 0.05584255]\t 22.67190580753611\t 22.67190580753611\t    \n",
            "init\t [ 3.87687906 -3.25795609]\t 38.990099416711985\t 22.67190580753611\t    \n",
            "init\t [3.60686662 2.56139557]\t 56.66448698782129\t 22.67190580753611\t    \n",
            "init\t [1.70088108 4.99604939]\t 40.894059318256296\t 22.67190580753611\t    \n",
            "init\t [-2.48864335 -4.83014733]\t 54.6725749848372\t 22.67190580753611\t    \n",
            "1  \t [-5.00718904  2.9174042 ]\t 34.91005808676357\t 22.67190580753611\t -0.797884560544953\n",
            "2  \t [-5.12      -1.3722206]\t 47.754213354155944\t 22.67190580753611\t -0.7959246035321068\n",
            "3  \t [-1.30205528  2.41793776]\t 39.454406355016445\t 22.67190580753611\t -0.7797500508825546\n",
            "4  \t [ 1.04804663 -5.12      ]\t 30.475340809730255\t 22.67190580753611\t -0.7424631790896999\n",
            "5  \t [-1.46191316 -1.33679079]\t 38.826164708539096\t 22.67190580753611\t -0.7344232114950985\n",
            "6  \t [-2.73822073  5.12      ]\t 47.16200446544369\t 22.67190580753611\t -0.6563522776007924\n",
            "7  \t [ 5.12       -0.35162332]\t 45.008414589228074\t 22.67190580753611\t -0.6666944043016539\n",
            "8  \t [5.12 5.12]\t 57.849427451571785\t 22.67190580753611\t -0.6146100768360603\n",
            "9  \t [ 1.09298103 -2.48161343]\t 28.94491343430504\t 22.67190580753611\t -0.24933209997962918\n",
            "10 \t [-5.12 -5.12]\t 57.849427451571785\t 22.67190580753611\t -0.4462803732899489\n",
            "11 \t [ 5.12 -5.12]\t 57.849427451571785\t 22.67190580753611\t -0.24472488952651572\n",
            "12 \t [-3.41490663  0.75493352]\t 40.526011855816904\t 22.67190580753611\t -0.1828018116431131\n",
            "\u001b[1m\u001b[92m13\u001b[0m\t \u001b[1m\u001b[92m[-0.07692144  0.69701473]\u001b[0m\t \u001b[1m\u001b[92m14.905143871470113\u001b[0m\t \u001b[1m\u001b[92m14.905143871470113\u001b[0m\t \u001b[1m\u001b[92m-0.0015651450737602084\u001b[0m\n",
            "14 \t [-3.31657925 -2.66776798]\t 47.11898592778485\t 14.905143871470113\t -0.0015379173221295658\n",
            "15 \t [-5.12  5.12]\t 57.849427451571785\t 14.905143871470113\t -0.06691612861183888\n",
            "\u001b[1m\u001b[92m16\u001b[0m\t \u001b[1m\u001b[92m[ 2.9586113  -1.07422022]\u001b[0m\t \u001b[1m\u001b[92m11.311364443219668\u001b[0m\t \u001b[1m\u001b[92m11.311364443219668\u001b[0m\t \u001b[1m\u001b[92m-0.0011756997974670894\u001b[0m\n",
            "17 \t [1.03718444 2.55512821]\t 27.2821989555854\t 11.311364443219668\t -0.018182544733297223\n",
            "18 \t [-0.54270005 -3.63144925]\t 49.90300565062627\t 11.311364443219668\t -0.00041922904031745697\n",
            "19 \t [-0.7223645   0.68467701]\t 26.708366102360095\t 11.311364443219668\t -1.902716702686214e-09\n",
            "20 \t [-4.85217233  1.32463924]\t 43.83021651328372\t 11.311364443219668\t -4.853804079116559e-09\n"
          ]
        }
      ],
      "source": [
        "### Bayesian optimisation runs (x20): 'GP' Acquisition Function run number = 18\n",
        "\n",
        "np.random.seed(run_num_18)\n",
        "surrogate_gp_18 = GaussianProcess(cov_func, optimize=hyperOpt)\n",
        "\n",
        "gp_18 = GPGO_multi(surrogate_gp_18, Acquisition_new(util_gp), f_syn_polarity, param, n_jobs = -1) # define BayesOpt\n",
        "gp_18.run(max_iter = max_iter, init_evals = n_init) # run\n"
      ]
    },
    {
      "cell_type": "code",
      "execution_count": 30,
      "metadata": {
        "id": "E7485DWlJLk8",
        "colab": {
          "base_uri": "https://localhost:8080/"
        },
        "outputId": "8f500551-4310-47d9-add5-03d1cded982f"
      },
      "outputs": [
        {
          "output_type": "stream",
          "name": "stdout",
          "text": [
            "Evaluation \t Proposed point \t  Current eval. \t  Best eval. \t Min. ApproxAcqFunc \n",
            "init\t [-4.12125592  2.6751971 ]\t 41.43485596167127\t 25.867003842388073\t    \n",
            "init\t [-2.59135515 -3.70553152]\t 51.60126035043229\t 25.867003842388073\t    \n",
            "init\t [-1.72598719 -4.27008445]\t 43.97430127029199\t 25.867003842388073\t    \n",
            "init\t [1.76104531 3.13952049]\t 25.867003842388073\t 25.867003842388073\t    \n",
            "init\t [4.9432772  1.38916592]\t 44.66580306903559\t 25.867003842388073\t    \n",
            "1  \t [ 5.12 -5.12]\t 57.849427451571785\t 25.867003842388073\t -0.7978845534957015\n",
            "2  \t [ 1.77619034 -1.68663061]\t 28.23864836494113\t 25.867003842388073\t -0.7963184569461808\n",
            "3  \t [5.12 5.12]\t 57.849427451571785\t 25.867003842388073\t -0.7843001945270276\n",
            "4  \t [-1.28669736  5.12      ]\t 42.86568994878547\t 25.867003842388073\t -0.7798913632004989\n",
            "5  \t [-5.12       -0.97841386]\t 29.973843622719365\t 25.867003842388073\t -0.7794667829832421\n",
            "\u001b[1m\u001b[92m6\u001b[0m\t \u001b[1m\u001b[92m[-1.20053952  0.35650344]\u001b[0m\t \u001b[1m\u001b[92m24.713914812219098\u001b[0m\t \u001b[1m\u001b[92m24.713914812219098\u001b[0m\t \u001b[1m\u001b[92m-0.7733932280436672\u001b[0m\n",
            "7  \t [ 1.54014555 -5.12      ]\t 50.980315340524356\t 24.713914812219098\t -0.7297876691345933\n",
            "8  \t [-5.12 -5.12]\t 57.849427451571785\t 24.713914812219098\t -0.6325548313882507\n",
            "9  \t [-5.12  5.12]\t 57.849427451571785\t 24.713914812219098\t -0.5157709189770951\n",
            "10 \t [ 5.12       -1.82150472]\t 37.899445616137584\t 24.713914812219098\t -0.6548505233462438\n",
            "\u001b[1m\u001b[92m11\u001b[0m\t \u001b[1m\u001b[92m[1.81555913 0.74308091]\u001b[0m\t \u001b[1m\u001b[92m20.279330519801288\u001b[0m\t \u001b[1m\u001b[92m20.279330519801288\u001b[0m\t \u001b[1m\u001b[92m-0.21525263877648532\u001b[0m\n",
            "12 \t [2.02966617 5.12      ]\t 33.217477241557276\t 20.279330519801288\t -0.15824902188258422\n",
            "13 \t [-0.86365193  2.59155521]\t 29.303224345578364\t 20.279330519801288\t -0.13289109722230164\n",
            "14 \t [-0.58589801 -1.85671879]\t 26.155198625517738\t 20.279330519801288\t -0.08469307214851582\n",
            "\u001b[1m\u001b[92m15\u001b[0m\t \u001b[1m\u001b[92m[-2.9847853 -0.7518886]\u001b[0m\t \u001b[1m\u001b[92m19.401277196569687\u001b[0m\t \u001b[1m\u001b[92m19.401277196569687\u001b[0m\t \u001b[1m\u001b[92m-0.036147978950965276\u001b[0m\n",
            "16 \t [ 3.24038978 -3.28101572]\t 42.598192787496984\t 19.401277196569687\t -0.009411278418709208\n",
            "17 \t [-3.50068272  0.77000607]\t 41.59388605429194\t 19.401277196569687\t -0.00022454888982060888\n",
            "18 \t [-5.12       -2.80695917]\t 43.300793176352606\t 19.401277196569687\t -0.0023551086377674273\n",
            "19 \t [0.3343493  0.40408088]\t 33.5684589893076\t 19.401277196569687\t -9.379770122999286e-06\n",
            "20 \t [2.48869387 0.94186978]\t 27.715124004800348\t 19.401277196569687\t -2.3228960772368163e-07\n"
          ]
        }
      ],
      "source": [
        "### Bayesian optimisation runs (x20): 'GP' Acquisition Function run number = 19\n",
        "\n",
        "np.random.seed(run_num_19)\n",
        "surrogate_gp_19 = GaussianProcess(cov_func, optimize=hyperOpt)\n",
        "\n",
        "gp_19 = GPGO_multi(surrogate_gp_19, Acquisition_new(util_gp), f_syn_polarity, param, n_jobs = -1) # define BayesOpt\n",
        "gp_19.run(max_iter = max_iter, init_evals = n_init) # run\n"
      ]
    },
    {
      "cell_type": "code",
      "execution_count": 31,
      "metadata": {
        "id": "v9oZm6NvJLk9",
        "colab": {
          "base_uri": "https://localhost:8080/"
        },
        "outputId": "90850fea-bf16-49c9-999a-5b12077bdbec"
      },
      "outputs": [
        {
          "output_type": "stream",
          "name": "stdout",
          "text": [
            "Evaluation \t Proposed point \t  Current eval. \t  Best eval. \t Min. ApproxAcqFunc \n",
            "init\t [0.9024594  4.07258857]\t 20.24255447774017\t 17.388691338534382\t    \n",
            "init\t [4.00927467 3.23417577]\t 35.55852254546393\t 17.388691338534382\t    \n",
            "init\t [-4.75249064  1.96359764]\t 36.54582989269194\t 17.388691338534382\t    \n",
            "init\t [-1.24230715  0.18955208]\t 17.388691338534382\t 17.388691338534382\t    \n",
            "init\t [ 1.61742301 -3.13497377]\t 33.22932870179905\t 17.388691338534382\t    \n",
            "1  \t [-5.12       -3.80671405]\t 49.927274972860054\t 17.388691338534382\t -0.7978832538894429\n",
            "2  \t [ 5.12       -0.92644509]\t 30.83209553534477\t 17.388691338534382\t -0.7954810507629072\n",
            "3  \t [ 5.12 -5.12]\t 57.849427451571785\t 17.388691338534382\t -0.7942092645900973\n",
            "4  \t [-2.70369185  5.12      ]\t 49.103408966650434\t 17.388691338534382\t -0.7858815232553523\n",
            "5  \t [-1.50461024 -5.12      ]\t 51.184370557302486\t 17.388691338534382\t -0.7814906296366262\n",
            "6  \t [1.91189043 0.46615148]\t 25.140989672081915\t 17.388691338534382\t -0.7167629908739096\n",
            "7  \t [-3.79261956 -1.02033269]\t 22.86056098978318\t 17.388691338534382\t -0.5691246351451387\n",
            "8  \t [-1.34490845  2.54597391]\t 43.49252228855575\t 17.388691338534382\t -0.33983612078072306\n",
            "9  \t [-1.17767627 -2.22263435]\t 20.2266077313283\t 17.388691338534382\t -0.337731370797136\n",
            "10 \t [-5.12  5.12]\t 57.849427451571785\t 17.388691338534382\t -0.2774976225051227\n",
            "11 \t [5.12 5.12]\t 57.849427451571785\t 17.388691338534382\t -0.23607420354818764\n",
            "12 \t [ 2.22275987 -5.12      ]\t 42.1621716345539\t 17.388691338534382\t -0.11406995139514614\n",
            "13 \t [5.12       1.32201363]\t 45.04436147337233\t 17.388691338534382\t -0.078866330428489\n",
            "14 \t [ 3.91456642 -2.67254813]\t 38.549448417818866\t 17.388691338534382\t -0.033239268004185696\n",
            "15 \t [ 0.54279921 -1.04688116]\t 21.46189654799874\t 17.388691338534382\t -0.01048712190801429\n",
            "16 \t [2.3694811 5.12     ]\t 51.36082208000059\t 17.388691338534382\t -0.042360673051510644\n",
            "17 \t [-5.12       -0.32886987]\t 43.78806004374462\t 17.388691338534382\t -0.004062721932509651\n",
            "18 \t [-0.36926255  5.12      ]\t 45.87268943794027\t 17.388691338534382\t -0.007839428811540823\n",
            "19 \t [-2.90004515 -2.89708909]\t 20.730231857314124\t 17.388691338534382\t -0.004818128146003103\n",
            "20 \t [-2.78883659  0.66971639]\t 30.643243502233815\t 17.388691338534382\t -0.0004025602235380992\n"
          ]
        }
      ],
      "source": [
        "### Bayesian optimisation runs (x20): 'GP' Acquisition Function run number = 20\n",
        "\n",
        "np.random.seed(run_num_20)\n",
        "surrogate_gp_20 = GaussianProcess(cov_func, optimize=hyperOpt)\n",
        "\n",
        "gp_20 = GPGO_multi(surrogate_gp_20, Acquisition_new(util_gp), f_syn_polarity, param, n_jobs = -1) # define BayesOpt\n",
        "gp_20.run(max_iter = max_iter, init_evals = n_init) # run\n"
      ]
    },
    {
      "cell_type": "code",
      "execution_count": 32,
      "metadata": {
        "id": "m3W7oEVSJLk9",
        "colab": {
          "base_uri": "https://localhost:8080/"
        },
        "outputId": "84d77d3c-a94d-497d-9dfb-00c041613169"
      },
      "outputs": [
        {
          "output_type": "stream",
          "name": "stdout",
          "text": [
            "Evaluation \t Proposed point \t  Current eval. \t  Best eval. \t Min. ApproxAcqFunc \n",
            "init\t [-0.84969467  2.25612281]\t 20.33436270766351\t 19.908403246996286\t    \n",
            "init\t [-5.1188288  -2.02411446]\t 33.07414982069084\t 19.908403246996286\t    \n",
            "init\t [-3.61721968 -4.17445279]\t 53.347974723929894\t 19.908403246996286\t    \n",
            "init\t [-3.21269544 -1.58145816]\t 39.218472310354045\t 19.908403246996286\t    \n",
            "init\t [-1.05710106  0.39748336]\t 19.908403246996286\t 19.908403246996286\t    \n",
            "1  \t [ 4.04077223 -4.24914728]\t 44.655863836006326\t 19.908403246996286\t -17.32897936958058\n",
            "2  \t [3.88696178 5.12      ]\t 46.45113190681991\t 19.908403246996286\t -18.546885134830497\n",
            "3  \t [-5.12  5.12]\t 57.849427451571785\t 19.908403246996286\t -19.569653346262545\n",
            "4  \t [5.12       0.45084536]\t 48.65481979333338\t 19.908403246996286\t -21.29404527074605\n",
            "5  \t [ 0.22552218 -5.12      ]\t 37.44364330585873\t 19.908403246996286\t -21.899666588998095\n",
            "6  \t [ 1.74851334 -1.37741233]\t 32.22540023390415\t 19.908403246996286\t -21.75509927986315\n",
            "7  \t [-5.12        1.53258176]\t 51.064705654226415\t 19.908403246996286\t -21.438042320963717\n",
            "8  \t [0.19862472 5.12      ]\t 35.79192986373719\t 19.908403246996286\t -22.008078784621944\n",
            "\u001b[1m\u001b[92m9\u001b[0m\t \u001b[1m\u001b[92m[2.21094123 2.11552647]\u001b[0m\t \u001b[1m\u001b[92m19.454944429929732\u001b[0m\t \u001b[1m\u001b[92m19.454944429929732\u001b[0m\t \u001b[1m\u001b[92m-21.75168993213217\u001b[0m\n",
            "10 \t [-0.67269    -2.53195656]\t 41.33115562300307\t 19.454944429929732\t -20.572079840539967\n",
            "11 \t [-2.46224215  4.21306847]\t 51.232779199141916\t 19.454944429929732\t -20.72692746879135\n",
            "12 \t [5.12       3.00443491]\t 37.95522495997334\t 19.454944429929732\t -20.704438645039804\n",
            "13 \t [ 5.12       -2.07031394]\t 34.17105921791297\t 19.454944429929732\t -20.58611108821069\n",
            "14 \t [-2.83757027  1.23449019]\t 23.374053149127743\t 19.454944429929732\t -19.287909445536766\n",
            "\u001b[1m\u001b[92m15\u001b[0m\t \u001b[1m\u001b[92m[0.94827321 0.68432388]\u001b[0m\t \u001b[1m\u001b[92m15.901473424187671\u001b[0m\t \u001b[1m\u001b[92m15.901473424187671\u001b[0m\t \u001b[1m\u001b[92m-18.783760067719342\u001b[0m\n",
            "16 \t [ 1.87303182 -3.6079996 ]\t 37.32746246429522\t 15.901473424187671\t -18.198084887760693\n",
            "17 \t [1.85285032 3.84500795]\t 26.574104086255055\t 15.901473424187671\t -17.822925250466106\n",
            "18 \t [-5.12 -5.12]\t 57.849427451571785\t 15.901473424187671\t -15.608240134644902\n",
            "19 \t [-1.77996114 -5.12      ]\t 40.22156052035557\t 15.901473424187671\t -20.5754193426392\n",
            "20 \t [2.93575065 0.31848678]\t 23.69546258082218\t 15.901473424187671\t -17.596079096123106\n"
          ]
        }
      ],
      "source": [
        "### Bayesian optimisation runs (x20): 'STP' Acquisition Function run number = 1 \n",
        "\n",
        "np.random.seed(run_num_1)\n",
        "surrogate_stp_1 = tStudentProcess(cov_func, nu = df, optimize=hyperOpt)\n",
        "\n",
        "stp_1 = GPGO_multi_STP(surrogate_stp_1, Acquisition_new(util_stp), f_syn_polarity, param, n_jobs = -1) # Define BayesOpt\n",
        "stp_1.run(max_iter = max_iter, init_evals = n_init) # run\n"
      ]
    },
    {
      "cell_type": "code",
      "execution_count": 33,
      "metadata": {
        "id": "FGw67C40JLk-",
        "colab": {
          "base_uri": "https://localhost:8080/"
        },
        "outputId": "6e78100d-bfc8-4bd7-987d-88966c6fce4c"
      },
      "outputs": [
        {
          "output_type": "stream",
          "name": "stdout",
          "text": [
            "Evaluation \t Proposed point \t  Current eval. \t  Best eval. \t Min. ApproxAcqFunc \n",
            "init\t [-0.6554122  -4.85451539]\t 43.490296251903594\t 18.964539418712707\t    \n",
            "init\t [ 0.50854377 -0.6622987 ]\t 35.91861667536101\t 18.964539418712707\t    \n",
            "init\t [-0.81543371 -1.73737143]\t 20.479562046739524\t 18.964539418712707\t    \n",
            "init\t [-3.02439799  1.2213347 ]\t 18.964539418712707\t 18.964539418712707\t    \n",
            "init\t [-2.05153614 -2.3876887 ]\t 28.041315668371354\t 18.964539418712707\t    \n",
            "1  \t [ 5.12 -5.12]\t 57.849427451571785\t 18.964539418712707\t -14.974779303390344\n",
            "2  \t [3.56771682 5.12      ]\t 60.761735270045946\t 18.964539418712707\t -18.371932317001374\n",
            "3  \t [5.12       0.26666643]\t 40.041094463606925\t 18.964539418712707\t -20.871230358641267\n",
            "4  \t [-5.12  5.12]\t 57.849427451571785\t 18.964539418712707\t -21.008353730935795\n",
            "5  \t [-5.12 -5.12]\t 57.849427451571785\t 18.964539418712707\t -22.335264933478456\n",
            "6  \t [-0.77214363  5.12      ]\t 38.13407864993035\t 18.964539418712707\t -23.36519505009379\n",
            "7  \t [-5.12       -1.23480857]\t 39.496409072032854\t 18.964539418712707\t -23.118160485306735\n",
            "8  \t [1.48528106 2.3842273 ]\t 45.31678112728941\t 18.964539418712707\t -22.959237277073235\n",
            "9  \t [ 2.85011335 -2.74147281]\t 30.290729642872883\t 18.964539418712707\t -23.062138915812238\n",
            "10 \t [-5.12        2.10630876]\t 35.51036744222123\t 18.964539418712707\t -22.263603223958913\n",
            "11 \t [5.12       2.89323244]\t 39.46251224410025\t 18.964539418712707\t -21.891862506563943\n",
            "12 \t [ 2.07609215 -5.12      ]\t 34.35617032016398\t 18.964539418712707\t -21.790234113371678\n",
            "13 \t [-1.25659096  2.45830213]\t 37.69502445585856\t 18.964539418712707\t -21.32093905982144\n",
            "14 \t [ 5.12       -2.28686248]\t 46.44993871178781\t 18.964539418712707\t -21.02551360338413\n",
            "\u001b[1m\u001b[92m15\u001b[0m\t \u001b[1m\u001b[92m[2.77702224 0.03120381]\u001b[0m\t \u001b[1m\u001b[92m16.214696134210094\u001b[0m\t \u001b[1m\u001b[92m16.214696134210094\u001b[0m\t \u001b[1m\u001b[92m-20.67364666016825\u001b[0m\n",
            "16 \t [-2.9772457   4.05427208]\t 25.97893942999631\t 16.214696134210094\t -19.78383204390984\n",
            "17 \t [1.47347047 4.68563643]\t 57.9224459243073\t 16.214696134210094\t -21.860018492695257\n",
            "18 \t [-2.81074446 -5.12      ]\t 43.100302126239306\t 16.214696134210094\t -19.727923792061297\n",
            "19 \t [ 0.74214426 -3.06267541]\t 21.18957696836691\t 16.214696134210094\t -21.43062167847215\n",
            "20 \t [-2.37379764 -0.34283815]\t 38.277874154264715\t 16.214696134210094\t -19.345780683831823\n"
          ]
        }
      ],
      "source": [
        "### Bayesian optimisation runs (x20): 'STP' Acquisition Function run number = 2 \n",
        "\n",
        "np.random.seed(run_num_2)\n",
        "surrogate_stp_2 = tStudentProcess(cov_func, nu = df, optimize=hyperOpt)\n",
        "\n",
        "stp_2 = GPGO_multi_STP(surrogate_stp_2, Acquisition_new(util_stp), f_syn_polarity, param, n_jobs = -1) # Define BayesOpt\n",
        "stp_2.run(max_iter = max_iter, init_evals = n_init) # run\n"
      ]
    },
    {
      "cell_type": "code",
      "execution_count": 34,
      "metadata": {
        "id": "oFLQAtDZJLk_",
        "colab": {
          "base_uri": "https://localhost:8080/"
        },
        "outputId": "a72e90c4-6d21-4db6-f01e-8165209bbf7d"
      },
      "outputs": [
        {
          "output_type": "stream",
          "name": "stdout",
          "text": [
            "Evaluation \t Proposed point \t  Current eval. \t  Best eval. \t Min. ApproxAcqFunc \n",
            "init\t [0.52017052 2.1314337 ]\t 27.953858411008774\t 10.607662635789808\t    \n",
            "init\t [-2.14113547  0.11087468]\t 10.607662635789808\t 10.607662635789808\t    \n",
            "init\t [4.02377681 4.05804123]\t 33.42749829480097\t 10.607662635789808\t    \n",
            "init\t [-3.83400642 -2.99783293]\t 28.650953928965198\t 10.607662635789808\t    \n",
            "init\t [-4.59297584 -0.6061072 ]\t 57.6631355589384\t 10.607662635789808\t    \n",
            "1  \t [ 2.87042319 -1.98283743]\t 15.364229918613852\t 10.607662635789808\t -17.667277654047023\n",
            "2  \t [-5.12  5.12]\t 57.849427451571785\t 10.607662635789808\t -16.545777429860973\n",
            "3  \t [ 0.05045819 -5.12      ]\t 29.42563030613281\t 10.607662635789808\t -19.148409129229428\n",
            "4  \t [ 5.12 -5.12]\t 57.849427451571785\t 10.607662635789808\t -18.84429460668159\n",
            "5  \t [5.12       0.53388264]\t 48.9839863181992\t 10.607662635789808\t -20.50539795571924\n",
            "6  \t [-1.23918423  5.12      ]\t 39.78123915664758\t 10.607662635789808\t -21.170833209212354\n",
            "7  \t [-0.16488336 -1.82170832]\t 13.894419758387922\t 10.607662635789808\t -21.127176130969563\n",
            "8  \t [-3.19687262  2.51070127]\t 43.22457602031571\t 10.607662635789808\t -20.279372748212992\n",
            "9  \t [1.20949009 4.55218519]\t 49.1345805347144\t 10.607662635789808\t -20.8381110449123\n",
            "10 \t [-2.71638819 -5.12      ]\t 48.399707059044616\t 10.607662635789808\t -20.611688890210782\n",
            "11 \t [2.11151651 0.23152001]\t 15.709532125277205\t 10.607662635789808\t -20.77958490897123\n",
            "12 \t [ 5.12       -2.28797879]\t 46.52325551877034\t 10.607662635789808\t -20.171822157296383\n",
            "13 \t [ 2.39211416 -4.42940009]\t 62.16307588988889\t 10.607662635789808\t -20.36402778049179\n",
            "14 \t [-5.12 -5.12]\t 57.849427451571785\t 10.607662635789808\t -21.0381049140608\n",
            "15 \t [-0.29811471  0.08045458]\t 14.323371300214248\t 10.607662635789808\t -20.64820656240467\n",
            "16 \t [-1.77881845 -2.41235089]\t 35.70429619017485\t 10.607662635789808\t -20.14823618041507\n",
            "17 \t [2.9655467 2.0485076]\t 13.68512402635241\t 10.607662635789808\t -19.92830817023811\n",
            "18 \t [ 1.29246729 -1.71808779]\t 29.250740462071334\t 10.607662635789808\t -18.56228819154884\n",
            "19 \t [-5.12        1.56783006]\t 50.48828400795799\t 10.607662635789808\t -21.618012077723993\n",
            "20 \t [5.12       2.69664925]\t 49.486330667573355\t 10.607662635789808\t -18.2096954599389\n"
          ]
        }
      ],
      "source": [
        "### Bayesian optimisation runs (x20): 'STP' Acquisition Function run number = 3 \n",
        "\n",
        "np.random.seed(run_num_3)\n",
        "surrogate_stp_3 = tStudentProcess(cov_func, nu = df, optimize=hyperOpt)\n",
        "\n",
        "stp_3 = GPGO_multi_STP(surrogate_stp_3, Acquisition_new(util_stp), f_syn_polarity, param, n_jobs = -1) # Define BayesOpt\n",
        "stp_3.run(max_iter = max_iter, init_evals = n_init) # run\n"
      ]
    },
    {
      "cell_type": "code",
      "execution_count": 35,
      "metadata": {
        "id": "zhFOxkF0JLk_",
        "colab": {
          "base_uri": "https://localhost:8080/"
        },
        "outputId": "dba70bba-2942-49fc-b03d-38113812a50b"
      },
      "outputs": [
        {
          "output_type": "stream",
          "name": "stdout",
          "text": [
            "Evaluation \t Proposed point \t  Current eval. \t  Best eval. \t Min. ApproxAcqFunc \n",
            "init\t [4.78238555 0.48365823]\t 51.03163809010808\t 14.323038259018315\t    \n",
            "init\t [4.84028785 2.19971578]\t 39.78645699016559\t 14.323038259018315\t    \n",
            "init\t [ 2.02474316 -2.90724357]\t 14.323038259018315\t 14.323038259018315\t    \n",
            "init\t [ 4.87705042 -5.05620219]\t 52.80627247106233\t 14.323038259018315\t    \n",
            "init\t [-2.52946061 -0.66773471]\t 41.61497868486559\t 14.323038259018315\t    \n",
            "1  \t [-5.12        4.70342989]\t 63.931476122515704\t 14.323038259018315\t -20.75106290341067\n",
            "2  \t [0.36418297 5.12      ]\t 45.63186716478759\t 14.323038259018315\t -23.37888720487815\n",
            "3  \t [-5.12 -5.12]\t 57.849427451571785\t 14.323038259018315\t -23.60862070835514\n",
            "4  \t [-0.95980985 -5.12      ]\t 30.16309515482829\t 14.323038259018315\t -24.660787713161547\n",
            "\u001b[1m\u001b[92m5\u001b[0m\t \u001b[1m\u001b[92m[0.85405947 1.14411555]\u001b[0m\t \u001b[1m\u001b[92m9.783262796147048\u001b[0m\t \u001b[1m\u001b[92m9.783262796147048\u001b[0m\t \u001b[1m\u001b[92m-23.967582777885156\u001b[0m\n",
            "6  \t [-2.14784002  2.7179478 ]\t 28.013666448413485\t 9.783262796147048\t -22.832408011960904\n",
            "7  \t [3.91753049 5.12      ]\t 45.58449472195787\t 9.783262796147048\t -22.2919765348252\n",
            "8  \t [-5.12        1.12169574]\t 32.96657718267739\t 9.783262796147048\t -22.48239222538602\n",
            "9  \t [-5.12      -2.0288233]\t 33.20437989856448\t 9.783262796147048\t -21.98891963618599\n",
            "10 \t [ 0.27201841 -1.30489062]\t 26.536693984731436\t 9.783262796147048\t -21.551673162815167\n",
            "11 \t [ 5.12       -2.25369087]\t 44.23571967795701\t 9.783262796147048\t -21.10044651445631\n",
            "12 \t [ 1.82284225 -5.12      ]\t 37.82877496773227\t 9.783262796147048\t -21.188703437586767\n",
            "13 \t [2.07367676 2.79503593]\t 20.372779841571344\t 9.783262796147048\t -20.8836689563025\n",
            "14 \t [-2.64041854 -3.36651213]\t 51.34325638199828\t 9.783262796147048\t -20.285651357661532\n",
            "15 \t [-2.34539406  5.12      ]\t 50.0668815097638\t 9.783262796147048\t -20.609704694605444\n",
            "16 \t [ 2.4515049  -0.49085859]\t 45.773686645811765\t 9.783262796147048\t -20.54122340977668\n",
            "17 \t [-0.49285642 -3.13190956]\t 33.28417579137597\t 9.783262796147048\t -22.37514397917469\n",
            "18 \t [-0.73413299  1.10552068]\t 14.874973583652878\t 9.783262796147048\t -19.703505775249496\n",
            "19 \t [0.04508375 2.80038862]\t 15.129358419601907\t 9.783262796147048\t -16.942643135522665\n",
            "20 \t [ 3.63143457 -1.58163552]\t 51.181473797214025\t 9.783262796147048\t -21.436240630557954\n"
          ]
        }
      ],
      "source": [
        "### Bayesian optimisation runs (x20): 'STP' Acquisition Function run number = 4 \n",
        "\n",
        "np.random.seed(run_num_4)\n",
        "surrogate_stp_4 = tStudentProcess(cov_func, nu = df, optimize=hyperOpt)\n",
        "\n",
        "stp_4 = GPGO_multi_STP(surrogate_stp_4, Acquisition_new(util_stp), f_syn_polarity, param, n_jobs = -1) # Define BayesOpt\n",
        "stp_4.run(max_iter = max_iter, init_evals = n_init) # run\n"
      ]
    },
    {
      "cell_type": "code",
      "execution_count": 36,
      "metadata": {
        "id": "YdzaqIajJLlA",
        "colab": {
          "base_uri": "https://localhost:8080/"
        },
        "outputId": "cddf3445-2fa6-4f82-f399-050453e80987"
      },
      "outputs": [
        {
          "output_type": "stream",
          "name": "stdout",
          "text": [
            "Evaluation \t Proposed point \t  Current eval. \t  Best eval. \t Min. ApproxAcqFunc \n",
            "init\t [-2.84678993  3.79629882]\t 33.93442008827236\t 7.8108627039749745\t    \n",
            "init\t [-3.00319585  4.2865757 ]\t 39.673876075575784\t 7.8108627039749745\t    \n",
            "init\t [-0.11866943  1.14425716]\t 7.8108627039749745\t 7.8108627039749745\t    \n",
            "init\t [2.72289645 0.1886002 ]\t 25.38160395721669\t 7.8108627039749745\t    \n",
            "init\t [-2.08076286 -3.19773462]\t 22.589982116319675\t 7.8108627039749745\t    \n",
            "1  \t [ 5.12       -4.82496584]\t 57.66701678941767\t 7.8108627039749745\t -12.593288181171479\n",
            "2  \t [5.12 5.12]\t 57.849427451571785\t 7.8108627039749745\t -16.743319693347694\n",
            "3  \t [-5.12       -0.04632923]\t 29.347558617657597\t 7.8108627039749745\t -19.29827154561257\n",
            "4  \t [1.0036767 5.12     ]\t 29.934748896773826\t 7.8108627039749745\t -18.971225560230806\n",
            "5  \t [-5.12 -5.12]\t 57.849427451571785\t 7.8108627039749745\t -18.7355748824161\n",
            "6  \t [ 1.10675511 -5.12      ]\t 32.31613899686741\t 7.8108627039749745\t -20.28367950208839\n",
            "7  \t [ 5.12       -1.43675085]\t 50.209646632718226\t 7.8108627039749745\t -19.955945314676725\n",
            "8  \t [ 0.60410408 -1.88346665]\t 24.411264619806143\t 7.8108627039749745\t -20.568621384484135\n",
            "9  \t [5.12       1.92691899]\t 33.67357486843634\t 7.8108627039749745\t -20.110385027193914\n",
            "10 \t [-2.21400133 -0.02744199]\t 12.808209678832482\t 7.8108627039749745\t -19.91245855456036\n",
            "11 \t [2.20068983 2.79103482]\t 27.034169023980468\t 7.8108627039749745\t -19.07528890412492\n",
            "12 \t [-5.12  5.12]\t 57.849427451571785\t 7.8108627039749745\t -18.612051099922294\n",
            "13 \t [-5.12       -2.42582275]\t 53.742744837952976\t 7.8108627039749745\t -19.33118610360995\n",
            "14 \t [-5.12        2.28689834]\t 46.45229569838763\t 7.8108627039749745\t -19.783677973193015\n",
            "15 \t [-1.64518764 -5.12      ]\t 47.75110660134307\t 7.8108627039749745\t -19.8815641751179\n",
            "16 \t [ 2.79999017 -3.04025589]\t 24.311697636603775\t 7.8108627039749745\t -20.2081137362986\n",
            "17 \t [-0.5351425   2.97540605]\t 29.01578684582656\t 7.8108627039749745\t -19.697450055826405\n",
            "18 \t [-2.58040998  1.55904816]\t 47.15938908986789\t 7.8108627039749745\t -18.366508330160038\n",
            "19 \t [-1.37508349 -1.30659186]\t 34.15412805244412\t 7.8108627039749745\t -16.613066276767672\n",
            "20 \t [-1.0534016  5.12     ]\t 30.592016520647107\t 7.8108627039749745\t -18.07628637315618\n"
          ]
        }
      ],
      "source": [
        "### Bayesian optimisation runs (x20): 'STP' Acquisition Function run number = 5 \n",
        "\n",
        "np.random.seed(run_num_5)\n",
        "surrogate_stp_5 = tStudentProcess(cov_func, nu = df, optimize=hyperOpt)\n",
        "\n",
        "stp_5 = GPGO_multi_STP(surrogate_stp_5, Acquisition_new(util_stp), f_syn_polarity, param, n_jobs = -1) # Define BayesOpt\n",
        "stp_5.run(max_iter = max_iter, init_evals = n_init) # run\n"
      ]
    },
    {
      "cell_type": "code",
      "execution_count": 37,
      "metadata": {
        "id": "_KSBbC1zJLlA",
        "colab": {
          "base_uri": "https://localhost:8080/"
        },
        "outputId": "1134d684-ef7c-4992-dff3-4b7a7b652054"
      },
      "outputs": [
        {
          "output_type": "stream",
          "name": "stdout",
          "text": [
            "Evaluation \t Proposed point \t  Current eval. \t  Best eval. \t Min. ApproxAcqFunc \n",
            "init\t [ 4.02288795 -1.72052679]\t 31.08835710146886\t 17.28954482757088\t    \n",
            "init\t [ 3.28938622 -4.69302655]\t 58.797867722203385\t 17.28954482757088\t    \n",
            "init\t [-4.0175956   0.97333314]\t 17.28954482757088\t 17.28954482757088\t    \n",
            "init\t [ 0.30532979 -0.83141193]\t 19.296253155889353\t 17.28954482757088\t    \n",
            "init\t [-1.68542362  1.25459899]\t 28.650630936276173\t 17.28954482757088\t    \n",
            "1  \t [-3.50809801 -4.82870379]\t 60.86418154947549\t 17.28954482757088\t -17.235730660928617\n",
            "2  \t [4.69607878 3.83657847]\t 54.92048826283646\t 17.28954482757088\t -20.383605617112707\n",
            "3  \t [-5.12  5.12]\t 57.849427451571785\t 17.28954482757088\t -21.866426768136396\n",
            "4  \t [0.23149004 5.12      ]\t 37.81790604440799\t 17.28954482757088\t -23.19503683131934\n",
            "5  \t [-5.12       -1.81010865]\t 38.513615318590574\t 17.28954482757088\t -22.881641881752138\n",
            "6  \t [-0.12005946 -4.2763893 ]\t 32.665292710575464\t 17.28954482757088\t -22.717453284908167\n",
            "\u001b[1m\u001b[92m7\u001b[0m\t \u001b[1m\u001b[92m[1.91645314 1.83171093]\u001b[0m\t \u001b[1m\u001b[92m13.462959339836432\u001b[0m\t \u001b[1m\u001b[92m13.462959339836432\u001b[0m\t \u001b[1m\u001b[92m-22.346408471377593\u001b[0m\n",
            "8  \t [5.12       0.82905715]\t 34.84651040028772\t 13.462959339836432\t -21.3467247739769\n",
            "9  \t [-2.15932441 -1.84709394]\t 16.951218232696206\t 13.462959339836432\t -21.026977507446613\n",
            "10 \t [-2.3873517  3.9914201]\t 39.24341475852387\t 13.462959339836432\t -20.38590002263833\n",
            "11 \t [2.59461937 5.12      ]\t 53.94098798640175\t 13.462959339836432\t -19.65144279724815\n",
            "12 \t [-5.12        2.49084229]\t 55.11245959661099\t 13.462959339836432\t -20.112030441035248\n",
            "13 \t [ 1.77116942 -2.71669361]\t 31.268730929622517\t 13.462959339836432\t -22.18195814128552\n",
            "14 \t [0.18413226 2.61674023]\t 30.288131314104938\t 13.462959339836432\t -19.978245314501713\n",
            "15 \t [2.44475395 0.07171154]\t 26.38356391966934\t 13.462959339836432\t -19.705460891737438\n",
            "16 \t [ 5.12       -3.48477612]\t 61.02266433990943\t 13.462959339836432\t -18.866252865608427\n",
            "17 \t [-3.15558121 -0.4665609 ]\t 34.36487125584729\t 13.462959339836432\t -18.62162454495564\n",
            "18 \t [-0.73000917 -2.38474197]\t 34.96304765175723\t 13.462959339836432\t -17.96130495774693\n",
            "19 \t [3.25865526 2.17300523]\t 31.23312393127481\t 13.462959339836432\t -17.65530426900954\n",
            "20 \t [0.40962444 0.70692395]\t 31.771770070122628\t 13.462959339836432\t -17.102882225649385\n"
          ]
        }
      ],
      "source": [
        "### Bayesian optimisation runs (x20): 'STP' Acquisition Function run number = 6 \n",
        "\n",
        "np.random.seed(run_num_6)\n",
        "surrogate_stp_6 = tStudentProcess(cov_func, nu = df, optimize=hyperOpt)\n",
        "\n",
        "stp_6 = GPGO_multi_STP(surrogate_stp_6, Acquisition_new(util_stp), f_syn_polarity, param, n_jobs = -1) # Define BayesOpt\n",
        "stp_6.run(max_iter = max_iter, init_evals = n_init) # run\n"
      ]
    },
    {
      "cell_type": "code",
      "execution_count": 38,
      "metadata": {
        "id": "WB64BgXFJLlB",
        "colab": {
          "base_uri": "https://localhost:8080/"
        },
        "outputId": "2d775d89-00a4-440f-af8a-fe9b4a6cf3ef"
      },
      "outputs": [
        {
          "output_type": "stream",
          "name": "stdout",
          "text": [
            "Evaluation \t Proposed point \t  Current eval. \t  Best eval. \t Min. ApproxAcqFunc \n",
            "init\t [-4.33860312  2.86636843]\t 45.646133072936244\t 22.52235437888213\t    \n",
            "init\t [-0.63068947  2.28828342]\t 34.83012662845338\t 22.52235437888213\t    \n",
            "init\t [4.8946126  0.39419771]\t 44.09657005662876\t 22.52235437888213\t    \n",
            "init\t [ 0.01147355 -4.38219639]\t 36.613209822404315\t 22.52235437888213\t    \n",
            "init\t [-2.37118484e+00 -1.20319155e-03]\t 22.52235437888213\t 22.52235437888213\t    \n",
            "1  \t [-5.12 -5.12]\t 57.849427451571785\t 22.52235437888213\t -18.934444602545486\n",
            "2  \t [ 5.12 -5.12]\t 57.849427451571785\t 22.52235437888213\t -21.274757482549198\n",
            "3  \t [3.59319651 5.12      ]\t 60.16974170317036\t 22.52235437888213\t -22.87332002187941\n",
            "4  \t [-4.02558214 -1.33646422]\t 33.289738493146906\t 22.52235437888213\t -24.246292177738272\n",
            "\u001b[1m\u001b[92m5\u001b[0m\t \u001b[1m\u001b[92m[ 1.4059687  -0.96120265]\u001b[0m\t \u001b[1m\u001b[92m21.501174989248653\u001b[0m\t \u001b[1m\u001b[92m21.501174989248653\u001b[0m\t \u001b[1m\u001b[92m-23.637035810048285\u001b[0m\n",
            "6  \t [-1.80943359  5.12      ]\t 38.550630954849794\t 21.501174989248653\t -22.72845967464331\n",
            "7  \t [2.33861662 2.13191928]\t 28.541816495616388\t 21.501174989248653\t -22.402097518675546\n",
            "8  \t [ 3.5913719  -2.53585468]\t 57.47260198607553\t 21.501174989248653\t -21.860616659699172\n",
            "9  \t [-2.5265733 -3.6375954]\t 55.96653132482267\t 21.501174989248653\t -22.360977215650806\n",
            "10 \t [-5.12  5.12]\t 57.849427451571785\t 21.501174989248653\t -22.83652504777881\n",
            "11 \t [0.80786408 5.12      ]\t 36.02121986371465\t 21.501174989248653\t -23.38690940488853\n",
            "12 \t [5.12       2.99498448]\t 37.8996108411258\t 21.501174989248653\t -22.878293338472524\n",
            "13 \t [ 2.32969178 -5.12      ]\t 49.15273491462895\t 21.501174989248653\t -22.639276892912314\n",
            "14 \t [-0.66136873 -1.56581558]\t 37.33171969467464\t 21.501174989248653\t -22.433495078154046\n",
            "15 \t [-5.12        0.59513424]\t 47.54496053925766\t 21.501174989248653\t -22.166209672614684\n",
            "16 \t [ 1.48937862 -2.97500388]\t 31.169715000992014\t 21.501174989248653\t -24.01123028626023\n",
            "17 \t [-5.12       -2.78503156]\t 44.497747194200244\t 21.501174989248653\t -20.485360095831737\n",
            "\u001b[1m\u001b[92m18\u001b[0m\t \u001b[1m\u001b[92m[0.74312429 0.85645417]\u001b[0m\t \u001b[1m\u001b[92m15.51661778385497\u001b[0m\t \u001b[1m\u001b[92m15.51661778385497\u001b[0m\t \u001b[1m\u001b[92m-23.786941073377644\u001b[0m\n",
            "19 \t [2.77505285 0.0741261 ]\t 17.203929543928865\t 15.51661778385497\t -19.283431419078653\n",
            "20 \t [-2.51968636  1.91392528]\t 31.362676592211738\t 15.51661778385497\t -18.721372235469126\n"
          ]
        }
      ],
      "source": [
        "### Bayesian optimisation runs (x20): 'STP' Acquisition Function run number = 7 \n",
        "\n",
        "np.random.seed(run_num_7)\n",
        "surrogate_stp_7 = tStudentProcess(cov_func, nu = df, optimize=hyperOpt)\n",
        "\n",
        "stp_7 = GPGO_multi_STP(surrogate_stp_7, Acquisition_new(util_stp), f_syn_polarity, param, n_jobs = -1) # Define BayesOpt\n",
        "stp_7.run(max_iter = max_iter, init_evals = n_init) # run\n"
      ]
    },
    {
      "cell_type": "code",
      "execution_count": 39,
      "metadata": {
        "id": "yCh1YYTlJLlB",
        "colab": {
          "base_uri": "https://localhost:8080/"
        },
        "outputId": "d4f5a50c-e820-46b1-9736-7359e2aee911"
      },
      "outputs": [
        {
          "output_type": "stream",
          "name": "stdout",
          "text": [
            "Evaluation \t Proposed point \t  Current eval. \t  Best eval. \t Min. ApproxAcqFunc \n",
            "init\t [3.82391708 4.79785639]\t 50.20079446939181\t 13.871821018360485\t    \n",
            "init\t [3.78055209 0.31596228]\t 36.5114251593508\t 13.871821018360485\t    \n",
            "init\t [-2.73686192 -5.00327624]\t 43.34985765011677\t 13.871821018360485\t    \n",
            "init\t [-0.7119993  -0.99992207]\t 13.871821018360485\t 13.871821018360485\t    \n",
            "init\t [ 0.23218863 -0.22126801]\t 17.190590355445654\t 13.871821018360485\t    \n",
            "1  \t [-3.14011662  5.12      ]\t 42.41645393736988\t 13.871821018360485\t -17.626499924708103\n",
            "2  \t [ 5.12 -5.12]\t 57.849427451571785\t 13.871821018360485\t -18.55893447809943\n",
            "3  \t [-5.12        0.36878666]\t 45.85041615780568\t 13.871821018360485\t -20.7009735440955\n",
            "4  \t [ 1.18398521 -4.4098634 ]\t 45.25747845830972\t 13.871821018360485\t -21.247716270295587\n",
            "5  \t [0.23149879 3.35079831]\t 36.03995068376803\t 13.871821018360485\t -21.633727767364014\n",
            "6  \t [-5.12      -2.9446905]\t 38.19371317602073\t 13.871821018360485\t -21.373312264550222\n",
            "7  \t [-2.35498208  1.72138697]\t 36.4254358435628\t 13.871821018360485\t -21.20509177630478\n",
            "8  \t [ 5.12       -2.11446596]\t 35.87242151250679\t 13.871821018360485\t -20.976325645993725\n",
            "9  \t [-5.12        3.31156924]\t 53.663943987325716\t 13.871821018360485\t -20.701099373445764\n",
            "10 \t [-2.664332   -1.79102999]\t 32.88341989373478\t 13.871821018360485\t -21.110585920407342\n",
            "11 \t [5.12       2.45336918]\t 54.517579780052635\t 13.871821018360485\t -20.83940853399244\n",
            "12 \t [ 2.14598784 -1.87144502]\t 15.116287231847778\t 13.871821018360485\t -21.31366888900641\n",
            "13 \t [1.90426225 1.73594646]\t 19.276925566484046\t 13.871821018360485\t -20.180688386672884\n",
            "14 \t [-5.12 -5.12]\t 57.849427451571785\t 13.871821018360485\t -19.570381571522248\n",
            "15 \t [1.28130994 5.12      ]\t 42.52106551829364\t 13.871821018360485\t -20.0842683890671\n",
            "16 \t [-0.77565841 -3.13533057]\t 22.229228893594637\t 13.871821018360485\t -19.829101240633225\n",
            "17 \t [-1.04853354  5.12      ]\t 30.485502263355563\t 13.871821018360485\t -18.713123898275555\n",
            "18 \t [ 3.26711445 -3.47395035]\t 53.68198100258824\t 13.871821018360485\t -18.40521752921171\n",
            "19 \t [-0.25003113  1.30877627]\t 25.387013987047062\t 13.871821018360485\t -17.899039365117197\n",
            "20 \t [ 0.54513019 -1.89258992]\t 25.6718795930626\t 13.871821018360485\t -21.644027760637794\n"
          ]
        }
      ],
      "source": [
        "### Bayesian optimisation runs (x20): 'STP' Acquisition Function run number = 8 \n",
        "\n",
        "np.random.seed(run_num_8)\n",
        "surrogate_stp_8 = tStudentProcess(cov_func, nu = df, optimize=hyperOpt)\n",
        "\n",
        "stp_8 = GPGO_multi_STP(surrogate_stp_8, Acquisition_new(util_stp), f_syn_polarity, param, n_jobs = -1) # Define BayesOpt\n",
        "stp_8.run(max_iter = max_iter, init_evals = n_init) # run\n"
      ]
    },
    {
      "cell_type": "code",
      "execution_count": 40,
      "metadata": {
        "id": "IDhy8DkEJLlC",
        "colab": {
          "base_uri": "https://localhost:8080/"
        },
        "outputId": "2e24cee5-fd32-4fe8-be3c-d111227f1712"
      },
      "outputs": [
        {
          "output_type": "stream",
          "name": "stdout",
          "text": [
            "Evaluation \t Proposed point \t  Current eval. \t  Best eval. \t Min. ApproxAcqFunc \n",
            "init\t [-5.01376866  0.01919582]\t 25.248289026162446\t 24.454800313488693\t    \n",
            "init\t [-0.04328148 -3.74958562]\t 24.454800313488693\t 24.454800313488693\t    \n",
            "init\t [-3.66478248 -2.88195916]\t 39.46509426509438\t 24.454800313488693\t    \n",
            "init\t [-0.83447623 -2.57944404]\t 31.06766397812992\t 24.454800313488693\t    \n",
            "init\t [-4.25922917 -1.58209393]\t 49.922543556206975\t 24.454800313488693\t    \n",
            "1  \t [3.11029524 4.9495987 ]\t 36.97642606974743\t 24.454800313488693\t -16.220192105908154\n",
            "2  \t [ 5.12       -1.53068924]\t 51.08238892053614\t 24.454800313488693\t -16.878403904249524\n",
            "3  \t [-2.66822357  5.12      ]\t 50.9591753611455\t 24.454800313488693\t -18.665908273836425\n",
            "4  \t [0.30427927 1.55525954]\t 35.25942660827667\t 24.454800313488693\t -19.933565980313357\n",
            "5  \t [ 3.58500187 -5.12      ]\t 60.38431260813631\t 24.454800313488693\t -19.877021436064812\n",
            "6  \t [5.12       2.10915119]\t 35.63421445174545\t 24.454800313488693\t -21.413500600320724\n",
            "\u001b[1m\u001b[92m7\u001b[0m\t \u001b[1m\u001b[92m[ 1.97731291 -1.13147438]\u001b[0m\t \u001b[1m\u001b[92m8.513779106172661\u001b[0m\t \u001b[1m\u001b[92m8.513779106172661\u001b[0m\t \u001b[1m\u001b[92m-21.093474557329003\u001b[0m\n",
            "8  \t [-5.12        3.06048523]\t 39.0047851245649\t 8.513779106172661\t -20.379424036027146\n",
            "9  \t [-5.12 -5.12]\t 57.849427451571785\t 8.513779106172661\t -20.329690355596764\n",
            "10 \t [0.28558142 5.12      ]\t 41.22334041094037\t 8.513779106172661\t -21.139450379667476\n",
            "11 \t [-2.50576805  1.3927478 ]\t 46.026082929215214\t 8.513779106172661\t -21.16678010556861\n",
            "12 \t [-2.05617461 -5.12      ]\t 33.76901583105758\t 8.513779106172661\t -21.072244349120332\n",
            "13 \t [2.86747393 0.86458215]\t 15.64759336709931\t 8.513779106172661\t -20.716901104389667\n",
            "14 \t [5.12 5.12]\t 57.849427451571785\t 8.513779106172661\t -19.754149328885955\n",
            "15 \t [ 2.25494753 -2.8550507 ]\t 27.415327852220628\t 8.513779106172661\t -20.269826854759927\n",
            "16 \t [-5.12  5.12]\t 57.849427451571785\t 8.513779106172661\t -19.556948283727685\n",
            "17 \t [-0.07255586 -0.62704463]\t 18.39936435439219\t 8.513779106172661\t -19.981149299535684\n",
            "18 \t [2.29089612 2.85965317]\t 29.609782467324965\t 8.513779106172661\t -19.559729346682794\n",
            "19 \t [ 1.00655255 -5.12      ]\t 29.946335770697637\t 8.513779106172661\t -18.959087150984185\n",
            "20 \t [-1.13903557  3.29989656]\t 28.849894059426873\t 8.513779106172661\t -19.879237381396578\n"
          ]
        }
      ],
      "source": [
        "### Bayesian optimisation runs (x20): 'STP' Acquisition Function run number = 9 \n",
        "\n",
        "np.random.seed(run_num_9)\n",
        "surrogate_stp_9 = tStudentProcess(cov_func, nu = df, optimize=hyperOpt)\n",
        "\n",
        "stp_9 = GPGO_multi_STP(surrogate_stp_9, Acquisition_new(util_stp), f_syn_polarity, param, n_jobs = -1) # Define BayesOpt\n",
        "stp_9.run(max_iter = max_iter, init_evals = n_init) # run\n"
      ]
    },
    {
      "cell_type": "code",
      "execution_count": 41,
      "metadata": {
        "id": "RqwHOur5JLlC",
        "colab": {
          "base_uri": "https://localhost:8080/"
        },
        "outputId": "a1c70089-3ea3-4d3c-b62d-e2e7d9cf1023"
      },
      "outputs": [
        {
          "output_type": "stream",
          "name": "stdout",
          "text": [
            "Evaluation \t Proposed point \t  Current eval. \t  Best eval. \t Min. ApproxAcqFunc \n",
            "init\t [ 2.77832339 -4.90750004]\t 41.674330194390116\t 13.839458310244165\t    \n",
            "init\t [1.36855793 2.54775176]\t 44.69639719065837\t 13.839458310244165\t    \n",
            "init\t [-0.01528819 -2.81808235]\t 13.839458310244165\t 13.839458310244165\t    \n",
            "init\t [-3.09183626  2.66783449]\t 33.23221510904937\t 13.839458310244165\t    \n",
            "init\t [-3.38830503 -4.2154003 ]\t 54.73014366983691\t 13.839458310244165\t    \n",
            "1  \t [ 5.12       -0.56895878]\t 48.32435982022352\t 13.839458310244165\t -20.166092853867085\n",
            "2  \t [5.12 5.12]\t 57.849427451571785\t 13.839458310244165\t -21.212442074225052\n",
            "3  \t [-5.12       -0.60622128]\t 47.14650429686387\t 13.839458310244165\t -22.813395438580955\n",
            "4  \t [-5.12  5.12]\t 57.849427451571785\t 13.839458310244165\t -23.142687897080016\n",
            "5  \t [-0.83770616  5.12      ]\t 34.39043972230266\t 13.839458310244165\t -24.129087758019484\n",
            "\u001b[1m\u001b[92m6\u001b[0m\t \u001b[1m\u001b[92m[-1.2319285  -0.10213748]\u001b[0m\t \u001b[1m\u001b[92m12.38455013497624\u001b[0m\t \u001b[1m\u001b[92m12.38455013497624\u001b[0m\t \u001b[1m\u001b[92m-23.6746839220942\u001b[0m\n",
            "7  \t [ 1.89900326 -0.78565565]\t 13.94865037367025\t 12.38455013497624\t -22.642734941675034\n",
            "8  \t [-0.39136901 -5.12      ]\t 46.83755970536475\t 12.38455013497624\t -21.636283234596217\n",
            "9  \t [ 5.12      -3.5961912]\t 60.085809966319474\t 12.38455013497624\t -21.88862558386669\n",
            "10 \t [4.53082485 2.23161657]\t 54.169017216601546\t 12.38455013497624\t -22.675336095555775\n",
            "11 \t [2.14267617 5.12      ]\t 37.27199060476134\t 12.38455013497624\t -22.988477361260863\n",
            "12 \t [-2.45850464 -1.68574703]\t 42.476384922031414\t 12.38455013497624\t -22.286747839492854\n",
            "13 \t [-5.12       2.0311608]\t 33.241383271878775\t 12.38455013497624\t -21.96634192504734\n",
            "\u001b[1m\u001b[92m14\u001b[0m\t \u001b[1m\u001b[92m[-0.94211093  1.78953788]\u001b[0m\t \u001b[1m\u001b[92m12.285482925231708\u001b[0m\t \u001b[1m\u001b[92m12.285482925231708\u001b[0m\t \u001b[1m\u001b[92m-21.44256592053541\u001b[0m\n",
            "15 \t [ 2.37161572 -2.52843631]\t 48.777480333926334\t 12.285482925231708\t -20.7697805331281\n",
            "16 \t [-5.12 -5.12]\t 57.849427451571785\t 12.285482925231708\t -20.61230485802937\n",
            "17 \t [-5.12       -2.80853707]\t 43.21696697665178\t 12.285482925231708\t -23.42665860429603\n",
            "18 \t [0.48446622 0.09064067]\t 21.773689077466777\t 12.285482925231708\t -20.840308958384554\n",
            "19 \t [-2.83282098  5.12      ]\t 41.9774933046289\t 12.285482925231708\t -19.150720487388483\n",
            "20 \t [2.82056453 0.50594132]\t 33.91473322646087\t 12.285482925231708\t -19.770022829843\n"
          ]
        }
      ],
      "source": [
        "### Bayesian optimisation runs (x20): 'STP' Acquisition Function run number = 10 \n",
        "\n",
        "np.random.seed(run_num_10)\n",
        "surrogate_stp_10 = tStudentProcess(cov_func, nu = df, optimize=hyperOpt)\n",
        "\n",
        "stp_10 = GPGO_multi_STP(surrogate_stp_10, Acquisition_new(util_stp), f_syn_polarity, param, n_jobs = -1) # Define BayesOpt\n",
        "stp_10.run(max_iter = max_iter, init_evals = n_init) # run\n"
      ]
    },
    {
      "cell_type": "code",
      "execution_count": 42,
      "metadata": {
        "id": "iXLW3-5DJLlD",
        "colab": {
          "base_uri": "https://localhost:8080/"
        },
        "outputId": "8bc5d09e-dfe7-400e-b82c-a61f56583910"
      },
      "outputs": [
        {
          "output_type": "stream",
          "name": "stdout",
          "text": [
            "Evaluation \t Proposed point \t  Current eval. \t  Best eval. \t Min. ApproxAcqFunc \n",
            "init\t [-3.27403839 -4.92057353]\t 47.655641290890955\t 10.679755252484755\t    \n",
            "init\t [-0.37664229  2.30332343]\t 35.87889240695259\t 10.679755252484755\t    \n",
            "init\t [-0.81711509 -0.14922651]\t 10.679755252484755\t 10.679755252484755\t    \n",
            "init\t [-4.98912446 -0.12931474]\t 28.05462905574235\t 10.679755252484755\t    \n",
            "init\t [4.52410012 3.59214172]\t 71.62694632141611\t 10.679755252484755\t    \n",
            "1  \t [ 3.03550212 -4.46785095]\t 49.22040431745476\t 10.679755252484755\t -22.027122748758053\n",
            "2  \t [-5.12  5.12]\t 57.849427451571785\t 10.679755252484755\t -22.827172378296837\n",
            "3  \t [ 5.12       -0.75126026]\t 39.40992212508443\t 10.679755252484755\t -24.144839397179346\n",
            "4  \t [1.21059641 5.12      ]\t 37.93967203511711\t 10.679755252484755\t -23.819501208262327\n",
            "5  \t [-0.21477288 -3.12951005]\t 20.77672407531348\t 10.679755252484755\t -23.530764882147995\n",
            "6  \t [ 1.98006025 -0.29558095]\t 16.91133137957369\t 10.679755252484755\t -22.6222314941886\n",
            "7  \t [-1.93542362  5.12      ]\t 33.48249376308616\t 10.679755252484755\t -21.748168830939726\n",
            "8  \t [-3.48265582  2.27460755]\t 48.783395229980385\t 10.679755252484755\t -21.382485060926754\n",
            "9  \t [-2.81475526 -1.85756792]\t 21.16028757976452\t 10.679755252484755\t -21.672693162334845\n",
            "10 \t [-5.12       -2.93345493]\t 38.39131206855174\t 10.679755252484755\t -20.889048027215722\n",
            "11 \t [ 0.07195156 -5.12      ]\t 29.934508266318062\t 10.679755252484755\t -20.58053282531272\n",
            "12 \t [2.25811293 1.95697694]\t 19.80151279013638\t 10.679755252484755\t -20.180127751448204\n",
            "13 \t [ 2.01984563 -2.19755536]\t 15.750784941894151\t 10.679755252484755\t -19.14908510548361\n",
            "14 \t [ 5.12       -3.37420447]\t 57.34560494443596\t 10.679755252484755\t -19.12547463893245\n",
            "15 \t [-2.46396928  0.13390157]\t 29.16917923251041\t 10.679755252484755\t -18.4221651262701\n",
            "16 \t [5.12       1.30282422]\t 43.88050493266751\t 10.679755252484755\t -18.289652159928366\n",
            "17 \t [ 0.21467912 -1.23721496]\t 18.573239781994403\t 10.679755252484755\t -17.08220345447393\n",
            "18 \t [-5.12 -5.12]\t 57.849427451571785\t 10.679755252484755\t -17.032110914664475\n",
            "19 \t [3.18192022 5.12      ]\t 44.90101280682804\t 10.679755252484755\t -20.661212356827104\n",
            "20 \t [-1.84989071 -3.33875725]\t 33.98927651094553\t 10.679755252484755\t -17.087617295943627\n"
          ]
        }
      ],
      "source": [
        "### Bayesian optimisation runs (x20): 'STP' Acquisition Function run number = 11 \n",
        "\n",
        "np.random.seed(run_num_11)\n",
        "surrogate_stp_11 = tStudentProcess(cov_func, nu = df, optimize=hyperOpt)\n",
        "\n",
        "stp_11 = GPGO_multi_STP(surrogate_stp_11, Acquisition_new(util_stp), f_syn_polarity, param, n_jobs = -1) # Define BayesOpt\n",
        "stp_11.run(max_iter = max_iter, init_evals = n_init) # run\n"
      ]
    },
    {
      "cell_type": "code",
      "execution_count": 43,
      "metadata": {
        "id": "Sv5SygMbJLlD",
        "colab": {
          "base_uri": "https://localhost:8080/"
        },
        "outputId": "6a893c02-7b96-4e14-bc35-f16f5f267e18"
      },
      "outputs": [
        {
          "output_type": "stream",
          "name": "stdout",
          "text": [
            "Evaluation \t Proposed point \t  Current eval. \t  Best eval. \t Min. ApproxAcqFunc \n",
            "init\t [-3.54137249  2.45810889]\t 57.903242869085595\t 40.51116653209555\t    \n",
            "init\t [-2.42365424  0.34549139]\t 40.51116653209555\t 40.51116653209555\t    \n",
            "init\t [-4.97075238  4.28796936]\t 55.62655915398208\t 40.51116653209555\t    \n",
            "init\t [ 4.10332011 -4.77776458]\t 49.962803461970296\t 40.51116653209555\t    \n",
            "init\t [ 4.6791612  -3.71497655]\t 62.183891474990624\t 40.51116653209555\t    \n",
            "1  \t [5.12       3.15380098]\t 43.18819096116633\t 40.51116653209555\t -25.58536380060787\n",
            "2  \t [-5.12       -4.55821268]\t 69.0405348730723\t 40.51116653209555\t -25.339476101184164\n",
            "3  \t [0.62705866 5.12      ]\t 46.2969310725815\t 40.51116653209555\t -27.256734303791088\n",
            "4  \t [-0.45339239 -5.12      ]\t 48.70454519365059\t 40.51116653209555\t -27.069321669425\n",
            "\u001b[1m\u001b[92m5\u001b[0m\t \u001b[1m\u001b[92m[ 1.96981416 -0.06291409]\u001b[0m\t \u001b[1m\u001b[92m4.834640795711783\u001b[0m\t \u001b[1m\u001b[92m4.834640795711783\u001b[0m\t \u001b[1m\u001b[92m-27.046672806954035\u001b[0m\n",
            "6  \t [ 0.18864167 -1.87357606]\t 12.777887442066387\t 4.834640795711783\t -25.670455599904894\n",
            "7  \t [ 5.12       -0.26386019]\t 39.86409669128987\t 4.834640795711783\t -24.71285952341465\n",
            "8  \t [-5.12       -1.10784486]\t 32.36129612537311\t 4.834640795711783\t -24.43303276988675\n",
            "9  \t [0.5552629  1.90287255]\t 25.137505669935493\t 4.834640795711783\t -23.975200159753513\n",
            "10 \t [-2.43071028 -2.74634776]\t 42.74741746454307\t 4.834640795711783\t -23.19533955079041\n",
            "11 \t [-2.1411401  5.12     ]\t 37.19031329449528\t 4.834640795711783\t -22.9948094421607\n",
            "12 \t [3.42813943 5.12      ]\t 59.67473216350345\t 4.834640795711783\t -22.76597378116215\n",
            "13 \t [ 2.37673504 -2.07606706]\t 28.22722864175894\t 4.834640795711783\t -23.153814108132842\n",
            "14 \t [2.95852866 1.62025738]\t 28.99430470525919\t 4.834640795711783\t -22.5632385212752\n",
            "15 \t [ 1.86589503 -5.12      ]\t 35.751080567496\t 4.834640795711783\t -21.52313804786994\n",
            "\u001b[1m\u001b[92m16\u001b[0m\t \u001b[1m\u001b[92m[ 0.0723579  -0.14251473]\u001b[0m\t \u001b[1m\u001b[92m4.789641545188147\u001b[0m\t \u001b[1m\u001b[92m4.789641545188147\u001b[0m\t \u001b[1m\u001b[92m-21.00662228578508\u001b[0m\n",
            "17 \t [-2.76002238 -5.12      ]\t 45.913128899674206\t 4.789641545188147\t -20.182191932669742\n",
            "18 \t [-1.25300762  1.68917774]\t 28.341544926264998\t 4.789641545188147\t -23.242330419481743\n",
            "19 \t [-5.12        0.97630616]\t 29.98849849200501\t 4.789641545188147\t -19.565076114502446\n",
            "20 \t [1.98354677 3.41838759]\t 34.38703091202474\t 4.789641545188147\t -22.342270120023525\n"
          ]
        }
      ],
      "source": [
        "### Bayesian optimisation runs (x20): 'STP' Acquisition Function run number = 12\n",
        "\n",
        "np.random.seed(run_num_12)\n",
        "surrogate_stp_12 = tStudentProcess(cov_func, nu = df, optimize=hyperOpt)\n",
        "\n",
        "stp_12 = GPGO_multi_STP(surrogate_stp_12, Acquisition_new(util_stp), f_syn_polarity, param, n_jobs = -1) # Define BayesOpt\n",
        "stp_12.run(max_iter = max_iter, init_evals = n_init) # run\n"
      ]
    },
    {
      "cell_type": "code",
      "execution_count": 44,
      "metadata": {
        "id": "NSskozWHJLlE",
        "colab": {
          "base_uri": "https://localhost:8080/"
        },
        "outputId": "cdd47732-2f81-4539-c661-aff16527dfb1"
      },
      "outputs": [
        {
          "output_type": "stream",
          "name": "stdout",
          "text": [
            "Evaluation \t Proposed point \t  Current eval. \t  Best eval. \t Min. ApproxAcqFunc \n",
            "init\t [ 2.84367268 -2.68757791]\t 33.58019830007169\t 17.435826639425656\t    \n",
            "init\t [3.32061217 4.76927179]\t 56.857057997503354\t 17.435826639425656\t    \n",
            "init\t [ 4.83943541 -0.47667971]\t 48.211919361679726\t 17.435826639425656\t    \n",
            "init\t [1.11659482 2.82139151]\t 17.435826639425656\t 17.435826639425656\t    \n",
            "init\t [1.45012065 2.27346667]\t 38.25352329493884\t 17.435826639425656\t    \n",
            "1  \t [-4.10876704 -2.60547476]\t 43.79941556238635\t 17.435826639425656\t -20.28104909624227\n",
            "2  \t [-4.86899536  5.12      ]\t 55.832509686098035\t 17.435826639425656\t -20.877349268264844\n",
            "3  \t [-0.62139712 -5.12      ]\t 46.54016237374039\t 17.435826639425656\t -22.354588596967545\n",
            "4  \t [-2.71929057  1.3816919 ]\t 38.58323714182029\t 17.435826639425656\t -22.74311201660965\n",
            "5  \t [-0.99650648  5.12      ]\t 29.920147900297124\t 17.435826639425656\t -22.58059118056724\n",
            "6  \t [ 5.12 -5.12]\t 57.849427451571785\t 17.435826639425656\t -22.08368319958781\n",
            "7  \t [-0.38881769 -1.29412631]\t 32.2206636777909\t 17.435826639425656\t -23.03592758032835\n",
            "8  \t [-5.12 -5.12]\t 57.849427451571785\t 17.435826639425656\t -22.43829745170146\n",
            "9  \t [5.12       2.46287916]\t 54.71972049278163\t 17.435826639425656\t -23.102863711247153\n",
            "10 \t [-5.12        0.23444646]\t 38.003975806971\t 17.435826639425656\t -23.540574495500685\n",
            "11 \t [ 2.12797468 -5.12      ]\t 36.51531107732956\t 17.435826639425656\t -22.976085556249927\n",
            "\u001b[1m\u001b[92m12\u001b[0m\t \u001b[1m\u001b[92m[ 2.01165407 -0.19062719]\u001b[0m\t \u001b[1m\u001b[92m10.465311186061868\u001b[0m\t \u001b[1m\u001b[92m10.465311186061868\u001b[0m\t \u001b[1m\u001b[92m-22.40948632383724\u001b[0m\n",
            "13 \t [-5.12        2.64220589]\t 52.17280371234891\t 10.465311186061868\t -21.497654697645263\n",
            "14 \t [-0.96266288  2.82850108]\t 14.466261255098953\t 10.465311186061868\t -21.365295115748708\n",
            "15 \t [-1.83328653 -3.06830064]\t 18.68473924239781\t 10.465311186061868\t -20.612690582580452\n",
            "16 \t [-0.34464343  0.81560024]\t 22.38020974664488\t 10.465311186061868\t -19.75872626062329\n",
            "17 \t [1.0091815 5.12     ]\t 29.959796540912933\t 10.465311186061868\t -19.60507158569556\n",
            "18 \t [ 5.12       -2.76988921]\t 45.35057412212334\t 10.465311186061868\t -21.602814777006273\n",
            "19 \t [-2.70732869  3.90356899]\t 36.9966572782013\t 10.465311186061868\t -19.09285359437022\n",
            "20 \t [-2.64642604 -0.86101217]\t 27.37982752729662\t 10.465311186061868\t -21.910823148238688\n"
          ]
        }
      ],
      "source": [
        "### Bayesian optimisation runs (x20): 'STP' Acquisition Function run number = 13 \n",
        "\n",
        "np.random.seed(run_num_13)\n",
        "surrogate_stp_13 = tStudentProcess(cov_func, nu = df, optimize=hyperOpt)\n",
        "\n",
        "stp_13 = GPGO_multi_STP(surrogate_stp_13, Acquisition_new(util_stp), f_syn_polarity, param, n_jobs = -1) # Define BayesOpt\n",
        "stp_13.run(max_iter = max_iter, init_evals = n_init) # run\n"
      ]
    },
    {
      "cell_type": "code",
      "execution_count": 45,
      "metadata": {
        "id": "aM5FQ3ibJLlE",
        "colab": {
          "base_uri": "https://localhost:8080/"
        },
        "outputId": "2cc7182f-f407-46b5-ecc8-574b24560677"
      },
      "outputs": [
        {
          "output_type": "stream",
          "name": "stdout",
          "text": [
            "Evaluation \t Proposed point \t  Current eval. \t  Best eval. \t Min. ApproxAcqFunc \n",
            "init\t [0.14277984 2.79721013]\t 18.683085263052178\t 10.423838604848608\t    \n",
            "init\t [ 3.7931795  -5.03759925]\t 47.36348784446708\t 10.423838604848608\t    \n",
            "init\t [-1.94830412  4.68586229]\t 40.19779334078636\t 10.423838604848608\t    \n",
            "init\t [ 0.13431513 -1.86076749]\t 10.423838604848608\t 10.423838604848608\t    \n",
            "init\t [ 0.40140736 -2.85434939]\t 30.353548735049138\t 10.423838604848608\t    \n",
            "1  \t [-4.71265632 -5.12      ]\t 63.45874543051727\t 10.423838604848608\t -16.107786530539233\n",
            "2  \t [5.12 5.12]\t 57.849427451571785\t 10.423838604848608\t -19.931416277165436\n",
            "3  \t [-5.12        0.35628846]\t 45.24449218978817\t 10.423838604848608\t -21.78892286294519\n",
            "4  \t [ 5.12      -0.0638437]\t 29.722632282670638\t 10.423838604848608\t -22.16171693467924\n",
            "5  \t [-5.12  5.12]\t 57.849427451571785\t 10.423838604848608\t -21.593973389041132\n",
            "6  \t [-1.66669145  0.07860839]\t 18.97783633316541\t 10.423838604848608\t -22.69007628137382\n",
            "7  \t [1.92611222 0.25238608]\t 14.981949688659746\t 10.423838604848608\t -21.888991802789164\n",
            "8  \t [1.75951661 5.12      ]\t 41.42302227434074\t 10.423838604848608\t -21.116081729002016\n",
            "9  \t [-2.89739646 -2.48834026]\t 36.566981323810246\t 10.423838604848608\t -21.137457697457663\n",
            "10 \t [-1.23762223 -5.12      ]\t 39.679487909086504\t 10.423838604848608\t -21.011066113635344\n",
            "11 \t [3.50583245 2.42930278]\t 57.21519035010955\t 10.423838604848608\t -20.922091035115606\n",
            "12 \t [ 3.29082081 -2.14666897]\t 31.928631724824562\t 10.423838604848608\t -21.508271897715424\n",
            "13 \t [-3.18368785  2.30789042]\t 34.97290386564202\t 10.423838604848608\t -21.03968162840068\n",
            "14 \t [ 1.30124869 -5.12      ]\t 43.7826533770333\t 10.423838604848608\t -20.298615433567416\n",
            "15 \t [-5.12       -2.28918752]\t 46.602514246871465\t 10.423838604848608\t -20.309824874520746\n",
            "16 \t [ 5.12       -2.99053395]\t 37.88568934318187\t 10.423838604848608\t -20.069626530658795\n",
            "17 \t [0.17368198 0.4865769 ]\t 25.617841791079414\t 10.423838604848608\t -19.561027712382447\n",
            "18 \t [-5.12        2.86449966]\t 40.5405673804234\t 10.423838604848608\t -21.727435047978542\n",
            "19 \t [-3.42699954 -0.60854536]\t 48.84411994442868\t 10.423838604848608\t -21.76925946466312\n",
            "20 \t [-1.48141623  2.71587664]\t 41.630131879582294\t 10.423838604848608\t -22.00641600837355\n"
          ]
        }
      ],
      "source": [
        "### Bayesian optimisation runs (x20): 'STP' Acquisition Function run number = 14 \n",
        "\n",
        "np.random.seed(run_num_14)\n",
        "surrogate_stp_14 = tStudentProcess(cov_func, nu = df, optimize=hyperOpt)\n",
        "\n",
        "stp_14 = GPGO_multi_STP(surrogate_stp_14, Acquisition_new(util_stp), f_syn_polarity, param, n_jobs = -1) # Define BayesOpt\n",
        "stp_14.run(max_iter = max_iter, init_evals = n_init) # run\n"
      ]
    },
    {
      "cell_type": "code",
      "execution_count": 46,
      "metadata": {
        "id": "XmPTh2j_JLlF",
        "colab": {
          "base_uri": "https://localhost:8080/"
        },
        "outputId": "af33f6aa-1e4f-4618-c4fb-b85b967d0e67"
      },
      "outputs": [
        {
          "output_type": "stream",
          "name": "stdout",
          "text": [
            "Evaluation \t Proposed point \t  Current eval. \t  Best eval. \t Min. ApproxAcqFunc \n",
            "init\t [ 3.57189322 -3.28810573]\t 54.938487770767075\t 7.990765314336182\t    \n",
            "init\t [-4.56332069 -1.41784631]\t 60.750198753157726\t 7.990765314336182\t    \n",
            "init\t [-2.29989449  0.3072023 ]\t 31.984997246800887\t 7.990765314336182\t    \n",
            "init\t [-1.9873903  -2.00218256]\t 7.990765314336182\t 7.990765314336182\t    \n",
            "init\t [-3.97576933 -2.5610341 ]\t 41.754957769694336\t 7.990765314336182\t    \n",
            "1  \t [4.02234348 3.94993692]\t 32.370291610486674\t 7.990765314336182\t -20.838724785528175\n",
            "2  \t [-5.12        5.07072939]\t 55.608347879327546\t 7.990765314336182\t -20.43812295496221\n",
            "3  \t [-0.40553392  5.12      ]\t 47.37878697281484\t 7.990765314336182\t -21.976706372257205\n",
            "4  \t [-0.33066276 -5.12      ]\t 43.888038253833685\t 7.990765314336182\t -22.471523092050024\n",
            "5  \t [1.78106216 0.55456205]\t 30.95848813293346\t 7.990765314336182\t -22.647220175302547\n",
            "6  \t [5.12       0.26624152]\t 40.0143126056433\t 7.990765314336182\t -22.162230560835063\n",
            "7  \t [-5.12 -5.12]\t 57.849427451571785\t 7.990765314336182\t -22.02868121676912\n",
            "8  \t [-5.12        1.85073168]\t 36.434938515272286\t 7.990765314336182\t -22.883351426214013\n",
            "9  \t [ 0.42025521 -2.06477057]\t 24.027410629886297\t 7.990765314336182\t -22.5474037555436\n",
            "10 \t [-2.44299323  3.14506558]\t 39.099188910681434\t 7.990765314336182\t -21.81010141112394\n",
            "11 \t [1.36933035 3.07365225]\t 29.188952531283483\t 7.990765314336182\t -21.482141904195856\n",
            "12 \t [ 5.12 -5.12]\t 57.849427451571785\t 7.990765314336182\t -21.124083747673716\n",
            "13 \t [-2.63908524 -5.12      ]\t 52.307904884787405\t 7.990765314336182\t -20.97786421468648\n",
            "14 \t [ 2.03802225 -5.12      ]\t 33.36226182899869\t 7.990765314336182\t -21.251919226626665\n",
            "15 \t [2.21797023 5.12      ]\t 41.8451732457861\t 7.990765314336182\t -20.748941333521927\n",
            "16 \t [-0.37826597  1.5096988 ]\t 39.6183855842349\t 7.990765314336182\t -20.667435475138547\n",
            "17 \t [5.12       2.42099699]\t 53.579013027805765\t 7.990765314336182\t -20.044658481834684\n",
            "18 \t [ 3.08444423 -1.0337435 ]\t 12.181193035246928\t 7.990765314336182\t -20.19493677658926\n",
            "19 \t [5.12 5.12]\t 57.849427451571785\t 7.990765314336182\t -17.578522267916487\n",
            "20 \t [ 5.12       -1.87431101]\t 35.39736465997033\t 7.990765314336182\t -20.35783776948964\n"
          ]
        }
      ],
      "source": [
        "### Bayesian optimisation runs (x20): 'STP' Acquisition Function run number = 15 \n",
        "\n",
        "np.random.seed(run_num_15)\n",
        "surrogate_stp_15 = tStudentProcess(cov_func, nu = df, optimize=hyperOpt)\n",
        "\n",
        "stp_15 = GPGO_multi_STP(surrogate_stp_15, Acquisition_new(util_stp), f_syn_polarity, param, n_jobs = -1) # Define BayesOpt\n",
        "stp_15.run(max_iter = max_iter, init_evals = n_init) # run\n"
      ]
    },
    {
      "cell_type": "code",
      "execution_count": 47,
      "metadata": {
        "id": "6aUP_b73JLlG",
        "colab": {
          "base_uri": "https://localhost:8080/"
        },
        "outputId": "a5ae9ecd-c88f-4333-fbf5-f3ba7b7ea749"
      },
      "outputs": [
        {
          "output_type": "stream",
          "name": "stdout",
          "text": [
            "Evaluation \t Proposed point \t  Current eval. \t  Best eval. \t Min. ApproxAcqFunc \n",
            "init\t [-2.83349935  0.23719262]\t 22.27210456874814\t 22.27210456874814\t    \n",
            "init\t [ 0.51918292 -4.65303603]\t 57.57021076017139\t 22.27210456874814\t    \n",
            "init\t [-1.42613673 -2.83565116]\t 33.89145899403749\t 22.27210456874814\t    \n",
            "init\t [ 1.9325559  -3.44339021]\t 35.85029586225333\t 22.27210456874814\t    \n",
            "init\t [-4.39987336  4.51595121]\t 77.78800881964571\t 22.27210456874814\t    \n",
            "1  \t [2.57149196 4.50237179]\t 65.89077218553832\t 22.27210456874814\t -24.562114042346174\n",
            "2  \t [5.12       0.18193806]\t 34.81051778742929\t 22.27210456874814\t -26.563736870410843\n",
            "3  \t [-5.12 -5.12]\t 57.849427451571785\t 22.27210456874814\t -25.757345547621124\n",
            "\u001b[1m\u001b[92m4\u001b[0m\t \u001b[1m\u001b[92m[1.04281874 0.62517362]\u001b[0m\t \u001b[1m\u001b[92m18.901392725485252\u001b[0m\t \u001b[1m\u001b[92m18.901392725485252\u001b[0m\t \u001b[1m\u001b[92m-26.50006864518259\u001b[0m\n",
            "5  \t [ 5.12 -5.12]\t 57.849427451571785\t 18.901392725485252\t -25.351918246096893\n",
            "6  \t [-0.91788827  3.46846713]\t 33.978776658751684\t 18.901392725485252\t -25.95902375725217\n",
            "7  \t [-5.12       -1.65660824]\t 47.20603741626422\t 18.901392725485252\t -25.383454960979545\n",
            "8  \t [5.12       3.12223898]\t 41.48042357209422\t 18.901392725485252\t -25.162390650710805\n",
            "9  \t [-5.12        1.50543485]\t 51.18521789581939\t 18.901392725485252\t -24.89687854328884\n",
            "10 \t [ 4.65397984 -2.3283025 ]\t 57.47805358527236\t 18.901392725485252\t -24.7919583383665\n",
            "11 \t [-2.37298426 -5.12      ]\t 51.53671393004191\t 18.901392725485252\t -24.958343506101624\n",
            "12 \t [2.91454215 1.54102808]\t 31.946147904482793\t 18.901392725485252\t -24.65248545145733\n",
            "13 \t [ 0.46550876 -1.28924568]\t 34.08590840121248\t 18.901392725485252\t -24.167879958170907\n",
            "\u001b[1m\u001b[92m14\u001b[0m\t \u001b[1m\u001b[92m[-0.96204868  1.10719327]\u001b[0m\t \u001b[1m\u001b[92m4.618034889540296\u001b[0m\t \u001b[1m\u001b[92m4.618034889540296\u001b[0m\t \u001b[1m\u001b[92m-23.335452929250252\u001b[0m\n",
            "15 \t [5.12 5.12]\t 57.849427451571785\t 4.618034889540296\t -22.61620897465919\n",
            "16 \t [-1.80909401  5.12      ]\t 38.56927638197427\t 4.618034889540296\t -22.751301281574804\n",
            "17 \t [ 2.70438113 -0.84910901]\t 25.02942397402881\t 4.618034889540296\t -22.133256421218555\n",
            "18 \t [-3.02180258  2.59726305]\t 34.160799119591026\t 4.618034889540296\t -24.723229251871604\n",
            "19 \t [0.82098815 2.498363  ]\t 32.601421269101536\t 4.618034889540296\t -20.02361439356361\n",
            "20 \t [0.4250969 5.12     ]\t 48.01824865748442\t 4.618034889540296\t -23.0898242567768\n"
          ]
        }
      ],
      "source": [
        "### Bayesian optimisation runs (x20): 'STP' Acquisition Function run number = 16 \n",
        "\n",
        "np.random.seed(run_num_16)\n",
        "surrogate_stp_16 = tStudentProcess(cov_func, nu = df, optimize=hyperOpt)\n",
        "\n",
        "stp_16 = GPGO_multi_STP(surrogate_stp_16, Acquisition_new(util_stp), f_syn_polarity, param, n_jobs = -1) # Define BayesOpt\n",
        "stp_16.run(max_iter = max_iter, init_evals = n_init) # run\n"
      ]
    },
    {
      "cell_type": "code",
      "execution_count": 48,
      "metadata": {
        "id": "TV8_B_7cJLlH",
        "colab": {
          "base_uri": "https://localhost:8080/"
        },
        "outputId": "5525f5f6-36fe-4ecf-90ec-8896a738e1c4"
      },
      "outputs": [
        {
          "output_type": "stream",
          "name": "stdout",
          "text": [
            "Evaluation \t Proposed point \t  Current eval. \t  Best eval. \t Min. ApproxAcqFunc \n",
            "init\t [-2.10263037  0.31320838]\t 20.395145364684023\t 20.395145364684023\t    \n",
            "init\t [-3.15882714 -4.42470033]\t 53.03732051200137\t 20.395145364684023\t    \n",
            "init\t [2.93873111 1.60085526]\t 29.989224812583537\t 20.395145364684023\t    \n",
            "init\t [1.40821398 0.77417363]\t 29.451989415882437\t 20.395145364684023\t    \n",
            "init\t [-4.71999574 -1.45598869]\t 55.89242173757483\t 20.395145364684023\t    \n",
            "1  \t [ 4.96008736 -4.44720822]\t 64.14783177084814\t 20.395145364684023\t -20.04218100529065\n",
            "2  \t [-5.12        4.84467889]\t 56.79149209490958\t 20.395145364684023\t -22.868964017279033\n",
            "3  \t [-0.25166648  5.12      ]\t 39.09275594104926\t 20.395145364684023\t -24.086219926605118\n",
            "4  \t [5.12 5.12]\t 57.849427451571785\t 20.395145364684023\t -23.81702285288551\n",
            "5  \t [ 0.87311321 -3.37293667]\t 32.13108852329271\t 20.395145364684023\t -24.739093327259248\n",
            "6  \t [ 5.12       -0.83011426]\t 34.78997678324947\t 20.395145364684023\t -24.132268690207944\n",
            "7  \t [-5.12        1.69366627]\t 45.25932485289416\t 20.395145364684023\t -23.5989200630827\n",
            "8  \t [-2.25269954  3.06634374]\t 25.503039483825727\t 20.395145364684023\t -23.487512123532163\n",
            "9  \t [2.32756867 4.36549026]\t 55.79438563433074\t 20.395145364684023\t -22.687716689873145\n",
            "10 \t [-1.35308393 -1.98279648]\t 21.85418302643982\t 20.395145364684023\t -23.106216842665685\n",
            "11 \t [5.12       2.17479319]\t 39.102960155575886\t 20.395145364684023\t -22.389150439913717\n",
            "12 \t [ 2.71130569 -1.7033348 ]\t 35.55011208150442\t 20.395145364684023\t -22.208582420884433\n",
            "13 \t [-0.54700421 -5.12      ]\t 48.790970929724125\t 20.395145364684023\t -21.872197328282663\n",
            "14 \t [ 2.39829811 -5.12      ]\t 52.70340238387284\t 20.395145364684023\t -21.88073800629996\n",
            "15 \t [-0.09927567  2.3937546 ]\t 25.476428046798702\t 20.395145364684023\t -21.779700111261405\n",
            "16 \t [-5.12 -5.12]\t 57.849427451571785\t 20.395145364684023\t -21.375966297924002\n",
            "\u001b[1m\u001b[92m17\u001b[0m\t \u001b[1m\u001b[92m[ 0.17009748 -0.80741475]\u001b[0m\t \u001b[1m\u001b[92m12.338945500842495\u001b[0m\t \u001b[1m\u001b[92m12.338945500842495\u001b[0m\t \u001b[1m\u001b[92m-20.932771732677796\u001b[0m\n",
            "18 \t [-2.70114991  5.12      ]\t 49.24229941996007\t 12.338945500842495\t -23.0342239672426\n",
            "19 \t [-3.12351059  1.49114216]\t 34.82740991397944\t 12.338945500842495\t -18.69282802420836\n",
            "20 \t [-3.68825398 -0.19808141]\t 34.22088630935091\t 12.338945500842495\t -23.288675236094587\n"
          ]
        }
      ],
      "source": [
        "### Bayesian optimisation runs (x20): 'STP' Acquisition Function run number = 17 \n",
        "\n",
        "np.random.seed(run_num_17)\n",
        "surrogate_stp_17 = tStudentProcess(cov_func, nu = df, optimize=hyperOpt)\n",
        "\n",
        "stp_17 = GPGO_multi_STP(surrogate_stp_17, Acquisition_new(util_stp), f_syn_polarity, param, n_jobs = -1) # Define BayesOpt\n",
        "stp_17.run(max_iter = max_iter, init_evals = n_init) # run\n"
      ]
    },
    {
      "cell_type": "code",
      "execution_count": 49,
      "metadata": {
        "id": "57ABzGR1JLlI",
        "colab": {
          "base_uri": "https://localhost:8080/"
        },
        "outputId": "3c861727-7ae4-4b17-965f-43fbe585bfff"
      },
      "outputs": [
        {
          "output_type": "stream",
          "name": "stdout",
          "text": [
            "Evaluation \t Proposed point \t  Current eval. \t  Best eval. \t Min. ApproxAcqFunc \n",
            "init\t [1.53983224 0.05584255]\t 22.67190580753611\t 22.67190580753611\t    \n",
            "init\t [ 3.87687906 -3.25795609]\t 38.990099416711985\t 22.67190580753611\t    \n",
            "init\t [3.60686662 2.56139557]\t 56.66448698782129\t 22.67190580753611\t    \n",
            "init\t [1.70088108 4.99604939]\t 40.894059318256296\t 22.67190580753611\t    \n",
            "init\t [-2.48864335 -4.83014733]\t 54.6725749848372\t 22.67190580753611\t    \n",
            "1  \t [-5.12        2.93383941]\t 38.3837857926325\t 22.67190580753611\t -22.377416780752057\n",
            "2  \t [-5.12       -1.37707184]\t 47.98355623109579\t 22.67190580753611\t -22.205882704211653\n",
            "3  \t [-1.35215233  2.41768156]\t 42.352180573195184\t 22.67190580753611\t -22.76598310231805\n",
            "4  \t [ 1.04785641 -5.12      ]\t 30.47139536039345\t 22.67190580753611\t -22.786922460075758\n",
            "5  \t [-1.45596366 -1.34767085]\t 39.31453219916528\t 22.67190580753611\t -22.242436179486997\n",
            "6  \t [ 5.12       -0.35123804]\t 44.98868812677667\t 22.67190580753611\t -22.10638376785207\n",
            "7  \t [-2.80801234  5.12      ]\t 43.24480399333933\t 22.67190580753611\t -22.299247506815142\n",
            "8  \t [5.12 5.12]\t 57.849427451571785\t 22.67190580753611\t -22.35243659985449\n",
            "9  \t [-5.12 -5.12]\t 57.849427451571785\t 22.67190580753611\t -22.900466155728363\n",
            "10 \t [ 1.10218248 -2.4844814 ]\t 29.331145067839152\t 22.67190580753611\t -23.163242665600375\n",
            "11 \t [ 5.12 -5.12]\t 57.849427451571785\t 22.67190580753611\t -22.703826888569928\n",
            "12 \t [-3.46015237  0.75273448]\t 42.05566779421911\t 22.67190580753611\t -23.054240099069368\n",
            "13 \t [-5.12  5.12]\t 57.849427451571785\t 22.67190580753611\t -22.3077520369902\n",
            "14 \t [1.00230462 2.37547879]\t 23.74087046277156\t 22.67190580753611\t -22.60920075777578\n",
            "15 \t [-0.55412504  4.69765894]\t 55.032066218464756\t 22.67190580753611\t -24.165193165345425\n",
            "16 \t [-3.3259168  -2.68062195]\t 47.06101290279643\t 22.67190580753611\t -21.28021292749765\n",
            "\u001b[1m\u001b[92m17\u001b[0m\t \u001b[1m\u001b[92m[ 3.00076561 -1.12122555]\u001b[0m\t \u001b[1m\u001b[92m13.02509836815112\u001b[0m\t \u001b[1m\u001b[92m13.02509836815112\u001b[0m\t \u001b[1m\u001b[92m-21.07933668640484\u001b[0m\n",
            "18 \t [-0.76670079 -3.50433525]\t 41.817068847489445\t 13.02509836815112\t -24.070318511324686\n",
            "19 \t [-0.35140227  0.42970704]\t 35.297453030968526\t 13.02509836815112\t -20.268732938482618\n",
            "20 \t [ 2.99055167 -5.12      ]\t 37.88572923039736\t 13.02509836815112\t -23.772345049970863\n"
          ]
        }
      ],
      "source": [
        "### Bayesian optimisation runs (x20): 'STP' Acquisition Function run number = 18 \n",
        "\n",
        "np.random.seed(run_num_18)\n",
        "surrogate_stp_18 = tStudentProcess(cov_func, nu = df, optimize=hyperOpt)\n",
        "\n",
        "stp_18 = GPGO_multi_STP(surrogate_stp_18, Acquisition_new(util_stp), f_syn_polarity, param, n_jobs = -1) # Define BayesOpt\n",
        "stp_18.run(max_iter = max_iter, init_evals = n_init) # run\n"
      ]
    },
    {
      "cell_type": "code",
      "execution_count": 50,
      "metadata": {
        "id": "x2CyIorrJLlJ",
        "colab": {
          "base_uri": "https://localhost:8080/"
        },
        "outputId": "b84fa001-e512-4694-9aa4-1321b2432bf2"
      },
      "outputs": [
        {
          "output_type": "stream",
          "name": "stdout",
          "text": [
            "Evaluation \t Proposed point \t  Current eval. \t  Best eval. \t Min. ApproxAcqFunc \n",
            "init\t [-4.12125592  2.6751971 ]\t 41.43485596167127\t 25.867003842388073\t    \n",
            "init\t [-2.59135515 -3.70553152]\t 51.60126035043229\t 25.867003842388073\t    \n",
            "init\t [-1.72598719 -4.27008445]\t 43.97430127029199\t 25.867003842388073\t    \n",
            "init\t [1.76104531 3.13952049]\t 25.867003842388073\t 25.867003842388073\t    \n",
            "init\t [4.9432772  1.38916592]\t 44.66580306903559\t 25.867003842388073\t    \n",
            "1  \t [ 4.73730587 -5.12      ]\t 62.16353074996998\t 25.867003842388073\t -20.076752102273044\n",
            "2  \t [ 1.58908083 -1.47144503]\t 43.00389274319619\t 25.867003842388073\t -22.65425751639521\n",
            "3  \t [5.12 5.12]\t 57.849427451571785\t 25.867003842388073\t -22.77642255156076\n",
            "4  \t [-1.28683221  5.12      ]\t 42.87428498664837\t 25.867003842388073\t -23.952627385630123\n",
            "5  \t [-5.12      -0.9783881]\t 29.974012146498225\t 25.867003842388073\t -23.91714385989046\n",
            "6  \t [-1.40429182  0.40754384]\t 38.74342644939308\t 25.867003842388073\t -23.312185036808614\n",
            "7  \t [ 1.33230722 -5.12      ]\t 45.6438177476713\t 25.867003842388073\t -23.08083142873455\n",
            "8  \t [ 5.12       -1.82504136]\t 37.71326939893139\t 25.867003842388073\t -23.195778782500742\n",
            "9  \t [-5.12 -5.12]\t 57.849427451571785\t 25.867003842388073\t -22.980353086074082\n",
            "10 \t [-5.12  5.12]\t 57.849427451571785\t 25.867003842388073\t -23.498987863635843\n",
            "11 \t [2.08119716 5.12      ]\t 34.52951338273401\t 25.867003842388073\t -23.29886074779189\n",
            "\u001b[1m\u001b[92m12\u001b[0m\t \u001b[1m\u001b[92m[2.1030278  0.94286869]\u001b[0m\t \u001b[1m\u001b[92m7.972232485358358\u001b[0m\t \u001b[1m\u001b[92m7.972232485358358\u001b[0m\t \u001b[1m\u001b[92m-22.833162116300933\u001b[0m\n",
            "13 \t [-0.63211071  2.68460504]\t 38.34910605239872\t 7.972232485358358\t -22.065069461625065\n",
            "14 \t [-0.79809075 -1.90775668]\t 12.933706978464583\t 7.972232485358358\t -21.39639227657965\n",
            "15 \t [-3.00681138 -1.23435021]\t 19.591970121597342\t 7.972232485358358\t -20.55711968770365\n",
            "16 \t [ 3.05336721 -3.22487555]\t 28.707742553962742\t 7.972232485358358\t -19.98734759997678\n",
            "17 \t [-5.12        0.94455258]\t 30.41764544240501\t 7.972232485358358\t -19.286479751536827\n",
            "18 \t [-5.12       -2.84071517]\t 41.59822230717891\t 7.972232485358358\t -18.916076319373513\n",
            "19 \t [ 3.39533647 -0.19364111]\t 36.01270789989947\t 7.972232485358358\t -18.680413248063648\n",
            "20 \t [3.73372485 3.1769042 ]\t 40.621259541716746\t 7.972232485358358\t -19.315222922249436\n"
          ]
        }
      ],
      "source": [
        "### Bayesian optimisation runs (x20): 'STP' Acquisition Function run number = 19 \n",
        "\n",
        "np.random.seed(run_num_19)\n",
        "surrogate_stp_19 = tStudentProcess(cov_func, nu = df, optimize=hyperOpt)\n",
        "\n",
        "stp_19 = GPGO_multi_STP(surrogate_stp_19, Acquisition_new(util_stp), f_syn_polarity, param, n_jobs = -1) # Define BayesOpt\n",
        "stp_19.run(max_iter = max_iter, init_evals = n_init) # run\n"
      ]
    },
    {
      "cell_type": "code",
      "execution_count": 51,
      "metadata": {
        "id": "4O6_IplWJLlJ",
        "colab": {
          "base_uri": "https://localhost:8080/"
        },
        "outputId": "2b9f3126-92f8-43aa-bda1-457b6d82c746"
      },
      "outputs": [
        {
          "output_type": "stream",
          "name": "stdout",
          "text": [
            "Evaluation \t Proposed point \t  Current eval. \t  Best eval. \t Min. ApproxAcqFunc \n",
            "init\t [0.9024594  4.07258857]\t 20.24255447774017\t 17.388691338534382\t    \n",
            "init\t [4.00927467 3.23417577]\t 35.55852254546393\t 17.388691338534382\t    \n",
            "init\t [-4.75249064  1.96359764]\t 36.54582989269194\t 17.388691338534382\t    \n",
            "init\t [-1.24230715  0.18955208]\t 17.388691338534382\t 17.388691338534382\t    \n",
            "init\t [ 1.61742301 -3.13497377]\t 33.22932870179905\t 17.388691338534382\t    \n",
            "1  \t [-4.87904838 -3.98922798]\t 42.49332305798536\t 17.388691338534382\t -14.957074443856806\n",
            "2  \t [ 5.12       -0.92643146]\t 30.83245214836478\t 17.388691338534382\t -16.434253028691735\n",
            "3  \t [ 5.12 -5.12]\t 57.849427451571785\t 17.388691338534382\t -16.503954169691625\n",
            "4  \t [-2.7037672  5.12     ]\t 49.0992806463018\t 17.388691338534382\t -18.83524424726938\n",
            "5  \t [-1.36264737 -5.12      ]\t 47.2830402664146\t 17.388691338534382\t -19.7965914869068\n",
            "6  \t [1.91306258 0.46597355]\t 25.104450841908065\t 17.388691338534382\t -20.3814824699662\n",
            "7  \t [-3.93918311 -1.05737438]\t 17.999228936098746\t 17.388691338534382\t -19.778581763643043\n",
            "8  \t [-1.38011762 -2.26578132]\t 35.32317827198218\t 17.388691338534382\t -18.834451272834226\n",
            "9  \t [-1.35305911  2.54845705]\t 43.8977362032904\t 17.388691338534382\t -18.769974924343032\n",
            "10 \t [-5.12  5.12]\t 57.849427451571785\t 17.388691338534382\t -18.95308239814979\n",
            "11 \t [5.12 5.12]\t 57.849427451571785\t 17.388691338534382\t -19.752243366728397\n",
            "12 \t [ 2.26834758 -5.12      ]\t 45.220375174674665\t 17.388691338534382\t -20.124480676530514\n",
            "13 \t [5.12       1.32198107]\t 45.04243556435878\t 17.388691338534382\t -20.09756284422016\n",
            "14 \t [2.42738571 5.12      ]\t 53.79402921053034\t 17.388691338534382\t -19.8857898761824\n",
            "15 \t [ 3.92170328 -2.68535589]\t 37.72771821869339\t 17.388691338534382\t -20.194858609269694\n",
            "16 \t [ 0.62196687 -1.06419676]\t 19.526418802838858\t 17.388691338534382\t -19.55985145706093\n",
            "17 \t [1.34907785 2.2811222 ]\t 34.797435424876525\t 17.388691338534382\t -19.07828834801305\n",
            "18 \t [-0.38202419  5.12      ]\t 46.44681379374238\t 17.388691338534382\t -17.005531637854386\n",
            "19 \t [-5.12       -0.18726196]\t 35.119132950587606\t 17.388691338534382\t -18.743979471027828\n",
            "20 \t [ 1.60202077 -4.29730949]\t 51.97718930364949\t 17.388691338534382\t -21.87751052550573\n"
          ]
        }
      ],
      "source": [
        "### Bayesian optimisation runs (x20): 'STP' Acquisition Function run number = 20 \n",
        "\n",
        "np.random.seed(run_num_20)\n",
        "surrogate_stp_20 = tStudentProcess(cov_func, nu = df, optimize=hyperOpt)\n",
        "\n",
        "stp_20 = GPGO_multi_STP(surrogate_stp_20, Acquisition_new(util_stp), f_syn_polarity, param, n_jobs = -1) # Define BayesOpt\n",
        "stp_20.run(max_iter = max_iter, init_evals = n_init) # run\n"
      ]
    },
    {
      "cell_type": "code",
      "execution_count": 52,
      "metadata": {
        "id": "B9S2UvZ9JLlK",
        "colab": {
          "base_uri": "https://localhost:8080/"
        },
        "outputId": "c183d7e5-05c0-4bb6-ed90-f8a471d8150b"
      },
      "outputs": [
        {
          "output_type": "execute_result",
          "data": {
            "text/plain": [
              "(2.9911419163163977, 2.7664117731206583)"
            ]
          },
          "metadata": {},
          "execution_count": 52
        }
      ],
      "source": [
        "### Simple regret minimisation: run number = 1\n",
        "\n",
        "gp_output_1 = np.append(np.max(gp_1.GP.y[0:n_init]),gp_1.GP.y[n_init:(n_init+max_iter)]) \n",
        "stp_output_1 = np.append(np.max(stp_1.GP.y[0:n_init]),stp_1.GP.y[n_init:(n_init+max_iter)]) \n",
        "\n",
        "regret_gp_1 = np.log(y_global_orig - gp_output_1)\n",
        "regret_stp_1 = np.log(y_global_orig - stp_output_1)\n",
        "\n",
        "simple_regret_gp_1 = min_max_array(regret_gp_1)\n",
        "simple_regret_stp_1 = min_max_array(regret_stp_1)\n",
        "\n",
        "min_simple_regret_gp_1 = min(simple_regret_gp_1)\n",
        "min_simple_regret_stp_1 = min(simple_regret_stp_1)\n",
        "\n",
        "min_simple_regret_gp_1, min_simple_regret_stp_1\n"
      ]
    },
    {
      "cell_type": "code",
      "execution_count": 53,
      "metadata": {
        "id": "adGcU8l5JLlK",
        "colab": {
          "base_uri": "https://localhost:8080/"
        },
        "outputId": "c4d1372b-ce88-482e-efbf-953cf7ade1a9"
      },
      "outputs": [
        {
          "output_type": "execute_result",
          "data": {
            "text/plain": [
              "(2.70208273321717, 2.7859179997878267)"
            ]
          },
          "metadata": {},
          "execution_count": 53
        }
      ],
      "source": [
        "### Simple regret minimisation: run number = 2\n",
        "\n",
        "gp_output_2 = np.append(np.max(gp_2.GP.y[0:n_init]),gp_2.GP.y[n_init:(n_init+max_iter)]) \n",
        "stp_output_2 = np.append(np.max(stp_2.GP.y[0:n_init]),stp_2.GP.y[n_init:(n_init+max_iter)]) \n",
        "\n",
        "regret_gp_2 = np.log(y_global_orig - gp_output_2)\n",
        "regret_stp_2 = np.log(y_global_orig - stp_output_2)\n",
        "\n",
        "simple_regret_gp_2 = min_max_array(regret_gp_2)\n",
        "simple_regret_stp_2 = min_max_array(regret_stp_2)\n",
        "\n",
        "min_simple_regret_gp_2 = min(simple_regret_gp_2)\n",
        "min_simple_regret_stp_2 = min(simple_regret_stp_2)\n",
        "\n",
        "min_simple_regret_gp_2, min_simple_regret_stp_2\n"
      ]
    },
    {
      "cell_type": "code",
      "execution_count": 54,
      "metadata": {
        "id": "1F9LaViaJLlL",
        "colab": {
          "base_uri": "https://localhost:8080/"
        },
        "outputId": "814a633b-6741-409d-c2a2-6a65f98f07c8"
      },
      "outputs": [
        {
          "output_type": "execute_result",
          "data": {
            "text/plain": [
              "(2.361576630127625, 2.361576630127625)"
            ]
          },
          "metadata": {},
          "execution_count": 54
        }
      ],
      "source": [
        "### Simple regret minimisation: run number = 3\n",
        "\n",
        "gp_output_3 = np.append(np.max(gp_3.GP.y[0:n_init]),gp_3.GP.y[n_init:(n_init+max_iter)]) \n",
        "stp_output_3 = np.append(np.max(stp_3.GP.y[0:n_init]),stp_3.GP.y[n_init:(n_init+max_iter)]) \n",
        "\n",
        "regret_gp_3 = np.log(y_global_orig - gp_output_3)\n",
        "regret_stp_3 = np.log(y_global_orig - stp_output_3)\n",
        "\n",
        "simple_regret_gp_3 = min_max_array(regret_gp_3)\n",
        "simple_regret_stp_3 = min_max_array(regret_stp_3)\n",
        "\n",
        "min_simple_regret_gp_3 = min(simple_regret_gp_3)\n",
        "min_simple_regret_stp_3 = min(simple_regret_stp_3)\n",
        "\n",
        "min_simple_regret_gp_3, min_simple_regret_stp_3\n"
      ]
    },
    {
      "cell_type": "code",
      "execution_count": 55,
      "metadata": {
        "id": "vThMylZmJLlL",
        "colab": {
          "base_uri": "https://localhost:8080/"
        },
        "outputId": "08b7854c-0678-483d-9dec-7a2e4d763c8e"
      },
      "outputs": [
        {
          "output_type": "execute_result",
          "data": {
            "text/plain": [
              "(2.3258106988104013, 2.280673047646142)"
            ]
          },
          "metadata": {},
          "execution_count": 55
        }
      ],
      "source": [
        "### Simple regret minimisation: run number = 4\n",
        "\n",
        "gp_output_4 = np.append(np.max(gp_4.GP.y[0:n_init]),gp_4.GP.y[n_init:(n_init+max_iter)]) \n",
        "stp_output_4 = np.append(np.max(stp_4.GP.y[0:n_init]),stp_4.GP.y[n_init:(n_init+max_iter)]) \n",
        "\n",
        "regret_gp_4 = np.log(y_global_orig - gp_output_4)\n",
        "regret_stp_4 = np.log(y_global_orig - stp_output_4)\n",
        "\n",
        "simple_regret_gp_4 = min_max_array(regret_gp_4)\n",
        "simple_regret_stp_4 = min_max_array(regret_stp_4)\n",
        "\n",
        "min_simple_regret_gp_4 = min(simple_regret_gp_4)\n",
        "min_simple_regret_stp_4 = min(simple_regret_stp_4)\n",
        "\n",
        "min_simple_regret_gp_4, min_simple_regret_stp_4\n"
      ]
    },
    {
      "cell_type": "code",
      "execution_count": 56,
      "metadata": {
        "id": "9Um6_WG7JLlM",
        "colab": {
          "base_uri": "https://localhost:8080/"
        },
        "outputId": "4a42cb80-6287-4317-ec59-abb7a9a7dc61"
      },
      "outputs": [
        {
          "output_type": "execute_result",
          "data": {
            "text/plain": [
              "(1.8240861705129932, 2.05551541920764)"
            ]
          },
          "metadata": {},
          "execution_count": 56
        }
      ],
      "source": [
        "### Simple regret minimisation: run number = 5\n",
        "\n",
        "gp_output_5 = np.append(np.max(gp_5.GP.y[0:n_init]),gp_5.GP.y[n_init:(n_init+max_iter)]) \n",
        "stp_output_5 = np.append(np.max(stp_5.GP.y[0:n_init]),stp_5.GP.y[n_init:(n_init+max_iter)]) \n",
        "\n",
        "regret_gp_5 = np.log(y_global_orig - gp_output_5)\n",
        "regret_stp_5 = np.log(y_global_orig - stp_output_5)\n",
        "\n",
        "simple_regret_gp_5 = min_max_array(regret_gp_5)\n",
        "simple_regret_stp_5 = min_max_array(regret_stp_5)\n",
        "\n",
        "min_simple_regret_gp_5 = min(simple_regret_gp_5)\n",
        "min_simple_regret_stp_5 = min(simple_regret_stp_5)\n",
        "\n",
        "min_simple_regret_gp_5, min_simple_regret_stp_5\n"
      ]
    },
    {
      "cell_type": "code",
      "execution_count": 57,
      "metadata": {
        "id": "s7F8Y3b9JLlM",
        "colab": {
          "base_uri": "https://localhost:8080/"
        },
        "outputId": "a7eb87c9-4b65-436e-a18e-6195d8fab147"
      },
      "outputs": [
        {
          "output_type": "execute_result",
          "data": {
            "text/plain": [
              "(2.8190077613254987, 2.5999421618511445)"
            ]
          },
          "metadata": {},
          "execution_count": 57
        }
      ],
      "source": [
        "### Simple regret minimisation: run number = 6\n",
        "\n",
        "gp_output_6 = np.append(np.max(gp_6.GP.y[0:n_init]),gp_6.GP.y[n_init:(n_init+max_iter)]) \n",
        "stp_output_6 = np.append(np.max(stp_6.GP.y[0:n_init]),stp_6.GP.y[n_init:(n_init+max_iter)]) \n",
        "\n",
        "regret_gp_6 = np.log(y_global_orig - gp_output_6)\n",
        "regret_stp_6 = np.log(y_global_orig - stp_output_6)\n",
        "\n",
        "simple_regret_gp_6 = min_max_array(regret_gp_6)\n",
        "simple_regret_stp_6 = min_max_array(regret_stp_6)\n",
        "\n",
        "min_simple_regret_gp_6 = min(simple_regret_gp_6)\n",
        "min_simple_regret_stp_6 = min(simple_regret_stp_6)\n",
        "\n",
        "min_simple_regret_gp_6, min_simple_regret_stp_6\n"
      ]
    },
    {
      "cell_type": "code",
      "execution_count": 58,
      "metadata": {
        "id": "FbMNex-gJLlN",
        "colab": {
          "base_uri": "https://localhost:8080/"
        },
        "outputId": "5ff88097-8c33-4a63-a603-f023b9e97a9d"
      },
      "outputs": [
        {
          "output_type": "execute_result",
          "data": {
            "text/plain": [
              "(2.5470487663770065, 2.741911564707682)"
            ]
          },
          "metadata": {},
          "execution_count": 58
        }
      ],
      "source": [
        "### Simple regret minimisation: run number = 7\n",
        "\n",
        "gp_output_7 = np.append(np.max(gp_7.GP.y[0:n_init]),gp_7.GP.y[n_init:(n_init+max_iter)]) \n",
        "stp_output_7 = np.append(np.max(stp_7.GP.y[0:n_init]),stp_7.GP.y[n_init:(n_init+max_iter)]) \n",
        "\n",
        "regret_gp_7 = np.log(y_global_orig - gp_output_7)\n",
        "regret_stp_7 = np.log(y_global_orig - stp_output_7)\n",
        "\n",
        "simple_regret_gp_7 = min_max_array(regret_gp_7)\n",
        "simple_regret_stp_7 = min_max_array(regret_stp_7)\n",
        "\n",
        "min_simple_regret_gp_7 = min(simple_regret_gp_7)\n",
        "min_simple_regret_stp_7 = min(simple_regret_stp_7)\n",
        "\n",
        "min_simple_regret_gp_7, min_simple_regret_stp_7\n"
      ]
    },
    {
      "cell_type": "code",
      "execution_count": 59,
      "metadata": {
        "id": "yTxbjos2JLlN",
        "colab": {
          "base_uri": "https://localhost:8080/"
        },
        "outputId": "c83df1e4-ce81-4c90-dadb-b31134decc03"
      },
      "outputs": [
        {
          "output_type": "execute_result",
          "data": {
            "text/plain": [
              "(2.6298595175876263, 2.6298595175876263)"
            ]
          },
          "metadata": {},
          "execution_count": 59
        }
      ],
      "source": [
        "### Simple regret minimisation: run number = 8\n",
        "\n",
        "gp_output_8 = np.append(np.max(gp_8.GP.y[0:n_init]),gp_8.GP.y[n_init:(n_init+max_iter)]) \n",
        "stp_output_8 = np.append(np.max(stp_8.GP.y[0:n_init]),stp_8.GP.y[n_init:(n_init+max_iter)]) \n",
        "\n",
        "regret_gp_8 = np.log(y_global_orig - gp_output_8)\n",
        "regret_stp_8 = np.log(y_global_orig - stp_output_8)\n",
        "\n",
        "simple_regret_gp_8 = min_max_array(regret_gp_8)\n",
        "simple_regret_stp_8 = min_max_array(regret_stp_8)\n",
        "\n",
        "min_simple_regret_gp_8 = min(simple_regret_gp_8)\n",
        "min_simple_regret_stp_8 = min(simple_regret_stp_8)\n",
        "\n",
        "min_simple_regret_gp_8, min_simple_regret_stp_8\n"
      ]
    },
    {
      "cell_type": "code",
      "execution_count": 60,
      "metadata": {
        "id": "iBuMpq59JLlO",
        "colab": {
          "base_uri": "https://localhost:8080/"
        },
        "outputId": "1ebe460e-8046-40cc-d0bc-5e2bc2f5e14f"
      },
      "outputs": [
        {
          "output_type": "execute_result",
          "data": {
            "text/plain": [
              "(2.7482040141063537, 2.1416859222928637)"
            ]
          },
          "metadata": {},
          "execution_count": 60
        }
      ],
      "source": [
        "### Simple regret minimisation: run number = 9\n",
        "\n",
        "gp_output_9 = np.append(np.max(gp_9.GP.y[0:n_init]),gp_9.GP.y[n_init:(n_init+max_iter)]) \n",
        "stp_output_9 = np.append(np.max(stp_9.GP.y[0:n_init]),stp_9.GP.y[n_init:(n_init+max_iter)]) \n",
        "\n",
        "regret_gp_9 = np.log(y_global_orig - gp_output_9)\n",
        "regret_stp_9 = np.log(y_global_orig - stp_output_9)\n",
        "\n",
        "simple_regret_gp_9 = min_max_array(regret_gp_9)\n",
        "simple_regret_stp_9 = min_max_array(regret_stp_9)\n",
        "\n",
        "min_simple_regret_gp_9 = min(simple_regret_gp_9)\n",
        "min_simple_regret_stp_9 = min(simple_regret_stp_9)\n",
        "\n",
        "min_simple_regret_gp_9, min_simple_regret_stp_9\n"
      ]
    },
    {
      "cell_type": "code",
      "execution_count": 61,
      "metadata": {
        "id": "MT-MYaKEJLlO",
        "colab": {
          "base_uri": "https://localhost:8080/"
        },
        "outputId": "f1bc8b9e-764c-496e-b1bd-bb6d693d23ad"
      },
      "outputs": [
        {
          "output_type": "execute_result",
          "data": {
            "text/plain": [
              "(2.523906518679678, 2.5084183153536896)"
            ]
          },
          "metadata": {},
          "execution_count": 61
        }
      ],
      "source": [
        "### Simple regret minimisation: run number = 10\n",
        "\n",
        "gp_output_10 = np.append(np.max(gp_10.GP.y[0:n_init]),gp_10.GP.y[n_init:(n_init+max_iter)]) \n",
        "stp_output_10 = np.append(np.max(stp_10.GP.y[0:n_init]),stp_10.GP.y[n_init:(n_init+max_iter)]) \n",
        "\n",
        "regret_gp_10 = np.log(y_global_orig - gp_output_10)\n",
        "regret_stp_10 = np.log(y_global_orig - stp_output_10)\n",
        "\n",
        "simple_regret_gp_10 = min_max_array(regret_gp_10)\n",
        "simple_regret_stp_10 = min_max_array(regret_stp_10)\n",
        "\n",
        "min_simple_regret_gp_10 = min(simple_regret_gp_10)\n",
        "min_simple_regret_stp_10 = min(simple_regret_stp_10)\n",
        "\n",
        "min_simple_regret_gp_10, min_simple_regret_stp_10\n"
      ]
    },
    {
      "cell_type": "code",
      "execution_count": 62,
      "metadata": {
        "id": "JgXNMHBOJLlP",
        "colab": {
          "base_uri": "https://localhost:8080/"
        },
        "outputId": "0c481ebd-7584-4b41-b18c-d3804e9d7ed8"
      },
      "outputs": [
        {
          "output_type": "execute_result",
          "data": {
            "text/plain": [
              "(2.3683499168354514, 2.3683499168354514)"
            ]
          },
          "metadata": {},
          "execution_count": 62
        }
      ],
      "source": [
        "### Simple regret minimisation: run number = 11\n",
        "\n",
        "gp_output_11 = np.append(np.max(gp_11.GP.y[0:n_init]),gp_11.GP.y[n_init:(n_init+max_iter)]) \n",
        "stp_output_11 = np.append(np.max(stp_11.GP.y[0:n_init]),stp_11.GP.y[n_init:(n_init+max_iter)]) \n",
        "\n",
        "regret_gp_11 = np.log(y_global_orig - gp_output_11)\n",
        "regret_stp_11 = np.log(y_global_orig - stp_output_11)\n",
        "\n",
        "simple_regret_gp_11 = min_max_array(regret_gp_11)\n",
        "simple_regret_stp_11 = min_max_array(regret_stp_11)\n",
        "\n",
        "min_simple_regret_gp_11 = min(simple_regret_gp_11)\n",
        "min_simple_regret_stp_11 = min(simple_regret_stp_11)\n",
        "\n",
        "min_simple_regret_gp_11, min_simple_regret_stp_11\n"
      ]
    },
    {
      "cell_type": "code",
      "execution_count": 63,
      "metadata": {
        "id": "CNvnLAXOJLlQ",
        "colab": {
          "base_uri": "https://localhost:8080/"
        },
        "outputId": "61203fd3-f225-4f03-9f2a-b97401fa6d51"
      },
      "outputs": [
        {
          "output_type": "execute_result",
          "data": {
            "text/plain": [
              "(1.0136539055177785, 1.5664555746326727)"
            ]
          },
          "metadata": {},
          "execution_count": 63
        }
      ],
      "source": [
        "### Simple regret minimisation: run number = 12\n",
        "\n",
        "gp_output_12 = np.append(np.max(gp_12.GP.y[0:n_init]),gp_12.GP.y[n_init:(n_init+max_iter)]) \n",
        "stp_output_12 = np.append(np.max(stp_12.GP.y[0:n_init]),stp_12.GP.y[n_init:(n_init+max_iter)]) \n",
        "\n",
        "regret_gp_12 = np.log(y_global_orig - gp_output_12)\n",
        "regret_stp_12 = np.log(y_global_orig - stp_output_12)\n",
        "\n",
        "simple_regret_gp_12 = min_max_array(regret_gp_12)\n",
        "simple_regret_stp_12 = min_max_array(regret_stp_12)\n",
        "\n",
        "min_simple_regret_gp_12 = min(simple_regret_gp_12)\n",
        "min_simple_regret_stp_12 = min(simple_regret_stp_12)\n",
        "\n",
        "min_simple_regret_gp_12, min_simple_regret_stp_12\n"
      ]
    },
    {
      "cell_type": "code",
      "execution_count": 64,
      "metadata": {
        "id": "LccPP2SJJLlQ",
        "colab": {
          "base_uri": "https://localhost:8080/"
        },
        "outputId": "d8c6ca5b-127a-4dbb-dd05-3510b1e48d57"
      },
      "outputs": [
        {
          "output_type": "execute_result",
          "data": {
            "text/plain": [
              "(2.858527091646381, 2.348066091343282)"
            ]
          },
          "metadata": {},
          "execution_count": 64
        }
      ],
      "source": [
        "### Simple regret minimisation: run number = 13\n",
        "\n",
        "gp_output_13 = np.append(np.max(gp_13.GP.y[0:n_init]),gp_13.GP.y[n_init:(n_init+max_iter)]) \n",
        "stp_output_13 = np.append(np.max(stp_13.GP.y[0:n_init]),stp_13.GP.y[n_init:(n_init+max_iter)]) \n",
        "\n",
        "regret_gp_13 = np.log(y_global_orig - gp_output_13)\n",
        "regret_stp_13 = np.log(y_global_orig - stp_output_13)\n",
        "\n",
        "simple_regret_gp_13 = min_max_array(regret_gp_13)\n",
        "simple_regret_stp_13 = min_max_array(regret_stp_13)\n",
        "\n",
        "min_simple_regret_gp_13 = min(simple_regret_gp_13)\n",
        "min_simple_regret_stp_13 = min(simple_regret_stp_13)\n",
        "\n",
        "min_simple_regret_gp_13, min_simple_regret_stp_13\n"
      ]
    },
    {
      "cell_type": "code",
      "execution_count": 65,
      "metadata": {
        "id": "OsCDbV_CJLlR",
        "colab": {
          "base_uri": "https://localhost:8080/"
        },
        "outputId": "d792a883-3a60-4f40-af41-7917a8334d7a"
      },
      "outputs": [
        {
          "output_type": "execute_result",
          "data": {
            "text/plain": [
              "(2.3440953566682032, 2.3440953566682032)"
            ]
          },
          "metadata": {},
          "execution_count": 65
        }
      ],
      "source": [
        "### Simple regret minimisation: run number = 14\n",
        "\n",
        "gp_output_14 = np.append(np.max(gp_14.GP.y[0:n_init]),gp_14.GP.y[n_init:(n_init+max_iter)]) \n",
        "stp_output_14 = np.append(np.max(stp_14.GP.y[0:n_init]),stp_14.GP.y[n_init:(n_init+max_iter)]) \n",
        "\n",
        "regret_gp_14 = np.log(y_global_orig - gp_output_14)\n",
        "regret_stp_14 = np.log(y_global_orig - stp_output_14)\n",
        "\n",
        "simple_regret_gp_14 = min_max_array(regret_gp_14)\n",
        "simple_regret_stp_14 = min_max_array(regret_stp_14)\n",
        "\n",
        "min_simple_regret_gp_14 = min(simple_regret_gp_14)\n",
        "min_simple_regret_stp_14 = min(simple_regret_stp_14)\n",
        "\n",
        "min_simple_regret_gp_14, min_simple_regret_stp_14\n"
      ]
    },
    {
      "cell_type": "code",
      "execution_count": 66,
      "metadata": {
        "id": "HVNGSKzNJLlR",
        "colab": {
          "base_uri": "https://localhost:8080/"
        },
        "outputId": "6e1d84eb-4d6d-4193-e151-4d5136b30184"
      },
      "outputs": [
        {
          "output_type": "execute_result",
          "data": {
            "text/plain": [
              "(2.078286539213237, 2.078286539213237)"
            ]
          },
          "metadata": {},
          "execution_count": 66
        }
      ],
      "source": [
        "### Simple regret minimisation: run number = 15\n",
        "\n",
        "gp_output_15 = np.append(np.max(gp_15.GP.y[0:n_init]),gp_15.GP.y[n_init:(n_init+max_iter)]) \n",
        "stp_output_15 = np.append(np.max(stp_15.GP.y[0:n_init]),stp_15.GP.y[n_init:(n_init+max_iter)]) \n",
        "\n",
        "regret_gp_15 = np.log(y_global_orig - gp_output_15)\n",
        "regret_stp_15 = np.log(y_global_orig - stp_output_15)\n",
        "\n",
        "simple_regret_gp_15 = min_max_array(regret_gp_15)\n",
        "simple_regret_stp_15 = min_max_array(regret_stp_15)\n",
        "\n",
        "min_simple_regret_gp_15 = min(simple_regret_gp_15)\n",
        "min_simple_regret_stp_15 = min(simple_regret_stp_15)\n",
        "\n",
        "min_simple_regret_gp_15, min_simple_regret_stp_15\n"
      ]
    },
    {
      "cell_type": "code",
      "execution_count": 67,
      "metadata": {
        "id": "vFT0-DcpJLlS",
        "colab": {
          "base_uri": "https://localhost:8080/"
        },
        "outputId": "2325913b-eea5-47ee-dfab-6ebfcc29a7cd"
      },
      "outputs": [
        {
          "output_type": "execute_result",
          "data": {
            "text/plain": [
              "(1.887677297341973, 1.5299692660229272)"
            ]
          },
          "metadata": {},
          "execution_count": 67
        }
      ],
      "source": [
        "### Simple regret minimisation: run number = 16\n",
        "\n",
        "gp_output_16 = np.append(np.max(gp_16.GP.y[0:n_init]),gp_16.GP.y[n_init:(n_init+max_iter)]) \n",
        "stp_output_16 = np.append(np.max(stp_16.GP.y[0:n_init]),stp_16.GP.y[n_init:(n_init+max_iter)]) \n",
        "\n",
        "regret_gp_16 = np.log(y_global_orig - gp_output_16)\n",
        "regret_stp_16 = np.log(y_global_orig - stp_output_16)\n",
        "\n",
        "simple_regret_gp_16 = min_max_array(regret_gp_16)\n",
        "simple_regret_stp_16 = min_max_array(regret_stp_16)\n",
        "\n",
        "min_simple_regret_gp_16 = min(simple_regret_gp_16)\n",
        "min_simple_regret_stp_16 = min(simple_regret_stp_16)\n",
        "\n",
        "min_simple_regret_gp_16, min_simple_regret_stp_16\n"
      ]
    },
    {
      "cell_type": "code",
      "execution_count": 68,
      "metadata": {
        "id": "TPbl73U3JLlS",
        "colab": {
          "base_uri": "https://localhost:8080/"
        },
        "outputId": "b8c054aa-dffb-492e-ea08-5ba08a78e1cf"
      },
      "outputs": [
        {
          "output_type": "execute_result",
          "data": {
            "text/plain": [
              "(2.4422620047633656, 2.5127605610853845)"
            ]
          },
          "metadata": {},
          "execution_count": 68
        }
      ],
      "source": [
        "### Simple regret minimisation: run number = 17\n",
        "\n",
        "gp_output_17 = np.append(np.max(gp_17.GP.y[0:n_init]),gp_17.GP.y[n_init:(n_init+max_iter)]) \n",
        "stp_output_17 = np.append(np.max(stp_17.GP.y[0:n_init]),stp_17.GP.y[n_init:(n_init+max_iter)]) \n",
        "\n",
        "regret_gp_17 = np.log(y_global_orig - gp_output_17)\n",
        "regret_stp_17 = np.log(y_global_orig - stp_output_17)\n",
        "\n",
        "simple_regret_gp_17 = min_max_array(regret_gp_17)\n",
        "simple_regret_stp_17 = min_max_array(regret_stp_17)\n",
        "\n",
        "min_simple_regret_gp_17 = min(simple_regret_gp_17)\n",
        "min_simple_regret_stp_17 = min(simple_regret_stp_17)\n",
        "\n",
        "min_simple_regret_gp_17, min_simple_regret_stp_17\n"
      ]
    },
    {
      "cell_type": "code",
      "execution_count": 69,
      "metadata": {
        "id": "ANjpLP7uJLlT",
        "colab": {
          "base_uri": "https://localhost:8080/"
        },
        "outputId": "f4b1f5f1-24c1-4f82-d563-ab53fcae0e8d"
      },
      "outputs": [
        {
          "output_type": "execute_result",
          "data": {
            "text/plain": [
              "(2.4258079232777003, 2.566878139868196)"
            ]
          },
          "metadata": {},
          "execution_count": 69
        }
      ],
      "source": [
        "### Simple regret minimisation: run number = 18\n",
        "\n",
        "gp_output_18 = np.append(np.max(gp_18.GP.y[0:n_init]),gp_18.GP.y[n_init:(n_init+max_iter)]) \n",
        "stp_output_18 = np.append(np.max(stp_18.GP.y[0:n_init]),stp_18.GP.y[n_init:(n_init+max_iter)]) \n",
        "\n",
        "regret_gp_18 = np.log(y_global_orig - gp_output_18)\n",
        "regret_stp_18 = np.log(y_global_orig - stp_output_18)\n",
        "\n",
        "simple_regret_gp_18 = min_max_array(regret_gp_18)\n",
        "simple_regret_stp_18 = min_max_array(regret_stp_18)\n",
        "\n",
        "min_simple_regret_gp_18 = min(simple_regret_gp_18)\n",
        "min_simple_regret_stp_18 = min(simple_regret_stp_18)\n",
        "\n",
        "min_simple_regret_gp_18, min_simple_regret_stp_18\n"
      ]
    },
    {
      "cell_type": "code",
      "execution_count": 70,
      "metadata": {
        "id": "yYy7bHMOJLlT",
        "colab": {
          "base_uri": "https://localhost:8080/"
        },
        "outputId": "d539d6f7-6f50-4a7f-ed7b-15520c4560f5"
      },
      "outputs": [
        {
          "output_type": "execute_result",
          "data": {
            "text/plain": [
              "(2.9653388987769884, 2.0759645646647065)"
            ]
          },
          "metadata": {},
          "execution_count": 70
        }
      ],
      "source": [
        "### Simple regret minimisation: run number = 19\n",
        "\n",
        "gp_output_19 = np.append(np.max(gp_19.GP.y[0:n_init]),gp_19.GP.y[n_init:(n_init+max_iter)]) \n",
        "stp_output_19 = np.append(np.max(stp_19.GP.y[0:n_init]),stp_19.GP.y[n_init:(n_init+max_iter)]) \n",
        "\n",
        "regret_gp_19 = np.log(y_global_orig - gp_output_19)\n",
        "regret_stp_19 = np.log(y_global_orig - stp_output_19)\n",
        "\n",
        "simple_regret_gp_19 = min_max_array(regret_gp_19)\n",
        "simple_regret_stp_19 = min_max_array(regret_stp_19)\n",
        "\n",
        "min_simple_regret_gp_19 = min(simple_regret_gp_19)\n",
        "min_simple_regret_stp_19 = min(simple_regret_stp_19)\n",
        "\n",
        "min_simple_regret_gp_19, min_simple_regret_stp_19\n"
      ]
    },
    {
      "cell_type": "code",
      "execution_count": 71,
      "metadata": {
        "id": "7h8DTQ7MJLlU",
        "colab": {
          "base_uri": "https://localhost:8080/"
        },
        "outputId": "6e100a56-fc0e-4f7d-df42-dc868ff8f68b"
      },
      "outputs": [
        {
          "output_type": "execute_result",
          "data": {
            "text/plain": [
              "(2.8558200718561926, 2.8558200718561926)"
            ]
          },
          "metadata": {},
          "execution_count": 71
        }
      ],
      "source": [
        "### Simple regret minimisation: run number = 20\n",
        "\n",
        "gp_output_20 = np.append(np.max(gp_20.GP.y[0:n_init]),gp_20.GP.y[n_init:(n_init+max_iter)]) \n",
        "stp_output_20 = np.append(np.max(stp_20.GP.y[0:n_init]),stp_20.GP.y[n_init:(n_init+max_iter)]) \n",
        "\n",
        "regret_gp_20 = np.log(y_global_orig - gp_output_20)\n",
        "regret_stp_20 = np.log(y_global_orig - stp_output_20)\n",
        "\n",
        "simple_regret_gp_20 = min_max_array(regret_gp_20)\n",
        "simple_regret_stp_20 = min_max_array(regret_stp_20)\n",
        "\n",
        "min_simple_regret_gp_20 = min(simple_regret_gp_20)\n",
        "min_simple_regret_stp_20 = min(simple_regret_stp_20)\n",
        "\n",
        "min_simple_regret_gp_20, min_simple_regret_stp_20\n"
      ]
    },
    {
      "cell_type": "code",
      "execution_count": 72,
      "metadata": {
        "id": "FuTVzVQkJLlU"
      },
      "outputs": [],
      "source": [
        "# Iteration1 :\n",
        "\n",
        "slice1 = 0\n",
        "\n",
        "gp1 = [simple_regret_gp_1[slice1],\n",
        "       simple_regret_gp_2[slice1],\n",
        "       simple_regret_gp_3[slice1],\n",
        "       simple_regret_gp_4[slice1],\n",
        "       simple_regret_gp_5[slice1],\n",
        "       simple_regret_gp_6[slice1],\n",
        "       simple_regret_gp_7[slice1],\n",
        "       simple_regret_gp_8[slice1],\n",
        "       simple_regret_gp_9[slice1],\n",
        "       simple_regret_gp_10[slice1],\n",
        "       simple_regret_gp_11[slice1],\n",
        "       simple_regret_gp_12[slice1],\n",
        "       simple_regret_gp_13[slice1],\n",
        "       simple_regret_gp_14[slice1],\n",
        "       simple_regret_gp_15[slice1],\n",
        "       simple_regret_gp_16[slice1],\n",
        "       simple_regret_gp_17[slice1],\n",
        "       simple_regret_gp_18[slice1],\n",
        "       simple_regret_gp_19[slice1],\n",
        "       simple_regret_gp_20[slice1]]\n",
        "\n",
        "stp1 = [simple_regret_stp_1[slice1],\n",
        "       simple_regret_stp_2[slice1],\n",
        "       simple_regret_stp_3[slice1],\n",
        "       simple_regret_stp_4[slice1],\n",
        "       simple_regret_stp_5[slice1],\n",
        "       simple_regret_stp_6[slice1],\n",
        "       simple_regret_stp_7[slice1],\n",
        "       simple_regret_stp_8[slice1],\n",
        "       simple_regret_stp_9[slice1],\n",
        "       simple_regret_stp_10[slice1],\n",
        "       simple_regret_stp_11[slice1],\n",
        "       simple_regret_stp_12[slice1],\n",
        "       simple_regret_stp_13[slice1],\n",
        "       simple_regret_stp_14[slice1],\n",
        "       simple_regret_stp_15[slice1],\n",
        "       simple_regret_stp_16[slice1],\n",
        "       simple_regret_stp_17[slice1],\n",
        "       simple_regret_stp_18[slice1],\n",
        "       simple_regret_stp_19[slice1],\n",
        "       simple_regret_stp_20[slice1]]\n",
        "\n",
        "gp1_results = pd.DataFrame(gp1).sort_values(by=[0], ascending=False)\n",
        "stp1_results = pd.DataFrame(stp1).sort_values(by=[0], ascending=False)\n",
        "\n",
        "### Best training regret minimization IQR - gp:\n",
        "lower_gp1 = np.asarray(gp1_results[4:5][0])[0]\n",
        "median_gp1 = np.asarray(gp1_results[9:10][0])[0]\n",
        "upper_gp1 = np.asarray(gp1_results[14:15][0])[0]\n",
        "\n",
        "lower_stp1 = np.asarray(stp1_results[4:5][0])[0]\n",
        "median_stp1 = np.asarray(stp1_results[9:10][0])[0]\n",
        "upper_stp1 = np.asarray(stp1_results[14:15][0])[0]\n"
      ]
    },
    {
      "cell_type": "code",
      "execution_count": 73,
      "metadata": {
        "id": "OCTtqlBHJLlV"
      },
      "outputs": [],
      "source": [
        "# Iteration11 :\n",
        "\n",
        "slice11 = 10\n",
        "\n",
        "gp11 = [simple_regret_gp_1[slice11],\n",
        "       simple_regret_gp_2[slice11],\n",
        "       simple_regret_gp_3[slice11],\n",
        "       simple_regret_gp_4[slice11],\n",
        "       simple_regret_gp_5[slice11],\n",
        "       simple_regret_gp_6[slice11],\n",
        "       simple_regret_gp_7[slice11],\n",
        "       simple_regret_gp_8[slice11],\n",
        "       simple_regret_gp_9[slice11],\n",
        "       simple_regret_gp_10[slice11],\n",
        "       simple_regret_gp_11[slice11],\n",
        "       simple_regret_gp_12[slice11],\n",
        "       simple_regret_gp_13[slice11],\n",
        "       simple_regret_gp_14[slice11],\n",
        "       simple_regret_gp_15[slice11],\n",
        "       simple_regret_gp_16[slice11],\n",
        "       simple_regret_gp_17[slice11],\n",
        "       simple_regret_gp_18[slice11],\n",
        "       simple_regret_gp_19[slice11],\n",
        "       simple_regret_gp_20[slice11]]\n",
        "\n",
        "stp11 = [simple_regret_stp_1[slice11],\n",
        "       simple_regret_stp_2[slice11],\n",
        "       simple_regret_stp_3[slice11],\n",
        "       simple_regret_stp_4[slice11],\n",
        "       simple_regret_stp_5[slice11],\n",
        "       simple_regret_stp_6[slice11],\n",
        "       simple_regret_stp_7[slice11],\n",
        "       simple_regret_stp_8[slice11],\n",
        "       simple_regret_stp_9[slice11],\n",
        "       simple_regret_stp_10[slice11],\n",
        "       simple_regret_stp_11[slice11],\n",
        "       simple_regret_stp_12[slice11],\n",
        "       simple_regret_stp_13[slice11],\n",
        "       simple_regret_stp_14[slice11],\n",
        "       simple_regret_stp_15[slice11],\n",
        "       simple_regret_stp_16[slice11],\n",
        "       simple_regret_stp_17[slice11],\n",
        "       simple_regret_stp_18[slice11],\n",
        "       simple_regret_stp_19[slice11],\n",
        "       simple_regret_stp_20[slice11]]\n",
        "\n",
        "gp11_results = pd.DataFrame(gp11).sort_values(by=[0], ascending=False)\n",
        "stp11_results = pd.DataFrame(stp11).sort_values(by=[0], ascending=False)\n",
        "\n",
        "### Best training regret minimization IQR - gp:\n",
        "lower_gp11 = np.asarray(gp11_results[4:5][0])[0]\n",
        "median_gp11 = np.asarray(gp11_results[9:10][0])[0]\n",
        "upper_gp11 = np.asarray(gp11_results[14:15][0])[0]\n",
        "\n",
        "lower_stp11 = np.asarray(stp11_results[4:5][0])[0]\n",
        "median_stp11 = np.asarray(stp11_results[9:10][0])[0]\n",
        "upper_stp11 = np.asarray(stp11_results[14:15][0])[0]\n"
      ]
    },
    {
      "cell_type": "code",
      "execution_count": 74,
      "metadata": {
        "id": "OhneK6K5JLlV"
      },
      "outputs": [],
      "source": [
        "# Iteration21 :\n",
        "\n",
        "slice21 = 20\n",
        "\n",
        "gp21 = [simple_regret_gp_1[slice21],\n",
        "       simple_regret_gp_2[slice21],\n",
        "       simple_regret_gp_3[slice21],\n",
        "       simple_regret_gp_4[slice21],\n",
        "       simple_regret_gp_5[slice21],\n",
        "       simple_regret_gp_6[slice21],\n",
        "       simple_regret_gp_7[slice21],\n",
        "       simple_regret_gp_8[slice21],\n",
        "       simple_regret_gp_9[slice21],\n",
        "       simple_regret_gp_10[slice21],\n",
        "       simple_regret_gp_11[slice21],\n",
        "       simple_regret_gp_12[slice21],\n",
        "       simple_regret_gp_13[slice21],\n",
        "       simple_regret_gp_14[slice21],\n",
        "       simple_regret_gp_15[slice21],\n",
        "       simple_regret_gp_16[slice21],\n",
        "       simple_regret_gp_17[slice21],\n",
        "       simple_regret_gp_18[slice21],\n",
        "       simple_regret_gp_19[slice21],\n",
        "       simple_regret_gp_20[slice21]]\n",
        "\n",
        "stp21 = [simple_regret_stp_1[slice21],\n",
        "       simple_regret_stp_2[slice21],\n",
        "       simple_regret_stp_3[slice21],\n",
        "       simple_regret_stp_4[slice21],\n",
        "       simple_regret_stp_5[slice21],\n",
        "       simple_regret_stp_6[slice21],\n",
        "       simple_regret_stp_7[slice21],\n",
        "       simple_regret_stp_8[slice21],\n",
        "       simple_regret_stp_9[slice21],\n",
        "       simple_regret_stp_10[slice21],\n",
        "       simple_regret_stp_11[slice21],\n",
        "       simple_regret_stp_12[slice21],\n",
        "       simple_regret_stp_13[slice21],\n",
        "       simple_regret_stp_14[slice21],\n",
        "       simple_regret_stp_15[slice21],\n",
        "       simple_regret_stp_16[slice21],\n",
        "       simple_regret_stp_17[slice21],\n",
        "       simple_regret_stp_18[slice21],\n",
        "       simple_regret_stp_19[slice21],\n",
        "       simple_regret_stp_20[slice21]]\n",
        "\n",
        "gp21_results = pd.DataFrame(gp21).sort_values(by=[0], ascending=False)\n",
        "stp21_results = pd.DataFrame(stp21).sort_values(by=[0], ascending=False)\n",
        "\n",
        "### Best training regret minimization IQR - gp:\n",
        "lower_gp21 = np.asarray(gp21_results[4:5][0])[0]\n",
        "median_gp21 = np.asarray(gp21_results[9:10][0])[0]\n",
        "upper_gp21 = np.asarray(gp21_results[14:15][0])[0]\n",
        "\n",
        "lower_stp21 = np.asarray(stp21_results[4:5][0])[0]\n",
        "median_stp21 = np.asarray(stp21_results[9:10][0])[0]\n",
        "upper_stp21 = np.asarray(stp21_results[14:15][0])[0]\n"
      ]
    },
    {
      "cell_type": "code",
      "execution_count": 75,
      "metadata": {
        "id": "wetKUCmLJLlb"
      },
      "outputs": [],
      "source": [
        "# Iteration2 :\n",
        "\n",
        "slice2 = 1\n",
        "\n",
        "gp2 = [simple_regret_gp_1[slice2],\n",
        "       simple_regret_gp_2[slice2],\n",
        "       simple_regret_gp_3[slice2],\n",
        "       simple_regret_gp_4[slice2],\n",
        "       simple_regret_gp_5[slice2],\n",
        "       simple_regret_gp_6[slice2],\n",
        "       simple_regret_gp_7[slice2],\n",
        "       simple_regret_gp_8[slice2],\n",
        "       simple_regret_gp_9[slice2],\n",
        "       simple_regret_gp_10[slice2],\n",
        "       simple_regret_gp_11[slice2],\n",
        "       simple_regret_gp_12[slice2],\n",
        "       simple_regret_gp_13[slice2],\n",
        "       simple_regret_gp_14[slice2],\n",
        "       simple_regret_gp_15[slice2],\n",
        "       simple_regret_gp_16[slice2],\n",
        "       simple_regret_gp_17[slice2],\n",
        "       simple_regret_gp_18[slice2],\n",
        "       simple_regret_gp_19[slice2],\n",
        "       simple_regret_gp_20[slice2]]\n",
        "\n",
        "stp2 = [simple_regret_stp_1[slice2],\n",
        "       simple_regret_stp_2[slice2],\n",
        "       simple_regret_stp_3[slice2],\n",
        "       simple_regret_stp_4[slice2],\n",
        "       simple_regret_stp_5[slice2],\n",
        "       simple_regret_stp_6[slice2],\n",
        "       simple_regret_stp_7[slice2],\n",
        "       simple_regret_stp_8[slice2],\n",
        "       simple_regret_stp_9[slice2],\n",
        "       simple_regret_stp_10[slice2],\n",
        "       simple_regret_stp_11[slice2],\n",
        "       simple_regret_stp_12[slice2],\n",
        "       simple_regret_stp_13[slice2],\n",
        "       simple_regret_stp_14[slice2],\n",
        "       simple_regret_stp_15[slice2],\n",
        "       simple_regret_stp_16[slice2],\n",
        "       simple_regret_stp_17[slice2],\n",
        "       simple_regret_stp_18[slice2],\n",
        "       simple_regret_stp_19[slice2],\n",
        "       simple_regret_stp_20[slice2]]\n",
        "\n",
        "gp2_results = pd.DataFrame(gp2).sort_values(by=[0], ascending=False)\n",
        "stp2_results = pd.DataFrame(stp2).sort_values(by=[0], ascending=False)\n",
        "\n",
        "### Best training regret minimization IQR - gp:\n",
        "lower_gp2 = np.asarray(gp2_results[4:5][0])[0]\n",
        "median_gp2 = np.asarray(gp2_results[9:10][0])[0]\n",
        "upper_gp2 = np.asarray(gp2_results[14:15][0])[0]\n",
        "\n",
        "lower_stp2 = np.asarray(stp2_results[4:5][0])[0]\n",
        "median_stp2 = np.asarray(stp2_results[9:10][0])[0]\n",
        "upper_stp2 = np.asarray(stp2_results[14:15][0])[0]\n"
      ]
    },
    {
      "cell_type": "code",
      "execution_count": 76,
      "metadata": {
        "id": "8dIyaTLKJLlc"
      },
      "outputs": [],
      "source": [
        "# Iteration12 :\n",
        "\n",
        "slice12 = 11\n",
        "\n",
        "gp12 = [simple_regret_gp_1[slice12],\n",
        "       simple_regret_gp_2[slice12],\n",
        "       simple_regret_gp_3[slice12],\n",
        "       simple_regret_gp_4[slice12],\n",
        "       simple_regret_gp_5[slice12],\n",
        "       simple_regret_gp_6[slice12],\n",
        "       simple_regret_gp_7[slice12],\n",
        "       simple_regret_gp_8[slice12],\n",
        "       simple_regret_gp_9[slice12],\n",
        "       simple_regret_gp_10[slice12],\n",
        "       simple_regret_gp_11[slice12],\n",
        "       simple_regret_gp_12[slice12],\n",
        "       simple_regret_gp_13[slice12],\n",
        "       simple_regret_gp_14[slice12],\n",
        "       simple_regret_gp_15[slice12],\n",
        "       simple_regret_gp_16[slice12],\n",
        "       simple_regret_gp_17[slice12],\n",
        "       simple_regret_gp_18[slice12],\n",
        "       simple_regret_gp_19[slice12],\n",
        "       simple_regret_gp_20[slice12]]\n",
        "\n",
        "stp12 = [simple_regret_stp_1[slice12],\n",
        "       simple_regret_stp_2[slice12],\n",
        "       simple_regret_stp_3[slice12],\n",
        "       simple_regret_stp_4[slice12],\n",
        "       simple_regret_stp_5[slice12],\n",
        "       simple_regret_stp_6[slice12],\n",
        "       simple_regret_stp_7[slice12],\n",
        "       simple_regret_stp_8[slice12],\n",
        "       simple_regret_stp_9[slice12],\n",
        "       simple_regret_stp_10[slice12],\n",
        "       simple_regret_stp_11[slice12],\n",
        "       simple_regret_stp_12[slice12],\n",
        "       simple_regret_stp_13[slice12],\n",
        "       simple_regret_stp_14[slice12],\n",
        "       simple_regret_stp_15[slice12],\n",
        "       simple_regret_stp_16[slice12],\n",
        "       simple_regret_stp_17[slice12],\n",
        "       simple_regret_stp_18[slice12],\n",
        "       simple_regret_stp_19[slice12],\n",
        "       simple_regret_stp_20[slice12]]\n",
        "\n",
        "gp12_results = pd.DataFrame(gp12).sort_values(by=[0], ascending=False)\n",
        "stp12_results = pd.DataFrame(stp12).sort_values(by=[0], ascending=False)\n",
        "\n",
        "### Best training regret minimization IQR - gp:\n",
        "lower_gp12 = np.asarray(gp12_results[4:5][0])[0]\n",
        "median_gp12 = np.asarray(gp12_results[9:10][0])[0]\n",
        "upper_gp12 = np.asarray(gp12_results[14:15][0])[0]\n",
        "\n",
        "lower_stp12 = np.asarray(stp12_results[4:5][0])[0]\n",
        "median_stp12 = np.asarray(stp12_results[9:10][0])[0]\n",
        "upper_stp12 = np.asarray(stp12_results[14:15][0])[0]\n"
      ]
    },
    {
      "cell_type": "code",
      "execution_count": 77,
      "metadata": {
        "id": "1_6u8LF1JLlt"
      },
      "outputs": [],
      "source": [
        "# Iteration3 :\n",
        "\n",
        "slice3 = 2\n",
        "\n",
        "gp3 = [simple_regret_gp_1[slice3],\n",
        "       simple_regret_gp_2[slice3],\n",
        "       simple_regret_gp_3[slice3],\n",
        "       simple_regret_gp_4[slice3],\n",
        "       simple_regret_gp_5[slice3],\n",
        "       simple_regret_gp_6[slice3],\n",
        "       simple_regret_gp_7[slice3],\n",
        "       simple_regret_gp_8[slice3],\n",
        "       simple_regret_gp_9[slice3],\n",
        "       simple_regret_gp_10[slice3],\n",
        "       simple_regret_gp_11[slice3],\n",
        "       simple_regret_gp_12[slice3],\n",
        "       simple_regret_gp_13[slice3],\n",
        "       simple_regret_gp_14[slice3],\n",
        "       simple_regret_gp_15[slice3],\n",
        "       simple_regret_gp_16[slice3],\n",
        "       simple_regret_gp_17[slice3],\n",
        "       simple_regret_gp_18[slice3],\n",
        "       simple_regret_gp_19[slice3],\n",
        "       simple_regret_gp_20[slice3]]\n",
        "\n",
        "stp3 = [simple_regret_stp_1[slice3],\n",
        "       simple_regret_stp_2[slice3],\n",
        "       simple_regret_stp_3[slice3],\n",
        "       simple_regret_stp_4[slice3],\n",
        "       simple_regret_stp_5[slice3],\n",
        "       simple_regret_stp_6[slice3],\n",
        "       simple_regret_stp_7[slice3],\n",
        "       simple_regret_stp_8[slice3],\n",
        "       simple_regret_stp_9[slice3],\n",
        "       simple_regret_stp_10[slice3],\n",
        "       simple_regret_stp_11[slice3],\n",
        "       simple_regret_stp_12[slice3],\n",
        "       simple_regret_stp_13[slice3],\n",
        "       simple_regret_stp_14[slice3],\n",
        "       simple_regret_stp_15[slice3],\n",
        "       simple_regret_stp_16[slice3],\n",
        "       simple_regret_stp_17[slice3],\n",
        "       simple_regret_stp_18[slice3],\n",
        "       simple_regret_stp_19[slice3],\n",
        "       simple_regret_stp_20[slice3]]\n",
        "\n",
        "gp3_results = pd.DataFrame(gp3).sort_values(by=[0], ascending=False)\n",
        "stp3_results = pd.DataFrame(stp3).sort_values(by=[0], ascending=False)\n",
        "\n",
        "### Best training regret minimization IQR - gp:\n",
        "lower_gp3 = np.asarray(gp3_results[4:5][0])[0]\n",
        "median_gp3 = np.asarray(gp3_results[9:10][0])[0]\n",
        "upper_gp3 = np.asarray(gp3_results[14:15][0])[0]\n",
        "\n",
        "lower_stp3 = np.asarray(stp3_results[4:5][0])[0]\n",
        "median_stp3 = np.asarray(stp3_results[9:10][0])[0]\n",
        "upper_stp3 = np.asarray(stp3_results[14:15][0])[0]\n"
      ]
    },
    {
      "cell_type": "code",
      "execution_count": 78,
      "metadata": {
        "id": "GGEAa73pJLlu"
      },
      "outputs": [],
      "source": [
        "# Iteration13 :\n",
        "\n",
        "slice13 = 12\n",
        "\n",
        "gp13 = [simple_regret_gp_1[slice13],\n",
        "       simple_regret_gp_2[slice13],\n",
        "       simple_regret_gp_3[slice13],\n",
        "       simple_regret_gp_4[slice13],\n",
        "       simple_regret_gp_5[slice13],\n",
        "       simple_regret_gp_6[slice13],\n",
        "       simple_regret_gp_7[slice13],\n",
        "       simple_regret_gp_8[slice13],\n",
        "       simple_regret_gp_9[slice13],\n",
        "       simple_regret_gp_10[slice13],\n",
        "       simple_regret_gp_11[slice13],\n",
        "       simple_regret_gp_12[slice13],\n",
        "       simple_regret_gp_13[slice13],\n",
        "       simple_regret_gp_14[slice13],\n",
        "       simple_regret_gp_15[slice13],\n",
        "       simple_regret_gp_16[slice13],\n",
        "       simple_regret_gp_17[slice13],\n",
        "       simple_regret_gp_18[slice13],\n",
        "       simple_regret_gp_19[slice13],\n",
        "       simple_regret_gp_20[slice13]]\n",
        "\n",
        "stp13 = [simple_regret_stp_1[slice13],\n",
        "       simple_regret_stp_2[slice13],\n",
        "       simple_regret_stp_3[slice13],\n",
        "       simple_regret_stp_4[slice13],\n",
        "       simple_regret_stp_5[slice13],\n",
        "       simple_regret_stp_6[slice13],\n",
        "       simple_regret_stp_7[slice13],\n",
        "       simple_regret_stp_8[slice13],\n",
        "       simple_regret_stp_9[slice13],\n",
        "       simple_regret_stp_10[slice13],\n",
        "       simple_regret_stp_11[slice13],\n",
        "       simple_regret_stp_12[slice13],\n",
        "       simple_regret_stp_13[slice13],\n",
        "       simple_regret_stp_14[slice13],\n",
        "       simple_regret_stp_15[slice13],\n",
        "       simple_regret_stp_16[slice13],\n",
        "       simple_regret_stp_17[slice13],\n",
        "       simple_regret_stp_18[slice13],\n",
        "       simple_regret_stp_19[slice13],\n",
        "       simple_regret_stp_20[slice13]]\n",
        "\n",
        "gp13_results = pd.DataFrame(gp12).sort_values(by=[0], ascending=False)\n",
        "stp13_results = pd.DataFrame(stp12).sort_values(by=[0], ascending=False)\n",
        "\n",
        "### Best training regret minimization IQR - gp:\n",
        "lower_gp13 = np.asarray(gp13_results[4:5][0])[0]\n",
        "median_gp13 = np.asarray(gp13_results[9:10][0])[0]\n",
        "upper_gp13 = np.asarray(gp13_results[14:15][0])[0]\n",
        "\n",
        "lower_stp13 = np.asarray(stp13_results[4:5][0])[0]\n",
        "median_stp13 = np.asarray(stp13_results[9:10][0])[0]\n",
        "upper_stp13 = np.asarray(stp13_results[14:15][0])[0]\n"
      ]
    },
    {
      "cell_type": "code",
      "execution_count": 79,
      "metadata": {
        "id": "T30xLxygJLl0"
      },
      "outputs": [],
      "source": [
        "# Iteration4 :\n",
        "\n",
        "slice4 = 3\n",
        "\n",
        "gp4 = [simple_regret_gp_1[slice4],\n",
        "       simple_regret_gp_2[slice4],\n",
        "       simple_regret_gp_3[slice4],\n",
        "       simple_regret_gp_4[slice4],\n",
        "       simple_regret_gp_5[slice4],\n",
        "       simple_regret_gp_6[slice4],\n",
        "       simple_regret_gp_7[slice4],\n",
        "       simple_regret_gp_8[slice4],\n",
        "       simple_regret_gp_9[slice4],\n",
        "       simple_regret_gp_10[slice4],\n",
        "       simple_regret_gp_11[slice4],\n",
        "       simple_regret_gp_12[slice4],\n",
        "       simple_regret_gp_13[slice4],\n",
        "       simple_regret_gp_14[slice4],\n",
        "       simple_regret_gp_15[slice4],\n",
        "       simple_regret_gp_16[slice4],\n",
        "       simple_regret_gp_17[slice4],\n",
        "       simple_regret_gp_18[slice4],\n",
        "       simple_regret_gp_19[slice4],\n",
        "       simple_regret_gp_20[slice4]]\n",
        "\n",
        "stp4 = [simple_regret_stp_1[slice4],\n",
        "       simple_regret_stp_2[slice4],\n",
        "       simple_regret_stp_3[slice4],\n",
        "       simple_regret_stp_4[slice4],\n",
        "       simple_regret_stp_5[slice4],\n",
        "       simple_regret_stp_6[slice4],\n",
        "       simple_regret_stp_7[slice4],\n",
        "       simple_regret_stp_8[slice4],\n",
        "       simple_regret_stp_9[slice4],\n",
        "       simple_regret_stp_10[slice4],\n",
        "       simple_regret_stp_11[slice4],\n",
        "       simple_regret_stp_12[slice4],\n",
        "       simple_regret_stp_13[slice4],\n",
        "       simple_regret_stp_14[slice4],\n",
        "       simple_regret_stp_15[slice4],\n",
        "       simple_regret_stp_16[slice4],\n",
        "       simple_regret_stp_17[slice4],\n",
        "       simple_regret_stp_18[slice4],\n",
        "       simple_regret_stp_19[slice4],\n",
        "       simple_regret_stp_20[slice4]]\n",
        "\n",
        "gp4_results = pd.DataFrame(gp4).sort_values(by=[0], ascending=False)\n",
        "stp4_results = pd.DataFrame(stp4).sort_values(by=[0], ascending=False)\n",
        "\n",
        "### Best training regret minimization IQR - gp:\n",
        "lower_gp4 = np.asarray(gp4_results[4:5][0])[0]\n",
        "median_gp4 = np.asarray(gp4_results[9:10][0])[0]\n",
        "upper_gp4 = np.asarray(gp4_results[14:15][0])[0]\n",
        "\n",
        "lower_stp4 = np.asarray(stp4_results[4:5][0])[0]\n",
        "median_stp4 = np.asarray(stp4_results[9:10][0])[0]\n",
        "upper_stp4 = np.asarray(stp4_results[14:15][0])[0]\n"
      ]
    },
    {
      "cell_type": "code",
      "execution_count": 80,
      "metadata": {
        "id": "MQ-jpNrnJLl1"
      },
      "outputs": [],
      "source": [
        "# Iteration14 :\n",
        "\n",
        "slice14 = 13\n",
        "\n",
        "gp14 = [simple_regret_gp_1[slice14],\n",
        "       simple_regret_gp_2[slice14],\n",
        "       simple_regret_gp_3[slice14],\n",
        "       simple_regret_gp_4[slice14],\n",
        "       simple_regret_gp_5[slice14],\n",
        "       simple_regret_gp_6[slice14],\n",
        "       simple_regret_gp_7[slice14],\n",
        "       simple_regret_gp_8[slice14],\n",
        "       simple_regret_gp_9[slice14],\n",
        "       simple_regret_gp_10[slice14],\n",
        "       simple_regret_gp_11[slice14],\n",
        "       simple_regret_gp_12[slice14],\n",
        "       simple_regret_gp_13[slice14],\n",
        "       simple_regret_gp_14[slice14],\n",
        "       simple_regret_gp_15[slice14],\n",
        "       simple_regret_gp_16[slice14],\n",
        "       simple_regret_gp_17[slice14],\n",
        "       simple_regret_gp_18[slice14],\n",
        "       simple_regret_gp_19[slice14],\n",
        "       simple_regret_gp_20[slice14]]\n",
        "\n",
        "stp14 = [simple_regret_stp_1[slice14],\n",
        "       simple_regret_stp_2[slice14],\n",
        "       simple_regret_stp_3[slice14],\n",
        "       simple_regret_stp_4[slice14],\n",
        "       simple_regret_stp_5[slice14],\n",
        "       simple_regret_stp_6[slice14],\n",
        "       simple_regret_stp_7[slice14],\n",
        "       simple_regret_stp_8[slice14],\n",
        "       simple_regret_stp_9[slice14],\n",
        "       simple_regret_stp_10[slice14],\n",
        "       simple_regret_stp_11[slice14],\n",
        "       simple_regret_stp_12[slice14],\n",
        "       simple_regret_stp_13[slice14],\n",
        "       simple_regret_stp_14[slice14],\n",
        "       simple_regret_stp_15[slice14],\n",
        "       simple_regret_stp_16[slice14],\n",
        "       simple_regret_stp_17[slice14],\n",
        "       simple_regret_stp_18[slice14],\n",
        "       simple_regret_stp_19[slice14],\n",
        "       simple_regret_stp_20[slice14]]\n",
        "\n",
        "gp14_results = pd.DataFrame(gp14).sort_values(by=[0], ascending=False)\n",
        "stp14_results = pd.DataFrame(stp14).sort_values(by=[0], ascending=False)\n",
        "\n",
        "### Best training regret minimization IQR - gp:\n",
        "lower_gp14 = np.asarray(gp14_results[4:5][0])[0]\n",
        "median_gp14 = np.asarray(gp14_results[9:10][0])[0]\n",
        "upper_gp14 = np.asarray(gp14_results[14:15][0])[0]\n",
        "\n",
        "lower_stp14 = np.asarray(stp14_results[4:5][0])[0]\n",
        "median_stp14 = np.asarray(stp14_results[9:10][0])[0]\n",
        "upper_stp14 = np.asarray(stp14_results[14:15][0])[0]\n"
      ]
    },
    {
      "cell_type": "code",
      "execution_count": 81,
      "metadata": {
        "id": "Xhy_AN9jJLl9"
      },
      "outputs": [],
      "source": [
        "# Iteration5 :\n",
        "\n",
        "slice5 = 4\n",
        "\n",
        "gp5 = [simple_regret_gp_1[slice5],\n",
        "       simple_regret_gp_2[slice5],\n",
        "       simple_regret_gp_3[slice5],\n",
        "       simple_regret_gp_4[slice5],\n",
        "       simple_regret_gp_5[slice5],\n",
        "       simple_regret_gp_6[slice5],\n",
        "       simple_regret_gp_7[slice5],\n",
        "       simple_regret_gp_8[slice5],\n",
        "       simple_regret_gp_9[slice5],\n",
        "       simple_regret_gp_10[slice5],\n",
        "       simple_regret_gp_11[slice5],\n",
        "       simple_regret_gp_12[slice5],\n",
        "       simple_regret_gp_13[slice5],\n",
        "       simple_regret_gp_14[slice5],\n",
        "       simple_regret_gp_15[slice5],\n",
        "       simple_regret_gp_16[slice5],\n",
        "       simple_regret_gp_17[slice5],\n",
        "       simple_regret_gp_18[slice5],\n",
        "       simple_regret_gp_19[slice5],\n",
        "       simple_regret_gp_20[slice5]]\n",
        "\n",
        "stp5 = [simple_regret_stp_1[slice5],\n",
        "       simple_regret_stp_2[slice5],\n",
        "       simple_regret_stp_3[slice5],\n",
        "       simple_regret_stp_4[slice5],\n",
        "       simple_regret_stp_5[slice5],\n",
        "       simple_regret_stp_6[slice5],\n",
        "       simple_regret_stp_7[slice5],\n",
        "       simple_regret_stp_8[slice5],\n",
        "       simple_regret_stp_9[slice5],\n",
        "       simple_regret_stp_10[slice5],\n",
        "       simple_regret_stp_11[slice5],\n",
        "       simple_regret_stp_12[slice5],\n",
        "       simple_regret_stp_13[slice5],\n",
        "       simple_regret_stp_14[slice5],\n",
        "       simple_regret_stp_15[slice5],\n",
        "       simple_regret_stp_16[slice5],\n",
        "       simple_regret_stp_17[slice5],\n",
        "       simple_regret_stp_18[slice5],\n",
        "       simple_regret_stp_19[slice5],\n",
        "       simple_regret_stp_20[slice5]]\n",
        "\n",
        "gp5_results = pd.DataFrame(gp5).sort_values(by=[0], ascending=False)\n",
        "stp5_results = pd.DataFrame(stp5).sort_values(by=[0], ascending=False)\n",
        "\n",
        "### Best training regret minimization IQR - gp:\n",
        "lower_gp5 = np.asarray(gp5_results[4:5][0])[0]\n",
        "median_gp5 = np.asarray(gp5_results[9:10][0])[0]\n",
        "upper_gp5 = np.asarray(gp5_results[14:15][0])[0]\n",
        "\n",
        "lower_stp5 = np.asarray(stp5_results[4:5][0])[0]\n",
        "median_stp5 = np.asarray(stp5_results[9:10][0])[0]\n",
        "upper_stp5 = np.asarray(stp5_results[14:15][0])[0]\n"
      ]
    },
    {
      "cell_type": "code",
      "execution_count": 82,
      "metadata": {
        "id": "WHbtLHnbJLl-"
      },
      "outputs": [],
      "source": [
        "# Iteration15 :\n",
        "\n",
        "slice15 = 14\n",
        "\n",
        "gp15 = [simple_regret_gp_1[slice15],\n",
        "       simple_regret_gp_2[slice15],\n",
        "       simple_regret_gp_3[slice15],\n",
        "       simple_regret_gp_4[slice15],\n",
        "       simple_regret_gp_5[slice15],\n",
        "       simple_regret_gp_6[slice15],\n",
        "       simple_regret_gp_7[slice15],\n",
        "       simple_regret_gp_8[slice15],\n",
        "       simple_regret_gp_9[slice15],\n",
        "       simple_regret_gp_10[slice15],\n",
        "       simple_regret_gp_11[slice15],\n",
        "       simple_regret_gp_12[slice15],\n",
        "       simple_regret_gp_13[slice15],\n",
        "       simple_regret_gp_14[slice15],\n",
        "       simple_regret_gp_15[slice15],\n",
        "       simple_regret_gp_16[slice15],\n",
        "       simple_regret_gp_17[slice15],\n",
        "       simple_regret_gp_18[slice15],\n",
        "       simple_regret_gp_19[slice15],\n",
        "       simple_regret_gp_20[slice15]]\n",
        "\n",
        "stp15 = [simple_regret_stp_1[slice15],\n",
        "       simple_regret_stp_2[slice15],\n",
        "       simple_regret_stp_3[slice15],\n",
        "       simple_regret_stp_4[slice15],\n",
        "       simple_regret_stp_5[slice15],\n",
        "       simple_regret_stp_6[slice15],\n",
        "       simple_regret_stp_7[slice15],\n",
        "       simple_regret_stp_8[slice15],\n",
        "       simple_regret_stp_9[slice15],\n",
        "       simple_regret_stp_10[slice15],\n",
        "       simple_regret_stp_11[slice15],\n",
        "       simple_regret_stp_12[slice15],\n",
        "       simple_regret_stp_13[slice15],\n",
        "       simple_regret_stp_14[slice15],\n",
        "       simple_regret_stp_15[slice15],\n",
        "       simple_regret_stp_16[slice15],\n",
        "       simple_regret_stp_17[slice15],\n",
        "       simple_regret_stp_18[slice15],\n",
        "       simple_regret_stp_19[slice15],\n",
        "       simple_regret_stp_20[slice15]]\n",
        "\n",
        "gp15_results = pd.DataFrame(gp15).sort_values(by=[0], ascending=False)\n",
        "stp15_results = pd.DataFrame(stp15).sort_values(by=[0], ascending=False)\n",
        "\n",
        "### Best training regret minimization IQR - gp:\n",
        "lower_gp15 = np.asarray(gp15_results[4:5][0])[0]\n",
        "median_gp15 = np.asarray(gp15_results[9:10][0])[0]\n",
        "upper_gp15 = np.asarray(gp15_results[14:15][0])[0]\n",
        "\n",
        "lower_stp15 = np.asarray(stp15_results[4:5][0])[0]\n",
        "median_stp15 = np.asarray(stp15_results[9:10][0])[0]\n",
        "upper_stp15 = np.asarray(stp15_results[14:15][0])[0]\n"
      ]
    },
    {
      "cell_type": "code",
      "execution_count": 83,
      "metadata": {
        "id": "XqsNyHzqJLmC"
      },
      "outputs": [],
      "source": [
        "# Iteration6 :\n",
        "\n",
        "slice6 = 5\n",
        "\n",
        "gp6 = [simple_regret_gp_1[slice6],\n",
        "       simple_regret_gp_2[slice6],\n",
        "       simple_regret_gp_3[slice6],\n",
        "       simple_regret_gp_4[slice6],\n",
        "       simple_regret_gp_5[slice6],\n",
        "       simple_regret_gp_6[slice6],\n",
        "       simple_regret_gp_7[slice6],\n",
        "       simple_regret_gp_8[slice6],\n",
        "       simple_regret_gp_9[slice6],\n",
        "       simple_regret_gp_10[slice6],\n",
        "       simple_regret_gp_11[slice6],\n",
        "       simple_regret_gp_12[slice6],\n",
        "       simple_regret_gp_13[slice6],\n",
        "       simple_regret_gp_14[slice6],\n",
        "       simple_regret_gp_15[slice6],\n",
        "       simple_regret_gp_16[slice6],\n",
        "       simple_regret_gp_17[slice6],\n",
        "       simple_regret_gp_18[slice6],\n",
        "       simple_regret_gp_19[slice6],\n",
        "       simple_regret_gp_20[slice6]]\n",
        "\n",
        "stp6 = [simple_regret_stp_1[slice6],\n",
        "       simple_regret_stp_2[slice6],\n",
        "       simple_regret_stp_3[slice6],\n",
        "       simple_regret_stp_4[slice6],\n",
        "       simple_regret_stp_5[slice6],\n",
        "       simple_regret_stp_6[slice6],\n",
        "       simple_regret_stp_7[slice6],\n",
        "       simple_regret_stp_8[slice6],\n",
        "       simple_regret_stp_9[slice6],\n",
        "       simple_regret_stp_10[slice6],\n",
        "       simple_regret_stp_11[slice6],\n",
        "       simple_regret_stp_12[slice6],\n",
        "       simple_regret_stp_13[slice6],\n",
        "       simple_regret_stp_14[slice6],\n",
        "       simple_regret_stp_15[slice6],\n",
        "       simple_regret_stp_16[slice6],\n",
        "       simple_regret_stp_17[slice6],\n",
        "       simple_regret_stp_18[slice6],\n",
        "       simple_regret_stp_19[slice6],\n",
        "       simple_regret_stp_20[slice6]]\n",
        "\n",
        "gp6_results = pd.DataFrame(gp6).sort_values(by=[0], ascending=False)\n",
        "stp6_results = pd.DataFrame(stp6).sort_values(by=[0], ascending=False)\n",
        "\n",
        "### Best training regret minimization IQR - gp:\n",
        "lower_gp6 = np.asarray(gp6_results[4:5][0])[0]\n",
        "median_gp6 = np.asarray(gp6_results[9:10][0])[0]\n",
        "upper_gp6 = np.asarray(gp6_results[14:15][0])[0]\n",
        "\n",
        "lower_stp6 = np.asarray(stp6_results[4:5][0])[0]\n",
        "median_stp6 = np.asarray(stp6_results[9:10][0])[0]\n",
        "upper_stp6 = np.asarray(stp6_results[14:15][0])[0]\n"
      ]
    },
    {
      "cell_type": "code",
      "execution_count": 84,
      "metadata": {
        "id": "V0-8P_clJLmD"
      },
      "outputs": [],
      "source": [
        "# Iteration16 :\n",
        "\n",
        "slice16 = 15\n",
        "\n",
        "gp16 = [simple_regret_gp_1[slice16],\n",
        "       simple_regret_gp_2[slice16],\n",
        "       simple_regret_gp_3[slice16],\n",
        "       simple_regret_gp_4[slice16],\n",
        "       simple_regret_gp_5[slice16],\n",
        "       simple_regret_gp_6[slice16],\n",
        "       simple_regret_gp_7[slice16],\n",
        "       simple_regret_gp_8[slice16],\n",
        "       simple_regret_gp_9[slice16],\n",
        "       simple_regret_gp_10[slice16],\n",
        "       simple_regret_gp_11[slice16],\n",
        "       simple_regret_gp_12[slice16],\n",
        "       simple_regret_gp_13[slice16],\n",
        "       simple_regret_gp_14[slice16],\n",
        "       simple_regret_gp_15[slice16],\n",
        "       simple_regret_gp_16[slice16],\n",
        "       simple_regret_gp_17[slice16],\n",
        "       simple_regret_gp_18[slice16],\n",
        "       simple_regret_gp_19[slice16],\n",
        "       simple_regret_gp_20[slice16]]\n",
        "\n",
        "stp16 = [simple_regret_stp_1[slice16],\n",
        "       simple_regret_stp_2[slice16],\n",
        "       simple_regret_stp_3[slice16],\n",
        "       simple_regret_stp_4[slice16],\n",
        "       simple_regret_stp_5[slice16],\n",
        "       simple_regret_stp_6[slice16],\n",
        "       simple_regret_stp_7[slice16],\n",
        "       simple_regret_stp_8[slice16],\n",
        "       simple_regret_stp_9[slice16],\n",
        "       simple_regret_stp_10[slice16],\n",
        "       simple_regret_stp_11[slice16],\n",
        "       simple_regret_stp_12[slice16],\n",
        "       simple_regret_stp_13[slice16],\n",
        "       simple_regret_stp_14[slice16],\n",
        "       simple_regret_stp_15[slice16],\n",
        "       simple_regret_stp_16[slice16],\n",
        "       simple_regret_stp_17[slice16],\n",
        "       simple_regret_stp_18[slice16],\n",
        "       simple_regret_stp_19[slice16],\n",
        "       simple_regret_stp_20[slice16]]\n",
        "\n",
        "gp16_results = pd.DataFrame(gp16).sort_values(by=[0], ascending=False)\n",
        "stp16_results = pd.DataFrame(stp16).sort_values(by=[0], ascending=False)\n",
        "\n",
        "### Best training regret minimization IQR - gp:\n",
        "lower_gp16 = np.asarray(gp16_results[4:5][0])[0]\n",
        "median_gp16 = np.asarray(gp16_results[9:10][0])[0]\n",
        "upper_gp16 = np.asarray(gp16_results[14:15][0])[0]\n",
        "\n",
        "lower_stp16 = np.asarray(stp16_results[4:5][0])[0]\n",
        "median_stp16 = np.asarray(stp16_results[9:10][0])[0]\n",
        "upper_stp16 = np.asarray(stp16_results[14:15][0])[0]\n"
      ]
    },
    {
      "cell_type": "code",
      "execution_count": 85,
      "metadata": {
        "id": "OcLUACB0JLmM"
      },
      "outputs": [],
      "source": [
        "# Iteration7 :\n",
        "\n",
        "slice7 = 6\n",
        "\n",
        "gp7 = [simple_regret_gp_1[slice7],\n",
        "       simple_regret_gp_2[slice7],\n",
        "       simple_regret_gp_3[slice7],\n",
        "       simple_regret_gp_4[slice7],\n",
        "       simple_regret_gp_5[slice7],\n",
        "       simple_regret_gp_6[slice7],\n",
        "       simple_regret_gp_7[slice7],\n",
        "       simple_regret_gp_8[slice7],\n",
        "       simple_regret_gp_9[slice7],\n",
        "       simple_regret_gp_10[slice7],\n",
        "       simple_regret_gp_11[slice7],\n",
        "       simple_regret_gp_12[slice7],\n",
        "       simple_regret_gp_13[slice7],\n",
        "       simple_regret_gp_14[slice7],\n",
        "       simple_regret_gp_15[slice7],\n",
        "       simple_regret_gp_16[slice7],\n",
        "       simple_regret_gp_17[slice7],\n",
        "       simple_regret_gp_18[slice7],\n",
        "       simple_regret_gp_19[slice7],\n",
        "       simple_regret_gp_20[slice7]]\n",
        "\n",
        "stp7 = [simple_regret_stp_1[slice7],\n",
        "       simple_regret_stp_2[slice7],\n",
        "       simple_regret_stp_3[slice7],\n",
        "       simple_regret_stp_4[slice7],\n",
        "       simple_regret_stp_5[slice7],\n",
        "       simple_regret_stp_6[slice7],\n",
        "       simple_regret_stp_7[slice7],\n",
        "       simple_regret_stp_8[slice7],\n",
        "       simple_regret_stp_9[slice7],\n",
        "       simple_regret_stp_10[slice7],\n",
        "       simple_regret_stp_11[slice7],\n",
        "       simple_regret_stp_12[slice7],\n",
        "       simple_regret_stp_13[slice7],\n",
        "       simple_regret_stp_14[slice7],\n",
        "       simple_regret_stp_15[slice7],\n",
        "       simple_regret_stp_16[slice7],\n",
        "       simple_regret_stp_17[slice7],\n",
        "       simple_regret_stp_18[slice7],\n",
        "       simple_regret_stp_19[slice7],\n",
        "       simple_regret_stp_20[slice7]]\n",
        "\n",
        "gp7_results = pd.DataFrame(gp7).sort_values(by=[0], ascending=False)\n",
        "stp7_results = pd.DataFrame(stp7).sort_values(by=[0], ascending=False)\n",
        "\n",
        "### Best training regret minimization IQR - gp:\n",
        "lower_gp7 = np.asarray(gp7_results[4:5][0])[0]\n",
        "median_gp7 = np.asarray(gp7_results[9:10][0])[0]\n",
        "upper_gp7 = np.asarray(gp7_results[14:15][0])[0]\n",
        "\n",
        "lower_stp7 = np.asarray(stp7_results[4:5][0])[0]\n",
        "median_stp7 = np.asarray(stp7_results[9:10][0])[0]\n",
        "upper_stp7 = np.asarray(stp7_results[14:15][0])[0]\n"
      ]
    },
    {
      "cell_type": "code",
      "execution_count": 86,
      "metadata": {
        "id": "q-Fd0t3kJLmN"
      },
      "outputs": [],
      "source": [
        "# Iteration17 :\n",
        "\n",
        "slice17 = 16\n",
        "\n",
        "gp17 = [simple_regret_gp_1[slice17],\n",
        "       simple_regret_gp_2[slice17],\n",
        "       simple_regret_gp_3[slice17],\n",
        "       simple_regret_gp_4[slice17],\n",
        "       simple_regret_gp_5[slice17],\n",
        "       simple_regret_gp_6[slice17],\n",
        "       simple_regret_gp_7[slice17],\n",
        "       simple_regret_gp_8[slice17],\n",
        "       simple_regret_gp_9[slice17],\n",
        "       simple_regret_gp_10[slice17],\n",
        "       simple_regret_gp_11[slice17],\n",
        "       simple_regret_gp_12[slice17],\n",
        "       simple_regret_gp_13[slice17],\n",
        "       simple_regret_gp_14[slice17],\n",
        "       simple_regret_gp_15[slice17],\n",
        "       simple_regret_gp_16[slice17],\n",
        "       simple_regret_gp_17[slice17],\n",
        "       simple_regret_gp_18[slice17],\n",
        "       simple_regret_gp_19[slice17],\n",
        "       simple_regret_gp_20[slice17]]\n",
        "\n",
        "stp17 = [simple_regret_stp_1[slice17],\n",
        "       simple_regret_stp_2[slice17],\n",
        "       simple_regret_stp_3[slice17],\n",
        "       simple_regret_stp_4[slice17],\n",
        "       simple_regret_stp_5[slice17],\n",
        "       simple_regret_stp_6[slice17],\n",
        "       simple_regret_stp_7[slice17],\n",
        "       simple_regret_stp_8[slice17],\n",
        "       simple_regret_stp_9[slice17],\n",
        "       simple_regret_stp_10[slice17],\n",
        "       simple_regret_stp_11[slice17],\n",
        "       simple_regret_stp_12[slice17],\n",
        "       simple_regret_stp_13[slice17],\n",
        "       simple_regret_stp_14[slice17],\n",
        "       simple_regret_stp_15[slice17],\n",
        "       simple_regret_stp_16[slice17],\n",
        "       simple_regret_stp_17[slice17],\n",
        "       simple_regret_stp_18[slice17],\n",
        "       simple_regret_stp_19[slice17],\n",
        "       simple_regret_stp_20[slice17]]\n",
        "\n",
        "gp17_results = pd.DataFrame(gp17).sort_values(by=[0], ascending=False)\n",
        "stp17_results = pd.DataFrame(stp17).sort_values(by=[0], ascending=False)\n",
        "\n",
        "### Best training regret minimization IQR - gp:\n",
        "lower_gp17 = np.asarray(gp17_results[4:5][0])[0]\n",
        "median_gp17 = np.asarray(gp17_results[9:10][0])[0]\n",
        "upper_gp17 = np.asarray(gp17_results[14:15][0])[0]\n",
        "\n",
        "lower_stp17 = np.asarray(stp17_results[4:5][0])[0]\n",
        "median_stp17 = np.asarray(stp17_results[9:10][0])[0]\n",
        "upper_stp17 = np.asarray(stp17_results[14:15][0])[0]\n"
      ]
    },
    {
      "cell_type": "code",
      "execution_count": 87,
      "metadata": {
        "id": "JueXVbnGJLmU"
      },
      "outputs": [],
      "source": [
        "# Iteration8 :\n",
        "\n",
        "slice8 = 7\n",
        "\n",
        "gp8 = [simple_regret_gp_1[slice8],\n",
        "       simple_regret_gp_2[slice8],\n",
        "       simple_regret_gp_3[slice8],\n",
        "       simple_regret_gp_4[slice8],\n",
        "       simple_regret_gp_5[slice8],\n",
        "       simple_regret_gp_6[slice8],\n",
        "       simple_regret_gp_7[slice8],\n",
        "       simple_regret_gp_8[slice8],\n",
        "       simple_regret_gp_9[slice8],\n",
        "       simple_regret_gp_10[slice8],\n",
        "       simple_regret_gp_11[slice8],\n",
        "       simple_regret_gp_12[slice8],\n",
        "       simple_regret_gp_13[slice8],\n",
        "       simple_regret_gp_14[slice8],\n",
        "       simple_regret_gp_15[slice8],\n",
        "       simple_regret_gp_16[slice8],\n",
        "       simple_regret_gp_17[slice8],\n",
        "       simple_regret_gp_18[slice8],\n",
        "       simple_regret_gp_19[slice8],\n",
        "       simple_regret_gp_20[slice8]]\n",
        "\n",
        "stp8 = [simple_regret_stp_1[slice8],\n",
        "       simple_regret_stp_2[slice8],\n",
        "       simple_regret_stp_3[slice8],\n",
        "       simple_regret_stp_4[slice8],\n",
        "       simple_regret_stp_5[slice8],\n",
        "       simple_regret_stp_6[slice8],\n",
        "       simple_regret_stp_7[slice8],\n",
        "       simple_regret_stp_8[slice8],\n",
        "       simple_regret_stp_9[slice8],\n",
        "       simple_regret_stp_10[slice8],\n",
        "       simple_regret_stp_11[slice8],\n",
        "       simple_regret_stp_12[slice8],\n",
        "       simple_regret_stp_13[slice8],\n",
        "       simple_regret_stp_14[slice8],\n",
        "       simple_regret_stp_15[slice8],\n",
        "       simple_regret_stp_16[slice8],\n",
        "       simple_regret_stp_17[slice8],\n",
        "       simple_regret_stp_18[slice8],\n",
        "       simple_regret_stp_19[slice8],\n",
        "       simple_regret_stp_20[slice8]]\n",
        "\n",
        "gp8_results = pd.DataFrame(gp8).sort_values(by=[0], ascending=False)\n",
        "stp8_results = pd.DataFrame(stp8).sort_values(by=[0], ascending=False)\n",
        "\n",
        "### Best training regret minimization IQR - gp:\n",
        "lower_gp8 = np.asarray(gp8_results[4:5][0])[0]\n",
        "median_gp8 = np.asarray(gp8_results[9:10][0])[0]\n",
        "upper_gp8 = np.asarray(gp8_results[14:15][0])[0]\n",
        "\n",
        "lower_stp8 = np.asarray(stp8_results[4:5][0])[0]\n",
        "median_stp8 = np.asarray(stp8_results[9:10][0])[0]\n",
        "upper_stp8 = np.asarray(stp8_results[14:15][0])[0]\n"
      ]
    },
    {
      "cell_type": "code",
      "execution_count": 88,
      "metadata": {
        "id": "mnFJ7maJJLmU"
      },
      "outputs": [],
      "source": [
        "# Iteration18 :\n",
        "\n",
        "slice18 = 17\n",
        "\n",
        "gp18 = [simple_regret_gp_1[slice18],\n",
        "       simple_regret_gp_2[slice18],\n",
        "       simple_regret_gp_3[slice18],\n",
        "       simple_regret_gp_4[slice18],\n",
        "       simple_regret_gp_5[slice18],\n",
        "       simple_regret_gp_6[slice18],\n",
        "       simple_regret_gp_7[slice18],\n",
        "       simple_regret_gp_8[slice18],\n",
        "       simple_regret_gp_9[slice18],\n",
        "       simple_regret_gp_10[slice18],\n",
        "       simple_regret_gp_11[slice18],\n",
        "       simple_regret_gp_12[slice18],\n",
        "       simple_regret_gp_13[slice18],\n",
        "       simple_regret_gp_14[slice18],\n",
        "       simple_regret_gp_15[slice18],\n",
        "       simple_regret_gp_16[slice18],\n",
        "       simple_regret_gp_17[slice18],\n",
        "       simple_regret_gp_18[slice18],\n",
        "       simple_regret_gp_19[slice18],\n",
        "       simple_regret_gp_20[slice18]]\n",
        "\n",
        "stp18 = [simple_regret_stp_1[slice18],\n",
        "       simple_regret_stp_2[slice18],\n",
        "       simple_regret_stp_3[slice18],\n",
        "       simple_regret_stp_4[slice18],\n",
        "       simple_regret_stp_5[slice18],\n",
        "       simple_regret_stp_6[slice18],\n",
        "       simple_regret_stp_7[slice18],\n",
        "       simple_regret_stp_8[slice18],\n",
        "       simple_regret_stp_9[slice18],\n",
        "       simple_regret_stp_10[slice18],\n",
        "       simple_regret_stp_11[slice18],\n",
        "       simple_regret_stp_12[slice18],\n",
        "       simple_regret_stp_13[slice18],\n",
        "       simple_regret_stp_14[slice18],\n",
        "       simple_regret_stp_15[slice18],\n",
        "       simple_regret_stp_16[slice18],\n",
        "       simple_regret_stp_17[slice18],\n",
        "       simple_regret_stp_18[slice18],\n",
        "       simple_regret_stp_19[slice18],\n",
        "       simple_regret_stp_20[slice18]]\n",
        "\n",
        "gp18_results = pd.DataFrame(gp18).sort_values(by=[0], ascending=False)\n",
        "stp18_results = pd.DataFrame(stp18).sort_values(by=[0], ascending=False)\n",
        "\n",
        "### Best training regret minimization IQR - gp:\n",
        "lower_gp18 = np.asarray(gp18_results[4:5][0])[0]\n",
        "median_gp18 = np.asarray(gp18_results[9:10][0])[0]\n",
        "upper_gp18 = np.asarray(gp18_results[14:15][0])[0]\n",
        "\n",
        "lower_stp18 = np.asarray(stp18_results[4:5][0])[0]\n",
        "median_stp18 = np.asarray(stp18_results[9:10][0])[0]\n",
        "upper_stp18 = np.asarray(stp18_results[14:15][0])[0]\n"
      ]
    },
    {
      "cell_type": "code",
      "execution_count": 89,
      "metadata": {
        "id": "ll-p_qWUJLmb"
      },
      "outputs": [],
      "source": [
        "# Iteration9 :\n",
        "\n",
        "slice9 = 8\n",
        "\n",
        "gp9 = [simple_regret_gp_1[slice9],\n",
        "       simple_regret_gp_2[slice9],\n",
        "       simple_regret_gp_3[slice9],\n",
        "       simple_regret_gp_4[slice9],\n",
        "       simple_regret_gp_5[slice9],\n",
        "       simple_regret_gp_6[slice9],\n",
        "       simple_regret_gp_7[slice9],\n",
        "       simple_regret_gp_8[slice9],\n",
        "       simple_regret_gp_9[slice9],\n",
        "       simple_regret_gp_10[slice9],\n",
        "       simple_regret_gp_11[slice9],\n",
        "       simple_regret_gp_12[slice9],\n",
        "       simple_regret_gp_13[slice9],\n",
        "       simple_regret_gp_14[slice9],\n",
        "       simple_regret_gp_15[slice9],\n",
        "       simple_regret_gp_16[slice9],\n",
        "       simple_regret_gp_17[slice9],\n",
        "       simple_regret_gp_18[slice9],\n",
        "       simple_regret_gp_19[slice9],\n",
        "       simple_regret_gp_20[slice9]]\n",
        "\n",
        "stp9 = [simple_regret_stp_1[slice9],\n",
        "       simple_regret_stp_2[slice9],\n",
        "       simple_regret_stp_3[slice9],\n",
        "       simple_regret_stp_4[slice9],\n",
        "       simple_regret_stp_5[slice9],\n",
        "       simple_regret_stp_6[slice9],\n",
        "       simple_regret_stp_7[slice9],\n",
        "       simple_regret_stp_8[slice9],\n",
        "       simple_regret_stp_9[slice9],\n",
        "       simple_regret_stp_10[slice9],\n",
        "       simple_regret_stp_11[slice9],\n",
        "       simple_regret_stp_12[slice9],\n",
        "       simple_regret_stp_13[slice9],\n",
        "       simple_regret_stp_14[slice9],\n",
        "       simple_regret_stp_15[slice9],\n",
        "       simple_regret_stp_16[slice9],\n",
        "       simple_regret_stp_17[slice9],\n",
        "       simple_regret_stp_18[slice9],\n",
        "       simple_regret_stp_19[slice9],\n",
        "       simple_regret_stp_20[slice9]]\n",
        "\n",
        "gp9_results = pd.DataFrame(gp9).sort_values(by=[0], ascending=False)\n",
        "stp9_results = pd.DataFrame(stp9).sort_values(by=[0], ascending=False)\n",
        "\n",
        "### Best training regret minimization IQR - gp:\n",
        "lower_gp9 = np.asarray(gp9_results[4:5][0])[0]\n",
        "median_gp9 = np.asarray(gp9_results[9:10][0])[0]\n",
        "upper_gp9 = np.asarray(gp9_results[14:15][0])[0]\n",
        "\n",
        "lower_stp9 = np.asarray(stp9_results[4:5][0])[0]\n",
        "median_stp9 = np.asarray(stp9_results[9:10][0])[0]\n",
        "upper_stp9 = np.asarray(stp9_results[14:15][0])[0]\n"
      ]
    },
    {
      "cell_type": "code",
      "execution_count": 90,
      "metadata": {
        "id": "G3QVtLpJJLmc"
      },
      "outputs": [],
      "source": [
        "# Iteration19 :\n",
        "\n",
        "slice19 = 18\n",
        "\n",
        "gp19 = [simple_regret_gp_1[slice19],\n",
        "       simple_regret_gp_2[slice19],\n",
        "       simple_regret_gp_3[slice19],\n",
        "       simple_regret_gp_4[slice19],\n",
        "       simple_regret_gp_5[slice19],\n",
        "       simple_regret_gp_6[slice19],\n",
        "       simple_regret_gp_7[slice19],\n",
        "       simple_regret_gp_8[slice19],\n",
        "       simple_regret_gp_9[slice19],\n",
        "       simple_regret_gp_10[slice19],\n",
        "       simple_regret_gp_11[slice19],\n",
        "       simple_regret_gp_12[slice19],\n",
        "       simple_regret_gp_13[slice19],\n",
        "       simple_regret_gp_14[slice19],\n",
        "       simple_regret_gp_15[slice19],\n",
        "       simple_regret_gp_16[slice19],\n",
        "       simple_regret_gp_17[slice19],\n",
        "       simple_regret_gp_18[slice19],\n",
        "       simple_regret_gp_19[slice19],\n",
        "       simple_regret_gp_20[slice19]]\n",
        "\n",
        "stp19 = [simple_regret_stp_1[slice19],\n",
        "       simple_regret_stp_2[slice19],\n",
        "       simple_regret_stp_3[slice19],\n",
        "       simple_regret_stp_4[slice19],\n",
        "       simple_regret_stp_5[slice19],\n",
        "       simple_regret_stp_6[slice19],\n",
        "       simple_regret_stp_7[slice19],\n",
        "       simple_regret_stp_8[slice19],\n",
        "       simple_regret_stp_9[slice19],\n",
        "       simple_regret_stp_10[slice19],\n",
        "       simple_regret_stp_11[slice19],\n",
        "       simple_regret_stp_12[slice19],\n",
        "       simple_regret_stp_13[slice19],\n",
        "       simple_regret_stp_14[slice19],\n",
        "       simple_regret_stp_15[slice19],\n",
        "       simple_regret_stp_16[slice19],\n",
        "       simple_regret_stp_17[slice19],\n",
        "       simple_regret_stp_18[slice19],\n",
        "       simple_regret_stp_19[slice19],\n",
        "       simple_regret_stp_20[slice19]]\n",
        "\n",
        "gp19_results = pd.DataFrame(gp19).sort_values(by=[0], ascending=False)\n",
        "stp19_results = pd.DataFrame(stp19).sort_values(by=[0], ascending=False)\n",
        "\n",
        "### Best training regret minimization IQR - gp:\n",
        "lower_gp19 = np.asarray(gp19_results[4:5][0])[0]\n",
        "median_gp19 = np.asarray(gp19_results[9:10][0])[0]\n",
        "upper_gp19 = np.asarray(gp19_results[14:15][0])[0]\n",
        "\n",
        "lower_stp19 = np.asarray(stp19_results[4:5][0])[0]\n",
        "median_stp19 = np.asarray(stp19_results[9:10][0])[0]\n",
        "upper_stp19 = np.asarray(stp19_results[14:15][0])[0]\n"
      ]
    },
    {
      "cell_type": "code",
      "execution_count": 91,
      "metadata": {
        "id": "IzQng-ULJLmj"
      },
      "outputs": [],
      "source": [
        "# Iteration10 :\n",
        "\n",
        "slice10 = 9\n",
        "\n",
        "gp10 = [simple_regret_gp_1[slice10],\n",
        "       simple_regret_gp_2[slice10],\n",
        "       simple_regret_gp_3[slice10],\n",
        "       simple_regret_gp_4[slice10],\n",
        "       simple_regret_gp_5[slice10],\n",
        "       simple_regret_gp_6[slice10],\n",
        "       simple_regret_gp_7[slice10],\n",
        "       simple_regret_gp_8[slice10],\n",
        "       simple_regret_gp_9[slice10],\n",
        "       simple_regret_gp_10[slice10],\n",
        "       simple_regret_gp_11[slice10],\n",
        "       simple_regret_gp_12[slice10],\n",
        "       simple_regret_gp_13[slice10],\n",
        "       simple_regret_gp_14[slice10],\n",
        "       simple_regret_gp_15[slice10],\n",
        "       simple_regret_gp_16[slice10],\n",
        "       simple_regret_gp_17[slice10],\n",
        "       simple_regret_gp_18[slice10],\n",
        "       simple_regret_gp_19[slice10],\n",
        "       simple_regret_gp_20[slice10]]\n",
        "\n",
        "stp10 = [simple_regret_stp_1[slice10],\n",
        "       simple_regret_stp_2[slice10],\n",
        "       simple_regret_stp_3[slice10],\n",
        "       simple_regret_stp_4[slice10],\n",
        "       simple_regret_stp_5[slice10],\n",
        "       simple_regret_stp_6[slice10],\n",
        "       simple_regret_stp_7[slice10],\n",
        "       simple_regret_stp_8[slice10],\n",
        "       simple_regret_stp_9[slice10],\n",
        "       simple_regret_stp_10[slice10],\n",
        "       simple_regret_stp_11[slice10],\n",
        "       simple_regret_stp_12[slice10],\n",
        "       simple_regret_stp_13[slice10],\n",
        "       simple_regret_stp_14[slice10],\n",
        "       simple_regret_stp_15[slice10],\n",
        "       simple_regret_stp_16[slice10],\n",
        "       simple_regret_stp_17[slice10],\n",
        "       simple_regret_stp_18[slice10],\n",
        "       simple_regret_stp_19[slice10],\n",
        "       simple_regret_stp_20[slice10]]\n",
        "\n",
        "gp10_results = pd.DataFrame(gp10).sort_values(by=[0], ascending=False)\n",
        "stp10_results = pd.DataFrame(stp10).sort_values(by=[0], ascending=False)\n",
        "\n",
        "### Best training regret minimization IQR - gp:\n",
        "lower_gp10 = np.asarray(gp10_results[4:5][0])[0]\n",
        "median_gp10 = np.asarray(gp10_results[9:10][0])[0]\n",
        "upper_gp10 = np.asarray(gp10_results[14:15][0])[0]\n",
        "\n",
        "lower_stp10 = np.asarray(stp10_results[4:5][0])[0]\n",
        "median_stp10 = np.asarray(stp10_results[9:10][0])[0]\n",
        "upper_stp10 = np.asarray(stp10_results[14:15][0])[0]\n"
      ]
    },
    {
      "cell_type": "code",
      "execution_count": 92,
      "metadata": {
        "id": "DQ_Cuh-4JLmk"
      },
      "outputs": [],
      "source": [
        "# Iteration20 :\n",
        "\n",
        "slice20 = 19\n",
        "\n",
        "gp20 = [simple_regret_gp_1[slice20],\n",
        "       simple_regret_gp_2[slice20],\n",
        "       simple_regret_gp_3[slice20],\n",
        "       simple_regret_gp_4[slice20],\n",
        "       simple_regret_gp_5[slice20],\n",
        "       simple_regret_gp_6[slice20],\n",
        "       simple_regret_gp_7[slice20],\n",
        "       simple_regret_gp_8[slice20],\n",
        "       simple_regret_gp_9[slice20],\n",
        "       simple_regret_gp_10[slice20],\n",
        "       simple_regret_gp_11[slice20],\n",
        "       simple_regret_gp_12[slice20],\n",
        "       simple_regret_gp_13[slice20],\n",
        "       simple_regret_gp_14[slice20],\n",
        "       simple_regret_gp_15[slice20],\n",
        "       simple_regret_gp_16[slice20],\n",
        "       simple_regret_gp_17[slice20],\n",
        "       simple_regret_gp_18[slice20],\n",
        "       simple_regret_gp_19[slice20],\n",
        "       simple_regret_gp_20[slice20]]\n",
        "\n",
        "stp20 = [simple_regret_stp_1[slice20],\n",
        "       simple_regret_stp_2[slice20],\n",
        "       simple_regret_stp_3[slice20],\n",
        "       simple_regret_stp_4[slice20],\n",
        "       simple_regret_stp_5[slice20],\n",
        "       simple_regret_stp_6[slice20],\n",
        "       simple_regret_stp_7[slice20],\n",
        "       simple_regret_stp_8[slice20],\n",
        "       simple_regret_stp_9[slice20],\n",
        "       simple_regret_stp_10[slice20],\n",
        "       simple_regret_stp_11[slice20],\n",
        "       simple_regret_stp_12[slice20],\n",
        "       simple_regret_stp_13[slice20],\n",
        "       simple_regret_stp_14[slice20],\n",
        "       simple_regret_stp_15[slice20],\n",
        "       simple_regret_stp_16[slice20],\n",
        "       simple_regret_stp_17[slice20],\n",
        "       simple_regret_stp_18[slice20],\n",
        "       simple_regret_stp_19[slice20],\n",
        "       simple_regret_stp_20[slice20]]\n",
        "\n",
        "gp20_results = pd.DataFrame(gp20).sort_values(by=[0], ascending=False)\n",
        "stp20_results = pd.DataFrame(stp20).sort_values(by=[0], ascending=False)\n",
        "\n",
        "### Best training regret minimization IQR - gp:\n",
        "lower_gp20 = np.asarray(gp20_results[4:5][0])[0]\n",
        "median_gp20 = np.asarray(gp20_results[9:10][0])[0]\n",
        "upper_gp20 = np.asarray(gp20_results[14:15][0])[0]\n",
        "\n",
        "lower_stp20 = np.asarray(stp20_results[4:5][0])[0]\n",
        "median_stp20 = np.asarray(stp20_results[9:10][0])[0]\n",
        "upper_stp20 = np.asarray(stp20_results[14:15][0])[0]\n"
      ]
    },
    {
      "cell_type": "code",
      "execution_count": 93,
      "metadata": {
        "id": "R1gk3HGTJLms"
      },
      "outputs": [],
      "source": [
        "### Summarise arrays: 'GP'\n",
        "\n",
        "lower_gp = [lower_gp1,\n",
        "            lower_gp2,\n",
        "            lower_gp3,\n",
        "            lower_gp4,\n",
        "            lower_gp5,\n",
        "            lower_gp6,\n",
        "            lower_gp7,\n",
        "            lower_gp8,\n",
        "            lower_gp9,\n",
        "            lower_gp10,\n",
        "            lower_gp11,\n",
        "            lower_gp12,\n",
        "            lower_gp13,\n",
        "            lower_gp14,\n",
        "            lower_gp15,\n",
        "            lower_gp16,\n",
        "            lower_gp17,\n",
        "            lower_gp18,\n",
        "            lower_gp19,\n",
        "            lower_gp20,\n",
        "            lower_gp21]\n",
        "\n",
        "median_gp = [median_gp1,\n",
        "            median_gp2,\n",
        "            median_gp3,\n",
        "            median_gp4,\n",
        "            median_gp5,\n",
        "            median_gp6,\n",
        "            median_gp7,\n",
        "            median_gp8,\n",
        "            median_gp9,\n",
        "            median_gp10,\n",
        "            median_gp11,\n",
        "            median_gp12,\n",
        "            median_gp13,\n",
        "            median_gp14,\n",
        "            median_gp15,\n",
        "            median_gp16,\n",
        "            median_gp17,\n",
        "            median_gp18,\n",
        "            median_gp19,\n",
        "            median_gp20,\n",
        "            median_gp21]\n",
        "\n",
        "upper_gp = [upper_gp1,\n",
        "            upper_gp2,\n",
        "            upper_gp3,\n",
        "            upper_gp4,\n",
        "            upper_gp5,\n",
        "            upper_gp6,\n",
        "            upper_gp7,\n",
        "            upper_gp8,\n",
        "            upper_gp9,\n",
        "            upper_gp10,\n",
        "            upper_gp11,\n",
        "            upper_gp12,\n",
        "            upper_gp13,\n",
        "            upper_gp14,\n",
        "            upper_gp15,\n",
        "            upper_gp16,\n",
        "            upper_gp17,\n",
        "            upper_gp18,\n",
        "            upper_gp19,\n",
        "            upper_gp20,\n",
        "            upper_gp21]\n"
      ]
    },
    {
      "cell_type": "code",
      "execution_count": 94,
      "metadata": {
        "id": "jox8uqaeJLmu"
      },
      "outputs": [],
      "source": [
        "### Summarise arrays: 'STP'\n",
        "\n",
        "lower_stp = [lower_stp1,\n",
        "            lower_stp2,\n",
        "            lower_stp3,\n",
        "            lower_stp4,\n",
        "            lower_stp5,\n",
        "            lower_stp6,\n",
        "            lower_stp7,\n",
        "            lower_stp8,\n",
        "            lower_stp9,\n",
        "            lower_stp10,\n",
        "            lower_stp11,\n",
        "            lower_stp12,\n",
        "            lower_stp13,\n",
        "            lower_stp14,\n",
        "            lower_stp15,\n",
        "            lower_stp16,\n",
        "            lower_stp17,\n",
        "            lower_stp18,\n",
        "            lower_stp19,\n",
        "            lower_stp20,\n",
        "            lower_stp21]\n",
        "\n",
        "median_stp = [median_stp1,\n",
        "            median_stp2,\n",
        "            median_stp3,\n",
        "            median_stp4,\n",
        "            median_stp5,\n",
        "            median_stp6,\n",
        "            median_stp7,\n",
        "            median_stp8,\n",
        "            median_stp9,\n",
        "            median_stp10,\n",
        "            median_stp11,\n",
        "            median_stp12,\n",
        "            median_stp13,\n",
        "            median_stp14,\n",
        "            median_stp15,\n",
        "            median_stp16,\n",
        "            median_stp17,\n",
        "            median_stp18,\n",
        "            median_stp19,\n",
        "            median_stp20,\n",
        "            median_stp21]\n",
        "\n",
        "upper_stp = [upper_stp1,\n",
        "            upper_stp2,\n",
        "            upper_stp3,\n",
        "            upper_stp4,\n",
        "            upper_stp5,\n",
        "            upper_stp6,\n",
        "            upper_stp7,\n",
        "            upper_stp8,\n",
        "            upper_stp9,\n",
        "            upper_stp10,\n",
        "            upper_stp11,\n",
        "            upper_stp12,\n",
        "            upper_stp13,\n",
        "            upper_stp14,\n",
        "            upper_stp15,\n",
        "            upper_stp16,\n",
        "            upper_stp17,\n",
        "            upper_stp18,\n",
        "            upper_stp19,\n",
        "            upper_stp20,\n",
        "            upper_stp21]\n"
      ]
    },
    {
      "cell_type": "code",
      "execution_count": 95,
      "metadata": {
        "id": "W4hkYeeMJLmw",
        "colab": {
          "base_uri": "https://localhost:8080/",
          "height": 299
        },
        "outputId": "fad241d3-9ca0-45c7-e24e-8a35e71add09"
      },
      "outputs": [
        {
          "output_type": "display_data",
          "data": {
            "text/plain": [
              "<Figure size 432x288 with 1 Axes>"
            ],
            "image/png": "[encoded data removed]"
          },
          "metadata": {
            "needs_background": "light"
          }
        }
      ],
      "source": [
        "### Visualise!\n",
        "\n",
        "title = obj_func\n",
        "\n",
        "plt.figure()\n",
        "\n",
        "plt.plot(median_gp, color = 'Red')\n",
        "plt.plot(median_stp, color = 'Blue')\n",
        "\n",
        "xstar = np.arange(0, max_iter+1, step=1)\n",
        "plt.fill_between(xstar, lower_gp, upper_gp, facecolor = 'Red', alpha=0.4, label='GP ERM Regret: IQR')\n",
        "plt.fill_between(xstar, lower_stp, upper_stp, facecolor = 'Blue', alpha=0.4, label='STP ERM Regret: IQR ' r'($\\nu$' ' = {})'.format(df))\n",
        "\n",
        "plt.title(title, weight = 'bold')\n",
        "plt.xlabel('(Post-initialisation) iteration $\\it{k}$', weight = 'bold') # x-axis label\n",
        "plt.ylabel('log(Regret)', weight = 'bold') # y-axis label\n",
        "plt.legend(loc=0) # add plot legend\n",
        "\n",
        "### Make the x-ticks integers, not floats:\n",
        "count = len(xstar)\n",
        "plt.xticks(np.arange(count), np.arange(0, count))\n",
        "plt.show() #visualise!\n"
      ]
    },
    {
      "cell_type": "code",
      "execution_count": 95,
      "metadata": {
        "id": "5TOZMC49JLmw"
      },
      "outputs": [],
      "source": []
    }
  ],
  "metadata": {
    "kernelspec": {
      "display_name": "Python 3",
      "language": "python",
      "name": "python3"
    },
    "language_info": {
      "codemirror_mode": {
        "name": "ipython",
        "version": 3
      },
      "file_extension": ".py",
      "mimetype": "text/x-python",
      "name": "python",
      "nbconvert_exporter": "python",
      "pygments_lexer": "ipython3",
      "version": "3.6.5"
    },
    "colab": {
      "provenance": [],
      "collapsed_sections": []
    }
  },
  "nbformat": 4,
  "nbformat_minor": 0
}