{
  "cells": [
    {
      "cell_type": "markdown",
      "metadata": {
        "id": "OrYfJFnSJLkS"
      },
      "source": [
        "Rosenbrock synthetic function:\n",
        "\n",
        "GP ERM versus STP nu = 3 ERM (winner)\n",
        "\n",
        "https://www.sfu.ca/~ssurjano/rosen.html"
      ]
    },
    {
      "cell_type": "code",
      "source": [
        "pip install pyGPGO\n"
      ],
      "metadata": {
        "colab": {
          "base_uri": "https://localhost:8080/"
        },
        "id": "2FgAmLMpOX3c",
        "outputId": "3674a52e-45f6-42ac-a1b6-1c07d8359a7f"
      },
      "execution_count": 1,
      "outputs": [
        {
          "output_type": "stream",
          "name": "stdout",
          "text": [
            "Looking in indexes: https://pypi.org/simple, https://us-python.pkg.dev/colab-wheels/public/simple/\n",
            "Collecting pyGPGO\n",
            "  Downloading pyGPGO-0.5.1.tar.gz (14 kB)\n",
            "Requirement already satisfied: numpy in /usr/local/lib/python3.7/dist-packages (from pyGPGO) (1.21.6)\n",
            "Requirement already satisfied: mkl in /usr/local/lib/python3.7/dist-packages (from pyGPGO) (2019.0)\n",
            "Requirement already satisfied: scipy in /usr/local/lib/python3.7/dist-packages (from pyGPGO) (1.7.3)\n",
            "Requirement already satisfied: joblib in /usr/local/lib/python3.7/dist-packages (from pyGPGO) (1.2.0)\n",
            "Requirement already satisfied: scikit-learn in /usr/local/lib/python3.7/dist-packages (from pyGPGO) (1.0.2)\n",
            "Collecting Theano-PyMC\n",
            "  Downloading Theano-PyMC-1.1.2.tar.gz (1.8 MB)\n",
            "\u001b[K     |████████████████████████████████| 1.8 MB 4.7 MB/s \n",
            "\u001b[?25hCollecting pyMC3\n",
            "  Downloading pymc3-3.11.5-py3-none-any.whl (872 kB)\n",
            "\u001b[K     |████████████████████████████████| 872 kB 51.4 MB/s \n",
            "\u001b[?25hRequirement already satisfied: intel-openmp in /usr/local/lib/python3.7/dist-packages (from mkl->pyGPGO) (2022.2.1)\n",
            "Requirement already satisfied: patsy>=0.5.1 in /usr/local/lib/python3.7/dist-packages (from pyMC3->pyGPGO) (0.5.3)\n",
            "Requirement already satisfied: fastprogress>=0.2.0 in /usr/local/lib/python3.7/dist-packages (from pyMC3->pyGPGO) (1.0.3)\n",
            "Collecting deprecat\n",
            "  Downloading deprecat-2.1.1-py2.py3-none-any.whl (9.8 kB)\n",
            "Requirement already satisfied: dill in /usr/local/lib/python3.7/dist-packages (from pyMC3->pyGPGO) (0.3.6)\n",
            "Requirement already satisfied: typing-extensions>=3.7.4 in /usr/local/lib/python3.7/dist-packages (from pyMC3->pyGPGO) (4.1.1)\n",
            "Collecting semver>=2.13.0\n",
            "  Downloading semver-2.13.0-py2.py3-none-any.whl (12 kB)\n",
            "Requirement already satisfied: pandas>=0.24.0 in /usr/local/lib/python3.7/dist-packages (from pyMC3->pyGPGO) (1.3.5)\n",
            "Requirement already satisfied: arviz>=0.11.0 in /usr/local/lib/python3.7/dist-packages (from pyMC3->pyGPGO) (0.12.1)\n",
            "Requirement already satisfied: cachetools>=4.2.1 in /usr/local/lib/python3.7/dist-packages (from pyMC3->pyGPGO) (5.2.0)\n",
            "Requirement already satisfied: filelock in /usr/local/lib/python3.7/dist-packages (from Theano-PyMC->pyGPGO) (3.8.0)\n",
            "Requirement already satisfied: xarray-einstats>=0.2 in /usr/local/lib/python3.7/dist-packages (from arviz>=0.11.0->pyMC3->pyGPGO) (0.2.2)\n",
            "Requirement already satisfied: matplotlib>=3.0 in /usr/local/lib/python3.7/dist-packages (from arviz>=0.11.0->pyMC3->pyGPGO) (3.2.2)\n",
            "Requirement already satisfied: packaging in /usr/local/lib/python3.7/dist-packages (from arviz>=0.11.0->pyMC3->pyGPGO) (21.3)\n",
            "Requirement already satisfied: netcdf4 in /usr/local/lib/python3.7/dist-packages (from arviz>=0.11.0->pyMC3->pyGPGO) (1.6.1)\n",
            "Requirement already satisfied: xarray>=0.16.1 in /usr/local/lib/python3.7/dist-packages (from arviz>=0.11.0->pyMC3->pyGPGO) (0.20.2)\n",
            "Requirement already satisfied: setuptools>=38.4 in /usr/local/lib/python3.7/dist-packages (from arviz>=0.11.0->pyMC3->pyGPGO) (57.4.0)\n",
            "Requirement already satisfied: kiwisolver>=1.0.1 in /usr/local/lib/python3.7/dist-packages (from matplotlib>=3.0->arviz>=0.11.0->pyMC3->pyGPGO) (1.4.4)\n",
            "Requirement already satisfied: pyparsing!=2.0.4,!=2.1.2,!=2.1.6,>=2.0.1 in /usr/local/lib/python3.7/dist-packages (from matplotlib>=3.0->arviz>=0.11.0->pyMC3->pyGPGO) (3.0.9)\n",
            "Requirement already satisfied: python-dateutil>=2.1 in /usr/local/lib/python3.7/dist-packages (from matplotlib>=3.0->arviz>=0.11.0->pyMC3->pyGPGO) (2.8.2)\n",
            "Requirement already satisfied: cycler>=0.10 in /usr/local/lib/python3.7/dist-packages (from matplotlib>=3.0->arviz>=0.11.0->pyMC3->pyGPGO) (0.11.0)\n",
            "Requirement already satisfied: pytz>=2017.3 in /usr/local/lib/python3.7/dist-packages (from pandas>=0.24.0->pyMC3->pyGPGO) (2022.6)\n",
            "Requirement already satisfied: six in /usr/local/lib/python3.7/dist-packages (from patsy>=0.5.1->pyMC3->pyGPGO) (1.15.0)\n",
            "Requirement already satisfied: importlib-metadata in /usr/local/lib/python3.7/dist-packages (from xarray>=0.16.1->arviz>=0.11.0->pyMC3->pyGPGO) (4.13.0)\n",
            "Requirement already satisfied: wrapt<2,>=1.10 in /usr/local/lib/python3.7/dist-packages (from deprecat->pyMC3->pyGPGO) (1.14.1)\n",
            "Requirement already satisfied: zipp>=0.5 in /usr/local/lib/python3.7/dist-packages (from importlib-metadata->xarray>=0.16.1->arviz>=0.11.0->pyMC3->pyGPGO) (3.10.0)\n",
            "Requirement already satisfied: cftime in /usr/local/lib/python3.7/dist-packages (from netcdf4->arviz>=0.11.0->pyMC3->pyGPGO) (1.6.2)\n",
            "Requirement already satisfied: threadpoolctl>=2.0.0 in /usr/local/lib/python3.7/dist-packages (from scikit-learn->pyGPGO) (3.1.0)\n",
            "Building wheels for collected packages: pyGPGO, Theano-PyMC\n",
            "  Building wheel for pyGPGO (setup.py) ... \u001b[?25l\u001b[?25hdone\n",
            "  Created wheel for pyGPGO: filename=pyGPGO-0.5.1-py3-none-any.whl size=19880 sha256=ff03f6f8ec24ad98acf58a89848be24c9a20e83f4792f5b690c752e49765eda2\n",
            "  Stored in directory: /root/.cache/pip/wheels/c8/5d/0b/2160114e2f1b87791c51b66cf07f89831dbb6f49167950316f\n",
            "  Building wheel for Theano-PyMC (setup.py) ... \u001b[?25l\u001b[?25hdone\n",
            "  Created wheel for Theano-PyMC: filename=Theano_PyMC-1.1.2-py3-none-any.whl size=1529964 sha256=93b043f52e56c7876eea1db79ff4d4ce6568a1a0a10695af75f5d2153f231cd3\n",
            "  Stored in directory: /root/.cache/pip/wheels/f3/af/8c/5dd7553522d74c52a7813806fc7ee1a9caa20a3f7c8fd850d5\n",
            "Successfully built pyGPGO Theano-PyMC\n",
            "Installing collected packages: Theano-PyMC, semver, deprecat, pyMC3, pyGPGO\n",
            "Successfully installed Theano-PyMC-1.1.2 deprecat-2.1.1 pyGPGO-0.5.1 pyMC3-3.11.5 semver-2.13.0\n"
          ]
        }
      ]
    },
    {
      "cell_type": "code",
      "execution_count": 2,
      "metadata": {
        "id": "Dn_SAbhVJLke"
      },
      "outputs": [],
      "source": [
        "### Import modules:\n",
        "\n",
        "import numpy as np\n",
        "import scipy as sp\n",
        "import pandas as pd\n",
        "import matplotlib.pyplot as plt\n",
        "import random\n",
        "import warnings\n",
        "\n",
        "from pyGPGO.logger import EventLogger\n",
        "from pyGPGO.GPGO import GPGO\n",
        "from pyGPGO.surrogates.GaussianProcess import GaussianProcess\n",
        "from pyGPGO.surrogates.tStudentProcess import tStudentProcess, logpdf\n",
        "from pyGPGO.acquisition import Acquisition\n",
        "from pyGPGO.covfunc import squaredExponential\n",
        "\n",
        "from collections import OrderedDict\n",
        "from joblib import Parallel, delayed\n",
        "from numpy.linalg import slogdet, inv, cholesky, solve\n",
        "from scipy.optimize import minimize\n",
        "from scipy.spatial.distance import cdist\n",
        "from scipy.special import gamma\n",
        "from scipy.stats import norm, t\n",
        "from matplotlib.pyplot import rc\n",
        "\n",
        "rc('text', usetex=False)\n",
        "plt.rcParams['text.latex.preamble']=[r'\\usepackage{amsmath}']\n",
        "plt.rcParams['text.latex.preamble'] = [r'\\boldmath']\n",
        "\n",
        "warnings.filterwarnings(\"ignore\", category=FutureWarning)\n",
        "warnings.filterwarnings(\"ignore\", category=RuntimeWarning)\n",
        "warnings.filterwarnings(\"ignore\", category=UserWarning)\n"
      ]
    },
    {
      "cell_type": "code",
      "execution_count": 3,
      "metadata": {
        "id": "4Nwg_XO0JLki"
      },
      "outputs": [],
      "source": [
        "### Inputs:\n",
        "\n",
        "obj_func = 'Rosenbrock'\n",
        "n_test = 500 # test points\n",
        "eps = 1e-08\n",
        "df = 3 # nu\n",
        "\n",
        "util_gp = 'RegretMinimized'\n",
        "util_stp = 'tRegretMinimized'\n",
        "n_init = 5 # random initialisations\n",
        "\n",
        "cov_func = squaredExponential()\n",
        "hyperOpt = True\n"
      ]
    },
    {
      "cell_type": "code",
      "execution_count": 4,
      "metadata": {
        "id": "DVYGZ6jYJLkj"
      },
      "outputs": [],
      "source": [
        "### Objective function:\n",
        "\n",
        "if obj_func == 'Rosenbrock':\n",
        "            \n",
        "    # True y bounds:\n",
        "    y_lb = 0\n",
        "    operator = -1 # targets global minimum \n",
        "    y_global_orig = y_lb * operator # targets global minimum\n",
        "            \n",
        "# Constraints:\n",
        "    lb = -2.048 \n",
        "    ub = +2.048 \n",
        "    \n",
        "# Input array dimension(s):\n",
        "    dim = 2\n",
        "\n",
        "# 2-D inputs' parameter bounds:\n",
        "    param = {'x1_training': ('cont', [lb, ub]),\n",
        "             'x2_training': ('cont', [lb, ub])}\n",
        "    \n",
        "# Test data:\n",
        "    x1_test = np.linspace(lb, ub, n_test)\n",
        "    x2_test = np.linspace(lb, ub, n_test)\n",
        "    Xstar_d = np.column_stack((x1_test, x2_test))\n",
        "    \n",
        "    def f_syn_polarity(x1_training, x2_training):\n",
        "        return operator * (100 * (x2_training - x1_training ** 2) ** 2 + (x1_training - 1) ** 2)\n"
      ]
    },
    {
      "cell_type": "code",
      "source": [
        "max_iter = dim * 10  # iterations of Bayesian optimisation"
      ],
      "metadata": {
        "id": "S9JivCxiYACE"
      },
      "execution_count": 5,
      "outputs": []
    },
    {
      "cell_type": "code",
      "execution_count": 6,
      "metadata": {
        "id": "hE7COdNcJLkl"
      },
      "outputs": [],
      "source": [
        "### Cumulative Regret Calculator:\n",
        "\n",
        "def min_max_array(x):\n",
        "    new_list = []\n",
        "    for i, num in enumerate(x):\n",
        "            new_list.append(np.min(x[0:i+1]))\n",
        "    return new_list\n"
      ]
    },
    {
      "cell_type": "code",
      "execution_count": 7,
      "metadata": {
        "id": "gkY6wLl_JLkm"
      },
      "outputs": [],
      "source": [
        "### Set-seeds:\n",
        "\n",
        "run_num_1 = 1\n",
        "run_num_2 = 2\n",
        "run_num_3 = 3\n",
        "run_num_4 = 4\n",
        "run_num_5 = 5\n",
        "run_num_6 = 6\n",
        "run_num_7 = 7\n",
        "run_num_8 = 8\n",
        "run_num_9 = 9\n",
        "run_num_10 = 10\n",
        "run_num_11 = 11\n",
        "run_num_12 = 12\n",
        "run_num_13 = 13\n",
        "run_num_14 = 14\n",
        "run_num_15 = 15\n",
        "run_num_16 = 16\n",
        "run_num_17 = 17\n",
        "run_num_18 = 18\n",
        "run_num_19 = 19\n",
        "run_num_20 = 20\n"
      ]
    },
    {
      "cell_type": "code",
      "execution_count": 8,
      "metadata": {
        "id": "Mh53nXeyJLko"
      },
      "outputs": [],
      "source": [
        "### Acquisition function - ERM:\n",
        "\n",
        "class Acquisition_new(Acquisition):    \n",
        "    def __init__(self, mode, eps=eps, **params):\n",
        "        \n",
        "        self.params = params\n",
        "        self.eps = eps\n",
        "\n",
        "        mode_dict = {\n",
        "            'RegretMinimized': self.RegretMinimized,\n",
        "            'tRegretMinimized': self.tRegretMinimized\n",
        "        }\n",
        "\n",
        "        self.f = mode_dict[mode]\n",
        "   \n",
        "    def RegretMinimized(self, tau, mean, std):\n",
        "        \n",
        "        z = (mean - y_global_orig - self.eps) / (std + self.eps)\n",
        "        return z * (std + self.eps) * norm.cdf(z) + (std + self.eps) * norm.pdf(z)[0]\n",
        "    \n",
        "    def tRegretMinimized(self, tau, mean, std, nu=3.0):\n",
        "        \n",
        "        gamma = (mean - y_global_orig - self.eps) / (std + self.eps)\n",
        "        return gamma * (std + self.eps) * t.cdf(gamma, df=nu) + (std + self.eps) * (nu + gamma ** 2)/(nu - 1) * t.pdf(gamma, df=nu)\n",
        "    \n",
        "    def eval(self, y_global_orig, mean, std):\n",
        "    \n",
        "        return self.f(y_global_orig, mean, std, **self.params)\n",
        "        \n",
        "    def t_eval(self, y_global_orig, mean, std, nu=df):\n",
        "    \n",
        "        return self.f(y_global_orig, mean, std, nu=df, **self.params)\n"
      ]
    },
    {
      "cell_type": "code",
      "source": [
        "n_start_AcqFunc = max_iter\n",
        "inverse = -1\n"
      ],
      "metadata": {
        "id": "xSwpeFj-Y-Hl"
      },
      "execution_count": 9,
      "outputs": []
    },
    {
      "cell_type": "code",
      "source": [
        "## GPGO_multi: Gaussian\n",
        "\n",
        "n_start = n_start_AcqFunc\n",
        "\n",
        "class GPGO_multi(GPGO):\n",
        "\n",
        "    def __init__(self, surrogate, acquisition, f, parameter_dict, n_jobs=1):\n",
        "        self.GP = surrogate\n",
        "        self.A = acquisition\n",
        "        self.f = f\n",
        "        self.parameters = parameter_dict\n",
        "        self.n_jobs = n_jobs\n",
        "\n",
        "        self.parameter_key = list(parameter_dict.keys())\n",
        "        self.parameter_value = list(parameter_dict.values())\n",
        "        self.parameter_type = [p[0] for p in self.parameter_value]\n",
        "        self.parameter_range = [p[1] for p in self.parameter_value]\n",
        "\n",
        "        self.history = []\n",
        "        self.header =   'Evaluation \\t Proposed point \\t  Current eval. \\t  Best eval. \\t Min. ApproxAcqFunc '\n",
        "        self.template = '{:3}\\t {}\\t {:3}\\t {:3}\\t {:3}'\n",
        " \n",
        "    def acqfuncApprox(self, xnew):\n",
        "        new_mean, new_var = self.GP.predict(xnew, return_std=True)\n",
        "        new_std = np.sqrt(new_var + eps)\n",
        "        f = self.A.eval(self.tau, new_mean, new_std)\n",
        "\n",
        "        return -f\n",
        "   \n",
        "    def _optimizeAcq(self, method='L-BFGS-B'):\n",
        "        \n",
        "        start_points_dict = [self._sampleParam() for i in range(n_start)]\n",
        "        start_points_arr = np.array([list(s.values())\n",
        "                                     for s in start_points_dict])\n",
        "        x_best = np.empty((n_start, len(self.parameter_key)))\n",
        "        f_best = np.empty((n_start,))\n",
        "        opt = Parallel(n_jobs=self.n_jobs)(delayed(minimize)(self.acqfuncApprox,\n",
        "                                                                 x0=start_point,\n",
        "                                                                 method=method,\n",
        "                                                                 jac = False,\n",
        "                                                                 bounds=self.parameter_range) for start_point in\n",
        "                                               start_points_arr)\n",
        "        x_best = np.array([res.x for res in opt])\n",
        "        f_best = np.array([np.atleast_1d(res.fun)[0] for res in opt])\n",
        "        f_best_min = min(f_best)\n",
        "\n",
        "        self.x_best = x_best\n",
        "        self.f_best = f_best\n",
        "        self.f_best_min = f_best_min\n",
        "        self.best = x_best[np.argmin(f_best)]\n",
        "        self.start_points_arr = start_points_arr        \n",
        "        self.history.append(self.f_best_min)\n",
        "\n",
        "    def _printInit(self):\n",
        "        print(self.header)\n",
        "        for init_eval in range(self.init_evals):\n",
        "            print(self.template.format('init', self.GP.X[init_eval], inverse * self.GP.y[init_eval], inverse * self.tau, ''))\n",
        "      \n",
        "    def _printCurrent(self):\n",
        "        OKGREEN = '\\033[92m'\n",
        "        ENDC = '\\033[0m'\n",
        "        BOLD = '\\033[1m'\n",
        "        eval = str(len(self.GP.y) - self.init_evals)\n",
        "        proposed = str(self.best)\n",
        "        curr_eval = str(inverse * self.GP.y[-1])\n",
        "        curr_best = str(inverse * self.tau)\n",
        "        min_acqfunc = str(self.f_best_min)\n",
        "        if float(curr_eval) <= float(curr_best):\n",
        "            eval = BOLD + OKGREEN + eval + ENDC\n",
        "            proposed = BOLD + OKGREEN + proposed + ENDC\n",
        "            curr_eval = BOLD + OKGREEN + curr_eval + ENDC\n",
        "            curr_best = BOLD + OKGREEN + curr_best + ENDC\n",
        "            min_acqfunc = BOLD + OKGREEN + min_acqfunc + ENDC\n",
        "        print(self.template.format(eval, proposed, curr_eval, curr_best, min_acqfunc))\n",
        "        \n",
        "    def run(self, max_iter=10, init_evals=3, resume=False):\n",
        "        \n",
        "        if not resume:\n",
        "            self.init_evals = init_evals\n",
        "            self._firstRun(self.init_evals)\n",
        "            self._printInit()\n",
        "        for iteration in range(max_iter):\n",
        "            self._optimizeAcq()\n",
        "            self.updateGP()\n",
        "            self._printCurrent()\n"
      ],
      "metadata": {
        "id": "YorxhvyZXyfZ"
      },
      "execution_count": 10,
      "outputs": []
    },
    {
      "cell_type": "code",
      "source": [
        "## GPGO_multi_STP: Student's-t\n",
        "\n",
        "class GPGO_multi_STP(GPGO):\n",
        "\n",
        "    def __init__(self, surrogate, acquisition, f, parameter_dict, n_jobs=1):\n",
        "        self.GP = surrogate\n",
        "        self.A = acquisition\n",
        "        self.f = f\n",
        "        self.parameters = parameter_dict\n",
        "        self.n_jobs = n_jobs\n",
        "\n",
        "        self.parameter_key = list(parameter_dict.keys())\n",
        "        self.parameter_value = list(parameter_dict.values())\n",
        "        self.parameter_type = [p[0] for p in self.parameter_value]\n",
        "        self.parameter_range = [p[1] for p in self.parameter_value]\n",
        "\n",
        "        self.history = []\n",
        "        self.header =   'Evaluation \\t Proposed point \\t  Current eval. \\t  Best eval. \\t Min. ApproxAcqFunc '\n",
        "        self.template = '{:3}\\t {}\\t {:3}\\t {:3}\\t {:3}'\n",
        " \n",
        "    def acqfuncApprox(self, xnew):\n",
        "        new_mean, new_var = self.GP.predict(xnew, return_std=True)\n",
        "        new_std = np.sqrt(new_var + eps)\n",
        "        f = self.A.t_eval(self.tau, new_mean, new_std)\n",
        "\n",
        "        return -f\n",
        "   \n",
        "    def _optimizeAcq(self, method='L-BFGS-B'):\n",
        "        \n",
        "        start_points_dict = [self._sampleParam() for i in range(n_start)]\n",
        "        start_points_arr = np.array([list(s.values())\n",
        "                                     for s in start_points_dict])\n",
        "        x_best = np.empty((n_start, len(self.parameter_key)))\n",
        "        f_best = np.empty((n_start,))\n",
        "        opt = Parallel(n_jobs=self.n_jobs)(delayed(minimize)(self.acqfuncApprox,\n",
        "                                                                 x0=start_point,\n",
        "                                                                 method=method,\n",
        "                                                                 jac = False,\n",
        "                                                                 bounds=self.parameter_range) for start_point in\n",
        "                                               start_points_arr)\n",
        "        x_best = np.array([res.x for res in opt])\n",
        "        f_best = np.array([np.atleast_1d(res.fun)[0] for res in opt])\n",
        "        f_best_min = min(f_best)\n",
        "\n",
        "        self.x_best = x_best\n",
        "        self.f_best = f_best\n",
        "        self.f_best_min = f_best_min\n",
        "        self.best = x_best[np.argmin(f_best)]\n",
        "        self.start_points_arr = start_points_arr        \n",
        "        self.history.append(self.f_best_min)\n",
        "\n",
        "    def _printInit(self):\n",
        "        print(self.header)\n",
        "        for init_eval in range(self.init_evals):\n",
        "            print(self.template.format('init', self.GP.X[init_eval], inverse * self.GP.y[init_eval], inverse * self.tau, ''))\n",
        "      \n",
        "    def _printCurrent(self):\n",
        "        OKGREEN = '\\033[92m'\n",
        "        ENDC = '\\033[0m'\n",
        "        BOLD = '\\033[1m'\n",
        "        eval = str(len(self.GP.y) - self.init_evals)\n",
        "        proposed = str(self.best)\n",
        "        curr_eval = str(inverse * self.GP.y[-1])\n",
        "        curr_best = str(inverse * self.tau)\n",
        "        min_acqfunc = str(self.f_best_min)\n",
        "        if float(curr_eval) <= float(curr_best):\n",
        "            eval = BOLD + OKGREEN + eval + ENDC\n",
        "            proposed = BOLD + OKGREEN + proposed + ENDC\n",
        "            curr_eval = BOLD + OKGREEN + curr_eval + ENDC\n",
        "            curr_best = BOLD + OKGREEN + curr_best + ENDC\n",
        "            min_acqfunc = BOLD + OKGREEN + min_acqfunc + ENDC\n",
        "        print(self.template.format(eval, proposed, curr_eval, curr_best, min_acqfunc))\n",
        "        \n",
        "    def run(self, max_iter=10, init_evals=3, resume=False):\n",
        "        \n",
        "        if not resume:\n",
        "            self.init_evals = init_evals\n",
        "            self._firstRun(self.init_evals)\n",
        "            self._printInit()\n",
        "        for iteration in range(max_iter):\n",
        "            self._optimizeAcq()\n",
        "            self.updateGP()\n",
        "            self._printCurrent()\n"
      ],
      "metadata": {
        "id": "QaOjAKNoXynM"
      },
      "execution_count": 11,
      "outputs": []
    },
    {
      "cell_type": "code",
      "execution_count": 12,
      "metadata": {
        "scrolled": false,
        "colab": {
          "base_uri": "https://localhost:8080/"
        },
        "id": "Fio5AsW9JLkp",
        "outputId": "f8c2f25b-1982-46be-95c2-87c52aed7a21"
      },
      "outputs": [
        {
          "output_type": "stream",
          "name": "stdout",
          "text": [
            "Evaluation \t Proposed point \t  Current eval. \t  Best eval. \t Min. ApproxAcqFunc \n",
            "init\t [-0.33987787  0.90244913]\t 63.72149506568065\t 2.0636815813193974\t    \n",
            "init\t [-2.04753152 -0.80964578]\t 2511.318971868364\t 2.0636815813193974\t    \n",
            "init\t [-1.44688787 -1.66978112]\t 1422.2040787100386\t 2.0636815813193974\t    \n",
            "init\t [-1.28507817 -0.63258326]\t 526.8913737894474\t 2.0636815813193974\t    \n",
            "init\t [-0.42284043  0.15899334]\t 2.0636815813193974\t 2.0636815813193974\t    \n",
            "1  \t [0.53409108 0.08802466]\t 4.106984040536482\t 2.0636815813193974\t -21.28967720321002\n",
            "\u001b[1m\u001b[92m2\u001b[0m\t \u001b[1m\u001b[92m[0.47530473 0.13934726]\u001b[0m\t \u001b[1m\u001b[92m1.0246954407286555\u001b[0m\t \u001b[1m\u001b[92m1.0246954407286555\u001b[0m\t \u001b[1m\u001b[92m-10.414973382442385\u001b[0m\n",
            "\u001b[1m\u001b[92m3\u001b[0m\t \u001b[1m\u001b[92m[0.45856148 0.15332308]\u001b[0m\t \u001b[1m\u001b[92m0.617549212690099\u001b[0m\t \u001b[1m\u001b[92m0.617549212690099\u001b[0m\t \u001b[1m\u001b[92m-7.066087285684372\u001b[0m\n",
            "\u001b[1m\u001b[92m4\u001b[0m\t \u001b[1m\u001b[92m[0.4504505  0.15985323]\u001b[0m\t \u001b[1m\u001b[92m0.4873557449210717\u001b[0m\t \u001b[1m\u001b[92m0.4873557449210717\u001b[0m\t \u001b[1m\u001b[92m-5.338719265258402\u001b[0m\n",
            "5  \t [ 0.44249781 -0.00861207]\t 4.489414657691469\t 0.4873557449210717\t -3.2161000336242958\n",
            "\u001b[1m\u001b[92m6\u001b[0m\t \u001b[1m\u001b[92m[0.43091704 0.18920382]\u001b[0m\t \u001b[1m\u001b[92m0.3250904637955513\u001b[0m\t \u001b[1m\u001b[92m0.3250904637955513\u001b[0m\t \u001b[1m\u001b[92m-3.1480108018449906\u001b[0m\n",
            "\u001b[1m\u001b[92m7\u001b[0m\t \u001b[1m\u001b[92m[0.43048273 0.18779838]\u001b[0m\t \u001b[1m\u001b[92m0.32496644263830365\u001b[0m\t \u001b[1m\u001b[92m0.32496644263830365\u001b[0m\t \u001b[1m\u001b[92m-2.6928195132808757\u001b[0m\n",
            "8  \t [0.43014241 0.18677436]\t 0.3250445820435948\t 0.32496644263830365\t -2.3531943975908862\n",
            "9  \t [0.42986733 0.18599912]\t 0.3251984427791198\t 0.32496644263830365\t -2.0922507820319667\n",
            "10 \t [0.42963961 0.18539419]\t 0.32537561533509873\t 0.32496644263830365\t -1.8869331953637691\n",
            "11 \t [0.42944764 0.18491067]\t 0.32555355541513464\t 0.32496644263830365\t -1.7221232832786277\n",
            "12 \t [ 2.048 -2.048]\t 3897.7342268415996\t 0.32496644263830365\t -0.37411863094253667\n",
            "13 \t [0.24421044 0.53804888]\t 23.458844372505368\t 0.32496644263830365\t -19.276943473164806\n",
            "14 \t [2.048 2.048]\t 461.7603900415999\t 0.32496644263830365\t -0.3130264666099355\n",
            "15 \t [0.44577249 0.7473304 ]\t 30.40526043338001\t 0.32496644263830365\t -1.4494097706176796e-10\n",
            "16 \t [-1.78282503  2.0125553 ]\t 143.67867666131892\t 0.32496644263830365\t -1.0756443888100323e-24\n",
            "17 \t [-0.19727872  0.85385572]\t 67.8456799353599\t 0.32496644263830365\t -5.244342582573922e-21\n",
            "18 \t [-0.21858285  1.54433286]\t 225.45244992594627\t 0.32496644263830365\t -3.5240162178215884e-238\n",
            "19 \t [0.43055833 0.04940197]\t 2.1732793118049782\t 0.32496644263830365\t -2.3019064301616642e-14\n",
            "20 \t [0.1990862 0.2304486]\t 4.282434051589889\t 0.32496644263830365\t -5.824016097090522\n"
          ]
        }
      ],
      "source": [
        "### Bayesian optimisation runs (x20): 'GP' Acquisition Function run number = 1\n",
        "\n",
        "np.random.seed(run_num_1)\n",
        "surrogate_gp_1 = GaussianProcess(cov_func, optimize=hyperOpt)\n",
        "\n",
        "gp_1 = GPGO_multi(surrogate_gp_1, Acquisition_new(util_gp), f_syn_polarity, param, n_jobs = -1) # define BayesOpt\n",
        "gp_1.run(max_iter = max_iter, init_evals = n_init) # run\n"
      ]
    },
    {
      "cell_type": "code",
      "execution_count": 13,
      "metadata": {
        "colab": {
          "base_uri": "https://localhost:8080/"
        },
        "id": "6CLxOiUrJLks",
        "outputId": "58c90776-3e1c-42f9-bec6-aa6ef5276626"
      },
      "outputs": [
        {
          "output_type": "stream",
          "name": "stdout",
          "text": [
            "Evaluation \t Proposed point \t  Current eval. \t  Best eval. \t Min. ApproxAcqFunc \n",
            "init\t [-0.26216488 -1.94180615]\t 405.8187938051167\t 10.016400127761926\t    \n",
            "init\t [ 0.20341751 -0.26491948]\t 10.016400127761926\t 10.016400127761926\t    \n",
            "init\t [-0.32617348 -0.69494857]\t 65.97294928625357\t 10.016400127761926\t    \n",
            "init\t [-1.20975919  0.48853388]\t 99.94230490266065\t 10.016400127761926\t    \n",
            "init\t [-0.82061446 -0.95507548]\t 268.5105099964258\t 10.016400127761926\t    \n",
            "1  \t [1.06286349 0.39570345]\t 53.87593374675744\t 10.016400127761926\t -9.738896633783675\n",
            "2  \t [ 1.93704219 -1.58606862]\t 2850.5170948650257\t 10.016400127761926\t -4.378647099752156e-15\n",
            "3  \t [0.36370807 0.91760514]\t 62.07786568280151\t 10.016400127761926\t -23.462852515638648\n",
            "4  \t [2.048 2.048]\t 461.7603900415999\t 10.016400127761926\t -0.19702055007717167\n",
            "5  \t [0.05899084 0.44617789]\t 20.48364758084469\t 10.016400127761926\t -2.903907363850712e-08\n",
            "6  \t [-1.76267022  1.782389  ]\t 183.09344984081326\t 10.016400127761926\t -6.787446843307661e-21\n",
            "7  \t [0.02073363 0.7308145 ]\t 54.305132082659746\t 10.016400127761926\t -1.7798685958514542e-28\n",
            "8  \t [0.25979304 0.98591503]\t 84.89791384287302\t 10.016400127761926\t -1.8943593998897724e-119\n",
            "9  \t [0.16988831 0.37633666]\t 12.762946964344323\t 10.016400127761926\t -7.878806393454044e-63\n",
            "10 \t [-0.11113098  0.51164118]\t 26.163771043999365\t 10.016400127761926\t -1.6992652356428683e-74\n",
            "11 \t [0.32706857 0.74574996]\t 41.25632846615425\t 10.016400127761926\t -1.0364349203482661e-112\n",
            "12 \t [-0.12587916  0.46186056]\t 21.160542004184393\t 10.016400127761926\t -2.931710908991801e-73\n",
            "13 \t [0.40787645 1.06462656]\t 81.03831642347521\t 10.016400127761926\t -1.991493185013123e-276\n",
            "\u001b[1m\u001b[92m14\u001b[0m\t \u001b[1m\u001b[92m[-0.20585619 -0.12284072]\u001b[0m\t \u001b[1m\u001b[92m4.183771250107075\u001b[0m\t \u001b[1m\u001b[92m4.183771250107075\u001b[0m\t \u001b[1m\u001b[92m-1.9438639847237168e-177\u001b[0m\n",
            "15 \t [0.38484404 0.70706132]\t 31.621640631352108\t 4.183771250107075\t -1.181017908912282e-134\n",
            "16 \t [0.16612951 0.54634347]\t 27.60492068940277\t 4.183771250107075\t -3.4304417380786376e-61\n",
            "\u001b[1m\u001b[92m17\u001b[0m\t \u001b[1m\u001b[92m[-0.16279557  0.08751322]\u001b[0m\t \u001b[1m\u001b[92m1.7243256141012484\u001b[0m\t \u001b[1m\u001b[92m1.7243256141012484\u001b[0m\t \u001b[1m\u001b[92m-6.84270858655676e-54\u001b[0m\n",
            "18 \t [0.10219675 0.28430927]\t 8.306259759393294\t 1.7243256141012484\t -5.924789787598084e-32\n",
            "19 \t [-0.02222902  0.38632247]\t 15.931302714570899\t 1.7243256141012484\t -9.788275121403686e-31\n",
            "20 \t [0.27823589 0.38996307]\t 10.289560097293498\t 1.7243256141012484\t -3.4029455161228054e-49\n"
          ]
        }
      ],
      "source": [
        "### Bayesian optimisation runs (x20): 'GP' Acquisition Function run number = 2\n",
        "\n",
        "np.random.seed(run_num_2)\n",
        "surrogate_gp_2 = GaussianProcess(cov_func, optimize=hyperOpt)\n",
        "\n",
        "gp_2 = GPGO_multi(surrogate_gp_2, Acquisition_new(util_gp), f_syn_polarity, param, n_jobs = -1) # define BayesOpt\n",
        "gp_2.run(max_iter = max_iter, init_evals = n_init) # run\n"
      ]
    },
    {
      "cell_type": "code",
      "execution_count": 14,
      "metadata": {
        "id": "OrboSzBtJLku",
        "colab": {
          "base_uri": "https://localhost:8080/"
        },
        "outputId": "8ff3f065-e37e-4561-e8aa-5f437b010900"
      },
      "outputs": [
        {
          "output_type": "stream",
          "name": "stdout",
          "text": [
            "Evaluation \t Proposed point \t  Current eval. \t  Best eval. \t Min. ApproxAcqFunc \n",
            "init\t [0.20806821 0.85257348]\t 66.12074614607258\t 50.941111321262525\t    \n",
            "init\t [-0.85645419  0.04434987]\t 50.941111321262525\t 50.941111321262525\t    \n",
            "init\t [1.60951073 1.62321649]\t 93.94003449768307\t 50.941111321262525\t    \n",
            "init\t [-1.53360257 -1.19913317]\t 1267.4289626896234\t 50.941111321262525\t    \n",
            "init\t [-1.83719034 -0.24244288]\t 1316.8330877748904\t 50.941111321262525\t    \n",
            "1  \t [ 2.048 -2.048]\t 3897.7342268415996\t 50.941111321262525\t -0.6091254319402895\n",
            "\u001b[1m\u001b[92m2\u001b[0m\t \u001b[1m\u001b[92m[-1.27871048  1.85180669]\u001b[0m\t \u001b[1m\u001b[92m9.888679461548564\u001b[0m\t \u001b[1m\u001b[92m9.888679461548564\u001b[0m\t \u001b[1m\u001b[92m-1.2024542048792131e-39\u001b[0m\n",
            "3  \t [-0.32940127  1.54506439]\t 208.1375378066447\t 9.888679461548564\t -4.853746529148434e-07\n",
            "4  \t [-0.00908152  0.3412456 ]\t 12.657473700649524\t 9.888679461548564\t -9.583240127795013e-176\n",
            "5  \t [1.99930984 1.93012626]\t 428.2944685433012\t 9.888679461548564\t -1.7442586645826654e-117\n",
            "\u001b[1m\u001b[92m6\u001b[0m\t \u001b[1m\u001b[92m[0.0665374  0.28757294]\u001b[0m\t \u001b[1m\u001b[92m8.88850230470356\u001b[0m\t \u001b[1m\u001b[92m8.88850230470356\u001b[0m\t \u001b[1m\u001b[92m-1.679096289160414e-73\u001b[0m\n",
            "7  \t [0.42311788 0.4898011 ]\t 9.990738986296606\t 8.88850230470356\t -4.830433402003347e-46\n",
            "\u001b[1m\u001b[92m8\u001b[0m\t \u001b[1m\u001b[92m[0.80079377 0.4309427 ]\u001b[0m\t \u001b[1m\u001b[92m4.4634684909581965\u001b[0m\t \u001b[1m\u001b[92m4.4634684909581965\u001b[0m\t \u001b[1m\u001b[92m-7.975343029662608e-132\u001b[0m\n",
            "\u001b[1m\u001b[92m9\u001b[0m\t \u001b[1m\u001b[92m[0.11671461 0.19934075]\u001b[0m\t \u001b[1m\u001b[92m4.229327308946314\u001b[0m\t \u001b[1m\u001b[92m4.229327308946314\u001b[0m\t \u001b[1m\u001b[92m-6.761522258500148e-24\u001b[0m\n",
            "\u001b[1m\u001b[92m10\u001b[0m\t \u001b[1m\u001b[92m[0.79677523 0.66775756]\u001b[0m\t \u001b[1m\u001b[92m0.14958605636869554\u001b[0m\t \u001b[1m\u001b[92m0.14958605636869554\u001b[0m\t \u001b[1m\u001b[92m-1.0837726245373266e-97\u001b[0m\n",
            "11 \t [1.20827752 0.40965004]\t 110.35313728501404\t 0.14958605636869554\t -2.020235859723492e-215\n",
            "12 \t [0.61139187 0.03547657]\t 11.597291704826915\t 0.14958605636869554\t -6.122451608234272e-187\n",
            "13 \t [0.7568833  0.28189112]\t 8.526112561224256\t 0.14958605636869554\t -1.7801502476550596e-80\n",
            "14 \t [0.29245413 0.33743981]\t 6.846505880682004\t 0.14958605636869554\t -0.256601492127856\n",
            "15 \t [-1.25327564  1.91838875]\t 17.166009773796898\t 0.14958605636869554\t -5.121856554431186e-164\n",
            "16 \t [ 0.23085576 -0.27475274]\t 11.35307398268425\t 0.14958605636869554\t -2.4683511083132322e-281\n",
            "17 \t [0.29366067 0.25832503]\t 3.4603584218784014\t 0.14958605636869554\t -2.0478166030035942\n",
            "18 \t [ 0.50579332 -0.08792558]\t 12.060816003203373\t 0.14958605636869554\t -2.8859715965230246e-80\n",
            "19 \t [0.70595945 0.74711373]\t 6.273369259109056\t 0.14958605636869554\t -8.920853555505032e-115\n",
            "20 \t [0.85544789 0.29595406]\t 19.016287510012184\t 0.14958605636869554\t -9.978725768897395e-79\n"
          ]
        }
      ],
      "source": [
        "### Bayesian optimisation runs (x20): 'GP' Acquisition Function run number = 3\n",
        "\n",
        "np.random.seed(run_num_3)\n",
        "surrogate_gp_3 = GaussianProcess(cov_func, optimize=hyperOpt)\n",
        "\n",
        "gp_3 = GPGO_multi(surrogate_gp_3, Acquisition_new(util_gp), f_syn_polarity, param, n_jobs = -1) # define BayesOpt\n",
        "gp_3.run(max_iter = max_iter, init_evals = n_init) # run\n"
      ]
    },
    {
      "cell_type": "code",
      "execution_count": 15,
      "metadata": {
        "id": "wmlwMmKcJLkv",
        "colab": {
          "base_uri": "https://localhost:8080/"
        },
        "outputId": "e07044af-a7f6-4542-edf5-3e5eb70cd406"
      },
      "outputs": [
        {
          "output_type": "stream",
          "name": "stdout",
          "text": [
            "Evaluation \t Proposed point \t  Current eval. \t  Best eval. \t Min. ApproxAcqFunc \n",
            "init\t [1.91295422 0.19346329]\t 1202.1009483415905\t 170.66405971002487\t    \n",
            "init\t [1.93611514 0.87988631]\t 823.7947602867234\t 170.66405971002487\t    \n",
            "init\t [ 0.80989727 -1.16289743]\t 330.8507621971172\t 170.66405971002487\t    \n",
            "init\t [ 1.95082017 -2.02248087]\t 3397.672500714367\t 170.66405971002487\t    \n",
            "init\t [-1.01178424 -0.26709388]\t 170.66405971002487\t 170.66405971002487\t    \n",
            "\u001b[1m\u001b[92m1\u001b[0m\t \u001b[1m\u001b[92m[-1.30070362  1.71369693]\u001b[0m\t \u001b[1m\u001b[92m5.341053789362993\u001b[0m\t \u001b[1m\u001b[92m5.341053789362993\u001b[0m\t \u001b[1m\u001b[92m-6.253819847695615e-13\u001b[0m\n",
            "2  \t [-2.048  2.048]\t 469.9523900415999\t 5.341053789362993\t -0.43487740363389094\n",
            "3  \t [-0.7267329   1.78295135]\t 160.43658254610435\t 5.341053789362993\t -1.1624109885617367e-120\n",
            "4  \t [-1.10286462 -1.83322674]\t 934.3896998962097\t 5.341053789362993\t -1.8476326670069593e-18\n",
            "5  \t [-0.59254117  0.7620047 ]\t 19.420040578144004\t 5.341053789362993\t -3.3469246795932674e-262\n",
            "\u001b[1m\u001b[92m6\u001b[0m\t \u001b[1m\u001b[92m[-0.40848711  0.2917753 ]\u001b[0m\t \u001b[1m\u001b[92m3.544176269104631\u001b[0m\t \u001b[1m\u001b[92m3.544176269104631\u001b[0m\t \u001b[1m\u001b[92m-4.710632846646067e-265\u001b[0m\n",
            "7  \t [-0.72638049  0.91913014]\t 18.30773383973559\t 3.544176269104631\t -1.8157726524909585e-111\n",
            "8  \t [-0.95476819  0.58099679]\t 14.749796990515225\t 3.544176269104631\t -6.935037867839536e-105\n",
            "9  \t [-0.69093689  0.76431067]\t 11.09139700648528\t 3.544176269104631\t -2.769335029420634e-57\n",
            "10 \t [-0.34931611  0.71631143]\t 37.13867656297215\t 3.544176269104631\t -1.1462194667613682e-86\n",
            "11 \t [-1.56685248 -1.44870765]\t 1530.5029119202893\t 3.544176269104631\t -0.0\n",
            "12 \t [-0.09130303  0.4181286 ]\t 17.98392010341096\t 3.544176269104631\t -1.1687066364576245e-201\n",
            "13 \t [-0.91481272  0.78757685]\t 3.90961063700624\t 3.544176269104631\t -1.7266470869435618e-52\n",
            "14 \t [-0.34354277  0.47422576]\t 14.493245094217249\t 3.544176269104631\t -1.1278552321187945e-36\n",
            "15 \t [-0.73096408  0.70040138]\t 5.754921625504743\t 3.544176269104631\t -2.08728530018569e-17\n",
            "16 \t [-0.32239762  0.62126042]\t 28.51075395193262\t 3.544176269104631\t -3.266886263742744e-33\n",
            "17 \t [-0.59682846  1.27833684]\t 87.5827203261906\t 3.544176269104631\t -2.3270022275583936e-132\n",
            "18 \t [-0.64551166  0.58926185]\t 5.685975282876415\t 3.544176269104631\t -8.356374564024247e-23\n",
            "19 \t [-0.58860536  1.46001516]\t 126.52500823494827\t 3.544176269104631\t -1.519882e-317\n",
            "20 \t [-0.55111982 -0.11617147]\t 20.03795361508818\t 3.544176269104631\t -0.0\n"
          ]
        }
      ],
      "source": [
        "### Bayesian optimisation runs (x20): 'GP' Acquisition Function run number = 4\n",
        "\n",
        "np.random.seed(run_num_4)\n",
        "surrogate_gp_4 = GaussianProcess(cov_func, optimize=hyperOpt)\n",
        "\n",
        "gp_4 = GPGO_multi(surrogate_gp_4, Acquisition_new(util_gp), f_syn_polarity, param, n_jobs = -1) # define BayesOpt\n",
        "gp_4.run(max_iter = max_iter, init_evals = n_init) # run\n"
      ]
    },
    {
      "cell_type": "code",
      "execution_count": 16,
      "metadata": {
        "id": "ntlcfbyWJLkw",
        "colab": {
          "base_uri": "https://localhost:8080/"
        },
        "outputId": "58b70b5c-a77e-4a5d-fb9f-a5a615acc571"
      },
      "outputs": [
        {
          "output_type": "stream",
          "name": "stdout",
          "text": [
            "Evaluation \t Proposed point \t  Current eval. \t  Best eval. \t Min. ApproxAcqFunc \n",
            "init\t [-1.13871597  1.51851953]\t 9.495646950867519\t 9.495646950867519\t    \n",
            "init\t [-1.20127834  1.71463028]\t 12.220143873516523\t 9.495646950867519\t    \n",
            "init\t [-0.04746777  0.45770286]\t 21.840629211931905\t 9.495646950867519\t    \n",
            "init\t [1.08915858 0.07544008]\t 123.40146376592485\t 9.495646950867519\t    \n",
            "init\t [-0.83230515 -1.27909385]\t 392.1670023300852\t 9.495646950867519\t    \n",
            "1  \t [-0.0301457  2.048    ]\t 420.1194533952591\t 9.495646950867519\t -0.037730676010107406\n",
            "2  \t [ 2.048 -2.048]\t 3897.7342268415996\t 9.495646950867519\t -0.7936289014000006\n",
            "3  \t [-1.60772287  0.33144229]\t 514.5500703981652\t 9.495646950867519\t -4.1008324512657987e-25\n",
            "4  \t [1.67975909 1.02066037]\t 324.79703788039984\t 9.495646950867519\t -4.82201976257877e-75\n",
            "5  \t [-1.08272174 -0.25326022]\t 207.55603571203807\t 9.495646950867519\t -0.0\n",
            "6  \t [-1.89095145  1.4708663 ]\t 451.38899836271764\t 9.495646950867519\t -4.874e-320\n",
            "7  \t [ 1.46841163 -0.8388957 ]\t 897.2988263986205\t 9.495646950867519\t -0.0\n",
            "8  \t [ 1.70148141 -1.01287412]\t 1527.6705641748679\t 9.495646950867519\t -0.0\n",
            "9  \t [-1.0458062   0.35294452]\t 59.05876330998257\t 9.495646950867519\t -0.0\n",
            "10 \t [-0.27864161  0.37785537]\t 10.647782162488113\t 9.495646950867519\t -1.203252686268e-310\n",
            "11 \t [ 0.78993797 -1.90742378]\t 640.8557707619027\t 9.495646950867519\t -0.0\n",
            "12 \t [-0.5573726  -1.50161546]\t 330.86116873376994\t 9.495646950867519\t -0.0\n",
            "13 \t [0.09822055 0.41290595]\t 17.074962075365615\t 9.495646950867519\t -4.3530698439131355e-123\n",
            "\u001b[1m\u001b[92m14\u001b[0m\t \u001b[1m\u001b[92m[-0.26793972  0.28970185]\u001b[0m\t \u001b[1m\u001b[92m6.356154506505029\u001b[0m\t \u001b[1m\u001b[92m6.356154506505029\u001b[0m\t \u001b[1m\u001b[92m-4.430149614244197e-203\u001b[0m\n",
            "15 \t [-0.99425066  1.69012034]\t 53.19932247445794\t 6.356154506505029\t -0.0\n",
            "16 \t [0.55195295 0.77691485]\t 22.503959941907095\t 6.356154506505029\t -0.0\n",
            "17 \t [-0.10700718  0.89703434]\t 79.65133153351618\t 6.356154506505029\t -3.6748357139999887e-124\n",
            "18 \t [-0.10921008  0.49568789]\t 24.632822247682594\t 6.356154506505029\t -7.873566850164376e-63\n",
            "19 \t [-0.14194696  0.5522277 ]\t 29.61482374332761\t 6.356154506505029\t -1.0630251573308481e-72\n",
            "\u001b[1m\u001b[92m20\u001b[0m\t \u001b[1m\u001b[92m[0.39231119 0.16189374]\u001b[0m\t \u001b[1m\u001b[92m0.37566277859065444\u001b[0m\t \u001b[1m\u001b[92m0.37566277859065444\u001b[0m\t \u001b[1m\u001b[92m-1.2595439289798479e-244\u001b[0m\n"
          ]
        }
      ],
      "source": [
        "### Bayesian optimisation runs (x20): 'GP' Acquisition Function run number = 5\n",
        "\n",
        "np.random.seed(run_num_5)\n",
        "surrogate_gp_5 = GaussianProcess(cov_func, optimize=hyperOpt)\n",
        "\n",
        "gp_5 = GPGO_multi(surrogate_gp_5, Acquisition_new(util_gp), f_syn_polarity, param, n_jobs = -1) # define BayesOpt\n",
        "gp_5.run(max_iter = max_iter, init_evals = n_init) # run\n"
      ]
    },
    {
      "cell_type": "code",
      "execution_count": 17,
      "metadata": {
        "id": "HHrK2qnsJLkx",
        "colab": {
          "base_uri": "https://localhost:8080/"
        },
        "outputId": "1b833a88-bfc9-42dd-9e78-5cfb0dada475"
      },
      "outputs": [
        {
          "output_type": "stream",
          "name": "stdout",
          "text": [
            "Evaluation \t Proposed point \t  Current eval. \t  Best eval. \t Min. ApproxAcqFunc \n",
            "init\t [ 1.60915518 -0.68821072]\t 1074.6314195925434\t 3.0269049669752817\t    \n",
            "init\t [ 1.31575449 -1.87721062]\t 1302.169546932896\t 3.0269049669752817\t    \n",
            "init\t [-1.60703824  0.38933325]\t 487.8262244570432\t 3.0269049669752817\t    \n",
            "init\t [ 0.12213192 -0.33256477]\t 12.844955340992902\t 3.0269049669752817\t    \n",
            "init\t [-0.67416945  0.50183959]\t 3.0269049669752817\t 3.0269049669752817\t    \n",
            "1  \t [0.27224891 1.63400719]\t 243.85459322566206\t 3.0269049669752817\t -4.601629154317135\n",
            "2  \t [-1.01738847 -1.87852595]\t 852.9794084274638\t 3.0269049669752817\t -9.873155132091936e-86\n",
            "3  \t [1.97296697 1.91965626]\t 390.19683329459036\t 3.0269049669752817\t -1.5880343325515078e-92\n",
            "4  \t [-1.19976347  1.00374719]\t 23.821117487843974\t 3.0269049669752817\t -0.0\n",
            "5  \t [-0.09153816  0.74309982]\t 55.172889441415045\t 3.0269049669752817\t -1.045124061255528e-162\n",
            "6  \t [-1.46949299  1.79473744]\t 19.396977459861258\t 3.0269049669752817\t -9.028217621307935e-164\n",
            "7  \t [-1.44665848  1.8750394 ]\t 10.729010016356302\t 3.0269049669752817\t -3.322953897547521e-77\n",
            "8  \t [-0.85492512  1.96281824]\t 155.20375057120074\t 3.0269049669752817\t -1.0719594884147924e-88\n",
            "9  \t [-0.30412309  0.21703256]\t 3.251800723457213\t 3.0269049669752817\t -6.865089549081617e-201\n",
            "10 \t [-0.2222763   0.34548781]\t 10.260358886854236\t 3.0269049669752817\t -6.994496559428246e-93\n",
            "11 \t [-1.59400062  1.69258381]\t 78.6823513447778\t 3.0269049669752817\t -7.798187821215143e-267\n",
            "12 \t [0.01589784 0.57948821]\t 34.51982993378984\t 3.0269049669752817\t -1.56206463934938e-130\n",
            "13 \t [-0.44439781  0.87956631]\t 48.609175277707386\t 3.0269049669752817\t -2.995085933002552e-233\n",
            "14 \t [ 1.62942602 -1.83471509]\t 2016.1765106905018\t 3.0269049669752817\t -0.0\n",
            "15 \t [-0.36527299  0.49437744]\t 14.89268312914631\t 3.0269049669752817\t -5.660152818904599e-95\n",
            "16 \t [-0.34656089 -0.01665051]\t 3.6834180810195227\t 3.0269049669752817\t -1.1103228148822156e-226\n",
            "17 \t [ 1.55117993 -0.73890823]\t 989.4486877157808\t 3.0269049669752817\t -0.0\n",
            "18 \t [0.88710156 1.44537687]\t 43.36544947442953\t 3.0269049669752817\t -0.0\n",
            "19 \t [-1.82764104  1.94388694]\t 202.9846158968507\t 3.0269049669752817\t -2.918679721932914e-107\n",
            "20 \t [-0.0094151   0.63000556]\t 40.69845114891352\t 3.0269049669752817\t -1.3603465396999982e-48\n"
          ]
        }
      ],
      "source": [
        "### Bayesian optimisation runs (x20): 'GP' Acquisition Function run number = 6\n",
        "\n",
        "np.random.seed(run_num_6)\n",
        "surrogate_gp_6 = GaussianProcess(cov_func, optimize=hyperOpt)\n",
        "\n",
        "gp_6 = GPGO_multi(surrogate_gp_6, Acquisition_new(util_gp), f_syn_polarity, param, n_jobs = -1) # define BayesOpt\n",
        "gp_6.run(max_iter = max_iter, init_evals = n_init) # run\n"
      ]
    },
    {
      "cell_type": "code",
      "execution_count": 18,
      "metadata": {
        "id": "rht2Y9u8JLky",
        "colab": {
          "base_uri": "https://localhost:8080/"
        },
        "outputId": "452e1727-cca1-4026-c4de-9086cef7c2ad"
      },
      "outputs": [
        {
          "output_type": "stream",
          "name": "stdout",
          "text": [
            "Evaluation \t Proposed point \t  Current eval. \t  Best eval. \t Min. ApproxAcqFunc \n",
            "init\t [-1.73544125  1.14654737]\t 355.3830807157107\t 74.10242381766855\t    \n",
            "init\t [-0.25227579  0.91531337]\t 74.10242381766855\t 74.10242381766855\t    \n",
            "init\t [1.95784504 0.15767909]\t 1351.8314081149692\t 74.10242381766855\t    \n",
            "init\t [ 0.00458942 -1.75287856]\t 308.2565501886822\t 74.10242381766855\t    \n",
            "init\t [-9.48473938e-01 -4.81276619e-04]\t 84.81168700546641\t 74.10242381766855\t    \n",
            "1  \t [-2.0421555  -1.67009343]\t 3420.389981586825\t 74.10242381766855\t -1.9352354811854024e-26\n",
            "2  \t [-0.21249779  1.12599194]\t 118.29093293869484\t 74.10242381766855\t -3.965331811328129e-284\n",
            "3  \t [ 1.52628094 -1.9500932 ]\t 1831.7974572997289\t 74.10242381766855\t -1.5212405275188262e-299\n",
            "4  \t [-1.61023286 -0.53458569]\t 984.8986202864536\t 74.10242381766855\t -0.0\n",
            "5  \t [ 0.59905683 -0.77621426]\t 129.0021751975939\t 74.10242381766855\t -0.0\n",
            "6  \t [ 1.79460023 -0.1240568 ]\t 1119.29759575578\t 74.10242381766855\t -0.0\n",
            "7  \t [-1.60487903  1.36372269]\t 153.6589500899799\t 74.10242381766855\t -0.0\n",
            "\u001b[1m\u001b[92m8\u001b[0m\t \u001b[1m\u001b[92m[-0.3573791   0.59853855]\u001b[0m\t \u001b[1m\u001b[92m24.00950570601997\u001b[0m\t \u001b[1m\u001b[92m24.00950570601997\u001b[0m\t \u001b[1m\u001b[92m-2.4108484915891145e-291\u001b[0m\n",
            "\u001b[1m\u001b[92m9\u001b[0m\t \u001b[1m\u001b[92m[-0.05975897 -0.08725018]\u001b[0m\t \u001b[1m\u001b[92m1.947940206867809\u001b[0m\t \u001b[1m\u001b[92m1.947940206867809\u001b[0m\t \u001b[1m\u001b[92m-1.2404453514854604e-261\u001b[0m\n",
            "10 \t [ 0.43883539 -0.72495334]\t 84.50100615375099\t 1.947940206867809\t -0.0\n",
            "11 \t [-0.38735089 -1.41232336]\t 246.0228932077369\t 1.947940206867809\t -0.0\n",
            "12 \t [-0.36863967  0.29954975]\t 4.551455420223208\t 1.947940206867809\t -2.3855004555852938e-60\n",
            "\u001b[1m\u001b[92m13\u001b[0m\t \u001b[1m\u001b[92m[0.21020472 0.03766431]\u001b[0m\t \u001b[1m\u001b[92m0.6280298568783973\u001b[0m\t \u001b[1m\u001b[92m0.6280298568783973\u001b[0m\t \u001b[1m\u001b[92m-4.8232134712784245e-301\u001b[0m\n",
            "14 \t [-0.26689068 -0.28014895]\t 13.951773242788196\t 0.6280298568783973\t -4.536910141834855e-26\n",
            "15 \t [1.77463798 1.10186086]\t 419.8171296205318\t 0.6280298568783973\t -0.0\n",
            "16 \t [-0.13226568 -0.05086397]\t 1.749309695696344\t 0.6280298568783973\t -6.118134612184513\n",
            "17 \t [-0.09914209 -0.40304336]\t 18.254484623450466\t 0.6280298568783973\t -2.244009384889441e-16\n",
            "18 \t [1.97394979 1.425863  ]\t 611.3423048328999\t 0.6280298568783973\t -0.0\n",
            "19 \t [-0.23952772 -0.53539981]\t 36.67445232493065\t 0.6280298568783973\t -1.558940140281759e-249\n",
            "20 \t [-0.26963437  0.29890866]\t 6.728885483131126\t 0.6280298568783973\t -3.8276357286866994e-08\n"
          ]
        }
      ],
      "source": [
        "### Bayesian optimisation runs (x20): 'GP' Acquisition Function run number = 7\n",
        "\n",
        "np.random.seed(run_num_7)\n",
        "surrogate_gp_7 = GaussianProcess(cov_func, optimize=hyperOpt)\n",
        "\n",
        "gp_7 = GPGO_multi(surrogate_gp_7, Acquisition_new(util_gp), f_syn_polarity, param, n_jobs = -1) # define BayesOpt\n",
        "gp_7.run(max_iter = max_iter, init_evals = n_init) # run\n"
      ]
    },
    {
      "cell_type": "code",
      "execution_count": 19,
      "metadata": {
        "id": "vHGwZn0qJLkz",
        "colab": {
          "base_uri": "https://localhost:8080/"
        },
        "outputId": "7e748a56-6019-4cea-8f6b-7824d0d39751"
      },
      "outputs": [
        {
          "output_type": "stream",
          "name": "stdout",
          "text": [
            "Evaluation \t Proposed point \t  Current eval. \t  Best eval. \t Min. ApproxAcqFunc \n",
            "init\t [1.52956683 1.91914255]\t 17.95675982372887\t 1.7663579664225912\t    \n",
            "init\t [1.51222084 0.12638491]\t 467.0068292530542\t 1.7663579664225912\t    \n",
            "init\t [-1.09474477 -2.0013105 ]\t 1028.244988519411\t 1.7663579664225912\t    \n",
            "init\t [-0.28479972 -0.39996883]\t 24.79447905426233\t 1.7663579664225912\t    \n",
            "init\t [ 0.09287545 -0.0885072 ]\t 1.7663579664225912\t 1.7663579664225912\t    \n",
            "1  \t [-0.54842049  0.83252414]\t 30.674381105527075\t 1.7663579664225912\t -1.0105140156253223\n",
            "2  \t [-2.048  2.048]\t 469.9523900415999\t 1.7663579664225912\t -0.7478587000565708\n",
            "3  \t [-1.33053262  0.23252433]\t 241.91202859579946\t 1.7663579664225912\t -1.181935289835022e-06\n",
            "4  \t [1.18985483 1.85336586]\t 19.186412933121854\t 1.7663579664225912\t -3.5422692921770223e-29\n",
            "5  \t [0.22722115 1.13293007]\t 117.51828940553034\t 1.7663579664225912\t -4.093910101693395e-31\n",
            "6  \t [ 1.56906872 -1.58943205]\t 1641.7150768520794\t 1.7663579664225912\t -2.0037581831932786e-50\n",
            "7  \t [-0.15429918  0.6792789 ]\t 44.29658536664915\t 1.7663579664225912\t -1.29279125543391e-130\n",
            "8  \t [0.61347961 1.80785259]\t 205.06729474429883\t 1.7663579664225912\t -4.320653212000431e-130\n",
            "9  \t [-0.25307277  0.13975643]\t 2.1434008685298993\t 1.7663579664225912\t -7.587576637651305e-124\n",
            "10 \t [0.04700576 0.67855694]\t 46.65277777854834\t 1.7663579664225912\t -1.3263879848877608e-212\n",
            "11 \t [0.092083  0.7723696]\t 59.17715593918041\t 1.7663579664225912\t -5.123165805224082e-286\n",
            "12 \t [0.13231279 1.29066788]\t 162.84682749398849\t 1.7663579664225912\t -0.0\n",
            "13 \t [-0.58201773  0.23930027]\t 3.4916984474378663\t 1.7663579664225912\t -3.0956430092335434e-149\n",
            "14 \t [0.04307717 0.26630744]\t 7.909176496393655\t 1.7663579664225912\t -3.822231724109557e-152\n",
            "15 \t [-0.45890326  0.11131032]\t 3.1140880375574644\t 1.7663579664225912\t -1.4159195243904302e-65\n",
            "16 \t [1.94855944 1.82300568]\t 390.5192778181782\t 1.7663579664225912\t -5.714087515756057e-50\n",
            "17 \t [-0.29795458  0.24021057]\t 3.977900777829294\t 1.7663579664225912\t -8.840032102186179e-31\n",
            "\u001b[1m\u001b[92m18\u001b[0m\t \u001b[1m\u001b[92m[0.50931113 0.31217179]\u001b[0m\t \u001b[1m\u001b[92m0.5192846288568116\u001b[0m\t \u001b[1m\u001b[92m0.5192846288568116\u001b[0m\t \u001b[1m\u001b[92m-0.0\u001b[0m\n",
            "19 \t [-0.22777236 -0.16218088]\t 6.089641344388639\t 0.5192846288568116\t -3.3478458512241662e-139\n",
            "20 \t [-0.04979215  0.10454535]\t 2.143812337663557\t 0.5192846288568116\t -1.0446613230593654e-25\n"
          ]
        }
      ],
      "source": [
        "### Bayesian optimisation runs (x20): 'GP' Acquisition Function run number = 8\n",
        "\n",
        "np.random.seed(run_num_8)\n",
        "surrogate_gp_8 = GaussianProcess(cov_func, optimize=hyperOpt)\n",
        "\n",
        "gp_8 = GPGO_multi(surrogate_gp_8, Acquisition_new(util_gp), f_syn_polarity, param, n_jobs = -1) # define BayesOpt\n",
        "gp_8.run(max_iter = max_iter, init_evals = n_init) # run\n"
      ]
    },
    {
      "cell_type": "code",
      "execution_count": 20,
      "metadata": {
        "id": "YC6sxKgkJLkz",
        "colab": {
          "base_uri": "https://localhost:8080/"
        },
        "outputId": "86546189-6ec7-4161-a620-b5b3644f19e3"
      },
      "outputs": [
        {
          "output_type": "stream",
          "name": "stdout",
          "text": [
            "Evaluation \t Proposed point \t  Current eval. \t  Best eval. \t Min. ApproxAcqFunc \n",
            "init\t [-2.00550747  0.00767833]\t 1620.5592513107108\t 132.4681822844375\t    \n",
            "init\t [-0.01731259 -1.49983425]\t 226.0751192637302\t 132.4681822844375\t    \n",
            "init\t [-1.46591299 -1.15278366]\t 1096.1928272344956\t 132.4681822844375\t    \n",
            "init\t [-0.33379049 -1.03177761]\t 132.4681822844375\t 132.4681822844375\t    \n",
            "init\t [-1.70369167 -0.63283757]\t 1257.2172959284223\t 132.4681822844375\t    \n",
            "1  \t [ 1.43961608 -0.01502976]\t 435.96899415933177\t 132.4681822844375\t -2.667583976111265\n",
            "2  \t [-0.02830042  1.90528792]\t 363.76447728452337\t 132.4681822844375\t -2.277729402292199e-48\n",
            "3  \t [ 1.58036625 -1.71936361]\t 1778.579181670284\t 132.4681822844375\t -1.856948659945478e-173\n",
            "\u001b[1m\u001b[92m4\u001b[0m\t \u001b[1m\u001b[92m[0.79703446 0.6862621 ]\u001b[0m\t \u001b[1m\u001b[92m0.30127632099192386\u001b[0m\t \u001b[1m\u001b[92m0.30127632099192386\u001b[0m\t \u001b[1m\u001b[92m-0.0\u001b[0m\n",
            "5  \t [-0.68281603  1.72567345]\t 161.44970397697423\t 0.30127632099192386\t -0.0\n",
            "6  \t [1.71911298 1.17714502]\t 316.7182138692918\t 0.30127632099192386\t -3.3475846067076496e-215\n",
            "7  \t [-0.97805565  1.99080213]\t 110.87158616531784\t 0.30127632099192386\t -0.0\n",
            "8  \t [ 0.88573801 -1.63393005]\t 584.9088333499403\t 0.30127632099192386\t -0.0\n",
            "9  \t [-0.60589446  0.99576343]\t 42.09965064231645\t 0.30127632099192386\t -0.0\n",
            "10 \t [1.38436125 1.15250337]\t 58.510105235406975\t 0.30127632099192386\t -0.0\n",
            "11 \t [-1.96292441 -1.4132417 ]\t 2782.1851624779442\t 0.30127632099192386\t -0.0\n",
            "12 \t [0.44559397 0.4327086 ]\t 5.790204613436336\t 0.30127632099192386\t -3.997346593801108e-275\n",
            "13 \t [0.3067057  0.89185063]\t 64.12630762462331\t 0.30127632099192386\t -1.163895551867352e-214\n",
            "14 \t [0.52518792 0.45537059]\t 3.4492037423344106\t 0.30127632099192386\t -7.911397435658063e-252\n",
            "15 \t [-0.64964474  0.19573342]\t 7.842717385765225\t 0.30127632099192386\t -0.0\n",
            "16 \t [ 0.06484877 -0.12781603]\t 2.617472549379559\t 0.30127632099192386\t -1.8156645635396725e-14\n",
            "17 \t [0.06227351 0.31158709]\t 10.347820174134876\t 0.30127632099192386\t -18.572525222312855\n",
            "18 \t [-1.26072618 -1.17631442]\t 770.0453792278323\t 0.30127632099192386\t -0.0\n",
            "19 \t [ 0.10154914 -0.13324027]\t 2.8679459375970002\t 0.30127632099192386\t -2.0729999926594003e-21\n",
            "20 \t [-1.52935471  0.66313359]\t 287.22560287017086\t 0.30127632099192386\t -0.0\n"
          ]
        }
      ],
      "source": [
        "### Bayesian optimisation runs (x20): 'GP' Acquisition Function run number = 9\n",
        "\n",
        "np.random.seed(run_num_9)\n",
        "surrogate_gp_9 = GaussianProcess(cov_func, optimize=hyperOpt)\n",
        "\n",
        "gp_9 = GPGO_multi(surrogate_gp_9, Acquisition_new(util_gp), f_syn_polarity, param, n_jobs = -1) # define BayesOpt\n",
        "gp_9.run(max_iter = max_iter, init_evals = n_init) # run\n"
      ]
    },
    {
      "cell_type": "code",
      "execution_count": 21,
      "metadata": {
        "id": "P-0wfCEIJLk0",
        "colab": {
          "base_uri": "https://localhost:8080/"
        },
        "outputId": "dd43a9dd-2185-43b3-94f8-8af761f5722e"
      },
      "outputs": [
        {
          "output_type": "stream",
          "name": "stdout",
          "text": [
            "Evaluation \t Proposed point \t  Current eval. \t  Best eval. \t Min. ApproxAcqFunc \n",
            "init\t [ 1.11132935 -1.96300002]\t 1022.7666615237944\t 26.382363522743674\t    \n",
            "init\t [0.54742317 1.0191007 ]\t 51.962573317574716\t 26.382363522743674\t    \n",
            "init\t [-0.00611528 -1.12723294]\t 128.08610911295406\t 26.382363522743674\t    \n",
            "init\t [-1.23673451  1.0671338 ]\t 26.382363522743674\t 26.382363522743674\t    \n",
            "init\t [-1.35532201 -1.68616012]\t 1246.7412252563456\t 26.382363522743674\t    \n",
            "1  \t [2.048 2.048]\t 461.7603900415999\t 26.382363522743674\t -0.3651315496701499\n",
            "2  \t [-2.048  2.048]\t 469.9523900415999\t 26.382363522743674\t -0.07426789557905533\n",
            "\u001b[1m\u001b[92m3\u001b[0m\t \u001b[1m\u001b[92m[-0.70351045  0.5993166 ]\u001b[0m\t \u001b[1m\u001b[92m3.991667802013019\u001b[0m\t \u001b[1m\u001b[92m3.991667802013019\u001b[0m\t \u001b[1m\u001b[92m-0.009695626517609308\u001b[0m\n",
            "\u001b[1m\u001b[92m4\u001b[0m\t \u001b[1m\u001b[92m[-0.92448842  0.85649803]\u001b[0m\t \u001b[1m\u001b[92m3.7039866281553206\u001b[0m\t \u001b[1m\u001b[92m3.7039866281553206\u001b[0m\t \u001b[1m\u001b[92m-4.434246820796502e-11\u001b[0m\n",
            "5  \t [-0.70738103  0.59060861]\t 3.729127237951622\t 3.7039866281553206\t -0.053077830287375644\n",
            "6  \t [-0.86534193  0.9043964 ]\t 5.900006175317177\t 3.7039866281553206\t -3.268241826221891e-09\n",
            "7  \t [-0.58383074  1.1190748 ]\t 63.07060709915362\t 3.7039866281553206\t -8.58326721375785e-09\n",
            "8  \t [-0.99372445  0.46087343]\t 31.707258057017846\t 3.7039866281553206\t -0.0075362271750912535\n",
            "9  \t [0.78267986 0.2574215 ]\t 12.661535076862853\t 3.7039866281553206\t -2.325761031523177e-18\n",
            "\u001b[1m\u001b[92m10\u001b[0m\t \u001b[1m\u001b[92m[0.45231493 0.09777104]\u001b[0m\t \u001b[1m\u001b[92m1.440962151905963\u001b[0m\t \u001b[1m\u001b[92m1.440962151905963\u001b[0m\t \u001b[1m\u001b[92m-3.040810555761508e-13\u001b[0m\n",
            "11 \t [-1.17667148  0.52423869]\t 78.75244439350803\t 1.440962151905963\t -9.363110174447772e-16\n",
            "12 \t [ 1.62487725 -0.51906404]\t 998.5018788420588\t 1.440962151905963\t -2.951508649979561e-181\n",
            "13 \t [-0.14134761  0.54906536]\t 29.295896942074215\t 1.440962151905963\t -29.45304025605757\n",
            "\u001b[1m\u001b[92m14\u001b[0m\t \u001b[1m\u001b[92m[0.20358642 0.10004975]\u001b[0m\t \u001b[1m\u001b[92m0.977697796467448\u001b[0m\t \u001b[1m\u001b[92m0.977697796467448\u001b[0m\t \u001b[1m\u001b[92m-1.2085903419540522e-73\u001b[0m\n",
            "15 \t [-0.14488734  0.53150476]\t 27.373059886368118\t 0.977697796467448\t -21.46413311353414\n",
            "16 \t [-0.1510921   0.53215195]\t 27.266017725344508\t 0.977697796467448\t -14.131340812131194\n",
            "17 \t [-0.71859385  0.49494409]\t 2.999502365056282\t 0.977697796467448\t -1.1485926743152864e-26\n",
            "18 \t [-0.63900347  0.72496245]\t 12.712232325737519\t 0.977697796467448\t -3.751452046602856e-13\n",
            "19 \t [-0.16245389  0.52687605]\t 26.39980079839992\t 0.977697796467448\t -9.45403974413625\n",
            "20 \t [-0.27776648  1.06417292]\t 99.05327995713053\t 0.977697796467448\t -9.334534898295126e-21\n"
          ]
        }
      ],
      "source": [
        "### Bayesian optimisation runs (x20): 'GP' Acquisition Function run number = 10\n",
        "\n",
        "np.random.seed(run_num_10)\n",
        "surrogate_gp_10 = GaussianProcess(cov_func, optimize=hyperOpt)\n",
        "\n",
        "gp_10 = GPGO_multi(surrogate_gp_10, Acquisition_new(util_gp), f_syn_polarity, param, n_jobs = -1) # define BayesOpt\n",
        "gp_10.run(max_iter = max_iter, init_evals = n_init) # run\n"
      ]
    },
    {
      "cell_type": "code",
      "execution_count": 22,
      "metadata": {
        "id": "Z6wmPCIEJLk2",
        "colab": {
          "base_uri": "https://localhost:8080/"
        },
        "outputId": "016535bf-0877-41f8-a40f-f9ec5e2007d3"
      },
      "outputs": [
        {
          "output_type": "stream",
          "name": "stdout",
          "text": [
            "Evaluation \t Proposed point \t  Current eval. \t  Best eval. \t Min. ApproxAcqFunc \n",
            "init\t [-1.30961535 -1.96822941]\t 1362.0202619238294\t 4.533376036769996\t    \n",
            "init\t [-0.15065692  0.92132937]\t 82.0779347186456\t 4.533376036769996\t    \n",
            "init\t [-0.32684604 -0.05969061]\t 4.533376036769996\t 4.533376036769996\t    \n",
            "init\t [-1.99564978 -0.0517259 ]\t 1636.5670319859503\t 4.533376036769996\t    \n",
            "init\t [1.80964005 1.43685669]\t 338.45801473698816\t 4.533376036769996\t    \n",
            "1  \t [ 0.67330235 -0.25150173]\t 49.786361220312905\t 4.533376036769996\t -9.670603123681412\n",
            "2  \t [ 1.41286822 -0.81033344]\t 787.8315539173088\t 4.533376036769996\t -6.473539369539995e-29\n",
            "3  \t [-0.76317019  1.76441722]\t 142.81844608034388\t 4.533376036769996\t -4.372496324256822e-278\n",
            "4  \t [0.42486394 0.40816683]\t 5.513573448071737\t 4.533376036769996\t -1.2692402930070862e-190\n",
            "5  \t [0.13205577 0.73051979]\t 51.60178784031866\t 4.533376036769996\t -3.9514280950948623e-59\n",
            "6  \t [ 0.14914869 -1.67557185]\t 288.98226613952505\t 4.533376036769996\t -0.0\n",
            "7  \t [0.19299777 1.90441559]\t 349.2826808691023\t 4.533376036769996\t -2.3245377352423197e-277\n",
            "8  \t [ 1.53333486 -1.66965525]\t 1616.9444184800661\t 4.533376036769996\t -0.0\n",
            "9  \t [0.82778996 1.70263313]\t 103.53930247304093\t 4.533376036769996\t -0.0\n",
            "10 \t [-1.22922579  0.01800058]\t 227.8729914420376\t 4.533376036769996\t -0.0\n",
            "11 \t [-0.23278252  1.59418426]\t 238.6786916106093\t 4.533376036769996\t -0.0\n",
            "\u001b[1m\u001b[92m12\u001b[0m\t \u001b[1m\u001b[92m[-0.37468943  0.26846334]\u001b[0m\t \u001b[1m\u001b[92m3.5299934734770826\u001b[0m\t \u001b[1m\u001b[92m3.5299934734770826\u001b[0m\t \u001b[1m\u001b[92m-6.122087595414579e-290\u001b[0m\n",
            "13 \t [ 0.49489762 -0.01147205]\t 6.829003785210573\t 3.5299934734770826\t -5.424468868862159e-260\n",
            "14 \t [0.68015332 0.19680868]\t 7.167258215133135\t 3.5299934734770826\t -3.584672573192931e-280\n",
            "15 \t [ 0.01101418 -0.3844124 ]\t 15.764710664197167\t 3.5299934734770826\t -1.6217545544268839e-180\n",
            "\u001b[1m\u001b[92m16\u001b[0m\t \u001b[1m\u001b[92m[0.07872825 0.16184107]\u001b[0m\t \u001b[1m\u001b[92m3.2712137564259254\u001b[0m\t \u001b[1m\u001b[92m3.2712137564259254\u001b[0m\t \u001b[1m\u001b[92m-23.13128607609967\u001b[0m\n",
            "17 \t [-0.06071388 -0.23059831]\t 6.6140360987924876\t 3.2712137564259254\t -3.2154656289386276e-21\n",
            "\u001b[1m\u001b[92m18\u001b[0m\t \u001b[1m\u001b[92m[0.07855853 0.15920899]\u001b[0m\t \u001b[1m\u001b[92m3.1911033491269505\u001b[0m\t \u001b[1m\u001b[92m3.1911033491269505\u001b[0m\t \u001b[1m\u001b[92m-20.293659544853817\u001b[0m\n",
            "19 \t [-0.14573193 -0.22472167]\t 7.362307469630977\t 3.1911033491269505\t -2.90936618291013e-45\n",
            "20 \t [-1.62438434  0.36869224]\t 522.1466316567909\t 3.1911033491269505\t -0.0\n"
          ]
        }
      ],
      "source": [
        "### Bayesian optimisation runs (x20): 'GP' Acquisition Function run number = 11\n",
        "\n",
        "np.random.seed(run_num_11)\n",
        "surrogate_gp_11 = GaussianProcess(cov_func, optimize=hyperOpt)\n",
        "\n",
        "gp_11 = GPGO_multi(surrogate_gp_11, Acquisition_new(util_gp), f_syn_polarity, param, n_jobs = -1) # define BayesOpt\n",
        "gp_11.run(max_iter = max_iter, init_evals = n_init) # run\n"
      ]
    },
    {
      "cell_type": "code",
      "execution_count": 23,
      "metadata": {
        "id": "oNR6-n7iJLk3",
        "colab": {
          "base_uri": "https://localhost:8080/"
        },
        "outputId": "9485e3e2-3545-4edb-e564-4765dfc7e379"
      },
      "outputs": [
        {
          "output_type": "stream",
          "name": "stdout",
          "text": [
            "Evaluation \t Proposed point \t  Current eval. \t  Best eval. \t Min. ApproxAcqFunc \n",
            "init\t [-1.416549    0.98324356]\t 110.56781423235984\t 68.14456326432247\t    \n",
            "init\t [-0.9694617   0.13819656]\t 68.14456326432247\t 68.14456326432247\t    \n",
            "init\t [-1.98830095  1.71518775]\t 509.86279959563035\t 68.14456326432247\t    \n",
            "init\t [ 1.64132804 -1.91110583]\t 2121.0723550229873\t 68.14456326432247\t    \n",
            "init\t [ 1.87166448 -1.48599062]\t 2489.890190157968\t 68.14456326432247\t    \n",
            "1  \t [-2.048 -2.048]\t 3905.9262268415996\t 68.14456326432247\t -0.1683993723279183\n",
            "2  \t [2.048 2.048]\t 461.7603900415999\t 68.14456326432247\t -0.15920689549974587\n",
            "\u001b[1m\u001b[92m3\u001b[0m\t \u001b[1m\u001b[92m[-0.33202716  0.54080122]\u001b[0m\t \u001b[1m\u001b[92m20.31241692827024\u001b[0m\t \u001b[1m\u001b[92m20.31241692827024\u001b[0m\t \u001b[1m\u001b[92m-7.401875606163101e-60\u001b[0m\n",
            "4  \t [0.12698844 1.82672639]\t 328.5895031721257\t 20.31241692827024\t -3.926067232947881e-161\n",
            "5  \t [-1.58669915 -0.06584079]\t 674.1149667508688\t 20.31241692827024\t -0.0\n",
            "6  \t [ 0.1082686  -1.05736025]\t 115.0888890500014\t 20.31241692827024\t -0.0\n",
            "\u001b[1m\u001b[92m7\u001b[0m\t \u001b[1m\u001b[92m[-0.28438679 -0.16581785]\u001b[0m\t \u001b[1m\u001b[92m7.7354272863096565\u001b[0m\t \u001b[1m\u001b[92m7.7354272863096565\u001b[0m\t \u001b[1m\u001b[92m-2.4293294871421357e-230\u001b[0m\n",
            "8  \t [0.03222621 0.40624393]\t 17.355727972298855\t 7.7354272863096565\t -3.109835259908328e-32\n",
            "\u001b[1m\u001b[92m9\u001b[0m\t \u001b[1m\u001b[92m[0.50065757 0.42643126]\u001b[0m\t \u001b[1m\u001b[92m3.3389668819362743\u001b[0m\t \u001b[1m\u001b[92m3.3389668819362743\u001b[0m\t \u001b[1m\u001b[92m-2.08e-322\u001b[0m\n",
            "10 \t [0.22146728 0.41727444]\t 14.165202126392973\t 3.3389668819362743\t -1.9529740664452976e-22\n",
            "11 \t [-0.04250032  0.20459311]\t 5.199056728862773\t 3.3389668819362743\t -1.4896933149299452\n",
            "12 \t [-0.04255048  0.20530332]\t 5.2278424091093445\t 3.3389668819362743\t -0.7627801271456967\n",
            "\u001b[1m\u001b[92m13\u001b[0m\t \u001b[1m\u001b[92m[0.22326727 0.16629886]\u001b[0m\t \u001b[1m\u001b[92m1.959387623354818\u001b[0m\t \u001b[1m\u001b[92m1.959387623354818\u001b[0m\t \u001b[1m\u001b[92m-6.558753959103603e-26\u001b[0m\n",
            "\u001b[1m\u001b[92m14\u001b[0m\t \u001b[1m\u001b[92m[-0.15513605 -0.02722246]\u001b[0m\t \u001b[1m\u001b[92m1.5974021745570925\u001b[0m\t \u001b[1m\u001b[92m1.5974021745570925\u001b[0m\t \u001b[1m\u001b[92m-5.627620290486089e-12\u001b[0m\n",
            "15 \t [0.34640839 1.39702073]\t 163.50569150337859\t 1.5974021745570925\t -0.0\n",
            "16 \t [-0.23184834  0.51568774]\t 22.855759943015443\t 1.5974021745570925\t -6.69370469364383e-40\n",
            "17 \t [-0.04211105  0.18699577]\t 4.516730203509521\t 1.5974021745570925\t -1.58525005128763\n",
            "18 \t [-0.04212814  0.18749065]\t 4.53506948901495\t 1.5974021745570925\t -1.1498929160393727\n",
            "19 \t [-0.28829861  0.53805113]\t 22.356302412181865\t 1.5974021745570925\t -2.8491524513851244e-70\n",
            "20 \t [-0.33081207  0.44778174]\t 13.21880220617588\t 1.5974021745570925\t -1.4495727268936157e-54\n"
          ]
        }
      ],
      "source": [
        "### Bayesian optimisation runs (x20): 'GP' Acquisition Function run number = 12\n",
        "\n",
        "np.random.seed(run_num_12)\n",
        "surrogate_gp_12 = GaussianProcess(cov_func, optimize=hyperOpt)\n",
        "\n",
        "gp_12 = GPGO_multi(surrogate_gp_12, Acquisition_new(util_gp), f_syn_polarity, param, n_jobs = -1) # define BayesOpt\n",
        "gp_12.run(max_iter = max_iter, init_evals = n_init) # run\n"
      ]
    },
    {
      "cell_type": "code",
      "execution_count": 24,
      "metadata": {
        "id": "z1CyiX30JLk4",
        "colab": {
          "base_uri": "https://localhost:8080/"
        },
        "outputId": "60809746-870d-42d7-b669-5accb33f1ad6"
      },
      "outputs": [
        {
          "output_type": "stream",
          "name": "stdout",
          "text": [
            "Evaluation \t Proposed point \t  Current eval. \t  Best eval. \t Min. ApproxAcqFunc \n",
            "init\t [ 1.13746907 -1.07503116]\t 561.1720108286133\t 2.166231627813885\t    \n",
            "init\t [1.32824487 1.90770872]\t 2.166231627813885\t 2.166231627813885\t    \n",
            "init\t [ 1.93577416 -0.19067188]\t 1551.5761879230556\t 2.166231627813885\t    \n",
            "init\t [0.44663793 1.1285566 ]\t 86.6235326520391\t 2.166231627813885\t    \n",
            "init\t [0.58004826 0.90938667]\t 33.00131633274188\t 2.166231627813885\t    \n",
            "1  \t [0.19520355 2.048     ]\t 404.6157191574346\t 2.166231627813885\t -17.26251915359201\n",
            "2  \t [-2.048      -0.34127766]\t 2066.4404079694045\t 2.166231627813885\t -0.7752972081174683\n",
            "3  \t [ 0.26038342 -2.00767307]\t 431.30568483058437\t 2.166231627813885\t -2.2192096969131042e-306\n",
            "4  \t [-0.90577489 -1.2099581 ]\t 415.878812492919\t 2.166231627813885\t -0.0\n",
            "5  \t [0.58646646 1.51219783]\t 136.65296499447038\t 2.166231627813885\t -0.0\n",
            "6  \t [ 1.49904474 -0.15964886]\t 579.5099648382014\t 2.166231627813885\t -0.0\n",
            "7  \t [1.73835738 2.02396355]\t 100.13017311842448\t 2.166231627813885\t -1.1781904807928461e-122\n",
            "8  \t [-1.06042077 -1.00392151]\t 457.25982866685274\t 2.166231627813885\t -0.0\n",
            "9  \t [-1.2218497  -0.81654208]\t 538.2965955767287\t 2.166231627813885\t -0.0\n",
            "10 \t [-1.85102721 -1.54712675]\t 2481.6274434078323\t 2.166231627813885\t -0.0\n",
            "11 \t [0.84912062 1.55985428]\t 70.38943614337909\t 2.166231627813885\t -0.0\n",
            "12 \t [-0.43133866  1.12356079]\t 89.94080872699577\t 2.166231627813885\t -0.0\n",
            "13 \t [-1.92388119 -0.33430129]\t 1637.1720546454212\t 2.166231627813885\t -0.0\n",
            "\u001b[1m\u001b[92m14\u001b[0m\t \u001b[1m\u001b[92m[0.36359383 0.03777881]\u001b[0m\t \u001b[1m\u001b[92m1.2965579012981359\u001b[0m\t \u001b[1m\u001b[92m1.2965579012981359\u001b[0m\t \u001b[1m\u001b[92m-0.0\u001b[0m\n",
            "15 \t [-1.01947903  1.75983675]\t 55.99021290007044\t 1.2965579012981359\t -0.0\n",
            "16 \t [0.32038043 0.53939032]\t 19.536650825550396\t 1.2965579012981359\t -1.0194553651851931e-258\n",
            "17 \t [ 1.40221153 -0.8426294 ]\t 789.1124468568365\t 1.2965579012981359\t -0.0\n",
            "18 \t [-0.00946092  0.46275874]\t 22.425293013802847\t 1.2965579012981359\t -6.487412334379151e-18\n",
            "19 \t [-0.23255532  0.56334111]\t 27.45367931849233\t 1.2965579012981359\t -1.754331791584454e-98\n",
            "20 \t [0.14747837 0.83256544]\t 66.46898147443746\t 1.2965579012981359\t -1.2385875415872678e-143\n"
          ]
        }
      ],
      "source": [
        "### Bayesian optimisation runs (x20): 'GP' Acquisition Function run number = 13\n",
        "\n",
        "np.random.seed(run_num_13)\n",
        "surrogate_gp_13 = GaussianProcess(cov_func, optimize=hyperOpt)\n",
        "\n",
        "gp_13 = GPGO_multi(surrogate_gp_13, Acquisition_new(util_gp), f_syn_polarity, param, n_jobs = -1) # define BayesOpt\n",
        "gp_13.run(max_iter = max_iter, init_evals = n_init) # run\n"
      ]
    },
    {
      "cell_type": "code",
      "execution_count": 25,
      "metadata": {
        "id": "Dx5l3xHMJLk5",
        "colab": {
          "base_uri": "https://localhost:8080/"
        },
        "outputId": "cee392f9-231b-47ef-c16e-380408044533"
      },
      "outputs": [
        {
          "output_type": "stream",
          "name": "stdout",
          "text": [
            "Evaluation \t Proposed point \t  Current eval. \t  Best eval. \t Min. ApproxAcqFunc \n",
            "init\t [0.05711194 1.11888405]\t 125.35034508047823\t 56.7252447162893\t    \n",
            "init\t [ 1.5172718 -2.0150397]\t 1864.0489319378007\t 56.7252447162893\t    \n",
            "init\t [-0.77932165  1.87434492]\t 163.6955655658878\t 56.7252447162893\t    \n",
            "init\t [ 0.05372605 -0.744307  ]\t 56.7252447162893\t 56.7252447162893\t    \n",
            "init\t [ 0.16056294 -1.14173976]\t 137.01499974575526\t 56.7252447162893\t    \n",
            "1  \t [-1.85553697 -1.21491742]\t 2177.789808202347\t 56.7252447162893\t -0.853027296909931\n",
            "2  \t [2.048 2.048]\t 461.7603900415999\t 56.7252447162893\t -0.4186202071159245\n",
            "\u001b[1m\u001b[92m3\u001b[0m\t \u001b[1m\u001b[92m[-0.10454916 -0.02480696]\u001b[0m\t \u001b[1m\u001b[92m1.3477456221147468\u001b[0m\t \u001b[1m\u001b[92m1.3477456221147468\u001b[0m\t \u001b[1m\u001b[92m-1.211386014547293e-96\u001b[0m\n",
            "4  \t [ 0.26341475 -0.32064317]\t 15.754937206354187\t 1.3477456221147468\t -6.701854579334898e-39\n",
            "5  \t [ 0.47022435 -0.0289076 ]\t 6.531589616759342\t 1.3477456221147468\t -1.0029084399224135e-12\n",
            "6  \t [ 0.22777532 -0.26391648]\t 10.569173790784165\t 1.3477456221147468\t -1.7448400925764224e-23\n",
            "7  \t [ 0.11140066 -0.1289635 ]\t 2.788258596307172\t 1.3477456221147468\t -4.134440339300482e-14\n",
            "8  \t [0.93525164 0.00614126]\t 75.44286272782595\t 1.3477456221147468\t -3.144213070808057e-30\n",
            "9  \t [-1.90299617  1.7427798 ]\t 361.3466755590905\t 1.3477456221147468\t -2.2160433231043688e-45\n",
            "10 \t [0.21502908 0.43423831]\t 15.670641751052404\t 1.3477456221147468\t -4.034217879192493e-62\n",
            "11 \t [1.37718739 0.50860838]\t 192.8068694785762\t 1.3477456221147468\t -4.7236156576033185e-169\n",
            "12 \t [0.4296251  0.45239878]\t 7.498139062612212\t 1.3477456221147468\t -4.85284966968596e-147\n",
            "13 \t [-0.20644508  0.54760293]\t 26.956328898611222\t 1.3477456221147468\t -4.8168446273001876e-90\n",
            "14 \t [ 0.24639573 -0.13439215]\t 4.3744375634126875\t 1.3477456221147468\t -6.339033192611774e-09\n",
            "15 \t [-0.43420634  0.2320832 ]\t 2.2465911639581644\t 1.3477456221147468\t -1.0651510546726414e-143\n",
            "\u001b[1m\u001b[92m16\u001b[0m\t \u001b[1m\u001b[92m[0.07804099 0.03627705]\u001b[0m\t \u001b[1m\u001b[92m0.9411317939639063\u001b[0m\t \u001b[1m\u001b[92m0.9411317939639063\u001b[0m\t \u001b[1m\u001b[92m-0.24353934766955493\u001b[0m\n",
            "17 \t [-0.25527303  0.72645979]\t 45.30688030850884\t 0.9411317939639063\t -4.95192707311755e-127\n",
            "18 \t [-0.17405233  0.01563298]\t 1.3998940439976058\t 0.9411317939639063\t -8.061332547411717e-15\n",
            "19 \t [-0.3760339   0.29660907]\t 4.302408391333689\t 0.9411317939639063\t -1.1254422643181177e-49\n",
            "20 \t [ 0.16183881 -0.26236704]\t 9.029134573398407\t 0.9411317939639063\t -3.8528183733862296e-11\n"
          ]
        }
      ],
      "source": [
        "### Bayesian optimisation runs (x20): 'GP' Acquisition Function run number = 14\n",
        "\n",
        "np.random.seed(run_num_14)\n",
        "surrogate_gp_14 = GaussianProcess(cov_func, optimize=hyperOpt)\n",
        "\n",
        "gp_14 = GPGO_multi(surrogate_gp_14, Acquisition_new(util_gp), f_syn_polarity, param, n_jobs = -1) # define BayesOpt\n",
        "gp_14.run(max_iter = max_iter, init_evals = n_init) # run\n"
      ]
    },
    {
      "cell_type": "code",
      "execution_count": 26,
      "metadata": {
        "id": "mNCLg6LHJLk6",
        "colab": {
          "base_uri": "https://localhost:8080/"
        },
        "outputId": "6aa7b1e6-1aae-4c77-e2b6-11186f91fb69"
      },
      "outputs": [
        {
          "output_type": "stream",
          "name": "stdout",
          "text": [
            "Evaluation \t Proposed point \t  Current eval. \t  Best eval. \t Min. ApproxAcqFunc \n",
            "init\t [ 1.42875729 -1.31524229]\t 1126.8532605124637\t 56.02298763074632\t    \n",
            "init\t [-1.82532827 -0.56713852]\t 1528.1728177033635\t 56.02298763074632\t    \n",
            "init\t [-0.9199578   0.12288092]\t 56.02298763074632\t 56.02298763074632\t    \n",
            "init\t [-0.79495612 -0.80087302]\t 208.52154958515655\t 56.02298763074632\t    \n",
            "init\t [-1.59030773 -1.02441364]\t 1269.4404638957562\t 56.02298763074632\t    \n",
            "\u001b[1m\u001b[92m1\u001b[0m\t \u001b[1m\u001b[92m[-0.25896001  0.46628131]\u001b[0m\t \u001b[1m\u001b[92m17.5227231705065\u001b[0m\t \u001b[1m\u001b[92m17.5227231705065\u001b[0m\t \u001b[1m\u001b[92m-27.520941802102147\u001b[0m\n",
            "\u001b[1m\u001b[92m2\u001b[0m\t \u001b[1m\u001b[92m[-0.2904651   0.45840285]\u001b[0m\t \u001b[1m\u001b[92m15.655359603356445\u001b[0m\t \u001b[1m\u001b[92m15.655359603356445\u001b[0m\t \u001b[1m\u001b[92m-6.8548016596496115\u001b[0m\n",
            "3  \t [-0.88757785  1.2787519 ]\t 27.666872398729087\t 15.655359603356445\t -1.568966507163454\n",
            "\u001b[1m\u001b[92m4\u001b[0m\t \u001b[1m\u001b[92m[-0.15819638  0.19115643]\u001b[0m\t \u001b[1m\u001b[92m4.101347637385734\u001b[0m\t \u001b[1m\u001b[92m4.101347637385734\u001b[0m\t \u001b[1m\u001b[92m-0.7573004504993338\u001b[0m\n",
            "5  \t [2.048 2.048]\t 461.7603900415999\t 4.101347637385734\t -0.7923466237771303\n",
            "6  \t [-2.048  2.048]\t 469.9523900415999\t 4.101347637385734\t -0.14907008716556364\n",
            "7  \t [-0.10940431  1.11774471]\t 123.50470384161271\t 4.101347637385734\t -8.235320763326516e-08\n",
            "8  \t [1.26762332 0.55594757]\t 110.51518219794846\t 4.101347637385734\t -1.7087194909839234e-58\n",
            "\u001b[1m\u001b[92m9\u001b[0m\t \u001b[1m\u001b[92m[-0.45361289  0.21512518]\u001b[0m\t \u001b[1m\u001b[92m2.1217523884833396\u001b[0m\t \u001b[1m\u001b[92m2.1217523884833396\u001b[0m\t \u001b[1m\u001b[92m-5.498108018250747e-16\u001b[0m\n",
            "10 \t [-0.24666774  0.42628563]\t 14.908867981562569\t 2.1217523884833396\t -2.8701997493385474e-14\n",
            "\u001b[1m\u001b[92m11\u001b[0m\t \u001b[1m\u001b[92m[-0.169606    0.01227694]\u001b[0m\t \u001b[1m\u001b[92m1.3951677516670384\u001b[0m\t \u001b[1m\u001b[92m1.3951677516670384\u001b[0m\t \u001b[1m\u001b[92m-0.2609644209911413\u001b[0m\n",
            "12 \t [-0.12674865 -0.53979542]\t 32.16766777985259\t 1.3951677516670384\t -9.791569630139069e-39\n",
            "13 \t [-0.88519592  1.43743406]\t 46.307547154668626\t 1.3951677516670384\t -6.897677545401334e-191\n",
            "14 \t [-0.18518317  0.04926164]\t 1.427065738709134\t 1.3951677516670384\t -0.03285557942684578\n",
            "15 \t [-0.32746494 -0.04335089]\t 4.029722808247779\t 1.3951677516670384\t -3.932489080998678e-12\n",
            "16 \t [-0.05137539  0.21034806]\t 5.419677794775213\t 1.3951677516670384\t -4.0130203613090843e-10\n",
            "17 \t [-0.91330107  0.64197706]\t 7.352567381107468\t 1.3951677516670384\t -3.486556843063587e-86\n",
            "18 \t [-0.83197155  0.6349912 ]\t 3.6831374705902817\t 1.3951677516670384\t -4.450075792412089e-32\n",
            "19 \t [-0.27795981 -1.94287916]\t 409.7300732240835\t 1.3951677516670384\t -6.264013613934884e-84\n",
            "20 \t [-0.22325969  0.13193476]\t 2.1702389786213327\t 1.3951677516670384\t -0.9973188967620161\n"
          ]
        }
      ],
      "source": [
        "### Bayesian optimisation runs (x20): 'GP' Acquisition Function run number = 15\n",
        "\n",
        "np.random.seed(run_num_15)\n",
        "surrogate_gp_15 = GaussianProcess(cov_func, optimize=hyperOpt)\n",
        "\n",
        "gp_15 = GPGO_multi(surrogate_gp_15, Acquisition_new(util_gp), f_syn_polarity, param, n_jobs = -1) # define BayesOpt\n",
        "gp_15.run(max_iter = max_iter, init_evals = n_init) # run\n"
      ]
    },
    {
      "cell_type": "code",
      "execution_count": 27,
      "metadata": {
        "id": "5xwjkr9RJLk6",
        "colab": {
          "base_uri": "https://localhost:8080/"
        },
        "outputId": "e105d4f2-dd6c-43dc-ae2b-8791d7cf2f16"
      },
      "outputs": [
        {
          "output_type": "stream",
          "name": "stdout",
          "text": [
            "Evaluation \t Proposed point \t  Current eval. \t  Best eval. \t Min. ApproxAcqFunc \n",
            "init\t [-1.13339974  0.09487705]\t 146.09426826423262\t 146.09426826423262\t    \n",
            "init\t [ 0.20767317 -1.86121441]\t 363.27983894611043\t 146.09426826423262\t    \n",
            "init\t [-0.57045469 -1.13426046]\t 215.5326110993483\t 146.09426826423262\t    \n",
            "init\t [ 0.77302236 -1.37735608]\t 390.08228141599125\t 146.09426826423262\t    \n",
            "init\t [-1.75994935  1.80638048]\t 174.29606237276562\t 146.09426826423262\t    \n",
            "1  \t [2.048 2.048]\t 461.7603900415999\t 146.09426826423262\t -0.6563332850608012\n",
            "2  \t [-0.25801601  1.77463689]\t 293.3310825406822\t 146.09426826423262\t -7.016586163298393e-154\n",
            "3  \t [ 1.11952962 -0.63650111]\t 357.16671600651785\t 146.09426826423262\t -0.0\n",
            "4  \t [-1.98806377 -1.14167344]\t 2603.884453336882\t 146.09426826423262\t -9.991452503295167e-84\n",
            "\u001b[1m\u001b[92m5\u001b[0m\t \u001b[1m\u001b[92m[-0.03151565  0.22622947]\u001b[0m\t \u001b[1m\u001b[92m6.1371606008789925\u001b[0m\t \u001b[1m\u001b[92m6.1371606008789925\u001b[0m\t \u001b[1m\u001b[92m-9.177683268188982e-120\u001b[0m\n",
            "6  \t [2.02572928 0.35961584]\t 1402.7782230766757\t 6.1371606008789925\t -1.8230087713236584e-134\n",
            "7  \t [1.25516459 0.1127299 ]\t 214.0166517780836\t 6.1371606008789925\t -0.0\n",
            "\u001b[1m\u001b[92m8\u001b[0m\t \u001b[1m\u001b[92m[-0.23139715 -0.04497045]\u001b[0m\t \u001b[1m\u001b[92m2.486861246523393\u001b[0m\t \u001b[1m\u001b[92m2.486861246523393\u001b[0m\t \u001b[1m\u001b[92m-9.80245632283116e-64\u001b[0m\n",
            "9  \t [ 0.47756928 -1.67211197]\t 361.3430042940269\t 2.486861246523393\t -0.0\n",
            "10 \t [-0.26025418 -0.04579143]\t 2.877002862177155\t 2.486861246523393\t -1.806234260669171e-41\n",
            "11 \t [-0.15048122  0.20915959]\t 4.802391144106913\t 2.486861246523393\t -0.0029005134042376264\n",
            "12 \t [-1.72310964 -0.78674762]\t 1418.0595961759034\t 2.486861246523393\t -0.0\n",
            "13 \t [-0.15380103  0.2286884 ]\t 5.5351364068326925\t 2.486861246523393\t -0.2140622835913501\n",
            "14 \t [-0.15376522  0.22717189]\t 5.473544841406159\t 2.486861246523393\t -0.07696668403925874\n",
            "15 \t [-0.64551094  0.48286425]\t 3.145683915805557\t 2.486861246523393\t -1.1290055219182762e-67\n",
            "16 \t [-0.18756833  0.2544306 ]\t 6.217318847055228\t 2.486861246523393\t -0.6093097929646436\n",
            "17 \t [-0.38187288  0.87913695]\t 55.68393571968285\t 2.486861246523393\t -3.360187178705808e-196\n",
            "18 \t [-0.29173731 -0.0179436 ]\t 2.7306032193150926\t 2.486861246523393\t -4.5726356556683104e-32\n",
            "19 \t [-0.18528807  0.23668595]\t 5.499633540315462\t 2.486861246523393\t -0.6325522460223391\n",
            "20 \t [-0.22817379  0.5737304 ]\t 28.72206977454949\t 2.486861246523393\t -1.9253131802141594e-28\n"
          ]
        }
      ],
      "source": [
        "### Bayesian optimisation runs (x20): 'GP' Acquisition Function run number = 16\n",
        "\n",
        "np.random.seed(run_num_16)\n",
        "surrogate_gp_16 = GaussianProcess(cov_func, optimize=hyperOpt)\n",
        "\n",
        "gp_16 = GPGO_multi(surrogate_gp_16, Acquisition_new(util_gp), f_syn_polarity, param, n_jobs = -1) # define BayesOpt\n",
        "gp_16.run(max_iter = max_iter, init_evals = n_init) # run\n"
      ]
    },
    {
      "cell_type": "code",
      "execution_count": 28,
      "metadata": {
        "id": "zbpfP0FWJLk7",
        "colab": {
          "base_uri": "https://localhost:8080/"
        },
        "outputId": "c4030371-c07c-455e-9dae-fcc595774029"
      },
      "outputs": [
        {
          "output_type": "stream",
          "name": "stdout",
          "text": [
            "Evaluation \t Proposed point \t  Current eval. \t  Best eval. \t Min. ApproxAcqFunc \n",
            "init\t [-0.84105215  0.12528335]\t 37.27181038922863\t 0.19652774971866602\t    \n",
            "init\t [-1.26353086 -1.76988013]\t 1138.381976578598\t 0.19652774971866602\t    \n",
            "init\t [1.17549244 0.64034211]\t 55.004181467935105\t 0.19652774971866602\t    \n",
            "init\t [0.56328559 0.30966945]\t 0.19652774971866602\t 0.19652774971866602\t    \n",
            "init\t [-1.8879983  -0.58239548]\t 1728.0458971940702\t 0.19652774971866602\t    \n",
            "1  \t [-0.19186376  1.09890033]\t 114.22376409512034\t 0.19652774971866602\t -35.04139965937943\n",
            "2  \t [ 2.048 -2.048]\t 3897.7342268415996\t 0.19652774971866602\t -0.20505427170384932\n",
            "3  \t [2.048 2.048]\t 461.7603900415999\t 0.19652774971866602\t -0.0003732721448938686\n",
            "4  \t [-1.07132494  1.72771387]\t 37.9276881577141\t 0.19652774971866602\t -7.432569520374772e-63\n",
            "5  \t [0.10749801 0.70888416]\t 49.42324131520408\t 0.19652774971866602\t -1.488866874206108e-10\n",
            "6  \t [-0.2194287   0.75652391]\t 51.666513419768584\t 0.19652774971866602\t -2.618574542841576e-75\n",
            "7  \t [0.42761311 0.59123572]\t 17.005273139159126\t 0.19652774971866602\t -2.3730330188980772e-63\n",
            "8  \t [-1.14119662  1.62908228]\t 15.261445877164482\t 0.19652774971866602\t -1.207748744685654e-131\n",
            "9  \t [0.1668485  0.34677143]\t 10.865967733054326\t 0.19652774971866602\t -3.5877743066607506e-53\n",
            "10 \t [0.44470743 0.45760093]\t 7.059836500332387\t 0.19652774971866602\t -7.367649522634521e-48\n",
            "11 \t [0.04512061 0.66095582]\t 44.32934508397421\t 0.19652774971866602\t -1.5321228839305813e-38\n",
            "12 \t [-0.56448352  1.95307714]\t 269.5855495070305\t 0.19652774971866602\t -5.191376150604677e-103\n",
            "13 \t [0.04114318 0.79235555]\t 63.434170141993164\t 0.19652774971866602\t -3.2598017361553375e-123\n",
            "14 \t [0.17998726 0.24407002]\t 5.153034829347006\t 0.19652774971866602\t -1.095429775875509e-56\n",
            "15 \t [0.14988135 0.06807326]\t 0.9307183608041492\t 0.19652774971866602\t -8.17564848473882e-124\n",
            "16 \t [-1.88917346  1.69713702]\t 358.725574683271\t 0.19652774971866602\t -1.8266997588253185e-104\n",
            "17 \t [0.58827124 0.45647522]\t 1.3886053434167116\t 0.19652774971866602\t -2.5219732008738735e-60\n",
            "18 \t [0.39563421 0.93444956]\t 60.88169736600394\t 0.19652774971866602\t -8.990427871828062e-243\n",
            "19 \t [0.38820751 0.78651196]\t 40.79932971546028\t 0.19652774971866602\t -2.1546121312311202e-132\n",
            "20 \t [0.57561025 0.13098716]\t 4.193718131648991\t 0.19652774971866602\t -9.372539203356266e-105\n"
          ]
        }
      ],
      "source": [
        "### Bayesian optimisation runs (x20): 'GP' Acquisition Function run number = 17\n",
        "\n",
        "np.random.seed(run_num_17)\n",
        "surrogate_gp_17 = GaussianProcess(cov_func, optimize=hyperOpt)\n",
        "\n",
        "gp_17 = GPGO_multi(surrogate_gp_17, Acquisition_new(util_gp), f_syn_polarity, param, n_jobs = -1) # define BayesOpt\n",
        "gp_17.run(max_iter = max_iter, init_evals = n_init) # run\n"
      ]
    },
    {
      "cell_type": "code",
      "execution_count": 29,
      "metadata": {
        "id": "1d-1rDI5JLk8",
        "colab": {
          "base_uri": "https://localhost:8080/"
        },
        "outputId": "70576c7a-115f-4883-ef44-2795e9f33346"
      },
      "outputs": [
        {
          "output_type": "stream",
          "name": "stdout",
          "text": [
            "Evaluation \t Proposed point \t  Current eval. \t  Best eval. \t Min. ApproxAcqFunc \n",
            "init\t [0.61593289 0.02233702]\t 12.895000300241685\t 12.895000300241685\t    \n",
            "init\t [ 1.55075162 -1.30318244]\t 1375.2393970855524\t 12.895000300241685\t    \n",
            "init\t [1.44274665 1.02455823]\t 111.91239818238155\t 12.895000300241685\t    \n",
            "init\t [0.68035243 1.99841976]\t 235.89058418537797\t 12.895000300241685\t    \n",
            "init\t [-0.99545734 -1.93205893]\t 858.3713873043706\t 12.895000300241685\t    \n",
            "1  \t [-2.048       1.41633236]\t 781.0029474261584\t 12.895000300241685\t -0.13899165103706818\n",
            "\u001b[1m\u001b[92m2\u001b[0m\t \u001b[1m\u001b[92m[-0.06039949  0.34414746]\u001b[0m\t \u001b[1m\u001b[92m12.718428479294268\u001b[0m\t \u001b[1m\u001b[92m12.718428479294268\u001b[0m\t \u001b[1m\u001b[92m-8.237791222354831e-132\u001b[0m\n",
            "3  \t [1.97607309 1.536388  ]\t 561.9209718498646\t 12.718428479294268\t -6.626450696469962e-276\n",
            "4  \t [-0.21963922 -1.52851188]\t 250.10260758062805\t 12.718428479294268\t -0.0\n",
            "\u001b[1m\u001b[92m5\u001b[0m\t \u001b[1m\u001b[92m[0.14168556 0.34829707]\u001b[0m\t \u001b[1m\u001b[92m11.50968973570861\u001b[0m\t \u001b[1m\u001b[92m11.50968973570861\u001b[0m\t \u001b[1m\u001b[92m-0.024593497733870692\u001b[0m\n",
            "\u001b[1m\u001b[92m6\u001b[0m\t \u001b[1m\u001b[92m[0.37259287 0.41735754]\u001b[0m\t \u001b[1m\u001b[92m8.151651954461059\u001b[0m\t \u001b[1m\u001b[92m8.151651954461059\u001b[0m\t \u001b[1m\u001b[92m-1.0146596972197987e-07\u001b[0m\n",
            "\u001b[1m\u001b[92m7\u001b[0m\t \u001b[1m\u001b[92m[-0.62925647  0.24227756]\u001b[0m\t \u001b[1m\u001b[92m5.016419840620624\u001b[0m\t \u001b[1m\u001b[92m5.016419840620624\u001b[0m\t \u001b[1m\u001b[92m-4.900927965905392e-58\u001b[0m\n",
            "\u001b[1m\u001b[92m8\u001b[0m\t \u001b[1m\u001b[92m[-0.00783329  0.03204506]\u001b[0m\t \u001b[1m\u001b[92m1.1180236499216936\u001b[0m\t \u001b[1m\u001b[92m1.1180236499216936\u001b[0m\t \u001b[1m\u001b[92m-3.2300985929240953e-08\u001b[0m\n",
            "9  \t [-0.00368385  0.27561396]\t 8.602938898578687\t 1.1180236499216936\t -0.12119187204025111\n",
            "10 \t [-0.44479983  0.70122646]\t 27.426545506388678\t 1.1180236499216936\t -9.584228318533949e-63\n",
            "11 \t [-0.37276179  0.5092153 ]\t 15.594013955109892\t 1.1180236499216936\t -8.979808612682285e-23\n",
            "12 \t [-0.17100998  0.25498455]\t 6.467125585221145\t 1.1180236499216936\t -0.00293503325625526\n",
            "13 \t [0.00758651 0.27935197]\t 8.785421616002546\t 1.1180236499216936\t -0.011665588832676085\n",
            "14 \t [-0.35307839  0.31540832]\t 5.469147318857424\t 1.1180236499216936\t -1.1390343893850912e-10\n",
            "15 \t [-0.00510671  0.27518064]\t 8.581242579461923\t 1.1180236499216936\t -0.005244670249859397\n",
            "16 \t [-0.31611653  0.06937574]\t 1.8255169063093506\t 1.1180236499216936\t -2.1865711206255146e-08\n",
            "17 \t [-0.8334918   0.06319578]\t 43.24253345512069\t 1.1180236499216936\t -1.4421864451560416e-48\n",
            "18 \t [0.70013371 0.18935088]\t 9.14016973592564\t 1.1180236499216936\t -2.4555206118328546e-104\n",
            "19 \t [-0.26385782  0.32908585]\t 8.329539935401124\t 1.1180236499216936\t -7.589594546936096e-09\n",
            "20 \t [0.12568155 0.30776561]\t 9.289066833171825\t 1.1180236499216936\t -0.0376194085706244\n"
          ]
        }
      ],
      "source": [
        "### Bayesian optimisation runs (x20): 'GP' Acquisition Function run number = 18\n",
        "\n",
        "np.random.seed(run_num_18)\n",
        "surrogate_gp_18 = GaussianProcess(cov_func, optimize=hyperOpt)\n",
        "\n",
        "gp_18 = GPGO_multi(surrogate_gp_18, Acquisition_new(util_gp), f_syn_polarity, param, n_jobs = -1) # define BayesOpt\n",
        "gp_18.run(max_iter = max_iter, init_evals = n_init) # run\n"
      ]
    },
    {
      "cell_type": "code",
      "execution_count": 30,
      "metadata": {
        "id": "E7485DWlJLk8",
        "colab": {
          "base_uri": "https://localhost:8080/"
        },
        "outputId": "4db8be19-9e0c-40d4-d70a-45af85f02923"
      },
      "outputs": [
        {
          "output_type": "stream",
          "name": "stdout",
          "text": [
            "Evaluation \t Proposed point \t  Current eval. \t  Best eval. \t Min. ApproxAcqFunc \n",
            "init\t [-1.64850237  1.07007884]\t 278.43400025820534\t 57.78708636899354\t    \n",
            "init\t [-1.03654206 -1.48221261]\t 657.7842496298689\t 57.78708636899354\t    \n",
            "init\t [-0.69039488 -1.70803378]\t 480.139610337942\t 57.78708636899354\t    \n",
            "init\t [0.70441812 1.2558082 ]\t 57.78708636899354\t 57.78708636899354\t    \n",
            "init\t [1.97731088 0.55566637]\t 1125.9484203106679\t 57.78708636899354\t    \n",
            "1  \t [ 1.93073057 -1.49233755]\t 2725.7669110475235\t 57.78708636899354\t -3.353630532020865e-30\n",
            "2  \t [0.53551965 1.94244956]\t 274.3394851912407\t 57.78708636899354\t -7.949494605994445e-37\n",
            "3  \t [-1.64003371 -1.38370768]\t 1666.2434170713327\t 57.78708636899354\t -0.0\n",
            "4  \t [-1.93547056 -1.54173839]\t 2804.6836644711875\t 57.78708636899354\t -0.0\n",
            "5  \t [ 1.21885506 -0.87436374]\t 556.9944011631184\t 57.78708636899354\t -0.0\n",
            "\u001b[1m\u001b[92m6\u001b[0m\t \u001b[1m\u001b[92m[-0.16112685 -0.04887507]\u001b[0m\t \u001b[1m\u001b[92m1.9082721899084234\u001b[0m\t \u001b[1m\u001b[92m1.9082721899084234\u001b[0m\t \u001b[1m\u001b[92m-1.0630545038662198e-89\u001b[0m\n",
            "7  \t [-0.01172159 -0.32936079]\t 11.88048613293375\t 1.9082721899084234\t -2.5488317485732887e-57\n",
            "8  \t [-0.1314446  -0.37171216]\t 16.41147650603184\t 1.9082721899084234\t -1.5363212145022667e-86\n",
            "\u001b[1m\u001b[92m9\u001b[0m\t \u001b[1m\u001b[92m[-0.09648299 -0.01940547]\u001b[0m\t \u001b[1m\u001b[92m1.2847268391270206\u001b[0m\t \u001b[1m\u001b[92m1.2847268391270206\u001b[0m\t \u001b[1m\u001b[92m-7.533819460603619e-08\u001b[0m\n",
            "10 \t [-0.37584279 -0.30716325]\t 22.001087058119726\t 1.2847268391270206\t -7.164058192859548e-301\n",
            "11 \t [-0.1897412  -0.10171707]\t 3.3121307661011583\t 1.2847268391270206\t -3.0437813098522327e-09\n",
            "12 \t [-0.04874483  0.61914066]\t 39.13972259029852\t 1.2847268391270206\t -1.3461551713994604e-25\n",
            "13 \t [-0.34178831  1.13204447]\t 104.86862108611966\t 1.2847268391270206\t -2.573584431407339e-268\n",
            "14 \t [-0.02504506  0.28967613]\t 9.405642858602477\t 1.2847268391270206\t -1.515799305809227e-17\n",
            "15 \t [-0.16083527  0.15177732]\t 2.932854568175885\t 1.2847268391270206\t -9.13571991751924e-10\n",
            "16 \t [-0.18097017 -0.11037962]\t 3.443305115670409\t 1.2847268391270206\t -2.3970927180939436e-10\n",
            "17 \t [-0.0257712  -0.04884734]\t 1.2973454170666483\t 1.2847268391270206\t -0.07601296120663265\n",
            "18 \t [-0.14681215  0.35589931]\t 12.493869856579723\t 1.2847268391270206\t -3.162713929215054e-25\n",
            "\u001b[1m\u001b[92m19\u001b[0m\t \u001b[1m\u001b[92m[-0.02642541 -0.0454752 ]\u001b[0m\t \u001b[1m\u001b[92m1.2667483162074955\u001b[0m\t \u001b[1m\u001b[92m1.2667483162074955\u001b[0m\t \u001b[1m\u001b[92m-0.10382156380497615\u001b[0m\n",
            "20 \t [-1.94740465 -0.27344259]\t 1661.782486785179\t 1.2667483162074955\t -0.0\n"
          ]
        }
      ],
      "source": [
        "### Bayesian optimisation runs (x20): 'GP' Acquisition Function run number = 19\n",
        "\n",
        "np.random.seed(run_num_19)\n",
        "surrogate_gp_19 = GaussianProcess(cov_func, optimize=hyperOpt)\n",
        "\n",
        "gp_19 = GPGO_multi(surrogate_gp_19, Acquisition_new(util_gp), f_syn_polarity, param, n_jobs = -1) # define BayesOpt\n",
        "gp_19.run(max_iter = max_iter, init_evals = n_init) # run\n"
      ]
    },
    {
      "cell_type": "code",
      "execution_count": 31,
      "metadata": {
        "id": "v9oZm6NvJLk9",
        "colab": {
          "base_uri": "https://localhost:8080/"
        },
        "outputId": "179c29e8-c3ef-4c8e-d7c4-76b2180a2bdc"
      },
      "outputs": [
        {
          "output_type": "stream",
          "name": "stdout",
          "text": [
            "Evaluation \t Proposed point \t  Current eval. \t  Best eval. \t Min. ApproxAcqFunc \n",
            "init\t [0.36098376 1.62903543]\t 225.0263501192369\t 5.168692520381821\t    \n",
            "init\t [1.60370987 1.29367031]\t 163.7478327754951\t 5.168692520381821\t    \n",
            "init\t [-1.90099626  0.78543905]\t 808.3708592256118\t 5.168692520381821\t    \n",
            "init\t [-0.49692286  0.07582083]\t 5.168692520381821\t 5.168692520381821\t    \n",
            "init\t [ 0.6469692  -1.25398951]\t 279.86987688431674\t 5.168692520381821\t    \n",
            "\u001b[1m\u001b[92m1\u001b[0m\t \u001b[1m\u001b[92m[0.0555759  0.00515213]\u001b[0m\t \u001b[1m\u001b[92m0.8923626716305083\u001b[0m\t \u001b[1m\u001b[92m0.8923626716305083\u001b[0m\t \u001b[1m\u001b[92m-1.2804839974501747e-35\u001b[0m\n",
            "2  \t [-2.048 -2.048]\t 3905.9262268415996\t 0.8923626716305083\t -0.6818600279595244\n",
            "3  \t [0.31069535 0.60915909]\t 26.753835977903137\t 0.8923626716305083\t -3.167815663166096e-203\n",
            "4  \t [1.38433188 0.17173173]\t 304.525634319156\t 0.8923626716305083\t -4.920396630535691e-210\n",
            "5  \t [-0.46488162 -0.4147322 ]\t 41.942686825627895\t 0.8923626716305083\t -0.0\n",
            "6  \t [ 1.65854573 -1.99191456]\t 2249.743102564006\t 0.8923626716305083\t -4.652346089231099e-285\n",
            "7  \t [-1.51691616 -1.68996713]\t 1599.1443894924685\t 0.8923626716305083\t -0.0\n",
            "8  \t [1.97603133 1.96959584]\t 375.4153764178192\t 0.8923626716305083\t -2.0053272697534086e-232\n",
            "9  \t [0.37813921 0.53643685]\t 15.86681116110497\t 0.8923626716305083\t -2.425098835207337e-281\n",
            "10 \t [ 0.55662019 -0.78846317]\t 120.82050378432947\t 0.8923626716305083\t -0.0\n",
            "11 \t [-0.29011996 -0.50301262]\t 36.14270358033897\t 0.8923626716305083\t -2.8023158735712727e-126\n",
            "12 \t [0.29464496 0.58921165]\t 25.737699565273573\t 0.8923626716305083\t -1.4427388963886946e-179\n",
            "13 \t [-0.49158509  1.12880054]\t 80.92738587746251\t 0.8923626716305083\t -0.0\n",
            "14 \t [-0.23432436  0.22102855]\t 4.283163303783041\t 0.8923626716305083\t -7.282238944032759e-13\n",
            "15 \t [ 0.04966919 -0.48128158]\t 24.30440006760444\t 0.8923626716305083\t -9.290275956412602e-13\n",
            "16 \t [-0.1511379   0.59172363]\t 33.68767393165081\t 0.8923626716305083\t -1.785567585777487e-92\n",
            "17 \t [-0.00464963 -0.07128555]\t 1.5177921817435143\t 0.8923626716305083\t -8.852646183764834\n",
            "18 \t [-0.00585382 -0.07035397]\t 1.5071922846773804\t 0.8923626716305083\t -7.449461331922866\n",
            "19 \t [0.587125   0.23478923]\t 1.3788499672582524\t 0.8923626716305083\t -1.1728118083792357e-256\n",
            "20 \t [-0.10131836 -0.55341581]\t 32.98655339317061\t 0.8923626716305083\t -1.886102703241387e-64\n"
          ]
        }
      ],
      "source": [
        "### Bayesian optimisation runs (x20): 'GP' Acquisition Function run number = 20\n",
        "\n",
        "np.random.seed(run_num_20)\n",
        "surrogate_gp_20 = GaussianProcess(cov_func, optimize=hyperOpt)\n",
        "\n",
        "gp_20 = GPGO_multi(surrogate_gp_20, Acquisition_new(util_gp), f_syn_polarity, param, n_jobs = -1) # define BayesOpt\n",
        "gp_20.run(max_iter = max_iter, init_evals = n_init) # run\n"
      ]
    },
    {
      "cell_type": "code",
      "execution_count": 32,
      "metadata": {
        "id": "m3W7oEVSJLk9",
        "colab": {
          "base_uri": "https://localhost:8080/"
        },
        "outputId": "1c03fc2b-bd87-438c-fd3c-eebc5c7a4f27"
      },
      "outputs": [
        {
          "output_type": "stream",
          "name": "stdout",
          "text": [
            "Evaluation \t Proposed point \t  Current eval. \t  Best eval. \t Min. ApproxAcqFunc \n",
            "init\t [-0.33987787  0.90244913]\t 63.72149506568065\t 2.0636815813193974\t    \n",
            "init\t [-2.04753152 -0.80964578]\t 2511.318971868364\t 2.0636815813193974\t    \n",
            "init\t [-1.44688787 -1.66978112]\t 1422.2040787100386\t 2.0636815813193974\t    \n",
            "init\t [-1.28507817 -0.63258326]\t 526.8913737894474\t 2.0636815813193974\t    \n",
            "init\t [-0.42284043  0.15899334]\t 2.0636815813193974\t 2.0636815813193974\t    \n",
            "1  \t [ 1.42184571 -0.49163165]\t 631.8340222166839\t 2.0636815813193974\t -606.0887112165632\n",
            "2  \t [2.048 2.048]\t 461.7603900415999\t 2.0636815813193974\t -569.3117118754195\n",
            "3  \t [-2.048  2.048]\t 469.9523900415999\t 2.0636815813193974\t -535.9335679208033\n",
            "4  \t [ 2.048 -2.048]\t 3897.7342268415996\t 2.0636815813193974\t -478.7035561927819\n",
            "5  \t [0.15373792 2.048     ]\t 410.52138356930976\t 2.0636815813193974\t -776.6361129785953\n",
            "\u001b[1m\u001b[92m6\u001b[0m\t \u001b[1m\u001b[92m[0.75216319 0.60299694]\u001b[0m\t \u001b[1m\u001b[92m0.20016055355184975\u001b[0m\t \u001b[1m\u001b[92m0.20016055355184975\u001b[0m\t \u001b[1m\u001b[92m-687.6504018272782\u001b[0m\n",
            "7  \t [2.048      0.71933438]\t 1208.6396905203703\t 0.20016055355184975\t -647.4122731275216\n",
            "8  \t [ 0.11743774 -0.1547168 ]\t 3.618424867781334\t 0.20016055355184975\t -639.0562243959718\n",
            "9  \t [0.04452995 0.24254123]\t 6.699753414161896\t 0.20016055355184975\t -587.7963797278577\n",
            "10 \t [-0.15404986 -2.048     ]\t 430.5389136213238\t 0.20016055355184975\t -497.54849607419726\n",
            "11 \t [-0.47021431 -0.94109362]\t 137.23128053405722\t 0.20016055355184975\t -350.6682550899656\n",
            "12 \t [-1.68871383  0.84446614]\t 410.1497981676708\t 0.20016055355184975\t -369.7844096346285\n",
            "13 \t [-0.96856476  2.048     ]\t 127.05911851793803\t 0.20016055355184975\t -290.8323947165649\n",
            "14 \t [0.76748284 0.04914645]\t 29.20147921409745\t 0.20016055355184975\t -165.08693158808742\n",
            "15 \t [1.1752767 2.048    ]\t 44.48290086285917\t 0.20016055355184975\t -159.19662584441426\n",
            "16 \t [0.65456585 1.3390384 ]\t 83.03527447735459\t 0.20016055355184975\t -127.49429749633964\n",
            "17 \t [-1.13974387  1.41381517]\t 5.896386745431638\t 0.20016055355184975\t -120.28470120678686\n",
            "18 \t [-0.65769847 -0.33242913]\t 61.269915410307846\t 0.20016055355184975\t -100.78357621494311\n",
            "19 \t [ 0.49377257 -1.11689606]\t 185.40873162359873\t 0.20016055355184975\t -129.1308647179112\n",
            "20 \t [ 0.06440448 -0.29525973]\t 9.839833984773474\t 0.20016055355184975\t -400.4991575915084\n"
          ]
        }
      ],
      "source": [
        "### Bayesian optimisation runs (x20): 'STP' Acquisition Function run number = 1 \n",
        "\n",
        "np.random.seed(run_num_1)\n",
        "surrogate_stp_1 = tStudentProcess(cov_func, nu = df, optimize=hyperOpt)\n",
        "\n",
        "stp_1 = GPGO_multi_STP(surrogate_stp_1, Acquisition_new(util_stp), f_syn_polarity, param, n_jobs = -1) # Define BayesOpt\n",
        "stp_1.run(max_iter = max_iter, init_evals = n_init) # run\n"
      ]
    },
    {
      "cell_type": "code",
      "execution_count": 33,
      "metadata": {
        "id": "FGw67C40JLk-",
        "colab": {
          "base_uri": "https://localhost:8080/"
        },
        "outputId": "b6f13a44-eab0-44a7-e8e5-ebb91a3b22e7"
      },
      "outputs": [
        {
          "output_type": "stream",
          "name": "stdout",
          "text": [
            "Evaluation \t Proposed point \t  Current eval. \t  Best eval. \t Min. ApproxAcqFunc \n",
            "init\t [-0.26216488 -1.94180615]\t 405.8187938051167\t 10.016400127761926\t    \n",
            "init\t [ 0.20341751 -0.26491948]\t 10.016400127761926\t 10.016400127761926\t    \n",
            "init\t [-0.32617348 -0.69494857]\t 65.97294928625357\t 10.016400127761926\t    \n",
            "init\t [-1.20975919  0.48853388]\t 99.94230490266065\t 10.016400127761926\t    \n",
            "init\t [-0.82061446 -0.95507548]\t 268.5105099964258\t 10.016400127761926\t    \n",
            "1  \t [1.43962042 0.58188805]\t 222.38774067735304\t 10.016400127761926\t -105.92768121058687\n",
            "2  \t [-2.048  2.048]\t 469.9523900415999\t 10.016400127761926\t -102.429508090546\n",
            "3  \t [ 2.048 -2.048]\t 3897.7342268415996\t 10.016400127761926\t -128.0526328019171\n",
            "4  \t [0.40660124 2.048     ]\t 354.7988001655626\t 10.016400127761926\t -707.4280162903169\n",
            "5  \t [-2.048 -2.048]\t 3905.9262268415996\t 10.016400127761926\t -656.8470819787892\n",
            "6  \t [2.048 2.048]\t 461.7603900415999\t 10.016400127761926\t -876.0661377366142\n",
            "7  \t [-0.15530603  0.66673174]\t 42.62972116177164\t 10.016400127761926\t -774.8586520067118\n",
            "8  \t [-0.75282854  2.048     ]\t 222.48232608100093\t 10.016400127761926\t -710.0652405876401\n",
            "9  \t [-2.048       0.06756119]\t 1712.2909277247247\t 10.016400127761926\t -466.968859477716\n",
            "\u001b[1m\u001b[92m10\u001b[0m\t \u001b[1m\u001b[92m[0.0769976  0.17481406]\u001b[0m\t \u001b[1m\u001b[92m3.7041621059870606\u001b[0m\t \u001b[1m\u001b[92m3.7041621059870606\u001b[0m\t \u001b[1m\u001b[92m-679.7208995449237\u001b[0m\n",
            "\u001b[1m\u001b[92m11\u001b[0m\t \u001b[1m\u001b[92m[ 0.01040555 -0.00056148]\u001b[0m\t \u001b[1m\u001b[92m0.9793420359658004\u001b[0m\t \u001b[1m\u001b[92m0.9793420359658004\u001b[0m\t \u001b[1m\u001b[92m-635.6347184224717\u001b[0m\n",
            "12 \t [ 2.048      -0.13456011]\t 1875.0047482043578\t 0.9793420359658004\t -336.36533988124984\n",
            "13 \t [-1.1105961   1.25455977]\t 4.499289247808375\t 0.9793420359658004\t -304.9735604126475\n",
            "\u001b[1m\u001b[92m14\u001b[0m\t \u001b[1m\u001b[92m[1.1179427  1.31953446]\u001b[0m\t \u001b[1m\u001b[92m0.5002575634537223\u001b[0m\t \u001b[1m\u001b[92m0.5002575634537223\u001b[0m\t \u001b[1m\u001b[92m-257.7324711108568\u001b[0m\n",
            "15 \t [2.048      1.20015731]\t 897.5897421950128\t 0.5002575634537223\t -194.37007141802064\n",
            "16 \t [0.8541119 0.5430136]\t 3.499267024797717\t 0.5002575634537223\t -185.16305031602963\n",
            "17 \t [1.280046 2.048   ]\t 16.845995777881427\t 0.5002575634537223\t -216.06890581368557\n",
            "18 \t [-0.77501681  0.67809407]\t 3.7504266825119243\t 0.5002575634537223\t -161.27106039986177\n",
            "19 \t [ 0.51839585 -2.048     ]\t 536.957706606058\t 0.5002575634537223\t -141.12201666079073\n",
            "20 \t [0.057082   0.89876684]\t 81.0826386039706\t 0.5002575634537223\t -558.9134592185308\n"
          ]
        }
      ],
      "source": [
        "### Bayesian optimisation runs (x20): 'STP' Acquisition Function run number = 2 \n",
        "\n",
        "np.random.seed(run_num_2)\n",
        "surrogate_stp_2 = tStudentProcess(cov_func, nu = df, optimize=hyperOpt)\n",
        "\n",
        "stp_2 = GPGO_multi_STP(surrogate_stp_2, Acquisition_new(util_stp), f_syn_polarity, param, n_jobs = -1) # Define BayesOpt\n",
        "stp_2.run(max_iter = max_iter, init_evals = n_init) # run\n"
      ]
    },
    {
      "cell_type": "code",
      "execution_count": 34,
      "metadata": {
        "id": "oFLQAtDZJLk_",
        "colab": {
          "base_uri": "https://localhost:8080/"
        },
        "outputId": "9bbbdd64-519d-42ac-9527-7f62f1249b08"
      },
      "outputs": [
        {
          "output_type": "stream",
          "name": "stdout",
          "text": [
            "Evaluation \t Proposed point \t  Current eval. \t  Best eval. \t Min. ApproxAcqFunc \n",
            "init\t [0.20806821 0.85257348]\t 66.12074614607258\t 50.941111321262525\t    \n",
            "init\t [-0.85645419  0.04434987]\t 50.941111321262525\t 50.941111321262525\t    \n",
            "init\t [1.60951073 1.62321649]\t 93.94003449768307\t 50.941111321262525\t    \n",
            "init\t [-1.53360257 -1.19913317]\t 1267.4289626896234\t 50.941111321262525\t    \n",
            "init\t [-1.83719034 -0.24244288]\t 1316.8330877748904\t 50.941111321262525\t    \n",
            "1  \t [ 2.048 -2.048]\t 3897.7342268415996\t 50.941111321262525\t -375.76113040267467\n",
            "\u001b[1m\u001b[92m2\u001b[0m\t \u001b[1m\u001b[92m[-1.21526383  2.048     ]\u001b[0m\t \u001b[1m\u001b[92m37.52677930311802\u001b[0m\t \u001b[1m\u001b[92m37.52677930311802\u001b[0m\t \u001b[1m\u001b[92m-871.5206394383339\u001b[0m\n",
            "3  \t [0.17057312 2.048     ]\t 408.28561304653425\t 37.52677930311802\t -767.7200211505873\n",
            "4  \t [-2.048  2.048]\t 469.9523900415999\t 37.52677930311802\t -718.0194965080196\n",
            "5  \t [2.048      0.62093404]\t 1277.9955883410244\t 37.52677930311802\t -680.9679252493606\n",
            "\u001b[1m\u001b[92m6\u001b[0m\t \u001b[1m\u001b[92m[ 0.15967568 -0.17222324]\u001b[0m\t \u001b[1m\u001b[92m4.6154475226250025\u001b[0m\t \u001b[1m\u001b[92m4.6154475226250025\u001b[0m\t \u001b[1m\u001b[92m-623.6597798837083\u001b[0m\n",
            "7  \t [-0.48692333  0.93550209]\t 50.98828132329597\t 4.6154475226250025\t -584.1058168253961\n",
            "8  \t [2.048 2.048]\t 461.7603900415999\t 4.6154475226250025\t -553.8941434712705\n",
            "9  \t [0.03343655 0.25841522]\t 7.554430649305429\t 4.6154475226250025\t -524.3146950044833\n",
            "10 \t [-0.25320824 -2.048     ]\t 447.67325921040884\t 4.6154475226250025\t -456.86926991728103\n",
            "11 \t [-0.30780965 -0.70480302]\t 65.63835508479028\t 4.6154475226250025\t -252.100414176747\n",
            "12 \t [1.00511401 1.55729751]\t 29.925665882874927\t 4.6154475226250025\t -220.4359154207308\n",
            "13 \t [-2.048 -2.048]\t 3905.9262268415996\t 4.6154475226250025\t -197.47959988426382\n",
            "14 \t [-1.51621896  1.18667134]\t 130.04105137213705\t 4.6154475226250025\t -223.54853464643577\n",
            "15 \t [0.89650737 0.36709365]\t 19.075445447796582\t 4.6154475226250025\t -225.61721096495702\n",
            "16 \t [ 0.54069514 -1.31944297]\t 259.99901499715946\t 4.6154475226250025\t -158.768754917802\n",
            "17 \t [ 1.07552833 -0.53220314]\t 285.26575529563155\t 4.6154475226250025\t -156.13978547321588\n",
            "18 \t [-1.04585695  1.54178651]\t 24.253219368376346\t 4.6154475226250025\t -111.91139471282948\n",
            "19 \t [ 0.12277725 -0.43900015]\t 21.387875820934617\t 4.6154475226250025\t -450.88886834909954\n",
            "\u001b[1m\u001b[92m20\u001b[0m\t \u001b[1m\u001b[92m[0.0751763  0.13352991]\u001b[0m\t \u001b[1m\u001b[92m2.490588151284161\u001b[0m\t \u001b[1m\u001b[92m2.490588151284161\u001b[0m\t \u001b[1m\u001b[92m-509.2218593473441\u001b[0m\n"
          ]
        }
      ],
      "source": [
        "### Bayesian optimisation runs (x20): 'STP' Acquisition Function run number = 3 \n",
        "\n",
        "np.random.seed(run_num_3)\n",
        "surrogate_stp_3 = tStudentProcess(cov_func, nu = df, optimize=hyperOpt)\n",
        "\n",
        "stp_3 = GPGO_multi_STP(surrogate_stp_3, Acquisition_new(util_stp), f_syn_polarity, param, n_jobs = -1) # Define BayesOpt\n",
        "stp_3.run(max_iter = max_iter, init_evals = n_init) # run\n"
      ]
    },
    {
      "cell_type": "code",
      "execution_count": 35,
      "metadata": {
        "id": "zhFOxkF0JLk_",
        "colab": {
          "base_uri": "https://localhost:8080/"
        },
        "outputId": "243cf489-10d9-46df-db28-030112e185f8"
      },
      "outputs": [
        {
          "output_type": "stream",
          "name": "stdout",
          "text": [
            "Evaluation \t Proposed point \t  Current eval. \t  Best eval. \t Min. ApproxAcqFunc \n",
            "init\t [1.91295422 0.19346329]\t 1202.1009483415905\t 170.66405971002487\t    \n",
            "init\t [1.93611514 0.87988631]\t 823.7947602867234\t 170.66405971002487\t    \n",
            "init\t [ 0.80989727 -1.16289743]\t 330.8507621971172\t 170.66405971002487\t    \n",
            "init\t [ 1.95082017 -2.02248087]\t 3397.672500714367\t 170.66405971002487\t    \n",
            "init\t [-1.01178424 -0.26709388]\t 170.66405971002487\t 170.66405971002487\t    \n",
            "1  \t [-2.048  2.048]\t 469.9523900415999\t 170.66405971002487\t -810.1976468165212\n",
            "2  \t [-2.048 -2.048]\t 3905.9262268415996\t 170.66405971002487\t -752.481540859462\n",
            "3  \t [0.04210198 2.048     ]\t 419.6222354123704\t 170.66405971002487\t -1008.986009129218\n",
            "4  \t [-2.048       0.59828983]\t 1302.422097042591\t 170.66405971002487\t -884.3076915157762\n",
            "\u001b[1m\u001b[92m5\u001b[0m\t \u001b[1m\u001b[92m[ 0.01666383 -0.01925381]\u001b[0m\t \u001b[1m\u001b[92m1.005097930961911\u001b[0m\t \u001b[1m\u001b[92m1.005097930961911\u001b[0m\t \u001b[1m\u001b[92m-858.2820223997162\u001b[0m\n",
            "6  \t [2.048 2.048]\t 461.7603900415999\t 1.005097930961911\t -778.9181834878419\n",
            "7  \t [-0.07046097 -0.62459068]\t 40.779889900430966\t 1.005097930961911\t -729.9082650461269\n",
            "8  \t [-0.11649859  0.60545316]\t 36.27890942782797\t 1.005097930961911\t -684.0740924571594\n",
            "9  \t [ 0.10276872 -2.048     ]\t 424.5725321145218\t 1.005097930961911\t -472.3154602222548\n",
            "10 \t [-0.99156798  2.048     ]\t 117.34474264134013\t 1.005097930961911\t -341.08249449929576\n",
            "11 \t [-0.74842536  0.4545743 ]\t 4.171413947275725\t 1.005097930961911\t -260.95786178774716\n",
            "12 \t [1.01545168 1.47284307]\t 19.510211675208566\t 1.005097930961911\t -208.43389334908014\n",
            "13 \t [0.83118845 0.53477997]\t 2.4650392128930267\t 1.005097930961911\t -178.1921926288045\n",
            "14 \t [ 0.62343001 -0.42451042]\t 66.26722661152643\t 1.005097930961911\t -149.61099812368218\n",
            "15 \t [1.15775448 2.048     ]\t 50.095307369796636\t 1.005097930961911\t -125.47187330633885\n",
            "16 \t [-1.0415172   1.38944176]\t 13.451006870002121\t 1.005097930961911\t -106.5451182219115\n",
            "17 \t [0.61743818 0.90725936]\t 27.81705293248157\t 1.005097930961911\t -71.32458309303696\n",
            "18 \t [ 0.25557492 -1.24037132]\t 171.03676999557698\t 1.005097930961911\t -71.09453623372929\n",
            "19 \t [-0.50920358 -0.08687339]\t 14.260485946856013\t 1.005097930961911\t -77.92469108457675\n",
            "20 \t [-0.00294771  0.2682389 ]\t 8.200648618288549\t 1.005097930961911\t -501.72632367846154\n"
          ]
        }
      ],
      "source": [
        "### Bayesian optimisation runs (x20): 'STP' Acquisition Function run number = 4 \n",
        "\n",
        "np.random.seed(run_num_4)\n",
        "surrogate_stp_4 = tStudentProcess(cov_func, nu = df, optimize=hyperOpt)\n",
        "\n",
        "stp_4 = GPGO_multi_STP(surrogate_stp_4, Acquisition_new(util_stp), f_syn_polarity, param, n_jobs = -1) # Define BayesOpt\n",
        "stp_4.run(max_iter = max_iter, init_evals = n_init) # run\n"
      ]
    },
    {
      "cell_type": "code",
      "execution_count": 36,
      "metadata": {
        "id": "YdzaqIajJLlA",
        "colab": {
          "base_uri": "https://localhost:8080/"
        },
        "outputId": "1dd1c22e-5f44-4c2b-92b9-af9ba008a4a2"
      },
      "outputs": [
        {
          "output_type": "stream",
          "name": "stdout",
          "text": [
            "Evaluation \t Proposed point \t  Current eval. \t  Best eval. \t Min. ApproxAcqFunc \n",
            "init\t [-1.13871597  1.51851953]\t 9.495646950867519\t 9.495646950867519\t    \n",
            "init\t [-1.20127834  1.71463028]\t 12.220143873516523\t 9.495646950867519\t    \n",
            "init\t [-0.04746777  0.45770286]\t 21.840629211931905\t 9.495646950867519\t    \n",
            "init\t [1.08915858 0.07544008]\t 123.40146376592485\t 9.495646950867519\t    \n",
            "init\t [-0.83230515 -1.27909385]\t 392.1670023300852\t 9.495646950867519\t    \n",
            "1  \t [2.048 2.048]\t 461.7603900415999\t 9.495646950867519\t -89.69997195683786\n",
            "2  \t [ 2.048 -2.048]\t 3897.7342268415996\t 9.495646950867519\t -122.27859850854293\n",
            "3  \t [-2.048 -2.048]\t 3905.9262268415996\t 9.495646950867519\t -656.7146650790995\n",
            "4  \t [-2.048       0.64743929]\t 1267.3152319833628\t 9.495646950867519\t -965.178999441369\n",
            "5  \t [0.16712275 2.048     ]\t 408.7619600736184\t 9.495646950867519\t -924.1383926272725\n",
            "6  \t [ 0.0747087  -0.89133818]\t 81.30263471885713\t 9.495646950867519\t -771.4692392046188\n",
            "7  \t [2.048      0.63092843]\t 1270.862847519505\t 9.495646950867519\t -793.2124736985198\n",
            "8  \t [-2.048  2.048]\t 469.9523900415999\t 9.495646950867519\t -764.3914488046752\n",
            "9  \t [-0.10293383 -2.048     ]\t 424.99795400069826\t 9.495646950867519\t -517.3538544994685\n",
            "10 \t [-0.81420577 -0.2161271 ]\t 80.56566471082259\t 9.495646950867519\t -370.7145729572497\n",
            "11 \t [0.8590987  1.11052293]\t 13.89341819203636\t 9.495646950867519\t -294.4267329301339\n",
            "12 \t [1.16595429 2.048     ]\t 47.43773227792711\t 9.495646950867519\t -227.31417160685612\n",
            "13 \t [-0.37890132 -0.61155284]\t 58.92184692671363\t 9.495646950867519\t -184.32126324077538\n",
            "14 \t [-0.42470476  1.2289824 ]\t 111.98771462634987\t 9.495646950867519\t -181.02630852383822\n",
            "\u001b[1m\u001b[92m15\u001b[0m\t \u001b[1m\u001b[92m[0.60466553 0.34094195]\u001b[0m\t \u001b[1m\u001b[92m0.21719196855246214\u001b[0m\t \u001b[1m\u001b[92m0.21719196855246214\u001b[0m\t \u001b[1m\u001b[92m-162.64394375554252\u001b[0m\n",
            "16 \t [-0.79983835  0.63028751]\t 3.2483556390998864\t 0.21719196855246214\t -134.48814961005675\n",
            "17 \t [ 2.048      -0.53756675]\t 2240.1583839186596\t 0.21719196855246214\t -104.50688137057958\n",
            "18 \t [ 0.58515872 -0.33569283]\t 46.15453712974237\t 0.21719196855246214\t -106.66615610528507\n",
            "19 \t [-2.048      -0.57508353]\t 2283.996047456182\t 0.21719196855246214\t -90.19307310253888\n",
            "20 \t [0.00229422 0.14140424]\t 2.9947839182926588\t 0.21719196855246214\t -598.2721632777066\n"
          ]
        }
      ],
      "source": [
        "### Bayesian optimisation runs (x20): 'STP' Acquisition Function run number = 5 \n",
        "\n",
        "np.random.seed(run_num_5)\n",
        "surrogate_stp_5 = tStudentProcess(cov_func, nu = df, optimize=hyperOpt)\n",
        "\n",
        "stp_5 = GPGO_multi_STP(surrogate_stp_5, Acquisition_new(util_stp), f_syn_polarity, param, n_jobs = -1) # Define BayesOpt\n",
        "stp_5.run(max_iter = max_iter, init_evals = n_init) # run\n"
      ]
    },
    {
      "cell_type": "code",
      "execution_count": 37,
      "metadata": {
        "id": "_KSBbC1zJLlA",
        "colab": {
          "base_uri": "https://localhost:8080/"
        },
        "outputId": "400440d2-b8b8-4e3b-b2fc-c30dee1d7f3d"
      },
      "outputs": [
        {
          "output_type": "stream",
          "name": "stdout",
          "text": [
            "Evaluation \t Proposed point \t  Current eval. \t  Best eval. \t Min. ApproxAcqFunc \n",
            "init\t [ 1.60915518 -0.68821072]\t 1074.6314195925434\t 3.0269049669752817\t    \n",
            "init\t [ 1.31575449 -1.87721062]\t 1302.169546932896\t 3.0269049669752817\t    \n",
            "init\t [-1.60703824  0.38933325]\t 487.8262244570432\t 3.0269049669752817\t    \n",
            "init\t [ 0.12213192 -0.33256477]\t 12.844955340992902\t 3.0269049669752817\t    \n",
            "init\t [-0.67416945  0.50183959]\t 3.0269049669752817\t 3.0269049669752817\t    \n",
            "1  \t [0.50024888 2.048     ]\t 323.44063804383524\t 3.0269049669752817\t -365.5183245143106\n",
            "2  \t [-2.048 -2.048]\t 3905.9262268415996\t 3.0269049669752817\t -338.96903569607315\n",
            "3  \t [-2.048  2.048]\t 469.9523900415999\t 3.0269049669752817\t -794.4406878094771\n",
            "4  \t [2.048 2.048]\t 461.7603900415999\t 3.0269049669752817\t -744.8641222673568\n",
            "5  \t [0.26430926 0.75033014]\t 46.84528618736451\t 3.0269049669752817\t -643.9508550381474\n",
            "6  \t [-0.63684685  2.048     ]\t 272.43561273642104\t 3.0269049669752817\t -592.2716610043648\n",
            "7  \t [-0.1087782   0.32309394]\t 10.917745525551416\t 3.0269049669752817\t -543.7902273524817\n",
            "8  \t [2.048      0.75349667]\t 1185.0138127909981\t 3.0269049669752817\t -379.53612802914745\n",
            "9  \t [-0.0646766 -2.048    ]\t 422.27906831957597\t 3.0269049669752817\t -280.8514515992981\n",
            "10 \t [-0.50112088 -0.7723614 ]\t 107.00521770312824\t 3.0269049669752817\t -233.92445929273646\n",
            "11 \t [-0.35228545  1.19768524]\t 117.08612093327828\t 3.0269049669752817\t -195.3824246786814\n",
            "12 \t [ 0.09503781 -1.14495767]\t 133.9882159933514\t 3.0269049669752817\t -138.09258865094682\n",
            "13 \t [-1.31359981  1.31008605]\t 22.613312380147192\t 3.0269049669752817\t -113.02225766273402\n",
            "14 \t [1.09611167 1.47777732]\t 7.644319479829076\t 3.0269049669752817\t -98.91543528189786\n",
            "15 \t [1.27273124 2.048     ]\t 18.406069628012485\t 3.0269049669752817\t -81.63194517972036\n",
            "16 \t [-0.27741901 -0.33624402]\t 18.70566353517274\t 3.0269049669752817\t -70.91516474412123\n",
            "17 \t [0.87858563 0.43348046]\t 11.468380577358932\t 3.0269049669752817\t -73.12501649354672\n",
            "18 \t [-0.9270797  1.0677327]\t 8.050689134528184\t 3.0269049669752817\t -71.71241877469018\n",
            "19 \t [-2.048       1.17998087]\t 917.9046944352714\t 3.0269049669752817\t -76.4376698148267\n",
            "\u001b[1m\u001b[92m20\u001b[0m\t \u001b[1m\u001b[92m[0.19132239 0.18014827]\u001b[0m\t \u001b[1m\u001b[92m2.7144479308898473\u001b[0m\t \u001b[1m\u001b[92m2.7144479308898473\u001b[0m\t \u001b[1m\u001b[92m-240.5331454022354\u001b[0m\n"
          ]
        }
      ],
      "source": [
        "### Bayesian optimisation runs (x20): 'STP' Acquisition Function run number = 6 \n",
        "\n",
        "np.random.seed(run_num_6)\n",
        "surrogate_stp_6 = tStudentProcess(cov_func, nu = df, optimize=hyperOpt)\n",
        "\n",
        "stp_6 = GPGO_multi_STP(surrogate_stp_6, Acquisition_new(util_stp), f_syn_polarity, param, n_jobs = -1) # Define BayesOpt\n",
        "stp_6.run(max_iter = max_iter, init_evals = n_init) # run\n"
      ]
    },
    {
      "cell_type": "code",
      "execution_count": 38,
      "metadata": {
        "id": "WB64BgXFJLlB",
        "colab": {
          "base_uri": "https://localhost:8080/"
        },
        "outputId": "f9947e8a-9875-45fa-b786-0b99094893cf"
      },
      "outputs": [
        {
          "output_type": "stream",
          "name": "stdout",
          "text": [
            "Evaluation \t Proposed point \t  Current eval. \t  Best eval. \t Min. ApproxAcqFunc \n",
            "init\t [-1.73544125  1.14654737]\t 355.3830807157107\t 74.10242381766855\t    \n",
            "init\t [-0.25227579  0.91531337]\t 74.10242381766855\t 74.10242381766855\t    \n",
            "init\t [1.95784504 0.15767909]\t 1351.8314081149692\t 74.10242381766855\t    \n",
            "init\t [ 0.00458942 -1.75287856]\t 308.2565501886822\t 74.10242381766855\t    \n",
            "init\t [-9.48473938e-01 -4.81276619e-04]\t 84.81168700546641\t 74.10242381766855\t    \n",
            "1  \t [-2.048 -2.048]\t 3905.9262268415996\t 74.10242381766855\t -311.90503880877736\n",
            "2  \t [ 2.048 -2.048]\t 3897.7342268415996\t 74.10242381766855\t -831.0224627815766\n",
            "3  \t [0.81847756 2.048     ]\t 189.94739071409276\t 74.10242381766855\t -1061.729754177963\n",
            "4  \t [2.048 2.048]\t 461.7603900415999\t 74.10242381766855\t -944.0540383474702\n",
            "5  \t [-0.6964224  2.048    ]\t 247.1734470076789\t 74.10242381766855\t -900.2319160322578\n",
            "6  \t [-2.048  2.048]\t 469.9523900415999\t 74.10242381766855\t -816.041822426568\n",
            "\u001b[1m\u001b[92m7\u001b[0m\t \u001b[1m\u001b[92m[-0.00606731 -0.22046075]\u001b[0m\t \u001b[1m\u001b[92m5.874088923595404\u001b[0m\t \u001b[1m\u001b[92m5.874088923595404\u001b[0m\t \u001b[1m\u001b[92m-773.6499707468645\u001b[0m\n",
            "\u001b[1m\u001b[92m8\u001b[0m\t \u001b[1m\u001b[92m[0.84448516 0.94043454]\u001b[0m\t \u001b[1m\u001b[92m5.18977521686754\u001b[0m\t \u001b[1m\u001b[92m5.18977521686754\u001b[0m\t \u001b[1m\u001b[92m-334.00721221015476\u001b[0m\n",
            "9  \t [-0.07768675  0.34399322]\t 12.582968987471611\t 5.18977521686754\t -683.8863408206341\n",
            "10 \t [-2.048       0.07892448]\t 1702.9251655173562\t 5.18977521686754\t -396.8722216597513\n",
            "11 \t [-0.50864996 -0.87257571]\t 130.26010542683503\t 5.18977521686754\t -273.9825951368641\n",
            "\u001b[1m\u001b[92m12\u001b[0m\t \u001b[1m\u001b[92m[-0.94160162  0.85823933]\u001b[0m\t \u001b[1m\u001b[92m3.850326902913387\u001b[0m\t \u001b[1m\u001b[92m3.850326902913387\u001b[0m\t \u001b[1m\u001b[92m-169.76057627874528\u001b[0m\n",
            "13 \t [1.49351248 1.34971421]\t 77.83592294730092\t 3.850326902913387\t -187.85761357392036\n",
            "14 \t [-0.45934711 -0.09065145]\t 11.229039860871833\t 3.850326902913387\t -163.51505617223043\n",
            "15 \t [ 0.34759554 -1.05901287]\t 139.6268179534874\t 3.850326902913387\t -149.41313544635258\n",
            "16 \t [ 0.82072745 -0.13178486]\t 64.89557535446902\t 3.850326902913387\t -102.52806178179821\n",
            "17 \t [-1.25459929  1.63916868]\t 5.507661213818198\t 3.850326902913387\t -94.73703361873444\n",
            "18 \t [1.1069619  1.57095157]\t 11.954472305964819\t 3.850326902913387\t -82.4921384573115\n",
            "\u001b[1m\u001b[92m19\u001b[0m\t \u001b[1m\u001b[92m[0.52503394 0.24433919]\u001b[0m\t \u001b[1m\u001b[92m0.3236960952000109\u001b[0m\t \u001b[1m\u001b[92m0.3236960952000109\u001b[0m\t \u001b[1m\u001b[92m-68.90685790651033\u001b[0m\n",
            "20 \t [-0.0039037  -0.48173815]\t 24.216455721668947\t 0.3236960952000109\t -319.37741793915274\n"
          ]
        }
      ],
      "source": [
        "### Bayesian optimisation runs (x20): 'STP' Acquisition Function run number = 7 \n",
        "\n",
        "np.random.seed(run_num_7)\n",
        "surrogate_stp_7 = tStudentProcess(cov_func, nu = df, optimize=hyperOpt)\n",
        "\n",
        "stp_7 = GPGO_multi_STP(surrogate_stp_7, Acquisition_new(util_stp), f_syn_polarity, param, n_jobs = -1) # Define BayesOpt\n",
        "stp_7.run(max_iter = max_iter, init_evals = n_init) # run\n"
      ]
    },
    {
      "cell_type": "code",
      "execution_count": 39,
      "metadata": {
        "id": "yCh1YYTlJLlB",
        "colab": {
          "base_uri": "https://localhost:8080/"
        },
        "outputId": "82dd448d-3380-43e5-a180-ce91aa0e4aa8"
      },
      "outputs": [
        {
          "output_type": "stream",
          "name": "stdout",
          "text": [
            "Evaluation \t Proposed point \t  Current eval. \t  Best eval. \t Min. ApproxAcqFunc \n",
            "init\t [1.52956683 1.91914255]\t 17.95675982372887\t 1.7663579664225912\t    \n",
            "init\t [1.51222084 0.12638491]\t 467.0068292530542\t 1.7663579664225912\t    \n",
            "init\t [-1.09474477 -2.0013105 ]\t 1028.244988519411\t 1.7663579664225912\t    \n",
            "init\t [-0.28479972 -0.39996883]\t 24.79447905426233\t 1.7663579664225912\t    \n",
            "init\t [ 0.09287545 -0.0885072 ]\t 1.7663579664225912\t 1.7663579664225912\t    \n",
            "1  \t [-1.07862262  1.10441234]\t 4.66894206904446\t 1.7663579664225912\t -255.79516612575657\n",
            "2  \t [-2.048  2.048]\t 469.9523900415999\t 1.7663579664225912\t -232.94647592715077\n",
            "3  \t [ 2.048 -2.048]\t 3897.7342268415996\t 1.7663579664225912\t -235.28712125851283\n",
            "4  \t [0.110352 2.048   ]\t 415.24877276107526\t 1.7663579664225912\t -719.870108684423\n",
            "5  \t [-2.048       0.01480886]\t 1756.1082652189652\t 1.7663579664225912\t -680.9380687005721\n",
            "6  \t [2.048 2.048]\t 461.7603900415999\t 1.7663579664225912\t -657.9929694580785\n",
            "7  \t [0.11860186 0.75994818]\t 56.41082586363102\t 1.7663579664225912\t -615.8340082898725\n",
            "8  \t [0.01763758 0.62156634]\t 39.560845359721455\t 1.7663579664225912\t -545.7785765454813\n",
            "9  \t [1.44196215 1.15082101]\t 86.39426700343037\t 1.7663579664225912\t -320.1149607247789\n",
            "10 \t [ 0.15098285 -1.42747131]\t 211.04830561716273\t 1.7663579664225912\t -263.2017638350794\n",
            "11 \t [-1.06379522  2.048     ]\t 88.22710146256834\t 1.7663579664225912\t -222.22293293587398\n",
            "12 \t [-2.048 -2.048]\t 3905.9262268415996\t 1.7663579664225912\t -172.89277039458224\n",
            "13 \t [-0.27485373 -2.048     ]\t 452.56940722788323\t 1.7663579664225912\t -420.25413043389716\n",
            "14 \t [-0.40927877 -1.22854853]\t 196.8837611310014\t 1.7663579664225912\t -248.15479185473697\n",
            "15 \t [-0.5722009   1.29479746]\t 96.05491595325222\t 1.7663579664225912\t -192.850288338272\n",
            "16 \t [0.99205064 1.62508081]\t 41.07743750892596\t 1.7663579664225912\t -185.4291624123503\n",
            "17 \t [ 0.616643   -0.72085173]\t 121.38915462837227\t 1.7663579664225912\t -144.2421061312073\n",
            "18 \t [2.048      0.67737626]\t 1237.9763793614704\t 1.7663579664225912\t -156.00523854309893\n",
            "19 \t [ 0.21070549 -0.1480925 ]\t 4.328198886755272\t 1.7663579664225912\t -451.03471012189294\n",
            "\u001b[1m\u001b[92m20\u001b[0m\t \u001b[1m\u001b[92m[0.90534488 0.68976847]\u001b[0m\t \u001b[1m\u001b[92m1.6958639139621212\u001b[0m\t \u001b[1m\u001b[92m1.6958639139621212\u001b[0m\t \u001b[1m\u001b[92m-179.0936792452627\u001b[0m\n"
          ]
        }
      ],
      "source": [
        "### Bayesian optimisation runs (x20): 'STP' Acquisition Function run number = 8 \n",
        "\n",
        "np.random.seed(run_num_8)\n",
        "surrogate_stp_8 = tStudentProcess(cov_func, nu = df, optimize=hyperOpt)\n",
        "\n",
        "stp_8 = GPGO_multi_STP(surrogate_stp_8, Acquisition_new(util_stp), f_syn_polarity, param, n_jobs = -1) # Define BayesOpt\n",
        "stp_8.run(max_iter = max_iter, init_evals = n_init) # run\n"
      ]
    },
    {
      "cell_type": "code",
      "execution_count": 40,
      "metadata": {
        "id": "IDhy8DkEJLlC",
        "colab": {
          "base_uri": "https://localhost:8080/"
        },
        "outputId": "0c52f867-bfa3-47af-cab8-e4033109e28c"
      },
      "outputs": [
        {
          "output_type": "stream",
          "name": "stdout",
          "text": [
            "Evaluation \t Proposed point \t  Current eval. \t  Best eval. \t Min. ApproxAcqFunc \n",
            "init\t [-2.00550747  0.00767833]\t 1620.5592513107108\t 132.4681822844375\t    \n",
            "init\t [-0.01731259 -1.49983425]\t 226.0751192637302\t 132.4681822844375\t    \n",
            "init\t [-1.46591299 -1.15278366]\t 1096.1928272344956\t 132.4681822844375\t    \n",
            "init\t [-0.33379049 -1.03177761]\t 132.4681822844375\t 132.4681822844375\t    \n",
            "init\t [-1.70369167 -0.63283757]\t 1257.2172959284223\t 132.4681822844375\t    \n",
            "\u001b[1m\u001b[92m1\u001b[0m\t \u001b[1m\u001b[92m[0.80127184 0.1505309 ]\u001b[0m\t \u001b[1m\u001b[92m24.197274053677848\u001b[0m\t \u001b[1m\u001b[92m24.197274053677848\u001b[0m\t \u001b[1m\u001b[92m-438.76253038370294\u001b[0m\n",
            "2  \t [2.048 2.048]\t 461.7603900415999\t 24.197274053677848\t -373.0603368613908\n",
            "3  \t [ 2.048 -2.048]\t 3897.7342268415996\t 24.197274053677848\t -344.9335201689344\n",
            "4  \t [-0.23952646  2.048     ]\t 397.79604019634183\t 24.197274053677848\t -763.6834956800528\n",
            "5  \t [-2.048  2.048]\t 469.9523900415999\t 24.197274053677848\t -694.9742448952711\n",
            "6  \t [2.048      0.51756485]\t 1352.9393825447237\t 24.197274053677848\t -508.2188625852883\n",
            "\u001b[1m\u001b[92m7\u001b[0m\t \u001b[1m\u001b[92m[-0.09886854  0.41043866]\u001b[0m\t \u001b[1m\u001b[92m17.260649963436702\u001b[0m\t \u001b[1m\u001b[92m17.260649963436702\u001b[0m\t \u001b[1m\u001b[92m-534.1854851522876\u001b[0m\n",
            "\u001b[1m\u001b[92m8\u001b[0m\t \u001b[1m\u001b[92m[ 0.21954842 -0.0787067 ]\u001b[0m\t \u001b[1m\u001b[92m2.2196740444099934\u001b[0m\t \u001b[1m\u001b[92m2.2196740444099934\u001b[0m\t \u001b[1m\u001b[92m-558.7073682526034\u001b[0m\n",
            "9  \t [0.6951593  1.29812235]\t 66.49520076862784\t 2.2196740444099934\t -426.7896323047123\n",
            "10 \t [0.43706708 0.65811459]\t 22.133916333228616\t 2.2196740444099934\t -203.60937982423997\n",
            "11 \t [0.94119423 2.048     ]\t 135.06351727288353\t 2.2196740444099934\t -250.7381931472541\n",
            "12 \t [-0.946058    1.26217074]\t 17.266686173757495\t 2.2196740444099934\t -190.4524755769373\n",
            "13 \t [-2.048 -2.048]\t 3905.9262268415996\t 2.2196740444099934\t -153.4024584625499\n",
            "14 \t [ 0.83591979 -0.71428183]\t 199.69618189432097\t 2.2196740444099934\t -210.84616733741768\n",
            "15 \t [-0.45090539 -2.048     ]\t 508.9473505298167\t 2.2196740444099934\t -181.03180906281443\n",
            "16 \t [-0.25577396  1.18284956]\t 126.44177961922152\t 2.2196740444099934\t -173.78497152250148\n",
            "17 \t [-1.19728997  2.048     ]\t 42.58870523656654\t 2.2196740444099934\t -167.35060399429466\n",
            "18 \t [1.36937543 1.51088509]\t 13.408177326975192\t 2.2196740444099934\t -95.24941840528626\n",
            "19 \t [ 0.06925558 -0.24686374]\t 7.199564392360708\t 2.2196740444099934\t -522.4864083741808\n",
            "20 \t [ 0.2763566  -0.41960914]\t 25.123484788966948\t 2.2196740444099934\t -301.2332361261003\n"
          ]
        }
      ],
      "source": [
        "### Bayesian optimisation runs (x20): 'STP' Acquisition Function run number = 9 \n",
        "\n",
        "np.random.seed(run_num_9)\n",
        "surrogate_stp_9 = tStudentProcess(cov_func, nu = df, optimize=hyperOpt)\n",
        "\n",
        "stp_9 = GPGO_multi_STP(surrogate_stp_9, Acquisition_new(util_stp), f_syn_polarity, param, n_jobs = -1) # Define BayesOpt\n",
        "stp_9.run(max_iter = max_iter, init_evals = n_init) # run\n"
      ]
    },
    {
      "cell_type": "code",
      "execution_count": 41,
      "metadata": {
        "id": "RqwHOur5JLlC",
        "colab": {
          "base_uri": "https://localhost:8080/"
        },
        "outputId": "fa11279c-0fc8-4224-c93f-0d5866396471"
      },
      "outputs": [
        {
          "output_type": "stream",
          "name": "stdout",
          "text": [
            "Evaluation \t Proposed point \t  Current eval. \t  Best eval. \t Min. ApproxAcqFunc \n",
            "init\t [ 1.11132935 -1.96300002]\t 1022.7666615237944\t 26.382363522743674\t    \n",
            "init\t [0.54742317 1.0191007 ]\t 51.962573317574716\t 26.382363522743674\t    \n",
            "init\t [-0.00611528 -1.12723294]\t 128.08610911295406\t 26.382363522743674\t    \n",
            "init\t [-1.23673451  1.0671338 ]\t 26.382363522743674\t 26.382363522743674\t    \n",
            "init\t [-1.35532201 -1.68616012]\t 1246.7412252563456\t 26.382363522743674\t    \n",
            "1  \t [2.048 2.048]\t 461.7603900415999\t 26.382363522743674\t -361.963616630091\n",
            "2  \t [-2.048  2.048]\t 469.9523900415999\t 26.382363522743674\t -339.9926102039256\n",
            "\u001b[1m\u001b[92m3\u001b[0m\t \u001b[1m\u001b[92m[-0.15547108  0.32546034]\u001b[0m\t \u001b[1m\u001b[92m10.412624578718237\u001b[0m\t \u001b[1m\u001b[92m10.412624578718237\u001b[0m\t \u001b[1m\u001b[92m-310.1603447463577\u001b[0m\n",
            "4  \t [2.048      0.07583489]\t 1697.277086466568\t 10.412624578718237\t -286.04325228285984\n",
            "5  \t [-0.06652599  2.048     ]\t 418.7570666611353\t 10.412624578718237\t -392.6705242512732\n",
            "6  \t [-2.048       0.31514165]\t 1514.0803557792374\t 10.412624578718237\t -349.5712723004582\n",
            "7  \t [-0.14934127  0.66595486]\t 42.74978085685484\t 10.412624578718237\t -360.6624327904009\n",
            "8  \t [-0.13203081  0.63860925]\t 39.86759404451848\t 10.412624578718237\t -330.6336193246521\n",
            "9  \t [-1.06395269  1.6825396 ]\t 34.569800248111264\t 10.412624578718237\t -178.45842113986942\n",
            "10 \t [ 0.31924865 -0.43545707]\t 29.340801798975438\t 10.412624578718237\t -165.76685416607535\n",
            "11 \t [1.06334046 2.048     ]\t 84.14923874268628\t 10.412624578718237\t -137.17624400346466\n",
            "12 \t [ 2.048 -2.048]\t 3897.7342268415996\t 10.412624578718237\t -84.67684583113298\n",
            "13 \t [ 0.21679397 -2.048     ]\t 439.51575435684873\t 10.412624578718237\t -458.4488559409716\n",
            "14 \t [-2.048 -2.048]\t 3905.9262268415996\t 10.412624578718237\t -156.85103657976262\n",
            "15 \t [-0.91049613 -0.77977051]\t 262.46527815251534\t 10.412624578718237\t -375.2261861345748\n",
            "16 \t [1.51632777 1.27707616]\t 104.75050880878568\t 10.412624578718237\t -212.27091165730667\n",
            "17 \t [ 0.8263176  -1.05718055]\t 302.7836683552292\t 10.412624578718237\t -160.94410265163887\n",
            "18 \t [-0.64304694 -2.048     ]\t 608.6024402480936\t 10.412624578718237\t -108.45460058764239\n",
            "19 \t [0.93490378 0.4179154 ]\t 20.80966611613747\t 10.412624578718237\t -140.1143594203853\n",
            "20 \t [-0.86311673  1.13639037]\t 18.7921570781629\t 10.412624578718237\t -127.02812251708986\n"
          ]
        }
      ],
      "source": [
        "### Bayesian optimisation runs (x20): 'STP' Acquisition Function run number = 10 \n",
        "\n",
        "np.random.seed(run_num_10)\n",
        "surrogate_stp_10 = tStudentProcess(cov_func, nu = df, optimize=hyperOpt)\n",
        "\n",
        "stp_10 = GPGO_multi_STP(surrogate_stp_10, Acquisition_new(util_stp), f_syn_polarity, param, n_jobs = -1) # Define BayesOpt\n",
        "stp_10.run(max_iter = max_iter, init_evals = n_init) # run\n"
      ]
    },
    {
      "cell_type": "code",
      "execution_count": 42,
      "metadata": {
        "id": "iXLW3-5DJLlD",
        "colab": {
          "base_uri": "https://localhost:8080/"
        },
        "outputId": "b9d253ce-8591-4bcd-c5fa-a51647a6b38f"
      },
      "outputs": [
        {
          "output_type": "stream",
          "name": "stdout",
          "text": [
            "Evaluation \t Proposed point \t  Current eval. \t  Best eval. \t Min. ApproxAcqFunc \n",
            "init\t [-1.30961535 -1.96822941]\t 1362.0202619238294\t 4.533376036769996\t    \n",
            "init\t [-0.15065692  0.92132937]\t 82.0779347186456\t 4.533376036769996\t    \n",
            "init\t [-0.32684604 -0.05969061]\t 4.533376036769996\t 4.533376036769996\t    \n",
            "init\t [-1.99564978 -0.0517259 ]\t 1636.5670319859503\t 4.533376036769996\t    \n",
            "init\t [1.80964005 1.43685669]\t 338.45801473698816\t 4.533376036769996\t    \n",
            "1  \t [ 2.048      -1.71297203]\t 3490.6893174190636\t 4.533376036769996\t -474.30229125468526\n",
            "2  \t [-2.048  2.048]\t 469.9523900415999\t 4.533376036769996\t -805.4170956490351\n",
            "3  \t [0.18355057 2.048     ]\t 406.41074004113585\t 4.533376036769996\t -741.0385372597832\n",
            "\u001b[1m\u001b[92m4\u001b[0m\t \u001b[1m\u001b[92m[0.65107255 0.30866597]\u001b[0m\t \u001b[1m\u001b[92m1.4495338242890223\u001b[0m\t \u001b[1m\u001b[92m1.4495338242890223\u001b[0m\t \u001b[1m\u001b[92m-653.0574223464151\u001b[0m\n",
            "5  \t [2.048 2.048]\t 461.7603900415999\t 1.4495338242890223\t -582.9539457414033\n",
            "\u001b[1m\u001b[92m6\u001b[0m\t \u001b[1m\u001b[92m[0.36114396 0.22509441]\u001b[0m\t \u001b[1m\u001b[92m1.3043674820385176\u001b[0m\t \u001b[1m\u001b[92m1.3043674820385176\u001b[0m\t \u001b[1m\u001b[92m-555.8540351143375\u001b[0m\n",
            "7  \t [2.048      0.35285903]\t 1476.7682468244298\t 1.3043674820385176\t -349.32542528478234\n",
            "8  \t [0.83131358 1.19974614]\t 25.902348794933108\t 1.3043674820385176\t -335.3868730747771\n",
            "9  \t [ 0.0467057  -1.23287489]\t 153.44518036060407\t 1.3043674820385176\t -297.7025720404847\n",
            "10 \t [-0.98235699  2.048     ]\t 121.21317007389793\t 1.3043674820385176\t -249.04785209540682\n",
            "11 \t [ 0.10504445 -2.048     ]\t 424.76318504278305\t 1.3043674820385176\t -202.0953834780878\n",
            "12 \t [-1.19013344  1.17860026]\t 10.45239298732946\t 1.3043674820385176\t -171.41051817905333\n",
            "13 \t [1.22381023 2.048     ]\t 30.331837909830327\t 1.3043674820385176\t -112.43142790677422\n",
            "14 \t [ 0.23947924 -0.45742112]\t 27.077354231774542\t 1.3043674820385176\t -122.91357172873563\n",
            "15 \t [-0.74796904  0.73504136]\t 6.138358528663707\t 1.3043674820385176\t -108.68681606869282\n",
            "16 \t [-0.85345006  1.35178582]\t 42.29913226826077\t 1.3043674820385176\t -107.34979268732727\n",
            "17 \t [0.01936611 0.13546372]\t 2.7865376907487636\t 1.3043674820385176\t -64.6125628184325\n",
            "18 \t [-0.21315895 -0.6816939 ]\t 54.34365040054312\t 1.3043674820385176\t -60.91360612456397\n",
            "19 \t [-0.01673206  0.56975582]\t 33.46401926406351\t 1.3043674820385176\t -398.7004529142521\n",
            "20 \t [-2.048 -2.048]\t 3905.9262268415996\t 1.3043674820385176\t -52.483216572409646\n"
          ]
        }
      ],
      "source": [
        "### Bayesian optimisation runs (x20): 'STP' Acquisition Function run number = 11 \n",
        "\n",
        "np.random.seed(run_num_11)\n",
        "surrogate_stp_11 = tStudentProcess(cov_func, nu = df, optimize=hyperOpt)\n",
        "\n",
        "stp_11 = GPGO_multi_STP(surrogate_stp_11, Acquisition_new(util_stp), f_syn_polarity, param, n_jobs = -1) # Define BayesOpt\n",
        "stp_11.run(max_iter = max_iter, init_evals = n_init) # run\n"
      ]
    },
    {
      "cell_type": "code",
      "execution_count": 43,
      "metadata": {
        "id": "Sv5SygMbJLlD",
        "colab": {
          "base_uri": "https://localhost:8080/"
        },
        "outputId": "61b2d0cf-4e8c-426d-cec6-6a0ccbcf713d"
      },
      "outputs": [
        {
          "output_type": "stream",
          "name": "stdout",
          "text": [
            "Evaluation \t Proposed point \t  Current eval. \t  Best eval. \t Min. ApproxAcqFunc \n",
            "init\t [-1.416549    0.98324356]\t 110.56781423235984\t 68.14456326432247\t    \n",
            "init\t [-0.9694617   0.13819656]\t 68.14456326432247\t 68.14456326432247\t    \n",
            "init\t [-1.98830095  1.71518775]\t 509.86279959563035\t 68.14456326432247\t    \n",
            "init\t [ 1.64132804 -1.91110583]\t 2121.0723550229873\t 68.14456326432247\t    \n",
            "init\t [ 1.87166448 -1.48599062]\t 2489.890190157968\t 68.14456326432247\t    \n",
            "1  \t [0.75028391 2.048     ]\t 220.6068518445957\t 68.14456326432247\t -580.1957858260378\n",
            "2  \t [-2.048 -2.048]\t 3905.9262268415996\t 68.14456326432247\t -531.604759108766\n",
            "3  \t [2.048      1.18854622]\t 904.5562870738627\t 68.14456326432247\t -801.074099981459\n",
            "\u001b[1m\u001b[92m4\u001b[0m\t \u001b[1m\u001b[92m[0.02545647 0.64722587]\u001b[0m\t \u001b[1m\u001b[92m42.756024770567116\u001b[0m\t \u001b[1m\u001b[92m42.756024770567116\u001b[0m\t \u001b[1m\u001b[92m-809.8183321910017\u001b[0m\n",
            "5  \t [-0.54380921  2.048     ]\t 309.4289024361111\t 42.756024770567116\t -602.0668764900095\n",
            "6  \t [ 0.03945065 -0.87607455]\t 77.94625545186734\t 42.756024770567116\t -446.9100368364479\n",
            "7  \t [-2.048       0.27736712]\t 1543.5297535322509\t 42.756024770567116\t -417.5611116294931\n",
            "8  \t [ 0.00833136 -2.048     ]\t 420.44223812705184\t 42.756024770567116\t -410.760893036977\n",
            "\u001b[1m\u001b[92m9\u001b[0m\t \u001b[1m\u001b[92m[-0.69073337  0.86419099]\u001b[0m\t \u001b[1m\u001b[92m17.841547485208316\u001b[0m\t \u001b[1m\u001b[92m17.841547485208316\u001b[0m\t \u001b[1m\u001b[92m-347.95965277447004\u001b[0m\n",
            "\u001b[1m\u001b[92m10\u001b[0m\t \u001b[1m\u001b[92m[-0.15442313 -0.09875744]\u001b[0m\t \u001b[1m\u001b[92m2.83586537745706\u001b[0m\t \u001b[1m\u001b[92m2.83586537745706\u001b[0m\t \u001b[1m\u001b[92m-335.9394751854743\u001b[0m\n",
            "11 \t [1.0495024  0.27242136]\t 68.73217555198109\t 2.83586537745706\t -282.33096222932625\n",
            "12 \t [0.86474701 1.03299787]\t 8.152794890144964\t 2.83586537745706\t -226.55201442927546\n",
            "13 \t [2.048 2.048]\t 461.7603900415999\t 2.83586537745706\t -190.94173020010484\n",
            "14 \t [-0.59771786 -0.87214786]\t 153.6987022063266\t 2.83586537745706\t -160.92238647515484\n",
            "15 \t [-1.34503381  2.048     ]\t 11.205742185252667\t 2.83586537745706\t -129.41013394162684\n",
            "\u001b[1m\u001b[92m16\u001b[0m\t \u001b[1m\u001b[92m[0.63939814 0.50200911]\u001b[0m\t \u001b[1m\u001b[92m0.9982687174736645\u001b[0m\t \u001b[1m\u001b[92m0.9982687174736645\u001b[0m\t \u001b[1m\u001b[92m-126.81183292082818\u001b[0m\n",
            "17 \t [-1.1762629   1.51895198]\t 6.5682877284569665\t 0.9982687174736645\t -103.3192112487172\n",
            "18 \t [2.048      0.06679697]\t 1704.7297322913819\t 0.9982687174736645\t -93.04710887346484\n",
            "19 \t [-0.04092547  0.05498613]\t 1.3677346513236546\t 0.9982687174736645\t -365.87185085613265\n",
            "20 \t [ 0.68788478 -0.31557283]\t 62.31138296926429\t 0.9982687174736645\t -81.85989719608281\n"
          ]
        }
      ],
      "source": [
        "### Bayesian optimisation runs (x20): 'STP' Acquisition Function run number = 12\n",
        "\n",
        "np.random.seed(run_num_12)\n",
        "surrogate_stp_12 = tStudentProcess(cov_func, nu = df, optimize=hyperOpt)\n",
        "\n",
        "stp_12 = GPGO_multi_STP(surrogate_stp_12, Acquisition_new(util_stp), f_syn_polarity, param, n_jobs = -1) # Define BayesOpt\n",
        "stp_12.run(max_iter = max_iter, init_evals = n_init) # run\n"
      ]
    },
    {
      "cell_type": "code",
      "execution_count": 44,
      "metadata": {
        "id": "NSskozWHJLlE",
        "colab": {
          "base_uri": "https://localhost:8080/"
        },
        "outputId": "925efc25-a4a3-4e89-9138-28f4e41f35eb"
      },
      "outputs": [
        {
          "output_type": "stream",
          "name": "stdout",
          "text": [
            "Evaluation \t Proposed point \t  Current eval. \t  Best eval. \t Min. ApproxAcqFunc \n",
            "init\t [ 1.13746907 -1.07503116]\t 561.1720108286133\t 2.166231627813885\t    \n",
            "init\t [1.32824487 1.90770872]\t 2.166231627813885\t 2.166231627813885\t    \n",
            "init\t [ 1.93577416 -0.19067188]\t 1551.5761879230556\t 2.166231627813885\t    \n",
            "init\t [0.44663793 1.1285566 ]\t 86.6235326520391\t 2.166231627813885\t    \n",
            "init\t [0.58004826 0.90938667]\t 33.00131633274188\t 2.166231627813885\t    \n",
            "1  \t [-1.63142119  1.08828838]\t 254.43490479703547\t 2.166231627813885\t -354.1706558284024\n",
            "2  \t [-2.048 -2.048]\t 3905.9262268415996\t 2.166231627813885\t -331.030881199792\n",
            "3  \t [-0.36081267  2.048     ]\t 369.65294937885864\t 2.166231627813885\t -779.7504207379098\n",
            "4  \t [-0.30210147 -0.18617878]\t 9.39298985568273\t 2.166231627813885\t -658.2898358187396\n",
            "5  \t [ 2.048 -2.048]\t 3897.7342268415996\t 2.166231627813885\t -563.6858781748913\n",
            "6  \t [2.048 2.048]\t 461.7603900415999\t 2.166231627813885\t -861.6455755967971\n",
            "7  \t [-2.048  2.048]\t 469.9523900415999\t 2.166231627813885\t -816.9981911251025\n",
            "8  \t [ 0.16090743 -1.28618992]\t 172.85976206671148\t 2.166231627813885\t -727.4741670158394\n",
            "9  \t [ 0.51783619 -0.41576541]\t 47.00710187521892\t 2.166231627813885\t -562.7255700249434\n",
            "10 \t [-0.47371651  0.33240177]\t 3.338120236918935\t 2.166231627813885\t -688.0237521018988\n",
            "11 \t [-2.048       0.06557013]\t 1713.9346407491698\t 2.166231627813885\t -513.705028321872\n",
            "12 \t [1.56856824 1.2082403 ]\t 157.11524484413192\t 2.166231627813885\t -269.7688895760002\n",
            "13 \t [ 0.37929534 -2.048     ]\t 480.8124709278223\t 2.166231627813885\t -231.474608185303\n",
            "14 \t [-1.11132831  1.59883226]\t 17.69141636438613\t 2.166231627813885\t -206.48686221180918\n",
            "15 \t [1.04411497 1.41105629]\t 10.298358300943931\t 2.166231627813885\t -139.30720744591645\n",
            "16 \t [0.02716605 0.24904244]\t 7.111915433736679\t 2.166231627813885\t -143.38873902000597\n",
            "17 \t [-0.48191142 -2.048     ]\t 522.144874870754\t 2.166231627813885\t -117.05610064898056\n",
            "18 \t [0.79793951 2.048     ]\t 199.21549032353323\t 2.166231627813885\t -126.60085172629302\n",
            "19 \t [-0.76290138  1.13081545]\t 33.22562908967201\t 2.166231627813885\t -116.67763561250689\n",
            "20 \t [ 0.12402208 -0.11868062]\t 2.5646018053110655\t 2.166231627813885\t -482.08709274487995\n"
          ]
        }
      ],
      "source": [
        "### Bayesian optimisation runs (x20): 'STP' Acquisition Function run number = 13 \n",
        "\n",
        "np.random.seed(run_num_13)\n",
        "surrogate_stp_13 = tStudentProcess(cov_func, nu = df, optimize=hyperOpt)\n",
        "\n",
        "stp_13 = GPGO_multi_STP(surrogate_stp_13, Acquisition_new(util_stp), f_syn_polarity, param, n_jobs = -1) # Define BayesOpt\n",
        "stp_13.run(max_iter = max_iter, init_evals = n_init) # run\n"
      ]
    },
    {
      "cell_type": "code",
      "execution_count": 45,
      "metadata": {
        "id": "aM5FQ3ibJLlE",
        "colab": {
          "base_uri": "https://localhost:8080/"
        },
        "outputId": "fa565ca0-3435-4860-fdfe-649469e0fbf1"
      },
      "outputs": [
        {
          "output_type": "stream",
          "name": "stdout",
          "text": [
            "Evaluation \t Proposed point \t  Current eval. \t  Best eval. \t Min. ApproxAcqFunc \n",
            "init\t [0.05711194 1.11888405]\t 125.35034508047823\t 56.7252447162893\t    \n",
            "init\t [ 1.5172718 -2.0150397]\t 1864.0489319378007\t 56.7252447162893\t    \n",
            "init\t [-0.77932165  1.87434492]\t 163.6955655658878\t 56.7252447162893\t    \n",
            "init\t [ 0.05372605 -0.744307  ]\t 56.7252447162893\t 56.7252447162893\t    \n",
            "init\t [ 0.16056294 -1.14173976]\t 137.01499974575526\t 56.7252447162893\t    \n",
            "1  \t [-1.84887094 -1.19746047]\t 2138.6624587116808\t 56.7252447162893\t -424.7395240385288\n",
            "2  \t [2.048 2.048]\t 461.7603900415999\t 56.7252447162893\t -591.6927886267256\n",
            "3  \t [-2.048  2.048]\t 469.9523900415999\t 56.7252447162893\t -537.6113792233316\n",
            "4  \t [2.048      0.29150714]\t 1524.2806377428578\t 56.7252447162893\t -493.15716241582663\n",
            "5  \t [0.35452623 2.048     ]\t 369.94465171086233\t 56.7252447162893\t -476.60652492257464\n",
            "\u001b[1m\u001b[92m6\u001b[0m\t \u001b[1m\u001b[92m[-0.31940426  0.33164415]\u001b[0m\t \u001b[1m\u001b[92m7.0135946451806594\u001b[0m\t \u001b[1m\u001b[92m7.0135946451806594\u001b[0m\t \u001b[1m\u001b[92m-448.02402052095437\u001b[0m\n",
            "7  \t [-2.048       0.77720384]\t 1176.947651884219\t 7.0135946451806594\t -266.4289335496817\n",
            "8  \t [-0.40482098 -2.048     ]\t 491.21484627734776\t 7.0135946451806594\t -234.6868058576356\n",
            "\u001b[1m\u001b[92m9\u001b[0m\t \u001b[1m\u001b[92m[0.07688327 0.08155625]\u001b[0m\t \u001b[1m\u001b[92m1.4243643509516324\u001b[0m\t \u001b[1m\u001b[92m1.4243643509516324\u001b[0m\t \u001b[1m\u001b[92m-392.32111089013887\u001b[0m\n",
            "10 \t [-0.6476939   1.07288069]\t 45.4045621701954\t 1.4243643509516324\t -73.33312884471955\n",
            "11 \t [ 0.78530565 -0.63806239]\t 157.4902041349153\t 1.4243643509516324\t -64.58561717406998\n",
            "\u001b[1m\u001b[92m12\u001b[0m\t \u001b[1m\u001b[92m[1.15683431 1.42005174]\u001b[0m\t \u001b[1m\u001b[92m0.6934937539377941\u001b[0m\t \u001b[1m\u001b[92m0.6934937539377941\u001b[0m\t \u001b[1m\u001b[92m-55.91998777895327\u001b[0m\n",
            "13 \t [1.24051574 2.048     ]\t 25.97823680066406\t 0.6934937539377941\t -98.03264788264579\n",
            "\u001b[1m\u001b[92m14\u001b[0m\t \u001b[1m\u001b[92m[0.76803156 0.66673582]\u001b[0m\t \u001b[1m\u001b[92m0.6446066379880595\u001b[0m\t \u001b[1m\u001b[92m0.6446066379880595\u001b[0m\t \u001b[1m\u001b[92m-54.94370003455713\u001b[0m\n",
            "15 \t [0.82813997 1.23508237]\t 30.19891135536459\t 0.6446066379880595\t -47.73106841698615\n",
            "16 \t [-2.048 -2.048]\t 3905.9262268415996\t 0.6446066379880595\t -43.61812629869773\n",
            "17 \t [-1.13494836 -0.16462747]\t 215.6019767332308\t 0.6446066379880595\t -105.13892909475692\n",
            "18 \t [-0.03675518 -0.02404856]\t 1.139374792794565\t 0.6446066379880595\t -401.8180425314366\n",
            "19 \t [ 0.2374913 -2.048    ]\t 443.43224686465\t 0.6446066379880595\t -73.73552360104955\n",
            "20 \t [ 2.048      -0.91429283]\t 2610.8744629133816\t 0.6446066379880595\t -456.57266721532415\n"
          ]
        }
      ],
      "source": [
        "### Bayesian optimisation runs (x20): 'STP' Acquisition Function run number = 14 \n",
        "\n",
        "np.random.seed(run_num_14)\n",
        "surrogate_stp_14 = tStudentProcess(cov_func, nu = df, optimize=hyperOpt)\n",
        "\n",
        "stp_14 = GPGO_multi_STP(surrogate_stp_14, Acquisition_new(util_stp), f_syn_polarity, param, n_jobs = -1) # Define BayesOpt\n",
        "stp_14.run(max_iter = max_iter, init_evals = n_init) # run\n"
      ]
    },
    {
      "cell_type": "code",
      "execution_count": 46,
      "metadata": {
        "id": "XmPTh2j_JLlF",
        "colab": {
          "base_uri": "https://localhost:8080/"
        },
        "outputId": "04203258-b69c-486d-bba9-27b577bd9163"
      },
      "outputs": [
        {
          "output_type": "stream",
          "name": "stdout",
          "text": [
            "Evaluation \t Proposed point \t  Current eval. \t  Best eval. \t Min. ApproxAcqFunc \n",
            "init\t [ 1.42875729 -1.31524229]\t 1126.8532605124637\t 56.02298763074632\t    \n",
            "init\t [-1.82532827 -0.56713852]\t 1528.1728177033635\t 56.02298763074632\t    \n",
            "init\t [-0.9199578   0.12288092]\t 56.02298763074632\t 56.02298763074632\t    \n",
            "init\t [-0.79495612 -0.80087302]\t 208.52154958515655\t 56.02298763074632\t    \n",
            "init\t [-1.59030773 -1.02441364]\t 1269.4404638957562\t 56.02298763074632\t    \n",
            "1  \t [-0.00904992  0.95033746]\t 91.3167453497559\t 56.02298763074632\t -472.0279261047638\n",
            "2  \t [2.048 2.048]\t 461.7603900415999\t 56.02298763074632\t -429.26382263115715\n",
            "3  \t [-1.91122055  2.048     ]\t 266.0019471786745\t 56.02298763074632\t -403.2044025426797\n",
            "\u001b[1m\u001b[92m4\u001b[0m\t \u001b[1m\u001b[92m[-0.06616243 -0.21341511]\u001b[0m\t \u001b[1m\u001b[92m5.88006304259912\u001b[0m\t \u001b[1m\u001b[92m5.88006304259912\u001b[0m\t \u001b[1m\u001b[92m-370.53584746777454\u001b[0m\n",
            "5  \t [-0.37249093 -2.048     ]\t 480.0710673154678\t 5.88006304259912\t -331.18692525868653\n",
            "6  \t [-0.37344043  2.048     ]\t 366.1396875187654\t 5.88006304259912\t -270.0043435681767\n",
            "7  \t [2.048      0.50186216]\t 1364.5109781168792\t 5.88006304259912\t -224.4114270714447\n",
            "\u001b[1m\u001b[92m8\u001b[0m\t \u001b[1m\u001b[92m[-0.46231609  0.26950802]\u001b[0m\t \u001b[1m\u001b[92m2.4494183237930187\u001b[0m\t \u001b[1m\u001b[92m2.4494183237930187\u001b[0m\t \u001b[1m\u001b[92m-168.16081112535113\u001b[0m\n",
            "9  \t [0.8081023 2.048    ]\t 194.63114072883286\t 2.4494183237930187\t -174.44348700501632\n",
            "10 \t [-1.28413812  1.08720036]\t 36.78037353922866\t 2.4494183237930187\t -144.6307160222597\n",
            "11 \t [-2.048       1.15340315]\t 933.998102979407\t 2.4494183237930187\t -110.92144961805104\n",
            "12 \t [-0.72810065  0.93845388]\t 19.659126008274264\t 2.4494183237930187\t -169.4253267047148\n",
            "13 \t [-0.35379584 -0.34669005]\t 24.098095071801957\t 2.4494183237930187\t -112.73659779229425\n",
            "14 \t [ 2.048 -2.048]\t 3897.7342268415996\t 2.4494183237930187\t -103.60515356224046\n",
            "15 \t [ 0.43735315 -1.08468972]\t 163.1258758602679\t 2.4494183237930187\t -292.5255959618033\n",
            "16 \t [ 1.0281956  -0.37430098]\t 204.91634386765705\t 2.4494183237930187\t -268.78560426978146\n",
            "17 \t [0.93013218 1.07184626]\t 4.2773868060273035\t 2.4494183237930187\t -152.009660104123\n",
            "18 \t [-1.2379904  2.048    ]\t 31.570230836233566\t 2.4494183237930187\t -159.42881926057476\n",
            "19 \t [-2.048 -2.048]\t 3905.9262268415996\t 2.4494183237930187\t -170.43666800942782\n",
            "\u001b[1m\u001b[92m20\u001b[0m\t \u001b[1m\u001b[92m[0.18406612 0.15782738]\u001b[0m\t \u001b[1m\u001b[92m2.202035031769589\u001b[0m\t \u001b[1m\u001b[92m2.202035031769589\u001b[0m\t \u001b[1m\u001b[92m-492.4567632549474\u001b[0m\n"
          ]
        }
      ],
      "source": [
        "### Bayesian optimisation runs (x20): 'STP' Acquisition Function run number = 15 \n",
        "\n",
        "np.random.seed(run_num_15)\n",
        "surrogate_stp_15 = tStudentProcess(cov_func, nu = df, optimize=hyperOpt)\n",
        "\n",
        "stp_15 = GPGO_multi_STP(surrogate_stp_15, Acquisition_new(util_stp), f_syn_polarity, param, n_jobs = -1) # Define BayesOpt\n",
        "stp_15.run(max_iter = max_iter, init_evals = n_init) # run\n"
      ]
    },
    {
      "cell_type": "code",
      "execution_count": 47,
      "metadata": {
        "id": "6aUP_b73JLlG",
        "colab": {
          "base_uri": "https://localhost:8080/"
        },
        "outputId": "1bd0627d-1957-41a9-a16b-5d2d4708357a"
      },
      "outputs": [
        {
          "output_type": "stream",
          "name": "stdout",
          "text": [
            "Evaluation \t Proposed point \t  Current eval. \t  Best eval. \t Min. ApproxAcqFunc \n",
            "init\t [-1.13339974  0.09487705]\t 146.09426826423262\t 146.09426826423262\t    \n",
            "init\t [ 0.20767317 -1.86121441]\t 363.27983894611043\t 146.09426826423262\t    \n",
            "init\t [-0.57045469 -1.13426046]\t 215.5326110993483\t 146.09426826423262\t    \n",
            "init\t [ 0.77302236 -1.37735608]\t 390.08228141599125\t 146.09426826423262\t    \n",
            "init\t [-1.75994935  1.80638048]\t 174.29606237276562\t 146.09426826423262\t    \n",
            "1  \t [2.048 2.048]\t 461.7603900415999\t 146.09426826423262\t -100.85835945019251\n",
            "2  \t [-2.048 -2.048]\t 3905.9262268415996\t 146.09426826423262\t -121.68604523013154\n",
            "\u001b[1m\u001b[92m3\u001b[0m\t \u001b[1m\u001b[92m[0.30520753 0.83452271]\u001b[0m\t \u001b[1m\u001b[92m55.44584325109453\u001b[0m\t \u001b[1m\u001b[92m55.44584325109453\u001b[0m\t \u001b[1m\u001b[92m-745.1351965291866\u001b[0m\n",
            "4  \t [ 2.048      -0.08790795]\t 1834.8322210616361\t 55.44584325109453\t -693.604302812246\n",
            "5  \t [-0.15254475  2.048     ]\t 411.2815563236192\t 55.44584325109453\t -720.5865554926048\n",
            "6  \t [-2.048       0.74855331]\t 1196.6100867879927\t 55.44584325109453\t -633.1571384737664\n",
            "7  \t [ 2.048 -2.048]\t 3897.7342268415996\t 55.44584325109453\t -622.4909694190958\n",
            "\u001b[1m\u001b[92m8\u001b[0m\t \u001b[1m\u001b[92m[-0.05481145 -0.20168949]\u001b[0m\t \u001b[1m\u001b[92m5.3025819259981875\u001b[0m\t \u001b[1m\u001b[92m5.3025819259981875\u001b[0m\t \u001b[1m\u001b[92m-803.5061539954255\u001b[0m\n",
            "\u001b[1m\u001b[92m9\u001b[0m\t \u001b[1m\u001b[92m[-0.10595866 -0.18714106]\u001b[0m\t \u001b[1m\u001b[92m5.158142826475587\u001b[0m\t \u001b[1m\u001b[92m5.158142826475587\u001b[0m\t \u001b[1m\u001b[92m-718.0377361740995\u001b[0m\n",
            "10 \t [-0.74476592  1.1407588 ]\t 37.393481440860555\t 5.158142826475587\t -419.11049580503163\n",
            "11 \t [1.01339379 2.048     ]\t 104.25102315548247\t 5.158142826475587\t -340.96092516600993\n",
            "12 \t [ 0.14872093 -1.01537877]\t 108.36461274592634\t 5.158142826475587\t -338.5557088805299\n",
            "13 \t [-1.18641819  2.048     ]\t 45.7931608957369\t 5.158142826475587\t -265.8185279025959\n",
            "14 \t [1.34881816 1.14498578]\t 45.593046966440085\t 5.158142826475587\t -232.95260327903225\n",
            "15 \t [0.86162091 0.27967725]\t 21.429512379098387\t 5.158142826475587\t -190.0113232810376\n",
            "16 \t [-2.048  2.048]\t 469.9523900415999\t 5.158142826475587\t -152.04986111240635\n",
            "17 \t [-0.90272476 -0.51549219]\t 180.61788849896587\t 5.158142826475587\t -156.03240299740546\n",
            "18 \t [0.91225357 1.33995058]\t 25.788097014013\t 5.158142826475587\t -129.213900209868\n",
            "\u001b[1m\u001b[92m19\u001b[0m\t \u001b[1m\u001b[92m[-1.22303924  1.45474594]\u001b[0m\t \u001b[1m\u001b[92m5.110652244674954\u001b[0m\t \u001b[1m\u001b[92m5.110652244674954\u001b[0m\t \u001b[1m\u001b[92m-103.0462443192111\u001b[0m\n",
            "20 \t [-0.12068175  0.53722498]\t 28.57336904724107\t 5.110652244674954\t -513.9212370200408\n"
          ]
        }
      ],
      "source": [
        "### Bayesian optimisation runs (x20): 'STP' Acquisition Function run number = 16 \n",
        "\n",
        "np.random.seed(run_num_16)\n",
        "surrogate_stp_16 = tStudentProcess(cov_func, nu = df, optimize=hyperOpt)\n",
        "\n",
        "stp_16 = GPGO_multi_STP(surrogate_stp_16, Acquisition_new(util_stp), f_syn_polarity, param, n_jobs = -1) # Define BayesOpt\n",
        "stp_16.run(max_iter = max_iter, init_evals = n_init) # run\n"
      ]
    },
    {
      "cell_type": "code",
      "execution_count": 48,
      "metadata": {
        "id": "TV8_B_7cJLlH",
        "colab": {
          "base_uri": "https://localhost:8080/"
        },
        "outputId": "d4b1005f-584f-472e-98e7-c191de0a53b8"
      },
      "outputs": [
        {
          "output_type": "stream",
          "name": "stdout",
          "text": [
            "Evaluation \t Proposed point \t  Current eval. \t  Best eval. \t Min. ApproxAcqFunc \n",
            "init\t [-0.84105215  0.12528335]\t 37.27181038922863\t 0.19652774971866602\t    \n",
            "init\t [-1.26353086 -1.76988013]\t 1138.381976578598\t 0.19652774971866602\t    \n",
            "init\t [1.17549244 0.64034211]\t 55.004181467935105\t 0.19652774971866602\t    \n",
            "init\t [0.56328559 0.30966945]\t 0.19652774971866602\t 0.19652774971866602\t    \n",
            "init\t [-1.8879983  -0.58239548]\t 1728.0458971940702\t 0.19652774971866602\t    \n",
            "1  \t [-0.54718569  1.82380056]\t 234.76977582792537\t 0.19652774971866602\t -445.0256882686798\n",
            "2  \t [ 2.048 -2.048]\t 3897.7342268415996\t 0.19652774971866602\t -408.0650162789611\n",
            "3  \t [2.048 2.048]\t 461.7603900415999\t 0.19652774971866602\t -839.4345365605502\n",
            "4  \t [-2.048  2.048]\t 469.9523900415999\t 0.19652774971866602\t -770.6919377191913\n",
            "5  \t [0.01516781 0.83704506]\t 70.99582817890004\t 0.19652774971866602\t -667.4708244772374\n",
            "6  \t [2.048      0.25834307]\t 1550.2771449168786\t 0.19652774971866602\t -442.08141614189583\n",
            "7  \t [0.58436609 2.048     ]\t 291.39253207015196\t 0.19652774971866602\t -644.9134586938854\n",
            "8  \t [0.0548389  0.07483696]\t 1.4092795100424251\t 0.19652774971866602\t -590.7894813715978\n",
            "9  \t [-1.45243158  1.00684824]\t 127.6111931577077\t 0.19652774971866602\t -353.87172881145796\n",
            "10 \t [-0.01458378 -2.048     ]\t 420.5469012546433\t 0.19652774971866602\t -329.03216099380006\n",
            "11 \t [-0.11086149 -0.97392427]\t 98.49592594620671\t 0.19652774971866602\t -215.68396352864409\n",
            "12 \t [0.91625902 1.15560472]\t 9.997297784508413\t 0.19652774971866602\t -212.77102791835893\n",
            "13 \t [-0.79848626  0.77201652]\t 5.041862407426873\t 0.19652774971866602\t -157.61461089269503\n",
            "14 \t [-2.048 -2.048]\t 3905.9262268415996\t 0.19652774971866602\t -100.20102803967102\n",
            "15 \t [-0.59285321 -1.29278697]\t 272.896899849071\t 0.19652774971866602\t -285.447624656474\n",
            "16 \t [-2.048      0.6311764]\t 1278.8781361795068\t 0.19652774971866602\t -198.4975357463911\n",
            "17 \t [-1.27865067  2.048     ]\t 22.253483432390475\t 0.19652774971866602\t -190.14007575961702\n",
            "18 \t [-1.18316196  1.48887067]\t 5.558268521974691\t 0.19652774971866602\t -159.64871666079026\n",
            "19 \t [ 0.8174438  -0.65273835]\t 174.52493354372277\t 0.19652774971866602\t -146.31859143636393\n",
            "20 \t [0.01373125 0.09952612]\t 1.9595213457326652\t 0.19652774971866602\t -555.2598096630257\n"
          ]
        }
      ],
      "source": [
        "### Bayesian optimisation runs (x20): 'STP' Acquisition Function run number = 17 \n",
        "\n",
        "np.random.seed(run_num_17)\n",
        "surrogate_stp_17 = tStudentProcess(cov_func, nu = df, optimize=hyperOpt)\n",
        "\n",
        "stp_17 = GPGO_multi_STP(surrogate_stp_17, Acquisition_new(util_stp), f_syn_polarity, param, n_jobs = -1) # Define BayesOpt\n",
        "stp_17.run(max_iter = max_iter, init_evals = n_init) # run\n"
      ]
    },
    {
      "cell_type": "code",
      "execution_count": 49,
      "metadata": {
        "id": "57ABzGR1JLlI",
        "colab": {
          "base_uri": "https://localhost:8080/"
        },
        "outputId": "ca0d4657-0c65-43b4-f59d-a121e5526a00"
      },
      "outputs": [
        {
          "output_type": "stream",
          "name": "stdout",
          "text": [
            "Evaluation \t Proposed point \t  Current eval. \t  Best eval. \t Min. ApproxAcqFunc \n",
            "init\t [0.61593289 0.02233702]\t 12.895000300241685\t 12.895000300241685\t    \n",
            "init\t [ 1.55075162 -1.30318244]\t 1375.2393970855524\t 12.895000300241685\t    \n",
            "init\t [1.44274665 1.02455823]\t 111.91239818238155\t 12.895000300241685\t    \n",
            "init\t [0.68035243 1.99841976]\t 235.89058418537797\t 12.895000300241685\t    \n",
            "init\t [-0.99545734 -1.93205893]\t 858.3713873043706\t 12.895000300241685\t    \n",
            "1  \t [-2.048       1.41417117]\t 782.2041592558611\t 12.895000300241685\t -368.10266947817917\n",
            "2  \t [2.048 2.048]\t 461.7603900415999\t 12.895000300241685\t -335.2149913713999\n",
            "3  \t [-0.134573    0.56844016]\t 31.57359597436772\t 12.895000300241685\t -320.65370651076773\n",
            "4  \t [0.17416957 0.68782047]\t 43.910705288480685\t 12.895000300241685\t -274.0363170099598\n",
            "5  \t [-2.048     -0.4635545]\t 2178.8548810099155\t 12.895000300241685\t -214.12794831859375\n",
            "6  \t [-0.44958007  2.048     ]\t 342.82775392248163\t 12.895000300241685\t -382.08641387115847\n",
            "7  \t [2.048      0.31838296]\t 1503.3746970924126\t 12.895000300241685\t -219.52313976248485\n",
            "8  \t [-0.02499829 -0.58396723]\t 35.22541954461439\t 12.895000300241685\t -239.6608927989905\n",
            "9  \t [ 0.31623843 -2.048     ]\t 461.8608279813695\t 12.895000300241685\t -211.1269012718751\n",
            "\u001b[1m\u001b[92m10\u001b[0m\t \u001b[1m\u001b[92m[0.13908785 0.03395456]\u001b[0m\t \u001b[1m\u001b[92m0.7625124067787843\u001b[0m\t \u001b[1m\u001b[92m0.7625124067787843\u001b[0m\t \u001b[1m\u001b[92m-167.185906101459\u001b[0m\n",
            "11 \t [0.85753445 1.08377062]\t 12.158920312727043\t 0.7625124067787843\t -161.55075910995058\n",
            "12 \t [-2.048 -2.048]\t 3905.9262268415996\t 0.7625124067787843\t -106.86813434900859\n",
            "13 \t [-0.31188264 -1.54051328]\t 269.95469958350844\t 0.7625124067787843\t -198.52290663121536\n",
            "14 \t [ 2.048 -2.048]\t 3897.7342268415996\t 0.7625124067787843\t -169.28027361715502\n",
            "15 \t [ 0.65225348 -0.83524149]\t 159.05135037197405\t 0.7625124067787843\t -309.18781755270027\n",
            "16 \t [-2.048  2.048]\t 469.9523900415999\t 0.7625124067787843\t -234.20614548342456\n",
            "17 \t [-0.77078973 -0.33593911]\t 89.63609865038234\t 0.7625124067787843\t -170.1059101824491\n",
            "18 \t [ 0.02383757 -0.42169744]\t 18.78372235028615\t 0.7625124067787843\t -467.59054970742767\n",
            "19 \t [-1.08751444  1.45125032]\t 11.57030679093787\t 0.7625124067787843\t -134.7383989197803\n",
            "20 \t [-0.04429811  0.43830361]\t 20.129930750229544\t 0.7625124067787843\t -530.1737141314735\n"
          ]
        }
      ],
      "source": [
        "### Bayesian optimisation runs (x20): 'STP' Acquisition Function run number = 18 \n",
        "\n",
        "np.random.seed(run_num_18)\n",
        "surrogate_stp_18 = tStudentProcess(cov_func, nu = df, optimize=hyperOpt)\n",
        "\n",
        "stp_18 = GPGO_multi_STP(surrogate_stp_18, Acquisition_new(util_stp), f_syn_polarity, param, n_jobs = -1) # Define BayesOpt\n",
        "stp_18.run(max_iter = max_iter, init_evals = n_init) # run\n"
      ]
    },
    {
      "cell_type": "code",
      "execution_count": 50,
      "metadata": {
        "id": "x2CyIorrJLlJ",
        "colab": {
          "base_uri": "https://localhost:8080/"
        },
        "outputId": "e31a03c8-1da0-48d7-ba35-49bc413ead3b"
      },
      "outputs": [
        {
          "output_type": "stream",
          "name": "stdout",
          "text": [
            "Evaluation \t Proposed point \t  Current eval. \t  Best eval. \t Min. ApproxAcqFunc \n",
            "init\t [-1.64850237  1.07007884]\t 278.43400025820534\t 57.78708636899354\t    \n",
            "init\t [-1.03654206 -1.48221261]\t 657.7842496298689\t 57.78708636899354\t    \n",
            "init\t [-0.69039488 -1.70803378]\t 480.139610337942\t 57.78708636899354\t    \n",
            "init\t [0.70441812 1.2558082 ]\t 57.78708636899354\t 57.78708636899354\t    \n",
            "init\t [1.97731088 0.55566637]\t 1125.9484203106679\t 57.78708636899354\t    \n",
            "1  \t [ 2.048 -2.048]\t 3897.7342268415996\t 57.78708636899354\t -297.31314984099566\n",
            "2  \t [-0.31186629  2.048     ]\t 382.2594214488452\t 57.78708636899354\t -819.8976046615293\n",
            "3  \t [-2.048  2.048]\t 469.9523900415999\t 57.78708636899354\t -715.7430279755522\n",
            "4  \t [-2.048     -0.2350184]\t 1971.1799966384197\t 57.78708636899354\t -676.442114178292\n",
            "5  \t [2.048 2.048]\t 461.7603900415999\t 57.78708636899354\t -701.2669831258446\n",
            "\u001b[1m\u001b[92m6\u001b[0m\t \u001b[1m\u001b[92m[0.05868294 0.30484399]\u001b[0m\t \u001b[1m\u001b[92m9.97029203798531\u001b[0m\t \u001b[1m\u001b[92m9.97029203798531\u001b[0m\t \u001b[1m\u001b[92m-645.6139651165602\u001b[0m\n",
            "7  \t [-2.048 -2.048]\t 3905.9262268415996\t 9.97029203798531\t -430.5157163845155\n",
            "8  \t [ 0.09494857 -0.58907081]\t 36.58980941264357\t 9.97029203798531\t -774.4123183958411\n",
            "9  \t [-0.60349794 -0.50832291]\t 78.70253072687642\t 9.97029203798531\t -507.64045387302\n",
            "10 \t [0.87554184 2.048     ]\t 164.2208736804016\t 9.97029203798531\t -396.5074846723085\n",
            "11 \t [-0.5371262   1.07101222]\t 63.594580146074854\t 9.97029203798531\t -350.47382810158587\n",
            "12 \t [ 0.96904166 -0.06322685]\t 100.45519241798378\t 9.97029203798531\t -225.17680034485198\n",
            "13 \t [-1.20538976  1.74849781]\t 13.5977392734709\t 9.97029203798531\t -193.22038959985377\n",
            "\u001b[1m\u001b[92m14\u001b[0m\t \u001b[1m\u001b[92m[0.64767733 0.44138774]\u001b[0m\t \u001b[1m\u001b[92m0.17210020576023063\u001b[0m\t \u001b[1m\u001b[92m0.17210020576023063\u001b[0m\t \u001b[1m\u001b[92m-161.10492421926446\u001b[0m\n",
            "15 \t [ 0.4259187 -2.048    ]\t 497.35501138793296\t 0.17210020576023063\t -143.78433432709133\n",
            "16 \t [-0.41002458 -1.11331831]\t 166.19662376707765\t 0.17210020576023063\t -138.00441915292132\n",
            "17 \t [ 0.45695752 -0.09755396]\t 9.680793518826315\t 0.17210020576023063\t -106.39700080480988\n",
            "18 \t [ 0.75007644 -0.9965466 ]\t 243.16084476677344\t 0.17210020576023063\t -123.75720031139304\n",
            "19 \t [ 0.03123582 -0.00188159]\t 0.9393204333121633\t 0.17210020576023063\t -541.6963881642724\n",
            "20 \t [ 2.048      -0.51767652]\t 2221.3743457020555\t 0.17210020576023063\t -250.72470692494758\n"
          ]
        }
      ],
      "source": [
        "### Bayesian optimisation runs (x20): 'STP' Acquisition Function run number = 19 \n",
        "\n",
        "np.random.seed(run_num_19)\n",
        "surrogate_stp_19 = tStudentProcess(cov_func, nu = df, optimize=hyperOpt)\n",
        "\n",
        "stp_19 = GPGO_multi_STP(surrogate_stp_19, Acquisition_new(util_stp), f_syn_polarity, param, n_jobs = -1) # Define BayesOpt\n",
        "stp_19.run(max_iter = max_iter, init_evals = n_init) # run\n"
      ]
    },
    {
      "cell_type": "code",
      "execution_count": 51,
      "metadata": {
        "id": "4O6_IplWJLlJ",
        "colab": {
          "base_uri": "https://localhost:8080/"
        },
        "outputId": "9ac15832-5d19-4311-d278-e5cd5ac624c1"
      },
      "outputs": [
        {
          "output_type": "stream",
          "name": "stdout",
          "text": [
            "Evaluation \t Proposed point \t  Current eval. \t  Best eval. \t Min. ApproxAcqFunc \n",
            "init\t [0.36098376 1.62903543]\t 225.0263501192369\t 5.168692520381821\t    \n",
            "init\t [1.60370987 1.29367031]\t 163.7478327754951\t 5.168692520381821\t    \n",
            "init\t [-1.90099626  0.78543905]\t 808.3708592256118\t 5.168692520381821\t    \n",
            "init\t [-0.49692286  0.07582083]\t 5.168692520381821\t 5.168692520381821\t    \n",
            "init\t [ 0.6469692  -1.25398951]\t 279.86987688431674\t 5.168692520381821\t    \n",
            "1  \t [-2.048 -2.048]\t 3905.9262268415996\t 5.168692520381821\t -201.17715725095854\n",
            "2  \t [ 2.048 -2.048]\t 3897.7342268415996\t 5.168692520381821\t -808.2160586097414\n",
            "3  \t [0.67954771 0.1401768 ]\t 10.445879101083555\t 5.168692520381821\t -998.4347297787394\n",
            "4  \t [2.048 2.048]\t 461.7603900415999\t 5.168692520381821\t -932.5701378625688\n",
            "5  \t [-0.96583379  2.048     ]\t 128.22381831313984\t 5.168692520381821\t -880.0619716594084\n",
            "6  \t [2.048      0.35801459]\t 1472.809946698508\t 5.168692520381821\t -809.3748345973506\n",
            "7  \t [-0.0497501  -0.43503063]\t 20.24309916790859\t 5.168692520381821\t -789.0921832851303\n",
            "8  \t [-2.048  2.048]\t 469.9523900415999\t 5.168692520381821\t -748.316637395833\n",
            "9  \t [-0.00270938 -2.048     ]\t 420.4388328819105\t 5.168692520381821\t -533.7777770174083\n",
            "10 \t [-0.03483461  0.65555367]\t 43.88699527826323\t 5.168692520381821\t -686.9042196483447\n",
            "11 \t [0.21410427 2.048     ]\t 401.48184222187604\t 5.168692520381821\t -647.7383042815384\n",
            "12 \t [1.19328069 2.048     ]\t 38.98509100591456\t 5.168692520381821\t -246.04209872138657\n",
            "13 \t [-2.048      -0.30870581]\t 2037.0000386745312\t 5.168692520381821\t -228.82844403975557\n",
            "14 \t [-0.92125825  1.06763257]\t 8.483646228414665\t 5.168692520381821\t -243.24804565943452\n",
            "\u001b[1m\u001b[92m15\u001b[0m\t \u001b[1m\u001b[92m[0.95198626 1.07860735]\u001b[0m\t \u001b[1m\u001b[92m2.972051445702764\u001b[0m\t \u001b[1m\u001b[92m2.972051445702764\u001b[0m\t \u001b[1m\u001b[92m-196.30740589781269\u001b[0m\n",
            "16 \t [ 0.48311937 -0.47035933]\t 49.79549456243126\t 2.972051445702764\t -143.15150964149964\n",
            "17 \t [-0.11814219 -1.26571023]\t 165.00521255454382\t 2.972051445702764\t -107.33937904111802\n",
            "\u001b[1m\u001b[92m18\u001b[0m\t \u001b[1m\u001b[92m[0.18307625 0.09586916]\u001b[0m\t \u001b[1m\u001b[92m1.0561447643146749\u001b[0m\t \u001b[1m\u001b[92m1.0561447643146749\u001b[0m\t \u001b[1m\u001b[92m-71.21524975589122\u001b[0m\n",
            "19 \t [-1.34349851  1.60063486]\t 9.668015380035301\t 1.0561447643146749\t -65.89302107944354\n",
            "20 \t [0.03938449 0.49897679]\t 25.66600979048985\t 1.0561447643146749\t -531.2727088932684\n"
          ]
        }
      ],
      "source": [
        "### Bayesian optimisation runs (x20): 'STP' Acquisition Function run number = 20 \n",
        "\n",
        "np.random.seed(run_num_20)\n",
        "surrogate_stp_20 = tStudentProcess(cov_func, nu = df, optimize=hyperOpt)\n",
        "\n",
        "stp_20 = GPGO_multi_STP(surrogate_stp_20, Acquisition_new(util_stp), f_syn_polarity, param, n_jobs = -1) # Define BayesOpt\n",
        "stp_20.run(max_iter = max_iter, init_evals = n_init) # run\n"
      ]
    },
    {
      "cell_type": "code",
      "execution_count": 52,
      "metadata": {
        "id": "B9S2UvZ9JLlK",
        "colab": {
          "base_uri": "https://localhost:8080/"
        },
        "outputId": "dd37dd07-f0ce-41c2-aee2-22129b358501"
      },
      "outputs": [
        {
          "output_type": "execute_result",
          "data": {
            "text/plain": [
              "(-1.1240333554040052, -1.608635466720549)"
            ]
          },
          "metadata": {},
          "execution_count": 52
        }
      ],
      "source": [
        "### Simple regret minimisation: run number = 1\n",
        "\n",
        "gp_output_1 = np.append(np.max(gp_1.GP.y[0:n_init]),gp_1.GP.y[n_init:(n_init+max_iter)]) \n",
        "stp_output_1 = np.append(np.max(stp_1.GP.y[0:n_init]),stp_1.GP.y[n_init:(n_init+max_iter)]) \n",
        "\n",
        "regret_gp_1 = np.log(y_global_orig - gp_output_1)\n",
        "regret_stp_1 = np.log(y_global_orig - stp_output_1)\n",
        "\n",
        "simple_regret_gp_1 = min_max_array(regret_gp_1)\n",
        "simple_regret_stp_1 = min_max_array(regret_stp_1)\n",
        "\n",
        "min_simple_regret_gp_1 = min(simple_regret_gp_1)\n",
        "min_simple_regret_stp_1 = min(simple_regret_stp_1)\n",
        "\n",
        "min_simple_regret_gp_1, min_simple_regret_stp_1\n"
      ]
    },
    {
      "cell_type": "code",
      "execution_count": 53,
      "metadata": {
        "id": "adGcU8l5JLlK",
        "colab": {
          "base_uri": "https://localhost:8080/"
        },
        "outputId": "5c68dcee-3bdc-4455-e1ef-7c71460e4421"
      },
      "outputs": [
        {
          "output_type": "execute_result",
          "data": {
            "text/plain": [
              "(0.5448360256959922, -0.6926321862848197)"
            ]
          },
          "metadata": {},
          "execution_count": 53
        }
      ],
      "source": [
        "### Simple regret minimisation: run number = 2\n",
        "\n",
        "gp_output_2 = np.append(np.max(gp_2.GP.y[0:n_init]),gp_2.GP.y[n_init:(n_init+max_iter)]) \n",
        "stp_output_2 = np.append(np.max(stp_2.GP.y[0:n_init]),stp_2.GP.y[n_init:(n_init+max_iter)]) \n",
        "\n",
        "regret_gp_2 = np.log(y_global_orig - gp_output_2)\n",
        "regret_stp_2 = np.log(y_global_orig - stp_output_2)\n",
        "\n",
        "simple_regret_gp_2 = min_max_array(regret_gp_2)\n",
        "simple_regret_stp_2 = min_max_array(regret_stp_2)\n",
        "\n",
        "min_simple_regret_gp_2 = min(simple_regret_gp_2)\n",
        "min_simple_regret_stp_2 = min(simple_regret_stp_2)\n",
        "\n",
        "min_simple_regret_gp_2, min_simple_regret_stp_2\n"
      ]
    },
    {
      "cell_type": "code",
      "execution_count": 54,
      "metadata": {
        "id": "1F9LaViaJLlL",
        "colab": {
          "base_uri": "https://localhost:8080/"
        },
        "outputId": "284cda35-2f1d-44c0-9914-5face8ebf9fa"
      },
      "outputs": [
        {
          "output_type": "execute_result",
          "data": {
            "text/plain": [
              "(-1.8998834238773252, 0.9125188879195326)"
            ]
          },
          "metadata": {},
          "execution_count": 54
        }
      ],
      "source": [
        "### Simple regret minimisation: run number = 3\n",
        "\n",
        "gp_output_3 = np.append(np.max(gp_3.GP.y[0:n_init]),gp_3.GP.y[n_init:(n_init+max_iter)]) \n",
        "stp_output_3 = np.append(np.max(stp_3.GP.y[0:n_init]),stp_3.GP.y[n_init:(n_init+max_iter)]) \n",
        "\n",
        "regret_gp_3 = np.log(y_global_orig - gp_output_3)\n",
        "regret_stp_3 = np.log(y_global_orig - stp_output_3)\n",
        "\n",
        "simple_regret_gp_3 = min_max_array(regret_gp_3)\n",
        "simple_regret_stp_3 = min_max_array(regret_stp_3)\n",
        "\n",
        "min_simple_regret_gp_3 = min(simple_regret_gp_3)\n",
        "min_simple_regret_stp_3 = min(simple_regret_stp_3)\n",
        "\n",
        "min_simple_regret_gp_3, min_simple_regret_stp_3\n"
      ]
    },
    {
      "cell_type": "code",
      "execution_count": 55,
      "metadata": {
        "id": "vThMylZmJLlL",
        "colab": {
          "base_uri": "https://localhost:8080/"
        },
        "outputId": "1e3f7d7c-1478-4fca-fd6a-b5bc0f222b7f"
      },
      "outputs": [
        {
          "output_type": "execute_result",
          "data": {
            "text/plain": [
              "(1.265305768837981, 0.0050849805069009745)"
            ]
          },
          "metadata": {},
          "execution_count": 55
        }
      ],
      "source": [
        "### Simple regret minimisation: run number = 4\n",
        "\n",
        "gp_output_4 = np.append(np.max(gp_4.GP.y[0:n_init]),gp_4.GP.y[n_init:(n_init+max_iter)]) \n",
        "stp_output_4 = np.append(np.max(stp_4.GP.y[0:n_init]),stp_4.GP.y[n_init:(n_init+max_iter)]) \n",
        "\n",
        "regret_gp_4 = np.log(y_global_orig - gp_output_4)\n",
        "regret_stp_4 = np.log(y_global_orig - stp_output_4)\n",
        "\n",
        "simple_regret_gp_4 = min_max_array(regret_gp_4)\n",
        "simple_regret_stp_4 = min_max_array(regret_stp_4)\n",
        "\n",
        "min_simple_regret_gp_4 = min(simple_regret_gp_4)\n",
        "min_simple_regret_stp_4 = min(simple_regret_stp_4)\n",
        "\n",
        "min_simple_regret_gp_4, min_simple_regret_stp_4\n"
      ]
    },
    {
      "cell_type": "code",
      "execution_count": 56,
      "metadata": {
        "id": "9Um6_WG7JLlM",
        "colab": {
          "base_uri": "https://localhost:8080/"
        },
        "outputId": "ccb40804-c23f-4fa9-e558-ade2e865c01b"
      },
      "outputs": [
        {
          "output_type": "execute_result",
          "data": {
            "text/plain": [
              "(-0.9790634034670794, -1.5269736688046391)"
            ]
          },
          "metadata": {},
          "execution_count": 56
        }
      ],
      "source": [
        "### Simple regret minimisation: run number = 5\n",
        "\n",
        "gp_output_5 = np.append(np.max(gp_5.GP.y[0:n_init]),gp_5.GP.y[n_init:(n_init+max_iter)]) \n",
        "stp_output_5 = np.append(np.max(stp_5.GP.y[0:n_init]),stp_5.GP.y[n_init:(n_init+max_iter)]) \n",
        "\n",
        "regret_gp_5 = np.log(y_global_orig - gp_output_5)\n",
        "regret_stp_5 = np.log(y_global_orig - stp_output_5)\n",
        "\n",
        "simple_regret_gp_5 = min_max_array(regret_gp_5)\n",
        "simple_regret_stp_5 = min_max_array(regret_stp_5)\n",
        "\n",
        "min_simple_regret_gp_5 = min(simple_regret_gp_5)\n",
        "min_simple_regret_stp_5 = min(simple_regret_stp_5)\n",
        "\n",
        "min_simple_regret_gp_5, min_simple_regret_stp_5\n"
      ]
    },
    {
      "cell_type": "code",
      "execution_count": 57,
      "metadata": {
        "id": "s7F8Y3b9JLlM",
        "colab": {
          "base_uri": "https://localhost:8080/"
        },
        "outputId": "5e1ef589-e4f1-42bf-9228-706685796cf9"
      },
      "outputs": [
        {
          "output_type": "execute_result",
          "data": {
            "text/plain": [
              "(1.107540634427908, 0.9985885923373787)"
            ]
          },
          "metadata": {},
          "execution_count": 57
        }
      ],
      "source": [
        "### Simple regret minimisation: run number = 6\n",
        "\n",
        "gp_output_6 = np.append(np.max(gp_6.GP.y[0:n_init]),gp_6.GP.y[n_init:(n_init+max_iter)]) \n",
        "stp_output_6 = np.append(np.max(stp_6.GP.y[0:n_init]),stp_6.GP.y[n_init:(n_init+max_iter)]) \n",
        "\n",
        "regret_gp_6 = np.log(y_global_orig - gp_output_6)\n",
        "regret_stp_6 = np.log(y_global_orig - stp_output_6)\n",
        "\n",
        "simple_regret_gp_6 = min_max_array(regret_gp_6)\n",
        "simple_regret_stp_6 = min_max_array(regret_stp_6)\n",
        "\n",
        "min_simple_regret_gp_6 = min(simple_regret_gp_6)\n",
        "min_simple_regret_stp_6 = min(simple_regret_stp_6)\n",
        "\n",
        "min_simple_regret_gp_6, min_simple_regret_stp_6\n"
      ]
    },
    {
      "cell_type": "code",
      "execution_count": 58,
      "metadata": {
        "id": "FbMNex-gJLlN",
        "colab": {
          "base_uri": "https://localhost:8080/"
        },
        "outputId": "455b962c-f6e3-4f52-fd53-ff5942c93d25"
      },
      "outputs": [
        {
          "output_type": "execute_result",
          "data": {
            "text/plain": [
              "(-0.4651675708440658, -1.1279501811439796)"
            ]
          },
          "metadata": {},
          "execution_count": 58
        }
      ],
      "source": [
        "### Simple regret minimisation: run number = 7\n",
        "\n",
        "gp_output_7 = np.append(np.max(gp_7.GP.y[0:n_init]),gp_7.GP.y[n_init:(n_init+max_iter)]) \n",
        "stp_output_7 = np.append(np.max(stp_7.GP.y[0:n_init]),stp_7.GP.y[n_init:(n_init+max_iter)]) \n",
        "\n",
        "regret_gp_7 = np.log(y_global_orig - gp_output_7)\n",
        "regret_stp_7 = np.log(y_global_orig - stp_output_7)\n",
        "\n",
        "simple_regret_gp_7 = min_max_array(regret_gp_7)\n",
        "simple_regret_stp_7 = min_max_array(regret_stp_7)\n",
        "\n",
        "min_simple_regret_gp_7 = min(simple_regret_gp_7)\n",
        "min_simple_regret_stp_7 = min(simple_regret_stp_7)\n",
        "\n",
        "min_simple_regret_gp_7, min_simple_regret_stp_7\n"
      ]
    },
    {
      "cell_type": "code",
      "execution_count": 59,
      "metadata": {
        "id": "yTxbjos2JLlN",
        "colab": {
          "base_uri": "https://localhost:8080/"
        },
        "outputId": "ea481b19-cfc6-4c94-8d84-ca020ae00a83"
      },
      "outputs": [
        {
          "output_type": "execute_result",
          "data": {
            "text/plain": [
              "(-0.6553031283064907, 0.5281922947412311)"
            ]
          },
          "metadata": {},
          "execution_count": 59
        }
      ],
      "source": [
        "### Simple regret minimisation: run number = 8\n",
        "\n",
        "gp_output_8 = np.append(np.max(gp_8.GP.y[0:n_init]),gp_8.GP.y[n_init:(n_init+max_iter)]) \n",
        "stp_output_8 = np.append(np.max(stp_8.GP.y[0:n_init]),stp_8.GP.y[n_init:(n_init+max_iter)]) \n",
        "\n",
        "regret_gp_8 = np.log(y_global_orig - gp_output_8)\n",
        "regret_stp_8 = np.log(y_global_orig - stp_output_8)\n",
        "\n",
        "simple_regret_gp_8 = min_max_array(regret_gp_8)\n",
        "simple_regret_stp_8 = min_max_array(regret_stp_8)\n",
        "\n",
        "min_simple_regret_gp_8 = min(simple_regret_gp_8)\n",
        "min_simple_regret_stp_8 = min(simple_regret_stp_8)\n",
        "\n",
        "min_simple_regret_gp_8, min_simple_regret_stp_8\n"
      ]
    },
    {
      "cell_type": "code",
      "execution_count": 60,
      "metadata": {
        "id": "iBuMpq59JLlO",
        "colab": {
          "base_uri": "https://localhost:8080/"
        },
        "outputId": "6359abc5-15b4-4e19-c16b-5bad657c4b9e"
      },
      "outputs": [
        {
          "output_type": "execute_result",
          "data": {
            "text/plain": [
              "(-1.1997274254067354, 0.7973603582617267)"
            ]
          },
          "metadata": {},
          "execution_count": 60
        }
      ],
      "source": [
        "### Simple regret minimisation: run number = 9\n",
        "\n",
        "gp_output_9 = np.append(np.max(gp_9.GP.y[0:n_init]),gp_9.GP.y[n_init:(n_init+max_iter)]) \n",
        "stp_output_9 = np.append(np.max(stp_9.GP.y[0:n_init]),stp_9.GP.y[n_init:(n_init+max_iter)]) \n",
        "\n",
        "regret_gp_9 = np.log(y_global_orig - gp_output_9)\n",
        "regret_stp_9 = np.log(y_global_orig - stp_output_9)\n",
        "\n",
        "simple_regret_gp_9 = min_max_array(regret_gp_9)\n",
        "simple_regret_stp_9 = min_max_array(regret_stp_9)\n",
        "\n",
        "min_simple_regret_gp_9 = min(simple_regret_gp_9)\n",
        "min_simple_regret_stp_9 = min(simple_regret_stp_9)\n",
        "\n",
        "min_simple_regret_gp_9, min_simple_regret_stp_9\n"
      ]
    },
    {
      "cell_type": "code",
      "execution_count": 61,
      "metadata": {
        "id": "MT-MYaKEJLlO",
        "colab": {
          "base_uri": "https://localhost:8080/"
        },
        "outputId": "100f440d-9084-4fdc-da31-716b251ad5c3"
      },
      "outputs": [
        {
          "output_type": "execute_result",
          "data": {
            "text/plain": [
              "(-0.022554658265167452, 2.3430189717640766)"
            ]
          },
          "metadata": {},
          "execution_count": 61
        }
      ],
      "source": [
        "### Simple regret minimisation: run number = 10\n",
        "\n",
        "gp_output_10 = np.append(np.max(gp_10.GP.y[0:n_init]),gp_10.GP.y[n_init:(n_init+max_iter)]) \n",
        "stp_output_10 = np.append(np.max(stp_10.GP.y[0:n_init]),stp_10.GP.y[n_init:(n_init+max_iter)]) \n",
        "\n",
        "regret_gp_10 = np.log(y_global_orig - gp_output_10)\n",
        "regret_stp_10 = np.log(y_global_orig - stp_output_10)\n",
        "\n",
        "simple_regret_gp_10 = min_max_array(regret_gp_10)\n",
        "simple_regret_stp_10 = min_max_array(regret_stp_10)\n",
        "\n",
        "min_simple_regret_gp_10 = min(simple_regret_gp_10)\n",
        "min_simple_regret_stp_10 = min(simple_regret_stp_10)\n",
        "\n",
        "min_simple_regret_gp_10, min_simple_regret_stp_10\n"
      ]
    },
    {
      "cell_type": "code",
      "execution_count": 62,
      "metadata": {
        "id": "JgXNMHBOJLlP",
        "colab": {
          "base_uri": "https://localhost:8080/"
        },
        "outputId": "7c9f5615-3ee4-4fab-bf50-5b499baa68a7"
      },
      "outputs": [
        {
          "output_type": "execute_result",
          "data": {
            "text/plain": [
              "(1.160366734464194, 0.26571823518232446)"
            ]
          },
          "metadata": {},
          "execution_count": 62
        }
      ],
      "source": [
        "### Simple regret minimisation: run number = 11\n",
        "\n",
        "gp_output_11 = np.append(np.max(gp_11.GP.y[0:n_init]),gp_11.GP.y[n_init:(n_init+max_iter)]) \n",
        "stp_output_11 = np.append(np.max(stp_11.GP.y[0:n_init]),stp_11.GP.y[n_init:(n_init+max_iter)]) \n",
        "\n",
        "regret_gp_11 = np.log(y_global_orig - gp_output_11)\n",
        "regret_stp_11 = np.log(y_global_orig - stp_output_11)\n",
        "\n",
        "simple_regret_gp_11 = min_max_array(regret_gp_11)\n",
        "simple_regret_stp_11 = min_max_array(regret_stp_11)\n",
        "\n",
        "min_simple_regret_gp_11 = min(simple_regret_gp_11)\n",
        "min_simple_regret_stp_11 = min(simple_regret_stp_11)\n",
        "\n",
        "min_simple_regret_gp_11, min_simple_regret_stp_11\n"
      ]
    },
    {
      "cell_type": "code",
      "execution_count": 63,
      "metadata": {
        "id": "CNvnLAXOJLlQ",
        "colab": {
          "base_uri": "https://localhost:8080/"
        },
        "outputId": "ce7b9087-f118-4f46-f828-79c63d87746c"
      },
      "outputs": [
        {
          "output_type": "execute_result",
          "data": {
            "text/plain": [
              "(0.468378668810537, -0.001732782927924585)"
            ]
          },
          "metadata": {},
          "execution_count": 63
        }
      ],
      "source": [
        "### Simple regret minimisation: run number = 12\n",
        "\n",
        "gp_output_12 = np.append(np.max(gp_12.GP.y[0:n_init]),gp_12.GP.y[n_init:(n_init+max_iter)]) \n",
        "stp_output_12 = np.append(np.max(stp_12.GP.y[0:n_init]),stp_12.GP.y[n_init:(n_init+max_iter)]) \n",
        "\n",
        "regret_gp_12 = np.log(y_global_orig - gp_output_12)\n",
        "regret_stp_12 = np.log(y_global_orig - stp_output_12)\n",
        "\n",
        "simple_regret_gp_12 = min_max_array(regret_gp_12)\n",
        "simple_regret_stp_12 = min_max_array(regret_stp_12)\n",
        "\n",
        "min_simple_regret_gp_12 = min(simple_regret_gp_12)\n",
        "min_simple_regret_stp_12 = min(simple_regret_stp_12)\n",
        "\n",
        "min_simple_regret_gp_12, min_simple_regret_stp_12\n"
      ]
    },
    {
      "cell_type": "code",
      "execution_count": 64,
      "metadata": {
        "id": "LccPP2SJJLlQ",
        "colab": {
          "base_uri": "https://localhost:8080/"
        },
        "outputId": "41f90d71-30ad-4580-e7a3-3918adc743d4"
      },
      "outputs": [
        {
          "output_type": "execute_result",
          "data": {
            "text/plain": [
              "(0.25971298469711973, 0.7729890809102185)"
            ]
          },
          "metadata": {},
          "execution_count": 64
        }
      ],
      "source": [
        "### Simple regret minimisation: run number = 13\n",
        "\n",
        "gp_output_13 = np.append(np.max(gp_13.GP.y[0:n_init]),gp_13.GP.y[n_init:(n_init+max_iter)]) \n",
        "stp_output_13 = np.append(np.max(stp_13.GP.y[0:n_init]),stp_13.GP.y[n_init:(n_init+max_iter)]) \n",
        "\n",
        "regret_gp_13 = np.log(y_global_orig - gp_output_13)\n",
        "regret_stp_13 = np.log(y_global_orig - stp_output_13)\n",
        "\n",
        "simple_regret_gp_13 = min_max_array(regret_gp_13)\n",
        "simple_regret_stp_13 = min_max_array(regret_stp_13)\n",
        "\n",
        "min_simple_regret_gp_13 = min(simple_regret_gp_13)\n",
        "min_simple_regret_stp_13 = min(simple_regret_stp_13)\n",
        "\n",
        "min_simple_regret_gp_13, min_simple_regret_stp_13\n"
      ]
    },
    {
      "cell_type": "code",
      "execution_count": 65,
      "metadata": {
        "id": "OsCDbV_CJLlR",
        "colab": {
          "base_uri": "https://localhost:8080/"
        },
        "outputId": "9e4e0d44-9d92-461a-8030-cdb8d9db2f7f"
      },
      "outputs": [
        {
          "output_type": "execute_result",
          "data": {
            "text/plain": [
              "(-0.06067209185646888, -0.4391150118132084)"
            ]
          },
          "metadata": {},
          "execution_count": 65
        }
      ],
      "source": [
        "### Simple regret minimisation: run number = 14\n",
        "\n",
        "gp_output_14 = np.append(np.max(gp_14.GP.y[0:n_init]),gp_14.GP.y[n_init:(n_init+max_iter)]) \n",
        "stp_output_14 = np.append(np.max(stp_14.GP.y[0:n_init]),stp_14.GP.y[n_init:(n_init+max_iter)]) \n",
        "\n",
        "regret_gp_14 = np.log(y_global_orig - gp_output_14)\n",
        "regret_stp_14 = np.log(y_global_orig - stp_output_14)\n",
        "\n",
        "simple_regret_gp_14 = min_max_array(regret_gp_14)\n",
        "simple_regret_stp_14 = min_max_array(regret_stp_14)\n",
        "\n",
        "min_simple_regret_gp_14 = min(simple_regret_gp_14)\n",
        "min_simple_regret_stp_14 = min(simple_regret_stp_14)\n",
        "\n",
        "min_simple_regret_gp_14, min_simple_regret_stp_14\n"
      ]
    },
    {
      "cell_type": "code",
      "execution_count": 66,
      "metadata": {
        "id": "HVNGSKzNJLlR",
        "colab": {
          "base_uri": "https://localhost:8080/"
        },
        "outputId": "fad375ee-fadd-49db-b8ee-a02ed98c65ce"
      },
      "outputs": [
        {
          "output_type": "execute_result",
          "data": {
            "text/plain": [
              "(0.33301466013469283, 0.7893819472427819)"
            ]
          },
          "metadata": {},
          "execution_count": 66
        }
      ],
      "source": [
        "### Simple regret minimisation: run number = 15\n",
        "\n",
        "gp_output_15 = np.append(np.max(gp_15.GP.y[0:n_init]),gp_15.GP.y[n_init:(n_init+max_iter)]) \n",
        "stp_output_15 = np.append(np.max(stp_15.GP.y[0:n_init]),stp_15.GP.y[n_init:(n_init+max_iter)]) \n",
        "\n",
        "regret_gp_15 = np.log(y_global_orig - gp_output_15)\n",
        "regret_stp_15 = np.log(y_global_orig - stp_output_15)\n",
        "\n",
        "simple_regret_gp_15 = min_max_array(regret_gp_15)\n",
        "simple_regret_stp_15 = min_max_array(regret_stp_15)\n",
        "\n",
        "min_simple_regret_gp_15 = min(simple_regret_gp_15)\n",
        "min_simple_regret_stp_15 = min(simple_regret_stp_15)\n",
        "\n",
        "min_simple_regret_gp_15, min_simple_regret_stp_15\n"
      ]
    },
    {
      "cell_type": "code",
      "execution_count": 67,
      "metadata": {
        "id": "vFT0-DcpJLlS",
        "colab": {
          "base_uri": "https://localhost:8080/"
        },
        "outputId": "f7a892eb-ac7f-4732-82c5-f6a6cb5b89f9"
      },
      "outputs": [
        {
          "output_type": "execute_result",
          "data": {
            "text/plain": [
              "(0.9110213717583872, 1.6313270369068005)"
            ]
          },
          "metadata": {},
          "execution_count": 67
        }
      ],
      "source": [
        "### Simple regret minimisation: run number = 16\n",
        "\n",
        "gp_output_16 = np.append(np.max(gp_16.GP.y[0:n_init]),gp_16.GP.y[n_init:(n_init+max_iter)]) \n",
        "stp_output_16 = np.append(np.max(stp_16.GP.y[0:n_init]),stp_16.GP.y[n_init:(n_init+max_iter)]) \n",
        "\n",
        "regret_gp_16 = np.log(y_global_orig - gp_output_16)\n",
        "regret_stp_16 = np.log(y_global_orig - stp_output_16)\n",
        "\n",
        "simple_regret_gp_16 = min_max_array(regret_gp_16)\n",
        "simple_regret_stp_16 = min_max_array(regret_stp_16)\n",
        "\n",
        "min_simple_regret_gp_16 = min(simple_regret_gp_16)\n",
        "min_simple_regret_stp_16 = min(simple_regret_stp_16)\n",
        "\n",
        "min_simple_regret_gp_16, min_simple_regret_stp_16\n"
      ]
    },
    {
      "cell_type": "code",
      "execution_count": 68,
      "metadata": {
        "id": "TPbl73U3JLlS",
        "colab": {
          "base_uri": "https://localhost:8080/"
        },
        "outputId": "cfc74a60-5973-429f-a1ac-04ddc783f4f8"
      },
      "outputs": [
        {
          "output_type": "execute_result",
          "data": {
            "text/plain": [
              "(-1.6269516377010977, -1.6269516377010977)"
            ]
          },
          "metadata": {},
          "execution_count": 68
        }
      ],
      "source": [
        "### Simple regret minimisation: run number = 17\n",
        "\n",
        "gp_output_17 = np.append(np.max(gp_17.GP.y[0:n_init]),gp_17.GP.y[n_init:(n_init+max_iter)]) \n",
        "stp_output_17 = np.append(np.max(stp_17.GP.y[0:n_init]),stp_17.GP.y[n_init:(n_init+max_iter)]) \n",
        "\n",
        "regret_gp_17 = np.log(y_global_orig - gp_output_17)\n",
        "regret_stp_17 = np.log(y_global_orig - stp_output_17)\n",
        "\n",
        "simple_regret_gp_17 = min_max_array(regret_gp_17)\n",
        "simple_regret_stp_17 = min_max_array(regret_stp_17)\n",
        "\n",
        "min_simple_regret_gp_17 = min(simple_regret_gp_17)\n",
        "min_simple_regret_stp_17 = min(simple_regret_stp_17)\n",
        "\n",
        "min_simple_regret_gp_17, min_simple_regret_stp_17\n"
      ]
    },
    {
      "cell_type": "code",
      "execution_count": 69,
      "metadata": {
        "id": "ANjpLP7uJLlT",
        "colab": {
          "base_uri": "https://localhost:8080/"
        },
        "outputId": "f02e94fc-f123-4f41-97be-45c1ea6612e2"
      },
      "outputs": [
        {
          "output_type": "execute_result",
          "data": {
            "text/plain": [
              "(0.11156252828528176, -0.2711364994476538)"
            ]
          },
          "metadata": {},
          "execution_count": 69
        }
      ],
      "source": [
        "### Simple regret minimisation: run number = 18\n",
        "\n",
        "gp_output_18 = np.append(np.max(gp_18.GP.y[0:n_init]),gp_18.GP.y[n_init:(n_init+max_iter)]) \n",
        "stp_output_18 = np.append(np.max(stp_18.GP.y[0:n_init]),stp_18.GP.y[n_init:(n_init+max_iter)]) \n",
        "\n",
        "regret_gp_18 = np.log(y_global_orig - gp_output_18)\n",
        "regret_stp_18 = np.log(y_global_orig - stp_output_18)\n",
        "\n",
        "simple_regret_gp_18 = min_max_array(regret_gp_18)\n",
        "simple_regret_stp_18 = min_max_array(regret_stp_18)\n",
        "\n",
        "min_simple_regret_gp_18 = min(simple_regret_gp_18)\n",
        "min_simple_regret_stp_18 = min(simple_regret_stp_18)\n",
        "\n",
        "min_simple_regret_gp_18, min_simple_regret_stp_18\n"
      ]
    },
    {
      "cell_type": "code",
      "execution_count": 70,
      "metadata": {
        "id": "yYy7bHMOJLlT",
        "colab": {
          "base_uri": "https://localhost:8080/"
        },
        "outputId": "ebde1773-3dd4-48cf-e307-7b14f4b24775"
      },
      "outputs": [
        {
          "output_type": "execute_result",
          "data": {
            "text/plain": [
              "(0.23645323615057556, -1.759678380180055)"
            ]
          },
          "metadata": {},
          "execution_count": 70
        }
      ],
      "source": [
        "### Simple regret minimisation: run number = 19\n",
        "\n",
        "gp_output_19 = np.append(np.max(gp_19.GP.y[0:n_init]),gp_19.GP.y[n_init:(n_init+max_iter)]) \n",
        "stp_output_19 = np.append(np.max(stp_19.GP.y[0:n_init]),stp_19.GP.y[n_init:(n_init+max_iter)]) \n",
        "\n",
        "regret_gp_19 = np.log(y_global_orig - gp_output_19)\n",
        "regret_stp_19 = np.log(y_global_orig - stp_output_19)\n",
        "\n",
        "simple_regret_gp_19 = min_max_array(regret_gp_19)\n",
        "simple_regret_stp_19 = min_max_array(regret_stp_19)\n",
        "\n",
        "min_simple_regret_gp_19 = min(simple_regret_gp_19)\n",
        "min_simple_regret_stp_19 = min(simple_regret_stp_19)\n",
        "\n",
        "min_simple_regret_gp_19, min_simple_regret_stp_19\n"
      ]
    },
    {
      "cell_type": "code",
      "execution_count": 71,
      "metadata": {
        "id": "7h8DTQ7MJLlU",
        "colab": {
          "base_uri": "https://localhost:8080/"
        },
        "outputId": "fd7f82b7-7830-418b-e9f5-50bc97e9af84"
      },
      "outputs": [
        {
          "output_type": "execute_result",
          "data": {
            "text/plain": [
              "(-0.11388264648900075, 0.054625263307647824)"
            ]
          },
          "metadata": {},
          "execution_count": 71
        }
      ],
      "source": [
        "### Simple regret minimisation: run number = 20\n",
        "\n",
        "gp_output_20 = np.append(np.max(gp_20.GP.y[0:n_init]),gp_20.GP.y[n_init:(n_init+max_iter)]) \n",
        "stp_output_20 = np.append(np.max(stp_20.GP.y[0:n_init]),stp_20.GP.y[n_init:(n_init+max_iter)]) \n",
        "\n",
        "regret_gp_20 = np.log(y_global_orig - gp_output_20)\n",
        "regret_stp_20 = np.log(y_global_orig - stp_output_20)\n",
        "\n",
        "simple_regret_gp_20 = min_max_array(regret_gp_20)\n",
        "simple_regret_stp_20 = min_max_array(regret_stp_20)\n",
        "\n",
        "min_simple_regret_gp_20 = min(simple_regret_gp_20)\n",
        "min_simple_regret_stp_20 = min(simple_regret_stp_20)\n",
        "\n",
        "min_simple_regret_gp_20, min_simple_regret_stp_20\n"
      ]
    },
    {
      "cell_type": "code",
      "execution_count": 72,
      "metadata": {
        "id": "FuTVzVQkJLlU"
      },
      "outputs": [],
      "source": [
        "# Iteration1 :\n",
        "\n",
        "slice1 = 0\n",
        "\n",
        "gp1 = [simple_regret_gp_1[slice1],\n",
        "       simple_regret_gp_2[slice1],\n",
        "       simple_regret_gp_3[slice1],\n",
        "       simple_regret_gp_4[slice1],\n",
        "       simple_regret_gp_5[slice1],\n",
        "       simple_regret_gp_6[slice1],\n",
        "       simple_regret_gp_7[slice1],\n",
        "       simple_regret_gp_8[slice1],\n",
        "       simple_regret_gp_9[slice1],\n",
        "       simple_regret_gp_10[slice1],\n",
        "       simple_regret_gp_11[slice1],\n",
        "       simple_regret_gp_12[slice1],\n",
        "       simple_regret_gp_13[slice1],\n",
        "       simple_regret_gp_14[slice1],\n",
        "       simple_regret_gp_15[slice1],\n",
        "       simple_regret_gp_16[slice1],\n",
        "       simple_regret_gp_17[slice1],\n",
        "       simple_regret_gp_18[slice1],\n",
        "       simple_regret_gp_19[slice1],\n",
        "       simple_regret_gp_20[slice1]]\n",
        "\n",
        "stp1 = [simple_regret_stp_1[slice1],\n",
        "       simple_regret_stp_2[slice1],\n",
        "       simple_regret_stp_3[slice1],\n",
        "       simple_regret_stp_4[slice1],\n",
        "       simple_regret_stp_5[slice1],\n",
        "       simple_regret_stp_6[slice1],\n",
        "       simple_regret_stp_7[slice1],\n",
        "       simple_regret_stp_8[slice1],\n",
        "       simple_regret_stp_9[slice1],\n",
        "       simple_regret_stp_10[slice1],\n",
        "       simple_regret_stp_11[slice1],\n",
        "       simple_regret_stp_12[slice1],\n",
        "       simple_regret_stp_13[slice1],\n",
        "       simple_regret_stp_14[slice1],\n",
        "       simple_regret_stp_15[slice1],\n",
        "       simple_regret_stp_16[slice1],\n",
        "       simple_regret_stp_17[slice1],\n",
        "       simple_regret_stp_18[slice1],\n",
        "       simple_regret_stp_19[slice1],\n",
        "       simple_regret_stp_20[slice1]]\n",
        "\n",
        "gp1_results = pd.DataFrame(gp1).sort_values(by=[0], ascending=False)\n",
        "stp1_results = pd.DataFrame(stp1).sort_values(by=[0], ascending=False)\n",
        "\n",
        "### Best training regret minimization IQR - gp:\n",
        "lower_gp1 = np.asarray(gp1_results[4:5][0])[0]\n",
        "median_gp1 = np.asarray(gp1_results[9:10][0])[0]\n",
        "upper_gp1 = np.asarray(gp1_results[14:15][0])[0]\n",
        "\n",
        "lower_stp1 = np.asarray(stp1_results[4:5][0])[0]\n",
        "median_stp1 = np.asarray(stp1_results[9:10][0])[0]\n",
        "upper_stp1 = np.asarray(stp1_results[14:15][0])[0]\n"
      ]
    },
    {
      "cell_type": "code",
      "execution_count": 73,
      "metadata": {
        "id": "OCTtqlBHJLlV"
      },
      "outputs": [],
      "source": [
        "# Iteration11 :\n",
        "\n",
        "slice11 = 10\n",
        "\n",
        "gp11 = [simple_regret_gp_1[slice11],\n",
        "       simple_regret_gp_2[slice11],\n",
        "       simple_regret_gp_3[slice11],\n",
        "       simple_regret_gp_4[slice11],\n",
        "       simple_regret_gp_5[slice11],\n",
        "       simple_regret_gp_6[slice11],\n",
        "       simple_regret_gp_7[slice11],\n",
        "       simple_regret_gp_8[slice11],\n",
        "       simple_regret_gp_9[slice11],\n",
        "       simple_regret_gp_10[slice11],\n",
        "       simple_regret_gp_11[slice11],\n",
        "       simple_regret_gp_12[slice11],\n",
        "       simple_regret_gp_13[slice11],\n",
        "       simple_regret_gp_14[slice11],\n",
        "       simple_regret_gp_15[slice11],\n",
        "       simple_regret_gp_16[slice11],\n",
        "       simple_regret_gp_17[slice11],\n",
        "       simple_regret_gp_18[slice11],\n",
        "       simple_regret_gp_19[slice11],\n",
        "       simple_regret_gp_20[slice11]]\n",
        "\n",
        "stp11 = [simple_regret_stp_1[slice11],\n",
        "       simple_regret_stp_2[slice11],\n",
        "       simple_regret_stp_3[slice11],\n",
        "       simple_regret_stp_4[slice11],\n",
        "       simple_regret_stp_5[slice11],\n",
        "       simple_regret_stp_6[slice11],\n",
        "       simple_regret_stp_7[slice11],\n",
        "       simple_regret_stp_8[slice11],\n",
        "       simple_regret_stp_9[slice11],\n",
        "       simple_regret_stp_10[slice11],\n",
        "       simple_regret_stp_11[slice11],\n",
        "       simple_regret_stp_12[slice11],\n",
        "       simple_regret_stp_13[slice11],\n",
        "       simple_regret_stp_14[slice11],\n",
        "       simple_regret_stp_15[slice11],\n",
        "       simple_regret_stp_16[slice11],\n",
        "       simple_regret_stp_17[slice11],\n",
        "       simple_regret_stp_18[slice11],\n",
        "       simple_regret_stp_19[slice11],\n",
        "       simple_regret_stp_20[slice11]]\n",
        "\n",
        "gp11_results = pd.DataFrame(gp11).sort_values(by=[0], ascending=False)\n",
        "stp11_results = pd.DataFrame(stp11).sort_values(by=[0], ascending=False)\n",
        "\n",
        "### Best training regret minimization IQR - gp:\n",
        "lower_gp11 = np.asarray(gp11_results[4:5][0])[0]\n",
        "median_gp11 = np.asarray(gp11_results[9:10][0])[0]\n",
        "upper_gp11 = np.asarray(gp11_results[14:15][0])[0]\n",
        "\n",
        "lower_stp11 = np.asarray(stp11_results[4:5][0])[0]\n",
        "median_stp11 = np.asarray(stp11_results[9:10][0])[0]\n",
        "upper_stp11 = np.asarray(stp11_results[14:15][0])[0]\n"
      ]
    },
    {
      "cell_type": "code",
      "execution_count": 74,
      "metadata": {
        "id": "OhneK6K5JLlV"
      },
      "outputs": [],
      "source": [
        "# Iteration21 :\n",
        "\n",
        "slice21 = 20\n",
        "\n",
        "gp21 = [simple_regret_gp_1[slice21],\n",
        "       simple_regret_gp_2[slice21],\n",
        "       simple_regret_gp_3[slice21],\n",
        "       simple_regret_gp_4[slice21],\n",
        "       simple_regret_gp_5[slice21],\n",
        "       simple_regret_gp_6[slice21],\n",
        "       simple_regret_gp_7[slice21],\n",
        "       simple_regret_gp_8[slice21],\n",
        "       simple_regret_gp_9[slice21],\n",
        "       simple_regret_gp_10[slice21],\n",
        "       simple_regret_gp_11[slice21],\n",
        "       simple_regret_gp_12[slice21],\n",
        "       simple_regret_gp_13[slice21],\n",
        "       simple_regret_gp_14[slice21],\n",
        "       simple_regret_gp_15[slice21],\n",
        "       simple_regret_gp_16[slice21],\n",
        "       simple_regret_gp_17[slice21],\n",
        "       simple_regret_gp_18[slice21],\n",
        "       simple_regret_gp_19[slice21],\n",
        "       simple_regret_gp_20[slice21]]\n",
        "\n",
        "stp21 = [simple_regret_stp_1[slice21],\n",
        "       simple_regret_stp_2[slice21],\n",
        "       simple_regret_stp_3[slice21],\n",
        "       simple_regret_stp_4[slice21],\n",
        "       simple_regret_stp_5[slice21],\n",
        "       simple_regret_stp_6[slice21],\n",
        "       simple_regret_stp_7[slice21],\n",
        "       simple_regret_stp_8[slice21],\n",
        "       simple_regret_stp_9[slice21],\n",
        "       simple_regret_stp_10[slice21],\n",
        "       simple_regret_stp_11[slice21],\n",
        "       simple_regret_stp_12[slice21],\n",
        "       simple_regret_stp_13[slice21],\n",
        "       simple_regret_stp_14[slice21],\n",
        "       simple_regret_stp_15[slice21],\n",
        "       simple_regret_stp_16[slice21],\n",
        "       simple_regret_stp_17[slice21],\n",
        "       simple_regret_stp_18[slice21],\n",
        "       simple_regret_stp_19[slice21],\n",
        "       simple_regret_stp_20[slice21]]\n",
        "\n",
        "gp21_results = pd.DataFrame(gp21).sort_values(by=[0], ascending=False)\n",
        "stp21_results = pd.DataFrame(stp21).sort_values(by=[0], ascending=False)\n",
        "\n",
        "### Best training regret minimization IQR - gp:\n",
        "lower_gp21 = np.asarray(gp21_results[4:5][0])[0]\n",
        "median_gp21 = np.asarray(gp21_results[9:10][0])[0]\n",
        "upper_gp21 = np.asarray(gp21_results[14:15][0])[0]\n",
        "\n",
        "lower_stp21 = np.asarray(stp21_results[4:5][0])[0]\n",
        "median_stp21 = np.asarray(stp21_results[9:10][0])[0]\n",
        "upper_stp21 = np.asarray(stp21_results[14:15][0])[0]\n"
      ]
    },
    {
      "cell_type": "code",
      "execution_count": 75,
      "metadata": {
        "id": "wetKUCmLJLlb"
      },
      "outputs": [],
      "source": [
        "# Iteration2 :\n",
        "\n",
        "slice2 = 1\n",
        "\n",
        "gp2 = [simple_regret_gp_1[slice2],\n",
        "       simple_regret_gp_2[slice2],\n",
        "       simple_regret_gp_3[slice2],\n",
        "       simple_regret_gp_4[slice2],\n",
        "       simple_regret_gp_5[slice2],\n",
        "       simple_regret_gp_6[slice2],\n",
        "       simple_regret_gp_7[slice2],\n",
        "       simple_regret_gp_8[slice2],\n",
        "       simple_regret_gp_9[slice2],\n",
        "       simple_regret_gp_10[slice2],\n",
        "       simple_regret_gp_11[slice2],\n",
        "       simple_regret_gp_12[slice2],\n",
        "       simple_regret_gp_13[slice2],\n",
        "       simple_regret_gp_14[slice2],\n",
        "       simple_regret_gp_15[slice2],\n",
        "       simple_regret_gp_16[slice2],\n",
        "       simple_regret_gp_17[slice2],\n",
        "       simple_regret_gp_18[slice2],\n",
        "       simple_regret_gp_19[slice2],\n",
        "       simple_regret_gp_20[slice2]]\n",
        "\n",
        "stp2 = [simple_regret_stp_1[slice2],\n",
        "       simple_regret_stp_2[slice2],\n",
        "       simple_regret_stp_3[slice2],\n",
        "       simple_regret_stp_4[slice2],\n",
        "       simple_regret_stp_5[slice2],\n",
        "       simple_regret_stp_6[slice2],\n",
        "       simple_regret_stp_7[slice2],\n",
        "       simple_regret_stp_8[slice2],\n",
        "       simple_regret_stp_9[slice2],\n",
        "       simple_regret_stp_10[slice2],\n",
        "       simple_regret_stp_11[slice2],\n",
        "       simple_regret_stp_12[slice2],\n",
        "       simple_regret_stp_13[slice2],\n",
        "       simple_regret_stp_14[slice2],\n",
        "       simple_regret_stp_15[slice2],\n",
        "       simple_regret_stp_16[slice2],\n",
        "       simple_regret_stp_17[slice2],\n",
        "       simple_regret_stp_18[slice2],\n",
        "       simple_regret_stp_19[slice2],\n",
        "       simple_regret_stp_20[slice2]]\n",
        "\n",
        "gp2_results = pd.DataFrame(gp2).sort_values(by=[0], ascending=False)\n",
        "stp2_results = pd.DataFrame(stp2).sort_values(by=[0], ascending=False)\n",
        "\n",
        "### Best training regret minimization IQR - gp:\n",
        "lower_gp2 = np.asarray(gp2_results[4:5][0])[0]\n",
        "median_gp2 = np.asarray(gp2_results[9:10][0])[0]\n",
        "upper_gp2 = np.asarray(gp2_results[14:15][0])[0]\n",
        "\n",
        "lower_stp2 = np.asarray(stp2_results[4:5][0])[0]\n",
        "median_stp2 = np.asarray(stp2_results[9:10][0])[0]\n",
        "upper_stp2 = np.asarray(stp2_results[14:15][0])[0]\n"
      ]
    },
    {
      "cell_type": "code",
      "execution_count": 76,
      "metadata": {
        "id": "8dIyaTLKJLlc"
      },
      "outputs": [],
      "source": [
        "# Iteration12 :\n",
        "\n",
        "slice12 = 11\n",
        "\n",
        "gp12 = [simple_regret_gp_1[slice12],\n",
        "       simple_regret_gp_2[slice12],\n",
        "       simple_regret_gp_3[slice12],\n",
        "       simple_regret_gp_4[slice12],\n",
        "       simple_regret_gp_5[slice12],\n",
        "       simple_regret_gp_6[slice12],\n",
        "       simple_regret_gp_7[slice12],\n",
        "       simple_regret_gp_8[slice12],\n",
        "       simple_regret_gp_9[slice12],\n",
        "       simple_regret_gp_10[slice12],\n",
        "       simple_regret_gp_11[slice12],\n",
        "       simple_regret_gp_12[slice12],\n",
        "       simple_regret_gp_13[slice12],\n",
        "       simple_regret_gp_14[slice12],\n",
        "       simple_regret_gp_15[slice12],\n",
        "       simple_regret_gp_16[slice12],\n",
        "       simple_regret_gp_17[slice12],\n",
        "       simple_regret_gp_18[slice12],\n",
        "       simple_regret_gp_19[slice12],\n",
        "       simple_regret_gp_20[slice12]]\n",
        "\n",
        "stp12 = [simple_regret_stp_1[slice12],\n",
        "       simple_regret_stp_2[slice12],\n",
        "       simple_regret_stp_3[slice12],\n",
        "       simple_regret_stp_4[slice12],\n",
        "       simple_regret_stp_5[slice12],\n",
        "       simple_regret_stp_6[slice12],\n",
        "       simple_regret_stp_7[slice12],\n",
        "       simple_regret_stp_8[slice12],\n",
        "       simple_regret_stp_9[slice12],\n",
        "       simple_regret_stp_10[slice12],\n",
        "       simple_regret_stp_11[slice12],\n",
        "       simple_regret_stp_12[slice12],\n",
        "       simple_regret_stp_13[slice12],\n",
        "       simple_regret_stp_14[slice12],\n",
        "       simple_regret_stp_15[slice12],\n",
        "       simple_regret_stp_16[slice12],\n",
        "       simple_regret_stp_17[slice12],\n",
        "       simple_regret_stp_18[slice12],\n",
        "       simple_regret_stp_19[slice12],\n",
        "       simple_regret_stp_20[slice12]]\n",
        "\n",
        "gp12_results = pd.DataFrame(gp12).sort_values(by=[0], ascending=False)\n",
        "stp12_results = pd.DataFrame(stp12).sort_values(by=[0], ascending=False)\n",
        "\n",
        "### Best training regret minimization IQR - gp:\n",
        "lower_gp12 = np.asarray(gp12_results[4:5][0])[0]\n",
        "median_gp12 = np.asarray(gp12_results[9:10][0])[0]\n",
        "upper_gp12 = np.asarray(gp12_results[14:15][0])[0]\n",
        "\n",
        "lower_stp12 = np.asarray(stp12_results[4:5][0])[0]\n",
        "median_stp12 = np.asarray(stp12_results[9:10][0])[0]\n",
        "upper_stp12 = np.asarray(stp12_results[14:15][0])[0]\n"
      ]
    },
    {
      "cell_type": "code",
      "execution_count": 77,
      "metadata": {
        "id": "1_6u8LF1JLlt"
      },
      "outputs": [],
      "source": [
        "# Iteration3 :\n",
        "\n",
        "slice3 = 2\n",
        "\n",
        "gp3 = [simple_regret_gp_1[slice3],\n",
        "       simple_regret_gp_2[slice3],\n",
        "       simple_regret_gp_3[slice3],\n",
        "       simple_regret_gp_4[slice3],\n",
        "       simple_regret_gp_5[slice3],\n",
        "       simple_regret_gp_6[slice3],\n",
        "       simple_regret_gp_7[slice3],\n",
        "       simple_regret_gp_8[slice3],\n",
        "       simple_regret_gp_9[slice3],\n",
        "       simple_regret_gp_10[slice3],\n",
        "       simple_regret_gp_11[slice3],\n",
        "       simple_regret_gp_12[slice3],\n",
        "       simple_regret_gp_13[slice3],\n",
        "       simple_regret_gp_14[slice3],\n",
        "       simple_regret_gp_15[slice3],\n",
        "       simple_regret_gp_16[slice3],\n",
        "       simple_regret_gp_17[slice3],\n",
        "       simple_regret_gp_18[slice3],\n",
        "       simple_regret_gp_19[slice3],\n",
        "       simple_regret_gp_20[slice3]]\n",
        "\n",
        "stp3 = [simple_regret_stp_1[slice3],\n",
        "       simple_regret_stp_2[slice3],\n",
        "       simple_regret_stp_3[slice3],\n",
        "       simple_regret_stp_4[slice3],\n",
        "       simple_regret_stp_5[slice3],\n",
        "       simple_regret_stp_6[slice3],\n",
        "       simple_regret_stp_7[slice3],\n",
        "       simple_regret_stp_8[slice3],\n",
        "       simple_regret_stp_9[slice3],\n",
        "       simple_regret_stp_10[slice3],\n",
        "       simple_regret_stp_11[slice3],\n",
        "       simple_regret_stp_12[slice3],\n",
        "       simple_regret_stp_13[slice3],\n",
        "       simple_regret_stp_14[slice3],\n",
        "       simple_regret_stp_15[slice3],\n",
        "       simple_regret_stp_16[slice3],\n",
        "       simple_regret_stp_17[slice3],\n",
        "       simple_regret_stp_18[slice3],\n",
        "       simple_regret_stp_19[slice3],\n",
        "       simple_regret_stp_20[slice3]]\n",
        "\n",
        "gp3_results = pd.DataFrame(gp3).sort_values(by=[0], ascending=False)\n",
        "stp3_results = pd.DataFrame(stp3).sort_values(by=[0], ascending=False)\n",
        "\n",
        "### Best training regret minimization IQR - gp:\n",
        "lower_gp3 = np.asarray(gp3_results[4:5][0])[0]\n",
        "median_gp3 = np.asarray(gp3_results[9:10][0])[0]\n",
        "upper_gp3 = np.asarray(gp3_results[14:15][0])[0]\n",
        "\n",
        "lower_stp3 = np.asarray(stp3_results[4:5][0])[0]\n",
        "median_stp3 = np.asarray(stp3_results[9:10][0])[0]\n",
        "upper_stp3 = np.asarray(stp3_results[14:15][0])[0]\n"
      ]
    },
    {
      "cell_type": "code",
      "execution_count": 78,
      "metadata": {
        "id": "GGEAa73pJLlu"
      },
      "outputs": [],
      "source": [
        "# Iteration13 :\n",
        "\n",
        "slice13 = 12\n",
        "\n",
        "gp13 = [simple_regret_gp_1[slice13],\n",
        "       simple_regret_gp_2[slice13],\n",
        "       simple_regret_gp_3[slice13],\n",
        "       simple_regret_gp_4[slice13],\n",
        "       simple_regret_gp_5[slice13],\n",
        "       simple_regret_gp_6[slice13],\n",
        "       simple_regret_gp_7[slice13],\n",
        "       simple_regret_gp_8[slice13],\n",
        "       simple_regret_gp_9[slice13],\n",
        "       simple_regret_gp_10[slice13],\n",
        "       simple_regret_gp_11[slice13],\n",
        "       simple_regret_gp_12[slice13],\n",
        "       simple_regret_gp_13[slice13],\n",
        "       simple_regret_gp_14[slice13],\n",
        "       simple_regret_gp_15[slice13],\n",
        "       simple_regret_gp_16[slice13],\n",
        "       simple_regret_gp_17[slice13],\n",
        "       simple_regret_gp_18[slice13],\n",
        "       simple_regret_gp_19[slice13],\n",
        "       simple_regret_gp_20[slice13]]\n",
        "\n",
        "stp13 = [simple_regret_stp_1[slice13],\n",
        "       simple_regret_stp_2[slice13],\n",
        "       simple_regret_stp_3[slice13],\n",
        "       simple_regret_stp_4[slice13],\n",
        "       simple_regret_stp_5[slice13],\n",
        "       simple_regret_stp_6[slice13],\n",
        "       simple_regret_stp_7[slice13],\n",
        "       simple_regret_stp_8[slice13],\n",
        "       simple_regret_stp_9[slice13],\n",
        "       simple_regret_stp_10[slice13],\n",
        "       simple_regret_stp_11[slice13],\n",
        "       simple_regret_stp_12[slice13],\n",
        "       simple_regret_stp_13[slice13],\n",
        "       simple_regret_stp_14[slice13],\n",
        "       simple_regret_stp_15[slice13],\n",
        "       simple_regret_stp_16[slice13],\n",
        "       simple_regret_stp_17[slice13],\n",
        "       simple_regret_stp_18[slice13],\n",
        "       simple_regret_stp_19[slice13],\n",
        "       simple_regret_stp_20[slice13]]\n",
        "\n",
        "gp13_results = pd.DataFrame(gp12).sort_values(by=[0], ascending=False)\n",
        "stp13_results = pd.DataFrame(stp12).sort_values(by=[0], ascending=False)\n",
        "\n",
        "### Best training regret minimization IQR - gp:\n",
        "lower_gp13 = np.asarray(gp13_results[4:5][0])[0]\n",
        "median_gp13 = np.asarray(gp13_results[9:10][0])[0]\n",
        "upper_gp13 = np.asarray(gp13_results[14:15][0])[0]\n",
        "\n",
        "lower_stp13 = np.asarray(stp13_results[4:5][0])[0]\n",
        "median_stp13 = np.asarray(stp13_results[9:10][0])[0]\n",
        "upper_stp13 = np.asarray(stp13_results[14:15][0])[0]\n"
      ]
    },
    {
      "cell_type": "code",
      "execution_count": 79,
      "metadata": {
        "id": "T30xLxygJLl0"
      },
      "outputs": [],
      "source": [
        "# Iteration4 :\n",
        "\n",
        "slice4 = 3\n",
        "\n",
        "gp4 = [simple_regret_gp_1[slice4],\n",
        "       simple_regret_gp_2[slice4],\n",
        "       simple_regret_gp_3[slice4],\n",
        "       simple_regret_gp_4[slice4],\n",
        "       simple_regret_gp_5[slice4],\n",
        "       simple_regret_gp_6[slice4],\n",
        "       simple_regret_gp_7[slice4],\n",
        "       simple_regret_gp_8[slice4],\n",
        "       simple_regret_gp_9[slice4],\n",
        "       simple_regret_gp_10[slice4],\n",
        "       simple_regret_gp_11[slice4],\n",
        "       simple_regret_gp_12[slice4],\n",
        "       simple_regret_gp_13[slice4],\n",
        "       simple_regret_gp_14[slice4],\n",
        "       simple_regret_gp_15[slice4],\n",
        "       simple_regret_gp_16[slice4],\n",
        "       simple_regret_gp_17[slice4],\n",
        "       simple_regret_gp_18[slice4],\n",
        "       simple_regret_gp_19[slice4],\n",
        "       simple_regret_gp_20[slice4]]\n",
        "\n",
        "stp4 = [simple_regret_stp_1[slice4],\n",
        "       simple_regret_stp_2[slice4],\n",
        "       simple_regret_stp_3[slice4],\n",
        "       simple_regret_stp_4[slice4],\n",
        "       simple_regret_stp_5[slice4],\n",
        "       simple_regret_stp_6[slice4],\n",
        "       simple_regret_stp_7[slice4],\n",
        "       simple_regret_stp_8[slice4],\n",
        "       simple_regret_stp_9[slice4],\n",
        "       simple_regret_stp_10[slice4],\n",
        "       simple_regret_stp_11[slice4],\n",
        "       simple_regret_stp_12[slice4],\n",
        "       simple_regret_stp_13[slice4],\n",
        "       simple_regret_stp_14[slice4],\n",
        "       simple_regret_stp_15[slice4],\n",
        "       simple_regret_stp_16[slice4],\n",
        "       simple_regret_stp_17[slice4],\n",
        "       simple_regret_stp_18[slice4],\n",
        "       simple_regret_stp_19[slice4],\n",
        "       simple_regret_stp_20[slice4]]\n",
        "\n",
        "gp4_results = pd.DataFrame(gp4).sort_values(by=[0], ascending=False)\n",
        "stp4_results = pd.DataFrame(stp4).sort_values(by=[0], ascending=False)\n",
        "\n",
        "### Best training regret minimization IQR - gp:\n",
        "lower_gp4 = np.asarray(gp4_results[4:5][0])[0]\n",
        "median_gp4 = np.asarray(gp4_results[9:10][0])[0]\n",
        "upper_gp4 = np.asarray(gp4_results[14:15][0])[0]\n",
        "\n",
        "lower_stp4 = np.asarray(stp4_results[4:5][0])[0]\n",
        "median_stp4 = np.asarray(stp4_results[9:10][0])[0]\n",
        "upper_stp4 = np.asarray(stp4_results[14:15][0])[0]\n"
      ]
    },
    {
      "cell_type": "code",
      "execution_count": 80,
      "metadata": {
        "id": "MQ-jpNrnJLl1"
      },
      "outputs": [],
      "source": [
        "# Iteration14 :\n",
        "\n",
        "slice14 = 13\n",
        "\n",
        "gp14 = [simple_regret_gp_1[slice14],\n",
        "       simple_regret_gp_2[slice14],\n",
        "       simple_regret_gp_3[slice14],\n",
        "       simple_regret_gp_4[slice14],\n",
        "       simple_regret_gp_5[slice14],\n",
        "       simple_regret_gp_6[slice14],\n",
        "       simple_regret_gp_7[slice14],\n",
        "       simple_regret_gp_8[slice14],\n",
        "       simple_regret_gp_9[slice14],\n",
        "       simple_regret_gp_10[slice14],\n",
        "       simple_regret_gp_11[slice14],\n",
        "       simple_regret_gp_12[slice14],\n",
        "       simple_regret_gp_13[slice14],\n",
        "       simple_regret_gp_14[slice14],\n",
        "       simple_regret_gp_15[slice14],\n",
        "       simple_regret_gp_16[slice14],\n",
        "       simple_regret_gp_17[slice14],\n",
        "       simple_regret_gp_18[slice14],\n",
        "       simple_regret_gp_19[slice14],\n",
        "       simple_regret_gp_20[slice14]]\n",
        "\n",
        "stp14 = [simple_regret_stp_1[slice14],\n",
        "       simple_regret_stp_2[slice14],\n",
        "       simple_regret_stp_3[slice14],\n",
        "       simple_regret_stp_4[slice14],\n",
        "       simple_regret_stp_5[slice14],\n",
        "       simple_regret_stp_6[slice14],\n",
        "       simple_regret_stp_7[slice14],\n",
        "       simple_regret_stp_8[slice14],\n",
        "       simple_regret_stp_9[slice14],\n",
        "       simple_regret_stp_10[slice14],\n",
        "       simple_regret_stp_11[slice14],\n",
        "       simple_regret_stp_12[slice14],\n",
        "       simple_regret_stp_13[slice14],\n",
        "       simple_regret_stp_14[slice14],\n",
        "       simple_regret_stp_15[slice14],\n",
        "       simple_regret_stp_16[slice14],\n",
        "       simple_regret_stp_17[slice14],\n",
        "       simple_regret_stp_18[slice14],\n",
        "       simple_regret_stp_19[slice14],\n",
        "       simple_regret_stp_20[slice14]]\n",
        "\n",
        "gp14_results = pd.DataFrame(gp14).sort_values(by=[0], ascending=False)\n",
        "stp14_results = pd.DataFrame(stp14).sort_values(by=[0], ascending=False)\n",
        "\n",
        "### Best training regret minimization IQR - gp:\n",
        "lower_gp14 = np.asarray(gp14_results[4:5][0])[0]\n",
        "median_gp14 = np.asarray(gp14_results[9:10][0])[0]\n",
        "upper_gp14 = np.asarray(gp14_results[14:15][0])[0]\n",
        "\n",
        "lower_stp14 = np.asarray(stp14_results[4:5][0])[0]\n",
        "median_stp14 = np.asarray(stp14_results[9:10][0])[0]\n",
        "upper_stp14 = np.asarray(stp14_results[14:15][0])[0]\n"
      ]
    },
    {
      "cell_type": "code",
      "execution_count": 81,
      "metadata": {
        "id": "Xhy_AN9jJLl9"
      },
      "outputs": [],
      "source": [
        "# Iteration5 :\n",
        "\n",
        "slice5 = 4\n",
        "\n",
        "gp5 = [simple_regret_gp_1[slice5],\n",
        "       simple_regret_gp_2[slice5],\n",
        "       simple_regret_gp_3[slice5],\n",
        "       simple_regret_gp_4[slice5],\n",
        "       simple_regret_gp_5[slice5],\n",
        "       simple_regret_gp_6[slice5],\n",
        "       simple_regret_gp_7[slice5],\n",
        "       simple_regret_gp_8[slice5],\n",
        "       simple_regret_gp_9[slice5],\n",
        "       simple_regret_gp_10[slice5],\n",
        "       simple_regret_gp_11[slice5],\n",
        "       simple_regret_gp_12[slice5],\n",
        "       simple_regret_gp_13[slice5],\n",
        "       simple_regret_gp_14[slice5],\n",
        "       simple_regret_gp_15[slice5],\n",
        "       simple_regret_gp_16[slice5],\n",
        "       simple_regret_gp_17[slice5],\n",
        "       simple_regret_gp_18[slice5],\n",
        "       simple_regret_gp_19[slice5],\n",
        "       simple_regret_gp_20[slice5]]\n",
        "\n",
        "stp5 = [simple_regret_stp_1[slice5],\n",
        "       simple_regret_stp_2[slice5],\n",
        "       simple_regret_stp_3[slice5],\n",
        "       simple_regret_stp_4[slice5],\n",
        "       simple_regret_stp_5[slice5],\n",
        "       simple_regret_stp_6[slice5],\n",
        "       simple_regret_stp_7[slice5],\n",
        "       simple_regret_stp_8[slice5],\n",
        "       simple_regret_stp_9[slice5],\n",
        "       simple_regret_stp_10[slice5],\n",
        "       simple_regret_stp_11[slice5],\n",
        "       simple_regret_stp_12[slice5],\n",
        "       simple_regret_stp_13[slice5],\n",
        "       simple_regret_stp_14[slice5],\n",
        "       simple_regret_stp_15[slice5],\n",
        "       simple_regret_stp_16[slice5],\n",
        "       simple_regret_stp_17[slice5],\n",
        "       simple_regret_stp_18[slice5],\n",
        "       simple_regret_stp_19[slice5],\n",
        "       simple_regret_stp_20[slice5]]\n",
        "\n",
        "gp5_results = pd.DataFrame(gp5).sort_values(by=[0], ascending=False)\n",
        "stp5_results = pd.DataFrame(stp5).sort_values(by=[0], ascending=False)\n",
        "\n",
        "### Best training regret minimization IQR - gp:\n",
        "lower_gp5 = np.asarray(gp5_results[4:5][0])[0]\n",
        "median_gp5 = np.asarray(gp5_results[9:10][0])[0]\n",
        "upper_gp5 = np.asarray(gp5_results[14:15][0])[0]\n",
        "\n",
        "lower_stp5 = np.asarray(stp5_results[4:5][0])[0]\n",
        "median_stp5 = np.asarray(stp5_results[9:10][0])[0]\n",
        "upper_stp5 = np.asarray(stp5_results[14:15][0])[0]\n"
      ]
    },
    {
      "cell_type": "code",
      "execution_count": 82,
      "metadata": {
        "id": "WHbtLHnbJLl-"
      },
      "outputs": [],
      "source": [
        "# Iteration15 :\n",
        "\n",
        "slice15 = 14\n",
        "\n",
        "gp15 = [simple_regret_gp_1[slice15],\n",
        "       simple_regret_gp_2[slice15],\n",
        "       simple_regret_gp_3[slice15],\n",
        "       simple_regret_gp_4[slice15],\n",
        "       simple_regret_gp_5[slice15],\n",
        "       simple_regret_gp_6[slice15],\n",
        "       simple_regret_gp_7[slice15],\n",
        "       simple_regret_gp_8[slice15],\n",
        "       simple_regret_gp_9[slice15],\n",
        "       simple_regret_gp_10[slice15],\n",
        "       simple_regret_gp_11[slice15],\n",
        "       simple_regret_gp_12[slice15],\n",
        "       simple_regret_gp_13[slice15],\n",
        "       simple_regret_gp_14[slice15],\n",
        "       simple_regret_gp_15[slice15],\n",
        "       simple_regret_gp_16[slice15],\n",
        "       simple_regret_gp_17[slice15],\n",
        "       simple_regret_gp_18[slice15],\n",
        "       simple_regret_gp_19[slice15],\n",
        "       simple_regret_gp_20[slice15]]\n",
        "\n",
        "stp15 = [simple_regret_stp_1[slice15],\n",
        "       simple_regret_stp_2[slice15],\n",
        "       simple_regret_stp_3[slice15],\n",
        "       simple_regret_stp_4[slice15],\n",
        "       simple_regret_stp_5[slice15],\n",
        "       simple_regret_stp_6[slice15],\n",
        "       simple_regret_stp_7[slice15],\n",
        "       simple_regret_stp_8[slice15],\n",
        "       simple_regret_stp_9[slice15],\n",
        "       simple_regret_stp_10[slice15],\n",
        "       simple_regret_stp_11[slice15],\n",
        "       simple_regret_stp_12[slice15],\n",
        "       simple_regret_stp_13[slice15],\n",
        "       simple_regret_stp_14[slice15],\n",
        "       simple_regret_stp_15[slice15],\n",
        "       simple_regret_stp_16[slice15],\n",
        "       simple_regret_stp_17[slice15],\n",
        "       simple_regret_stp_18[slice15],\n",
        "       simple_regret_stp_19[slice15],\n",
        "       simple_regret_stp_20[slice15]]\n",
        "\n",
        "gp15_results = pd.DataFrame(gp15).sort_values(by=[0], ascending=False)\n",
        "stp15_results = pd.DataFrame(stp15).sort_values(by=[0], ascending=False)\n",
        "\n",
        "### Best training regret minimization IQR - gp:\n",
        "lower_gp15 = np.asarray(gp15_results[4:5][0])[0]\n",
        "median_gp15 = np.asarray(gp15_results[9:10][0])[0]\n",
        "upper_gp15 = np.asarray(gp15_results[14:15][0])[0]\n",
        "\n",
        "lower_stp15 = np.asarray(stp15_results[4:5][0])[0]\n",
        "median_stp15 = np.asarray(stp15_results[9:10][0])[0]\n",
        "upper_stp15 = np.asarray(stp15_results[14:15][0])[0]\n"
      ]
    },
    {
      "cell_type": "code",
      "execution_count": 83,
      "metadata": {
        "id": "XqsNyHzqJLmC"
      },
      "outputs": [],
      "source": [
        "# Iteration6 :\n",
        "\n",
        "slice6 = 5\n",
        "\n",
        "gp6 = [simple_regret_gp_1[slice6],\n",
        "       simple_regret_gp_2[slice6],\n",
        "       simple_regret_gp_3[slice6],\n",
        "       simple_regret_gp_4[slice6],\n",
        "       simple_regret_gp_5[slice6],\n",
        "       simple_regret_gp_6[slice6],\n",
        "       simple_regret_gp_7[slice6],\n",
        "       simple_regret_gp_8[slice6],\n",
        "       simple_regret_gp_9[slice6],\n",
        "       simple_regret_gp_10[slice6],\n",
        "       simple_regret_gp_11[slice6],\n",
        "       simple_regret_gp_12[slice6],\n",
        "       simple_regret_gp_13[slice6],\n",
        "       simple_regret_gp_14[slice6],\n",
        "       simple_regret_gp_15[slice6],\n",
        "       simple_regret_gp_16[slice6],\n",
        "       simple_regret_gp_17[slice6],\n",
        "       simple_regret_gp_18[slice6],\n",
        "       simple_regret_gp_19[slice6],\n",
        "       simple_regret_gp_20[slice6]]\n",
        "\n",
        "stp6 = [simple_regret_stp_1[slice6],\n",
        "       simple_regret_stp_2[slice6],\n",
        "       simple_regret_stp_3[slice6],\n",
        "       simple_regret_stp_4[slice6],\n",
        "       simple_regret_stp_5[slice6],\n",
        "       simple_regret_stp_6[slice6],\n",
        "       simple_regret_stp_7[slice6],\n",
        "       simple_regret_stp_8[slice6],\n",
        "       simple_regret_stp_9[slice6],\n",
        "       simple_regret_stp_10[slice6],\n",
        "       simple_regret_stp_11[slice6],\n",
        "       simple_regret_stp_12[slice6],\n",
        "       simple_regret_stp_13[slice6],\n",
        "       simple_regret_stp_14[slice6],\n",
        "       simple_regret_stp_15[slice6],\n",
        "       simple_regret_stp_16[slice6],\n",
        "       simple_regret_stp_17[slice6],\n",
        "       simple_regret_stp_18[slice6],\n",
        "       simple_regret_stp_19[slice6],\n",
        "       simple_regret_stp_20[slice6]]\n",
        "\n",
        "gp6_results = pd.DataFrame(gp6).sort_values(by=[0], ascending=False)\n",
        "stp6_results = pd.DataFrame(stp6).sort_values(by=[0], ascending=False)\n",
        "\n",
        "### Best training regret minimization IQR - gp:\n",
        "lower_gp6 = np.asarray(gp6_results[4:5][0])[0]\n",
        "median_gp6 = np.asarray(gp6_results[9:10][0])[0]\n",
        "upper_gp6 = np.asarray(gp6_results[14:15][0])[0]\n",
        "\n",
        "lower_stp6 = np.asarray(stp6_results[4:5][0])[0]\n",
        "median_stp6 = np.asarray(stp6_results[9:10][0])[0]\n",
        "upper_stp6 = np.asarray(stp6_results[14:15][0])[0]\n"
      ]
    },
    {
      "cell_type": "code",
      "execution_count": 84,
      "metadata": {
        "id": "V0-8P_clJLmD"
      },
      "outputs": [],
      "source": [
        "# Iteration16 :\n",
        "\n",
        "slice16 = 15\n",
        "\n",
        "gp16 = [simple_regret_gp_1[slice16],\n",
        "       simple_regret_gp_2[slice16],\n",
        "       simple_regret_gp_3[slice16],\n",
        "       simple_regret_gp_4[slice16],\n",
        "       simple_regret_gp_5[slice16],\n",
        "       simple_regret_gp_6[slice16],\n",
        "       simple_regret_gp_7[slice16],\n",
        "       simple_regret_gp_8[slice16],\n",
        "       simple_regret_gp_9[slice16],\n",
        "       simple_regret_gp_10[slice16],\n",
        "       simple_regret_gp_11[slice16],\n",
        "       simple_regret_gp_12[slice16],\n",
        "       simple_regret_gp_13[slice16],\n",
        "       simple_regret_gp_14[slice16],\n",
        "       simple_regret_gp_15[slice16],\n",
        "       simple_regret_gp_16[slice16],\n",
        "       simple_regret_gp_17[slice16],\n",
        "       simple_regret_gp_18[slice16],\n",
        "       simple_regret_gp_19[slice16],\n",
        "       simple_regret_gp_20[slice16]]\n",
        "\n",
        "stp16 = [simple_regret_stp_1[slice16],\n",
        "       simple_regret_stp_2[slice16],\n",
        "       simple_regret_stp_3[slice16],\n",
        "       simple_regret_stp_4[slice16],\n",
        "       simple_regret_stp_5[slice16],\n",
        "       simple_regret_stp_6[slice16],\n",
        "       simple_regret_stp_7[slice16],\n",
        "       simple_regret_stp_8[slice16],\n",
        "       simple_regret_stp_9[slice16],\n",
        "       simple_regret_stp_10[slice16],\n",
        "       simple_regret_stp_11[slice16],\n",
        "       simple_regret_stp_12[slice16],\n",
        "       simple_regret_stp_13[slice16],\n",
        "       simple_regret_stp_14[slice16],\n",
        "       simple_regret_stp_15[slice16],\n",
        "       simple_regret_stp_16[slice16],\n",
        "       simple_regret_stp_17[slice16],\n",
        "       simple_regret_stp_18[slice16],\n",
        "       simple_regret_stp_19[slice16],\n",
        "       simple_regret_stp_20[slice16]]\n",
        "\n",
        "gp16_results = pd.DataFrame(gp16).sort_values(by=[0], ascending=False)\n",
        "stp16_results = pd.DataFrame(stp16).sort_values(by=[0], ascending=False)\n",
        "\n",
        "### Best training regret minimization IQR - gp:\n",
        "lower_gp16 = np.asarray(gp16_results[4:5][0])[0]\n",
        "median_gp16 = np.asarray(gp16_results[9:10][0])[0]\n",
        "upper_gp16 = np.asarray(gp16_results[14:15][0])[0]\n",
        "\n",
        "lower_stp16 = np.asarray(stp16_results[4:5][0])[0]\n",
        "median_stp16 = np.asarray(stp16_results[9:10][0])[0]\n",
        "upper_stp16 = np.asarray(stp16_results[14:15][0])[0]\n"
      ]
    },
    {
      "cell_type": "code",
      "execution_count": 85,
      "metadata": {
        "id": "OcLUACB0JLmM"
      },
      "outputs": [],
      "source": [
        "# Iteration7 :\n",
        "\n",
        "slice7 = 6\n",
        "\n",
        "gp7 = [simple_regret_gp_1[slice7],\n",
        "       simple_regret_gp_2[slice7],\n",
        "       simple_regret_gp_3[slice7],\n",
        "       simple_regret_gp_4[slice7],\n",
        "       simple_regret_gp_5[slice7],\n",
        "       simple_regret_gp_6[slice7],\n",
        "       simple_regret_gp_7[slice7],\n",
        "       simple_regret_gp_8[slice7],\n",
        "       simple_regret_gp_9[slice7],\n",
        "       simple_regret_gp_10[slice7],\n",
        "       simple_regret_gp_11[slice7],\n",
        "       simple_regret_gp_12[slice7],\n",
        "       simple_regret_gp_13[slice7],\n",
        "       simple_regret_gp_14[slice7],\n",
        "       simple_regret_gp_15[slice7],\n",
        "       simple_regret_gp_16[slice7],\n",
        "       simple_regret_gp_17[slice7],\n",
        "       simple_regret_gp_18[slice7],\n",
        "       simple_regret_gp_19[slice7],\n",
        "       simple_regret_gp_20[slice7]]\n",
        "\n",
        "stp7 = [simple_regret_stp_1[slice7],\n",
        "       simple_regret_stp_2[slice7],\n",
        "       simple_regret_stp_3[slice7],\n",
        "       simple_regret_stp_4[slice7],\n",
        "       simple_regret_stp_5[slice7],\n",
        "       simple_regret_stp_6[slice7],\n",
        "       simple_regret_stp_7[slice7],\n",
        "       simple_regret_stp_8[slice7],\n",
        "       simple_regret_stp_9[slice7],\n",
        "       simple_regret_stp_10[slice7],\n",
        "       simple_regret_stp_11[slice7],\n",
        "       simple_regret_stp_12[slice7],\n",
        "       simple_regret_stp_13[slice7],\n",
        "       simple_regret_stp_14[slice7],\n",
        "       simple_regret_stp_15[slice7],\n",
        "       simple_regret_stp_16[slice7],\n",
        "       simple_regret_stp_17[slice7],\n",
        "       simple_regret_stp_18[slice7],\n",
        "       simple_regret_stp_19[slice7],\n",
        "       simple_regret_stp_20[slice7]]\n",
        "\n",
        "gp7_results = pd.DataFrame(gp7).sort_values(by=[0], ascending=False)\n",
        "stp7_results = pd.DataFrame(stp7).sort_values(by=[0], ascending=False)\n",
        "\n",
        "### Best training regret minimization IQR - gp:\n",
        "lower_gp7 = np.asarray(gp7_results[4:5][0])[0]\n",
        "median_gp7 = np.asarray(gp7_results[9:10][0])[0]\n",
        "upper_gp7 = np.asarray(gp7_results[14:15][0])[0]\n",
        "\n",
        "lower_stp7 = np.asarray(stp7_results[4:5][0])[0]\n",
        "median_stp7 = np.asarray(stp7_results[9:10][0])[0]\n",
        "upper_stp7 = np.asarray(stp7_results[14:15][0])[0]\n"
      ]
    },
    {
      "cell_type": "code",
      "execution_count": 86,
      "metadata": {
        "id": "q-Fd0t3kJLmN"
      },
      "outputs": [],
      "source": [
        "# Iteration17 :\n",
        "\n",
        "slice17 = 16\n",
        "\n",
        "gp17 = [simple_regret_gp_1[slice17],\n",
        "       simple_regret_gp_2[slice17],\n",
        "       simple_regret_gp_3[slice17],\n",
        "       simple_regret_gp_4[slice17],\n",
        "       simple_regret_gp_5[slice17],\n",
        "       simple_regret_gp_6[slice17],\n",
        "       simple_regret_gp_7[slice17],\n",
        "       simple_regret_gp_8[slice17],\n",
        "       simple_regret_gp_9[slice17],\n",
        "       simple_regret_gp_10[slice17],\n",
        "       simple_regret_gp_11[slice17],\n",
        "       simple_regret_gp_12[slice17],\n",
        "       simple_regret_gp_13[slice17],\n",
        "       simple_regret_gp_14[slice17],\n",
        "       simple_regret_gp_15[slice17],\n",
        "       simple_regret_gp_16[slice17],\n",
        "       simple_regret_gp_17[slice17],\n",
        "       simple_regret_gp_18[slice17],\n",
        "       simple_regret_gp_19[slice17],\n",
        "       simple_regret_gp_20[slice17]]\n",
        "\n",
        "stp17 = [simple_regret_stp_1[slice17],\n",
        "       simple_regret_stp_2[slice17],\n",
        "       simple_regret_stp_3[slice17],\n",
        "       simple_regret_stp_4[slice17],\n",
        "       simple_regret_stp_5[slice17],\n",
        "       simple_regret_stp_6[slice17],\n",
        "       simple_regret_stp_7[slice17],\n",
        "       simple_regret_stp_8[slice17],\n",
        "       simple_regret_stp_9[slice17],\n",
        "       simple_regret_stp_10[slice17],\n",
        "       simple_regret_stp_11[slice17],\n",
        "       simple_regret_stp_12[slice17],\n",
        "       simple_regret_stp_13[slice17],\n",
        "       simple_regret_stp_14[slice17],\n",
        "       simple_regret_stp_15[slice17],\n",
        "       simple_regret_stp_16[slice17],\n",
        "       simple_regret_stp_17[slice17],\n",
        "       simple_regret_stp_18[slice17],\n",
        "       simple_regret_stp_19[slice17],\n",
        "       simple_regret_stp_20[slice17]]\n",
        "\n",
        "gp17_results = pd.DataFrame(gp17).sort_values(by=[0], ascending=False)\n",
        "stp17_results = pd.DataFrame(stp17).sort_values(by=[0], ascending=False)\n",
        "\n",
        "### Best training regret minimization IQR - gp:\n",
        "lower_gp17 = np.asarray(gp17_results[4:5][0])[0]\n",
        "median_gp17 = np.asarray(gp17_results[9:10][0])[0]\n",
        "upper_gp17 = np.asarray(gp17_results[14:15][0])[0]\n",
        "\n",
        "lower_stp17 = np.asarray(stp17_results[4:5][0])[0]\n",
        "median_stp17 = np.asarray(stp17_results[9:10][0])[0]\n",
        "upper_stp17 = np.asarray(stp17_results[14:15][0])[0]\n"
      ]
    },
    {
      "cell_type": "code",
      "execution_count": 87,
      "metadata": {
        "id": "JueXVbnGJLmU"
      },
      "outputs": [],
      "source": [
        "# Iteration8 :\n",
        "\n",
        "slice8 = 7\n",
        "\n",
        "gp8 = [simple_regret_gp_1[slice8],\n",
        "       simple_regret_gp_2[slice8],\n",
        "       simple_regret_gp_3[slice8],\n",
        "       simple_regret_gp_4[slice8],\n",
        "       simple_regret_gp_5[slice8],\n",
        "       simple_regret_gp_6[slice8],\n",
        "       simple_regret_gp_7[slice8],\n",
        "       simple_regret_gp_8[slice8],\n",
        "       simple_regret_gp_9[slice8],\n",
        "       simple_regret_gp_10[slice8],\n",
        "       simple_regret_gp_11[slice8],\n",
        "       simple_regret_gp_12[slice8],\n",
        "       simple_regret_gp_13[slice8],\n",
        "       simple_regret_gp_14[slice8],\n",
        "       simple_regret_gp_15[slice8],\n",
        "       simple_regret_gp_16[slice8],\n",
        "       simple_regret_gp_17[slice8],\n",
        "       simple_regret_gp_18[slice8],\n",
        "       simple_regret_gp_19[slice8],\n",
        "       simple_regret_gp_20[slice8]]\n",
        "\n",
        "stp8 = [simple_regret_stp_1[slice8],\n",
        "       simple_regret_stp_2[slice8],\n",
        "       simple_regret_stp_3[slice8],\n",
        "       simple_regret_stp_4[slice8],\n",
        "       simple_regret_stp_5[slice8],\n",
        "       simple_regret_stp_6[slice8],\n",
        "       simple_regret_stp_7[slice8],\n",
        "       simple_regret_stp_8[slice8],\n",
        "       simple_regret_stp_9[slice8],\n",
        "       simple_regret_stp_10[slice8],\n",
        "       simple_regret_stp_11[slice8],\n",
        "       simple_regret_stp_12[slice8],\n",
        "       simple_regret_stp_13[slice8],\n",
        "       simple_regret_stp_14[slice8],\n",
        "       simple_regret_stp_15[slice8],\n",
        "       simple_regret_stp_16[slice8],\n",
        "       simple_regret_stp_17[slice8],\n",
        "       simple_regret_stp_18[slice8],\n",
        "       simple_regret_stp_19[slice8],\n",
        "       simple_regret_stp_20[slice8]]\n",
        "\n",
        "gp8_results = pd.DataFrame(gp8).sort_values(by=[0], ascending=False)\n",
        "stp8_results = pd.DataFrame(stp8).sort_values(by=[0], ascending=False)\n",
        "\n",
        "### Best training regret minimization IQR - gp:\n",
        "lower_gp8 = np.asarray(gp8_results[4:5][0])[0]\n",
        "median_gp8 = np.asarray(gp8_results[9:10][0])[0]\n",
        "upper_gp8 = np.asarray(gp8_results[14:15][0])[0]\n",
        "\n",
        "lower_stp8 = np.asarray(stp8_results[4:5][0])[0]\n",
        "median_stp8 = np.asarray(stp8_results[9:10][0])[0]\n",
        "upper_stp8 = np.asarray(stp8_results[14:15][0])[0]\n"
      ]
    },
    {
      "cell_type": "code",
      "execution_count": 88,
      "metadata": {
        "id": "mnFJ7maJJLmU"
      },
      "outputs": [],
      "source": [
        "# Iteration18 :\n",
        "\n",
        "slice18 = 17\n",
        "\n",
        "gp18 = [simple_regret_gp_1[slice18],\n",
        "       simple_regret_gp_2[slice18],\n",
        "       simple_regret_gp_3[slice18],\n",
        "       simple_regret_gp_4[slice18],\n",
        "       simple_regret_gp_5[slice18],\n",
        "       simple_regret_gp_6[slice18],\n",
        "       simple_regret_gp_7[slice18],\n",
        "       simple_regret_gp_8[slice18],\n",
        "       simple_regret_gp_9[slice18],\n",
        "       simple_regret_gp_10[slice18],\n",
        "       simple_regret_gp_11[slice18],\n",
        "       simple_regret_gp_12[slice18],\n",
        "       simple_regret_gp_13[slice18],\n",
        "       simple_regret_gp_14[slice18],\n",
        "       simple_regret_gp_15[slice18],\n",
        "       simple_regret_gp_16[slice18],\n",
        "       simple_regret_gp_17[slice18],\n",
        "       simple_regret_gp_18[slice18],\n",
        "       simple_regret_gp_19[slice18],\n",
        "       simple_regret_gp_20[slice18]]\n",
        "\n",
        "stp18 = [simple_regret_stp_1[slice18],\n",
        "       simple_regret_stp_2[slice18],\n",
        "       simple_regret_stp_3[slice18],\n",
        "       simple_regret_stp_4[slice18],\n",
        "       simple_regret_stp_5[slice18],\n",
        "       simple_regret_stp_6[slice18],\n",
        "       simple_regret_stp_7[slice18],\n",
        "       simple_regret_stp_8[slice18],\n",
        "       simple_regret_stp_9[slice18],\n",
        "       simple_regret_stp_10[slice18],\n",
        "       simple_regret_stp_11[slice18],\n",
        "       simple_regret_stp_12[slice18],\n",
        "       simple_regret_stp_13[slice18],\n",
        "       simple_regret_stp_14[slice18],\n",
        "       simple_regret_stp_15[slice18],\n",
        "       simple_regret_stp_16[slice18],\n",
        "       simple_regret_stp_17[slice18],\n",
        "       simple_regret_stp_18[slice18],\n",
        "       simple_regret_stp_19[slice18],\n",
        "       simple_regret_stp_20[slice18]]\n",
        "\n",
        "gp18_results = pd.DataFrame(gp18).sort_values(by=[0], ascending=False)\n",
        "stp18_results = pd.DataFrame(stp18).sort_values(by=[0], ascending=False)\n",
        "\n",
        "### Best training regret minimization IQR - gp:\n",
        "lower_gp18 = np.asarray(gp18_results[4:5][0])[0]\n",
        "median_gp18 = np.asarray(gp18_results[9:10][0])[0]\n",
        "upper_gp18 = np.asarray(gp18_results[14:15][0])[0]\n",
        "\n",
        "lower_stp18 = np.asarray(stp18_results[4:5][0])[0]\n",
        "median_stp18 = np.asarray(stp18_results[9:10][0])[0]\n",
        "upper_stp18 = np.asarray(stp18_results[14:15][0])[0]\n"
      ]
    },
    {
      "cell_type": "code",
      "execution_count": 89,
      "metadata": {
        "id": "ll-p_qWUJLmb"
      },
      "outputs": [],
      "source": [
        "# Iteration9 :\n",
        "\n",
        "slice9 = 8\n",
        "\n",
        "gp9 = [simple_regret_gp_1[slice9],\n",
        "       simple_regret_gp_2[slice9],\n",
        "       simple_regret_gp_3[slice9],\n",
        "       simple_regret_gp_4[slice9],\n",
        "       simple_regret_gp_5[slice9],\n",
        "       simple_regret_gp_6[slice9],\n",
        "       simple_regret_gp_7[slice9],\n",
        "       simple_regret_gp_8[slice9],\n",
        "       simple_regret_gp_9[slice9],\n",
        "       simple_regret_gp_10[slice9],\n",
        "       simple_regret_gp_11[slice9],\n",
        "       simple_regret_gp_12[slice9],\n",
        "       simple_regret_gp_13[slice9],\n",
        "       simple_regret_gp_14[slice9],\n",
        "       simple_regret_gp_15[slice9],\n",
        "       simple_regret_gp_16[slice9],\n",
        "       simple_regret_gp_17[slice9],\n",
        "       simple_regret_gp_18[slice9],\n",
        "       simple_regret_gp_19[slice9],\n",
        "       simple_regret_gp_20[slice9]]\n",
        "\n",
        "stp9 = [simple_regret_stp_1[slice9],\n",
        "       simple_regret_stp_2[slice9],\n",
        "       simple_regret_stp_3[slice9],\n",
        "       simple_regret_stp_4[slice9],\n",
        "       simple_regret_stp_5[slice9],\n",
        "       simple_regret_stp_6[slice9],\n",
        "       simple_regret_stp_7[slice9],\n",
        "       simple_regret_stp_8[slice9],\n",
        "       simple_regret_stp_9[slice9],\n",
        "       simple_regret_stp_10[slice9],\n",
        "       simple_regret_stp_11[slice9],\n",
        "       simple_regret_stp_12[slice9],\n",
        "       simple_regret_stp_13[slice9],\n",
        "       simple_regret_stp_14[slice9],\n",
        "       simple_regret_stp_15[slice9],\n",
        "       simple_regret_stp_16[slice9],\n",
        "       simple_regret_stp_17[slice9],\n",
        "       simple_regret_stp_18[slice9],\n",
        "       simple_regret_stp_19[slice9],\n",
        "       simple_regret_stp_20[slice9]]\n",
        "\n",
        "gp9_results = pd.DataFrame(gp9).sort_values(by=[0], ascending=False)\n",
        "stp9_results = pd.DataFrame(stp9).sort_values(by=[0], ascending=False)\n",
        "\n",
        "### Best training regret minimization IQR - gp:\n",
        "lower_gp9 = np.asarray(gp9_results[4:5][0])[0]\n",
        "median_gp9 = np.asarray(gp9_results[9:10][0])[0]\n",
        "upper_gp9 = np.asarray(gp9_results[14:15][0])[0]\n",
        "\n",
        "lower_stp9 = np.asarray(stp9_results[4:5][0])[0]\n",
        "median_stp9 = np.asarray(stp9_results[9:10][0])[0]\n",
        "upper_stp9 = np.asarray(stp9_results[14:15][0])[0]\n"
      ]
    },
    {
      "cell_type": "code",
      "execution_count": 90,
      "metadata": {
        "id": "G3QVtLpJJLmc"
      },
      "outputs": [],
      "source": [
        "# Iteration19 :\n",
        "\n",
        "slice19 = 18\n",
        "\n",
        "gp19 = [simple_regret_gp_1[slice19],\n",
        "       simple_regret_gp_2[slice19],\n",
        "       simple_regret_gp_3[slice19],\n",
        "       simple_regret_gp_4[slice19],\n",
        "       simple_regret_gp_5[slice19],\n",
        "       simple_regret_gp_6[slice19],\n",
        "       simple_regret_gp_7[slice19],\n",
        "       simple_regret_gp_8[slice19],\n",
        "       simple_regret_gp_9[slice19],\n",
        "       simple_regret_gp_10[slice19],\n",
        "       simple_regret_gp_11[slice19],\n",
        "       simple_regret_gp_12[slice19],\n",
        "       simple_regret_gp_13[slice19],\n",
        "       simple_regret_gp_14[slice19],\n",
        "       simple_regret_gp_15[slice19],\n",
        "       simple_regret_gp_16[slice19],\n",
        "       simple_regret_gp_17[slice19],\n",
        "       simple_regret_gp_18[slice19],\n",
        "       simple_regret_gp_19[slice19],\n",
        "       simple_regret_gp_20[slice19]]\n",
        "\n",
        "stp19 = [simple_regret_stp_1[slice19],\n",
        "       simple_regret_stp_2[slice19],\n",
        "       simple_regret_stp_3[slice19],\n",
        "       simple_regret_stp_4[slice19],\n",
        "       simple_regret_stp_5[slice19],\n",
        "       simple_regret_stp_6[slice19],\n",
        "       simple_regret_stp_7[slice19],\n",
        "       simple_regret_stp_8[slice19],\n",
        "       simple_regret_stp_9[slice19],\n",
        "       simple_regret_stp_10[slice19],\n",
        "       simple_regret_stp_11[slice19],\n",
        "       simple_regret_stp_12[slice19],\n",
        "       simple_regret_stp_13[slice19],\n",
        "       simple_regret_stp_14[slice19],\n",
        "       simple_regret_stp_15[slice19],\n",
        "       simple_regret_stp_16[slice19],\n",
        "       simple_regret_stp_17[slice19],\n",
        "       simple_regret_stp_18[slice19],\n",
        "       simple_regret_stp_19[slice19],\n",
        "       simple_regret_stp_20[slice19]]\n",
        "\n",
        "gp19_results = pd.DataFrame(gp19).sort_values(by=[0], ascending=False)\n",
        "stp19_results = pd.DataFrame(stp19).sort_values(by=[0], ascending=False)\n",
        "\n",
        "### Best training regret minimization IQR - gp:\n",
        "lower_gp19 = np.asarray(gp19_results[4:5][0])[0]\n",
        "median_gp19 = np.asarray(gp19_results[9:10][0])[0]\n",
        "upper_gp19 = np.asarray(gp19_results[14:15][0])[0]\n",
        "\n",
        "lower_stp19 = np.asarray(stp19_results[4:5][0])[0]\n",
        "median_stp19 = np.asarray(stp19_results[9:10][0])[0]\n",
        "upper_stp19 = np.asarray(stp19_results[14:15][0])[0]\n"
      ]
    },
    {
      "cell_type": "code",
      "execution_count": 91,
      "metadata": {
        "id": "IzQng-ULJLmj"
      },
      "outputs": [],
      "source": [
        "# Iteration10 :\n",
        "\n",
        "slice10 = 9\n",
        "\n",
        "gp10 = [simple_regret_gp_1[slice10],\n",
        "       simple_regret_gp_2[slice10],\n",
        "       simple_regret_gp_3[slice10],\n",
        "       simple_regret_gp_4[slice10],\n",
        "       simple_regret_gp_5[slice10],\n",
        "       simple_regret_gp_6[slice10],\n",
        "       simple_regret_gp_7[slice10],\n",
        "       simple_regret_gp_8[slice10],\n",
        "       simple_regret_gp_9[slice10],\n",
        "       simple_regret_gp_10[slice10],\n",
        "       simple_regret_gp_11[slice10],\n",
        "       simple_regret_gp_12[slice10],\n",
        "       simple_regret_gp_13[slice10],\n",
        "       simple_regret_gp_14[slice10],\n",
        "       simple_regret_gp_15[slice10],\n",
        "       simple_regret_gp_16[slice10],\n",
        "       simple_regret_gp_17[slice10],\n",
        "       simple_regret_gp_18[slice10],\n",
        "       simple_regret_gp_19[slice10],\n",
        "       simple_regret_gp_20[slice10]]\n",
        "\n",
        "stp10 = [simple_regret_stp_1[slice10],\n",
        "       simple_regret_stp_2[slice10],\n",
        "       simple_regret_stp_3[slice10],\n",
        "       simple_regret_stp_4[slice10],\n",
        "       simple_regret_stp_5[slice10],\n",
        "       simple_regret_stp_6[slice10],\n",
        "       simple_regret_stp_7[slice10],\n",
        "       simple_regret_stp_8[slice10],\n",
        "       simple_regret_stp_9[slice10],\n",
        "       simple_regret_stp_10[slice10],\n",
        "       simple_regret_stp_11[slice10],\n",
        "       simple_regret_stp_12[slice10],\n",
        "       simple_regret_stp_13[slice10],\n",
        "       simple_regret_stp_14[slice10],\n",
        "       simple_regret_stp_15[slice10],\n",
        "       simple_regret_stp_16[slice10],\n",
        "       simple_regret_stp_17[slice10],\n",
        "       simple_regret_stp_18[slice10],\n",
        "       simple_regret_stp_19[slice10],\n",
        "       simple_regret_stp_20[slice10]]\n",
        "\n",
        "gp10_results = pd.DataFrame(gp10).sort_values(by=[0], ascending=False)\n",
        "stp10_results = pd.DataFrame(stp10).sort_values(by=[0], ascending=False)\n",
        "\n",
        "### Best training regret minimization IQR - gp:\n",
        "lower_gp10 = np.asarray(gp10_results[4:5][0])[0]\n",
        "median_gp10 = np.asarray(gp10_results[9:10][0])[0]\n",
        "upper_gp10 = np.asarray(gp10_results[14:15][0])[0]\n",
        "\n",
        "lower_stp10 = np.asarray(stp10_results[4:5][0])[0]\n",
        "median_stp10 = np.asarray(stp10_results[9:10][0])[0]\n",
        "upper_stp10 = np.asarray(stp10_results[14:15][0])[0]\n"
      ]
    },
    {
      "cell_type": "code",
      "execution_count": 92,
      "metadata": {
        "id": "DQ_Cuh-4JLmk"
      },
      "outputs": [],
      "source": [
        "# Iteration20 :\n",
        "\n",
        "slice20 = 19\n",
        "\n",
        "gp20 = [simple_regret_gp_1[slice20],\n",
        "       simple_regret_gp_2[slice20],\n",
        "       simple_regret_gp_3[slice20],\n",
        "       simple_regret_gp_4[slice20],\n",
        "       simple_regret_gp_5[slice20],\n",
        "       simple_regret_gp_6[slice20],\n",
        "       simple_regret_gp_7[slice20],\n",
        "       simple_regret_gp_8[slice20],\n",
        "       simple_regret_gp_9[slice20],\n",
        "       simple_regret_gp_10[slice20],\n",
        "       simple_regret_gp_11[slice20],\n",
        "       simple_regret_gp_12[slice20],\n",
        "       simple_regret_gp_13[slice20],\n",
        "       simple_regret_gp_14[slice20],\n",
        "       simple_regret_gp_15[slice20],\n",
        "       simple_regret_gp_16[slice20],\n",
        "       simple_regret_gp_17[slice20],\n",
        "       simple_regret_gp_18[slice20],\n",
        "       simple_regret_gp_19[slice20],\n",
        "       simple_regret_gp_20[slice20]]\n",
        "\n",
        "stp20 = [simple_regret_stp_1[slice20],\n",
        "       simple_regret_stp_2[slice20],\n",
        "       simple_regret_stp_3[slice20],\n",
        "       simple_regret_stp_4[slice20],\n",
        "       simple_regret_stp_5[slice20],\n",
        "       simple_regret_stp_6[slice20],\n",
        "       simple_regret_stp_7[slice20],\n",
        "       simple_regret_stp_8[slice20],\n",
        "       simple_regret_stp_9[slice20],\n",
        "       simple_regret_stp_10[slice20],\n",
        "       simple_regret_stp_11[slice20],\n",
        "       simple_regret_stp_12[slice20],\n",
        "       simple_regret_stp_13[slice20],\n",
        "       simple_regret_stp_14[slice20],\n",
        "       simple_regret_stp_15[slice20],\n",
        "       simple_regret_stp_16[slice20],\n",
        "       simple_regret_stp_17[slice20],\n",
        "       simple_regret_stp_18[slice20],\n",
        "       simple_regret_stp_19[slice20],\n",
        "       simple_regret_stp_20[slice20]]\n",
        "\n",
        "gp20_results = pd.DataFrame(gp20).sort_values(by=[0], ascending=False)\n",
        "stp20_results = pd.DataFrame(stp20).sort_values(by=[0], ascending=False)\n",
        "\n",
        "### Best training regret minimization IQR - gp:\n",
        "lower_gp20 = np.asarray(gp20_results[4:5][0])[0]\n",
        "median_gp20 = np.asarray(gp20_results[9:10][0])[0]\n",
        "upper_gp20 = np.asarray(gp20_results[14:15][0])[0]\n",
        "\n",
        "lower_stp20 = np.asarray(stp20_results[4:5][0])[0]\n",
        "median_stp20 = np.asarray(stp20_results[9:10][0])[0]\n",
        "upper_stp20 = np.asarray(stp20_results[14:15][0])[0]\n"
      ]
    },
    {
      "cell_type": "code",
      "execution_count": 93,
      "metadata": {
        "id": "R1gk3HGTJLms"
      },
      "outputs": [],
      "source": [
        "### Summarise arrays: 'GP'\n",
        "\n",
        "lower_gp = [lower_gp1,\n",
        "            lower_gp2,\n",
        "            lower_gp3,\n",
        "            lower_gp4,\n",
        "            lower_gp5,\n",
        "            lower_gp6,\n",
        "            lower_gp7,\n",
        "            lower_gp8,\n",
        "            lower_gp9,\n",
        "            lower_gp10,\n",
        "            lower_gp11,\n",
        "            lower_gp12,\n",
        "            lower_gp13,\n",
        "            lower_gp14,\n",
        "            lower_gp15,\n",
        "            lower_gp16,\n",
        "            lower_gp17,\n",
        "            lower_gp18,\n",
        "            lower_gp19,\n",
        "            lower_gp20,\n",
        "            lower_gp21]\n",
        "\n",
        "median_gp = [median_gp1,\n",
        "            median_gp2,\n",
        "            median_gp3,\n",
        "            median_gp4,\n",
        "            median_gp5,\n",
        "            median_gp6,\n",
        "            median_gp7,\n",
        "            median_gp8,\n",
        "            median_gp9,\n",
        "            median_gp10,\n",
        "            median_gp11,\n",
        "            median_gp12,\n",
        "            median_gp13,\n",
        "            median_gp14,\n",
        "            median_gp15,\n",
        "            median_gp16,\n",
        "            median_gp17,\n",
        "            median_gp18,\n",
        "            median_gp19,\n",
        "            median_gp20,\n",
        "            median_gp21]\n",
        "\n",
        "upper_gp = [upper_gp1,\n",
        "            upper_gp2,\n",
        "            upper_gp3,\n",
        "            upper_gp4,\n",
        "            upper_gp5,\n",
        "            upper_gp6,\n",
        "            upper_gp7,\n",
        "            upper_gp8,\n",
        "            upper_gp9,\n",
        "            upper_gp10,\n",
        "            upper_gp11,\n",
        "            upper_gp12,\n",
        "            upper_gp13,\n",
        "            upper_gp14,\n",
        "            upper_gp15,\n",
        "            upper_gp16,\n",
        "            upper_gp17,\n",
        "            upper_gp18,\n",
        "            upper_gp19,\n",
        "            upper_gp20,\n",
        "            upper_gp21]\n"
      ]
    },
    {
      "cell_type": "code",
      "execution_count": 94,
      "metadata": {
        "id": "jox8uqaeJLmu"
      },
      "outputs": [],
      "source": [
        "### Summarise arrays: 'STP'\n",
        "\n",
        "lower_stp = [lower_stp1,\n",
        "            lower_stp2,\n",
        "            lower_stp3,\n",
        "            lower_stp4,\n",
        "            lower_stp5,\n",
        "            lower_stp6,\n",
        "            lower_stp7,\n",
        "            lower_stp8,\n",
        "            lower_stp9,\n",
        "            lower_stp10,\n",
        "            lower_stp11,\n",
        "            lower_stp12,\n",
        "            lower_stp13,\n",
        "            lower_stp14,\n",
        "            lower_stp15,\n",
        "            lower_stp16,\n",
        "            lower_stp17,\n",
        "            lower_stp18,\n",
        "            lower_stp19,\n",
        "            lower_stp20,\n",
        "            lower_stp21]\n",
        "\n",
        "median_stp = [median_stp1,\n",
        "            median_stp2,\n",
        "            median_stp3,\n",
        "            median_stp4,\n",
        "            median_stp5,\n",
        "            median_stp6,\n",
        "            median_stp7,\n",
        "            median_stp8,\n",
        "            median_stp9,\n",
        "            median_stp10,\n",
        "            median_stp11,\n",
        "            median_stp12,\n",
        "            median_stp13,\n",
        "            median_stp14,\n",
        "            median_stp15,\n",
        "            median_stp16,\n",
        "            median_stp17,\n",
        "            median_stp18,\n",
        "            median_stp19,\n",
        "            median_stp20,\n",
        "            median_stp21]\n",
        "\n",
        "upper_stp = [upper_stp1,\n",
        "            upper_stp2,\n",
        "            upper_stp3,\n",
        "            upper_stp4,\n",
        "            upper_stp5,\n",
        "            upper_stp6,\n",
        "            upper_stp7,\n",
        "            upper_stp8,\n",
        "            upper_stp9,\n",
        "            upper_stp10,\n",
        "            upper_stp11,\n",
        "            upper_stp12,\n",
        "            upper_stp13,\n",
        "            upper_stp14,\n",
        "            upper_stp15,\n",
        "            upper_stp16,\n",
        "            upper_stp17,\n",
        "            upper_stp18,\n",
        "            upper_stp19,\n",
        "            upper_stp20,\n",
        "            upper_stp21]\n"
      ]
    },
    {
      "cell_type": "code",
      "execution_count": 95,
      "metadata": {
        "id": "W4hkYeeMJLmw",
        "colab": {
          "base_uri": "https://localhost:8080/",
          "height": 299
        },
        "outputId": "ae8e548b-6fce-4fb2-9850-e034db96fbaa"
      },
      "outputs": [
        {
          "output_type": "display_data",
          "data": {
            "text/plain": [
              "<Figure size 432x288 with 1 Axes>"
            ],
            "image/png": "[encoded data removed]"
          },
          "metadata": {
            "needs_background": "light"
          }
        }
      ],
      "source": [
        "### Visualise!\n",
        "\n",
        "title = obj_func\n",
        "\n",
        "plt.figure()\n",
        "\n",
        "plt.plot(median_gp, color = 'Red')\n",
        "plt.plot(median_stp, color = 'Blue')\n",
        "\n",
        "xstar = np.arange(0, max_iter+1, step=1)\n",
        "plt.fill_between(xstar, lower_gp, upper_gp, facecolor = 'Red', alpha=0.4, label='GP ERM Regret: IQR')\n",
        "plt.fill_between(xstar, lower_stp, upper_stp, facecolor = 'Blue', alpha=0.4, label='STP ERM Regret: IQR ' r'($\\nu$' ' = {})'.format(df))\n",
        "\n",
        "plt.title(title, weight = 'bold')\n",
        "plt.xlabel('(Post-initialisation) iteration $\\it{k}$', weight = 'bold') # x-axis label\n",
        "plt.ylabel('log(Regret)', weight = 'bold') # y-axis label\n",
        "plt.legend(loc=0) # add plot legend\n",
        "\n",
        "### Make the x-ticks integers, not floats:\n",
        "count = len(xstar)\n",
        "plt.xticks(np.arange(count), np.arange(0, count))\n",
        "plt.show() #visualise!\n"
      ]
    },
    {
      "cell_type": "code",
      "execution_count": 95,
      "metadata": {
        "id": "5TOZMC49JLmw"
      },
      "outputs": [],
      "source": []
    }
  ],
  "metadata": {
    "kernelspec": {
      "display_name": "Python 3",
      "language": "python",
      "name": "python3"
    },
    "language_info": {
      "codemirror_mode": {
        "name": "ipython",
        "version": 3
      },
      "file_extension": ".py",
      "mimetype": "text/x-python",
      "name": "python",
      "nbconvert_exporter": "python",
      "pygments_lexer": "ipython3",
      "version": "3.6.5"
    },
    "colab": {
      "provenance": [],
      "collapsed_sections": []
    }
  },
  "nbformat": 4,
  "nbformat_minor": 0
}