{
  "cells": [
    {
      "cell_type": "markdown",
      "metadata": {
        "id": "OrYfJFnSJLkS"
      },
      "source": [
        "Booth synthetic function:\n",
        "\n",
        "GP ERM versus STP nu = 3 ERM (winner)\n",
        "\n",
        "https://www.sfu.ca/~ssurjano/camel6.html"
      ]
    },
    {
      "cell_type": "code",
      "source": [
        "pip install pyGPGO\n"
      ],
      "metadata": {
        "colab": {
          "base_uri": "https://localhost:8080/"
        },
        "id": "2FgAmLMpOX3c",
        "outputId": "1e848328-4c36-40aa-d17a-1dff2dc3e66e"
      },
      "execution_count": null,
      "outputs": [
        {
          "output_type": "stream",
          "name": "stdout",
          "text": [
            "Looking in indexes: https://pypi.org/simple, https://us-python.pkg.dev/colab-wheels/public/simple/\n",
            "Requirement already satisfied: pyGPGO in /usr/local/lib/python3.7/dist-packages (0.5.1)\n",
            "Requirement already satisfied: mkl in /usr/local/lib/python3.7/dist-packages (from pyGPGO) (2019.0)\n",
            "Requirement already satisfied: numpy in /usr/local/lib/python3.7/dist-packages (from pyGPGO) (1.21.6)\n",
            "Requirement already satisfied: joblib in /usr/local/lib/python3.7/dist-packages (from pyGPGO) (1.1.0)\n",
            "Requirement already satisfied: scipy in /usr/local/lib/python3.7/dist-packages (from pyGPGO) (1.7.3)\n",
            "Requirement already satisfied: scikit-learn in /usr/local/lib/python3.7/dist-packages (from pyGPGO) (1.0.2)\n",
            "Requirement already satisfied: pyMC3 in /usr/local/lib/python3.7/dist-packages (from pyGPGO) (3.11.5)\n",
            "Requirement already satisfied: Theano-PyMC in /usr/local/lib/python3.7/dist-packages (from pyGPGO) (1.1.2)\n",
            "Requirement already satisfied: intel-openmp in /usr/local/lib/python3.7/dist-packages (from mkl->pyGPGO) (2022.1.0)\n",
            "Requirement already satisfied: cachetools>=4.2.1 in /usr/local/lib/python3.7/dist-packages (from pyMC3->pyGPGO) (4.2.4)\n",
            "Requirement already satisfied: dill in /usr/local/lib/python3.7/dist-packages (from pyMC3->pyGPGO) (0.3.5.1)\n",
            "Requirement already satisfied: typing-extensions>=3.7.4 in /usr/local/lib/python3.7/dist-packages (from pyMC3->pyGPGO) (4.1.1)\n",
            "Requirement already satisfied: semver>=2.13.0 in /usr/local/lib/python3.7/dist-packages (from pyMC3->pyGPGO) (2.13.0)\n",
            "Requirement already satisfied: fastprogress>=0.2.0 in /usr/local/lib/python3.7/dist-packages (from pyMC3->pyGPGO) (1.0.3)\n",
            "Requirement already satisfied: patsy>=0.5.1 in /usr/local/lib/python3.7/dist-packages (from pyMC3->pyGPGO) (0.5.2)\n",
            "Requirement already satisfied: pandas>=0.24.0 in /usr/local/lib/python3.7/dist-packages (from pyMC3->pyGPGO) (1.3.5)\n",
            "Requirement already satisfied: arviz>=0.11.0 in /usr/local/lib/python3.7/dist-packages (from pyMC3->pyGPGO) (0.12.1)\n",
            "Requirement already satisfied: deprecat in /usr/local/lib/python3.7/dist-packages (from pyMC3->pyGPGO) (2.1.1)\n",
            "Requirement already satisfied: filelock in /usr/local/lib/python3.7/dist-packages (from Theano-PyMC->pyGPGO) (3.8.0)\n",
            "Requirement already satisfied: xarray-einstats>=0.2 in /usr/local/lib/python3.7/dist-packages (from arviz>=0.11.0->pyMC3->pyGPGO) (0.2.2)\n",
            "Requirement already satisfied: packaging in /usr/local/lib/python3.7/dist-packages (from arviz>=0.11.0->pyMC3->pyGPGO) (21.3)\n",
            "Requirement already satisfied: xarray>=0.16.1 in /usr/local/lib/python3.7/dist-packages (from arviz>=0.11.0->pyMC3->pyGPGO) (0.20.2)\n",
            "Requirement already satisfied: matplotlib>=3.0 in /usr/local/lib/python3.7/dist-packages (from arviz>=0.11.0->pyMC3->pyGPGO) (3.2.2)\n",
            "Requirement already satisfied: netcdf4 in /usr/local/lib/python3.7/dist-packages (from arviz>=0.11.0->pyMC3->pyGPGO) (1.6.0)\n",
            "Requirement already satisfied: setuptools>=38.4 in /usr/local/lib/python3.7/dist-packages (from arviz>=0.11.0->pyMC3->pyGPGO) (57.4.0)\n",
            "Requirement already satisfied: cycler>=0.10 in /usr/local/lib/python3.7/dist-packages (from matplotlib>=3.0->arviz>=0.11.0->pyMC3->pyGPGO) (0.11.0)\n",
            "Requirement already satisfied: pyparsing!=2.0.4,!=2.1.2,!=2.1.6,>=2.0.1 in /usr/local/lib/python3.7/dist-packages (from matplotlib>=3.0->arviz>=0.11.0->pyMC3->pyGPGO) (3.0.9)\n",
            "Requirement already satisfied: kiwisolver>=1.0.1 in /usr/local/lib/python3.7/dist-packages (from matplotlib>=3.0->arviz>=0.11.0->pyMC3->pyGPGO) (1.4.4)\n",
            "Requirement already satisfied: python-dateutil>=2.1 in /usr/local/lib/python3.7/dist-packages (from matplotlib>=3.0->arviz>=0.11.0->pyMC3->pyGPGO) (2.8.2)\n",
            "Requirement already satisfied: pytz>=2017.3 in /usr/local/lib/python3.7/dist-packages (from pandas>=0.24.0->pyMC3->pyGPGO) (2022.2.1)\n",
            "Requirement already satisfied: six in /usr/local/lib/python3.7/dist-packages (from patsy>=0.5.1->pyMC3->pyGPGO) (1.15.0)\n",
            "Requirement already satisfied: importlib-metadata in /usr/local/lib/python3.7/dist-packages (from xarray>=0.16.1->arviz>=0.11.0->pyMC3->pyGPGO) (4.12.0)\n",
            "Requirement already satisfied: wrapt<2,>=1.10 in /usr/local/lib/python3.7/dist-packages (from deprecat->pyMC3->pyGPGO) (1.14.1)\n",
            "Requirement already satisfied: zipp>=0.5 in /usr/local/lib/python3.7/dist-packages (from importlib-metadata->xarray>=0.16.1->arviz>=0.11.0->pyMC3->pyGPGO) (3.8.1)\n",
            "Requirement already satisfied: cftime in /usr/local/lib/python3.7/dist-packages (from netcdf4->arviz>=0.11.0->pyMC3->pyGPGO) (1.6.1)\n",
            "Requirement already satisfied: threadpoolctl>=2.0.0 in /usr/local/lib/python3.7/dist-packages (from scikit-learn->pyGPGO) (3.1.0)\n"
          ]
        }
      ]
    },
    {
      "cell_type": "code",
      "execution_count": null,
      "metadata": {
        "id": "Dn_SAbhVJLke"
      },
      "outputs": [],
      "source": [
        "### Import modules:\n",
        "\n",
        "import numpy as np\n",
        "import scipy as sp\n",
        "import pandas as pd\n",
        "import matplotlib.pyplot as plt\n",
        "import random\n",
        "import warnings\n",
        "\n",
        "from pyGPGO.logger import EventLogger\n",
        "from pyGPGO.GPGO import GPGO\n",
        "from pyGPGO.surrogates.GaussianProcess import GaussianProcess\n",
        "from pyGPGO.surrogates.tStudentProcess import tStudentProcess, logpdf\n",
        "from pyGPGO.acquisition import Acquisition\n",
        "from pyGPGO.covfunc import squaredExponential\n",
        "\n",
        "from collections import OrderedDict\n",
        "from joblib import Parallel, delayed\n",
        "from numpy.linalg import slogdet, inv, cholesky, solve\n",
        "from scipy.optimize import minimize\n",
        "from scipy.spatial.distance import cdist\n",
        "from scipy.special import gamma\n",
        "from scipy.stats import norm, t\n",
        "from matplotlib.pyplot import rc\n",
        "\n",
        "rc('text', usetex=False)\n",
        "plt.rcParams['text.latex.preamble']=[r'\\usepackage{amsmath}']\n",
        "plt.rcParams['text.latex.preamble'] = [r'\\boldmath']\n",
        "\n",
        "warnings.filterwarnings(\"ignore\", category=FutureWarning)\n",
        "warnings.filterwarnings(\"ignore\", category=RuntimeWarning)\n",
        "warnings.filterwarnings(\"ignore\", category=UserWarning)\n"
      ]
    },
    {
      "cell_type": "code",
      "execution_count": null,
      "metadata": {
        "id": "4Nwg_XO0JLki"
      },
      "outputs": [],
      "source": [
        "### Inputs:\n",
        "\n",
        "obj_func = 'Booth'\n",
        "n_test = 500 # test points\n",
        "df = 3 # nu\n",
        "\n",
        "util_gp = 'RegretMinimized'\n",
        "util_stp = 'tRegretMinimized'\n",
        "n_init = 5 # random initialisations\n",
        "\n",
        "cov_func = squaredExponential()\n",
        "hyperOpt = True\n"
      ]
    },
    {
      "cell_type": "code",
      "execution_count": null,
      "metadata": {
        "id": "DVYGZ6jYJLkj"
      },
      "outputs": [],
      "source": [
        "### Objective function:\n",
        "\n",
        "if obj_func == 'Booth':\n",
        "    \n",
        "    # True y bounds:\n",
        "    y_lb = 0\n",
        "    operator = -1 # targets global minimum \n",
        "    y_global_orig = y_lb * operator # targets global minimum\n",
        "            \n",
        "# Constraints:\n",
        "    lb = -10 \n",
        "    ub = +10\n",
        "\n",
        "# Input array dimension(s):\n",
        "    dim = 2\n",
        "\n",
        "# 2-D inputs' parameter bounds:\n",
        "    param = {'x1_training': ('cont', [lb, ub]),\n",
        "             'x2_training': ('cont', [lb, ub])}\n",
        "    \n",
        "# Test data:\n",
        "    x1_test = np.linspace(lb, ub, n_test)\n",
        "    x2_test = np.linspace(lb, ub, n_test)\n",
        "    Xstar_d = np.column_stack((x1_test, x2_test))\n",
        "\n",
        "    def f_syn_polarity(x1_training, x2_training):\n",
        "        return operator * ( (x1_training + 2 * x2_training -7) ** 2 +\n",
        "                                 (2 * x1_training + x2_training -5) ** 2\n",
        "                            )\n",
        "    "
      ]
    },
    {
      "cell_type": "code",
      "source": [
        "max_iter = dim * 10  # iterations of Bayesian optimisation"
      ],
      "metadata": {
        "id": "S9JivCxiYACE"
      },
      "execution_count": null,
      "outputs": []
    },
    {
      "cell_type": "code",
      "execution_count": null,
      "metadata": {
        "id": "hE7COdNcJLkl"
      },
      "outputs": [],
      "source": [
        "### Cumulative Regret Calculator:\n",
        "\n",
        "def min_max_array(x):\n",
        "    new_list = []\n",
        "    for i, num in enumerate(x):\n",
        "            new_list.append(np.min(x[0:i+1]))\n",
        "    return new_list\n"
      ]
    },
    {
      "cell_type": "code",
      "execution_count": null,
      "metadata": {
        "id": "gkY6wLl_JLkm"
      },
      "outputs": [],
      "source": [
        "### Set-seeds:\n",
        "\n",
        "run_num_1 = 1\n",
        "run_num_2 = 2\n",
        "run_num_3 = 3\n",
        "run_num_4 = 4\n",
        "run_num_5 = 5\n",
        "run_num_6 = 6\n",
        "run_num_7 = 7\n",
        "run_num_8 = 8\n",
        "run_num_9 = 9\n",
        "run_num_10 = 10\n",
        "run_num_11 = 11\n",
        "run_num_12 = 12\n",
        "run_num_13 = 13\n",
        "run_num_14 = 14\n",
        "run_num_15 = 15\n",
        "run_num_16 = 16\n",
        "run_num_17 = 17\n",
        "run_num_18 = 18\n",
        "run_num_19 = 19\n",
        "run_num_20 = 20\n"
      ]
    },
    {
      "cell_type": "code",
      "execution_count": null,
      "metadata": {
        "id": "Mh53nXeyJLko"
      },
      "outputs": [],
      "source": [
        "### Acquisition function - ERM:\n",
        "\n",
        "class Acquisition_new(Acquisition):    \n",
        "    def __init__(self, mode, eps=1e-06, **params):\n",
        "        \n",
        "        self.params = params\n",
        "        self.eps = eps\n",
        "\n",
        "        mode_dict = {\n",
        "            'RegretMinimized': self.RegretMinimized,\n",
        "            'tRegretMinimized': self.tRegretMinimized\n",
        "        }\n",
        "\n",
        "        self.f = mode_dict[mode]\n",
        "   \n",
        "    def RegretMinimized(self, tau, mean, std):\n",
        "        \n",
        "        z = (mean - y_global_orig - self.eps) / (std + self.eps)\n",
        "        return z * (std + self.eps) * norm.cdf(z) + (std + self.eps) * norm.pdf(z)[0]\n",
        "    \n",
        "    def tRegretMinimized(self, tau, mean, std, nu=3.0):\n",
        "        \n",
        "        gamma = (mean - y_global_orig - self.eps) / (std + self.eps)\n",
        "        return gamma * (std + self.eps) * t.cdf(gamma, df=nu) + (std + self.eps) * (nu + gamma ** 2)/(nu - 1) * t.pdf(gamma, df=nu)\n",
        "    "
      ]
    },
    {
      "cell_type": "code",
      "execution_count": null,
      "metadata": {
        "scrolled": false,
        "colab": {
          "base_uri": "https://localhost:8080/"
        },
        "id": "Fio5AsW9JLkp",
        "outputId": "eb12486a-5894-40b7-ae67-91ba2488eb6f"
      },
      "outputs": [
        {
          "output_type": "stream",
          "name": "stdout",
          "text": [
            "Evaluation \t Proposed point \t  Current eval. \t Best eval.\n",
            "init   \t [-1.65955991  4.40648987]. \t  -15.332210716052247 \t -15.332210716052247\n",
            "init   \t [-9.9977125  -3.95334855]. \t  -1458.2611077633842 \t -15.332210716052247\n",
            "init   \t [-7.06488218 -8.1532281 ]. \t  -1666.779874000304 \t -15.332210716052247\n",
            "init   \t [-6.27479577 -3.08878546]. \t  -804.3371752309802 \t -15.332210716052247\n",
            "init   \t [-2.06465052  0.77633468]. \t  -126.2019077328938 \t -15.332210716052247\n",
            "1      \t [ 7.89213327 -8.29911577]. \t  -252.857497365554 \t -15.332210716052247\n",
            "2      \t [-9.9919595   9.53518298]. \t  -242.98321813982525 \t -15.332210716052247\n",
            "3      \t [7.18978642 1.17033102]. \t  -117.70364068852723 \t -15.332210716052247\n",
            "4      \t [4.33858003 9.7465235 ]. \t  -463.4989487714922 \t -15.332210716052247\n",
            "5      \t [ 0.5706698  -6.98431203]. \t  -533.6465890758802 \t -15.332210716052247\n",
            "6      \t [-3.26508003  9.83890024]. \t  -91.45966603357121 \t -15.332210716052247\n",
            "7      \t [-7.69580028  3.39897418]. \t  -351.1254156566114 \t -15.332210716052247\n",
            "8      \t [9.86824763 7.19120717]. \t  -778.4094722928362 \t -15.332210716052247\n",
            "9      \t [ 2.75288953 -1.78390061]. \t  -62.70643928132397 \t -15.332210716052247\n",
            "10     \t [10.         -3.28900024]. \t  -149.94960277054722 \t -15.332210716052247\n",
            "11     \t [3.10521115 4.3515633 ]. \t  -54.05579570233664 \t -15.332210716052247\n",
            "12     \t [  3.88391401 -10.        ]. \t  -586.65774337145 \t -15.332210716052247\n",
            "13     \t [ 5.65133768 -4.53589962]. \t  -111.7075157083281 \t -15.332210716052247\n",
            "14     \t [0.30810406 7.61143343]. \t  -83.19513502341579 \t -15.332210716052247\n",
            "15     \t [ -2.68704713 -10.        ]. \t  -1296.4244841301029 \t -15.332210716052247\n",
            "16     \t [-1.64300457 -3.23508576]. \t  -361.1437194365261 \t -15.332210716052247\n",
            "17     \t [-6.26884146  7.39239053]. \t  -105.2250304420426 \t -15.332210716052247\n",
            "18     \t [-10.           0.32400669]. \t  -876.2921119940784 \t -15.332210716052247\n",
            "19     \t [6.41733375 4.95222397]. \t  -250.400207630075 \t -15.332210716052247\n",
            "20     \t [1.54129073 1.4310733 ]. \t  \u001b[92m-6.978669328146473\u001b[0m \t -6.978669328146473\n"
          ]
        }
      ],
      "source": [
        "### Bayesian optimisation runs (x20): 'GP' Acquisition Function run number = 1\n",
        "\n",
        "np.random.seed(run_num_1)\n",
        "surrogate_gp_1 = GaussianProcess(cov_func, optimize=hyperOpt)\n",
        "\n",
        "gp_1 = GPGO(surrogate_gp_1, Acquisition_new(util_gp), f_syn_polarity, param, n_jobs = -1) # define BayesOpt\n",
        "gp_1.run(max_iter = max_iter, init_evals = n_init) # run\n"
      ]
    },
    {
      "cell_type": "code",
      "execution_count": null,
      "metadata": {
        "colab": {
          "base_uri": "https://localhost:8080/"
        },
        "id": "6CLxOiUrJLks",
        "outputId": "ea9ec908-3388-4378-eb9b-481cf2c53cb7"
      },
      "outputs": [
        {
          "output_type": "stream",
          "name": "stdout",
          "text": [
            "Evaluation \t Proposed point \t  Current eval. \t Best eval.\n",
            "init   \t [-1.28010196 -9.48147536]. \t  -1032.6027521517153 \t -92.40504507724606\n",
            "init   \t [ 0.99324956 -1.29355215]. \t  -92.40504507724606 \t -92.40504507724606\n",
            "init   \t [-1.59264396 -3.39330358]. \t  -370.5851459944721 \t -92.40504507724606\n",
            "init   \t [-5.90702732  2.38541933]. \t  -274.38308294748543 \t -92.40504507724606\n",
            "init   \t [-4.00690653 -4.6634545 ]. \t  -725.9498417670716 \t -92.40504507724606\n",
            "1      \t [1.68621527 8.57743132]. \t  -188.51170566577463 \t -92.40504507724606\n",
            "2      \t [ 9.60970158 -5.07492822]. \t  -140.47535724819224 \t -92.40504507724606\n",
            "3      \t [9.34706604 6.31959097]. \t  -625.1367393483031 \t -92.40504507724606\n",
            "4      \t [-9.65718476  8.95249935]. \t  -237.5440944387729 \t -92.40504507724606\n",
            "5      \t [-10. -10.]. \t  -2594.0 \t -92.40504507724606\n",
            "6      \t [  5.01619566 -10.        ]. \t  -507.9647890168953 \t -92.40504507724606\n",
            "7      \t [-10.          -2.68841492]. \t  -1267.3708349522706 \t -92.40504507724606\n",
            "8      \t [6.86300642 0.16942894]. \t  \u001b[92m-79.16963363499646\u001b[0m \t -79.16963363499646\n",
            "9      \t [-3.85926135 10.        ]. \t  -90.94346877320773 \t -79.16963363499646\n",
            "10     \t [-0.57433181  3.72541434]. \t  \u001b[92m-5.887390167741586\u001b[0m \t -5.887390167741586\n",
            "11     \t [ 4.52837832 -4.69883142]. \t  -141.29217474756155 \t -5.887390167741586\n",
            "12     \t [4.00721364 4.08895539]. \t  -77.34356063773843 \t -5.887390167741586\n",
            "13     \t [ 10. -10.]. \t  -314.0 \t -5.887390167741586\n",
            "14     \t [ 6.15614136 10.        ]. \t  -666.6728850399327 \t -5.887390167741586\n",
            "15     \t [-10.           4.28781627]. \t  -499.9645219096537 \t -5.887390167741586\n",
            "16     \t [-3.17142226  5.94673604]. \t  -32.08344226569257 \t -5.887390167741586\n",
            "17     \t [10.          2.00406402]. \t  -338.25205178361284 \t -5.887390167741586\n",
            "18     \t [-5.60605438 -8.82454308]. \t  -1542.2074643520814 \t -5.887390167741586\n",
            "19     \t [-2.07213256  1.00920541]. \t  -115.93418696344341 \t -5.887390167741586\n",
            "20     \t [-6.40098679  6.73100344]. \t  -122.5701034889563 \t -5.887390167741586\n"
          ]
        }
      ],
      "source": [
        "### Bayesian optimisation runs (x20): 'GP' Acquisition Function run number = 2\n",
        "\n",
        "np.random.seed(run_num_2)\n",
        "surrogate_gp_2 = GaussianProcess(cov_func, optimize=hyperOpt)\n",
        "\n",
        "gp_2 = GPGO(surrogate_gp_2, Acquisition_new(util_gp), f_syn_polarity, param, n_jobs = -1) # define BayesOpt\n",
        "gp_2.run(max_iter = max_iter, init_evals = n_init) # run\n"
      ]
    },
    {
      "cell_type": "code",
      "execution_count": null,
      "metadata": {
        "colab": {
          "base_uri": "https://localhost:8080/"
        },
        "id": "OrboSzBtJLku",
        "outputId": "9f2e8b9e-4b8a-486d-e64f-727df8056adf"
      },
      "outputs": [
        {
          "output_type": "stream",
          "name": "stdout",
          "text": [
            "Evaluation \t Proposed point \t  Current eval. \t Best eval.\n",
            "init   \t [1.01595805 4.16295645]. \t  -6.912079999083602 \t -6.912079999083602\n",
            "init   \t [-4.18190522  0.2165521 ]. \t  -288.3871250813255 \t -6.912079999083602\n",
            "init   \t [7.85893909 7.92586178]. \t  -626.8352854305291 \t -6.912079999083602\n",
            "init   \t [-7.48829379 -5.85514244]. \t  -1353.6437998345716 \t -6.912079999083602\n",
            "init   \t [-8.97065593 -1.18380313]. \t  -918.3130335940459 \t -6.912079999083602\n",
            "1      \t [ 5.60629529 -3.87272935]. \t  -88.9992584872525 \t -6.912079999083602\n",
            "2      \t [-4.10613003  9.76225506]. \t  -82.77165774543313 \t -6.912079999083602\n",
            "3      \t [-0.02389563 -8.59761974]. \t  -772.7637467675567 \t -6.912079999083602\n",
            "4      \t [-9.54603235  6.06474326]. \t  -344.4901950398001 \t -6.912079999083602\n",
            "5      \t [7.93008815 1.70161022]. \t  -176.57604422682718 \t -6.912079999083602\n",
            "6      \t [2.29603694 9.59291435]. \t  -294.08844053707884 \t -6.912079999083602\n",
            "7      \t [  7.27324069 -10.        ]. \t  -389.3507120599718 \t -6.912079999083602\n",
            "8      \t [ 0.48711391 -1.31405733]. \t  -112.07167391183793 \t -6.912079999083602\n",
            "9      \t [10.         -5.57098667]. \t  -155.19802219404608 \t -6.912079999083602\n",
            "10     \t [-3.24918955  5.12800603]. \t  -40.58169960044742 \t -6.912079999083602\n",
            "11     \t [ -4.44257117 -10.        ]. \t  -1559.1353060302731 \t -6.912079999083602\n",
            "12     \t [-10. -10.]. \t  -2594.0 \t -6.912079999083602\n",
            "13     \t [-2.69283793 -4.45242953]. \t  -566.0437049201828 \t -6.912079999083602\n",
            "14     \t [-7.64211718  4.67957236]. \t  -271.41527402489993 \t -6.912079999083602\n",
            "15     \t [4.48937443 4.58749892]. \t  -117.79445892247963 \t -6.912079999083602\n",
            "16     \t [-8.18929855 10.        ]. \t  -152.61532024890425 \t -6.912079999083602\n",
            "17     \t [4.11056417 0.24250113]. \t  -17.778029925175396 \t -6.912079999083602\n",
            "18     \t [10.         -1.63456974]. \t  -178.7071619865871 \t -6.912079999083602\n",
            "19     \t [ 4.07128737 -7.3020478 ]. \t  -324.7005801678819 \t -6.912079999083602\n",
            "20     \t [-0.93073841  7.45906454]. \t  -49.180739596180366 \t -6.912079999083602\n"
          ]
        }
      ],
      "source": [
        "### Bayesian optimisation runs (x20): 'GP' Acquisition Function run number = 3\n",
        "\n",
        "np.random.seed(run_num_3)\n",
        "surrogate_gp_3 = GaussianProcess(cov_func, optimize=hyperOpt)\n",
        "\n",
        "gp_3 = GPGO(surrogate_gp_3, Acquisition_new(util_gp), f_syn_polarity, param, n_jobs = -1) # define BayesOpt\n",
        "gp_3.run(max_iter = max_iter, init_evals = n_init) # run\n"
      ]
    },
    {
      "cell_type": "code",
      "execution_count": null,
      "metadata": {
        "colab": {
          "base_uri": "https://localhost:8080/"
        },
        "id": "wmlwMmKcJLkv",
        "outputId": "4192d5a0-64be-4eee-e8de-07fe2b90b9c8"
      },
      "outputs": [
        {
          "output_type": "stream",
          "name": "stdout",
          "text": [
            "Evaluation \t Proposed point \t  Current eval. \t Best eval.\n",
            "init   \t [9.34059678 0.94464498]. \t  -231.80709501196006 \t -215.08077877054313\n",
            "init   \t [9.4536872  4.29631987]. \t  -453.3958241553961 \t -215.08077877054313\n",
            "init   \t [ 3.95457649 -5.67821009]. \t  -215.08077877054313 \t -215.08077877054313\n",
            "init   \t [ 9.5254891 -9.8753949]. \t  -314.14647993232734 \t -215.08077877054313\n",
            "init   \t [-4.94035275 -1.30416935]. \t  -473.61459720928724 \t -215.08077877054313\n",
            "1      \t [-6.35109191  8.36766078]. \t  \u001b[92m-98.58633065034904\u001b[0m \t -98.58633065034904\n",
            "2      \t [-3.51156823 -9.76157344]. \t  -1376.6576971918041 \t -98.58633065034904\n",
            "3      \t [1.25957276 3.96856025]. \t  \u001b[92m-7.03872971343211\u001b[0m \t -7.03872971343211\n",
            "4      \t [-10.          -5.32766753]. \t  -1684.5849756698399 \t -7.03872971343211\n",
            "5      \t [5.11629974 8.62066083]. \t  -427.76935659761193 \t -7.03872971343211\n",
            "6      \t [-9.40278396  3.43389327]. \t  -505.9213033265296 \t -7.03872971343211\n",
            "7      \t [-0.73350956 10.        ]. \t  -162.94874179324955 \t -7.03872971343211\n",
            "8      \t [ 0.89025206 -0.98392069]. \t  -82.9161601080677 \t -7.03872971343211\n",
            "9      \t [10.         -4.42569495]. \t  -146.05469104900158 \t -7.03872971343211\n",
            "10     \t [-3.4337579   4.04191665]. \t  -66.76214774199023 \t -7.03872971343211\n",
            "11     \t [  4.53224158 -10.        ]. \t  -540.0305287377173 \t -7.03872971343211\n",
            "12     \t [10. 10.]. \t  -1154.0 \t -7.03872971343211\n",
            "13     \t [-1.20058216 -5.10808846]. \t  -495.6584200319144 \t -7.03872971343211\n",
            "14     \t [4.65033536 1.8692378 ]. \t  -39.99656712687338 \t -7.03872971343211\n",
            "15     \t [ -8.60173251 -10.        ]. \t  -2304.5465168377114 \t -7.03872971343211\n",
            "16     \t [-10.  10.]. \t  -234.0 \t -7.03872971343211\n",
            "17     \t [ 6.03316479 -1.92818857]. \t  -49.66387036756166 \t -7.03872971343211\n",
            "18     \t [-10.          -0.78028124]. \t  -1009.1173803975717 \t -7.03872971343211\n",
            "19     \t [-5.49302541 -5.65625284]. \t  -1035.0926174730141 \t -7.03872971343211\n",
            "20     \t [1.32416557 6.74027606]. \t  -80.17349144492535 \t -7.03872971343211\n"
          ]
        }
      ],
      "source": [
        "### Bayesian optimisation runs (x20): 'GP' Acquisition Function run number = 4\n",
        "\n",
        "np.random.seed(run_num_4)\n",
        "surrogate_gp_4 = GaussianProcess(cov_func, optimize=hyperOpt)\n",
        "\n",
        "gp_4 = GPGO(surrogate_gp_4, Acquisition_new(util_gp), f_syn_polarity, param, n_jobs = -1) # define BayesOpt\n",
        "gp_4.run(max_iter = max_iter, init_evals = n_init) # run\n"
      ]
    },
    {
      "cell_type": "code",
      "execution_count": null,
      "metadata": {
        "colab": {
          "base_uri": "https://localhost:8080/"
        },
        "id": "ntlcfbyWJLkw",
        "outputId": "6f58f1f3-5a39-403f-9c6b-46bca6cb71e1"
      },
      "outputs": [
        {
          "output_type": "stream",
          "name": "stdout",
          "text": [
            "Evaluation \t Proposed point \t  Current eval. \t Best eval.\n",
            "init   \t [-5.56013658  7.41464612]. \t  -80.93700948496809 \t -18.053107398965345\n",
            "init   \t [-5.86561689  8.37221816]. \t  -84.91838238990834 \t -18.053107398965345\n",
            "init   \t [-0.23177622  2.23487726]. \t  -18.053107398965345 \t -18.053107398965345\n",
            "init   \t [5.31815713 0.36835976]. \t  -36.94936820355582 \t -18.053107398965345\n",
            "init   \t [-4.06398997 -6.24557543]. \t  -930.179306576812 \t -18.053107398965345\n",
            "1      \t [9.27861058 9.20453431]. \t  -946.0775823883291 \t -18.053107398965345\n",
            "2      \t [ 7.74805944 -8.8322849 ]. \t  -288.93666643469464 \t -18.053107398965345\n",
            "3      \t [-9.74982643  0.67357358]. \t  -804.9245830307556 \t -18.053107398965345\n",
            "4      \t [2.14629555 7.87248894]. \t  -169.9582089194134 \t -18.053107398965345\n",
            "5      \t [10.         -3.05127915]. \t  -152.39779796661128 \t -18.053107398965345\n",
            "6      \t [  1.50646383 -10.        ]. \t  -793.6102895948953 \t -18.053107398965345\n",
            "7      \t [-10. -10.]. \t  -2594.0 \t -18.053107398965345\n",
            "8      \t [ 1.74124877 -3.85520156]. \t  -197.06491318606749 \t -18.053107398965345\n",
            "9      \t [10.          3.13638491]. \t  -414.9127176246518 \t -18.053107398965345\n",
            "10     \t [-4.23361586 -0.54718615]. \t  -348.3832003716161 \t -18.053107398965345\n",
            "11     \t [-10.          -4.54636389]. \t  -1553.8180624587876 \t -18.053107398965345\n",
            "12     \t [-10.         5.969826]. \t  -387.75464456024775 \t -18.053107398965345\n",
            "13     \t [5.47554462 4.76395656]. \t  -178.86754241457805 \t -18.053107398965345\n",
            "14     \t [-1.8176855 10.       ]. \t  -126.90636977568391 \t -18.053107398965345\n",
            "15     \t [ 5.9946228  -4.62041153]. \t  -110.59599482877331 \t -18.053107398965345\n",
            "16     \t [-1.8664052   5.56369897]. \t  \u001b[92m-15.15535538177297\u001b[0m \t -15.15535538177297\n",
            "17     \t [-5.89932813  3.50438391]. \t  -211.43637772906192 \t -15.15535538177297\n",
            "18     \t [-10.  10.]. \t  -234.0 \t -15.15535538177297\n",
            "19     \t [ 5.15454875 10.        ]. \t  -563.9561068335407 \t -15.15535538177297\n",
            "20     \t [1.91418037 0.03601021]. \t  -26.42783600882448 \t -15.15535538177297\n"
          ]
        }
      ],
      "source": [
        "### Bayesian optimisation runs (x20): 'GP' Acquisition Function run number = 5\n",
        "\n",
        "np.random.seed(run_num_5)\n",
        "surrogate_gp_5 = GaussianProcess(cov_func, optimize=hyperOpt)\n",
        "\n",
        "gp_5 = GPGO(surrogate_gp_5, Acquisition_new(util_gp), f_syn_polarity, param, n_jobs = -1) # define BayesOpt\n",
        "gp_5.run(max_iter = max_iter, init_evals = n_init) # run\n"
      ]
    },
    {
      "cell_type": "code",
      "execution_count": null,
      "metadata": {
        "colab": {
          "base_uri": "https://localhost:8080/"
        },
        "id": "HHrK2qnsJLkx",
        "outputId": "7e03cbab-8292-4f33-cfa6-76cff7ba4d63"
      },
      "outputs": [
        {
          "output_type": "stream",
          "name": "stdout",
          "text": [
            "Evaluation \t Proposed point \t  Current eval. \t Best eval.\n",
            "init   \t [ 7.85720303 -3.36040389]. \t  -88.46320859272592 \t -88.46320859272592\n",
            "init   \t [ 6.42458246 -9.16606749]. \t  -359.2297742730208 \t -88.46320859272592\n",
            "init   \t [-7.8468664   1.90104128]. \t  -475.1525044254979 \t -88.46320859272592\n",
            "init   \t [ 0.59634724 -1.62385143]. \t  -122.64613090496854 \t -88.46320859272592\n",
            "init   \t [-3.29184301  2.45038864]. \t  -112.48071079498652 \t -88.46320859272592\n",
            "1      \t [4.34664291 8.74699069]. \t  -375.00460929454164 \t -88.46320859272592\n",
            "2      \t [-9.22684845 -9.49630667]. \t  -2326.1132231548063 \t -88.46320859272592\n",
            "3      \t [-8.76081661 10.        ]. \t  -174.7619743091263 \t -88.46320859272592\n",
            "4      \t [-1.55685099 -9.08574799]. \t  -1010.2256105326449 \t -88.46320859272592\n",
            "5      \t [6.79482567 2.72096441]. \t  -155.35362623680876 \t -88.46320859272592\n",
            "6      \t [-5.25387664 -3.6795998 ]. \t  -752.8272774860159 \t -88.46320859272592\n",
            "7      \t [-2.44912052  8.1523742 ]. \t  \u001b[92m-50.04768473790241\u001b[0m \t -50.04768473790241\n",
            "8      \t [10. 10.]. \t  -1154.0 \t -50.04768473790241\n",
            "9      \t [1.64439708 3.96062606]. \t  \u001b[92m-11.642447244122913\u001b[0m \t -11.642447244122913\n",
            "10     \t [ 2.72899915 -5.85021062]. \t  -284.1622767880135 \t -11.642447244122913\n",
            "11     \t [-10.          -2.68243073]. \t  -1266.5039985929925 \t -11.642447244122913\n",
            "12     \t [-6.21046283  6.29015097]. \t  -124.29124821927059 \t -11.642447244122913\n",
            "13     \t [10.          5.29658271]. \t  -596.7254162550056 \t -11.642447244122913\n",
            "14     \t [10.          0.09097867]. \t  -237.86248969242644 \t -11.642447244122913\n",
            "15     \t [ 2.46901547 -9.82116171]. \t  -682.0250906130736 \t -11.642447244122913\n",
            "16     \t [10.         -6.79066312]. \t  -179.35767703723096 \t -11.642447244122913\n",
            "17     \t [ 4.56052405 -0.92310312]. \t  -28.593923913216173 \t -11.642447244122913\n",
            "18     \t [-10.           5.79947215]. \t  -397.83167263072454 \t -11.642447244122913\n",
            "19     \t [0.73070432 6.8441353 ]. \t  -65.9678093846352 \t -11.642447244122913\n",
            "20     \t [-1.22915972 -4.83845005]. \t  -471.8375180876368 \t -11.642447244122913\n"
          ]
        }
      ],
      "source": [
        "### Bayesian optimisation runs (x20): 'GP' Acquisition Function run number = 6\n",
        "\n",
        "np.random.seed(run_num_6)\n",
        "surrogate_gp_6 = GaussianProcess(cov_func, optimize=hyperOpt)\n",
        "\n",
        "gp_6 = GPGO(surrogate_gp_6, Acquisition_new(util_gp), f_syn_polarity, param, n_jobs = -1) # define BayesOpt\n",
        "gp_6.run(max_iter = max_iter, init_evals = n_init) # run\n"
      ]
    },
    {
      "cell_type": "code",
      "execution_count": null,
      "metadata": {
        "colab": {
          "base_uri": "https://localhost:8080/"
        },
        "id": "rht2Y9u8JLky",
        "outputId": "3bcaaf57-5ccd-40ce-e537-ccf6c592fa04"
      },
      "outputs": [
        {
          "output_type": "stream",
          "name": "stdout",
          "text": [
            "Evaluation \t Proposed point \t  Current eval. \t Best eval.\n",
            "init   \t [-8.47383421  5.59837584]. \t  -285.59280278210764 \t -9.465549861932052\n",
            "init   \t [-1.23181537  4.46930356]. \t  -9.465549861932052 \t -9.465549861932052\n",
            "init   \t [9.55979024 0.76991741]. \t  -238.50407296157155 \t -9.465549861932052\n",
            "init   \t [ 0.02240927 -8.55897733]. \t  -763.2277954619568 \t -9.465549861932052\n",
            "init   \t [-4.63122040e+00 -2.34998349e-03]. \t  -338.87889871968287 \t -9.465549861932052\n",
            "1      \t [ 8.12846538 -6.39096762]. \t  -159.48095689562982 \t -9.465549861932052\n",
            "2      \t [-8.14836394 -7.87881564]. \t  -1806.3928796337154 \t -9.465549861932052\n",
            "3      \t [ 3.94503425 -1.77941795]. \t  -44.97591698287262 \t -9.465549861932052\n",
            "4      \t [5.38017998 9.74494226]. \t  -559.7536018014915 \t -9.465549861932052\n",
            "5      \t [-2.29861155  9.517276  ]. \t  -94.79492791083172 \t -9.465549861932052\n",
            "6      \t [3.99232419 3.91861682]. \t  -70.97969920052653 \t -9.465549861932052\n",
            "7      \t [-9.27988497 -2.4076281 ]. \t  -1119.310742075028 \t -9.465549861932052\n",
            "8      \t [10.          6.39924726]. \t  -707.5202128577587 \t -9.465549861932052\n",
            "9      \t [-3.44624078 -5.38117313]. \t  -748.1833104066152 \t -9.465549861932052\n",
            "10     \t [0.02074261 0.29539183]. \t  -62.557311940674126 \t -9.465549861932052\n",
            "11     \t [  5.00185303 -10.        ]. \t  -508.8814230216827 \t -9.465549861932052\n",
            "12     \t [-10.  10.]. \t  -234.0 \t -9.465549861932052\n",
            "13     \t [1.3535473  7.28966328]. \t  -104.76382475222206 \t -9.465549861932052\n",
            "14     \t [ 3.65266749 -5.61635996]. \t  -223.54081536888054 \t -9.465549861932052\n",
            "15     \t [-4.2421739   5.84980437]. \t  -58.495499946646405 \t -9.465549861932052\n",
            "16     \t [ 10. -10.]. \t  -314.0 \t -9.465549861932052\n",
            "17     \t [ -4.11404683 -10.        ]. \t  -1507.6282446021282 \t -9.465549861932052\n",
            "18     \t [-6.00805311 10.        ]. \t  -98.11306785590347 \t -9.465549861932052\n",
            "19     \t [-10.           1.89800437]. \t  -708.0475877096992 \t -9.465549861932052\n",
            "20     \t [ 0.33806751 -3.34885639]. \t  -237.3507754571278 \t -9.465549861932052\n"
          ]
        }
      ],
      "source": [
        "### Bayesian optimisation runs (x20): 'GP' Acquisition Function run number = 7\n",
        "\n",
        "np.random.seed(run_num_7)\n",
        "surrogate_gp_7 = GaussianProcess(cov_func, optimize=hyperOpt)\n",
        "\n",
        "gp_7 = GPGO(surrogate_gp_7, Acquisition_new(util_gp), f_syn_polarity, param, n_jobs = -1) # define BayesOpt\n",
        "gp_7.run(max_iter = max_iter, init_evals = n_init) # run\n"
      ]
    },
    {
      "cell_type": "code",
      "execution_count": null,
      "metadata": {
        "colab": {
          "base_uri": "https://localhost:8080/"
        },
        "id": "vHGwZn0qJLkz",
        "outputId": "d0825b79-af23-4998-c9bb-e0a7eba7e4a1"
      },
      "outputs": [
        {
          "output_type": "stream",
          "name": "stdout",
          "text": [
            "Evaluation \t Proposed point \t  Current eval. \t Best eval.\n",
            "init   \t [7.46858806 9.37081326]. \t  -741.8307972128058 \t -75.39770051777191\n",
            "init   \t [7.3838908  0.61711383]. \t  -110.46436066448925 \t -75.39770051777191\n",
            "init   \t [-5.34543344 -9.77202391]. \t  -1665.297823285088 \t -75.39770051777191\n",
            "init   \t [-1.39062363 -1.9529728 ]. \t  -245.96065521704543 \t -75.39770051777191\n",
            "init   \t [ 0.45349343 -0.43216408]. \t  -75.39770051777191 \t -75.39770051777191\n",
            "1      \t [ 9.69498875 -9.42535902]. \t  -285.65502563735186 \t -75.39770051777191\n",
            "2      \t [-9.2726808   3.70136455]. \t  -472.4602618219628 \t -75.39770051777191\n",
            "3      \t [-1.00193888  8.6865702 ]. \t  -90.65087164448859 \t -75.39770051777191\n",
            "4      \t [ 1.67218025 -9.53304568]. \t  -720.2495757818853 \t -75.39770051777191\n",
            "5      \t [-8.50598524 -3.43325463]. \t  -1147.9879900256267 \t -75.39770051777191\n",
            "6      \t [-7.90135431  9.65965498]. \t  -143.68597661229123 \t -75.39770051777191\n",
            "7      \t [3.23947442 4.78655133]. \t  \u001b[92m-73.04254447506628\u001b[0m \t -73.04254447506628\n",
            "8      \t [ 5.73054275 -4.9216011 ]. \t  -125.86121237856554 \t -73.04254447506628\n",
            "9      \t [-3.40062899  3.62421531]. \t  -76.80038131623618 \t -73.04254447506628\n",
            "10     \t [10.          4.73816122]. \t  -545.2536296243032 \t -73.04254447506628\n",
            "11     \t [10.         -3.31812918]. \t  -149.68848071730926 \t -73.04254447506628\n",
            "12     \t [-8.6270911  -7.93958376]. \t  -1904.3078345560793 \t -73.04254447506628\n",
            "13     \t [-1.86120831 -6.33897776]. \t  -690.7811786444081 \t -73.04254447506628\n",
            "14     \t [ 2.88731245 10.        ]. \t  -368.4992385302103 \t -73.04254447506628\n",
            "15     \t [-5.59019131  0.23221172]. \t  -401.37840170843253 \t -73.04254447506628\n",
            "16     \t [-4.75396983  7.22713225]. \t  \u001b[92m-60.301747769693165\u001b[0m \t -60.301747769693165\n",
            "17     \t [ 4.02281628 -1.35467316]. \t  \u001b[92m-35.19596768957576\u001b[0m \t -35.19596768957576\n",
            "18     \t [ 1.97304276 -4.50009091]. \t  -227.60760606900627 \t -35.19596768957576\n",
            "19     \t [ 5.80029619 -9.00831077]. \t  -375.06426786915205 \t -35.19596768957576\n",
            "20     \t [-0.21176475  5.02026401]. \t  \u001b[92m-8.164524721770198\u001b[0m \t -8.164524721770198\n"
          ]
        }
      ],
      "source": [
        "### Bayesian optimisation runs (x20): 'GP' Acquisition Function run number = 8\n",
        "\n",
        "np.random.seed(run_num_8)\n",
        "surrogate_gp_8 = GaussianProcess(cov_func, optimize=hyperOpt)\n",
        "\n",
        "gp_8 = GPGO(surrogate_gp_8, Acquisition_new(util_gp), f_syn_polarity, param, n_jobs = -1) # define BayesOpt\n",
        "gp_8.run(max_iter = max_iter, init_evals = n_init) # run\n"
      ]
    },
    {
      "cell_type": "code",
      "execution_count": null,
      "metadata": {
        "colab": {
          "base_uri": "https://localhost:8080/"
        },
        "id": "YC6sxKgkJLkz",
        "outputId": "04345492-39d0-4a71-c206-bc9ba1aed0b2"
      },
      "outputs": [
        {
          "output_type": "stream",
          "name": "stdout",
          "text": [
            "Evaluation \t Proposed point \t  Current eval. \t Best eval.\n",
            "init   \t [-9.79251692  0.03749184]. \t  -882.0577358281939 \t -526.7340464177141\n",
            "init   \t [-0.08453414 -7.32340942]. \t  -628.3137012668271 \t -526.7340464177141\n",
            "init   \t [-7.15777829 -5.62882649]. \t  -1268.1663931377898 \t -526.7340464177141\n",
            "init   \t [-1.62983639 -5.03797663]. \t  -526.7340464177141 \t -526.7340464177141\n",
            "init   \t [-8.31880698 -3.0900272 ]. \t  -1073.657277368356 \t -526.7340464177141\n",
            "1      \t [6.0747954  9.66718496]. \t  -621.7013152481403 \t -526.7340464177141\n",
            "2      \t [-5.63523324  8.6681764 ]. \t  \u001b[92m-79.89533946098936\u001b[0m \t -79.89533946098936\n",
            "3      \t [6.41415507 0.47363479]. \t  \u001b[92m-69.0529172025068\u001b[0m \t -69.0529172025068\n",
            "4      \t [ 8.47031062 -7.8160561 ]. \t  -217.56866185243504 \t -69.0529172025068\n",
            "5      \t [-0.96410885  2.4157208 ]. \t  \u001b[92m-30.17623227066845\u001b[0m \t -30.17623227066845\n",
            "6      \t [10.          4.98566428]. \t  -567.6821410858545 \t -30.17623227066845\n",
            "7      \t [-0.06968527 10.        ]. \t  -190.8187575989455 \t -30.17623227066845\n",
            "8      \t [-10.           5.81687516]. \t  -396.78891434599984 \t -30.17623227066845\n",
            "9      \t [3.4186514  4.78484223]. \t  -79.71297089740992 \t -30.17623227066845\n",
            "10     \t [ 4.45082023 -4.19808938]. \t  -119.8887554229798 \t -30.17623227066845\n",
            "11     \t [10.         -2.84884663]. \t  -154.92807714908028 \t -30.17623227066845\n",
            "12     \t [-10. -10.]. \t  -2594.0 \t -30.17623227066845\n",
            "13     \t [-5.44052264  3.35224028]. \t  -189.8731331180885 \t -30.17623227066845\n",
            "14     \t [  4.17481945 -10.        ]. \t  -565.2161698094908 \t -30.17623227066845\n",
            "15     \t [ -4.38414719 -10.        ]. \t  -1549.896513032767 \t -30.17623227066845\n",
            "16     \t [ 1.54895086 -0.82367028]. \t  -57.81695084486563 \t -30.17623227066845\n",
            "17     \t [-3.77826818 -0.84345163]. \t  -334.9401772045704 \t -30.17623227066845\n",
            "18     \t [-2.01338588  6.17109563]. \t  \u001b[92m-19.23583137664935\u001b[0m \t -19.23583137664935\n",
            "19     \t [-10.  10.]. \t  -234.0 \t -19.23583137664935\n",
            "20     \t [10. 10.]. \t  -1154.0 \t -19.23583137664935\n"
          ]
        }
      ],
      "source": [
        "### Bayesian optimisation runs (x20): 'GP' Acquisition Function run number = 9\n",
        "\n",
        "np.random.seed(run_num_9)\n",
        "surrogate_gp_9 = GaussianProcess(cov_func, optimize=hyperOpt)\n",
        "\n",
        "gp_9 = GPGO(surrogate_gp_9, Acquisition_new(util_gp), f_syn_polarity, param, n_jobs = -1) # define BayesOpt\n",
        "gp_9.run(max_iter = max_iter, init_evals = n_init) # run\n"
      ]
    },
    {
      "cell_type": "code",
      "execution_count": null,
      "metadata": {
        "colab": {
          "base_uri": "https://localhost:8080/"
        },
        "id": "P-0wfCEIJLk0",
        "outputId": "b3d337db-2f79-4863-dc90-92f69ced3b78"
      },
      "outputs": [
        {
          "output_type": "stream",
          "name": "stdout",
          "text": [
            "Evaluation \t Proposed point \t  Current eval. \t Best eval.\n",
            "init   \t [ 5.42641287 -9.58496101]. \t  -444.22200604720473 \t -59.96573403226766\n",
            "init   \t [2.6729647  4.97607765]. \t  -59.96573403226766 \t -59.96573403226766\n",
            "init   \t [-0.02985975 -5.50406709]. \t  -436.96281238949786 \t -59.96573403226766\n",
            "init   \t [-6.0387427   5.21061424]. \t  -147.67401193720747 \t -59.96573403226766\n",
            "init   \t [-6.61778327 -8.23320372]. \t  -1605.6543289416081 \t -59.96573403226766\n",
            "1      \t [ 7.13700605 -2.96694721]. \t  -73.38298230374753 \t -59.96573403226766\n",
            "2      \t [-3.99578777 -2.07116242]. \t  -456.04852829488834 \t -59.96573403226766\n",
            "3      \t [9.66850943 7.44610645]. \t  -782.8835171505189 \t -59.96573403226766\n",
            "4      \t [-1.89192077  9.96155329]. \t  -123.07406534635732 \t -59.96573403226766\n",
            "5      \t [-10.  10.]. \t  -234.0 \t -59.96573403226766\n",
            "6      \t [-9.92966549 -0.63209917]. \t  -980.8296913241313 \t -59.96573403226766\n",
            "7      \t [ 6.41222729 -3.82625159]. \t  -83.88777389359075 \t -59.96573403226766\n",
            "8      \t [10.          1.56998495]. \t  -312.2636318007072 \t -59.96573403226766\n",
            "9      \t [ 4.28221709 10.        ]. \t  -482.66890235093354 \t -59.96573403226766\n",
            "10     \t [ 2.11621586 -0.26114953]. \t  \u001b[92m-30.28399595304164\u001b[0m \t -30.28399595304164\n",
            "11     \t [10.         -7.19936386]. \t  -190.78091787856434 \t -30.28399595304164\n",
            "12     \t [-1.66202688  2.74364585]. \t  -41.21989578163617 \t -30.28399595304164\n",
            "13     \t [ -1.66021062 -10.        ]. \t  -1157.045506604258 \t -30.28399595304164\n",
            "14     \t [5.51310547 1.85681026]. \t  -67.10033205371111 \t -30.28399595304164\n",
            "15     \t [-10.           4.22919537]. \t  -504.3854136949884 \t -30.28399595304164\n",
            "16     \t [-10.          -5.17179958]. \t  -1658.0099047772624 \t -30.28399595304164\n",
            "17     \t [-5.86129105 10.        ]. \t  -96.15427557061426 \t -30.28399595304164\n",
            "18     \t [-0.98428672  6.23911817]. \t  \u001b[92m-20.72768823363597\u001b[0m \t -20.72768823363597\n",
            "19     \t [-6.03253366  1.46348587]. \t  -345.53172539222584 \t -20.72768823363597\n",
            "20     \t [6.04933853 5.51717708]. \t  -260.84063402438545 \t -20.72768823363597\n"
          ]
        }
      ],
      "source": [
        "### Bayesian optimisation runs (x20): 'GP' Acquisition Function run number = 10\n",
        "\n",
        "np.random.seed(run_num_10)\n",
        "surrogate_gp_10 = GaussianProcess(cov_func, optimize=hyperOpt)\n",
        "\n",
        "gp_10 = GPGO(surrogate_gp_10, Acquisition_new(util_gp), f_syn_polarity, param, n_jobs = -1) # define BayesOpt\n",
        "gp_10.run(max_iter = max_iter, init_evals = n_init) # run\n"
      ]
    },
    {
      "cell_type": "code",
      "execution_count": null,
      "metadata": {
        "colab": {
          "base_uri": "https://localhost:8080/"
        },
        "id": "Z6wmPCIEJLk2",
        "outputId": "13c81a91-f7f2-4b8c-fd97-6125458ecd69"
      },
      "outputs": [
        {
          "output_type": "stream",
          "name": "stdout",
          "text": [
            "Evaluation \t Proposed point \t  Current eval. \t Best eval.\n",
            "init   \t [-6.39460622 -9.61049517]. \t  -1814.521116554919 \t -5.483030044782123\n",
            "init   \t [-0.73562947  4.49867858]. \t  -5.483030044782123 \t -5.483030044782123\n",
            "init   \t [-1.59592791 -0.29145804]. \t  -156.21779076814232 \t -5.483030044782123\n",
            "init   \t [-9.74438371 -0.25256785]. \t  -909.6795910034871 \t -5.483030044782123\n",
            "init   \t [8.83613305 7.01590179]. \t  -639.4153671589368 \t -5.483030044782123\n",
            "1      \t [ 1.99086793 -8.88652641]. \t  -617.1328244256196 \t -5.483030044782123\n",
            "2      \t [ 8.49867098 -2.6935854 ]. \t  -101.68031686635348 \t -5.483030044782123\n",
            "3      \t [-9.67220846  8.15346749]. \t  -262.2802677959167 \t -5.483030044782123\n",
            "4      \t [-3.28035964  9.86584116]. \t  -92.20011216193278 \t -5.483030044782123\n",
            "5      \t [10.         -8.95360371]. \t  -258.7837409558237 \t -5.483030044782123\n",
            "6      \t [3.07157833 8.17544235]. \t  -241.15387544570484 \t -5.483030044782123\n",
            "7      \t [5.67257636 2.25643218]. \t  -84.13429558159504 \t -5.483030044782123\n",
            "8      \t [-4.3376118  -4.12947197]. \t  -701.0321802750777 \t -5.483030044782123\n",
            "9      \t [-5.64977781  4.07678467]. \t  -169.61202012724007 \t -5.483030044782123\n",
            "10     \t [ 3.09520118 -3.15973238]. \t  -108.41382652427001 \t -5.483030044782123\n",
            "11     \t [-10.         -5.5798286]. \t  -1728.0922105118068 \t -5.483030044782123\n",
            "12     \t [9.93186094 1.78852143]. \t  -319.66303592651724 \t -5.483030044782123\n",
            "13     \t [ 5.91200486 -6.50447268]. \t  -198.8258352445335 \t -5.483030044782123\n",
            "14     \t [1.71600252 2.3360559 ]. \t  \u001b[92m-0.9643216997917865\u001b[0m \t -0.9643216997917865\n",
            "15     \t [-10.           4.11013333]. \t  -513.4702469087957 \t -0.9643216997917865\n",
            "16     \t [-2.14111984 -7.94976987]. \t  -923.9767852674352 \t -0.9643216997917865\n",
            "17     \t [-5.45241257  0.11753582]. \t  -398.50192300184415 \t -0.9643216997917865\n",
            "18     \t [2.366381   4.25588642]. \t  -30.94939335486444 \t -0.9643216997917865\n",
            "19     \t [2.03032093 1.01013148]. \t  -8.704064262295345 \t -0.9643216997917865\n",
            "20     \t [-0.83189303  7.17733838]. \t  -42.81044366546003 \t -0.9643216997917865\n"
          ]
        }
      ],
      "source": [
        "### Bayesian optimisation runs (x20): 'GP' Acquisition Function run number = 11\n",
        "\n",
        "np.random.seed(run_num_11)\n",
        "surrogate_gp_11 = GaussianProcess(cov_func, optimize=hyperOpt)\n",
        "\n",
        "gp_11 = GPGO(surrogate_gp_11, Acquisition_new(util_gp), f_syn_polarity, param, n_jobs = -1) # define BayesOpt\n",
        "gp_11.run(max_iter = max_iter, init_evals = n_init) # run\n"
      ]
    },
    {
      "cell_type": "code",
      "execution_count": null,
      "metadata": {
        "colab": {
          "base_uri": "https://localhost:8080/"
        },
        "id": "oNR6-n7iJLk3",
        "outputId": "39acc57a-e771-40da-9f3f-ddfa6c350f24"
      },
      "outputs": [
        {
          "output_type": "stream",
          "name": "stdout",
          "text": [
            "Evaluation \t Proposed point \t  Current eval. \t Best eval.\n",
            "init   \t [-6.91674315  4.80099393]. \t  -215.5279554685742 \t -189.34864056663108\n",
            "init   \t [-4.7336997   0.67478787]. \t  -298.0661631184378 \t -189.34864056663108\n",
            "init   \t [-9.70850075  8.37494016]. \t  -257.3494442600599 \t -189.34864056663108\n",
            "init   \t [ 8.01429708 -9.33157145]. \t  -314.3616446198572 \t -189.34864056663108\n",
            "init   \t [ 9.13898673 -7.25581357]. \t  -189.34864056663108 \t -189.34864056663108\n",
            "1      \t [4.66251955 4.05244711]. \t  \u001b[92m-103.44533669968575\u001b[0m \t -103.44533669968575\n",
            "2      \t [-2.7912422  -9.90274624]. \t  -1295.6113783791748 \t -103.44533669968575\n",
            "3      \t [-9.21340032 -6.0168505 ]. \t  -1664.8273238367929 \t -103.44533669968575\n",
            "4      \t [ 2.3786551  -3.91501994]. \t  -172.32353345385013 \t -103.44533669968575\n",
            "5      \t [-1.18444518 10.        ]. \t  -146.53007379669512 \t -103.44533669968575\n",
            "6      \t [7.88778153 9.83567093]. \t  -847.5005207053736 \t -103.44533669968575\n",
            "7      \t [ 9.21400871 -1.31059375]. \t  -146.99775113048884 \t -103.44533669968575\n",
            "8      \t [10.          4.28826938]. \t  -506.0535854826368 \t -103.44533669968575\n",
            "9      \t [-0.72251479  4.53698751]. \t  \u001b[92m-5.467069267601814\u001b[0m \t -5.467069267601814\n",
            "10     \t [-10.          -0.13574529]. \t  -930.1100778928371 \t -5.467069267601814\n",
            "11     \t [  2.76992991 -10.        ]. \t  -676.5905484580884 \t -5.467069267601814\n",
            "12     \t [-3.02678691 -4.33197951]. \t  -586.0592354486128 \t -5.467069267601814\n",
            "13     \t [0.6865854 0.6774488]. \t  -33.28573569148216 \t -5.467069267601814\n",
            "14     \t [3.08982624 8.37957069]. \t  -256.47471632274005 \t -5.467069267601814\n",
            "15     \t [-5.54008007 10.        ]. \t  -92.61875269853704 \t -5.467069267601814\n",
            "16     \t [ 4.91967279 -0.26728217]. \t  -27.741421614319076 \t -5.467069267601814\n",
            "17     \t [ 6.38076918 -4.25493527]. \t  -95.63675683049577 \t -5.467069267601814\n",
            "18     \t [-3.13803544  6.43427688]. \t  -30.898699475174116 \t -5.467069267601814\n",
            "19     \t [ -7.33534075 -10.        ]. \t  -2059.2649653741555 \t -5.467069267601814\n",
            "20     \t [ 0.1843684  -6.84915377]. \t  -552.6216736683094 \t -5.467069267601814\n"
          ]
        }
      ],
      "source": [
        "### Bayesian optimisation runs (x20): 'GP' Acquisition Function run number = 12\n",
        "\n",
        "np.random.seed(run_num_12)\n",
        "surrogate_gp_12 = GaussianProcess(cov_func, optimize=hyperOpt)\n",
        "\n",
        "gp_12 = GPGO(surrogate_gp_12, Acquisition_new(util_gp), f_syn_polarity, param, n_jobs = -1) # define BayesOpt\n",
        "gp_12.run(max_iter = max_iter, init_evals = n_init) # run\n"
      ]
    },
    {
      "cell_type": "code",
      "execution_count": null,
      "metadata": {
        "colab": {
          "base_uri": "https://localhost:8080/"
        },
        "id": "z1CyiX30JLk4",
        "outputId": "eca9ccb2-e9b5-4253-ef82-bd063240d4d7"
      },
      "outputs": [
        {
          "output_type": "stream",
          "name": "stdout",
          "text": [
            "Evaluation \t Proposed point \t  Current eval. \t Best eval.\n",
            "init   \t [ 5.55404821 -5.2491756 ]. \t  -143.4041188295949 \t -48.27231948835582\n",
            "init   \t [6.48557065 9.31498396]. \t  -626.9828646177026 \t -48.27231948835582\n",
            "init   \t [ 9.45202228 -0.93101505]. \t  -168.64758529203058 \t -48.27231948835582\n",
            "init   \t [2.18084926 5.51053029]. \t  -62.202299160666314 \t -48.27231948835582\n",
            "init   \t [2.8322669  4.44036459]. \t  -48.27231948835582 \t -48.27231948835582\n",
            "1      \t [-8.69830926  2.59657998]. \t  -502.3996877395562 \t -48.27231948835582\n",
            "2      \t [-9.70426529 -6.97038172]. \t  -1923.7539236093762 \t -48.27231948835582\n",
            "3      \t [-5.15731386  9.98552473]. \t  -89.45380260888167 \t -48.27231948835582\n",
            "4      \t [-2.60249668 -3.02672252]. \t  -420.18681678275664 \t -48.27231948835582\n",
            "5      \t [  0.17519245 -10.        ]. \t  -934.1815222070983 \t -48.27231948835582\n",
            "6      \t [ 10. -10.]. \t  -314.0 \t -48.27231948835582\n",
            "7      \t [-2.78111506  2.93106418]. \t  -73.59315063302546 \t -48.27231948835582\n",
            "8      \t [10.          4.67031441]. \t  -539.2123886793964 \t -48.27231948835582\n",
            "9      \t [ 2.60744587 -0.69161997]. \t  \u001b[92m-33.58706704360065\u001b[0m \t -33.58706704360065\n",
            "10     \t [-10.           8.13940263]. \t  -284.7998655870185 \t -33.58706704360065\n",
            "11     \t [ 0.07545083 10.        ]. \t  -197.4992022955741 \t -33.58706704360065\n",
            "12     \t [ -5.17271365 -10.        ]. \t  -1677.4741884249847 \t -33.58706704360065\n",
            "13     \t [-7.53752112 -2.21069746]. \t  -856.0946909561726 \t -33.58706704360065\n",
            "14     \t [  5.19917143 -10.        ]. \t  -496.45137489906324 \t -33.58706704360065\n",
            "15     \t [10.         -5.37937328]. \t  -152.75460662977974 \t -33.58706704360065\n",
            "16     \t [5.99227126 1.87686021]. \t  -86.06492876355613 \t -33.58706704360065\n",
            "17     \t [ 1.29480444 -5.30547056]. \t  -325.75083793628346 \t -33.58706704360065\n",
            "18     \t [-5.58969146  5.94165404]. \t  -105.31007022436133 \t -33.58706704360065\n",
            "19     \t [-1.64329173  6.46325914]. \t  \u001b[92m-21.67054122903303\u001b[0m \t -21.67054122903303\n",
            "20     \t [0.51283824 1.78503676]. \t  \u001b[92m-13.302380352410676\u001b[0m \t -13.302380352410676\n"
          ]
        }
      ],
      "source": [
        "### Bayesian optimisation runs (x20): 'GP' Acquisition Function run number = 13\n",
        "\n",
        "np.random.seed(run_num_13)\n",
        "surrogate_gp_13 = GaussianProcess(cov_func, optimize=hyperOpt)\n",
        "\n",
        "gp_13 = GPGO(surrogate_gp_13, Acquisition_new(util_gp), f_syn_polarity, param, n_jobs = -1) # define BayesOpt\n",
        "gp_13.run(max_iter = max_iter, init_evals = n_init) # run\n"
      ]
    },
    {
      "cell_type": "code",
      "execution_count": null,
      "metadata": {
        "colab": {
          "base_uri": "https://localhost:8080/"
        },
        "id": "Dx5l3xHMJLk5",
        "outputId": "475522de-757c-4a60-c054-7804ea204dc4"
      },
      "outputs": [
        {
          "output_type": "stream",
          "name": "stdout",
          "text": [
            "Evaluation \t Proposed point \t  Current eval. \t Best eval.\n",
            "init   \t [0.27886688 5.46330104]. \t  -18.728481209446468 \t -18.728481209446468\n",
            "init   \t [ 7.40855371 -9.83906103]. \t  -371.31674613664467 \t -18.728481209446468\n",
            "init   \t [-3.80528149  9.15207479]. \t  -68.19416312981014 \t -18.728481209446468\n",
            "init   \t [ 0.26233425 -3.6343115 ]. \t  -261.94243460125864 \t -18.728481209446468\n",
            "init   \t [ 0.78399875 -5.57490115]. \t  -382.6954465291845 \t -18.728481209446468\n",
            "1      \t [ 9.82765998 -0.95725402]. \t  -188.47085669712428 \t -18.728481209446468\n",
            "2      \t [-9.49686071  0.24522809]. \t  -820.1959219945822 \t -18.728481209446468\n",
            "3      \t [7.57694019 9.97332605]. \t  -826.3222786724527 \t -18.728481209446468\n",
            "4      \t [-9.03618313 -7.68347095]. \t  -1932.0777854153525 \t -18.728481209446468\n",
            "5      \t [-10.           9.03068831]. \t  -256.14543615761806 \t -18.728481209446468\n",
            "6      \t [5.50445275 3.64757964]. \t  -126.88320526480943 \t -18.728481209446468\n",
            "7      \t [-3.37759836  1.13538512]. \t  -178.50106098975192 \t -18.728481209446468\n",
            "8      \t [ -3.22791328 -10.        ]. \t  -1374.0792339302461 \t -18.728481209446468\n",
            "9      \t [ 1.83764449 10.        ]. \t  -295.41633278685805 \t -18.728481209446468\n",
            "10     \t [ 6.05919809 -4.55317768]. \t  -107.52571513432986 \t -18.728481209446468\n",
            "11     \t [-5.04721956 -3.77997253]. \t  -740.6843201422578 \t -18.728481209446468\n",
            "12     \t [-6.71522225  5.02079586]. \t  -193.31423802251712 \t -18.728481209446468\n",
            "13     \t [10.          5.20429067]. \t  -588.0034152246336 \t -18.728481209446468\n",
            "14     \t [1.54886107 1.07924063]. \t  \u001b[92m-11.518984800365516\u001b[0m \t -11.518984800365516\n",
            "15     \t [  2.46830069 -10.        ]. \t  -703.0762623964133 \t -11.518984800365516\n",
            "16     \t [10.         -5.96144369]. \t  -161.31341930682223 \t -11.518984800365516\n",
            "17     \t [ 4.90102705 -0.5696939 ]. \t  -28.39985324103591 \t -11.518984800365516\n",
            "18     \t [-2.84581539  5.33137629]. \t  -29.399714676155735 \t -11.518984800365516\n",
            "19     \t [4.33578111 7.04951505]. \t  -245.6964051565543 \t -11.518984800365516\n",
            "20     \t [-10.          -3.64918395]. \t  -1411.1864236715533 \t -11.518984800365516\n"
          ]
        }
      ],
      "source": [
        "### Bayesian optimisation runs (x20): 'GP' Acquisition Function run number = 14\n",
        "\n",
        "np.random.seed(run_num_14)\n",
        "surrogate_gp_14 = GaussianProcess(cov_func, optimize=hyperOpt)\n",
        "\n",
        "gp_14 = GPGO(surrogate_gp_14, Acquisition_new(util_gp), f_syn_polarity, param, n_jobs = -1) # define BayesOpt\n",
        "gp_14.run(max_iter = max_iter, init_evals = n_init) # run\n"
      ]
    },
    {
      "cell_type": "code",
      "execution_count": null,
      "metadata": {
        "colab": {
          "base_uri": "https://localhost:8080/"
        },
        "id": "mNCLg6LHJLk6",
        "outputId": "921b8876-b963-4dc9-a8f6-c65bb04aa119"
      },
      "outputs": [
        {
          "output_type": "stream",
          "name": "stdout",
          "text": [
            "Evaluation \t Proposed point \t  Current eval. \t Best eval.\n",
            "init   \t [ 6.97635395 -6.4220815 ]. \t  -171.98457986923216 \t -171.98457986923216\n",
            "init   \t [-8.91273571 -2.76923108]. \t  -1115.2426864421157 \t -171.98457986923216\n",
            "init   \t [-4.49198143  0.6000045 ]. \t  -285.0550378664367 \t -171.98457986923216\n",
            "init   \t [-3.88162169 -3.91051282]. \t  -627.8031621427792 \t -171.98457986923216\n",
            "init   \t [-7.76517448 -5.00201972]. \t  -1265.415808453521 \t -171.98457986923216\n",
            "1      \t [-1.08003705  9.49213271]. \t  \u001b[92m-124.34069392980017\u001b[0m \t -124.34069392980017\n",
            "2      \t [9.57165948 8.0143824 ]. \t  -836.9395128340627 \t -124.34069392980017\n",
            "3      \t [-9.4900374   7.95094916]. \t  -257.2787764673604 \t -124.34069392980017\n",
            "4      \t [4.92194164 0.71352053]. \t  \u001b[92m-31.308560635871885\u001b[0m \t -31.308560635871885\n",
            "5      \t [-1.56932732 -9.61854474]. \t  -1088.514944881611 \t -31.308560635871885\n",
            "6      \t [10.        -1.3766669]. \t  -185.65604885033662 \t -31.308560635871885\n",
            "7      \t [3.69754277 6.16901916]. \t  -154.98561471887243 \t -31.308560635871885\n",
            "8      \t [ 1.9605162  -3.80557961]. \t  -183.89757031517235 \t -31.308560635871885\n",
            "9      \t [-10. -10.]. \t  -2594.0 \t -31.308560635871885\n",
            "10     \t [-10.           2.68705521]. \t  -633.0288136337552 \t -31.308560635871885\n",
            "11     \t [-4.6390006   5.85147732]. \t  -71.0103948929321 \t -31.308560635871885\n",
            "12     \t [0.37175055 2.29167201]. \t  \u001b[92m-8.042182957367693\u001b[0m \t -8.042182957367693\n",
            "13     \t [  3.71650395 -10.        ]. \t  -599.3805580976364 \t -8.042182957367693\n",
            "14     \t [ 10. -10.]. \t  -314.0 \t -8.042182957367693\n",
            "15     \t [8.60279289 3.13016396]. \t  -297.0138886040996 \t -8.042182957367693\n",
            "16     \t [-5.46918783 10.        ]. \t  -91.97743739408017 \t -8.042182957367693\n",
            "17     \t [ 5.26124993 10.        ]. \t  -574.4212513974817 \t -8.042182957367693\n",
            "18     \t [-0.60016853  5.4036948 ]. \t  -10.92090588737918 \t -8.042182957367693\n",
            "19     \t [-0.51509584 -0.69039033]. \t  -124.3028412230669 \t -8.042182957367693\n",
            "20     \t [ 5.99644519 -2.58323549]. \t  -57.51427454489328 \t -8.042182957367693\n"
          ]
        }
      ],
      "source": [
        "### Bayesian optimisation runs (x20): 'GP' Acquisition Function run number = 15\n",
        "\n",
        "np.random.seed(run_num_15)\n",
        "surrogate_gp_15 = GaussianProcess(cov_func, optimize=hyperOpt)\n",
        "\n",
        "gp_15 = GPGO(surrogate_gp_15, Acquisition_new(util_gp), f_syn_polarity, param, n_jobs = -1) # define BayesOpt\n",
        "gp_15.run(max_iter = max_iter, init_evals = n_init) # run\n"
      ]
    },
    {
      "cell_type": "code",
      "execution_count": null,
      "metadata": {
        "colab": {
          "base_uri": "https://localhost:8080/"
        },
        "id": "5xwjkr9RJLk6",
        "outputId": "6a0f7337-a881-4e56-9f0a-b82e149423b2"
      },
      "outputs": [
        {
          "output_type": "stream",
          "name": "stdout",
          "text": [
            "Evaluation \t Proposed point \t  Current eval. \t Best eval.\n",
            "init   \t [-5.53417842  0.46326683]. \t  -378.2562509858209 \t -182.86095429406956\n",
            "init   \t [ 1.01402913 -9.087961  ]. \t  -729.2383206820605 \t -182.86095429406956\n",
            "init   \t [-2.78542329 -5.53838117]. \t  -694.7380078426447 \t -182.86095429406956\n",
            "init   \t [ 3.77452324 -6.7253715 ]. \t  -295.53799633399245 \t -182.86095429406956\n",
            "init   \t [-8.59350266  8.8202172 ]. \t  -182.86095429406956 \t -182.86095429406956\n",
            "1      \t [4.18505664 9.44091052]. \t  -422.2668893394708 \t -182.86095429406956\n",
            "2      \t [9.89125625 1.7559367 ]. \t  -314.52037100721634 \t -182.86095429406956\n",
            "3      \t [2.18426858 2.22636686]. \t  \u001b[92m-2.675486154710408\u001b[0m \t -2.675486154710408\n",
            "4      \t [ 10. -10.]. \t  -314.0 \t -2.675486154710408\n",
            "5      \t [-9.09808001 -7.63455354]. \t  -1934.4333252473098 \t -2.675486154710408\n",
            "6      \t [-2.24973916  7.07669009]. \t  -29.915598119614753 \t -2.675486154710408\n",
            "7      \t [10.          7.75147018]. \t  -859.9881970451265 \t -2.675486154710408\n",
            "8      \t [ 9.27074759 -4.09495035]. \t  -124.27358287060596 \t -2.675486154710408\n",
            "9      \t [-10.           3.59463083]. \t  -554.440415981496 \t -2.675486154710408\n",
            "10     \t [ 4.80969673 -1.28136786]. \t  -33.73379451246897 \t -2.675486154710408\n",
            "11     \t [-10.          -2.12671639]. \t  -1187.5671470822479 \t -2.675486154710408\n",
            "12     \t [-0.31682385 -0.88786082]. \t  -125.20445697176157 \t -2.675486154710408\n",
            "13     \t [5.53752004 4.43597783]. \t  -165.38182796657355 \t -2.675486154710408\n",
            "14     \t [-5.94172613  4.97475188]. \t  -150.7705395626257 \t -2.675486154710408\n",
            "15     \t [ -4.49738744 -10.        ]. \t  -1567.8346376656395 \t -2.675486154710408\n",
            "16     \t [-1.36725074  3.27606518]. \t  -23.172316107365468 \t -2.675486154710408\n",
            "17     \t [-4.47470266 10.        ]. \t  -88.2784971187716 \t -2.675486154710408\n",
            "18     \t [1.44594208 5.83944185]. \t  -51.436284641429324 \t -2.675486154710408\n",
            "19     \t [-0.15544979 10.        ]. \t  -186.9701330300163 \t -2.675486154710408\n",
            "20     \t [  5.92019326 -10.        ]. \t  -454.3414097072249 \t -2.675486154710408\n"
          ]
        }
      ],
      "source": [
        "### Bayesian optimisation runs (x20): 'GP' Acquisition Function run number = 16\n",
        "\n",
        "np.random.seed(run_num_16)\n",
        "surrogate_gp_16 = GaussianProcess(cov_func, optimize=hyperOpt)\n",
        "\n",
        "gp_16 = GPGO(surrogate_gp_16, Acquisition_new(util_gp), f_syn_polarity, param, n_jobs = -1) # define BayesOpt\n",
        "gp_16.run(max_iter = max_iter, init_evals = n_init) # run\n"
      ]
    },
    {
      "cell_type": "code",
      "execution_count": null,
      "metadata": {
        "colab": {
          "base_uri": "https://localhost:8080/"
        },
        "id": "zbpfP0FWJLk7",
        "outputId": "c30eafe4-a541-4879-ef1e-872a012486f0"
      },
      "outputs": [
        {
          "output_type": "stream",
          "name": "stdout",
          "text": [
            "Evaluation \t Proposed point \t  Current eval. \t Best eval.\n",
            "init   \t [-4.10669995  0.61173511]. \t  -256.4801849765532 \t -5.553508838684786\n",
            "init   \t [-6.16958426 -8.64199284]. \t  -1602.4406672130797 \t -5.553508838684786\n",
            "init   \t [5.7397092  3.12667044]. \t  -117.20749172761734 \t -5.553508838684786\n",
            "init   \t [2.75041792 1.51205788]. \t  -5.553508838684786 \t -5.553508838684786\n",
            "init   \t [-9.21874168 -2.84372791]. \t  -1170.583554210921 \t -5.553508838684786\n",
            "1      \t [-8.64042543  9.21575513]. \t  -178.4868811929342 \t -5.553508838684786\n",
            "2      \t [ 6.7462854 -7.9395603]. \t  -260.5741923041236 \t -5.553508838684786\n",
            "3      \t [1.34606708 9.29064876]. \t  -215.87601270651436 \t -5.553508838684786\n",
            "4      \t [10. 10.]. \t  -1154.0 \t -5.553508838684786\n",
            "5      \t [ 0.63958575 -4.37817023]. \t  -294.1100536589828 \t -5.553508838684786\n",
            "6      \t [10.         -1.72842097]. \t  -176.34351460934525 \t -5.553508838684786\n",
            "7      \t [-10.           3.47835646]. \t  -564.0487563722163 \t -5.553508838684786\n",
            "8      \t [ 2.04141211 -9.76421587]. \t  -713.70625811442 \t -5.553508838684786\n",
            "9      \t [-3.64823214  6.38577741]. \t  -39.44471840648243 \t -5.553508838684786\n",
            "10     \t [-3.84264018 -4.33905671]. \t  -670.887873541206 \t -5.553508838684786\n",
            "11     \t [5.882373   7.83695628]. \t  -425.0951583087622 \t -5.553508838684786\n",
            "12     \t [ 5.12908661 -2.15414027]. \t  -47.81745809948063 \t -5.553508838684786\n",
            "13     \t [10.          4.67814397]. \t  -539.9072017219988 \t -5.553508838684786\n",
            "14     \t [-0.58115916  2.41386532]. \t  -21.632268637658104 \t -5.553508838684786\n",
            "15     \t [-4.16436623 10.        ]. \t  -89.14888390137901 \t -5.553508838684786\n",
            "16     \t [1.96947265 5.07645786]. \t  -42.36232522686552 \t -5.553508838684786\n",
            "17     \t [ 10. -10.]. \t  -314.0 \t -5.553508838684786\n",
            "18     \t [-1.93149154 -9.18242202]. \t  -1070.7265803926707 \t -5.553508838684786\n",
            "19     \t [10.         -5.64615557]. \t  -156.25682960085112 \t -5.553508838684786\n",
            "20     \t [-7.05463517  5.72512882]. \t  -185.91802676336587 \t -5.553508838684786\n"
          ]
        }
      ],
      "source": [
        "### Bayesian optimisation runs (x20): 'GP' Acquisition Function run number = 17\n",
        "\n",
        "np.random.seed(run_num_17)\n",
        "surrogate_gp_17 = GaussianProcess(cov_func, optimize=hyperOpt)\n",
        "\n",
        "gp_17 = GPGO(surrogate_gp_17, Acquisition_new(util_gp), f_syn_polarity, param, n_jobs = -1) # define BayesOpt\n",
        "gp_17.run(max_iter = max_iter, init_evals = n_init) # run\n"
      ]
    },
    {
      "cell_type": "code",
      "execution_count": null,
      "metadata": {
        "colab": {
          "base_uri": "https://localhost:8080/"
        },
        "id": "1d-1rDI5JLk8",
        "outputId": "a6b78bd9-0ee4-462f-f817-b56ab55a09e0"
      },
      "outputs": [
        {
          "output_type": "stream",
          "name": "stdout",
          "text": [
            "Evaluation \t Proposed point \t  Current eval. \t Best eval.\n",
            "init   \t [3.00748483 0.10906747]. \t  -15.509405515253864 \t -15.509405515253864\n",
            "init   \t [ 7.57202942 -6.36319549]. \t  -162.0234327224751 \t -15.509405515253864\n",
            "init   \t [7.04466137 5.00272572]. \t  -299.59059770472754 \t -15.509405515253864\n",
            "init   \t [3.32203335 9.75790897]. \t  -380.8425822546991 \t -15.509405515253864\n",
            "init   \t [-4.86063155 -9.43388149]. \t  -1527.7052410059514 \t -15.509405515253864\n",
            "1      \t [-6.1664519   4.28513481]. \t  -191.3691670751314 \t -15.509405515253864\n",
            "2      \t [-2.80172142 -3.07436931]. \t  -441.4997205571668 \t -15.509405515253864\n",
            "3      \t [-9.64708739 -3.80313768]. \t  -1377.6845719111288 \t -15.509405515253864\n",
            "4      \t [ 2.24629728 -8.89018434]. \t  -596.0990672811774 \t -15.509405515253864\n",
            "5      \t [-1.49416818  5.70232236]. \t  \u001b[92m-13.696733687966551\u001b[0m \t -13.696733687966551\n",
            "6      \t [10.         -0.95121054]. \t  -198.57316463237223 \t -13.696733687966551\n",
            "7      \t [-9.82817592  9.4839131 ]. \t  -234.7810002870478 \t -13.696733687966551\n",
            "8      \t [9.46233368 9.57281323]. \t  -1019.0355353112404 \t -13.696733687966551\n",
            "9      \t [-4.13452825 10.        ]. \t  -89.28331974914187 \t -13.696733687966551\n",
            "10     \t [-10. -10.]. \t  -2594.0 \t -13.696733687966551\n",
            "11     \t [-10.           1.46302511]. \t  -752.0652491557147 \t -13.696733687966551\n",
            "12     \t [-1.10712398  1.58656133]. \t  -56.01522590218217 \t -13.696733687966551\n",
            "13     \t [ 1.4756059  -3.78271132]. \t  -205.3496891077538 \t -13.696733687966551\n",
            "14     \t [2.35861865 4.53192714]. \t  -37.6136651044836 \t -13.696733687966551\n",
            "15     \t [ 10. -10.]. \t  -314.0 \t -13.696733687966551\n",
            "16     \t [ 5.81178131 -2.34950301]. \t  -52.927000392807244 \t -13.696733687966551\n",
            "17     \t [-5.86560005  0.01943162]. \t  -443.80838264448687 \t -13.696733687966551\n",
            "18     \t [-0.63003366  8.85394509]. \t  -108.2913939928141 \t -13.696733687966551\n",
            "19     \t [6.31293687 1.12432956]. \t  -79.00463990605938 \t -13.696733687966551\n",
            "20     \t [-10.           5.64685026]. \t  -407.10625883308876 \t -13.696733687966551\n"
          ]
        }
      ],
      "source": [
        "### Bayesian optimisation runs (x20): 'GP' Acquisition Function run number = 18\n",
        "\n",
        "np.random.seed(run_num_18)\n",
        "surrogate_gp_18 = GaussianProcess(cov_func, optimize=hyperOpt)\n",
        "\n",
        "gp_18 = GPGO(surrogate_gp_18, Acquisition_new(util_gp), f_syn_polarity, param, n_jobs = -1) # define BayesOpt\n",
        "gp_18.run(max_iter = max_iter, init_evals = n_init) # run\n"
      ]
    },
    {
      "cell_type": "code",
      "execution_count": null,
      "metadata": {
        "colab": {
          "base_uri": "https://localhost:8080/"
        },
        "id": "E7485DWlJLk8",
        "outputId": "420c7b8a-2af0-41b4-ac1a-bc1b12877860"
      },
      "outputs": [
        {
          "output_type": "stream",
          "name": "stdout",
          "text": [
            "Evaluation \t Proposed point \t  Current eval. \t Best eval.\n",
            "init   \t [-8.04932797  5.22499433]. \t  -273.1270544592675 \t -139.9227861892117\n",
            "init   \t [-5.06124054 -7.23736625]. \t  -1204.1206373978957 \t -139.9227861892117\n",
            "init   \t [-3.37106873 -8.3400087 ]. \t  -1135.0538557997047 \t -139.9227861892117\n",
            "init   \t [3.43954163 6.13187596]. \t  -139.9227861892117 \t -139.9227861892117\n",
            "init   \t [9.65483829 2.7132147 ]. \t  -355.08571481298065 \t -139.9227861892117\n",
            "1      \t [ 9.42739537 -7.28680447]. \t  -190.6689475777885 \t -139.9227861892117\n",
            "2      \t [ 2.60055404 -2.69333527]. \t  \u001b[92m-101.97927260761645\u001b[0m \t -101.97927260761645\n",
            "3      \t [10. 10.]. \t  -1154.0 \t -101.97927260761645\n",
            "4      \t [-2.71532567 10.        ]. \t  -105.95998666648444 \t -101.97927260761645\n",
            "5      \t [-2.25792871  1.57148588]. \t  \u001b[92m-100.50573765289897\u001b[0m \t -100.50573765289897\n",
            "6      \t [-10.          -2.43029515]. \t  -1230.3064998966677 \t -100.50573765289897\n",
            "7      \t [  3.65746619 -10.        ]. \t  -603.934149315991 \t -100.50573765289897\n",
            "8      \t [-10. -10.]. \t  -2594.0 \t -100.50573765289897\n",
            "9      \t [-10.  10.]. \t  -234.0 \t -100.50573765289897\n",
            "10     \t [ 7.78217025 -2.30466348]. \t  \u001b[92m-82.86939306788653\u001b[0m \t -82.86939306788653\n",
            "11     \t [4.68915284 1.52787472]. \t  \u001b[92m-35.43784634825799\u001b[0m \t -35.43784634825799\n",
            "12     \t [-2.09581357 -3.04894567]. \t  -380.68029186726733 \t -35.43784634825799\n",
            "13     \t [-1.16527104  5.85026849]. \t  \u001b[92m-14.689315148892266\u001b[0m \t -14.689315148892266\n",
            "14     \t [ 1.68217663 10.        ]. \t  -285.5287158817612 \t -14.689315148892266\n",
            "15     \t [-6.4725205   0.87507701]. \t  -428.79754633745813 \t -14.689315148892266\n",
            "16     \t [ 5.35445719 -5.76645294]. \t  -173.674820836388 \t -14.689315148892266\n",
            "17     \t [ 0.88565304 -6.45479266]. \t  -455.67991225666617 \t -14.689315148892266\n",
            "18     \t [7.40243223 6.31509694]. \t  -429.70249858686645 \t -14.689315148892266\n",
            "19     \t [1.33515337 2.71864873]. \t  \u001b[92m-0.2030649803417072\u001b[0m \t -0.2030649803417072\n",
            "20     \t [-4.26541655  6.41166389]. \t  -53.10965752907059 \t -0.2030649803417072\n"
          ]
        }
      ],
      "source": [
        "### Bayesian optimisation runs (x20): 'GP' Acquisition Function run number = 19\n",
        "\n",
        "np.random.seed(run_num_19)\n",
        "surrogate_gp_19 = GaussianProcess(cov_func, optimize=hyperOpt)\n",
        "\n",
        "gp_19 = GPGO(surrogate_gp_19, Acquisition_new(util_gp), f_syn_polarity, param, n_jobs = -1) # define BayesOpt\n",
        "gp_19.run(max_iter = max_iter, init_evals = n_init) # run\n"
      ]
    },
    {
      "cell_type": "code",
      "execution_count": null,
      "metadata": {
        "colab": {
          "base_uri": "https://localhost:8080/"
        },
        "id": "v9oZm6NvJLk9",
        "outputId": "f3d15930-89ad-4d9f-905d-3fb53caee686"
      },
      "outputs": [
        {
          "output_type": "stream",
          "name": "stdout",
          "text": [
            "Evaluation \t Proposed point \t  Current eval. \t Best eval.\n",
            "init   \t [1.76261602 7.95427456]. \t  -155.85777119682857 \t -155.85777119682857\n",
            "init   \t [7.83061459 6.31674955]. \t  -469.53411882784934 \t -155.85777119682857\n",
            "init   \t [-9.28220829  3.83515164]. \t  -463.4088031056881 \t -155.85777119682857\n",
            "init   \t [-2.42638116  0.37021891]. \t  -165.36424127801376 \t -155.85777119682857\n",
            "init   \t [ 3.15902931 -6.12299564]. \t  -281.877765303078 \t -155.85777119682857\n",
            "1      \t [-9.80814458 -5.24853225]. \t  -1637.482001370834 \t -155.85777119682857\n",
            "2      \t [-3.25901385 -9.8120118 ]. \t  -1347.9665117747802 \t -155.85777119682857\n",
            "3      \t [ 9.98664637 -9.53306218]. \t  -288.14572114093755 \t -155.85777119682857\n",
            "4      \t [ 9.76065736 -3.02050331]. \t  \u001b[92m-143.02935426879236\u001b[0m \t -143.02935426879236\n",
            "5      \t [4.17505925 1.04497344]. \t  \u001b[92m-19.857049148444542\u001b[0m \t -19.857049148444542\n",
            "6      \t [-3.60412233  9.77330264]. \t  -85.89694380096418 \t -19.857049148444542\n",
            "7      \t [-9.96987748  9.08867018]. \t  -252.71485509923002 \t -19.857049148444542\n",
            "8      \t [-2.0349715 -4.3923327]. \t  -498.7723261700821 \t -19.857049148444542\n",
            "9      \t [-4.11065761  5.01256951]. \t  -68.56185685435679 \t -19.857049148444542\n",
            "10     \t [10.         1.7756219]. \t  -324.3402855093508 \t -19.857049148444542\n",
            "11     \t [-7.08111698 -0.43560035]. \t  -607.6469133778512 \t -19.857049148444542\n",
            "12     \t [ -8.42612217 -10.        ]. \t  -2269.5756020613962 \t -19.857049148444542\n",
            "13     \t [0.85654592 3.52713851]. \t  \u001b[92m-0.8873090308321625\u001b[0m \t -0.8873090308321625\n",
            "14     \t [  5.44475369 -10.        ]. \t  -481.5247931957766 \t -0.8873090308321625\n",
            "15     \t [ 1.73086317 -1.74473005]. \t  -87.49113336623624 \t -0.8873090308321625\n",
            "16     \t [ 5.46129155 10.        ]. \t  -594.3479385449207 \t -0.8873090308321625\n",
            "17     \t [ 1.10890712 -9.9939847 ]. \t  -832.956397021906 \t -0.8873090308321625\n",
            "18     \t [ 5.72944678 -2.43877102]. \t  -53.96046062524894 \t -0.8873090308321625\n",
            "19     \t [10. 10.]. \t  -1154.0 \t -0.8873090308321625\n",
            "20     \t [3.77819272 4.45040944]. \t  -81.34634719254876 \t -0.8873090308321625\n"
          ]
        }
      ],
      "source": [
        "### Bayesian optimisation runs (x20): 'GP' Acquisition Function run number = 20\n",
        "\n",
        "np.random.seed(run_num_20)\n",
        "surrogate_gp_20 = GaussianProcess(cov_func, optimize=hyperOpt)\n",
        "\n",
        "gp_20 = GPGO(surrogate_gp_20, Acquisition_new(util_gp), f_syn_polarity, param, n_jobs = -1) # define BayesOpt\n",
        "gp_20.run(max_iter = max_iter, init_evals = n_init) # run\n"
      ]
    },
    {
      "cell_type": "code",
      "execution_count": null,
      "metadata": {
        "colab": {
          "base_uri": "https://localhost:8080/"
        },
        "id": "m3W7oEVSJLk9",
        "outputId": "50e4c278-8d2a-44cd-f1dd-3ff4f5069e93"
      },
      "outputs": [
        {
          "output_type": "stream",
          "name": "stdout",
          "text": [
            "Evaluation \t Proposed point \t  Current eval. \t Best eval.\n",
            "init   \t [-1.65955991  4.40648987]. \t  -15.332210716052247 \t -15.332210716052247\n",
            "init   \t [-9.9977125  -3.95334855]. \t  -1458.2611077633842 \t -15.332210716052247\n",
            "init   \t [-7.06488218 -8.1532281 ]. \t  -1666.779874000304 \t -15.332210716052247\n",
            "init   \t [-6.27479577 -3.08878546]. \t  -804.3371752309802 \t -15.332210716052247\n",
            "init   \t [-2.06465052  0.77633468]. \t  -126.2019077328938 \t -15.332210716052247\n",
            "1      \t [ 7.89213327 -8.29911577]. \t  -252.857497365554 \t -15.332210716052247\n",
            "2      \t [-9.9919595   9.53518298]. \t  -242.98321813982525 \t -15.332210716052247\n",
            "3      \t [10. 10.]. \t  -1154.0 \t -15.332210716052247\n",
            "4      \t [7.20473995 1.17807622]. \t  -118.65451445544127 \t -15.332210716052247\n",
            "5      \t [ 0.5706698  -6.98431203]. \t  -533.6465890758802 \t -15.332210716052247\n",
            "6      \t [ 2.84843116 10.        ]. \t  -365.5956333652869 \t -15.332210716052247\n",
            "7      \t [-9.74061821  2.84159495]. \t  -590.5408038528917 \t -15.332210716052247\n",
            "8      \t [-3.64210073 10.        ]. \t  -92.78785505274962 \t -15.332210716052247\n",
            "9      \t [ 2.7647772  -1.78429676]. \t  -62.473927673814714 \t -15.332210716052247\n",
            "10     \t [10.         -3.29104719]. \t  -149.93097604058462 \t -15.332210716052247\n",
            "11     \t [3.0962121  3.48955827]. \t  -31.378606095426825 \t -15.332210716052247\n",
            "12     \t [6.6924036  6.04984779]. \t  -347.4128675084378 \t -15.332210716052247\n",
            "13     \t [-6.59777169  6.35500933]. \t  -140.98635211254364 \t -15.332210716052247\n",
            "14     \t [  3.88388711 -10.        ]. \t  -586.6597650930584 \t -15.332210716052247\n",
            "15     \t [ 5.65375455 -4.53931071]. \t  -111.80437486156353 \t -15.332210716052247\n",
            "16     \t [ -2.75087259 -10.        ]. \t  -1305.4359750086821 \t -15.332210716052247\n",
            "17     \t [-0.04108092  8.70091454]. \t  -120.44047337495554 \t -15.332210716052247\n",
            "18     \t [-1.70999972 -3.28994717]. \t  -370.903710162872 \t -15.332210716052247\n",
            "19     \t [7.88355458 8.72565544]. \t  -716.1351625135736 \t -15.332210716052247\n",
            "20     \t [-4.65633578  2.47631013]. \t  -185.03925364369292 \t -15.332210716052247\n"
          ]
        }
      ],
      "source": [
        "### Bayesian optimisation runs (x20): 'STP' Acquisition Function run number = 1 \n",
        "\n",
        "np.random.seed(run_num_1)\n",
        "surrogate_stp_1 = tStudentProcess(cov_func, nu = df, optimize=hyperOpt)\n",
        "\n",
        "stp_1 = GPGO(surrogate_stp_1, Acquisition_new(util_stp), f_syn_polarity, param, n_jobs = -1) # Define BayesOpt\n",
        "stp_1.run(max_iter = max_iter, init_evals = n_init) # run\n"
      ]
    },
    {
      "cell_type": "code",
      "execution_count": null,
      "metadata": {
        "colab": {
          "base_uri": "https://localhost:8080/"
        },
        "id": "FGw67C40JLk-",
        "outputId": "3b0a9bbc-b7b7-47d1-b77e-d65f88dff21f"
      },
      "outputs": [
        {
          "output_type": "stream",
          "name": "stdout",
          "text": [
            "Evaluation \t Proposed point \t  Current eval. \t Best eval.\n",
            "init   \t [-1.28010196 -9.48147536]. \t  -1032.6027521517153 \t -92.40504507724606\n",
            "init   \t [ 0.99324956 -1.29355215]. \t  -92.40504507724606 \t -92.40504507724606\n",
            "init   \t [-1.59264396 -3.39330358]. \t  -370.5851459944721 \t -92.40504507724606\n",
            "init   \t [-5.90702732  2.38541933]. \t  -274.38308294748543 \t -92.40504507724606\n",
            "init   \t [-4.00690653 -4.6634545 ]. \t  -725.9498417670716 \t -92.40504507724606\n",
            "1      \t [-10.  10.]. \t  -234.0 \t -92.40504507724606\n",
            "2      \t [ 10. -10.]. \t  -314.0 \t -92.40504507724606\n",
            "3      \t [10. 10.]. \t  -1154.0 \t -92.40504507724606\n",
            "4      \t [1.46671518 8.21043782]. \t  -156.28675034009555 \t -92.40504507724606\n",
            "5      \t [ 9.4009129  -0.13193494]. \t  -191.4328691997528 \t -92.40504507724606\n",
            "6      \t [-10. -10.]. \t  -2594.0 \t -92.40504507724606\n",
            "7      \t [ 4.51851558 -6.31831615]. \t  -233.7617145733547 \t -92.40504507724606\n",
            "8      \t [-10.          -2.26654844]. \t  -1207.1389245039386 \t -92.40504507724606\n",
            "9      \t [-2.35415228  5.10848459]. \t  \u001b[92m-21.902796731049506\u001b[0m \t -21.902796731049506\n",
            "10     \t [6.27342269 4.86911054]. \t  -235.36568507762655 \t -21.902796731049506\n",
            "11     \t [-4.19349317 10.        ]. \t  -89.02623902838107 \t -21.902796731049506\n",
            "12     \t [10.         -4.99393503]. \t  -148.95166418952954 \t -21.902796731049506\n",
            "13     \t [-10.           5.03070401]. \t  -446.9168410038052 \t -21.902796731049506\n",
            "14     \t [1.64769884 3.29269527]. \t  \u001b[92m-4.042548631864307\u001b[0m \t -4.042548631864307\n",
            "15     \t [ 5.37960393 10.        ]. \t  -586.1624725785261 \t -4.042548631864307\n",
            "16     \t [4.92385633 0.39963464]. \t  -29.165061918797047 \t -4.042548631864307\n",
            "17     \t [-5.38258872 -8.75452762]. \t  -1494.726314027761 \t -4.042548631864307\n",
            "18     \t [3.02992044 0.013005  ]. \t  -16.70668296902407 \t -4.042548631864307\n",
            "19     \t [-6.64859228  6.82576725]. \t  -131.59342368011082 \t -4.042548631864307\n",
            "20     \t [-1.98580589 -7.34341919]. \t  -826.5743221203577 \t -4.042548631864307\n"
          ]
        }
      ],
      "source": [
        "### Bayesian optimisation runs (x20): 'STP' Acquisition Function run number = 2 \n",
        "\n",
        "np.random.seed(run_num_2)\n",
        "surrogate_stp_2 = tStudentProcess(cov_func, nu = df, optimize=hyperOpt)\n",
        "\n",
        "stp_2 = GPGO(surrogate_stp_2, Acquisition_new(util_stp), f_syn_polarity, param, n_jobs = -1) # Define BayesOpt\n",
        "stp_2.run(max_iter = max_iter, init_evals = n_init) # run\n"
      ]
    },
    {
      "cell_type": "code",
      "execution_count": null,
      "metadata": {
        "colab": {
          "base_uri": "https://localhost:8080/"
        },
        "id": "oFLQAtDZJLk_",
        "outputId": "348fb645-c35e-4bc4-df8a-e8cb94fff062"
      },
      "outputs": [
        {
          "output_type": "stream",
          "name": "stdout",
          "text": [
            "Evaluation \t Proposed point \t  Current eval. \t Best eval.\n",
            "init   \t [1.01595805 4.16295645]. \t  -6.912079999083602 \t -6.912079999083602\n",
            "init   \t [-4.18190522  0.2165521 ]. \t  -288.3871250813255 \t -6.912079999083602\n",
            "init   \t [7.85893909 7.92586178]. \t  -626.8352854305291 \t -6.912079999083602\n",
            "init   \t [-7.48829379 -5.85514244]. \t  -1353.6437998345716 \t -6.912079999083602\n",
            "init   \t [-8.97065593 -1.18380313]. \t  -918.3130335940459 \t -6.912079999083602\n",
            "1      \t [ 5.60629529 -3.87272935]. \t  -88.9992584872525 \t -6.912079999083602\n",
            "2      \t [-4.10613003  9.76225506]. \t  -82.77165774543313 \t -6.912079999083602\n",
            "3      \t [  0.79887337 -10.        ]. \t  -866.1194292183426 \t -6.912079999083602\n",
            "4      \t [ 10. -10.]. \t  -314.0 \t -6.912079999083602\n",
            "5      \t [-10.           6.32784458]. \t  -367.52242456934016 \t -6.912079999083602\n",
            "6      \t [8.27602814 2.54319598]. \t  -239.1565259787527 \t -6.912079999083602\n",
            "7      \t [ 1.84133063 10.        ]. \t  -295.6537014878971 \t -6.912079999083602\n",
            "8      \t [-1.29647629 -4.8453027 ]. \t  -478.2453022534137 \t -6.912079999083602\n",
            "9      \t [ -4.52227789 -10.        ]. \t  -1571.794666801858 \t -6.912079999083602\n",
            "10     \t [ 1.86222018 -0.42991795]. \t  -38.880048075986906 \t -6.912079999083602\n",
            "11     \t [-3.74135655  5.16058142]. \t  -53.7901751376692 \t -6.912079999083602\n",
            "12     \t [10.         -2.24885618]. \t  -164.83481111734685 \t -6.912079999083602\n",
            "13     \t [ 5.50683714 -8.45145255]. \t  -344.35807969349236 \t -6.912079999083602\n",
            "14     \t [-7.64211718  4.67957236]. \t  -271.41527402489993 \t -6.912079999083602\n",
            "15     \t [-10. -10.]. \t  -2594.0 \t -6.912079999083602\n",
            "16     \t [4.62618185 4.87658156]. \t  -137.79237411020068 \t -6.912079999083602\n",
            "17     \t [ 8.86235813 -6.06227155]. \t  -149.70060987993247 \t -6.912079999083602\n",
            "18     \t [-8.0880374 10.       ]. \t  -149.03202459591978 \t -6.912079999083602\n",
            "19     \t [ 5.40153742 -0.08420468]. \t  -35.82731244288574 \t -6.912079999083602\n",
            "20     \t [ 2.44146176 -6.01962488]. \t  -313.145670312142 \t -6.912079999083602\n"
          ]
        }
      ],
      "source": [
        "### Bayesian optimisation runs (x20): 'STP' Acquisition Function run number = 3 \n",
        "\n",
        "np.random.seed(run_num_3)\n",
        "surrogate_stp_3 = tStudentProcess(cov_func, nu = df, optimize=hyperOpt)\n",
        "\n",
        "stp_3 = GPGO(surrogate_stp_3, Acquisition_new(util_stp), f_syn_polarity, param, n_jobs = -1) # Define BayesOpt\n",
        "stp_3.run(max_iter = max_iter, init_evals = n_init) # run\n"
      ]
    },
    {
      "cell_type": "code",
      "execution_count": null,
      "metadata": {
        "colab": {
          "base_uri": "https://localhost:8080/"
        },
        "id": "zhFOxkF0JLk_",
        "outputId": "f488d964-1e09-4473-9e1b-0b83615ada76"
      },
      "outputs": [
        {
          "output_type": "stream",
          "name": "stdout",
          "text": [
            "Evaluation \t Proposed point \t  Current eval. \t Best eval.\n",
            "init   \t [9.34059678 0.94464498]. \t  -231.80709501196006 \t -215.08077877054313\n",
            "init   \t [9.4536872  4.29631987]. \t  -453.3958241553961 \t -215.08077877054313\n",
            "init   \t [ 3.95457649 -5.67821009]. \t  -215.08077877054313 \t -215.08077877054313\n",
            "init   \t [ 9.5254891 -9.8753949]. \t  -314.14647993232734 \t -215.08077877054313\n",
            "init   \t [-4.94035275 -1.30416935]. \t  -473.61459720928724 \t -215.08077877054313\n",
            "1      \t [-10. -10.]. \t  -2594.0 \t -215.08077877054313\n",
            "2      \t [-1.54688157  7.50124694]. \t  \u001b[92m-42.026005803069296\u001b[0m \t -42.026005803069296\n",
            "3      \t [-10.  10.]. \t  -234.0 \t -42.026005803069296\n",
            "4      \t [ -2.20038978 -10.        ]. \t  -1229.0530107166069 \t -42.026005803069296\n",
            "5      \t [2.64802424 0.93672381]. \t  \u001b[92m-7.662829264577823\u001b[0m \t -7.662829264577823\n",
            "6      \t [ 4.51111753 10.        ]. \t  -503.26231282207345 \t -7.662829264577823\n",
            "7      \t [-6.73246671  4.28681146]. \t  -227.63281137318552 \t -7.662829264577823\n",
            "8      \t [-10.          -3.90013342]. \t  -1450.270946662516 \t -7.662829264577823\n",
            "9      \t [10. 10.]. \t  -1154.0 \t -7.662829264577823\n",
            "10     \t [10.         -4.42551871]. \t  -146.05429344899488 \t -7.662829264577823\n",
            "11     \t [-6.08513155 -6.34049404]. \t  -1216.6486217250776 \t -7.662829264577823\n",
            "12     \t [-0.01476466 -3.05735363]. \t  -237.78070913301832 \t -7.662829264577823\n",
            "13     \t [-1.44445512  2.69998305]. \t  -36.19387884175439 \t -7.662829264577823\n",
            "14     \t [4.76159819 5.27528565]. \t  -165.10241163702563 \t -7.662829264577823\n",
            "15     \t [-5.20856641 10.        ]. \t  -90.0517653494143 \t -7.662829264577823\n",
            "16     \t [-10.           1.08419476]. \t  -791.9424099813024 \t -7.662829264577823\n",
            "17     \t [ 6.31478851 -2.54993023]. \t  -59.26986892149848 \t -7.662829264577823\n",
            "18     \t [  2.82006896 -10.        ]. \t  -672.2760829730256 \t -7.662829264577823\n",
            "19     \t [-10.          6.0945905]. \t  -380.55848764674795 \t -7.662829264577823\n",
            "20     \t [1.02791813 5.11766683]. \t  -22.899431678056683 \t -7.662829264577823\n"
          ]
        }
      ],
      "source": [
        "### Bayesian optimisation runs (x20): 'STP' Acquisition Function run number = 4 \n",
        "\n",
        "np.random.seed(run_num_4)\n",
        "surrogate_stp_4 = tStudentProcess(cov_func, nu = df, optimize=hyperOpt)\n",
        "\n",
        "stp_4 = GPGO(surrogate_stp_4, Acquisition_new(util_stp), f_syn_polarity, param, n_jobs = -1) # Define BayesOpt\n",
        "stp_4.run(max_iter = max_iter, init_evals = n_init) # run\n"
      ]
    },
    {
      "cell_type": "code",
      "execution_count": null,
      "metadata": {
        "colab": {
          "base_uri": "https://localhost:8080/"
        },
        "id": "YdzaqIajJLlA",
        "outputId": "34bd0e4d-e495-448c-a114-e7fd45fd9351"
      },
      "outputs": [
        {
          "output_type": "stream",
          "name": "stdout",
          "text": [
            "Evaluation \t Proposed point \t  Current eval. \t Best eval.\n",
            "init   \t [-5.56013658  7.41464612]. \t  -80.93700948496809 \t -18.053107398965345\n",
            "init   \t [-5.86561689  8.37221816]. \t  -84.91838238990834 \t -18.053107398965345\n",
            "init   \t [-0.23177622  2.23487726]. \t  -18.053107398965345 \t -18.053107398965345\n",
            "init   \t [5.31815713 0.36835976]. \t  -36.94936820355582 \t -18.053107398965345\n",
            "init   \t [-4.06398997 -6.24557543]. \t  -930.179306576812 \t -18.053107398965345\n",
            "1      \t [9.27861058 9.20453431]. \t  -946.0775823883291 \t -18.053107398965345\n",
            "2      \t [ 4.38925632 -9.93351357]. \t  -543.1342174137803 \t -18.053107398965345\n",
            "3      \t [-9.74982643  0.67357358]. \t  -804.9245830307556 \t -18.053107398965345\n",
            "4      \t [-10. -10.]. \t  -2594.0 \t -18.053107398965345\n",
            "5      \t [ 1.9587712 10.       ]. \t  -303.2873982994657 \t -18.053107398965345\n",
            "6      \t [ 9.61788195 -4.36004008]. \t  -134.76674392482536 \t -18.053107398965345\n",
            "7      \t [ 1.88284724 -4.22190263]. \t  -213.66979005681594 \t -18.053107398965345\n",
            "8      \t [10.          3.13042788]. \t  -414.4758647004454 \t -18.053107398965345\n",
            "9      \t [ 10. -10.]. \t  -314.0 \t -18.053107398965345\n",
            "10     \t [-4.22928554 -0.54629452]. \t  -347.9648536011971 \t -18.053107398965345\n",
            "11     \t [4.76252184 5.36779346]. \t  -170.08607926184166 \t -18.053107398965345\n",
            "12     \t [-9.39615139 -4.55536883]. \t  -1454.1918749834288 \t -18.053107398965345\n",
            "13     \t [-10.           5.97013482]. \t  -387.7366398752095 \t -18.053107398965345\n",
            "14     \t [ -0.65347682 -10.        ]. \t  -1030.6315169507664 \t -18.053107398965345\n",
            "15     \t [-1.17754444  6.30874419]. \t  -20.807939368590485 \t -18.053107398965345\n",
            "16     \t [-5.88816715  3.50561307]. \t  -210.65047744654845 \t -18.053107398965345\n",
            "17     \t [ 6.11534941 -2.61727694]. \t  -58.72832481361603 \t -18.053107398965345\n",
            "18     \t [-7.06715304 -7.22044189]. \t  -1507.2809035237906 \t -18.053107398965345\n",
            "19     \t [ 1.78138271 -0.60248354]. \t  -45.42288615249603 \t -18.053107398965345\n",
            "20     \t [6.47730501 5.94826655]. \t  -322.65416962729694 \t -18.053107398965345\n"
          ]
        }
      ],
      "source": [
        "### Bayesian optimisation runs (x20): 'STP' Acquisition Function run number = 5 \n",
        "\n",
        "np.random.seed(run_num_5)\n",
        "surrogate_stp_5 = tStudentProcess(cov_func, nu = df, optimize=hyperOpt)\n",
        "\n",
        "stp_5 = GPGO(surrogate_stp_5, Acquisition_new(util_stp), f_syn_polarity, param, n_jobs = -1) # Define BayesOpt\n",
        "stp_5.run(max_iter = max_iter, init_evals = n_init) # run\n"
      ]
    },
    {
      "cell_type": "code",
      "execution_count": null,
      "metadata": {
        "colab": {
          "base_uri": "https://localhost:8080/"
        },
        "id": "_KSBbC1zJLlA",
        "outputId": "8f4f3c82-7747-4f4d-a4f2-62d650299805"
      },
      "outputs": [
        {
          "output_type": "stream",
          "name": "stdout",
          "text": [
            "Evaluation \t Proposed point \t  Current eval. \t Best eval.\n",
            "init   \t [ 7.85720303 -3.36040389]. \t  -88.46320859272592 \t -88.46320859272592\n",
            "init   \t [ 6.42458246 -9.16606749]. \t  -359.2297742730208 \t -88.46320859272592\n",
            "init   \t [-7.8468664   1.90104128]. \t  -475.1525044254979 \t -88.46320859272592\n",
            "init   \t [ 0.59634724 -1.62385143]. \t  -122.64613090496854 \t -88.46320859272592\n",
            "init   \t [-3.29184301  2.45038864]. \t  -112.48071079498652 \t -88.46320859272592\n",
            "1      \t [4.34664291 8.74699069]. \t  -375.00460929454164 \t -88.46320859272592\n",
            "2      \t [-10.  10.]. \t  -234.0 \t -88.46320859272592\n",
            "3      \t [-10. -10.]. \t  -2594.0 \t -88.46320859272592\n",
            "4      \t [-2.54647834 -8.04801319]. \t  -986.6328361969477 \t -88.46320859272592\n",
            "5      \t [-2.7048812   9.63989296]. \t  -92.27149928751953 \t -88.46320859272592\n",
            "6      \t [10.          5.22987929]. \t  -590.4131173347241 \t -88.46320859272592\n",
            "7      \t [-8.11033688 -3.73818744]. \t  -1133.1043016794852 \t -88.46320859272592\n",
            "8      \t [4.4614237  3.03733547]. \t  \u001b[92m-60.94811094271344\u001b[0m \t -60.94811094271344\n",
            "9      \t [0.29639265 5.67188336]. \t  \u001b[92m-23.13046572323095\u001b[0m \t -23.13046572323095\n",
            "10     \t [ 2.36908153 -6.19313563]. \t  -331.25141762984197 \t -23.13046572323095\n",
            "11     \t [-6.35392289  6.65416304]. \t  -122.18598125738627 \t -23.13046572323095\n",
            "12     \t [ 9.30510609 10.        ]. \t  -1054.959877563444 \t -23.13046572323095\n",
            "13     \t [10.          0.49742681]. \t  -256.1290933376287 \t -23.13046572323095\n",
            "14     \t [-3.42693757 -3.26009116]. \t  -515.6368500218414 \t -23.13046572323095\n",
            "15     \t [-4.98014559 -5.76422711]. \t  -982.1599231276703 \t -23.13046572323095\n",
            "16     \t [10.         -6.79088885]. \t  -179.36352512151208 \t -23.13046572323095\n",
            "17     \t [ 4.58007048 -0.8885822 ]. \t  -28.31869412442559 \t -23.13046572323095\n",
            "18     \t [-10.           5.57527345]. \t  -411.5361030645113 \t -23.13046572323095\n",
            "19     \t [1.10326166 2.72741242]. \t  \u001b[92m-0.19965203089412004\u001b[0m \t -0.19965203089412004\n",
            "20     \t [ 0.69957216 -9.67403664]. \t  -834.0683760335236 \t -0.19965203089412004\n"
          ]
        }
      ],
      "source": [
        "### Bayesian optimisation runs (x20): 'STP' Acquisition Function run number = 6 \n",
        "\n",
        "np.random.seed(run_num_6)\n",
        "surrogate_stp_6 = tStudentProcess(cov_func, nu = df, optimize=hyperOpt)\n",
        "\n",
        "stp_6 = GPGO(surrogate_stp_6, Acquisition_new(util_stp), f_syn_polarity, param, n_jobs = -1) # Define BayesOpt\n",
        "stp_6.run(max_iter = max_iter, init_evals = n_init) # run\n"
      ]
    },
    {
      "cell_type": "code",
      "execution_count": null,
      "metadata": {
        "colab": {
          "base_uri": "https://localhost:8080/"
        },
        "id": "WB64BgXFJLlB",
        "outputId": "01dae598-e0c6-41d1-c35b-73855d00c1e2"
      },
      "outputs": [
        {
          "output_type": "stream",
          "name": "stdout",
          "text": [
            "Evaluation \t Proposed point \t  Current eval. \t Best eval.\n",
            "init   \t [-8.47383421  5.59837584]. \t  -285.59280278210764 \t -9.465549861932052\n",
            "init   \t [-1.23181537  4.46930356]. \t  -9.465549861932052 \t -9.465549861932052\n",
            "init   \t [9.55979024 0.76991741]. \t  -238.50407296157155 \t -9.465549861932052\n",
            "init   \t [ 0.02240927 -8.55897733]. \t  -763.2277954619568 \t -9.465549861932052\n",
            "init   \t [-4.63122040e+00 -2.34998349e-03]. \t  -338.87889871968287 \t -9.465549861932052\n",
            "1      \t [ 3.22227981 10.        ]. \t  -394.1403069653129 \t -9.465549861932052\n",
            "2      \t [ 7.90733569 -8.8549288 ]. \t  -286.1653337497464 \t -9.465549861932052\n",
            "3      \t [ 3.94503425 -1.77941795]. \t  -44.97591698287262 \t -9.465549861932052\n",
            "4      \t [-10. -10.]. \t  -2594.0 \t -9.465549861932052\n",
            "5      \t [10.          8.33839469]. \t  -931.8567074148983 \t -9.465549861932052\n",
            "6      \t [-3.56743121  9.69032058]. \t  -83.64845454748662 \t -9.465549861932052\n",
            "7      \t [-9.85793992 -3.8770088 ]. \t  -1423.301734202806 \t -9.465549861932052\n",
            "8      \t [5.03139208 4.17304029]. \t  -125.97261093220666 \t -9.465549861932052\n",
            "9      \t [7.85678332 1.59305   ]. \t  -167.79771888508225 \t -9.465549861932052\n",
            "10     \t [-4.50265467 -5.51198712]. \t  -888.3738716829376 \t -9.465549861932052\n",
            "11     \t [10.         -4.24443503]. \t  -145.8098723606179 \t -9.465549861932052\n",
            "12     \t [-10.  10.]. \t  -234.0 \t -9.465549861932052\n",
            "13     \t [0.28981014 0.65820238]. \t  -43.2468961100204 \t -9.465549861932052\n",
            "14     \t [-10.           1.16621706]. \t  -783.1866981559546 \t -9.465549861932052\n",
            "15     \t [ 4.21916612 -5.98947473]. \t  -224.3595324218046 \t -9.465549861932052\n",
            "16     \t [ 0.00502154 -3.57422675]. \t  -273.38190998734154 \t -9.465549861932052\n",
            "17     \t [ -4.90523554 -10.        ]. \t  -1633.5035302879903 \t -9.465549861932052\n",
            "18     \t [-4.49594424  5.1619597 ]. \t  -79.34128433668194 \t -9.465549861932052\n",
            "19     \t [-8.68488857 -6.55053524]. \t  -1665.0159059184493 \t -9.465549861932052\n",
            "20     \t [-2.1886428   7.34205801]. \t  -34.342377279032085 \t -9.465549861932052\n"
          ]
        }
      ],
      "source": [
        "### Bayesian optimisation runs (x20): 'STP' Acquisition Function run number = 7 \n",
        "\n",
        "np.random.seed(run_num_7)\n",
        "surrogate_stp_7 = tStudentProcess(cov_func, nu = df, optimize=hyperOpt)\n",
        "\n",
        "stp_7 = GPGO(surrogate_stp_7, Acquisition_new(util_stp), f_syn_polarity, param, n_jobs = -1) # Define BayesOpt\n",
        "stp_7.run(max_iter = max_iter, init_evals = n_init) # run\n"
      ]
    },
    {
      "cell_type": "code",
      "execution_count": null,
      "metadata": {
        "colab": {
          "base_uri": "https://localhost:8080/"
        },
        "id": "yCh1YYTlJLlB",
        "outputId": "e216a449-cd61-4764-f0ff-7c10291ffbfa"
      },
      "outputs": [
        {
          "output_type": "stream",
          "name": "stdout",
          "text": [
            "Evaluation \t Proposed point \t  Current eval. \t Best eval.\n",
            "init   \t [7.46858806 9.37081326]. \t  -741.8307972128058 \t -75.39770051777191\n",
            "init   \t [7.3838908  0.61711383]. \t  -110.46436066448925 \t -75.39770051777191\n",
            "init   \t [-5.34543344 -9.77202391]. \t  -1665.297823285088 \t -75.39770051777191\n",
            "init   \t [-1.39062363 -1.9529728 ]. \t  -245.96065521704543 \t -75.39770051777191\n",
            "init   \t [ 0.45349343 -0.43216408]. \t  -75.39770051777191 \t -75.39770051777191\n",
            "1      \t [ 9.69498875 -9.42535902]. \t  -285.65502563735186 \t -75.39770051777191\n",
            "2      \t [-9.2726808   3.70136455]. \t  -472.4602618219628 \t -75.39770051777191\n",
            "3      \t [-1.00193888  8.6865702 ]. \t  -90.65087164448859 \t -75.39770051777191\n",
            "4      \t [-8.78735731 -3.47217489]. \t  -1195.170959546876 \t -75.39770051777191\n",
            "5      \t [ 1.6420083  -8.61750852]. \t  -617.2250988670231 \t -75.39770051777191\n",
            "6      \t [-10.  10.]. \t  -234.0 \t -75.39770051777191\n",
            "7      \t [3.23027661 4.72969678]. \t  \u001b[92m-70.69154172117008\u001b[0m \t -70.69154172117008\n",
            "8      \t [-3.38311202  3.63841849]. \t  -75.71016760616808 \t -70.69154172117008\n",
            "9      \t [ 6.14465694 -4.7882612 ]. \t  -115.07908157621664 \t -70.69154172117008\n",
            "10     \t [10.          4.73823386]. \t  -545.2601230783465 \t -70.69154172117008\n",
            "11     \t [-10. -10.]. \t  -2594.0 \t -70.69154172117008\n",
            "12     \t [-6.2235411   5.67158377]. \t  -142.19816767429685 \t -70.69154172117008\n",
            "13     \t [-5.40430104 10.        ]. \t  -91.43450077506706 \t -70.69154172117008\n",
            "14     \t [10.         -2.93957398]. \t  -153.74336877162702 \t -70.69154172117008\n",
            "15     \t [-5.65259369  0.15360025]. \t  -413.28249989815856 \t -70.69154172117008\n",
            "16     \t [ 2.94572693 10.        ]. \t  -372.8899744730366 \t -70.69154172117008\n",
            "17     \t [-4.36920877 -5.17998895]. \t  -830.0636578533143 \t -70.69154172117008\n",
            "18     \t [ 2.1572029  -4.20815027]. \t  -199.752404987979 \t -70.69154172117008\n",
            "19     \t [ 4.31780503 -4.58477894]. \t  -141.36496690121766 \t -70.69154172117008\n",
            "20     \t [ 5.89661462 -8.34530295]. \t  -319.03505854532506 \t -70.69154172117008\n"
          ]
        }
      ],
      "source": [
        "### Bayesian optimisation runs (x20): 'STP' Acquisition Function run number = 8 \n",
        "\n",
        "np.random.seed(run_num_8)\n",
        "surrogate_stp_8 = tStudentProcess(cov_func, nu = df, optimize=hyperOpt)\n",
        "\n",
        "stp_8 = GPGO(surrogate_stp_8, Acquisition_new(util_stp), f_syn_polarity, param, n_jobs = -1) # Define BayesOpt\n",
        "stp_8.run(max_iter = max_iter, init_evals = n_init) # run\n"
      ]
    },
    {
      "cell_type": "code",
      "execution_count": null,
      "metadata": {
        "colab": {
          "base_uri": "https://localhost:8080/"
        },
        "id": "IDhy8DkEJLlC",
        "outputId": "0c822c09-199e-438b-9ffb-85ec89c47597"
      },
      "outputs": [
        {
          "output_type": "stream",
          "name": "stdout",
          "text": [
            "Evaluation \t Proposed point \t  Current eval. \t Best eval.\n",
            "init   \t [-9.79251692  0.03749184]. \t  -882.0577358281939 \t -526.7340464177141\n",
            "init   \t [-0.08453414 -7.32340942]. \t  -628.3137012668271 \t -526.7340464177141\n",
            "init   \t [-7.15777829 -5.62882649]. \t  -1268.1663931377898 \t -526.7340464177141\n",
            "init   \t [-1.62983639 -5.03797663]. \t  -526.7340464177141 \t -526.7340464177141\n",
            "init   \t [-8.31880698 -3.0900272 ]. \t  -1073.657277368356 \t -526.7340464177141\n",
            "1      \t [6.0747954  9.66718496]. \t  -621.7013152481403 \t -526.7340464177141\n",
            "2      \t [8.93416522 0.14587559]. \t  \u001b[92m-174.32426246663638\u001b[0m \t -174.32426246663638\n",
            "3      \t [ 9.30843577 -8.60467824]. \t  -247.15951990369288 \t -174.32426246663638\n",
            "4      \t [-10.  10.]. \t  -234.0 \t -174.32426246663638\n",
            "5      \t [-2.2195161   5.88835931]. \t  \u001b[92m-19.146562729888043\u001b[0m \t -19.146562729888043\n",
            "6      \t [1.99623665 0.85471694]. \t  \u001b[92m-10.87595742891068\u001b[0m \t -10.87595742891068\n",
            "7      \t [ 5.04303587 -4.25929594]. \t  -110.42083184958048 \t -10.87595742891068\n",
            "8      \t [-3.51476943  0.7177979 ]. \t  -210.3868773790809 \t -10.87595742891068\n",
            "9      \t [10.          5.55186391]. \t  -621.2942488342494 \t -10.87595742891068\n",
            "10     \t [-7.24579554  5.21029407]. \t  -218.58765598068527 \t -10.87595742891068\n",
            "11     \t [ 0.4041909 10.       ]. \t  -213.40963272173815 \t -10.87595742891068\n",
            "12     \t [2.91269898 5.27383897]. \t  -78.93716126009474 \t -10.87595742891068\n",
            "13     \t [-4.79538764 10.        ]. \t  -88.39088164082573 \t -10.87595742891068\n",
            "14     \t [  4.42388503 -10.        ]. \t  -547.530900619995 \t -10.87595742891068\n",
            "15     \t [-10. -10.]. \t  -2594.0 \t -10.87595742891068\n",
            "16     \t [ -4.38415179 -10.        ]. \t  -1549.8972381824196 \t -10.87595742891068\n",
            "17     \t [10.         -4.14750089]. \t  -145.81378078352043 \t -10.87595742891068\n",
            "18     \t [ 1.05374201 -2.34936117]. \t  -140.7928824860265 \t -10.87595742891068\n",
            "19     \t [5.39933982 2.2028773 ]. \t  -71.89346813855823 \t -10.87595742891068\n",
            "20     \t [ 7.49346198 -3.4651352 ]. \t  -83.96623130248855 \t -10.87595742891068\n"
          ]
        }
      ],
      "source": [
        "### Bayesian optimisation runs (x20): 'STP' Acquisition Function run number = 9 \n",
        "\n",
        "np.random.seed(run_num_9)\n",
        "surrogate_stp_9 = tStudentProcess(cov_func, nu = df, optimize=hyperOpt)\n",
        "\n",
        "stp_9 = GPGO(surrogate_stp_9, Acquisition_new(util_stp), f_syn_polarity, param, n_jobs = -1) # Define BayesOpt\n",
        "stp_9.run(max_iter = max_iter, init_evals = n_init) # run\n"
      ]
    },
    {
      "cell_type": "code",
      "execution_count": null,
      "metadata": {
        "colab": {
          "base_uri": "https://localhost:8080/"
        },
        "id": "RqwHOur5JLlC",
        "outputId": "b6b8ccb4-d008-4e3a-fe4a-91ddba6c8d50"
      },
      "outputs": [
        {
          "output_type": "stream",
          "name": "stdout",
          "text": [
            "Evaluation \t Proposed point \t  Current eval. \t Best eval.\n",
            "init   \t [ 5.42641287 -9.58496101]. \t  -444.22200604720473 \t -59.96573403226766\n",
            "init   \t [2.6729647  4.97607765]. \t  -59.96573403226766 \t -59.96573403226766\n",
            "init   \t [-0.02985975 -5.50406709]. \t  -436.96281238949786 \t -59.96573403226766\n",
            "init   \t [-6.0387427   5.21061424]. \t  -147.67401193720747 \t -59.96573403226766\n",
            "init   \t [-6.61778327 -8.23320372]. \t  -1605.6543289416081 \t -59.96573403226766\n",
            "1      \t [10. 10.]. \t  -1154.0 \t -59.96573403226766\n",
            "2      \t [-3.99578777 -2.07116242]. \t  -456.04852829488834 \t -59.96573403226766\n",
            "3      \t [ 7.71840507 -1.75732449]. \t  -83.15245114914569 \t -59.96573403226766\n",
            "4      \t [-1.89192077  9.96155329]. \t  -123.07406534635732 \t -59.96573403226766\n",
            "5      \t [-10.  10.]. \t  -234.0 \t -59.96573403226766\n",
            "6      \t [-10.          0.7360314]. \t  -829.8570056184705 \t -59.96573403226766\n",
            "7      \t [ 6.41222729 -3.82625159]. \t  -83.88777389359075 \t -59.96573403226766\n",
            "8      \t [10.          3.68413443]. \t  -456.59787890850714 \t -59.96573403226766\n",
            "9      \t [ 4.02860466 10.        ]. \t  -460.4640918934093 \t -59.96573403226766\n",
            "10     \t [ 2.09423677 -0.25694359]. \t  \u001b[92m-30.514238738493685\u001b[0m \t -30.514238738493685\n",
            "11     \t [10.         -7.16810917]. \t  -189.84836026861797 \t -30.514238738493685\n",
            "12     \t [-1.66620797  2.74973396]. \t  -41.19458059866841 \t -30.514238738493685\n",
            "13     \t [-10.          -4.34238563]. \t  -1520.6830685337732 \t -30.514238738493685\n",
            "14     \t [ -1.70454273 -10.        ]. \t  -1162.8452009031978 \t -30.514238738493685\n",
            "15     \t [6.00508764 2.59645745]. \t  -109.91061776751506 \t -30.514238738493685\n",
            "16     \t [-10.           5.45831084]. \t  -418.88510680987594 \t -30.514238738493685\n",
            "17     \t [6.7719414  6.66108196]. \t  -402.64654739329023 \t -30.514238738493685\n",
            "18     \t [-5.85221658  9.37553008]. \t  -88.50917586548249 \t -30.514238738493685\n",
            "19     \t [-5.92184968  1.38912834]. \t  -341.7362444321062 \t -30.514238738493685\n",
            "20     \t [-0.89963495  6.29451259]. \t  \u001b[92m-22.245160581810303\u001b[0m \t -22.245160581810303\n"
          ]
        }
      ],
      "source": [
        "### Bayesian optimisation runs (x20): 'STP' Acquisition Function run number = 10 \n",
        "\n",
        "np.random.seed(run_num_10)\n",
        "surrogate_stp_10 = tStudentProcess(cov_func, nu = df, optimize=hyperOpt)\n",
        "\n",
        "stp_10 = GPGO(surrogate_stp_10, Acquisition_new(util_stp), f_syn_polarity, param, n_jobs = -1) # Define BayesOpt\n",
        "stp_10.run(max_iter = max_iter, init_evals = n_init) # run\n"
      ]
    },
    {
      "cell_type": "code",
      "execution_count": null,
      "metadata": {
        "colab": {
          "base_uri": "https://localhost:8080/"
        },
        "id": "iXLW3-5DJLlD",
        "outputId": "8a849176-0c67-4ce1-841b-9c11ecc56594"
      },
      "outputs": [
        {
          "output_type": "stream",
          "name": "stdout",
          "text": [
            "Evaluation \t Proposed point \t  Current eval. \t Best eval.\n",
            "init   \t [-6.39460622 -9.61049517]. \t  -1814.521116554919 \t -5.483030044782123\n",
            "init   \t [-0.73562947  4.49867858]. \t  -5.483030044782123 \t -5.483030044782123\n",
            "init   \t [-1.59592791 -0.29145804]. \t  -156.21779076814232 \t -5.483030044782123\n",
            "init   \t [-9.74438371 -0.25256785]. \t  -909.6795910034871 \t -5.483030044782123\n",
            "init   \t [8.83613305 7.01590179]. \t  -639.4153671589368 \t -5.483030044782123\n",
            "1      \t [ 1.99086793 -8.88652641]. \t  -617.1328244256196 \t -5.483030044782123\n",
            "2      \t [ 8.75008369 -3.98677851]. \t  -111.20941031779066 \t -5.483030044782123\n",
            "3      \t [-10.  10.]. \t  -234.0 \t -5.483030044782123\n",
            "4      \t [-3.52542904 10.        ]. \t  -93.97351378226517 \t -5.483030044782123\n",
            "5      \t [4.79377935 1.68169985]. \t  -40.64266616860867 \t -5.483030044782123\n",
            "6      \t [ 10. -10.]. \t  -314.0 \t -5.483030044782123\n",
            "7      \t [3.26853691 9.59749402]. \t  -363.09920466418413 \t -5.483030044782123\n",
            "8      \t [ 3.19368209 -3.90163841]. \t  -141.10426485955966 \t -5.483030044782123\n",
            "9      \t [-6.77613673  5.27531126]. \t  -186.6816672422054 \t -5.483030044782123\n",
            "10     \t [10.          1.33486797]. \t  -298.9738171530885 \t -5.483030044782123\n",
            "11     \t [-2.38962421 -5.58357315]. \t  -658.5971010510932 \t -5.483030044782123\n",
            "12     \t [ 3.01754684 -0.22451708]. \t  -20.295114243258745 \t -5.483030044782123\n",
            "13     \t [-9.45084719 -5.50131999]. \t  -1618.2312121334003 \t -5.483030044782123\n",
            "14     \t [2.8179291  5.13732547]. \t  -70.44918111968687 \t -5.483030044782123\n",
            "15     \t [-5.56339543 -2.23626668]. \t  -627.4247518666562 \t -5.483030044782123\n",
            "16     \t [ 6.30175908 -7.46260659]. \t  -244.11217396560838 \t -5.483030044782123\n",
            "17     \t [ -2.05493026 -10.        ]. \t  -1209.375741637217 \t -5.483030044782123\n",
            "18     \t [-4.86102047  1.88314769]. \t  -230.3617544940186 \t -5.483030044782123\n",
            "19     \t [-0.33722499  8.14532136]. \t  -86.26889440834833 \t -5.483030044782123\n",
            "20     \t [ 6.37901341 -1.30225901]. \t  -52.08081793996089 \t -5.483030044782123\n"
          ]
        }
      ],
      "source": [
        "### Bayesian optimisation runs (x20): 'STP' Acquisition Function run number = 11 \n",
        "\n",
        "np.random.seed(run_num_11)\n",
        "surrogate_stp_11 = tStudentProcess(cov_func, nu = df, optimize=hyperOpt)\n",
        "\n",
        "stp_11 = GPGO(surrogate_stp_11, Acquisition_new(util_stp), f_syn_polarity, param, n_jobs = -1) # Define BayesOpt\n",
        "stp_11.run(max_iter = max_iter, init_evals = n_init) # run\n"
      ]
    },
    {
      "cell_type": "code",
      "execution_count": null,
      "metadata": {
        "colab": {
          "base_uri": "https://localhost:8080/"
        },
        "id": "Sv5SygMbJLlD",
        "outputId": "caaf3438-7755-4702-9df8-d6c464dbe3af"
      },
      "outputs": [
        {
          "output_type": "stream",
          "name": "stdout",
          "text": [
            "Evaluation \t Proposed point \t  Current eval. \t Best eval.\n",
            "init   \t [-6.91674315  4.80099393]. \t  -215.5279554685742 \t -189.34864056663108\n",
            "init   \t [-4.7336997   0.67478787]. \t  -298.0661631184378 \t -189.34864056663108\n",
            "init   \t [-9.70850075  8.37494016]. \t  -257.3494442600599 \t -189.34864056663108\n",
            "init   \t [ 8.01429708 -9.33157145]. \t  -314.3616446198572 \t -189.34864056663108\n",
            "init   \t [ 9.13898673 -7.25581357]. \t  -189.34864056663108 \t -189.34864056663108\n",
            "1      \t [4.66251955 4.05244711]. \t  \u001b[92m-103.44533669968575\u001b[0m \t -103.44533669968575\n",
            "2      \t [-9.24117561 -6.89977426]. \t  -1825.5186554546244 \t -103.44533669968575\n",
            "3      \t [-0.44671488 -8.86499218]. \t  -851.6772036350218 \t -103.44533669968575\n",
            "4      \t [10. 10.]. \t  -1154.0 \t -103.44533669968575\n",
            "5      \t [-0.22159448  9.12167422]. \t  -135.01031411642504 \t -103.44533669968575\n",
            "6      \t [ 3.61924153 -3.18533952]. \t  \u001b[92m-95.9870706566929\u001b[0m \t -95.9870706566929\n",
            "7      \t [10.          0.09468012]. \t  -238.02138676386278 \t -95.9870706566929\n",
            "8      \t [-10.          -0.90819008]. \t  -1025.2904753536434 \t -95.9870706566929\n",
            "9      \t [-3.94470483 -4.59010201]. \t  -710.5452836409193 \t -95.9870706566929\n",
            "10     \t [0.25663285 1.03344837]. \t  \u001b[92m-33.794559016340415\u001b[0m \t -33.794559016340415\n",
            "11     \t [ 4.63156505 10.        ]. \t  -514.3089661373476 \t -33.794559016340415\n",
            "12     \t [-4.99497991 10.        ]. \t  -88.98004566531611 \t -33.794559016340415\n",
            "13     \t [9.60920617 4.88337955]. \t  -518.0429689345755 \t -33.794559016340415\n",
            "14     \t [-2.00240478  4.83901693]. \t  \u001b[92m-17.810302933802195\u001b[0m \t -17.810302933802195\n",
            "15     \t [ -5.25259862 -10.        ]. \t  -1690.7452041671877 \t -17.810302933802195\n",
            "16     \t [  3.72686638 -10.        ]. \t  -598.5848978736366 \t -17.810302933802195\n",
            "17     \t [5.73691836 0.1768298 ]. \t  -45.05841352026436 \t -17.810302933802195\n",
            "18     \t [ 7.67156871 -3.41793713]. \t  -85.95706200516585 \t -17.810302933802195\n",
            "19     \t [-0.24577327 -2.73528267]. \t  -229.38598706901078 \t -17.810302933802195\n",
            "20     \t [1.35918383 4.79070224]. \t  -21.823667864739157 \t -17.810302933802195\n"
          ]
        }
      ],
      "source": [
        "### Bayesian optimisation runs (x20): 'STP' Acquisition Function run number = 12\n",
        "\n",
        "np.random.seed(run_num_12)\n",
        "surrogate_stp_12 = tStudentProcess(cov_func, nu = df, optimize=hyperOpt)\n",
        "\n",
        "stp_12 = GPGO(surrogate_stp_12, Acquisition_new(util_stp), f_syn_polarity, param, n_jobs = -1) # Define BayesOpt\n",
        "stp_12.run(max_iter = max_iter, init_evals = n_init) # run\n"
      ]
    },
    {
      "cell_type": "code",
      "execution_count": null,
      "metadata": {
        "colab": {
          "base_uri": "https://localhost:8080/"
        },
        "id": "NSskozWHJLlE",
        "outputId": "6937efa0-73f1-4c9a-8367-73f79214a257"
      },
      "outputs": [
        {
          "output_type": "stream",
          "name": "stdout",
          "text": [
            "Evaluation \t Proposed point \t  Current eval. \t Best eval.\n",
            "init   \t [ 5.55404821 -5.2491756 ]. \t  -143.4041188295949 \t -48.27231948835582\n",
            "init   \t [6.48557065 9.31498396]. \t  -626.9828646177026 \t -48.27231948835582\n",
            "init   \t [ 9.45202228 -0.93101505]. \t  -168.64758529203058 \t -48.27231948835582\n",
            "init   \t [2.18084926 5.51053029]. \t  -62.202299160666314 \t -48.27231948835582\n",
            "init   \t [2.8322669  4.44036459]. \t  -48.27231948835582 \t -48.27231948835582\n",
            "1      \t [-8.69830926  2.59657998]. \t  -502.3996877395562 \t -48.27231948835582\n",
            "2      \t [-9.70426529 -6.97038172]. \t  -1923.7539236093762 \t -48.27231948835582\n",
            "3      \t [-4.47473738 10.        ]. \t  -88.27845362043732 \t -48.27231948835582\n",
            "4      \t [-2.60249668 -3.02672252]. \t  -420.18681678275664 \t -48.27231948835582\n",
            "5      \t [  0.79730214 -10.        ]. \t  -866.286009325206 \t -48.27231948835582\n",
            "6      \t [ 10. -10.]. \t  -314.0 \t -48.27231948835582\n",
            "7      \t [-10.           8.64074371]. \t  -267.70450165709866 \t -48.27231948835582\n",
            "8      \t [-2.75291748  2.92244912]. \t  -72.78035530573752 \t -48.27231948835582\n",
            "9      \t [10.          4.67050617]. \t  -539.2293987331954 \t -48.27231948835582\n",
            "10     \t [ 2.6048695  -0.69205507]. \t  \u001b[92m-33.63225125611582\u001b[0m \t -33.63225125611582\n",
            "11     \t [ -4.82896797 -10.        ]. \t  -1621.0970067032567 \t -33.63225125611582\n",
            "12     \t [ 0.60436211 10.        ]. \t  -223.626924801157 \t -33.63225125611582\n",
            "13     \t [-7.53701327 -2.21060188]. \t  -856.0186563104935 \t -33.63225125611582\n",
            "14     \t [10.         -5.37938267]. \t  -152.7547174367628 \t -33.63225125611582\n",
            "15     \t [5.99195067 1.87584801]. \t  -86.0227556166715 \t -33.63225125611582\n",
            "16     \t [  5.51425999 -10.        ]. \t  -477.4096773856031 \t -33.63225125611582\n",
            "17     \t [-5.66880899  6.04511436]. \t  -106.27038600990079 \t -33.63225125611582\n",
            "18     \t [ 1.02298327 -5.4829579 ]. \t  -358.24578574420315 \t -33.63225125611582\n",
            "19     \t [-9.46518198 -9.91050534]. \t  -2461.89221427508 \t -33.63225125611582\n",
            "20     \t [-5.10436636  3.58831208]. \t  -159.31681899420366 \t -33.63225125611582\n"
          ]
        }
      ],
      "source": [
        "### Bayesian optimisation runs (x20): 'STP' Acquisition Function run number = 13 \n",
        "\n",
        "np.random.seed(run_num_13)\n",
        "surrogate_stp_13 = tStudentProcess(cov_func, nu = df, optimize=hyperOpt)\n",
        "\n",
        "stp_13 = GPGO(surrogate_stp_13, Acquisition_new(util_stp), f_syn_polarity, param, n_jobs = -1) # Define BayesOpt\n",
        "stp_13.run(max_iter = max_iter, init_evals = n_init) # run\n"
      ]
    },
    {
      "cell_type": "code",
      "execution_count": null,
      "metadata": {
        "colab": {
          "base_uri": "https://localhost:8080/"
        },
        "id": "aM5FQ3ibJLlE",
        "outputId": "0be88f4d-79f5-40ac-c4c7-3842d10206a4"
      },
      "outputs": [
        {
          "output_type": "stream",
          "name": "stdout",
          "text": [
            "Evaluation \t Proposed point \t  Current eval. \t Best eval.\n",
            "init   \t [0.27886688 5.46330104]. \t  -18.728481209446468 \t -18.728481209446468\n",
            "init   \t [ 7.40855371 -9.83906103]. \t  -371.31674613664467 \t -18.728481209446468\n",
            "init   \t [-3.80528149  9.15207479]. \t  -68.19416312981014 \t -18.728481209446468\n",
            "init   \t [ 0.26233425 -3.6343115 ]. \t  -261.94243460125864 \t -18.728481209446468\n",
            "init   \t [ 0.78399875 -5.57490115]. \t  -382.6954465291845 \t -18.728481209446468\n",
            "1      \t [ 9.82765998 -0.95725402]. \t  -188.47085669712428 \t -18.728481209446468\n",
            "2      \t [-10. -10.]. \t  -2594.0 \t -18.728481209446468\n",
            "3      \t [-8.22227648  1.00854423]. \t  -592.007443785166 \t -18.728481209446468\n",
            "4      \t [10. 10.]. \t  -1154.0 \t -18.728481209446468\n",
            "5      \t [-10.           7.54279072]. \t  -308.4191543946244 \t -18.728481209446468\n",
            "6      \t [6.11942711 4.04987414]. \t  -179.55188111201818 \t -18.728481209446468\n",
            "7      \t [ -3.53746417 -10.        ]. \t  -1419.8391793000271 \t -18.728481209446468\n",
            "8      \t [ 3.62176218 10.        ]. \t  -426.1868667373211 \t -18.728481209446468\n",
            "9      \t [-6.52824796 -4.65589231]. \t  -1037.5196670658604 \t -18.728481209446468\n",
            "10     \t [-2.49351741  1.21623752]. \t  -126.78520459399019 \t -18.728481209446468\n",
            "11     \t [ 6.05857448 -4.55346602]. \t  -107.54195992082573 \t -18.728481209446468\n",
            "12     \t [2.48951571 0.80977748]. \t  \u001b[92m-8.979691884937633\u001b[0m \t -8.979691884937633\n",
            "13     \t [  2.45705493 -10.        ]. \t  -704.081332785366 \t -8.979691884937633\n",
            "14     \t [-5.38058616  5.03555142]. \t  -120.37265722708989 \t -8.979691884937633\n",
            "15     \t [10.         -5.96114477]. \t  -161.3081544537912 \t -8.979691884937633\n",
            "16     \t [10.          5.20833663]. \t  -588.3839908100825 \t -8.979691884937633\n",
            "17     \t [3.94577535 7.04119584]. \t  -220.27992202759108 \t -8.979691884937633\n",
            "18     \t [ 2.98291872 -2.29204493]. \t  -75.7389713708048 \t -8.979691884937633\n",
            "19     \t [ 7.83921352 -3.30106105]. \t  -87.63664425411852 \t -8.979691884937633\n",
            "20     \t [  0.78430463 -10.        ]. \t  -867.6649414407777 \t -8.979691884937633\n"
          ]
        }
      ],
      "source": [
        "### Bayesian optimisation runs (x20): 'STP' Acquisition Function run number = 14 \n",
        "\n",
        "np.random.seed(run_num_14)\n",
        "surrogate_stp_14 = tStudentProcess(cov_func, nu = df, optimize=hyperOpt)\n",
        "\n",
        "stp_14 = GPGO(surrogate_stp_14, Acquisition_new(util_stp), f_syn_polarity, param, n_jobs = -1) # Define BayesOpt\n",
        "stp_14.run(max_iter = max_iter, init_evals = n_init) # run\n"
      ]
    },
    {
      "cell_type": "code",
      "execution_count": null,
      "metadata": {
        "colab": {
          "base_uri": "https://localhost:8080/"
        },
        "id": "XmPTh2j_JLlF",
        "outputId": "71289222-f72c-47bd-ebce-6c0a569debef"
      },
      "outputs": [
        {
          "output_type": "stream",
          "name": "stdout",
          "text": [
            "Evaluation \t Proposed point \t  Current eval. \t Best eval.\n",
            "init   \t [ 6.97635395 -6.4220815 ]. \t  -171.98457986923216 \t -171.98457986923216\n",
            "init   \t [-8.91273571 -2.76923108]. \t  -1115.2426864421157 \t -171.98457986923216\n",
            "init   \t [-4.49198143  0.6000045 ]. \t  -285.0550378664367 \t -171.98457986923216\n",
            "init   \t [-3.88162169 -3.91051282]. \t  -627.8031621427792 \t -171.98457986923216\n",
            "init   \t [-7.76517448 -5.00201972]. \t  -1265.415808453521 \t -171.98457986923216\n",
            "1      \t [2.12220021 7.51843057]. \t  \u001b[92m-148.94241030774955\u001b[0m \t -148.94241030774955\n",
            "2      \t [10.          1.91182995]. \t  -332.5723264192436 \t -148.94241030774955\n",
            "3      \t [-10.  10.]. \t  -234.0 \t -148.94241030774955\n",
            "4      \t [10. 10.]. \t  -1154.0 \t -148.94241030774955\n",
            "5      \t [ 3.13318274 -1.12591267]. \t  \u001b[92m-37.457514244870936\u001b[0m \t -37.457514244870936\n",
            "6      \t [-3.63515344  9.85526569]. \t  -88.19490862643545 \t -37.457514244870936\n",
            "7      \t [  0.47088736 -10.        ]. \t  -901.4275157916625 \t -37.457514244870936\n",
            "8      \t [-10.           3.82442894]. \t  -535.8486683730201 \t -37.457514244870936\n",
            "9      \t [ -5.22432755 -10.        ]. \t  -1686.041331627919 \t -37.457514244870936\n",
            "10     \t [0.26267624 2.79621277]. \t  \u001b[92m-4.127935076467885\u001b[0m \t -4.127935076467885\n",
            "11     \t [4.9880782  3.36829892]. \t  -91.95249813740502 \t -4.127935076467885\n",
            "12     \t [ 10. -10.]. \t  -314.0 \t -4.127935076467885\n",
            "13     \t [-5.09855689  5.47941292]. \t  -95.73269698623592 \t -4.127935076467885\n",
            "14     \t [ 1.20753703 -5.0056337 ]. \t  -307.37448895380317 \t -4.127935076467885\n",
            "15     \t [10.         -2.92151516]. \t  -153.972617379983 \t -4.127935076467885\n",
            "16     \t [-10. -10.]. \t  -2594.0 \t -4.127935076467885\n",
            "17     \t [8.03896797 6.33808839]. \t  -491.4230990606883 \t -4.127935076467885\n",
            "18     \t [ 5.48378417 10.        ]. \t  -596.6135162650313 \t -4.127935076467885\n",
            "19     \t [  5.08491555 -10.        ]. \t  -503.60145800906787 \t -4.127935076467885\n",
            "20     \t [-0.49450931 -0.69659381]. \t  -123.68856988394086 \t -4.127935076467885\n"
          ]
        }
      ],
      "source": [
        "### Bayesian optimisation runs (x20): 'STP' Acquisition Function run number = 15 \n",
        "\n",
        "np.random.seed(run_num_15)\n",
        "surrogate_stp_15 = tStudentProcess(cov_func, nu = df, optimize=hyperOpt)\n",
        "\n",
        "stp_15 = GPGO(surrogate_stp_15, Acquisition_new(util_stp), f_syn_polarity, param, n_jobs = -1) # Define BayesOpt\n",
        "stp_15.run(max_iter = max_iter, init_evals = n_init) # run\n"
      ]
    },
    {
      "cell_type": "code",
      "execution_count": null,
      "metadata": {
        "colab": {
          "base_uri": "https://localhost:8080/"
        },
        "id": "6aUP_b73JLlG",
        "outputId": "4a0801f9-036e-4088-9f87-2eb50c12a67f"
      },
      "outputs": [
        {
          "output_type": "stream",
          "name": "stdout",
          "text": [
            "Evaluation \t Proposed point \t  Current eval. \t Best eval.\n",
            "init   \t [-5.53417842  0.46326683]. \t  -378.2562509858209 \t -182.86095429406956\n",
            "init   \t [ 1.01402913 -9.087961  ]. \t  -729.2383206820605 \t -182.86095429406956\n",
            "init   \t [-2.78542329 -5.53838117]. \t  -694.7380078426447 \t -182.86095429406956\n",
            "init   \t [ 3.77452324 -6.7253715 ]. \t  -295.53799633399245 \t -182.86095429406956\n",
            "init   \t [-8.59350266  8.8202172 ]. \t  -182.86095429406956 \t -182.86095429406956\n",
            "1      \t [ 4.07343161 10.        ]. \t  -464.34207911502114 \t -182.86095429406956\n",
            "2      \t [8.48507984 1.58383105]. \t  -205.35867228303724 \t -182.86095429406956\n",
            "3      \t [-10. -10.]. \t  -2594.0 \t -182.86095429406956\n",
            "4      \t [ 10. -10.]. \t  -314.0 \t -182.86095429406956\n",
            "5      \t [1.18481448 3.21213993]. \t  \u001b[92m-0.7094509462247289\u001b[0m \t -0.7094509462247289\n",
            "6      \t [-2.27403192 10.        ]. \t  -115.25063760973684 \t -0.7094509462247289\n",
            "7      \t [10.          7.65850444]. \t  -848.9206375263453 \t -0.7094509462247289\n",
            "8      \t [-10.          -3.59033588]. \t  -1402.1121925714592 \t -0.7094509462247289\n",
            "9      \t [10.         -4.06810501]. \t  -145.886981445529 \t -0.7094509462247289\n",
            "10     \t [ 2.27601066 -1.59499417]. \t  -66.80478070404092 \t -0.7094509462247289\n",
            "11     \t [-10.           3.59169639]. \t  -554.6812408681888 \t -0.7094509462247289\n",
            "12     \t [-2.57238939  4.91192426]. \t  -27.445998000120465 \t -0.7094509462247289\n",
            "13     \t [4.652581   4.83269729]. \t  -137.05323931853337 \t -0.7094509462247289\n",
            "14     \t [ -4.39003246 -10.        ]. \t  -1550.8256257574403 \t -0.7094509462247289\n",
            "15     \t [-1.13134914  0.79332029]. \t  -84.68606189852005 \t -0.7094509462247289\n",
            "16     \t [0.80970301 6.86606536]. \t  -69.02776676799147 \t -0.7094509462247289\n",
            "17     \t [ 6.25018798 -2.23469639]. \t  -54.96748010592199 \t -0.7094509462247289\n",
            "18     \t [-7.18643832 -6.87137813]. \t  -1468.8008183062725 \t -0.7094509462247289\n",
            "19     \t [-6.1375396   5.50478563]. \t  -143.06806002996976 \t -0.7094509462247289\n",
            "20     \t [  5.96761903 -10.        ]. \t  -451.75381509700594 \t -0.7094509462247289\n"
          ]
        }
      ],
      "source": [
        "### Bayesian optimisation runs (x20): 'STP' Acquisition Function run number = 16 \n",
        "\n",
        "np.random.seed(run_num_16)\n",
        "surrogate_stp_16 = tStudentProcess(cov_func, nu = df, optimize=hyperOpt)\n",
        "\n",
        "stp_16 = GPGO(surrogate_stp_16, Acquisition_new(util_stp), f_syn_polarity, param, n_jobs = -1) # Define BayesOpt\n",
        "stp_16.run(max_iter = max_iter, init_evals = n_init) # run\n"
      ]
    },
    {
      "cell_type": "code",
      "execution_count": null,
      "metadata": {
        "colab": {
          "base_uri": "https://localhost:8080/"
        },
        "id": "TV8_B_7cJLlH",
        "outputId": "200dd29e-066f-4fb9-994c-ff44d9f370a0"
      },
      "outputs": [
        {
          "output_type": "stream",
          "name": "stdout",
          "text": [
            "Evaluation \t Proposed point \t  Current eval. \t Best eval.\n",
            "init   \t [-4.10669995  0.61173511]. \t  -256.4801849765532 \t -5.553508838684786\n",
            "init   \t [-6.16958426 -8.64199284]. \t  -1602.4406672130797 \t -5.553508838684786\n",
            "init   \t [5.7397092  3.12667044]. \t  -117.20749172761734 \t -5.553508838684786\n",
            "init   \t [2.75041792 1.51205788]. \t  -5.553508838684786 \t -5.553508838684786\n",
            "init   \t [-9.21874168 -2.84372791]. \t  -1170.583554210921 \t -5.553508838684786\n",
            "1      \t [-10.  10.]. \t  -234.0 \t -5.553508838684786\n",
            "2      \t [-0.61374046 10.        ]. \t  -167.65132574650377 \t -5.553508838684786\n",
            "3      \t [8.62047905 9.77050883]. \t  -932.3136194918698 \t -5.553508838684786\n",
            "4      \t [ 6.3440867  -5.33351342]. \t  -133.75339708388043 \t -5.553508838684786\n",
            "5      \t [-9.65244901  3.52367878]. \t  -524.1168548647568 \t -5.553508838684786\n",
            "6      \t [  2.16197124 -10.        ]. \t  -730.9058772075438 \t -5.553508838684786\n",
            "7      \t [ 10. -10.]. \t  -314.0 \t -5.553508838684786\n",
            "8      \t [-1.60313252 -3.7822292 ]. \t  -405.11499008314274 \t -5.553508838684786\n",
            "9      \t [10.         -0.46868528]. \t  -215.41354787868235 \t -5.553508838684786\n",
            "10     \t [-0.64188237  5.22527362]. \t  -9.009001827642436 \t -5.553508838684786\n",
            "11     \t [-5.30043396  5.58596658]. \t  -101.57176297474079 \t -5.553508838684786\n",
            "12     \t [3.2531879  7.16061407]. \t  -186.93498810841504 \t -5.553508838684786\n",
            "13     \t [10.          4.80519545]. \t  -551.2677254291908 \t -5.553508838684786\n",
            "14     \t [-0.58115916  2.41386532]. \t  -21.632268637658104 \t -5.553508838684786\n",
            "15     \t [-5.26419772 10.        ]. \t  -90.4057930351108 \t -5.553508838684786\n",
            "16     \t [ 2.87060563 -2.53404001]. \t  -87.80777033003405 \t -5.553508838684786\n",
            "17     \t [ 5.10484352 -8.36593722]. \t  -356.92819571059 \t -5.553508838684786\n",
            "18     \t [-10.          -7.09436511]. \t  -2002.7851649511636 \t -5.553508838684786\n",
            "19     \t [-1.72058491 -8.10324171]. \t  -895.076288264326 \t -5.553508838684786\n",
            "20     \t [10.         -6.43280254]. \t  -170.7270358064444 \t -5.553508838684786\n"
          ]
        }
      ],
      "source": [
        "### Bayesian optimisation runs (x20): 'STP' Acquisition Function run number = 17 \n",
        "\n",
        "np.random.seed(run_num_17)\n",
        "surrogate_stp_17 = tStudentProcess(cov_func, nu = df, optimize=hyperOpt)\n",
        "\n",
        "stp_17 = GPGO(surrogate_stp_17, Acquisition_new(util_stp), f_syn_polarity, param, n_jobs = -1) # Define BayesOpt\n",
        "stp_17.run(max_iter = max_iter, init_evals = n_init) # run\n"
      ]
    },
    {
      "cell_type": "code",
      "execution_count": null,
      "metadata": {
        "id": "57ABzGR1JLlI",
        "colab": {
          "base_uri": "https://localhost:8080/"
        },
        "outputId": "48ebe934-6ab1-47a3-f7c7-67023f828090"
      },
      "outputs": [
        {
          "output_type": "stream",
          "name": "stdout",
          "text": [
            "Evaluation \t Proposed point \t  Current eval. \t Best eval.\n",
            "init   \t [3.00748483 0.10906747]. \t  -15.509405515253864 \t -15.509405515253864\n",
            "init   \t [ 7.57202942 -6.36319549]. \t  -162.0234327224751 \t -15.509405515253864\n",
            "init   \t [7.04466137 5.00272572]. \t  -299.59059770472754 \t -15.509405515253864\n",
            "init   \t [3.32203335 9.75790897]. \t  -380.8425822546991 \t -15.509405515253864\n",
            "init   \t [-4.86063155 -9.43388149]. \t  -1527.7052410059514 \t -15.509405515253864\n",
            "1      \t [-6.1664519   4.28513481]. \t  -191.3691670751314 \t -15.509405515253864\n",
            "2      \t [-10.          -2.56558973]. \t  -1249.6508407536016 \t -15.509405515253864\n",
            "3      \t [-10.  10.]. \t  -234.0 \t -15.509405515253864\n",
            "4      \t [-2.75778486 -2.98411013]. \t  -429.5485930290748 \t -15.509405515253864\n",
            "5      \t [-1.49416818  5.70232236]. \t  \u001b[92m-13.696733687966551\u001b[0m \t -13.696733687966551\n",
            "6      \t [  2.07168374 -10.        ]. \t  -739.287421257499 \t -13.696733687966551\n",
            "7      \t [ 9.88568924 -0.83571034]. \t  -195.67729465671795 \t -13.696733687966551\n",
            "8      \t [10. 10.]. \t  -1154.0 \t -13.696733687966551\n",
            "9      \t [-4.28883231 10.        ]. \t  -88.68412665128064 \t -13.696733687966551\n",
            "10     \t [ 2.52409389 -4.57847415]. \t  -206.37821403818705 \t -13.696733687966551\n",
            "11     \t [-10.         -8.0927291]. \t  -2196.4033545135017 \t -13.696733687966551\n",
            "12     \t [-1.15172473  1.51238652]. \t  -59.82204359913865 \t -13.696733687966551\n",
            "13     \t [ 10. -10.]. \t  -314.0 \t -13.696733687966551\n",
            "14     \t [2.48135209 4.38664256]. \t  -37.018754701628964 \t -13.696733687966551\n",
            "15     \t [-10.           2.31760276]. \t  -667.3792867170334 \t -13.696733687966551\n",
            "16     \t [-6.00338528 -0.0229725 ]. \t  -460.2971695303469 \t -13.696733687966551\n",
            "17     \t [-3.97510191  9.57083802]. \t  -78.11304615777024 \t -13.696733687966551\n",
            "18     \t [ 5.95994388 -2.15038494]. \t  -51.27257949588584 \t -13.696733687966551\n",
            "19     \t [-5.2810063  -6.08416224]. \t  -1066.3266612125417 \t -13.696733687966551\n",
            "20     \t [-0.93700683 -6.92545905]. \t  -665.1391203134044 \t -13.696733687966551\n"
          ]
        }
      ],
      "source": [
        "### Bayesian optimisation runs (x20): 'STP' Acquisition Function run number = 18 \n",
        "\n",
        "np.random.seed(run_num_18)\n",
        "surrogate_stp_18 = tStudentProcess(cov_func, nu = df, optimize=hyperOpt)\n",
        "\n",
        "stp_18 = GPGO(surrogate_stp_18, Acquisition_new(util_stp), f_syn_polarity, param, n_jobs = -1) # Define BayesOpt\n",
        "stp_18.run(max_iter = max_iter, init_evals = n_init) # run\n"
      ]
    },
    {
      "cell_type": "code",
      "execution_count": null,
      "metadata": {
        "id": "x2CyIorrJLlJ",
        "colab": {
          "base_uri": "https://localhost:8080/"
        },
        "outputId": "98516136-8f66-4d94-9aec-804e91c451bb"
      },
      "outputs": [
        {
          "output_type": "stream",
          "name": "stdout",
          "text": [
            "Evaluation \t Proposed point \t  Current eval. \t Best eval.\n",
            "init   \t [-8.04932797  5.22499433]. \t  -273.1270544592675 \t -139.9227861892117\n",
            "init   \t [-5.06124054 -7.23736625]. \t  -1204.1206373978957 \t -139.9227861892117\n",
            "init   \t [-3.37106873 -8.3400087 ]. \t  -1135.0538557997047 \t -139.9227861892117\n",
            "init   \t [3.43954163 6.13187596]. \t  -139.9227861892117 \t -139.9227861892117\n",
            "init   \t [9.65483829 2.7132147 ]. \t  -355.08571481298065 \t -139.9227861892117\n",
            "1      \t [ 10. -10.]. \t  -314.0 \t -139.9227861892117\n",
            "2      \t [ 2.60055404 -2.69333527]. \t  \u001b[92m-101.97927260761645\u001b[0m \t -101.97927260761645\n",
            "3      \t [10. 10.]. \t  -1154.0 \t -101.97927260761645\n",
            "4      \t [-10.        -1.771809]. \t  -1138.7699970545727 \t -101.97927260761645\n",
            "5      \t [-1.88618676 10.        ]. \t  -125.02391138048341 \t -101.97927260761645\n",
            "6      \t [-1.79158908  1.62868542]. \t  \u001b[92m-78.99254103554831\u001b[0m \t -78.99254103554831\n",
            "7      \t [ 3.56211946 -9.42107014]. \t  -549.643073501144 \t -78.99254103554831\n",
            "8      \t [ 8.72442193 -3.72192215]. \t  -108.8709548056843 \t -78.99254103554831\n",
            "9      \t [-10. -10.]. \t  -2594.0 \t -78.99254103554831\n",
            "10     \t [-10.  10.]. \t  -234.0 \t -78.99254103554831\n",
            "11     \t [-4.68514746 -2.00197657]. \t  -514.1991514834748 \t -78.99254103554831\n",
            "12     \t [4.75861457 1.48226638]. \t  \u001b[92m-36.51688858152441\u001b[0m \t -36.51688858152441\n",
            "13     \t [ 3.81352832 -5.91819853]. \t  -236.5182003574379 \t -36.51688858152441\n",
            "14     \t [-3.31663473  5.74829861]. \t  \u001b[92m-36.02519340704673\u001b[0m \t -36.02519340704673\n",
            "15     \t [ 5.09187264 10.        ]. \t  -557.8619764685851 \t -36.02519340704673\n",
            "16     \t [-5.84946279  9.17435259]. \t  -86.86086558833917 \t -36.02519340704673\n",
            "17     \t [-0.90491701 -4.47657986]. \t  -411.5778891607048 \t -36.02519340704673\n",
            "18     \t [0.04435036 4.58334266]. \t  \u001b[92m-4.9962343298366365\u001b[0m \t -4.9962343298366365\n",
            "19     \t [7.4973104  6.27697884]. \t  -435.1005531687135 \t -4.9962343298366365\n",
            "20     \t [-5.66606727  2.04523654]. \t  -277.6562697998337 \t -4.9962343298366365\n"
          ]
        }
      ],
      "source": [
        "### Bayesian optimisation runs (x20): 'STP' Acquisition Function run number = 19 \n",
        "\n",
        "np.random.seed(run_num_19)\n",
        "surrogate_stp_19 = tStudentProcess(cov_func, nu = df, optimize=hyperOpt)\n",
        "\n",
        "stp_19 = GPGO(surrogate_stp_19, Acquisition_new(util_stp), f_syn_polarity, param, n_jobs = -1) # Define BayesOpt\n",
        "stp_19.run(max_iter = max_iter, init_evals = n_init) # run\n"
      ]
    },
    {
      "cell_type": "code",
      "execution_count": null,
      "metadata": {
        "id": "4O6_IplWJLlJ",
        "colab": {
          "base_uri": "https://localhost:8080/"
        },
        "outputId": "edb80a05-9c1c-4e50-c4d6-a5959ff0c61f"
      },
      "outputs": [
        {
          "output_type": "stream",
          "name": "stdout",
          "text": [
            "Evaluation \t Proposed point \t  Current eval. \t Best eval.\n",
            "init   \t [1.76261602 7.95427456]. \t  -155.85777119682857 \t -155.85777119682857\n",
            "init   \t [7.83061459 6.31674955]. \t  -469.53411882784934 \t -155.85777119682857\n",
            "init   \t [-9.28220829  3.83515164]. \t  -463.4088031056881 \t -155.85777119682857\n",
            "init   \t [-2.42638116  0.37021891]. \t  -165.36424127801376 \t -155.85777119682857\n",
            "init   \t [ 3.15902931 -6.12299564]. \t  -281.877765303078 \t -155.85777119682857\n",
            "1      \t [-10. -10.]. \t  -2594.0 \t -155.85777119682857\n",
            "2      \t [ 10. -10.]. \t  -314.0 \t -155.85777119682857\n",
            "3      \t [10.         -1.01347079]. \t  -196.56984190069133 \t -155.85777119682857\n",
            "4      \t [-3.3990266  -6.86999145]. \t  -931.1876705867685 \t -155.85777119682857\n",
            "5      \t [4.17505925 1.04497344]. \t  \u001b[92m-19.857049148444542\u001b[0m \t -19.857049148444542\n",
            "6      \t [-9.90915615 -2.79417272]. \t  -1268.5869069246228 \t -19.857049148444542\n",
            "7      \t [-10.  10.]. \t  -234.0 \t -19.857049148444542\n",
            "8      \t [-4.25491105  9.64268352]. \t  -79.44298425982662 \t -19.857049148444542\n",
            "9      \t [-2.41417816  5.22693832]. \t  -22.254020579705955 \t -19.857049148444542\n",
            "10     \t [ 8.05536787 -5.49030209]. \t  -130.09959033848952 \t -19.857049148444542\n",
            "11     \t [  0.27773933 -10.        ]. \t  -922.7234124044458 \t -19.857049148444542\n",
            "12     \t [  5.39953354 -10.        ]. \t  -484.2279884409785 \t -19.857049148444542\n",
            "13     \t [ 1.35313095 -1.96863137]. \t  -110.02337572566049 \t -19.857049148444542\n",
            "14     \t [-5.35967246 -2.74435412]. \t  -659.4728757101166 \t -19.857049148444542\n",
            "15     \t [1.13453406 3.45135358]. \t  \u001b[92m-1.5948767949137668\u001b[0m \t -1.5948767949137668\n",
            "16     \t [ 5.51111246 10.        ]. \t  -599.3729760531281 \t -1.5948767949137668\n",
            "17     \t [10. 10.]. \t  -1154.0 \t -1.5948767949137668\n",
            "18     \t [-8.39614627 -6.82743838]. \t  -1663.050936535261 \t -1.5948767949137668\n",
            "19     \t [ 5.42327158 -2.49677821]. \t  -54.389568083275634 \t -1.5948767949137668\n",
            "20     \t [4.35869377 4.62089518]. \t  -113.09334935011557 \t -1.5948767949137668\n"
          ]
        }
      ],
      "source": [
        "### Bayesian optimisation runs (x20): 'STP' Acquisition Function run number = 20 \n",
        "\n",
        "np.random.seed(run_num_20)\n",
        "surrogate_stp_20 = tStudentProcess(cov_func, nu = df, optimize=hyperOpt)\n",
        "\n",
        "stp_20 = GPGO(surrogate_stp_20, Acquisition_new(util_stp), f_syn_polarity, param, n_jobs = -1) # Define BayesOpt\n",
        "stp_20.run(max_iter = max_iter, init_evals = n_init) # run\n"
      ]
    },
    {
      "cell_type": "code",
      "execution_count": null,
      "metadata": {
        "id": "B9S2UvZ9JLlK",
        "colab": {
          "base_uri": "https://localhost:8080/"
        },
        "outputId": "ae1f96fd-178a-4de1-f649-64b4d136de20"
      },
      "outputs": [
        {
          "output_type": "execute_result",
          "data": {
            "text/plain": [
              "(1.9428582579333449, 2.7299558909701913)"
            ]
          },
          "metadata": {},
          "execution_count": 141
        }
      ],
      "source": [
        "### Simple regret minimisation: run number = 1\n",
        "\n",
        "gp_output_1 = np.append(np.max(gp_1.GP.y[0:n_init]),gp_1.GP.y[n_init:(n_init+max_iter)]) \n",
        "stp_output_1 = np.append(np.max(stp_1.GP.y[0:n_init]),stp_1.GP.y[n_init:(n_init+max_iter)]) \n",
        "\n",
        "regret_gp_1 = np.log(y_global_orig - gp_output_1)\n",
        "regret_stp_1 = np.log(y_global_orig - stp_output_1)\n",
        "\n",
        "simple_regret_gp_1 = min_max_array(regret_gp_1)\n",
        "simple_regret_stp_1 = min_max_array(regret_stp_1)\n",
        "\n",
        "min_simple_regret_gp_1 = min(simple_regret_gp_1)\n",
        "min_simple_regret_stp_1 = min(simple_regret_stp_1)\n",
        "\n",
        "min_simple_regret_gp_1, min_simple_regret_stp_1\n"
      ]
    },
    {
      "cell_type": "code",
      "execution_count": null,
      "metadata": {
        "id": "adGcU8l5JLlK",
        "colab": {
          "base_uri": "https://localhost:8080/"
        },
        "outputId": "5db490fd-c59f-49d0-82ec-846623942bbb"
      },
      "outputs": [
        {
          "output_type": "execute_result",
          "data": {
            "text/plain": [
              "(1.7728128040078617, 1.396875342542541)"
            ]
          },
          "metadata": {},
          "execution_count": 142
        }
      ],
      "source": [
        "### Simple regret minimisation: run number = 2\n",
        "\n",
        "gp_output_2 = np.append(np.max(gp_2.GP.y[0:n_init]),gp_2.GP.y[n_init:(n_init+max_iter)]) \n",
        "stp_output_2 = np.append(np.max(stp_2.GP.y[0:n_init]),stp_2.GP.y[n_init:(n_init+max_iter)]) \n",
        "\n",
        "regret_gp_2 = np.log(y_global_orig - gp_output_2)\n",
        "regret_stp_2 = np.log(y_global_orig - stp_output_2)\n",
        "\n",
        "simple_regret_gp_2 = min_max_array(regret_gp_2)\n",
        "simple_regret_stp_2 = min_max_array(regret_stp_2)\n",
        "\n",
        "min_simple_regret_gp_2 = min(simple_regret_gp_2)\n",
        "min_simple_regret_stp_2 = min(simple_regret_stp_2)\n",
        "\n",
        "min_simple_regret_gp_2, min_simple_regret_stp_2\n"
      ]
    },
    {
      "cell_type": "code",
      "execution_count": null,
      "metadata": {
        "id": "1F9LaViaJLlL",
        "colab": {
          "base_uri": "https://localhost:8080/"
        },
        "outputId": "09d02c8f-a9cb-4604-fe07-98d6f5ba3e23"
      },
      "outputs": [
        {
          "output_type": "execute_result",
          "data": {
            "text/plain": [
              "(1.9332706053762703, 1.9332706053762703)"
            ]
          },
          "metadata": {},
          "execution_count": 143
        }
      ],
      "source": [
        "### Simple regret minimisation: run number = 3\n",
        "\n",
        "gp_output_3 = np.append(np.max(gp_3.GP.y[0:n_init]),gp_3.GP.y[n_init:(n_init+max_iter)]) \n",
        "stp_output_3 = np.append(np.max(stp_3.GP.y[0:n_init]),stp_3.GP.y[n_init:(n_init+max_iter)]) \n",
        "\n",
        "regret_gp_3 = np.log(y_global_orig - gp_output_3)\n",
        "regret_stp_3 = np.log(y_global_orig - stp_output_3)\n",
        "\n",
        "simple_regret_gp_3 = min_max_array(regret_gp_3)\n",
        "simple_regret_stp_3 = min_max_array(regret_stp_3)\n",
        "\n",
        "min_simple_regret_gp_3 = min(simple_regret_gp_3)\n",
        "min_simple_regret_stp_3 = min(simple_regret_stp_3)\n",
        "\n",
        "min_simple_regret_gp_3, min_simple_regret_stp_3\n"
      ]
    },
    {
      "cell_type": "code",
      "execution_count": null,
      "metadata": {
        "id": "vThMylZmJLlL",
        "colab": {
          "base_uri": "https://localhost:8080/"
        },
        "outputId": "d6e7c9df-bc8b-4470-b820-96b0849721b2"
      },
      "outputs": [
        {
          "output_type": "execute_result",
          "data": {
            "text/plain": [
              "(1.9514277154560395, 2.0363812712464897)"
            ]
          },
          "metadata": {},
          "execution_count": 144
        }
      ],
      "source": [
        "### Simple regret minimisation: run number = 4\n",
        "\n",
        "gp_output_4 = np.append(np.max(gp_4.GP.y[0:n_init]),gp_4.GP.y[n_init:(n_init+max_iter)]) \n",
        "stp_output_4 = np.append(np.max(stp_4.GP.y[0:n_init]),stp_4.GP.y[n_init:(n_init+max_iter)]) \n",
        "\n",
        "regret_gp_4 = np.log(y_global_orig - gp_output_4)\n",
        "regret_stp_4 = np.log(y_global_orig - stp_output_4)\n",
        "\n",
        "simple_regret_gp_4 = min_max_array(regret_gp_4)\n",
        "simple_regret_stp_4 = min_max_array(regret_stp_4)\n",
        "\n",
        "min_simple_regret_gp_4 = min(simple_regret_gp_4)\n",
        "min_simple_regret_stp_4 = min(simple_regret_stp_4)\n",
        "\n",
        "min_simple_regret_gp_4, min_simple_regret_stp_4\n"
      ]
    },
    {
      "cell_type": "code",
      "execution_count": null,
      "metadata": {
        "id": "9Um6_WG7JLlM",
        "colab": {
          "base_uri": "https://localhost:8080/"
        },
        "outputId": "c091eeba-7b08-4023-9ca0-b27537d4f684"
      },
      "outputs": [
        {
          "output_type": "execute_result",
          "data": {
            "text/plain": [
              "(2.7183539600383853, 2.893317825029239)"
            ]
          },
          "metadata": {},
          "execution_count": 145
        }
      ],
      "source": [
        "### Simple regret minimisation: run number = 5\n",
        "\n",
        "gp_output_5 = np.append(np.max(gp_5.GP.y[0:n_init]),gp_5.GP.y[n_init:(n_init+max_iter)]) \n",
        "stp_output_5 = np.append(np.max(stp_5.GP.y[0:n_init]),stp_5.GP.y[n_init:(n_init+max_iter)]) \n",
        "\n",
        "regret_gp_5 = np.log(y_global_orig - gp_output_5)\n",
        "regret_stp_5 = np.log(y_global_orig - stp_output_5)\n",
        "\n",
        "simple_regret_gp_5 = min_max_array(regret_gp_5)\n",
        "simple_regret_stp_5 = min_max_array(regret_stp_5)\n",
        "\n",
        "min_simple_regret_gp_5 = min(simple_regret_gp_5)\n",
        "min_simple_regret_stp_5 = min(simple_regret_stp_5)\n",
        "\n",
        "min_simple_regret_gp_5, min_simple_regret_stp_5\n"
      ]
    },
    {
      "cell_type": "code",
      "execution_count": null,
      "metadata": {
        "id": "s7F8Y3b9JLlM",
        "colab": {
          "base_uri": "https://localhost:8080/"
        },
        "outputId": "648ed7ac-adab-4b4f-dd75-3a0d9d6f8466"
      },
      "outputs": [
        {
          "output_type": "execute_result",
          "data": {
            "text/plain": [
              "(2.454657664545504, -1.6111792732525676)"
            ]
          },
          "metadata": {},
          "execution_count": 146
        }
      ],
      "source": [
        "### Simple regret minimisation: run number = 6\n",
        "\n",
        "gp_output_6 = np.append(np.max(gp_6.GP.y[0:n_init]),gp_6.GP.y[n_init:(n_init+max_iter)]) \n",
        "stp_output_6 = np.append(np.max(stp_6.GP.y[0:n_init]),stp_6.GP.y[n_init:(n_init+max_iter)]) \n",
        "\n",
        "regret_gp_6 = np.log(y_global_orig - gp_output_6)\n",
        "regret_stp_6 = np.log(y_global_orig - stp_output_6)\n",
        "\n",
        "simple_regret_gp_6 = min_max_array(regret_gp_6)\n",
        "simple_regret_stp_6 = min_max_array(regret_stp_6)\n",
        "\n",
        "min_simple_regret_gp_6 = min(simple_regret_gp_6)\n",
        "min_simple_regret_stp_6 = min(simple_regret_stp_6)\n",
        "\n",
        "min_simple_regret_gp_6, min_simple_regret_stp_6\n"
      ]
    },
    {
      "cell_type": "code",
      "execution_count": null,
      "metadata": {
        "id": "FbMNex-gJLlN",
        "colab": {
          "base_uri": "https://localhost:8080/"
        },
        "outputId": "4a850dc0-df68-4200-ec47-a6d4f1f84104"
      },
      "outputs": [
        {
          "output_type": "execute_result",
          "data": {
            "text/plain": [
              "(2.2476588772086465, 2.2476588772086465)"
            ]
          },
          "metadata": {},
          "execution_count": 147
        }
      ],
      "source": [
        "### Simple regret minimisation: run number = 7\n",
        "\n",
        "gp_output_7 = np.append(np.max(gp_7.GP.y[0:n_init]),gp_7.GP.y[n_init:(n_init+max_iter)]) \n",
        "stp_output_7 = np.append(np.max(stp_7.GP.y[0:n_init]),stp_7.GP.y[n_init:(n_init+max_iter)]) \n",
        "\n",
        "regret_gp_7 = np.log(y_global_orig - gp_output_7)\n",
        "regret_stp_7 = np.log(y_global_orig - stp_output_7)\n",
        "\n",
        "simple_regret_gp_7 = min_max_array(regret_gp_7)\n",
        "simple_regret_stp_7 = min_max_array(regret_stp_7)\n",
        "\n",
        "min_simple_regret_gp_7 = min(simple_regret_gp_7)\n",
        "min_simple_regret_stp_7 = min(simple_regret_stp_7)\n",
        "\n",
        "min_simple_regret_gp_7, min_simple_regret_stp_7\n"
      ]
    },
    {
      "cell_type": "code",
      "execution_count": null,
      "metadata": {
        "id": "yTxbjos2JLlN",
        "colab": {
          "base_uri": "https://localhost:8080/"
        },
        "outputId": "8fd94985-0daf-49e8-f547-7675ae88d8bb"
      },
      "outputs": [
        {
          "output_type": "execute_result",
          "data": {
            "text/plain": [
              "(2.0997985155145136, 4.258325929552762)"
            ]
          },
          "metadata": {},
          "execution_count": 148
        }
      ],
      "source": [
        "### Simple regret minimisation: run number = 8\n",
        "\n",
        "gp_output_8 = np.append(np.max(gp_8.GP.y[0:n_init]),gp_8.GP.y[n_init:(n_init+max_iter)]) \n",
        "stp_output_8 = np.append(np.max(stp_8.GP.y[0:n_init]),stp_8.GP.y[n_init:(n_init+max_iter)]) \n",
        "\n",
        "regret_gp_8 = np.log(y_global_orig - gp_output_8)\n",
        "regret_stp_8 = np.log(y_global_orig - stp_output_8)\n",
        "\n",
        "simple_regret_gp_8 = min_max_array(regret_gp_8)\n",
        "simple_regret_stp_8 = min_max_array(regret_stp_8)\n",
        "\n",
        "min_simple_regret_gp_8 = min(simple_regret_gp_8)\n",
        "min_simple_regret_stp_8 = min(simple_regret_stp_8)\n",
        "\n",
        "min_simple_regret_gp_8, min_simple_regret_stp_8\n"
      ]
    },
    {
      "cell_type": "code",
      "execution_count": null,
      "metadata": {
        "id": "iBuMpq59JLlO",
        "colab": {
          "base_uri": "https://localhost:8080/"
        },
        "outputId": "a497d1a0-369b-4a39-ad1d-b11fe4256a0e"
      },
      "outputs": [
        {
          "output_type": "execute_result",
          "data": {
            "text/plain": [
              "(2.956774757347121, 2.3865546125395665)"
            ]
          },
          "metadata": {},
          "execution_count": 149
        }
      ],
      "source": [
        "### Simple regret minimisation: run number = 9\n",
        "\n",
        "gp_output_9 = np.append(np.max(gp_9.GP.y[0:n_init]),gp_9.GP.y[n_init:(n_init+max_iter)]) \n",
        "stp_output_9 = np.append(np.max(stp_9.GP.y[0:n_init]),stp_9.GP.y[n_init:(n_init+max_iter)]) \n",
        "\n",
        "regret_gp_9 = np.log(y_global_orig - gp_output_9)\n",
        "regret_stp_9 = np.log(y_global_orig - stp_output_9)\n",
        "\n",
        "simple_regret_gp_9 = min_max_array(regret_gp_9)\n",
        "simple_regret_stp_9 = min_max_array(regret_stp_9)\n",
        "\n",
        "min_simple_regret_gp_9 = min(simple_regret_gp_9)\n",
        "min_simple_regret_stp_9 = min(simple_regret_stp_9)\n",
        "\n",
        "min_simple_regret_gp_9, min_simple_regret_stp_9\n"
      ]
    },
    {
      "cell_type": "code",
      "execution_count": null,
      "metadata": {
        "id": "MT-MYaKEJLlO",
        "colab": {
          "base_uri": "https://localhost:8080/"
        },
        "outputId": "34727f72-b788-4ac9-acd7-42bb20f0b2bf"
      },
      "outputs": [
        {
          "output_type": "execute_result",
          "data": {
            "text/plain": [
              "(3.031470402314775, 3.102124483014162)"
            ]
          },
          "metadata": {},
          "execution_count": 150
        }
      ],
      "source": [
        "### Simple regret minimisation: run number = 10\n",
        "\n",
        "gp_output_10 = np.append(np.max(gp_10.GP.y[0:n_init]),gp_10.GP.y[n_init:(n_init+max_iter)]) \n",
        "stp_output_10 = np.append(np.max(stp_10.GP.y[0:n_init]),stp_10.GP.y[n_init:(n_init+max_iter)]) \n",
        "\n",
        "regret_gp_10 = np.log(y_global_orig - gp_output_10)\n",
        "regret_stp_10 = np.log(y_global_orig - stp_output_10)\n",
        "\n",
        "simple_regret_gp_10 = min_max_array(regret_gp_10)\n",
        "simple_regret_stp_10 = min_max_array(regret_stp_10)\n",
        "\n",
        "min_simple_regret_gp_10 = min(simple_regret_gp_10)\n",
        "min_simple_regret_stp_10 = min(simple_regret_stp_10)\n",
        "\n",
        "min_simple_regret_gp_10, min_simple_regret_stp_10\n"
      ]
    },
    {
      "cell_type": "code",
      "execution_count": null,
      "metadata": {
        "id": "JgXNMHBOJLlP",
        "colab": {
          "base_uri": "https://localhost:8080/"
        },
        "outputId": "64a3c2c8-fd32-487a-a1c1-b78167dd43dd"
      },
      "outputs": [
        {
          "output_type": "execute_result",
          "data": {
            "text/plain": [
              "(-0.03633032656459197, 1.7016578760315788)"
            ]
          },
          "metadata": {},
          "execution_count": 151
        }
      ],
      "source": [
        "### Simple regret minimisation: run number = 11\n",
        "\n",
        "gp_output_11 = np.append(np.max(gp_11.GP.y[0:n_init]),gp_11.GP.y[n_init:(n_init+max_iter)]) \n",
        "stp_output_11 = np.append(np.max(stp_11.GP.y[0:n_init]),stp_11.GP.y[n_init:(n_init+max_iter)]) \n",
        "\n",
        "regret_gp_11 = np.log(y_global_orig - gp_output_11)\n",
        "regret_stp_11 = np.log(y_global_orig - stp_output_11)\n",
        "\n",
        "simple_regret_gp_11 = min_max_array(regret_gp_11)\n",
        "simple_regret_stp_11 = min_max_array(regret_stp_11)\n",
        "\n",
        "min_simple_regret_gp_11 = min(simple_regret_gp_11)\n",
        "min_simple_regret_stp_11 = min(simple_regret_stp_11)\n",
        "\n",
        "min_simple_regret_gp_11, min_simple_regret_stp_11\n"
      ]
    },
    {
      "cell_type": "code",
      "execution_count": null,
      "metadata": {
        "id": "CNvnLAXOJLlQ",
        "colab": {
          "base_uri": "https://localhost:8080/"
        },
        "outputId": "26f07278-6073-46b5-f512-b68fabb93a0f"
      },
      "outputs": [
        {
          "output_type": "execute_result",
          "data": {
            "text/plain": [
              "(1.6987426899627986, 2.879777106354119)"
            ]
          },
          "metadata": {},
          "execution_count": 152
        }
      ],
      "source": [
        "### Simple regret minimisation: run number = 12\n",
        "\n",
        "gp_output_12 = np.append(np.max(gp_12.GP.y[0:n_init]),gp_12.GP.y[n_init:(n_init+max_iter)]) \n",
        "stp_output_12 = np.append(np.max(stp_12.GP.y[0:n_init]),stp_12.GP.y[n_init:(n_init+max_iter)]) \n",
        "\n",
        "regret_gp_12 = np.log(y_global_orig - gp_output_12)\n",
        "regret_stp_12 = np.log(y_global_orig - stp_output_12)\n",
        "\n",
        "simple_regret_gp_12 = min_max_array(regret_gp_12)\n",
        "simple_regret_stp_12 = min_max_array(regret_stp_12)\n",
        "\n",
        "min_simple_regret_gp_12 = min(simple_regret_gp_12)\n",
        "min_simple_regret_stp_12 = min(simple_regret_stp_12)\n",
        "\n",
        "min_simple_regret_gp_12, min_simple_regret_stp_12\n"
      ]
    },
    {
      "cell_type": "code",
      "execution_count": null,
      "metadata": {
        "id": "LccPP2SJJLlQ",
        "colab": {
          "base_uri": "https://localhost:8080/"
        },
        "outputId": "0f6032cc-73a2-4376-e732-000949ef92e8"
      },
      "outputs": [
        {
          "output_type": "execute_result",
          "data": {
            "text/plain": [
              "(2.587942993079261, 3.5154854654122287)"
            ]
          },
          "metadata": {},
          "execution_count": 153
        }
      ],
      "source": [
        "### Simple regret minimisation: run number = 13\n",
        "\n",
        "gp_output_13 = np.append(np.max(gp_13.GP.y[0:n_init]),gp_13.GP.y[n_init:(n_init+max_iter)]) \n",
        "stp_output_13 = np.append(np.max(stp_13.GP.y[0:n_init]),stp_13.GP.y[n_init:(n_init+max_iter)]) \n",
        "\n",
        "regret_gp_13 = np.log(y_global_orig - gp_output_13)\n",
        "regret_stp_13 = np.log(y_global_orig - stp_output_13)\n",
        "\n",
        "simple_regret_gp_13 = min_max_array(regret_gp_13)\n",
        "simple_regret_stp_13 = min_max_array(regret_stp_13)\n",
        "\n",
        "min_simple_regret_gp_13 = min(simple_regret_gp_13)\n",
        "min_simple_regret_stp_13 = min(simple_regret_stp_13)\n",
        "\n",
        "min_simple_regret_gp_13, min_simple_regret_stp_13\n"
      ]
    },
    {
      "cell_type": "code",
      "execution_count": null,
      "metadata": {
        "id": "OsCDbV_CJLlR",
        "colab": {
          "base_uri": "https://localhost:8080/"
        },
        "outputId": "1a98924c-3ceb-468e-a1ed-224f9a68be71"
      },
      "outputs": [
        {
          "output_type": "execute_result",
          "data": {
            "text/plain": [
              "(2.4439965264162407, 2.1949655704713025)"
            ]
          },
          "metadata": {},
          "execution_count": 154
        }
      ],
      "source": [
        "### Simple regret minimisation: run number = 14\n",
        "\n",
        "gp_output_14 = np.append(np.max(gp_14.GP.y[0:n_init]),gp_14.GP.y[n_init:(n_init+max_iter)]) \n",
        "stp_output_14 = np.append(np.max(stp_14.GP.y[0:n_init]),stp_14.GP.y[n_init:(n_init+max_iter)]) \n",
        "\n",
        "regret_gp_14 = np.log(y_global_orig - gp_output_14)\n",
        "regret_stp_14 = np.log(y_global_orig - stp_output_14)\n",
        "\n",
        "simple_regret_gp_14 = min_max_array(regret_gp_14)\n",
        "simple_regret_stp_14 = min_max_array(regret_stp_14)\n",
        "\n",
        "min_simple_regret_gp_14 = min(simple_regret_gp_14)\n",
        "min_simple_regret_stp_14 = min(simple_regret_stp_14)\n",
        "\n",
        "min_simple_regret_gp_14, min_simple_regret_stp_14\n"
      ]
    },
    {
      "cell_type": "code",
      "execution_count": null,
      "metadata": {
        "id": "HVNGSKzNJLlR",
        "colab": {
          "base_uri": "https://localhost:8080/"
        },
        "outputId": "098b83a0-fc3f-4b61-9e38-08ac4682e39c"
      },
      "outputs": [
        {
          "output_type": "execute_result",
          "data": {
            "text/plain": [
              "(2.084700558448542, 1.4177773004557477)"
            ]
          },
          "metadata": {},
          "execution_count": 155
        }
      ],
      "source": [
        "### Simple regret minimisation: run number = 15\n",
        "\n",
        "gp_output_15 = np.append(np.max(gp_15.GP.y[0:n_init]),gp_15.GP.y[n_init:(n_init+max_iter)]) \n",
        "stp_output_15 = np.append(np.max(stp_15.GP.y[0:n_init]),stp_15.GP.y[n_init:(n_init+max_iter)]) \n",
        "\n",
        "regret_gp_15 = np.log(y_global_orig - gp_output_15)\n",
        "regret_stp_15 = np.log(y_global_orig - stp_output_15)\n",
        "\n",
        "simple_regret_gp_15 = min_max_array(regret_gp_15)\n",
        "simple_regret_stp_15 = min_max_array(regret_stp_15)\n",
        "\n",
        "min_simple_regret_gp_15 = min(simple_regret_gp_15)\n",
        "min_simple_regret_stp_15 = min(simple_regret_stp_15)\n",
        "\n",
        "min_simple_regret_gp_15, min_simple_regret_stp_15\n"
      ]
    },
    {
      "cell_type": "code",
      "execution_count": null,
      "metadata": {
        "id": "vFT0-DcpJLlS",
        "colab": {
          "base_uri": "https://localhost:8080/"
        },
        "outputId": "29216ad0-776d-4578-e900-2216dd957730"
      },
      "outputs": [
        {
          "output_type": "execute_result",
          "data": {
            "text/plain": [
              "(0.9841311039138996, -0.3432639232856363)"
            ]
          },
          "metadata": {},
          "execution_count": 156
        }
      ],
      "source": [
        "### Simple regret minimisation: run number = 16\n",
        "\n",
        "gp_output_16 = np.append(np.max(gp_16.GP.y[0:n_init]),gp_16.GP.y[n_init:(n_init+max_iter)]) \n",
        "stp_output_16 = np.append(np.max(stp_16.GP.y[0:n_init]),stp_16.GP.y[n_init:(n_init+max_iter)]) \n",
        "\n",
        "regret_gp_16 = np.log(y_global_orig - gp_output_16)\n",
        "regret_stp_16 = np.log(y_global_orig - stp_output_16)\n",
        "\n",
        "simple_regret_gp_16 = min_max_array(regret_gp_16)\n",
        "simple_regret_stp_16 = min_max_array(regret_stp_16)\n",
        "\n",
        "min_simple_regret_gp_16 = min(simple_regret_gp_16)\n",
        "min_simple_regret_stp_16 = min(simple_regret_stp_16)\n",
        "\n",
        "min_simple_regret_gp_16, min_simple_regret_stp_16\n"
      ]
    },
    {
      "cell_type": "code",
      "execution_count": null,
      "metadata": {
        "id": "TPbl73U3JLlS",
        "colab": {
          "base_uri": "https://localhost:8080/"
        },
        "outputId": "0d3833be-9f98-4b8b-9983-50eee0944fe8"
      },
      "outputs": [
        {
          "output_type": "execute_result",
          "data": {
            "text/plain": [
              "(1.714429951175907, 1.714429951175907)"
            ]
          },
          "metadata": {},
          "execution_count": 157
        }
      ],
      "source": [
        "### Simple regret minimisation: run number = 17\n",
        "\n",
        "gp_output_17 = np.append(np.max(gp_17.GP.y[0:n_init]),gp_17.GP.y[n_init:(n_init+max_iter)]) \n",
        "stp_output_17 = np.append(np.max(stp_17.GP.y[0:n_init]),stp_17.GP.y[n_init:(n_init+max_iter)]) \n",
        "\n",
        "regret_gp_17 = np.log(y_global_orig - gp_output_17)\n",
        "regret_stp_17 = np.log(y_global_orig - stp_output_17)\n",
        "\n",
        "simple_regret_gp_17 = min_max_array(regret_gp_17)\n",
        "simple_regret_stp_17 = min_max_array(regret_stp_17)\n",
        "\n",
        "min_simple_regret_gp_17 = min(simple_regret_gp_17)\n",
        "min_simple_regret_stp_17 = min(simple_regret_stp_17)\n",
        "\n",
        "min_simple_regret_gp_17, min_simple_regret_stp_17\n"
      ]
    },
    {
      "cell_type": "code",
      "execution_count": null,
      "metadata": {
        "id": "ANjpLP7uJLlT",
        "colab": {
          "base_uri": "https://localhost:8080/"
        },
        "outputId": "1bede1a2-6cd6-4e4d-f22e-ef6725d649b5"
      },
      "outputs": [
        {
          "output_type": "execute_result",
          "data": {
            "text/plain": [
              "(2.617157387471495, 2.617157387471495)"
            ]
          },
          "metadata": {},
          "execution_count": 158
        }
      ],
      "source": [
        "### Simple regret minimisation: run number = 18\n",
        "\n",
        "gp_output_18 = np.append(np.max(gp_18.GP.y[0:n_init]),gp_18.GP.y[n_init:(n_init+max_iter)]) \n",
        "stp_output_18 = np.append(np.max(stp_18.GP.y[0:n_init]),stp_18.GP.y[n_init:(n_init+max_iter)]) \n",
        "\n",
        "regret_gp_18 = np.log(y_global_orig - gp_output_18)\n",
        "regret_stp_18 = np.log(y_global_orig - stp_output_18)\n",
        "\n",
        "simple_regret_gp_18 = min_max_array(regret_gp_18)\n",
        "simple_regret_stp_18 = min_max_array(regret_stp_18)\n",
        "\n",
        "min_simple_regret_gp_18 = min(simple_regret_gp_18)\n",
        "min_simple_regret_stp_18 = min(simple_regret_stp_18)\n",
        "\n",
        "min_simple_regret_gp_18, min_simple_regret_stp_18\n"
      ]
    },
    {
      "cell_type": "code",
      "execution_count": null,
      "metadata": {
        "id": "yYy7bHMOJLlT",
        "colab": {
          "base_uri": "https://localhost:8080/"
        },
        "outputId": "128521b8-9680-4b12-a1e9-f6d11e98400d"
      },
      "outputs": [
        {
          "output_type": "execute_result",
          "data": {
            "text/plain": [
              "(-1.594229250956036, 1.6086844946535164)"
            ]
          },
          "metadata": {},
          "execution_count": 159
        }
      ],
      "source": [
        "### Simple regret minimisation: run number = 19\n",
        "\n",
        "gp_output_19 = np.append(np.max(gp_19.GP.y[0:n_init]),gp_19.GP.y[n_init:(n_init+max_iter)]) \n",
        "stp_output_19 = np.append(np.max(stp_19.GP.y[0:n_init]),stp_19.GP.y[n_init:(n_init+max_iter)]) \n",
        "\n",
        "regret_gp_19 = np.log(y_global_orig - gp_output_19)\n",
        "regret_stp_19 = np.log(y_global_orig - stp_output_19)\n",
        "\n",
        "simple_regret_gp_19 = min_max_array(regret_gp_19)\n",
        "simple_regret_stp_19 = min_max_array(regret_stp_19)\n",
        "\n",
        "min_simple_regret_gp_19 = min(simple_regret_gp_19)\n",
        "min_simple_regret_stp_19 = min(simple_regret_stp_19)\n",
        "\n",
        "min_simple_regret_gp_19, min_simple_regret_stp_19\n"
      ]
    },
    {
      "cell_type": "code",
      "execution_count": null,
      "metadata": {
        "id": "7h8DTQ7MJLlU",
        "colab": {
          "base_uri": "https://localhost:8080/"
        },
        "outputId": "f9b99fbb-7613-4a8e-e82f-383ca4f7dfaf"
      },
      "outputs": [
        {
          "output_type": "execute_result",
          "data": {
            "text/plain": [
              "(-0.11956195731349745, 0.4667964886851213)"
            ]
          },
          "metadata": {},
          "execution_count": 160
        }
      ],
      "source": [
        "### Simple regret minimisation: run number = 20\n",
        "\n",
        "gp_output_20 = np.append(np.max(gp_20.GP.y[0:n_init]),gp_20.GP.y[n_init:(n_init+max_iter)]) \n",
        "stp_output_20 = np.append(np.max(stp_20.GP.y[0:n_init]),stp_20.GP.y[n_init:(n_init+max_iter)]) \n",
        "\n",
        "regret_gp_20 = np.log(y_global_orig - gp_output_20)\n",
        "regret_stp_20 = np.log(y_global_orig - stp_output_20)\n",
        "\n",
        "simple_regret_gp_20 = min_max_array(regret_gp_20)\n",
        "simple_regret_stp_20 = min_max_array(regret_stp_20)\n",
        "\n",
        "min_simple_regret_gp_20 = min(simple_regret_gp_20)\n",
        "min_simple_regret_stp_20 = min(simple_regret_stp_20)\n",
        "\n",
        "min_simple_regret_gp_20, min_simple_regret_stp_20\n"
      ]
    },
    {
      "cell_type": "code",
      "execution_count": null,
      "metadata": {
        "id": "FuTVzVQkJLlU"
      },
      "outputs": [],
      "source": [
        "# Iteration1 :\n",
        "\n",
        "slice1 = 0\n",
        "\n",
        "gp1 = [simple_regret_gp_1[slice1],\n",
        "       simple_regret_gp_2[slice1],\n",
        "       simple_regret_gp_3[slice1],\n",
        "       simple_regret_gp_4[slice1],\n",
        "       simple_regret_gp_5[slice1],\n",
        "       simple_regret_gp_6[slice1],\n",
        "       simple_regret_gp_7[slice1],\n",
        "       simple_regret_gp_8[slice1],\n",
        "       simple_regret_gp_9[slice1],\n",
        "       simple_regret_gp_10[slice1],\n",
        "       simple_regret_gp_11[slice1],\n",
        "       simple_regret_gp_12[slice1],\n",
        "       simple_regret_gp_13[slice1],\n",
        "       simple_regret_gp_14[slice1],\n",
        "       simple_regret_gp_15[slice1],\n",
        "       simple_regret_gp_16[slice1],\n",
        "       simple_regret_gp_17[slice1],\n",
        "       simple_regret_gp_18[slice1],\n",
        "       simple_regret_gp_19[slice1],\n",
        "       simple_regret_gp_20[slice1]]\n",
        "\n",
        "stp1 = [simple_regret_stp_1[slice1],\n",
        "       simple_regret_stp_2[slice1],\n",
        "       simple_regret_stp_3[slice1],\n",
        "       simple_regret_stp_4[slice1],\n",
        "       simple_regret_stp_5[slice1],\n",
        "       simple_regret_stp_6[slice1],\n",
        "       simple_regret_stp_7[slice1],\n",
        "       simple_regret_stp_8[slice1],\n",
        "       simple_regret_stp_9[slice1],\n",
        "       simple_regret_stp_10[slice1],\n",
        "       simple_regret_stp_11[slice1],\n",
        "       simple_regret_stp_12[slice1],\n",
        "       simple_regret_stp_13[slice1],\n",
        "       simple_regret_stp_14[slice1],\n",
        "       simple_regret_stp_15[slice1],\n",
        "       simple_regret_stp_16[slice1],\n",
        "       simple_regret_stp_17[slice1],\n",
        "       simple_regret_stp_18[slice1],\n",
        "       simple_regret_stp_19[slice1],\n",
        "       simple_regret_stp_20[slice1]]\n",
        "\n",
        "gp1_results = pd.DataFrame(gp1).sort_values(by=[0], ascending=False)\n",
        "stp1_results = pd.DataFrame(stp1).sort_values(by=[0], ascending=False)\n",
        "\n",
        "### Best training regret minimization IQR - gp:\n",
        "lower_gp1 = np.asarray(gp1_results[4:5][0])[0]\n",
        "median_gp1 = np.asarray(gp1_results[9:10][0])[0]\n",
        "upper_gp1 = np.asarray(gp1_results[14:15][0])[0]\n",
        "\n",
        "lower_stp1 = np.asarray(stp1_results[4:5][0])[0]\n",
        "median_stp1 = np.asarray(stp1_results[9:10][0])[0]\n",
        "upper_stp1 = np.asarray(stp1_results[14:15][0])[0]\n"
      ]
    },
    {
      "cell_type": "code",
      "execution_count": null,
      "metadata": {
        "id": "OCTtqlBHJLlV"
      },
      "outputs": [],
      "source": [
        "# Iteration11 :\n",
        "\n",
        "slice11 = 10\n",
        "\n",
        "gp11 = [simple_regret_gp_1[slice11],\n",
        "       simple_regret_gp_2[slice11],\n",
        "       simple_regret_gp_3[slice11],\n",
        "       simple_regret_gp_4[slice11],\n",
        "       simple_regret_gp_5[slice11],\n",
        "       simple_regret_gp_6[slice11],\n",
        "       simple_regret_gp_7[slice11],\n",
        "       simple_regret_gp_8[slice11],\n",
        "       simple_regret_gp_9[slice11],\n",
        "       simple_regret_gp_10[slice11],\n",
        "       simple_regret_gp_11[slice11],\n",
        "       simple_regret_gp_12[slice11],\n",
        "       simple_regret_gp_13[slice11],\n",
        "       simple_regret_gp_14[slice11],\n",
        "       simple_regret_gp_15[slice11],\n",
        "       simple_regret_gp_16[slice11],\n",
        "       simple_regret_gp_17[slice11],\n",
        "       simple_regret_gp_18[slice11],\n",
        "       simple_regret_gp_19[slice11],\n",
        "       simple_regret_gp_20[slice11]]\n",
        "\n",
        "stp11 = [simple_regret_stp_1[slice11],\n",
        "       simple_regret_stp_2[slice11],\n",
        "       simple_regret_stp_3[slice11],\n",
        "       simple_regret_stp_4[slice11],\n",
        "       simple_regret_stp_5[slice11],\n",
        "       simple_regret_stp_6[slice11],\n",
        "       simple_regret_stp_7[slice11],\n",
        "       simple_regret_stp_8[slice11],\n",
        "       simple_regret_stp_9[slice11],\n",
        "       simple_regret_stp_10[slice11],\n",
        "       simple_regret_stp_11[slice11],\n",
        "       simple_regret_stp_12[slice11],\n",
        "       simple_regret_stp_13[slice11],\n",
        "       simple_regret_stp_14[slice11],\n",
        "       simple_regret_stp_15[slice11],\n",
        "       simple_regret_stp_16[slice11],\n",
        "       simple_regret_stp_17[slice11],\n",
        "       simple_regret_stp_18[slice11],\n",
        "       simple_regret_stp_19[slice11],\n",
        "       simple_regret_stp_20[slice11]]\n",
        "\n",
        "gp11_results = pd.DataFrame(gp11).sort_values(by=[0], ascending=False)\n",
        "stp11_results = pd.DataFrame(stp11).sort_values(by=[0], ascending=False)\n",
        "\n",
        "### Best training regret minimization IQR - gp:\n",
        "lower_gp11 = np.asarray(gp11_results[4:5][0])[0]\n",
        "median_gp11 = np.asarray(gp11_results[9:10][0])[0]\n",
        "upper_gp11 = np.asarray(gp11_results[14:15][0])[0]\n",
        "\n",
        "lower_stp11 = np.asarray(stp11_results[4:5][0])[0]\n",
        "median_stp11 = np.asarray(stp11_results[9:10][0])[0]\n",
        "upper_stp11 = np.asarray(stp11_results[14:15][0])[0]\n"
      ]
    },
    {
      "cell_type": "code",
      "execution_count": null,
      "metadata": {
        "id": "OhneK6K5JLlV"
      },
      "outputs": [],
      "source": [
        "# Iteration21 :\n",
        "\n",
        "slice21 = 20\n",
        "\n",
        "gp21 = [simple_regret_gp_1[slice21],\n",
        "       simple_regret_gp_2[slice21],\n",
        "       simple_regret_gp_3[slice21],\n",
        "       simple_regret_gp_4[slice21],\n",
        "       simple_regret_gp_5[slice21],\n",
        "       simple_regret_gp_6[slice21],\n",
        "       simple_regret_gp_7[slice21],\n",
        "       simple_regret_gp_8[slice21],\n",
        "       simple_regret_gp_9[slice21],\n",
        "       simple_regret_gp_10[slice21],\n",
        "       simple_regret_gp_11[slice21],\n",
        "       simple_regret_gp_12[slice21],\n",
        "       simple_regret_gp_13[slice21],\n",
        "       simple_regret_gp_14[slice21],\n",
        "       simple_regret_gp_15[slice21],\n",
        "       simple_regret_gp_16[slice21],\n",
        "       simple_regret_gp_17[slice21],\n",
        "       simple_regret_gp_18[slice21],\n",
        "       simple_regret_gp_19[slice21],\n",
        "       simple_regret_gp_20[slice21]]\n",
        "\n",
        "stp21 = [simple_regret_stp_1[slice21],\n",
        "       simple_regret_stp_2[slice21],\n",
        "       simple_regret_stp_3[slice21],\n",
        "       simple_regret_stp_4[slice21],\n",
        "       simple_regret_stp_5[slice21],\n",
        "       simple_regret_stp_6[slice21],\n",
        "       simple_regret_stp_7[slice21],\n",
        "       simple_regret_stp_8[slice21],\n",
        "       simple_regret_stp_9[slice21],\n",
        "       simple_regret_stp_10[slice21],\n",
        "       simple_regret_stp_11[slice21],\n",
        "       simple_regret_stp_12[slice21],\n",
        "       simple_regret_stp_13[slice21],\n",
        "       simple_regret_stp_14[slice21],\n",
        "       simple_regret_stp_15[slice21],\n",
        "       simple_regret_stp_16[slice21],\n",
        "       simple_regret_stp_17[slice21],\n",
        "       simple_regret_stp_18[slice21],\n",
        "       simple_regret_stp_19[slice21],\n",
        "       simple_regret_stp_20[slice21]]\n",
        "\n",
        "gp21_results = pd.DataFrame(gp21).sort_values(by=[0], ascending=False)\n",
        "stp21_results = pd.DataFrame(stp21).sort_values(by=[0], ascending=False)\n",
        "\n",
        "### Best training regret minimization IQR - gp:\n",
        "lower_gp21 = np.asarray(gp21_results[4:5][0])[0]\n",
        "median_gp21 = np.asarray(gp21_results[9:10][0])[0]\n",
        "upper_gp21 = np.asarray(gp21_results[14:15][0])[0]\n",
        "\n",
        "lower_stp21 = np.asarray(stp21_results[4:5][0])[0]\n",
        "median_stp21 = np.asarray(stp21_results[9:10][0])[0]\n",
        "upper_stp21 = np.asarray(stp21_results[14:15][0])[0]\n"
      ]
    },
    {
      "cell_type": "code",
      "execution_count": null,
      "metadata": {
        "id": "wetKUCmLJLlb"
      },
      "outputs": [],
      "source": [
        "# Iteration2 :\n",
        "\n",
        "slice2 = 1\n",
        "\n",
        "gp2 = [simple_regret_gp_1[slice2],\n",
        "       simple_regret_gp_2[slice2],\n",
        "       simple_regret_gp_3[slice2],\n",
        "       simple_regret_gp_4[slice2],\n",
        "       simple_regret_gp_5[slice2],\n",
        "       simple_regret_gp_6[slice2],\n",
        "       simple_regret_gp_7[slice2],\n",
        "       simple_regret_gp_8[slice2],\n",
        "       simple_regret_gp_9[slice2],\n",
        "       simple_regret_gp_10[slice2],\n",
        "       simple_regret_gp_11[slice2],\n",
        "       simple_regret_gp_12[slice2],\n",
        "       simple_regret_gp_13[slice2],\n",
        "       simple_regret_gp_14[slice2],\n",
        "       simple_regret_gp_15[slice2],\n",
        "       simple_regret_gp_16[slice2],\n",
        "       simple_regret_gp_17[slice2],\n",
        "       simple_regret_gp_18[slice2],\n",
        "       simple_regret_gp_19[slice2],\n",
        "       simple_regret_gp_20[slice2]]\n",
        "\n",
        "stp2 = [simple_regret_stp_1[slice2],\n",
        "       simple_regret_stp_2[slice2],\n",
        "       simple_regret_stp_3[slice2],\n",
        "       simple_regret_stp_4[slice2],\n",
        "       simple_regret_stp_5[slice2],\n",
        "       simple_regret_stp_6[slice2],\n",
        "       simple_regret_stp_7[slice2],\n",
        "       simple_regret_stp_8[slice2],\n",
        "       simple_regret_stp_9[slice2],\n",
        "       simple_regret_stp_10[slice2],\n",
        "       simple_regret_stp_11[slice2],\n",
        "       simple_regret_stp_12[slice2],\n",
        "       simple_regret_stp_13[slice2],\n",
        "       simple_regret_stp_14[slice2],\n",
        "       simple_regret_stp_15[slice2],\n",
        "       simple_regret_stp_16[slice2],\n",
        "       simple_regret_stp_17[slice2],\n",
        "       simple_regret_stp_18[slice2],\n",
        "       simple_regret_stp_19[slice2],\n",
        "       simple_regret_stp_20[slice2]]\n",
        "\n",
        "gp2_results = pd.DataFrame(gp2).sort_values(by=[0], ascending=False)\n",
        "stp2_results = pd.DataFrame(stp2).sort_values(by=[0], ascending=False)\n",
        "\n",
        "### Best training regret minimization IQR - gp:\n",
        "lower_gp2 = np.asarray(gp2_results[4:5][0])[0]\n",
        "median_gp2 = np.asarray(gp2_results[9:10][0])[0]\n",
        "upper_gp2 = np.asarray(gp2_results[14:15][0])[0]\n",
        "\n",
        "lower_stp2 = np.asarray(stp2_results[4:5][0])[0]\n",
        "median_stp2 = np.asarray(stp2_results[9:10][0])[0]\n",
        "upper_stp2 = np.asarray(stp2_results[14:15][0])[0]\n"
      ]
    },
    {
      "cell_type": "code",
      "execution_count": null,
      "metadata": {
        "id": "8dIyaTLKJLlc"
      },
      "outputs": [],
      "source": [
        "# Iteration12 :\n",
        "\n",
        "slice12 = 11\n",
        "\n",
        "gp12 = [simple_regret_gp_1[slice12],\n",
        "       simple_regret_gp_2[slice12],\n",
        "       simple_regret_gp_3[slice12],\n",
        "       simple_regret_gp_4[slice12],\n",
        "       simple_regret_gp_5[slice12],\n",
        "       simple_regret_gp_6[slice12],\n",
        "       simple_regret_gp_7[slice12],\n",
        "       simple_regret_gp_8[slice12],\n",
        "       simple_regret_gp_9[slice12],\n",
        "       simple_regret_gp_10[slice12],\n",
        "       simple_regret_gp_11[slice12],\n",
        "       simple_regret_gp_12[slice12],\n",
        "       simple_regret_gp_13[slice12],\n",
        "       simple_regret_gp_14[slice12],\n",
        "       simple_regret_gp_15[slice12],\n",
        "       simple_regret_gp_16[slice12],\n",
        "       simple_regret_gp_17[slice12],\n",
        "       simple_regret_gp_18[slice12],\n",
        "       simple_regret_gp_19[slice12],\n",
        "       simple_regret_gp_20[slice12]]\n",
        "\n",
        "stp12 = [simple_regret_stp_1[slice12],\n",
        "       simple_regret_stp_2[slice12],\n",
        "       simple_regret_stp_3[slice12],\n",
        "       simple_regret_stp_4[slice12],\n",
        "       simple_regret_stp_5[slice12],\n",
        "       simple_regret_stp_6[slice12],\n",
        "       simple_regret_stp_7[slice12],\n",
        "       simple_regret_stp_8[slice12],\n",
        "       simple_regret_stp_9[slice12],\n",
        "       simple_regret_stp_10[slice12],\n",
        "       simple_regret_stp_11[slice12],\n",
        "       simple_regret_stp_12[slice12],\n",
        "       simple_regret_stp_13[slice12],\n",
        "       simple_regret_stp_14[slice12],\n",
        "       simple_regret_stp_15[slice12],\n",
        "       simple_regret_stp_16[slice12],\n",
        "       simple_regret_stp_17[slice12],\n",
        "       simple_regret_stp_18[slice12],\n",
        "       simple_regret_stp_19[slice12],\n",
        "       simple_regret_stp_20[slice12]]\n",
        "\n",
        "gp12_results = pd.DataFrame(gp12).sort_values(by=[0], ascending=False)\n",
        "stp12_results = pd.DataFrame(stp12).sort_values(by=[0], ascending=False)\n",
        "\n",
        "### Best training regret minimization IQR - gp:\n",
        "lower_gp12 = np.asarray(gp12_results[4:5][0])[0]\n",
        "median_gp12 = np.asarray(gp12_results[9:10][0])[0]\n",
        "upper_gp12 = np.asarray(gp12_results[14:15][0])[0]\n",
        "\n",
        "lower_stp12 = np.asarray(stp12_results[4:5][0])[0]\n",
        "median_stp12 = np.asarray(stp12_results[9:10][0])[0]\n",
        "upper_stp12 = np.asarray(stp12_results[14:15][0])[0]\n"
      ]
    },
    {
      "cell_type": "code",
      "execution_count": null,
      "metadata": {
        "id": "1_6u8LF1JLlt"
      },
      "outputs": [],
      "source": [
        "# Iteration3 :\n",
        "\n",
        "slice3 = 2\n",
        "\n",
        "gp3 = [simple_regret_gp_1[slice3],\n",
        "       simple_regret_gp_2[slice3],\n",
        "       simple_regret_gp_3[slice3],\n",
        "       simple_regret_gp_4[slice3],\n",
        "       simple_regret_gp_5[slice3],\n",
        "       simple_regret_gp_6[slice3],\n",
        "       simple_regret_gp_7[slice3],\n",
        "       simple_regret_gp_8[slice3],\n",
        "       simple_regret_gp_9[slice3],\n",
        "       simple_regret_gp_10[slice3],\n",
        "       simple_regret_gp_11[slice3],\n",
        "       simple_regret_gp_12[slice3],\n",
        "       simple_regret_gp_13[slice3],\n",
        "       simple_regret_gp_14[slice3],\n",
        "       simple_regret_gp_15[slice3],\n",
        "       simple_regret_gp_16[slice3],\n",
        "       simple_regret_gp_17[slice3],\n",
        "       simple_regret_gp_18[slice3],\n",
        "       simple_regret_gp_19[slice3],\n",
        "       simple_regret_gp_20[slice3]]\n",
        "\n",
        "stp3 = [simple_regret_stp_1[slice3],\n",
        "       simple_regret_stp_2[slice3],\n",
        "       simple_regret_stp_3[slice3],\n",
        "       simple_regret_stp_4[slice3],\n",
        "       simple_regret_stp_5[slice3],\n",
        "       simple_regret_stp_6[slice3],\n",
        "       simple_regret_stp_7[slice3],\n",
        "       simple_regret_stp_8[slice3],\n",
        "       simple_regret_stp_9[slice3],\n",
        "       simple_regret_stp_10[slice3],\n",
        "       simple_regret_stp_11[slice3],\n",
        "       simple_regret_stp_12[slice3],\n",
        "       simple_regret_stp_13[slice3],\n",
        "       simple_regret_stp_14[slice3],\n",
        "       simple_regret_stp_15[slice3],\n",
        "       simple_regret_stp_16[slice3],\n",
        "       simple_regret_stp_17[slice3],\n",
        "       simple_regret_stp_18[slice3],\n",
        "       simple_regret_stp_19[slice3],\n",
        "       simple_regret_stp_20[slice3]]\n",
        "\n",
        "gp3_results = pd.DataFrame(gp3).sort_values(by=[0], ascending=False)\n",
        "stp3_results = pd.DataFrame(stp3).sort_values(by=[0], ascending=False)\n",
        "\n",
        "### Best training regret minimization IQR - gp:\n",
        "lower_gp3 = np.asarray(gp3_results[4:5][0])[0]\n",
        "median_gp3 = np.asarray(gp3_results[9:10][0])[0]\n",
        "upper_gp3 = np.asarray(gp3_results[14:15][0])[0]\n",
        "\n",
        "lower_stp3 = np.asarray(stp3_results[4:5][0])[0]\n",
        "median_stp3 = np.asarray(stp3_results[9:10][0])[0]\n",
        "upper_stp3 = np.asarray(stp3_results[14:15][0])[0]\n"
      ]
    },
    {
      "cell_type": "code",
      "execution_count": null,
      "metadata": {
        "id": "GGEAa73pJLlu"
      },
      "outputs": [],
      "source": [
        "# Iteration13 :\n",
        "\n",
        "slice13 = 12\n",
        "\n",
        "gp13 = [simple_regret_gp_1[slice13],\n",
        "       simple_regret_gp_2[slice13],\n",
        "       simple_regret_gp_3[slice13],\n",
        "       simple_regret_gp_4[slice13],\n",
        "       simple_regret_gp_5[slice13],\n",
        "       simple_regret_gp_6[slice13],\n",
        "       simple_regret_gp_7[slice13],\n",
        "       simple_regret_gp_8[slice13],\n",
        "       simple_regret_gp_9[slice13],\n",
        "       simple_regret_gp_10[slice13],\n",
        "       simple_regret_gp_11[slice13],\n",
        "       simple_regret_gp_12[slice13],\n",
        "       simple_regret_gp_13[slice13],\n",
        "       simple_regret_gp_14[slice13],\n",
        "       simple_regret_gp_15[slice13],\n",
        "       simple_regret_gp_16[slice13],\n",
        "       simple_regret_gp_17[slice13],\n",
        "       simple_regret_gp_18[slice13],\n",
        "       simple_regret_gp_19[slice13],\n",
        "       simple_regret_gp_20[slice13]]\n",
        "\n",
        "stp13 = [simple_regret_stp_1[slice13],\n",
        "       simple_regret_stp_2[slice13],\n",
        "       simple_regret_stp_3[slice13],\n",
        "       simple_regret_stp_4[slice13],\n",
        "       simple_regret_stp_5[slice13],\n",
        "       simple_regret_stp_6[slice13],\n",
        "       simple_regret_stp_7[slice13],\n",
        "       simple_regret_stp_8[slice13],\n",
        "       simple_regret_stp_9[slice13],\n",
        "       simple_regret_stp_10[slice13],\n",
        "       simple_regret_stp_11[slice13],\n",
        "       simple_regret_stp_12[slice13],\n",
        "       simple_regret_stp_13[slice13],\n",
        "       simple_regret_stp_14[slice13],\n",
        "       simple_regret_stp_15[slice13],\n",
        "       simple_regret_stp_16[slice13],\n",
        "       simple_regret_stp_17[slice13],\n",
        "       simple_regret_stp_18[slice13],\n",
        "       simple_regret_stp_19[slice13],\n",
        "       simple_regret_stp_20[slice13]]\n",
        "\n",
        "gp13_results = pd.DataFrame(gp12).sort_values(by=[0], ascending=False)\n",
        "stp13_results = pd.DataFrame(stp12).sort_values(by=[0], ascending=False)\n",
        "\n",
        "### Best training regret minimization IQR - gp:\n",
        "lower_gp13 = np.asarray(gp13_results[4:5][0])[0]\n",
        "median_gp13 = np.asarray(gp13_results[9:10][0])[0]\n",
        "upper_gp13 = np.asarray(gp13_results[14:15][0])[0]\n",
        "\n",
        "lower_stp13 = np.asarray(stp13_results[4:5][0])[0]\n",
        "median_stp13 = np.asarray(stp13_results[9:10][0])[0]\n",
        "upper_stp13 = np.asarray(stp13_results[14:15][0])[0]\n"
      ]
    },
    {
      "cell_type": "code",
      "execution_count": null,
      "metadata": {
        "id": "T30xLxygJLl0"
      },
      "outputs": [],
      "source": [
        "# Iteration4 :\n",
        "\n",
        "slice4 = 3\n",
        "\n",
        "gp4 = [simple_regret_gp_1[slice4],\n",
        "       simple_regret_gp_2[slice4],\n",
        "       simple_regret_gp_3[slice4],\n",
        "       simple_regret_gp_4[slice4],\n",
        "       simple_regret_gp_5[slice4],\n",
        "       simple_regret_gp_6[slice4],\n",
        "       simple_regret_gp_7[slice4],\n",
        "       simple_regret_gp_8[slice4],\n",
        "       simple_regret_gp_9[slice4],\n",
        "       simple_regret_gp_10[slice4],\n",
        "       simple_regret_gp_11[slice4],\n",
        "       simple_regret_gp_12[slice4],\n",
        "       simple_regret_gp_13[slice4],\n",
        "       simple_regret_gp_14[slice4],\n",
        "       simple_regret_gp_15[slice4],\n",
        "       simple_regret_gp_16[slice4],\n",
        "       simple_regret_gp_17[slice4],\n",
        "       simple_regret_gp_18[slice4],\n",
        "       simple_regret_gp_19[slice4],\n",
        "       simple_regret_gp_20[slice4]]\n",
        "\n",
        "stp4 = [simple_regret_stp_1[slice4],\n",
        "       simple_regret_stp_2[slice4],\n",
        "       simple_regret_stp_3[slice4],\n",
        "       simple_regret_stp_4[slice4],\n",
        "       simple_regret_stp_5[slice4],\n",
        "       simple_regret_stp_6[slice4],\n",
        "       simple_regret_stp_7[slice4],\n",
        "       simple_regret_stp_8[slice4],\n",
        "       simple_regret_stp_9[slice4],\n",
        "       simple_regret_stp_10[slice4],\n",
        "       simple_regret_stp_11[slice4],\n",
        "       simple_regret_stp_12[slice4],\n",
        "       simple_regret_stp_13[slice4],\n",
        "       simple_regret_stp_14[slice4],\n",
        "       simple_regret_stp_15[slice4],\n",
        "       simple_regret_stp_16[slice4],\n",
        "       simple_regret_stp_17[slice4],\n",
        "       simple_regret_stp_18[slice4],\n",
        "       simple_regret_stp_19[slice4],\n",
        "       simple_regret_stp_20[slice4]]\n",
        "\n",
        "gp4_results = pd.DataFrame(gp4).sort_values(by=[0], ascending=False)\n",
        "stp4_results = pd.DataFrame(stp4).sort_values(by=[0], ascending=False)\n",
        "\n",
        "### Best training regret minimization IQR - gp:\n",
        "lower_gp4 = np.asarray(gp4_results[4:5][0])[0]\n",
        "median_gp4 = np.asarray(gp4_results[9:10][0])[0]\n",
        "upper_gp4 = np.asarray(gp4_results[14:15][0])[0]\n",
        "\n",
        "lower_stp4 = np.asarray(stp4_results[4:5][0])[0]\n",
        "median_stp4 = np.asarray(stp4_results[9:10][0])[0]\n",
        "upper_stp4 = np.asarray(stp4_results[14:15][0])[0]\n"
      ]
    },
    {
      "cell_type": "code",
      "execution_count": null,
      "metadata": {
        "id": "MQ-jpNrnJLl1"
      },
      "outputs": [],
      "source": [
        "# Iteration14 :\n",
        "\n",
        "slice14 = 13\n",
        "\n",
        "gp14 = [simple_regret_gp_1[slice14],\n",
        "       simple_regret_gp_2[slice14],\n",
        "       simple_regret_gp_3[slice14],\n",
        "       simple_regret_gp_4[slice14],\n",
        "       simple_regret_gp_5[slice14],\n",
        "       simple_regret_gp_6[slice14],\n",
        "       simple_regret_gp_7[slice14],\n",
        "       simple_regret_gp_8[slice14],\n",
        "       simple_regret_gp_9[slice14],\n",
        "       simple_regret_gp_10[slice14],\n",
        "       simple_regret_gp_11[slice14],\n",
        "       simple_regret_gp_12[slice14],\n",
        "       simple_regret_gp_13[slice14],\n",
        "       simple_regret_gp_14[slice14],\n",
        "       simple_regret_gp_15[slice14],\n",
        "       simple_regret_gp_16[slice14],\n",
        "       simple_regret_gp_17[slice14],\n",
        "       simple_regret_gp_18[slice14],\n",
        "       simple_regret_gp_19[slice14],\n",
        "       simple_regret_gp_20[slice14]]\n",
        "\n",
        "stp14 = [simple_regret_stp_1[slice14],\n",
        "       simple_regret_stp_2[slice14],\n",
        "       simple_regret_stp_3[slice14],\n",
        "       simple_regret_stp_4[slice14],\n",
        "       simple_regret_stp_5[slice14],\n",
        "       simple_regret_stp_6[slice14],\n",
        "       simple_regret_stp_7[slice14],\n",
        "       simple_regret_stp_8[slice14],\n",
        "       simple_regret_stp_9[slice14],\n",
        "       simple_regret_stp_10[slice14],\n",
        "       simple_regret_stp_11[slice14],\n",
        "       simple_regret_stp_12[slice14],\n",
        "       simple_regret_stp_13[slice14],\n",
        "       simple_regret_stp_14[slice14],\n",
        "       simple_regret_stp_15[slice14],\n",
        "       simple_regret_stp_16[slice14],\n",
        "       simple_regret_stp_17[slice14],\n",
        "       simple_regret_stp_18[slice14],\n",
        "       simple_regret_stp_19[slice14],\n",
        "       simple_regret_stp_20[slice14]]\n",
        "\n",
        "gp14_results = pd.DataFrame(gp14).sort_values(by=[0], ascending=False)\n",
        "stp14_results = pd.DataFrame(stp14).sort_values(by=[0], ascending=False)\n",
        "\n",
        "### Best training regret minimization IQR - gp:\n",
        "lower_gp14 = np.asarray(gp14_results[4:5][0])[0]\n",
        "median_gp14 = np.asarray(gp14_results[9:10][0])[0]\n",
        "upper_gp14 = np.asarray(gp14_results[14:15][0])[0]\n",
        "\n",
        "lower_stp14 = np.asarray(stp14_results[4:5][0])[0]\n",
        "median_stp14 = np.asarray(stp14_results[9:10][0])[0]\n",
        "upper_stp14 = np.asarray(stp14_results[14:15][0])[0]\n"
      ]
    },
    {
      "cell_type": "code",
      "execution_count": null,
      "metadata": {
        "id": "Xhy_AN9jJLl9"
      },
      "outputs": [],
      "source": [
        "# Iteration5 :\n",
        "\n",
        "slice5 = 4\n",
        "\n",
        "gp5 = [simple_regret_gp_1[slice5],\n",
        "       simple_regret_gp_2[slice5],\n",
        "       simple_regret_gp_3[slice5],\n",
        "       simple_regret_gp_4[slice5],\n",
        "       simple_regret_gp_5[slice5],\n",
        "       simple_regret_gp_6[slice5],\n",
        "       simple_regret_gp_7[slice5],\n",
        "       simple_regret_gp_8[slice5],\n",
        "       simple_regret_gp_9[slice5],\n",
        "       simple_regret_gp_10[slice5],\n",
        "       simple_regret_gp_11[slice5],\n",
        "       simple_regret_gp_12[slice5],\n",
        "       simple_regret_gp_13[slice5],\n",
        "       simple_regret_gp_14[slice5],\n",
        "       simple_regret_gp_15[slice5],\n",
        "       simple_regret_gp_16[slice5],\n",
        "       simple_regret_gp_17[slice5],\n",
        "       simple_regret_gp_18[slice5],\n",
        "       simple_regret_gp_19[slice5],\n",
        "       simple_regret_gp_20[slice5]]\n",
        "\n",
        "stp5 = [simple_regret_stp_1[slice5],\n",
        "       simple_regret_stp_2[slice5],\n",
        "       simple_regret_stp_3[slice5],\n",
        "       simple_regret_stp_4[slice5],\n",
        "       simple_regret_stp_5[slice5],\n",
        "       simple_regret_stp_6[slice5],\n",
        "       simple_regret_stp_7[slice5],\n",
        "       simple_regret_stp_8[slice5],\n",
        "       simple_regret_stp_9[slice5],\n",
        "       simple_regret_stp_10[slice5],\n",
        "       simple_regret_stp_11[slice5],\n",
        "       simple_regret_stp_12[slice5],\n",
        "       simple_regret_stp_13[slice5],\n",
        "       simple_regret_stp_14[slice5],\n",
        "       simple_regret_stp_15[slice5],\n",
        "       simple_regret_stp_16[slice5],\n",
        "       simple_regret_stp_17[slice5],\n",
        "       simple_regret_stp_18[slice5],\n",
        "       simple_regret_stp_19[slice5],\n",
        "       simple_regret_stp_20[slice5]]\n",
        "\n",
        "gp5_results = pd.DataFrame(gp5).sort_values(by=[0], ascending=False)\n",
        "stp5_results = pd.DataFrame(stp5).sort_values(by=[0], ascending=False)\n",
        "\n",
        "### Best training regret minimization IQR - gp:\n",
        "lower_gp5 = np.asarray(gp5_results[4:5][0])[0]\n",
        "median_gp5 = np.asarray(gp5_results[9:10][0])[0]\n",
        "upper_gp5 = np.asarray(gp5_results[14:15][0])[0]\n",
        "\n",
        "lower_stp5 = np.asarray(stp5_results[4:5][0])[0]\n",
        "median_stp5 = np.asarray(stp5_results[9:10][0])[0]\n",
        "upper_stp5 = np.asarray(stp5_results[14:15][0])[0]\n"
      ]
    },
    {
      "cell_type": "code",
      "execution_count": null,
      "metadata": {
        "id": "WHbtLHnbJLl-"
      },
      "outputs": [],
      "source": [
        "# Iteration15 :\n",
        "\n",
        "slice15 = 14\n",
        "\n",
        "gp15 = [simple_regret_gp_1[slice15],\n",
        "       simple_regret_gp_2[slice15],\n",
        "       simple_regret_gp_3[slice15],\n",
        "       simple_regret_gp_4[slice15],\n",
        "       simple_regret_gp_5[slice15],\n",
        "       simple_regret_gp_6[slice15],\n",
        "       simple_regret_gp_7[slice15],\n",
        "       simple_regret_gp_8[slice15],\n",
        "       simple_regret_gp_9[slice15],\n",
        "       simple_regret_gp_10[slice15],\n",
        "       simple_regret_gp_11[slice15],\n",
        "       simple_regret_gp_12[slice15],\n",
        "       simple_regret_gp_13[slice15],\n",
        "       simple_regret_gp_14[slice15],\n",
        "       simple_regret_gp_15[slice15],\n",
        "       simple_regret_gp_16[slice15],\n",
        "       simple_regret_gp_17[slice15],\n",
        "       simple_regret_gp_18[slice15],\n",
        "       simple_regret_gp_19[slice15],\n",
        "       simple_regret_gp_20[slice15]]\n",
        "\n",
        "stp15 = [simple_regret_stp_1[slice15],\n",
        "       simple_regret_stp_2[slice15],\n",
        "       simple_regret_stp_3[slice15],\n",
        "       simple_regret_stp_4[slice15],\n",
        "       simple_regret_stp_5[slice15],\n",
        "       simple_regret_stp_6[slice15],\n",
        "       simple_regret_stp_7[slice15],\n",
        "       simple_regret_stp_8[slice15],\n",
        "       simple_regret_stp_9[slice15],\n",
        "       simple_regret_stp_10[slice15],\n",
        "       simple_regret_stp_11[slice15],\n",
        "       simple_regret_stp_12[slice15],\n",
        "       simple_regret_stp_13[slice15],\n",
        "       simple_regret_stp_14[slice15],\n",
        "       simple_regret_stp_15[slice15],\n",
        "       simple_regret_stp_16[slice15],\n",
        "       simple_regret_stp_17[slice15],\n",
        "       simple_regret_stp_18[slice15],\n",
        "       simple_regret_stp_19[slice15],\n",
        "       simple_regret_stp_20[slice15]]\n",
        "\n",
        "gp15_results = pd.DataFrame(gp15).sort_values(by=[0], ascending=False)\n",
        "stp15_results = pd.DataFrame(stp15).sort_values(by=[0], ascending=False)\n",
        "\n",
        "### Best training regret minimization IQR - gp:\n",
        "lower_gp15 = np.asarray(gp15_results[4:5][0])[0]\n",
        "median_gp15 = np.asarray(gp15_results[9:10][0])[0]\n",
        "upper_gp15 = np.asarray(gp15_results[14:15][0])[0]\n",
        "\n",
        "lower_stp15 = np.asarray(stp15_results[4:5][0])[0]\n",
        "median_stp15 = np.asarray(stp15_results[9:10][0])[0]\n",
        "upper_stp15 = np.asarray(stp15_results[14:15][0])[0]\n"
      ]
    },
    {
      "cell_type": "code",
      "execution_count": null,
      "metadata": {
        "id": "XqsNyHzqJLmC"
      },
      "outputs": [],
      "source": [
        "# Iteration6 :\n",
        "\n",
        "slice6 = 5\n",
        "\n",
        "gp6 = [simple_regret_gp_1[slice6],\n",
        "       simple_regret_gp_2[slice6],\n",
        "       simple_regret_gp_3[slice6],\n",
        "       simple_regret_gp_4[slice6],\n",
        "       simple_regret_gp_5[slice6],\n",
        "       simple_regret_gp_6[slice6],\n",
        "       simple_regret_gp_7[slice6],\n",
        "       simple_regret_gp_8[slice6],\n",
        "       simple_regret_gp_9[slice6],\n",
        "       simple_regret_gp_10[slice6],\n",
        "       simple_regret_gp_11[slice6],\n",
        "       simple_regret_gp_12[slice6],\n",
        "       simple_regret_gp_13[slice6],\n",
        "       simple_regret_gp_14[slice6],\n",
        "       simple_regret_gp_15[slice6],\n",
        "       simple_regret_gp_16[slice6],\n",
        "       simple_regret_gp_17[slice6],\n",
        "       simple_regret_gp_18[slice6],\n",
        "       simple_regret_gp_19[slice6],\n",
        "       simple_regret_gp_20[slice6]]\n",
        "\n",
        "stp6 = [simple_regret_stp_1[slice6],\n",
        "       simple_regret_stp_2[slice6],\n",
        "       simple_regret_stp_3[slice6],\n",
        "       simple_regret_stp_4[slice6],\n",
        "       simple_regret_stp_5[slice6],\n",
        "       simple_regret_stp_6[slice6],\n",
        "       simple_regret_stp_7[slice6],\n",
        "       simple_regret_stp_8[slice6],\n",
        "       simple_regret_stp_9[slice6],\n",
        "       simple_regret_stp_10[slice6],\n",
        "       simple_regret_stp_11[slice6],\n",
        "       simple_regret_stp_12[slice6],\n",
        "       simple_regret_stp_13[slice6],\n",
        "       simple_regret_stp_14[slice6],\n",
        "       simple_regret_stp_15[slice6],\n",
        "       simple_regret_stp_16[slice6],\n",
        "       simple_regret_stp_17[slice6],\n",
        "       simple_regret_stp_18[slice6],\n",
        "       simple_regret_stp_19[slice6],\n",
        "       simple_regret_stp_20[slice6]]\n",
        "\n",
        "gp6_results = pd.DataFrame(gp6).sort_values(by=[0], ascending=False)\n",
        "stp6_results = pd.DataFrame(stp6).sort_values(by=[0], ascending=False)\n",
        "\n",
        "### Best training regret minimization IQR - gp:\n",
        "lower_gp6 = np.asarray(gp6_results[4:5][0])[0]\n",
        "median_gp6 = np.asarray(gp6_results[9:10][0])[0]\n",
        "upper_gp6 = np.asarray(gp6_results[14:15][0])[0]\n",
        "\n",
        "lower_stp6 = np.asarray(stp6_results[4:5][0])[0]\n",
        "median_stp6 = np.asarray(stp6_results[9:10][0])[0]\n",
        "upper_stp6 = np.asarray(stp6_results[14:15][0])[0]\n"
      ]
    },
    {
      "cell_type": "code",
      "execution_count": null,
      "metadata": {
        "id": "V0-8P_clJLmD"
      },
      "outputs": [],
      "source": [
        "# Iteration16 :\n",
        "\n",
        "slice16 = 15\n",
        "\n",
        "gp16 = [simple_regret_gp_1[slice16],\n",
        "       simple_regret_gp_2[slice16],\n",
        "       simple_regret_gp_3[slice16],\n",
        "       simple_regret_gp_4[slice16],\n",
        "       simple_regret_gp_5[slice16],\n",
        "       simple_regret_gp_6[slice16],\n",
        "       simple_regret_gp_7[slice16],\n",
        "       simple_regret_gp_8[slice16],\n",
        "       simple_regret_gp_9[slice16],\n",
        "       simple_regret_gp_10[slice16],\n",
        "       simple_regret_gp_11[slice16],\n",
        "       simple_regret_gp_12[slice16],\n",
        "       simple_regret_gp_13[slice16],\n",
        "       simple_regret_gp_14[slice16],\n",
        "       simple_regret_gp_15[slice16],\n",
        "       simple_regret_gp_16[slice16],\n",
        "       simple_regret_gp_17[slice16],\n",
        "       simple_regret_gp_18[slice16],\n",
        "       simple_regret_gp_19[slice16],\n",
        "       simple_regret_gp_20[slice16]]\n",
        "\n",
        "stp16 = [simple_regret_stp_1[slice16],\n",
        "       simple_regret_stp_2[slice16],\n",
        "       simple_regret_stp_3[slice16],\n",
        "       simple_regret_stp_4[slice16],\n",
        "       simple_regret_stp_5[slice16],\n",
        "       simple_regret_stp_6[slice16],\n",
        "       simple_regret_stp_7[slice16],\n",
        "       simple_regret_stp_8[slice16],\n",
        "       simple_regret_stp_9[slice16],\n",
        "       simple_regret_stp_10[slice16],\n",
        "       simple_regret_stp_11[slice16],\n",
        "       simple_regret_stp_12[slice16],\n",
        "       simple_regret_stp_13[slice16],\n",
        "       simple_regret_stp_14[slice16],\n",
        "       simple_regret_stp_15[slice16],\n",
        "       simple_regret_stp_16[slice16],\n",
        "       simple_regret_stp_17[slice16],\n",
        "       simple_regret_stp_18[slice16],\n",
        "       simple_regret_stp_19[slice16],\n",
        "       simple_regret_stp_20[slice16]]\n",
        "\n",
        "gp16_results = pd.DataFrame(gp16).sort_values(by=[0], ascending=False)\n",
        "stp16_results = pd.DataFrame(stp16).sort_values(by=[0], ascending=False)\n",
        "\n",
        "### Best training regret minimization IQR - gp:\n",
        "lower_gp16 = np.asarray(gp16_results[4:5][0])[0]\n",
        "median_gp16 = np.asarray(gp16_results[9:10][0])[0]\n",
        "upper_gp16 = np.asarray(gp16_results[14:15][0])[0]\n",
        "\n",
        "lower_stp16 = np.asarray(stp16_results[4:5][0])[0]\n",
        "median_stp16 = np.asarray(stp16_results[9:10][0])[0]\n",
        "upper_stp16 = np.asarray(stp16_results[14:15][0])[0]\n"
      ]
    },
    {
      "cell_type": "code",
      "execution_count": null,
      "metadata": {
        "id": "OcLUACB0JLmM"
      },
      "outputs": [],
      "source": [
        "# Iteration7 :\n",
        "\n",
        "slice7 = 6\n",
        "\n",
        "gp7 = [simple_regret_gp_1[slice7],\n",
        "       simple_regret_gp_2[slice7],\n",
        "       simple_regret_gp_3[slice7],\n",
        "       simple_regret_gp_4[slice7],\n",
        "       simple_regret_gp_5[slice7],\n",
        "       simple_regret_gp_6[slice7],\n",
        "       simple_regret_gp_7[slice7],\n",
        "       simple_regret_gp_8[slice7],\n",
        "       simple_regret_gp_9[slice7],\n",
        "       simple_regret_gp_10[slice7],\n",
        "       simple_regret_gp_11[slice7],\n",
        "       simple_regret_gp_12[slice7],\n",
        "       simple_regret_gp_13[slice7],\n",
        "       simple_regret_gp_14[slice7],\n",
        "       simple_regret_gp_15[slice7],\n",
        "       simple_regret_gp_16[slice7],\n",
        "       simple_regret_gp_17[slice7],\n",
        "       simple_regret_gp_18[slice7],\n",
        "       simple_regret_gp_19[slice7],\n",
        "       simple_regret_gp_20[slice7]]\n",
        "\n",
        "stp7 = [simple_regret_stp_1[slice7],\n",
        "       simple_regret_stp_2[slice7],\n",
        "       simple_regret_stp_3[slice7],\n",
        "       simple_regret_stp_4[slice7],\n",
        "       simple_regret_stp_5[slice7],\n",
        "       simple_regret_stp_6[slice7],\n",
        "       simple_regret_stp_7[slice7],\n",
        "       simple_regret_stp_8[slice7],\n",
        "       simple_regret_stp_9[slice7],\n",
        "       simple_regret_stp_10[slice7],\n",
        "       simple_regret_stp_11[slice7],\n",
        "       simple_regret_stp_12[slice7],\n",
        "       simple_regret_stp_13[slice7],\n",
        "       simple_regret_stp_14[slice7],\n",
        "       simple_regret_stp_15[slice7],\n",
        "       simple_regret_stp_16[slice7],\n",
        "       simple_regret_stp_17[slice7],\n",
        "       simple_regret_stp_18[slice7],\n",
        "       simple_regret_stp_19[slice7],\n",
        "       simple_regret_stp_20[slice7]]\n",
        "\n",
        "gp7_results = pd.DataFrame(gp7).sort_values(by=[0], ascending=False)\n",
        "stp7_results = pd.DataFrame(stp7).sort_values(by=[0], ascending=False)\n",
        "\n",
        "### Best training regret minimization IQR - gp:\n",
        "lower_gp7 = np.asarray(gp7_results[4:5][0])[0]\n",
        "median_gp7 = np.asarray(gp7_results[9:10][0])[0]\n",
        "upper_gp7 = np.asarray(gp7_results[14:15][0])[0]\n",
        "\n",
        "lower_stp7 = np.asarray(stp7_results[4:5][0])[0]\n",
        "median_stp7 = np.asarray(stp7_results[9:10][0])[0]\n",
        "upper_stp7 = np.asarray(stp7_results[14:15][0])[0]\n"
      ]
    },
    {
      "cell_type": "code",
      "execution_count": null,
      "metadata": {
        "id": "q-Fd0t3kJLmN"
      },
      "outputs": [],
      "source": [
        "# Iteration17 :\n",
        "\n",
        "slice17 = 16\n",
        "\n",
        "gp17 = [simple_regret_gp_1[slice17],\n",
        "       simple_regret_gp_2[slice17],\n",
        "       simple_regret_gp_3[slice17],\n",
        "       simple_regret_gp_4[slice17],\n",
        "       simple_regret_gp_5[slice17],\n",
        "       simple_regret_gp_6[slice17],\n",
        "       simple_regret_gp_7[slice17],\n",
        "       simple_regret_gp_8[slice17],\n",
        "       simple_regret_gp_9[slice17],\n",
        "       simple_regret_gp_10[slice17],\n",
        "       simple_regret_gp_11[slice17],\n",
        "       simple_regret_gp_12[slice17],\n",
        "       simple_regret_gp_13[slice17],\n",
        "       simple_regret_gp_14[slice17],\n",
        "       simple_regret_gp_15[slice17],\n",
        "       simple_regret_gp_16[slice17],\n",
        "       simple_regret_gp_17[slice17],\n",
        "       simple_regret_gp_18[slice17],\n",
        "       simple_regret_gp_19[slice17],\n",
        "       simple_regret_gp_20[slice17]]\n",
        "\n",
        "stp17 = [simple_regret_stp_1[slice17],\n",
        "       simple_regret_stp_2[slice17],\n",
        "       simple_regret_stp_3[slice17],\n",
        "       simple_regret_stp_4[slice17],\n",
        "       simple_regret_stp_5[slice17],\n",
        "       simple_regret_stp_6[slice17],\n",
        "       simple_regret_stp_7[slice17],\n",
        "       simple_regret_stp_8[slice17],\n",
        "       simple_regret_stp_9[slice17],\n",
        "       simple_regret_stp_10[slice17],\n",
        "       simple_regret_stp_11[slice17],\n",
        "       simple_regret_stp_12[slice17],\n",
        "       simple_regret_stp_13[slice17],\n",
        "       simple_regret_stp_14[slice17],\n",
        "       simple_regret_stp_15[slice17],\n",
        "       simple_regret_stp_16[slice17],\n",
        "       simple_regret_stp_17[slice17],\n",
        "       simple_regret_stp_18[slice17],\n",
        "       simple_regret_stp_19[slice17],\n",
        "       simple_regret_stp_20[slice17]]\n",
        "\n",
        "gp17_results = pd.DataFrame(gp17).sort_values(by=[0], ascending=False)\n",
        "stp17_results = pd.DataFrame(stp17).sort_values(by=[0], ascending=False)\n",
        "\n",
        "### Best training regret minimization IQR - gp:\n",
        "lower_gp17 = np.asarray(gp17_results[4:5][0])[0]\n",
        "median_gp17 = np.asarray(gp17_results[9:10][0])[0]\n",
        "upper_gp17 = np.asarray(gp17_results[14:15][0])[0]\n",
        "\n",
        "lower_stp17 = np.asarray(stp17_results[4:5][0])[0]\n",
        "median_stp17 = np.asarray(stp17_results[9:10][0])[0]\n",
        "upper_stp17 = np.asarray(stp17_results[14:15][0])[0]\n"
      ]
    },
    {
      "cell_type": "code",
      "execution_count": null,
      "metadata": {
        "id": "JueXVbnGJLmU"
      },
      "outputs": [],
      "source": [
        "# Iteration8 :\n",
        "\n",
        "slice8 = 7\n",
        "\n",
        "gp8 = [simple_regret_gp_1[slice8],\n",
        "       simple_regret_gp_2[slice8],\n",
        "       simple_regret_gp_3[slice8],\n",
        "       simple_regret_gp_4[slice8],\n",
        "       simple_regret_gp_5[slice8],\n",
        "       simple_regret_gp_6[slice8],\n",
        "       simple_regret_gp_7[slice8],\n",
        "       simple_regret_gp_8[slice8],\n",
        "       simple_regret_gp_9[slice8],\n",
        "       simple_regret_gp_10[slice8],\n",
        "       simple_regret_gp_11[slice8],\n",
        "       simple_regret_gp_12[slice8],\n",
        "       simple_regret_gp_13[slice8],\n",
        "       simple_regret_gp_14[slice8],\n",
        "       simple_regret_gp_15[slice8],\n",
        "       simple_regret_gp_16[slice8],\n",
        "       simple_regret_gp_17[slice8],\n",
        "       simple_regret_gp_18[slice8],\n",
        "       simple_regret_gp_19[slice8],\n",
        "       simple_regret_gp_20[slice8]]\n",
        "\n",
        "stp8 = [simple_regret_stp_1[slice8],\n",
        "       simple_regret_stp_2[slice8],\n",
        "       simple_regret_stp_3[slice8],\n",
        "       simple_regret_stp_4[slice8],\n",
        "       simple_regret_stp_5[slice8],\n",
        "       simple_regret_stp_6[slice8],\n",
        "       simple_regret_stp_7[slice8],\n",
        "       simple_regret_stp_8[slice8],\n",
        "       simple_regret_stp_9[slice8],\n",
        "       simple_regret_stp_10[slice8],\n",
        "       simple_regret_stp_11[slice8],\n",
        "       simple_regret_stp_12[slice8],\n",
        "       simple_regret_stp_13[slice8],\n",
        "       simple_regret_stp_14[slice8],\n",
        "       simple_regret_stp_15[slice8],\n",
        "       simple_regret_stp_16[slice8],\n",
        "       simple_regret_stp_17[slice8],\n",
        "       simple_regret_stp_18[slice8],\n",
        "       simple_regret_stp_19[slice8],\n",
        "       simple_regret_stp_20[slice8]]\n",
        "\n",
        "gp8_results = pd.DataFrame(gp8).sort_values(by=[0], ascending=False)\n",
        "stp8_results = pd.DataFrame(stp8).sort_values(by=[0], ascending=False)\n",
        "\n",
        "### Best training regret minimization IQR - gp:\n",
        "lower_gp8 = np.asarray(gp8_results[4:5][0])[0]\n",
        "median_gp8 = np.asarray(gp8_results[9:10][0])[0]\n",
        "upper_gp8 = np.asarray(gp8_results[14:15][0])[0]\n",
        "\n",
        "lower_stp8 = np.asarray(stp8_results[4:5][0])[0]\n",
        "median_stp8 = np.asarray(stp8_results[9:10][0])[0]\n",
        "upper_stp8 = np.asarray(stp8_results[14:15][0])[0]\n"
      ]
    },
    {
      "cell_type": "code",
      "execution_count": null,
      "metadata": {
        "id": "mnFJ7maJJLmU"
      },
      "outputs": [],
      "source": [
        "# Iteration18 :\n",
        "\n",
        "slice18 = 17\n",
        "\n",
        "gp18 = [simple_regret_gp_1[slice18],\n",
        "       simple_regret_gp_2[slice18],\n",
        "       simple_regret_gp_3[slice18],\n",
        "       simple_regret_gp_4[slice18],\n",
        "       simple_regret_gp_5[slice18],\n",
        "       simple_regret_gp_6[slice18],\n",
        "       simple_regret_gp_7[slice18],\n",
        "       simple_regret_gp_8[slice18],\n",
        "       simple_regret_gp_9[slice18],\n",
        "       simple_regret_gp_10[slice18],\n",
        "       simple_regret_gp_11[slice18],\n",
        "       simple_regret_gp_12[slice18],\n",
        "       simple_regret_gp_13[slice18],\n",
        "       simple_regret_gp_14[slice18],\n",
        "       simple_regret_gp_15[slice18],\n",
        "       simple_regret_gp_16[slice18],\n",
        "       simple_regret_gp_17[slice18],\n",
        "       simple_regret_gp_18[slice18],\n",
        "       simple_regret_gp_19[slice18],\n",
        "       simple_regret_gp_20[slice18]]\n",
        "\n",
        "stp18 = [simple_regret_stp_1[slice18],\n",
        "       simple_regret_stp_2[slice18],\n",
        "       simple_regret_stp_3[slice18],\n",
        "       simple_regret_stp_4[slice18],\n",
        "       simple_regret_stp_5[slice18],\n",
        "       simple_regret_stp_6[slice18],\n",
        "       simple_regret_stp_7[slice18],\n",
        "       simple_regret_stp_8[slice18],\n",
        "       simple_regret_stp_9[slice18],\n",
        "       simple_regret_stp_10[slice18],\n",
        "       simple_regret_stp_11[slice18],\n",
        "       simple_regret_stp_12[slice18],\n",
        "       simple_regret_stp_13[slice18],\n",
        "       simple_regret_stp_14[slice18],\n",
        "       simple_regret_stp_15[slice18],\n",
        "       simple_regret_stp_16[slice18],\n",
        "       simple_regret_stp_17[slice18],\n",
        "       simple_regret_stp_18[slice18],\n",
        "       simple_regret_stp_19[slice18],\n",
        "       simple_regret_stp_20[slice18]]\n",
        "\n",
        "gp18_results = pd.DataFrame(gp18).sort_values(by=[0], ascending=False)\n",
        "stp18_results = pd.DataFrame(stp18).sort_values(by=[0], ascending=False)\n",
        "\n",
        "### Best training regret minimization IQR - gp:\n",
        "lower_gp18 = np.asarray(gp18_results[4:5][0])[0]\n",
        "median_gp18 = np.asarray(gp18_results[9:10][0])[0]\n",
        "upper_gp18 = np.asarray(gp18_results[14:15][0])[0]\n",
        "\n",
        "lower_stp18 = np.asarray(stp18_results[4:5][0])[0]\n",
        "median_stp18 = np.asarray(stp18_results[9:10][0])[0]\n",
        "upper_stp18 = np.asarray(stp18_results[14:15][0])[0]\n"
      ]
    },
    {
      "cell_type": "code",
      "execution_count": null,
      "metadata": {
        "id": "ll-p_qWUJLmb"
      },
      "outputs": [],
      "source": [
        "# Iteration9 :\n",
        "\n",
        "slice9 = 8\n",
        "\n",
        "gp9 = [simple_regret_gp_1[slice9],\n",
        "       simple_regret_gp_2[slice9],\n",
        "       simple_regret_gp_3[slice9],\n",
        "       simple_regret_gp_4[slice9],\n",
        "       simple_regret_gp_5[slice9],\n",
        "       simple_regret_gp_6[slice9],\n",
        "       simple_regret_gp_7[slice9],\n",
        "       simple_regret_gp_8[slice9],\n",
        "       simple_regret_gp_9[slice9],\n",
        "       simple_regret_gp_10[slice9],\n",
        "       simple_regret_gp_11[slice9],\n",
        "       simple_regret_gp_12[slice9],\n",
        "       simple_regret_gp_13[slice9],\n",
        "       simple_regret_gp_14[slice9],\n",
        "       simple_regret_gp_15[slice9],\n",
        "       simple_regret_gp_16[slice9],\n",
        "       simple_regret_gp_17[slice9],\n",
        "       simple_regret_gp_18[slice9],\n",
        "       simple_regret_gp_19[slice9],\n",
        "       simple_regret_gp_20[slice9]]\n",
        "\n",
        "stp9 = [simple_regret_stp_1[slice9],\n",
        "       simple_regret_stp_2[slice9],\n",
        "       simple_regret_stp_3[slice9],\n",
        "       simple_regret_stp_4[slice9],\n",
        "       simple_regret_stp_5[slice9],\n",
        "       simple_regret_stp_6[slice9],\n",
        "       simple_regret_stp_7[slice9],\n",
        "       simple_regret_stp_8[slice9],\n",
        "       simple_regret_stp_9[slice9],\n",
        "       simple_regret_stp_10[slice9],\n",
        "       simple_regret_stp_11[slice9],\n",
        "       simple_regret_stp_12[slice9],\n",
        "       simple_regret_stp_13[slice9],\n",
        "       simple_regret_stp_14[slice9],\n",
        "       simple_regret_stp_15[slice9],\n",
        "       simple_regret_stp_16[slice9],\n",
        "       simple_regret_stp_17[slice9],\n",
        "       simple_regret_stp_18[slice9],\n",
        "       simple_regret_stp_19[slice9],\n",
        "       simple_regret_stp_20[slice9]]\n",
        "\n",
        "gp9_results = pd.DataFrame(gp9).sort_values(by=[0], ascending=False)\n",
        "stp9_results = pd.DataFrame(stp9).sort_values(by=[0], ascending=False)\n",
        "\n",
        "### Best training regret minimization IQR - gp:\n",
        "lower_gp9 = np.asarray(gp9_results[4:5][0])[0]\n",
        "median_gp9 = np.asarray(gp9_results[9:10][0])[0]\n",
        "upper_gp9 = np.asarray(gp9_results[14:15][0])[0]\n",
        "\n",
        "lower_stp9 = np.asarray(stp9_results[4:5][0])[0]\n",
        "median_stp9 = np.asarray(stp9_results[9:10][0])[0]\n",
        "upper_stp9 = np.asarray(stp9_results[14:15][0])[0]\n"
      ]
    },
    {
      "cell_type": "code",
      "execution_count": null,
      "metadata": {
        "id": "G3QVtLpJJLmc"
      },
      "outputs": [],
      "source": [
        "# Iteration19 :\n",
        "\n",
        "slice19 = 18\n",
        "\n",
        "gp19 = [simple_regret_gp_1[slice19],\n",
        "       simple_regret_gp_2[slice19],\n",
        "       simple_regret_gp_3[slice19],\n",
        "       simple_regret_gp_4[slice19],\n",
        "       simple_regret_gp_5[slice19],\n",
        "       simple_regret_gp_6[slice19],\n",
        "       simple_regret_gp_7[slice19],\n",
        "       simple_regret_gp_8[slice19],\n",
        "       simple_regret_gp_9[slice19],\n",
        "       simple_regret_gp_10[slice19],\n",
        "       simple_regret_gp_11[slice19],\n",
        "       simple_regret_gp_12[slice19],\n",
        "       simple_regret_gp_13[slice19],\n",
        "       simple_regret_gp_14[slice19],\n",
        "       simple_regret_gp_15[slice19],\n",
        "       simple_regret_gp_16[slice19],\n",
        "       simple_regret_gp_17[slice19],\n",
        "       simple_regret_gp_18[slice19],\n",
        "       simple_regret_gp_19[slice19],\n",
        "       simple_regret_gp_20[slice19]]\n",
        "\n",
        "stp19 = [simple_regret_stp_1[slice19],\n",
        "       simple_regret_stp_2[slice19],\n",
        "       simple_regret_stp_3[slice19],\n",
        "       simple_regret_stp_4[slice19],\n",
        "       simple_regret_stp_5[slice19],\n",
        "       simple_regret_stp_6[slice19],\n",
        "       simple_regret_stp_7[slice19],\n",
        "       simple_regret_stp_8[slice19],\n",
        "       simple_regret_stp_9[slice19],\n",
        "       simple_regret_stp_10[slice19],\n",
        "       simple_regret_stp_11[slice19],\n",
        "       simple_regret_stp_12[slice19],\n",
        "       simple_regret_stp_13[slice19],\n",
        "       simple_regret_stp_14[slice19],\n",
        "       simple_regret_stp_15[slice19],\n",
        "       simple_regret_stp_16[slice19],\n",
        "       simple_regret_stp_17[slice19],\n",
        "       simple_regret_stp_18[slice19],\n",
        "       simple_regret_stp_19[slice19],\n",
        "       simple_regret_stp_20[slice19]]\n",
        "\n",
        "gp19_results = pd.DataFrame(gp19).sort_values(by=[0], ascending=False)\n",
        "stp19_results = pd.DataFrame(stp19).sort_values(by=[0], ascending=False)\n",
        "\n",
        "### Best training regret minimization IQR - gp:\n",
        "lower_gp19 = np.asarray(gp19_results[4:5][0])[0]\n",
        "median_gp19 = np.asarray(gp19_results[9:10][0])[0]\n",
        "upper_gp19 = np.asarray(gp19_results[14:15][0])[0]\n",
        "\n",
        "lower_stp19 = np.asarray(stp19_results[4:5][0])[0]\n",
        "median_stp19 = np.asarray(stp19_results[9:10][0])[0]\n",
        "upper_stp19 = np.asarray(stp19_results[14:15][0])[0]\n"
      ]
    },
    {
      "cell_type": "code",
      "execution_count": null,
      "metadata": {
        "id": "IzQng-ULJLmj"
      },
      "outputs": [],
      "source": [
        "# Iteration10 :\n",
        "\n",
        "slice10 = 9\n",
        "\n",
        "gp10 = [simple_regret_gp_1[slice10],\n",
        "       simple_regret_gp_2[slice10],\n",
        "       simple_regret_gp_3[slice10],\n",
        "       simple_regret_gp_4[slice10],\n",
        "       simple_regret_gp_5[slice10],\n",
        "       simple_regret_gp_6[slice10],\n",
        "       simple_regret_gp_7[slice10],\n",
        "       simple_regret_gp_8[slice10],\n",
        "       simple_regret_gp_9[slice10],\n",
        "       simple_regret_gp_10[slice10],\n",
        "       simple_regret_gp_11[slice10],\n",
        "       simple_regret_gp_12[slice10],\n",
        "       simple_regret_gp_13[slice10],\n",
        "       simple_regret_gp_14[slice10],\n",
        "       simple_regret_gp_15[slice10],\n",
        "       simple_regret_gp_16[slice10],\n",
        "       simple_regret_gp_17[slice10],\n",
        "       simple_regret_gp_18[slice10],\n",
        "       simple_regret_gp_19[slice10],\n",
        "       simple_regret_gp_20[slice10]]\n",
        "\n",
        "stp10 = [simple_regret_stp_1[slice10],\n",
        "       simple_regret_stp_2[slice10],\n",
        "       simple_regret_stp_3[slice10],\n",
        "       simple_regret_stp_4[slice10],\n",
        "       simple_regret_stp_5[slice10],\n",
        "       simple_regret_stp_6[slice10],\n",
        "       simple_regret_stp_7[slice10],\n",
        "       simple_regret_stp_8[slice10],\n",
        "       simple_regret_stp_9[slice10],\n",
        "       simple_regret_stp_10[slice10],\n",
        "       simple_regret_stp_11[slice10],\n",
        "       simple_regret_stp_12[slice10],\n",
        "       simple_regret_stp_13[slice10],\n",
        "       simple_regret_stp_14[slice10],\n",
        "       simple_regret_stp_15[slice10],\n",
        "       simple_regret_stp_16[slice10],\n",
        "       simple_regret_stp_17[slice10],\n",
        "       simple_regret_stp_18[slice10],\n",
        "       simple_regret_stp_19[slice10],\n",
        "       simple_regret_stp_20[slice10]]\n",
        "\n",
        "gp10_results = pd.DataFrame(gp10).sort_values(by=[0], ascending=False)\n",
        "stp10_results = pd.DataFrame(stp10).sort_values(by=[0], ascending=False)\n",
        "\n",
        "### Best training regret minimization IQR - gp:\n",
        "lower_gp10 = np.asarray(gp10_results[4:5][0])[0]\n",
        "median_gp10 = np.asarray(gp10_results[9:10][0])[0]\n",
        "upper_gp10 = np.asarray(gp10_results[14:15][0])[0]\n",
        "\n",
        "lower_stp10 = np.asarray(stp10_results[4:5][0])[0]\n",
        "median_stp10 = np.asarray(stp10_results[9:10][0])[0]\n",
        "upper_stp10 = np.asarray(stp10_results[14:15][0])[0]\n"
      ]
    },
    {
      "cell_type": "code",
      "execution_count": null,
      "metadata": {
        "id": "DQ_Cuh-4JLmk"
      },
      "outputs": [],
      "source": [
        "# Iteration20 :\n",
        "\n",
        "slice20 = 19\n",
        "\n",
        "gp20 = [simple_regret_gp_1[slice20],\n",
        "       simple_regret_gp_2[slice20],\n",
        "       simple_regret_gp_3[slice20],\n",
        "       simple_regret_gp_4[slice20],\n",
        "       simple_regret_gp_5[slice20],\n",
        "       simple_regret_gp_6[slice20],\n",
        "       simple_regret_gp_7[slice20],\n",
        "       simple_regret_gp_8[slice20],\n",
        "       simple_regret_gp_9[slice20],\n",
        "       simple_regret_gp_10[slice20],\n",
        "       simple_regret_gp_11[slice20],\n",
        "       simple_regret_gp_12[slice20],\n",
        "       simple_regret_gp_13[slice20],\n",
        "       simple_regret_gp_14[slice20],\n",
        "       simple_regret_gp_15[slice20],\n",
        "       simple_regret_gp_16[slice20],\n",
        "       simple_regret_gp_17[slice20],\n",
        "       simple_regret_gp_18[slice20],\n",
        "       simple_regret_gp_19[slice20],\n",
        "       simple_regret_gp_20[slice20]]\n",
        "\n",
        "stp20 = [simple_regret_stp_1[slice20],\n",
        "       simple_regret_stp_2[slice20],\n",
        "       simple_regret_stp_3[slice20],\n",
        "       simple_regret_stp_4[slice20],\n",
        "       simple_regret_stp_5[slice20],\n",
        "       simple_regret_stp_6[slice20],\n",
        "       simple_regret_stp_7[slice20],\n",
        "       simple_regret_stp_8[slice20],\n",
        "       simple_regret_stp_9[slice20],\n",
        "       simple_regret_stp_10[slice20],\n",
        "       simple_regret_stp_11[slice20],\n",
        "       simple_regret_stp_12[slice20],\n",
        "       simple_regret_stp_13[slice20],\n",
        "       simple_regret_stp_14[slice20],\n",
        "       simple_regret_stp_15[slice20],\n",
        "       simple_regret_stp_16[slice20],\n",
        "       simple_regret_stp_17[slice20],\n",
        "       simple_regret_stp_18[slice20],\n",
        "       simple_regret_stp_19[slice20],\n",
        "       simple_regret_stp_20[slice20]]\n",
        "\n",
        "gp20_results = pd.DataFrame(gp20).sort_values(by=[0], ascending=False)\n",
        "stp20_results = pd.DataFrame(stp20).sort_values(by=[0], ascending=False)\n",
        "\n",
        "### Best training regret minimization IQR - gp:\n",
        "lower_gp20 = np.asarray(gp20_results[4:5][0])[0]\n",
        "median_gp20 = np.asarray(gp20_results[9:10][0])[0]\n",
        "upper_gp20 = np.asarray(gp20_results[14:15][0])[0]\n",
        "\n",
        "lower_stp20 = np.asarray(stp20_results[4:5][0])[0]\n",
        "median_stp20 = np.asarray(stp20_results[9:10][0])[0]\n",
        "upper_stp20 = np.asarray(stp20_results[14:15][0])[0]\n"
      ]
    },
    {
      "cell_type": "code",
      "execution_count": null,
      "metadata": {
        "id": "R1gk3HGTJLms"
      },
      "outputs": [],
      "source": [
        "### Summarise arrays: 'GP'\n",
        "\n",
        "lower_gp = [lower_gp1,\n",
        "            lower_gp2,\n",
        "            lower_gp3,\n",
        "            lower_gp4,\n",
        "            lower_gp5,\n",
        "            lower_gp6,\n",
        "            lower_gp7,\n",
        "            lower_gp8,\n",
        "            lower_gp9,\n",
        "            lower_gp10,\n",
        "            lower_gp11,\n",
        "            lower_gp12,\n",
        "            lower_gp13,\n",
        "            lower_gp14,\n",
        "            lower_gp15,\n",
        "            lower_gp16,\n",
        "            lower_gp17,\n",
        "            lower_gp18,\n",
        "            lower_gp19,\n",
        "            lower_gp20,\n",
        "            lower_gp21]\n",
        "\n",
        "median_gp = [median_gp1,\n",
        "            median_gp2,\n",
        "            median_gp3,\n",
        "            median_gp4,\n",
        "            median_gp5,\n",
        "            median_gp6,\n",
        "            median_gp7,\n",
        "            median_gp8,\n",
        "            median_gp9,\n",
        "            median_gp10,\n",
        "            median_gp11,\n",
        "            median_gp12,\n",
        "            median_gp13,\n",
        "            median_gp14,\n",
        "            median_gp15,\n",
        "            median_gp16,\n",
        "            median_gp17,\n",
        "            median_gp18,\n",
        "            median_gp19,\n",
        "            median_gp20,\n",
        "            median_gp21]\n",
        "\n",
        "upper_gp = [upper_gp1,\n",
        "            upper_gp2,\n",
        "            upper_gp3,\n",
        "            upper_gp4,\n",
        "            upper_gp5,\n",
        "            upper_gp6,\n",
        "            upper_gp7,\n",
        "            upper_gp8,\n",
        "            upper_gp9,\n",
        "            upper_gp10,\n",
        "            upper_gp11,\n",
        "            upper_gp12,\n",
        "            upper_gp13,\n",
        "            upper_gp14,\n",
        "            upper_gp15,\n",
        "            upper_gp16,\n",
        "            upper_gp17,\n",
        "            upper_gp18,\n",
        "            upper_gp19,\n",
        "            upper_gp20,\n",
        "            upper_gp21]\n"
      ]
    },
    {
      "cell_type": "code",
      "execution_count": null,
      "metadata": {
        "id": "jox8uqaeJLmu"
      },
      "outputs": [],
      "source": [
        "### Summarise arrays: 'STP'\n",
        "\n",
        "lower_stp = [lower_stp1,\n",
        "            lower_stp2,\n",
        "            lower_stp3,\n",
        "            lower_stp4,\n",
        "            lower_stp5,\n",
        "            lower_stp6,\n",
        "            lower_stp7,\n",
        "            lower_stp8,\n",
        "            lower_stp9,\n",
        "            lower_stp10,\n",
        "            lower_stp11,\n",
        "            lower_stp12,\n",
        "            lower_stp13,\n",
        "            lower_stp14,\n",
        "            lower_stp15,\n",
        "            lower_stp16,\n",
        "            lower_stp17,\n",
        "            lower_stp18,\n",
        "            lower_stp19,\n",
        "            lower_stp20,\n",
        "            lower_stp21]\n",
        "\n",
        "median_stp = [median_stp1,\n",
        "            median_stp2,\n",
        "            median_stp3,\n",
        "            median_stp4,\n",
        "            median_stp5,\n",
        "            median_stp6,\n",
        "            median_stp7,\n",
        "            median_stp8,\n",
        "            median_stp9,\n",
        "            median_stp10,\n",
        "            median_stp11,\n",
        "            median_stp12,\n",
        "            median_stp13,\n",
        "            median_stp14,\n",
        "            median_stp15,\n",
        "            median_stp16,\n",
        "            median_stp17,\n",
        "            median_stp18,\n",
        "            median_stp19,\n",
        "            median_stp20,\n",
        "            median_stp21]\n",
        "\n",
        "upper_stp = [upper_stp1,\n",
        "            upper_stp2,\n",
        "            upper_stp3,\n",
        "            upper_stp4,\n",
        "            upper_stp5,\n",
        "            upper_stp6,\n",
        "            upper_stp7,\n",
        "            upper_stp8,\n",
        "            upper_stp9,\n",
        "            upper_stp10,\n",
        "            upper_stp11,\n",
        "            upper_stp12,\n",
        "            upper_stp13,\n",
        "            upper_stp14,\n",
        "            upper_stp15,\n",
        "            upper_stp16,\n",
        "            upper_stp17,\n",
        "            upper_stp18,\n",
        "            upper_stp19,\n",
        "            upper_stp20,\n",
        "            upper_stp21]\n"
      ]
    },
    {
      "cell_type": "code",
      "execution_count": null,
      "metadata": {
        "id": "W4hkYeeMJLmw",
        "colab": {
          "base_uri": "https://localhost:8080/",
          "height": 299
        },
        "outputId": "8e0a678d-cfd6-4dba-eedd-b0e12344d9c4"
      },
      "outputs": [
        {
          "output_type": "display_data",
          "data": {
            "text/plain": [
              "<Figure size 432x288 with 1 Axes>"
            ],
            "image/png": "[encoded data removed]"
          },
          "metadata": {
            "needs_background": "light"
          }
        }
      ],
      "source": [
        "### Visualise!\n",
        "\n",
        "title = obj_func\n",
        "\n",
        "plt.figure()\n",
        "\n",
        "plt.plot(median_gp, color = 'Red')\n",
        "plt.plot(median_stp, color = 'Blue')\n",
        "\n",
        "xstar = np.arange(0, max_iter+1, step=1)\n",
        "plt.fill_between(xstar, lower_gp, upper_gp, facecolor = 'Red', alpha=0.4, label='GP ERM Regret: IQR')\n",
        "plt.fill_between(xstar, lower_stp, upper_stp, facecolor = 'Blue', alpha=0.4, label='STP ERM Regret: IQR ' r'($\\nu$' ' = {})'.format(df))\n",
        "\n",
        "plt.title(title, weight = 'bold', family = 'Arial')\n",
        "plt.xlabel('(Post-initialisation) iteration $\\it{k}$', weight = 'bold') # x-axis label\n",
        "plt.ylabel('ln(Regret)', weight = 'bold') # y-axis label\n",
        "plt.legend(loc=0) # add plot legend\n",
        "\n",
        "### Make the x-ticks integers, not floats:\n",
        "count = len(xstar)\n",
        "plt.xticks(np.arange(count), np.arange(0, count))\n",
        "plt.show() #visualise!\n"
      ]
    },
    {
      "cell_type": "code",
      "execution_count": null,
      "metadata": {
        "id": "5TOZMC49JLmw"
      },
      "outputs": [],
      "source": []
    }
  ],
  "metadata": {
    "kernelspec": {
      "display_name": "Python 3",
      "language": "python",
      "name": "python3"
    },
    "language_info": {
      "codemirror_mode": {
        "name": "ipython",
        "version": 3
      },
      "file_extension": ".py",
      "mimetype": "text/x-python",
      "name": "python",
      "nbconvert_exporter": "python",
      "pygments_lexer": "ipython3",
      "version": "3.6.5"
    },
    "colab": {
      "provenance": [],
      "collapsed_sections": []
    }
  },
  "nbformat": 4,
  "nbformat_minor": 0
}