{
  "cells": [
    {
      "cell_type": "markdown",
      "metadata": {
        "id": "Dqn4dFx7Z2Ir"
      },
      "source": [
        "\n",
        "Rosenbrock: 2D\n"
      ]
    },
    {
      "cell_type": "code",
      "execution_count": 1,
      "metadata": {
        "colab": {
          "base_uri": "https://localhost:8080/"
        },
        "id": "MJTM_GZZZb5x",
        "outputId": "9963260e-8019-4038-8a35-c9d1f8396c9d"
      },
      "outputs": [
        {
          "output_type": "stream",
          "name": "stdout",
          "text": [
            "Looking in indexes: https://pypi.org/simple, https://us-python.pkg.dev/colab-wheels/public/simple/\n",
            "Requirement already satisfied: pyGPGO in /usr/local/lib/python3.7/dist-packages (0.5.1)\n",
            "Requirement already satisfied: numpy in /usr/local/lib/python3.7/dist-packages (from pyGPGO) (1.21.6)\n",
            "Requirement already satisfied: joblib in /usr/local/lib/python3.7/dist-packages (from pyGPGO) (1.2.0)\n",
            "Requirement already satisfied: scikit-learn in /usr/local/lib/python3.7/dist-packages (from pyGPGO) (1.0.2)\n",
            "Requirement already satisfied: pyMC3 in /usr/local/lib/python3.7/dist-packages (from pyGPGO) (3.11.5)\n",
            "Requirement already satisfied: Theano-PyMC in /usr/local/lib/python3.7/dist-packages (from pyGPGO) (1.1.2)\n",
            "Requirement already satisfied: mkl in /usr/local/lib/python3.7/dist-packages (from pyGPGO) (2019.0)\n",
            "Requirement already satisfied: scipy in /usr/local/lib/python3.7/dist-packages (from pyGPGO) (1.7.3)\n",
            "Requirement already satisfied: intel-openmp in /usr/local/lib/python3.7/dist-packages (from mkl->pyGPGO) (2022.2.0)\n",
            "Requirement already satisfied: semver>=2.13.0 in /usr/local/lib/python3.7/dist-packages (from pyMC3->pyGPGO) (2.13.0)\n",
            "Requirement already satisfied: fastprogress>=0.2.0 in /usr/local/lib/python3.7/dist-packages (from pyMC3->pyGPGO) (1.0.3)\n",
            "Requirement already satisfied: patsy>=0.5.1 in /usr/local/lib/python3.7/dist-packages (from pyMC3->pyGPGO) (0.5.3)\n",
            "Requirement already satisfied: typing-extensions>=3.7.4 in /usr/local/lib/python3.7/dist-packages (from pyMC3->pyGPGO) (4.1.1)\n",
            "Requirement already satisfied: cachetools>=4.2.1 in /usr/local/lib/python3.7/dist-packages (from pyMC3->pyGPGO) (4.2.4)\n",
            "Requirement already satisfied: deprecat in /usr/local/lib/python3.7/dist-packages (from pyMC3->pyGPGO) (2.1.1)\n",
            "Requirement already satisfied: pandas>=0.24.0 in /usr/local/lib/python3.7/dist-packages (from pyMC3->pyGPGO) (1.3.5)\n",
            "Requirement already satisfied: dill in /usr/local/lib/python3.7/dist-packages (from pyMC3->pyGPGO) (0.3.6)\n",
            "Requirement already satisfied: arviz>=0.11.0 in /usr/local/lib/python3.7/dist-packages (from pyMC3->pyGPGO) (0.12.1)\n",
            "Requirement already satisfied: filelock in /usr/local/lib/python3.7/dist-packages (from Theano-PyMC->pyGPGO) (3.8.0)\n",
            "Requirement already satisfied: netcdf4 in /usr/local/lib/python3.7/dist-packages (from arviz>=0.11.0->pyMC3->pyGPGO) (1.6.1)\n",
            "Requirement already satisfied: xarray-einstats>=0.2 in /usr/local/lib/python3.7/dist-packages (from arviz>=0.11.0->pyMC3->pyGPGO) (0.2.2)\n",
            "Requirement already satisfied: setuptools>=38.4 in /usr/local/lib/python3.7/dist-packages (from arviz>=0.11.0->pyMC3->pyGPGO) (57.4.0)\n",
            "Requirement already satisfied: packaging in /usr/local/lib/python3.7/dist-packages (from arviz>=0.11.0->pyMC3->pyGPGO) (21.3)\n",
            "Requirement already satisfied: matplotlib>=3.0 in /usr/local/lib/python3.7/dist-packages (from arviz>=0.11.0->pyMC3->pyGPGO) (3.2.2)\n",
            "Requirement already satisfied: xarray>=0.16.1 in /usr/local/lib/python3.7/dist-packages (from arviz>=0.11.0->pyMC3->pyGPGO) (0.20.2)\n",
            "Requirement already satisfied: pyparsing!=2.0.4,!=2.1.2,!=2.1.6,>=2.0.1 in /usr/local/lib/python3.7/dist-packages (from matplotlib>=3.0->arviz>=0.11.0->pyMC3->pyGPGO) (3.0.9)\n",
            "Requirement already satisfied: python-dateutil>=2.1 in /usr/local/lib/python3.7/dist-packages (from matplotlib>=3.0->arviz>=0.11.0->pyMC3->pyGPGO) (2.8.2)\n",
            "Requirement already satisfied: cycler>=0.10 in /usr/local/lib/python3.7/dist-packages (from matplotlib>=3.0->arviz>=0.11.0->pyMC3->pyGPGO) (0.11.0)\n",
            "Requirement already satisfied: kiwisolver>=1.0.1 in /usr/local/lib/python3.7/dist-packages (from matplotlib>=3.0->arviz>=0.11.0->pyMC3->pyGPGO) (1.4.4)\n",
            "Requirement already satisfied: pytz>=2017.3 in /usr/local/lib/python3.7/dist-packages (from pandas>=0.24.0->pyMC3->pyGPGO) (2022.6)\n",
            "Requirement already satisfied: six in /usr/local/lib/python3.7/dist-packages (from patsy>=0.5.1->pyMC3->pyGPGO) (1.15.0)\n",
            "Requirement already satisfied: importlib-metadata in /usr/local/lib/python3.7/dist-packages (from xarray>=0.16.1->arviz>=0.11.0->pyMC3->pyGPGO) (4.13.0)\n",
            "Requirement already satisfied: wrapt<2,>=1.10 in /usr/local/lib/python3.7/dist-packages (from deprecat->pyMC3->pyGPGO) (1.14.1)\n",
            "Requirement already satisfied: zipp>=0.5 in /usr/local/lib/python3.7/dist-packages (from importlib-metadata->xarray>=0.16.1->arviz>=0.11.0->pyMC3->pyGPGO) (3.10.0)\n",
            "Requirement already satisfied: cftime in /usr/local/lib/python3.7/dist-packages (from netcdf4->arviz>=0.11.0->pyMC3->pyGPGO) (1.6.2)\n",
            "Requirement already satisfied: threadpoolctl>=2.0.0 in /usr/local/lib/python3.7/dist-packages (from scikit-learn->pyGPGO) (3.1.0)\n"
          ]
        }
      ],
      "source": [
        "pip install pyGPGO\n"
      ]
    },
    {
      "cell_type": "code",
      "execution_count": 2,
      "metadata": {
        "id": "ZJSSPbwPaEUB"
      },
      "outputs": [],
      "source": [
        "### Import:\n",
        "\n",
        "import numpy as np\n",
        "import scipy as sp\n",
        "import pandas as pd\n",
        "import matplotlib.pyplot as plt\n",
        "import warnings\n",
        "import itertools\n",
        "\n",
        "from pyGPGO.GPGO import GPGO\n",
        "from pyGPGO.surrogates.GaussianProcess import GaussianProcess\n",
        "from pyGPGO.surrogates.tStudentProcess import tStudentProcess\n",
        "from pyGPGO.acquisition import Acquisition\n",
        "from pyGPGO.covfunc import squaredExponential\n",
        "\n",
        "from joblib import Parallel, delayed\n",
        "from numpy.linalg import solve, cholesky\n",
        "from scipy.spatial.distance import cdist\n",
        "from scipy.optimize import minimize\n",
        "from scipy.stats import t\n",
        "import time\n",
        "\n",
        "warnings.filterwarnings(\"ignore\", category=RuntimeWarning)\n"
      ]
    },
    {
      "cell_type": "code",
      "execution_count": 3,
      "metadata": {
        "id": "OeYcTUNoaJWa"
      },
      "outputs": [],
      "source": [
        "### Inputs:\n",
        "\n",
        "func = 'Rosenbrock'\n",
        "n_test = 500\n",
        "eps = 1e-08\n",
        "\n",
        "util = 'CBM'\n",
        "util_t = 'tCBM'\n",
        "\n",
        "n_init = 5 # random initialisations\n",
        "iters = 20\n",
        "opt = True\n",
        "\n",
        "df = 3\n",
        "cov_func = squaredExponential()\n"
      ]
    },
    {
      "cell_type": "code",
      "execution_count": 4,
      "metadata": {
        "id": "xpaEOjdzaPMS"
      },
      "outputs": [],
      "source": [
        "### Objective function:\n",
        "\n",
        "if func == 'Rosenbrock':\n",
        "            \n",
        "    # True y bounds:\n",
        "    y_lb = 0\n",
        "    operator = -1 # targets global minimum \n",
        "    y_global_orig = y_lb * operator # targets global minimum\n",
        "            \n",
        "# Constraints:\n",
        "    lb = -2.048 \n",
        "    ub = +2.048 \n",
        "    \n",
        "# Input array dimension(s):\n",
        "    dim = 2\n",
        "\n",
        "# 2-D inputs' parameter bounds:\n",
        "    param = {'x1_training': ('cont', [lb, ub]),\n",
        "             'x2_training': ('cont', [lb, ub])}\n",
        "    \n",
        "# Test data:\n",
        "    x1_test = np.linspace(lb, ub, n_test)\n",
        "    x2_test = np.linspace(lb, ub, n_test)\n",
        "    Xstar_d = np.column_stack((x1_test, x2_test))\n",
        "    \n",
        "    def objfunc(x1_training, x2_training):\n",
        "        return operator * (100 * (x2_training - x1_training ** 2) ** 2 + (x1_training - 1) ** 2)\n"
      ]
    },
    {
      "cell_type": "code",
      "execution_count": 5,
      "metadata": {
        "id": "eYpI3Zm4aGxi"
      },
      "outputs": [],
      "source": [
        "n_start_AcqFunc = iters\n",
        "inverse = -1\n"
      ]
    },
    {
      "cell_type": "code",
      "execution_count": 6,
      "metadata": {
        "id": "oO_GUmOoaV0T"
      },
      "outputs": [],
      "source": [
        "### Cumulative Regret Calculators:\n",
        "\n",
        "def min_max_array(x):\n",
        "    new_list = []\n",
        "    for i, num in enumerate(x):\n",
        "            new_list.append(np.min(x[0:i+1]))\n",
        "    return new_list\n",
        "  \n",
        "def acqFuncExact(x):\n",
        "    new_array = []\n",
        "    x = np.array(x) * -1\n",
        "    for i, num in enumerate(x):\n",
        "            new_array = x[:-2][::-3]\n",
        "    return new_array[::-1]\n",
        "\n",
        "def acqFuncApprox(x):\n",
        "    new_array = []\n",
        "    x = np.array(x) * -1\n",
        "    for i, num in enumerate(x):\n",
        "            new_array = x[:-1][::-3]\n",
        "    return new_array[::-1]\n"
      ]
    },
    {
      "cell_type": "code",
      "execution_count": 7,
      "metadata": {
        "id": "_Dc3YVHVaXz7"
      },
      "outputs": [],
      "source": [
        "### Acquisition function:\n",
        "\n",
        "Beta_CBM = dim\n",
        "\n",
        "class Acquisition(Acquisition):    \n",
        "    def __init__(self, mode, eps=eps, **params):\n",
        "        \n",
        "        self.params = params\n",
        "        self.eps = eps\n",
        "\n",
        "        mode_dict = {\n",
        "            'CBM': self.CBM,\n",
        "            'tCBM': self.tCBM\n",
        "        }\n",
        "\n",
        "        self.f = mode_dict[mode]\n",
        "    \n",
        "    def CBM(self, y_global_orig, mean, std):\n",
        "        gamma = (mean - y_global_orig - self.eps) / (std + self.eps)\n",
        "        f = (std + self.eps) * (gamma + np.sqrt(Beta_CBM))\n",
        "        return f\n",
        "\n",
        "    def tCBM(self, y_global_orig, mean, std, nu=df):\n",
        "        gamma = (mean - y_global_orig - self.eps) / (std + self.eps)\n",
        "        f = (std + self.eps) * (gamma + np.sqrt(Beta_CBM))\n",
        "        return f\n",
        "\n",
        "    def eval(self, y_global_orig, mean, std):\n",
        "    \n",
        "        return self.f(y_global_orig, mean, std, **self.params)\n",
        "        \n",
        "    def t_eval(self, y_global_orig, mean, std, nu=df):\n",
        "    \n",
        "        return self.f(y_global_orig, mean, std, nu=df, **self.params)\n"
      ]
    },
    {
      "cell_type": "code",
      "source": [
        "n_start = n_start_AcqFunc\n",
        "inverseRev = 1\n"
      ],
      "metadata": {
        "id": "2hGeeNy04dwe"
      },
      "execution_count": 8,
      "outputs": []
    },
    {
      "cell_type": "code",
      "execution_count": 9,
      "metadata": {
        "id": "PITEQC8YSl7i"
      },
      "outputs": [],
      "source": [
        "## GPGO_multi: Gaussian\n",
        "\n",
        "class GPGO_multi(GPGO):\n",
        "\n",
        "    def __init__(self, surrogate, acquisition, f, parameter_dict, n_jobs=1):\n",
        "        self.GP = surrogate\n",
        "        self.A = acquisition\n",
        "        self.f = f\n",
        "        self.parameters = parameter_dict\n",
        "        self.n_jobs = n_jobs\n",
        "\n",
        "        self.parameter_key = list(parameter_dict.keys())\n",
        "        self.parameter_value = list(parameter_dict.values())\n",
        "        self.parameter_type = [p[0] for p in self.parameter_value]\n",
        "        self.parameter_range = [p[1] for p in self.parameter_value]\n",
        "\n",
        "        self.history = []\n",
        "        self.header =   'Evaluation \\t Proposed point \\t  Current eval. \\t  Best eval. \\t Min. ApproxAcqFunc '\n",
        "        self.template = '{:3}\\t {}\\t {:3}\\t {:3}\\t {:3}'\n",
        " \n",
        "    def acqfuncApprox(self, xnew):\n",
        "        new_mean, new_var = self.GP.predict(xnew, return_std=True)\n",
        "        new_std = np.sqrt(new_var + eps)\n",
        "        f = self.A.eval(self.tau, new_mean, new_std)\n",
        "\n",
        "        return -f\n",
        "   \n",
        "    def _optimizeAcq(self, method='L-BFGS-B'):\n",
        "        \n",
        "        start_points_dict = [self._sampleParam() for i in range(n_start)]\n",
        "        start_points_arr = np.array([list(s.values())\n",
        "                                     for s in start_points_dict])\n",
        "        x_best = np.empty((n_start, len(self.parameter_key)))\n",
        "        f_best = np.empty((n_start,))\n",
        "        opt = Parallel(n_jobs=self.n_jobs)(delayed(minimize)(self.acqfuncApprox,\n",
        "                                                                 x0=start_point,\n",
        "                                                                 method=method,\n",
        "                                                                 jac = False,\n",
        "                                                                 bounds=self.parameter_range) for start_point in\n",
        "                                               start_points_arr)\n",
        "        x_best = np.array([res.x for res in opt])\n",
        "        f_best = np.array([np.atleast_1d(res.fun)[0] for res in opt])\n",
        "        f_best_min = min(f_best)\n",
        "\n",
        "        self.x_best = x_best\n",
        "        self.f_best = f_best\n",
        "        self.f_best_min = f_best_min\n",
        "        self.best = x_best[np.argmin(f_best)]\n",
        "        self.start_points_arr = start_points_arr        \n",
        "        self.history.append(self.f_best_min)\n",
        "\n",
        "    def _printInit(self):\n",
        "        print(self.header)\n",
        "        for init_eval in range(self.init_evals):\n",
        "            print(self.template.format('init', self.GP.X[init_eval], inverseRev * self.GP.y[init_eval], inverseRev * self.tau, ''))\n",
        "      \n",
        "    def _printCurrent(self):\n",
        "        OKGREEN = '\\033[92m'\n",
        "        ENDC = '\\033[0m'\n",
        "        BOLD = '\\033[1m'\n",
        "        eval = str(len(self.GP.y) - self.init_evals)\n",
        "        proposed = str(self.best)\n",
        "        curr_eval = str(inverseRev * self.GP.y[-1])\n",
        "        curr_best = str(inverseRev * self.tau)\n",
        "        min_acqfunc = str(self.f_best_min)\n",
        "        if float(curr_eval) <= float(curr_best):\n",
        "            eval = BOLD + OKGREEN + eval + ENDC\n",
        "            proposed = BOLD + OKGREEN + proposed + ENDC\n",
        "            curr_eval = BOLD + OKGREEN + curr_eval + ENDC\n",
        "            curr_best = BOLD + OKGREEN + curr_best + ENDC\n",
        "            min_acqfunc = BOLD + OKGREEN + min_acqfunc + ENDC\n",
        "        print(self.template.format(eval, proposed, curr_eval, curr_best, min_acqfunc))\n",
        "        \n",
        "    def run(self, max_iter=10, init_evals=3, resume=False):\n",
        "        \n",
        "        if not resume:\n",
        "            self.init_evals = init_evals\n",
        "            self._firstRun(self.init_evals)\n",
        "            self._printInit()\n",
        "        for iteration in range(max_iter):\n",
        "            self._optimizeAcq()\n",
        "            self.updateGP()\n",
        "            self._printCurrent()\n"
      ]
    },
    {
      "cell_type": "code",
      "source": [
        "## GPGO_multi_STP: Student's-t\n",
        "\n",
        "class GPGO_multi_STP(GPGO):\n",
        "\n",
        "    def __init__(self, surrogate, acquisition, f, parameter_dict, n_jobs=1):\n",
        "        self.GP = surrogate\n",
        "        self.A = acquisition\n",
        "        self.f = f\n",
        "        self.parameters = parameter_dict\n",
        "        self.n_jobs = n_jobs\n",
        "\n",
        "        self.parameter_key = list(parameter_dict.keys())\n",
        "        self.parameter_value = list(parameter_dict.values())\n",
        "        self.parameter_type = [p[0] for p in self.parameter_value]\n",
        "        self.parameter_range = [p[1] for p in self.parameter_value]\n",
        "\n",
        "        self.history = []\n",
        "        self.header =   'Evaluation \\t Proposed point \\t  Current eval. \\t  Best eval. \\t Min. ApproxAcqFunc '\n",
        "        self.template = '{:3}\\t {}\\t {:3}\\t {:3}\\t {:3}'\n",
        " \n",
        "    def acqfuncApprox(self, xnew):\n",
        "        new_mean, new_var = self.GP.predict(xnew, return_std=True)\n",
        "        new_std = np.sqrt(new_var + eps)\n",
        "        f = self.A.t_eval(self.tau, new_mean, new_std)\n",
        "\n",
        "        return -f\n",
        "   \n",
        "    def _optimizeAcq(self, method='L-BFGS-B'):\n",
        "        \n",
        "        start_points_dict = [self._sampleParam() for i in range(n_start)]\n",
        "        start_points_arr = np.array([list(s.values())\n",
        "                                     for s in start_points_dict])\n",
        "        x_best = np.empty((n_start, len(self.parameter_key)))\n",
        "        f_best = np.empty((n_start,))\n",
        "        opt = Parallel(n_jobs=self.n_jobs)(delayed(minimize)(self.acqfuncApprox,\n",
        "                                                                 x0=start_point,\n",
        "                                                                 method=method,\n",
        "                                                                 jac = False,\n",
        "                                                                 bounds=self.parameter_range) for start_point in\n",
        "                                               start_points_arr)\n",
        "        x_best = np.array([res.x for res in opt])\n",
        "        f_best = np.array([np.atleast_1d(res.fun)[0] for res in opt])\n",
        "        f_best_min = min(f_best)\n",
        "\n",
        "        self.x_best = x_best\n",
        "        self.f_best = f_best\n",
        "        self.f_best_min = f_best_min\n",
        "        self.best = x_best[np.argmin(f_best)]\n",
        "        self.start_points_arr = start_points_arr        \n",
        "        self.history.append(self.f_best_min)\n",
        "\n",
        "    def _printInit(self):\n",
        "        print(self.header)\n",
        "        for init_eval in range(self.init_evals):\n",
        "            print(self.template.format('init', self.GP.X[init_eval], inverseRev * self.GP.y[init_eval], inverseRev * self.tau, ''))\n",
        "      \n",
        "    def _printCurrent(self):\n",
        "        OKGREEN = '\\033[92m'\n",
        "        ENDC = '\\033[0m'\n",
        "        BOLD = '\\033[1m'\n",
        "        eval = str(len(self.GP.y) - self.init_evals)\n",
        "        proposed = str(self.best)\n",
        "        curr_eval = str(inverseRev * self.GP.y[-1])\n",
        "        curr_best = str(inverseRev * self.tau)\n",
        "        min_acqfunc = str(self.f_best_min)\n",
        "        if float(curr_eval) <= float(curr_best):\n",
        "            eval = BOLD + OKGREEN + eval + ENDC\n",
        "            proposed = BOLD + OKGREEN + proposed + ENDC\n",
        "            curr_eval = BOLD + OKGREEN + curr_eval + ENDC\n",
        "            curr_best = BOLD + OKGREEN + curr_best + ENDC\n",
        "            min_acqfunc = BOLD + OKGREEN + min_acqfunc + ENDC\n",
        "        print(self.template.format(eval, proposed, curr_eval, curr_best, min_acqfunc))\n",
        "        \n",
        "    def run(self, max_iter=10, init_evals=3, resume=False):\n",
        "        \n",
        "        if not resume:\n",
        "            self.init_evals = init_evals\n",
        "            self._firstRun(self.init_evals)\n",
        "            self._printInit()\n",
        "        for iteration in range(max_iter):\n",
        "            self._optimizeAcq()\n",
        "            self.updateGP()\n",
        "            self._printCurrent()\n"
      ],
      "metadata": {
        "id": "YKVBeKgC4VN-"
      },
      "execution_count": 10,
      "outputs": []
    },
    {
      "cell_type": "code",
      "execution_count": 11,
      "metadata": {
        "id": "qXIKGuXVGEg2"
      },
      "outputs": [],
      "source": [
        "###Reproducible set-seeds:\n",
        "\n",
        "run_num_9 = 9\n"
      ]
    },
    {
      "cell_type": "markdown",
      "source": [
        "***Explanation:*** Why does optimising negative EI with exact (negative) EI gradients, outperform approximate (negative) EI gradients for (negative) EI optimisation?\n",
        "\n",
        "\n",
        "1. Considering the best (**x**, *y*) point sampled by the exact (negative) EI gradients' model\n",
        "\n"
      ],
      "metadata": {
        "id": "P6eLBhirNpCN"
      }
    },
    {
      "cell_type": "code",
      "source": [
        "### ESTIMATED GP CBM GRADIENTS: 20 random-multi starts (i.e. 20 rms)\n",
        "\n",
        "np.random.seed(run_num_9)\n",
        "surrogate_gp_9 = GaussianProcess(cov_func, optimize=opt)\n",
        "\n",
        "gp_9 = GPGO_multi(surrogate_gp_9, Acquisition(util), objfunc, param)\n",
        "gp_9.run(init_evals=n_init, max_iter=1)\n"
      ],
      "metadata": {
        "id": "eDtZ-5P6HkZK",
        "colab": {
          "base_uri": "https://localhost:8080/"
        },
        "outputId": "d4b92bae-0cec-48fe-85a0-5c26932706f5"
      },
      "execution_count": 12,
      "outputs": [
        {
          "output_type": "stream",
          "name": "stdout",
          "text": [
            "Evaluation \t Proposed point \t  Current eval. \t  Best eval. \t Min. ApproxAcqFunc \n",
            "init\t [-2.00550747  0.00767833]\t -1620.5592513107108\t -132.4681822844375\t    \n",
            "init\t [-0.01731259 -1.49983425]\t -226.0751192637302\t -132.4681822844375\t    \n",
            "init\t [-1.46591299 -1.15278366]\t -1096.1928272344956\t -132.4681822844375\t    \n",
            "init\t [-0.33379049 -1.03177761]\t -132.4681822844375\t -132.4681822844375\t    \n",
            "init\t [-1.70369167 -0.63283757]\t -1257.2172959284223\t -132.4681822844375\t    \n",
            "\u001b[1m\u001b[92m1\u001b[0m\t \u001b[1m\u001b[92m[ 1.44056489 -0.0133713 ]\u001b[0m\t \u001b[1m\u001b[92m-436.4184610888146\u001b[0m\t \u001b[1m\u001b[92m-132.4681822844375\u001b[0m\t \u001b[1m\u001b[92m-137.86420146797667\u001b[0m\n"
          ]
        }
      ]
    },
    {
      "cell_type": "code",
      "source": [
        "### ESTIMATED STP CBM GRADIENTS: 20 random-multi starts (i.e. 20 rms)\n",
        "\n",
        "np.random.seed(run_num_9)\n",
        "surrogate_stp_9 = tStudentProcess(cov_func, optimize=opt, nu = df)\n",
        "\n",
        "stp_9 = GPGO_multi_STP(surrogate_stp_9, Acquisition(util_t), objfunc, param)\n",
        "stp_9.run(init_evals=n_init, max_iter=1)\n"
      ],
      "metadata": {
        "id": "PlKo5TWvHkKM",
        "colab": {
          "base_uri": "https://localhost:8080/"
        },
        "outputId": "60479126-acbe-4366-a4c3-fbb353721cea"
      },
      "execution_count": 13,
      "outputs": [
        {
          "output_type": "stream",
          "name": "stdout",
          "text": [
            "Evaluation \t Proposed point \t  Current eval. \t  Best eval. \t Min. ApproxAcqFunc \n",
            "init\t [-2.00550747  0.00767833]\t -1620.5592513107108\t -132.4681822844375\t    \n",
            "init\t [-0.01731259 -1.49983425]\t -226.0751192637302\t -132.4681822844375\t    \n",
            "init\t [-1.46591299 -1.15278366]\t -1096.1928272344956\t -132.4681822844375\t    \n",
            "init\t [-0.33379049 -1.03177761]\t -132.4681822844375\t -132.4681822844375\t    \n",
            "init\t [-1.70369167 -0.63283757]\t -1257.2172959284223\t -132.4681822844375\t    \n",
            "\u001b[1m\u001b[92m1\u001b[0m\t \u001b[1m\u001b[92m[0.87795003 0.23986924]\u001b[0m\t \u001b[1m\u001b[92m-28.203244972728623\u001b[0m\t \u001b[1m\u001b[92m-28.203244972728623\u001b[0m\t \u001b[1m\u001b[92m-1231.873294450015\u001b[0m\n"
          ]
        }
      ]
    },
    {
      "cell_type": "code",
      "source": [
        "gp_9.start_points_arr\n"
      ],
      "metadata": {
        "id": "3Y0Od6Rf5D4j",
        "colab": {
          "base_uri": "https://localhost:8080/"
        },
        "outputId": "6999db2e-c146-4700-d25f-7607d4f1a5b0"
      },
      "execution_count": 14,
      "outputs": [
        {
          "output_type": "execute_result",
          "data": {
            "text/plain": [
              "array([[ 1.2441181 ,  1.97983948],\n",
              "       [-1.35316989,  0.08636298],\n",
              "       [ 1.82483934,  0.61251774],\n",
              "       [ 1.47796756,  1.92858527],\n",
              "       [-1.28802125, -1.05219819],\n",
              "       [ 1.52944985,  1.66411173],\n",
              "       [ 1.05790663, -0.6270896 ],\n",
              "       [-0.14936181,  0.45276259],\n",
              "       [-0.01523008, -0.09021844],\n",
              "       [-0.26396482,  1.51719238],\n",
              "       [-1.28057898,  0.76871309],\n",
              "       [ 0.8336555 ,  1.74161952],\n",
              "       [-1.88639307,  0.60259006],\n",
              "       [ 0.56546912, -0.15688637],\n",
              "       [-1.8306686 , -1.8900135 ],\n",
              "       [-1.35359933,  1.20646815],\n",
              "       [-1.38196563, -1.47972629],\n",
              "       [-0.60245216, -0.06349433],\n",
              "       [ 0.80992823,  1.23353674],\n",
              "       [-0.95529215,  1.67721455]])"
            ]
          },
          "metadata": {},
          "execution_count": 14
        }
      ]
    },
    {
      "cell_type": "code",
      "source": [
        "stp_9.start_points_arr\n"
      ],
      "metadata": {
        "id": "DBTKkApEALxa",
        "colab": {
          "base_uri": "https://localhost:8080/"
        },
        "outputId": "920aa7e8-76e4-446f-b25d-d5508f675ed5"
      },
      "execution_count": 15,
      "outputs": [
        {
          "output_type": "execute_result",
          "data": {
            "text/plain": [
              "array([[ 1.2441181 ,  1.97983948],\n",
              "       [-1.35316989,  0.08636298],\n",
              "       [ 1.82483934,  0.61251774],\n",
              "       [ 1.47796756,  1.92858527],\n",
              "       [-1.28802125, -1.05219819],\n",
              "       [ 1.52944985,  1.66411173],\n",
              "       [ 1.05790663, -0.6270896 ],\n",
              "       [-0.14936181,  0.45276259],\n",
              "       [-0.01523008, -0.09021844],\n",
              "       [-0.26396482,  1.51719238],\n",
              "       [-1.28057898,  0.76871309],\n",
              "       [ 0.8336555 ,  1.74161952],\n",
              "       [-1.88639307,  0.60259006],\n",
              "       [ 0.56546912, -0.15688637],\n",
              "       [-1.8306686 , -1.8900135 ],\n",
              "       [-1.35359933,  1.20646815],\n",
              "       [-1.38196563, -1.47972629],\n",
              "       [-0.60245216, -0.06349433],\n",
              "       [ 0.80992823,  1.23353674],\n",
              "       [-0.95529215,  1.67721455]])"
            ]
          },
          "metadata": {},
          "execution_count": 15
        }
      ]
    },
    {
      "cell_type": "code",
      "source": [
        "np.sum((stp_9.start_points_arr - gp_9.start_points_arr)**2)\n"
      ],
      "metadata": {
        "id": "EBcqS3q-ALD0",
        "colab": {
          "base_uri": "https://localhost:8080/"
        },
        "outputId": "c1f8ce18-31e4-4d76-b707-59a95ceae34b"
      },
      "execution_count": 16,
      "outputs": [
        {
          "output_type": "execute_result",
          "data": {
            "text/plain": [
              "0.0"
            ]
          },
          "metadata": {},
          "execution_count": 16
        }
      ]
    },
    {
      "cell_type": "code",
      "source": [
        "np.round(gp_9.f_best, 5), np.argmin(gp_9.f_best)\n"
      ],
      "metadata": {
        "id": "hd6-F3NwARmA",
        "colab": {
          "base_uri": "https://localhost:8080/"
        },
        "outputId": "edfadaa0-f9d9-4010-dc35-ca6a915fc78a"
      },
      "execution_count": 17,
      "outputs": [
        {
          "output_type": "execute_result",
          "data": {
            "text/plain": [
              "(array([-137.8642 , -137.8642 , -137.8642 , -137.8642 , -130.99186,\n",
              "        -137.8642 , -137.8642 , -137.8642 , -137.8642 , -137.8642 ,\n",
              "        -137.8642 , -137.8642 , -137.8642 , -137.8642 ,  202.91847,\n",
              "        -137.8642 , -130.99186, -137.8642 , -137.8642 , -137.8642 ]), 8)"
            ]
          },
          "metadata": {},
          "execution_count": 17
        }
      ]
    },
    {
      "cell_type": "code",
      "source": [
        "min(gp_9.f_best), np.round(max(gp_9.f_best), 4)\n"
      ],
      "metadata": {
        "id": "52yjLltTJDu3",
        "colab": {
          "base_uri": "https://localhost:8080/"
        },
        "outputId": "c2a37f5e-e401-43a3-bd90-bbdc6b3b41fb"
      },
      "execution_count": 18,
      "outputs": [
        {
          "output_type": "execute_result",
          "data": {
            "text/plain": [
              "(-137.86420146797667, 202.9185)"
            ]
          },
          "metadata": {},
          "execution_count": 18
        }
      ]
    },
    {
      "cell_type": "code",
      "source": [
        "gp_9.x_best[np.argmin(gp_9.f_best)], gp_9.best\n"
      ],
      "metadata": {
        "id": "xeO8F2XEI9_B",
        "colab": {
          "base_uri": "https://localhost:8080/"
        },
        "outputId": "d035c035-8a42-4fab-84f8-1dba4ab7d601"
      },
      "execution_count": 19,
      "outputs": [
        {
          "output_type": "execute_result",
          "data": {
            "text/plain": [
              "(array([ 1.44056489, -0.0133713 ]), array([ 1.44056489, -0.0133713 ]))"
            ]
          },
          "metadata": {},
          "execution_count": 19
        }
      ]
    },
    {
      "cell_type": "code",
      "source": [
        "np.round(stp_9.f_best, 5), np.argmin(stp_9.f_best)\n"
      ],
      "metadata": {
        "id": "vNGZtQG6D2Ss",
        "colab": {
          "base_uri": "https://localhost:8080/"
        },
        "outputId": "7ec7e525-7cb7-4f5d-eeaa-a4776aeb4c83"
      },
      "execution_count": 20,
      "outputs": [
        {
          "output_type": "execute_result",
          "data": {
            "text/plain": [
              "(array([-1231.87329, -1231.87329, -1231.87329, -1231.87329, -1145.32645,\n",
              "        -1231.87329, -1231.87329, -1231.87329, -1231.87329, -1231.87329,\n",
              "        -1231.87329, -1231.87329, -1231.87329, -1231.87329,  -423.15988,\n",
              "        -1231.87329, -1145.32645, -1231.87329, -1231.87329, -1231.87329]), 2)"
            ]
          },
          "metadata": {},
          "execution_count": 20
        }
      ]
    },
    {
      "cell_type": "code",
      "source": [
        "min(stp_9.f_best), np.round(max(stp_9.f_best), 4)\n"
      ],
      "metadata": {
        "id": "V6g2xsxyJRGt",
        "colab": {
          "base_uri": "https://localhost:8080/"
        },
        "outputId": "1e0ab64e-01d1-44fd-b5a0-8e32ecc9d8f2"
      },
      "execution_count": 21,
      "outputs": [
        {
          "output_type": "execute_result",
          "data": {
            "text/plain": [
              "(-1231.873294450015, -423.1599)"
            ]
          },
          "metadata": {},
          "execution_count": 21
        }
      ]
    },
    {
      "cell_type": "code",
      "source": [
        "stp_9.x_best[np.argmin(stp_9.f_best)], stp_9.best\n"
      ],
      "metadata": {
        "id": "2JEFDuenJRgd",
        "colab": {
          "base_uri": "https://localhost:8080/"
        },
        "outputId": "9feb757a-5648-490c-e6f4-4f7e082ad396"
      },
      "execution_count": 22,
      "outputs": [
        {
          "output_type": "execute_result",
          "data": {
            "text/plain": [
              "(array([0.87795003, 0.23986924]), array([0.87795003, 0.23986924]))"
            ]
          },
          "metadata": {},
          "execution_count": 22
        }
      ]
    },
    {
      "cell_type": "code",
      "source": [
        "np.sum((stp_9.f_best - gp_9.f_best)**2)\n"
      ],
      "metadata": {
        "id": "LWowxcrKEG3y",
        "colab": {
          "base_uri": "https://localhost:8080/"
        },
        "outputId": "ff915d3a-4493-4d67-97dd-565dbd6ec50b"
      },
      "execution_count": 23,
      "outputs": [
        {
          "output_type": "execute_result",
          "data": {
            "text/plain": [
              "22796273.647170834"
            ]
          },
          "metadata": {},
          "execution_count": 23
        }
      ]
    },
    {
      "cell_type": "code",
      "source": [
        "stp_9.x_best\n"
      ],
      "metadata": {
        "id": "LJ3coqwsHUEF",
        "colab": {
          "base_uri": "https://localhost:8080/"
        },
        "outputId": "abfe3ba7-66a3-45ed-d53f-d387f4efb9b7"
      },
      "execution_count": 24,
      "outputs": [
        {
          "output_type": "execute_result",
          "data": {
            "text/plain": [
              "array([[ 0.87794979,  0.23986977],\n",
              "       [ 0.87794993,  0.23986781],\n",
              "       [ 0.87795003,  0.23986924],\n",
              "       [ 0.87795002,  0.2398695 ],\n",
              "       [ 2.048     , -2.048     ],\n",
              "       [ 0.87792756,  0.23996019],\n",
              "       [ 0.87795005,  0.23986922],\n",
              "       [ 0.8779457 ,  0.23986671],\n",
              "       [ 0.87794967,  0.23986845],\n",
              "       [ 0.87794939,  0.23987109],\n",
              "       [ 0.87795073,  0.23986962],\n",
              "       [ 0.87794524,  0.23986865],\n",
              "       [ 0.87794967,  0.23986958],\n",
              "       [ 0.87794991,  0.23986831],\n",
              "       [-2.048     , -2.048     ],\n",
              "       [ 0.87795001,  0.23986919],\n",
              "       [ 2.048     , -2.048     ],\n",
              "       [ 0.87795006,  0.23986925],\n",
              "       [ 0.87795448,  0.23987865],\n",
              "       [ 0.8779727 ,  0.23985109]])"
            ]
          },
          "metadata": {},
          "execution_count": 24
        }
      ]
    },
    {
      "cell_type": "code",
      "source": [
        "np.sum((stp_9.x_best - stp_9.start_points_arr)**2)\n"
      ],
      "metadata": {
        "id": "y9S_78YLKMiZ",
        "colab": {
          "base_uri": "https://localhost:8080/"
        },
        "outputId": "7c0da44c-4de2-4e0f-f71b-5b7006028e4d"
      },
      "execution_count": 25,
      "outputs": [
        {
          "output_type": "execute_result",
          "data": {
            "text/plain": [
              "74.71131634495973"
            ]
          },
          "metadata": {},
          "execution_count": 25
        }
      ]
    },
    {
      "cell_type": "code",
      "source": [
        "gp_9.x_best\n"
      ],
      "metadata": {
        "id": "UGJJW2cFJ3CG",
        "colab": {
          "base_uri": "https://localhost:8080/"
        },
        "outputId": "18391246-d7fc-462a-a8de-cd3435bba50e"
      },
      "execution_count": 26,
      "outputs": [
        {
          "output_type": "execute_result",
          "data": {
            "text/plain": [
              "array([[ 1.44056668, -0.01337125],\n",
              "       [ 1.4405642 , -0.01337072],\n",
              "       [ 1.44056456, -0.01337346],\n",
              "       [ 1.44056349, -0.0133654 ],\n",
              "       [ 2.048     , -2.048     ],\n",
              "       [ 1.4405647 , -0.01337147],\n",
              "       [ 1.44056437, -0.01337179],\n",
              "       [ 1.44056425, -0.01337037],\n",
              "       [ 1.44056489, -0.0133713 ],\n",
              "       [ 1.44056543, -0.01336865],\n",
              "       [ 1.44056879, -0.01338374],\n",
              "       [ 1.44055994, -0.01335041],\n",
              "       [ 1.4405804 , -0.01340209],\n",
              "       [ 1.44055429, -0.01338371],\n",
              "       [-2.048     , -2.048     ],\n",
              "       [ 1.4405647 , -0.01337367],\n",
              "       [ 2.048     , -2.048     ],\n",
              "       [ 1.44056157, -0.01337148],\n",
              "       [ 1.44056492, -0.0133712 ],\n",
              "       [ 1.44056842, -0.01337625]])"
            ]
          },
          "metadata": {},
          "execution_count": 26
        }
      ]
    },
    {
      "cell_type": "code",
      "source": [
        "np.sum((gp_9.x_best - gp_9.start_points_arr)**2)\n"
      ],
      "metadata": {
        "id": "rmJKtRv2tzw6",
        "colab": {
          "base_uri": "https://localhost:8080/"
        },
        "outputId": "a7561285-8c30-490d-9471-28b344afda0c"
      },
      "execution_count": 27,
      "outputs": [
        {
          "output_type": "execute_result",
          "data": {
            "text/plain": [
              "101.60381421621139"
            ]
          },
          "metadata": {},
          "execution_count": 27
        }
      ]
    },
    {
      "cell_type": "code",
      "source": [
        "np.sum((stp_9.x_best - gp_9.x_best)**2)\n"
      ],
      "metadata": {
        "id": "FPAiIpCtJ3EV",
        "colab": {
          "base_uri": "https://localhost:8080/"
        },
        "outputId": "6ff5583c-f602-4c8b-c017-02da0a1e6129"
      },
      "execution_count": 28,
      "outputs": [
        {
          "output_type": "execute_result",
          "data": {
            "text/plain": [
              "6.471393128033393"
            ]
          },
          "metadata": {},
          "execution_count": 28
        }
      ]
    },
    {
      "cell_type": "code",
      "source": [
        "a = gp_9.best[0]\n",
        "b = gp_9.best[1]\n",
        "\n",
        "-objfunc(a, b) # negating before final print statement, as agreed with GH and SMcC\n"
      ],
      "metadata": {
        "id": "emNE3Q59EZ_s",
        "colab": {
          "base_uri": "https://localhost:8080/"
        },
        "outputId": "ff35aa13-22b9-4fd6-b6d4-4452506099bd"
      },
      "execution_count": 29,
      "outputs": [
        {
          "output_type": "execute_result",
          "data": {
            "text/plain": [
              "436.4184610888146"
            ]
          },
          "metadata": {},
          "execution_count": 29
        }
      ]
    },
    {
      "cell_type": "code",
      "source": [
        "a = stp_9.best[0]\n",
        "b = stp_9.best[1]\n",
        "\n",
        "-objfunc(a, b) # negating before final print statement, as agreed with GH and SMcC\n"
      ],
      "metadata": {
        "id": "tiaatjhFHYIA",
        "colab": {
          "base_uri": "https://localhost:8080/"
        },
        "outputId": "2a739db0-f27b-42dc-e4ad-d2c7bd68cbcc"
      },
      "execution_count": 30,
      "outputs": [
        {
          "output_type": "execute_result",
          "data": {
            "text/plain": [
              "28.203244972728623"
            ]
          },
          "metadata": {},
          "execution_count": 30
        }
      ]
    },
    {
      "cell_type": "code",
      "source": [
        "xBest0 = 0.0898\n",
        "xBest1 = -0.7126\n",
        "\n",
        "xBest = [xBest0, xBest1]\n",
        "xBest\n"
      ],
      "metadata": {
        "colab": {
          "base_uri": "https://localhost:8080/"
        },
        "id": "3cj-Rro3h9I1",
        "outputId": "5198c2a3-195f-447a-c8e1-91304420224a"
      },
      "execution_count": 31,
      "outputs": [
        {
          "output_type": "execute_result",
          "data": {
            "text/plain": [
              "[0.0898, -0.7126]"
            ]
          },
          "metadata": {},
          "execution_count": 31
        }
      ]
    },
    {
      "cell_type": "code",
      "source": [
        "def check(x):\n",
        "  a = x[:,0]\n",
        "  b = x[:,1] \n",
        "  for i in range(0, len(a) - 1):\n",
        "    res = (a - xBest0)**2 + (b - xBest1)**2 \n",
        "    return np.sum(res)\n",
        "\n",
        "check(gp_9.x_best), check(stp_9.x_best)\n"
      ],
      "metadata": {
        "colab": {
          "base_uri": "https://localhost:8080/"
        },
        "id": "yf_s3brgh9Lc",
        "outputId": "63178a14-31ef-47dc-f870-d8f81f8c21fb"
      },
      "execution_count": 32,
      "outputs": [
        {
          "output_type": "execute_result",
          "data": {
            "text/plain": [
              "(56.91839229410021, 43.57173309965359)"
            ]
          },
          "metadata": {},
          "execution_count": 32
        }
      ]
    },
    {
      "cell_type": "code",
      "source": [
        "np.std(gp_9.x_best), np.std(stp_9.x_best)\n"
      ],
      "metadata": {
        "colab": {
          "base_uri": "https://localhost:8080/"
        },
        "id": "Yzy4sOHoh9OE",
        "outputId": "3b1d8dd2-2f9c-42b8-c39d-071556b75e74"
      },
      "execution_count": 33,
      "outputs": [
        {
          "output_type": "execute_result",
          "data": {
            "text/plain": [
              "(1.1211688574978484, 0.9177697793921277)"
            ]
          },
          "metadata": {},
          "execution_count": 33
        }
      ]
    },
    {
      "cell_type": "code",
      "source": [
        "np.mean(gp_9.x_best), np.mean(stp_9.x_best)\n"
      ],
      "metadata": {
        "id": "DDH68Z_UzDq0",
        "colab": {
          "base_uri": "https://localhost:8080/"
        },
        "outputId": "444fd41d-4be0-4761-8a4d-474d824b9c6d"
      },
      "execution_count": 34,
      "outputs": [
        {
          "output_type": "execute_result",
          "data": {
            "text/plain": [
              "(0.5041564658601132, 0.37267503198556584)"
            ]
          },
          "metadata": {},
          "execution_count": 34
        }
      ]
    },
    {
      "cell_type": "code",
      "source": [
        "gp_9_20rms = pd.Series(np.round(gp_9.f_best, 2)).value_counts(sort=True)\n",
        "gp_9_20rms_df = pd.DataFrame({'Frequency':gp_9_20rms.values,'GP CBM':gp_9_20rms.index})\n",
        "gp_9_20rms_df\n"
      ],
      "metadata": {
        "colab": {
          "base_uri": "https://localhost:8080/",
          "height": 143
        },
        "id": "F7A6b1EI8vpS",
        "outputId": "329c8856-90aa-44f4-e353-f269bf1fd347"
      },
      "execution_count": 35,
      "outputs": [
        {
          "output_type": "execute_result",
          "data": {
            "text/plain": [
              "   Frequency  GP CBM\n",
              "0         17 -137.86\n",
              "1          2 -130.99\n",
              "2          1  202.92"
            ],
            "text/html": [
              "\n",
              "  <div id=\"df-41a4e392-505f-40da-8563-4bb0716a94b6\">\n",
              "    <div class=\"colab-df-container\">\n",
              "      <div>\n",
              "<style scoped>\n",
              "    .dataframe tbody tr th:only-of-type {\n",
              "        vertical-align: middle;\n",
              "    }\n",
              "\n",
              "    .dataframe tbody tr th {\n",
              "        vertical-align: top;\n",
              "    }\n",
              "\n",
              "    .dataframe thead th {\n",
              "        text-align: right;\n",
              "    }\n",
              "</style>\n",
              "<table border=\"1\" class=\"dataframe\">\n",
              "  <thead>\n",
              "    <tr style=\"text-align: right;\">\n",
              "      <th></th>\n",
              "      <th>Frequency</th>\n",
              "      <th>GP CBM</th>\n",
              "    </tr>\n",
              "  </thead>\n",
              "  <tbody>\n",
              "    <tr>\n",
              "      <th>0</th>\n",
              "      <td>17</td>\n",
              "      <td>-137.86</td>\n",
              "    </tr>\n",
              "    <tr>\n",
              "      <th>1</th>\n",
              "      <td>2</td>\n",
              "      <td>-130.99</td>\n",
              "    </tr>\n",
              "    <tr>\n",
              "      <th>2</th>\n",
              "      <td>1</td>\n",
              "      <td>202.92</td>\n",
              "    </tr>\n",
              "  </tbody>\n",
              "</table>\n",
              "</div>\n",
              "      <button class=\"colab-df-convert\" onclick=\"convertToInteractive('df-41a4e392-505f-40da-8563-4bb0716a94b6')\"\n",
              "              title=\"Convert this dataframe to an interactive table.\"\n",
              "              style=\"display:none;\">\n",
              "        \n",
              "  <svg xmlns=\"http://www.w3.org/2000/svg\" height=\"24px\"viewBox=\"0 0 24 24\"\n",
              "       width=\"24px\">\n",
              "    <path d=\"M0 0h24v24H0V0z\" fill=\"none\"/>\n",
              "    <path d=\"M18.56 5.44l.94 2.06.94-2.06 2.06-.94-2.06-.94-.94-2.06-.94 2.06-2.06.94zm-11 1L8.5 8.5l.94-2.06 2.06-.94-2.06-.94L8.5 2.5l-.94 2.06-2.06.94zm10 10l.94 2.06.94-2.06 2.06-.94-2.06-.94-.94-2.06-.94 2.06-2.06.94z\"/><path d=\"M17.41 7.96l-1.37-1.37c-.4-.4-.92-.59-1.43-.59-.52 0-1.04.2-1.43.59L10.3 9.45l-7.72 7.72c-.78.78-.78 2.05 0 2.83L4 21.41c.39.39.9.59 1.41.59.51 0 1.02-.2 1.41-.59l7.78-7.78 2.81-2.81c.8-.78.8-2.07 0-2.86zM5.41 20L4 18.59l7.72-7.72 1.47 1.35L5.41 20z\"/>\n",
              "  </svg>\n",
              "      </button>\n",
              "      \n",
              "  <style>\n",
              "    .colab-df-container {\n",
              "      display:flex;\n",
              "      flex-wrap:wrap;\n",
              "      gap: 12px;\n",
              "    }\n",
              "\n",
              "    .colab-df-convert {\n",
              "      background-color: #E8F0FE;\n",
              "      border: none;\n",
              "      border-radius: 50%;\n",
              "      cursor: pointer;\n",
              "      display: none;\n",
              "      fill: #1967D2;\n",
              "      height: 32px;\n",
              "      padding: 0 0 0 0;\n",
              "      width: 32px;\n",
              "    }\n",
              "\n",
              "    .colab-df-convert:hover {\n",
              "      background-color: #E2EBFA;\n",
              "      box-shadow: 0px 1px 2px rgba(60, 64, 67, 0.3), 0px 1px 3px 1px rgba(60, 64, 67, 0.15);\n",
              "      fill: #174EA6;\n",
              "    }\n",
              "\n",
              "    [theme=dark] .colab-df-convert {\n",
              "      background-color: #3B4455;\n",
              "      fill: #D2E3FC;\n",
              "    }\n",
              "\n",
              "    [theme=dark] .colab-df-convert:hover {\n",
              "      background-color: #434B5C;\n",
              "      box-shadow: 0px 1px 3px 1px rgba(0, 0, 0, 0.15);\n",
              "      filter: drop-shadow(0px 1px 2px rgba(0, 0, 0, 0.3));\n",
              "      fill: #FFFFFF;\n",
              "    }\n",
              "  </style>\n",
              "\n",
              "      <script>\n",
              "        const buttonEl =\n",
              "          document.querySelector('#df-41a4e392-505f-40da-8563-4bb0716a94b6 button.colab-df-convert');\n",
              "        buttonEl.style.display =\n",
              "          google.colab.kernel.accessAllowed ? 'block' : 'none';\n",
              "\n",
              "        async function convertToInteractive(key) {\n",
              "          const element = document.querySelector('#df-41a4e392-505f-40da-8563-4bb0716a94b6');\n",
              "          const dataTable =\n",
              "            await google.colab.kernel.invokeFunction('convertToInteractive',\n",
              "                                                     [key], {});\n",
              "          if (!dataTable) return;\n",
              "\n",
              "          const docLinkHtml = 'Like what you see? Visit the ' +\n",
              "            '<a target=\"_blank\" href=https://colab.research.google.com/notebooks/data_table.ipynb>data table notebook</a>'\n",
              "            + ' to learn more about interactive tables.';\n",
              "          element.innerHTML = '';\n",
              "          dataTable['output_type'] = 'display_data';\n",
              "          await google.colab.output.renderOutput(dataTable, element);\n",
              "          const docLink = document.createElement('div');\n",
              "          docLink.innerHTML = docLinkHtml;\n",
              "          element.appendChild(docLink);\n",
              "        }\n",
              "      </script>\n",
              "    </div>\n",
              "  </div>\n",
              "  "
            ]
          },
          "metadata": {},
          "execution_count": 35
        }
      ]
    },
    {
      "cell_type": "code",
      "source": [
        "ax = gp_9_20rms.plot.bar(title=\"GP CBM optimisation: 20 random multi-starts\", xlabel=\"GP CBM, optimised using approximate GP CBM gradients\", ylabel=\"Frequency\", color=\"yellow\")\n"
      ],
      "metadata": {
        "colab": {
          "base_uri": "https://localhost:8080/",
          "height": 324
        },
        "id": "4pWU1x_MwCkD",
        "outputId": "5872d705-552c-40a3-9f30-54a415e124c8"
      },
      "execution_count": 36,
      "outputs": [
        {
          "output_type": "display_data",
          "data": {
            "text/plain": [
              "<Figure size 432x288 with 1 Axes>"
            ],
            "image/png": "[encoded data removed]"
          },
          "metadata": {
            "needs_background": "light"
          }
        }
      ]
    },
    {
      "cell_type": "code",
      "source": [
        "stp_9_20rms = pd.Series(np.round(stp_9.f_best, 2)).value_counts(sort=True)\n",
        "stp_9_20rms_df = pd.DataFrame({'Frequency':stp_9_20rms.values,'STP CBM':stp_9_20rms.index})\n",
        "stp_9_20rms_df\n"
      ],
      "metadata": {
        "colab": {
          "base_uri": "https://localhost:8080/",
          "height": 143
        },
        "id": "pdszDVmD-C4G",
        "outputId": "0c566046-c757-467a-907d-44f3dc607c47"
      },
      "execution_count": 37,
      "outputs": [
        {
          "output_type": "execute_result",
          "data": {
            "text/plain": [
              "   Frequency  STP CBM\n",
              "0         17 -1231.87\n",
              "1          2 -1145.33\n",
              "2          1  -423.16"
            ],
            "text/html": [
              "\n",
              "  <div id=\"df-c5d3eb0a-3e0a-4444-bd65-b18b50bf3dc0\">\n",
              "    <div class=\"colab-df-container\">\n",
              "      <div>\n",
              "<style scoped>\n",
              "    .dataframe tbody tr th:only-of-type {\n",
              "        vertical-align: middle;\n",
              "    }\n",
              "\n",
              "    .dataframe tbody tr th {\n",
              "        vertical-align: top;\n",
              "    }\n",
              "\n",
              "    .dataframe thead th {\n",
              "        text-align: right;\n",
              "    }\n",
              "</style>\n",
              "<table border=\"1\" class=\"dataframe\">\n",
              "  <thead>\n",
              "    <tr style=\"text-align: right;\">\n",
              "      <th></th>\n",
              "      <th>Frequency</th>\n",
              "      <th>STP CBM</th>\n",
              "    </tr>\n",
              "  </thead>\n",
              "  <tbody>\n",
              "    <tr>\n",
              "      <th>0</th>\n",
              "      <td>17</td>\n",
              "      <td>-1231.87</td>\n",
              "    </tr>\n",
              "    <tr>\n",
              "      <th>1</th>\n",
              "      <td>2</td>\n",
              "      <td>-1145.33</td>\n",
              "    </tr>\n",
              "    <tr>\n",
              "      <th>2</th>\n",
              "      <td>1</td>\n",
              "      <td>-423.16</td>\n",
              "    </tr>\n",
              "  </tbody>\n",
              "</table>\n",
              "</div>\n",
              "      <button class=\"colab-df-convert\" onclick=\"convertToInteractive('df-c5d3eb0a-3e0a-4444-bd65-b18b50bf3dc0')\"\n",
              "              title=\"Convert this dataframe to an interactive table.\"\n",
              "              style=\"display:none;\">\n",
              "        \n",
              "  <svg xmlns=\"http://www.w3.org/2000/svg\" height=\"24px\"viewBox=\"0 0 24 24\"\n",
              "       width=\"24px\">\n",
              "    <path d=\"M0 0h24v24H0V0z\" fill=\"none\"/>\n",
              "    <path d=\"M18.56 5.44l.94 2.06.94-2.06 2.06-.94-2.06-.94-.94-2.06-.94 2.06-2.06.94zm-11 1L8.5 8.5l.94-2.06 2.06-.94-2.06-.94L8.5 2.5l-.94 2.06-2.06.94zm10 10l.94 2.06.94-2.06 2.06-.94-2.06-.94-.94-2.06-.94 2.06-2.06.94z\"/><path d=\"M17.41 7.96l-1.37-1.37c-.4-.4-.92-.59-1.43-.59-.52 0-1.04.2-1.43.59L10.3 9.45l-7.72 7.72c-.78.78-.78 2.05 0 2.83L4 21.41c.39.39.9.59 1.41.59.51 0 1.02-.2 1.41-.59l7.78-7.78 2.81-2.81c.8-.78.8-2.07 0-2.86zM5.41 20L4 18.59l7.72-7.72 1.47 1.35L5.41 20z\"/>\n",
              "  </svg>\n",
              "      </button>\n",
              "      \n",
              "  <style>\n",
              "    .colab-df-container {\n",
              "      display:flex;\n",
              "      flex-wrap:wrap;\n",
              "      gap: 12px;\n",
              "    }\n",
              "\n",
              "    .colab-df-convert {\n",
              "      background-color: #E8F0FE;\n",
              "      border: none;\n",
              "      border-radius: 50%;\n",
              "      cursor: pointer;\n",
              "      display: none;\n",
              "      fill: #1967D2;\n",
              "      height: 32px;\n",
              "      padding: 0 0 0 0;\n",
              "      width: 32px;\n",
              "    }\n",
              "\n",
              "    .colab-df-convert:hover {\n",
              "      background-color: #E2EBFA;\n",
              "      box-shadow: 0px 1px 2px rgba(60, 64, 67, 0.3), 0px 1px 3px 1px rgba(60, 64, 67, 0.15);\n",
              "      fill: #174EA6;\n",
              "    }\n",
              "\n",
              "    [theme=dark] .colab-df-convert {\n",
              "      background-color: #3B4455;\n",
              "      fill: #D2E3FC;\n",
              "    }\n",
              "\n",
              "    [theme=dark] .colab-df-convert:hover {\n",
              "      background-color: #434B5C;\n",
              "      box-shadow: 0px 1px 3px 1px rgba(0, 0, 0, 0.15);\n",
              "      filter: drop-shadow(0px 1px 2px rgba(0, 0, 0, 0.3));\n",
              "      fill: #FFFFFF;\n",
              "    }\n",
              "  </style>\n",
              "\n",
              "      <script>\n",
              "        const buttonEl =\n",
              "          document.querySelector('#df-c5d3eb0a-3e0a-4444-bd65-b18b50bf3dc0 button.colab-df-convert');\n",
              "        buttonEl.style.display =\n",
              "          google.colab.kernel.accessAllowed ? 'block' : 'none';\n",
              "\n",
              "        async function convertToInteractive(key) {\n",
              "          const element = document.querySelector('#df-c5d3eb0a-3e0a-4444-bd65-b18b50bf3dc0');\n",
              "          const dataTable =\n",
              "            await google.colab.kernel.invokeFunction('convertToInteractive',\n",
              "                                                     [key], {});\n",
              "          if (!dataTable) return;\n",
              "\n",
              "          const docLinkHtml = 'Like what you see? Visit the ' +\n",
              "            '<a target=\"_blank\" href=https://colab.research.google.com/notebooks/data_table.ipynb>data table notebook</a>'\n",
              "            + ' to learn more about interactive tables.';\n",
              "          element.innerHTML = '';\n",
              "          dataTable['output_type'] = 'display_data';\n",
              "          await google.colab.output.renderOutput(dataTable, element);\n",
              "          const docLink = document.createElement('div');\n",
              "          docLink.innerHTML = docLinkHtml;\n",
              "          element.appendChild(docLink);\n",
              "        }\n",
              "      </script>\n",
              "    </div>\n",
              "  </div>\n",
              "  "
            ]
          },
          "metadata": {},
          "execution_count": 37
        }
      ]
    },
    {
      "cell_type": "code",
      "source": [
        "ax = stp_9_20rms.plot.bar(title=\"STP CBM optimisation: 20 random multi-starts\", xlabel=\"STP CBM, optimised using approximate STP CBM gradients\", ylabel=\"Frequency\", color=\"green\")\n"
      ],
      "metadata": {
        "colab": {
          "base_uri": "https://localhost:8080/",
          "height": 330
        },
        "id": "R4tQIFNHwIUs",
        "outputId": "1adec415-2087-44d8-8638-7c3cbb986152"
      },
      "execution_count": 38,
      "outputs": [
        {
          "output_type": "display_data",
          "data": {
            "text/plain": [
              "<Figure size 432x288 with 1 Axes>"
            ],
            "image/png": "[encoded data removed]"
          },
          "metadata": {
            "needs_background": "light"
          }
        }
      ]
    },
    {
      "cell_type": "code",
      "source": [
        "n_start = 50\n"
      ],
      "metadata": {
        "id": "DItU8FrcMiax"
      },
      "execution_count": 39,
      "outputs": []
    },
    {
      "cell_type": "code",
      "source": [
        "### ESTIMATED GP CBM GRADIENTS: 50 random-multi starts (i.e. 50 rms)\n",
        "\n",
        "np.random.seed(run_num_9)\n",
        "surrogate_gp_9_50rms = GaussianProcess(cov_func, optimize=opt)\n",
        "\n",
        "gp_9_50rms = GPGO_multi(surrogate_gp_9_50rms, Acquisition(util), objfunc, param)\n",
        "gp_9_50rms.run(init_evals=n_init, max_iter=1)\n"
      ],
      "metadata": {
        "colab": {
          "base_uri": "https://localhost:8080/"
        },
        "id": "XZ1IQDVXEBMV",
        "outputId": "ea24c70d-947f-4bbf-b522-4dd6ce0af91f"
      },
      "execution_count": 40,
      "outputs": [
        {
          "output_type": "stream",
          "name": "stdout",
          "text": [
            "Evaluation \t Proposed point \t  Current eval. \t  Best eval. \t Min. ApproxAcqFunc \n",
            "init\t [-2.00550747  0.00767833]\t -1620.5592513107108\t -132.4681822844375\t    \n",
            "init\t [-0.01731259 -1.49983425]\t -226.0751192637302\t -132.4681822844375\t    \n",
            "init\t [-1.46591299 -1.15278366]\t -1096.1928272344956\t -132.4681822844375\t    \n",
            "init\t [-0.33379049 -1.03177761]\t -132.4681822844375\t -132.4681822844375\t    \n",
            "init\t [-1.70369167 -0.63283757]\t -1257.2172959284223\t -132.4681822844375\t    \n",
            "\u001b[1m\u001b[92m1\u001b[0m\t \u001b[1m\u001b[92m[ 1.44056489 -0.0133713 ]\u001b[0m\t \u001b[1m\u001b[92m-436.4184610888146\u001b[0m\t \u001b[1m\u001b[92m-132.4681822844375\u001b[0m\t \u001b[1m\u001b[92m-137.86420146797667\u001b[0m\n"
          ]
        }
      ]
    },
    {
      "cell_type": "code",
      "source": [
        "### ESTIMATED STP CBM GRADIENTS: 50 random-multi starts (i.e. 50 rms)\n",
        "\n",
        "np.random.seed(run_num_9)\n",
        "surrogate_stp_9_50rms = tStudentProcess(cov_func, optimize=opt, nu = df)\n",
        "\n",
        "stp_9_50rms = GPGO_multi_STP(surrogate_stp_9_50rms, Acquisition(util_t), objfunc, param)\n",
        "stp_9_50rms.run(init_evals=n_init, max_iter=1)\n"
      ],
      "metadata": {
        "colab": {
          "base_uri": "https://localhost:8080/"
        },
        "id": "FcBbXxAREDRl",
        "outputId": "04835a99-c5fd-4b45-c41b-4da3cbf1756d"
      },
      "execution_count": 41,
      "outputs": [
        {
          "output_type": "stream",
          "name": "stdout",
          "text": [
            "Evaluation \t Proposed point \t  Current eval. \t  Best eval. \t Min. ApproxAcqFunc \n",
            "init\t [-2.00550747  0.00767833]\t -1620.5592513107108\t -132.4681822844375\t    \n",
            "init\t [-0.01731259 -1.49983425]\t -226.0751192637302\t -132.4681822844375\t    \n",
            "init\t [-1.46591299 -1.15278366]\t -1096.1928272344956\t -132.4681822844375\t    \n",
            "init\t [-0.33379049 -1.03177761]\t -132.4681822844375\t -132.4681822844375\t    \n",
            "init\t [-1.70369167 -0.63283757]\t -1257.2172959284223\t -132.4681822844375\t    \n",
            "\u001b[1m\u001b[92m1\u001b[0m\t \u001b[1m\u001b[92m[0.87795    0.23986923]\u001b[0m\t \u001b[1m\u001b[92m-28.20324115403495\u001b[0m\t \u001b[1m\u001b[92m-28.20324115403495\u001b[0m\t \u001b[1m\u001b[92m-1231.8732944500152\u001b[0m\n"
          ]
        }
      ]
    },
    {
      "cell_type": "code",
      "source": [
        "gp_9_50rms = pd.Series(np.round(gp_9_50rms.f_best, 2)).value_counts(sort=True)\n",
        "gp_9_50rms_df = pd.DataFrame({'Frequency':gp_9_50rms.values,'GP CBM':gp_9_50rms.index})\n",
        "gp_9_50rms_df\n"
      ],
      "metadata": {
        "colab": {
          "base_uri": "https://localhost:8080/",
          "height": 143
        },
        "id": "YC01bg4kKi7D",
        "outputId": "58b20ff3-c1cb-44e2-8d75-0ddd6f4a77ae"
      },
      "execution_count": 42,
      "outputs": [
        {
          "output_type": "execute_result",
          "data": {
            "text/plain": [
              "   Frequency  GP CBM\n",
              "0         38 -137.86\n",
              "1         10 -130.99\n",
              "2          2  202.92"
            ],
            "text/html": [
              "\n",
              "  <div id=\"df-89c3c18d-9f18-44f9-a898-3aebf5b781c1\">\n",
              "    <div class=\"colab-df-container\">\n",
              "      <div>\n",
              "<style scoped>\n",
              "    .dataframe tbody tr th:only-of-type {\n",
              "        vertical-align: middle;\n",
              "    }\n",
              "\n",
              "    .dataframe tbody tr th {\n",
              "        vertical-align: top;\n",
              "    }\n",
              "\n",
              "    .dataframe thead th {\n",
              "        text-align: right;\n",
              "    }\n",
              "</style>\n",
              "<table border=\"1\" class=\"dataframe\">\n",
              "  <thead>\n",
              "    <tr style=\"text-align: right;\">\n",
              "      <th></th>\n",
              "      <th>Frequency</th>\n",
              "      <th>GP CBM</th>\n",
              "    </tr>\n",
              "  </thead>\n",
              "  <tbody>\n",
              "    <tr>\n",
              "      <th>0</th>\n",
              "      <td>38</td>\n",
              "      <td>-137.86</td>\n",
              "    </tr>\n",
              "    <tr>\n",
              "      <th>1</th>\n",
              "      <td>10</td>\n",
              "      <td>-130.99</td>\n",
              "    </tr>\n",
              "    <tr>\n",
              "      <th>2</th>\n",
              "      <td>2</td>\n",
              "      <td>202.92</td>\n",
              "    </tr>\n",
              "  </tbody>\n",
              "</table>\n",
              "</div>\n",
              "      <button class=\"colab-df-convert\" onclick=\"convertToInteractive('df-89c3c18d-9f18-44f9-a898-3aebf5b781c1')\"\n",
              "              title=\"Convert this dataframe to an interactive table.\"\n",
              "              style=\"display:none;\">\n",
              "        \n",
              "  <svg xmlns=\"http://www.w3.org/2000/svg\" height=\"24px\"viewBox=\"0 0 24 24\"\n",
              "       width=\"24px\">\n",
              "    <path d=\"M0 0h24v24H0V0z\" fill=\"none\"/>\n",
              "    <path d=\"M18.56 5.44l.94 2.06.94-2.06 2.06-.94-2.06-.94-.94-2.06-.94 2.06-2.06.94zm-11 1L8.5 8.5l.94-2.06 2.06-.94-2.06-.94L8.5 2.5l-.94 2.06-2.06.94zm10 10l.94 2.06.94-2.06 2.06-.94-2.06-.94-.94-2.06-.94 2.06-2.06.94z\"/><path d=\"M17.41 7.96l-1.37-1.37c-.4-.4-.92-.59-1.43-.59-.52 0-1.04.2-1.43.59L10.3 9.45l-7.72 7.72c-.78.78-.78 2.05 0 2.83L4 21.41c.39.39.9.59 1.41.59.51 0 1.02-.2 1.41-.59l7.78-7.78 2.81-2.81c.8-.78.8-2.07 0-2.86zM5.41 20L4 18.59l7.72-7.72 1.47 1.35L5.41 20z\"/>\n",
              "  </svg>\n",
              "      </button>\n",
              "      \n",
              "  <style>\n",
              "    .colab-df-container {\n",
              "      display:flex;\n",
              "      flex-wrap:wrap;\n",
              "      gap: 12px;\n",
              "    }\n",
              "\n",
              "    .colab-df-convert {\n",
              "      background-color: #E8F0FE;\n",
              "      border: none;\n",
              "      border-radius: 50%;\n",
              "      cursor: pointer;\n",
              "      display: none;\n",
              "      fill: #1967D2;\n",
              "      height: 32px;\n",
              "      padding: 0 0 0 0;\n",
              "      width: 32px;\n",
              "    }\n",
              "\n",
              "    .colab-df-convert:hover {\n",
              "      background-color: #E2EBFA;\n",
              "      box-shadow: 0px 1px 2px rgba(60, 64, 67, 0.3), 0px 1px 3px 1px rgba(60, 64, 67, 0.15);\n",
              "      fill: #174EA6;\n",
              "    }\n",
              "\n",
              "    [theme=dark] .colab-df-convert {\n",
              "      background-color: #3B4455;\n",
              "      fill: #D2E3FC;\n",
              "    }\n",
              "\n",
              "    [theme=dark] .colab-df-convert:hover {\n",
              "      background-color: #434B5C;\n",
              "      box-shadow: 0px 1px 3px 1px rgba(0, 0, 0, 0.15);\n",
              "      filter: drop-shadow(0px 1px 2px rgba(0, 0, 0, 0.3));\n",
              "      fill: #FFFFFF;\n",
              "    }\n",
              "  </style>\n",
              "\n",
              "      <script>\n",
              "        const buttonEl =\n",
              "          document.querySelector('#df-89c3c18d-9f18-44f9-a898-3aebf5b781c1 button.colab-df-convert');\n",
              "        buttonEl.style.display =\n",
              "          google.colab.kernel.accessAllowed ? 'block' : 'none';\n",
              "\n",
              "        async function convertToInteractive(key) {\n",
              "          const element = document.querySelector('#df-89c3c18d-9f18-44f9-a898-3aebf5b781c1');\n",
              "          const dataTable =\n",
              "            await google.colab.kernel.invokeFunction('convertToInteractive',\n",
              "                                                     [key], {});\n",
              "          if (!dataTable) return;\n",
              "\n",
              "          const docLinkHtml = 'Like what you see? Visit the ' +\n",
              "            '<a target=\"_blank\" href=https://colab.research.google.com/notebooks/data_table.ipynb>data table notebook</a>'\n",
              "            + ' to learn more about interactive tables.';\n",
              "          element.innerHTML = '';\n",
              "          dataTable['output_type'] = 'display_data';\n",
              "          await google.colab.output.renderOutput(dataTable, element);\n",
              "          const docLink = document.createElement('div');\n",
              "          docLink.innerHTML = docLinkHtml;\n",
              "          element.appendChild(docLink);\n",
              "        }\n",
              "      </script>\n",
              "    </div>\n",
              "  </div>\n",
              "  "
            ]
          },
          "metadata": {},
          "execution_count": 42
        }
      ]
    },
    {
      "cell_type": "code",
      "source": [
        "ax = gp_9_50rms.plot.bar(title=\"GP CBM optimisation: 50 random multi-starts\", xlabel=\"GP CBM, optimised using approximate GP CBM gradients\", ylabel=\"Frequency\", color=\"yellow\")\n"
      ],
      "metadata": {
        "colab": {
          "base_uri": "https://localhost:8080/",
          "height": 324
        },
        "id": "bkzARFD6tQrf",
        "outputId": "ba8e7fb6-8a55-4d61-ddd2-27306f0a0912"
      },
      "execution_count": 43,
      "outputs": [
        {
          "output_type": "display_data",
          "data": {
            "text/plain": [
              "<Figure size 432x288 with 1 Axes>"
            ],
            "image/png": "[encoded data removed]"
          },
          "metadata": {
            "needs_background": "light"
          }
        }
      ]
    },
    {
      "cell_type": "code",
      "source": [
        "stp_9_50rms = pd.Series(np.round(stp_9_50rms.f_best, 2)).value_counts(sort=True)\n",
        "stp_9_50rms_df = pd.DataFrame({'Frequency':stp_9_50rms.values,'STP CBM':stp_9_50rms.index})\n",
        "stp_9_50rms_df\n"
      ],
      "metadata": {
        "colab": {
          "base_uri": "https://localhost:8080/",
          "height": 143
        },
        "id": "qshNk4ospKFs",
        "outputId": "57eabb78-8a6b-4e5e-db58-e54877524292"
      },
      "execution_count": 44,
      "outputs": [
        {
          "output_type": "execute_result",
          "data": {
            "text/plain": [
              "   Frequency  STP CBM\n",
              "0         43 -1231.87\n",
              "1          5 -1145.33\n",
              "2          2  -423.16"
            ],
            "text/html": [
              "\n",
              "  <div id=\"df-836984e6-2d44-43de-a822-8943cb9d4968\">\n",
              "    <div class=\"colab-df-container\">\n",
              "      <div>\n",
              "<style scoped>\n",
              "    .dataframe tbody tr th:only-of-type {\n",
              "        vertical-align: middle;\n",
              "    }\n",
              "\n",
              "    .dataframe tbody tr th {\n",
              "        vertical-align: top;\n",
              "    }\n",
              "\n",
              "    .dataframe thead th {\n",
              "        text-align: right;\n",
              "    }\n",
              "</style>\n",
              "<table border=\"1\" class=\"dataframe\">\n",
              "  <thead>\n",
              "    <tr style=\"text-align: right;\">\n",
              "      <th></th>\n",
              "      <th>Frequency</th>\n",
              "      <th>STP CBM</th>\n",
              "    </tr>\n",
              "  </thead>\n",
              "  <tbody>\n",
              "    <tr>\n",
              "      <th>0</th>\n",
              "      <td>43</td>\n",
              "      <td>-1231.87</td>\n",
              "    </tr>\n",
              "    <tr>\n",
              "      <th>1</th>\n",
              "      <td>5</td>\n",
              "      <td>-1145.33</td>\n",
              "    </tr>\n",
              "    <tr>\n",
              "      <th>2</th>\n",
              "      <td>2</td>\n",
              "      <td>-423.16</td>\n",
              "    </tr>\n",
              "  </tbody>\n",
              "</table>\n",
              "</div>\n",
              "      <button class=\"colab-df-convert\" onclick=\"convertToInteractive('df-836984e6-2d44-43de-a822-8943cb9d4968')\"\n",
              "              title=\"Convert this dataframe to an interactive table.\"\n",
              "              style=\"display:none;\">\n",
              "        \n",
              "  <svg xmlns=\"http://www.w3.org/2000/svg\" height=\"24px\"viewBox=\"0 0 24 24\"\n",
              "       width=\"24px\">\n",
              "    <path d=\"M0 0h24v24H0V0z\" fill=\"none\"/>\n",
              "    <path d=\"M18.56 5.44l.94 2.06.94-2.06 2.06-.94-2.06-.94-.94-2.06-.94 2.06-2.06.94zm-11 1L8.5 8.5l.94-2.06 2.06-.94-2.06-.94L8.5 2.5l-.94 2.06-2.06.94zm10 10l.94 2.06.94-2.06 2.06-.94-2.06-.94-.94-2.06-.94 2.06-2.06.94z\"/><path d=\"M17.41 7.96l-1.37-1.37c-.4-.4-.92-.59-1.43-.59-.52 0-1.04.2-1.43.59L10.3 9.45l-7.72 7.72c-.78.78-.78 2.05 0 2.83L4 21.41c.39.39.9.59 1.41.59.51 0 1.02-.2 1.41-.59l7.78-7.78 2.81-2.81c.8-.78.8-2.07 0-2.86zM5.41 20L4 18.59l7.72-7.72 1.47 1.35L5.41 20z\"/>\n",
              "  </svg>\n",
              "      </button>\n",
              "      \n",
              "  <style>\n",
              "    .colab-df-container {\n",
              "      display:flex;\n",
              "      flex-wrap:wrap;\n",
              "      gap: 12px;\n",
              "    }\n",
              "\n",
              "    .colab-df-convert {\n",
              "      background-color: #E8F0FE;\n",
              "      border: none;\n",
              "      border-radius: 50%;\n",
              "      cursor: pointer;\n",
              "      display: none;\n",
              "      fill: #1967D2;\n",
              "      height: 32px;\n",
              "      padding: 0 0 0 0;\n",
              "      width: 32px;\n",
              "    }\n",
              "\n",
              "    .colab-df-convert:hover {\n",
              "      background-color: #E2EBFA;\n",
              "      box-shadow: 0px 1px 2px rgba(60, 64, 67, 0.3), 0px 1px 3px 1px rgba(60, 64, 67, 0.15);\n",
              "      fill: #174EA6;\n",
              "    }\n",
              "\n",
              "    [theme=dark] .colab-df-convert {\n",
              "      background-color: #3B4455;\n",
              "      fill: #D2E3FC;\n",
              "    }\n",
              "\n",
              "    [theme=dark] .colab-df-convert:hover {\n",
              "      background-color: #434B5C;\n",
              "      box-shadow: 0px 1px 3px 1px rgba(0, 0, 0, 0.15);\n",
              "      filter: drop-shadow(0px 1px 2px rgba(0, 0, 0, 0.3));\n",
              "      fill: #FFFFFF;\n",
              "    }\n",
              "  </style>\n",
              "\n",
              "      <script>\n",
              "        const buttonEl =\n",
              "          document.querySelector('#df-836984e6-2d44-43de-a822-8943cb9d4968 button.colab-df-convert');\n",
              "        buttonEl.style.display =\n",
              "          google.colab.kernel.accessAllowed ? 'block' : 'none';\n",
              "\n",
              "        async function convertToInteractive(key) {\n",
              "          const element = document.querySelector('#df-836984e6-2d44-43de-a822-8943cb9d4968');\n",
              "          const dataTable =\n",
              "            await google.colab.kernel.invokeFunction('convertToInteractive',\n",
              "                                                     [key], {});\n",
              "          if (!dataTable) return;\n",
              "\n",
              "          const docLinkHtml = 'Like what you see? Visit the ' +\n",
              "            '<a target=\"_blank\" href=https://colab.research.google.com/notebooks/data_table.ipynb>data table notebook</a>'\n",
              "            + ' to learn more about interactive tables.';\n",
              "          element.innerHTML = '';\n",
              "          dataTable['output_type'] = 'display_data';\n",
              "          await google.colab.output.renderOutput(dataTable, element);\n",
              "          const docLink = document.createElement('div');\n",
              "          docLink.innerHTML = docLinkHtml;\n",
              "          element.appendChild(docLink);\n",
              "        }\n",
              "      </script>\n",
              "    </div>\n",
              "  </div>\n",
              "  "
            ]
          },
          "metadata": {},
          "execution_count": 44
        }
      ]
    },
    {
      "cell_type": "code",
      "source": [
        "ax = stp_9_50rms.plot.bar(title=\"STP CBM optimisation: 50 random multi-starts\", xlabel=\"STP CBM, optimised using approximate STP CBM gradients\", ylabel=\"Frequency\", color=\"green\")\n"
      ],
      "metadata": {
        "id": "tqgtupyivmi-",
        "colab": {
          "base_uri": "https://localhost:8080/",
          "height": 330
        },
        "outputId": "ce8a74cd-e66d-4daf-d2fe-3a3be0e7e23a"
      },
      "execution_count": 45,
      "outputs": [
        {
          "output_type": "display_data",
          "data": {
            "text/plain": [
              "<Figure size 432x288 with 1 Axes>"
            ],
            "image/png": "[encoded data removed]"
          },
          "metadata": {
            "needs_background": "light"
          }
        }
      ]
    },
    {
      "cell_type": "code",
      "source": [
        "n_start = 100\n"
      ],
      "metadata": {
        "id": "49g0OndrTTz9"
      },
      "execution_count": 46,
      "outputs": []
    },
    {
      "cell_type": "code",
      "source": [
        "### ESTIMATED GP CBM GRADIENTS: 100 random-multi starts (i.e. 100 rms)\n",
        "\n",
        "np.random.seed(run_num_9)\n",
        "surrogate_gp_9_100rms = GaussianProcess(cov_func, optimize=opt)\n",
        "\n",
        "gp_9_100rms = GPGO_multi(surrogate_gp_9_100rms, Acquisition(util), objfunc, param)\n",
        "gp_9_100rms.run(init_evals=n_init, max_iter=1)\n"
      ],
      "metadata": {
        "colab": {
          "base_uri": "https://localhost:8080/"
        },
        "outputId": "8537fde6-4b61-43ea-bd51-c85d0624eef7",
        "id": "x-OcaB_hTT0W"
      },
      "execution_count": 47,
      "outputs": [
        {
          "output_type": "stream",
          "name": "stdout",
          "text": [
            "Evaluation \t Proposed point \t  Current eval. \t  Best eval. \t Min. ApproxAcqFunc \n",
            "init\t [-2.00550747  0.00767833]\t -1620.5592513107108\t -132.4681822844375\t    \n",
            "init\t [-0.01731259 -1.49983425]\t -226.0751192637302\t -132.4681822844375\t    \n",
            "init\t [-1.46591299 -1.15278366]\t -1096.1928272344956\t -132.4681822844375\t    \n",
            "init\t [-0.33379049 -1.03177761]\t -132.4681822844375\t -132.4681822844375\t    \n",
            "init\t [-1.70369167 -0.63283757]\t -1257.2172959284223\t -132.4681822844375\t    \n",
            "\u001b[1m\u001b[92m1\u001b[0m\t \u001b[1m\u001b[92m[ 1.44056481 -0.01337117]\u001b[0m\t \u001b[1m\u001b[92m-436.41831888318814\u001b[0m\t \u001b[1m\u001b[92m-132.4681822844375\u001b[0m\t \u001b[1m\u001b[92m-137.86420146797678\u001b[0m\n"
          ]
        }
      ]
    },
    {
      "cell_type": "code",
      "source": [
        "### ESTIMATED STP CBM GRADIENTS: 100 random-multi starts (i.e. 100 rms)\n",
        "\n",
        "np.random.seed(run_num_9)\n",
        "surrogate_stp_9_100rms = tStudentProcess(cov_func, optimize=opt, nu = df)\n",
        "\n",
        "stp_9_100rms = GPGO_multi_STP(surrogate_stp_9_100rms, Acquisition(util_t), objfunc, param)\n",
        "stp_9_100rms.run(init_evals=n_init, max_iter=1)\n"
      ],
      "metadata": {
        "colab": {
          "base_uri": "https://localhost:8080/"
        },
        "outputId": "bb2c96be-171a-4ca7-bd2b-125bb8719e81",
        "id": "rBIQgFewTT0X"
      },
      "execution_count": 48,
      "outputs": [
        {
          "output_type": "stream",
          "name": "stdout",
          "text": [
            "Evaluation \t Proposed point \t  Current eval. \t  Best eval. \t Min. ApproxAcqFunc \n",
            "init\t [-2.00550747  0.00767833]\t -1620.5592513107108\t -132.4681822844375\t    \n",
            "init\t [-0.01731259 -1.49983425]\t -226.0751192637302\t -132.4681822844375\t    \n",
            "init\t [-1.46591299 -1.15278366]\t -1096.1928272344956\t -132.4681822844375\t    \n",
            "init\t [-0.33379049 -1.03177761]\t -132.4681822844375\t -132.4681822844375\t    \n",
            "init\t [-1.70369167 -0.63283757]\t -1257.2172959284223\t -132.4681822844375\t    \n",
            "\u001b[1m\u001b[92m1\u001b[0m\t \u001b[1m\u001b[92m[0.87795    0.23986923]\u001b[0m\t \u001b[1m\u001b[92m-28.20324115403495\u001b[0m\t \u001b[1m\u001b[92m-28.20324115403495\u001b[0m\t \u001b[1m\u001b[92m-1231.8732944500152\u001b[0m\n"
          ]
        }
      ]
    },
    {
      "cell_type": "code",
      "source": [
        "gp_9_100rms = pd.Series(np.round(gp_9_100rms.f_best, 2)).value_counts(sort=True)\n",
        "gp_9_100rms_df = pd.DataFrame({'Frequency':gp_9_100rms.values,'GP CBM':gp_9_100rms.index})\n",
        "gp_9_100rms_df\n"
      ],
      "metadata": {
        "colab": {
          "base_uri": "https://localhost:8080/",
          "height": 143
        },
        "outputId": "76d3ae41-018e-458f-dc4a-e0414bfbdfba",
        "id": "X_mPl5YCTT0Y"
      },
      "execution_count": 49,
      "outputs": [
        {
          "output_type": "execute_result",
          "data": {
            "text/plain": [
              "   Frequency  GP CBM\n",
              "0         81 -137.86\n",
              "1         14 -130.99\n",
              "2          5  202.92"
            ],
            "text/html": [
              "\n",
              "  <div id=\"df-7b35cabb-1683-47b6-aebf-837fc34c39ab\">\n",
              "    <div class=\"colab-df-container\">\n",
              "      <div>\n",
              "<style scoped>\n",
              "    .dataframe tbody tr th:only-of-type {\n",
              "        vertical-align: middle;\n",
              "    }\n",
              "\n",
              "    .dataframe tbody tr th {\n",
              "        vertical-align: top;\n",
              "    }\n",
              "\n",
              "    .dataframe thead th {\n",
              "        text-align: right;\n",
              "    }\n",
              "</style>\n",
              "<table border=\"1\" class=\"dataframe\">\n",
              "  <thead>\n",
              "    <tr style=\"text-align: right;\">\n",
              "      <th></th>\n",
              "      <th>Frequency</th>\n",
              "      <th>GP CBM</th>\n",
              "    </tr>\n",
              "  </thead>\n",
              "  <tbody>\n",
              "    <tr>\n",
              "      <th>0</th>\n",
              "      <td>81</td>\n",
              "      <td>-137.86</td>\n",
              "    </tr>\n",
              "    <tr>\n",
              "      <th>1</th>\n",
              "      <td>14</td>\n",
              "      <td>-130.99</td>\n",
              "    </tr>\n",
              "    <tr>\n",
              "      <th>2</th>\n",
              "      <td>5</td>\n",
              "      <td>202.92</td>\n",
              "    </tr>\n",
              "  </tbody>\n",
              "</table>\n",
              "</div>\n",
              "      <button class=\"colab-df-convert\" onclick=\"convertToInteractive('df-7b35cabb-1683-47b6-aebf-837fc34c39ab')\"\n",
              "              title=\"Convert this dataframe to an interactive table.\"\n",
              "              style=\"display:none;\">\n",
              "        \n",
              "  <svg xmlns=\"http://www.w3.org/2000/svg\" height=\"24px\"viewBox=\"0 0 24 24\"\n",
              "       width=\"24px\">\n",
              "    <path d=\"M0 0h24v24H0V0z\" fill=\"none\"/>\n",
              "    <path d=\"M18.56 5.44l.94 2.06.94-2.06 2.06-.94-2.06-.94-.94-2.06-.94 2.06-2.06.94zm-11 1L8.5 8.5l.94-2.06 2.06-.94-2.06-.94L8.5 2.5l-.94 2.06-2.06.94zm10 10l.94 2.06.94-2.06 2.06-.94-2.06-.94-.94-2.06-.94 2.06-2.06.94z\"/><path d=\"M17.41 7.96l-1.37-1.37c-.4-.4-.92-.59-1.43-.59-.52 0-1.04.2-1.43.59L10.3 9.45l-7.72 7.72c-.78.78-.78 2.05 0 2.83L4 21.41c.39.39.9.59 1.41.59.51 0 1.02-.2 1.41-.59l7.78-7.78 2.81-2.81c.8-.78.8-2.07 0-2.86zM5.41 20L4 18.59l7.72-7.72 1.47 1.35L5.41 20z\"/>\n",
              "  </svg>\n",
              "      </button>\n",
              "      \n",
              "  <style>\n",
              "    .colab-df-container {\n",
              "      display:flex;\n",
              "      flex-wrap:wrap;\n",
              "      gap: 12px;\n",
              "    }\n",
              "\n",
              "    .colab-df-convert {\n",
              "      background-color: #E8F0FE;\n",
              "      border: none;\n",
              "      border-radius: 50%;\n",
              "      cursor: pointer;\n",
              "      display: none;\n",
              "      fill: #1967D2;\n",
              "      height: 32px;\n",
              "      padding: 0 0 0 0;\n",
              "      width: 32px;\n",
              "    }\n",
              "\n",
              "    .colab-df-convert:hover {\n",
              "      background-color: #E2EBFA;\n",
              "      box-shadow: 0px 1px 2px rgba(60, 64, 67, 0.3), 0px 1px 3px 1px rgba(60, 64, 67, 0.15);\n",
              "      fill: #174EA6;\n",
              "    }\n",
              "\n",
              "    [theme=dark] .colab-df-convert {\n",
              "      background-color: #3B4455;\n",
              "      fill: #D2E3FC;\n",
              "    }\n",
              "\n",
              "    [theme=dark] .colab-df-convert:hover {\n",
              "      background-color: #434B5C;\n",
              "      box-shadow: 0px 1px 3px 1px rgba(0, 0, 0, 0.15);\n",
              "      filter: drop-shadow(0px 1px 2px rgba(0, 0, 0, 0.3));\n",
              "      fill: #FFFFFF;\n",
              "    }\n",
              "  </style>\n",
              "\n",
              "      <script>\n",
              "        const buttonEl =\n",
              "          document.querySelector('#df-7b35cabb-1683-47b6-aebf-837fc34c39ab button.colab-df-convert');\n",
              "        buttonEl.style.display =\n",
              "          google.colab.kernel.accessAllowed ? 'block' : 'none';\n",
              "\n",
              "        async function convertToInteractive(key) {\n",
              "          const element = document.querySelector('#df-7b35cabb-1683-47b6-aebf-837fc34c39ab');\n",
              "          const dataTable =\n",
              "            await google.colab.kernel.invokeFunction('convertToInteractive',\n",
              "                                                     [key], {});\n",
              "          if (!dataTable) return;\n",
              "\n",
              "          const docLinkHtml = 'Like what you see? Visit the ' +\n",
              "            '<a target=\"_blank\" href=https://colab.research.google.com/notebooks/data_table.ipynb>data table notebook</a>'\n",
              "            + ' to learn more about interactive tables.';\n",
              "          element.innerHTML = '';\n",
              "          dataTable['output_type'] = 'display_data';\n",
              "          await google.colab.output.renderOutput(dataTable, element);\n",
              "          const docLink = document.createElement('div');\n",
              "          docLink.innerHTML = docLinkHtml;\n",
              "          element.appendChild(docLink);\n",
              "        }\n",
              "      </script>\n",
              "    </div>\n",
              "  </div>\n",
              "  "
            ]
          },
          "metadata": {},
          "execution_count": 49
        }
      ]
    },
    {
      "cell_type": "code",
      "source": [
        "ax = gp_9_100rms.plot.bar(title=\"GP CBM optimisation: 100 random multi-starts\", xlabel=\"GP CBM, optimised using approximate GP CBM gradients\", ylabel=\"Frequency\", color=\"yellow\")\n"
      ],
      "metadata": {
        "colab": {
          "base_uri": "https://localhost:8080/",
          "height": 324
        },
        "outputId": "f8be478d-4ca1-43ef-fd90-4cd6cb826c35",
        "id": "VCVU06HOTT0Z"
      },
      "execution_count": 50,
      "outputs": [
        {
          "output_type": "display_data",
          "data": {
            "text/plain": [
              "<Figure size 432x288 with 1 Axes>"
            ],
            "image/png": "[encoded data removed]"
          },
          "metadata": {
            "needs_background": "light"
          }
        }
      ]
    },
    {
      "cell_type": "code",
      "source": [
        "stp_9_100rms = pd.Series(np.round(stp_9_100rms.f_best, 2)).value_counts(sort=True)\n",
        "stp_9_100rms_df = pd.DataFrame({'Frequency':stp_9_100rms.values,'STP CBM':stp_9_100rms.index})\n",
        "stp_9_100rms_df\n"
      ],
      "metadata": {
        "colab": {
          "base_uri": "https://localhost:8080/",
          "height": 143
        },
        "outputId": "923ee1d4-bbb4-48ed-ee46-bd4bdce894f6",
        "id": "P1wJlRiNTT0a"
      },
      "execution_count": 51,
      "outputs": [
        {
          "output_type": "execute_result",
          "data": {
            "text/plain": [
              "   Frequency  STP CBM\n",
              "0         87 -1231.87\n",
              "1          8 -1145.33\n",
              "2          5  -423.16"
            ],
            "text/html": [
              "\n",
              "  <div id=\"df-8eb101af-8b61-44aa-8da1-06f9e460c470\">\n",
              "    <div class=\"colab-df-container\">\n",
              "      <div>\n",
              "<style scoped>\n",
              "    .dataframe tbody tr th:only-of-type {\n",
              "        vertical-align: middle;\n",
              "    }\n",
              "\n",
              "    .dataframe tbody tr th {\n",
              "        vertical-align: top;\n",
              "    }\n",
              "\n",
              "    .dataframe thead th {\n",
              "        text-align: right;\n",
              "    }\n",
              "</style>\n",
              "<table border=\"1\" class=\"dataframe\">\n",
              "  <thead>\n",
              "    <tr style=\"text-align: right;\">\n",
              "      <th></th>\n",
              "      <th>Frequency</th>\n",
              "      <th>STP CBM</th>\n",
              "    </tr>\n",
              "  </thead>\n",
              "  <tbody>\n",
              "    <tr>\n",
              "      <th>0</th>\n",
              "      <td>87</td>\n",
              "      <td>-1231.87</td>\n",
              "    </tr>\n",
              "    <tr>\n",
              "      <th>1</th>\n",
              "      <td>8</td>\n",
              "      <td>-1145.33</td>\n",
              "    </tr>\n",
              "    <tr>\n",
              "      <th>2</th>\n",
              "      <td>5</td>\n",
              "      <td>-423.16</td>\n",
              "    </tr>\n",
              "  </tbody>\n",
              "</table>\n",
              "</div>\n",
              "      <button class=\"colab-df-convert\" onclick=\"convertToInteractive('df-8eb101af-8b61-44aa-8da1-06f9e460c470')\"\n",
              "              title=\"Convert this dataframe to an interactive table.\"\n",
              "              style=\"display:none;\">\n",
              "        \n",
              "  <svg xmlns=\"http://www.w3.org/2000/svg\" height=\"24px\"viewBox=\"0 0 24 24\"\n",
              "       width=\"24px\">\n",
              "    <path d=\"M0 0h24v24H0V0z\" fill=\"none\"/>\n",
              "    <path d=\"M18.56 5.44l.94 2.06.94-2.06 2.06-.94-2.06-.94-.94-2.06-.94 2.06-2.06.94zm-11 1L8.5 8.5l.94-2.06 2.06-.94-2.06-.94L8.5 2.5l-.94 2.06-2.06.94zm10 10l.94 2.06.94-2.06 2.06-.94-2.06-.94-.94-2.06-.94 2.06-2.06.94z\"/><path d=\"M17.41 7.96l-1.37-1.37c-.4-.4-.92-.59-1.43-.59-.52 0-1.04.2-1.43.59L10.3 9.45l-7.72 7.72c-.78.78-.78 2.05 0 2.83L4 21.41c.39.39.9.59 1.41.59.51 0 1.02-.2 1.41-.59l7.78-7.78 2.81-2.81c.8-.78.8-2.07 0-2.86zM5.41 20L4 18.59l7.72-7.72 1.47 1.35L5.41 20z\"/>\n",
              "  </svg>\n",
              "      </button>\n",
              "      \n",
              "  <style>\n",
              "    .colab-df-container {\n",
              "      display:flex;\n",
              "      flex-wrap:wrap;\n",
              "      gap: 12px;\n",
              "    }\n",
              "\n",
              "    .colab-df-convert {\n",
              "      background-color: #E8F0FE;\n",
              "      border: none;\n",
              "      border-radius: 50%;\n",
              "      cursor: pointer;\n",
              "      display: none;\n",
              "      fill: #1967D2;\n",
              "      height: 32px;\n",
              "      padding: 0 0 0 0;\n",
              "      width: 32px;\n",
              "    }\n",
              "\n",
              "    .colab-df-convert:hover {\n",
              "      background-color: #E2EBFA;\n",
              "      box-shadow: 0px 1px 2px rgba(60, 64, 67, 0.3), 0px 1px 3px 1px rgba(60, 64, 67, 0.15);\n",
              "      fill: #174EA6;\n",
              "    }\n",
              "\n",
              "    [theme=dark] .colab-df-convert {\n",
              "      background-color: #3B4455;\n",
              "      fill: #D2E3FC;\n",
              "    }\n",
              "\n",
              "    [theme=dark] .colab-df-convert:hover {\n",
              "      background-color: #434B5C;\n",
              "      box-shadow: 0px 1px 3px 1px rgba(0, 0, 0, 0.15);\n",
              "      filter: drop-shadow(0px 1px 2px rgba(0, 0, 0, 0.3));\n",
              "      fill: #FFFFFF;\n",
              "    }\n",
              "  </style>\n",
              "\n",
              "      <script>\n",
              "        const buttonEl =\n",
              "          document.querySelector('#df-8eb101af-8b61-44aa-8da1-06f9e460c470 button.colab-df-convert');\n",
              "        buttonEl.style.display =\n",
              "          google.colab.kernel.accessAllowed ? 'block' : 'none';\n",
              "\n",
              "        async function convertToInteractive(key) {\n",
              "          const element = document.querySelector('#df-8eb101af-8b61-44aa-8da1-06f9e460c470');\n",
              "          const dataTable =\n",
              "            await google.colab.kernel.invokeFunction('convertToInteractive',\n",
              "                                                     [key], {});\n",
              "          if (!dataTable) return;\n",
              "\n",
              "          const docLinkHtml = 'Like what you see? Visit the ' +\n",
              "            '<a target=\"_blank\" href=https://colab.research.google.com/notebooks/data_table.ipynb>data table notebook</a>'\n",
              "            + ' to learn more about interactive tables.';\n",
              "          element.innerHTML = '';\n",
              "          dataTable['output_type'] = 'display_data';\n",
              "          await google.colab.output.renderOutput(dataTable, element);\n",
              "          const docLink = document.createElement('div');\n",
              "          docLink.innerHTML = docLinkHtml;\n",
              "          element.appendChild(docLink);\n",
              "        }\n",
              "      </script>\n",
              "    </div>\n",
              "  </div>\n",
              "  "
            ]
          },
          "metadata": {},
          "execution_count": 51
        }
      ]
    },
    {
      "cell_type": "code",
      "source": [
        "ax = stp_9_100rms.plot.bar(title=\"STP CBM optimisation: 100 random multi-starts\", xlabel=\"STP CBM, optimised using approximate STP CBM gradients\", ylabel=\"Frequency\", color=\"green\")\n"
      ],
      "metadata": {
        "colab": {
          "base_uri": "https://localhost:8080/",
          "height": 330
        },
        "outputId": "93f3e156-416d-401f-c545-9d47f364b962",
        "id": "3ve6kE6RTT0a"
      },
      "execution_count": 52,
      "outputs": [
        {
          "output_type": "display_data",
          "data": {
            "text/plain": [
              "<Figure size 432x288 with 1 Axes>"
            ],
            "image/png": "[encoded data removed]"
          },
          "metadata": {
            "needs_background": "light"
          }
        }
      ]
    },
    {
      "cell_type": "code",
      "source": [
        "print(gp_9_20rms.to_latex(index=True))\n"
      ],
      "metadata": {
        "colab": {
          "base_uri": "https://localhost:8080/"
        },
        "id": "N0IzWilSXdkh",
        "outputId": "4abc2d5a-1d3e-447f-dd3c-bcf5b75f47b3"
      },
      "execution_count": 53,
      "outputs": [
        {
          "output_type": "stream",
          "name": "stdout",
          "text": [
            "\\begin{tabular}{lr}\n",
            "\\toprule\n",
            "{} &   0 \\\\\n",
            "\\midrule\n",
            "-137.86 &  17 \\\\\n",
            "-130.99 &   2 \\\\\n",
            " 202.92 &   1 \\\\\n",
            "\\bottomrule\n",
            "\\end{tabular}\n",
            "\n"
          ]
        }
      ]
    },
    {
      "cell_type": "code",
      "source": [
        "print(stp_9_20rms.to_latex(index=True))\n"
      ],
      "metadata": {
        "colab": {
          "base_uri": "https://localhost:8080/"
        },
        "id": "RYeQqoY8ceOC",
        "outputId": "170dac58-4ed4-40ea-bbf0-c1d3065f87fb"
      },
      "execution_count": 54,
      "outputs": [
        {
          "output_type": "stream",
          "name": "stdout",
          "text": [
            "\\begin{tabular}{lr}\n",
            "\\toprule\n",
            "{} &   0 \\\\\n",
            "\\midrule\n",
            "-1231.87 &  17 \\\\\n",
            "-1145.33 &   2 \\\\\n",
            "-423.16  &   1 \\\\\n",
            "\\bottomrule\n",
            "\\end{tabular}\n",
            "\n"
          ]
        }
      ]
    },
    {
      "cell_type": "code",
      "source": [
        "print(gp_9_50rms.to_latex(index=True))\n"
      ],
      "metadata": {
        "colab": {
          "base_uri": "https://localhost:8080/"
        },
        "id": "JRK799cwcltn",
        "outputId": "619b7c0f-2720-4c4f-85ea-71928ed8357a"
      },
      "execution_count": 55,
      "outputs": [
        {
          "output_type": "stream",
          "name": "stdout",
          "text": [
            "\\begin{tabular}{lr}\n",
            "\\toprule\n",
            "{} &   0 \\\\\n",
            "\\midrule\n",
            "-137.86 &  38 \\\\\n",
            "-130.99 &  10 \\\\\n",
            " 202.92 &   2 \\\\\n",
            "\\bottomrule\n",
            "\\end{tabular}\n",
            "\n"
          ]
        }
      ]
    },
    {
      "cell_type": "code",
      "source": [
        "print(stp_9_50rms.to_latex(index=True))\n"
      ],
      "metadata": {
        "id": "hBt9X5T6TT0a",
        "colab": {
          "base_uri": "https://localhost:8080/"
        },
        "outputId": "f058a0a0-b4b3-4395-90b1-3c61d22f05ea"
      },
      "execution_count": 56,
      "outputs": [
        {
          "output_type": "stream",
          "name": "stdout",
          "text": [
            "\\begin{tabular}{lr}\n",
            "\\toprule\n",
            "{} &   0 \\\\\n",
            "\\midrule\n",
            "-1231.87 &  43 \\\\\n",
            "-1145.33 &   5 \\\\\n",
            "-423.16  &   2 \\\\\n",
            "\\bottomrule\n",
            "\\end{tabular}\n",
            "\n"
          ]
        }
      ]
    },
    {
      "cell_type": "code",
      "source": [
        "print(gp_9_100rms.to_latex(index=True))\n"
      ],
      "metadata": {
        "colab": {
          "base_uri": "https://localhost:8080/"
        },
        "id": "veFjdCC4fM1t",
        "outputId": "86d01769-d5df-4e7a-e8ac-ac09eeb39dfa"
      },
      "execution_count": 57,
      "outputs": [
        {
          "output_type": "stream",
          "name": "stdout",
          "text": [
            "\\begin{tabular}{lr}\n",
            "\\toprule\n",
            "{} &   0 \\\\\n",
            "\\midrule\n",
            "-137.86 &  81 \\\\\n",
            "-130.99 &  14 \\\\\n",
            " 202.92 &   5 \\\\\n",
            "\\bottomrule\n",
            "\\end{tabular}\n",
            "\n"
          ]
        }
      ]
    },
    {
      "cell_type": "code",
      "source": [
        "print(stp_9_100rms.to_latex(index=True))\n"
      ],
      "metadata": {
        "colab": {
          "base_uri": "https://localhost:8080/"
        },
        "id": "QEacMyWJfM42",
        "outputId": "2de7bc25-a5c6-455d-d29b-bf5e7e64cd83"
      },
      "execution_count": 58,
      "outputs": [
        {
          "output_type": "stream",
          "name": "stdout",
          "text": [
            "\\begin{tabular}{lr}\n",
            "\\toprule\n",
            "{} &   0 \\\\\n",
            "\\midrule\n",
            "-1231.87 &  87 \\\\\n",
            "-1145.33 &   8 \\\\\n",
            "-423.16  &   5 \\\\\n",
            "\\bottomrule\n",
            "\\end{tabular}\n",
            "\n"
          ]
        }
      ]
    },
    {
      "cell_type": "code",
      "source": [],
      "metadata": {
        "id": "htldQEgffM8e"
      },
      "execution_count": 58,
      "outputs": []
    }
  ],
  "metadata": {
    "colab": {
      "collapsed_sections": [],
      "provenance": []
    },
    "kernelspec": {
      "display_name": "Python 3",
      "name": "python3"
    },
    "language_info": {
      "name": "python"
    }
  },
  "nbformat": 4,
  "nbformat_minor": 0
}