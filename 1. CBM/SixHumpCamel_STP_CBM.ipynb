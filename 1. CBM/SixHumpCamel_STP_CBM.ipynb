{
  "cells": [
    {
      "cell_type": "markdown",
      "metadata": {
        "id": "OrYfJFnSJLkS"
      },
      "source": [
        "SixHumpCamel synthetic function:\n",
        "\n",
        "GP CBM versus STP nu = 3 CBM (winner)\n",
        "\n",
        "https://www.sfu.ca/~ssurjano/camel6.html"
      ]
    },
    {
      "cell_type": "code",
      "source": [
        "pip install pyGPGO\n"
      ],
      "metadata": {
        "colab": {
          "base_uri": "https://localhost:8080/"
        },
        "id": "2FgAmLMpOX3c",
        "outputId": "7b2e99e4-6720-4c19-84f0-83bf62f17833"
      },
      "execution_count": null,
      "outputs": [
        {
          "output_type": "stream",
          "name": "stdout",
          "text": [
            "Looking in indexes: https://pypi.org/simple, https://us-python.pkg.dev/colab-wheels/public/simple/\n",
            "Collecting pyGPGO\n",
            "  Downloading pyGPGO-0.5.1.tar.gz (14 kB)\n",
            "Requirement already satisfied: numpy in /usr/local/lib/python3.7/dist-packages (from pyGPGO) (1.21.6)\n",
            "Requirement already satisfied: mkl in /usr/local/lib/python3.7/dist-packages (from pyGPGO) (2019.0)\n",
            "Requirement already satisfied: scipy in /usr/local/lib/python3.7/dist-packages (from pyGPGO) (1.7.3)\n",
            "Requirement already satisfied: joblib in /usr/local/lib/python3.7/dist-packages (from pyGPGO) (1.1.0)\n",
            "Requirement already satisfied: scikit-learn in /usr/local/lib/python3.7/dist-packages (from pyGPGO) (1.0.2)\n",
            "Collecting Theano-PyMC\n",
            "  Downloading Theano-PyMC-1.1.2.tar.gz (1.8 MB)\n",
            "\u001b[K     |████████████████████████████████| 1.8 MB 4.3 MB/s \n",
            "\u001b[?25hCollecting pyMC3\n",
            "  Downloading pymc3-3.11.5-py3-none-any.whl (872 kB)\n",
            "\u001b[K     |████████████████████████████████| 872 kB 37.2 MB/s \n",
            "\u001b[?25hRequirement already satisfied: intel-openmp in /usr/local/lib/python3.7/dist-packages (from mkl->pyGPGO) (2022.1.0)\n",
            "Collecting deprecat\n",
            "  Downloading deprecat-2.1.1-py2.py3-none-any.whl (9.8 kB)\n",
            "Requirement already satisfied: fastprogress>=0.2.0 in /usr/local/lib/python3.7/dist-packages (from pyMC3->pyGPGO) (1.0.3)\n",
            "Requirement already satisfied: cachetools>=4.2.1 in /usr/local/lib/python3.7/dist-packages (from pyMC3->pyGPGO) (4.2.4)\n",
            "Requirement already satisfied: typing-extensions>=3.7.4 in /usr/local/lib/python3.7/dist-packages (from pyMC3->pyGPGO) (4.1.1)\n",
            "Requirement already satisfied: arviz>=0.11.0 in /usr/local/lib/python3.7/dist-packages (from pyMC3->pyGPGO) (0.12.1)\n",
            "Collecting semver>=2.13.0\n",
            "  Downloading semver-2.13.0-py2.py3-none-any.whl (12 kB)\n",
            "Requirement already satisfied: pandas>=0.24.0 in /usr/local/lib/python3.7/dist-packages (from pyMC3->pyGPGO) (1.3.5)\n",
            "Requirement already satisfied: dill in /usr/local/lib/python3.7/dist-packages (from pyMC3->pyGPGO) (0.3.5.1)\n",
            "Requirement already satisfied: patsy>=0.5.1 in /usr/local/lib/python3.7/dist-packages (from pyMC3->pyGPGO) (0.5.2)\n",
            "Requirement already satisfied: filelock in /usr/local/lib/python3.7/dist-packages (from Theano-PyMC->pyGPGO) (3.8.0)\n",
            "Requirement already satisfied: xarray-einstats>=0.2 in /usr/local/lib/python3.7/dist-packages (from arviz>=0.11.0->pyMC3->pyGPGO) (0.2.2)\n",
            "Requirement already satisfied: matplotlib>=3.0 in /usr/local/lib/python3.7/dist-packages (from arviz>=0.11.0->pyMC3->pyGPGO) (3.2.2)\n",
            "Requirement already satisfied: setuptools>=38.4 in /usr/local/lib/python3.7/dist-packages (from arviz>=0.11.0->pyMC3->pyGPGO) (57.4.0)\n",
            "Requirement already satisfied: xarray>=0.16.1 in /usr/local/lib/python3.7/dist-packages (from arviz>=0.11.0->pyMC3->pyGPGO) (0.20.2)\n",
            "Requirement already satisfied: packaging in /usr/local/lib/python3.7/dist-packages (from arviz>=0.11.0->pyMC3->pyGPGO) (21.3)\n",
            "Requirement already satisfied: netcdf4 in /usr/local/lib/python3.7/dist-packages (from arviz>=0.11.0->pyMC3->pyGPGO) (1.6.0)\n",
            "Requirement already satisfied: kiwisolver>=1.0.1 in /usr/local/lib/python3.7/dist-packages (from matplotlib>=3.0->arviz>=0.11.0->pyMC3->pyGPGO) (1.4.4)\n",
            "Requirement already satisfied: cycler>=0.10 in /usr/local/lib/python3.7/dist-packages (from matplotlib>=3.0->arviz>=0.11.0->pyMC3->pyGPGO) (0.11.0)\n",
            "Requirement already satisfied: python-dateutil>=2.1 in /usr/local/lib/python3.7/dist-packages (from matplotlib>=3.0->arviz>=0.11.0->pyMC3->pyGPGO) (2.8.2)\n",
            "Requirement already satisfied: pyparsing!=2.0.4,!=2.1.2,!=2.1.6,>=2.0.1 in /usr/local/lib/python3.7/dist-packages (from matplotlib>=3.0->arviz>=0.11.0->pyMC3->pyGPGO) (3.0.9)\n",
            "Requirement already satisfied: pytz>=2017.3 in /usr/local/lib/python3.7/dist-packages (from pandas>=0.24.0->pyMC3->pyGPGO) (2022.2.1)\n",
            "Requirement already satisfied: six in /usr/local/lib/python3.7/dist-packages (from patsy>=0.5.1->pyMC3->pyGPGO) (1.15.0)\n",
            "Requirement already satisfied: importlib-metadata in /usr/local/lib/python3.7/dist-packages (from xarray>=0.16.1->arviz>=0.11.0->pyMC3->pyGPGO) (4.12.0)\n",
            "Requirement already satisfied: wrapt<2,>=1.10 in /usr/local/lib/python3.7/dist-packages (from deprecat->pyMC3->pyGPGO) (1.14.1)\n",
            "Requirement already satisfied: zipp>=0.5 in /usr/local/lib/python3.7/dist-packages (from importlib-metadata->xarray>=0.16.1->arviz>=0.11.0->pyMC3->pyGPGO) (3.8.1)\n",
            "Requirement already satisfied: cftime in /usr/local/lib/python3.7/dist-packages (from netcdf4->arviz>=0.11.0->pyMC3->pyGPGO) (1.6.1)\n",
            "Requirement already satisfied: threadpoolctl>=2.0.0 in /usr/local/lib/python3.7/dist-packages (from scikit-learn->pyGPGO) (3.1.0)\n",
            "Building wheels for collected packages: pyGPGO, Theano-PyMC\n",
            "  Building wheel for pyGPGO (setup.py) ... \u001b[?25l\u001b[?25hdone\n",
            "  Created wheel for pyGPGO: filename=pyGPGO-0.5.1-py3-none-any.whl size=19879 sha256=e4754163425dfc575c9fa61d78b465a341ab87c6b51ae75531e0ae13871a627f\n",
            "  Stored in directory: /root/.cache/pip/wheels/c8/5d/0b/2160114e2f1b87791c51b66cf07f89831dbb6f49167950316f\n",
            "  Building wheel for Theano-PyMC (setup.py) ... \u001b[?25l\u001b[?25hdone\n",
            "  Created wheel for Theano-PyMC: filename=Theano_PyMC-1.1.2-py3-none-any.whl size=1529963 sha256=0bcbb37ff9dc06f8e95efcf49bd6ef4555a7f7e1e09a93b5b187174f85829e6a\n",
            "  Stored in directory: /root/.cache/pip/wheels/f3/af/8c/5dd7553522d74c52a7813806fc7ee1a9caa20a3f7c8fd850d5\n",
            "Successfully built pyGPGO Theano-PyMC\n",
            "Installing collected packages: Theano-PyMC, semver, deprecat, pyMC3, pyGPGO\n",
            "Successfully installed Theano-PyMC-1.1.2 deprecat-2.1.1 pyGPGO-0.5.1 pyMC3-3.11.5 semver-2.13.0\n"
          ]
        }
      ]
    },
    {
      "cell_type": "code",
      "execution_count": null,
      "metadata": {
        "id": "Dn_SAbhVJLke"
      },
      "outputs": [],
      "source": [
        "### Import modules:\n",
        "\n",
        "import numpy as np\n",
        "import scipy as sp\n",
        "import pandas as pd\n",
        "import matplotlib.pyplot as plt\n",
        "import random\n",
        "import warnings\n",
        "\n",
        "from pyGPGO.logger import EventLogger\n",
        "from pyGPGO.GPGO import GPGO\n",
        "from pyGPGO.surrogates.GaussianProcess import GaussianProcess\n",
        "from pyGPGO.surrogates.tStudentProcess import tStudentProcess, logpdf\n",
        "from pyGPGO.acquisition import Acquisition\n",
        "from pyGPGO.covfunc import squaredExponential\n",
        "\n",
        "from collections import OrderedDict\n",
        "from joblib import Parallel, delayed\n",
        "from numpy.linalg import slogdet, inv, cholesky, solve\n",
        "from scipy.optimize import minimize\n",
        "from scipy.spatial.distance import cdist\n",
        "from scipy.special import gamma\n",
        "from scipy.stats import norm, t\n",
        "from matplotlib.pyplot import rc\n",
        "\n",
        "rc('text', usetex=False)\n",
        "plt.rcParams['text.latex.preamble']=[r'\\usepackage{amsmath}']\n",
        "plt.rcParams['text.latex.preamble'] = [r'\\boldmath']\n",
        "\n",
        "warnings.filterwarnings(\"ignore\", category=FutureWarning)\n",
        "warnings.filterwarnings(\"ignore\", category=RuntimeWarning)\n",
        "warnings.filterwarnings(\"ignore\", category=UserWarning)\n"
      ]
    },
    {
      "cell_type": "code",
      "execution_count": null,
      "metadata": {
        "id": "4Nwg_XO0JLki"
      },
      "outputs": [],
      "source": [
        "### Inputs:\n",
        "\n",
        "obj_func = 'SixHumpCamel'\n",
        "n_test = 500 # test points\n",
        "df = 3 # nu\n",
        "\n",
        "util_gp = 'CBMinimized'\n",
        "util_stp = 'tCBMinimized'\n",
        "n_init = 5 # random initialisations\n",
        "\n",
        "cov_func = squaredExponential()\n",
        "hyperOpt = True\n"
      ]
    },
    {
      "cell_type": "code",
      "execution_count": null,
      "metadata": {
        "id": "DVYGZ6jYJLkj"
      },
      "outputs": [],
      "source": [
        "### Objective function:\n",
        "\n",
        "if obj_func == 'SixHumpCamel':\n",
        "    \n",
        "    # True y bounds:\n",
        "    y_lb = -1.0316\n",
        "    operator = -1 # targets global minimum \n",
        "    y_global_orig = y_lb * operator # targets global minimum\n",
        "            \n",
        "# Constraints:\n",
        "    lb_x1 = -3\n",
        "    ub_x1 = +3\n",
        "    \n",
        "    lb_x2 = -2\n",
        "    ub_x2 = +2\n",
        "    \n",
        "# Input array dimension(s):\n",
        "    dim = 2\n",
        "\n",
        "# 2-D inputs' parameter bounds:\n",
        "    param = {'x1_training': ('cont', [lb_x1, ub_x1]),\n",
        "             'x2_training': ('cont', [lb_x2, ub_x2])}\n",
        "    \n",
        "# Test data:\n",
        "    x1_test = np.linspace(lb_x1, ub_x1, n_test)\n",
        "    x2_test = np.linspace(lb_x2, ub_x2, n_test)\n",
        "    Xstar_d = np.column_stack((x1_test, x2_test))\n",
        "\n",
        "    def f_syn_polarity(x1_training, x2_training):\n",
        "        return operator * ((4 - 2.1 * x1_training ** 2 + 1 / 3 * x1_training ** 4) * x1_training ** 2 +\n",
        "                (x1_training * x2_training) + (-4 + 4 * x2_training ** 2) * x2_training ** 2)\n",
        "    "
      ]
    },
    {
      "cell_type": "code",
      "source": [
        "max_iter = dim * 10  # iterations of Bayesian optimisation\n",
        "Beta_CBM = dim\n"
      ],
      "metadata": {
        "id": "S9JivCxiYACE"
      },
      "execution_count": null,
      "outputs": []
    },
    {
      "cell_type": "code",
      "execution_count": null,
      "metadata": {
        "id": "hE7COdNcJLkl"
      },
      "outputs": [],
      "source": [
        "### Cumulative Regret Calculator:\n",
        "\n",
        "def min_max_array(x):\n",
        "    new_list = []\n",
        "    for i, num in enumerate(x):\n",
        "            new_list.append(np.min(x[0:i+1]))\n",
        "    return new_list\n"
      ]
    },
    {
      "cell_type": "code",
      "execution_count": null,
      "metadata": {
        "id": "gkY6wLl_JLkm"
      },
      "outputs": [],
      "source": [
        "### Set-seeds:\n",
        "\n",
        "run_num_1 = 1\n",
        "run_num_2 = 2\n",
        "run_num_3 = 3\n",
        "run_num_4 = 4\n",
        "run_num_5 = 5\n",
        "run_num_6 = 6\n",
        "run_num_7 = 7\n",
        "run_num_8 = 8\n",
        "run_num_9 = 9\n",
        "run_num_10 = 10\n",
        "run_num_11 = 11\n",
        "run_num_12 = 12\n",
        "run_num_13 = 13\n",
        "run_num_14 = 14\n",
        "run_num_15 = 15\n",
        "run_num_16 = 16\n",
        "run_num_17 = 17\n",
        "run_num_18 = 18\n",
        "run_num_19 = 19\n",
        "run_num_20 = 20\n"
      ]
    },
    {
      "cell_type": "code",
      "execution_count": null,
      "metadata": {
        "id": "Mh53nXeyJLko"
      },
      "outputs": [],
      "source": [
        "### Acquisition function - CBM:\n",
        "\n",
        "class Acquisition_new(Acquisition):    \n",
        "    def __init__(self, mode, eps=1e-06, **params):\n",
        "        \n",
        "        self.params = params\n",
        "        self.eps = eps\n",
        "\n",
        "        mode_dict = {\n",
        "            'CBMinimized': self.CBMinimized,\n",
        "            'tCBMinimized': self.tCBMinimized\n",
        "        }\n",
        "\n",
        "        self.f = mode_dict[mode]\n",
        "   \n",
        "    def CBMinimized(self, tau, mean, std):\n",
        "        \n",
        "        gamma = (mean - y_global_orig - self.eps) / (std + self.eps)\n",
        "        return (std + self.eps) * (gamma + np.sqrt(Beta_CBM))\n",
        "    \n",
        "    def tCBMinimized(self, tau, mean, std, nu=3.0):\n",
        "        \n",
        "        gamma = (mean - y_global_orig - self.eps) / (std + self.eps)\n",
        "        return (std + self.eps) * (gamma + np.sqrt(Beta_CBM))\n",
        "    "
      ]
    },
    {
      "cell_type": "code",
      "execution_count": null,
      "metadata": {
        "scrolled": false,
        "id": "Fio5AsW9JLkp",
        "colab": {
          "base_uri": "https://localhost:8080/"
        },
        "outputId": "305cb92c-1c16-429d-8841-1ee8de0f599e"
      },
      "outputs": [
        {
          "output_type": "stream",
          "name": "stdout",
          "text": [
            "Evaluation \t Proposed point \t  Current eval. \t Best eval.\n",
            "init   \t [-0.49786797  0.88129797]. \t  0.2650082867644827 \t 0.2650082867644827\n",
            "init   \t [-2.99931375 -0.79066971]. \t  -110.13991869176735 \t 0.2650082867644827\n",
            "init   \t [-2.11946466 -1.63064562]. \t  -26.90935479429681 \t 0.2650082867644827\n",
            "init   \t [-1.88243873 -0.61775709]. \t  -2.8558363102363344 \t 0.2650082867644827\n",
            "init   \t [-0.61939515  0.15526694]. \t  -1.0540522096005847 \t 0.2650082867644827\n",
            "1      \t [-1.18606725 -0.3273087 ]. \t  -2.404769641509784 \t 0.2650082867644827\n",
            "2      \t [-0.19390225  1.86395576]. \t  -34.17259786788394 \t 0.2650082867644827\n",
            "3      \t [-1.45382902  0.57603458]. \t  -0.49610500216623965 \t 0.2650082867644827\n",
            "4      \t [ 3. -2.]. \t  -150.89999999999998 \t 0.2650082867644827\n",
            "5      \t [3. 2.]. \t  -162.89999999999998 \t 0.2650082867644827\n",
            "6      \t [-3.  2.]. \t  -150.89999999999998 \t 0.2650082867644827\n",
            "7      \t [-0.72104263 -0.2153689 ]. \t  -1.5371867462879025 \t 0.2650082867644827\n",
            "8      \t [ 0.96661685 -0.09039899]. \t  -2.056174370016708 \t 0.2650082867644827\n",
            "9      \t [ 0.23837244 -2.        ]. \t  -47.74382173746247 \t 0.2650082867644827\n",
            "10     \t [-0.86548293  0.0842256 ]. \t  -1.8569767177728203 \t 0.2650082867644827\n",
            "11     \t [-0.86807761  0.08327139]. \t  -1.8645544420954034 \t 0.2650082867644827\n",
            "12     \t [1.8479506  0.01420162]. \t  -2.470160628042497 \t 0.2650082867644827\n",
            "13     \t [0.13300741 0.24295343]. \t  0.11974593203683676 \t 0.2650082867644827\n",
            "14     \t [0.1255354  0.24379757]. \t  0.13049632285195123 \t 0.2650082867644827\n",
            "15     \t [0.12011424 0.24425458]. \t  0.1377917366231813 \t 0.2650082867644827\n",
            "16     \t [0.11644614 0.24455659]. \t  0.1425925404620279 \t 0.2650082867644827\n",
            "17     \t [0.11388316 0.24477095]. \t  0.14589280883785863 \t 0.2650082867644827\n",
            "18     \t [0.11202481 0.24492955]. \t  0.14826015994085517 \t 0.2650082867644827\n",
            "19     \t [0.11063164 0.24505088]. \t  0.15002191505586274 \t 0.2650082867644827\n",
            "20     \t [0.10956051 0.24514531]. \t  0.15136839765327997 \t 0.2650082867644827\n"
          ]
        }
      ],
      "source": [
        "### Bayesian optimisation runs (x20): 'GP' Acquisition Function run number = 1\n",
        "\n",
        "np.random.seed(run_num_1)\n",
        "surrogate_gp_1 = GaussianProcess(cov_func, optimize=hyperOpt)\n",
        "\n",
        "gp_1 = GPGO(surrogate_gp_1, Acquisition_new(util_gp), f_syn_polarity, param, n_jobs = -1) # define BayesOpt\n",
        "gp_1.run(max_iter = max_iter, init_evals = n_init) # run\n"
      ]
    },
    {
      "cell_type": "code",
      "execution_count": null,
      "metadata": {
        "id": "6CLxOiUrJLks",
        "colab": {
          "base_uri": "https://localhost:8080/"
        },
        "outputId": "51db7578-4d07-4092-c0ac-08ef422ca5cc"
      },
      "outputs": [
        {
          "output_type": "stream",
          "name": "stdout",
          "text": [
            "Evaluation \t Proposed point \t  Current eval. \t Best eval.\n",
            "init   \t [-0.38403059 -1.89629507]. \t  -38.61280125654363 \t -0.011939608840498828\n",
            "init   \t [ 0.29797487 -0.25871043]. \t  -0.011939608840498828 \t -0.011939608840498828\n",
            "init   \t [-0.47779319 -0.67866072]. \t  -0.1381453419305213 \t -0.011939608840498828\n",
            "init   \t [-1.7721082   0.47708387]. \t  -0.626144759281101 \t -0.011939608840498828\n",
            "init   \t [-1.20207196 -0.9326909 ]. \t  -3.0693811601417798 \t -0.011939608840498828\n",
            "1      \t [-0.44944721  0.00412036]. \t  -0.7231481872880663 \t -0.011939608840498828\n",
            "2      \t [ 1.68995655 -0.11116565]. \t  -1.8233740408450951 \t -0.011939608840498828\n",
            "3      \t [3. 2.]. \t  -162.89999999999998 \t -0.011939608840498828\n",
            "4      \t [ 3. -2.]. \t  -150.89999999999998 \t -0.011939608840498828\n",
            "5      \t [0.14514429 2.        ]. \t  -48.3736271379614 \t -0.011939608840498828\n",
            "6      \t [-3.  2.]. \t  -150.89999999999998 \t -0.011939608840498828\n",
            "7      \t [-3. -2.]. \t  -162.89999999999998 \t -0.011939608840498828\n",
            "8      \t [-2.58394075 -0.00684498]. \t  -32.322873607067045 \t -0.011939608840498828\n",
            "9      \t [-0.85507049 -0.0304568 ]. \t  -1.954596608652322 \t -0.011939608840498828\n",
            "10     \t [-0.8359643  -0.04711201]. \t  -1.9140532056922364 \t -0.011939608840498828\n",
            "11     \t [-0.82359538 -0.05704651]. \t  -1.8850591353813997 \t -0.011939608840498828\n",
            "12     \t [-0.81517816 -0.06352577]. \t  -1.8642624101716208 \t -0.011939608840498828\n",
            "13     \t [-0.80921908 -0.06801641]. \t  -1.8490627705074065 \t -0.011939608840498828\n",
            "14     \t [-0.80486237 -0.0712715 ]. \t  -1.8377154334012038 \t -0.011939608840498828\n",
            "15     \t [ 0.75896266 -0.1938422 ]. \t  -1.3792471833320386 \t -0.011939608840498828\n",
            "16     \t [-0.80604503 -0.07299216]. \t  -1.8414354202812508 \t -0.011939608840498828\n",
            "17     \t [-0.80332321 -0.07493565]. \t  -1.8342152078501046 \t -0.011939608840498828\n",
            "18     \t [ 0.76181902 -0.19522532]. \t  -1.383929213504296 \t -0.011939608840498828\n",
            "19     \t [-0.80363032 -0.07605841]. \t  -1.8353117056680706 \t -0.011939608840498828\n",
            "20     \t [-0.80180962 -0.0773248 ]. \t  -1.8304256809448254 \t -0.011939608840498828\n"
          ]
        }
      ],
      "source": [
        "### Bayesian optimisation runs (x20): 'GP' Acquisition Function run number = 2\n",
        "\n",
        "np.random.seed(run_num_2)\n",
        "surrogate_gp_2 = GaussianProcess(cov_func, optimize=hyperOpt)\n",
        "\n",
        "gp_2 = GPGO(surrogate_gp_2, Acquisition_new(util_gp), f_syn_polarity, param, n_jobs = -1) # define BayesOpt\n",
        "gp_2.run(max_iter = max_iter, init_evals = n_init) # run\n"
      ]
    },
    {
      "cell_type": "code",
      "execution_count": null,
      "metadata": {
        "id": "OrboSzBtJLku",
        "colab": {
          "base_uri": "https://localhost:8080/"
        },
        "outputId": "73a513ba-47e0-458a-e7d2-9d25dfc0c691"
      },
      "outputs": [
        {
          "output_type": "stream",
          "name": "stdout",
          "text": [
            "Evaluation \t Proposed point \t  Current eval. \t Best eval.\n",
            "init   \t [0.30478742 0.83259129]. \t  0.2431922946563294 \t 0.2431922946563294\n",
            "init   \t [-1.25457157  0.04331042]. \t  -2.3313310458730996 \t 0.2431922946563294\n",
            "init   \t [2.35768173 1.58517236]. \t  -33.54152175045586 \t 0.2431922946563294\n",
            "init   \t [-2.24648814 -1.17102849]. \t  -14.214109412296352 \t 0.2431922946563294\n",
            "init   \t [-2.69119678 -0.23676063]. \t  -45.87579771712209 \t 0.2431922946563294\n",
            "1      \t [-0.17346463  0.09867866]. \t  -0.06277974406660532 \t 0.2431922946563294\n",
            "2      \t [-0.54021512  1.28385481]. \t  -4.577424687978009 \t 0.2431922946563294\n",
            "3      \t [ 0.22078898 -0.76717572]. \t  \u001b[92m0.947974062767222\u001b[0m \t 0.947974062767222\n",
            "4      \t [ 0.73242837 -1.3264808 ]. \t  -5.9672531281556225 \t 0.947974062767222\n",
            "5      \t [ 3. -2.]. \t  -150.89999999999998 \t 0.947974062767222\n",
            "6      \t [-0.08145492 -0.27308373]. \t  0.22736206210806317 \t 0.947974062767222\n",
            "7      \t [-0.07709592 -0.26027252]. \t  0.20884438216708082 \t 0.947974062767222\n",
            "8      \t [-0.07473401 -0.2524872 ]. \t  0.19759839301149912 \t 0.947974062767222\n",
            "9      \t [-0.07334925 -0.24747925]. \t  0.19036750458185497 \t 0.947974062767222\n",
            "10     \t [-0.07249223 -0.24411773]. \t  0.1855091481988158 \t 0.947974062767222\n",
            "11     \t [-0.07194071 -0.24178087]. \t  0.1821230632233533 \t 0.947974062767222\n",
            "12     \t [-0.07157455 -0.2401126 ]. \t  0.17969773959159058 \t 0.947974062767222\n",
            "13     \t [-0.07132579 -0.23889217]. \t  0.17791584131033233 \t 0.947974062767222\n",
            "14     \t [-0.07115384 -0.23797969]. \t  0.1765766784449453 \t 0.947974062767222\n",
            "15     \t [-0.07103327 -0.23728662]. \t  0.17555404565531574 \t 0.947974062767222\n",
            "16     \t [-0.07094781 -0.23675153]. \t  0.17475995216245088 \t 0.947974062767222\n",
            "17     \t [-0.070887   -0.23633188]. \t  0.17413317285349775 \t 0.947974062767222\n",
            "18     \t [-0.07084354 -0.23599937]. \t  0.17363336234902735 \t 0.947974062767222\n",
            "19     \t [-0.07081258 -0.23573235]. \t  0.17322923730586498 \t 0.947974062767222\n",
            "20     \t [-0.0707907  -0.23551564]. \t  0.1728989227776164 \t 0.947974062767222\n"
          ]
        }
      ],
      "source": [
        "### Bayesian optimisation runs (x20): 'GP' Acquisition Function run number = 3\n",
        "\n",
        "np.random.seed(run_num_3)\n",
        "surrogate_gp_3 = GaussianProcess(cov_func, optimize=hyperOpt)\n",
        "\n",
        "gp_3 = GPGO(surrogate_gp_3, Acquisition_new(util_gp), f_syn_polarity, param, n_jobs = -1) # define BayesOpt\n",
        "gp_3.run(max_iter = max_iter, init_evals = n_init) # run\n"
      ]
    },
    {
      "cell_type": "code",
      "execution_count": null,
      "metadata": {
        "id": "wmlwMmKcJLkv",
        "colab": {
          "base_uri": "https://localhost:8080/"
        },
        "outputId": "a4d8508a-6417-4bb1-9ecc-f613571667f7"
      },
      "outputs": [
        {
          "output_type": "stream",
          "name": "stdout",
          "text": [
            "Evaluation \t Proposed point \t  Current eval. \t Best eval.\n",
            "init   \t [2.80217903 0.188929  ]. \t  -63.70212732873661 \t -2.3196402150601703\n",
            "init   \t [2.83610616 0.85926397]. \t  -71.43837110827245 \t -2.3196402150601703\n",
            "init   \t [ 1.18637295 -1.13564202]. \t  -2.5463267765341566 \t -2.3196402150601703\n",
            "init   \t [ 2.85764673 -1.97507898]. \t  -113.76785286351424 \t -2.3196402150601703\n",
            "init   \t [-1.48210583 -0.26083387]. \t  -2.3196402150601703 \t -2.3196402150601703\n",
            "1      \t [ 0.11144488 -1.1061956 ]. \t  \u001b[92m-1.0208623073829652\u001b[0m \t -1.0208623073829652\n",
            "2      \t [-3.  2.]. \t  -150.89999999999998 \t -1.0208623073829652\n",
            "3      \t [ 0.12887659 -0.95580265]. \t  \u001b[92m0.37319847141969054\u001b[0m \t 0.37319847141969054\n",
            "4      \t [-3. -2.]. \t  -162.89999999999998 \t 0.37319847141969054\n",
            "5      \t [-0.25741374 -0.09920891]. \t  -0.2424795762369777 \t 0.37319847141969054\n",
            "6      \t [ 0.12541996 -0.75375479]. \t  \u001b[92m1.0135578907009792\u001b[0m \t 1.0135578907009792\n",
            "7      \t [ 0.12484183 -0.75131864]. \t  \u001b[92m1.015332380008955\u001b[0m \t 1.015332380008955\n",
            "8      \t [ 0.12454054 -0.7500585 ]. \t  \u001b[92m1.0162063520899804\u001b[0m \t 1.0162063520899804\n",
            "9      \t [ 0.12436691 -0.74933683]. \t  \u001b[92m1.0166935472472995\u001b[0m \t 1.0166935472472995\n",
            "10     \t [ 0.12425983 -0.74889403]. \t  \u001b[92m1.0169877281239317\u001b[0m \t 1.0169877281239317\n",
            "11     \t [ 0.12419057 -0.74860869]. \t  \u001b[92m1.0171753966377661\u001b[0m \t 1.0171753966377661\n",
            "12     \t [ 0.1241441  -0.74841797]. \t  \u001b[92m1.0173000145609372\u001b[0m \t 1.0173000145609372\n",
            "13     \t [ 0.12411213 -0.74828701]. \t  \u001b[92m1.0173851998558243\u001b[0m \t 1.0173851998558243\n",
            "14     \t [ 0.12408971 -0.74819535]. \t  \u001b[92m1.0174446443277492\u001b[0m \t 1.0174446443277492\n",
            "15     \t [ 0.12407376 -0.74813028]. \t  \u001b[92m1.0174867534732566\u001b[0m \t 1.0174867534732566\n",
            "16     \t [ 0.12406232 -0.74808369]. \t  \u001b[92m1.0175168625650324\u001b[0m \t 1.0175168625650324\n",
            "17     \t [ 0.1240541  -0.74805022]. \t  \u001b[92m1.0175384621993784\u001b[0m \t 1.0175384621993784\n",
            "18     \t [ 0.12404819 -0.74802622]. \t  \u001b[92m1.017553945062688\u001b[0m \t 1.017553945062688\n",
            "19     \t [ 0.12404401 -0.74800922]. \t  \u001b[92m1.0175649022787063\u001b[0m \t 1.0175649022787063\n",
            "20     \t [ 0.12404107 -0.74799735]. \t  \u001b[92m1.017572556377307\u001b[0m \t 1.017572556377307\n"
          ]
        }
      ],
      "source": [
        "### Bayesian optimisation runs (x20): 'GP' Acquisition Function run number = 4\n",
        "\n",
        "np.random.seed(run_num_4)\n",
        "surrogate_gp_4 = GaussianProcess(cov_func, optimize=hyperOpt)\n",
        "\n",
        "gp_4 = GPGO(surrogate_gp_4, Acquisition_new(util_gp), f_syn_polarity, param, n_jobs = -1) # define BayesOpt\n",
        "gp_4.run(max_iter = max_iter, init_evals = n_init) # run\n"
      ]
    },
    {
      "cell_type": "code",
      "execution_count": null,
      "metadata": {
        "id": "ntlcfbyWJLkw",
        "colab": {
          "base_uri": "https://localhost:8080/"
        },
        "outputId": "b32b2c65-c98e-4381-b6d4-2ced00c6b355"
      },
      "outputs": [
        {
          "output_type": "stream",
          "name": "stdout",
          "text": [
            "Evaluation \t Proposed point \t  Current eval. \t Best eval.\n",
            "init   \t [-1.66804097  1.48292922]. \t  -10.126030408244933 \t 0.6512780061070701\n",
            "init   \t [-1.75968507  1.67444363]. \t  -19.4300499315822 \t 0.6512780061070701\n",
            "init   \t [-0.06953287  0.44697545]. \t  0.6512780061070701 \t 0.6512780061070701\n",
            "init   \t [1.59544714 0.07367195]. \t  -2.168775388880503 \t 0.6512780061070701\n",
            "init   \t [-1.21919699 -1.24911509]. \t  -7.420330936884148 \t 0.6512780061070701\n",
            "1      \t [0.46777812 1.31550144]. \t  -6.450525986688405 \t 0.6512780061070701\n",
            "2      \t [ 3. -2.]. \t  -150.89999999999998 \t 0.6512780061070701\n",
            "3      \t [3. 2.]. \t  -162.89999999999998 \t 0.6512780061070701\n",
            "4      \t [ 0.46969221 -0.23056566]. \t  -0.47418410664583643 \t 0.6512780061070701\n",
            "5      \t [-3. -2.]. \t  -162.89999999999998 \t 0.6512780061070701\n",
            "6      \t [-0.11716855 -0.49038885]. \t  0.6186229186847629 \t 0.6512780061070701\n",
            "7      \t [-0.10846483 -0.47412968]. \t  0.5988627709529413 \t 0.6512780061070701\n",
            "8      \t [-0.10207363 -0.4627947 ]. \t  0.5845376226709766 \t 0.6512780061070701\n",
            "9      \t [-0.09722219 -0.45507721]. \t  0.5749623848364217 \t 0.6512780061070701\n",
            "10     \t [-0.0934783  -0.44968178]. \t  0.568465137676132 \t 0.6512780061070701\n",
            "11     \t [-0.09055341 -0.44578718]. \t  0.5639102071719041 \t 0.6512780061070701\n",
            "12     \t [-0.08824092 -0.44289533]. \t  0.560615781191901 \t 0.6512780061070701\n",
            "13     \t [-0.08639277 -0.44068822]. \t  0.5581501104090174 \t 0.6512780061070701\n",
            "14     \t [-0.08489868 -0.43896955]. \t  0.5562626342216114 \t 0.6512780061070701\n",
            "15     \t [-0.08367814 -0.43760578]. \t  0.5547847781827173 \t 0.6512780061070701\n",
            "16     \t [-0.08267169 -0.43650472]. \t  0.5536020205400801 \t 0.6512780061070701\n",
            "17     \t [-0.08183386 -0.43560378]. \t  0.5526411867345453 \t 0.6512780061070701\n",
            "18     \t [-0.08113097 -0.43485617]. \t  0.5518461324222906 \t 0.6512780061070701\n",
            "19     \t [-0.0805354  -0.43423239]. \t  0.5511883172593507 \t 0.6512780061070701\n",
            "20     \t [-0.0800283  -0.43370341]. \t  0.5506295633497957 \t 0.6512780061070701\n"
          ]
        }
      ],
      "source": [
        "### Bayesian optimisation runs (x20): 'GP' Acquisition Function run number = 5\n",
        "\n",
        "np.random.seed(run_num_5)\n",
        "surrogate_gp_5 = GaussianProcess(cov_func, optimize=hyperOpt)\n",
        "\n",
        "gp_5 = GPGO(surrogate_gp_5, Acquisition_new(util_gp), f_syn_polarity, param, n_jobs = -1) # define BayesOpt\n",
        "gp_5.run(max_iter = max_iter, init_evals = n_init) # run\n"
      ]
    },
    {
      "cell_type": "code",
      "execution_count": null,
      "metadata": {
        "id": "HHrK2qnsJLkx",
        "colab": {
          "base_uri": "https://localhost:8080/"
        },
        "outputId": "568a089a-1668-4a85-8d66-2b087da3538d"
      },
      "outputs": [
        {
          "output_type": "stream",
          "name": "stdout",
          "text": [
            "Evaluation \t Proposed point \t  Current eval. \t Best eval.\n",
            "init   \t [ 2.35716091 -0.67208078]. \t  -11.995980169715628 \t 0.3096187466378422\n",
            "init   \t [ 1.92737474 -1.8332135 ]. \t  -31.167927894156623 \t 0.3096187466378422\n",
            "init   \t [-2.35405992  0.38020826]. \t  -13.013381745677465 \t 0.3096187466378422\n",
            "init   \t [ 0.17890417 -0.32477029]. \t  0.3096187466378422 \t 0.3096187466378422\n",
            "init   \t [-0.9875529   0.49007773]. \t  -0.9989196280666852 \t 0.3096187466378422\n",
            "1      \t [0.26547564 1.08519589]. \t  -1.396526938577464 \t 0.3096187466378422\n",
            "2      \t [3. 2.]. \t  -162.89999999999998 \t 0.3096187466378422\n",
            "3      \t [-1.21989017 -2.        ]. \t  -52.84028867575878 \t 0.3096187466378422\n",
            "4      \t [-0.03743061  0.52283246]. \t  \u001b[92m0.8084958211044883\u001b[0m \t 0.8084958211044883\n",
            "5      \t [-0.03761388  0.52298568]. \t  \u001b[92m0.8088329092081911\u001b[0m \t 0.8088329092081911\n",
            "6      \t [-0.03777752  0.52312337]. \t  \u001b[92m0.8091353250918156\u001b[0m \t 0.8091353250918156\n",
            "7      \t [-0.03790554  0.52323139]. \t  \u001b[92m0.809372303351211\u001b[0m \t 0.809372303351211\n",
            "8      \t [-0.03800504  0.52331539]. \t  \u001b[92m0.8095564501029429\u001b[0m \t 0.8095564501029429\n",
            "9      \t [-0.03808344  0.52338153]. \t  \u001b[92m0.809701399052433\u001b[0m \t 0.809701399052433\n",
            "10     \t [-0.03814635  0.52343443]. \t  \u001b[92m0.8098173434609512\u001b[0m \t 0.8098173434609512\n",
            "11     \t [-0.03819765  0.52347752]. \t  \u001b[92m0.8099117427590048\u001b[0m \t 0.8099117427590048\n",
            "12     \t [-0.03824015  0.52351311]. \t  \u001b[92m0.8099897443894037\u001b[0m \t 0.8099897443894037\n",
            "13     \t [-0.03827584  0.5235429 ]. \t  \u001b[92m0.810055024683283\u001b[0m \t 0.810055024683283\n",
            "14     \t [-0.03830622  0.5235682 ]. \t  \u001b[92m0.8101104843476455\u001b[0m \t 0.8101104843476455\n",
            "15     \t [-0.0383323   0.52358981]. \t  \u001b[92m0.810157884793797\u001b[0m \t 0.810157884793797\n",
            "16     \t [-0.0383549   0.52360853]. \t  \u001b[92m0.8101989278639277\u001b[0m \t 0.8101989278639277\n",
            "17     \t [-0.03837469  0.52362482]. \t  \u001b[92m0.8102346672244192\u001b[0m \t 0.8102346672244192\n",
            "18     \t [-0.03839211  0.52363917]. \t  \u001b[92m0.8102661509728392\u001b[0m \t 0.8102661509728392\n",
            "19     \t [-0.03840756  0.52365183]. \t  \u001b[92m0.8102939432504427\u001b[0m \t 0.8102939432504427\n",
            "20     \t [-0.03842134  0.52366309]. \t  \u001b[92m0.8103186543297236\u001b[0m \t 0.8103186543297236\n"
          ]
        }
      ],
      "source": [
        "### Bayesian optimisation runs (x20): 'GP' Acquisition Function run number = 6\n",
        "\n",
        "np.random.seed(run_num_6)\n",
        "surrogate_gp_6 = GaussianProcess(cov_func, optimize=hyperOpt)\n",
        "\n",
        "gp_6 = GPGO(surrogate_gp_6, Acquisition_new(util_gp), f_syn_polarity, param, n_jobs = -1) # define BayesOpt\n",
        "gp_6.run(max_iter = max_iter, init_evals = n_init) # run\n"
      ]
    },
    {
      "cell_type": "code",
      "execution_count": null,
      "metadata": {
        "id": "rht2Y9u8JLky",
        "colab": {
          "base_uri": "https://localhost:8080/"
        },
        "outputId": "5d776a4c-d049-4273-c8f2-07e4b65e0028"
      },
      "outputs": [
        {
          "output_type": "stream",
          "name": "stdout",
          "text": [
            "Evaluation \t Proposed point \t  Current eval. \t Best eval.\n",
            "init   \t [-2.54215026  1.11967517]. \t  -26.53843863832488 \t 0.46481072558790276\n",
            "init   \t [-0.36954461  0.89386071]. \t  0.46481072558790276 \t 0.46481072558790276\n",
            "init   \t [2.86793707 0.15398348]. \t  -76.66051064695093 \t 0.46481072558790276\n",
            "init   \t [ 0.00672278 -1.71179547]. \t  -22.613010892757885 \t 0.46481072558790276\n",
            "init   \t [-1.38936612e+00 -4.69996698e-04]. \t  -2.294585534557751 \t 0.46481072558790276\n",
            "1      \t [0.18555597 1.87792635]. \t  -36.12511705797982 \t 0.46481072558790276\n",
            "2      \t [ 2.08143936 -0.31498517]. \t  -4.006029431355211 \t 0.46481072558790276\n",
            "3      \t [ 1.18351027 -0.35588359]. \t  -1.5350817087151063 \t 0.46481072558790276\n",
            "4      \t [-0.23930857  0.40917394]. \t  0.43324020108680306 \t 0.46481072558790276\n",
            "5      \t [-0.74723683  0.76986782]. \t  -0.09586009912257665 \t 0.46481072558790276\n",
            "6      \t [0.2606602 0.3546294]. \t  0.08516077567540109 \t 0.46481072558790276\n",
            "7      \t [-3. -2.]. \t  -162.89999999999998 \t 0.46481072558790276\n",
            "8      \t [ 0.42123929 -1.50062393]. \t  -11.289615085131825 \t 0.46481072558790276\n",
            "9      \t [ 2.11185773 -1.54186611]. \t  -15.48111156809605 \t 0.46481072558790276\n",
            "10     \t [2.18402925 2.        ]. \t  -59.843970491420066 \t 0.46481072558790276\n",
            "11     \t [-0.42626671  0.1459585 ]. \t  -0.5138617775822854 \t 0.46481072558790276\n",
            "12     \t [-0.42988359  0.1615462 ]. \t  -0.49847569969945627 \t 0.46481072558790276\n",
            "13     \t [-0.43209378  0.17096252]. \t  -0.4884187271051926 \t 0.46481072558790276\n",
            "14     \t [-0.43348995  0.17720978]. \t  -0.481224620322042 \t 0.46481072558790276\n",
            "15     \t [-0.43439951  0.18162415]. \t  -0.4757789618986828 \t 0.46481072558790276\n",
            "16     \t [-0.43500706  0.18488934]. \t  -0.47149531621898466 \t 0.46481072558790276\n",
            "17     \t [-0.43542074  0.18739029]. \t  -0.4680305285585852 \t 0.46481072558790276\n",
            "18     \t [-0.43570619  0.18935941]. \t  -0.4651676995610725 \t 0.46481072558790276\n",
            "19     \t [-0.4359047   0.19094485]. \t  -0.46276193450447856 \t 0.46481072558790276\n",
            "20     \t [-0.43604317  0.19224529]. \t  -0.4607124556770274 \t 0.46481072558790276\n"
          ]
        }
      ],
      "source": [
        "### Bayesian optimisation runs (x20): 'GP' Acquisition Function run number = 7\n",
        "\n",
        "np.random.seed(run_num_7)\n",
        "surrogate_gp_7 = GaussianProcess(cov_func, optimize=hyperOpt)\n",
        "\n",
        "gp_7 = GPGO(surrogate_gp_7, Acquisition_new(util_gp), f_syn_polarity, param, n_jobs = -1) # define BayesOpt\n",
        "gp_7.run(max_iter = max_iter, init_evals = n_init) # run\n"
      ]
    },
    {
      "cell_type": "code",
      "execution_count": null,
      "metadata": {
        "id": "vHGwZn0qJLkz",
        "colab": {
          "base_uri": "https://localhost:8080/"
        },
        "outputId": "f10e2885-0451-47c1-8bb1-406db74a3308"
      },
      "outputs": [
        {
          "output_type": "stream",
          "name": "stdout",
          "text": [
            "Evaluation \t Proposed point \t  Current eval. \t Best eval.\n",
            "init   \t [2.24057642 1.87416265]. \t  -48.82879577505094 \t -0.03190064766213015\n",
            "init   \t [2.21516724 0.12342277]. \t  -8.660623551418242 \t -0.03190064766213015\n",
            "init   \t [-1.60363003 -1.95440478]. \t  -48.28332373939171 \t -0.03190064766213015\n",
            "init   \t [-0.41718709 -0.39059456]. \t  -0.2801229037700297 \t -0.03190064766213015\n",
            "init   \t [ 0.13604803 -0.08643282]. \t  -0.03190064766213015 \t -0.03190064766213015\n",
            "1      \t [-0.89741432  0.97165939]. \t  -0.9504768856061024 \t -0.03190064766213015\n",
            "2      \t [-3.  2.]. \t  -150.89999999999998 \t -0.03190064766213015\n",
            "3      \t [-0.28587995  0.47958084]. \t  \u001b[92m0.532433066644704\u001b[0m \t 0.532433066644704\n",
            "4      \t [-0.29023518  0.46026488]. \t  0.47920504935704505 \t 0.532433066644704\n",
            "5      \t [-0.29231773  0.44859022]. \t  0.4474112934761624 \t 0.532433066644704\n",
            "6      \t [ 3. -2.]. \t  -150.89999999999998 \t 0.532433066644704\n",
            "7      \t [-0.27685895  0.43656729]. \t  0.44351647531388166 \t 0.532433066644704\n",
            "8      \t [-0.2782996   0.43086895]. \t  0.4272816061729402 \t 0.532433066644704\n",
            "9      \t [-0.27926524  0.42673589]. \t  0.4155982245705385 \t 0.532433066644704\n",
            "10     \t [-0.27994331  0.42364737]. \t  0.4069213721835685 \t 0.532433066644704\n",
            "11     \t [-0.28043736  0.4212837 ]. \t  0.40031298986740754 \t 0.532433066644704\n",
            "12     \t [-0.28080954  0.41943846]. \t  0.3951715538088867 \t 0.532433066644704\n",
            "13     \t [-0.28109774  0.41797359]. \t  0.39109924916231437 \t 0.532433066644704\n",
            "14     \t [-0.28132612  0.41679394]. \t  0.3878243811923023 \t 0.532433066644704\n",
            "15     \t [-0.2815111   0.41583187]. \t  0.3851546829435422 \t 0.532433066644704\n",
            "16     \t [-0.28166347  0.4150385 ]. \t  0.38295275876087137 \t 0.532433066644704\n",
            "17     \t [-0.28179105  0.41437776]. \t  0.38111737561476017 \t 0.532433066644704\n",
            "18     \t [-0.28189869  0.41382274]. \t  0.3795745912624695 \t 0.532433066644704\n",
            "19     \t [-0.2819906   0.41335279]. \t  0.37826680837667626 \t 0.532433066644704\n",
            "20     \t [-0.28207056  0.41295181]. \t  0.37714824508548966 \t 0.532433066644704\n"
          ]
        }
      ],
      "source": [
        "### Bayesian optimisation runs (x20): 'GP' Acquisition Function run number = 8\n",
        "\n",
        "np.random.seed(run_num_8)\n",
        "surrogate_gp_8 = GaussianProcess(cov_func, optimize=hyperOpt)\n",
        "\n",
        "gp_8 = GPGO(surrogate_gp_8, Acquisition_new(util_gp), f_syn_polarity, param, n_jobs = -1) # define BayesOpt\n",
        "gp_8.run(max_iter = max_iter, init_evals = n_init) # run\n"
      ]
    },
    {
      "cell_type": "code",
      "execution_count": null,
      "metadata": {
        "id": "YC6sxKgkJLkz",
        "colab": {
          "base_uri": "https://localhost:8080/"
        },
        "outputId": "2f3c8340-8c34-477c-b0ea-8d80d9c0e7e2"
      },
      "outputs": [
        {
          "output_type": "stream",
          "name": "stdout",
          "text": [
            "Evaluation \t Proposed point \t  Current eval. \t Best eval.\n",
            "init   \t [-2.93775508  0.00749837]. \t  -92.35857237145763 \t -1.395407492769129\n",
            "init   \t [-0.02536024 -1.46468188]. \t  -9.867672894921913 \t -1.395407492769129\n",
            "init   \t [-2.14733349 -1.1257653 ]. \t  -10.24680089963123 \t -1.395407492769129\n",
            "init   \t [-0.48895092 -1.00759533]. \t  -1.395407492769129 \t -1.395407492769129\n",
            "init   \t [-2.49564209 -0.61800544]. \t  -24.58298635463645 \t -1.395407492769129\n",
            "1      \t [0.20133799 1.296373  ]. \t  -4.994832878543982 \t -1.395407492769129\n",
            "2      \t [ 3.         -0.22193136]. \t  -108.0468954496358 \t -1.395407492769129\n",
            "3      \t [-1.4552703  2.       ]. \t  -47.308158509774486 \t -1.395407492769129\n",
            "4      \t [-1.57104463 -2.        ]. \t  -53.23377152282754 \t -1.395407492769129\n",
            "5      \t [1.96940236 2.        ]. \t  -55.31091413266807 \t -1.395407492769129\n",
            "6      \t [-0.01096045 -0.13739337]. \t  \u001b[92m0.07209601112801986\u001b[0m \t 0.07209601112801986\n",
            "7      \t [-0.01111524 -0.13777975]. \t  \u001b[92m0.0724659660957298\u001b[0m \t 0.0724659660957298\n",
            "8      \t [-0.01134095 -0.13834553]. \t  \u001b[92m0.07300925507275527\u001b[0m \t 0.07300925507275527\n",
            "9      \t [-0.01151286 -0.13877781]. \t  \u001b[92m0.07342557105524766\u001b[0m \t 0.07342557105524766\n",
            "10     \t [-0.0116406  -0.13909976]. \t  \u001b[92m0.0737362960835518\u001b[0m \t 0.0737362960835518\n",
            "11     \t [-0.01173768 -0.13934467]. \t  \u001b[92m0.07397304644683064\u001b[0m \t 0.07397304644683064\n",
            "12     \t [-0.01181342 -0.13953588]. \t  \u001b[92m0.07415809618358123\u001b[0m \t 0.07415809618358123\n",
            "13     \t [-0.01187392 -0.13968871]. \t  \u001b[92m0.07430615600884655\u001b[0m \t 0.07430615600884655\n",
            "14     \t [-0.01192326 -0.13981336]. \t  \u001b[92m0.07442699271700746\u001b[0m \t 0.07442699271700746\n",
            "15     \t [-0.0119642  -0.13991685]. \t  \u001b[92m0.07452738702384601\u001b[0m \t 0.07452738702384601\n",
            "16     \t [-0.0119987  -0.14000404]. \t  \u001b[92m0.07461201306397958\u001b[0m \t 0.07461201306397958\n",
            "17     \t [-0.01202816 -0.14007841]. \t  \u001b[92m0.07468421290809323\u001b[0m \t 0.07468421290809323\n",
            "18     \t [-0.01205356 -0.1401426 ]. \t  \u001b[92m0.07474655766626088\u001b[0m \t 0.07474655766626088\n",
            "19     \t [-0.01207568 -0.14019851]. \t  \u001b[92m0.07480087907213652\u001b[0m \t 0.07480087907213652\n",
            "20     \t [-0.01209513 -0.14024761]. \t  \u001b[92m0.07484859360894625\u001b[0m \t 0.07484859360894625\n"
          ]
        }
      ],
      "source": [
        "### Bayesian optimisation runs (x20): 'GP' Acquisition Function run number = 9\n",
        "\n",
        "np.random.seed(run_num_9)\n",
        "surrogate_gp_9 = GaussianProcess(cov_func, optimize=hyperOpt)\n",
        "\n",
        "gp_9 = GPGO(surrogate_gp_9, Acquisition_new(util_gp), f_syn_polarity, param, n_jobs = -1) # define BayesOpt\n",
        "gp_9.run(max_iter = max_iter, init_evals = n_init) # run\n"
      ]
    },
    {
      "cell_type": "code",
      "execution_count": null,
      "metadata": {
        "id": "P-0wfCEIJLk0",
        "colab": {
          "base_uri": "https://localhost:8080/"
        },
        "outputId": "d53ba33b-b758-4778-ceb4-37348bb2e119"
      },
      "outputs": [
        {
          "output_type": "stream",
          "name": "stdout",
          "text": [
            "Evaluation \t Proposed point \t  Current eval. \t Best eval.\n",
            "init   \t [ 1.62792386 -1.9169922 ]. \t  -38.25414770674631 \t -0.7775687473184012\n",
            "init   \t [0.80188941 0.99521553]. \t  -2.552651714051803 \t -0.7775687473184012\n",
            "init   \t [-0.00895793 -1.10081342]. \t  -1.0367630165263393 \t -0.7775687473184012\n",
            "init   \t [-1.81162281  1.04212285]. \t  -0.7775687473184012 \t -0.7775687473184012\n",
            "init   \t [-1.98533498 -1.64664074]. \t  -25.383481436170044 \t -0.7775687473184012\n",
            "1      \t [3. 2.]. \t  -162.89999999999998 \t -0.7775687473184012\n",
            "2      \t [-3.  2.]. \t  -150.89999999999998 \t -0.7775687473184012\n",
            "3      \t [-0.95671994  0.35689018]. \t  -1.371458977688845 \t -0.7775687473184012\n",
            "4      \t [ 3.         -0.31755083]. \t  -107.58466702448946 \t -0.7775687473184012\n",
            "5      \t [-0.55328192  0.89127784]. \t  \u001b[92m0.10924381470195776\u001b[0m \t 0.10924381470195776\n",
            "6      \t [-0.6613366   0.75964434]. \t  0.1029828698932499 \t 0.10924381470195776\n",
            "7      \t [-0.70068087  0.71953981]. \t  0.005823396679670911 \t 0.10924381470195776\n",
            "8      \t [-0.71702821  0.70494418]. \t  -0.04129893855818245 \t 0.10924381470195776\n",
            "9      \t [-0.72373687  0.70008969]. \t  -0.060633895604899846 \t 0.10924381470195776\n",
            "10     \t [-0.72649859  0.69884639]. \t  -0.06803630444477982 \t 0.10924381470195776\n",
            "11     \t [-0.72772398  0.69878853]. \t  -0.07089871955852889 \t 0.10924381470195776\n",
            "12     \t [-0.32545827  1.20232851]. \t  -2.5858102513037706 \t 0.10924381470195776\n",
            "13     \t [-0.95277383  0.45372985]. \t  -1.0636849442903054 \t 0.10924381470195776\n",
            "14     \t [-0.90113876  0.50800921]. \t  -0.8182310212448904 \t 0.10924381470195776\n",
            "15     \t [-0.86974243  0.5414675 ]. \t  -0.6685813133359823 \t 0.10924381470195776\n",
            "16     \t [-0.84946509  0.56329887]. \t  -0.5731562346828718 \t 0.10924381470195776\n",
            "17     \t [-0.83573754  0.5782147 ]. \t  -0.5094862032004683 \t 0.10924381470195776\n",
            "18     \t [-0.82609068  0.58879142]. \t  -0.46529785142065627 \t 0.10924381470195776\n",
            "19     \t [-0.81910361  0.59652275]. \t  -0.4335999132363294 \t 0.10924381470195776\n",
            "20     \t [-0.81391532  0.60231887]. \t  -0.41022462598903564 \t 0.10924381470195776\n"
          ]
        }
      ],
      "source": [
        "### Bayesian optimisation runs (x20): 'GP' Acquisition Function run number = 10\n",
        "\n",
        "np.random.seed(run_num_10)\n",
        "surrogate_gp_10 = GaussianProcess(cov_func, optimize=hyperOpt)\n",
        "\n",
        "gp_10 = GPGO(surrogate_gp_10, Acquisition_new(util_gp), f_syn_polarity, param, n_jobs = -1) # define BayesOpt\n",
        "gp_10.run(max_iter = max_iter, init_evals = n_init) # run\n"
      ]
    },
    {
      "cell_type": "code",
      "execution_count": null,
      "metadata": {
        "id": "Z6wmPCIEJLk2",
        "colab": {
          "base_uri": "https://localhost:8080/"
        },
        "outputId": "f5bbfbdf-618d-400b-fbff-533ea09a3d20"
      },
      "outputs": [
        {
          "output_type": "stream",
          "name": "stdout",
          "text": [
            "Evaluation \t Proposed point \t  Current eval. \t Best eval.\n",
            "init   \t [-1.91838187 -1.92209903]. \t  -46.39910375151002 \t 0.6254688257880329\n",
            "init   \t [-0.22068884  0.89973572]. \t  0.6254688257880329 \t 0.6254688257880329\n",
            "init   \t [-0.47877837 -0.05829161]. \t  -0.8249470187639529 \t 0.6254688257880329\n",
            "init   \t [-2.92331511 -0.05051357]. \t  -88.99028404075307 \t 0.6254688257880329\n",
            "init   \t [2.65083991 1.40318036]. \t  -51.423425402262914 \t 0.6254688257880329\n",
            "1      \t [ 1.79082146 -2.        ]. \t  -46.642711604435775 \t 0.6254688257880329\n",
            "2      \t [-0.42252304  2.        ]. \t  -47.80402341329248 \t 0.6254688257880329\n",
            "3      \t [ 0.10293828 -0.00751532]. \t  -0.04115024020734061 \t 0.6254688257880329\n",
            "4      \t [ 0.08701192 -0.00331992]. \t  -0.029831106311053977 \t 0.6254688257880329\n",
            "5      \t [ 0.07933151 -0.00120372]. \t  -0.024989574425760407 \t 0.6254688257880329\n",
            "6      \t [7.48406535e-02 7.58935483e-05]. \t  -0.022344326680967294 \t 0.6254688257880329\n",
            "7      \t [0.07191257 0.00093302]. \t  -0.020693171095923595 \t 0.6254688257880329\n",
            "8      \t [0.06986276 0.00154673]. \t  -0.019571721301035214 \t 0.6254688257880329\n",
            "9      \t [0.06835367 0.00200738]. \t  -0.018764183502356164 \t 0.6254688257880329\n",
            "10     \t [0.06719998 0.00236559]. \t  -0.018157138742494805 \t 0.6254688257880329\n",
            "11     \t [0.06629177 0.00265187]. \t  -0.017685535819098666 \t 0.6254688257880329\n",
            "12     \t [0.06555984 0.00288574]. \t  -0.017309482286625922 \t 0.6254688257880329\n",
            "13     \t [0.0649585  0.00308029]. \t  -0.017003201233000708 \t 0.6254688257880329\n",
            "14     \t [0.06445647 0.00324456]. \t  -0.016749344594731753 \t 0.6254688257880329\n",
            "15     \t [0.06403156 0.00338503]. \t  -0.016535800655933394 \t 0.6254688257880329\n",
            "16     \t [0.06366776 0.00350653]. \t  -0.01635392176857226 \t 0.6254688257880329\n",
            "17     \t [0.06335303 0.00361252]. \t  -0.016197283631531653 \t 0.6254688257880329\n",
            "18     \t [0.06307837 0.00370585]. \t  -0.01606112627556395 \t 0.6254688257880329\n",
            "19     \t [0.06283676 0.00378857]. \t  -0.01594176209870173 \t 0.6254688257880329\n",
            "20     \t [0.06262274 0.00386241]. \t  -0.015836355351381812 \t 0.6254688257880329\n"
          ]
        }
      ],
      "source": [
        "### Bayesian optimisation runs (x20): 'GP' Acquisition Function run number = 11\n",
        "\n",
        "np.random.seed(run_num_11)\n",
        "surrogate_gp_11 = GaussianProcess(cov_func, optimize=hyperOpt)\n",
        "\n",
        "gp_11 = GPGO(surrogate_gp_11, Acquisition_new(util_gp), f_syn_polarity, param, n_jobs = -1) # define BayesOpt\n",
        "gp_11.run(max_iter = max_iter, init_evals = n_init) # run\n"
      ]
    },
    {
      "cell_type": "code",
      "execution_count": null,
      "metadata": {
        "id": "oNR6-n7iJLk3",
        "colab": {
          "base_uri": "https://localhost:8080/"
        },
        "outputId": "6dbd7637-0047-423c-ecc9-27d25863ea1d"
      },
      "outputs": [
        {
          "output_type": "stream",
          "name": "stdout",
          "text": [
            "Evaluation \t Proposed point \t  Current eval. \t Best eval.\n",
            "init   \t [-2.07502295  0.96019879]. \t  -2.6185857163917037 \t -1.9967735906956543\n",
            "init   \t [-1.42010991  0.13495757]. \t  -1.9967735906956543 \t -1.9967735906956543\n",
            "init   \t [-2.91255023  1.67498803]. \t  -101.67816714332157 \t -1.9967735906956543\n",
            "init   \t [ 2.40428912 -1.86631429]. \t  -47.44624883788006 \t -1.9967735906956543\n",
            "init   \t [ 2.74169602 -1.45116271]. \t  -58.32400185681089 \t -1.9967735906956543\n",
            "1      \t [-1.2062087   0.96371622]. \t  \u001b[92m-0.9738640501973125\u001b[0m \t -0.9738640501973125\n",
            "2      \t [1.92325521 2.        ]. \t  -54.779503428893634 \t -0.9738640501973125\n",
            "3      \t [-3. -2.]. \t  -162.89999999999998 \t -0.9738640501973125\n",
            "4      \t [-0.16313528 -2.        ]. \t  -48.43124196345596 \t -0.9738640501973125\n",
            "5      \t [0.48803407 0.21185729]. \t  \u001b[92m-0.7700008268087881\u001b[0m \t -0.7700008268087881\n",
            "6      \t [-0.44862515  2.        ]. \t  -47.82545980910767 \t -0.7700008268087881\n",
            "7      \t [-1.13910487  0.24949529]. \t  -1.8650736354426944 \t -0.7700008268087881\n",
            "8      \t [-1.67873886  0.4956807 ]. \t  \u001b[92m-0.48157625161360496\u001b[0m \t -0.48157625161360496\n",
            "9      \t [-1.20085175  0.26548888]. \t  -1.819939591781103 \t -0.48157625161360496\n",
            "10     \t [-1.21455172  0.27174785]. \t  -1.797241219734816 \t -0.48157625161360496\n",
            "11     \t [-1.22295196  0.27574245]. \t  -1.7819770935063983 \t -0.48157625161360496\n",
            "12     \t [-1.22855378  0.27850169]. \t  -1.771137770238179 \t -0.48157625161360496\n",
            "13     \t [-1.23251487  0.28051453]. \t  -1.763104489046181 \t -0.48157625161360496\n",
            "14     \t [-1.23543997  0.282043  ]. \t  -1.7569465813317249 \t -0.48157625161360496\n",
            "15     \t [-1.23767363  0.28323997]. \t  -1.752096803453661 \t -0.48157625161360496\n",
            "16     \t [-1.2394255   0.28420061]. \t  -1.7481915441776785 \t -0.48157625161360496\n",
            "17     \t [-1.24082978  0.28498709]. \t  -1.7449883747271466 \t -0.48157625161360496\n",
            "18     \t [-1.24197608  0.28564173]. \t  -1.7423199044626876 \t -0.48157625161360496\n",
            "19     \t [-1.2429263   0.28619431]. \t  -1.7400670172028225 \t -0.48157625161360496\n",
            "20     \t [-1.24372444  0.28666639]. \t  -1.738142951021902 \t -0.48157625161360496\n"
          ]
        }
      ],
      "source": [
        "### Bayesian optimisation runs (x20): 'GP' Acquisition Function run number = 12\n",
        "\n",
        "np.random.seed(run_num_12)\n",
        "surrogate_gp_12 = GaussianProcess(cov_func, optimize=hyperOpt)\n",
        "\n",
        "gp_12 = GPGO(surrogate_gp_12, Acquisition_new(util_gp), f_syn_polarity, param, n_jobs = -1) # define BayesOpt\n",
        "gp_12.run(max_iter = max_iter, init_evals = n_init) # run\n"
      ]
    },
    {
      "cell_type": "code",
      "execution_count": null,
      "metadata": {
        "id": "z1CyiX30JLk4",
        "colab": {
          "base_uri": "https://localhost:8080/"
        },
        "outputId": "87c315f8-379f-49f1-e52d-73f1eaf0d99f"
      },
      "outputs": [
        {
          "output_type": "stream",
          "name": "stdout",
          "text": [
            "Evaluation \t Proposed point \t  Current eval. \t Best eval.\n",
            "init   \t [ 1.66621446 -1.04983512]. \t  -0.752930921147986 \t -0.752930921147986\n",
            "init   \t [1.9456712  1.86299679]. \t  -41.05776363102951 \t -0.752930921147986\n",
            "init   \t [ 2.83560668 -0.18620301]. \t  -69.0134544723513 \t -0.752930921147986\n",
            "init   \t [0.65425478 1.10210606]. \t  -3.117452174069064 \t -0.752930921147986\n",
            "init   \t [0.84968007 0.88807292]. \t  -2.006601529383926 \t -0.752930921147986\n",
            "1      \t [ 0.66474215 -1.56248043]. \t  -14.422879909399711 \t -0.752930921147986\n",
            "2      \t [-3.  2.]. \t  -150.89999999999998 \t -0.752930921147986\n",
            "3      \t [-3. -2.]. \t  -162.89999999999998 \t -0.752930921147986\n",
            "4      \t [-0.07095386  0.53364361]. \t  \u001b[92m0.8324931194275705\u001b[0m \t 0.8324931194275705\n",
            "5      \t [2.0349903  0.48956057]. \t  -4.491277272013365 \t 0.8324931194275705\n",
            "6      \t [-0.07071094  0.57682271]. \t  \u001b[92m0.9089155364331936\u001b[0m \t 0.9089155364331936\n",
            "7      \t [-0.50107687  0.31316261]. \t  -0.36647348620914116 \t 0.9089155364331936\n",
            "8      \t [ 1.41440779 -0.62323915]. \t  -0.4347266563976713 \t 0.9089155364331936\n",
            "9      \t [-0.54821943  1.11367584]. \t  -1.6030233990379745 \t 0.9089155364331936\n",
            "10     \t [0.14162054 0.05250437]. \t  -0.07582271890108078 \t 0.9089155364331936\n",
            "11     \t [-1.95280045 -0.02198917]. \t  -3.2412867621849704 \t 0.9089155364331936\n",
            "12     \t [ 2.40861616 -2.        ]. \t  -60.79512312153722 \t 0.9089155364331936\n",
            "13     \t [-1.01390478 -1.27572983]. \t  -7.633253045299931 \t 0.9089155364331936\n",
            "14     \t [-0.93115555  2.        ]. \t  -48.24443636295747 \t 0.9089155364331936\n",
            "15     \t [ 0.6396162  -0.00994967]. \t  -1.3010226527330357 \t 0.9089155364331936\n",
            "16     \t [0.59663321 0.03410028]. \t  -1.1885173573241192 \t 0.9089155364331936\n",
            "17     \t [0.55551366 0.0689229 ]. \t  -1.0635686872830734 \t 0.9089155364331936\n",
            "18     \t [0.51635124 0.09700586]. \t  -0.9363152363622244 \t 0.9089155364331936\n",
            "19     \t [-0.61970678 -0.01194406]. \t  -1.2521405110640595 \t 0.9089155364331936\n",
            "20     \t [0.56956483 0.10279553]. \t  -1.1047241121191629 \t 0.9089155364331936\n"
          ]
        }
      ],
      "source": [
        "### Bayesian optimisation runs (x20): 'GP' Acquisition Function run number = 13\n",
        "\n",
        "np.random.seed(run_num_13)\n",
        "surrogate_gp_13 = GaussianProcess(cov_func, optimize=hyperOpt)\n",
        "\n",
        "gp_13 = GPGO(surrogate_gp_13, Acquisition_new(util_gp), f_syn_polarity, param, n_jobs = -1) # define BayesOpt\n",
        "gp_13.run(max_iter = max_iter, init_evals = n_init) # run\n"
      ]
    },
    {
      "cell_type": "code",
      "execution_count": null,
      "metadata": {
        "id": "Dx5l3xHMJLk5",
        "colab": {
          "base_uri": "https://localhost:8080/"
        },
        "outputId": "d5bff87e-24d0-4133-986b-6222556ddfaf"
      },
      "outputs": [
        {
          "output_type": "stream",
          "name": "stdout",
          "text": [
            "Evaluation \t Proposed point \t  Current eval. \t Best eval.\n",
            "init   \t [0.08366006 1.09266021]. \t  -1.0453292732107575 \t 1.029299726828387\n",
            "init   \t [ 2.22256611 -1.96781221]. \t  -48.81113313056442 \t 1.029299726828387\n",
            "init   \t [-1.14158445  1.83041496]. \t  -31.794043287944216 \t 1.029299726828387\n",
            "init   \t [ 0.07870027 -0.7268623 ]. \t  1.029299726828387 \t 1.029299726828387\n",
            "init   \t [ 0.23519962 -1.11498023]. \t  -1.161934062902255 \t 1.029299726828387\n",
            "1      \t [-1.4544454   0.80460528]. \t  -0.13632292703505466 \t 1.029299726828387\n",
            "2      \t [ 0.06051083 -1.22941829]. \t  -3.032505907483532 \t 1.029299726828387\n",
            "3      \t [ 0.06968614 -0.53428678]. \t  0.8337516491970207 \t 1.029299726828387\n",
            "4      \t [ 2.28584625 -1.87403497]. \t  -42.12313738585593 \t 1.029299726828387\n",
            "5      \t [-1.61728491  0.21472598]. \t  -1.5370935502914778 \t 1.029299726828387\n",
            "6      \t [ 0.11758474 -0.12718006]. \t  0.02370289675932879 \t 1.029299726828387\n",
            "7      \t [-0.45595477 -0.32444724]. \t  -0.5150045515794663 \t 1.029299726828387\n",
            "8      \t [ 0.73986858 -0.31849789]. \t  -1.0147792093967156 \t 1.029299726828387\n",
            "9      \t [3. 2.]. \t  -162.89999999999998 \t 1.029299726828387\n",
            "10     \t [-3. -2.]. \t  -162.89999999999998 \t 1.029299726828387\n",
            "11     \t [-3.          0.93659099]. \t  -105.65935449225259 \t 1.029299726828387\n",
            "12     \t [ 3.         -0.11280478]. \t  -108.51133368900375 \t 1.029299726828387\n",
            "13     \t [-0.59885368  0.04358692]. \t  -1.1461043986743182 \t 1.029299726828387\n",
            "14     \t [-0.5703261   0.02621664]. \t  -1.0726757555258335 \t 1.029299726828387\n",
            "15     \t [-0.54758671  0.01338807]. \t  -1.0115309043965772 \t 1.029299726828387\n",
            "16     \t [-0.52922413  0.00342259]. \t  -0.9610460711131997 \t 1.029299726828387\n",
            "17     \t [-0.51429154 -0.00455172]. \t  -0.919497206327906 \t 1.029299726828387\n",
            "18     \t [-0.50210975 -0.01104851]. \t  -0.8853784484636551 \t 1.029299726828387\n",
            "19     \t [-0.49216663 -0.01640039]. \t  -0.8574293821646612 \t 1.029299726828387\n",
            "20     \t [-0.48406136 -0.02083918]. \t  -0.8346031839819008 \t 1.029299726828387\n"
          ]
        }
      ],
      "source": [
        "### Bayesian optimisation runs (x20): 'GP' Acquisition Function run number = 14\n",
        "\n",
        "np.random.seed(run_num_14)\n",
        "surrogate_gp_14 = GaussianProcess(cov_func, optimize=hyperOpt)\n",
        "\n",
        "gp_14 = GPGO(surrogate_gp_14, Acquisition_new(util_gp), f_syn_polarity, param, n_jobs = -1) # define BayesOpt\n",
        "gp_14.run(max_iter = max_iter, init_evals = n_init) # run\n"
      ]
    },
    {
      "cell_type": "code",
      "execution_count": null,
      "metadata": {
        "id": "mNCLg6LHJLk6",
        "colab": {
          "base_uri": "https://localhost:8080/"
        },
        "outputId": "eaeaf2b5-af0b-429a-b4a6-47ee9556c940"
      },
      "outputs": [
        {
          "output_type": "stream",
          "name": "stdout",
          "text": [
            "Evaluation \t Proposed point \t  Current eval. \t Best eval.\n",
            "init   \t [ 2.09290618 -1.2844163 ]. \t  -6.84252100896936 \t -2.1163170846379233\n",
            "init   \t [-2.67382071 -0.55384622]. \t  -43.69785230561242 \t -2.1163170846379233\n",
            "init   \t [-1.34759443  0.1200009 ]. \t  -2.1163170846379233 \t -2.1163170846379233\n",
            "init   \t [-1.16448651 -0.78210256]. \t  -2.3544087277459513 \t -2.1163170846379233\n",
            "init   \t [-2.32955234 -1.00040394]. \t  -15.469119251600274 \t -2.1163170846379233\n",
            "1      \t [-0.24586053  1.39571443]. \t  -7.278072285848275 \t -2.1163170846379233\n",
            "2      \t [3. 2.]. \t  -162.89999999999998 \t -2.1163170846379233\n",
            "3      \t [-3.  2.]. \t  -150.89999999999998 \t -2.1163170846379233\n",
            "4      \t [-0.22060144 -0.56131911]. \t  \u001b[92m0.5496643022869564\u001b[0m \t 0.5496643022869564\n",
            "5      \t [-0.2446475  -0.54891672]. \t  0.4758391147271276 \t 0.5496643022869564\n",
            "6      \t [-0.25653225 -0.54345616]. \t  0.43881512704333614 \t 0.5496643022869564\n",
            "7      \t [-0.26348058 -0.54101518]. \t  0.41787674603570946 \t 0.5496643022869564\n",
            "8      \t [-0.26318336 -2.        ]. \t  -48.79346424350933 \t 0.5496643022869564\n",
            "9      \t [-0.29541127  0.07785992]. \t  -0.2861975277628256 \t 0.5496643022869564\n",
            "10     \t [-0.32179814  0.04217209]. \t  -0.3713949139087411 \t 0.5496643022869564\n",
            "11     \t [-0.33518076  0.02066676]. \t  -0.41471693136062693 \t 0.5496643022869564\n",
            "12     \t [-0.34276356  0.00637458]. \t  -0.4391538450049459 \t 0.5496643022869564\n",
            "13     \t [-0.34738018 -0.00375362]. \t  -0.45394513331762376 \t 0.5496643022869564\n",
            "14     \t [-0.35033785 -0.01126753]. \t  -0.4633674471292883 \t 0.5496643022869564\n",
            "15     \t [-0.35230636 -0.01703799]. \t  -0.46960622328022533 \t 0.5496643022869564\n",
            "16     \t [-0.35365592 -0.02159136]. \t  -0.4738636739376093 \t 0.5496643022869564\n",
            "17     \t [-0.35460316 -0.02526389]. \t  -0.4768396056871495 \t 0.5496643022869564\n",
            "18     \t [-0.35528065 -0.02828002]. \t  -0.4789601584095899 \t 0.5496643022869564\n",
            "19     \t [-0.35577261 -0.03079508]. \t  -0.48049472309478053 \t 0.5496643022869564\n",
            "20     \t [-0.35613421 -0.03291969]. \t  -0.48161896827741457 \t 0.5496643022869564\n"
          ]
        }
      ],
      "source": [
        "### Bayesian optimisation runs (x20): 'GP' Acquisition Function run number = 15\n",
        "\n",
        "np.random.seed(run_num_15)\n",
        "surrogate_gp_15 = GaussianProcess(cov_func, optimize=hyperOpt)\n",
        "\n",
        "gp_15 = GPGO(surrogate_gp_15, Acquisition_new(util_gp), f_syn_polarity, param, n_jobs = -1) # define BayesOpt\n",
        "gp_15.run(max_iter = max_iter, init_evals = n_init) # run\n"
      ]
    },
    {
      "cell_type": "code",
      "execution_count": null,
      "metadata": {
        "id": "5xwjkr9RJLk6",
        "colab": {
          "base_uri": "https://localhost:8080/"
        },
        "outputId": "7ffeef69-e3c3-4f77-885e-63ed98c8a441"
      },
      "outputs": [
        {
          "output_type": "stream",
          "name": "stdout",
          "text": [
            "Evaluation \t Proposed point \t  Current eval. \t Best eval.\n",
            "init   \t [-1.66025353  0.09265337]. \t  -1.8632773736203017 \t -1.8632773736203017\n",
            "init   \t [ 0.30420874 -1.8175922 ]. \t  -30.24114424375299 \t -1.8632773736203017\n",
            "init   \t [-0.83562699 -1.10767623]. \t  -3.922061281476444 \t -1.8632773736203017\n",
            "init   \t [ 1.13235697 -1.3450743 ]. \t  -6.7121671493737685 \t -1.8632773736203017\n",
            "init   \t [-2.5780508   1.76404344]. \t  -53.42443470756798 \t -1.8632773736203017\n",
            "1      \t [ 3.         -0.01516038]. \t  -108.85359972032846 \t -1.8632773736203017\n",
            "2      \t [-3. -2.]. \t  -162.89999999999998 \t -1.8632773736203017\n",
            "3      \t [0.52099451 2.        ]. \t  -49.979674397400224 \t -1.8632773736203017\n",
            "4      \t [-0.85503329  0.00258066]. \t  -1.9299346145279024 \t -1.8632773736203017\n",
            "5      \t [-1.03355989 -0.07999601]. \t  -2.3401598730090636 \t -1.8632773736203017\n",
            "6      \t [ 2.299616 -2.      ]. \t  -55.12221473132163 \t -1.8632773736203017\n",
            "7      \t [-0.7877405  -0.15097524]. \t  \u001b[92m-1.7829883393199009\u001b[0m \t -1.7829883393199009\n",
            "8      \t [-0.79839467 -0.14936862]. \t  -1.8147964611474776 \t -1.7829883393199009\n",
            "9      \t [-0.80527704 -0.14830513]. \t  -1.8350847306701543 \t -1.7829883393199009\n",
            "10     \t [-0.8100617  -0.14755871]. \t  -1.8490631590013429 \t -1.7829883393199009\n",
            "11     \t [-0.81356349 -0.14701166]. \t  -1.859225687025116 \t -1.7829883393199009\n",
            "12     \t [-0.81622609 -0.14659709]. \t  -1.8669131892309225 \t -1.7829883393199009\n",
            "13     \t [-0.81831128 -0.14627446]. \t  -1.8729090705788785 \t -1.7829883393199009\n",
            "14     \t [-0.8199833  -0.14601789]. \t  -1.8777009735572605 \t -1.7829883393199009\n",
            "15     \t [-0.8213501  -0.14581015]. \t  -1.8816074038625974 \t -1.7829883393199009\n",
            "16     \t [-0.82248562 -0.14563938]. \t  -1.8848453066824014 \t -1.7829883393199009\n",
            "17     \t [-0.8234419  -0.14549716]. \t  -1.887566713503304 \t -1.7829883393199009\n",
            "18     \t [-0.8242568  -0.14537736]. \t  -1.8898817877223832 \t -1.7829883393199009\n",
            "19     \t [-0.82495829 -0.14527545]. \t  -1.8918717156081477 \t -1.7829883393199009\n",
            "20     \t [-0.82556762 -0.14518801]. \t  -1.8935979118685446 \t -1.7829883393199009\n"
          ]
        }
      ],
      "source": [
        "### Bayesian optimisation runs (x20): 'GP' Acquisition Function run number = 16\n",
        "\n",
        "np.random.seed(run_num_16)\n",
        "surrogate_gp_16 = GaussianProcess(cov_func, optimize=hyperOpt)\n",
        "\n",
        "gp_16 = GPGO(surrogate_gp_16, Acquisition_new(util_gp), f_syn_polarity, param, n_jobs = -1) # define BayesOpt\n",
        "gp_16.run(max_iter = max_iter, init_evals = n_init) # run\n"
      ]
    },
    {
      "cell_type": "code",
      "execution_count": null,
      "metadata": {
        "id": "zbpfP0FWJLk7",
        "colab": {
          "base_uri": "https://localhost:8080/"
        },
        "outputId": "04d775e8-1dbc-4b98-bb1b-af161a99bf3a"
      },
      "outputs": [
        {
          "output_type": "stream",
          "name": "stdout",
          "text": [
            "Evaluation \t Proposed point \t  Current eval. \t Best eval.\n",
            "init   \t [-1.23200998  0.12234702]. \t  -2.189206652278967 \t -1.7722768782964888\n",
            "init   \t [-1.85087528 -1.72839857]. \t  -29.406067820453675 \t -1.7722768782964888\n",
            "init   \t [1.72191276 0.62533409]. \t  -2.2113401446731897 \t -1.7722768782964888\n",
            "init   \t [0.82512538 0.30241158]. \t  -1.7722768782964888 \t -1.7722768782964888\n",
            "init   \t [-2.7656225  -0.56874558]. \t  -57.5922315952177 \t -1.7722768782964888\n",
            "1      \t [-0.59254732  1.2220671 ]. \t  -3.3836130615413635 \t -1.7722768782964888\n",
            "2      \t [ 3. -2.]. \t  -150.89999999999998 \t -1.7722768782964888\n",
            "3      \t [3. 2.]. \t  -162.89999999999998 \t -1.7722768782964888\n",
            "4      \t [-3.  2.]. \t  -150.89999999999998 \t -1.7722768782964888\n",
            "5      \t [0.20173685 0.26452473]. \t  \u001b[92m0.04760863578185737\u001b[0m \t 0.04760863578185737\n",
            "6      \t [0.37608872 0.28321679]. \t  -0.33610477375744113 \t 0.04760863578185737\n",
            "7      \t [0.46584409 0.27990717]. \t  -0.6141074582274514 \t 0.04760863578185737\n",
            "8      \t [-0.01102505  0.31496057]. \t  \u001b[92m0.36042423246562694\u001b[0m \t 0.36042423246562694\n",
            "9      \t [-0.00334993  0.31675797]. \t  \u001b[92m0.3620897321825477\u001b[0m \t 0.3620897321825477\n",
            "10     \t [0.00273252 0.31809701]. \t  \u001b[92m0.36288956841319503\u001b[0m \t 0.36288956841319503\n",
            "11     \t [0.00763351 0.31911786]. \t  \u001b[92m0.36319332111694436\u001b[0m \t 0.36319332111694436\n",
            "12     \t [0.01165492 0.31991502]. \t  \u001b[92m0.36321208057226145\u001b[0m \t 0.36321208057226145\n",
            "13     \t [0.01500871 0.32055072]. \t  0.3630665382086574 \t 0.36321208057226145\n",
            "14     \t [0.01784543 0.32106691]. \t  0.36282742447982336 \t 0.36321208057226145\n",
            "15     \t [0.02027349 0.32149237]. \t  0.3625369346145272 \t 0.36321208057226145\n",
            "16     \t [0.02237353 0.32184766]. \t  0.36222085412574184 \t 0.36321208057226145\n",
            "17     \t [0.02420582 0.32214757]. \t  0.3618950543042884 \t 0.36321208057226145\n",
            "18     \t [0.02581679 0.32240328]. \t  0.3615696803313355 \t 0.36321208057226145\n",
            "19     \t [0.02724318 0.322623  ]. \t  0.36125027233753776 \t 0.36321208057226145\n",
            "20     \t [0.02851325 0.32281324]. \t  0.3609409152754748 \t 0.36321208057226145\n"
          ]
        }
      ],
      "source": [
        "### Bayesian optimisation runs (x20): 'GP' Acquisition Function run number = 17\n",
        "\n",
        "np.random.seed(run_num_17)\n",
        "surrogate_gp_17 = GaussianProcess(cov_func, optimize=hyperOpt)\n",
        "\n",
        "gp_17 = GPGO(surrogate_gp_17, Acquisition_new(util_gp), f_syn_polarity, param, n_jobs = -1) # define BayesOpt\n",
        "gp_17.run(max_iter = max_iter, init_evals = n_init) # run\n"
      ]
    },
    {
      "cell_type": "code",
      "execution_count": null,
      "metadata": {
        "id": "1d-1rDI5JLk8",
        "colab": {
          "base_uri": "https://localhost:8080/"
        },
        "outputId": "9f855356-a27d-4ad2-e33e-4ba5aa4b4dbb"
      },
      "outputs": [
        {
          "output_type": "stream",
          "name": "stdout",
          "text": [
            "Evaluation \t Proposed point \t  Current eval. \t Best eval.\n",
            "init   \t [0.90224545 0.02181349]. \t  -2.062169771852028 \t -2.062169771852028\n",
            "init   \t [ 2.27160883 -1.2726391 ]. \t  -11.64729291207819 \t -2.062169771852028\n",
            "init   \t [2.11339841 1.00054514]. \t  -7.792128760671214 \t -2.062169771852028\n",
            "init   \t [0.99661    1.95158179]. \t  -46.96206222999227 \t -2.062169771852028\n",
            "init   \t [-1.45818946 -1.8867763 ]. \t  -41.4190528039297 \t -2.062169771852028\n",
            "1      \t [-3.  2.]. \t  -150.89999999999998 \t -2.062169771852028\n",
            "2      \t [3.         0.49952254]. \t  -109.64952299921755 \t -2.062169771852028\n",
            "3      \t [-1.0372659   0.47352911]. \t  \u001b[92m-1.1008965023356945\u001b[0m \t -1.1008965023356945\n",
            "4      \t [-3. -2.]. \t  -162.89999999999998 \t -1.1008965023356945\n",
            "5      \t [ 0.19375031 -0.357213  ]. \t  \u001b[92m0.3672713866910854\u001b[0m \t 0.3672713866910854\n",
            "6      \t [ 0.19384467 -0.35628231]. \t  0.36500402788228176 \t 0.3672713866910854\n",
            "7      \t [ 0.19467021 -0.35560749]. \t  0.36249955115087684 \t 0.3672713866910854\n",
            "8      \t [ 0.19538834 -0.35515453]. \t  0.36062781898439744 \t 0.3672713866910854\n",
            "9      \t [ 0.19595414 -0.35483478]. \t  0.3592364952901064 \t 0.3672713866910854\n",
            "10     \t [ 0.19639783 -0.35459725]. \t  0.3581744088819638 \t 0.3672713866910854\n",
            "11     \t [ 0.19675066 -0.35441363]. \t  0.3573409713255187 \t 0.3672713866910854\n",
            "12     \t [ 0.19703572 -0.35426696]. \t  0.35667084113763203 \t 0.3672713866910854\n",
            "13     \t [ 0.19727024 -0.35414713]. \t  0.35612099831582555 \t 0.3672713866910854\n",
            "14     \t [ 0.19746582 -0.35404716]. \t  0.3556620585370862 \t 0.3672713866910854\n",
            "15     \t [ 0.19763073 -0.35396213]. \t  0.35527314861280146 \t 0.3672713866910854\n",
            "16     \t [ 0.1977719  -0.35388917]. \t  0.3549396579972243 \t 0.3672713866910854\n",
            "17     \t [ 0.19789349 -0.35382552]. \t  0.35465041448653606 \t 0.3672713866910854\n",
            "18     \t [ 0.19799952 -0.35376967]. \t  0.3543973218194086 \t 0.3672713866910854\n",
            "19     \t [ 0.19809252 -0.35372007]. \t  0.3541738344173197 \t 0.3672713866910854\n",
            "20     \t [ 0.19817478 -0.35367587]. \t  0.35397532049102454 \t 0.3672713866910854\n"
          ]
        }
      ],
      "source": [
        "### Bayesian optimisation runs (x20): 'GP' Acquisition Function run number = 18\n",
        "\n",
        "np.random.seed(run_num_18)\n",
        "surrogate_gp_18 = GaussianProcess(cov_func, optimize=hyperOpt)\n",
        "\n",
        "gp_18 = GPGO(surrogate_gp_18, Acquisition_new(util_gp), f_syn_polarity, param, n_jobs = -1) # define BayesOpt\n",
        "gp_18.run(max_iter = max_iter, init_evals = n_init) # run\n"
      ]
    },
    {
      "cell_type": "code",
      "execution_count": null,
      "metadata": {
        "id": "E7485DWlJLk8",
        "colab": {
          "base_uri": "https://localhost:8080/"
        },
        "outputId": "c366c74a-061c-4e38-dace-66a61c25e9e6"
      },
      "outputs": [
        {
          "output_type": "stream",
          "name": "stdout",
          "text": [
            "Evaluation \t Proposed point \t  Current eval. \t Best eval.\n",
            "init   \t [-2.41479839  1.04499887]. \t  -15.890475442873509 \t -6.578088852480828\n",
            "init   \t [-1.51837216 -1.44747325]. \t  -13.520839509777993 \t -6.578088852480828\n",
            "init   \t [-1.01132062 -1.66800174]. \t  -23.772158573571232 \t -6.578088852480828\n",
            "init   \t [1.03186249 1.22637519]. \t  -6.578088852480828 \t -6.578088852480828\n",
            "init   \t [2.89645149 0.54264294]. \t  -83.31828503667734 \t -6.578088852480828\n",
            "1      \t [-0.08928202  2.        ]. \t  -47.85318781177789 \t -6.578088852480828\n",
            "2      \t [ 1.65750133 -2.        ]. \t  -46.73601008204938 \t -6.578088852480828\n",
            "3      \t [-3. -2.]. \t  -162.89999999999998 \t -6.578088852480828\n",
            "4      \t [-0.31711633 -0.25359169]. \t  \u001b[92m-0.22107858598060665\u001b[0m \t -0.22107858598060665\n",
            "5      \t [-0.26825098 -0.23426884]. \t  \u001b[92m-0.13244806569706127\u001b[0m \t -0.13244806569706127\n",
            "6      \t [-0.24379731 -0.22686367]. \t  \u001b[92m-0.09043540064943448\u001b[0m \t -0.09043540064943448\n",
            "7      \t [-0.22808412 -0.22272204]. \t  \u001b[92m-0.06467471596098814\u001b[0m \t -0.06467471596098814\n",
            "8      \t [-0.21671955 -0.21998207]. \t  \u001b[92m-0.046744696562038585\u001b[0m \t -0.046744696562038585\n",
            "9      \t [-0.20790426 -0.21798806]. \t  \u001b[92m-0.03327777308470148\u001b[0m \t -0.03327777308470148\n",
            "10     \t [-0.20074172 -0.21644503]. \t  \u001b[92m-0.022635488042188845\u001b[0m \t -0.022635488042188845\n",
            "11     \t [-0.19472593 -0.21519848]. \t  \u001b[92m-0.013913353554251356\u001b[0m \t -0.013913353554251356\n",
            "12     \t [-0.18954819 -0.21415951]. \t  \u001b[92m-0.006569223303967142\u001b[0m \t -0.006569223303967142\n",
            "13     \t [-0.18500435 -0.21327192]. \t  \u001b[92m-0.00025183720943039445\u001b[0m \t -0.00025183720943039445\n",
            "14     \t [-0.18095751 -0.21249967]. \t  \u001b[92m0.00527231831537564\u001b[0m \t 0.00527231831537564\n",
            "15     \t [-0.17730672 -0.21181679]. \t  \u001b[92m0.010171344862785509\u001b[0m \t 0.010171344862785509\n",
            "16     \t [-0.17397963 -0.21120536]. \t  \u001b[92m0.014565135288571424\u001b[0m \t 0.014565135288571424\n",
            "17     \t [-0.17092268 -0.21065248]. \t  \u001b[92m0.01854198144450503\u001b[0m \t 0.01854198144450503\n",
            "18     \t [-0.16809199 -0.21014765]. \t  \u001b[92m0.02217217596477372\u001b[0m \t 0.02217217596477372\n",
            "19     \t [-0.16545358 -0.20968293]. \t  \u001b[92m0.02550989499763004\u001b[0m \t 0.02550989499763004\n",
            "20     \t [-0.1629829  -0.20925288]. \t  \u001b[92m0.028595144438619186\u001b[0m \t 0.028595144438619186\n"
          ]
        }
      ],
      "source": [
        "### Bayesian optimisation runs (x20): 'GP' Acquisition Function run number = 19\n",
        "\n",
        "np.random.seed(run_num_19)\n",
        "surrogate_gp_19 = GaussianProcess(cov_func, optimize=hyperOpt)\n",
        "\n",
        "gp_19 = GPGO(surrogate_gp_19, Acquisition_new(util_gp), f_syn_polarity, param, n_jobs = -1) # define BayesOpt\n",
        "gp_19.run(max_iter = max_iter, init_evals = n_init) # run\n"
      ]
    },
    {
      "cell_type": "code",
      "execution_count": null,
      "metadata": {
        "id": "v9oZm6NvJLk9",
        "colab": {
          "base_uri": "https://localhost:8080/"
        },
        "outputId": "9fb4a75d-bbac-4ca9-f56f-e6ca3f086c2d"
      },
      "outputs": [
        {
          "output_type": "stream",
          "name": "stdout",
          "text": [
            "Evaluation \t Proposed point \t  Current eval. \t Best eval.\n",
            "init   \t [0.52878481 1.59085491]. \t  -17.29968374481291 \t -1.5037392797834441\n",
            "init   \t [2.34918438 1.26334991]. \t  -20.91583049569433 \t -1.5037392797834441\n",
            "init   \t [-2.78466249  0.76703033]. \t  -57.06253405225224 \t -1.5037392797834441\n",
            "init   \t [-0.72791435  0.07404378]. \t  -1.5037392797834441 \t -1.5037392797834441\n",
            "init   \t [ 0.94770879 -1.22459913]. \t  -3.9766737661914173 \t -1.5037392797834441\n",
            "1      \t [-1.17192519 -2.        ]. \t  -52.73988849564311 \t -1.5037392797834441\n",
            "2      \t [ 3. -2.]. \t  -150.89999999999998 \t -1.5037392797834441\n",
            "3      \t [ 0.43919421 -0.31417613]. \t  \u001b[92m-0.20198460475680963\u001b[0m \t -0.20198460475680963\n",
            "4      \t [ 0.43975132 -0.31237883]. \t  -0.20779994882349745 \t -0.20198460475680963\n",
            "5      \t [ 0.44012772 -0.31210098]. \t  -0.20943131246794955 \t -0.20198460475680963\n",
            "6      \t [ 0.44036963 -0.31208091]. \t  -0.2100916026536085 \t -0.20198460475680963\n",
            "7      \t [ 0.44053559 -0.31212037]. \t  -0.21041428912595384 \t -0.20198460475680963\n",
            "8      \t [ 0.4406559  -0.31217222]. \t  -0.21059125348011737 \t -0.20198460475680963\n",
            "9      \t [ 0.44074707 -0.3122234 ]. \t  -0.2106962314001482 \t -0.20198460475680963\n",
            "10     \t [ 0.44081836 -0.3122701 ]. \t  -0.21076196423878563 \t -0.20198460475680963\n",
            "11     \t [ 0.44087544 -0.31231155]. \t  -0.21080460838390563 \t -0.20198460475680963\n",
            "12     \t [ 0.44092224 -0.31234818]. \t  -0.21083314360435162 \t -0.20198460475680963\n",
            "13     \t [ 0.44096132 -0.3123805 ]. \t  -0.2108527002160177 \t -0.20198460475680963\n",
            "14     \t [ 0.44099429 -0.31240901]. \t  -0.21086612827644063 \t -0.20198460475680963\n",
            "15     \t [ 0.44102252 -0.31243431]. \t  -0.2108754688618279 \t -0.20198460475680963\n",
            "16     \t [ 0.44104712 -0.31245697]. \t  -0.21088208766299388 \t -0.20198460475680963\n",
            "17     \t [ 0.44106867 -0.31247734]. \t  -0.21088664062841084 \t -0.20198460475680963\n",
            "18     \t [ 0.44108744 -0.3124955 ]. \t  -0.21088954436487123 \t -0.20198460475680963\n",
            "19     \t [ 0.44110422 -0.31251199]. \t  -0.21089152174659648 \t -0.20198460475680963\n",
            "20     \t [ 0.4411192  -0.31252697]. \t  -0.21089266911577065 \t -0.20198460475680963\n"
          ]
        }
      ],
      "source": [
        "### Bayesian optimisation runs (x20): 'GP' Acquisition Function run number = 20\n",
        "\n",
        "np.random.seed(run_num_20)\n",
        "surrogate_gp_20 = GaussianProcess(cov_func, optimize=hyperOpt)\n",
        "\n",
        "gp_20 = GPGO(surrogate_gp_20, Acquisition_new(util_gp), f_syn_polarity, param, n_jobs = -1) # define BayesOpt\n",
        "gp_20.run(max_iter = max_iter, init_evals = n_init) # run\n"
      ]
    },
    {
      "cell_type": "code",
      "execution_count": null,
      "metadata": {
        "id": "m3W7oEVSJLk9",
        "colab": {
          "base_uri": "https://localhost:8080/"
        },
        "outputId": "afacdb39-6d1d-424a-e000-7ea3e9266fb7"
      },
      "outputs": [
        {
          "output_type": "stream",
          "name": "stdout",
          "text": [
            "Evaluation \t Proposed point \t  Current eval. \t Best eval.\n",
            "init   \t [-0.49786797  0.88129797]. \t  0.2650082867644827 \t 0.2650082867644827\n",
            "init   \t [-2.99931375 -0.79066971]. \t  -110.13991869176735 \t 0.2650082867644827\n",
            "init   \t [-2.11946466 -1.63064562]. \t  -26.90935479429681 \t 0.2650082867644827\n",
            "init   \t [-1.88243873 -0.61775709]. \t  -2.8558363102363344 \t 0.2650082867644827\n",
            "init   \t [-0.61939515  0.15526694]. \t  -1.0540522096005847 \t 0.2650082867644827\n",
            "1      \t [1.75515624 2.        ]. \t  -53.64855910254112 \t 0.2650082867644827\n",
            "2      \t [ 3. -2.]. \t  -150.89999999999998 \t 0.2650082867644827\n",
            "3      \t [-2.13252355  2.        ]. \t  -49.84540300051509 \t 0.2650082867644827\n",
            "4      \t [-0.18270908 -1.76787185]. \t  -27.024497860380826 \t 0.2650082867644827\n",
            "5      \t [ 0.94152937 -0.0459526 ]. \t  -2.0761571757493726 \t 0.2650082867644827\n",
            "6      \t [3.        0.5716858]. \t  -109.73501619551772 \t 0.2650082867644827\n",
            "7      \t [-0.10969739  2.        ]. \t  -47.82843577410897 \t 0.2650082867644827\n",
            "8      \t [-0.47160415 -0.3780341 ]. \t  -0.4777658654229838 \t 0.2650082867644827\n",
            "9      \t [-1.20873802  0.19413322]. \t  -2.0212919567609173 \t 0.2650082867644827\n",
            "10     \t [-1.21719887 -1.19898905]. \t  -6.376309176775507 \t 0.2650082867644827\n",
            "11     \t [ 0.21934195 -0.06646716]. \t  -0.15544741061293293 \t 0.2650082867644827\n",
            "12     \t [ 0.99924346 -1.18596008]. \t  -3.3340364606658923 \t 0.2650082867644827\n",
            "13     \t [0.55422689 0.90119204]. \t  -0.9293996304985893 \t 0.2650082867644827\n",
            "14     \t [ 0.93876796 -2.        ]. \t  -48.24476544761661 \t 0.2650082867644827\n",
            "15     \t [-3.          1.18984087]. \t  -107.68465936071514 \t 0.2650082867644827\n",
            "16     \t [ 0.46101024 -0.89100265]. \t  \u001b[92m0.30681965432380076\u001b[0m \t 0.30681965432380076\n",
            "17     \t [-1.31928578 -0.50146802]. \t  -2.2665514279464736 \t 0.30681965432380076\n",
            "18     \t [ 1.5113318  -0.65560377]. \t  -0.18145811834090153 \t 0.30681965432380076\n",
            "19     \t [ 0.66699371 -0.15122703]. \t  -1.2029892643646938 \t 0.30681965432380076\n",
            "20     \t [ 0.89637019 -0.41015759]. \t  -1.1037390011320323 \t 0.30681965432380076\n"
          ]
        }
      ],
      "source": [
        "### Bayesian optimisation runs (x20): 'STP' Acquisition Function run number = 1 \n",
        "\n",
        "np.random.seed(run_num_1)\n",
        "surrogate_stp_1 = tStudentProcess(cov_func, nu = df, optimize=hyperOpt)\n",
        "\n",
        "stp_1 = GPGO(surrogate_stp_1, Acquisition_new(util_stp), f_syn_polarity, param, n_jobs = -1) # Define BayesOpt\n",
        "stp_1.run(max_iter = max_iter, init_evals = n_init) # run\n"
      ]
    },
    {
      "cell_type": "code",
      "execution_count": null,
      "metadata": {
        "id": "FGw67C40JLk-",
        "colab": {
          "base_uri": "https://localhost:8080/"
        },
        "outputId": "da4c0a40-0cb7-4b2a-aa22-66ee2b2f0256"
      },
      "outputs": [
        {
          "output_type": "stream",
          "name": "stdout",
          "text": [
            "Evaluation \t Proposed point \t  Current eval. \t Best eval.\n",
            "init   \t [-0.38403059 -1.89629507]. \t  -38.61280125654363 \t -0.011939608840498828\n",
            "init   \t [ 0.29797487 -0.25871043]. \t  -0.011939608840498828 \t -0.011939608840498828\n",
            "init   \t [-0.47779319 -0.67866072]. \t  -0.1381453419305213 \t -0.011939608840498828\n",
            "init   \t [-1.7721082   0.47708387]. \t  -0.626144759281101 \t -0.011939608840498828\n",
            "init   \t [-1.20207196 -0.9326909 ]. \t  -3.0693811601417798 \t -0.011939608840498828\n",
            "1      \t [3. 2.]. \t  -162.89999999999998 \t -0.011939608840498828\n",
            "2      \t [ 3. -2.]. \t  -150.89999999999998 \t -0.011939608840498828\n",
            "3      \t [-3.  2.]. \t  -150.89999999999998 \t -0.011939608840498828\n",
            "4      \t [-3. -2.]. \t  -162.89999999999998 \t -0.011939608840498828\n",
            "5      \t [-0.06206791  1.68861887]. \t  -21.027531039105718 \t -0.011939608840498828\n",
            "6      \t [1.46407182 0.04469098]. \t  -2.2656474921046312 \t -0.011939608840498828\n",
            "7      \t [-0.72007225  0.38863653]. \t  -0.7631551645243806 \t -0.011939608840498828\n",
            "8      \t [-3.         -0.04534914]. \t  -109.02783817236292 \t -0.011939608840498828\n",
            "9      \t [ 1.0960065  -1.27795676]. \t  -5.088170391153909 \t -0.011939608840498828\n",
            "10     \t [-1.16331429  2.        ]. \t  -48.06674153005294 \t -0.011939608840498828\n",
            "11     \t [1.05590463 2.        ]. \t  -52.4230654059677 \t -0.011939608840498828\n",
            "12     \t [ 3.         -0.03878725]. \t  -108.77762949589204 \t -0.011939608840498828\n",
            "13     \t [-1.38315486 -0.15764275]. \t  -2.421555972021376 \t -0.011939608840498828\n",
            "14     \t [0.75876755 0.75730074]. \t  -1.2666782699683035 \t -0.011939608840498828\n",
            "15     \t [ 1.03671336 -2.        ]. \t  -48.21371528574265 \t -0.011939608840498828\n",
            "16     \t [ 1.09400168 -0.51390899]. \t  -1.0111001983406518 \t -0.011939608840498828\n",
            "17     \t [ 0.40118565 -1.08110931]. \t  -0.9462232888768896 \t -0.011939608840498828\n",
            "18     \t [-1.24941875  0.91654208]. \t  -0.7121768941036837 \t -0.011939608840498828\n",
            "19     \t [-0.19697209  0.11864446]. \t  -0.07316730074926917 \t -0.011939608840498828\n",
            "20     \t [ 0.49425425 -0.04507796]. \t  -0.826296718136429 \t -0.011939608840498828\n"
          ]
        }
      ],
      "source": [
        "### Bayesian optimisation runs (x20): 'STP' Acquisition Function run number = 2 \n",
        "\n",
        "np.random.seed(run_num_2)\n",
        "surrogate_stp_2 = tStudentProcess(cov_func, nu = df, optimize=hyperOpt)\n",
        "\n",
        "stp_2 = GPGO(surrogate_stp_2, Acquisition_new(util_stp), f_syn_polarity, param, n_jobs = -1) # Define BayesOpt\n",
        "stp_2.run(max_iter = max_iter, init_evals = n_init) # run\n"
      ]
    },
    {
      "cell_type": "code",
      "execution_count": null,
      "metadata": {
        "id": "oFLQAtDZJLk_",
        "colab": {
          "base_uri": "https://localhost:8080/"
        },
        "outputId": "29d896e5-df14-458d-b31f-bf2e12cc41c9"
      },
      "outputs": [
        {
          "output_type": "stream",
          "name": "stdout",
          "text": [
            "Evaluation \t Proposed point \t  Current eval. \t Best eval.\n",
            "init   \t [0.30478742 0.83259129]. \t  0.2431922946563294 \t 0.2431922946563294\n",
            "init   \t [-1.25457157  0.04331042]. \t  -2.3313310458730996 \t 0.2431922946563294\n",
            "init   \t [2.35768173 1.58517236]. \t  -33.54152175045586 \t 0.2431922946563294\n",
            "init   \t [-2.24648814 -1.17102849]. \t  -14.214109412296352 \t 0.2431922946563294\n",
            "init   \t [-2.69119678 -0.23676063]. \t  -45.87579771712209 \t 0.2431922946563294\n",
            "1      \t [ 0.380083   -1.25015299]. \t  -3.5787461984006192 \t 0.2431922946563294\n",
            "2      \t [ 3. -2.]. \t  -150.89999999999998 \t 0.2431922946563294\n",
            "3      \t [-1.110855  2.      ]. \t  -48.14286230628406 \t 0.2431922946563294\n",
            "4      \t [-0.84347434 -2.        ]. \t  -51.58984491538874 \t 0.2431922946563294\n",
            "5      \t [ 0.92959287 -0.10509184]. \t  -1.962127049283533 \t 0.2431922946563294\n",
            "6      \t [-3.  2.]. \t  -150.89999999999998 \t 0.2431922946563294\n",
            "7      \t [-3. -2.]. \t  -162.89999999999998 \t 0.2431922946563294\n",
            "8      \t [0.74917261 2.        ]. \t  -51.14079226501678 \t 0.2431922946563294\n",
            "9      \t [-0.24058946 -0.14861574]. \t  -0.17392190979437977 \t 0.2431922946563294\n",
            "10     \t [3.         0.33813928]. \t  -109.50935801664185 \t 0.2431922946563294\n",
            "11     \t [ 0.03757408 -0.11262549]. \t  0.0486831529124349 \t 0.2431922946563294\n",
            "12     \t [-1.40695291 -0.84334515]. \t  -2.6398363851815887 \t 0.2431922946563294\n",
            "13     \t [ 1.05124294 -2.        ]. \t  -48.20317061322787 \t 0.2431922946563294\n",
            "14     \t [-0.57155952 -0.09032172]. \t  -1.1134886243035325 \t 0.2431922946563294\n",
            "15     \t [3. 2.]. \t  -162.89999999999998 \t 0.2431922946563294\n",
            "16     \t [1.54044766 0.99900283]. \t  -3.651813273754086 \t 0.2431922946563294\n",
            "17     \t [-0.66183343  1.00211074]. \t  -0.730936828557479 \t 0.2431922946563294\n",
            "18     \t [ 1.38769458 -0.8897573 ]. \t  -0.40126895634324256 \t 0.2431922946563294\n",
            "19     \t [1.74649308 2.        ]. \t  -53.61539512585615 \t 0.2431922946563294\n",
            "20     \t [ 0.75799853 -0.57783853]. \t  -0.3405770995965186 \t 0.2431922946563294\n"
          ]
        }
      ],
      "source": [
        "### Bayesian optimisation runs (x20): 'STP' Acquisition Function run number = 3 \n",
        "\n",
        "np.random.seed(run_num_3)\n",
        "surrogate_stp_3 = tStudentProcess(cov_func, nu = df, optimize=hyperOpt)\n",
        "\n",
        "stp_3 = GPGO(surrogate_stp_3, Acquisition_new(util_stp), f_syn_polarity, param, n_jobs = -1) # Define BayesOpt\n",
        "stp_3.run(max_iter = max_iter, init_evals = n_init) # run\n"
      ]
    },
    {
      "cell_type": "code",
      "execution_count": null,
      "metadata": {
        "id": "zhFOxkF0JLk_",
        "colab": {
          "base_uri": "https://localhost:8080/"
        },
        "outputId": "bd4880ca-6cd1-4369-a19f-3587a68f6b29"
      },
      "outputs": [
        {
          "output_type": "stream",
          "name": "stdout",
          "text": [
            "Evaluation \t Proposed point \t  Current eval. \t Best eval.\n",
            "init   \t [2.80217903 0.188929  ]. \t  -63.70212732873661 \t -2.3196402150601703\n",
            "init   \t [2.83610616 0.85926397]. \t  -71.43837110827245 \t -2.3196402150601703\n",
            "init   \t [ 1.18637295 -1.13564202]. \t  -2.5463267765341566 \t -2.3196402150601703\n",
            "init   \t [ 2.85764673 -1.97507898]. \t  -113.76785286351424 \t -2.3196402150601703\n",
            "init   \t [-1.48210583 -0.26083387]. \t  -2.3196402150601703 \t -2.3196402150601703\n",
            "1      \t [-0.41809206 -2.        ]. \t  -49.473002055833206 \t -2.3196402150601703\n",
            "2      \t [-3.  2.]. \t  -150.89999999999998 \t -2.3196402150601703\n",
            "3      \t [-3. -2.]. \t  -162.89999999999998 \t -2.3196402150601703\n",
            "4      \t [0.17966787 2.        ]. \t  -48.486280842301525 \t -2.3196402150601703\n",
            "5      \t [ 0.11836111 -0.0261375 ]. \t  \u001b[92m-0.0498017029450446\u001b[0m \t -0.0498017029450446\n",
            "6      \t [-0.91904347  0.54719267]. \t  -0.7392818077040502 \t -0.0498017029450446\n",
            "7      \t [ 0.79870998 -0.06637694]. \t  -1.713102681993049 \t -0.0498017029450446\n",
            "8      \t [-0.44268446 -0.32460886]. \t  -0.4723660417172856 \t -0.0498017029450446\n",
            "9      \t [1.75891217 2.        ]. \t  -53.66352185446405 \t -0.0498017029450446\n",
            "10     \t [-3.          0.04663944]. \t  -108.75139966579 \t -0.0498017029450446\n",
            "11     \t [ 0.93365011 -2.        ]. \t  -48.24458493427883 \t -0.0498017029450446\n",
            "12     \t [-1.11102711  2.        ]. \t  -48.142647965865876 \t -0.0498017029450446\n",
            "13     \t [ 0.515111   -0.80964184]. \t  \u001b[92m0.40057564355994757\u001b[0m \t 0.40057564355994757\n",
            "14     \t [3. 2.]. \t  -162.89999999999998 \t 0.40057564355994757\n",
            "15     \t [1.10188183 1.02945406]. \t  -3.7452102351686904 \t 0.40057564355994757\n",
            "16     \t [-1.27668793 -1.07818779]. \t  -4.5161806898325425 \t 0.40057564355994757\n",
            "17     \t [-0.01593928  0.85261477]. \t  \u001b[92m0.8065452091438507\u001b[0m \t 0.8065452091438507\n",
            "18     \t [1.68123748 0.61343707]. \t  -2.1484932884721584 \t 0.8065452091438507\n",
            "19     \t [0.81554141 0.09886416]. \t  -1.8714452476209362 \t 0.8065452091438507\n",
            "20     \t [-0.58165172 -0.10713456]. \t  -1.1427484687418759 \t 0.8065452091438507\n"
          ]
        }
      ],
      "source": [
        "### Bayesian optimisation runs (x20): 'STP' Acquisition Function run number = 4 \n",
        "\n",
        "np.random.seed(run_num_4)\n",
        "surrogate_stp_4 = tStudentProcess(cov_func, nu = df, optimize=hyperOpt)\n",
        "\n",
        "stp_4 = GPGO(surrogate_stp_4, Acquisition_new(util_stp), f_syn_polarity, param, n_jobs = -1) # Define BayesOpt\n",
        "stp_4.run(max_iter = max_iter, init_evals = n_init) # run\n"
      ]
    },
    {
      "cell_type": "code",
      "execution_count": null,
      "metadata": {
        "id": "YdzaqIajJLlA",
        "colab": {
          "base_uri": "https://localhost:8080/"
        },
        "outputId": "d4978b8f-c2d5-4dd3-f31d-d82b8b4a36f0"
      },
      "outputs": [
        {
          "output_type": "stream",
          "name": "stdout",
          "text": [
            "Evaluation \t Proposed point \t  Current eval. \t Best eval.\n",
            "init   \t [-1.66804097  1.48292922]. \t  -10.126030408244933 \t 0.6512780061070701\n",
            "init   \t [-1.75968507  1.67444363]. \t  -19.4300499315822 \t 0.6512780061070701\n",
            "init   \t [-0.06953287  0.44697545]. \t  0.6512780061070701 \t 0.6512780061070701\n",
            "init   \t [1.59544714 0.07367195]. \t  -2.168775388880503 \t 0.6512780061070701\n",
            "init   \t [-1.21919699 -1.24911509]. \t  -7.420330936884148 \t 0.6512780061070701\n",
            "1      \t [ 3. -2.]. \t  -150.89999999999998 \t 0.6512780061070701\n",
            "2      \t [3. 2.]. \t  -162.89999999999998 \t 0.6512780061070701\n",
            "3      \t [-3. -2.]. \t  -162.89999999999998 \t 0.6512780061070701\n",
            "4      \t [ 0.19710681 -2.        ]. \t  -47.75804055048213 \t 0.6512780061070701\n",
            "5      \t [-3.          0.51702854]. \t  -106.56547707409021 \t 0.6512780061070701\n",
            "6      \t [0.10641326 2.        ]. \t  -48.257852850665984 \t 0.6512780061070701\n",
            "7      \t [-1.16609066  0.00353349]. \t  -2.3901229776769553 \t 0.6512780061070701\n",
            "8      \t [ 0.37699587 -0.34833229]. \t  0.030731269504268688 \t 0.6512780061070701\n",
            "9      \t [-0.47708485 -0.34922724]. \t  -0.5438461563898098 \t 0.6512780061070701\n",
            "10     \t [0.87486215 0.33059514]. \t  -1.8806188781107633 \t 0.6512780061070701\n",
            "11     \t [ 3.        -0.0284071]. \t  -108.81155345986858 \t 0.6512780061070701\n",
            "12     \t [ 1.36616946 -0.91356478]. \t  -0.517266125205182 \t 0.6512780061070701\n",
            "13     \t [-0.84721273  1.20158844]. \t  -3.457580035728741 \t 0.6512780061070701\n",
            "14     \t [-1.04815048 -2.        ]. \t  -52.39815119821702 \t 0.6512780061070701\n",
            "15     \t [-3.  2.]. \t  -150.89999999999998 \t 0.6512780061070701\n",
            "16     \t [ 1.29013016 -2.        ]. \t  -47.79677645978303 \t 0.6512780061070701\n",
            "17     \t [ 1.20198326 -0.32516326]. \t  -1.6318259254809981 \t 0.6512780061070701\n",
            "18     \t [1.36640714 1.33857361]. \t  -9.821101009291317 \t 0.6512780061070701\n",
            "19     \t [-1.06608527  0.57895409]. \t  -0.8143429945230527 \t 0.6512780061070701\n",
            "20     \t [0.56291138 0.03695307]. \t  -1.0825759245185471 \t 0.6512780061070701\n"
          ]
        }
      ],
      "source": [
        "### Bayesian optimisation runs (x20): 'STP' Acquisition Function run number = 5 \n",
        "\n",
        "np.random.seed(run_num_5)\n",
        "surrogate_stp_5 = tStudentProcess(cov_func, nu = df, optimize=hyperOpt)\n",
        "\n",
        "stp_5 = GPGO(surrogate_stp_5, Acquisition_new(util_stp), f_syn_polarity, param, n_jobs = -1) # Define BayesOpt\n",
        "stp_5.run(max_iter = max_iter, init_evals = n_init) # run\n"
      ]
    },
    {
      "cell_type": "code",
      "execution_count": null,
      "metadata": {
        "id": "_KSBbC1zJLlA",
        "colab": {
          "base_uri": "https://localhost:8080/"
        },
        "outputId": "8e18b98c-7aea-43cf-9d67-0e882375435f"
      },
      "outputs": [
        {
          "output_type": "stream",
          "name": "stdout",
          "text": [
            "Evaluation \t Proposed point \t  Current eval. \t Best eval.\n",
            "init   \t [ 2.35716091 -0.67208078]. \t  -11.995980169715628 \t 0.3096187466378422\n",
            "init   \t [ 1.92737474 -1.8332135 ]. \t  -31.167927894156623 \t 0.3096187466378422\n",
            "init   \t [-2.35405992  0.38020826]. \t  -13.013381745677465 \t 0.3096187466378422\n",
            "init   \t [ 0.17890417 -0.32477029]. \t  0.3096187466378422 \t 0.3096187466378422\n",
            "init   \t [-0.9875529   0.49007773]. \t  -0.9989196280666852 \t 0.3096187466378422\n",
            "1      \t [0.56671746 1.92261417]. \t  -42.037731625425266 \t 0.3096187466378422\n",
            "2      \t [-1.20714599 -2.        ]. \t  -52.81530673872088 \t 0.3096187466378422\n",
            "3      \t [3. 2.]. \t  -162.89999999999998 \t 0.3096187466378422\n",
            "4      \t [-3.  2.]. \t  -150.89999999999998 \t 0.3096187466378422\n",
            "5      \t [-3.         -1.13365555]. \t  -113.766965235226 \t 0.3096187466378422\n",
            "6      \t [1.10884653 0.04963357]. \t  -2.408245781226089 \t 0.3096187466378422\n",
            "7      \t [ 0.4787629 -2.       ]. \t  -47.85301213882792 \t 0.3096187466378422\n",
            "8      \t [ 3. -2.]. \t  -150.89999999999998 \t 0.3096187466378422\n",
            "9      \t [-0.83076512  2.        ]. \t  -48.20843207614225 \t 0.3096187466378422\n",
            "10     \t [-0.74874137 -0.14698438]. \t  -1.666684441354707 \t 0.3096187466378422\n",
            "11     \t [0.17627404 0.34334221]. \t  0.23315415552407526 \t 0.3096187466378422\n",
            "12     \t [ 1.37144907 -0.96211978]. \t  -0.717631727127727 \t 0.3096187466378422\n",
            "13     \t [3.         0.13895703]. \t  -109.24112622509668 \t 0.3096187466378422\n",
            "14     \t [-1.68020746 -0.03437426]. \t  -2.108593748106545 \t 0.3096187466378422\n",
            "15     \t [-1.72415196  0.73384716]. \t  0.16958128980442755 \t 0.3096187466378422\n",
            "16     \t [ 1.77506811 -0.48152686]. \t  -0.6148118918669264 \t 0.3096187466378422\n",
            "17     \t [1.07168342 0.92954103]. \t  -2.855263312847022 \t 0.3096187466378422\n",
            "18     \t [-0.43844773 -0.98243597]. \t  -0.9900266656276315 \t 0.3096187466378422\n",
            "19     \t [ 1.89627215 -1.03352038]. \t  -1.0597933832284727 \t 0.3096187466378422\n",
            "20     \t [ 1.01752165 -0.4401531 ]. \t  -1.1875820113636193 \t 0.3096187466378422\n"
          ]
        }
      ],
      "source": [
        "### Bayesian optimisation runs (x20): 'STP' Acquisition Function run number = 6 \n",
        "\n",
        "np.random.seed(run_num_6)\n",
        "surrogate_stp_6 = tStudentProcess(cov_func, nu = df, optimize=hyperOpt)\n",
        "\n",
        "stp_6 = GPGO(surrogate_stp_6, Acquisition_new(util_stp), f_syn_polarity, param, n_jobs = -1) # Define BayesOpt\n",
        "stp_6.run(max_iter = max_iter, init_evals = n_init) # run\n"
      ]
    },
    {
      "cell_type": "code",
      "execution_count": null,
      "metadata": {
        "id": "WB64BgXFJLlB",
        "colab": {
          "base_uri": "https://localhost:8080/"
        },
        "outputId": "b1cfb445-a484-4734-ad6d-d5b01507042b"
      },
      "outputs": [
        {
          "output_type": "stream",
          "name": "stdout",
          "text": [
            "Evaluation \t Proposed point \t  Current eval. \t Best eval.\n",
            "init   \t [-2.54215026  1.11967517]. \t  -26.53843863832488 \t 0.46481072558790276\n",
            "init   \t [-0.36954461  0.89386071]. \t  0.46481072558790276 \t 0.46481072558790276\n",
            "init   \t [2.86793707 0.15398348]. \t  -76.66051064695093 \t 0.46481072558790276\n",
            "init   \t [ 0.00672278 -1.71179547]. \t  -22.613010892757885 \t 0.46481072558790276\n",
            "init   \t [-1.38936612e+00 -4.69996698e-04]. \t  -2.294585534557751 \t 0.46481072558790276\n",
            "1      \t [-3. -2.]. \t  -162.89999999999998 \t 0.46481072558790276\n",
            "2      \t [0.85456462 2.        ]. \t  -51.64012319320105 \t 0.46481072558790276\n",
            "3      \t [ 3. -2.]. \t  -150.89999999999998 \t 0.46481072558790276\n",
            "4      \t [-1.25784088  2.        ]. \t  -47.87634443108007 \t 0.46481072558790276\n",
            "5      \t [ 0.27255731 -0.15226793]. \t  -0.15360392424484975 \t 0.46481072558790276\n",
            "6      \t [3. 2.]. \t  -162.89999999999998 \t 0.46481072558790276\n",
            "7      \t [-0.62134436 -0.39809425]. \t  -0.964353080099863 \t 0.46481072558790276\n",
            "8      \t [-3.  2.]. \t  -150.89999999999998 \t 0.46481072558790276\n",
            "9      \t [ 0.97046497 -0.395861  ]. \t  -1.270217800518206 \t 0.46481072558790276\n",
            "10     \t [-3.          0.00935207]. \t  -108.87159398103927 \t 0.46481072558790276\n",
            "11     \t [-0.41927524  0.26307081]. \t  -0.27211592049717126 \t 0.46481072558790276\n",
            "12     \t [0.57033065 0.3877187 ]. \t  -0.8006054236711596 \t 0.46481072558790276\n",
            "13     \t [-1.5548626   0.92056538]. \t  -0.15797070165325955 \t 0.46481072558790276\n",
            "14     \t [-1.12314952 -2.        ]. \t  -52.619562235581306 \t 0.46481072558790276\n",
            "15     \t [ 1.13872921 -2.        ]. \t  -48.10510818236259 \t 0.46481072558790276\n",
            "16     \t [-0.17000466  2.        ]. \t  -47.77385093005141 \t 0.46481072558790276\n",
            "17     \t [ 0.5943003  -1.01989918]. \t  -0.7266061281484693 \t 0.46481072558790276\n",
            "18     \t [1.47093826 0.63846413]. \t  -2.173251072895791 \t 0.46481072558790276\n",
            "19     \t [-1.99667787  0.59894744]. \t  -1.5750942280024955 \t 0.46481072558790276\n",
            "20     \t [-1.45843809 -0.88400951]. \t  -2.8211004298877764 \t 0.46481072558790276\n"
          ]
        }
      ],
      "source": [
        "### Bayesian optimisation runs (x20): 'STP' Acquisition Function run number = 7 \n",
        "\n",
        "np.random.seed(run_num_7)\n",
        "surrogate_stp_7 = tStudentProcess(cov_func, nu = df, optimize=hyperOpt)\n",
        "\n",
        "stp_7 = GPGO(surrogate_stp_7, Acquisition_new(util_stp), f_syn_polarity, param, n_jobs = -1) # Define BayesOpt\n",
        "stp_7.run(max_iter = max_iter, init_evals = n_init) # run\n"
      ]
    },
    {
      "cell_type": "code",
      "execution_count": null,
      "metadata": {
        "id": "yCh1YYTlJLlB",
        "colab": {
          "base_uri": "https://localhost:8080/"
        },
        "outputId": "6fcaa42a-faef-4182-95a6-f57fde951132"
      },
      "outputs": [
        {
          "output_type": "stream",
          "name": "stdout",
          "text": [
            "Evaluation \t Proposed point \t  Current eval. \t Best eval.\n",
            "init   \t [2.24057642 1.87416265]. \t  -48.82879577505094 \t -0.03190064766213015\n",
            "init   \t [2.21516724 0.12342277]. \t  -8.660623551418242 \t -0.03190064766213015\n",
            "init   \t [-1.60363003 -1.95440478]. \t  -48.28332373939171 \t -0.03190064766213015\n",
            "init   \t [-0.41718709 -0.39059456]. \t  -0.2801229037700297 \t -0.03190064766213015\n",
            "init   \t [ 0.13604803 -0.08643282]. \t  -0.03190064766213015 \t -0.03190064766213015\n",
            "1      \t [-1.572876    1.65393276]. \t  -18.47840921603359 \t -0.03190064766213015\n",
            "2      \t [ 3. -2.]. \t  -150.89999999999998 \t -0.03190064766213015\n",
            "3      \t [-3.         0.1668776]. \t  -108.29107673853548 \t -0.03190064766213015\n",
            "4      \t [0.04545859 2.        ]. \t  -48.09917414747459 \t -0.03190064766213015\n",
            "5      \t [ 0.41841815 -2.        ]. \t  -47.80088069269208 \t -0.03190064766213015\n",
            "6      \t [0.99785393 0.02699322]. \t  -2.253905941970659 \t -0.03190064766213015\n",
            "7      \t [-3.  2.]. \t  -150.89999999999998 \t -0.03190064766213015\n",
            "8      \t [-0.69871543  0.47199758]. \t  -0.4686883530428867 \t -0.03190064766213015\n",
            "9      \t [-3. -2.]. \t  -162.89999999999998 \t -0.03190064766213015\n",
            "10     \t [3.         0.77150121]. \t  -110.25076654405846 \t -0.03190064766213015\n",
            "11     \t [ 1.07750391 -0.46520695]. \t  -1.1554320767396744 \t -0.03190064766213015\n",
            "12     \t [ 2.01721125 -0.61261106]. \t  -1.7902204523558434 \t -0.03190064766213015\n",
            "13     \t [-0.9980373  2.       ]. \t  -48.234104560038304 \t -0.03190064766213015\n",
            "14     \t [1.21543693 2.        ]. \t  -52.83169607974156 \t -0.03190064766213015\n",
            "15     \t [-1.60720787  0.60485844]. \t  -0.1653564853107946 \t -0.03190064766213015\n",
            "16     \t [-0.67643591 -2.        ]. \t  -50.775397839483446 \t -0.03190064766213015\n",
            "17     \t [-1.46146283 -0.58606498]. \t  -2.165823251549324 \t -0.03190064766213015\n",
            "18     \t [ 1.71071636 -0.1870232 ]. \t  -1.6203828324868925 \t -0.03190064766213015\n",
            "19     \t [-0.99859577  0.08746531]. \t  -2.113370364808872 \t -0.03190064766213015\n",
            "20     \t [0.47593675 0.64227844]. \t  -0.1384813344821364 \t -0.03190064766213015\n"
          ]
        }
      ],
      "source": [
        "### Bayesian optimisation runs (x20): 'STP' Acquisition Function run number = 8 \n",
        "\n",
        "np.random.seed(run_num_8)\n",
        "surrogate_stp_8 = tStudentProcess(cov_func, nu = df, optimize=hyperOpt)\n",
        "\n",
        "stp_8 = GPGO(surrogate_stp_8, Acquisition_new(util_stp), f_syn_polarity, param, n_jobs = -1) # Define BayesOpt\n",
        "stp_8.run(max_iter = max_iter, init_evals = n_init) # run\n"
      ]
    },
    {
      "cell_type": "code",
      "execution_count": null,
      "metadata": {
        "id": "IDhy8DkEJLlC",
        "colab": {
          "base_uri": "https://localhost:8080/"
        },
        "outputId": "fad3b6fd-d9c4-46f1-fff0-dd8bee14d295"
      },
      "outputs": [
        {
          "output_type": "stream",
          "name": "stdout",
          "text": [
            "Evaluation \t Proposed point \t  Current eval. \t Best eval.\n",
            "init   \t [-2.93775508  0.00749837]. \t  -92.35857237145763 \t -1.395407492769129\n",
            "init   \t [-0.02536024 -1.46468188]. \t  -9.867672894921913 \t -1.395407492769129\n",
            "init   \t [-2.14733349 -1.1257653 ]. \t  -10.24680089963123 \t -1.395407492769129\n",
            "init   \t [-0.48895092 -1.00759533]. \t  -1.395407492769129 \t -1.395407492769129\n",
            "init   \t [-2.49564209 -0.61800544]. \t  -24.58298635463645 \t -1.395407492769129\n",
            "1      \t [3. 2.]. \t  -162.89999999999998 \t -1.395407492769129\n",
            "2      \t [ 3. -2.]. \t  -150.89999999999998 \t -1.395407492769129\n",
            "3      \t [-0.45826775  2.        ]. \t  -47.8339710080375 \t -1.395407492769129\n",
            "4      \t [0.88311223 0.06254312]. \t  -2.0400409378221127 \t -1.395407492769129\n",
            "5      \t [-1.47364438 -2.        ]. \t  -53.14404387606782 \t -1.395407492769129\n",
            "6      \t [-3.  2.]. \t  -150.89999999999998 \t -1.395407492769129\n",
            "7      \t [-0.45724247  0.13749311]. \t  \u001b[92m-0.6104811323486856\u001b[0m \t -0.6104811323486856\n",
            "8      \t [-3. -2.]. \t  -162.89999999999998 \t -0.6104811323486856\n",
            "9      \t [ 0.7725553 -2.       ]. \t  -48.16506314303547 \t -0.6104811323486856\n",
            "10     \t [-1.54093601 -0.26997573]. \t  -2.2660727146537387 \t -0.6104811323486856\n",
            "11     \t [0.85139587 0.96808388]. \t  -2.511778709844967 \t -0.6104811323486856\n",
            "12     \t [ 3.        -0.0155792]. \t  -108.85229178055033 \t -0.6104811323486856\n",
            "13     \t [0.9714859 2.       ]. \t  -52.127797658990275 \t -0.6104811323486856\n",
            "14     \t [0.17035119 0.73648537]. \t  \u001b[92m0.7530263933793924\u001b[0m \t 0.7530263933793924\n",
            "15     \t [ 0.25922354 -0.59105638]. \t  \u001b[92m0.8030250604853983\u001b[0m \t 0.8030250604853983\n",
            "16     \t [-1.54613359 -0.85611195]. \t  -2.6557419842888867 \t 0.8030250604853983\n",
            "17     \t [-1.23288903  0.9456111 ]. \t  -0.8544405675622913 \t 0.8030250604853983\n",
            "18     \t [ 1.26020806 -0.7670283 ]. \t  -0.4557575749000221 \t 0.8030250604853983\n",
            "19     \t [-0.66594282  0.85415819]. \t  -0.031995693500912914 \t 0.8030250604853983\n",
            "20     \t [1.45779223 0.38842708]. \t  -2.2694878254914084 \t 0.8030250604853983\n"
          ]
        }
      ],
      "source": [
        "### Bayesian optimisation runs (x20): 'STP' Acquisition Function run number = 9 \n",
        "\n",
        "np.random.seed(run_num_9)\n",
        "surrogate_stp_9 = tStudentProcess(cov_func, nu = df, optimize=hyperOpt)\n",
        "\n",
        "stp_9 = GPGO(surrogate_stp_9, Acquisition_new(util_stp), f_syn_polarity, param, n_jobs = -1) # Define BayesOpt\n",
        "stp_9.run(max_iter = max_iter, init_evals = n_init) # run\n"
      ]
    },
    {
      "cell_type": "code",
      "execution_count": null,
      "metadata": {
        "id": "RqwHOur5JLlC",
        "colab": {
          "base_uri": "https://localhost:8080/"
        },
        "outputId": "cfcd0f68-9499-416a-c473-2c082a56e887"
      },
      "outputs": [
        {
          "output_type": "stream",
          "name": "stdout",
          "text": [
            "Evaluation \t Proposed point \t  Current eval. \t Best eval.\n",
            "init   \t [ 1.62792386 -1.9169922 ]. \t  -38.25414770674631 \t -0.7775687473184012\n",
            "init   \t [0.80188941 0.99521553]. \t  -2.552651714051803 \t -0.7775687473184012\n",
            "init   \t [-0.00895793 -1.10081342]. \t  -1.0367630165263393 \t -0.7775687473184012\n",
            "init   \t [-1.81162281  1.04212285]. \t  -0.7775687473184012 \t -0.7775687473184012\n",
            "init   \t [-1.98533498 -1.64664074]. \t  -25.383481436170044 \t -0.7775687473184012\n",
            "1      \t [3. 2.]. \t  -162.89999999999998 \t -0.7775687473184012\n",
            "2      \t [-3.  2.]. \t  -150.89999999999998 \t -0.7775687473184012\n",
            "3      \t [-0.60200347  2.        ]. \t  -47.98567861522877 \t -0.7775687473184012\n",
            "4      \t [ 3.         -0.33695229]. \t  -107.4865582084831 \t -0.7775687473184012\n",
            "5      \t [-9.55367744e-01  3.76008344e-05]. \t  -2.154879722843064 \t -0.7775687473184012\n",
            "6      \t [-3.         -0.43996986]. \t  -109.59549843835416 \t -0.7775687473184012\n",
            "7      \t [-0.5298836 -2.       ]. \t  -50.02469751037198 \t -0.7775687473184012\n",
            "8      \t [0.32153299 0.00595266]. \t  \u001b[92m-0.39322933872971105\u001b[0m \t -0.39322933872971105\n",
            "9      \t [-0.43378014  0.41381311]. \t  \u001b[92m0.06664610070802801\u001b[0m \t 0.06664610070802801\n",
            "10     \t [ 0.68320943 -0.19010516]. \t  -1.1742375957425943 \t 0.06664610070802801\n",
            "11     \t [-3. -2.]. \t  -162.89999999999998 \t 0.06664610070802801\n",
            "12     \t [ 3. -2.]. \t  -150.89999999999998 \t 0.06664610070802801\n",
            "13     \t [0.98287193 2.        ]. \t  -52.17062510166948 \t 0.06664610070802801\n",
            "14     \t [-1.26396111 -1.09420524]. \t  -4.71757375436537 \t 0.06664610070802801\n",
            "15     \t [ 0.73675466 -2.        ]. \t  -48.13228750128014 \t 0.06664610070802801\n",
            "16     \t [1.60548442 0.59021878]. \t  -2.106069385232841 \t 0.06664610070802801\n",
            "17     \t [-1.19708125  0.94303456]. \t  -0.8779296006942459 \t 0.06664610070802801\n",
            "18     \t [-1.88524785  0.37635383]. \t  -1.4589343076196322 \t 0.06664610070802801\n",
            "19     \t [ 1.25516913 -1.02195787]. \t  -1.295701369689992 \t 0.06664610070802801\n",
            "20     \t [-1.48632481 -2.        ]. \t  -53.15432702626697 \t 0.06664610070802801\n"
          ]
        }
      ],
      "source": [
        "### Bayesian optimisation runs (x20): 'STP' Acquisition Function run number = 10 \n",
        "\n",
        "np.random.seed(run_num_10)\n",
        "surrogate_stp_10 = tStudentProcess(cov_func, nu = df, optimize=hyperOpt)\n",
        "\n",
        "stp_10 = GPGO(surrogate_stp_10, Acquisition_new(util_stp), f_syn_polarity, param, n_jobs = -1) # Define BayesOpt\n",
        "stp_10.run(max_iter = max_iter, init_evals = n_init) # run\n"
      ]
    },
    {
      "cell_type": "code",
      "execution_count": null,
      "metadata": {
        "id": "iXLW3-5DJLlD",
        "colab": {
          "base_uri": "https://localhost:8080/"
        },
        "outputId": "851fe5e4-a318-4cdf-cd9c-138ed02590da"
      },
      "outputs": [
        {
          "output_type": "stream",
          "name": "stdout",
          "text": [
            "Evaluation \t Proposed point \t  Current eval. \t Best eval.\n",
            "init   \t [-1.91838187 -1.92209903]. \t  -46.39910375151002 \t 0.6254688257880329\n",
            "init   \t [-0.22068884  0.89973572]. \t  0.6254688257880329 \t 0.6254688257880329\n",
            "init   \t [-0.47877837 -0.05829161]. \t  -0.8249470187639529 \t 0.6254688257880329\n",
            "init   \t [-2.92331511 -0.05051357]. \t  -88.99028404075307 \t 0.6254688257880329\n",
            "init   \t [2.65083991 1.40318036]. \t  -51.423425402262914 \t 0.6254688257880329\n",
            "1      \t [ 1.81317346 -2.        ]. \t  -46.67106295476007 \t 0.6254688257880329\n",
            "2      \t [-1.08906841  2.        ]. \t  -48.16811564038367 \t 0.6254688257880329\n",
            "3      \t [0.72440158 0.05351777]. \t  -1.5962645173419658 \t 0.6254688257880329\n",
            "4      \t [0.81034355 2.        ]. \t  -51.436181020910894 \t 0.6254688257880329\n",
            "5      \t [ 0.03635115 -0.95057318]. \t  0.37773497716060345 \t 0.6254688257880329\n",
            "6      \t [ 3.         -0.59586031]. \t  -106.19646164630504 \t 0.6254688257880329\n",
            "7      \t [-3.  2.]. \t  -150.89999999999998 \t 0.6254688257880329\n",
            "8      \t [-0.04660988 -2.        ]. \t  -48.10189976759773 \t 0.6254688257880329\n",
            "9      \t [-3. -2.]. \t  -162.89999999999998 \t 0.6254688257880329\n",
            "10     \t [-0.01071443 -0.00090654]. \t  -0.00046559443193753863 \t 0.6254688257880329\n",
            "11     \t [-1.10905949 -1.11830167]. \t  -4.857059717246595 \t 0.6254688257880329\n",
            "12     \t [ 1.01417908 -0.857114  ]. \t  -0.6062561736250212 \t 0.6254688257880329\n",
            "13     \t [-1.23041063  0.68852116]. \t  -0.5547167667913739 \t 0.6254688257880329\n",
            "14     \t [-1.50310238 -0.22844883]. \t  -2.3075492629943772 \t 0.6254688257880329\n",
            "15     \t [3. 2.]. \t  -162.89999999999998 \t 0.6254688257880329\n",
            "16     \t [-0.66751471 -0.10897814]. \t  -1.4206656771884631 \t 0.6254688257880329\n",
            "17     \t [1.93753984 0.71619462]. \t  -3.444617302524339 \t 0.6254688257880329\n",
            "18     \t [3.         0.65619815]. \t  -109.88786211509003 \t 0.6254688257880329\n",
            "19     \t [ 3. -2.]. \t  -150.89999999999998 \t 0.6254688257880329\n",
            "20     \t [0.91022078 0.25819561]. \t  -2.0482327171925636 \t 0.6254688257880329\n"
          ]
        }
      ],
      "source": [
        "### Bayesian optimisation runs (x20): 'STP' Acquisition Function run number = 11 \n",
        "\n",
        "np.random.seed(run_num_11)\n",
        "surrogate_stp_11 = tStudentProcess(cov_func, nu = df, optimize=hyperOpt)\n",
        "\n",
        "stp_11 = GPGO(surrogate_stp_11, Acquisition_new(util_stp), f_syn_polarity, param, n_jobs = -1) # Define BayesOpt\n",
        "stp_11.run(max_iter = max_iter, init_evals = n_init) # run\n"
      ]
    },
    {
      "cell_type": "code",
      "execution_count": null,
      "metadata": {
        "id": "Sv5SygMbJLlD",
        "colab": {
          "base_uri": "https://localhost:8080/"
        },
        "outputId": "6958097b-6175-47b6-9257-354a47bb0169"
      },
      "outputs": [
        {
          "output_type": "stream",
          "name": "stdout",
          "text": [
            "Evaluation \t Proposed point \t  Current eval. \t Best eval.\n",
            "init   \t [-2.07502295  0.96019879]. \t  -2.6185857163917037 \t -1.9967735906956543\n",
            "init   \t [-1.42010991  0.13495757]. \t  -1.9967735906956543 \t -1.9967735906956543\n",
            "init   \t [-2.91255023  1.67498803]. \t  -101.67816714332157 \t -1.9967735906956543\n",
            "init   \t [ 2.40428912 -1.86631429]. \t  -47.44624883788006 \t -1.9967735906956543\n",
            "init   \t [ 2.74169602 -1.45116271]. \t  -58.32400185681089 \t -1.9967735906956543\n",
            "1      \t [-0.34447175  1.57379662]. \t  -14.535021731863553 \t -1.9967735906956543\n",
            "2      \t [3. 2.]. \t  -162.89999999999998 \t -1.9967735906956543\n",
            "3      \t [-3. -2.]. \t  -162.89999999999998 \t -1.9967735906956543\n",
            "4      \t [-0.03499538 -2.        ]. \t  -48.07488632075922 \t -1.9967735906956543\n",
            "5      \t [0.67103677 0.17048664]. \t  \u001b[92m-1.4073155855211317\u001b[0m \t -1.4073155855211317\n",
            "6      \t [-0.45790374  0.01342249]. \t  \u001b[92m-0.7425850273908726\u001b[0m \t -0.7425850273908726\n",
            "7      \t [0.65349746 2.        ]. \t  -50.65819630721252 \t -0.7425850273908726\n",
            "8      \t [ 1.45431761 -0.12398429]. \t  -1.9789791093916551 \t -0.7425850273908726\n",
            "9      \t [-1.34634052  2.        ]. \t  -47.643229265823486 \t -0.7425850273908726\n",
            "10     \t [-3.          0.09610694]. \t  -108.57507426111984 \t -0.7425850273908726\n",
            "11     \t [-0.69913627  0.39645345]. \t  \u001b[92m-0.6853069856378431\u001b[0m \t -0.6853069856378431\n",
            "12     \t [ 0.81924813 -0.90298104]. \t  \u001b[92m-0.4975505746220378\u001b[0m \t -0.4975505746220378\n",
            "13     \t [3.         0.07062108]. \t  -109.09201338212397 \t -0.4975505746220378\n",
            "14     \t [-0.90965981 -1.11694645]. \t  -4.312348636065574 \t -0.4975505746220378\n",
            "15     \t [-1.39129751  0.96134963]. \t  -0.6741170923984694 \t -0.4975505746220378\n",
            "16     \t [ 1.54350374 -0.98708363]. \t  \u001b[92m-0.494125874260203\u001b[0m \t -0.494125874260203\n",
            "17     \t [-1.23250711 -2.        ]. \t  -52.86384455871537 \t -0.494125874260203\n",
            "18     \t [ 1.21183873 -2.        ]. \t  -47.977291182058224 \t -0.494125874260203\n",
            "19     \t [0.16881524 0.92488516]. \t  \u001b[92m0.22629641884626456\u001b[0m \t 0.22629641884626456\n",
            "20     \t [ 0.36988444 -0.26645191]. \t  -0.14642258526807028 \t 0.22629641884626456\n"
          ]
        }
      ],
      "source": [
        "### Bayesian optimisation runs (x20): 'STP' Acquisition Function run number = 12\n",
        "\n",
        "np.random.seed(run_num_12)\n",
        "surrogate_stp_12 = tStudentProcess(cov_func, nu = df, optimize=hyperOpt)\n",
        "\n",
        "stp_12 = GPGO(surrogate_stp_12, Acquisition_new(util_stp), f_syn_polarity, param, n_jobs = -1) # Define BayesOpt\n",
        "stp_12.run(max_iter = max_iter, init_evals = n_init) # run\n"
      ]
    },
    {
      "cell_type": "code",
      "execution_count": null,
      "metadata": {
        "id": "NSskozWHJLlE",
        "colab": {
          "base_uri": "https://localhost:8080/"
        },
        "outputId": "ca276ab3-4833-44af-92a1-93a7700d5d73"
      },
      "outputs": [
        {
          "output_type": "stream",
          "name": "stdout",
          "text": [
            "Evaluation \t Proposed point \t  Current eval. \t Best eval.\n",
            "init   \t [ 1.66621446 -1.04983512]. \t  -0.752930921147986 \t -0.752930921147986\n",
            "init   \t [1.9456712  1.86299679]. \t  -41.05776363102951 \t -0.752930921147986\n",
            "init   \t [ 2.83560668 -0.18620301]. \t  -69.0134544723513 \t -0.752930921147986\n",
            "init   \t [0.65425478 1.10210606]. \t  -3.117452174069064 \t -0.752930921147986\n",
            "init   \t [0.84968007 0.88807292]. \t  -2.006601529383926 \t -0.752930921147986\n",
            "1      \t [ 0.01599939 -1.07052351]. \t  \u001b[92m-0.6532664259327691\u001b[0m \t -0.6532664259327691\n",
            "2      \t [-1.24857327  1.06806745]. \t  -1.7038119032681471 \t -0.6532664259327691\n",
            "3      \t [-3. -2.]. \t  -162.89999999999998 \t -0.6532664259327691\n",
            "4      \t [-3.  2.]. \t  -150.89999999999998 \t -0.6532664259327691\n",
            "5      \t [ 0.93767019 -2.        ]. \t  -48.24474087658221 \t -0.6532664259327691\n",
            "6      \t [-1.0026899  -0.18533094]. \t  -2.2907693369747983 \t -0.6532664259327691\n",
            "7      \t [ 3. -2.]. \t  -150.89999999999998 \t -0.6532664259327691\n",
            "8      \t [ 0.80070143 -0.34731382]. \t  -1.0867536357740923 \t -0.6532664259327691\n",
            "9      \t [-0.29092871  2.        ]. \t  -47.741858672906154 \t -0.6532664259327691\n",
            "10     \t [-0.8556019 -2.       ]. \t  -51.644794256872075 \t -0.6532664259327691\n",
            "11     \t [-2.33671533  0.15038917]. \t  -13.055509018145486 \t -0.6532664259327691\n",
            "12     \t [-0.10324269  0.14531164]. \t  \u001b[92m0.05528277938025172\u001b[0m \t 0.05528277938025172\n",
            "13     \t [3. 2.]. \t  -162.89999999999998 \t 0.05528277938025172\n",
            "14     \t [1.06450099 2.        ]. \t  -52.45014685224808 \t 0.05528277938025172\n",
            "15     \t [-0.48795813  0.89157605]. \t  \u001b[92m0.24931258419196117\u001b[0m \t 0.24931258419196117\n",
            "16     \t [-1.53809662  0.4269197 ]. \t  -0.8704915141238257 \t 0.24931258419196117\n",
            "17     \t [ 1.68300056 -0.32583777]. \t  -1.1287053275591998 \t 0.24931258419196117\n",
            "18     \t [1.78689212 0.96943915]. \t  -3.719129987311758 \t 0.24931258419196117\n",
            "19     \t [ 1.03204431 -0.98449372]. \t  -1.1455118163838285 \t 0.24931258419196117\n",
            "20     \t [-0.69136219 -0.89017668]. \t  -1.4260075033407755 \t 0.24931258419196117\n"
          ]
        }
      ],
      "source": [
        "### Bayesian optimisation runs (x20): 'STP' Acquisition Function run number = 13 \n",
        "\n",
        "np.random.seed(run_num_13)\n",
        "surrogate_stp_13 = tStudentProcess(cov_func, nu = df, optimize=hyperOpt)\n",
        "\n",
        "stp_13 = GPGO(surrogate_stp_13, Acquisition_new(util_stp), f_syn_polarity, param, n_jobs = -1) # Define BayesOpt\n",
        "stp_13.run(max_iter = max_iter, init_evals = n_init) # run\n"
      ]
    },
    {
      "cell_type": "code",
      "execution_count": null,
      "metadata": {
        "id": "aM5FQ3ibJLlE",
        "colab": {
          "base_uri": "https://localhost:8080/"
        },
        "outputId": "c50ca9e3-21d5-4e61-e0c3-58fdfbc95639"
      },
      "outputs": [
        {
          "output_type": "stream",
          "name": "stdout",
          "text": [
            "Evaluation \t Proposed point \t  Current eval. \t Best eval.\n",
            "init   \t [0.08366006 1.09266021]. \t  -1.0453292732107575 \t 1.029299726828387\n",
            "init   \t [ 2.22256611 -1.96781221]. \t  -48.81113313056442 \t 1.029299726828387\n",
            "init   \t [-1.14158445  1.83041496]. \t  -31.794043287944216 \t 1.029299726828387\n",
            "init   \t [ 0.07870027 -0.7268623 ]. \t  1.029299726828387 \t 1.029299726828387\n",
            "init   \t [ 0.23519962 -1.11498023]. \t  -1.161934062902255 \t 1.029299726828387\n",
            "1      \t [1.97276691 1.56900976]. \t  -20.898736749806705 \t 1.029299726828387\n",
            "2      \t [-1.96439195 -1.66859625]. \t  -26.466833500473825 \t 1.029299726828387\n",
            "3      \t [-3.          0.47900979]. \t  -106.75575900188203 \t 1.029299726828387\n",
            "4      \t [3.         0.15368627]. \t  -109.26881244284652 \t 1.029299726828387\n",
            "5      \t [-0.23424024 -2.        ]. \t  -48.681687344927084 \t 1.029299726828387\n",
            "6      \t [0.38798153 0.13518281]. \t  -0.5363580202933657 \t 1.029299726828387\n",
            "7      \t [0.766049 2.      ]. \t  -51.2236062797585 \t 1.029299726828387\n",
            "8      \t [3. 2.]. \t  -162.89999999999998 \t 1.029299726828387\n",
            "9      \t [-0.62676949  0.01570227]. \t  -1.2566615398687382 \t 1.029299726828387\n",
            "10     \t [-3. -2.]. \t  -162.89999999999998 \t 1.029299726828387\n",
            "11     \t [ 0.88091473 -0.04475113]. \t  -1.9477911611982186 \t 1.029299726828387\n",
            "12     \t [-0.83589652 -0.43710599]. \t  -1.63049870222588 \t 1.029299726828387\n",
            "13     \t [-0.01472068  0.08400333]. \t  0.028396952121661687 \t 1.029299726828387\n",
            "14     \t [-3.  2.]. \t  -150.89999999999998 \t 1.029299726828387\n",
            "15     \t [1.42028967 0.88375038]. \t  -2.830808257494914 \t 1.029299726828387\n",
            "16     \t [-1.85722331 -0.63611818]. \t  -2.709389283473464 \t 1.029299726828387\n",
            "17     \t [ 1.15839634 -1.11971079]. \t  -2.3670883970834273 \t 1.029299726828387\n",
            "18     \t [-1.29055917 -1.31088925]. \t  -9.006865325482224 \t 1.029299726828387\n",
            "19     \t [ 0.99746162 -2.        ]. \t  -48.23432551601928 \t 1.029299726828387\n",
            "20     \t [0.71711055 0.01842675]. \t  -1.5588313495969761 \t 1.029299726828387\n"
          ]
        }
      ],
      "source": [
        "### Bayesian optimisation runs (x20): 'STP' Acquisition Function run number = 14 \n",
        "\n",
        "np.random.seed(run_num_14)\n",
        "surrogate_stp_14 = tStudentProcess(cov_func, nu = df, optimize=hyperOpt)\n",
        "\n",
        "stp_14 = GPGO(surrogate_stp_14, Acquisition_new(util_stp), f_syn_polarity, param, n_jobs = -1) # Define BayesOpt\n",
        "stp_14.run(max_iter = max_iter, init_evals = n_init) # run\n"
      ]
    },
    {
      "cell_type": "code",
      "execution_count": null,
      "metadata": {
        "id": "XmPTh2j_JLlF",
        "colab": {
          "base_uri": "https://localhost:8080/"
        },
        "outputId": "bccae475-1901-45a7-b7a9-bf3387a26c17"
      },
      "outputs": [
        {
          "output_type": "stream",
          "name": "stdout",
          "text": [
            "Evaluation \t Proposed point \t  Current eval. \t Best eval.\n",
            "init   \t [ 2.09290618 -1.2844163 ]. \t  -6.84252100896936 \t -2.1163170846379233\n",
            "init   \t [-2.67382071 -0.55384622]. \t  -43.69785230561242 \t -2.1163170846379233\n",
            "init   \t [-1.34759443  0.1200009 ]. \t  -2.1163170846379233 \t -2.1163170846379233\n",
            "init   \t [-1.16448651 -0.78210256]. \t  -2.3544087277459513 \t -2.1163170846379233\n",
            "init   \t [-2.32955234 -1.00040394]. \t  -15.469119251600274 \t -2.1163170846379233\n",
            "1      \t [0.09504846 0.88130415]. \t  \u001b[92m0.5740227982111835\u001b[0m \t 0.5740227982111835\n",
            "2      \t [2.07696636 2.        ]. \t  -57.08877174126195 \t 0.5740227982111835\n",
            "3      \t [-1.30589426  2.        ]. \t  -47.75552675786607 \t 0.5740227982111835\n",
            "4      \t [ 0.23016923 -0.59210915]. \t  \u001b[92m0.8409287064855999\u001b[0m \t 0.8409287064855999\n",
            "5      \t [-0.17407022 -2.        ]. \t  -48.46742344805387 \t 0.8409287064855999\n",
            "6      \t [ 3. -2.]. \t  -150.89999999999998 \t 0.8409287064855999\n",
            "7      \t [ 1.53032926 -0.23122389]. \t  -1.5752637935442644 \t 0.8409287064855999\n",
            "8      \t [3.         0.23066849]. \t  -109.39049800645171 \t 0.8409287064855999\n",
            "9      \t [-3.  2.]. \t  -150.89999999999998 \t 0.8409287064855999\n",
            "10     \t [-3. -2.]. \t  -162.89999999999998 \t 0.8409287064855999\n",
            "11     \t [0.52864634 0.09582391]. \t  -0.9753950150307418 \t 0.8409287064855999\n",
            "12     \t [0.29929784 2.        ]. \t  -48.94030075148625 \t 0.8409287064855999\n",
            "13     \t [ 1.03325298 -0.95200931]. \t  -0.9592201801704388 \t 0.8409287064855999\n",
            "14     \t [ 1.29230775 -2.        ]. \t  -47.79116880111189 \t 0.8409287064855999\n",
            "15     \t [-0.4712414   0.03347022]. \t  -0.7681154343620722 \t 0.8409287064855999\n",
            "16     \t [-1.39764287 -2.        ]. \t  -53.080339346389195 \t 0.8409287064855999\n",
            "17     \t [-0.74466633  0.96075625]. \t  -0.6296496155077851 \t 0.8409287064855999\n",
            "18     \t [-1.8283595  -0.59286077]. \t  -2.5286108263108362 \t 0.8409287064855999\n",
            "19     \t [-0.63346057  0.013391  ]. \t  -1.2792860558926826 \t 0.8409287064855999\n",
            "20     \t [ 1.86133937 -0.78004514]. \t  -0.10864804774544745 \t 0.8409287064855999\n"
          ]
        }
      ],
      "source": [
        "### Bayesian optimisation runs (x20): 'STP' Acquisition Function run number = 15 \n",
        "\n",
        "np.random.seed(run_num_15)\n",
        "surrogate_stp_15 = tStudentProcess(cov_func, nu = df, optimize=hyperOpt)\n",
        "\n",
        "stp_15 = GPGO(surrogate_stp_15, Acquisition_new(util_stp), f_syn_polarity, param, n_jobs = -1) # Define BayesOpt\n",
        "stp_15.run(max_iter = max_iter, init_evals = n_init) # run\n"
      ]
    },
    {
      "cell_type": "code",
      "execution_count": null,
      "metadata": {
        "id": "6aUP_b73JLlG",
        "colab": {
          "base_uri": "https://localhost:8080/"
        },
        "outputId": "431f9c30-457e-49ba-d9d7-36e66314519f"
      },
      "outputs": [
        {
          "output_type": "stream",
          "name": "stdout",
          "text": [
            "Evaluation \t Proposed point \t  Current eval. \t Best eval.\n",
            "init   \t [-1.66025353  0.09265337]. \t  -1.8632773736203017 \t -1.8632773736203017\n",
            "init   \t [ 0.30420874 -1.8175922 ]. \t  -30.24114424375299 \t -1.8632773736203017\n",
            "init   \t [-0.83562699 -1.10767623]. \t  -3.922061281476444 \t -1.8632773736203017\n",
            "init   \t [ 1.13235697 -1.3450743 ]. \t  -6.7121671493737685 \t -1.8632773736203017\n",
            "init   \t [-2.5780508   1.76404344]. \t  -53.42443470756798 \t -1.8632773736203017\n",
            "1      \t [3.         0.36513187]. \t  -109.53320874018509 \t -1.8632773736203017\n",
            "2      \t [-3. -2.]. \t  -162.89999999999998 \t -1.8632773736203017\n",
            "3      \t [0.3158042 2.       ]. \t  -49.00998051656062 \t -1.8632773736203017\n",
            "4      \t [ 3. -2.]. \t  -150.89999999999998 \t -1.8632773736203017\n",
            "5      \t [0.0563659  0.01947503]. \t  \u001b[92m-0.012268466754946533\u001b[0m \t -0.012268466754946533\n",
            "6      \t [-0.7991555   0.36186755]. \t  -1.0405023810969851 \t -0.012268466754946533\n",
            "7      \t [2.22862725 2.        ]. \t  -61.3613449240017 \t -0.012268466754946533\n",
            "8      \t [ 0.72515063 -0.20387329]. \t  -1.2639814409520624 \t -0.012268466754946533\n",
            "9      \t [-3.          0.23464539]. \t  -107.98795573736213 \t -0.012268466754946533\n",
            "10     \t [-1.22418926  2.        ]. \t  -47.95168840450784 \t -0.012268466754946533\n",
            "11     \t [-1.01547478 -0.36134501]. \t  -2.1700748399754075 \t -0.012268466754946533\n",
            "12     \t [-1.13430313 -2.        ]. \t  -52.64872411313851 \t -0.012268466754946533\n",
            "13     \t [ 0.23281235 -0.82531318]. \t  \u001b[92m0.8502036062501019\u001b[0m \t 0.8502036062501019\n",
            "14     \t [0.7300737  0.84246891]. \t  -1.3769529363275281 \t 0.8502036062501019\n",
            "15     \t [-1.57731999  0.85390266]. \t  0.05043295023721406 \t 0.8502036062501019\n",
            "16     \t [-0.00898875  0.90566544]. \t  0.5976289101339847 \t 0.8502036062501019\n",
            "17     \t [ 1.50474456 -0.71297067]. \t  -0.08757081407007428 \t 0.8502036062501019\n",
            "18     \t [ 1.02236525 -0.82988352]. \t  -0.561295079327455 \t 0.8502036062501019\n",
            "19     \t [1.43428705 0.2209181 ]. \t  -2.3746986743784615 \t 0.8502036062501019\n",
            "20     \t [-0.46608093  0.04922647]. \t  -0.7406318049387843 \t 0.8502036062501019\n"
          ]
        }
      ],
      "source": [
        "### Bayesian optimisation runs (x20): 'STP' Acquisition Function run number = 16 \n",
        "\n",
        "np.random.seed(run_num_16)\n",
        "surrogate_stp_16 = tStudentProcess(cov_func, nu = df, optimize=hyperOpt)\n",
        "\n",
        "stp_16 = GPGO(surrogate_stp_16, Acquisition_new(util_stp), f_syn_polarity, param, n_jobs = -1) # Define BayesOpt\n",
        "stp_16.run(max_iter = max_iter, init_evals = n_init) # run\n"
      ]
    },
    {
      "cell_type": "code",
      "execution_count": null,
      "metadata": {
        "id": "TV8_B_7cJLlH",
        "colab": {
          "base_uri": "https://localhost:8080/"
        },
        "outputId": "04a4b5bd-51e6-4f67-cd8b-9a4fcdeeb335"
      },
      "outputs": [
        {
          "output_type": "stream",
          "name": "stdout",
          "text": [
            "Evaluation \t Proposed point \t  Current eval. \t Best eval.\n",
            "init   \t [-1.23200998  0.12234702]. \t  -2.189206652278967 \t -1.7722768782964888\n",
            "init   \t [-1.85087528 -1.72839857]. \t  -29.406067820453675 \t -1.7722768782964888\n",
            "init   \t [1.72191276 0.62533409]. \t  -2.2113401446731897 \t -1.7722768782964888\n",
            "init   \t [0.82512538 0.30241158]. \t  -1.7722768782964888 \t -1.7722768782964888\n",
            "init   \t [-2.7656225  -0.56874558]. \t  -57.5922315952177 \t -1.7722768782964888\n",
            "1      \t [-0.78228952  2.        ]. \t  -48.17324384499323 \t -1.7722768782964888\n",
            "2      \t [ 3. -2.]. \t  -150.89999999999998 \t -1.7722768782964888\n",
            "3      \t [3. 2.]. \t  -162.89999999999998 \t -1.7722768782964888\n",
            "4      \t [ 0.15617671 -2.        ]. \t  -47.783966721465596 \t -1.7722768782964888\n",
            "5      \t [-3.  2.]. \t  -150.89999999999998 \t -1.7722768782964888\n",
            "6      \t [-0.12940294 -0.0939183 ]. \t  \u001b[92m-0.04357514399344792\u001b[0m \t -0.04357514399344792\n",
            "7      \t [0.73901663 2.        ]. \t  -51.090538618806576 \t -0.04357514399344792\n",
            "8      \t [ 1.33600393 -0.39731273]. \t  -1.282195298858789 \t -0.04357514399344792\n",
            "9      \t [-3. -2.]. \t  -162.89999999999998 \t -0.04357514399344792\n",
            "10     \t [-0.76412131 -0.6996256 ]. \t  -1.2209924847982982 \t -0.04357514399344792\n",
            "11     \t [ 2.26579679 -0.06665064]. \t  -10.121383684485751 \t -0.04357514399344792\n",
            "12     \t [-1.03697706 -2.        ]. \t  -52.361446388788835 \t -0.04357514399344792\n",
            "13     \t [-1.66336884 -0.71777569]. \t  -2.2462866764155547 \t -0.04357514399344792\n",
            "14     \t [ 1.2557697 -2.       ]. \t  -47.88121117437645 \t -0.04357514399344792\n",
            "15     \t [ 0.44595073 -0.81961765]. \t  \u001b[92m0.5324302952881803\u001b[0m \t 0.5324302952881803\n",
            "16     \t [-0.4570305   0.84718509]. \t  0.4506537631439996 \t 0.5324302952881803\n",
            "17     \t [3.         0.27342888]. \t  -109.44359146011772 \t 0.5324302952881803\n",
            "18     \t [-1.3820073   0.97575413]. \t  -0.7706988288350047 \t 0.5324302952881803\n",
            "19     \t [0.73736359 0.0552012 ]. \t  -1.6361559904532696 \t 0.5324302952881803\n",
            "20     \t [-0.79428628  0.0576452 ]. \t  -1.7123828514590267 \t 0.5324302952881803\n"
          ]
        }
      ],
      "source": [
        "### Bayesian optimisation runs (x20): 'STP' Acquisition Function run number = 17 \n",
        "\n",
        "np.random.seed(run_num_17)\n",
        "surrogate_stp_17 = tStudentProcess(cov_func, nu = df, optimize=hyperOpt)\n",
        "\n",
        "stp_17 = GPGO(surrogate_stp_17, Acquisition_new(util_stp), f_syn_polarity, param, n_jobs = -1) # Define BayesOpt\n",
        "stp_17.run(max_iter = max_iter, init_evals = n_init) # run\n"
      ]
    },
    {
      "cell_type": "code",
      "execution_count": null,
      "metadata": {
        "id": "57ABzGR1JLlI",
        "colab": {
          "base_uri": "https://localhost:8080/"
        },
        "outputId": "2635d364-a324-45b3-e901-b3729db48d03"
      },
      "outputs": [
        {
          "output_type": "stream",
          "name": "stdout",
          "text": [
            "Evaluation \t Proposed point \t  Current eval. \t Best eval.\n",
            "init   \t [0.90224545 0.02181349]. \t  -2.062169771852028 \t -2.062169771852028\n",
            "init   \t [ 2.27160883 -1.2726391 ]. \t  -11.64729291207819 \t -2.062169771852028\n",
            "init   \t [2.11339841 1.00054514]. \t  -7.792128760671214 \t -2.062169771852028\n",
            "init   \t [0.99661    1.95158179]. \t  -46.96206222999227 \t -2.062169771852028\n",
            "init   \t [-1.45818946 -1.8867763 ]. \t  -41.4190528039297 \t -2.062169771852028\n",
            "1      \t [-3.  2.]. \t  -150.89999999999998 \t -2.062169771852028\n",
            "2      \t [ 0.76754636 -2.        ]. \t  -48.16072397551057 \t -2.062169771852028\n",
            "3      \t [3.         0.03808001]. \t  -109.00844810028863 \t -2.062169771852028\n",
            "4      \t [-0.73137474  0.30403891]. \t  \u001b[92m-1.0318407530036\u001b[0m \t -1.0318407530036\n",
            "5      \t [-3.         -0.78764024]. \t  -110.3208833547483 \t -1.0318407530036\n",
            "6      \t [3. 2.]. \t  -162.89999999999998 \t -1.0318407530036\n",
            "7      \t [ 3. -2.]. \t  -150.89999999999998 \t -1.0318407530036\n",
            "8      \t [-0.66379564  2.        ]. \t  -48.05570792129133 \t -1.0318407530036\n",
            "9      \t [-0.08909192 -0.45462029]. \t  \u001b[92m0.5837322553415245\u001b[0m \t 0.5837322553415245\n",
            "10     \t [0.52840823 0.41018106]. \t  -0.6173778685662624 \t 0.5837322553415245\n",
            "11     \t [ 1.13986666 -0.42631425]. \t  -1.3023775492375327 \t 0.5837322553415245\n",
            "12     \t [-0.52516853 -0.2656228 ]. \t  -0.8276480759755096 \t 0.5837322553415245\n",
            "13     \t [1.41747715 0.8495885 ]. \t  -2.6640161315007034 \t 0.5837322553415245\n",
            "14     \t [0.32149925 0.18407845]. \t  -0.3196138047837593 \t 0.5837322553415245\n",
            "15     \t [-1.79159241  0.45273758]. \t  -0.7636618943021496 \t 0.5837322553415245\n",
            "16     \t [ 1.64725752 -1.4404516 ]. \t  -8.599892021900665 \t 0.5837322553415245\n",
            "17     \t [ 1.28918672 -0.18041433]. \t  -2.019023016399068 \t 0.5837322553415245\n",
            "18     \t [-0.45584059 -2.        ]. \t  -49.65516275582635 \t 0.5837322553415245\n",
            "19     \t [-3. -2.]. \t  -162.89999999999998 \t 0.5837322553415245\n",
            "20     \t [-1.59285399 -0.43173522]. \t  -2.1556903696613503 \t 0.5837322553415245\n"
          ]
        }
      ],
      "source": [
        "### Bayesian optimisation runs (x20): 'STP' Acquisition Function run number = 18 \n",
        "\n",
        "np.random.seed(run_num_18)\n",
        "surrogate_stp_18 = tStudentProcess(cov_func, nu = df, optimize=hyperOpt)\n",
        "\n",
        "stp_18 = GPGO(surrogate_stp_18, Acquisition_new(util_stp), f_syn_polarity, param, n_jobs = -1) # Define BayesOpt\n",
        "stp_18.run(max_iter = max_iter, init_evals = n_init) # run\n"
      ]
    },
    {
      "cell_type": "code",
      "execution_count": null,
      "metadata": {
        "id": "x2CyIorrJLlJ",
        "colab": {
          "base_uri": "https://localhost:8080/"
        },
        "outputId": "8663f9ac-5176-45ed-c96d-0a72e82874ea"
      },
      "outputs": [
        {
          "output_type": "stream",
          "name": "stdout",
          "text": [
            "Evaluation \t Proposed point \t  Current eval. \t Best eval.\n",
            "init   \t [-2.41479839  1.04499887]. \t  -15.890475442873509 \t -6.578088852480828\n",
            "init   \t [-1.51837216 -1.44747325]. \t  -13.520839509777993 \t -6.578088852480828\n",
            "init   \t [-1.01132062 -1.66800174]. \t  -23.772158573571232 \t -6.578088852480828\n",
            "init   \t [1.03186249 1.22637519]. \t  -6.578088852480828 \t -6.578088852480828\n",
            "init   \t [2.89645149 0.54264294]. \t  -83.31828503667734 \t -6.578088852480828\n",
            "1      \t [ 1.61911268 -2.        ]. \t  -46.821232166533036 \t -6.578088852480828\n",
            "2      \t [-0.42866718  2.        ]. \t  -47.80884726782284 \t -6.578088852480828\n",
            "3      \t [-3. -2.]. \t  -162.89999999999998 \t -6.578088852480828\n",
            "4      \t [-0.11486589 -0.20022557]. \t  \u001b[92m0.0785212327651465\u001b[0m \t 0.0785212327651465\n",
            "5      \t [-3.  2.]. \t  -150.89999999999998 \t 0.0785212327651465\n",
            "6      \t [-1.40199889  0.0738469 ]. \t  -2.155066646185145 \t 0.0785212327651465\n",
            "7      \t [ 3. -2.]. \t  -150.89999999999998 \t 0.0785212327651465\n",
            "8      \t [ 0.1286203 -2.       ]. \t  -47.80835891464476 \t 0.0785212327651465\n",
            "9      \t [1.84639207 2.        ]. \t  -54.12995641926969 \t 0.0785212327651465\n",
            "10     \t [0.76423337 0.00750325]. \t  -1.691783087924804 \t 0.0785212327651465\n",
            "11     \t [-0.49584089  0.39009944]. \t  -0.15194387306873203 \t 0.0785212327651465\n",
            "12     \t [-1.89443665 -0.01209378]. \t  -2.7380686314474842 \t 0.0785212327651465\n",
            "13     \t [-0.86421593 -0.28825145]. \t  -1.8993104140337667 \t 0.0785212327651465\n",
            "14     \t [-3.          0.27786289]. \t  -107.78142435246974 \t 0.0785212327651465\n",
            "15     \t [-1.60406627  1.34792164]. \t  -5.842009815392885 \t 0.0785212327651465\n",
            "16     \t [0.32900445 0.78019623]. \t  \u001b[92m0.28725054117767745\u001b[0m \t 0.28725054117767745\n",
            "17     \t [ 1.20991359 -0.92094536]. \t  -0.7715499739914523 \t 0.28725054117767745\n",
            "18     \t [-1.35354591  0.68380045]. \t  -0.40808258982910217 \t 0.28725054117767745\n",
            "19     \t [0.92055103 0.00621912]. \t  -2.090040154878766 \t 0.28725054117767745\n",
            "20     \t [-1.11449811  0.47414956]. \t  -1.1417338299190947 \t 0.28725054117767745\n"
          ]
        }
      ],
      "source": [
        "### Bayesian optimisation runs (x20): 'STP' Acquisition Function run number = 19 \n",
        "\n",
        "np.random.seed(run_num_19)\n",
        "surrogate_stp_19 = tStudentProcess(cov_func, nu = df, optimize=hyperOpt)\n",
        "\n",
        "stp_19 = GPGO(surrogate_stp_19, Acquisition_new(util_stp), f_syn_polarity, param, n_jobs = -1) # Define BayesOpt\n",
        "stp_19.run(max_iter = max_iter, init_evals = n_init) # run\n"
      ]
    },
    {
      "cell_type": "code",
      "execution_count": null,
      "metadata": {
        "id": "4O6_IplWJLlJ",
        "colab": {
          "base_uri": "https://localhost:8080/"
        },
        "outputId": "1f3c1dc9-d310-4ebe-b1a8-788525be9006"
      },
      "outputs": [
        {
          "output_type": "stream",
          "name": "stdout",
          "text": [
            "Evaluation \t Proposed point \t  Current eval. \t Best eval.\n",
            "init   \t [0.52878481 1.59085491]. \t  -17.29968374481291 \t -1.5037392797834441\n",
            "init   \t [2.34918438 1.26334991]. \t  -20.91583049569433 \t -1.5037392797834441\n",
            "init   \t [-2.78466249  0.76703033]. \t  -57.06253405225224 \t -1.5037392797834441\n",
            "init   \t [-0.72791435  0.07404378]. \t  -1.5037392797834441 \t -1.5037392797834441\n",
            "init   \t [ 0.94770879 -1.22459913]. \t  -3.9766737661914173 \t -1.5037392797834441\n",
            "1      \t [ 3. -2.]. \t  -150.89999999999998 \t -1.5037392797834441\n",
            "2      \t [-1.05657842 -2.        ]. \t  -52.425208562753646 \t -1.5037392797834441\n",
            "3      \t [-3. -2.]. \t  -162.89999999999998 \t -1.5037392797834441\n",
            "4      \t [-1.10147461  2.        ]. \t  -48.15419216673871 \t -1.5037392797834441\n",
            "5      \t [ 0.72500788 -0.00690672]. \t  -1.5655408035063467 \t -1.5037392797834441\n",
            "6      \t [3. 2.]. \t  -162.89999999999998 \t -1.5037392797834441\n",
            "7      \t [1.79368557 0.05490157]. \t  -2.319300036331658 \t -1.5037392797834441\n",
            "8      \t [ 0.02043276 -0.67304651]. \t  \u001b[92m1.0032434178493241\u001b[0m \t 1.0032434178493241\n",
            "9      \t [ 0.52130388 -2.        ]. \t  -47.896023399294315 \t 1.0032434178493241\n",
            "10     \t [0.94430982 0.41377203]. \t  -1.956537797877179 \t 1.0032434178493241\n",
            "11     \t [-0.02723884  0.15992966]. \t  0.1010827845292908 \t 1.0032434178493241\n",
            "12     \t [3.         0.23958956]. \t  -109.40233653818142 \t 1.0032434178493241\n",
            "13     \t [-3.  2.]. \t  -150.89999999999998 \t 1.0032434178493241\n",
            "14     \t [1.51346213 1.75135766]. \t  -30.163952706867917 \t 1.0032434178493241\n",
            "15     \t [-2.12181448 -0.30450239]. \t  -6.170827762378673 \t 1.0032434178493241\n",
            "16     \t [-3.         -0.20754505]. \t  -109.3577571574173 \t 1.0032434178493241\n",
            "17     \t [-1.72671609  0.54903236]. \t  -0.30261048308645844 \t 1.0032434178493241\n",
            "18     \t [-1.33687269 -0.77465328]. \t  -2.4197202437541203 \t 1.0032434178493241\n",
            "19     \t [1.78469904 0.83306262]. \t  -2.8443283913719357 \t 1.0032434178493241\n",
            "20     \t [-1.04705839 -0.00559855]. \t  -2.3062252755125905 \t 1.0032434178493241\n"
          ]
        }
      ],
      "source": [
        "### Bayesian optimisation runs (x20): 'STP' Acquisition Function run number = 20 \n",
        "\n",
        "np.random.seed(run_num_20)\n",
        "surrogate_stp_20 = tStudentProcess(cov_func, nu = df, optimize=hyperOpt)\n",
        "\n",
        "stp_20 = GPGO(surrogate_stp_20, Acquisition_new(util_stp), f_syn_polarity, param, n_jobs = -1) # Define BayesOpt\n",
        "stp_20.run(max_iter = max_iter, init_evals = n_init) # run\n"
      ]
    },
    {
      "cell_type": "code",
      "execution_count": null,
      "metadata": {
        "id": "B9S2UvZ9JLlK",
        "colab": {
          "base_uri": "https://localhost:8080/"
        },
        "outputId": "9436b665-24e6-4fdc-8b52-c42b17af13d3"
      },
      "outputs": [
        {
          "output_type": "execute_result",
          "data": {
            "text/plain": [
              "(-0.2658009358573259, -0.32188664151369806)"
            ]
          },
          "metadata": {},
          "execution_count": 49
        }
      ],
      "source": [
        "### Simple regret minimisation: run number = 1\n",
        "\n",
        "gp_output_1 = np.append(np.max(gp_1.GP.y[0:n_init]),gp_1.GP.y[n_init:(n_init+max_iter)]) \n",
        "stp_output_1 = np.append(np.max(stp_1.GP.y[0:n_init]),stp_1.GP.y[n_init:(n_init+max_iter)]) \n",
        "\n",
        "regret_gp_1 = np.log(y_global_orig - gp_output_1)\n",
        "regret_stp_1 = np.log(y_global_orig - stp_output_1)\n",
        "\n",
        "simple_regret_gp_1 = min_max_array(regret_gp_1)\n",
        "simple_regret_stp_1 = min_max_array(regret_stp_1)\n",
        "\n",
        "min_simple_regret_gp_1 = min(simple_regret_gp_1)\n",
        "min_simple_regret_stp_1 = min(simple_regret_stp_1)\n",
        "\n",
        "min_simple_regret_gp_1, min_simple_regret_stp_1\n"
      ]
    },
    {
      "cell_type": "code",
      "execution_count": null,
      "metadata": {
        "id": "adGcU8l5JLlK",
        "colab": {
          "base_uri": "https://localhost:8080/"
        },
        "outputId": "424595e0-21e7-42b1-cd91-2eb69eb140fc"
      },
      "outputs": [
        {
          "output_type": "execute_result",
          "data": {
            "text/plain": [
              "(0.04261840449610358, 0.04261840449610358)"
            ]
          },
          "metadata": {},
          "execution_count": 50
        }
      ],
      "source": [
        "### Simple regret minimisation: run number = 2\n",
        "\n",
        "gp_output_2 = np.append(np.max(gp_2.GP.y[0:n_init]),gp_2.GP.y[n_init:(n_init+max_iter)]) \n",
        "stp_output_2 = np.append(np.max(stp_2.GP.y[0:n_init]),stp_2.GP.y[n_init:(n_init+max_iter)]) \n",
        "\n",
        "regret_gp_2 = np.log(y_global_orig - gp_output_2)\n",
        "regret_stp_2 = np.log(y_global_orig - stp_output_2)\n",
        "\n",
        "simple_regret_gp_2 = min_max_array(regret_gp_2)\n",
        "simple_regret_stp_2 = min_max_array(regret_stp_2)\n",
        "\n",
        "min_simple_regret_gp_2 = min(simple_regret_gp_2)\n",
        "min_simple_regret_stp_2 = min(simple_regret_stp_2)\n",
        "\n",
        "min_simple_regret_gp_2, min_simple_regret_stp_2\n"
      ]
    },
    {
      "cell_type": "code",
      "execution_count": null,
      "metadata": {
        "id": "1F9LaViaJLlL",
        "colab": {
          "base_uri": "https://localhost:8080/"
        },
        "outputId": "80728b94-baee-4cc9-9541-77901c152f8a"
      },
      "outputs": [
        {
          "output_type": "execute_result",
          "data": {
            "text/plain": [
              "(-2.4814015530296953, -0.23773993035753282)"
            ]
          },
          "metadata": {},
          "execution_count": 51
        }
      ],
      "source": [
        "### Simple regret minimisation: run number = 3\n",
        "\n",
        "gp_output_3 = np.append(np.max(gp_3.GP.y[0:n_init]),gp_3.GP.y[n_init:(n_init+max_iter)]) \n",
        "stp_output_3 = np.append(np.max(stp_3.GP.y[0:n_init]),stp_3.GP.y[n_init:(n_init+max_iter)]) \n",
        "\n",
        "regret_gp_3 = np.log(y_global_orig - gp_output_3)\n",
        "regret_stp_3 = np.log(y_global_orig - stp_output_3)\n",
        "\n",
        "simple_regret_gp_3 = min_max_array(regret_gp_3)\n",
        "simple_regret_stp_3 = min_max_array(regret_stp_3)\n",
        "\n",
        "min_simple_regret_gp_3 = min(simple_regret_gp_3)\n",
        "min_simple_regret_stp_3 = min(simple_regret_stp_3)\n",
        "\n",
        "min_simple_regret_gp_3, min_simple_regret_stp_3\n"
      ]
    },
    {
      "cell_type": "code",
      "execution_count": null,
      "metadata": {
        "id": "vThMylZmJLlL",
        "colab": {
          "base_uri": "https://localhost:8080/"
        },
        "outputId": "ace7613d-c2db-477b-f2d7-8cf8a77242d4"
      },
      "outputs": [
        {
          "output_type": "execute_result",
          "data": {
            "text/plain": [
              "(-4.266739609403147, -1.4914113915064424)"
            ]
          },
          "metadata": {},
          "execution_count": 52
        }
      ],
      "source": [
        "### Simple regret minimisation: run number = 4\n",
        "\n",
        "gp_output_4 = np.append(np.max(gp_4.GP.y[0:n_init]),gp_4.GP.y[n_init:(n_init+max_iter)]) \n",
        "stp_output_4 = np.append(np.max(stp_4.GP.y[0:n_init]),stp_4.GP.y[n_init:(n_init+max_iter)]) \n",
        "\n",
        "regret_gp_4 = np.log(y_global_orig - gp_output_4)\n",
        "regret_stp_4 = np.log(y_global_orig - stp_output_4)\n",
        "\n",
        "simple_regret_gp_4 = min_max_array(regret_gp_4)\n",
        "simple_regret_stp_4 = min_max_array(regret_stp_4)\n",
        "\n",
        "min_simple_regret_gp_4 = min(simple_regret_gp_4)\n",
        "min_simple_regret_stp_4 = min(simple_regret_stp_4)\n",
        "\n",
        "min_simple_regret_gp_4, min_simple_regret_stp_4\n"
      ]
    },
    {
      "cell_type": "code",
      "execution_count": null,
      "metadata": {
        "id": "9Um6_WG7JLlM",
        "colab": {
          "base_uri": "https://localhost:8080/"
        },
        "outputId": "83957b0f-d616-46eb-c88e-a94aba32a723"
      },
      "outputs": [
        {
          "output_type": "execute_result",
          "data": {
            "text/plain": [
              "(-0.9667370327122197, -0.9667370327122197)"
            ]
          },
          "metadata": {},
          "execution_count": 53
        }
      ],
      "source": [
        "### Simple regret minimisation: run number = 5\n",
        "\n",
        "gp_output_5 = np.append(np.max(gp_5.GP.y[0:n_init]),gp_5.GP.y[n_init:(n_init+max_iter)]) \n",
        "stp_output_5 = np.append(np.max(stp_5.GP.y[0:n_init]),stp_5.GP.y[n_init:(n_init+max_iter)]) \n",
        "\n",
        "regret_gp_5 = np.log(y_global_orig - gp_output_5)\n",
        "regret_stp_5 = np.log(y_global_orig - stp_output_5)\n",
        "\n",
        "simple_regret_gp_5 = min_max_array(regret_gp_5)\n",
        "simple_regret_stp_5 = min_max_array(regret_stp_5)\n",
        "\n",
        "min_simple_regret_gp_5 = min(simple_regret_gp_5)\n",
        "min_simple_regret_stp_5 = min(simple_regret_stp_5)\n",
        "\n",
        "min_simple_regret_gp_5, min_simple_regret_stp_5\n"
      ]
    },
    {
      "cell_type": "code",
      "execution_count": null,
      "metadata": {
        "id": "s7F8Y3b9JLlM",
        "colab": {
          "base_uri": "https://localhost:8080/"
        },
        "outputId": "f949a2e3-ce08-4b69-b84b-427e82efb090"
      },
      "outputs": [
        {
          "output_type": "execute_result",
          "data": {
            "text/plain": [
              "(-1.50832032978322, -0.3257561052987614)"
            ]
          },
          "metadata": {},
          "execution_count": 54
        }
      ],
      "source": [
        "### Simple regret minimisation: run number = 6\n",
        "\n",
        "gp_output_6 = np.append(np.max(gp_6.GP.y[0:n_init]),gp_6.GP.y[n_init:(n_init+max_iter)]) \n",
        "stp_output_6 = np.append(np.max(stp_6.GP.y[0:n_init]),stp_6.GP.y[n_init:(n_init+max_iter)]) \n",
        "\n",
        "regret_gp_6 = np.log(y_global_orig - gp_output_6)\n",
        "regret_stp_6 = np.log(y_global_orig - stp_output_6)\n",
        "\n",
        "simple_regret_gp_6 = min_max_array(regret_gp_6)\n",
        "simple_regret_stp_6 = min_max_array(regret_stp_6)\n",
        "\n",
        "min_simple_regret_gp_6 = min(simple_regret_gp_6)\n",
        "min_simple_regret_stp_6 = min(simple_regret_stp_6)\n",
        "\n",
        "min_simple_regret_gp_6, min_simple_regret_stp_6\n"
      ]
    },
    {
      "cell_type": "code",
      "execution_count": null,
      "metadata": {
        "id": "FbMNex-gJLlN",
        "colab": {
          "base_uri": "https://localhost:8080/"
        },
        "outputId": "026377be-1bb3-44d6-e625-cabdc9f629e7"
      },
      "outputs": [
        {
          "output_type": "execute_result",
          "data": {
            "text/plain": [
              "(-0.567767694400235, -0.567767694400235)"
            ]
          },
          "metadata": {},
          "execution_count": 55
        }
      ],
      "source": [
        "### Simple regret minimisation: run number = 7\n",
        "\n",
        "gp_output_7 = np.append(np.max(gp_7.GP.y[0:n_init]),gp_7.GP.y[n_init:(n_init+max_iter)]) \n",
        "stp_output_7 = np.append(np.max(stp_7.GP.y[0:n_init]),stp_7.GP.y[n_init:(n_init+max_iter)]) \n",
        "\n",
        "regret_gp_7 = np.log(y_global_orig - gp_output_7)\n",
        "regret_stp_7 = np.log(y_global_orig - stp_output_7)\n",
        "\n",
        "simple_regret_gp_7 = min_max_array(regret_gp_7)\n",
        "simple_regret_stp_7 = min_max_array(regret_stp_7)\n",
        "\n",
        "min_simple_regret_gp_7 = min(simple_regret_gp_7)\n",
        "min_simple_regret_stp_7 = min(simple_regret_stp_7)\n",
        "\n",
        "min_simple_regret_gp_7, min_simple_regret_stp_7\n"
      ]
    },
    {
      "cell_type": "code",
      "execution_count": null,
      "metadata": {
        "id": "yTxbjos2JLlN",
        "colab": {
          "base_uri": "https://localhost:8080/"
        },
        "outputId": "2cfd32f2-c807-40bc-c2f6-07267dea2754"
      },
      "outputs": [
        {
          "output_type": "execute_result",
          "data": {
            "text/plain": [
              "(-0.6948147033930802, 0.06156596464915911)"
            ]
          },
          "metadata": {},
          "execution_count": 56
        }
      ],
      "source": [
        "### Simple regret minimisation: run number = 8\n",
        "\n",
        "gp_output_8 = np.append(np.max(gp_8.GP.y[0:n_init]),gp_8.GP.y[n_init:(n_init+max_iter)]) \n",
        "stp_output_8 = np.append(np.max(stp_8.GP.y[0:n_init]),stp_8.GP.y[n_init:(n_init+max_iter)]) \n",
        "\n",
        "regret_gp_8 = np.log(y_global_orig - gp_output_8)\n",
        "regret_stp_8 = np.log(y_global_orig - stp_output_8)\n",
        "\n",
        "simple_regret_gp_8 = min_max_array(regret_gp_8)\n",
        "simple_regret_stp_8 = min_max_array(regret_stp_8)\n",
        "\n",
        "min_simple_regret_gp_8 = min(simple_regret_gp_8)\n",
        "min_simple_regret_stp_8 = min(simple_regret_stp_8)\n",
        "\n",
        "min_simple_regret_gp_8, min_simple_regret_stp_8\n"
      ]
    },
    {
      "cell_type": "code",
      "execution_count": null,
      "metadata": {
        "id": "iBuMpq59JLlO",
        "colab": {
          "base_uri": "https://localhost:8080/"
        },
        "outputId": "7a1e0364-e9d2-4706-cd3a-5999b4081e9d"
      },
      "outputs": [
        {
          "output_type": "execute_result",
          "data": {
            "text/plain": [
              "(-0.04421168471027351, -1.4758911595511646)"
            ]
          },
          "metadata": {},
          "execution_count": 57
        }
      ],
      "source": [
        "### Simple regret minimisation: run number = 9\n",
        "\n",
        "gp_output_9 = np.append(np.max(gp_9.GP.y[0:n_init]),gp_9.GP.y[n_init:(n_init+max_iter)]) \n",
        "stp_output_9 = np.append(np.max(stp_9.GP.y[0:n_init]),stp_9.GP.y[n_init:(n_init+max_iter)]) \n",
        "\n",
        "regret_gp_9 = np.log(y_global_orig - gp_output_9)\n",
        "regret_stp_9 = np.log(y_global_orig - stp_output_9)\n",
        "\n",
        "simple_regret_gp_9 = min_max_array(regret_gp_9)\n",
        "simple_regret_stp_9 = min_max_array(regret_stp_9)\n",
        "\n",
        "min_simple_regret_gp_9 = min(simple_regret_gp_9)\n",
        "min_simple_regret_stp_9 = min(simple_regret_stp_9)\n",
        "\n",
        "min_simple_regret_gp_9, min_simple_regret_stp_9\n"
      ]
    },
    {
      "cell_type": "code",
      "execution_count": null,
      "metadata": {
        "id": "MT-MYaKEJLlO",
        "colab": {
          "base_uri": "https://localhost:8080/"
        },
        "outputId": "f1837bb6-004c-454b-ead4-acc2497b84df"
      },
      "outputs": [
        {
          "output_type": "execute_result",
          "data": {
            "text/plain": [
              "(-0.0808238119164969, -0.0356749515387386)"
            ]
          },
          "metadata": {},
          "execution_count": 58
        }
      ],
      "source": [
        "### Simple regret minimisation: run number = 10\n",
        "\n",
        "gp_output_10 = np.append(np.max(gp_10.GP.y[0:n_init]),gp_10.GP.y[n_init:(n_init+max_iter)]) \n",
        "stp_output_10 = np.append(np.max(stp_10.GP.y[0:n_init]),stp_10.GP.y[n_init:(n_init+max_iter)]) \n",
        "\n",
        "regret_gp_10 = np.log(y_global_orig - gp_output_10)\n",
        "regret_stp_10 = np.log(y_global_orig - stp_output_10)\n",
        "\n",
        "simple_regret_gp_10 = min_max_array(regret_gp_10)\n",
        "simple_regret_stp_10 = min_max_array(regret_stp_10)\n",
        "\n",
        "min_simple_regret_gp_10 = min(simple_regret_gp_10)\n",
        "min_simple_regret_stp_10 = min(simple_regret_stp_10)\n",
        "\n",
        "min_simple_regret_gp_10, min_simple_regret_stp_10\n"
      ]
    },
    {
      "cell_type": "code",
      "execution_count": null,
      "metadata": {
        "id": "JgXNMHBOJLlP",
        "colab": {
          "base_uri": "https://localhost:8080/"
        },
        "outputId": "20553f33-f6b9-43d0-e631-b1943ce2f161"
      },
      "outputs": [
        {
          "output_type": "execute_result",
          "data": {
            "text/plain": [
              "(-0.9010790823704407, -0.9010790823704407)"
            ]
          },
          "metadata": {},
          "execution_count": 59
        }
      ],
      "source": [
        "### Simple regret minimisation: run number = 11\n",
        "\n",
        "gp_output_11 = np.append(np.max(gp_11.GP.y[0:n_init]),gp_11.GP.y[n_init:(n_init+max_iter)]) \n",
        "stp_output_11 = np.append(np.max(stp_11.GP.y[0:n_init]),stp_11.GP.y[n_init:(n_init+max_iter)]) \n",
        "\n",
        "regret_gp_11 = np.log(y_global_orig - gp_output_11)\n",
        "regret_stp_11 = np.log(y_global_orig - stp_output_11)\n",
        "\n",
        "simple_regret_gp_11 = min_max_array(regret_gp_11)\n",
        "simple_regret_stp_11 = min_max_array(regret_stp_11)\n",
        "\n",
        "min_simple_regret_gp_11 = min(simple_regret_gp_11)\n",
        "min_simple_regret_stp_11 = min(simple_regret_stp_11)\n",
        "\n",
        "min_simple_regret_gp_11, min_simple_regret_stp_11\n"
      ]
    },
    {
      "cell_type": "code",
      "execution_count": null,
      "metadata": {
        "id": "CNvnLAXOJLlQ",
        "colab": {
          "base_uri": "https://localhost:8080/"
        },
        "outputId": "21e5762f-76f7-458d-ae3f-8476c9282c0e"
      },
      "outputs": [
        {
          "output_type": "execute_result",
          "data": {
            "text/plain": [
              "(0.41421091950449807, -0.2165359532096049)"
            ]
          },
          "metadata": {},
          "execution_count": 60
        }
      ],
      "source": [
        "### Simple regret minimisation: run number = 12\n",
        "\n",
        "gp_output_12 = np.append(np.max(gp_12.GP.y[0:n_init]),gp_12.GP.y[n_init:(n_init+max_iter)]) \n",
        "stp_output_12 = np.append(np.max(stp_12.GP.y[0:n_init]),stp_12.GP.y[n_init:(n_init+max_iter)]) \n",
        "\n",
        "regret_gp_12 = np.log(y_global_orig - gp_output_12)\n",
        "regret_stp_12 = np.log(y_global_orig - stp_output_12)\n",
        "\n",
        "simple_regret_gp_12 = min_max_array(regret_gp_12)\n",
        "simple_regret_stp_12 = min_max_array(regret_stp_12)\n",
        "\n",
        "min_simple_regret_gp_12 = min(simple_regret_gp_12)\n",
        "min_simple_regret_stp_12 = min(simple_regret_stp_12)\n",
        "\n",
        "min_simple_regret_gp_12, min_simple_regret_stp_12\n"
      ]
    },
    {
      "cell_type": "code",
      "execution_count": null,
      "metadata": {
        "id": "LccPP2SJJLlQ",
        "colab": {
          "base_uri": "https://localhost:8080/"
        },
        "outputId": "83091bf9-17ad-4738-8994-357099a43b1d"
      },
      "outputs": [
        {
          "output_type": "execute_result",
          "data": {
            "text/plain": [
              "(-2.098139556579845, -0.2455330665664157)"
            ]
          },
          "metadata": {},
          "execution_count": 61
        }
      ],
      "source": [
        "### Simple regret minimisation: run number = 13\n",
        "\n",
        "gp_output_13 = np.append(np.max(gp_13.GP.y[0:n_init]),gp_13.GP.y[n_init:(n_init+max_iter)]) \n",
        "stp_output_13 = np.append(np.max(stp_13.GP.y[0:n_init]),stp_13.GP.y[n_init:(n_init+max_iter)]) \n",
        "\n",
        "regret_gp_13 = np.log(y_global_orig - gp_output_13)\n",
        "regret_stp_13 = np.log(y_global_orig - stp_output_13)\n",
        "\n",
        "simple_regret_gp_13 = min_max_array(regret_gp_13)\n",
        "simple_regret_stp_13 = min_max_array(regret_stp_13)\n",
        "\n",
        "min_simple_regret_gp_13 = min(simple_regret_gp_13)\n",
        "min_simple_regret_stp_13 = min(simple_regret_stp_13)\n",
        "\n",
        "min_simple_regret_gp_13, min_simple_regret_stp_13\n"
      ]
    },
    {
      "cell_type": "code",
      "execution_count": null,
      "metadata": {
        "id": "OsCDbV_CJLlR",
        "colab": {
          "base_uri": "https://localhost:8080/"
        },
        "outputId": "1e194711-7a66-430f-8456-1b16d71b06ae"
      },
      "outputs": [
        {
          "output_type": "execute_result",
          "data": {
            "text/plain": [
              "(-6.074727392833108, -6.074727392833108)"
            ]
          },
          "metadata": {},
          "execution_count": 62
        }
      ],
      "source": [
        "### Simple regret minimisation: run number = 14\n",
        "\n",
        "gp_output_14 = np.append(np.max(gp_14.GP.y[0:n_init]),gp_14.GP.y[n_init:(n_init+max_iter)]) \n",
        "stp_output_14 = np.append(np.max(stp_14.GP.y[0:n_init]),stp_14.GP.y[n_init:(n_init+max_iter)]) \n",
        "\n",
        "regret_gp_14 = np.log(y_global_orig - gp_output_14)\n",
        "regret_stp_14 = np.log(y_global_orig - stp_output_14)\n",
        "\n",
        "simple_regret_gp_14 = min_max_array(regret_gp_14)\n",
        "simple_regret_stp_14 = min_max_array(regret_stp_14)\n",
        "\n",
        "min_simple_regret_gp_14 = min(simple_regret_gp_14)\n",
        "min_simple_regret_stp_14 = min(simple_regret_stp_14)\n",
        "\n",
        "min_simple_regret_gp_14, min_simple_regret_stp_14\n"
      ]
    },
    {
      "cell_type": "code",
      "execution_count": null,
      "metadata": {
        "id": "HVNGSKzNJLlR",
        "colab": {
          "base_uri": "https://localhost:8080/"
        },
        "outputId": "195759ac-c2af-4afa-bead-ed7ce04b5c2d"
      },
      "outputs": [
        {
          "output_type": "execute_result",
          "data": {
            "text/plain": [
              "(-0.7299445810654226, -1.6572043098809632)"
            ]
          },
          "metadata": {},
          "execution_count": 63
        }
      ],
      "source": [
        "### Simple regret minimisation: run number = 15\n",
        "\n",
        "gp_output_15 = np.append(np.max(gp_15.GP.y[0:n_init]),gp_15.GP.y[n_init:(n_init+max_iter)]) \n",
        "stp_output_15 = np.append(np.max(stp_15.GP.y[0:n_init]),stp_15.GP.y[n_init:(n_init+max_iter)]) \n",
        "\n",
        "regret_gp_15 = np.log(y_global_orig - gp_output_15)\n",
        "regret_stp_15 = np.log(y_global_orig - stp_output_15)\n",
        "\n",
        "simple_regret_gp_15 = min_max_array(regret_gp_15)\n",
        "simple_regret_stp_15 = min_max_array(regret_stp_15)\n",
        "\n",
        "min_simple_regret_gp_15 = min(simple_regret_gp_15)\n",
        "min_simple_regret_stp_15 = min(simple_regret_stp_15)\n",
        "\n",
        "min_simple_regret_gp_15, min_simple_regret_stp_15\n"
      ]
    },
    {
      "cell_type": "code",
      "execution_count": null,
      "metadata": {
        "id": "vFT0-DcpJLlS",
        "colab": {
          "base_uri": "https://localhost:8080/"
        },
        "outputId": "cca9341b-5173-49ce-ddc7-451aa114c2a7"
      },
      "outputs": [
        {
          "output_type": "execute_result",
          "data": {
            "text/plain": [
              "(1.0348160126455423, -1.7070706215985023)"
            ]
          },
          "metadata": {},
          "execution_count": 64
        }
      ],
      "source": [
        "### Simple regret minimisation: run number = 16\n",
        "\n",
        "gp_output_16 = np.append(np.max(gp_16.GP.y[0:n_init]),gp_16.GP.y[n_init:(n_init+max_iter)]) \n",
        "stp_output_16 = np.append(np.max(stp_16.GP.y[0:n_init]),stp_16.GP.y[n_init:(n_init+max_iter)]) \n",
        "\n",
        "regret_gp_16 = np.log(y_global_orig - gp_output_16)\n",
        "regret_stp_16 = np.log(y_global_orig - stp_output_16)\n",
        "\n",
        "simple_regret_gp_16 = min_max_array(regret_gp_16)\n",
        "simple_regret_stp_16 = min_max_array(regret_stp_16)\n",
        "\n",
        "min_simple_regret_gp_16 = min(simple_regret_gp_16)\n",
        "min_simple_regret_stp_16 = min(simple_regret_stp_16)\n",
        "\n",
        "min_simple_regret_gp_16, min_simple_regret_stp_16\n"
      ]
    },
    {
      "cell_type": "code",
      "execution_count": null,
      "metadata": {
        "id": "TPbl73U3JLlS",
        "colab": {
          "base_uri": "https://localhost:8080/"
        },
        "outputId": "28a8c430-d7b3-4634-eaac-5c860697d1e5"
      },
      "outputs": [
        {
          "output_type": "execute_result",
          "data": {
            "text/plain": [
              "(-0.4028865562905722, -0.6948091514451338)"
            ]
          },
          "metadata": {},
          "execution_count": 65
        }
      ],
      "source": [
        "### Simple regret minimisation: run number = 17\n",
        "\n",
        "gp_output_17 = np.append(np.max(gp_17.GP.y[0:n_init]),gp_17.GP.y[n_init:(n_init+max_iter)]) \n",
        "stp_output_17 = np.append(np.max(stp_17.GP.y[0:n_init]),stp_17.GP.y[n_init:(n_init+max_iter)]) \n",
        "\n",
        "regret_gp_17 = np.log(y_global_orig - gp_output_17)\n",
        "regret_stp_17 = np.log(y_global_orig - stp_output_17)\n",
        "\n",
        "simple_regret_gp_17 = min_max_array(regret_gp_17)\n",
        "simple_regret_stp_17 = min_max_array(regret_stp_17)\n",
        "\n",
        "min_simple_regret_gp_17 = min(simple_regret_gp_17)\n",
        "min_simple_regret_stp_17 = min(simple_regret_stp_17)\n",
        "\n",
        "min_simple_regret_gp_17, min_simple_regret_stp_17\n"
      ]
    },
    {
      "cell_type": "code",
      "execution_count": null,
      "metadata": {
        "id": "ANjpLP7uJLlT",
        "colab": {
          "base_uri": "https://localhost:8080/"
        },
        "outputId": "ee2ff45e-7138-43a3-c726-3142e9acbbb9"
      },
      "outputs": [
        {
          "output_type": "execute_result",
          "data": {
            "text/plain": [
              "(-0.4089783523664832, -0.8032573029669359)"
            ]
          },
          "metadata": {},
          "execution_count": 66
        }
      ],
      "source": [
        "### Simple regret minimisation: run number = 18\n",
        "\n",
        "gp_output_18 = np.append(np.max(gp_18.GP.y[0:n_init]),gp_18.GP.y[n_init:(n_init+max_iter)]) \n",
        "stp_output_18 = np.append(np.max(stp_18.GP.y[0:n_init]),stp_18.GP.y[n_init:(n_init+max_iter)]) \n",
        "\n",
        "regret_gp_18 = np.log(y_global_orig - gp_output_18)\n",
        "regret_stp_18 = np.log(y_global_orig - stp_output_18)\n",
        "\n",
        "simple_regret_gp_18 = min_max_array(regret_gp_18)\n",
        "simple_regret_stp_18 = min_max_array(regret_stp_18)\n",
        "\n",
        "min_simple_regret_gp_18 = min(simple_regret_gp_18)\n",
        "min_simple_regret_stp_18 = min(simple_regret_stp_18)\n",
        "\n",
        "min_simple_regret_gp_18, min_simple_regret_stp_18\n"
      ]
    },
    {
      "cell_type": "code",
      "execution_count": null,
      "metadata": {
        "id": "yYy7bHMOJLlT",
        "colab": {
          "base_uri": "https://localhost:8080/"
        },
        "outputId": "1a768ff5-077c-4ef6-e296-29431df10820"
      },
      "outputs": [
        {
          "output_type": "execute_result",
          "data": {
            "text/plain": [
              "(0.003000350006346752, -0.2952446517066615)"
            ]
          },
          "metadata": {},
          "execution_count": 67
        }
      ],
      "source": [
        "### Simple regret minimisation: run number = 19\n",
        "\n",
        "gp_output_19 = np.append(np.max(gp_19.GP.y[0:n_init]),gp_19.GP.y[n_init:(n_init+max_iter)]) \n",
        "stp_output_19 = np.append(np.max(stp_19.GP.y[0:n_init]),stp_19.GP.y[n_init:(n_init+max_iter)]) \n",
        "\n",
        "regret_gp_19 = np.log(y_global_orig - gp_output_19)\n",
        "regret_stp_19 = np.log(y_global_orig - stp_output_19)\n",
        "\n",
        "simple_regret_gp_19 = min_max_array(regret_gp_19)\n",
        "simple_regret_stp_19 = min_max_array(regret_stp_19)\n",
        "\n",
        "min_simple_regret_gp_19 = min(simple_regret_gp_19)\n",
        "min_simple_regret_stp_19 = min(simple_regret_stp_19)\n",
        "\n",
        "min_simple_regret_gp_19, min_simple_regret_stp_19\n"
      ]
    },
    {
      "cell_type": "code",
      "execution_count": null,
      "metadata": {
        "id": "7h8DTQ7MJLlU",
        "colab": {
          "base_uri": "https://localhost:8080/"
        },
        "outputId": "85d58eb2-85b9-4d84-817b-3f55ec178c96"
      },
      "outputs": [
        {
          "output_type": "execute_result",
          "data": {
            "text/plain": [
              "(0.2099242438178028, -3.5628961011297164)"
            ]
          },
          "metadata": {},
          "execution_count": 68
        }
      ],
      "source": [
        "### Simple regret minimisation: run number = 20\n",
        "\n",
        "gp_output_20 = np.append(np.max(gp_20.GP.y[0:n_init]),gp_20.GP.y[n_init:(n_init+max_iter)]) \n",
        "stp_output_20 = np.append(np.max(stp_20.GP.y[0:n_init]),stp_20.GP.y[n_init:(n_init+max_iter)]) \n",
        "\n",
        "regret_gp_20 = np.log(y_global_orig - gp_output_20)\n",
        "regret_stp_20 = np.log(y_global_orig - stp_output_20)\n",
        "\n",
        "simple_regret_gp_20 = min_max_array(regret_gp_20)\n",
        "simple_regret_stp_20 = min_max_array(regret_stp_20)\n",
        "\n",
        "min_simple_regret_gp_20 = min(simple_regret_gp_20)\n",
        "min_simple_regret_stp_20 = min(simple_regret_stp_20)\n",
        "\n",
        "min_simple_regret_gp_20, min_simple_regret_stp_20\n"
      ]
    },
    {
      "cell_type": "code",
      "execution_count": null,
      "metadata": {
        "id": "FuTVzVQkJLlU"
      },
      "outputs": [],
      "source": [
        "# Iteration1 :\n",
        "\n",
        "slice1 = 0\n",
        "\n",
        "gp1 = [simple_regret_gp_1[slice1],\n",
        "       simple_regret_gp_2[slice1],\n",
        "       simple_regret_gp_3[slice1],\n",
        "       simple_regret_gp_4[slice1],\n",
        "       simple_regret_gp_5[slice1],\n",
        "       simple_regret_gp_6[slice1],\n",
        "       simple_regret_gp_7[slice1],\n",
        "       simple_regret_gp_8[slice1],\n",
        "       simple_regret_gp_9[slice1],\n",
        "       simple_regret_gp_10[slice1],\n",
        "       simple_regret_gp_11[slice1],\n",
        "       simple_regret_gp_12[slice1],\n",
        "       simple_regret_gp_13[slice1],\n",
        "       simple_regret_gp_14[slice1],\n",
        "       simple_regret_gp_15[slice1],\n",
        "       simple_regret_gp_16[slice1],\n",
        "       simple_regret_gp_17[slice1],\n",
        "       simple_regret_gp_18[slice1],\n",
        "       simple_regret_gp_19[slice1],\n",
        "       simple_regret_gp_20[slice1]]\n",
        "\n",
        "stp1 = [simple_regret_stp_1[slice1],\n",
        "       simple_regret_stp_2[slice1],\n",
        "       simple_regret_stp_3[slice1],\n",
        "       simple_regret_stp_4[slice1],\n",
        "       simple_regret_stp_5[slice1],\n",
        "       simple_regret_stp_6[slice1],\n",
        "       simple_regret_stp_7[slice1],\n",
        "       simple_regret_stp_8[slice1],\n",
        "       simple_regret_stp_9[slice1],\n",
        "       simple_regret_stp_10[slice1],\n",
        "       simple_regret_stp_11[slice1],\n",
        "       simple_regret_stp_12[slice1],\n",
        "       simple_regret_stp_13[slice1],\n",
        "       simple_regret_stp_14[slice1],\n",
        "       simple_regret_stp_15[slice1],\n",
        "       simple_regret_stp_16[slice1],\n",
        "       simple_regret_stp_17[slice1],\n",
        "       simple_regret_stp_18[slice1],\n",
        "       simple_regret_stp_19[slice1],\n",
        "       simple_regret_stp_20[slice1]]\n",
        "\n",
        "gp1_results = pd.DataFrame(gp1).sort_values(by=[0], ascending=False)\n",
        "stp1_results = pd.DataFrame(stp1).sort_values(by=[0], ascending=False)\n",
        "\n",
        "### Best training regret minimization IQR - gp:\n",
        "lower_gp1 = np.asarray(gp1_results[4:5][0])[0]\n",
        "median_gp1 = np.asarray(gp1_results[9:10][0])[0]\n",
        "upper_gp1 = np.asarray(gp1_results[14:15][0])[0]\n",
        "\n",
        "lower_stp1 = np.asarray(stp1_results[4:5][0])[0]\n",
        "median_stp1 = np.asarray(stp1_results[9:10][0])[0]\n",
        "upper_stp1 = np.asarray(stp1_results[14:15][0])[0]\n"
      ]
    },
    {
      "cell_type": "code",
      "execution_count": null,
      "metadata": {
        "id": "OCTtqlBHJLlV"
      },
      "outputs": [],
      "source": [
        "# Iteration11 :\n",
        "\n",
        "slice11 = 10\n",
        "\n",
        "gp11 = [simple_regret_gp_1[slice11],\n",
        "       simple_regret_gp_2[slice11],\n",
        "       simple_regret_gp_3[slice11],\n",
        "       simple_regret_gp_4[slice11],\n",
        "       simple_regret_gp_5[slice11],\n",
        "       simple_regret_gp_6[slice11],\n",
        "       simple_regret_gp_7[slice11],\n",
        "       simple_regret_gp_8[slice11],\n",
        "       simple_regret_gp_9[slice11],\n",
        "       simple_regret_gp_10[slice11],\n",
        "       simple_regret_gp_11[slice11],\n",
        "       simple_regret_gp_12[slice11],\n",
        "       simple_regret_gp_13[slice11],\n",
        "       simple_regret_gp_14[slice11],\n",
        "       simple_regret_gp_15[slice11],\n",
        "       simple_regret_gp_16[slice11],\n",
        "       simple_regret_gp_17[slice11],\n",
        "       simple_regret_gp_18[slice11],\n",
        "       simple_regret_gp_19[slice11],\n",
        "       simple_regret_gp_20[slice11]]\n",
        "\n",
        "stp11 = [simple_regret_stp_1[slice11],\n",
        "       simple_regret_stp_2[slice11],\n",
        "       simple_regret_stp_3[slice11],\n",
        "       simple_regret_stp_4[slice11],\n",
        "       simple_regret_stp_5[slice11],\n",
        "       simple_regret_stp_6[slice11],\n",
        "       simple_regret_stp_7[slice11],\n",
        "       simple_regret_stp_8[slice11],\n",
        "       simple_regret_stp_9[slice11],\n",
        "       simple_regret_stp_10[slice11],\n",
        "       simple_regret_stp_11[slice11],\n",
        "       simple_regret_stp_12[slice11],\n",
        "       simple_regret_stp_13[slice11],\n",
        "       simple_regret_stp_14[slice11],\n",
        "       simple_regret_stp_15[slice11],\n",
        "       simple_regret_stp_16[slice11],\n",
        "       simple_regret_stp_17[slice11],\n",
        "       simple_regret_stp_18[slice11],\n",
        "       simple_regret_stp_19[slice11],\n",
        "       simple_regret_stp_20[slice11]]\n",
        "\n",
        "gp11_results = pd.DataFrame(gp11).sort_values(by=[0], ascending=False)\n",
        "stp11_results = pd.DataFrame(stp11).sort_values(by=[0], ascending=False)\n",
        "\n",
        "### Best training regret minimization IQR - gp:\n",
        "lower_gp11 = np.asarray(gp11_results[4:5][0])[0]\n",
        "median_gp11 = np.asarray(gp11_results[9:10][0])[0]\n",
        "upper_gp11 = np.asarray(gp11_results[14:15][0])[0]\n",
        "\n",
        "lower_stp11 = np.asarray(stp11_results[4:5][0])[0]\n",
        "median_stp11 = np.asarray(stp11_results[9:10][0])[0]\n",
        "upper_stp11 = np.asarray(stp11_results[14:15][0])[0]\n"
      ]
    },
    {
      "cell_type": "code",
      "execution_count": null,
      "metadata": {
        "id": "OhneK6K5JLlV"
      },
      "outputs": [],
      "source": [
        "# Iteration21 :\n",
        "\n",
        "slice21 = 20\n",
        "\n",
        "gp21 = [simple_regret_gp_1[slice21],\n",
        "       simple_regret_gp_2[slice21],\n",
        "       simple_regret_gp_3[slice21],\n",
        "       simple_regret_gp_4[slice21],\n",
        "       simple_regret_gp_5[slice21],\n",
        "       simple_regret_gp_6[slice21],\n",
        "       simple_regret_gp_7[slice21],\n",
        "       simple_regret_gp_8[slice21],\n",
        "       simple_regret_gp_9[slice21],\n",
        "       simple_regret_gp_10[slice21],\n",
        "       simple_regret_gp_11[slice21],\n",
        "       simple_regret_gp_12[slice21],\n",
        "       simple_regret_gp_13[slice21],\n",
        "       simple_regret_gp_14[slice21],\n",
        "       simple_regret_gp_15[slice21],\n",
        "       simple_regret_gp_16[slice21],\n",
        "       simple_regret_gp_17[slice21],\n",
        "       simple_regret_gp_18[slice21],\n",
        "       simple_regret_gp_19[slice21],\n",
        "       simple_regret_gp_20[slice21]]\n",
        "\n",
        "stp21 = [simple_regret_stp_1[slice21],\n",
        "       simple_regret_stp_2[slice21],\n",
        "       simple_regret_stp_3[slice21],\n",
        "       simple_regret_stp_4[slice21],\n",
        "       simple_regret_stp_5[slice21],\n",
        "       simple_regret_stp_6[slice21],\n",
        "       simple_regret_stp_7[slice21],\n",
        "       simple_regret_stp_8[slice21],\n",
        "       simple_regret_stp_9[slice21],\n",
        "       simple_regret_stp_10[slice21],\n",
        "       simple_regret_stp_11[slice21],\n",
        "       simple_regret_stp_12[slice21],\n",
        "       simple_regret_stp_13[slice21],\n",
        "       simple_regret_stp_14[slice21],\n",
        "       simple_regret_stp_15[slice21],\n",
        "       simple_regret_stp_16[slice21],\n",
        "       simple_regret_stp_17[slice21],\n",
        "       simple_regret_stp_18[slice21],\n",
        "       simple_regret_stp_19[slice21],\n",
        "       simple_regret_stp_20[slice21]]\n",
        "\n",
        "gp21_results = pd.DataFrame(gp21).sort_values(by=[0], ascending=False)\n",
        "stp21_results = pd.DataFrame(stp21).sort_values(by=[0], ascending=False)\n",
        "\n",
        "### Best training regret minimization IQR - gp:\n",
        "lower_gp21 = np.asarray(gp21_results[4:5][0])[0]\n",
        "median_gp21 = np.asarray(gp21_results[9:10][0])[0]\n",
        "upper_gp21 = np.asarray(gp21_results[14:15][0])[0]\n",
        "\n",
        "lower_stp21 = np.asarray(stp21_results[4:5][0])[0]\n",
        "median_stp21 = np.asarray(stp21_results[9:10][0])[0]\n",
        "upper_stp21 = np.asarray(stp21_results[14:15][0])[0]\n"
      ]
    },
    {
      "cell_type": "code",
      "execution_count": null,
      "metadata": {
        "id": "wetKUCmLJLlb"
      },
      "outputs": [],
      "source": [
        "# Iteration2 :\n",
        "\n",
        "slice2 = 1\n",
        "\n",
        "gp2 = [simple_regret_gp_1[slice2],\n",
        "       simple_regret_gp_2[slice2],\n",
        "       simple_regret_gp_3[slice2],\n",
        "       simple_regret_gp_4[slice2],\n",
        "       simple_regret_gp_5[slice2],\n",
        "       simple_regret_gp_6[slice2],\n",
        "       simple_regret_gp_7[slice2],\n",
        "       simple_regret_gp_8[slice2],\n",
        "       simple_regret_gp_9[slice2],\n",
        "       simple_regret_gp_10[slice2],\n",
        "       simple_regret_gp_11[slice2],\n",
        "       simple_regret_gp_12[slice2],\n",
        "       simple_regret_gp_13[slice2],\n",
        "       simple_regret_gp_14[slice2],\n",
        "       simple_regret_gp_15[slice2],\n",
        "       simple_regret_gp_16[slice2],\n",
        "       simple_regret_gp_17[slice2],\n",
        "       simple_regret_gp_18[slice2],\n",
        "       simple_regret_gp_19[slice2],\n",
        "       simple_regret_gp_20[slice2]]\n",
        "\n",
        "stp2 = [simple_regret_stp_1[slice2],\n",
        "       simple_regret_stp_2[slice2],\n",
        "       simple_regret_stp_3[slice2],\n",
        "       simple_regret_stp_4[slice2],\n",
        "       simple_regret_stp_5[slice2],\n",
        "       simple_regret_stp_6[slice2],\n",
        "       simple_regret_stp_7[slice2],\n",
        "       simple_regret_stp_8[slice2],\n",
        "       simple_regret_stp_9[slice2],\n",
        "       simple_regret_stp_10[slice2],\n",
        "       simple_regret_stp_11[slice2],\n",
        "       simple_regret_stp_12[slice2],\n",
        "       simple_regret_stp_13[slice2],\n",
        "       simple_regret_stp_14[slice2],\n",
        "       simple_regret_stp_15[slice2],\n",
        "       simple_regret_stp_16[slice2],\n",
        "       simple_regret_stp_17[slice2],\n",
        "       simple_regret_stp_18[slice2],\n",
        "       simple_regret_stp_19[slice2],\n",
        "       simple_regret_stp_20[slice2]]\n",
        "\n",
        "gp2_results = pd.DataFrame(gp2).sort_values(by=[0], ascending=False)\n",
        "stp2_results = pd.DataFrame(stp2).sort_values(by=[0], ascending=False)\n",
        "\n",
        "### Best training regret minimization IQR - gp:\n",
        "lower_gp2 = np.asarray(gp2_results[4:5][0])[0]\n",
        "median_gp2 = np.asarray(gp2_results[9:10][0])[0]\n",
        "upper_gp2 = np.asarray(gp2_results[14:15][0])[0]\n",
        "\n",
        "lower_stp2 = np.asarray(stp2_results[4:5][0])[0]\n",
        "median_stp2 = np.asarray(stp2_results[9:10][0])[0]\n",
        "upper_stp2 = np.asarray(stp2_results[14:15][0])[0]\n"
      ]
    },
    {
      "cell_type": "code",
      "execution_count": null,
      "metadata": {
        "id": "8dIyaTLKJLlc"
      },
      "outputs": [],
      "source": [
        "# Iteration12 :\n",
        "\n",
        "slice12 = 11\n",
        "\n",
        "gp12 = [simple_regret_gp_1[slice12],\n",
        "       simple_regret_gp_2[slice12],\n",
        "       simple_regret_gp_3[slice12],\n",
        "       simple_regret_gp_4[slice12],\n",
        "       simple_regret_gp_5[slice12],\n",
        "       simple_regret_gp_6[slice12],\n",
        "       simple_regret_gp_7[slice12],\n",
        "       simple_regret_gp_8[slice12],\n",
        "       simple_regret_gp_9[slice12],\n",
        "       simple_regret_gp_10[slice12],\n",
        "       simple_regret_gp_11[slice12],\n",
        "       simple_regret_gp_12[slice12],\n",
        "       simple_regret_gp_13[slice12],\n",
        "       simple_regret_gp_14[slice12],\n",
        "       simple_regret_gp_15[slice12],\n",
        "       simple_regret_gp_16[slice12],\n",
        "       simple_regret_gp_17[slice12],\n",
        "       simple_regret_gp_18[slice12],\n",
        "       simple_regret_gp_19[slice12],\n",
        "       simple_regret_gp_20[slice12]]\n",
        "\n",
        "stp12 = [simple_regret_stp_1[slice12],\n",
        "       simple_regret_stp_2[slice12],\n",
        "       simple_regret_stp_3[slice12],\n",
        "       simple_regret_stp_4[slice12],\n",
        "       simple_regret_stp_5[slice12],\n",
        "       simple_regret_stp_6[slice12],\n",
        "       simple_regret_stp_7[slice12],\n",
        "       simple_regret_stp_8[slice12],\n",
        "       simple_regret_stp_9[slice12],\n",
        "       simple_regret_stp_10[slice12],\n",
        "       simple_regret_stp_11[slice12],\n",
        "       simple_regret_stp_12[slice12],\n",
        "       simple_regret_stp_13[slice12],\n",
        "       simple_regret_stp_14[slice12],\n",
        "       simple_regret_stp_15[slice12],\n",
        "       simple_regret_stp_16[slice12],\n",
        "       simple_regret_stp_17[slice12],\n",
        "       simple_regret_stp_18[slice12],\n",
        "       simple_regret_stp_19[slice12],\n",
        "       simple_regret_stp_20[slice12]]\n",
        "\n",
        "gp12_results = pd.DataFrame(gp12).sort_values(by=[0], ascending=False)\n",
        "stp12_results = pd.DataFrame(stp12).sort_values(by=[0], ascending=False)\n",
        "\n",
        "### Best training regret minimization IQR - gp:\n",
        "lower_gp12 = np.asarray(gp12_results[4:5][0])[0]\n",
        "median_gp12 = np.asarray(gp12_results[9:10][0])[0]\n",
        "upper_gp12 = np.asarray(gp12_results[14:15][0])[0]\n",
        "\n",
        "lower_stp12 = np.asarray(stp12_results[4:5][0])[0]\n",
        "median_stp12 = np.asarray(stp12_results[9:10][0])[0]\n",
        "upper_stp12 = np.asarray(stp12_results[14:15][0])[0]\n"
      ]
    },
    {
      "cell_type": "code",
      "execution_count": null,
      "metadata": {
        "id": "1_6u8LF1JLlt"
      },
      "outputs": [],
      "source": [
        "# Iteration3 :\n",
        "\n",
        "slice3 = 2\n",
        "\n",
        "gp3 = [simple_regret_gp_1[slice3],\n",
        "       simple_regret_gp_2[slice3],\n",
        "       simple_regret_gp_3[slice3],\n",
        "       simple_regret_gp_4[slice3],\n",
        "       simple_regret_gp_5[slice3],\n",
        "       simple_regret_gp_6[slice3],\n",
        "       simple_regret_gp_7[slice3],\n",
        "       simple_regret_gp_8[slice3],\n",
        "       simple_regret_gp_9[slice3],\n",
        "       simple_regret_gp_10[slice3],\n",
        "       simple_regret_gp_11[slice3],\n",
        "       simple_regret_gp_12[slice3],\n",
        "       simple_regret_gp_13[slice3],\n",
        "       simple_regret_gp_14[slice3],\n",
        "       simple_regret_gp_15[slice3],\n",
        "       simple_regret_gp_16[slice3],\n",
        "       simple_regret_gp_17[slice3],\n",
        "       simple_regret_gp_18[slice3],\n",
        "       simple_regret_gp_19[slice3],\n",
        "       simple_regret_gp_20[slice3]]\n",
        "\n",
        "stp3 = [simple_regret_stp_1[slice3],\n",
        "       simple_regret_stp_2[slice3],\n",
        "       simple_regret_stp_3[slice3],\n",
        "       simple_regret_stp_4[slice3],\n",
        "       simple_regret_stp_5[slice3],\n",
        "       simple_regret_stp_6[slice3],\n",
        "       simple_regret_stp_7[slice3],\n",
        "       simple_regret_stp_8[slice3],\n",
        "       simple_regret_stp_9[slice3],\n",
        "       simple_regret_stp_10[slice3],\n",
        "       simple_regret_stp_11[slice3],\n",
        "       simple_regret_stp_12[slice3],\n",
        "       simple_regret_stp_13[slice3],\n",
        "       simple_regret_stp_14[slice3],\n",
        "       simple_regret_stp_15[slice3],\n",
        "       simple_regret_stp_16[slice3],\n",
        "       simple_regret_stp_17[slice3],\n",
        "       simple_regret_stp_18[slice3],\n",
        "       simple_regret_stp_19[slice3],\n",
        "       simple_regret_stp_20[slice3]]\n",
        "\n",
        "gp3_results = pd.DataFrame(gp3).sort_values(by=[0], ascending=False)\n",
        "stp3_results = pd.DataFrame(stp3).sort_values(by=[0], ascending=False)\n",
        "\n",
        "### Best training regret minimization IQR - gp:\n",
        "lower_gp3 = np.asarray(gp3_results[4:5][0])[0]\n",
        "median_gp3 = np.asarray(gp3_results[9:10][0])[0]\n",
        "upper_gp3 = np.asarray(gp3_results[14:15][0])[0]\n",
        "\n",
        "lower_stp3 = np.asarray(stp3_results[4:5][0])[0]\n",
        "median_stp3 = np.asarray(stp3_results[9:10][0])[0]\n",
        "upper_stp3 = np.asarray(stp3_results[14:15][0])[0]\n"
      ]
    },
    {
      "cell_type": "code",
      "execution_count": null,
      "metadata": {
        "id": "GGEAa73pJLlu"
      },
      "outputs": [],
      "source": [
        "# Iteration13 :\n",
        "\n",
        "slice13 = 12\n",
        "\n",
        "gp13 = [simple_regret_gp_1[slice13],\n",
        "       simple_regret_gp_2[slice13],\n",
        "       simple_regret_gp_3[slice13],\n",
        "       simple_regret_gp_4[slice13],\n",
        "       simple_regret_gp_5[slice13],\n",
        "       simple_regret_gp_6[slice13],\n",
        "       simple_regret_gp_7[slice13],\n",
        "       simple_regret_gp_8[slice13],\n",
        "       simple_regret_gp_9[slice13],\n",
        "       simple_regret_gp_10[slice13],\n",
        "       simple_regret_gp_11[slice13],\n",
        "       simple_regret_gp_12[slice13],\n",
        "       simple_regret_gp_13[slice13],\n",
        "       simple_regret_gp_14[slice13],\n",
        "       simple_regret_gp_15[slice13],\n",
        "       simple_regret_gp_16[slice13],\n",
        "       simple_regret_gp_17[slice13],\n",
        "       simple_regret_gp_18[slice13],\n",
        "       simple_regret_gp_19[slice13],\n",
        "       simple_regret_gp_20[slice13]]\n",
        "\n",
        "stp13 = [simple_regret_stp_1[slice13],\n",
        "       simple_regret_stp_2[slice13],\n",
        "       simple_regret_stp_3[slice13],\n",
        "       simple_regret_stp_4[slice13],\n",
        "       simple_regret_stp_5[slice13],\n",
        "       simple_regret_stp_6[slice13],\n",
        "       simple_regret_stp_7[slice13],\n",
        "       simple_regret_stp_8[slice13],\n",
        "       simple_regret_stp_9[slice13],\n",
        "       simple_regret_stp_10[slice13],\n",
        "       simple_regret_stp_11[slice13],\n",
        "       simple_regret_stp_12[slice13],\n",
        "       simple_regret_stp_13[slice13],\n",
        "       simple_regret_stp_14[slice13],\n",
        "       simple_regret_stp_15[slice13],\n",
        "       simple_regret_stp_16[slice13],\n",
        "       simple_regret_stp_17[slice13],\n",
        "       simple_regret_stp_18[slice13],\n",
        "       simple_regret_stp_19[slice13],\n",
        "       simple_regret_stp_20[slice13]]\n",
        "\n",
        "gp13_results = pd.DataFrame(gp12).sort_values(by=[0], ascending=False)\n",
        "stp13_results = pd.DataFrame(stp12).sort_values(by=[0], ascending=False)\n",
        "\n",
        "### Best training regret minimization IQR - gp:\n",
        "lower_gp13 = np.asarray(gp13_results[4:5][0])[0]\n",
        "median_gp13 = np.asarray(gp13_results[9:10][0])[0]\n",
        "upper_gp13 = np.asarray(gp13_results[14:15][0])[0]\n",
        "\n",
        "lower_stp13 = np.asarray(stp13_results[4:5][0])[0]\n",
        "median_stp13 = np.asarray(stp13_results[9:10][0])[0]\n",
        "upper_stp13 = np.asarray(stp13_results[14:15][0])[0]\n"
      ]
    },
    {
      "cell_type": "code",
      "execution_count": null,
      "metadata": {
        "id": "T30xLxygJLl0"
      },
      "outputs": [],
      "source": [
        "# Iteration4 :\n",
        "\n",
        "slice4 = 3\n",
        "\n",
        "gp4 = [simple_regret_gp_1[slice4],\n",
        "       simple_regret_gp_2[slice4],\n",
        "       simple_regret_gp_3[slice4],\n",
        "       simple_regret_gp_4[slice4],\n",
        "       simple_regret_gp_5[slice4],\n",
        "       simple_regret_gp_6[slice4],\n",
        "       simple_regret_gp_7[slice4],\n",
        "       simple_regret_gp_8[slice4],\n",
        "       simple_regret_gp_9[slice4],\n",
        "       simple_regret_gp_10[slice4],\n",
        "       simple_regret_gp_11[slice4],\n",
        "       simple_regret_gp_12[slice4],\n",
        "       simple_regret_gp_13[slice4],\n",
        "       simple_regret_gp_14[slice4],\n",
        "       simple_regret_gp_15[slice4],\n",
        "       simple_regret_gp_16[slice4],\n",
        "       simple_regret_gp_17[slice4],\n",
        "       simple_regret_gp_18[slice4],\n",
        "       simple_regret_gp_19[slice4],\n",
        "       simple_regret_gp_20[slice4]]\n",
        "\n",
        "stp4 = [simple_regret_stp_1[slice4],\n",
        "       simple_regret_stp_2[slice4],\n",
        "       simple_regret_stp_3[slice4],\n",
        "       simple_regret_stp_4[slice4],\n",
        "       simple_regret_stp_5[slice4],\n",
        "       simple_regret_stp_6[slice4],\n",
        "       simple_regret_stp_7[slice4],\n",
        "       simple_regret_stp_8[slice4],\n",
        "       simple_regret_stp_9[slice4],\n",
        "       simple_regret_stp_10[slice4],\n",
        "       simple_regret_stp_11[slice4],\n",
        "       simple_regret_stp_12[slice4],\n",
        "       simple_regret_stp_13[slice4],\n",
        "       simple_regret_stp_14[slice4],\n",
        "       simple_regret_stp_15[slice4],\n",
        "       simple_regret_stp_16[slice4],\n",
        "       simple_regret_stp_17[slice4],\n",
        "       simple_regret_stp_18[slice4],\n",
        "       simple_regret_stp_19[slice4],\n",
        "       simple_regret_stp_20[slice4]]\n",
        "\n",
        "gp4_results = pd.DataFrame(gp4).sort_values(by=[0], ascending=False)\n",
        "stp4_results = pd.DataFrame(stp4).sort_values(by=[0], ascending=False)\n",
        "\n",
        "### Best training regret minimization IQR - gp:\n",
        "lower_gp4 = np.asarray(gp4_results[4:5][0])[0]\n",
        "median_gp4 = np.asarray(gp4_results[9:10][0])[0]\n",
        "upper_gp4 = np.asarray(gp4_results[14:15][0])[0]\n",
        "\n",
        "lower_stp4 = np.asarray(stp4_results[4:5][0])[0]\n",
        "median_stp4 = np.asarray(stp4_results[9:10][0])[0]\n",
        "upper_stp4 = np.asarray(stp4_results[14:15][0])[0]\n"
      ]
    },
    {
      "cell_type": "code",
      "execution_count": null,
      "metadata": {
        "id": "MQ-jpNrnJLl1"
      },
      "outputs": [],
      "source": [
        "# Iteration14 :\n",
        "\n",
        "slice14 = 13\n",
        "\n",
        "gp14 = [simple_regret_gp_1[slice14],\n",
        "       simple_regret_gp_2[slice14],\n",
        "       simple_regret_gp_3[slice14],\n",
        "       simple_regret_gp_4[slice14],\n",
        "       simple_regret_gp_5[slice14],\n",
        "       simple_regret_gp_6[slice14],\n",
        "       simple_regret_gp_7[slice14],\n",
        "       simple_regret_gp_8[slice14],\n",
        "       simple_regret_gp_9[slice14],\n",
        "       simple_regret_gp_10[slice14],\n",
        "       simple_regret_gp_11[slice14],\n",
        "       simple_regret_gp_12[slice14],\n",
        "       simple_regret_gp_13[slice14],\n",
        "       simple_regret_gp_14[slice14],\n",
        "       simple_regret_gp_15[slice14],\n",
        "       simple_regret_gp_16[slice14],\n",
        "       simple_regret_gp_17[slice14],\n",
        "       simple_regret_gp_18[slice14],\n",
        "       simple_regret_gp_19[slice14],\n",
        "       simple_regret_gp_20[slice14]]\n",
        "\n",
        "stp14 = [simple_regret_stp_1[slice14],\n",
        "       simple_regret_stp_2[slice14],\n",
        "       simple_regret_stp_3[slice14],\n",
        "       simple_regret_stp_4[slice14],\n",
        "       simple_regret_stp_5[slice14],\n",
        "       simple_regret_stp_6[slice14],\n",
        "       simple_regret_stp_7[slice14],\n",
        "       simple_regret_stp_8[slice14],\n",
        "       simple_regret_stp_9[slice14],\n",
        "       simple_regret_stp_10[slice14],\n",
        "       simple_regret_stp_11[slice14],\n",
        "       simple_regret_stp_12[slice14],\n",
        "       simple_regret_stp_13[slice14],\n",
        "       simple_regret_stp_14[slice14],\n",
        "       simple_regret_stp_15[slice14],\n",
        "       simple_regret_stp_16[slice14],\n",
        "       simple_regret_stp_17[slice14],\n",
        "       simple_regret_stp_18[slice14],\n",
        "       simple_regret_stp_19[slice14],\n",
        "       simple_regret_stp_20[slice14]]\n",
        "\n",
        "gp14_results = pd.DataFrame(gp14).sort_values(by=[0], ascending=False)\n",
        "stp14_results = pd.DataFrame(stp14).sort_values(by=[0], ascending=False)\n",
        "\n",
        "### Best training regret minimization IQR - gp:\n",
        "lower_gp14 = np.asarray(gp14_results[4:5][0])[0]\n",
        "median_gp14 = np.asarray(gp14_results[9:10][0])[0]\n",
        "upper_gp14 = np.asarray(gp14_results[14:15][0])[0]\n",
        "\n",
        "lower_stp14 = np.asarray(stp14_results[4:5][0])[0]\n",
        "median_stp14 = np.asarray(stp14_results[9:10][0])[0]\n",
        "upper_stp14 = np.asarray(stp14_results[14:15][0])[0]\n"
      ]
    },
    {
      "cell_type": "code",
      "execution_count": null,
      "metadata": {
        "id": "Xhy_AN9jJLl9"
      },
      "outputs": [],
      "source": [
        "# Iteration5 :\n",
        "\n",
        "slice5 = 4\n",
        "\n",
        "gp5 = [simple_regret_gp_1[slice5],\n",
        "       simple_regret_gp_2[slice5],\n",
        "       simple_regret_gp_3[slice5],\n",
        "       simple_regret_gp_4[slice5],\n",
        "       simple_regret_gp_5[slice5],\n",
        "       simple_regret_gp_6[slice5],\n",
        "       simple_regret_gp_7[slice5],\n",
        "       simple_regret_gp_8[slice5],\n",
        "       simple_regret_gp_9[slice5],\n",
        "       simple_regret_gp_10[slice5],\n",
        "       simple_regret_gp_11[slice5],\n",
        "       simple_regret_gp_12[slice5],\n",
        "       simple_regret_gp_13[slice5],\n",
        "       simple_regret_gp_14[slice5],\n",
        "       simple_regret_gp_15[slice5],\n",
        "       simple_regret_gp_16[slice5],\n",
        "       simple_regret_gp_17[slice5],\n",
        "       simple_regret_gp_18[slice5],\n",
        "       simple_regret_gp_19[slice5],\n",
        "       simple_regret_gp_20[slice5]]\n",
        "\n",
        "stp5 = [simple_regret_stp_1[slice5],\n",
        "       simple_regret_stp_2[slice5],\n",
        "       simple_regret_stp_3[slice5],\n",
        "       simple_regret_stp_4[slice5],\n",
        "       simple_regret_stp_5[slice5],\n",
        "       simple_regret_stp_6[slice5],\n",
        "       simple_regret_stp_7[slice5],\n",
        "       simple_regret_stp_8[slice5],\n",
        "       simple_regret_stp_9[slice5],\n",
        "       simple_regret_stp_10[slice5],\n",
        "       simple_regret_stp_11[slice5],\n",
        "       simple_regret_stp_12[slice5],\n",
        "       simple_regret_stp_13[slice5],\n",
        "       simple_regret_stp_14[slice5],\n",
        "       simple_regret_stp_15[slice5],\n",
        "       simple_regret_stp_16[slice5],\n",
        "       simple_regret_stp_17[slice5],\n",
        "       simple_regret_stp_18[slice5],\n",
        "       simple_regret_stp_19[slice5],\n",
        "       simple_regret_stp_20[slice5]]\n",
        "\n",
        "gp5_results = pd.DataFrame(gp5).sort_values(by=[0], ascending=False)\n",
        "stp5_results = pd.DataFrame(stp5).sort_values(by=[0], ascending=False)\n",
        "\n",
        "### Best training regret minimization IQR - gp:\n",
        "lower_gp5 = np.asarray(gp5_results[4:5][0])[0]\n",
        "median_gp5 = np.asarray(gp5_results[9:10][0])[0]\n",
        "upper_gp5 = np.asarray(gp5_results[14:15][0])[0]\n",
        "\n",
        "lower_stp5 = np.asarray(stp5_results[4:5][0])[0]\n",
        "median_stp5 = np.asarray(stp5_results[9:10][0])[0]\n",
        "upper_stp5 = np.asarray(stp5_results[14:15][0])[0]\n"
      ]
    },
    {
      "cell_type": "code",
      "execution_count": null,
      "metadata": {
        "id": "WHbtLHnbJLl-"
      },
      "outputs": [],
      "source": [
        "# Iteration15 :\n",
        "\n",
        "slice15 = 14\n",
        "\n",
        "gp15 = [simple_regret_gp_1[slice15],\n",
        "       simple_regret_gp_2[slice15],\n",
        "       simple_regret_gp_3[slice15],\n",
        "       simple_regret_gp_4[slice15],\n",
        "       simple_regret_gp_5[slice15],\n",
        "       simple_regret_gp_6[slice15],\n",
        "       simple_regret_gp_7[slice15],\n",
        "       simple_regret_gp_8[slice15],\n",
        "       simple_regret_gp_9[slice15],\n",
        "       simple_regret_gp_10[slice15],\n",
        "       simple_regret_gp_11[slice15],\n",
        "       simple_regret_gp_12[slice15],\n",
        "       simple_regret_gp_13[slice15],\n",
        "       simple_regret_gp_14[slice15],\n",
        "       simple_regret_gp_15[slice15],\n",
        "       simple_regret_gp_16[slice15],\n",
        "       simple_regret_gp_17[slice15],\n",
        "       simple_regret_gp_18[slice15],\n",
        "       simple_regret_gp_19[slice15],\n",
        "       simple_regret_gp_20[slice15]]\n",
        "\n",
        "stp15 = [simple_regret_stp_1[slice15],\n",
        "       simple_regret_stp_2[slice15],\n",
        "       simple_regret_stp_3[slice15],\n",
        "       simple_regret_stp_4[slice15],\n",
        "       simple_regret_stp_5[slice15],\n",
        "       simple_regret_stp_6[slice15],\n",
        "       simple_regret_stp_7[slice15],\n",
        "       simple_regret_stp_8[slice15],\n",
        "       simple_regret_stp_9[slice15],\n",
        "       simple_regret_stp_10[slice15],\n",
        "       simple_regret_stp_11[slice15],\n",
        "       simple_regret_stp_12[slice15],\n",
        "       simple_regret_stp_13[slice15],\n",
        "       simple_regret_stp_14[slice15],\n",
        "       simple_regret_stp_15[slice15],\n",
        "       simple_regret_stp_16[slice15],\n",
        "       simple_regret_stp_17[slice15],\n",
        "       simple_regret_stp_18[slice15],\n",
        "       simple_regret_stp_19[slice15],\n",
        "       simple_regret_stp_20[slice15]]\n",
        "\n",
        "gp15_results = pd.DataFrame(gp15).sort_values(by=[0], ascending=False)\n",
        "stp15_results = pd.DataFrame(stp15).sort_values(by=[0], ascending=False)\n",
        "\n",
        "### Best training regret minimization IQR - gp:\n",
        "lower_gp15 = np.asarray(gp15_results[4:5][0])[0]\n",
        "median_gp15 = np.asarray(gp15_results[9:10][0])[0]\n",
        "upper_gp15 = np.asarray(gp15_results[14:15][0])[0]\n",
        "\n",
        "lower_stp15 = np.asarray(stp15_results[4:5][0])[0]\n",
        "median_stp15 = np.asarray(stp15_results[9:10][0])[0]\n",
        "upper_stp15 = np.asarray(stp15_results[14:15][0])[0]\n"
      ]
    },
    {
      "cell_type": "code",
      "execution_count": null,
      "metadata": {
        "id": "XqsNyHzqJLmC"
      },
      "outputs": [],
      "source": [
        "# Iteration6 :\n",
        "\n",
        "slice6 = 5\n",
        "\n",
        "gp6 = [simple_regret_gp_1[slice6],\n",
        "       simple_regret_gp_2[slice6],\n",
        "       simple_regret_gp_3[slice6],\n",
        "       simple_regret_gp_4[slice6],\n",
        "       simple_regret_gp_5[slice6],\n",
        "       simple_regret_gp_6[slice6],\n",
        "       simple_regret_gp_7[slice6],\n",
        "       simple_regret_gp_8[slice6],\n",
        "       simple_regret_gp_9[slice6],\n",
        "       simple_regret_gp_10[slice6],\n",
        "       simple_regret_gp_11[slice6],\n",
        "       simple_regret_gp_12[slice6],\n",
        "       simple_regret_gp_13[slice6],\n",
        "       simple_regret_gp_14[slice6],\n",
        "       simple_regret_gp_15[slice6],\n",
        "       simple_regret_gp_16[slice6],\n",
        "       simple_regret_gp_17[slice6],\n",
        "       simple_regret_gp_18[slice6],\n",
        "       simple_regret_gp_19[slice6],\n",
        "       simple_regret_gp_20[slice6]]\n",
        "\n",
        "stp6 = [simple_regret_stp_1[slice6],\n",
        "       simple_regret_stp_2[slice6],\n",
        "       simple_regret_stp_3[slice6],\n",
        "       simple_regret_stp_4[slice6],\n",
        "       simple_regret_stp_5[slice6],\n",
        "       simple_regret_stp_6[slice6],\n",
        "       simple_regret_stp_7[slice6],\n",
        "       simple_regret_stp_8[slice6],\n",
        "       simple_regret_stp_9[slice6],\n",
        "       simple_regret_stp_10[slice6],\n",
        "       simple_regret_stp_11[slice6],\n",
        "       simple_regret_stp_12[slice6],\n",
        "       simple_regret_stp_13[slice6],\n",
        "       simple_regret_stp_14[slice6],\n",
        "       simple_regret_stp_15[slice6],\n",
        "       simple_regret_stp_16[slice6],\n",
        "       simple_regret_stp_17[slice6],\n",
        "       simple_regret_stp_18[slice6],\n",
        "       simple_regret_stp_19[slice6],\n",
        "       simple_regret_stp_20[slice6]]\n",
        "\n",
        "gp6_results = pd.DataFrame(gp6).sort_values(by=[0], ascending=False)\n",
        "stp6_results = pd.DataFrame(stp6).sort_values(by=[0], ascending=False)\n",
        "\n",
        "### Best training regret minimization IQR - gp:\n",
        "lower_gp6 = np.asarray(gp6_results[4:5][0])[0]\n",
        "median_gp6 = np.asarray(gp6_results[9:10][0])[0]\n",
        "upper_gp6 = np.asarray(gp6_results[14:15][0])[0]\n",
        "\n",
        "lower_stp6 = np.asarray(stp6_results[4:5][0])[0]\n",
        "median_stp6 = np.asarray(stp6_results[9:10][0])[0]\n",
        "upper_stp6 = np.asarray(stp6_results[14:15][0])[0]\n"
      ]
    },
    {
      "cell_type": "code",
      "execution_count": null,
      "metadata": {
        "id": "V0-8P_clJLmD"
      },
      "outputs": [],
      "source": [
        "# Iteration16 :\n",
        "\n",
        "slice16 = 15\n",
        "\n",
        "gp16 = [simple_regret_gp_1[slice16],\n",
        "       simple_regret_gp_2[slice16],\n",
        "       simple_regret_gp_3[slice16],\n",
        "       simple_regret_gp_4[slice16],\n",
        "       simple_regret_gp_5[slice16],\n",
        "       simple_regret_gp_6[slice16],\n",
        "       simple_regret_gp_7[slice16],\n",
        "       simple_regret_gp_8[slice16],\n",
        "       simple_regret_gp_9[slice16],\n",
        "       simple_regret_gp_10[slice16],\n",
        "       simple_regret_gp_11[slice16],\n",
        "       simple_regret_gp_12[slice16],\n",
        "       simple_regret_gp_13[slice16],\n",
        "       simple_regret_gp_14[slice16],\n",
        "       simple_regret_gp_15[slice16],\n",
        "       simple_regret_gp_16[slice16],\n",
        "       simple_regret_gp_17[slice16],\n",
        "       simple_regret_gp_18[slice16],\n",
        "       simple_regret_gp_19[slice16],\n",
        "       simple_regret_gp_20[slice16]]\n",
        "\n",
        "stp16 = [simple_regret_stp_1[slice16],\n",
        "       simple_regret_stp_2[slice16],\n",
        "       simple_regret_stp_3[slice16],\n",
        "       simple_regret_stp_4[slice16],\n",
        "       simple_regret_stp_5[slice16],\n",
        "       simple_regret_stp_6[slice16],\n",
        "       simple_regret_stp_7[slice16],\n",
        "       simple_regret_stp_8[slice16],\n",
        "       simple_regret_stp_9[slice16],\n",
        "       simple_regret_stp_10[slice16],\n",
        "       simple_regret_stp_11[slice16],\n",
        "       simple_regret_stp_12[slice16],\n",
        "       simple_regret_stp_13[slice16],\n",
        "       simple_regret_stp_14[slice16],\n",
        "       simple_regret_stp_15[slice16],\n",
        "       simple_regret_stp_16[slice16],\n",
        "       simple_regret_stp_17[slice16],\n",
        "       simple_regret_stp_18[slice16],\n",
        "       simple_regret_stp_19[slice16],\n",
        "       simple_regret_stp_20[slice16]]\n",
        "\n",
        "gp16_results = pd.DataFrame(gp16).sort_values(by=[0], ascending=False)\n",
        "stp16_results = pd.DataFrame(stp16).sort_values(by=[0], ascending=False)\n",
        "\n",
        "### Best training regret minimization IQR - gp:\n",
        "lower_gp16 = np.asarray(gp16_results[4:5][0])[0]\n",
        "median_gp16 = np.asarray(gp16_results[9:10][0])[0]\n",
        "upper_gp16 = np.asarray(gp16_results[14:15][0])[0]\n",
        "\n",
        "lower_stp16 = np.asarray(stp16_results[4:5][0])[0]\n",
        "median_stp16 = np.asarray(stp16_results[9:10][0])[0]\n",
        "upper_stp16 = np.asarray(stp16_results[14:15][0])[0]\n"
      ]
    },
    {
      "cell_type": "code",
      "execution_count": null,
      "metadata": {
        "id": "OcLUACB0JLmM"
      },
      "outputs": [],
      "source": [
        "# Iteration7 :\n",
        "\n",
        "slice7 = 6\n",
        "\n",
        "gp7 = [simple_regret_gp_1[slice7],\n",
        "       simple_regret_gp_2[slice7],\n",
        "       simple_regret_gp_3[slice7],\n",
        "       simple_regret_gp_4[slice7],\n",
        "       simple_regret_gp_5[slice7],\n",
        "       simple_regret_gp_6[slice7],\n",
        "       simple_regret_gp_7[slice7],\n",
        "       simple_regret_gp_8[slice7],\n",
        "       simple_regret_gp_9[slice7],\n",
        "       simple_regret_gp_10[slice7],\n",
        "       simple_regret_gp_11[slice7],\n",
        "       simple_regret_gp_12[slice7],\n",
        "       simple_regret_gp_13[slice7],\n",
        "       simple_regret_gp_14[slice7],\n",
        "       simple_regret_gp_15[slice7],\n",
        "       simple_regret_gp_16[slice7],\n",
        "       simple_regret_gp_17[slice7],\n",
        "       simple_regret_gp_18[slice7],\n",
        "       simple_regret_gp_19[slice7],\n",
        "       simple_regret_gp_20[slice7]]\n",
        "\n",
        "stp7 = [simple_regret_stp_1[slice7],\n",
        "       simple_regret_stp_2[slice7],\n",
        "       simple_regret_stp_3[slice7],\n",
        "       simple_regret_stp_4[slice7],\n",
        "       simple_regret_stp_5[slice7],\n",
        "       simple_regret_stp_6[slice7],\n",
        "       simple_regret_stp_7[slice7],\n",
        "       simple_regret_stp_8[slice7],\n",
        "       simple_regret_stp_9[slice7],\n",
        "       simple_regret_stp_10[slice7],\n",
        "       simple_regret_stp_11[slice7],\n",
        "       simple_regret_stp_12[slice7],\n",
        "       simple_regret_stp_13[slice7],\n",
        "       simple_regret_stp_14[slice7],\n",
        "       simple_regret_stp_15[slice7],\n",
        "       simple_regret_stp_16[slice7],\n",
        "       simple_regret_stp_17[slice7],\n",
        "       simple_regret_stp_18[slice7],\n",
        "       simple_regret_stp_19[slice7],\n",
        "       simple_regret_stp_20[slice7]]\n",
        "\n",
        "gp7_results = pd.DataFrame(gp7).sort_values(by=[0], ascending=False)\n",
        "stp7_results = pd.DataFrame(stp7).sort_values(by=[0], ascending=False)\n",
        "\n",
        "### Best training regret minimization IQR - gp:\n",
        "lower_gp7 = np.asarray(gp7_results[4:5][0])[0]\n",
        "median_gp7 = np.asarray(gp7_results[9:10][0])[0]\n",
        "upper_gp7 = np.asarray(gp7_results[14:15][0])[0]\n",
        "\n",
        "lower_stp7 = np.asarray(stp7_results[4:5][0])[0]\n",
        "median_stp7 = np.asarray(stp7_results[9:10][0])[0]\n",
        "upper_stp7 = np.asarray(stp7_results[14:15][0])[0]\n"
      ]
    },
    {
      "cell_type": "code",
      "execution_count": null,
      "metadata": {
        "id": "q-Fd0t3kJLmN"
      },
      "outputs": [],
      "source": [
        "# Iteration17 :\n",
        "\n",
        "slice17 = 16\n",
        "\n",
        "gp17 = [simple_regret_gp_1[slice17],\n",
        "       simple_regret_gp_2[slice17],\n",
        "       simple_regret_gp_3[slice17],\n",
        "       simple_regret_gp_4[slice17],\n",
        "       simple_regret_gp_5[slice17],\n",
        "       simple_regret_gp_6[slice17],\n",
        "       simple_regret_gp_7[slice17],\n",
        "       simple_regret_gp_8[slice17],\n",
        "       simple_regret_gp_9[slice17],\n",
        "       simple_regret_gp_10[slice17],\n",
        "       simple_regret_gp_11[slice17],\n",
        "       simple_regret_gp_12[slice17],\n",
        "       simple_regret_gp_13[slice17],\n",
        "       simple_regret_gp_14[slice17],\n",
        "       simple_regret_gp_15[slice17],\n",
        "       simple_regret_gp_16[slice17],\n",
        "       simple_regret_gp_17[slice17],\n",
        "       simple_regret_gp_18[slice17],\n",
        "       simple_regret_gp_19[slice17],\n",
        "       simple_regret_gp_20[slice17]]\n",
        "\n",
        "stp17 = [simple_regret_stp_1[slice17],\n",
        "       simple_regret_stp_2[slice17],\n",
        "       simple_regret_stp_3[slice17],\n",
        "       simple_regret_stp_4[slice17],\n",
        "       simple_regret_stp_5[slice17],\n",
        "       simple_regret_stp_6[slice17],\n",
        "       simple_regret_stp_7[slice17],\n",
        "       simple_regret_stp_8[slice17],\n",
        "       simple_regret_stp_9[slice17],\n",
        "       simple_regret_stp_10[slice17],\n",
        "       simple_regret_stp_11[slice17],\n",
        "       simple_regret_stp_12[slice17],\n",
        "       simple_regret_stp_13[slice17],\n",
        "       simple_regret_stp_14[slice17],\n",
        "       simple_regret_stp_15[slice17],\n",
        "       simple_regret_stp_16[slice17],\n",
        "       simple_regret_stp_17[slice17],\n",
        "       simple_regret_stp_18[slice17],\n",
        "       simple_regret_stp_19[slice17],\n",
        "       simple_regret_stp_20[slice17]]\n",
        "\n",
        "gp17_results = pd.DataFrame(gp17).sort_values(by=[0], ascending=False)\n",
        "stp17_results = pd.DataFrame(stp17).sort_values(by=[0], ascending=False)\n",
        "\n",
        "### Best training regret minimization IQR - gp:\n",
        "lower_gp17 = np.asarray(gp17_results[4:5][0])[0]\n",
        "median_gp17 = np.asarray(gp17_results[9:10][0])[0]\n",
        "upper_gp17 = np.asarray(gp17_results[14:15][0])[0]\n",
        "\n",
        "lower_stp17 = np.asarray(stp17_results[4:5][0])[0]\n",
        "median_stp17 = np.asarray(stp17_results[9:10][0])[0]\n",
        "upper_stp17 = np.asarray(stp17_results[14:15][0])[0]\n"
      ]
    },
    {
      "cell_type": "code",
      "execution_count": null,
      "metadata": {
        "id": "JueXVbnGJLmU"
      },
      "outputs": [],
      "source": [
        "# Iteration8 :\n",
        "\n",
        "slice8 = 7\n",
        "\n",
        "gp8 = [simple_regret_gp_1[slice8],\n",
        "       simple_regret_gp_2[slice8],\n",
        "       simple_regret_gp_3[slice8],\n",
        "       simple_regret_gp_4[slice8],\n",
        "       simple_regret_gp_5[slice8],\n",
        "       simple_regret_gp_6[slice8],\n",
        "       simple_regret_gp_7[slice8],\n",
        "       simple_regret_gp_8[slice8],\n",
        "       simple_regret_gp_9[slice8],\n",
        "       simple_regret_gp_10[slice8],\n",
        "       simple_regret_gp_11[slice8],\n",
        "       simple_regret_gp_12[slice8],\n",
        "       simple_regret_gp_13[slice8],\n",
        "       simple_regret_gp_14[slice8],\n",
        "       simple_regret_gp_15[slice8],\n",
        "       simple_regret_gp_16[slice8],\n",
        "       simple_regret_gp_17[slice8],\n",
        "       simple_regret_gp_18[slice8],\n",
        "       simple_regret_gp_19[slice8],\n",
        "       simple_regret_gp_20[slice8]]\n",
        "\n",
        "stp8 = [simple_regret_stp_1[slice8],\n",
        "       simple_regret_stp_2[slice8],\n",
        "       simple_regret_stp_3[slice8],\n",
        "       simple_regret_stp_4[slice8],\n",
        "       simple_regret_stp_5[slice8],\n",
        "       simple_regret_stp_6[slice8],\n",
        "       simple_regret_stp_7[slice8],\n",
        "       simple_regret_stp_8[slice8],\n",
        "       simple_regret_stp_9[slice8],\n",
        "       simple_regret_stp_10[slice8],\n",
        "       simple_regret_stp_11[slice8],\n",
        "       simple_regret_stp_12[slice8],\n",
        "       simple_regret_stp_13[slice8],\n",
        "       simple_regret_stp_14[slice8],\n",
        "       simple_regret_stp_15[slice8],\n",
        "       simple_regret_stp_16[slice8],\n",
        "       simple_regret_stp_17[slice8],\n",
        "       simple_regret_stp_18[slice8],\n",
        "       simple_regret_stp_19[slice8],\n",
        "       simple_regret_stp_20[slice8]]\n",
        "\n",
        "gp8_results = pd.DataFrame(gp8).sort_values(by=[0], ascending=False)\n",
        "stp8_results = pd.DataFrame(stp8).sort_values(by=[0], ascending=False)\n",
        "\n",
        "### Best training regret minimization IQR - gp:\n",
        "lower_gp8 = np.asarray(gp8_results[4:5][0])[0]\n",
        "median_gp8 = np.asarray(gp8_results[9:10][0])[0]\n",
        "upper_gp8 = np.asarray(gp8_results[14:15][0])[0]\n",
        "\n",
        "lower_stp8 = np.asarray(stp8_results[4:5][0])[0]\n",
        "median_stp8 = np.asarray(stp8_results[9:10][0])[0]\n",
        "upper_stp8 = np.asarray(stp8_results[14:15][0])[0]\n"
      ]
    },
    {
      "cell_type": "code",
      "execution_count": null,
      "metadata": {
        "id": "mnFJ7maJJLmU"
      },
      "outputs": [],
      "source": [
        "# Iteration18 :\n",
        "\n",
        "slice18 = 17\n",
        "\n",
        "gp18 = [simple_regret_gp_1[slice18],\n",
        "       simple_regret_gp_2[slice18],\n",
        "       simple_regret_gp_3[slice18],\n",
        "       simple_regret_gp_4[slice18],\n",
        "       simple_regret_gp_5[slice18],\n",
        "       simple_regret_gp_6[slice18],\n",
        "       simple_regret_gp_7[slice18],\n",
        "       simple_regret_gp_8[slice18],\n",
        "       simple_regret_gp_9[slice18],\n",
        "       simple_regret_gp_10[slice18],\n",
        "       simple_regret_gp_11[slice18],\n",
        "       simple_regret_gp_12[slice18],\n",
        "       simple_regret_gp_13[slice18],\n",
        "       simple_regret_gp_14[slice18],\n",
        "       simple_regret_gp_15[slice18],\n",
        "       simple_regret_gp_16[slice18],\n",
        "       simple_regret_gp_17[slice18],\n",
        "       simple_regret_gp_18[slice18],\n",
        "       simple_regret_gp_19[slice18],\n",
        "       simple_regret_gp_20[slice18]]\n",
        "\n",
        "stp18 = [simple_regret_stp_1[slice18],\n",
        "       simple_regret_stp_2[slice18],\n",
        "       simple_regret_stp_3[slice18],\n",
        "       simple_regret_stp_4[slice18],\n",
        "       simple_regret_stp_5[slice18],\n",
        "       simple_regret_stp_6[slice18],\n",
        "       simple_regret_stp_7[slice18],\n",
        "       simple_regret_stp_8[slice18],\n",
        "       simple_regret_stp_9[slice18],\n",
        "       simple_regret_stp_10[slice18],\n",
        "       simple_regret_stp_11[slice18],\n",
        "       simple_regret_stp_12[slice18],\n",
        "       simple_regret_stp_13[slice18],\n",
        "       simple_regret_stp_14[slice18],\n",
        "       simple_regret_stp_15[slice18],\n",
        "       simple_regret_stp_16[slice18],\n",
        "       simple_regret_stp_17[slice18],\n",
        "       simple_regret_stp_18[slice18],\n",
        "       simple_regret_stp_19[slice18],\n",
        "       simple_regret_stp_20[slice18]]\n",
        "\n",
        "gp18_results = pd.DataFrame(gp18).sort_values(by=[0], ascending=False)\n",
        "stp18_results = pd.DataFrame(stp18).sort_values(by=[0], ascending=False)\n",
        "\n",
        "### Best training regret minimization IQR - gp:\n",
        "lower_gp18 = np.asarray(gp18_results[4:5][0])[0]\n",
        "median_gp18 = np.asarray(gp18_results[9:10][0])[0]\n",
        "upper_gp18 = np.asarray(gp18_results[14:15][0])[0]\n",
        "\n",
        "lower_stp18 = np.asarray(stp18_results[4:5][0])[0]\n",
        "median_stp18 = np.asarray(stp18_results[9:10][0])[0]\n",
        "upper_stp18 = np.asarray(stp18_results[14:15][0])[0]\n"
      ]
    },
    {
      "cell_type": "code",
      "execution_count": null,
      "metadata": {
        "id": "ll-p_qWUJLmb"
      },
      "outputs": [],
      "source": [
        "# Iteration9 :\n",
        "\n",
        "slice9 = 8\n",
        "\n",
        "gp9 = [simple_regret_gp_1[slice9],\n",
        "       simple_regret_gp_2[slice9],\n",
        "       simple_regret_gp_3[slice9],\n",
        "       simple_regret_gp_4[slice9],\n",
        "       simple_regret_gp_5[slice9],\n",
        "       simple_regret_gp_6[slice9],\n",
        "       simple_regret_gp_7[slice9],\n",
        "       simple_regret_gp_8[slice9],\n",
        "       simple_regret_gp_9[slice9],\n",
        "       simple_regret_gp_10[slice9],\n",
        "       simple_regret_gp_11[slice9],\n",
        "       simple_regret_gp_12[slice9],\n",
        "       simple_regret_gp_13[slice9],\n",
        "       simple_regret_gp_14[slice9],\n",
        "       simple_regret_gp_15[slice9],\n",
        "       simple_regret_gp_16[slice9],\n",
        "       simple_regret_gp_17[slice9],\n",
        "       simple_regret_gp_18[slice9],\n",
        "       simple_regret_gp_19[slice9],\n",
        "       simple_regret_gp_20[slice9]]\n",
        "\n",
        "stp9 = [simple_regret_stp_1[slice9],\n",
        "       simple_regret_stp_2[slice9],\n",
        "       simple_regret_stp_3[slice9],\n",
        "       simple_regret_stp_4[slice9],\n",
        "       simple_regret_stp_5[slice9],\n",
        "       simple_regret_stp_6[slice9],\n",
        "       simple_regret_stp_7[slice9],\n",
        "       simple_regret_stp_8[slice9],\n",
        "       simple_regret_stp_9[slice9],\n",
        "       simple_regret_stp_10[slice9],\n",
        "       simple_regret_stp_11[slice9],\n",
        "       simple_regret_stp_12[slice9],\n",
        "       simple_regret_stp_13[slice9],\n",
        "       simple_regret_stp_14[slice9],\n",
        "       simple_regret_stp_15[slice9],\n",
        "       simple_regret_stp_16[slice9],\n",
        "       simple_regret_stp_17[slice9],\n",
        "       simple_regret_stp_18[slice9],\n",
        "       simple_regret_stp_19[slice9],\n",
        "       simple_regret_stp_20[slice9]]\n",
        "\n",
        "gp9_results = pd.DataFrame(gp9).sort_values(by=[0], ascending=False)\n",
        "stp9_results = pd.DataFrame(stp9).sort_values(by=[0], ascending=False)\n",
        "\n",
        "### Best training regret minimization IQR - gp:\n",
        "lower_gp9 = np.asarray(gp9_results[4:5][0])[0]\n",
        "median_gp9 = np.asarray(gp9_results[9:10][0])[0]\n",
        "upper_gp9 = np.asarray(gp9_results[14:15][0])[0]\n",
        "\n",
        "lower_stp9 = np.asarray(stp9_results[4:5][0])[0]\n",
        "median_stp9 = np.asarray(stp9_results[9:10][0])[0]\n",
        "upper_stp9 = np.asarray(stp9_results[14:15][0])[0]\n"
      ]
    },
    {
      "cell_type": "code",
      "execution_count": null,
      "metadata": {
        "id": "G3QVtLpJJLmc"
      },
      "outputs": [],
      "source": [
        "# Iteration19 :\n",
        "\n",
        "slice19 = 18\n",
        "\n",
        "gp19 = [simple_regret_gp_1[slice19],\n",
        "       simple_regret_gp_2[slice19],\n",
        "       simple_regret_gp_3[slice19],\n",
        "       simple_regret_gp_4[slice19],\n",
        "       simple_regret_gp_5[slice19],\n",
        "       simple_regret_gp_6[slice19],\n",
        "       simple_regret_gp_7[slice19],\n",
        "       simple_regret_gp_8[slice19],\n",
        "       simple_regret_gp_9[slice19],\n",
        "       simple_regret_gp_10[slice19],\n",
        "       simple_regret_gp_11[slice19],\n",
        "       simple_regret_gp_12[slice19],\n",
        "       simple_regret_gp_13[slice19],\n",
        "       simple_regret_gp_14[slice19],\n",
        "       simple_regret_gp_15[slice19],\n",
        "       simple_regret_gp_16[slice19],\n",
        "       simple_regret_gp_17[slice19],\n",
        "       simple_regret_gp_18[slice19],\n",
        "       simple_regret_gp_19[slice19],\n",
        "       simple_regret_gp_20[slice19]]\n",
        "\n",
        "stp19 = [simple_regret_stp_1[slice19],\n",
        "       simple_regret_stp_2[slice19],\n",
        "       simple_regret_stp_3[slice19],\n",
        "       simple_regret_stp_4[slice19],\n",
        "       simple_regret_stp_5[slice19],\n",
        "       simple_regret_stp_6[slice19],\n",
        "       simple_regret_stp_7[slice19],\n",
        "       simple_regret_stp_8[slice19],\n",
        "       simple_regret_stp_9[slice19],\n",
        "       simple_regret_stp_10[slice19],\n",
        "       simple_regret_stp_11[slice19],\n",
        "       simple_regret_stp_12[slice19],\n",
        "       simple_regret_stp_13[slice19],\n",
        "       simple_regret_stp_14[slice19],\n",
        "       simple_regret_stp_15[slice19],\n",
        "       simple_regret_stp_16[slice19],\n",
        "       simple_regret_stp_17[slice19],\n",
        "       simple_regret_stp_18[slice19],\n",
        "       simple_regret_stp_19[slice19],\n",
        "       simple_regret_stp_20[slice19]]\n",
        "\n",
        "gp19_results = pd.DataFrame(gp19).sort_values(by=[0], ascending=False)\n",
        "stp19_results = pd.DataFrame(stp19).sort_values(by=[0], ascending=False)\n",
        "\n",
        "### Best training regret minimization IQR - gp:\n",
        "lower_gp19 = np.asarray(gp19_results[4:5][0])[0]\n",
        "median_gp19 = np.asarray(gp19_results[9:10][0])[0]\n",
        "upper_gp19 = np.asarray(gp19_results[14:15][0])[0]\n",
        "\n",
        "lower_stp19 = np.asarray(stp19_results[4:5][0])[0]\n",
        "median_stp19 = np.asarray(stp19_results[9:10][0])[0]\n",
        "upper_stp19 = np.asarray(stp19_results[14:15][0])[0]\n"
      ]
    },
    {
      "cell_type": "code",
      "execution_count": null,
      "metadata": {
        "id": "IzQng-ULJLmj"
      },
      "outputs": [],
      "source": [
        "# Iteration10 :\n",
        "\n",
        "slice10 = 9\n",
        "\n",
        "gp10 = [simple_regret_gp_1[slice10],\n",
        "       simple_regret_gp_2[slice10],\n",
        "       simple_regret_gp_3[slice10],\n",
        "       simple_regret_gp_4[slice10],\n",
        "       simple_regret_gp_5[slice10],\n",
        "       simple_regret_gp_6[slice10],\n",
        "       simple_regret_gp_7[slice10],\n",
        "       simple_regret_gp_8[slice10],\n",
        "       simple_regret_gp_9[slice10],\n",
        "       simple_regret_gp_10[slice10],\n",
        "       simple_regret_gp_11[slice10],\n",
        "       simple_regret_gp_12[slice10],\n",
        "       simple_regret_gp_13[slice10],\n",
        "       simple_regret_gp_14[slice10],\n",
        "       simple_regret_gp_15[slice10],\n",
        "       simple_regret_gp_16[slice10],\n",
        "       simple_regret_gp_17[slice10],\n",
        "       simple_regret_gp_18[slice10],\n",
        "       simple_regret_gp_19[slice10],\n",
        "       simple_regret_gp_20[slice10]]\n",
        "\n",
        "stp10 = [simple_regret_stp_1[slice10],\n",
        "       simple_regret_stp_2[slice10],\n",
        "       simple_regret_stp_3[slice10],\n",
        "       simple_regret_stp_4[slice10],\n",
        "       simple_regret_stp_5[slice10],\n",
        "       simple_regret_stp_6[slice10],\n",
        "       simple_regret_stp_7[slice10],\n",
        "       simple_regret_stp_8[slice10],\n",
        "       simple_regret_stp_9[slice10],\n",
        "       simple_regret_stp_10[slice10],\n",
        "       simple_regret_stp_11[slice10],\n",
        "       simple_regret_stp_12[slice10],\n",
        "       simple_regret_stp_13[slice10],\n",
        "       simple_regret_stp_14[slice10],\n",
        "       simple_regret_stp_15[slice10],\n",
        "       simple_regret_stp_16[slice10],\n",
        "       simple_regret_stp_17[slice10],\n",
        "       simple_regret_stp_18[slice10],\n",
        "       simple_regret_stp_19[slice10],\n",
        "       simple_regret_stp_20[slice10]]\n",
        "\n",
        "gp10_results = pd.DataFrame(gp10).sort_values(by=[0], ascending=False)\n",
        "stp10_results = pd.DataFrame(stp10).sort_values(by=[0], ascending=False)\n",
        "\n",
        "### Best training regret minimization IQR - gp:\n",
        "lower_gp10 = np.asarray(gp10_results[4:5][0])[0]\n",
        "median_gp10 = np.asarray(gp10_results[9:10][0])[0]\n",
        "upper_gp10 = np.asarray(gp10_results[14:15][0])[0]\n",
        "\n",
        "lower_stp10 = np.asarray(stp10_results[4:5][0])[0]\n",
        "median_stp10 = np.asarray(stp10_results[9:10][0])[0]\n",
        "upper_stp10 = np.asarray(stp10_results[14:15][0])[0]\n"
      ]
    },
    {
      "cell_type": "code",
      "execution_count": null,
      "metadata": {
        "id": "DQ_Cuh-4JLmk"
      },
      "outputs": [],
      "source": [
        "# Iteration20 :\n",
        "\n",
        "slice20 = 19\n",
        "\n",
        "gp20 = [simple_regret_gp_1[slice20],\n",
        "       simple_regret_gp_2[slice20],\n",
        "       simple_regret_gp_3[slice20],\n",
        "       simple_regret_gp_4[slice20],\n",
        "       simple_regret_gp_5[slice20],\n",
        "       simple_regret_gp_6[slice20],\n",
        "       simple_regret_gp_7[slice20],\n",
        "       simple_regret_gp_8[slice20],\n",
        "       simple_regret_gp_9[slice20],\n",
        "       simple_regret_gp_10[slice20],\n",
        "       simple_regret_gp_11[slice20],\n",
        "       simple_regret_gp_12[slice20],\n",
        "       simple_regret_gp_13[slice20],\n",
        "       simple_regret_gp_14[slice20],\n",
        "       simple_regret_gp_15[slice20],\n",
        "       simple_regret_gp_16[slice20],\n",
        "       simple_regret_gp_17[slice20],\n",
        "       simple_regret_gp_18[slice20],\n",
        "       simple_regret_gp_19[slice20],\n",
        "       simple_regret_gp_20[slice20]]\n",
        "\n",
        "stp20 = [simple_regret_stp_1[slice20],\n",
        "       simple_regret_stp_2[slice20],\n",
        "       simple_regret_stp_3[slice20],\n",
        "       simple_regret_stp_4[slice20],\n",
        "       simple_regret_stp_5[slice20],\n",
        "       simple_regret_stp_6[slice20],\n",
        "       simple_regret_stp_7[slice20],\n",
        "       simple_regret_stp_8[slice20],\n",
        "       simple_regret_stp_9[slice20],\n",
        "       simple_regret_stp_10[slice20],\n",
        "       simple_regret_stp_11[slice20],\n",
        "       simple_regret_stp_12[slice20],\n",
        "       simple_regret_stp_13[slice20],\n",
        "       simple_regret_stp_14[slice20],\n",
        "       simple_regret_stp_15[slice20],\n",
        "       simple_regret_stp_16[slice20],\n",
        "       simple_regret_stp_17[slice20],\n",
        "       simple_regret_stp_18[slice20],\n",
        "       simple_regret_stp_19[slice20],\n",
        "       simple_regret_stp_20[slice20]]\n",
        "\n",
        "gp20_results = pd.DataFrame(gp20).sort_values(by=[0], ascending=False)\n",
        "stp20_results = pd.DataFrame(stp20).sort_values(by=[0], ascending=False)\n",
        "\n",
        "### Best training regret minimization IQR - gp:\n",
        "lower_gp20 = np.asarray(gp20_results[4:5][0])[0]\n",
        "median_gp20 = np.asarray(gp20_results[9:10][0])[0]\n",
        "upper_gp20 = np.asarray(gp20_results[14:15][0])[0]\n",
        "\n",
        "lower_stp20 = np.asarray(stp20_results[4:5][0])[0]\n",
        "median_stp20 = np.asarray(stp20_results[9:10][0])[0]\n",
        "upper_stp20 = np.asarray(stp20_results[14:15][0])[0]\n"
      ]
    },
    {
      "cell_type": "code",
      "execution_count": null,
      "metadata": {
        "id": "R1gk3HGTJLms"
      },
      "outputs": [],
      "source": [
        "### Summarise arrays: 'GP'\n",
        "\n",
        "lower_gp = [lower_gp1,\n",
        "            lower_gp2,\n",
        "            lower_gp3,\n",
        "            lower_gp4,\n",
        "            lower_gp5,\n",
        "            lower_gp6,\n",
        "            lower_gp7,\n",
        "            lower_gp8,\n",
        "            lower_gp9,\n",
        "            lower_gp10,\n",
        "            lower_gp11,\n",
        "            lower_gp12,\n",
        "            lower_gp13,\n",
        "            lower_gp14,\n",
        "            lower_gp15,\n",
        "            lower_gp16,\n",
        "            lower_gp17,\n",
        "            lower_gp18,\n",
        "            lower_gp19,\n",
        "            lower_gp20,\n",
        "            lower_gp21]\n",
        "\n",
        "median_gp = [median_gp1,\n",
        "            median_gp2,\n",
        "            median_gp3,\n",
        "            median_gp4,\n",
        "            median_gp5,\n",
        "            median_gp6,\n",
        "            median_gp7,\n",
        "            median_gp8,\n",
        "            median_gp9,\n",
        "            median_gp10,\n",
        "            median_gp11,\n",
        "            median_gp12,\n",
        "            median_gp13,\n",
        "            median_gp14,\n",
        "            median_gp15,\n",
        "            median_gp16,\n",
        "            median_gp17,\n",
        "            median_gp18,\n",
        "            median_gp19,\n",
        "            median_gp20,\n",
        "            median_gp21]\n",
        "\n",
        "upper_gp = [upper_gp1,\n",
        "            upper_gp2,\n",
        "            upper_gp3,\n",
        "            upper_gp4,\n",
        "            upper_gp5,\n",
        "            upper_gp6,\n",
        "            upper_gp7,\n",
        "            upper_gp8,\n",
        "            upper_gp9,\n",
        "            upper_gp10,\n",
        "            upper_gp11,\n",
        "            upper_gp12,\n",
        "            upper_gp13,\n",
        "            upper_gp14,\n",
        "            upper_gp15,\n",
        "            upper_gp16,\n",
        "            upper_gp17,\n",
        "            upper_gp18,\n",
        "            upper_gp19,\n",
        "            upper_gp20,\n",
        "            upper_gp21]\n"
      ]
    },
    {
      "cell_type": "code",
      "execution_count": null,
      "metadata": {
        "id": "jox8uqaeJLmu"
      },
      "outputs": [],
      "source": [
        "### Summarise arrays: 'STP'\n",
        "\n",
        "lower_stp = [lower_stp1,\n",
        "            lower_stp2,\n",
        "            lower_stp3,\n",
        "            lower_stp4,\n",
        "            lower_stp5,\n",
        "            lower_stp6,\n",
        "            lower_stp7,\n",
        "            lower_stp8,\n",
        "            lower_stp9,\n",
        "            lower_stp10,\n",
        "            lower_stp11,\n",
        "            lower_stp12,\n",
        "            lower_stp13,\n",
        "            lower_stp14,\n",
        "            lower_stp15,\n",
        "            lower_stp16,\n",
        "            lower_stp17,\n",
        "            lower_stp18,\n",
        "            lower_stp19,\n",
        "            lower_stp20,\n",
        "            lower_stp21]\n",
        "\n",
        "median_stp = [median_stp1,\n",
        "            median_stp2,\n",
        "            median_stp3,\n",
        "            median_stp4,\n",
        "            median_stp5,\n",
        "            median_stp6,\n",
        "            median_stp7,\n",
        "            median_stp8,\n",
        "            median_stp9,\n",
        "            median_stp10,\n",
        "            median_stp11,\n",
        "            median_stp12,\n",
        "            median_stp13,\n",
        "            median_stp14,\n",
        "            median_stp15,\n",
        "            median_stp16,\n",
        "            median_stp17,\n",
        "            median_stp18,\n",
        "            median_stp19,\n",
        "            median_stp20,\n",
        "            median_stp21]\n",
        "\n",
        "upper_stp = [upper_stp1,\n",
        "            upper_stp2,\n",
        "            upper_stp3,\n",
        "            upper_stp4,\n",
        "            upper_stp5,\n",
        "            upper_stp6,\n",
        "            upper_stp7,\n",
        "            upper_stp8,\n",
        "            upper_stp9,\n",
        "            upper_stp10,\n",
        "            upper_stp11,\n",
        "            upper_stp12,\n",
        "            upper_stp13,\n",
        "            upper_stp14,\n",
        "            upper_stp15,\n",
        "            upper_stp16,\n",
        "            upper_stp17,\n",
        "            upper_stp18,\n",
        "            upper_stp19,\n",
        "            upper_stp20,\n",
        "            upper_stp21]\n"
      ]
    },
    {
      "cell_type": "code",
      "execution_count": null,
      "metadata": {
        "id": "W4hkYeeMJLmw",
        "colab": {
          "base_uri": "https://localhost:8080/",
          "height": 299
        },
        "outputId": "46de2837-21e4-4637-83c6-12dacaee4cce"
      },
      "outputs": [
        {
          "output_type": "display_data",
          "data": {
            "text/plain": [
              "<Figure size 432x288 with 1 Axes>"
            ],
            "image/png": "[encoded data removed]"
          },
          "metadata": {
            "needs_background": "light"
          }
        }
      ],
      "source": [
        "### Visualise!\n",
        "\n",
        "title = obj_func\n",
        "\n",
        "plt.figure()\n",
        "\n",
        "plt.plot(median_gp, color = 'Yellow')\n",
        "plt.plot(median_stp, color = 'Green')\n",
        "\n",
        "xstar = np.arange(0, max_iter+1, step=1)\n",
        "plt.fill_between(xstar, lower_gp, upper_gp, facecolor = 'Yellow', alpha=0.4, label='GP CBM Regret: IQR')\n",
        "plt.fill_between(xstar, lower_stp, upper_stp, facecolor = 'Green', alpha=0.4, label='STP CBM Regret: IQR ' r'($\\nu$' ' = {})'.format(df))\n",
        "\n",
        "plt.title(title, weight = 'bold')\n",
        "plt.xlabel('(Post-initialisation) iteration $\\it{k}$', weight = 'bold') # x-axis label\n",
        "plt.ylabel('ln(Regret)', weight = 'bold') # y-axis label\n",
        "plt.legend(loc=0) # add plot legend\n",
        "\n",
        "### Make the x-ticks integers, not floats:\n",
        "count = len(xstar)\n",
        "plt.xticks(np.arange(count), np.arange(0, count))\n",
        "plt.show() #visualise!\n"
      ]
    },
    {
      "cell_type": "code",
      "execution_count": null,
      "metadata": {
        "id": "5TOZMC49JLmw"
      },
      "outputs": [],
      "source": []
    }
  ],
  "metadata": {
    "kernelspec": {
      "display_name": "Python 3",
      "language": "python",
      "name": "python3"
    },
    "language_info": {
      "codemirror_mode": {
        "name": "ipython",
        "version": 3
      },
      "file_extension": ".py",
      "mimetype": "text/x-python",
      "name": "python",
      "nbconvert_exporter": "python",
      "pygments_lexer": "ipython3",
      "version": "3.6.5"
    },
    "colab": {
      "provenance": [],
      "collapsed_sections": []
    }
  },
  "nbformat": 4,
  "nbformat_minor": 0
}