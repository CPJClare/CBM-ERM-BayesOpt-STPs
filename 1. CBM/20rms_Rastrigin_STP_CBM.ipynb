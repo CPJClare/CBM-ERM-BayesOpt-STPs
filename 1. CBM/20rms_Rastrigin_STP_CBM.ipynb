{
  "cells": [
    {
      "cell_type": "markdown",
      "metadata": {
        "id": "OrYfJFnSJLkS"
      },
      "source": [
        "Rastrigin synthetic function:\n",
        "\n",
        "GP CBM versus STP nu = 3 CBM (winner)\n",
        "\n",
        "https://www.sfu.ca/~ssurjano/rastr.html"
      ]
    },
    {
      "cell_type": "code",
      "source": [
        "pip install pyGPGO\n"
      ],
      "metadata": {
        "colab": {
          "base_uri": "https://localhost:8080/"
        },
        "id": "2FgAmLMpOX3c",
        "outputId": "49790a58-53cf-4e6e-999e-da3fbe44f345"
      },
      "execution_count": 1,
      "outputs": [
        {
          "output_type": "stream",
          "name": "stdout",
          "text": [
            "Looking in indexes: https://pypi.org/simple, https://us-python.pkg.dev/colab-wheels/public/simple/\n",
            "Collecting pyGPGO\n",
            "  Downloading pyGPGO-0.5.1.tar.gz (14 kB)\n",
            "Requirement already satisfied: numpy in /usr/local/lib/python3.7/dist-packages (from pyGPGO) (1.21.6)\n",
            "Requirement already satisfied: mkl in /usr/local/lib/python3.7/dist-packages (from pyGPGO) (2019.0)\n",
            "Requirement already satisfied: scipy in /usr/local/lib/python3.7/dist-packages (from pyGPGO) (1.7.3)\n",
            "Requirement already satisfied: joblib in /usr/local/lib/python3.7/dist-packages (from pyGPGO) (1.2.0)\n",
            "Requirement already satisfied: scikit-learn in /usr/local/lib/python3.7/dist-packages (from pyGPGO) (1.0.2)\n",
            "Collecting Theano-PyMC\n",
            "  Downloading Theano-PyMC-1.1.2.tar.gz (1.8 MB)\n",
            "\u001b[K     |████████████████████████████████| 1.8 MB 5.2 MB/s \n",
            "\u001b[?25hCollecting pyMC3\n",
            "  Downloading pymc3-3.11.5-py3-none-any.whl (872 kB)\n",
            "\u001b[K     |████████████████████████████████| 872 kB 52.0 MB/s \n",
            "\u001b[?25hRequirement already satisfied: intel-openmp in /usr/local/lib/python3.7/dist-packages (from mkl->pyGPGO) (2022.2.0)\n",
            "Requirement already satisfied: patsy>=0.5.1 in /usr/local/lib/python3.7/dist-packages (from pyMC3->pyGPGO) (0.5.3)\n",
            "Requirement already satisfied: arviz>=0.11.0 in /usr/local/lib/python3.7/dist-packages (from pyMC3->pyGPGO) (0.12.1)\n",
            "Collecting semver>=2.13.0\n",
            "  Downloading semver-2.13.0-py2.py3-none-any.whl (12 kB)\n",
            "Requirement already satisfied: fastprogress>=0.2.0 in /usr/local/lib/python3.7/dist-packages (from pyMC3->pyGPGO) (1.0.3)\n",
            "Requirement already satisfied: cachetools>=4.2.1 in /usr/local/lib/python3.7/dist-packages (from pyMC3->pyGPGO) (4.2.4)\n",
            "Requirement already satisfied: dill in /usr/local/lib/python3.7/dist-packages (from pyMC3->pyGPGO) (0.3.6)\n",
            "Requirement already satisfied: typing-extensions>=3.7.4 in /usr/local/lib/python3.7/dist-packages (from pyMC3->pyGPGO) (4.1.1)\n",
            "Requirement already satisfied: pandas>=0.24.0 in /usr/local/lib/python3.7/dist-packages (from pyMC3->pyGPGO) (1.3.5)\n",
            "Collecting deprecat\n",
            "  Downloading deprecat-2.1.1-py2.py3-none-any.whl (9.8 kB)\n",
            "Requirement already satisfied: filelock in /usr/local/lib/python3.7/dist-packages (from Theano-PyMC->pyGPGO) (3.8.0)\n",
            "Requirement already satisfied: setuptools>=38.4 in /usr/local/lib/python3.7/dist-packages (from arviz>=0.11.0->pyMC3->pyGPGO) (57.4.0)\n",
            "Requirement already satisfied: matplotlib>=3.0 in /usr/local/lib/python3.7/dist-packages (from arviz>=0.11.0->pyMC3->pyGPGO) (3.2.2)\n",
            "Requirement already satisfied: xarray>=0.16.1 in /usr/local/lib/python3.7/dist-packages (from arviz>=0.11.0->pyMC3->pyGPGO) (0.20.2)\n",
            "Requirement already satisfied: packaging in /usr/local/lib/python3.7/dist-packages (from arviz>=0.11.0->pyMC3->pyGPGO) (21.3)\n",
            "Requirement already satisfied: netcdf4 in /usr/local/lib/python3.7/dist-packages (from arviz>=0.11.0->pyMC3->pyGPGO) (1.6.1)\n",
            "Requirement already satisfied: xarray-einstats>=0.2 in /usr/local/lib/python3.7/dist-packages (from arviz>=0.11.0->pyMC3->pyGPGO) (0.2.2)\n",
            "Requirement already satisfied: cycler>=0.10 in /usr/local/lib/python3.7/dist-packages (from matplotlib>=3.0->arviz>=0.11.0->pyMC3->pyGPGO) (0.11.0)\n",
            "Requirement already satisfied: python-dateutil>=2.1 in /usr/local/lib/python3.7/dist-packages (from matplotlib>=3.0->arviz>=0.11.0->pyMC3->pyGPGO) (2.8.2)\n",
            "Requirement already satisfied: kiwisolver>=1.0.1 in /usr/local/lib/python3.7/dist-packages (from matplotlib>=3.0->arviz>=0.11.0->pyMC3->pyGPGO) (1.4.4)\n",
            "Requirement already satisfied: pyparsing!=2.0.4,!=2.1.2,!=2.1.6,>=2.0.1 in /usr/local/lib/python3.7/dist-packages (from matplotlib>=3.0->arviz>=0.11.0->pyMC3->pyGPGO) (3.0.9)\n",
            "Requirement already satisfied: pytz>=2017.3 in /usr/local/lib/python3.7/dist-packages (from pandas>=0.24.0->pyMC3->pyGPGO) (2022.6)\n",
            "Requirement already satisfied: six in /usr/local/lib/python3.7/dist-packages (from patsy>=0.5.1->pyMC3->pyGPGO) (1.15.0)\n",
            "Requirement already satisfied: importlib-metadata in /usr/local/lib/python3.7/dist-packages (from xarray>=0.16.1->arviz>=0.11.0->pyMC3->pyGPGO) (4.13.0)\n",
            "Requirement already satisfied: wrapt<2,>=1.10 in /usr/local/lib/python3.7/dist-packages (from deprecat->pyMC3->pyGPGO) (1.14.1)\n",
            "Requirement already satisfied: zipp>=0.5 in /usr/local/lib/python3.7/dist-packages (from importlib-metadata->xarray>=0.16.1->arviz>=0.11.0->pyMC3->pyGPGO) (3.10.0)\n",
            "Requirement already satisfied: cftime in /usr/local/lib/python3.7/dist-packages (from netcdf4->arviz>=0.11.0->pyMC3->pyGPGO) (1.6.2)\n",
            "Requirement already satisfied: threadpoolctl>=2.0.0 in /usr/local/lib/python3.7/dist-packages (from scikit-learn->pyGPGO) (3.1.0)\n",
            "Building wheels for collected packages: pyGPGO, Theano-PyMC\n",
            "  Building wheel for pyGPGO (setup.py) ... \u001b[?25l\u001b[?25hdone\n",
            "  Created wheel for pyGPGO: filename=pyGPGO-0.5.1-py3-none-any.whl size=19879 sha256=5b550b72843864df12c709f85b1d272a3d808b989cb56b8cc4ccc22a74f466b5\n",
            "  Stored in directory: /root/.cache/pip/wheels/c8/5d/0b/2160114e2f1b87791c51b66cf07f89831dbb6f49167950316f\n",
            "  Building wheel for Theano-PyMC (setup.py) ... \u001b[?25l\u001b[?25hdone\n",
            "  Created wheel for Theano-PyMC: filename=Theano_PyMC-1.1.2-py3-none-any.whl size=1529963 sha256=551efac22bcc909bc66022a6aedb6e4d139943e7030208a1f49970d80f534c3d\n",
            "  Stored in directory: /root/.cache/pip/wheels/f3/af/8c/5dd7553522d74c52a7813806fc7ee1a9caa20a3f7c8fd850d5\n",
            "Successfully built pyGPGO Theano-PyMC\n",
            "Installing collected packages: Theano-PyMC, semver, deprecat, pyMC3, pyGPGO\n",
            "Successfully installed Theano-PyMC-1.1.2 deprecat-2.1.1 pyGPGO-0.5.1 pyMC3-3.11.5 semver-2.13.0\n"
          ]
        }
      ]
    },
    {
      "cell_type": "code",
      "execution_count": 2,
      "metadata": {
        "id": "Dn_SAbhVJLke"
      },
      "outputs": [],
      "source": [
        "### Import modules:\n",
        "\n",
        "import numpy as np\n",
        "import scipy as sp\n",
        "import pandas as pd\n",
        "import matplotlib.pyplot as plt\n",
        "import random\n",
        "import warnings\n",
        "\n",
        "from pyGPGO.logger import EventLogger\n",
        "from pyGPGO.GPGO import GPGO\n",
        "from pyGPGO.surrogates.GaussianProcess import GaussianProcess\n",
        "from pyGPGO.surrogates.tStudentProcess import tStudentProcess, logpdf\n",
        "from pyGPGO.acquisition import Acquisition\n",
        "from pyGPGO.covfunc import squaredExponential\n",
        "\n",
        "from collections import OrderedDict\n",
        "from joblib import Parallel, delayed\n",
        "from numpy.linalg import slogdet, inv, cholesky, solve\n",
        "from scipy.optimize import minimize\n",
        "from scipy.spatial.distance import cdist\n",
        "from scipy.special import gamma\n",
        "from scipy.stats import norm, t\n",
        "from matplotlib.pyplot import rc\n",
        "\n",
        "rc('text', usetex=False)\n",
        "plt.rcParams['text.latex.preamble']=[r'\\usepackage{amsmath}']\n",
        "plt.rcParams['text.latex.preamble'] = [r'\\boldmath']\n",
        "\n",
        "warnings.filterwarnings(\"ignore\", category=FutureWarning)\n",
        "warnings.filterwarnings(\"ignore\", category=RuntimeWarning)\n",
        "warnings.filterwarnings(\"ignore\", category=UserWarning)\n"
      ]
    },
    {
      "cell_type": "code",
      "execution_count": 3,
      "metadata": {
        "id": "4Nwg_XO0JLki"
      },
      "outputs": [],
      "source": [
        "### Inputs:\n",
        "\n",
        "obj_func = 'Rastrigin'\n",
        "n_test = 500 # test points\n",
        "eps = 1e-08\n",
        "df = 3 # nu\n",
        "\n",
        "util_gp = 'CBMinimized'\n",
        "util_stp = 'tCBMinimized'\n",
        "n_init = 5 # random initialisations\n",
        "\n",
        "cov_func = squaredExponential()\n",
        "hyperOpt = True\n"
      ]
    },
    {
      "cell_type": "code",
      "execution_count": 4,
      "metadata": {
        "id": "DVYGZ6jYJLkj"
      },
      "outputs": [],
      "source": [
        "### Objective function:\n",
        "\n",
        "if obj_func == 'Rastrigin':\n",
        "    \n",
        "    # True y bounds:\n",
        "    y_lb = 0\n",
        "    operator = -1 # targets global minimum \n",
        "    y_global_orig = y_lb * operator # targets global minimum\n",
        "            \n",
        "# Constraints:\n",
        "    lb = -5.12 \n",
        "    ub = +5.12\n",
        "\n",
        "# Input array dimension(s):\n",
        "    dim = 2\n",
        "\n",
        "# 2-D inputs' parameter bounds:\n",
        "    param = {'x1_training': ('cont', [lb, ub]),\n",
        "             'x2_training': ('cont', [lb, ub])}\n",
        "    \n",
        "# Test data:\n",
        "    x1_test = np.linspace(lb, ub, n_test)\n",
        "    x2_test = np.linspace(lb, ub, n_test)\n",
        "    Xstar_d = np.column_stack((x1_test, x2_test))\n",
        "\n",
        "    def f_syn_polarity(x1_training, x2_training):\n",
        "        return  operator * (10 * dim + x1_training** 2 - 10 * np.cos(2 * np.pi * x1_training)\n",
        "                                    + x2_training** 2 - 10 * np.cos(2 * np.pi * x2_training)\n",
        "                          )\n",
        "    "
      ]
    },
    {
      "cell_type": "code",
      "source": [
        "max_iter = dim * 10  # iterations of Bayesian optimisation\n",
        "Beta_CBM = dim\n"
      ],
      "metadata": {
        "id": "S9JivCxiYACE"
      },
      "execution_count": 5,
      "outputs": []
    },
    {
      "cell_type": "code",
      "execution_count": 6,
      "metadata": {
        "id": "hE7COdNcJLkl"
      },
      "outputs": [],
      "source": [
        "### Cumulative Regret Calculator:\n",
        "\n",
        "def min_max_array(x):\n",
        "    new_list = []\n",
        "    for i, num in enumerate(x):\n",
        "            new_list.append(np.min(x[0:i+1]))\n",
        "    return new_list\n"
      ]
    },
    {
      "cell_type": "code",
      "execution_count": 7,
      "metadata": {
        "id": "gkY6wLl_JLkm"
      },
      "outputs": [],
      "source": [
        "### Set-seeds:\n",
        "\n",
        "run_num_1 = 1\n",
        "run_num_2 = 2\n",
        "run_num_3 = 3\n",
        "run_num_4 = 4\n",
        "run_num_5 = 5\n",
        "run_num_6 = 6\n",
        "run_num_7 = 7\n",
        "run_num_8 = 8\n",
        "run_num_9 = 9\n",
        "run_num_10 = 10\n",
        "run_num_11 = 11\n",
        "run_num_12 = 12\n",
        "run_num_13 = 13\n",
        "run_num_14 = 14\n",
        "run_num_15 = 15\n",
        "run_num_16 = 16\n",
        "run_num_17 = 17\n",
        "run_num_18 = 18\n",
        "run_num_19 = 19\n",
        "run_num_20 = 20\n"
      ]
    },
    {
      "cell_type": "code",
      "execution_count": 8,
      "metadata": {
        "id": "Mh53nXeyJLko"
      },
      "outputs": [],
      "source": [
        "### Acquisition function - CBM:\n",
        "\n",
        "class Acquisition_new(Acquisition):    \n",
        "    def __init__(self, mode, eps=1e-06, **params):\n",
        "        \n",
        "        self.params = params\n",
        "        self.eps = eps\n",
        "\n",
        "        mode_dict = {\n",
        "            'CBMinimized': self.CBMinimized,\n",
        "            'tCBMinimized': self.tCBMinimized\n",
        "        }\n",
        "\n",
        "        self.f = mode_dict[mode]\n",
        "   \n",
        "    def CBMinimized(self, tau, mean, std):\n",
        "        \n",
        "        gamma = (mean - y_global_orig - self.eps) / (std + self.eps)\n",
        "        return (std + self.eps) * (gamma + np.sqrt(Beta_CBM))\n",
        "    \n",
        "    def tCBMinimized(self, tau, mean, std, nu=df):\n",
        "        \n",
        "        gamma = (mean - y_global_orig - self.eps) / (std + self.eps)\n",
        "        return (std + self.eps) * (gamma + np.sqrt(Beta_CBM))\n",
        "\n",
        "    def eval(self, y_global_orig, mean, std):\n",
        "    \n",
        "        return self.f(y_global_orig, mean, std, **self.params)\n",
        "        \n",
        "    def t_eval(self, y_global_orig, mean, std, nu=df):\n",
        "    \n",
        "        return self.f(y_global_orig, mean, std, nu=df, **self.params)\n",
        "    "
      ]
    },
    {
      "cell_type": "code",
      "source": [
        "n_start_AcqFunc = max_iter\n",
        "inverse = -1\n"
      ],
      "metadata": {
        "id": "xSwpeFj-Y-Hl"
      },
      "execution_count": 9,
      "outputs": []
    },
    {
      "cell_type": "code",
      "source": [
        "## GPGO_multi: Gaussian\n",
        "\n",
        "n_start = n_start_AcqFunc\n",
        "\n",
        "class GPGO_multi(GPGO):\n",
        "\n",
        "    def __init__(self, surrogate, acquisition, f, parameter_dict, n_jobs=1):\n",
        "        self.GP = surrogate\n",
        "        self.A = acquisition\n",
        "        self.f = f\n",
        "        self.parameters = parameter_dict\n",
        "        self.n_jobs = n_jobs\n",
        "\n",
        "        self.parameter_key = list(parameter_dict.keys())\n",
        "        self.parameter_value = list(parameter_dict.values())\n",
        "        self.parameter_type = [p[0] for p in self.parameter_value]\n",
        "        self.parameter_range = [p[1] for p in self.parameter_value]\n",
        "\n",
        "        self.history = []\n",
        "        self.header =   'Evaluation \\t Proposed point \\t  Current eval. \\t  Best eval. \\t Min. ApproxAcqFunc '\n",
        "        self.template = '{:3}\\t {}\\t {:3}\\t {:3}\\t {:3}'\n",
        " \n",
        "    def acqfuncApprox(self, xnew):\n",
        "        new_mean, new_var = self.GP.predict(xnew, return_std=True)\n",
        "        new_std = np.sqrt(new_var + eps)\n",
        "        f = self.A.eval(self.tau, new_mean, new_std)\n",
        "\n",
        "        return -f\n",
        "   \n",
        "    def _optimizeAcq(self, method='L-BFGS-B'):\n",
        "        \n",
        "        start_points_dict = [self._sampleParam() for i in range(n_start)]\n",
        "        start_points_arr = np.array([list(s.values())\n",
        "                                     for s in start_points_dict])\n",
        "        x_best = np.empty((n_start, len(self.parameter_key)))\n",
        "        f_best = np.empty((n_start,))\n",
        "        opt = Parallel(n_jobs=self.n_jobs)(delayed(minimize)(self.acqfuncApprox,\n",
        "                                                                 x0=start_point,\n",
        "                                                                 method=method,\n",
        "                                                                 jac = False,\n",
        "                                                                 bounds=self.parameter_range) for start_point in\n",
        "                                               start_points_arr)\n",
        "        x_best = np.array([res.x for res in opt])\n",
        "        f_best = np.array([np.atleast_1d(res.fun)[0] for res in opt])\n",
        "        f_best_min = min(f_best)\n",
        "\n",
        "        self.x_best = x_best\n",
        "        self.f_best = f_best\n",
        "        self.f_best_min = f_best_min\n",
        "        self.best = x_best[np.argmin(f_best)]\n",
        "        self.start_points_arr = start_points_arr        \n",
        "        self.history.append(self.f_best_min)\n",
        "\n",
        "    def _printInit(self):\n",
        "        print(self.header)\n",
        "        for init_eval in range(self.init_evals):\n",
        "            print(self.template.format('init', self.GP.X[init_eval], inverse * self.GP.y[init_eval], inverse * self.tau, ''))\n",
        "      \n",
        "    def _printCurrent(self):\n",
        "        OKGREEN = '\\033[92m'\n",
        "        ENDC = '\\033[0m'\n",
        "        BOLD = '\\033[1m'\n",
        "        eval = str(len(self.GP.y) - self.init_evals)\n",
        "        proposed = str(self.best)\n",
        "        curr_eval = str(inverse * self.GP.y[-1])\n",
        "        curr_best = str(inverse * self.tau)\n",
        "        min_acqfunc = str(self.f_best_min)\n",
        "        if float(curr_eval) <= float(curr_best):\n",
        "            eval = BOLD + OKGREEN + eval + ENDC\n",
        "            proposed = BOLD + OKGREEN + proposed + ENDC\n",
        "            curr_eval = BOLD + OKGREEN + curr_eval + ENDC\n",
        "            curr_best = BOLD + OKGREEN + curr_best + ENDC\n",
        "            min_acqfunc = BOLD + OKGREEN + min_acqfunc + ENDC\n",
        "        print(self.template.format(eval, proposed, curr_eval, curr_best, min_acqfunc))\n",
        "        \n",
        "    def run(self, max_iter=10, init_evals=3, resume=False):\n",
        "        \n",
        "        if not resume:\n",
        "            self.init_evals = init_evals\n",
        "            self._firstRun(self.init_evals)\n",
        "            self._printInit()\n",
        "        for iteration in range(max_iter):\n",
        "            self._optimizeAcq()\n",
        "            self.updateGP()\n",
        "            self._printCurrent()\n"
      ],
      "metadata": {
        "id": "YorxhvyZXyfZ"
      },
      "execution_count": 10,
      "outputs": []
    },
    {
      "cell_type": "code",
      "source": [
        "## GPGO_multi_STP: Student's-t\n",
        "\n",
        "class GPGO_multi_STP(GPGO):\n",
        "\n",
        "    def __init__(self, surrogate, acquisition, f, parameter_dict, n_jobs=1):\n",
        "        self.GP = surrogate\n",
        "        self.A = acquisition\n",
        "        self.f = f\n",
        "        self.parameters = parameter_dict\n",
        "        self.n_jobs = n_jobs\n",
        "\n",
        "        self.parameter_key = list(parameter_dict.keys())\n",
        "        self.parameter_value = list(parameter_dict.values())\n",
        "        self.parameter_type = [p[0] for p in self.parameter_value]\n",
        "        self.parameter_range = [p[1] for p in self.parameter_value]\n",
        "\n",
        "        self.history = []\n",
        "        self.header =   'Evaluation \\t Proposed point \\t  Current eval. \\t  Best eval. \\t Min. ApproxAcqFunc '\n",
        "        self.template = '{:3}\\t {}\\t {:3}\\t {:3}\\t {:3}'\n",
        " \n",
        "    def acqfuncApprox(self, xnew):\n",
        "        new_mean, new_var = self.GP.predict(xnew, return_std=True)\n",
        "        new_std = np.sqrt(new_var + eps)\n",
        "        f = self.A.t_eval(self.tau, new_mean, new_std)\n",
        "\n",
        "        return -f\n",
        "   \n",
        "    def _optimizeAcq(self, method='L-BFGS-B'):\n",
        "        \n",
        "        start_points_dict = [self._sampleParam() for i in range(n_start)]\n",
        "        start_points_arr = np.array([list(s.values())\n",
        "                                     for s in start_points_dict])\n",
        "        x_best = np.empty((n_start, len(self.parameter_key)))\n",
        "        f_best = np.empty((n_start,))\n",
        "        opt = Parallel(n_jobs=self.n_jobs)(delayed(minimize)(self.acqfuncApprox,\n",
        "                                                                 x0=start_point,\n",
        "                                                                 method=method,\n",
        "                                                                 jac = False,\n",
        "                                                                 bounds=self.parameter_range) for start_point in\n",
        "                                               start_points_arr)\n",
        "        x_best = np.array([res.x for res in opt])\n",
        "        f_best = np.array([np.atleast_1d(res.fun)[0] for res in opt])\n",
        "        f_best_min = min(f_best)\n",
        "\n",
        "        self.x_best = x_best\n",
        "        self.f_best = f_best\n",
        "        self.f_best_min = f_best_min\n",
        "        self.best = x_best[np.argmin(f_best)]\n",
        "        self.start_points_arr = start_points_arr        \n",
        "        self.history.append(self.f_best_min)\n",
        "\n",
        "    def _printInit(self):\n",
        "        print(self.header)\n",
        "        for init_eval in range(self.init_evals):\n",
        "            print(self.template.format('init', self.GP.X[init_eval], inverse * self.GP.y[init_eval], inverse * self.tau, ''))\n",
        "      \n",
        "    def _printCurrent(self):\n",
        "        OKGREEN = '\\033[92m'\n",
        "        ENDC = '\\033[0m'\n",
        "        BOLD = '\\033[1m'\n",
        "        eval = str(len(self.GP.y) - self.init_evals)\n",
        "        proposed = str(self.best)\n",
        "        curr_eval = str(inverse * self.GP.y[-1])\n",
        "        curr_best = str(inverse * self.tau)\n",
        "        min_acqfunc = str(self.f_best_min)\n",
        "        if float(curr_eval) <= float(curr_best):\n",
        "            eval = BOLD + OKGREEN + eval + ENDC\n",
        "            proposed = BOLD + OKGREEN + proposed + ENDC\n",
        "            curr_eval = BOLD + OKGREEN + curr_eval + ENDC\n",
        "            curr_best = BOLD + OKGREEN + curr_best + ENDC\n",
        "            min_acqfunc = BOLD + OKGREEN + min_acqfunc + ENDC\n",
        "        print(self.template.format(eval, proposed, curr_eval, curr_best, min_acqfunc))\n",
        "        \n",
        "    def run(self, max_iter=10, init_evals=3, resume=False):\n",
        "        \n",
        "        if not resume:\n",
        "            self.init_evals = init_evals\n",
        "            self._firstRun(self.init_evals)\n",
        "            self._printInit()\n",
        "        for iteration in range(max_iter):\n",
        "            self._optimizeAcq()\n",
        "            self.updateGP()\n",
        "            self._printCurrent()\n"
      ],
      "metadata": {
        "id": "QaOjAKNoXynM"
      },
      "execution_count": 11,
      "outputs": []
    },
    {
      "cell_type": "code",
      "execution_count": 12,
      "metadata": {
        "scrolled": false,
        "colab": {
          "base_uri": "https://localhost:8080/"
        },
        "id": "Fio5AsW9JLkp",
        "outputId": "50c617d7-564e-4b7a-9ce8-d16c9f3e7cbb"
      },
      "outputs": [
        {
          "output_type": "stream",
          "name": "stdout",
          "text": [
            "Evaluation \t Proposed point \t  Current eval. \t  Best eval. \t Min. ApproxAcqFunc \n",
            "init\t [-0.84969467  2.25612281]\t 20.33436270766351\t 19.908403246996286\t    \n",
            "init\t [-5.1188288  -2.02411446]\t 33.07414982069084\t 19.908403246996286\t    \n",
            "init\t [-3.61721968 -4.17445279]\t 53.347974723929894\t 19.908403246996286\t    \n",
            "init\t [-3.21269544 -1.58145816]\t 39.218472310354045\t 19.908403246996286\t    \n",
            "init\t [-1.05710106  0.39748336]\t 19.908403246996286\t 19.908403246996286\t    \n",
            "1  \t [ 5.12 -5.12]\t 57.849427451571785\t 19.908403246996286\t -2.8284275424952745\n",
            "2  \t [4.59394822 5.12      ]\t 68.33684417028886\t 19.908403246996286\t -2.828427485390853\n",
            "3  \t [-5.12  5.12]\t 57.849427451571785\t 19.908403246996286\t -2.828410465271639\n",
            "4  \t [ 4.14505747 -0.05925563]\t 21.743915339816308\t 19.908403246996286\t -2.8283186860367358\n",
            "5  \t [ 0.9002181  -3.68905846]\t 30.05751314896067\t 19.908403246996286\t -2.8253475660016103\n",
            "6  \t [0.71475953 5.12      ]\t 41.63177040986848\t 19.908403246996286\t -2.7642476900655244\n",
            "7  \t [-5.12        1.53252768]\t 51.06523009465836\t 19.908403246996286\t -2.730565628806647\n",
            "8  \t [2.30124385 2.20919945]\t 30.80510138528639\t 19.908403246996286\t -2.4844001119648147\n",
            "9  \t [ 1.42548956 -0.86683959]\t 25.008042788731686\t 19.908403246996286\t -2.1084179283503337\n",
            "10 \t [-2.15449208  5.12      ]\t 37.919349788618945\t 19.908403246996286\t -2.067786853526477\n",
            "11 \t [ 5.12       -2.24598786]\t 43.71711197839341\t 19.908403246996286\t -1.7495752581478516\n",
            "12 \t [5.12       2.17594988]\t 39.17282470697481\t 19.908403246996286\t -1.6359659111210172\n",
            "13 \t [-1.04415338 -5.12      ]\t 30.397328214636403\t 19.908403246996286\t -1.403463542235576\n",
            "14 \t [ 2.49583182 -5.12      ]\t 55.1504609380259\t 19.908403246996286\t -0.4041567001140633\n",
            "\u001b[1m\u001b[92m15\u001b[0m\t \u001b[1m\u001b[92m[-0.83055354 -2.1191165 ]\u001b[0m\t \u001b[1m\u001b[92m13.004913989210992\u001b[0m\t \u001b[1m\u001b[92m13.004913989210992\u001b[0m\t \u001b[1m\u001b[92m-0.02348680409968666\u001b[0m\n",
            "16 \t [-2.91305324  2.67469787]\t 31.652186173683212\t 13.004913989210992\t 0.29418631988400096\n",
            "17 \t [ 2.82327602 -2.40409824]\t 37.54627573558141\t 13.004913989210992\t 1.9223468457499306\n",
            "18 \t [-5.12 -5.12]\t 57.849427451571785\t 13.004913989210992\t 2.68902409557294\n",
            "\u001b[1m\u001b[92m19\u001b[0m\t \u001b[1m\u001b[92m[0.73544955 0.97241841]\u001b[0m\t \u001b[1m\u001b[92m12.549231496102493\u001b[0m\t \u001b[1m\u001b[92m12.549231496102493\u001b[0m\t \u001b[1m\u001b[92m3.4613248700807624\u001b[0m\n",
            "20 \t [-2.88108271  0.48465522]\t 31.15299992214839\t 12.549231496102493\t 3.593118189948937\n"
          ]
        }
      ],
      "source": [
        "### Bayesian optimisation runs (x20): 'GP' Acquisition Function run number = 1\n",
        "\n",
        "np.random.seed(run_num_1)\n",
        "surrogate_gp_1 = GaussianProcess(cov_func, optimize=hyperOpt)\n",
        "\n",
        "gp_1 = GPGO_multi(surrogate_gp_1, Acquisition_new(util_gp), f_syn_polarity, param, n_jobs = -1) # define BayesOpt\n",
        "gp_1.run(max_iter = max_iter, init_evals = n_init) # run\n"
      ]
    },
    {
      "cell_type": "code",
      "execution_count": 13,
      "metadata": {
        "colab": {
          "base_uri": "https://localhost:8080/"
        },
        "id": "6CLxOiUrJLks",
        "outputId": "6d2fd182-5a4a-458f-ce29-01bee976df29"
      },
      "outputs": [
        {
          "output_type": "stream",
          "name": "stdout",
          "text": [
            "Evaluation \t Proposed point \t  Current eval. \t  Best eval. \t Min. ApproxAcqFunc \n",
            "init\t [-0.6554122  -4.85451539]\t 43.490296251903594\t 18.964539418712707\t    \n",
            "init\t [ 0.50854377 -0.6622987 ]\t 35.91861667536101\t 18.964539418712707\t    \n",
            "init\t [-0.81543371 -1.73737143]\t 20.479562046739524\t 18.964539418712707\t    \n",
            "init\t [-3.02439799  1.2213347 ]\t 18.964539418712707\t 18.964539418712707\t    \n",
            "init\t [-2.05153614 -2.3876887 ]\t 28.041315668371354\t 18.964539418712707\t    \n",
            "1  \t [ 5.12 -5.12]\t 57.849427451571785\t 18.964539418712707\t -2.828426329918984\n",
            "2  \t [5.12 5.12]\t 57.849427451571785\t 18.964539418712707\t -2.8284275424724696\n",
            "3  \t [-0.09463329  5.12      ]\t 30.649934274043588\t 18.964539418712707\t -2.8283258825212134\n",
            "4  \t [5.12       0.07752399]\t 30.093772736618018\t 18.964539418712707\t -2.8279850373175996\n",
            "5  \t [-5.12  5.12]\t 57.849427451571785\t 18.964539418712707\t -2.8278497713420387\n",
            "6  \t [-5.12 -5.12]\t 57.849427451571785\t 18.964539418712707\t -2.8247115044746547\n",
            "7  \t [2.34176539 2.48334212]\t 47.04772118201856\t 18.964539418712707\t -2.744831838281556\n",
            "8  \t [-5.12       -1.23379867]\t 39.43077073189357\t 18.964539418712707\t -2.7022691570233595\n",
            "9  \t [ 2.61406267 -2.99769051]\t 33.360452641417666\t 18.964539418712707\t -2.5423630723369763\n",
            "10 \t [-0.744559    2.31158578]\t 30.01329997179617\t 18.964539418712707\t -1.9077824080540298\n",
            "11 \t [-5.12        2.08293294]\t 34.59051814924126\t 18.964539418712707\t -1.7577862263313313\n",
            "12 \t [-2.52828506  4.35777201]\t 61.49065047670151\t 18.964539418712707\t -1.024518337958673\n",
            "13 \t [ 5.12       -2.32634037]\t 48.95135482409612\t 18.964539418712707\t -0.835903287016223\n",
            "14 \t [2.362535 5.12    ]\t 51.002437971741244\t 18.964539418712707\t -0.7404784912122195\n",
            "15 \t [5.12       2.42988275]\t 53.874175221203025\t 18.964539418712707\t -0.6543321712923729\n",
            "16 \t [ 2.0141485 -5.12     ]\t 33.02099588047817\t 18.964539418712707\t -0.5821093929225047\n",
            "17 \t [ 2.83795839 -0.24257547]\t 22.397001801525306\t 18.964539418712707\t 0.25314625808725905\n",
            "18 \t [-2.80466408 -5.12      ]\t 43.423341326561044\t 18.964539418712707\t 1.4396773915466072\n",
            "19 \t [-2.25233678 -0.20567437]\t 22.512945147770935\t 18.964539418712707\t 1.959087605413604\n",
            "20 \t [-4.0015396 -2.9532778]\t 25.162450896902936\t 18.964539418712707\t 3.55200547634385\n"
          ]
        }
      ],
      "source": [
        "### Bayesian optimisation runs (x20): 'GP' Acquisition Function run number = 2\n",
        "\n",
        "np.random.seed(run_num_2)\n",
        "surrogate_gp_2 = GaussianProcess(cov_func, optimize=hyperOpt)\n",
        "\n",
        "gp_2 = GPGO_multi(surrogate_gp_2, Acquisition_new(util_gp), f_syn_polarity, param, n_jobs = -1) # define BayesOpt\n",
        "gp_2.run(max_iter = max_iter, init_evals = n_init) # run\n"
      ]
    },
    {
      "cell_type": "code",
      "execution_count": 14,
      "metadata": {
        "id": "OrboSzBtJLku",
        "colab": {
          "base_uri": "https://localhost:8080/"
        },
        "outputId": "f688070f-cff1-4128-818d-3ba048f027e8"
      },
      "outputs": [
        {
          "output_type": "stream",
          "name": "stdout",
          "text": [
            "Evaluation \t Proposed point \t  Current eval. \t  Best eval. \t Min. ApproxAcqFunc \n",
            "init\t [0.52017052 2.1314337 ]\t 27.953858411008774\t 10.607662635789808\t    \n",
            "init\t [-2.14113547  0.11087468]\t 10.607662635789808\t 10.607662635789808\t    \n",
            "init\t [4.02377681 4.05804123]\t 33.42749829480097\t 10.607662635789808\t    \n",
            "init\t [-3.83400642 -2.99783293]\t 28.650953928965198\t 10.607662635789808\t    \n",
            "init\t [-4.59297584 -0.6061072 ]\t 57.6631355589384\t 10.607662635789808\t    \n",
            "1  \t [ 5.12       -3.43858851]\t 60.01335649772999\t 10.607662635789808\t -2.828427542424429\n",
            "2  \t [-5.12  5.12]\t 57.849427451571785\t 10.607662635789808\t -2.828425445193753\n",
            "3  \t [ 0.45249713 -5.12      ]\t 48.68734453384721\t 10.607662635789808\t -2.828143990985943\n",
            "4  \t [5.12       0.47968831]\t 49.073488059879594\t 10.607662635789808\t -2.79923393823029\n",
            "5  \t [ 1.48148469 -1.42819406]\t 43.16631787143692\t 10.607662635789808\t -2.7844481633805525\n",
            "6  \t [-1.23868099  5.12      ]\t 39.748449196193384\t 10.607662635789808\t -2.7787606837771084\n",
            "7  \t [-3.18963069  2.50554935]\t 42.74263297684932\t 10.607662635789808\t -2.331844965552263\n",
            "8  \t [-5.12 -5.12]\t 57.849427451571785\t 10.607662635789808\t -2.1957624357472465\n",
            "9  \t [1.57484766 5.12      ]\t 50.319265520246674\t 10.607662635789808\t -1.8843150851388013\n",
            "10 \t [-1.23292754 -2.44156043]\t 35.74409969985574\t 10.607662635789808\t -1.8307501117716787\n",
            "11 \t [ 3.10358637 -5.12      ]\t 40.601285222405664\t 10.607662635789808\t -1.142904340033218\n",
            "12 \t [-2.25361582 -5.12      ]\t 44.2306671611494\t 10.607662635789808\t -1.0685197501131583\n",
            "13 \t [2.71252624 1.42275046]\t 40.559876972759156\t 10.607662635789808\t -0.5846599043651869\n",
            "14 \t [-0.64886428  0.21744698]\t 24.372606488410117\t 10.607662635789808\t 0.728669871817043\n",
            "15 \t [-5.12        2.00334363]\t 32.94030616406821\t 10.607662635789808\t 1.1240946102445277\n",
            "16 \t [5.12 5.12]\t 57.849427451571785\t 10.607662635789808\t 2.315994872641749\n",
            "17 \t [ 3.71218118 -1.47048203]\t 48.12503652943395\t 10.607662635789808\t 2.064833925263055\n",
            "18 \t [5.12       2.58439015]\t 54.23064856163505\t 10.607662635789808\t 3.6131205482559294\n",
            "19 \t [-1.0854359   2.87267208]\t 13.870081498377587\t 10.607662635789808\t 3.852522666122859\n",
            "20 \t [ 1.85788759 -3.37835096]\t 35.81195659520509\t 10.607662635789808\t 4.7831644526034465\n"
          ]
        }
      ],
      "source": [
        "### Bayesian optimisation runs (x20): 'GP' Acquisition Function run number = 3\n",
        "\n",
        "np.random.seed(run_num_3)\n",
        "surrogate_gp_3 = GaussianProcess(cov_func, optimize=hyperOpt)\n",
        "\n",
        "gp_3 = GPGO_multi(surrogate_gp_3, Acquisition_new(util_gp), f_syn_polarity, param, n_jobs = -1) # define BayesOpt\n",
        "gp_3.run(max_iter = max_iter, init_evals = n_init) # run\n"
      ]
    },
    {
      "cell_type": "code",
      "execution_count": 15,
      "metadata": {
        "id": "wmlwMmKcJLkv",
        "colab": {
          "base_uri": "https://localhost:8080/"
        },
        "outputId": "b0c7a8b6-e0d4-412e-c706-314e91d20c6d"
      },
      "outputs": [
        {
          "output_type": "stream",
          "name": "stdout",
          "text": [
            "Evaluation \t Proposed point \t  Current eval. \t  Best eval. \t Min. ApproxAcqFunc \n",
            "init\t [4.78238555 0.48365823]\t 51.03163809010808\t 14.323038259018315\t    \n",
            "init\t [4.84028785 2.19971578]\t 39.78645699016559\t 14.323038259018315\t    \n",
            "init\t [ 2.02474316 -2.90724357]\t 14.323038259018315\t 14.323038259018315\t    \n",
            "init\t [ 4.87705042 -5.05620219]\t 52.80627247106233\t 14.323038259018315\t    \n",
            "init\t [-2.52946061 -0.66773471]\t 41.61497868486559\t 14.323038259018315\t    \n",
            "1  \t [-5.12  5.12]\t 57.849427451571785\t 14.323038259018315\t -2.828427503858892\n",
            "2  \t [0.36075202 5.12      ]\t 45.46543154449232\t 14.323038259018315\t -2.8284081939344294\n",
            "3  \t [-5.12 -5.12]\t 57.849427451571785\t 14.323038259018315\t -2.8283915236243784\n",
            "4  \t [-0.95956979 -5.12      ]\t 30.166413944344903\t 14.323038259018315\t -2.8158976891064493\n",
            "\u001b[1m\u001b[92m5\u001b[0m\t \u001b[1m\u001b[92m[0.85385715 1.14522002]\u001b[0m\t \u001b[1m\u001b[92m9.85028526657571\u001b[0m\t \u001b[1m\u001b[92m9.85028526657571\u001b[0m\t \u001b[1m\u001b[92m-2.794918444519986\u001b[0m\n",
            "6  \t [-5.12        1.50099773]\t 51.17751141312713\t 9.85028526657571\t -2.7178790358485445\n",
            "7  \t [3.91453993 5.12      ]\t 45.655667237336814\t 9.85028526657571\t -2.6293160496736223\n",
            "8  \t [-1.97854284  2.82550416]\t 17.42074212337993\t 9.85028526657571\t -2.5695506510405544\n",
            "9  \t [ 0.30800234 -1.28265715]\t 27.341871618977134\t 9.85028526657571\t -1.8573292168086366\n",
            "10 \t [-5.12       -1.96196234]\t 33.05825249175693\t 9.85028526657571\t -2.255319565791216\n",
            "11 \t [ 5.12       -2.25322144]\t 44.20411564275986\t 9.85028526657571\t -1.7519674016831677\n",
            "12 \t [ 1.82456022 -5.12      ]\t 37.738466709055714\t 9.85028526657571\t -1.6972796531660284\n",
            "13 \t [2.03002888 2.73217217]\t 22.881064285603877\t 9.85028526657571\t -1.2882035140462311\n",
            "14 \t [-2.35571644  5.12      ]\t 50.638691047763565\t 9.85028526657571\t -1.0524898298794718\n",
            "15 \t [-2.64807546 -3.36983861]\t 51.18144032706495\t 9.85028526657571\t -0.9264321571329706\n",
            "16 \t [ 2.44715647 -0.46105427]\t 45.357078509144785\t 9.85028526657571\t -0.1123215889058829\n",
            "17 \t [-0.62128703  1.36037909]\t 35.86329479465815\t 9.85028526657571\t 0.11205138530564988\n",
            "18 \t [ 0.06787433 -3.22304214]\t 19.602554282044824\t 9.85028526657571\t 2.4839925773405387\n",
            "19 \t [-3.41847842  2.85262551]\t 42.529569919980275\t 9.85028526657571\t 3.691040421217179\n",
            "20 \t [ 3.08111761 -3.10530129]\t 22.517226940104717\t 9.85028526657571\t 4.4569167270723185\n"
          ]
        }
      ],
      "source": [
        "### Bayesian optimisation runs (x20): 'GP' Acquisition Function run number = 4\n",
        "\n",
        "np.random.seed(run_num_4)\n",
        "surrogate_gp_4 = GaussianProcess(cov_func, optimize=hyperOpt)\n",
        "\n",
        "gp_4 = GPGO_multi(surrogate_gp_4, Acquisition_new(util_gp), f_syn_polarity, param, n_jobs = -1) # define BayesOpt\n",
        "gp_4.run(max_iter = max_iter, init_evals = n_init) # run\n"
      ]
    },
    {
      "cell_type": "code",
      "execution_count": 16,
      "metadata": {
        "id": "ntlcfbyWJLkw",
        "colab": {
          "base_uri": "https://localhost:8080/"
        },
        "outputId": "f06ee7ce-0a5e-413b-fe94-01212d74c9ae"
      },
      "outputs": [
        {
          "output_type": "stream",
          "name": "stdout",
          "text": [
            "Evaluation \t Proposed point \t  Current eval. \t  Best eval. \t Min. ApproxAcqFunc \n",
            "init\t [-2.84678993  3.79629882]\t 33.93442008827236\t 7.8108627039749745\t    \n",
            "init\t [-3.00319585  4.2865757 ]\t 39.673876075575784\t 7.8108627039749745\t    \n",
            "init\t [-0.11866943  1.14425716]\t 7.8108627039749745\t 7.8108627039749745\t    \n",
            "init\t [2.72289645 0.1886002 ]\t 25.38160395721669\t 7.8108627039749745\t    \n",
            "init\t [-2.08076286 -3.19773462]\t 22.589982116319675\t 7.8108627039749745\t    \n",
            "1  \t [ 5.12       -4.99246753]\t 53.860643358952835\t 7.8108627039749745\t -2.8284264807356143\n",
            "2  \t [5.12 5.12]\t 57.849427451571785\t 7.8108627039749745\t -2.8284237889177244\n",
            "3  \t [-5.12       -0.04631646]\t 29.34732719788368\t 7.8108627039749745\t -2.8270256766738995\n",
            "4  \t [1.00367691 5.12      ]\t 29.934749607268387\t 7.8108627039749745\t -2.815493349596232\n",
            "5  \t [-5.12 -5.12]\t 57.849427451571785\t 7.8108627039749745\t -2.810821740105266\n",
            "6  \t [ 1.11159168 -5.12      ]\t 32.51934914728281\t 7.8108627039749745\t -2.8088798140166715\n",
            "7  \t [ 5.12       -1.57414358]\t 50.337007244635515\t 7.8108627039749745\t -2.5987783773692557\n",
            "8  \t [ 0.59870039 -1.87855175]\t 24.798201222954376\t 7.8108627039749745\t -2.437115446656421\n",
            "9  \t [5.12       1.88585148]\t 34.944766123976166\t 7.8108627039749745\t -2.4438666145661534\n",
            "10 \t [-2.19883593  0.01841792]\t 11.742455704403119\t 7.8108627039749745\t -2.2797181851049473\n",
            "11 \t [2.1881925 2.7870285]\t 26.463477714643684\t 7.8108627039749745\t -1.7262451996604602\n",
            "12 \t [-5.12        2.61670435]\t 53.20171920568005\t 7.8108627039749745\t -1.6121870095854998\n",
            "13 \t [-5.12       -2.41255866]\t 53.27348001743517\t 7.8108627039749745\t -1.133909056354825\n",
            "14 \t [ 2.80962832 -3.10592908]\t 26.015647852065296\t 7.8108627039749745\t -0.9190794217877889\n",
            "15 \t [-1.67866612 -5.12      ]\t 46.07611007423478\t 7.8108627039749745\t -0.7989863947274392\n",
            "16 \t [-0.5515869   2.80092321]\t 34.483415120185676\t 7.8108627039749745\t -0.6926016957700426\n",
            "\u001b[1m\u001b[92m17\u001b[0m\t \u001b[1m\u001b[92m[-0.09257602  0.15945204]\u001b[0m\t \u001b[1m\u001b[92m6.291239430910246\u001b[0m\t \u001b[1m\u001b[92m6.291239430910246\u001b[0m\t \u001b[1m\u001b[92m0.8069389063438588\u001b[0m\n",
            "18 \t [-2.73936046  1.32710119]\t 34.590435590832385\t 6.291239430910246\t 1.43055990998301\n",
            "19 \t [-5.12  5.12]\t 57.849427451571785\t 6.291239430910246\t -0.2642477797685193\n",
            "20 \t [-1.8476526  -1.20496214]\t 16.315664120794906\t 6.291239430910246\t 0.8640512315215826\n"
          ]
        }
      ],
      "source": [
        "### Bayesian optimisation runs (x20): 'GP' Acquisition Function run number = 5\n",
        "\n",
        "np.random.seed(run_num_5)\n",
        "surrogate_gp_5 = GaussianProcess(cov_func, optimize=hyperOpt)\n",
        "\n",
        "gp_5 = GPGO_multi(surrogate_gp_5, Acquisition_new(util_gp), f_syn_polarity, param, n_jobs = -1) # define BayesOpt\n",
        "gp_5.run(max_iter = max_iter, init_evals = n_init) # run\n"
      ]
    },
    {
      "cell_type": "code",
      "execution_count": 17,
      "metadata": {
        "id": "HHrK2qnsJLkx",
        "colab": {
          "base_uri": "https://localhost:8080/"
        },
        "outputId": "0614ddfe-36f7-485b-e09e-08887abdefee"
      },
      "outputs": [
        {
          "output_type": "stream",
          "name": "stdout",
          "text": [
            "Evaluation \t Proposed point \t  Current eval. \t  Best eval. \t Min. ApproxAcqFunc \n",
            "init\t [ 4.02288795 -1.72052679]\t 31.08835710146886\t 17.28954482757088\t    \n",
            "init\t [ 3.28938622 -4.69302655]\t 58.797867722203385\t 17.28954482757088\t    \n",
            "init\t [-4.0175956   0.97333314]\t 17.28954482757088\t 17.28954482757088\t    \n",
            "init\t [ 0.30532979 -0.83141193]\t 19.296253155889353\t 17.28954482757088\t    \n",
            "init\t [-1.68542362  1.25459899]\t 28.650630936276173\t 17.28954482757088\t    \n",
            "1  \t [5.12 5.12]\t 57.849427451571785\t 17.28954482757088\t -2.82842754191017\n",
            "2  \t [-4.81573137 -4.71436847]\t 63.62306792843753\t 17.28954482757088\t -2.8284269668765467\n",
            "3  \t [-5.12  5.12]\t 57.849427451571785\t 17.28954482757088\t -2.827581183843553\n",
            "4  \t [0.3953897 5.12     ]\t 46.9975805358217\t 17.28954482757088\t -2.82709432992948\n",
            "5  \t [-0.75382856 -5.12      ]\t 39.252438749499674\t 17.28954482757088\t -2.8126682456530596\n",
            "6  \t [2.84227927 1.91252133]\t 17.730556131812833\t 17.28954482757088\t -2.7892599484003955\n",
            "7  \t [-2.70548944 -2.0107248 ]\t 24.145749605520912\t 17.28954482757088\t -2.584637322847708\n",
            "8  \t [5.12      1.1212524]\t 32.94632682106552\t 17.28954482757088\t -2.1854749541857457\n",
            "9  \t [-2.34758753  4.04005398]\t 37.902766723393334\t 17.28954482757088\t -1.927259062751466\n",
            "10 \t [-5.12       -1.34949004]\t 46.59773744419697\t 17.28954482757088\t -1.9006032148288161\n",
            "\u001b[1m\u001b[92m11\u001b[0m\t \u001b[1m\u001b[92m[ 0.98767965 -2.97227997]\u001b[0m\t \u001b[1m\u001b[92m9.99119974262284\u001b[0m\t \u001b[1m\u001b[92m9.99119974262284\u001b[0m\t \u001b[1m\u001b[92m-1.086335015970493\u001b[0m\n",
            "12 \t [0.64297659 2.21276203]\t 29.220321958769453\t 9.99119974262284\t -1.0711049450832737\n",
            "13 \t [-5.12        2.42975635]\t 53.87017147296302\t 9.99119974262284\t -0.4369984132412936\n",
            "14 \t [2.74674824 4.1414949 ]\t 38.59931830344343\t 9.99119974262284\t 0.04961627123400514\n",
            "15 \t [ 2.28591573 -0.11470552]\t 19.962781456746555\t 9.99119974262284\t 0.3069134689169965\n",
            "16 \t [-0.72438433 -2.66698066]\t 34.22296368950525\t 9.99119974262284\t 1.3431150988158773\n",
            "17 \t [ 5.12       -3.46267373]\t 60.641064645122505\t 9.99119974262284\t 1.563472084629107\n",
            "18 \t [ 1.87745243 -2.44387184]\t 31.70271501270117\t 9.99119974262284\t 2.3810638232120893\n",
            "19 \t [ 1.17548023 -5.12      ]\t 35.7934680722136\t 9.99119974262284\t 3.1774449740180972\n",
            "20 \t [-2.64446277 -5.12      ]\t 52.07360456226107\t 9.99119974262284\t 3.1970010368341515\n"
          ]
        }
      ],
      "source": [
        "### Bayesian optimisation runs (x20): 'GP' Acquisition Function run number = 6\n",
        "\n",
        "np.random.seed(run_num_6)\n",
        "surrogate_gp_6 = GaussianProcess(cov_func, optimize=hyperOpt)\n",
        "\n",
        "gp_6 = GPGO_multi(surrogate_gp_6, Acquisition_new(util_gp), f_syn_polarity, param, n_jobs = -1) # define BayesOpt\n",
        "gp_6.run(max_iter = max_iter, init_evals = n_init) # run\n"
      ]
    },
    {
      "cell_type": "code",
      "execution_count": 18,
      "metadata": {
        "id": "rht2Y9u8JLky",
        "colab": {
          "base_uri": "https://localhost:8080/"
        },
        "outputId": "79b3c63e-30ce-4a42-a66e-f47dbb8d3295"
      },
      "outputs": [
        {
          "output_type": "stream",
          "name": "stdout",
          "text": [
            "Evaluation \t Proposed point \t  Current eval. \t  Best eval. \t Min. ApproxAcqFunc \n",
            "init\t [-4.33860312  2.86636843]\t 45.646133072936244\t 22.52235437888213\t    \n",
            "init\t [-0.63068947  2.28828342]\t 34.83012662845338\t 22.52235437888213\t    \n",
            "init\t [4.8946126  0.39419771]\t 44.09657005662876\t 22.52235437888213\t    \n",
            "init\t [ 0.01147355 -4.38219639]\t 36.613209822404315\t 22.52235437888213\t    \n",
            "init\t [-2.37118484e+00 -1.20319155e-03]\t 22.52235437888213\t 22.52235437888213\t    \n",
            "1  \t [-5.12 -5.12]\t 57.849427451571785\t 22.52235437888213\t -2.8284003262015047\n",
            "2  \t [ 5.12 -5.12]\t 57.849427451571785\t 22.52235437888213\t -2.8283921498501323\n",
            "3  \t [3.59418124 5.12      ]\t 60.142464565687504\t 22.52235437888213\t -2.8282519031478484\n",
            "4  \t [-4.02558214 -1.33646422]\t 33.289738493146906\t 22.52235437888213\t -2.8284275424952865\n",
            "\u001b[1m\u001b[92m5\u001b[0m\t \u001b[1m\u001b[92m[ 1.40596266 -0.96124826]\u001b[0m\t \u001b[1m\u001b[92m21.50034297990735\u001b[0m\t \u001b[1m\u001b[92m21.50034297990735\u001b[0m\t \u001b[1m\u001b[92m-2.772226273103818\u001b[0m\n",
            "6  \t [-1.80777259  5.12      ]\t 38.641990368380974\t 21.50034297990735\t -2.598003805745786\n",
            "7  \t [2.33770851 2.13162754]\t 28.474299568098445\t 21.50034297990735\t -2.2198306746638177\n",
            "8  \t [ 3.57955822 -2.53923535]\t 57.73502669045898\t 21.50034297990735\t -2.091075398879357\n",
            "9  \t [-2.52341778 -3.63390284]\t 56.129505206520726\t 21.50034297990735\t -1.55596664339063\n",
            "10 \t [-5.12  5.12]\t 57.849427451571785\t 21.50034297990735\t -1.423387523128738\n",
            "11 \t [0.80739943 5.12      ]\t 36.04777103590084\t 21.50034297990735\t -1.4224934806011789\n",
            "12 \t [5.12       2.99342562]\t 37.893841235001446\t 21.50034297990735\t -0.9273486600724786\n",
            "13 \t [ 2.32173802 -5.12      ]\t 48.67152822532272\t 21.50034297990735\t -0.8454522124235708\n",
            "14 \t [-0.64359927 -1.53165731]\t 38.761396203154135\t 21.50034297990735\t -0.2167205235865773\n",
            "15 \t [-5.12        0.58582161]\t 47.848927925395174\t 21.50034297990735\t -0.06969570508019127\n",
            "16 \t [-5.12       -2.74195536]\t 46.94827737992015\t 21.50034297990735\t 2.6465112712364154\n",
            "17 \t [0.74591788 0.65310807]\t 26.958155273613563\t 21.50034297990735\t 2.9856627387153245\n",
            "\u001b[1m\u001b[92m18\u001b[0m\t \u001b[1m\u001b[92m[ 2.81964401 -0.03282269]\u001b[0m\t \u001b[1m\u001b[92m13.925829904661603\u001b[0m\t \u001b[1m\u001b[92m13.925829904661603\u001b[0m\t \u001b[1m\u001b[92m4.5262229881199145\u001b[0m\n",
            "19 \t [-2.50692353  1.83659115]\t 34.472061222962004\t 13.925829904661603\t 4.336027848474813\n",
            "20 \t [ 1.24837022 -2.72933428]\t 30.200113325973337\t 13.925829904661603\t 4.980187981287753\n"
          ]
        }
      ],
      "source": [
        "### Bayesian optimisation runs (x20): 'GP' Acquisition Function run number = 7\n",
        "\n",
        "np.random.seed(run_num_7)\n",
        "surrogate_gp_7 = GaussianProcess(cov_func, optimize=hyperOpt)\n",
        "\n",
        "gp_7 = GPGO_multi(surrogate_gp_7, Acquisition_new(util_gp), f_syn_polarity, param, n_jobs = -1) # define BayesOpt\n",
        "gp_7.run(max_iter = max_iter, init_evals = n_init) # run\n"
      ]
    },
    {
      "cell_type": "code",
      "execution_count": 19,
      "metadata": {
        "id": "vHGwZn0qJLkz",
        "colab": {
          "base_uri": "https://localhost:8080/"
        },
        "outputId": "be4053cc-0368-4d00-8cd9-c9dc403e3126"
      },
      "outputs": [
        {
          "output_type": "stream",
          "name": "stdout",
          "text": [
            "Evaluation \t Proposed point \t  Current eval. \t  Best eval. \t Min. ApproxAcqFunc \n",
            "init\t [3.82391708 4.79785639]\t 50.20079446939181\t 13.871821018360485\t    \n",
            "init\t [3.78055209 0.31596228]\t 36.5114251593508\t 13.871821018360485\t    \n",
            "init\t [-2.73686192 -5.00327624]\t 43.34985765011677\t 13.871821018360485\t    \n",
            "init\t [-0.7119993  -0.99992207]\t 13.871821018360485\t 13.871821018360485\t    \n",
            "init\t [ 0.23218863 -0.22126801]\t 17.190590355445654\t 13.871821018360485\t    \n",
            "1  \t [-5.12  5.12]\t 57.849427451571785\t 13.871821018360485\t -2.828427542490152\n",
            "2  \t [ 5.12 -5.12]\t 57.849427451571785\t 13.871821018360485\t -2.8284246909813695\n",
            "3  \t [-5.12       -0.06038676]\t 29.63956856647475\t 13.871821018360485\t -2.8281721257510126\n",
            "4  \t [-0.66934959  4.17606239]\t 38.26050590813208\t 13.871821018360485\t -2.8263291863523903\n",
            "5  \t [ 1.1839715  -4.40964515]\t 45.247367442482634\t 13.871821018360485\t -2.80706021919176\n",
            "6  \t [-2.62495387  1.70321541]\t 39.76185302304639\t 13.871821018360485\t -2.511504074766929\n",
            "7  \t [1.62789349 2.34354646]\t 40.628663794764655\t 13.871821018360485\t -2.1266705860476756\n",
            "8  \t [-5.12       -3.12778462]\t 41.761475818958544\t 13.871821018360485\t -2.476797896398779\n",
            "9  \t [ 5.12       -2.11131511]\t 35.73016589145558\t 13.871821018360485\t -2.126099156422544\n",
            "10 \t [-2.59860187 -1.83797256]\t 33.02208828749454\t 13.871821018360485\t -1.4905053112876592\n",
            "11 \t [5.12       2.44931334]\t 54.42099407595397\t 13.871821018360485\t -1.3448368358781029\n",
            "12 \t [ 2.13351704 -1.86180773]\t 14.874155204342568\t 13.871821018360485\t -1.2816053474280358\n",
            "13 \t [-5.12        2.43460954]\t 54.01981261471534\t 13.871821018360485\t -0.7218956210268799\n",
            "14 \t [1.38502789 5.12      ]\t 48.34528527733406\t 13.871821018360485\t 0.25307899837982245\n",
            "15 \t [-2.63596307  5.12      ]\t 52.440622584780044\t 13.871821018360485\t 0.2488604298153633\n",
            "16 \t [-0.68581695 -3.04957548]\t 24.17579956183142\t 13.871821018360485\t 1.0139884442981453\n",
            "17 \t [-5.12 -5.12]\t 57.849427451571785\t 13.871821018360485\t 1.253272648513394\n",
            "18 \t [ 3.2383528  -3.38030534]\t 48.48503681494183\t 13.871821018360485\t 2.3383687012535592\n",
            "19 \t [-0.47174339  1.4433388 ]\t 41.521516881770765\t 13.871821018360485\t 2.5013008798361054\n",
            "20 \t [ 1.67745793 -0.55692338]\t 36.892979412051915\t 13.871821018360485\t 3.1576406669299737\n"
          ]
        }
      ],
      "source": [
        "### Bayesian optimisation runs (x20): 'GP' Acquisition Function run number = 8\n",
        "\n",
        "np.random.seed(run_num_8)\n",
        "surrogate_gp_8 = GaussianProcess(cov_func, optimize=hyperOpt)\n",
        "\n",
        "gp_8 = GPGO_multi(surrogate_gp_8, Acquisition_new(util_gp), f_syn_polarity, param, n_jobs = -1) # define BayesOpt\n",
        "gp_8.run(max_iter = max_iter, init_evals = n_init) # run\n"
      ]
    },
    {
      "cell_type": "code",
      "execution_count": 20,
      "metadata": {
        "id": "YC6sxKgkJLkz",
        "colab": {
          "base_uri": "https://localhost:8080/"
        },
        "outputId": "d37340be-d84d-40e1-e6e9-0875fbee9c23"
      },
      "outputs": [
        {
          "output_type": "stream",
          "name": "stdout",
          "text": [
            "Evaluation \t Proposed point \t  Current eval. \t  Best eval. \t Min. ApproxAcqFunc \n",
            "init\t [-5.01376866  0.01919582]\t 25.248289026162446\t 24.454800313488693\t    \n",
            "init\t [-0.04328148 -3.74958562]\t 24.454800313488693\t 24.454800313488693\t    \n",
            "init\t [-3.66478248 -2.88195916]\t 39.46509426509438\t 24.454800313488693\t    \n",
            "init\t [-0.83447623 -2.57944404]\t 31.06766397812992\t 24.454800313488693\t    \n",
            "init\t [-4.25922917 -1.58209393]\t 49.922543556206975\t 24.454800313488693\t    \n",
            "1  \t [3.59513816 5.12      ]\t 60.11565541708494\t 24.454800313488693\t -2.8284275424952865\n",
            "2  \t [ 5.08444636 -1.01987184]\t 28.34450452176037\t 24.454800313488693\t -2.8284269215840254\n",
            "3  \t [-2.34858653  5.12      ]\t 50.24634460887975\t 24.454800313488693\t -2.8284262343099864\n",
            "4  \t [0.74843853 1.50884705]\t 32.91944211924317\t 24.454800313488693\t -2.826384453911829\n",
            "5  \t [ 4.21309022 -5.12      ]\t 54.37646518820013\t 24.454800313488693\t -2.8258155835565786\n",
            "6  \t [-5.12        3.25723563]\t 49.98876886199934\t 24.454800313488693\t -2.6784812485086773\n",
            "7  \t [5.12       2.12515803]\t 36.37696721088612\t 24.454800313488693\t -2.6206591199668745\n",
            "8  \t [ 2.15653511 -1.52373821]\t 31.320598510293554\t 24.454800313488693\t -2.4291831635864636\n",
            "9  \t [-2.26022104  1.37744662]\t 34.82665188083518\t 24.454800313488693\t -2.4270552897507853\n",
            "10 \t [-5.12 -5.12]\t 57.849427451571785\t 24.454800313488693\t -2.3525512585845902\n",
            "11 \t [0.58847117 5.12      ]\t 47.76537202032914\t 24.454800313488693\t -2.1416430767223953\n",
            "12 \t [-2.04491225 -5.12      ]\t 33.501906127167835\t 24.454800313488693\t -1.4635626828631327\n",
            "13 \t [ 1.50432838 -5.12      ]\t 51.18401971121588\t 24.454800313488693\t -0.9534822069756931\n",
            "\u001b[1m\u001b[92m14\u001b[0m\t \u001b[1m\u001b[92m[3.05495847 0.91026195]\u001b[0m\t \u001b[1m\u001b[92m12.2995698200052\u001b[0m\t \u001b[1m\u001b[92m12.2995698200052\u001b[0m\t \u001b[1m\u001b[92m-0.031048900760166448\u001b[0m\n",
            "15 \t [-0.63799747 -0.45777006]\t 36.73731283380454\t 12.2995698200052\t 0.5779072367839134\n",
            "16 \t [ 5.12       -3.00064868]\t 37.92868926009264\t 12.2995698200052\t 1.0956894008329572\n",
            "17 \t [2.52360855 2.83344738]\t 39.28100214025332\t 12.2995698200052\t 1.168095710930341\n",
            "18 \t [-0.8608255   3.11037069]\t 16.31104248794232\t 12.2995698200052\t 1.9918134230508202\n",
            "19 \t [-5.12  5.12]\t 57.849427451571785\t 12.2995698200052\t 2.107628570436161\n",
            "20 \t [3.47443976 0.20447519]\t 39.16329581112348\t 12.2995698200052\t 4.295395974092553\n"
          ]
        }
      ],
      "source": [
        "### Bayesian optimisation runs (x20): 'GP' Acquisition Function run number = 9\n",
        "\n",
        "np.random.seed(run_num_9)\n",
        "surrogate_gp_9 = GaussianProcess(cov_func, optimize=hyperOpt)\n",
        "\n",
        "gp_9 = GPGO_multi(surrogate_gp_9, Acquisition_new(util_gp), f_syn_polarity, param, n_jobs = -1) # define BayesOpt\n",
        "gp_9.run(max_iter = max_iter, init_evals = n_init) # run\n"
      ]
    },
    {
      "cell_type": "code",
      "execution_count": 21,
      "metadata": {
        "id": "P-0wfCEIJLk0",
        "colab": {
          "base_uri": "https://localhost:8080/"
        },
        "outputId": "21929cc5-dc2b-439e-b486-59b75d9267ad"
      },
      "outputs": [
        {
          "output_type": "stream",
          "name": "stdout",
          "text": [
            "Evaluation \t Proposed point \t  Current eval. \t  Best eval. \t Min. ApproxAcqFunc \n",
            "init\t [ 2.77832339 -4.90750004]\t 41.674330194390116\t 13.839458310244165\t    \n",
            "init\t [1.36855793 2.54775176]\t 44.69639719065837\t 13.839458310244165\t    \n",
            "init\t [-0.01528819 -2.81808235]\t 13.839458310244165\t 13.839458310244165\t    \n",
            "init\t [-3.09183626  2.66783449]\t 33.23221510904937\t 13.839458310244165\t    \n",
            "init\t [-3.38830503 -4.2154003 ]\t 54.73014366983691\t 13.839458310244165\t    \n",
            "1  \t [ 5.12       -0.56839641]\t 48.338498828903624\t 13.839458310244165\t -2.8281639872839968\n",
            "2  \t [5.12 5.12]\t 57.849427451571785\t 13.839458310244165\t -2.8277066386270993\n",
            "3  \t [-5.12       -0.60617935]\t 47.14808380970971\t 13.839458310244165\t -2.809370662152631\n",
            "4  \t [-5.12  5.12]\t 57.849427451571785\t 13.839458310244165\t -2.723366754870739\n",
            "5  \t [-0.83792954  5.12      ]\t 34.378861331287645\t 13.839458310244165\t -2.689317695293782\n",
            "\u001b[1m\u001b[92m6\u001b[0m\t \u001b[1m\u001b[92m[-1.23134985 -0.10547289]\u001b[0m\t \u001b[1m\u001b[92m12.474899412486748\u001b[0m\t \u001b[1m\u001b[92m12.474899412486748\u001b[0m\t \u001b[1m\u001b[92m-2.64913945405786\u001b[0m\n",
            "7  \t [ 1.89655121 -0.79254126]\t 13.622885925744146\t 12.474899412486748\t -2.443438814139902\n",
            "8  \t [-0.38454478 -5.12      ]\t 46.55475355150169\t 12.474899412486748\t -2.0429848711027785\n",
            "9  \t [ 5.12       -3.59870987]\t 60.012976703877136\t 12.474899412486748\t -2.014422862364768\n",
            "10 \t [4.53168812 2.23137644]\t 54.1501989042086\t 12.474899412486748\t -1.9076187723039197\n",
            "11 \t [2.14105846 5.12      ]\t 37.185988679069055\t 12.474899412486748\t -1.65867370795147\n",
            "12 \t [-2.4072585  -1.64813084]\t 42.833420235242514\t 12.474899412486748\t -0.7324097973679011\n",
            "13 \t [-5.12        2.04138156]\t 33.42807312396548\t 12.474899412486748\t -0.13583382934768096\n",
            "14 \t [-0.94161245  1.58512304]\t 22.6681484889217\t 12.474899412486748\t 0.14615033449968176\n",
            "15 \t [ 2.34509941 -2.44685388]\t 46.560209201512095\t 12.474899412486748\t 0.37296625751666945\n",
            "16 \t [ 0.44728742 -0.2932312 ]\t 32.42558567023162\t 12.474899412486748\t 0.9115267979274349\n",
            "17 \t [-5.12 -5.12]\t 57.849427451571785\t 12.474899412486748\t 1.191426962124767\n",
            "18 \t [2.74415569 0.35270292]\t 34.03630975991751\t 12.474899412486748\t 1.7515328957434286\n",
            "19 \t [-2.80868761  5.12      ]\t 43.208987752568504\t 12.474899412486748\t 2.3581777640462795\n",
            "20 \t [-2.84975168  0.56733934]\t 31.695917850674757\t 12.474899412486748\t 3.034653645700462\n"
          ]
        }
      ],
      "source": [
        "### Bayesian optimisation runs (x20): 'GP' Acquisition Function run number = 10\n",
        "\n",
        "np.random.seed(run_num_10)\n",
        "surrogate_gp_10 = GaussianProcess(cov_func, optimize=hyperOpt)\n",
        "\n",
        "gp_10 = GPGO_multi(surrogate_gp_10, Acquisition_new(util_gp), f_syn_polarity, param, n_jobs = -1) # define BayesOpt\n",
        "gp_10.run(max_iter = max_iter, init_evals = n_init) # run\n"
      ]
    },
    {
      "cell_type": "code",
      "execution_count": 22,
      "metadata": {
        "id": "Z6wmPCIEJLk2",
        "colab": {
          "base_uri": "https://localhost:8080/"
        },
        "outputId": "0b3a4fea-2189-42ca-dba1-4a6ffd2b812d"
      },
      "outputs": [
        {
          "output_type": "stream",
          "name": "stdout",
          "text": [
            "Evaluation \t Proposed point \t  Current eval. \t  Best eval. \t Min. ApproxAcqFunc \n",
            "init\t [-3.27403839 -4.92057353]\t 47.655641290890955\t 10.679755252484755\t    \n",
            "init\t [-0.37664229  2.30332343]\t 35.87889240695259\t 10.679755252484755\t    \n",
            "init\t [-0.81711509 -0.14922651]\t 10.679755252484755\t 10.679755252484755\t    \n",
            "init\t [-4.98912446 -0.12931474]\t 28.05462905574235\t 10.679755252484755\t    \n",
            "init\t [4.52410012 3.59214172]\t 71.62694632141611\t 10.679755252484755\t    \n",
            "1  \t [ 5.12       -4.34713938]\t 63.55383452768194\t 10.679755252484755\t -2.828427542478341\n",
            "2  \t [-5.12  5.12]\t 57.849427451571785\t 10.679755252484755\t -2.828408706311068\n",
            "3  \t [ 0.92186018 -5.12      ]\t 30.95576629288331\t 10.679755252484755\t -2.8214015789981515\n",
            "4  \t [ 3.12197445 -0.55934075]\t 32.168316208796796\t 10.679755252484755\t -2.82006077497771\n",
            "5  \t [1.20984341 5.12      ]\t 37.89200757370046\t 10.679755252484755\t -2.68660888652959\n",
            "6  \t [-1.9352775  5.12     ]\t 33.485555772071066\t 10.679755252484755\t -2.4127345621178162\n",
            "7  \t [-0.92968159 -2.63006109]\t 25.584467510846913\t 10.679755252484755\t -2.364436845352511\n",
            "8  \t [-5.12       -2.82041715]\t 42.59797237943512\t 10.679755252484755\t -1.9766965199253652\n",
            "9  \t [-3.48562888  2.2681329 ]\t 48.39015681624688\t 10.679755252484755\t -2.213851265695607\n",
            "10 \t [5.12       0.68067408]\t 43.60746308951906\t 10.679755252484755\t -1.381473906534943\n",
            "11 \t [ 2.18790817 -2.90219359]\t 21.23612999507565\t 10.679755252484755\t -1.3475427486118692\n",
            "12 \t [2.11343151 1.87958091]\t 13.16186315322982\t 10.679755252484755\t -0.9974674115399674\n",
            "13 \t [-2.70236578 -0.91489659]\t 22.484168092488677\t 10.679755252484755\t -0.60414999105492\n",
            "14 \t [ 0.74877755 -0.51689095]\t 30.848387870904602\t 10.679755252484755\t 0.05298445627521892\n",
            "15 \t [ 5.12       -1.82676967]\t 37.62310656407707\t 10.679755252484755\t 0.3795408168458092\n",
            "16 \t [-1.05438164 -5.12      ]\t 30.614536884990017\t 10.679755252484755\t 1.8614240944128861\n",
            "17 \t [ 2.90692327 -5.12      ]\t 39.03679278121126\t 10.679755252484755\t 1.8424861226091658\n",
            "18 \t [-5.12 -5.12]\t 57.849427451571785\t 10.679755252484755\t 2.7803585795604224\n",
            "19 \t [-1.69265157  0.55271128]\t 36.152942761213225\t 10.679755252484755\t 3.685825916530122\n",
            "20 \t [1.92768005 3.06208962]\t 14.85846411776021\t 10.679755252484755\t 3.70129780585539\n"
          ]
        }
      ],
      "source": [
        "### Bayesian optimisation runs (x20): 'GP' Acquisition Function run number = 11\n",
        "\n",
        "np.random.seed(run_num_11)\n",
        "surrogate_gp_11 = GaussianProcess(cov_func, optimize=hyperOpt)\n",
        "\n",
        "gp_11 = GPGO_multi(surrogate_gp_11, Acquisition_new(util_gp), f_syn_polarity, param, n_jobs = -1) # define BayesOpt\n",
        "gp_11.run(max_iter = max_iter, init_evals = n_init) # run\n"
      ]
    },
    {
      "cell_type": "code",
      "execution_count": 23,
      "metadata": {
        "id": "oNR6-n7iJLk3",
        "colab": {
          "base_uri": "https://localhost:8080/"
        },
        "outputId": "6ef5c3dc-8c83-40ce-c91f-f5561686b4ab"
      },
      "outputs": [
        {
          "output_type": "stream",
          "name": "stdout",
          "text": [
            "Evaluation \t Proposed point \t  Current eval. \t  Best eval. \t Min. ApproxAcqFunc \n",
            "init\t [-3.54137249  2.45810889]\t 57.903242869085595\t 40.51116653209555\t    \n",
            "init\t [-2.42365424  0.34549139]\t 40.51116653209555\t 40.51116653209555\t    \n",
            "init\t [-4.97075238  4.28796936]\t 55.62655915398208\t 40.51116653209555\t    \n",
            "init\t [ 4.10332011 -4.77776458]\t 49.962803461970296\t 40.51116653209555\t    \n",
            "init\t [ 4.6791612  -3.71497655]\t 62.183891474990624\t 40.51116653209555\t    \n",
            "1  \t [5.12 5.12]\t 57.849427451571785\t 40.51116653209555\t -2.828427542495286\n",
            "2  \t [-5.12 -5.12]\t 57.849427451571785\t 40.51116653209555\t -2.828427374995738\n",
            "\u001b[1m\u001b[92m3\u001b[0m\t \u001b[1m\u001b[92m[2.51293599 0.8321659 ]\u001b[0m\t \u001b[1m\u001b[92m32.03799244055274\u001b[0m\t \u001b[1m\u001b[92m32.03799244055274\u001b[0m\t \u001b[1m\u001b[92m-2.8281575030007544\u001b[0m\n",
            "4  \t [0.3325185 5.12     ]\t 43.99087835343842\t 32.03799244055274\t -2.827513243258542\n",
            "5  \t [-0.48614686 -4.11932417]\t 39.848624052935\t 32.03799244055274\t -2.8274674118619796\n",
            "6  \t [-5.12       -1.54446291]\t 50.92237649008112\t 32.03799244055274\t -2.6912627418503297\n",
            "7  \t [ 5.12       -0.37885245]\t 46.308382217401146\t 32.03799244055274\t -2.477915941516069\n",
            "\u001b[1m\u001b[92m8\u001b[0m\t \u001b[1m\u001b[92m[ 1.63829493 -1.9817489 ]\u001b[0m\t \u001b[1m\u001b[92m23.13343835194769\u001b[0m\t \u001b[1m\u001b[92m23.13343835194769\u001b[0m\t \u001b[1m\u001b[92m-2.3186882945183327\u001b[0m\n",
            "\u001b[1m\u001b[92m9\u001b[0m\t \u001b[1m\u001b[92m[-0.04374954  2.14296069]\u001b[0m\t \u001b[1m\u001b[92m8.739824517334046\u001b[0m\t \u001b[1m\u001b[92m8.739824517334046\u001b[0m\t \u001b[1m\u001b[92m-2.0447808286732156\u001b[0m\n",
            "10 \t [2.70826659 3.4916022 ]\t 52.10431734794149\t 8.739824517334046\t -1.5752256686476784\n",
            "11 \t [-2.63755339 -2.72178939]\t 42.620012010106194\t 8.739824517334046\t -1.2581321372180754\n",
            "12 \t [-2.28803807  5.12      ]\t 46.52714586955453\t 8.739824517334046\t -1.2383457155311715\n",
            "13 \t [5.12      2.2543154]\t 44.27776287047906\t 8.739824517334046\t -0.8043786802305938\n",
            "14 \t [ 0.0030275  -0.32758864]\t 14.793351969285407\t 8.739824517334046\t -0.692483826309393\n",
            "15 \t [ 1.66629796 -5.12      ]\t 46.72131188041368\t 8.739824517334046\t -0.5759541451307976\n",
            "16 \t [-2.54785904 -5.12      ]\t 54.96757190149779\t 8.739824517334046\t 0.7513265129429969\n",
            "17 \t [-5.12        0.84428586]\t 34.0538669241266\t 8.739824517334046\t 1.283689950285815\n",
            "18 \t [-0.83414446  2.72696493]\t 24.530351582340213\t 8.739824517334046\t 1.7315785929767762\n",
            "19 \t [0.473745   1.37134462]\t 38.876074239344504\t 8.739824517334046\t 2.841401182536305\n",
            "20 \t [-0.52409978 -1.61764542]\t 40.16718953399962\t 8.739824517334046\t 2.4916207711541483\n"
          ]
        }
      ],
      "source": [
        "### Bayesian optimisation runs (x20): 'GP' Acquisition Function run number = 12\n",
        "\n",
        "np.random.seed(run_num_12)\n",
        "surrogate_gp_12 = GaussianProcess(cov_func, optimize=hyperOpt)\n",
        "\n",
        "gp_12 = GPGO_multi(surrogate_gp_12, Acquisition_new(util_gp), f_syn_polarity, param, n_jobs = -1) # define BayesOpt\n",
        "gp_12.run(max_iter = max_iter, init_evals = n_init) # run\n"
      ]
    },
    {
      "cell_type": "code",
      "execution_count": 24,
      "metadata": {
        "id": "z1CyiX30JLk4",
        "colab": {
          "base_uri": "https://localhost:8080/"
        },
        "outputId": "a85631b2-ec14-41b7-a471-cf1c1bb89f13"
      },
      "outputs": [
        {
          "output_type": "stream",
          "name": "stdout",
          "text": [
            "Evaluation \t Proposed point \t  Current eval. \t  Best eval. \t Min. ApproxAcqFunc \n",
            "init\t [ 2.84367268 -2.68757791]\t 33.58019830007169\t 17.435826639425656\t    \n",
            "init\t [3.32061217 4.76927179]\t 56.857057997503354\t 17.435826639425656\t    \n",
            "init\t [ 4.83943541 -0.47667971]\t 48.211919361679726\t 17.435826639425656\t    \n",
            "init\t [1.11659482 2.82139151]\t 17.435826639425656\t 17.435826639425656\t    \n",
            "init\t [1.45012065 2.27346667]\t 38.25352329493884\t 17.435826639425656\t    \n",
            "1  \t [-5.12       -2.72629493]\t 47.841330509003726\t 17.435826639425656\t -2.8284275424949747\n",
            "2  \t [-5.12  5.12]\t 57.849427451571785\t 17.435826639425656\t -2.828427542115453\n",
            "3  \t [-1.07704963 -5.12      ]\t 31.23388738783966\t 17.435826639425656\t -2.8276459871402353\n",
            "\u001b[1m\u001b[92m4\u001b[0m\t \u001b[1m\u001b[92m[-2.85645557  1.12656888]\u001b[0m\t \u001b[1m\u001b[92m16.226396072359833\u001b[0m\t \u001b[1m\u001b[92m16.226396072359833\u001b[0m\t \u001b[1m\u001b[92m-2.82556505299702\u001b[0m\n",
            "5  \t [-1.15506839  5.12      ]\t 34.64161774316444\t 16.226396072359833\t -2.7994124190438257\n",
            "6  \t [-0.62077614 -1.40888851]\t 38.03219976889186\t 16.226396072359833\t -2.7661501256044163\n",
            "7  \t [ 5.12 -5.12]\t 57.849427451571785\t 16.226396072359833\t -2.7632114885995587\n",
            "8  \t [5.12       2.46277357]\t 54.717664880205014\t 16.226396072359833\t -2.106437282899655\n",
            "9  \t [-5.12        1.74059422]\t 42.545020680192\t 16.226396072359833\t -2.213702546174504\n",
            "10 \t [ 1.73842678 -5.12      ]\t 42.6733676437306\t 16.226396072359833\t -1.968016780442072\n",
            "11 \t [-3.90843577 -5.12      ]\t 45.81037442006965\t 16.226396072359833\t -1.8937571567412632\n",
            "12 \t [-1.25605932  2.43403258]\t 37.03606203869005\t 16.226396072359833\t -0.9373462837649548\n",
            "\u001b[1m\u001b[92m13\u001b[0m\t \u001b[1m\u001b[92m[ 1.8815397  -0.24382056]\u001b[0m\t \u001b[1m\u001b[92m15.855903365449135\u001b[0m\t \u001b[1m\u001b[92m15.855903365449135\u001b[0m\t \u001b[1m\u001b[92m-0.8735127383219712\u001b[0m\n",
            "14 \t [-3.23704573 -0.94638804]\t 21.123080838169745\t 15.855903365449135\t -0.6477245739007114\n",
            "15 \t [0.95696919 5.12      ]\t 30.20378383266293\t 15.855903365449135\t 0.9925975272927012\n",
            "16 \t [-2.30323091 -3.07818296]\t 29.24517592306934\t 15.855903365449135\t 1.0213112078846458\n",
            "17 \t [ 5.12       -2.74100463]\t 47.002715195450754\t 15.855903365449135\t 1.858726825632919\n",
            "18 \t [-3.20424185  3.62544965]\t 47.62648968801543\t 15.855903365449135\t 1.4569683519424987\n",
            "19 \t [-5.12       -0.42321541]\t 47.962425749885774\t 15.855903365449135\t 2.3106163871415255\n",
            "20 \t [ 0.51104155 -3.18096158]\t 36.15257681895001\t 15.855903365449135\t 2.5206997252131993\n"
          ]
        }
      ],
      "source": [
        "### Bayesian optimisation runs (x20): 'GP' Acquisition Function run number = 13\n",
        "\n",
        "np.random.seed(run_num_13)\n",
        "surrogate_gp_13 = GaussianProcess(cov_func, optimize=hyperOpt)\n",
        "\n",
        "gp_13 = GPGO_multi(surrogate_gp_13, Acquisition_new(util_gp), f_syn_polarity, param, n_jobs = -1) # define BayesOpt\n",
        "gp_13.run(max_iter = max_iter, init_evals = n_init) # run\n"
      ]
    },
    {
      "cell_type": "code",
      "execution_count": 25,
      "metadata": {
        "id": "Dx5l3xHMJLk5",
        "colab": {
          "base_uri": "https://localhost:8080/"
        },
        "outputId": "a4ce7b6b-1704-4fb2-99e4-42b5816732dc"
      },
      "outputs": [
        {
          "output_type": "stream",
          "name": "stdout",
          "text": [
            "Evaluation \t Proposed point \t  Current eval. \t  Best eval. \t Min. ApproxAcqFunc \n",
            "init\t [0.14277984 2.79721013]\t 18.683085263052178\t 10.423838604848608\t    \n",
            "init\t [ 3.7931795  -5.03759925]\t 47.36348784446708\t 10.423838604848608\t    \n",
            "init\t [-1.94830412  4.68586229]\t 40.19779334078636\t 10.423838604848608\t    \n",
            "init\t [ 0.13431513 -1.86076749]\t 10.423838604848608\t 10.423838604848608\t    \n",
            "init\t [ 0.40140736 -2.85434939]\t 30.353548735049138\t 10.423838604848608\t    \n",
            "1  \t [-5.12 -5.12]\t 57.849427451571785\t 10.423838604848608\t -2.828427263279313\n",
            "2  \t [5.12 5.12]\t 57.849427451571785\t 10.423838604848608\t -2.828424968093234\n",
            "3  \t [-5.12        0.35590471]\t 45.22526935390223\t 10.423838604848608\t -2.8284069798132525\n",
            "4  \t [ 5.12       -0.06380916]\t 29.721780470540683\t 10.423838604848608\t -2.828337823844115\n",
            "5  \t [-5.12  5.12]\t 57.849427451571785\t 10.423838604848608\t -2.7090378324015623\n",
            "6  \t [-1.64799576  0.04393574]\t 19.075705584853672\t 10.423838604848608\t -2.679544774064424\n",
            "7  \t [-1.6858663 -5.12     ]\t 45.68832451896165\t 10.423838604848608\t -2.618047570613976\n",
            "8  \t [1.91922917 0.23805235]\t 14.250490136091587\t 10.423838604848608\t -2.6019094063959542\n",
            "9  \t [1.7563874 5.12     ]\t 41.60838598888581\t 10.423838604848608\t -2.541409554031137\n",
            "10 \t [-3.36906592 -2.32569478]\t 48.14078935953187\t 10.423838604848608\t -2.3158627434938954\n",
            "11 \t [3.48324235 2.41614201]\t 56.55906359855628\t 10.423838604848608\t -2.1087087618546274\n",
            "12 \t [ 3.2870278 -2.138762 ]\t 31.250467052611356\t 10.423838604848608\t -1.8601183023320065\n",
            "13 \t [-3.14375872  2.28083987]\t 30.82056323247647\t 10.423838604848608\t -1.4284240884368182\n",
            "14 \t [ 1.13115042 -5.12      ]\t 33.411614309847685\t 10.423838604848608\t -0.82820184974867\n",
            "15 \t [ 5.12       -2.95375572]\t 38.068554635254756\t 10.423838604848608\t 0.5317293749717672\n",
            "16 \t [0.27303022 0.01372282]\t 11.553869517700242\t 10.423838604848608\t 0.8359707932158283\n",
            "17 \t [-1.09249995 -1.6180561 ]\t 22.826336772356512\t 10.423838604848608\t 3.364871417236116\n",
            "18 \t [-5.12        2.73204935]\t 47.51428997531478\t 10.423838604848608\t 2.0835654715945506\n",
            "19 \t [-0.91733343  1.60442166]\t 22.65831443424696\t 10.423838604848608\t 3.1028006914483277\n",
            "20 \t [-5.12       -2.31696941]\t 48.37779746932208\t 10.423838604848608\t 3.4610498767078033\n"
          ]
        }
      ],
      "source": [
        "### Bayesian optimisation runs (x20): 'GP' Acquisition Function run number = 14\n",
        "\n",
        "np.random.seed(run_num_14)\n",
        "surrogate_gp_14 = GaussianProcess(cov_func, optimize=hyperOpt)\n",
        "\n",
        "gp_14 = GPGO_multi(surrogate_gp_14, Acquisition_new(util_gp), f_syn_polarity, param, n_jobs = -1) # define BayesOpt\n",
        "gp_14.run(max_iter = max_iter, init_evals = n_init) # run\n"
      ]
    },
    {
      "cell_type": "code",
      "execution_count": 26,
      "metadata": {
        "id": "mNCLg6LHJLk6",
        "colab": {
          "base_uri": "https://localhost:8080/"
        },
        "outputId": "2f556983-16e9-400f-fdc4-a177a568a145"
      },
      "outputs": [
        {
          "output_type": "stream",
          "name": "stdout",
          "text": [
            "Evaluation \t Proposed point \t  Current eval. \t  Best eval. \t Min. ApproxAcqFunc \n",
            "init\t [ 3.57189322 -3.28810573]\t 54.938487770767075\t 7.990765314336182\t    \n",
            "init\t [-4.56332069 -1.41784631]\t 60.750198753157726\t 7.990765314336182\t    \n",
            "init\t [-2.29989449  0.3072023 ]\t 31.984997246800887\t 7.990765314336182\t    \n",
            "init\t [-1.9873903  -2.00218256]\t 7.990765314336182\t 7.990765314336182\t    \n",
            "init\t [-3.97576933 -2.5610341 ]\t 41.754957769694336\t 7.990765314336182\t    \n",
            "1  \t [4.73155427 5.12      ]\t 62.46870621802856\t 7.990765314336182\t -2.8284275424952776\n",
            "2  \t [-5.12  5.12]\t 57.849427451571785\t 7.990765314336182\t -2.828424789440095\n",
            "3  \t [-0.19785189  5.12      ]\t 35.74561055324304\t 7.990765314336182\t -2.8280876296747466\n",
            "4  \t [2.27419027 1.12956322]\t 21.096477545409282\t 7.990765314336182\t -2.826596616240908\n",
            "5  \t [-0.33194749 -5.12      ]\t 43.959305207167986\t 7.990765314336182\t -2.8208649170369235\n",
            "6  \t [5.12       0.03263138]\t 29.13522770914485\t 7.990765314336182\t -2.694162670567294\n",
            "7  \t [ 0.58854463 -1.57632092]\t 40.19517553983454\t 7.990765314336182\t -2.5487557745577596\n",
            "8  \t [-5.12 -5.12]\t 57.849427451571785\t 7.990765314336182\t -2.511795498492314\n",
            "9  \t [-5.12        1.87030571]\t 35.563296562973285\t 7.990765314336182\t -2.4904033578335905\n",
            "10 \t [-2.33920316  3.25587618]\t 41.7576564766739\t 7.990765314336182\t -2.06135396799461\n",
            "11 \t [2.11077718 3.6399853 ]\t 36.40591064321623\t 7.990765314336182\t -1.6376589587899408\n",
            "12 \t [ 5.12 -5.12]\t 57.849427451571785\t 7.990765314336182\t -1.281554031838225\n",
            "13 \t [5.12       2.41536653]\t 53.37782964385366\t 7.990765314336182\t -1.0670801982851656\n",
            "14 \t [-0.02932088  1.64640735]\t 18.939699677846182\t 7.990765314336182\t -0.9676645278081115\n",
            "15 \t [-2.63567505 -5.12      ]\t 52.45274011201272\t 7.990765314336182\t 0.27542654351369\n",
            "16 \t [ 2.03137342 -5.12      ]\t 33.24485477071303\t 7.990765314336182\t 0.2376154459743638\n",
            "17 \t [ 3.00191949 -0.80433441]\t 16.31119962644088\t 7.990765314336182\t 1.1988879626995292\n",
            "18 \t [-1.42776814 -2.72224944]\t 40.17163617846312\t 7.990765314336182\t 1.9228437241150964\n",
            "19 \t [ 5.12       -1.87955144]\t 35.187063214656284\t 7.990765314336182\t 2.799456386445094\n",
            "20 \t [-2.62669327  5.12      ]\t 52.8196703413562\t 7.990765314336182\t 2.839302919813866\n"
          ]
        }
      ],
      "source": [
        "### Bayesian optimisation runs (x20): 'GP' Acquisition Function run number = 15\n",
        "\n",
        "np.random.seed(run_num_15)\n",
        "surrogate_gp_15 = GaussianProcess(cov_func, optimize=hyperOpt)\n",
        "\n",
        "gp_15 = GPGO_multi(surrogate_gp_15, Acquisition_new(util_gp), f_syn_polarity, param, n_jobs = -1) # define BayesOpt\n",
        "gp_15.run(max_iter = max_iter, init_evals = n_init) # run\n"
      ]
    },
    {
      "cell_type": "code",
      "execution_count": 27,
      "metadata": {
        "id": "5xwjkr9RJLk6",
        "colab": {
          "base_uri": "https://localhost:8080/"
        },
        "outputId": "12162323-3927-49f5-eb89-4a59da63b493"
      },
      "outputs": [
        {
          "output_type": "stream",
          "name": "stdout",
          "text": [
            "Evaluation \t Proposed point \t  Current eval. \t  Best eval. \t Min. ApproxAcqFunc \n",
            "init\t [-2.83349935  0.23719262]\t 22.27210456874814\t 22.27210456874814\t    \n",
            "init\t [ 0.51918292 -4.65303603]\t 57.57021076017139\t 22.27210456874814\t    \n",
            "init\t [-1.42613673 -2.83565116]\t 33.89145899403749\t 22.27210456874814\t    \n",
            "init\t [ 1.9325559  -3.44339021]\t 35.85029586225333\t 22.27210456874814\t    \n",
            "init\t [-4.39987336  4.51595121]\t 77.78800881964571\t 22.27210456874814\t    \n",
            "1  \t [5.12 5.12]\t 57.849427451571785\t 22.27210456874814\t -2.8284275424952865\n",
            "2  \t [5.12      0.1335275]\t 32.260308492758796\t 22.27210456874814\t -2.828151623525968\n",
            "3  \t [0.53982672 3.5671514 ]\t 51.82753997718714\t 22.27210456874814\t -2.827913601496948\n",
            "4  \t [-5.12 -5.12]\t 57.849427451571785\t 22.27210456874814\t -2.827100392181415\n",
            "5  \t [ 5.12 -5.12]\t 57.849427451571785\t 22.27210456874814\t -2.8041581578689794\n",
            "\u001b[1m\u001b[92m6\u001b[0m\t \u001b[1m\u001b[92m[1.26304607 0.01625399]\u001b[0m\t \u001b[1m\u001b[92m12.466444552365216\u001b[0m\t \u001b[1m\u001b[92m12.466444552365216\u001b[0m\t \u001b[1m\u001b[92m-2.740952810150557\u001b[0m\n",
            "7  \t [-5.12       -1.65403629]\t 47.33136115421383\t 12.466444552365216\t -2.6121523571145002\n",
            "8  \t [3.3786423 2.4032987]\t 52.63234355315238\t 12.466444552365216\t -2.1280109352750576\n",
            "9  \t [-5.12       1.5031095]\t 51.18214338187713\t 12.466444552365216\t -1.985602307850154\n",
            "10 \t [ 5.12       -2.35340483]\t 50.51279676698896\t 12.466444552365216\t -1.4222800952922086\n",
            "11 \t [-1.58309615  5.12      ]\t 50.09860278187759\t 12.466444552365216\t -1.404723559442101\n",
            "12 \t [-0.67994004  1.01053501]\t 15.766600655310526\t 12.466444552365216\t -1.0145308536063673\n",
            "13 \t [-2.37083933 -5.12      ]\t 51.42941200106131\t 12.466444552365216\t -1.0138691532381527\n",
            "14 \t [2.42536726 5.12      ]\t 53.72763778346699\t 12.466444552365216\t -0.359732633052189\n",
            "15 \t [ 2.692957   -0.96446053]\t 21.9383576123531\t 12.466444552365216\t 0.02416154470888501\n",
            "16 \t [-2.269159    2.48000058]\t 42.42152736649006\t 12.466444552365216\t 0.1902758362880934\n",
            "\u001b[1m\u001b[92m17\u001b[0m\t \u001b[1m\u001b[92m[-0.07525956 -1.03451711]\u001b[0m\t \u001b[1m\u001b[92m2.407498779015066\u001b[0m\t \u001b[1m\u001b[92m2.407498779015066\u001b[0m\t \u001b[1m\u001b[92m0.6612417035973002\u001b[0m\n",
            "\u001b[1m\u001b[92m18\u001b[0m\t \u001b[1m\u001b[92m[-0.07495664 -1.0343631 ]\u001b[0m\t \u001b[1m\u001b[92m2.3964047808749402\u001b[0m\t \u001b[1m\u001b[92m2.3964047808749402\u001b[0m\t \u001b[1m\u001b[92m0.5033748085507562\u001b[0m\n",
            "\u001b[1m\u001b[92m19\u001b[0m\t \u001b[1m\u001b[92m[-0.07464848 -1.03421537]\u001b[0m\t \u001b[1m\u001b[92m2.3852999511105963\u001b[0m\t \u001b[1m\u001b[92m2.3852999511105963\u001b[0m\t \u001b[1m\u001b[92m0.45876244511970954\u001b[0m\n",
            "\u001b[1m\u001b[92m20\u001b[0m\t \u001b[1m\u001b[92m[-0.07445047 -1.03411903]\u001b[0m\t \u001b[1m\u001b[92m2.3781646496054094\u001b[0m\t \u001b[1m\u001b[92m2.3781646496054094\u001b[0m\t \u001b[1m\u001b[92m0.4366555884296338\u001b[0m\n"
          ]
        }
      ],
      "source": [
        "### Bayesian optimisation runs (x20): 'GP' Acquisition Function run number = 16\n",
        "\n",
        "np.random.seed(run_num_16)\n",
        "surrogate_gp_16 = GaussianProcess(cov_func, optimize=hyperOpt)\n",
        "\n",
        "gp_16 = GPGO_multi(surrogate_gp_16, Acquisition_new(util_gp), f_syn_polarity, param, n_jobs = -1) # define BayesOpt\n",
        "gp_16.run(max_iter = max_iter, init_evals = n_init) # run\n"
      ]
    },
    {
      "cell_type": "code",
      "execution_count": 28,
      "metadata": {
        "id": "zbpfP0FWJLk7",
        "colab": {
          "base_uri": "https://localhost:8080/"
        },
        "outputId": "cf0406a8-1000-4eb8-ffc6-b154cfcdb3ad"
      },
      "outputs": [
        {
          "output_type": "stream",
          "name": "stdout",
          "text": [
            "Evaluation \t Proposed point \t  Current eval. \t  Best eval. \t Min. ApproxAcqFunc \n",
            "init\t [-2.10263037  0.31320838]\t 20.395145364684023\t 20.395145364684023\t    \n",
            "init\t [-3.15882714 -4.42470033]\t 53.03732051200137\t 20.395145364684023\t    \n",
            "init\t [2.93873111 1.60085526]\t 29.989224812583537\t 20.395145364684023\t    \n",
            "init\t [1.40821398 0.77417363]\t 29.451989415882437\t 20.395145364684023\t    \n",
            "init\t [-4.71999574 -1.45598869]\t 55.89242173757483\t 20.395145364684023\t    \n",
            "1  \t [ 5.12 -5.12]\t 57.849427451571785\t 20.395145364684023\t -2.8284275419151017\n",
            "2  \t [-5.12        5.05215441]\t 54.98111307403464\t 20.395145364684023\t -2.8284261127589723\n",
            "3  \t [-0.25137026  5.12      ]\t 39.073995869691515\t 20.395145364684023\t -2.827779433759088\n",
            "4  \t [5.12 5.12]\t 57.849427451571785\t 20.395145364684023\t -2.8258504939175006\n",
            "5  \t [ 1.07732196 -3.51441394]\t 34.627860094854775\t 20.395145364684023\t -2.822639033389624\n",
            "6  \t [ 5.12       -1.25381068]\t 40.73616410606533\t 20.395145364684023\t -2.788581151430313\n",
            "7  \t [-5.12        1.80712864]\t 38.677515817615884\t 20.395145364684023\t -2.526105010034044\n",
            "8  \t [-2.31207178  3.10282963]\t 30.79079608617299\t 20.395145364684023\t -2.080196342246253\n",
            "\u001b[1m\u001b[92m9\u001b[0m\t \u001b[1m\u001b[92m[-1.18632448 -1.99003556]\u001b[0m\t \u001b[1m\u001b[92m11.492232984156503\u001b[0m\t \u001b[1m\u001b[92m11.492232984156503\u001b[0m\t \u001b[1m\u001b[92m-1.6985055441128858\u001b[0m\n",
            "10 \t [2.3252792 4.364287 ]\t 55.58890081979421\t 11.492232984156503\t -1.6023561060585598\n",
            "11 \t [5.12       2.01265757]\t 33.007112578455924\t 11.492232984156503\t -1.3275917613002464\n",
            "12 \t [-0.58837576 -5.12      ]\t 47.76842157179206\t 11.492232984156503\t -0.8437477162137342\n",
            "13 \t [ 2.51492382 -1.52785513]\t 48.46248449591026\t 11.492232984156503\t -0.7514829903685114\n",
            "14 \t [ 2.54730209 -5.12      ]\t 54.975040875123995\t 11.492232984156503\t -0.07717090338491202\n",
            "15 \t [-0.090195    2.36610221]\t 23.834774848536934\t 11.492232984156503\t 0.20306969396293345\n",
            "16 \t [-5.12 -5.12]\t 57.849427451571785\t 11.492232984156503\t 0.2059102407840683\n",
            "\u001b[1m\u001b[92m17\u001b[0m\t \u001b[1m\u001b[92m[-0.16623754 -0.82060485]\u001b[0m\t \u001b[1m\u001b[92m11.385546033950634\u001b[0m\t \u001b[1m\u001b[92m11.385546033950634\u001b[0m\t \u001b[1m\u001b[92m1.290515492654889\u001b[0m\n",
            "18 \t [-2.64918525  5.12      ]\t 51.86208700347983\t 11.385546033950634\t 1.3677315612705183\n",
            "19 \t [-2.26010617 -2.03557349]\t 20.13495807812124\t 11.385546033950634\t 2.8178708820185054\n",
            "20 \t [-0.15824012 -1.76910062]\t 16.50620712048823\t 11.385546033950634\t 4.59185391915346\n"
          ]
        }
      ],
      "source": [
        "### Bayesian optimisation runs (x20): 'GP' Acquisition Function run number = 17\n",
        "\n",
        "np.random.seed(run_num_17)\n",
        "surrogate_gp_17 = GaussianProcess(cov_func, optimize=hyperOpt)\n",
        "\n",
        "gp_17 = GPGO_multi(surrogate_gp_17, Acquisition_new(util_gp), f_syn_polarity, param, n_jobs = -1) # define BayesOpt\n",
        "gp_17.run(max_iter = max_iter, init_evals = n_init) # run\n"
      ]
    },
    {
      "cell_type": "code",
      "execution_count": 29,
      "metadata": {
        "id": "1d-1rDI5JLk8",
        "colab": {
          "base_uri": "https://localhost:8080/"
        },
        "outputId": "0b30b5fb-65e9-4a3e-e183-f282f98e1537"
      },
      "outputs": [
        {
          "output_type": "stream",
          "name": "stdout",
          "text": [
            "Evaluation \t Proposed point \t  Current eval. \t  Best eval. \t Min. ApproxAcqFunc \n",
            "init\t [1.53983224 0.05584255]\t 22.67190580753611\t 22.67190580753611\t    \n",
            "init\t [ 3.87687906 -3.25795609]\t 38.990099416711985\t 22.67190580753611\t    \n",
            "init\t [3.60686662 2.56139557]\t 56.66448698782129\t 22.67190580753611\t    \n",
            "init\t [1.70088108 4.99604939]\t 40.894059318256296\t 22.67190580753611\t    \n",
            "init\t [-2.48864335 -4.83014733]\t 54.6725749848372\t 22.67190580753611\t    \n",
            "1  \t [-5.12        2.24559818]\t 43.690885461729\t 22.67190580753611\t -2.828427542207818\n",
            "2  \t [-2.36016765  5.12      ]\t 50.87745777773364\t 22.67190580753611\t -2.815350332298441\n",
            "3  \t [-5.12       -1.78985182]\t 39.650403455944115\t 22.67190580753611\t -2.813639458166651\n",
            "\u001b[1m\u001b[92m4\u001b[0m\t \u001b[1m\u001b[92m[-1.90642429  0.2499123 ]\u001b[0m\t \u001b[1m\u001b[92m15.370624353456657\u001b[0m\t \u001b[1m\u001b[92m15.370624353456657\u001b[0m\t \u001b[1m\u001b[92m-2.7678525577882787\u001b[0m\n",
            "5  \t [ 1.04802742 -5.12      ]\t 30.474941600749574\t 15.370624353456657\t -2.7150218551039695\n",
            "6  \t [5.12 5.12]\t 57.849427451571785\t 15.370624353456657\t -2.4297476989432116\n",
            "7  \t [ 5.12       -0.35046544]\t 44.949026227152864\t 15.370624353456657\t -2.5513959277616296\n",
            "8  \t [-0.36284631 -2.26102031]\t 32.44675472887143\t 15.370624353456657\t -2.4022355087280194\n",
            "9  \t [-0.31633855  2.52820202]\t 40.38381311607049\t 15.370624353456657\t -2.3265229570111994\n",
            "10 \t [-5.12 -5.12]\t 57.849427451571785\t 15.370624353456657\t -1.9299493540690567\n",
            "11 \t [-5.12  5.12]\t 57.849427451571785\t 15.370624353456657\t -1.9141069746108377\n",
            "12 \t [ 5.12 -5.12]\t 57.849427451571785\t 15.370624353456657\t -1.2400927825225811\n",
            "13 \t [-2.72308537 -1.84182114]\t 27.036018331988746\t 15.370624353456657\t 0.09586138398437873\n",
            "14 \t [-2.74742682  2.20913976]\t 30.05110857018005\t 15.370624353456657\t 0.5300705526593024\n",
            "\u001b[1m\u001b[92m15\u001b[0m\t \u001b[1m\u001b[92m[ 1.95677093 -2.10096013]\u001b[0m\t \u001b[1m\u001b[92m10.555036703136544\u001b[0m\t \u001b[1m\u001b[92m10.555036703136544\u001b[0m\t \u001b[1m\u001b[92m0.8386350141437737\u001b[0m\n",
            "16 \t [-0.38158154  0.04435164]\t 17.890698284199836\t 10.555036703136544\t 3.0484267943925443\n",
            "17 \t [-3.99207941  0.17529393]\t 21.456365048591863\t 10.555036703136544\t 2.084107520006643\n",
            "18 \t [ 2.93275606 -1.04377034]\t 10.945667500374979\t 10.555036703136544\t 3.3099465511700945\n",
            "19 \t [-0.25563281  5.12      ]\t 39.343908105624024\t 10.555036703136544\t 3.5590322891214714\n",
            "20 \t [ 1.61607937 -3.1276145 ]\t 32.895814556855626\t 10.555036703136544\t 3.833724571880439\n"
          ]
        }
      ],
      "source": [
        "### Bayesian optimisation runs (x20): 'GP' Acquisition Function run number = 18\n",
        "\n",
        "np.random.seed(run_num_18)\n",
        "surrogate_gp_18 = GaussianProcess(cov_func, optimize=hyperOpt)\n",
        "\n",
        "gp_18 = GPGO_multi(surrogate_gp_18, Acquisition_new(util_gp), f_syn_polarity, param, n_jobs = -1) # define BayesOpt\n",
        "gp_18.run(max_iter = max_iter, init_evals = n_init) # run\n"
      ]
    },
    {
      "cell_type": "code",
      "execution_count": 30,
      "metadata": {
        "id": "E7485DWlJLk8",
        "colab": {
          "base_uri": "https://localhost:8080/"
        },
        "outputId": "43a31ab3-593b-4246-c8fa-ddd1cbecf14e"
      },
      "outputs": [
        {
          "output_type": "stream",
          "name": "stdout",
          "text": [
            "Evaluation \t Proposed point \t  Current eval. \t  Best eval. \t Min. ApproxAcqFunc \n",
            "init\t [-4.12125592  2.6751971 ]\t 41.43485596167127\t 25.867003842388073\t    \n",
            "init\t [-2.59135515 -3.70553152]\t 51.60126035043229\t 25.867003842388073\t    \n",
            "init\t [-1.72598719 -4.27008445]\t 43.97430127029199\t 25.867003842388073\t    \n",
            "init\t [1.76104531 3.13952049]\t 25.867003842388073\t 25.867003842388073\t    \n",
            "init\t [4.9432772  1.38916592]\t 44.66580306903559\t 25.867003842388073\t    \n",
            "1  \t [ 5.12 -5.12]\t 57.849427451571785\t 25.867003842388073\t -2.8284275279074014\n",
            "2  \t [ 1.77608312 -1.68645462]\t 28.25451058157081\t 25.867003842388073\t -2.825293374180551\n",
            "3  \t [5.12 5.12]\t 57.849427451571785\t 25.867003842388073\t -2.801109786574572\n",
            "4  \t [-1.28670496  5.12      ]\t 42.86617418211098\t 25.867003842388073\t -2.7921786578907124\n",
            "5  \t [-5.12       -0.97841061]\t 29.97386487053895\t 25.867003842388073\t -2.791317038656685\n",
            "\u001b[1m\u001b[92m6\u001b[0m\t \u001b[1m\u001b[92m[-1.20068857  0.35658462]\u001b[0m\t \u001b[1m\u001b[92m24.727248070084446\u001b[0m\t \u001b[1m\u001b[92m24.727248070084446\u001b[0m\t \u001b[1m\u001b[92m-2.7789303502560716\u001b[0m\n",
            "7  \t [ 1.54015712 -5.12      ]\t 50.98016950484907\t 24.727248070084446\t -2.6883172008752982\n",
            "8  \t [ 5.12      -1.8215143]\t 37.89893822505563\t 24.727248070084446\t -2.523878457512454\n",
            "9  \t [-5.12 -5.12]\t 57.849427451571785\t 24.727248070084446\t -2.472546448477917\n",
            "10 \t [-5.12  5.12]\t 57.849427451571785\t 24.727248070084446\t -2.1813242704430515\n",
            "\u001b[1m\u001b[92m11\u001b[0m\t \u001b[1m\u001b[92m[1.81567653 0.74331062]\u001b[0m\t \u001b[1m\u001b[92m20.258919538689153\u001b[0m\t \u001b[1m\u001b[92m20.258919538689153\u001b[0m\t \u001b[1m\u001b[92m-1.1037562510709098\u001b[0m\n",
            "12 \t [2.02943525 5.12      ]\t 33.21386144963282\t 20.258919538689153\t -0.7750898473076445\n",
            "13 \t [-0.86342471  2.59158375]\t 29.31279952920149\t 20.258919538689153\t -0.5957600717801567\n",
            "14 \t [-0.58608941 -1.85647351]\t 26.16040781199395\t 20.258919538689153\t -0.16074992987027914\n",
            "\u001b[1m\u001b[92m15\u001b[0m\t \u001b[1m\u001b[92m[-2.9854506  -0.74914585]\u001b[0m\t \u001b[1m\u001b[92m19.56955847045676\u001b[0m\t \u001b[1m\u001b[92m19.56955847045676\u001b[0m\t \u001b[1m\u001b[92m0.5784418375529687\u001b[0m\n",
            "16 \t [ 3.23981444 -3.27994227]\t 42.48512748964477\t 19.56955847045676\t 1.5938740321593936\n",
            "17 \t [-5.12       -2.81535858]\t 42.858811444427836\t 19.56955847045676\t 2.5875734224330147\n",
            "18 \t [-5.12        0.90341953]\t 31.52629877402233\t 19.56955847045676\t 2.163594442813759\n",
            "19 \t [ 3.38341233 -0.29190668]\t 41.57021083266608\t 19.56955847045676\t 3.1699561991708127\n",
            "20 \t [3.66602454 3.14374998]\t 42.16685921826371\t 19.56955847045676\t 3.2254050981460645\n"
          ]
        }
      ],
      "source": [
        "### Bayesian optimisation runs (x20): 'GP' Acquisition Function run number = 19\n",
        "\n",
        "np.random.seed(run_num_19)\n",
        "surrogate_gp_19 = GaussianProcess(cov_func, optimize=hyperOpt)\n",
        "\n",
        "gp_19 = GPGO_multi(surrogate_gp_19, Acquisition_new(util_gp), f_syn_polarity, param, n_jobs = -1) # define BayesOpt\n",
        "gp_19.run(max_iter = max_iter, init_evals = n_init) # run\n"
      ]
    },
    {
      "cell_type": "code",
      "execution_count": 31,
      "metadata": {
        "id": "v9oZm6NvJLk9",
        "colab": {
          "base_uri": "https://localhost:8080/"
        },
        "outputId": "b7ef0215-18d1-4814-a2ae-517b0b1e5332"
      },
      "outputs": [
        {
          "output_type": "stream",
          "name": "stdout",
          "text": [
            "Evaluation \t Proposed point \t  Current eval. \t  Best eval. \t Min. ApproxAcqFunc \n",
            "init\t [0.9024594  4.07258857]\t 20.24255447774017\t 17.388691338534382\t    \n",
            "init\t [4.00927467 3.23417577]\t 35.55852254546393\t 17.388691338534382\t    \n",
            "init\t [-4.75249064  1.96359764]\t 36.54582989269194\t 17.388691338534382\t    \n",
            "init\t [-1.24230715  0.18955208]\t 17.388691338534382\t 17.388691338534382\t    \n",
            "init\t [ 1.61742301 -3.13497377]\t 33.22932870179905\t 17.388691338534382\t    \n",
            "1  \t [-5.12 -5.12]\t 57.849427451571785\t 17.388691338534382\t -2.8284275383901307\n",
            "2  \t [ 5.12       -0.92646091]\t 30.83168173033041\t 17.388691338534382\t -2.823615897442364\n",
            "3  \t [ 5.12 -5.12]\t 57.849427451571785\t 17.388691338534382\t -2.8210659993343685\n",
            "4  \t [-2.7036951  5.12     ]\t 49.10323110115927\t 17.388691338534382\t -2.804305178253046\n",
            "5  \t [-1.34012059 -5.12      ]\t 46.085300639126075\t 17.388691338534382\t -2.776380862160336\n",
            "6  \t [-5.12       -1.49922863]\t 51.172282753539704\t 17.388691338534382\t -2.7436232244460483\n",
            "7  \t [1.91189668 0.46609483]\t 25.140002181521734\t 17.388691338534382\t -2.6605809201252977\n",
            "8  \t [-2.03100317 -2.261544  ]\t 20.153383364593328\t 17.388691338534382\t -2.0281135233500773\n",
            "9  \t [-1.34731645  2.54299694]\t 43.65999625120745\t 17.388691338534382\t -1.6426855678470342\n",
            "10 \t [-5.12  5.12]\t 57.849427451571785\t 17.388691338534382\t -1.3937377820963774\n",
            "11 \t [2.81193107 5.12      ]\t 43.03788602713277\t 17.388691338534382\t -0.44550965619174754\n",
            "12 \t [ 2.24351802 -5.12      ]\t 43.550924669915844\t 17.388691338534382\t -0.42466834484679544\n",
            "13 \t [5.12       1.32212482]\t 45.05093774566157\t 17.388691338534382\t -0.07745215085241691\n",
            "14 \t [5.12 5.12]\t 57.849427451571785\t 17.388691338534382\t 0.07392397814281217\n",
            "15 \t [ 0.18698439 -1.3076294 ]\t 21.43046571254178\t 17.388691338534382\t 0.2578196694629971\n",
            "16 \t [ 3.91016797 -2.66586535]\t 38.99086102540458\t 17.388691338534382\t 0.6482461398632654\n",
            "\u001b[1m\u001b[92m17\u001b[0m\t \u001b[1m\u001b[92m[-3.10512774  0.11565177]\u001b[0m\t \u001b[1m\u001b[92m14.284599263721532\u001b[0m\t \u001b[1m\u001b[92m14.284599263721532\u001b[0m\t \u001b[1m\u001b[92m0.7866559264943165\u001b[0m\n",
            "18 \t [-0.29023341  5.12      ]\t 41.5100500278196\t 14.284599263721532\t 1.6061615163419976\n",
            "19 \t [1.45144219 2.39074515]\t 45.09541430428222\t 14.284599263721532\t 1.3480068946964676\n",
            "20 \t [-3.35235212 -3.47141106]\t 59.12482817372698\t 14.284599263721532\t 2.178463753461568\n"
          ]
        }
      ],
      "source": [
        "### Bayesian optimisation runs (x20): 'GP' Acquisition Function run number = 20\n",
        "\n",
        "np.random.seed(run_num_20)\n",
        "surrogate_gp_20 = GaussianProcess(cov_func, optimize=hyperOpt)\n",
        "\n",
        "gp_20 = GPGO_multi(surrogate_gp_20, Acquisition_new(util_gp), f_syn_polarity, param, n_jobs = -1) # define BayesOpt\n",
        "gp_20.run(max_iter = max_iter, init_evals = n_init) # run\n"
      ]
    },
    {
      "cell_type": "code",
      "execution_count": 32,
      "metadata": {
        "id": "m3W7oEVSJLk9",
        "colab": {
          "base_uri": "https://localhost:8080/"
        },
        "outputId": "ea0ccf92-ac3c-42d4-b1c1-c6aff6a0cdc5"
      },
      "outputs": [
        {
          "output_type": "stream",
          "name": "stdout",
          "text": [
            "Evaluation \t Proposed point \t  Current eval. \t  Best eval. \t Min. ApproxAcqFunc \n",
            "init\t [-0.84969467  2.25612281]\t 20.33436270766351\t 19.908403246996286\t    \n",
            "init\t [-5.1188288  -2.02411446]\t 33.07414982069084\t 19.908403246996286\t    \n",
            "init\t [-3.61721968 -4.17445279]\t 53.347974723929894\t 19.908403246996286\t    \n",
            "init\t [-3.21269544 -1.58145816]\t 39.218472310354045\t 19.908403246996286\t    \n",
            "init\t [-1.05710106  0.39748336]\t 19.908403246996286\t 19.908403246996286\t    \n",
            "1  \t [ 5.12 -5.12]\t 57.849427451571785\t 19.908403246996286\t -44.450559508112164\n",
            "2  \t [5.12 5.12]\t 57.849427451571785\t 19.908403246996286\t -51.47568917458948\n",
            "3  \t [-5.12  5.12]\t 57.849427451571785\t 19.908403246996286\t -56.17085907324567\n",
            "4  \t [ 4.15398867 -0.00418463]\t 21.585819922930412\t 19.908403246996286\t -59.56728602474419\n",
            "5  \t [ 0.90467421 -3.67547192]\t 30.581711921814524\t 19.908403246996286\t -57.326104863862696\n",
            "6  \t [1.14470625 5.12      ]\t 34.09142251165735\t 19.908403246996286\t -56.162806832068775\n",
            "7  \t [-5.12        1.53260262]\t 51.06450305988291\t 19.908403246996286\t -55.47226732324973\n",
            "8  \t [2.373252   2.25107159]\t 37.75995913610297\t 19.908403246996286\t -56.63563304387197\n",
            "9  \t [-1.92595733  5.12      ]\t 33.6968136683108\t 19.908403246996286\t -56.308456574980106\n",
            "10 \t [ 1.44505266 -0.8582942 ]\t 25.94348104386143\t 19.908403246996286\t -55.406177634264054\n",
            "11 \t [ 5.12       -2.23566624]\t 43.02351756815055\t 19.908403246996286\t -54.051193464283536\n",
            "12 \t [5.12       2.21820522]\t 41.86068462096005\t 19.908403246996286\t -53.92959293114463\n",
            "13 \t [ 2.51232281 -5.12      ]\t 55.20652028526126\t 19.908403246996286\t -52.938345052312066\n",
            "14 \t [-1.05616711 -5.12      ]\t 30.656487936156147\t 19.908403246996286\t -55.21184641135786\n",
            "\u001b[1m\u001b[92m15\u001b[0m\t \u001b[1m\u001b[92m[-0.84032947 -2.11380124]\u001b[0m\t \u001b[1m\u001b[92m12.24786651356995\u001b[0m\t \u001b[1m\u001b[92m12.24786651356995\u001b[0m\t \u001b[1m\u001b[92m-53.07065231876069\u001b[0m\n",
            "16 \t [-2.97748166  2.83961332]\t 21.690987974557565\t 12.24786651356995\t -51.71500317658764\n",
            "17 \t [ 2.89922397 -2.64730738]\t 33.366198226374024\t 12.24786651356995\t -54.7284851663912\n",
            "18 \t [-3.07705818  0.63842434]\t 27.475468998419103\t 12.24786651356995\t -54.1035216566766\n",
            "19 \t [3.08298615 4.31072253]\t 43.13940921153356\t 12.24786651356995\t -52.38228169737619\n",
            "\u001b[1m\u001b[92m20\u001b[0m\t \u001b[1m\u001b[92m[0.78124474 1.03215549]\u001b[0m\t \u001b[1m\u001b[92m9.928514386555205\u001b[0m\t \u001b[1m\u001b[92m9.928514386555205\u001b[0m\t \u001b[1m\u001b[92m-53.85334348273779\u001b[0m\n"
          ]
        }
      ],
      "source": [
        "### Bayesian optimisation runs (x20): 'STP' Acquisition Function run number = 1 \n",
        "\n",
        "np.random.seed(run_num_1)\n",
        "surrogate_stp_1 = tStudentProcess(cov_func, nu = df, optimize=hyperOpt)\n",
        "\n",
        "stp_1 = GPGO_multi_STP(surrogate_stp_1, Acquisition_new(util_stp), f_syn_polarity, param, n_jobs = -1) # Define BayesOpt\n",
        "stp_1.run(max_iter = max_iter, init_evals = n_init) # run\n"
      ]
    },
    {
      "cell_type": "code",
      "execution_count": 33,
      "metadata": {
        "id": "FGw67C40JLk-",
        "colab": {
          "base_uri": "https://localhost:8080/"
        },
        "outputId": "16dc4d41-d480-4a7d-f7ea-b18a5b6cd885"
      },
      "outputs": [
        {
          "output_type": "stream",
          "name": "stdout",
          "text": [
            "Evaluation \t Proposed point \t  Current eval. \t  Best eval. \t Min. ApproxAcqFunc \n",
            "init\t [-0.6554122  -4.85451539]\t 43.490296251903594\t 18.964539418712707\t    \n",
            "init\t [ 0.50854377 -0.6622987 ]\t 35.91861667536101\t 18.964539418712707\t    \n",
            "init\t [-0.81543371 -1.73737143]\t 20.479562046739524\t 18.964539418712707\t    \n",
            "init\t [-3.02439799  1.2213347 ]\t 18.964539418712707\t 18.964539418712707\t    \n",
            "init\t [-2.05153614 -2.3876887 ]\t 28.041315668371354\t 18.964539418712707\t    \n",
            "1  \t [ 5.12 -5.12]\t 57.84942745157172\t 18.964539418712707\t -38.4118020600595\n",
            "2  \t [5.12 5.12]\t 57.849427451571785\t 18.964539418712707\t -47.12583776997637\n",
            "3  \t [-0.09419591  5.12      ]\t 30.634488623674912\t 18.964539418712707\t -52.72444751785257\n",
            "4  \t [5.12       0.07762288]\t 30.096698169933195\t 18.964539418712707\t -51.76393397520129\n",
            "5  \t [-5.12  5.12]\t 57.849427451571785\t 18.964539418712707\t -50.91850059735965\n",
            "6  \t [-5.12 -5.12]\t 57.849427451571785\t 18.964539418712707\t -54.45269175046897\n",
            "7  \t [2.34192628 2.4833265 ]\t 47.056766956107964\t 18.964539418712707\t -57.153246462624374\n",
            "8  \t [-5.12      -1.2350847]\t 39.51436346915195\t 18.964539418712707\t -57.86931572630152\n",
            "9  \t [ 2.61224856 -3.00052999]\t 33.44138866367177\t 18.964539418712707\t -57.54856272715013\n",
            "10 \t [-0.73112545  2.31164502]\t 30.838540715773178\t 18.964539418712707\t -56.23674981628849\n",
            "11 \t [-5.12        2.10363984]\t 35.39637361746586\t 18.964539418712707\t -55.247238032617794\n",
            "12 \t [-2.53238742  4.35801219]\t 61.47642634009905\t 18.964539418712707\t -54.10405259203012\n",
            "13 \t [ 5.12       -2.33553818]\t 49.49894320036714\t 18.964539418712707\t -55.859382923247175\n",
            "14 \t [2.37091957 5.12      ]\t 51.43344830268464\t 18.964539418712707\t -56.29551294098107\n",
            "15 \t [5.12       2.44116285]\t 54.20840285302664\t 18.964539418712707\t -56.82273468608922\n",
            "16 \t [ 2.00458787 -5.12      ]\t 32.94724076321623\t 18.964539418712707\t -57.488388710611154\n",
            "17 \t [ 2.83359512 -0.24195419]\t 22.568247650256573\t 18.964539418712707\t -56.3988737544141\n",
            "18 \t [-2.81169733 -5.12      ]\t 43.05016403524998\t 18.964539418712707\t -53.783642721531265\n",
            "\u001b[1m\u001b[92m19\u001b[0m\t \u001b[1m\u001b[92m[-2.08558156 -0.21753338]\u001b[0m\t \u001b[1m\u001b[92m13.782389694640782\u001b[0m\t \u001b[1m\u001b[92m13.782389694640782\u001b[0m\t \u001b[1m\u001b[92m-51.31652796860438\u001b[0m\n",
            "20 \t [-4.0348259 -2.9925205]\t 25.48449165065852\t 13.782389694640782\t -51.44777455550052\n"
          ]
        }
      ],
      "source": [
        "### Bayesian optimisation runs (x20): 'STP' Acquisition Function run number = 2 \n",
        "\n",
        "np.random.seed(run_num_2)\n",
        "surrogate_stp_2 = tStudentProcess(cov_func, nu = df, optimize=hyperOpt)\n",
        "\n",
        "stp_2 = GPGO_multi_STP(surrogate_stp_2, Acquisition_new(util_stp), f_syn_polarity, param, n_jobs = -1) # Define BayesOpt\n",
        "stp_2.run(max_iter = max_iter, init_evals = n_init) # run\n"
      ]
    },
    {
      "cell_type": "code",
      "execution_count": 34,
      "metadata": {
        "id": "oFLQAtDZJLk_",
        "colab": {
          "base_uri": "https://localhost:8080/"
        },
        "outputId": "0ee8bf0c-af65-47f6-ca3c-e0f18174320e"
      },
      "outputs": [
        {
          "output_type": "stream",
          "name": "stdout",
          "text": [
            "Evaluation \t Proposed point \t  Current eval. \t  Best eval. \t Min. ApproxAcqFunc \n",
            "init\t [0.52017052 2.1314337 ]\t 27.953858411008774\t 10.607662635789808\t    \n",
            "init\t [-2.14113547  0.11087468]\t 10.607662635789808\t 10.607662635789808\t    \n",
            "init\t [4.02377681 4.05804123]\t 33.42749829480097\t 10.607662635789808\t    \n",
            "init\t [-3.83400642 -2.99783293]\t 28.650953928965198\t 10.607662635789808\t    \n",
            "init\t [-4.59297584 -0.6061072 ]\t 57.6631355589384\t 10.607662635789808\t    \n",
            "1  \t [ 2.87042319 -1.98283743]\t 15.364229918613852\t 10.607662635789808\t -45.31832832213793\n",
            "2  \t [-5.12  5.12]\t 57.849427451571785\t 10.607662635789808\t -42.4415690706174\n",
            "3  \t [ 0.05051862 -5.12      ]\t 29.42682076779417\t 10.607662635789808\t -49.11809079809518\n",
            "4  \t [ 5.12 -5.12]\t 57.849427451571785\t 10.607662635789808\t -48.33892612907485\n",
            "5  \t [5.12       0.53408051]\t 48.981563193454164\t 10.607662635789808\t -52.61100377390788\n",
            "6  \t [-1.23927814  5.12      ]\t 39.78735920730639\t 10.607662635789808\t -54.31902878356357\n",
            "7  \t [-0.16408753 -1.82396987]\t 13.731972325765755\t 10.607662635789808\t -54.264925323053994\n",
            "8  \t [-3.19937533  2.51259367]\t 43.39036525107929\t 10.607662635789808\t -52.149122567927506\n",
            "9  \t [1.73922914 5.12      ]\t 42.625868540673025\t 10.607662635789808\t -53.46545044481095\n",
            "10 \t [-5.12 -5.12]\t 57.849427451571785\t 10.607662635789808\t -53.00944101189091\n",
            "11 \t [2.12192148 0.23317136]\t 16.295002587316798\t 10.607662635789808\t -54.25716789780675\n",
            "12 \t [ 5.12      -2.2886844]\t 46.56954037752749\t 10.607662635789808\t -52.74161054238178\n",
            "13 \t [ 2.39804894 -4.4319964 ]\t 62.51170457751307\t 10.607662635789808\t -53.20964479586258\n",
            "14 \t [-1.67091546 -3.57791583]\t 49.18589285401932\t 10.607662635789808\t -54.32264151232691\n",
            "15 \t [-0.26779259  0.04412481]\t 11.571140962223893\t 10.607662635789808\t -53.59776198136447\n",
            "16 \t [2.92215694 2.11211022]\t 16.552519340546347\t 10.607662635789808\t -52.20415844732167\n",
            "17 \t [-5.12        1.96890064]\t 32.99158855445926\t 10.607662635789808\t -50.80534048749821\n",
            "18 \t [ 1.31864346 -1.61141575]\t 36.16412537736968\t 10.607662635789808\t -48.00400474903108\n",
            "19 \t [-2.98443728 -5.12      ]\t 37.879349541754436\t 10.607662635789808\t -55.23929033827688\n",
            "20 \t [-3.27893786  5.12      ]\t 51.48436477813631\t 10.607662635789808\t -55.262011999946466\n"
          ]
        }
      ],
      "source": [
        "### Bayesian optimisation runs (x20): 'STP' Acquisition Function run number = 3 \n",
        "\n",
        "np.random.seed(run_num_3)\n",
        "surrogate_stp_3 = tStudentProcess(cov_func, nu = df, optimize=hyperOpt)\n",
        "\n",
        "stp_3 = GPGO_multi_STP(surrogate_stp_3, Acquisition_new(util_stp), f_syn_polarity, param, n_jobs = -1) # Define BayesOpt\n",
        "stp_3.run(max_iter = max_iter, init_evals = n_init) # run\n"
      ]
    },
    {
      "cell_type": "code",
      "execution_count": 35,
      "metadata": {
        "id": "zhFOxkF0JLk_",
        "colab": {
          "base_uri": "https://localhost:8080/"
        },
        "outputId": "19d0d442-4e2b-49e6-fd01-1e35bd51c367"
      },
      "outputs": [
        {
          "output_type": "stream",
          "name": "stdout",
          "text": [
            "Evaluation \t Proposed point \t  Current eval. \t  Best eval. \t Min. ApproxAcqFunc \n",
            "init\t [4.78238555 0.48365823]\t 51.03163809010808\t 14.323038259018315\t    \n",
            "init\t [4.84028785 2.19971578]\t 39.78645699016559\t 14.323038259018315\t    \n",
            "init\t [ 2.02474316 -2.90724357]\t 14.323038259018315\t 14.323038259018315\t    \n",
            "init\t [ 4.87705042 -5.05620219]\t 52.80627247106233\t 14.323038259018315\t    \n",
            "init\t [-2.52946061 -0.66773471]\t 41.61497868486559\t 14.323038259018315\t    \n",
            "1  \t [-5.12  5.12]\t 57.849427451571785\t 14.323038259018315\t -53.2285452855302\n",
            "2  \t [0.3607959 5.12     ]\t 45.46757940647943\t 14.323038259018315\t -58.17800890558504\n",
            "3  \t [-5.12 -5.12]\t 57.849427451571785\t 14.323038259018315\t -58.97811553906592\n",
            "4  \t [-0.95987336 -5.12      ]\t 30.162220836996056\t 14.323038259018315\t -61.919758036514146\n",
            "\u001b[1m\u001b[92m5\u001b[0m\t \u001b[1m\u001b[92m[0.85389125 1.14523604]\u001b[0m\t \u001b[1m\u001b[92m9.84947440608315\u001b[0m\t \u001b[1m\u001b[92m9.84947440608315\u001b[0m\t \u001b[1m\u001b[92m-60.247901728854536\u001b[0m\n",
            "6  \t [-5.12        1.50129258]\t 51.17826335228409\t 9.84947440608315\t -57.51763604780471\n",
            "7  \t [3.91255216 5.12      ]\t 45.704664675022826\t 9.84947440608315\t -58.78263050942222\n",
            "8  \t [-1.97970979  2.82644885]\t 17.368391081009126\t 9.84947440608315\t -59.15364580015647\n",
            "9  \t [-5.12       -1.96344569]\t 33.04243402202307\t 9.84947440608315\t -57.03936614286272\n",
            "10 \t [ 0.26248869 -1.3122155 ]\t 26.38500541774381\t 9.84947440608315\t -55.90294978141746\n",
            "11 \t [ 5.12       -2.25382179]\t 44.244533221211285\t 9.84947440608315\t -54.749846031857764\n",
            "12 \t [ 1.82238065 -5.12      ]\t 37.85312858216359\t 9.84947440608315\t -54.968776884201425\n",
            "13 \t [2.08150802 2.80992177]\t 19.834634038158672\t 9.84947440608315\t -54.26940230461673\n",
            "14 \t [-2.35919597  5.12      ]\t 50.82575262345813\t 9.84947440608315\t -52.94911892817283\n",
            "15 \t [-2.66058255 -3.36883449]\t 50.54697740846923\t 9.84947440608315\t -53.65571349339862\n",
            "16 \t [ 2.45207626 -0.49791909]\t 45.80981428936394\t 9.84947440608315\t -53.622231193092944\n",
            "17 \t [-0.8520534  1.2339935]\t 15.26297290213331\t 9.84947440608315\t -53.14364282305419\n",
            "18 \t [ 0.02465834 -3.25443367]\t 20.99026710095811\t 9.84947440608315\t -49.28555599951618\n",
            "19 \t [0.03370891 2.90906158]\t 10.27569438350619\t 9.84947440608315\t -49.71748240482916\n",
            "20 \t [-3.66039887  3.03955239]\t 38.28170190424695\t 9.84947440608315\t -46.09073998516004\n"
          ]
        }
      ],
      "source": [
        "### Bayesian optimisation runs (x20): 'STP' Acquisition Function run number = 4 \n",
        "\n",
        "np.random.seed(run_num_4)\n",
        "surrogate_stp_4 = tStudentProcess(cov_func, nu = df, optimize=hyperOpt)\n",
        "\n",
        "stp_4 = GPGO_multi_STP(surrogate_stp_4, Acquisition_new(util_stp), f_syn_polarity, param, n_jobs = -1) # Define BayesOpt\n",
        "stp_4.run(max_iter = max_iter, init_evals = n_init) # run\n"
      ]
    },
    {
      "cell_type": "code",
      "execution_count": 36,
      "metadata": {
        "id": "YdzaqIajJLlA",
        "colab": {
          "base_uri": "https://localhost:8080/"
        },
        "outputId": "06a64028-8a2b-4a8b-ac5d-ea8a9145cd8d"
      },
      "outputs": [
        {
          "output_type": "stream",
          "name": "stdout",
          "text": [
            "Evaluation \t Proposed point \t  Current eval. \t  Best eval. \t Min. ApproxAcqFunc \n",
            "init\t [-2.84678993  3.79629882]\t 33.93442008827236\t 7.8108627039749745\t    \n",
            "init\t [-3.00319585  4.2865757 ]\t 39.673876075575784\t 7.8108627039749745\t    \n",
            "init\t [-0.11866943  1.14425716]\t 7.8108627039749745\t 7.8108627039749745\t    \n",
            "init\t [2.72289645 0.1886002 ]\t 25.38160395721669\t 7.8108627039749745\t    \n",
            "init\t [-2.08076286 -3.19773462]\t 22.589982116319675\t 7.8108627039749745\t    \n",
            "1  \t [ 5.12       -4.97848079]\t 53.801253151210545\t 7.8108627039749745\t -32.30304170551322\n",
            "2  \t [5.12 5.12]\t 57.849427451571785\t 7.8108627039749745\t -41.490217088599\n",
            "3  \t [-5.12       -0.04629852]\t 29.34700223122324\t 7.8108627039749745\t -48.4020854465018\n",
            "4  \t [1.00368685 5.12      ]\t 29.934784030700698\t 7.8108627039749745\t -47.672969239726335\n",
            "5  \t [-5.12 -5.12]\t 57.849427451571785\t 7.8108627039749745\t -47.158798176619534\n",
            "6  \t [ 1.11218513 -5.12      ]\t 32.544776133431036\t 7.8108627039749745\t -51.27745661253817\n",
            "7  \t [ 5.12       -1.56661547]\t 50.515760215630756\t 7.8108627039749745\t -50.642203642063066\n",
            "8  \t [ 0.60241766 -1.88275053]\t 24.500712573688936\t 7.8108627039749745\t -52.31590599290433\n",
            "9  \t [5.12       1.88937726]\t 34.81432765606898\t 7.8108627039749745\t -51.2154884069041\n",
            "10 \t [-2.21855006 -0.0355644 ]\t 13.208635631216973\t 7.8108627039749745\t -50.84473021552765\n",
            "11 \t [2.20682619 2.79543575]\t 27.18880699543616\t 7.8108627039749745\t -48.866806874909855\n",
            "12 \t [-5.12        2.61743715]\t 53.17465898571157\t 7.8108627039749745\t -48.07937035185684\n",
            "13 \t [-5.12       -2.42181393]\t 53.607299735262096\t 7.8108627039749745\t -49.234026721701845\n",
            "14 \t [ 2.81565252 -3.10502484]\t 25.65941255633276\t 7.8108627039749745\t -50.44669326967497\n",
            "15 \t [-1.62749626 -5.12      ]\t 48.532754505514355\t 7.8108627039749745\t -49.447059940452334\n",
            "16 \t [-0.52828522  2.99508293]\t 29.096870079344914\t 7.8108627039749745\t -49.998787067472804\n",
            "17 \t [-5.12  5.12]\t 57.849427451571785\t 7.8108627039749745\t -49.19240508847167\n",
            "18 \t [-3.95568512  1.95657228]\t 20.230733029943437\t 7.8108627039749745\t -54.80039714255637\n",
            "19 \t [2.95737019 5.12      ]\t 38.02733341935456\t 7.8108627039749745\t -48.6272044384229\n",
            "20 \t [-0.51264395 -0.35115454]\t 36.2909577649517\t 7.8108627039749745\t -46.607989408359906\n"
          ]
        }
      ],
      "source": [
        "### Bayesian optimisation runs (x20): 'STP' Acquisition Function run number = 5 \n",
        "\n",
        "np.random.seed(run_num_5)\n",
        "surrogate_stp_5 = tStudentProcess(cov_func, nu = df, optimize=hyperOpt)\n",
        "\n",
        "stp_5 = GPGO_multi_STP(surrogate_stp_5, Acquisition_new(util_stp), f_syn_polarity, param, n_jobs = -1) # Define BayesOpt\n",
        "stp_5.run(max_iter = max_iter, init_evals = n_init) # run\n"
      ]
    },
    {
      "cell_type": "code",
      "execution_count": 37,
      "metadata": {
        "id": "_KSBbC1zJLlA",
        "colab": {
          "base_uri": "https://localhost:8080/"
        },
        "outputId": "6beaad11-a446-4a1f-a122-bf8192fd1860"
      },
      "outputs": [
        {
          "output_type": "stream",
          "name": "stdout",
          "text": [
            "Evaluation \t Proposed point \t  Current eval. \t  Best eval. \t Min. ApproxAcqFunc \n",
            "init\t [ 4.02288795 -1.72052679]\t 31.08835710146886\t 17.28954482757088\t    \n",
            "init\t [ 3.28938622 -4.69302655]\t 58.797867722203385\t 17.28954482757088\t    \n",
            "init\t [-4.0175956   0.97333314]\t 17.28954482757088\t 17.28954482757088\t    \n",
            "init\t [ 0.30532979 -0.83141193]\t 19.296253155889353\t 17.28954482757088\t    \n",
            "init\t [-1.68542362  1.25459899]\t 28.650630936276173\t 17.28954482757088\t    \n",
            "1  \t [5.12 5.12]\t 57.849427451571785\t 17.28954482757088\t -44.21137064653543\n",
            "2  \t [-5.12 -5.12]\t 57.849427451571785\t 17.28954482757088\t -51.29882250031592\n",
            "3  \t [-5.12  5.12]\t 57.849427451571785\t 17.28954482757088\t -56.02827204747954\n",
            "4  \t [0.39538041 5.12      ]\t 46.99721672330318\t 17.28954482757088\t -59.44706986846045\n",
            "5  \t [-0.9097504 -5.12     ]\t 31.317494004486775\t 17.28954482757088\t -60.17805036271764\n",
            "6  \t [2.84236804 1.91263188]\t 17.72319232801495\t 17.28954482757088\t -58.87890223390179\n",
            "7  \t [-3.01032946 -2.17537436]\t 19.2964564741186\t 17.28954482757088\t -56.73941985974316\n",
            "8  \t [5.12       1.09597214]\t 31.889549641105972\t 17.28954482757088\t -54.49095183556435\n",
            "9  \t [-2.34797685  4.04327466]\t 38.0029881023811\t 17.28954482757088\t -53.53951976906177\n",
            "10 \t [-5.12       -1.33599969]\t 45.853987340876174\t 17.28954482757088\t -53.20597144934323\n",
            "\u001b[1m\u001b[92m11\u001b[0m\t \u001b[1m\u001b[92m[ 0.85119763 -3.10796934]\u001b[0m\t \u001b[1m\u001b[92m16.65961503546593\u001b[0m\t \u001b[1m\u001b[92m16.65961503546593\u001b[0m\t \u001b[1m\u001b[92m-53.3699115134344\u001b[0m\n",
            "12 \t [0.61723375 2.2337479 ]\t 31.758791017367237\t 16.65961503546593\t -51.725094126355486\n",
            "13 \t [2.7087498  4.36313298]\t 55.46183226093264\t 16.65961503546593\t -53.42220282638181\n",
            "14 \t [-5.12        2.50240701]\t 55.185610944431886\t 16.65961503546593\t -51.715043001011814\n",
            "15 \t [ 2.30374335 -0.13868368]\t 22.20170366271276\t 16.65961503546593\t -52.212349303549445\n",
            "16 \t [-1.14658223 -2.54472135]\t 31.347848059089493\t 16.65961503546593\t -50.61041694376215\n",
            "17 \t [ 5.12       -3.49427779]\t 61.128228387760984\t 16.65961503546593\t -49.32557022385308\n",
            "18 \t [-2.90501558 -4.40141649]\t 47.68238897899403\t 16.65961503546593\t -50.456179726376824\n",
            "19 \t [ 1.14136297 -5.12      ]\t 33.919401376962654\t 16.65961503546593\t -56.49049669301268\n",
            "20 \t [4.48833376 3.15558643]\t 54.485691638149255\t 16.65961503546593\t -56.881104916697794\n"
          ]
        }
      ],
      "source": [
        "### Bayesian optimisation runs (x20): 'STP' Acquisition Function run number = 6 \n",
        "\n",
        "np.random.seed(run_num_6)\n",
        "surrogate_stp_6 = tStudentProcess(cov_func, nu = df, optimize=hyperOpt)\n",
        "\n",
        "stp_6 = GPGO_multi_STP(surrogate_stp_6, Acquisition_new(util_stp), f_syn_polarity, param, n_jobs = -1) # Define BayesOpt\n",
        "stp_6.run(max_iter = max_iter, init_evals = n_init) # run\n"
      ]
    },
    {
      "cell_type": "code",
      "execution_count": 38,
      "metadata": {
        "id": "WB64BgXFJLlB",
        "colab": {
          "base_uri": "https://localhost:8080/"
        },
        "outputId": "218cd5e1-319c-4846-817d-5990542724ef"
      },
      "outputs": [
        {
          "output_type": "stream",
          "name": "stdout",
          "text": [
            "Evaluation \t Proposed point \t  Current eval. \t  Best eval. \t Min. ApproxAcqFunc \n",
            "init\t [-4.33860312  2.86636843]\t 45.646133072936244\t 22.52235437888213\t    \n",
            "init\t [-0.63068947  2.28828342]\t 34.83012662845338\t 22.52235437888213\t    \n",
            "init\t [4.8946126  0.39419771]\t 44.09657005662876\t 22.52235437888213\t    \n",
            "init\t [ 0.01147355 -4.38219639]\t 36.613209822404315\t 22.52235437888213\t    \n",
            "init\t [-2.37118484e+00 -1.20319155e-03]\t 22.52235437888213\t 22.52235437888213\t    \n",
            "1  \t [-5.12 -5.12]\t 57.849427451571785\t 22.52235437888213\t -48.56874552125359\n",
            "2  \t [ 5.12 -5.12]\t 57.849427451571785\t 22.52235437888213\t -54.571883605023864\n",
            "3  \t [3.59603238 5.12      ]\t 60.09033426366773\t 22.52235437888213\t -58.672395465221385\n",
            "4  \t [-4.02558214 -1.33646422]\t 33.289738493146906\t 22.52235437888213\t -62.17709344774424\n",
            "\u001b[1m\u001b[92m5\u001b[0m\t \u001b[1m\u001b[92m[ 1.40596869 -0.96118939]\u001b[0m\t \u001b[1m\u001b[92m21.501350483869494\u001b[0m\t \u001b[1m\u001b[92m21.501350483869494\u001b[0m\t \u001b[1m\u001b[92m-60.631464181465354\u001b[0m\n",
            "6  \t [-1.80991427  5.12      ]\t 38.524266469359624\t 21.501350483869494\t -58.35045253217971\n",
            "7  \t [2.3391598  2.13333383]\t 28.645118974584662\t 21.501350483869494\t -57.61560507695503\n",
            "8  \t [ 3.59456594 -2.53492235]\t 57.3930707889177\t 21.501350483869494\t -56.26884624611222\n",
            "9  \t [-2.52740149 -3.6385694 ]\t 55.92234189412284\t 21.501350483869494\t -57.68135140942924\n",
            "10 \t [-5.12  5.12]\t 57.849427451571785\t 21.501350483869494\t -58.93120230514925\n",
            "11 \t [0.80978253 5.12      ]\t 35.91192361151384\t 21.501350483869494\t -60.3518035923957\n",
            "12 \t [ 2.33171053 -5.12      ]\t 49.27302642026112\t 21.501350483869494\t -59.083768265283226\n",
            "13 \t [5.12       2.99455729]\t 37.89793388857867\t 21.501350483869494\t -59.49238975343775\n",
            "14 \t [-0.66499135 -1.57330748]\t 36.96623180175005\t 21.501350483869494\t -58.19421786423776\n",
            "15 \t [-5.12        0.59708752]\t 47.47759913178294\t 21.501350483869494\t -57.51937912460618\n",
            "16 \t [-5.12       -3.01490185]\t 38.05814872747379\t 21.501350483869494\t -61.56128299533073\n",
            "17 \t [-2.53095209  1.91512818]\t 31.273404671400503\t 21.501350483869494\t -50.78967039546434\n",
            "18 \t [ 1.49396676 -2.97730659]\t 31.19059001502565\t 21.501350483869494\t -60.587140181170525\n",
            "19 \t [0.63708359 0.65886723]\t 32.772560887266074\t 21.501350483869494\t -52.20229386835242\n",
            "\u001b[1m\u001b[92m20\u001b[0m\t \u001b[1m\u001b[92m[2.91933885 0.01864862]\u001b[0m\t \u001b[1m\u001b[92m9.848477187079435\u001b[0m\t \u001b[1m\u001b[92m9.848477187079435\u001b[0m\t \u001b[1m\u001b[92m-57.47436819372035\u001b[0m\n"
          ]
        }
      ],
      "source": [
        "### Bayesian optimisation runs (x20): 'STP' Acquisition Function run number = 7 \n",
        "\n",
        "np.random.seed(run_num_7)\n",
        "surrogate_stp_7 = tStudentProcess(cov_func, nu = df, optimize=hyperOpt)\n",
        "\n",
        "stp_7 = GPGO_multi_STP(surrogate_stp_7, Acquisition_new(util_stp), f_syn_polarity, param, n_jobs = -1) # Define BayesOpt\n",
        "stp_7.run(max_iter = max_iter, init_evals = n_init) # run\n"
      ]
    },
    {
      "cell_type": "code",
      "execution_count": 39,
      "metadata": {
        "id": "yCh1YYTlJLlB",
        "colab": {
          "base_uri": "https://localhost:8080/"
        },
        "outputId": "60ac5df7-76e2-446c-ce21-141c88ade15b"
      },
      "outputs": [
        {
          "output_type": "stream",
          "name": "stdout",
          "text": [
            "Evaluation \t Proposed point \t  Current eval. \t  Best eval. \t Min. ApproxAcqFunc \n",
            "init\t [3.82391708 4.79785639]\t 50.20079446939181\t 13.871821018360485\t    \n",
            "init\t [3.78055209 0.31596228]\t 36.5114251593508\t 13.871821018360485\t    \n",
            "init\t [-2.73686192 -5.00327624]\t 43.34985765011677\t 13.871821018360485\t    \n",
            "init\t [-0.7119993  -0.99992207]\t 13.871821018360485\t 13.871821018360485\t    \n",
            "init\t [ 0.23218863 -0.22126801]\t 17.190590355445654\t 13.871821018360485\t    \n",
            "1  \t [-5.12  5.12]\t 57.849427451571785\t 13.871821018360485\t -45.213729406346054\n",
            "2  \t [ 5.12 -5.12]\t 57.849427451571785\t 13.871821018360485\t -52.0422884000765\n",
            "3  \t [-5.12       -0.06190494]\t 29.67550729067958\t 13.871821018360485\t -56.625613747645595\n",
            "4  \t [-0.66935482  4.17622466]\t 38.27069865817959\t 13.871821018360485\t -55.18762858304038\n",
            "5  \t [ 1.18398445 -4.40989908]\t 45.25895047511262\t 13.871821018360485\t -55.06231592747949\n",
            "6  \t [-2.62545721  1.70447267]\t 39.67069091812564\t 13.871821018360485\t -55.63272875310423\n",
            "7  \t [1.63125212 2.3475417 ]\t 40.712040972214986\t 13.871821018360485\t -55.22053009082341\n",
            "8  \t [-5.12      -3.1295869]\t 41.854658750989\t 13.871821018360485\t -55.623503827283486\n",
            "9  \t [ 5.12     -2.113562]\t 35.83130356581555\t 13.871821018360485\t -55.46944120558742\n",
            "10 \t [-2.65916619 -1.84143212]\t 30.430440385903626\t 13.871821018360485\t -54.339000803872935\n",
            "11 \t [5.12       2.45359042]\t 54.52267103901176\t 13.871821018360485\t -53.468577111045676\n",
            "12 \t [ 2.14869467 -1.87279318]\t 15.207891413681324\t 13.871821018360485\t -54.77895363710089\n",
            "13 \t [-5.12        2.43989264]\t 54.173069198151516\t 13.871821018360485\t -52.81930458019833\n",
            "14 \t [-2.65795745  5.12      ]\t 51.45563414970343\t 13.871821018360485\t -52.869662710956916\n",
            "15 \t [-0.76824142 -3.12904595]\t 22.348443117417723\t 13.871821018360485\t -52.98547493378702\n",
            "16 \t [1.37980606 5.12      ]\t 48.10991775639151\t 13.871821018360485\t -52.63439805498726\n",
            "17 \t [-5.12 -5.12]\t 57.849427451571785\t 13.871821018360485\t -51.85450460381263\n",
            "18 \t [ 3.27258619 -3.49042121]\t 54.28912792619425\t 13.871821018360485\t -51.62985017454318\n",
            "19 \t [-0.48560007  1.57053292]\t 41.69544096754378\t 13.871821018360485\t -50.72634657528797\n",
            "20 \t [-0.69621305 -5.12      ]\t 42.72499557662639\t 13.871821018360485\t -50.408693539147734\n"
          ]
        }
      ],
      "source": [
        "### Bayesian optimisation runs (x20): 'STP' Acquisition Function run number = 8 \n",
        "\n",
        "np.random.seed(run_num_8)\n",
        "surrogate_stp_8 = tStudentProcess(cov_func, nu = df, optimize=hyperOpt)\n",
        "\n",
        "stp_8 = GPGO_multi_STP(surrogate_stp_8, Acquisition_new(util_stp), f_syn_polarity, param, n_jobs = -1) # Define BayesOpt\n",
        "stp_8.run(max_iter = max_iter, init_evals = n_init) # run\n"
      ]
    },
    {
      "cell_type": "code",
      "execution_count": 40,
      "metadata": {
        "id": "IDhy8DkEJLlC",
        "colab": {
          "base_uri": "https://localhost:8080/"
        },
        "outputId": "848d7634-3708-41c5-9739-96ef8e6df6fd"
      },
      "outputs": [
        {
          "output_type": "stream",
          "name": "stdout",
          "text": [
            "Evaluation \t Proposed point \t  Current eval. \t  Best eval. \t Min. ApproxAcqFunc \n",
            "init\t [-5.01376866  0.01919582]\t 25.248289026162446\t 24.454800313488693\t    \n",
            "init\t [-0.04328148 -3.74958562]\t 24.454800313488693\t 24.454800313488693\t    \n",
            "init\t [-3.66478248 -2.88195916]\t 39.46509426509438\t 24.454800313488693\t    \n",
            "init\t [-0.83447623 -2.57944404]\t 31.06766397812992\t 24.454800313488693\t    \n",
            "init\t [-4.25922917 -1.58209393]\t 49.922543556206975\t 24.454800313488693\t    \n",
            "1  \t [3.11029524 4.9495987 ]\t 36.97642606974743\t 24.454800313488693\t -41.60640967414756\n",
            "2  \t [ 5.12       -0.39978514]\t 47.16676930575942\t 24.454800313488693\t -43.294788882386264\n",
            "3  \t [-2.77811162  5.12      ]\t 44.88548280498403\t 24.454800313488693\t -46.86480335325296\n",
            "4  \t [ 5.12 -5.12]\t 57.849427451571785\t 24.454800313488693\t -48.98932490032508\n",
            "5  \t [0.19893994 1.60710878]\t 27.288579031502447\t 24.454800313488693\t -53.188256469166554\n",
            "6  \t [-5.12        3.02917437]\t 38.268150197700685\t 24.454800313488693\t -51.75789792972365\n",
            "7  \t [ 2.65837685 -2.49645597]\t 48.74087793551432\t 24.454800313488693\t -51.85878291338956\n",
            "8  \t [5.12       2.76590417]\t 45.57731335612167\t 24.454800313488693\t -53.22337796717261\n",
            "9  \t [-5.12 -5.12]\t 57.849427451571785\t 24.454800313488693\t -53.92763326670837\n",
            "10 \t [0.2062542 5.12     ]\t 36.25310391459834\t 24.454800313488693\t -56.027596400015724\n",
            "11 \t [-2.50024996  1.37691272]\t 45.30266113365535\t 24.454800313488693\t -55.46055306952725\n",
            "12 \t [2.60762887 0.95088098]\t 25.975617092955794\t 24.454800313488693\t -55.38184289132783\n",
            "13 \t [ 1.97956053 -5.12      ]\t 32.925725212247876\t 24.454800313488693\t -54.322434980157155\n",
            "14 \t [-2.05101552 -5.12      ]\t 33.640724084525075\t 24.454800313488693\t -53.773977028305914\n",
            "15 \t [ 0.49325914 -0.67918566]\t 34.99966344184601\t 24.454800313488693\t -51.901628531745644\n",
            "16 \t [-5.12  5.12]\t 57.849427451571785\t 24.454800313488693\t -50.63899415242029\n",
            "17 \t [5.12 5.12]\t 57.849427451571785\t 24.454800313488693\t -51.600608209028046\n",
            "\u001b[1m\u001b[92m18\u001b[0m\t \u001b[1m\u001b[92m[1.84788513 3.09612348]\u001b[0m\t \u001b[1m\u001b[92m18.999904297327173\u001b[0m\t \u001b[1m\u001b[92m18.999904297327173\u001b[0m\t \u001b[1m\u001b[92m-53.58773470583668\u001b[0m\n",
            "19 \t [ 5.12      -2.7248992]\t 47.920389115035896\t 18.999904297327173\t -51.197977671929365\n",
            "20 \t [-1.21380242  3.341474  ]\t 35.82019402511221\t 18.999904297327173\t -54.209812532011306\n"
          ]
        }
      ],
      "source": [
        "### Bayesian optimisation runs (x20): 'STP' Acquisition Function run number = 9 \n",
        "\n",
        "np.random.seed(run_num_9)\n",
        "surrogate_stp_9 = tStudentProcess(cov_func, nu = df, optimize=hyperOpt)\n",
        "\n",
        "stp_9 = GPGO_multi_STP(surrogate_stp_9, Acquisition_new(util_stp), f_syn_polarity, param, n_jobs = -1) # Define BayesOpt\n",
        "stp_9.run(max_iter = max_iter, init_evals = n_init) # run\n"
      ]
    },
    {
      "cell_type": "code",
      "execution_count": 41,
      "metadata": {
        "id": "RqwHOur5JLlC",
        "colab": {
          "base_uri": "https://localhost:8080/"
        },
        "outputId": "8d46ddcf-7d1e-4d0c-c723-6018c8d48c9d"
      },
      "outputs": [
        {
          "output_type": "stream",
          "name": "stdout",
          "text": [
            "Evaluation \t Proposed point \t  Current eval. \t  Best eval. \t Min. ApproxAcqFunc \n",
            "init\t [ 2.77832339 -4.90750004]\t 41.674330194390116\t 13.839458310244165\t    \n",
            "init\t [1.36855793 2.54775176]\t 44.69639719065837\t 13.839458310244165\t    \n",
            "init\t [-0.01528819 -2.81808235]\t 13.839458310244165\t 13.839458310244165\t    \n",
            "init\t [-3.09183626  2.66783449]\t 33.23221510904937\t 13.839458310244165\t    \n",
            "init\t [-3.38830503 -4.2154003 ]\t 54.73014366983691\t 13.839458310244165\t    \n",
            "1  \t [ 5.12       -0.56815136]\t 48.344624407648034\t 13.839458310244165\t -51.72811281037141\n",
            "2  \t [5.12 5.12]\t 57.849427451571785\t 13.839458310244165\t -54.41737486801092\n",
            "3  \t [-5.12       -0.60623269]\t 47.146074464127295\t 13.839458310244165\t -58.52819618995805\n",
            "4  \t [-5.12  5.12]\t 57.849427451571785\t 13.839458310244165\t -59.39644103244489\n",
            "5  \t [-0.83763993  5.12      ]\t 34.39387437194101\t 13.839458310244165\t -61.93570090656107\n",
            "\u001b[1m\u001b[92m6\u001b[0m\t \u001b[1m\u001b[92m[-1.23209374 -0.10117884]\u001b[0m\t \u001b[1m\u001b[92m12.359168649545085\u001b[0m\t \u001b[1m\u001b[92m12.359168649545085\u001b[0m\t \u001b[1m\u001b[92m-60.781429038170515\u001b[0m\n",
            "7  \t [ 1.89965071 -0.78384697]\t 14.035164925599757\t 12.359168649545085\t -58.19007860400237\n",
            "8  \t [-0.39330444 -5.12      ]\t 46.91520903518648\t 12.359168649545085\t -55.71876649140567\n",
            "9  \t [ 5.12       -3.59485613]\t 60.12358766697811\t 12.359168649545085\t -56.38309590114351\n",
            "10 \t [4.52973702 2.23225234]\t 54.214614375613934\t 12.359168649545085\t -58.4313275608451\n",
            "11 \t [2.14306089 5.12      ]\t 37.29253959940772\t 12.359168649545085\t -59.303974955128254\n",
            "12 \t [-2.46867712 -1.69241505]\t 42.30533490655374\t 12.359168649545085\t -57.73477192694351\n",
            "\u001b[1m\u001b[92m13\u001b[0m\t \u001b[1m\u001b[92m[-0.92822308  1.8059185 ]\u001b[0m\t \u001b[1m\u001b[92m11.681147591547603\u001b[0m\t \u001b[1m\u001b[92m11.681147591547603\u001b[0m\t \u001b[1m\u001b[92m-56.4608013263794\u001b[0m\n",
            "14 \t [-5.12        2.03084322]\t 33.23623090716349\t 11.681147591547603\t -55.519856304081756\n",
            "15 \t [ 2.37697527 -2.54041681]\t 48.94129445271901\t 11.681147591547603\t -54.06296516768478\n",
            "16 \t [-5.12 -5.12]\t 57.849427451571785\t 11.681147591547603\t -53.82781182310465\n",
            "17 \t [0.48909255 0.129086  ]\t 23.34517823908491\t 11.681147591547603\t -54.581302169760605\n",
            "18 \t [2.84208906 0.52752492]\t 32.73794756320001\t 11.681147591547603\t -49.14000117505025\n",
            "19 \t [-3.16341249  0.51786811]\t 35.03639587177025\t 11.681147591547603\t -58.50211573072937\n",
            "20 \t [-2.83107339  5.12      ]\t 42.06316273550071\t 11.681147591547603\t -51.41158800382308\n"
          ]
        }
      ],
      "source": [
        "### Bayesian optimisation runs (x20): 'STP' Acquisition Function run number = 10 \n",
        "\n",
        "np.random.seed(run_num_10)\n",
        "surrogate_stp_10 = tStudentProcess(cov_func, nu = df, optimize=hyperOpt)\n",
        "\n",
        "stp_10 = GPGO_multi_STP(surrogate_stp_10, Acquisition_new(util_stp), f_syn_polarity, param, n_jobs = -1) # Define BayesOpt\n",
        "stp_10.run(max_iter = max_iter, init_evals = n_init) # run\n"
      ]
    },
    {
      "cell_type": "code",
      "execution_count": 42,
      "metadata": {
        "id": "iXLW3-5DJLlD",
        "colab": {
          "base_uri": "https://localhost:8080/"
        },
        "outputId": "32eb1bcf-1c7a-4e01-b578-0ee2e61df9c0"
      },
      "outputs": [
        {
          "output_type": "stream",
          "name": "stdout",
          "text": [
            "Evaluation \t Proposed point \t  Current eval. \t  Best eval. \t Min. ApproxAcqFunc \n",
            "init\t [-3.27403839 -4.92057353]\t 47.655641290890955\t 10.679755252484755\t    \n",
            "init\t [-0.37664229  2.30332343]\t 35.87889240695259\t 10.679755252484755\t    \n",
            "init\t [-0.81711509 -0.14922651]\t 10.679755252484755\t 10.679755252484755\t    \n",
            "init\t [-4.98912446 -0.12931474]\t 28.05462905574235\t 10.679755252484755\t    \n",
            "init\t [4.52410012 3.59214172]\t 71.62694632141611\t 10.679755252484755\t    \n",
            "1  \t [ 5.12 -5.12]\t 57.849427451571785\t 10.679755252484755\t -56.501765894038385\n",
            "2  \t [-5.12  5.12]\t 57.849427451571785\t 10.679755252484755\t -60.766289826439255\n",
            "3  \t [ 3.39782762 -0.9143657 ]\t 31.80342191767139\t 10.679755252484755\t -63.77557593634635\n",
            "4  \t [ 0.89410544 -5.12      ]\t 31.857162514639484\t 10.679755252484755\t -61.96303006855309\n",
            "5  \t [1.21080536 5.12      ]\t 37.95290851816888\t 10.679755252484755\t -60.34952715581828\n",
            "6  \t [-1.9355108  5.12     ]\t 33.48067054478861\t 10.679755252484755\t -59.4711615415941\n",
            "7  \t [-0.95916672 -2.64524996]\t 24.36132315435327\t 10.679755252484755\t -58.416482669161994\n",
            "8  \t [-5.12       -2.82390228]\t 42.42079471655315\t 10.679755252484755\t -56.5059570314202\n",
            "9  \t [-3.48472271  2.27138483]\t 48.59605510101251\t 10.679755252484755\t -56.8509664593166\n",
            "10 \t [2.23529954 1.52702144]\t 36.262232348761316\t 10.679755252484755\t -57.03014490160543\n",
            "11 \t [ 2.67982789 -3.31461533]\t 46.38501263711509\t 10.679755252484755\t -56.080882280202424\n",
            "12 \t [5.12       0.72186763]\t 41.20422500806039\t 10.679755252484755\t -56.449126052852435\n",
            "13 \t [-2.75660842 -1.00626015]\t 18.20408422432226\t 10.679755252484755\t -55.61638367989639\n",
            "\u001b[1m\u001b[92m14\u001b[0m\t \u001b[1m\u001b[92m[ 0.92710977 -1.02729316]\u001b[0m\t \u001b[1m\u001b[92m3.092082434223169\u001b[0m\t \u001b[1m\u001b[92m3.092082434223169\u001b[0m\t \u001b[1m\u001b[92m-53.932150808398426\u001b[0m\n",
            "15 \t [ 5.12       -2.34014485]\t 49.766941934276424\t 3.092082434223169\t -52.462256725666805\n",
            "16 \t [-1.09041187 -5.12      ]\t 31.684327151734394\t 3.092082434223169\t -50.769434470222016\n",
            "17 \t [ 0.79280985 -2.28273119]\t 25.22400032028855\t 3.092082434223169\t -48.14198922335878\n",
            "18 \t [-5.12 -5.12]\t 57.849427451571785\t 3.092082434223169\t -48.42033850018551\n",
            "19 \t [0.73557302 0.14127633]\t 15.15401466137346\t 3.092082434223169\t -48.354743851885004\n",
            "20 \t [-2.07573626  0.64863353]\t 21.7875340356537\t 3.092082434223169\t -46.676528082806115\n"
          ]
        }
      ],
      "source": [
        "### Bayesian optimisation runs (x20): 'STP' Acquisition Function run number = 11 \n",
        "\n",
        "np.random.seed(run_num_11)\n",
        "surrogate_stp_11 = tStudentProcess(cov_func, nu = df, optimize=hyperOpt)\n",
        "\n",
        "stp_11 = GPGO_multi_STP(surrogate_stp_11, Acquisition_new(util_stp), f_syn_polarity, param, n_jobs = -1) # Define BayesOpt\n",
        "stp_11.run(max_iter = max_iter, init_evals = n_init) # run\n"
      ]
    },
    {
      "cell_type": "code",
      "execution_count": 43,
      "metadata": {
        "id": "Sv5SygMbJLlD",
        "colab": {
          "base_uri": "https://localhost:8080/"
        },
        "outputId": "5ac4f6b9-cef7-4c20-c31f-380cd31d58e9"
      },
      "outputs": [
        {
          "output_type": "stream",
          "name": "stdout",
          "text": [
            "Evaluation \t Proposed point \t  Current eval. \t  Best eval. \t Min. ApproxAcqFunc \n",
            "init\t [-3.54137249  2.45810889]\t 57.903242869085595\t 40.51116653209555\t    \n",
            "init\t [-2.42365424  0.34549139]\t 40.51116653209555\t 40.51116653209555\t    \n",
            "init\t [-4.97075238  4.28796936]\t 55.62655915398208\t 40.51116653209555\t    \n",
            "init\t [ 4.10332011 -4.77776458]\t 49.962803461970296\t 40.51116653209555\t    \n",
            "init\t [ 4.6791612  -3.71497655]\t 62.183891474990624\t 40.51116653209555\t    \n",
            "1  \t [5.12 5.12]\t 57.849427451571785\t 40.51116653209555\t -65.62900840885787\n",
            "2  \t [-5.12 -5.12]\t 57.849427451571785\t 40.51116653209555\t -68.1763604721678\n",
            "\u001b[1m\u001b[92m3\u001b[0m\t \u001b[1m\u001b[92m[2.51313767 0.83200552]\u001b[0m\t \u001b[1m\u001b[92m32.04646888598674\u001b[0m\t \u001b[1m\u001b[92m32.04646888598674\u001b[0m\t \u001b[1m\u001b[92m-70.02581937801922\u001b[0m\n",
            "4  \t [0.33252634 5.12      ]\t 43.991311596791505\t 32.04646888598674\t -67.72659817209352\n",
            "5  \t [-0.48633851 -4.12009672]\t 39.88937943475704\t 32.04646888598674\t -67.19535935935345\n",
            "6  \t [-5.12       -1.54497465]\t 50.9150414719552\t 32.04646888598674\t -66.15102628654039\n",
            "7  \t [ 5.12       -0.38306041]\t 46.49141179641985\t 32.04646888598674\t -66.41311450448214\n",
            "\u001b[1m\u001b[92m8\u001b[0m\t \u001b[1m\u001b[92m[ 1.64055932 -1.98454524]\u001b[0m\t \u001b[1m\u001b[92m23.024086916177577\u001b[0m\t \u001b[1m\u001b[92m23.024086916177577\u001b[0m\t \u001b[1m\u001b[92m-66.13894009353147\u001b[0m\n",
            "\u001b[1m\u001b[92m9\u001b[0m\t \u001b[1m\u001b[92m[-0.04577161  2.14445071]\u001b[0m\t \u001b[1m\u001b[92m8.855160934058617\u001b[0m\t \u001b[1m\u001b[92m8.855160934058617\u001b[0m\t \u001b[1m\u001b[92m-64.00028140055186\u001b[0m\n",
            "10 \t [5.12       2.35444584]\t 50.56964983573373\t 8.855160934058617\t -61.3104996365168\n",
            "11 \t [-2.63930797 -2.71783389]\t 42.767575404148516\t 8.855160934058617\t -61.532719689870184\n",
            "12 \t [-2.293143  5.12    ]\t 46.860896166309274\t 8.855160934058617\t -61.23561608936197\n",
            "13 \t [2.47507025 3.5985244 ]\t 57.09724139640345\t 8.855160934058617\t -61.196082003054414\n",
            "14 \t [-0.00749041 -0.33998893]\t 15.484402133697667\t 8.855160934058617\t -61.62459447101141\n",
            "15 \t [ 1.66934585 -5.12      ]\t 46.56494281224255\t 8.855160934058617\t -60.0454599032873\n",
            "16 \t [-2.55867165 -5.12      ]\t 54.799679702890614\t 8.855160934058617\t -58.715693073584774\n",
            "17 \t [-5.12        0.84181894]\t 34.17896085358287\t 8.855160934058617\t -58.676609328698696\n",
            "18 \t [ 2.81624802 -3.40857691]\t 43.90135877840666\t 8.855160934058617\t -64.2588747159456\n",
            "19 \t [-1.1602285   3.01328198]\t 15.114659784040747\t 8.855160934058617\t -55.3444851467609\n",
            "20 \t [-0.52385291 -1.88062904]\t 26.382404005692862\t 8.855160934058617\t -53.65238597552059\n"
          ]
        }
      ],
      "source": [
        "### Bayesian optimisation runs (x20): 'STP' Acquisition Function run number = 12\n",
        "\n",
        "np.random.seed(run_num_12)\n",
        "surrogate_stp_12 = tStudentProcess(cov_func, nu = df, optimize=hyperOpt)\n",
        "\n",
        "stp_12 = GPGO_multi_STP(surrogate_stp_12, Acquisition_new(util_stp), f_syn_polarity, param, n_jobs = -1) # Define BayesOpt\n",
        "stp_12.run(max_iter = max_iter, init_evals = n_init) # run\n"
      ]
    },
    {
      "cell_type": "code",
      "execution_count": 44,
      "metadata": {
        "id": "NSskozWHJLlE",
        "colab": {
          "base_uri": "https://localhost:8080/"
        },
        "outputId": "d0f74c8d-412c-437a-8357-68e73b11c7c5"
      },
      "outputs": [
        {
          "output_type": "stream",
          "name": "stdout",
          "text": [
            "Evaluation \t Proposed point \t  Current eval. \t  Best eval. \t Min. ApproxAcqFunc \n",
            "init\t [ 2.84367268 -2.68757791]\t 33.58019830007169\t 17.435826639425656\t    \n",
            "init\t [3.32061217 4.76927179]\t 56.857057997503354\t 17.435826639425656\t    \n",
            "init\t [ 4.83943541 -0.47667971]\t 48.211919361679726\t 17.435826639425656\t    \n",
            "init\t [1.11659482 2.82139151]\t 17.435826639425656\t 17.435826639425656\t    \n",
            "init\t [1.45012065 2.27346667]\t 38.25352329493884\t 17.435826639425656\t    \n",
            "1  \t [-5.12      -2.7204929]\t 48.16917816213805\t 17.435826639425656\t -52.02291256138762\n",
            "2  \t [-5.12  5.12]\t 57.849427451571785\t 17.435826639425656\t -54.614022395748165\n",
            "3  \t [-1.07803954 -5.12      ]\t 31.26514045870006\t 17.435826639425656\t -58.7060698645518\n",
            "\u001b[1m\u001b[92m4\u001b[0m\t \u001b[1m\u001b[92m[-2.85471292  1.13042547]\u001b[0m\t \u001b[1m\u001b[92m16.48648050558962\u001b[0m\t \u001b[1m\u001b[92m16.48648050558962\u001b[0m\t \u001b[1m\u001b[92m-57.275056358370506\u001b[0m\n",
            "5  \t [-1.15831966  5.12      ]\t 34.819307552132344\t 16.48648050558962\t -54.8071373394577\n",
            "6  \t [-0.61925381 -1.41090093]\t 38.169292783015045\t 16.48648050558962\t -54.28559342432797\n",
            "7  \t [ 5.12 -5.12]\t 57.849427451571785\t 16.48648050558962\t -54.24497846923392\n",
            "8  \t [5.12       2.46289866]\t 54.72009968144881\t 16.48648050558962\t -56.16506624887049\n",
            "9  \t [-5.12        1.78838829]\t 39.7343586313614\t 16.48648050558962\t -57.846575757007166\n",
            "10 \t [ 1.73848443 -5.12      ]\t 42.669955250259086\t 16.48648050558962\t -57.423289456309064\n",
            "11 \t [-3.91233148 -5.12      ]\t 45.71018689656656\t 16.48648050558962\t -57.406034110588024\n",
            "\u001b[1m\u001b[92m12\u001b[0m\t \u001b[1m\u001b[92m[ 1.88194567 -0.24543164]\u001b[0m\t \u001b[1m\u001b[92m15.942131302663057\u001b[0m\t \u001b[1m\u001b[92m15.942131302663057\u001b[0m\t \u001b[1m\u001b[92m-56.66957955915659\u001b[0m\n",
            "13 \t [-1.23113292  2.47896041]\t 36.391002642256375\t 15.942131302663057\t -55.15080206332455\n",
            "14 \t [-3.21987375 -1.00587626]\t 19.504584406812626\t 15.942131302663057\t -54.49246036157249\n",
            "15 \t [0.97083518 5.12      ]\t 30.034664500071365\t 15.942131302663057\t -51.66300915395154\n",
            "16 \t [-2.3030735 -3.0938922]\t 29.839831449754243\t 15.942131302663057\t -50.89808687619506\n",
            "17 \t [-3.21228151  3.62227315]\t 48.28299016173283\t 15.942131302663057\t -49.80474415302972\n",
            "18 \t [ 5.12       -2.76993043]\t 45.348232818400035\t 15.942131302663057\t -55.23032125478809\n",
            "19 \t [-5.12      -0.3780633]\t 46.2734939799977\t 15.942131302663057\t -50.60291444308195\n",
            "20 \t [ 0.33686816 -3.39974777]\t 44.94370469626126\t 15.942131302663057\t -56.57362293580236\n"
          ]
        }
      ],
      "source": [
        "### Bayesian optimisation runs (x20): 'STP' Acquisition Function run number = 13 \n",
        "\n",
        "np.random.seed(run_num_13)\n",
        "surrogate_stp_13 = tStudentProcess(cov_func, nu = df, optimize=hyperOpt)\n",
        "\n",
        "stp_13 = GPGO_multi_STP(surrogate_stp_13, Acquisition_new(util_stp), f_syn_polarity, param, n_jobs = -1) # Define BayesOpt\n",
        "stp_13.run(max_iter = max_iter, init_evals = n_init) # run\n"
      ]
    },
    {
      "cell_type": "code",
      "execution_count": 45,
      "metadata": {
        "id": "aM5FQ3ibJLlE",
        "colab": {
          "base_uri": "https://localhost:8080/"
        },
        "outputId": "d2efca0c-dfe0-4c8c-84ae-a14ce2c43a6a"
      },
      "outputs": [
        {
          "output_type": "stream",
          "name": "stdout",
          "text": [
            "Evaluation \t Proposed point \t  Current eval. \t  Best eval. \t Min. ApproxAcqFunc \n",
            "init\t [0.14277984 2.79721013]\t 18.683085263052178\t 10.423838604848608\t    \n",
            "init\t [ 3.7931795  -5.03759925]\t 47.36348784446708\t 10.423838604848608\t    \n",
            "init\t [-1.94830412  4.68586229]\t 40.19779334078636\t 10.423838604848608\t    \n",
            "init\t [ 0.13431513 -1.86076749]\t 10.423838604848608\t 10.423838604848608\t    \n",
            "init\t [ 0.40140736 -2.85434939]\t 30.353548735049138\t 10.423838604848608\t    \n",
            "1  \t [-5.12 -5.12]\t 57.849427451571785\t 10.423838604848608\t -41.31808101139925\n",
            "2  \t [5.12 5.12]\t 57.849427451571785\t 10.423838604848608\t -49.187997671669876\n",
            "3  \t [-5.12        0.35239125]\t 45.04762977721736\t 10.423838604848608\t -54.34761918335898\n",
            "4  \t [ 5.12       -0.06379137]\t 29.7213421727422\t 10.423838604848608\t -55.4655170565661\n",
            "5  \t [-5.12  5.12]\t 57.849427451571785\t 10.423838604848608\t -54.15248716109092\n",
            "6  \t [-1.67155629  0.08682167]\t 18.98466377556665\t 10.423838604848608\t -57.14719993637899\n",
            "7  \t [-1.68722458 -5.12      ]\t 45.61425696795445\t 10.423838604848608\t -55.189069019293115\n",
            "8  \t [1.92844351 0.25638528]\t 15.179520562820404\t 10.423838604848608\t -55.89728594267591\n",
            "9  \t [-3.3553472  -2.32263936]\t 47.20655522762982\t 10.423838604848608\t -53.87340303380971\n",
            "10 \t [3.12162843 2.73401888]\t 31.002594870056072\t 10.423838604848608\t -54.683309620113114\n",
            "11 \t [1.47914527 5.12      ]\t 51.026857523648005\t 10.423838604848608\t -53.9800181527745\n",
            "12 \t [ 3.29570673 -2.15225985]\t 32.56404016702324\t 10.423838604848608\t -54.69440320907399\n",
            "13 \t [-3.19871381  2.31498794]\t 36.39479598895214\t 10.423838604848608\t -53.69194816925708\n",
            "14 \t [ 1.13268408 -5.12      ]\t 33.48612114532697\t 10.423838604848608\t -52.81637428449171\n",
            "15 \t [5.12       2.27285358]\t 45.52158060052931\t 10.423838604848608\t -50.9463699630305\n",
            "16 \t [ 5.12       -2.99623915]\t 37.90495453458393\t 10.423838604848608\t -51.02176864502312\n",
            "17 \t [0.15678471 0.53880451]\t 24.491394078326238\t 10.423838604848608\t -49.9016634084685\n",
            "18 \t [-5.12        2.75401002]\t 46.25735470581074\t 10.423838604848608\t -47.848221221166476\n",
            "19 \t [-1.52790368 -3.08607661]\t 33.13227009968726\t 10.423838604848608\t -55.06803669784379\n",
            "20 \t [-5.12       -1.62781304]\t 48.51947895247592\t 10.423838604848608\t -54.771907482882135\n"
          ]
        }
      ],
      "source": [
        "### Bayesian optimisation runs (x20): 'STP' Acquisition Function run number = 14 \n",
        "\n",
        "np.random.seed(run_num_14)\n",
        "surrogate_stp_14 = tStudentProcess(cov_func, nu = df, optimize=hyperOpt)\n",
        "\n",
        "stp_14 = GPGO_multi_STP(surrogate_stp_14, Acquisition_new(util_stp), f_syn_polarity, param, n_jobs = -1) # Define BayesOpt\n",
        "stp_14.run(max_iter = max_iter, init_evals = n_init) # run\n"
      ]
    },
    {
      "cell_type": "code",
      "execution_count": 46,
      "metadata": {
        "id": "XmPTh2j_JLlF",
        "colab": {
          "base_uri": "https://localhost:8080/"
        },
        "outputId": "e3827127-672d-4fa7-e0d0-c51328ee68f6"
      },
      "outputs": [
        {
          "output_type": "stream",
          "name": "stdout",
          "text": [
            "Evaluation \t Proposed point \t  Current eval. \t  Best eval. \t Min. ApproxAcqFunc \n",
            "init\t [ 3.57189322 -3.28810573]\t 54.938487770767075\t 7.990765314336182\t    \n",
            "init\t [-4.56332069 -1.41784631]\t 60.750198753157726\t 7.990765314336182\t    \n",
            "init\t [-2.29989449  0.3072023 ]\t 31.984997246800887\t 7.990765314336182\t    \n",
            "init\t [-1.9873903  -2.00218256]\t 7.990765314336182\t 7.990765314336182\t    \n",
            "init\t [-3.97576933 -2.5610341 ]\t 41.754957769694336\t 7.990765314336182\t    \n",
            "1  \t [5.12 5.12]\t 57.849427451571785\t 7.990765314336182\t -53.45340628202396\n",
            "2  \t [-5.12  5.12]\t 57.849427451571785\t 7.990765314336182\t -58.354471239432385\n",
            "3  \t [0.00778175 5.12      ]\t 28.93672509156223\t 7.990765314336182\t -61.77549890388431\n",
            "4  \t [2.41665751 1.20132658]\t 32.9325939814697\t 7.990765314336182\t -59.817224306542506\n",
            "5  \t [-0.33021001 -5.12      ]\t 43.8628478596241\t 7.990765314336182\t -58.62123993190759\n",
            "6  \t [ 5.12       -0.21050838]\t 36.51308045960483\t 7.990765314336182\t -58.71445517065432\n",
            "7  \t [ 0.60634983 -1.57374702]\t 39.63915454608342\t 7.990765314336182\t -58.06009286783338\n",
            "8  \t [-5.12 -5.12]\t 57.849427451571785\t 7.990765314336182\t -57.82637870080512\n",
            "9  \t [-5.12        1.87038426]\t 35.55999982271177\t 7.990765314336182\t -59.764238782273786\n",
            "10 \t [-2.23958779  3.35048516]\t 41.49023925325842\t 7.990765314336182\t -58.88706514313158\n",
            "11 \t [2.40617007 3.99693389]\t 40.07889561222345\t 7.990765314336182\t -58.21666713544128\n",
            "12 \t [ 5.12 -5.12]\t 57.849427451571785\t 7.990765314336182\t -57.55969245502693\n",
            "13 \t [5.12       2.36263817]\t 51.007852435366885\t 7.990765314336182\t -58.789260568040724\n",
            "14 \t [-0.01259039  1.79230816]\t 10.616698932845836\t 7.990765314336182\t -59.16648460775165\n",
            "15 \t [-2.64003028 -5.12      ]\t 52.26724735773372\t 7.990765314336182\t -56.35678264340221\n",
            "16 \t [ 2.03698694 -5.12      ]\t 33.34285540280915\t 7.990765314336182\t -56.90329343149145\n",
            "17 \t [ 2.88776452 -0.96227942]\t 11.92986800771001\t 7.990765314336182\t -54.136814038407685\n",
            "18 \t [-2.5625625  5.12     ]\t 54.72873206620281\t 7.990765314336182\t -52.11290485103743\n",
            "19 \t [3.19291644 1.59889018]\t 37.37186542104284\t 7.990765314336182\t -60.53054693435875\n",
            "20 \t [-0.97805476 -3.09490552]\t 12.355802658177007\t 7.990765314336182\t -52.36181914828\n"
          ]
        }
      ],
      "source": [
        "### Bayesian optimisation runs (x20): 'STP' Acquisition Function run number = 15 \n",
        "\n",
        "np.random.seed(run_num_15)\n",
        "surrogate_stp_15 = tStudentProcess(cov_func, nu = df, optimize=hyperOpt)\n",
        "\n",
        "stp_15 = GPGO_multi_STP(surrogate_stp_15, Acquisition_new(util_stp), f_syn_polarity, param, n_jobs = -1) # Define BayesOpt\n",
        "stp_15.run(max_iter = max_iter, init_evals = n_init) # run\n"
      ]
    },
    {
      "cell_type": "code",
      "execution_count": 47,
      "metadata": {
        "id": "6aUP_b73JLlG",
        "colab": {
          "base_uri": "https://localhost:8080/"
        },
        "outputId": "5e66c54f-4c20-4427-dace-01b918743c10"
      },
      "outputs": [
        {
          "output_type": "stream",
          "name": "stdout",
          "text": [
            "Evaluation \t Proposed point \t  Current eval. \t  Best eval. \t Min. ApproxAcqFunc \n",
            "init\t [-2.83349935  0.23719262]\t 22.27210456874814\t 22.27210456874814\t    \n",
            "init\t [ 0.51918292 -4.65303603]\t 57.57021076017139\t 22.27210456874814\t    \n",
            "init\t [-1.42613673 -2.83565116]\t 33.89145899403749\t 22.27210456874814\t    \n",
            "init\t [ 1.9325559  -3.44339021]\t 35.85029586225333\t 22.27210456874814\t    \n",
            "init\t [-4.39987336  4.51595121]\t 77.78800881964571\t 22.27210456874814\t    \n",
            "1  \t [5.12 5.12]\t 57.849427451571785\t 22.27210456874814\t -63.00427080187103\n",
            "2  \t [5.12       0.13356271]\t 32.261963995676076\t 22.27210456874814\t -66.01957111570727\n",
            "3  \t [0.53992049 3.56733431]\t 51.82277292146028\t 22.27210456874814\t -63.82735467012504\n",
            "4  \t [-5.12 -5.12]\t 57.849427451571785\t 22.27210456874814\t -64.94571755926326\n",
            "5  \t [ 5.12 -5.12]\t 57.849427451571785\t 22.27210456874814\t -66.80076192055213\n",
            "\u001b[1m\u001b[92m6\u001b[0m\t \u001b[1m\u001b[92m[1.26288425 0.01648288]\u001b[0m\t \u001b[1m\u001b[92m12.457386223250639\u001b[0m\t \u001b[1m\u001b[92m12.457386223250639\u001b[0m\t \u001b[1m\u001b[92m-68.23218135716024\u001b[0m\n",
            "7  \t [-5.12      -1.6575869]\t 47.15797202418807\t 12.457386223250639\t -65.3882763178205\n",
            "8  \t [3.37844495 2.40672261]\t 52.75981529593697\t 12.457386223250639\t -64.9624145502569\n",
            "9  \t [ 5.12       -2.36054689]\t 50.897573771327984\t 12.457386223250639\t -64.84040626631871\n",
            "10 \t [-5.12        1.50631179]\t 51.185826119738884\t 12.457386223250639\t -65.67301868857722\n",
            "11 \t [-1.58617781  5.12      ]\t 50.01018755170653\t 12.457386223250639\t -65.39201821225059\n",
            "12 \t [-2.3734612 -5.12     ]\t 51.560403219955234\t 12.457386223250639\t -65.10069754114689\n",
            "13 \t [-0.72002047  1.10107823]\t 15.553188607818074\t 12.457386223250639\t -65.21684847052529\n",
            "14 \t [2.42971694 5.12      ]\t 53.86892178925923\t 12.457386223250639\t -62.995040955325855\n",
            "15 \t [ 2.79259204 -1.04865932]\t 16.717690256121443\t 12.457386223250639\t -62.69010668823207\n",
            "16 \t [-2.32796044  2.52520775]\t 46.37575286496932\t 12.457386223250639\t -61.16317639908278\n",
            "\u001b[1m\u001b[92m17\u001b[0m\t \u001b[1m\u001b[92m[-0.26292567 -1.00325369]\u001b[0m\t \u001b[1m\u001b[92m11.888989059587624\u001b[0m\t \u001b[1m\u001b[92m11.888989059587624\u001b[0m\t \u001b[1m\u001b[92m-60.47362715035808\u001b[0m\n",
            "18 \t [ 2.91821584 -5.12      ]\t 38.73218578739944\t 11.888989059587624\t -56.41690370267843\n",
            "19 \t [-2.95873406 -1.72635267]\t 23.549001081501494\t 11.888989059587624\t -51.805824153196056\n",
            "20 \t [1.30482819 1.56948487]\t 36.60508374499344\t 11.888989059587624\t -59.32956851216494\n"
          ]
        }
      ],
      "source": [
        "### Bayesian optimisation runs (x20): 'STP' Acquisition Function run number = 16 \n",
        "\n",
        "np.random.seed(run_num_16)\n",
        "surrogate_stp_16 = tStudentProcess(cov_func, nu = df, optimize=hyperOpt)\n",
        "\n",
        "stp_16 = GPGO_multi_STP(surrogate_stp_16, Acquisition_new(util_stp), f_syn_polarity, param, n_jobs = -1) # Define BayesOpt\n",
        "stp_16.run(max_iter = max_iter, init_evals = n_init) # run\n"
      ]
    },
    {
      "cell_type": "code",
      "execution_count": 48,
      "metadata": {
        "id": "TV8_B_7cJLlH",
        "colab": {
          "base_uri": "https://localhost:8080/"
        },
        "outputId": "1e231d9b-df4c-4fe9-833c-8f4df3ed7584"
      },
      "outputs": [
        {
          "output_type": "stream",
          "name": "stdout",
          "text": [
            "Evaluation \t Proposed point \t  Current eval. \t  Best eval. \t Min. ApproxAcqFunc \n",
            "init\t [-2.10263037  0.31320838]\t 20.395145364684023\t 20.395145364684023\t    \n",
            "init\t [-3.15882714 -4.42470033]\t 53.03732051200137\t 20.395145364684023\t    \n",
            "init\t [2.93873111 1.60085526]\t 29.989224812583537\t 20.395145364684023\t    \n",
            "init\t [1.40821398 0.77417363]\t 29.451989415882437\t 20.395145364684023\t    \n",
            "init\t [-4.71999574 -1.45598869]\t 55.89242173757483\t 20.395145364684023\t    \n",
            "1  \t [ 5.12 -5.12]\t 57.849427451571785\t 20.395145364684023\t -51.41019216394939\n",
            "2  \t [-5.12        5.09223233]\t 56.48824850492502\t 20.395145364684023\t -56.759088383285196\n",
            "3  \t [-0.24694246  5.12      ]\t 38.79359536127218\t 20.395145364684023\t -60.1377324253513\n",
            "4  \t [5.12 5.12]\t 57.849427451571785\t 20.395145364684023\t -59.57257454705048\n",
            "5  \t [ 1.07732592 -3.51443656]\t 34.62801525741147\t 20.395145364684023\t -62.15151576401395\n",
            "6  \t [ 5.12       -1.25402944]\t 40.750453874291324\t 20.395145364684023\t -61.03587022644295\n",
            "7  \t [-5.12        1.82321996]\t 37.808874430467164\t 20.395145364684023\t -60.50322850411792\n",
            "8  \t [-2.32224703  3.11587379]\t 32.0219225318074\t 20.395145364684023\t -59.4883132643722\n",
            "\u001b[1m\u001b[92m9\u001b[0m\t \u001b[1m\u001b[92m[-1.19200914 -2.00684347]\u001b[0m\t \u001b[1m\u001b[92m11.8939671423271\u001b[0m\t \u001b[1m\u001b[92m11.8939671423271\u001b[0m\t \u001b[1m\u001b[92m-58.084444736111436\u001b[0m\n",
            "10 \t [2.32843068 4.36593368]\t 55.870873008570136\t 11.8939671423271\t -56.122929257842024\n",
            "11 \t [5.12      2.0310157]\t 33.239024275820185\t 11.8939671423271\t -57.251278457692145\n",
            "12 \t [-0.59958261 -5.12      ]\t 47.38977014335068\t 11.8939671423271\t -56.053844970688985\n",
            "13 \t [ 2.52101343 -1.52636406]\t 48.46137454772267\t 11.8939671423271\t -56.32712657782137\n",
            "14 \t [ 2.55912645 -5.12      ]\t 54.79167175961254\t 11.8939671423271\t -56.024186083133905\n",
            "15 \t [-0.07891767  2.39501511]\t 24.84883179728235\t 11.8939671423271\t -56.54481079306477\n",
            "16 \t [-5.12 -5.12]\t 57.849427451571785\t 11.8939671423271\t -55.49705963437361\n",
            "17 \t [-2.74615681  5.12      ]\t 46.70754234398755\t 11.8939671423271\t -60.75560990728665\n",
            "18 \t [-0.09399587 -0.68470375]\t 16.160106128794546\t 11.8939671423271\t -54.940128585841904\n",
            "19 \t [-2.58213528 -2.03485044]\t 29.74447177917588\t 11.8939671423271\t -51.27470524048927\n",
            "20 \t [ 3.97941502 -3.20360752]\t 33.30855025341874\t 11.8939671423271\t -59.20565717733354\n"
          ]
        }
      ],
      "source": [
        "### Bayesian optimisation runs (x20): 'STP' Acquisition Function run number = 17 \n",
        "\n",
        "np.random.seed(run_num_17)\n",
        "surrogate_stp_17 = tStudentProcess(cov_func, nu = df, optimize=hyperOpt)\n",
        "\n",
        "stp_17 = GPGO_multi_STP(surrogate_stp_17, Acquisition_new(util_stp), f_syn_polarity, param, n_jobs = -1) # Define BayesOpt\n",
        "stp_17.run(max_iter = max_iter, init_evals = n_init) # run\n"
      ]
    },
    {
      "cell_type": "code",
      "execution_count": 49,
      "metadata": {
        "id": "57ABzGR1JLlI",
        "colab": {
          "base_uri": "https://localhost:8080/"
        },
        "outputId": "0a014e97-6781-490e-90f4-c0c65042923d"
      },
      "outputs": [
        {
          "output_type": "stream",
          "name": "stdout",
          "text": [
            "Evaluation \t Proposed point \t  Current eval. \t  Best eval. \t Min. ApproxAcqFunc \n",
            "init\t [1.53983224 0.05584255]\t 22.67190580753611\t 22.67190580753611\t    \n",
            "init\t [ 3.87687906 -3.25795609]\t 38.990099416711985\t 22.67190580753611\t    \n",
            "init\t [3.60686662 2.56139557]\t 56.66448698782129\t 22.67190580753611\t    \n",
            "init\t [1.70088108 4.99604939]\t 40.894059318256296\t 22.67190580753611\t    \n",
            "init\t [-2.48864335 -4.83014733]\t 54.6725749848372\t 22.67190580753611\t    \n",
            "1  \t [-5.00718904  2.9174042 ]\t 34.91005808676357\t 22.67190580753611\t -57.40030459593642\n",
            "2  \t [-5.12       -1.37229587]\t 47.75782128021399\t 22.67190580753611\t -56.31937094196121\n",
            "3  \t [-1.30205492  2.41826275]\t 39.46600582425405\t 22.67190580753611\t -57.80705735070031\n",
            "4  \t [ 1.04780708 -5.12      ]\t 30.470374319885536\t 22.67190580753611\t -57.50249650883753\n",
            "5  \t [-1.46278461 -1.33669225]\t 38.83598829447554\t 22.67190580753611\t -56.18965126136763\n",
            "6  \t [-2.73907255  5.12      ]\t 47.11328472795782\t 22.67190580753611\t -55.87590891848534\n",
            "7  \t [ 5.12       -0.35112587]\t 44.982938478785314\t 22.67190580753611\t -56.80262592806955\n",
            "8  \t [5.12 5.12]\t 57.849427451571785\t 22.67190580753611\t -57.17749063989717\n",
            "9  \t [-5.12 -5.12]\t 57.849427451571785\t 22.67190580753611\t -58.73097141169563\n",
            "10 \t [ 1.09046659 -2.48500802]\t 28.892514804197326\t 22.67190580753611\t -59.63056142055626\n",
            "11 \t [ 5.12 -5.12]\t 57.849427451571785\t 22.67190580753611\t -58.42139315997166\n",
            "12 \t [-3.41428299  0.75278939]\t 40.63316678492605\t 22.67190580753611\t -59.455898156027835\n",
            "13 \t [-5.12  5.12]\t 57.849427451571785\t 22.67190580753611\t -58.06439467816283\n",
            "14 \t [1.01243487 2.37752493]\t 23.89050840385703\t 22.67190580753611\t -58.50738476072226\n",
            "15 \t [-0.51469741  4.64526418]\t 57.91672979260727\t 22.67190580753611\t -61.713815781841575\n",
            "16 \t [-3.32413553 -2.67822274]\t 47.07276191379127\t 22.67190580753611\t -55.84755597275581\n",
            "\u001b[1m\u001b[92m17\u001b[0m\t \u001b[1m\u001b[92m[ 3.00024579 -1.13523912]\u001b[0m\t \u001b[1m\u001b[92m13.688413250452088\u001b[0m\t \u001b[1m\u001b[92m13.688413250452088\u001b[0m\t \u001b[1m\u001b[92m-55.35196409893432\u001b[0m\n",
            "18 \t [-0.35795696  0.44961115]\t 36.108078188594234\t 13.688413250452088\t -53.66104559787413\n",
            "19 \t [-0.57517859 -3.62256904]\t 49.53704576847068\t 13.688413250452088\t -52.99277779538397\n",
            "20 \t [-2.68012134  3.77406019]\t 44.17147918312861\t 13.688413250452088\t -61.712562219296046\n"
          ]
        }
      ],
      "source": [
        "### Bayesian optimisation runs (x20): 'STP' Acquisition Function run number = 18 \n",
        "\n",
        "np.random.seed(run_num_18)\n",
        "surrogate_stp_18 = tStudentProcess(cov_func, nu = df, optimize=hyperOpt)\n",
        "\n",
        "stp_18 = GPGO_multi_STP(surrogate_stp_18, Acquisition_new(util_stp), f_syn_polarity, param, n_jobs = -1) # Define BayesOpt\n",
        "stp_18.run(max_iter = max_iter, init_evals = n_init) # run\n"
      ]
    },
    {
      "cell_type": "code",
      "execution_count": 50,
      "metadata": {
        "id": "x2CyIorrJLlJ",
        "colab": {
          "base_uri": "https://localhost:8080/"
        },
        "outputId": "d95d1e77-9b88-4b66-87f8-78a96a2f16c9"
      },
      "outputs": [
        {
          "output_type": "stream",
          "name": "stdout",
          "text": [
            "Evaluation \t Proposed point \t  Current eval. \t  Best eval. \t Min. ApproxAcqFunc \n",
            "init\t [-4.12125592  2.6751971 ]\t 41.43485596167127\t 25.867003842388073\t    \n",
            "init\t [-2.59135515 -3.70553152]\t 51.60126035043229\t 25.867003842388073\t    \n",
            "init\t [-1.72598719 -4.27008445]\t 43.97430127029199\t 25.867003842388073\t    \n",
            "init\t [1.76104531 3.13952049]\t 25.867003842388073\t 25.867003842388073\t    \n",
            "init\t [4.9432772  1.38916592]\t 44.66580306903559\t 25.867003842388073\t    \n",
            "1  \t [ 5.12 -5.12]\t 57.849427451571785\t 25.867003842388073\t -51.49887042591811\n",
            "2  \t [ 1.77603239 -1.68634686]\t 28.263349337762545\t 25.867003842388073\t -56.8248198063943\n",
            "3  \t [5.12 5.12]\t 57.849427451571785\t 25.867003842388073\t -54.976304446291515\n",
            "4  \t [-1.28686794  5.12      ]\t 42.87656164837218\t 25.867003842388073\t -58.54889274461388\n",
            "5  \t [-5.12       -0.97838287]\t 29.97404640202379\t 25.867003842388073\t -58.751121895691185\n",
            "\u001b[1m\u001b[92m6\u001b[0m\t \u001b[1m\u001b[92m[-1.20090275  0.35664869]\u001b[0m\t \u001b[1m\u001b[92m24.743783060113678\u001b[0m\t \u001b[1m\u001b[92m24.743783060113678\u001b[0m\t \u001b[1m\u001b[92m-57.43802826091263\u001b[0m\n",
            "7  \t [ 1.54051221 -5.12      ]\t 50.97566940453329\t 24.743783060113678\t -55.81555502135493\n",
            "8  \t [-5.12 -5.12]\t 57.849427451571785\t 24.743783060113678\t -56.981729711683954\n",
            "9  \t [ 5.12       -1.82177449]\t 37.88516635772315\t 24.743783060113678\t -59.06825344266255\n",
            "10 \t [-5.12  5.12]\t 57.849427451571785\t 24.743783060113678\t -58.32498090675868\n",
            "\u001b[1m\u001b[92m11\u001b[0m\t \u001b[1m\u001b[92m[1.82654031 0.74102323]\u001b[0m\t \u001b[1m\u001b[92m19.82316991529975\u001b[0m\t \u001b[1m\u001b[92m19.82316991529975\u001b[0m\t \u001b[1m\u001b[92m-58.81330912892555\u001b[0m\n",
            "12 \t [2.08198552 5.12      ]\t 34.557091728851766\t 19.82316991529975\t -56.917822041160896\n",
            "13 \t [-0.85364862  2.60611898]\t 29.317077075185274\t 19.82316991529975\t -56.16743343863899\n",
            "14 \t [-0.58733554 -1.87558209]\t 25.297685351156623\t 19.82316991529975\t -54.83491421137473\n",
            "\u001b[1m\u001b[92m15\u001b[0m\t \u001b[1m\u001b[92m[-2.96347733 -0.85677213]\u001b[0m\t \u001b[1m\u001b[92m13.561735797329732\u001b[0m\t \u001b[1m\u001b[92m13.561735797329732\u001b[0m\t \u001b[1m\u001b[92m-53.028821011413456\u001b[0m\n",
            "16 \t [ 3.25169219 -3.30146367]\t 44.756988512317385\t 13.561735797329732\t -50.77040732022586\n",
            "17 \t [-5.12        0.94988492]\t 30.318666794595075\t 13.561735797329732\t -49.90757804807183\n",
            "18 \t [-5.12       -2.85043079]\t 41.14994062084367\t 13.561735797329732\t -43.78783660462195\n",
            "19 \t [3.86408619 3.29942682]\t 42.303337150568545\t 13.561735797329732\t -56.37370245167571\n",
            "20 \t [ 3.44193465 -0.31698621]\t 45.3749194679056\t 13.561735797329732\t -48.12903111895664\n"
          ]
        }
      ],
      "source": [
        "### Bayesian optimisation runs (x20): 'STP' Acquisition Function run number = 19 \n",
        "\n",
        "np.random.seed(run_num_19)\n",
        "surrogate_stp_19 = tStudentProcess(cov_func, nu = df, optimize=hyperOpt)\n",
        "\n",
        "stp_19 = GPGO_multi_STP(surrogate_stp_19, Acquisition_new(util_stp), f_syn_polarity, param, n_jobs = -1) # Define BayesOpt\n",
        "stp_19.run(max_iter = max_iter, init_evals = n_init) # run\n"
      ]
    },
    {
      "cell_type": "code",
      "execution_count": 51,
      "metadata": {
        "id": "4O6_IplWJLlJ",
        "colab": {
          "base_uri": "https://localhost:8080/"
        },
        "outputId": "a5bb7c10-671f-4ff5-8791-634296fffaf6"
      },
      "outputs": [
        {
          "output_type": "stream",
          "name": "stdout",
          "text": [
            "Evaluation \t Proposed point \t  Current eval. \t  Best eval. \t Min. ApproxAcqFunc \n",
            "init\t [0.9024594  4.07258857]\t 20.24255447774017\t 17.388691338534382\t    \n",
            "init\t [4.00927467 3.23417577]\t 35.55852254546393\t 17.388691338534382\t    \n",
            "init\t [-4.75249064  1.96359764]\t 36.54582989269194\t 17.388691338534382\t    \n",
            "init\t [-1.24230715  0.18955208]\t 17.388691338534382\t 17.388691338534382\t    \n",
            "init\t [ 1.61742301 -3.13497377]\t 33.22932870179905\t 17.388691338534382\t    \n",
            "1  \t [-5.12 -5.12]\t 57.849427451571785\t 17.388691338534382\t -38.366389880424634\n",
            "2  \t [ 5.12       -0.92643809]\t 30.83227875237914\t 17.388691338534382\t -47.089306380520654\n",
            "3  \t [ 5.12 -5.12]\t 57.849427451571785\t 17.388691338534382\t -46.663905061843046\n",
            "4  \t [-2.70379379  5.12      ]\t 49.09782418377587\t 17.388691338534382\t -51.741437319071935\n",
            "5  \t [-1.34028315 -5.12      ]\t 46.094353311558564\t 17.388691338534382\t -53.737822012022356\n",
            "6  \t [-5.12      -1.4993831]\t 51.172788301081496\t 17.388691338534382\t -54.831047634858486\n",
            "7  \t [1.91348023 0.46592847]\t 25.091803089065483\t 17.388691338534382\t -56.395365572818484\n",
            "8  \t [-2.04366712 -2.27177378]\t 21.07539031734007\t 17.388691338534382\t -54.406625419074224\n",
            "9  \t [-1.35454509  2.56080815]\t 43.77794389295393\t 17.388691338534382\t -52.542941899122866\n",
            "10 \t [-5.12  5.12]\t 57.849427451571785\t 17.388691338534382\t -52.76256875650661\n",
            "11 \t [5.12 5.12]\t 57.849427451571785\t 17.388691338534382\t -54.482561125258485\n",
            "12 \t [ 2.27982385 -5.12      ]\t 45.98525089423808\t 17.388691338534382\t -55.30794623503732\n",
            "13 \t [5.12       1.32196442]\t 45.041450482075774\t 17.388691338534382\t -55.19902101832419\n",
            "14 \t [ 0.21632411 -1.32399222]\t 24.182981505432842\t 17.388691338534382\t -54.88759912689503\n",
            "15 \t [2.43952093 5.12      ]\t 54.16261786313126\t 17.388691338534382\t -53.525629465265446\n",
            "16 \t [ 3.91831719 -2.68755327]\t 37.68825383669148\t 17.388691338534382\t -54.25691305088165\n",
            "17 \t [-3.17162783  0.12629622]\t 18.334271475441525\t 17.388691338534382\t -53.636976193373584\n",
            "18 \t [1.32179375 2.27358679]\t 32.75241645936971\t 17.388691338534382\t -51.47805656456298\n",
            "19 \t [-0.40273236  5.12      ]\t 47.27679040110079\t 17.388691338534382\t -51.110036692997795\n",
            "20 \t [ 1.60202077 -4.29730949]\t 51.97718930364949\t 17.388691338534382\t -57.707915007376435\n"
          ]
        }
      ],
      "source": [
        "### Bayesian optimisation runs (x20): 'STP' Acquisition Function run number = 20 \n",
        "\n",
        "np.random.seed(run_num_20)\n",
        "surrogate_stp_20 = tStudentProcess(cov_func, nu = df, optimize=hyperOpt)\n",
        "\n",
        "stp_20 = GPGO_multi_STP(surrogate_stp_20, Acquisition_new(util_stp), f_syn_polarity, param, n_jobs = -1) # Define BayesOpt\n",
        "stp_20.run(max_iter = max_iter, init_evals = n_init) # run\n"
      ]
    },
    {
      "cell_type": "code",
      "execution_count": 52,
      "metadata": {
        "id": "B9S2UvZ9JLlK",
        "colab": {
          "base_uri": "https://localhost:8080/"
        },
        "outputId": "b5f56037-4e03-4d8f-cf89-30bcd5162806"
      },
      "outputs": [
        {
          "output_type": "execute_result",
          "data": {
            "text/plain": [
              "(2.529659428332512, 2.2954108582598853)"
            ]
          },
          "metadata": {},
          "execution_count": 52
        }
      ],
      "source": [
        "### Simple regret minimisation: run number = 1\n",
        "\n",
        "gp_output_1 = np.append(np.max(gp_1.GP.y[0:n_init]),gp_1.GP.y[n_init:(n_init+max_iter)]) \n",
        "stp_output_1 = np.append(np.max(stp_1.GP.y[0:n_init]),stp_1.GP.y[n_init:(n_init+max_iter)]) \n",
        "\n",
        "regret_gp_1 = np.log(y_global_orig - gp_output_1)\n",
        "regret_stp_1 = np.log(y_global_orig - stp_output_1)\n",
        "\n",
        "simple_regret_gp_1 = min_max_array(regret_gp_1)\n",
        "simple_regret_stp_1 = min_max_array(regret_stp_1)\n",
        "\n",
        "min_simple_regret_gp_1 = min(simple_regret_gp_1)\n",
        "min_simple_regret_stp_1 = min(simple_regret_stp_1)\n",
        "\n",
        "min_simple_regret_gp_1, min_simple_regret_stp_1\n"
      ]
    },
    {
      "cell_type": "code",
      "execution_count": 53,
      "metadata": {
        "id": "adGcU8l5JLlK",
        "colab": {
          "base_uri": "https://localhost:8080/"
        },
        "outputId": "042527d8-5e19-4632-edab-6610b6b32a71"
      },
      "outputs": [
        {
          "output_type": "execute_result",
          "data": {
            "text/plain": [
              "(2.9425708889884663, 2.623391668158602)"
            ]
          },
          "metadata": {},
          "execution_count": 53
        }
      ],
      "source": [
        "### Simple regret minimisation: run number = 2\n",
        "\n",
        "gp_output_2 = np.append(np.max(gp_2.GP.y[0:n_init]),gp_2.GP.y[n_init:(n_init+max_iter)]) \n",
        "stp_output_2 = np.append(np.max(stp_2.GP.y[0:n_init]),stp_2.GP.y[n_init:(n_init+max_iter)]) \n",
        "\n",
        "regret_gp_2 = np.log(y_global_orig - gp_output_2)\n",
        "regret_stp_2 = np.log(y_global_orig - stp_output_2)\n",
        "\n",
        "simple_regret_gp_2 = min_max_array(regret_gp_2)\n",
        "simple_regret_stp_2 = min_max_array(regret_stp_2)\n",
        "\n",
        "min_simple_regret_gp_2 = min(simple_regret_gp_2)\n",
        "min_simple_regret_stp_2 = min(simple_regret_stp_2)\n",
        "\n",
        "min_simple_regret_gp_2, min_simple_regret_stp_2\n"
      ]
    },
    {
      "cell_type": "code",
      "execution_count": 54,
      "metadata": {
        "id": "1F9LaViaJLlL",
        "colab": {
          "base_uri": "https://localhost:8080/"
        },
        "outputId": "dad1922a-bd4d-4148-f30e-434e3a415b69"
      },
      "outputs": [
        {
          "output_type": "execute_result",
          "data": {
            "text/plain": [
              "(2.361576630127625, 2.361576630127625)"
            ]
          },
          "metadata": {},
          "execution_count": 54
        }
      ],
      "source": [
        "### Simple regret minimisation: run number = 3\n",
        "\n",
        "gp_output_3 = np.append(np.max(gp_3.GP.y[0:n_init]),gp_3.GP.y[n_init:(n_init+max_iter)]) \n",
        "stp_output_3 = np.append(np.max(stp_3.GP.y[0:n_init]),stp_3.GP.y[n_init:(n_init+max_iter)]) \n",
        "\n",
        "regret_gp_3 = np.log(y_global_orig - gp_output_3)\n",
        "regret_stp_3 = np.log(y_global_orig - stp_output_3)\n",
        "\n",
        "simple_regret_gp_3 = min_max_array(regret_gp_3)\n",
        "simple_regret_stp_3 = min_max_array(regret_stp_3)\n",
        "\n",
        "min_simple_regret_gp_3 = min(simple_regret_gp_3)\n",
        "min_simple_regret_stp_3 = min(simple_regret_stp_3)\n",
        "\n",
        "min_simple_regret_gp_3, min_simple_regret_stp_3\n"
      ]
    },
    {
      "cell_type": "code",
      "execution_count": 55,
      "metadata": {
        "id": "vThMylZmJLlL",
        "colab": {
          "base_uri": "https://localhost:8080/"
        },
        "outputId": "416f19dc-6b26-427f-c82f-01c1fbae4be6"
      },
      "outputs": [
        {
          "output_type": "execute_result",
          "data": {
            "text/plain": [
              "(2.28750041583831, 2.2874180939718007)"
            ]
          },
          "metadata": {},
          "execution_count": 55
        }
      ],
      "source": [
        "### Simple regret minimisation: run number = 4\n",
        "\n",
        "gp_output_4 = np.append(np.max(gp_4.GP.y[0:n_init]),gp_4.GP.y[n_init:(n_init+max_iter)]) \n",
        "stp_output_4 = np.append(np.max(stp_4.GP.y[0:n_init]),stp_4.GP.y[n_init:(n_init+max_iter)]) \n",
        "\n",
        "regret_gp_4 = np.log(y_global_orig - gp_output_4)\n",
        "regret_stp_4 = np.log(y_global_orig - stp_output_4)\n",
        "\n",
        "simple_regret_gp_4 = min_max_array(regret_gp_4)\n",
        "simple_regret_stp_4 = min_max_array(regret_stp_4)\n",
        "\n",
        "min_simple_regret_gp_4 = min(simple_regret_gp_4)\n",
        "min_simple_regret_stp_4 = min(simple_regret_stp_4)\n",
        "\n",
        "min_simple_regret_gp_4, min_simple_regret_stp_4\n"
      ]
    },
    {
      "cell_type": "code",
      "execution_count": 56,
      "metadata": {
        "id": "9Um6_WG7JLlM",
        "colab": {
          "base_uri": "https://localhost:8080/"
        },
        "outputId": "92b85cba-a9fb-413e-d3ad-5b2a305f6598"
      },
      "outputs": [
        {
          "output_type": "execute_result",
          "data": {
            "text/plain": [
              "(1.8391580991404404, 2.05551541920764)"
            ]
          },
          "metadata": {},
          "execution_count": 56
        }
      ],
      "source": [
        "### Simple regret minimisation: run number = 5\n",
        "\n",
        "gp_output_5 = np.append(np.max(gp_5.GP.y[0:n_init]),gp_5.GP.y[n_init:(n_init+max_iter)]) \n",
        "stp_output_5 = np.append(np.max(stp_5.GP.y[0:n_init]),stp_5.GP.y[n_init:(n_init+max_iter)]) \n",
        "\n",
        "regret_gp_5 = np.log(y_global_orig - gp_output_5)\n",
        "regret_stp_5 = np.log(y_global_orig - stp_output_5)\n",
        "\n",
        "simple_regret_gp_5 = min_max_array(regret_gp_5)\n",
        "simple_regret_stp_5 = min_max_array(regret_stp_5)\n",
        "\n",
        "min_simple_regret_gp_5 = min(simple_regret_gp_5)\n",
        "min_simple_regret_stp_5 = min(simple_regret_stp_5)\n",
        "\n",
        "min_simple_regret_gp_5, min_simple_regret_stp_5\n"
      ]
    },
    {
      "cell_type": "code",
      "execution_count": 57,
      "metadata": {
        "id": "s7F8Y3b9JLlM",
        "colab": {
          "base_uri": "https://localhost:8080/"
        },
        "outputId": "761c32a1-c0cb-4cee-d2d1-2c156744e7f5"
      },
      "outputs": [
        {
          "output_type": "execute_result",
          "data": {
            "text/plain": [
              "(2.301704679806353, 2.812987529356833)"
            ]
          },
          "metadata": {},
          "execution_count": 57
        }
      ],
      "source": [
        "### Simple regret minimisation: run number = 6\n",
        "\n",
        "gp_output_6 = np.append(np.max(gp_6.GP.y[0:n_init]),gp_6.GP.y[n_init:(n_init+max_iter)]) \n",
        "stp_output_6 = np.append(np.max(stp_6.GP.y[0:n_init]),stp_6.GP.y[n_init:(n_init+max_iter)]) \n",
        "\n",
        "regret_gp_6 = np.log(y_global_orig - gp_output_6)\n",
        "regret_stp_6 = np.log(y_global_orig - stp_output_6)\n",
        "\n",
        "simple_regret_gp_6 = min_max_array(regret_gp_6)\n",
        "simple_regret_stp_6 = min_max_array(regret_stp_6)\n",
        "\n",
        "min_simple_regret_gp_6 = min(simple_regret_gp_6)\n",
        "min_simple_regret_stp_6 = min(simple_regret_stp_6)\n",
        "\n",
        "min_simple_regret_gp_6, min_simple_regret_stp_6\n"
      ]
    },
    {
      "cell_type": "code",
      "execution_count": 58,
      "metadata": {
        "id": "FbMNex-gJLlN",
        "colab": {
          "base_uri": "https://localhost:8080/"
        },
        "outputId": "c8c7e4d6-774c-4c8e-c97a-f184ffdc0ad6"
      },
      "outputs": [
        {
          "output_type": "execute_result",
          "data": {
            "text/plain": [
              "(2.633745382217813, 2.2873168429356356)"
            ]
          },
          "metadata": {},
          "execution_count": 58
        }
      ],
      "source": [
        "### Simple regret minimisation: run number = 7\n",
        "\n",
        "gp_output_7 = np.append(np.max(gp_7.GP.y[0:n_init]),gp_7.GP.y[n_init:(n_init+max_iter)]) \n",
        "stp_output_7 = np.append(np.max(stp_7.GP.y[0:n_init]),stp_7.GP.y[n_init:(n_init+max_iter)]) \n",
        "\n",
        "regret_gp_7 = np.log(y_global_orig - gp_output_7)\n",
        "regret_stp_7 = np.log(y_global_orig - stp_output_7)\n",
        "\n",
        "simple_regret_gp_7 = min_max_array(regret_gp_7)\n",
        "simple_regret_stp_7 = min_max_array(regret_stp_7)\n",
        "\n",
        "min_simple_regret_gp_7 = min(simple_regret_gp_7)\n",
        "min_simple_regret_stp_7 = min(simple_regret_stp_7)\n",
        "\n",
        "min_simple_regret_gp_7, min_simple_regret_stp_7\n"
      ]
    },
    {
      "cell_type": "code",
      "execution_count": 59,
      "metadata": {
        "id": "yTxbjos2JLlN",
        "colab": {
          "base_uri": "https://localhost:8080/"
        },
        "outputId": "7f6f24a6-6ac0-4948-8155-150e91950f71"
      },
      "outputs": [
        {
          "output_type": "execute_result",
          "data": {
            "text/plain": [
              "(2.6298595175876263, 2.6298595175876263)"
            ]
          },
          "metadata": {},
          "execution_count": 59
        }
      ],
      "source": [
        "### Simple regret minimisation: run number = 8\n",
        "\n",
        "gp_output_8 = np.append(np.max(gp_8.GP.y[0:n_init]),gp_8.GP.y[n_init:(n_init+max_iter)]) \n",
        "stp_output_8 = np.append(np.max(stp_8.GP.y[0:n_init]),stp_8.GP.y[n_init:(n_init+max_iter)]) \n",
        "\n",
        "regret_gp_8 = np.log(y_global_orig - gp_output_8)\n",
        "regret_stp_8 = np.log(y_global_orig - stp_output_8)\n",
        "\n",
        "simple_regret_gp_8 = min_max_array(regret_gp_8)\n",
        "simple_regret_stp_8 = min_max_array(regret_stp_8)\n",
        "\n",
        "min_simple_regret_gp_8 = min(simple_regret_gp_8)\n",
        "min_simple_regret_stp_8 = min(simple_regret_stp_8)\n",
        "\n",
        "min_simple_regret_gp_8, min_simple_regret_stp_8\n"
      ]
    },
    {
      "cell_type": "code",
      "execution_count": 60,
      "metadata": {
        "id": "iBuMpq59JLlO",
        "colab": {
          "base_uri": "https://localhost:8080/"
        },
        "outputId": "66fb4e25-cbba-4e66-a1ae-4d5ce4e35da0"
      },
      "outputs": [
        {
          "output_type": "execute_result",
          "data": {
            "text/plain": [
              "(2.5095642877834505, 2.9444339421709746)"
            ]
          },
          "metadata": {},
          "execution_count": 60
        }
      ],
      "source": [
        "### Simple regret minimisation: run number = 9\n",
        "\n",
        "gp_output_9 = np.append(np.max(gp_9.GP.y[0:n_init]),gp_9.GP.y[n_init:(n_init+max_iter)]) \n",
        "stp_output_9 = np.append(np.max(stp_9.GP.y[0:n_init]),stp_9.GP.y[n_init:(n_init+max_iter)]) \n",
        "\n",
        "regret_gp_9 = np.log(y_global_orig - gp_output_9)\n",
        "regret_stp_9 = np.log(y_global_orig - stp_output_9)\n",
        "\n",
        "simple_regret_gp_9 = min_max_array(regret_gp_9)\n",
        "simple_regret_stp_9 = min_max_array(regret_stp_9)\n",
        "\n",
        "min_simple_regret_gp_9 = min(simple_regret_gp_9)\n",
        "min_simple_regret_stp_9 = min(simple_regret_stp_9)\n",
        "\n",
        "min_simple_regret_gp_9, min_simple_regret_stp_9\n"
      ]
    },
    {
      "cell_type": "code",
      "execution_count": 61,
      "metadata": {
        "id": "MT-MYaKEJLlO",
        "colab": {
          "base_uri": "https://localhost:8080/"
        },
        "outputId": "bb0974a3-d8d9-46d6-8fb9-bda222a8f418"
      },
      "outputs": [
        {
          "output_type": "execute_result",
          "data": {
            "text/plain": [
              "(2.5237185784777605, 2.457976225274594)"
            ]
          },
          "metadata": {},
          "execution_count": 61
        }
      ],
      "source": [
        "### Simple regret minimisation: run number = 10\n",
        "\n",
        "gp_output_10 = np.append(np.max(gp_10.GP.y[0:n_init]),gp_10.GP.y[n_init:(n_init+max_iter)]) \n",
        "stp_output_10 = np.append(np.max(stp_10.GP.y[0:n_init]),stp_10.GP.y[n_init:(n_init+max_iter)]) \n",
        "\n",
        "regret_gp_10 = np.log(y_global_orig - gp_output_10)\n",
        "regret_stp_10 = np.log(y_global_orig - stp_output_10)\n",
        "\n",
        "simple_regret_gp_10 = min_max_array(regret_gp_10)\n",
        "simple_regret_stp_10 = min_max_array(regret_stp_10)\n",
        "\n",
        "min_simple_regret_gp_10 = min(simple_regret_gp_10)\n",
        "min_simple_regret_stp_10 = min(simple_regret_stp_10)\n",
        "\n",
        "min_simple_regret_gp_10, min_simple_regret_stp_10\n"
      ]
    },
    {
      "cell_type": "code",
      "execution_count": 62,
      "metadata": {
        "id": "JgXNMHBOJLlP",
        "colab": {
          "base_uri": "https://localhost:8080/"
        },
        "outputId": "0308483b-77cf-4e82-f58c-480bb8d013f6"
      },
      "outputs": [
        {
          "output_type": "execute_result",
          "data": {
            "text/plain": [
              "(2.3683499168354514, 1.128844790855939)"
            ]
          },
          "metadata": {},
          "execution_count": 62
        }
      ],
      "source": [
        "### Simple regret minimisation: run number = 11\n",
        "\n",
        "gp_output_11 = np.append(np.max(gp_11.GP.y[0:n_init]),gp_11.GP.y[n_init:(n_init+max_iter)]) \n",
        "stp_output_11 = np.append(np.max(stp_11.GP.y[0:n_init]),stp_11.GP.y[n_init:(n_init+max_iter)]) \n",
        "\n",
        "regret_gp_11 = np.log(y_global_orig - gp_output_11)\n",
        "regret_stp_11 = np.log(y_global_orig - stp_output_11)\n",
        "\n",
        "simple_regret_gp_11 = min_max_array(regret_gp_11)\n",
        "simple_regret_stp_11 = min_max_array(regret_stp_11)\n",
        "\n",
        "min_simple_regret_gp_11 = min(simple_regret_gp_11)\n",
        "min_simple_regret_stp_11 = min(simple_regret_stp_11)\n",
        "\n",
        "min_simple_regret_gp_11, min_simple_regret_stp_11\n"
      ]
    },
    {
      "cell_type": "code",
      "execution_count": 63,
      "metadata": {
        "id": "CNvnLAXOJLlQ",
        "colab": {
          "base_uri": "https://localhost:8080/"
        },
        "outputId": "b539fcc0-7442-466e-b0ee-65c636ca9cf5"
      },
      "outputs": [
        {
          "output_type": "execute_result",
          "data": {
            "text/plain": [
              "(2.1678901113576434, 2.1810004454410303)"
            ]
          },
          "metadata": {},
          "execution_count": 63
        }
      ],
      "source": [
        "### Simple regret minimisation: run number = 12\n",
        "\n",
        "gp_output_12 = np.append(np.max(gp_12.GP.y[0:n_init]),gp_12.GP.y[n_init:(n_init+max_iter)]) \n",
        "stp_output_12 = np.append(np.max(stp_12.GP.y[0:n_init]),stp_12.GP.y[n_init:(n_init+max_iter)]) \n",
        "\n",
        "regret_gp_12 = np.log(y_global_orig - gp_output_12)\n",
        "regret_stp_12 = np.log(y_global_orig - stp_output_12)\n",
        "\n",
        "simple_regret_gp_12 = min_max_array(regret_gp_12)\n",
        "simple_regret_stp_12 = min_max_array(regret_stp_12)\n",
        "\n",
        "min_simple_regret_gp_12 = min(simple_regret_gp_12)\n",
        "min_simple_regret_stp_12 = min(simple_regret_stp_12)\n",
        "\n",
        "min_simple_regret_gp_12, min_simple_regret_stp_12\n"
      ]
    },
    {
      "cell_type": "code",
      "execution_count": 64,
      "metadata": {
        "id": "LccPP2SJJLlQ",
        "colab": {
          "base_uri": "https://localhost:8080/"
        },
        "outputId": "05c1d2fe-409f-4b27-e9d2-05752a23438f"
      },
      "outputs": [
        {
          "output_type": "execute_result",
          "data": {
            "text/plain": [
              "(2.7635418830590415, 2.768965372244744)"
            ]
          },
          "metadata": {},
          "execution_count": 64
        }
      ],
      "source": [
        "### Simple regret minimisation: run number = 13\n",
        "\n",
        "gp_output_13 = np.append(np.max(gp_13.GP.y[0:n_init]),gp_13.GP.y[n_init:(n_init+max_iter)]) \n",
        "stp_output_13 = np.append(np.max(stp_13.GP.y[0:n_init]),stp_13.GP.y[n_init:(n_init+max_iter)]) \n",
        "\n",
        "regret_gp_13 = np.log(y_global_orig - gp_output_13)\n",
        "regret_stp_13 = np.log(y_global_orig - stp_output_13)\n",
        "\n",
        "simple_regret_gp_13 = min_max_array(regret_gp_13)\n",
        "simple_regret_stp_13 = min_max_array(regret_stp_13)\n",
        "\n",
        "min_simple_regret_gp_13 = min(simple_regret_gp_13)\n",
        "min_simple_regret_stp_13 = min(simple_regret_stp_13)\n",
        "\n",
        "min_simple_regret_gp_13, min_simple_regret_stp_13\n"
      ]
    },
    {
      "cell_type": "code",
      "execution_count": 65,
      "metadata": {
        "id": "OsCDbV_CJLlR",
        "colab": {
          "base_uri": "https://localhost:8080/"
        },
        "outputId": "5f8853a1-eafe-4f08-f9d7-c097022533fb"
      },
      "outputs": [
        {
          "output_type": "execute_result",
          "data": {
            "text/plain": [
              "(2.3440953566682032, 2.3440953566682032)"
            ]
          },
          "metadata": {},
          "execution_count": 65
        }
      ],
      "source": [
        "### Simple regret minimisation: run number = 14\n",
        "\n",
        "gp_output_14 = np.append(np.max(gp_14.GP.y[0:n_init]),gp_14.GP.y[n_init:(n_init+max_iter)]) \n",
        "stp_output_14 = np.append(np.max(stp_14.GP.y[0:n_init]),stp_14.GP.y[n_init:(n_init+max_iter)]) \n",
        "\n",
        "regret_gp_14 = np.log(y_global_orig - gp_output_14)\n",
        "regret_stp_14 = np.log(y_global_orig - stp_output_14)\n",
        "\n",
        "simple_regret_gp_14 = min_max_array(regret_gp_14)\n",
        "simple_regret_stp_14 = min_max_array(regret_stp_14)\n",
        "\n",
        "min_simple_regret_gp_14 = min(simple_regret_gp_14)\n",
        "min_simple_regret_stp_14 = min(simple_regret_stp_14)\n",
        "\n",
        "min_simple_regret_gp_14, min_simple_regret_stp_14\n"
      ]
    },
    {
      "cell_type": "code",
      "execution_count": 66,
      "metadata": {
        "id": "HVNGSKzNJLlR",
        "colab": {
          "base_uri": "https://localhost:8080/"
        },
        "outputId": "31eedba6-d88b-4918-d32b-ed84c4261906"
      },
      "outputs": [
        {
          "output_type": "execute_result",
          "data": {
            "text/plain": [
              "(2.078286539213237, 2.078286539213237)"
            ]
          },
          "metadata": {},
          "execution_count": 66
        }
      ],
      "source": [
        "### Simple regret minimisation: run number = 15\n",
        "\n",
        "gp_output_15 = np.append(np.max(gp_15.GP.y[0:n_init]),gp_15.GP.y[n_init:(n_init+max_iter)]) \n",
        "stp_output_15 = np.append(np.max(stp_15.GP.y[0:n_init]),stp_15.GP.y[n_init:(n_init+max_iter)]) \n",
        "\n",
        "regret_gp_15 = np.log(y_global_orig - gp_output_15)\n",
        "regret_stp_15 = np.log(y_global_orig - stp_output_15)\n",
        "\n",
        "simple_regret_gp_15 = min_max_array(regret_gp_15)\n",
        "simple_regret_stp_15 = min_max_array(regret_stp_15)\n",
        "\n",
        "min_simple_regret_gp_15 = min(simple_regret_gp_15)\n",
        "min_simple_regret_stp_15 = min(simple_regret_stp_15)\n",
        "\n",
        "min_simple_regret_gp_15, min_simple_regret_stp_15\n"
      ]
    },
    {
      "cell_type": "code",
      "execution_count": 67,
      "metadata": {
        "id": "vFT0-DcpJLlS",
        "colab": {
          "base_uri": "https://localhost:8080/"
        },
        "outputId": "0e8bc8f8-840b-42db-def8-1ff494bd426d"
      },
      "outputs": [
        {
          "output_type": "execute_result",
          "data": {
            "text/plain": [
              "(0.8663290345619504, 2.4756126826629825)"
            ]
          },
          "metadata": {},
          "execution_count": 67
        }
      ],
      "source": [
        "### Simple regret minimisation: run number = 16\n",
        "\n",
        "gp_output_16 = np.append(np.max(gp_16.GP.y[0:n_init]),gp_16.GP.y[n_init:(n_init+max_iter)]) \n",
        "stp_output_16 = np.append(np.max(stp_16.GP.y[0:n_init]),stp_16.GP.y[n_init:(n_init+max_iter)]) \n",
        "\n",
        "regret_gp_16 = np.log(y_global_orig - gp_output_16)\n",
        "regret_stp_16 = np.log(y_global_orig - stp_output_16)\n",
        "\n",
        "simple_regret_gp_16 = min_max_array(regret_gp_16)\n",
        "simple_regret_stp_16 = min_max_array(regret_stp_16)\n",
        "\n",
        "min_simple_regret_gp_16 = min(simple_regret_gp_16)\n",
        "min_simple_regret_stp_16 = min(simple_regret_stp_16)\n",
        "\n",
        "min_simple_regret_gp_16, min_simple_regret_stp_16\n"
      ]
    },
    {
      "cell_type": "code",
      "execution_count": 68,
      "metadata": {
        "id": "TPbl73U3JLlS",
        "colab": {
          "base_uri": "https://localhost:8080/"
        },
        "outputId": "3282f23c-e2de-4242-9c08-9ffa53550233"
      },
      "outputs": [
        {
          "output_type": "execute_result",
          "data": {
            "text/plain": [
              "(2.4323446591869313, 2.4760313087387247)"
            ]
          },
          "metadata": {},
          "execution_count": 68
        }
      ],
      "source": [
        "### Simple regret minimisation: run number = 17\n",
        "\n",
        "gp_output_17 = np.append(np.max(gp_17.GP.y[0:n_init]),gp_17.GP.y[n_init:(n_init+max_iter)]) \n",
        "stp_output_17 = np.append(np.max(stp_17.GP.y[0:n_init]),stp_17.GP.y[n_init:(n_init+max_iter)]) \n",
        "\n",
        "regret_gp_17 = np.log(y_global_orig - gp_output_17)\n",
        "regret_stp_17 = np.log(y_global_orig - stp_output_17)\n",
        "\n",
        "simple_regret_gp_17 = min_max_array(regret_gp_17)\n",
        "simple_regret_stp_17 = min_max_array(regret_stp_17)\n",
        "\n",
        "min_simple_regret_gp_17 = min(simple_regret_gp_17)\n",
        "min_simple_regret_stp_17 = min(simple_regret_stp_17)\n",
        "\n",
        "min_simple_regret_gp_17, min_simple_regret_stp_17\n"
      ]
    },
    {
      "cell_type": "code",
      "execution_count": 69,
      "metadata": {
        "id": "ANjpLP7uJLlT",
        "colab": {
          "base_uri": "https://localhost:8080/"
        },
        "outputId": "25d45531-826d-4a46-e2ac-951e4a37e17c"
      },
      "outputs": [
        {
          "output_type": "execute_result",
          "data": {
            "text/plain": [
              "(2.3566031586165064, 2.616549726845156)"
            ]
          },
          "metadata": {},
          "execution_count": 69
        }
      ],
      "source": [
        "### Simple regret minimisation: run number = 18\n",
        "\n",
        "gp_output_18 = np.append(np.max(gp_18.GP.y[0:n_init]),gp_18.GP.y[n_init:(n_init+max_iter)]) \n",
        "stp_output_18 = np.append(np.max(stp_18.GP.y[0:n_init]),stp_18.GP.y[n_init:(n_init+max_iter)]) \n",
        "\n",
        "regret_gp_18 = np.log(y_global_orig - gp_output_18)\n",
        "regret_stp_18 = np.log(y_global_orig - stp_output_18)\n",
        "\n",
        "simple_regret_gp_18 = min_max_array(regret_gp_18)\n",
        "simple_regret_stp_18 = min_max_array(regret_stp_18)\n",
        "\n",
        "min_simple_regret_gp_18 = min(simple_regret_gp_18)\n",
        "min_simple_regret_stp_18 = min(simple_regret_stp_18)\n",
        "\n",
        "min_simple_regret_gp_18, min_simple_regret_stp_18\n"
      ]
    },
    {
      "cell_type": "code",
      "execution_count": 70,
      "metadata": {
        "id": "yYy7bHMOJLlT",
        "colab": {
          "base_uri": "https://localhost:8080/"
        },
        "outputId": "f7baecb1-326c-42ad-aa1d-a755e4f5e0ea"
      },
      "outputs": [
        {
          "output_type": "execute_result",
          "data": {
            "text/plain": [
              "(2.9739752196029716, 2.607252282972476)"
            ]
          },
          "metadata": {},
          "execution_count": 70
        }
      ],
      "source": [
        "### Simple regret minimisation: run number = 19\n",
        "\n",
        "gp_output_19 = np.append(np.max(gp_19.GP.y[0:n_init]),gp_19.GP.y[n_init:(n_init+max_iter)]) \n",
        "stp_output_19 = np.append(np.max(stp_19.GP.y[0:n_init]),stp_19.GP.y[n_init:(n_init+max_iter)]) \n",
        "\n",
        "regret_gp_19 = np.log(y_global_orig - gp_output_19)\n",
        "regret_stp_19 = np.log(y_global_orig - stp_output_19)\n",
        "\n",
        "simple_regret_gp_19 = min_max_array(regret_gp_19)\n",
        "simple_regret_stp_19 = min_max_array(regret_stp_19)\n",
        "\n",
        "min_simple_regret_gp_19 = min(simple_regret_gp_19)\n",
        "min_simple_regret_stp_19 = min(simple_regret_stp_19)\n",
        "\n",
        "min_simple_regret_gp_19, min_simple_regret_stp_19\n"
      ]
    },
    {
      "cell_type": "code",
      "execution_count": 71,
      "metadata": {
        "id": "7h8DTQ7MJLlU",
        "colab": {
          "base_uri": "https://localhost:8080/"
        },
        "outputId": "9ceebeed-a2eb-4250-e517-0b0e441d0633"
      },
      "outputs": [
        {
          "output_type": "execute_result",
          "data": {
            "text/plain": [
              "(2.6591819823471052, 2.8558200718561926)"
            ]
          },
          "metadata": {},
          "execution_count": 71
        }
      ],
      "source": [
        "### Simple regret minimisation: run number = 20\n",
        "\n",
        "gp_output_20 = np.append(np.max(gp_20.GP.y[0:n_init]),gp_20.GP.y[n_init:(n_init+max_iter)]) \n",
        "stp_output_20 = np.append(np.max(stp_20.GP.y[0:n_init]),stp_20.GP.y[n_init:(n_init+max_iter)]) \n",
        "\n",
        "regret_gp_20 = np.log(y_global_orig - gp_output_20)\n",
        "regret_stp_20 = np.log(y_global_orig - stp_output_20)\n",
        "\n",
        "simple_regret_gp_20 = min_max_array(regret_gp_20)\n",
        "simple_regret_stp_20 = min_max_array(regret_stp_20)\n",
        "\n",
        "min_simple_regret_gp_20 = min(simple_regret_gp_20)\n",
        "min_simple_regret_stp_20 = min(simple_regret_stp_20)\n",
        "\n",
        "min_simple_regret_gp_20, min_simple_regret_stp_20\n"
      ]
    },
    {
      "cell_type": "code",
      "execution_count": 72,
      "metadata": {
        "id": "FuTVzVQkJLlU"
      },
      "outputs": [],
      "source": [
        "# Iteration1 :\n",
        "\n",
        "slice1 = 0\n",
        "\n",
        "gp1 = [simple_regret_gp_1[slice1],\n",
        "       simple_regret_gp_2[slice1],\n",
        "       simple_regret_gp_3[slice1],\n",
        "       simple_regret_gp_4[slice1],\n",
        "       simple_regret_gp_5[slice1],\n",
        "       simple_regret_gp_6[slice1],\n",
        "       simple_regret_gp_7[slice1],\n",
        "       simple_regret_gp_8[slice1],\n",
        "       simple_regret_gp_9[slice1],\n",
        "       simple_regret_gp_10[slice1],\n",
        "       simple_regret_gp_11[slice1],\n",
        "       simple_regret_gp_12[slice1],\n",
        "       simple_regret_gp_13[slice1],\n",
        "       simple_regret_gp_14[slice1],\n",
        "       simple_regret_gp_15[slice1],\n",
        "       simple_regret_gp_16[slice1],\n",
        "       simple_regret_gp_17[slice1],\n",
        "       simple_regret_gp_18[slice1],\n",
        "       simple_regret_gp_19[slice1],\n",
        "       simple_regret_gp_20[slice1]]\n",
        "\n",
        "stp1 = [simple_regret_stp_1[slice1],\n",
        "       simple_regret_stp_2[slice1],\n",
        "       simple_regret_stp_3[slice1],\n",
        "       simple_regret_stp_4[slice1],\n",
        "       simple_regret_stp_5[slice1],\n",
        "       simple_regret_stp_6[slice1],\n",
        "       simple_regret_stp_7[slice1],\n",
        "       simple_regret_stp_8[slice1],\n",
        "       simple_regret_stp_9[slice1],\n",
        "       simple_regret_stp_10[slice1],\n",
        "       simple_regret_stp_11[slice1],\n",
        "       simple_regret_stp_12[slice1],\n",
        "       simple_regret_stp_13[slice1],\n",
        "       simple_regret_stp_14[slice1],\n",
        "       simple_regret_stp_15[slice1],\n",
        "       simple_regret_stp_16[slice1],\n",
        "       simple_regret_stp_17[slice1],\n",
        "       simple_regret_stp_18[slice1],\n",
        "       simple_regret_stp_19[slice1],\n",
        "       simple_regret_stp_20[slice1]]\n",
        "\n",
        "gp1_results = pd.DataFrame(gp1).sort_values(by=[0], ascending=False)\n",
        "stp1_results = pd.DataFrame(stp1).sort_values(by=[0], ascending=False)\n",
        "\n",
        "### Best training regret minimization IQR - gp:\n",
        "lower_gp1 = np.asarray(gp1_results[4:5][0])[0]\n",
        "median_gp1 = np.asarray(gp1_results[9:10][0])[0]\n",
        "upper_gp1 = np.asarray(gp1_results[14:15][0])[0]\n",
        "\n",
        "lower_stp1 = np.asarray(stp1_results[4:5][0])[0]\n",
        "median_stp1 = np.asarray(stp1_results[9:10][0])[0]\n",
        "upper_stp1 = np.asarray(stp1_results[14:15][0])[0]\n"
      ]
    },
    {
      "cell_type": "code",
      "execution_count": 73,
      "metadata": {
        "id": "OCTtqlBHJLlV"
      },
      "outputs": [],
      "source": [
        "# Iteration11 :\n",
        "\n",
        "slice11 = 10\n",
        "\n",
        "gp11 = [simple_regret_gp_1[slice11],\n",
        "       simple_regret_gp_2[slice11],\n",
        "       simple_regret_gp_3[slice11],\n",
        "       simple_regret_gp_4[slice11],\n",
        "       simple_regret_gp_5[slice11],\n",
        "       simple_regret_gp_6[slice11],\n",
        "       simple_regret_gp_7[slice11],\n",
        "       simple_regret_gp_8[slice11],\n",
        "       simple_regret_gp_9[slice11],\n",
        "       simple_regret_gp_10[slice11],\n",
        "       simple_regret_gp_11[slice11],\n",
        "       simple_regret_gp_12[slice11],\n",
        "       simple_regret_gp_13[slice11],\n",
        "       simple_regret_gp_14[slice11],\n",
        "       simple_regret_gp_15[slice11],\n",
        "       simple_regret_gp_16[slice11],\n",
        "       simple_regret_gp_17[slice11],\n",
        "       simple_regret_gp_18[slice11],\n",
        "       simple_regret_gp_19[slice11],\n",
        "       simple_regret_gp_20[slice11]]\n",
        "\n",
        "stp11 = [simple_regret_stp_1[slice11],\n",
        "       simple_regret_stp_2[slice11],\n",
        "       simple_regret_stp_3[slice11],\n",
        "       simple_regret_stp_4[slice11],\n",
        "       simple_regret_stp_5[slice11],\n",
        "       simple_regret_stp_6[slice11],\n",
        "       simple_regret_stp_7[slice11],\n",
        "       simple_regret_stp_8[slice11],\n",
        "       simple_regret_stp_9[slice11],\n",
        "       simple_regret_stp_10[slice11],\n",
        "       simple_regret_stp_11[slice11],\n",
        "       simple_regret_stp_12[slice11],\n",
        "       simple_regret_stp_13[slice11],\n",
        "       simple_regret_stp_14[slice11],\n",
        "       simple_regret_stp_15[slice11],\n",
        "       simple_regret_stp_16[slice11],\n",
        "       simple_regret_stp_17[slice11],\n",
        "       simple_regret_stp_18[slice11],\n",
        "       simple_regret_stp_19[slice11],\n",
        "       simple_regret_stp_20[slice11]]\n",
        "\n",
        "gp11_results = pd.DataFrame(gp11).sort_values(by=[0], ascending=False)\n",
        "stp11_results = pd.DataFrame(stp11).sort_values(by=[0], ascending=False)\n",
        "\n",
        "### Best training regret minimization IQR - gp:\n",
        "lower_gp11 = np.asarray(gp11_results[4:5][0])[0]\n",
        "median_gp11 = np.asarray(gp11_results[9:10][0])[0]\n",
        "upper_gp11 = np.asarray(gp11_results[14:15][0])[0]\n",
        "\n",
        "lower_stp11 = np.asarray(stp11_results[4:5][0])[0]\n",
        "median_stp11 = np.asarray(stp11_results[9:10][0])[0]\n",
        "upper_stp11 = np.asarray(stp11_results[14:15][0])[0]\n"
      ]
    },
    {
      "cell_type": "code",
      "execution_count": 74,
      "metadata": {
        "id": "OhneK6K5JLlV"
      },
      "outputs": [],
      "source": [
        "# Iteration21 :\n",
        "\n",
        "slice21 = 20\n",
        "\n",
        "gp21 = [simple_regret_gp_1[slice21],\n",
        "       simple_regret_gp_2[slice21],\n",
        "       simple_regret_gp_3[slice21],\n",
        "       simple_regret_gp_4[slice21],\n",
        "       simple_regret_gp_5[slice21],\n",
        "       simple_regret_gp_6[slice21],\n",
        "       simple_regret_gp_7[slice21],\n",
        "       simple_regret_gp_8[slice21],\n",
        "       simple_regret_gp_9[slice21],\n",
        "       simple_regret_gp_10[slice21],\n",
        "       simple_regret_gp_11[slice21],\n",
        "       simple_regret_gp_12[slice21],\n",
        "       simple_regret_gp_13[slice21],\n",
        "       simple_regret_gp_14[slice21],\n",
        "       simple_regret_gp_15[slice21],\n",
        "       simple_regret_gp_16[slice21],\n",
        "       simple_regret_gp_17[slice21],\n",
        "       simple_regret_gp_18[slice21],\n",
        "       simple_regret_gp_19[slice21],\n",
        "       simple_regret_gp_20[slice21]]\n",
        "\n",
        "stp21 = [simple_regret_stp_1[slice21],\n",
        "       simple_regret_stp_2[slice21],\n",
        "       simple_regret_stp_3[slice21],\n",
        "       simple_regret_stp_4[slice21],\n",
        "       simple_regret_stp_5[slice21],\n",
        "       simple_regret_stp_6[slice21],\n",
        "       simple_regret_stp_7[slice21],\n",
        "       simple_regret_stp_8[slice21],\n",
        "       simple_regret_stp_9[slice21],\n",
        "       simple_regret_stp_10[slice21],\n",
        "       simple_regret_stp_11[slice21],\n",
        "       simple_regret_stp_12[slice21],\n",
        "       simple_regret_stp_13[slice21],\n",
        "       simple_regret_stp_14[slice21],\n",
        "       simple_regret_stp_15[slice21],\n",
        "       simple_regret_stp_16[slice21],\n",
        "       simple_regret_stp_17[slice21],\n",
        "       simple_regret_stp_18[slice21],\n",
        "       simple_regret_stp_19[slice21],\n",
        "       simple_regret_stp_20[slice21]]\n",
        "\n",
        "gp21_results = pd.DataFrame(gp21).sort_values(by=[0], ascending=False)\n",
        "stp21_results = pd.DataFrame(stp21).sort_values(by=[0], ascending=False)\n",
        "\n",
        "### Best training regret minimization IQR - gp:\n",
        "lower_gp21 = np.asarray(gp21_results[4:5][0])[0]\n",
        "median_gp21 = np.asarray(gp21_results[9:10][0])[0]\n",
        "upper_gp21 = np.asarray(gp21_results[14:15][0])[0]\n",
        "\n",
        "lower_stp21 = np.asarray(stp21_results[4:5][0])[0]\n",
        "median_stp21 = np.asarray(stp21_results[9:10][0])[0]\n",
        "upper_stp21 = np.asarray(stp21_results[14:15][0])[0]\n"
      ]
    },
    {
      "cell_type": "code",
      "execution_count": 75,
      "metadata": {
        "id": "wetKUCmLJLlb"
      },
      "outputs": [],
      "source": [
        "# Iteration2 :\n",
        "\n",
        "slice2 = 1\n",
        "\n",
        "gp2 = [simple_regret_gp_1[slice2],\n",
        "       simple_regret_gp_2[slice2],\n",
        "       simple_regret_gp_3[slice2],\n",
        "       simple_regret_gp_4[slice2],\n",
        "       simple_regret_gp_5[slice2],\n",
        "       simple_regret_gp_6[slice2],\n",
        "       simple_regret_gp_7[slice2],\n",
        "       simple_regret_gp_8[slice2],\n",
        "       simple_regret_gp_9[slice2],\n",
        "       simple_regret_gp_10[slice2],\n",
        "       simple_regret_gp_11[slice2],\n",
        "       simple_regret_gp_12[slice2],\n",
        "       simple_regret_gp_13[slice2],\n",
        "       simple_regret_gp_14[slice2],\n",
        "       simple_regret_gp_15[slice2],\n",
        "       simple_regret_gp_16[slice2],\n",
        "       simple_regret_gp_17[slice2],\n",
        "       simple_regret_gp_18[slice2],\n",
        "       simple_regret_gp_19[slice2],\n",
        "       simple_regret_gp_20[slice2]]\n",
        "\n",
        "stp2 = [simple_regret_stp_1[slice2],\n",
        "       simple_regret_stp_2[slice2],\n",
        "       simple_regret_stp_3[slice2],\n",
        "       simple_regret_stp_4[slice2],\n",
        "       simple_regret_stp_5[slice2],\n",
        "       simple_regret_stp_6[slice2],\n",
        "       simple_regret_stp_7[slice2],\n",
        "       simple_regret_stp_8[slice2],\n",
        "       simple_regret_stp_9[slice2],\n",
        "       simple_regret_stp_10[slice2],\n",
        "       simple_regret_stp_11[slice2],\n",
        "       simple_regret_stp_12[slice2],\n",
        "       simple_regret_stp_13[slice2],\n",
        "       simple_regret_stp_14[slice2],\n",
        "       simple_regret_stp_15[slice2],\n",
        "       simple_regret_stp_16[slice2],\n",
        "       simple_regret_stp_17[slice2],\n",
        "       simple_regret_stp_18[slice2],\n",
        "       simple_regret_stp_19[slice2],\n",
        "       simple_regret_stp_20[slice2]]\n",
        "\n",
        "gp2_results = pd.DataFrame(gp2).sort_values(by=[0], ascending=False)\n",
        "stp2_results = pd.DataFrame(stp2).sort_values(by=[0], ascending=False)\n",
        "\n",
        "### Best training regret minimization IQR - gp:\n",
        "lower_gp2 = np.asarray(gp2_results[4:5][0])[0]\n",
        "median_gp2 = np.asarray(gp2_results[9:10][0])[0]\n",
        "upper_gp2 = np.asarray(gp2_results[14:15][0])[0]\n",
        "\n",
        "lower_stp2 = np.asarray(stp2_results[4:5][0])[0]\n",
        "median_stp2 = np.asarray(stp2_results[9:10][0])[0]\n",
        "upper_stp2 = np.asarray(stp2_results[14:15][0])[0]\n"
      ]
    },
    {
      "cell_type": "code",
      "execution_count": 76,
      "metadata": {
        "id": "8dIyaTLKJLlc"
      },
      "outputs": [],
      "source": [
        "# Iteration12 :\n",
        "\n",
        "slice12 = 11\n",
        "\n",
        "gp12 = [simple_regret_gp_1[slice12],\n",
        "       simple_regret_gp_2[slice12],\n",
        "       simple_regret_gp_3[slice12],\n",
        "       simple_regret_gp_4[slice12],\n",
        "       simple_regret_gp_5[slice12],\n",
        "       simple_regret_gp_6[slice12],\n",
        "       simple_regret_gp_7[slice12],\n",
        "       simple_regret_gp_8[slice12],\n",
        "       simple_regret_gp_9[slice12],\n",
        "       simple_regret_gp_10[slice12],\n",
        "       simple_regret_gp_11[slice12],\n",
        "       simple_regret_gp_12[slice12],\n",
        "       simple_regret_gp_13[slice12],\n",
        "       simple_regret_gp_14[slice12],\n",
        "       simple_regret_gp_15[slice12],\n",
        "       simple_regret_gp_16[slice12],\n",
        "       simple_regret_gp_17[slice12],\n",
        "       simple_regret_gp_18[slice12],\n",
        "       simple_regret_gp_19[slice12],\n",
        "       simple_regret_gp_20[slice12]]\n",
        "\n",
        "stp12 = [simple_regret_stp_1[slice12],\n",
        "       simple_regret_stp_2[slice12],\n",
        "       simple_regret_stp_3[slice12],\n",
        "       simple_regret_stp_4[slice12],\n",
        "       simple_regret_stp_5[slice12],\n",
        "       simple_regret_stp_6[slice12],\n",
        "       simple_regret_stp_7[slice12],\n",
        "       simple_regret_stp_8[slice12],\n",
        "       simple_regret_stp_9[slice12],\n",
        "       simple_regret_stp_10[slice12],\n",
        "       simple_regret_stp_11[slice12],\n",
        "       simple_regret_stp_12[slice12],\n",
        "       simple_regret_stp_13[slice12],\n",
        "       simple_regret_stp_14[slice12],\n",
        "       simple_regret_stp_15[slice12],\n",
        "       simple_regret_stp_16[slice12],\n",
        "       simple_regret_stp_17[slice12],\n",
        "       simple_regret_stp_18[slice12],\n",
        "       simple_regret_stp_19[slice12],\n",
        "       simple_regret_stp_20[slice12]]\n",
        "\n",
        "gp12_results = pd.DataFrame(gp12).sort_values(by=[0], ascending=False)\n",
        "stp12_results = pd.DataFrame(stp12).sort_values(by=[0], ascending=False)\n",
        "\n",
        "### Best training regret minimization IQR - gp:\n",
        "lower_gp12 = np.asarray(gp12_results[4:5][0])[0]\n",
        "median_gp12 = np.asarray(gp12_results[9:10][0])[0]\n",
        "upper_gp12 = np.asarray(gp12_results[14:15][0])[0]\n",
        "\n",
        "lower_stp12 = np.asarray(stp12_results[4:5][0])[0]\n",
        "median_stp12 = np.asarray(stp12_results[9:10][0])[0]\n",
        "upper_stp12 = np.asarray(stp12_results[14:15][0])[0]\n"
      ]
    },
    {
      "cell_type": "code",
      "execution_count": 77,
      "metadata": {
        "id": "1_6u8LF1JLlt"
      },
      "outputs": [],
      "source": [
        "# Iteration3 :\n",
        "\n",
        "slice3 = 2\n",
        "\n",
        "gp3 = [simple_regret_gp_1[slice3],\n",
        "       simple_regret_gp_2[slice3],\n",
        "       simple_regret_gp_3[slice3],\n",
        "       simple_regret_gp_4[slice3],\n",
        "       simple_regret_gp_5[slice3],\n",
        "       simple_regret_gp_6[slice3],\n",
        "       simple_regret_gp_7[slice3],\n",
        "       simple_regret_gp_8[slice3],\n",
        "       simple_regret_gp_9[slice3],\n",
        "       simple_regret_gp_10[slice3],\n",
        "       simple_regret_gp_11[slice3],\n",
        "       simple_regret_gp_12[slice3],\n",
        "       simple_regret_gp_13[slice3],\n",
        "       simple_regret_gp_14[slice3],\n",
        "       simple_regret_gp_15[slice3],\n",
        "       simple_regret_gp_16[slice3],\n",
        "       simple_regret_gp_17[slice3],\n",
        "       simple_regret_gp_18[slice3],\n",
        "       simple_regret_gp_19[slice3],\n",
        "       simple_regret_gp_20[slice3]]\n",
        "\n",
        "stp3 = [simple_regret_stp_1[slice3],\n",
        "       simple_regret_stp_2[slice3],\n",
        "       simple_regret_stp_3[slice3],\n",
        "       simple_regret_stp_4[slice3],\n",
        "       simple_regret_stp_5[slice3],\n",
        "       simple_regret_stp_6[slice3],\n",
        "       simple_regret_stp_7[slice3],\n",
        "       simple_regret_stp_8[slice3],\n",
        "       simple_regret_stp_9[slice3],\n",
        "       simple_regret_stp_10[slice3],\n",
        "       simple_regret_stp_11[slice3],\n",
        "       simple_regret_stp_12[slice3],\n",
        "       simple_regret_stp_13[slice3],\n",
        "       simple_regret_stp_14[slice3],\n",
        "       simple_regret_stp_15[slice3],\n",
        "       simple_regret_stp_16[slice3],\n",
        "       simple_regret_stp_17[slice3],\n",
        "       simple_regret_stp_18[slice3],\n",
        "       simple_regret_stp_19[slice3],\n",
        "       simple_regret_stp_20[slice3]]\n",
        "\n",
        "gp3_results = pd.DataFrame(gp3).sort_values(by=[0], ascending=False)\n",
        "stp3_results = pd.DataFrame(stp3).sort_values(by=[0], ascending=False)\n",
        "\n",
        "### Best training regret minimization IQR - gp:\n",
        "lower_gp3 = np.asarray(gp3_results[4:5][0])[0]\n",
        "median_gp3 = np.asarray(gp3_results[9:10][0])[0]\n",
        "upper_gp3 = np.asarray(gp3_results[14:15][0])[0]\n",
        "\n",
        "lower_stp3 = np.asarray(stp3_results[4:5][0])[0]\n",
        "median_stp3 = np.asarray(stp3_results[9:10][0])[0]\n",
        "upper_stp3 = np.asarray(stp3_results[14:15][0])[0]\n"
      ]
    },
    {
      "cell_type": "code",
      "execution_count": 78,
      "metadata": {
        "id": "GGEAa73pJLlu"
      },
      "outputs": [],
      "source": [
        "# Iteration13 :\n",
        "\n",
        "slice13 = 12\n",
        "\n",
        "gp13 = [simple_regret_gp_1[slice13],\n",
        "       simple_regret_gp_2[slice13],\n",
        "       simple_regret_gp_3[slice13],\n",
        "       simple_regret_gp_4[slice13],\n",
        "       simple_regret_gp_5[slice13],\n",
        "       simple_regret_gp_6[slice13],\n",
        "       simple_regret_gp_7[slice13],\n",
        "       simple_regret_gp_8[slice13],\n",
        "       simple_regret_gp_9[slice13],\n",
        "       simple_regret_gp_10[slice13],\n",
        "       simple_regret_gp_11[slice13],\n",
        "       simple_regret_gp_12[slice13],\n",
        "       simple_regret_gp_13[slice13],\n",
        "       simple_regret_gp_14[slice13],\n",
        "       simple_regret_gp_15[slice13],\n",
        "       simple_regret_gp_16[slice13],\n",
        "       simple_regret_gp_17[slice13],\n",
        "       simple_regret_gp_18[slice13],\n",
        "       simple_regret_gp_19[slice13],\n",
        "       simple_regret_gp_20[slice13]]\n",
        "\n",
        "stp13 = [simple_regret_stp_1[slice13],\n",
        "       simple_regret_stp_2[slice13],\n",
        "       simple_regret_stp_3[slice13],\n",
        "       simple_regret_stp_4[slice13],\n",
        "       simple_regret_stp_5[slice13],\n",
        "       simple_regret_stp_6[slice13],\n",
        "       simple_regret_stp_7[slice13],\n",
        "       simple_regret_stp_8[slice13],\n",
        "       simple_regret_stp_9[slice13],\n",
        "       simple_regret_stp_10[slice13],\n",
        "       simple_regret_stp_11[slice13],\n",
        "       simple_regret_stp_12[slice13],\n",
        "       simple_regret_stp_13[slice13],\n",
        "       simple_regret_stp_14[slice13],\n",
        "       simple_regret_stp_15[slice13],\n",
        "       simple_regret_stp_16[slice13],\n",
        "       simple_regret_stp_17[slice13],\n",
        "       simple_regret_stp_18[slice13],\n",
        "       simple_regret_stp_19[slice13],\n",
        "       simple_regret_stp_20[slice13]]\n",
        "\n",
        "gp13_results = pd.DataFrame(gp12).sort_values(by=[0], ascending=False)\n",
        "stp13_results = pd.DataFrame(stp12).sort_values(by=[0], ascending=False)\n",
        "\n",
        "### Best training regret minimization IQR - gp:\n",
        "lower_gp13 = np.asarray(gp13_results[4:5][0])[0]\n",
        "median_gp13 = np.asarray(gp13_results[9:10][0])[0]\n",
        "upper_gp13 = np.asarray(gp13_results[14:15][0])[0]\n",
        "\n",
        "lower_stp13 = np.asarray(stp13_results[4:5][0])[0]\n",
        "median_stp13 = np.asarray(stp13_results[9:10][0])[0]\n",
        "upper_stp13 = np.asarray(stp13_results[14:15][0])[0]\n"
      ]
    },
    {
      "cell_type": "code",
      "execution_count": 79,
      "metadata": {
        "id": "T30xLxygJLl0"
      },
      "outputs": [],
      "source": [
        "# Iteration4 :\n",
        "\n",
        "slice4 = 3\n",
        "\n",
        "gp4 = [simple_regret_gp_1[slice4],\n",
        "       simple_regret_gp_2[slice4],\n",
        "       simple_regret_gp_3[slice4],\n",
        "       simple_regret_gp_4[slice4],\n",
        "       simple_regret_gp_5[slice4],\n",
        "       simple_regret_gp_6[slice4],\n",
        "       simple_regret_gp_7[slice4],\n",
        "       simple_regret_gp_8[slice4],\n",
        "       simple_regret_gp_9[slice4],\n",
        "       simple_regret_gp_10[slice4],\n",
        "       simple_regret_gp_11[slice4],\n",
        "       simple_regret_gp_12[slice4],\n",
        "       simple_regret_gp_13[slice4],\n",
        "       simple_regret_gp_14[slice4],\n",
        "       simple_regret_gp_15[slice4],\n",
        "       simple_regret_gp_16[slice4],\n",
        "       simple_regret_gp_17[slice4],\n",
        "       simple_regret_gp_18[slice4],\n",
        "       simple_regret_gp_19[slice4],\n",
        "       simple_regret_gp_20[slice4]]\n",
        "\n",
        "stp4 = [simple_regret_stp_1[slice4],\n",
        "       simple_regret_stp_2[slice4],\n",
        "       simple_regret_stp_3[slice4],\n",
        "       simple_regret_stp_4[slice4],\n",
        "       simple_regret_stp_5[slice4],\n",
        "       simple_regret_stp_6[slice4],\n",
        "       simple_regret_stp_7[slice4],\n",
        "       simple_regret_stp_8[slice4],\n",
        "       simple_regret_stp_9[slice4],\n",
        "       simple_regret_stp_10[slice4],\n",
        "       simple_regret_stp_11[slice4],\n",
        "       simple_regret_stp_12[slice4],\n",
        "       simple_regret_stp_13[slice4],\n",
        "       simple_regret_stp_14[slice4],\n",
        "       simple_regret_stp_15[slice4],\n",
        "       simple_regret_stp_16[slice4],\n",
        "       simple_regret_stp_17[slice4],\n",
        "       simple_regret_stp_18[slice4],\n",
        "       simple_regret_stp_19[slice4],\n",
        "       simple_regret_stp_20[slice4]]\n",
        "\n",
        "gp4_results = pd.DataFrame(gp4).sort_values(by=[0], ascending=False)\n",
        "stp4_results = pd.DataFrame(stp4).sort_values(by=[0], ascending=False)\n",
        "\n",
        "### Best training regret minimization IQR - gp:\n",
        "lower_gp4 = np.asarray(gp4_results[4:5][0])[0]\n",
        "median_gp4 = np.asarray(gp4_results[9:10][0])[0]\n",
        "upper_gp4 = np.asarray(gp4_results[14:15][0])[0]\n",
        "\n",
        "lower_stp4 = np.asarray(stp4_results[4:5][0])[0]\n",
        "median_stp4 = np.asarray(stp4_results[9:10][0])[0]\n",
        "upper_stp4 = np.asarray(stp4_results[14:15][0])[0]\n"
      ]
    },
    {
      "cell_type": "code",
      "execution_count": 80,
      "metadata": {
        "id": "MQ-jpNrnJLl1"
      },
      "outputs": [],
      "source": [
        "# Iteration14 :\n",
        "\n",
        "slice14 = 13\n",
        "\n",
        "gp14 = [simple_regret_gp_1[slice14],\n",
        "       simple_regret_gp_2[slice14],\n",
        "       simple_regret_gp_3[slice14],\n",
        "       simple_regret_gp_4[slice14],\n",
        "       simple_regret_gp_5[slice14],\n",
        "       simple_regret_gp_6[slice14],\n",
        "       simple_regret_gp_7[slice14],\n",
        "       simple_regret_gp_8[slice14],\n",
        "       simple_regret_gp_9[slice14],\n",
        "       simple_regret_gp_10[slice14],\n",
        "       simple_regret_gp_11[slice14],\n",
        "       simple_regret_gp_12[slice14],\n",
        "       simple_regret_gp_13[slice14],\n",
        "       simple_regret_gp_14[slice14],\n",
        "       simple_regret_gp_15[slice14],\n",
        "       simple_regret_gp_16[slice14],\n",
        "       simple_regret_gp_17[slice14],\n",
        "       simple_regret_gp_18[slice14],\n",
        "       simple_regret_gp_19[slice14],\n",
        "       simple_regret_gp_20[slice14]]\n",
        "\n",
        "stp14 = [simple_regret_stp_1[slice14],\n",
        "       simple_regret_stp_2[slice14],\n",
        "       simple_regret_stp_3[slice14],\n",
        "       simple_regret_stp_4[slice14],\n",
        "       simple_regret_stp_5[slice14],\n",
        "       simple_regret_stp_6[slice14],\n",
        "       simple_regret_stp_7[slice14],\n",
        "       simple_regret_stp_8[slice14],\n",
        "       simple_regret_stp_9[slice14],\n",
        "       simple_regret_stp_10[slice14],\n",
        "       simple_regret_stp_11[slice14],\n",
        "       simple_regret_stp_12[slice14],\n",
        "       simple_regret_stp_13[slice14],\n",
        "       simple_regret_stp_14[slice14],\n",
        "       simple_regret_stp_15[slice14],\n",
        "       simple_regret_stp_16[slice14],\n",
        "       simple_regret_stp_17[slice14],\n",
        "       simple_regret_stp_18[slice14],\n",
        "       simple_regret_stp_19[slice14],\n",
        "       simple_regret_stp_20[slice14]]\n",
        "\n",
        "gp14_results = pd.DataFrame(gp14).sort_values(by=[0], ascending=False)\n",
        "stp14_results = pd.DataFrame(stp14).sort_values(by=[0], ascending=False)\n",
        "\n",
        "### Best training regret minimization IQR - gp:\n",
        "lower_gp14 = np.asarray(gp14_results[4:5][0])[0]\n",
        "median_gp14 = np.asarray(gp14_results[9:10][0])[0]\n",
        "upper_gp14 = np.asarray(gp14_results[14:15][0])[0]\n",
        "\n",
        "lower_stp14 = np.asarray(stp14_results[4:5][0])[0]\n",
        "median_stp14 = np.asarray(stp14_results[9:10][0])[0]\n",
        "upper_stp14 = np.asarray(stp14_results[14:15][0])[0]\n"
      ]
    },
    {
      "cell_type": "code",
      "execution_count": 81,
      "metadata": {
        "id": "Xhy_AN9jJLl9"
      },
      "outputs": [],
      "source": [
        "# Iteration5 :\n",
        "\n",
        "slice5 = 4\n",
        "\n",
        "gp5 = [simple_regret_gp_1[slice5],\n",
        "       simple_regret_gp_2[slice5],\n",
        "       simple_regret_gp_3[slice5],\n",
        "       simple_regret_gp_4[slice5],\n",
        "       simple_regret_gp_5[slice5],\n",
        "       simple_regret_gp_6[slice5],\n",
        "       simple_regret_gp_7[slice5],\n",
        "       simple_regret_gp_8[slice5],\n",
        "       simple_regret_gp_9[slice5],\n",
        "       simple_regret_gp_10[slice5],\n",
        "       simple_regret_gp_11[slice5],\n",
        "       simple_regret_gp_12[slice5],\n",
        "       simple_regret_gp_13[slice5],\n",
        "       simple_regret_gp_14[slice5],\n",
        "       simple_regret_gp_15[slice5],\n",
        "       simple_regret_gp_16[slice5],\n",
        "       simple_regret_gp_17[slice5],\n",
        "       simple_regret_gp_18[slice5],\n",
        "       simple_regret_gp_19[slice5],\n",
        "       simple_regret_gp_20[slice5]]\n",
        "\n",
        "stp5 = [simple_regret_stp_1[slice5],\n",
        "       simple_regret_stp_2[slice5],\n",
        "       simple_regret_stp_3[slice5],\n",
        "       simple_regret_stp_4[slice5],\n",
        "       simple_regret_stp_5[slice5],\n",
        "       simple_regret_stp_6[slice5],\n",
        "       simple_regret_stp_7[slice5],\n",
        "       simple_regret_stp_8[slice5],\n",
        "       simple_regret_stp_9[slice5],\n",
        "       simple_regret_stp_10[slice5],\n",
        "       simple_regret_stp_11[slice5],\n",
        "       simple_regret_stp_12[slice5],\n",
        "       simple_regret_stp_13[slice5],\n",
        "       simple_regret_stp_14[slice5],\n",
        "       simple_regret_stp_15[slice5],\n",
        "       simple_regret_stp_16[slice5],\n",
        "       simple_regret_stp_17[slice5],\n",
        "       simple_regret_stp_18[slice5],\n",
        "       simple_regret_stp_19[slice5],\n",
        "       simple_regret_stp_20[slice5]]\n",
        "\n",
        "gp5_results = pd.DataFrame(gp5).sort_values(by=[0], ascending=False)\n",
        "stp5_results = pd.DataFrame(stp5).sort_values(by=[0], ascending=False)\n",
        "\n",
        "### Best training regret minimization IQR - gp:\n",
        "lower_gp5 = np.asarray(gp5_results[4:5][0])[0]\n",
        "median_gp5 = np.asarray(gp5_results[9:10][0])[0]\n",
        "upper_gp5 = np.asarray(gp5_results[14:15][0])[0]\n",
        "\n",
        "lower_stp5 = np.asarray(stp5_results[4:5][0])[0]\n",
        "median_stp5 = np.asarray(stp5_results[9:10][0])[0]\n",
        "upper_stp5 = np.asarray(stp5_results[14:15][0])[0]\n"
      ]
    },
    {
      "cell_type": "code",
      "execution_count": 82,
      "metadata": {
        "id": "WHbtLHnbJLl-"
      },
      "outputs": [],
      "source": [
        "# Iteration15 :\n",
        "\n",
        "slice15 = 14\n",
        "\n",
        "gp15 = [simple_regret_gp_1[slice15],\n",
        "       simple_regret_gp_2[slice15],\n",
        "       simple_regret_gp_3[slice15],\n",
        "       simple_regret_gp_4[slice15],\n",
        "       simple_regret_gp_5[slice15],\n",
        "       simple_regret_gp_6[slice15],\n",
        "       simple_regret_gp_7[slice15],\n",
        "       simple_regret_gp_8[slice15],\n",
        "       simple_regret_gp_9[slice15],\n",
        "       simple_regret_gp_10[slice15],\n",
        "       simple_regret_gp_11[slice15],\n",
        "       simple_regret_gp_12[slice15],\n",
        "       simple_regret_gp_13[slice15],\n",
        "       simple_regret_gp_14[slice15],\n",
        "       simple_regret_gp_15[slice15],\n",
        "       simple_regret_gp_16[slice15],\n",
        "       simple_regret_gp_17[slice15],\n",
        "       simple_regret_gp_18[slice15],\n",
        "       simple_regret_gp_19[slice15],\n",
        "       simple_regret_gp_20[slice15]]\n",
        "\n",
        "stp15 = [simple_regret_stp_1[slice15],\n",
        "       simple_regret_stp_2[slice15],\n",
        "       simple_regret_stp_3[slice15],\n",
        "       simple_regret_stp_4[slice15],\n",
        "       simple_regret_stp_5[slice15],\n",
        "       simple_regret_stp_6[slice15],\n",
        "       simple_regret_stp_7[slice15],\n",
        "       simple_regret_stp_8[slice15],\n",
        "       simple_regret_stp_9[slice15],\n",
        "       simple_regret_stp_10[slice15],\n",
        "       simple_regret_stp_11[slice15],\n",
        "       simple_regret_stp_12[slice15],\n",
        "       simple_regret_stp_13[slice15],\n",
        "       simple_regret_stp_14[slice15],\n",
        "       simple_regret_stp_15[slice15],\n",
        "       simple_regret_stp_16[slice15],\n",
        "       simple_regret_stp_17[slice15],\n",
        "       simple_regret_stp_18[slice15],\n",
        "       simple_regret_stp_19[slice15],\n",
        "       simple_regret_stp_20[slice15]]\n",
        "\n",
        "gp15_results = pd.DataFrame(gp15).sort_values(by=[0], ascending=False)\n",
        "stp15_results = pd.DataFrame(stp15).sort_values(by=[0], ascending=False)\n",
        "\n",
        "### Best training regret minimization IQR - gp:\n",
        "lower_gp15 = np.asarray(gp15_results[4:5][0])[0]\n",
        "median_gp15 = np.asarray(gp15_results[9:10][0])[0]\n",
        "upper_gp15 = np.asarray(gp15_results[14:15][0])[0]\n",
        "\n",
        "lower_stp15 = np.asarray(stp15_results[4:5][0])[0]\n",
        "median_stp15 = np.asarray(stp15_results[9:10][0])[0]\n",
        "upper_stp15 = np.asarray(stp15_results[14:15][0])[0]\n"
      ]
    },
    {
      "cell_type": "code",
      "execution_count": 83,
      "metadata": {
        "id": "XqsNyHzqJLmC"
      },
      "outputs": [],
      "source": [
        "# Iteration6 :\n",
        "\n",
        "slice6 = 5\n",
        "\n",
        "gp6 = [simple_regret_gp_1[slice6],\n",
        "       simple_regret_gp_2[slice6],\n",
        "       simple_regret_gp_3[slice6],\n",
        "       simple_regret_gp_4[slice6],\n",
        "       simple_regret_gp_5[slice6],\n",
        "       simple_regret_gp_6[slice6],\n",
        "       simple_regret_gp_7[slice6],\n",
        "       simple_regret_gp_8[slice6],\n",
        "       simple_regret_gp_9[slice6],\n",
        "       simple_regret_gp_10[slice6],\n",
        "       simple_regret_gp_11[slice6],\n",
        "       simple_regret_gp_12[slice6],\n",
        "       simple_regret_gp_13[slice6],\n",
        "       simple_regret_gp_14[slice6],\n",
        "       simple_regret_gp_15[slice6],\n",
        "       simple_regret_gp_16[slice6],\n",
        "       simple_regret_gp_17[slice6],\n",
        "       simple_regret_gp_18[slice6],\n",
        "       simple_regret_gp_19[slice6],\n",
        "       simple_regret_gp_20[slice6]]\n",
        "\n",
        "stp6 = [simple_regret_stp_1[slice6],\n",
        "       simple_regret_stp_2[slice6],\n",
        "       simple_regret_stp_3[slice6],\n",
        "       simple_regret_stp_4[slice6],\n",
        "       simple_regret_stp_5[slice6],\n",
        "       simple_regret_stp_6[slice6],\n",
        "       simple_regret_stp_7[slice6],\n",
        "       simple_regret_stp_8[slice6],\n",
        "       simple_regret_stp_9[slice6],\n",
        "       simple_regret_stp_10[slice6],\n",
        "       simple_regret_stp_11[slice6],\n",
        "       simple_regret_stp_12[slice6],\n",
        "       simple_regret_stp_13[slice6],\n",
        "       simple_regret_stp_14[slice6],\n",
        "       simple_regret_stp_15[slice6],\n",
        "       simple_regret_stp_16[slice6],\n",
        "       simple_regret_stp_17[slice6],\n",
        "       simple_regret_stp_18[slice6],\n",
        "       simple_regret_stp_19[slice6],\n",
        "       simple_regret_stp_20[slice6]]\n",
        "\n",
        "gp6_results = pd.DataFrame(gp6).sort_values(by=[0], ascending=False)\n",
        "stp6_results = pd.DataFrame(stp6).sort_values(by=[0], ascending=False)\n",
        "\n",
        "### Best training regret minimization IQR - gp:\n",
        "lower_gp6 = np.asarray(gp6_results[4:5][0])[0]\n",
        "median_gp6 = np.asarray(gp6_results[9:10][0])[0]\n",
        "upper_gp6 = np.asarray(gp6_results[14:15][0])[0]\n",
        "\n",
        "lower_stp6 = np.asarray(stp6_results[4:5][0])[0]\n",
        "median_stp6 = np.asarray(stp6_results[9:10][0])[0]\n",
        "upper_stp6 = np.asarray(stp6_results[14:15][0])[0]\n"
      ]
    },
    {
      "cell_type": "code",
      "execution_count": 84,
      "metadata": {
        "id": "V0-8P_clJLmD"
      },
      "outputs": [],
      "source": [
        "# Iteration16 :\n",
        "\n",
        "slice16 = 15\n",
        "\n",
        "gp16 = [simple_regret_gp_1[slice16],\n",
        "       simple_regret_gp_2[slice16],\n",
        "       simple_regret_gp_3[slice16],\n",
        "       simple_regret_gp_4[slice16],\n",
        "       simple_regret_gp_5[slice16],\n",
        "       simple_regret_gp_6[slice16],\n",
        "       simple_regret_gp_7[slice16],\n",
        "       simple_regret_gp_8[slice16],\n",
        "       simple_regret_gp_9[slice16],\n",
        "       simple_regret_gp_10[slice16],\n",
        "       simple_regret_gp_11[slice16],\n",
        "       simple_regret_gp_12[slice16],\n",
        "       simple_regret_gp_13[slice16],\n",
        "       simple_regret_gp_14[slice16],\n",
        "       simple_regret_gp_15[slice16],\n",
        "       simple_regret_gp_16[slice16],\n",
        "       simple_regret_gp_17[slice16],\n",
        "       simple_regret_gp_18[slice16],\n",
        "       simple_regret_gp_19[slice16],\n",
        "       simple_regret_gp_20[slice16]]\n",
        "\n",
        "stp16 = [simple_regret_stp_1[slice16],\n",
        "       simple_regret_stp_2[slice16],\n",
        "       simple_regret_stp_3[slice16],\n",
        "       simple_regret_stp_4[slice16],\n",
        "       simple_regret_stp_5[slice16],\n",
        "       simple_regret_stp_6[slice16],\n",
        "       simple_regret_stp_7[slice16],\n",
        "       simple_regret_stp_8[slice16],\n",
        "       simple_regret_stp_9[slice16],\n",
        "       simple_regret_stp_10[slice16],\n",
        "       simple_regret_stp_11[slice16],\n",
        "       simple_regret_stp_12[slice16],\n",
        "       simple_regret_stp_13[slice16],\n",
        "       simple_regret_stp_14[slice16],\n",
        "       simple_regret_stp_15[slice16],\n",
        "       simple_regret_stp_16[slice16],\n",
        "       simple_regret_stp_17[slice16],\n",
        "       simple_regret_stp_18[slice16],\n",
        "       simple_regret_stp_19[slice16],\n",
        "       simple_regret_stp_20[slice16]]\n",
        "\n",
        "gp16_results = pd.DataFrame(gp16).sort_values(by=[0], ascending=False)\n",
        "stp16_results = pd.DataFrame(stp16).sort_values(by=[0], ascending=False)\n",
        "\n",
        "### Best training regret minimization IQR - gp:\n",
        "lower_gp16 = np.asarray(gp16_results[4:5][0])[0]\n",
        "median_gp16 = np.asarray(gp16_results[9:10][0])[0]\n",
        "upper_gp16 = np.asarray(gp16_results[14:15][0])[0]\n",
        "\n",
        "lower_stp16 = np.asarray(stp16_results[4:5][0])[0]\n",
        "median_stp16 = np.asarray(stp16_results[9:10][0])[0]\n",
        "upper_stp16 = np.asarray(stp16_results[14:15][0])[0]\n"
      ]
    },
    {
      "cell_type": "code",
      "execution_count": 85,
      "metadata": {
        "id": "OcLUACB0JLmM"
      },
      "outputs": [],
      "source": [
        "# Iteration7 :\n",
        "\n",
        "slice7 = 6\n",
        "\n",
        "gp7 = [simple_regret_gp_1[slice7],\n",
        "       simple_regret_gp_2[slice7],\n",
        "       simple_regret_gp_3[slice7],\n",
        "       simple_regret_gp_4[slice7],\n",
        "       simple_regret_gp_5[slice7],\n",
        "       simple_regret_gp_6[slice7],\n",
        "       simple_regret_gp_7[slice7],\n",
        "       simple_regret_gp_8[slice7],\n",
        "       simple_regret_gp_9[slice7],\n",
        "       simple_regret_gp_10[slice7],\n",
        "       simple_regret_gp_11[slice7],\n",
        "       simple_regret_gp_12[slice7],\n",
        "       simple_regret_gp_13[slice7],\n",
        "       simple_regret_gp_14[slice7],\n",
        "       simple_regret_gp_15[slice7],\n",
        "       simple_regret_gp_16[slice7],\n",
        "       simple_regret_gp_17[slice7],\n",
        "       simple_regret_gp_18[slice7],\n",
        "       simple_regret_gp_19[slice7],\n",
        "       simple_regret_gp_20[slice7]]\n",
        "\n",
        "stp7 = [simple_regret_stp_1[slice7],\n",
        "       simple_regret_stp_2[slice7],\n",
        "       simple_regret_stp_3[slice7],\n",
        "       simple_regret_stp_4[slice7],\n",
        "       simple_regret_stp_5[slice7],\n",
        "       simple_regret_stp_6[slice7],\n",
        "       simple_regret_stp_7[slice7],\n",
        "       simple_regret_stp_8[slice7],\n",
        "       simple_regret_stp_9[slice7],\n",
        "       simple_regret_stp_10[slice7],\n",
        "       simple_regret_stp_11[slice7],\n",
        "       simple_regret_stp_12[slice7],\n",
        "       simple_regret_stp_13[slice7],\n",
        "       simple_regret_stp_14[slice7],\n",
        "       simple_regret_stp_15[slice7],\n",
        "       simple_regret_stp_16[slice7],\n",
        "       simple_regret_stp_17[slice7],\n",
        "       simple_regret_stp_18[slice7],\n",
        "       simple_regret_stp_19[slice7],\n",
        "       simple_regret_stp_20[slice7]]\n",
        "\n",
        "gp7_results = pd.DataFrame(gp7).sort_values(by=[0], ascending=False)\n",
        "stp7_results = pd.DataFrame(stp7).sort_values(by=[0], ascending=False)\n",
        "\n",
        "### Best training regret minimization IQR - gp:\n",
        "lower_gp7 = np.asarray(gp7_results[4:5][0])[0]\n",
        "median_gp7 = np.asarray(gp7_results[9:10][0])[0]\n",
        "upper_gp7 = np.asarray(gp7_results[14:15][0])[0]\n",
        "\n",
        "lower_stp7 = np.asarray(stp7_results[4:5][0])[0]\n",
        "median_stp7 = np.asarray(stp7_results[9:10][0])[0]\n",
        "upper_stp7 = np.asarray(stp7_results[14:15][0])[0]\n"
      ]
    },
    {
      "cell_type": "code",
      "execution_count": 86,
      "metadata": {
        "id": "q-Fd0t3kJLmN"
      },
      "outputs": [],
      "source": [
        "# Iteration17 :\n",
        "\n",
        "slice17 = 16\n",
        "\n",
        "gp17 = [simple_regret_gp_1[slice17],\n",
        "       simple_regret_gp_2[slice17],\n",
        "       simple_regret_gp_3[slice17],\n",
        "       simple_regret_gp_4[slice17],\n",
        "       simple_regret_gp_5[slice17],\n",
        "       simple_regret_gp_6[slice17],\n",
        "       simple_regret_gp_7[slice17],\n",
        "       simple_regret_gp_8[slice17],\n",
        "       simple_regret_gp_9[slice17],\n",
        "       simple_regret_gp_10[slice17],\n",
        "       simple_regret_gp_11[slice17],\n",
        "       simple_regret_gp_12[slice17],\n",
        "       simple_regret_gp_13[slice17],\n",
        "       simple_regret_gp_14[slice17],\n",
        "       simple_regret_gp_15[slice17],\n",
        "       simple_regret_gp_16[slice17],\n",
        "       simple_regret_gp_17[slice17],\n",
        "       simple_regret_gp_18[slice17],\n",
        "       simple_regret_gp_19[slice17],\n",
        "       simple_regret_gp_20[slice17]]\n",
        "\n",
        "stp17 = [simple_regret_stp_1[slice17],\n",
        "       simple_regret_stp_2[slice17],\n",
        "       simple_regret_stp_3[slice17],\n",
        "       simple_regret_stp_4[slice17],\n",
        "       simple_regret_stp_5[slice17],\n",
        "       simple_regret_stp_6[slice17],\n",
        "       simple_regret_stp_7[slice17],\n",
        "       simple_regret_stp_8[slice17],\n",
        "       simple_regret_stp_9[slice17],\n",
        "       simple_regret_stp_10[slice17],\n",
        "       simple_regret_stp_11[slice17],\n",
        "       simple_regret_stp_12[slice17],\n",
        "       simple_regret_stp_13[slice17],\n",
        "       simple_regret_stp_14[slice17],\n",
        "       simple_regret_stp_15[slice17],\n",
        "       simple_regret_stp_16[slice17],\n",
        "       simple_regret_stp_17[slice17],\n",
        "       simple_regret_stp_18[slice17],\n",
        "       simple_regret_stp_19[slice17],\n",
        "       simple_regret_stp_20[slice17]]\n",
        "\n",
        "gp17_results = pd.DataFrame(gp17).sort_values(by=[0], ascending=False)\n",
        "stp17_results = pd.DataFrame(stp17).sort_values(by=[0], ascending=False)\n",
        "\n",
        "### Best training regret minimization IQR - gp:\n",
        "lower_gp17 = np.asarray(gp17_results[4:5][0])[0]\n",
        "median_gp17 = np.asarray(gp17_results[9:10][0])[0]\n",
        "upper_gp17 = np.asarray(gp17_results[14:15][0])[0]\n",
        "\n",
        "lower_stp17 = np.asarray(stp17_results[4:5][0])[0]\n",
        "median_stp17 = np.asarray(stp17_results[9:10][0])[0]\n",
        "upper_stp17 = np.asarray(stp17_results[14:15][0])[0]\n"
      ]
    },
    {
      "cell_type": "code",
      "execution_count": 87,
      "metadata": {
        "id": "JueXVbnGJLmU"
      },
      "outputs": [],
      "source": [
        "# Iteration8 :\n",
        "\n",
        "slice8 = 7\n",
        "\n",
        "gp8 = [simple_regret_gp_1[slice8],\n",
        "       simple_regret_gp_2[slice8],\n",
        "       simple_regret_gp_3[slice8],\n",
        "       simple_regret_gp_4[slice8],\n",
        "       simple_regret_gp_5[slice8],\n",
        "       simple_regret_gp_6[slice8],\n",
        "       simple_regret_gp_7[slice8],\n",
        "       simple_regret_gp_8[slice8],\n",
        "       simple_regret_gp_9[slice8],\n",
        "       simple_regret_gp_10[slice8],\n",
        "       simple_regret_gp_11[slice8],\n",
        "       simple_regret_gp_12[slice8],\n",
        "       simple_regret_gp_13[slice8],\n",
        "       simple_regret_gp_14[slice8],\n",
        "       simple_regret_gp_15[slice8],\n",
        "       simple_regret_gp_16[slice8],\n",
        "       simple_regret_gp_17[slice8],\n",
        "       simple_regret_gp_18[slice8],\n",
        "       simple_regret_gp_19[slice8],\n",
        "       simple_regret_gp_20[slice8]]\n",
        "\n",
        "stp8 = [simple_regret_stp_1[slice8],\n",
        "       simple_regret_stp_2[slice8],\n",
        "       simple_regret_stp_3[slice8],\n",
        "       simple_regret_stp_4[slice8],\n",
        "       simple_regret_stp_5[slice8],\n",
        "       simple_regret_stp_6[slice8],\n",
        "       simple_regret_stp_7[slice8],\n",
        "       simple_regret_stp_8[slice8],\n",
        "       simple_regret_stp_9[slice8],\n",
        "       simple_regret_stp_10[slice8],\n",
        "       simple_regret_stp_11[slice8],\n",
        "       simple_regret_stp_12[slice8],\n",
        "       simple_regret_stp_13[slice8],\n",
        "       simple_regret_stp_14[slice8],\n",
        "       simple_regret_stp_15[slice8],\n",
        "       simple_regret_stp_16[slice8],\n",
        "       simple_regret_stp_17[slice8],\n",
        "       simple_regret_stp_18[slice8],\n",
        "       simple_regret_stp_19[slice8],\n",
        "       simple_regret_stp_20[slice8]]\n",
        "\n",
        "gp8_results = pd.DataFrame(gp8).sort_values(by=[0], ascending=False)\n",
        "stp8_results = pd.DataFrame(stp8).sort_values(by=[0], ascending=False)\n",
        "\n",
        "### Best training regret minimization IQR - gp:\n",
        "lower_gp8 = np.asarray(gp8_results[4:5][0])[0]\n",
        "median_gp8 = np.asarray(gp8_results[9:10][0])[0]\n",
        "upper_gp8 = np.asarray(gp8_results[14:15][0])[0]\n",
        "\n",
        "lower_stp8 = np.asarray(stp8_results[4:5][0])[0]\n",
        "median_stp8 = np.asarray(stp8_results[9:10][0])[0]\n",
        "upper_stp8 = np.asarray(stp8_results[14:15][0])[0]\n"
      ]
    },
    {
      "cell_type": "code",
      "execution_count": 88,
      "metadata": {
        "id": "mnFJ7maJJLmU"
      },
      "outputs": [],
      "source": [
        "# Iteration18 :\n",
        "\n",
        "slice18 = 17\n",
        "\n",
        "gp18 = [simple_regret_gp_1[slice18],\n",
        "       simple_regret_gp_2[slice18],\n",
        "       simple_regret_gp_3[slice18],\n",
        "       simple_regret_gp_4[slice18],\n",
        "       simple_regret_gp_5[slice18],\n",
        "       simple_regret_gp_6[slice18],\n",
        "       simple_regret_gp_7[slice18],\n",
        "       simple_regret_gp_8[slice18],\n",
        "       simple_regret_gp_9[slice18],\n",
        "       simple_regret_gp_10[slice18],\n",
        "       simple_regret_gp_11[slice18],\n",
        "       simple_regret_gp_12[slice18],\n",
        "       simple_regret_gp_13[slice18],\n",
        "       simple_regret_gp_14[slice18],\n",
        "       simple_regret_gp_15[slice18],\n",
        "       simple_regret_gp_16[slice18],\n",
        "       simple_regret_gp_17[slice18],\n",
        "       simple_regret_gp_18[slice18],\n",
        "       simple_regret_gp_19[slice18],\n",
        "       simple_regret_gp_20[slice18]]\n",
        "\n",
        "stp18 = [simple_regret_stp_1[slice18],\n",
        "       simple_regret_stp_2[slice18],\n",
        "       simple_regret_stp_3[slice18],\n",
        "       simple_regret_stp_4[slice18],\n",
        "       simple_regret_stp_5[slice18],\n",
        "       simple_regret_stp_6[slice18],\n",
        "       simple_regret_stp_7[slice18],\n",
        "       simple_regret_stp_8[slice18],\n",
        "       simple_regret_stp_9[slice18],\n",
        "       simple_regret_stp_10[slice18],\n",
        "       simple_regret_stp_11[slice18],\n",
        "       simple_regret_stp_12[slice18],\n",
        "       simple_regret_stp_13[slice18],\n",
        "       simple_regret_stp_14[slice18],\n",
        "       simple_regret_stp_15[slice18],\n",
        "       simple_regret_stp_16[slice18],\n",
        "       simple_regret_stp_17[slice18],\n",
        "       simple_regret_stp_18[slice18],\n",
        "       simple_regret_stp_19[slice18],\n",
        "       simple_regret_stp_20[slice18]]\n",
        "\n",
        "gp18_results = pd.DataFrame(gp18).sort_values(by=[0], ascending=False)\n",
        "stp18_results = pd.DataFrame(stp18).sort_values(by=[0], ascending=False)\n",
        "\n",
        "### Best training regret minimization IQR - gp:\n",
        "lower_gp18 = np.asarray(gp18_results[4:5][0])[0]\n",
        "median_gp18 = np.asarray(gp18_results[9:10][0])[0]\n",
        "upper_gp18 = np.asarray(gp18_results[14:15][0])[0]\n",
        "\n",
        "lower_stp18 = np.asarray(stp18_results[4:5][0])[0]\n",
        "median_stp18 = np.asarray(stp18_results[9:10][0])[0]\n",
        "upper_stp18 = np.asarray(stp18_results[14:15][0])[0]\n"
      ]
    },
    {
      "cell_type": "code",
      "execution_count": 89,
      "metadata": {
        "id": "ll-p_qWUJLmb"
      },
      "outputs": [],
      "source": [
        "# Iteration9 :\n",
        "\n",
        "slice9 = 8\n",
        "\n",
        "gp9 = [simple_regret_gp_1[slice9],\n",
        "       simple_regret_gp_2[slice9],\n",
        "       simple_regret_gp_3[slice9],\n",
        "       simple_regret_gp_4[slice9],\n",
        "       simple_regret_gp_5[slice9],\n",
        "       simple_regret_gp_6[slice9],\n",
        "       simple_regret_gp_7[slice9],\n",
        "       simple_regret_gp_8[slice9],\n",
        "       simple_regret_gp_9[slice9],\n",
        "       simple_regret_gp_10[slice9],\n",
        "       simple_regret_gp_11[slice9],\n",
        "       simple_regret_gp_12[slice9],\n",
        "       simple_regret_gp_13[slice9],\n",
        "       simple_regret_gp_14[slice9],\n",
        "       simple_regret_gp_15[slice9],\n",
        "       simple_regret_gp_16[slice9],\n",
        "       simple_regret_gp_17[slice9],\n",
        "       simple_regret_gp_18[slice9],\n",
        "       simple_regret_gp_19[slice9],\n",
        "       simple_regret_gp_20[slice9]]\n",
        "\n",
        "stp9 = [simple_regret_stp_1[slice9],\n",
        "       simple_regret_stp_2[slice9],\n",
        "       simple_regret_stp_3[slice9],\n",
        "       simple_regret_stp_4[slice9],\n",
        "       simple_regret_stp_5[slice9],\n",
        "       simple_regret_stp_6[slice9],\n",
        "       simple_regret_stp_7[slice9],\n",
        "       simple_regret_stp_8[slice9],\n",
        "       simple_regret_stp_9[slice9],\n",
        "       simple_regret_stp_10[slice9],\n",
        "       simple_regret_stp_11[slice9],\n",
        "       simple_regret_stp_12[slice9],\n",
        "       simple_regret_stp_13[slice9],\n",
        "       simple_regret_stp_14[slice9],\n",
        "       simple_regret_stp_15[slice9],\n",
        "       simple_regret_stp_16[slice9],\n",
        "       simple_regret_stp_17[slice9],\n",
        "       simple_regret_stp_18[slice9],\n",
        "       simple_regret_stp_19[slice9],\n",
        "       simple_regret_stp_20[slice9]]\n",
        "\n",
        "gp9_results = pd.DataFrame(gp9).sort_values(by=[0], ascending=False)\n",
        "stp9_results = pd.DataFrame(stp9).sort_values(by=[0], ascending=False)\n",
        "\n",
        "### Best training regret minimization IQR - gp:\n",
        "lower_gp9 = np.asarray(gp9_results[4:5][0])[0]\n",
        "median_gp9 = np.asarray(gp9_results[9:10][0])[0]\n",
        "upper_gp9 = np.asarray(gp9_results[14:15][0])[0]\n",
        "\n",
        "lower_stp9 = np.asarray(stp9_results[4:5][0])[0]\n",
        "median_stp9 = np.asarray(stp9_results[9:10][0])[0]\n",
        "upper_stp9 = np.asarray(stp9_results[14:15][0])[0]\n"
      ]
    },
    {
      "cell_type": "code",
      "execution_count": 90,
      "metadata": {
        "id": "G3QVtLpJJLmc"
      },
      "outputs": [],
      "source": [
        "# Iteration19 :\n",
        "\n",
        "slice19 = 18\n",
        "\n",
        "gp19 = [simple_regret_gp_1[slice19],\n",
        "       simple_regret_gp_2[slice19],\n",
        "       simple_regret_gp_3[slice19],\n",
        "       simple_regret_gp_4[slice19],\n",
        "       simple_regret_gp_5[slice19],\n",
        "       simple_regret_gp_6[slice19],\n",
        "       simple_regret_gp_7[slice19],\n",
        "       simple_regret_gp_8[slice19],\n",
        "       simple_regret_gp_9[slice19],\n",
        "       simple_regret_gp_10[slice19],\n",
        "       simple_regret_gp_11[slice19],\n",
        "       simple_regret_gp_12[slice19],\n",
        "       simple_regret_gp_13[slice19],\n",
        "       simple_regret_gp_14[slice19],\n",
        "       simple_regret_gp_15[slice19],\n",
        "       simple_regret_gp_16[slice19],\n",
        "       simple_regret_gp_17[slice19],\n",
        "       simple_regret_gp_18[slice19],\n",
        "       simple_regret_gp_19[slice19],\n",
        "       simple_regret_gp_20[slice19]]\n",
        "\n",
        "stp19 = [simple_regret_stp_1[slice19],\n",
        "       simple_regret_stp_2[slice19],\n",
        "       simple_regret_stp_3[slice19],\n",
        "       simple_regret_stp_4[slice19],\n",
        "       simple_regret_stp_5[slice19],\n",
        "       simple_regret_stp_6[slice19],\n",
        "       simple_regret_stp_7[slice19],\n",
        "       simple_regret_stp_8[slice19],\n",
        "       simple_regret_stp_9[slice19],\n",
        "       simple_regret_stp_10[slice19],\n",
        "       simple_regret_stp_11[slice19],\n",
        "       simple_regret_stp_12[slice19],\n",
        "       simple_regret_stp_13[slice19],\n",
        "       simple_regret_stp_14[slice19],\n",
        "       simple_regret_stp_15[slice19],\n",
        "       simple_regret_stp_16[slice19],\n",
        "       simple_regret_stp_17[slice19],\n",
        "       simple_regret_stp_18[slice19],\n",
        "       simple_regret_stp_19[slice19],\n",
        "       simple_regret_stp_20[slice19]]\n",
        "\n",
        "gp19_results = pd.DataFrame(gp19).sort_values(by=[0], ascending=False)\n",
        "stp19_results = pd.DataFrame(stp19).sort_values(by=[0], ascending=False)\n",
        "\n",
        "### Best training regret minimization IQR - gp:\n",
        "lower_gp19 = np.asarray(gp19_results[4:5][0])[0]\n",
        "median_gp19 = np.asarray(gp19_results[9:10][0])[0]\n",
        "upper_gp19 = np.asarray(gp19_results[14:15][0])[0]\n",
        "\n",
        "lower_stp19 = np.asarray(stp19_results[4:5][0])[0]\n",
        "median_stp19 = np.asarray(stp19_results[9:10][0])[0]\n",
        "upper_stp19 = np.asarray(stp19_results[14:15][0])[0]\n"
      ]
    },
    {
      "cell_type": "code",
      "execution_count": 91,
      "metadata": {
        "id": "IzQng-ULJLmj"
      },
      "outputs": [],
      "source": [
        "# Iteration10 :\n",
        "\n",
        "slice10 = 9\n",
        "\n",
        "gp10 = [simple_regret_gp_1[slice10],\n",
        "       simple_regret_gp_2[slice10],\n",
        "       simple_regret_gp_3[slice10],\n",
        "       simple_regret_gp_4[slice10],\n",
        "       simple_regret_gp_5[slice10],\n",
        "       simple_regret_gp_6[slice10],\n",
        "       simple_regret_gp_7[slice10],\n",
        "       simple_regret_gp_8[slice10],\n",
        "       simple_regret_gp_9[slice10],\n",
        "       simple_regret_gp_10[slice10],\n",
        "       simple_regret_gp_11[slice10],\n",
        "       simple_regret_gp_12[slice10],\n",
        "       simple_regret_gp_13[slice10],\n",
        "       simple_regret_gp_14[slice10],\n",
        "       simple_regret_gp_15[slice10],\n",
        "       simple_regret_gp_16[slice10],\n",
        "       simple_regret_gp_17[slice10],\n",
        "       simple_regret_gp_18[slice10],\n",
        "       simple_regret_gp_19[slice10],\n",
        "       simple_regret_gp_20[slice10]]\n",
        "\n",
        "stp10 = [simple_regret_stp_1[slice10],\n",
        "       simple_regret_stp_2[slice10],\n",
        "       simple_regret_stp_3[slice10],\n",
        "       simple_regret_stp_4[slice10],\n",
        "       simple_regret_stp_5[slice10],\n",
        "       simple_regret_stp_6[slice10],\n",
        "       simple_regret_stp_7[slice10],\n",
        "       simple_regret_stp_8[slice10],\n",
        "       simple_regret_stp_9[slice10],\n",
        "       simple_regret_stp_10[slice10],\n",
        "       simple_regret_stp_11[slice10],\n",
        "       simple_regret_stp_12[slice10],\n",
        "       simple_regret_stp_13[slice10],\n",
        "       simple_regret_stp_14[slice10],\n",
        "       simple_regret_stp_15[slice10],\n",
        "       simple_regret_stp_16[slice10],\n",
        "       simple_regret_stp_17[slice10],\n",
        "       simple_regret_stp_18[slice10],\n",
        "       simple_regret_stp_19[slice10],\n",
        "       simple_regret_stp_20[slice10]]\n",
        "\n",
        "gp10_results = pd.DataFrame(gp10).sort_values(by=[0], ascending=False)\n",
        "stp10_results = pd.DataFrame(stp10).sort_values(by=[0], ascending=False)\n",
        "\n",
        "### Best training regret minimization IQR - gp:\n",
        "lower_gp10 = np.asarray(gp10_results[4:5][0])[0]\n",
        "median_gp10 = np.asarray(gp10_results[9:10][0])[0]\n",
        "upper_gp10 = np.asarray(gp10_results[14:15][0])[0]\n",
        "\n",
        "lower_stp10 = np.asarray(stp10_results[4:5][0])[0]\n",
        "median_stp10 = np.asarray(stp10_results[9:10][0])[0]\n",
        "upper_stp10 = np.asarray(stp10_results[14:15][0])[0]\n"
      ]
    },
    {
      "cell_type": "code",
      "execution_count": 92,
      "metadata": {
        "id": "DQ_Cuh-4JLmk"
      },
      "outputs": [],
      "source": [
        "# Iteration20 :\n",
        "\n",
        "slice20 = 19\n",
        "\n",
        "gp20 = [simple_regret_gp_1[slice20],\n",
        "       simple_regret_gp_2[slice20],\n",
        "       simple_regret_gp_3[slice20],\n",
        "       simple_regret_gp_4[slice20],\n",
        "       simple_regret_gp_5[slice20],\n",
        "       simple_regret_gp_6[slice20],\n",
        "       simple_regret_gp_7[slice20],\n",
        "       simple_regret_gp_8[slice20],\n",
        "       simple_regret_gp_9[slice20],\n",
        "       simple_regret_gp_10[slice20],\n",
        "       simple_regret_gp_11[slice20],\n",
        "       simple_regret_gp_12[slice20],\n",
        "       simple_regret_gp_13[slice20],\n",
        "       simple_regret_gp_14[slice20],\n",
        "       simple_regret_gp_15[slice20],\n",
        "       simple_regret_gp_16[slice20],\n",
        "       simple_regret_gp_17[slice20],\n",
        "       simple_regret_gp_18[slice20],\n",
        "       simple_regret_gp_19[slice20],\n",
        "       simple_regret_gp_20[slice20]]\n",
        "\n",
        "stp20 = [simple_regret_stp_1[slice20],\n",
        "       simple_regret_stp_2[slice20],\n",
        "       simple_regret_stp_3[slice20],\n",
        "       simple_regret_stp_4[slice20],\n",
        "       simple_regret_stp_5[slice20],\n",
        "       simple_regret_stp_6[slice20],\n",
        "       simple_regret_stp_7[slice20],\n",
        "       simple_regret_stp_8[slice20],\n",
        "       simple_regret_stp_9[slice20],\n",
        "       simple_regret_stp_10[slice20],\n",
        "       simple_regret_stp_11[slice20],\n",
        "       simple_regret_stp_12[slice20],\n",
        "       simple_regret_stp_13[slice20],\n",
        "       simple_regret_stp_14[slice20],\n",
        "       simple_regret_stp_15[slice20],\n",
        "       simple_regret_stp_16[slice20],\n",
        "       simple_regret_stp_17[slice20],\n",
        "       simple_regret_stp_18[slice20],\n",
        "       simple_regret_stp_19[slice20],\n",
        "       simple_regret_stp_20[slice20]]\n",
        "\n",
        "gp20_results = pd.DataFrame(gp20).sort_values(by=[0], ascending=False)\n",
        "stp20_results = pd.DataFrame(stp20).sort_values(by=[0], ascending=False)\n",
        "\n",
        "### Best training regret minimization IQR - gp:\n",
        "lower_gp20 = np.asarray(gp20_results[4:5][0])[0]\n",
        "median_gp20 = np.asarray(gp20_results[9:10][0])[0]\n",
        "upper_gp20 = np.asarray(gp20_results[14:15][0])[0]\n",
        "\n",
        "lower_stp20 = np.asarray(stp20_results[4:5][0])[0]\n",
        "median_stp20 = np.asarray(stp20_results[9:10][0])[0]\n",
        "upper_stp20 = np.asarray(stp20_results[14:15][0])[0]\n"
      ]
    },
    {
      "cell_type": "code",
      "execution_count": 93,
      "metadata": {
        "id": "R1gk3HGTJLms"
      },
      "outputs": [],
      "source": [
        "### Summarise arrays: 'GP'\n",
        "\n",
        "lower_gp = [lower_gp1,\n",
        "            lower_gp2,\n",
        "            lower_gp3,\n",
        "            lower_gp4,\n",
        "            lower_gp5,\n",
        "            lower_gp6,\n",
        "            lower_gp7,\n",
        "            lower_gp8,\n",
        "            lower_gp9,\n",
        "            lower_gp10,\n",
        "            lower_gp11,\n",
        "            lower_gp12,\n",
        "            lower_gp13,\n",
        "            lower_gp14,\n",
        "            lower_gp15,\n",
        "            lower_gp16,\n",
        "            lower_gp17,\n",
        "            lower_gp18,\n",
        "            lower_gp19,\n",
        "            lower_gp20,\n",
        "            lower_gp21]\n",
        "\n",
        "median_gp = [median_gp1,\n",
        "            median_gp2,\n",
        "            median_gp3,\n",
        "            median_gp4,\n",
        "            median_gp5,\n",
        "            median_gp6,\n",
        "            median_gp7,\n",
        "            median_gp8,\n",
        "            median_gp9,\n",
        "            median_gp10,\n",
        "            median_gp11,\n",
        "            median_gp12,\n",
        "            median_gp13,\n",
        "            median_gp14,\n",
        "            median_gp15,\n",
        "            median_gp16,\n",
        "            median_gp17,\n",
        "            median_gp18,\n",
        "            median_gp19,\n",
        "            median_gp20,\n",
        "            median_gp21]\n",
        "\n",
        "upper_gp = [upper_gp1,\n",
        "            upper_gp2,\n",
        "            upper_gp3,\n",
        "            upper_gp4,\n",
        "            upper_gp5,\n",
        "            upper_gp6,\n",
        "            upper_gp7,\n",
        "            upper_gp8,\n",
        "            upper_gp9,\n",
        "            upper_gp10,\n",
        "            upper_gp11,\n",
        "            upper_gp12,\n",
        "            upper_gp13,\n",
        "            upper_gp14,\n",
        "            upper_gp15,\n",
        "            upper_gp16,\n",
        "            upper_gp17,\n",
        "            upper_gp18,\n",
        "            upper_gp19,\n",
        "            upper_gp20,\n",
        "            upper_gp21]\n"
      ]
    },
    {
      "cell_type": "code",
      "execution_count": 94,
      "metadata": {
        "id": "jox8uqaeJLmu"
      },
      "outputs": [],
      "source": [
        "### Summarise arrays: 'STP'\n",
        "\n",
        "lower_stp = [lower_stp1,\n",
        "            lower_stp2,\n",
        "            lower_stp3,\n",
        "            lower_stp4,\n",
        "            lower_stp5,\n",
        "            lower_stp6,\n",
        "            lower_stp7,\n",
        "            lower_stp8,\n",
        "            lower_stp9,\n",
        "            lower_stp10,\n",
        "            lower_stp11,\n",
        "            lower_stp12,\n",
        "            lower_stp13,\n",
        "            lower_stp14,\n",
        "            lower_stp15,\n",
        "            lower_stp16,\n",
        "            lower_stp17,\n",
        "            lower_stp18,\n",
        "            lower_stp19,\n",
        "            lower_stp20,\n",
        "            lower_stp21]\n",
        "\n",
        "median_stp = [median_stp1,\n",
        "            median_stp2,\n",
        "            median_stp3,\n",
        "            median_stp4,\n",
        "            median_stp5,\n",
        "            median_stp6,\n",
        "            median_stp7,\n",
        "            median_stp8,\n",
        "            median_stp9,\n",
        "            median_stp10,\n",
        "            median_stp11,\n",
        "            median_stp12,\n",
        "            median_stp13,\n",
        "            median_stp14,\n",
        "            median_stp15,\n",
        "            median_stp16,\n",
        "            median_stp17,\n",
        "            median_stp18,\n",
        "            median_stp19,\n",
        "            median_stp20,\n",
        "            median_stp21]\n",
        "\n",
        "upper_stp = [upper_stp1,\n",
        "            upper_stp2,\n",
        "            upper_stp3,\n",
        "            upper_stp4,\n",
        "            upper_stp5,\n",
        "            upper_stp6,\n",
        "            upper_stp7,\n",
        "            upper_stp8,\n",
        "            upper_stp9,\n",
        "            upper_stp10,\n",
        "            upper_stp11,\n",
        "            upper_stp12,\n",
        "            upper_stp13,\n",
        "            upper_stp14,\n",
        "            upper_stp15,\n",
        "            upper_stp16,\n",
        "            upper_stp17,\n",
        "            upper_stp18,\n",
        "            upper_stp19,\n",
        "            upper_stp20,\n",
        "            upper_stp21]\n"
      ]
    },
    {
      "cell_type": "code",
      "execution_count": 95,
      "metadata": {
        "id": "W4hkYeeMJLmw",
        "colab": {
          "base_uri": "https://localhost:8080/",
          "height": 299
        },
        "outputId": "193570d0-22df-4174-8f26-489748e600df"
      },
      "outputs": [
        {
          "output_type": "display_data",
          "data": {
            "text/plain": [
              "<Figure size 432x288 with 1 Axes>"
            ],
            "image/png": "[encoded data removed]"
          },
          "metadata": {
            "needs_background": "light"
          }
        }
      ],
      "source": [
        "### Visualise!\n",
        "\n",
        "title = obj_func\n",
        "\n",
        "plt.figure()\n",
        "\n",
        "plt.plot(median_gp, color = 'yellow')\n",
        "plt.plot(median_stp, color = 'green')\n",
        "\n",
        "xstar = np.arange(0, max_iter+1, step=1)\n",
        "plt.fill_between(xstar, lower_gp, upper_gp, facecolor = 'yellow', alpha=0.4, label='GP CBM Regret: IQR')\n",
        "plt.fill_between(xstar, lower_stp, upper_stp, facecolor = 'green', alpha=0.4, label='STP CBM Regret: IQR ' r'($\\nu$' ' = {})'.format(df))\n",
        "\n",
        "plt.title(title, weight = 'bold')\n",
        "plt.xlabel('(Post-initialisation) iteration $\\it{k}$', weight = 'bold') # x-axis label\n",
        "plt.ylabel('log(Regret)', weight = 'bold') # y-axis label\n",
        "plt.legend(loc=0) # add plot legend\n",
        "\n",
        "### Make the x-ticks integers, not floats:\n",
        "count = len(xstar)\n",
        "plt.xticks(np.arange(count), np.arange(0, count))\n",
        "plt.show() #visualise!\n"
      ]
    },
    {
      "cell_type": "code",
      "execution_count": 95,
      "metadata": {
        "id": "5TOZMC49JLmw"
      },
      "outputs": [],
      "source": []
    }
  ],
  "metadata": {
    "kernelspec": {
      "display_name": "Python 3",
      "language": "python",
      "name": "python3"
    },
    "language_info": {
      "codemirror_mode": {
        "name": "ipython",
        "version": 3
      },
      "file_extension": ".py",
      "mimetype": "text/x-python",
      "name": "python",
      "nbconvert_exporter": "python",
      "pygments_lexer": "ipython3",
      "version": "3.6.5"
    },
    "colab": {
      "provenance": [],
      "collapsed_sections": []
    }
  },
  "nbformat": 4,
  "nbformat_minor": 0
}