{
  "cells": [
    {
      "cell_type": "markdown",
      "metadata": {
        "id": "OrYfJFnSJLkS"
      },
      "source": [
        "Rosenbrock synthetic function:\n",
        "\n",
        "GP CBM versus STP nu = 3 CBM (winner)\n",
        "\n",
        "https://www.sfu.ca/~ssurjano/rosen.html"
      ]
    },
    {
      "cell_type": "code",
      "source": [
        "pip install pyGPGO\n"
      ],
      "metadata": {
        "colab": {
          "base_uri": "https://localhost:8080/"
        },
        "id": "2FgAmLMpOX3c",
        "outputId": "488e99d3-4d5a-4938-cffb-22b26363b65b"
      },
      "execution_count": 1,
      "outputs": [
        {
          "output_type": "stream",
          "name": "stdout",
          "text": [
            "Looking in indexes: https://pypi.org/simple, https://us-python.pkg.dev/colab-wheels/public/simple/\n",
            "Collecting pyGPGO\n",
            "  Downloading pyGPGO-0.5.1.tar.gz (14 kB)\n",
            "Requirement already satisfied: numpy in /usr/local/lib/python3.7/dist-packages (from pyGPGO) (1.21.6)\n",
            "Requirement already satisfied: mkl in /usr/local/lib/python3.7/dist-packages (from pyGPGO) (2019.0)\n",
            "Requirement already satisfied: scipy in /usr/local/lib/python3.7/dist-packages (from pyGPGO) (1.7.3)\n",
            "Requirement already satisfied: joblib in /usr/local/lib/python3.7/dist-packages (from pyGPGO) (1.2.0)\n",
            "Requirement already satisfied: scikit-learn in /usr/local/lib/python3.7/dist-packages (from pyGPGO) (1.0.2)\n",
            "Collecting Theano-PyMC\n",
            "  Downloading Theano-PyMC-1.1.2.tar.gz (1.8 MB)\n",
            "\u001b[K     |████████████████████████████████| 1.8 MB 4.6 MB/s \n",
            "\u001b[?25hCollecting pyMC3\n",
            "  Downloading pymc3-3.11.5-py3-none-any.whl (872 kB)\n",
            "\u001b[K     |████████████████████████████████| 872 kB 51.9 MB/s \n",
            "\u001b[?25hRequirement already satisfied: intel-openmp in /usr/local/lib/python3.7/dist-packages (from mkl->pyGPGO) (2022.2.0)\n",
            "Requirement already satisfied: dill in /usr/local/lib/python3.7/dist-packages (from pyMC3->pyGPGO) (0.3.6)\n",
            "Collecting semver>=2.13.0\n",
            "  Downloading semver-2.13.0-py2.py3-none-any.whl (12 kB)\n",
            "Requirement already satisfied: typing-extensions>=3.7.4 in /usr/local/lib/python3.7/dist-packages (from pyMC3->pyGPGO) (4.1.1)\n",
            "Requirement already satisfied: patsy>=0.5.1 in /usr/local/lib/python3.7/dist-packages (from pyMC3->pyGPGO) (0.5.3)\n",
            "Collecting deprecat\n",
            "  Downloading deprecat-2.1.1-py2.py3-none-any.whl (9.8 kB)\n",
            "Requirement already satisfied: pandas>=0.24.0 in /usr/local/lib/python3.7/dist-packages (from pyMC3->pyGPGO) (1.3.5)\n",
            "Requirement already satisfied: arviz>=0.11.0 in /usr/local/lib/python3.7/dist-packages (from pyMC3->pyGPGO) (0.12.1)\n",
            "Requirement already satisfied: fastprogress>=0.2.0 in /usr/local/lib/python3.7/dist-packages (from pyMC3->pyGPGO) (1.0.3)\n",
            "Requirement already satisfied: cachetools>=4.2.1 in /usr/local/lib/python3.7/dist-packages (from pyMC3->pyGPGO) (4.2.4)\n",
            "Requirement already satisfied: filelock in /usr/local/lib/python3.7/dist-packages (from Theano-PyMC->pyGPGO) (3.8.0)\n",
            "Requirement already satisfied: netcdf4 in /usr/local/lib/python3.7/dist-packages (from arviz>=0.11.0->pyMC3->pyGPGO) (1.6.1)\n",
            "Requirement already satisfied: setuptools>=38.4 in /usr/local/lib/python3.7/dist-packages (from arviz>=0.11.0->pyMC3->pyGPGO) (57.4.0)\n",
            "Requirement already satisfied: packaging in /usr/local/lib/python3.7/dist-packages (from arviz>=0.11.0->pyMC3->pyGPGO) (21.3)\n",
            "Requirement already satisfied: xarray>=0.16.1 in /usr/local/lib/python3.7/dist-packages (from arviz>=0.11.0->pyMC3->pyGPGO) (0.20.2)\n",
            "Requirement already satisfied: xarray-einstats>=0.2 in /usr/local/lib/python3.7/dist-packages (from arviz>=0.11.0->pyMC3->pyGPGO) (0.2.2)\n",
            "Requirement already satisfied: matplotlib>=3.0 in /usr/local/lib/python3.7/dist-packages (from arviz>=0.11.0->pyMC3->pyGPGO) (3.2.2)\n",
            "Requirement already satisfied: cycler>=0.10 in /usr/local/lib/python3.7/dist-packages (from matplotlib>=3.0->arviz>=0.11.0->pyMC3->pyGPGO) (0.11.0)\n",
            "Requirement already satisfied: kiwisolver>=1.0.1 in /usr/local/lib/python3.7/dist-packages (from matplotlib>=3.0->arviz>=0.11.0->pyMC3->pyGPGO) (1.4.4)\n",
            "Requirement already satisfied: pyparsing!=2.0.4,!=2.1.2,!=2.1.6,>=2.0.1 in /usr/local/lib/python3.7/dist-packages (from matplotlib>=3.0->arviz>=0.11.0->pyMC3->pyGPGO) (3.0.9)\n",
            "Requirement already satisfied: python-dateutil>=2.1 in /usr/local/lib/python3.7/dist-packages (from matplotlib>=3.0->arviz>=0.11.0->pyMC3->pyGPGO) (2.8.2)\n",
            "Requirement already satisfied: pytz>=2017.3 in /usr/local/lib/python3.7/dist-packages (from pandas>=0.24.0->pyMC3->pyGPGO) (2022.6)\n",
            "Requirement already satisfied: six in /usr/local/lib/python3.7/dist-packages (from patsy>=0.5.1->pyMC3->pyGPGO) (1.15.0)\n",
            "Requirement already satisfied: importlib-metadata in /usr/local/lib/python3.7/dist-packages (from xarray>=0.16.1->arviz>=0.11.0->pyMC3->pyGPGO) (4.13.0)\n",
            "Requirement already satisfied: wrapt<2,>=1.10 in /usr/local/lib/python3.7/dist-packages (from deprecat->pyMC3->pyGPGO) (1.14.1)\n",
            "Requirement already satisfied: zipp>=0.5 in /usr/local/lib/python3.7/dist-packages (from importlib-metadata->xarray>=0.16.1->arviz>=0.11.0->pyMC3->pyGPGO) (3.10.0)\n",
            "Requirement already satisfied: cftime in /usr/local/lib/python3.7/dist-packages (from netcdf4->arviz>=0.11.0->pyMC3->pyGPGO) (1.6.2)\n",
            "Requirement already satisfied: threadpoolctl>=2.0.0 in /usr/local/lib/python3.7/dist-packages (from scikit-learn->pyGPGO) (3.1.0)\n",
            "Building wheels for collected packages: pyGPGO, Theano-PyMC\n",
            "  Building wheel for pyGPGO (setup.py) ... \u001b[?25l\u001b[?25hdone\n",
            "  Created wheel for pyGPGO: filename=pyGPGO-0.5.1-py3-none-any.whl size=19879 sha256=bc7fec7a8df6bd5a6912f08674d87aa514bb35ec00f8fb24b931a02eb78c639d\n",
            "  Stored in directory: /root/.cache/pip/wheels/c8/5d/0b/2160114e2f1b87791c51b66cf07f89831dbb6f49167950316f\n",
            "  Building wheel for Theano-PyMC (setup.py) ... \u001b[?25l\u001b[?25hdone\n",
            "  Created wheel for Theano-PyMC: filename=Theano_PyMC-1.1.2-py3-none-any.whl size=1529963 sha256=7024f0dc8492148231adf04a97f685a0c75626e21c98c2e4f46456332e963550\n",
            "  Stored in directory: /root/.cache/pip/wheels/f3/af/8c/5dd7553522d74c52a7813806fc7ee1a9caa20a3f7c8fd850d5\n",
            "Successfully built pyGPGO Theano-PyMC\n",
            "Installing collected packages: Theano-PyMC, semver, deprecat, pyMC3, pyGPGO\n",
            "Successfully installed Theano-PyMC-1.1.2 deprecat-2.1.1 pyGPGO-0.5.1 pyMC3-3.11.5 semver-2.13.0\n"
          ]
        }
      ]
    },
    {
      "cell_type": "code",
      "execution_count": 2,
      "metadata": {
        "id": "Dn_SAbhVJLke"
      },
      "outputs": [],
      "source": [
        "### Import modules:\n",
        "\n",
        "import numpy as np\n",
        "import scipy as sp\n",
        "import pandas as pd\n",
        "import matplotlib.pyplot as plt\n",
        "import random\n",
        "import warnings\n",
        "\n",
        "from pyGPGO.logger import EventLogger\n",
        "from pyGPGO.GPGO import GPGO\n",
        "from pyGPGO.surrogates.GaussianProcess import GaussianProcess\n",
        "from pyGPGO.surrogates.tStudentProcess import tStudentProcess, logpdf\n",
        "from pyGPGO.acquisition import Acquisition\n",
        "from pyGPGO.covfunc import squaredExponential\n",
        "\n",
        "from collections import OrderedDict\n",
        "from joblib import Parallel, delayed\n",
        "from numpy.linalg import slogdet, inv, cholesky, solve\n",
        "from scipy.optimize import minimize\n",
        "from scipy.spatial.distance import cdist\n",
        "from scipy.special import gamma\n",
        "from scipy.stats import norm, t\n",
        "from matplotlib.pyplot import rc\n",
        "\n",
        "rc('text', usetex=False)\n",
        "plt.rcParams['text.latex.preamble']=[r'\\usepackage{amsmath}']\n",
        "plt.rcParams['text.latex.preamble'] = [r'\\boldmath']\n",
        "\n",
        "warnings.filterwarnings(\"ignore\", category=FutureWarning)\n",
        "warnings.filterwarnings(\"ignore\", category=RuntimeWarning)\n",
        "warnings.filterwarnings(\"ignore\", category=UserWarning)\n"
      ]
    },
    {
      "cell_type": "code",
      "execution_count": 3,
      "metadata": {
        "id": "4Nwg_XO0JLki"
      },
      "outputs": [],
      "source": [
        "### Inputs:\n",
        "\n",
        "obj_func = 'Rosenbrock'\n",
        "n_test = 500 # test points\n",
        "eps = 1e-08\n",
        "df = 3 # nu\n",
        "\n",
        "util_gp = 'CBMinimized'\n",
        "util_stp = 'tCBMinimized'\n",
        "n_init = 5 # random initialisations\n",
        "\n",
        "cov_func = squaredExponential()\n",
        "hyperOpt = True\n"
      ]
    },
    {
      "cell_type": "code",
      "execution_count": 4,
      "metadata": {
        "id": "DVYGZ6jYJLkj"
      },
      "outputs": [],
      "source": [
        "### Objective function:\n",
        "\n",
        "if obj_func == 'Rosenbrock':\n",
        "            \n",
        "    # True y bounds:\n",
        "    y_lb = 0\n",
        "    operator = -1 # targets global minimum \n",
        "    y_global_orig = y_lb * operator # targets global minimum\n",
        "            \n",
        "# Constraints:\n",
        "    lb = -2.048 \n",
        "    ub = +2.048 \n",
        "    \n",
        "# Input array dimension(s):\n",
        "    dim = 2\n",
        "\n",
        "# 2-D inputs' parameter bounds:\n",
        "    param = {'x1_training': ('cont', [lb, ub]),\n",
        "             'x2_training': ('cont', [lb, ub])}\n",
        "    \n",
        "# Test data:\n",
        "    x1_test = np.linspace(lb, ub, n_test)\n",
        "    x2_test = np.linspace(lb, ub, n_test)\n",
        "    Xstar_d = np.column_stack((x1_test, x2_test))\n",
        "    \n",
        "    def f_syn_polarity(x1_training, x2_training):\n",
        "        return operator * (100 * (x2_training - x1_training ** 2) ** 2 + (x1_training - 1) ** 2)\n"
      ]
    },
    {
      "cell_type": "code",
      "source": [
        "max_iter = dim * 10  # iterations of Bayesian optimisation\n",
        "Beta_CBM = dim\n"
      ],
      "metadata": {
        "id": "S9JivCxiYACE"
      },
      "execution_count": 5,
      "outputs": []
    },
    {
      "cell_type": "code",
      "execution_count": 6,
      "metadata": {
        "id": "hE7COdNcJLkl"
      },
      "outputs": [],
      "source": [
        "### Cumulative Regret Calculator:\n",
        "\n",
        "def min_max_array(x):\n",
        "    new_list = []\n",
        "    for i, num in enumerate(x):\n",
        "            new_list.append(np.min(x[0:i+1]))\n",
        "    return new_list\n"
      ]
    },
    {
      "cell_type": "code",
      "execution_count": 7,
      "metadata": {
        "id": "gkY6wLl_JLkm"
      },
      "outputs": [],
      "source": [
        "### Set-seeds:\n",
        "\n",
        "run_num_1 = 1\n",
        "run_num_2 = 2\n",
        "run_num_3 = 3\n",
        "run_num_4 = 4\n",
        "run_num_5 = 5\n",
        "run_num_6 = 6\n",
        "run_num_7 = 7\n",
        "run_num_8 = 8\n",
        "run_num_9 = 9\n",
        "run_num_10 = 10\n",
        "run_num_11 = 11\n",
        "run_num_12 = 12\n",
        "run_num_13 = 13\n",
        "run_num_14 = 14\n",
        "run_num_15 = 15\n",
        "run_num_16 = 16\n",
        "run_num_17 = 17\n",
        "run_num_18 = 18\n",
        "run_num_19 = 19\n",
        "run_num_20 = 20\n"
      ]
    },
    {
      "cell_type": "code",
      "execution_count": 8,
      "metadata": {
        "id": "Mh53nXeyJLko"
      },
      "outputs": [],
      "source": [
        "### Acquisition function - CBM:\n",
        "\n",
        "class Acquisition_new(Acquisition):    \n",
        "    def __init__(self, mode, eps=1e-06, **params):\n",
        "        \n",
        "        self.params = params\n",
        "        self.eps = eps\n",
        "\n",
        "        mode_dict = {\n",
        "            'CBMinimized': self.CBMinimized,\n",
        "            'tCBMinimized': self.tCBMinimized\n",
        "        }\n",
        "\n",
        "        self.f = mode_dict[mode]\n",
        "   \n",
        "    def CBMinimized(self, tau, mean, std):\n",
        "        \n",
        "        gamma = (mean - y_global_orig - self.eps) / (std + self.eps)\n",
        "        return (std + self.eps) * (gamma + np.sqrt(Beta_CBM))\n",
        "    \n",
        "    def tCBMinimized(self, tau, mean, std, nu=df):\n",
        "        \n",
        "        gamma = (mean - y_global_orig - self.eps) / (std + self.eps)\n",
        "        return (std + self.eps) * (gamma + np.sqrt(Beta_CBM))\n",
        "\n",
        "    def eval(self, y_global_orig, mean, std):\n",
        "    \n",
        "        return self.f(y_global_orig, mean, std, **self.params)\n",
        "        \n",
        "    def t_eval(self, y_global_orig, mean, std, nu=df):\n",
        "    \n",
        "        return self.f(y_global_orig, mean, std, nu=df, **self.params)\n",
        "    "
      ]
    },
    {
      "cell_type": "code",
      "source": [
        "n_start_AcqFunc = max_iter\n",
        "inverse = -1\n"
      ],
      "metadata": {
        "id": "xSwpeFj-Y-Hl"
      },
      "execution_count": 9,
      "outputs": []
    },
    {
      "cell_type": "code",
      "source": [
        "## GPGO_multi: Gaussian\n",
        "\n",
        "n_start = n_start_AcqFunc\n",
        "\n",
        "class GPGO_multi(GPGO):\n",
        "\n",
        "    def __init__(self, surrogate, acquisition, f, parameter_dict, n_jobs=1):\n",
        "        self.GP = surrogate\n",
        "        self.A = acquisition\n",
        "        self.f = f\n",
        "        self.parameters = parameter_dict\n",
        "        self.n_jobs = n_jobs\n",
        "\n",
        "        self.parameter_key = list(parameter_dict.keys())\n",
        "        self.parameter_value = list(parameter_dict.values())\n",
        "        self.parameter_type = [p[0] for p in self.parameter_value]\n",
        "        self.parameter_range = [p[1] for p in self.parameter_value]\n",
        "\n",
        "        self.history = []\n",
        "        self.header =   'Evaluation \\t Proposed point \\t  Current eval. \\t  Best eval. \\t Min. ApproxAcqFunc '\n",
        "        self.template = '{:3}\\t {}\\t {:3}\\t {:3}\\t {:3}'\n",
        " \n",
        "    def acqfuncApprox(self, xnew):\n",
        "        new_mean, new_var = self.GP.predict(xnew, return_std=True)\n",
        "        new_std = np.sqrt(new_var + eps)\n",
        "        f = self.A.eval(self.tau, new_mean, new_std)\n",
        "\n",
        "        return -f\n",
        "   \n",
        "    def _optimizeAcq(self, method='L-BFGS-B'):\n",
        "        \n",
        "        start_points_dict = [self._sampleParam() for i in range(n_start)]\n",
        "        start_points_arr = np.array([list(s.values())\n",
        "                                     for s in start_points_dict])\n",
        "        x_best = np.empty((n_start, len(self.parameter_key)))\n",
        "        f_best = np.empty((n_start,))\n",
        "        opt = Parallel(n_jobs=self.n_jobs)(delayed(minimize)(self.acqfuncApprox,\n",
        "                                                                 x0=start_point,\n",
        "                                                                 method=method,\n",
        "                                                                 jac = False,\n",
        "                                                                 bounds=self.parameter_range) for start_point in\n",
        "                                               start_points_arr)\n",
        "        x_best = np.array([res.x for res in opt])\n",
        "        f_best = np.array([np.atleast_1d(res.fun)[0] for res in opt])\n",
        "        f_best_min = min(f_best)\n",
        "\n",
        "        self.x_best = x_best\n",
        "        self.f_best = f_best\n",
        "        self.f_best_min = f_best_min\n",
        "        self.best = x_best[np.argmin(f_best)]\n",
        "        self.start_points_arr = start_points_arr        \n",
        "        self.history.append(self.f_best_min)\n",
        "\n",
        "    def _printInit(self):\n",
        "        print(self.header)\n",
        "        for init_eval in range(self.init_evals):\n",
        "            print(self.template.format('init', self.GP.X[init_eval], inverse * self.GP.y[init_eval], inverse * self.tau, ''))\n",
        "      \n",
        "    def _printCurrent(self):\n",
        "        OKGREEN = '\\033[92m'\n",
        "        ENDC = '\\033[0m'\n",
        "        BOLD = '\\033[1m'\n",
        "        eval = str(len(self.GP.y) - self.init_evals)\n",
        "        proposed = str(self.best)\n",
        "        curr_eval = str(inverse * self.GP.y[-1])\n",
        "        curr_best = str(inverse * self.tau)\n",
        "        min_acqfunc = str(self.f_best_min)\n",
        "        if float(curr_eval) <= float(curr_best):\n",
        "            eval = BOLD + OKGREEN + eval + ENDC\n",
        "            proposed = BOLD + OKGREEN + proposed + ENDC\n",
        "            curr_eval = BOLD + OKGREEN + curr_eval + ENDC\n",
        "            curr_best = BOLD + OKGREEN + curr_best + ENDC\n",
        "            min_acqfunc = BOLD + OKGREEN + min_acqfunc + ENDC\n",
        "        print(self.template.format(eval, proposed, curr_eval, curr_best, min_acqfunc))\n",
        "        \n",
        "    def run(self, max_iter=10, init_evals=3, resume=False):\n",
        "        \n",
        "        if not resume:\n",
        "            self.init_evals = init_evals\n",
        "            self._firstRun(self.init_evals)\n",
        "            self._printInit()\n",
        "        for iteration in range(max_iter):\n",
        "            self._optimizeAcq()\n",
        "            self.updateGP()\n",
        "            self._printCurrent()\n"
      ],
      "metadata": {
        "id": "YorxhvyZXyfZ"
      },
      "execution_count": 10,
      "outputs": []
    },
    {
      "cell_type": "code",
      "source": [
        "## GPGO_multi_STP: Student's-t\n",
        "\n",
        "class GPGO_multi_STP(GPGO):\n",
        "\n",
        "    def __init__(self, surrogate, acquisition, f, parameter_dict, n_jobs=1):\n",
        "        self.GP = surrogate\n",
        "        self.A = acquisition\n",
        "        self.f = f\n",
        "        self.parameters = parameter_dict\n",
        "        self.n_jobs = n_jobs\n",
        "\n",
        "        self.parameter_key = list(parameter_dict.keys())\n",
        "        self.parameter_value = list(parameter_dict.values())\n",
        "        self.parameter_type = [p[0] for p in self.parameter_value]\n",
        "        self.parameter_range = [p[1] for p in self.parameter_value]\n",
        "\n",
        "        self.history = []\n",
        "        self.header =   'Evaluation \\t Proposed point \\t  Current eval. \\t  Best eval. \\t Min. ApproxAcqFunc '\n",
        "        self.template = '{:3}\\t {}\\t {:3}\\t {:3}\\t {:3}'\n",
        " \n",
        "    def acqfuncApprox(self, xnew):\n",
        "        new_mean, new_var = self.GP.predict(xnew, return_std=True)\n",
        "        new_std = np.sqrt(new_var + eps)\n",
        "        f = self.A.t_eval(self.tau, new_mean, new_std)\n",
        "\n",
        "        return -f\n",
        "   \n",
        "    def _optimizeAcq(self, method='L-BFGS-B'):\n",
        "        \n",
        "        start_points_dict = [self._sampleParam() for i in range(n_start)]\n",
        "        start_points_arr = np.array([list(s.values())\n",
        "                                     for s in start_points_dict])\n",
        "        x_best = np.empty((n_start, len(self.parameter_key)))\n",
        "        f_best = np.empty((n_start,))\n",
        "        opt = Parallel(n_jobs=self.n_jobs)(delayed(minimize)(self.acqfuncApprox,\n",
        "                                                                 x0=start_point,\n",
        "                                                                 method=method,\n",
        "                                                                 jac = False,\n",
        "                                                                 bounds=self.parameter_range) for start_point in\n",
        "                                               start_points_arr)\n",
        "        x_best = np.array([res.x for res in opt])\n",
        "        f_best = np.array([np.atleast_1d(res.fun)[0] for res in opt])\n",
        "        f_best_min = min(f_best)\n",
        "\n",
        "        self.x_best = x_best\n",
        "        self.f_best = f_best\n",
        "        self.f_best_min = f_best_min\n",
        "        self.best = x_best[np.argmin(f_best)]\n",
        "        self.start_points_arr = start_points_arr        \n",
        "        self.history.append(self.f_best_min)\n",
        "\n",
        "    def _printInit(self):\n",
        "        print(self.header)\n",
        "        for init_eval in range(self.init_evals):\n",
        "            print(self.template.format('init', self.GP.X[init_eval], inverse * self.GP.y[init_eval], inverse * self.tau, ''))\n",
        "      \n",
        "    def _printCurrent(self):\n",
        "        OKGREEN = '\\033[92m'\n",
        "        ENDC = '\\033[0m'\n",
        "        BOLD = '\\033[1m'\n",
        "        eval = str(len(self.GP.y) - self.init_evals)\n",
        "        proposed = str(self.best)\n",
        "        curr_eval = str(inverse * self.GP.y[-1])\n",
        "        curr_best = str(inverse * self.tau)\n",
        "        min_acqfunc = str(self.f_best_min)\n",
        "        if float(curr_eval) <= float(curr_best):\n",
        "            eval = BOLD + OKGREEN + eval + ENDC\n",
        "            proposed = BOLD + OKGREEN + proposed + ENDC\n",
        "            curr_eval = BOLD + OKGREEN + curr_eval + ENDC\n",
        "            curr_best = BOLD + OKGREEN + curr_best + ENDC\n",
        "            min_acqfunc = BOLD + OKGREEN + min_acqfunc + ENDC\n",
        "        print(self.template.format(eval, proposed, curr_eval, curr_best, min_acqfunc))\n",
        "        \n",
        "    def run(self, max_iter=10, init_evals=3, resume=False):\n",
        "        \n",
        "        if not resume:\n",
        "            self.init_evals = init_evals\n",
        "            self._firstRun(self.init_evals)\n",
        "            self._printInit()\n",
        "        for iteration in range(max_iter):\n",
        "            self._optimizeAcq()\n",
        "            self.updateGP()\n",
        "            self._printCurrent()\n"
      ],
      "metadata": {
        "id": "QaOjAKNoXynM"
      },
      "execution_count": 11,
      "outputs": []
    },
    {
      "cell_type": "code",
      "execution_count": 12,
      "metadata": {
        "scrolled": false,
        "colab": {
          "base_uri": "https://localhost:8080/"
        },
        "id": "Fio5AsW9JLkp",
        "outputId": "656f9907-eb9d-4906-9739-5567f2743c5c"
      },
      "outputs": [
        {
          "output_type": "stream",
          "name": "stdout",
          "text": [
            "Evaluation \t Proposed point \t  Current eval. \t  Best eval. \t Min. ApproxAcqFunc \n",
            "init\t [-0.33987787  0.90244913]\t 63.72149506568065\t 2.0636815813193974\t    \n",
            "init\t [-2.04753152 -0.80964578]\t 2511.318971868364\t 2.0636815813193974\t    \n",
            "init\t [-1.44688787 -1.66978112]\t 1422.2040787100386\t 2.0636815813193974\t    \n",
            "init\t [-1.28507817 -0.63258326]\t 526.8913737894474\t 2.0636815813193974\t    \n",
            "init\t [-0.42284043  0.15899334]\t 2.0636815813193974\t 2.0636815813193974\t    \n",
            "1  \t [0.53899161 0.08416064]\t 4.470615252692838\t 2.0636815813193974\t -23.9467157018634\n",
            "\u001b[1m\u001b[92m2\u001b[0m\t \u001b[1m\u001b[92m[0.47634454 0.13914262]\u001b[0m\t \u001b[1m\u001b[92m1.0444232303580065\u001b[0m\t \u001b[1m\u001b[92m1.0444232303580065\u001b[0m\t \u001b[1m\u001b[92m-12.643974523878956\u001b[0m\n",
            "\u001b[1m\u001b[92m3\u001b[0m\t \u001b[1m\u001b[92m[0.4588531  0.15374881]\u001b[0m\t \u001b[1m\u001b[92m0.6154339438636984\u001b[0m\t \u001b[1m\u001b[92m0.6154339438636984\u001b[0m\t \u001b[1m\u001b[92m-9.229720085023057\u001b[0m\n",
            "\u001b[1m\u001b[92m4\u001b[0m\t \u001b[1m\u001b[92m[0.4503864  0.16055302]\u001b[0m\t \u001b[1m\u001b[92m0.48096085292274166\u001b[0m\t \u001b[1m\u001b[92m0.48096085292274166\u001b[0m\t \u001b[1m\u001b[92m-7.469417811460466\u001b[0m\n",
            "\u001b[1m\u001b[92m5\u001b[0m\t \u001b[1m\u001b[92m[0.44545985 0.16435854]\u001b[0m\t \u001b[1m\u001b[92m0.42363168686665176\u001b[0m\t \u001b[1m\u001b[92m0.42363168686665176\u001b[0m\t \u001b[1m\u001b[92m-6.382828181439051\u001b[0m\n",
            "\u001b[1m\u001b[92m6\u001b[0m\t \u001b[1m\u001b[92m[0.4422826  0.16672531]\u001b[0m\t \u001b[1m\u001b[92m0.3945037445428108\u001b[0m\t \u001b[1m\u001b[92m0.3945037445428108\u001b[0m\t \u001b[1m\u001b[92m-5.642144270507412\u001b[0m\n",
            "\u001b[1m\u001b[92m7\u001b[0m\t \u001b[1m\u001b[92m[0.44008741 0.16830231]\u001b[0m\t \u001b[1m\u001b[92m0.37788923371511296\u001b[0m\t \u001b[1m\u001b[92m0.37788923371511296\u001b[0m\t \u001b[1m\u001b[92m-5.103824285368389\u001b[0m\n",
            "\u001b[1m\u001b[92m8\u001b[0m\t \u001b[1m\u001b[92m[0.43849288 0.16940883]\u001b[0m\t \u001b[1m\u001b[92m0.36758104651529233\u001b[0m\t \u001b[1m\u001b[92m0.36758104651529233\u001b[0m\t \u001b[1m\u001b[92m-4.694486550676946\u001b[0m\n",
            "\u001b[1m\u001b[92m9\u001b[0m\t \u001b[1m\u001b[92m[0.43729103 0.17021482]\u001b[0m\t \u001b[1m\u001b[92m0.3607775914891769\u001b[0m\t \u001b[1m\u001b[92m0.3607775914891769\u001b[0m\t \u001b[1m\u001b[92m-4.372547701560562\u001b[0m\n",
            "\u001b[1m\u001b[92m10\u001b[0m\t \u001b[1m\u001b[92m[0.43635788 0.17082037]\u001b[0m\t \u001b[1m\u001b[92m0.35606074770196555\u001b[0m\t \u001b[1m\u001b[92m0.35606074770196555\u001b[0m\t \u001b[1m\u001b[92m-4.112624124378243\u001b[0m\n",
            "\u001b[1m\u001b[92m11\u001b[0m\t \u001b[1m\u001b[92m[0.43561566 0.17128696]\u001b[0m\t \u001b[1m\u001b[92m0.3526586927070049\u001b[0m\t \u001b[1m\u001b[92m0.3526586927070049\u001b[0m\t \u001b[1m\u001b[92m-3.8983220979751176\u001b[0m\n",
            "12 \t [ 2.048 -2.048]\t 3897.7342268415996\t 0.3526586927070049\t -1.7947024492007886\n",
            "13 \t [0.24870743 0.5554306 ]\t 24.926089460610324\t 0.3526586927070049\t -22.03939241440107\n",
            "14 \t [0.24425355 0.49583514]\t 19.596045300025686\t 0.3526586927070049\t -15.482861271757262\n",
            "15 \t [0.24527293 0.46558558]\t 17.00669958238612\t 0.3526586927070049\t -11.716976622555238\n",
            "16 \t [0.24717645 0.44667502]\t 15.433845964021609\t 0.3526586927070049\t -9.141770014720036\n",
            "17 \t [0.24914193 0.43362904]\t 14.369273148420389\t 0.3526586927070049\t -7.22978912495888\n",
            "18 \t [2.048 2.048]\t 461.7603900415999\t 0.3526586927070049\t -0.5693521421808405\n",
            "19 \t [0.1749226  0.34074039]\t 10.299588508906348\t 0.3526586927070049\t -5.921847425114046\n",
            "20 \t [0.17913919 0.33908785]\t 10.098528312623268\t 0.3526586927070049\t -4.931117315550702\n"
          ]
        }
      ],
      "source": [
        "### Bayesian optimisation runs (x20): 'GP' Acquisition Function run number = 1\n",
        "\n",
        "np.random.seed(run_num_1)\n",
        "surrogate_gp_1 = GaussianProcess(cov_func, optimize=hyperOpt)\n",
        "\n",
        "gp_1 = GPGO_multi(surrogate_gp_1, Acquisition_new(util_gp), f_syn_polarity, param, n_jobs = -1) # define BayesOpt\n",
        "gp_1.run(max_iter = max_iter, init_evals = n_init) # run\n"
      ]
    },
    {
      "cell_type": "code",
      "execution_count": 13,
      "metadata": {
        "colab": {
          "base_uri": "https://localhost:8080/"
        },
        "id": "6CLxOiUrJLks",
        "outputId": "e75a499d-e829-4167-b172-2c5a66934047"
      },
      "outputs": [
        {
          "output_type": "stream",
          "name": "stdout",
          "text": [
            "Evaluation \t Proposed point \t  Current eval. \t  Best eval. \t Min. ApproxAcqFunc \n",
            "init\t [-0.26216488 -1.94180615]\t 405.8187938051167\t 10.016400127761926\t    \n",
            "init\t [ 0.20341751 -0.26491948]\t 10.016400127761926\t 10.016400127761926\t    \n",
            "init\t [-0.32617348 -0.69494857]\t 65.97294928625357\t 10.016400127761926\t    \n",
            "init\t [-1.20975919  0.48853388]\t 99.94230490266065\t 10.016400127761926\t    \n",
            "init\t [-0.82061446 -0.95507548]\t 268.5105099964258\t 10.016400127761926\t    \n",
            "1  \t [1.068739   0.39883889]\t 55.26375424728587\t 10.016400127761926\t -12.455049369366812\n",
            "2  \t [2.048 2.048]\t 461.7603900415999\t 10.016400127761926\t 2.3454961941060186\n",
            "3  \t [ 2.048      -1.00192199]\t 2701.1747625500825\t 10.016400127761926\t 5.951308509397038\n",
            "4  \t [0.29316116 0.59731317]\t 26.64951847051525\t 10.016400127761926\t -10.770303957527082\n",
            "5  \t [-2.048  2.048]\t 469.9523900415999\t 10.016400127761926\t -0.24355793000490755\n",
            "6  \t [0.26936951 0.5046551 ]\t 19.20444455123678\t 10.016400127761926\t 3.603697632459909\n",
            "7  \t [0.27210836 0.49142557]\t 17.950650592870655\t 10.016400127761926\t 7.71433769249483\n",
            "8  \t [0.2736893 0.4861414]\t 17.438996015807366\t 10.016400127761926\t 9.61887288243028\n",
            "9  \t [0.27475247 0.48351368]\t 17.17440473953352\t 10.016400127761926\t 10.710030630639325\n",
            "10 \t [0.27551692 0.48201868]\t 17.017336859816012\t 10.016400127761926\t 11.41416783514799\n",
            "11 \t [0.02109975 2.048     ]\t 420.2063117743343\t 10.016400127761926\t 11.661498003963425\n",
            "\u001b[1m\u001b[92m12\u001b[0m\t \u001b[1m\u001b[92m[0.12864862 0.23870031]\u001b[0m\t \u001b[1m\u001b[92m5.694308282591853\u001b[0m\t \u001b[1m\u001b[92m5.694308282591853\u001b[0m\t \u001b[1m\u001b[92m7.222245399609792\u001b[0m\n",
            "\u001b[1m\u001b[92m13\u001b[0m\t \u001b[1m\u001b[92m[0.12615494 0.23658927]\u001b[0m\t \u001b[1m\u001b[92m5.633315555988299\u001b[0m\t \u001b[1m\u001b[92m5.633315555988299\u001b[0m\t \u001b[1m\u001b[92m6.6762724971462735\u001b[0m\n",
            "\u001b[1m\u001b[92m14\u001b[0m\t \u001b[1m\u001b[92m[0.12429531 0.23501855]\u001b[0m\t \u001b[1m\u001b[92m5.5879231252315575\u001b[0m\t \u001b[1m\u001b[92m5.5879231252315575\u001b[0m\t \u001b[1m\u001b[92m6.266479226335837\u001b[0m\n",
            "\u001b[1m\u001b[92m15\u001b[0m\t \u001b[1m\u001b[92m[0.12285026 0.23380268]\u001b[0m\t \u001b[1m\u001b[92m5.552819633087453\u001b[0m\t \u001b[1m\u001b[92m5.552819633087453\u001b[0m\t \u001b[1m\u001b[92m5.947386411119429\u001b[0m\n",
            "\u001b[1m\u001b[92m16\u001b[0m\t \u001b[1m\u001b[92m[0.12169328 0.23283154]\u001b[0m\t \u001b[1m\u001b[92m5.524794513814922\u001b[0m\t \u001b[1m\u001b[92m5.524794513814922\u001b[0m\t \u001b[1m\u001b[92m5.691736553973698\u001b[0m\n",
            "\u001b[1m\u001b[92m17\u001b[0m\t \u001b[1m\u001b[92m[0.12074469 0.23203668]\u001b[0m\t \u001b[1m\u001b[92m5.501861887792497\u001b[0m\t \u001b[1m\u001b[92m5.501861887792497\u001b[0m\t \u001b[1m\u001b[92m5.482201276190384\u001b[0m\n",
            "\u001b[1m\u001b[92m18\u001b[0m\t \u001b[1m\u001b[92m[0.11995099 0.23137364]\u001b[0m\t \u001b[1m\u001b[92m5.4827528103871295\u001b[0m\t \u001b[1m\u001b[92m5.4827528103871295\u001b[0m\t \u001b[1m\u001b[92m5.307243333733102\u001b[0m\n",
            "\u001b[1m\u001b[92m19\u001b[0m\t \u001b[1m\u001b[92m[0.11927678 0.23081118]\u001b[0m\t \u001b[1m\u001b[92m5.466546084212715\u001b[0m\t \u001b[1m\u001b[92m5.466546084212715\u001b[0m\t \u001b[1m\u001b[92m5.158886874794578\u001b[0m\n",
            "\u001b[1m\u001b[92m20\u001b[0m\t \u001b[1m\u001b[92m[0.11869657 0.2303274 ]\u001b[0m\t \u001b[1m\u001b[92m5.452605589219322\u001b[0m\t \u001b[1m\u001b[92m5.452605589219322\u001b[0m\t \u001b[1m\u001b[92m5.031437917296758\u001b[0m\n"
          ]
        }
      ],
      "source": [
        "### Bayesian optimisation runs (x20): 'GP' Acquisition Function run number = 2\n",
        "\n",
        "np.random.seed(run_num_2)\n",
        "surrogate_gp_2 = GaussianProcess(cov_func, optimize=hyperOpt)\n",
        "\n",
        "gp_2 = GPGO_multi(surrogate_gp_2, Acquisition_new(util_gp), f_syn_polarity, param, n_jobs = -1) # define BayesOpt\n",
        "gp_2.run(max_iter = max_iter, init_evals = n_init) # run\n"
      ]
    },
    {
      "cell_type": "code",
      "execution_count": 14,
      "metadata": {
        "id": "OrboSzBtJLku",
        "colab": {
          "base_uri": "https://localhost:8080/"
        },
        "outputId": "f4670fc8-a31a-46a5-95c6-3ba0d636c847"
      },
      "outputs": [
        {
          "output_type": "stream",
          "name": "stdout",
          "text": [
            "Evaluation \t Proposed point \t  Current eval. \t  Best eval. \t Min. ApproxAcqFunc \n",
            "init\t [0.20806821 0.85257348]\t 66.12074614607258\t 50.941111321262525\t    \n",
            "init\t [-0.85645419  0.04434987]\t 50.941111321262525\t 50.941111321262525\t    \n",
            "init\t [1.60951073 1.62321649]\t 93.94003449768307\t 50.941111321262525\t    \n",
            "init\t [-1.53360257 -1.19913317]\t 1267.4289626896234\t 50.941111321262525\t    \n",
            "init\t [-1.83719034 -0.24244288]\t 1316.8330877748904\t 50.941111321262525\t    \n",
            "1  \t [ 2.048 -2.048]\t 3897.7342268415996\t 50.941111321262525\t -2.417312751533327\n",
            "2  \t [-0.68532544  2.048     ]\t 251.95257900027025\t 50.941111321262525\t 6.465300888568032\n",
            "\u001b[1m\u001b[92m3\u001b[0m\t \u001b[1m\u001b[92m[0.22509211 0.51184822]\u001b[0m\t \u001b[1m\u001b[92m21.869344013701106\u001b[0m\t \u001b[1m\u001b[92m21.869344013701106\u001b[0m\t \u001b[1m\u001b[92m22.932032125720866\u001b[0m\n",
            "\u001b[1m\u001b[92m4\u001b[0m\t \u001b[1m\u001b[92m[0.22586766 0.51082798]\u001b[0m\t \u001b[1m\u001b[92m21.741967862594056\u001b[0m\t \u001b[1m\u001b[92m21.741967862594056\u001b[0m\t \u001b[1m\u001b[92m21.899815228326105\u001b[0m\n",
            "\u001b[1m\u001b[92m5\u001b[0m\t \u001b[1m\u001b[92m[0.22627408 0.51029359]\u001b[0m\t \u001b[1m\u001b[92m21.67534776601895\u001b[0m\t \u001b[1m\u001b[92m21.67534776601895\u001b[0m\t \u001b[1m\u001b[92m21.355429125769717\u001b[0m\n",
            "\u001b[1m\u001b[92m6\u001b[0m\t \u001b[1m\u001b[92m[0.22652643 0.5099619 ]\u001b[0m\t \u001b[1m\u001b[92m21.63403060778634\u001b[0m\t \u001b[1m\u001b[92m21.63403060778634\u001b[0m\t \u001b[1m\u001b[92m21.016825666827526\u001b[0m\n",
            "\u001b[1m\u001b[92m7\u001b[0m\t \u001b[1m\u001b[92m[0.22669935 0.50973465]\u001b[0m\t \u001b[1m\u001b[92m21.605737796640366\u001b[0m\t \u001b[1m\u001b[92m21.605737796640366\u001b[0m\t \u001b[1m\u001b[92m20.784828442976444\u001b[0m\n",
            "\u001b[1m\u001b[92m8\u001b[0m\t \u001b[1m\u001b[92m[0.22682563 0.50956857]\u001b[0m\t \u001b[1m\u001b[92m21.585072957137356\u001b[0m\t \u001b[1m\u001b[92m21.585072957137356\u001b[0m\t \u001b[1m\u001b[92m20.615402999435293\u001b[0m\n",
            "\u001b[1m\u001b[92m9\u001b[0m\t \u001b[1m\u001b[92m[0.22692253 0.50944141]\u001b[0m\t \u001b[1m\u001b[92m21.569247103300935\u001b[0m\t \u001b[1m\u001b[92m21.569247103300935\u001b[0m\t \u001b[1m\u001b[92m20.48594055301561\u001b[0m\n",
            "\u001b[1m\u001b[92m10\u001b[0m\t \u001b[1m\u001b[92m[0.2269992  0.50934074]\u001b[0m\t \u001b[1m\u001b[92m21.55672271976701\u001b[0m\t \u001b[1m\u001b[92m21.55672271976701\u001b[0m\t \u001b[1m\u001b[92m20.383606470328996\u001b[0m\n",
            "\u001b[1m\u001b[92m11\u001b[0m\t \u001b[1m\u001b[92m[0.22706149 0.50925889]\u001b[0m\t \u001b[1m\u001b[92m21.54654331183888\u001b[0m\t \u001b[1m\u001b[92m21.54654331183888\u001b[0m\t \u001b[1m\u001b[92m20.30056336447291\u001b[0m\n",
            "\u001b[1m\u001b[92m12\u001b[0m\t \u001b[1m\u001b[92m[0.22711325 0.5091909 ]\u001b[0m\t \u001b[1m\u001b[92m21.538087798152482\u001b[0m\t \u001b[1m\u001b[92m21.538087798152482\u001b[0m\t \u001b[1m\u001b[92m20.231745787325806\u001b[0m\n",
            "\u001b[1m\u001b[92m13\u001b[0m\t \u001b[1m\u001b[92m[0.22715699 0.50913352]\u001b[0m\t \u001b[1m\u001b[92m21.53095089790463\u001b[0m\t \u001b[1m\u001b[92m21.53095089790463\u001b[0m\t \u001b[1m\u001b[92m20.17372999558899\u001b[0m\n",
            "\u001b[1m\u001b[92m14\u001b[0m\t \u001b[1m\u001b[92m[0.22719443 0.50908427]\u001b[0m\t \u001b[1m\u001b[92m21.5248309201207\u001b[0m\t \u001b[1m\u001b[92m21.5248309201207\u001b[0m\t \u001b[1m\u001b[92m20.12411746235825\u001b[0m\n",
            "\u001b[1m\u001b[92m15\u001b[0m\t \u001b[1m\u001b[92m[0.22722698 0.50904161]\u001b[0m\t \u001b[1m\u001b[92m21.519524651645646\u001b[0m\t \u001b[1m\u001b[92m21.519524651645646\u001b[0m\t \u001b[1m\u001b[92m20.081175204667485\u001b[0m\n",
            "\u001b[1m\u001b[92m16\u001b[0m\t \u001b[1m\u001b[92m[0.22725546 0.50900423]\u001b[0m\t \u001b[1m\u001b[92m21.514876470750593\u001b[0m\t \u001b[1m\u001b[92m21.514876470750593\u001b[0m\t \u001b[1m\u001b[92m20.0436199727709\u001b[0m\n",
            "\u001b[1m\u001b[92m17\u001b[0m\t \u001b[1m\u001b[92m[0.22728062 0.50897116]\u001b[0m\t \u001b[1m\u001b[92m21.510766729783256\u001b[0m\t \u001b[1m\u001b[92m21.510766729783256\u001b[0m\t \u001b[1m\u001b[92m20.010480362421543\u001b[0m\n",
            "\u001b[1m\u001b[92m18\u001b[0m\t \u001b[1m\u001b[92m[0.22730306 0.50894168]\u001b[0m\t \u001b[1m\u001b[92m21.507102910802303\u001b[0m\t \u001b[1m\u001b[92m21.507102910802303\u001b[0m\t \u001b[1m\u001b[92m19.98100701152409\u001b[0m\n",
            "\u001b[1m\u001b[92m19\u001b[0m\t \u001b[1m\u001b[92m[0.22732322 0.50891526]\u001b[0m\t \u001b[1m\u001b[92m21.50381781968999\u001b[0m\t \u001b[1m\u001b[92m21.50381781968999\u001b[0m\t \u001b[1m\u001b[92m19.95461230056497\u001b[0m\n",
            "\u001b[1m\u001b[92m20\u001b[0m\t \u001b[1m\u001b[92m[0.22734141 0.50889139]\u001b[0m\t \u001b[1m\u001b[92m21.500850612853444\u001b[0m\t \u001b[1m\u001b[92m21.500850612853444\u001b[0m\t \u001b[1m\u001b[92m19.930829037408547\u001b[0m\n"
          ]
        }
      ],
      "source": [
        "### Bayesian optimisation runs (x20): 'GP' Acquisition Function run number = 3\n",
        "\n",
        "np.random.seed(run_num_3)\n",
        "surrogate_gp_3 = GaussianProcess(cov_func, optimize=hyperOpt)\n",
        "\n",
        "gp_3 = GPGO_multi(surrogate_gp_3, Acquisition_new(util_gp), f_syn_polarity, param, n_jobs = -1) # define BayesOpt\n",
        "gp_3.run(max_iter = max_iter, init_evals = n_init) # run\n"
      ]
    },
    {
      "cell_type": "code",
      "execution_count": 15,
      "metadata": {
        "id": "wmlwMmKcJLkv",
        "colab": {
          "base_uri": "https://localhost:8080/"
        },
        "outputId": "9b8ed5f5-021e-4114-aac2-f4d262b91762"
      },
      "outputs": [
        {
          "output_type": "stream",
          "name": "stdout",
          "text": [
            "Evaluation \t Proposed point \t  Current eval. \t  Best eval. \t Min. ApproxAcqFunc \n",
            "init\t [1.91295422 0.19346329]\t 1202.1009483415905\t 170.66405971002487\t    \n",
            "init\t [1.93611514 0.87988631]\t 823.7947602867234\t 170.66405971002487\t    \n",
            "init\t [ 0.80989727 -1.16289743]\t 330.8507621971172\t 170.66405971002487\t    \n",
            "init\t [ 1.95082017 -2.02248087]\t 3397.672500714367\t 170.66405971002487\t    \n",
            "init\t [-1.01178424 -0.26709388]\t 170.66405971002487\t 170.66405971002487\t    \n",
            "1  \t [-2.048  2.048]\t 469.9523900415999\t 170.66405971002487\t 0.9369579217390904\n",
            "2  \t [-2.048 -2.048]\t 3905.9262268415996\t 170.66405971002487\t 5.994477172980807\n",
            "\u001b[1m\u001b[92m3\u001b[0m\t \u001b[1m\u001b[92m[-0.48313473  0.38102989]\u001b[0m\t \u001b[1m\u001b[92m4.378581287852691\u001b[0m\t \u001b[1m\u001b[92m4.378581287852691\u001b[0m\t \u001b[1m\u001b[92m37.822196390032545\u001b[0m\n",
            "4  \t [-0.48049929  0.40068844]\t 5.075383547589922\t 4.378581287852691\t 22.641464692243147\n",
            "5  \t [-0.47960913  0.40882018]\t 5.386017736534159\t 4.378581287852691\t 16.736232077812378\n",
            "6  \t [-0.47920252  0.41331808]\t 5.561985487680732\t 4.378581287852691\t 13.631447996101883\n",
            "7  \t [-0.4789862  0.4161941]\t 5.675565921823713\t 4.378581287852691\t 11.72787690189901\n",
            "8  \t [-0.4788603  0.418201 ]\t 5.755115134487873\t 4.378581287852691\t 10.44597737543626\n",
            "9  \t [-0.47878282  0.41968586]\t 5.8140282554506175\t 4.378581287852691\t 9.526212644647972\n",
            "10 \t [-0.47873348  0.42083174]\t 5.8594716626666195\t 4.378581287852691\t 8.835366531486603\n",
            "11 \t [-0.47870142  0.42174442]\t 5.895624310990167\t 4.378581287852691\t 8.298180321779974\n",
            "12 \t [-0.47868055  0.42248954]\t 5.92509144168007\t 4.378581287852691\t 7.86899293297719\n",
            "13 \t [-0.4786671  0.4231101]\t 5.949587197658916\t 4.378581287852691\t 7.518526544764242\n",
            "14 \t [-0.47865876  0.42363539]\t 5.970280693767599\t 4.378581287852691\t 7.227161628903841\n",
            "15 \t [-0.47865396  0.42408615]\t 5.988002344600458\t 4.378581287852691\t 6.98126759985541\n",
            "16 \t [-0.47865168  0.42447738]\t 6.003352547627127\t 4.378581287852691\t 6.771085909795892\n",
            "17 \t [-0.47865126  0.42482043]\t 6.0167833531323325\t 4.378581287852691\t 6.589449826244218\n",
            "18 \t [-0.4786521   0.42512373]\t 6.028635364834047\t 4.378581287852691\t 6.430980238836133\n",
            "19 \t [-0.47865391  0.42539395]\t 6.039173424748888\t 4.378581287852691\t 6.291562451871451\n",
            "20 \t [-0.47865639  0.42563631]\t 6.04860755934364\t 4.378581287852691\t 6.16799644460923\n"
          ]
        }
      ],
      "source": [
        "### Bayesian optimisation runs (x20): 'GP' Acquisition Function run number = 4\n",
        "\n",
        "np.random.seed(run_num_4)\n",
        "surrogate_gp_4 = GaussianProcess(cov_func, optimize=hyperOpt)\n",
        "\n",
        "gp_4 = GPGO_multi(surrogate_gp_4, Acquisition_new(util_gp), f_syn_polarity, param, n_jobs = -1) # define BayesOpt\n",
        "gp_4.run(max_iter = max_iter, init_evals = n_init) # run\n"
      ]
    },
    {
      "cell_type": "code",
      "execution_count": 16,
      "metadata": {
        "id": "ntlcfbyWJLkw",
        "colab": {
          "base_uri": "https://localhost:8080/"
        },
        "outputId": "515ac0f4-1453-4242-f26a-feee5fa56a61"
      },
      "outputs": [
        {
          "output_type": "stream",
          "name": "stdout",
          "text": [
            "Evaluation \t Proposed point \t  Current eval. \t  Best eval. \t Min. ApproxAcqFunc \n",
            "init\t [-1.13871597  1.51851953]\t 9.495646950867519\t 9.495646950867519\t    \n",
            "init\t [-1.20127834  1.71463028]\t 12.220143873516523\t 9.495646950867519\t    \n",
            "init\t [-0.04746777  0.45770286]\t 21.840629211931905\t 9.495646950867519\t    \n",
            "init\t [1.08915858 0.07544008]\t 123.40146376592485\t 9.495646950867519\t    \n",
            "init\t [-0.83230515 -1.27909385]\t 392.1670023300852\t 9.495646950867519\t    \n",
            "1  \t [-0.04348947  2.048     ]\t 419.74493774045783\t 9.495646950867519\t 0.48624183339491667\n",
            "2  \t [-1.73397303  1.34445711]\t 283.76727613875073\t 9.495646950867519\t -4.44094535297158\n",
            "3  \t [-1.05632697 -1.69955139]\t 796.8638458519836\t 9.495646950867519\t -2.8284275424952865\n",
            "4  \t [ 2.048 -2.048]\t 3897.7342268415996\t 9.495646950867519\t -2.8108139666384737\n",
            "5  \t [2.048     1.3845074]\t 790.5939969908841\t 9.495646950867519\t 18.97241503691896\n",
            "6  \t [-0.13757396  0.35375544]\t 12.505109932249134\t 9.495646950867519\t 46.73750247211272\n",
            "7  \t [-0.14924197  0.35253925]\t 12.228325985168382\t 9.495646950867519\t 35.27063678255656\n",
            "8  \t [-0.15568616  0.35191184]\t 12.072612877639306\t 9.495646950867519\t 29.233337899898252\n",
            "9  \t [-0.15988311  0.35154987]\t 11.97209842564303\t 9.495646950867519\t 25.50455595118257\n",
            "10 \t [-0.16288276  0.35132524]\t 11.90143964422136\t 9.495646950867519\t 22.970951029696646\n",
            "11 \t [-0.16515893  0.35117913]\t 11.8488235275236\t 9.495646950867519\t 21.13621307156246\n",
            "12 \t [-0.16695982  0.3510812 ]\t 11.807982326916488\t 9.495646950867519\t 19.74557896548419\n",
            "13 \t [-0.16842934  0.35101451]\t 11.775275766093843\t 9.495646950867519\t 18.654792943503445\n",
            "14 \t [-0.16965725  0.3509689 ]\t 11.748435990168186\t 9.495646950867519\t 17.776031465773226\n",
            "15 \t [-0.17070272  0.35093799]\t 11.725976922482053\t 9.495646950867519\t 17.052754787097072\n",
            "16 \t [-0.17160654  0.35091753]\t 11.706876271234037\t 9.495646950867519\t 16.446909631113332\n",
            "17 \t [-0.1723978   0.35090472]\t 11.690414830750345\t 9.495646950867519\t 15.931939891089442\n",
            "18 \t [-0.17309796  0.35089761]\t 11.676067167633791\t 9.495646950867519\t 15.488747051897379\n",
            "19 \t [-0.17372314  0.35089472]\t 11.66343653366133\t 9.495646950867519\t 15.103242190781447\n",
            "20 \t [-0.17428578  0.35089509]\t 11.652226120692326\t 9.495646950867519\t 14.764803028083046\n"
          ]
        }
      ],
      "source": [
        "### Bayesian optimisation runs (x20): 'GP' Acquisition Function run number = 5\n",
        "\n",
        "np.random.seed(run_num_5)\n",
        "surrogate_gp_5 = GaussianProcess(cov_func, optimize=hyperOpt)\n",
        "\n",
        "gp_5 = GPGO_multi(surrogate_gp_5, Acquisition_new(util_gp), f_syn_polarity, param, n_jobs = -1) # define BayesOpt\n",
        "gp_5.run(max_iter = max_iter, init_evals = n_init) # run\n"
      ]
    },
    {
      "cell_type": "code",
      "execution_count": 17,
      "metadata": {
        "id": "HHrK2qnsJLkx",
        "colab": {
          "base_uri": "https://localhost:8080/"
        },
        "outputId": "406b420a-b967-43f7-be3d-cec57fc390b0"
      },
      "outputs": [
        {
          "output_type": "stream",
          "name": "stdout",
          "text": [
            "Evaluation \t Proposed point \t  Current eval. \t  Best eval. \t Min. ApproxAcqFunc \n",
            "init\t [ 1.60915518 -0.68821072]\t 1074.6314195925434\t 3.0269049669752817\t    \n",
            "init\t [ 1.31575449 -1.87721062]\t 1302.169546932896\t 3.0269049669752817\t    \n",
            "init\t [-1.60703824  0.38933325]\t 487.8262244570432\t 3.0269049669752817\t    \n",
            "init\t [ 0.12213192 -0.33256477]\t 12.844955340992902\t 3.0269049669752817\t    \n",
            "init\t [-0.67416945  0.50183959]\t 3.0269049669752817\t 3.0269049669752817\t    \n",
            "1  \t [0.2745924  1.64081315]\t 245.5777410115649\t 3.0269049669752817\t -7.381908563464939\n",
            "2  \t [-2.048 -2.048]\t 3905.9262268415996\t 3.0269049669752817\t 8.415836598523523\n",
            "3  \t [2.048 2.048]\t 461.7603900415999\t 3.0269049669752817\t 29.787546995472695\n",
            "4  \t [-0.16026582  0.39328932]\t 14.859500733208346\t 3.0269049669752817\t 41.604547854506365\n",
            "5  \t [-0.15584659  0.3971262 ]\t 15.23680202352449\t 3.0269049669752817\t 32.78916310523577\n",
            "6  \t [-0.15351028  0.39915837]\t 15.437593536956385\t 3.0269049669752817\t 28.19159091667514\n",
            "7  \t [-0.15206114  0.40042472]\t 15.562934548622597\t 3.0269049669752817\t 25.379685834316938\n",
            "8  \t [-0.15107269  0.40129295]\t 15.648921962311446\t 3.0269049669752817\t 23.486704563064144\n",
            "9  \t [-0.15035448  0.40192709]\t 15.711729067638597\t 3.0269049669752817\t 22.127630711887942\n",
            "10 \t [-0.14980852  0.40241155]\t 15.759700263918127\t 3.0269049669752817\t 21.105702065353615\n",
            "11 \t [-0.14937917  0.40279422]\t 15.797582115860287\t 3.0269049669752817\t 20.31002761368009\n",
            "12 \t [-0.14903253  0.40310456]\t 15.828289145756797\t 3.0269049669752817\t 19.673414369556216\n",
            "13 \t [-0.14874664  0.40336153]\t 15.853705074297485\t 3.0269049669752817\t 19.152805452639157\n",
            "14 \t [-0.14850673  0.40357794]\t 15.875100341831722\t 3.0269049669752817\t 18.719352578012384\n",
            "15 \t [-0.14830253  0.40376286]\t 15.893372104638173\t 3.0269049669752817\t 18.353011128586527\n",
            "16 \t [-0.1481265   0.40392275]\t 15.909165222435464\t 3.0269049669752817\t 18.039426128365914\n",
            "17 \t [-0.14797324  0.40406243]\t 15.92295436954367\t 3.0269049669752817\t 17.76805066003292\n",
            "18 \t [-0.1478385   0.40418557]\t 15.935105936240872\t 3.0269049669752817\t 17.530963807500278\n",
            "19 \t [-0.14771916  0.40429496]\t 15.945895909722315\t 3.0269049669752817\t 17.322103208145695\n",
            "20 \t [-0.14761268  0.40439282]\t 15.95554448158806\t 3.0269049669752817\t 17.13675086993269\n"
          ]
        }
      ],
      "source": [
        "### Bayesian optimisation runs (x20): 'GP' Acquisition Function run number = 6\n",
        "\n",
        "np.random.seed(run_num_6)\n",
        "surrogate_gp_6 = GaussianProcess(cov_func, optimize=hyperOpt)\n",
        "\n",
        "gp_6 = GPGO_multi(surrogate_gp_6, Acquisition_new(util_gp), f_syn_polarity, param, n_jobs = -1) # define BayesOpt\n",
        "gp_6.run(max_iter = max_iter, init_evals = n_init) # run\n"
      ]
    },
    {
      "cell_type": "code",
      "execution_count": 18,
      "metadata": {
        "id": "rht2Y9u8JLky",
        "colab": {
          "base_uri": "https://localhost:8080/"
        },
        "outputId": "d56a55ac-8355-4c23-ad9b-b1e22d480e48"
      },
      "outputs": [
        {
          "output_type": "stream",
          "name": "stdout",
          "text": [
            "Evaluation \t Proposed point \t  Current eval. \t  Best eval. \t Min. ApproxAcqFunc \n",
            "init\t [-1.73544125  1.14654737]\t 355.3830807157107\t 74.10242381766855\t    \n",
            "init\t [-0.25227579  0.91531337]\t 74.10242381766855\t 74.10242381766855\t    \n",
            "init\t [1.95784504 0.15767909]\t 1351.8314081149692\t 74.10242381766855\t    \n",
            "init\t [ 0.00458942 -1.75287856]\t 308.2565501886822\t 74.10242381766855\t    \n",
            "init\t [-9.48473938e-01 -4.81276619e-04]\t 84.81168700546641\t 74.10242381766855\t    \n",
            "1  \t [-2.048 -2.048]\t 3905.9262268415996\t 74.10242381766855\t 15.043235754253846\n",
            "2  \t [0.09532419 2.048     ]\t 416.53518223749626\t 74.10242381766855\t 35.180935941413225\n",
            "3  \t [ 2.048 -2.048]\t 3897.7342268415996\t 74.10242381766855\t 60.85321080535045\n",
            "\u001b[1m\u001b[92m4\u001b[0m\t \u001b[1m\u001b[92m[-0.4228508   0.21849214]\u001b[0m\t \u001b[1m\u001b[92m2.1820288066569464\u001b[0m\t \u001b[1m\u001b[92m2.1820288066569464\u001b[0m\t \u001b[1m\u001b[92m68.50497974940767\u001b[0m\n",
            "\u001b[1m\u001b[92m5\u001b[0m\t \u001b[1m\u001b[92m[-0.40465422  0.19940278]\u001b[0m\t \u001b[1m\u001b[92m2.100200950496273\u001b[0m\t \u001b[1m\u001b[92m2.100200950496273\u001b[0m\t \u001b[1m\u001b[92m46.57436035239185\u001b[0m\n",
            "\u001b[1m\u001b[92m6\u001b[0m\t \u001b[1m\u001b[92m[-0.39489947  0.1890699 ]\u001b[0m\t \u001b[1m\u001b[92m2.055466479493346\u001b[0m\t \u001b[1m\u001b[92m2.055466479493346\u001b[0m\t \u001b[1m\u001b[92m35.13977296877807\u001b[0m\n",
            "\u001b[1m\u001b[92m7\u001b[0m\t \u001b[1m\u001b[92m[-0.38873395  0.18247924]\u001b[0m\t \u001b[1m\u001b[92m2.0269592764488387\u001b[0m\t \u001b[1m\u001b[92m2.0269592764488387\u001b[0m\t \u001b[1m\u001b[92m28.157215479613217\u001b[0m\n",
            "\u001b[1m\u001b[92m8\u001b[0m\t \u001b[1m\u001b[92m[-0.38444514  0.17785749]\u001b[0m\t \u001b[1m\u001b[92m2.00704525418917\u001b[0m\t \u001b[1m\u001b[92m2.00704525418917\u001b[0m\t \u001b[1m\u001b[92m23.461653880406654\u001b[0m\n",
            "\u001b[1m\u001b[92m9\u001b[0m\t \u001b[1m\u001b[92m[-0.38126863  0.17440995]\u001b[0m\t \u001b[1m\u001b[92m1.9922594544158296\u001b[0m\t \u001b[1m\u001b[92m1.9922594544158296\u001b[0m\t \u001b[1m\u001b[92m20.092182947222884\u001b[0m\n",
            "\u001b[1m\u001b[92m10\u001b[0m\t \u001b[1m\u001b[92m[-0.37880952  0.17172413]\u001b[0m\t \u001b[1m\u001b[92m1.9807947372735293\u001b[0m\t \u001b[1m\u001b[92m1.9807947372735293\u001b[0m\t \u001b[1m\u001b[92m17.55870279529976\u001b[0m\n",
            "\u001b[1m\u001b[92m11\u001b[0m\t \u001b[1m\u001b[92m[-0.37684202  0.16956309]\u001b[0m\t \u001b[1m\u001b[92m1.971611745452503\u001b[0m\t \u001b[1m\u001b[92m1.971611745452503\u001b[0m\t \u001b[1m\u001b[92m15.585553204444114\u001b[0m\n",
            "\u001b[1m\u001b[92m12\u001b[0m\t \u001b[1m\u001b[92m[-0.37522735  0.16778059]\u001b[0m\t \u001b[1m\u001b[92m1.9640694124446245\u001b[0m\t \u001b[1m\u001b[92m1.9640694124446245\u001b[0m\t \u001b[1m\u001b[92m14.005990737453232\u001b[0m\n",
            "\u001b[1m\u001b[92m13\u001b[0m\t \u001b[1m\u001b[92m[-0.37387511  0.16628087]\u001b[0m\t \u001b[1m\u001b[92m1.9577486552907235\u001b[0m\t \u001b[1m\u001b[92m1.9577486552907235\u001b[0m\t \u001b[1m\u001b[92m12.713317250423028\u001b[0m\n",
            "\u001b[1m\u001b[92m14\u001b[0m\t \u001b[1m\u001b[92m[-0.37272388  0.16499871]\u001b[0m\t \u001b[1m\u001b[92m1.952364633643914\u001b[0m\t \u001b[1m\u001b[92m1.952364633643914\u001b[0m\t \u001b[1m\u001b[92m11.636124668910746\u001b[0m\n",
            "\u001b[1m\u001b[92m15\u001b[0m\t \u001b[1m\u001b[92m[-0.37173024  0.16388775]\u001b[0m\t \u001b[1m\u001b[92m1.9477153555054127\u001b[0m\t \u001b[1m\u001b[92m1.9477153555054127\u001b[0m\t \u001b[1m\u001b[92m10.724840501984817\u001b[0m\n",
            "\u001b[1m\u001b[92m16\u001b[0m\t \u001b[1m\u001b[92m[-0.37086264  0.16291427]\u001b[0m\t \u001b[1m\u001b[92m1.9436542929373875\u001b[0m\t \u001b[1m\u001b[92m1.9436542929373875\u001b[0m\t \u001b[1m\u001b[92m9.943985840713179\u001b[0m\n",
            "\u001b[1m\u001b[92m17\u001b[0m\t \u001b[1m\u001b[92m[-0.37009758  0.16205293]\u001b[0m\t \u001b[1m\u001b[92m1.940071598444092\u001b[0m\t \u001b[1m\u001b[92m1.940071598444092\u001b[0m\t \u001b[1m\u001b[92m9.267505977960479\u001b[0m\n",
            "\u001b[1m\u001b[92m18\u001b[0m\t \u001b[1m\u001b[92m[-0.36941717  0.16128455]\u001b[0m\t \u001b[1m\u001b[92m1.9368843012640746\u001b[0m\t \u001b[1m\u001b[92m1.9368843012640746\u001b[0m\t \u001b[1m\u001b[92m8.675840121761665\u001b[0m\n",
            "\u001b[1m\u001b[92m19\u001b[0m\t \u001b[1m\u001b[92m[-0.3688075   0.16059404]\u001b[0m\t \u001b[1m\u001b[92m1.9340273623693705\u001b[0m\t \u001b[1m\u001b[92m1.9340273623693705\u001b[0m\t \u001b[1m\u001b[92m8.154019497249772\u001b[0m\n",
            "\u001b[1m\u001b[92m20\u001b[0m\t \u001b[1m\u001b[92m[-0.36825763  0.15996956]\u001b[0m\t \u001b[1m\u001b[92m1.9314498177003898\u001b[0m\t \u001b[1m\u001b[92m1.9314498177003898\u001b[0m\t \u001b[1m\u001b[92m7.690396126958405\u001b[0m\n"
          ]
        }
      ],
      "source": [
        "### Bayesian optimisation runs (x20): 'GP' Acquisition Function run number = 7\n",
        "\n",
        "np.random.seed(run_num_7)\n",
        "surrogate_gp_7 = GaussianProcess(cov_func, optimize=hyperOpt)\n",
        "\n",
        "gp_7 = GPGO_multi(surrogate_gp_7, Acquisition_new(util_gp), f_syn_polarity, param, n_jobs = -1) # define BayesOpt\n",
        "gp_7.run(max_iter = max_iter, init_evals = n_init) # run\n"
      ]
    },
    {
      "cell_type": "code",
      "execution_count": 19,
      "metadata": {
        "id": "vHGwZn0qJLkz",
        "colab": {
          "base_uri": "https://localhost:8080/"
        },
        "outputId": "885fbfac-fc5f-4cd7-ec75-c7f763ba0ba4"
      },
      "outputs": [
        {
          "output_type": "stream",
          "name": "stdout",
          "text": [
            "Evaluation \t Proposed point \t  Current eval. \t  Best eval. \t Min. ApproxAcqFunc \n",
            "init\t [1.52956683 1.91914255]\t 17.95675982372887\t 1.7663579664225912\t    \n",
            "init\t [1.51222084 0.12638491]\t 467.0068292530542\t 1.7663579664225912\t    \n",
            "init\t [-1.09474477 -2.0013105 ]\t 1028.244988519411\t 1.7663579664225912\t    \n",
            "init\t [-0.28479972 -0.39996883]\t 24.79447905426233\t 1.7663579664225912\t    \n",
            "init\t [ 0.09287545 -0.0885072 ]\t 1.7663579664225912\t 1.7663579664225912\t    \n",
            "1  \t [-0.55145036  0.84181591]\t 31.3211073777646\t 1.7663579664225912\t -3.214588514473642\n",
            "2  \t [-2.048  2.048]\t 469.9523900415999\t 1.7663579664225912\t -2.7196493014728538\n",
            "3  \t [ 2.048 -2.048]\t 3897.7342268415996\t 1.7663579664225912\t -2.1804210468047214\n",
            "4  \t [-0.36818672  0.3790994 ]\t 7.803007972397172\t 1.7663579664225912\t -1.8987601825259506\n",
            "5  \t [-0.36698746  0.37746411]\t 7.76307688771208\t 1.7663579664225912\t 0.19715390418489695\n",
            "6  \t [-0.36630856  0.37652623]\t 7.73987382315488\t 1.7663579664225912\t 1.3869744632211138\n",
            "7  \t [-0.36587332  0.37592005]\t 7.724757577699276\t 1.7663579664225912\t 2.1532857557498395\n",
            "8  \t [-0.36557128  0.37549702]\t 7.714152506303779\t 1.7663579664225912\t 2.687763807000432\n",
            "9  \t [-0.36534983  0.37518555]\t 7.706313525292309\t 1.7663579664225912\t 3.081637256879092\n",
            "10 \t [-0.36518074  0.37494697]\t 7.7002913123618955\t 1.7663579664225912\t 3.3838485942449816\n",
            "11 \t [-0.36504757  0.37475856]\t 7.695523450564882\t 1.7663579664225912\t 3.623003038723347\n",
            "12 \t [-0.36494004  0.37460613]\t 7.691659498847051\t 1.7663579664225912\t 3.8169339800814868\n",
            "13 \t [-0.36485151  0.37448033]\t 7.688463606467913\t 1.7663579664225912\t 3.9773352716103\n",
            "14 \t [-0.36477735  0.37437486]\t 7.685781960883379\t 1.7663579664225912\t 4.112192369196264\n",
            "15 \t [-0.36471438  0.37428517]\t 7.6834985482698\t 1.7663579664225912\t 4.227144215511996\n",
            "16 \t [-0.36466028  0.37420798]\t 7.681530565051112\t 1.7663579664225912\t 4.326285241211607\n",
            "17 \t [-0.36461331  0.3741409 ]\t 7.679818523923329\t 1.7663579664225912\t 4.412660082165898\n",
            "18 \t [-0.36457213  0.37408205]\t 7.678315977084051\t 1.7663579664225912\t 4.4885797022960245\n",
            "19 \t [-0.36453579  0.37403006]\t 7.676987098453508\t 1.7663579664225912\t 4.555829631275111\n",
            "20 \t [-0.36450348  0.3739838 ]\t 7.675803950393255\t 1.7663579664225912\t 4.615811178900125\n"
          ]
        }
      ],
      "source": [
        "### Bayesian optimisation runs (x20): 'GP' Acquisition Function run number = 8\n",
        "\n",
        "np.random.seed(run_num_8)\n",
        "surrogate_gp_8 = GaussianProcess(cov_func, optimize=hyperOpt)\n",
        "\n",
        "gp_8 = GPGO_multi(surrogate_gp_8, Acquisition_new(util_gp), f_syn_polarity, param, n_jobs = -1) # define BayesOpt\n",
        "gp_8.run(max_iter = max_iter, init_evals = n_init) # run\n"
      ]
    },
    {
      "cell_type": "code",
      "execution_count": 20,
      "metadata": {
        "id": "YC6sxKgkJLkz",
        "colab": {
          "base_uri": "https://localhost:8080/"
        },
        "outputId": "eb753e9a-5be5-4a03-904c-aba51815b059"
      },
      "outputs": [
        {
          "output_type": "stream",
          "name": "stdout",
          "text": [
            "Evaluation \t Proposed point \t  Current eval. \t  Best eval. \t Min. ApproxAcqFunc \n",
            "init\t [-2.00550747  0.00767833]\t 1620.5592513107108\t 132.4681822844375\t    \n",
            "init\t [-0.01731259 -1.49983425]\t 226.0751192637302\t 132.4681822844375\t    \n",
            "init\t [-1.46591299 -1.15278366]\t 1096.1928272344956\t 132.4681822844375\t    \n",
            "init\t [-0.33379049 -1.03177761]\t 132.4681822844375\t 132.4681822844375\t    \n",
            "init\t [-1.70369167 -0.63283757]\t 1257.2172959284223\t 132.4681822844375\t    \n",
            "1  \t [ 1.44056482 -0.0133712 ]\t 436.4183386380958\t 132.4681822844375\t -5.396019593610753\n",
            "2  \t [2.048 2.048]\t 461.7603900415999\t 132.4681822844375\t 19.06410215180806\n",
            "3  \t [ 2.048 -2.048]\t 3897.7342268415996\t 132.4681822844375\t 22.340445359171056\n",
            "4  \t [-0.31621121  2.048     ]\t 381.20689169007954\t 132.4681822844375\t 35.6189268540735\n",
            "5  \t [-2.048  2.048]\t 469.9523900415999\t 132.4681822844375\t 123.85265224109278\n",
            "\u001b[1m\u001b[92m6\u001b[0m\t \u001b[1m\u001b[92m[0.45736024 0.44866075]\u001b[0m\t \u001b[1m\u001b[92m6.029637838071775\u001b[0m\t \u001b[1m\u001b[92m6.029637838071775\u001b[0m\t \u001b[1m\u001b[92m151.39241931988596\u001b[0m\n",
            "7  \t [0.43809478 0.47386456]\t 8.264613961213513\t 6.029637838071775\t 85.60111487450055\n",
            "8  \t [0.43112483 0.48383305]\t 9.201899353895012\t 6.029637838071775\t 60.95401104565613\n",
            "9  \t [0.42749684 0.48941708]\t 9.73201178174538\t 6.029637838071775\t 48.17416460065172\n",
            "10 \t [0.42526379 0.49307383]\t 10.078737784970514\t 6.029637838071775\t 40.39086341828182\n",
            "11 \t [0.42374834 0.49569179]\t 10.32582944887307\t 6.029637838071775\t 35.168754305748934\n",
            "12 \t [0.42265169 0.49767763]\t 10.512186111072742\t 6.029637838071775\t 31.430227501267854\n",
            "13 \t [0.42182112 0.49924635]\t 10.658513467782972\t 6.029637838071775\t 28.62620697504954\n",
            "14 \t [0.42117031 0.50052334]\t 10.776919430680799\t 6.029637838071775\t 26.447988492076043\n",
            "15 \t [0.42064666 0.50158724]\t 10.87499886218403\t 6.029637838071775\t 24.708895826430492\n",
            "16 \t [0.42021634 0.50249009]\t 10.957772328429286\t 6.029637838071775\t 23.289516507166454\n",
            "17 \t [0.41985654 0.50326784]\t 11.028702510089968\t 6.029637838071775\t 22.109968153125422\n",
            "18 \t [0.41955135 0.50394619]\t 11.090260565463781\t 6.029637838071775\t 21.11482511019128\n",
            "19 \t [0.41928929 0.50454415]\t 11.144265532643765\t 6.029637838071775\t 20.26444481083364\n",
            "20 \t [0.4190619  0.50507593]\t 11.192079487481879\t 6.029637838071775\t 19.52973635353992\n"
          ]
        }
      ],
      "source": [
        "### Bayesian optimisation runs (x20): 'GP' Acquisition Function run number = 9\n",
        "\n",
        "np.random.seed(run_num_9)\n",
        "surrogate_gp_9 = GaussianProcess(cov_func, optimize=hyperOpt)\n",
        "\n",
        "gp_9 = GPGO_multi(surrogate_gp_9, Acquisition_new(util_gp), f_syn_polarity, param, n_jobs = -1) # define BayesOpt\n",
        "gp_9.run(max_iter = max_iter, init_evals = n_init) # run\n"
      ]
    },
    {
      "cell_type": "code",
      "execution_count": 21,
      "metadata": {
        "id": "P-0wfCEIJLk0",
        "colab": {
          "base_uri": "https://localhost:8080/"
        },
        "outputId": "5777b7a7-dd12-4e7d-e7ad-e6d412ca770c"
      },
      "outputs": [
        {
          "output_type": "stream",
          "name": "stdout",
          "text": [
            "Evaluation \t Proposed point \t  Current eval. \t  Best eval. \t Min. ApproxAcqFunc \n",
            "init\t [ 1.11132935 -1.96300002]\t 1022.7666615237944\t 26.382363522743674\t    \n",
            "init\t [0.54742317 1.0191007 ]\t 51.962573317574716\t 26.382363522743674\t    \n",
            "init\t [-0.00611528 -1.12723294]\t 128.08610911295406\t 26.382363522743674\t    \n",
            "init\t [-1.23673451  1.0671338 ]\t 26.382363522743674\t 26.382363522743674\t    \n",
            "init\t [-1.35532201 -1.68616012]\t 1246.7412252563456\t 26.382363522743674\t    \n",
            "1  \t [2.048 2.048]\t 461.7603900415999\t 26.382363522743674\t -1.7266682871994354\n",
            "2  \t [-2.048  2.048]\t 469.9523900415999\t 26.382363522743674\t -0.045235892865256394\n",
            "\u001b[1m\u001b[92m3\u001b[0m\t \u001b[1m\u001b[92m[-0.69005673  0.57775149]\u001b[0m\t \u001b[1m\u001b[92m3.888003270765736\u001b[0m\t \u001b[1m\u001b[92m3.888003270765736\u001b[0m\t \u001b[1m\u001b[92m1.4338936715882555\u001b[0m\n",
            "\u001b[1m\u001b[92m4\u001b[0m\t \u001b[1m\u001b[92m[-0.69139291  0.57869239]\u001b[0m\t \u001b[1m\u001b[92m3.874219279236499\u001b[0m\t \u001b[1m\u001b[92m3.874219279236499\u001b[0m\t \u001b[1m\u001b[92m1.6120661545386954\u001b[0m\n",
            "\u001b[1m\u001b[92m5\u001b[0m\t \u001b[1m\u001b[92m[-0.69199232  0.57911372]\u001b[0m\t \u001b[1m\u001b[92m3.8680515986031887\u001b[0m\t \u001b[1m\u001b[92m3.8680515986031887\u001b[0m\t \u001b[1m\u001b[92m1.6852418921484924\u001b[0m\n",
            "\u001b[1m\u001b[92m6\u001b[0m\t \u001b[1m\u001b[92m[-0.69233323  0.57935333]\u001b[0m\t \u001b[1m\u001b[92m3.8645524391887087\u001b[0m\t \u001b[1m\u001b[92m3.8645524391887087\u001b[0m\t \u001b[1m\u001b[92m1.7249599483033704\u001b[0m\n",
            "\u001b[1m\u001b[92m7\u001b[0m\t \u001b[1m\u001b[92m[-0.6925524   0.57950797]\u001b[0m\t \u001b[1m\u001b[92m3.8623180888733586\u001b[0m\t \u001b[1m\u001b[92m3.8623180888733586\u001b[0m\t \u001b[1m\u001b[92m1.7498123982669447\u001b[0m\n",
            "\u001b[1m\u001b[92m8\u001b[0m\t \u001b[1m\u001b[92m[-0.69270526  0.57961586]\u001b[0m\t \u001b[1m\u001b[92m3.860761788104701\u001b[0m\t \u001b[1m\u001b[92m3.860761788104701\u001b[0m\t \u001b[1m\u001b[92m1.7667871116756597\u001b[0m\n",
            "\u001b[1m\u001b[92m9\u001b[0m\t \u001b[1m\u001b[92m[-0.69281789  0.57969532]\u001b[0m\t \u001b[1m\u001b[92m3.85961544982972\u001b[0m\t \u001b[1m\u001b[92m3.85961544982972\u001b[0m\t \u001b[1m\u001b[92m1.7790926048591997\u001b[0m\n",
            "\u001b[1m\u001b[92m10\u001b[0m\t \u001b[1m\u001b[92m[-0.69290402  0.57975628]\u001b[0m\t \u001b[1m\u001b[92m3.8587428925044316\u001b[0m\t \u001b[1m\u001b[92m3.8587428925044316\u001b[0m\t \u001b[1m\u001b[92m1.7884077551136124\u001b[0m\n",
            "\u001b[1m\u001b[92m11\u001b[0m\t \u001b[1m\u001b[92m[-0.69297196  0.57980451]\u001b[0m\t \u001b[1m\u001b[92m3.858057891729346\u001b[0m\t \u001b[1m\u001b[92m3.858057891729346\u001b[0m\t \u001b[1m\u001b[92m1.7956958229911872\u001b[0m\n",
            "\u001b[1m\u001b[92m12\u001b[0m\t \u001b[1m\u001b[92m[-0.69302681  0.57984361]\u001b[0m\t \u001b[1m\u001b[92m3.8575084390259566\u001b[0m\t \u001b[1m\u001b[92m3.8575084390259566\u001b[0m\t \u001b[1m\u001b[92m1.801547942627004\u001b[0m\n",
            "\u001b[1m\u001b[92m13\u001b[0m\t \u001b[1m\u001b[92m[-0.69307215  0.5798759 ]\u001b[0m\t \u001b[1m\u001b[92m3.857053543275949\u001b[0m\t \u001b[1m\u001b[92m3.857053543275949\u001b[0m\t \u001b[1m\u001b[92m1.8063466953947167\u001b[0m\n",
            "\u001b[1m\u001b[92m14\u001b[0m\t \u001b[1m\u001b[92m[-0.69311029  0.57990298]\u001b[0m\t \u001b[1m\u001b[92m3.8566693444448434\u001b[0m\t \u001b[1m\u001b[92m3.8566693444448434\u001b[0m\t \u001b[1m\u001b[92m1.810350002303213\u001b[0m\n",
            "\u001b[1m\u001b[92m15\u001b[0m\t \u001b[1m\u001b[92m[-0.69314255  0.57992609]\u001b[0m\t \u001b[1m\u001b[92m3.856348826762533\u001b[0m\t \u001b[1m\u001b[92m3.856348826762533\u001b[0m\t \u001b[1m\u001b[92m1.8137383491555275\u001b[0m\n",
            "\u001b[1m\u001b[92m16\u001b[0m\t \u001b[1m\u001b[92m[-0.69317047  0.57994596]\u001b[0m\t \u001b[1m\u001b[92m3.856068604096716\u001b[0m\t \u001b[1m\u001b[92m3.856068604096716\u001b[0m\t \u001b[1m\u001b[92m1.81664209396275\u001b[0m\n",
            "\u001b[1m\u001b[92m17\u001b[0m\t \u001b[1m\u001b[92m[-0.69319452  0.57996329]\u001b[0m\t \u001b[1m\u001b[92m3.855831412123694\u001b[0m\t \u001b[1m\u001b[92m3.855831412123694\u001b[0m\t \u001b[1m\u001b[92m1.8191569314381115\u001b[0m\n",
            "\u001b[1m\u001b[92m18\u001b[0m\t \u001b[1m\u001b[92m[-0.69321582  0.57997848]\u001b[0m\t \u001b[1m\u001b[92m3.855618486171217\u001b[0m\t \u001b[1m\u001b[92m3.855618486171217\u001b[0m\t \u001b[1m\u001b[92m1.8213554723800898\u001b[0m\n",
            "\u001b[1m\u001b[92m19\u001b[0m\t \u001b[1m\u001b[92m[-0.69323454  0.57999192]\u001b[0m\t \u001b[1m\u001b[92m3.855432885861068\u001b[0m\t \u001b[1m\u001b[92m3.855432885861068\u001b[0m\t \u001b[1m\u001b[92m1.8232929606162442\u001b[0m\n",
            "\u001b[1m\u001b[92m20\u001b[0m\t \u001b[1m\u001b[92m[-0.69325135  0.58000388]\u001b[0m\t \u001b[1m\u001b[92m3.8552642533555876\u001b[0m\t \u001b[1m\u001b[92m3.8552642533555876\u001b[0m\t \u001b[1m\u001b[92m1.8250128168403887\u001b[0m\n"
          ]
        }
      ],
      "source": [
        "### Bayesian optimisation runs (x20): 'GP' Acquisition Function run number = 10\n",
        "\n",
        "np.random.seed(run_num_10)\n",
        "surrogate_gp_10 = GaussianProcess(cov_func, optimize=hyperOpt)\n",
        "\n",
        "gp_10 = GPGO_multi(surrogate_gp_10, Acquisition_new(util_gp), f_syn_polarity, param, n_jobs = -1) # define BayesOpt\n",
        "gp_10.run(max_iter = max_iter, init_evals = n_init) # run\n"
      ]
    },
    {
      "cell_type": "code",
      "execution_count": 22,
      "metadata": {
        "id": "Z6wmPCIEJLk2",
        "colab": {
          "base_uri": "https://localhost:8080/"
        },
        "outputId": "cc19e8c1-7d17-4c57-92e8-2ead2080c7f5"
      },
      "outputs": [
        {
          "output_type": "stream",
          "name": "stdout",
          "text": [
            "Evaluation \t Proposed point \t  Current eval. \t  Best eval. \t Min. ApproxAcqFunc \n",
            "init\t [-1.30961535 -1.96822941]\t 1362.0202619238294\t 4.533376036769996\t    \n",
            "init\t [-0.15065692  0.92132937]\t 82.0779347186456\t 4.533376036769996\t    \n",
            "init\t [-0.32684604 -0.05969061]\t 4.533376036769996\t 4.533376036769996\t    \n",
            "init\t [-1.99564978 -0.0517259 ]\t 1636.5670319859503\t 4.533376036769996\t    \n",
            "init\t [1.80964005 1.43685669]\t 338.45801473698816\t 4.533376036769996\t    \n",
            "1  \t [ 0.67634073 -0.25465146]\t 50.811722137458325\t 4.533376036769996\t -12.353553946865462\n",
            "2  \t [ 2.048 -2.048]\t 3897.7342268415996\t 4.533376036769996\t 1.2776098999750825\n",
            "3  \t [0.33520768 0.32779882]\t 5.083156554584719\t 4.533376036769996\t 0.64360468931524\n",
            "4  \t [0.33472736 0.32724162]\t 5.0736577786244\t 4.533376036769996\t 1.3530739058629482\n",
            "5  \t [0.33446264 0.32693444]\t 5.068415622667275\t 4.533376036769996\t 1.7403915370470442\n",
            "6  \t [0.33429496 0.32673997]\t 5.065097566220301\t 4.533376036769996\t 1.9842963049828315\n",
            "7  \t [0.33417929 0.32660583]\t 5.062809107810247\t 4.533376036769996\t 2.151947645370325\n",
            "8  \t [0.33409466 0.3265078 ]\t 5.061139017264887\t 4.533376036769996\t 2.274240806057584\n",
            "9  \t [0.33403009 0.32643308]\t 5.0598678225329925\t 4.533376036769996\t 2.3673718843496125\n",
            "10 \t [0.33397925 0.32637414]\t 5.058862348669016\t 4.533376036769996\t 2.440649183307705\n",
            "11 \t [0.33393815 0.32632659]\t 5.0580538510280055\t 4.533376036769996\t 2.4998016161086607\n",
            "12 \t [0.33390425 0.32628741]\t 5.057388232179421\t 4.533376036769996\t 2.5485491137600342\n",
            "13 \t [0.3338758  0.32625453]\t 5.0568301531056585\t 4.533376036769996\t 2.5894113353611807\n",
            "14 \t [0.33385162 0.3262266 ]\t 5.056355941384423\t 4.533376036769996\t 2.6241555865272628\n",
            "15 \t [0.3338308  0.32620254]\t 5.055947294911956\t 4.533376036769996\t 2.654058113749397\n",
            "16 \t [0.33381269 0.32618162]\t 5.055592206916874\t 4.533376036769996\t 2.680063449056206\n",
            "17 \t [0.33379678 0.32616329]\t 5.055282291375947\t 4.533376036769996\t 2.702885660174411\n",
            "18 \t [0.3337827  0.32614706]\t 5.055007516817209\t 4.533376036769996\t 2.7230746165404818\n",
            "19 \t [0.33377018 0.32613262]\t 5.054763333676979\t 4.533376036769996\t 2.741060410585803\n",
            "20 \t [0.33375894 0.32611965]\t 5.054543547339945\t 4.533376036769996\t 2.757184438667427\n"
          ]
        }
      ],
      "source": [
        "### Bayesian optimisation runs (x20): 'GP' Acquisition Function run number = 11\n",
        "\n",
        "np.random.seed(run_num_11)\n",
        "surrogate_gp_11 = GaussianProcess(cov_func, optimize=hyperOpt)\n",
        "\n",
        "gp_11 = GPGO_multi(surrogate_gp_11, Acquisition_new(util_gp), f_syn_polarity, param, n_jobs = -1) # define BayesOpt\n",
        "gp_11.run(max_iter = max_iter, init_evals = n_init) # run\n"
      ]
    },
    {
      "cell_type": "code",
      "execution_count": 23,
      "metadata": {
        "id": "oNR6-n7iJLk3",
        "colab": {
          "base_uri": "https://localhost:8080/"
        },
        "outputId": "2c2d2915-0ff2-4ef9-eefb-88634c2ced6e"
      },
      "outputs": [
        {
          "output_type": "stream",
          "name": "stdout",
          "text": [
            "Evaluation \t Proposed point \t  Current eval. \t  Best eval. \t Min. ApproxAcqFunc \n",
            "init\t [-1.416549    0.98324356]\t 110.56781423235984\t 68.14456326432247\t    \n",
            "init\t [-0.9694617   0.13819656]\t 68.14456326432247\t 68.14456326432247\t    \n",
            "init\t [-1.98830095  1.71518775]\t 509.86279959563035\t 68.14456326432247\t    \n",
            "init\t [ 1.64132804 -1.91110583]\t 2121.0723550229873\t 68.14456326432247\t    \n",
            "init\t [ 1.87166448 -1.48599062]\t 2489.890190157968\t 68.14456326432247\t    \n",
            "1  \t [-2.048 -2.048]\t 3905.9262268415996\t 68.14456326432247\t -0.8395986065430187\n",
            "2  \t [2.048 2.048]\t 461.7603900415999\t 68.14456326432247\t -0.7807752852801844\n",
            "\u001b[1m\u001b[92m3\u001b[0m\t \u001b[1m\u001b[92m[-0.22135081  0.71993936]\u001b[0m\t \u001b[1m\u001b[92m46.508173181170065\u001b[0m\t \u001b[1m\u001b[92m46.508173181170065\u001b[0m\t \u001b[1m\u001b[92m24.57479432085719\u001b[0m\n",
            "\u001b[1m\u001b[92m4\u001b[0m\t \u001b[1m\u001b[92m[-0.24455324  0.70206406]\u001b[0m\t \u001b[1m\u001b[92m42.79841688721608\u001b[0m\t \u001b[1m\u001b[92m42.79841688721608\u001b[0m\t \u001b[1m\u001b[92m33.09013887911929\u001b[0m\n",
            "\u001b[1m\u001b[92m5\u001b[0m\t \u001b[1m\u001b[92m[-0.25073826  0.69752325]\u001b[0m\t \u001b[1m\u001b[92m41.84286205392708\u001b[0m\t \u001b[1m\u001b[92m41.84286205392708\u001b[0m\t \u001b[1m\u001b[92m35.37222330183549\u001b[0m\n",
            "\u001b[1m\u001b[92m6\u001b[0m\t \u001b[1m\u001b[92m[-0.25347612  0.69555294]\u001b[0m\t \u001b[1m\u001b[92m41.425525067589085\u001b[0m\t \u001b[1m\u001b[92m41.425525067589085\u001b[0m\t \u001b[1m\u001b[92m36.3897859989692\u001b[0m\n",
            "\u001b[1m\u001b[92m7\u001b[0m\t \u001b[1m\u001b[92m[-0.2549789   0.69448466]\u001b[0m\t \u001b[1m\u001b[92m41.198273446221336\u001b[0m\t \u001b[1m\u001b[92m41.198273446221336\u001b[0m\t \u001b[1m\u001b[92m36.951623715298766\u001b[0m\n",
            "\u001b[1m\u001b[92m8\u001b[0m\t \u001b[1m\u001b[92m[-0.25591199  0.69382707]\u001b[0m\t \u001b[1m\u001b[92m41.05794381184957\u001b[0m\t \u001b[1m\u001b[92m41.05794381184957\u001b[0m\t \u001b[1m\u001b[92m37.302103488231886\u001b[0m\n",
            "\u001b[1m\u001b[92m9\u001b[0m\t \u001b[1m\u001b[92m[-0.25654012  0.69338736]\u001b[0m\t \u001b[1m\u001b[92m40.96387187232686\u001b[0m\t \u001b[1m\u001b[92m40.96387187232686\u001b[0m\t \u001b[1m\u001b[92m37.53887952428496\u001b[0m\n",
            "\u001b[1m\u001b[92m10\u001b[0m\t \u001b[1m\u001b[92m[-0.25698778  0.69307569]\u001b[0m\t \u001b[1m\u001b[92m40.89705305292462\u001b[0m\t \u001b[1m\u001b[92m40.89705305292462\u001b[0m\t \u001b[1m\u001b[92m37.70811825343916\u001b[0m\n",
            "\u001b[1m\u001b[92m11\u001b[0m\t \u001b[1m\u001b[92m[-0.25732073  0.69284488]\u001b[0m\t \u001b[1m\u001b[92m40.847486990742766\u001b[0m\t \u001b[1m\u001b[92m40.847486990742766\u001b[0m\t \u001b[1m\u001b[92m37.83428239725862\u001b[0m\n",
            "\u001b[1m\u001b[92m12\u001b[0m\t \u001b[1m\u001b[92m[-0.2575767   0.69266814]\u001b[0m\t \u001b[1m\u001b[92m40.80947179783758\u001b[0m\t \u001b[1m\u001b[92m40.80947179783758\u001b[0m\t \u001b[1m\u001b[92m37.931454505068245\u001b[0m\n",
            "\u001b[1m\u001b[92m13\u001b[0m\t \u001b[1m\u001b[92m[-0.25777875  0.6925291 ]\u001b[0m\t \u001b[1m\u001b[92m40.77952629305677\u001b[0m\t \u001b[1m\u001b[92m40.77952629305677\u001b[0m\t \u001b[1m\u001b[92m38.00827332118028\u001b[0m\n",
            "\u001b[1m\u001b[92m14\u001b[0m\t \u001b[1m\u001b[92m[-0.25794173  0.69241727]\u001b[0m\t \u001b[1m\u001b[92m40.755412853094896\u001b[0m\t \u001b[1m\u001b[92m40.755412853094896\u001b[0m\t \u001b[1m\u001b[92m38.07030992608167\u001b[0m\n",
            "\u001b[1m\u001b[92m15\u001b[0m\t \u001b[1m\u001b[92m[-0.25807563  0.69232562]\u001b[0m\t \u001b[1m\u001b[92m40.7356301772331\u001b[0m\t \u001b[1m\u001b[92m40.7356301772331\u001b[0m\t \u001b[1m\u001b[92m38.1213057537833\u001b[0m\n",
            "\u001b[1m\u001b[92m16\u001b[0m\t \u001b[1m\u001b[92m[-0.25818722  0.69224943]\u001b[0m\t \u001b[1m\u001b[92m40.71916883400461\u001b[0m\t \u001b[1m\u001b[92m40.71916883400461\u001b[0m\t \u001b[1m\u001b[92m38.163859139636926\u001b[0m\n",
            "\u001b[1m\u001b[92m17\u001b[0m\t \u001b[1m\u001b[92m[-0.25828149  0.69218522]\u001b[0m\t \u001b[1m\u001b[92m40.70528157674273\u001b[0m\t \u001b[1m\u001b[92m40.70528157674273\u001b[0m\t \u001b[1m\u001b[92m38.19982838071486\u001b[0m\n",
            "\u001b[1m\u001b[92m18\u001b[0m\t \u001b[1m\u001b[92m[-0.25836205  0.69213045]\u001b[0m\t \u001b[1m\u001b[92m40.69342732880058\u001b[0m\t \u001b[1m\u001b[92m40.69342732880058\u001b[0m\t \u001b[1m\u001b[92m38.230573292873075\u001b[0m\n",
            "\u001b[1m\u001b[92m19\u001b[0m\t \u001b[1m\u001b[92m[-0.25843159  0.69208322]\u001b[0m\t \u001b[1m\u001b[92m40.683201032746915\u001b[0m\t \u001b[1m\u001b[92m40.683201032746915\u001b[0m\t \u001b[1m\u001b[92m38.25711024999297\u001b[0m\n",
            "\u001b[1m\u001b[92m20\u001b[0m\t \u001b[1m\u001b[92m[-0.25849207  0.69204223]\u001b[0m\t \u001b[1m\u001b[92m40.67431759051429\u001b[0m\t \u001b[1m\u001b[92m40.67431759051429\u001b[0m\t \u001b[1m\u001b[92m38.28021285851848\u001b[0m\n"
          ]
        }
      ],
      "source": [
        "### Bayesian optimisation runs (x20): 'GP' Acquisition Function run number = 12\n",
        "\n",
        "np.random.seed(run_num_12)\n",
        "surrogate_gp_12 = GaussianProcess(cov_func, optimize=hyperOpt)\n",
        "\n",
        "gp_12 = GPGO_multi(surrogate_gp_12, Acquisition_new(util_gp), f_syn_polarity, param, n_jobs = -1) # define BayesOpt\n",
        "gp_12.run(max_iter = max_iter, init_evals = n_init) # run\n"
      ]
    },
    {
      "cell_type": "code",
      "execution_count": 24,
      "metadata": {
        "id": "z1CyiX30JLk4",
        "colab": {
          "base_uri": "https://localhost:8080/"
        },
        "outputId": "fbf13e30-3731-4416-83d5-d2363c60f606"
      },
      "outputs": [
        {
          "output_type": "stream",
          "name": "stdout",
          "text": [
            "Evaluation \t Proposed point \t  Current eval. \t  Best eval. \t Min. ApproxAcqFunc \n",
            "init\t [ 1.13746907 -1.07503116]\t 561.1720108286133\t 2.166231627813885\t    \n",
            "init\t [1.32824487 1.90770872]\t 2.166231627813885\t 2.166231627813885\t    \n",
            "init\t [ 1.93577416 -0.19067188]\t 1551.5761879230556\t 2.166231627813885\t    \n",
            "init\t [0.44663793 1.1285566 ]\t 86.6235326520391\t 2.166231627813885\t    \n",
            "init\t [0.58004826 0.90938667]\t 33.00131633274188\t 2.166231627813885\t    \n",
            "1  \t [0.18878272 2.048     ]\t 405.6177874873539\t 2.166231627813885\t -19.8822693504938\n",
            "2  \t [-2.048      -0.35234556]\t 2076.4925277623465\t 2.166231627813885\t -2.775742934241816\n",
            "3  \t [2.048 2.048]\t 461.7603900415999\t 2.166231627813885\t 13.130504170596822\n",
            "4  \t [-2.048  2.048]\t 469.9523900415999\t 2.166231627813885\t 71.7218008281109\n",
            "5  \t [-0.08590068 -2.048     ]\t 423.63743376824124\t 2.166231627813885\t 78.31437005903713\n",
            "6  \t [0.26454896 1.12378166]\t 111.58938585156567\t 2.166231627813885\t 107.44425171673456\n",
            "7  \t [0.26573983 1.12479032]\t 111.66713805705122\t 2.166231627813885\t 107.97660446029077\n",
            "8  \t [0.26649255 1.12542805]\t 111.71602936478732\t 2.166231627813885\t 108.31239932778202\n",
            "9  \t [0.26701341 1.12586929]\t 111.74971851741664\t 2.166231627813885\t 108.54485936233415\n",
            "10 \t [0.26739604 1.1261933 ]\t 111.77436814177544\t 2.166231627813885\t 108.71597554248798\n",
            "11 \t [0.26768962 1.12644174]\t 111.793208298382\t 2.166231627813885\t 108.8475556433644\n",
            "12 \t [0.26792227 1.12663851]\t 111.80809095611554\t 2.166231627813885\t 108.95209497853115\n",
            "13 \t [0.26811129 1.12679825]\t 111.82013923166633\t 2.166231627813885\t 109.03728710674814\n",
            "14 \t [0.26826806 1.1269307 ]\t 111.83011499752705\t 2.166231627813885\t 109.10813633140249\n",
            "15 \t [0.26840025 1.12704227]\t 111.83849209587157\t 2.166231627813885\t 109.16804606780167\n",
            "16 \t [0.26851333 1.12713765]\t 111.8456406427011\t 2.166231627813885\t 109.21941128908144\n",
            "17 \t [0.26861109 1.12722008]\t 111.85181101145155\t 2.166231627813885\t 109.26397060430234\n",
            "18 \t [0.26869655 1.12729206]\t 111.85718785779457\t 2.166231627813885\t 109.30301666902105\n",
            "19 \t [0.2687719  1.12735554]\t 111.86192570106377\t 2.166231627813885\t 109.33753118326855\n",
            "20 \t [0.26883885 1.12741186]\t 111.86611645891963\t 2.166231627813885\t 109.36827441355496\n"
          ]
        }
      ],
      "source": [
        "### Bayesian optimisation runs (x20): 'GP' Acquisition Function run number = 13\n",
        "\n",
        "np.random.seed(run_num_13)\n",
        "surrogate_gp_13 = GaussianProcess(cov_func, optimize=hyperOpt)\n",
        "\n",
        "gp_13 = GPGO_multi(surrogate_gp_13, Acquisition_new(util_gp), f_syn_polarity, param, n_jobs = -1) # define BayesOpt\n",
        "gp_13.run(max_iter = max_iter, init_evals = n_init) # run\n"
      ]
    },
    {
      "cell_type": "code",
      "execution_count": 25,
      "metadata": {
        "id": "Dx5l3xHMJLk5",
        "colab": {
          "base_uri": "https://localhost:8080/"
        },
        "outputId": "4d7fe845-6a04-4419-8b50-a5707785a6af"
      },
      "outputs": [
        {
          "output_type": "stream",
          "name": "stdout",
          "text": [
            "Evaluation \t Proposed point \t  Current eval. \t  Best eval. \t Min. ApproxAcqFunc \n",
            "init\t [0.05711194 1.11888405]\t 125.35034508047823\t 56.7252447162893\t    \n",
            "init\t [ 1.5172718 -2.0150397]\t 1864.0489319378007\t 56.7252447162893\t    \n",
            "init\t [-0.77932165  1.87434492]\t 163.6955655658878\t 56.7252447162893\t    \n",
            "init\t [ 0.05372605 -0.744307  ]\t 56.7252447162893\t 56.7252447162893\t    \n",
            "init\t [ 0.16056294 -1.14173976]\t 137.01499974575526\t 56.7252447162893\t    \n",
            "1  \t [-1.85845096 -1.21633226]\t 2189.2216080838643\t 56.7252447162893\t -2.9356235508968576\n",
            "2  \t [2.048 2.048]\t 461.7603900415999\t 56.7252447162893\t -1.899411550905565\n",
            "3  \t [-2.048  2.048]\t 469.9523900415999\t 56.7252447162893\t 16.541956030651413\n",
            "\u001b[1m\u001b[92m4\u001b[0m\t \u001b[1m\u001b[92m[0.39324155 0.01356975]\u001b[0m\t \u001b[1m\u001b[92m2.358206812667831\u001b[0m\t \u001b[1m\u001b[92m2.358206812667831\u001b[0m\t \u001b[1m\u001b[92m22.884498640151172\u001b[0m\n",
            "5  \t [0.41634357 0.02776968]\t 2.459783896353915\t 2.358206812667831\t 13.002334689846364\n",
            "6  \t [0.42698466 0.03359979]\t 2.5399948215910517\t 2.358206812667831\t 9.145268081062007\n",
            "7  \t [0.43335298 0.03689791]\t 2.5980759973309873\t 2.358206812667831\t 7.11155280043018\n",
            "8  \t [0.43768104 0.03906279]\t 2.641885621253468\t 2.358206812667831\t 5.862250120437263\n",
            "9  \t [0.44085362 0.04061193]\t 2.6762431090250822\t 2.358206812667831\t 5.019943945626182\n",
            "10 \t [0.44329959 0.04178491]\t 2.7040408309619397\t 2.358206812667831\t 4.415204993863674\n",
            "11 \t [0.44525416 0.04270923]\t 2.727075427573679\t 2.358206812667831\t 3.960885408456319\n",
            "12 \t [0.44685889 0.04345955]\t 2.7465375960924856\t 2.358206812667831\t 3.6076585953589646\n",
            "13 \t [0.44820438 0.04408277]\t 2.7632401774213586\t 2.358206812667831\t 3.3255514224847795\n",
            "14 \t [0.44935171 0.04460999]\t 2.777761685640538\t 2.358206812667831\t 3.095319873882814\n",
            "15 \t [0.4503437  0.04506272]\t 2.790525349739256\t 2.358206812667831\t 2.904053790542762\n",
            "16 \t [0.45121132 0.04545632]\t 2.801847355547354\t 2.358206812667831\t 2.74277593162562\n",
            "17 \t [0.45197755 0.04580212]\t 2.811969883324105\t 2.358206812667831\t 2.605054416911633\n",
            "18 \t [0.45266002 0.04610869]\t 2.8210837443034857\t 2.358206812667831\t 2.4861623656756784\n",
            "19 \t [0.45327226 0.04638257]\t 2.829338740172087\t 2.358206812667831\t 2.3825504119410366\n",
            "20 \t [0.45382529 0.04662897]\t 2.836861558973368\t 2.358206812667831\t 2.2915018706679096\n"
          ]
        }
      ],
      "source": [
        "### Bayesian optimisation runs (x20): 'GP' Acquisition Function run number = 14\n",
        "\n",
        "np.random.seed(run_num_14)\n",
        "surrogate_gp_14 = GaussianProcess(cov_func, optimize=hyperOpt)\n",
        "\n",
        "gp_14 = GPGO_multi(surrogate_gp_14, Acquisition_new(util_gp), f_syn_polarity, param, n_jobs = -1) # define BayesOpt\n",
        "gp_14.run(max_iter = max_iter, init_evals = n_init) # run\n"
      ]
    },
    {
      "cell_type": "code",
      "execution_count": 26,
      "metadata": {
        "id": "mNCLg6LHJLk6",
        "colab": {
          "base_uri": "https://localhost:8080/"
        },
        "outputId": "7626fc7e-98d8-4dff-b004-2139079de6a2"
      },
      "outputs": [
        {
          "output_type": "stream",
          "name": "stdout",
          "text": [
            "Evaluation \t Proposed point \t  Current eval. \t  Best eval. \t Min. ApproxAcqFunc \n",
            "init\t [ 1.42875729 -1.31524229]\t 1126.8532605124637\t 56.02298763074632\t    \n",
            "init\t [-1.82532827 -0.56713852]\t 1528.1728177033635\t 56.02298763074632\t    \n",
            "init\t [-0.9199578   0.12288092]\t 56.02298763074632\t 56.02298763074632\t    \n",
            "init\t [-0.79495612 -0.80087302]\t 208.52154958515655\t 56.02298763074632\t    \n",
            "init\t [-1.59030773 -1.02441364]\t 1269.4404638957562\t 56.02298763074632\t    \n",
            "\u001b[1m\u001b[92m1\u001b[0m\t \u001b[1m\u001b[92m[-0.25762975  0.46687282]\u001b[0m\t \u001b[1m\u001b[92m17.621636274780048\u001b[0m\t \u001b[1m\u001b[92m17.621636274780048\u001b[0m\t \u001b[1m\u001b[92m-30.233947423217113\u001b[0m\n",
            "\u001b[1m\u001b[92m2\u001b[0m\t \u001b[1m\u001b[92m[-0.29072975  0.45985612]\u001b[0m\t \u001b[1m\u001b[92m15.753419144176434\u001b[0m\t \u001b[1m\u001b[92m15.753419144176434\u001b[0m\t \u001b[1m\u001b[92m-9.218378535992967\u001b[0m\n",
            "3  \t [-0.90851461  1.30581906]\t 26.72279105936442\t 15.753419144176434\t -4.003257906984153\n",
            "4  \t [2.048 2.048]\t 461.7603900415999\t 15.753419144176434\t -2.817339821116012\n",
            "\u001b[1m\u001b[92m5\u001b[0m\t \u001b[1m\u001b[92m[-0.1597922   0.19273671]\u001b[0m\t \u001b[1m\u001b[92m4.140807690309339\u001b[0m\t \u001b[1m\u001b[92m4.140807690309339\u001b[0m\t \u001b[1m\u001b[92m-2.47051947251273\u001b[0m\n",
            "6  \t [-0.16925344  0.211065  ]\t 4.69479638016576\t 4.140807690309339\t -1.136234753196922\n",
            "7  \t [-2.048  2.048]\t 469.9523900415999\t 4.140807690309339\t -0.5992207035870246\n",
            "8  \t [-0.37336781  0.57893451]\t 21.20488806506967\t 4.140807690309339\t -0.9862877017642943\n",
            "\u001b[1m\u001b[92m9\u001b[0m\t \u001b[1m\u001b[92m[-0.16036693  0.18037073]\u001b[0m\t \u001b[1m\u001b[92m3.73821197680223\u001b[0m\t \u001b[1m\u001b[92m3.73821197680223\u001b[0m\t \u001b[1m\u001b[92m1.7651172428539255\u001b[0m\n",
            "10 \t [-0.160628    0.18092674]\t 3.753445734034583\t 3.73821197680223\t 1.758655518372534\n",
            "11 \t [-0.16084795  0.18139462]\t 3.766294584151529\t 3.73821197680223\t 1.7569201898928293\n",
            "12 \t [-0.16103529  0.18179269]\t 3.777247015597165\t 3.73821197680223\t 1.7575678805817585\n",
            "13 \t [-0.16119692  0.1821359 ]\t 3.786705900767858\t 3.73821197680223\t 1.7594702091166163\n",
            "14 \t [-0.161338    0.18243521]\t 3.794966604052138\t 3.73821197680223\t 1.762040288921121\n",
            "15 \t [-0.16146254  0.18269925]\t 3.8022626234932604\t 3.73821197680223\t 1.7649543281363862\n",
            "16 \t [-0.16157342  0.1829342 ]\t 3.808762219636221\t 3.73821197680223\t 1.7680275154572984\n",
            "17 \t [-0.16167297  0.18314503]\t 3.814600079539697\t 3.73821197680223\t 1.7711509422533962\n",
            "18 \t [-0.161763    0.18333545]\t 3.8198769239247374\t 3.73821197680223\t 1.7742598970631571\n",
            "19 \t [-0.16184492  0.18350871]\t 3.8246825218915275\t 3.73821197680223\t 1.77731556720919\n",
            "20 \t [-0.16191988  0.18366718]\t 3.829080845358873\t 3.73821197680223\t 1.7802957714842307\n"
          ]
        }
      ],
      "source": [
        "### Bayesian optimisation runs (x20): 'GP' Acquisition Function run number = 15\n",
        "\n",
        "np.random.seed(run_num_15)\n",
        "surrogate_gp_15 = GaussianProcess(cov_func, optimize=hyperOpt)\n",
        "\n",
        "gp_15 = GPGO_multi(surrogate_gp_15, Acquisition_new(util_gp), f_syn_polarity, param, n_jobs = -1) # define BayesOpt\n",
        "gp_15.run(max_iter = max_iter, init_evals = n_init) # run\n"
      ]
    },
    {
      "cell_type": "code",
      "execution_count": 27,
      "metadata": {
        "id": "5xwjkr9RJLk6",
        "colab": {
          "base_uri": "https://localhost:8080/"
        },
        "outputId": "7b251c0f-ce74-4349-edec-62e14b52cba3"
      },
      "outputs": [
        {
          "output_type": "stream",
          "name": "stdout",
          "text": [
            "Evaluation \t Proposed point \t  Current eval. \t  Best eval. \t Min. ApproxAcqFunc \n",
            "init\t [-1.13339974  0.09487705]\t 146.09426826423262\t 146.09426826423262\t    \n",
            "init\t [ 0.20767317 -1.86121441]\t 363.27983894611043\t 146.09426826423262\t    \n",
            "init\t [-0.57045469 -1.13426046]\t 215.5326110993483\t 146.09426826423262\t    \n",
            "init\t [ 0.77302236 -1.37735608]\t 390.08228141599125\t 146.09426826423262\t    \n",
            "init\t [-1.75994935  1.80638048]\t 174.29606237276562\t 146.09426826423262\t    \n",
            "1  \t [2.048 2.048]\t 461.7603900415999\t 146.09426826423262\t -2.5272672156926403\n",
            "2  \t [-2.048 -2.048]\t 3905.9262268415996\t 146.09426826423262\t 19.70978218180057\n",
            "3  \t [-0.08545566  2.048     ]\t 417.62277319254093\t 146.09426826423262\t 21.023103660533515\n",
            "4  \t [ 2.048      -0.07553366]\t 1824.2496719115393\t 146.09426826423262\t 31.92183263509274\n",
            "5  \t [-2.048      1.0150799]\t 1020.0368925168646\t 146.09426826423262\t 78.59281990460997\n",
            "\u001b[1m\u001b[92m6\u001b[0m\t \u001b[1m\u001b[92m[-0.35585822 -0.07476373]\u001b[0m\t \u001b[1m\u001b[92m5.894499581068056\u001b[0m\t \u001b[1m\u001b[92m5.894499581068056\u001b[0m\t \u001b[1m\u001b[92m88.27702833563761\u001b[0m\n",
            "\u001b[1m\u001b[92m7\u001b[0m\t \u001b[1m\u001b[92m[-0.34212479 -0.06555171]\u001b[0m\t \u001b[1m\u001b[92m5.135614584655466\u001b[0m\t \u001b[1m\u001b[92m5.135614584655466\u001b[0m\t \u001b[1m\u001b[92m54.37944147849534\u001b[0m\n",
            "\u001b[1m\u001b[92m8\u001b[0m\t \u001b[1m\u001b[92m[-0.33644792 -0.06268366]\u001b[0m\t \u001b[1m\u001b[92m4.879500925810889\u001b[0m\t \u001b[1m\u001b[92m4.879500925810889\u001b[0m\t \u001b[1m\u001b[92m38.853433695331546\u001b[0m\n",
            "\u001b[1m\u001b[92m9\u001b[0m\t \u001b[1m\u001b[92m[-0.33320799 -0.06092752]\u001b[0m\t \u001b[1m\u001b[92m4.734298741950955\u001b[0m\t \u001b[1m\u001b[92m4.734298741950955\u001b[0m\t \u001b[1m\u001b[92m30.450794563059574\u001b[0m\n",
            "\u001b[1m\u001b[92m10\u001b[0m\t \u001b[1m\u001b[92m[-0.33110075 -0.05973485]\u001b[0m\t \u001b[1m\u001b[92m4.640196705698161\u001b[0m\t \u001b[1m\u001b[92m4.640196705698161\u001b[0m\t \u001b[1m\u001b[92m25.189196930410386\u001b[0m\n",
            "\u001b[1m\u001b[92m11\u001b[0m\t \u001b[1m\u001b[92m[-0.32961412 -0.058867  ]\u001b[0m\t \u001b[1m\u001b[92m4.573916393833654\u001b[0m\t \u001b[1m\u001b[92m4.573916393833654\u001b[0m\t \u001b[1m\u001b[92m21.58548194091468\u001b[0m\n",
            "\u001b[1m\u001b[92m12\u001b[0m\t \u001b[1m\u001b[92m[-0.3285055  -0.05820411]\u001b[0m\t \u001b[1m\u001b[92m4.524511391910004\u001b[0m\t \u001b[1m\u001b[92m4.524511391910004\u001b[0m\t \u001b[1m\u001b[92m18.96263977996793\u001b[0m\n",
            "\u001b[1m\u001b[92m13\u001b[0m\t \u001b[1m\u001b[92m[-0.32764481 -0.05767924]\u001b[0m\t \u001b[1m\u001b[92m4.486142742311991\u001b[0m\t \u001b[1m\u001b[92m4.486142742311991\u001b[0m\t \u001b[1m\u001b[92m16.967969104866665\u001b[0m\n",
            "\u001b[1m\u001b[92m14\u001b[0m\t \u001b[1m\u001b[92m[-0.32695584 -0.05725211]\u001b[0m\t \u001b[1m\u001b[92m4.455407501342888\u001b[0m\t \u001b[1m\u001b[92m4.455407501342888\u001b[0m\t \u001b[1m\u001b[92m15.39974145523801\u001b[0m\n",
            "\u001b[1m\u001b[92m15\u001b[0m\t \u001b[1m\u001b[92m[-0.32639098 -0.0568968 ]\u001b[0m\t \u001b[1m\u001b[92m4.430179969377253\u001b[0m\t \u001b[1m\u001b[92m4.430179969377253\u001b[0m\t \u001b[1m\u001b[92m14.134250658526925\u001b[0m\n",
            "\u001b[1m\u001b[92m16\u001b[0m\t \u001b[1m\u001b[92m[-0.32591883 -0.05659605]\u001b[0m\t \u001b[1m\u001b[92m4.409067939640323\u001b[0m\t \u001b[1m\u001b[92m4.409067939640323\u001b[0m\t \u001b[1m\u001b[92m13.091417363912988\u001b[0m\n",
            "\u001b[1m\u001b[92m17\u001b[0m\t \u001b[1m\u001b[92m[-0.32551783 -0.05633773]\u001b[0m\t \u001b[1m\u001b[92m4.391113105883982\u001b[0m\t \u001b[1m\u001b[92m4.391113105883982\u001b[0m\t \u001b[1m\u001b[92m12.217136407327535\u001b[0m\n",
            "\u001b[1m\u001b[92m18\u001b[0m\t \u001b[1m\u001b[92m[-0.32517268 -0.05611306]\u001b[0m\t \u001b[1m\u001b[92m4.37563551075999\u001b[0m\t \u001b[1m\u001b[92m4.37563551075999\u001b[0m\t \u001b[1m\u001b[92m11.47353073857314\u001b[0m\n",
            "\u001b[1m\u001b[92m19\u001b[0m\t \u001b[1m\u001b[92m[-0.32487225 -0.05591565]\u001b[0m\t \u001b[1m\u001b[92m4.362143020885861\u001b[0m\t \u001b[1m\u001b[92m4.362143020885861\u001b[0m\t \u001b[1m\u001b[92m10.833273489208\u001b[0m\n",
            "\u001b[1m\u001b[92m20\u001b[0m\t \u001b[1m\u001b[92m[-0.32460817 -0.05574064]\u001b[0m\t \u001b[1m\u001b[92m4.350265741534827\u001b[0m\t \u001b[1m\u001b[92m4.350265741534827\u001b[0m\t \u001b[1m\u001b[92m10.276173702864877\u001b[0m\n"
          ]
        }
      ],
      "source": [
        "### Bayesian optimisation runs (x20): 'GP' Acquisition Function run number = 16\n",
        "\n",
        "np.random.seed(run_num_16)\n",
        "surrogate_gp_16 = GaussianProcess(cov_func, optimize=hyperOpt)\n",
        "\n",
        "gp_16 = GPGO_multi(surrogate_gp_16, Acquisition_new(util_gp), f_syn_polarity, param, n_jobs = -1) # define BayesOpt\n",
        "gp_16.run(max_iter = max_iter, init_evals = n_init) # run\n"
      ]
    },
    {
      "cell_type": "code",
      "execution_count": 28,
      "metadata": {
        "id": "zbpfP0FWJLk7",
        "colab": {
          "base_uri": "https://localhost:8080/"
        },
        "outputId": "62d3d9d4-83b2-4431-c7a0-a8b441972ec2"
      },
      "outputs": [
        {
          "output_type": "stream",
          "name": "stdout",
          "text": [
            "Evaluation \t Proposed point \t  Current eval. \t  Best eval. \t Min. ApproxAcqFunc \n",
            "init\t [-0.84105215  0.12528335]\t 37.27181038922863\t 0.19652774971866602\t    \n",
            "init\t [-1.26353086 -1.76988013]\t 1138.381976578598\t 0.19652774971866602\t    \n",
            "init\t [1.17549244 0.64034211]\t 55.004181467935105\t 0.19652774971866602\t    \n",
            "init\t [0.56328559 0.30966945]\t 0.19652774971866602\t 0.19652774971866602\t    \n",
            "init\t [-1.8879983  -0.58239548]\t 1728.0458971940702\t 0.19652774971866602\t    \n",
            "1  \t [-0.19459773  1.10359281]\t 115.00394182677012\t 0.19652774971866602\t -37.688651243575414\n",
            "2  \t [ 2.048 -2.048]\t 3897.7342268415996\t 0.19652774971866602\t -1.0507096534561196\n",
            "3  \t [2.048 2.048]\t 461.7603900415999\t 0.19652774971866602\t 3.5508197522701597\n",
            "4  \t [0.17654881 0.53812613]\t 26.378576619030238\t 0.19652774971866602\t 5.107627976148265\n",
            "5  \t [0.17819172 0.53934496]\t 26.44040118783115\t 0.19652774971866602\t 10.23654596471468\n",
            "6  \t [0.17917148 0.54002879]\t 26.472679303658627\t 0.19652774971866602\t 13.221179710129991\n",
            "7  \t [0.17981855 0.540463  ]\t 26.492133329669276\t 0.19652774971866602\t 15.174493578933072\n",
            "8  \t [-2.048  2.048]\t 469.9523900415999\t 0.19652774971866602\t 16.16444935203712\n",
            "9  \t [0.20951803 0.5160859 ]\t 22.921021624762076\t 0.19652774971866602\t 14.973466981050496\n",
            "10 \t [0.20945667 0.51664692]\t 22.976562116221583\t 0.19652774971866602\t 15.741432334638189\n",
            "11 \t [0.20940972 0.51707863]\t 23.019336175224872\t 0.19652774971866602\t 16.340014933938583\n",
            "12 \t [0.20937278 0.51742063]\t 23.053240767947784\t 0.19652774971866602\t 16.82009299974503\n",
            "13 \t [0.20934311 0.51769798]\t 23.08074183622933\t 0.19652774971866602\t 17.213948302190566\n",
            "14 \t [0.20931883 0.51792719]\t 23.10347329486851\t 0.19652774971866602\t 17.54306967857794\n",
            "15 \t [0.20929862 0.51811965]\t 23.1225612084287\t 0.19652774971866602\t 17.822325693428542\n",
            "16 \t [0.20928159 0.51828342]\t 23.138803023307485\t 0.19652774971866602\t 18.06233769447471\n",
            "17 \t [0.2092671  0.51842439]\t 23.152780953816226\t 0.19652774971866602\t 18.270898618129795\n",
            "18 \t [0.20925463 0.51854692]\t 23.16492888915174\t 0.19652774971866602\t 18.453857962432046\n",
            "19 \t [0.20924381 0.51865437]\t 23.17558009407027\t 0.19652774971866602\t 18.615693475922587\n",
            "20 \t [0.20923436 0.51874934]\t 23.184991423009834\t 0.19652774971866602\t 18.75989213673228\n"
          ]
        }
      ],
      "source": [
        "### Bayesian optimisation runs (x20): 'GP' Acquisition Function run number = 17\n",
        "\n",
        "np.random.seed(run_num_17)\n",
        "surrogate_gp_17 = GaussianProcess(cov_func, optimize=hyperOpt)\n",
        "\n",
        "gp_17 = GPGO_multi(surrogate_gp_17, Acquisition_new(util_gp), f_syn_polarity, param, n_jobs = -1) # define BayesOpt\n",
        "gp_17.run(max_iter = max_iter, init_evals = n_init) # run\n"
      ]
    },
    {
      "cell_type": "code",
      "execution_count": 29,
      "metadata": {
        "id": "1d-1rDI5JLk8",
        "colab": {
          "base_uri": "https://localhost:8080/"
        },
        "outputId": "a27191eb-918b-4bd9-a7de-f779192f1962"
      },
      "outputs": [
        {
          "output_type": "stream",
          "name": "stdout",
          "text": [
            "Evaluation \t Proposed point \t  Current eval. \t  Best eval. \t Min. ApproxAcqFunc \n",
            "init\t [0.61593289 0.02233702]\t 12.895000300241685\t 12.895000300241685\t    \n",
            "init\t [ 1.55075162 -1.30318244]\t 1375.2393970855524\t 12.895000300241685\t    \n",
            "init\t [1.44274665 1.02455823]\t 111.91239818238155\t 12.895000300241685\t    \n",
            "init\t [0.68035243 1.99841976]\t 235.89058418537797\t 12.895000300241685\t    \n",
            "init\t [-0.99545734 -1.93205893]\t 858.3713873043706\t 12.895000300241685\t    \n",
            "1  \t [-2.048       1.41633394]\t 781.0020700691645\t 12.895000300241685\t -0.6413046822024493\n",
            "2  \t [0.16140696 0.51196921]\t 24.31477178556434\t 12.895000300241685\t 36.81477848446228\n",
            "3  \t [0.15311051 0.51192077]\t 24.578291529173136\t 12.895000300241685\t 31.15442965887146\n",
            "4  \t [0.14957548 0.51188957]\t 24.685886137340454\t 12.895000300241685\t 28.737794650791965\n",
            "5  \t [0.14761425 0.51186406]\t 24.74382288596709\t 12.895000300241685\t 27.405015618066095\n",
            "6  \t [0.14636564 0.51184277]\t 24.779856589825563\t 12.895000300241685\t 26.56288812508633\n",
            "7  \t [0.14550014 0.51182489]\t 24.80436325951551\t 12.895000300241685\t 25.983597258223746\n",
            "8  \t [0.14486441 0.51180964]\t 24.822071244797346\t 12.895000300241685\t 25.561201867433393\n",
            "9  \t [0.14437743 0.51179654]\t 24.835446561299854\t 12.895000300241685\t 25.239838040888525\n",
            "10 \t [0.14399225 0.51178515]\t 24.84589480595278\t 12.895000300241685\t 24.98729299716954\n",
            "11 \t [0.14367984 0.51177515]\t 24.85427467031421\t 12.895000300241685\t 24.78370215015286\n",
            "12 \t [0.14342134 0.5117663 ]\t 24.861138817410794\t 12.895000300241685\t 24.61615744303429\n",
            "13 \t [0.14320378 0.51175837]\t 24.86685859119454\t 12.895000300241685\t 24.475911342252385\n",
            "14 \t [0.14301816 0.51175126]\t 24.871699155190306\t 12.895000300241685\t 24.35682784434672\n",
            "15 \t [0.14285786 0.51174486]\t 24.87584790446165\t 12.895000300241685\t 24.254477411333266\n",
            "16 \t [0.142718   0.51173899]\t 24.879435858685852\t 12.895000300241685\t 24.165582992552274\n",
            "17 \t [0.14259496 0.5117337 ]\t 24.8825763761898\t 12.895000300241685\t 24.08766823358095\n",
            "18 \t [0.14248576 0.51172879]\t 24.885340622941094\t 12.895000300241685\t 24.018828204946534\n",
            "19 \t [0.14238826 0.51172429]\t 24.88779561376287\t 12.895000300241685\t 23.957572992579266\n",
            "20 \t [0.14230061 0.51172013]\t 24.889989439845106\t 12.895000300241685\t 23.902721268451703\n"
          ]
        }
      ],
      "source": [
        "### Bayesian optimisation runs (x20): 'GP' Acquisition Function run number = 18\n",
        "\n",
        "np.random.seed(run_num_18)\n",
        "surrogate_gp_18 = GaussianProcess(cov_func, optimize=hyperOpt)\n",
        "\n",
        "gp_18 = GPGO_multi(surrogate_gp_18, Acquisition_new(util_gp), f_syn_polarity, param, n_jobs = -1) # define BayesOpt\n",
        "gp_18.run(max_iter = max_iter, init_evals = n_init) # run\n"
      ]
    },
    {
      "cell_type": "code",
      "execution_count": 30,
      "metadata": {
        "id": "E7485DWlJLk8",
        "colab": {
          "base_uri": "https://localhost:8080/"
        },
        "outputId": "4b567cd4-8761-4b57-b345-3596af3f0278"
      },
      "outputs": [
        {
          "output_type": "stream",
          "name": "stdout",
          "text": [
            "Evaluation \t Proposed point \t  Current eval. \t  Best eval. \t Min. ApproxAcqFunc \n",
            "init\t [-1.64850237  1.07007884]\t 278.43400025820534\t 57.78708636899354\t    \n",
            "init\t [-1.03654206 -1.48221261]\t 657.7842496298689\t 57.78708636899354\t    \n",
            "init\t [-0.69039488 -1.70803378]\t 480.139610337942\t 57.78708636899354\t    \n",
            "init\t [0.70441812 1.2558082 ]\t 57.78708636899354\t 57.78708636899354\t    \n",
            "init\t [1.97731088 0.55566637]\t 1125.9484203106679\t 57.78708636899354\t    \n",
            "1  \t [0.20063659 2.048     ]\t 403.7429634517199\t 57.78708636899354\t -3.0499836454381453\n",
            "2  \t [ 2.048 -2.048]\t 3897.7342268415996\t 57.78708636899354\t -2.3767835172725045\n",
            "3  \t [-2.048  2.048]\t 469.9523900415999\t 57.78708636899354\t 85.08488399032329\n",
            "\u001b[1m\u001b[92m4\u001b[0m\t \u001b[1m\u001b[92m[-0.22997653  0.56169607]\u001b[0m\t \u001b[1m\u001b[92m27.401285214945457\u001b[0m\t \u001b[1m\u001b[92m27.401285214945457\u001b[0m\t \u001b[1m\u001b[92m108.80963484985388\u001b[0m\n",
            "\u001b[1m\u001b[92m5\u001b[0m\t \u001b[1m\u001b[92m[-0.24198348  0.53667388]\u001b[0m\t \u001b[1m\u001b[92m24.402193298985456\u001b[0m\t \u001b[1m\u001b[92m24.402193298985456\u001b[0m\t \u001b[1m\u001b[92m71.34503346046853\u001b[0m\n",
            "\u001b[1m\u001b[92m6\u001b[0m\t \u001b[1m\u001b[92m[-0.2464851   0.52656967]\u001b[0m\t \u001b[1m\u001b[92m23.252064841007627\u001b[0m\t \u001b[1m\u001b[92m23.252064841007627\u001b[0m\t \u001b[1m\u001b[92m56.083915012627706\u001b[0m\n",
            "\u001b[1m\u001b[92m7\u001b[0m\t \u001b[1m\u001b[92m[-0.24894032  0.52089215]\u001b[0m\t \u001b[1m\u001b[92m22.62068803246048\u001b[0m\t \u001b[1m\u001b[92m22.62068803246048\u001b[0m\t \u001b[1m\u001b[92m47.77981995009005\u001b[0m\n",
            "\u001b[1m\u001b[92m8\u001b[0m\t \u001b[1m\u001b[92m[-0.25052295  0.51717434]\u001b[0m\t \u001b[1m\u001b[92m22.21288775559763\u001b[0m\t \u001b[1m\u001b[92m22.21288775559763\u001b[0m\t \u001b[1m\u001b[92m42.54138690563987\u001b[0m\n",
            "\u001b[1m\u001b[92m9\u001b[0m\t \u001b[1m\u001b[92m[-0.25164493  0.51451335]\u001b[0m\t \u001b[1m\u001b[92m21.923692370043568\u001b[0m\t \u001b[1m\u001b[92m21.923692370043568\u001b[0m\t \u001b[1m\u001b[92m38.92602419286452\u001b[0m\n",
            "\u001b[1m\u001b[92m10\u001b[0m\t \u001b[1m\u001b[92m[-0.25249085  0.51249454]\u001b[0m\t \u001b[1m\u001b[92m21.705753384552008\u001b[0m\t \u001b[1m\u001b[92m21.705753384552008\u001b[0m\t \u001b[1m\u001b[92m36.275133706060956\u001b[0m\n",
            "\u001b[1m\u001b[92m11\u001b[0m\t \u001b[1m\u001b[92m[-0.25315663  0.51089861]\u001b[0m\t \u001b[1m\u001b[92m21.53434894230117\u001b[0m\t \u001b[1m\u001b[92m21.53434894230117\u001b[0m\t \u001b[1m\u001b[92m34.24486131926168\u001b[0m\n",
            "\u001b[1m\u001b[92m12\u001b[0m\t \u001b[1m\u001b[92m[-0.25369764  0.5095978 ]\u001b[0m\t \u001b[1m\u001b[92m21.395205677068006\u001b[0m\t \u001b[1m\u001b[92m21.395205677068006\u001b[0m\t \u001b[1m\u001b[92m32.63794299963083\u001b[0m\n",
            "\u001b[1m\u001b[92m13\u001b[0m\t \u001b[1m\u001b[92m[-0.25414808  0.50851216]\u001b[0m\t \u001b[1m\u001b[92m21.27946515044804\u001b[0m\t \u001b[1m\u001b[92m21.27946515044804\u001b[0m\t \u001b[1m\u001b[92m31.333003096428993\u001b[0m\n",
            "\u001b[1m\u001b[92m14\u001b[0m\t \u001b[1m\u001b[92m[-0.2545305   0.50758888]\u001b[0m\t \u001b[1m\u001b[92m21.181305472114477\u001b[0m\t \u001b[1m\u001b[92m21.181305472114477\u001b[0m\t \u001b[1m\u001b[92m30.251202681932146\u001b[0m\n",
            "\u001b[1m\u001b[92m15\u001b[0m\t \u001b[1m\u001b[92m[-0.25486029  0.50679156]\u001b[0m\t \u001b[1m\u001b[92m21.09673844765222\u001b[0m\t \u001b[1m\u001b[92m21.09673844765222\u001b[0m\t \u001b[1m\u001b[92m29.33907058954314\u001b[0m\n",
            "\u001b[1m\u001b[92m16\u001b[0m\t \u001b[1m\u001b[92m[-0.25514845  0.5060942 ]\u001b[0m\t \u001b[1m\u001b[92m21.02292158911657\u001b[0m\t \u001b[1m\u001b[92m21.02292158911657\u001b[0m\t \u001b[1m\u001b[92m28.559038670002845\u001b[0m\n",
            "\u001b[1m\u001b[92m17\u001b[0m\t \u001b[1m\u001b[92m[-0.255403    0.50547764]\u001b[0m\t \u001b[1m\u001b[92m20.957773822050427\u001b[0m\t \u001b[1m\u001b[92m20.957773822050427\u001b[0m\t \u001b[1m\u001b[92m27.883924485113027\u001b[0m\n",
            "\u001b[1m\u001b[92m18\u001b[0m\t \u001b[1m\u001b[92m[-0.25562997  0.50492757]\u001b[0m\t \u001b[1m\u001b[92m20.89974194884353\u001b[0m\t \u001b[1m\u001b[92m20.89974194884353\u001b[0m\t \u001b[1m\u001b[92m27.29356537638504\u001b[0m\n",
            "\u001b[1m\u001b[92m19\u001b[0m\t \u001b[1m\u001b[92m[-0.25583402  0.50443283]\u001b[0m\t \u001b[1m\u001b[92m20.847619530613997\u001b[0m\t \u001b[1m\u001b[92m20.847619530613997\u001b[0m\t \u001b[1m\u001b[92m26.772684313294928\u001b[0m\n",
            "\u001b[1m\u001b[92m20\u001b[0m\t \u001b[1m\u001b[92m[-0.25601874  0.5039848 ]\u001b[0m\t \u001b[1m\u001b[92m20.800476638496328\u001b[0m\t \u001b[1m\u001b[92m20.800476638496328\u001b[0m\t \u001b[1m\u001b[92m26.309489480314067\u001b[0m\n"
          ]
        }
      ],
      "source": [
        "### Bayesian optimisation runs (x20): 'GP' Acquisition Function run number = 19\n",
        "\n",
        "np.random.seed(run_num_19)\n",
        "surrogate_gp_19 = GaussianProcess(cov_func, optimize=hyperOpt)\n",
        "\n",
        "gp_19 = GPGO_multi(surrogate_gp_19, Acquisition_new(util_gp), f_syn_polarity, param, n_jobs = -1) # define BayesOpt\n",
        "gp_19.run(max_iter = max_iter, init_evals = n_init) # run\n"
      ]
    },
    {
      "cell_type": "code",
      "execution_count": 31,
      "metadata": {
        "id": "v9oZm6NvJLk9",
        "colab": {
          "base_uri": "https://localhost:8080/"
        },
        "outputId": "8705fbdd-728a-448d-b38c-0741aacc3927"
      },
      "outputs": [
        {
          "output_type": "stream",
          "name": "stdout",
          "text": [
            "Evaluation \t Proposed point \t  Current eval. \t  Best eval. \t Min. ApproxAcqFunc \n",
            "init\t [0.36098376 1.62903543]\t 225.0263501192369\t 5.168692520381821\t    \n",
            "init\t [1.60370987 1.29367031]\t 163.7478327754951\t 5.168692520381821\t    \n",
            "init\t [-1.90099626  0.78543905]\t 808.3708592256118\t 5.168692520381821\t    \n",
            "init\t [-0.49692286  0.07582083]\t 5.168692520381821\t 5.168692520381821\t    \n",
            "init\t [ 0.6469692  -1.25398951]\t 279.86987688431674\t 5.168692520381821\t    \n",
            "1  \t [-2.048 -2.048]\t 3905.9262268415996\t 5.168692520381821\t -2.4733582603479327\n",
            "2  \t [ 2.048 -2.048]\t 3897.7342268415996\t 5.168692520381821\t 33.146166273611364\n",
            "\u001b[1m\u001b[92m3\u001b[0m\t \u001b[1m\u001b[92m[ 0.05748043 -0.17765216]\u001b[0m\t \u001b[1m\u001b[92m4.162856264630361\u001b[0m\t \u001b[1m\u001b[92m4.162856264630361\u001b[0m\t \u001b[1m\u001b[92m-0.24209405814467766\u001b[0m\n",
            "\u001b[1m\u001b[92m4\u001b[0m\t \u001b[1m\u001b[92m[ 0.05615846 -0.17758564]\u001b[0m\t \u001b[1m\u001b[92m4.157510466366406\u001b[0m\t \u001b[1m\u001b[92m4.157510466366406\u001b[0m\t \u001b[1m\u001b[92m0.6962975568136334\u001b[0m\n",
            "\u001b[1m\u001b[92m5\u001b[0m\t \u001b[1m\u001b[92m[ 0.05556928 -0.17755296]\u001b[0m\t \u001b[1m\u001b[92m4.1550628904418705\u001b[0m\t \u001b[1m\u001b[92m4.1550628904418705\u001b[0m\t \u001b[1m\u001b[92m1.1055473151990196\u001b[0m\n",
            "\u001b[1m\u001b[92m6\u001b[0m\t \u001b[1m\u001b[92m[ 0.05523517 -0.17753338]\u001b[0m\t \u001b[1m\u001b[92m4.153649583459747\u001b[0m\t \u001b[1m\u001b[92m4.153649583459747\u001b[0m\t \u001b[1m\u001b[92m1.3349554573535045\u001b[0m\n",
            "\u001b[1m\u001b[92m7\u001b[0m\t \u001b[1m\u001b[92m[ 0.05502027 -0.17752035]\u001b[0m\t \u001b[1m\u001b[92m4.152729620306831\u001b[0m\t \u001b[1m\u001b[92m4.152729620306831\u001b[0m\t \u001b[1m\u001b[92m1.4817262882914186\u001b[0m\n",
            "\u001b[1m\u001b[92m8\u001b[0m\t \u001b[1m\u001b[92m[ 0.05487005 -0.17751095]\u001b[0m\t \u001b[1m\u001b[92m4.152078060878469\u001b[0m\t \u001b[1m\u001b[92m4.152078060878469\u001b[0m\t \u001b[1m\u001b[92m1.583702675336559\u001b[0m\n",
            "\u001b[1m\u001b[92m9\u001b[0m\t \u001b[1m\u001b[92m[ 0.05475957 -0.1775039 ]\u001b[0m\t \u001b[1m\u001b[92m4.151595242542041\u001b[0m\t \u001b[1m\u001b[92m4.151595242542041\u001b[0m\t \u001b[1m\u001b[92m1.6586670521666085\u001b[0m\n",
            "\u001b[1m\u001b[92m10\u001b[0m\t \u001b[1m\u001b[92m[ 0.05467449 -0.17749836]\u001b[0m\t \u001b[1m\u001b[92m4.151219856054839\u001b[0m\t \u001b[1m\u001b[92m4.151219856054839\u001b[0m\t \u001b[1m\u001b[92m1.7160985980663475\u001b[0m\n",
            "\u001b[1m\u001b[92m11\u001b[0m\t \u001b[1m\u001b[92m[ 0.05460751 -0.17749394]\u001b[0m\t \u001b[1m\u001b[92m4.15092263889551\u001b[0m\t \u001b[1m\u001b[92m4.15092263889551\u001b[0m\t \u001b[1m\u001b[92m1.7614965773423716\u001b[0m\n",
            "\u001b[1m\u001b[92m12\u001b[0m\t \u001b[1m\u001b[92m[ 0.05455304 -0.17749029]\u001b[0m\t \u001b[1m\u001b[92m4.150679358817501\u001b[0m\t \u001b[1m\u001b[92m4.150679358817501\u001b[0m\t \u001b[1m\u001b[92m1.7982860966072098\u001b[0m\n",
            "\u001b[1m\u001b[92m13\u001b[0m\t \u001b[1m\u001b[92m[ 0.05450815 -0.17748728]\u001b[0m\t \u001b[1m\u001b[92m4.150478822485885\u001b[0m\t \u001b[1m\u001b[92m4.150478822485885\u001b[0m\t \u001b[1m\u001b[92m1.8287001442000421\u001b[0m\n",
            "\u001b[1m\u001b[92m14\u001b[0m\t \u001b[1m\u001b[92m[ 0.05447007 -0.17748465]\u001b[0m\t \u001b[1m\u001b[92m4.150306155196951\u001b[0m\t \u001b[1m\u001b[92m4.150306155196951\u001b[0m\t \u001b[1m\u001b[92m1.8542664046142787\u001b[0m\n",
            "\u001b[1m\u001b[92m15\u001b[0m\t \u001b[1m\u001b[92m[ 0.05443792 -0.17748244]\u001b[0m\t \u001b[1m\u001b[92m4.150160967224819\u001b[0m\t \u001b[1m\u001b[92m4.150160967224819\u001b[0m\t \u001b[1m\u001b[92m1.8760534653122303\u001b[0m\n",
            "\u001b[1m\u001b[92m16\u001b[0m\t \u001b[1m\u001b[92m[ 0.05440999 -0.1774805 ]\u001b[0m\t \u001b[1m\u001b[92m4.150034065012892\u001b[0m\t \u001b[1m\u001b[92m4.150034065012892\u001b[0m\t \u001b[1m\u001b[92m1.8948439344762047\u001b[0m\n",
            "\u001b[1m\u001b[92m17\u001b[0m\t \u001b[1m\u001b[92m[ 0.0543859  -0.17747883]\u001b[0m\t \u001b[1m\u001b[92m4.149924627640492\u001b[0m\t \u001b[1m\u001b[92m4.149924627640492\u001b[0m\t \u001b[1m\u001b[92m1.911213528366737\u001b[0m\n",
            "\u001b[1m\u001b[92m18\u001b[0m\t \u001b[1m\u001b[92m[ 0.05436456 -0.17747731]\u001b[0m\t \u001b[1m\u001b[92m4.149826517210515\u001b[0m\t \u001b[1m\u001b[92m4.149826517210515\u001b[0m\t \u001b[1m\u001b[92m1.9256035851009063\u001b[0m\n",
            "\u001b[1m\u001b[92m19\u001b[0m\t \u001b[1m\u001b[92m[ 0.05434562 -0.17747595]\u001b[0m\t \u001b[1m\u001b[92m4.149739028300955\u001b[0m\t \u001b[1m\u001b[92m4.149739028300955\u001b[0m\t \u001b[1m\u001b[92m1.9383515508515843\u001b[0m\n",
            "\u001b[1m\u001b[92m20\u001b[0m\t \u001b[1m\u001b[92m[ 0.05432892 -0.17747478]\u001b[0m\t \u001b[1m\u001b[92m4.149662652977673\u001b[0m\t \u001b[1m\u001b[92m4.149662652977673\u001b[0m\t \u001b[1m\u001b[92m1.9497221926992017\u001b[0m\n"
          ]
        }
      ],
      "source": [
        "### Bayesian optimisation runs (x20): 'GP' Acquisition Function run number = 20\n",
        "\n",
        "np.random.seed(run_num_20)\n",
        "surrogate_gp_20 = GaussianProcess(cov_func, optimize=hyperOpt)\n",
        "\n",
        "gp_20 = GPGO_multi(surrogate_gp_20, Acquisition_new(util_gp), f_syn_polarity, param, n_jobs = -1) # define BayesOpt\n",
        "gp_20.run(max_iter = max_iter, init_evals = n_init) # run\n"
      ]
    },
    {
      "cell_type": "code",
      "execution_count": 32,
      "metadata": {
        "id": "m3W7oEVSJLk9",
        "colab": {
          "base_uri": "https://localhost:8080/"
        },
        "outputId": "eeb230cc-fc5b-414f-9e81-24336d981702"
      },
      "outputs": [
        {
          "output_type": "stream",
          "name": "stdout",
          "text": [
            "Evaluation \t Proposed point \t  Current eval. \t  Best eval. \t Min. ApproxAcqFunc \n",
            "init\t [-0.33987787  0.90244913]\t 63.72149506568065\t 2.0636815813193974\t    \n",
            "init\t [-2.04753152 -0.80964578]\t 2511.318971868364\t 2.0636815813193974\t    \n",
            "init\t [-1.44688787 -1.66978112]\t 1422.2040787100386\t 2.0636815813193974\t    \n",
            "init\t [-1.28507817 -0.63258326]\t 526.8913737894474\t 2.0636815813193974\t    \n",
            "init\t [-0.42284043  0.15899334]\t 2.0636815813193974\t 2.0636815813193974\t    \n",
            "1  \t [ 1.51738329 -0.54173311]\t 809.2066105048989\t 2.0636815813193974\t -1552.7409687648194\n",
            "2  \t [2.048 2.048]\t 461.7603900415999\t 2.0636815813193974\t -1486.1297966131474\n",
            "3  \t [-2.048  2.048]\t 469.9523900415999\t 2.0636815813193974\t -1401.6989304075798\n",
            "4  \t [0.09751254 2.048     ]\t 416.3591633533755\t 2.0636815813193974\t -1252.5038738226287\n",
            "5  \t [ 2.048 -2.048]\t 3897.7342268415996\t 2.0636815813193974\t -1170.5501378758452\n",
            "\u001b[1m\u001b[92m6\u001b[0m\t \u001b[1m\u001b[92m[0.87414311 0.69601243]\u001b[0m\t \u001b[1m\u001b[92m0.4797883700925253\u001b[0m\t \u001b[1m\u001b[92m0.4797883700925253\u001b[0m\t \u001b[1m\u001b[92m-1788.732650965613\u001b[0m\n",
            "7  \t [2.048     0.7575371]\t 1182.2349796162314\t 0.4797883700925253\t -1674.610216108724\n",
            "8  \t [ 0.14754699 -0.19138122]\t 5.270025503438403\t 0.4797883700925253\t -1650.604385284478\n",
            "9  \t [0.08871628 0.35189547]\t 12.665750860843808\t 0.4797883700925253\t -1516.6100884539353\n",
            "10 \t [-0.14829489 -2.048     ]\t 429.8050107415159\t 0.4797883700925253\t -1361.7082382204978\n",
            "11 \t [-1.71572525  0.86552406]\t 439.2621443455024\t 0.4797883700925253\t -936.9308773664113\n",
            "12 \t [-0.42850704 -1.02256126]\t 147.52754183547157\t 0.4797883700925253\t -857.7942130984796\n",
            "13 \t [1.09088383 2.048     ]\t 73.6199346360349\t 0.4797883700925253\t -562.8233333900199\n",
            "14 \t [-1.09568594  2.048     ]\t 76.2128334323912\t 0.4797883700925253\t -528.8638348726537\n",
            "15 \t [0.86979674 0.05971636]\t 48.57415967982777\t 0.4797883700925253\t -401.0783344518349\n",
            "16 \t [0.59686848 1.32607485]\t 94.21815484850413\t 0.4797883700925253\t -349.1597763916714\n",
            "17 \t [-1.12417384  1.40895787]\t 6.620158428670444\t 0.4797883700925253\t -347.3311887402517\n",
            "18 \t [-0.61367412 -0.42351001]\t 66.62089436484219\t 0.4797883700925253\t -234.628303642095\n",
            "19 \t [ 0.47921343 -1.04215661]\t 162.0192842134598\t 0.4797883700925253\t -373.157593253309\n",
            "20 \t [0.06214739 0.02309823]\t 0.9165696128345755\t 0.4797883700925253\t -1143.9221534551318\n"
          ]
        }
      ],
      "source": [
        "### Bayesian optimisation runs (x20): 'STP' Acquisition Function run number = 1 \n",
        "\n",
        "np.random.seed(run_num_1)\n",
        "surrogate_stp_1 = tStudentProcess(cov_func, nu = df, optimize=hyperOpt)\n",
        "\n",
        "stp_1 = GPGO_multi_STP(surrogate_stp_1, Acquisition_new(util_stp), f_syn_polarity, param, n_jobs = -1) # Define BayesOpt\n",
        "stp_1.run(max_iter = max_iter, init_evals = n_init) # run\n"
      ]
    },
    {
      "cell_type": "code",
      "execution_count": 33,
      "metadata": {
        "id": "FGw67C40JLk-",
        "colab": {
          "base_uri": "https://localhost:8080/"
        },
        "outputId": "7f6b4ce9-283d-47a6-dc5e-59c21ca9c366"
      },
      "outputs": [
        {
          "output_type": "stream",
          "name": "stdout",
          "text": [
            "Evaluation \t Proposed point \t  Current eval. \t  Best eval. \t Min. ApproxAcqFunc \n",
            "init\t [-0.26216488 -1.94180615]\t 405.8187938051167\t 10.016400127761926\t    \n",
            "init\t [ 0.20341751 -0.26491948]\t 10.016400127761926\t 10.016400127761926\t    \n",
            "init\t [-0.32617348 -0.69494857]\t 65.97294928625357\t 10.016400127761926\t    \n",
            "init\t [-1.20975919  0.48853388]\t 99.94230490266065\t 10.016400127761926\t    \n",
            "init\t [-0.82061446 -0.95507548]\t 268.5105099964258\t 10.016400127761926\t    \n",
            "1  \t [1.53250028 0.62337903]\t 297.9074911713052\t 10.016400127761926\t -269.553068934833\n",
            "2  \t [-2.048  2.048]\t 469.9523900415999\t 10.016400127761926\t -285.11191517463556\n",
            "3  \t [ 2.048 -2.048]\t 3897.7342268415996\t 10.016400127761926\t -345.6841240796331\n",
            "4  \t [0.31705965 2.048     ]\t 379.7315858851201\t 10.016400127761926\t -1819.026658991432\n",
            "5  \t [-2.048 -2.048]\t 3905.9262268415996\t 10.016400127761926\t -1701.2439291498272\n",
            "6  \t [2.048 2.048]\t 461.7603900415999\t 10.016400127761926\t -2253.3709403807575\n",
            "7  \t [-0.14046663  0.69496077]\t 46.894205642474546\t 10.016400127761926\t -1993.0321036687355\n",
            "8  \t [-2.048       0.50598649]\t 1369.65890855492\t 10.016400127761926\t -1891.4588126825622\n",
            "9  \t [-0.87738416  2.048     ]\t 166.90333895207118\t 10.016400127761926\t -1448.4921314081296\n",
            "\u001b[1m\u001b[92m10\u001b[0m\t \u001b[1m\u001b[92m[0.04030568 0.17978883]\u001b[0m\t \u001b[1m\u001b[92m4.0952644581831645\u001b[0m\t \u001b[1m\u001b[92m4.0952644581831645\u001b[0m\t \u001b[1m\u001b[92m-1719.1287721778074\u001b[0m\n",
            "\u001b[1m\u001b[92m11\u001b[0m\t \u001b[1m\u001b[92m[-0.17636648  0.0060283 ]\u001b[0m\t \u001b[1m\u001b[92m1.4467228913728116\u001b[0m\t \u001b[1m\u001b[92m1.4467228913728116\u001b[0m\t \u001b[1m\u001b[92m-1611.076775938958\u001b[0m\n",
            "12 \t [ 2.048      -0.10744687]\t 1851.6043601702509\t 1.4467228913728116\t -780.1582832344553\n",
            "13 \t [1.06635306 1.33885445]\t 4.074531415478042\t 1.4467228913728116\t -743.704895701193\n",
            "14 \t [-1.05245791  1.27643677]\t 7.060885246626128\t 1.4467228913728116\t -577.4590373650996\n",
            "15 \t [0.86690845 0.43815917]\t 9.837856943530314\t 1.4467228913728116\t -425.86608081747465\n",
            "16 \t [-1.07909509 -0.25155391]\t 204.82827134272688\t 1.4467228913728116\t -298.293516313349\n",
            "17 \t [-0.74772262  0.69405525]\t 4.876120313932951\t 1.4467228913728116\t -252.89106203085137\n",
            "18 \t [2.048      1.27999229]\t 850.4195759869266\t 1.4467228913728116\t -357.4011760247635\n",
            "19 \t [0.74837205 0.97471757]\t 17.25734626710743\t 1.4467228913728116\t -228.24752030485374\n",
            "20 \t [0.01701621 0.94099785]\t 89.45946714826273\t 1.4467228913728116\t -1114.4227873697528\n"
          ]
        }
      ],
      "source": [
        "### Bayesian optimisation runs (x20): 'STP' Acquisition Function run number = 2 \n",
        "\n",
        "np.random.seed(run_num_2)\n",
        "surrogate_stp_2 = tStudentProcess(cov_func, nu = df, optimize=hyperOpt)\n",
        "\n",
        "stp_2 = GPGO_multi_STP(surrogate_stp_2, Acquisition_new(util_stp), f_syn_polarity, param, n_jobs = -1) # Define BayesOpt\n",
        "stp_2.run(max_iter = max_iter, init_evals = n_init) # run\n"
      ]
    },
    {
      "cell_type": "code",
      "execution_count": 34,
      "metadata": {
        "id": "oFLQAtDZJLk_",
        "colab": {
          "base_uri": "https://localhost:8080/"
        },
        "outputId": "31303e2c-ecdc-432f-c564-8d04bb91b2c8"
      },
      "outputs": [
        {
          "output_type": "stream",
          "name": "stdout",
          "text": [
            "Evaluation \t Proposed point \t  Current eval. \t  Best eval. \t Min. ApproxAcqFunc \n",
            "init\t [0.20806821 0.85257348]\t 66.12074614607258\t 50.941111321262525\t    \n",
            "init\t [-0.85645419  0.04434987]\t 50.941111321262525\t 50.941111321262525\t    \n",
            "init\t [1.60951073 1.62321649]\t 93.94003449768307\t 50.941111321262525\t    \n",
            "init\t [-1.53360257 -1.19913317]\t 1267.4289626896234\t 50.941111321262525\t    \n",
            "init\t [-1.83719034 -0.24244288]\t 1316.8330877748904\t 50.941111321262525\t    \n",
            "1  \t [ 2.048 -2.048]\t 3897.7342268415996\t 50.941111321262525\t -963.9807909046048\n",
            "\u001b[1m\u001b[92m2\u001b[0m\t \u001b[1m\u001b[92m[-1.30328144  2.048     ]\u001b[0m\t \u001b[1m\u001b[92m17.517158416655004\u001b[0m\t \u001b[1m\u001b[92m17.517158416655004\u001b[0m\t \u001b[1m\u001b[92m-2239.9400501814134\u001b[0m\n",
            "3  \t [0.10599113 2.048     ]\t 415.6407770228603\t 17.517158416655004\t -1988.4608466456395\n",
            "4  \t [2.048      0.55817512]\t 1323.241628746806\t 17.517158416655004\t -1855.1396731691448\n",
            "5  \t [-2.048  2.048]\t 469.9523900415999\t 17.517158416655004\t -1819.22571132967\n",
            "\u001b[1m\u001b[92m6\u001b[0m\t \u001b[1m\u001b[92m[ 0.17397875 -0.26847763]\u001b[0m\t \u001b[1m\u001b[92m9.607242336024736\u001b[0m\t \u001b[1m\u001b[92m9.607242336024736\u001b[0m\t \u001b[1m\u001b[92m-1630.4594863642792\u001b[0m\n",
            "7  \t [2.048 2.048]\t 461.7603900415999\t 9.607242336024736\t -1533.8557949128924\n",
            "8  \t [-0.55483248  0.98295428]\t 47.995557220783546\t 9.607242336024736\t -1463.1597257299206\n",
            "9  \t [-0.29496787 -2.048     ]\t 457.50202270013665\t 9.607242336024736\t -1381.377587793001\n",
            "10 \t [1.13132497 2.048     ]\t 59.01559367783712\t 9.607242336024736\t -638.3349672861876\n",
            "11 \t [-0.31458988 -0.80060326]\t 82.6507750526823\t 9.607242336024736\t -551.2261757585857\n",
            "\u001b[1m\u001b[92m12\u001b[0m\t \u001b[1m\u001b[92m[-0.27076609  0.12721621]\u001b[0m\t \u001b[1m\u001b[92m1.9053883364874666\u001b[0m\t \u001b[1m\u001b[92m1.9053883364874666\u001b[0m\t \u001b[1m\u001b[92m-480.4499921213802\u001b[0m\n",
            "13 \t [-1.49005432  1.10911823]\t 129.66439033563157\t 1.9053883364874666\t -613.2983305386451\n",
            "14 \t [0.97674424 1.23396469]\t 7.836923024905125\t 1.9053883364874666\t -458.6792313230135\n",
            "15 \t [-2.048 -2.048]\t 3905.9262268415996\t 1.9053883364874666\t -306.3782896055426\n",
            "16 \t [0.79935158 0.25857704]\t 14.50960425107377\t 1.9053883364874666\t -488.3708409477922\n",
            "17 \t [-1.05825482  1.57281016]\t 24.748879047710563\t 1.9053883364874666\t -324.76295515837\n",
            "18 \t [ 0.85811954 -0.5477796 ]\t 164.9239303002221\t 1.9053883364874666\t -280.82865571713853\n",
            "\u001b[1m\u001b[92m19\u001b[0m\t \u001b[1m\u001b[92m[ 0.11314655 -0.05703681]\u001b[0m\t \u001b[1m\u001b[92m1.2742569133577946\u001b[0m\t \u001b[1m\u001b[92m1.2742569133577946\u001b[0m\t \u001b[1m\u001b[92m-1069.6547638403883\u001b[0m\n",
            "20 \t [0.03278247 0.44354899]\t 20.51386004536474\t 1.2742569133577946\t -1310.5263834224147\n"
          ]
        }
      ],
      "source": [
        "### Bayesian optimisation runs (x20): 'STP' Acquisition Function run number = 3 \n",
        "\n",
        "np.random.seed(run_num_3)\n",
        "surrogate_stp_3 = tStudentProcess(cov_func, nu = df, optimize=hyperOpt)\n",
        "\n",
        "stp_3 = GPGO_multi_STP(surrogate_stp_3, Acquisition_new(util_stp), f_syn_polarity, param, n_jobs = -1) # Define BayesOpt\n",
        "stp_3.run(max_iter = max_iter, init_evals = n_init) # run\n"
      ]
    },
    {
      "cell_type": "code",
      "execution_count": 35,
      "metadata": {
        "id": "zhFOxkF0JLk_",
        "colab": {
          "base_uri": "https://localhost:8080/"
        },
        "outputId": "b8d900eb-fb49-466c-caae-ac5d572c4883"
      },
      "outputs": [
        {
          "output_type": "stream",
          "name": "stdout",
          "text": [
            "Evaluation \t Proposed point \t  Current eval. \t  Best eval. \t Min. ApproxAcqFunc \n",
            "init\t [1.91295422 0.19346329]\t 1202.1009483415905\t 170.66405971002487\t    \n",
            "init\t [1.93611514 0.87988631]\t 823.7947602867234\t 170.66405971002487\t    \n",
            "init\t [ 0.80989727 -1.16289743]\t 330.8507621971172\t 170.66405971002487\t    \n",
            "init\t [ 1.95082017 -2.02248087]\t 3397.672500714367\t 170.66405971002487\t    \n",
            "init\t [-1.01178424 -0.26709388]\t 170.66405971002487\t 170.66405971002487\t    \n",
            "1  \t [-2.048  2.048]\t 469.9523900415999\t 170.66405971002487\t -2079.296920696226\n",
            "2  \t [-2.048 -2.048]\t 3905.9262268415996\t 170.66405971002487\t -1932.6549213958554\n",
            "3  \t [0.04936894 2.048     ]\t 419.33637841462206\t 170.66405971002487\t -2603.6401315114713\n",
            "4  \t [-2.048       0.59311849]\t 1306.1440139666709\t 170.66405971002487\t -2300.7765398525257\n",
            "\u001b[1m\u001b[92m5\u001b[0m\t \u001b[1m\u001b[92m[0.03823073 0.0714291 ]\u001b[0m\t \u001b[1m\u001b[92m1.4145454414714849\u001b[0m\t \u001b[1m\u001b[92m1.4145454414714849\u001b[0m\t \u001b[1m\u001b[92m-2224.230090362967\u001b[0m\n",
            "6  \t [2.048 2.048]\t 461.7603900415999\t 1.4145454414714849\t -2044.9952136269155\n",
            "7  \t [-0.08488219 -0.71307304]\t 53.05701297324903\t 1.4145454414714849\t -1902.7394903897778\n",
            "8  \t [-0.15773479  0.70028731]\t 46.95781814220207\t 1.4145454414714849\t -1777.14818360377\n",
            "9  \t [ 0.11230391 -2.048     ]\t 425.4002554162296\t 1.4145454414714849\t -1228.1113748348114\n",
            "10 \t [-0.98829126  2.048     ]\t 118.71747005723515\t 1.4145454414714849\t -912.2065709680089\n",
            "11 \t [-0.78800148  0.47203132]\t 5.414517472126441\t 1.4145454414714849\t -645.3410565120843\n",
            "12 \t [0.98713428 1.42279496]\t 20.102911760757593\t 1.4145454414714849\t -503.6205649121618\n",
            "13 \t [1.15888626 2.048     ]\t 49.725295650404846\t 1.4145454414714849\t -493.98194057382534\n",
            "14 \t [ 0.67760442 -0.33153199]\t 62.621384771299546\t 1.4145454414714849\t -378.8820353254202\n",
            "\u001b[1m\u001b[92m15\u001b[0m\t \u001b[1m\u001b[92m[0.76337714 0.63722712]\u001b[0m\t \u001b[1m\u001b[92m0.352824174964422\u001b[0m\t \u001b[1m\u001b[92m0.352824174964422\u001b[0m\t \u001b[1m\u001b[92m-287.81505669674925\u001b[0m\n",
            "16 \t [-1.00948459  1.3916934 ]\t 17.92365699425898\t 0.352824174964422\t -267.9697223184204\n",
            "17 \t [ 0.30873448 -1.10093349]\t 143.5793674821485\t 0.352824174964422\t -182.55580880915724\n",
            "18 \t [-0.52190349 -0.10499964]\t 16.557974496654982\t 0.352824174964422\t -193.71828825129842\n",
            "19 \t [0.53585439 1.0257359 ]\t 54.76783203377091\t 0.352824174964422\t -136.03837460792803\n",
            "20 \t [0.00331157 0.10929546]\t 2.1876978847699995\t 0.352824174964422\t -1271.1240627767188\n"
          ]
        }
      ],
      "source": [
        "### Bayesian optimisation runs (x20): 'STP' Acquisition Function run number = 4 \n",
        "\n",
        "np.random.seed(run_num_4)\n",
        "surrogate_stp_4 = tStudentProcess(cov_func, nu = df, optimize=hyperOpt)\n",
        "\n",
        "stp_4 = GPGO_multi_STP(surrogate_stp_4, Acquisition_new(util_stp), f_syn_polarity, param, n_jobs = -1) # Define BayesOpt\n",
        "stp_4.run(max_iter = max_iter, init_evals = n_init) # run\n"
      ]
    },
    {
      "cell_type": "code",
      "execution_count": 36,
      "metadata": {
        "id": "YdzaqIajJLlA",
        "colab": {
          "base_uri": "https://localhost:8080/"
        },
        "outputId": "a16f45ed-ec89-4b94-e7a2-5200ee4a7a0d"
      },
      "outputs": [
        {
          "output_type": "stream",
          "name": "stdout",
          "text": [
            "Evaluation \t Proposed point \t  Current eval. \t  Best eval. \t Min. ApproxAcqFunc \n",
            "init\t [-1.13871597  1.51851953]\t 9.495646950867519\t 9.495646950867519\t    \n",
            "init\t [-1.20127834  1.71463028]\t 12.220143873516523\t 9.495646950867519\t    \n",
            "init\t [-0.04746777  0.45770286]\t 21.840629211931905\t 9.495646950867519\t    \n",
            "init\t [1.08915858 0.07544008]\t 123.40146376592485\t 9.495646950867519\t    \n",
            "init\t [-0.83230515 -1.27909385]\t 392.1670023300852\t 9.495646950867519\t    \n",
            "1  \t [2.048 2.048]\t 461.7603900415999\t 9.495646950867519\t -231.39582680446182\n",
            "2  \t [ 2.048 -2.048]\t 3897.7342268415996\t 9.495646950867519\t -316.79121479628145\n",
            "3  \t [-2.048      -0.01171859]\t 1778.3529098564009\t 9.495646950867519\t -1768.3590269768783\n",
            "4  \t [0.15687457 2.048     ]\t 410.1217185044142\t 9.495646950867519\t -1966.965938104215\n",
            "5  \t [-2.048 -2.048]\t 3905.9262268415996\t 9.495646950867519\t -1590.6165415860467\n",
            "6  \t [ 0.16194471 -0.98867583]\t 103.70492745849619\t 9.495646950867519\t -1991.1797882849844\n",
            "7  \t [-2.048  2.048]\t 469.9523900415999\t 9.495646950867519\t -2167.9183909515145\n",
            "8  \t [2.048      0.62845523]\t 1272.6260510389393\t 9.495646950867519\t -2017.003755913451\n",
            "9  \t [-0.14741142 -2.048     ]\t 429.6948323695842\t 9.495646950867519\t -1381.30454069519\n",
            "10 \t [-0.51342885 -0.3434624 ]\t 39.14405749317886\t 9.495646950867519\t -907.6982595161345\n",
            "11 \t [0.83851951 1.07344868]\t 13.740781999115192\t 9.495646950867519\t -807.2929474399875\n",
            "\u001b[1m\u001b[92m12\u001b[0m\t \u001b[1m\u001b[92m[ 0.36961119 -0.06915718]\u001b[0m\t \u001b[1m\u001b[92m4.631503662506451\u001b[0m\t \u001b[1m\u001b[92m4.631503662506451\u001b[0m\t \u001b[1m\u001b[92m-550.884304335097\u001b[0m\n",
            "13 \t [-0.38624835  1.4387724 ]\t 168.22453148307108\t 4.631503662506451\t -514.6826865258072\n",
            "14 \t [1.18226012 2.048     ]\t 42.31715729016116\t 4.631503662506451\t -550.5014145748107\n",
            "15 \t [-0.32244343 -1.03115088]\t 130.598744609369\t 4.631503662506451\t -381.6357771507476\n",
            "16 \t [-0.8456574   0.52281309]\t 7.105278308581659\t 4.631503662506451\t -377.6081739134554\n",
            "17 \t [ 0.96151532 -0.60244521]\t 233.16122704035737\t 4.631503662506451\t -352.18678767255267\n",
            "\u001b[1m\u001b[92m18\u001b[0m\t \u001b[1m\u001b[92m[0.63370966 0.52128252]\u001b[0m\t \u001b[1m\u001b[92m1.5668479351812905\u001b[0m\t \u001b[1m\u001b[92m1.5668479351812905\u001b[0m\t \u001b[1m\u001b[92m-194.69204104470896\u001b[0m\n",
            "19 \t [1.30641415 1.54105301]\t 2.838376261264077\t 1.5668479351812905\t -156.3285900811652\n",
            "\u001b[1m\u001b[92m20\u001b[0m\t \u001b[1m\u001b[92m[0.04127207 0.02022505]\u001b[0m\t \u001b[1m\u001b[92m0.9534644517380628\u001b[0m\t \u001b[1m\u001b[92m0.9534644517380628\u001b[0m\t \u001b[1m\u001b[92m-1380.912309894874\u001b[0m\n"
          ]
        }
      ],
      "source": [
        "### Bayesian optimisation runs (x20): 'STP' Acquisition Function run number = 5 \n",
        "\n",
        "np.random.seed(run_num_5)\n",
        "surrogate_stp_5 = tStudentProcess(cov_func, nu = df, optimize=hyperOpt)\n",
        "\n",
        "stp_5 = GPGO_multi_STP(surrogate_stp_5, Acquisition_new(util_stp), f_syn_polarity, param, n_jobs = -1) # Define BayesOpt\n",
        "stp_5.run(max_iter = max_iter, init_evals = n_init) # run\n"
      ]
    },
    {
      "cell_type": "code",
      "execution_count": 37,
      "metadata": {
        "id": "_KSBbC1zJLlA",
        "colab": {
          "base_uri": "https://localhost:8080/"
        },
        "outputId": "865ff7cc-21ae-4a1b-b559-64fc81f6bd70"
      },
      "outputs": [
        {
          "output_type": "stream",
          "name": "stdout",
          "text": [
            "Evaluation \t Proposed point \t  Current eval. \t  Best eval. \t Min. ApproxAcqFunc \n",
            "init\t [ 1.60915518 -0.68821072]\t 1074.6314195925434\t 3.0269049669752817\t    \n",
            "init\t [ 1.31575449 -1.87721062]\t 1302.169546932896\t 3.0269049669752817\t    \n",
            "init\t [-1.60703824  0.38933325]\t 487.8262244570432\t 3.0269049669752817\t    \n",
            "init\t [ 0.12213192 -0.33256477]\t 12.844955340992902\t 3.0269049669752817\t    \n",
            "init\t [-0.67416945  0.50183959]\t 3.0269049669752817\t 3.0269049669752817\t    \n",
            "1  \t [0.53873458 2.048     ]\t 309.1865646188501\t 3.0269049669752817\t -936.6949168810753\n",
            "2  \t [-2.048 -2.048]\t 3905.9262268415996\t 3.0269049669752817\t -871.0917680237565\n",
            "3  \t [-2.048  2.048]\t 469.9523900415999\t 3.0269049669752817\t -2051.421505210939\n",
            "4  \t [2.048 2.048]\t 461.7603900415999\t 3.0269049669752817\t -1921.4570146756043\n",
            "5  \t [0.34575842 0.78185354]\t 44.29277728377713\t 3.0269049669752817\t -1673.9699655876\n",
            "6  \t [-0.62523873  2.048     ]\t 277.2316627384011\t 3.0269049669752817\t -1566.2802236503414\n",
            "7  \t [2.048      0.81364806]\t 1143.9817646585698\t 3.0269049669752817\t -1434.3453132048414\n",
            "8  \t [-0.22295949  0.24013961]\t 5.121937983394309\t 3.0269049669752817\t -1391.0883283933683\n",
            "9  \t [-0.08114561 -1.51158293]\t 231.65214254693916\t 3.0269049669752817\t -678.7781668027392\n",
            "10 \t [-0.27849431 -0.08092864]\t 4.146383532469153\t 3.0269049669752817\t -1260.641293198891\n",
            "11 \t [-0.23635384  1.26771489]\t 148.38703882459092\t 3.0269049669752817\t -486.58304938478875\n",
            "12 \t [-1.25855937  1.29741707]\t 13.312444817729038\t 3.0269049669752817\t -354.02339908846676\n",
            "13 \t [1.05305552 1.4746036 ]\t 13.374830493078349\t 3.0269049669752817\t -212.95161753825957\n",
            "14 \t [1.2820521 2.048    ]\t 16.428832487449124\t 3.0269049669752817\t -210.5508579474144\n",
            "15 \t [-0.1118941  -0.85614506]\t 76.69425689808322\t 3.0269049669752817\t -195.7604973708755\n",
            "16 \t [0.84651866 0.45104235]\t 7.075315781075516\t 3.0269049669752817\t -158.62622967436852\n",
            "17 \t [-0.87328377  1.15209249]\t 18.67772077204279\t 3.0269049669752817\t -133.12694014105244\n",
            "18 \t [-2.048       1.20757899]\t 901.3429308496675\t 3.0269049669752817\t -191.741438626848\n",
            "19 \t [-1.32603918  2.048     ]\t 13.79843776666786\t 3.0269049669752817\t -259.26171140605555\n",
            "20 \t [0.25135638 0.29870937]\t 6.107874388324253\t 3.0269049669752817\t -614.216174329019\n"
          ]
        }
      ],
      "source": [
        "### Bayesian optimisation runs (x20): 'STP' Acquisition Function run number = 6 \n",
        "\n",
        "np.random.seed(run_num_6)\n",
        "surrogate_stp_6 = tStudentProcess(cov_func, nu = df, optimize=hyperOpt)\n",
        "\n",
        "stp_6 = GPGO_multi_STP(surrogate_stp_6, Acquisition_new(util_stp), f_syn_polarity, param, n_jobs = -1) # Define BayesOpt\n",
        "stp_6.run(max_iter = max_iter, init_evals = n_init) # run\n"
      ]
    },
    {
      "cell_type": "code",
      "execution_count": 38,
      "metadata": {
        "id": "WB64BgXFJLlB",
        "colab": {
          "base_uri": "https://localhost:8080/"
        },
        "outputId": "49d355d6-57ba-4860-cbaf-f379388dc9f8"
      },
      "outputs": [
        {
          "output_type": "stream",
          "name": "stdout",
          "text": [
            "Evaluation \t Proposed point \t  Current eval. \t  Best eval. \t Min. ApproxAcqFunc \n",
            "init\t [-1.73544125  1.14654737]\t 355.3830807157107\t 74.10242381766855\t    \n",
            "init\t [-0.25227579  0.91531337]\t 74.10242381766855\t 74.10242381766855\t    \n",
            "init\t [1.95784504 0.15767909]\t 1351.8314081149692\t 74.10242381766855\t    \n",
            "init\t [ 0.00458942 -1.75287856]\t 308.2565501886822\t 74.10242381766855\t    \n",
            "init\t [-9.48473938e-01 -4.81276619e-04]\t 84.81168700546641\t 74.10242381766855\t    \n",
            "1  \t [-2.048 -2.048]\t 3905.9262268415996\t 74.10242381766855\t -804.8568042260224\n",
            "2  \t [ 2.048 -2.048]\t 3897.7342268415996\t 74.10242381766855\t -2148.4559621780295\n",
            "3  \t [0.92018874 2.048     ]\t 144.30717174306415\t 74.10242381766855\t -2739.0371994177963\n",
            "4  \t [2.048 2.048]\t 461.7603900415999\t 74.10242381766855\t -2443.058181375554\n",
            "5  \t [-0.62525873  2.048     ]\t 277.2234397531298\t 74.10242381766855\t -2344.2855910157664\n",
            "6  \t [-2.048  2.048]\t 469.9523900415999\t 74.10242381766855\t -2129.9020442108567\n",
            "\u001b[1m\u001b[92m7\u001b[0m\t \u001b[1m\u001b[92m[ 0.04040845 -0.24878089]\u001b[0m\t \u001b[1m\u001b[92m7.191519637971207\u001b[0m\t \u001b[1m\u001b[92m7.191519637971207\u001b[0m\t \u001b[1m\u001b[92m-2016.3435896062485\u001b[0m\n",
            "8  \t [0.8188689  0.96594408]\t 8.758794253756122\t 7.191519637971207\t -923.0421416929183\n",
            "9  \t [-2.048       0.28144769]\t 1540.3347547790618\t 7.191519637971207\t -1761.1310636149294\n",
            "10 \t [-0.49035832 -0.89593484]\t 131.35850923319194\t 7.191519637971207\t -910.4565590502748\n",
            "11 \t [1.48852447 1.34717218]\t 75.6735998557973\t 7.191519637971207\t -558.6517642383482\n",
            "\u001b[1m\u001b[92m12\u001b[0m\t \u001b[1m\u001b[92m[-1.03145283  1.23379132]\u001b[0m\t \u001b[1m\u001b[92m7.013278724484142\u001b[0m\t \u001b[1m\u001b[92m7.013278724484142\u001b[0m\t \u001b[1m\u001b[92m-501.6366634790894\u001b[0m\n",
            "13 \t [ 0.23564242 -1.00918508]\t 113.94549725984746\t 7.013278724484142\t -417.04801919626885\n",
            "14 \t [0.55998852 1.51742346]\t 145.11579921428955\t 7.013278724484142\t -381.00192830483337\n",
            "\u001b[1m\u001b[92m15\u001b[0m\t \u001b[1m\u001b[92m[-0.6588244   0.42302468]\u001b[0m\t \u001b[1m\u001b[92m2.7638532180170854\u001b[0m\t \u001b[1m\u001b[92m2.7638532180170854\u001b[0m\t \u001b[1m\u001b[92m-347.01974841499765\u001b[0m\n",
            "16 \t [-0.43927336 -0.29376061]\t 25.761308536376866\t 2.7638532180170854\t -259.52078397606266\n",
            "17 \t [ 0.75907031 -0.06848441]\t 41.61826572387123\t 2.7638532180170854\t -260.11520012173037\n",
            "18 \t [0.43498285 0.35679165]\t 3.1276025671688075\t 2.7638532180170854\t -173.8392942767934\n",
            "\u001b[1m\u001b[92m19\u001b[0m\t \u001b[1m\u001b[92m[1.25327884 1.68434369]\u001b[0m\t \u001b[1m\u001b[92m1.3554606808364436\u001b[0m\t \u001b[1m\u001b[92m1.3554606808364436\u001b[0m\t \u001b[1m\u001b[92m-154.27825815055004\u001b[0m\n",
            "20 \t [-0.02784835  0.33324029]\t 12.109753675757677\t 1.3554606808364436\t -1362.592068378376\n"
          ]
        }
      ],
      "source": [
        "### Bayesian optimisation runs (x20): 'STP' Acquisition Function run number = 7 \n",
        "\n",
        "np.random.seed(run_num_7)\n",
        "surrogate_stp_7 = tStudentProcess(cov_func, nu = df, optimize=hyperOpt)\n",
        "\n",
        "stp_7 = GPGO_multi_STP(surrogate_stp_7, Acquisition_new(util_stp), f_syn_polarity, param, n_jobs = -1) # Define BayesOpt\n",
        "stp_7.run(max_iter = max_iter, init_evals = n_init) # run\n"
      ]
    },
    {
      "cell_type": "code",
      "execution_count": 39,
      "metadata": {
        "id": "yCh1YYTlJLlB",
        "colab": {
          "base_uri": "https://localhost:8080/"
        },
        "outputId": "951a46b7-1c06-4310-e9b2-d2d74253487d"
      },
      "outputs": [
        {
          "output_type": "stream",
          "name": "stdout",
          "text": [
            "Evaluation \t Proposed point \t  Current eval. \t  Best eval. \t Min. ApproxAcqFunc \n",
            "init\t [1.52956683 1.91914255]\t 17.95675982372887\t 1.7663579664225912\t    \n",
            "init\t [1.51222084 0.12638491]\t 467.0068292530542\t 1.7663579664225912\t    \n",
            "init\t [-1.09474477 -2.0013105 ]\t 1028.244988519411\t 1.7663579664225912\t    \n",
            "init\t [-0.28479972 -0.39996883]\t 24.79447905426233\t 1.7663579664225912\t    \n",
            "init\t [ 0.09287545 -0.0885072 ]\t 1.7663579664225912\t 1.7663579664225912\t    \n",
            "1  \t [-1.1236791   1.16939324]\t 5.3797832103068295\t 1.7663579664225912\t -655.1185922477978\n",
            "2  \t [ 2.048 -2.048]\t 3897.7342268415996\t 1.7663579664225912\t -597.7247481890984\n",
            "3  \t [-2.048  2.048]\t 469.9523900415999\t 1.7663579664225912\t -1966.9766169637246\n",
            "4  \t [0.09237662 2.048     ]\t 416.76616510015293\t 1.7663579664225912\t -1851.5861156655903\n",
            "5  \t [-2.048      -0.00507712]\t 1772.770484405034\t 1.7663579664225912\t -1759.7695355777312\n",
            "6  \t [2.048 2.048]\t 461.7603900415999\t 1.7663579664225912\t -1695.331122315411\n",
            "7  \t [0.14215147 0.79807553]\t 61.2438421047101\t 1.7663579664225912\t -1592.6043065790795\n",
            "8  \t [-0.05731076  0.67485911]\t 46.21914900555597\t 1.7663579664225912\t -1411.1003520937077\n",
            "9  \t [1.674753   1.09848436]\t 291.60578609208085\t 1.7663579664225912\t -819.3350885239134\n",
            "10 \t [ 0.15338889 -1.24168662]\t 160.79359213771457\t 1.7663579664225912\t -729.4540799094278\n",
            "11 \t [-1.07823271  2.048     ]\t 82.71488402301951\t 1.7663579664225912\t -579.5546392413913\n",
            "12 \t [-0.63917215  1.39555077]\t 100.10570861435659\t 1.7663579664225912\t -367.59552902374975\n",
            "13 \t [0.96850731 1.54299523]\t 36.602138912689945\t 1.7663579664225912\t -374.3166721112256\n",
            "14 \t [0.87808456 0.60852115]\t 2.6558572236104756\t 1.7663579664225912\t -230.95550694460204\n",
            "15 \t [-0.31533586 -1.10351861]\t 146.44025674983456\t 1.7663579664225912\t -212.51461325147667\n",
            "16 \t [ 0.00769569 -2.048     ]\t 420.43932620668267\t 1.7663579664225912\t -273.044193856847\n",
            "17 \t [1.10504126 2.048     ]\t 68.38471796718495\t 1.7663579664225912\t -298.02379931265995\n",
            "18 \t [-1.35160027  1.55550405]\t 12.891437396121797\t 1.7663579664225912\t -143.19517467772016\n",
            "19 \t [ 0.30757549 -0.23359669]\t 11.250933999409636\t 1.7663579664225912\t -965.2857318990424\n",
            "20 \t [ 0.0158004  -0.65373128]\t 43.7377543347185\t 1.7663579664225912\t -91.35623081912871\n"
          ]
        }
      ],
      "source": [
        "### Bayesian optimisation runs (x20): 'STP' Acquisition Function run number = 8 \n",
        "\n",
        "np.random.seed(run_num_8)\n",
        "surrogate_stp_8 = tStudentProcess(cov_func, nu = df, optimize=hyperOpt)\n",
        "\n",
        "stp_8 = GPGO_multi_STP(surrogate_stp_8, Acquisition_new(util_stp), f_syn_polarity, param, n_jobs = -1) # Define BayesOpt\n",
        "stp_8.run(max_iter = max_iter, init_evals = n_init) # run\n"
      ]
    },
    {
      "cell_type": "code",
      "execution_count": 40,
      "metadata": {
        "id": "IDhy8DkEJLlC",
        "colab": {
          "base_uri": "https://localhost:8080/"
        },
        "outputId": "f3bc58bb-69ef-45d9-d81b-e63e6acbb262"
      },
      "outputs": [
        {
          "output_type": "stream",
          "name": "stdout",
          "text": [
            "Evaluation \t Proposed point \t  Current eval. \t  Best eval. \t Min. ApproxAcqFunc \n",
            "init\t [-2.00550747  0.00767833]\t 1620.5592513107108\t 132.4681822844375\t    \n",
            "init\t [-0.01731259 -1.49983425]\t 226.0751192637302\t 132.4681822844375\t    \n",
            "init\t [-1.46591299 -1.15278366]\t 1096.1928272344956\t 132.4681822844375\t    \n",
            "init\t [-0.33379049 -1.03177761]\t 132.4681822844375\t 132.4681822844375\t    \n",
            "init\t [-1.70369167 -0.63283757]\t 1257.2172959284223\t 132.4681822844375\t    \n",
            "\u001b[1m\u001b[92m1\u001b[0m\t \u001b[1m\u001b[92m[0.87794992 0.23986927]\u001b[0m\t \u001b[1m\u001b[92m28.20322180074746\u001b[0m\t \u001b[1m\u001b[92m28.20322180074746\u001b[0m\t \u001b[1m\u001b[92m-1099.4051125756487\u001b[0m\n",
            "2  \t [2.048 2.048]\t 461.7603900415999\t 28.20322180074746\t -955.5956681163798\n",
            "3  \t [ 2.048 -2.048]\t 3897.7342268415996\t 28.20322180074746\t -893.7730713984758\n",
            "4  \t [-0.32738821  2.048     ]\t 378.43900589685836\t 28.20322180074746\t -2011.042055954084\n",
            "5  \t [-2.048  2.048]\t 469.9523900415999\t 28.20322180074746\t -1804.6307888665663\n",
            "6  \t [2.048      0.50931505]\t 1359.0126624507325\t 28.20322180074746\t -1310.2445012735423\n",
            "7  \t [0.04413644 0.54813922]\t 30.746156897919043\t 28.20322180074746\t -1609.8663500571831\n",
            "8  \t [0.7028656 2.048    ]\t 241.57365676513922\t 28.20322180074746\t -1470.8179356043452\n",
            "9  \t [ 0.3992995  -0.48276118]\t 41.60308835038191\t 28.20322180074746\t -987.824184125008\n",
            "10 \t [0.69617033 1.10276803]\t 38.29891539162072\t 28.20322180074746\t -588.0207486277814\n",
            "11 \t [-0.48487448 -2.048     ]\t 523.4609011673682\t 28.20322180074746\t -436.0402241833413\n",
            "\u001b[1m\u001b[92m12\u001b[0m\t \u001b[1m\u001b[92m[0.39403053 0.23460787]\u001b[0m\t \u001b[1m\u001b[92m0.9968066332005566\u001b[0m\t \u001b[1m\u001b[92m0.9968066332005566\u001b[0m\t \u001b[1m\u001b[92m-317.4616023032241\u001b[0m\n",
            "13 \t [-0.91967081  1.26854895]\t 21.557276797542414\t 0.9968066332005566\t -378.14798427714754\n",
            "14 \t [-0.14768865  1.27491677]\t 158.34436202089532\t 0.9968066332005566\t -294.9862455916505\n",
            "15 \t [-0.68939879  0.21339788]\t 9.711804810098512\t 0.9968066332005566\t -308.00401847074147\n",
            "16 \t [-1.22898533  2.048     ]\t 33.86922083799487\t 0.9968066332005566\t -208.78375420697714\n",
            "17 \t [-0.25597721 -0.23585496]\t 10.660426318658828\t 0.9968066332005566\t -185.15991309367192\n",
            "18 \t [1.32679511 2.048     ]\t 8.379018629521429\t 0.9968066332005566\t -140.27455763852288\n",
            "\u001b[1m\u001b[92m19\u001b[0m\t \u001b[1m\u001b[92m[1.22146196 1.56535357]\u001b[0m\t \u001b[1m\u001b[92m0.5875701483045213\u001b[0m\t \u001b[1m\u001b[92m0.5875701483045213\u001b[0m\t \u001b[1m\u001b[92m-153.19827289027126\u001b[0m\n",
            "20 \t [-2.048 -2.048]\t 3905.9262268415996\t 0.5875701483045213\t -695.7232158452221\n"
          ]
        }
      ],
      "source": [
        "### Bayesian optimisation runs (x20): 'STP' Acquisition Function run number = 9 \n",
        "\n",
        "np.random.seed(run_num_9)\n",
        "surrogate_stp_9 = tStudentProcess(cov_func, nu = df, optimize=hyperOpt)\n",
        "\n",
        "stp_9 = GPGO_multi_STP(surrogate_stp_9, Acquisition_new(util_stp), f_syn_polarity, param, n_jobs = -1) # Define BayesOpt\n",
        "stp_9.run(max_iter = max_iter, init_evals = n_init) # run\n"
      ]
    },
    {
      "cell_type": "code",
      "execution_count": 41,
      "metadata": {
        "id": "RqwHOur5JLlC",
        "colab": {
          "base_uri": "https://localhost:8080/"
        },
        "outputId": "dba96ac2-f1f1-4bde-9b43-c39fd7620ac2"
      },
      "outputs": [
        {
          "output_type": "stream",
          "name": "stdout",
          "text": [
            "Evaluation \t Proposed point \t  Current eval. \t  Best eval. \t Min. ApproxAcqFunc \n",
            "init\t [ 1.11132935 -1.96300002]\t 1022.7666615237944\t 26.382363522743674\t    \n",
            "init\t [0.54742317 1.0191007 ]\t 51.962573317574716\t 26.382363522743674\t    \n",
            "init\t [-0.00611528 -1.12723294]\t 128.08610911295406\t 26.382363522743674\t    \n",
            "init\t [-1.23673451  1.0671338 ]\t 26.382363522743674\t 26.382363522743674\t    \n",
            "init\t [-1.35532201 -1.68616012]\t 1246.7412252563456\t 26.382363522743674\t    \n",
            "1  \t [2.048 2.048]\t 461.7603900415999\t 26.382363522743674\t -929.0159277562763\n",
            "2  \t [-2.048  2.048]\t 469.9523900415999\t 26.382363522743674\t -873.2626718761123\n",
            "3  \t [2.048      0.06588695]\t 1705.4810411787535\t 26.382363522743674\t -799.0438446457537\n",
            "4  \t [-0.07550935  2.048     ]\t 418.2549707977317\t 26.382363522743674\t -1069.9586116920088\n",
            "\u001b[1m\u001b[92m5\u001b[0m\t \u001b[1m\u001b[92m[-0.46300621  0.25703928]\u001b[0m\t \u001b[1m\u001b[92m2.322413379492128\u001b[0m\t \u001b[1m\u001b[92m2.322413379492128\u001b[0m\t \u001b[1m\u001b[92m-990.8668635225645\u001b[0m\n",
            "6  \t [-2.048       0.29809637]\t 1527.3336929588086\t 2.322413379492128\t -915.7643937068345\n",
            "7  \t [-0.0765811   0.49204488]\t 24.79614714571575\t 2.322413379492128\t -970.2554156709526\n",
            "8  \t [-0.16919083  0.78907064]\t 59.19468233974172\t 2.322413379492128\t -888.6322988885029\n",
            "9  \t [1.02262015 2.048     ]\t 100.45062327975921\t 2.322413379492128\t -495.35838315597755\n",
            "10 \t [ 0.14904527 -0.45655392]\t 23.64604381020387\t 2.322413379492128\t -360.81878099328344\n",
            "11 \t [-1.13170915  1.80686111]\t 32.22183305167822\t 2.322413379492128\t -326.7396517062044\n",
            "12 \t [-0.32384251 -0.53255059]\t 42.38356612998941\t 2.322413379492128\t -225.62666999723453\n",
            "\u001b[1m\u001b[92m13\u001b[0m\t \u001b[1m\u001b[92m[1.19816892 1.4348139 ]\u001b[0m\t \u001b[1m\u001b[92m0.039334103319375605\u001b[0m\t \u001b[1m\u001b[92m0.039334103319375605\u001b[0m\t \u001b[1m\u001b[92m-211.02151312887915\u001b[0m\n",
            "14 \t [-0.91686511  1.2690081 ]\t 22.024154992133756\t 0.039334103319375605\t -152.1973989473322\n",
            "15 \t [0.832779   1.55076883]\t 73.51537191914981\t 0.039334103319375605\t -138.72850782773372\n",
            "16 \t [-0.11182608 -0.07203832]\t 1.9509158141133092\t 0.039334103319375605\t -101.41596703262778\n",
            "17 \t [-1.35891041  1.50701017]\t 17.09913124992214\t 0.039334103319375605\t -72.30456686111258\n",
            "18 \t [1.02636704 1.13856422]\t 0.7254905808071028\t 0.039334103319375605\t -47.13401295420206\n",
            "19 \t [-0.77583443  0.769926  ]\t 5.976221163292055\t 0.039334103319375605\t -40.26445223444512\n",
            "20 \t [-0.03073256 -0.60525905]\t 37.810682917588124\t 0.039334103319375605\t -34.77211156489465\n"
          ]
        }
      ],
      "source": [
        "### Bayesian optimisation runs (x20): 'STP' Acquisition Function run number = 10 \n",
        "\n",
        "np.random.seed(run_num_10)\n",
        "surrogate_stp_10 = tStudentProcess(cov_func, nu = df, optimize=hyperOpt)\n",
        "\n",
        "stp_10 = GPGO_multi_STP(surrogate_stp_10, Acquisition_new(util_stp), f_syn_polarity, param, n_jobs = -1) # Define BayesOpt\n",
        "stp_10.run(max_iter = max_iter, init_evals = n_init) # run\n"
      ]
    },
    {
      "cell_type": "code",
      "execution_count": 42,
      "metadata": {
        "id": "iXLW3-5DJLlD",
        "colab": {
          "base_uri": "https://localhost:8080/"
        },
        "outputId": "694527d1-f574-40dc-d52d-aa9661bcf870"
      },
      "outputs": [
        {
          "output_type": "stream",
          "name": "stdout",
          "text": [
            "Evaluation \t Proposed point \t  Current eval. \t  Best eval. \t Min. ApproxAcqFunc \n",
            "init\t [-1.30961535 -1.96822941]\t 1362.0202619238294\t 4.533376036769996\t    \n",
            "init\t [-0.15065692  0.92132937]\t 82.0779347186456\t 4.533376036769996\t    \n",
            "init\t [-0.32684604 -0.05969061]\t 4.533376036769996\t 4.533376036769996\t    \n",
            "init\t [-1.99564978 -0.0517259 ]\t 1636.5670319859503\t 4.533376036769996\t    \n",
            "init\t [1.80964005 1.43685669]\t 338.45801473698816\t 4.533376036769996\t    \n",
            "1  \t [ 2.048      -1.71922578]\t 3498.0817449133847\t 4.533376036769996\t -1217.0207089117823\n",
            "2  \t [-2.048  2.048]\t 469.9523900415999\t 4.533376036769996\t -2091.486718005264\n",
            "3  \t [0.19697475 2.048     ]\t 404.33369447064393\t 4.533376036769996\t -1918.5319352868148\n",
            "4  \t [0.72616771 0.30168093]\t 5.166262246476656\t 4.533376036769996\t -1702.4276435559318\n",
            "5  \t [2.048 2.048]\t 461.7603900415999\t 4.533376036769996\t -1530.9955561406844\n",
            "\u001b[1m\u001b[92m6\u001b[0m\t \u001b[1m\u001b[92m[0.34162801 0.09158441]\u001b[0m\t \u001b[1m\u001b[92m0.49658166924182034\u001b[0m\t \u001b[1m\u001b[92m0.49658166924182034\u001b[0m\t \u001b[1m\u001b[92m-1440.9075412914065\u001b[0m\n",
            "7  \t [2.048     0.3594452]\t 1471.712503149265\t 0.49658166924182034\t -878.5824093775902\n",
            "8  \t [0.8201603  1.26159254]\t 34.716153213536636\t 0.49658166924182034\t -813.2633753433455\n",
            "9  \t [-0.98097191  2.048     ]\t 121.79741849965446\t 0.49658166924182034\t -669.8273475753002\n",
            "10 \t [-0.10533291 -1.17637131]\t 142.22939087510852\t 0.49658166924182034\t -556.4813762727922\n",
            "11 \t [ 0.09975105 -2.048     ]\t 424.3263803472445\t 0.49658166924182034\t -568.0252032713732\n",
            "12 \t [-1.12010598  1.18587527]\t 4.967672588970371\t 0.49658166924182034\t -414.9347474056458\n",
            "13 \t [1.23132519 2.048     ]\t 28.338707791394892\t 0.49658166924182034\t -249.21995314692563\n",
            "14 \t [-0.74051993  0.62738653]\t 3.653774359483587\t 0.49658166924182034\t -251.06761926594575\n",
            "15 \t [-0.75317981  1.33306532]\t 61.716381116462365\t 0.49658166924182034\t -190.7368452409284\n",
            "16 \t [0.60888164 0.640763  ]\t 7.444385243065189\t 0.49658166924182034\t -185.6718839919947\n",
            "17 \t [ 0.24305283 -0.63833291]\t 49.210703783117395\t 0.49658166924182034\t -160.16514561579092\n",
            "18 \t [1.13128597 1.02635268]\t 6.441192522212207\t 0.49658166924182034\t -118.67534933066375\n",
            "19 \t [0.03512958 0.50934242]\t 26.74838229513567\t 0.49658166924182034\t -1026.4590761591944\n",
            "\u001b[1m\u001b[92m20\u001b[0m\t \u001b[1m\u001b[92m[1.27725994 1.63150472]\u001b[0m\t \u001b[1m\u001b[92m0.07687432436588088\u001b[0m\t \u001b[1m\u001b[92m0.07687432436588088\u001b[0m\t \u001b[1m\u001b[92m-76.65252400578261\u001b[0m\n"
          ]
        }
      ],
      "source": [
        "### Bayesian optimisation runs (x20): 'STP' Acquisition Function run number = 11 \n",
        "\n",
        "np.random.seed(run_num_11)\n",
        "surrogate_stp_11 = tStudentProcess(cov_func, nu = df, optimize=hyperOpt)\n",
        "\n",
        "stp_11 = GPGO_multi_STP(surrogate_stp_11, Acquisition_new(util_stp), f_syn_polarity, param, n_jobs = -1) # Define BayesOpt\n",
        "stp_11.run(max_iter = max_iter, init_evals = n_init) # run\n"
      ]
    },
    {
      "cell_type": "code",
      "execution_count": 43,
      "metadata": {
        "id": "Sv5SygMbJLlD",
        "colab": {
          "base_uri": "https://localhost:8080/"
        },
        "outputId": "8821a3bc-1081-4bab-ade1-14dd03795e06"
      },
      "outputs": [
        {
          "output_type": "stream",
          "name": "stdout",
          "text": [
            "Evaluation \t Proposed point \t  Current eval. \t  Best eval. \t Min. ApproxAcqFunc \n",
            "init\t [-1.416549    0.98324356]\t 110.56781423235984\t 68.14456326432247\t    \n",
            "init\t [-0.9694617   0.13819656]\t 68.14456326432247\t 68.14456326432247\t    \n",
            "init\t [-1.98830095  1.71518775]\t 509.86279959563035\t 68.14456326432247\t    \n",
            "init\t [ 1.64132804 -1.91110583]\t 2121.0723550229873\t 68.14456326432247\t    \n",
            "init\t [ 1.87166448 -1.48599062]\t 2489.890190157968\t 68.14456326432247\t    \n",
            "1  \t [0.79479057 2.048     ]\t 200.63493007732734\t 68.14456326432247\t -1487.7425568798142\n",
            "2  \t [-2.048 -2.048]\t 3905.9262268415996\t 68.14456326432247\t -1366.290131423508\n",
            "3  \t [2.048      1.11714917]\t 947.9864870800825\t 68.14456326432247\t -2079.8659990064652\n",
            "\u001b[1m\u001b[92m4\u001b[0m\t \u001b[1m\u001b[92m[0.05629848 0.67833266]\u001b[0m\t \u001b[1m\u001b[92m46.47509946444127\u001b[0m\t \u001b[1m\u001b[92m46.47509946444127\u001b[0m\t \u001b[1m\u001b[92m-2102.6090942954925\u001b[0m\n",
            "5  \t [-0.53289644  2.048     ]\t 313.52691452931003\t 46.47509946444127\t -1603.9921506396063\n",
            "6  \t [-2.048       0.23012136]\t 1580.764707803714\t 46.47509946444127\t -1192.742958233962\n",
            "7  \t [-0.00869619 -0.82214415]\t 68.62200284449406\t 46.47509946444127\t -1333.5962619632442\n",
            "8  \t [2.048 2.048]\t 461.7603900415999\t 46.47509946444127\t -945.8402915396483\n",
            "9  \t [ 0.021942 -2.048   ]\t 420.5842230584957\t 46.47509946444127\t -1024.6783651619314\n",
            "\u001b[1m\u001b[92m10\u001b[0m\t \u001b[1m\u001b[92m[-0.64441969  0.9763937 ]\u001b[0m\t \u001b[1m\u001b[92m34.18934055520956\u001b[0m\t \u001b[1m\u001b[92m34.18934055520956\u001b[0m\t \u001b[1m\u001b[92m-730.7411548727857\u001b[0m\n",
            "\u001b[1m\u001b[92m11\u001b[0m\t \u001b[1m\u001b[92m[ 0.562734   -0.08316213]\u001b[0m\t \u001b[1m\u001b[92m16.177738672418972\u001b[0m\t \u001b[1m\u001b[92m16.177738672418972\u001b[0m\t \u001b[1m\u001b[92m-690.8838924317104\u001b[0m\n",
            "\u001b[1m\u001b[92m12\u001b[0m\t \u001b[1m\u001b[92m[-0.17548701 -0.03240286]\u001b[0m\t \u001b[1m\u001b[92m1.781175378144234\u001b[0m\t \u001b[1m\u001b[92m1.781175378144234\u001b[0m\t \u001b[1m\u001b[92m-671.3049629296288\u001b[0m\n",
            "\u001b[1m\u001b[92m13\u001b[0m\t \u001b[1m\u001b[92m[0.93871664 0.79794902]\u001b[0m\t \u001b[1m\u001b[92m0.6966440384998781\u001b[0m\t \u001b[1m\u001b[92m0.6966440384998781\u001b[0m\t \u001b[1m\u001b[92m-517.2598337175783\u001b[0m\n",
            "14 \t [-1.33782335  2.048     ]\t 12.133623157194052\t 0.6966440384998781\t -346.51243502651675\n",
            "15 \t [-0.58711281 -0.72731184]\t 117.44017723484433\t 0.6966440384998781\t -254.28980973108924\n",
            "16 \t [-1.16591656  1.52765365]\t 7.523421601486497\t 0.6966440384998781\t -246.342113430449\n",
            "17 \t [0.93519716 0.33950564]\t 28.636125091452097\t 0.6966440384998781\t -215.51937406014383\n",
            "18 \t [0.54901277 1.28134377]\t 96.22942341071092\t 0.6966440384998781\t -183.1183312394657\n",
            "19 \t [0.5696613  0.46038324]\t 2.0312363076629887\t 0.6966440384998781\t -171.82147617768857\n",
            "20 \t [-0.76758675  0.54680036]\t 3.304046160619564\t 0.6966440384998781\t -150.6766889054223\n"
          ]
        }
      ],
      "source": [
        "### Bayesian optimisation runs (x20): 'STP' Acquisition Function run number = 12\n",
        "\n",
        "np.random.seed(run_num_12)\n",
        "surrogate_stp_12 = tStudentProcess(cov_func, nu = df, optimize=hyperOpt)\n",
        "\n",
        "stp_12 = GPGO_multi_STP(surrogate_stp_12, Acquisition_new(util_stp), f_syn_polarity, param, n_jobs = -1) # Define BayesOpt\n",
        "stp_12.run(max_iter = max_iter, init_evals = n_init) # run\n"
      ]
    },
    {
      "cell_type": "code",
      "execution_count": 44,
      "metadata": {
        "id": "NSskozWHJLlE",
        "colab": {
          "base_uri": "https://localhost:8080/"
        },
        "outputId": "7a3acedb-fa86-464b-f264-484d8ecdaa8b"
      },
      "outputs": [
        {
          "output_type": "stream",
          "name": "stdout",
          "text": [
            "Evaluation \t Proposed point \t  Current eval. \t  Best eval. \t Min. ApproxAcqFunc \n",
            "init\t [ 1.13746907 -1.07503116]\t 561.1720108286133\t 2.166231627813885\t    \n",
            "init\t [1.32824487 1.90770872]\t 2.166231627813885\t 2.166231627813885\t    \n",
            "init\t [ 1.93577416 -0.19067188]\t 1551.5761879230556\t 2.166231627813885\t    \n",
            "init\t [0.44663793 1.1285566 ]\t 86.6235326520391\t 2.166231627813885\t    \n",
            "init\t [0.58004826 0.90938667]\t 33.00131633274188\t 2.166231627813885\t    \n",
            "1  \t [-1.74994294  0.98398156]\t 439.5030656010954\t 2.166231627813885\t -907.8196894870987\n",
            "2  \t [-2.048 -2.048]\t 3905.9262268415996\t 2.166231627813885\t -869.6114895257958\n",
            "3  \t [-2.048  2.048]\t 469.9523900415999\t 2.166231627813885\t -1921.1271050108553\n",
            "4  \t [-0.31253042 -0.24659288]\t 13.574791767330812\t 2.166231627813885\t -1699.523971257695\n",
            "5  \t [ 2.048 -2.048]\t 3897.7342268415996\t 2.166231627813885\t -1499.1196148029508\n",
            "6  \t [-0.22215816  2.048     ]\t 400.95215431206\t 2.166231627813885\t -2263.090037081637\n",
            "7  \t [2.048 2.048]\t 461.7603900415999\t 2.166231627813885\t -2130.9133242680427\n",
            "8  \t [ 0.09058106 -1.6156024 ]\t 264.50206854500794\t 2.166231627813885\t -1824.0610042705584\n",
            "9  \t [ 0.46956819 -0.52769602]\t 56.26023168083028\t 2.166231627813885\t -1300.2161652290886\n",
            "10 \t [-0.42229747  0.35459167]\t 5.129566228816648\t 2.166231627813885\t -1760.734954478567\n",
            "11 \t [-2.048      -0.06085382]\t 1819.927109623253\t 2.166231627813885\t -1089.2524625644364\n",
            "12 \t [1.56761333 1.19996376]\t 158.43968061600435\t 2.166231627813885\t -733.0228521287762\n",
            "13 \t [-1.10572722  1.59835075]\t 18.550493032662647\t 2.166231627813885\t -609.5106384460439\n",
            "14 \t [-1.22155072  2.048     ]\t 35.828188569663816\t 2.166231627813885\t -361.8163548670386\n",
            "15 \t [ 0.35859387 -1.09880496]\t 151.0611349047733\t 2.166231627813885\t -350.67907376857136\n",
            "16 \t [ 0.46063803 -2.048     ]\t 511.1356155808521\t 2.166231627813885\t -427.13007856676614\n",
            "17 \t [1.02988735 1.42114136]\t 12.99500079427594\t 2.166231627813885\t -315.89663290583604\n",
            "18 \t [0.14216556 0.21812503]\t 4.652874403808263\t 2.166231627813885\t -1427.1350711922712\n",
            "19 \t [0.87082851 2.048     ]\t 166.33838717621325\t 2.166231627813885\t -252.47304458392412\n",
            "20 \t [0.11539128 0.2303136 ]\t 5.49136553712673\t 2.166231627813885\t -1331.3628868053522\n"
          ]
        }
      ],
      "source": [
        "### Bayesian optimisation runs (x20): 'STP' Acquisition Function run number = 13 \n",
        "\n",
        "np.random.seed(run_num_13)\n",
        "surrogate_stp_13 = tStudentProcess(cov_func, nu = df, optimize=hyperOpt)\n",
        "\n",
        "stp_13 = GPGO_multi_STP(surrogate_stp_13, Acquisition_new(util_stp), f_syn_polarity, param, n_jobs = -1) # Define BayesOpt\n",
        "stp_13.run(max_iter = max_iter, init_evals = n_init) # run\n"
      ]
    },
    {
      "cell_type": "code",
      "execution_count": 45,
      "metadata": {
        "id": "aM5FQ3ibJLlE",
        "colab": {
          "base_uri": "https://localhost:8080/"
        },
        "outputId": "053d64eb-e15d-4044-931e-0b78b622afec"
      },
      "outputs": [
        {
          "output_type": "stream",
          "name": "stdout",
          "text": [
            "Evaluation \t Proposed point \t  Current eval. \t  Best eval. \t Min. ApproxAcqFunc \n",
            "init\t [0.05711194 1.11888405]\t 125.35034508047823\t 56.7252447162893\t    \n",
            "init\t [ 1.5172718 -2.0150397]\t 1864.0489319378007\t 56.7252447162893\t    \n",
            "init\t [-0.77932165  1.87434492]\t 163.6955655658878\t 56.7252447162893\t    \n",
            "init\t [ 0.05372605 -0.744307  ]\t 56.7252447162893\t 56.7252447162893\t    \n",
            "init\t [ 0.16056294 -1.14173976]\t 137.01499974575526\t 56.7252447162893\t    \n",
            "1  \t [-1.93542971 -1.24521455]\t 2499.72738326721\t 56.7252447162893\t -1087.584609092136\n",
            "2  \t [2.048 2.048]\t 461.7603900415999\t 56.7252447162893\t -1668.3136821784783\n",
            "3  \t [-2.048  2.048]\t 469.9523900415999\t 56.7252447162893\t -1518.4937482122805\n",
            "4  \t [2.048      0.29096646]\t 1524.7026989382189\t 56.7252447162893\t -1401.4756328739104\n",
            "5  \t [0.41196327 2.048     ]\t 353.1417152121608\t 56.7252447162893\t -1349.3277290359952\n",
            "\u001b[1m\u001b[92m6\u001b[0m\t \u001b[1m\u001b[92m[-0.40400025  0.35536151]\u001b[0m\t \u001b[1m\u001b[92m5.663198342567291\u001b[0m\t \u001b[1m\u001b[92m5.663198342567291\u001b[0m\t \u001b[1m\u001b[92m-1270.637867483825\u001b[0m\n",
            "7  \t [-2.048       0.81279747]\t 1152.748944316281\t 5.663198342567291\t -756.2601370122528\n",
            "8  \t [-0.35923661 -2.048     ]\t 475.8026059764115\t 5.663198342567291\t -664.316254287477\n",
            "\u001b[1m\u001b[92m9\u001b[0m\t \u001b[1m\u001b[92m[0.09171944 0.0920637 ]\u001b[0m\t \u001b[1m\u001b[92m1.5247266935762538\u001b[0m\t \u001b[1m\u001b[92m1.5247266935762538\u001b[0m\t \u001b[1m\u001b[92m-1106.5176097931435\u001b[0m\n",
            "10 \t [-0.62037653  1.05275695]\t 47.23331366757148\t 1.5247266935762538\t -221.60169735109747\n",
            "11 \t [ 0.49227656 -0.59648162]\t 70.61931805892682\t 1.5247266935762538\t -138.64776794727126\n",
            "12 \t [-0.24290967  0.67113439]\t 39.01504987424839\t 1.5247266935762538\t -112.46441866413554\n",
            "13 \t [ 0.0321265  -0.22242801]\t 5.930221587642476\t 1.5247266935762538\t -87.37885309728871\n",
            "14 \t [1.00679009 1.3149321 ]\t 9.078565991772555\t 1.5247266935762538\t -206.21723780166323\n",
            "\u001b[1m\u001b[92m15\u001b[0m\t \u001b[1m\u001b[92m[0.8165659  0.75195759]\u001b[0m\t \u001b[1m\u001b[92m0.7591724469756589\u001b[0m\t \u001b[1m\u001b[92m0.7591724469756589\u001b[0m\t \u001b[1m\u001b[92m-148.09058609209896\u001b[0m\n",
            "16 \t [0.69163913 1.05778253]\t 33.667590158247016\t 0.7591724469756589\t -82.48843910471393\n",
            "17 \t [1.29483985 2.048     ]\t 13.879965190169322\t 0.7591724469756589\t -113.17862578792365\n",
            "18 \t [0.15800768 0.32399664]\t 9.650857848401975\t 0.7591724469756589\t -827.1148463506979\n",
            "19 \t [0.66233817 0.11094703]\t 10.85568180665753\t 0.7591724469756589\t -87.45553113904714\n",
            "20 \t [0.13494465 0.34046252]\t 11.132985885967043\t 0.7591724469756589\t -821.6476251829905\n"
          ]
        }
      ],
      "source": [
        "### Bayesian optimisation runs (x20): 'STP' Acquisition Function run number = 14 \n",
        "\n",
        "np.random.seed(run_num_14)\n",
        "surrogate_stp_14 = tStudentProcess(cov_func, nu = df, optimize=hyperOpt)\n",
        "\n",
        "stp_14 = GPGO_multi_STP(surrogate_stp_14, Acquisition_new(util_stp), f_syn_polarity, param, n_jobs = -1) # Define BayesOpt\n",
        "stp_14.run(max_iter = max_iter, init_evals = n_init) # run\n"
      ]
    },
    {
      "cell_type": "code",
      "execution_count": 46,
      "metadata": {
        "id": "XmPTh2j_JLlF",
        "colab": {
          "base_uri": "https://localhost:8080/"
        },
        "outputId": "350ff2c6-3899-4355-f606-83d1b1e53ac5"
      },
      "outputs": [
        {
          "output_type": "stream",
          "name": "stdout",
          "text": [
            "Evaluation \t Proposed point \t  Current eval. \t  Best eval. \t Min. ApproxAcqFunc \n",
            "init\t [ 1.42875729 -1.31524229]\t 1126.8532605124637\t 56.02298763074632\t    \n",
            "init\t [-1.82532827 -0.56713852]\t 1528.1728177033635\t 56.02298763074632\t    \n",
            "init\t [-0.9199578   0.12288092]\t 56.02298763074632\t 56.02298763074632\t    \n",
            "init\t [-0.79495612 -0.80087302]\t 208.52154958515655\t 56.02298763074632\t    \n",
            "init\t [-1.59030773 -1.02441364]\t 1269.4404638957562\t 56.02298763074632\t    \n",
            "1  \t [0.02850623 1.03742345]\t 108.40000384762666\t 56.02298763074632\t -1202.9411984814076\n",
            "2  \t [2.048 2.048]\t 461.7603900415999\t 56.02298763074632\t -1101.19231355516\n",
            "3  \t [-1.97367496  2.048     ]\t 350.1287822414981\t 56.02298763074632\t -1033.1066997379478\n",
            "\u001b[1m\u001b[92m4\u001b[0m\t \u001b[1m\u001b[92m[ 0.04631253 -0.18605483]\u001b[0m\t \u001b[1m\u001b[92m4.45143179331232\u001b[0m\t \u001b[1m\u001b[92m4.45143179331232\u001b[0m\t \u001b[1m\u001b[92m-921.006538786642\u001b[0m\n",
            "5  \t [-0.35349846 -2.048     ]\t 474.007979961886\t 4.45143179331232\t -852.8139577082122\n",
            "6  \t [2.048      0.48612072]\t 1376.1606258985082\t 4.45143179331232\t -667.3316231035087\n",
            "7  \t [-0.46026302  2.048     ]\t 339.2799718178697\t 4.45143179331232\t -685.454633847675\n",
            "8  \t [0.7622536 2.048    ]\t 215.25646166846266\t 4.45143179331232\t -408.52471717760886\n",
            "\u001b[1m\u001b[92m9\u001b[0m\t \u001b[1m\u001b[92m[-0.39127577  0.15637271]\u001b[0m\t \u001b[1m\u001b[92m1.9367214719048407\u001b[0m\t \u001b[1m\u001b[92m1.9367214719048407\u001b[0m\t \u001b[1m\u001b[92m-341.1935326713253\u001b[0m\n",
            "10 \t [-1.10864983  1.0433116 ]\t 7.898302505336192\t 1.9367214719048407\t -389.0902392085363\n",
            "11 \t [-0.14607389 -0.81035838]\t 70.48530232119286\t 1.9367214719048407\t -309.3931442720174\n",
            "12 \t [-2.048       1.11959566]\t 954.67344058006\t 1.9367214719048407\t -260.95359443676136\n",
            "13 \t [-0.61242601  0.77629777]\t 18.69864178185622\t 1.9367214719048407\t -316.60559042210787\n",
            "14 \t [0.79041483 0.95629936]\t 11.036051761540687\t 1.9367214719048407\t -193.4638377245861\n",
            "15 \t [0.54297188 0.45058146]\t 2.635085684544419\t 1.9367214719048407\t -144.73923029062817\n",
            "16 \t [-1.2656495  2.048    ]\t 25.036485092485442\t 1.9367214719048407\t -122.09183316350196\n",
            "17 \t [-1.0005484  1.4945237]\t 28.349174932598142\t 1.9367214719048407\t -100.05087852965124\n",
            "18 \t [-0.39042369 -0.3562915 ]\t 27.813101327866356\t 1.9367214719048407\t -73.93304900271771\n",
            "19 \t [0.75208819 1.35474437]\t 62.330559367476106\t 1.9367214719048407\t -59.02673970935374\n",
            "20 \t [-0.11538764  0.47242418]\t 22.322276960466755\t 1.9367214719048407\t -627.4322407698331\n"
          ]
        }
      ],
      "source": [
        "### Bayesian optimisation runs (x20): 'STP' Acquisition Function run number = 15 \n",
        "\n",
        "np.random.seed(run_num_15)\n",
        "surrogate_stp_15 = tStudentProcess(cov_func, nu = df, optimize=hyperOpt)\n",
        "\n",
        "stp_15 = GPGO_multi_STP(surrogate_stp_15, Acquisition_new(util_stp), f_syn_polarity, param, n_jobs = -1) # Define BayesOpt\n",
        "stp_15.run(max_iter = max_iter, init_evals = n_init) # run\n"
      ]
    },
    {
      "cell_type": "code",
      "execution_count": 47,
      "metadata": {
        "id": "6aUP_b73JLlG",
        "colab": {
          "base_uri": "https://localhost:8080/"
        },
        "outputId": "47cf81a8-740e-421a-92d6-d66319c71bab"
      },
      "outputs": [
        {
          "output_type": "stream",
          "name": "stdout",
          "text": [
            "Evaluation \t Proposed point \t  Current eval. \t  Best eval. \t Min. ApproxAcqFunc \n",
            "init\t [-1.13339974  0.09487705]\t 146.09426826423262\t 146.09426826423262\t    \n",
            "init\t [ 0.20767317 -1.86121441]\t 363.27983894611043\t 146.09426826423262\t    \n",
            "init\t [-0.57045469 -1.13426046]\t 215.5326110993483\t 146.09426826423262\t    \n",
            "init\t [ 0.77302236 -1.37735608]\t 390.08228141599125\t 146.09426826423262\t    \n",
            "init\t [-1.75994935  1.80638048]\t 174.29606237276562\t 146.09426826423262\t    \n",
            "1  \t [2.048 2.048]\t 461.7603900415999\t 146.09426826423262\t -258.8653045486227\n",
            "2  \t [-2.048 -2.048]\t 3905.9262268415996\t 146.09426826423262\t -316.5340912742543\n",
            "\u001b[1m\u001b[92m3\u001b[0m\t \u001b[1m\u001b[92m[0.33356149 0.85937401]\u001b[0m\t \u001b[1m\u001b[92m56.41110821889391\u001b[0m\t \u001b[1m\u001b[92m56.41110821889391\u001b[0m\t \u001b[1m\u001b[92m-1922.0192670029473\u001b[0m\n",
            "4  \t [ 2.048      -0.08629833]\t 1833.4539316519836\t 56.41110821889391\t -1794.6063117003919\n",
            "5  \t [-0.15698126  2.048     ]\t 410.7359141945132\t 56.41110821889391\t -1855.3675637751367\n",
            "6  \t [ 2.048 -2.048]\t 3897.7342268415996\t 56.41110821889391\t -1650.5010748308898\n",
            "7  \t [-2.048       0.70223019]\t 1228.7482566714993\t 56.41110821889391\t -2108.1740266567435\n",
            "\u001b[1m\u001b[92m8\u001b[0m\t \u001b[1m\u001b[92m[-0.02703077 -0.1907467 ]\u001b[0m\t \u001b[1m\u001b[92m4.721150209203122\u001b[0m\t \u001b[1m\u001b[92m4.721150209203122\u001b[0m\t \u001b[1m\u001b[92m-2071.8892024510797\u001b[0m\n",
            "\u001b[1m\u001b[92m9\u001b[0m\t \u001b[1m\u001b[92m[-0.09578552 -0.16790023]\u001b[0m\t \u001b[1m\u001b[92m4.3363047708118865\u001b[0m\t \u001b[1m\u001b[92m4.3363047708118865\u001b[0m\t \u001b[1m\u001b[92m-1848.5881074290457\u001b[0m\n",
            "10 \t [-0.75721829  1.14586785]\t 35.86210353345644\t 4.3363047708118865\t -1101.974687924455\n",
            "11 \t [1.01150298 2.048     ]\t 105.03428867398061\t 4.3363047708118865\t -918.7203104949019\n",
            "12 \t [1.29965232 1.22261538]\t 21.850221807722665\t 4.3363047708118865\t -754.7342532919183\n",
            "13 \t [ 0.13113932 -1.03129458]\t 110.68848731160774\t 4.3363047708118865\t -712.4860910363182\n",
            "14 \t [-1.16184268  2.048     ]\t 53.410940278096696\t 4.3363047708118865\t -713.9124285927794\n",
            "15 \t [0.89998633 0.30526606]\t 25.483153893905573\t 4.3363047708118865\t -484.01760583459657\n",
            "16 \t [-2.048  2.048]\t 469.9523900415999\t 4.3363047708118865\t -402.9005332969607\n",
            "17 \t [-0.95064857 -0.53313814]\t 210.2648145980246\t 4.3363047708118865\t -399.6735730460953\n",
            "18 \t [ 0.80027875 -0.51532849]\t 133.62137393139668\t 4.3363047708118865\t -298.8154223604723\n",
            "19 \t [0.85390031 1.33308822]\t 36.49599700822436\t 4.3363047708118865\t -257.975703890234\n",
            "20 \t [-0.03683212  0.30255275]\t 10.146932752837959\t 4.3363047708118865\t -1301.7441965267637\n"
          ]
        }
      ],
      "source": [
        "### Bayesian optimisation runs (x20): 'STP' Acquisition Function run number = 16 \n",
        "\n",
        "np.random.seed(run_num_16)\n",
        "surrogate_stp_16 = tStudentProcess(cov_func, nu = df, optimize=hyperOpt)\n",
        "\n",
        "stp_16 = GPGO_multi_STP(surrogate_stp_16, Acquisition_new(util_stp), f_syn_polarity, param, n_jobs = -1) # Define BayesOpt\n",
        "stp_16.run(max_iter = max_iter, init_evals = n_init) # run\n"
      ]
    },
    {
      "cell_type": "code",
      "execution_count": 48,
      "metadata": {
        "id": "TV8_B_7cJLlH",
        "colab": {
          "base_uri": "https://localhost:8080/"
        },
        "outputId": "00271529-338d-4df2-dd8b-7953c06ceb15"
      },
      "outputs": [
        {
          "output_type": "stream",
          "name": "stdout",
          "text": [
            "Evaluation \t Proposed point \t  Current eval. \t  Best eval. \t Min. ApproxAcqFunc \n",
            "init\t [-0.84105215  0.12528335]\t 37.27181038922863\t 0.19652774971866602\t    \n",
            "init\t [-1.26353086 -1.76988013]\t 1138.381976578598\t 0.19652774971866602\t    \n",
            "init\t [1.17549244 0.64034211]\t 55.004181467935105\t 0.19652774971866602\t    \n",
            "init\t [0.56328559 0.30966945]\t 0.19652774971866602\t 0.19652774971866602\t    \n",
            "init\t [-1.8879983  -0.58239548]\t 1728.0458971940702\t 0.19652774971866602\t    \n",
            "1  \t [-0.58900297  1.92206085]\t 250.63038304827614\t 0.19652774971866602\t -1135.4939296805408\n",
            "2  \t [ 2.048 -2.048]\t 3897.7342268415996\t 0.19652774971866602\t -1048.1707873955927\n",
            "3  \t [2.048 2.048]\t 461.7603900415999\t 0.19652774971866602\t -2155.822206488117\n",
            "4  \t [-2.048  2.048]\t 469.9523900415999\t 0.19652774971866602\t -1980.7478292344906\n",
            "5  \t [0.57124458 2.048     ]\t 296.60190515366116\t 0.19652774971866602\t -1742.5885398826367\n",
            "6  \t [2.048      0.49989722]\t 1365.9624472419332\t 0.19652774971866602\t -1625.956510239665\n",
            "7  \t [-0.10514795  0.72292486]\t 51.897066681057474\t 0.19652774971866602\t -1659.5267517017164\n",
            "8  \t [ 0.15348653 -0.27048949]\t 9.362984451845891\t 0.19652774971866602\t -1519.7954661816161\n",
            "9  \t [-1.4662284   1.00557029]\t 137.01432751485783\t 0.19652774971866602\t -953.6200853874363\n",
            "10 \t [-0.04438166 -2.048     ]\t 421.32832321565655\t 0.19652774971866602\t -893.6497077700808\n",
            "11 \t [0.93552436 1.25672327]\t 14.559713120777234\t 0.19652774971866602\t -558.8036429495342\n",
            "12 \t [-0.30423208 -0.98308788]\t 117.40224709123525\t 0.19652774971866602\t -451.8791908241546\n",
            "13 \t [-0.85168913  0.92535414]\t 7.42794360444878\t 0.19652774971866602\t -333.3201278495257\n",
            "14 \t [-0.30412617 -0.05330487]\t 3.8264389694298737\t 0.19652774971866602\t -266.98545853518925\n",
            "15 \t [ 0.28594377 -1.10854281]\t 142.19286925513916\t 0.19652774971866602\t -230.89542346419157\n",
            "16 \t [0.72975238 0.84828339]\t 10.042515538536138\t 0.19652774971866602\t -176.08539406765107\n",
            "17 \t [ 0.96794229 -0.22376525]\t 134.71825935461996\t 0.19652774971866602\t -221.14862346460723\n",
            "18 \t [1.33026189 2.048     ]\t 7.859912602915871\t 0.19652774971866602\t -177.04960148611934\n",
            "19 \t [-2.048       0.85298102]\t 1125.734231421513\t 0.19652774971866602\t -161.16049183472973\n",
            "20 \t [0.04972352 0.46493197]\t 22.289908259300894\t 0.19652774971866602\t -1124.0803518161001\n"
          ]
        }
      ],
      "source": [
        "### Bayesian optimisation runs (x20): 'STP' Acquisition Function run number = 17 \n",
        "\n",
        "np.random.seed(run_num_17)\n",
        "surrogate_stp_17 = tStudentProcess(cov_func, nu = df, optimize=hyperOpt)\n",
        "\n",
        "stp_17 = GPGO_multi_STP(surrogate_stp_17, Acquisition_new(util_stp), f_syn_polarity, param, n_jobs = -1) # Define BayesOpt\n",
        "stp_17.run(max_iter = max_iter, init_evals = n_init) # run\n"
      ]
    },
    {
      "cell_type": "code",
      "execution_count": 49,
      "metadata": {
        "id": "57ABzGR1JLlI",
        "colab": {
          "base_uri": "https://localhost:8080/"
        },
        "outputId": "6e49bfbc-f9e1-43d2-ef92-05abb4abcbcd"
      },
      "outputs": [
        {
          "output_type": "stream",
          "name": "stdout",
          "text": [
            "Evaluation \t Proposed point \t  Current eval. \t  Best eval. \t Min. ApproxAcqFunc \n",
            "init\t [0.61593289 0.02233702]\t 12.895000300241685\t 12.895000300241685\t    \n",
            "init\t [ 1.55075162 -1.30318244]\t 1375.2393970855524\t 12.895000300241685\t    \n",
            "init\t [1.44274665 1.02455823]\t 111.91239818238155\t 12.895000300241685\t    \n",
            "init\t [0.68035243 1.99841976]\t 235.89058418537797\t 12.895000300241685\t    \n",
            "init\t [-0.99545734 -1.93205893]\t 858.3713873043706\t 12.895000300241685\t    \n",
            "1  \t [-2.048       1.41357535]\t 782.5354854385932\t 12.895000300241685\t -944.8345892793026\n",
            "2  \t [2.048 2.048]\t 461.7603900415999\t 12.895000300241685\t -873.6255180931404\n",
            "3  \t [-0.19226628  0.56320148]\t 29.11384266611476\t 12.895000300241685\t -833.2475776046449\n",
            "4  \t [-2.048      -0.47753798]\t 2191.901056565854\t 12.895000300241685\t -724.3620549551831\n",
            "5  \t [-0.47227648  2.048     ]\t 335.2136466042439\t 12.895000300241685\t -1070.7283387465138\n",
            "6  \t [0.46890798 0.73041335]\t 26.34703070424891\t 12.895000300241685\t -974.6017563933003\n",
            "7  \t [2.048      0.31093354]\t 1509.1549170838412\t 12.895000300241685\t -574.6168443469529\n",
            "8  \t [ 0.006211   -0.35059696]\t 13.282144862956763\t 12.895000300241685\t -682.7880591686921\n",
            "9  \t [ 0.28317095 -2.048     ]\t 453.43131821955694\t 12.895000300241685\t -536.1837084209867\n",
            "\u001b[1m\u001b[92m10\u001b[0m\t \u001b[1m\u001b[92m[0.1970939  0.20012989]\u001b[0m\t \u001b[1m\u001b[92m3.245907279897232\u001b[0m\t \u001b[1m\u001b[92m3.245907279897232\u001b[0m\t \u001b[1m\u001b[92m-434.6944487269737\u001b[0m\n",
            "11 \t [1.0843023  1.39833743]\t 4.963337899819904\t 3.245907279897232\t -290.8977952241966\n",
            "12 \t [-0.82923716  1.15495589]\t 25.18505755322696\t 3.245907279897232\t -239.62927185717655\n",
            "13 \t [ 0.34802132 -0.85426499]\t 95.56243801129737\t 3.245907279897232\t -244.94478562290564\n",
            "14 \t [-0.33260589  1.22850716]\t 126.74151392649513\t 3.245907279897232\t -154.11291966773854\n",
            "15 \t [-0.84153768  0.66835917]\t 3.549875995085179\t 3.245907279897232\t -128.59239156122493\n",
            "\u001b[1m\u001b[92m16\u001b[0m\t \u001b[1m\u001b[92m[0.97572407 0.83166877]\u001b[0m\t \u001b[1m\u001b[92m1.4494514983470421\u001b[0m\t \u001b[1m\u001b[92m1.4494514983470421\u001b[0m\t \u001b[1m\u001b[92m-115.27963553811804\u001b[0m\n",
            "17 \t [ 0.33714665 -0.31671477]\t 18.962295814602506\t 1.4494514983470421\t -69.94965343516164\n",
            "18 \t [-0.1714409  -1.14407265]\t 139.07419853820792\t 1.4494514983470421\t -114.51186222672953\n",
            "19 \t [0.08510932 0.54751206]\t 30.0260263249888\t 1.4494514983470421\t -634.0417854612126\n",
            "20 \t [0.83322738 1.12308585]\t 18.416299345859944\t 1.4494514983470421\t -296.00458653073963\n"
          ]
        }
      ],
      "source": [
        "### Bayesian optimisation runs (x20): 'STP' Acquisition Function run number = 18 \n",
        "\n",
        "np.random.seed(run_num_18)\n",
        "surrogate_stp_18 = tStudentProcess(cov_func, nu = df, optimize=hyperOpt)\n",
        "\n",
        "stp_18 = GPGO_multi_STP(surrogate_stp_18, Acquisition_new(util_stp), f_syn_polarity, param, n_jobs = -1) # Define BayesOpt\n",
        "stp_18.run(max_iter = max_iter, init_evals = n_init) # run\n"
      ]
    },
    {
      "cell_type": "code",
      "execution_count": 50,
      "metadata": {
        "id": "x2CyIorrJLlJ",
        "colab": {
          "base_uri": "https://localhost:8080/"
        },
        "outputId": "efc728c3-985a-499c-aa0b-d2e5d06d7e6a"
      },
      "outputs": [
        {
          "output_type": "stream",
          "name": "stdout",
          "text": [
            "Evaluation \t Proposed point \t  Current eval. \t  Best eval. \t Min. ApproxAcqFunc \n",
            "init\t [-1.64850237  1.07007884]\t 278.43400025820534\t 57.78708636899354\t    \n",
            "init\t [-1.03654206 -1.48221261]\t 657.7842496298689\t 57.78708636899354\t    \n",
            "init\t [-0.69039488 -1.70803378]\t 480.139610337942\t 57.78708636899354\t    \n",
            "init\t [0.70441812 1.2558082 ]\t 57.78708636899354\t 57.78708636899354\t    \n",
            "init\t [1.97731088 0.55566637]\t 1125.9484203106679\t 57.78708636899354\t    \n",
            "1  \t [ 2.048 -2.048]\t 3897.7342268415996\t 57.78708636899354\t -766.5182829381761\n",
            "2  \t [-0.3570827  2.048    ]\t 370.67060470090644\t 57.78708636899354\t -2107.988903036291\n",
            "\u001b[1m\u001b[92m3\u001b[0m\t \u001b[1m\u001b[92m[-0.24529347  0.19276381]\u001b[0m\t \u001b[1m\u001b[92m3.308897199534992\u001b[0m\t \u001b[1m\u001b[92m3.308897199534992\u001b[0m\t \u001b[1m\u001b[92m-1860.01366471559\u001b[0m\n",
            "4  \t [-2.048  2.048]\t 469.9523900415999\t 3.308897199534992\t -1743.999028294289\n",
            "5  \t [-2.048      -0.24899711]\t 1983.5827830954668\t 3.308897199534992\t -1673.1164082437258\n",
            "6  \t [2.048 2.048]\t 461.7603900415999\t 3.308897199534992\t -1741.510308858931\n",
            "7  \t [-2.048 -2.048]\t 3905.9262268415996\t 3.308897199534992\t -1129.8019988738804\n",
            "8  \t [ 0.18369839 -0.58265359]\t 38.6610823323719\t 3.308897199534992\t -2025.4591352592108\n",
            "9  \t [-0.06983297  0.7653876 ]\t 58.982233883348094\t 3.308897199534992\t -1858.1387829070036\n",
            "10 \t [-0.53546993 -0.81958343]\t 124.75017725348305\t 3.308897199534992\t -1108.472098975704\n",
            "11 \t [0.84853908 2.048     ]\t 176.37640712931795\t 3.308897199534992\t -1070.6709888764376\n",
            "12 \t [0.7340933  0.19846977]\t 11.659501641772597\t 3.308897199534992\t -932.5317339111078\n",
            "13 \t [-1.14104326  1.59248013]\t 13.023115558338075\t 3.308897199534992\t -511.76725041178923\n",
            "14 \t [-0.90439954  0.83737412]\t 3.6645118258912537\t 3.308897199534992\t -419.99848337817383\n",
            "15 \t [ 0.94192904 -0.4318485 ]\t 174.00026354722758\t 3.308897199534992\t -279.6301575194152\n",
            "\u001b[1m\u001b[92m16\u001b[0m\t \u001b[1m\u001b[92m[1.31885815 1.58388602]\u001b[0m\t \u001b[1m\u001b[92m2.5197201782817564\u001b[0m\t \u001b[1m\u001b[92m2.5197201782817564\u001b[0m\t \u001b[1m\u001b[92m-255.2845381189293\u001b[0m\n",
            "17 \t [ 0.37133154 -0.11774633]\t 6.930069718521187\t 2.5197201782817564\t -215.218378427488\n",
            "18 \t [-1.22484886  2.048     ]\t 34.95244017454416\t 2.5197201782817564\t -283.04935616614193\n",
            "19 \t [ 0.01521644 -0.58186413]\t 34.85333608356625\t 2.5197201782817564\t -1300.2335125378559\n",
            "\u001b[1m\u001b[92m20\u001b[0m\t \u001b[1m\u001b[92m[1.38158636 2.048     ]\u001b[0m\t \u001b[1m\u001b[92m2.0838045273499937\u001b[0m\t \u001b[1m\u001b[92m2.0838045273499937\u001b[0m\t \u001b[1m\u001b[92m-178.88475121498135\u001b[0m\n"
          ]
        }
      ],
      "source": [
        "### Bayesian optimisation runs (x20): 'STP' Acquisition Function run number = 19 \n",
        "\n",
        "np.random.seed(run_num_19)\n",
        "surrogate_stp_19 = tStudentProcess(cov_func, nu = df, optimize=hyperOpt)\n",
        "\n",
        "stp_19 = GPGO_multi_STP(surrogate_stp_19, Acquisition_new(util_stp), f_syn_polarity, param, n_jobs = -1) # Define BayesOpt\n",
        "stp_19.run(max_iter = max_iter, init_evals = n_init) # run\n"
      ]
    },
    {
      "cell_type": "code",
      "execution_count": 51,
      "metadata": {
        "id": "4O6_IplWJLlJ",
        "colab": {
          "base_uri": "https://localhost:8080/"
        },
        "outputId": "6fac0087-1515-4bfc-a975-446b032d6dc5"
      },
      "outputs": [
        {
          "output_type": "stream",
          "name": "stdout",
          "text": [
            "Evaluation \t Proposed point \t  Current eval. \t  Best eval. \t Min. ApproxAcqFunc \n",
            "init\t [0.36098376 1.62903543]\t 225.0263501192369\t 5.168692520381821\t    \n",
            "init\t [1.60370987 1.29367031]\t 163.7478327754951\t 5.168692520381821\t    \n",
            "init\t [-1.90099626  0.78543905]\t 808.3708592256118\t 5.168692520381821\t    \n",
            "init\t [-0.49692286  0.07582083]\t 5.168692520381821\t 5.168692520381821\t    \n",
            "init\t [ 0.6469692  -1.25398951]\t 279.86987688431674\t 5.168692520381821\t    \n",
            "1  \t [-2.048 -2.048]\t 3905.9262268415996\t 5.168692520381821\t -516.4665241235563\n",
            "2  \t [ 2.048 -2.048]\t 3897.7342268415996\t 5.168692520381821\t -2082.9052221474\n",
            "3  \t [0.75407622 0.14431858]\t 18.064577175244544\t 5.168692520381821\t -2573.329245728223\n",
            "4  \t [-1.02861759  2.048     ]\t 102.11456833359439\t 5.168692520381821\t -2413.8187706361546\n",
            "5  \t [2.048 2.048]\t 461.7603900415999\t 5.168692520381821\t -2281.8118046362697\n",
            "6  \t [2.048      0.33002435]\t 1494.3640230818949\t 5.168692520381821\t -2104.995010993416\n",
            "7  \t [-2.048  2.048]\t 469.9523900415999\t 5.168692520381821\t -2045.9548780579946\n",
            "8  \t [-0.06628451 -0.48290609]\t 24.883064960827948\t 5.168692520381821\t -1960.340216674312\n",
            "9  \t [-0.05829186  0.73720797]\t 54.967698223042056\t 5.168692520381821\t -1850.5710532996877\n",
            "10 \t [0.09782307 2.048     ]\t 416.3338737662649\t 5.168692520381821\t -1753.7488412846421\n",
            "11 \t [ 0.00623825 -2.048     ]\t 420.43390245129723\t 5.168692520381821\t -1254.9302187635403\n",
            "12 \t [1.17187248 2.048     ]\t 45.55355959966511\t 5.168692520381821\t -706.6158178290074\n",
            "\u001b[1m\u001b[92m13\u001b[0m\t \u001b[1m\u001b[92m[0.86514156 0.94685426]\u001b[0m\t \u001b[1m\u001b[92m3.9538216110114686\u001b[0m\t \u001b[1m\u001b[92m3.9538216110114686\u001b[0m\t \u001b[1m\u001b[92m-524.450125815908\u001b[0m\n",
            "14 \t [-0.91689677  1.07733406]\t 9.274075784307179\t 3.9538216110114686\t -528.6766574450786\n",
            "15 \t [ 0.51353016 -0.51929295]\t 61.54651945912719\t 3.9538216110114686\t -332.69068027395303\n",
            "16 \t [-1.15522343 -0.34608662]\t 287.09596426453595\t 3.9538216110114686\t -352.5799289241351\n",
            "17 \t [-0.64644377  1.50028621]\t 119.8690320032139\t 3.9538216110114686\t -218.17252112202013\n",
            "18 \t [-0.05555048 -1.26687242]\t 162.39358906011825\t 3.9538216110114686\t -330.99058345426477\n",
            "\u001b[1m\u001b[92m19\u001b[0m\t \u001b[1m\u001b[92m[0.29438383 0.15954522]\u001b[0m\t \u001b[1m\u001b[92m1.0290929245821872\u001b[0m\t \u001b[1m\u001b[92m1.0290929245821872\u001b[0m\t \u001b[1m\u001b[92m-205.50048938543665\u001b[0m\n",
            "20 \t [-0.06021722  0.08676174]\t 1.8152138697517182\t 1.0290929245821872\t -1321.8464397508203\n"
          ]
        }
      ],
      "source": [
        "### Bayesian optimisation runs (x20): 'STP' Acquisition Function run number = 20 \n",
        "\n",
        "np.random.seed(run_num_20)\n",
        "surrogate_stp_20 = tStudentProcess(cov_func, nu = df, optimize=hyperOpt)\n",
        "\n",
        "stp_20 = GPGO_multi_STP(surrogate_stp_20, Acquisition_new(util_stp), f_syn_polarity, param, n_jobs = -1) # Define BayesOpt\n",
        "stp_20.run(max_iter = max_iter, init_evals = n_init) # run\n"
      ]
    },
    {
      "cell_type": "code",
      "execution_count": 52,
      "metadata": {
        "id": "B9S2UvZ9JLlK",
        "colab": {
          "base_uri": "https://localhost:8080/"
        },
        "outputId": "eba3adc5-b394-428e-99ff-c07c624e5b44"
      },
      "outputs": [
        {
          "output_type": "execute_result",
          "data": {
            "text/plain": [
              "(-1.0422545659592533, -0.7344101679438335)"
            ]
          },
          "metadata": {},
          "execution_count": 52
        }
      ],
      "source": [
        "### Simple regret minimisation: run number = 1\n",
        "\n",
        "gp_output_1 = np.append(np.max(gp_1.GP.y[0:n_init]),gp_1.GP.y[n_init:(n_init+max_iter)]) \n",
        "stp_output_1 = np.append(np.max(stp_1.GP.y[0:n_init]),stp_1.GP.y[n_init:(n_init+max_iter)]) \n",
        "\n",
        "regret_gp_1 = np.log(y_global_orig - gp_output_1)\n",
        "regret_stp_1 = np.log(y_global_orig - stp_output_1)\n",
        "\n",
        "simple_regret_gp_1 = min_max_array(regret_gp_1)\n",
        "simple_regret_stp_1 = min_max_array(regret_stp_1)\n",
        "\n",
        "min_simple_regret_gp_1 = min(simple_regret_gp_1)\n",
        "min_simple_regret_stp_1 = min(simple_regret_stp_1)\n",
        "\n",
        "min_simple_regret_gp_1, min_simple_regret_stp_1\n"
      ]
    },
    {
      "cell_type": "code",
      "execution_count": 53,
      "metadata": {
        "id": "adGcU8l5JLlK",
        "colab": {
          "base_uri": "https://localhost:8080/"
        },
        "outputId": "392457ea-7b77-44e6-8c19-18453598b177"
      },
      "outputs": [
        {
          "output_type": "execute_result",
          "data": {
            "text/plain": [
              "(1.696093584191667, 0.36930092369322676)"
            ]
          },
          "metadata": {},
          "execution_count": 53
        }
      ],
      "source": [
        "### Simple regret minimisation: run number = 2\n",
        "\n",
        "gp_output_2 = np.append(np.max(gp_2.GP.y[0:n_init]),gp_2.GP.y[n_init:(n_init+max_iter)]) \n",
        "stp_output_2 = np.append(np.max(stp_2.GP.y[0:n_init]),stp_2.GP.y[n_init:(n_init+max_iter)]) \n",
        "\n",
        "regret_gp_2 = np.log(y_global_orig - gp_output_2)\n",
        "regret_stp_2 = np.log(y_global_orig - stp_output_2)\n",
        "\n",
        "simple_regret_gp_2 = min_max_array(regret_gp_2)\n",
        "simple_regret_stp_2 = min_max_array(regret_stp_2)\n",
        "\n",
        "min_simple_regret_gp_2 = min(simple_regret_gp_2)\n",
        "min_simple_regret_stp_2 = min(simple_regret_stp_2)\n",
        "\n",
        "min_simple_regret_gp_2, min_simple_regret_stp_2\n"
      ]
    },
    {
      "cell_type": "code",
      "execution_count": 54,
      "metadata": {
        "id": "1F9LaViaJLlL",
        "colab": {
          "base_uri": "https://localhost:8080/"
        },
        "outputId": "488a743a-06b2-4157-f246-a108b3aa75d5"
      },
      "outputs": [
        {
          "output_type": "execute_result",
          "data": {
            "text/plain": [
              "(3.0680924977395394, 0.242363195656135)"
            ]
          },
          "metadata": {},
          "execution_count": 54
        }
      ],
      "source": [
        "### Simple regret minimisation: run number = 3\n",
        "\n",
        "gp_output_3 = np.append(np.max(gp_3.GP.y[0:n_init]),gp_3.GP.y[n_init:(n_init+max_iter)]) \n",
        "stp_output_3 = np.append(np.max(stp_3.GP.y[0:n_init]),stp_3.GP.y[n_init:(n_init+max_iter)]) \n",
        "\n",
        "regret_gp_3 = np.log(y_global_orig - gp_output_3)\n",
        "regret_stp_3 = np.log(y_global_orig - stp_output_3)\n",
        "\n",
        "simple_regret_gp_3 = min_max_array(regret_gp_3)\n",
        "simple_regret_stp_3 = min_max_array(regret_stp_3)\n",
        "\n",
        "min_simple_regret_gp_3 = min(simple_regret_gp_3)\n",
        "min_simple_regret_stp_3 = min(simple_regret_stp_3)\n",
        "\n",
        "min_simple_regret_gp_3, min_simple_regret_stp_3\n"
      ]
    },
    {
      "cell_type": "code",
      "execution_count": 55,
      "metadata": {
        "id": "vThMylZmJLlL",
        "colab": {
          "base_uri": "https://localhost:8080/"
        },
        "outputId": "1c942ca3-83b4-49be-c48f-cb188acbc98d"
      },
      "outputs": [
        {
          "output_type": "execute_result",
          "data": {
            "text/plain": [
              "(1.4767247650362427, -1.0417854340553183)"
            ]
          },
          "metadata": {},
          "execution_count": 55
        }
      ],
      "source": [
        "### Simple regret minimisation: run number = 4\n",
        "\n",
        "gp_output_4 = np.append(np.max(gp_4.GP.y[0:n_init]),gp_4.GP.y[n_init:(n_init+max_iter)]) \n",
        "stp_output_4 = np.append(np.max(stp_4.GP.y[0:n_init]),stp_4.GP.y[n_init:(n_init+max_iter)]) \n",
        "\n",
        "regret_gp_4 = np.log(y_global_orig - gp_output_4)\n",
        "regret_stp_4 = np.log(y_global_orig - stp_output_4)\n",
        "\n",
        "simple_regret_gp_4 = min_max_array(regret_gp_4)\n",
        "simple_regret_stp_4 = min_max_array(regret_stp_4)\n",
        "\n",
        "min_simple_regret_gp_4 = min(simple_regret_gp_4)\n",
        "min_simple_regret_stp_4 = min(simple_regret_stp_4)\n",
        "\n",
        "min_simple_regret_gp_4, min_simple_regret_stp_4\n"
      ]
    },
    {
      "cell_type": "code",
      "execution_count": 56,
      "metadata": {
        "id": "9Um6_WG7JLlM",
        "colab": {
          "base_uri": "https://localhost:8080/"
        },
        "outputId": "f07816e0-da43-4f04-e1cb-e056055946f9"
      },
      "outputs": [
        {
          "output_type": "execute_result",
          "data": {
            "text/plain": [
              "(2.250833477895446, -0.04765313650548759)"
            ]
          },
          "metadata": {},
          "execution_count": 56
        }
      ],
      "source": [
        "### Simple regret minimisation: run number = 5\n",
        "\n",
        "gp_output_5 = np.append(np.max(gp_5.GP.y[0:n_init]),gp_5.GP.y[n_init:(n_init+max_iter)]) \n",
        "stp_output_5 = np.append(np.max(stp_5.GP.y[0:n_init]),stp_5.GP.y[n_init:(n_init+max_iter)]) \n",
        "\n",
        "regret_gp_5 = np.log(y_global_orig - gp_output_5)\n",
        "regret_stp_5 = np.log(y_global_orig - stp_output_5)\n",
        "\n",
        "simple_regret_gp_5 = min_max_array(regret_gp_5)\n",
        "simple_regret_stp_5 = min_max_array(regret_stp_5)\n",
        "\n",
        "min_simple_regret_gp_5 = min(simple_regret_gp_5)\n",
        "min_simple_regret_stp_5 = min(simple_regret_stp_5)\n",
        "\n",
        "min_simple_regret_gp_5, min_simple_regret_stp_5\n"
      ]
    },
    {
      "cell_type": "code",
      "execution_count": 57,
      "metadata": {
        "id": "s7F8Y3b9JLlM",
        "colab": {
          "base_uri": "https://localhost:8080/"
        },
        "outputId": "94edc36f-f30b-4ac4-f572-702e0a121177"
      },
      "outputs": [
        {
          "output_type": "execute_result",
          "data": {
            "text/plain": [
              "(1.107540634427908, 1.107540634427908)"
            ]
          },
          "metadata": {},
          "execution_count": 57
        }
      ],
      "source": [
        "### Simple regret minimisation: run number = 6\n",
        "\n",
        "gp_output_6 = np.append(np.max(gp_6.GP.y[0:n_init]),gp_6.GP.y[n_init:(n_init+max_iter)]) \n",
        "stp_output_6 = np.append(np.max(stp_6.GP.y[0:n_init]),stp_6.GP.y[n_init:(n_init+max_iter)]) \n",
        "\n",
        "regret_gp_6 = np.log(y_global_orig - gp_output_6)\n",
        "regret_stp_6 = np.log(y_global_orig - stp_output_6)\n",
        "\n",
        "simple_regret_gp_6 = min_max_array(regret_gp_6)\n",
        "simple_regret_stp_6 = min_max_array(regret_stp_6)\n",
        "\n",
        "min_simple_regret_gp_6 = min(simple_regret_gp_6)\n",
        "min_simple_regret_stp_6 = min(simple_regret_stp_6)\n",
        "\n",
        "min_simple_regret_gp_6, min_simple_regret_stp_6\n"
      ]
    },
    {
      "cell_type": "code",
      "execution_count": 58,
      "metadata": {
        "id": "FbMNex-gJLlN",
        "colab": {
          "base_uri": "https://localhost:8080/"
        },
        "outputId": "82bc1657-da1c-4a49-9a98-9a4b1e88aa4b"
      },
      "outputs": [
        {
          "output_type": "execute_result",
          "data": {
            "text/plain": [
              "(0.6582709217876653, 0.30414138240672295)"
            ]
          },
          "metadata": {},
          "execution_count": 58
        }
      ],
      "source": [
        "### Simple regret minimisation: run number = 7\n",
        "\n",
        "gp_output_7 = np.append(np.max(gp_7.GP.y[0:n_init]),gp_7.GP.y[n_init:(n_init+max_iter)]) \n",
        "stp_output_7 = np.append(np.max(stp_7.GP.y[0:n_init]),stp_7.GP.y[n_init:(n_init+max_iter)]) \n",
        "\n",
        "regret_gp_7 = np.log(y_global_orig - gp_output_7)\n",
        "regret_stp_7 = np.log(y_global_orig - stp_output_7)\n",
        "\n",
        "simple_regret_gp_7 = min_max_array(regret_gp_7)\n",
        "simple_regret_stp_7 = min_max_array(regret_stp_7)\n",
        "\n",
        "min_simple_regret_gp_7 = min(simple_regret_gp_7)\n",
        "min_simple_regret_stp_7 = min(simple_regret_stp_7)\n",
        "\n",
        "min_simple_regret_gp_7, min_simple_regret_stp_7\n"
      ]
    },
    {
      "cell_type": "code",
      "execution_count": 59,
      "metadata": {
        "id": "yTxbjos2JLlN",
        "colab": {
          "base_uri": "https://localhost:8080/"
        },
        "outputId": "50d7980c-6fca-4f12-ec80-7d913c12ef37"
      },
      "outputs": [
        {
          "output_type": "execute_result",
          "data": {
            "text/plain": [
              "(0.5689197806346428, 0.5689197806346428)"
            ]
          },
          "metadata": {},
          "execution_count": 59
        }
      ],
      "source": [
        "### Simple regret minimisation: run number = 8\n",
        "\n",
        "gp_output_8 = np.append(np.max(gp_8.GP.y[0:n_init]),gp_8.GP.y[n_init:(n_init+max_iter)]) \n",
        "stp_output_8 = np.append(np.max(stp_8.GP.y[0:n_init]),stp_8.GP.y[n_init:(n_init+max_iter)]) \n",
        "\n",
        "regret_gp_8 = np.log(y_global_orig - gp_output_8)\n",
        "regret_stp_8 = np.log(y_global_orig - stp_output_8)\n",
        "\n",
        "simple_regret_gp_8 = min_max_array(regret_gp_8)\n",
        "simple_regret_stp_8 = min_max_array(regret_stp_8)\n",
        "\n",
        "min_simple_regret_gp_8 = min(simple_regret_gp_8)\n",
        "min_simple_regret_stp_8 = min(simple_regret_stp_8)\n",
        "\n",
        "min_simple_regret_gp_8, min_simple_regret_stp_8\n"
      ]
    },
    {
      "cell_type": "code",
      "execution_count": 60,
      "metadata": {
        "id": "iBuMpq59JLlO",
        "colab": {
          "base_uri": "https://localhost:8080/"
        },
        "outputId": "5b7e58f2-be79-4205-f9a6-5ebf5471b274"
      },
      "outputs": [
        {
          "output_type": "execute_result",
          "data": {
            "text/plain": [
              "(1.7966869489141541, -0.5317596387222013)"
            ]
          },
          "metadata": {},
          "execution_count": 60
        }
      ],
      "source": [
        "### Simple regret minimisation: run number = 9\n",
        "\n",
        "gp_output_9 = np.append(np.max(gp_9.GP.y[0:n_init]),gp_9.GP.y[n_init:(n_init+max_iter)]) \n",
        "stp_output_9 = np.append(np.max(stp_9.GP.y[0:n_init]),stp_9.GP.y[n_init:(n_init+max_iter)]) \n",
        "\n",
        "regret_gp_9 = np.log(y_global_orig - gp_output_9)\n",
        "regret_stp_9 = np.log(y_global_orig - stp_output_9)\n",
        "\n",
        "simple_regret_gp_9 = min_max_array(regret_gp_9)\n",
        "simple_regret_stp_9 = min_max_array(regret_stp_9)\n",
        "\n",
        "min_simple_regret_gp_9 = min(simple_regret_gp_9)\n",
        "min_simple_regret_stp_9 = min(simple_regret_stp_9)\n",
        "\n",
        "min_simple_regret_gp_9, min_simple_regret_stp_9\n"
      ]
    },
    {
      "cell_type": "code",
      "execution_count": 61,
      "metadata": {
        "id": "MT-MYaKEJLlO",
        "colab": {
          "base_uri": "https://localhost:8080/"
        },
        "outputId": "4a3bb58b-66f8-40b4-f1ec-4d45a7513236"
      },
      "outputs": [
        {
          "output_type": "execute_result",
          "data": {
            "text/plain": [
              "(1.3494395528775378, -3.2356633674598587)"
            ]
          },
          "metadata": {},
          "execution_count": 61
        }
      ],
      "source": [
        "### Simple regret minimisation: run number = 10\n",
        "\n",
        "gp_output_10 = np.append(np.max(gp_10.GP.y[0:n_init]),gp_10.GP.y[n_init:(n_init+max_iter)]) \n",
        "stp_output_10 = np.append(np.max(stp_10.GP.y[0:n_init]),stp_10.GP.y[n_init:(n_init+max_iter)]) \n",
        "\n",
        "regret_gp_10 = np.log(y_global_orig - gp_output_10)\n",
        "regret_stp_10 = np.log(y_global_orig - stp_output_10)\n",
        "\n",
        "simple_regret_gp_10 = min_max_array(regret_gp_10)\n",
        "simple_regret_stp_10 = min_max_array(regret_stp_10)\n",
        "\n",
        "min_simple_regret_gp_10 = min(simple_regret_gp_10)\n",
        "min_simple_regret_stp_10 = min(simple_regret_stp_10)\n",
        "\n",
        "min_simple_regret_gp_10, min_simple_regret_stp_10\n"
      ]
    },
    {
      "cell_type": "code",
      "execution_count": 62,
      "metadata": {
        "id": "JgXNMHBOJLlP",
        "colab": {
          "base_uri": "https://localhost:8080/"
        },
        "outputId": "6be5ae34-6311-4aad-edf8-e0ffb89a9c2c"
      },
      "outputs": [
        {
          "output_type": "execute_result",
          "data": {
            "text/plain": [
              "(1.5114669239052643, -2.5655833416305853)"
            ]
          },
          "metadata": {},
          "execution_count": 62
        }
      ],
      "source": [
        "### Simple regret minimisation: run number = 11\n",
        "\n",
        "gp_output_11 = np.append(np.max(gp_11.GP.y[0:n_init]),gp_11.GP.y[n_init:(n_init+max_iter)]) \n",
        "stp_output_11 = np.append(np.max(stp_11.GP.y[0:n_init]),stp_11.GP.y[n_init:(n_init+max_iter)]) \n",
        "\n",
        "regret_gp_11 = np.log(y_global_orig - gp_output_11)\n",
        "regret_stp_11 = np.log(y_global_orig - stp_output_11)\n",
        "\n",
        "simple_regret_gp_11 = min_max_array(regret_gp_11)\n",
        "simple_regret_stp_11 = min_max_array(regret_stp_11)\n",
        "\n",
        "min_simple_regret_gp_11 = min(simple_regret_gp_11)\n",
        "min_simple_regret_stp_11 = min(simple_regret_stp_11)\n",
        "\n",
        "min_simple_regret_gp_11, min_simple_regret_stp_11\n"
      ]
    },
    {
      "cell_type": "code",
      "execution_count": 63,
      "metadata": {
        "id": "CNvnLAXOJLlQ",
        "colab": {
          "base_uri": "https://localhost:8080/"
        },
        "outputId": "8b82be84-922c-4551-9c33-0c0dc5058490"
      },
      "outputs": [
        {
          "output_type": "execute_result",
          "data": {
            "text/plain": [
              "(3.705596875841175, -0.36148070384108144)"
            ]
          },
          "metadata": {},
          "execution_count": 63
        }
      ],
      "source": [
        "### Simple regret minimisation: run number = 12\n",
        "\n",
        "gp_output_12 = np.append(np.max(gp_12.GP.y[0:n_init]),gp_12.GP.y[n_init:(n_init+max_iter)]) \n",
        "stp_output_12 = np.append(np.max(stp_12.GP.y[0:n_init]),stp_12.GP.y[n_init:(n_init+max_iter)]) \n",
        "\n",
        "regret_gp_12 = np.log(y_global_orig - gp_output_12)\n",
        "regret_stp_12 = np.log(y_global_orig - stp_output_12)\n",
        "\n",
        "simple_regret_gp_12 = min_max_array(regret_gp_12)\n",
        "simple_regret_stp_12 = min_max_array(regret_stp_12)\n",
        "\n",
        "min_simple_regret_gp_12 = min(simple_regret_gp_12)\n",
        "min_simple_regret_stp_12 = min(simple_regret_stp_12)\n",
        "\n",
        "min_simple_regret_gp_12, min_simple_regret_stp_12\n"
      ]
    },
    {
      "cell_type": "code",
      "execution_count": 64,
      "metadata": {
        "id": "LccPP2SJJLlQ",
        "colab": {
          "base_uri": "https://localhost:8080/"
        },
        "outputId": "2c42e101-d74c-4183-f403-09369e63e404"
      },
      "outputs": [
        {
          "output_type": "execute_result",
          "data": {
            "text/plain": [
              "(0.7729890809102185, 0.7729890809102185)"
            ]
          },
          "metadata": {},
          "execution_count": 64
        }
      ],
      "source": [
        "### Simple regret minimisation: run number = 13\n",
        "\n",
        "gp_output_13 = np.append(np.max(gp_13.GP.y[0:n_init]),gp_13.GP.y[n_init:(n_init+max_iter)]) \n",
        "stp_output_13 = np.append(np.max(stp_13.GP.y[0:n_init]),stp_13.GP.y[n_init:(n_init+max_iter)]) \n",
        "\n",
        "regret_gp_13 = np.log(y_global_orig - gp_output_13)\n",
        "regret_stp_13 = np.log(y_global_orig - stp_output_13)\n",
        "\n",
        "simple_regret_gp_13 = min_max_array(regret_gp_13)\n",
        "simple_regret_stp_13 = min_max_array(regret_stp_13)\n",
        "\n",
        "min_simple_regret_gp_13 = min(simple_regret_gp_13)\n",
        "min_simple_regret_stp_13 = min(simple_regret_stp_13)\n",
        "\n",
        "min_simple_regret_gp_13, min_simple_regret_stp_13\n"
      ]
    },
    {
      "cell_type": "code",
      "execution_count": 65,
      "metadata": {
        "id": "OsCDbV_CJLlR",
        "colab": {
          "base_uri": "https://localhost:8080/"
        },
        "outputId": "19892f0d-15f4-424e-da5e-ed866f2f67f4"
      },
      "outputs": [
        {
          "output_type": "execute_result",
          "data": {
            "text/plain": [
              "(0.8579015050833391, -0.27552632452668885)"
            ]
          },
          "metadata": {},
          "execution_count": 65
        }
      ],
      "source": [
        "### Simple regret minimisation: run number = 14\n",
        "\n",
        "gp_output_14 = np.append(np.max(gp_14.GP.y[0:n_init]),gp_14.GP.y[n_init:(n_init+max_iter)]) \n",
        "stp_output_14 = np.append(np.max(stp_14.GP.y[0:n_init]),stp_14.GP.y[n_init:(n_init+max_iter)]) \n",
        "\n",
        "regret_gp_14 = np.log(y_global_orig - gp_output_14)\n",
        "regret_stp_14 = np.log(y_global_orig - stp_output_14)\n",
        "\n",
        "simple_regret_gp_14 = min_max_array(regret_gp_14)\n",
        "simple_regret_stp_14 = min_max_array(regret_stp_14)\n",
        "\n",
        "min_simple_regret_gp_14 = min(simple_regret_gp_14)\n",
        "min_simple_regret_stp_14 = min(simple_regret_stp_14)\n",
        "\n",
        "min_simple_regret_gp_14, min_simple_regret_stp_14\n"
      ]
    },
    {
      "cell_type": "code",
      "execution_count": 66,
      "metadata": {
        "id": "HVNGSKzNJLlR",
        "colab": {
          "base_uri": "https://localhost:8080/"
        },
        "outputId": "1d1d6b48-c5ab-4985-b4aa-d6735728d89b"
      },
      "outputs": [
        {
          "output_type": "execute_result",
          "data": {
            "text/plain": [
              "(1.3186074160403272, 0.6609965805413534)"
            ]
          },
          "metadata": {},
          "execution_count": 66
        }
      ],
      "source": [
        "### Simple regret minimisation: run number = 15\n",
        "\n",
        "gp_output_15 = np.append(np.max(gp_15.GP.y[0:n_init]),gp_15.GP.y[n_init:(n_init+max_iter)]) \n",
        "stp_output_15 = np.append(np.max(stp_15.GP.y[0:n_init]),stp_15.GP.y[n_init:(n_init+max_iter)]) \n",
        "\n",
        "regret_gp_15 = np.log(y_global_orig - gp_output_15)\n",
        "regret_stp_15 = np.log(y_global_orig - stp_output_15)\n",
        "\n",
        "simple_regret_gp_15 = min_max_array(regret_gp_15)\n",
        "simple_regret_stp_15 = min_max_array(regret_stp_15)\n",
        "\n",
        "min_simple_regret_gp_15 = min(simple_regret_gp_15)\n",
        "min_simple_regret_stp_15 = min(simple_regret_stp_15)\n",
        "\n",
        "min_simple_regret_gp_15, min_simple_regret_stp_15\n"
      ]
    },
    {
      "cell_type": "code",
      "execution_count": 67,
      "metadata": {
        "id": "vFT0-DcpJLlS",
        "colab": {
          "base_uri": "https://localhost:8080/"
        },
        "outputId": "5df609e9-02a3-4ef8-fdbb-3a10e84884b6"
      },
      "outputs": [
        {
          "output_type": "execute_result",
          "data": {
            "text/plain": [
              "(1.4702369332426803, 1.4670225501386023)"
            ]
          },
          "metadata": {},
          "execution_count": 67
        }
      ],
      "source": [
        "### Simple regret minimisation: run number = 16\n",
        "\n",
        "gp_output_16 = np.append(np.max(gp_16.GP.y[0:n_init]),gp_16.GP.y[n_init:(n_init+max_iter)]) \n",
        "stp_output_16 = np.append(np.max(stp_16.GP.y[0:n_init]),stp_16.GP.y[n_init:(n_init+max_iter)]) \n",
        "\n",
        "regret_gp_16 = np.log(y_global_orig - gp_output_16)\n",
        "regret_stp_16 = np.log(y_global_orig - stp_output_16)\n",
        "\n",
        "simple_regret_gp_16 = min_max_array(regret_gp_16)\n",
        "simple_regret_stp_16 = min_max_array(regret_stp_16)\n",
        "\n",
        "min_simple_regret_gp_16 = min(simple_regret_gp_16)\n",
        "min_simple_regret_stp_16 = min(simple_regret_stp_16)\n",
        "\n",
        "min_simple_regret_gp_16, min_simple_regret_stp_16\n"
      ]
    },
    {
      "cell_type": "code",
      "execution_count": 68,
      "metadata": {
        "id": "TPbl73U3JLlS",
        "colab": {
          "base_uri": "https://localhost:8080/"
        },
        "outputId": "be95c50e-c096-43a2-e026-0e17e9f59688"
      },
      "outputs": [
        {
          "output_type": "execute_result",
          "data": {
            "text/plain": [
              "(-1.6269516377010977, -1.6269516377010977)"
            ]
          },
          "metadata": {},
          "execution_count": 68
        }
      ],
      "source": [
        "### Simple regret minimisation: run number = 17\n",
        "\n",
        "gp_output_17 = np.append(np.max(gp_17.GP.y[0:n_init]),gp_17.GP.y[n_init:(n_init+max_iter)]) \n",
        "stp_output_17 = np.append(np.max(stp_17.GP.y[0:n_init]),stp_17.GP.y[n_init:(n_init+max_iter)]) \n",
        "\n",
        "regret_gp_17 = np.log(y_global_orig - gp_output_17)\n",
        "regret_stp_17 = np.log(y_global_orig - stp_output_17)\n",
        "\n",
        "simple_regret_gp_17 = min_max_array(regret_gp_17)\n",
        "simple_regret_stp_17 = min_max_array(regret_stp_17)\n",
        "\n",
        "min_simple_regret_gp_17 = min(simple_regret_gp_17)\n",
        "min_simple_regret_stp_17 = min(simple_regret_stp_17)\n",
        "\n",
        "min_simple_regret_gp_17, min_simple_regret_stp_17\n"
      ]
    },
    {
      "cell_type": "code",
      "execution_count": 69,
      "metadata": {
        "id": "ANjpLP7uJLlT",
        "colab": {
          "base_uri": "https://localhost:8080/"
        },
        "outputId": "c01e8f93-6da0-4b0c-aba2-beeaec3e1da0"
      },
      "outputs": [
        {
          "output_type": "execute_result",
          "data": {
            "text/plain": [
              "(2.556839662616882, 0.37118520786564985)"
            ]
          },
          "metadata": {},
          "execution_count": 69
        }
      ],
      "source": [
        "### Simple regret minimisation: run number = 18\n",
        "\n",
        "gp_output_18 = np.append(np.max(gp_18.GP.y[0:n_init]),gp_18.GP.y[n_init:(n_init+max_iter)]) \n",
        "stp_output_18 = np.append(np.max(stp_18.GP.y[0:n_init]),stp_18.GP.y[n_init:(n_init+max_iter)]) \n",
        "\n",
        "regret_gp_18 = np.log(y_global_orig - gp_output_18)\n",
        "regret_stp_18 = np.log(y_global_orig - stp_output_18)\n",
        "\n",
        "simple_regret_gp_18 = min_max_array(regret_gp_18)\n",
        "simple_regret_stp_18 = min_max_array(regret_stp_18)\n",
        "\n",
        "min_simple_regret_gp_18 = min(simple_regret_gp_18)\n",
        "min_simple_regret_stp_18 = min(simple_regret_stp_18)\n",
        "\n",
        "min_simple_regret_gp_18, min_simple_regret_stp_18\n"
      ]
    },
    {
      "cell_type": "code",
      "execution_count": 70,
      "metadata": {
        "id": "yYy7bHMOJLlT",
        "colab": {
          "base_uri": "https://localhost:8080/"
        },
        "outputId": "0ba45276-3240-4d74-b7ee-02631a07a89f"
      },
      "outputs": [
        {
          "output_type": "execute_result",
          "data": {
            "text/plain": [
              "(3.034975901757044, 0.7341953226349114)"
            ]
          },
          "metadata": {},
          "execution_count": 70
        }
      ],
      "source": [
        "### Simple regret minimisation: run number = 19\n",
        "\n",
        "gp_output_19 = np.append(np.max(gp_19.GP.y[0:n_init]),gp_19.GP.y[n_init:(n_init+max_iter)]) \n",
        "stp_output_19 = np.append(np.max(stp_19.GP.y[0:n_init]),stp_19.GP.y[n_init:(n_init+max_iter)]) \n",
        "\n",
        "regret_gp_19 = np.log(y_global_orig - gp_output_19)\n",
        "regret_stp_19 = np.log(y_global_orig - stp_output_19)\n",
        "\n",
        "simple_regret_gp_19 = min_max_array(regret_gp_19)\n",
        "simple_regret_stp_19 = min_max_array(regret_stp_19)\n",
        "\n",
        "min_simple_regret_gp_19 = min(simple_regret_gp_19)\n",
        "min_simple_regret_stp_19 = min(simple_regret_stp_19)\n",
        "\n",
        "min_simple_regret_gp_19, min_simple_regret_stp_19\n"
      ]
    },
    {
      "cell_type": "code",
      "execution_count": 71,
      "metadata": {
        "id": "7h8DTQ7MJLlU",
        "colab": {
          "base_uri": "https://localhost:8080/"
        },
        "outputId": "69094092-50f2-4bb2-a162-d3875d3baed0"
      },
      "outputs": [
        {
          "output_type": "execute_result",
          "data": {
            "text/plain": [
              "(1.4230270424994078, 0.02867775849100804)"
            ]
          },
          "metadata": {},
          "execution_count": 71
        }
      ],
      "source": [
        "### Simple regret minimisation: run number = 20\n",
        "\n",
        "gp_output_20 = np.append(np.max(gp_20.GP.y[0:n_init]),gp_20.GP.y[n_init:(n_init+max_iter)]) \n",
        "stp_output_20 = np.append(np.max(stp_20.GP.y[0:n_init]),stp_20.GP.y[n_init:(n_init+max_iter)]) \n",
        "\n",
        "regret_gp_20 = np.log(y_global_orig - gp_output_20)\n",
        "regret_stp_20 = np.log(y_global_orig - stp_output_20)\n",
        "\n",
        "simple_regret_gp_20 = min_max_array(regret_gp_20)\n",
        "simple_regret_stp_20 = min_max_array(regret_stp_20)\n",
        "\n",
        "min_simple_regret_gp_20 = min(simple_regret_gp_20)\n",
        "min_simple_regret_stp_20 = min(simple_regret_stp_20)\n",
        "\n",
        "min_simple_regret_gp_20, min_simple_regret_stp_20\n"
      ]
    },
    {
      "cell_type": "code",
      "execution_count": 72,
      "metadata": {
        "id": "FuTVzVQkJLlU"
      },
      "outputs": [],
      "source": [
        "# Iteration1 :\n",
        "\n",
        "slice1 = 0\n",
        "\n",
        "gp1 = [simple_regret_gp_1[slice1],\n",
        "       simple_regret_gp_2[slice1],\n",
        "       simple_regret_gp_3[slice1],\n",
        "       simple_regret_gp_4[slice1],\n",
        "       simple_regret_gp_5[slice1],\n",
        "       simple_regret_gp_6[slice1],\n",
        "       simple_regret_gp_7[slice1],\n",
        "       simple_regret_gp_8[slice1],\n",
        "       simple_regret_gp_9[slice1],\n",
        "       simple_regret_gp_10[slice1],\n",
        "       simple_regret_gp_11[slice1],\n",
        "       simple_regret_gp_12[slice1],\n",
        "       simple_regret_gp_13[slice1],\n",
        "       simple_regret_gp_14[slice1],\n",
        "       simple_regret_gp_15[slice1],\n",
        "       simple_regret_gp_16[slice1],\n",
        "       simple_regret_gp_17[slice1],\n",
        "       simple_regret_gp_18[slice1],\n",
        "       simple_regret_gp_19[slice1],\n",
        "       simple_regret_gp_20[slice1]]\n",
        "\n",
        "stp1 = [simple_regret_stp_1[slice1],\n",
        "       simple_regret_stp_2[slice1],\n",
        "       simple_regret_stp_3[slice1],\n",
        "       simple_regret_stp_4[slice1],\n",
        "       simple_regret_stp_5[slice1],\n",
        "       simple_regret_stp_6[slice1],\n",
        "       simple_regret_stp_7[slice1],\n",
        "       simple_regret_stp_8[slice1],\n",
        "       simple_regret_stp_9[slice1],\n",
        "       simple_regret_stp_10[slice1],\n",
        "       simple_regret_stp_11[slice1],\n",
        "       simple_regret_stp_12[slice1],\n",
        "       simple_regret_stp_13[slice1],\n",
        "       simple_regret_stp_14[slice1],\n",
        "       simple_regret_stp_15[slice1],\n",
        "       simple_regret_stp_16[slice1],\n",
        "       simple_regret_stp_17[slice1],\n",
        "       simple_regret_stp_18[slice1],\n",
        "       simple_regret_stp_19[slice1],\n",
        "       simple_regret_stp_20[slice1]]\n",
        "\n",
        "gp1_results = pd.DataFrame(gp1).sort_values(by=[0], ascending=False)\n",
        "stp1_results = pd.DataFrame(stp1).sort_values(by=[0], ascending=False)\n",
        "\n",
        "### Best training regret minimization IQR - gp:\n",
        "lower_gp1 = np.asarray(gp1_results[4:5][0])[0]\n",
        "median_gp1 = np.asarray(gp1_results[9:10][0])[0]\n",
        "upper_gp1 = np.asarray(gp1_results[14:15][0])[0]\n",
        "\n",
        "lower_stp1 = np.asarray(stp1_results[4:5][0])[0]\n",
        "median_stp1 = np.asarray(stp1_results[9:10][0])[0]\n",
        "upper_stp1 = np.asarray(stp1_results[14:15][0])[0]\n"
      ]
    },
    {
      "cell_type": "code",
      "execution_count": 73,
      "metadata": {
        "id": "OCTtqlBHJLlV"
      },
      "outputs": [],
      "source": [
        "# Iteration11 :\n",
        "\n",
        "slice11 = 10\n",
        "\n",
        "gp11 = [simple_regret_gp_1[slice11],\n",
        "       simple_regret_gp_2[slice11],\n",
        "       simple_regret_gp_3[slice11],\n",
        "       simple_regret_gp_4[slice11],\n",
        "       simple_regret_gp_5[slice11],\n",
        "       simple_regret_gp_6[slice11],\n",
        "       simple_regret_gp_7[slice11],\n",
        "       simple_regret_gp_8[slice11],\n",
        "       simple_regret_gp_9[slice11],\n",
        "       simple_regret_gp_10[slice11],\n",
        "       simple_regret_gp_11[slice11],\n",
        "       simple_regret_gp_12[slice11],\n",
        "       simple_regret_gp_13[slice11],\n",
        "       simple_regret_gp_14[slice11],\n",
        "       simple_regret_gp_15[slice11],\n",
        "       simple_regret_gp_16[slice11],\n",
        "       simple_regret_gp_17[slice11],\n",
        "       simple_regret_gp_18[slice11],\n",
        "       simple_regret_gp_19[slice11],\n",
        "       simple_regret_gp_20[slice11]]\n",
        "\n",
        "stp11 = [simple_regret_stp_1[slice11],\n",
        "       simple_regret_stp_2[slice11],\n",
        "       simple_regret_stp_3[slice11],\n",
        "       simple_regret_stp_4[slice11],\n",
        "       simple_regret_stp_5[slice11],\n",
        "       simple_regret_stp_6[slice11],\n",
        "       simple_regret_stp_7[slice11],\n",
        "       simple_regret_stp_8[slice11],\n",
        "       simple_regret_stp_9[slice11],\n",
        "       simple_regret_stp_10[slice11],\n",
        "       simple_regret_stp_11[slice11],\n",
        "       simple_regret_stp_12[slice11],\n",
        "       simple_regret_stp_13[slice11],\n",
        "       simple_regret_stp_14[slice11],\n",
        "       simple_regret_stp_15[slice11],\n",
        "       simple_regret_stp_16[slice11],\n",
        "       simple_regret_stp_17[slice11],\n",
        "       simple_regret_stp_18[slice11],\n",
        "       simple_regret_stp_19[slice11],\n",
        "       simple_regret_stp_20[slice11]]\n",
        "\n",
        "gp11_results = pd.DataFrame(gp11).sort_values(by=[0], ascending=False)\n",
        "stp11_results = pd.DataFrame(stp11).sort_values(by=[0], ascending=False)\n",
        "\n",
        "### Best training regret minimization IQR - gp:\n",
        "lower_gp11 = np.asarray(gp11_results[4:5][0])[0]\n",
        "median_gp11 = np.asarray(gp11_results[9:10][0])[0]\n",
        "upper_gp11 = np.asarray(gp11_results[14:15][0])[0]\n",
        "\n",
        "lower_stp11 = np.asarray(stp11_results[4:5][0])[0]\n",
        "median_stp11 = np.asarray(stp11_results[9:10][0])[0]\n",
        "upper_stp11 = np.asarray(stp11_results[14:15][0])[0]\n"
      ]
    },
    {
      "cell_type": "code",
      "execution_count": 74,
      "metadata": {
        "id": "OhneK6K5JLlV"
      },
      "outputs": [],
      "source": [
        "# Iteration21 :\n",
        "\n",
        "slice21 = 20\n",
        "\n",
        "gp21 = [simple_regret_gp_1[slice21],\n",
        "       simple_regret_gp_2[slice21],\n",
        "       simple_regret_gp_3[slice21],\n",
        "       simple_regret_gp_4[slice21],\n",
        "       simple_regret_gp_5[slice21],\n",
        "       simple_regret_gp_6[slice21],\n",
        "       simple_regret_gp_7[slice21],\n",
        "       simple_regret_gp_8[slice21],\n",
        "       simple_regret_gp_9[slice21],\n",
        "       simple_regret_gp_10[slice21],\n",
        "       simple_regret_gp_11[slice21],\n",
        "       simple_regret_gp_12[slice21],\n",
        "       simple_regret_gp_13[slice21],\n",
        "       simple_regret_gp_14[slice21],\n",
        "       simple_regret_gp_15[slice21],\n",
        "       simple_regret_gp_16[slice21],\n",
        "       simple_regret_gp_17[slice21],\n",
        "       simple_regret_gp_18[slice21],\n",
        "       simple_regret_gp_19[slice21],\n",
        "       simple_regret_gp_20[slice21]]\n",
        "\n",
        "stp21 = [simple_regret_stp_1[slice21],\n",
        "       simple_regret_stp_2[slice21],\n",
        "       simple_regret_stp_3[slice21],\n",
        "       simple_regret_stp_4[slice21],\n",
        "       simple_regret_stp_5[slice21],\n",
        "       simple_regret_stp_6[slice21],\n",
        "       simple_regret_stp_7[slice21],\n",
        "       simple_regret_stp_8[slice21],\n",
        "       simple_regret_stp_9[slice21],\n",
        "       simple_regret_stp_10[slice21],\n",
        "       simple_regret_stp_11[slice21],\n",
        "       simple_regret_stp_12[slice21],\n",
        "       simple_regret_stp_13[slice21],\n",
        "       simple_regret_stp_14[slice21],\n",
        "       simple_regret_stp_15[slice21],\n",
        "       simple_regret_stp_16[slice21],\n",
        "       simple_regret_stp_17[slice21],\n",
        "       simple_regret_stp_18[slice21],\n",
        "       simple_regret_stp_19[slice21],\n",
        "       simple_regret_stp_20[slice21]]\n",
        "\n",
        "gp21_results = pd.DataFrame(gp21).sort_values(by=[0], ascending=False)\n",
        "stp21_results = pd.DataFrame(stp21).sort_values(by=[0], ascending=False)\n",
        "\n",
        "### Best training regret minimization IQR - gp:\n",
        "lower_gp21 = np.asarray(gp21_results[4:5][0])[0]\n",
        "median_gp21 = np.asarray(gp21_results[9:10][0])[0]\n",
        "upper_gp21 = np.asarray(gp21_results[14:15][0])[0]\n",
        "\n",
        "lower_stp21 = np.asarray(stp21_results[4:5][0])[0]\n",
        "median_stp21 = np.asarray(stp21_results[9:10][0])[0]\n",
        "upper_stp21 = np.asarray(stp21_results[14:15][0])[0]\n"
      ]
    },
    {
      "cell_type": "code",
      "execution_count": 75,
      "metadata": {
        "id": "wetKUCmLJLlb"
      },
      "outputs": [],
      "source": [
        "# Iteration2 :\n",
        "\n",
        "slice2 = 1\n",
        "\n",
        "gp2 = [simple_regret_gp_1[slice2],\n",
        "       simple_regret_gp_2[slice2],\n",
        "       simple_regret_gp_3[slice2],\n",
        "       simple_regret_gp_4[slice2],\n",
        "       simple_regret_gp_5[slice2],\n",
        "       simple_regret_gp_6[slice2],\n",
        "       simple_regret_gp_7[slice2],\n",
        "       simple_regret_gp_8[slice2],\n",
        "       simple_regret_gp_9[slice2],\n",
        "       simple_regret_gp_10[slice2],\n",
        "       simple_regret_gp_11[slice2],\n",
        "       simple_regret_gp_12[slice2],\n",
        "       simple_regret_gp_13[slice2],\n",
        "       simple_regret_gp_14[slice2],\n",
        "       simple_regret_gp_15[slice2],\n",
        "       simple_regret_gp_16[slice2],\n",
        "       simple_regret_gp_17[slice2],\n",
        "       simple_regret_gp_18[slice2],\n",
        "       simple_regret_gp_19[slice2],\n",
        "       simple_regret_gp_20[slice2]]\n",
        "\n",
        "stp2 = [simple_regret_stp_1[slice2],\n",
        "       simple_regret_stp_2[slice2],\n",
        "       simple_regret_stp_3[slice2],\n",
        "       simple_regret_stp_4[slice2],\n",
        "       simple_regret_stp_5[slice2],\n",
        "       simple_regret_stp_6[slice2],\n",
        "       simple_regret_stp_7[slice2],\n",
        "       simple_regret_stp_8[slice2],\n",
        "       simple_regret_stp_9[slice2],\n",
        "       simple_regret_stp_10[slice2],\n",
        "       simple_regret_stp_11[slice2],\n",
        "       simple_regret_stp_12[slice2],\n",
        "       simple_regret_stp_13[slice2],\n",
        "       simple_regret_stp_14[slice2],\n",
        "       simple_regret_stp_15[slice2],\n",
        "       simple_regret_stp_16[slice2],\n",
        "       simple_regret_stp_17[slice2],\n",
        "       simple_regret_stp_18[slice2],\n",
        "       simple_regret_stp_19[slice2],\n",
        "       simple_regret_stp_20[slice2]]\n",
        "\n",
        "gp2_results = pd.DataFrame(gp2).sort_values(by=[0], ascending=False)\n",
        "stp2_results = pd.DataFrame(stp2).sort_values(by=[0], ascending=False)\n",
        "\n",
        "### Best training regret minimization IQR - gp:\n",
        "lower_gp2 = np.asarray(gp2_results[4:5][0])[0]\n",
        "median_gp2 = np.asarray(gp2_results[9:10][0])[0]\n",
        "upper_gp2 = np.asarray(gp2_results[14:15][0])[0]\n",
        "\n",
        "lower_stp2 = np.asarray(stp2_results[4:5][0])[0]\n",
        "median_stp2 = np.asarray(stp2_results[9:10][0])[0]\n",
        "upper_stp2 = np.asarray(stp2_results[14:15][0])[0]\n"
      ]
    },
    {
      "cell_type": "code",
      "execution_count": 76,
      "metadata": {
        "id": "8dIyaTLKJLlc"
      },
      "outputs": [],
      "source": [
        "# Iteration12 :\n",
        "\n",
        "slice12 = 11\n",
        "\n",
        "gp12 = [simple_regret_gp_1[slice12],\n",
        "       simple_regret_gp_2[slice12],\n",
        "       simple_regret_gp_3[slice12],\n",
        "       simple_regret_gp_4[slice12],\n",
        "       simple_regret_gp_5[slice12],\n",
        "       simple_regret_gp_6[slice12],\n",
        "       simple_regret_gp_7[slice12],\n",
        "       simple_regret_gp_8[slice12],\n",
        "       simple_regret_gp_9[slice12],\n",
        "       simple_regret_gp_10[slice12],\n",
        "       simple_regret_gp_11[slice12],\n",
        "       simple_regret_gp_12[slice12],\n",
        "       simple_regret_gp_13[slice12],\n",
        "       simple_regret_gp_14[slice12],\n",
        "       simple_regret_gp_15[slice12],\n",
        "       simple_regret_gp_16[slice12],\n",
        "       simple_regret_gp_17[slice12],\n",
        "       simple_regret_gp_18[slice12],\n",
        "       simple_regret_gp_19[slice12],\n",
        "       simple_regret_gp_20[slice12]]\n",
        "\n",
        "stp12 = [simple_regret_stp_1[slice12],\n",
        "       simple_regret_stp_2[slice12],\n",
        "       simple_regret_stp_3[slice12],\n",
        "       simple_regret_stp_4[slice12],\n",
        "       simple_regret_stp_5[slice12],\n",
        "       simple_regret_stp_6[slice12],\n",
        "       simple_regret_stp_7[slice12],\n",
        "       simple_regret_stp_8[slice12],\n",
        "       simple_regret_stp_9[slice12],\n",
        "       simple_regret_stp_10[slice12],\n",
        "       simple_regret_stp_11[slice12],\n",
        "       simple_regret_stp_12[slice12],\n",
        "       simple_regret_stp_13[slice12],\n",
        "       simple_regret_stp_14[slice12],\n",
        "       simple_regret_stp_15[slice12],\n",
        "       simple_regret_stp_16[slice12],\n",
        "       simple_regret_stp_17[slice12],\n",
        "       simple_regret_stp_18[slice12],\n",
        "       simple_regret_stp_19[slice12],\n",
        "       simple_regret_stp_20[slice12]]\n",
        "\n",
        "gp12_results = pd.DataFrame(gp12).sort_values(by=[0], ascending=False)\n",
        "stp12_results = pd.DataFrame(stp12).sort_values(by=[0], ascending=False)\n",
        "\n",
        "### Best training regret minimization IQR - gp:\n",
        "lower_gp12 = np.asarray(gp12_results[4:5][0])[0]\n",
        "median_gp12 = np.asarray(gp12_results[9:10][0])[0]\n",
        "upper_gp12 = np.asarray(gp12_results[14:15][0])[0]\n",
        "\n",
        "lower_stp12 = np.asarray(stp12_results[4:5][0])[0]\n",
        "median_stp12 = np.asarray(stp12_results[9:10][0])[0]\n",
        "upper_stp12 = np.asarray(stp12_results[14:15][0])[0]\n"
      ]
    },
    {
      "cell_type": "code",
      "execution_count": 77,
      "metadata": {
        "id": "1_6u8LF1JLlt"
      },
      "outputs": [],
      "source": [
        "# Iteration3 :\n",
        "\n",
        "slice3 = 2\n",
        "\n",
        "gp3 = [simple_regret_gp_1[slice3],\n",
        "       simple_regret_gp_2[slice3],\n",
        "       simple_regret_gp_3[slice3],\n",
        "       simple_regret_gp_4[slice3],\n",
        "       simple_regret_gp_5[slice3],\n",
        "       simple_regret_gp_6[slice3],\n",
        "       simple_regret_gp_7[slice3],\n",
        "       simple_regret_gp_8[slice3],\n",
        "       simple_regret_gp_9[slice3],\n",
        "       simple_regret_gp_10[slice3],\n",
        "       simple_regret_gp_11[slice3],\n",
        "       simple_regret_gp_12[slice3],\n",
        "       simple_regret_gp_13[slice3],\n",
        "       simple_regret_gp_14[slice3],\n",
        "       simple_regret_gp_15[slice3],\n",
        "       simple_regret_gp_16[slice3],\n",
        "       simple_regret_gp_17[slice3],\n",
        "       simple_regret_gp_18[slice3],\n",
        "       simple_regret_gp_19[slice3],\n",
        "       simple_regret_gp_20[slice3]]\n",
        "\n",
        "stp3 = [simple_regret_stp_1[slice3],\n",
        "       simple_regret_stp_2[slice3],\n",
        "       simple_regret_stp_3[slice3],\n",
        "       simple_regret_stp_4[slice3],\n",
        "       simple_regret_stp_5[slice3],\n",
        "       simple_regret_stp_6[slice3],\n",
        "       simple_regret_stp_7[slice3],\n",
        "       simple_regret_stp_8[slice3],\n",
        "       simple_regret_stp_9[slice3],\n",
        "       simple_regret_stp_10[slice3],\n",
        "       simple_regret_stp_11[slice3],\n",
        "       simple_regret_stp_12[slice3],\n",
        "       simple_regret_stp_13[slice3],\n",
        "       simple_regret_stp_14[slice3],\n",
        "       simple_regret_stp_15[slice3],\n",
        "       simple_regret_stp_16[slice3],\n",
        "       simple_regret_stp_17[slice3],\n",
        "       simple_regret_stp_18[slice3],\n",
        "       simple_regret_stp_19[slice3],\n",
        "       simple_regret_stp_20[slice3]]\n",
        "\n",
        "gp3_results = pd.DataFrame(gp3).sort_values(by=[0], ascending=False)\n",
        "stp3_results = pd.DataFrame(stp3).sort_values(by=[0], ascending=False)\n",
        "\n",
        "### Best training regret minimization IQR - gp:\n",
        "lower_gp3 = np.asarray(gp3_results[4:5][0])[0]\n",
        "median_gp3 = np.asarray(gp3_results[9:10][0])[0]\n",
        "upper_gp3 = np.asarray(gp3_results[14:15][0])[0]\n",
        "\n",
        "lower_stp3 = np.asarray(stp3_results[4:5][0])[0]\n",
        "median_stp3 = np.asarray(stp3_results[9:10][0])[0]\n",
        "upper_stp3 = np.asarray(stp3_results[14:15][0])[0]\n"
      ]
    },
    {
      "cell_type": "code",
      "execution_count": 78,
      "metadata": {
        "id": "GGEAa73pJLlu"
      },
      "outputs": [],
      "source": [
        "# Iteration13 :\n",
        "\n",
        "slice13 = 12\n",
        "\n",
        "gp13 = [simple_regret_gp_1[slice13],\n",
        "       simple_regret_gp_2[slice13],\n",
        "       simple_regret_gp_3[slice13],\n",
        "       simple_regret_gp_4[slice13],\n",
        "       simple_regret_gp_5[slice13],\n",
        "       simple_regret_gp_6[slice13],\n",
        "       simple_regret_gp_7[slice13],\n",
        "       simple_regret_gp_8[slice13],\n",
        "       simple_regret_gp_9[slice13],\n",
        "       simple_regret_gp_10[slice13],\n",
        "       simple_regret_gp_11[slice13],\n",
        "       simple_regret_gp_12[slice13],\n",
        "       simple_regret_gp_13[slice13],\n",
        "       simple_regret_gp_14[slice13],\n",
        "       simple_regret_gp_15[slice13],\n",
        "       simple_regret_gp_16[slice13],\n",
        "       simple_regret_gp_17[slice13],\n",
        "       simple_regret_gp_18[slice13],\n",
        "       simple_regret_gp_19[slice13],\n",
        "       simple_regret_gp_20[slice13]]\n",
        "\n",
        "stp13 = [simple_regret_stp_1[slice13],\n",
        "       simple_regret_stp_2[slice13],\n",
        "       simple_regret_stp_3[slice13],\n",
        "       simple_regret_stp_4[slice13],\n",
        "       simple_regret_stp_5[slice13],\n",
        "       simple_regret_stp_6[slice13],\n",
        "       simple_regret_stp_7[slice13],\n",
        "       simple_regret_stp_8[slice13],\n",
        "       simple_regret_stp_9[slice13],\n",
        "       simple_regret_stp_10[slice13],\n",
        "       simple_regret_stp_11[slice13],\n",
        "       simple_regret_stp_12[slice13],\n",
        "       simple_regret_stp_13[slice13],\n",
        "       simple_regret_stp_14[slice13],\n",
        "       simple_regret_stp_15[slice13],\n",
        "       simple_regret_stp_16[slice13],\n",
        "       simple_regret_stp_17[slice13],\n",
        "       simple_regret_stp_18[slice13],\n",
        "       simple_regret_stp_19[slice13],\n",
        "       simple_regret_stp_20[slice13]]\n",
        "\n",
        "gp13_results = pd.DataFrame(gp12).sort_values(by=[0], ascending=False)\n",
        "stp13_results = pd.DataFrame(stp12).sort_values(by=[0], ascending=False)\n",
        "\n",
        "### Best training regret minimization IQR - gp:\n",
        "lower_gp13 = np.asarray(gp13_results[4:5][0])[0]\n",
        "median_gp13 = np.asarray(gp13_results[9:10][0])[0]\n",
        "upper_gp13 = np.asarray(gp13_results[14:15][0])[0]\n",
        "\n",
        "lower_stp13 = np.asarray(stp13_results[4:5][0])[0]\n",
        "median_stp13 = np.asarray(stp13_results[9:10][0])[0]\n",
        "upper_stp13 = np.asarray(stp13_results[14:15][0])[0]\n"
      ]
    },
    {
      "cell_type": "code",
      "execution_count": 79,
      "metadata": {
        "id": "T30xLxygJLl0"
      },
      "outputs": [],
      "source": [
        "# Iteration4 :\n",
        "\n",
        "slice4 = 3\n",
        "\n",
        "gp4 = [simple_regret_gp_1[slice4],\n",
        "       simple_regret_gp_2[slice4],\n",
        "       simple_regret_gp_3[slice4],\n",
        "       simple_regret_gp_4[slice4],\n",
        "       simple_regret_gp_5[slice4],\n",
        "       simple_regret_gp_6[slice4],\n",
        "       simple_regret_gp_7[slice4],\n",
        "       simple_regret_gp_8[slice4],\n",
        "       simple_regret_gp_9[slice4],\n",
        "       simple_regret_gp_10[slice4],\n",
        "       simple_regret_gp_11[slice4],\n",
        "       simple_regret_gp_12[slice4],\n",
        "       simple_regret_gp_13[slice4],\n",
        "       simple_regret_gp_14[slice4],\n",
        "       simple_regret_gp_15[slice4],\n",
        "       simple_regret_gp_16[slice4],\n",
        "       simple_regret_gp_17[slice4],\n",
        "       simple_regret_gp_18[slice4],\n",
        "       simple_regret_gp_19[slice4],\n",
        "       simple_regret_gp_20[slice4]]\n",
        "\n",
        "stp4 = [simple_regret_stp_1[slice4],\n",
        "       simple_regret_stp_2[slice4],\n",
        "       simple_regret_stp_3[slice4],\n",
        "       simple_regret_stp_4[slice4],\n",
        "       simple_regret_stp_5[slice4],\n",
        "       simple_regret_stp_6[slice4],\n",
        "       simple_regret_stp_7[slice4],\n",
        "       simple_regret_stp_8[slice4],\n",
        "       simple_regret_stp_9[slice4],\n",
        "       simple_regret_stp_10[slice4],\n",
        "       simple_regret_stp_11[slice4],\n",
        "       simple_regret_stp_12[slice4],\n",
        "       simple_regret_stp_13[slice4],\n",
        "       simple_regret_stp_14[slice4],\n",
        "       simple_regret_stp_15[slice4],\n",
        "       simple_regret_stp_16[slice4],\n",
        "       simple_regret_stp_17[slice4],\n",
        "       simple_regret_stp_18[slice4],\n",
        "       simple_regret_stp_19[slice4],\n",
        "       simple_regret_stp_20[slice4]]\n",
        "\n",
        "gp4_results = pd.DataFrame(gp4).sort_values(by=[0], ascending=False)\n",
        "stp4_results = pd.DataFrame(stp4).sort_values(by=[0], ascending=False)\n",
        "\n",
        "### Best training regret minimization IQR - gp:\n",
        "lower_gp4 = np.asarray(gp4_results[4:5][0])[0]\n",
        "median_gp4 = np.asarray(gp4_results[9:10][0])[0]\n",
        "upper_gp4 = np.asarray(gp4_results[14:15][0])[0]\n",
        "\n",
        "lower_stp4 = np.asarray(stp4_results[4:5][0])[0]\n",
        "median_stp4 = np.asarray(stp4_results[9:10][0])[0]\n",
        "upper_stp4 = np.asarray(stp4_results[14:15][0])[0]\n"
      ]
    },
    {
      "cell_type": "code",
      "execution_count": 80,
      "metadata": {
        "id": "MQ-jpNrnJLl1"
      },
      "outputs": [],
      "source": [
        "# Iteration14 :\n",
        "\n",
        "slice14 = 13\n",
        "\n",
        "gp14 = [simple_regret_gp_1[slice14],\n",
        "       simple_regret_gp_2[slice14],\n",
        "       simple_regret_gp_3[slice14],\n",
        "       simple_regret_gp_4[slice14],\n",
        "       simple_regret_gp_5[slice14],\n",
        "       simple_regret_gp_6[slice14],\n",
        "       simple_regret_gp_7[slice14],\n",
        "       simple_regret_gp_8[slice14],\n",
        "       simple_regret_gp_9[slice14],\n",
        "       simple_regret_gp_10[slice14],\n",
        "       simple_regret_gp_11[slice14],\n",
        "       simple_regret_gp_12[slice14],\n",
        "       simple_regret_gp_13[slice14],\n",
        "       simple_regret_gp_14[slice14],\n",
        "       simple_regret_gp_15[slice14],\n",
        "       simple_regret_gp_16[slice14],\n",
        "       simple_regret_gp_17[slice14],\n",
        "       simple_regret_gp_18[slice14],\n",
        "       simple_regret_gp_19[slice14],\n",
        "       simple_regret_gp_20[slice14]]\n",
        "\n",
        "stp14 = [simple_regret_stp_1[slice14],\n",
        "       simple_regret_stp_2[slice14],\n",
        "       simple_regret_stp_3[slice14],\n",
        "       simple_regret_stp_4[slice14],\n",
        "       simple_regret_stp_5[slice14],\n",
        "       simple_regret_stp_6[slice14],\n",
        "       simple_regret_stp_7[slice14],\n",
        "       simple_regret_stp_8[slice14],\n",
        "       simple_regret_stp_9[slice14],\n",
        "       simple_regret_stp_10[slice14],\n",
        "       simple_regret_stp_11[slice14],\n",
        "       simple_regret_stp_12[slice14],\n",
        "       simple_regret_stp_13[slice14],\n",
        "       simple_regret_stp_14[slice14],\n",
        "       simple_regret_stp_15[slice14],\n",
        "       simple_regret_stp_16[slice14],\n",
        "       simple_regret_stp_17[slice14],\n",
        "       simple_regret_stp_18[slice14],\n",
        "       simple_regret_stp_19[slice14],\n",
        "       simple_regret_stp_20[slice14]]\n",
        "\n",
        "gp14_results = pd.DataFrame(gp14).sort_values(by=[0], ascending=False)\n",
        "stp14_results = pd.DataFrame(stp14).sort_values(by=[0], ascending=False)\n",
        "\n",
        "### Best training regret minimization IQR - gp:\n",
        "lower_gp14 = np.asarray(gp14_results[4:5][0])[0]\n",
        "median_gp14 = np.asarray(gp14_results[9:10][0])[0]\n",
        "upper_gp14 = np.asarray(gp14_results[14:15][0])[0]\n",
        "\n",
        "lower_stp14 = np.asarray(stp14_results[4:5][0])[0]\n",
        "median_stp14 = np.asarray(stp14_results[9:10][0])[0]\n",
        "upper_stp14 = np.asarray(stp14_results[14:15][0])[0]\n"
      ]
    },
    {
      "cell_type": "code",
      "execution_count": 81,
      "metadata": {
        "id": "Xhy_AN9jJLl9"
      },
      "outputs": [],
      "source": [
        "# Iteration5 :\n",
        "\n",
        "slice5 = 4\n",
        "\n",
        "gp5 = [simple_regret_gp_1[slice5],\n",
        "       simple_regret_gp_2[slice5],\n",
        "       simple_regret_gp_3[slice5],\n",
        "       simple_regret_gp_4[slice5],\n",
        "       simple_regret_gp_5[slice5],\n",
        "       simple_regret_gp_6[slice5],\n",
        "       simple_regret_gp_7[slice5],\n",
        "       simple_regret_gp_8[slice5],\n",
        "       simple_regret_gp_9[slice5],\n",
        "       simple_regret_gp_10[slice5],\n",
        "       simple_regret_gp_11[slice5],\n",
        "       simple_regret_gp_12[slice5],\n",
        "       simple_regret_gp_13[slice5],\n",
        "       simple_regret_gp_14[slice5],\n",
        "       simple_regret_gp_15[slice5],\n",
        "       simple_regret_gp_16[slice5],\n",
        "       simple_regret_gp_17[slice5],\n",
        "       simple_regret_gp_18[slice5],\n",
        "       simple_regret_gp_19[slice5],\n",
        "       simple_regret_gp_20[slice5]]\n",
        "\n",
        "stp5 = [simple_regret_stp_1[slice5],\n",
        "       simple_regret_stp_2[slice5],\n",
        "       simple_regret_stp_3[slice5],\n",
        "       simple_regret_stp_4[slice5],\n",
        "       simple_regret_stp_5[slice5],\n",
        "       simple_regret_stp_6[slice5],\n",
        "       simple_regret_stp_7[slice5],\n",
        "       simple_regret_stp_8[slice5],\n",
        "       simple_regret_stp_9[slice5],\n",
        "       simple_regret_stp_10[slice5],\n",
        "       simple_regret_stp_11[slice5],\n",
        "       simple_regret_stp_12[slice5],\n",
        "       simple_regret_stp_13[slice5],\n",
        "       simple_regret_stp_14[slice5],\n",
        "       simple_regret_stp_15[slice5],\n",
        "       simple_regret_stp_16[slice5],\n",
        "       simple_regret_stp_17[slice5],\n",
        "       simple_regret_stp_18[slice5],\n",
        "       simple_regret_stp_19[slice5],\n",
        "       simple_regret_stp_20[slice5]]\n",
        "\n",
        "gp5_results = pd.DataFrame(gp5).sort_values(by=[0], ascending=False)\n",
        "stp5_results = pd.DataFrame(stp5).sort_values(by=[0], ascending=False)\n",
        "\n",
        "### Best training regret minimization IQR - gp:\n",
        "lower_gp5 = np.asarray(gp5_results[4:5][0])[0]\n",
        "median_gp5 = np.asarray(gp5_results[9:10][0])[0]\n",
        "upper_gp5 = np.asarray(gp5_results[14:15][0])[0]\n",
        "\n",
        "lower_stp5 = np.asarray(stp5_results[4:5][0])[0]\n",
        "median_stp5 = np.asarray(stp5_results[9:10][0])[0]\n",
        "upper_stp5 = np.asarray(stp5_results[14:15][0])[0]\n"
      ]
    },
    {
      "cell_type": "code",
      "execution_count": 82,
      "metadata": {
        "id": "WHbtLHnbJLl-"
      },
      "outputs": [],
      "source": [
        "# Iteration15 :\n",
        "\n",
        "slice15 = 14\n",
        "\n",
        "gp15 = [simple_regret_gp_1[slice15],\n",
        "       simple_regret_gp_2[slice15],\n",
        "       simple_regret_gp_3[slice15],\n",
        "       simple_regret_gp_4[slice15],\n",
        "       simple_regret_gp_5[slice15],\n",
        "       simple_regret_gp_6[slice15],\n",
        "       simple_regret_gp_7[slice15],\n",
        "       simple_regret_gp_8[slice15],\n",
        "       simple_regret_gp_9[slice15],\n",
        "       simple_regret_gp_10[slice15],\n",
        "       simple_regret_gp_11[slice15],\n",
        "       simple_regret_gp_12[slice15],\n",
        "       simple_regret_gp_13[slice15],\n",
        "       simple_regret_gp_14[slice15],\n",
        "       simple_regret_gp_15[slice15],\n",
        "       simple_regret_gp_16[slice15],\n",
        "       simple_regret_gp_17[slice15],\n",
        "       simple_regret_gp_18[slice15],\n",
        "       simple_regret_gp_19[slice15],\n",
        "       simple_regret_gp_20[slice15]]\n",
        "\n",
        "stp15 = [simple_regret_stp_1[slice15],\n",
        "       simple_regret_stp_2[slice15],\n",
        "       simple_regret_stp_3[slice15],\n",
        "       simple_regret_stp_4[slice15],\n",
        "       simple_regret_stp_5[slice15],\n",
        "       simple_regret_stp_6[slice15],\n",
        "       simple_regret_stp_7[slice15],\n",
        "       simple_regret_stp_8[slice15],\n",
        "       simple_regret_stp_9[slice15],\n",
        "       simple_regret_stp_10[slice15],\n",
        "       simple_regret_stp_11[slice15],\n",
        "       simple_regret_stp_12[slice15],\n",
        "       simple_regret_stp_13[slice15],\n",
        "       simple_regret_stp_14[slice15],\n",
        "       simple_regret_stp_15[slice15],\n",
        "       simple_regret_stp_16[slice15],\n",
        "       simple_regret_stp_17[slice15],\n",
        "       simple_regret_stp_18[slice15],\n",
        "       simple_regret_stp_19[slice15],\n",
        "       simple_regret_stp_20[slice15]]\n",
        "\n",
        "gp15_results = pd.DataFrame(gp15).sort_values(by=[0], ascending=False)\n",
        "stp15_results = pd.DataFrame(stp15).sort_values(by=[0], ascending=False)\n",
        "\n",
        "### Best training regret minimization IQR - gp:\n",
        "lower_gp15 = np.asarray(gp15_results[4:5][0])[0]\n",
        "median_gp15 = np.asarray(gp15_results[9:10][0])[0]\n",
        "upper_gp15 = np.asarray(gp15_results[14:15][0])[0]\n",
        "\n",
        "lower_stp15 = np.asarray(stp15_results[4:5][0])[0]\n",
        "median_stp15 = np.asarray(stp15_results[9:10][0])[0]\n",
        "upper_stp15 = np.asarray(stp15_results[14:15][0])[0]\n"
      ]
    },
    {
      "cell_type": "code",
      "execution_count": 83,
      "metadata": {
        "id": "XqsNyHzqJLmC"
      },
      "outputs": [],
      "source": [
        "# Iteration6 :\n",
        "\n",
        "slice6 = 5\n",
        "\n",
        "gp6 = [simple_regret_gp_1[slice6],\n",
        "       simple_regret_gp_2[slice6],\n",
        "       simple_regret_gp_3[slice6],\n",
        "       simple_regret_gp_4[slice6],\n",
        "       simple_regret_gp_5[slice6],\n",
        "       simple_regret_gp_6[slice6],\n",
        "       simple_regret_gp_7[slice6],\n",
        "       simple_regret_gp_8[slice6],\n",
        "       simple_regret_gp_9[slice6],\n",
        "       simple_regret_gp_10[slice6],\n",
        "       simple_regret_gp_11[slice6],\n",
        "       simple_regret_gp_12[slice6],\n",
        "       simple_regret_gp_13[slice6],\n",
        "       simple_regret_gp_14[slice6],\n",
        "       simple_regret_gp_15[slice6],\n",
        "       simple_regret_gp_16[slice6],\n",
        "       simple_regret_gp_17[slice6],\n",
        "       simple_regret_gp_18[slice6],\n",
        "       simple_regret_gp_19[slice6],\n",
        "       simple_regret_gp_20[slice6]]\n",
        "\n",
        "stp6 = [simple_regret_stp_1[slice6],\n",
        "       simple_regret_stp_2[slice6],\n",
        "       simple_regret_stp_3[slice6],\n",
        "       simple_regret_stp_4[slice6],\n",
        "       simple_regret_stp_5[slice6],\n",
        "       simple_regret_stp_6[slice6],\n",
        "       simple_regret_stp_7[slice6],\n",
        "       simple_regret_stp_8[slice6],\n",
        "       simple_regret_stp_9[slice6],\n",
        "       simple_regret_stp_10[slice6],\n",
        "       simple_regret_stp_11[slice6],\n",
        "       simple_regret_stp_12[slice6],\n",
        "       simple_regret_stp_13[slice6],\n",
        "       simple_regret_stp_14[slice6],\n",
        "       simple_regret_stp_15[slice6],\n",
        "       simple_regret_stp_16[slice6],\n",
        "       simple_regret_stp_17[slice6],\n",
        "       simple_regret_stp_18[slice6],\n",
        "       simple_regret_stp_19[slice6],\n",
        "       simple_regret_stp_20[slice6]]\n",
        "\n",
        "gp6_results = pd.DataFrame(gp6).sort_values(by=[0], ascending=False)\n",
        "stp6_results = pd.DataFrame(stp6).sort_values(by=[0], ascending=False)\n",
        "\n",
        "### Best training regret minimization IQR - gp:\n",
        "lower_gp6 = np.asarray(gp6_results[4:5][0])[0]\n",
        "median_gp6 = np.asarray(gp6_results[9:10][0])[0]\n",
        "upper_gp6 = np.asarray(gp6_results[14:15][0])[0]\n",
        "\n",
        "lower_stp6 = np.asarray(stp6_results[4:5][0])[0]\n",
        "median_stp6 = np.asarray(stp6_results[9:10][0])[0]\n",
        "upper_stp6 = np.asarray(stp6_results[14:15][0])[0]\n"
      ]
    },
    {
      "cell_type": "code",
      "execution_count": 84,
      "metadata": {
        "id": "V0-8P_clJLmD"
      },
      "outputs": [],
      "source": [
        "# Iteration16 :\n",
        "\n",
        "slice16 = 15\n",
        "\n",
        "gp16 = [simple_regret_gp_1[slice16],\n",
        "       simple_regret_gp_2[slice16],\n",
        "       simple_regret_gp_3[slice16],\n",
        "       simple_regret_gp_4[slice16],\n",
        "       simple_regret_gp_5[slice16],\n",
        "       simple_regret_gp_6[slice16],\n",
        "       simple_regret_gp_7[slice16],\n",
        "       simple_regret_gp_8[slice16],\n",
        "       simple_regret_gp_9[slice16],\n",
        "       simple_regret_gp_10[slice16],\n",
        "       simple_regret_gp_11[slice16],\n",
        "       simple_regret_gp_12[slice16],\n",
        "       simple_regret_gp_13[slice16],\n",
        "       simple_regret_gp_14[slice16],\n",
        "       simple_regret_gp_15[slice16],\n",
        "       simple_regret_gp_16[slice16],\n",
        "       simple_regret_gp_17[slice16],\n",
        "       simple_regret_gp_18[slice16],\n",
        "       simple_regret_gp_19[slice16],\n",
        "       simple_regret_gp_20[slice16]]\n",
        "\n",
        "stp16 = [simple_regret_stp_1[slice16],\n",
        "       simple_regret_stp_2[slice16],\n",
        "       simple_regret_stp_3[slice16],\n",
        "       simple_regret_stp_4[slice16],\n",
        "       simple_regret_stp_5[slice16],\n",
        "       simple_regret_stp_6[slice16],\n",
        "       simple_regret_stp_7[slice16],\n",
        "       simple_regret_stp_8[slice16],\n",
        "       simple_regret_stp_9[slice16],\n",
        "       simple_regret_stp_10[slice16],\n",
        "       simple_regret_stp_11[slice16],\n",
        "       simple_regret_stp_12[slice16],\n",
        "       simple_regret_stp_13[slice16],\n",
        "       simple_regret_stp_14[slice16],\n",
        "       simple_regret_stp_15[slice16],\n",
        "       simple_regret_stp_16[slice16],\n",
        "       simple_regret_stp_17[slice16],\n",
        "       simple_regret_stp_18[slice16],\n",
        "       simple_regret_stp_19[slice16],\n",
        "       simple_regret_stp_20[slice16]]\n",
        "\n",
        "gp16_results = pd.DataFrame(gp16).sort_values(by=[0], ascending=False)\n",
        "stp16_results = pd.DataFrame(stp16).sort_values(by=[0], ascending=False)\n",
        "\n",
        "### Best training regret minimization IQR - gp:\n",
        "lower_gp16 = np.asarray(gp16_results[4:5][0])[0]\n",
        "median_gp16 = np.asarray(gp16_results[9:10][0])[0]\n",
        "upper_gp16 = np.asarray(gp16_results[14:15][0])[0]\n",
        "\n",
        "lower_stp16 = np.asarray(stp16_results[4:5][0])[0]\n",
        "median_stp16 = np.asarray(stp16_results[9:10][0])[0]\n",
        "upper_stp16 = np.asarray(stp16_results[14:15][0])[0]\n"
      ]
    },
    {
      "cell_type": "code",
      "execution_count": 85,
      "metadata": {
        "id": "OcLUACB0JLmM"
      },
      "outputs": [],
      "source": [
        "# Iteration7 :\n",
        "\n",
        "slice7 = 6\n",
        "\n",
        "gp7 = [simple_regret_gp_1[slice7],\n",
        "       simple_regret_gp_2[slice7],\n",
        "       simple_regret_gp_3[slice7],\n",
        "       simple_regret_gp_4[slice7],\n",
        "       simple_regret_gp_5[slice7],\n",
        "       simple_regret_gp_6[slice7],\n",
        "       simple_regret_gp_7[slice7],\n",
        "       simple_regret_gp_8[slice7],\n",
        "       simple_regret_gp_9[slice7],\n",
        "       simple_regret_gp_10[slice7],\n",
        "       simple_regret_gp_11[slice7],\n",
        "       simple_regret_gp_12[slice7],\n",
        "       simple_regret_gp_13[slice7],\n",
        "       simple_regret_gp_14[slice7],\n",
        "       simple_regret_gp_15[slice7],\n",
        "       simple_regret_gp_16[slice7],\n",
        "       simple_regret_gp_17[slice7],\n",
        "       simple_regret_gp_18[slice7],\n",
        "       simple_regret_gp_19[slice7],\n",
        "       simple_regret_gp_20[slice7]]\n",
        "\n",
        "stp7 = [simple_regret_stp_1[slice7],\n",
        "       simple_regret_stp_2[slice7],\n",
        "       simple_regret_stp_3[slice7],\n",
        "       simple_regret_stp_4[slice7],\n",
        "       simple_regret_stp_5[slice7],\n",
        "       simple_regret_stp_6[slice7],\n",
        "       simple_regret_stp_7[slice7],\n",
        "       simple_regret_stp_8[slice7],\n",
        "       simple_regret_stp_9[slice7],\n",
        "       simple_regret_stp_10[slice7],\n",
        "       simple_regret_stp_11[slice7],\n",
        "       simple_regret_stp_12[slice7],\n",
        "       simple_regret_stp_13[slice7],\n",
        "       simple_regret_stp_14[slice7],\n",
        "       simple_regret_stp_15[slice7],\n",
        "       simple_regret_stp_16[slice7],\n",
        "       simple_regret_stp_17[slice7],\n",
        "       simple_regret_stp_18[slice7],\n",
        "       simple_regret_stp_19[slice7],\n",
        "       simple_regret_stp_20[slice7]]\n",
        "\n",
        "gp7_results = pd.DataFrame(gp7).sort_values(by=[0], ascending=False)\n",
        "stp7_results = pd.DataFrame(stp7).sort_values(by=[0], ascending=False)\n",
        "\n",
        "### Best training regret minimization IQR - gp:\n",
        "lower_gp7 = np.asarray(gp7_results[4:5][0])[0]\n",
        "median_gp7 = np.asarray(gp7_results[9:10][0])[0]\n",
        "upper_gp7 = np.asarray(gp7_results[14:15][0])[0]\n",
        "\n",
        "lower_stp7 = np.asarray(stp7_results[4:5][0])[0]\n",
        "median_stp7 = np.asarray(stp7_results[9:10][0])[0]\n",
        "upper_stp7 = np.asarray(stp7_results[14:15][0])[0]\n"
      ]
    },
    {
      "cell_type": "code",
      "execution_count": 86,
      "metadata": {
        "id": "q-Fd0t3kJLmN"
      },
      "outputs": [],
      "source": [
        "# Iteration17 :\n",
        "\n",
        "slice17 = 16\n",
        "\n",
        "gp17 = [simple_regret_gp_1[slice17],\n",
        "       simple_regret_gp_2[slice17],\n",
        "       simple_regret_gp_3[slice17],\n",
        "       simple_regret_gp_4[slice17],\n",
        "       simple_regret_gp_5[slice17],\n",
        "       simple_regret_gp_6[slice17],\n",
        "       simple_regret_gp_7[slice17],\n",
        "       simple_regret_gp_8[slice17],\n",
        "       simple_regret_gp_9[slice17],\n",
        "       simple_regret_gp_10[slice17],\n",
        "       simple_regret_gp_11[slice17],\n",
        "       simple_regret_gp_12[slice17],\n",
        "       simple_regret_gp_13[slice17],\n",
        "       simple_regret_gp_14[slice17],\n",
        "       simple_regret_gp_15[slice17],\n",
        "       simple_regret_gp_16[slice17],\n",
        "       simple_regret_gp_17[slice17],\n",
        "       simple_regret_gp_18[slice17],\n",
        "       simple_regret_gp_19[slice17],\n",
        "       simple_regret_gp_20[slice17]]\n",
        "\n",
        "stp17 = [simple_regret_stp_1[slice17],\n",
        "       simple_regret_stp_2[slice17],\n",
        "       simple_regret_stp_3[slice17],\n",
        "       simple_regret_stp_4[slice17],\n",
        "       simple_regret_stp_5[slice17],\n",
        "       simple_regret_stp_6[slice17],\n",
        "       simple_regret_stp_7[slice17],\n",
        "       simple_regret_stp_8[slice17],\n",
        "       simple_regret_stp_9[slice17],\n",
        "       simple_regret_stp_10[slice17],\n",
        "       simple_regret_stp_11[slice17],\n",
        "       simple_regret_stp_12[slice17],\n",
        "       simple_regret_stp_13[slice17],\n",
        "       simple_regret_stp_14[slice17],\n",
        "       simple_regret_stp_15[slice17],\n",
        "       simple_regret_stp_16[slice17],\n",
        "       simple_regret_stp_17[slice17],\n",
        "       simple_regret_stp_18[slice17],\n",
        "       simple_regret_stp_19[slice17],\n",
        "       simple_regret_stp_20[slice17]]\n",
        "\n",
        "gp17_results = pd.DataFrame(gp17).sort_values(by=[0], ascending=False)\n",
        "stp17_results = pd.DataFrame(stp17).sort_values(by=[0], ascending=False)\n",
        "\n",
        "### Best training regret minimization IQR - gp:\n",
        "lower_gp17 = np.asarray(gp17_results[4:5][0])[0]\n",
        "median_gp17 = np.asarray(gp17_results[9:10][0])[0]\n",
        "upper_gp17 = np.asarray(gp17_results[14:15][0])[0]\n",
        "\n",
        "lower_stp17 = np.asarray(stp17_results[4:5][0])[0]\n",
        "median_stp17 = np.asarray(stp17_results[9:10][0])[0]\n",
        "upper_stp17 = np.asarray(stp17_results[14:15][0])[0]\n"
      ]
    },
    {
      "cell_type": "code",
      "execution_count": 87,
      "metadata": {
        "id": "JueXVbnGJLmU"
      },
      "outputs": [],
      "source": [
        "# Iteration8 :\n",
        "\n",
        "slice8 = 7\n",
        "\n",
        "gp8 = [simple_regret_gp_1[slice8],\n",
        "       simple_regret_gp_2[slice8],\n",
        "       simple_regret_gp_3[slice8],\n",
        "       simple_regret_gp_4[slice8],\n",
        "       simple_regret_gp_5[slice8],\n",
        "       simple_regret_gp_6[slice8],\n",
        "       simple_regret_gp_7[slice8],\n",
        "       simple_regret_gp_8[slice8],\n",
        "       simple_regret_gp_9[slice8],\n",
        "       simple_regret_gp_10[slice8],\n",
        "       simple_regret_gp_11[slice8],\n",
        "       simple_regret_gp_12[slice8],\n",
        "       simple_regret_gp_13[slice8],\n",
        "       simple_regret_gp_14[slice8],\n",
        "       simple_regret_gp_15[slice8],\n",
        "       simple_regret_gp_16[slice8],\n",
        "       simple_regret_gp_17[slice8],\n",
        "       simple_regret_gp_18[slice8],\n",
        "       simple_regret_gp_19[slice8],\n",
        "       simple_regret_gp_20[slice8]]\n",
        "\n",
        "stp8 = [simple_regret_stp_1[slice8],\n",
        "       simple_regret_stp_2[slice8],\n",
        "       simple_regret_stp_3[slice8],\n",
        "       simple_regret_stp_4[slice8],\n",
        "       simple_regret_stp_5[slice8],\n",
        "       simple_regret_stp_6[slice8],\n",
        "       simple_regret_stp_7[slice8],\n",
        "       simple_regret_stp_8[slice8],\n",
        "       simple_regret_stp_9[slice8],\n",
        "       simple_regret_stp_10[slice8],\n",
        "       simple_regret_stp_11[slice8],\n",
        "       simple_regret_stp_12[slice8],\n",
        "       simple_regret_stp_13[slice8],\n",
        "       simple_regret_stp_14[slice8],\n",
        "       simple_regret_stp_15[slice8],\n",
        "       simple_regret_stp_16[slice8],\n",
        "       simple_regret_stp_17[slice8],\n",
        "       simple_regret_stp_18[slice8],\n",
        "       simple_regret_stp_19[slice8],\n",
        "       simple_regret_stp_20[slice8]]\n",
        "\n",
        "gp8_results = pd.DataFrame(gp8).sort_values(by=[0], ascending=False)\n",
        "stp8_results = pd.DataFrame(stp8).sort_values(by=[0], ascending=False)\n",
        "\n",
        "### Best training regret minimization IQR - gp:\n",
        "lower_gp8 = np.asarray(gp8_results[4:5][0])[0]\n",
        "median_gp8 = np.asarray(gp8_results[9:10][0])[0]\n",
        "upper_gp8 = np.asarray(gp8_results[14:15][0])[0]\n",
        "\n",
        "lower_stp8 = np.asarray(stp8_results[4:5][0])[0]\n",
        "median_stp8 = np.asarray(stp8_results[9:10][0])[0]\n",
        "upper_stp8 = np.asarray(stp8_results[14:15][0])[0]\n"
      ]
    },
    {
      "cell_type": "code",
      "execution_count": 88,
      "metadata": {
        "id": "mnFJ7maJJLmU"
      },
      "outputs": [],
      "source": [
        "# Iteration18 :\n",
        "\n",
        "slice18 = 17\n",
        "\n",
        "gp18 = [simple_regret_gp_1[slice18],\n",
        "       simple_regret_gp_2[slice18],\n",
        "       simple_regret_gp_3[slice18],\n",
        "       simple_regret_gp_4[slice18],\n",
        "       simple_regret_gp_5[slice18],\n",
        "       simple_regret_gp_6[slice18],\n",
        "       simple_regret_gp_7[slice18],\n",
        "       simple_regret_gp_8[slice18],\n",
        "       simple_regret_gp_9[slice18],\n",
        "       simple_regret_gp_10[slice18],\n",
        "       simple_regret_gp_11[slice18],\n",
        "       simple_regret_gp_12[slice18],\n",
        "       simple_regret_gp_13[slice18],\n",
        "       simple_regret_gp_14[slice18],\n",
        "       simple_regret_gp_15[slice18],\n",
        "       simple_regret_gp_16[slice18],\n",
        "       simple_regret_gp_17[slice18],\n",
        "       simple_regret_gp_18[slice18],\n",
        "       simple_regret_gp_19[slice18],\n",
        "       simple_regret_gp_20[slice18]]\n",
        "\n",
        "stp18 = [simple_regret_stp_1[slice18],\n",
        "       simple_regret_stp_2[slice18],\n",
        "       simple_regret_stp_3[slice18],\n",
        "       simple_regret_stp_4[slice18],\n",
        "       simple_regret_stp_5[slice18],\n",
        "       simple_regret_stp_6[slice18],\n",
        "       simple_regret_stp_7[slice18],\n",
        "       simple_regret_stp_8[slice18],\n",
        "       simple_regret_stp_9[slice18],\n",
        "       simple_regret_stp_10[slice18],\n",
        "       simple_regret_stp_11[slice18],\n",
        "       simple_regret_stp_12[slice18],\n",
        "       simple_regret_stp_13[slice18],\n",
        "       simple_regret_stp_14[slice18],\n",
        "       simple_regret_stp_15[slice18],\n",
        "       simple_regret_stp_16[slice18],\n",
        "       simple_regret_stp_17[slice18],\n",
        "       simple_regret_stp_18[slice18],\n",
        "       simple_regret_stp_19[slice18],\n",
        "       simple_regret_stp_20[slice18]]\n",
        "\n",
        "gp18_results = pd.DataFrame(gp18).sort_values(by=[0], ascending=False)\n",
        "stp18_results = pd.DataFrame(stp18).sort_values(by=[0], ascending=False)\n",
        "\n",
        "### Best training regret minimization IQR - gp:\n",
        "lower_gp18 = np.asarray(gp18_results[4:5][0])[0]\n",
        "median_gp18 = np.asarray(gp18_results[9:10][0])[0]\n",
        "upper_gp18 = np.asarray(gp18_results[14:15][0])[0]\n",
        "\n",
        "lower_stp18 = np.asarray(stp18_results[4:5][0])[0]\n",
        "median_stp18 = np.asarray(stp18_results[9:10][0])[0]\n",
        "upper_stp18 = np.asarray(stp18_results[14:15][0])[0]\n"
      ]
    },
    {
      "cell_type": "code",
      "execution_count": 89,
      "metadata": {
        "id": "ll-p_qWUJLmb"
      },
      "outputs": [],
      "source": [
        "# Iteration9 :\n",
        "\n",
        "slice9 = 8\n",
        "\n",
        "gp9 = [simple_regret_gp_1[slice9],\n",
        "       simple_regret_gp_2[slice9],\n",
        "       simple_regret_gp_3[slice9],\n",
        "       simple_regret_gp_4[slice9],\n",
        "       simple_regret_gp_5[slice9],\n",
        "       simple_regret_gp_6[slice9],\n",
        "       simple_regret_gp_7[slice9],\n",
        "       simple_regret_gp_8[slice9],\n",
        "       simple_regret_gp_9[slice9],\n",
        "       simple_regret_gp_10[slice9],\n",
        "       simple_regret_gp_11[slice9],\n",
        "       simple_regret_gp_12[slice9],\n",
        "       simple_regret_gp_13[slice9],\n",
        "       simple_regret_gp_14[slice9],\n",
        "       simple_regret_gp_15[slice9],\n",
        "       simple_regret_gp_16[slice9],\n",
        "       simple_regret_gp_17[slice9],\n",
        "       simple_regret_gp_18[slice9],\n",
        "       simple_regret_gp_19[slice9],\n",
        "       simple_regret_gp_20[slice9]]\n",
        "\n",
        "stp9 = [simple_regret_stp_1[slice9],\n",
        "       simple_regret_stp_2[slice9],\n",
        "       simple_regret_stp_3[slice9],\n",
        "       simple_regret_stp_4[slice9],\n",
        "       simple_regret_stp_5[slice9],\n",
        "       simple_regret_stp_6[slice9],\n",
        "       simple_regret_stp_7[slice9],\n",
        "       simple_regret_stp_8[slice9],\n",
        "       simple_regret_stp_9[slice9],\n",
        "       simple_regret_stp_10[slice9],\n",
        "       simple_regret_stp_11[slice9],\n",
        "       simple_regret_stp_12[slice9],\n",
        "       simple_regret_stp_13[slice9],\n",
        "       simple_regret_stp_14[slice9],\n",
        "       simple_regret_stp_15[slice9],\n",
        "       simple_regret_stp_16[slice9],\n",
        "       simple_regret_stp_17[slice9],\n",
        "       simple_regret_stp_18[slice9],\n",
        "       simple_regret_stp_19[slice9],\n",
        "       simple_regret_stp_20[slice9]]\n",
        "\n",
        "gp9_results = pd.DataFrame(gp9).sort_values(by=[0], ascending=False)\n",
        "stp9_results = pd.DataFrame(stp9).sort_values(by=[0], ascending=False)\n",
        "\n",
        "### Best training regret minimization IQR - gp:\n",
        "lower_gp9 = np.asarray(gp9_results[4:5][0])[0]\n",
        "median_gp9 = np.asarray(gp9_results[9:10][0])[0]\n",
        "upper_gp9 = np.asarray(gp9_results[14:15][0])[0]\n",
        "\n",
        "lower_stp9 = np.asarray(stp9_results[4:5][0])[0]\n",
        "median_stp9 = np.asarray(stp9_results[9:10][0])[0]\n",
        "upper_stp9 = np.asarray(stp9_results[14:15][0])[0]\n"
      ]
    },
    {
      "cell_type": "code",
      "execution_count": 90,
      "metadata": {
        "id": "G3QVtLpJJLmc"
      },
      "outputs": [],
      "source": [
        "# Iteration19 :\n",
        "\n",
        "slice19 = 18\n",
        "\n",
        "gp19 = [simple_regret_gp_1[slice19],\n",
        "       simple_regret_gp_2[slice19],\n",
        "       simple_regret_gp_3[slice19],\n",
        "       simple_regret_gp_4[slice19],\n",
        "       simple_regret_gp_5[slice19],\n",
        "       simple_regret_gp_6[slice19],\n",
        "       simple_regret_gp_7[slice19],\n",
        "       simple_regret_gp_8[slice19],\n",
        "       simple_regret_gp_9[slice19],\n",
        "       simple_regret_gp_10[slice19],\n",
        "       simple_regret_gp_11[slice19],\n",
        "       simple_regret_gp_12[slice19],\n",
        "       simple_regret_gp_13[slice19],\n",
        "       simple_regret_gp_14[slice19],\n",
        "       simple_regret_gp_15[slice19],\n",
        "       simple_regret_gp_16[slice19],\n",
        "       simple_regret_gp_17[slice19],\n",
        "       simple_regret_gp_18[slice19],\n",
        "       simple_regret_gp_19[slice19],\n",
        "       simple_regret_gp_20[slice19]]\n",
        "\n",
        "stp19 = [simple_regret_stp_1[slice19],\n",
        "       simple_regret_stp_2[slice19],\n",
        "       simple_regret_stp_3[slice19],\n",
        "       simple_regret_stp_4[slice19],\n",
        "       simple_regret_stp_5[slice19],\n",
        "       simple_regret_stp_6[slice19],\n",
        "       simple_regret_stp_7[slice19],\n",
        "       simple_regret_stp_8[slice19],\n",
        "       simple_regret_stp_9[slice19],\n",
        "       simple_regret_stp_10[slice19],\n",
        "       simple_regret_stp_11[slice19],\n",
        "       simple_regret_stp_12[slice19],\n",
        "       simple_regret_stp_13[slice19],\n",
        "       simple_regret_stp_14[slice19],\n",
        "       simple_regret_stp_15[slice19],\n",
        "       simple_regret_stp_16[slice19],\n",
        "       simple_regret_stp_17[slice19],\n",
        "       simple_regret_stp_18[slice19],\n",
        "       simple_regret_stp_19[slice19],\n",
        "       simple_regret_stp_20[slice19]]\n",
        "\n",
        "gp19_results = pd.DataFrame(gp19).sort_values(by=[0], ascending=False)\n",
        "stp19_results = pd.DataFrame(stp19).sort_values(by=[0], ascending=False)\n",
        "\n",
        "### Best training regret minimization IQR - gp:\n",
        "lower_gp19 = np.asarray(gp19_results[4:5][0])[0]\n",
        "median_gp19 = np.asarray(gp19_results[9:10][0])[0]\n",
        "upper_gp19 = np.asarray(gp19_results[14:15][0])[0]\n",
        "\n",
        "lower_stp19 = np.asarray(stp19_results[4:5][0])[0]\n",
        "median_stp19 = np.asarray(stp19_results[9:10][0])[0]\n",
        "upper_stp19 = np.asarray(stp19_results[14:15][0])[0]\n"
      ]
    },
    {
      "cell_type": "code",
      "execution_count": 91,
      "metadata": {
        "id": "IzQng-ULJLmj"
      },
      "outputs": [],
      "source": [
        "# Iteration10 :\n",
        "\n",
        "slice10 = 9\n",
        "\n",
        "gp10 = [simple_regret_gp_1[slice10],\n",
        "       simple_regret_gp_2[slice10],\n",
        "       simple_regret_gp_3[slice10],\n",
        "       simple_regret_gp_4[slice10],\n",
        "       simple_regret_gp_5[slice10],\n",
        "       simple_regret_gp_6[slice10],\n",
        "       simple_regret_gp_7[slice10],\n",
        "       simple_regret_gp_8[slice10],\n",
        "       simple_regret_gp_9[slice10],\n",
        "       simple_regret_gp_10[slice10],\n",
        "       simple_regret_gp_11[slice10],\n",
        "       simple_regret_gp_12[slice10],\n",
        "       simple_regret_gp_13[slice10],\n",
        "       simple_regret_gp_14[slice10],\n",
        "       simple_regret_gp_15[slice10],\n",
        "       simple_regret_gp_16[slice10],\n",
        "       simple_regret_gp_17[slice10],\n",
        "       simple_regret_gp_18[slice10],\n",
        "       simple_regret_gp_19[slice10],\n",
        "       simple_regret_gp_20[slice10]]\n",
        "\n",
        "stp10 = [simple_regret_stp_1[slice10],\n",
        "       simple_regret_stp_2[slice10],\n",
        "       simple_regret_stp_3[slice10],\n",
        "       simple_regret_stp_4[slice10],\n",
        "       simple_regret_stp_5[slice10],\n",
        "       simple_regret_stp_6[slice10],\n",
        "       simple_regret_stp_7[slice10],\n",
        "       simple_regret_stp_8[slice10],\n",
        "       simple_regret_stp_9[slice10],\n",
        "       simple_regret_stp_10[slice10],\n",
        "       simple_regret_stp_11[slice10],\n",
        "       simple_regret_stp_12[slice10],\n",
        "       simple_regret_stp_13[slice10],\n",
        "       simple_regret_stp_14[slice10],\n",
        "       simple_regret_stp_15[slice10],\n",
        "       simple_regret_stp_16[slice10],\n",
        "       simple_regret_stp_17[slice10],\n",
        "       simple_regret_stp_18[slice10],\n",
        "       simple_regret_stp_19[slice10],\n",
        "       simple_regret_stp_20[slice10]]\n",
        "\n",
        "gp10_results = pd.DataFrame(gp10).sort_values(by=[0], ascending=False)\n",
        "stp10_results = pd.DataFrame(stp10).sort_values(by=[0], ascending=False)\n",
        "\n",
        "### Best training regret minimization IQR - gp:\n",
        "lower_gp10 = np.asarray(gp10_results[4:5][0])[0]\n",
        "median_gp10 = np.asarray(gp10_results[9:10][0])[0]\n",
        "upper_gp10 = np.asarray(gp10_results[14:15][0])[0]\n",
        "\n",
        "lower_stp10 = np.asarray(stp10_results[4:5][0])[0]\n",
        "median_stp10 = np.asarray(stp10_results[9:10][0])[0]\n",
        "upper_stp10 = np.asarray(stp10_results[14:15][0])[0]\n"
      ]
    },
    {
      "cell_type": "code",
      "execution_count": 92,
      "metadata": {
        "id": "DQ_Cuh-4JLmk"
      },
      "outputs": [],
      "source": [
        "# Iteration20 :\n",
        "\n",
        "slice20 = 19\n",
        "\n",
        "gp20 = [simple_regret_gp_1[slice20],\n",
        "       simple_regret_gp_2[slice20],\n",
        "       simple_regret_gp_3[slice20],\n",
        "       simple_regret_gp_4[slice20],\n",
        "       simple_regret_gp_5[slice20],\n",
        "       simple_regret_gp_6[slice20],\n",
        "       simple_regret_gp_7[slice20],\n",
        "       simple_regret_gp_8[slice20],\n",
        "       simple_regret_gp_9[slice20],\n",
        "       simple_regret_gp_10[slice20],\n",
        "       simple_regret_gp_11[slice20],\n",
        "       simple_regret_gp_12[slice20],\n",
        "       simple_regret_gp_13[slice20],\n",
        "       simple_regret_gp_14[slice20],\n",
        "       simple_regret_gp_15[slice20],\n",
        "       simple_regret_gp_16[slice20],\n",
        "       simple_regret_gp_17[slice20],\n",
        "       simple_regret_gp_18[slice20],\n",
        "       simple_regret_gp_19[slice20],\n",
        "       simple_regret_gp_20[slice20]]\n",
        "\n",
        "stp20 = [simple_regret_stp_1[slice20],\n",
        "       simple_regret_stp_2[slice20],\n",
        "       simple_regret_stp_3[slice20],\n",
        "       simple_regret_stp_4[slice20],\n",
        "       simple_regret_stp_5[slice20],\n",
        "       simple_regret_stp_6[slice20],\n",
        "       simple_regret_stp_7[slice20],\n",
        "       simple_regret_stp_8[slice20],\n",
        "       simple_regret_stp_9[slice20],\n",
        "       simple_regret_stp_10[slice20],\n",
        "       simple_regret_stp_11[slice20],\n",
        "       simple_regret_stp_12[slice20],\n",
        "       simple_regret_stp_13[slice20],\n",
        "       simple_regret_stp_14[slice20],\n",
        "       simple_regret_stp_15[slice20],\n",
        "       simple_regret_stp_16[slice20],\n",
        "       simple_regret_stp_17[slice20],\n",
        "       simple_regret_stp_18[slice20],\n",
        "       simple_regret_stp_19[slice20],\n",
        "       simple_regret_stp_20[slice20]]\n",
        "\n",
        "gp20_results = pd.DataFrame(gp20).sort_values(by=[0], ascending=False)\n",
        "stp20_results = pd.DataFrame(stp20).sort_values(by=[0], ascending=False)\n",
        "\n",
        "### Best training regret minimization IQR - gp:\n",
        "lower_gp20 = np.asarray(gp20_results[4:5][0])[0]\n",
        "median_gp20 = np.asarray(gp20_results[9:10][0])[0]\n",
        "upper_gp20 = np.asarray(gp20_results[14:15][0])[0]\n",
        "\n",
        "lower_stp20 = np.asarray(stp20_results[4:5][0])[0]\n",
        "median_stp20 = np.asarray(stp20_results[9:10][0])[0]\n",
        "upper_stp20 = np.asarray(stp20_results[14:15][0])[0]\n"
      ]
    },
    {
      "cell_type": "code",
      "execution_count": 93,
      "metadata": {
        "id": "R1gk3HGTJLms"
      },
      "outputs": [],
      "source": [
        "### Summarise arrays: 'GP'\n",
        "\n",
        "lower_gp = [lower_gp1,\n",
        "            lower_gp2,\n",
        "            lower_gp3,\n",
        "            lower_gp4,\n",
        "            lower_gp5,\n",
        "            lower_gp6,\n",
        "            lower_gp7,\n",
        "            lower_gp8,\n",
        "            lower_gp9,\n",
        "            lower_gp10,\n",
        "            lower_gp11,\n",
        "            lower_gp12,\n",
        "            lower_gp13,\n",
        "            lower_gp14,\n",
        "            lower_gp15,\n",
        "            lower_gp16,\n",
        "            lower_gp17,\n",
        "            lower_gp18,\n",
        "            lower_gp19,\n",
        "            lower_gp20,\n",
        "            lower_gp21]\n",
        "\n",
        "median_gp = [median_gp1,\n",
        "            median_gp2,\n",
        "            median_gp3,\n",
        "            median_gp4,\n",
        "            median_gp5,\n",
        "            median_gp6,\n",
        "            median_gp7,\n",
        "            median_gp8,\n",
        "            median_gp9,\n",
        "            median_gp10,\n",
        "            median_gp11,\n",
        "            median_gp12,\n",
        "            median_gp13,\n",
        "            median_gp14,\n",
        "            median_gp15,\n",
        "            median_gp16,\n",
        "            median_gp17,\n",
        "            median_gp18,\n",
        "            median_gp19,\n",
        "            median_gp20,\n",
        "            median_gp21]\n",
        "\n",
        "upper_gp = [upper_gp1,\n",
        "            upper_gp2,\n",
        "            upper_gp3,\n",
        "            upper_gp4,\n",
        "            upper_gp5,\n",
        "            upper_gp6,\n",
        "            upper_gp7,\n",
        "            upper_gp8,\n",
        "            upper_gp9,\n",
        "            upper_gp10,\n",
        "            upper_gp11,\n",
        "            upper_gp12,\n",
        "            upper_gp13,\n",
        "            upper_gp14,\n",
        "            upper_gp15,\n",
        "            upper_gp16,\n",
        "            upper_gp17,\n",
        "            upper_gp18,\n",
        "            upper_gp19,\n",
        "            upper_gp20,\n",
        "            upper_gp21]\n"
      ]
    },
    {
      "cell_type": "code",
      "execution_count": 94,
      "metadata": {
        "id": "jox8uqaeJLmu"
      },
      "outputs": [],
      "source": [
        "### Summarise arrays: 'STP'\n",
        "\n",
        "lower_stp = [lower_stp1,\n",
        "            lower_stp2,\n",
        "            lower_stp3,\n",
        "            lower_stp4,\n",
        "            lower_stp5,\n",
        "            lower_stp6,\n",
        "            lower_stp7,\n",
        "            lower_stp8,\n",
        "            lower_stp9,\n",
        "            lower_stp10,\n",
        "            lower_stp11,\n",
        "            lower_stp12,\n",
        "            lower_stp13,\n",
        "            lower_stp14,\n",
        "            lower_stp15,\n",
        "            lower_stp16,\n",
        "            lower_stp17,\n",
        "            lower_stp18,\n",
        "            lower_stp19,\n",
        "            lower_stp20,\n",
        "            lower_stp21]\n",
        "\n",
        "median_stp = [median_stp1,\n",
        "            median_stp2,\n",
        "            median_stp3,\n",
        "            median_stp4,\n",
        "            median_stp5,\n",
        "            median_stp6,\n",
        "            median_stp7,\n",
        "            median_stp8,\n",
        "            median_stp9,\n",
        "            median_stp10,\n",
        "            median_stp11,\n",
        "            median_stp12,\n",
        "            median_stp13,\n",
        "            median_stp14,\n",
        "            median_stp15,\n",
        "            median_stp16,\n",
        "            median_stp17,\n",
        "            median_stp18,\n",
        "            median_stp19,\n",
        "            median_stp20,\n",
        "            median_stp21]\n",
        "\n",
        "upper_stp = [upper_stp1,\n",
        "            upper_stp2,\n",
        "            upper_stp3,\n",
        "            upper_stp4,\n",
        "            upper_stp5,\n",
        "            upper_stp6,\n",
        "            upper_stp7,\n",
        "            upper_stp8,\n",
        "            upper_stp9,\n",
        "            upper_stp10,\n",
        "            upper_stp11,\n",
        "            upper_stp12,\n",
        "            upper_stp13,\n",
        "            upper_stp14,\n",
        "            upper_stp15,\n",
        "            upper_stp16,\n",
        "            upper_stp17,\n",
        "            upper_stp18,\n",
        "            upper_stp19,\n",
        "            upper_stp20,\n",
        "            upper_stp21]\n"
      ]
    },
    {
      "cell_type": "code",
      "execution_count": 95,
      "metadata": {
        "id": "W4hkYeeMJLmw",
        "colab": {
          "base_uri": "https://localhost:8080/",
          "height": 299
        },
        "outputId": "46d43e5d-bb94-4039-969c-1f0fd0284802"
      },
      "outputs": [
        {
          "output_type": "display_data",
          "data": {
            "text/plain": [
              "<Figure size 432x288 with 1 Axes>"
            ],
            "image/png": "[encoded data removed]"
          },
          "metadata": {
            "needs_background": "light"
          }
        }
      ],
      "source": [
        "### Visualise!\n",
        "\n",
        "title = obj_func\n",
        "\n",
        "plt.figure()\n",
        "\n",
        "plt.plot(median_gp, color = 'yellow')\n",
        "plt.plot(median_stp, color = 'green')\n",
        "\n",
        "xstar = np.arange(0, max_iter+1, step=1)\n",
        "plt.fill_between(xstar, lower_gp, upper_gp, facecolor = 'yellow', alpha=0.4, label='GP CBM Regret: IQR')\n",
        "plt.fill_between(xstar, lower_stp, upper_stp, facecolor = 'green', alpha=0.4, label='STP CBM Regret: IQR ' r'($\\nu$' ' = {})'.format(df))\n",
        "\n",
        "plt.title(title, weight = 'bold')\n",
        "plt.xlabel('(Post-initialisation) iteration $\\it{k}$', weight = 'bold') # x-axis label\n",
        "plt.ylabel('log(Regret)', weight = 'bold') # y-axis label\n",
        "plt.legend(loc=0) # add plot legend\n",
        "\n",
        "### Make the x-ticks integers, not floats:\n",
        "count = len(xstar)\n",
        "plt.xticks(np.arange(count), np.arange(0, count))\n",
        "plt.show() #visualise!\n"
      ]
    },
    {
      "cell_type": "code",
      "execution_count": 95,
      "metadata": {
        "id": "5TOZMC49JLmw"
      },
      "outputs": [],
      "source": []
    }
  ],
  "metadata": {
    "kernelspec": {
      "display_name": "Python 3",
      "language": "python",
      "name": "python3"
    },
    "language_info": {
      "codemirror_mode": {
        "name": "ipython",
        "version": 3
      },
      "file_extension": ".py",
      "mimetype": "text/x-python",
      "name": "python",
      "nbconvert_exporter": "python",
      "pygments_lexer": "ipython3",
      "version": "3.6.5"
    },
    "colab": {
      "provenance": [],
      "collapsed_sections": []
    }
  },
  "nbformat": 4,
  "nbformat_minor": 0
}