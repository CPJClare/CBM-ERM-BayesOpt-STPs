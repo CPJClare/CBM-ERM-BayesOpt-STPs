{
  "cells": [
    {
      "cell_type": "markdown",
      "metadata": {
        "id": "OrYfJFnSJLkS"
      },
      "source": [
        "Six-Hump Camel synthetic function:\n",
        "\n",
        "GP CBM versus STP nu = 3 CBM (winner)\n",
        "\n",
        "https://www.sfu.ca/~ssurjano/camel6.html"
      ]
    },
    {
      "cell_type": "code",
      "source": [
        "pip install pyGPGO\n"
      ],
      "metadata": {
        "colab": {
          "base_uri": "https://localhost:8080/"
        },
        "id": "2FgAmLMpOX3c",
        "outputId": "94f7f968-7133-475c-d711-fb522a90673e"
      },
      "execution_count": 1,
      "outputs": [
        {
          "output_type": "stream",
          "name": "stdout",
          "text": [
            "Looking in indexes: https://pypi.org/simple, https://us-python.pkg.dev/colab-wheels/public/simple/\n",
            "Collecting pyGPGO\n",
            "  Downloading pyGPGO-0.5.1.tar.gz (14 kB)\n",
            "Requirement already satisfied: numpy in /usr/local/lib/python3.7/dist-packages (from pyGPGO) (1.21.6)\n",
            "Requirement already satisfied: mkl in /usr/local/lib/python3.7/dist-packages (from pyGPGO) (2019.0)\n",
            "Requirement already satisfied: scipy in /usr/local/lib/python3.7/dist-packages (from pyGPGO) (1.7.3)\n",
            "Requirement already satisfied: joblib in /usr/local/lib/python3.7/dist-packages (from pyGPGO) (1.2.0)\n",
            "Requirement already satisfied: scikit-learn in /usr/local/lib/python3.7/dist-packages (from pyGPGO) (1.0.2)\n",
            "Collecting Theano-PyMC\n",
            "  Downloading Theano-PyMC-1.1.2.tar.gz (1.8 MB)\n",
            "\u001b[K     |████████████████████████████████| 1.8 MB 7.9 MB/s \n",
            "\u001b[?25hCollecting pyMC3\n",
            "  Downloading pymc3-3.11.5-py3-none-any.whl (872 kB)\n",
            "\u001b[K     |████████████████████████████████| 872 kB 60.3 MB/s \n",
            "\u001b[?25hRequirement already satisfied: intel-openmp in /usr/local/lib/python3.7/dist-packages (from mkl->pyGPGO) (2022.2.0)\n",
            "Requirement already satisfied: dill in /usr/local/lib/python3.7/dist-packages (from pyMC3->pyGPGO) (0.3.6)\n",
            "Requirement already satisfied: patsy>=0.5.1 in /usr/local/lib/python3.7/dist-packages (from pyMC3->pyGPGO) (0.5.3)\n",
            "Collecting semver>=2.13.0\n",
            "  Downloading semver-2.13.0-py2.py3-none-any.whl (12 kB)\n",
            "Collecting deprecat\n",
            "  Downloading deprecat-2.1.1-py2.py3-none-any.whl (9.8 kB)\n",
            "Requirement already satisfied: typing-extensions>=3.7.4 in /usr/local/lib/python3.7/dist-packages (from pyMC3->pyGPGO) (4.1.1)\n",
            "Requirement already satisfied: arviz>=0.11.0 in /usr/local/lib/python3.7/dist-packages (from pyMC3->pyGPGO) (0.12.1)\n",
            "Requirement already satisfied: fastprogress>=0.2.0 in /usr/local/lib/python3.7/dist-packages (from pyMC3->pyGPGO) (1.0.3)\n",
            "Requirement already satisfied: cachetools>=4.2.1 in /usr/local/lib/python3.7/dist-packages (from pyMC3->pyGPGO) (4.2.4)\n",
            "Requirement already satisfied: pandas>=0.24.0 in /usr/local/lib/python3.7/dist-packages (from pyMC3->pyGPGO) (1.3.5)\n",
            "Requirement already satisfied: filelock in /usr/local/lib/python3.7/dist-packages (from Theano-PyMC->pyGPGO) (3.8.0)\n",
            "Requirement already satisfied: matplotlib>=3.0 in /usr/local/lib/python3.7/dist-packages (from arviz>=0.11.0->pyMC3->pyGPGO) (3.2.2)\n",
            "Requirement already satisfied: netcdf4 in /usr/local/lib/python3.7/dist-packages (from arviz>=0.11.0->pyMC3->pyGPGO) (1.6.1)\n",
            "Requirement already satisfied: xarray-einstats>=0.2 in /usr/local/lib/python3.7/dist-packages (from arviz>=0.11.0->pyMC3->pyGPGO) (0.2.2)\n",
            "Requirement already satisfied: xarray>=0.16.1 in /usr/local/lib/python3.7/dist-packages (from arviz>=0.11.0->pyMC3->pyGPGO) (0.20.2)\n",
            "Requirement already satisfied: packaging in /usr/local/lib/python3.7/dist-packages (from arviz>=0.11.0->pyMC3->pyGPGO) (21.3)\n",
            "Requirement already satisfied: setuptools>=38.4 in /usr/local/lib/python3.7/dist-packages (from arviz>=0.11.0->pyMC3->pyGPGO) (57.4.0)\n",
            "Requirement already satisfied: python-dateutil>=2.1 in /usr/local/lib/python3.7/dist-packages (from matplotlib>=3.0->arviz>=0.11.0->pyMC3->pyGPGO) (2.8.2)\n",
            "Requirement already satisfied: pyparsing!=2.0.4,!=2.1.2,!=2.1.6,>=2.0.1 in /usr/local/lib/python3.7/dist-packages (from matplotlib>=3.0->arviz>=0.11.0->pyMC3->pyGPGO) (3.0.9)\n",
            "Requirement already satisfied: kiwisolver>=1.0.1 in /usr/local/lib/python3.7/dist-packages (from matplotlib>=3.0->arviz>=0.11.0->pyMC3->pyGPGO) (1.4.4)\n",
            "Requirement already satisfied: cycler>=0.10 in /usr/local/lib/python3.7/dist-packages (from matplotlib>=3.0->arviz>=0.11.0->pyMC3->pyGPGO) (0.11.0)\n",
            "Requirement already satisfied: pytz>=2017.3 in /usr/local/lib/python3.7/dist-packages (from pandas>=0.24.0->pyMC3->pyGPGO) (2022.6)\n",
            "Requirement already satisfied: six in /usr/local/lib/python3.7/dist-packages (from patsy>=0.5.1->pyMC3->pyGPGO) (1.15.0)\n",
            "Requirement already satisfied: importlib-metadata in /usr/local/lib/python3.7/dist-packages (from xarray>=0.16.1->arviz>=0.11.0->pyMC3->pyGPGO) (4.13.0)\n",
            "Requirement already satisfied: wrapt<2,>=1.10 in /usr/local/lib/python3.7/dist-packages (from deprecat->pyMC3->pyGPGO) (1.14.1)\n",
            "Requirement already satisfied: zipp>=0.5 in /usr/local/lib/python3.7/dist-packages (from importlib-metadata->xarray>=0.16.1->arviz>=0.11.0->pyMC3->pyGPGO) (3.10.0)\n",
            "Requirement already satisfied: cftime in /usr/local/lib/python3.7/dist-packages (from netcdf4->arviz>=0.11.0->pyMC3->pyGPGO) (1.6.2)\n",
            "Requirement already satisfied: threadpoolctl>=2.0.0 in /usr/local/lib/python3.7/dist-packages (from scikit-learn->pyGPGO) (3.1.0)\n",
            "Building wheels for collected packages: pyGPGO, Theano-PyMC\n",
            "  Building wheel for pyGPGO (setup.py) ... \u001b[?25l\u001b[?25hdone\n",
            "  Created wheel for pyGPGO: filename=pyGPGO-0.5.1-py3-none-any.whl size=19879 sha256=b114553afd6d39b523871e5ec1e90eb34e505f9253c90f534a31d8345513aa91\n",
            "  Stored in directory: /root/.cache/pip/wheels/c8/5d/0b/2160114e2f1b87791c51b66cf07f89831dbb6f49167950316f\n",
            "  Building wheel for Theano-PyMC (setup.py) ... \u001b[?25l\u001b[?25hdone\n",
            "  Created wheel for Theano-PyMC: filename=Theano_PyMC-1.1.2-py3-none-any.whl size=1529963 sha256=330b23197922de629151a10f3d8b10c262affebe70765d49bc500b3c70008df8\n",
            "  Stored in directory: /root/.cache/pip/wheels/f3/af/8c/5dd7553522d74c52a7813806fc7ee1a9caa20a3f7c8fd850d5\n",
            "Successfully built pyGPGO Theano-PyMC\n",
            "Installing collected packages: Theano-PyMC, semver, deprecat, pyMC3, pyGPGO\n",
            "Successfully installed Theano-PyMC-1.1.2 deprecat-2.1.1 pyGPGO-0.5.1 pyMC3-3.11.5 semver-2.13.0\n"
          ]
        }
      ]
    },
    {
      "cell_type": "code",
      "execution_count": 2,
      "metadata": {
        "id": "Dn_SAbhVJLke"
      },
      "outputs": [],
      "source": [
        "### Import modules:\n",
        "\n",
        "import numpy as np\n",
        "import scipy as sp\n",
        "import pandas as pd\n",
        "import matplotlib.pyplot as plt\n",
        "import random\n",
        "import warnings\n",
        "\n",
        "from pyGPGO.logger import EventLogger\n",
        "from pyGPGO.GPGO import GPGO\n",
        "from pyGPGO.surrogates.GaussianProcess import GaussianProcess\n",
        "from pyGPGO.surrogates.tStudentProcess import tStudentProcess, logpdf\n",
        "from pyGPGO.acquisition import Acquisition\n",
        "from pyGPGO.covfunc import squaredExponential\n",
        "\n",
        "from collections import OrderedDict\n",
        "from joblib import Parallel, delayed\n",
        "from numpy.linalg import slogdet, inv, cholesky, solve\n",
        "from scipy.optimize import minimize\n",
        "from scipy.spatial.distance import cdist\n",
        "from scipy.special import gamma\n",
        "from scipy.stats import norm, t\n",
        "from matplotlib.pyplot import rc\n",
        "\n",
        "rc('text', usetex=False)\n",
        "plt.rcParams['text.latex.preamble']=[r'\\usepackage{amsmath}']\n",
        "plt.rcParams['text.latex.preamble'] = [r'\\boldmath']\n",
        "\n",
        "warnings.filterwarnings(\"ignore\", category=FutureWarning)\n",
        "warnings.filterwarnings(\"ignore\", category=RuntimeWarning)\n",
        "warnings.filterwarnings(\"ignore\", category=UserWarning)\n"
      ]
    },
    {
      "cell_type": "code",
      "execution_count": 3,
      "metadata": {
        "id": "4Nwg_XO0JLki"
      },
      "outputs": [],
      "source": [
        "### Inputs:\n",
        "\n",
        "obj_func = 'SixHumpCamel'\n",
        "n_test = 500 # test points\n",
        "eps = 1e-08\n",
        "df = 3 # nu\n",
        "\n",
        "util_gp = 'CBMinimized'\n",
        "util_stp = 'tCBMinimized'\n",
        "n_init = 5 # random initialisations\n",
        "\n",
        "cov_func = squaredExponential()\n",
        "hyperOpt = True\n"
      ]
    },
    {
      "cell_type": "code",
      "execution_count": 4,
      "metadata": {
        "id": "DVYGZ6jYJLkj"
      },
      "outputs": [],
      "source": [
        "### Objective function:\n",
        "\n",
        "if obj_func == 'SixHumpCamel':\n",
        "    \n",
        "    # True y bounds:\n",
        "    y_lb = -1.0316\n",
        "    operator = -1 # targets global minimum \n",
        "    y_global_orig = y_lb * operator # targets global minimum\n",
        "            \n",
        "# Constraints:\n",
        "    lb_x1 = -3\n",
        "    ub_x1 = +3\n",
        "    \n",
        "    lb_x2 = -2\n",
        "    ub_x2 = +2\n",
        "    \n",
        "# Input array dimension(s):\n",
        "    dim = 2\n",
        "\n",
        "# 2-D inputs' parameter bounds:\n",
        "    param = {'x1_training': ('cont', [lb_x1, ub_x1]),\n",
        "             'x2_training': ('cont', [lb_x2, ub_x2])}\n",
        "    \n",
        "# Test data:\n",
        "    x1_test = np.linspace(lb_x1, ub_x1, n_test)\n",
        "    x2_test = np.linspace(lb_x2, ub_x2, n_test)\n",
        "    Xstar_d = np.column_stack((x1_test, x2_test))\n",
        "\n",
        "    def f_syn_polarity(x1_training, x2_training):\n",
        "        return operator * ((4 - 2.1 * x1_training ** 2 + 1 / 3 * x1_training ** 4) * x1_training ** 2 +\n",
        "                (x1_training * x2_training) + (-4 + 4 * x2_training ** 2) * x2_training ** 2)\n",
        "    "
      ]
    },
    {
      "cell_type": "code",
      "source": [
        "max_iter = dim * 10  # iterations of Bayesian optimisation\n",
        "Beta_CBM = dim\n"
      ],
      "metadata": {
        "id": "S9JivCxiYACE"
      },
      "execution_count": 5,
      "outputs": []
    },
    {
      "cell_type": "code",
      "execution_count": 6,
      "metadata": {
        "id": "hE7COdNcJLkl"
      },
      "outputs": [],
      "source": [
        "### Cumulative Regret Calculator:\n",
        "\n",
        "def min_max_array(x):\n",
        "    new_list = []\n",
        "    for i, num in enumerate(x):\n",
        "            new_list.append(np.min(x[0:i+1]))\n",
        "    return new_list\n"
      ]
    },
    {
      "cell_type": "code",
      "execution_count": 7,
      "metadata": {
        "id": "gkY6wLl_JLkm"
      },
      "outputs": [],
      "source": [
        "### Set-seeds:\n",
        "\n",
        "run_num_1 = 1\n",
        "run_num_2 = 2\n",
        "run_num_3 = 3\n",
        "run_num_4 = 4\n",
        "run_num_5 = 5\n",
        "run_num_6 = 6\n",
        "run_num_7 = 7\n",
        "run_num_8 = 8\n",
        "run_num_9 = 9\n",
        "run_num_10 = 10\n",
        "run_num_11 = 11\n",
        "run_num_12 = 12\n",
        "run_num_13 = 13\n",
        "run_num_14 = 14\n",
        "run_num_15 = 15\n",
        "run_num_16 = 16\n",
        "run_num_17 = 17\n",
        "run_num_18 = 18\n",
        "run_num_19 = 19\n",
        "run_num_20 = 20\n"
      ]
    },
    {
      "cell_type": "code",
      "execution_count": 8,
      "metadata": {
        "id": "Mh53nXeyJLko"
      },
      "outputs": [],
      "source": [
        "### Acquisition function - CBM:\n",
        "\n",
        "class Acquisition_new(Acquisition):    \n",
        "    def __init__(self, mode, eps=1e-06, **params):\n",
        "        \n",
        "        self.params = params\n",
        "        self.eps = eps\n",
        "\n",
        "        mode_dict = {\n",
        "            'CBMinimized': self.CBMinimized,\n",
        "            'tCBMinimized': self.tCBMinimized\n",
        "        }\n",
        "\n",
        "        self.f = mode_dict[mode]\n",
        "   \n",
        "    def CBMinimized(self, tau, mean, std):\n",
        "        \n",
        "        gamma = (mean - y_global_orig - self.eps) / (std + self.eps)\n",
        "        return (std + self.eps) * (gamma + np.sqrt(Beta_CBM))\n",
        "    \n",
        "    def tCBMinimized(self, tau, mean, std, nu=df):\n",
        "        \n",
        "        gamma = (mean - y_global_orig - self.eps) / (std + self.eps)\n",
        "        return (std + self.eps) * (gamma + np.sqrt(Beta_CBM))\n",
        "\n",
        "    def eval(self, y_global_orig, mean, std):\n",
        "    \n",
        "        return self.f(y_global_orig, mean, std, **self.params)\n",
        "        \n",
        "    def t_eval(self, y_global_orig, mean, std, nu=df):\n",
        "    \n",
        "        return self.f(y_global_orig, mean, std, nu=df, **self.params)\n",
        "    "
      ]
    },
    {
      "cell_type": "code",
      "source": [
        "n_start_AcqFunc = max_iter\n",
        "inverse = -1\n"
      ],
      "metadata": {
        "id": "xSwpeFj-Y-Hl"
      },
      "execution_count": 9,
      "outputs": []
    },
    {
      "cell_type": "code",
      "source": [
        "## GPGO_multi: Gaussian\n",
        "\n",
        "n_start = n_start_AcqFunc\n",
        "\n",
        "class GPGO_multi(GPGO):\n",
        "\n",
        "    def __init__(self, surrogate, acquisition, f, parameter_dict, n_jobs=1):\n",
        "        self.GP = surrogate\n",
        "        self.A = acquisition\n",
        "        self.f = f\n",
        "        self.parameters = parameter_dict\n",
        "        self.n_jobs = n_jobs\n",
        "\n",
        "        self.parameter_key = list(parameter_dict.keys())\n",
        "        self.parameter_value = list(parameter_dict.values())\n",
        "        self.parameter_type = [p[0] for p in self.parameter_value]\n",
        "        self.parameter_range = [p[1] for p in self.parameter_value]\n",
        "\n",
        "        self.history = []\n",
        "        self.header =   'Evaluation \\t Proposed point \\t  Current eval. \\t  Best eval. \\t Min. ApproxAcqFunc '\n",
        "        self.template = '{:3}\\t {}\\t {:3}\\t {:3}\\t {:3}'\n",
        " \n",
        "    def acqfuncApprox(self, xnew):\n",
        "        new_mean, new_var = self.GP.predict(xnew, return_std=True)\n",
        "        new_std = np.sqrt(new_var + eps)\n",
        "        f = self.A.eval(self.tau, new_mean, new_std)\n",
        "\n",
        "        return -f\n",
        "   \n",
        "    def _optimizeAcq(self, method='L-BFGS-B'):\n",
        "        \n",
        "        start_points_dict = [self._sampleParam() for i in range(n_start)]\n",
        "        start_points_arr = np.array([list(s.values())\n",
        "                                     for s in start_points_dict])\n",
        "        x_best = np.empty((n_start, len(self.parameter_key)))\n",
        "        f_best = np.empty((n_start,))\n",
        "        opt = Parallel(n_jobs=self.n_jobs)(delayed(minimize)(self.acqfuncApprox,\n",
        "                                                                 x0=start_point,\n",
        "                                                                 method=method,\n",
        "                                                                 jac = False,\n",
        "                                                                 bounds=self.parameter_range) for start_point in\n",
        "                                               start_points_arr)\n",
        "        x_best = np.array([res.x for res in opt])\n",
        "        f_best = np.array([np.atleast_1d(res.fun)[0] for res in opt])\n",
        "        f_best_min = min(f_best)\n",
        "\n",
        "        self.x_best = x_best\n",
        "        self.f_best = f_best\n",
        "        self.f_best_min = f_best_min\n",
        "        self.best = x_best[np.argmin(f_best)]\n",
        "        self.start_points_arr = start_points_arr        \n",
        "        self.history.append(self.f_best_min)\n",
        "\n",
        "    def _printInit(self):\n",
        "        print(self.header)\n",
        "        for init_eval in range(self.init_evals):\n",
        "            print(self.template.format('init', self.GP.X[init_eval], inverse * self.GP.y[init_eval], inverse * self.tau, ''))\n",
        "      \n",
        "    def _printCurrent(self):\n",
        "        OKGREEN = '\\033[92m'\n",
        "        ENDC = '\\033[0m'\n",
        "        BOLD = '\\033[1m'\n",
        "        eval = str(len(self.GP.y) - self.init_evals)\n",
        "        proposed = str(self.best)\n",
        "        curr_eval = str(inverse * self.GP.y[-1])\n",
        "        curr_best = str(inverse * self.tau)\n",
        "        min_acqfunc = str(self.f_best_min)\n",
        "        if float(curr_eval) <= float(curr_best):\n",
        "            eval = BOLD + OKGREEN + eval + ENDC\n",
        "            proposed = BOLD + OKGREEN + proposed + ENDC\n",
        "            curr_eval = BOLD + OKGREEN + curr_eval + ENDC\n",
        "            curr_best = BOLD + OKGREEN + curr_best + ENDC\n",
        "            min_acqfunc = BOLD + OKGREEN + min_acqfunc + ENDC\n",
        "        print(self.template.format(eval, proposed, curr_eval, curr_best, min_acqfunc))\n",
        "        \n",
        "    def run(self, max_iter=10, init_evals=3, resume=False):\n",
        "        \n",
        "        if not resume:\n",
        "            self.init_evals = init_evals\n",
        "            self._firstRun(self.init_evals)\n",
        "            self._printInit()\n",
        "        for iteration in range(max_iter):\n",
        "            self._optimizeAcq()\n",
        "            self.updateGP()\n",
        "            self._printCurrent()\n"
      ],
      "metadata": {
        "id": "YorxhvyZXyfZ"
      },
      "execution_count": 10,
      "outputs": []
    },
    {
      "cell_type": "code",
      "source": [
        "## GPGO_multi_STP: Student's-t\n",
        "\n",
        "class GPGO_multi_STP(GPGO):\n",
        "\n",
        "    def __init__(self, surrogate, acquisition, f, parameter_dict, n_jobs=1):\n",
        "        self.GP = surrogate\n",
        "        self.A = acquisition\n",
        "        self.f = f\n",
        "        self.parameters = parameter_dict\n",
        "        self.n_jobs = n_jobs\n",
        "\n",
        "        self.parameter_key = list(parameter_dict.keys())\n",
        "        self.parameter_value = list(parameter_dict.values())\n",
        "        self.parameter_type = [p[0] for p in self.parameter_value]\n",
        "        self.parameter_range = [p[1] for p in self.parameter_value]\n",
        "\n",
        "        self.history = []\n",
        "        self.header =   'Evaluation \\t Proposed point \\t  Current eval. \\t  Best eval. \\t Min. ApproxAcqFunc '\n",
        "        self.template = '{:3}\\t {}\\t {:3}\\t {:3}\\t {:3}'\n",
        " \n",
        "    def acqfuncApprox(self, xnew):\n",
        "        new_mean, new_var = self.GP.predict(xnew, return_std=True)\n",
        "        new_std = np.sqrt(new_var + eps)\n",
        "        f = self.A.t_eval(self.tau, new_mean, new_std)\n",
        "\n",
        "        return -f\n",
        "   \n",
        "    def _optimizeAcq(self, method='L-BFGS-B'):\n",
        "        \n",
        "        start_points_dict = [self._sampleParam() for i in range(n_start)]\n",
        "        start_points_arr = np.array([list(s.values())\n",
        "                                     for s in start_points_dict])\n",
        "        x_best = np.empty((n_start, len(self.parameter_key)))\n",
        "        f_best = np.empty((n_start,))\n",
        "        opt = Parallel(n_jobs=self.n_jobs)(delayed(minimize)(self.acqfuncApprox,\n",
        "                                                                 x0=start_point,\n",
        "                                                                 method=method,\n",
        "                                                                 jac = False,\n",
        "                                                                 bounds=self.parameter_range) for start_point in\n",
        "                                               start_points_arr)\n",
        "        x_best = np.array([res.x for res in opt])\n",
        "        f_best = np.array([np.atleast_1d(res.fun)[0] for res in opt])\n",
        "        f_best_min = min(f_best)\n",
        "\n",
        "        self.x_best = x_best\n",
        "        self.f_best = f_best\n",
        "        self.f_best_min = f_best_min\n",
        "        self.best = x_best[np.argmin(f_best)]\n",
        "        self.start_points_arr = start_points_arr        \n",
        "        self.history.append(self.f_best_min)\n",
        "\n",
        "    def _printInit(self):\n",
        "        print(self.header)\n",
        "        for init_eval in range(self.init_evals):\n",
        "            print(self.template.format('init', self.GP.X[init_eval], inverse * self.GP.y[init_eval], inverse * self.tau, ''))\n",
        "      \n",
        "    def _printCurrent(self):\n",
        "        OKGREEN = '\\033[92m'\n",
        "        ENDC = '\\033[0m'\n",
        "        BOLD = '\\033[1m'\n",
        "        eval = str(len(self.GP.y) - self.init_evals)\n",
        "        proposed = str(self.best)\n",
        "        curr_eval = str(inverse * self.GP.y[-1])\n",
        "        curr_best = str(inverse * self.tau)\n",
        "        min_acqfunc = str(self.f_best_min)\n",
        "        if float(curr_eval) <= float(curr_best):\n",
        "            eval = BOLD + OKGREEN + eval + ENDC\n",
        "            proposed = BOLD + OKGREEN + proposed + ENDC\n",
        "            curr_eval = BOLD + OKGREEN + curr_eval + ENDC\n",
        "            curr_best = BOLD + OKGREEN + curr_best + ENDC\n",
        "            min_acqfunc = BOLD + OKGREEN + min_acqfunc + ENDC\n",
        "        print(self.template.format(eval, proposed, curr_eval, curr_best, min_acqfunc))\n",
        "        \n",
        "    def run(self, max_iter=10, init_evals=3, resume=False):\n",
        "        \n",
        "        if not resume:\n",
        "            self.init_evals = init_evals\n",
        "            self._firstRun(self.init_evals)\n",
        "            self._printInit()\n",
        "        for iteration in range(max_iter):\n",
        "            self._optimizeAcq()\n",
        "            self.updateGP()\n",
        "            self._printCurrent()\n"
      ],
      "metadata": {
        "id": "QaOjAKNoXynM"
      },
      "execution_count": 11,
      "outputs": []
    },
    {
      "cell_type": "code",
      "execution_count": 12,
      "metadata": {
        "scrolled": false,
        "colab": {
          "base_uri": "https://localhost:8080/"
        },
        "id": "Fio5AsW9JLkp",
        "outputId": "d446b33a-87f5-4cf8-b738-028fd187bacc"
      },
      "outputs": [
        {
          "output_type": "stream",
          "name": "stdout",
          "text": [
            "Evaluation \t Proposed point \t  Current eval. \t  Best eval. \t Min. ApproxAcqFunc \n",
            "init\t [-0.49786797  0.88129797]\t -0.2650082867644827\t -0.2650082867644827\t    \n",
            "init\t [-2.99931375 -0.79066971]\t 110.13991869176735\t -0.2650082867644827\t    \n",
            "init\t [-2.11946466 -1.63064562]\t 26.90935479429681\t -0.2650082867644827\t    \n",
            "init\t [-1.88243873 -0.61775709]\t 2.8558363102363344\t -0.2650082867644827\t    \n",
            "init\t [-0.61939515  0.15526694]\t 1.0540522096005847\t -0.2650082867644827\t    \n",
            "1  \t [-1.18606724 -0.3273087 ]\t 2.4047696379787307\t -0.2650082867644827\t -3.078036035494468\n",
            "2  \t [-0.19390412  1.86395524]\t 34.17255061957859\t -0.2650082867644827\t -1.8464594046569802\n",
            "3  \t [-1.45382921  0.5760335 ]\t 0.49610791146089406\t -0.2650082867644827\t -1.8025127712306575\n",
            "4  \t [ 3. -2.]\t 150.89999999999998\t -0.2650082867644827\t -1.796827541675828\n",
            "5  \t [3. 2.]\t 162.89999999999998\t -0.2650082867644827\t -1.796702506538546\n",
            "6  \t [-3.  2.]\t 150.89999999999998\t -0.2650082867644827\t -1.7874026015377327\n",
            "7  \t [-0.7210423  -0.21536957]\t 1.5371851303723774\t -0.2650082867644827\t -3.6485378129695727\n",
            "8  \t [ 0.96661607 -0.09039759]\t 2.0561753515567176\t -0.2650082867644827\t -1.7607081069284396\n",
            "9  \t [ 0.23837275 -2.        ]\t 47.74382167394175\t -0.2650082867644827\t -1.7507477619600826\n",
            "10 \t [-0.86548274  0.0842252 ]\t 1.8569768860765035\t -0.2650082867644827\t -2.356508551721563\n",
            "11 \t [-0.86807744  0.08327096]\t 1.86455468409248\t -0.2650082867644827\t -1.758911993607993\n",
            "12 \t [-0.86981628  0.08259701]\t 1.869664271365124\t -0.2650082867644827\t -1.3461576672364717\n",
            "13 \t [1.85565911 0.01345752]\t 2.5077081700933563\t -0.2650082867644827\t -0.9558017649462126\n",
            "14 \t [0.15869427 0.24419125]\t -0.08613414447397424\t -0.2650082867644827\t -0.9098966213277334\n",
            "15 \t [0.15131909 0.2447333 ]\t -0.09770253101368609\t -0.2650082867644827\t -0.9968971126776424\n",
            "16 \t [0.14637955 0.24498525]\t -0.10505469148427085\t -0.2650082867644827\t -1.0258641247114773\n",
            "17 \t [0.14311586 0.24515068]\t -0.10981250208025489\t -0.2650082867644827\t -1.0405162780183341\n",
            "18 \t [0.14086453 0.24526918]\t -0.11305568839059665\t -0.2650082867644827\t -1.0495351470510672\n",
            "19 \t [0.13924222 0.24535855]\t -0.11537585107847681\t -0.2650082867644827\t -1.0557360542890895\n",
            "20 \t [0.13803313 0.24542748]\t -0.11709608177340045\t -0.2650082867644827\t -1.060305358037133\n"
          ]
        }
      ],
      "source": [
        "### Bayesian optimisation runs (x20): 'GP' Acquisition Function run number = 1\n",
        "\n",
        "np.random.seed(run_num_1)\n",
        "surrogate_gp_1 = GaussianProcess(cov_func, optimize=hyperOpt)\n",
        "\n",
        "gp_1 = GPGO_multi(surrogate_gp_1, Acquisition_new(util_gp), f_syn_polarity, param, n_jobs = -1) # define BayesOpt\n",
        "gp_1.run(max_iter = max_iter, init_evals = n_init) # run\n"
      ]
    },
    {
      "cell_type": "code",
      "execution_count": 13,
      "metadata": {
        "colab": {
          "base_uri": "https://localhost:8080/"
        },
        "id": "6CLxOiUrJLks",
        "outputId": "d7ad0881-f1a5-4dad-b92e-9706a083719c"
      },
      "outputs": [
        {
          "output_type": "stream",
          "name": "stdout",
          "text": [
            "Evaluation \t Proposed point \t  Current eval. \t  Best eval. \t Min. ApproxAcqFunc \n",
            "init\t [-0.38403059 -1.89629507]\t 38.61280125654363\t 0.011939608840498828\t    \n",
            "init\t [ 0.29797487 -0.25871043]\t 0.011939608840498828\t 0.011939608840498828\t    \n",
            "init\t [-0.47779319 -0.67866072]\t 0.1381453419305213\t 0.011939608840498828\t    \n",
            "init\t [-1.7721082   0.47708387]\t 0.626144759281101\t 0.011939608840498828\t    \n",
            "init\t [-1.20207196 -0.9326909 ]\t 3.0693811601417798\t 0.011939608840498828\t    \n",
            "1  \t [-0.44944718  0.00412018]\t 0.7231482001421817\t 0.011939608840498828\t -1.9314275004914796\n",
            "2  \t [3.         1.11315648]\t 113.424647272369\t 0.011939608840498828\t -1.796827542528041\n",
            "3  \t [ 3. -2.]\t 150.89999999999998\t 0.011939608840498828\t -1.7968249121124311\n",
            "\u001b[1m\u001b[92m4\u001b[0m\t \u001b[1m\u001b[92m[-0.42736521  0.45926211]\u001b[0m\t \u001b[1m\u001b[92m-0.1994638963991371\u001b[0m\t \u001b[1m\u001b[92m-0.1994638963991371\u001b[0m\t \u001b[1m\u001b[92m-2.2784939176518515\u001b[0m\n",
            "5  \t [-0.4504639   0.39811412]\t 0.015154254798766198\t -0.1994638963991371\t -1.9183451031495729\n",
            "6  \t [-3.         -0.57745596]\t 109.7433163115189\t -0.1994638963991371\t -1.7821617436181416\n",
            "7  \t [-0.54919866  1.47562736]\t 10.469869226929184\t -0.1994638963991371\t -1.8181371550105798\n",
            "8  \t [-3.  2.]\t 150.89999999999998\t -0.1994638963991371\t -1.7962935252056182\n",
            "9  \t [ 1.31349355 -0.41352226]\t 1.2519038456344063\t -0.1994638963991371\t -1.766257403585908\n",
            "10 \t [1.0876457 2.       ]\t 52.520218093956814\t -0.1994638963991371\t -1.7325787668888828\n",
            "11 \t [-0.74683516  0.13971351]\t 1.4546840791773576\t -0.1994638963991371\t -3.10275643746746\n",
            "12 \t [-0.72561493  0.13411745]\t 1.404586057391232\t -0.1994638963991371\t -2.3940225100760197\n",
            "13 \t [-0.71091945  0.13012123]\t 1.3691587124331752\t -0.1994638963991371\t -1.9333936738918922\n",
            "14 \t [-0.70034512  0.12723414]\t 1.3432469054057878\t -0.1994638963991371\t -1.6095316015807024\n",
            "15 \t [-0.69251021  0.12512059]\t 1.3237847872046493\t -0.1994638963991371\t -1.3691957624018405\n",
            "16 \t [-0.68656548  0.12355312]\t 1.3088410388203093\t -0.1994638963991371\t -1.1836705298904426\n",
            "17 \t [-0.68196416  0.12237687]\t 1.2971484812407226\t -0.1994638963991371\t -1.0360799485793968\n",
            "18 \t [-0.67834097  0.1214848 ]\t 1.2878481193656215\t -0.1994638963991371\t -0.9158457935040953\n",
            "19 \t [-0.6754449   0.12080204]\t 1.2803425005283138\t -0.1994638963991371\t -0.8159957159693285\n",
            "20 \t [-0.67309908  0.12027533]\t 1.2742065117889048\t -0.1994638963991371\t -0.7317450250768629\n"
          ]
        }
      ],
      "source": [
        "### Bayesian optimisation runs (x20): 'GP' Acquisition Function run number = 2\n",
        "\n",
        "np.random.seed(run_num_2)\n",
        "surrogate_gp_2 = GaussianProcess(cov_func, optimize=hyperOpt)\n",
        "\n",
        "gp_2 = GPGO_multi(surrogate_gp_2, Acquisition_new(util_gp), f_syn_polarity, param, n_jobs = -1) # define BayesOpt\n",
        "gp_2.run(max_iter = max_iter, init_evals = n_init) # run\n"
      ]
    },
    {
      "cell_type": "code",
      "execution_count": 14,
      "metadata": {
        "id": "OrboSzBtJLku",
        "colab": {
          "base_uri": "https://localhost:8080/"
        },
        "outputId": "8dc15e47-77f5-445d-9f9b-49d03e6bc60f"
      },
      "outputs": [
        {
          "output_type": "stream",
          "name": "stdout",
          "text": [
            "Evaluation \t Proposed point \t  Current eval. \t  Best eval. \t Min. ApproxAcqFunc \n",
            "init\t [0.30478742 0.83259129]\t -0.2431922946563294\t -0.2431922946563294\t    \n",
            "init\t [-1.25457157  0.04331042]\t 2.3313310458730996\t -0.2431922946563294\t    \n",
            "init\t [2.35768173 1.58517236]\t 33.54152175045586\t -0.2431922946563294\t    \n",
            "init\t [-2.24648814 -1.17102849]\t 14.214109412296352\t -0.2431922946563294\t    \n",
            "init\t [-2.69119678 -0.23676063]\t 45.87579771712209\t -0.2431922946563294\t    \n",
            "1  \t [-0.17346461  0.09867864]\t 0.06277973893139305\t -0.2431922946563294\t -2.189986724031687\n",
            "2  \t [-0.54021522  1.28385499]\t 4.5774287830539615\t -0.2431922946563294\t -1.9476413701353115\n",
            "\u001b[1m\u001b[92m3\u001b[0m\t \u001b[1m\u001b[92m[ 0.22078907 -0.76717565]\u001b[0m\t \u001b[1m\u001b[92m-0.9479740504264491\u001b[0m\t \u001b[1m\u001b[92m-0.9479740504264491\u001b[0m\t \u001b[1m\u001b[92m-1.86855254853335\u001b[0m\n",
            "4  \t [ 0.732424   -1.32649165]\t 5.967528056487563\t -0.9479740504264491\t -1.923960797728499\n",
            "5  \t [ 3. -2.]\t 150.89999999999998\t -0.9479740504264491\t -1.7315977234307829\n",
            "6  \t [-0.08145371 -0.2730788 ]\t -0.2273543959668489\t -0.9479740504264491\t -1.8659215744424191\n",
            "7  \t [-0.07709532 -0.26026833]\t -0.20883769708448813\t -0.9479740504264491\t -1.6934432431322342\n",
            "8  \t [-0.07473373 -0.25248316]\t -0.1975918024270722\t -0.9479740504264491\t -1.5878956652815612\n",
            "9  \t [-0.07334921 -0.24747523]\t -0.19036084150695096\t -0.9479740504264491\t -1.5163089056226293\n",
            "10 \t [-0.07249234 -0.24411351]\t -0.18550211497921804\t -0.9479740504264491\t -1.464454054027281\n",
            "11 \t [-0.0719408  -0.24177705]\t -0.18211674656091897\t -0.9479740504264491\t -1.4251230167537516\n",
            "12 \t [-0.07157467 -0.24010881]\t -0.1796914633468432\t -0.9479740504264491\t -1.3942554313951068\n",
            "13 \t [-0.07132603 -0.23888759]\t -0.17790821355590897\t -0.9479740504264491\t -1.369380963578561\n",
            "14 \t [-0.07115404 -0.2379759 ]\t -0.17657038961619842\t -0.9479740504264491\t -1.3489084691886652\n",
            "15 \t [-0.07103333 -0.23728345]\t -0.17554888559056026\t -0.9479740504264491\t -1.33176531151284\n",
            "16 \t [-0.07094794 -0.2367475 ]\t -0.17475336285716897\t -0.9479740504264491\t -1.3172011195472149\n",
            "17 \t [-0.07088715 -0.23632795]\t -0.17412672893806133\t -0.9479740504264491\t -1.3046757601299734\n",
            "18 \t [-0.07084365 -0.23599605]\t -0.1736279379920776\t -0.9479740504264491\t -1.2937900799070845\n",
            "19 \t [-0.07081273 -0.23572794]\t -0.17322203135074793\t -0.9479740504264491\t -1.2842422896902654\n",
            "20 \t [-0.07079064 -0.23551164]\t -0.17289255054791552\t -0.9479740504264491\t -1.275800791984099\n"
          ]
        }
      ],
      "source": [
        "### Bayesian optimisation runs (x20): 'GP' Acquisition Function run number = 3\n",
        "\n",
        "np.random.seed(run_num_3)\n",
        "surrogate_gp_3 = GaussianProcess(cov_func, optimize=hyperOpt)\n",
        "\n",
        "gp_3 = GPGO_multi(surrogate_gp_3, Acquisition_new(util_gp), f_syn_polarity, param, n_jobs = -1) # define BayesOpt\n",
        "gp_3.run(max_iter = max_iter, init_evals = n_init) # run\n"
      ]
    },
    {
      "cell_type": "code",
      "execution_count": 15,
      "metadata": {
        "id": "wmlwMmKcJLkv",
        "colab": {
          "base_uri": "https://localhost:8080/"
        },
        "outputId": "591d266a-d21a-4a54-dedd-3e9313d91726"
      },
      "outputs": [
        {
          "output_type": "stream",
          "name": "stdout",
          "text": [
            "Evaluation \t Proposed point \t  Current eval. \t  Best eval. \t Min. ApproxAcqFunc \n",
            "init\t [2.80217903 0.188929  ]\t 63.70212732873661\t 2.3196402150601703\t    \n",
            "init\t [2.83610616 0.85926397]\t 71.43837110827245\t 2.3196402150601703\t    \n",
            "init\t [ 1.18637295 -1.13564202]\t 2.5463267765341566\t 2.3196402150601703\t    \n",
            "init\t [ 2.85764673 -1.97507898]\t 113.76785286351424\t 2.3196402150601703\t    \n",
            "init\t [-1.48210583 -0.26083387]\t 2.3196402150601703\t 2.3196402150601703\t    \n",
            "\u001b[1m\u001b[92m1\u001b[0m\t \u001b[1m\u001b[92m[ 0.11144458 -1.10619505]\u001b[0m\t \u001b[1m\u001b[92m1.0208554028173444\u001b[0m\t \u001b[1m\u001b[92m1.0208554028173444\u001b[0m\t \u001b[1m\u001b[92m-3.121284965958299\u001b[0m\n",
            "2  \t [-3.  2.]\t 150.89999999999998\t 1.0208554028173444\t -1.7700807134243528\n",
            "\u001b[1m\u001b[92m3\u001b[0m\t \u001b[1m\u001b[92m[ 0.12887649 -0.95580394]\u001b[0m\t \u001b[1m\u001b[92m-0.3731904672971223\u001b[0m\t \u001b[1m\u001b[92m-0.3731904672971223\u001b[0m\t \u001b[1m\u001b[92m-1.8204166142920895\u001b[0m\n",
            "4  \t [-3. -2.]\t 162.89999999999998\t -0.3731904672971223\t -1.7528131128962918\n",
            "5  \t [-0.25741377 -0.09920887]\t 0.24247966570991158\t -0.3731904672971223\t -2.161604779665978\n",
            "\u001b[1m\u001b[92m6\u001b[0m\t \u001b[1m\u001b[92m[ 0.12542018 -0.75375546]\u001b[0m\t \u001b[1m\u001b[92m-1.0135573694700057\u001b[0m\t \u001b[1m\u001b[92m-1.0135573694700057\u001b[0m\t \u001b[1m\u001b[92m-1.7045238536567542\u001b[0m\n",
            "\u001b[1m\u001b[92m7\u001b[0m\t \u001b[1m\u001b[92m[ 0.12484203 -0.75131913]\u001b[0m\t \u001b[1m\u001b[92m-1.0153320147070533\u001b[0m\t \u001b[1m\u001b[92m-1.0153320147070533\u001b[0m\t \u001b[1m\u001b[92m-1.7699501809534344\u001b[0m\n",
            "\u001b[1m\u001b[92m8\u001b[0m\t \u001b[1m\u001b[92m[ 0.12454072 -0.75005912]\u001b[0m\t \u001b[1m\u001b[92m-1.016205925942831\u001b[0m\t \u001b[1m\u001b[92m-1.016205925942831\u001b[0m\t \u001b[1m\u001b[92m-1.8108646341085535\u001b[0m\n",
            "\u001b[1m\u001b[92m9\u001b[0m\t \u001b[1m\u001b[92m[ 0.1243671  -0.74933741]\u001b[0m\t \u001b[1m\u001b[92m-1.0166931536368462\u001b[0m\t \u001b[1m\u001b[92m-1.0166931536368462\u001b[0m\t \u001b[1m\u001b[92m-1.8388231889232671\u001b[0m\n",
            "\u001b[1m\u001b[92m10\u001b[0m\t \u001b[1m\u001b[92m[ 0.12426005 -0.74889465]\u001b[0m\t \u001b[1m\u001b[92m-1.0169873054278975\u001b[0m\t \u001b[1m\u001b[92m-1.0169873054278975\u001b[0m\t \u001b[1m\u001b[92m-1.8591211056003043\u001b[0m\n",
            "\u001b[1m\u001b[92m11\u001b[0m\t \u001b[1m\u001b[92m[ 0.12419079 -0.74860922]\u001b[0m\t \u001b[1m\u001b[92m-1.0171750246895437\u001b[0m\t \u001b[1m\u001b[92m-1.0171750246895437\u001b[0m\t \u001b[1m\u001b[92m-1.8745196093116214\u001b[0m\n",
            "\u001b[1m\u001b[92m12\u001b[0m\t \u001b[1m\u001b[92m[ 0.12414432 -0.74841854]\u001b[0m\t \u001b[1m\u001b[92m-1.017299622741862\u001b[0m\t \u001b[1m\u001b[92m-1.017299622741862\u001b[0m\t \u001b[1m\u001b[92m-1.8865975165339666\u001b[0m\n",
            "\u001b[1m\u001b[92m13\u001b[0m\t \u001b[1m\u001b[92m[ 0.12411238 -0.74828761]\u001b[0m\t \u001b[1m\u001b[92m-1.0173847911144687\u001b[0m\t \u001b[1m\u001b[92m-1.0173847911144687\u001b[0m\t \u001b[1m\u001b[92m-1.896322114031706\u001b[0m\n",
            "\u001b[1m\u001b[92m14\u001b[0m\t \u001b[1m\u001b[92m[ 0.12408993 -0.74819591]\u001b[0m\t \u001b[1m\u001b[92m-1.0174442615979153\u001b[0m\t \u001b[1m\u001b[92m-1.0174442615979153\u001b[0m\t \u001b[1m\u001b[92m-1.904318771099886\u001b[0m\n",
            "\u001b[1m\u001b[92m15\u001b[0m\t \u001b[1m\u001b[92m[ 0.12407399 -0.74813082]\u001b[0m\t \u001b[1m\u001b[92m-1.0174863829701593\u001b[0m\t \u001b[1m\u001b[92m-1.0174863829701593\u001b[0m\t \u001b[1m\u001b[92m-1.9110095901473814\u001b[0m\n",
            "\u001b[1m\u001b[92m16\u001b[0m\t \u001b[1m\u001b[92m[ 0.12406255 -0.74808431]\u001b[0m\t \u001b[1m\u001b[92m-1.0175164409246436\u001b[0m\t \u001b[1m\u001b[92m-1.0175164409246436\u001b[0m\t \u001b[1m\u001b[92m-1.916689705328527\u001b[0m\n",
            "\u001b[1m\u001b[92m17\u001b[0m\t \u001b[1m\u001b[92m[ 0.12405433 -0.74805088]\u001b[0m\t \u001b[1m\u001b[92m-1.0175380214654561\u001b[0m\t \u001b[1m\u001b[92m-1.0175380214654561\u001b[0m\t \u001b[1m\u001b[92m-1.921571639942195\u001b[0m\n",
            "\u001b[1m\u001b[92m18\u001b[0m\t \u001b[1m\u001b[92m[ 0.1240484  -0.74802677]\u001b[0m\t \u001b[1m\u001b[92m-1.0175535748588915\u001b[0m\t \u001b[1m\u001b[92m-1.0175535748588915\u001b[0m\t \u001b[1m\u001b[92m-1.9258123044836697\u001b[0m\n",
            "\u001b[1m\u001b[92m19\u001b[0m\t \u001b[1m\u001b[92m[ 0.12404421 -0.74800977]\u001b[0m\t \u001b[1m\u001b[92m-1.0175645306400463\u001b[0m\t \u001b[1m\u001b[92m-1.0175645306400463\u001b[0m\t \u001b[1m\u001b[92m-1.9295300578881212\u001b[0m\n",
            "\u001b[1m\u001b[92m20\u001b[0m\t \u001b[1m\u001b[92m[ 0.12404128 -0.74799792]\u001b[0m\t \u001b[1m\u001b[92m-1.0175721726601323\u001b[0m\t \u001b[1m\u001b[92m-1.0175721726601323\u001b[0m\t \u001b[1m\u001b[92m-1.9328158375428297\u001b[0m\n"
          ]
        }
      ],
      "source": [
        "### Bayesian optimisation runs (x20): 'GP' Acquisition Function run number = 4\n",
        "\n",
        "np.random.seed(run_num_4)\n",
        "surrogate_gp_4 = GaussianProcess(cov_func, optimize=hyperOpt)\n",
        "\n",
        "gp_4 = GPGO_multi(surrogate_gp_4, Acquisition_new(util_gp), f_syn_polarity, param, n_jobs = -1) # define BayesOpt\n",
        "gp_4.run(max_iter = max_iter, init_evals = n_init) # run\n"
      ]
    },
    {
      "cell_type": "code",
      "execution_count": 16,
      "metadata": {
        "id": "ntlcfbyWJLkw",
        "colab": {
          "base_uri": "https://localhost:8080/"
        },
        "outputId": "99b345fc-6f71-45b2-a2f8-878cc6cee997"
      },
      "outputs": [
        {
          "output_type": "stream",
          "name": "stdout",
          "text": [
            "Evaluation \t Proposed point \t  Current eval. \t  Best eval. \t Min. ApproxAcqFunc \n",
            "init\t [-1.66804097  1.48292922]\t 10.126030408244933\t -0.6512780061070701\t    \n",
            "init\t [-1.75968507  1.67444363]\t 19.4300499315822\t -0.6512780061070701\t    \n",
            "init\t [-0.06953287  0.44697545]\t -0.6512780061070701\t -0.6512780061070701\t    \n",
            "init\t [1.59544714 0.07367195]\t 2.168775388880503\t -0.6512780061070701\t    \n",
            "init\t [-1.21919699 -1.24911509]\t 7.420330936884148\t -0.6512780061070701\t    \n",
            "1  \t [0.46777833 1.31550198]\t 6.450541082662784\t -0.6512780061070701\t -1.8004643421454951\n",
            "2  \t [ 3. -2.]\t 150.89999999999998\t -0.6512780061070701\t -1.7565839529300529\n",
            "3  \t [3. 2.]\t 162.89999999999998\t -0.6512780061070701\t -1.7358122589123586\n",
            "4  \t [ 0.46969233 -0.23056553]\t 0.474184703465176\t -0.6512780061070701\t -1.6770242833801088\n",
            "5  \t [-3. -2.]\t 162.89999999999998\t -0.6512780061070701\t -1.4140101566720111\n",
            "6  \t [-0.11716867 -0.49038938]\t -0.6186237725336403\t -0.6512780061070701\t -1.6392342034854868\n",
            "7  \t [-0.10846498 -0.47413014]\t -0.5988634848574261\t -0.6512780061070701\t -1.637197531727821\n",
            "8  \t [-0.10207391 -0.46279442]\t -0.5845367054485658\t -0.6512780061070701\t -1.6244606073646846\n",
            "9  \t [-0.09722212 -0.45507801]\t -0.5749641101671845\t -0.6512780061070701\t -1.6121935468785284\n",
            "10 \t [-0.09347864 -0.44968116]\t -0.5684634675820858\t -0.6512780061070701\t -1.6017849864729548\n",
            "11 \t [-0.0905532  -0.44578915]\t -0.5639144977918765\t -0.6512780061070701\t -1.5931410200563387\n",
            "12 \t [-0.0882414  -0.44289446]\t -0.5606134491037069\t -0.6512780061070701\t -1.585944823098595\n",
            "13 \t [-0.08639298 -0.44068841]\t -0.558150263889142\t -0.6512780061070701\t -1.5798992259382918\n",
            "14 \t [-0.08489879 -0.43896985]\t -0.5562631448167539\t -0.6512780061070701\t -1.5747661108569457\n",
            "15 \t [-0.08367819 -0.43760641]\t -0.5547860076043752\t -0.6512780061070701\t -1.5703620042495476\n",
            "16 \t [-0.08267178 -0.43650484]\t -0.5536021769577251\t -0.6512780061070701\t -1.5665461824853792\n",
            "17 \t [-0.08183373 -0.43560577]\t -0.5526454610147884\t -0.6512780061070701\t -1.563210634478711\n",
            "18 \t [-0.08113115 -0.43485691]\t -0.5518474791891268\t -0.6512780061070701\t -1.5602712331196917\n",
            "19 \t [-0.08053575 -0.43423212]\t -0.5511873621721666\t -0.6512780061070701\t -1.5576620319292827\n",
            "20 \t [-0.08002846 -0.43370447]\t -0.5506316090166707\t -0.6512780061070701\t -1.5553310659098947\n"
          ]
        }
      ],
      "source": [
        "### Bayesian optimisation runs (x20): 'GP' Acquisition Function run number = 5\n",
        "\n",
        "np.random.seed(run_num_5)\n",
        "surrogate_gp_5 = GaussianProcess(cov_func, optimize=hyperOpt)\n",
        "\n",
        "gp_5 = GPGO_multi(surrogate_gp_5, Acquisition_new(util_gp), f_syn_polarity, param, n_jobs = -1) # define BayesOpt\n",
        "gp_5.run(max_iter = max_iter, init_evals = n_init) # run\n"
      ]
    },
    {
      "cell_type": "code",
      "execution_count": 17,
      "metadata": {
        "id": "HHrK2qnsJLkx",
        "colab": {
          "base_uri": "https://localhost:8080/"
        },
        "outputId": "797bc33c-1fda-4637-e64e-0a2f191edb52"
      },
      "outputs": [
        {
          "output_type": "stream",
          "name": "stdout",
          "text": [
            "Evaluation \t Proposed point \t  Current eval. \t  Best eval. \t Min. ApproxAcqFunc \n",
            "init\t [ 2.35716091 -0.67208078]\t 11.995980169715628\t -0.3096187466378422\t    \n",
            "init\t [ 1.92737474 -1.8332135 ]\t 31.167927894156623\t -0.3096187466378422\t    \n",
            "init\t [-2.35405992  0.38020826]\t 13.013381745677465\t -0.3096187466378422\t    \n",
            "init\t [ 0.17890417 -0.32477029]\t -0.3096187466378422\t -0.3096187466378422\t    \n",
            "init\t [-0.9875529   0.49007773]\t 0.9989196280666852\t -0.3096187466378422\t    \n",
            "1  \t [0.26547547 1.08519512]\t 1.39651716938633\t -0.3096187466378422\t -1.968468253572722\n",
            "2  \t [3. 2.]\t 162.89999999999998\t -0.3096187466378422\t -1.7204418369668628\n",
            "3  \t [-1.21989022 -2.        ]\t 52.84028877277604\t -0.3096187466378422\t -1.5862809268139106\n",
            "\u001b[1m\u001b[92m4\u001b[0m\t \u001b[1m\u001b[92m[-0.03743053  0.52283301]\u001b[0m\t \u001b[1m\u001b[92m-0.8084968672448021\u001b[0m\t \u001b[1m\u001b[92m-0.8084968672448021\u001b[0m\t \u001b[1m\u001b[92m-1.6016392368055348\u001b[0m\n",
            "\u001b[1m\u001b[92m5\u001b[0m\t \u001b[1m\u001b[92m[-0.03761396  0.52298627]\u001b[0m\t \u001b[1m\u001b[92m-0.8088340680863705\u001b[0m\t \u001b[1m\u001b[92m-0.8088340680863705\u001b[0m\t \u001b[1m\u001b[92m-1.6620933303790948\u001b[0m\n",
            "\u001b[1m\u001b[92m6\u001b[0m\t \u001b[1m\u001b[92m[-0.03777754  0.52312388]\u001b[0m\t \u001b[1m\u001b[92m-0.8091363050276946\u001b[0m\t \u001b[1m\u001b[92m-0.8091363050276946\u001b[0m\t \u001b[1m\u001b[92m-1.6921259797512533\u001b[0m\n",
            "\u001b[1m\u001b[92m7\u001b[0m\t \u001b[1m\u001b[92m[-0.03790528  0.52323208]\u001b[0m\t \u001b[1m\u001b[92m-0.809373565712667\u001b[0m\t \u001b[1m\u001b[92m-0.809373565712667\u001b[0m\t \u001b[1m\u001b[92m-1.7099632112096719\u001b[0m\n",
            "\u001b[1m\u001b[92m8\u001b[0m\t \u001b[1m\u001b[92m[-0.0380051   0.52331597]\u001b[0m\t \u001b[1m\u001b[92m-0.8095575862149142\u001b[0m\t \u001b[1m\u001b[92m-0.8095575862149142\u001b[0m\t \u001b[1m\u001b[92m-1.7217464866052796\u001b[0m\n",
            "\u001b[1m\u001b[92m9\u001b[0m\t \u001b[1m\u001b[92m[-0.03808343  0.52338217]\u001b[0m\t \u001b[1m\u001b[92m-0.8097026307423894\u001b[0m\t \u001b[1m\u001b[92m-0.8097026307423894\u001b[0m\t \u001b[1m\u001b[92m-1.7300998419598321\u001b[0m\n",
            "\u001b[1m\u001b[92m10\u001b[0m\t \u001b[1m\u001b[92m[-0.03814641  0.52343505]\u001b[0m\t \u001b[1m\u001b[92m-0.8098185351928552\u001b[0m\t \u001b[1m\u001b[92m-0.8098185351928552\u001b[0m\t \u001b[1m\u001b[92m-1.7363267012341053\u001b[0m\n",
            "\u001b[1m\u001b[92m11\u001b[0m\t \u001b[1m\u001b[92m[-0.0381977   0.52347812]\u001b[0m\t \u001b[1m\u001b[92m-0.8099129131382155\u001b[0m\t \u001b[1m\u001b[92m-0.8099129131382155\u001b[0m\t \u001b[1m\u001b[92m-1.7411458800148016\u001b[0m\n",
            "\u001b[1m\u001b[92m12\u001b[0m\t \u001b[1m\u001b[92m[-0.03824026  0.52351371]\u001b[0m\t \u001b[1m\u001b[92m-0.8099909172297141\u001b[0m\t \u001b[1m\u001b[92m-0.8099909172297141\u001b[0m\t \u001b[1m\u001b[92m-1.7449856927038903\u001b[0m\n",
            "\u001b[1m\u001b[92m13\u001b[0m\t \u001b[1m\u001b[92m[-0.03827594  0.52354354]\u001b[0m\t \u001b[1m\u001b[92m-0.8100562967227963\u001b[0m\t \u001b[1m\u001b[92m-0.8100562967227963\u001b[0m\t \u001b[1m\u001b[92m-1.7481169659670839\u001b[0m\n",
            "\u001b[1m\u001b[92m14\u001b[0m\t \u001b[1m\u001b[92m[-0.03830626  0.52356872]\u001b[0m\t \u001b[1m\u001b[92m-0.8101115069284109\u001b[0m\t \u001b[1m\u001b[92m-0.8101115069284109\u001b[0m\t \u001b[1m\u001b[92m-1.7507192240803668\u001b[0m\n",
            "\u001b[1m\u001b[92m15\u001b[0m\t \u001b[1m\u001b[92m[-0.0383323   0.52359049]\u001b[0m\t \u001b[1m\u001b[92m-0.8101591982556897\u001b[0m\t \u001b[1m\u001b[92m-0.8101591982556897\u001b[0m\t \u001b[1m\u001b[92m-1.7529161038623875\u001b[0m\n",
            "\u001b[1m\u001b[92m16\u001b[0m\t \u001b[1m\u001b[92m[-0.03835491  0.52360901]\u001b[0m\t \u001b[1m\u001b[92m-0.8101998636382135\u001b[0m\t \u001b[1m\u001b[92m-0.8101998636382135\u001b[0m\t \u001b[1m\u001b[92m-1.754795564865017\u001b[0m\n",
            "\u001b[1m\u001b[92m17\u001b[0m\t \u001b[1m\u001b[92m[-0.03837471  0.52362549]\u001b[0m\t \u001b[1m\u001b[92m-0.8102359649587476\u001b[0m\t \u001b[1m\u001b[92m-0.8102359649587476\u001b[0m\t \u001b[1m\u001b[92m-1.7564217868525955\u001b[0m\n",
            "\u001b[1m\u001b[92m18\u001b[0m\t \u001b[1m\u001b[92m[-0.03839217  0.52363974]\u001b[0m\t \u001b[1m\u001b[92m-0.8102672691419887\u001b[0m\t \u001b[1m\u001b[92m-0.8102672691419887\u001b[0m\t \u001b[1m\u001b[92m-1.7578428135248363\u001b[0m\n",
            "\u001b[1m\u001b[92m19\u001b[0m\t \u001b[1m\u001b[92m[-0.03840759  0.52365234]\u001b[0m\t \u001b[1m\u001b[92m-0.8102949314874863\u001b[0m\t \u001b[1m\u001b[92m-0.8102949314874863\u001b[0m\t \u001b[1m\u001b[92m-1.7590952028922053\u001b[0m\n",
            "\u001b[1m\u001b[92m20\u001b[0m\t \u001b[1m\u001b[92m[-0.03842142  0.52366373]\u001b[0m\t \u001b[1m\u001b[92m-0.8103199058897258\u001b[0m\t \u001b[1m\u001b[92m-0.8103199058897258\u001b[0m\t \u001b[1m\u001b[92m-1.7602073329719008\u001b[0m\n"
          ]
        }
      ],
      "source": [
        "### Bayesian optimisation runs (x20): 'GP' Acquisition Function run number = 6\n",
        "\n",
        "np.random.seed(run_num_6)\n",
        "surrogate_gp_6 = GaussianProcess(cov_func, optimize=hyperOpt)\n",
        "\n",
        "gp_6 = GPGO_multi(surrogate_gp_6, Acquisition_new(util_gp), f_syn_polarity, param, n_jobs = -1) # define BayesOpt\n",
        "gp_6.run(max_iter = max_iter, init_evals = n_init) # run\n"
      ]
    },
    {
      "cell_type": "code",
      "execution_count": 18,
      "metadata": {
        "id": "rht2Y9u8JLky",
        "colab": {
          "base_uri": "https://localhost:8080/"
        },
        "outputId": "4b629ab0-15e8-4174-cd86-051fe2b7f1a4"
      },
      "outputs": [
        {
          "output_type": "stream",
          "name": "stdout",
          "text": [
            "Evaluation \t Proposed point \t  Current eval. \t  Best eval. \t Min. ApproxAcqFunc \n",
            "init\t [-2.54215026  1.11967517]\t 26.53843863832488\t -0.46481072558790276\t    \n",
            "init\t [-0.36954461  0.89386071]\t -0.46481072558790276\t -0.46481072558790276\t    \n",
            "init\t [2.86793707 0.15398348]\t 76.66051064695093\t -0.46481072558790276\t    \n",
            "init\t [ 0.00672278 -1.71179547]\t 22.613010892757885\t -0.46481072558790276\t    \n",
            "init\t [-1.38936612e+00 -4.69996698e-04]\t 2.294585534557751\t -0.46481072558790276\t    \n",
            "1  \t [0.18555605 1.87792633]\t 36.125115835818676\t -0.46481072558790276\t -1.8679892449080469\n",
            "2  \t [-2.0069916  -0.34039291]\t 4.09787808897999\t -0.46481072558790276\t -1.7968275424952864\n",
            "3  \t [-0.25767148  0.40880501]\t -0.40568649046575583\t -0.46481072558790276\t -1.9119190936259844\n",
            "4  \t [-0.7652725   0.76664382]\t 0.13337479973750932\t -0.46481072558790276\t -1.864039312560681\n",
            "5  \t [0.36644931 0.21826365]\t 0.39858371815896104\t -0.46481072558790276\t -1.8224013785900848\n",
            "6  \t [ 2.23619511 -2.        ]\t 52.69882608924716\t -0.46481072558790276\t -1.7967033614938976\n",
            "7  \t [-0.52080653  0.12808973]\t 0.8058496568398512\t -0.46481072558790276\t -1.8080285024082208\n",
            "8  \t [-3. -2.]\t 162.89999999999998\t -0.46481072558790276\t -1.5505388394623958\n",
            "9  \t [-0.70842808  0.12860035]\t 1.3645200539503273\t -0.46481072558790276\t -1.9751824587468503\n",
            "10 \t [-0.69923866  0.144262  ]\t 1.3102927259407593\t -0.46481072558790276\t -1.495840816313475\n",
            "11 \t [-0.69261396  0.15413778]\t 1.2728568200699946\t -0.46481072558790276\t -1.1905852531423935\n",
            "12 \t [-0.68774345  0.16085007]\t 1.245986719711561\t -0.46481072558790276\t -0.9793042228210281\n",
            "13 \t [-0.68408242  0.16566398]\t 1.2260537029788834\t -0.46481072558790276\t -0.8245112952888666\n",
            "14 \t [-0.681272    0.16925903]\t 1.2108526947400928\t -0.46481072558790276\t -0.7063060488755758\n",
            "15 \t [-0.67907297  0.1720301 ]\t 1.1989870696061173\t -0.46481072558790276\t -0.6131423002695191\n",
            "16 \t [-0.67732274  0.17422105]\t 1.1895394614122194\t -0.46481072558790276\t -0.5378617191414312\n",
            "17 \t [-0.67590851  0.17598982]\t 1.1818880832850005\t -0.46481072558790276\t -0.4757915376015681\n",
            "18 \t [-0.6747503   0.17744292]\t 1.1755991693530614\t -0.46481072558790276\t -0.42375281440523377\n",
            "19 \t [-0.67379017  0.17865453]\t 1.1703624176777685\t -0.46481072558790276\t -0.37950833190928795\n",
            "20 \t [-0.67298582  0.17967769]\t 1.1659524161171617\t -0.46481072558790276\t -0.34143839303282936\n"
          ]
        }
      ],
      "source": [
        "### Bayesian optimisation runs (x20): 'GP' Acquisition Function run number = 7\n",
        "\n",
        "np.random.seed(run_num_7)\n",
        "surrogate_gp_7 = GaussianProcess(cov_func, optimize=hyperOpt)\n",
        "\n",
        "gp_7 = GPGO_multi(surrogate_gp_7, Acquisition_new(util_gp), f_syn_polarity, param, n_jobs = -1) # define BayesOpt\n",
        "gp_7.run(max_iter = max_iter, init_evals = n_init) # run\n"
      ]
    },
    {
      "cell_type": "code",
      "execution_count": 19,
      "metadata": {
        "id": "vHGwZn0qJLkz",
        "colab": {
          "base_uri": "https://localhost:8080/"
        },
        "outputId": "4e21a76a-14e2-4849-eca0-40db1c98ac84"
      },
      "outputs": [
        {
          "output_type": "stream",
          "name": "stdout",
          "text": [
            "Evaluation \t Proposed point \t  Current eval. \t  Best eval. \t Min. ApproxAcqFunc \n",
            "init\t [2.24057642 1.87416265]\t 48.82879577505094\t 0.03190064766213015\t    \n",
            "init\t [2.21516724 0.12342277]\t 8.660623551418242\t 0.03190064766213015\t    \n",
            "init\t [-1.60363003 -1.95440478]\t 48.28332373939171\t 0.03190064766213015\t    \n",
            "init\t [-0.41718709 -0.39059456]\t 0.2801229037700297\t 0.03190064766213015\t    \n",
            "init\t [ 0.13604803 -0.08643282]\t 0.03190064766213015\t 0.03190064766213015\t    \n",
            "1  \t [-0.89741429  0.97165935]\t 0.9504765779279816\t 0.03190064766213015\t -1.9522144506089112\n",
            "2  \t [-3.  2.]\t 150.89999999999998\t 0.03190064766213015\t -1.7559160412934014\n",
            "\u001b[1m\u001b[92m3\u001b[0m\t \u001b[1m\u001b[92m[-0.28587998  0.47958084]\u001b[0m\t \u001b[1m\u001b[92m-0.532432999368964\u001b[0m\t \u001b[1m\u001b[92m-0.532432999368964\u001b[0m\t \u001b[1m\u001b[92m-1.9385316637610508\u001b[0m\n",
            "4  \t [-0.29023523  0.46026488]\t -0.4792049746798264\t -0.532432999368964\t -1.8057935141616461\n",
            "5  \t [-0.29231766  0.44859018]\t -0.4474113166390759\t -0.532432999368964\t -1.7220643534426796\n",
            "6  \t [ 3. -2.]\t 150.89999999999998\t -0.532432999368964\t -1.6760318511194916\n",
            "7  \t [-0.2768587   0.43656733]\t -0.4435169681790669\t -0.532432999368964\t -1.6492473649609372\n",
            "8  \t [-0.27829977  0.4308689 ]\t -0.4272812125689379\t -0.532432999368964\t -1.6113248061545986\n",
            "9  \t [-0.27926537  0.42673586]\t -0.4155979293544724\t -0.532432999368964\t -1.5816074125623265\n",
            "10 \t [-0.27994292  0.42364747]\t -0.40692225224689926\t -0.532432999368964\t -1.5576719040674372\n",
            "11 \t [-0.28043744  0.42128363]\t -0.4003126952762367\t -0.532432999368964\t -1.537970110737201\n",
            "12 \t [-0.28080971  0.4194384 ]\t -0.39517113381596425\t -0.532432999368964\t -1.5214665827111387\n",
            "13 \t [-0.28109758  0.41797365]\t -0.3910996752746887\t -0.532432999368964\t -1.5074392634382179\n",
            "14 \t [-0.28132593  0.41679397]\t -0.3878247810440388\t -0.532432999368964\t -1.4953685962207566\n",
            "15 \t [-0.28151097  0.41583187]\t -0.38515490413079495\t -0.532432999368964\t -1.4848717703205014\n",
            "16 \t [-0.28166378  0.4150384 ]\t -0.3829520027341497\t -0.532432999368964\t -1.475659860141636\n",
            "17 \t [-0.28179059  0.4143779 ]\t -0.38111846885118145\t -0.532432999368964\t -1.467512004613484\n",
            "18 \t [-0.28189817  0.41382289]\t -0.37957581936249674\t -0.532432999368964\t -1.4602535204264786\n",
            "19 \t [-0.28199107  0.41335267]\t -0.378265721218323\t -0.532432999368964\t -1.453746349135375\n",
            "20 \t [-0.28207082  0.41295172]\t -0.37714759624814304\t -0.532432999368964\t -1.4478806910468474\n"
          ]
        }
      ],
      "source": [
        "### Bayesian optimisation runs (x20): 'GP' Acquisition Function run number = 8\n",
        "\n",
        "np.random.seed(run_num_8)\n",
        "surrogate_gp_8 = GaussianProcess(cov_func, optimize=hyperOpt)\n",
        "\n",
        "gp_8 = GPGO_multi(surrogate_gp_8, Acquisition_new(util_gp), f_syn_polarity, param, n_jobs = -1) # define BayesOpt\n",
        "gp_8.run(max_iter = max_iter, init_evals = n_init) # run\n"
      ]
    },
    {
      "cell_type": "code",
      "execution_count": 20,
      "metadata": {
        "id": "YC6sxKgkJLkz",
        "colab": {
          "base_uri": "https://localhost:8080/"
        },
        "outputId": "79341d0d-5c4d-4dc9-c652-e2e4babe02eb"
      },
      "outputs": [
        {
          "output_type": "stream",
          "name": "stdout",
          "text": [
            "Evaluation \t Proposed point \t  Current eval. \t  Best eval. \t Min. ApproxAcqFunc \n",
            "init\t [-2.93775508  0.00749837]\t 92.35857237145763\t 1.395407492769129\t    \n",
            "init\t [-0.02536024 -1.46468188]\t 9.867672894921913\t 1.395407492769129\t    \n",
            "init\t [-2.14733349 -1.1257653 ]\t 10.24680089963123\t 1.395407492769129\t    \n",
            "init\t [-0.48895092 -1.00759533]\t 1.395407492769129\t 1.395407492769129\t    \n",
            "init\t [-2.49564209 -0.61800544]\t 24.58298635463645\t 1.395407492769129\t    \n",
            "1  \t [0.20135091 1.29640467]\t 4.995651459115368\t 1.395407492769129\t -1.797188334362262\n",
            "2  \t [ 3.         -0.22252598]\t 108.04415884598006\t 1.395407492769129\t -1.7964885146806886\n",
            "3  \t [-1.45530652  2.        ]\t 47.30804288459779\t 1.395407492769129\t -1.5553014635334035\n",
            "4  \t [-1.57103754 -2.        ]\t 53.23376345953507\t 1.395407492769129\t -0.76756984273146\n",
            "5  \t [1.97008617 2.        ]\t 55.31971152409345\t 1.395407492769129\t -1.6932020386324889\n",
            "\u001b[1m\u001b[92m6\u001b[0m\t \u001b[1m\u001b[92m[-0.01091924 -0.13740943]\u001b[0m\t \u001b[1m\u001b[92m-0.07212209186401604\u001b[0m\t \u001b[1m\u001b[92m-0.07212209186401604\u001b[0m\t \u001b[1m\u001b[92m-0.7682667193994562\u001b[0m\n",
            "\u001b[1m\u001b[92m7\u001b[0m\t \u001b[1m\u001b[92m[-0.01107287 -0.13779275]\u001b[0m\t \u001b[1m\u001b[92m-0.07248920446511212\u001b[0m\t \u001b[1m\u001b[92m-0.07248920446511212\u001b[0m\t \u001b[1m\u001b[92m-0.9048472111016536\u001b[0m\n",
            "\u001b[1m\u001b[92m8\u001b[0m\t \u001b[1m\u001b[92m[-0.01129822 -0.13835738]\u001b[0m\t \u001b[1m\u001b[92m-0.07303151994989271\u001b[0m\t \u001b[1m\u001b[92m-0.07303151994989271\u001b[0m\t \u001b[1m\u001b[92m-0.9523165486463316\u001b[0m\n",
            "\u001b[1m\u001b[92m9\u001b[0m\t \u001b[1m\u001b[92m[-0.01146994 -0.13878907]\u001b[0m\t \u001b[1m\u001b[92m-0.07344736235966914\u001b[0m\t \u001b[1m\u001b[92m-0.07344736235966914\u001b[0m\t \u001b[1m\u001b[92m-0.975884322350879\u001b[0m\n",
            "\u001b[1m\u001b[92m10\u001b[0m\t \u001b[1m\u001b[92m[-0.01159756 -0.13911066]\u001b[0m\t \u001b[1m\u001b[92m-0.0737578157401453\u001b[0m\t \u001b[1m\u001b[92m-0.0737578157401453\u001b[0m\t \u001b[1m\u001b[92m-0.9898565844982858\u001b[0m\n",
            "\u001b[1m\u001b[92m11\u001b[0m\t \u001b[1m\u001b[92m[-0.01169463 -0.13935533]\u001b[0m\t \u001b[1m\u001b[92m-0.07399436937940544\u001b[0m\t \u001b[1m\u001b[92m-0.07399436937940544\u001b[0m\t \u001b[1m\u001b[92m-0.9990706999637279\u001b[0m\n",
            "\u001b[1m\u001b[92m12\u001b[0m\t \u001b[1m\u001b[92m[-0.01177032 -0.13954635]\u001b[0m\t \u001b[1m\u001b[92m-0.07417929335821631\u001b[0m\t \u001b[1m\u001b[92m-0.07417929335821631\u001b[0m\t \u001b[1m\u001b[92m-1.0055936007911253\u001b[0m\n",
            "\u001b[1m\u001b[92m13\u001b[0m\t \u001b[1m\u001b[92m[-0.01183077 -0.13969904]\u001b[0m\t \u001b[1m\u001b[92m-0.07432724099650222\u001b[0m\t \u001b[1m\u001b[92m-0.07432724099650222\u001b[0m\t \u001b[1m\u001b[92m-1.0104507861979237\u001b[0m\n",
            "\u001b[1m\u001b[92m14\u001b[0m\t \u001b[1m\u001b[92m[-0.01188009 -0.13982353]\u001b[0m\t \u001b[1m\u001b[92m-0.0744479462088253\u001b[0m\t \u001b[1m\u001b[92m-0.0744479462088253\u001b[0m\t \u001b[1m\u001b[92m-1.014207011751904\u001b[0m\n",
            "\u001b[1m\u001b[92m15\u001b[0m\t \u001b[1m\u001b[92m[-0.01192106 -0.13992701]\u001b[0m\t \u001b[1m\u001b[92m-0.07454835032782997\u001b[0m\t \u001b[1m\u001b[92m-0.07454835032782997\u001b[0m\t \u001b[1m\u001b[92m-1.0171982605847185\u001b[0m\n",
            "\u001b[1m\u001b[92m16\u001b[0m\t \u001b[1m\u001b[92m[-0.01195554 -0.14001412]\u001b[0m\t \u001b[1m\u001b[92m-0.07463291022156902\u001b[0m\t \u001b[1m\u001b[92m-0.07463291022156902\u001b[0m\t \u001b[1m\u001b[92m-1.0196366992166292\u001b[0m\n",
            "\u001b[1m\u001b[92m17\u001b[0m\t \u001b[1m\u001b[92m[-0.01198494 -0.14008844]\u001b[0m\t \u001b[1m\u001b[92m-0.07470509634921225\u001b[0m\t \u001b[1m\u001b[92m-0.07470509634921225\u001b[0m\t \u001b[1m\u001b[92m-1.0216627646611813\u001b[0m\n",
            "\u001b[1m\u001b[92m18\u001b[0m\t \u001b[1m\u001b[92m[-0.01201035 -0.14015258]\u001b[0m\t \u001b[1m\u001b[92m-0.07476740208932722\u001b[0m\t \u001b[1m\u001b[92m-0.07476740208932722\u001b[0m\t \u001b[1m\u001b[92m-1.0233730843979882\u001b[0m\n",
            "\u001b[1m\u001b[92m19\u001b[0m\t \u001b[1m\u001b[92m[-0.01203248 -0.14020843]\u001b[0m\t \u001b[1m\u001b[92m-0.07482167390564567\u001b[0m\t \u001b[1m\u001b[92m-0.07482167390564567\u001b[0m\t \u001b[1m\u001b[92m-1.0248362981099637\u001b[0m\n",
            "\u001b[1m\u001b[92m20\u001b[0m\t \u001b[1m\u001b[92m[-0.01205195 -0.14025754]\u001b[0m\t \u001b[1m\u001b[92m-0.0748694060791557\u001b[0m\t \u001b[1m\u001b[92m-0.0748694060791557\u001b[0m\t \u001b[1m\u001b[92m-1.0261024948066597\u001b[0m\n"
          ]
        }
      ],
      "source": [
        "### Bayesian optimisation runs (x20): 'GP' Acquisition Function run number = 9\n",
        "\n",
        "np.random.seed(run_num_9)\n",
        "surrogate_gp_9 = GaussianProcess(cov_func, optimize=hyperOpt)\n",
        "\n",
        "gp_9 = GPGO_multi(surrogate_gp_9, Acquisition_new(util_gp), f_syn_polarity, param, n_jobs = -1) # define BayesOpt\n",
        "gp_9.run(max_iter = max_iter, init_evals = n_init) # run\n"
      ]
    },
    {
      "cell_type": "code",
      "execution_count": 21,
      "metadata": {
        "id": "P-0wfCEIJLk0",
        "colab": {
          "base_uri": "https://localhost:8080/"
        },
        "outputId": "89e8af82-3d99-439b-f1f1-bf59fa0a2efa"
      },
      "outputs": [
        {
          "output_type": "stream",
          "name": "stdout",
          "text": [
            "Evaluation \t Proposed point \t  Current eval. \t  Best eval. \t Min. ApproxAcqFunc \n",
            "init\t [ 1.62792386 -1.9169922 ]\t 38.25414770674631\t 0.7775687473184012\t    \n",
            "init\t [0.80188941 0.99521553]\t 2.552651714051803\t 0.7775687473184012\t    \n",
            "init\t [-0.00895793 -1.10081342]\t 1.0367630165263393\t 0.7775687473184012\t    \n",
            "init\t [-1.81162281  1.04212285]\t 0.7775687473184012\t 0.7775687473184012\t    \n",
            "init\t [-1.98533498 -1.64664074]\t 25.383481436170044\t 0.7775687473184012\t    \n",
            "1  \t [3. 2.]\t 162.89999999999998\t 0.7775687473184012\t -1.7914691317186022\n",
            "2  \t [-3.  2.]\t 150.89999999999998\t 0.7775687473184012\t -1.7185440129964389\n",
            "3  \t [2.55214124 0.2669997 ]\t 29.488456208101837\t 0.7775687473184012\t -1.7968275424928208\n",
            "\u001b[1m\u001b[92m4\u001b[0m\t \u001b[1m\u001b[92m[-1.00040626  0.62364663]\u001b[0m\t \u001b[1m\u001b[92m0.6594243995503161\u001b[0m\t \u001b[1m\u001b[92m0.6594243995503161\u001b[0m\t \u001b[1m\u001b[92m-4.540572540404696\u001b[0m\n",
            "5  \t [-1.07424195  0.61547971]\t 0.7292299291324167\t 0.6594243995503161\t -2.644405719273583\n",
            "6  \t [-1.08601666  0.62910347]\t 0.7036269740616133\t 0.6594243995503161\t -1.911060028655126\n",
            "7  \t [-0.26270172  1.84500712]\t 32.515525340422585\t 0.6594243995503161\t -1.5821350592013799\n",
            "8  \t [-1.47498893  0.28426302]\t 1.4787625526418942\t 0.6594243995503161\t -2.5408302978500092\n",
            "9  \t [-1.41987556  0.33427764]\t 1.3885695433476775\t 0.6594243995503161\t -1.6140409291101745\n",
            "10 \t [-1.39557356  0.35868081]\t 1.3383263794491032\t 0.6594243995503161\t -1.1759340247086012\n",
            "\u001b[1m\u001b[92m11\u001b[0m\t \u001b[1m\u001b[92m[ 0.0277278  -0.23746779]\u001b[0m\t \u001b[1m\u001b[92m-0.21635441645343478\u001b[0m\t \u001b[1m\u001b[92m-0.21635441645343478\u001b[0m\t \u001b[1m\u001b[92m-1.1543464845438067\u001b[0m\n",
            "\u001b[1m\u001b[92m12\u001b[0m\t \u001b[1m\u001b[92m[ 0.0216949  -0.24236967]\u001b[0m\t \u001b[1m\u001b[92m-0.22454522467085256\u001b[0m\t \u001b[1m\u001b[92m-0.22454522467085256\u001b[0m\t \u001b[1m\u001b[92m-1.189567372095435\u001b[0m\n",
            "\u001b[1m\u001b[92m13\u001b[0m\t \u001b[1m\u001b[92m[ 0.01823295 -0.24525553]\u001b[0m\t \u001b[1m\u001b[92m-0.22927107733656565\u001b[0m\t \u001b[1m\u001b[92m-0.22927107733656565\u001b[0m\t \u001b[1m\u001b[92m-1.1977267277247692\u001b[0m\n",
            "\u001b[1m\u001b[92m14\u001b[0m\t \u001b[1m\u001b[92m[ 0.0161505  -0.24704097]\u001b[0m\t \u001b[1m\u001b[92m-0.2321653089831808\u001b[0m\t \u001b[1m\u001b[92m-0.2321653089831808\u001b[0m\t \u001b[1m\u001b[92m-1.2008892423533624\u001b[0m\n",
            "\u001b[1m\u001b[92m15\u001b[0m\t \u001b[1m\u001b[92m[ 0.01480933 -0.24822451]\u001b[0m\t \u001b[1m\u001b[92m-0.2340746631967069\u001b[0m\t \u001b[1m\u001b[92m-0.2340746631967069\u001b[0m\t \u001b[1m\u001b[92m-1.2025118575497555\u001b[0m\n",
            "\u001b[1m\u001b[92m16\u001b[0m\t \u001b[1m\u001b[92m[ 0.01389598 -0.24905368]\u001b[0m\t \u001b[1m\u001b[92m-0.23540971198735067\u001b[0m\t \u001b[1m\u001b[92m-0.23540971198735067\u001b[0m\t \u001b[1m\u001b[92m-1.2035046291518363\u001b[0m\n",
            "\u001b[1m\u001b[92m17\u001b[0m\t \u001b[1m\u001b[92m[ 0.01324603 -0.24966058]\u001b[0m\t \u001b[1m\u001b[92m-0.23638654566715264\u001b[0m\t \u001b[1m\u001b[92m-0.23638654566715264\u001b[0m\t \u001b[1m\u001b[92m-1.204186972840868\u001b[0m\n",
            "\u001b[1m\u001b[92m18\u001b[0m\t \u001b[1m\u001b[92m[ 0.01276677 -0.25011985]\u001b[0m\t \u001b[1m\u001b[92m-0.23712608112021527\u001b[0m\t \u001b[1m\u001b[92m-0.23712608112021527\u001b[0m\t \u001b[1m\u001b[92m-1.2046943792304678\u001b[0m\n",
            "\u001b[1m\u001b[92m19\u001b[0m\t \u001b[1m\u001b[92m[ 0.01240304 -0.25047758]\u001b[0m\t \u001b[1m\u001b[92m-0.23770271792512757\u001b[0m\t \u001b[1m\u001b[92m-0.23770271792512757\u001b[0m\t \u001b[1m\u001b[92m-1.2050928627869104\u001b[0m\n",
            "\u001b[1m\u001b[92m20\u001b[0m\t \u001b[1m\u001b[92m[ 0.01212059 -0.25076254]\u001b[0m\t \u001b[1m\u001b[92m-0.23816269780027083\u001b[0m\t \u001b[1m\u001b[92m-0.23816269780027083\u001b[0m\t \u001b[1m\u001b[92m-1.2054182844958063\u001b[0m\n"
          ]
        }
      ],
      "source": [
        "### Bayesian optimisation runs (x20): 'GP' Acquisition Function run number = 10\n",
        "\n",
        "np.random.seed(run_num_10)\n",
        "surrogate_gp_10 = GaussianProcess(cov_func, optimize=hyperOpt)\n",
        "\n",
        "gp_10 = GPGO_multi(surrogate_gp_10, Acquisition_new(util_gp), f_syn_polarity, param, n_jobs = -1) # define BayesOpt\n",
        "gp_10.run(max_iter = max_iter, init_evals = n_init) # run\n"
      ]
    },
    {
      "cell_type": "code",
      "execution_count": 22,
      "metadata": {
        "id": "Z6wmPCIEJLk2",
        "colab": {
          "base_uri": "https://localhost:8080/"
        },
        "outputId": "340bcc4e-f09f-4ee9-ae01-9605f4e599b1"
      },
      "outputs": [
        {
          "output_type": "stream",
          "name": "stdout",
          "text": [
            "Evaluation \t Proposed point \t  Current eval. \t  Best eval. \t Min. ApproxAcqFunc \n",
            "init\t [-1.91838187 -1.92209903]\t 46.39910375151002\t -0.6254688257880329\t    \n",
            "init\t [-0.22068884  0.89973572]\t -0.6254688257880329\t -0.6254688257880329\t    \n",
            "init\t [-0.47877837 -0.05829161]\t 0.8249470187639529\t -0.6254688257880329\t    \n",
            "init\t [-2.92331511 -0.05051357]\t 88.99028404075307\t -0.6254688257880329\t    \n",
            "init\t [2.65083991 1.40318036]\t 51.423425402262914\t -0.6254688257880329\t    \n",
            "1  \t [ 1.79082158 -2.        ]\t 46.64271171509026\t -0.6254688257880329\t -1.7358831233727563\n",
            "2  \t [-0.42252304  2.        ]\t 47.804023416309825\t -0.6254688257880329\t -1.7010649351114964\n",
            "3  \t [ 0.10293831 -0.00751535]\t 0.041150258723009356\t -0.6254688257880329\t -1.8500281862227193\n",
            "4  \t [ 0.08701192 -0.00331995]\t 0.029831104375613152\t -0.6254688257880329\t -1.5301120659391185\n",
            "5  \t [ 0.07933154 -0.00120373]\t 0.024989587186518426\t -0.6254688257880329\t -1.379489332673361\n",
            "6  \t [7.48406258e-02 7.58606740e-05]\t 0.02234430777582383\t -0.6254688257880329\t -1.2914799861610675\n",
            "7  \t [0.07191254 0.000933  ]\t 0.020693151493602895\t -0.6254688257880329\t -1.2336666877797964\n",
            "8  \t [0.06986277 0.00154672]\t 0.01957172869773505\t -0.6254688257880329\t -1.1927576628616239\n",
            "9  \t [0.06835367 0.00200738]\t 0.018764180803232545\t -0.6254688257880329\t -1.1622757649048654\n",
            "10 \t [0.06720001 0.00236555]\t 0.01815715486790909\t -0.6254688257880329\t -1.1386821492277484\n",
            "11 \t [0.06629184 0.00265186]\t 0.017685573804432392\t -0.6254688257880329\t -1.1198781090310135\n",
            "12 \t [0.06555986 0.00288573]\t 0.017309492791493943\t -0.6254688257880329\t -1.1045395156296862\n",
            "13 \t [0.06495852 0.00308025]\t 0.017003210582149857\t -0.6254688257880329\t -1.0917894072153493\n",
            "14 \t [0.06445647 0.00324453]\t 0.01674934535103305\t -0.6254688257880329\t -1.0810238025054844\n",
            "15 \t [0.06403155 0.00338502]\t 0.016535793863140316\t -0.6254688257880329\t -1.0718131078619153\n",
            "16 \t [0.06366773 0.0035065 ]\t 0.01635390676162079\t -0.6254688257880329\t -1.0638433912374423\n",
            "17 \t [0.063353   0.00361252]\t 0.016197267979225206\t -0.6254688257880329\t -1.0568798983794438\n",
            "18 \t [0.06307836 0.0037058 ]\t 0.016061116449809183\t -0.6254688257880329\t -1.0507435693430478\n",
            "19 \t [0.06283675 0.00378857]\t 0.015941758070353647\t -0.6254688257880329\t -1.0452954411598807\n",
            "20 \t [0.06262278 0.00386241]\t 0.01583637768739848\t -0.6254688257880329\t -1.0404260210530578\n"
          ]
        }
      ],
      "source": [
        "### Bayesian optimisation runs (x20): 'GP' Acquisition Function run number = 11\n",
        "\n",
        "np.random.seed(run_num_11)\n",
        "surrogate_gp_11 = GaussianProcess(cov_func, optimize=hyperOpt)\n",
        "\n",
        "gp_11 = GPGO_multi(surrogate_gp_11, Acquisition_new(util_gp), f_syn_polarity, param, n_jobs = -1) # define BayesOpt\n",
        "gp_11.run(max_iter = max_iter, init_evals = n_init) # run\n"
      ]
    },
    {
      "cell_type": "code",
      "execution_count": 23,
      "metadata": {
        "id": "oNR6-n7iJLk3",
        "colab": {
          "base_uri": "https://localhost:8080/"
        },
        "outputId": "1556b0b4-0ef3-417e-d9f7-79315a683062"
      },
      "outputs": [
        {
          "output_type": "stream",
          "name": "stdout",
          "text": [
            "Evaluation \t Proposed point \t  Current eval. \t  Best eval. \t Min. ApproxAcqFunc \n",
            "init\t [-2.07502295  0.96019879]\t 2.6185857163917037\t 1.9967735906956543\t    \n",
            "init\t [-1.42010991  0.13495757]\t 1.9967735906956543\t 1.9967735906956543\t    \n",
            "init\t [-2.91255023  1.67498803]\t 101.67816714332157\t 1.9967735906956543\t    \n",
            "init\t [ 2.40428912 -1.86631429]\t 47.44624883788006\t 1.9967735906956543\t    \n",
            "init\t [ 2.74169602 -1.45116271]\t 58.32400185681089\t 1.9967735906956543\t    \n",
            "\u001b[1m\u001b[92m1\u001b[0m\t \u001b[1m\u001b[92m[-1.20620877  0.96371607]\u001b[0m\t \u001b[1m\u001b[92m0.9738631308602099\u001b[0m\t \u001b[1m\u001b[92m0.9738631308602099\u001b[0m\t \u001b[1m\u001b[92m-2.182732845123725\u001b[0m\n",
            "2  \t [1.94741903 2.        ]\t 55.04285512802241\t 0.9738631308602099\t -1.7968181868323168\n",
            "3  \t [-3. -2.]\t 162.89999999999998\t 0.9738631308602099\t -1.7965634986653483\n",
            "4  \t [-0.16313546 -2.        ]\t 48.431242571474655\t 0.9738631308602099\t -1.7838341147401664\n",
            "5  \t [-0.42785092  2.        ]\t 47.808198252070845\t 0.9738631308602099\t -1.664324465927858\n",
            "6  \t [-1.22068356  0.26098004]\t 1.8279769018667624\t 0.9738631308602099\t -1.1089079921523954\n",
            "7  \t [-1.23287885  0.26819456]\t 1.801093440005219\t 0.9738631308602099\t -0.5521478346712958\n",
            "8  \t [-1.23917574  0.27210575]\t 1.786054206658787\t 0.9738631308602099\t -0.2491776709861843\n",
            "9  \t [-1.24296213  0.27454599]\t 1.7765435752673517\t 0.9738631308602099\t -0.058479042720558885\n",
            "10 \t [-1.24546232  0.27620617]\t 1.770031228975807\t 0.9738631308602099\t 0.07260047586466399\n",
            "11 \t [-1.24722217  0.27740441]\t 1.765316093805643\t 0.9738631308602099\t 0.1682158793325792\n",
            "12 \t [-1.24851982  0.27830739]\t 1.7617579060085276\t 0.9738631308602099\t 0.24102254191669126\n",
            "13 \t [-1.24951132  0.27901062]\t 1.7589856984775816\t 0.9738631308602099\t 0.2982953013827231\n",
            "14 \t [-1.25029036  0.27957271]\t 1.756770285843761\t 0.9738631308602099\t 0.34451398375875597\n",
            "15 \t [-1.25091658  0.28003151]\t 1.7549628875840113\t 0.9738631308602099\t 0.3825881557826698\n",
            "16 \t [-1.25142939  0.28041261]\t 1.7534627919035974\t 0.9738631308602099\t 0.4144896147624424\n",
            "17 \t [-1.2518561   0.28073382]\t 1.752199478569328\t 0.9738631308602099\t 0.4416019136347242\n",
            "18 \t [0.82926719 0.01275953]\t 1.8759606144329561\t 0.9738631308602099\t -1.6122022383478891\n",
            "19 \t [-2.05072303  0.1526284 ]\t 4.0699130587374\t 0.9738631308602099\t -1.1720403443412917\n",
            "20 \t [3.         0.43909147]\t 109.59475853142216\t 0.9738631308602099\t -1.0531407378079447\n"
          ]
        }
      ],
      "source": [
        "### Bayesian optimisation runs (x20): 'GP' Acquisition Function run number = 12\n",
        "\n",
        "np.random.seed(run_num_12)\n",
        "surrogate_gp_12 = GaussianProcess(cov_func, optimize=hyperOpt)\n",
        "\n",
        "gp_12 = GPGO_multi(surrogate_gp_12, Acquisition_new(util_gp), f_syn_polarity, param, n_jobs = -1) # define BayesOpt\n",
        "gp_12.run(max_iter = max_iter, init_evals = n_init) # run\n"
      ]
    },
    {
      "cell_type": "code",
      "execution_count": 24,
      "metadata": {
        "id": "z1CyiX30JLk4",
        "colab": {
          "base_uri": "https://localhost:8080/"
        },
        "outputId": "2748e4b4-a776-4025-f5d3-c1d3ff67a742"
      },
      "outputs": [
        {
          "output_type": "stream",
          "name": "stdout",
          "text": [
            "Evaluation \t Proposed point \t  Current eval. \t  Best eval. \t Min. ApproxAcqFunc \n",
            "init\t [ 1.66621446 -1.04983512]\t 0.752930921147986\t 0.752930921147986\t    \n",
            "init\t [1.9456712  1.86299679]\t 41.05776363102951\t 0.752930921147986\t    \n",
            "init\t [ 2.83560668 -0.18620301]\t 69.0134544723513\t 0.752930921147986\t    \n",
            "init\t [0.65425478 1.10210606]\t 3.117452174069064\t 0.752930921147986\t    \n",
            "init\t [0.84968007 0.88807292]\t 2.006601529383926\t 0.752930921147986\t    \n",
            "1  \t [ 0.66474215 -1.56248045]\t 14.422881024510184\t 0.752930921147986\t -3.5450429159038053\n",
            "2  \t [-3.  2.]\t 150.89999999999998\t 0.752930921147986\t -1.7968275413855492\n",
            "3  \t [-3. -2.]\t 162.89999999999998\t 0.752930921147986\t -1.7968275222980266\n",
            "4  \t [-1.32681869 -1.1815997 ]\t 6.132474358637779\t 0.752930921147986\t -1.7968275424952864\n",
            "\u001b[1m\u001b[92m5\u001b[0m\t \u001b[1m\u001b[92m[-0.27789632  0.58499714]\u001b[0m\t \u001b[1m\u001b[92m-0.7664577487616466\u001b[0m\t \u001b[1m\u001b[92m-0.7664577487616466\u001b[0m\t \u001b[1m\u001b[92m-1.7418512261960626\u001b[0m\n",
            "\u001b[1m\u001b[92m6\u001b[0m\t \u001b[1m\u001b[92m[-0.24865453  0.58791192]\u001b[0m\t \u001b[1m\u001b[92m-0.8115123185655109\u001b[0m\t \u001b[1m\u001b[92m-0.8115123185655109\u001b[0m\t \u001b[1m\u001b[92m-1.7719117535985487\u001b[0m\n",
            "\u001b[1m\u001b[92m7\u001b[0m\t \u001b[1m\u001b[92m[-0.23519885  0.5891109 ]\u001b[0m\t \u001b[1m\u001b[92m-0.8300812740440238\u001b[0m\t \u001b[1m\u001b[92m-0.8300812740440238\u001b[0m\t \u001b[1m\u001b[92m-1.7840345794786783\u001b[0m\n",
            "\u001b[1m\u001b[92m8\u001b[0m\t \u001b[1m\u001b[92m[-0.22825402  0.59016956]\u001b[0m\t \u001b[1m\u001b[92m-0.8399106563255192\u001b[0m\t \u001b[1m\u001b[92m-0.8399106563255192\u001b[0m\t \u001b[1m\u001b[92m-1.7915734974852173\u001b[0m\n",
            "\u001b[1m\u001b[92m9\u001b[0m\t \u001b[1m\u001b[92m[-0.22438775  0.591217  ]\u001b[0m\t \u001b[1m\u001b[92m-0.8459877741287785\u001b[0m\t \u001b[1m\u001b[92m-0.8459877741287785\u001b[0m\t \u001b[1m\u001b[92m-1.7969178191615451\u001b[0m\n",
            "\u001b[1m\u001b[92m10\u001b[0m\t \u001b[1m\u001b[92m[-0.22206746  0.59215132]\u001b[0m\t \u001b[1m\u001b[92m-0.8500788313525758\u001b[0m\t \u001b[1m\u001b[92m-0.8500788313525758\u001b[0m\t \u001b[1m\u001b[92m-1.8009806066572644\u001b[0m\n",
            "\u001b[1m\u001b[92m11\u001b[0m\t \u001b[1m\u001b[92m[-0.22056965  0.59292237]\u001b[0m\t \u001b[1m\u001b[92m-0.8529675773986611\u001b[0m\t \u001b[1m\u001b[92m-0.8529675773986611\u001b[0m\t \u001b[1m\u001b[92m-1.8042029495207057\u001b[0m\n",
            "\u001b[1m\u001b[92m12\u001b[0m\t \u001b[1m\u001b[92m[-0.2195284  0.5935231]\u001b[0m\t \u001b[1m\u001b[92m-0.8550673184498472\u001b[0m\t \u001b[1m\u001b[92m-0.8550673184498472\u001b[0m\t \u001b[1m\u001b[92m-1.8068314507549048\u001b[0m\n",
            "\u001b[1m\u001b[92m13\u001b[0m\t \u001b[1m\u001b[92m[-0.21876843  0.59398922]\u001b[0m\t \u001b[1m\u001b[92m-0.8566371364846875\u001b[0m\t \u001b[1m\u001b[92m-0.8566371364846875\u001b[0m\t \u001b[1m\u001b[92m-1.809018262410918\u001b[0m\n",
            "\u001b[1m\u001b[92m14\u001b[0m\t \u001b[1m\u001b[92m[-0.21817882  0.59433696]\u001b[0m\t \u001b[1m\u001b[92m-0.8578280975498078\u001b[0m\t \u001b[1m\u001b[92m-0.8578280975498078\u001b[0m\t \u001b[1m\u001b[92m-1.8108665880448571\u001b[0m\n",
            "\u001b[1m\u001b[92m15\u001b[0m\t \u001b[1m\u001b[92m[-0.2177294   0.59462589]\u001b[0m\t \u001b[1m\u001b[92m-0.8587717451112349\u001b[0m\t \u001b[1m\u001b[92m-0.8587717451112349\u001b[0m\t \u001b[1m\u001b[92m-1.812447968871434\u001b[0m\n",
            "\u001b[1m\u001b[92m16\u001b[0m\t \u001b[1m\u001b[92m[-0.21737342  0.594858  ]\u001b[0m\t \u001b[1m\u001b[92m-0.8595227287356434\u001b[0m\t \u001b[1m\u001b[92m-0.8595227287356434\u001b[0m\t \u001b[1m\u001b[92m-1.8138170963030573\u001b[0m\n",
            "\u001b[1m\u001b[92m17\u001b[0m\t \u001b[1m\u001b[92m[-0.21704566  0.59500106]\u001b[0m\t \u001b[1m\u001b[92m-0.860099362101288\u001b[0m\t \u001b[1m\u001b[92m-0.860099362101288\u001b[0m\t \u001b[1m\u001b[92m-1.8150139837274584\u001b[0m\n",
            "\u001b[1m\u001b[92m18\u001b[0m\t \u001b[1m\u001b[92m[-0.26374861  0.66976234]\u001b[0m\t \u001b[1m\u001b[92m-0.897869966256327\u001b[0m\t \u001b[1m\u001b[92m-0.897869966256327\u001b[0m\t \u001b[1m\u001b[92m-1.8160742911826209\u001b[0m\n",
            "19 \t [-0.20636227  0.58240214]\t -0.8501903895375283\t -0.897869966256327\t -1.8201295592873676\n",
            "\u001b[1m\u001b[92m20\u001b[0m\t \u001b[1m\u001b[92m[-0.2640991   0.67125492]\u001b[0m\t \u001b[1m\u001b[92m-0.8986194348823893\u001b[0m\t \u001b[1m\u001b[92m-0.8986194348823893\u001b[0m\t \u001b[1m\u001b[92m-1.8201898214087815\u001b[0m\n"
          ]
        }
      ],
      "source": [
        "### Bayesian optimisation runs (x20): 'GP' Acquisition Function run number = 13\n",
        "\n",
        "np.random.seed(run_num_13)\n",
        "surrogate_gp_13 = GaussianProcess(cov_func, optimize=hyperOpt)\n",
        "\n",
        "gp_13 = GPGO_multi(surrogate_gp_13, Acquisition_new(util_gp), f_syn_polarity, param, n_jobs = -1) # define BayesOpt\n",
        "gp_13.run(max_iter = max_iter, init_evals = n_init) # run\n"
      ]
    },
    {
      "cell_type": "code",
      "execution_count": 25,
      "metadata": {
        "id": "Dx5l3xHMJLk5",
        "colab": {
          "base_uri": "https://localhost:8080/"
        },
        "outputId": "5435fba4-529d-40fb-ad54-b50e7d8e56fb"
      },
      "outputs": [
        {
          "output_type": "stream",
          "name": "stdout",
          "text": [
            "Evaluation \t Proposed point \t  Current eval. \t  Best eval. \t Min. ApproxAcqFunc \n",
            "init\t [0.08366006 1.09266021]\t 1.0453292732107575\t -1.029299726828387\t    \n",
            "init\t [ 2.22256611 -1.96781221]\t 48.81113313056442\t -1.029299726828387\t    \n",
            "init\t [-1.14158445  1.83041496]\t 31.794043287944216\t -1.029299726828387\t    \n",
            "init\t [ 0.07870027 -0.7268623 ]\t -1.029299726828387\t -1.029299726828387\t    \n",
            "init\t [ 0.23519962 -1.11498023]\t 1.161934062902255\t -1.029299726828387\t    \n",
            "1  \t [-1.4544454   0.80460528]\t 0.13632292703505466\t -1.029299726828387\t -1.7968275424952864\n",
            "2  \t [-1.62889462 -1.85708112]\t 38.86111235771161\t -1.029299726828387\t -1.7968275424952864\n",
            "3  \t [-0.15386684 -1.39029353]\t 7.520441668707877\t -1.029299726828387\t -1.7968275424952864\n",
            "4  \t [0.42921709 0.75222473]\t 0.007928470491904593\t -1.029299726828387\t -1.7968275424952864\n",
            "5  \t [ 0.10522438 -0.47086653]\t -0.6957454314714512\t -1.029299726828387\t -2.0367727506381974\n",
            "6  \t [ 0.38027662 -0.58066336]\t -0.5792244162257356\t -1.029299726828387\t -1.9880738934979332\n",
            "7  \t [-0.17086258 -0.44532944]\t -0.44486792413045284\t -1.029299726828387\t -1.95826425460033\n",
            "8  \t [ 0.24576187 -0.22265303]\t -0.009178457572516258\t -1.029299726828387\t -1.888916843411033\n",
            "9  \t [ 0.79488725 -0.75242215]\t 0.1924924454670347\t -1.029299726828387\t -1.832254476009417\n",
            "10 \t [-0.76921863 -0.21414939]\t 1.690319838578644\t -1.029299726828387\t -1.8047469114274717\n",
            "11 \t [ 0.13843375 -0.55919425]\t -0.8611967988245149\t -1.029299726828387\t -1.8162412947799356\n",
            "12 \t [ 0.14202984 -0.55356874]\t -0.8489207369781606\t -1.029299726828387\t -1.81651959653012\n",
            "13 \t [1.19604938 0.61875139]\t 2.195416882207646\t -1.029299726828387\t -1.8014800629125665\n",
            "14 \t [ 0.14132362 -0.55182791]\t -0.8460728348106419\t -1.029299726828387\t -1.8174693916240794\n",
            "15 \t [ 0.14274001 -0.54932724]\t -0.8405853448896611\t -1.029299726828387\t -1.8164912230478767\n",
            "16 \t [0.36414864 0.13916005]\t 0.46898095853155075\t -1.029299726828387\t -1.7968275424952864\n",
            "17 \t [-2.18507848  0.41553601]\t 6.02736877361248\t -1.029299726828387\t -1.7999526115306401\n",
            "18 \t [3. 2.]\t 162.89999999999998\t -1.029299726828387\t -1.7968275394377253\n",
            "19 \t [ 3.         -0.10622715]\t 108.536691040989\t -1.029299726828387\t -1.7968189610006209\n",
            "20 \t [0.26306862 0.06027367]\t 0.2682505034937208\t -1.029299726828387\t -2.8900845232769226\n"
          ]
        }
      ],
      "source": [
        "### Bayesian optimisation runs (x20): 'GP' Acquisition Function run number = 14\n",
        "\n",
        "np.random.seed(run_num_14)\n",
        "surrogate_gp_14 = GaussianProcess(cov_func, optimize=hyperOpt)\n",
        "\n",
        "gp_14 = GPGO_multi(surrogate_gp_14, Acquisition_new(util_gp), f_syn_polarity, param, n_jobs = -1) # define BayesOpt\n",
        "gp_14.run(max_iter = max_iter, init_evals = n_init) # run\n"
      ]
    },
    {
      "cell_type": "code",
      "execution_count": 26,
      "metadata": {
        "id": "mNCLg6LHJLk6",
        "colab": {
          "base_uri": "https://localhost:8080/"
        },
        "outputId": "06fdf00d-43a5-4487-f761-1775a241d762"
      },
      "outputs": [
        {
          "output_type": "stream",
          "name": "stdout",
          "text": [
            "Evaluation \t Proposed point \t  Current eval. \t  Best eval. \t Min. ApproxAcqFunc \n",
            "init\t [ 2.09290618 -1.2844163 ]\t 6.84252100896936\t 2.1163170846379233\t    \n",
            "init\t [-2.67382071 -0.55384622]\t 43.69785230561242\t 2.1163170846379233\t    \n",
            "init\t [-1.34759443  0.1200009 ]\t 2.1163170846379233\t 2.1163170846379233\t    \n",
            "init\t [-1.16448651 -0.78210256]\t 2.3544087277459513\t 2.1163170846379233\t    \n",
            "init\t [-2.32955234 -1.00040394]\t 15.469119251600274\t 2.1163170846379233\t    \n",
            "1  \t [-0.2458633   1.39571724]\t 7.278163944674452\t 2.1163170846379233\t -1.798840566769923\n",
            "2  \t [3. 2.]\t 162.89999999999998\t 2.1163170846379233\t -1.7967715674705798\n",
            "3  \t [-3.  2.]\t 150.89999999999998\t 2.1163170846379233\t -1.7752448973695771\n",
            "\u001b[1m\u001b[92m4\u001b[0m\t \u001b[1m\u001b[92m[-0.22060124 -0.56132222]\u001b[0m\t \u001b[1m\u001b[92m-0.5496692304955866\u001b[0m\t \u001b[1m\u001b[92m-0.5496692304955866\u001b[0m\t \u001b[1m\u001b[92m-2.202151432699387\u001b[0m\n",
            "5  \t [-0.24464718 -0.54891996]\t -0.4758447401610092\t -0.5496692304955866\t -1.92893469317841\n",
            "6  \t [-0.25653182 -0.5434592 ]\t -0.43882080871807816\t -0.5496692304955866\t -1.7909072236675105\n",
            "7  \t [-0.26348016 -0.54101849]\t -0.41788286278657183\t -0.5496692304955866\t -1.70600381762812\n",
            "8  \t [-0.26318321 -2.        ]\t 48.793463644953\t -0.5496692304955866\t -1.6874408943782897\n",
            "9  \t [-0.2954102   0.07785741]\t 0.2861975929386271\t -0.5496692304955866\t -3.7983677544714616\n",
            "10 \t [-0.32179739  0.04216948]\t 0.37139493468108037\t -0.5496692304955866\t -2.9779045283464405\n",
            "11 \t [-0.33518016  0.02066411]\t 0.41471684806611747\t -0.5496692304955866\t -2.499260267921133\n",
            "12 \t [-0.34276295  0.00637191]\t 0.43915342773902377\t -0.5496692304955866\t -2.18068310513545\n",
            "13 \t [-0.34737966 -0.00375626]\t 0.4539446966442675\t -0.5496692304955866\t -1.951659474067688\n",
            "14 \t [-0.35033729 -0.0112702 ]\t 0.4633667710627396\t -0.5496692304955866\t -1.7783796469066062\n",
            "15 \t [-0.35230582 -0.01704066]\t 0.46960546477913745\t -0.5496692304955866\t -1.6423783651549748\n",
            "16 \t [-0.35365541 -0.02159403]\t 0.47386288841610824\t -0.5496692304955866\t -1.532633333422173\n",
            "17 \t [-0.35460262 -0.02526652]\t 0.47683866282941334\t -0.5496692304955866\t -1.4421242057850001\n",
            "18 \t [-0.35528011 -0.02828269]\t 0.47895914656317123\t -0.5496692304955866\t -1.366152153138715\n",
            "19 \t [-0.35577206 -0.03079773]\t 0.4804936196688807\t -0.5496692304955866\t -1.301446149408984\n",
            "20 \t [-0.35613369 -0.03292232]\t 0.48161790409897903\t -0.5496692304955866\t -1.2456551943059135\n"
          ]
        }
      ],
      "source": [
        "### Bayesian optimisation runs (x20): 'GP' Acquisition Function run number = 15\n",
        "\n",
        "np.random.seed(run_num_15)\n",
        "surrogate_gp_15 = GaussianProcess(cov_func, optimize=hyperOpt)\n",
        "\n",
        "gp_15 = GPGO_multi(surrogate_gp_15, Acquisition_new(util_gp), f_syn_polarity, param, n_jobs = -1) # define BayesOpt\n",
        "gp_15.run(max_iter = max_iter, init_evals = n_init) # run\n"
      ]
    },
    {
      "cell_type": "code",
      "execution_count": 27,
      "metadata": {
        "id": "5xwjkr9RJLk6",
        "colab": {
          "base_uri": "https://localhost:8080/"
        },
        "outputId": "5c207246-5eb6-4c5c-efcd-aeabd2cf7915"
      },
      "outputs": [
        {
          "output_type": "stream",
          "name": "stdout",
          "text": [
            "Evaluation \t Proposed point \t  Current eval. \t  Best eval. \t Min. ApproxAcqFunc \n",
            "init\t [-1.66025353  0.09265337]\t 1.8632773736203017\t 1.8632773736203017\t    \n",
            "init\t [ 0.30420874 -1.8175922 ]\t 30.24114424375299\t 1.8632773736203017\t    \n",
            "init\t [-0.83562699 -1.10767623]\t 3.922061281476444\t 1.8632773736203017\t    \n",
            "init\t [ 1.13235697 -1.3450743 ]\t 6.7121671493737685\t 1.8632773736203017\t    \n",
            "init\t [-2.5780508   1.76404344]\t 53.42443470756798\t 1.8632773736203017\t    \n",
            "1  \t [ 3.         -0.01515769]\t 108.85360813425224\t 1.8632773736203017\t -1.798128181328436\n",
            "2  \t [-3. -2.]\t 162.89999999999998\t 1.8632773736203017\t -1.7908885323868373\n",
            "3  \t [0.52099344 2.        ]\t 49.97966900644081\t 1.8632773736203017\t -1.7829608310601939\n",
            "4  \t [-0.8550341   0.00257994]\t 1.92993727478897\t 1.8632773736203017\t -0.9409587035639252\n",
            "5  \t [-1.03355993 -0.07999591]\t 2.3401598949873113\t 1.8632773736203017\t -0.16206380435217702\n",
            "6  \t [ 2.29961871 -2.        ]\t 55.12233124526668\t 1.8632773736203017\t 0.08033970539183076\n",
            "\u001b[1m\u001b[92m7\u001b[0m\t \u001b[1m\u001b[92m[-0.78774066 -0.15097533]\u001b[0m\t \u001b[1m\u001b[92m1.7829887639095934\u001b[0m\t \u001b[1m\u001b[92m1.7829887639095934\u001b[0m\t \u001b[1m\u001b[92m0.2524117042508332\u001b[0m\n",
            "8  \t [-0.79839482 -0.14936877]\t 1.8147968480899022\t 1.7829887639095934\t 0.3798929975365915\n",
            "9  \t [-0.80527721 -0.14830525]\t 1.835085171241766\t 1.7829887639095934\t 0.4656202906792472\n",
            "10 \t [-0.81006185 -0.14755886]\t 1.849063527058154\t 1.7829887639095934\t 0.5276397742271315\n",
            "11 \t [-0.81356363 -0.14701179]\t 1.8592260323938619\t 1.7829887639095934\t 0.574791360307321\n",
            "12 \t [-0.8162262  -0.14659721]\t 1.8669134534250797\t 1.7829887639095934\t 0.611955623201864\n",
            "13 \t [-0.81831139 -0.14627461]\t 1.8729093373994237\t 1.7829887639095934\t 0.6420631869978836\n",
            "14 \t [-0.81998339 -0.14601804]\t 1.8777011891642204\t 1.7829887639095934\t 0.6669872636488384\n",
            "15 \t [-0.82135025 -0.14581029]\t 1.881607781288768\t 1.7829887639095934\t 0.6879846030021303\n",
            "16 \t [-0.82248572 -0.14563952]\t 1.8848455398726374\t 1.7829887639095934\t 0.7059316658042145\n",
            "17 \t [-0.82344205 -0.1454973 ]\t 1.8875670896260015\t 1.7829887639095934\t 0.7214593590089953\n",
            "18 \t [-0.82425692 -0.1453775 ]\t 1.889882102011064\t 1.7829887639095934\t 0.7350340469544563\n",
            "19 \t [-0.82495842 -0.14527558]\t 1.8918720425003446\t 1.7829887639095934\t 0.7470082468289866\n",
            "20 \t [-0.82556775 -0.14518816]\t 1.8935982399654916\t 1.7829887639095934\t 0.7576536295980413\n"
          ]
        }
      ],
      "source": [
        "### Bayesian optimisation runs (x20): 'GP' Acquisition Function run number = 16\n",
        "\n",
        "np.random.seed(run_num_16)\n",
        "surrogate_gp_16 = GaussianProcess(cov_func, optimize=hyperOpt)\n",
        "\n",
        "gp_16 = GPGO_multi(surrogate_gp_16, Acquisition_new(util_gp), f_syn_polarity, param, n_jobs = -1) # define BayesOpt\n",
        "gp_16.run(max_iter = max_iter, init_evals = n_init) # run\n"
      ]
    },
    {
      "cell_type": "code",
      "execution_count": 28,
      "metadata": {
        "id": "zbpfP0FWJLk7",
        "colab": {
          "base_uri": "https://localhost:8080/"
        },
        "outputId": "9c11c862-b770-4567-af1a-a9fa0c409734"
      },
      "outputs": [
        {
          "output_type": "stream",
          "name": "stdout",
          "text": [
            "Evaluation \t Proposed point \t  Current eval. \t  Best eval. \t Min. ApproxAcqFunc \n",
            "init\t [-1.23200998  0.12234702]\t 2.189206652278967\t 1.7722768782964888\t    \n",
            "init\t [-1.85087528 -1.72839857]\t 29.406067820453675\t 1.7722768782964888\t    \n",
            "init\t [1.72191276 0.62533409]\t 2.2113401446731897\t 1.7722768782964888\t    \n",
            "init\t [0.82512538 0.30241158]\t 1.7722768782964888\t 1.7722768782964888\t    \n",
            "init\t [-2.7656225  -0.56874558]\t 57.5922315952177\t 1.7722768782964888\t    \n",
            "1  \t [-0.59254737  1.22206697]\t 3.3836107625435465\t 1.7722768782964888\t -2.257146187138533\n",
            "2  \t [ 3. -2.]\t 150.89999999999998\t 1.7722768782964888\t -1.780583333937893\n",
            "3  \t [3. 2.]\t 162.89999999999998\t 1.7722768782964888\t -1.6807259916834714\n",
            "4  \t [-3.  2.]\t 150.89999999999998\t 1.7722768782964888\t -1.3449657009823073\n",
            "\u001b[1m\u001b[92m5\u001b[0m\t \u001b[1m\u001b[92m[0.20173648 0.26452491]\u001b[0m\t \u001b[1m\u001b[92m-0.047609584923095194\u001b[0m\t \u001b[1m\u001b[92m-0.047609584923095194\u001b[0m\t \u001b[1m\u001b[92m-2.077868028962675\u001b[0m\n",
            "6  \t [0.37608799 0.28321692]\t 0.3361024962351105\t -0.047609584923095194\t -1.71404320862823\n",
            "7  \t [0.46584412 0.27990719]\t 0.6141075173981134\t -0.047609584923095194\t -1.4428145612179395\n",
            "\u001b[1m\u001b[92m8\u001b[0m\t \u001b[1m\u001b[92m[-0.01102503  0.31496071]\u001b[0m\t \u001b[1m\u001b[92m-0.3604245243133888\u001b[0m\t \u001b[1m\u001b[92m-0.3604245243133888\u001b[0m\t \u001b[1m\u001b[92m-1.248223232652253\u001b[0m\n",
            "\u001b[1m\u001b[92m9\u001b[0m\t \u001b[1m\u001b[92m[-0.0033498   0.31675822]\u001b[0m\t \u001b[1m\u001b[92m-0.36209020451087864\u001b[0m\t \u001b[1m\u001b[92m-0.36209020451087864\u001b[0m\t \u001b[1m\u001b[92m-1.2678091254667478\u001b[0m\n",
            "\u001b[1m\u001b[92m10\u001b[0m\t \u001b[1m\u001b[92m[0.00273264 0.31809729]\u001b[0m\t \u001b[1m\u001b[92m-0.3628900845125857\u001b[0m\t \u001b[1m\u001b[92m-0.3628900845125857\u001b[0m\t \u001b[1m\u001b[92m-1.2800775193838119\u001b[0m\n",
            "\u001b[1m\u001b[92m11\u001b[0m\t \u001b[1m\u001b[92m[0.00763372 0.31911811]\u001b[0m\t \u001b[1m\u001b[92m-0.36319375387910796\u001b[0m\t \u001b[1m\u001b[92m-0.36319375387910796\u001b[0m\t \u001b[1m\u001b[92m-1.2884580069869036\u001b[0m\n",
            "\u001b[1m\u001b[92m12\u001b[0m\t \u001b[1m\u001b[92m[0.01165496 0.31991524]\u001b[0m\t \u001b[1m\u001b[92m-0.3632125148565732\u001b[0m\t \u001b[1m\u001b[92m-0.3632125148565732\u001b[0m\t \u001b[1m\u001b[92m-1.2945205602345597\u001b[0m\n",
            "13 \t [0.01500896 0.32055101]\t -0.3630670176935917\t -0.3632125148565732\t -1.2990889555247007\n",
            "14 \t [0.01784554 0.32106714]\t -0.36282783508185407\t -0.3632125148565732\t -1.302638313562696\n",
            "15 \t [0.02027379 0.32149266]\t -0.36253737728702895\t -0.3632125148565732\t -1.3054623808984196\n",
            "16 \t [0.02237344 0.32184778]\t -0.3622211441487047\t -0.3632125148565732\t -1.3077526926054688\n",
            "17 \t [0.02420702 0.32214893]\t -0.36189717546317485\t -0.3632125148565732\t -1.3096394691301394\n",
            "18 \t [0.02581723 0.32240351]\t -0.3615699130763796\t -0.3632125148565732\t -1.311214470939103\n",
            "19 \t [0.02724342 0.32262319]\t -0.3612505155964408\t -0.3632125148565732\t -1.3125437477666062\n",
            "20 \t [0.02851346 0.32281332]\t -0.36094096014035537\t -0.3632125148565732\t -1.3136765506796708\n"
          ]
        }
      ],
      "source": [
        "### Bayesian optimisation runs (x20): 'GP' Acquisition Function run number = 17\n",
        "\n",
        "np.random.seed(run_num_17)\n",
        "surrogate_gp_17 = GaussianProcess(cov_func, optimize=hyperOpt)\n",
        "\n",
        "gp_17 = GPGO_multi(surrogate_gp_17, Acquisition_new(util_gp), f_syn_polarity, param, n_jobs = -1) # define BayesOpt\n",
        "gp_17.run(max_iter = max_iter, init_evals = n_init) # run\n"
      ]
    },
    {
      "cell_type": "code",
      "execution_count": 29,
      "metadata": {
        "id": "1d-1rDI5JLk8",
        "colab": {
          "base_uri": "https://localhost:8080/"
        },
        "outputId": "142d9884-c679-4ce3-c493-0f7e0a75b838"
      },
      "outputs": [
        {
          "output_type": "stream",
          "name": "stdout",
          "text": [
            "Evaluation \t Proposed point \t  Current eval. \t  Best eval. \t Min. ApproxAcqFunc \n",
            "init\t [0.90224545 0.02181349]\t 2.062169771852028\t 2.062169771852028\t    \n",
            "init\t [ 2.27160883 -1.2726391 ]\t 11.64729291207819\t 2.062169771852028\t    \n",
            "init\t [2.11339841 1.00054514]\t 7.792128760671214\t 2.062169771852028\t    \n",
            "init\t [0.99661    1.95158179]\t 46.96206222999227\t 2.062169771852028\t    \n",
            "init\t [-1.45818946 -1.8867763 ]\t 41.4190528039297\t 2.062169771852028\t    \n",
            "1  \t [-3.  2.]\t 150.89999999999998\t 2.062169771852028\t -1.7940725446546302\n",
            "2  \t [3.         0.49952475]\t 109.6495252049931\t 2.062169771852028\t -0.05067048848448348\n",
            "\u001b[1m\u001b[92m3\u001b[0m\t \u001b[1m\u001b[92m[-1.0372645   0.47353814]\u001b[0m\t \u001b[1m\u001b[92m1.1008670508560152\u001b[0m\t \u001b[1m\u001b[92m1.1008670508560152\u001b[0m\t \u001b[1m\u001b[92m-1.7951242504224858\u001b[0m\n",
            "4  \t [-3.         -0.36843274]\t 109.53603178592283\t 1.1008670508560152\t -1.7919961994362998\n",
            "\u001b[1m\u001b[92m5\u001b[0m\t \u001b[1m\u001b[92m[ 0.02957262 -0.06001525]\u001b[0m\t \u001b[1m\u001b[92m-0.012633682564244743\u001b[0m\t \u001b[1m\u001b[92m-0.012633682564244743\u001b[0m\t \u001b[1m\u001b[92m-1.2782005685913602\u001b[0m\n",
            "6  \t [ 0.03266931 -0.05927882]\t -0.011676373812428123\t -0.012633682564244743\t -1.1766266216258465\n",
            "7  \t [ 0.03438525 -0.05900571]\t -0.01118068862037316\t -0.012633682564244743\t -1.1265566499169322\n",
            "8  \t [ 0.03545868 -0.0588657 ]\t -0.010874000485625175\t -0.012633682564244743\t -1.0967250178626002\n",
            "9  \t [ 0.03618431 -0.05877691]\t -0.010664342872306302\t -0.012633682564244743\t -1.0769123777618355\n",
            "10 \t [ 0.03670226 -0.05871231]\t -0.010511473640817304\t -0.012633682564244743\t -1.0627910368109699\n",
            "11 \t [ 0.03708726 -0.05866102]\t -0.010394788298833325\t -0.012633682564244743\t -1.0522133971260739\n",
            "12 \t [ 0.03738292 -0.0586184 ]\t -0.01030273390726089\t -0.012633682564244743\t -1.0439923286450419\n",
            "13 \t [ 0.03761611 -0.05858207]\t -0.01022826994078406\t -0.012633682564244743\t -1.0374180554760406\n",
            "14 \t [ 0.03780365 -0.05855012]\t -0.010166690110745369\t -0.012633682564244743\t -1.0320400463246344\n",
            "15 \t [ 0.03795751 -0.05852195]\t -0.010114973078250756\t -0.012633682564244743\t -1.0275584945183407\n",
            "16 \t [ 0.03808558 -0.05849673]\t -0.01007088587967548\t -0.012633682564244743\t -1.0237661368041777\n",
            "17 \t [ 0.03819361 -0.058474  ]\t -0.010032862010129678\t -0.012633682564244743\t -1.0205150795551179\n",
            "18 \t [ 0.03828562 -0.05845331]\t -0.009999736433875884\t -0.012633682564244743\t -1.017696954792855\n",
            "19 \t [ 0.03836503 -0.05843452]\t -0.009970623178435365\t -0.012633682564244743\t -1.0152305362465013\n",
            "20 \t [ 0.03843406 -0.05841738]\t -0.009944870303240323\t -0.012633682564244743\t -1.013053738314604\n"
          ]
        }
      ],
      "source": [
        "### Bayesian optimisation runs (x20): 'GP' Acquisition Function run number = 18\n",
        "\n",
        "np.random.seed(run_num_18)\n",
        "surrogate_gp_18 = GaussianProcess(cov_func, optimize=hyperOpt)\n",
        "\n",
        "gp_18 = GPGO_multi(surrogate_gp_18, Acquisition_new(util_gp), f_syn_polarity, param, n_jobs = -1) # define BayesOpt\n",
        "gp_18.run(max_iter = max_iter, init_evals = n_init) # run\n"
      ]
    },
    {
      "cell_type": "code",
      "execution_count": 30,
      "metadata": {
        "id": "E7485DWlJLk8",
        "colab": {
          "base_uri": "https://localhost:8080/"
        },
        "outputId": "83547f72-c00d-4b78-e6af-967f6fef5f62"
      },
      "outputs": [
        {
          "output_type": "stream",
          "name": "stdout",
          "text": [
            "Evaluation \t Proposed point \t  Current eval. \t  Best eval. \t Min. ApproxAcqFunc \n",
            "init\t [-2.41479839  1.04499887]\t 15.890475442873509\t 6.578088852480828\t    \n",
            "init\t [-1.51837216 -1.44747325]\t 13.520839509777993\t 6.578088852480828\t    \n",
            "init\t [-1.01132062 -1.66800174]\t 23.772158573571232\t 6.578088852480828\t    \n",
            "init\t [1.03186249 1.22637519]\t 6.578088852480828\t 6.578088852480828\t    \n",
            "init\t [2.89645149 0.54264294]\t 83.31828503667734\t 6.578088852480828\t    \n",
            "1  \t [-0.08928201  2.        ]\t 47.85318781719301\t 6.578088852480828\t -1.0826568863594723\n",
            "2  \t [ 1.65750135 -2.        ]\t 46.73601003878244\t 6.578088852480828\t -1.5897679408356138\n",
            "3  \t [-3. -2.]\t 162.89999999999998\t 6.578088852480828\t 0.2634515480346633\n",
            "\u001b[1m\u001b[92m4\u001b[0m\t \u001b[1m\u001b[92m[-0.31711614 -0.25359165]\u001b[0m\t \u001b[1m\u001b[92m0.22107815490632685\u001b[0m\t \u001b[1m\u001b[92m0.22107815490632685\u001b[0m\t \u001b[1m\u001b[92m1.6627441729357166\u001b[0m\n",
            "\u001b[1m\u001b[92m5\u001b[0m\t \u001b[1m\u001b[92m[-0.26825104 -0.23426886]\u001b[0m\t \u001b[1m\u001b[92m0.13244815502673152\u001b[0m\t \u001b[1m\u001b[92m0.13244815502673152\u001b[0m\t \u001b[1m\u001b[92m0.3767333390860914\u001b[0m\n",
            "\u001b[1m\u001b[92m6\u001b[0m\t \u001b[1m\u001b[92m[-0.24379718 -0.22686367]\u001b[0m\t \u001b[1m\u001b[92m0.09043513142986734\u001b[0m\t \u001b[1m\u001b[92m0.09043513142986734\u001b[0m\t \u001b[1m\u001b[92m-0.05540095220148073\u001b[0m\n",
            "\u001b[1m\u001b[92m7\u001b[0m\t \u001b[1m\u001b[92m[-0.22808354 -0.22272188]\u001b[0m\t \u001b[1m\u001b[92m0.06467379577293286\u001b[0m\t \u001b[1m\u001b[92m0.06467379577293286\u001b[0m\t \u001b[1m\u001b[92m-0.27434855932036295\u001b[0m\n",
            "\u001b[1m\u001b[92m8\u001b[0m\t \u001b[1m\u001b[92m[-0.21671963 -0.2199821 ]\u001b[0m\t \u001b[1m\u001b[92m0.046744791473102204\u001b[0m\t \u001b[1m\u001b[92m0.046744791473102204\u001b[0m\t \u001b[1m\u001b[92m-0.4079096294785358\u001b[0m\n",
            "\u001b[1m\u001b[92m9\u001b[0m\t \u001b[1m\u001b[92m[-0.20790431 -0.21798814]\u001b[0m\t \u001b[1m\u001b[92m0.03327775364176738\u001b[0m\t \u001b[1m\u001b[92m0.03327775364176738\u001b[0m\t \u001b[1m\u001b[92m-0.498541440067426\u001b[0m\n",
            "\u001b[1m\u001b[92m10\u001b[0m\t \u001b[1m\u001b[92m[-0.20074115 -0.21644489]\u001b[0m\t \u001b[1m\u001b[92m0.022634686060796105\u001b[0m\t \u001b[1m\u001b[92m0.022634686060796105\u001b[0m\t \u001b[1m\u001b[92m-0.5644502075652384\u001b[0m\n",
            "\u001b[1m\u001b[92m11\u001b[0m\t \u001b[1m\u001b[92m[-0.19472635 -0.21519864]\u001b[0m\t \u001b[1m\u001b[92m0.013913859508050769\u001b[0m\t \u001b[1m\u001b[92m0.013913859508050769\u001b[0m\t \u001b[1m\u001b[92m-0.6147675888990746\u001b[0m\n",
            "\u001b[1m\u001b[92m12\u001b[0m\t \u001b[1m\u001b[92m[-0.18954783 -0.21415941]\u001b[0m\t \u001b[1m\u001b[92m0.00656875992336603\u001b[0m\t \u001b[1m\u001b[92m0.00656875992336603\u001b[0m\t \u001b[1m\u001b[92m-0.6545923490515111\u001b[0m\n",
            "\u001b[1m\u001b[92m13\u001b[0m\t \u001b[1m\u001b[92m[-0.18500439 -0.21327198]\u001b[0m\t \u001b[1m\u001b[92m0.0002518114978795061\u001b[0m\t \u001b[1m\u001b[92m0.0002518114978795061\u001b[0m\t \u001b[1m\u001b[92m-0.6869998497134534\u001b[0m\n",
            "\u001b[1m\u001b[92m14\u001b[0m\t \u001b[1m\u001b[92m[-0.18095737 -0.21249964]\u001b[0m\t \u001b[1m\u001b[92m-0.005272510600612429\u001b[0m\t \u001b[1m\u001b[92m-0.005272510600612429\u001b[0m\t \u001b[1m\u001b[92m-0.7139597719593048\u001b[0m\n",
            "\u001b[1m\u001b[92m15\u001b[0m\t \u001b[1m\u001b[92m[-0.17730662 -0.21181683]\u001b[0m\t \u001b[1m\u001b[92m-0.010171570960104348\u001b[0m\t \u001b[1m\u001b[92m-0.010171570960104348\u001b[0m\t \u001b[1m\u001b[92m-0.7367943607397428\u001b[0m\n",
            "\u001b[1m\u001b[92m16\u001b[0m\t \u001b[1m\u001b[92m[-0.17398015 -0.21120553]\u001b[0m\t \u001b[1m\u001b[92m-0.01456455518389499\u001b[0m\t \u001b[1m\u001b[92m-0.01456455518389499\u001b[0m\t \u001b[1m\u001b[92m-0.7564245957386286\u001b[0m\n",
            "\u001b[1m\u001b[92m17\u001b[0m\t \u001b[1m\u001b[92m[-0.17092258 -0.21065246]\u001b[0m\t \u001b[1m\u001b[92m-0.01854210231778783\u001b[0m\t \u001b[1m\u001b[92m-0.01854210231778783\u001b[0m\t \u001b[1m\u001b[92m-0.773513163752876\u001b[0m\n",
            "\u001b[1m\u001b[92m18\u001b[0m\t \u001b[1m\u001b[92m[-0.16809174 -0.21014757]\u001b[0m\t \u001b[1m\u001b[92m-0.02217245214412783\u001b[0m\t \u001b[1m\u001b[92m-0.02217245214412783\u001b[0m\t \u001b[1m\u001b[92m-0.7885492432037979\u001b[0m\n",
            "\u001b[1m\u001b[92m19\u001b[0m\t \u001b[1m\u001b[92m[-0.16545402 -0.20968305]\u001b[0m\t \u001b[1m\u001b[92m-0.02550939260784832\u001b[0m\t \u001b[1m\u001b[92m-0.02550939260784832\u001b[0m\t \u001b[1m\u001b[92m-0.8019022539487703\u001b[0m\n",
            "\u001b[1m\u001b[92m20\u001b[0m\t \u001b[1m\u001b[92m[-0.16298271 -0.20925283]\u001b[0m\t \u001b[1m\u001b[92m-0.028595360393610075\u001b[0m\t \u001b[1m\u001b[92m-0.028595360393610075\u001b[0m\t \u001b[1m\u001b[92m-0.8138567786435269\u001b[0m\n"
          ]
        }
      ],
      "source": [
        "### Bayesian optimisation runs (x20): 'GP' Acquisition Function run number = 19\n",
        "\n",
        "np.random.seed(run_num_19)\n",
        "surrogate_gp_19 = GaussianProcess(cov_func, optimize=hyperOpt)\n",
        "\n",
        "gp_19 = GPGO_multi(surrogate_gp_19, Acquisition_new(util_gp), f_syn_polarity, param, n_jobs = -1) # define BayesOpt\n",
        "gp_19.run(max_iter = max_iter, init_evals = n_init) # run\n"
      ]
    },
    {
      "cell_type": "code",
      "execution_count": 31,
      "metadata": {
        "id": "v9oZm6NvJLk9",
        "colab": {
          "base_uri": "https://localhost:8080/"
        },
        "outputId": "d2d189f4-99ed-47d5-8737-508301a17199"
      },
      "outputs": [
        {
          "output_type": "stream",
          "name": "stdout",
          "text": [
            "Evaluation \t Proposed point \t  Current eval. \t  Best eval. \t Min. ApproxAcqFunc \n",
            "init\t [0.52878481 1.59085491]\t 17.29968374481291\t 1.5037392797834441\t    \n",
            "init\t [2.34918438 1.26334991]\t 20.91583049569433\t 1.5037392797834441\t    \n",
            "init\t [-2.78466249  0.76703033]\t 57.06253405225224\t 1.5037392797834441\t    \n",
            "init\t [-0.72791435  0.07404378]\t 1.5037392797834441\t 1.5037392797834441\t    \n",
            "init\t [ 0.94770879 -1.22459913]\t 3.9766737661914173\t 1.5037392797834441\t    \n",
            "1  \t [-1.17192525 -2.        ]\t 52.73988863184389\t 1.5037392797834441\t -1.605213815683931\n",
            "2  \t [ 3. -2.]\t 150.89999999999998\t 1.5037392797834441\t -1.666057683236881\n",
            "\u001b[1m\u001b[92m3\u001b[0m\t \u001b[1m\u001b[92m[ 0.43919427 -0.31417619]\u001b[0m\t \u001b[1m\u001b[92m0.20198461668924778\u001b[0m\t \u001b[1m\u001b[92m0.20198461668924778\u001b[0m\t \u001b[1m\u001b[92m-0.04364599546352044\u001b[0m\n",
            "4  \t [ 0.43975123 -0.31237879]\t 0.2077998357315295\t 0.20198461668924778\t -0.37953522083693686\n",
            "5  \t [ 0.4401277 -0.3121011]\t 0.20943098877715743\t 0.20198461668924778\t -0.5023652586641171\n",
            "6  \t [ 0.44036964 -0.31208091]\t 0.21009162204331938\t 0.20198461668924778\t -0.5653655111052595\n",
            "7  \t [ 0.44053566 -0.3121204 ]\t 0.2104143959348983\t 0.20198461668924778\t -0.6035457175505615\n",
            "8  \t [ 0.440656   -0.31217232]\t 0.2105912547386924\t 0.20198461668924778\t -0.6291176480005588\n",
            "9  \t [ 0.44074688 -0.31222318]\t 0.2106962941337417\t 0.20198461668924778\t -0.6474264823154057\n",
            "10 \t [ 0.4408184  -0.31227016]\t 0.2107619085062108\t 0.20198461668924778\t -0.6611758575077887\n",
            "11 \t [ 0.4408755  -0.31231167]\t 0.21080448478193642\t 0.20198461668924778\t -0.6718771659498648\n",
            "12 \t [ 0.4409223  -0.31234823]\t 0.21083314078259913\t 0.20198461668924778\t -0.6804416524556343\n",
            "13 \t [ 0.44096122 -0.31238046]\t 0.2108525338262846\t 0.20198461668924778\t -0.6874503886092964\n",
            "14 \t [ 0.44099432 -0.31240907]\t 0.2108660612577195\t 0.20198461668924778\t -0.6932916983513753\n",
            "15 \t [ 0.44102247 -0.31243432]\t 0.2108753041054358\t 0.20198461668924778\t -0.6982345184123522\n",
            "16 \t [ 0.44104711 -0.31245701]\t 0.2108819864390885\t 0.20198461668924778\t -0.7024713537372522\n",
            "17 \t [ 0.44106857 -0.31247729]\t 0.21088648934858156\t 0.20198461668924778\t -0.7061431904257903\n",
            "18 \t [ 0.44108748 -0.31249556]\t 0.2108894924269995\t 0.20198461668924778\t -0.7093559712469382\n",
            "19 \t [ 0.44110436 -0.31251209]\t 0.21089162780030385\t 0.20198461668924778\t -0.7121906924529524\n",
            "20 \t [ 0.44111924 -0.31252701]\t 0.21089266981941174\t 0.20198461668924778\t -0.7147103128863537\n"
          ]
        }
      ],
      "source": [
        "### Bayesian optimisation runs (x20): 'GP' Acquisition Function run number = 20\n",
        "\n",
        "np.random.seed(run_num_20)\n",
        "surrogate_gp_20 = GaussianProcess(cov_func, optimize=hyperOpt)\n",
        "\n",
        "gp_20 = GPGO_multi(surrogate_gp_20, Acquisition_new(util_gp), f_syn_polarity, param, n_jobs = -1) # define BayesOpt\n",
        "gp_20.run(max_iter = max_iter, init_evals = n_init) # run\n"
      ]
    },
    {
      "cell_type": "code",
      "execution_count": 32,
      "metadata": {
        "id": "m3W7oEVSJLk9",
        "colab": {
          "base_uri": "https://localhost:8080/"
        },
        "outputId": "90f70b6f-13f2-4886-d0b7-3d5d3bb0d0a3"
      },
      "outputs": [
        {
          "output_type": "stream",
          "name": "stdout",
          "text": [
            "Evaluation \t Proposed point \t  Current eval. \t  Best eval. \t Min. ApproxAcqFunc \n",
            "init\t [-0.49786797  0.88129797]\t -0.2650082867644827\t -0.2650082867644827\t    \n",
            "init\t [-2.99931375 -0.79066971]\t 110.13991869176735\t -0.2650082867644827\t    \n",
            "init\t [-2.11946466 -1.63064562]\t 26.90935479429681\t -0.2650082867644827\t    \n",
            "init\t [-1.88243873 -0.61775709]\t 2.8558363102363344\t -0.2650082867644827\t    \n",
            "init\t [-0.61939515  0.15526694]\t 1.0540522096005847\t -0.2650082867644827\t    \n",
            "1  \t [1.75514828 2.        ]\t 53.648527753328594\t -0.2650082867644827\t -63.9697404801726\n",
            "2  \t [ 3. -2.]\t 150.89999999999998\t -0.2650082867644827\t -65.69206838079043\n",
            "3  \t [-2.13252313  2.        ]\t 49.84539385648336\t -0.2650082867644827\t -96.59516651816023\n",
            "4  \t [-0.18270921 -1.76787148]\t 27.02447085233575\t -0.2650082867644827\t -93.82424234297531\n",
            "5  \t [ 0.94152972 -0.04595457]\t 2.0761552914038433\t -0.2650082867644827\t -84.07177288235636\n",
            "6  \t [3.         0.57168948]\t 109.73502141968862\t -0.2650082867644827\t -78.64136906350727\n",
            "7  \t [-0.10970203  2.        ]\t 47.82843052165731\t -0.2650082867644827\t -82.85260708467014\n",
            "8  \t [-0.47160434 -0.37803414]\t 0.4777664096315082\t -0.2650082867644827\t -78.4994423471271\n",
            "9  \t [-1.20873772  0.19413232]\t 2.0212943977155944\t -0.2650082867644827\t -72.66701736756649\n",
            "10 \t [-1.21719897 -1.19898924]\t 6.37631297919361\t -0.2650082867644827\t -50.650401910588535\n",
            "11 \t [ 0.93803699 -1.16673733]\t 2.993566558081358\t -0.2650082867644827\t -49.406734023890564\n",
            "12 \t [0.43327787 0.79807692]\t 0.09989990801848903\t -0.2650082867644827\t -38.197838483280385\n",
            "13 \t [ 0.38005249 -0.41924803]\t -0.20388105789112865\t -0.2650082867644827\t -30.102138252222375\n",
            "14 \t [ 0.95887096 -2.        ]\t 48.24382385555978\t -0.2650082867644827\t -30.94998469374252\n",
            "15 \t [-3.          1.16802457]\t 107.38385561279794\t -0.2650082867644827\t -30.104004426683623\n",
            "16 \t [-1.30832081 -0.5119739 ]\t 2.261865450481976\t -0.2650082867644827\t -20.721677229894855\n",
            "\u001b[1m\u001b[92m17\u001b[0m\t \u001b[1m\u001b[92m[0.08079603 0.35343258]\u001b[0m\t \u001b[1m\u001b[92m-0.3826651834723619\u001b[0m\t \u001b[1m\u001b[92m-0.3826651834723619\u001b[0m\t \u001b[1m\u001b[92m-24.649883531576002\u001b[0m\n",
            "18 \t [ 1.60345284 -0.67350808]\t -0.0036239255120152913\t -0.3826651834723619\t -24.162841397409814\n",
            "19 \t [-1.37705505 -2.        ]\t 53.06081681930006\t -0.3826651834723619\t -17.880085201730797\n",
            "20 \t [ 0.41004415 -0.14499053]\t 0.47298885981201905\t -0.3826651834723619\t -59.19351932814673\n"
          ]
        }
      ],
      "source": [
        "### Bayesian optimisation runs (x20): 'STP' Acquisition Function run number = 1 \n",
        "\n",
        "np.random.seed(run_num_1)\n",
        "surrogate_stp_1 = tStudentProcess(cov_func, nu = df, optimize=hyperOpt)\n",
        "\n",
        "stp_1 = GPGO_multi_STP(surrogate_stp_1, Acquisition_new(util_stp), f_syn_polarity, param, n_jobs = -1) # Define BayesOpt\n",
        "stp_1.run(max_iter = max_iter, init_evals = n_init) # run\n"
      ]
    },
    {
      "cell_type": "code",
      "execution_count": 33,
      "metadata": {
        "id": "FGw67C40JLk-",
        "colab": {
          "base_uri": "https://localhost:8080/"
        },
        "outputId": "33d7b3fe-27f8-46c3-f8a0-c5b89cea270c"
      },
      "outputs": [
        {
          "output_type": "stream",
          "name": "stdout",
          "text": [
            "Evaluation \t Proposed point \t  Current eval. \t  Best eval. \t Min. ApproxAcqFunc \n",
            "init\t [-0.38403059 -1.89629507]\t 38.61280125654363\t 0.011939608840498828\t    \n",
            "init\t [ 0.29797487 -0.25871043]\t 0.011939608840498828\t 0.011939608840498828\t    \n",
            "init\t [-0.47779319 -0.67866072]\t 0.1381453419305213\t 0.011939608840498828\t    \n",
            "init\t [-1.7721082   0.47708387]\t 0.626144759281101\t 0.011939608840498828\t    \n",
            "init\t [-1.20207196 -0.9326909 ]\t 3.0693811601417798\t 0.011939608840498828\t    \n",
            "1  \t [3. 2.]\t 162.89999999999998\t 0.011939608840498828\t -21.407031180308426\n",
            "2  \t [ 3. -2.]\t 150.89999999999998\t 0.011939608840498828\t -88.53083564808962\n",
            "3  \t [-3.  2.]\t 150.89999999999998\t 0.011939608840498828\t -111.31855646180483\n",
            "4  \t [-3. -2.]\t 162.89999999999998\t 0.011939608840498828\t -126.34695880723345\n",
            "5  \t [-0.06206764  1.68861922]\t 21.027553800221092\t 0.011939608840498828\t -139.17883594872671\n",
            "6  \t [1.4640718 0.044691 ]\t 2.2656475372184293\t 0.011939608840498828\t -123.16496533159912\n",
            "7  \t [-0.72007222  0.38863663]\t 0.7631548034394418\t 0.011939608840498828\t -115.9661223164461\n",
            "8  \t [0.73507754 0.70718224]\t 1.1206476291999492\t 0.011939608840498828\t -105.97894590967418\n",
            "9  \t [-3.         -0.04119213]\t 109.01680073395038\t 0.011939608840498828\t -75.74284286422733\n",
            "10 \t [ 0.95845406 -0.99589745]\t 1.1737718667221406\t 0.011939608840498828\t -102.15335719273858\n",
            "11 \t [-0.75587072  0.18191176]\t 1.3965376813058403\t 0.011939608840498828\t -97.67734237166563\n",
            "12 \t [-1.22610002  2.        ]\t 47.94762728715682\t 0.011939608840498828\t -65.471593520211\n",
            "13 \t [ 3.         -0.03287104]\t 108.7970695344459\t 0.011939608840498828\t -59.856086055180064\n",
            "14 \t [1.1006161 2.       ]\t 52.55765895874668\t 0.011939608840498828\t -52.87088806933472\n",
            "15 \t [ 1.04933545 -2.        ]\t 48.20464643010335\t 0.011939608840498828\t -40.6236000244991\n",
            "16 \t [-1.27768044  0.85833073]\t 0.5111180093773248\t 0.011939608840498828\t -27.402102707675883\n",
            "17 \t [-1.54246423 -0.14627422]\t 2.260653496987477\t 0.011939608840498828\t -25.426724511235644\n",
            "18 \t [ 1.03809221 -0.29907412]\t 1.6527217017313178\t 0.011939608840498828\t -23.100316568975334\n",
            "19 \t [1.52444412 0.7892767 ]\t 2.4016143261686613\t 0.011939608840498828\t -23.19865014481989\n",
            "20 \t [-1.45406383 -2.        ]\t 53.12826497341646\t 0.011939608840498828\t -62.235191369670126\n"
          ]
        }
      ],
      "source": [
        "### Bayesian optimisation runs (x20): 'STP' Acquisition Function run number = 2 \n",
        "\n",
        "np.random.seed(run_num_2)\n",
        "surrogate_stp_2 = tStudentProcess(cov_func, nu = df, optimize=hyperOpt)\n",
        "\n",
        "stp_2 = GPGO_multi_STP(surrogate_stp_2, Acquisition_new(util_stp), f_syn_polarity, param, n_jobs = -1) # Define BayesOpt\n",
        "stp_2.run(max_iter = max_iter, init_evals = n_init) # run\n"
      ]
    },
    {
      "cell_type": "code",
      "execution_count": 34,
      "metadata": {
        "id": "oFLQAtDZJLk_",
        "colab": {
          "base_uri": "https://localhost:8080/"
        },
        "outputId": "b7ce4481-3c67-47a9-f9b9-d4970caf7596"
      },
      "outputs": [
        {
          "output_type": "stream",
          "name": "stdout",
          "text": [
            "Evaluation \t Proposed point \t  Current eval. \t  Best eval. \t Min. ApproxAcqFunc \n",
            "init\t [0.30478742 0.83259129]\t -0.2431922946563294\t -0.2431922946563294\t    \n",
            "init\t [-1.25457157  0.04331042]\t 2.3313310458730996\t -0.2431922946563294\t    \n",
            "init\t [2.35768173 1.58517236]\t 33.54152175045586\t -0.2431922946563294\t    \n",
            "init\t [-2.24648814 -1.17102849]\t 14.214109412296352\t -0.2431922946563294\t    \n",
            "init\t [-2.69119678 -0.23676063]\t 45.87579771712209\t -0.2431922946563294\t    \n",
            "1  \t [ 0.38008338 -1.25015288]\t 3.5787443107570645\t -0.2431922946563294\t -32.08786696597066\n",
            "2  \t [ 3. -2.]\t 150.89999999999998\t -0.2431922946563294\t -29.526006369612848\n",
            "3  \t [-1.11085472  2.        ]\t 48.142862655459076\t -0.2431922946563294\t -79.10157477138648\n",
            "4  \t [-0.84347398 -2.        ]\t 51.58984324340439\t -0.2431922946563294\t -75.29776050187775\n",
            "5  \t [ 0.92959302 -0.10509167]\t 1.9621276359241022\t -0.2431922946563294\t -72.32458297160618\n",
            "6  \t [-3.  2.]\t 150.89999999999998\t -0.2431922946563294\t -68.03132099360069\n",
            "7  \t [-3. -2.]\t 162.89999999999998\t -0.2431922946563294\t -83.18997240078741\n",
            "8  \t [0.74917276 2.        ]\t 51.14079302767665\t -0.2431922946563294\t -98.81502815746231\n",
            "9  \t [-0.24058936 -0.14861577]\t 0.17392168366629174\t -0.2431922946563294\t -95.7413967382343\n",
            "10 \t [3.        0.3381393]\t 109.50935803866032\t -0.2431922946563294\t -90.48324471744061\n",
            "11 \t [ 0.03757414 -0.11262548]\t -0.048683136992009386\t -0.2431922946563294\t -88.52135967796265\n",
            "12 \t [ 0.8259264 -2.       ]\t 48.20537213492308\t -0.2431922946563294\t -84.928662332325\n",
            "13 \t [-1.37863318 -0.85621736]\t 2.7028677057901147\t -0.2431922946563294\t -70.31748732820147\n",
            "14 \t [3. 2.]\t 162.89999999999998\t -0.2431922946563294\t -51.53916360631603\n",
            "15 \t [1.54045508 1.00600967]\t 3.7193673689839626\t -0.2431922946563294\t -95.1072695861318\n",
            "16 \t [-0.65110708  0.92128241]\t 0.23042003784869802\t -0.2431922946563294\t -63.18377451354403\n",
            "17 \t [0.99405285 0.52297335]\t 1.9487610385630265\t -0.2431922946563294\t -54.802010676736145\n",
            "18 \t [-0.94319267 -0.47208212]\t 1.8836582409327116\t -0.2431922946563294\t -58.213849018178735\n",
            "19 \t [0.05237722 0.13238101]\t -0.05097901568594663\t -0.2431922946563294\t -79.45695574102872\n",
            "20 \t [ 1.24220951 -0.74497006]\t 0.48344115577919966\t -0.2431922946563294\t -60.35925975136576\n"
          ]
        }
      ],
      "source": [
        "### Bayesian optimisation runs (x20): 'STP' Acquisition Function run number = 3 \n",
        "\n",
        "np.random.seed(run_num_3)\n",
        "surrogate_stp_3 = tStudentProcess(cov_func, nu = df, optimize=hyperOpt)\n",
        "\n",
        "stp_3 = GPGO_multi_STP(surrogate_stp_3, Acquisition_new(util_stp), f_syn_polarity, param, n_jobs = -1) # Define BayesOpt\n",
        "stp_3.run(max_iter = max_iter, init_evals = n_init) # run\n"
      ]
    },
    {
      "cell_type": "code",
      "execution_count": 35,
      "metadata": {
        "id": "zhFOxkF0JLk_",
        "colab": {
          "base_uri": "https://localhost:8080/"
        },
        "outputId": "11e681fb-9ceb-4d60-99c4-03bca4d5657c"
      },
      "outputs": [
        {
          "output_type": "stream",
          "name": "stdout",
          "text": [
            "Evaluation \t Proposed point \t  Current eval. \t  Best eval. \t Min. ApproxAcqFunc \n",
            "init\t [2.80217903 0.188929  ]\t 63.70212732873661\t 2.3196402150601703\t    \n",
            "init\t [2.83610616 0.85926397]\t 71.43837110827245\t 2.3196402150601703\t    \n",
            "init\t [ 1.18637295 -1.13564202]\t 2.5463267765341566\t 2.3196402150601703\t    \n",
            "init\t [ 2.85764673 -1.97507898]\t 113.76785286351424\t 2.3196402150601703\t    \n",
            "init\t [-1.48210583 -0.26083387]\t 2.3196402150601703\t 2.3196402150601703\t    \n",
            "1  \t [-0.41809195 -2.        ]\t 49.4730015668617\t 2.3196402150601703\t -78.79778951382538\n",
            "2  \t [-3.  2.]\t 150.89999999999998\t 2.3196402150601703\t -77.59430823772246\n",
            "3  \t [-3. -2.]\t 162.89999999999998\t 2.3196402150601703\t -103.42147396799587\n",
            "4  \t [0.17966772 2.        ]\t 48.486280342809486\t 2.3196402150601703\t -123.39348841557128\n",
            "\u001b[1m\u001b[92m5\u001b[0m\t \u001b[1m\u001b[92m[ 0.11836122 -0.02613753]\u001b[0m\t \u001b[1m\u001b[92m0.04980179498277095\u001b[0m\t \u001b[1m\u001b[92m0.04980179498277095\u001b[0m\t \u001b[1m\u001b[92m-113.00098514955452\u001b[0m\n",
            "6  \t [-0.91904346  0.5471925 ]\t 0.7392822481972309\t 0.04980179498277095\t -100.33273116936267\n",
            "7  \t [ 0.79871005 -0.06637683]\t 1.7131030156994072\t 0.04980179498277095\t -93.27409528069907\n",
            "8  \t [-0.44268429 -0.324609  ]\t 0.4723652859499081\t 0.04980179498277095\t -88.05315632913374\n",
            "9  \t [1.75891205 2.        ]\t 53.66352138434618\t 0.04980179498277095\t -54.68879567623207\n",
            "10 \t [-3.          0.04663943]\t 108.75139967824283\t 0.04980179498277095\t -51.41269116203248\n",
            "11 \t [ 0.93365023 -2.        ]\t 48.24458494047663\t 0.04980179498277095\t -44.834252065242545\n",
            "12 \t [-1.11102717  2.        ]\t 48.14264788025049\t 0.04980179498277095\t -37.548757618544556\n",
            "13 \t [ 1.65507118 -0.60024987]\t 0.13559017234318282\t 0.04980179498277095\t -27.797614463845317\n",
            "14 \t [3. 2.]\t 162.89999999999998\t 0.04980179498277095\t -26.451367561955795\n",
            "15 \t [1.14773367 0.97173179]\t 3.2918396856220964\t 0.04980179498277095\t -39.722100505210435\n",
            "16 \t [-1.30506546 -1.08863112]\t 4.666143581185272\t 0.04980179498277095\t -27.881056058391774\n",
            "\u001b[1m\u001b[92m17\u001b[0m\t \u001b[1m\u001b[92m[0.00554525 0.79766029]\u001b[0m\t \u001b[1m\u001b[92m-0.9211845130055866\u001b[0m\t \u001b[1m\u001b[92m-0.9211845130055866\u001b[0m\t \u001b[1m\u001b[92m-29.13930518116327\u001b[0m\n",
            "18 \t [1.69752186 0.50226458]\t 2.1627858124284276\t -0.9211845130055866\t -20.609216628275753\n",
            "19 \t [-0.52514299  0.22864289]\t 0.6321339235514101\t -0.9211845130055866\t -19.086428241024457\n",
            "20 \t [0.8718222  0.00839337]\t 1.980503542067229\t -0.9211845130055866\t -77.1380857260062\n"
          ]
        }
      ],
      "source": [
        "### Bayesian optimisation runs (x20): 'STP' Acquisition Function run number = 4 \n",
        "\n",
        "np.random.seed(run_num_4)\n",
        "surrogate_stp_4 = tStudentProcess(cov_func, nu = df, optimize=hyperOpt)\n",
        "\n",
        "stp_4 = GPGO_multi_STP(surrogate_stp_4, Acquisition_new(util_stp), f_syn_polarity, param, n_jobs = -1) # Define BayesOpt\n",
        "stp_4.run(max_iter = max_iter, init_evals = n_init) # run\n"
      ]
    },
    {
      "cell_type": "code",
      "execution_count": 36,
      "metadata": {
        "id": "YdzaqIajJLlA",
        "colab": {
          "base_uri": "https://localhost:8080/"
        },
        "outputId": "413c2f2c-ed58-4d15-a10b-37cb4017eb2f"
      },
      "outputs": [
        {
          "output_type": "stream",
          "name": "stdout",
          "text": [
            "Evaluation \t Proposed point \t  Current eval. \t  Best eval. \t Min. ApproxAcqFunc \n",
            "init\t [-1.66804097  1.48292922]\t 10.126030408244933\t -0.6512780061070701\t    \n",
            "init\t [-1.75968507  1.67444363]\t 19.4300499315822\t -0.6512780061070701\t    \n",
            "init\t [-0.06953287  0.44697545]\t -0.6512780061070701\t -0.6512780061070701\t    \n",
            "init\t [1.59544714 0.07367195]\t 2.168775388880503\t -0.6512780061070701\t    \n",
            "init\t [-1.21919699 -1.24911509]\t 7.420330936884148\t -0.6512780061070701\t    \n",
            "1  \t [ 3. -2.]\t 150.89999999999998\t -0.6512780061070701\t -11.117567341872487\n",
            "2  \t [-2.9799385  -0.05084355]\t 103.47750624762797\t -0.6512780061070701\t -84.59637359516796\n",
            "3  \t [2.96827128 2.        ]\t 154.1436520748268\t -0.6512780061070701\t -95.04309481308104\n",
            "4  \t [ 0.17277765 -2.        ]\t 47.77199061739344\t -0.6512780061070701\t -109.19233376780168\n",
            "5  \t [0.07320939 2.        ]\t 48.16779696798631\t -0.6512780061070701\t -103.02546387538797\n",
            "6  \t [-3. -2.]\t 162.89999999999998\t -0.6512780061070701\t -91.0411290815395\n",
            "7  \t [-3.  2.]\t 150.89999999999998\t -0.6512780061070701\t -107.62964920085776\n",
            "8  \t [-0.84892046  0.00994698]\t 1.9079306614211198\t -0.6512780061070701\t -115.60875983535875\n",
            "9  \t [ 0.54094129 -0.55087454]\t -0.14447400430923352\t -0.6512780061070701\t -82.99523448373205\n",
            "10 \t [ 3.         -0.01856809]\t 108.8429170959789\t -0.6512780061070701\t -70.79987174522677\n",
            "11 \t [1.06709862 0.85693221]\t 2.458099663156828\t -0.6512780061070701\t -66.98758291954849\n",
            "12 \t [-1.03866736  2.        ]\t 48.212390239641834\t -0.6512780061070701\t -52.22763166324791\n",
            "13 \t [ 1.39465161 -0.96690455]\t 0.6963605707891455\t -0.6512780061070701\t -46.24508167957454\n",
            "14 \t [-1.09509065 -2.        ]\t 52.54187018252341\t -0.6512780061070701\t -43.42127004834666\n",
            "15 \t [0.86528401 0.1138353 ]\t 2.004897359193764\t -0.6512780061070701\t -41.102364433933715\n",
            "16 \t [-0.50089667 -0.86300354]\t 0.5485955276338281\t -0.6512780061070701\t -44.057681131842955\n",
            "17 \t [1.23958566 2.        ]\t 52.876556470258336\t -0.6512780061070701\t -41.41912336512756\n",
            "18 \t [ 1.26971129 -2.        ]\t 47.84789066295004\t -0.6512780061070701\t -30.078940802384416\n",
            "19 \t [-0.77043321  0.87448452]\t 0.31068324416731374\t -0.6512780061070701\t -24.35389073537613\n",
            "20 \t [ 0.29023514 -0.10126133]\t 0.2522593931949276\t -0.6512780061070701\t -82.24892175129668\n"
          ]
        }
      ],
      "source": [
        "### Bayesian optimisation runs (x20): 'STP' Acquisition Function run number = 5 \n",
        "\n",
        "np.random.seed(run_num_5)\n",
        "surrogate_stp_5 = tStudentProcess(cov_func, nu = df, optimize=hyperOpt)\n",
        "\n",
        "stp_5 = GPGO_multi_STP(surrogate_stp_5, Acquisition_new(util_stp), f_syn_polarity, param, n_jobs = -1) # Define BayesOpt\n",
        "stp_5.run(max_iter = max_iter, init_evals = n_init) # run\n"
      ]
    },
    {
      "cell_type": "code",
      "execution_count": 37,
      "metadata": {
        "id": "_KSBbC1zJLlA",
        "colab": {
          "base_uri": "https://localhost:8080/"
        },
        "outputId": "483496d9-c752-4ac9-cd1f-2854ca5649f5"
      },
      "outputs": [
        {
          "output_type": "stream",
          "name": "stdout",
          "text": [
            "Evaluation \t Proposed point \t  Current eval. \t  Best eval. \t Min. ApproxAcqFunc \n",
            "init\t [ 2.35716091 -0.67208078]\t 11.995980169715628\t -0.3096187466378422\t    \n",
            "init\t [ 1.92737474 -1.8332135 ]\t 31.167927894156623\t -0.3096187466378422\t    \n",
            "init\t [-2.35405992  0.38020826]\t 13.013381745677465\t -0.3096187466378422\t    \n",
            "init\t [ 0.17890417 -0.32477029]\t -0.3096187466378422\t -0.3096187466378422\t    \n",
            "init\t [-0.9875529   0.49007773]\t 0.9989196280666852\t -0.3096187466378422\t    \n",
            "1  \t [0.56671871 1.92261142]\t 42.03746655405615\t -0.3096187466378422\t -18.787444357122748\n",
            "2  \t [-1.20714577 -2.        ]\t 52.815306304013816\t -0.3096187466378422\t -27.865468359181623\n",
            "3  \t [3. 2.]\t 162.89999999999998\t -0.3096187466378422\t -35.673355861380614\n",
            "4  \t [-3.  2.]\t 150.89999999999998\t -0.3096187466378422\t -81.31766662208841\n",
            "5  \t [-3.         -1.13365565]\t 113.76696690576068\t -0.3096187466378422\t -98.63064468551343\n",
            "6  \t [1.10884635 0.04963372]\t 2.4082457418902736\t -0.3096187466378422\t -96.4022219815623\n",
            "7  \t [ 0.47876301 -2.        ]\t 47.85301224771585\t -0.3096187466378422\t -91.26177378904302\n",
            "8  \t [ 3. -2.]\t 150.89999999999998\t -0.3096187466378422\t -88.8002560906293\n",
            "9  \t [-0.83076295  2.        ]\t 48.20843073022077\t -0.3096187466378422\t -96.24499941991773\n",
            "10 \t [-0.74874131 -0.14698431]\t 1.666684291066617\t -0.3096187466378422\t -93.06644482848135\n",
            "11 \t [0.17627427 0.34334263]\t -0.23315455340548355\t -0.3096187466378422\t -87.95391274497132\n",
            "12 \t [ 1.37144901 -0.96211978]\t 0.717631842011496\t -0.3096187466378422\t -59.104984209940305\n",
            "13 \t [ 1.51999594 -0.02753278]\t 2.0979655663027814\t -0.3096187466378422\t -83.08987903773776\n",
            "14 \t [3.         0.11398322]\t 109.19065615773854\t -0.3096187466378422\t -48.26841718192539\n",
            "15 \t [-1.69988454 -0.0083806 ]\t 2.080327547429086\t -0.3096187466378422\t -31.00713779950977\n",
            "16 \t [-1.7271326   0.72540976]\t -0.1566753761551264\t -0.3096187466378422\t -24.122050246350238\n",
            "17 \t [ 1.77724556 -0.66649743]\t 0.015326192940060879\t -0.3096187466378422\t -21.497308042410555\n",
            "18 \t [1.21181374 0.94195679]\t 3.1423967447676193\t -0.3096187466378422\t -28.99331542161366\n",
            "19 \t [ 0.86099482 -0.29247338]\t 1.3822892661695787\t -0.3096187466378422\t -75.92658167202285\n",
            "20 \t [0.619901   0.56782412]\t 0.7240467402242442\t -0.3096187466378422\t -46.00080409276586\n"
          ]
        }
      ],
      "source": [
        "### Bayesian optimisation runs (x20): 'STP' Acquisition Function run number = 6 \n",
        "\n",
        "np.random.seed(run_num_6)\n",
        "surrogate_stp_6 = tStudentProcess(cov_func, nu = df, optimize=hyperOpt)\n",
        "\n",
        "stp_6 = GPGO_multi_STP(surrogate_stp_6, Acquisition_new(util_stp), f_syn_polarity, param, n_jobs = -1) # Define BayesOpt\n",
        "stp_6.run(max_iter = max_iter, init_evals = n_init) # run\n"
      ]
    },
    {
      "cell_type": "code",
      "execution_count": 38,
      "metadata": {
        "id": "WB64BgXFJLlB",
        "colab": {
          "base_uri": "https://localhost:8080/"
        },
        "outputId": "4b9672ec-8c0e-4674-93b1-34436420e030"
      },
      "outputs": [
        {
          "output_type": "stream",
          "name": "stdout",
          "text": [
            "Evaluation \t Proposed point \t  Current eval. \t  Best eval. \t Min. ApproxAcqFunc \n",
            "init\t [-2.54215026  1.11967517]\t 26.53843863832488\t -0.46481072558790276\t    \n",
            "init\t [-0.36954461  0.89386071]\t -0.46481072558790276\t -0.46481072558790276\t    \n",
            "init\t [2.86793707 0.15398348]\t 76.66051064695093\t -0.46481072558790276\t    \n",
            "init\t [ 0.00672278 -1.71179547]\t 22.613010892757885\t -0.46481072558790276\t    \n",
            "init\t [-1.38936612e+00 -4.69996698e-04]\t 2.294585534557751\t -0.46481072558790276\t    \n",
            "1  \t [-3. -2.]\t 162.89999999999998\t -0.46481072558790276\t -47.433299050884145\n",
            "2  \t [0.85456462 2.        ]\t 51.640123210498544\t -0.46481072558790276\t -95.32507616244585\n",
            "3  \t [ 3. -2.]\t 150.89999999999998\t -0.46481072558790276\t -90.19070737918257\n",
            "4  \t [0.30052147 0.17265375]\t 0.28057284091275464\t -0.46481072558790276\t -113.54670551539611\n",
            "5  \t [-1.26084118  2.        ]\t 47.869242502754425\t -0.46481072558790276\t -98.40116391605544\n",
            "6  \t [3. 2.]\t 162.89999999999998\t -0.46481072558790276\t -93.98098551404544\n",
            "7  \t [-0.49178454 -0.4115726 ]\t 0.4889012238047279\t -0.46481072558790276\t -102.97379119985428\n",
            "8  \t [-3.  2.]\t 150.89999999999998\t -0.46481072558790276\t -65.9679052117178\n",
            "9  \t [ 0.90412007 -0.57027206]\t 0.655199157929255\t -0.46481072558790276\t -104.71163748811048\n",
            "10 \t [-3.          0.00943655]\t 108.8713341899684\t -0.46481072558790276\t -97.57009306635283\n",
            "11 \t [-0.58901087  0.21295131]\t 0.8502943094612399\t -0.46481072558790276\t -99.2753840268596\n",
            "12 \t [-1.59362014  0.90680781]\t 0.04447885153544806\t -0.46481072558790276\t -68.07301199488106\n",
            "13 \t [-1.13528541 -2.        ]\t 52.65124541577911\t -0.46481072558790276\t -64.9692249777387\n",
            "14 \t [1.3784257  0.37449122]\t 2.339218865763074\t -0.46481072558790276\t -51.46707632913148\n",
            "15 \t [ 1.15055045 -2.        ]\t 48.08725129619975\t -0.46481072558790276\t -54.78985056824748\n",
            "16 \t [ 1.69627242 -0.43049107]\t 0.7297192404518692\t -0.46481072558790276\t -31.564498511774264\n",
            "17 \t [-0.1827571  2.       ]\t 47.765756150054685\t -0.46481072558790276\t -31.749131188349327\n",
            "18 \t [0.56852459 0.94479358]\t 1.238533946711534\t -0.46481072558790276\t -30.4447094280744\n",
            "19 \t [-1.0863389 -0.8729355]\t 2.566609146002294\t -0.46481072558790276\t -24.574364232523703\n",
            "20 \t [ 0.50685758 -0.07502964]\t 0.8342500134017454\t -0.46481072558790276\t -81.16678482082318\n"
          ]
        }
      ],
      "source": [
        "### Bayesian optimisation runs (x20): 'STP' Acquisition Function run number = 7 \n",
        "\n",
        "np.random.seed(run_num_7)\n",
        "surrogate_stp_7 = tStudentProcess(cov_func, nu = df, optimize=hyperOpt)\n",
        "\n",
        "stp_7 = GPGO_multi_STP(surrogate_stp_7, Acquisition_new(util_stp), f_syn_polarity, param, n_jobs = -1) # Define BayesOpt\n",
        "stp_7.run(max_iter = max_iter, init_evals = n_init) # run\n"
      ]
    },
    {
      "cell_type": "code",
      "execution_count": 39,
      "metadata": {
        "id": "yCh1YYTlJLlB",
        "colab": {
          "base_uri": "https://localhost:8080/"
        },
        "outputId": "a850cee6-554f-468d-ff09-4175a7eeb13e"
      },
      "outputs": [
        {
          "output_type": "stream",
          "name": "stdout",
          "text": [
            "Evaluation \t Proposed point \t  Current eval. \t  Best eval. \t Min. ApproxAcqFunc \n",
            "init\t [2.24057642 1.87416265]\t 48.82879577505094\t 0.03190064766213015\t    \n",
            "init\t [2.21516724 0.12342277]\t 8.660623551418242\t 0.03190064766213015\t    \n",
            "init\t [-1.60363003 -1.95440478]\t 48.28332373939171\t 0.03190064766213015\t    \n",
            "init\t [-0.41718709 -0.39059456]\t 0.2801229037700297\t 0.03190064766213015\t    \n",
            "init\t [ 0.13604803 -0.08643282]\t 0.03190064766213015\t 0.03190064766213015\t    \n",
            "1  \t [-1.57287692  1.65393431]\t 18.478496484786024\t 0.03190064766213015\t -38.758792980635626\n",
            "2  \t [ 3. -2.]\t 150.89999999999998\t 0.03190064766213015\t -36.91729403580883\n",
            "3  \t [-3.          0.16687645]\t 108.29108162877047\t 0.03190064766213015\t -80.21964201800564\n",
            "4  \t [0.04545946 2.        ]\t 48.09917619991094\t 0.03190064766213015\t -87.61263654265153\n",
            "5  \t [ 0.41841813 -2.        ]\t 47.80088067789954\t 0.03190064766213015\t -84.04818157391956\n",
            "6  \t [0.997854   0.02699296]\t 2.2539058463645096\t 0.03190064766213015\t -75.36044058035321\n",
            "7  \t [-3.  2.]\t 150.89999999999998\t 0.03190064766213015\t -70.82865581344916\n",
            "8  \t [-0.69871527  0.47199785]\t 0.46868720666581776\t 0.03190064766213015\t -83.46911711784676\n",
            "9  \t [-3. -2.]\t 162.89999999999998\t 0.03190064766213015\t -61.95669821830431\n",
            "10 \t [3.         0.77150126]\t 110.25076675592973\t 0.03190064766213015\t -59.758690210380216\n",
            "\u001b[1m\u001b[92m11\u001b[0m\t \u001b[1m\u001b[92m[ 1.6906507  -0.72867372]\u001b[0m\t \u001b[1m\u001b[92m-0.16765474113685697\u001b[0m\t \u001b[1m\u001b[92m-0.16765474113685697\u001b[0m\t \u001b[1m\u001b[92m-64.13320396161713\u001b[0m\n",
            "12 \t [1.16213642 1.13500439]\t 5.197247765728822\t -0.16765474113685697\t -36.61749388524893\n",
            "13 \t [-0.68107631 -2.        ]\t 50.79902397002933\t -0.16765474113685697\t -35.52352646853686\n",
            "14 \t [-1.49084476 -0.37102682]\t 2.254642988399984\t -0.16765474113685697\t -35.696388643890685\n",
            "15 \t [1.27389767 2.        ]\t 52.9332219140406\t -0.16765474113685697\t -34.273403837757826\n",
            "\u001b[1m\u001b[92m16\u001b[0m\t \u001b[1m\u001b[92m[0.2777011  0.77035961]\u001b[0m\t \u001b[1m\u001b[92m-0.4550003359111259\u001b[0m\t \u001b[1m\u001b[92m-0.4550003359111259\u001b[0m\t \u001b[1m\u001b[92m-31.86837173578591\u001b[0m\n",
            "17 \t [-1.04107827  2.        ]\t 48.21071564290857\t -0.4550003359111259\t -32.19917007908708\n",
            "18 \t [-1.6439884   0.68150129]\t -0.06345382063395899\t -0.4550003359111259\t -41.58110950959062\n",
            "19 \t [-0.92329513  0.2454372 ]\t 1.6372483651950718\t -0.4550003359111259\t -70.69594209031558\n",
            "20 \t [ 0.61585746 -0.90578659]\t 0.08613167144864653\t -0.4550003359111259\t -25.413013024660213\n"
          ]
        }
      ],
      "source": [
        "### Bayesian optimisation runs (x20): 'STP' Acquisition Function run number = 8 \n",
        "\n",
        "np.random.seed(run_num_8)\n",
        "surrogate_stp_8 = tStudentProcess(cov_func, nu = df, optimize=hyperOpt)\n",
        "\n",
        "stp_8 = GPGO_multi_STP(surrogate_stp_8, Acquisition_new(util_stp), f_syn_polarity, param, n_jobs = -1) # Define BayesOpt\n",
        "stp_8.run(max_iter = max_iter, init_evals = n_init) # run\n"
      ]
    },
    {
      "cell_type": "code",
      "execution_count": 40,
      "metadata": {
        "id": "IDhy8DkEJLlC",
        "colab": {
          "base_uri": "https://localhost:8080/"
        },
        "outputId": "57bd2c6d-38b9-4a7d-a348-c9ae78a77db5"
      },
      "outputs": [
        {
          "output_type": "stream",
          "name": "stdout",
          "text": [
            "Evaluation \t Proposed point \t  Current eval. \t  Best eval. \t Min. ApproxAcqFunc \n",
            "init\t [-2.93775508  0.00749837]\t 92.35857237145763\t 1.395407492769129\t    \n",
            "init\t [-0.02536024 -1.46468188]\t 9.867672894921913\t 1.395407492769129\t    \n",
            "init\t [-2.14733349 -1.1257653 ]\t 10.24680089963123\t 1.395407492769129\t    \n",
            "init\t [-0.48895092 -1.00759533]\t 1.395407492769129\t 1.395407492769129\t    \n",
            "init\t [-2.49564209 -0.61800544]\t 24.58298635463645\t 1.395407492769129\t    \n",
            "1  \t [3. 2.]\t 162.89999999999998\t 1.395407492769129\t -52.97453833912743\n",
            "2  \t [ 3. -2.]\t 150.89999999999998\t 1.395407492769129\t -99.3329451302944\n",
            "3  \t [-0.45826778  2.        ]\t 47.833971030233386\t 1.395407492769129\t -118.958138727858\n",
            "4  \t [0.8831123 0.0625431]\t 2.0400410991736173\t 1.395407492769129\t -109.23974704570863\n",
            "5  \t [-1.47364446 -2.        ]\t 53.14404393624867\t 1.395407492769129\t -101.90182726861264\n",
            "6  \t [-3.  2.]\t 150.89999999999998\t 1.395407492769129\t -98.51710999598595\n",
            "\u001b[1m\u001b[92m7\u001b[0m\t \u001b[1m\u001b[92m[-0.45724243  0.13749309]\u001b[0m\t \u001b[1m\u001b[92m0.6104810741678387\u001b[0m\t \u001b[1m\u001b[92m0.6104810741678387\u001b[0m\t \u001b[1m\u001b[92m-106.2328256997887\u001b[0m\n",
            "8  \t [-3. -2.]\t 162.89999999999998\t 0.6104810741678387\t -99.42458549417199\n",
            "9  \t [-1.51507359 -0.31391721]\t 2.26863033222228\t 0.6104810741678387\t -95.39572630968253\n",
            "10 \t [ 0.76643528 -2.        ]\t 48.15974990057574\t 0.6104810741678387\t -104.20030187886753\n",
            "11 \t [0.89254267 1.39853254]\t 10.74909203690421\t 0.6104810741678387\t -77.83274783840764\n",
            "12 \t [ 2.60889558e+00 -1.17208355e-03]\t 35.041160034594526\t 0.6104810741678387\t -72.33552338031541\n",
            "\u001b[1m\u001b[92m13\u001b[0m\t \u001b[1m\u001b[92m[0.23572686 0.79410924]\u001b[0m\t \u001b[1m\u001b[92m-0.5287301605716224\u001b[0m\t \u001b[1m\u001b[92m-0.5287301605716224\u001b[0m\t \u001b[1m\u001b[92m-47.013559389293384\u001b[0m\n",
            "\u001b[1m\u001b[92m14\u001b[0m\t \u001b[1m\u001b[92m[ 0.38652247 -0.66241124]\u001b[0m\t \u001b[1m\u001b[92m-0.689212000942919\u001b[0m\t \u001b[1m\u001b[92m-0.689212000942919\u001b[0m\t \u001b[1m\u001b[92m-42.47381167078658\u001b[0m\n",
            "15 \t [ 1.53049628 -0.63749497]\t 0.19071728468830818\t -0.689212000942919\t -32.28589942023563\n",
            "16 \t [-0.92728799  0.90436647]\t 0.6642835066448483\t -0.689212000942919\t -29.34658825293245\n",
            "17 \t [-0.93541217 -0.35913339]\t 2.0020609845924233\t -0.689212000942919\t -78.49287560403702\n",
            "18 \t [-1.49680685 -0.93547378]\t 3.1324037367064737\t -0.689212000942919\t -25.45581829669623\n",
            "19 \t [ 0.12809379 -0.02317408]\t 0.059952729610368904\t -0.689212000942919\t -79.33886376525983\n",
            "20 \t [0.71640808 2.        ]\t 50.97767027557477\t -0.689212000942919\t -18.65275817922076\n"
          ]
        }
      ],
      "source": [
        "### Bayesian optimisation runs (x20): 'STP' Acquisition Function run number = 9 \n",
        "\n",
        "np.random.seed(run_num_9)\n",
        "surrogate_stp_9 = tStudentProcess(cov_func, nu = df, optimize=hyperOpt)\n",
        "\n",
        "stp_9 = GPGO_multi_STP(surrogate_stp_9, Acquisition_new(util_stp), f_syn_polarity, param, n_jobs = -1) # Define BayesOpt\n",
        "stp_9.run(max_iter = max_iter, init_evals = n_init) # run\n"
      ]
    },
    {
      "cell_type": "code",
      "execution_count": 41,
      "metadata": {
        "id": "RqwHOur5JLlC",
        "colab": {
          "base_uri": "https://localhost:8080/"
        },
        "outputId": "77b3cfc7-f8df-45aa-e199-12cb23b2002d"
      },
      "outputs": [
        {
          "output_type": "stream",
          "name": "stdout",
          "text": [
            "Evaluation \t Proposed point \t  Current eval. \t  Best eval. \t Min. ApproxAcqFunc \n",
            "init\t [ 1.62792386 -1.9169922 ]\t 38.25414770674631\t 0.7775687473184012\t    \n",
            "init\t [0.80188941 0.99521553]\t 2.552651714051803\t 0.7775687473184012\t    \n",
            "init\t [-0.00895793 -1.10081342]\t 1.0367630165263393\t 0.7775687473184012\t    \n",
            "init\t [-1.81162281  1.04212285]\t 0.7775687473184012\t 0.7775687473184012\t    \n",
            "init\t [-1.98533498 -1.64664074]\t 25.383481436170044\t 0.7775687473184012\t    \n",
            "1  \t [3. 2.]\t 162.89999999999998\t 0.7775687473184012\t -25.537172896930425\n",
            "2  \t [-3.  2.]\t 150.89999999999998\t 0.7775687473184012\t -88.27257892088302\n",
            "3  \t [-0.60195475  2.        ]\t 47.985623000469374\t 0.7775687473184012\t -112.34671180625071\n",
            "4  \t [ 3.         -0.33694877]\t 107.4865760895213\t 0.7775687473184012\t -108.21896807055464\n",
            "5  \t [-9.55369625e-01  3.79419389e-05]\t 2.154882990424843\t 0.7775687473184012\t -108.79740137710877\n",
            "6  \t [-3.         -0.43997123]\t 109.59549958790825\t 0.7775687473184012\t -100.32014240509582\n",
            "7  \t [-0.52988402 -2.        ]\t 50.02469963445877\t 0.7775687473184012\t -101.93293928089997\n",
            "\u001b[1m\u001b[92m8\u001b[0m\t \u001b[1m\u001b[92m[0.32153838 0.00594739]\u001b[0m\t \u001b[1m\u001b[92m0.3932403127977661\u001b[0m\t \u001b[1m\u001b[92m0.3932403127977661\u001b[0m\t \u001b[1m\u001b[92m-99.62448203414213\u001b[0m\n",
            "\u001b[1m\u001b[92m9\u001b[0m\t \u001b[1m\u001b[92m[-0.43378657  0.41380482]\u001b[0m\t \u001b[1m\u001b[92m-0.06660899631854533\u001b[0m\t \u001b[1m\u001b[92m-0.06660899631854533\u001b[0m\t \u001b[1m\u001b[92m-89.42687954653665\u001b[0m\n",
            "10 \t [ 0.68320943 -0.19010329]\t 1.1742415217045308\t -0.06660899631854533\t -84.12171405737291\n",
            "11 \t [-0.30512317 -0.06554829]\t 0.35735536769035864\t -0.06660899631854533\t -79.59815887316154\n",
            "12 \t [-3. -2.]\t 162.89999999999998\t -0.06660899631854533\t -58.820691092545786\n",
            "13 \t [ 3. -2.]\t 150.89999999999998\t -0.06660899631854533\t -64.0420419816779\n",
            "14 \t [0.97077213 2.        ]\t 52.125082975762176\t -0.06660899631854533\t -62.10481237121466\n",
            "15 \t [-1.22342912 -1.10606389]\t 4.846444601235651\t -0.06660899631854533\t -53.29066795768933\n",
            "16 \t [ 0.84265035 -1.37519235]\t 7.483215973174461\t -0.06660899631854533\t -44.980940308482985\n",
            "17 \t [1.59194232 0.5918083 ]\t 2.1070871572936336\t -0.06660899631854533\t -39.34876864781146\n",
            "18 \t [-1.20358156  1.04196072]\t 1.5189492375541116\t -0.06660899631854533\t -36.664340683770654\n",
            "19 \t [-1.87140065  0.41972404]\t 1.2039868262060862\t -0.06660899631854533\t -30.67596316394851\n",
            "20 \t [1.10294641 0.38133962]\t 2.28185839370039\t -0.06660899631854533\t -20.24383187592123\n"
          ]
        }
      ],
      "source": [
        "### Bayesian optimisation runs (x20): 'STP' Acquisition Function run number = 10 \n",
        "\n",
        "np.random.seed(run_num_10)\n",
        "surrogate_stp_10 = tStudentProcess(cov_func, nu = df, optimize=hyperOpt)\n",
        "\n",
        "stp_10 = GPGO_multi_STP(surrogate_stp_10, Acquisition_new(util_stp), f_syn_polarity, param, n_jobs = -1) # Define BayesOpt\n",
        "stp_10.run(max_iter = max_iter, init_evals = n_init) # run\n"
      ]
    },
    {
      "cell_type": "code",
      "execution_count": 42,
      "metadata": {
        "id": "iXLW3-5DJLlD",
        "colab": {
          "base_uri": "https://localhost:8080/"
        },
        "outputId": "436ca2b9-9e9e-4b0f-c55b-a3969848ece9"
      },
      "outputs": [
        {
          "output_type": "stream",
          "name": "stdout",
          "text": [
            "Evaluation \t Proposed point \t  Current eval. \t  Best eval. \t Min. ApproxAcqFunc \n",
            "init\t [-1.91838187 -1.92209903]\t 46.39910375151002\t -0.6254688257880329\t    \n",
            "init\t [-0.22068884  0.89973572]\t -0.6254688257880329\t -0.6254688257880329\t    \n",
            "init\t [-0.47877837 -0.05829161]\t 0.8249470187639529\t -0.6254688257880329\t    \n",
            "init\t [-2.92331511 -0.05051357]\t 88.99028404075307\t -0.6254688257880329\t    \n",
            "init\t [2.65083991 1.40318036]\t 51.423425402262914\t -0.6254688257880329\t    \n",
            "1  \t [ 1.81317292 -2.        ]\t 46.67106207453219\t -0.6254688257880329\t -62.997771047994114\n",
            "2  \t [-1.0890685  2.       ]\t 48.16811553759649\t -0.6254688257880329\t -61.49316470136435\n",
            "3  \t [0.72440182 0.05351781]\t 1.5962652674654907\t -0.6254688257880329\t -59.823144053694726\n",
            "4  \t [0.81034351 2.        ]\t 51.43618083574026\t -0.6254688257880329\t -52.675514116261915\n",
            "5  \t [ 0.03635108 -0.95057248]\t -0.3777391606252839\t -0.6254688257880329\t -53.325688702734304\n",
            "6  \t [ 3.         -0.59586013]\t 106.19646242098388\t -0.6254688257880329\t -49.90657831643182\n",
            "7  \t [-3.  2.]\t 150.89999999999998\t -0.6254688257880329\t -59.02983098670353\n",
            "8  \t [-0.04661012 -2.        ]\t 48.10190034265269\t -0.6254688257880329\t -75.8213521041934\n",
            "9  \t [0.03980375 0.0065835 ]\t 0.006420769762053706\t -0.6254688257880329\t -71.14383974859282\n",
            "10 \t [-3. -2.]\t 162.89999999999998\t -0.6254688257880329\t -37.70117451808631\n",
            "11 \t [-1.1110491  -1.11429635]\t 4.802973324607845\t -0.6254688257880329\t -56.99848806875345\n",
            "12 \t [ 1.01334044 -0.85768051]\t 0.6069703072930372\t -0.6254688257880329\t -40.70561813111549\n",
            "13 \t [-1.2341001   0.68104639]\t 0.5632917589415519\t -0.6254688257880329\t -33.26736600051347\n",
            "14 \t [-1.49665625 -0.22783648]\t 2.3136559147119313\t -0.6254688257880329\t -24.46296609392047\n",
            "15 \t [3. 2.]\t 162.89999999999998\t -0.6254688257880329\t -20.593550883427465\n",
            "16 \t [1.93369835 0.71608193]\t 3.4074067440967335\t -0.6254688257880329\t -67.28116862850813\n",
            "17 \t [3.         0.64794185]\t 109.86953533460479\t -0.6254688257880329\t -34.70220342634236\n",
            "18 \t [0.96299397 0.33678201]\t 2.091375692705797\t -0.6254688257880329\t -76.42061064931255\n",
            "19 \t [-0.63831421 -0.10306259]\t 1.327452949078059\t -0.6254688257880329\t -77.31114426426917\n",
            "20 \t [1.72217844 1.40465916]\t 12.186176201357057\t -0.6254688257880329\t -60.27431589055725\n"
          ]
        }
      ],
      "source": [
        "### Bayesian optimisation runs (x20): 'STP' Acquisition Function run number = 11 \n",
        "\n",
        "np.random.seed(run_num_11)\n",
        "surrogate_stp_11 = tStudentProcess(cov_func, nu = df, optimize=hyperOpt)\n",
        "\n",
        "stp_11 = GPGO_multi_STP(surrogate_stp_11, Acquisition_new(util_stp), f_syn_polarity, param, n_jobs = -1) # Define BayesOpt\n",
        "stp_11.run(max_iter = max_iter, init_evals = n_init) # run\n"
      ]
    },
    {
      "cell_type": "code",
      "execution_count": 43,
      "metadata": {
        "id": "Sv5SygMbJLlD",
        "colab": {
          "base_uri": "https://localhost:8080/"
        },
        "outputId": "d56dc053-8e78-4276-d809-7bded2197648"
      },
      "outputs": [
        {
          "output_type": "stream",
          "name": "stdout",
          "text": [
            "Evaluation \t Proposed point \t  Current eval. \t  Best eval. \t Min. ApproxAcqFunc \n",
            "init\t [-2.07502295  0.96019879]\t 2.6185857163917037\t 1.9967735906956543\t    \n",
            "init\t [-1.42010991  0.13495757]\t 1.9967735906956543\t 1.9967735906956543\t    \n",
            "init\t [-2.91255023  1.67498803]\t 101.67816714332157\t 1.9967735906956543\t    \n",
            "init\t [ 2.40428912 -1.86631429]\t 47.44624883788006\t 1.9967735906956543\t    \n",
            "init\t [ 2.74169602 -1.45116271]\t 58.32400185681089\t 1.9967735906956543\t    \n",
            "1  \t [-0.34447102  1.57379695]\t 14.535037519688759\t 1.9967735906956543\t -69.18500963898805\n",
            "2  \t [3. 2.]\t 162.89999999999998\t 1.9967735906956543\t -64.30601045284843\n",
            "3  \t [-3. -2.]\t 162.89999999999998\t 1.9967735906956543\t -101.15921224909428\n",
            "4  \t [-0.03499542 -2.        ]\t 48.07488641442547\t 1.9967735906956543\t -119.98811389473978\n",
            "\u001b[1m\u001b[92m5\u001b[0m\t \u001b[1m\u001b[92m[0.67103681 0.17048636]\u001b[0m\t \u001b[1m\u001b[92m1.4073158859475998\u001b[0m\t \u001b[1m\u001b[92m1.4073158859475998\u001b[0m\t \u001b[1m\u001b[92m-111.412337682849\u001b[0m\n",
            "\u001b[1m\u001b[92m6\u001b[0m\t \u001b[1m\u001b[92m[-0.4579038   0.01342268]\u001b[0m\t \u001b[1m\u001b[92m0.7425851015066307\u001b[0m\t \u001b[1m\u001b[92m0.7425851015066307\u001b[0m\t \u001b[1m\u001b[92m-99.43354405710384\u001b[0m\n",
            "7  \t [0.65349808 2.        ]\t 50.65819945482745\t 0.7425851015066307\t -93.74181065949482\n",
            "8  \t [-1.35215216  2.        ]\t 47.62640177556963\t 0.7425851015066307\t -68.89375058616173\n",
            "9  \t [ 1.10216211 -0.90559848]\t 0.7694712450962898\t 0.7425851015066307\t -59.363526345796274\n",
            "10 \t [-3.          0.09150595]\t 108.59226925944246\t 0.7425851015066307\t -68.90392516188791\n",
            "\u001b[1m\u001b[92m11\u001b[0m\t \u001b[1m\u001b[92m[-1.11397657  0.86682147]\u001b[0m\t \u001b[1m\u001b[92m0.6540393623900093\u001b[0m\t \u001b[1m\u001b[92m0.6540393623900093\u001b[0m\t \u001b[1m\u001b[92m-64.10549326819891\u001b[0m\n",
            "12 \t [1.99993550e+00 9.08093104e-04]\t 3.7343207013855593\t 0.6540393623900093\t -58.41082212012795\n",
            "13 \t [3.         0.03204378]\t 108.99202834010715\t 0.6540393623900093\t -45.03319026055242\n",
            "14 \t [ 1.39836277 -0.24383719]\t 1.7196121858005378\t 0.6540393623900093\t -47.529758236466044\n",
            "15 \t [1.41278456 0.68919638]\t 2.2444686005699443\t 0.6540393623900093\t -43.26544043047245\n",
            "16 \t [-0.75238295 -0.93249078]\t 1.8996751508621668\t 0.6540393623900093\t -40.857055373884144\n",
            "\u001b[1m\u001b[92m17\u001b[0m\t \u001b[1m\u001b[92m[ 0.12325394 -0.74602405]\u001b[0m\t \u001b[1m\u001b[92m-1.0188752819832316\u001b[0m\t \u001b[1m\u001b[92m-1.0188752819832316\u001b[0m\t \u001b[1m\u001b[92m-40.33590539486644\u001b[0m\n",
            "18 \t [ 1.18079343 -2.        ]\t 48.03659863887264\t -1.0188752819832316\t -34.9799929752631\n",
            "19 \t [ 0.67809241 -0.00354848]\t 1.425194040590569\t -1.0188752819832316\t -70.94014150277371\n",
            "20 \t [-1.33285866 -2.        ]\t 53.013063596842386\t -1.0188752819832316\t -73.09865611917932\n"
          ]
        }
      ],
      "source": [
        "### Bayesian optimisation runs (x20): 'STP' Acquisition Function run number = 12\n",
        "\n",
        "np.random.seed(run_num_12)\n",
        "surrogate_stp_12 = tStudentProcess(cov_func, nu = df, optimize=hyperOpt)\n",
        "\n",
        "stp_12 = GPGO_multi_STP(surrogate_stp_12, Acquisition_new(util_stp), f_syn_polarity, param, n_jobs = -1) # Define BayesOpt\n",
        "stp_12.run(max_iter = max_iter, init_evals = n_init) # run\n"
      ]
    },
    {
      "cell_type": "code",
      "execution_count": 44,
      "metadata": {
        "id": "NSskozWHJLlE",
        "colab": {
          "base_uri": "https://localhost:8080/"
        },
        "outputId": "0967f88b-1252-4828-8c2c-a453796e8554"
      },
      "outputs": [
        {
          "output_type": "stream",
          "name": "stdout",
          "text": [
            "Evaluation \t Proposed point \t  Current eval. \t  Best eval. \t Min. ApproxAcqFunc \n",
            "init\t [ 1.66621446 -1.04983512]\t 0.752930921147986\t 0.752930921147986\t    \n",
            "init\t [1.9456712  1.86299679]\t 41.05776363102951\t 0.752930921147986\t    \n",
            "init\t [ 2.83560668 -0.18620301]\t 69.0134544723513\t 0.752930921147986\t    \n",
            "init\t [0.65425478 1.10210606]\t 3.117452174069064\t 0.752930921147986\t    \n",
            "init\t [0.84968007 0.88807292]\t 2.006601529383926\t 0.752930921147986\t    \n",
            "\u001b[1m\u001b[92m1\u001b[0m\t \u001b[1m\u001b[92m[ 0.01599936 -1.07052304]\u001b[0m\t \u001b[1m\u001b[92m0.6532612451698213\u001b[0m\t \u001b[1m\u001b[92m0.6532612451698213\u001b[0m\t \u001b[1m\u001b[92m-46.067653651075744\u001b[0m\n",
            "2  \t [-1.24857331  1.06806795]\t 1.7038167421997117\t 0.6532612451698213\t -41.93331017691151\n",
            "3  \t [-3. -2.]\t 162.89999999999998\t 0.6532612451698213\t -39.00448259513831\n",
            "4  \t [-3.  2.]\t 150.89999999999998\t 0.6532612451698213\t -84.16712349712604\n",
            "5  \t [ 3. -2.]\t 150.89999999999998\t 0.6532612451698213\t -92.62031396804917\n",
            "6  \t [-0.29080048  2.        ]\t 47.741842723858944\t 0.6532612451698213\t -111.78899897476244\n",
            "7  \t [-0.78674754 -0.09389904]\t 1.789287976387161\t 0.6532612451698213\t -108.83963229803695\n",
            "8  \t [ 0.45434262 -2.        ]\t 47.83047012342883\t 0.6532612451698213\t -104.10262523962194\n",
            "9  \t [ 0.75980327 -0.40221648]\t 0.8254279267179591\t 0.6532612451698213\t -81.19565745329062\n",
            "\u001b[1m\u001b[92m10\u001b[0m\t \u001b[1m\u001b[92m[0.00712836 0.13810758]\u001b[0m\t \u001b[1m\u001b[92m-0.07365186155736925\u001b[0m\t \u001b[1m\u001b[92m-0.07365186155736925\u001b[0m\t \u001b[1m\u001b[92m-90.65654692411417\u001b[0m\n",
            "11 \t [-2.39312708  0.11669331]\t 16.311220648058026\t -0.07365186155736925\t -65.42336984034256\n",
            "12 \t [ 0.91313479 -0.07893665]\t 1.971627958413757\t -0.07365186155736925\t -81.8589635498153\n",
            "13 \t [-1.00290468 -2.        ]\t 52.24375975299863\t -0.07365186155736925\t -57.82558168023777\n",
            "14 \t [3. 2.]\t 162.89999999999998\t -0.07365186155736925\t -48.729945123103356\n",
            "15 \t [1.06702957 2.        ]\t 52.45800437787099\t -0.07365186155736925\t -52.17966301453003\n",
            "\u001b[1m\u001b[92m16\u001b[0m\t \u001b[1m\u001b[92m[-0.4534798   0.90747467]\u001b[0m\t \u001b[1m\u001b[92m-0.256219051972281\u001b[0m\t \u001b[1m\u001b[92m-0.256219051972281\u001b[0m\t \u001b[1m\u001b[92m-46.11779405129095\u001b[0m\n",
            "17 \t [-1.24068833 -0.84721162]\t 2.6379441948244953\t -0.256219051972281\t -35.05919111983274\n",
            "18 \t [-1.63517118  0.23602081]\t 1.4573719482659047\t -0.256219051972281\t -29.8913128296174\n",
            "19 \t [-0.93357888  0.12425076]\t 1.9349414526977433\t -0.256219051972281\t -65.86174725862656\n",
            "20 \t [ 0.09288625 -0.00201153]\t 0.03415228277798724\t -0.256219051972281\t -75.87929226424545\n"
          ]
        }
      ],
      "source": [
        "### Bayesian optimisation runs (x20): 'STP' Acquisition Function run number = 13 \n",
        "\n",
        "np.random.seed(run_num_13)\n",
        "surrogate_stp_13 = tStudentProcess(cov_func, nu = df, optimize=hyperOpt)\n",
        "\n",
        "stp_13 = GPGO_multi_STP(surrogate_stp_13, Acquisition_new(util_stp), f_syn_polarity, param, n_jobs = -1) # Define BayesOpt\n",
        "stp_13.run(max_iter = max_iter, init_evals = n_init) # run\n"
      ]
    },
    {
      "cell_type": "code",
      "execution_count": 45,
      "metadata": {
        "id": "aM5FQ3ibJLlE",
        "colab": {
          "base_uri": "https://localhost:8080/"
        },
        "outputId": "c5c7aa23-d2a0-4077-9541-8bdf92491f6b"
      },
      "outputs": [
        {
          "output_type": "stream",
          "name": "stdout",
          "text": [
            "Evaluation \t Proposed point \t  Current eval. \t  Best eval. \t Min. ApproxAcqFunc \n",
            "init\t [0.08366006 1.09266021]\t 1.0453292732107575\t -1.029299726828387\t    \n",
            "init\t [ 2.22256611 -1.96781221]\t 48.81113313056442\t -1.029299726828387\t    \n",
            "init\t [-1.14158445  1.83041496]\t 31.794043287944216\t -1.029299726828387\t    \n",
            "init\t [ 0.07870027 -0.7268623 ]\t -1.029299726828387\t -1.029299726828387\t    \n",
            "init\t [ 0.23519962 -1.11498023]\t 1.161934062902255\t -1.029299726828387\t    \n",
            "1  \t [1.97276669 1.56900724]\t 20.898605279257207\t -1.029299726828387\t -32.82611550027315\n",
            "2  \t [-1.96439309 -1.66859821]\t 26.46697070063422\t -1.029299726828387\t -32.15315360846204\n",
            "3  \t [-3.          0.47901049]\t 106.75575545202135\t -1.029299726828387\t -31.877702029775726\n",
            "4  \t [3.         0.15368723]\t 109.26881420705278\t -1.029299726828387\t -53.28011091194294\n",
            "5  \t [0.3382837  0.16651843]\t 0.3792346585647612\t -1.029299726828387\t -63.65528347896957\n",
            "6  \t [-0.22954273 -2.        ]\t 48.66406360774232\t -1.029299726828387\t -62.08512637862592\n",
            "7  \t [0.77564285 2.        ]\t 51.270265914654715\t -1.029299726828387\t -52.99074078629065\n",
            "8  \t [3. 2.]\t 162.89999999999998\t -1.029299726828387\t -52.883994613550996\n",
            "9  \t [-0.63922796  0.00577734]\t 1.3027396138114102\t -1.029299726828387\t -78.2425312298168\n",
            "10 \t [-3. -2.]\t 162.89999999999998\t -1.029299726828387\t -74.1490649083038\n",
            "11 \t [ 0.89020427 -0.05127447]\t 1.9608127599294964\t -1.029299726828387\t -85.72425292437535\n",
            "12 \t [-0.83428181 -0.44369746]\t 1.6168778468654414\t -1.029299726828387\t -80.45293159792617\n",
            "13 \t [0.01833908 0.06366959]\t -0.01363684398185172\t -1.029299726828387\t -77.44792286097531\n",
            "14 \t [-3.  2.]\t 150.89999999999998\t -1.029299726828387\t -59.83781453252135\n",
            "15 \t [1.44695865 0.87259252]\t 2.764549461905469\t -1.029299726828387\t -58.75298344354221\n",
            "16 \t [-1.85474804 -0.63154879]\t 2.6910458095739527\t -1.029299726828387\t -48.033413808573314\n",
            "17 \t [ 1.17071872 -1.11531546]\t 2.303697158332849\t -1.029299726828387\t -39.61035596491691\n",
            "18 \t [0.83191605 0.01878132]\t 1.8871901681542638\t -1.029299726828387\t -71.28001125081614\n",
            "19 \t [-1.30758482 -1.29495281]\t 8.599845451306683\t -1.029299726828387\t -33.29446842454126\n",
            "20 \t [-0.89114459 -0.1871268 ]\t 2.0507153233251616\t -1.029299726828387\t -70.96381122785579\n"
          ]
        }
      ],
      "source": [
        "### Bayesian optimisation runs (x20): 'STP' Acquisition Function run number = 14 \n",
        "\n",
        "np.random.seed(run_num_14)\n",
        "surrogate_stp_14 = tStudentProcess(cov_func, nu = df, optimize=hyperOpt)\n",
        "\n",
        "stp_14 = GPGO_multi_STP(surrogate_stp_14, Acquisition_new(util_stp), f_syn_polarity, param, n_jobs = -1) # Define BayesOpt\n",
        "stp_14.run(max_iter = max_iter, init_evals = n_init) # run\n"
      ]
    },
    {
      "cell_type": "code",
      "execution_count": 46,
      "metadata": {
        "id": "XmPTh2j_JLlF",
        "colab": {
          "base_uri": "https://localhost:8080/"
        },
        "outputId": "bd6e29e0-e964-4bd3-82f1-b85f1f7d7abd"
      },
      "outputs": [
        {
          "output_type": "stream",
          "name": "stdout",
          "text": [
            "Evaluation \t Proposed point \t  Current eval. \t  Best eval. \t Min. ApproxAcqFunc \n",
            "init\t [ 2.09290618 -1.2844163 ]\t 6.84252100896936\t 2.1163170846379233\t    \n",
            "init\t [-2.67382071 -0.55384622]\t 43.69785230561242\t 2.1163170846379233\t    \n",
            "init\t [-1.34759443  0.1200009 ]\t 2.1163170846379233\t 2.1163170846379233\t    \n",
            "init\t [-1.16448651 -0.78210256]\t 2.3544087277459513\t 2.1163170846379233\t    \n",
            "init\t [-2.32955234 -1.00040394]\t 15.469119251600274\t 2.1163170846379233\t    \n",
            "\u001b[1m\u001b[92m1\u001b[0m\t \u001b[1m\u001b[92m[0.09504987 0.88129959]\u001b[0m\t \u001b[1m\u001b[92m-0.57403869787426\u001b[0m\t \u001b[1m\u001b[92m-0.57403869787426\u001b[0m\t \u001b[1m\u001b[92m-24.741159339815752\u001b[0m\n",
            "2  \t [2.07694004 2.        ]\t 57.08822810561423\t -0.57403869787426\t -22.726228049298058\n",
            "3  \t [-1.30589479  2.        ]\t 47.75552533393545\t -0.57403869787426\t -35.114797630674154\n",
            "\u001b[1m\u001b[92m4\u001b[0m\t \u001b[1m\u001b[92m[ 0.23016731 -0.59211127]\u001b[0m\t \u001b[1m\u001b[92m-0.8409343974147755\u001b[0m\t \u001b[1m\u001b[92m-0.8409343974147755\u001b[0m\t \u001b[1m\u001b[92m-39.781706696007475\u001b[0m\n",
            "5  \t [-0.17407123 -2.        ]\t 48.46742681396687\t -0.8409343974147755\t -37.060869618865546\n",
            "6  \t [ 3. -2.]\t 150.89999999999998\t -0.8409343974147755\t -38.666694399801685\n",
            "7  \t [ 1.53032811 -0.2312265 ]\t 1.5752569816805573\t -0.8409343974147755\t -73.39128341360707\n",
            "8  \t [3.         0.23067688]\t 109.39050933733284\t -0.8409343974147755\t -68.67300975454226\n",
            "9  \t [-3.  2.]\t 150.89999999999998\t -0.8409343974147755\t -71.87251101706018\n",
            "10 \t [-3. -2.]\t 162.89999999999998\t -0.8409343974147755\t -82.76806632378194\n",
            "11 \t [0.52864398 0.09581696]\t 0.9753891002575057\t -0.8409343974147755\t -93.76583653993937\n",
            "12 \t [0.29928507 2.        ]\t 48.9402474741304\t -0.8409343974147755\t -89.54276853670048\n",
            "13 \t [ 1.03325335 -0.95201101]\t 0.9592290811072487\t -0.8409343974147755\t -87.2845880872915\n",
            "14 \t [ 1.28872183 -2.        ]\t 47.800387420410004\t -0.8409343974147755\t -63.390131729108354\n",
            "15 \t [-0.470544    0.27252181]\t 0.38307313110401175\t -0.8409343974147755\t -57.01072549095758\n",
            "16 \t [-1.37673111 -2.        ]\t 53.060497499871396\t -0.8409343974147755\t -43.310431253092354\n",
            "17 \t [ 1.6235639  -0.82468666]\t -0.1516006399429689\t -0.8409343974147755\t -42.80015890144561\n",
            "18 \t [ 0.90443595 -0.25008978]\t 1.5885705083070913\t -0.8409343974147755\t -62.88882742021096\n",
            "19 \t [-1.78892705 -0.57752571]\t 2.3628672127288155\t -0.8409343974147755\t -35.53976967964084\n",
            "20 \t [-0.64433458 -0.14151527]\t 1.3352388758465128\t -0.8409343974147755\t -65.56962290076827\n"
          ]
        }
      ],
      "source": [
        "### Bayesian optimisation runs (x20): 'STP' Acquisition Function run number = 15 \n",
        "\n",
        "np.random.seed(run_num_15)\n",
        "surrogate_stp_15 = tStudentProcess(cov_func, nu = df, optimize=hyperOpt)\n",
        "\n",
        "stp_15 = GPGO_multi_STP(surrogate_stp_15, Acquisition_new(util_stp), f_syn_polarity, param, n_jobs = -1) # Define BayesOpt\n",
        "stp_15.run(max_iter = max_iter, init_evals = n_init) # run\n"
      ]
    },
    {
      "cell_type": "code",
      "execution_count": 47,
      "metadata": {
        "id": "6aUP_b73JLlG",
        "colab": {
          "base_uri": "https://localhost:8080/"
        },
        "outputId": "ee76b8fe-4cc3-43ed-e807-f6e7ed8eb60a"
      },
      "outputs": [
        {
          "output_type": "stream",
          "name": "stdout",
          "text": [
            "Evaluation \t Proposed point \t  Current eval. \t  Best eval. \t Min. ApproxAcqFunc \n",
            "init\t [-1.66025353  0.09265337]\t 1.8632773736203017\t 1.8632773736203017\t    \n",
            "init\t [ 0.30420874 -1.8175922 ]\t 30.24114424375299\t 1.8632773736203017\t    \n",
            "init\t [-0.83562699 -1.10767623]\t 3.922061281476444\t 1.8632773736203017\t    \n",
            "init\t [ 1.13235697 -1.3450743 ]\t 6.7121671493737685\t 1.8632773736203017\t    \n",
            "init\t [-2.5780508   1.76404344]\t 53.42443470756798\t 1.8632773736203017\t    \n",
            "1  \t [3.         0.36513028]\t 109.53320737087877\t 1.8632773736203017\t -34.546580927233\n",
            "2  \t [-3. -2.]\t 162.89999999999998\t 1.8632773736203017\t -66.14667351140164\n",
            "3  \t [0.31580478 2.        ]\t 49.00998297983898\t 1.8632773736203017\t -101.17907780292236\n",
            "4  \t [ 3. -2.]\t 150.89999999999998\t 1.8632773736203017\t -94.98479996993336\n",
            "\u001b[1m\u001b[92m5\u001b[0m\t \u001b[1m\u001b[92m[0.05636579 0.01947509]\u001b[0m\t \u001b[1m\u001b[92m0.012268408666006533\u001b[0m\t \u001b[1m\u001b[92m0.012268408666006533\u001b[0m\t \u001b[1m\u001b[92m-107.43588894649123\u001b[0m\n",
            "6  \t [-0.79915555  0.36186799]\t 1.0405012242318643\t 0.012268408666006533\t -94.85799614213329\n",
            "7  \t [ 0.80730078 -0.09320874]\t 1.6975259874487756\t 0.012268408666006533\t -89.07532845145144\n",
            "8  \t [2.21982232 2.        ]\t 61.042270189169415\t 0.012268408666006533\t -85.3241028360955\n",
            "9  \t [-3.          0.23627954]\t 107.98031638307886\t 0.012268408666006533\t -57.7044424244893\n",
            "10 \t [-1.21991265  2.        ]\t 47.96068107258458\t 0.012268408666006533\t -55.84579162889614\n",
            "11 \t [-1.03323646 -0.36295169]\t 2.1999693809692933\t 0.012268408666006533\t -44.2047036026719\n",
            "12 \t [-1.1300656 -2.       ]\t 52.63776018018251\t 0.012268408666006533\t -44.66281725592431\n",
            "\u001b[1m\u001b[92m13\u001b[0m\t \u001b[1m\u001b[92m[ 0.3489008  -0.80440107]\u001b[0m\t \u001b[1m\u001b[92m-0.7377390730418014\u001b[0m\t \u001b[1m\u001b[92m-0.7377390730418014\u001b[0m\t \u001b[1m\u001b[92m-46.04589580623069\u001b[0m\n",
            "14 \t [0.60373354 0.83936907]\t 0.8692232876930526\t -0.7377390730418014\t -28.684470151708926\n",
            "15 \t [-1.57038443  0.85630042]\t -0.034844799904517165\t -0.7377390730418014\t -26.969581096671103\n",
            "16 \t [-0.13937665  0.93248408]\t -0.506853631687892\t -0.7377390730418014\t -19.67069434283305\n",
            "17 \t [-0.45650973  0.0286925 ]\t 0.7290276523401186\t -0.7377390730418014\t -72.41141819666883\n",
            "18 \t [ 1.5716941 -0.6830894]\t 0.02197531309005263\t -0.7377390730418014\t -22.67656102224219\n",
            "19 \t [ 0.93787559 -0.33939328]\t 1.3945102964050267\t -0.7377390730418014\t -50.9734201036237\n",
            "20 \t [-0.57507424  0.08777545]\t 1.0241643309359791\t -0.7377390730418014\t -65.40451802326182\n"
          ]
        }
      ],
      "source": [
        "### Bayesian optimisation runs (x20): 'STP' Acquisition Function run number = 16 \n",
        "\n",
        "np.random.seed(run_num_16)\n",
        "surrogate_stp_16 = tStudentProcess(cov_func, nu = df, optimize=hyperOpt)\n",
        "\n",
        "stp_16 = GPGO_multi_STP(surrogate_stp_16, Acquisition_new(util_stp), f_syn_polarity, param, n_jobs = -1) # Define BayesOpt\n",
        "stp_16.run(max_iter = max_iter, init_evals = n_init) # run\n"
      ]
    },
    {
      "cell_type": "code",
      "execution_count": 48,
      "metadata": {
        "id": "TV8_B_7cJLlH",
        "colab": {
          "base_uri": "https://localhost:8080/"
        },
        "outputId": "e4a192b0-4fe0-447f-ec07-867fd3df62f3"
      },
      "outputs": [
        {
          "output_type": "stream",
          "name": "stdout",
          "text": [
            "Evaluation \t Proposed point \t  Current eval. \t  Best eval. \t Min. ApproxAcqFunc \n",
            "init\t [-1.23200998  0.12234702]\t 2.189206652278967\t 1.7722768782964888\t    \n",
            "init\t [-1.85087528 -1.72839857]\t 29.406067820453675\t 1.7722768782964888\t    \n",
            "init\t [1.72191276 0.62533409]\t 2.2113401446731897\t 1.7722768782964888\t    \n",
            "init\t [0.82512538 0.30241158]\t 1.7722768782964888\t 1.7722768782964888\t    \n",
            "init\t [-2.7656225  -0.56874558]\t 57.5922315952177\t 1.7722768782964888\t    \n",
            "1  \t [-0.78228944  2.        ]\t 48.17324377888034\t 1.7722768782964888\t -34.531178987130666\n",
            "2  \t [ 3. -2.]\t 150.89999999999998\t 1.7722768782964888\t -40.7917135021964\n",
            "3  \t [3. 2.]\t 162.89999999999998\t 1.7722768782964888\t -83.52059447473019\n",
            "4  \t [ 0.15617669 -2.        ]\t 47.783966737310074\t 1.7722768782964888\t -107.20195697296218\n",
            "5  \t [-3.  2.]\t 150.89999999999998\t 1.7722768782964888\t -103.31941401673183\n",
            "\u001b[1m\u001b[92m6\u001b[0m\t \u001b[1m\u001b[92m[-0.12940291 -0.09391832]\u001b[0m\t \u001b[1m\u001b[92m0.043575089099104417\u001b[0m\t \u001b[1m\u001b[92m0.043575089099104417\u001b[0m\t \u001b[1m\u001b[92m-106.37948543146308\u001b[0m\n",
            "7  \t [0.73901665 2.        ]\t 51.090538726931385\t 0.043575089099104417\t -99.94976505351578\n",
            "8  \t [ 1.33600391 -0.39731272]\t 1.2821953377468855\t 0.043575089099104417\t -96.73377518850981\n",
            "9  \t [-3. -2.]\t 162.89999999999998\t 0.043575089099104417\t -88.3584425523844\n",
            "10 \t [-0.7641214  -0.69962557]\t 1.2209927623695893\t 0.043575089099104417\t -99.36889658322146\n",
            "11 \t [ 2.26579606 -0.06665091]\t 10.121353934023915\t 0.043575089099104417\t -93.3304888024368\n",
            "12 \t [ 0.54890297 -0.26939275]\t 0.6065670794498346\t 0.043575089099104417\t -90.43393229839494\n",
            "13 \t [-1.04234529 -2.        ]\t 52.37919910367424\t 0.043575089099104417\t -53.46935398018974\n",
            "14 \t [-1.65646771 -0.72820527]\t 2.2609061981309537\t 0.043575089099104417\t -45.48075282440833\n",
            "15 \t [ 1.23900635 -2.        ]\t 47.91950416052493\t 0.043575089099104417\t -39.63534665657261\n",
            "\u001b[1m\u001b[92m16\u001b[0m\t \u001b[1m\u001b[92m[-0.56686537  0.84473359]\u001b[0m\t \u001b[1m\u001b[92m-0.21682772122087512\u001b[0m\t \u001b[1m\u001b[92m-0.21682772122087512\u001b[0m\t \u001b[1m\u001b[92m-27.66641445926061\u001b[0m\n",
            "17 \t [-1.37056962  0.9689028 ]\t 0.7553436114049936\t -0.21682772122087512\t -21.709135285821\n",
            "18 \t [-2.18918168  0.43963541]\t 6.042532694976124\t -0.21682772122087512\t -20.765100639936726\n",
            "19 \t [-1.23909528  0.09953123]\t 2.234934805427608\t -0.21682772122087512\t -59.73873177319454\n",
            "20 \t [-0.65036057  0.101675  ]\t 1.2343541669555955\t -0.21682772122087512\t -75.10040994204645\n"
          ]
        }
      ],
      "source": [
        "### Bayesian optimisation runs (x20): 'STP' Acquisition Function run number = 17 \n",
        "\n",
        "np.random.seed(run_num_17)\n",
        "surrogate_stp_17 = tStudentProcess(cov_func, nu = df, optimize=hyperOpt)\n",
        "\n",
        "stp_17 = GPGO_multi_STP(surrogate_stp_17, Acquisition_new(util_stp), f_syn_polarity, param, n_jobs = -1) # Define BayesOpt\n",
        "stp_17.run(max_iter = max_iter, init_evals = n_init) # run\n"
      ]
    },
    {
      "cell_type": "code",
      "execution_count": 49,
      "metadata": {
        "id": "57ABzGR1JLlI",
        "colab": {
          "base_uri": "https://localhost:8080/"
        },
        "outputId": "a2900eee-27a2-4c77-c939-fc1274e6ba0b"
      },
      "outputs": [
        {
          "output_type": "stream",
          "name": "stdout",
          "text": [
            "Evaluation \t Proposed point \t  Current eval. \t  Best eval. \t Min. ApproxAcqFunc \n",
            "init\t [0.90224545 0.02181349]\t 2.062169771852028\t 2.062169771852028\t    \n",
            "init\t [ 2.27160883 -1.2726391 ]\t 11.64729291207819\t 2.062169771852028\t    \n",
            "init\t [2.11339841 1.00054514]\t 7.792128760671214\t 2.062169771852028\t    \n",
            "init\t [0.99661    1.95158179]\t 46.96206222999227\t 2.062169771852028\t    \n",
            "init\t [-1.45818946 -1.8867763 ]\t 41.4190528039297\t 2.062169771852028\t    \n",
            "1  \t [-3.  2.]\t 150.89999999999998\t 2.062169771852028\t -35.77487140125375\n",
            "2  \t [ 0.76754637 -2.        ]\t 48.16072397955658\t 2.062169771852028\t -82.62255941300322\n",
            "3  \t [3.         0.03807974]\t 109.00844737442829\t 2.062169771852028\t -79.43815552462645\n",
            "\u001b[1m\u001b[92m4\u001b[0m\t \u001b[1m\u001b[92m[-0.73137469  0.30403888]\u001b[0m\t \u001b[1m\u001b[92m1.0318406841542855\u001b[0m\t \u001b[1m\u001b[92m1.0318406841542855\u001b[0m\t \u001b[1m\u001b[92m-90.21543535854136\u001b[0m\n",
            "5  \t [-3.        -0.7876402]\t 110.32088317252213\t 1.0318406841542855\t -84.77370594669871\n",
            "6  \t [3. 2.]\t 162.89999999999998\t 1.0318406841542855\t -87.69581146645098\n",
            "7  \t [ 3. -2.]\t 150.89999999999998\t 1.0318406841542855\t -102.27271243449736\n",
            "8  \t [-0.66379565  2.        ]\t 48.0557079311327\t 1.0318406841542855\t -112.11975091340781\n",
            "\u001b[1m\u001b[92m9\u001b[0m\t \u001b[1m\u001b[92m[-0.08909188 -0.45462027]\u001b[0m\t \u001b[1m\u001b[92m-0.5837322723843169\u001b[0m\t \u001b[1m\u001b[92m-0.5837322723843169\u001b[0m\t \u001b[1m\u001b[92m-104.83930581043181\u001b[0m\n",
            "10 \t [0.52840839 0.41018108]\t 0.6173783725374434\t -0.5837322723843169\t -97.91596701436403\n",
            "11 \t [ 1.13986649 -0.42631438]\t 1.3023770950608473\t -0.5837322723843169\t -93.67421865318417\n",
            "12 \t [-0.52516856 -0.26562282]\t 0.8276481179346226\t -0.5837322723843169\t -88.4940118898584\n",
            "13 \t [0.20783073 0.14821815]\t 0.11374365285770029\t -0.5837322723843169\t -84.67081802697058\n",
            "14 \t [ 1.62443811 -1.39553698]\t 7.1715643052547\t -0.5837322723843169\t -43.44477660570719\n",
            "15 \t [1.77683186 0.19219982]\t 2.385569221439047\t -0.5837322723843169\t -51.79586905607983\n",
            "16 \t [1.45375314 1.0346323 ]\t 4.02632420129589\t -0.5837322723843169\t -44.41018682974942\n",
            "17 \t [-0.44957495 -2.        ]\t 49.6245845060322\t -0.5837322723843169\t -45.26637897409308\n",
            "18 \t [-1.77111673  0.38565453]\t 0.9829773035009246\t -0.5837322723843169\t -41.90564468163427\n",
            "19 \t [-3. -2.]\t 162.89999999999998\t -0.5837322723843169\t -33.88773156394349\n",
            "20 \t [-1.56546223 -0.49662395]\t 2.13081925106712\t -0.5837322723843169\t -37.962355642961725\n"
          ]
        }
      ],
      "source": [
        "### Bayesian optimisation runs (x20): 'STP' Acquisition Function run number = 18 \n",
        "\n",
        "np.random.seed(run_num_18)\n",
        "surrogate_stp_18 = tStudentProcess(cov_func, nu = df, optimize=hyperOpt)\n",
        "\n",
        "stp_18 = GPGO_multi_STP(surrogate_stp_18, Acquisition_new(util_stp), f_syn_polarity, param, n_jobs = -1) # Define BayesOpt\n",
        "stp_18.run(max_iter = max_iter, init_evals = n_init) # run\n"
      ]
    },
    {
      "cell_type": "code",
      "execution_count": 50,
      "metadata": {
        "id": "x2CyIorrJLlJ",
        "colab": {
          "base_uri": "https://localhost:8080/"
        },
        "outputId": "3fc1ff94-29d0-4e63-f3a8-b1898fbcf791"
      },
      "outputs": [
        {
          "output_type": "stream",
          "name": "stdout",
          "text": [
            "Evaluation \t Proposed point \t  Current eval. \t  Best eval. \t Min. ApproxAcqFunc \n",
            "init\t [-2.41479839  1.04499887]\t 15.890475442873509\t 6.578088852480828\t    \n",
            "init\t [-1.51837216 -1.44747325]\t 13.520839509777993\t 6.578088852480828\t    \n",
            "init\t [-1.01132062 -1.66800174]\t 23.772158573571232\t 6.578088852480828\t    \n",
            "init\t [1.03186249 1.22637519]\t 6.578088852480828\t 6.578088852480828\t    \n",
            "init\t [2.89645149 0.54264294]\t 83.31828503667734\t 6.578088852480828\t    \n",
            "1  \t [ 1.61911267 -2.        ]\t 46.821232195289845\t 6.578088852480828\t -48.79185464302441\n",
            "2  \t [-0.42866702  2.        ]\t 47.808847135749744\t 6.578088852480828\t -50.725229049050256\n",
            "3  \t [-3. -2.]\t 162.89999999999998\t 6.578088852480828\t -51.40436734932729\n",
            "\u001b[1m\u001b[92m4\u001b[0m\t \u001b[1m\u001b[92m[-0.11486601 -0.20022559]\u001b[0m\t \u001b[1m\u001b[92m-0.07852112331783768\u001b[0m\t \u001b[1m\u001b[92m-0.07852112331783768\u001b[0m\t \u001b[1m\u001b[92m-86.31886072271946\u001b[0m\n",
            "5  \t [-3.  2.]\t 150.89999999999998\t -0.07852112331783768\t -79.1208305701896\n",
            "6  \t [-1.401999    0.07384691]\t 2.155066481974262\t -0.07852112331783768\t -98.00169617082113\n",
            "7  \t [ 3. -2.]\t 150.89999999999998\t -0.07852112331783768\t -87.92846527537692\n",
            "8  \t [ 0.12862033 -2.        ]\t 47.80835888924397\t -0.07852112331783768\t -98.43975727711381\n",
            "9  \t [1.8463923 2.       ]\t 54.129957937027385\t -0.07852112331783768\t -95.55977262543985\n",
            "10 \t [0.76423338 0.00750318]\t 1.6917830763442783\t -0.07852112331783768\t -92.72569317616428\n",
            "11 \t [-0.49584106  0.39009953]\t 0.15194409267855125\t -0.07852112331783768\t -86.8951253013309\n",
            "12 \t [-3.         0.0755948]\t 108.65048792495784\t -0.07852112331783768\t -89.59009791158499\n",
            "13 \t [-0.73381394 -0.27948566]\t 1.5141020183199119\t -0.07852112331783768\t -84.13934673453002\n",
            "14 \t [-1.54725294  1.22667806]\t 3.2539546273570905\t -0.07852112331783768\t -67.54864017372928\n",
            "\u001b[1m\u001b[92m15\u001b[0m\t \u001b[1m\u001b[92m[0.36315632 0.75341655]\u001b[0m\t \u001b[1m\u001b[92m-0.21632386545539306\u001b[0m\t \u001b[1m\u001b[92m-0.21632386545539306\u001b[0m\t \u001b[1m\u001b[92m-39.457657606717646\u001b[0m\n",
            "16 \t [ 1.03534367 -0.9912176 ]\t 1.190335999756694\t -0.21632386545539306\t -39.012329802325574\n",
            "17 \t [0.70765695 2.        ]\t 50.9336530934471\t -0.21632386545539306\t -32.39478177328799\n",
            "18 \t [3. 2.]\t 162.89999999999998\t -0.21632386545539306\t -28.96927511616041\n",
            "19 \t [ 0.83755277 -0.04322446]\t 1.8439846827004702\t -0.21632386545539306\t -80.91046244230824\n",
            "20 \t [ 1.95158019 -0.57080274]\t 1.195677570023511\t -0.21632386545539306\t -35.22864201940107\n"
          ]
        }
      ],
      "source": [
        "### Bayesian optimisation runs (x20): 'STP' Acquisition Function run number = 19 \n",
        "\n",
        "np.random.seed(run_num_19)\n",
        "surrogate_stp_19 = tStudentProcess(cov_func, nu = df, optimize=hyperOpt)\n",
        "\n",
        "stp_19 = GPGO_multi_STP(surrogate_stp_19, Acquisition_new(util_stp), f_syn_polarity, param, n_jobs = -1) # Define BayesOpt\n",
        "stp_19.run(max_iter = max_iter, init_evals = n_init) # run\n"
      ]
    },
    {
      "cell_type": "code",
      "execution_count": 51,
      "metadata": {
        "id": "4O6_IplWJLlJ",
        "colab": {
          "base_uri": "https://localhost:8080/"
        },
        "outputId": "64274b7e-5e3f-4ae4-8e15-836df4bbeaaf"
      },
      "outputs": [
        {
          "output_type": "stream",
          "name": "stdout",
          "text": [
            "Evaluation \t Proposed point \t  Current eval. \t  Best eval. \t Min. ApproxAcqFunc \n",
            "init\t [0.52878481 1.59085491]\t 17.29968374481291\t 1.5037392797834441\t    \n",
            "init\t [2.34918438 1.26334991]\t 20.91583049569433\t 1.5037392797834441\t    \n",
            "init\t [-2.78466249  0.76703033]\t 57.06253405225224\t 1.5037392797834441\t    \n",
            "init\t [-0.72791435  0.07404378]\t 1.5037392797834441\t 1.5037392797834441\t    \n",
            "init\t [ 0.94770879 -1.22459913]\t 3.9766737661914173\t 1.5037392797834441\t    \n",
            "1  \t [ 3. -2.]\t 150.89999999999998\t 1.5037392797834441\t -35.02728882936374\n",
            "2  \t [-1.05657835 -2.        ]\t 52.42520835007441\t 1.5037392797834441\t -86.2025673818544\n",
            "3  \t [-3. -2.]\t 162.89999999999998\t 1.5037392797834441\t -79.98992210518861\n",
            "4  \t [-1.1014746  2.       ]\t 48.15419217772206\t 1.5037392797834441\t -103.25693270259436\n",
            "5  \t [ 0.72500793 -0.00690668]\t 1.565540987678011\t 1.5037392797834441\t -97.910487339232\n",
            "6  \t [3. 2.]\t 162.89999999999998\t 1.5037392797834441\t -89.14168359276556\n",
            "7  \t [1.79368543 0.05490158]\t 2.319299616460192\t 1.5037392797834441\t -105.18307578022018\n",
            "\u001b[1m\u001b[92m8\u001b[0m\t \u001b[1m\u001b[92m[ 0.02043252 -0.67304654]\u001b[0m\t \u001b[1m\u001b[92m-1.003243312153763\u001b[0m\t \u001b[1m\u001b[92m-1.003243312153763\u001b[0m\t \u001b[1m\u001b[92m-96.94303011777713\u001b[0m\n",
            "9  \t [ 0.52130364 -2.        ]\t 47.896023143034895\t -1.003243312153763\t -92.99124618291503\n",
            "10 \t [0.94430957 0.41377215]\t 1.9565370449697257\t -1.003243312153763\t -89.18216853727294\n",
            "11 \t [-0.02723888  0.15992968]\t -0.10108281412080655\t -1.003243312153763\t -84.30868031334651\n",
            "12 \t [3.         0.23958947]\t 109.40233642793031\t -1.003243312153763\t -67.91112608221705\n",
            "13 \t [1.51037975 1.72301325]\t 28.135470723981058\t -1.003243312153763\t -72.48006924411897\n",
            "14 \t [-3.  2.]\t 150.89999999999998\t -1.003243312153763\t -67.52481859958243\n",
            "15 \t [-2.12090223 -0.30499631]\t 6.149907340935654\t -1.003243312153763\t -56.22112332394332\n",
            "16 \t [-3.         -0.20763606]\t 109.35789207307909\t -1.003243312153763\t -47.93586553914279\n",
            "17 \t [-1.72672069  0.54864915]\t 0.30394439650691596\t -1.003243312153763\t -62.01580625739521\n",
            "18 \t [-1.32819545 -0.75894385]\t 2.3822121968651055\t -1.003243312153763\t -53.652708769748116\n",
            "19 \t [1.56592759 0.79728686]\t 2.4182960114598737\t -1.003243312153763\t -58.137505425231055\n",
            "20 \t [-0.99150611  0.01030359]\t 2.2088437696995995\t -1.003243312153763\t -83.7123835698656\n"
          ]
        }
      ],
      "source": [
        "### Bayesian optimisation runs (x20): 'STP' Acquisition Function run number = 20 \n",
        "\n",
        "np.random.seed(run_num_20)\n",
        "surrogate_stp_20 = tStudentProcess(cov_func, nu = df, optimize=hyperOpt)\n",
        "\n",
        "stp_20 = GPGO_multi_STP(surrogate_stp_20, Acquisition_new(util_stp), f_syn_polarity, param, n_jobs = -1) # Define BayesOpt\n",
        "stp_20.run(max_iter = max_iter, init_evals = n_init) # run\n"
      ]
    },
    {
      "cell_type": "code",
      "execution_count": 52,
      "metadata": {
        "id": "B9S2UvZ9JLlK",
        "colab": {
          "base_uri": "https://localhost:8080/"
        },
        "outputId": "b036e30e-5291-48c0-f81a-b7ac13e0b2c6"
      },
      "outputs": [
        {
          "output_type": "execute_result",
          "data": {
            "text/plain": [
              "(-0.2658009358573259, -0.4324230041054587)"
            ]
          },
          "metadata": {},
          "execution_count": 52
        }
      ],
      "source": [
        "### Simple regret minimisation: run number = 1\n",
        "\n",
        "gp_output_1 = np.append(np.max(gp_1.GP.y[0:n_init]),gp_1.GP.y[n_init:(n_init+max_iter)]) \n",
        "stp_output_1 = np.append(np.max(stp_1.GP.y[0:n_init]),stp_1.GP.y[n_init:(n_init+max_iter)]) \n",
        "\n",
        "regret_gp_1 = np.log(y_global_orig - gp_output_1)\n",
        "regret_stp_1 = np.log(y_global_orig - stp_output_1)\n",
        "\n",
        "simple_regret_gp_1 = min_max_array(regret_gp_1)\n",
        "simple_regret_stp_1 = min_max_array(regret_stp_1)\n",
        "\n",
        "min_simple_regret_gp_1 = min(simple_regret_gp_1)\n",
        "min_simple_regret_stp_1 = min(simple_regret_stp_1)\n",
        "\n",
        "min_simple_regret_gp_1, min_simple_regret_stp_1\n"
      ]
    },
    {
      "cell_type": "code",
      "execution_count": 53,
      "metadata": {
        "id": "adGcU8l5JLlK",
        "colab": {
          "base_uri": "https://localhost:8080/"
        },
        "outputId": "95a562f3-3523-4be3-87ca-b6bc517730e7"
      },
      "outputs": [
        {
          "output_type": "execute_result",
          "data": {
            "text/plain": [
              "(-0.18375926548093918, 0.04261840449610358)"
            ]
          },
          "metadata": {},
          "execution_count": 53
        }
      ],
      "source": [
        "### Simple regret minimisation: run number = 2\n",
        "\n",
        "gp_output_2 = np.append(np.max(gp_2.GP.y[0:n_init]),gp_2.GP.y[n_init:(n_init+max_iter)]) \n",
        "stp_output_2 = np.append(np.max(stp_2.GP.y[0:n_init]),stp_2.GP.y[n_init:(n_init+max_iter)]) \n",
        "\n",
        "regret_gp_2 = np.log(y_global_orig - gp_output_2)\n",
        "regret_stp_2 = np.log(y_global_orig - stp_output_2)\n",
        "\n",
        "simple_regret_gp_2 = min_max_array(regret_gp_2)\n",
        "simple_regret_stp_2 = min_max_array(regret_stp_2)\n",
        "\n",
        "min_simple_regret_gp_2 = min(simple_regret_gp_2)\n",
        "min_simple_regret_stp_2 = min(simple_regret_stp_2)\n",
        "\n",
        "min_simple_regret_gp_2, min_simple_regret_stp_2\n"
      ]
    },
    {
      "cell_type": "code",
      "execution_count": 54,
      "metadata": {
        "id": "1F9LaViaJLlL",
        "colab": {
          "base_uri": "https://localhost:8080/"
        },
        "outputId": "837356a0-d515-4021-f632-683dcc4a6f2d"
      },
      "outputs": [
        {
          "output_type": "execute_result",
          "data": {
            "text/plain": [
              "(-2.4814014054585907, -0.23773993035753282)"
            ]
          },
          "metadata": {},
          "execution_count": 54
        }
      ],
      "source": [
        "### Simple regret minimisation: run number = 3\n",
        "\n",
        "gp_output_3 = np.append(np.max(gp_3.GP.y[0:n_init]),gp_3.GP.y[n_init:(n_init+max_iter)]) \n",
        "stp_output_3 = np.append(np.max(stp_3.GP.y[0:n_init]),stp_3.GP.y[n_init:(n_init+max_iter)]) \n",
        "\n",
        "regret_gp_3 = np.log(y_global_orig - gp_output_3)\n",
        "regret_stp_3 = np.log(y_global_orig - stp_output_3)\n",
        "\n",
        "simple_regret_gp_3 = min_max_array(regret_gp_3)\n",
        "simple_regret_stp_3 = min_max_array(regret_stp_3)\n",
        "\n",
        "min_simple_regret_gp_3 = min(simple_regret_gp_3)\n",
        "min_simple_regret_stp_3 = min(simple_regret_stp_3)\n",
        "\n",
        "min_simple_regret_gp_3, min_simple_regret_stp_3\n"
      ]
    },
    {
      "cell_type": "code",
      "execution_count": 55,
      "metadata": {
        "id": "vThMylZmJLlL",
        "colab": {
          "base_uri": "https://localhost:8080/"
        },
        "outputId": "8c88721f-2c31-4232-9a12-0db45094af3f"
      },
      "outputs": [
        {
          "output_type": "execute_result",
          "data": {
            "text/plain": [
              "(-4.2667122550300425, -2.203504874231067)"
            ]
          },
          "metadata": {},
          "execution_count": 55
        }
      ],
      "source": [
        "### Simple regret minimisation: run number = 4\n",
        "\n",
        "gp_output_4 = np.append(np.max(gp_4.GP.y[0:n_init]),gp_4.GP.y[n_init:(n_init+max_iter)]) \n",
        "stp_output_4 = np.append(np.max(stp_4.GP.y[0:n_init]),stp_4.GP.y[n_init:(n_init+max_iter)]) \n",
        "\n",
        "regret_gp_4 = np.log(y_global_orig - gp_output_4)\n",
        "regret_stp_4 = np.log(y_global_orig - stp_output_4)\n",
        "\n",
        "simple_regret_gp_4 = min_max_array(regret_gp_4)\n",
        "simple_regret_stp_4 = min_max_array(regret_stp_4)\n",
        "\n",
        "min_simple_regret_gp_4 = min(simple_regret_gp_4)\n",
        "min_simple_regret_stp_4 = min(simple_regret_stp_4)\n",
        "\n",
        "min_simple_regret_gp_4, min_simple_regret_stp_4\n"
      ]
    },
    {
      "cell_type": "code",
      "execution_count": 56,
      "metadata": {
        "id": "9Um6_WG7JLlM",
        "colab": {
          "base_uri": "https://localhost:8080/"
        },
        "outputId": "5171bd7c-2d36-4a91-dd76-0c347e591dc8"
      },
      "outputs": [
        {
          "output_type": "execute_result",
          "data": {
            "text/plain": [
              "(-0.9667370327122197, -0.9667370327122197)"
            ]
          },
          "metadata": {},
          "execution_count": 56
        }
      ],
      "source": [
        "### Simple regret minimisation: run number = 5\n",
        "\n",
        "gp_output_5 = np.append(np.max(gp_5.GP.y[0:n_init]),gp_5.GP.y[n_init:(n_init+max_iter)]) \n",
        "stp_output_5 = np.append(np.max(stp_5.GP.y[0:n_init]),stp_5.GP.y[n_init:(n_init+max_iter)]) \n",
        "\n",
        "regret_gp_5 = np.log(y_global_orig - gp_output_5)\n",
        "regret_stp_5 = np.log(y_global_orig - stp_output_5)\n",
        "\n",
        "simple_regret_gp_5 = min_max_array(regret_gp_5)\n",
        "simple_regret_stp_5 = min_max_array(regret_stp_5)\n",
        "\n",
        "min_simple_regret_gp_5 = min(simple_regret_gp_5)\n",
        "min_simple_regret_stp_5 = min(simple_regret_stp_5)\n",
        "\n",
        "min_simple_regret_gp_5, min_simple_regret_stp_5\n"
      ]
    },
    {
      "cell_type": "code",
      "execution_count": 57,
      "metadata": {
        "id": "s7F8Y3b9JLlM",
        "colab": {
          "base_uri": "https://localhost:8080/"
        },
        "outputId": "3b09bcfe-4e55-4f38-b8eb-3238792bc4c2"
      },
      "outputs": [
        {
          "output_type": "execute_result",
          "data": {
            "text/plain": [
              "(-1.5083259857662752, -0.3257561052987614)"
            ]
          },
          "metadata": {},
          "execution_count": 57
        }
      ],
      "source": [
        "### Simple regret minimisation: run number = 6\n",
        "\n",
        "gp_output_6 = np.append(np.max(gp_6.GP.y[0:n_init]),gp_6.GP.y[n_init:(n_init+max_iter)]) \n",
        "stp_output_6 = np.append(np.max(stp_6.GP.y[0:n_init]),stp_6.GP.y[n_init:(n_init+max_iter)]) \n",
        "\n",
        "regret_gp_6 = np.log(y_global_orig - gp_output_6)\n",
        "regret_stp_6 = np.log(y_global_orig - stp_output_6)\n",
        "\n",
        "simple_regret_gp_6 = min_max_array(regret_gp_6)\n",
        "simple_regret_stp_6 = min_max_array(regret_stp_6)\n",
        "\n",
        "min_simple_regret_gp_6 = min(simple_regret_gp_6)\n",
        "min_simple_regret_stp_6 = min(simple_regret_stp_6)\n",
        "\n",
        "min_simple_regret_gp_6, min_simple_regret_stp_6\n"
      ]
    },
    {
      "cell_type": "code",
      "execution_count": 58,
      "metadata": {
        "id": "FbMNex-gJLlN",
        "colab": {
          "base_uri": "https://localhost:8080/"
        },
        "outputId": "0356af65-a5a4-4217-f3a2-07aca1cfaa7e"
      },
      "outputs": [
        {
          "output_type": "execute_result",
          "data": {
            "text/plain": [
              "(-0.567767694400235, -0.567767694400235)"
            ]
          },
          "metadata": {},
          "execution_count": 58
        }
      ],
      "source": [
        "### Simple regret minimisation: run number = 7\n",
        "\n",
        "gp_output_7 = np.append(np.max(gp_7.GP.y[0:n_init]),gp_7.GP.y[n_init:(n_init+max_iter)]) \n",
        "stp_output_7 = np.append(np.max(stp_7.GP.y[0:n_init]),stp_7.GP.y[n_init:(n_init+max_iter)]) \n",
        "\n",
        "regret_gp_7 = np.log(y_global_orig - gp_output_7)\n",
        "regret_stp_7 = np.log(y_global_orig - stp_output_7)\n",
        "\n",
        "simple_regret_gp_7 = min_max_array(regret_gp_7)\n",
        "simple_regret_stp_7 = min_max_array(regret_stp_7)\n",
        "\n",
        "min_simple_regret_gp_7 = min(simple_regret_gp_7)\n",
        "min_simple_regret_stp_7 = min(simple_regret_stp_7)\n",
        "\n",
        "min_simple_regret_gp_7, min_simple_regret_stp_7\n"
      ]
    },
    {
      "cell_type": "code",
      "execution_count": 59,
      "metadata": {
        "id": "yTxbjos2JLlN",
        "colab": {
          "base_uri": "https://localhost:8080/"
        },
        "outputId": "906118a3-3a4f-485c-8256-5f0750a08330"
      },
      "outputs": [
        {
          "output_type": "execute_result",
          "data": {
            "text/plain": [
              "(-0.6948145686170544, -0.5506070763501968)"
            ]
          },
          "metadata": {},
          "execution_count": 59
        }
      ],
      "source": [
        "### Simple regret minimisation: run number = 8\n",
        "\n",
        "gp_output_8 = np.append(np.max(gp_8.GP.y[0:n_init]),gp_8.GP.y[n_init:(n_init+max_iter)]) \n",
        "stp_output_8 = np.append(np.max(stp_8.GP.y[0:n_init]),stp_8.GP.y[n_init:(n_init+max_iter)]) \n",
        "\n",
        "regret_gp_8 = np.log(y_global_orig - gp_output_8)\n",
        "regret_stp_8 = np.log(y_global_orig - stp_output_8)\n",
        "\n",
        "simple_regret_gp_8 = min_max_array(regret_gp_8)\n",
        "simple_regret_stp_8 = min_max_array(regret_stp_8)\n",
        "\n",
        "min_simple_regret_gp_8 = min(simple_regret_gp_8)\n",
        "min_simple_regret_stp_8 = min(simple_regret_stp_8)\n",
        "\n",
        "min_simple_regret_gp_8, min_simple_regret_stp_8\n"
      ]
    },
    {
      "cell_type": "code",
      "execution_count": 60,
      "metadata": {
        "id": "iBuMpq59JLlO",
        "colab": {
          "base_uri": "https://localhost:8080/"
        },
        "outputId": "045ae39c-ec23-496f-cdd3-642bf6a6bed2"
      },
      "outputs": [
        {
          "output_type": "execute_result",
          "data": {
            "text/plain": [
              "(-0.0442334382153568, -1.0718106848116216)"
            ]
          },
          "metadata": {},
          "execution_count": 60
        }
      ],
      "source": [
        "### Simple regret minimisation: run number = 9\n",
        "\n",
        "gp_output_9 = np.append(np.max(gp_9.GP.y[0:n_init]),gp_9.GP.y[n_init:(n_init+max_iter)]) \n",
        "stp_output_9 = np.append(np.max(stp_9.GP.y[0:n_init]),stp_9.GP.y[n_init:(n_init+max_iter)]) \n",
        "\n",
        "regret_gp_9 = np.log(y_global_orig - gp_output_9)\n",
        "regret_stp_9 = np.log(y_global_orig - stp_output_9)\n",
        "\n",
        "simple_regret_gp_9 = min_max_array(regret_gp_9)\n",
        "simple_regret_stp_9 = min_max_array(regret_stp_9)\n",
        "\n",
        "min_simple_regret_gp_9 = min(simple_regret_gp_9)\n",
        "min_simple_regret_stp_9 = min(simple_regret_stp_9)\n",
        "\n",
        "min_simple_regret_gp_9, min_simple_regret_stp_9\n"
      ]
    },
    {
      "cell_type": "code",
      "execution_count": 61,
      "metadata": {
        "id": "MT-MYaKEJLlO",
        "colab": {
          "base_uri": "https://localhost:8080/"
        },
        "outputId": "570a0a57-6fa3-484c-a777-00220bf01902"
      },
      "outputs": [
        {
          "output_type": "execute_result",
          "data": {
            "text/plain": [
              "(-0.2313807563785099, -0.03563650029649838)"
            ]
          },
          "metadata": {},
          "execution_count": 61
        }
      ],
      "source": [
        "### Simple regret minimisation: run number = 10\n",
        "\n",
        "gp_output_10 = np.append(np.max(gp_10.GP.y[0:n_init]),gp_10.GP.y[n_init:(n_init+max_iter)]) \n",
        "stp_output_10 = np.append(np.max(stp_10.GP.y[0:n_init]),stp_10.GP.y[n_init:(n_init+max_iter)]) \n",
        "\n",
        "regret_gp_10 = np.log(y_global_orig - gp_output_10)\n",
        "regret_stp_10 = np.log(y_global_orig - stp_output_10)\n",
        "\n",
        "simple_regret_gp_10 = min_max_array(regret_gp_10)\n",
        "simple_regret_stp_10 = min_max_array(regret_stp_10)\n",
        "\n",
        "min_simple_regret_gp_10 = min(simple_regret_gp_10)\n",
        "min_simple_regret_stp_10 = min(simple_regret_stp_10)\n",
        "\n",
        "min_simple_regret_gp_10, min_simple_regret_stp_10\n"
      ]
    },
    {
      "cell_type": "code",
      "execution_count": 62,
      "metadata": {
        "id": "JgXNMHBOJLlP",
        "colab": {
          "base_uri": "https://localhost:8080/"
        },
        "outputId": "ca56a36d-4a7d-4775-a828-42dcab5b6b0c"
      },
      "outputs": [
        {
          "output_type": "execute_result",
          "data": {
            "text/plain": [
              "(-0.9010790823704407, -0.9010790823704407)"
            ]
          },
          "metadata": {},
          "execution_count": 62
        }
      ],
      "source": [
        "### Simple regret minimisation: run number = 11\n",
        "\n",
        "gp_output_11 = np.append(np.max(gp_11.GP.y[0:n_init]),gp_11.GP.y[n_init:(n_init+max_iter)]) \n",
        "stp_output_11 = np.append(np.max(stp_11.GP.y[0:n_init]),stp_11.GP.y[n_init:(n_init+max_iter)]) \n",
        "\n",
        "regret_gp_11 = np.log(y_global_orig - gp_output_11)\n",
        "regret_stp_11 = np.log(y_global_orig - stp_output_11)\n",
        "\n",
        "simple_regret_gp_11 = min_max_array(regret_gp_11)\n",
        "simple_regret_stp_11 = min_max_array(regret_stp_11)\n",
        "\n",
        "min_simple_regret_gp_11 = min(simple_regret_gp_11)\n",
        "min_simple_regret_stp_11 = min(simple_regret_stp_11)\n",
        "\n",
        "min_simple_regret_gp_11, min_simple_regret_stp_11\n"
      ]
    },
    {
      "cell_type": "code",
      "execution_count": 63,
      "metadata": {
        "id": "CNvnLAXOJLlQ",
        "colab": {
          "base_uri": "https://localhost:8080/"
        },
        "outputId": "0b08983b-d116-4621-bbec-4dfacd0733d8"
      },
      "outputs": [
        {
          "output_type": "execute_result",
          "data": {
            "text/plain": [
              "(0.6958750220451255, -4.364208876573523)"
            ]
          },
          "metadata": {},
          "execution_count": 63
        }
      ],
      "source": [
        "### Simple regret minimisation: run number = 12\n",
        "\n",
        "gp_output_12 = np.append(np.max(gp_12.GP.y[0:n_init]),gp_12.GP.y[n_init:(n_init+max_iter)]) \n",
        "stp_output_12 = np.append(np.max(stp_12.GP.y[0:n_init]),stp_12.GP.y[n_init:(n_init+max_iter)]) \n",
        "\n",
        "regret_gp_12 = np.log(y_global_orig - gp_output_12)\n",
        "regret_stp_12 = np.log(y_global_orig - stp_output_12)\n",
        "\n",
        "simple_regret_gp_12 = min_max_array(regret_gp_12)\n",
        "simple_regret_stp_12 = min_max_array(regret_stp_12)\n",
        "\n",
        "min_simple_regret_gp_12 = min(simple_regret_gp_12)\n",
        "min_simple_regret_stp_12 = min(simple_regret_stp_12)\n",
        "\n",
        "min_simple_regret_gp_12, min_simple_regret_stp_12\n"
      ]
    },
    {
      "cell_type": "code",
      "execution_count": 64,
      "metadata": {
        "id": "LccPP2SJJLlQ",
        "colab": {
          "base_uri": "https://localhost:8080/"
        },
        "outputId": "3f1e535d-86a0-43b5-ee21-58e07b6d6302"
      },
      "outputs": [
        {
          "output_type": "execute_result",
          "data": {
            "text/plain": [
              "(-2.017552288373221, -0.2544008245556553)"
            ]
          },
          "metadata": {},
          "execution_count": 64
        }
      ],
      "source": [
        "### Simple regret minimisation: run number = 13\n",
        "\n",
        "gp_output_13 = np.append(np.max(gp_13.GP.y[0:n_init]),gp_13.GP.y[n_init:(n_init+max_iter)]) \n",
        "stp_output_13 = np.append(np.max(stp_13.GP.y[0:n_init]),stp_13.GP.y[n_init:(n_init+max_iter)]) \n",
        "\n",
        "regret_gp_13 = np.log(y_global_orig - gp_output_13)\n",
        "regret_stp_13 = np.log(y_global_orig - stp_output_13)\n",
        "\n",
        "simple_regret_gp_13 = min_max_array(regret_gp_13)\n",
        "simple_regret_stp_13 = min_max_array(regret_stp_13)\n",
        "\n",
        "min_simple_regret_gp_13 = min(simple_regret_gp_13)\n",
        "min_simple_regret_stp_13 = min(simple_regret_stp_13)\n",
        "\n",
        "min_simple_regret_gp_13, min_simple_regret_stp_13\n"
      ]
    },
    {
      "cell_type": "code",
      "execution_count": 65,
      "metadata": {
        "id": "OsCDbV_CJLlR",
        "colab": {
          "base_uri": "https://localhost:8080/"
        },
        "outputId": "9305db99-846c-43d5-d0e3-da18cade78da"
      },
      "outputs": [
        {
          "output_type": "execute_result",
          "data": {
            "text/plain": [
              "(-6.074727392833108, -6.074727392833108)"
            ]
          },
          "metadata": {},
          "execution_count": 65
        }
      ],
      "source": [
        "### Simple regret minimisation: run number = 14\n",
        "\n",
        "gp_output_14 = np.append(np.max(gp_14.GP.y[0:n_init]),gp_14.GP.y[n_init:(n_init+max_iter)]) \n",
        "stp_output_14 = np.append(np.max(stp_14.GP.y[0:n_init]),stp_14.GP.y[n_init:(n_init+max_iter)]) \n",
        "\n",
        "regret_gp_14 = np.log(y_global_orig - gp_output_14)\n",
        "regret_stp_14 = np.log(y_global_orig - stp_output_14)\n",
        "\n",
        "simple_regret_gp_14 = min_max_array(regret_gp_14)\n",
        "simple_regret_stp_14 = min_max_array(regret_stp_14)\n",
        "\n",
        "min_simple_regret_gp_14 = min(simple_regret_gp_14)\n",
        "min_simple_regret_stp_14 = min(simple_regret_stp_14)\n",
        "\n",
        "min_simple_regret_gp_14, min_simple_regret_stp_14\n"
      ]
    },
    {
      "cell_type": "code",
      "execution_count": 66,
      "metadata": {
        "id": "HVNGSKzNJLlR",
        "colab": {
          "base_uri": "https://localhost:8080/"
        },
        "outputId": "5e5fc343-81b0-4e8e-d83d-117974d78f47"
      },
      "outputs": [
        {
          "output_type": "execute_result",
          "data": {
            "text/plain": [
              "(-0.729954806981144, -1.657234157132746)"
            ]
          },
          "metadata": {},
          "execution_count": 66
        }
      ],
      "source": [
        "### Simple regret minimisation: run number = 15\n",
        "\n",
        "gp_output_15 = np.append(np.max(gp_15.GP.y[0:n_init]),gp_15.GP.y[n_init:(n_init+max_iter)]) \n",
        "stp_output_15 = np.append(np.max(stp_15.GP.y[0:n_init]),stp_15.GP.y[n_init:(n_init+max_iter)]) \n",
        "\n",
        "regret_gp_15 = np.log(y_global_orig - gp_output_15)\n",
        "regret_stp_15 = np.log(y_global_orig - stp_output_15)\n",
        "\n",
        "simple_regret_gp_15 = min_max_array(regret_gp_15)\n",
        "simple_regret_stp_15 = min_max_array(regret_stp_15)\n",
        "\n",
        "min_simple_regret_gp_15 = min(simple_regret_gp_15)\n",
        "min_simple_regret_stp_15 = min(simple_regret_stp_15)\n",
        "\n",
        "min_simple_regret_gp_15, min_simple_regret_stp_15\n"
      ]
    },
    {
      "cell_type": "code",
      "execution_count": 67,
      "metadata": {
        "id": "vFT0-DcpJLlS",
        "colab": {
          "base_uri": "https://localhost:8080/"
        },
        "outputId": "3c8f4d34-9969-4ad6-ea66-43a0f8561438"
      },
      "outputs": [
        {
          "output_type": "execute_result",
          "data": {
            "text/plain": [
              "(1.0348161634987434, -1.2246486611181637)"
            ]
          },
          "metadata": {},
          "execution_count": 67
        }
      ],
      "source": [
        "### Simple regret minimisation: run number = 16\n",
        "\n",
        "gp_output_16 = np.append(np.max(gp_16.GP.y[0:n_init]),gp_16.GP.y[n_init:(n_init+max_iter)]) \n",
        "stp_output_16 = np.append(np.max(stp_16.GP.y[0:n_init]),stp_16.GP.y[n_init:(n_init+max_iter)]) \n",
        "\n",
        "regret_gp_16 = np.log(y_global_orig - gp_output_16)\n",
        "regret_stp_16 = np.log(y_global_orig - stp_output_16)\n",
        "\n",
        "simple_regret_gp_16 = min_max_array(regret_gp_16)\n",
        "simple_regret_stp_16 = min_max_array(regret_stp_16)\n",
        "\n",
        "min_simple_regret_gp_16 = min(simple_regret_gp_16)\n",
        "min_simple_regret_stp_16 = min(simple_regret_stp_16)\n",
        "\n",
        "min_simple_regret_gp_16, min_simple_regret_stp_16\n"
      ]
    },
    {
      "cell_type": "code",
      "execution_count": 68,
      "metadata": {
        "id": "TPbl73U3JLlS",
        "colab": {
          "base_uri": "https://localhost:8080/"
        },
        "outputId": "79285b8e-d98b-45c9-d7e5-5910ef89a5ea"
      },
      "outputs": [
        {
          "output_type": "execute_result",
          "data": {
            "text/plain": [
              "(-0.4028872060396779, -0.20484661732518225)"
            ]
          },
          "metadata": {},
          "execution_count": 68
        }
      ],
      "source": [
        "### Simple regret minimisation: run number = 17\n",
        "\n",
        "gp_output_17 = np.append(np.max(gp_17.GP.y[0:n_init]),gp_17.GP.y[n_init:(n_init+max_iter)]) \n",
        "stp_output_17 = np.append(np.max(stp_17.GP.y[0:n_init]),stp_17.GP.y[n_init:(n_init+max_iter)]) \n",
        "\n",
        "regret_gp_17 = np.log(y_global_orig - gp_output_17)\n",
        "regret_stp_17 = np.log(y_global_orig - stp_output_17)\n",
        "\n",
        "simple_regret_gp_17 = min_max_array(regret_gp_17)\n",
        "simple_regret_stp_17 = min_max_array(regret_stp_17)\n",
        "\n",
        "min_simple_regret_gp_17 = min(simple_regret_gp_17)\n",
        "min_simple_regret_stp_17 = min(simple_regret_stp_17)\n",
        "\n",
        "min_simple_regret_gp_17, min_simple_regret_stp_17\n"
      ]
    },
    {
      "cell_type": "code",
      "execution_count": 69,
      "metadata": {
        "id": "ANjpLP7uJLlT",
        "colab": {
          "base_uri": "https://localhost:8080/"
        },
        "outputId": "4142d756-1f88-4b93-f0be-b74cee3ec2d3"
      },
      "outputs": [
        {
          "output_type": "execute_result",
          "data": {
            "text/plain": [
              "(0.018788699166066045, -0.8032573410201177)"
            ]
          },
          "metadata": {},
          "execution_count": 69
        }
      ],
      "source": [
        "### Simple regret minimisation: run number = 18\n",
        "\n",
        "gp_output_18 = np.append(np.max(gp_18.GP.y[0:n_init]),gp_18.GP.y[n_init:(n_init+max_iter)]) \n",
        "stp_output_18 = np.append(np.max(stp_18.GP.y[0:n_init]),stp_18.GP.y[n_init:(n_init+max_iter)]) \n",
        "\n",
        "regret_gp_18 = np.log(y_global_orig - gp_output_18)\n",
        "regret_stp_18 = np.log(y_global_orig - stp_output_18)\n",
        "\n",
        "simple_regret_gp_18 = min_max_array(regret_gp_18)\n",
        "simple_regret_stp_18 = min_max_array(regret_stp_18)\n",
        "\n",
        "min_simple_regret_gp_18 = min(simple_regret_gp_18)\n",
        "min_simple_regret_stp_18 = min(simple_regret_stp_18)\n",
        "\n",
        "min_simple_regret_gp_18, min_simple_regret_stp_18\n"
      ]
    },
    {
      "cell_type": "code",
      "execution_count": 70,
      "metadata": {
        "id": "yYy7bHMOJLlT",
        "colab": {
          "base_uri": "https://localhost:8080/"
        },
        "outputId": "071000e1-a2fb-40b0-bd9c-b96e5107d2ec"
      },
      "outputs": [
        {
          "output_type": "execute_result",
          "data": {
            "text/plain": [
              "(0.0030001346983022995, -0.2042284077340919)"
            ]
          },
          "metadata": {},
          "execution_count": 70
        }
      ],
      "source": [
        "### Simple regret minimisation: run number = 19\n",
        "\n",
        "gp_output_19 = np.append(np.max(gp_19.GP.y[0:n_init]),gp_19.GP.y[n_init:(n_init+max_iter)]) \n",
        "stp_output_19 = np.append(np.max(stp_19.GP.y[0:n_init]),stp_19.GP.y[n_init:(n_init+max_iter)]) \n",
        "\n",
        "regret_gp_19 = np.log(y_global_orig - gp_output_19)\n",
        "regret_stp_19 = np.log(y_global_orig - stp_output_19)\n",
        "\n",
        "simple_regret_gp_19 = min_max_array(regret_gp_19)\n",
        "simple_regret_stp_19 = min_max_array(regret_stp_19)\n",
        "\n",
        "min_simple_regret_gp_19 = min(simple_regret_gp_19)\n",
        "min_simple_regret_stp_19 = min(simple_regret_stp_19)\n",
        "\n",
        "min_simple_regret_gp_19, min_simple_regret_stp_19\n"
      ]
    },
    {
      "cell_type": "code",
      "execution_count": 71,
      "metadata": {
        "id": "7h8DTQ7MJLlU",
        "colab": {
          "base_uri": "https://localhost:8080/"
        },
        "outputId": "3f436fe6-4186-483c-d965-f007f51032ba"
      },
      "outputs": [
        {
          "output_type": "execute_result",
          "data": {
            "text/plain": [
              "(0.2099242534907819, -3.5628923737635745)"
            ]
          },
          "metadata": {},
          "execution_count": 71
        }
      ],
      "source": [
        "### Simple regret minimisation: run number = 20\n",
        "\n",
        "gp_output_20 = np.append(np.max(gp_20.GP.y[0:n_init]),gp_20.GP.y[n_init:(n_init+max_iter)]) \n",
        "stp_output_20 = np.append(np.max(stp_20.GP.y[0:n_init]),stp_20.GP.y[n_init:(n_init+max_iter)]) \n",
        "\n",
        "regret_gp_20 = np.log(y_global_orig - gp_output_20)\n",
        "regret_stp_20 = np.log(y_global_orig - stp_output_20)\n",
        "\n",
        "simple_regret_gp_20 = min_max_array(regret_gp_20)\n",
        "simple_regret_stp_20 = min_max_array(regret_stp_20)\n",
        "\n",
        "min_simple_regret_gp_20 = min(simple_regret_gp_20)\n",
        "min_simple_regret_stp_20 = min(simple_regret_stp_20)\n",
        "\n",
        "min_simple_regret_gp_20, min_simple_regret_stp_20\n"
      ]
    },
    {
      "cell_type": "code",
      "execution_count": 72,
      "metadata": {
        "id": "FuTVzVQkJLlU"
      },
      "outputs": [],
      "source": [
        "# Iteration1 :\n",
        "\n",
        "slice1 = 0\n",
        "\n",
        "gp1 = [simple_regret_gp_1[slice1],\n",
        "       simple_regret_gp_2[slice1],\n",
        "       simple_regret_gp_3[slice1],\n",
        "       simple_regret_gp_4[slice1],\n",
        "       simple_regret_gp_5[slice1],\n",
        "       simple_regret_gp_6[slice1],\n",
        "       simple_regret_gp_7[slice1],\n",
        "       simple_regret_gp_8[slice1],\n",
        "       simple_regret_gp_9[slice1],\n",
        "       simple_regret_gp_10[slice1],\n",
        "       simple_regret_gp_11[slice1],\n",
        "       simple_regret_gp_12[slice1],\n",
        "       simple_regret_gp_13[slice1],\n",
        "       simple_regret_gp_14[slice1],\n",
        "       simple_regret_gp_15[slice1],\n",
        "       simple_regret_gp_16[slice1],\n",
        "       simple_regret_gp_17[slice1],\n",
        "       simple_regret_gp_18[slice1],\n",
        "       simple_regret_gp_19[slice1],\n",
        "       simple_regret_gp_20[slice1]]\n",
        "\n",
        "stp1 = [simple_regret_stp_1[slice1],\n",
        "       simple_regret_stp_2[slice1],\n",
        "       simple_regret_stp_3[slice1],\n",
        "       simple_regret_stp_4[slice1],\n",
        "       simple_regret_stp_5[slice1],\n",
        "       simple_regret_stp_6[slice1],\n",
        "       simple_regret_stp_7[slice1],\n",
        "       simple_regret_stp_8[slice1],\n",
        "       simple_regret_stp_9[slice1],\n",
        "       simple_regret_stp_10[slice1],\n",
        "       simple_regret_stp_11[slice1],\n",
        "       simple_regret_stp_12[slice1],\n",
        "       simple_regret_stp_13[slice1],\n",
        "       simple_regret_stp_14[slice1],\n",
        "       simple_regret_stp_15[slice1],\n",
        "       simple_regret_stp_16[slice1],\n",
        "       simple_regret_stp_17[slice1],\n",
        "       simple_regret_stp_18[slice1],\n",
        "       simple_regret_stp_19[slice1],\n",
        "       simple_regret_stp_20[slice1]]\n",
        "\n",
        "gp1_results = pd.DataFrame(gp1).sort_values(by=[0], ascending=False)\n",
        "stp1_results = pd.DataFrame(stp1).sort_values(by=[0], ascending=False)\n",
        "\n",
        "### Best training regret minimization IQR - gp:\n",
        "lower_gp1 = np.asarray(gp1_results[4:5][0])[0]\n",
        "median_gp1 = np.asarray(gp1_results[9:10][0])[0]\n",
        "upper_gp1 = np.asarray(gp1_results[14:15][0])[0]\n",
        "\n",
        "lower_stp1 = np.asarray(stp1_results[4:5][0])[0]\n",
        "median_stp1 = np.asarray(stp1_results[9:10][0])[0]\n",
        "upper_stp1 = np.asarray(stp1_results[14:15][0])[0]\n"
      ]
    },
    {
      "cell_type": "code",
      "execution_count": 73,
      "metadata": {
        "id": "OCTtqlBHJLlV"
      },
      "outputs": [],
      "source": [
        "# Iteration11 :\n",
        "\n",
        "slice11 = 10\n",
        "\n",
        "gp11 = [simple_regret_gp_1[slice11],\n",
        "       simple_regret_gp_2[slice11],\n",
        "       simple_regret_gp_3[slice11],\n",
        "       simple_regret_gp_4[slice11],\n",
        "       simple_regret_gp_5[slice11],\n",
        "       simple_regret_gp_6[slice11],\n",
        "       simple_regret_gp_7[slice11],\n",
        "       simple_regret_gp_8[slice11],\n",
        "       simple_regret_gp_9[slice11],\n",
        "       simple_regret_gp_10[slice11],\n",
        "       simple_regret_gp_11[slice11],\n",
        "       simple_regret_gp_12[slice11],\n",
        "       simple_regret_gp_13[slice11],\n",
        "       simple_regret_gp_14[slice11],\n",
        "       simple_regret_gp_15[slice11],\n",
        "       simple_regret_gp_16[slice11],\n",
        "       simple_regret_gp_17[slice11],\n",
        "       simple_regret_gp_18[slice11],\n",
        "       simple_regret_gp_19[slice11],\n",
        "       simple_regret_gp_20[slice11]]\n",
        "\n",
        "stp11 = [simple_regret_stp_1[slice11],\n",
        "       simple_regret_stp_2[slice11],\n",
        "       simple_regret_stp_3[slice11],\n",
        "       simple_regret_stp_4[slice11],\n",
        "       simple_regret_stp_5[slice11],\n",
        "       simple_regret_stp_6[slice11],\n",
        "       simple_regret_stp_7[slice11],\n",
        "       simple_regret_stp_8[slice11],\n",
        "       simple_regret_stp_9[slice11],\n",
        "       simple_regret_stp_10[slice11],\n",
        "       simple_regret_stp_11[slice11],\n",
        "       simple_regret_stp_12[slice11],\n",
        "       simple_regret_stp_13[slice11],\n",
        "       simple_regret_stp_14[slice11],\n",
        "       simple_regret_stp_15[slice11],\n",
        "       simple_regret_stp_16[slice11],\n",
        "       simple_regret_stp_17[slice11],\n",
        "       simple_regret_stp_18[slice11],\n",
        "       simple_regret_stp_19[slice11],\n",
        "       simple_regret_stp_20[slice11]]\n",
        "\n",
        "gp11_results = pd.DataFrame(gp11).sort_values(by=[0], ascending=False)\n",
        "stp11_results = pd.DataFrame(stp11).sort_values(by=[0], ascending=False)\n",
        "\n",
        "### Best training regret minimization IQR - gp:\n",
        "lower_gp11 = np.asarray(gp11_results[4:5][0])[0]\n",
        "median_gp11 = np.asarray(gp11_results[9:10][0])[0]\n",
        "upper_gp11 = np.asarray(gp11_results[14:15][0])[0]\n",
        "\n",
        "lower_stp11 = np.asarray(stp11_results[4:5][0])[0]\n",
        "median_stp11 = np.asarray(stp11_results[9:10][0])[0]\n",
        "upper_stp11 = np.asarray(stp11_results[14:15][0])[0]\n"
      ]
    },
    {
      "cell_type": "code",
      "execution_count": 74,
      "metadata": {
        "id": "OhneK6K5JLlV"
      },
      "outputs": [],
      "source": [
        "# Iteration21 :\n",
        "\n",
        "slice21 = 20\n",
        "\n",
        "gp21 = [simple_regret_gp_1[slice21],\n",
        "       simple_regret_gp_2[slice21],\n",
        "       simple_regret_gp_3[slice21],\n",
        "       simple_regret_gp_4[slice21],\n",
        "       simple_regret_gp_5[slice21],\n",
        "       simple_regret_gp_6[slice21],\n",
        "       simple_regret_gp_7[slice21],\n",
        "       simple_regret_gp_8[slice21],\n",
        "       simple_regret_gp_9[slice21],\n",
        "       simple_regret_gp_10[slice21],\n",
        "       simple_regret_gp_11[slice21],\n",
        "       simple_regret_gp_12[slice21],\n",
        "       simple_regret_gp_13[slice21],\n",
        "       simple_regret_gp_14[slice21],\n",
        "       simple_regret_gp_15[slice21],\n",
        "       simple_regret_gp_16[slice21],\n",
        "       simple_regret_gp_17[slice21],\n",
        "       simple_regret_gp_18[slice21],\n",
        "       simple_regret_gp_19[slice21],\n",
        "       simple_regret_gp_20[slice21]]\n",
        "\n",
        "stp21 = [simple_regret_stp_1[slice21],\n",
        "       simple_regret_stp_2[slice21],\n",
        "       simple_regret_stp_3[slice21],\n",
        "       simple_regret_stp_4[slice21],\n",
        "       simple_regret_stp_5[slice21],\n",
        "       simple_regret_stp_6[slice21],\n",
        "       simple_regret_stp_7[slice21],\n",
        "       simple_regret_stp_8[slice21],\n",
        "       simple_regret_stp_9[slice21],\n",
        "       simple_regret_stp_10[slice21],\n",
        "       simple_regret_stp_11[slice21],\n",
        "       simple_regret_stp_12[slice21],\n",
        "       simple_regret_stp_13[slice21],\n",
        "       simple_regret_stp_14[slice21],\n",
        "       simple_regret_stp_15[slice21],\n",
        "       simple_regret_stp_16[slice21],\n",
        "       simple_regret_stp_17[slice21],\n",
        "       simple_regret_stp_18[slice21],\n",
        "       simple_regret_stp_19[slice21],\n",
        "       simple_regret_stp_20[slice21]]\n",
        "\n",
        "gp21_results = pd.DataFrame(gp21).sort_values(by=[0], ascending=False)\n",
        "stp21_results = pd.DataFrame(stp21).sort_values(by=[0], ascending=False)\n",
        "\n",
        "### Best training regret minimization IQR - gp:\n",
        "lower_gp21 = np.asarray(gp21_results[4:5][0])[0]\n",
        "median_gp21 = np.asarray(gp21_results[9:10][0])[0]\n",
        "upper_gp21 = np.asarray(gp21_results[14:15][0])[0]\n",
        "\n",
        "lower_stp21 = np.asarray(stp21_results[4:5][0])[0]\n",
        "median_stp21 = np.asarray(stp21_results[9:10][0])[0]\n",
        "upper_stp21 = np.asarray(stp21_results[14:15][0])[0]\n"
      ]
    },
    {
      "cell_type": "code",
      "execution_count": 75,
      "metadata": {
        "id": "wetKUCmLJLlb"
      },
      "outputs": [],
      "source": [
        "# Iteration2 :\n",
        "\n",
        "slice2 = 1\n",
        "\n",
        "gp2 = [simple_regret_gp_1[slice2],\n",
        "       simple_regret_gp_2[slice2],\n",
        "       simple_regret_gp_3[slice2],\n",
        "       simple_regret_gp_4[slice2],\n",
        "       simple_regret_gp_5[slice2],\n",
        "       simple_regret_gp_6[slice2],\n",
        "       simple_regret_gp_7[slice2],\n",
        "       simple_regret_gp_8[slice2],\n",
        "       simple_regret_gp_9[slice2],\n",
        "       simple_regret_gp_10[slice2],\n",
        "       simple_regret_gp_11[slice2],\n",
        "       simple_regret_gp_12[slice2],\n",
        "       simple_regret_gp_13[slice2],\n",
        "       simple_regret_gp_14[slice2],\n",
        "       simple_regret_gp_15[slice2],\n",
        "       simple_regret_gp_16[slice2],\n",
        "       simple_regret_gp_17[slice2],\n",
        "       simple_regret_gp_18[slice2],\n",
        "       simple_regret_gp_19[slice2],\n",
        "       simple_regret_gp_20[slice2]]\n",
        "\n",
        "stp2 = [simple_regret_stp_1[slice2],\n",
        "       simple_regret_stp_2[slice2],\n",
        "       simple_regret_stp_3[slice2],\n",
        "       simple_regret_stp_4[slice2],\n",
        "       simple_regret_stp_5[slice2],\n",
        "       simple_regret_stp_6[slice2],\n",
        "       simple_regret_stp_7[slice2],\n",
        "       simple_regret_stp_8[slice2],\n",
        "       simple_regret_stp_9[slice2],\n",
        "       simple_regret_stp_10[slice2],\n",
        "       simple_regret_stp_11[slice2],\n",
        "       simple_regret_stp_12[slice2],\n",
        "       simple_regret_stp_13[slice2],\n",
        "       simple_regret_stp_14[slice2],\n",
        "       simple_regret_stp_15[slice2],\n",
        "       simple_regret_stp_16[slice2],\n",
        "       simple_regret_stp_17[slice2],\n",
        "       simple_regret_stp_18[slice2],\n",
        "       simple_regret_stp_19[slice2],\n",
        "       simple_regret_stp_20[slice2]]\n",
        "\n",
        "gp2_results = pd.DataFrame(gp2).sort_values(by=[0], ascending=False)\n",
        "stp2_results = pd.DataFrame(stp2).sort_values(by=[0], ascending=False)\n",
        "\n",
        "### Best training regret minimization IQR - gp:\n",
        "lower_gp2 = np.asarray(gp2_results[4:5][0])[0]\n",
        "median_gp2 = np.asarray(gp2_results[9:10][0])[0]\n",
        "upper_gp2 = np.asarray(gp2_results[14:15][0])[0]\n",
        "\n",
        "lower_stp2 = np.asarray(stp2_results[4:5][0])[0]\n",
        "median_stp2 = np.asarray(stp2_results[9:10][0])[0]\n",
        "upper_stp2 = np.asarray(stp2_results[14:15][0])[0]\n"
      ]
    },
    {
      "cell_type": "code",
      "execution_count": 76,
      "metadata": {
        "id": "8dIyaTLKJLlc"
      },
      "outputs": [],
      "source": [
        "# Iteration12 :\n",
        "\n",
        "slice12 = 11\n",
        "\n",
        "gp12 = [simple_regret_gp_1[slice12],\n",
        "       simple_regret_gp_2[slice12],\n",
        "       simple_regret_gp_3[slice12],\n",
        "       simple_regret_gp_4[slice12],\n",
        "       simple_regret_gp_5[slice12],\n",
        "       simple_regret_gp_6[slice12],\n",
        "       simple_regret_gp_7[slice12],\n",
        "       simple_regret_gp_8[slice12],\n",
        "       simple_regret_gp_9[slice12],\n",
        "       simple_regret_gp_10[slice12],\n",
        "       simple_regret_gp_11[slice12],\n",
        "       simple_regret_gp_12[slice12],\n",
        "       simple_regret_gp_13[slice12],\n",
        "       simple_regret_gp_14[slice12],\n",
        "       simple_regret_gp_15[slice12],\n",
        "       simple_regret_gp_16[slice12],\n",
        "       simple_regret_gp_17[slice12],\n",
        "       simple_regret_gp_18[slice12],\n",
        "       simple_regret_gp_19[slice12],\n",
        "       simple_regret_gp_20[slice12]]\n",
        "\n",
        "stp12 = [simple_regret_stp_1[slice12],\n",
        "       simple_regret_stp_2[slice12],\n",
        "       simple_regret_stp_3[slice12],\n",
        "       simple_regret_stp_4[slice12],\n",
        "       simple_regret_stp_5[slice12],\n",
        "       simple_regret_stp_6[slice12],\n",
        "       simple_regret_stp_7[slice12],\n",
        "       simple_regret_stp_8[slice12],\n",
        "       simple_regret_stp_9[slice12],\n",
        "       simple_regret_stp_10[slice12],\n",
        "       simple_regret_stp_11[slice12],\n",
        "       simple_regret_stp_12[slice12],\n",
        "       simple_regret_stp_13[slice12],\n",
        "       simple_regret_stp_14[slice12],\n",
        "       simple_regret_stp_15[slice12],\n",
        "       simple_regret_stp_16[slice12],\n",
        "       simple_regret_stp_17[slice12],\n",
        "       simple_regret_stp_18[slice12],\n",
        "       simple_regret_stp_19[slice12],\n",
        "       simple_regret_stp_20[slice12]]\n",
        "\n",
        "gp12_results = pd.DataFrame(gp12).sort_values(by=[0], ascending=False)\n",
        "stp12_results = pd.DataFrame(stp12).sort_values(by=[0], ascending=False)\n",
        "\n",
        "### Best training regret minimization IQR - gp:\n",
        "lower_gp12 = np.asarray(gp12_results[4:5][0])[0]\n",
        "median_gp12 = np.asarray(gp12_results[9:10][0])[0]\n",
        "upper_gp12 = np.asarray(gp12_results[14:15][0])[0]\n",
        "\n",
        "lower_stp12 = np.asarray(stp12_results[4:5][0])[0]\n",
        "median_stp12 = np.asarray(stp12_results[9:10][0])[0]\n",
        "upper_stp12 = np.asarray(stp12_results[14:15][0])[0]\n"
      ]
    },
    {
      "cell_type": "code",
      "execution_count": 77,
      "metadata": {
        "id": "1_6u8LF1JLlt"
      },
      "outputs": [],
      "source": [
        "# Iteration3 :\n",
        "\n",
        "slice3 = 2\n",
        "\n",
        "gp3 = [simple_regret_gp_1[slice3],\n",
        "       simple_regret_gp_2[slice3],\n",
        "       simple_regret_gp_3[slice3],\n",
        "       simple_regret_gp_4[slice3],\n",
        "       simple_regret_gp_5[slice3],\n",
        "       simple_regret_gp_6[slice3],\n",
        "       simple_regret_gp_7[slice3],\n",
        "       simple_regret_gp_8[slice3],\n",
        "       simple_regret_gp_9[slice3],\n",
        "       simple_regret_gp_10[slice3],\n",
        "       simple_regret_gp_11[slice3],\n",
        "       simple_regret_gp_12[slice3],\n",
        "       simple_regret_gp_13[slice3],\n",
        "       simple_regret_gp_14[slice3],\n",
        "       simple_regret_gp_15[slice3],\n",
        "       simple_regret_gp_16[slice3],\n",
        "       simple_regret_gp_17[slice3],\n",
        "       simple_regret_gp_18[slice3],\n",
        "       simple_regret_gp_19[slice3],\n",
        "       simple_regret_gp_20[slice3]]\n",
        "\n",
        "stp3 = [simple_regret_stp_1[slice3],\n",
        "       simple_regret_stp_2[slice3],\n",
        "       simple_regret_stp_3[slice3],\n",
        "       simple_regret_stp_4[slice3],\n",
        "       simple_regret_stp_5[slice3],\n",
        "       simple_regret_stp_6[slice3],\n",
        "       simple_regret_stp_7[slice3],\n",
        "       simple_regret_stp_8[slice3],\n",
        "       simple_regret_stp_9[slice3],\n",
        "       simple_regret_stp_10[slice3],\n",
        "       simple_regret_stp_11[slice3],\n",
        "       simple_regret_stp_12[slice3],\n",
        "       simple_regret_stp_13[slice3],\n",
        "       simple_regret_stp_14[slice3],\n",
        "       simple_regret_stp_15[slice3],\n",
        "       simple_regret_stp_16[slice3],\n",
        "       simple_regret_stp_17[slice3],\n",
        "       simple_regret_stp_18[slice3],\n",
        "       simple_regret_stp_19[slice3],\n",
        "       simple_regret_stp_20[slice3]]\n",
        "\n",
        "gp3_results = pd.DataFrame(gp3).sort_values(by=[0], ascending=False)\n",
        "stp3_results = pd.DataFrame(stp3).sort_values(by=[0], ascending=False)\n",
        "\n",
        "### Best training regret minimization IQR - gp:\n",
        "lower_gp3 = np.asarray(gp3_results[4:5][0])[0]\n",
        "median_gp3 = np.asarray(gp3_results[9:10][0])[0]\n",
        "upper_gp3 = np.asarray(gp3_results[14:15][0])[0]\n",
        "\n",
        "lower_stp3 = np.asarray(stp3_results[4:5][0])[0]\n",
        "median_stp3 = np.asarray(stp3_results[9:10][0])[0]\n",
        "upper_stp3 = np.asarray(stp3_results[14:15][0])[0]\n"
      ]
    },
    {
      "cell_type": "code",
      "execution_count": 78,
      "metadata": {
        "id": "GGEAa73pJLlu"
      },
      "outputs": [],
      "source": [
        "# Iteration13 :\n",
        "\n",
        "slice13 = 12\n",
        "\n",
        "gp13 = [simple_regret_gp_1[slice13],\n",
        "       simple_regret_gp_2[slice13],\n",
        "       simple_regret_gp_3[slice13],\n",
        "       simple_regret_gp_4[slice13],\n",
        "       simple_regret_gp_5[slice13],\n",
        "       simple_regret_gp_6[slice13],\n",
        "       simple_regret_gp_7[slice13],\n",
        "       simple_regret_gp_8[slice13],\n",
        "       simple_regret_gp_9[slice13],\n",
        "       simple_regret_gp_10[slice13],\n",
        "       simple_regret_gp_11[slice13],\n",
        "       simple_regret_gp_12[slice13],\n",
        "       simple_regret_gp_13[slice13],\n",
        "       simple_regret_gp_14[slice13],\n",
        "       simple_regret_gp_15[slice13],\n",
        "       simple_regret_gp_16[slice13],\n",
        "       simple_regret_gp_17[slice13],\n",
        "       simple_regret_gp_18[slice13],\n",
        "       simple_regret_gp_19[slice13],\n",
        "       simple_regret_gp_20[slice13]]\n",
        "\n",
        "stp13 = [simple_regret_stp_1[slice13],\n",
        "       simple_regret_stp_2[slice13],\n",
        "       simple_regret_stp_3[slice13],\n",
        "       simple_regret_stp_4[slice13],\n",
        "       simple_regret_stp_5[slice13],\n",
        "       simple_regret_stp_6[slice13],\n",
        "       simple_regret_stp_7[slice13],\n",
        "       simple_regret_stp_8[slice13],\n",
        "       simple_regret_stp_9[slice13],\n",
        "       simple_regret_stp_10[slice13],\n",
        "       simple_regret_stp_11[slice13],\n",
        "       simple_regret_stp_12[slice13],\n",
        "       simple_regret_stp_13[slice13],\n",
        "       simple_regret_stp_14[slice13],\n",
        "       simple_regret_stp_15[slice13],\n",
        "       simple_regret_stp_16[slice13],\n",
        "       simple_regret_stp_17[slice13],\n",
        "       simple_regret_stp_18[slice13],\n",
        "       simple_regret_stp_19[slice13],\n",
        "       simple_regret_stp_20[slice13]]\n",
        "\n",
        "gp13_results = pd.DataFrame(gp12).sort_values(by=[0], ascending=False)\n",
        "stp13_results = pd.DataFrame(stp12).sort_values(by=[0], ascending=False)\n",
        "\n",
        "### Best training regret minimization IQR - gp:\n",
        "lower_gp13 = np.asarray(gp13_results[4:5][0])[0]\n",
        "median_gp13 = np.asarray(gp13_results[9:10][0])[0]\n",
        "upper_gp13 = np.asarray(gp13_results[14:15][0])[0]\n",
        "\n",
        "lower_stp13 = np.asarray(stp13_results[4:5][0])[0]\n",
        "median_stp13 = np.asarray(stp13_results[9:10][0])[0]\n",
        "upper_stp13 = np.asarray(stp13_results[14:15][0])[0]\n"
      ]
    },
    {
      "cell_type": "code",
      "execution_count": 79,
      "metadata": {
        "id": "T30xLxygJLl0"
      },
      "outputs": [],
      "source": [
        "# Iteration4 :\n",
        "\n",
        "slice4 = 3\n",
        "\n",
        "gp4 = [simple_regret_gp_1[slice4],\n",
        "       simple_regret_gp_2[slice4],\n",
        "       simple_regret_gp_3[slice4],\n",
        "       simple_regret_gp_4[slice4],\n",
        "       simple_regret_gp_5[slice4],\n",
        "       simple_regret_gp_6[slice4],\n",
        "       simple_regret_gp_7[slice4],\n",
        "       simple_regret_gp_8[slice4],\n",
        "       simple_regret_gp_9[slice4],\n",
        "       simple_regret_gp_10[slice4],\n",
        "       simple_regret_gp_11[slice4],\n",
        "       simple_regret_gp_12[slice4],\n",
        "       simple_regret_gp_13[slice4],\n",
        "       simple_regret_gp_14[slice4],\n",
        "       simple_regret_gp_15[slice4],\n",
        "       simple_regret_gp_16[slice4],\n",
        "       simple_regret_gp_17[slice4],\n",
        "       simple_regret_gp_18[slice4],\n",
        "       simple_regret_gp_19[slice4],\n",
        "       simple_regret_gp_20[slice4]]\n",
        "\n",
        "stp4 = [simple_regret_stp_1[slice4],\n",
        "       simple_regret_stp_2[slice4],\n",
        "       simple_regret_stp_3[slice4],\n",
        "       simple_regret_stp_4[slice4],\n",
        "       simple_regret_stp_5[slice4],\n",
        "       simple_regret_stp_6[slice4],\n",
        "       simple_regret_stp_7[slice4],\n",
        "       simple_regret_stp_8[slice4],\n",
        "       simple_regret_stp_9[slice4],\n",
        "       simple_regret_stp_10[slice4],\n",
        "       simple_regret_stp_11[slice4],\n",
        "       simple_regret_stp_12[slice4],\n",
        "       simple_regret_stp_13[slice4],\n",
        "       simple_regret_stp_14[slice4],\n",
        "       simple_regret_stp_15[slice4],\n",
        "       simple_regret_stp_16[slice4],\n",
        "       simple_regret_stp_17[slice4],\n",
        "       simple_regret_stp_18[slice4],\n",
        "       simple_regret_stp_19[slice4],\n",
        "       simple_regret_stp_20[slice4]]\n",
        "\n",
        "gp4_results = pd.DataFrame(gp4).sort_values(by=[0], ascending=False)\n",
        "stp4_results = pd.DataFrame(stp4).sort_values(by=[0], ascending=False)\n",
        "\n",
        "### Best training regret minimization IQR - gp:\n",
        "lower_gp4 = np.asarray(gp4_results[4:5][0])[0]\n",
        "median_gp4 = np.asarray(gp4_results[9:10][0])[0]\n",
        "upper_gp4 = np.asarray(gp4_results[14:15][0])[0]\n",
        "\n",
        "lower_stp4 = np.asarray(stp4_results[4:5][0])[0]\n",
        "median_stp4 = np.asarray(stp4_results[9:10][0])[0]\n",
        "upper_stp4 = np.asarray(stp4_results[14:15][0])[0]\n"
      ]
    },
    {
      "cell_type": "code",
      "execution_count": 80,
      "metadata": {
        "id": "MQ-jpNrnJLl1"
      },
      "outputs": [],
      "source": [
        "# Iteration14 :\n",
        "\n",
        "slice14 = 13\n",
        "\n",
        "gp14 = [simple_regret_gp_1[slice14],\n",
        "       simple_regret_gp_2[slice14],\n",
        "       simple_regret_gp_3[slice14],\n",
        "       simple_regret_gp_4[slice14],\n",
        "       simple_regret_gp_5[slice14],\n",
        "       simple_regret_gp_6[slice14],\n",
        "       simple_regret_gp_7[slice14],\n",
        "       simple_regret_gp_8[slice14],\n",
        "       simple_regret_gp_9[slice14],\n",
        "       simple_regret_gp_10[slice14],\n",
        "       simple_regret_gp_11[slice14],\n",
        "       simple_regret_gp_12[slice14],\n",
        "       simple_regret_gp_13[slice14],\n",
        "       simple_regret_gp_14[slice14],\n",
        "       simple_regret_gp_15[slice14],\n",
        "       simple_regret_gp_16[slice14],\n",
        "       simple_regret_gp_17[slice14],\n",
        "       simple_regret_gp_18[slice14],\n",
        "       simple_regret_gp_19[slice14],\n",
        "       simple_regret_gp_20[slice14]]\n",
        "\n",
        "stp14 = [simple_regret_stp_1[slice14],\n",
        "       simple_regret_stp_2[slice14],\n",
        "       simple_regret_stp_3[slice14],\n",
        "       simple_regret_stp_4[slice14],\n",
        "       simple_regret_stp_5[slice14],\n",
        "       simple_regret_stp_6[slice14],\n",
        "       simple_regret_stp_7[slice14],\n",
        "       simple_regret_stp_8[slice14],\n",
        "       simple_regret_stp_9[slice14],\n",
        "       simple_regret_stp_10[slice14],\n",
        "       simple_regret_stp_11[slice14],\n",
        "       simple_regret_stp_12[slice14],\n",
        "       simple_regret_stp_13[slice14],\n",
        "       simple_regret_stp_14[slice14],\n",
        "       simple_regret_stp_15[slice14],\n",
        "       simple_regret_stp_16[slice14],\n",
        "       simple_regret_stp_17[slice14],\n",
        "       simple_regret_stp_18[slice14],\n",
        "       simple_regret_stp_19[slice14],\n",
        "       simple_regret_stp_20[slice14]]\n",
        "\n",
        "gp14_results = pd.DataFrame(gp14).sort_values(by=[0], ascending=False)\n",
        "stp14_results = pd.DataFrame(stp14).sort_values(by=[0], ascending=False)\n",
        "\n",
        "### Best training regret minimization IQR - gp:\n",
        "lower_gp14 = np.asarray(gp14_results[4:5][0])[0]\n",
        "median_gp14 = np.asarray(gp14_results[9:10][0])[0]\n",
        "upper_gp14 = np.asarray(gp14_results[14:15][0])[0]\n",
        "\n",
        "lower_stp14 = np.asarray(stp14_results[4:5][0])[0]\n",
        "median_stp14 = np.asarray(stp14_results[9:10][0])[0]\n",
        "upper_stp14 = np.asarray(stp14_results[14:15][0])[0]\n"
      ]
    },
    {
      "cell_type": "code",
      "execution_count": 81,
      "metadata": {
        "id": "Xhy_AN9jJLl9"
      },
      "outputs": [],
      "source": [
        "# Iteration5 :\n",
        "\n",
        "slice5 = 4\n",
        "\n",
        "gp5 = [simple_regret_gp_1[slice5],\n",
        "       simple_regret_gp_2[slice5],\n",
        "       simple_regret_gp_3[slice5],\n",
        "       simple_regret_gp_4[slice5],\n",
        "       simple_regret_gp_5[slice5],\n",
        "       simple_regret_gp_6[slice5],\n",
        "       simple_regret_gp_7[slice5],\n",
        "       simple_regret_gp_8[slice5],\n",
        "       simple_regret_gp_9[slice5],\n",
        "       simple_regret_gp_10[slice5],\n",
        "       simple_regret_gp_11[slice5],\n",
        "       simple_regret_gp_12[slice5],\n",
        "       simple_regret_gp_13[slice5],\n",
        "       simple_regret_gp_14[slice5],\n",
        "       simple_regret_gp_15[slice5],\n",
        "       simple_regret_gp_16[slice5],\n",
        "       simple_regret_gp_17[slice5],\n",
        "       simple_regret_gp_18[slice5],\n",
        "       simple_regret_gp_19[slice5],\n",
        "       simple_regret_gp_20[slice5]]\n",
        "\n",
        "stp5 = [simple_regret_stp_1[slice5],\n",
        "       simple_regret_stp_2[slice5],\n",
        "       simple_regret_stp_3[slice5],\n",
        "       simple_regret_stp_4[slice5],\n",
        "       simple_regret_stp_5[slice5],\n",
        "       simple_regret_stp_6[slice5],\n",
        "       simple_regret_stp_7[slice5],\n",
        "       simple_regret_stp_8[slice5],\n",
        "       simple_regret_stp_9[slice5],\n",
        "       simple_regret_stp_10[slice5],\n",
        "       simple_regret_stp_11[slice5],\n",
        "       simple_regret_stp_12[slice5],\n",
        "       simple_regret_stp_13[slice5],\n",
        "       simple_regret_stp_14[slice5],\n",
        "       simple_regret_stp_15[slice5],\n",
        "       simple_regret_stp_16[slice5],\n",
        "       simple_regret_stp_17[slice5],\n",
        "       simple_regret_stp_18[slice5],\n",
        "       simple_regret_stp_19[slice5],\n",
        "       simple_regret_stp_20[slice5]]\n",
        "\n",
        "gp5_results = pd.DataFrame(gp5).sort_values(by=[0], ascending=False)\n",
        "stp5_results = pd.DataFrame(stp5).sort_values(by=[0], ascending=False)\n",
        "\n",
        "### Best training regret minimization IQR - gp:\n",
        "lower_gp5 = np.asarray(gp5_results[4:5][0])[0]\n",
        "median_gp5 = np.asarray(gp5_results[9:10][0])[0]\n",
        "upper_gp5 = np.asarray(gp5_results[14:15][0])[0]\n",
        "\n",
        "lower_stp5 = np.asarray(stp5_results[4:5][0])[0]\n",
        "median_stp5 = np.asarray(stp5_results[9:10][0])[0]\n",
        "upper_stp5 = np.asarray(stp5_results[14:15][0])[0]\n"
      ]
    },
    {
      "cell_type": "code",
      "execution_count": 82,
      "metadata": {
        "id": "WHbtLHnbJLl-"
      },
      "outputs": [],
      "source": [
        "# Iteration15 :\n",
        "\n",
        "slice15 = 14\n",
        "\n",
        "gp15 = [simple_regret_gp_1[slice15],\n",
        "       simple_regret_gp_2[slice15],\n",
        "       simple_regret_gp_3[slice15],\n",
        "       simple_regret_gp_4[slice15],\n",
        "       simple_regret_gp_5[slice15],\n",
        "       simple_regret_gp_6[slice15],\n",
        "       simple_regret_gp_7[slice15],\n",
        "       simple_regret_gp_8[slice15],\n",
        "       simple_regret_gp_9[slice15],\n",
        "       simple_regret_gp_10[slice15],\n",
        "       simple_regret_gp_11[slice15],\n",
        "       simple_regret_gp_12[slice15],\n",
        "       simple_regret_gp_13[slice15],\n",
        "       simple_regret_gp_14[slice15],\n",
        "       simple_regret_gp_15[slice15],\n",
        "       simple_regret_gp_16[slice15],\n",
        "       simple_regret_gp_17[slice15],\n",
        "       simple_regret_gp_18[slice15],\n",
        "       simple_regret_gp_19[slice15],\n",
        "       simple_regret_gp_20[slice15]]\n",
        "\n",
        "stp15 = [simple_regret_stp_1[slice15],\n",
        "       simple_regret_stp_2[slice15],\n",
        "       simple_regret_stp_3[slice15],\n",
        "       simple_regret_stp_4[slice15],\n",
        "       simple_regret_stp_5[slice15],\n",
        "       simple_regret_stp_6[slice15],\n",
        "       simple_regret_stp_7[slice15],\n",
        "       simple_regret_stp_8[slice15],\n",
        "       simple_regret_stp_9[slice15],\n",
        "       simple_regret_stp_10[slice15],\n",
        "       simple_regret_stp_11[slice15],\n",
        "       simple_regret_stp_12[slice15],\n",
        "       simple_regret_stp_13[slice15],\n",
        "       simple_regret_stp_14[slice15],\n",
        "       simple_regret_stp_15[slice15],\n",
        "       simple_regret_stp_16[slice15],\n",
        "       simple_regret_stp_17[slice15],\n",
        "       simple_regret_stp_18[slice15],\n",
        "       simple_regret_stp_19[slice15],\n",
        "       simple_regret_stp_20[slice15]]\n",
        "\n",
        "gp15_results = pd.DataFrame(gp15).sort_values(by=[0], ascending=False)\n",
        "stp15_results = pd.DataFrame(stp15).sort_values(by=[0], ascending=False)\n",
        "\n",
        "### Best training regret minimization IQR - gp:\n",
        "lower_gp15 = np.asarray(gp15_results[4:5][0])[0]\n",
        "median_gp15 = np.asarray(gp15_results[9:10][0])[0]\n",
        "upper_gp15 = np.asarray(gp15_results[14:15][0])[0]\n",
        "\n",
        "lower_stp15 = np.asarray(stp15_results[4:5][0])[0]\n",
        "median_stp15 = np.asarray(stp15_results[9:10][0])[0]\n",
        "upper_stp15 = np.asarray(stp15_results[14:15][0])[0]\n"
      ]
    },
    {
      "cell_type": "code",
      "execution_count": 83,
      "metadata": {
        "id": "XqsNyHzqJLmC"
      },
      "outputs": [],
      "source": [
        "# Iteration6 :\n",
        "\n",
        "slice6 = 5\n",
        "\n",
        "gp6 = [simple_regret_gp_1[slice6],\n",
        "       simple_regret_gp_2[slice6],\n",
        "       simple_regret_gp_3[slice6],\n",
        "       simple_regret_gp_4[slice6],\n",
        "       simple_regret_gp_5[slice6],\n",
        "       simple_regret_gp_6[slice6],\n",
        "       simple_regret_gp_7[slice6],\n",
        "       simple_regret_gp_8[slice6],\n",
        "       simple_regret_gp_9[slice6],\n",
        "       simple_regret_gp_10[slice6],\n",
        "       simple_regret_gp_11[slice6],\n",
        "       simple_regret_gp_12[slice6],\n",
        "       simple_regret_gp_13[slice6],\n",
        "       simple_regret_gp_14[slice6],\n",
        "       simple_regret_gp_15[slice6],\n",
        "       simple_regret_gp_16[slice6],\n",
        "       simple_regret_gp_17[slice6],\n",
        "       simple_regret_gp_18[slice6],\n",
        "       simple_regret_gp_19[slice6],\n",
        "       simple_regret_gp_20[slice6]]\n",
        "\n",
        "stp6 = [simple_regret_stp_1[slice6],\n",
        "       simple_regret_stp_2[slice6],\n",
        "       simple_regret_stp_3[slice6],\n",
        "       simple_regret_stp_4[slice6],\n",
        "       simple_regret_stp_5[slice6],\n",
        "       simple_regret_stp_6[slice6],\n",
        "       simple_regret_stp_7[slice6],\n",
        "       simple_regret_stp_8[slice6],\n",
        "       simple_regret_stp_9[slice6],\n",
        "       simple_regret_stp_10[slice6],\n",
        "       simple_regret_stp_11[slice6],\n",
        "       simple_regret_stp_12[slice6],\n",
        "       simple_regret_stp_13[slice6],\n",
        "       simple_regret_stp_14[slice6],\n",
        "       simple_regret_stp_15[slice6],\n",
        "       simple_regret_stp_16[slice6],\n",
        "       simple_regret_stp_17[slice6],\n",
        "       simple_regret_stp_18[slice6],\n",
        "       simple_regret_stp_19[slice6],\n",
        "       simple_regret_stp_20[slice6]]\n",
        "\n",
        "gp6_results = pd.DataFrame(gp6).sort_values(by=[0], ascending=False)\n",
        "stp6_results = pd.DataFrame(stp6).sort_values(by=[0], ascending=False)\n",
        "\n",
        "### Best training regret minimization IQR - gp:\n",
        "lower_gp6 = np.asarray(gp6_results[4:5][0])[0]\n",
        "median_gp6 = np.asarray(gp6_results[9:10][0])[0]\n",
        "upper_gp6 = np.asarray(gp6_results[14:15][0])[0]\n",
        "\n",
        "lower_stp6 = np.asarray(stp6_results[4:5][0])[0]\n",
        "median_stp6 = np.asarray(stp6_results[9:10][0])[0]\n",
        "upper_stp6 = np.asarray(stp6_results[14:15][0])[0]\n"
      ]
    },
    {
      "cell_type": "code",
      "execution_count": 84,
      "metadata": {
        "id": "V0-8P_clJLmD"
      },
      "outputs": [],
      "source": [
        "# Iteration16 :\n",
        "\n",
        "slice16 = 15\n",
        "\n",
        "gp16 = [simple_regret_gp_1[slice16],\n",
        "       simple_regret_gp_2[slice16],\n",
        "       simple_regret_gp_3[slice16],\n",
        "       simple_regret_gp_4[slice16],\n",
        "       simple_regret_gp_5[slice16],\n",
        "       simple_regret_gp_6[slice16],\n",
        "       simple_regret_gp_7[slice16],\n",
        "       simple_regret_gp_8[slice16],\n",
        "       simple_regret_gp_9[slice16],\n",
        "       simple_regret_gp_10[slice16],\n",
        "       simple_regret_gp_11[slice16],\n",
        "       simple_regret_gp_12[slice16],\n",
        "       simple_regret_gp_13[slice16],\n",
        "       simple_regret_gp_14[slice16],\n",
        "       simple_regret_gp_15[slice16],\n",
        "       simple_regret_gp_16[slice16],\n",
        "       simple_regret_gp_17[slice16],\n",
        "       simple_regret_gp_18[slice16],\n",
        "       simple_regret_gp_19[slice16],\n",
        "       simple_regret_gp_20[slice16]]\n",
        "\n",
        "stp16 = [simple_regret_stp_1[slice16],\n",
        "       simple_regret_stp_2[slice16],\n",
        "       simple_regret_stp_3[slice16],\n",
        "       simple_regret_stp_4[slice16],\n",
        "       simple_regret_stp_5[slice16],\n",
        "       simple_regret_stp_6[slice16],\n",
        "       simple_regret_stp_7[slice16],\n",
        "       simple_regret_stp_8[slice16],\n",
        "       simple_regret_stp_9[slice16],\n",
        "       simple_regret_stp_10[slice16],\n",
        "       simple_regret_stp_11[slice16],\n",
        "       simple_regret_stp_12[slice16],\n",
        "       simple_regret_stp_13[slice16],\n",
        "       simple_regret_stp_14[slice16],\n",
        "       simple_regret_stp_15[slice16],\n",
        "       simple_regret_stp_16[slice16],\n",
        "       simple_regret_stp_17[slice16],\n",
        "       simple_regret_stp_18[slice16],\n",
        "       simple_regret_stp_19[slice16],\n",
        "       simple_regret_stp_20[slice16]]\n",
        "\n",
        "gp16_results = pd.DataFrame(gp16).sort_values(by=[0], ascending=False)\n",
        "stp16_results = pd.DataFrame(stp16).sort_values(by=[0], ascending=False)\n",
        "\n",
        "### Best training regret minimization IQR - gp:\n",
        "lower_gp16 = np.asarray(gp16_results[4:5][0])[0]\n",
        "median_gp16 = np.asarray(gp16_results[9:10][0])[0]\n",
        "upper_gp16 = np.asarray(gp16_results[14:15][0])[0]\n",
        "\n",
        "lower_stp16 = np.asarray(stp16_results[4:5][0])[0]\n",
        "median_stp16 = np.asarray(stp16_results[9:10][0])[0]\n",
        "upper_stp16 = np.asarray(stp16_results[14:15][0])[0]\n"
      ]
    },
    {
      "cell_type": "code",
      "execution_count": 85,
      "metadata": {
        "id": "OcLUACB0JLmM"
      },
      "outputs": [],
      "source": [
        "# Iteration7 :\n",
        "\n",
        "slice7 = 6\n",
        "\n",
        "gp7 = [simple_regret_gp_1[slice7],\n",
        "       simple_regret_gp_2[slice7],\n",
        "       simple_regret_gp_3[slice7],\n",
        "       simple_regret_gp_4[slice7],\n",
        "       simple_regret_gp_5[slice7],\n",
        "       simple_regret_gp_6[slice7],\n",
        "       simple_regret_gp_7[slice7],\n",
        "       simple_regret_gp_8[slice7],\n",
        "       simple_regret_gp_9[slice7],\n",
        "       simple_regret_gp_10[slice7],\n",
        "       simple_regret_gp_11[slice7],\n",
        "       simple_regret_gp_12[slice7],\n",
        "       simple_regret_gp_13[slice7],\n",
        "       simple_regret_gp_14[slice7],\n",
        "       simple_regret_gp_15[slice7],\n",
        "       simple_regret_gp_16[slice7],\n",
        "       simple_regret_gp_17[slice7],\n",
        "       simple_regret_gp_18[slice7],\n",
        "       simple_regret_gp_19[slice7],\n",
        "       simple_regret_gp_20[slice7]]\n",
        "\n",
        "stp7 = [simple_regret_stp_1[slice7],\n",
        "       simple_regret_stp_2[slice7],\n",
        "       simple_regret_stp_3[slice7],\n",
        "       simple_regret_stp_4[slice7],\n",
        "       simple_regret_stp_5[slice7],\n",
        "       simple_regret_stp_6[slice7],\n",
        "       simple_regret_stp_7[slice7],\n",
        "       simple_regret_stp_8[slice7],\n",
        "       simple_regret_stp_9[slice7],\n",
        "       simple_regret_stp_10[slice7],\n",
        "       simple_regret_stp_11[slice7],\n",
        "       simple_regret_stp_12[slice7],\n",
        "       simple_regret_stp_13[slice7],\n",
        "       simple_regret_stp_14[slice7],\n",
        "       simple_regret_stp_15[slice7],\n",
        "       simple_regret_stp_16[slice7],\n",
        "       simple_regret_stp_17[slice7],\n",
        "       simple_regret_stp_18[slice7],\n",
        "       simple_regret_stp_19[slice7],\n",
        "       simple_regret_stp_20[slice7]]\n",
        "\n",
        "gp7_results = pd.DataFrame(gp7).sort_values(by=[0], ascending=False)\n",
        "stp7_results = pd.DataFrame(stp7).sort_values(by=[0], ascending=False)\n",
        "\n",
        "### Best training regret minimization IQR - gp:\n",
        "lower_gp7 = np.asarray(gp7_results[4:5][0])[0]\n",
        "median_gp7 = np.asarray(gp7_results[9:10][0])[0]\n",
        "upper_gp7 = np.asarray(gp7_results[14:15][0])[0]\n",
        "\n",
        "lower_stp7 = np.asarray(stp7_results[4:5][0])[0]\n",
        "median_stp7 = np.asarray(stp7_results[9:10][0])[0]\n",
        "upper_stp7 = np.asarray(stp7_results[14:15][0])[0]\n"
      ]
    },
    {
      "cell_type": "code",
      "execution_count": 86,
      "metadata": {
        "id": "q-Fd0t3kJLmN"
      },
      "outputs": [],
      "source": [
        "# Iteration17 :\n",
        "\n",
        "slice17 = 16\n",
        "\n",
        "gp17 = [simple_regret_gp_1[slice17],\n",
        "       simple_regret_gp_2[slice17],\n",
        "       simple_regret_gp_3[slice17],\n",
        "       simple_regret_gp_4[slice17],\n",
        "       simple_regret_gp_5[slice17],\n",
        "       simple_regret_gp_6[slice17],\n",
        "       simple_regret_gp_7[slice17],\n",
        "       simple_regret_gp_8[slice17],\n",
        "       simple_regret_gp_9[slice17],\n",
        "       simple_regret_gp_10[slice17],\n",
        "       simple_regret_gp_11[slice17],\n",
        "       simple_regret_gp_12[slice17],\n",
        "       simple_regret_gp_13[slice17],\n",
        "       simple_regret_gp_14[slice17],\n",
        "       simple_regret_gp_15[slice17],\n",
        "       simple_regret_gp_16[slice17],\n",
        "       simple_regret_gp_17[slice17],\n",
        "       simple_regret_gp_18[slice17],\n",
        "       simple_regret_gp_19[slice17],\n",
        "       simple_regret_gp_20[slice17]]\n",
        "\n",
        "stp17 = [simple_regret_stp_1[slice17],\n",
        "       simple_regret_stp_2[slice17],\n",
        "       simple_regret_stp_3[slice17],\n",
        "       simple_regret_stp_4[slice17],\n",
        "       simple_regret_stp_5[slice17],\n",
        "       simple_regret_stp_6[slice17],\n",
        "       simple_regret_stp_7[slice17],\n",
        "       simple_regret_stp_8[slice17],\n",
        "       simple_regret_stp_9[slice17],\n",
        "       simple_regret_stp_10[slice17],\n",
        "       simple_regret_stp_11[slice17],\n",
        "       simple_regret_stp_12[slice17],\n",
        "       simple_regret_stp_13[slice17],\n",
        "       simple_regret_stp_14[slice17],\n",
        "       simple_regret_stp_15[slice17],\n",
        "       simple_regret_stp_16[slice17],\n",
        "       simple_regret_stp_17[slice17],\n",
        "       simple_regret_stp_18[slice17],\n",
        "       simple_regret_stp_19[slice17],\n",
        "       simple_regret_stp_20[slice17]]\n",
        "\n",
        "gp17_results = pd.DataFrame(gp17).sort_values(by=[0], ascending=False)\n",
        "stp17_results = pd.DataFrame(stp17).sort_values(by=[0], ascending=False)\n",
        "\n",
        "### Best training regret minimization IQR - gp:\n",
        "lower_gp17 = np.asarray(gp17_results[4:5][0])[0]\n",
        "median_gp17 = np.asarray(gp17_results[9:10][0])[0]\n",
        "upper_gp17 = np.asarray(gp17_results[14:15][0])[0]\n",
        "\n",
        "lower_stp17 = np.asarray(stp17_results[4:5][0])[0]\n",
        "median_stp17 = np.asarray(stp17_results[9:10][0])[0]\n",
        "upper_stp17 = np.asarray(stp17_results[14:15][0])[0]\n"
      ]
    },
    {
      "cell_type": "code",
      "execution_count": 87,
      "metadata": {
        "id": "JueXVbnGJLmU"
      },
      "outputs": [],
      "source": [
        "# Iteration8 :\n",
        "\n",
        "slice8 = 7\n",
        "\n",
        "gp8 = [simple_regret_gp_1[slice8],\n",
        "       simple_regret_gp_2[slice8],\n",
        "       simple_regret_gp_3[slice8],\n",
        "       simple_regret_gp_4[slice8],\n",
        "       simple_regret_gp_5[slice8],\n",
        "       simple_regret_gp_6[slice8],\n",
        "       simple_regret_gp_7[slice8],\n",
        "       simple_regret_gp_8[slice8],\n",
        "       simple_regret_gp_9[slice8],\n",
        "       simple_regret_gp_10[slice8],\n",
        "       simple_regret_gp_11[slice8],\n",
        "       simple_regret_gp_12[slice8],\n",
        "       simple_regret_gp_13[slice8],\n",
        "       simple_regret_gp_14[slice8],\n",
        "       simple_regret_gp_15[slice8],\n",
        "       simple_regret_gp_16[slice8],\n",
        "       simple_regret_gp_17[slice8],\n",
        "       simple_regret_gp_18[slice8],\n",
        "       simple_regret_gp_19[slice8],\n",
        "       simple_regret_gp_20[slice8]]\n",
        "\n",
        "stp8 = [simple_regret_stp_1[slice8],\n",
        "       simple_regret_stp_2[slice8],\n",
        "       simple_regret_stp_3[slice8],\n",
        "       simple_regret_stp_4[slice8],\n",
        "       simple_regret_stp_5[slice8],\n",
        "       simple_regret_stp_6[slice8],\n",
        "       simple_regret_stp_7[slice8],\n",
        "       simple_regret_stp_8[slice8],\n",
        "       simple_regret_stp_9[slice8],\n",
        "       simple_regret_stp_10[slice8],\n",
        "       simple_regret_stp_11[slice8],\n",
        "       simple_regret_stp_12[slice8],\n",
        "       simple_regret_stp_13[slice8],\n",
        "       simple_regret_stp_14[slice8],\n",
        "       simple_regret_stp_15[slice8],\n",
        "       simple_regret_stp_16[slice8],\n",
        "       simple_regret_stp_17[slice8],\n",
        "       simple_regret_stp_18[slice8],\n",
        "       simple_regret_stp_19[slice8],\n",
        "       simple_regret_stp_20[slice8]]\n",
        "\n",
        "gp8_results = pd.DataFrame(gp8).sort_values(by=[0], ascending=False)\n",
        "stp8_results = pd.DataFrame(stp8).sort_values(by=[0], ascending=False)\n",
        "\n",
        "### Best training regret minimization IQR - gp:\n",
        "lower_gp8 = np.asarray(gp8_results[4:5][0])[0]\n",
        "median_gp8 = np.asarray(gp8_results[9:10][0])[0]\n",
        "upper_gp8 = np.asarray(gp8_results[14:15][0])[0]\n",
        "\n",
        "lower_stp8 = np.asarray(stp8_results[4:5][0])[0]\n",
        "median_stp8 = np.asarray(stp8_results[9:10][0])[0]\n",
        "upper_stp8 = np.asarray(stp8_results[14:15][0])[0]\n"
      ]
    },
    {
      "cell_type": "code",
      "execution_count": 88,
      "metadata": {
        "id": "mnFJ7maJJLmU"
      },
      "outputs": [],
      "source": [
        "# Iteration18 :\n",
        "\n",
        "slice18 = 17\n",
        "\n",
        "gp18 = [simple_regret_gp_1[slice18],\n",
        "       simple_regret_gp_2[slice18],\n",
        "       simple_regret_gp_3[slice18],\n",
        "       simple_regret_gp_4[slice18],\n",
        "       simple_regret_gp_5[slice18],\n",
        "       simple_regret_gp_6[slice18],\n",
        "       simple_regret_gp_7[slice18],\n",
        "       simple_regret_gp_8[slice18],\n",
        "       simple_regret_gp_9[slice18],\n",
        "       simple_regret_gp_10[slice18],\n",
        "       simple_regret_gp_11[slice18],\n",
        "       simple_regret_gp_12[slice18],\n",
        "       simple_regret_gp_13[slice18],\n",
        "       simple_regret_gp_14[slice18],\n",
        "       simple_regret_gp_15[slice18],\n",
        "       simple_regret_gp_16[slice18],\n",
        "       simple_regret_gp_17[slice18],\n",
        "       simple_regret_gp_18[slice18],\n",
        "       simple_regret_gp_19[slice18],\n",
        "       simple_regret_gp_20[slice18]]\n",
        "\n",
        "stp18 = [simple_regret_stp_1[slice18],\n",
        "       simple_regret_stp_2[slice18],\n",
        "       simple_regret_stp_3[slice18],\n",
        "       simple_regret_stp_4[slice18],\n",
        "       simple_regret_stp_5[slice18],\n",
        "       simple_regret_stp_6[slice18],\n",
        "       simple_regret_stp_7[slice18],\n",
        "       simple_regret_stp_8[slice18],\n",
        "       simple_regret_stp_9[slice18],\n",
        "       simple_regret_stp_10[slice18],\n",
        "       simple_regret_stp_11[slice18],\n",
        "       simple_regret_stp_12[slice18],\n",
        "       simple_regret_stp_13[slice18],\n",
        "       simple_regret_stp_14[slice18],\n",
        "       simple_regret_stp_15[slice18],\n",
        "       simple_regret_stp_16[slice18],\n",
        "       simple_regret_stp_17[slice18],\n",
        "       simple_regret_stp_18[slice18],\n",
        "       simple_regret_stp_19[slice18],\n",
        "       simple_regret_stp_20[slice18]]\n",
        "\n",
        "gp18_results = pd.DataFrame(gp18).sort_values(by=[0], ascending=False)\n",
        "stp18_results = pd.DataFrame(stp18).sort_values(by=[0], ascending=False)\n",
        "\n",
        "### Best training regret minimization IQR - gp:\n",
        "lower_gp18 = np.asarray(gp18_results[4:5][0])[0]\n",
        "median_gp18 = np.asarray(gp18_results[9:10][0])[0]\n",
        "upper_gp18 = np.asarray(gp18_results[14:15][0])[0]\n",
        "\n",
        "lower_stp18 = np.asarray(stp18_results[4:5][0])[0]\n",
        "median_stp18 = np.asarray(stp18_results[9:10][0])[0]\n",
        "upper_stp18 = np.asarray(stp18_results[14:15][0])[0]\n"
      ]
    },
    {
      "cell_type": "code",
      "execution_count": 89,
      "metadata": {
        "id": "ll-p_qWUJLmb"
      },
      "outputs": [],
      "source": [
        "# Iteration9 :\n",
        "\n",
        "slice9 = 8\n",
        "\n",
        "gp9 = [simple_regret_gp_1[slice9],\n",
        "       simple_regret_gp_2[slice9],\n",
        "       simple_regret_gp_3[slice9],\n",
        "       simple_regret_gp_4[slice9],\n",
        "       simple_regret_gp_5[slice9],\n",
        "       simple_regret_gp_6[slice9],\n",
        "       simple_regret_gp_7[slice9],\n",
        "       simple_regret_gp_8[slice9],\n",
        "       simple_regret_gp_9[slice9],\n",
        "       simple_regret_gp_10[slice9],\n",
        "       simple_regret_gp_11[slice9],\n",
        "       simple_regret_gp_12[slice9],\n",
        "       simple_regret_gp_13[slice9],\n",
        "       simple_regret_gp_14[slice9],\n",
        "       simple_regret_gp_15[slice9],\n",
        "       simple_regret_gp_16[slice9],\n",
        "       simple_regret_gp_17[slice9],\n",
        "       simple_regret_gp_18[slice9],\n",
        "       simple_regret_gp_19[slice9],\n",
        "       simple_regret_gp_20[slice9]]\n",
        "\n",
        "stp9 = [simple_regret_stp_1[slice9],\n",
        "       simple_regret_stp_2[slice9],\n",
        "       simple_regret_stp_3[slice9],\n",
        "       simple_regret_stp_4[slice9],\n",
        "       simple_regret_stp_5[slice9],\n",
        "       simple_regret_stp_6[slice9],\n",
        "       simple_regret_stp_7[slice9],\n",
        "       simple_regret_stp_8[slice9],\n",
        "       simple_regret_stp_9[slice9],\n",
        "       simple_regret_stp_10[slice9],\n",
        "       simple_regret_stp_11[slice9],\n",
        "       simple_regret_stp_12[slice9],\n",
        "       simple_regret_stp_13[slice9],\n",
        "       simple_regret_stp_14[slice9],\n",
        "       simple_regret_stp_15[slice9],\n",
        "       simple_regret_stp_16[slice9],\n",
        "       simple_regret_stp_17[slice9],\n",
        "       simple_regret_stp_18[slice9],\n",
        "       simple_regret_stp_19[slice9],\n",
        "       simple_regret_stp_20[slice9]]\n",
        "\n",
        "gp9_results = pd.DataFrame(gp9).sort_values(by=[0], ascending=False)\n",
        "stp9_results = pd.DataFrame(stp9).sort_values(by=[0], ascending=False)\n",
        "\n",
        "### Best training regret minimization IQR - gp:\n",
        "lower_gp9 = np.asarray(gp9_results[4:5][0])[0]\n",
        "median_gp9 = np.asarray(gp9_results[9:10][0])[0]\n",
        "upper_gp9 = np.asarray(gp9_results[14:15][0])[0]\n",
        "\n",
        "lower_stp9 = np.asarray(stp9_results[4:5][0])[0]\n",
        "median_stp9 = np.asarray(stp9_results[9:10][0])[0]\n",
        "upper_stp9 = np.asarray(stp9_results[14:15][0])[0]\n"
      ]
    },
    {
      "cell_type": "code",
      "execution_count": 90,
      "metadata": {
        "id": "G3QVtLpJJLmc"
      },
      "outputs": [],
      "source": [
        "# Iteration19 :\n",
        "\n",
        "slice19 = 18\n",
        "\n",
        "gp19 = [simple_regret_gp_1[slice19],\n",
        "       simple_regret_gp_2[slice19],\n",
        "       simple_regret_gp_3[slice19],\n",
        "       simple_regret_gp_4[slice19],\n",
        "       simple_regret_gp_5[slice19],\n",
        "       simple_regret_gp_6[slice19],\n",
        "       simple_regret_gp_7[slice19],\n",
        "       simple_regret_gp_8[slice19],\n",
        "       simple_regret_gp_9[slice19],\n",
        "       simple_regret_gp_10[slice19],\n",
        "       simple_regret_gp_11[slice19],\n",
        "       simple_regret_gp_12[slice19],\n",
        "       simple_regret_gp_13[slice19],\n",
        "       simple_regret_gp_14[slice19],\n",
        "       simple_regret_gp_15[slice19],\n",
        "       simple_regret_gp_16[slice19],\n",
        "       simple_regret_gp_17[slice19],\n",
        "       simple_regret_gp_18[slice19],\n",
        "       simple_regret_gp_19[slice19],\n",
        "       simple_regret_gp_20[slice19]]\n",
        "\n",
        "stp19 = [simple_regret_stp_1[slice19],\n",
        "       simple_regret_stp_2[slice19],\n",
        "       simple_regret_stp_3[slice19],\n",
        "       simple_regret_stp_4[slice19],\n",
        "       simple_regret_stp_5[slice19],\n",
        "       simple_regret_stp_6[slice19],\n",
        "       simple_regret_stp_7[slice19],\n",
        "       simple_regret_stp_8[slice19],\n",
        "       simple_regret_stp_9[slice19],\n",
        "       simple_regret_stp_10[slice19],\n",
        "       simple_regret_stp_11[slice19],\n",
        "       simple_regret_stp_12[slice19],\n",
        "       simple_regret_stp_13[slice19],\n",
        "       simple_regret_stp_14[slice19],\n",
        "       simple_regret_stp_15[slice19],\n",
        "       simple_regret_stp_16[slice19],\n",
        "       simple_regret_stp_17[slice19],\n",
        "       simple_regret_stp_18[slice19],\n",
        "       simple_regret_stp_19[slice19],\n",
        "       simple_regret_stp_20[slice19]]\n",
        "\n",
        "gp19_results = pd.DataFrame(gp19).sort_values(by=[0], ascending=False)\n",
        "stp19_results = pd.DataFrame(stp19).sort_values(by=[0], ascending=False)\n",
        "\n",
        "### Best training regret minimization IQR - gp:\n",
        "lower_gp19 = np.asarray(gp19_results[4:5][0])[0]\n",
        "median_gp19 = np.asarray(gp19_results[9:10][0])[0]\n",
        "upper_gp19 = np.asarray(gp19_results[14:15][0])[0]\n",
        "\n",
        "lower_stp19 = np.asarray(stp19_results[4:5][0])[0]\n",
        "median_stp19 = np.asarray(stp19_results[9:10][0])[0]\n",
        "upper_stp19 = np.asarray(stp19_results[14:15][0])[0]\n"
      ]
    },
    {
      "cell_type": "code",
      "execution_count": 91,
      "metadata": {
        "id": "IzQng-ULJLmj"
      },
      "outputs": [],
      "source": [
        "# Iteration10 :\n",
        "\n",
        "slice10 = 9\n",
        "\n",
        "gp10 = [simple_regret_gp_1[slice10],\n",
        "       simple_regret_gp_2[slice10],\n",
        "       simple_regret_gp_3[slice10],\n",
        "       simple_regret_gp_4[slice10],\n",
        "       simple_regret_gp_5[slice10],\n",
        "       simple_regret_gp_6[slice10],\n",
        "       simple_regret_gp_7[slice10],\n",
        "       simple_regret_gp_8[slice10],\n",
        "       simple_regret_gp_9[slice10],\n",
        "       simple_regret_gp_10[slice10],\n",
        "       simple_regret_gp_11[slice10],\n",
        "       simple_regret_gp_12[slice10],\n",
        "       simple_regret_gp_13[slice10],\n",
        "       simple_regret_gp_14[slice10],\n",
        "       simple_regret_gp_15[slice10],\n",
        "       simple_regret_gp_16[slice10],\n",
        "       simple_regret_gp_17[slice10],\n",
        "       simple_regret_gp_18[slice10],\n",
        "       simple_regret_gp_19[slice10],\n",
        "       simple_regret_gp_20[slice10]]\n",
        "\n",
        "stp10 = [simple_regret_stp_1[slice10],\n",
        "       simple_regret_stp_2[slice10],\n",
        "       simple_regret_stp_3[slice10],\n",
        "       simple_regret_stp_4[slice10],\n",
        "       simple_regret_stp_5[slice10],\n",
        "       simple_regret_stp_6[slice10],\n",
        "       simple_regret_stp_7[slice10],\n",
        "       simple_regret_stp_8[slice10],\n",
        "       simple_regret_stp_9[slice10],\n",
        "       simple_regret_stp_10[slice10],\n",
        "       simple_regret_stp_11[slice10],\n",
        "       simple_regret_stp_12[slice10],\n",
        "       simple_regret_stp_13[slice10],\n",
        "       simple_regret_stp_14[slice10],\n",
        "       simple_regret_stp_15[slice10],\n",
        "       simple_regret_stp_16[slice10],\n",
        "       simple_regret_stp_17[slice10],\n",
        "       simple_regret_stp_18[slice10],\n",
        "       simple_regret_stp_19[slice10],\n",
        "       simple_regret_stp_20[slice10]]\n",
        "\n",
        "gp10_results = pd.DataFrame(gp10).sort_values(by=[0], ascending=False)\n",
        "stp10_results = pd.DataFrame(stp10).sort_values(by=[0], ascending=False)\n",
        "\n",
        "### Best training regret minimization IQR - gp:\n",
        "lower_gp10 = np.asarray(gp10_results[4:5][0])[0]\n",
        "median_gp10 = np.asarray(gp10_results[9:10][0])[0]\n",
        "upper_gp10 = np.asarray(gp10_results[14:15][0])[0]\n",
        "\n",
        "lower_stp10 = np.asarray(stp10_results[4:5][0])[0]\n",
        "median_stp10 = np.asarray(stp10_results[9:10][0])[0]\n",
        "upper_stp10 = np.asarray(stp10_results[14:15][0])[0]\n"
      ]
    },
    {
      "cell_type": "code",
      "execution_count": 92,
      "metadata": {
        "id": "DQ_Cuh-4JLmk"
      },
      "outputs": [],
      "source": [
        "# Iteration20 :\n",
        "\n",
        "slice20 = 19\n",
        "\n",
        "gp20 = [simple_regret_gp_1[slice20],\n",
        "       simple_regret_gp_2[slice20],\n",
        "       simple_regret_gp_3[slice20],\n",
        "       simple_regret_gp_4[slice20],\n",
        "       simple_regret_gp_5[slice20],\n",
        "       simple_regret_gp_6[slice20],\n",
        "       simple_regret_gp_7[slice20],\n",
        "       simple_regret_gp_8[slice20],\n",
        "       simple_regret_gp_9[slice20],\n",
        "       simple_regret_gp_10[slice20],\n",
        "       simple_regret_gp_11[slice20],\n",
        "       simple_regret_gp_12[slice20],\n",
        "       simple_regret_gp_13[slice20],\n",
        "       simple_regret_gp_14[slice20],\n",
        "       simple_regret_gp_15[slice20],\n",
        "       simple_regret_gp_16[slice20],\n",
        "       simple_regret_gp_17[slice20],\n",
        "       simple_regret_gp_18[slice20],\n",
        "       simple_regret_gp_19[slice20],\n",
        "       simple_regret_gp_20[slice20]]\n",
        "\n",
        "stp20 = [simple_regret_stp_1[slice20],\n",
        "       simple_regret_stp_2[slice20],\n",
        "       simple_regret_stp_3[slice20],\n",
        "       simple_regret_stp_4[slice20],\n",
        "       simple_regret_stp_5[slice20],\n",
        "       simple_regret_stp_6[slice20],\n",
        "       simple_regret_stp_7[slice20],\n",
        "       simple_regret_stp_8[slice20],\n",
        "       simple_regret_stp_9[slice20],\n",
        "       simple_regret_stp_10[slice20],\n",
        "       simple_regret_stp_11[slice20],\n",
        "       simple_regret_stp_12[slice20],\n",
        "       simple_regret_stp_13[slice20],\n",
        "       simple_regret_stp_14[slice20],\n",
        "       simple_regret_stp_15[slice20],\n",
        "       simple_regret_stp_16[slice20],\n",
        "       simple_regret_stp_17[slice20],\n",
        "       simple_regret_stp_18[slice20],\n",
        "       simple_regret_stp_19[slice20],\n",
        "       simple_regret_stp_20[slice20]]\n",
        "\n",
        "gp20_results = pd.DataFrame(gp20).sort_values(by=[0], ascending=False)\n",
        "stp20_results = pd.DataFrame(stp20).sort_values(by=[0], ascending=False)\n",
        "\n",
        "### Best training regret minimization IQR - gp:\n",
        "lower_gp20 = np.asarray(gp20_results[4:5][0])[0]\n",
        "median_gp20 = np.asarray(gp20_results[9:10][0])[0]\n",
        "upper_gp20 = np.asarray(gp20_results[14:15][0])[0]\n",
        "\n",
        "lower_stp20 = np.asarray(stp20_results[4:5][0])[0]\n",
        "median_stp20 = np.asarray(stp20_results[9:10][0])[0]\n",
        "upper_stp20 = np.asarray(stp20_results[14:15][0])[0]\n"
      ]
    },
    {
      "cell_type": "code",
      "execution_count": 93,
      "metadata": {
        "id": "R1gk3HGTJLms"
      },
      "outputs": [],
      "source": [
        "### Summarise arrays: 'GP'\n",
        "\n",
        "lower_gp = [lower_gp1,\n",
        "            lower_gp2,\n",
        "            lower_gp3,\n",
        "            lower_gp4,\n",
        "            lower_gp5,\n",
        "            lower_gp6,\n",
        "            lower_gp7,\n",
        "            lower_gp8,\n",
        "            lower_gp9,\n",
        "            lower_gp10,\n",
        "            lower_gp11,\n",
        "            lower_gp12,\n",
        "            lower_gp13,\n",
        "            lower_gp14,\n",
        "            lower_gp15,\n",
        "            lower_gp16,\n",
        "            lower_gp17,\n",
        "            lower_gp18,\n",
        "            lower_gp19,\n",
        "            lower_gp20,\n",
        "            lower_gp21]\n",
        "\n",
        "median_gp = [median_gp1,\n",
        "            median_gp2,\n",
        "            median_gp3,\n",
        "            median_gp4,\n",
        "            median_gp5,\n",
        "            median_gp6,\n",
        "            median_gp7,\n",
        "            median_gp8,\n",
        "            median_gp9,\n",
        "            median_gp10,\n",
        "            median_gp11,\n",
        "            median_gp12,\n",
        "            median_gp13,\n",
        "            median_gp14,\n",
        "            median_gp15,\n",
        "            median_gp16,\n",
        "            median_gp17,\n",
        "            median_gp18,\n",
        "            median_gp19,\n",
        "            median_gp20,\n",
        "            median_gp21]\n",
        "\n",
        "upper_gp = [upper_gp1,\n",
        "            upper_gp2,\n",
        "            upper_gp3,\n",
        "            upper_gp4,\n",
        "            upper_gp5,\n",
        "            upper_gp6,\n",
        "            upper_gp7,\n",
        "            upper_gp8,\n",
        "            upper_gp9,\n",
        "            upper_gp10,\n",
        "            upper_gp11,\n",
        "            upper_gp12,\n",
        "            upper_gp13,\n",
        "            upper_gp14,\n",
        "            upper_gp15,\n",
        "            upper_gp16,\n",
        "            upper_gp17,\n",
        "            upper_gp18,\n",
        "            upper_gp19,\n",
        "            upper_gp20,\n",
        "            upper_gp21]\n"
      ]
    },
    {
      "cell_type": "code",
      "execution_count": 94,
      "metadata": {
        "id": "jox8uqaeJLmu"
      },
      "outputs": [],
      "source": [
        "### Summarise arrays: 'STP'\n",
        "\n",
        "lower_stp = [lower_stp1,\n",
        "            lower_stp2,\n",
        "            lower_stp3,\n",
        "            lower_stp4,\n",
        "            lower_stp5,\n",
        "            lower_stp6,\n",
        "            lower_stp7,\n",
        "            lower_stp8,\n",
        "            lower_stp9,\n",
        "            lower_stp10,\n",
        "            lower_stp11,\n",
        "            lower_stp12,\n",
        "            lower_stp13,\n",
        "            lower_stp14,\n",
        "            lower_stp15,\n",
        "            lower_stp16,\n",
        "            lower_stp17,\n",
        "            lower_stp18,\n",
        "            lower_stp19,\n",
        "            lower_stp20,\n",
        "            lower_stp21]\n",
        "\n",
        "median_stp = [median_stp1,\n",
        "            median_stp2,\n",
        "            median_stp3,\n",
        "            median_stp4,\n",
        "            median_stp5,\n",
        "            median_stp6,\n",
        "            median_stp7,\n",
        "            median_stp8,\n",
        "            median_stp9,\n",
        "            median_stp10,\n",
        "            median_stp11,\n",
        "            median_stp12,\n",
        "            median_stp13,\n",
        "            median_stp14,\n",
        "            median_stp15,\n",
        "            median_stp16,\n",
        "            median_stp17,\n",
        "            median_stp18,\n",
        "            median_stp19,\n",
        "            median_stp20,\n",
        "            median_stp21]\n",
        "\n",
        "upper_stp = [upper_stp1,\n",
        "            upper_stp2,\n",
        "            upper_stp3,\n",
        "            upper_stp4,\n",
        "            upper_stp5,\n",
        "            upper_stp6,\n",
        "            upper_stp7,\n",
        "            upper_stp8,\n",
        "            upper_stp9,\n",
        "            upper_stp10,\n",
        "            upper_stp11,\n",
        "            upper_stp12,\n",
        "            upper_stp13,\n",
        "            upper_stp14,\n",
        "            upper_stp15,\n",
        "            upper_stp16,\n",
        "            upper_stp17,\n",
        "            upper_stp18,\n",
        "            upper_stp19,\n",
        "            upper_stp20,\n",
        "            upper_stp21]\n"
      ]
    },
    {
      "cell_type": "code",
      "execution_count": 95,
      "metadata": {
        "id": "W4hkYeeMJLmw",
        "colab": {
          "base_uri": "https://localhost:8080/",
          "height": 299
        },
        "outputId": "387445e9-f11d-42f0-c1e5-c4b06b01ea02"
      },
      "outputs": [
        {
          "output_type": "display_data",
          "data": {
            "text/plain": [
              "<Figure size 432x288 with 1 Axes>"
            ],
            "image/png": "[encoded data removed]"
          },
          "metadata": {
            "needs_background": "light"
          }
        }
      ],
      "source": [
        "### Visualise!\n",
        "\n",
        "title = obj_func\n",
        "\n",
        "plt.figure()\n",
        "\n",
        "plt.plot(median_gp, color = 'yellow')\n",
        "plt.plot(median_stp, color = 'green')\n",
        "\n",
        "xstar = np.arange(0, max_iter+1, step=1)\n",
        "plt.fill_between(xstar, lower_gp, upper_gp, facecolor = 'yellow', alpha=0.4, label='GP CBM Regret: IQR')\n",
        "plt.fill_between(xstar, lower_stp, upper_stp, facecolor = 'green', alpha=0.4, label='STP CBM Regret: IQR ' r'($\\nu$' ' = {})'.format(df))\n",
        "\n",
        "plt.title(title, weight = 'bold')\n",
        "plt.xlabel('(Post-initialisation) iteration $\\it{k}$', weight = 'bold') # x-axis label\n",
        "plt.ylabel('log(Regret)', weight = 'bold') # y-axis label\n",
        "plt.legend(loc=0) # add plot legend\n",
        "\n",
        "### Make the x-ticks integers, not floats:\n",
        "count = len(xstar)\n",
        "plt.xticks(np.arange(count), np.arange(0, count))\n",
        "plt.show() #visualise!\n"
      ]
    },
    {
      "cell_type": "code",
      "execution_count": 95,
      "metadata": {
        "id": "5TOZMC49JLmw"
      },
      "outputs": [],
      "source": []
    }
  ],
  "metadata": {
    "kernelspec": {
      "display_name": "Python 3",
      "language": "python",
      "name": "python3"
    },
    "language_info": {
      "codemirror_mode": {
        "name": "ipython",
        "version": 3
      },
      "file_extension": ".py",
      "mimetype": "text/x-python",
      "name": "python",
      "nbconvert_exporter": "python",
      "pygments_lexer": "ipython3",
      "version": "3.6.5"
    },
    "colab": {
      "provenance": [],
      "collapsed_sections": []
    }
  },
  "nbformat": 4,
  "nbformat_minor": 0
}