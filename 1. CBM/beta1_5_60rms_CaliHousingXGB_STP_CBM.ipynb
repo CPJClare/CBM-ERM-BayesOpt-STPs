{
  "nbformat": 4,
  "nbformat_minor": 0,
  "metadata": {
    "colab": {
      "provenance": [],
      "collapsed_sections": []
    },
    "kernelspec": {
      "name": "python3",
      "display_name": "Python 3"
    }
  },
  "cells": [
    {
      "cell_type": "markdown",
      "metadata": {
        "id": "W9wHutsqZUcn"
      },
      "source": [
        "XGBoost Regression - 'real-world' example: Californian Housing Dataset\n",
        "\n",
        "https://scikit-learn.org/stable/datasets/real_world.html#california-housing-dataset"
      ]
    },
    {
      "cell_type": "code",
      "metadata": {
        "id": "X-0Pe1i4Z2R_",
        "colab": {
          "base_uri": "https://localhost:8080/"
        },
        "outputId": "5051245f-02e7-4875-dbb5-56b37015d4f9"
      },
      "source": [
        "!pip install pyGPGO"
      ],
      "execution_count": 1,
      "outputs": [
        {
          "output_type": "stream",
          "name": "stdout",
          "text": [
            "Looking in indexes: https://pypi.org/simple, https://us-python.pkg.dev/colab-wheels/public/simple/\n",
            "Requirement already satisfied: pyGPGO in /usr/local/lib/python3.7/dist-packages (0.5.1)\n",
            "Requirement already satisfied: mkl in /usr/local/lib/python3.7/dist-packages (from pyGPGO) (2019.0)\n",
            "Requirement already satisfied: pyMC3 in /usr/local/lib/python3.7/dist-packages (from pyGPGO) (3.11.5)\n",
            "Requirement already satisfied: numpy in /usr/local/lib/python3.7/dist-packages (from pyGPGO) (1.21.6)\n",
            "Requirement already satisfied: Theano-PyMC in /usr/local/lib/python3.7/dist-packages (from pyGPGO) (1.1.2)\n",
            "Requirement already satisfied: scikit-learn in /usr/local/lib/python3.7/dist-packages (from pyGPGO) (1.0.2)\n",
            "Requirement already satisfied: joblib in /usr/local/lib/python3.7/dist-packages (from pyGPGO) (1.2.0)\n",
            "Requirement already satisfied: scipy in /usr/local/lib/python3.7/dist-packages (from pyGPGO) (1.7.3)\n",
            "Requirement already satisfied: intel-openmp in /usr/local/lib/python3.7/dist-packages (from mkl->pyGPGO) (2022.2.1)\n",
            "Requirement already satisfied: typing-extensions>=3.7.4 in /usr/local/lib/python3.7/dist-packages (from pyMC3->pyGPGO) (4.1.1)\n",
            "Requirement already satisfied: arviz>=0.11.0 in /usr/local/lib/python3.7/dist-packages (from pyMC3->pyGPGO) (0.12.1)\n",
            "Requirement already satisfied: pandas>=0.24.0 in /usr/local/lib/python3.7/dist-packages (from pyMC3->pyGPGO) (1.3.5)\n",
            "Requirement already satisfied: dill in /usr/local/lib/python3.7/dist-packages (from pyMC3->pyGPGO) (0.3.6)\n",
            "Requirement already satisfied: deprecat in /usr/local/lib/python3.7/dist-packages (from pyMC3->pyGPGO) (2.1.1)\n",
            "Requirement already satisfied: patsy>=0.5.1 in /usr/local/lib/python3.7/dist-packages (from pyMC3->pyGPGO) (0.5.3)\n",
            "Requirement already satisfied: semver>=2.13.0 in /usr/local/lib/python3.7/dist-packages (from pyMC3->pyGPGO) (2.13.0)\n",
            "Requirement already satisfied: cachetools>=4.2.1 in /usr/local/lib/python3.7/dist-packages (from pyMC3->pyGPGO) (5.2.0)\n",
            "Requirement already satisfied: fastprogress>=0.2.0 in /usr/local/lib/python3.7/dist-packages (from pyMC3->pyGPGO) (1.0.3)\n",
            "Requirement already satisfied: filelock in /usr/local/lib/python3.7/dist-packages (from Theano-PyMC->pyGPGO) (3.8.0)\n",
            "Requirement already satisfied: xarray>=0.16.1 in /usr/local/lib/python3.7/dist-packages (from arviz>=0.11.0->pyMC3->pyGPGO) (0.20.2)\n",
            "Requirement already satisfied: packaging in /usr/local/lib/python3.7/dist-packages (from arviz>=0.11.0->pyMC3->pyGPGO) (21.3)\n",
            "Requirement already satisfied: xarray-einstats>=0.2 in /usr/local/lib/python3.7/dist-packages (from arviz>=0.11.0->pyMC3->pyGPGO) (0.2.2)\n",
            "Requirement already satisfied: matplotlib>=3.0 in /usr/local/lib/python3.7/dist-packages (from arviz>=0.11.0->pyMC3->pyGPGO) (3.2.2)\n",
            "Requirement already satisfied: netcdf4 in /usr/local/lib/python3.7/dist-packages (from arviz>=0.11.0->pyMC3->pyGPGO) (1.6.1)\n",
            "Requirement already satisfied: setuptools>=38.4 in /usr/local/lib/python3.7/dist-packages (from arviz>=0.11.0->pyMC3->pyGPGO) (57.4.0)\n",
            "Requirement already satisfied: kiwisolver>=1.0.1 in /usr/local/lib/python3.7/dist-packages (from matplotlib>=3.0->arviz>=0.11.0->pyMC3->pyGPGO) (1.4.4)\n",
            "Requirement already satisfied: pyparsing!=2.0.4,!=2.1.2,!=2.1.6,>=2.0.1 in /usr/local/lib/python3.7/dist-packages (from matplotlib>=3.0->arviz>=0.11.0->pyMC3->pyGPGO) (3.0.9)\n",
            "Requirement already satisfied: python-dateutil>=2.1 in /usr/local/lib/python3.7/dist-packages (from matplotlib>=3.0->arviz>=0.11.0->pyMC3->pyGPGO) (2.8.2)\n",
            "Requirement already satisfied: cycler>=0.10 in /usr/local/lib/python3.7/dist-packages (from matplotlib>=3.0->arviz>=0.11.0->pyMC3->pyGPGO) (0.11.0)\n",
            "Requirement already satisfied: pytz>=2017.3 in /usr/local/lib/python3.7/dist-packages (from pandas>=0.24.0->pyMC3->pyGPGO) (2022.6)\n",
            "Requirement already satisfied: six in /usr/local/lib/python3.7/dist-packages (from patsy>=0.5.1->pyMC3->pyGPGO) (1.15.0)\n",
            "Requirement already satisfied: importlib-metadata in /usr/local/lib/python3.7/dist-packages (from xarray>=0.16.1->arviz>=0.11.0->pyMC3->pyGPGO) (4.13.0)\n",
            "Requirement already satisfied: wrapt<2,>=1.10 in /usr/local/lib/python3.7/dist-packages (from deprecat->pyMC3->pyGPGO) (1.14.1)\n",
            "Requirement already satisfied: zipp>=0.5 in /usr/local/lib/python3.7/dist-packages (from importlib-metadata->xarray>=0.16.1->arviz>=0.11.0->pyMC3->pyGPGO) (3.10.0)\n",
            "Requirement already satisfied: cftime in /usr/local/lib/python3.7/dist-packages (from netcdf4->arviz>=0.11.0->pyMC3->pyGPGO) (1.6.2)\n",
            "Requirement already satisfied: threadpoolctl>=2.0.0 in /usr/local/lib/python3.7/dist-packages (from scikit-learn->pyGPGO) (3.1.0)\n"
          ]
        }
      ]
    },
    {
      "cell_type": "code",
      "metadata": {
        "id": "W7zDTf1naBsH"
      },
      "source": [
        "# Load some default Python modules:\n",
        "\n",
        "import numpy as np\n",
        "import scipy as sp\n",
        "import pandas as pd\n",
        "import matplotlib.pyplot as plt\n",
        "import xgboost as xgb\n",
        "import time\n",
        "\n",
        "from matplotlib.pyplot import rc\n",
        "rc('font',**{'family':'sans-serif','sans-serif':['Helvetica']})\n",
        "rc('text', usetex=False)\n",
        "import seaborn as sns\n",
        "plt.style.use('seaborn-whitegrid')\n",
        "\n",
        "from collections import OrderedDict\n",
        "from joblib import Parallel, delayed\n",
        "from numpy.linalg import slogdet, inv, cholesky, solve\n",
        "from scipy.optimize import minimize\n",
        "from scipy.spatial.distance import cdist\n",
        "from scipy.special import gamma\n",
        "from scipy.stats import norm, t\n",
        "from joblib import Parallel, delayed\n",
        "import itertools\n",
        "\n",
        "from pyGPGO.logger import EventLogger\n",
        "from pyGPGO.GPGO import GPGO\n",
        "from pyGPGO.surrogates.GaussianProcess import GaussianProcess\n",
        "from pyGPGO.surrogates.tStudentProcess import tStudentProcess\n",
        "from pyGPGO.acquisition import Acquisition\n",
        "from pyGPGO.covfunc import squaredExponential\n",
        "from sklearn.model_selection import cross_val_score, train_test_split\n",
        "from sklearn.metrics import mean_squared_error\n",
        "from xgboost import XGBRegressor\n",
        "from pandas_datareader import data\n",
        "\n",
        "import warnings\n",
        "import random\n",
        "warnings.filterwarnings(\"ignore\", category=FutureWarning)\n",
        "warnings.filterwarnings(\"ignore\", category=RuntimeWarning)\n",
        "warnings.filterwarnings(\"ignore\", category=UserWarning)"
      ],
      "execution_count": 2,
      "outputs": []
    },
    {
      "cell_type": "code",
      "metadata": {
        "id": "VXicekJhaE0P"
      },
      "source": [
        "# Read data in pandas dataframe:\n",
        "df_train =  pd.read_csv('/content/sample_data/california_housing_train.csv')\n"
      ],
      "execution_count": 3,
      "outputs": []
    },
    {
      "cell_type": "code",
      "metadata": {
        "id": "YQ0mDzt_cBmw",
        "colab": {
          "base_uri": "https://localhost:8080/",
          "height": 206
        },
        "outputId": "9526bc1c-074f-4a06-e295-5c28469045b8"
      },
      "source": [
        "# List first rows:\n",
        "\n",
        "df_train.head()"
      ],
      "execution_count": 4,
      "outputs": [
        {
          "output_type": "execute_result",
          "data": {
            "text/plain": [
              "   longitude  latitude  housing_median_age  total_rooms  total_bedrooms  \\\n",
              "0    -114.31     34.19                15.0       5612.0          1283.0   \n",
              "1    -114.47     34.40                19.0       7650.0          1901.0   \n",
              "2    -114.56     33.69                17.0        720.0           174.0   \n",
              "3    -114.57     33.64                14.0       1501.0           337.0   \n",
              "4    -114.57     33.57                20.0       1454.0           326.0   \n",
              "\n",
              "   population  households  median_income  median_house_value  \n",
              "0      1015.0       472.0         1.4936             66900.0  \n",
              "1      1129.0       463.0         1.8200             80100.0  \n",
              "2       333.0       117.0         1.6509             85700.0  \n",
              "3       515.0       226.0         3.1917             73400.0  \n",
              "4       624.0       262.0         1.9250             65500.0  "
            ],
            "text/html": [
              "\n",
              "  <div id=\"df-3c998e6a-06e8-46d9-a278-882acb8925e8\">\n",
              "    <div class=\"colab-df-container\">\n",
              "      <div>\n",
              "<style scoped>\n",
              "    .dataframe tbody tr th:only-of-type {\n",
              "        vertical-align: middle;\n",
              "    }\n",
              "\n",
              "    .dataframe tbody tr th {\n",
              "        vertical-align: top;\n",
              "    }\n",
              "\n",
              "    .dataframe thead th {\n",
              "        text-align: right;\n",
              "    }\n",
              "</style>\n",
              "<table border=\"1\" class=\"dataframe\">\n",
              "  <thead>\n",
              "    <tr style=\"text-align: right;\">\n",
              "      <th></th>\n",
              "      <th>longitude</th>\n",
              "      <th>latitude</th>\n",
              "      <th>housing_median_age</th>\n",
              "      <th>total_rooms</th>\n",
              "      <th>total_bedrooms</th>\n",
              "      <th>population</th>\n",
              "      <th>households</th>\n",
              "      <th>median_income</th>\n",
              "      <th>median_house_value</th>\n",
              "    </tr>\n",
              "  </thead>\n",
              "  <tbody>\n",
              "    <tr>\n",
              "      <th>0</th>\n",
              "      <td>-114.31</td>\n",
              "      <td>34.19</td>\n",
              "      <td>15.0</td>\n",
              "      <td>5612.0</td>\n",
              "      <td>1283.0</td>\n",
              "      <td>1015.0</td>\n",
              "      <td>472.0</td>\n",
              "      <td>1.4936</td>\n",
              "      <td>66900.0</td>\n",
              "    </tr>\n",
              "    <tr>\n",
              "      <th>1</th>\n",
              "      <td>-114.47</td>\n",
              "      <td>34.40</td>\n",
              "      <td>19.0</td>\n",
              "      <td>7650.0</td>\n",
              "      <td>1901.0</td>\n",
              "      <td>1129.0</td>\n",
              "      <td>463.0</td>\n",
              "      <td>1.8200</td>\n",
              "      <td>80100.0</td>\n",
              "    </tr>\n",
              "    <tr>\n",
              "      <th>2</th>\n",
              "      <td>-114.56</td>\n",
              "      <td>33.69</td>\n",
              "      <td>17.0</td>\n",
              "      <td>720.0</td>\n",
              "      <td>174.0</td>\n",
              "      <td>333.0</td>\n",
              "      <td>117.0</td>\n",
              "      <td>1.6509</td>\n",
              "      <td>85700.0</td>\n",
              "    </tr>\n",
              "    <tr>\n",
              "      <th>3</th>\n",
              "      <td>-114.57</td>\n",
              "      <td>33.64</td>\n",
              "      <td>14.0</td>\n",
              "      <td>1501.0</td>\n",
              "      <td>337.0</td>\n",
              "      <td>515.0</td>\n",
              "      <td>226.0</td>\n",
              "      <td>3.1917</td>\n",
              "      <td>73400.0</td>\n",
              "    </tr>\n",
              "    <tr>\n",
              "      <th>4</th>\n",
              "      <td>-114.57</td>\n",
              "      <td>33.57</td>\n",
              "      <td>20.0</td>\n",
              "      <td>1454.0</td>\n",
              "      <td>326.0</td>\n",
              "      <td>624.0</td>\n",
              "      <td>262.0</td>\n",
              "      <td>1.9250</td>\n",
              "      <td>65500.0</td>\n",
              "    </tr>\n",
              "  </tbody>\n",
              "</table>\n",
              "</div>\n",
              "      <button class=\"colab-df-convert\" onclick=\"convertToInteractive('df-3c998e6a-06e8-46d9-a278-882acb8925e8')\"\n",
              "              title=\"Convert this dataframe to an interactive table.\"\n",
              "              style=\"display:none;\">\n",
              "        \n",
              "  <svg xmlns=\"http://www.w3.org/2000/svg\" height=\"24px\"viewBox=\"0 0 24 24\"\n",
              "       width=\"24px\">\n",
              "    <path d=\"M0 0h24v24H0V0z\" fill=\"none\"/>\n",
              "    <path d=\"M18.56 5.44l.94 2.06.94-2.06 2.06-.94-2.06-.94-.94-2.06-.94 2.06-2.06.94zm-11 1L8.5 8.5l.94-2.06 2.06-.94-2.06-.94L8.5 2.5l-.94 2.06-2.06.94zm10 10l.94 2.06.94-2.06 2.06-.94-2.06-.94-.94-2.06-.94 2.06-2.06.94z\"/><path d=\"M17.41 7.96l-1.37-1.37c-.4-.4-.92-.59-1.43-.59-.52 0-1.04.2-1.43.59L10.3 9.45l-7.72 7.72c-.78.78-.78 2.05 0 2.83L4 21.41c.39.39.9.59 1.41.59.51 0 1.02-.2 1.41-.59l7.78-7.78 2.81-2.81c.8-.78.8-2.07 0-2.86zM5.41 20L4 18.59l7.72-7.72 1.47 1.35L5.41 20z\"/>\n",
              "  </svg>\n",
              "      </button>\n",
              "      \n",
              "  <style>\n",
              "    .colab-df-container {\n",
              "      display:flex;\n",
              "      flex-wrap:wrap;\n",
              "      gap: 12px;\n",
              "    }\n",
              "\n",
              "    .colab-df-convert {\n",
              "      background-color: #E8F0FE;\n",
              "      border: none;\n",
              "      border-radius: 50%;\n",
              "      cursor: pointer;\n",
              "      display: none;\n",
              "      fill: #1967D2;\n",
              "      height: 32px;\n",
              "      padding: 0 0 0 0;\n",
              "      width: 32px;\n",
              "    }\n",
              "\n",
              "    .colab-df-convert:hover {\n",
              "      background-color: #E2EBFA;\n",
              "      box-shadow: 0px 1px 2px rgba(60, 64, 67, 0.3), 0px 1px 3px 1px rgba(60, 64, 67, 0.15);\n",
              "      fill: #174EA6;\n",
              "    }\n",
              "\n",
              "    [theme=dark] .colab-df-convert {\n",
              "      background-color: #3B4455;\n",
              "      fill: #D2E3FC;\n",
              "    }\n",
              "\n",
              "    [theme=dark] .colab-df-convert:hover {\n",
              "      background-color: #434B5C;\n",
              "      box-shadow: 0px 1px 3px 1px rgba(0, 0, 0, 0.15);\n",
              "      filter: drop-shadow(0px 1px 2px rgba(0, 0, 0, 0.3));\n",
              "      fill: #FFFFFF;\n",
              "    }\n",
              "  </style>\n",
              "\n",
              "      <script>\n",
              "        const buttonEl =\n",
              "          document.querySelector('#df-3c998e6a-06e8-46d9-a278-882acb8925e8 button.colab-df-convert');\n",
              "        buttonEl.style.display =\n",
              "          google.colab.kernel.accessAllowed ? 'block' : 'none';\n",
              "\n",
              "        async function convertToInteractive(key) {\n",
              "          const element = document.querySelector('#df-3c998e6a-06e8-46d9-a278-882acb8925e8');\n",
              "          const dataTable =\n",
              "            await google.colab.kernel.invokeFunction('convertToInteractive',\n",
              "                                                     [key], {});\n",
              "          if (!dataTable) return;\n",
              "\n",
              "          const docLinkHtml = 'Like what you see? Visit the ' +\n",
              "            '<a target=\"_blank\" href=https://colab.research.google.com/notebooks/data_table.ipynb>data table notebook</a>'\n",
              "            + ' to learn more about interactive tables.';\n",
              "          element.innerHTML = '';\n",
              "          dataTable['output_type'] = 'display_data';\n",
              "          await google.colab.output.renderOutput(dataTable, element);\n",
              "          const docLink = document.createElement('div');\n",
              "          docLink.innerHTML = docLinkHtml;\n",
              "          element.appendChild(docLink);\n",
              "        }\n",
              "      </script>\n",
              "    </div>\n",
              "  </div>\n",
              "  "
            ]
          },
          "metadata": {},
          "execution_count": 4
        }
      ]
    },
    {
      "cell_type": "code",
      "metadata": {
        "id": "KTVDAD2KchTv",
        "colab": {
          "base_uri": "https://localhost:8080/"
        },
        "outputId": "6236adb5-812e-4a57-c2dc-1dc67d316f94"
      },
      "source": [
        "# Remove missing data:\n",
        "\n",
        "df_train = df_train.dropna(how = 'any', axis = 'rows')\n",
        "print('New size: %d' % len(df_train))\n"
      ],
      "execution_count": 5,
      "outputs": [
        {
          "output_type": "stream",
          "name": "stdout",
          "text": [
            "New size: 17000\n"
          ]
        }
      ]
    },
    {
      "cell_type": "code",
      "metadata": {
        "id": "OXgSHPyYcnuv",
        "colab": {
          "base_uri": "https://localhost:8080/",
          "height": 363
        },
        "outputId": "5a6a920f-2418-4fcd-cc55-4fa6becf3a65"
      },
      "source": [
        "# Histogram fare plot:\n",
        "\n",
        "df_train.median_house_value.hist(bins=100, figsize=(16,5), color = \"red\")\n",
        "plt.xlabel('$ US Dollars', weight = 'bold', family = 'Arial')\n",
        "plt.title('Median Californian House Price', weight = 'bold')\n",
        "plt.grid(b=None)"
      ],
      "execution_count": 6,
      "outputs": [
        {
          "output_type": "stream",
          "name": "stderr",
          "text": [
            "WARNING:matplotlib.font_manager:findfont: Font family ['Arial'] not found. Falling back to DejaVu Sans.\n"
          ]
        },
        {
          "output_type": "display_data",
          "data": {
            "text/plain": [
              "<Figure size 1152x360 with 1 Axes>"
            ],
            "image/png": "[encoded data removed]"
          },
          "metadata": {}
        }
      ]
    },
    {
      "cell_type": "code",
      "metadata": {
        "id": "9TMSdAAjcr4o",
        "colab": {
          "base_uri": "https://localhost:8080/"
        },
        "outputId": "e433ec17-2c17-402a-c943-289a39cf516a"
      },
      "source": [
        "y = df_train.median_house_value.values + 1e-10\n",
        "y ### for supervised learning: output vector y"
      ],
      "execution_count": 7,
      "outputs": [
        {
          "output_type": "execute_result",
          "data": {
            "text/plain": [
              "array([ 66900.,  80100.,  85700., ..., 103600.,  85800.,  94600.])"
            ]
          },
          "metadata": {},
          "execution_count": 7
        }
      ]
    },
    {
      "cell_type": "code",
      "metadata": {
        "id": "6FOeHvi3cu1n",
        "colab": {
          "base_uri": "https://localhost:8080/",
          "height": 206
        },
        "outputId": "8e5662c4-47b2-440e-b380-7e92df5c75fe"
      },
      "source": [
        "# List first rows (post-cleaning):\n",
        "\n",
        "df_train.head()"
      ],
      "execution_count": 8,
      "outputs": [
        {
          "output_type": "execute_result",
          "data": {
            "text/plain": [
              "   longitude  latitude  housing_median_age  total_rooms  total_bedrooms  \\\n",
              "0    -114.31     34.19                15.0       5612.0          1283.0   \n",
              "1    -114.47     34.40                19.0       7650.0          1901.0   \n",
              "2    -114.56     33.69                17.0        720.0           174.0   \n",
              "3    -114.57     33.64                14.0       1501.0           337.0   \n",
              "4    -114.57     33.57                20.0       1454.0           326.0   \n",
              "\n",
              "   population  households  median_income  median_house_value  \n",
              "0      1015.0       472.0         1.4936             66900.0  \n",
              "1      1129.0       463.0         1.8200             80100.0  \n",
              "2       333.0       117.0         1.6509             85700.0  \n",
              "3       515.0       226.0         3.1917             73400.0  \n",
              "4       624.0       262.0         1.9250             65500.0  "
            ],
            "text/html": [
              "\n",
              "  <div id=\"df-5dee3c5e-c445-4bf5-81f3-61dfec85ab4d\">\n",
              "    <div class=\"colab-df-container\">\n",
              "      <div>\n",
              "<style scoped>\n",
              "    .dataframe tbody tr th:only-of-type {\n",
              "        vertical-align: middle;\n",
              "    }\n",
              "\n",
              "    .dataframe tbody tr th {\n",
              "        vertical-align: top;\n",
              "    }\n",
              "\n",
              "    .dataframe thead th {\n",
              "        text-align: right;\n",
              "    }\n",
              "</style>\n",
              "<table border=\"1\" class=\"dataframe\">\n",
              "  <thead>\n",
              "    <tr style=\"text-align: right;\">\n",
              "      <th></th>\n",
              "      <th>longitude</th>\n",
              "      <th>latitude</th>\n",
              "      <th>housing_median_age</th>\n",
              "      <th>total_rooms</th>\n",
              "      <th>total_bedrooms</th>\n",
              "      <th>population</th>\n",
              "      <th>households</th>\n",
              "      <th>median_income</th>\n",
              "      <th>median_house_value</th>\n",
              "    </tr>\n",
              "  </thead>\n",
              "  <tbody>\n",
              "    <tr>\n",
              "      <th>0</th>\n",
              "      <td>-114.31</td>\n",
              "      <td>34.19</td>\n",
              "      <td>15.0</td>\n",
              "      <td>5612.0</td>\n",
              "      <td>1283.0</td>\n",
              "      <td>1015.0</td>\n",
              "      <td>472.0</td>\n",
              "      <td>1.4936</td>\n",
              "      <td>66900.0</td>\n",
              "    </tr>\n",
              "    <tr>\n",
              "      <th>1</th>\n",
              "      <td>-114.47</td>\n",
              "      <td>34.40</td>\n",
              "      <td>19.0</td>\n",
              "      <td>7650.0</td>\n",
              "      <td>1901.0</td>\n",
              "      <td>1129.0</td>\n",
              "      <td>463.0</td>\n",
              "      <td>1.8200</td>\n",
              "      <td>80100.0</td>\n",
              "    </tr>\n",
              "    <tr>\n",
              "      <th>2</th>\n",
              "      <td>-114.56</td>\n",
              "      <td>33.69</td>\n",
              "      <td>17.0</td>\n",
              "      <td>720.0</td>\n",
              "      <td>174.0</td>\n",
              "      <td>333.0</td>\n",
              "      <td>117.0</td>\n",
              "      <td>1.6509</td>\n",
              "      <td>85700.0</td>\n",
              "    </tr>\n",
              "    <tr>\n",
              "      <th>3</th>\n",
              "      <td>-114.57</td>\n",
              "      <td>33.64</td>\n",
              "      <td>14.0</td>\n",
              "      <td>1501.0</td>\n",
              "      <td>337.0</td>\n",
              "      <td>515.0</td>\n",
              "      <td>226.0</td>\n",
              "      <td>3.1917</td>\n",
              "      <td>73400.0</td>\n",
              "    </tr>\n",
              "    <tr>\n",
              "      <th>4</th>\n",
              "      <td>-114.57</td>\n",
              "      <td>33.57</td>\n",
              "      <td>20.0</td>\n",
              "      <td>1454.0</td>\n",
              "      <td>326.0</td>\n",
              "      <td>624.0</td>\n",
              "      <td>262.0</td>\n",
              "      <td>1.9250</td>\n",
              "      <td>65500.0</td>\n",
              "    </tr>\n",
              "  </tbody>\n",
              "</table>\n",
              "</div>\n",
              "      <button class=\"colab-df-convert\" onclick=\"convertToInteractive('df-5dee3c5e-c445-4bf5-81f3-61dfec85ab4d')\"\n",
              "              title=\"Convert this dataframe to an interactive table.\"\n",
              "              style=\"display:none;\">\n",
              "        \n",
              "  <svg xmlns=\"http://www.w3.org/2000/svg\" height=\"24px\"viewBox=\"0 0 24 24\"\n",
              "       width=\"24px\">\n",
              "    <path d=\"M0 0h24v24H0V0z\" fill=\"none\"/>\n",
              "    <path d=\"M18.56 5.44l.94 2.06.94-2.06 2.06-.94-2.06-.94-.94-2.06-.94 2.06-2.06.94zm-11 1L8.5 8.5l.94-2.06 2.06-.94-2.06-.94L8.5 2.5l-.94 2.06-2.06.94zm10 10l.94 2.06.94-2.06 2.06-.94-2.06-.94-.94-2.06-.94 2.06-2.06.94z\"/><path d=\"M17.41 7.96l-1.37-1.37c-.4-.4-.92-.59-1.43-.59-.52 0-1.04.2-1.43.59L10.3 9.45l-7.72 7.72c-.78.78-.78 2.05 0 2.83L4 21.41c.39.39.9.59 1.41.59.51 0 1.02-.2 1.41-.59l7.78-7.78 2.81-2.81c.8-.78.8-2.07 0-2.86zM5.41 20L4 18.59l7.72-7.72 1.47 1.35L5.41 20z\"/>\n",
              "  </svg>\n",
              "      </button>\n",
              "      \n",
              "  <style>\n",
              "    .colab-df-container {\n",
              "      display:flex;\n",
              "      flex-wrap:wrap;\n",
              "      gap: 12px;\n",
              "    }\n",
              "\n",
              "    .colab-df-convert {\n",
              "      background-color: #E8F0FE;\n",
              "      border: none;\n",
              "      border-radius: 50%;\n",
              "      cursor: pointer;\n",
              "      display: none;\n",
              "      fill: #1967D2;\n",
              "      height: 32px;\n",
              "      padding: 0 0 0 0;\n",
              "      width: 32px;\n",
              "    }\n",
              "\n",
              "    .colab-df-convert:hover {\n",
              "      background-color: #E2EBFA;\n",
              "      box-shadow: 0px 1px 2px rgba(60, 64, 67, 0.3), 0px 1px 3px 1px rgba(60, 64, 67, 0.15);\n",
              "      fill: #174EA6;\n",
              "    }\n",
              "\n",
              "    [theme=dark] .colab-df-convert {\n",
              "      background-color: #3B4455;\n",
              "      fill: #D2E3FC;\n",
              "    }\n",
              "\n",
              "    [theme=dark] .colab-df-convert:hover {\n",
              "      background-color: #434B5C;\n",
              "      box-shadow: 0px 1px 3px 1px rgba(0, 0, 0, 0.15);\n",
              "      filter: drop-shadow(0px 1px 2px rgba(0, 0, 0, 0.3));\n",
              "      fill: #FFFFFF;\n",
              "    }\n",
              "  </style>\n",
              "\n",
              "      <script>\n",
              "        const buttonEl =\n",
              "          document.querySelector('#df-5dee3c5e-c445-4bf5-81f3-61dfec85ab4d button.colab-df-convert');\n",
              "        buttonEl.style.display =\n",
              "          google.colab.kernel.accessAllowed ? 'block' : 'none';\n",
              "\n",
              "        async function convertToInteractive(key) {\n",
              "          const element = document.querySelector('#df-5dee3c5e-c445-4bf5-81f3-61dfec85ab4d');\n",
              "          const dataTable =\n",
              "            await google.colab.kernel.invokeFunction('convertToInteractive',\n",
              "                                                     [key], {});\n",
              "          if (!dataTable) return;\n",
              "\n",
              "          const docLinkHtml = 'Like what you see? Visit the ' +\n",
              "            '<a target=\"_blank\" href=https://colab.research.google.com/notebooks/data_table.ipynb>data table notebook</a>'\n",
              "            + ' to learn more about interactive tables.';\n",
              "          element.innerHTML = '';\n",
              "          dataTable['output_type'] = 'display_data';\n",
              "          await google.colab.output.renderOutput(dataTable, element);\n",
              "          const docLink = document.createElement('div');\n",
              "          docLink.innerHTML = docLinkHtml;\n",
              "          element.appendChild(docLink);\n",
              "        }\n",
              "      </script>\n",
              "    </div>\n",
              "  </div>\n",
              "  "
            ]
          },
          "metadata": {},
          "execution_count": 8
        }
      ]
    },
    {
      "cell_type": "code",
      "metadata": {
        "id": "n-lT9BBicw4P",
        "colab": {
          "base_uri": "https://localhost:8080/",
          "height": 206
        },
        "outputId": "599e104d-d6cf-447a-bb77-1ad1c7ef9c8e"
      },
      "source": [
        "X = df_train.drop(['median_house_value'], axis = 1)\n",
        "X.head() ### for supervised learning: input matrix X"
      ],
      "execution_count": 9,
      "outputs": [
        {
          "output_type": "execute_result",
          "data": {
            "text/plain": [
              "   longitude  latitude  housing_median_age  total_rooms  total_bedrooms  \\\n",
              "0    -114.31     34.19                15.0       5612.0          1283.0   \n",
              "1    -114.47     34.40                19.0       7650.0          1901.0   \n",
              "2    -114.56     33.69                17.0        720.0           174.0   \n",
              "3    -114.57     33.64                14.0       1501.0           337.0   \n",
              "4    -114.57     33.57                20.0       1454.0           326.0   \n",
              "\n",
              "   population  households  median_income  \n",
              "0      1015.0       472.0         1.4936  \n",
              "1      1129.0       463.0         1.8200  \n",
              "2       333.0       117.0         1.6509  \n",
              "3       515.0       226.0         3.1917  \n",
              "4       624.0       262.0         1.9250  "
            ],
            "text/html": [
              "\n",
              "  <div id=\"df-6d5d1873-b83c-4fc0-96ae-878b73508be7\">\n",
              "    <div class=\"colab-df-container\">\n",
              "      <div>\n",
              "<style scoped>\n",
              "    .dataframe tbody tr th:only-of-type {\n",
              "        vertical-align: middle;\n",
              "    }\n",
              "\n",
              "    .dataframe tbody tr th {\n",
              "        vertical-align: top;\n",
              "    }\n",
              "\n",
              "    .dataframe thead th {\n",
              "        text-align: right;\n",
              "    }\n",
              "</style>\n",
              "<table border=\"1\" class=\"dataframe\">\n",
              "  <thead>\n",
              "    <tr style=\"text-align: right;\">\n",
              "      <th></th>\n",
              "      <th>longitude</th>\n",
              "      <th>latitude</th>\n",
              "      <th>housing_median_age</th>\n",
              "      <th>total_rooms</th>\n",
              "      <th>total_bedrooms</th>\n",
              "      <th>population</th>\n",
              "      <th>households</th>\n",
              "      <th>median_income</th>\n",
              "    </tr>\n",
              "  </thead>\n",
              "  <tbody>\n",
              "    <tr>\n",
              "      <th>0</th>\n",
              "      <td>-114.31</td>\n",
              "      <td>34.19</td>\n",
              "      <td>15.0</td>\n",
              "      <td>5612.0</td>\n",
              "      <td>1283.0</td>\n",
              "      <td>1015.0</td>\n",
              "      <td>472.0</td>\n",
              "      <td>1.4936</td>\n",
              "    </tr>\n",
              "    <tr>\n",
              "      <th>1</th>\n",
              "      <td>-114.47</td>\n",
              "      <td>34.40</td>\n",
              "      <td>19.0</td>\n",
              "      <td>7650.0</td>\n",
              "      <td>1901.0</td>\n",
              "      <td>1129.0</td>\n",
              "      <td>463.0</td>\n",
              "      <td>1.8200</td>\n",
              "    </tr>\n",
              "    <tr>\n",
              "      <th>2</th>\n",
              "      <td>-114.56</td>\n",
              "      <td>33.69</td>\n",
              "      <td>17.0</td>\n",
              "      <td>720.0</td>\n",
              "      <td>174.0</td>\n",
              "      <td>333.0</td>\n",
              "      <td>117.0</td>\n",
              "      <td>1.6509</td>\n",
              "    </tr>\n",
              "    <tr>\n",
              "      <th>3</th>\n",
              "      <td>-114.57</td>\n",
              "      <td>33.64</td>\n",
              "      <td>14.0</td>\n",
              "      <td>1501.0</td>\n",
              "      <td>337.0</td>\n",
              "      <td>515.0</td>\n",
              "      <td>226.0</td>\n",
              "      <td>3.1917</td>\n",
              "    </tr>\n",
              "    <tr>\n",
              "      <th>4</th>\n",
              "      <td>-114.57</td>\n",
              "      <td>33.57</td>\n",
              "      <td>20.0</td>\n",
              "      <td>1454.0</td>\n",
              "      <td>326.0</td>\n",
              "      <td>624.0</td>\n",
              "      <td>262.0</td>\n",
              "      <td>1.9250</td>\n",
              "    </tr>\n",
              "  </tbody>\n",
              "</table>\n",
              "</div>\n",
              "      <button class=\"colab-df-convert\" onclick=\"convertToInteractive('df-6d5d1873-b83c-4fc0-96ae-878b73508be7')\"\n",
              "              title=\"Convert this dataframe to an interactive table.\"\n",
              "              style=\"display:none;\">\n",
              "        \n",
              "  <svg xmlns=\"http://www.w3.org/2000/svg\" height=\"24px\"viewBox=\"0 0 24 24\"\n",
              "       width=\"24px\">\n",
              "    <path d=\"M0 0h24v24H0V0z\" fill=\"none\"/>\n",
              "    <path d=\"M18.56 5.44l.94 2.06.94-2.06 2.06-.94-2.06-.94-.94-2.06-.94 2.06-2.06.94zm-11 1L8.5 8.5l.94-2.06 2.06-.94-2.06-.94L8.5 2.5l-.94 2.06-2.06.94zm10 10l.94 2.06.94-2.06 2.06-.94-2.06-.94-.94-2.06-.94 2.06-2.06.94z\"/><path d=\"M17.41 7.96l-1.37-1.37c-.4-.4-.92-.59-1.43-.59-.52 0-1.04.2-1.43.59L10.3 9.45l-7.72 7.72c-.78.78-.78 2.05 0 2.83L4 21.41c.39.39.9.59 1.41.59.51 0 1.02-.2 1.41-.59l7.78-7.78 2.81-2.81c.8-.78.8-2.07 0-2.86zM5.41 20L4 18.59l7.72-7.72 1.47 1.35L5.41 20z\"/>\n",
              "  </svg>\n",
              "      </button>\n",
              "      \n",
              "  <style>\n",
              "    .colab-df-container {\n",
              "      display:flex;\n",
              "      flex-wrap:wrap;\n",
              "      gap: 12px;\n",
              "    }\n",
              "\n",
              "    .colab-df-convert {\n",
              "      background-color: #E8F0FE;\n",
              "      border: none;\n",
              "      border-radius: 50%;\n",
              "      cursor: pointer;\n",
              "      display: none;\n",
              "      fill: #1967D2;\n",
              "      height: 32px;\n",
              "      padding: 0 0 0 0;\n",
              "      width: 32px;\n",
              "    }\n",
              "\n",
              "    .colab-df-convert:hover {\n",
              "      background-color: #E2EBFA;\n",
              "      box-shadow: 0px 1px 2px rgba(60, 64, 67, 0.3), 0px 1px 3px 1px rgba(60, 64, 67, 0.15);\n",
              "      fill: #174EA6;\n",
              "    }\n",
              "\n",
              "    [theme=dark] .colab-df-convert {\n",
              "      background-color: #3B4455;\n",
              "      fill: #D2E3FC;\n",
              "    }\n",
              "\n",
              "    [theme=dark] .colab-df-convert:hover {\n",
              "      background-color: #434B5C;\n",
              "      box-shadow: 0px 1px 3px 1px rgba(0, 0, 0, 0.15);\n",
              "      filter: drop-shadow(0px 1px 2px rgba(0, 0, 0, 0.3));\n",
              "      fill: #FFFFFF;\n",
              "    }\n",
              "  </style>\n",
              "\n",
              "      <script>\n",
              "        const buttonEl =\n",
              "          document.querySelector('#df-6d5d1873-b83c-4fc0-96ae-878b73508be7 button.colab-df-convert');\n",
              "        buttonEl.style.display =\n",
              "          google.colab.kernel.accessAllowed ? 'block' : 'none';\n",
              "\n",
              "        async function convertToInteractive(key) {\n",
              "          const element = document.querySelector('#df-6d5d1873-b83c-4fc0-96ae-878b73508be7');\n",
              "          const dataTable =\n",
              "            await google.colab.kernel.invokeFunction('convertToInteractive',\n",
              "                                                     [key], {});\n",
              "          if (!dataTable) return;\n",
              "\n",
              "          const docLinkHtml = 'Like what you see? Visit the ' +\n",
              "            '<a target=\"_blank\" href=https://colab.research.google.com/notebooks/data_table.ipynb>data table notebook</a>'\n",
              "            + ' to learn more about interactive tables.';\n",
              "          element.innerHTML = '';\n",
              "          dataTable['output_type'] = 'display_data';\n",
              "          await google.colab.output.renderOutput(dataTable, element);\n",
              "          const docLink = document.createElement('div');\n",
              "          docLink.innerHTML = docLinkHtml;\n",
              "          element.appendChild(docLink);\n",
              "        }\n",
              "      </script>\n",
              "    </div>\n",
              "  </div>\n",
              "  "
            ]
          },
          "metadata": {},
          "execution_count": 9
        }
      ]
    },
    {
      "cell_type": "code",
      "metadata": {
        "id": "2eC8SDPzczNY"
      },
      "source": [
        "### Optimum rmse: regression model objective function is Root Mean Square Error (RMSE); \n",
        "### Should be minimized (as close to zero as possible):\n",
        "\n",
        "y_global_orig = 0"
      ],
      "execution_count": 10,
      "outputs": []
    },
    {
      "cell_type": "code",
      "metadata": {
        "id": "GoTmWEhSc1qQ"
      },
      "source": [
        "### Bayesian Optimization - inputs:\n",
        "\n",
        "obj_func = 'XGBoost'\n",
        "n_test = 500 # test points\n",
        "\n",
        "util_gp = 'CBMinimized'\n",
        "util_stp = 'tCBMinimized'\n",
        "n_init = 5 # random initialisations\n",
        "opt = True\n",
        "\n",
        "test_perc = 0.1\n",
        "train_perc = 1 - test_perc\n",
        "\n",
        "n_test = int(len(df_train) * test_perc)\n",
        "n_train = int(len(df_train) - n_test)\n",
        "\n",
        "eps = 1e-08\n",
        "\n",
        "df = 3"
      ],
      "execution_count": 11,
      "outputs": []
    },
    {
      "cell_type": "code",
      "metadata": {
        "id": "W2ngnRxbc7cg"
      },
      "source": [
        "### Objective function:\n",
        "\n",
        "if obj_func == 'XGBoost': # 6-D\n",
        "            \n",
        "    # Constraints:\n",
        "    param_lb_alpha = 0\n",
        "    param_ub_alpha = 10\n",
        "    \n",
        "    param_lb_gamma = 0\n",
        "    param_ub_gamma = 10\n",
        "    \n",
        "    param_lb_max_depth = 5\n",
        "    param_ub_max_depth = 15\n",
        "    \n",
        "    param_lb_min_child_weight = 1\n",
        "    param_ub_min_child_weight = 20\n",
        "    \n",
        "    param_lb_subsample = .5\n",
        "    param_ub_subsample = 1\n",
        "    \n",
        "    param_lb_colsample = .1\n",
        "    param_ub_colsample = 1\n",
        "    \n",
        "    # 6-D inputs' parameter bounds:\n",
        "    param = { 'alpha':  ('cont', (param_lb_alpha, param_ub_alpha)),\n",
        "         'gamma':  ('cont', (param_lb_gamma, param_ub_gamma)),     \n",
        "         'max_depth':  ('int', (param_lb_max_depth, param_ub_max_depth)),\n",
        "         'subsample':  ('cont', (param_lb_subsample, param_ub_subsample)),\n",
        "          'min_child_weight':  ('int', (param_lb_min_child_weight, param_ub_min_child_weight)),\n",
        "            'colsample': ('cont', (param_lb_colsample, param_ub_colsample))\n",
        "        }\n",
        "       \n",
        "    # True y bounds:\n",
        "    dim = 6\n",
        "    \n",
        "    max_iter = 30  # iterations of Bayesian optimization\n",
        "    \n",
        "    operator = 1 \n",
        "    \n",
        "    n_est = 3"
      ],
      "execution_count": 12,
      "outputs": []
    },
    {
      "cell_type": "code",
      "metadata": {
        "id": "_3pmZYhVl9Hb"
      },
      "source": [
        "n_start_AcqFunc = dim * 10 #max_iter\n",
        "cov_func = squaredExponential()\n",
        "inverse = -1\n"
      ],
      "execution_count": 13,
      "outputs": []
    },
    {
      "cell_type": "code",
      "metadata": {
        "id": "n9ZuEB2VdE0W"
      },
      "source": [
        "### Set-seeds:\n",
        "\n",
        "run_num_1 = 1\n",
        "run_num_2 = 2\n",
        "run_num_3 = 3\n",
        "run_num_4 = 4\n",
        "run_num_5 = 5\n",
        "run_num_6 = 6\n",
        "run_num_7 = 7\n",
        "run_num_8 = 8\n",
        "run_num_9 = 9\n",
        "run_num_10 = 10\n",
        "run_num_11 = 11\n",
        "run_num_12 = 12\n",
        "run_num_13 = 13\n",
        "run_num_14 = 14\n",
        "run_num_15 = 15\n",
        "run_num_16 = 16\n",
        "run_num_17 = 17\n",
        "run_num_18 = 18\n",
        "run_num_19 = 19\n",
        "run_num_20 = 20\n"
      ],
      "execution_count": 14,
      "outputs": []
    },
    {
      "cell_type": "code",
      "metadata": {
        "id": "XgHMFEyPdCk4"
      },
      "source": [
        "### Cumulative Regret Calculator:\n",
        "\n",
        "def min_max_array(x):\n",
        "    new_list = []\n",
        "    for i, num in enumerate(x):\n",
        "            new_list.append(np.min(x[0:i+1]))\n",
        "    return new_list\n",
        "    "
      ],
      "execution_count": 15,
      "outputs": []
    },
    {
      "cell_type": "code",
      "source": [
        "### Add exact acquisition function gradient as attribute:\n",
        "\n",
        "Beta_CBM = 1.5 #pyGPGO default parameter\n",
        "\n",
        "class Acquisition_new(Acquisition):    \n",
        "    def __init__(self, mode, eps=1e-06, **params):\n",
        "        \n",
        "        self.params = params\n",
        "        self.eps = eps\n",
        "\n",
        "        mode_dict = {\n",
        "            'CBMinimized': self.CBMinimized,\n",
        "            'tCBMinimized': self.tCBMinimized\n",
        "        }\n",
        "\n",
        "        self.f = mode_dict[mode]\n",
        "   \n",
        "    def CBMinimized(self, tau, mean, std):\n",
        "        \n",
        "        gamma = (mean - y_global_orig - self.eps) / (std + self.eps)\n",
        "        return (std + self.eps) * (gamma + np.sqrt(Beta_CBM))\n",
        "    \n",
        "    def tCBMinimized(self, tau, mean, std, nu=3.0):\n",
        "        \n",
        "        gamma = (mean - y_global_orig - self.eps) / (std + self.eps)\n",
        "        return (std + self.eps) * (gamma + np.sqrt(Beta_CBM))\n",
        "\n",
        "    def eval(self, y_global_orig, mean, std):\n",
        "    \n",
        "        return self.f(y_global_orig, mean, std, **self.params)\n",
        "        \n",
        "    def t_eval(self, y_global_orig, mean, std, nu=df):\n",
        "    \n",
        "        return self.f(y_global_orig, mean, std, nu=df, **self.params)\n",
        "    "
      ],
      "metadata": {
        "id": "ZIh5RYGkwBUZ"
      },
      "execution_count": 16,
      "outputs": []
    },
    {
      "cell_type": "code",
      "source": [
        "## GPGO_multi: Gaussian\n",
        "\n",
        "n_start = n_start_AcqFunc\n",
        "\n",
        "class GPGO_multi(GPGO):\n",
        "\n",
        "    def __init__(self, surrogate, acquisition, f, parameter_dict, n_jobs=1):\n",
        "        self.GP = surrogate\n",
        "        self.A = acquisition\n",
        "        self.f = f\n",
        "        self.parameters = parameter_dict\n",
        "        self.n_jobs = n_jobs\n",
        "\n",
        "        self.parameter_key = list(parameter_dict.keys())\n",
        "        self.parameter_value = list(parameter_dict.values())\n",
        "        self.parameter_type = [p[0] for p in self.parameter_value]\n",
        "        self.parameter_range = [p[1] for p in self.parameter_value]\n",
        "\n",
        "        self.history = []\n",
        "        self.header =   'Evaluation \\t Proposed point \\t  Current eval. \\t  Best eval. \\t Min. ApproxAcqFunc '\n",
        "        self.template = '{:3}\\t {}\\t {:3}\\t {:3}\\t {:3}'\n",
        " \n",
        "    def acqfuncApprox(self, xnew):\n",
        "        new_mean, new_var = self.GP.predict(xnew, return_std=True)\n",
        "        new_std = np.sqrt(new_var + eps)\n",
        "        f = self.A.eval(self.tau, new_mean, new_std)\n",
        "\n",
        "        return -f\n",
        "   \n",
        "    def _optimizeAcq(self, method='L-BFGS-B'):\n",
        "        \n",
        "        start_points_dict = [self._sampleParam() for i in range(n_start)]\n",
        "        start_points_arr = np.array([list(s.values())\n",
        "                                     for s in start_points_dict])\n",
        "        x_best = np.empty((n_start, len(self.parameter_key)))\n",
        "        f_best = np.empty((n_start,))\n",
        "        opt = Parallel(n_jobs=self.n_jobs)(delayed(minimize)(self.acqfuncApprox,\n",
        "                                                                 x0=start_point,\n",
        "                                                                 method=method,\n",
        "                                                                 jac = False,\n",
        "                                                                 bounds=self.parameter_range) for start_point in\n",
        "                                               start_points_arr)\n",
        "        x_best = np.array([res.x for res in opt])\n",
        "        f_best = np.array([np.atleast_1d(res.fun)[0] for res in opt])\n",
        "        f_best_min = min(f_best)\n",
        "\n",
        "        self.x_best = x_best\n",
        "        self.f_best = f_best\n",
        "        self.f_best_min = f_best_min\n",
        "        self.best = x_best[np.argmin(f_best)]\n",
        "        self.start_points_arr = start_points_arr        \n",
        "        self.history.append(self.f_best_min)\n",
        "\n",
        "    def _printInit(self):\n",
        "        print(self.header)\n",
        "        for init_eval in range(self.init_evals):\n",
        "            print(self.template.format('init', self.GP.X[init_eval], inverse * self.GP.y[init_eval], inverse * self.tau, ''))\n",
        "      \n",
        "    def _printCurrent(self):\n",
        "        OKGREEN = '\\033[92m'\n",
        "        ENDC = '\\033[0m'\n",
        "        BOLD = '\\033[1m'\n",
        "        eval = str(len(self.GP.y) - self.init_evals)\n",
        "        proposed = str(self.best)\n",
        "        curr_eval = str(inverse * self.GP.y[-1])\n",
        "        curr_best = str(inverse * self.tau)\n",
        "        min_acqfunc = str(self.f_best_min)\n",
        "        if float(curr_eval) <= float(curr_best):\n",
        "            eval = BOLD + OKGREEN + eval + ENDC\n",
        "            proposed = BOLD + OKGREEN + proposed + ENDC\n",
        "            curr_eval = BOLD + OKGREEN + curr_eval + ENDC\n",
        "            curr_best = BOLD + OKGREEN + curr_best + ENDC\n",
        "            min_acqfunc = BOLD + OKGREEN + min_acqfunc + ENDC\n",
        "        print(self.template.format(eval, proposed, curr_eval, curr_best, min_acqfunc))\n",
        "        \n",
        "    def run(self, max_iter=10, init_evals=3, resume=False):\n",
        "        \n",
        "        if not resume:\n",
        "            self.init_evals = init_evals\n",
        "            self._firstRun(self.init_evals)\n",
        "            self._printInit()\n",
        "        for iteration in range(max_iter):\n",
        "            self._optimizeAcq()\n",
        "            self.updateGP()\n",
        "            self._printCurrent()\n"
      ],
      "metadata": {
        "id": "sz1_GZYBtof7"
      },
      "execution_count": 17,
      "outputs": []
    },
    {
      "cell_type": "code",
      "source": [
        "## GPGO_multi_STP: Student's-t\n",
        "\n",
        "class GPGO_multi_STP(GPGO):\n",
        "\n",
        "    def __init__(self, surrogate, acquisition, f, parameter_dict, n_jobs=1):\n",
        "        self.GP = surrogate\n",
        "        self.A = acquisition\n",
        "        self.f = f\n",
        "        self.parameters = parameter_dict\n",
        "        self.n_jobs = n_jobs\n",
        "\n",
        "        self.parameter_key = list(parameter_dict.keys())\n",
        "        self.parameter_value = list(parameter_dict.values())\n",
        "        self.parameter_type = [p[0] for p in self.parameter_value]\n",
        "        self.parameter_range = [p[1] for p in self.parameter_value]\n",
        "\n",
        "        self.history = []\n",
        "        self.header =   'Evaluation \\t Proposed point \\t  Current eval. \\t  Best eval. \\t Min. ApproxAcqFunc '\n",
        "        self.template = '{:3}\\t {}\\t {:3}\\t {:3}\\t {:3}'\n",
        " \n",
        "    def acqfuncApprox(self, xnew):\n",
        "        new_mean, new_var = self.GP.predict(xnew, return_std=True)\n",
        "        new_std = np.sqrt(new_var + eps)\n",
        "        f = self.A.t_eval(self.tau, new_mean, new_std)\n",
        "\n",
        "        return -f\n",
        "   \n",
        "    def _optimizeAcq(self, method='L-BFGS-B'):\n",
        "        \n",
        "        start_points_dict = [self._sampleParam() for i in range(n_start)]\n",
        "        start_points_arr = np.array([list(s.values())\n",
        "                                     for s in start_points_dict])\n",
        "        x_best = np.empty((n_start, len(self.parameter_key)))\n",
        "        f_best = np.empty((n_start,))\n",
        "        opt = Parallel(n_jobs=self.n_jobs)(delayed(minimize)(self.acqfuncApprox,\n",
        "                                                                 x0=start_point,\n",
        "                                                                 method=method,\n",
        "                                                                 jac = False,\n",
        "                                                                 bounds=self.parameter_range) for start_point in\n",
        "                                               start_points_arr)\n",
        "        x_best = np.array([res.x for res in opt])\n",
        "        f_best = np.array([np.atleast_1d(res.fun)[0] for res in opt])\n",
        "        f_best_min = min(f_best)\n",
        "\n",
        "        self.x_best = x_best\n",
        "        self.f_best = f_best\n",
        "        self.f_best_min = f_best_min\n",
        "        self.best = x_best[np.argmin(f_best)]\n",
        "        self.start_points_arr = start_points_arr        \n",
        "        self.history.append(self.f_best_min)\n",
        "\n",
        "    def _printInit(self):\n",
        "        print(self.header)\n",
        "        for init_eval in range(self.init_evals):\n",
        "            print(self.template.format('init', self.GP.X[init_eval], inverse * self.GP.y[init_eval], inverse * self.tau, ''))\n",
        "      \n",
        "    def _printCurrent(self):\n",
        "        OKGREEN = '\\033[92m'\n",
        "        ENDC = '\\033[0m'\n",
        "        BOLD = '\\033[1m'\n",
        "        eval = str(len(self.GP.y) - self.init_evals)\n",
        "        proposed = str(self.best)\n",
        "        curr_eval = str(inverse * self.GP.y[-1])\n",
        "        curr_best = str(inverse * self.tau)\n",
        "        min_acqfunc = str(self.f_best_min)\n",
        "        if float(curr_eval) <= float(curr_best):\n",
        "            eval = BOLD + OKGREEN + eval + ENDC\n",
        "            proposed = BOLD + OKGREEN + proposed + ENDC\n",
        "            curr_eval = BOLD + OKGREEN + curr_eval + ENDC\n",
        "            curr_best = BOLD + OKGREEN + curr_best + ENDC\n",
        "            min_acqfunc = BOLD + OKGREEN + min_acqfunc + ENDC\n",
        "        print(self.template.format(eval, proposed, curr_eval, curr_best, min_acqfunc))\n",
        "        \n",
        "    def run(self, max_iter=10, init_evals=3, resume=False):\n",
        "        \n",
        "        if not resume:\n",
        "            self.init_evals = init_evals\n",
        "            self._firstRun(self.init_evals)\n",
        "            self._printInit()\n",
        "        for iteration in range(max_iter):\n",
        "            self._optimizeAcq()\n",
        "            self.updateGP()\n",
        "            self._printCurrent()\n"
      ],
      "metadata": {
        "id": "n3KsSiezvkcV"
      },
      "execution_count": 18,
      "outputs": []
    },
    {
      "cell_type": "code",
      "metadata": {
        "id": "HlilveEgdIR_",
        "colab": {
          "base_uri": "https://localhost:8080/"
        },
        "outputId": "df963263-7bec-461a-da28-54f901e311e3"
      },
      "source": [
        "start_gp = time.time()\n",
        "start_gp"
      ],
      "execution_count": 19,
      "outputs": [
        {
          "output_type": "execute_result",
          "data": {
            "text/plain": [
              "1668512546.6319745"
            ]
          },
          "metadata": {},
          "execution_count": 19
        }
      ]
    },
    {
      "cell_type": "code",
      "metadata": {
        "id": "1wlzDSHbUG-c",
        "colab": {
          "base_uri": "https://localhost:8080/"
        },
        "outputId": "3fa765d5-ec87-4d59-8160-65ad2f3c7160"
      },
      "source": [
        "### Bayesian optimization runs (x20): 'gp' Acquisition Function run number = 1\n",
        "\n",
        "np.random.seed(run_num_1)\n",
        "surrogate_gp_1 = GaussianProcess(cov_func, optimize=opt)\n",
        "\n",
        "X_train1, X_test1, y_train1, y_test1 = train_test_split(X, y, test_size=test_perc, random_state=run_num_1)\n",
        "\n",
        "def f_syn_polarity1(alpha, gamma, max_depth, subsample, min_child_weight, colsample):\n",
        "    reg = XGBRegressor(reg_alpha=alpha, gamma=gamma, max_depth=int(max_depth), subsample=subsample, min_child_weight=min_child_weight,\n",
        "          colsample_bytree=colsample, n_estimators = n_est, random_state=run_num_1, objective = 'reg:squarederror')\n",
        "    score = np.array(cross_val_score(reg, X=X_train1, y=y_train1).mean())\n",
        "    return operator * score\n",
        "\n",
        "gp_1 = GPGO_multi(surrogate_gp_1, Acquisition_new(util_gp), f_syn_polarity1, param, n_jobs = -1) # define BayesOpt\n",
        "gp_1.run(max_iter = max_iter, init_evals = n_init) # run\n",
        "\n",
        "### Return optimal parameters' set:\n",
        "params_gp_1 = gp_1.getResult()[0]\n",
        "params_gp_1['max_depth'] = int(params_gp_1['max_depth'])\n",
        "params_gp_1['min_child_weight'] = int(params_gp_1['min_child_weight'])\n",
        "\n",
        "### Re-train with optimal parameters, run predictons:\n",
        "dX_gp_train1 = xgb.DMatrix(X_train1, y_train1)\n",
        "dX_gp_test1 = xgb.DMatrix(X_test1, y_test1)\n",
        "model_gp_1 = xgb.train(params_gp_1, dX_gp_train1)\n",
        "pred_gp_1 = model_gp_1.predict(dX_gp_test1)\n",
        "\n",
        "rmse_gp_1 = np.sqrt(mean_squared_error(pred_gp_1, y_test1))\n",
        "rmse_gp_1"
      ],
      "execution_count": 20,
      "outputs": [
        {
          "output_type": "stream",
          "name": "stdout",
          "text": [
            "Evaluation \t Proposed point \t  Current eval. \t  Best eval. \t Min. ApproxAcqFunc \n",
            "init\t [ 4.17022005  7.20324493 14.          0.65116629 16.          0.31248008]\t 1.6139329892980396\t 1.3678797200853317\t    \n",
            "init\t [ 3.96580727  3.87910741 11.          0.96776954  6.          0.71669755]\t 1.4460566998267423\t 1.3678797200853317\t    \n",
            "init\t [ 2.0445225   8.78117436  7.          0.95698101 10.          0.48762871]\t 1.5755054668571844\t 1.3678797200853317\t    \n",
            "init\t [ 9.39127789  7.78389236 14.          0.98413079  2.          0.87851823]\t 1.3678797200853317\t 1.3678797200853317\t    \n",
            "init\t [8.29146907 8.29603359 8.         0.58491521 9.         0.18851215]\t 1.6515361212564685\t 1.3678797200853317\t    \n",
            "1  \t [ 7.86951474  0.6406733  11.          0.78919481 19.          0.44182296]\t 1.5598734918230905\t 1.3678797200853317\t -1.8796366011232373\n",
            "2  \t [5.02996532 7.87581008 8.         0.7704759  8.         0.76431787]\t 1.4103738699707644\t 1.3678797200853317\t -1.884804899166124\n",
            "3  \t [0.14003556 2.17611103 5.         0.84788211 2.         0.68639062]\t 1.494248560182728\t 1.3678797200853317\t -1.8618120413729211\n",
            "4  \t [ 7.8830119   0.1209676   8.          0.96552864 13.          0.14744187]\t 1.6510661816662968\t 1.3678797200853317\t -1.8590272230732061\n",
            "5  \t [ 0.39911366  2.27406121  5.          0.77602794 15.          0.84297554]\t 1.4369836357415853\t 1.3678797200853317\t -1.876852615437081\n",
            "6  \t [7.23361044 1.08995034 6.         0.82296879 2.         0.31865241]\t 1.616263041019262\t 1.3678797200853317\t -1.8663929159822705\n",
            "7  \t [ 6.69157798  8.70257949  6.          0.87919364 18.          0.65415334]\t 1.4758125794863257\t 1.3678797200853317\t -1.8769585291209163\n",
            "8  \t [ 9.397564    0.64447703 14.          0.74948374  4.          0.99659704]\t 1.37479542388165\t 1.3678797200853317\t -1.870512858565687\n",
            "9  \t [ 8.23551556  0.83895352 13.          0.91071147 11.          0.69412763]\t 1.4459561767774924\t 1.3678797200853317\t -1.857517943160011\n",
            "10 \t [4.22126568 9.13569687 8.         0.87313127 1.         0.29368869]\t 1.609746398066654\t 1.3678797200853317\t -1.8507974158304275\n",
            "11 \t [ 0.02581662  0.61565532 10.          0.78602721  5.          0.89325556]\t 1.374368614137194\t 1.3678797200853317\t -1.8597123750381228\n",
            "12 \t [ 0.56626357  6.80796034  8.          0.95247353 19.          0.13325772]\t 1.6504425520647423\t 1.3678797200853317\t -1.848589922023904\n",
            "13 \t [ 0.56142367  0.70996187 14.          0.5646257  16.          0.45400367]\t 1.565213101553968\t 1.3678797200853317\t -1.8592043072420477\n",
            "14 \t [ 0.27993497  8.30107508 11.          0.85894957  5.          0.48088005]\t 1.5614234292351676\t 1.3678797200853317\t -1.8629689820215005\n",
            "15 \t [ 2.8123521   2.55518618 11.          0.6485265  13.          0.98845856]\t 1.3787436195350284\t 1.3678797200853317\t -1.865605476047143\n",
            "16 \t [ 9.55881164  0.59705104  5.          0.71787423 19.          0.47332505]\t 1.5923674320816592\t 1.3678797200853317\t -1.8563063785114602\n",
            "17 \t [ 1.99297221  7.00583441 14.          0.97061169 10.          0.80475669]\t 1.3973618892476494\t 1.3678797200853317\t -1.8616938479503244\n",
            "18 \t [ 9.74025765  5.57119892  5.          0.59315686 13.          0.33188709]\t 1.6205524124377573\t 1.3678797200853317\t -1.855106697667051\n",
            "19 \t [1.79439842 2.64418774 6.         0.91502841 9.         0.7614384 ]\t 1.4261737438745474\t 1.3678797200853317\t -1.860550495783073\n",
            "20 \t [ 1.55404201  5.65175286 15.          1.          1.99919798  0.1       ]\t 1.6573522737215824\t 1.3678797200853317\t -1.855776648854103\n",
            "21 \t [ 4.39240379  0.         11.95730885  1.          1.          0.1       ]\t 1.6570548664740887\t 1.3678797200853317\t -1.8632142188291716\n",
            "22 \t [ 0.          0.80915304 15.          0.5         8.14666756  0.1       ]\t 1.6514036186032741\t 1.3678797200853317\t -1.8698844058320798\n",
            "23 \t [ 8.39399938  9.46401714 11.          0.78013399 15.          0.26685275]\t 1.6119786204535724\t 1.3678797200853317\t -1.8760954006884052\n",
            "24 \t [ 2.19596997  0.          8.08147812  0.5        18.77912877  1.        ]\t 1.3940280187865852\t 1.3678797200853317\t -1.879370297605291\n",
            "25 \t [8.04601889 5.48860782 5.         0.5        4.81438632 0.1       ]\t 1.6555210626842978\t 1.3678797200853317\t -1.873697701208592\n",
            "26 \t [ 7.00097878  4.26209225 10.14996847  0.5         1.          1.        ]\t 1.38818238801286\t 1.3678797200853317\t -1.8790315921646277\n",
            "27 \t [10.        10.         7.9819172  1.         1.         1.       ]\t 1.3913628273467968\t 1.3678797200853317\t -1.8734847008661075\n",
            "28 \t [ 0.15371745  5.42218746 13.          0.78654699 19.          0.96284125]\t 1.3732467473597476\t 1.3678797200853317\t -1.8687477586953354\n",
            "29 \t [8.16673837 0.47010509 8.55684738 0.60288924 7.7750883  1.        ]\t 1.391548884586926\t 1.3678797200853317\t -1.8630746426504123\n",
            "30 \t [ 9.2414239   5.6159184  13.          0.56663121  6.          0.26319871]\t 1.6197927421811538\t 1.3678797200853317\t -1.8588767607154963\n"
          ]
        },
        {
          "output_type": "execute_result",
          "data": {
            "text/plain": [
              "48973.66312746987"
            ]
          },
          "metadata": {},
          "execution_count": 20
        }
      ]
    },
    {
      "cell_type": "code",
      "metadata": {
        "id": "ClJ9rN2KUJzy",
        "colab": {
          "base_uri": "https://localhost:8080/"
        },
        "outputId": "9bd5a716-3720-42b0-f49c-a34682b14fc2"
      },
      "source": [
        "### Bayesian optimization runs (x20): 'gp' Acquisition Function run number = 2\n",
        "\n",
        "np.random.seed(run_num_2)\n",
        "surrogate_gp_2 = GaussianProcess(cov_func, optimize=opt)\n",
        "\n",
        "X_train2, X_test2, y_train2, y_test2 = train_test_split(X, y, test_size=test_perc, random_state=run_num_2)\n",
        "\n",
        "def f_syn_polarity2(alpha, gamma, max_depth, subsample, min_child_weight, colsample):\n",
        "    reg = XGBRegressor(reg_alpha=alpha, gamma=gamma, max_depth=int(max_depth), subsample=subsample, min_child_weight=min_child_weight,\n",
        "          colsample_bytree=colsample, n_estimators = n_est, random_state=run_num_2, objective = 'reg:squarederror')\n",
        "    score = np.array(cross_val_score(reg, X=X_train2, y=y_train2).mean())\n",
        "    return operator * score\n",
        "\n",
        "gp_2 = GPGO_multi(surrogate_gp_2, Acquisition_new(util_gp), f_syn_polarity2, param, n_jobs = -1) # define BayesOpt\n",
        "gp_2.run(max_iter = max_iter, init_evals = n_init) # run\n",
        "\n",
        "### Return optimal parameters' set:\n",
        "params_gp_2 = gp_2.getResult()[0]\n",
        "params_gp_2['max_depth'] = int(params_gp_2['max_depth'])\n",
        "params_gp_2['min_child_weight'] = int(params_gp_2['min_child_weight'])\n",
        "\n",
        "### Re-train with optimal parameters, run predictons:\n",
        "dX_gp_train2 = xgb.DMatrix(X_train2, y_train2)\n",
        "dX_gp_test2 = xgb.DMatrix(X_test2, y_test2)\n",
        "model_gp_2 = xgb.train(params_gp_2, dX_gp_train2)\n",
        "pred_gp_2 = model_gp_2.predict(dX_gp_test2)\n",
        "\n",
        "rmse_gp_2 = np.sqrt(mean_squared_error(pred_gp_2, y_test2))\n",
        "rmse_gp_2"
      ],
      "execution_count": 21,
      "outputs": [
        {
          "output_type": "stream",
          "name": "stdout",
          "text": [
            "Evaluation \t Proposed point \t  Current eval. \t  Best eval. \t Min. ApproxAcqFunc \n",
            "init\t [ 4.35994902  0.25926232 11.          0.97386531 12.          0.47833102]\t 1.4860127799448324\t 1.4169097144768446\t    \n",
            "init\t [ 3.30334821  2.04648634 10.          0.55997527  6.          0.71472339]\t 1.4169097144768446\t 1.4169097144768446\t    \n",
            "init\t [ 4.9856117   5.86796978  8.          0.89266757 11.          0.59158659]\t 1.4327785108491773\t 1.4169097144768446\t    \n",
            "init\t [ 4.07307832  1.76984624 13.          0.75262305  7.          0.35908193]\t 1.5060418558860291\t 1.4169097144768446\t    \n",
            "init\t [ 1.16193318  1.81727038  9.          0.79837265 19.          0.29965165]\t 1.5035568847025498\t 1.4169097144768446\t    \n",
            "\u001b[1m\u001b[92m1\u001b[0m\t \u001b[1m\u001b[92m[9.68290573 5.74953535 8.         0.93445831 2.         0.81872709]\u001b[0m\t \u001b[1m\u001b[92m1.410960072516526\u001b[0m\t \u001b[1m\u001b[92m1.410960072516526\u001b[0m\t \u001b[1m\u001b[92m-1.796869796467267\u001b[0m\n",
            "\u001b[1m\u001b[92m2\u001b[0m\t \u001b[1m\u001b[92m[ 0.52749831  8.95853851 14.          0.92466865  2.          0.90882939]\u001b[0m\t \u001b[1m\u001b[92m1.3954650260681372\u001b[0m\t \u001b[1m\u001b[92m1.3954650260681372\u001b[0m\t \u001b[1m\u001b[92m-1.7855556569386057\u001b[0m\n",
            "3  \t [ 8.73561338  9.07435141  6.          0.57059103 19.          0.33630119]\t 1.506239790759622\t 1.3954650260681372\t -1.7745318191479087\n",
            "4  \t [ 1.06708628  4.39207192 10.          0.63895376 14.          0.53709562]\t 1.434350339691846\t 1.3954650260681372\t -1.785591043205236\n",
            "5  \t [ 9.5379981   6.75156043 13.          0.51721368 16.          0.92963453]\t 1.4049053936038498\t 1.3954650260681372\t -1.7807341056814567\n",
            "6  \t [0.53023554 8.79041977 6.         0.85342606 1.         0.93968064]\t 1.4201040141226167\t 1.3954650260681372\t -1.774029233345792\n",
            "7  \t [ 9.17505142  0.51967844  7.          0.77865867 17.          0.53538646]\t 1.4427126433984239\t 1.3954650260681372\t -1.7698438092933322\n",
            "8  \t [ 0.07228431  8.49050584 13.          0.76584781 19.          0.11586428]\t 1.507685721709808\t 1.3954650260681372\t -1.7712131177202857\n",
            "9  \t [ 8.57602235  9.83360074 12.          0.99133635  7.          0.25584574]\t 1.500520260093468\t 1.3954650260681372\t -1.7766839683629427\n",
            "10 \t [3.02412982 1.15832654 5.         0.9752514  1.         0.26218357]\t 1.5050745688542906\t 1.3954650260681372\t -1.781532284191214\n",
            "11 \t [ 8.18934328  9.93283352  5.          0.65884828 13.          0.30520311]\t 1.5077350797040867\t 1.3954650260681372\t -1.7847997124377577\n",
            "12 \t [8.76774335 2.47727368 5.         0.77895852 8.         0.95970784]\t 1.4387499066429337\t 1.3954650260681372\t -1.789591163000633\n",
            "13 \t [ 9.70148981  3.84860271 14.          0.8648022   1.          0.77351018]\t 1.4127484105542536\t 1.3954650260681372\t -1.786693945911138\n",
            "14 \t [ 1.59799997  7.22272921  5.          0.61921973 17.          0.71794011]\t 1.4422482358886675\t 1.3954650260681372\t -1.785654712844787\n",
            "15 \t [9.03900326 0.25499265 5.         0.5        1.         0.1       ]\t 1.5114952964102912\t 1.3954650260681372\t -1.7833420216496862\n",
            "16 \t [ 0.92680624  0.80829442  5.          0.99163751 10.          0.48273491]\t 1.5007102989702947\t 1.3954650260681372\t -1.7865143735152662\n",
            "17 \t [1.9743741  7.48386183 5.         0.9044393  7.         0.91985102]\t 1.4363347359598728\t 1.3954650260681372\t -1.7897364176592654\n",
            "18 \t [ 4.59323851  0.19340202 13.          0.579303    1.          0.64431952]\t 1.4228076544126504\t 1.3954650260681372\t -1.7881575682640294\n",
            "19 \t [ 8.21799102  0.75840382 13.          0.74503318 19.          0.27131427]\t 1.5048968651383365\t 1.3954650260681372\t -1.78638898902488\n",
            "\u001b[1m\u001b[92m20\u001b[0m\t \u001b[1m\u001b[92m[ 0.03855324  8.9930469  12.          0.98249334  8.          0.88557845]\u001b[0m\t \u001b[1m\u001b[92m1.390252227653465\u001b[0m\t \u001b[1m\u001b[92m1.390252227653465\u001b[0m\t \u001b[1m\u001b[92m-1.7884673410612157\u001b[0m\n",
            "21 \t [10.          0.         10.56183921  1.          6.80260232  0.1       ]\t 1.5644872319161656\t 1.390252227653465\t -1.785422975922347\n",
            "22 \t [ 5.31332595  7.12575058 14.          0.83432475 11.          0.10517015]\t 1.5075873013492262\t 1.390252227653465\t -1.7912095435951854\n",
            "23 \t [ 1.81200129  2.58698083 14.          0.55654208 19.          0.78163267]\t 1.412956102628303\t 1.390252227653465\t -1.7932739800825988\n",
            "24 \t [ 4.20658566  9.25839609 10.          0.87829736  4.          0.75033414]\t 1.4080691089172066\t 1.390252227653465\t -1.7898231464896956\n",
            "25 \t [10.         10.         14.93607698  0.5         1.70625388  1.        ]\t 1.3976636631739776\t 1.390252227653465\t -1.7878779018959225\n",
            "26 \t [ 4.38308132  8.66583123 12.          0.71103415 17.          0.98610572]\t 1.3962715328874336\t 1.390252227653465\t -1.7863030316843211\n",
            "27 \t [10.          3.90764126 11.7454668   1.         10.74101809  0.1       ]\t 1.5642270212255802\t 1.390252227653465\t -1.7832720742622814\n",
            "28 \t [ 9.11320516 10.         15.          1.         19.89410957  0.1       ]\t 1.5636769584562544\t 1.390252227653465\t -1.78749786423381\n",
            "29 \t [ 5.94414145  3.97341644  9.68836343  0.5        16.76949036  1.        ]\t 1.3980074373458709\t 1.390252227653465\t -1.7916923067991002\n",
            "30 \t [9.26329627 8.332818   5.58916111 0.5        7.67273636 1.        ]\t 1.435073541467794\t 1.390252227653465\t -1.789404652011639\n"
          ]
        },
        {
          "output_type": "execute_result",
          "data": {
            "text/plain": [
              "48495.7639648715"
            ]
          },
          "metadata": {},
          "execution_count": 21
        }
      ]
    },
    {
      "cell_type": "code",
      "metadata": {
        "id": "-45l3NU4UNiI",
        "colab": {
          "base_uri": "https://localhost:8080/"
        },
        "outputId": "4d94bc99-04c5-4d68-f6e6-b472a9b94325"
      },
      "source": [
        "### Bayesian optimization runs (x20): 'gp' Acquisition Function run number = 3\n",
        "\n",
        "np.random.seed(run_num_3)\n",
        "surrogate_gp_3 = GaussianProcess(cov_func, optimize=opt)\n",
        "\n",
        "X_train3, X_test3, y_train3, y_test3 = train_test_split(X, y, test_size=test_perc, random_state=run_num_3)\n",
        "\n",
        "def f_syn_polarity3(alpha, gamma, max_depth, subsample, min_child_weight, colsample):\n",
        "    reg = XGBRegressor(reg_alpha=alpha, gamma=gamma, max_depth=int(max_depth), subsample=subsample, min_child_weight=min_child_weight,\n",
        "          colsample_bytree=colsample, n_estimators = n_est, random_state=run_num_3, objective = 'reg:squarederror')\n",
        "    score = np.array(cross_val_score(reg, X=X_train3, y=y_train3).mean())\n",
        "    return operator * score\n",
        "\n",
        "gp_3 = GPGO_multi(surrogate_gp_3, Acquisition_new(util_gp), f_syn_polarity3, param, n_jobs = -1) # define BayesOpt\n",
        "gp_3.run(max_iter = max_iter, init_evals = n_init) # run\n",
        "\n",
        "### Return optimal parameters' set:\n",
        "params_gp_3 = gp_3.getResult()[0]\n",
        "params_gp_3['max_depth'] = int(params_gp_3['max_depth'])\n",
        "params_gp_3['min_child_weight'] = int(params_gp_3['min_child_weight'])\n",
        "\n",
        "### Re-train with optimal parameters, run predictons:\n",
        "dX_gp_train3 = xgb.DMatrix(X_train3, y_train3)\n",
        "dX_gp_test3 = xgb.DMatrix(X_test3, y_test3)\n",
        "model_gp_3 = xgb.train(params_gp_3, dX_gp_train3)\n",
        "pred_gp_3 = model_gp_3.predict(dX_gp_test3)\n",
        "\n",
        "rmse_gp_3 = np.sqrt(mean_squared_error(pred_gp_3, y_test3))\n",
        "rmse_gp_3"
      ],
      "execution_count": 22,
      "outputs": [
        {
          "output_type": "stream",
          "name": "stdout",
          "text": [
            "Evaluation \t Proposed point \t  Current eval. \t  Best eval. \t Min. ApproxAcqFunc \n",
            "init\t [ 5.50797903  7.08147823 13.          0.56066429 11.          0.11687321]\t 1.658976916292621\t 1.5210450722954243\t    \n",
            "init\t [ 0.40630737  2.47888297 11.          0.72040492 13.          0.23083313]\t 1.6618243503452674\t 1.5210450722954243\t    \n",
            "init\t [ 4.53172301  2.15577008 11.          0.74631796  2.          0.60296868]\t 1.5210450722954243\t 1.5210450722954243\t    \n",
            "init\t [ 2.59252447  4.15101197 13.          0.79330998  8.          0.24118096]\t 1.6631154838515818\t 1.5210450722954243\t    \n",
            "init\t [ 5.44649018  7.80314765 10.          0.62879264 18.          0.44917413]\t 1.5829020757643195\t 1.5210450722954243\t    \n",
            "1  \t [ 4.57686399  8.60533913  5.          0.93553602 12.          0.35017976]\t 1.6535359388336275\t 1.5210450722954243\t -1.982351216375306\n",
            "\u001b[1m\u001b[92m2\u001b[0m\t \u001b[1m\u001b[92m[5.34640509 2.09651068 5.         0.7562118  7.         0.70602368]\u001b[0m\t \u001b[1m\u001b[92m1.4915870485235758\u001b[0m\t \u001b[1m\u001b[92m1.4915870485235758\u001b[0m\t \u001b[1m\u001b[92m-1.9895463365186339\u001b[0m\n",
            "3  \t [ 9.85104782  7.8871977   9.          0.87115246 15.          0.12942222]\t 1.6617579051698812\t 1.4915870485235758\t -1.9671222756875901\n",
            "4  \t [ 9.42435343  1.01733399  6.          0.80913221 15.          0.22574188]\t 1.6658137223292742\t 1.4915870485235758\t -1.975764311259884\n",
            "5  \t [ 9.69358275  8.62650445 10.          0.99467439  3.          0.15497837]\t 1.6628630857284423\t 1.4915870485235758\t -1.983026494372215\n",
            "6  \t [8.72963844 7.68380499 5.         0.79423268 4.         0.54068507]\t 1.5406433854110304\t 1.4915870485235758\t -1.9884469065322437\n",
            "7  \t [0.69665384 9.31027254 8.         0.91600478 2.         0.44050827]\t 1.5815121008045305\t 1.4915870485235758\t -1.9794281519578811\n",
            "8  \t [ 7.24792408  0.65921928 12.          0.54318764 19.          0.40432514]\t 1.5862544788114725\t 1.4915870485235758\t -1.9759255418617845\n",
            "9  \t [ 8.72838534  1.08710684 13.          0.91885504  9.          0.40011892]\t 1.5836678874785493\t 1.4915870485235758\t -1.973393181422422\n",
            "10 \t [ 0.36474058  4.01626592  6.          0.61632026 16.          0.55807286]\t 1.528911914983182\t 1.4915870485235758\t -1.970998071313813\n",
            "11 \t [1.35967431 9.79216747 5.         0.6463393  7.         0.29631799]\t 1.6523738237965098\t 1.4915870485235758\t -1.964587039790925\n",
            "12 \t [ 3.09846072  8.38782682 13.          0.97033139  2.          0.55653135]\t 1.5195767102349127\t 1.4915870485235758\t -1.968336413786818\n",
            "13 \t [0.28002919 1.86471402 5.         0.90893429 3.         0.44808833]\t 1.5972277209590486\t 1.4915870485235758\t -1.9621898829980473\n",
            "\u001b[1m\u001b[92m14\u001b[0m\t \u001b[1m\u001b[92m[ 0.26918834  0.54620891 14.          0.52178873 19.          0.75307438]\u001b[0m\t \u001b[1m\u001b[92m1.4344837677061553\u001b[0m\t \u001b[1m\u001b[92m1.4344837677061553\u001b[0m\t \u001b[1m\u001b[92m-1.9618575635106403\u001b[0m\n",
            "15 \t [ 9.37649128  3.05276971 14.          0.54880543  1.          0.79355672]\t 1.444942182541684\t 1.4344837677061553\t -1.9516056702789386\n",
            "16 \t [9.08126432 3.56543214 8.         0.91637613 1.         0.41674238]\t 1.5829616159456612\t 1.4344837677061553\t -1.942914622869277\n",
            "17 \t [ 0.4409565   7.68433802 14.          0.66603721 18.          0.54123364]\t 1.5141966201022472\t 1.4344837677061553\t -1.9427151446389532\n",
            "18 \t [ 4.42172819  0.44807608  6.          0.75785536 12.          0.66576482]\t 1.4829089047189499\t 1.4344837677061553\t -1.9387926225775187\n",
            "19 \t [ 1.0843398   7.91743257 10.          0.82705367 12.          0.63713778]\t 1.4660012155370807\t 1.4344837677061553\t -1.9336233686951816\n",
            "20 \t [ 0.31114569  9.31287977  6.          0.53685947 18.          0.23571835]\t 1.6615270286519117\t 1.4344837677061553\t -1.9280650879019807\n",
            "21 \t [0.22073458 2.31623064 8.         0.71693884 8.         0.52238343]\t 1.5196662133319268\t 1.4344837677061553\t -1.9324538502732218\n",
            "\u001b[1m\u001b[92m22\u001b[0m\t \u001b[1m\u001b[92m[ 8.76398924  9.97982024 10.          0.54995079  8.          0.93627878]\u001b[0m\t \u001b[1m\u001b[92m1.4086443059972078\u001b[0m\t \u001b[1m\u001b[92m1.4086443059972078\u001b[0m\t \u001b[1m\u001b[92m-1.9297620747149264\u001b[0m\n",
            "23 \t [ 4.82077416  0.76415323  5.          0.8629754  19.          0.7645412 ]\t 1.4478736707151068\t 1.4086443059972078\t -1.9225748096917803\n",
            "24 \t [ 6.68500021  2.5441761  14.          0.5832919  14.          0.48615454]\t 1.5869559775733144\t 1.4086443059972078\t -1.9174429547598508\n",
            "\u001b[1m\u001b[92m25\u001b[0m\t \u001b[1m\u001b[92m[ 7.41867878  4.36581543 14.          0.99315379  6.          0.89117614]\u001b[0m\t \u001b[1m\u001b[92m1.4022460389147422\u001b[0m\t \u001b[1m\u001b[92m1.4022460389147422\u001b[0m\t \u001b[1m\u001b[92m-1.918351527192197\u001b[0m\n",
            "26 \t [ 7.3119424   8.32659537  5.          0.53292591 18.          0.53447904]\t 1.537830652739697\t 1.4022460389147422\t -1.911993401240923\n",
            "27 \t [ 0.56578928  9.17406446 12.          0.69332985  7.          0.48947559]\t 1.5872995659158806\t 1.4022460389147422\t -1.9110793234569166\n",
            "\u001b[1m\u001b[92m28\u001b[0m\t \u001b[1m\u001b[92m[ 0.          4.38304025 12.24650243  0.5         1.          1.        ]\u001b[0m\t \u001b[1m\u001b[92m1.3957498291189072\u001b[0m\t \u001b[1m\u001b[92m1.3957498291189072\u001b[0m\t \u001b[1m\u001b[92m-1.912117565726794\u001b[0m\n",
            "29 \t [7.57350876 0.0237718  9.         0.84854214 5.         0.68262758]\t 1.471101724165631\t 1.3957498291189072\t -1.9062916396975051\n",
            "30 \t [ 9.11807081  6.2163963   6.          0.83621964 10.          0.57288903]\t 1.5296066408863562\t 1.3957498291189072\t -1.9032699563328603\n"
          ]
        },
        {
          "output_type": "execute_result",
          "data": {
            "text/plain": [
              "50995.728046127566"
            ]
          },
          "metadata": {},
          "execution_count": 22
        }
      ]
    },
    {
      "cell_type": "code",
      "metadata": {
        "id": "voPfk1UDUQU0",
        "colab": {
          "base_uri": "https://localhost:8080/"
        },
        "outputId": "b63059ef-16dc-48a5-fd97-f71683cbb133"
      },
      "source": [
        "### Bayesian optimization runs (x20): 'gp' Acquisition Function run number = 4\n",
        "\n",
        "np.random.seed(run_num_4)\n",
        "surrogate_gp_4 = GaussianProcess(cov_func, optimize=opt)\n",
        "\n",
        "X_train4, X_test4, y_train4, y_test4 = train_test_split(X, y, test_size=test_perc, random_state=run_num_4)\n",
        "\n",
        "def f_syn_polarity4(alpha, gamma, max_depth, subsample, min_child_weight, colsample):\n",
        "    reg = XGBRegressor(reg_alpha=alpha, gamma=gamma, max_depth=int(max_depth), subsample=subsample, min_child_weight=min_child_weight,\n",
        "          colsample_bytree=colsample, n_estimators = n_est, random_state=run_num_4, objective = 'reg:squarederror')\n",
        "    score = np.array(cross_val_score(reg, X=X_train4, y=y_train4).mean())\n",
        "    return operator * score\n",
        "\n",
        "gp_4 = GPGO_multi(surrogate_gp_4, Acquisition_new(util_gp), f_syn_polarity4, param, n_jobs = -1) # define BayesOpt\n",
        "gp_4.run(max_iter = max_iter, init_evals = n_init) # run\n",
        "\n",
        "### Return optimal parameters' set:\n",
        "params_gp_4 = gp_4.getResult()[0]\n",
        "params_gp_4['max_depth'] = int(params_gp_4['max_depth'])\n",
        "params_gp_4['min_child_weight'] = int(params_gp_4['min_child_weight'])\n",
        "\n",
        "### Re-train with optimal parameters, run predictons:\n",
        "dX_gp_train4 = xgb.DMatrix(X_train4, y_train4)\n",
        "dX_gp_test4 = xgb.DMatrix(X_test4, y_test4)\n",
        "model_gp_4 = xgb.train(params_gp_4, dX_gp_train4)\n",
        "pred_gp_4 = model_gp_4.predict(dX_gp_test4)\n",
        "\n",
        "rmse_gp_4 = np.sqrt(mean_squared_error(pred_gp_4, y_test4))\n",
        "rmse_gp_4"
      ],
      "execution_count": 23,
      "outputs": [
        {
          "output_type": "stream",
          "name": "stdout",
          "text": [
            "Evaluation \t Proposed point \t  Current eval. \t  Best eval. \t Min. ApproxAcqFunc \n",
            "init\t [9.67029839 5.47232249 6.         0.92781047 9.         0.72795594]\t 1.4430569076610322\t 1.38492629511548\t    \n",
            "init\t [ 2.16089496  9.76274455 12.          0.62649118  9.          0.66966679]\t 1.4187070295885058\t 1.38492629511548\t    \n",
            "init\t [ 0.05159149  5.72356491  9.          0.99170034 10.          0.10808749]\t 1.6911169704550582\t 1.38492629511548\t    \n",
            "init\t [ 3.86571283  0.44160058 10.          0.90553105 18.          0.95407958]\t 1.38492629511548\t 1.38492629511548\t    \n",
            "init\t [ 7.86305986  8.66289299  6.          0.53285477 14.          0.25117497]\t 1.557078690359533\t 1.38492629511548\t    \n",
            "1  \t [ 8.45443649  8.61014312 11.          0.83475494  1.          0.14018305]\t 1.6919233052610914\t 1.38492629511548\t -1.8409922629819555\n",
            "2  \t [ 1.19144901  0.20061578 14.          0.54901792  2.          0.56584011]\t 1.450254928952909\t 1.38492629511548\t -1.8815004087658425\n",
            "3  \t [ 5.20011211  1.13096048 14.          0.976894    9.          0.7504566 ]\t 1.4089435632478065\t 1.38492629511548\t -1.8668182575013548\n",
            "4  \t [4.02841372 0.68351319 7.         0.84100098 4.         0.70236376]\t 1.427550921274713\t 1.38492629511548\t -1.8497552799280204\n",
            "5  \t [ 4.9988001   9.59454969 13.          0.65194162 18.          0.46186646]\t 1.504391527341918\t 1.38492629511548\t -1.838768134603058\n",
            "6  \t [3.67179272 8.2734897  5.         0.93928045 2.         0.27663877]\t 1.5564616239948126\t 1.38492629511548\t -1.8391400165144738\n",
            "7  \t [ 8.93487412  1.33822881  5.          0.61982272 18.          0.72796667]\t 1.4668570901629248\t 1.38492629511548\t -1.845345875789907\n",
            "8  \t [ 0.19957456  0.70863234  6.          0.50332519 13.          0.6466269 ]\t 1.4521785435504284\t 1.38492629511548\t -1.8413261475544813\n",
            "9  \t [ 0.05992751  6.06320143 14.          0.89322475 17.          0.32211096]\t 1.5529177303970187\t 1.38492629511548\t -1.8365736712137546\n",
            "10 \t [ 0.79250634  6.36332745  6.          0.84703891 17.          0.8628914 ]\t 1.4448878111930763\t 1.38492629511548\t -1.8413181898413504\n",
            "11 \t [ 9.71182858  1.41065857 11.          0.59424907  1.          0.28499379]\t 1.5633088792673295\t 1.38492629511548\t -1.8366253362925646\n",
            "12 \t [ 3.45939085  6.40379486 14.          0.73582567  4.          0.44043181]\t 1.5126000504585635\t 1.38492629511548\t -1.8415986394030421\n",
            "13 \t [ 9.44769028  3.95711246 12.          0.78662635 13.          0.2534144 ]\t 1.5566805267907038\t 1.38492629511548\t -1.8422449494680697\n",
            "14 \t [ 9.46353767  7.38428798 12.          0.76169316  7.          0.45685146]\t 1.506050620644062\t 1.38492629511548\t -1.8458756945807273\n",
            "15 \t [9.90751316 8.14292801 5.         0.51996526 3.         0.39901181]\t 1.5359221990553198\t 1.38492629511548\t -1.8458052213942526\n",
            "16 \t [ 9.76299514  5.62576018 14.          0.71870532 19.          0.52651352]\t 1.4363189175033282\t 1.38492629511548\t -1.8475849225785512\n",
            "17 \t [ 4.98593661  0.87968769  8.          0.74037166 11.          0.34393006]\t 1.5569420741142548\t 1.38492629511548\t -1.8434696798156789\n",
            "18 \t [ 1.60432282  0.63503806 12.          0.80556472 13.          0.38732397]\t 1.5027539035223625\t 1.38492629511548\t -1.8463991397429564\n",
            "19 \t [ 9.95636142  9.85773531 14.          0.50868876 14.          0.94538099]\t 1.3939075354767918\t 1.38492629511548\t -1.846141706435517\n",
            "20 \t [ 2.51957134  9.08401221  5.          0.57328103 13.          0.10665833]\t 1.6904445213381756\t 1.38492629511548\t -1.8405614077110388\n",
            "21 \t [ 3.56657316  9.64860076 10.          0.60502024  1.          0.68038733]\t 1.4236816324242518\t 1.38492629511548\t -1.8503023286651514\n",
            "22 \t [ 9.29091353  0.24848851 14.          0.65742606 17.          0.33836791]\t 1.5593858693380156\t 1.38492629511548\t -1.8463135768536587\n",
            "23 \t [9.7771859  0.85753746 5.         0.86175163 1.         0.83898829]\t 1.462057706058727\t 1.38492629511548\t -1.8487053569470635\n",
            "24 \t [ 0.03007727  4.16443439 10.          0.85375304  4.          0.11010007]\t 1.6922465620177582\t 1.38492629511548\t -1.846663413542587\n",
            "25 \t [5.83558698 8.82341108 6.         0.83145678 5.         0.52856831]\t 1.4637815796756217\t 1.38492629511548\t -1.8549113139561975\n",
            "26 \t [ 6.99582209  6.56113271  5.          0.77721834 19.          0.27592834]\t 1.5599615486404996\t 1.38492629511548\t -1.85285239203333\n",
            "27 \t [ 3.29863169  7.4481826  10.          0.85017567 14.          0.4428993 ]\t 1.504970333153833\t 1.38492629511548\t -1.8547473075603966\n",
            "28 \t [ 5.02454578  3.81193125 13.70668704  0.5        15.60229768  0.1       ]\t 1.6932752726530915\t 1.38492629511548\t -1.854372885158986\n",
            "29 \t [ 4.72285155  4.89704218 10.          0.62851171  1.          0.12833699]\t 1.6927309575173646\t 1.38492629511548\t -1.861431517762811\n",
            "30 \t [ 4.1592776   4.94090794  5.          1.         10.40164092  1.        ]\t 1.4185353594663788\t 1.38492629511548\t -1.867998577018114\n"
          ]
        },
        {
          "output_type": "execute_result",
          "data": {
            "text/plain": [
              "50692.52474167973"
            ]
          },
          "metadata": {},
          "execution_count": 23
        }
      ]
    },
    {
      "cell_type": "code",
      "metadata": {
        "id": "8kEnTd7MUdlv",
        "colab": {
          "base_uri": "https://localhost:8080/"
        },
        "outputId": "9b6f3d5e-2f73-41f4-f383-f49ccc356426"
      },
      "source": [
        "### Bayesian optimization runs (x20): 'gp' Acquisition Function run number = 5\n",
        "\n",
        "np.random.seed(run_num_5)\n",
        "surrogate_gp_5 = GaussianProcess(cov_func, optimize=opt)\n",
        "\n",
        "X_train5, X_test5, y_train5, y_test5 = train_test_split(X, y, test_size=test_perc, random_state=run_num_5)\n",
        "\n",
        "def f_syn_polarity5(alpha, gamma, max_depth, subsample, min_child_weight, colsample):\n",
        "    reg = XGBRegressor(reg_alpha=alpha, gamma=gamma, max_depth=int(max_depth), subsample=subsample, min_child_weight=min_child_weight,\n",
        "          colsample_bytree=colsample, n_estimators = n_est, random_state=run_num_5, objective = 'reg:squarederror')\n",
        "    score = np.array(cross_val_score(reg, X=X_train5, y=y_train5).mean())\n",
        "    return operator * score\n",
        "\n",
        "gp_5 = GPGO_multi(surrogate_gp_5, Acquisition_new(util_gp), f_syn_polarity5, param, n_jobs = -1) # define BayesOpt\n",
        "gp_5.run(max_iter = max_iter, init_evals = n_init) # run\n",
        "\n",
        "### Return optimal parameters' set:\n",
        "params_gp_5 = gp_5.getResult()[0]\n",
        "params_gp_5['max_depth'] = int(params_gp_5['max_depth'])\n",
        "params_gp_5['min_child_weight'] = int(params_gp_5['min_child_weight'])\n",
        "\n",
        "### Re-train with optimal parameters, run predictons:\n",
        "dX_gp_train5 = xgb.DMatrix(X_train5, y_train5)\n",
        "dX_gp_test5 = xgb.DMatrix(X_test5, y_test5)\n",
        "model_gp_5 = xgb.train(params_gp_5, dX_gp_train5)\n",
        "pred_gp_5 = model_gp_5.predict(dX_gp_test5)\n",
        "\n",
        "rmse_gp_5 = np.sqrt(mean_squared_error(pred_gp_5, y_test5))\n",
        "rmse_gp_5"
      ],
      "execution_count": 24,
      "outputs": [
        {
          "output_type": "stream",
          "name": "stdout",
          "text": [
            "Evaluation \t Proposed point \t  Current eval. \t  Best eval. \t Min. ApproxAcqFunc \n",
            "init\t [ 2.21993171  8.70732306 11.          0.68186845 10.          0.53957007]\t 1.437240644949997\t 1.4314427524402045\t    \n",
            "init\t [ 6.11743863  7.65907856  5.          0.64840025 16.          0.82745351]\t 1.4314427524402045\t 1.4314427524402045\t    \n",
            "init\t [ 6.49458883  8.19472793  6.          0.93996852 19.          0.36647194]\t 1.5681212058087062\t 1.4314427524402045\t    \n",
            "init\t [ 6.28787909  5.7983781   6.          0.63290956 17.          0.18402673]\t 1.571097153432666\t 1.4314427524402045\t    \n",
            "init\t [8.26554249 8.33492742 9.         0.97900675 3.         0.26957319]\t 1.5587909137089784\t 1.4314427524402045\t    \n",
            "1  \t [1.95474956 1.21548467 5.         0.65548996 6.         0.3261206 ]\t 1.5743532080703466\t 1.4314427524402045\t -1.8139993522702675\n",
            "\u001b[1m\u001b[92m2\u001b[0m\t \u001b[1m\u001b[92m[ 4.2465708   0.13140082 14.          0.86560758 16.          0.97763503]\u001b[0m\t \u001b[1m\u001b[92m1.3918597599995404\u001b[0m\t \u001b[1m\u001b[92m1.3918597599995404\u001b[0m\t \u001b[1m\u001b[92m-1.8342254220651173\u001b[0m\n",
            "3  \t [ 7.2080363   0.14020863 14.          0.70262402  1.          0.81354205]\t 1.3997016925775998\t 1.3918597599995404\t -1.7320510366438753\n",
            "4  \t [ 0.04070034  5.56034711 10.          0.56681631  1.          0.49171878]\t 1.4941186976733285\t 1.3918597599995404\t -1.803015622457919\n",
            "\u001b[1m\u001b[92m5\u001b[0m\t \u001b[1m\u001b[92m[ 1.70155417  0.74723101 13.          0.73324291  8.          0.73387553]\u001b[0m\t \u001b[1m\u001b[92m1.3917587347617182\u001b[0m\t \u001b[1m\u001b[92m1.3917587347617182\u001b[0m\t \u001b[1m\u001b[92m-1.8060993808245451\u001b[0m\n",
            "6  \t [ 9.64635884  9.52633265 14.          0.67611826 10.          0.87506739]\t 1.3950222527784084\t 1.3917587347617182\t -1.795979416525592\n",
            "7  \t [ 8.42971229  6.5300671  14.          0.89739228 17.          0.56291282]\t 1.4307838425295372\t 1.3917587347617182\t -1.7880436843459555\n",
            "8  \t [ 9.89236087  2.32595295 11.          0.85038194  9.          0.88011109]\t 1.3918225646776825\t 1.3917587347617182\t -1.7850416006635643\n",
            "9  \t [ 0.63603768  7.05806818 11.          0.8561035  19.          0.31669289]\t 1.5594967825311663\t 1.3917587347617182\t -1.7788746097798909\n",
            "10 \t [ 0.33154545  2.45627958  8.          0.87454095 14.          0.94998466]\t 1.399128412995562\t 1.3917587347617182\t -1.78871973830542\n",
            "11 \t [6.23716014 2.17771909 7.         0.97039042 2.         0.6510023 ]\t 1.4035315280133829\t 1.3917587347617182\t -1.7837331122973017\n",
            "12 \t [8.3612328  9.24550833 6.         0.53087691 9.         0.45372486]\t 1.5008093073290865\t 1.3917587347617182\t -1.779696835118005\n",
            "13 \t [ 5.87689256  1.65841266  7.          0.87473045 12.          0.46635581]\t 1.488222561930361\t 1.3917587347617182\t -1.7832331939307666\n",
            "14 \t [ 9.48819492  1.09046481 11.          0.73457166 18.          0.44334975]\t 1.4807540213738986\t 1.3917587347617182\t -1.7320510350165286\n",
            "15 \t [2.20807099 8.12745091 5.         0.58510738 5.         0.84622149]\t 1.4319103077077435\t 1.3917587347617182\t -1.7859258812018028\n",
            "16 \t [ 4.2575311  10.         14.          0.5        14.84742112  0.1       ]\t 1.5623222223495472\t 1.3917587347617182\t -1.7853157011253775\n",
            "17 \t [ 4.90201764  5.5055993  12.          0.62291616  4.          0.3890695 ]\t 1.4894746444565308\t 1.3917587347617182\t -1.7847992496017009\n",
            "18 \t [ 4.5616858   0.          8.05431893  0.5        17.55232963  0.1       ]\t 1.561401279008392\t 1.3917587347617182\t -1.7932000665588579\n",
            "19 \t [ 1.51241101 10.         12.23784737  0.58670979  4.07989408  0.1       ]\t 1.5622197499189103\t 1.3917587347617182\t -1.7985952115341872\n",
            "20 \t [7.76442734 1.29535915 6.         0.62566757 7.         0.99920868]\t 1.4192026696755498\t 1.3917587347617182\t -1.803565435356637\n",
            "21 \t [ 0.26037909  7.96430976  5.          0.57300432 18.          0.65170572]\t 1.4322391576263276\t 1.3917587347617182\t -1.8009726949570906\n",
            "22 \t [ 1.36206054  2.75538777  5.          0.85383825 19.          0.46696418]\t 1.507025070272097\t 1.3917587347617182\t -1.799176498664299\n",
            "23 \t [ 1.43912732 10.          6.28241029  0.5        12.90370103  1.        ]\t 1.4055787748815844\t 1.3917587347617182\t -1.8009385094712609\n",
            "24 \t [0.         6.11247226 5.         1.         9.87328915 0.1       ]\t 1.601394807140549\t 1.3917587347617182\t -1.7943413785494424\n",
            "25 \t [ 7.75825563  1.16484788  5.          0.5        20.          1.        ]\t 1.4204419738983014\t 1.3917587347617182\t -1.8040538653095117\n",
            "\u001b[1m\u001b[92m26\u001b[0m\t \u001b[1m\u001b[92m[ 0.          1.37833352 14.06385851  1.          3.00061056  1.        ]\u001b[0m\t \u001b[1m\u001b[92m1.3669022870486245\u001b[0m\t \u001b[1m\u001b[92m1.3669022870486245\u001b[0m\t \u001b[1m\u001b[92m-1.8019303406315617\u001b[0m\n",
            "27 \t [ 1.55477637  3.59137412 14.00063724  0.5        13.39847697  0.13926673]\t 1.562262897458098\t 1.3669022870486245\t -1.796312703077466\n",
            "28 \t [0.         0.         5.         0.96700287 1.         0.1       ]\t 1.5784662430242402\t 1.3669022870486245\t -1.8016660570290117\n",
            "29 \t [ 9.76939733  4.40515107 13.51908191  0.90705054  2.97585444  1.        ]\t 1.3698860361678808\t 1.3669022870486245\t -1.8058195389841583\n",
            "30 \t [ 6.229816    5.46350216 15.          0.5         8.47888954  1.        ]\t 1.38167051653358\t 1.3669022870486245\t -1.8021602246871669\n"
          ]
        },
        {
          "output_type": "execute_result",
          "data": {
            "text/plain": [
              "51523.63806325571"
            ]
          },
          "metadata": {},
          "execution_count": 24
        }
      ]
    },
    {
      "cell_type": "code",
      "metadata": {
        "id": "OjVSH6caUgyy",
        "colab": {
          "base_uri": "https://localhost:8080/"
        },
        "outputId": "1eda92cf-92b4-4102-dd18-1aaf205f664d"
      },
      "source": [
        "### Bayesian optimization runs (x20): 'gp' Acquisition Function run number = 6\n",
        "\n",
        "np.random.seed(run_num_6)\n",
        "surrogate_gp_6 = GaussianProcess(cov_func, optimize=opt)\n",
        "\n",
        "X_train6, X_test6, y_train6, y_test6 = train_test_split(X, y, test_size=test_perc, random_state=run_num_6)\n",
        "\n",
        "def f_syn_polarity6(alpha, gamma, max_depth, subsample, min_child_weight, colsample):\n",
        "    reg = XGBRegressor(reg_alpha=alpha, gamma=gamma, max_depth=int(max_depth), subsample=subsample, min_child_weight=min_child_weight,\n",
        "          colsample_bytree=colsample, n_estimators = n_est, random_state=run_num_6, objective = 'reg:squarederror')\n",
        "    score = np.array(cross_val_score(reg, X=X_train6, y=y_train6).mean())\n",
        "    return operator * score\n",
        "\n",
        "gp_6 = GPGO_multi(surrogate_gp_6, Acquisition_new(util_gp), f_syn_polarity6, param, n_jobs = -1) # define BayesOpt\n",
        "gp_6.run(max_iter = max_iter, init_evals = n_init) # run\n",
        "\n",
        "### Return optimal parameters' set:\n",
        "params_gp_6 = gp_6.getResult()[0]\n",
        "params_gp_6['max_depth'] = int(params_gp_6['max_depth'])\n",
        "params_gp_6['min_child_weight'] = int(params_gp_6['min_child_weight'])\n",
        "\n",
        "### Re-train with optimal parameters, run predictons:\n",
        "dX_gp_train6 = xgb.DMatrix(X_train6, y_train6)\n",
        "dX_gp_test6 = xgb.DMatrix(X_test6, y_test6)\n",
        "model_gp_6 = xgb.train(params_gp_6, dX_gp_train6)\n",
        "pred_gp_6 = model_gp_6.predict(dX_gp_test6)\n",
        "\n",
        "rmse_gp_6 = np.sqrt(mean_squared_error(pred_gp_6, y_test6))\n",
        "rmse_gp_6"
      ],
      "execution_count": 25,
      "outputs": [
        {
          "output_type": "stream",
          "name": "stdout",
          "text": [
            "Evaluation \t Proposed point \t  Current eval. \t  Best eval. \t Min. ApproxAcqFunc \n",
            "init\t [8.92860151 3.31979805 5.         0.99251441 2.         0.57683563]\t 1.5190535184382172\t 1.467261064668007\t    \n",
            "init\t [4.18807429 3.35407849 9.         0.87750649 3.         0.56623277]\t 1.5046102560432295\t 1.467261064668007\t    \n",
            "init\t [ 5.788586    6.45355096 14.          0.70660047 12.          0.82154882]\t 1.467261064668007\t 1.467261064668007\t    \n",
            "init\t [4.58184578 6.73834679 5.         0.90108528 3.         0.65482895]\t 1.5215270866416617\t 1.467261064668007\t    \n",
            "init\t [ 4.42510505  5.75952352 14.          0.97882365 15.          0.29525604]\t 1.664748595544141\t 1.467261064668007\t    \n",
            "1  \t [ 2.61343239  0.80193947  5.          0.83898129 13.          0.84644718]\t 1.503282313171498\t 1.467261064668007\t -1.8804318108795368\n",
            "2  \t [ 9.72322443  9.21177696  5.          0.87917074 11.          0.86681736]\t 1.5025549146464172\t 1.467261064668007\t -1.8739279861222535\n",
            "3  \t [9.08539649 9.07159316 6.         0.92438928 2.         0.57714482]\t 1.513506979413707\t 1.467261064668007\t -1.8705343166346693\n",
            "4  \t [ 0.10018768  9.77482356 14.          0.73747664  3.          0.33467848]\t 1.6711471095097896\t 1.467261064668007\t -1.8672142797005913\n",
            "5  \t [ 9.98151988  0.15255965  7.          0.89083951 10.          0.31750216]\t 1.6580946896214968\t 1.467261064668007\t -1.8879414417872775\n",
            "6  \t [ 2.98453858  8.8700865   6.          0.73955182 19.          0.28620498]\t 1.6585576125101582\t 1.467261064668007\t -1.902795708534089\n",
            "7  \t [ 7.48665461  6.97677634 12.          0.7044372  19.          0.48954917]\t 1.6227030200089803\t 1.467261064668007\t -1.9156627971268443\n",
            "8  \t [ 1.96274077  9.91153645 10.          0.90395741  1.          0.81961225]\t 1.468051098091313\t 1.467261064668007\t -1.921747427309285\n",
            "9  \t [ 9.79809506  4.05954978 14.          0.57601486  3.          0.61048927]\t 1.5166211959286289\t 1.467261064668007\t -1.9115858876109961\n",
            "10 \t [ 0.58299146  9.62458538  9.          0.94830232 11.          0.21492907]\t 1.6930001706622346\t 1.467261064668007\t -1.9079786692891754\n",
            "11 \t [ 7.59123824  0.17664619 14.          0.84548197 12.          0.29639632]\t 1.6647994621545448\t 1.467261064668007\t -1.9194617717389324\n",
            "12 \t [ 1.24208479  4.35303854 14.          0.50298976  9.          0.73229404]\t 1.5050962147297562\t 1.467261064668007\t -1.927709514356167\n",
            "13 \t [ 0.19490364  0.61590678 14.          0.84814854  3.          0.77255556]\t 1.473516489110288\t 1.467261064668007\t -1.9222951191143602\n",
            "14 \t [ 9.92643939  8.99296635 13.          0.91822558  9.          0.2725082 ]\t 1.6647353973218268\t 1.467261064668007\t -1.9164761561047494\n",
            "15 \t [ 1.04982133  5.55894522 11.          0.6285357  19.          0.13476434]\t 1.6931186122868098\t 1.467261064668007\t -1.9224295113257763\n",
            "\u001b[1m\u001b[92m16\u001b[0m\t \u001b[1m\u001b[92m[ 3.19916739  0.         14.          1.         18.39857183  1.        ]\u001b[0m\t \u001b[1m\u001b[92m1.372662479815121\u001b[0m\t \u001b[1m\u001b[92m1.372662479815121\u001b[0m\t \u001b[1m\u001b[92m-1.9304754674839966\u001b[0m\n",
            "17 \t [ 8.26655843  1.28200008  5.          0.97873705 18.          0.35275188]\t 1.6636219774717425\t 1.372662479815121\t -1.9191997042143754\n",
            "18 \t [ 9.15907123  4.99438387  8.          0.78027202 14.          0.83136764]\t 1.473076971760847\t 1.372662479815121\t -1.9246982617577104\n",
            "19 \t [5.02527486 4.10257964 7.         0.66329432 9.         0.29825437]\t 1.6610644006503346\t 1.372662479815121\t -1.919770252231956\n",
            "20 \t [ 8.50163021  8.12423367  5.          0.94828328 19.          0.51887983]\t 1.5180180887888033\t 1.372662479815121\t -1.9246850581833443\n",
            "21 \t [ 8.68589135  9.8664451  14.          0.8447366   3.          0.72772145]\t 1.5060190345355011\t 1.372662479815121\t -1.9220107147275698\n",
            "22 \t [ 1.72216886  1.76911528  5.          0.92650526 19.          0.34709386]\t 1.661839935386165\t 1.372662479815121\t -1.9191779223248904\n",
            "23 \t [0.36652048 0.63289834 8.         0.5885884  6.         0.46015729]\t 1.6265991039819778\t 1.372662479815121\t -1.9236069695726585\n",
            "24 \t [5.16771946 0.13718572 5.         1.         5.56341154 1.        ]\t 1.424523719550066\t 1.372662479815121\t -1.926085849891109\n",
            "25 \t [ 0.6617561  10.         13.86795986  0.5        15.25882579  1.        ]\t 1.384375631265121\t 1.372662479815121\t -1.920125313179327\n",
            "26 \t [ 3.61533687  4.82225901 14.          0.96345273  4.          0.58738404]\t 1.508913646036153\t 1.372662479815121\t -1.913364595981283\n",
            "27 \t [ 4.53704077  2.91974863  8.          0.93188478 16.          0.8349899 ]\t 1.47288778171478\t 1.372662479815121\t -1.9112923532289188\n",
            "28 \t [ 4.77355901  8.8711022  11.          0.77367363  6.          0.85318308]\t 1.466903449204531\t 1.372662479815121\t -1.9076037393456142\n",
            "29 \t [ 6.59612412  0.08974949 12.61320389  1.          2.98635795  0.1       ]\t 1.6964905700221942\t 1.372662479815121\t -1.9044648685046013\n",
            "30 \t [ 8.36186544  1.35871204 11.08769713  1.         20.          0.1       ]\t 1.6946843736565984\t 1.372662479815121\t -1.9097753416463576\n"
          ]
        },
        {
          "output_type": "execute_result",
          "data": {
            "text/plain": [
              "48613.620824866724"
            ]
          },
          "metadata": {},
          "execution_count": 25
        }
      ]
    },
    {
      "cell_type": "code",
      "metadata": {
        "id": "J1WsphKSUj19",
        "colab": {
          "base_uri": "https://localhost:8080/"
        },
        "outputId": "7b7013f2-379f-490c-9186-0e879f080505"
      },
      "source": [
        "### Bayesian optimization runs (x20): 'gp' Acquisition Function run number = 7\n",
        "\n",
        "np.random.seed(run_num_7)\n",
        "surrogate_gp_7 = GaussianProcess(cov_func, optimize=opt)\n",
        "\n",
        "X_train7, X_test7, y_train7, y_test7 = train_test_split(X, y, test_size=test_perc, random_state=run_num_7)\n",
        "\n",
        "def f_syn_polarity7(alpha, gamma, max_depth, subsample, min_child_weight, colsample):\n",
        "    reg = XGBRegressor(reg_alpha=alpha, gamma=gamma, max_depth=int(max_depth), subsample=subsample, min_child_weight=min_child_weight,\n",
        "          colsample_bytree=colsample, n_estimators = n_est, random_state=run_num_7, objective = 'reg:squarederror')\n",
        "    score = np.array(cross_val_score(reg, X=X_train7, y=y_train7).mean())\n",
        "    return operator * score\n",
        "\n",
        "gp_7 = GPGO_multi(surrogate_gp_7, Acquisition_new(util_gp), f_syn_polarity7, param, n_jobs = -1) # define BayesOpt\n",
        "gp_7.run(max_iter = max_iter, init_evals = n_init) # run\n",
        "\n",
        "### Return optimal parameters' set:\n",
        "params_gp_7 = gp_7.getResult()[0]\n",
        "params_gp_7['max_depth'] = int(params_gp_7['max_depth'])\n",
        "params_gp_7['min_child_weight'] = int(params_gp_7['min_child_weight'])\n",
        "\n",
        "### Re-train with optimal parameters, run predictons:\n",
        "dX_gp_train7 = xgb.DMatrix(X_train7, y_train7)\n",
        "dX_gp_test7 = xgb.DMatrix(X_test7, y_test7)\n",
        "model_gp_7 = xgb.train(params_gp_7, dX_gp_train7)\n",
        "pred_gp_7 = model_gp_7.predict(dX_gp_test7)\n",
        "\n",
        "rmse_gp_7 = np.sqrt(mean_squared_error(pred_gp_7, y_test7))\n",
        "rmse_gp_7"
      ],
      "execution_count": 26,
      "outputs": [
        {
          "output_type": "stream",
          "name": "stdout",
          "text": [
            "Evaluation \t Proposed point \t  Current eval. \t  Best eval. \t Min. ApproxAcqFunc \n",
            "init\t [0.76308289 7.79918792 8.         0.98911145 8.         0.98019056]\t 1.3766913184499914\t 1.3716193029156287\t    \n",
            "init\t [ 5.3849587   5.01120464 13.          0.74994125  5.          0.88192131]\t 1.3716193029156287\t 1.3716193029156287\t    \n",
            "init\t [ 3.30839249  3.9294231  12.          0.6440728  13.          0.41137564]\t 1.4844760060500033\t 1.3716193029156287\t    \n",
            "init\t [9.29528191 2.6258377  5.         0.80027446 1.         0.86616513]\t 1.4553420696682378\t 1.3716193029156287\t    \n",
            "init\t [ 1.74052764  7.90763512 14.          0.7244129   4.          0.77536887]\t 1.4144357133522163\t 1.3716193029156287\t    \n",
            "1  \t [3.70351083 4.59092978 6.         0.70937861 6.         0.814213  ]\t 1.438878549232204\t 1.3716193029156287\t -1.7405981076628683\n",
            "2  \t [ 7.67901407  0.01632031  5.          0.51139814 16.          0.12625334]\t 1.6305402399630702\t 1.3716193029156287\t -1.744226086150925\n",
            "3  \t [ 5.20486636  5.3567089   6.          0.94298085 15.          0.44315357]\t 1.495309574429832\t 1.3716193029156287\t -1.7825327035638279\n",
            "4  \t [ 8.51295987  6.17754807 14.          0.61917724 18.          0.44756528]\t 1.486575512574436\t 1.3716193029156287\t -1.788710548609326\n",
            "5  \t [ 2.24723402  9.87639013  8.          0.5471322  17.          0.15778995]\t 1.6278263191097693\t 1.3716193029156287\t -1.7922924974964731\n",
            "6  \t [ 9.59047089  2.23406766 14.          0.54692418 11.          0.88831858]\t 1.3770018979735992\t 1.3716193029156287\t -1.8134353443293574\n",
            "7  \t [6.61803319 5.24040339 7.         0.85144433 1.         0.2670776 ]\t 1.5461702012991343\t 1.3716193029156287\t -1.802263236806304\n",
            "8  \t [7.64909878 8.53268121 8.         0.55257088 9.         0.3844139 ]\t 1.490026350421837\t 1.3716193029156287\t -1.810056330519109\n",
            "9  \t [ 9.1188793   0.02348488 11.          0.68496927 19.          0.69381415]\t 1.4213695985856334\t 1.3716193029156287\t -1.8112026275127817\n",
            "\u001b[1m\u001b[92m10\u001b[0m\t \u001b[1m\u001b[92m[ 2.75173532  0.25133113 13.          0.99104327  1.          0.94905981]\u001b[0m\t \u001b[1m\u001b[92m1.3664205334215516\u001b[0m\t \u001b[1m\u001b[92m1.3664205334215516\u001b[0m\t \u001b[1m\u001b[92m-1.8062305090277069\u001b[0m\n",
            "11 \t [ 0.83711482  9.27558437 14.          0.74050795 19.          0.65664128]\t 1.4187436663544928\t 1.3664205334215516\t -1.79770727904978\n",
            "12 \t [0.38759497 9.96510466 7.         0.74169819 2.         0.3508033 ]\t 1.5477195013670506\t 1.3664205334215516\t -1.7940089688574523\n",
            "13 \t [ 1.41319611  2.5751638  10.          0.98767908 19.          0.27216707]\t 1.5412148068460627\t 1.3664205334215516\t -1.8001544210152078\n",
            "14 \t [ 8.72852268  3.23639466 10.          0.79470807 16.          0.81233083]\t 1.410612840843585\t 1.3664205334215516\t -1.8051227381627435\n",
            "15 \t [ 0.12259436  2.09059022  5.          0.75004361 14.          0.30836841]\t 1.5564416885097383\t 1.3664205334215516\t -1.8011208384932071\n",
            "16 \t [ 3.09505887  0.06319723 13.          0.78734419  8.          0.45279211]\t 1.4857999647327689\t 1.3664205334215516\t -1.8065090180535295\n",
            "17 \t [ 4.84467323  0.12821084  6.          0.84837014 11.          0.42242526]\t 1.4936764653338237\t 1.3664205334215516\t -1.8071592925985864\n",
            "18 \t [ 6.43612215  7.9107785   8.          0.78952976 19.          0.81069666]\t 1.4181794546103497\t 1.3664205334215516\t -1.8081752057656575\n",
            "19 \t [ 9.94824081  0.39149062 12.          0.59113076  1.          0.49709751]\t 1.5007161735692889\t 1.3664205334215516\t -1.8051321470483128\n",
            "20 \t [ 7.67822637  9.80667081 12.          0.90255729  1.          0.17725725]\t 1.62792034630071\t 1.3664205334215516\t -1.8064685895481294\n",
            "21 \t [1.37016719 0.4274706  7.         0.90507099 1.         0.17982182]\t 1.628066683958128\t 1.3664205334215516\t -1.8143790253418426\n",
            "22 \t [ 3.51298739  3.92256519 11.          0.87551871  2.          0.45658528]\t 1.4869151592484964\t 1.3664205334215516\t -1.8216129092156896\n",
            "23 \t [ 1.70250959  4.45210768 10.          0.54901972  9.          0.15654067]\t 1.6285795818559212\t 1.3664205334215516\t -1.8215936254473417\n",
            "24 \t [ 0.24213312  6.68767063  5.          0.65005261 19.98714615  0.53331282]\t 1.470638460993224\t 1.3664205334215516\t -1.828054105354989\n",
            "\u001b[1m\u001b[92m25\u001b[0m\t \u001b[1m\u001b[92m[ 5.8517524  10.         14.20905723  0.88602663  7.69152086  0.90946769]\u001b[0m\t \u001b[1m\u001b[92m1.3640068129909078\u001b[0m\t \u001b[1m\u001b[92m1.3640068129909078\u001b[0m\t \u001b[1m\u001b[92m-1.827099630125416\u001b[0m\n",
            "26 \t [8.77976817 1.20475119 5.         0.63793895 7.         0.56721676]\t 1.47051296195573\t 1.3640068129909078\t -1.8221478150989323\n",
            "27 \t [ 9.20631132  9.49560882  5.          0.68325518 15.          0.77032177]\t 1.4554952637324337\t 1.3640068129909078\t -1.8214291504501174\n",
            "28 \t [ 0.3035502   7.11318317  7.          0.68067379 13.          0.90049801]\t 1.39494477155193\t 1.3640068129909078\t -1.8202521900416488\n",
            "29 \t [ 9.90342616  9.00177359 13.          0.74202782 13.          0.95569351]\t 1.3697360438035369\t 1.3640068129909078\t -1.8169537611117474\n",
            "30 \t [1.78406398 0.28035781 5.         0.53862116 7.         0.78192175]\t 1.4535276650537685\t 1.3640068129909078\t -1.8130185318099632\n"
          ]
        },
        {
          "output_type": "execute_result",
          "data": {
            "text/plain": [
              "50316.756667403024"
            ]
          },
          "metadata": {},
          "execution_count": 26
        }
      ]
    },
    {
      "cell_type": "code",
      "metadata": {
        "id": "hI8sFP4ZUmOs",
        "colab": {
          "base_uri": "https://localhost:8080/"
        },
        "outputId": "fe9f7158-f4ac-4051-e8cd-32d55b49dfc2"
      },
      "source": [
        "### Bayesian optimization runs (x20): 'gp' Acquisition Function run number = 8\n",
        "\n",
        "np.random.seed(run_num_8)\n",
        "surrogate_gp_8 = GaussianProcess(cov_func, optimize=opt)\n",
        "\n",
        "X_train8, X_test8, y_train8, y_test8 = train_test_split(X, y, test_size=test_perc, random_state=run_num_8)\n",
        "\n",
        "def f_syn_polarity8(alpha, gamma, max_depth, subsample, min_child_weight, colsample):\n",
        "    reg = XGBRegressor(reg_alpha=alpha, gamma=gamma, max_depth=int(max_depth), subsample=subsample, min_child_weight=min_child_weight,\n",
        "          colsample_bytree=colsample, n_estimators = n_est, random_state=run_num_8, objective = 'reg:squarederror')\n",
        "    score = np.array(cross_val_score(reg, X=X_train8, y=y_train8).mean())\n",
        "    return operator * score\n",
        "\n",
        "gp_8 = GPGO_multi(surrogate_gp_8, Acquisition_new(util_gp), f_syn_polarity8, param, n_jobs = -1) # define BayesOpt\n",
        "gp_8.run(max_iter = max_iter, init_evals = n_init) # run\n",
        "\n",
        "### Return optimal parameters' set:\n",
        "params_gp_8 = gp_8.getResult()[0]\n",
        "params_gp_8['max_depth'] = int(params_gp_8['max_depth'])\n",
        "params_gp_8['min_child_weight'] = int(params_gp_8['min_child_weight'])\n",
        "\n",
        "### Re-train with optimal parameters, run predictons:\n",
        "dX_gp_train8 = xgb.DMatrix(X_train8, y_train8)\n",
        "dX_gp_test8 = xgb.DMatrix(X_test8, y_test8)\n",
        "model_gp_8 = xgb.train(params_gp_8, dX_gp_train8)\n",
        "pred_gp_8 = model_gp_8.predict(dX_gp_test8)\n",
        "\n",
        "rmse_gp_8 = np.sqrt(mean_squared_error(pred_gp_8, y_test8))\n",
        "rmse_gp_8"
      ],
      "execution_count": 27,
      "outputs": [
        {
          "output_type": "stream",
          "name": "stdout",
          "text": [
            "Evaluation \t Proposed point \t  Current eval. \t  Best eval. \t Min. ApproxAcqFunc \n",
            "init\t [ 8.73429403  9.68540663 10.          0.68875849  9.          0.48011572]\t 1.4345420020169601\t 1.380205361584031\t    \n",
            "init\t [ 6.12033333  7.66062926  8.          0.76133734 13.          0.93379456]\t 1.389083518296823\t 1.380205361584031\t    \n",
            "init\t [ 1.46524679  7.01527914  7.          0.90913299 10.          0.36016753]\t 1.4546623776895313\t 1.380205361584031\t    \n",
            "init\t [ 9.73855241  3.33774046 14.          0.53290419  7.          0.7088681 ]\t 1.400955898397293\t 1.380205361584031\t    \n",
            "init\t [ 3.00618018  1.82702795 11.          0.75681389 14.          0.98627449]\t 1.380205361584031\t 1.380205361584031\t    \n",
            "1  \t [4.42022545 5.48487111 9.         0.97165909 3.         0.63617522]\t 1.392033230213678\t 1.380205361584031\t -1.7295508545626948\n",
            "2  \t [ 6.32702028  8.62385466 14.          0.50944475 18.          0.63495949]\t 1.3991754050354952\t 1.380205361584031\t -1.7254655816078743\n",
            "3  \t [8.02691358 0.52300563 6.         0.98815878 7.         0.44490514]\t 1.450001959741656\t 1.380205361584031\t -1.7237792293902492\n",
            "4  \t [ 8.08919191  1.80529404  6.          0.61687971 19.          0.12624217]\t 1.5194485390025407\t 1.380205361584031\t -1.730377994747471\n",
            "5  \t [ 0.07988689  1.11798726 14.          0.91712149  9.          0.7756053 ]\t 1.3867443902004624\t 1.380205361584031\t -1.7453669243695247\n",
            "6  \t [ 8.36802171  9.95378108 14.          0.95507422  1.          0.61033683]\t 1.4186616996558363\t 1.380205361584031\t -1.740728024257539\n",
            "7  \t [3.46520302 9.92942025 6.         0.6416633  1.         0.99685783]\t 1.4099257031895813\t 1.380205361584031\t -1.740434749654845\n",
            "8  \t [9.09539561 9.26458637 9.         0.84758849 1.         0.57212057]\t 1.4186696525581837\t 1.380205361584031\t -1.739302597623807\n",
            "9  \t [ 8.63669362  1.62299282 13.          0.54028204 18.          0.63598228]\t 1.3992396035721142\t 1.380205361584031\t -1.7391644911552895\n",
            "10 \t [ 2.42575645  9.87357367  5.          0.61143882 19.          0.11833201]\t 1.5217192808835498\t 1.380205361584031\t -1.7373588393015513\n",
            "11 \t [ 2.78493326  8.67626106  6.          0.55771681 18.          0.89120888]\t 1.411404513752894\t 1.380205361584031\t -1.7460673056517815\n",
            "12 \t [ 3.43855934  0.02041647 14.          0.50910442  1.          0.11324275]\t 1.5123781972396935\t 1.380205361584031\t -1.7320514696564109\n",
            "13 \t [10.         10.          5.          1.         18.07952185  1.        ]\t 1.4189697915631234\t 1.380205361584031\t -1.7320514696536244\n",
            "14 \t [9.69554908 3.70013633 5.         0.72727157 1.         0.49530336]\t 1.4660245850133664\t 1.380205361584031\t -1.7320514695503186\n",
            "15 \t [ 2.95705474  6.17654788 13.          0.69045567  8.          0.17232444]\t 1.514033869269444\t 1.380205361584031\t -1.7320514502455873\n",
            "16 \t [1.46263203 0.47607529 7.         0.7506198  3.         0.34066276]\t 1.4546764742266987\t 1.380205361584031\t -1.7377680235201507\n",
            "17 \t [ 8.7660306   4.20370416 14.          0.87464816 13.          0.5367395 ]\t 1.4110186491020076\t 1.380205361584031\t -1.7399219777068518\n",
            "18 \t [ 0.5849445   1.90613576 10.          0.54120797 19.          0.25613096]\t 1.4531680714766577\t 1.380205361584031\t -1.7393779287120492\n",
            "19 \t [ 1.2277143   1.05411485  5.          0.50198686 13.          0.89258454]\t 1.4252760814462118\t 1.380205361584031\t -1.74118496221354\n",
            "20 \t [ 0.60266942  9.29742121 13.          0.87023214  1.          0.54089054]\t 1.419189032757834\t 1.380205361584031\t -1.7413721052030038\n",
            "21 \t [10.          0.16540908 10.3123414   0.5         2.99999982  0.1       ]\t 1.5129424066608168\t 1.380205361584031\t -1.7412411362853764\n",
            "22 \t [9.89654007 7.91459554 5.         0.64703423 6.         0.95875063]\t 1.4248596224857097\t 1.380205361584031\t -1.7457397623330617\n",
            "23 \t [ 7.79099482  4.66701842 15.          0.5         1.37725954  1.        ]\t 1.3809306123590572\t 1.380205361584031\t -1.7457147415905838\n",
            "24 \t [0.         5.15549489 5.         0.5        3.2717166  1.        ]\t 1.4208814643323893\t 1.380205361584031\t -1.7437720528797171\n",
            "\u001b[1m\u001b[92m25\u001b[0m\t \u001b[1m\u001b[92m[ 0.          7.93106693 13.00031318  0.5        11.9310498   1.        ]\u001b[0m\t \u001b[1m\u001b[92m1.3776966281233882\u001b[0m\t \u001b[1m\u001b[92m1.3776966281233882\u001b[0m\t \u001b[1m\u001b[92m-1.7436473603582352\u001b[0m\n",
            "26 \t [ 0.          3.29564967 14.          0.53175548  3.87790258  1.        ]\t 1.3777545749718538\t 1.3776966281233882\t -1.7417751143429203\n",
            "27 \t [3.58839647 1.64468002 9.         0.68555495 8.         0.80781245]\t 1.396520255628517\t 1.3776966281233882\t -1.7400249783618116\n",
            "28 \t [ 1.13040716  6.77264499 12.          0.76257026 17.          0.60733272]\t 1.4152957272073334\t 1.3776966281233882\t -1.7390941108672051\n",
            "29 \t [ 2.92829129  1.54883652 15.          0.5        20.          0.1       ]\t 1.5126324940911398\t 1.3776966281233882\t -1.738919402157722\n",
            "30 \t [10.         10.          5.          0.5        12.81183454  0.1       ]\t 1.519496494460667\t 1.3776966281233882\t -1.7424087048226538\n"
          ]
        },
        {
          "output_type": "execute_result",
          "data": {
            "text/plain": [
              "52118.23993216412"
            ]
          },
          "metadata": {},
          "execution_count": 27
        }
      ]
    },
    {
      "cell_type": "code",
      "metadata": {
        "id": "Vw5IYus6UpAn",
        "colab": {
          "base_uri": "https://localhost:8080/"
        },
        "outputId": "2065a90f-0f43-415e-ae9d-f2c5c8004985"
      },
      "source": [
        "### Bayesian optimization runs (x20): 'gp' Acquisition Function run number = 9\n",
        "\n",
        "np.random.seed(run_num_9)\n",
        "surrogate_gp_9 = GaussianProcess(cov_func, optimize=opt)\n",
        "\n",
        "X_train9, X_test9, y_train9, y_test9 = train_test_split(X, y, test_size=test_perc, random_state=run_num_9)\n",
        "\n",
        "def f_syn_polarity9(alpha, gamma, max_depth, subsample, min_child_weight, colsample):\n",
        "    reg = XGBRegressor(reg_alpha=alpha, gamma=gamma, max_depth=int(max_depth), subsample=subsample, min_child_weight=min_child_weight,\n",
        "          colsample_bytree=colsample, n_estimators = n_est, random_state=run_num_9, objective = 'reg:squarederror')\n",
        "    score = np.array(cross_val_score(reg, X=X_train9, y=y_train9).mean())\n",
        "    return operator * score\n",
        "\n",
        "gp_9 = GPGO_multi(surrogate_gp_9, Acquisition_new(util_gp), f_syn_polarity9, param, n_jobs = -1) # define BayesOpt\n",
        "gp_9.run(max_iter = max_iter, init_evals = n_init) # run\n",
        "\n",
        "### Return optimal parameters' set:\n",
        "params_gp_9 = gp_9.getResult()[0]\n",
        "params_gp_9['max_depth'] = int(params_gp_9['max_depth'])\n",
        "params_gp_9['min_child_weight'] = int(params_gp_9['min_child_weight'])\n",
        "\n",
        "### Re-train with optimal parameters, run predictons:\n",
        "dX_gp_train9 = xgb.DMatrix(X_train9, y_train9)\n",
        "dX_gp_test9 = xgb.DMatrix(X_test9, y_test9)\n",
        "model_gp_9 = xgb.train(params_gp_9, dX_gp_train9)\n",
        "pred_gp_9 = model_gp_9.predict(dX_gp_test9)\n",
        "\n",
        "rmse_gp_9 = np.sqrt(mean_squared_error(pred_gp_9, y_test9))\n",
        "rmse_gp_9"
      ],
      "execution_count": 28,
      "outputs": [
        {
          "output_type": "stream",
          "name": "stdout",
          "text": [
            "Evaluation \t Proposed point \t  Current eval. \t  Best eval. \t Min. ApproxAcqFunc \n",
            "init\t [ 0.10374154  5.01874592 11.          0.50377155  2.          0.29670281]\t 1.5577132784573362\t 1.3722986758568372\t    \n",
            "init\t [ 4.18508181  2.48101168 13.          0.69794293  2.          0.25009871]\t 1.557988294847283\t 1.3722986758568372\t    \n",
            "init\t [ 8.78559086  9.50964032 13.          0.98395204 11.          0.90820641]\t 1.3722986758568372\t 1.3722986758568372\t    \n",
            "init\t [ 6.66898973  5.47837783  6.          0.97165345 12.          0.72499481]\t 1.4672635070842577\t 1.3722986758568372\t    \n",
            "init\t [ 8.24870465  4.65668475 13.          0.68760467  9.          0.98502332]\t 1.3809301169879382\t 1.3722986758568372\t    \n",
            "1  \t [6.73714319 2.39608167 5.         0.58130302 3.         0.163077  ]\t 1.685094312684032\t 1.3722986758568372\t -1.7997361827262606\n",
            "2  \t [ 5.08296492  7.82294671 12.          0.52283375 19.          0.95333653]\t 1.389563776509189\t 1.3722986758568372\t -1.846368446124042\n",
            "3  \t [ 2.23896945  0.7525322   6.          0.74118523 19.          0.56710643]\t 1.4708221744894834\t 1.3722986758568372\t -1.8264295163372468\n",
            "4  \t [ 0.65024006  0.20015298 14.          0.90298726 13.          0.95798937]\t 1.3774770133876888\t 1.3722986758568372\t -1.8233169873381525\n",
            "5  \t [ 2.15467277  8.6355346  11.          0.91792962  8.          0.31092756]\t 1.5524508155488828\t 1.3722986758568372\t -1.8086842760386563\n",
            "6  \t [ 8.9317907   9.240006   13.          0.55531212  4.          0.42887515]\t 1.5036898458588284\t 1.3722986758568372\t -1.818163748859532\n",
            "7  \t [ 9.90759058  1.21564186 12.          0.74911905 17.          0.244927  ]\t 1.6890866096687698\t 1.3722986758568372\t -1.8203101002083146\n",
            "8  \t [9.39353565 9.93046622 5.         0.57188784 4.         0.83501032]\t 1.4379828751537795\t 1.3722986758568372\t -1.84228916097751\n",
            "9  \t [1.06462795 1.89851825 8.         0.90141515 8.         0.27329674]\t 1.5515541230958398\t 1.3722986758568372\t -1.8361757180002227\n",
            "10 \t [2.06388793 9.99486165 5.         0.88070114 4.         0.33535287]\t 1.556507523090196\t 1.3722986758568372\t -1.8408346319642233\n",
            "11 \t [ 0.31406909  9.44627975  5.          0.52425353 16.          0.87515709]\t 1.4339579984481194\t 1.3722986758568372\t -1.8452657743625227\n",
            "12 \t [ 7.07313313  8.94084339  5.          0.99439529 19.          0.33798274]\t 1.554418754580938\t 1.3722986758568372\t -1.839827567122507\n",
            "13 \t [8.16570029 0.40949439 8.         0.67704692 8.         0.10446623]\t 1.687854364103082\t 1.3722986758568372\t -1.843651698429983\n",
            "14 \t [0.34291044 2.1036556  5.         0.56458499 1.         0.36402629]\t 1.5557076941144234\t 1.3722986758568372\t -1.8567752182116566\n",
            "15 \t [ 0.78785089  5.61809657 12.          0.50972136 16.          0.26232577]\t 1.5530468599015348\t 1.3722986758568372\t -1.8593631433331388\n",
            "16 \t [ 6.14078962  2.31372054 11.          0.9240952  13.          0.361681  ]\t 1.55140283861845\t 1.3722986758568372\t -1.8615230122535669\n",
            "17 \t [6.71468231 7.0497898  9.         0.81359245 6.         0.72288861]\t 1.445537066926697\t 1.3722986758568372\t -1.8633764166518982\n",
            "18 \t [5.34620191 1.27649801 9.         0.62858232 4.         0.13190614]\t 1.6857784496120356\t 1.3722986758568372\t -1.8592517598403169\n",
            "19 \t [ 7.43450989  1.13255516  5.          0.76337092 13.          0.51719287]\t 1.4898672637929382\t 1.3722986758568372\t -1.8686515522200704\n",
            "20 \t [ 8.74852541  4.72123473 10.          0.74555247  1.          0.12997282]\t 1.6894527606375476\t 1.3722986758568372\t -1.8668385743396394\n",
            "21 \t [ 9.13458844  9.45768631 14.37216611  0.54871043 17.72977519  0.1       ]\t 1.6872645518863643\t 1.3722986758568372\t -1.875345660571237\n",
            "22 \t [10.          1.63538364 14.3955272   0.5         3.99131573  1.        ]\t 1.3877887019567996\t 1.3722986758568372\t -1.883069759640832\n",
            "23 \t [ 9.247595    3.53848381  6.          0.63431332 18.          0.22156307]\t 1.6862544893164297\t 1.3722986758568372\t -1.8765903524045326\n",
            "24 \t [ 4.6349911   8.2789051  14.          0.72867319  1.          0.20042998]\t 1.6888995793511388\t 1.3722986758568372\t -1.8836478134976085\n",
            "25 \t [ 8.67879826  8.98471989  9.          0.61567302 15.          0.83877023]\t 1.398683520404821\t 1.3722986758568372\t -1.8903260014886356\n",
            "26 \t [ 2.10059896 10.         15.          0.5        12.92070881  1.        ]\t 1.3841759939094231\t 1.3722986758568372\t -1.8846850997447617\n",
            "27 \t [ 3.75267307  8.42322942 10.          0.60454395 13.          0.43842007]\t 1.4965361733866338\t 1.3722986758568372\t -1.878872015600949\n",
            "28 \t [ 1.25197676  4.28374499  5.          0.98697628 12.          0.92166206]\t 1.434450405559778\t 1.3722986758568372\t -1.8774494385287732\n",
            "29 \t [ 1.38549177  1.46868636 12.          0.80210702 19.          0.62274282]\t 1.4445123046220534\t 1.3722986758568372\t -1.873911656404073\n",
            "30 \t [ 0.20250916  9.72992986 10.          0.68901432  3.          0.96394195]\t 1.3856423046815292\t 1.3722986758568372\t -1.8709141264524807\n"
          ]
        },
        {
          "output_type": "execute_result",
          "data": {
            "text/plain": [
              "48075.00995818073"
            ]
          },
          "metadata": {},
          "execution_count": 28
        }
      ]
    },
    {
      "cell_type": "code",
      "metadata": {
        "id": "YD494io_Ur7V",
        "colab": {
          "base_uri": "https://localhost:8080/"
        },
        "outputId": "3d4ba9e4-843e-49c8-cbed-6c1ff66ffa05"
      },
      "source": [
        "### Bayesian optimization runs (x20): 'gp' Acquisition Function run number = 10\n",
        "\n",
        "np.random.seed(run_num_10)\n",
        "surrogate_gp_10 = GaussianProcess(cov_func, optimize=opt)\n",
        "\n",
        "X_train10, X_test10, y_train10, y_test10 = train_test_split(X, y, test_size=test_perc, random_state=run_num_10)\n",
        "\n",
        "def f_syn_polarity10(alpha, gamma, max_depth, subsample, min_child_weight, colsample):\n",
        "    reg = XGBRegressor(reg_alpha=alpha, gamma=gamma, max_depth=int(max_depth), subsample=subsample, min_child_weight=min_child_weight,\n",
        "          colsample_bytree=colsample, n_estimators = n_est, random_state=run_num_10, objective = 'reg:squarederror')\n",
        "    score = np.array(cross_val_score(reg, X=X_train10, y=y_train10).mean())\n",
        "    return operator * score\n",
        "\n",
        "gp_10 = GPGO_multi(surrogate_gp_10, Acquisition_new(util_gp), f_syn_polarity10, param, n_jobs = -1) # define BayesOpt\n",
        "gp_10.run(max_iter = max_iter, init_evals = n_init) # run\n",
        "\n",
        "### Return optimal parameters' set:\n",
        "params_gp_10 = gp_10.getResult()[0]\n",
        "params_gp_10['max_depth'] = int(params_gp_10['max_depth'])\n",
        "params_gp_10['min_child_weight'] = int(params_gp_10['min_child_weight'])\n",
        "\n",
        "### Re-train with optimal parameters, run predictons:\n",
        "dX_gp_train10 = xgb.DMatrix(X_train10, y_train10)\n",
        "dX_gp_test10 = xgb.DMatrix(X_test10, y_test10)\n",
        "model_gp_10 = xgb.train(params_gp_10, dX_gp_train10)\n",
        "pred_gp_10 = model_gp_10.predict(dX_gp_test10)\n",
        "\n",
        "rmse_gp_10 = np.sqrt(mean_squared_error(pred_gp_10, y_test10))\n",
        "rmse_gp_10"
      ],
      "execution_count": 29,
      "outputs": [
        {
          "output_type": "stream",
          "name": "stdout",
          "text": [
            "Evaluation \t Proposed point \t  Current eval. \t  Best eval. \t Min. ApproxAcqFunc \n",
            "init\t [ 7.71320643  0.20751949  5.          0.72150747 17.          0.12265456]\t 1.5966621860966772\t 1.3816576901725537\t    \n",
            "init\t [ 7.0920801   2.65566127 13.          0.57518893 17.          0.83494165]\t 1.3816576901725537\t 1.3816576901725537\t    \n",
            "init\t [ 3.36071584  8.90816531  6.          0.86087766 15.          0.75469196]\t 1.4046956914996547\t 1.3816576901725537\t    \n",
            "init\t [ 5.40880931  1.31458152  8.          0.57108502 14.          0.62551123]\t 1.4201195466728969\t 1.3816576901725537\t    \n",
            "init\t [1.82631436 8.26082248 6.         0.80888349 5.         0.15900694]\t 1.5985040415985665\t 1.3816576901725537\t    \n",
            "1  \t [8.31989768 3.09778055 7.         0.64798085 3.         0.98471878]\t 1.3861520034074002\t 1.3816576901725537\t -1.816876679252568\n",
            "2  \t [ 0.89811639  1.94478174 12.          0.95814079  6.          0.72197555]\t 1.4124678977158813\t 1.3816576901725537\t -1.797557389664488\n",
            "\u001b[1m\u001b[92m3\u001b[0m\t \u001b[1m\u001b[92m[ 8.03074072  7.46348717  9.          0.56023612 11.          0.98976719]\u001b[0m\t \u001b[1m\u001b[92m1.3752114282060977\u001b[0m\t \u001b[1m\u001b[92m1.3752114282060977\u001b[0m\t \u001b[1m\u001b[92m-1.7880482593579572\u001b[0m\n",
            "4  \t [ 8.57542073  0.57940967 12.          0.52418872  8.          0.24001913]\t 1.6022599738239471\t 1.3752114282060977\t -1.7754055730479983\n",
            "\u001b[1m\u001b[92m5\u001b[0m\t \u001b[1m\u001b[92m[ 3.19739287  9.35044843 14.          0.99107667  1.          0.93375799]\u001b[0m\t \u001b[1m\u001b[92m1.3602395373998877\u001b[0m\t \u001b[1m\u001b[92m1.3602395373998877\u001b[0m\t \u001b[1m\u001b[92m-1.797145458546662\u001b[0m\n",
            "6  \t [ 0.54950457  6.51824863 14.          0.74860651 12.          0.8224012 ]\t 1.3732356123253924\t 1.3602395373998877\t -1.7844587662185294\n",
            "7  \t [ 7.81115221  9.6820576  13.          0.84200528 16.          0.55344047]\t 1.4268784828133074\t 1.3602395373998877\t -1.775376863451514\n",
            "8  \t [ 0.49053091  1.97039718 14.          0.79005901 19.          0.11771088]\t 1.5984026918909442\t 1.3602395373998877\t -1.7730755883407183\n",
            "9  \t [5.64721827 3.01170899 5.         0.52546141 9.         0.6375896 ]\t 1.436502519866644\t 1.3602395373998877\t -1.7879484877459157\n",
            "10 \t [ 9.38854854  7.91087361  8.          0.57475286 19.          0.33969987]\t 1.5460665850068604\t 1.3602395373998877\t -1.7859210613611856\n",
            "11 \t [ 6.45068402  5.75558194 14.          0.61974939  8.          0.77721423]\t 1.380432680493415\t 1.3602395373998877\t -1.793292051083818\n",
            "12 \t [1.67997775 0.39655611 6.         0.6660241  2.         0.52668261]\t 1.4371946682857046\t 1.3602395373998877\t -1.7870553531263658\n",
            "13 \t [ 8.33810851  9.8990204  14.          0.61893039  5.          0.69227045]\t 1.4213651756003245\t 1.3602395373998877\t -1.7854868657502454\n",
            "14 \t [ 1.17812657  4.72170518  8.          0.98192264 11.          0.85915042]\t 1.3816175639419446\t 1.3602395373998877\t -1.7830342404039985\n",
            "15 \t [ 0.93528816  4.51598611  8.          0.84340533 19.          0.31781525]\t 1.5439587543853837\t 1.3602395373998877\t -1.7783660788037372\n",
            "16 \t [9.9297819  8.53538054 5.         0.63283868 5.         0.25710096]\t 1.5504547973683291\t 1.3602395373998877\t -1.784164115746903\n",
            "17 \t [ 6.16965463  1.64343803 12.          0.73851962  3.          0.46483701]\t 1.446458024112987\t 1.3602395373998877\t -1.7897940873741147\n",
            "18 \t [ 0.16076131  9.82175787 11.          0.5090591  15.          0.16588207]\t 1.6021234319962105\t 1.3602395373998877\t -1.7889709528344002\n",
            "19 \t [6.32780882 7.40982127 5.         0.81387116 1.         0.73691796]\t 1.4348359283440464\t 1.3602395373998877\t -1.7968478184740497\n",
            "20 \t [0.27427597 2.76578592 5.         0.5153517  7.         0.88351016]\t 1.4174526164094585\t 1.3602395373998877\t -1.795217890336785\n",
            "21 \t [ 3.11792151  0.26273854 14.          0.62688079 11.          0.2529624 ]\t 1.5472128598622095\t 1.3602395373998877\t -1.7928873955413431\n",
            "22 \t [ 0.83121515  0.01997009 14.          0.70106317  1.          0.40157512]\t 1.451256090419536\t 1.3602395373998877\t -1.79691959861697\n",
            "23 \t [5.44361563e-03 8.17820742e+00 1.20000000e+01 7.01713442e-01\n",
            " 6.00000000e+00 6.94498652e-01]\t 1.4177736770540903\t 1.3602395373998877\t -1.7962019341998154\n",
            "24 \t [ 2.71256385  5.55923849 10.          0.83745995  3.          0.19851424]\t 1.6007057450371547\t 1.3602395373998877\t -1.7941003269707756\n",
            "25 \t [ 9.68158922  5.53353312  6.          0.52688433 14.          0.53984638]\t 1.4379388506378956\t 1.3602395373998877\t -1.8000936417227025\n",
            "26 \t [ 5.3057139   7.92463482 12.          0.68746189 19.          0.18775832]\t 1.5996707616733699\t 1.3602395373998877\t -1.7988067834622377\n",
            "27 \t [ 2.54362459  9.28374882  5.          0.88331029 10.          0.186608  ]\t 1.5979340258443304\t 1.3602395373998877\t -1.804202824559279\n",
            "28 \t [ 5.24463307  8.51234573 10.          0.6208674   7.          0.84944164]\t 1.3812757566072076\t 1.3602395373998877\t -1.8091752506783039\n",
            "29 \t [ 6.28317764  9.19620369 10.          0.99805615  1.          0.13410113]\t 1.6005824550516572\t 1.3602395373998877\t -1.8057151658058521\n",
            "30 \t [ 9.70082045  2.90861386 11.          0.53565772 13.          0.71127619]\t 1.4183735206625667\t 1.3602395373998877\t -1.8104600899563346\n"
          ]
        },
        {
          "output_type": "execute_result",
          "data": {
            "text/plain": [
              "50280.79767547322"
            ]
          },
          "metadata": {},
          "execution_count": 29
        }
      ]
    },
    {
      "cell_type": "code",
      "metadata": {
        "id": "N03Sq0TvUuhp",
        "colab": {
          "base_uri": "https://localhost:8080/"
        },
        "outputId": "06fa430c-96eb-457e-db53-d8a7e5cc3c5d"
      },
      "source": [
        "### Bayesian optimization runs (x20): 'gp' Acquisition Function run number = 11\n",
        "\n",
        "np.random.seed(run_num_11)\n",
        "surrogate_gp_11 = GaussianProcess(cov_func, optimize=opt)\n",
        "\n",
        "X_train11, X_test11, y_train11, y_test11 = train_test_split(X, y, test_size=test_perc, random_state=run_num_11)\n",
        "\n",
        "def f_syn_polarity11(alpha, gamma, max_depth, subsample, min_child_weight, colsample):\n",
        "    reg = XGBRegressor(reg_alpha=alpha, gamma=gamma, max_depth=int(max_depth), subsample=subsample, min_child_weight=min_child_weight,\n",
        "          colsample_bytree=colsample, n_estimators = n_est, random_state=run_num_11, objective = 'reg:squarederror')\n",
        "    score = np.array(cross_val_score(reg, X=X_train11, y=y_train11).mean())\n",
        "    return operator * score\n",
        "\n",
        "gp_11 = GPGO_multi(surrogate_gp_11, Acquisition_new(util_gp), f_syn_polarity11, param, n_jobs = -1) # define BayesOpt\n",
        "gp_11.run(max_iter = max_iter, init_evals = n_init) # run\n",
        "\n",
        "### Return optimal parameters' set:\n",
        "params_gp_11 = gp_11.getResult()[0]\n",
        "params_gp_11['max_depth'] = int(params_gp_11['max_depth'])\n",
        "params_gp_11['min_child_weight'] = int(params_gp_11['min_child_weight'])\n",
        "\n",
        "### Re-train with optimal parameters, run predictons:\n",
        "dX_gp_train11 = xgb.DMatrix(X_train11, y_train11)\n",
        "dX_gp_test11 = xgb.DMatrix(X_test11, y_test11)\n",
        "model_gp_11 = xgb.train(params_gp_11, dX_gp_train11)\n",
        "pred_gp_11 = model_gp_11.predict(dX_gp_test11)\n",
        "\n",
        "rmse_gp_11 = np.sqrt(mean_squared_error(pred_gp_11, y_test11))\n",
        "rmse_gp_11"
      ],
      "execution_count": 30,
      "outputs": [
        {
          "output_type": "stream",
          "name": "stdout",
          "text": [
            "Evaluation \t Proposed point \t  Current eval. \t  Best eval. \t Min. ApproxAcqFunc \n",
            "init\t [ 1.80269689  0.19475241  6.          0.59705781 13.          0.47818324]\t 1.4816591577946832\t 1.4105425145194488\t    \n",
            "init\t [ 4.85427098  0.12780815  5.          0.91309068 14.          0.86571558]\t 1.426706936764755\t 1.4105425145194488\t    \n",
            "init\t [ 7.2996447   1.08736072 10.          0.92857712 18.          0.66910061]\t 1.4105425145194488\t 1.4105425145194488\t    \n",
            "init\t [ 0.20483613  1.16737269  7.          0.57895615 16.          0.83644782]\t 1.4183397861714337\t 1.4105425145194488\t    \n",
            "init\t [ 3.44624491  3.18798797 14.          0.54197657 15.          0.63958906]\t 1.4201459936126652\t 1.4105425145194488\t    \n",
            "1  \t [9.77136617 6.6548802  7.         0.51036649 9.         0.81011527]\t 1.4198592349317078\t 1.4105425145194488\t -1.7505322748060679\n",
            "2  \t [ 3.45527801  8.93827252  9.          0.56722161 19.          0.37442815]\t 1.5481237882830068\t 1.4105425145194488\t -1.7486044492562303\n",
            "3  \t [2.20135958 9.62559813 6.         0.71280025 1.         0.39977427]\t 1.4800107916902898\t 1.4105425145194488\t -1.7704719935338016\n",
            "4  \t [ 0.70414078  2.04698586 11.          0.5634257   2.          0.52082803]\t 1.4757367789923765\t 1.4105425145194488\t -1.7758078576622187\n",
            "5  \t [9.34074398 3.48607433 6.         0.59796044 1.         0.11041165]\t 1.5964218065354963\t 1.4105425145194488\t -1.779351984081028\n",
            "6  \t [ 7.87679298  8.25083643 14.          0.71356449  3.          0.56903658]\t 1.4733445570805848\t 1.4105425145194488\t -1.7973790085167507\n",
            "\u001b[1m\u001b[92m7\u001b[0m\t \u001b[1m\u001b[92m[ 2.52610726  7.71657473  9.          0.51383465 10.          0.96513059]\u001b[0m\t \u001b[1m\u001b[92m1.383537208491245\u001b[0m\t \u001b[1m\u001b[92m1.383537208491245\u001b[0m\t \u001b[1m\u001b[92m-1.7982912592193852\u001b[0m\n",
            "8  \t [ 7.94267027  0.16633971 11.          0.65978332  7.          0.74678031]\t 1.4193233171365616\t 1.383537208491245\t -1.789109562577769\n",
            "9  \t [ 9.36861202  8.8739177  11.          0.71445639 12.          0.63136983]\t 1.4139355563733422\t 1.383537208491245\t -1.7870641556715194\n",
            "10 \t [3.75050384 0.1426068  6.         0.52249964 4.         0.83516683]\t 1.4245949815809194\t 1.383537208491245\t -1.7812055441799073\n",
            "11 \t [ 9.82770084  6.4180425   6.          0.84399179 19.          0.37776071]\t 1.4793271209119923\t 1.383537208491245\t -1.7790572492961545\n",
            "\u001b[1m\u001b[92m12\u001b[0m\t \u001b[1m\u001b[92m[ 4.28694646  3.8198199  14.          0.56546899  8.          0.99873632]\u001b[0m\t \u001b[1m\u001b[92m1.3773657567500626\u001b[0m\t \u001b[1m\u001b[92m1.3773657567500626\u001b[0m\t \u001b[1m\u001b[92m-1.7807512855397887\u001b[0m\n",
            "13 \t [ 0.75081967  8.03973665 13.          0.75690558  1.          0.27310751]\t 1.5554661880646783\t 1.3773657567500626\t -1.7762807448184297\n",
            "14 \t [ 9.67340161  7.84567778 14.          0.51147098 18.          0.22514517]\t 1.5989562044654715\t 1.3773657567500626\t -1.783685187191383\n",
            "15 \t [ 5.30695621  6.15886912  5.          0.79620428 15.          0.5192458 ]\t 1.4769424770417907\t 1.3773657567500626\t -1.7933080027561712\n",
            "16 \t [4.8041921  4.06620309 5.         0.94317975 9.         0.20395595]\t 1.5949046754923262\t 1.3773657567500626\t -1.7937463617765506\n",
            "17 \t [ 9.97719446  1.10739925 13.          0.89868753 12.          0.10655377]\t 1.59537586119071\t 1.3773657567500626\t -1.8017800698428734\n",
            "18 \t [ 0.91443622  8.83534239 14.          0.50719962 10.          0.85652113]\t 1.4168457501728757\t 1.3773657567500626\t -1.8097933496491345\n",
            "19 \t [9.1689709  8.67069462 6.         0.8799734  8.         0.25184132]\t 1.545229064600043\t 1.3773657567500626\t -1.806617423893667\n",
            "20 \t [ 9.44316164  1.07746359  5.          0.83551366 11.          0.24567044]\t 1.5951489958865905\t 1.3773657567500626\t -1.8053553775588975\n",
            "21 \t [ 0.         10.         10.72502993  1.         13.88282419  0.60128704]\t 1.4296602598598978\t 1.3773657567500626\t -1.8115503570973825\n",
            "22 \t [10.          2.60925678 14.99765805  0.5        18.00003782  0.1       ]\t 1.598597475113095\t 1.3773657567500626\t -1.8092467946010837\n",
            "23 \t [8.2779159  9.28451491 7.         0.92154683 1.         0.72067323]\t 1.4171595960406376\t 1.3773657567500626\t -1.8144643327455237\n",
            "\u001b[1m\u001b[92m24\u001b[0m\t \u001b[1m\u001b[92m[ 3.91161173  0.         15.          1.          2.          1.        ]\u001b[0m\t \u001b[1m\u001b[92m1.3608249330936437\u001b[0m\t \u001b[1m\u001b[92m1.3608249330936437\u001b[0m\t \u001b[1m\u001b[92m-1.8122096248997919\u001b[0m\n",
            "\u001b[1m\u001b[92m25\u001b[0m\t \u001b[1m\u001b[92m[ 4.46169132  0.20488325 14.92186964  0.9748195  20.          1.        ]\u001b[0m\t \u001b[1m\u001b[92m1.3596398067073712\u001b[0m\t \u001b[1m\u001b[92m1.3596398067073712\u001b[0m\t \u001b[1m\u001b[92m-1.8073652676570926\u001b[0m\n",
            "26 \t [3.98230746 5.70682087 9.         0.57495338 4.         0.36703975]\t 1.5500454141184397\t 1.3596398067073712\t -1.8027881235792724\n",
            "27 \t [ 6.97509127  1.31871369 10.42784565  1.          1.          0.1       ]\t 1.5954336301843728\t 1.3596398067073712\t -1.8059641232288144\n",
            "28 \t [ 6.55880895  9.56418377 10.          0.86156763  6.          0.14003861]\t 1.5968327829520241\t 1.3596398067073712\t -1.8144513195040612\n",
            "29 \t [ 0.08877718  3.32685606 10.11719254  0.67064975 11.10304748  0.95998047]\t 1.3763773574810512\t 1.3596398067073712\t -1.8153694949683252\n",
            "30 \t [ 9.93458855  0.93006995  5.          0.95849735 19.          0.93515171]\t 1.4136861457894945\t 1.3596398067073712\t -1.811675627677858\n"
          ]
        },
        {
          "output_type": "execute_result",
          "data": {
            "text/plain": [
              "51195.87155376717"
            ]
          },
          "metadata": {},
          "execution_count": 30
        }
      ]
    },
    {
      "cell_type": "code",
      "metadata": {
        "id": "g_nP9lQjUztV",
        "colab": {
          "base_uri": "https://localhost:8080/"
        },
        "outputId": "e880bea6-7dae-4124-ab6f-cfcbdba666d5"
      },
      "source": [
        "### Bayesian optimization runs (x20): 'gp' Acquisition Function run number = 12\n",
        "\n",
        "np.random.seed(run_num_12)\n",
        "surrogate_gp_12 = GaussianProcess(cov_func, optimize=opt)\n",
        "\n",
        "X_train12, X_test12, y_train12, y_test12 = train_test_split(X, y, test_size=test_perc, random_state=run_num_12)\n",
        "\n",
        "def f_syn_polarity12(alpha, gamma, max_depth, subsample, min_child_weight, colsample):\n",
        "    reg = XGBRegressor(reg_alpha=alpha, gamma=gamma, max_depth=int(max_depth), subsample=subsample, min_child_weight=min_child_weight,\n",
        "          colsample_bytree=colsample, n_estimators = n_est, random_state=run_num_12, objective = 'reg:squarederror')\n",
        "    score = np.array(cross_val_score(reg, X=X_train12, y=y_train12).mean())\n",
        "    return operator * score\n",
        "\n",
        "gp_12 = GPGO_multi(surrogate_gp_12, Acquisition_new(util_gp), f_syn_polarity12, param, n_jobs = -1) # define BayesOpt\n",
        "gp_12.run(max_iter = max_iter, init_evals = n_init) # run\n",
        "\n",
        "### Return optimal parameters' set:\n",
        "params_gp_12 = gp_12.getResult()[0]\n",
        "params_gp_12['max_depth'] = int(params_gp_12['max_depth'])\n",
        "params_gp_12['min_child_weight'] = int(params_gp_12['min_child_weight'])\n",
        "\n",
        "### Re-train with optimal parameters, run predictons:\n",
        "dX_gp_train12 = xgb.DMatrix(X_train12, y_train12)\n",
        "dX_gp_test12 = xgb.DMatrix(X_test12, y_test12)\n",
        "model_gp_12 = xgb.train(params_gp_12, dX_gp_train12)\n",
        "pred_gp_12 = model_gp_12.predict(dX_gp_test12)\n",
        "\n",
        "rmse_gp_12 = np.sqrt(mean_squared_error(pred_gp_12, y_test12))\n",
        "rmse_gp_12"
      ],
      "execution_count": 31,
      "outputs": [
        {
          "output_type": "stream",
          "name": "stdout",
          "text": [
            "Evaluation \t Proposed point \t  Current eval. \t  Best eval. \t Min. ApproxAcqFunc \n",
            "init\t [1.54162842 7.40049697 6.         0.54321714 4.         0.11311747]\t 1.6495881989170076\t 1.4161885061290391\t    \n",
            "init\t [ 9.18747008  9.00714854 14.          0.97847467 11.          0.35544552]\t 1.5149964971320231\t 1.4161885061290391\t    \n",
            "init\t [ 6.06083184  9.44225136 14.          0.95626942  5.          0.56910342]\t 1.4459275331997625\t 1.4161885061290391\t    \n",
            "init\t [ 5.52037633  4.85377414  7.          0.97886436 17.          0.78810441]\t 1.4161885061290391\t 1.4161885061290391\t    \n",
            "init\t [ 0.20809798  1.35210178  5.          0.65494879 16.          0.36062811]\t 1.527260055706503\t 1.4161885061290391\t    \n",
            "\u001b[1m\u001b[92m1\u001b[0m\t \u001b[1m\u001b[92m[7.9625576  2.91107495 9.         0.77382625 8.         0.70200131]\u001b[0m\t \u001b[1m\u001b[92m1.409410634086002\u001b[0m\t \u001b[1m\u001b[92m1.409410634086002\u001b[0m\t \u001b[1m\u001b[92m-1.8529839232915046\u001b[0m\n",
            "2  \t [ 7.48458025  0.82585105 14.          0.62666135 18.          0.34757206]\t 1.517589988143961\t 1.409410634086002\t -1.832458428800855\n",
            "3  \t [ 6.04389277  8.2731096   8.          0.76188805 10.          0.47796529]\t 1.513608797691598\t 1.409410634086002\t -1.8362245583649648\n",
            "4  \t [ 5.4714893   0.18448238 12.          0.6963664   1.          0.8490031 ]\t 1.4123866163784542\t 1.409410634086002\t -1.8384292923476497\n",
            "\u001b[1m\u001b[92m5\u001b[0m\t \u001b[1m\u001b[92m[ 0.69702541  0.81349796 11.          0.61926511  9.          0.96325174]\u001b[0m\t \u001b[1m\u001b[92m1.406014729764571\u001b[0m\t \u001b[1m\u001b[92m1.406014729764571\u001b[0m\t \u001b[1m\u001b[92m-1.8266791383305256\u001b[0m\n",
            "\u001b[1m\u001b[92m6\u001b[0m\t \u001b[1m\u001b[92m[ 0.0339385   7.02895688 14.          0.97500121 13.          0.6731866 ]\u001b[0m\t \u001b[1m\u001b[92m1.4026141271801849\u001b[0m\t \u001b[1m\u001b[92m1.4026141271801849\u001b[0m\t \u001b[1m\u001b[92m-1.8164837034354515\u001b[0m\n",
            "7  \t [ 6.50776093  9.45362814  6.          0.83823481 13.          0.15010617]\t 1.649226833344094\t 1.4026141271801849\t -1.807738990838693\n",
            "8  \t [9.4784156  9.00325816 7.         0.60328721 3.         0.24203563]\t 1.6480612564501556\t 1.4026141271801849\t -1.8260366825992462\n",
            "9  \t [ 8.92040797  9.99421763 13.          0.88657464 18.          0.32294618]\t 1.5139034805196139\t 1.4026141271801849\t -1.8417631603923825\n",
            "10 \t [ 3.78107951  0.45942362 10.          0.50753562 14.          0.98062991]\t 1.4104977937785017\t 1.4026141271801849\t -1.8426645025417963\n",
            "11 \t [ 1.32389772  1.88128259 14.          0.70199722 19.          0.72549664]\t 1.4078950160271566\t 1.4026141271801849\t -1.8352352883475869\n",
            "12 \t [4.95914531 0.87379526 5.         0.9944488  1.         0.26445681]\t 1.5251501376530592\t 1.4026141271801849\t -1.8285323653260253\n",
            "13 \t [ 1.01765561  9.76746333 10.          0.9882428  18.          0.40124499]\t 1.5049015125256244\t 1.4026141271801849\t -1.830887954645587\n",
            "14 \t [ 6.95690553  1.11504601 14.          0.90956566 11.          0.39724356]\t 1.5080936324470708\t 1.4026141271801849\t -1.8315566743230682\n",
            "15 \t [ 3.8544074   5.22723842 10.          0.76354194  1.          0.13710805]\t 1.6473335930466881\t 1.4026141271801849\t -1.832313154514502\n",
            "16 \t [3.63661221 0.         5.         1.         8.78610408 0.1       ]\t 1.6254831217638004\t 1.4026141271801849\t -1.8420366238494275\n",
            "17 \t [ 9.34378325  4.79363583 14.          0.62892856  1.          0.2415206 ]\t 1.6474508726610302\t 1.4026141271801849\t -1.8494156127089214\n",
            "18 \t [ 9.11514845  0.79459143  5.          0.85119403 13.          0.30969841]\t 1.5261753574091093\t 1.4026141271801849\t -1.8574079582518441\n",
            "19 \t [ 1.77596586  6.40303748  5.          0.61072248 10.          0.62396354]\t 1.4912738619819021\t 1.4026141271801849\t -1.8578557231094364\n",
            "20 \t [ 9.06259994  1.4172751   5.          0.81347212 19.          0.38881712]\t 1.5233866258575794\t 1.4026141271801849\t -1.8565211034727491\n",
            "21 \t [0.46374332 2.13973159 8.         0.73785109 4.         0.46524962]\t 1.5122481894096702\t 1.4026141271801849\t -1.856973079252583\n",
            "22 \t [ 9.05680425  5.34157195 11.          0.80134643 14.          0.68604974]\t 1.407221010946051\t 1.4026141271801849\t -1.8568014079807107\n",
            "23 \t [ 0.35602419  8.99687615 13.          0.52225274  3.          0.79055286]\t 1.42215645978951\t 1.4026141271801849\t -1.852034897466961\n",
            "24 \t [9.95692411 0.72746891 5.         0.74108711 5.         0.48488607]\t 1.5252184915134754\t 1.4026141271801849\t -1.8481517758213397\n",
            "25 \t [ 4.81980801  8.04380545  9.          0.68757512 16.          0.40912217]\t 1.5097676101072817\t 1.4026141271801849\t -1.8488954584155983\n",
            "26 \t [ 9.70390773  9.20905541  6.          0.82428763 17.          0.99567691]\t 1.4225214560097137\t 1.4026141271801849\t -1.8489082442569793\n",
            "27 \t [ 3.2298558   4.89293479 14.          0.58682418  8.          0.31120241]\t 1.5183971974597594\t 1.4026141271801849\t -1.8455010901863642\n",
            "28 \t [ 0.41206951  3.61081164  8.          0.98937155 13.          0.93137083]\t 1.4029097153119352\t 1.4026141271801849\t -1.846000167057351\n",
            "\u001b[1m\u001b[92m29\u001b[0m\t \u001b[1m\u001b[92m[ 0.         10.          8.42893577  1.          8.18032167  1.        ]\u001b[0m\t \u001b[1m\u001b[92m1.3832230514560977\u001b[0m\t \u001b[1m\u001b[92m1.3832230514560977\u001b[0m\t \u001b[1m\u001b[92m-1.8422056445283672\u001b[0m\n",
            "30 \t [ 9.89124924  0.9533051  10.          0.92556905  1.          0.29365666]\t 1.5169932034392744\t 1.3832230514560977\t -1.8380694203987846\n"
          ]
        },
        {
          "output_type": "execute_result",
          "data": {
            "text/plain": [
              "53507.35227234975"
            ]
          },
          "metadata": {},
          "execution_count": 31
        }
      ]
    },
    {
      "cell_type": "code",
      "metadata": {
        "id": "yDI2Bi9vU05U",
        "colab": {
          "base_uri": "https://localhost:8080/"
        },
        "outputId": "599592d5-690b-4c0c-9d7e-381687c71563"
      },
      "source": [
        "### Bayesian optimization runs (x20): 'gp' Acquisition Function run number = 13\n",
        "\n",
        "np.random.seed(run_num_13)\n",
        "surrogate_gp_13 = GaussianProcess(cov_func, optimize=opt)\n",
        "\n",
        "X_train13, X_test13, y_train13, y_test13 = train_test_split(X, y, test_size=test_perc, random_state=run_num_13)\n",
        "\n",
        "def f_syn_polarity13(alpha, gamma, max_depth, subsample, min_child_weight, colsample):\n",
        "    reg = XGBRegressor(reg_alpha=alpha, gamma=gamma, max_depth=int(max_depth), subsample=subsample, min_child_weight=min_child_weight,\n",
        "          colsample_bytree=colsample, n_estimators = n_est, random_state=run_num_13, objective = 'reg:squarederror')\n",
        "    score = np.array(cross_val_score(reg, X=X_train13, y=y_train13).mean())\n",
        "    return operator * score\n",
        "\n",
        "gp_13 = GPGO_multi(surrogate_gp_13, Acquisition_new(util_gp), f_syn_polarity13, param, n_jobs = -1) # define BayesOpt\n",
        "gp_13.run(max_iter = max_iter, init_evals = n_init) # run\n",
        "\n",
        "### Return optimal parameters' set:\n",
        "params_gp_13 = gp_13.getResult()[0]\n",
        "params_gp_13['max_depth'] = int(params_gp_13['max_depth'])\n",
        "params_gp_13['min_child_weight'] = int(params_gp_13['min_child_weight'])\n",
        "\n",
        "### Re-train with optimal parameters, run predictons:\n",
        "dX_gp_train13 = xgb.DMatrix(X_train13, y_train13)\n",
        "dX_gp_test13 = xgb.DMatrix(X_test13, y_test13)\n",
        "model_gp_13 = xgb.train(params_gp_13, dX_gp_train13)\n",
        "pred_gp_13 = model_gp_13.predict(dX_gp_test13)\n",
        "\n",
        "rmse_gp_13 = np.sqrt(mean_squared_error(pred_gp_13, y_test13))\n",
        "rmse_gp_13"
      ],
      "execution_count": 32,
      "outputs": [
        {
          "output_type": "stream",
          "name": "stdout",
          "text": [
            "Evaluation \t Proposed point \t  Current eval. \t  Best eval. \t Min. ApproxAcqFunc \n",
            "init\t [ 7.77702411  2.3754122  11.          0.94649135 13.          0.7827256 ]\t 1.3814631927491285\t 1.3814631927491285\t    \n",
            "init\t [ 7.51661514  6.07343344 11.          0.69402149 11.          0.13153287]\t 1.6959297564173816\t 1.3814631927491285\t    \n",
            "init\t [ 2.98449471  0.58512492 10.          0.73579614 12.          0.33065195]\t 1.5246886192220386\t 1.3814631927491285\t    \n",
            "init\t [ 3.47581215  0.0941277  11.          0.86143432  8.          0.58454932]\t 1.4185759644827896\t 1.3814631927491285\t    \n",
            "init\t [ 4.70137857  6.24432527 10.          0.8149145  18.          0.10784416]\t 1.6944183605438403\t 1.3814631927491285\t    \n",
            "1  \t [1.51786663 9.25994479 9.         0.99792981 2.         0.61199673]\t 1.4182805465760875\t 1.3814631927491285\t -1.8967599092136285\n",
            "2  \t [ 1.27154032  7.56256657  5.          0.85984573 12.          0.61608824]\t 1.4557863519809522\t 1.3814631927491285\t -1.8710192562278127\n",
            "3  \t [ 8.98888343  8.3187307  12.          0.8674744   2.          0.79321204]\t 1.3887986537394084\t 1.3814631927491285\t -1.8586172153773226\n",
            "4  \t [0.34532706 2.38413801 5.         0.94284894 1.         0.98543937]\t 1.4327736454576214\t 1.3814631927491285\t -1.839718186508533\n",
            "5  \t [9.52796793 0.5269077  7.         0.61130342 2.         0.41024487]\t 1.4789137590229775\t 1.3814631927491285\t -1.8287431748861198\n",
            "6  \t [ 0.44140833  9.99845706 12.          0.61812596  8.          0.51462478]\t 1.4268123022223846\t 1.3814631927491285\t -1.8286198813509185\n",
            "7  \t [ 8.94505383  1.00558767  5.          0.99962019 19.          0.43410173]\t 1.4812283883995072\t 1.3814631927491285\t -1.8213680745134024\n",
            "8  \t [ 0.56153062  1.99964994 12.          0.65527832 19.          0.67862516]\t 1.4063424857045743\t 1.3814631927491285\t -1.8207889460256725\n",
            "9  \t [4.96158795 6.35435152 5.         0.67931993 6.         0.1621097 ]\t 1.6957188517190218\t 1.3814631927491285\t -1.8133940486890536\n",
            "10 \t [ 8.38910357  0.27114196  5.          0.90992968 11.          0.45867394]\t 1.4812605171281672\t 1.3814631927491285\t -1.8334775441722257\n",
            "11 \t [ 9.38213058  0.26740901 13.          0.70746928  1.          0.76298887]\t 1.3941246107285243\t 1.3814631927491285\t -1.8321902406575916\n",
            "12 \t [ 2.93105974  0.4140127   6.          0.50258505 18.          0.71892731]\t 1.4251690820715797\t 1.3814631927491285\t -1.8246184140561335\n",
            "13 \t [9.92248648 8.73301847 7.         0.58578431 6.         0.64802898]\t 1.4174299532209118\t 1.3814631927491285\t -1.8200833006339288\n",
            "14 \t [ 0.0157235   5.14659962 12.          0.6923298   5.          0.74660792]\t 1.4073962720629873\t 1.3814631927491285\t -1.8155200378648622\n",
            "15 \t [ 3.62200419  8.59769591 14.          0.67923449 14.          0.51036563]\t 1.4237994042582744\t 1.3814631927491285\t -1.810803523788257\n",
            "16 \t [ 8.39231109  0.32510731 14.          0.5902879  19.          0.62232309]\t 1.4257643908203304\t 1.3814631927491285\t -1.807512052831413\n",
            "17 \t [ 9.9813754   6.89643173  7.          0.53636524 15.          0.99355167]\t 1.4073926741061291\t 1.3814631927491285\t -1.8046139875195497\n",
            "18 \t [ 3.66950777  2.09767152 12.          0.6868511   1.          0.86175612]\t 1.3961219947352759\t 1.3814631927491285\t -1.801026227860945\n",
            "19 \t [ 8.7887824   2.49224144 14.          0.80068579  6.          0.65307097]\t 1.4031849039712594\t 1.3814631927491285\t -1.7971727360703182\n",
            "20 \t [5.27756539 0.6704519  6.         0.600451   6.         0.97020566]\t 1.4141803817878542\t 1.3814631927491285\t -1.7939651280636348\n",
            "21 \t [10.         10.         13.33472571  0.5         8.27284668  0.1       ]\t 1.695344165805015\t 1.3814631927491285\t -1.791519640476099\n",
            "22 \t [ 9.29559815  8.61035946 12.40663291  0.86365582 18.00032453  0.32012958]\t 1.5253338822020122\t 1.3814631927491285\t -1.8032994214301985\n",
            "23 \t [10.         7.0468879  5.         1.         1.         1.       ]\t 1.4200486186775376\t 1.3814631927491285\t -1.805748357394498\n",
            "24 \t [ 3.99943306 10.         14.05315941  0.5        20.          1.        ]\t 1.38409694068637\t 1.3814631927491285\t -1.80339996641327\n",
            "25 \t [ 2.77058894  5.82500764 14.49169084  1.          8.8214722   0.1       ]\t 1.6068809205835486\t 1.3814631927491285\t -1.799786414737545\n",
            "26 \t [10.          0.         15.          0.5        11.85297494  0.1       ]\t 1.6949665011546728\t 1.3814631927491285\t -1.8056526629090461\n",
            "27 \t [ 9.42914155  3.96919443 10.13307304  0.5        20.          1.        ]\t 1.3850490583729793\t 1.3814631927491285\t -1.8149977245522795\n",
            "28 \t [0.16265397 3.34784586 7.         0.83142883 6.         0.73041802]\t 1.414755705783063\t 1.3814631927491285\t -1.8114132402692797\n",
            "29 \t [ 4.35630854  9.60505827  8.          0.69983138 14.          0.8944513 ]\t 1.3958492896456711\t 1.3814631927491285\t -1.8090787192336482\n",
            "30 \t [ 0.95347999  7.32930774  6.          0.74056424 19.          0.75347876]\t 1.417364122725046\t 1.3814631927491285\t -1.806237020637274\n"
          ]
        },
        {
          "output_type": "execute_result",
          "data": {
            "text/plain": [
              "49640.64566227302"
            ]
          },
          "metadata": {},
          "execution_count": 32
        }
      ]
    },
    {
      "cell_type": "code",
      "metadata": {
        "id": "Z2F_Q194U3uu",
        "colab": {
          "base_uri": "https://localhost:8080/"
        },
        "outputId": "f2960bd5-2f3b-41f3-daae-5e3186c48f35"
      },
      "source": [
        "### Bayesian optimization runs (x20): 'gp' Acquisition Function run number = 14\n",
        "\n",
        "np.random.seed(run_num_14)\n",
        "surrogate_gp_14 = GaussianProcess(cov_func, optimize=opt)\n",
        "\n",
        "X_train14, X_test14, y_train14, y_test14 = train_test_split(X, y, test_size=test_perc, random_state=run_num_14)\n",
        "\n",
        "def f_syn_polarity14(alpha, gamma, max_depth, subsample, min_child_weight, colsample):\n",
        "    reg = XGBRegressor(reg_alpha=alpha, gamma=gamma, max_depth=int(max_depth), subsample=subsample, min_child_weight=min_child_weight,\n",
        "          colsample_bytree=colsample, n_estimators = n_est, random_state=run_num_14, objective = 'reg:squarederror')\n",
        "    score = np.array(cross_val_score(reg, X=X_train14, y=y_train14).mean())\n",
        "    return operator * score\n",
        "\n",
        "gp_14 = GPGO_multi(surrogate_gp_14, Acquisition_new(util_gp), f_syn_polarity14, param, n_jobs = -1) # define BayesOpt\n",
        "gp_14.run(max_iter = max_iter, init_evals = n_init) # run\n",
        "\n",
        "### Return optimal parameters' set:\n",
        "params_gp_14 = gp_14.getResult()[0]\n",
        "params_gp_14['max_depth'] = int(params_gp_14['max_depth'])\n",
        "params_gp_14['min_child_weight'] = int(params_gp_14['min_child_weight'])\n",
        "\n",
        "### Re-train with optimal parameters, run predictons:\n",
        "dX_gp_train14 = xgb.DMatrix(X_train14, y_train14)\n",
        "dX_gp_test14 = xgb.DMatrix(X_test14, y_test14)\n",
        "model_gp_14 = xgb.train(params_gp_14, dX_gp_train14)\n",
        "pred_gp_14 = model_gp_14.predict(dX_gp_test14)\n",
        "\n",
        "rmse_gp_14 = np.sqrt(mean_squared_error(pred_gp_14, y_test14))\n",
        "rmse_gp_14"
      ],
      "execution_count": 33,
      "outputs": [
        {
          "output_type": "stream",
          "name": "stdout",
          "text": [
            "Evaluation \t Proposed point \t  Current eval. \t  Best eval. \t Min. ApproxAcqFunc \n",
            "init\t [ 5.13943344  7.73165052 12.          0.6831412  11.          0.37876233]\t 1.5555798623190729\t 1.4024696810470139\t    \n",
            "init\t [ 9.57603739  5.13116712 14.          0.76959997 12.          0.71328228]\t 1.4192714165556448\t 1.4024696810470139\t    \n",
            "init\t [5.34950319 2.47493539 5.         0.50293689 6.         0.29706373]\t 1.6043764718675084\t 1.4024696810470139\t    \n",
            "init\t [ 2.94506579  3.45329697  8.          0.87620946 14.          0.9783044 ]\t 1.4024696810470139\t 1.4024696810470139\t    \n",
            "init\t [ 1.11811929  1.73004086  5.          0.73745288 12.          0.20586008]\t 1.6112248980856712\t 1.4024696810470139\t    \n",
            "1  \t [ 6.50637223  2.67617722 14.          0.53562507  1.          0.16862152]\t 1.6022414457029215\t 1.4024696810470139\t -1.863127309757673\n",
            "2  \t [ 0.29696043  9.99380579 13.          0.87648025 18.          0.42612247]\t 1.5512556972721199\t 1.4024696810470139\t -1.8800468899327705\n",
            "3  \t [0.4633694  8.96469791 7.         0.7019683  7.         0.61792232]\t 1.4656735408760622\t 1.4024696810470139\t -1.8828989903367175\n",
            "4  \t [ 9.23821746  8.98437789  6.          0.6533269  16.          0.82345349]\t 1.428860677568213\t 1.4024696810470139\t -1.8721439704043086\n",
            "5  \t [ 3.89991051  0.11360989 13.          0.79478603  8.          0.34546499]\t 1.58916377359964\t 1.4024696810470139\t -1.8589685383235166\n",
            "6  \t [ 0.39618401  7.35285202 13.          0.73313997  1.          0.71568965]\t 1.4272280804606938\t 1.4024696810470139\t -1.867880276444173\n",
            "7  \t [7.65430302 9.7721851  5.         0.66127021 8.         0.89349836]\t 1.4311855693389988\t 1.4024696810470139\t -1.8573070572353032\n",
            "8  \t [ 1.12721276  8.9104593   5.          0.90766548 19.          0.43148209]\t 1.5747578286592714\t 1.4024696810470139\t -1.848821233379904\n",
            "9  \t [8.63504229 8.56899791 8.         0.55511364 1.         0.90245096]\t 1.4109002809156894\t 1.4024696810470139\t -1.8550897125112304\n",
            "10 \t [ 6.91640934  0.42117183 12.          0.52330119 18.          0.69145372]\t 1.4222860844647272\t 1.4024696810470139\t -1.8463028481302355\n",
            "11 \t [ 9.42036191  0.24276896  7.          0.78342858 15.          0.49978096]\t 1.5587666434826961\t 1.4024696810470139\t -1.8395293041708438\n",
            "12 \t [ 4.17679297  9.93263668 14.          0.80854532  5.          0.52091746]\t 1.4619151050962818\t 1.4024696810470139\t -1.8439517729316472\n",
            "13 \t [9.71402251 3.49303724 9.         0.55108445 5.         0.92582605]\t 1.4070565948252503\t 1.4024696810470139\t -1.84084681553934\n",
            "14 \t [0.67859124 3.14599852 8.         0.51257371 1.         0.32555625]\t 1.591652660225934\t 1.4024696810470139\t -1.8345143479835946\n",
            "15 \t [ 8.96413432  7.32165604 12.          0.63487038 19.          0.69050857]\t 1.419066520014614\t 1.4024696810470139\t -1.8407079074770736\n",
            "16 \t [ 0.35253838  3.19203429 13.          0.84552879 19.          0.59366202]\t 1.4581572207812874\t 1.4024696810470139\t -1.8357398891443109\n",
            "17 \t [ 1.33322728  0.65370528 14.          0.58586315 14.          0.29035065]\t 1.5880135636818333\t 1.4024696810470139\t -1.833392848939051\n",
            "18 \t [ 9.22967528  4.30427141  6.          0.79820033 11.          0.89526946]\t 1.420972623843777\t 1.4024696810470139\t -1.8386117069167773\n",
            "19 \t [ 9.19469489  7.95556046 14.          0.59072797  2.          0.14898519]\t 1.6020810827814063\t 1.4024696810470139\t -1.8344480324639723\n",
            "20 \t [ 5.79512459  4.19585088  8.          0.52218555 18.          0.32418073]\t 1.5890345587603956\t 1.4024696810470139\t -1.8399457374043522\n",
            "21 \t [ 0.14758403  7.48677473 15.          0.5         7.30077924  0.1       ]\t 1.6010804565956291\t 1.4024696810470139\t -1.8443089758701854\n",
            "22 \t [ 7.28950016  0.12421558 12.          0.8238922  12.          0.64455285]\t 1.4156831773220098\t 1.4024696810470139\t -1.8489307909965165\n",
            "23 \t [3.93459841 8.46767954 5.         0.86837551 3.         0.67826473]\t 1.439111839206602\t 1.4024696810470139\t -1.8447982058577264\n",
            "24 \t [ 7.06608164  5.9784511   6.          0.67144118 16.          0.45163298]\t 1.566643006691809\t 1.4024696810470139\t -1.8419238046113464\n",
            "25 \t [ 3.84295068  9.88181502  7.          0.59323044 13.          0.12741355]\t 1.6036112700507963\t 1.4024696810470139\t -1.8446199014347269\n",
            "26 \t [ 4.28045491  4.57758147 10.          0.84218871  7.          0.46335558]\t 1.5545299663527248\t 1.4024696810470139\t -1.84842728610574\n",
            "27 \t [10.          3.97982844  5.          1.         20.          1.        ]\t 1.424521972724551\t 1.4024696810470139\t -1.8502426894604564\n",
            "\u001b[1m\u001b[92m28\u001b[0m\t \u001b[1m\u001b[92m[ 0.          5.2057112  11.46199067  0.5        10.42364523  1.        ]\u001b[0m\t \u001b[1m\u001b[92m1.3842919713088757\u001b[0m\t \u001b[1m\u001b[92m1.3842919713088757\u001b[0m\t \u001b[1m\u001b[92m-1.8469136150008674\u001b[0m\n",
            "29 \t [10.         10.          9.46361847  0.5         9.88348515  1.        ]\t 1.3862386446174646\t 1.3842919713088757\t -1.8425309476597986\n",
            "30 \t [6.0128381  0.33012995 6.         0.9744922  1.         0.20588445]\t 1.6089938965150665\t 1.3842919713088757\t -1.8385247709835895\n"
          ]
        },
        {
          "output_type": "execute_result",
          "data": {
            "text/plain": [
              "53373.16780228382"
            ]
          },
          "metadata": {},
          "execution_count": 33
        }
      ]
    },
    {
      "cell_type": "code",
      "metadata": {
        "id": "Po5wImJaU6VC",
        "colab": {
          "base_uri": "https://localhost:8080/"
        },
        "outputId": "0b67b3de-16ff-4031-b844-8f8b5960174d"
      },
      "source": [
        "### Bayesian optimization runs (x20): 'gp' Acquisition Function run number = 15\n",
        "\n",
        "np.random.seed(run_num_15)\n",
        "surrogate_gp_15 = GaussianProcess(cov_func, optimize=opt)\n",
        "\n",
        "X_train15, X_test15, y_train15, y_test15 = train_test_split(X, y, test_size=test_perc, random_state=run_num_15)\n",
        "\n",
        "def f_syn_polarity15(alpha, gamma, max_depth, subsample, min_child_weight, colsample):\n",
        "    reg = XGBRegressor(reg_alpha=alpha, gamma=gamma, max_depth=int(max_depth), subsample=subsample, min_child_weight=min_child_weight,\n",
        "          colsample_bytree=colsample, n_estimators = n_est, random_state=run_num_15, objective = 'reg:squarederror')\n",
        "    score = np.array(cross_val_score(reg, X=X_train15, y=y_train15).mean())\n",
        "    return operator * score\n",
        "\n",
        "gp_15 = GPGO_multi(surrogate_gp_15, Acquisition_new(util_gp), f_syn_polarity15, param, n_jobs = -1) # define BayesOpt\n",
        "gp_15.run(max_iter = max_iter, init_evals = n_init) # run\n",
        "\n",
        "### Return optimal parameters' set:\n",
        "params_gp_15 = gp_15.getResult()[0]\n",
        "params_gp_15['max_depth'] = int(params_gp_15['max_depth'])\n",
        "params_gp_15['min_child_weight'] = int(params_gp_15['min_child_weight'])\n",
        "\n",
        "### Re-train with optimal parameters, run predictons:\n",
        "dX_gp_train15 = xgb.DMatrix(X_train15, y_train15)\n",
        "dX_gp_test15 = xgb.DMatrix(X_test15, y_test15)\n",
        "model_gp_15 = xgb.train(params_gp_15, dX_gp_train15)\n",
        "pred_gp_15 = model_gp_15.predict(dX_gp_test15)\n",
        "\n",
        "rmse_gp_15 = np.sqrt(mean_squared_error(pred_gp_15, y_test15))\n",
        "rmse_gp_15"
      ],
      "execution_count": 34,
      "outputs": [
        {
          "output_type": "stream",
          "name": "stdout",
          "text": [
            "Evaluation \t Proposed point \t  Current eval. \t  Best eval. \t Min. ApproxAcqFunc \n",
            "init\t [ 8.48817697  1.78895925 12.          0.55549316  8.          0.93397854]\t 1.376451715987612\t 1.376451715987612\t    \n",
            "init\t [ 0.24953032  8.22298097 12.          0.62494951 11.          0.12924598]\t 1.5659547455717522\t 1.376451715987612\t    \n",
            "init\t [ 5.02017228  5.50882771 11.          0.85295832 19.          0.13548008]\t 1.5651600836199522\t 1.376451715987612\t    \n",
            "init\t [2.0023081  9.98543403 7.         0.6295772  2.         0.526127  ]\t 1.4164354656135685\t 1.376451715987612\t    \n",
            "init\t [ 5.09715306  9.45038417 11.          0.7388277  16.          0.22739973]\t 1.5662872595805275\t 1.376451715987612\t    \n",
            "1  \t [ 0.29158961  4.9949242  12.          0.89124583  3.          0.67554049]\t 1.3814014024038652\t 1.376451715987612\t -1.8376159820035736\n",
            "2  \t [ 7.80696243  1.09153976  6.          0.81966542 12.          0.83385619]\t 1.4152279843150193\t 1.376451715987612\t -1.8141374651448896\n",
            "3  \t [ 7.00755347  9.83963845  5.          0.51866345 10.          0.95031515]\t 1.4291048394775454\t 1.376451715987612\t -1.802800513958065\n",
            "4  \t [ 3.14954218  0.47444458  5.          0.87893165 19.          0.22543074]\t 1.5692184454860811\t 1.376451715987612\t -1.7963291823079608\n",
            "5  \t [ 8.35356794  9.00845324 14.          0.92661921  1.          0.7098562 ]\t 1.3837607850883586\t 1.376451715987612\t -1.810710731706076\n",
            "\u001b[1m\u001b[92m6\u001b[0m\t \u001b[1m\u001b[92m[ 7.55966197  2.53248797 10.          0.87442591 10.          0.87226019]\u001b[0m\t \u001b[1m\u001b[92m1.3753724658241873\u001b[0m\t \u001b[1m\u001b[92m1.3753724658241873\u001b[0m\t \u001b[1m\u001b[92m-1.7994512110602798\u001b[0m\n",
            "7  \t [ 0.24910482  8.87264495  5.          0.57134022 13.          0.97349921]\t 1.4272485788277047\t 1.3753724658241873\t -1.789305121478226\n",
            "8  \t [9.38728158 4.49701776 6.         0.55264351 2.         0.58314984]\t 1.4364571262619013\t 1.3753724658241873\t -1.7837696538530738\n",
            "9  \t [ 0.16066648  1.52153651  7.          0.50448336 12.          0.22783984]\t 1.5684747744893406\t 1.3753724658241873\t -1.7818934718973272\n",
            "10 \t [2.93790258 0.66169279 5.         0.88318667 1.         0.58969658]\t 1.4564992018962113\t 1.3753724658241873\t -1.7922083635252626\n",
            "11 \t [ 9.93214841  0.81045655 13.          0.86132344 18.          0.14497388]\t 1.5645146263267378\t 1.3753724658241873\t -1.7898177968703068\n",
            "12 \t [ 0.44758083  1.21361479 14.          0.72053858 16.          0.73785377]\t 1.385218241746701\t 1.3753724658241873\t -1.7996952855259991\n",
            "\u001b[1m\u001b[92m13\u001b[0m\t \u001b[1m\u001b[92m[ 7.76649344  1.163194   14.          0.89685392  1.          0.90591323]\u001b[0m\t \u001b[1m\u001b[92m1.3663441257185565\u001b[0m\t \u001b[1m\u001b[92m1.3663441257185565\u001b[0m\t \u001b[1m\u001b[92m-1.7937820303190082\u001b[0m\n",
            "14 \t [3.07415306 0.28675762 8.         0.88771115 6.         0.21245589]\t 1.5649073025918991\t 1.3663441257185565\t -1.7872984499054718\n",
            "15 \t [ 9.08435158  8.60007291  5.          0.62594252 19.          0.18068854]\t 1.5700399493123816\t 1.3663441257185565\t -1.7929821074453607\n",
            "16 \t [ 5.9418952   9.79688876 12.          0.61451595  8.          0.44567276]\t 1.4971869938890976\t 1.3663441257185565\t -1.8010009721890627\n",
            "\u001b[1m\u001b[92m17\u001b[0m\t \u001b[1m\u001b[92m[ 9.83862705  8.94611486 14.          0.93790478 15.          0.92129684]\u001b[0m\t \u001b[1m\u001b[92m1.3622123374707675\u001b[0m\t \u001b[1m\u001b[92m1.3622123374707675\u001b[0m\t \u001b[1m\u001b[92m-1.8023095427506906\u001b[0m\n",
            "18 \t [0.91305119 6.04217722 5.         0.7907823  6.         0.2472183 ]\t 1.5704732151580534\t 1.3622123374707675\t -1.7966832971801778\n",
            "19 \t [ 9.74118184  6.28630606  7.          0.52327167 13.          0.4619448 ]\t 1.5085352298649077\t 1.3622123374707675\t -1.8012896686860933\n",
            "20 \t [6.17277844 5.85344636 9.98506444 0.72194471 1.         0.1       ]\t 1.566920951151836\t 1.3622123374707675\t -1.8042928166834855\n",
            "21 \t [ 1.41127451  0.02455301 14.          0.99438541  9.          0.56009967]\t 1.3787564649943844\t 1.3622123374707675\t -1.8090297562779558\n",
            "22 \t [ 0. 10. 15.  1.  1.  1.]\t 1.3745035921751267\t 1.3622123374707675\t -1.804474494836518\n",
            "23 \t [ 1.59007415  5.04315083  7.          0.82054557 17.          0.57972732]\t 1.4132368990837012\t 1.3622123374707675\t -1.7993833743605392\n",
            "24 \t [ 1.3643359   0.11754087 15.          1.          1.          0.1       ]\t 1.5327997340730632\t 1.3622123374707675\t -1.7977644144867733\n",
            "25 \t [ 1.74870012 10.         15.          0.5        16.00120354  1.        ]\t 1.3838375085715842\t 1.3622123374707675\t -1.800404771564751\n",
            "26 \t [8.44838495 8.71553728 7.         0.93602165 5.         0.30191171]\t 1.5344020988161735\t 1.3622123374707675\t -1.7970681354384161\n",
            "27 \t [ 8.34854134  2.54361711  8.          0.583218   17.          0.40123378]\t 1.5010818891093978\t 1.3622123374707675\t -1.7998498913257366\n",
            "28 \t [8.22300235 0.         8.65735038 0.5        2.16067029 1.        ]\t 1.3912831054469441\t 1.3622123374707675\t -1.8001644089799451\n",
            "29 \t [ 3.70183757  0.         10.15849679  0.5        14.21755162  1.        ]\t 1.383261175343236\t 1.3622123374707675\t -1.7981907570687847\n",
            "30 \t [ 3.99138748  4.55115765 12.27562986  0.5         7.24437061  1.        ]\t 1.3829539893499359\t 1.3622123374707675\t -1.7952233741712145\n"
          ]
        },
        {
          "output_type": "execute_result",
          "data": {
            "text/plain": [
              "49749.7596129125"
            ]
          },
          "metadata": {},
          "execution_count": 34
        }
      ]
    },
    {
      "cell_type": "code",
      "metadata": {
        "id": "9HrAQN-pU9Qo",
        "colab": {
          "base_uri": "https://localhost:8080/"
        },
        "outputId": "91ac93bb-41a4-46f2-ceca-bff74b19ad9b"
      },
      "source": [
        "### Bayesian optimization runs (x20): 'gp' Acquisition Function run number = 16\n",
        "\n",
        "np.random.seed(run_num_16)\n",
        "surrogate_gp_16 = GaussianProcess(cov_func, optimize=opt)\n",
        "\n",
        "X_train16, X_test16, y_train16, y_test16 = train_test_split(X, y, test_size=test_perc, random_state=run_num_16)\n",
        "\n",
        "def f_syn_polarity16(alpha, gamma, max_depth, subsample, min_child_weight, colsample):\n",
        "    reg = XGBRegressor(reg_alpha=alpha, gamma=gamma, max_depth=int(max_depth), subsample=subsample, min_child_weight=min_child_weight,\n",
        "          colsample_bytree=colsample, n_estimators = n_est, random_state=run_num_16, objective = 'reg:squarederror')\n",
        "    score = np.array(cross_val_score(reg, X=X_train16, y=y_train16).mean())\n",
        "    return operator * score\n",
        "\n",
        "gp_16 = GPGO_multi(surrogate_gp_16, Acquisition_new(util_gp), f_syn_polarity16, param, n_jobs = -1) # define BayesOpt\n",
        "gp_16.run(max_iter = max_iter, init_evals = n_init) # run\n",
        "\n",
        "### Return optimal parameters' set:\n",
        "params_gp_16 = gp_16.getResult()[0]\n",
        "params_gp_16['max_depth'] = int(params_gp_16['max_depth'])\n",
        "params_gp_16['min_child_weight'] = int(params_gp_16['min_child_weight'])\n",
        "\n",
        "### Re-train with optimal parameters, run predictons:\n",
        "dX_gp_train16 = xgb.DMatrix(X_train16, y_train16)\n",
        "dX_gp_test16 = xgb.DMatrix(X_test16, y_test16)\n",
        "model_gp_16 = xgb.train(params_gp_16, dX_gp_train16)\n",
        "pred_gp_16 = model_gp_16.predict(dX_gp_test16)\n",
        "\n",
        "rmse_gp_16 = np.sqrt(mean_squared_error(pred_gp_16, y_test16))\n",
        "rmse_gp_16"
      ],
      "execution_count": 35,
      "outputs": [
        {
          "output_type": "stream",
          "name": "stdout",
          "text": [
            "Evaluation \t Proposed point \t  Current eval. \t  Best eval. \t Min. ApproxAcqFunc \n",
            "init\t [2.23291079 5.23163341 6.         0.65430839 5.         0.30077285]\t 1.5445131891906443\t 1.5311877282940682\t    \n",
            "init\t [6.88726162 1.63731425 7.         0.97050543 2.         0.25392012]\t 1.5397173057708042\t 1.5311877282940682\t    \n",
            "init\t [ 5.94328983  5.6393473   5.          0.67602695 19.          0.42538144]\t 1.5311877282940682\t 1.5311877282940682\t    \n",
            "init\t [ 0.88741148  3.08148142 14.          0.56043938  9.          0.27515386]\t 1.545084837896393\t 1.5311877282940682\t    \n",
            "init\t [ 2.74631586  1.30996118 11.          0.52160786  8.          0.27956463]\t 1.5455911570787226\t 1.5311877282940682\t    \n",
            "\u001b[1m\u001b[92m1\u001b[0m\t \u001b[1m\u001b[92m[ 7.8937256   1.5972923  14.          0.61610774 17.          0.78739284]\u001b[0m\t \u001b[1m\u001b[92m1.416411889040415\u001b[0m\t \u001b[1m\u001b[92m1.416411889040415\u001b[0m\t \u001b[1m\u001b[92m-1.887456575656208\u001b[0m\n",
            "2  \t [ 0.78730688  7.98438553 14.          0.91743896 18.          0.25645593]\t 1.5395063210093904\t 1.416411889040415\t -1.8629860767012933\n",
            "3  \t [ 5.11212319  0.44741206  5.          0.8462232  13.          0.83314482]\t 1.4668070771606072\t 1.416411889040415\t -1.8662241469290253\n",
            "4  \t [ 7.83684355  9.59002609 14.          0.81921627  9.          0.43383385]\t 1.5165145600221206\t 1.416411889040415\t -1.8576519395360516\n",
            "5  \t [ 4.26462765  2.3671059  14.          0.97368185  1.          0.5224545 ]\t 1.4815915465986436\t 1.416411889040415\t -1.8575297938053623\n",
            "6  \t [8.14999354 7.05428154 5.         0.87129534 2.         0.95551722]\t 1.4277655209204\t 1.416411889040415\t -1.8533639984176544\n",
            "7  \t [ 5.25575626  8.79062615  5.          0.83652088 12.          0.20368146]\t 1.5587830632519182\t 1.416411889040415\t -1.8440472628168827\n",
            "8  \t [ 1.55055048  9.6010384  13.          0.60603643  2.          0.17582795]\t 1.5580789247877391\t 1.416411889040415\t -1.849576134603982\n",
            "\u001b[1m\u001b[92m9\u001b[0m\t \u001b[1m\u001b[92m[ 8.81111765  9.8725891  11.          0.87267987 17.          0.88838238]\u001b[0m\t \u001b[1m\u001b[92m1.3851325796224274\u001b[0m\t \u001b[1m\u001b[92m1.3851325796224274\u001b[0m\t \u001b[1m\u001b[92m-1.854154476913434\u001b[0m\n",
            "10 \t [ 1.19734526  2.63906072  9.          0.87315169 18.          0.43178665]\t 1.514282916086175\t 1.3851325796224274\t -1.8433528967331532\n",
            "11 \t [9.75856508 5.97737374 9.         0.86398134 7.         0.8319293 ]\t 1.4142344969183807\t 1.3851325796224274\t -1.8440844004936325\n",
            "12 \t [ 8.64295666  0.15414479 14.          0.9278163  10.          0.28118691]\t 1.5402586275229662\t 1.3851325796224274\t -1.837304021435384\n",
            "13 \t [ 9.68591245  9.65045075 11.          0.76186952  2.          0.29960027]\t 1.5428324728602743\t 1.3851325796224274\t -1.8401912202053605\n",
            "14 \t [ 9.71262863  4.57387959  7.          0.99383292 13.          0.16794426]\t 1.5577754448237493\t 1.3851325796224274\t -1.8430063351066803\n",
            "15 \t [ 4.9674034   3.38399522 10.          0.68174215 13.          0.7347485 ]\t 1.427855522067889\t 1.3851325796224274\t -1.8464741726403204\n",
            "16 \t [ 1.46164443  9.42295465 11.          0.665603   10.          0.99083164]\t 1.3904885120085606\t 1.3851325796224274\t -1.8416915327081438\n",
            "17 \t [ 5.25612196  8.50067614 10.          0.57413657  5.          0.80162536]\t 1.4159239292058308\t 1.3851325796224274\t -1.8353465375389175\n",
            "18 \t [ 9.5010608   0.88423622  7.          0.68524636 18.          0.38496824]\t 1.5211296625814075\t 1.3851325796224274\t -1.8308678861755034\n",
            "19 \t [ 9.28758056  2.80895407 12.          0.8185425   3.          0.84589722]\t 1.4161815618281275\t 1.3851325796224274\t -1.8322765191340227\n",
            "20 \t [10.          2.31021759  5.          0.5         6.0236533   1.        ]\t 1.430423047238484\t 1.3851325796224274\t -1.8282944023987153\n",
            "21 \t [ 4.60712209  7.49120591 14.          0.82797033 13.          0.90943501]\t 1.389901529041071\t 1.3851325796224274\t -1.8253104509790123\n",
            "22 \t [ 0.55900516  9.18229404  7.          0.95696256 17.          0.1903245 ]\t 1.5570483124524954\t 1.3851325796224274\t -1.820711771238309\n",
            "23 \t [0.6198875  0.74179446 6.         0.98814887 9.         0.67558131]\t 1.4574999825394321\t 1.3851325796224274\t -1.823990635346982\n",
            "24 \t [ 2.00527504  0.70254528 14.          0.79865892 18.          0.13126945]\t 1.5565071726679558\t 1.3851325796224274\t -1.8226183395436382\n",
            "25 \t [ 4.79798587  5.19019994 14.          0.66613264  6.          0.91627214]\t 1.3903048650815122\t 1.3851325796224274\t -1.825569166569203\n",
            "26 \t [0.34920173 1.84861646 8.         0.54396681 2.         0.87093459]\t 1.4242314144110906\t 1.3851325796224274\t -1.8216135741183703\n",
            "27 \t [ 1.04409211  5.23638105  7.          0.7045432  12.          0.46628236]\t 1.5201915258324044\t 1.3851325796224274\t -1.819162405483355\n",
            "28 \t [ 9.80771093  4.15223959 13.          0.93548968 13.          0.52840014]\t 1.4713730247620904\t 1.3851325796224274\t -1.820519876361906\n",
            "29 \t [1.85218431 8.72350481 5.         0.88306102 1.         0.26689392]\t 1.5449079850630387\t 1.3851325796224274\t -1.8199643177258833\n",
            "30 \t [ 5.75147625  6.40379062 14.01071584  0.53907389 18.54382248  0.1       ]\t 1.560138043934722\t 1.3851325796224274\t -1.8221223348695794\n"
          ]
        },
        {
          "output_type": "execute_result",
          "data": {
            "text/plain": [
              "50652.075015653674"
            ]
          },
          "metadata": {},
          "execution_count": 35
        }
      ]
    },
    {
      "cell_type": "code",
      "metadata": {
        "id": "SXelbcAVVCqO",
        "colab": {
          "base_uri": "https://localhost:8080/"
        },
        "outputId": "2d451f57-0755-4b4e-ce2d-9e6973f475e8"
      },
      "source": [
        "### Bayesian optimization runs (x20): 'gp' Acquisition Function run number = 17\n",
        "\n",
        "np.random.seed(run_num_17)\n",
        "surrogate_gp_17 = GaussianProcess(cov_func, optimize=opt)\n",
        "\n",
        "X_train17, X_test17, y_train17, y_test17 = train_test_split(X, y, test_size=test_perc, random_state=run_num_17)\n",
        "\n",
        "def f_syn_polarity17(alpha, gamma, max_depth, subsample, min_child_weight, colsample):\n",
        "    reg = XGBRegressor(reg_alpha=alpha, gamma=gamma, max_depth=int(max_depth), subsample=subsample, min_child_weight=min_child_weight,\n",
        "          colsample_bytree=colsample, n_estimators = n_est, random_state=run_num_17, objective = 'reg:squarederror')\n",
        "    score = np.array(cross_val_score(reg, X=X_train17, y=y_train17).mean())\n",
        "    return operator * score\n",
        "\n",
        "gp_17 = GPGO_multi(surrogate_gp_17, Acquisition_new(util_gp), f_syn_polarity17, param, n_jobs = -1) # define BayesOpt\n",
        "gp_17.run(max_iter = max_iter, init_evals = n_init) # run\n",
        "\n",
        "### Return optimal parameters' set:\n",
        "params_gp_17 = gp_17.getResult()[0]\n",
        "params_gp_17['max_depth'] = int(params_gp_17['max_depth'])\n",
        "params_gp_17['min_child_weight'] = int(params_gp_17['min_child_weight'])\n",
        "\n",
        "### Re-train with optimal parameters, run predictons:\n",
        "dX_gp_train17 = xgb.DMatrix(X_train17, y_train17)\n",
        "dX_gp_test17 = xgb.DMatrix(X_test17, y_test17)\n",
        "model_gp_17 = xgb.train(params_gp_17, dX_gp_train17)\n",
        "pred_gp_17 = model_gp_17.predict(dX_gp_test17)\n",
        "\n",
        "rmse_gp_17 = np.sqrt(mean_squared_error(pred_gp_17, y_test17))\n",
        "rmse_gp_17"
      ],
      "execution_count": 36,
      "outputs": [
        {
          "output_type": "stream",
          "name": "stdout",
          "text": [
            "Evaluation \t Proposed point \t  Current eval. \t  Best eval. \t Min. ApproxAcqFunc \n",
            "init\t [ 2.94665003  5.30586756 11.          0.94443241 14.          0.80828691]\t 1.432187192078573\t 1.432187192078573\t    \n",
            "init\t [ 6.56333522  6.37520896 12.          0.81487881 18.          0.42203224]\t 1.4945483449196877\t 1.432187192078573\t    \n",
            "init\t [ 9.45683187  0.6004468  11.          0.5171566  10.          0.53881211]\t 1.4548205565954722\t 1.432187192078573\t    \n",
            "init\t [2.72705857 1.19063434 6.         0.74176431 6.         0.10101151]\t 1.6432713945852762\t 1.432187192078573\t    \n",
            "init\t [ 4.77631812  5.24671297 13.          0.66254476 19.          0.36708086]\t 1.5567864797674738\t 1.432187192078573\t    \n",
            "1  \t [ 0.65702322  5.79284078 13.          0.75136902  1.          0.30306068]\t 1.5652619856245054\t 1.432187192078573\t -1.8340942930778237\n",
            "2  \t [9.84734996 1.62122134 9.         0.85334659 1.         0.46477937]\t 1.498948881482044\t 1.432187192078573\t -1.8364956164338362\n",
            "3  \t [7.83479073 9.72387557 6.         0.52643017 2.         0.68421363]\t 1.461907085390612\t 1.432187192078573\t -1.8466529223276327\n",
            "4  \t [ 7.57161629  7.92403345 14.          0.60324211  5.          0.7142773 ]\t 1.4461011624066618\t 1.432187192078573\t -1.839608400468707\n",
            "5  \t [ 8.65871967  9.93201169  5.          0.72374992 16.          0.14682939]\t 1.6433146268169725\t 1.432187192078573\t -1.8320118528270188\n",
            "6  \t [ 0.19725752  8.16335211 14.          0.80836431  8.          0.45209851]\t 1.498768304463644\t 1.432187192078573\t -1.8511161329120625\n",
            "7  \t [ 0.09514765  4.39529435  5.          0.76449659 12.          0.57098291]\t 1.4707200590454932\t 1.432187192078573\t -1.8474651854824693\n",
            "8  \t [ 4.97204887  2.40072226  5.          0.54268748 19.          0.30995407]\t 1.5702611271060207\t 1.432187192078573\t -1.841747731346366\n",
            "9  \t [ 8.2659539   9.54253037 12.          0.95669852 12.          0.23922596]\t 1.6413673047886916\t 1.432187192078573\t -1.8518010470865438\n",
            "10 \t [0.12174033 8.73496008 5.         0.89827646 5.         0.85354798]\t 1.4615526201092108\t 1.432187192078573\t -1.863673127362451\n",
            "\u001b[1m\u001b[92m11\u001b[0m\t \u001b[1m\u001b[92m[ 2.91443079  0.16723755 13.          0.598201    6.          0.91729605]\u001b[0m\t \u001b[1m\u001b[92m1.389287224690272\u001b[0m\t \u001b[1m\u001b[92m1.389287224690272\u001b[0m\t \u001b[1m\u001b[92m-1.8588129553383566\u001b[0m\n",
            "12 \t [ 9.99948827  4.05627495  7.          0.60115736 16.          0.95820083]\t 1.4043413578558277\t 1.389287224690272\t -1.8492992847544194\n",
            "13 \t [ 8.38209371  1.79436187  5.          0.95610423 10.          0.10723534]\t 1.6448224242868446\t 1.389287224690272\t -1.8418859650907677\n",
            "14 \t [ 2.38819524  9.86967486  7.          0.93774995 12.          0.62005921]\t 1.4548479272751451\t 1.389287224690272\t -1.851969138739522\n",
            "15 \t [8.89952242 8.99104543 6.         0.55520345 8.         0.60181614]\t 1.4636758701233517\t 1.389287224690272\t -1.8483187197087765\n",
            "16 \t [ 0.83750999  9.91811143 14.          0.78421167 16.          0.36617369]\t 1.5562710331280996\t 1.389287224690272\t -1.8455562409410773\n",
            "17 \t [ 1.66641474  7.47633023  5.          0.68203645 17.          0.15512069]\t 1.6438236216519555\t 1.389287224690272\t -1.8484987378198754\n",
            "18 \t [ 3.42920115  6.14880604 10.          0.62039181  6.          0.22675145]\t 1.6427528324369405\t 1.389287224690272\t -1.8534527451024942\n",
            "19 \t [4.44523786 3.02494347 6.         0.52613199 1.         0.84958179]\t 1.4602939379538165\t 1.389287224690272\t -1.8634251315673456\n",
            "20 \t [ 7.51327766  6.69897701  9.          0.62542908 10.          0.67003525]\t 1.442258903042171\t 1.389287224690272\t -1.8654407040604517\n",
            "21 \t [ 8.3841991   0.39581086 12.          0.84286211 19.          0.60193028]\t 1.4471373793356974\t 1.389287224690272\t -1.8566547673473983\n",
            "22 \t [10.   0.   5.   0.5 20.   0.1]\t 1.6484981212268068\t 1.389287224690272\t -1.8534681996209028\n",
            "\u001b[1m\u001b[92m23\u001b[0m\t \u001b[1m\u001b[92m[ 9.42476846  1.98683419 14.          0.86139663  3.          0.9025567 ]\u001b[0m\t \u001b[1m\u001b[92m1.3817596184018297\u001b[0m\t \u001b[1m\u001b[92m1.3817596184018297\u001b[0m\t \u001b[1m\u001b[92m-1.8598912062224586\u001b[0m\n",
            "24 \t [ 9.42721631  3.96902864 14.          0.60708405 13.          0.7708937 ]\t 1.439765717399763\t 1.3817596184018297\t -1.8541405600185756\n",
            "25 \t [ 0.59590325  0.30071901  8.          0.9148403  16.          0.62633871]\t 1.4373113896623342\t 1.3817596184018297\t -1.8510707779611029\n",
            "26 \t [ 3.94384464  0.50635275 10.          0.67646678 14.          0.15918501]\t 1.641303056643633\t 1.3817596184018297\t -1.8522692632144395\n",
            "27 \t [ 4.29527831  9.66118443  8.52436597  0.5        19.294588    1.        ]\t 1.393747233405459\t 1.3817596184018297\t -1.8535701552911394\n",
            "28 \t [ 0.23493035  1.53479009 11.97620679  1.         10.80896532  0.1       ]\t 1.6387204943879836\t 1.3817596184018297\t -1.8491473759321706\n",
            "29 \t [ 1.24289519  0.75198104 13.          0.67204791 18.          0.78164036]\t 1.4346773655092142\t 1.3817596184018297\t -1.8541482489223107\n",
            "30 \t [10.          2.787195    5.          0.5         4.62845247  0.1       ]\t 1.6487835027522526\t 1.3817596184018297\t -1.8513564683947608\n"
          ]
        },
        {
          "output_type": "execute_result",
          "data": {
            "text/plain": [
              "50656.27361211645"
            ]
          },
          "metadata": {},
          "execution_count": 36
        }
      ]
    },
    {
      "cell_type": "code",
      "metadata": {
        "id": "qJG2fAtAVFDZ",
        "colab": {
          "base_uri": "https://localhost:8080/"
        },
        "outputId": "273fe4c8-1431-454c-9ae1-fcb278d3e0b4"
      },
      "source": [
        "### Bayesian optimization runs (x20): 'gp' Acquisition Function run number = 18\n",
        "\n",
        "np.random.seed(run_num_18)\n",
        "surrogate_gp_18 = GaussianProcess(cov_func, optimize=opt)\n",
        "\n",
        "X_train18, X_test18, y_train18, y_test18 = train_test_split(X, y, test_size=test_perc, random_state=run_num_18)\n",
        "\n",
        "def f_syn_polarity18(alpha, gamma, max_depth, subsample, min_child_weight, colsample):\n",
        "    reg = XGBRegressor(reg_alpha=alpha, gamma=gamma, max_depth=int(max_depth), subsample=subsample, min_child_weight=min_child_weight,\n",
        "          colsample_bytree=colsample, n_estimators = n_est, random_state=run_num_11, objective = 'reg:squarederror')\n",
        "    score = np.array(cross_val_score(reg, X=X_train18, y=y_train18).mean())\n",
        "    return operator * score\n",
        "\n",
        "gp_18 = GPGO_multi(surrogate_gp_18, Acquisition_new(util_gp), f_syn_polarity18, param, n_jobs = -1) # define BayesOpt\n",
        "gp_18.run(max_iter = max_iter, init_evals = n_init) # run\n",
        "\n",
        "### Return optimal parameters' set:\n",
        "params_gp_18 = gp_18.getResult()[0]\n",
        "params_gp_18['max_depth'] = int(params_gp_18['max_depth'])\n",
        "params_gp_18['min_child_weight'] = int(params_gp_18['min_child_weight'])\n",
        "\n",
        "### Re-train with optimal parameters, run predictons:\n",
        "dX_gp_train18 = xgb.DMatrix(X_train18, y_train18)\n",
        "dX_gp_test18 = xgb.DMatrix(X_test18, y_test18)\n",
        "model_gp_18 = xgb.train(params_gp_18, dX_gp_train18)\n",
        "pred_gp_18 = model_gp_18.predict(dX_gp_test18)\n",
        "\n",
        "rmse_gp_18 = np.sqrt(mean_squared_error(pred_gp_18, y_test18))\n",
        "rmse_gp_18"
      ],
      "execution_count": 37,
      "outputs": [
        {
          "output_type": "stream",
          "name": "stdout",
          "text": [
            "Evaluation \t Proposed point \t  Current eval. \t  Best eval. \t Min. ApproxAcqFunc \n",
            "init\t [6.50374242 5.05453374 6.         0.59092011 3.         0.28357516]\t 1.554201920032415\t 1.4181769530522108\t    \n",
            "init\t [0.11506734 4.26891483 9.         0.81785956 5.         0.63489043]\t 1.4181769530522108\t 1.4181769530522108\t    \n",
            "init\t [ 2.8861259   6.35547834 11.          0.64267955 14.          0.27877092]\t 1.5553172299320928\t 1.4181769530522108\t    \n",
            "init\t [6.57189031 6.99655629 8.         0.63235896 4.         0.52894035]\t 1.4757071646006859\t 1.4181769530522108\t    \n",
            "init\t [ 6.66600348  2.11312037 14.          0.74363461  4.          0.73174558]\t 1.4231733496037333\t 1.4181769530522108\t    \n",
            "1  \t [ 8.67093232  0.11649132  5.          0.92962202 15.          0.53672863]\t 1.4839064811956693\t 1.4181769530522108\t -1.8123785198891071\n",
            "2  \t [ 0.39142192  3.13835885 14.          0.79672165 16.          0.17950478]\t 1.6033329384788069\t 1.4181769530522108\t -1.820089184143813\n",
            "3  \t [ 6.79595692  7.93947545  5.          0.67208024 18.          0.4521055 ]\t 1.4920088869670647\t 1.4181769530522108\t -1.8350489827025867\n",
            "\u001b[1m\u001b[92m4\u001b[0m\t \u001b[1m\u001b[92m[ 8.43851229  2.41114508 13.          0.75771586 19.          0.86905071]\u001b[0m\t \u001b[1m\u001b[92m1.4170388469543282\u001b[0m\t \u001b[1m\u001b[92m1.4170388469543282\u001b[0m\t \u001b[1m\u001b[92m-1.8345743744346206\u001b[0m\n",
            "5  \t [8.15311919 0.06505754 6.         0.80711136 4.         0.40208413]\t 1.4837147633009038\t 1.4170388469543282\t -1.8282877627799259\n",
            "6  \t [ 2.7706731   9.2989548  14.          0.95884661  4.          0.59790588]\t 1.4703708992593125\t 1.4170388469543282\t -1.8231118437095262\n",
            "7  \t [ 9.35065053  8.69078822  5.          0.66461938 10.          0.12679649]\t 1.6008589000799762\t 1.4170388469543282\t -1.819963823899413\n",
            "\u001b[1m\u001b[92m8\u001b[0m\t \u001b[1m\u001b[92m[ 0.12490504  0.85882407  7.          0.95634859 12.          0.95669748]\u001b[0m\t \u001b[1m\u001b[92m1.390562394573868\u001b[0m\t \u001b[1m\u001b[92m1.390562394573868\u001b[0m\t \u001b[1m\u001b[92m-1.8331736110523105\u001b[0m\n",
            "9  \t [ 0.21200191  9.95034596  6.          0.77719285 19.          0.61346381]\t 1.4769477292513715\t 1.390562394573868\t -1.8234636411993943\n",
            "10 \t [ 9.1994245   2.69764756 10.          0.73631779  9.          0.87241044]\t 1.4171279172343603\t 1.390562394573868\t -1.8210151324087158\n",
            "11 \t [ 1.2588084   9.80413977  5.          0.75618546 12.          0.53020258]\t 1.4864755539001755\t 1.390562394573868\t -1.8167482922408817\n",
            "12 \t [ 1.28162475  0.          5.          1.         18.23171298  1.        ]\t 1.4174713813663726\t 1.390562394573868\t -1.8169871976723273\n",
            "13 \t [ 9.89210509  6.8302257  13.          0.82120209  4.          0.20693901]\t 1.6023144763853459\t 1.390562394573868\t -1.811643779915606\n",
            "14 \t [ 7.49192948  9.60283663 14.          0.93718151 19.          0.24625933]\t 1.6000990236826755\t 1.390562394573868\t -1.8206977504540938\n",
            "15 \t [0.82220686 1.00801117 6.         0.75501957 1.         0.96323582]\t 1.4089707595960284\t 1.390562394573868\t -1.8285799690088032\n",
            "16 \t [ 9.94094117  9.96810229 11.          0.85509094 13.          0.23577872]\t 1.6024143674224376\t 1.390562394573868\t -1.8235591028242948\n",
            "17 \t [ 0.27794827  7.52498593 14.          0.9482774  10.          0.5730105 ]\t 1.4689949186046767\t 1.390562394573868\t -1.8304312772705547\n",
            "18 \t [3.45506224 5.43377495 5.         0.71491768 8.         0.79464171]\t 1.434001773360977\t 1.390562394573868\t -1.8279973329743116\n",
            "19 \t [ 5.70394569  1.1182163  13.          0.54883406 13.          0.43832807]\t 1.4853099207816816\t 1.390562394573868\t -1.8258591356764848\n",
            "20 \t [0.1681044  8.38167689 5.         0.57221101 1.         0.32539925]\t 1.5579192295823852\t 1.390562394573868\t -1.824942868090075\n",
            "21 \t [ 0.96213918  0.34905112 13.          0.76699897  2.          0.61806652]\t 1.4783908503704786\t 1.390562394573868\t -1.8290016587628841\n",
            "22 \t [ 1.40279817  1.61930538 14.          0.8980663   9.          0.35613696]\t 1.5520768731460368\t 1.390562394573868\t -1.829845524014913\n",
            "23 \t [ 3.5458465   6.26782765  9.          0.5990211  19.          0.14762901]\t 1.6021237365854475\t 1.390562394573868\t -1.8325254052894397\n",
            "\u001b[1m\u001b[92m24\u001b[0m\t \u001b[1m\u001b[92m[ 6.47793222  6.85724174 15.          0.5        10.94128653  1.        ]\u001b[0m\t \u001b[1m\u001b[92m1.3793512263035577\u001b[0m\t \u001b[1m\u001b[92m1.3793512263035577\u001b[0m\t \u001b[1m\u001b[92m-1.8358953393885824\u001b[0m\n",
            "25 \t [10.          0.81535053 15.          1.          8.46953121  0.1       ]\t 1.6003175372265204\t 1.3793512263035577\t -1.8310298674854246\n",
            "26 \t [ 9.09379722  3.79068628  9.66647361  0.5        14.3816103   0.18226742]\t 1.6005643662707576\t 1.3793512263035577\t -1.8354803427193844\n",
            "27 \t [ 3.0196046   8.69163239 10.          0.90677922  8.          0.50890477]\t 1.4675156650008097\t 1.3793512263035577\t -1.8396435798422204\n",
            "28 \t [1.261313   9.91931936 5.         0.5        6.21840636 1.        ]\t 1.4218648057373156\t 1.3793512263035577\t -1.8377033495544364\n",
            "29 \t [ 9.66163174  2.59917262  7.85036964  0.96401653 19.41599742  0.65113779]\t 1.4227507409713405\t 1.3793512263035577\t -1.835468679745046\n",
            "30 \t [ 5.68554253  5.17876971  5.          0.8015944  13.6129784   1.        ]\t 1.4195664675344615\t 1.3793512263035577\t -1.8324172177962685\n"
          ]
        },
        {
          "output_type": "execute_result",
          "data": {
            "text/plain": [
              "49610.32766478036"
            ]
          },
          "metadata": {},
          "execution_count": 37
        }
      ]
    },
    {
      "cell_type": "code",
      "metadata": {
        "id": "XHidSEGcVHvG",
        "colab": {
          "base_uri": "https://localhost:8080/"
        },
        "outputId": "c4708990-ed54-40b3-cc78-e26baea2169f"
      },
      "source": [
        "### Bayesian optimization runs (x20): 'gp' Acquisition Function run number = 19\n",
        "\n",
        "np.random.seed(run_num_19)\n",
        "surrogate_gp_19 = GaussianProcess(cov_func, optimize=opt)\n",
        "\n",
        "X_train19, X_test19, y_train19, y_test19 = train_test_split(X, y, test_size=test_perc, random_state=run_num_19)\n",
        "\n",
        "def f_syn_polarity19(alpha, gamma, max_depth, subsample, min_child_weight, colsample):\n",
        "    reg = XGBRegressor(reg_alpha=alpha, gamma=gamma, max_depth=int(max_depth), subsample=subsample, min_child_weight=min_child_weight,\n",
        "          colsample_bytree=colsample, n_estimators = n_est, random_state=run_num_19, objective = 'reg:squarederror')\n",
        "    score = np.array(cross_val_score(reg, X=X_train19, y=y_train19).mean())\n",
        "    return operator * score\n",
        "\n",
        "gp_19 = GPGO_multi(surrogate_gp_19, Acquisition_new(util_gp), f_syn_polarity19, param, n_jobs = -1) # define BayesOpt\n",
        "gp_19.run(max_iter = max_iter, init_evals = n_init) # run\n",
        "\n",
        "### Return optimal parameters' set:\n",
        "params_gp_19 = gp_19.getResult()[0]\n",
        "params_gp_19['max_depth'] = int(params_gp_19['max_depth'])\n",
        "params_gp_19['min_child_weight'] = int(params_gp_19['min_child_weight'])\n",
        "\n",
        "### Re-train with optimal parameters, run predictons:\n",
        "dX_gp_train19 = xgb.DMatrix(X_train19, y_train19)\n",
        "dX_gp_test19 = xgb.DMatrix(X_test19, y_test19)\n",
        "model_gp_19 = xgb.train(params_gp_19, dX_gp_train19)\n",
        "pred_gp_19 = model_gp_19.predict(dX_gp_test19)\n",
        "\n",
        "rmse_gp_19 = np.sqrt(mean_squared_error(pred_gp_19, y_test19))\n",
        "rmse_gp_19"
      ],
      "execution_count": 38,
      "outputs": [
        {
          "output_type": "stream",
          "name": "stdout",
          "text": [
            "Evaluation \t Proposed point \t  Current eval. \t  Best eval. \t Min. ApproxAcqFunc \n",
            "init\t [ 0.97533602  7.61249717 13.          0.85765469 11.          0.39830191]\t 1.4075337339770704\t 1.4075337339770704\t    \n",
            "init\t [ 0.82999565  6.71977081  6.          0.50407413 19.          0.67209466]\t 1.4228132434714993\t 1.4075337339770704\t    \n",
            "init\t [ 2.15923256  5.49027432 12.          0.52588686 10.          0.20235326]\t 1.6084741621894145\t 1.4075337339770704\t    \n",
            "init\t [4.99659267 1.52108422 6.         0.73481085 4.         0.71949465]\t 1.4198106118164695\t 1.4075337339770704\t    \n",
            "init\t [ 3.72927156  9.46160045  5.          0.80554614 18.          0.97708466]\t 1.4218628552782113\t 1.4075337339770704\t    \n",
            "\u001b[1m\u001b[92m1\u001b[0m\t \u001b[1m\u001b[92m[ 8.33060043  1.42030563  8.          0.92863724 14.          0.78606141]\u001b[0m\t \u001b[1m\u001b[92m1.3842780004279849\u001b[0m\t \u001b[1m\u001b[92m1.3842780004279849\u001b[0m\t \u001b[1m\u001b[92m-1.7729595199916246\u001b[0m\n",
            "2  \t [ 9.05225624  3.60011377 14.          0.89518364  1.          0.11342054]\t 1.6089627692761461\t 1.3842780004279849\t -1.7601152462626521\n",
            "3  \t [ 7.86497193  9.37671675 14.          0.67335234 17.          0.19715347]\t 1.6074176591355478\t 1.3842780004279849\t -1.7901677169805816\n",
            "4  \t [9.07948237 9.55063617 7.         0.80962147 4.         0.34142584]\t 1.472070120000281\t 1.3842780004279849\t -1.8152257930888422\n",
            "5  \t [ 0.44325104  7.68954892 13.          0.89985304  3.          0.56653072]\t 1.3853903105232432\t 1.3842780004279849\t -1.8138526812241669\n",
            "6  \t [2.44487664 8.24245485 5.         0.93393991 1.         0.49674354]\t 1.4462483681360445\t 1.3842780004279849\t -1.8024095012377308\n",
            "7  \t [1.49864599 6.40622573 5.         0.78390976 8.         0.14811291]\t 1.6066703859288822\t 1.3842780004279849\t -1.7932513095883125\n",
            "8  \t [ 8.99876272  0.14180428 14.          0.5207566  10.          0.28841204]\t 1.4734057315848894\t 1.3842780004279849\t -1.814275669687414\n",
            "\u001b[1m\u001b[92m9\u001b[0m\t \u001b[1m\u001b[92m[ 2.57422569  5.28306693 13.          0.81109257 18.          0.79027239]\u001b[0m\t \u001b[1m\u001b[92m1.3738116388007067\u001b[0m\t \u001b[1m\u001b[92m1.3738116388007067\u001b[0m\t \u001b[1m\u001b[92m-1.8135251059115878\u001b[0m\n",
            "10 \t [ 9.15431766  0.31175211 14.          0.54456663 18.          0.9787244 ]\t 1.3828763025685678\t 1.3738116388007067\t -1.801710792406132\n",
            "11 \t [ 8.19611899  8.00934724 14.          0.82250986 10.          0.1608505 ]\t 1.6073888914547236\t 1.3738116388007067\t -1.7930402998252426\n",
            "12 \t [1.60895472e-01 8.27074864e-03 1.30000000e+01 6.91893018e-01\n",
            " 5.00000000e+00 4.60327119e-01]\t 1.412265762362551\t 1.3738116388007067\t -1.806844825056364\n",
            "13 \t [ 3.35523956  0.21709323  5.          0.67627418 11.          0.74141343]\t 1.43855096046128\t 1.3738116388007067\t -1.8016020685666148\n",
            "14 \t [ 9.1241314   7.71287263  8.          0.87195975 13.          0.93286645]\t 1.3834745421517254\t 1.3738116388007067\t -1.8050081629502575\n",
            "15 \t [ 9.47396511  3.63335086  5.          0.59754744 19.          0.31073175]\t 1.4779281075455926\t 1.3738116388007067\t -1.7960952949730817\n",
            "16 \t [ 4.2185869   3.87821153 15.          0.5         4.76710855  0.1       ]\t 1.6084086850131207\t 1.3738116388007067\t -1.7954728938156466\n",
            "17 \t [ 8.3525532   8.73003724  9.          0.50962605 19.          0.56591275]\t 1.3974749827515442\t 1.3738116388007067\t -1.8054453530521724\n",
            "18 \t [ 9.32390837  9.51845123 14.          0.71072327  2.          0.55726506]\t 1.3894225887477218\t 1.3738116388007067\t -1.8012712484502977\n",
            "19 \t [7.37094762 6.39880108 5.         0.5093585  8.         0.80726863]\t 1.4356379909637453\t 1.3738116388007067\t -1.7970439052878138\n",
            "20 \t [ 0.          1.2605666  15.          0.5        14.52038634  1.        ]\t 1.3854690303263812\t 1.3738116388007067\t -1.7954414926322446\n",
            "21 \t [ 3.86326609  1.40312943  6.          0.7852563  18.          0.23797267]\t 1.6065701968330135\t 1.3738116388007067\t -1.7915914364164027\n",
            "22 \t [ 0.97401642  2.93941664  9.          0.63950191 14.          0.61662856]\t 1.3939910937855304\t 1.3738116388007067\t -1.7986994623554327\n",
            "23 \t [ 4.12456019  4.50763777 10.          0.55241647  1.          0.55624032]\t 1.3983178016838103\t 1.3738116388007067\t -1.7935879551834437\n",
            "24 \t [ 2.44922571  3.55269224 13.          0.64412617  5.          0.72717847]\t 1.3902049934810372\t 1.3738116388007067\t -1.7947168980577695\n",
            "25 \t [ 9.14190478  4.39417818 10.          0.59368461  8.          0.5619753 ]\t 1.3935440168080349\t 1.3738116388007067\t -1.7869114899846585\n",
            "26 \t [ 0.         10.          5.          1.         13.00698554  0.1       ]\t 1.6020941159808342\t 1.3738116388007067\t -1.7842838640512775\n",
            "27 \t [ 5.84428272  5.22622012  5.          0.63867169 14.51561511  0.1       ]\t 1.6060352285538841\t 1.3738116388007067\t -1.7890398127199385\n",
            "\u001b[1m\u001b[92m28\u001b[0m\t \u001b[1m\u001b[92m[ 0.56910648  9.92132266 14.          0.90988498 16.          0.82916878]\u001b[0m\t \u001b[1m\u001b[92m1.3701897116742061\u001b[0m\t \u001b[1m\u001b[92m1.3701897116742061\u001b[0m\t \u001b[1m\u001b[92m-1.7961362530353913\u001b[0m\n",
            "29 \t [ 6.06012579  3.47510855 13.52130046  1.         13.16891613  1.        ]\t 1.3705017758872817\t 1.3701897116742061\t -1.7926591259772615\n",
            "30 \t [8.25049967 5.1591257  5.08818763 1.         1.         0.1       ]\t 1.6025292195664356\t 1.3701897116742061\t -1.7893919460196093\n"
          ]
        },
        {
          "output_type": "execute_result",
          "data": {
            "text/plain": [
              "49031.30497122744"
            ]
          },
          "metadata": {},
          "execution_count": 38
        }
      ]
    },
    {
      "cell_type": "code",
      "metadata": {
        "id": "CWGPYRJhVKsO",
        "colab": {
          "base_uri": "https://localhost:8080/"
        },
        "outputId": "b29370b5-eb0e-43d9-de80-c9526b718fe0"
      },
      "source": [
        "### Bayesian optimization runs (x20): 'gp' Acquisition Function run number = 20\n",
        "\n",
        "np.random.seed(run_num_20)\n",
        "surrogate_gp_20 = GaussianProcess(cov_func, optimize=opt)\n",
        "\n",
        "X_train20, X_test20, y_train20, y_test20 = train_test_split(X, y, test_size=test_perc, random_state=run_num_20)\n",
        "\n",
        "def f_syn_polarity20(alpha, gamma, max_depth, subsample, min_child_weight, colsample):\n",
        "    reg = XGBRegressor(reg_alpha=alpha, gamma=gamma, max_depth=int(max_depth), subsample=subsample, min_child_weight=min_child_weight,\n",
        "          colsample_bytree=colsample, n_estimators = n_est, random_state=run_num_20, objective = 'reg:squarederror')\n",
        "    score = np.array(cross_val_score(reg, X=X_train20, y=y_train20).mean())\n",
        "    return operator * score\n",
        "\n",
        "gp_20 = GPGO_multi(surrogate_gp_20, Acquisition_new(util_gp), f_syn_polarity20, param, n_jobs = -1) # define BayesOpt\n",
        "gp_20.run(max_iter = max_iter, init_evals = n_init) # run\n",
        "\n",
        "### Return optimal parameters' set:\n",
        "params_gp_20 = gp_20.getResult()[0]\n",
        "params_gp_20['max_depth'] = int(params_gp_20['max_depth'])\n",
        "params_gp_20['min_child_weight'] = int(params_gp_20['min_child_weight'])\n",
        "\n",
        "### Re-train with optimal parameters, run predictons:\n",
        "dX_gp_train20 = xgb.DMatrix(X_train20, y_train20)\n",
        "dX_gp_test20 = xgb.DMatrix(X_test20, y_test20)\n",
        "model_gp_20 = xgb.train(params_gp_20, dX_gp_train20)\n",
        "pred_gp_20 = model_gp_20.predict(dX_gp_test20)\n",
        "\n",
        "rmse_gp_20 = np.sqrt(mean_squared_error(pred_gp_20, y_test20))\n",
        "rmse_gp_20"
      ],
      "execution_count": 39,
      "outputs": [
        {
          "output_type": "stream",
          "name": "stdout",
          "text": [
            "Evaluation \t Proposed point \t  Current eval. \t  Best eval. \t Min. ApproxAcqFunc \n",
            "init\t [ 5.88130801  8.97713728 14.          0.81074445  8.          0.95540649]\t 1.3748447855907977\t 1.3748447855907977\t    \n",
            "init\t [6.72865655 0.41173329 8.         0.6361582  7.         0.76174061]\t 1.4185133726703796\t 1.3748447855907977\t    \n",
            "init\t [ 4.77387703  8.66202323 10.          0.51833215  7.          0.10123387]\t 1.6439786774737961\t 1.3748447855907977\t    \n",
            "init\t [ 5.75489985  4.74524381  8.          0.78084343 15.          0.26643049]\t 1.534878770114387\t 1.3748447855907977\t    \n",
            "init\t [ 4.53444     4.47342833  8.          0.91974896 18.          0.35997552]\t 1.5336412960522285\t 1.3748447855907977\t    \n",
            "1  \t [ 7.96566073  7.15509535  7.          0.79906691 11.          0.34132075]\t 1.536147862834937\t 1.3748447855907977\t -1.842250818820827\n",
            "2  \t [ 0.91142496  2.10459582  5.          0.81472029 14.          0.18508735]\t 1.646568837674718\t 1.3748447855907977\t -1.8488185840045384\n",
            "3  \t [ 1.98667885  1.35773177 13.          0.57199118  2.          0.39498908]\t 1.5177654419926867\t 1.3748447855907977\t -1.8713871938867719\n",
            "4  \t [ 9.33047492  5.23196938 11.          0.52759949  1.          0.16025851]\t 1.6450690300350963\t 1.3748447855907977\t -1.869824283144368\n",
            "5  \t [ 0.05406024  0.42106765 14.          0.6066366  16.          0.86098378]\t 1.4186471151892663\t 1.3748447855907977\t -1.8865135552870693\n",
            "6  \t [ 9.3606342   3.21248061 14.          0.65614013 17.          0.10926152]\t 1.6425026081238112\t 1.3748447855907977\t -1.872118737185158\n",
            "\u001b[1m\u001b[92m7\u001b[0m\t \u001b[1m\u001b[92m[ 0.30329279  8.44985963 11.          0.88949602 12.          0.98063814]\u001b[0m\t \u001b[1m\u001b[92m1.3738574231055192\u001b[0m\t \u001b[1m\u001b[92m1.3738574231055192\u001b[0m\t \u001b[1m\u001b[92m-1.8852486488906353\u001b[0m\n",
            "8  \t [ 0.10166936  9.6338413  10.          0.90921408  2.          0.8185074 ]\t 1.4116697434075767\t 1.3738574231055192\t -1.8691814087064644\n",
            "9  \t [ 4.75796462  9.45441825 12.          0.67052943 16.          0.42650939]\t 1.5031052768814301\t 1.3738574231055192\t -1.8600381747559038\n",
            "10 \t [0.74035504 4.5748447  5.         0.89363317 5.         0.49127349]\t 1.5237643394182476\t 1.3738574231055192\t -1.8574850696787886\n",
            "11 \t [ 8.05973042  0.02199688 13.          0.85421451 11.          0.72391389]\t 1.4133022633822214\t 1.3738574231055192\t -1.8580695073454239\n",
            "12 \t [ 9.67068733  9.01636996  6.          0.81526911 19.          0.25308417]\t 1.538846619034425\t 1.3738574231055192\t -1.8503706779766167\n",
            "13 \t [6.79833609 9.31109853 5.         0.95980448 2.         0.84660085]\t 1.4271575912229317\t 1.3738574231055192\t -1.852409796959971\n",
            "14 \t [6.94629528 1.50612385 5.         0.99024547 2.         0.61790138]\t 1.514824165103557\t 1.3738574231055192\t -1.8467528112688383\n",
            "15 \t [ 0.39565672  8.50724472  5.          0.74462587 17.          0.73375146]\t 1.433377758580311\t 1.3738574231055192\t -1.847201611244237\n",
            "16 \t [ 8.5552187   0.37455256  7.          0.56124616 19.          0.93234868]\t 1.4008977584120759\t 1.3738574231055192\t -1.842723235983913\n",
            "17 \t [ 1.63517003  1.94546476 13.          0.51613485  8.          0.52001989]\t 1.4956778659243262\t 1.3738574231055192\t -1.836870016224025\n",
            "18 \t [10.          2.08536849  7.44071231  0.5        11.92007397  0.91431785]\t 1.4042966907545051\t 1.3738574231055192\t -1.8366409873825857\n",
            "19 \t [ 4.33337237  3.43041159 14.          0.54942076 14.          0.52668151]\t 1.4887679097575064\t 1.3738574231055192\t -1.8317161434550815\n",
            "20 \t [ 2.58767058  7.83096438  5.          1.         11.14419581  1.        ]\t 1.4128582036952557\t 1.3738574231055192\t -1.8313686963990932\n",
            "\u001b[1m\u001b[92m21\u001b[0m\t \u001b[1m\u001b[92m[ 7.51335318  0.         12.58937778  1.          1.6557354   1.        ]\u001b[0m\t \u001b[1m\u001b[92m1.364379374266785\u001b[0m\t \u001b[1m\u001b[92m1.364379374266785\u001b[0m\t \u001b[1m\u001b[92m-1.827432855583448\u001b[0m\n",
            "22 \t [ 0.26819511  4.56777786  8.          0.935869   10.          0.76874538]\t 1.4115000749053344\t 1.364379374266785\t -1.8223433698299725\n",
            "23 \t [ 9.68276404  5.67373127 10.25374189  1.         20.          0.21062499]\t 1.633474607781769\t 1.364379374266785\t -1.8179317210172155\n",
            "24 \t [1.80969111 0.         7.54152637 1.         1.35781133 0.1       ]\t 1.6336407146956062\t 1.364379374266785\t -1.8251299897749176\n",
            "25 \t [9.99907845 4.67472615 5.         0.65822941 7.         0.77011937]\t 1.431663203976628\t 1.364379374266785\t -1.8314718037489175\n",
            "26 \t [ 9.63657862  6.60313758 12.          0.56610311 13.          0.97336392]\t 1.3856449549776104\t 1.364379374266785\t -1.828473440893602\n",
            "27 \t [2.09579627 0.         5.         1.         7.81320317 0.1       ]\t 1.6360498656627136\t 1.364379374266785\t -1.8253841985151031\n",
            "28 \t [ 9.37588391  4.43906504 12.          0.58748745  7.          0.68859029]\t 1.4223964120844432\t 1.364379374266785\t -1.8306747739436995\n",
            "29 \t [ 3.18527823  6.60396707 14.          0.70785292  3.          0.20723538]\t 1.6440789388359374\t 1.364379374266785\t -1.8280078782335447\n",
            "30 \t [ 0.25720308  0.04636294  7.          0.98979911 18.          0.77602265]\t 1.4143017084417102\t 1.364379374266785\t -1.8342700180112113\n"
          ]
        },
        {
          "output_type": "execute_result",
          "data": {
            "text/plain": [
              "51060.34105501271"
            ]
          },
          "metadata": {},
          "execution_count": 39
        }
      ]
    },
    {
      "cell_type": "code",
      "metadata": {
        "id": "-1d_1LyydIfe",
        "colab": {
          "base_uri": "https://localhost:8080/"
        },
        "outputId": "1c9b4673-22b7-48c1-89da-701cf7fd0abb"
      },
      "source": [
        "end_gp = time.time()\n",
        "end_gp\n",
        "\n",
        "time_gp = end_gp - start_gp\n",
        "time_gp\n",
        "\n",
        "start_stp = time.time()\n",
        "start_stp"
      ],
      "execution_count": 40,
      "outputs": [
        {
          "output_type": "execute_result",
          "data": {
            "text/plain": [
              "1668513349.057166"
            ]
          },
          "metadata": {},
          "execution_count": 40
        }
      ]
    },
    {
      "cell_type": "code",
      "metadata": {
        "id": "ZAyOw7XYVwAf",
        "colab": {
          "base_uri": "https://localhost:8080/"
        },
        "outputId": "0329eb0f-b596-4889-8934-78e0e94dca08"
      },
      "source": [
        "### Bayesian optimization runs (x20): 'stp' Acquisition Function run number = 1 \n",
        "\n",
        "np.random.seed(run_num_1)\n",
        "surrogate_stp_1 = tStudentProcess(cov_func, optimize=opt, nu = df)\n",
        "\n",
        "X_train1, X_test1, y_train1, y_test1 = train_test_split(X, y, test_size=test_perc, random_state=run_num_1)\n",
        "\n",
        "def f_syn_polarity1(alpha, gamma, max_depth, subsample, min_child_weight, colsample):\n",
        "    reg = XGBRegressor(reg_alpha=alpha, gamma=gamma, max_depth=int(max_depth), subsample=subsample, min_child_weight=min_child_weight,\n",
        "          colsample_bytree=colsample, n_estimators = n_est, random_state=run_num_1, objective = 'reg:squarederror')\n",
        "    score = np.array(cross_val_score(reg, X=X_train1, y=y_train1).mean())\n",
        "    return operator * score\n",
        "\n",
        "stp_1 = GPGO_multi_STP(surrogate_stp_1, Acquisition_new(util_stp), f_syn_polarity1, param, n_jobs = -1) # Define BayesOpt\n",
        "stp_1.run(max_iter = max_iter, init_evals = n_init) # run\n",
        "\n",
        "### Return optimal parameters' set:\n",
        "params_stp_1 = stp_1.getResult()[0]\n",
        "params_stp_1['max_depth'] = int(params_stp_1['max_depth'])\n",
        "params_stp_1['min_child_weight'] = int(params_stp_1['min_child_weight'])\n",
        "\n",
        "### Re-train with optimal parameters, run predictons:\n",
        "dX_stp_train1 = xgb.DMatrix(X_train1, y_train1)\n",
        "dX_stp_test1 = xgb.DMatrix(X_test1, y_test1)\n",
        "model_stp_1 = xgb.train(params_stp_1, dX_stp_train1)\n",
        "pred_stp_1 = model_stp_1.predict(dX_stp_test1)\n",
        "\n",
        "rmse_stp_1 = np.sqrt(mean_squared_error(pred_stp_1, y_test1))\n",
        "rmse_stp_1"
      ],
      "execution_count": 41,
      "outputs": [
        {
          "output_type": "stream",
          "name": "stdout",
          "text": [
            "Evaluation \t Proposed point \t  Current eval. \t  Best eval. \t Min. ApproxAcqFunc \n",
            "init\t [ 4.17022005  7.20324493 14.          0.65116629 16.          0.31248008]\t 1.6139329892980396\t 1.3678797200853317\t    \n",
            "init\t [ 3.96580727  3.87910741 11.          0.96776954  6.          0.71669755]\t 1.4460566998267423\t 1.3678797200853317\t    \n",
            "init\t [ 2.0445225   8.78117436  7.          0.95698101 10.          0.48762871]\t 1.5755054668571844\t 1.3678797200853317\t    \n",
            "init\t [ 9.39127789  7.78389236 14.          0.98413079  2.          0.87851823]\t 1.3678797200853317\t 1.3678797200853317\t    \n",
            "init\t [8.29146907 8.29603359 8.         0.58491521 9.         0.18851215]\t 1.6515361212564685\t 1.3678797200853317\t    \n",
            "1  \t [ 7.86951474  0.6406733  11.          0.78919481 19.          0.44182296]\t 1.5598734918230905\t 1.3678797200853317\t -1.87963068384897\n",
            "2  \t [5.02996532 7.87581008 8.         0.7704759  8.         0.76431787]\t 1.4103738699707644\t 1.3678797200853317\t -1.884804509816342\n",
            "3  \t [0.14003556 2.17611103 5.         0.84788211 2.         0.68639062]\t 1.494248560182728\t 1.3678797200853317\t -1.862199677481514\n",
            "4  \t [ 7.8830119   0.1209676   8.          0.96552864 13.          0.14744187]\t 1.6510661816662968\t 1.3678797200853317\t -1.8590260259050908\n",
            "5  \t [ 0.39911366  2.27406121  5.          0.77602794 15.          0.84297554]\t 1.4369836357415853\t 1.3678797200853317\t -1.8769326893653768\n",
            "6  \t [7.23361044 1.08995034 6.         0.82296879 2.         0.31865241]\t 1.616263041019262\t 1.3678797200853317\t -1.8663933300900049\n",
            "7  \t [ 6.69157798  8.70257949  6.          0.87919364 18.          0.65415334]\t 1.4758125794863257\t 1.3678797200853317\t -1.8769582394182482\n",
            "8  \t [ 9.397564    0.64447703 14.          0.74948374  4.          0.99659704]\t 1.37479542388165\t 1.3678797200853317\t -1.870743521624119\n",
            "9  \t [ 8.23551556  0.83895352 13.          0.91071147 11.          0.69412763]\t 1.4459561767774924\t 1.3678797200853317\t -1.8575116169653907\n",
            "10 \t [4.22126568 9.13569687 8.         0.87313127 1.         0.29368869]\t 1.609746398066654\t 1.3678797200853317\t -1.8512868313865252\n",
            "11 \t [ 0.02581662  0.61565532 10.          0.78602721  5.          0.89325556]\t 1.374368614137194\t 1.3678797200853317\t -1.8597741870991027\n",
            "12 \t [ 0.56626357  6.80796034  8.          0.95247353 19.          0.13325772]\t 1.6504425520647423\t 1.3678797200853317\t -1.849234604337626\n",
            "13 \t [ 0.56142367  0.70996187 14.          0.5646257  16.          0.45400367]\t 1.565213101553968\t 1.3678797200853317\t -1.859907093959579\n",
            "14 \t [ 7.44983008  8.38302634  6.          0.64062465 17.          0.4719352 ]\t 1.5812314999805566\t 1.3678797200853317\t -1.8627805518420901\n",
            "15 \t [ 8.90036638  6.5821289  14.          0.8036193   8.          0.9457138 ]\t 1.3706618127981003\t 1.3678797200853317\t -1.8324694203466725\n",
            "16 \t [ 9.55881164  0.59705104  5.          0.71787423 19.          0.47332505]\t 1.5923674320816592\t 1.3678797200853317\t -1.848135555114704\n",
            "17 \t [ 1.99297221  7.00583441 14.          0.97061169 10.          0.80475669]\t 1.3973618892476494\t 1.3678797200853317\t -1.841885429649118\n",
            "\u001b[1m\u001b[92m18\u001b[0m\t \u001b[1m\u001b[92m[ 0.20048966  7.36137967 13.          0.94540773  2.          0.91756664]\u001b[0m\t \u001b[1m\u001b[92m1.3661308580294904\u001b[0m\t \u001b[1m\u001b[92m1.3661308580294904\u001b[0m\t \u001b[1m\u001b[92m-1.836405444888229\u001b[0m\n",
            "19 \t [1.79439842 2.64418774 6.         0.91502841 9.         0.7614384 ]\t 1.4261737438745474\t 1.3661308580294904\t -1.829894400568683\n",
            "20 \t [9.66301685 5.66220248 9.         0.75138685 4.         0.21465251]\t 1.6495595943709147\t 1.3661308580294904\t -1.826639301144339\n",
            "21 \t [ 4.32227254  0.         11.73178245  1.          1.11855143  0.1       ]\t 1.6569299190961473\t 1.3661308580294904\t -1.8344654786709156\n",
            "22 \t [ 0.          0.         14.          0.5         8.71971808  0.1       ]\t 1.6514036186032741\t 1.3661308580294904\t -1.8420496536088962\n",
            "23 \t [ 8.39399938  9.46401714 11.          0.78013399 15.          0.26685275]\t 1.6119786204535724\t 1.3661308580294904\t -1.8487994467994622\n",
            "24 \t [ 0.26694236  5.70384692  9.35026003  1.         13.14045483  1.        ]\t 1.376450163675432\t 1.3661308580294904\t -1.8532667179721987\n",
            "25 \t [9.73134614 3.75687444 5.         0.58177046 8.         0.35001012]\t 1.6216676006031219\t 1.3661308580294904\t -1.8479295253810835\n",
            "26 \t [ 6.42907001  4.29834     5.          1.         12.25926444  0.1       ]\t 1.660141969234045\t 1.3661308580294904\t -1.852547872532154\n",
            "27 \t [ 1.99868288  0.04278113  9.          0.59823532 19.          0.3275543 ]\t 1.612418808684356\t 1.3661308580294904\t -1.858461450677494\n",
            "28 \t [0.         7.46554951 5.         0.5        1.         1.        ]\t 1.4305433012738231\t 1.3661308580294904\t -1.8620931739649311\n",
            "29 \t [10.         10.          9.31197274  0.5         1.          0.63684912]\t 1.4656405862083934\t 1.3661308580294904\t -1.8589490922589293\n",
            "30 \t [10.          4.24737656  8.77498458  0.8626235  16.47090049  0.1       ]\t 1.6490766170420108\t 1.3661308580294904\t -1.8571539655508216\n"
          ]
        },
        {
          "output_type": "execute_result",
          "data": {
            "text/plain": [
              "49081.59984265344"
            ]
          },
          "metadata": {},
          "execution_count": 41
        }
      ]
    },
    {
      "cell_type": "code",
      "metadata": {
        "id": "hrDQbChpZ48F",
        "colab": {
          "base_uri": "https://localhost:8080/"
        },
        "outputId": "490d5754-6b77-47fe-a908-733556ee708b"
      },
      "source": [
        "### Bayesian optimization runs (x20): 'stp' Acquisition Function run number = 2 \n",
        "\n",
        "np.random.seed(run_num_2)\n",
        "surrogate_stp_2 = tStudentProcess(cov_func, optimize=opt, nu = df)\n",
        "\n",
        "X_train2, X_test2, y_train2, y_test2 = train_test_split(X, y, test_size=test_perc, random_state=run_num_2)\n",
        "\n",
        "def f_syn_polarity2(alpha, gamma, max_depth, subsample, min_child_weight, colsample):\n",
        "    reg = XGBRegressor(reg_alpha=alpha, gamma=gamma, max_depth=int(max_depth), subsample=subsample, min_child_weight=min_child_weight,\n",
        "          colsample_bytree=colsample, n_estimators = n_est, random_state=run_num_2, objective = 'reg:squarederror')\n",
        "    score = np.array(cross_val_score(reg, X=X_train2, y=y_train2).mean())\n",
        "    return operator * score\n",
        "\n",
        "stp_2 = GPGO_multi_STP(surrogate_stp_2, Acquisition_new(util_stp), f_syn_polarity2, param, n_jobs = -1) # Define BayesOpt\n",
        "stp_2.run(max_iter = max_iter, init_evals = n_init) # run\n",
        "\n",
        "### Return optimal parameters' set:\n",
        "params_stp_2 = stp_2.getResult()[0]\n",
        "params_stp_2['max_depth'] = int(params_stp_2['max_depth'])\n",
        "params_stp_2['min_child_weight'] = int(params_stp_2['min_child_weight'])\n",
        "\n",
        "### Re-train with optimal parameters, run predictons:\n",
        "dX_stp_train2 = xgb.DMatrix(X_train2, y_train2)\n",
        "dX_stp_test2 = xgb.DMatrix(X_test2, y_test2)\n",
        "model_stp_2 = xgb.train(params_stp_2, dX_stp_train2)\n",
        "pred_stp_2 = model_stp_2.predict(dX_stp_test2)\n",
        "\n",
        "rmse_stp_2 = np.sqrt(mean_squared_error(pred_stp_2, y_test2))\n",
        "rmse_stp_2"
      ],
      "execution_count": 42,
      "outputs": [
        {
          "output_type": "stream",
          "name": "stdout",
          "text": [
            "Evaluation \t Proposed point \t  Current eval. \t  Best eval. \t Min. ApproxAcqFunc \n",
            "init\t [ 4.35994902  0.25926232 11.          0.97386531 12.          0.47833102]\t 1.4860127799448324\t 1.4169097144768446\t    \n",
            "init\t [ 3.30334821  2.04648634 10.          0.55997527  6.          0.71472339]\t 1.4169097144768446\t 1.4169097144768446\t    \n",
            "init\t [ 4.9856117   5.86796978  8.          0.89266757 11.          0.59158659]\t 1.4327785108491773\t 1.4169097144768446\t    \n",
            "init\t [ 4.07307832  1.76984624 13.          0.75262305  7.          0.35908193]\t 1.5060418558860291\t 1.4169097144768446\t    \n",
            "init\t [ 1.16193318  1.81727038  9.          0.79837265 19.          0.29965165]\t 1.5035568847025498\t 1.4169097144768446\t    \n",
            "\u001b[1m\u001b[92m1\u001b[0m\t \u001b[1m\u001b[92m[9.68290573 5.74953535 8.         0.93445831 2.         0.81872709]\u001b[0m\t \u001b[1m\u001b[92m1.410960072516526\u001b[0m\t \u001b[1m\u001b[92m1.410960072516526\u001b[0m\t \u001b[1m\u001b[92m-1.7976777494104939\u001b[0m\n",
            "\u001b[1m\u001b[92m2\u001b[0m\t \u001b[1m\u001b[92m[ 0.52749831  8.95853851 14.          0.92466865  2.          0.90882939]\u001b[0m\t \u001b[1m\u001b[92m1.3954650260681372\u001b[0m\t \u001b[1m\u001b[92m1.3954650260681372\u001b[0m\t \u001b[1m\u001b[92m-1.786261203845995\u001b[0m\n",
            "3  \t [ 1.04358891  9.72033478 14.          0.5859025  14.          0.459264  ]\t 1.4919167754482563\t 1.3954650260681372\t -1.7754355410607945\n",
            "4  \t [ 9.14946201  2.43697872  6.          0.997805   19.          0.45949208]\t 1.4960501038407483\t 1.3954650260681372\t -1.7772664784757068\n",
            "5  \t [ 9.5379981   6.75156043 13.          0.51721368 16.          0.92963453]\t 1.4049053936038498\t 1.3954650260681372\t -1.787679140638781\n",
            "6  \t [0.53023554 8.79041977 6.         0.85342606 1.         0.93968064]\t 1.4201040141226167\t 1.3954650260681372\t -1.7810857346560154\n",
            "7  \t [ 4.17100808  9.12510953  5.          0.89192256 19.          0.7367526 ]\t 1.4411130513766053\t 1.3954650260681372\t -1.7769015931342258\n",
            "8  \t [ 9.80429676  9.59801315  7.          0.61168386 14.          0.66107461]\t 1.4213479852528503\t 1.3954650260681372\t -1.7763021915104704\n",
            "9  \t [ 8.57602235  9.83360074 12.          0.99133635  7.          0.25584574]\t 1.500520260093468\t 1.3954650260681372\t -1.7734686201776797\n",
            "10 \t [3.02412982 1.15832654 5.         0.9752514  1.         0.26218357]\t 1.5050745688542906\t 1.3954650260681372\t -1.7785089673339167\n",
            "11 \t [ 9.43489051  1.92776052  5.          0.94651025 13.          0.65362327]\t 1.4417246252147369\t 1.3954650260681372\t -1.7829566247151722\n",
            "12 \t [ 0.22607591  0.11438242  6.          0.55309011 12.          0.41605535]\t 1.5003250778167652\t 1.3954650260681372\t -1.7826732160268228\n",
            "13 \t [ 9.70148981  3.84860271 14.          0.8648022   1.          0.77351018]\t 1.4127484105542536\t 1.3954650260681372\t -1.785667700877882\n",
            "14 \t [ 1.37888392  3.86223657 14.          0.60769558 17.          0.61806595]\t 1.4351586941270393\t 1.3954650260681372\t -1.7797086881391222\n",
            "15 \t [8.29794216 8.90521481 5.         0.55764001 8.         0.20104385]\t 1.5105423238458695\t 1.3954650260681372\t -1.778614928402178\n",
            "16 \t [ 0.67439003  4.547758   11.          0.68610692 12.          0.15747523]\t 1.5080656024232701\t 1.3954650260681372\t -1.7849903608952744\n",
            "17 \t [0.09248951 9.60004665 8.6917607  0.94814076 6.38390972 0.12557805]\t 1.5051917128177046\t 1.3954650260681372\t -1.7850823971661844\n",
            "18 \t [ 4.59323851  0.19340202 13.          0.579303    1.          0.64431952]\t 1.4228076544126504\t 1.3954650260681372\t -1.7876609132500998\n",
            "19 \t [ 8.21799102  0.75840382 13.          0.74503318 19.          0.27131427]\t 1.5048968651383365\t 1.3954650260681372\t -1.7858051305273945\n",
            "20 \t [4.72316062 6.00755958 5.         0.96353865 4.         0.29121697]\t 1.5044363129039322\t 1.3954650260681372\t -1.78813275219208\n",
            "21 \t [ 9.27352725  2.16896827 10.          0.9861713   7.          0.64789602]\t 1.409127715267688\t 1.3954650260681372\t -1.7902563616257812\n",
            "22 \t [ 5.31332595  7.12575058 14.          0.83432475 11.          0.10517015]\t 1.5075873013492262\t 1.3954650260681372\t -1.7879112952610159\n",
            "23 \t [ 2.0300463   2.64921882  5.          0.71251173 10.          0.15856431]\t 1.510569570928374\t 1.3954650260681372\t -1.7913090096848698\n",
            "24 \t [ 0.56305423  6.00458644  5.          0.55233032 15.          0.43519673]\t 1.503947847146152\t 1.3954650260681372\t -1.7921166415871423\n",
            "25 \t [10.  10.  15.   0.5  1.   1. ]\t 1.400225881126869\t 1.3954650260681372\t -1.793800151888782\n",
            "26 \t [ 4.05441987  9.08567802 11.          0.51938427 18.          0.95193902]\t 1.4068249303677078\t 1.3954650260681372\t -1.791309813057121\n",
            "27 \t [7.09310698 0.         5.         1.         6.85130089 0.1       ]\t 1.566146024358702\t 1.3954650260681372\t -1.7892146694646722\n",
            "28 \t [ 5.73270853  5.92441824 11.21934501  0.72802949  1.          0.67570675]\t 1.4181259901604637\t 1.3954650260681372\t -1.7932557806594598\n",
            "29 \t [10.          0.          9.70294133  0.5        14.34154037  0.1       ]\t 1.5078054555494476\t 1.3954650260681372\t -1.7916229249200448\n",
            "30 \t [3.20715151 9.36145496 7.         0.74139391 2.         0.6625069 ]\t 1.4232671874810692\t 1.3954650260681372\t -1.7934601097569773\n"
          ]
        },
        {
          "output_type": "execute_result",
          "data": {
            "text/plain": [
              "51353.41959928037"
            ]
          },
          "metadata": {},
          "execution_count": 42
        }
      ]
    },
    {
      "cell_type": "code",
      "metadata": {
        "id": "HpUPyXRfZ95Y",
        "colab": {
          "base_uri": "https://localhost:8080/"
        },
        "outputId": "617d5087-4107-4b91-f385-7f68ceff0b53"
      },
      "source": [
        "### Bayesian optimization runs (x20): 'stp' Acquisition Function run number = 3 \n",
        "\n",
        "np.random.seed(run_num_3)\n",
        "surrogate_stp_3 = tStudentProcess(cov_func, optimize=opt, nu = df)\n",
        "\n",
        "X_train3, X_test3, y_train3, y_test3 = train_test_split(X, y, test_size=test_perc, random_state=run_num_3)\n",
        "\n",
        "def f_syn_polarity3(alpha, gamma, max_depth, subsample, min_child_weight, colsample):\n",
        "    reg = XGBRegressor(reg_alpha=alpha, gamma=gamma, max_depth=int(max_depth), subsample=subsample, min_child_weight=min_child_weight,\n",
        "          colsample_bytree=colsample, n_estimators = n_est, random_state=run_num_3, objective = 'reg:squarederror')\n",
        "    score = np.array(cross_val_score(reg, X=X_train3, y=y_train3).mean())\n",
        "    return operator * score\n",
        "\n",
        "stp_3 = GPGO_multi_STP(surrogate_stp_3, Acquisition_new(util_stp), f_syn_polarity3, param, n_jobs = -1) # Define BayesOpt\n",
        "stp_3.run(max_iter = max_iter, init_evals = n_init) # run\n",
        "\n",
        "### Return optimal parameters' set:\n",
        "params_stp_3 = stp_3.getResult()[0]\n",
        "params_stp_3['max_depth'] = int(params_stp_3['max_depth'])\n",
        "params_stp_3['min_child_weight'] = int(params_stp_3['min_child_weight'])\n",
        "\n",
        "### Re-train with optimal parameters, run predictons:\n",
        "dX_stp_train3 = xgb.DMatrix(X_train3, y_train3)\n",
        "dX_stp_test3 = xgb.DMatrix(X_test3, y_test3)\n",
        "model_stp_3 = xgb.train(params_stp_3, dX_stp_train3)\n",
        "pred_stp_3 = model_stp_3.predict(dX_stp_test3)\n",
        "\n",
        "rmse_stp_3 = np.sqrt(mean_squared_error(pred_stp_3, y_test3))\n",
        "rmse_stp_3"
      ],
      "execution_count": 43,
      "outputs": [
        {
          "output_type": "stream",
          "name": "stdout",
          "text": [
            "Evaluation \t Proposed point \t  Current eval. \t  Best eval. \t Min. ApproxAcqFunc \n",
            "init\t [ 5.50797903  7.08147823 13.          0.56066429 11.          0.11687321]\t 1.658976916292621\t 1.5210450722954243\t    \n",
            "init\t [ 0.40630737  2.47888297 11.          0.72040492 13.          0.23083313]\t 1.6618243503452674\t 1.5210450722954243\t    \n",
            "init\t [ 4.53172301  2.15577008 11.          0.74631796  2.          0.60296868]\t 1.5210450722954243\t 1.5210450722954243\t    \n",
            "init\t [ 2.59252447  4.15101197 13.          0.79330998  8.          0.24118096]\t 1.6631154838515818\t 1.5210450722954243\t    \n",
            "init\t [ 5.44649018  7.80314765 10.          0.62879264 18.          0.44917413]\t 1.5829020757643195\t 1.5210450722954243\t    \n",
            "1  \t [1.56262424 9.7795241  5.         0.91450054 5.         0.53102391]\t 1.5403180511194614\t 1.5210450722954243\t -1.9823453361028804\n",
            "\u001b[1m\u001b[92m2\u001b[0m\t \u001b[1m\u001b[92m[5.34640509 2.09651068 5.         0.7562118  7.         0.70602368]\u001b[0m\t \u001b[1m\u001b[92m1.4915870485235758\u001b[0m\t \u001b[1m\u001b[92m1.4915870485235758\u001b[0m\t \u001b[1m\u001b[92m-1.966695042286969\u001b[0m\n",
            "3  \t [ 9.85104782  7.8871977   9.          0.87115246 15.          0.12942222]\t 1.6617579051698812\t 1.4915870485235758\t -1.9473273422747586\n",
            "4  \t [ 9.42435343  1.01733399  6.          0.80913221 15.          0.22574188]\t 1.6658137223292742\t 1.4915870485235758\t -1.9585289770440402\n",
            "5  \t [ 9.69358275  8.62650445 10.          0.99467439  3.          0.15497837]\t 1.6628630857284423\t 1.4915870485235758\t -1.967772658840324\n",
            "6  \t [8.72963844 7.68380499 5.         0.79423268 4.         0.54068507]\t 1.5406433854110304\t 1.4915870485235758\t -1.9747612431283261\n",
            "7  \t [ 9.74929058  1.51205926 11.          0.50025602  8.          0.46132437]\t 1.59016257705781\t 1.4915870485235758\t -1.9669366244970843\n",
            "8  \t [ 7.24792408  0.65921928 12.          0.54318764 19.          0.40432514]\t 1.5862544788114725\t 1.4915870485235758\t -1.9653256440623545\n",
            "\u001b[1m\u001b[92m9\u001b[0m\t \u001b[1m\u001b[92m[ 1.10659828  9.06323562  6.          0.78045487 14.          0.88521866]\u001b[0m\t \u001b[1m\u001b[92m1.4283801749660165\u001b[0m\t \u001b[1m\u001b[92m1.4283801749660165\u001b[0m\t \u001b[1m\u001b[92m-1.9635952522828486\u001b[0m\n",
            "10 \t [ 0.59117942  7.04764364 14.          0.92579676 15.          0.40983297]\t 1.5786794893204115\t 1.4283801749660165\t -1.9490562052646685\n",
            "\u001b[1m\u001b[92m11\u001b[0m\t \u001b[1m\u001b[92m[ 4.64864154  8.87598512 13.          0.88153635  6.          0.95606382]\u001b[0m\t \u001b[1m\u001b[92m1.4035641402375987\u001b[0m\t \u001b[1m\u001b[92m1.4035641402375987\u001b[0m\t \u001b[1m\u001b[92m-1.948051173445723\u001b[0m\n",
            "12 \t [ 3.45995612  1.40522698  7.          0.71313364 15.          0.81601584]\t 1.440323768311429\t 1.4035641402375987\t -1.9345310871957107\n",
            "13 \t [0.28002919 1.86471402 5.         0.90893429 3.         0.44808833]\t 1.5972277209590486\t 1.4035641402375987\t -1.924852923403083\n",
            "14 \t [ 0.26918834  0.54620891 14.          0.52178873 19.          0.75307438]\t 1.4344837677061553\t 1.4035641402375987\t -1.9267109247448875\n",
            "15 \t [ 9.37649128  3.05276971 14.          0.54880543  1.          0.79355672]\t 1.444942182541684\t 1.4035641402375987\t -1.918381562808295\n",
            "16 \t [9.08126432 3.56543214 8.         0.91637613 1.         0.41674238]\t 1.5829616159456612\t 1.4035641402375987\t -1.9113554386960676\n",
            "17 \t [ 7.28800519  3.42733252 13.          0.71630134  3.          0.11782845]\t 1.6617912887495436\t 1.4035641402375987\t -1.9128510767610059\n",
            "18 \t [ 9.76259105  7.4494477  12.          0.85206479 12.          0.49507456]\t 1.5803107422712726\t 1.4035641402375987\t -1.9172022887400006\n",
            "19 \t [ 3.94332179  9.1906216  11.          0.97980296  9.          0.37796502]\t 1.5809501842452314\t 1.4035641402375987\t -1.918783121811751\n",
            "20 \t [ 8.45180162  1.53883937 13.          0.71393476 14.          0.37385597]\t 1.6509335046899793\t 1.4035641402375987\t -1.9138009235979647\n",
            "21 \t [ 9.955918    2.13339982 12.          0.5868864  19.          0.45002709]\t 1.583288239519137\t 1.4035641402375987\t -1.9210287620035658\n",
            "22 \t [ 8.76398924  9.97982024 10.          0.54995079  8.          0.93627878]\t 1.4086443059972078\t 1.4035641402375987\t -1.9236169489719364\n",
            "23 \t [ 5.15549454  4.4614139   9.          0.66451181 12.          0.23780495]\t 1.6605511085713776\t 1.4035641402375987\t -1.9170565757435414\n",
            "24 \t [8.57158461 3.23882702 6.         0.66935238 9.         0.96645926]\t 1.4279930634670954\t 1.4035641402375987\t -1.9248771989190057\n",
            "25 \t [4.81497875 8.09225495 7.         0.70111979 1.         0.2311772 ]\t 1.664305501865443\t 1.4035641402375987\t -1.909495378471481\n",
            "26 \t [ 0.51407154  7.99695533 13.          0.77839516  6.          0.24524783]\t 1.6635754936627716\t 1.4035641402375987\t -1.9182512516915615\n",
            "27 \t [0.81689328 6.38946517 6.         0.73835692 9.         0.64779535]\t 1.4839079532152446\t 1.4035641402375987\t -1.9261990317811786\n",
            "28 \t [1.80608316 5.47523894 7.         0.53131298 5.         0.44936656]\t 1.589876590679332\t 1.4035641402375987\t -1.9227301039509357\n",
            "29 \t [ 0.9489941   6.82552515 10.          0.98052554  1.          0.57888217]\t 1.5159878087259606\t 1.4035641402375987\t -1.9260943666167434\n",
            "30 \t [0.44842444 0.25802731 9.         0.5015539  8.         0.76391285]\t 1.437299312908887\t 1.4035641402375987\t -1.9141012142855867\n"
          ]
        },
        {
          "output_type": "execute_result",
          "data": {
            "text/plain": [
              "47855.42941260996"
            ]
          },
          "metadata": {},
          "execution_count": 43
        }
      ]
    },
    {
      "cell_type": "code",
      "metadata": {
        "id": "SKX_nfEaaAwm",
        "colab": {
          "base_uri": "https://localhost:8080/"
        },
        "outputId": "edbb8ee7-fe9f-453a-e98e-85c60a95ee10"
      },
      "source": [
        "### Bayesian optimization runs (x20): 'stp' Acquisition Function run number = 4 \n",
        "\n",
        "np.random.seed(run_num_4)\n",
        "surrogate_stp_4 = tStudentProcess(cov_func, optimize=opt, nu = df)\n",
        "\n",
        "X_train4, X_test4, y_train4, y_test4 = train_test_split(X, y, test_size=test_perc, random_state=run_num_4)\n",
        "\n",
        "def f_syn_polarity4(alpha, gamma, max_depth, subsample, min_child_weight, colsample):\n",
        "    reg = XGBRegressor(reg_alpha=alpha, gamma=gamma, max_depth=int(max_depth), subsample=subsample, min_child_weight=min_child_weight,\n",
        "          colsample_bytree=colsample, n_estimators = n_est, random_state=run_num_4, objective = 'reg:squarederror')\n",
        "    score = np.array(cross_val_score(reg, X=X_train4, y=y_train4).mean())\n",
        "    return operator * score\n",
        "\n",
        "stp_4 = GPGO_multi_STP(surrogate_stp_4, Acquisition_new(util_stp), f_syn_polarity4, param, n_jobs = -1) # Define BayesOpt\n",
        "stp_4.run(max_iter = max_iter, init_evals = n_init) # run\n",
        "\n",
        "### Return optimal parameters' set:\n",
        "params_stp_4 = stp_4.getResult()[0]\n",
        "params_stp_4['max_depth'] = int(params_stp_4['max_depth'])\n",
        "params_stp_4['min_child_weight'] = int(params_stp_4['min_child_weight'])\n",
        "\n",
        "### Re-train with optimal parameters, run predictons:\n",
        "dX_stp_train4 = xgb.DMatrix(X_train4, y_train4)\n",
        "dX_stp_test4 = xgb.DMatrix(X_test4, y_test4)\n",
        "model_stp_4 = xgb.train(params_stp_4, dX_stp_train4)\n",
        "pred_stp_4 = model_stp_4.predict(dX_stp_test4)\n",
        "\n",
        "rmse_stp_4 = np.sqrt(mean_squared_error(pred_stp_4, y_test4))\n",
        "rmse_stp_4"
      ],
      "execution_count": 44,
      "outputs": [
        {
          "output_type": "stream",
          "name": "stdout",
          "text": [
            "Evaluation \t Proposed point \t  Current eval. \t  Best eval. \t Min. ApproxAcqFunc \n",
            "init\t [9.67029839 5.47232249 6.         0.92781047 9.         0.72795594]\t 1.4430569076610322\t 1.38492629511548\t    \n",
            "init\t [ 2.16089496  9.76274455 12.          0.62649118  9.          0.66966679]\t 1.4187070295885058\t 1.38492629511548\t    \n",
            "init\t [ 0.05159149  5.72356491  9.          0.99170034 10.          0.10808749]\t 1.6911169704550582\t 1.38492629511548\t    \n",
            "init\t [ 3.86571283  0.44160058 10.          0.90553105 18.          0.95407958]\t 1.38492629511548\t 1.38492629511548\t    \n",
            "init\t [ 7.86305986  8.66289299  6.          0.53285477 14.          0.25117497]\t 1.557078690359533\t 1.38492629511548\t    \n",
            "1  \t [ 8.45443649  8.61014312 11.          0.83475494  1.          0.14018305]\t 1.6919233052610914\t 1.38492629511548\t -1.8409941020501068\n",
            "2  \t [ 1.19144901  0.20061578 14.          0.54901792  2.          0.56584011]\t 1.450254928952909\t 1.38492629511548\t -1.8814963427550753\n",
            "3  \t [ 9.65515096  3.35454488 14.          0.5800788   7.          0.77160454]\t 1.4204385895877212\t 1.38492629511548\t -1.8668170441507193\n",
            "4  \t [4.02841372 0.68351319 7.         0.84100098 4.         0.70236376]\t 1.427550921274713\t 1.38492629511548\t -1.8514029274933528\n",
            "5  \t [ 4.9988001   9.59454969 13.          0.65194162 18.          0.46186646]\t 1.504391527341918\t 1.38492629511548\t -1.8402411517685828\n",
            "6  \t [3.67179272 8.2734897  5.         0.93928045 2.         0.27663877]\t 1.5564616239948126\t 1.38492629511548\t -1.8404662980058366\n",
            "7  \t [ 8.93487412  1.33822881  5.          0.61982272 18.          0.72796667]\t 1.4668570901629248\t 1.38492629511548\t -1.846545810032127\n",
            "8  \t [ 0.19957456  0.70863234  6.          0.50332519 13.          0.6466269 ]\t 1.4521785435504284\t 1.38492629511548\t -1.8424286293295484\n",
            "9  \t [ 3.81003529  1.75351811 14.          0.88515172 12.          0.2827001 ]\t 1.5550941748691949\t 1.38492629511548\t -1.8375961264759166\n",
            "10 \t [ 0.79250634  6.36332745  6.          0.84703891 17.          0.8628914 ]\t 1.4448878111930763\t 1.38492629511548\t -1.8424608490684882\n",
            "11 \t [ 0.53502072  2.1016338   9.          0.87561207 14.          0.700247  ]\t 1.414424913073379\t 1.38492629511548\t -1.837693467810322\n",
            "12 \t [ 3.45939085  6.40379486 14.          0.73582567  4.          0.44043181]\t 1.5126000504585635\t 1.38492629511548\t -1.8312933490564909\n",
            "\u001b[1m\u001b[92m13\u001b[0m\t \u001b[1m\u001b[92m[ 9.08440817  9.82408579 12.          0.80447775 12.          0.99032159]\u001b[0m\t \u001b[1m\u001b[92m1.3839744694546579\u001b[0m\t \u001b[1m\u001b[92m1.3839744694546579\u001b[0m\t \u001b[1m\u001b[92m-1.8327248606286977\u001b[0m\n",
            "14 \t [ 9.57077913  3.92233574 13.          0.55325175 14.          0.4172464 ]\t 1.5085091273597373\t 1.3839744694546579\t -1.8238268986564548\n",
            "15 \t [9.90751316 8.14292801 5.         0.51996526 3.         0.39901181]\t 1.5359221990553198\t 1.3839744694546579\t -1.8260563300837136\n",
            "16 \t [ 5.38004042  8.27188657  6.          0.96097537 18.          0.5545522 ]\t 1.4660076414193473\t 1.3839744694546579\t -1.8308673113824896\n",
            "17 \t [ 5.11494692  2.7564546   7.          0.98745616 10.          0.84044476]\t 1.4248033219686054\t 1.3839744694546579\t -1.8232276244910135\n",
            "18 \t [8.10792657 3.85652361 8.         0.69382753 1.         0.79237187]\t 1.4224410001208754\t 1.3839744694546579\t -1.8239945867913292\n",
            "19 \t [ 6.57370468  5.0664216  10.          0.67102904  6.          0.16705485]\t 1.6918355887140002\t 1.3839744694546579\t -1.821504616404874\n",
            "20 \t [ 7.65029445  9.04448304 14.          0.66146413  7.          0.53952439]\t 1.4395070210411667\t 1.3839744694546579\t -1.8306356599542668\n",
            "\u001b[1m\u001b[92m21\u001b[0m\t \u001b[1m\u001b[92m[ 2.82875377  0.         11.29172597  0.5         7.50718798  1.        ]\u001b[0m\t \u001b[1m\u001b[92m1.3763027846280065\u001b[0m\t \u001b[1m\u001b[92m1.3763027846280065\u001b[0m\t \u001b[1m\u001b[92m-1.8251800421777822\u001b[0m\n",
            "22 \t [5.33647378 9.04110861 9.         0.9143407  6.         0.45985367]\t 1.504777659123507\t 1.3763027846280065\t -1.8232284939616537\n",
            "23 \t [4.62677245 4.96273711 6.         0.55979959 2.         0.2914919 ]\t 1.5561843707687504\t 1.3763027846280065\t -1.8236077504869563\n",
            "24 \t [ 0.29435582  4.4665796  13.          0.92001217 19.          0.54551567]\t 1.4306121448598657\t 1.3763027846280065\t -1.8239560586540364\n",
            "25 \t [5.83558698 8.82341108 6.         0.83145678 5.         0.52856831]\t 1.4637815796756217\t 1.3763027846280065\t -1.8252761347324937\n",
            "26 \t [ 9.97728076  2.45682783 14.          0.69765762  1.          0.91999585]\t 1.3895769653687058\t 1.3763027846280065\t -1.8204988715386385\n",
            "27 \t [ 0.          3.28165127 15.          1.          7.30932965  0.1       ]\t 1.6912618345229724\t 1.3763027846280065\t -1.8169091193189306\n",
            "28 \t [ 1.58056079  9.17532346  5.          0.64516766 10.          0.68157167]\t 1.467349534367037\t 1.3763027846280065\t -1.825141063014907\n",
            "29 \t [ 0.         10.         11.48836465  0.86019219  1.51915234  0.1       ]\t 1.6926255559593972\t 1.3763027846280065\t -1.8243234845684002\n",
            "30 \t [ 7.40157393  4.34615138 10.          0.9851436  19.          0.7291735 ]\t 1.410677788528227\t 1.3763027846280065\t -1.8318977827859917\n"
          ]
        },
        {
          "output_type": "execute_result",
          "data": {
            "text/plain": [
              "51125.083991616215"
            ]
          },
          "metadata": {},
          "execution_count": 44
        }
      ]
    },
    {
      "cell_type": "code",
      "metadata": {
        "id": "PJmI9saAaEG1",
        "colab": {
          "base_uri": "https://localhost:8080/"
        },
        "outputId": "86fe6bae-ba2a-4e21-e233-aecf6e5386af"
      },
      "source": [
        "### Bayesian optimization runs (x20): 'stp' Acquisition Function run number = 5 \n",
        "\n",
        "np.random.seed(run_num_5)\n",
        "surrogate_stp_5 = tStudentProcess(cov_func, optimize=opt, nu = df)\n",
        "\n",
        "X_train5, X_test5, y_train5, y_test5 = train_test_split(X, y, test_size=test_perc, random_state=run_num_5)\n",
        "\n",
        "def f_syn_polarity5(alpha, gamma, max_depth, subsample, min_child_weight, colsample):\n",
        "    reg = XGBRegressor(reg_alpha=alpha, gamma=gamma, max_depth=int(max_depth), subsample=subsample, min_child_weight=min_child_weight,\n",
        "          colsample_bytree=colsample, n_estimators = n_est, random_state=run_num_5, objective = 'reg:squarederror')\n",
        "    score = np.array(cross_val_score(reg, X=X_train5, y=y_train5).mean())\n",
        "    return operator * score\n",
        "\n",
        "stp_5 = GPGO_multi_STP(surrogate_stp_5, Acquisition_new(util_stp), f_syn_polarity5, param, n_jobs = -1) # Define BayesOpt\n",
        "stp_5.run(max_iter = max_iter, init_evals = n_init) # run\n",
        "\n",
        "### Return optimal parameters' set:\n",
        "params_stp_5 = stp_5.getResult()[0]\n",
        "params_stp_5['max_depth'] = int(params_stp_5['max_depth'])\n",
        "params_stp_5['min_child_weight'] = int(params_stp_5['min_child_weight'])\n",
        "\n",
        "### Re-train with optimal parameters, run predictons:\n",
        "dX_stp_train5 = xgb.DMatrix(X_train5, y_train5)\n",
        "dX_stp_test5 = xgb.DMatrix(X_test5, y_test5)\n",
        "model_stp_5 = xgb.train(params_stp_5, dX_stp_train5)\n",
        "pred_stp_5 = model_stp_5.predict(dX_stp_test5)\n",
        "\n",
        "rmse_stp_5 = np.sqrt(mean_squared_error(pred_stp_5, y_test5))\n",
        "rmse_stp_5"
      ],
      "execution_count": 45,
      "outputs": [
        {
          "output_type": "stream",
          "name": "stdout",
          "text": [
            "Evaluation \t Proposed point \t  Current eval. \t  Best eval. \t Min. ApproxAcqFunc \n",
            "init\t [ 2.21993171  8.70732306 11.          0.68186845 10.          0.53957007]\t 1.437240644949997\t 1.4314427524402045\t    \n",
            "init\t [ 6.11743863  7.65907856  5.          0.64840025 16.          0.82745351]\t 1.4314427524402045\t 1.4314427524402045\t    \n",
            "init\t [ 6.49458883  8.19472793  6.          0.93996852 19.          0.36647194]\t 1.5681212058087062\t 1.4314427524402045\t    \n",
            "init\t [ 6.28787909  5.7983781   6.          0.63290956 17.          0.18402673]\t 1.571097153432666\t 1.4314427524402045\t    \n",
            "init\t [8.26554249 8.33492742 9.         0.97900675 3.         0.26957319]\t 1.5587909137089784\t 1.4314427524402045\t    \n",
            "1  \t [1.95474956 1.21548467 5.         0.65548996 6.         0.3261206 ]\t 1.5743532080703466\t 1.4314427524402045\t -1.8242517075926645\n",
            "\u001b[1m\u001b[92m2\u001b[0m\t \u001b[1m\u001b[92m[ 4.2465708   0.13140082 14.          0.86560758 16.          0.97763503]\u001b[0m\t \u001b[1m\u001b[92m1.3918597599995404\u001b[0m\t \u001b[1m\u001b[92m1.3918597599995404\u001b[0m\t \u001b[1m\u001b[92m-1.8428398224403877\u001b[0m\n",
            "3  \t [ 7.2080363   0.14020863 14.          0.70262402  1.          0.81354205]\t 1.3997016925775998\t 1.3918597599995404\t -1.8241249722167239\n",
            "4  \t [ 0.04070034  5.56034711 10.          0.56681631  1.          0.49171878]\t 1.4941186976733285\t 1.3918597599995404\t -1.8100420410349376\n",
            "\u001b[1m\u001b[92m5\u001b[0m\t \u001b[1m\u001b[92m[ 1.70155417  0.74723101 13.          0.73324291  8.          0.73387553]\u001b[0m\t \u001b[1m\u001b[92m1.3917587347617182\u001b[0m\t \u001b[1m\u001b[92m1.3917587347617182\u001b[0m\t \u001b[1m\u001b[92m-1.8124131108833461\u001b[0m\n",
            "6  \t [ 9.64635884  9.52633265 14.          0.67611826 10.          0.87506739]\t 1.3950222527784084\t 1.3917587347617182\t -1.80180853272196\n",
            "7  \t [ 8.42971229  6.5300671  14.          0.89739228 17.          0.56291282]\t 1.4307838425295372\t 1.3917587347617182\t -1.793454245363302\n",
            "8  \t [ 9.89236087  2.32595295 11.          0.85038194  9.          0.88011109]\t 1.3918225646776825\t 1.3917587347617182\t -1.7900614506549564\n",
            "9  \t [ 0.63603768  7.05806818 11.          0.8561035  19.          0.31669289]\t 1.5594967825311663\t 1.3917587347617182\t -1.7835781111452162\n",
            "10 \t [ 0.33154545  2.45627958  8.          0.87454095 14.          0.94998466]\t 1.399128412995562\t 1.3917587347617182\t -1.793051759329206\n",
            "11 \t [6.23716014 2.17771909 7.         0.97039042 2.         0.6510023 ]\t 1.4035315280133829\t 1.3917587347617182\t -1.7878163239929252\n",
            "12 \t [8.3612328  9.24550833 6.         0.53087691 9.         0.45372486]\t 1.5008093073290865\t 1.3917587347617182\t -1.7836785089385543\n",
            "13 \t [ 5.87689256  1.65841266  7.          0.87473045 12.          0.46635581]\t 1.488222561930361\t 1.3917587347617182\t -1.7869204893523434\n",
            "14 \t [ 9.48819492  1.09046481 11.          0.73457166 18.          0.44334975]\t 1.4807540213738986\t 1.3917587347617182\t -1.7910299091848727\n",
            "15 \t [2.20807099 8.12745091 5.         0.58510738 5.         0.84622149]\t 1.4319103077077435\t 1.3917587347617182\t -1.7936347173415248\n",
            "16 \t [ 3.76483626 10.         14.          0.5        14.90514682  0.1       ]\t 1.5623049108686762\t 1.3917587347617182\t -1.7902163597081435\n",
            "17 \t [ 4.90201764  5.5055993  12.          0.62291616  4.          0.3890695 ]\t 1.4894746444565308\t 1.3917587347617182\t -1.7961277303066707\n",
            "18 \t [ 4.65921872  0.          7.34931607  0.5        18.84998162  0.1       ]\t 1.565362447521904\t 1.3917587347617182\t -1.797358843430584\n",
            "19 \t [ 2.03524569 10.         12.20088197  0.59323011  4.06592609  0.1       ]\t 1.5625448265824375\t 1.3917587347617182\t -1.8025094990652442\n",
            "20 \t [7.76442734 1.29535915 6.         0.62566757 7.         0.99920868]\t 1.4192026696755498\t 1.3917587347617182\t -1.812660741473213\n",
            "21 \t [ 0.26037909  7.96430976  5.          0.57300432 18.          0.65170572]\t 1.4322391576263276\t 1.3917587347617182\t -1.8044872844383877\n",
            "22 \t [10.          4.67841926  5.          0.88519394 10.61616771  0.4785984 ]\t 1.5100429620769904\t 1.3917587347617182\t -1.8026460968015574\n",
            "23 \t [ 4.47205447  5.47829798 10.84177767  0.5        13.91752292  0.1       ]\t 1.5622454985092862\t 1.3917587347617182\t -1.8043381409128754\n",
            "24 \t [ 2.76775013  9.52309073  5.          0.93179293 12.          0.47326836]\t 1.5085907303447577\t 1.3917587347617182\t -1.808206775592981\n",
            "\u001b[1m\u001b[92m25\u001b[0m\t \u001b[1m\u001b[92m[ 8.1042222   5.73827355 15.          0.5         1.          1.        ]\u001b[0m\t \u001b[1m\u001b[92m1.388276618832118\u001b[0m\t \u001b[1m\u001b[92m1.388276618832118\u001b[0m\t \u001b[1m\u001b[92m-1.8095346733761133\u001b[0m\n",
            "\u001b[1m\u001b[92m26\u001b[0m\t \u001b[1m\u001b[92m[ 6.50437001  3.78775353 15.          0.5         8.02788955  1.        ]\u001b[0m\t \u001b[1m\u001b[92m1.3816705522885118\u001b[0m\t \u001b[1m\u001b[92m1.3816705522885118\u001b[0m\t \u001b[1m\u001b[92m-1.8061137981555788\u001b[0m\n",
            "\u001b[1m\u001b[92m27\u001b[0m\t \u001b[1m\u001b[92m[ 2.45928382  4.7743271  14.98563254  1.         11.14671659  1.        ]\u001b[0m\t \u001b[1m\u001b[92m1.3685537030812565\u001b[0m\t \u001b[1m\u001b[92m1.3685537030812565\u001b[0m\t \u001b[1m\u001b[92m-1.8026618612614171\u001b[0m\n",
            "28 \t [0.         0.         5.         0.96710828 1.         0.1       ]\t 1.5785046175819017\t 1.3685537030812565\t -1.7989592327475536\n",
            "29 \t [ 1.43561871  0.         10.36218816  0.5         1.          0.1       ]\t 1.5631653013389069\t 1.3685537030812565\t -1.8030522086815175\n",
            "30 \t [ 1.80727319  4.38376375  7.          0.79370742 19.          0.55436853]\t 1.4498024396234888\t 1.3685537030812565\t -1.8078250804575708\n"
          ]
        },
        {
          "output_type": "execute_result",
          "data": {
            "text/plain": [
              "49662.86340692011"
            ]
          },
          "metadata": {},
          "execution_count": 45
        }
      ]
    },
    {
      "cell_type": "code",
      "metadata": {
        "id": "ulhEolsxaG4k",
        "colab": {
          "base_uri": "https://localhost:8080/"
        },
        "outputId": "07c7115b-3b06-443c-c48b-d760a8f6fb43"
      },
      "source": [
        "### Bayesian optimization runs (x20): 'stp' Acquisition Function run number = 6 \n",
        "\n",
        "np.random.seed(run_num_6)\n",
        "surrogate_stp_6 = tStudentProcess(cov_func, optimize=opt, nu = df)\n",
        "\n",
        "X_train6, X_test6, y_train6, y_test6 = train_test_split(X, y, test_size=test_perc, random_state=run_num_6)\n",
        "\n",
        "def f_syn_polarity6(alpha, gamma, max_depth, subsample, min_child_weight, colsample):\n",
        "    reg = XGBRegressor(reg_alpha=alpha, gamma=gamma, max_depth=int(max_depth), subsample=subsample, min_child_weight=int(min_child_weight),\n",
        "          colsample_bytree=colsample, n_estimators = n_est, random_state=run_num_6, objective = 'reg:squarederror', eval_metric = 'rmse')\n",
        "    score = np.array(cross_val_score(reg, X=X_train6, y=y_train6).mean())\n",
        "    return operator * score\n",
        "\n",
        "stp_6 = GPGO_multi_STP(surrogate_stp_6, Acquisition_new(util_stp), f_syn_polarity6, param, n_jobs = -1) # Define BayesOpt\n",
        "stp_6.run(max_iter = max_iter, init_evals = n_init) # run\n",
        "\n",
        "### Return optimal parameters' set:\n",
        "params_stp_6 = stp_6.getResult()[0]\n",
        "params_stp_6['max_depth'] = int(params_stp_6['max_depth'])\n",
        "params_stp_6['min_child_weight'] = int(params_stp_6['min_child_weight'])\n",
        "\n",
        "### Re-train with optimal parameters, run predictons:\n",
        "dX_stp_train6 = xgb.DMatrix(X_train6, y_train6)\n",
        "dX_stp_test6 = xgb.DMatrix(X_test6, y_test6)\n",
        "model_stp_6 = xgb.train(params_stp_6, dX_stp_train6)\n",
        "pred_stp_6 = model_stp_6.predict(dX_stp_test6)\n",
        "\n",
        "rmse_stp_6 = np.sqrt(mean_squared_error(pred_stp_6, y_test6))\n",
        "rmse_stp_6"
      ],
      "execution_count": 46,
      "outputs": [
        {
          "output_type": "stream",
          "name": "stdout",
          "text": [
            "Evaluation \t Proposed point \t  Current eval. \t  Best eval. \t Min. ApproxAcqFunc \n",
            "init\t [8.92860151 3.31979805 5.         0.99251441 2.         0.57683563]\t 1.5190535184382172\t 1.467261064668007\t    \n",
            "init\t [4.18807429 3.35407849 9.         0.87750649 3.         0.56623277]\t 1.5046102560432295\t 1.467261064668007\t    \n",
            "init\t [ 5.788586    6.45355096 14.          0.70660047 12.          0.82154882]\t 1.467261064668007\t 1.467261064668007\t    \n",
            "init\t [4.58184578 6.73834679 5.         0.90108528 3.         0.65482895]\t 1.5215270866416617\t 1.467261064668007\t    \n",
            "init\t [ 4.42510505  5.75952352 14.          0.97882365 15.          0.29525604]\t 1.664748595544141\t 1.467261064668007\t    \n",
            "1  \t [ 2.61343239  0.80193947  5.          0.83898129 13.          0.84644718]\t 1.503282313171498\t 1.467261064668007\t -1.8809590321647598\n",
            "2  \t [ 9.72322443  9.21177696  5.          0.87917074 11.          0.86681736]\t 1.5025549146464172\t 1.467261064668007\t -1.874385914791825\n",
            "3  \t [9.08539649 9.07159316 6.         0.92438928 2.         0.57714482]\t 1.513506979413707\t 1.467261064668007\t -1.8705343824366862\n",
            "4  \t [ 0.10018768  9.77482356 14.          0.73747664  3.          0.33467848]\t 1.6711471095097896\t 1.467261064668007\t -1.8675745531970407\n",
            "5  \t [ 9.98151988  0.15255965  7.          0.89083951 10.          0.31750216]\t 1.6580946896214968\t 1.467261064668007\t -1.8882873391570814\n",
            "6  \t [ 2.98453858  8.8700865   6.          0.73955182 19.          0.28620498]\t 1.6585576125101582\t 1.467261064668007\t -1.9030181401184276\n",
            "7  \t [ 7.48665461  6.97677634 12.          0.7044372  19.          0.48954917]\t 1.6227030200089803\t 1.467261064668007\t -1.9156668708188063\n",
            "8  \t [ 0.04275949  6.22835687 11.          0.70129255  2.          0.57148496]\t 1.5122007126839563\t 1.467261064668007\t -1.9217516598998905\n",
            "9  \t [ 9.76712827  5.73481931 13.          0.88064956  2.          0.50071637]\t 1.512213408197589\t 1.467261064668007\t -1.916458124731733\n",
            "\u001b[1m\u001b[92m10\u001b[0m\t \u001b[1m\u001b[92m[ 9.47662851  7.34306798  6.          0.85663158 18.          0.8824685 ]\u001b[0m\t \u001b[1m\u001b[92m1.4229022069995108\u001b[0m\t \u001b[1m\u001b[92m1.4229022069995108\u001b[0m\t \u001b[1m\u001b[92m-1.911926351903757\u001b[0m\n",
            "11 \t [2.39203726 9.45144759 5.         0.61356263 9.         0.99628427]\t 1.4423476373712447\t 1.4229022069995108\t -1.9011026391493842\n",
            "12 \t [ 1.24208479  4.35303854 14.          0.50298976  9.          0.73229404]\t 1.5050962147297562\t 1.4229022069995108\t -1.8930189899023937\n",
            "\u001b[1m\u001b[92m13\u001b[0m\t \u001b[1m\u001b[92m[ 2.3417141   0.12723591 11.          0.90834495 16.          0.99870468]\u001b[0m\t \u001b[1m\u001b[92m1.3993326239384587\u001b[0m\t \u001b[1m\u001b[92m1.3993326239384587\u001b[0m\t \u001b[1m\u001b[92m-1.8897256302679784\u001b[0m\n",
            "14 \t [ 9.92643939  8.99296635 13.          0.91822558  9.          0.2725082 ]\t 1.6647353973218268\t 1.3993326239384587\t -1.8805145513571628\n",
            "15 \t [ 1.04982133  5.55894522 11.          0.6285357  19.          0.13476434]\t 1.6931186122868098\t 1.3993326239384587\t -1.8888762361059883\n",
            "16 \t [ 7.48433857  3.11346508 14.          0.60600411  7.          0.7019283 ]\t 1.5038291181706025\t 1.3993326239384587\t -1.8980844086942221\n",
            "17 \t [ 3.26189852  8.05815132 14.          0.8029651  12.          0.9893687 ]\t 1.4019777560314046\t 1.3993326239384587\t -1.8977904958927185\n",
            "18 \t [ 5.83734362  9.61584274 11.50411345  0.5         1.          0.1       ]\t 1.6939959207529935\t 1.3993326239384587\t -1.881512943419789\n",
            "19 \t [5.02527486 4.10257964 7.         0.66329432 9.         0.29825437]\t 1.6610644006503346\t 1.3993326239384587\t -1.8974797318248342\n",
            "20 \t [ 7.52844955  1.62416808  5.          0.7054702  17.          0.75941994]\t 1.5044723281338748\t 1.3993326239384587\t -1.9028714126943584\n",
            "21 \t [ 9.9678553   5.38929101  9.          0.96833118 13.          0.78490576]\t 1.466596768635155\t 1.3993326239384587\t -1.8967087887194958\n",
            "22 \t [ 3.53041501  2.0813351  13.          0.882915   11.          0.49803689]\t 1.6210894783648204\t 1.3993326239384587\t -1.9018183634082837\n",
            "23 \t [0.36652048 0.63289834 8.         0.5885884  6.         0.46015729]\t 1.6265991039819778\t 1.3993326239384587\t -1.9026411261509382\n",
            "24 \t [ 4.19248651  0.36140228  9.          0.96166064 11.          0.95415701]\t 1.4064514217342379\t 1.3993326239384587\t -1.9047282399547896\n",
            "25 \t [5.45265878 0.62973315 7.         0.87575442 6.         0.70545789]\t 1.504817336468388\t 1.3993326239384587\t -1.8990374528300797\n",
            "26 \t [ 1.05210285  9.72699154  8.          0.75839863 14.          0.81825391]\t 1.4724498678343838\t 1.3993326239384587\t -1.8937304153176928\n",
            "27 \t [ 9.45834922  5.09090549 10.          0.97621266  4.          0.43815397]\t 1.6221332183446304\t 1.3993326239384587\t -1.891795694395631\n",
            "28 \t [ 9.37084582  0.83020712 10.          0.8333332  16.          0.25813454]\t 1.6601731380508624\t 1.3993326239384587\t -1.8906002557578707\n",
            "29 \t [ 2.07089866  9.59613695 11.          0.79208773  7.          0.47798362]\t 1.6227493690254782\t 1.3993326239384587\t -1.8949501858618374\n",
            "30 \t [ 2.85616602  9.05940351  7.          0.96640665 16.          0.1654259 ]\t 1.6934870074962212\t 1.3993326239384587\t -1.9061029142887969\n"
          ]
        },
        {
          "output_type": "execute_result",
          "data": {
            "text/plain": [
              "47516.201327049035"
            ]
          },
          "metadata": {},
          "execution_count": 46
        }
      ]
    },
    {
      "cell_type": "code",
      "metadata": {
        "id": "bYebx3RVaJ1w",
        "colab": {
          "base_uri": "https://localhost:8080/"
        },
        "outputId": "858e7fd4-e88d-4128-ea58-697d458c72af"
      },
      "source": [
        "### Bayesian optimization runs (x20): 'stp' Acquisition Function run number = 7 \n",
        "\n",
        "np.random.seed(run_num_7)\n",
        "surrogate_stp_7 = tStudentProcess(cov_func, optimize=opt, nu = df)\n",
        "\n",
        "X_train7, X_test7, y_train7, y_test7 = train_test_split(X, y, test_size=test_perc, random_state=run_num_7)\n",
        "\n",
        "def f_syn_polarity7(alpha, gamma, max_depth, subsample, min_child_weight, colsample):\n",
        "    reg = XGBRegressor(reg_alpha=alpha, gamma=gamma, max_depth=int(max_depth), subsample=subsample, min_child_weight=min_child_weight,\n",
        "          colsample_bytree=colsample, n_estimators = n_est, random_state=run_num_7, objective = 'reg:squarederror')\n",
        "    score = np.array(cross_val_score(reg, X=X_train7, y=y_train7).mean())\n",
        "    return operator * score\n",
        "\n",
        "stp_7 = GPGO_multi_STP(surrogate_stp_7, Acquisition_new(util_stp), f_syn_polarity7, param, n_jobs = -1) # Define BayesOpt\n",
        "stp_7.run(max_iter = max_iter, init_evals = n_init) # run\n",
        "\n",
        "### Return optimal parameters' set:\n",
        "params_stp_7 = stp_7.getResult()[0]\n",
        "params_stp_7['max_depth'] = int(params_stp_7['max_depth'])\n",
        "params_stp_7['min_child_weight'] = int(params_stp_7['min_child_weight'])\n",
        "\n",
        "### Re-train with optimal parameters, run predictons:\n",
        "dX_stp_train7 = xgb.DMatrix(X_train7, y_train7)\n",
        "dX_stp_test7 = xgb.DMatrix(X_test7, y_test7)\n",
        "model_stp_7 = xgb.train(params_stp_7, dX_stp_train7)\n",
        "pred_stp_7 = model_stp_7.predict(dX_stp_test7)\n",
        "\n",
        "rmse_stp_7 = np.sqrt(mean_squared_error(pred_stp_7, y_test7))\n",
        "rmse_stp_7"
      ],
      "execution_count": 47,
      "outputs": [
        {
          "output_type": "stream",
          "name": "stdout",
          "text": [
            "Evaluation \t Proposed point \t  Current eval. \t  Best eval. \t Min. ApproxAcqFunc \n",
            "init\t [0.76308289 7.79918792 8.         0.98911145 8.         0.98019056]\t 1.3766913184499914\t 1.3716193029156287\t    \n",
            "init\t [ 5.3849587   5.01120464 13.          0.74994125  5.          0.88192131]\t 1.3716193029156287\t 1.3716193029156287\t    \n",
            "init\t [ 3.30839249  3.9294231  12.          0.6440728  13.          0.41137564]\t 1.4844760060500033\t 1.3716193029156287\t    \n",
            "init\t [9.29528191 2.6258377  5.         0.80027446 1.         0.86616513]\t 1.4553420696682378\t 1.3716193029156287\t    \n",
            "init\t [ 1.74052764  7.90763512 14.          0.7244129   4.          0.77536887]\t 1.4144357133522163\t 1.3716193029156287\t    \n",
            "1  \t [3.43305102 3.00339076 8.         0.71322679 4.         0.33322219]\t 1.5452875922440117\t 1.3716193029156287\t -1.7405980283985367\n",
            "2  \t [ 7.67901407  0.01632031  5.          0.51139814 16.          0.12625334]\t 1.6305402399630702\t 1.3716193029156287\t -1.7668345611861715\n",
            "3  \t [ 5.20486636  5.3567089   6.          0.94298085 15.          0.44315357]\t 1.495309574429832\t 1.3716193029156287\t -1.801518123674277\n",
            "4  \t [ 8.51295987  6.17754807 14.          0.61917724 18.          0.44756528]\t 1.486575512574436\t 1.3716193029156287\t -1.8052768686237335\n",
            "5  \t [ 2.24723402  9.87639013  8.          0.5471322  17.          0.15778995]\t 1.6278263191097693\t 1.3716193029156287\t -1.8069944594560974\n",
            "6  \t [ 9.59047089  2.23406766 14.          0.54692418 11.          0.88831858]\t 1.3770018979735992\t 1.3716193029156287\t -1.8265217697630594\n",
            "7  \t [6.61803319 5.24040339 7.         0.85144433 1.         0.2670776 ]\t 1.5461702012991343\t 1.3716193029156287\t -1.8142365109328815\n",
            "8  \t [7.64909878 8.53268121 8.         0.55257088 9.         0.3844139 ]\t 1.490026350421837\t 1.3716193029156287\t -1.820988113833646\n",
            "9  \t [ 9.1188793   0.02348488 11.          0.68496927 19.          0.69381415]\t 1.4213695985856334\t 1.3716193029156287\t -1.8212872945474987\n",
            "\u001b[1m\u001b[92m10\u001b[0m\t \u001b[1m\u001b[92m[ 2.75173532  0.25133113 13.          0.99104327  1.          0.94905981]\u001b[0m\t \u001b[1m\u001b[92m1.3664205334215516\u001b[0m\t \u001b[1m\u001b[92m1.3664205334215516\u001b[0m\t \u001b[1m\u001b[92m-1.815659549243816\u001b[0m\n",
            "11 \t [ 0.83711482  9.27558437 14.          0.74050795 19.          0.65664128]\t 1.4187436663544928\t 1.3664205334215516\t -1.8066007108373245\n",
            "12 \t [0.38759497 9.96510466 7.         0.74169819 2.         0.3508033 ]\t 1.5477195013670506\t 1.3664205334215516\t -1.802289302169374\n",
            "13 \t [ 1.41319611  2.5751638  10.          0.98767908 19.          0.27216707]\t 1.5412148068460627\t 1.3664205334215516\t -1.8078648658518048\n",
            "14 \t [ 8.72852268  3.23639466 10.          0.79470807 16.          0.81233083]\t 1.410612840843585\t 1.3664205334215516\t -1.8124714240827209\n",
            "15 \t [ 4.49427182  1.03888265  5.          0.80603136 10.          0.64510896]\t 1.4707156254211626\t 1.3664205334215516\t -1.8085496510804255\n",
            "16 \t [ 3.09505887  0.06319723 13.          0.78734419  8.          0.45279211]\t 1.4857999647327689\t 1.3664205334215516\t -1.8090061451353012\n",
            "17 \t [ 1.74050685  1.45855686  9.          0.56231389 13.          0.73990957]\t 1.42904125290273\t 1.3664205334215516\t -1.8080928687880666\n",
            "18 \t [ 6.43612215  7.9107785   8.          0.78952976 19.          0.81069666]\t 1.4181794546103497\t 1.3664205334215516\t -1.8057947014236673\n",
            "19 \t [2.40727673 8.13433043 9.         0.50822641 4.         0.28014182]\t 1.5518330761942125\t 1.3664205334215516\t -1.8016818861734791\n",
            "20 \t [ 1.1888709   2.15686627  9.          0.70603687 18.          0.36926028]\t 1.5420963486491768\t 1.3664205334215516\t -1.8078241287543433\n",
            "21 \t [ 8.76721491  9.81365394 14.          0.84897567  1.          0.2651316 ]\t 1.5491246616272967\t 1.3664205334215516\t -1.7969799922492276\n",
            "22 \t [ 8.89380832  9.31699304 14.          0.68911834  9.          0.40021447]\t 1.4853530297845352\t 1.3664205334215516\t -1.8007945337847475\n",
            "23 \t [ 9.86050225  1.46502764  7.          0.98421461 11.          0.30757201]\t 1.5462714161302156\t 1.3664205334215516\t -1.801454303383243\n",
            "24 \t [ 0.89903133  9.47673357 13.          0.77469471 10.          0.50820687]\t 1.4177279745483304\t 1.3664205334215516\t -1.8047168381293262\n",
            "25 \t [ 8.18866019  0.92229423 14.          0.87433867  2.          0.24262923]\t 1.6269807583146538\t 1.3664205334215516\t -1.802033212855342\n",
            "\u001b[1m\u001b[92m26\u001b[0m\t \u001b[1m\u001b[92m[ 5.81445285  9.17813809 14.          0.85280578 14.          0.94455091]\u001b[0m\t \u001b[1m\u001b[92m1.3650196608483582\u001b[0m\t \u001b[1m\u001b[92m1.3650196608483582\u001b[0m\t \u001b[1m\u001b[92m-1.8089259944326181\u001b[0m\n",
            "27 \t [ 9.20631132  9.49560882  5.          0.68325518 15.          0.77032177]\t 1.4554952637324337\t 1.3650196608483582\t -1.802712691632711\n",
            "28 \t [ 1.03185417  5.78718447  5.          0.56527077 19.          0.47198551]\t 1.5037799189351642\t 1.3650196608483582\t -1.8041299266511899\n",
            "29 \t [8.41118174 0.         8.1790369  0.5        5.55233263 1.        ]\t 1.3824879072167664\t 1.3650196608483582\t -1.8052477976836576\n",
            "30 \t [7.78954025 9.81844761 7.97792586 0.78158787 4.01437378 0.6947658 ]\t 1.436052014184072\t 1.3650196608483582\t -1.8021416902942\n"
          ]
        },
        {
          "output_type": "execute_result",
          "data": {
            "text/plain": [
              "48972.84061073816"
            ]
          },
          "metadata": {},
          "execution_count": 47
        }
      ]
    },
    {
      "cell_type": "code",
      "metadata": {
        "id": "xk0IPTSTbIl3",
        "colab": {
          "base_uri": "https://localhost:8080/"
        },
        "outputId": "f494f665-1f00-4399-a419-5c27cb0e7b48"
      },
      "source": [
        "### Bayesian optimization runs (x20): 'stp' Acquisition Function run number = 8 \n",
        "\n",
        "np.random.seed(run_num_8)\n",
        "surrogate_stp_8 = tStudentProcess(cov_func, optimize=opt, nu = df)\n",
        "\n",
        "X_train8, X_test8, y_train8, y_test8 = train_test_split(X, y, test_size=test_perc, random_state=run_num_8)\n",
        "\n",
        "def f_syn_polarity8(alpha, gamma, max_depth, subsample, min_child_weight, colsample):\n",
        "    reg = XGBRegressor(reg_alpha=alpha, gamma=gamma, max_depth=int(max_depth), subsample=subsample, min_child_weight=min_child_weight,\n",
        "          colsample_bytree=colsample, n_estimators = n_est, random_state=run_num_8, objective = 'reg:squarederror')\n",
        "    score = np.array(cross_val_score(reg, X=X_train8, y=y_train8).mean())\n",
        "    return operator * score\n",
        "\n",
        "stp_8 = GPGO_multi_STP(surrogate_stp_8, Acquisition_new(util_stp), f_syn_polarity8, param, n_jobs = -1) # Define BayesOpt\n",
        "stp_8.run(max_iter = max_iter, init_evals = n_init) # run\n",
        "\n",
        "### Return optimal parameters' set:\n",
        "params_stp_8 = stp_8.getResult()[0]\n",
        "params_stp_8['max_depth'] = int(params_stp_8['max_depth'])\n",
        "params_stp_8['min_child_weight'] = int(params_stp_8['min_child_weight'])\n",
        "\n",
        "### Re-train with optimal parameters, run predictons:\n",
        "dX_stp_train8 = xgb.DMatrix(X_train8, y_train8)\n",
        "dX_stp_test8 = xgb.DMatrix(X_test8, y_test8)\n",
        "model_stp_8 = xgb.train(params_stp_8, dX_stp_train8)\n",
        "pred_stp_8 = model_stp_8.predict(dX_stp_test8)\n",
        "\n",
        "rmse_stp_8 = np.sqrt(mean_squared_error(pred_stp_8, y_test8))\n",
        "rmse_stp_8"
      ],
      "execution_count": 48,
      "outputs": [
        {
          "output_type": "stream",
          "name": "stdout",
          "text": [
            "Evaluation \t Proposed point \t  Current eval. \t  Best eval. \t Min. ApproxAcqFunc \n",
            "init\t [ 8.73429403  9.68540663 10.          0.68875849  9.          0.48011572]\t 1.4345420020169601\t 1.380205361584031\t    \n",
            "init\t [ 6.12033333  7.66062926  8.          0.76133734 13.          0.93379456]\t 1.389083518296823\t 1.380205361584031\t    \n",
            "init\t [ 1.46524679  7.01527914  7.          0.90913299 10.          0.36016753]\t 1.4546623776895313\t 1.380205361584031\t    \n",
            "init\t [ 9.73855241  3.33774046 14.          0.53290419  7.          0.7088681 ]\t 1.400955898397293\t 1.380205361584031\t    \n",
            "init\t [ 3.00618018  1.82702795 11.          0.75681389 14.          0.98627449]\t 1.380205361584031\t 1.380205361584031\t    \n",
            "1  \t [4.42022545 5.48487111 9.         0.97165909 3.         0.63617522]\t 1.392033230213678\t 1.380205361584031\t -1.7295508085277722\n",
            "2  \t [ 6.32702028  8.62385466 14.          0.50944475 18.          0.63495949]\t 1.3991754050354952\t 1.380205361584031\t -1.725464489018085\n",
            "3  \t [8.02691358 0.52300563 6.         0.98815878 7.         0.44490514]\t 1.450001959741656\t 1.380205361584031\t -1.7237777192214097\n",
            "4  \t [ 8.08919191  1.80529404  6.          0.61687971 19.          0.12624217]\t 1.5194485390025407\t 1.380205361584031\t -1.7303793416905335\n",
            "5  \t [ 0.45904618  0.31422469 12.          0.85221495  5.          0.31125587]\t 1.4527204917158192\t 1.380205361584031\t -1.745366988711863\n",
            "6  \t [ 8.36802171  9.95378108 14.          0.95507422  1.          0.61033683]\t 1.4186616996558363\t 1.380205361584031\t -1.748781246119009\n",
            "7  \t [3.46520302 9.92942025 6.         0.6416633  1.         0.99685783]\t 1.4099257031895813\t 1.380205361584031\t -1.7477583476148015\n",
            "8  \t [6.80394014 8.6917782  9.         0.79865    8.         0.58840837]\t 1.4156559724258426\t 1.380205361584031\t -1.7460211717580014\n",
            "9  \t [0.26711089 1.47965823 5.         0.94483199 1.         0.67844469]\t 1.428387021119356\t 1.380205361584031\t -1.7399998860588997\n",
            "10 \t [ 2.42575645  9.87357367  5.          0.61143882 19.          0.11833201]\t 1.5217192808835498\t 1.380205361584031\t -1.7406288034971833\n",
            "11 \t [ 9.90435591  3.04626585 11.          0.64428292  1.          0.70146266]\t 1.4013976858743713\t 1.380205361584031\t -1.750356475774322\n",
            "12 \t [ 0.4883276   5.67051729 14.          0.56290349  9.          0.98401956]\t 1.3853664912890165\t 1.380205361584031\t -1.7466968603919282\n",
            "13 \t [ 0.06742733  8.7044658  13.          0.99177677  1.          0.92227268]\t 1.38155982106785\t 1.380205361584031\t -1.7444033023833252\n",
            "14 \t [ 9.92704141  1.13704854 11.          0.71016943 15.          0.28811097]\t 1.4529843688254143\t 1.380205361584031\t -1.7416733264050182\n",
            "15 \t [10.         10.         11.18098392  1.         14.55476297  0.1       ]\t 1.6334230817404685\t 1.380205361584031\t -1.7408982693771244\n",
            "16 \t [ 8.62728005  0.4952413   6.          0.56211496 13.          0.93945309]\t 1.4118366760717103\t 1.380205361584031\t -1.7596698613129655\n",
            "17 \t [ 9.94103678 10.          5.61784781  1.         17.8872834   0.1       ]\t 1.6369246633908716\t 1.380205361584031\t -1.7563720315826055\n",
            "18 \t [ 0.5849445   1.90613576 10.          0.54120797 19.          0.25613096]\t 1.4531680714766577\t 1.380205361584031\t -1.7678999964804545\n",
            "19 \t [ 1.2277143   1.05411485  5.          0.50198686 13.          0.89258454]\t 1.4252760814462118\t 1.380205361584031\t -1.7683958222629856\n",
            "20 \t [ 0.22263766  7.74918959 11.          0.90492645 16.          0.82326603]\t 1.3873772925620795\t 1.380205361584031\t -1.767489627041519\n",
            "21 \t [ 9.15498879  2.56610573 14.          0.5090217  19.          0.1694331 ]\t 1.5114002016899493\t 1.380205361584031\t -1.7649106461775539\n",
            "22 \t [ 3.81397735  9.73373877 15.          0.5         5.17361356  0.1       ]\t 1.5126172473518928\t 1.380205361584031\t -1.7681776222258507\n",
            "23 \t [ 5.00271336  3.27324704 11.          0.75696216  8.          0.96270813]\t 1.3808368381533154\t 1.380205361584031\t -1.7712607944314367\n",
            "24 \t [9.99181107 8.28453416 5.         0.63682454 3.         0.29007423]\t 1.4721856647936757\t 1.380205361584031\t -1.7685596185234793\n",
            "25 \t [ 7.97993202  6.97096063 14.          0.81477425 11.          0.71239708]\t 1.3908547677474277\t 1.380205361584031\t -1.7697195138261306\n",
            "26 \t [ 4.02988303  4.85560986 14.          0.80065448  1.          0.65437257]\t 1.3963708170395635\t 1.380205361584031\t -1.7676206133440724\n",
            "27 \t [9.88828123 3.29325839 9.5499236  0.5        9.87274123 0.1       ]\t 1.5124186512813966\t 1.380205361584031\t -1.765853934149882\n",
            "28 \t [6.7506913  2.17991107 5.         0.66162674 1.         0.51122471]\t 1.4597253192679134\t 1.380205361584031\t -1.7685372187057786\n",
            "29 \t [ 3.98233659  1.90045634 15.          0.5        20.          0.1       ]\t 1.5126325377317351\t 1.380205361584031\t -1.769106166791083\n",
            "30 \t [ 3.45271174  0.75931377  5.          0.81313484 19.          0.57119025]\t 1.4597641553118152\t 1.380205361584031\t -1.776916861744677\n"
          ]
        },
        {
          "output_type": "execute_result",
          "data": {
            "text/plain": [
              "51215.275242059324"
            ]
          },
          "metadata": {},
          "execution_count": 48
        }
      ]
    },
    {
      "cell_type": "code",
      "metadata": {
        "id": "9UroEj_RbLSb",
        "colab": {
          "base_uri": "https://localhost:8080/"
        },
        "outputId": "b90c7155-0cf5-44e1-d0a5-9d88f32bc1b1"
      },
      "source": [
        "### Bayesian optimization runs (x20): 'stp' Acquisition Function run number = 9 \n",
        "\n",
        "np.random.seed(run_num_9)\n",
        "surrogate_stp_9 = tStudentProcess(cov_func, optimize=opt, nu = df)\n",
        "\n",
        "X_train9, X_test9, y_train9, y_test9 = train_test_split(X, y, test_size=test_perc, random_state=run_num_9)\n",
        "\n",
        "def f_syn_polarity9(alpha, gamma, max_depth, subsample, min_child_weight, colsample):\n",
        "    reg = XGBRegressor(reg_alpha=alpha, gamma=gamma, max_depth=int(max_depth), subsample=subsample, min_child_weight=min_child_weight,\n",
        "          colsample_bytree=colsample, n_estimators = n_est, random_state=run_num_9, objective = 'reg:squarederror')\n",
        "    score = np.array(cross_val_score(reg, X=X_train9, y=y_train9).mean())\n",
        "    return operator * score\n",
        "\n",
        "stp_9 = GPGO_multi_STP(surrogate_stp_9, Acquisition_new(util_stp), f_syn_polarity9, param, n_jobs = -1) # Define BayesOpt\n",
        "stp_9.run(max_iter = max_iter, init_evals = n_init) # run\n",
        "\n",
        "### Return optimal parameters' set:\n",
        "params_stp_9 = stp_9.getResult()[0]\n",
        "params_stp_9['max_depth'] = int(params_stp_9['max_depth'])\n",
        "params_stp_9['min_child_weight'] = int(params_stp_9['min_child_weight'])\n",
        "\n",
        "### Re-train with optimal parameters, run predictons:\n",
        "dX_stp_train9 = xgb.DMatrix(X_train9, y_train9)\n",
        "dX_stp_test9 = xgb.DMatrix(X_test9, y_test9)\n",
        "model_stp_9 = xgb.train(params_stp_9, dX_stp_train9)\n",
        "pred_stp_9 = model_stp_9.predict(dX_stp_test9)\n",
        "\n",
        "rmse_stp_9 = np.sqrt(mean_squared_error(pred_stp_9, y_test9))\n",
        "rmse_stp_9"
      ],
      "execution_count": 49,
      "outputs": [
        {
          "output_type": "stream",
          "name": "stdout",
          "text": [
            "Evaluation \t Proposed point \t  Current eval. \t  Best eval. \t Min. ApproxAcqFunc \n",
            "init\t [ 0.10374154  5.01874592 11.          0.50377155  2.          0.29670281]\t 1.5577132784573362\t 1.3722986758568372\t    \n",
            "init\t [ 4.18508181  2.48101168 13.          0.69794293  2.          0.25009871]\t 1.557988294847283\t 1.3722986758568372\t    \n",
            "init\t [ 8.78559086  9.50964032 13.          0.98395204 11.          0.90820641]\t 1.3722986758568372\t 1.3722986758568372\t    \n",
            "init\t [ 6.66898973  5.47837783  6.          0.97165345 12.          0.72499481]\t 1.4672635070842577\t 1.3722986758568372\t    \n",
            "init\t [ 8.24870465  4.65668475 13.          0.68760467  9.          0.98502332]\t 1.3809301169879382\t 1.3722986758568372\t    \n",
            "1  \t [6.73714319 2.39608167 5.         0.58130302 3.         0.163077  ]\t 1.685094312684032\t 1.3722986758568372\t -1.7997376178846658\n",
            "2  \t [ 5.08296492  7.82294671 12.          0.52283375 19.          0.95333653]\t 1.389563776509189\t 1.3722986758568372\t -1.8463739170761506\n",
            "3  \t [ 2.23896945  0.7525322   6.          0.74118523 19.          0.56710643]\t 1.4708221744894834\t 1.3722986758568372\t -1.8264283879294425\n",
            "4  \t [ 0.65024006  0.20015298 14.          0.90298726 13.          0.95798937]\t 1.3774770133876888\t 1.3722986758568372\t -1.8233164885331306\n",
            "5  \t [ 2.15467277  8.6355346  11.          0.91792962  8.          0.31092756]\t 1.5524508155488828\t 1.3722986758568372\t -1.808683869210805\n",
            "6  \t [ 8.9317907   9.240006   13.          0.55531212  4.          0.42887515]\t 1.5036898458588284\t 1.3722986758568372\t -1.8181634969772107\n",
            "7  \t [ 9.90759058  1.21564186 12.          0.74911905 17.          0.244927  ]\t 1.6890866096687698\t 1.3722986758568372\t -1.8203062597264763\n",
            "8  \t [9.39353565 9.93046622 5.         0.57188784 4.         0.83501032]\t 1.4379828751537795\t 1.3722986758568372\t -1.8422933470041458\n",
            "9  \t [1.06462795 1.89851825 8.         0.90141515 8.         0.27329674]\t 1.5515541230958398\t 1.3722986758568372\t -1.8361803163889188\n",
            "10 \t [2.06388793 9.99486165 5.         0.88070114 4.         0.33535287]\t 1.556507523090196\t 1.3722986758568372\t -1.8408202461763272\n",
            "11 \t [ 0.31406909  9.44627975  5.          0.52425353 16.          0.87515709]\t 1.4339579984481194\t 1.3722986758568372\t -1.8453091189064355\n",
            "12 \t [ 0.85412711  7.95219559 12.          0.83398575  1.          0.23764692]\t 1.6904927113878814\t 1.3722986758568372\t -1.8398738179857805\n",
            "13 \t [ 8.10100165  8.10078039  6.          0.81874461 19.          0.46550946]\t 1.5044959220179657\t 1.3722986758568372\t -1.853841720273351\n",
            "14 \t [0.34291044 2.1036556  5.         0.56458499 1.         0.36402629]\t 1.5557076941144234\t 1.3722986758568372\t -1.8537322672090342\n",
            "15 \t [ 0.78785089  5.61809657 12.          0.50972136 16.          0.26232577]\t 1.5530468599015348\t 1.3722986758568372\t -1.8563319069260622\n",
            "16 \t [3.08321869 0.87587118 5.         0.75683721 6.         0.32966687]\t 1.557102508640736\t 1.3722986758568372\t -1.8587639362135921\n",
            "17 \t [ 8.95935216  1.3974564  12.          0.59729565  3.          0.71895819]\t 1.4481443962612055\t 1.3722986758568372\t -1.858171752807999\n",
            "18 \t [5.34620191 1.27649801 9.         0.62858232 4.         0.13190614]\t 1.6857784496120356\t 1.3722986758568372\t -1.8553560203799937\n",
            "19 \t [ 7.43450989  1.13255516  5.          0.76337092 13.          0.51719287]\t 1.4898672637929382\t 1.3722986758568372\t -1.8682465372542396\n",
            "20 \t [ 3.84506675  4.89731043  8.          0.98618887 10.          0.97807403]\t 1.3854353969134192\t 1.3722986758568372\t -1.864519477958344\n",
            "21 \t [ 5.59105023  2.33254464 14.          0.69568984 14.          0.62619412]\t 1.439406229167274\t 1.3722986758568372\t -1.8562981319171408\n",
            "22 \t [ 2.02283608  3.63282709 14.          0.5674962   7.          0.43570084]\t 1.4986209926814724\t 1.3722986758568372\t -1.855361289809379\n",
            "23 \t [ 0.89572167  8.45130829 13.          0.76435448 19.          0.32570095]\t 1.554118212970747\t 1.3722986758568372\t -1.857289210160238\n",
            "24 \t [2.7230314  7.56128872 8.         0.57264599 4.         0.39199702]\t 1.498984613107051\t 1.3722986758568372\t -1.858314938456421\n",
            "25 \t [ 3.08697364  1.25564667  8.38700044  1.         14.05418698  0.50895419]\t 1.4360284113164092\t 1.3722986758568372\t -1.8510871671203082\n",
            "26 \t [10.          3.98754211  5.          0.5         7.31808961  1.        ]\t 1.424792895539493\t 1.3722986758568372\t -1.8481814108294794\n",
            "27 \t [ 5.6913756   7.39109932 15.          0.5         1.          1.        ]\t 1.3925652021193407\t 1.3722986758568372\t -1.8450436036570665\n",
            "28 \t [ 5.49528877  9.91850101  9.          0.73631807 13.          0.55822662]\t 1.4488670282556357\t 1.3722986758568372\t -1.8428274270609724\n",
            "29 \t [10.         10.          5.          0.67024695 14.16947842  1.        ]\t 1.4197688681813194\t 1.3722986758568372\t -1.8390513548541114\n",
            "30 \t [ 9.80094786  7.03787885 13.00199559  0.82491173 15.39599195  0.93134798]\t 1.3781590661285086\t 1.3722986758568372\t -1.836263341698681\n"
          ]
        },
        {
          "output_type": "execute_result",
          "data": {
            "text/plain": [
              "48075.00995818073"
            ]
          },
          "metadata": {},
          "execution_count": 49
        }
      ]
    },
    {
      "cell_type": "code",
      "metadata": {
        "id": "7VgaJOoJbOIE",
        "colab": {
          "base_uri": "https://localhost:8080/"
        },
        "outputId": "96c08df9-3883-4d34-e29e-af649960a3a4"
      },
      "source": [
        "### Bayesian optimization runs (x20): 'stp' Acquisition Function run number = 10 \n",
        "\n",
        "np.random.seed(run_num_10)\n",
        "surrogate_stp_10 = tStudentProcess(cov_func, optimize=opt, nu = df)\n",
        "\n",
        "X_train10, X_test10, y_train10, y_test10 = train_test_split(X, y, test_size=test_perc, random_state=run_num_10)\n",
        "\n",
        "def f_syn_polarity10(alpha, gamma, max_depth, subsample, min_child_weight, colsample):\n",
        "    reg = XGBRegressor(reg_alpha=alpha, gamma=gamma, max_depth=int(max_depth), subsample=subsample, min_child_weight=min_child_weight,\n",
        "          colsample_bytree=colsample, n_estimators = n_est, random_state=run_num_10, objective = 'reg:squarederror')\n",
        "    score = np.array(cross_val_score(reg, X=X_train10, y=y_train10).mean())\n",
        "    return operator * score\n",
        "\n",
        "stp_10 = GPGO_multi_STP(surrogate_stp_10, Acquisition_new(util_stp), f_syn_polarity10, param, n_jobs = -1) # Define BayesOpt\n",
        "stp_10.run(max_iter = max_iter, init_evals = n_init) # run\n",
        "\n",
        "### Return optimal parameters' set:\n",
        "params_stp_10 = stp_10.getResult()[0]\n",
        "params_stp_10['max_depth'] = int(params_stp_10['max_depth'])\n",
        "params_stp_10['min_child_weight'] = int(params_stp_10['min_child_weight'])\n",
        "\n",
        "### Re-train with optimal parameters, run predictons:\n",
        "dX_stp_train10 = xgb.DMatrix(X_train10, y_train10)\n",
        "dX_stp_test10 = xgb.DMatrix(X_test10, y_test10)\n",
        "model_stp_10 = xgb.train(params_stp_10, dX_stp_train10)\n",
        "pred_stp_10 = model_stp_10.predict(dX_stp_test10)\n",
        "\n",
        "rmse_stp_10 = np.sqrt(mean_squared_error(pred_stp_10, y_test10))\n",
        "rmse_stp_10"
      ],
      "execution_count": 50,
      "outputs": [
        {
          "output_type": "stream",
          "name": "stdout",
          "text": [
            "Evaluation \t Proposed point \t  Current eval. \t  Best eval. \t Min. ApproxAcqFunc \n",
            "init\t [ 7.71320643  0.20751949  5.          0.72150747 17.          0.12265456]\t 1.5966621860966772\t 1.3816576901725537\t    \n",
            "init\t [ 7.0920801   2.65566127 13.          0.57518893 17.          0.83494165]\t 1.3816576901725537\t 1.3816576901725537\t    \n",
            "init\t [ 3.36071584  8.90816531  6.          0.86087766 15.          0.75469196]\t 1.4046956914996547\t 1.3816576901725537\t    \n",
            "init\t [ 5.40880931  1.31458152  8.          0.57108502 14.          0.62551123]\t 1.4201195466728969\t 1.3816576901725537\t    \n",
            "init\t [1.82631436 8.26082248 6.         0.80888349 5.         0.15900694]\t 1.5985040415985665\t 1.3816576901725537\t    \n",
            "1  \t [8.31989768 3.09778055 7.         0.64798085 3.         0.98471878]\t 1.3861520034074002\t 1.3816576901725537\t -1.8168738492171195\n",
            "2  \t [ 0.89811639  1.94478174 12.          0.95814079  6.          0.72197555]\t 1.4124678977158813\t 1.3816576901725537\t -1.797552110098388\n",
            "\u001b[1m\u001b[92m3\u001b[0m\t \u001b[1m\u001b[92m[ 8.03074072  7.46348717  9.          0.56023612 11.          0.98976719]\u001b[0m\t \u001b[1m\u001b[92m1.3752114282060977\u001b[0m\t \u001b[1m\u001b[92m1.3752114282060977\u001b[0m\t \u001b[1m\u001b[92m-1.7880512638707782\u001b[0m\n",
            "4  \t [ 8.57542073  0.57940967 12.          0.52418872  8.          0.24001913]\t 1.6022599738239471\t 1.3752114282060977\t -1.775411364933977\n",
            "\u001b[1m\u001b[92m5\u001b[0m\t \u001b[1m\u001b[92m[ 3.19739287  9.35044843 14.          0.99107667  1.          0.93375799]\u001b[0m\t \u001b[1m\u001b[92m1.3602395373998877\u001b[0m\t \u001b[1m\u001b[92m1.3602395373998877\u001b[0m\t \u001b[1m\u001b[92m-1.7971440428416494\u001b[0m\n",
            "6  \t [ 0.54950457  6.51824863 14.          0.74860651 12.          0.8224012 ]\t 1.3732356123253924\t 1.3602395373998877\t -1.7844593638802475\n",
            "7  \t [ 7.81115221  9.6820576  13.          0.84200528 16.          0.55344047]\t 1.4268784828133074\t 1.3602395373998877\t -1.775378700873726\n",
            "8  \t [ 0.49053091  1.97039718 14.          0.79005901 19.          0.11771088]\t 1.5984026918909442\t 1.3602395373998877\t -1.773077023275987\n",
            "9  \t [5.64721827 3.01170899 5.         0.52546141 9.         0.6375896 ]\t 1.436502519866644\t 1.3602395373998877\t -1.7879494307334043\n",
            "10 \t [ 9.38854854  7.91087361  8.          0.57475286 19.          0.33969987]\t 1.5460665850068604\t 1.3602395373998877\t -1.7859145304262485\n",
            "11 \t [ 6.45068402  5.75558194 14.          0.61974939  8.          0.77721423]\t 1.380432680493415\t 1.3602395373998877\t -1.7932702788192658\n",
            "12 \t [1.67997775 0.39655611 6.         0.6660241  2.         0.52668261]\t 1.4371946682857046\t 1.3602395373998877\t -1.7870780436488396\n",
            "13 \t [ 4.11986688  9.81320751 11.          0.98131964 17.          0.2975892 ]\t 1.5430438436191198\t 1.3602395373998877\t -1.7855209233702372\n",
            "14 \t [ 1.17812657  4.72170518  8.          0.98192264 11.          0.85915042]\t 1.3816175639419446\t 1.3602395373998877\t -1.7914280525058672\n",
            "15 \t [ 5.17085122  2.64081594  8.          0.63378967 13.          0.8316826 ]\t 1.3881548171627789\t 1.3602395373998877\t -1.7864298975466824\n",
            "16 \t [ 0.8556149   1.34495008  5.          0.88655293 18.          0.15072152]\t 1.5977067912636376\t 1.3602395373998877\t -1.7666815126038364\n",
            "17 \t [9.53733075 9.92797623 5.         0.78642342 2.         0.9933049 ]\t 1.415876675247547\t 1.3602395373998877\t -1.7801667861631882\n",
            "18 \t [ 2.70512001 10.         10.0938589   0.5         9.09483103  0.1       ]\t 1.6017836141450126\t 1.3602395373998877\t -1.7781881765132461\n",
            "19 \t [ 4.22341517  1.53351087 12.          0.6901594   1.          0.32436902]\t 1.5572525336869647\t 1.3602395373998877\t -1.7862144615370603\n",
            "20 \t [ 7.41326973 10.          5.          1.          7.17036765  1.        ]\t 1.4158041429353312\t 1.3602395373998877\t -1.7912122661840106\n",
            "21 \t [ 3.11792151  0.26273854 14.          0.62688079 11.          0.2529624 ]\t 1.5472128598622095\t 1.3602395373998877\t -1.7890456947597375\n",
            "22 \t [ 9.09268434  5.74960081 14.          0.54945508  1.          0.70144661]\t 1.4300568298700949\t 1.3602395373998877\t -1.7930792864788752\n",
            "23 \t [ 0.47407858  0.          5.          1.         13.06584567  1.        ]\t 1.416532179456749\t 1.3602395373998877\t -1.7916082588086633\n",
            "24 \t [9.87522263 6.72570645 9.         0.72987116 6.         0.63822176]\t 1.4160783093706655\t 1.3602395373998877\t -1.78968266118056\n",
            "25 \t [ 9.90674701  0.52702625 12.          0.79429921  2.          0.24727891]\t 1.5999051432536295\t 1.3602395373998877\t -1.7878659574009423\n",
            "26 \t [ 5.47160613 10.         14.54397111  0.5        11.3079454   1.        ]\t 1.373147407381112\t 1.3602395373998877\t -1.7936577101913624\n",
            "27 \t [10.         10.         15.          0.5         6.17666433  0.1       ]\t 1.6030256054862293\t 1.3602395373998877\t -1.79026702968335\n",
            "28 \t [ 0.2465399   7.87801065 13.          0.55523558  6.          0.59113449]\t 1.4358938695825298\t 1.3602395373998877\t -1.7957549099905326\n",
            "29 \t [ 9.03696449 10.          5.          1.         13.86546178  0.1       ]\t 1.6843010644770569\t 1.3602395373998877\t -1.794673570933896\n",
            "30 \t [ 1.89529789  4.68642662 10.          0.62987847 16.          0.68879899]\t 1.417395183110698\t 1.3602395373998877\t -1.8203833762477122\n"
          ]
        },
        {
          "output_type": "execute_result",
          "data": {
            "text/plain": [
              "50280.79767547322"
            ]
          },
          "metadata": {},
          "execution_count": 50
        }
      ]
    },
    {
      "cell_type": "code",
      "metadata": {
        "id": "51z87uHWbRGr",
        "colab": {
          "base_uri": "https://localhost:8080/"
        },
        "outputId": "f6fc2f7a-d2ae-47f9-f934-960d8cde3af3"
      },
      "source": [
        "### Bayesian optimization runs (x20): 'stp' Acquisition Function run number = 11 \n",
        "\n",
        "np.random.seed(run_num_11)\n",
        "surrogate_stp_11 = tStudentProcess(cov_func, optimize=opt, nu = df)\n",
        "\n",
        "X_train11, X_test11, y_train11, y_test11 = train_test_split(X, y, test_size=test_perc, random_state=run_num_11)\n",
        "\n",
        "def f_syn_polarity11(alpha, gamma, max_depth, subsample, min_child_weight, colsample):\n",
        "    reg = XGBRegressor(reg_alpha=alpha, gamma=gamma, max_depth=int(max_depth), subsample=subsample, min_child_weight=min_child_weight,\n",
        "          colsample_bytree=colsample, n_estimators = n_est, random_state=run_num_11, objective = 'reg:squarederror')\n",
        "    score = np.array(cross_val_score(reg, X=X_train11, y=y_train11).mean())\n",
        "    return operator * score\n",
        "\n",
        "stp_11 = GPGO_multi_STP(surrogate_stp_11, Acquisition_new(util_stp), f_syn_polarity11, param, n_jobs = -1) # Define BayesOpt\n",
        "stp_11.run(max_iter = max_iter, init_evals = n_init) # run\n",
        "\n",
        "### Return optimal parameters' set:\n",
        "params_stp_11 = stp_11.getResult()[0]\n",
        "params_stp_11['max_depth'] = int(params_stp_11['max_depth'])\n",
        "params_stp_11['min_child_weight'] = int(params_stp_11['min_child_weight'])\n",
        "\n",
        "### Re-train with optimal parameters, run predictons:\n",
        "dX_stp_train11 = xgb.DMatrix(X_train11, y_train11)\n",
        "dX_stp_test11 = xgb.DMatrix(X_test11, y_test11)\n",
        "model_stp_11 = xgb.train(params_stp_11, dX_stp_train11)\n",
        "pred_stp_11 = model_stp_11.predict(dX_stp_test11)\n",
        "\n",
        "rmse_stp_11 = np.sqrt(mean_squared_error(pred_stp_11, y_test11))\n",
        "rmse_stp_11"
      ],
      "execution_count": 51,
      "outputs": [
        {
          "output_type": "stream",
          "name": "stdout",
          "text": [
            "Evaluation \t Proposed point \t  Current eval. \t  Best eval. \t Min. ApproxAcqFunc \n",
            "init\t [ 1.80269689  0.19475241  6.          0.59705781 13.          0.47818324]\t 1.4816591577946832\t 1.4105425145194488\t    \n",
            "init\t [ 4.85427098  0.12780815  5.          0.91309068 14.          0.86571558]\t 1.426706936764755\t 1.4105425145194488\t    \n",
            "init\t [ 7.2996447   1.08736072 10.          0.92857712 18.          0.66910061]\t 1.4105425145194488\t 1.4105425145194488\t    \n",
            "init\t [ 0.20483613  1.16737269  7.          0.57895615 16.          0.83644782]\t 1.4183397861714337\t 1.4105425145194488\t    \n",
            "init\t [ 3.44624491  3.18798797 14.          0.54197657 15.          0.63958906]\t 1.4201459936126652\t 1.4105425145194488\t    \n",
            "1  \t [9.77136617 6.6548802  7.         0.51036649 9.         0.81011527]\t 1.4198592349317078\t 1.4105425145194488\t -1.7513445085733506\n",
            "2  \t [ 3.45527801  8.93827252  9.          0.56722161 19.          0.37442815]\t 1.5481237882830068\t 1.4105425145194488\t -1.749303083451865\n",
            "3  \t [2.20135958 9.62559813 6.         0.71280025 1.         0.39977427]\t 1.4800107916902898\t 1.4105425145194488\t -1.7710613996657774\n",
            "4  \t [ 0.70414078  2.04698586 11.          0.5634257   2.          0.52082803]\t 1.4757367789923765\t 1.4105425145194488\t -1.776327341294153\n",
            "5  \t [9.34074398 3.48607433 6.         0.59796044 1.         0.11041165]\t 1.5964218065354963\t 1.4105425145194488\t -1.7798167173616035\n",
            "6  \t [ 7.87679298  8.25083643 14.          0.71356449  3.          0.56903658]\t 1.4733445570805848\t 1.4105425145194488\t -1.7977528220833814\n",
            "\u001b[1m\u001b[92m7\u001b[0m\t \u001b[1m\u001b[92m[ 2.52610726  7.71657473  9.          0.51383465 10.          0.96513059]\u001b[0m\t \u001b[1m\u001b[92m1.383537208491245\u001b[0m\t \u001b[1m\u001b[92m1.383537208491245\u001b[0m\t \u001b[1m\u001b[92m-1.7987395535575945\u001b[0m\n",
            "8  \t [ 7.94267027  0.16633971 11.          0.65978332  7.          0.74678031]\t 1.4193233171365616\t 1.383537208491245\t -1.7910627785094175\n",
            "9  \t [8.19638169 9.25980262 5.         0.66662185 6.         0.46446414]\t 1.483706826342989\t 1.383537208491245\t -1.7870618935018536\n",
            "10 \t [3.75050384 0.1426068  6.         0.52249964 4.         0.83516683]\t 1.4245949815809194\t 1.383537208491245\t -1.7892328585290898\n",
            "11 \t [ 9.82770084  6.4180425   6.          0.84399179 19.          0.37776071]\t 1.4793271209119923\t 1.383537208491245\t -1.7862661670123545\n",
            "12 \t [ 9.97716226  3.28825714 13.          0.55185778 13.          0.23012169]\t 1.598021512434841\t 1.383537208491245\t -1.7879433486449545\n",
            "13 \t [ 0.75081967  8.03973665 13.          0.75690558  1.          0.27310751]\t 1.5554661880646783\t 1.383537208491245\t -1.7981660069324727\n",
            "14 \t [ 9.67340161  7.84567778 14.          0.51147098 18.          0.22514517]\t 1.5989562044654715\t 1.383537208491245\t -1.8044081205178732\n",
            "\u001b[1m\u001b[92m15\u001b[0m\t \u001b[1m\u001b[92m[ 5.5178254   9.65002018 13.          0.7661485  13.          0.91577641]\u001b[0m\t \u001b[1m\u001b[92m1.3714624397002297\u001b[0m\t \u001b[1m\u001b[92m1.3714624397002297\u001b[0m\t \u001b[1m\u001b[92m-1.8117898097889\u001b[0m\n",
            "16 \t [ 8.10218043  7.63528454  6.          0.65435546 17.          0.15749648]\t 1.5963747908367876\t 1.3714624397002297\t -1.8080711253089679\n",
            "17 \t [ 0.27608419  0.09000062 14.          0.77781315  9.          0.7916442 ]\t 1.4096600188533674\t 1.3714624397002297\t -1.8093444084071328\n",
            "18 \t [ 5.15558396  5.96172635 13.          0.81321172  7.          0.52281121]\t 1.4666697701325462\t 1.3714624397002297\t -1.8058201497138198\n",
            "19 \t [0.33942443 1.8415179  7.         0.80715762 8.         0.63374102]\t 1.4199440366727818\t 1.3714624397002297\t -1.8054243524254652\n",
            "20 \t [10.          1.4866455  15.          0.5        18.89823472  0.1       ]\t 1.598597475113095\t 1.3714624397002297\t -1.8028172310141488\n",
            "21 \t [ 3.85185485  4.41073831  5.          0.90585742 19.          0.67672257]\t 1.4314222848663731\t 1.3714624397002297\t -1.8090267140128242\n",
            "22 \t [7.55898646e-03 7.26528197e+00 1.40000000e+01 9.91936846e-01\n",
            " 1.70000000e+01 2.34511661e-01]\t 1.5959184187273285\t 1.3714624397002297\t -1.8069871983297694\n",
            "23 \t [ 0.1169098   8.13950739 14.          0.72993703  9.          0.11206759]\t 1.596162595177247\t 1.3714624397002297\t -1.812465823089964\n",
            "24 \t [3.64464754 5.86416855 6.67389784 1.         5.16470417 1.        ]\t 1.3935424513373125\t 1.3714624397002297\t -1.817562838235847\n",
            "25 \t [ 7.08771663  1.71588003 13.          0.70229609  1.          0.13731753]\t 1.597648255081499\t 1.3714624397002297\t -1.8139777411979798\n",
            "26 \t [ 2.56821147  8.52215627  5.          0.94238235 14.          0.56101249]\t 1.4768034845717222\t 1.3714624397002297\t -1.818756866475438\n",
            "27 \t [10.  10.   5.   0.5  1.   1. ]\t 1.416098274056107\t 1.3714624397002297\t -1.8184433634263746\n",
            "\u001b[1m\u001b[92m28\u001b[0m\t \u001b[1m\u001b[92m[ 0.          4.2482978  10.7261686   0.83642734 20.          1.        ]\u001b[0m\t \u001b[1m\u001b[92m1.3625251218142629\u001b[0m\t \u001b[1m\u001b[92m1.3625251218142629\u001b[0m\t \u001b[1m\u001b[92m-1.8159525662431488\u001b[0m\n",
            "29 \t [0.         4.32047666 5.30719791 0.5        1.         0.1       ]\t 1.5982298208373742\t 1.3625251218142629\t -1.8117939402590029\n",
            "30 \t [ 9.93458855  0.93006995  5.          0.95849735 19.          0.93515171]\t 1.4136861457894945\t 1.3625251218142629\t -1.8115726645103685\n"
          ]
        },
        {
          "output_type": "execute_result",
          "data": {
            "text/plain": [
              "50541.66166609708"
            ]
          },
          "metadata": {},
          "execution_count": 51
        }
      ]
    },
    {
      "cell_type": "code",
      "metadata": {
        "id": "j8jZUeoWbTvn",
        "colab": {
          "base_uri": "https://localhost:8080/"
        },
        "outputId": "77916fac-e857-4976-94fb-4bf5a07286f5"
      },
      "source": [
        "### Bayesian optimization runs (x20): 'stp' Acquisition Function run number = 12\n",
        "\n",
        "np.random.seed(run_num_12)\n",
        "surrogate_stp_12 = tStudentProcess(cov_func, optimize=opt, nu = df)\n",
        "\n",
        "X_train12, X_test12, y_train12, y_test12 = train_test_split(X, y, test_size=test_perc, random_state=run_num_12)\n",
        "\n",
        "def f_syn_polarity12(alpha, gamma, max_depth, subsample, min_child_weight, colsample):\n",
        "    reg = XGBRegressor(reg_alpha=alpha, gamma=gamma, max_depth=int(max_depth), subsample=subsample, min_child_weight=min_child_weight,\n",
        "          colsample_bytree=colsample, n_estimators = n_est, random_state=run_num_12, objective = 'reg:squarederror')\n",
        "    score = np.array(cross_val_score(reg, X=X_train12, y=y_train12).mean())\n",
        "    return operator * score\n",
        "\n",
        "stp_12 = GPGO_multi_STP(surrogate_stp_12, Acquisition_new(util_stp), f_syn_polarity12, param, n_jobs = -1) # Define BayesOpt\n",
        "stp_12.run(max_iter = max_iter, init_evals = n_init) # run\n",
        "\n",
        "### Return optimal parameters' set:\n",
        "params_stp_12 = stp_12.getResult()[0]\n",
        "params_stp_12['max_depth'] = int(params_stp_12['max_depth'])\n",
        "params_stp_12['min_child_weight'] = int(params_stp_12['min_child_weight'])\n",
        "\n",
        "### Re-train with optimal parameters, run predictons:\n",
        "dX_stp_train12 = xgb.DMatrix(X_train12, y_train12)\n",
        "dX_stp_test12 = xgb.DMatrix(X_test12, y_test12)\n",
        "model_stp_12 = xgb.train(params_stp_12, dX_stp_train12)\n",
        "pred_stp_12 = model_stp_12.predict(dX_stp_test12)\n",
        "\n",
        "rmse_stp_12 = np.sqrt(mean_squared_error(pred_stp_12, y_test12))\n",
        "rmse_stp_12"
      ],
      "execution_count": 52,
      "outputs": [
        {
          "output_type": "stream",
          "name": "stdout",
          "text": [
            "Evaluation \t Proposed point \t  Current eval. \t  Best eval. \t Min. ApproxAcqFunc \n",
            "init\t [1.54162842 7.40049697 6.         0.54321714 4.         0.11311747]\t 1.6495881989170076\t 1.4161885061290391\t    \n",
            "init\t [ 9.18747008  9.00714854 14.          0.97847467 11.          0.35544552]\t 1.5149964971320231\t 1.4161885061290391\t    \n",
            "init\t [ 6.06083184  9.44225136 14.          0.95626942  5.          0.56910342]\t 1.4459275331997625\t 1.4161885061290391\t    \n",
            "init\t [ 5.52037633  4.85377414  7.          0.97886436 17.          0.78810441]\t 1.4161885061290391\t 1.4161885061290391\t    \n",
            "init\t [ 0.20809798  1.35210178  5.          0.65494879 16.          0.36062811]\t 1.527260055706503\t 1.4161885061290391\t    \n",
            "1  \t [9.46555822 8.57190559 5.         0.50164398 5.         0.71992807]\t 1.4518180624203443\t 1.4161885061290391\t -1.8529846351735686\n",
            "\u001b[1m\u001b[92m2\u001b[0m\t \u001b[1m\u001b[92m[ 7.814761    1.75232541 12.          0.54989666  9.          0.70520554]\u001b[0m\t \u001b[1m\u001b[92m1.4152817662564274\u001b[0m\t \u001b[1m\u001b[92m1.4152817662564274\u001b[0m\t \u001b[1m\u001b[92m-1.8407167920915715\u001b[0m\n",
            "3  \t [7.52840072 3.34671694 8.         0.66685525 3.         0.78543932]\t 1.4157383535797874\t 1.4152817662564274\t -1.8257666047843606\n",
            "4  \t [ 1.23389285  0.85357459 13.          0.93854198  3.          0.52598214]\t 1.4478535320768007\t 1.4152817662564274\t -1.8145398897864347\n",
            "\u001b[1m\u001b[92m5\u001b[0m\t \u001b[1m\u001b[92m[ 2.73067092  9.86029136  9.          0.98915314 11.          0.78920814]\u001b[0m\t \u001b[1m\u001b[92m1.406785702269557\u001b[0m\t \u001b[1m\u001b[92m1.406785702269557\u001b[0m\t \u001b[1m\u001b[92m-1.8099987691676216\u001b[0m\n",
            "\u001b[1m\u001b[92m6\u001b[0m\t \u001b[1m\u001b[92m[ 0.88605589  4.37431212 13.          0.59673656 15.          0.90648552]\u001b[0m\t \u001b[1m\u001b[92m1.4037399994866504\u001b[0m\t \u001b[1m\u001b[92m1.4037399994866504\u001b[0m\t \u001b[1m\u001b[92m-1.8014830068020313\u001b[0m\n",
            "7  \t [ 5.59502919  0.10362331 13.          0.7935062  16.          0.2285096 ]\t 1.6467486160959282\t 1.4037399994866504\t -1.794161853264769\n",
            "8  \t [ 1.10490837  9.58829464  6.          0.57860445 19.          0.21544386]\t 1.6497594311902148\t 1.4037399994866504\t -1.813762921061489\n",
            "9  \t [7.95739983 9.55730764 6.         0.61675512 1.         0.40460328]\t 1.5203559786045056\t 1.4037399994866504\t -1.8304971763120137\n",
            "10 \t [ 6.12519689  9.03489206 14.          0.50242809 19.          0.36351298]\t 1.5206045929338718\t 1.4037399994866504\t -1.8327674496518358\n",
            "11 \t [ 9.28387188  0.15830795  8.          0.67941233 14.          0.53200469]\t 1.4564348489054582\t 1.4037399994866504\t -1.834775844940478\n",
            "12 \t [1.95757182 0.60745842 6.         0.79418442 8.         0.73961492]\t 1.4286087021117853\t 1.4037399994866504\t -1.8315991511767902\n",
            "13 \t [9.36177748 0.25063633 5.         0.9978859  3.         0.64031345]\t 1.4454025089344031\t 1.4037399994866504\t -1.8269099979006205\n",
            "14 \t [0.31974577 0.28426423 5.         0.59429506 1.         0.19680364]\t 1.6516747969976298\t 1.4037399994866504\t -1.8237780880028818\n",
            "15 \t [ 9.93966866  5.45203762  7.          0.51355361 10.          0.88872035]\t 1.4212313931818723\t 1.4037399994866504\t -1.8349225012020398\n",
            "16 \t [ 4.32911791  7.13797599 14.          0.7766403   2.          0.40738349]\t 1.5184179811483152\t 1.4037399994866504\t -1.8287413913097046\n",
            "17 \t [7.00791279 9.40793822 8.         0.59096023 7.         0.40364833]\t 1.512360495626329\t 1.4037399994866504\t -1.831936793402191\n",
            "18 \t [ 9.09739661  4.08407573 11.          0.54001169 18.          0.18416108]\t 1.6467282343443408\t 1.4037399994866504\t -1.8283061640253868\n",
            "19 \t [ 8.61497399  3.7706483  14.          0.98512292  3.          0.64368   ]\t 1.406970774040183\t 1.4037399994866504\t -1.8365473511873192\n",
            "\u001b[1m\u001b[92m20\u001b[0m\t \u001b[1m\u001b[92m[ 1.79123773  4.50772577 12.          0.68266777  9.          0.88252918]\u001b[0m\t \u001b[1m\u001b[92m1.403195595535232\u001b[0m\t \u001b[1m\u001b[92m1.403195595535232\u001b[0m\t \u001b[1m\u001b[92m-1.8321490279519035\u001b[0m\n",
            "21 \t [ 5.73334053  7.64094276 11.          0.75661212  1.          0.48296715]\t 1.5163866510031407\t 1.403195595535232\t -1.8336928778984047\n",
            "22 \t [ 1.05605199  9.48072597 11.          0.94986868 16.          0.18002612]\t 1.6463365290114935\t 1.403195595535232\t -1.8289245387913593\n",
            "23 \t [ 5.9444986   6.350077   11.          0.56058981  5.          0.58127688]\t 1.4546795307856633\t 1.403195595535232\t -1.8390842881463074\n",
            "24 \t [ 8.07238482  9.96826726 10.          0.92917037 15.          0.27468495]\t 1.5131978589291386\t 1.403195595535232\t -1.8340927653354315\n",
            "25 \t [ 8.33925252  9.93812036  6.          0.82854794 19.          0.41239927]\t 1.5190411583011154\t 1.403195595535232\t -1.8347355750555552\n",
            "26 \t [7.20171657 0.53578591 6.         0.92971777 4.         0.61008761]\t 1.4730146138004716\t 1.403195595535232\t -1.8390186770508399\n",
            "\u001b[1m\u001b[92m27\u001b[0m\t \u001b[1m\u001b[92m[ 2.31647424  9.90702152 13.88560987  1.          8.56397227  1.        ]\u001b[0m\t \u001b[1m\u001b[92m1.3707069167133041\u001b[0m\t \u001b[1m\u001b[92m1.3707069167133041\u001b[0m\t \u001b[1m\u001b[92m-1.8336415434750128\u001b[0m\n",
            "28 \t [10.          0.          6.58421329  1.          8.43433278  0.1       ]\t 1.6221088472571967\t 1.3707069167133041\t -1.8291415133274722\n",
            "29 \t [0.         4.48555525 9.859854   1.         1.         1.        ]\t 1.3771685144952093\t 1.3707069167133041\t -1.8339680040623483\n",
            "30 \t [ 0.55589055  6.65856771  5.          0.71816344 12.          0.20078211]\t 1.6515790516099025\t 1.3707069167133041\t -1.829924637681726\n"
          ]
        },
        {
          "output_type": "execute_result",
          "data": {
            "text/plain": [
              "51147.606504454685"
            ]
          },
          "metadata": {},
          "execution_count": 52
        }
      ]
    },
    {
      "cell_type": "code",
      "metadata": {
        "id": "snTrqE2RbWbe",
        "colab": {
          "base_uri": "https://localhost:8080/"
        },
        "outputId": "e9fd72f8-e19f-49ca-9c7d-54428fd78681"
      },
      "source": [
        "### Bayesian optimization runs (x20): 'stp' Acquisition Function run number = 13 \n",
        "\n",
        "np.random.seed(run_num_13)\n",
        "surrogate_stp_13 = tStudentProcess(cov_func, optimize=opt, nu = df)\n",
        "\n",
        "X_train13, X_test13, y_train13, y_test13 = train_test_split(X, y, test_size=test_perc, random_state=run_num_13)\n",
        "\n",
        "def f_syn_polarity13(alpha, gamma, max_depth, subsample, min_child_weight, colsample):\n",
        "    reg = XGBRegressor(reg_alpha=alpha, gamma=gamma, max_depth=int(max_depth), subsample=subsample, min_child_weight=min_child_weight,\n",
        "          colsample_bytree=colsample, n_estimators = n_est, random_state=run_num_13, objective = 'reg:squarederror')\n",
        "    score = np.array(cross_val_score(reg, X=X_train13, y=y_train13).mean())\n",
        "    return operator * score\n",
        "\n",
        "stp_13 = GPGO_multi_STP(surrogate_stp_13, Acquisition_new(util_stp), f_syn_polarity13, param, n_jobs = -1) # Define BayesOpt\n",
        "stp_13.run(max_iter = max_iter, init_evals = n_init) # run\n",
        "\n",
        "### Return optimal parameters' set:\n",
        "params_stp_13 = stp_13.getResult()[0]\n",
        "params_stp_13['max_depth'] = int(params_stp_13['max_depth'])\n",
        "params_stp_13['min_child_weight'] = int(params_stp_13['min_child_weight'])\n",
        "\n",
        "### Re-train with optimal parameters, run predictons:\n",
        "dX_stp_train13 = xgb.DMatrix(X_train13, y_train13)\n",
        "dX_stp_test13 = xgb.DMatrix(X_test13, y_test13)\n",
        "model_stp_13 = xgb.train(params_stp_13, dX_stp_train13)\n",
        "pred_stp_13 = model_stp_13.predict(dX_stp_test13)\n",
        "\n",
        "rmse_stp_13 = np.sqrt(mean_squared_error(pred_stp_13, y_test13))\n",
        "rmse_stp_13"
      ],
      "execution_count": 53,
      "outputs": [
        {
          "output_type": "stream",
          "name": "stdout",
          "text": [
            "Evaluation \t Proposed point \t  Current eval. \t  Best eval. \t Min. ApproxAcqFunc \n",
            "init\t [ 7.77702411  2.3754122  11.          0.94649135 13.          0.7827256 ]\t 1.3814631927491285\t 1.3814631927491285\t    \n",
            "init\t [ 7.51661514  6.07343344 11.          0.69402149 11.          0.13153287]\t 1.6959297564173816\t 1.3814631927491285\t    \n",
            "init\t [ 2.98449471  0.58512492 10.          0.73579614 12.          0.33065195]\t 1.5246886192220386\t 1.3814631927491285\t    \n",
            "init\t [ 3.47581215  0.0941277  11.          0.86143432  8.          0.58454932]\t 1.4185759644827896\t 1.3814631927491285\t    \n",
            "init\t [ 4.70137857  6.24432527 10.          0.8149145  18.          0.10784416]\t 1.6944183605438403\t 1.3814631927491285\t    \n",
            "1  \t [1.51786663 9.25994479 9.         0.99792981 2.         0.61199673]\t 1.4182805465760875\t 1.3814631927491285\t -1.8966771907888085\n",
            "2  \t [ 1.27154032  7.56256657  5.          0.85984573 12.          0.61608824]\t 1.4557863519809522\t 1.3814631927491285\t -1.8710144314303507\n",
            "3  \t [ 8.98888343  8.3187307  12.          0.8674744   2.          0.79321204]\t 1.3887986537394084\t 1.3814631927491285\t -1.8586911875192451\n",
            "4  \t [0.34532706 2.38413801 5.         0.94284894 1.         0.98543937]\t 1.4327736454576214\t 1.3814631927491285\t -1.8397287512624034\n",
            "5  \t [9.52796793 0.5269077  7.         0.61130342 2.         0.41024487]\t 1.4789137590229775\t 1.3814631927491285\t -1.8304896441964433\n",
            "6  \t [7.37045547 4.29545706 6.         0.67564498 8.         0.76029894]\t 1.4170634487708487\t 1.3814631927491285\t -1.8286181999255615\n",
            "7  \t [ 8.94505383  1.00558767  5.          0.99962019 19.          0.43410173]\t 1.4812283883995072\t 1.3814631927491285\t -1.8203365238850078\n",
            "8  \t [ 0.56153062  1.99964994 12.          0.65527832 19.          0.67862516]\t 1.4063424857045743\t 1.3814631927491285\t -1.8198385191629949\n",
            "9  \t [7.55403251 6.23917493 5.         0.63649547 1.         0.75229567]\t 1.4367122129111514\t 1.3814631927491285\t -1.8125291495099758\n",
            "10 \t [ 2.00714172  9.69856236 11.          0.57303304  9.          0.70153344]\t 1.4091763726244264\t 1.3814631927491285\t -1.808798243457459\n",
            "11 \t [ 9.38213058  0.26740901 13.          0.70746928  1.          0.76298887]\t 1.3941246107285243\t 1.3814631927491285\t -1.8034449919466569\n",
            "12 \t [ 2.93105974  0.4140127   6.          0.50258505 18.          0.71892731]\t 1.4251690820715797\t 1.3814631927491285\t -1.7975872583775343\n",
            "13 \t [ 1.66437939  3.83797912 14.          0.97111745 14.          0.50519234]\t 1.414778251271229\t 1.3814631927491285\t -1.794527434088589\n",
            "14 \t [ 5.93663649  3.29135931 13.          0.77993208 14.          0.72189699]\t 1.4038828488373831\t 1.3814631927491285\t -1.7911916320219343\n",
            "15 \t [10.          9.41377713  5.          0.5        19.          0.1       ]\t 1.692658548321009\t 1.3814631927491285\t -1.78430176175591\n",
            "16 \t [ 8.39231109  0.32510731 14.          0.5902879  19.          0.62232309]\t 1.4257643908203304\t 1.3814631927491285\t -1.7991042197979157\n",
            "17 \t [ 3.20032902  2.69583488 14.          0.63307399  2.          0.42831483]\t 1.4875815228476015\t 1.3814631927491285\t -1.7967331829629969\n",
            "18 \t [ 8.6176449   9.72183027 13.          0.85216064 16.          0.19114753]\t 1.6947681990082866\t 1.3814631927491285\t -1.797835071941833\n",
            "19 \t [ 8.7887824   2.49224144 14.          0.80068579  6.          0.65307097]\t 1.4031849039712594\t 1.3814631927491285\t -1.812859582106856\n",
            "20 \t [9.97444685 0.         9.49786625 0.5        7.80328531 1.        ]\t 1.3904013603948386\t 1.3814631927491285\t -1.8066830746182327\n",
            "21 \t [0.26345416 6.69898524 5.         0.84150494 6.         0.71436194]\t 1.4438832988595762\t 1.3814631927491285\t -1.8028015323069535\n",
            "22 \t [ 4.81690207  4.9208525  10.46735293  0.5         5.08598616  0.1       ]\t 1.6952836792369173\t 1.3814631927491285\t -1.8015383987184428\n",
            "23 \t [8.60634588 9.79345896 5.         0.88999592 6.         0.52067415]\t 1.4545771193000974\t 1.3814631927491285\t -1.8147361526165902\n",
            "24 \t [ 0.04215637  4.07266356 11.44739419  1.          6.6325996   0.81549019]\t 1.392081800871472\t 1.3814631927491285\t -1.811021663982475\n",
            "25 \t [ 2.05966685  9.6653479  14.          0.93596851 16.          0.35673509]\t 1.5232035463388471\t 1.3814631927491285\t -1.8075870886824044\n",
            "26 \t [ 8.29780143  6.07663341  6.          0.84394583 16.          0.58224125]\t 1.4408926397643609\t 1.3814631927491285\t -1.8115218822667458\n",
            "27 \t [ 4.82096469  9.9152431   9.62001808  0.88769605 13.51265152  0.1       ]\t 1.6934944261704419\t 1.3814631927491285\t -1.8081027043344238\n",
            "28 \t [ 4.82071924  2.88836181  5.          0.5        12.30681175  0.1       ]\t 1.6931365307499824\t 1.3814631927491285\t -1.816735484570932\n",
            "29 \t [4.80075877 0.         5.         1.         6.38369106 1.        ]\t 1.4205731457027475\t 1.3814631927491285\t -1.8248085883523453\n",
            "30 \t [ 0.95347999  7.32930774  6.          0.74056424 19.          0.75347876]\t 1.417364122725046\t 1.3814631927491285\t -1.822436186938005\n"
          ]
        },
        {
          "output_type": "execute_result",
          "data": {
            "text/plain": [
              "49640.64566227302"
            ]
          },
          "metadata": {},
          "execution_count": 53
        }
      ]
    },
    {
      "cell_type": "code",
      "metadata": {
        "id": "nAuEsXYbtOnC",
        "colab": {
          "base_uri": "https://localhost:8080/"
        },
        "outputId": "e09fae60-052b-4c7d-c6c8-c0fc93d84405"
      },
      "source": [
        "### Bayesian optimization runs (x20): 'stp' Acquisition Function run number = 14 \n",
        "\n",
        "np.random.seed(run_num_14)\n",
        "surrogate_stp_14 = tStudentProcess(cov_func, optimize=opt, nu = df)\n",
        "\n",
        "X_train14, X_test14, y_train14, y_test14 = train_test_split(X, y, test_size=test_perc, random_state=run_num_14)\n",
        "\n",
        "def f_syn_polarity14(alpha, gamma, max_depth, subsample, min_child_weight, colsample):\n",
        "    reg = XGBRegressor(reg_alpha=alpha, gamma=gamma, max_depth=int(max_depth), subsample=subsample, min_child_weight=min_child_weight,\n",
        "          colsample_bytree=colsample, n_estimators = n_est, random_state=run_num_14, objective = 'reg:squarederror')\n",
        "    score = np.array(cross_val_score(reg, X=X_train14, y=y_train14).mean())\n",
        "    return operator * score\n",
        "\n",
        "stp_14 = GPGO_multi_STP(surrogate_stp_14, Acquisition_new(util_stp), f_syn_polarity14, param, n_jobs = -1) # Define BayesOpt\n",
        "stp_14.run(max_iter = max_iter, init_evals = n_init) # run\n",
        "\n",
        "### Return optimal parameters' set:\n",
        "params_stp_14 = stp_14.getResult()[0]\n",
        "params_stp_14['max_depth'] = int(params_stp_14['max_depth'])\n",
        "params_stp_14['min_child_weight'] = int(params_stp_14['min_child_weight'])\n",
        "\n",
        "### Re-train with optimal parameters, run predictons:\n",
        "dX_stp_train14 = xgb.DMatrix(X_train14, y_train14)\n",
        "dX_stp_test14 = xgb.DMatrix(X_test14, y_test14)\n",
        "model_stp_14 = xgb.train(params_stp_14, dX_stp_train14)\n",
        "pred_stp_14 = model_stp_14.predict(dX_stp_test14)\n",
        "\n",
        "rmse_stp_14 = np.sqrt(mean_squared_error(pred_stp_14, y_test14))\n",
        "rmse_stp_14"
      ],
      "execution_count": 54,
      "outputs": [
        {
          "output_type": "stream",
          "name": "stdout",
          "text": [
            "Evaluation \t Proposed point \t  Current eval. \t  Best eval. \t Min. ApproxAcqFunc \n",
            "init\t [ 5.13943344  7.73165052 12.          0.6831412  11.          0.37876233]\t 1.5555798623190729\t 1.4024696810470139\t    \n",
            "init\t [ 9.57603739  5.13116712 14.          0.76959997 12.          0.71328228]\t 1.4192714165556448\t 1.4024696810470139\t    \n",
            "init\t [5.34950319 2.47493539 5.         0.50293689 6.         0.29706373]\t 1.6043764718675084\t 1.4024696810470139\t    \n",
            "init\t [ 2.94506579  3.45329697  8.          0.87620946 14.          0.9783044 ]\t 1.4024696810470139\t 1.4024696810470139\t    \n",
            "init\t [ 1.11811929  1.73004086  5.          0.73745288 12.          0.20586008]\t 1.6112248980856712\t 1.4024696810470139\t    \n",
            "1  \t [ 6.50637223  2.67617722 14.          0.53562507  1.          0.16862152]\t 1.6022414457029215\t 1.4024696810470139\t -1.8631381203609434\n",
            "2  \t [ 0.29696043  9.99380579 13.          0.87648025 18.          0.42612247]\t 1.5512556972721199\t 1.4024696810470139\t -1.8800490800806757\n",
            "3  \t [0.4633694  8.96469791 7.         0.7019683  7.         0.61792232]\t 1.4656735408760622\t 1.4024696810470139\t -1.8828957492521123\n",
            "4  \t [ 9.23821746  8.98437789  6.          0.6533269  16.          0.82345349]\t 1.428860677568213\t 1.4024696810470139\t -1.8721440371581388\n",
            "5  \t [ 3.89991051  0.11360989 13.          0.79478603  8.          0.34546499]\t 1.58916377359964\t 1.4024696810470139\t -1.8590825088184464\n",
            "6  \t [ 0.39618401  7.35285202 13.          0.73313997  1.          0.71568965]\t 1.4272280804606938\t 1.4024696810470139\t -1.867880342956761\n",
            "7  \t [7.65430302 9.7721851  5.         0.66127021 8.         0.89349836]\t 1.4311855693389988\t 1.4024696810470139\t -1.8573088170699943\n",
            "8  \t [9.81680007 7.02689466 7.         0.90215352 1.         0.9920185 ]\t 1.410928861359229\t 1.4024696810470139\t -1.8488285377509655\n",
            "9  \t [ 9.40719146  1.89726861  5.          0.87155936 13.          0.22642966]\t 1.6111130864096659\t 1.4024696810470139\t -1.8398200676574046\n",
            "10 \t [ 6.91640934  0.42117183 12.          0.52330119 18.          0.69145372]\t 1.4222860844647272\t 1.4024696810470139\t -1.849655488483172\n",
            "11 \t [ 5.03853319  5.79419505 12.          0.6905256   4.          0.4182339 ]\t 1.562753520391864\t 1.4024696810470139\t -1.8426749453108173\n",
            "12 \t [ 0.05037086  7.50461284  5.          0.70076046 19.          0.10543546]\t 1.6116524740300122\t 1.4024696810470139\t -1.8470637923081852\n",
            "13 \t [9.71402251 3.49303724 9.         0.55108445 5.         0.92582605]\t 1.4070565948252503\t 1.4024696810470139\t -1.8548786850458667\n",
            "14 \t [0.67859124 3.14599852 8.         0.51257371 1.         0.32555625]\t 1.591652660225934\t 1.4024696810470139\t -1.8482036827626824\n",
            "15 \t [ 8.96413432  7.32165604 12.          0.63487038 19.          0.69050857]\t 1.419066520014614\t 1.4024696810470139\t -1.8533352574869115\n",
            "16 \t [ 9.08023589  1.85288911 11.          0.63267913 14.          0.40797184]\t 1.5538844542565022\t 1.4024696810470139\t -1.846751556270219\n",
            "17 \t [ 1.33322728  0.65370528 14.          0.58586315 14.          0.29035065]\t 1.5880135636818333\t 1.4024696810470139\t -1.8557382619916507\n",
            "18 \t [ 2.40419716  6.97843764  9.          0.71455984 18.          0.47078898]\t 1.5541248632698317\t 1.4024696810470139\t -1.852280996364885\n",
            "19 \t [ 9.19469489  7.95556046 14.          0.59072797  2.          0.14898519]\t 1.6020810827814063\t 1.4024696810470139\t -1.8577405245996619\n",
            "20 \t [4.68620053 4.99479765 5.         0.60387659 9.         0.54220856]\t 1.4786167380733108\t 1.4024696810470139\t -1.8622005403393433\n",
            "21 \t [ 3.2011458   1.04426629  7.          0.81007507 19.          0.24926092]\t 1.6038304628187547\t 1.4024696810470139\t -1.860892280620015\n",
            "22 \t [ 0.83235001  0.61434794 14.          0.80595761 16.          0.85496111]\t 1.4133430205560076\t 1.4024696810470139\t -1.866773264856851\n",
            "23 \t [ 8.01460532  3.85229008  5.          0.50607161 19.          0.41314128]\t 1.5744372527115178\t 1.4024696810470139\t -1.8513845543144707\n",
            "24 \t [4.2868675  9.7232536  8.         0.69261028 1.         0.55259048]\t 1.4634864828583567\t 1.4024696810470139\t -1.8540893786795143\n",
            "25 \t [ 3.84295068  9.88181502  7.          0.59323044 13.          0.12741355]\t 1.6036112700507963\t 1.4024696810470139\t -1.8520660831927258\n",
            "\u001b[1m\u001b[92m26\u001b[0m\t \u001b[1m\u001b[92m[ 0.27331627  5.6898161  11.          0.94466093 11.          0.93144794]\u001b[0m\t \u001b[1m\u001b[92m1.397262026373968\u001b[0m\t \u001b[1m\u001b[92m1.397262026373968\u001b[0m\t \u001b[1m\u001b[92m-1.855782215555545\u001b[0m\n",
            "\u001b[1m\u001b[92m27\u001b[0m\t \u001b[1m\u001b[92m[ 1.97772982 10.         13.57746123  1.          6.23772272  1.        ]\u001b[0m\t \u001b[1m\u001b[92m1.3713815973563994\u001b[0m\t \u001b[1m\u001b[92m1.3713815973563994\u001b[0m\t \u001b[1m\u001b[92m-1.851438014481109\u001b[0m\n",
            "28 \t [4.47572963 0.         8.9155966  0.5        3.66541612 0.1       ]\t 1.6014100823922874\t 1.3713815973563994\t -1.8509582978309236\n",
            "29 \t [ 6.36838694  0.          7.98137157  1.         10.27020282  1.        ]\t 1.392387860454346\t 1.3713815973563994\t -1.8499450531902704\n",
            "30 \t [ 9.95126131  9.64022555 11.          0.74273384  9.          0.68757519]\t 1.4199186833049537\t 1.3713815973563994\t -1.8509483764284873\n"
          ]
        },
        {
          "output_type": "execute_result",
          "data": {
            "text/plain": [
              "51230.94935295834"
            ]
          },
          "metadata": {},
          "execution_count": 54
        }
      ]
    },
    {
      "cell_type": "code",
      "metadata": {
        "id": "KgxvE7Irbbj_",
        "colab": {
          "base_uri": "https://localhost:8080/"
        },
        "outputId": "a7e75ac3-191a-475e-e547-48a85f5edddc"
      },
      "source": [
        "### Bayesian optimization runs (x20): 'stp' Acquisition Function run number = 15 \n",
        "\n",
        "np.random.seed(run_num_15)\n",
        "surrogate_stp_15 = tStudentProcess(cov_func, optimize=opt, nu = df)\n",
        "\n",
        "X_train15, X_test15, y_train15, y_test15 = train_test_split(X, y, test_size=test_perc, random_state=run_num_15)\n",
        "\n",
        "def f_syn_polarity15(alpha, gamma, max_depth, subsample, min_child_weight, colsample):\n",
        "    reg = XGBRegressor(reg_alpha=alpha, gamma=gamma, max_depth=int(max_depth), subsample=subsample, min_child_weight=min_child_weight,\n",
        "          colsample_bytree=colsample, n_estimators = n_est, random_state=run_num_15, objective = 'reg:squarederror')\n",
        "    score = np.array(cross_val_score(reg, X=X_train15, y=y_train15).mean())\n",
        "    return operator * score\n",
        "\n",
        "stp_15 = GPGO_multi_STP(surrogate_stp_15, Acquisition_new(util_stp), f_syn_polarity15, param, n_jobs = -1) # Define BayesOpt\n",
        "stp_15.run(max_iter = max_iter, init_evals = n_init) # run\n",
        "\n",
        "### Return optimal parameters' set:\n",
        "params_stp_15 = stp_15.getResult()[0]\n",
        "params_stp_15['max_depth'] = int(params_stp_15['max_depth'])\n",
        "params_stp_15['min_child_weight'] = int(params_stp_15['min_child_weight'])\n",
        "\n",
        "### Re-train with optimal parameters, run predictons:\n",
        "dX_stp_train15 = xgb.DMatrix(X_train15, y_train15)\n",
        "dX_stp_test15 = xgb.DMatrix(X_test15, y_test15)\n",
        "model_stp_15 = xgb.train(params_stp_15, dX_stp_train15)\n",
        "pred_stp_15 = model_stp_15.predict(dX_stp_test15)\n",
        "\n",
        "rmse_stp_15 = np.sqrt(mean_squared_error(pred_stp_15, y_test15))\n",
        "rmse_stp_15"
      ],
      "execution_count": 55,
      "outputs": [
        {
          "output_type": "stream",
          "name": "stdout",
          "text": [
            "Evaluation \t Proposed point \t  Current eval. \t  Best eval. \t Min. ApproxAcqFunc \n",
            "init\t [ 8.48817697  1.78895925 12.          0.55549316  8.          0.93397854]\t 1.376451715987612\t 1.376451715987612\t    \n",
            "init\t [ 0.24953032  8.22298097 12.          0.62494951 11.          0.12924598]\t 1.5659547455717522\t 1.376451715987612\t    \n",
            "init\t [ 5.02017228  5.50882771 11.          0.85295832 19.          0.13548008]\t 1.5651600836199522\t 1.376451715987612\t    \n",
            "init\t [2.0023081  9.98543403 7.         0.6295772  2.         0.526127  ]\t 1.4164354656135685\t 1.376451715987612\t    \n",
            "init\t [ 5.09715306  9.45038417 11.          0.7388277  16.          0.22739973]\t 1.5662872595805275\t 1.376451715987612\t    \n",
            "1  \t [ 0.29158961  4.9949242  12.          0.89124583  3.          0.67554049]\t 1.3814014024038652\t 1.376451715987612\t -1.8376160054228818\n",
            "2  \t [ 7.80696243  1.09153976  6.          0.81966542 12.          0.83385619]\t 1.4152279843150193\t 1.376451715987612\t -1.814137449593003\n",
            "3  \t [ 7.00755347  9.83963845  5.          0.51866345 10.          0.95031515]\t 1.4291048394775454\t 1.376451715987612\t -1.8028133936136759\n",
            "4  \t [ 3.14954218  0.47444458  5.          0.87893165 19.          0.22543074]\t 1.5692184454860811\t 1.376451715987612\t -1.7963289308771624\n",
            "5  \t [ 8.35356794  9.00845324 14.          0.92661921  1.          0.7098562 ]\t 1.3837607850883586\t 1.376451715987612\t -1.8107107696350322\n",
            "\u001b[1m\u001b[92m6\u001b[0m\t \u001b[1m\u001b[92m[ 7.55966197  2.53248797 10.          0.87442591 10.          0.87226019]\u001b[0m\t \u001b[1m\u001b[92m1.3753724658241873\u001b[0m\t \u001b[1m\u001b[92m1.3753724658241873\u001b[0m\t \u001b[1m\u001b[92m-1.799451058402884\u001b[0m\n",
            "7  \t [8.10740963 3.16173103 7.         0.80269561 2.         0.99463922]\t 1.389275305272908\t 1.3753724658241873\t -1.7840367791397007\n",
            "8  \t [ 9.86619867  7.92089114  5.          0.82946959 17.          0.56931968]\t 1.4570699301186996\t 1.3753724658241873\t -1.7804621278286918\n",
            "9  \t [ 0.16066648  1.52153651  7.          0.50448336 12.          0.22783984]\t 1.5684747744893406\t 1.3753724658241873\t -1.780965168039801\n",
            "10 \t [0.08711681 1.42658713 6.         0.87240893 3.         0.10610921]\t 1.568039032911511\t 1.3753724658241873\t -1.7919467765220594\n",
            "11 \t [ 9.93214841  0.81045655 13.          0.86132344 18.          0.14497388]\t 1.5645146263267378\t 1.3753724658241873\t -1.798901298556982\n",
            "12 \t [ 0.44758083  1.21361479 14.          0.72053858 16.          0.73785377]\t 1.385218241746701\t 1.3753724658241873\t -1.808359218554173\n",
            "\u001b[1m\u001b[92m13\u001b[0m\t \u001b[1m\u001b[92m[ 7.76649344  1.163194   14.          0.89685392  1.          0.90591323]\u001b[0m\t \u001b[1m\u001b[92m1.3663441257185565\u001b[0m\t \u001b[1m\u001b[92m1.3663441257185565\u001b[0m\t \u001b[1m\u001b[92m-1.802291000154295\u001b[0m\n",
            "14 \t [1.72303571 6.98702726 8.         0.7760417  7.         0.62186045]\t 1.4032214766010047\t 1.3663441257185565\t -1.7957132075237063\n",
            "15 \t [ 2.27601751  8.37986432  6.          0.63312332 14.          0.21259169]\t 1.569254064033355\t 1.3663441257185565\t -1.788227386099892\n",
            "16 \t [ 5.9418952   9.79688876 12.          0.61451595  8.          0.44567276]\t 1.4971869938890976\t 1.3663441257185565\t -1.7989322810748893\n",
            "\u001b[1m\u001b[92m17\u001b[0m\t \u001b[1m\u001b[92m[ 9.83862705  8.94611486 14.          0.93790478 15.          0.92129684]\u001b[0m\t \u001b[1m\u001b[92m1.3622123374707675\u001b[0m\t \u001b[1m\u001b[92m1.3622123374707675\u001b[0m\t \u001b[1m\u001b[92m-1.7966045350833268\u001b[0m\n",
            "18 \t [ 0.59405683  9.68988977 11.          0.53954584 19.          0.82321219]\t 1.3872587779236938\t 1.3622123374707675\t -1.7912194991503072\n",
            "19 \t [ 0.          0.          9.95538675  1.         20.          0.1       ]\t 1.531086696304391\t 1.3622123374707675\t -1.7874737493352646\n",
            "20 \t [9.27867198 8.6866062  8.         0.54343407 2.         0.11664057]\t 1.567390863897659\t 1.3622123374707675\t -1.7941488238169958\n",
            "21 \t [ 1.41127451  0.02455301 14.          0.99438541  9.          0.56009967]\t 1.3787564649943844\t 1.3622123374707675\t -1.7961809172480716\n",
            "22 \t [ 9.16030972  6.82582691  8.49399649  1.         12.89080591  0.1       ]\t 1.5311589774260241\t 1.3622123374707675\t -1.7923122512856189\n",
            "23 \t [ 4.98820829  4.22000133 11.          0.75308355  5.          0.60303813]\t 1.3892943726850393\t 1.3622123374707675\t -1.7953402890409325\n",
            "24 \t [9.97677376 6.31285583 6.         0.62940751 7.         0.28347521]\t 1.53741252611046\t 1.3622123374707675\t -1.793990943212965\n",
            "25 \t [10.          0.          6.00000046  0.5        16.47550176  1.        ]\t 1.411638442020036\t 1.3622123374707675\t -1.7952858679661925\n",
            "26 \t [ 3.31018199  2.93701921 10.          0.55182029 15.          0.6604229 ]\t 1.3983232200754923\t 1.3622123374707675\t -1.794894654581158\n",
            "27 \t [ 4.49468804  9.53542172  6.          0.95943855 19.          0.34810193]\t 1.536163535907284\t 1.3622123374707675\t -1.7907201353641289\n",
            "28 \t [ 7.22915937  3.13681091  6.76605076  0.5        20.          0.1       ]\t 1.5691535990034833\t 1.3622123374707675\t -1.793534732824496\n",
            "29 \t [10.         10.         11.65834186  1.         20.          1.        ]\t 1.369773181189716\t 1.3622123374707675\t -1.7974391919405457\n",
            "30 \t [3.88978788 3.16380062 6.         0.94349975 8.         0.86406165]\t 1.413011439969755\t 1.3622123374707675\t -1.7963929344877323\n"
          ]
        },
        {
          "output_type": "execute_result",
          "data": {
            "text/plain": [
              "49749.7596129125"
            ]
          },
          "metadata": {},
          "execution_count": 55
        }
      ]
    },
    {
      "cell_type": "code",
      "metadata": {
        "id": "5TaP6RoGuiNT",
        "colab": {
          "base_uri": "https://localhost:8080/"
        },
        "outputId": "a69d770b-342c-48ee-f18a-b50fe7152ca0"
      },
      "source": [
        "### Bayesian optimization runs (x20): 'stp' Acquisition Function run number = 16 \n",
        "\n",
        "np.random.seed(run_num_16)\n",
        "surrogate_stp_16 = tStudentProcess(cov_func, optimize=opt, nu = df)\n",
        "\n",
        "X_train16, X_test16, y_train16, y_test16 = train_test_split(X, y, test_size=test_perc, random_state=run_num_16)\n",
        "\n",
        "def f_syn_polarity16(alpha, gamma, max_depth, subsample, min_child_weight, colsample):\n",
        "    reg = XGBRegressor(reg_alpha=alpha, gamma=gamma, max_depth=int(max_depth), subsample=subsample, min_child_weight=min_child_weight,\n",
        "          colsample_bytree=colsample, n_estimators = n_est, random_state=run_num_16, objective = 'reg:squarederror')\n",
        "    score = np.array(cross_val_score(reg, X=X_train16, y=y_train16).mean())\n",
        "    return operator * score\n",
        "\n",
        "stp_16 = GPGO_multi_STP(surrogate_stp_16, Acquisition_new(util_stp), f_syn_polarity16, param, n_jobs = -1) # Define BayesOpt\n",
        "stp_16.run(max_iter = max_iter, init_evals = n_init) # run\n",
        "\n",
        "### Return optimal parameters' set:\n",
        "params_stp_16 = stp_16.getResult()[0]\n",
        "params_stp_16['max_depth'] = int(params_stp_16['max_depth'])\n",
        "params_stp_16['min_child_weight'] = int(params_stp_16['min_child_weight'])\n",
        "\n",
        "### Re-train with optimal parameters, run predictons:\n",
        "dX_stp_train16 = xgb.DMatrix(X_train16, y_train16)\n",
        "dX_stp_test16 = xgb.DMatrix(X_test16, y_test16)\n",
        "model_stp_16 = xgb.train(params_stp_16, dX_stp_train16)\n",
        "pred_stp_16 = model_stp_16.predict(dX_stp_test16)\n",
        "\n",
        "rmse_stp_16 = np.sqrt(mean_squared_error(pred_stp_16, y_test16))\n",
        "rmse_stp_16"
      ],
      "execution_count": 56,
      "outputs": [
        {
          "output_type": "stream",
          "name": "stdout",
          "text": [
            "Evaluation \t Proposed point \t  Current eval. \t  Best eval. \t Min. ApproxAcqFunc \n",
            "init\t [2.23291079 5.23163341 6.         0.65430839 5.         0.30077285]\t 1.5445131891906443\t 1.5311877282940682\t    \n",
            "init\t [6.88726162 1.63731425 7.         0.97050543 2.         0.25392012]\t 1.5397173057708042\t 1.5311877282940682\t    \n",
            "init\t [ 5.94328983  5.6393473   5.          0.67602695 19.          0.42538144]\t 1.5311877282940682\t 1.5311877282940682\t    \n",
            "init\t [ 0.88741148  3.08148142 14.          0.56043938  9.          0.27515386]\t 1.545084837896393\t 1.5311877282940682\t    \n",
            "init\t [ 2.74631586  1.30996118 11.          0.52160786  8.          0.27956463]\t 1.5455911570787226\t 1.5311877282940682\t    \n",
            "\u001b[1m\u001b[92m1\u001b[0m\t \u001b[1m\u001b[92m[ 7.8937256   1.5972923  14.          0.61610774 17.          0.78739284]\u001b[0m\t \u001b[1m\u001b[92m1.416411889040415\u001b[0m\t \u001b[1m\u001b[92m1.416411889040415\u001b[0m\t \u001b[1m\u001b[92m-1.8874966286438968\u001b[0m\n",
            "2  \t [ 0.78730688  7.98438553 14.          0.91743896 18.          0.25645593]\t 1.5395063210093904\t 1.416411889040415\t -1.8628992342777653\n",
            "3  \t [ 5.11212319  0.44741206  5.          0.8462232  13.          0.83314482]\t 1.4668070771606072\t 1.416411889040415\t -1.8662354001240034\n",
            "\u001b[1m\u001b[92m4\u001b[0m\t \u001b[1m\u001b[92m[ 9.96877147  6.39470057  8.          0.68128858 11.          0.99695772]\u001b[0m\t \u001b[1m\u001b[92m1.3981778866825523\u001b[0m\t \u001b[1m\u001b[92m1.3981778866825523\u001b[0m\t \u001b[1m\u001b[92m-1.8576158663390672\u001b[0m\n",
            "5  \t [ 0.52531225  6.81303024  5.          0.84790081 15.          0.66986097]\t 1.4752570953846065\t 1.3981778866825523\t -1.8420850105643085\n",
            "6  \t [8.14999354 7.05428154 5.         0.87129534 2.         0.95551722]\t 1.4277655209204\t 1.3981778866825523\t -1.8385867401354834\n",
            "7  \t [ 2.28473206  3.68186435 14.          0.76748744  1.          0.18798701]\t 1.5561105968416808\t 1.3981778866825523\t -1.8305594922622805\n",
            "8  \t [ 5.87016569  8.87917086 12.          0.91126245  5.          0.6761048 ]\t 1.425694872156905\t 1.3981778866825523\t -1.8369721647108457\n",
            "\u001b[1m\u001b[92m9\u001b[0m\t \u001b[1m\u001b[92m[ 8.81111765  9.8725891  11.          0.87267987 17.          0.88838238]\u001b[0m\t \u001b[1m\u001b[92m1.3851325796224274\u001b[0m\t \u001b[1m\u001b[92m1.3851325796224274\u001b[0m\t \u001b[1m\u001b[92m-1.8301540697342171\u001b[0m\n",
            "10 \t [ 9.56839048  0.13416862 13.          0.80729993  3.          0.41100156]\t 1.5208602892705905\t 1.3851325796224274\t -1.820931986199894\n",
            "11 \t [ 2.29710054  9.69754475 10.          0.89870321 12.          0.74446381]\t 1.4240453493207272\t 1.3851325796224274\t -1.8238035243762643\n",
            "12 \t [ 8.37557156  0.89396728  8.          0.77048275 11.          0.38452725]\t 1.5150324230395273\t 1.3851325796224274\t -1.8188668313223852\n",
            "13 \t [ 6.47975614  6.0777358  14.          0.94769551 10.          0.71957196]\t 1.4214353038394485\t 1.3851325796224274\t -1.8208734590502416\n",
            "14 \t [1.13352937 0.65225225 6.         0.84552319 1.         0.18279526]\t 1.5581769656770237\t 1.3851325796224274\t -1.8173237672067355\n",
            "15 \t [2.04126153 8.64367291 9.         0.98608318 1.         0.93718701]\t 1.3864007333411723\t 1.3851325796224274\t -1.8212803986109007\n",
            "16 \t [ 0.34237001  2.56455316 14.          0.99887779 15.          0.26947199]\t 1.540320441593762\t 1.3851325796224274\t -1.8156464709528224\n",
            "17 \t [5.57305759 8.79583245 7.         0.53999759 7.         0.72867629]\t 1.447391397384308\t 1.3851325796224274\t -1.8181149374156735\n",
            "18 \t [2.23770768 2.31646936 6.         0.85254899 5.         0.63342557]\t 1.4565299628600212\t 1.3851325796224274\t -1.8207761644209697\n",
            "19 \t [ 8.11689408  5.31682596 13.          0.65752229  1.          0.31067623]\t 1.5488193971209738\t 1.3851325796224274\t -1.8116409297456755\n",
            "20 \t [ 5.09241216  2.06818042  9.          0.53908047 19.          0.69534532]\t 1.4314794454836473\t 1.3851325796224274\t -1.8166426796887527\n",
            "\u001b[1m\u001b[92m21\u001b[0m\t \u001b[1m\u001b[92m[ 3.34769421  0.         15.          1.         20.          1.        ]\u001b[0m\t \u001b[1m\u001b[92m1.3726029344991812\u001b[0m\t \u001b[1m\u001b[92m1.3726029344991812\u001b[0m\t \u001b[1m\u001b[92m-1.8127857209459526\u001b[0m\n",
            "22 \t [ 0.44922986  9.88037919 14.          0.85343249  7.          0.31138817]\t 1.5419576444117493\t 1.3726029344991812\t -1.8080791538195118\n",
            "23 \t [ 0.18046552  4.75746484  9.          0.59498881 18.          0.57220212]\t 1.4733967932118046\t 1.3726029344991812\t -1.812733067062839\n",
            "24 \t [ 7.53725736  1.41144522 14.          0.96760957 12.          0.46547721]\t 1.5147398867011221\t 1.3726029344991812\t -1.813064218277699\n",
            "25 \t [ 5.78307729  5.78284199 13.72602156  0.5        19.58466934  0.1       ]\t 1.5603781113529451\t 1.3726029344991812\t -1.8122863349927014\n",
            "26 \t [ 8.85743635 10.         10.11362701  0.5         1.          1.        ]\t 1.3893252169780221\t 1.3726029344991812\t -1.8155566557205647\n",
            "27 \t [ 3.8429213   0.1628815  10.43038479  0.68593057 13.26671012  0.60528858]\t 1.4736044782954731\t 1.3726029344991812\t -1.8121027406662138\n",
            "28 \t [ 1.10812426 10.         15.          0.5         1.          0.1       ]\t 1.561863064850354\t 1.3726029344991812\t -1.811882184499882\n",
            "29 \t [ 0.          1.99015042  6.83699273  1.         11.94805923  0.1       ]\t 1.5599634367569106\t 1.3726029344991812\t -1.8149329678817645\n",
            "30 \t [ 5.49157285  8.64590205  5.          0.84817058 13.          0.97396831]\t 1.4283235659070133\t 1.3726029344991812\t -1.8218947177132765\n"
          ]
        },
        {
          "output_type": "execute_result",
          "data": {
            "text/plain": [
              "50207.30830568112"
            ]
          },
          "metadata": {},
          "execution_count": 56
        }
      ]
    },
    {
      "cell_type": "code",
      "metadata": {
        "id": "NiOaMUmgulbx",
        "colab": {
          "base_uri": "https://localhost:8080/"
        },
        "outputId": "4103a8ad-09e3-4a96-cd88-a3321974b92f"
      },
      "source": [
        "### Bayesian optimization runs (x20): 'stp' Acquisition Function run number = 17 \n",
        "\n",
        "np.random.seed(run_num_17)\n",
        "surrogate_stp_17 = tStudentProcess(cov_func, optimize=opt, nu = df)\n",
        "\n",
        "X_train17, X_test17, y_train17, y_test17 = train_test_split(X, y, test_size=test_perc, random_state=run_num_17)\n",
        "\n",
        "def f_syn_polarity17(alpha, gamma, max_depth, subsample, min_child_weight, colsample):\n",
        "    reg = XGBRegressor(reg_alpha=alpha, gamma=gamma, max_depth=int(max_depth), subsample=subsample, min_child_weight=min_child_weight,\n",
        "          colsample_bytree=colsample, n_estimators = n_est, random_state=run_num_17, objective = 'reg:squarederror')\n",
        "    score = np.array(cross_val_score(reg, X=X_train17, y=y_train17).mean())\n",
        "    return operator * score\n",
        "\n",
        "stp_17 = GPGO_multi_STP(surrogate_stp_17, Acquisition_new(util_stp), f_syn_polarity17, param, n_jobs = -1) # Define BayesOpt\n",
        "stp_17.run(max_iter = max_iter, init_evals = n_init) # run\n",
        "\n",
        "### Return optimal parameters' set:\n",
        "params_stp_17 = stp_17.getResult()[0]\n",
        "params_stp_17['max_depth'] = int(params_stp_17['max_depth'])\n",
        "params_stp_17['min_child_weight'] = int(params_stp_17['min_child_weight'])\n",
        "\n",
        "### Re-train with optimal parameters, run predictons:\n",
        "dX_stp_train17 = xgb.DMatrix(X_train17, y_train17)\n",
        "dX_stp_test17 = xgb.DMatrix(X_test17, y_test17)\n",
        "model_stp_17 = xgb.train(params_stp_17, dX_stp_train17)\n",
        "pred_stp_17 = model_stp_17.predict(dX_stp_test17)\n",
        "\n",
        "rmse_stp_17 = np.sqrt(mean_squared_error(pred_stp_17, y_test17))\n",
        "rmse_stp_17"
      ],
      "execution_count": 57,
      "outputs": [
        {
          "output_type": "stream",
          "name": "stdout",
          "text": [
            "Evaluation \t Proposed point \t  Current eval. \t  Best eval. \t Min. ApproxAcqFunc \n",
            "init\t [ 2.94665003  5.30586756 11.          0.94443241 14.          0.80828691]\t 1.432187192078573\t 1.432187192078573\t    \n",
            "init\t [ 6.56333522  6.37520896 12.          0.81487881 18.          0.42203224]\t 1.4945483449196877\t 1.432187192078573\t    \n",
            "init\t [ 9.45683187  0.6004468  11.          0.5171566  10.          0.53881211]\t 1.4548205565954722\t 1.432187192078573\t    \n",
            "init\t [2.72705857 1.19063434 6.         0.74176431 6.         0.10101151]\t 1.6432713945852762\t 1.432187192078573\t    \n",
            "init\t [ 4.77631812  5.24671297 13.          0.66254476 19.          0.36708086]\t 1.5567864797674738\t 1.432187192078573\t    \n",
            "1  \t [ 0.65702322  5.79284078 13.          0.75136902  1.          0.30306068]\t 1.5652619856245054\t 1.432187192078573\t -1.8407331718329434\n",
            "2  \t [9.84734996 1.62122134 9.         0.85334659 1.         0.46477937]\t 1.498948881482044\t 1.432187192078573\t -1.8540823442245178\n",
            "3  \t [7.83479073 9.72387557 6.         0.52643017 2.         0.68421363]\t 1.461907085390612\t 1.432187192078573\t -1.8515704467388687\n",
            "4  \t [ 7.57161629  7.92403345 14.          0.60324211  5.          0.7142773 ]\t 1.4461011624066618\t 1.432187192078573\t -1.8440296709660202\n",
            "5  \t [ 8.65871967  9.93201169  5.          0.72374992 16.          0.14682939]\t 1.6433146268169725\t 1.432187192078573\t -1.8360406698722598\n",
            "6  \t [ 0.19725752  8.16335211 14.          0.80836431  8.          0.45209851]\t 1.498768304463644\t 1.432187192078573\t -1.8546833459425167\n",
            "7  \t [ 0.09514765  4.39529435  5.          0.76449659 12.          0.57098291]\t 1.4707200590454932\t 1.432187192078573\t -1.852973653801852\n",
            "8  \t [ 4.97204887  2.40072226  5.          0.54268748 19.          0.30995407]\t 1.5702611271060207\t 1.432187192078573\t -1.8487080476767241\n",
            "9  \t [ 8.2659539   9.54253037 12.          0.95669852 12.          0.23922596]\t 1.6413673047886916\t 1.432187192078573\t -1.8546097627015985\n",
            "10 \t [0.12174033 8.73496008 5.         0.89827646 5.         0.85354798]\t 1.4615526201092108\t 1.432187192078573\t -1.8662493830751659\n",
            "\u001b[1m\u001b[92m11\u001b[0m\t \u001b[1m\u001b[92m[ 2.91443079  0.16723755 13.          0.598201    6.          0.91729605]\u001b[0m\t \u001b[1m\u001b[92m1.389287224690272\u001b[0m\t \u001b[1m\u001b[92m1.389287224690272\u001b[0m\t \u001b[1m\u001b[92m-1.8612409450530152\u001b[0m\n",
            "12 \t [ 9.99948827  4.05627495  7.          0.60115736 16.          0.95820083]\t 1.4043413578558277\t 1.389287224690272\t -1.8517356601447381\n",
            "13 \t [ 8.38209371  1.79436187  5.          0.95610423 10.          0.10723534]\t 1.6448224242868446\t 1.389287224690272\t -1.8409722934045822\n",
            "14 \t [ 2.38819524  9.86967486  7.          0.93774995 12.          0.62005921]\t 1.4548479272751451\t 1.389287224690272\t -1.8556858837874213\n",
            "15 \t [8.89952242 8.99104543 6.         0.55520345 8.         0.60181614]\t 1.4636758701233517\t 1.389287224690272\t -1.8544280108548568\n",
            "16 \t [ 0.83750999  9.91811143 14.          0.78421167 16.          0.36617369]\t 1.5562710331280996\t 1.389287224690272\t -1.84489307045787\n",
            "17 \t [ 1.66641474  7.47633023  5.          0.68203645 17.          0.15512069]\t 1.6438236216519555\t 1.389287224690272\t -1.8474087086281143\n",
            "18 \t [ 3.42920115  6.14880604 10.          0.62039181  6.          0.22675145]\t 1.6427528324369405\t 1.389287224690272\t -1.8549282272769478\n",
            "19 \t [4.44523786 3.02494347 6.         0.52613199 1.         0.84958179]\t 1.4602939379538165\t 1.389287224690272\t -1.861735309440944\n",
            "20 \t [ 1.85835679  0.10625411 14.          0.59556316 19.          0.70248381]\t 1.4420014499816134\t 1.389287224690272\t -1.858860901888543\n",
            "21 \t [ 8.3841991   0.39581086 12.          0.84286211 19.          0.60193028]\t 1.4471373793356974\t 1.389287224690272\t -1.8606435059433788\n",
            "22 \t [10.   0.   5.   0.5 20.   0.1]\t 1.6484981212268068\t 1.389287224690272\t -1.852370373708504\n",
            "\u001b[1m\u001b[92m23\u001b[0m\t \u001b[1m\u001b[92m[ 9.42476846  1.98683419 14.          0.86139663  3.          0.9025567 ]\u001b[0m\t \u001b[1m\u001b[92m1.3817596184018297\u001b[0m\t \u001b[1m\u001b[92m1.3817596184018297\u001b[0m\t \u001b[1m\u001b[92m-1.8585780857219034\u001b[0m\n",
            "24 \t [ 3.88194812  0.19195504  6.22639135  0.5        12.45223184  0.94236071]\t 1.419882936597709\t 1.3817596184018297\t -1.8530929570301775\n",
            "25 \t [0.05140788 0.1779486  9.         0.69570759 2.         0.65774091]\t 1.4410942802938371\t 1.3817596184018297\t -1.849403196479794\n",
            "26 \t [ 0.34630585  4.49507449 10.24792279  0.5870332  18.3082995   1.        ]\t 1.3827300766704158\t 1.3817596184018297\t -1.846738336255684\n",
            "\u001b[1m\u001b[92m27\u001b[0m\t \u001b[1m\u001b[92m[ 9.59605337  4.56593506 10.          0.94267313  6.          0.96535533]\u001b[0m\t \u001b[1m\u001b[92m1.379406461362556\u001b[0m\t \u001b[1m\u001b[92m1.379406461362556\u001b[0m\t \u001b[1m\u001b[92m-1.8421436440704562\u001b[0m\n",
            "28 \t [ 1.4269304   0.48353251 13.          0.7250677  12.          0.69982135]\t 1.4379521361524952\t 1.379406461362556\t -1.8377023449676586\n",
            "29 \t [ 0.55354376  0.          5.          0.5        16.58195664  1.        ]\t 1.4290990965703982\t 1.379406461362556\t -1.8354953370542142\n",
            "30 \t [3.16184853 9.87879242 9.         0.75137146 3.         0.29059403]\t 1.5591804172773045\t 1.379406461362556\t -1.8344012347018381\n"
          ]
        },
        {
          "output_type": "execute_result",
          "data": {
            "text/plain": [
              "49700.2826457463"
            ]
          },
          "metadata": {},
          "execution_count": 57
        }
      ]
    },
    {
      "cell_type": "code",
      "metadata": {
        "id": "5H4MWSXFcZjO",
        "colab": {
          "base_uri": "https://localhost:8080/"
        },
        "outputId": "990ae378-1411-4f46-c739-4c2c87fae950"
      },
      "source": [
        "### Bayesian optimization runs (x20): 'stp' Acquisition Function run number = 18 \n",
        "\n",
        "np.random.seed(run_num_18)\n",
        "surrogate_stp_18 = tStudentProcess(cov_func, optimize=opt, nu = df)\n",
        "\n",
        "X_train18, X_test18, y_train18, y_test18 = train_test_split(X, y, test_size=test_perc, random_state=run_num_18)\n",
        "\n",
        "def f_syn_polarity18(alpha, gamma, max_depth, subsample, min_child_weight, colsample):\n",
        "    reg = XGBRegressor(reg_alpha=alpha, gamma=gamma, max_depth=int(max_depth), subsample=subsample, min_child_weight=min_child_weight,\n",
        "          colsample_bytree=colsample, n_estimators = n_est, random_state=run_num_18, objective = 'reg:squarederror')\n",
        "    score = np.array(cross_val_score(reg, X=X_train18, y=y_train18).mean())\n",
        "    return operator * score\n",
        "\n",
        "stp_18 = GPGO_multi_STP(surrogate_stp_18, Acquisition_new(util_stp), f_syn_polarity18, param, n_jobs = -1) # Define BayesOpt\n",
        "stp_18.run(max_iter = max_iter, init_evals = n_init) # run\n",
        "\n",
        "### Return optimal parameters' set:\n",
        "params_stp_18 = stp_18.getResult()[0]\n",
        "params_stp_18['max_depth'] = int(params_stp_18['max_depth'])\n",
        "params_stp_18['min_child_weight'] = int(params_stp_18['min_child_weight'])\n",
        "\n",
        "### Re-train with optimal parameters, run predictons:\n",
        "dX_stp_train18 = xgb.DMatrix(X_train18, y_train18)\n",
        "dX_stp_test18 = xgb.DMatrix(X_test18, y_test18)\n",
        "model_stp_18 = xgb.train(params_stp_18, dX_stp_train18)\n",
        "pred_stp_18 = model_stp_18.predict(dX_stp_test18)\n",
        "\n",
        "rmse_stp_18 = np.sqrt(mean_squared_error(pred_stp_18, y_test18))\n",
        "rmse_stp_18"
      ],
      "execution_count": 58,
      "outputs": [
        {
          "output_type": "stream",
          "name": "stdout",
          "text": [
            "Evaluation \t Proposed point \t  Current eval. \t  Best eval. \t Min. ApproxAcqFunc \n",
            "init\t [6.50374242 5.05453374 6.         0.59092011 3.         0.28357516]\t 1.6322360469477801\t 1.459078835901506\t    \n",
            "init\t [0.11506734 4.26891483 9.         0.81785956 5.         0.63489043]\t 1.459078835901506\t 1.459078835901506\t    \n",
            "init\t [ 2.8861259   6.35547834 11.          0.64267955 14.          0.27877092]\t 1.6286856942256722\t 1.459078835901506\t    \n",
            "init\t [6.57189031 6.99655629 8.         0.63235896 4.         0.52894035]\t 1.5014828773258142\t 1.459078835901506\t    \n",
            "init\t [ 6.66600348  2.11312037 14.          0.74363461  4.          0.73174558]\t 1.4595033750139994\t 1.459078835901506\t    \n",
            "1  \t [ 8.67093232  0.11649132  5.          0.92962202 15.          0.53672863]\t 1.5426478637399241\t 1.459078835901506\t -1.8781257079098892\n",
            "2  \t [ 0.39142192  3.13835885 14.          0.79672165 16.          0.17950478]\t 1.637849463402263\t 1.459078835901506\t -1.8848177871190452\n",
            "3  \t [ 6.79595692  7.93947545  5.          0.67208024 18.          0.4521055 ]\t 1.5924334429041855\t 1.459078835901506\t -1.8986708972831532\n",
            "\u001b[1m\u001b[92m4\u001b[0m\t \u001b[1m\u001b[92m[ 8.43851229  2.41114508 13.          0.75771586 19.          0.86905071]\u001b[0m\t \u001b[1m\u001b[92m1.397450772072645\u001b[0m\t \u001b[1m\u001b[92m1.397450772072645\u001b[0m\t \u001b[1m\u001b[92m-1.9052521882618376\u001b[0m\n",
            "5  \t [8.15311919 0.06505754 6.         0.80711136 4.         0.40208413]\t 1.5812191087819591\t 1.397450772072645\t -1.8877388374989938\n",
            "6  \t [ 2.7706731   9.2989548  14.          0.95884661  4.          0.59790588]\t 1.4840341140108824\t 1.397450772072645\t -1.8899458545917958\n",
            "7  \t [ 9.35065053  8.69078822  5.          0.66461938 10.          0.12679649]\t 1.646118194454288\t 1.397450772072645\t -1.8834717507212144\n",
            "\u001b[1m\u001b[92m8\u001b[0m\t \u001b[1m\u001b[92m[ 0.12490504  0.85882407  7.          0.95634859 12.          0.95669748]\u001b[0m\t \u001b[1m\u001b[92m1.3901300331507078\u001b[0m\t \u001b[1m\u001b[92m1.3901300331507078\u001b[0m\t \u001b[1m\u001b[92m-1.8949105738143075\u001b[0m\n",
            "9  \t [ 0.21200191  9.95034596  6.          0.77719285 19.          0.61346381]\t 1.5235049730081272\t 1.3901300331507078\t -1.880574732130694\n",
            "10 \t [ 9.1994245   2.69764756 10.          0.73631779  9.          0.87241044]\t 1.4031628415977149\t 1.3901300331507078\t -1.8796646070246175\n",
            "11 \t [ 1.3529512   3.22583078  8.          0.84543549 19.          0.46278746]\t 1.5636614217501688\t 1.3901300331507078\t -1.8711485226139082\n",
            "12 \t [ 7.80689673  7.86950022 13.          0.83617477 16.          0.24760444]\t 1.6384597599376078\t 1.3901300331507078\t -1.8734248159179019\n",
            "13 \t [ 9.89210509  6.8302257  13.          0.82120209  4.          0.20693901]\t 1.6382720200293863\t 1.3901300331507078\t -1.882361790557347\n",
            "14 \t [ 0.79750807  1.11728309 13.          0.50663562  9.          0.21047116]\t 1.6437807870955965\t 1.3901300331507078\t -1.8900625607488777\n",
            "15 \t [0.82220686 1.00801117 6.         0.75501957 1.         0.96323582]\t 1.4065873832334903\t 1.3901300331507078\t -1.8961875876536576\n",
            "16 \t [2.5396956  9.50821885 5.         0.59649267 7.         0.86884145]\t 1.4808290629888536\t 1.3901300331507078\t -1.887870852932382\n",
            "17 \t [ 9.99708461  4.89470488 13.          0.89274964  1.          0.29070218]\t 1.6356814086713332\t 1.3901300331507078\t -1.8832097158332277\n",
            "18 \t [ 5.97100125  8.36453003  7.          0.86657087 14.          0.10490637]\t 1.640342706834063\t 1.3901300331507078\t -1.889943514715979\n",
            "19 \t [ 8.09255222  3.97162331  5.          0.60225805 12.          0.6796619 ]\t 1.532540425236355\t 1.3901300331507078\t -1.890887556136151\n",
            "\u001b[1m\u001b[92m20\u001b[0m\t \u001b[1m\u001b[92m[ 1.25946236  5.86562954 11.          0.82611366 11.          0.90989778]\u001b[0m\t \u001b[1m\u001b[92m1.3659933246254075\u001b[0m\t \u001b[1m\u001b[92m1.3659933246254075\u001b[0m\t \u001b[1m\u001b[92m-1.8962023063952467\u001b[0m\n",
            "21 \t [0.58655573 8.89860432 5.         0.62593909 1.         0.46819727]\t 1.5926769659229498\t 1.3659933246254075\t -1.8797263407379525\n",
            "22 \t [ 2.84667616  5.57644025 10.82112475  1.          1.          0.1       ]\t 1.6081656410869036\t 1.3659933246254075\t -1.8823992692892928\n",
            "23 \t [ 9.52905349  7.08280173 12.          0.67464793 11.          0.17093035]\t 1.639500978591333\t 1.3659933246254075\t -1.8897886001161028\n",
            "24 \t [ 4.79706307  3.94528311  9.          0.85017607 18.          0.91617004]\t 1.3731304541243314\t 1.3659933246254075\t -1.8974922389264823\n",
            "25 \t [ 7.5232407   0.14021923 14.          0.63702182 13.          0.19869251]\t 1.6403686899827767\t 1.3659933246254075\t -1.8913026081574988\n",
            "26 \t [0.15311705 8.06196555 6.         0.5215701  3.         0.25299331]\t 1.6353148835712557\t 1.3659933246254075\t -1.8969233143385729\n",
            "27 \t [ 5.32345718  4.6936885  15.          0.5         9.83397757  1.        ]\t 1.373594154942467\t 1.3659933246254075\t -1.8896303620348072\n",
            "28 \t [ 0.         10.          5.          0.5        12.99523643  1.        ]\t 1.4192293661944493\t 1.3659933246254075\t -1.886470373804762\n",
            "29 \t [0.         1.71121838 5.         0.5        7.10244393 0.1       ]\t 1.649489312546954\t 1.3659933246254075\t -1.8795636311252761\n",
            "30 \t [ 6.54905655  5.53934963 13.          0.86151745  7.          0.76184747]\t 1.3930128787964946\t 1.3659933246254075\t -1.8805728120321386\n"
          ]
        },
        {
          "output_type": "execute_result",
          "data": {
            "text/plain": [
              "48640.839438569084"
            ]
          },
          "metadata": {},
          "execution_count": 58
        }
      ]
    },
    {
      "cell_type": "code",
      "metadata": {
        "id": "B-zaPbk2uuzH",
        "colab": {
          "base_uri": "https://localhost:8080/"
        },
        "outputId": "e5fe880c-6a84-421c-b469-bf5f63852848"
      },
      "source": [
        "### Bayesian optimization runs (x20): 'stp' Acquisition Function run number = 19 \n",
        "\n",
        "np.random.seed(run_num_19)\n",
        "surrogate_stp_19 = tStudentProcess(cov_func, optimize=opt, nu = df)\n",
        "\n",
        "X_train19, X_test19, y_train19, y_test19 = train_test_split(X, y, test_size=test_perc, random_state=run_num_19)\n",
        "\n",
        "def f_syn_polarity19(alpha, gamma, max_depth, subsample, min_child_weight, colsample):\n",
        "    reg = XGBRegressor(reg_alpha=alpha, gamma=gamma, max_depth=int(max_depth), subsample=subsample, min_child_weight=min_child_weight,\n",
        "          colsample_bytree=colsample, n_estimators = n_est, random_state=run_num_19, objective = 'reg:squarederror')\n",
        "    score = np.array(cross_val_score(reg, X=X_train19, y=y_train19).mean())\n",
        "    return operator * score\n",
        "\n",
        "stp_19 = GPGO_multi_STP(surrogate_stp_19, Acquisition_new(util_stp), f_syn_polarity19, param, n_jobs = -1) # Define BayesOpt\n",
        "stp_19.run(max_iter = max_iter, init_evals = n_init) # run\n",
        "\n",
        "### Return optimal parameters' set:\n",
        "params_stp_19 = stp_19.getResult()[0]\n",
        "params_stp_19['max_depth'] = int(params_stp_19['max_depth'])\n",
        "params_stp_19['min_child_weight'] = int(params_stp_19['min_child_weight'])\n",
        "\n",
        "### Re-train with optimal parameters, run predictons:\n",
        "dX_stp_train19 = xgb.DMatrix(X_train19, y_train19)\n",
        "dX_stp_test19 = xgb.DMatrix(X_test19, y_test19)\n",
        "model_stp_19 = xgb.train(params_stp_19, dX_stp_train19)\n",
        "pred_stp_19 = model_stp_19.predict(dX_stp_test19)\n",
        "\n",
        "rmse_stp_19 = np.sqrt(mean_squared_error(pred_stp_19, y_test19))\n",
        "rmse_stp_19"
      ],
      "execution_count": 59,
      "outputs": [
        {
          "output_type": "stream",
          "name": "stdout",
          "text": [
            "Evaluation \t Proposed point \t  Current eval. \t  Best eval. \t Min. ApproxAcqFunc \n",
            "init\t [ 0.97533602  7.61249717 13.          0.85765469 11.          0.39830191]\t 1.4075337339770704\t 1.4075337339770704\t    \n",
            "init\t [ 0.82999565  6.71977081  6.          0.50407413 19.          0.67209466]\t 1.4228132434714993\t 1.4075337339770704\t    \n",
            "init\t [ 2.15923256  5.49027432 12.          0.52588686 10.          0.20235326]\t 1.6084741621894145\t 1.4075337339770704\t    \n",
            "init\t [4.99659267 1.52108422 6.         0.73481085 4.         0.71949465]\t 1.4198106118164695\t 1.4075337339770704\t    \n",
            "init\t [ 3.72927156  9.46160045  5.          0.80554614 18.          0.97708466]\t 1.4218628552782113\t 1.4075337339770704\t    \n",
            "\u001b[1m\u001b[92m1\u001b[0m\t \u001b[1m\u001b[92m[ 8.33060043  1.42030563  8.          0.92863724 14.          0.78606141]\u001b[0m\t \u001b[1m\u001b[92m1.3842780004279849\u001b[0m\t \u001b[1m\u001b[92m1.3842780004279849\u001b[0m\t \u001b[1m\u001b[92m-1.7764195396439215\u001b[0m\n",
            "2  \t [ 9.05225624  3.60011377 14.          0.89518364  1.          0.11342054]\t 1.6089627692761461\t 1.3842780004279849\t -1.7631461314813857\n",
            "3  \t [ 7.86497193  9.37671675 14.          0.67335234 17.          0.19715347]\t 1.6074176591355478\t 1.3842780004279849\t -1.7945366260295748\n",
            "4  \t [9.07948237 9.55063617 7.         0.80962147 4.         0.34142584]\t 1.472070120000281\t 1.3842780004279849\t -1.8157087661463425\n",
            "5  \t [ 0.44325104  7.68954892 13.          0.89985304  3.          0.56653072]\t 1.3853903105232432\t 1.3842780004279849\t -1.8158067271101843\n",
            "6  \t [2.44487664 8.24245485 5.         0.93393991 1.         0.49674354]\t 1.4462483681360445\t 1.3842780004279849\t -1.8042191508318406\n",
            "7  \t [1.49864599 6.40622573 5.         0.78390976 8.         0.14811291]\t 1.6066703859288822\t 1.3842780004279849\t -1.8012495095371965\n",
            "8  \t [ 8.99876272  0.14180428 14.          0.5207566  10.          0.28841204]\t 1.4734057315848894\t 1.3842780004279849\t -1.8157799396658356\n",
            "\u001b[1m\u001b[92m9\u001b[0m\t \u001b[1m\u001b[92m[ 2.57422569  5.28306693 13.          0.81109257 18.          0.79027239]\u001b[0m\t \u001b[1m\u001b[92m1.3738116388007067\u001b[0m\t \u001b[1m\u001b[92m1.3738116388007067\u001b[0m\t \u001b[1m\u001b[92m-1.8149288099013423\u001b[0m\n",
            "10 \t [ 9.15431766  0.31175211 14.          0.54456663 18.          0.9787244 ]\t 1.3828763025685678\t 1.3738116388007067\t -1.8057609615080743\n",
            "11 \t [10.          9.21339226  8.67527322  0.68965681 11.67527322  1.        ]\t 1.3863234738813308\t 1.3738116388007067\t -1.8008269348222845\n",
            "12 \t [1.60895472e-01 8.27074864e-03 1.30000000e+01 6.91893018e-01\n",
            " 5.00000000e+00 4.60327119e-01]\t 1.412265762362551\t 1.3738116388007067\t -1.794227707583205\n",
            "13 \t [ 3.35523956  0.21709323  5.          0.67627418 11.          0.74141343]\t 1.43855096046128\t 1.3738116388007067\t -1.7871107909191712\n",
            "14 \t [ 1.70392261  0.81559755  6.          0.59448    17.          0.19350247]\t 1.6077459852582145\t 1.3738116388007067\t -1.785790604058158\n",
            "15 \t [ 7.29914073  8.26687211 14.          0.60538701  7.          0.40132846]\t 1.4139924544936449\t 1.3738116388007067\t -1.7994730587467902\n",
            "16 \t [3.55854994 9.98564885 9.         0.6576158  5.         0.90577361]\t 1.3815819913914609\t 1.3738116388007067\t -1.7924211534080703\n",
            "17 \t [ 8.33059825  1.04305387  5.50917569  0.84337579 18.98199346  0.1       ]\t 1.606336855097154\t 1.3738116388007067\t -1.793456516594822\n",
            "\u001b[1m\u001b[92m18\u001b[0m\t \u001b[1m\u001b[92m[ 7.37638592  4.7225131  14.          0.77491616 13.          0.87212616]\u001b[0m\t \u001b[1m\u001b[92m1.3727942066421885\u001b[0m\t \u001b[1m\u001b[92m1.3727942066421885\u001b[0m\t \u001b[1m\u001b[92m-1.7961538021573005\u001b[0m\n",
            "19 \t [ 9.16348386  7.21866368  5.          0.97401125 16.          0.67436656]\t 1.437867554698156\t 1.3727942066421885\t -1.7915161785510274\n",
            "20 \t [8.065074   4.80041539 5.         0.5        7.74386153 0.15212411]\t 1.6066100104841425\t 1.3727942066421885\t -1.7903063443646072\n",
            "21 \t [9.00927907 5.00380082 6.         0.8841657  1.         0.93262093]\t 1.403763895792284\t 1.3727942066421885\t -1.7974522864976226\n",
            "22 \t [ 2.10895245  0.37541824 15.          0.84343434 14.67516469  0.49244706]\t 1.408749658927159\t 1.3727942066421885\t -1.7946169042310707\n",
            "23 \t [ 4.12456019  4.50763777 10.          0.55241647  1.          0.55624032]\t 1.3983178016838103\t 1.3727942066421885\t -1.7921894714563649\n",
            "24 \t [ 7.73829605  9.69785223 12.01601691  1.          1.          0.1       ]\t 1.6051894745075903\t 1.3727942066421885\t -1.7895033820705837\n",
            "25 \t [ 0.57026832  9.88450917  7.40878052  0.81676009 14.34928822  0.91857701]\t 1.3934636351244942\t 1.3727942066421885\t -1.7956638832218283\n",
            "26 \t [ 5.43952361  0.58445325 15.          0.5         5.3478834   1.        ]\t 1.3842769622515556\t 1.3727942066421885\t -1.792861321631797\n",
            "27 \t [ 3.15237395  0.12417927 11.          0.73318105 11.          0.71418686]\t 1.3874657377103479\t 1.3727942066421885\t -1.7898953983538453\n",
            "\u001b[1m\u001b[92m28\u001b[0m\t \u001b[1m\u001b[92m[ 0.56910648  9.92132266 14.          0.90988498 16.          0.82916878]\u001b[0m\t \u001b[1m\u001b[92m1.3701897116742061\u001b[0m\t \u001b[1m\u001b[92m1.3701897116742061\u001b[0m\t \u001b[1m\u001b[92m-1.787217299618631\u001b[0m\n",
            "29 \t [10.          3.51456207  9.81946739  1.          9.78284133  1.        ]\t 1.3787976562046391\t 1.3701897116742061\t -1.7841036701276873\n",
            "30 \t [ 6.04259449  8.63820963 14.          0.65269046 11.          0.85080098]\t 1.3778844784239184\t 1.3701897116742061\t -1.793523099468506\n"
          ]
        },
        {
          "output_type": "execute_result",
          "data": {
            "text/plain": [
              "49031.30497122744"
            ]
          },
          "metadata": {},
          "execution_count": 59
        }
      ]
    },
    {
      "cell_type": "code",
      "metadata": {
        "id": "NvkuHKlQuxRy",
        "colab": {
          "base_uri": "https://localhost:8080/"
        },
        "outputId": "231404f3-5186-4404-fdb3-82b48ab44de1"
      },
      "source": [
        "### Bayesian optimization runs (x20): 'stp' Acquisition Function run number = 20 \n",
        "\n",
        "np.random.seed(run_num_20)\n",
        "surrogate_stp_20 = tStudentProcess(cov_func, optimize=opt, nu = df)\n",
        "\n",
        "X_train20, X_test20, y_train20, y_test20 = train_test_split(X, y, test_size=test_perc, random_state=run_num_20)\n",
        "\n",
        "def f_syn_polarity20(alpha, gamma, max_depth, subsample, min_child_weight, colsample):\n",
        "    reg = XGBRegressor(reg_alpha=alpha, gamma=gamma, max_depth=int(max_depth), subsample=subsample, min_child_weight=min_child_weight,\n",
        "          colsample_bytree=colsample, n_estimators = n_est, random_state=run_num_20, objective = 'reg:squarederror')\n",
        "    score = np.array(cross_val_score(reg, X=X_train20, y=y_train20).mean())\n",
        "    return operator * score\n",
        "\n",
        "stp_20 = GPGO_multi_STP(surrogate_stp_20, Acquisition_new(util_stp), f_syn_polarity20, param, n_jobs = -1) # Define BayesOpt\n",
        "stp_20.run(max_iter = max_iter, init_evals = n_init) # run\n",
        "\n",
        "### Return optimal parameters' set:\n",
        "params_stp_20 = stp_20.getResult()[0]\n",
        "params_stp_20['max_depth'] = int(params_stp_20['max_depth'])\n",
        "params_stp_20['min_child_weight'] = int(params_stp_20['min_child_weight'])\n",
        "\n",
        "### Re-train with optimal parameters, run predictons:\n",
        "dX_stp_train20 = xgb.DMatrix(X_train20, y_train20)\n",
        "dX_stp_test20 = xgb.DMatrix(X_test20, y_test20)\n",
        "model_stp_20 = xgb.train(params_stp_20, dX_stp_train20)\n",
        "pred_stp_20 = model_stp_20.predict(dX_stp_test20)\n",
        "\n",
        "rmse_stp_20 = np.sqrt(mean_squared_error(pred_stp_20, y_test20))\n",
        "rmse_stp_20"
      ],
      "execution_count": 60,
      "outputs": [
        {
          "output_type": "stream",
          "name": "stdout",
          "text": [
            "Evaluation \t Proposed point \t  Current eval. \t  Best eval. \t Min. ApproxAcqFunc \n",
            "init\t [ 5.88130801  8.97713728 14.          0.81074445  8.          0.95540649]\t 1.3748447855907977\t 1.3748447855907977\t    \n",
            "init\t [6.72865655 0.41173329 8.         0.6361582  7.         0.76174061]\t 1.4185133726703796\t 1.3748447855907977\t    \n",
            "init\t [ 4.77387703  8.66202323 10.          0.51833215  7.          0.10123387]\t 1.6439786774737961\t 1.3748447855907977\t    \n",
            "init\t [ 5.75489985  4.74524381  8.          0.78084343 15.          0.26643049]\t 1.534878770114387\t 1.3748447855907977\t    \n",
            "init\t [ 4.53444     4.47342833  8.          0.91974896 18.          0.35997552]\t 1.5336412960522285\t 1.3748447855907977\t    \n",
            "1  \t [ 7.96566073  7.15509535  7.          0.79906691 11.          0.34132075]\t 1.536147862834937\t 1.3748447855907977\t -1.8422504591040576\n",
            "2  \t [ 0.91142496  2.10459582  5.          0.81472029 14.          0.18508735]\t 1.646568837674718\t 1.3748447855907977\t -1.8488344067875757\n",
            "3  \t [ 1.98667885  1.35773177 13.          0.57199118  2.          0.39498908]\t 1.5177654419926867\t 1.3748447855907977\t -1.8720636846006886\n",
            "4  \t [ 9.33047492  5.23196938 11.          0.52759949  1.          0.16025851]\t 1.6450690300350963\t 1.3748447855907977\t -1.870346310029802\n",
            "5  \t [ 0.05406024  0.42106765 14.          0.6066366  16.          0.86098378]\t 1.4186471151892663\t 1.3748447855907977\t -1.8870420867520006\n",
            "6  \t [ 9.3606342   3.21248061 14.          0.65614013 17.          0.10926152]\t 1.6425026081238112\t 1.3748447855907977\t -1.8726105424618666\n",
            "\u001b[1m\u001b[92m7\u001b[0m\t \u001b[1m\u001b[92m[ 0.30329279  8.44985963 11.          0.88949602 12.          0.98063814]\u001b[0m\t \u001b[1m\u001b[92m1.3738574231055192\u001b[0m\t \u001b[1m\u001b[92m1.3738574231055192\u001b[0m\t \u001b[1m\u001b[92m-1.8856418199389386\u001b[0m\n",
            "8  \t [ 0.10166936  9.6338413  10.          0.90921408  2.          0.8185074 ]\t 1.4116697434075767\t 1.3738574231055192\t -1.8695913846776406\n",
            "9  \t [ 4.75796462  9.45441825 12.          0.67052943 16.          0.42650939]\t 1.5031052768814301\t 1.3738574231055192\t -1.860035195278543\n",
            "10 \t [0.74035504 4.5748447  5.         0.89363317 5.         0.49127349]\t 1.5237643394182476\t 1.3738574231055192\t -1.8584789256923744\n",
            "11 \t [ 8.05973042  0.02199688 13.          0.85421451 11.          0.72391389]\t 1.4133022633822214\t 1.3738574231055192\t -1.8591573738266927\n",
            "12 \t [ 9.67068733  9.01636996  6.          0.81526911 19.          0.25308417]\t 1.538846619034425\t 1.3738574231055192\t -1.8510889737775937\n",
            "13 \t [6.79833609 9.31109853 5.         0.95980448 2.         0.84660085]\t 1.4271575912229317\t 1.3738574231055192\t -1.8534235993775157\n",
            "14 \t [6.94629528 1.50612385 5.         0.99024547 2.         0.61790138]\t 1.514824165103557\t 1.3738574231055192\t -1.8474910081794484\n",
            "15 \t [ 0.39565672  8.50724472  5.          0.74462587 17.          0.73375146]\t 1.433377758580311\t 1.3738574231055192\t -1.8487970719734126\n",
            "16 \t [ 3.04230829  4.53457617 13.          0.80255796 15.          0.79649097]\t 1.4119416902077724\t 1.3738574231055192\t -1.8449476440131234\n",
            "17 \t [ 7.59858062  5.33541747 13.          0.87952155 10.          0.69871677]\t 1.4150641142938876\t 1.3738574231055192\t -1.8389184239054392\n",
            "18 \t [ 1.24286222  3.55703725 14.          0.5545898   9.          0.51789755]\t 1.4915555971449397\t 1.3738574231055192\t -1.8326431006969606\n",
            "19 \t [ 9.91435753  4.91625148 11.          0.78231709  9.          0.65228554]\t 1.4128078067402885\t 1.3738574231055192\t -1.83428732124955\n",
            "20 \t [ 1.05691112  6.83529574  6.          0.94228682 10.          0.28949956]\t 1.538910741967478\t 1.3738574231055192\t -1.8250209258903771\n",
            "21 \t [ 1.54443168  6.33108398 10.          0.95482994  4.          0.20746581]\t 1.6402929522214529\t 1.3738574231055192\t -1.8314024269372629\n",
            "22 \t [ 0.83895335  0.51132864  9.          0.61229012 11.          0.41296966]\t 1.5073761666261405\t 1.3738574231055192\t -1.834394407796248\n",
            "23 \t [ 8.57170247  1.95877837  5.          0.94543213 13.          0.38592691]\t 1.5237561522558856\t 1.3738574231055192\t -1.8348159025982442\n",
            "24 \t [ 8.86476551  2.12082927 14.          0.94148898  6.          0.37572307]\t 1.5016969808946716\t 1.3738574231055192\t -1.8396916476366088\n",
            "25 \t [ 0.51253123  3.56565363 14.          0.77906633 18.          0.24802552]\t 1.64080529460219\t 1.3738574231055192\t -1.8399834653572387\n",
            "26 \t [ 9.79583584  8.35301192 11.          0.74430219 14.          0.87872448]\t 1.3790349032830356\t 1.3738574231055192\t -1.8456339625550366\n",
            "27 \t [ 4.50845766  5.96129151 14.10821008  1.          2.57504636  0.68447606]\t 1.376263616369986\t 1.3738574231055192\t -1.837259157524703\n",
            "28 \t [ 8.95505466  0.47342414  7.          0.92254835 19.          0.10242197]\t 1.6419599426389389\t 1.3738574231055192\t -1.8328479538066969\n",
            "29 \t [ 1.68107901 10.          6.28679928  0.82644982  5.40076003  1.        ]\t 1.3985438749106052\t 1.3738574231055192\t -1.8383320897765774\n",
            "30 \t [ 3.27487483  4.33929289 10.          0.99516889 19.          0.14687977]\t 1.6403480775801387\t 1.3738574231055192\t -1.8399351935188932\n"
          ]
        },
        {
          "output_type": "execute_result",
          "data": {
            "text/plain": [
              "50163.48769005427"
            ]
          },
          "metadata": {},
          "execution_count": 60
        }
      ]
    },
    {
      "cell_type": "code",
      "metadata": {
        "id": "KFKuwvS3uzrs",
        "colab": {
          "base_uri": "https://localhost:8080/"
        },
        "outputId": "c34095bc-ea22-4b82-9a45-ee8ff60d00d7"
      },
      "source": [
        "end_stp = time.time()\n",
        "end_stp\n",
        "\n",
        "time_stp = end_stp - start_stp\n",
        "time_stp"
      ],
      "execution_count": 61,
      "outputs": [
        {
          "output_type": "execute_result",
          "data": {
            "text/plain": [
              "825.9435584545135"
            ]
          },
          "metadata": {},
          "execution_count": 61
        }
      ]
    },
    {
      "cell_type": "code",
      "metadata": {
        "id": "CU2FlhY4vHUk",
        "colab": {
          "base_uri": "https://localhost:8080/"
        },
        "outputId": "903eabe4-7785-4a43-9940-d92e854536dc"
      },
      "source": [
        "rmse_gp = [rmse_gp_1,\n",
        "rmse_gp_2,\n",
        "rmse_gp_3,\n",
        "rmse_gp_4,\n",
        "rmse_gp_5,\n",
        "rmse_gp_6,\n",
        "rmse_gp_7,\n",
        "rmse_gp_8,\n",
        "rmse_gp_9,\n",
        "rmse_gp_10,\n",
        "rmse_gp_11,\n",
        "rmse_gp_12,\n",
        "rmse_gp_13,\n",
        "rmse_gp_14,\n",
        "rmse_gp_15,\n",
        "rmse_gp_16,\n",
        "rmse_gp_17,\n",
        "rmse_gp_18,\n",
        "rmse_gp_19,\n",
        "rmse_gp_20]\n",
        "\n",
        "np.mean(rmse_gp)"
      ],
      "execution_count": 62,
      "outputs": [
        {
          "output_type": "execute_result",
          "data": {
            "text/plain": [
              "50428.14311119345"
            ]
          },
          "metadata": {},
          "execution_count": 62
        }
      ]
    },
    {
      "cell_type": "code",
      "metadata": {
        "id": "iZ53FsWXu3J1",
        "colab": {
          "base_uri": "https://localhost:8080/"
        },
        "outputId": "718efcca-5a87-44da-a502-97dcfd8c47c9"
      },
      "source": [
        "rmse_stp = [rmse_stp_1,\n",
        "rmse_stp_2,\n",
        "rmse_stp_3,\n",
        "rmse_stp_4,\n",
        "rmse_stp_5,\n",
        "rmse_stp_6,\n",
        "rmse_stp_7,\n",
        "rmse_stp_8,\n",
        "rmse_stp_9,\n",
        "rmse_stp_10,\n",
        "rmse_stp_11,\n",
        "rmse_stp_12,\n",
        "rmse_stp_13,\n",
        "rmse_stp_14,\n",
        "rmse_stp_15,\n",
        "rmse_stp_16,\n",
        "rmse_stp_17,\n",
        "rmse_stp_18,\n",
        "rmse_stp_19,\n",
        "rmse_stp_20]\n",
        "\n",
        "np.mean(rmse_stp)"
      ],
      "execution_count": 63,
      "outputs": [
        {
          "output_type": "execute_result",
          "data": {
            "text/plain": [
              "49759.618345827716"
            ]
          },
          "metadata": {},
          "execution_count": 63
        }
      ]
    },
    {
      "cell_type": "code",
      "metadata": {
        "id": "a9FOyoH8u5Wx",
        "colab": {
          "base_uri": "https://localhost:8080/"
        },
        "outputId": "d39f4b87-1276-47d2-b2ca-76af65a53f67"
      },
      "source": [
        "min_rmse_gp = min_max_array(rmse_gp)\n",
        "min_rmse_gp, len(min_rmse_gp)"
      ],
      "execution_count": 64,
      "outputs": [
        {
          "output_type": "execute_result",
          "data": {
            "text/plain": [
              "([48973.66312746987,\n",
              "  48495.7639648715,\n",
              "  48495.7639648715,\n",
              "  48495.7639648715,\n",
              "  48495.7639648715,\n",
              "  48495.7639648715,\n",
              "  48495.7639648715,\n",
              "  48495.7639648715,\n",
              "  48075.00995818073,\n",
              "  48075.00995818073,\n",
              "  48075.00995818073,\n",
              "  48075.00995818073,\n",
              "  48075.00995818073,\n",
              "  48075.00995818073,\n",
              "  48075.00995818073,\n",
              "  48075.00995818073,\n",
              "  48075.00995818073,\n",
              "  48075.00995818073,\n",
              "  48075.00995818073,\n",
              "  48075.00995818073],\n",
              " 20)"
            ]
          },
          "metadata": {},
          "execution_count": 64
        }
      ]
    },
    {
      "cell_type": "code",
      "metadata": {
        "id": "unXOpKHcvO15",
        "colab": {
          "base_uri": "https://localhost:8080/"
        },
        "outputId": "f564b20c-5656-4dba-c7d1-36d88222dd17"
      },
      "source": [
        "min_rmse_stp = min_max_array(rmse_stp)\n",
        "min_rmse_stp, len(min_rmse_stp)"
      ],
      "execution_count": 65,
      "outputs": [
        {
          "output_type": "execute_result",
          "data": {
            "text/plain": [
              "([49081.59984265344,\n",
              "  49081.59984265344,\n",
              "  47855.42941260996,\n",
              "  47855.42941260996,\n",
              "  47855.42941260996,\n",
              "  47516.201327049035,\n",
              "  47516.201327049035,\n",
              "  47516.201327049035,\n",
              "  47516.201327049035,\n",
              "  47516.201327049035,\n",
              "  47516.201327049035,\n",
              "  47516.201327049035,\n",
              "  47516.201327049035,\n",
              "  47516.201327049035,\n",
              "  47516.201327049035,\n",
              "  47516.201327049035,\n",
              "  47516.201327049035,\n",
              "  47516.201327049035,\n",
              "  47516.201327049035,\n",
              "  47516.201327049035],\n",
              " 20)"
            ]
          },
          "metadata": {},
          "execution_count": 65
        }
      ]
    },
    {
      "cell_type": "code",
      "metadata": {
        "id": "Yxo85-HEvRPi",
        "colab": {
          "base_uri": "https://localhost:8080/",
          "height": 295
        },
        "outputId": "dedf65cb-f3db-4ae4-fd48-9228af25f058"
      },
      "source": [
        "### Visualise!\n",
        "\n",
        "title = obj_func\n",
        "plt.figure()\n",
        "\n",
        "plt.plot(min_rmse_gp, color = 'Yellow', label='RMSE: GP CBM')\n",
        "plt.plot(min_rmse_stp, color = 'Green', ls='--', label='RMSE: STP CBM ' r'($\\nu$' ' = {})'.format(df))\n",
        "\n",
        "plt.title(title, weight = 'bold')\n",
        "plt.xlabel('Experiment(s): 'r'$\\beta_{k}$' ' = 1.5 (i.e. pyGPGO default)', weight = 'bold') # x-axis label\n",
        "plt.ylabel('RMSE (US Dollars $)', weight = 'bold') # y-axis label\n",
        "plt.legend(loc=0) # add plot legend\n",
        "\n",
        "### Make the x-ticks integers, not floats:\n",
        "count = len(min_rmse_gp)\n",
        "plt.xticks(np.arange(count), np.arange(1, count + 1))\n",
        "plt.grid(b=None)\n",
        "plt.show() #visualise!\n"
      ],
      "execution_count": 66,
      "outputs": [
        {
          "output_type": "display_data",
          "data": {
            "text/plain": [
              "<Figure size 432x288 with 1 Axes>"
            ],
            "image/png": "[encoded data removed]"
          },
          "metadata": {}
        }
      ]
    },
    {
      "cell_type": "code",
      "metadata": {
        "id": "AwyO7_iZvT7a",
        "colab": {
          "base_uri": "https://localhost:8080/"
        },
        "outputId": "da0c97e1-9fc2-458b-885b-ac88260b6dda"
      },
      "source": [
        "time_gp, time_stp\n"
      ],
      "execution_count": 67,
      "outputs": [
        {
          "output_type": "execute_result",
          "data": {
            "text/plain": [
              "(802.4250104427338, 825.9435584545135)"
            ]
          },
          "metadata": {},
          "execution_count": 67
        }
      ]
    },
    {
      "cell_type": "code",
      "metadata": {
        "id": "aHLA-0DnVXxD",
        "colab": {
          "base_uri": "https://localhost:8080/"
        },
        "outputId": "060d2d3e-81a6-481a-9951-d615027591c1"
      },
      "source": [
        "min(min_rmse_stp), min(min_rmse_gp)\n"
      ],
      "execution_count": 68,
      "outputs": [
        {
          "output_type": "execute_result",
          "data": {
            "text/plain": [
              "(47516.201327049035, 48075.00995818073)"
            ]
          },
          "metadata": {},
          "execution_count": 68
        }
      ]
    },
    {
      "cell_type": "code",
      "metadata": {
        "id": "-iUNBRy3W0GY"
      },
      "source": [],
      "execution_count": 68,
      "outputs": []
    }
  ]
}