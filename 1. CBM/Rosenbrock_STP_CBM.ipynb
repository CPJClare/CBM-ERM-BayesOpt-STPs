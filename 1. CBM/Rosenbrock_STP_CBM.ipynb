{
  "cells": [
    {
      "cell_type": "markdown",
      "metadata": {
        "id": "OrYfJFnSJLkS"
      },
      "source": [
        "Rosenbrock synthetic function:\n",
        "\n",
        "GP CBM versus STP nu = 3 CBM (winner)\n",
        "\n",
        "https://www.sfu.ca/~ssurjano/camel6.html"
      ]
    },
    {
      "cell_type": "code",
      "source": [
        "pip install pyGPGO\n"
      ],
      "metadata": {
        "colab": {
          "base_uri": "https://localhost:8080/"
        },
        "id": "2FgAmLMpOX3c",
        "outputId": "b546617d-7017-468c-e118-f1704114e64b"
      },
      "execution_count": null,
      "outputs": [
        {
          "output_type": "stream",
          "name": "stdout",
          "text": [
            "Looking in indexes: https://pypi.org/simple, https://us-python.pkg.dev/colab-wheels/public/simple/\n",
            "Collecting pyGPGO\n",
            "  Downloading pyGPGO-0.5.1.tar.gz (14 kB)\n",
            "Requirement already satisfied: numpy in /usr/local/lib/python3.7/dist-packages (from pyGPGO) (1.21.6)\n",
            "Requirement already satisfied: mkl in /usr/local/lib/python3.7/dist-packages (from pyGPGO) (2019.0)\n",
            "Requirement already satisfied: scipy in /usr/local/lib/python3.7/dist-packages (from pyGPGO) (1.7.3)\n",
            "Requirement already satisfied: joblib in /usr/local/lib/python3.7/dist-packages (from pyGPGO) (1.1.0)\n",
            "Requirement already satisfied: scikit-learn in /usr/local/lib/python3.7/dist-packages (from pyGPGO) (1.0.2)\n",
            "Collecting Theano-PyMC\n",
            "  Downloading Theano-PyMC-1.1.2.tar.gz (1.8 MB)\n",
            "\u001b[K     |████████████████████████████████| 1.8 MB 4.7 MB/s \n",
            "\u001b[?25hCollecting pyMC3\n",
            "  Downloading pymc3-3.11.5-py3-none-any.whl (872 kB)\n",
            "\u001b[K     |████████████████████████████████| 872 kB 39.9 MB/s \n",
            "\u001b[?25hRequirement already satisfied: intel-openmp in /usr/local/lib/python3.7/dist-packages (from mkl->pyGPGO) (2022.1.0)\n",
            "Collecting semver>=2.13.0\n",
            "  Downloading semver-2.13.0-py2.py3-none-any.whl (12 kB)\n",
            "Collecting deprecat\n",
            "  Downloading deprecat-2.1.1-py2.py3-none-any.whl (9.8 kB)\n",
            "Requirement already satisfied: arviz>=0.11.0 in /usr/local/lib/python3.7/dist-packages (from pyMC3->pyGPGO) (0.12.1)\n",
            "Requirement already satisfied: patsy>=0.5.1 in /usr/local/lib/python3.7/dist-packages (from pyMC3->pyGPGO) (0.5.2)\n",
            "Requirement already satisfied: typing-extensions>=3.7.4 in /usr/local/lib/python3.7/dist-packages (from pyMC3->pyGPGO) (4.1.1)\n",
            "Requirement already satisfied: dill in /usr/local/lib/python3.7/dist-packages (from pyMC3->pyGPGO) (0.3.5.1)\n",
            "Requirement already satisfied: fastprogress>=0.2.0 in /usr/local/lib/python3.7/dist-packages (from pyMC3->pyGPGO) (1.0.3)\n",
            "Requirement already satisfied: pandas>=0.24.0 in /usr/local/lib/python3.7/dist-packages (from pyMC3->pyGPGO) (1.3.5)\n",
            "Requirement already satisfied: cachetools>=4.2.1 in /usr/local/lib/python3.7/dist-packages (from pyMC3->pyGPGO) (4.2.4)\n",
            "Requirement already satisfied: filelock in /usr/local/lib/python3.7/dist-packages (from Theano-PyMC->pyGPGO) (3.8.0)\n",
            "Requirement already satisfied: setuptools>=38.4 in /usr/local/lib/python3.7/dist-packages (from arviz>=0.11.0->pyMC3->pyGPGO) (57.4.0)\n",
            "Requirement already satisfied: netcdf4 in /usr/local/lib/python3.7/dist-packages (from arviz>=0.11.0->pyMC3->pyGPGO) (1.6.0)\n",
            "Requirement already satisfied: matplotlib>=3.0 in /usr/local/lib/python3.7/dist-packages (from arviz>=0.11.0->pyMC3->pyGPGO) (3.2.2)\n",
            "Requirement already satisfied: packaging in /usr/local/lib/python3.7/dist-packages (from arviz>=0.11.0->pyMC3->pyGPGO) (21.3)\n",
            "Requirement already satisfied: xarray-einstats>=0.2 in /usr/local/lib/python3.7/dist-packages (from arviz>=0.11.0->pyMC3->pyGPGO) (0.2.2)\n",
            "Requirement already satisfied: xarray>=0.16.1 in /usr/local/lib/python3.7/dist-packages (from arviz>=0.11.0->pyMC3->pyGPGO) (0.20.2)\n",
            "Requirement already satisfied: kiwisolver>=1.0.1 in /usr/local/lib/python3.7/dist-packages (from matplotlib>=3.0->arviz>=0.11.0->pyMC3->pyGPGO) (1.4.4)\n",
            "Requirement already satisfied: python-dateutil>=2.1 in /usr/local/lib/python3.7/dist-packages (from matplotlib>=3.0->arviz>=0.11.0->pyMC3->pyGPGO) (2.8.2)\n",
            "Requirement already satisfied: pyparsing!=2.0.4,!=2.1.2,!=2.1.6,>=2.0.1 in /usr/local/lib/python3.7/dist-packages (from matplotlib>=3.0->arviz>=0.11.0->pyMC3->pyGPGO) (3.0.9)\n",
            "Requirement already satisfied: cycler>=0.10 in /usr/local/lib/python3.7/dist-packages (from matplotlib>=3.0->arviz>=0.11.0->pyMC3->pyGPGO) (0.11.0)\n",
            "Requirement already satisfied: pytz>=2017.3 in /usr/local/lib/python3.7/dist-packages (from pandas>=0.24.0->pyMC3->pyGPGO) (2022.2.1)\n",
            "Requirement already satisfied: six in /usr/local/lib/python3.7/dist-packages (from patsy>=0.5.1->pyMC3->pyGPGO) (1.15.0)\n",
            "Requirement already satisfied: importlib-metadata in /usr/local/lib/python3.7/dist-packages (from xarray>=0.16.1->arviz>=0.11.0->pyMC3->pyGPGO) (4.12.0)\n",
            "Requirement already satisfied: wrapt<2,>=1.10 in /usr/local/lib/python3.7/dist-packages (from deprecat->pyMC3->pyGPGO) (1.14.1)\n",
            "Requirement already satisfied: zipp>=0.5 in /usr/local/lib/python3.7/dist-packages (from importlib-metadata->xarray>=0.16.1->arviz>=0.11.0->pyMC3->pyGPGO) (3.8.1)\n",
            "Requirement already satisfied: cftime in /usr/local/lib/python3.7/dist-packages (from netcdf4->arviz>=0.11.0->pyMC3->pyGPGO) (1.6.1)\n",
            "Requirement already satisfied: threadpoolctl>=2.0.0 in /usr/local/lib/python3.7/dist-packages (from scikit-learn->pyGPGO) (3.1.0)\n",
            "Building wheels for collected packages: pyGPGO, Theano-PyMC\n",
            "  Building wheel for pyGPGO (setup.py) ... \u001b[?25l\u001b[?25hdone\n",
            "  Created wheel for pyGPGO: filename=pyGPGO-0.5.1-py3-none-any.whl size=19879 sha256=d1a1c6312e5dcb76743d25faf98f7bff2cb540ad4dae6e413de67213d0b2517e\n",
            "  Stored in directory: /root/.cache/pip/wheels/c8/5d/0b/2160114e2f1b87791c51b66cf07f89831dbb6f49167950316f\n",
            "  Building wheel for Theano-PyMC (setup.py) ... \u001b[?25l\u001b[?25hdone\n",
            "  Created wheel for Theano-PyMC: filename=Theano_PyMC-1.1.2-py3-none-any.whl size=1529963 sha256=1a1b2a752d870ae1c3057e056e813842b7cc89fe9533937db8afbbf96c532d71\n",
            "  Stored in directory: /root/.cache/pip/wheels/f3/af/8c/5dd7553522d74c52a7813806fc7ee1a9caa20a3f7c8fd850d5\n",
            "Successfully built pyGPGO Theano-PyMC\n",
            "Installing collected packages: Theano-PyMC, semver, deprecat, pyMC3, pyGPGO\n",
            "Successfully installed Theano-PyMC-1.1.2 deprecat-2.1.1 pyGPGO-0.5.1 pyMC3-3.11.5 semver-2.13.0\n"
          ]
        }
      ]
    },
    {
      "cell_type": "code",
      "execution_count": null,
      "metadata": {
        "id": "Dn_SAbhVJLke"
      },
      "outputs": [],
      "source": [
        "### Import modules:\n",
        "\n",
        "import numpy as np\n",
        "import scipy as sp\n",
        "import pandas as pd\n",
        "import matplotlib.pyplot as plt\n",
        "import random\n",
        "import warnings\n",
        "\n",
        "from pyGPGO.logger import EventLogger\n",
        "from pyGPGO.GPGO import GPGO\n",
        "from pyGPGO.surrogates.GaussianProcess import GaussianProcess\n",
        "from pyGPGO.surrogates.tStudentProcess import tStudentProcess, logpdf\n",
        "from pyGPGO.acquisition import Acquisition\n",
        "from pyGPGO.covfunc import squaredExponential\n",
        "\n",
        "from collections import OrderedDict\n",
        "from joblib import Parallel, delayed\n",
        "from numpy.linalg import slogdet, inv, cholesky, solve\n",
        "from scipy.optimize import minimize\n",
        "from scipy.spatial.distance import cdist\n",
        "from scipy.special import gamma\n",
        "from scipy.stats import norm, t\n",
        "from matplotlib.pyplot import rc\n",
        "\n",
        "rc('text', usetex=False)\n",
        "plt.rcParams['text.latex.preamble']=[r'\\usepackage{amsmath}']\n",
        "plt.rcParams['text.latex.preamble'] = [r'\\boldmath']\n",
        "\n",
        "warnings.filterwarnings(\"ignore\", category=FutureWarning)\n",
        "warnings.filterwarnings(\"ignore\", category=RuntimeWarning)\n",
        "warnings.filterwarnings(\"ignore\", category=UserWarning)\n"
      ]
    },
    {
      "cell_type": "code",
      "execution_count": null,
      "metadata": {
        "id": "4Nwg_XO0JLki"
      },
      "outputs": [],
      "source": [
        "### Inputs:\n",
        "\n",
        "obj_func = 'Rosenbrock'\n",
        "n_test = 500 # test points\n",
        "df = 3 # nu\n",
        "\n",
        "util_gp = 'CBMinimized'\n",
        "util_stp = 'tCBMinimized'\n",
        "n_init = 5 # random initialisations\n",
        "\n",
        "cov_func = squaredExponential()\n",
        "hyperOpt = True\n"
      ]
    },
    {
      "cell_type": "code",
      "execution_count": null,
      "metadata": {
        "id": "DVYGZ6jYJLkj"
      },
      "outputs": [],
      "source": [
        "### Objective function:\n",
        "\n",
        "if obj_func == 'Rosenbrock':\n",
        "            \n",
        "    # True y bounds:\n",
        "    y_lb = 0\n",
        "    operator = -1 # targets global minimum \n",
        "    y_global_orig = y_lb * operator # targets global minimum\n",
        "            \n",
        "# Constraints:\n",
        "    lb = -2.048 \n",
        "    ub = +2.048 \n",
        "    \n",
        "# Input array dimension(s):\n",
        "    dim = 2\n",
        "\n",
        "# 2-D inputs' parameter bounds:\n",
        "    param = {'x1_training': ('cont', [lb, ub]),\n",
        "             'x2_training': ('cont', [lb, ub])}\n",
        "    \n",
        "# Test data:\n",
        "    x1_test = np.linspace(lb, ub, n_test)\n",
        "    x2_test = np.linspace(lb, ub, n_test)\n",
        "    Xstar_d = np.column_stack((x1_test, x2_test))\n",
        "    \n",
        "    def f_syn_polarity(x1_training, x2_training):\n",
        "        return operator * (100 * (x2_training - x1_training ** 2) ** 2 + (x1_training - 1) ** 2)\n"
      ]
    },
    {
      "cell_type": "code",
      "source": [
        "max_iter = dim * 10  # iterations of Bayesian optimisation\n",
        "Beta_CBM = dim\n"
      ],
      "metadata": {
        "id": "S9JivCxiYACE"
      },
      "execution_count": null,
      "outputs": []
    },
    {
      "cell_type": "code",
      "execution_count": null,
      "metadata": {
        "id": "hE7COdNcJLkl"
      },
      "outputs": [],
      "source": [
        "### Cumulative Regret Calculator:\n",
        "\n",
        "def min_max_array(x):\n",
        "    new_list = []\n",
        "    for i, num in enumerate(x):\n",
        "            new_list.append(np.min(x[0:i+1]))\n",
        "    return new_list\n"
      ]
    },
    {
      "cell_type": "code",
      "execution_count": null,
      "metadata": {
        "id": "gkY6wLl_JLkm"
      },
      "outputs": [],
      "source": [
        "### Set-seeds:\n",
        "\n",
        "run_num_1 = 1\n",
        "run_num_2 = 2\n",
        "run_num_3 = 3\n",
        "run_num_4 = 4\n",
        "run_num_5 = 5\n",
        "run_num_6 = 6\n",
        "run_num_7 = 7\n",
        "run_num_8 = 8\n",
        "run_num_9 = 9\n",
        "run_num_10 = 10\n",
        "run_num_11 = 11\n",
        "run_num_12 = 12\n",
        "run_num_13 = 13\n",
        "run_num_14 = 14\n",
        "run_num_15 = 15\n",
        "run_num_16 = 16\n",
        "run_num_17 = 17\n",
        "run_num_18 = 18\n",
        "run_num_19 = 19\n",
        "run_num_20 = 20\n"
      ]
    },
    {
      "cell_type": "code",
      "execution_count": null,
      "metadata": {
        "id": "Mh53nXeyJLko"
      },
      "outputs": [],
      "source": [
        "### Acquisition function - CBM:\n",
        "\n",
        "class Acquisition_new(Acquisition):    \n",
        "    def __init__(self, mode, eps=1e-06, **params):\n",
        "        \n",
        "        self.params = params\n",
        "        self.eps = eps\n",
        "\n",
        "        mode_dict = {\n",
        "            'CBMinimized': self.CBMinimized,\n",
        "            'tCBMinimized': self.tCBMinimized\n",
        "        }\n",
        "\n",
        "        self.f = mode_dict[mode]\n",
        "   \n",
        "    def CBMinimized(self, tau, mean, std):\n",
        "        \n",
        "        gamma = (mean - y_global_orig - self.eps) / (std + self.eps)\n",
        "        return (std + self.eps) * (gamma + np.sqrt(Beta_CBM))\n",
        "    \n",
        "    def tCBMinimized(self, tau, mean, std, nu=3.0):\n",
        "        \n",
        "        gamma = (mean - y_global_orig - self.eps) / (std + self.eps)\n",
        "        return (std + self.eps) * (gamma + np.sqrt(Beta_CBM))\n",
        "    "
      ]
    },
    {
      "cell_type": "code",
      "execution_count": null,
      "metadata": {
        "scrolled": false,
        "colab": {
          "base_uri": "https://localhost:8080/"
        },
        "id": "Fio5AsW9JLkp",
        "outputId": "1ace7661-1afa-40af-9e1e-1e8aeef440c8"
      },
      "outputs": [
        {
          "output_type": "stream",
          "name": "stdout",
          "text": [
            "Evaluation \t Proposed point \t  Current eval. \t Best eval.\n",
            "init   \t [-0.33987787  0.90244913]. \t  -63.72149506568065 \t -2.0636815813193974\n",
            "init   \t [-2.04753152 -0.80964578]. \t  -2511.318971868364 \t -2.0636815813193974\n",
            "init   \t [-1.44688787 -1.66978112]. \t  -1422.2040787100386 \t -2.0636815813193974\n",
            "init   \t [-1.28507817 -0.63258326]. \t  -526.8913737894474 \t -2.0636815813193974\n",
            "init   \t [-0.42284043  0.15899334]. \t  -2.0636815813193974 \t -2.0636815813193974\n",
            "1      \t [0.53899158 0.08416068]. \t  -4.470612217488866 \t -2.0636815813193974\n",
            "2      \t [0.47634449 0.13914264]. \t  \u001b[92m-1.0444218501592757\u001b[0m \t -1.0444218501592757\n",
            "3      \t [0.45885329 0.15374874]. \t  \u001b[92m-0.6154365383042757\u001b[0m \t -0.6154365383042757\n",
            "4      \t [0.45038449 0.16055133]. \t  \u001b[92m-0.4809627490424656\u001b[0m \t -0.4809627490424656\n",
            "5      \t [0.44545974 0.16435879]. \t  \u001b[92m-0.4236294736724135\u001b[0m \t -0.4236294736724135\n",
            "6      \t [0.44228272 0.16672524]. \t  \u001b[92m-0.3945046078847298\u001b[0m \t -0.3945046078847298\n",
            "7      \t [0.44008725 0.16830261]. \t  \u001b[92m-0.37788720010615573\u001b[0m \t -0.37788720010615573\n",
            "8      \t [0.43849303 0.16940865]. \t  \u001b[92m-0.3675822463863966\u001b[0m \t -0.3675822463863966\n",
            "9      \t [0.43729118 0.17021475]. \t  \u001b[92m-0.36077830465296834\u001b[0m \t -0.36077830465296834\n",
            "10     \t [0.43635792 0.1708204 ]. \t  \u001b[92m-0.35606070844163634\u001b[0m \t -0.35606070844163634\n",
            "11     \t [0.43561565 0.17128707]. \t  \u001b[92m-0.3526582897084747\u001b[0m \t -0.3526582897084747\n",
            "12     \t [0.43501356 0.171654  ]. \t  \u001b[92m-0.35012514067500183\u001b[0m \t -0.35012514067500183\n",
            "13     \t [0.43451689 0.17194765]. \t  \u001b[92m-0.34818792866561127\u001b[0m \t -0.34818792866561127\n",
            "14     \t [0.43410134 0.17218624]. \t  \u001b[92m-0.3466726896864279\u001b[0m \t -0.3466726896864279\n",
            "15     \t [0.43374945 0.1723825 ]. \t  \u001b[92m-0.34546511524264417\u001b[0m \t -0.34546511524264417\n",
            "16     \t [0.43344821 0.17254581]. \t  \u001b[92m-0.34448655970567976\u001b[0m \t -0.34448655970567976\n",
            "17     \t [0.43318792 0.17268314]. \t  \u001b[92m-0.34368193586783663\u001b[0m \t -0.34368193586783663\n",
            "18     \t [0.43296108 0.17279952]. \t  \u001b[92m-0.34301233228709294\u001b[0m \t -0.34301233228709294\n",
            "19     \t [0.43276195 0.17289909]. \t  \u001b[92m-0.34244841591767217\u001b[0m \t -0.34244841591767217\n",
            "20     \t [0.43258596 0.17298471]. \t  \u001b[92m-0.3419693604188016\u001b[0m \t -0.3419693604188016\n"
          ]
        }
      ],
      "source": [
        "### Bayesian optimisation runs (x20): 'GP' Acquisition Function run number = 1\n",
        "\n",
        "np.random.seed(run_num_1)\n",
        "surrogate_gp_1 = GaussianProcess(cov_func, optimize=hyperOpt)\n",
        "\n",
        "gp_1 = GPGO(surrogate_gp_1, Acquisition_new(util_gp), f_syn_polarity, param, n_jobs = -1) # define BayesOpt\n",
        "gp_1.run(max_iter = max_iter, init_evals = n_init) # run\n"
      ]
    },
    {
      "cell_type": "code",
      "execution_count": null,
      "metadata": {
        "colab": {
          "base_uri": "https://localhost:8080/"
        },
        "id": "6CLxOiUrJLks",
        "outputId": "51ed3901-8527-4adc-bbd4-f9805ad6633c"
      },
      "outputs": [
        {
          "output_type": "stream",
          "name": "stdout",
          "text": [
            "Evaluation \t Proposed point \t  Current eval. \t Best eval.\n",
            "init   \t [-0.26216488 -1.94180615]. \t  -405.8187938051167 \t -10.016400127761926\n",
            "init   \t [ 0.20341751 -0.26491948]. \t  -10.016400127761926 \t -10.016400127761926\n",
            "init   \t [-0.32617348 -0.69494857]. \t  -65.97294928625357 \t -10.016400127761926\n",
            "init   \t [-1.20975919  0.48853388]. \t  -99.94230490266065 \t -10.016400127761926\n",
            "init   \t [-0.82061446 -0.95507548]. \t  -268.5105099964258 \t -10.016400127761926\n",
            "1      \t [1.06873898 0.39883887]. \t  -55.26374976658313 \t -10.016400127761926\n",
            "2      \t [2.048 2.048]. \t  -461.7603900415999 \t -10.016400127761926\n",
            "3      \t [ 2.048      -1.00192199]. \t  -2701.174755860513 \t -10.016400127761926\n",
            "4      \t [0.29316116 0.59731317]. \t  -26.649519119904635 \t -10.016400127761926\n",
            "5      \t [-2.048  2.048]. \t  -469.9523900415999 \t -10.016400127761926\n",
            "6      \t [0.26936949 0.50465482]. \t  -19.204421264947044 \t -10.016400127761926\n",
            "7      \t [0.27210839 0.49142545]. \t  -17.95063935926541 \t -10.016400127761926\n",
            "8      \t [0.27368937 0.48614154]. \t  -17.439004867077006 \t -10.016400127761926\n",
            "9      \t [0.27475249 0.48351368]. \t  -17.174403667365272 \t -10.016400127761926\n",
            "10     \t [0.27551702 0.48201885]. \t  -17.0173454640769 \t -10.016400127761926\n",
            "11     \t [0.02109974 2.048     ]. \t  -420.20631199733555 \t -10.016400127761926\n",
            "12     \t [0.12864877 0.23870023]. \t  \u001b[92m-5.694303111696019\u001b[0m \t -5.694303111696019\n",
            "13     \t [0.12615535 0.23658901]. \t  \u001b[92m-5.6332989121357615\u001b[0m \t -5.6332989121357615\n",
            "14     \t [0.12429511 0.23501868]. \t  \u001b[92m-5.5879316348948604\u001b[0m \t -5.5879316348948604\n",
            "15     \t [0.1228501  0.23380279]. \t  \u001b[92m-5.552826555767639\u001b[0m \t -5.552826555767639\n",
            "16     \t [0.12169348 0.23283145]. \t  \u001b[92m-5.5247881042969\u001b[0m \t -5.5247881042969\n",
            "17     \t [0.12074472 0.23203668]. \t  \u001b[92m-5.501861793467418\u001b[0m \t -5.501861793467418\n",
            "18     \t [0.11995119 0.23137353]. \t  \u001b[92m-5.482745503023837\u001b[0m \t -5.482745503023837\n",
            "19     \t [0.11927703 0.23081102]. \t  \u001b[92m-5.466536384501828\u001b[0m \t -5.466536384501828\n",
            "20     \t [0.11869646 0.23032746]. \t  \u001b[92m-5.452609420064054\u001b[0m \t -5.452609420064054\n"
          ]
        }
      ],
      "source": [
        "### Bayesian optimisation runs (x20): 'GP' Acquisition Function run number = 2\n",
        "\n",
        "np.random.seed(run_num_2)\n",
        "surrogate_gp_2 = GaussianProcess(cov_func, optimize=hyperOpt)\n",
        "\n",
        "gp_2 = GPGO(surrogate_gp_2, Acquisition_new(util_gp), f_syn_polarity, param, n_jobs = -1) # define BayesOpt\n",
        "gp_2.run(max_iter = max_iter, init_evals = n_init) # run\n"
      ]
    },
    {
      "cell_type": "code",
      "execution_count": null,
      "metadata": {
        "id": "OrboSzBtJLku",
        "colab": {
          "base_uri": "https://localhost:8080/"
        },
        "outputId": "13308c17-a3cd-4c03-ba9b-e21c9cbef984"
      },
      "outputs": [
        {
          "output_type": "stream",
          "name": "stdout",
          "text": [
            "Evaluation \t Proposed point \t  Current eval. \t Best eval.\n",
            "init   \t [0.20806821 0.85257348]. \t  -66.12074614607258 \t -50.941111321262525\n",
            "init   \t [-0.85645419  0.04434987]. \t  -50.941111321262525 \t -50.941111321262525\n",
            "init   \t [1.60951073 1.62321649]. \t  -93.94003449768307 \t -50.941111321262525\n",
            "init   \t [-1.53360257 -1.19913317]. \t  -1267.4289626896234 \t -50.941111321262525\n",
            "init   \t [-1.83719034 -0.24244288]. \t  -1316.8330877748904 \t -50.941111321262525\n",
            "1      \t [ 2.048 -2.048]. \t  -3897.7342268415996 \t -50.941111321262525\n",
            "2      \t [-0.68532545  2.048     ]. \t  -251.95257515898388 \t -50.941111321262525\n",
            "3      \t [0.22509206 0.51184821]. \t  \u001b[92m-21.86934473288604\u001b[0m \t -21.86934473288604\n",
            "4      \t [0.22586767 0.510828  ]. \t  \u001b[92m-21.74197016916512\u001b[0m \t -21.74197016916512\n",
            "5      \t [0.2262741  0.51029358]. \t  \u001b[92m-21.67534681633234\u001b[0m \t -21.67534681633234\n",
            "6      \t [0.22652643 0.50996191]. \t  \u001b[92m-21.63403135442523\u001b[0m \t -21.63403135442523\n",
            "7      \t [0.22669933 0.50973469]. \t  \u001b[92m-21.60574184894295\u001b[0m \t -21.60574184894295\n",
            "8      \t [0.22682577 0.50956854]. \t  \u001b[92m-21.58506492329684\u001b[0m \t -21.58506492329684\n",
            "9      \t [0.22692255 0.50944139]. \t  \u001b[92m-21.569244568915643\u001b[0m \t -21.569244568915643\n",
            "10     \t [0.22699917 0.50934074]. \t  \u001b[92m-21.556724174625888\u001b[0m \t -21.556724174625888\n",
            "11     \t [0.22706149 0.50925886]. \t  \u001b[92m-21.546540843443683\u001b[0m \t -21.546540843443683\n",
            "12     \t [0.22711325 0.50919092]. \t  \u001b[92m-21.538089867460194\u001b[0m \t -21.538089867460194\n",
            "13     \t [0.22715698 0.50913349]. \t  \u001b[92m-21.530948587744504\u001b[0m \t -21.530948587744504\n",
            "14     \t [0.22719446 0.50908429]. \t  \u001b[92m-21.52483081190827\u001b[0m \t -21.52483081190827\n",
            "15     \t [0.22722697 0.5090416 ]. \t  \u001b[92m-21.519523816535575\u001b[0m \t -21.519523816535575\n",
            "16     \t [0.22725545 0.50900422]. \t  \u001b[92m-21.514876225833774\u001b[0m \t -21.514876225833774\n",
            "17     \t [0.22728063 0.50897116]. \t  \u001b[92m-21.51076663702267\u001b[0m \t -21.51076663702267\n",
            "18     \t [0.22730306 0.50894171]. \t  \u001b[92m-21.507105417951184\u001b[0m \t -21.507105417951184\n",
            "19     \t [0.22732321 0.50891526]. \t  \u001b[92m-21.503818283872576\u001b[0m \t -21.503818283872576\n",
            "20     \t [0.22734138 0.50889144]. \t  \u001b[92m-21.5008558217251\u001b[0m \t -21.5008558217251\n"
          ]
        }
      ],
      "source": [
        "### Bayesian optimisation runs (x20): 'GP' Acquisition Function run number = 3\n",
        "\n",
        "np.random.seed(run_num_3)\n",
        "surrogate_gp_3 = GaussianProcess(cov_func, optimize=hyperOpt)\n",
        "\n",
        "gp_3 = GPGO(surrogate_gp_3, Acquisition_new(util_gp), f_syn_polarity, param, n_jobs = -1) # define BayesOpt\n",
        "gp_3.run(max_iter = max_iter, init_evals = n_init) # run\n"
      ]
    },
    {
      "cell_type": "code",
      "execution_count": null,
      "metadata": {
        "id": "wmlwMmKcJLkv",
        "colab": {
          "base_uri": "https://localhost:8080/"
        },
        "outputId": "3eeb34b0-c59c-4d86-eac6-17574544c7eb"
      },
      "outputs": [
        {
          "output_type": "stream",
          "name": "stdout",
          "text": [
            "Evaluation \t Proposed point \t  Current eval. \t Best eval.\n",
            "init   \t [1.91295422 0.19346329]. \t  -1202.1009483415905 \t -170.66405971002487\n",
            "init   \t [1.93611514 0.87988631]. \t  -823.7947602867234 \t -170.66405971002487\n",
            "init   \t [ 0.80989727 -1.16289743]. \t  -330.8507621971172 \t -170.66405971002487\n",
            "init   \t [ 1.95082017 -2.02248087]. \t  -3397.672500714367 \t -170.66405971002487\n",
            "init   \t [-1.01178424 -0.26709388]. \t  -170.66405971002487 \t -170.66405971002487\n",
            "1      \t [-2.048  2.048]. \t  -469.9523900415999 \t -170.66405971002487\n",
            "2      \t [-2.048 -2.048]. \t  -3905.9262268415996 \t -170.66405971002487\n",
            "3      \t [-0.48313474  0.38102991]. \t  \u001b[92m-4.378581552016671\u001b[0m \t -4.378581552016671\n",
            "4      \t [-0.48049928  0.40068843]. \t  -5.075383528376602 \t -4.378581552016671\n",
            "5      \t [-0.47960912  0.40882017]. \t  -5.386017914742529 \t -4.378581552016671\n",
            "6      \t [-0.47920252  0.41331808]. \t  -5.561985356045263 \t -4.378581552016671\n",
            "7      \t [-0.4789862  0.4161941]. \t  -5.675565932248791 \t -4.378581552016671\n",
            "8      \t [-0.47886031  0.41820099]. \t  -5.755114337735788 \t -4.378581552016671\n",
            "9      \t [-0.47878281  0.41968588]. \t  -5.814029065632111 \t -4.378581552016671\n",
            "10     \t [-0.47873346  0.42083172]. \t  -5.85947141741832 \t -4.378581552016671\n",
            "11     \t [-0.47870141  0.4217444 ]. \t  -5.895623899399244 \t -4.378581552016671\n",
            "12     \t [-0.47868056  0.42248955]. \t  -5.925091635649606 \t -4.378581552016671\n",
            "13     \t [-0.47866711  0.42311012]. \t  -5.949587879672375 \t -4.378581552016671\n",
            "14     \t [-0.47865876  0.4236354 ]. \t  -5.970281055147861 \t -4.378581552016671\n",
            "15     \t [-0.47865396  0.42408615]. \t  -5.988002587242367 \t -4.378581552016671\n",
            "16     \t [-0.47865169  0.4244774 ]. \t  -6.003352876304367 \t -4.378581552016671\n",
            "17     \t [-0.47865125  0.42482042]. \t  -6.016783072664904 \t -4.378581552016671\n",
            "18     \t [-0.4786521   0.42512371]. \t  -6.028634261945258 \t -4.378581552016671\n",
            "19     \t [-0.47865391  0.42539393]. \t  -6.039172418160767 \t -4.378581552016671\n",
            "20     \t [-0.47865641  0.42563631]. \t  -6.048606919344037 \t -4.378581552016671\n"
          ]
        }
      ],
      "source": [
        "### Bayesian optimisation runs (x20): 'GP' Acquisition Function run number = 4\n",
        "\n",
        "np.random.seed(run_num_4)\n",
        "surrogate_gp_4 = GaussianProcess(cov_func, optimize=hyperOpt)\n",
        "\n",
        "gp_4 = GPGO(surrogate_gp_4, Acquisition_new(util_gp), f_syn_polarity, param, n_jobs = -1) # define BayesOpt\n",
        "gp_4.run(max_iter = max_iter, init_evals = n_init) # run\n"
      ]
    },
    {
      "cell_type": "code",
      "execution_count": null,
      "metadata": {
        "id": "ntlcfbyWJLkw",
        "colab": {
          "base_uri": "https://localhost:8080/"
        },
        "outputId": "89cb6ddc-3468-41be-9cd5-7665e195bc7a"
      },
      "outputs": [
        {
          "output_type": "stream",
          "name": "stdout",
          "text": [
            "Evaluation \t Proposed point \t  Current eval. \t Best eval.\n",
            "init   \t [-1.13871597  1.51851953]. \t  -9.495646950867519 \t -9.495646950867519\n",
            "init   \t [-1.20127834  1.71463028]. \t  -12.220143873516523 \t -9.495646950867519\n",
            "init   \t [-0.04746777  0.45770286]. \t  -21.840629211931905 \t -9.495646950867519\n",
            "init   \t [1.08915858 0.07544008]. \t  -123.40146376592485 \t -9.495646950867519\n",
            "init   \t [-0.83230515 -1.27909385]. \t  -392.1670023300852 \t -9.495646950867519\n",
            "1      \t [-0.04348944  2.048     ]. \t  -419.7449387428838 \t -9.495646950867519\n",
            "2      \t [-1.73397304  1.34445711]. \t  -283.7672831007559 \t -9.495646950867519\n",
            "3      \t [-1.40023327 -1.67396716]. \t  -1326.8076446826026 \t -9.495646950867519\n",
            "4      \t [ 2.048 -2.048]. \t  -3897.7342268415996 \t -9.495646950867519\n",
            "5      \t [2.048 2.048]. \t  -461.7603900415999 \t -9.495646950867519\n",
            "6      \t [0.00386268 0.29484799]. \t  -9.684943380454436 \t -9.495646950867519\n",
            "7      \t [-0.02879555  0.26740773]. \t  \u001b[92m-8.164832405584555\u001b[0m \t -8.164832405584555\n",
            "8      \t [-0.47577925  0.25439274]. \t  \u001b[92m-2.256474774520614\u001b[0m \t -2.256474774520614\n",
            "9      \t [-0.49002103  0.25517266]. \t  \u001b[92m-2.242819090510656\u001b[0m \t -2.242819090510656\n",
            "10     \t [-0.49643967  0.25554154]. \t  -2.247593019447715 \t -2.242819090510656\n",
            "11     \t [-0.5000487   0.25576292]. \t  -2.2534113323706406 \t -2.242819090510656\n",
            "12     \t [-0.5023527   0.25591302]. \t  -2.258327290350606 \t -2.242819090510656\n",
            "13     \t [-0.50394784  0.25602262]. \t  -2.262283123970145 \t -2.242819090510656\n",
            "14     \t [-0.50511697  0.2561067 ]. \t  -2.265469923955754 \t -2.242819090510656\n",
            "15     \t [-0.50601033  0.25617355]. \t  -2.268068715864566 \t -2.242819090510656\n",
            "16     \t [-0.50671574  0.25622816]. \t  -2.2702207045250087 \t -2.242819090510656\n",
            "17     \t [-0.50728527  0.25627376]. \t  -2.272022226224504 \t -2.242819090510656\n",
            "18     \t [-0.50775661  0.25631242]. \t  -2.2735563092081432 \t -2.242819090510656\n",
            "19     \t [-0.50815263  0.25634572]. \t  -2.274875297078674 \t -2.242819090510656\n",
            "20     \t [-0.50848937  0.25637473]. \t  -2.2760183334170967 \t -2.242819090510656\n"
          ]
        }
      ],
      "source": [
        "### Bayesian optimisation runs (x20): 'GP' Acquisition Function run number = 5\n",
        "\n",
        "np.random.seed(run_num_5)\n",
        "surrogate_gp_5 = GaussianProcess(cov_func, optimize=hyperOpt)\n",
        "\n",
        "gp_5 = GPGO(surrogate_gp_5, Acquisition_new(util_gp), f_syn_polarity, param, n_jobs = -1) # define BayesOpt\n",
        "gp_5.run(max_iter = max_iter, init_evals = n_init) # run\n"
      ]
    },
    {
      "cell_type": "code",
      "execution_count": null,
      "metadata": {
        "id": "HHrK2qnsJLkx",
        "colab": {
          "base_uri": "https://localhost:8080/"
        },
        "outputId": "2522ae75-dc0d-4823-9e69-8fb756ce108c"
      },
      "outputs": [
        {
          "output_type": "stream",
          "name": "stdout",
          "text": [
            "Evaluation \t Proposed point \t  Current eval. \t Best eval.\n",
            "init   \t [ 1.60915518 -0.68821072]. \t  -1074.6314195925434 \t -3.0269049669752817\n",
            "init   \t [ 1.31575449 -1.87721062]. \t  -1302.169546932896 \t -3.0269049669752817\n",
            "init   \t [-1.60703824  0.38933325]. \t  -487.8262244570432 \t -3.0269049669752817\n",
            "init   \t [ 0.12213192 -0.33256477]. \t  -12.844955340992902 \t -3.0269049669752817\n",
            "init   \t [-0.67416945  0.50183959]. \t  -3.0269049669752817 \t -3.0269049669752817\n",
            "1      \t [0.27459239 1.64081308]. \t  -245.57772175060424 \t -3.0269049669752817\n",
            "2      \t [-2.048 -2.048]. \t  -3905.9262268415996 \t -3.0269049669752817\n",
            "3      \t [2.048 2.048]. \t  -461.7603900415999 \t -3.0269049669752817\n",
            "4      \t [-0.16026581  0.39328936]. \t  -14.859503905271552 \t -3.0269049669752817\n",
            "5      \t [-0.15584658  0.39712622]. \t  -15.23680326057117 \t -3.0269049669752817\n",
            "6      \t [-0.15351028  0.3991584 ]. \t  -15.437595750237316 \t -3.0269049669752817\n",
            "7      \t [-0.15206112  0.40042473]. \t  -15.562935573082662 \t -3.0269049669752817\n",
            "8      \t [-0.1510727   0.40129298]. \t  -15.64892384189481 \t -3.0269049669752817\n",
            "9      \t [-0.15035448  0.40192711]. \t  -15.711729937231455 \t -3.0269049669752817\n",
            "10     \t [-0.14980852  0.40241154]. \t  -15.75969996908944 \t -3.0269049669752817\n",
            "11     \t [-0.14937918  0.40279423]. \t  -15.797582690216922 \t -3.0269049669752817\n",
            "12     \t [-0.14903252  0.40310456]. \t  -15.828289819731651 \t -3.0269049669752817\n",
            "13     \t [-0.14874663  0.40336153]. \t  -15.853705156448521 \t -3.0269049669752817\n",
            "14     \t [-0.14850674  0.40357796]. \t  -15.875101575341699 \t -3.0269049669752817\n",
            "15     \t [-0.14830252  0.40376288]. \t  -15.893374200244622 \t -3.0269049669752817\n",
            "16     \t [-0.14812652  0.40392276]. \t  -15.909165334290686 \t -3.0269049669752817\n",
            "17     \t [-0.14797323  0.40406244]. \t  -15.922955769388565 \t -3.0269049669752817\n",
            "18     \t [-0.1478385   0.40418556]. \t  -15.935105045113065 \t -3.0269049669752817\n",
            "19     \t [-0.14771914  0.40429496]. \t  -15.945896658323516 \t -3.0269049669752817\n",
            "20     \t [-0.14761267  0.40439282]. \t  -15.955545227871365 \t -3.0269049669752817\n"
          ]
        }
      ],
      "source": [
        "### Bayesian optimisation runs (x20): 'GP' Acquisition Function run number = 6\n",
        "\n",
        "np.random.seed(run_num_6)\n",
        "surrogate_gp_6 = GaussianProcess(cov_func, optimize=hyperOpt)\n",
        "\n",
        "gp_6 = GPGO(surrogate_gp_6, Acquisition_new(util_gp), f_syn_polarity, param, n_jobs = -1) # define BayesOpt\n",
        "gp_6.run(max_iter = max_iter, init_evals = n_init) # run\n"
      ]
    },
    {
      "cell_type": "code",
      "execution_count": null,
      "metadata": {
        "id": "rht2Y9u8JLky",
        "colab": {
          "base_uri": "https://localhost:8080/"
        },
        "outputId": "9a905152-479a-4350-dc8c-a673b115cdbc"
      },
      "outputs": [
        {
          "output_type": "stream",
          "name": "stdout",
          "text": [
            "Evaluation \t Proposed point \t  Current eval. \t Best eval.\n",
            "init   \t [-1.73544125  1.14654737]. \t  -355.3830807157107 \t -74.10242381766855\n",
            "init   \t [-0.25227579  0.91531337]. \t  -74.10242381766855 \t -74.10242381766855\n",
            "init   \t [1.95784504 0.15767909]. \t  -1351.8314081149692 \t -74.10242381766855\n",
            "init   \t [ 0.00458942 -1.75287856]. \t  -308.2565501886822 \t -74.10242381766855\n",
            "init   \t [-9.48473938e-01 -4.81276619e-04]. \t  -84.81168700546641 \t -74.10242381766855\n",
            "1      \t [-2.048 -2.048]. \t  -3905.9262268415996 \t -74.10242381766855\n",
            "2      \t [0.0953242 2.048    ]. \t  -416.535181694736 \t -74.10242381766855\n",
            "3      \t [ 2.048 -2.048]. \t  -3897.7342268415996 \t -74.10242381766855\n",
            "4      \t [-0.42285075  0.21849218]. \t  \u001b[92m-2.1820292658031226\u001b[0m \t -2.1820292658031226\n",
            "5      \t [-0.40465421  0.19940278]. \t  \u001b[92m-2.1002009528287418\u001b[0m \t -2.1002009528287418\n",
            "6      \t [-0.39489946  0.18906989]. \t  \u001b[92m-2.0554664461813026\u001b[0m \t -2.0554664461813026\n",
            "7      \t [-0.38873395  0.18247923]. \t  \u001b[92m-2.026959212866748\u001b[0m \t -2.026959212866748\n",
            "8      \t [-0.38444513  0.17785749]. \t  \u001b[92m-2.0070452252910504\u001b[0m \t -2.0070452252910504\n",
            "9      \t [-0.38126864  0.17440997]. \t  \u001b[92m-1.9922595528158156\u001b[0m \t -1.9922595528158156\n",
            "10     \t [-0.3788095   0.17172412]. \t  \u001b[92m-1.9807946999044777\u001b[0m \t -1.9807946999044777\n",
            "11     \t [-0.37684201  0.16956309]. \t  \u001b[92m-1.971611742741412\u001b[0m \t -1.971611742741412\n",
            "12     \t [-0.37522734  0.16778059]. \t  \u001b[92m-1.9640694240581558\u001b[0m \t -1.9640694240581558\n",
            "13     \t [-0.37387513  0.1662809 ]. \t  \u001b[92m-1.9577488106455407\u001b[0m \t -1.9577488106455407\n",
            "14     \t [-0.3727239   0.16499872]. \t  \u001b[92m-1.952364675909795\u001b[0m \t -1.952364675909795\n",
            "15     \t [-0.37173023  0.16388776]. \t  \u001b[92m-1.94771543474879\u001b[0m \t -1.94771543474879\n",
            "16     \t [-0.37086263  0.16291425]. \t  \u001b[92m-1.943654211371173\u001b[0m \t -1.943654211371173\n",
            "17     \t [-0.37009757  0.16205294]. \t  \u001b[92m-1.9400716331696424\u001b[0m \t -1.9400716331696424\n",
            "18     \t [-0.36941717  0.16128455]. \t  \u001b[92m-1.9368843117162033\u001b[0m \t -1.9368843117162033\n",
            "19     \t [-0.36880751  0.16059404]. \t  \u001b[92m-1.9340273717684415\u001b[0m \t -1.9340273717684415\n",
            "20     \t [-0.36825763  0.15996955]. \t  \u001b[92m-1.9314497629178033\u001b[0m \t -1.9314497629178033\n"
          ]
        }
      ],
      "source": [
        "### Bayesian optimisation runs (x20): 'GP' Acquisition Function run number = 7\n",
        "\n",
        "np.random.seed(run_num_7)\n",
        "surrogate_gp_7 = GaussianProcess(cov_func, optimize=hyperOpt)\n",
        "\n",
        "gp_7 = GPGO(surrogate_gp_7, Acquisition_new(util_gp), f_syn_polarity, param, n_jobs = -1) # define BayesOpt\n",
        "gp_7.run(max_iter = max_iter, init_evals = n_init) # run\n"
      ]
    },
    {
      "cell_type": "code",
      "execution_count": null,
      "metadata": {
        "id": "vHGwZn0qJLkz",
        "colab": {
          "base_uri": "https://localhost:8080/"
        },
        "outputId": "23cc5fd3-ed3b-45be-8e83-542742072cb5"
      },
      "outputs": [
        {
          "output_type": "stream",
          "name": "stdout",
          "text": [
            "Evaluation \t Proposed point \t  Current eval. \t Best eval.\n",
            "init   \t [1.52956683 1.91914255]. \t  -17.95675982372887 \t -1.7663579664225912\n",
            "init   \t [1.51222084 0.12638491]. \t  -467.0068292530542 \t -1.7663579664225912\n",
            "init   \t [-1.09474477 -2.0013105 ]. \t  -1028.244988519411 \t -1.7663579664225912\n",
            "init   \t [-0.28479972 -0.39996883]. \t  -24.79447905426233 \t -1.7663579664225912\n",
            "init   \t [ 0.09287545 -0.0885072 ]. \t  -1.7663579664225912 \t -1.7663579664225912\n",
            "1      \t [-0.55145036  0.84181593]. \t  -31.321109313126673 \t -1.7663579664225912\n",
            "2      \t [-2.048  2.048]. \t  -469.9523900415999 \t -1.7663579664225912\n",
            "3      \t [ 2.048 -2.048]. \t  -3897.7342268415996 \t -1.7663579664225912\n",
            "4      \t [-0.36818672  0.37909941]. \t  -7.803008136888856 \t -1.7663579664225912\n",
            "5      \t [-0.36698747  0.37746408]. \t  -7.763075521157328 \t -1.7663579664225912\n",
            "6      \t [-0.36630855  0.37652623]. \t  -7.7398734975652275 \t -1.7663579664225912\n",
            "7      \t [-0.36587333  0.37592004]. \t  -7.724757165969648 \t -1.7663579664225912\n",
            "8      \t [-0.36557128  0.37549703]. \t  -7.714152947127846 \t -1.7663579664225912\n",
            "9      \t [-0.36534981  0.37518557]. \t  -7.706315084544683 \t -1.7663579664225912\n",
            "10     \t [-0.36518074  0.37494697]. \t  -7.700290768758888 \t -1.7663579664225912\n",
            "11     \t [-0.36504756  0.37475856]. \t  -7.695523772113823 \t -1.7663579664225912\n",
            "12     \t [-0.36494005  0.37460612]. \t  -7.691658525234366 \t -1.7663579664225912\n",
            "13     \t [-0.3648515   0.37448036]. \t  -7.6884649026321705 \t -1.7663579664225912\n",
            "14     \t [-0.36477735  0.37437485]. \t  -7.685781725993813 \t -1.7663579664225912\n",
            "15     \t [-0.36471438  0.37428517]. \t  -7.683498792543636 \t -1.7663579664225912\n",
            "16     \t [-0.36466029  0.37420796]. \t  -7.681529407143335 \t -1.7663579664225912\n",
            "17     \t [-0.36461329  0.37414089]. \t  -7.679818581294832 \t -1.7663579664225912\n",
            "18     \t [-0.36457214  0.37408206]. \t  -7.678316065112962 \t -1.7663579664225912\n",
            "19     \t [-0.36453579  0.37403007]. \t  -7.676987763395461 \t -1.7663579664225912\n",
            "20     \t [-0.36450347  0.3739838 ]. \t  -7.675804357433208 \t -1.7663579664225912\n"
          ]
        }
      ],
      "source": [
        "### Bayesian optimisation runs (x20): 'GP' Acquisition Function run number = 8\n",
        "\n",
        "np.random.seed(run_num_8)\n",
        "surrogate_gp_8 = GaussianProcess(cov_func, optimize=hyperOpt)\n",
        "\n",
        "gp_8 = GPGO(surrogate_gp_8, Acquisition_new(util_gp), f_syn_polarity, param, n_jobs = -1) # define BayesOpt\n",
        "gp_8.run(max_iter = max_iter, init_evals = n_init) # run\n"
      ]
    },
    {
      "cell_type": "code",
      "execution_count": null,
      "metadata": {
        "id": "YC6sxKgkJLkz",
        "colab": {
          "base_uri": "https://localhost:8080/"
        },
        "outputId": "32e216e3-d509-4c8f-86c9-9007b379515d"
      },
      "outputs": [
        {
          "output_type": "stream",
          "name": "stdout",
          "text": [
            "Evaluation \t Proposed point \t  Current eval. \t Best eval.\n",
            "init   \t [-2.00550747  0.00767833]. \t  -1620.5592513107108 \t -132.4681822844375\n",
            "init   \t [-0.01731259 -1.49983425]. \t  -226.0751192637302 \t -132.4681822844375\n",
            "init   \t [-1.46591299 -1.15278366]. \t  -1096.1928272344956 \t -132.4681822844375\n",
            "init   \t [-0.33379049 -1.03177761]. \t  -132.4681822844375 \t -132.4681822844375\n",
            "init   \t [-1.70369167 -0.63283757]. \t  -1257.2172959284223 \t -132.4681822844375\n",
            "1      \t [ 1.44056481 -0.01337118]. \t  -436.4183178833542 \t -132.4681822844375\n",
            "2      \t [0.27986338 2.048     ]. \t  -388.4811438792856 \t -132.4681822844375\n",
            "3      \t [ 2.048 -2.048]. \t  -3897.7342268415996 \t -132.4681822844375\n",
            "4      \t [2.048 2.048]. \t  -461.7603900415999 \t -132.4681822844375\n",
            "5      \t [-2.048  2.048]. \t  -469.9523900415999 \t -132.4681822844375\n",
            "6      \t [0.39028988 0.27971556]. \t  \u001b[92m-1.9945515712159865\u001b[0m \t -1.9945515712159865\n",
            "7      \t [0.37080726 0.30530065]. \t  -3.2116556999011805 \t -1.9945515712159865\n",
            "8      \t [0.36323638 0.31592811]. \t  -3.7906055582229836 \t -1.9945515712159865\n",
            "9      \t [0.35913999 0.32200573]. \t  -4.1365359270093 \t -1.9945515712159865\n",
            "10     \t [0.35654782 0.32603409]. \t  -4.370459562462584 \t -1.9945515712159865\n",
            "11     \t [0.35474927 0.32894197]. \t  -4.541103704426296 \t -1.9945515712159865\n",
            "12     \t [0.35342309 0.33116139]. \t  -4.67211277343324 \t -1.9945515712159865\n",
            "13     \t [0.35240197 0.33292322]. \t  -4.77645818288613 \t -1.9945515712159865\n",
            "14     \t [0.35158986 0.33436324]. \t  -4.861899776922761 \t -1.9945515712159865\n",
            "15     \t [0.35092752 0.33556716]. \t  -4.933394851476905 \t -1.9945515712159865\n",
            "16     \t [0.35037637 0.33659191]. \t  -4.994265391151509 \t -1.9945515712159865\n",
            "17     \t [0.3499101  0.33747705]. \t  -5.046835978043887 \t -1.9945515712159865\n",
            "18     \t [0.34951023 0.33825101]. \t  -5.0927814137459055 \t -1.9945515712159865\n",
            "19     \t [0.34916327 0.3389347 ]. \t  -5.133343883324899 \t -1.9945515712159865\n",
            "20     \t [0.34885922 0.33954402]. \t  -5.169465835130097 \t -1.9945515712159865\n"
          ]
        }
      ],
      "source": [
        "### Bayesian optimisation runs (x20): 'GP' Acquisition Function run number = 9\n",
        "\n",
        "np.random.seed(run_num_9)\n",
        "surrogate_gp_9 = GaussianProcess(cov_func, optimize=hyperOpt)\n",
        "\n",
        "gp_9 = GPGO(surrogate_gp_9, Acquisition_new(util_gp), f_syn_polarity, param, n_jobs = -1) # define BayesOpt\n",
        "gp_9.run(max_iter = max_iter, init_evals = n_init) # run\n"
      ]
    },
    {
      "cell_type": "code",
      "execution_count": null,
      "metadata": {
        "id": "P-0wfCEIJLk0",
        "colab": {
          "base_uri": "https://localhost:8080/"
        },
        "outputId": "43e6aef9-e6ce-4da0-b0ec-7ff8c1ab4c4e"
      },
      "outputs": [
        {
          "output_type": "stream",
          "name": "stdout",
          "text": [
            "Evaluation \t Proposed point \t  Current eval. \t Best eval.\n",
            "init   \t [ 1.11132935 -1.96300002]. \t  -1022.7666615237944 \t -26.382363522743674\n",
            "init   \t [0.54742317 1.0191007 ]. \t  -51.962573317574716 \t -26.382363522743674\n",
            "init   \t [-0.00611528 -1.12723294]. \t  -128.08610911295406 \t -26.382363522743674\n",
            "init   \t [-1.23673451  1.0671338 ]. \t  -26.382363522743674 \t -26.382363522743674\n",
            "init   \t [-1.35532201 -1.68616012]. \t  -1246.7412252563456 \t -26.382363522743674\n",
            "1      \t [2.048 2.048]. \t  -461.7603900415999 \t -26.382363522743674\n",
            "2      \t [-2.048  2.048]. \t  -469.9523900415999 \t -26.382363522743674\n",
            "3      \t [-0.69005701  0.57775143]. \t  \u001b[92m-3.887995189756282\u001b[0m \t -3.887995189756282\n",
            "4      \t [-0.69139318  0.57869231]. \t  \u001b[92m-3.87421117843423\u001b[0m \t -3.87421117843423\n",
            "5      \t [-0.6919924   0.57911368]. \t  \u001b[92m-3.8680491489310276\u001b[0m \t -3.8680491489310276\n",
            "6      \t [-0.69233299  0.57935336]. \t  \u001b[92m-3.8645589182563165\u001b[0m \t -3.8645589182563165\n",
            "7      \t [-0.69255246  0.57950794]. \t  \u001b[92m-3.8623159537371685\u001b[0m \t -3.8623159537371685\n",
            "8      \t [-0.69270519  0.57961586]. \t  \u001b[92m-3.8607635431283334\u001b[0m \t -3.8607635431283334\n",
            "9      \t [-0.69281771  0.57969536]. \t  \u001b[92m-3.8596204376546943\u001b[0m \t -3.8596204376546943\n",
            "10     \t [-0.69290392  0.57975631]. \t  \u001b[92m-3.8587458780293877\u001b[0m \t -3.8587458780293877\n",
            "11     \t [-0.69297182  0.57980455]. \t  \u001b[92m-3.8580620848340668\u001b[0m \t -3.8580620848340668\n",
            "12     \t [-0.69302675  0.57984362]. \t  \u001b[92m-3.857510011977953\u001b[0m \t -3.857510011977953\n",
            "13     \t [-0.69307197  0.57987594]. \t  \u001b[92m-3.857058857109021\u001b[0m \t -3.857058857109021\n",
            "14     \t [-0.69311017  0.57990302]. \t  \u001b[92m-3.856673093289409\u001b[0m \t -3.856673093289409\n",
            "15     \t [-0.69314255  0.5799261 ]. \t  \u001b[92m-3.8563488556208996\u001b[0m \t -3.8563488556208996\n",
            "16     \t [-0.69317042  0.57994598]. \t  \u001b[92m-3.8560699583048614\u001b[0m \t -3.8560699583048614\n",
            "17     \t [-0.69319465  0.57996328]. \t  \u001b[92m-3.855828045333697\u001b[0m \t -3.855828045333697\n",
            "18     \t [-0.69321583  0.57997848]. \t  \u001b[92m-3.8556181981027797\u001b[0m \t -3.8556181981027797\n",
            "19     \t [-0.69323448  0.57999194]. \t  \u001b[92m-3.855434784848265\u001b[0m \t -3.855434784848265\n",
            "20     \t [-0.69325124  0.58000391]. \t  \u001b[92m-3.8552674010049826\u001b[0m \t -3.8552674010049826\n"
          ]
        }
      ],
      "source": [
        "### Bayesian optimisation runs (x20): 'GP' Acquisition Function run number = 10\n",
        "\n",
        "np.random.seed(run_num_10)\n",
        "surrogate_gp_10 = GaussianProcess(cov_func, optimize=hyperOpt)\n",
        "\n",
        "gp_10 = GPGO(surrogate_gp_10, Acquisition_new(util_gp), f_syn_polarity, param, n_jobs = -1) # define BayesOpt\n",
        "gp_10.run(max_iter = max_iter, init_evals = n_init) # run\n"
      ]
    },
    {
      "cell_type": "code",
      "execution_count": null,
      "metadata": {
        "id": "Z6wmPCIEJLk2",
        "colab": {
          "base_uri": "https://localhost:8080/"
        },
        "outputId": "4b516ab5-b343-4a13-8971-80a0346f314e"
      },
      "outputs": [
        {
          "output_type": "stream",
          "name": "stdout",
          "text": [
            "Evaluation \t Proposed point \t  Current eval. \t Best eval.\n",
            "init   \t [-1.30961535 -1.96822941]. \t  -1362.0202619238294 \t -4.533376036769996\n",
            "init   \t [-0.15065692  0.92132937]. \t  -82.0779347186456 \t -4.533376036769996\n",
            "init   \t [-0.32684604 -0.05969061]. \t  -4.533376036769996 \t -4.533376036769996\n",
            "init   \t [-1.99564978 -0.0517259 ]. \t  -1636.5670319859503 \t -4.533376036769996\n",
            "init   \t [1.80964005 1.43685669]. \t  -338.45801473698816 \t -4.533376036769996\n",
            "1      \t [ 0.67634073 -0.25465148]. \t  -50.81172384713029 \t -4.533376036769996\n",
            "2      \t [ 2.048 -2.048]. \t  -3897.7342268415996 \t -4.533376036769996\n",
            "3      \t [0.33520767 0.32779882]. \t  -5.0831572962621685 \t -4.533376036769996\n",
            "4      \t [0.33472734 0.32724159]. \t  -5.073657226831092 \t -4.533376036769996\n",
            "5      \t [0.33446262 0.32693447]. \t  -5.06841706577367 \t -4.533376036769996\n",
            "6      \t [0.33429497 0.32673997]. \t  -5.065097464288868 \t -4.533376036769996\n",
            "7      \t [0.33417928 0.32660584]. \t  -5.062809956896316 \t -4.533376036769996\n",
            "8      \t [0.33409467 0.32650779]. \t  -5.0611386977896435 \t -4.533376036769996\n",
            "9      \t [0.33403011 0.32643302]. \t  -5.059864924889978 \t -4.533376036769996\n",
            "10     \t [0.33397926 0.32637414]. \t  -5.058862375284755 \t -4.533376036769996\n",
            "11     \t [0.33393814 0.32632659]. \t  -5.058054077692474 \t -4.533376036769996\n",
            "12     \t [0.33390425 0.32628738]. \t  -5.057387159134025 \t -4.533376036769996\n",
            "13     \t [0.33387581 0.32625454]. \t  -5.056829940028957 \t -4.533376036769996\n",
            "14     \t [0.33385162 0.32622659]. \t  -5.05635541004037 \t -4.533376036769996\n",
            "15     \t [0.33383078 0.32620254]. \t  -5.05594790973542 \t -4.533376036769996\n",
            "16     \t [0.33381268 0.32618163]. \t  -5.05559306506031 \t -4.533376036769996\n",
            "17     \t [0.33379678 0.3261633 ]. \t  -5.055282578467919 \t -4.533376036769996\n",
            "18     \t [0.33378271 0.32614705]. \t  -5.055006850778254 \t -4.533376036769996\n",
            "19     \t [0.33377017 0.3261326 ]. \t  -5.054762828213942 \t -4.533376036769996\n",
            "20     \t [0.33375894 0.32611965]. \t  -5.05454347573403 \t -4.533376036769996\n"
          ]
        }
      ],
      "source": [
        "### Bayesian optimisation runs (x20): 'GP' Acquisition Function run number = 11\n",
        "\n",
        "np.random.seed(run_num_11)\n",
        "surrogate_gp_11 = GaussianProcess(cov_func, optimize=hyperOpt)\n",
        "\n",
        "gp_11 = GPGO(surrogate_gp_11, Acquisition_new(util_gp), f_syn_polarity, param, n_jobs = -1) # define BayesOpt\n",
        "gp_11.run(max_iter = max_iter, init_evals = n_init) # run\n"
      ]
    },
    {
      "cell_type": "code",
      "execution_count": null,
      "metadata": {
        "id": "oNR6-n7iJLk3",
        "colab": {
          "base_uri": "https://localhost:8080/"
        },
        "outputId": "8dc8c3a3-67d0-4881-f2ca-7cce1d91e0ae"
      },
      "outputs": [
        {
          "output_type": "stream",
          "name": "stdout",
          "text": [
            "Evaluation \t Proposed point \t  Current eval. \t Best eval.\n",
            "init   \t [-1.416549    0.98324356]. \t  -110.56781423235984 \t -68.14456326432247\n",
            "init   \t [-0.9694617   0.13819656]. \t  -68.14456326432247 \t -68.14456326432247\n",
            "init   \t [-1.98830095  1.71518775]. \t  -509.86279959563035 \t -68.14456326432247\n",
            "init   \t [ 1.64132804 -1.91110583]. \t  -2121.0723550229873 \t -68.14456326432247\n",
            "init   \t [ 1.87166448 -1.48599062]. \t  -2489.890190157968 \t -68.14456326432247\n",
            "1      \t [-2.048 -2.048]. \t  -3905.9262268415996 \t -68.14456326432247\n",
            "2      \t [2.048 2.048]. \t  -461.7603900415999 \t -68.14456326432247\n",
            "3      \t [-0.2213508   0.71993937]. \t  \u001b[92m-46.50817522582873\u001b[0m \t -46.50817522582873\n",
            "4      \t [-0.24455325  0.70206407]. \t  \u001b[92m-42.79841800351632\u001b[0m \t -42.79841800351632\n",
            "5      \t [-0.25073827  0.69752327]. \t  \u001b[92m-41.84286391750497\u001b[0m \t -41.84286391750497\n",
            "6      \t [-0.2534761   0.69555297]. \t  \u001b[92m-41.42552959610023\u001b[0m \t -41.42552959610023\n",
            "7      \t [-0.2549789   0.69448465]. \t  \u001b[92m-41.1982712079319\u001b[0m \t -41.1982712079319\n",
            "8      \t [-0.25591201  0.69382706]. \t  \u001b[92m-41.057940851020035\u001b[0m \t -41.057940851020035\n",
            "9      \t [-0.2565401   0.69338739]. \t  \u001b[92m-40.96387695236761\u001b[0m \t -40.96387695236761\n",
            "10     \t [-0.25698776  0.69307568]. \t  \u001b[92m-40.897053205478954\u001b[0m \t -40.897053205478954\n",
            "11     \t [-0.25732074  0.69284487]. \t  \u001b[92m-40.847485053532374\u001b[0m \t -40.847485053532374\n",
            "12     \t [-0.2575767   0.69266815]. \t  \u001b[92m-40.809473336089994\u001b[0m \t -40.809473336089994\n",
            "13     \t [-0.25777877  0.69252908]. \t  \u001b[92m-40.779522512194966\u001b[0m \t -40.779522512194966\n",
            "14     \t [-0.25794175  0.69241724]. \t  \u001b[92m-40.755406672232134\u001b[0m \t -40.755406672232134\n",
            "15     \t [-0.25807561  0.69232565]. \t  \u001b[92m-40.73563446186107\u001b[0m \t -40.73563446186107\n",
            "16     \t [-0.25818721  0.69224943]. \t  \u001b[92m-40.71916879141083\u001b[0m \t -40.71916879141083\n",
            "17     \t [-0.25828151  0.6921852 ]. \t  \u001b[92m-40.705277977751905\u001b[0m \t -40.705277977751905\n",
            "18     \t [-0.25836204  0.69213043]. \t  \u001b[92m-40.69342443974298\u001b[0m \t -40.69342443974298\n",
            "19     \t [-0.25843154  0.69208324]. \t  \u001b[92m-40.683206322028695\u001b[0m \t -40.683206322028695\n",
            "20     \t [-0.25849205  0.69204226]. \t  \u001b[92m-40.67432183839664\u001b[0m \t -40.67432183839664\n"
          ]
        }
      ],
      "source": [
        "### Bayesian optimisation runs (x20): 'GP' Acquisition Function run number = 12\n",
        "\n",
        "np.random.seed(run_num_12)\n",
        "surrogate_gp_12 = GaussianProcess(cov_func, optimize=hyperOpt)\n",
        "\n",
        "gp_12 = GPGO(surrogate_gp_12, Acquisition_new(util_gp), f_syn_polarity, param, n_jobs = -1) # define BayesOpt\n",
        "gp_12.run(max_iter = max_iter, init_evals = n_init) # run\n"
      ]
    },
    {
      "cell_type": "code",
      "execution_count": null,
      "metadata": {
        "id": "z1CyiX30JLk4",
        "colab": {
          "base_uri": "https://localhost:8080/"
        },
        "outputId": "e5bf27d8-0c3b-431d-89be-67a9a90b5c84"
      },
      "outputs": [
        {
          "output_type": "stream",
          "name": "stdout",
          "text": [
            "Evaluation \t Proposed point \t  Current eval. \t Best eval.\n",
            "init   \t [ 1.13746907 -1.07503116]. \t  -561.1720108286133 \t -2.166231627813885\n",
            "init   \t [1.32824487 1.90770872]. \t  -2.166231627813885 \t -2.166231627813885\n",
            "init   \t [ 1.93577416 -0.19067188]. \t  -1551.5761879230556 \t -2.166231627813885\n",
            "init   \t [0.44663793 1.1285566 ]. \t  -86.6235326520391 \t -2.166231627813885\n",
            "init   \t [0.58004826 0.90938667]. \t  -33.00131633274188 \t -2.166231627813885\n",
            "1      \t [0.18878272 2.048     ]. \t  -405.61778752462334 \t -2.166231627813885\n",
            "2      \t [-2.048      -0.35234571]. \t  -2076.492662078714 \t -2.166231627813885\n",
            "3      \t [2.048 2.048]. \t  -461.7603900415999 \t -2.166231627813885\n",
            "4      \t [-2.048  2.048]. \t  -469.9523900415999 \t -2.166231627813885\n",
            "5      \t [-0.08590057 -2.048     ]. \t  -423.63742567136165 \t -2.166231627813885\n",
            "6      \t [0.26454894 1.12378168]. \t  -111.58939123672884 \t -2.166231627813885\n",
            "7      \t [0.26573979 1.12479026]. \t  -111.66712992797065 \t -2.166231627813885\n",
            "8      \t [0.26649251 1.12542803]. \t  -111.71602904615307 \t -2.166231627813885\n",
            "9      \t [0.26701332 1.12586921]. \t  -111.74971099280799 \t -2.166231627813885\n",
            "10     \t [0.26739602 1.12619327]. \t  -111.7743641814225 \t -2.166231627813885\n",
            "11     \t [0.26768959 1.12644172]. \t  -111.79320681442275 \t -2.166231627813885\n",
            "12     \t [0.26792221 1.12663847]. \t  -111.80808869541177 \t -2.166231627813885\n",
            "13     \t [0.26811126 1.12679823]. \t  -111.82013837764185 \t -2.166231627813885\n",
            "14     \t [0.26826804 1.12693066]. \t  -111.83010718728123 \t -2.166231627813885\n",
            "15     \t [0.26840023 1.12704225]. \t  -111.83849025574675 \t -2.166231627813885\n",
            "16     \t [0.26851328 1.1271376 ]. \t  -111.84563779201203 \t -2.166231627813885\n",
            "17     \t [0.26861105 1.12722002]. \t  -111.85180494816868 \t -2.166231627813885\n",
            "18     \t [0.26869651 1.12729205]. \t  -111.8571901943883 \t -2.166231627813885\n",
            "19     \t [0.26877186 1.12735549]. \t  -111.8619211105064 \t -2.166231627813885\n",
            "20     \t [0.26883881 1.12741181]. \t  -111.86611166915758 \t -2.166231627813885\n"
          ]
        }
      ],
      "source": [
        "### Bayesian optimisation runs (x20): 'GP' Acquisition Function run number = 13\n",
        "\n",
        "np.random.seed(run_num_13)\n",
        "surrogate_gp_13 = GaussianProcess(cov_func, optimize=hyperOpt)\n",
        "\n",
        "gp_13 = GPGO(surrogate_gp_13, Acquisition_new(util_gp), f_syn_polarity, param, n_jobs = -1) # define BayesOpt\n",
        "gp_13.run(max_iter = max_iter, init_evals = n_init) # run\n"
      ]
    },
    {
      "cell_type": "code",
      "execution_count": null,
      "metadata": {
        "id": "Dx5l3xHMJLk5",
        "colab": {
          "base_uri": "https://localhost:8080/"
        },
        "outputId": "689e4d61-8711-4811-ece4-2a5d542b429b"
      },
      "outputs": [
        {
          "output_type": "stream",
          "name": "stdout",
          "text": [
            "Evaluation \t Proposed point \t  Current eval. \t Best eval.\n",
            "init   \t [0.05711194 1.11888405]. \t  -125.35034508047823 \t -56.7252447162893\n",
            "init   \t [ 1.5172718 -2.0150397]. \t  -1864.0489319378007 \t -56.7252447162893\n",
            "init   \t [-0.77932165  1.87434492]. \t  -163.6955655658878 \t -56.7252447162893\n",
            "init   \t [ 0.05372605 -0.744307  ]. \t  -56.7252447162893 \t -56.7252447162893\n",
            "init   \t [ 0.16056294 -1.14173976]. \t  -137.01499974575526 \t -56.7252447162893\n",
            "1      \t [-1.8584508  -1.21633226]. \t  -2189.2210590835857 \t -56.7252447162893\n",
            "2      \t [2.048 2.048]. \t  -461.7603900415999 \t -56.7252447162893\n",
            "3      \t [-2.048  2.048]. \t  -469.9523900415999 \t -56.7252447162893\n",
            "4      \t [0.39324154 0.01356977]. \t  \u001b[92m-2.3582061048184357\u001b[0m \t -2.3582061048184357\n",
            "5      \t [0.41634364 0.02776966]. \t  -2.4597861745988636 \t -2.3582061048184357\n",
            "6      \t [0.4269848 0.0335998]. \t  -2.5399978697004957 \t -2.3582061048184357\n",
            "7      \t [0.43335299 0.03689792]. \t  -2.5980760939962417 \t -2.3582061048184357\n",
            "8      \t [0.43768079 0.03906278]. \t  -2.641879359980833 \t -2.3582061048184357\n",
            "9      \t [0.44085354 0.04061192]. \t  -2.6762412489107543 \t -2.3582061048184357\n",
            "10     \t [0.44329935 0.04178489]. \t  -2.704035110882186 \t -2.3582061048184357\n",
            "11     \t [0.44525445 0.04270925]. \t  -2.7270823878975827 \t -2.3582061048184357\n",
            "12     \t [0.4468588  0.04345953]. \t  -2.7465357349553066 \t -2.3582061048184357\n",
            "13     \t [0.44820448 0.04408278]. \t  -2.7632427410414655 \t -2.3582061048184357\n",
            "14     \t [0.44935184 0.04461   ]. \t  -2.7777650896558113 \t -2.3582061048184357\n",
            "15     \t [0.45034373 0.04506271]. \t  -2.7905260703648844 \t -2.3582061048184357\n",
            "16     \t [0.45121142 0.04545632]. \t  -2.8018503723441146 \t -2.3582061048184357\n",
            "17     \t [0.45197752 0.04580212]. \t  -2.811969093305998 \t -2.3582061048184357\n",
            "18     \t [0.45266001 0.04610868]. \t  -2.8210837733075347 \t -2.3582061048184357\n",
            "19     \t [0.45327237 0.04638258]. \t  -2.8293412256741868 \t -2.3582061048184357\n",
            "20     \t [0.4538252  0.04662896]. \t  -2.8368593526659844 \t -2.3582061048184357\n"
          ]
        }
      ],
      "source": [
        "### Bayesian optimisation runs (x20): 'GP' Acquisition Function run number = 14\n",
        "\n",
        "np.random.seed(run_num_14)\n",
        "surrogate_gp_14 = GaussianProcess(cov_func, optimize=hyperOpt)\n",
        "\n",
        "gp_14 = GPGO(surrogate_gp_14, Acquisition_new(util_gp), f_syn_polarity, param, n_jobs = -1) # define BayesOpt\n",
        "gp_14.run(max_iter = max_iter, init_evals = n_init) # run\n"
      ]
    },
    {
      "cell_type": "code",
      "execution_count": null,
      "metadata": {
        "id": "mNCLg6LHJLk6",
        "colab": {
          "base_uri": "https://localhost:8080/"
        },
        "outputId": "d7b55755-ef79-41c6-b6ff-3aeaa470d2c9"
      },
      "outputs": [
        {
          "output_type": "stream",
          "name": "stdout",
          "text": [
            "Evaluation \t Proposed point \t  Current eval. \t Best eval.\n",
            "init   \t [ 1.42875729 -1.31524229]. \t  -1126.8532605124637 \t -56.02298763074632\n",
            "init   \t [-1.82532827 -0.56713852]. \t  -1528.1728177033635 \t -56.02298763074632\n",
            "init   \t [-0.9199578   0.12288092]. \t  -56.02298763074632 \t -56.02298763074632\n",
            "init   \t [-0.79495612 -0.80087302]. \t  -208.52154958515655 \t -56.02298763074632\n",
            "init   \t [-1.59030773 -1.02441364]. \t  -1269.4404638957562 \t -56.02298763074632\n",
            "1      \t [-0.25762975  0.46687283]. \t  \u001b[92m-17.62163664538815\u001b[0m \t -17.62163664538815\n",
            "2      \t [-0.29072977  0.45985611]. \t  \u001b[92m-15.75341785569163\u001b[0m \t -15.75341785569163\n",
            "3      \t [-0.90851459  1.30581906]. \t  -26.722795042716566 \t -15.75341785569163\n",
            "4      \t [2.048 2.048]. \t  -461.7603900415999 \t -15.75341785569163\n",
            "5      \t [-0.1597922   0.19273672]. \t  \u001b[92m-4.140808072064633\u001b[0m \t -4.140808072064633\n",
            "6      \t [-0.16925346  0.21106519]. \t  -4.694802864688409 \t -4.140808072064633\n",
            "7      \t [-2.048  2.048]. \t  -469.9523900415999 \t -4.140808072064633\n",
            "8      \t [-0.37336779  0.57893441]. \t  -21.20488017351511 \t -4.140808072064633\n",
            "9      \t [-0.160367    0.18037095]. \t  \u001b[92m-3.7382181298359165\u001b[0m \t -3.7382181298359165\n",
            "10     \t [-0.16062808  0.18092694]. \t  -3.7534513395291 \t -3.7382181298359165\n",
            "11     \t [-0.16084799  0.18139469]. \t  -3.766296262792914 \t -3.7382181298359165\n",
            "12     \t [-0.16103533  0.18179281]. \t  -3.7772503641383732 \t -3.7382181298359165\n",
            "13     \t [-0.16119698  0.18213607]. \t  -3.786710737228817 \t -3.7382181298359165\n",
            "14     \t [-0.1613381   0.18243543]. \t  -3.7949725246627555 \t -3.7382181298359165\n",
            "15     \t [-0.16146259  0.18269933]. \t  -3.8022647230229403 \t -3.7382181298359165\n",
            "16     \t [-0.1615735  0.1829344]. \t  -3.808767757866251 \t -3.7382181298359165\n",
            "17     \t [-0.16167304  0.18314512]. \t  -3.814602350355335 \t -3.7382181298359165\n",
            "18     \t [-0.16176304  0.18333554]. \t  -3.8198795274599147 \t -3.7382181298359165\n",
            "19     \t [-0.16184499  0.18350891]. \t  -3.824688147750103 \t -3.7382181298359165\n",
            "20     \t [-0.16191997  0.18366741]. \t  -3.829087386668757 \t -3.7382181298359165\n"
          ]
        }
      ],
      "source": [
        "### Bayesian optimisation runs (x20): 'GP' Acquisition Function run number = 15\n",
        "\n",
        "np.random.seed(run_num_15)\n",
        "surrogate_gp_15 = GaussianProcess(cov_func, optimize=hyperOpt)\n",
        "\n",
        "gp_15 = GPGO(surrogate_gp_15, Acquisition_new(util_gp), f_syn_polarity, param, n_jobs = -1) # define BayesOpt\n",
        "gp_15.run(max_iter = max_iter, init_evals = n_init) # run\n"
      ]
    },
    {
      "cell_type": "code",
      "execution_count": null,
      "metadata": {
        "id": "5xwjkr9RJLk6",
        "colab": {
          "base_uri": "https://localhost:8080/"
        },
        "outputId": "ffb41a3f-2fd1-4872-93e4-dc5601ef2daa"
      },
      "outputs": [
        {
          "output_type": "stream",
          "name": "stdout",
          "text": [
            "Evaluation \t Proposed point \t  Current eval. \t Best eval.\n",
            "init   \t [-1.13339974  0.09487705]. \t  -146.09426826423262 \t -146.09426826423262\n",
            "init   \t [ 0.20767317 -1.86121441]. \t  -363.27983894611043 \t -146.09426826423262\n",
            "init   \t [-0.57045469 -1.13426046]. \t  -215.5326110993483 \t -146.09426826423262\n",
            "init   \t [ 0.77302236 -1.37735608]. \t  -390.08228141599125 \t -146.09426826423262\n",
            "init   \t [-1.75994935  1.80638048]. \t  -174.29606237276562 \t -146.09426826423262\n",
            "1      \t [2.048 2.048]. \t  -461.7603900415999 \t -146.09426826423262\n",
            "2      \t [-2.048 -2.048]. \t  -3905.9262268415996 \t -146.09426826423262\n",
            "3      \t [-0.08545565  2.048     ]. \t  -417.6227740136263 \t -146.09426826423262\n",
            "4      \t [ 2.048      -0.07553363]. \t  -1824.2496407589324 \t -146.09426826423262\n",
            "5      \t [-2.048      1.0150799]. \t  -1020.0368922446632 \t -146.09426826423262\n",
            "6      \t [-0.35585822 -0.07476372]. \t  \u001b[92m-5.894498606177765\u001b[0m \t -5.894498606177765\n",
            "7      \t [-0.34212479 -0.06555169]. \t  \u001b[92m-5.1356135103211225\u001b[0m \t -5.1356135103211225\n",
            "8      \t [-0.33644793 -0.06268368]. \t  \u001b[92m-4.87950182242234\u001b[0m \t -4.87950182242234\n",
            "9      \t [-0.33320798 -0.06092751]. \t  \u001b[92m-4.734298095263638\u001b[0m \t -4.734298095263638\n",
            "10     \t [-0.33110075 -0.05973488]. \t  \u001b[92m-4.6401976913677805\u001b[0m \t -4.6401976913677805\n",
            "11     \t [-0.32961411 -0.05886699]. \t  \u001b[92m-4.573915663048385\u001b[0m \t -4.573915663048385\n",
            "12     \t [-0.32850549 -0.05820411]. \t  \u001b[92m-4.524511404401706\u001b[0m \t -4.524511404401706\n",
            "13     \t [-0.3276448  -0.05767926]. \t  \u001b[92m-4.486143182798353\u001b[0m \t -4.486143182798353\n",
            "14     \t [-0.32695584 -0.05725209]. \t  \u001b[92m-4.455406790417112\u001b[0m \t -4.455406790417112\n",
            "15     \t [-0.32639099 -0.05689682]. \t  \u001b[92m-4.430180959966098\u001b[0m \t -4.430180959966098\n",
            "16     \t [-0.32591881 -0.05659607]. \t  \u001b[92m-4.409067923431453\u001b[0m \t -4.409067923431453\n",
            "17     \t [-0.32551782 -0.05633774]. \t  \u001b[92m-4.391113209196491\u001b[0m \t -4.391113209196491\n",
            "18     \t [-0.32517268 -0.05611307]. \t  \u001b[92m-4.375636007976439\u001b[0m \t -4.375636007976439\n",
            "19     \t [-0.32487226 -0.05591566]. \t  \u001b[92m-4.362143620190853\u001b[0m \t -4.362143620190853\n",
            "20     \t [-0.32460817 -0.05574062]. \t  \u001b[92m-4.350265037524574\u001b[0m \t -4.350265037524574\n"
          ]
        }
      ],
      "source": [
        "### Bayesian optimisation runs (x20): 'GP' Acquisition Function run number = 16\n",
        "\n",
        "np.random.seed(run_num_16)\n",
        "surrogate_gp_16 = GaussianProcess(cov_func, optimize=hyperOpt)\n",
        "\n",
        "gp_16 = GPGO(surrogate_gp_16, Acquisition_new(util_gp), f_syn_polarity, param, n_jobs = -1) # define BayesOpt\n",
        "gp_16.run(max_iter = max_iter, init_evals = n_init) # run\n"
      ]
    },
    {
      "cell_type": "code",
      "execution_count": null,
      "metadata": {
        "id": "zbpfP0FWJLk7",
        "colab": {
          "base_uri": "https://localhost:8080/"
        },
        "outputId": "07a63a8a-8774-448e-9e63-22d3855665e5"
      },
      "outputs": [
        {
          "output_type": "stream",
          "name": "stdout",
          "text": [
            "Evaluation \t Proposed point \t  Current eval. \t Best eval.\n",
            "init   \t [-0.84105215  0.12528335]. \t  -37.27181038922863 \t -0.19652774971866602\n",
            "init   \t [-1.26353086 -1.76988013]. \t  -1138.381976578598 \t -0.19652774971866602\n",
            "init   \t [1.17549244 0.64034211]. \t  -55.004181467935105 \t -0.19652774971866602\n",
            "init   \t [0.56328559 0.30966945]. \t  -0.19652774971866602 \t -0.19652774971866602\n",
            "init   \t [-1.8879983  -0.58239548]. \t  -1728.0458971940702 \t -0.19652774971866602\n",
            "1      \t [-0.19459767  1.10359276]. \t  -115.00393471322593 \t -0.19652774971866602\n",
            "2      \t [ 2.048 -2.048]. \t  -3897.7342268415996 \t -0.19652774971866602\n",
            "3      \t [2.048 2.048]. \t  -461.7603900415999 \t -0.19652774971866602\n",
            "4      \t [0.17654879 0.53812616]. \t  -26.378579936652905 \t -0.19652774971866602\n",
            "5      \t [0.17819172 0.53934499]. \t  -26.440404101068076 \t -0.19652774971866602\n",
            "6      \t [0.17917146 0.54002881]. \t  -26.472682128336455 \t -0.19652774971866602\n",
            "7      \t [0.17981856 0.54046304]. \t  -26.492136922648882 \t -0.19652774971866602\n",
            "8      \t [-2.048  2.048]. \t  -469.9523900415999 \t -0.19652774971866602\n",
            "9      \t [0.20951805 0.5160859 ]. \t  -22.92102094468688 \t -0.19652774971866602\n",
            "10     \t [0.20945665 0.51664692]. \t  -22.976562916215798 \t -0.19652774971866602\n",
            "11     \t [0.2094097  0.51707863]. \t  -23.019337079121826 \t -0.19652774971866602\n",
            "12     \t [0.20937279 0.51742065]. \t  -23.053242240480735 \t -0.19652774971866602\n",
            "13     \t [0.20934311 0.51769798]. \t  -23.08074168198335 \t -0.19652774971866602\n",
            "14     \t [0.2093188  0.51792721]. \t  -23.10347565647912 \t -0.19652774971866602\n",
            "15     \t [0.20929861 0.51811966]. \t  -23.12256183120862 \t -0.19652774971866602\n",
            "16     \t [0.20928158 0.51828342]. \t  -23.138803245427045 \t -0.19652774971866602\n",
            "17     \t [0.20926711 0.51842438]. \t  -23.152779308015727 \t -0.19652774971866602\n",
            "18     \t [0.20925463 0.51854693]. \t  -23.164930053249964 \t -0.19652774971866602\n",
            "19     \t [0.20924383 0.51865439]. \t  -23.17558098929091 \t -0.19652774971866602\n",
            "20     \t [0.20923436 0.51874934]. \t  -23.18499146891173 \t -0.19652774971866602\n"
          ]
        }
      ],
      "source": [
        "### Bayesian optimisation runs (x20): 'GP' Acquisition Function run number = 17\n",
        "\n",
        "np.random.seed(run_num_17)\n",
        "surrogate_gp_17 = GaussianProcess(cov_func, optimize=hyperOpt)\n",
        "\n",
        "gp_17 = GPGO(surrogate_gp_17, Acquisition_new(util_gp), f_syn_polarity, param, n_jobs = -1) # define BayesOpt\n",
        "gp_17.run(max_iter = max_iter, init_evals = n_init) # run\n"
      ]
    },
    {
      "cell_type": "code",
      "execution_count": null,
      "metadata": {
        "id": "1d-1rDI5JLk8",
        "colab": {
          "base_uri": "https://localhost:8080/"
        },
        "outputId": "844b9112-da07-40b9-8a2a-9fbe135f02f0"
      },
      "outputs": [
        {
          "output_type": "stream",
          "name": "stdout",
          "text": [
            "Evaluation \t Proposed point \t  Current eval. \t Best eval.\n",
            "init   \t [0.61593289 0.02233702]. \t  -12.895000300241685 \t -12.895000300241685\n",
            "init   \t [ 1.55075162 -1.30318244]. \t  -1375.2393970855524 \t -12.895000300241685\n",
            "init   \t [1.44274665 1.02455823]. \t  -111.91239818238155 \t -12.895000300241685\n",
            "init   \t [0.68035243 1.99841976]. \t  -235.89058418537797 \t -12.895000300241685\n",
            "init   \t [-0.99545734 -1.93205893]. \t  -858.3713873043706 \t -12.895000300241685\n",
            "1      \t [-2.048       1.41633394]. \t  -781.0020689764833 \t -12.895000300241685\n",
            "2      \t [0.16140695 0.51196922]. \t  -24.314772630896424 \t -12.895000300241685\n",
            "3      \t [0.15311054 0.51192078]. \t  -24.578291763094423 \t -12.895000300241685\n",
            "4      \t [0.14957554 0.5118896 ]. \t  -24.68588761180745 \t -12.895000300241685\n",
            "5      \t [0.14761426 0.51186406]. \t  -24.743822505991197 \t -12.895000300241685\n",
            "6      \t [0.14636564 0.51184277]. \t  -24.779856935004005 \t -12.895000300241685\n",
            "7      \t [0.14550013 0.51182487]. \t  -24.80436202494873 \t -12.895000300241685\n",
            "8      \t [0.14486441 0.51180964]. \t  -24.8220711958166 \t -12.895000300241685\n",
            "9      \t [0.1443774  0.51179654]. \t  -24.83544781997662 \t -12.895000300241685\n",
            "10     \t [0.14399224 0.51178515]. \t  -24.845895103135284 \t -12.895000300241685\n",
            "11     \t [0.14367986 0.51177513]. \t  -24.854272829496278 \t -12.895000300241685\n",
            "12     \t [0.14342134 0.51176629]. \t  -24.86113806215238 \t -12.895000300241685\n",
            "13     \t [0.14320379 0.51175838]. \t  -24.866859206008005 \t -12.895000300241685\n",
            "14     \t [0.14301816 0.51175129]. \t  -24.871701885636178 \t -12.895000300241685\n",
            "15     \t [0.14285786 0.51174485]. \t  -24.875846546886777 \t -12.895000300241685\n",
            "16     \t [0.14271803 0.51173903]. \t  -24.879438233114023 \t -12.895000300241685\n",
            "17     \t [0.14259494 0.51173369]. \t  -24.882576234206542 \t -12.895000300241685\n",
            "18     \t [0.14248576 0.5117288 ]. \t  -24.885341786335445 \t -12.895000300241685\n",
            "19     \t [0.14238827 0.5117243 ]. \t  -24.887796923721563 \t -12.895000300241685\n",
            "20     \t [0.14230062 0.51172013]. \t  -24.889989819826216 \t -12.895000300241685\n"
          ]
        }
      ],
      "source": [
        "### Bayesian optimisation runs (x20): 'GP' Acquisition Function run number = 18\n",
        "\n",
        "np.random.seed(run_num_18)\n",
        "surrogate_gp_18 = GaussianProcess(cov_func, optimize=hyperOpt)\n",
        "\n",
        "gp_18 = GPGO(surrogate_gp_18, Acquisition_new(util_gp), f_syn_polarity, param, n_jobs = -1) # define BayesOpt\n",
        "gp_18.run(max_iter = max_iter, init_evals = n_init) # run\n"
      ]
    },
    {
      "cell_type": "code",
      "execution_count": null,
      "metadata": {
        "id": "E7485DWlJLk8",
        "colab": {
          "base_uri": "https://localhost:8080/"
        },
        "outputId": "d483d52f-d636-4f7c-eb4d-27060d7b8438"
      },
      "outputs": [
        {
          "output_type": "stream",
          "name": "stdout",
          "text": [
            "Evaluation \t Proposed point \t  Current eval. \t Best eval.\n",
            "init   \t [-1.64850237  1.07007884]. \t  -278.43400025820534 \t -57.78708636899354\n",
            "init   \t [-1.03654206 -1.48221261]. \t  -657.7842496298689 \t -57.78708636899354\n",
            "init   \t [-0.69039488 -1.70803378]. \t  -480.139610337942 \t -57.78708636899354\n",
            "init   \t [0.70441812 1.2558082 ]. \t  -57.78708636899354 \t -57.78708636899354\n",
            "init   \t [1.97731088 0.55566637]. \t  -1125.9484203106679 \t -57.78708636899354\n",
            "1      \t [0.20063658 2.048     ]. \t  -403.7429656024368 \t -57.78708636899354\n",
            "2      \t [ 2.048 -2.048]. \t  -3897.7342268415996 \t -57.78708636899354\n",
            "3      \t [-2.048  2.048]. \t  -469.9523900415999 \t -57.78708636899354\n",
            "4      \t [-0.22997653  0.56169608]. \t  \u001b[92m-27.401286505493353\u001b[0m \t -27.401286505493353\n",
            "5      \t [-0.24198347  0.53667388]. \t  \u001b[92m-24.40219392671402\u001b[0m \t -24.40219392671402\n",
            "6      \t [-0.24648508  0.52656967]. \t  \u001b[92m-23.25206538559298\u001b[0m \t -23.25206538559298\n",
            "7      \t [-0.24894032  0.52089213]. \t  \u001b[92m-22.620686666014816\u001b[0m \t -22.620686666014816\n",
            "8      \t [-0.25052294  0.51717434]. \t  \u001b[92m-22.212888177633666\u001b[0m \t -22.212888177633666\n",
            "9      \t [-0.25164495  0.51451334]. \t  \u001b[92m-21.923690824580973\u001b[0m \t -21.923690824580973\n",
            "10     \t [-0.25249083  0.51249453]. \t  \u001b[92m-21.705753234507302\u001b[0m \t -21.705753234507302\n",
            "11     \t [-0.25315665  0.5108986 ]. \t  \u001b[92m-21.534346389966156\u001b[0m \t -21.534346389966156\n",
            "12     \t [-0.25369763  0.50959779]. \t  \u001b[92m-21.39520550138622\u001b[0m \t -21.39520550138622\n",
            "13     \t [-0.25414807  0.50851215]. \t  \u001b[92m-21.279464441990267\u001b[0m \t -21.279464441990267\n",
            "14     \t [-0.25453048  0.50758887]. \t  \u001b[92m-21.18130523305556\u001b[0m \t -21.18130523305556\n",
            "15     \t [-0.2548603   0.50679156]. \t  \u001b[92m-21.096737592288846\u001b[0m \t -21.096737592288846\n",
            "16     \t [-0.25514844  0.50609418]. \t  \u001b[92m-21.022919773685107\u001b[0m \t -21.022919773685107\n",
            "17     \t [-0.255403    0.50547765]. \t  \u001b[92m-20.95777505520991\u001b[0m \t -20.95777505520991\n",
            "18     \t [-0.25562998  0.50492755]. \t  \u001b[92m-20.899739602226287\u001b[0m \t -20.899739602226287\n",
            "19     \t [-0.25583402  0.50443281]. \t  \u001b[92m-20.84761826582177\u001b[0m \t -20.84761826582177\n",
            "20     \t [-0.25601872  0.50398479]. \t  \u001b[92m-20.800476958025293\u001b[0m \t -20.800476958025293\n"
          ]
        }
      ],
      "source": [
        "### Bayesian optimisation runs (x20): 'GP' Acquisition Function run number = 19\n",
        "\n",
        "np.random.seed(run_num_19)\n",
        "surrogate_gp_19 = GaussianProcess(cov_func, optimize=hyperOpt)\n",
        "\n",
        "gp_19 = GPGO(surrogate_gp_19, Acquisition_new(util_gp), f_syn_polarity, param, n_jobs = -1) # define BayesOpt\n",
        "gp_19.run(max_iter = max_iter, init_evals = n_init) # run\n"
      ]
    },
    {
      "cell_type": "code",
      "execution_count": null,
      "metadata": {
        "id": "v9oZm6NvJLk9",
        "colab": {
          "base_uri": "https://localhost:8080/"
        },
        "outputId": "13a24579-b5fc-4d5e-bc59-b38defabe831"
      },
      "outputs": [
        {
          "output_type": "stream",
          "name": "stdout",
          "text": [
            "Evaluation \t Proposed point \t  Current eval. \t Best eval.\n",
            "init   \t [0.36098376 1.62903543]. \t  -225.0263501192369 \t -5.168692520381821\n",
            "init   \t [1.60370987 1.29367031]. \t  -163.7478327754951 \t -5.168692520381821\n",
            "init   \t [-1.90099626  0.78543905]. \t  -808.3708592256118 \t -5.168692520381821\n",
            "init   \t [-0.49692286  0.07582083]. \t  -5.168692520381821 \t -5.168692520381821\n",
            "init   \t [ 0.6469692  -1.25398951]. \t  -279.86987688431674 \t -5.168692520381821\n",
            "1      \t [-2.048 -2.048]. \t  -3905.9262268415996 \t -5.168692520381821\n",
            "2      \t [ 2.048 -2.048]. \t  -3897.7342268415996 \t -5.168692520381821\n",
            "3      \t [ 0.05748069 -0.17765219]. \t  \u001b[92m-4.162858123761734\u001b[0m \t -4.162858123761734\n",
            "4      \t [ 0.05615859 -0.17758567]. \t  \u001b[92m-4.157511645725251\u001b[0m \t -4.157511645725251\n",
            "5      \t [ 0.05556934 -0.17755295]. \t  \u001b[92m-4.155062954535739\u001b[0m \t -4.155062954535739\n",
            "6      \t [ 0.05523506 -0.17753336]. \t  \u001b[92m-4.153648660751252\u001b[0m \t -4.153648660751252\n",
            "7      \t [ 0.0550199  -0.17752028]. \t  \u001b[92m-4.152726356953418\u001b[0m \t -4.152726356953418\n",
            "8      \t [ 0.05486993 -0.17751092]. \t  \u001b[92m-4.15207681275633\u001b[0m \t -4.15207681275633\n",
            "9      \t [ 0.05475943 -0.17750389]. \t  \u001b[92m-4.151594435681055\u001b[0m \t -4.151594435681055\n",
            "10     \t [ 0.05467467 -0.17749838]. \t  \u001b[92m-4.151220920734985\u001b[0m \t -4.151220920734985\n",
            "11     \t [ 0.05460739 -0.17749393]. \t  \u001b[92m-4.150921998982083\u001b[0m \t -4.150921998982083\n",
            "12     \t [ 0.05455299 -0.17749029]. \t  \u001b[92m-4.150679298953382\u001b[0m \t -4.150679298953382\n",
            "13     \t [ 0.05450842 -0.17748733]. \t  \u001b[92m-4.1504812817733985\u001b[0m \t -4.1504812817733985\n",
            "14     \t [ 0.05447036 -0.1774847 ]. \t  \u001b[92m-4.150308542600843\u001b[0m \t -4.150308542600843\n",
            "15     \t [ 0.05443801 -0.17748246]. \t  \u001b[92m-4.1501617967442455\u001b[0m \t -4.1501617967442455\n",
            "16     \t [ 0.05441013 -0.17748051]. \t  \u001b[92m-4.1500347748064055\u001b[0m \t -4.1500347748064055\n",
            "17     \t [ 0.05438601 -0.17747884]. \t  \u001b[92m-4.149925137116728\u001b[0m \t -4.149925137116728\n",
            "18     \t [ 0.05436479 -0.17747734]. \t  \u001b[92m-4.149828171072072\u001b[0m \t -4.149828171072072\n",
            "19     \t [ 0.05434568 -0.17747596]. \t  \u001b[92m-4.149739290450374\u001b[0m \t -4.149739290450374\n",
            "20     \t [ 0.05432882 -0.17747474]. \t  \u001b[92m-4.149661310052144\u001b[0m \t -4.149661310052144\n"
          ]
        }
      ],
      "source": [
        "### Bayesian optimisation runs (x20): 'GP' Acquisition Function run number = 20\n",
        "\n",
        "np.random.seed(run_num_20)\n",
        "surrogate_gp_20 = GaussianProcess(cov_func, optimize=hyperOpt)\n",
        "\n",
        "gp_20 = GPGO(surrogate_gp_20, Acquisition_new(util_gp), f_syn_polarity, param, n_jobs = -1) # define BayesOpt\n",
        "gp_20.run(max_iter = max_iter, init_evals = n_init) # run\n"
      ]
    },
    {
      "cell_type": "code",
      "execution_count": null,
      "metadata": {
        "id": "m3W7oEVSJLk9",
        "colab": {
          "base_uri": "https://localhost:8080/"
        },
        "outputId": "99e84526-d55a-4b1e-b811-04c003994445"
      },
      "outputs": [
        {
          "output_type": "stream",
          "name": "stdout",
          "text": [
            "Evaluation \t Proposed point \t  Current eval. \t Best eval.\n",
            "init   \t [-0.33987787  0.90244913]. \t  -63.72149506568065 \t -2.0636815813193974\n",
            "init   \t [-2.04753152 -0.80964578]. \t  -2511.318971868364 \t -2.0636815813193974\n",
            "init   \t [-1.44688787 -1.66978112]. \t  -1422.2040787100386 \t -2.0636815813193974\n",
            "init   \t [-1.28507817 -0.63258326]. \t  -526.8913737894474 \t -2.0636815813193974\n",
            "init   \t [-0.42284043  0.15899334]. \t  -2.0636815813193974 \t -2.0636815813193974\n",
            "1      \t [ 1.51738272 -0.54173318]. \t  -809.2056563706676 \t -2.0636815813193974\n",
            "2      \t [2.048 2.048]. \t  -461.7603900415999 \t -2.0636815813193974\n",
            "3      \t [-2.048  2.048]. \t  -469.9523900415999 \t -2.0636815813193974\n",
            "4      \t [0.09751256 2.048     ]. \t  -416.35916188805 \t -2.0636815813193974\n",
            "5      \t [ 2.048 -2.048]. \t  -3897.7342268415996 \t -2.0636815813193974\n",
            "6      \t [0.87414349 0.69601235]. \t  \u001b[92m-0.4797982073258432\u001b[0m \t -0.4797982073258432\n",
            "7      \t [2.048      0.75753666]. \t  -1182.2352812481965 \t -0.4797982073258432\n",
            "8      \t [ 0.14754708 -0.1913812 ]. \t  -5.270025286550837 \t -0.4797982073258432\n",
            "9      \t [0.08871653 0.35189525]. \t  -12.66573165273931 \t -0.4797982073258432\n",
            "10     \t [-0.14829485 -2.048     ]. \t  -429.80500516619037 \t -0.4797982073258432\n",
            "11     \t [-1.71572489  0.86552398]. \t  -439.2616608032853 \t -0.4797982073258432\n",
            "12     \t [-0.42850711 -1.02256125]. \t  -147.52755235963556 \t -0.4797982073258432\n",
            "13     \t [-1.00069544  2.048     ]. \t  -113.54174806833996 \t -0.4797982073258432\n",
            "14     \t [0.89212187 0.07411973]. \t  -52.10563361606199 \t -0.4797982073258432\n",
            "15     \t [1.15875529 2.048     ]. \t  -49.76806250774241 \t -0.4797982073258432\n",
            "16     \t [0.61949224 1.34625503]. \t  -92.78240693765484 \t -0.4797982073258432\n",
            "17     \t [-1.12981138  1.3969062 ]. \t  -5.986493770665636 \t -0.4797982073258432\n",
            "18     \t [-0.61507299 -0.42361643]. \t  -66.91782655296046 \t -0.4797982073258432\n",
            "19     \t [ 0.07385881 -0.1760432 ]. \t  -4.15190174768092 \t -0.4797982073258432\n",
            "20     \t [-0.01871347  0.34658832]. \t  -13.025861119204396 \t -0.4797982073258432\n"
          ]
        }
      ],
      "source": [
        "### Bayesian optimisation runs (x20): 'STP' Acquisition Function run number = 1 \n",
        "\n",
        "np.random.seed(run_num_1)\n",
        "surrogate_stp_1 = tStudentProcess(cov_func, nu = df, optimize=hyperOpt)\n",
        "\n",
        "stp_1 = GPGO(surrogate_stp_1, Acquisition_new(util_stp), f_syn_polarity, param, n_jobs = -1) # Define BayesOpt\n",
        "stp_1.run(max_iter = max_iter, init_evals = n_init) # run\n"
      ]
    },
    {
      "cell_type": "code",
      "execution_count": null,
      "metadata": {
        "id": "FGw67C40JLk-",
        "colab": {
          "base_uri": "https://localhost:8080/"
        },
        "outputId": "9462f840-396e-4acc-94f0-bdb04bc6b141"
      },
      "outputs": [
        {
          "output_type": "stream",
          "name": "stdout",
          "text": [
            "Evaluation \t Proposed point \t  Current eval. \t Best eval.\n",
            "init   \t [-0.26216488 -1.94180615]. \t  -405.8187938051167 \t -10.016400127761926\n",
            "init   \t [ 0.20341751 -0.26491948]. \t  -10.016400127761926 \t -10.016400127761926\n",
            "init   \t [-0.32617348 -0.69494857]. \t  -65.97294928625357 \t -10.016400127761926\n",
            "init   \t [-1.20975919  0.48853388]. \t  -99.94230490266065 \t -10.016400127761926\n",
            "init   \t [-0.82061446 -0.95507548]. \t  -268.5105099964258 \t -10.016400127761926\n",
            "1      \t [1.53250032 0.62337887]. \t  -297.9075904259672 \t -10.016400127761926\n",
            "2      \t [-2.048  2.048]. \t  -469.9523900415999 \t -10.016400127761926\n",
            "3      \t [ 2.048 -2.048]. \t  -3897.7342268415996 \t -10.016400127761926\n",
            "4      \t [0.31705964 2.048     ]. \t  -379.73158872660383 \t -10.016400127761926\n",
            "5      \t [2.048 2.048]. \t  -461.7603900415999 \t -10.016400127761926\n",
            "6      \t [-2.048 -2.048]. \t  -3905.9262268415996 \t -10.016400127761926\n",
            "7      \t [-0.14046665  0.69496074]. \t  -46.894201229602025 \t -10.016400127761926\n",
            "8      \t [-2.048       0.05601217]. \t  -1721.8362313840441 \t -10.016400127761926\n",
            "9      \t [-0.87662876  2.048     ]. \t  -167.2393969129809 \t -10.016400127761926\n",
            "10     \t [ 2.048      -0.09846167]. \t  -1843.8820145423458 \t -10.016400127761926\n",
            "11     \t [0.94782346 1.18842889]. \t  \u001b[92m-8.416177867216094\u001b[0m \t -8.416177867216094\n",
            "12     \t [-1.20611216  1.27778635]. \t  \u001b[92m-7.997006555988255\u001b[0m \t -7.997006555988255\n",
            "13     \t [0.76505322 0.43343335]. \t  \u001b[92m-2.3617431727257125\u001b[0m \t -2.3617431727257125\n",
            "14     \t [-0.55412341 -0.01062398]. \t  -12.507150160990331 \t -2.3617431727257125\n",
            "15     \t [2.048      1.26404332]. \t  -859.7410690036803 \t -2.3617431727257125\n",
            "16     \t [1.25196813 2.048     ]. \t  -23.15879902566509 \t -2.3617431727257125\n",
            "17     \t [-0.74371745  0.99943646]. \t  -22.960776918211295 \t -2.3617431727257125\n",
            "18     \t [ 0.19647441 -1.24034613]. \t  -164.21653442298856 \t -2.3617431727257125\n",
            "19     \t [0.0051854  0.54507994]. \t  -30.697939236229974 \t -2.3617431727257125\n",
            "20     \t [ 0.51125722 -2.048     ]. \t  -533.564291981562 \t -2.3617431727257125\n"
          ]
        }
      ],
      "source": [
        "### Bayesian optimisation runs (x20): 'STP' Acquisition Function run number = 2 \n",
        "\n",
        "np.random.seed(run_num_2)\n",
        "surrogate_stp_2 = tStudentProcess(cov_func, nu = df, optimize=hyperOpt)\n",
        "\n",
        "stp_2 = GPGO(surrogate_stp_2, Acquisition_new(util_stp), f_syn_polarity, param, n_jobs = -1) # Define BayesOpt\n",
        "stp_2.run(max_iter = max_iter, init_evals = n_init) # run\n"
      ]
    },
    {
      "cell_type": "code",
      "execution_count": null,
      "metadata": {
        "id": "oFLQAtDZJLk_",
        "colab": {
          "base_uri": "https://localhost:8080/"
        },
        "outputId": "1969c516-4ded-46ad-a24c-4d921721b445"
      },
      "outputs": [
        {
          "output_type": "stream",
          "name": "stdout",
          "text": [
            "Evaluation \t Proposed point \t  Current eval. \t Best eval.\n",
            "init   \t [0.20806821 0.85257348]. \t  -66.12074614607258 \t -50.941111321262525\n",
            "init   \t [-0.85645419  0.04434987]. \t  -50.941111321262525 \t -50.941111321262525\n",
            "init   \t [1.60951073 1.62321649]. \t  -93.94003449768307 \t -50.941111321262525\n",
            "init   \t [-1.53360257 -1.19913317]. \t  -1267.4289626896234 \t -50.941111321262525\n",
            "init   \t [-1.83719034 -0.24244288]. \t  -1316.8330877748904 \t -50.941111321262525\n",
            "1      \t [ 2.048 -2.048]. \t  -3897.7342268415996 \t -50.941111321262525\n",
            "2      \t [-1.3032815  2.048    ]. \t  \u001b[92m-17.517148161571026\u001b[0m \t -17.517148161571026\n",
            "3      \t [0.10599107 2.048     ]. \t  -415.6407822103563 \t -17.517148161571026\n",
            "4      \t [2.048      0.55817512]. \t  -1323.2416300508269 \t -17.517148161571026\n",
            "5      \t [-2.048  2.048]. \t  -469.9523900415999 \t -17.517148161571026\n",
            "6      \t [ 0.17397877 -0.26847764]. \t  \u001b[92m-9.607243484162009\u001b[0m \t -9.607243484162009\n",
            "7      \t [2.048 2.048]. \t  -461.7603900415999 \t -9.607243484162009\n",
            "8      \t [-0.55483254  0.9829543 ]. \t  -47.99555207325688 \t -9.607243484162009\n",
            "9      \t [-0.27452273 -2.048     ]. \t  -452.4913368994194 \t -9.607243484162009\n",
            "10     \t [1.13129714 2.048     ]. \t  -59.025258843359595 \t -9.607243484162009\n",
            "11     \t [-0.31480951 -0.80340581]. \t  -83.18130502497164 \t -9.607243484162009\n",
            "12     \t [-0.27082488  0.1274852 ]. \t  \u001b[92m-1.908099955140365\u001b[0m \t -1.908099955140365\n",
            "13     \t [-1.49022819  1.10848324]. \t  -129.92165514753694 \t -1.908099955140365\n",
            "14     \t [0.97679415 1.23387245]. \t  -7.826300742946738 \t -1.908099955140365\n",
            "15     \t [-2.048 -2.048]. \t  -3905.9262268415996 \t -1.908099955140365\n",
            "16     \t [0.79917327 0.25831271]. \t  -14.508099644221385 \t -1.908099955140365\n",
            "17     \t [-1.05885044  1.57255792]. \t  -24.614488584836657 \t -1.908099955140365\n",
            "18     \t [ 0.85819091 -0.54795512]. \t  -165.00045780413578 \t -1.908099955140365\n",
            "19     \t [ 0.26790915 -1.38569973]. \t  -212.95930639016262 \t -1.908099955140365\n",
            "20     \t [ 0.24394047 -0.13257346]. \t  -4.261114530066315 \t -1.908099955140365\n"
          ]
        }
      ],
      "source": [
        "### Bayesian optimisation runs (x20): 'STP' Acquisition Function run number = 3 \n",
        "\n",
        "np.random.seed(run_num_3)\n",
        "surrogate_stp_3 = tStudentProcess(cov_func, nu = df, optimize=hyperOpt)\n",
        "\n",
        "stp_3 = GPGO(surrogate_stp_3, Acquisition_new(util_stp), f_syn_polarity, param, n_jobs = -1) # Define BayesOpt\n",
        "stp_3.run(max_iter = max_iter, init_evals = n_init) # run\n"
      ]
    },
    {
      "cell_type": "code",
      "execution_count": null,
      "metadata": {
        "id": "zhFOxkF0JLk_",
        "colab": {
          "base_uri": "https://localhost:8080/"
        },
        "outputId": "2e713def-2683-43c6-9754-2a948f4d4ac0"
      },
      "outputs": [
        {
          "output_type": "stream",
          "name": "stdout",
          "text": [
            "Evaluation \t Proposed point \t  Current eval. \t Best eval.\n",
            "init   \t [1.91295422 0.19346329]. \t  -1202.1009483415905 \t -170.66405971002487\n",
            "init   \t [1.93611514 0.87988631]. \t  -823.7947602867234 \t -170.66405971002487\n",
            "init   \t [ 0.80989727 -1.16289743]. \t  -330.8507621971172 \t -170.66405971002487\n",
            "init   \t [ 1.95082017 -2.02248087]. \t  -3397.672500714367 \t -170.66405971002487\n",
            "init   \t [-1.01178424 -0.26709388]. \t  -170.66405971002487 \t -170.66405971002487\n",
            "1      \t [-2.048  2.048]. \t  -469.9523900415999 \t -170.66405971002487\n",
            "2      \t [-2.048 -2.048]. \t  -3905.9262268415996 \t -170.66405971002487\n",
            "3      \t [0.04936895 2.048     ]. \t  -419.3363779875418 \t -170.66405971002487\n",
            "4      \t [-2.048       0.59311848]. \t  -1306.144020334049 \t -170.66405971002487\n",
            "5      \t [0.03823076 0.07142912]. \t  \u001b[92m-1.414545636018576\u001b[0m \t -1.414545636018576\n",
            "6      \t [2.048 2.048]. \t  -461.7603900415999 \t -1.414545636018576\n",
            "7      \t [-0.08488218 -0.713073  ]. \t  -53.057006346320335 \t -1.414545636018576\n",
            "8      \t [-0.15773487  0.70028726]. \t  -46.95780832384561 \t -1.414545636018576\n",
            "9      \t [ 0.11230389 -2.048     ]. \t  -425.40025326484954 \t -1.414545636018576\n",
            "10     \t [-0.98829125  2.048     ]. \t  -118.71747132856179 \t -1.414545636018576\n",
            "11     \t [-0.0242169  -0.25292459]. \t  -7.475805382625996 \t -1.414545636018576\n",
            "12     \t [0.85132185 1.19882823]. \t  -22.49722715660079 \t -1.414545636018576\n",
            "13     \t [1.14717956 2.048     ]. \t  -53.60099622725758 \t -1.414545636018576\n",
            "14     \t [-0.84556638  0.4471628 ]. \t  -10.578855189929637 \t -1.414545636018576\n",
            "15     \t [ 0.68971317 -0.29904511]. \t  -60.11993619039878 \t -1.414545636018576\n",
            "16     \t [-1.03755091  1.38921334]. \t  -13.929833292434866 \t -1.414545636018576\n",
            "17     \t [ 0.34781539 -0.92063846]. \t  -108.92131774971887 \t -1.414545636018576\n",
            "18     \t [0.86446824 0.55367574]. \t  -3.767611134625302 \t -1.414545636018576\n",
            "19     \t [-0.53690685 -0.04647932]. \t  -13.567724082255037 \t -1.414545636018576\n",
            "20     \t [0.01005503 0.84393442]. \t  -72.1854579630901 \t -1.414545636018576\n"
          ]
        }
      ],
      "source": [
        "### Bayesian optimisation runs (x20): 'STP' Acquisition Function run number = 4 \n",
        "\n",
        "np.random.seed(run_num_4)\n",
        "surrogate_stp_4 = tStudentProcess(cov_func, nu = df, optimize=hyperOpt)\n",
        "\n",
        "stp_4 = GPGO(surrogate_stp_4, Acquisition_new(util_stp), f_syn_polarity, param, n_jobs = -1) # Define BayesOpt\n",
        "stp_4.run(max_iter = max_iter, init_evals = n_init) # run\n"
      ]
    },
    {
      "cell_type": "code",
      "execution_count": null,
      "metadata": {
        "id": "YdzaqIajJLlA",
        "colab": {
          "base_uri": "https://localhost:8080/"
        },
        "outputId": "2d1eb613-78f5-44d8-c0c5-9239da7e92b7"
      },
      "outputs": [
        {
          "output_type": "stream",
          "name": "stdout",
          "text": [
            "Evaluation \t Proposed point \t  Current eval. \t Best eval.\n",
            "init   \t [-1.13871597  1.51851953]. \t  -9.495646950867519 \t -9.495646950867519\n",
            "init   \t [-1.20127834  1.71463028]. \t  -12.220143873516523 \t -9.495646950867519\n",
            "init   \t [-0.04746777  0.45770286]. \t  -21.840629211931905 \t -9.495646950867519\n",
            "init   \t [1.08915858 0.07544008]. \t  -123.40146376592485 \t -9.495646950867519\n",
            "init   \t [-0.83230515 -1.27909385]. \t  -392.1670023300852 \t -9.495646950867519\n",
            "1      \t [2.048 2.048]. \t  -461.7603900415999 \t -9.495646950867519\n",
            "2      \t [ 2.048 -2.048]. \t  -3897.7342268415996 \t -9.495646950867519\n",
            "3      \t [-2.048       0.20929988]. \t  -1597.3160905830036 \t -9.495646950867519\n",
            "4      \t [0.14061283 2.048     ]. \t  -412.1094417207902 \t -9.495646950867519\n",
            "5      \t [-2.048 -2.048]. \t  -3905.9262268415996 \t -9.495646950867519\n",
            "6      \t [-2.048  2.048]. \t  -469.9523900415999 \t -9.495646950867519\n",
            "7      \t [ 0.15307083 -0.96056029]. \t  -97.54111168187552 \t -9.495646950867519\n",
            "8      \t [2.048      0.62864156]. \t  -1272.493168609486 \t -9.495646950867519\n",
            "9      \t [-0.03427443 -0.15710009]. \t  \u001b[92m-3.5748157425043803\u001b[0m \t -3.5748157425043803\n",
            "10     \t [-0.07240049  0.93736192]. \t  -88.03482905197089 \t -3.5748157425043803\n",
            "11     \t [-0.16982999 -2.048     ]. \t  -432.69586521775506 \t -3.5748157425043803\n",
            "12     \t [0.87724219 0.98866574]. \t  -4.816070684612239 \t -3.5748157425043803\n",
            "13     \t [1.15990051 2.048     ]. \t  -49.39457424070056 \t -3.5748157425043803\n",
            "14     \t [-0.74985883 -0.27841757]. \t  -73.74063497331076 \t -3.5748157425043803\n",
            "15     \t [-0.3609605  -0.95327265]. \t  -119.26355373976078 \t -3.5748157425043803\n",
            "16     \t [0.56581756 0.15560128]. \t  \u001b[92m-2.8961264968437743\u001b[0m \t -2.8961264968437743\n",
            "17     \t [ 0.91757465 -0.59831035]. \t  -207.43983418173946 \t -2.8961264968437743\n",
            "18     \t [-0.7766012   0.61968725]. \t  -3.1837942464261983 \t -2.8961264968437743\n",
            "19     \t [-0.82145421  2.048     ]. \t  -191.88908527919153 \t -2.8961264968437743\n",
            "20     \t [ 0.04480713 -0.06564017]. \t  \u001b[92m-1.370016559620455\u001b[0m \t -1.370016559620455\n"
          ]
        }
      ],
      "source": [
        "### Bayesian optimisation runs (x20): 'STP' Acquisition Function run number = 5 \n",
        "\n",
        "np.random.seed(run_num_5)\n",
        "surrogate_stp_5 = tStudentProcess(cov_func, nu = df, optimize=hyperOpt)\n",
        "\n",
        "stp_5 = GPGO(surrogate_stp_5, Acquisition_new(util_stp), f_syn_polarity, param, n_jobs = -1) # Define BayesOpt\n",
        "stp_5.run(max_iter = max_iter, init_evals = n_init) # run\n"
      ]
    },
    {
      "cell_type": "code",
      "execution_count": null,
      "metadata": {
        "id": "_KSBbC1zJLlA",
        "colab": {
          "base_uri": "https://localhost:8080/"
        },
        "outputId": "3347e18f-8c3f-4896-f29e-f911043d9e47"
      },
      "outputs": [
        {
          "output_type": "stream",
          "name": "stdout",
          "text": [
            "Evaluation \t Proposed point \t  Current eval. \t Best eval.\n",
            "init   \t [ 1.60915518 -0.68821072]. \t  -1074.6314195925434 \t -3.0269049669752817\n",
            "init   \t [ 1.31575449 -1.87721062]. \t  -1302.169546932896 \t -3.0269049669752817\n",
            "init   \t [-1.60703824  0.38933325]. \t  -487.8262244570432 \t -3.0269049669752817\n",
            "init   \t [ 0.12213192 -0.33256477]. \t  -12.844955340992902 \t -3.0269049669752817\n",
            "init   \t [-0.67416945  0.50183959]. \t  -3.0269049669752817 \t -3.0269049669752817\n",
            "1      \t [0.53873482 2.048     ]. \t  -309.1864738088584 \t -3.0269049669752817\n",
            "2      \t [-2.048 -2.048]. \t  -3905.9262268415996 \t -3.0269049669752817\n",
            "3      \t [-2.048  2.048]. \t  -469.9523900415999 \t -3.0269049669752817\n",
            "4      \t [2.048 2.048]. \t  -461.7603900415999 \t -3.0269049669752817\n",
            "5      \t [0.34575834 0.78185358]. \t  -44.292790852386325 \t -3.0269049669752817\n",
            "6      \t [-0.62523855  2.048     ]. \t  -277.23173730518846 \t -3.0269049669752817\n",
            "7      \t [2.048      0.81364805]. \t  -1143.9817712765773 \t -3.0269049669752817\n",
            "8      \t [-0.2229595   0.24013939]. \t  -5.121929571963842 \t -3.0269049669752817\n",
            "9      \t [-0.08114571 -1.51158296]. \t  -231.65215795058134 \t -3.0269049669752817\n",
            "10     \t [-0.3091188   1.22229531]. \t  -128.66829378788051 \t -3.0269049669752817\n",
            "11     \t [-0.5766999  -0.59606167]. \t  -88.72403262385014 \t -3.0269049669752817\n",
            "12     \t [-1.25628594  1.30257038]. \t  -12.690992149003272 \t -3.0269049669752817\n",
            "13     \t [1.01374537 1.42215464]. \t  -15.56123853719132 \t -3.0269049669752817\n",
            "14     \t [-0.07767175 -0.83613567]. \t  -72.08616678607741 \t -3.0269049669752817\n",
            "15     \t [1.28085472 2.048     ]. \t  -16.677267245223042 \t -3.0269049669752817\n",
            "16     \t [0.88107389 0.43355226]. \t  -11.761140869876133 \t -3.0269049669752817\n",
            "17     \t [-0.89443627  1.12191266]. \t  -13.950618835973605 \t -3.0269049669752817\n",
            "18     \t [-1.31300192  2.048     ]. \t  -15.849260830477231 \t -3.0269049669752817\n",
            "19     \t [ 0.17975432 -2.048     ]. \t  -433.4424449925462 \t -3.0269049669752817\n",
            "20     \t [-0.07569419  0.2767124 ]. \t  -8.50028534838539 \t -3.0269049669752817\n"
          ]
        }
      ],
      "source": [
        "### Bayesian optimisation runs (x20): 'STP' Acquisition Function run number = 6 \n",
        "\n",
        "np.random.seed(run_num_6)\n",
        "surrogate_stp_6 = tStudentProcess(cov_func, nu = df, optimize=hyperOpt)\n",
        "\n",
        "stp_6 = GPGO(surrogate_stp_6, Acquisition_new(util_stp), f_syn_polarity, param, n_jobs = -1) # Define BayesOpt\n",
        "stp_6.run(max_iter = max_iter, init_evals = n_init) # run\n"
      ]
    },
    {
      "cell_type": "code",
      "execution_count": null,
      "metadata": {
        "id": "WB64BgXFJLlB",
        "colab": {
          "base_uri": "https://localhost:8080/"
        },
        "outputId": "39f2f4da-fffa-4404-bbea-64121e0fbb3f"
      },
      "outputs": [
        {
          "output_type": "stream",
          "name": "stdout",
          "text": [
            "Evaluation \t Proposed point \t  Current eval. \t Best eval.\n",
            "init   \t [-1.73544125  1.14654737]. \t  -355.3830807157107 \t -74.10242381766855\n",
            "init   \t [-0.25227579  0.91531337]. \t  -74.10242381766855 \t -74.10242381766855\n",
            "init   \t [1.95784504 0.15767909]. \t  -1351.8314081149692 \t -74.10242381766855\n",
            "init   \t [ 0.00458942 -1.75287856]. \t  -308.2565501886822 \t -74.10242381766855\n",
            "init   \t [-9.48473938e-01 -4.81276619e-04]. \t  -84.81168700546641 \t -74.10242381766855\n",
            "1      \t [-2.048 -2.048]. \t  -3905.9262268415996 \t -74.10242381766855\n",
            "2      \t [ 2.048 -2.048]. \t  -3897.7342268415996 \t -74.10242381766855\n",
            "3      \t [0.92018901 2.048     ]. \t  -144.30705112697842 \t -74.10242381766855\n",
            "4      \t [-0.65524994  2.048     ]. \t  -264.7418302053061 \t -74.10242381766855\n",
            "5      \t [2.048 2.048]. \t  -461.7603900415999 \t -74.10242381766855\n",
            "6      \t [-2.048  2.048]. \t  -469.9523900415999 \t -74.10242381766855\n",
            "7      \t [ 0.04029037 -0.24894912]. \t  \u001b[92m-7.199697072967178\u001b[0m \t -7.199697072967178\n",
            "8      \t [-2.048       0.27484863]. \t  -1545.5033462307122 \t -7.199697072967178\n",
            "9      \t [0.22482897 0.69715101]. \t  -42.4104268993546 \t -7.199697072967178\n",
            "10     \t [0.18348497 2.048     ]. \t  -406.4205480855021 \t -7.199697072967178\n",
            "11     \t [-0.51243614 -0.89223014]. \t  -135.64860306173418 \t -7.199697072967178\n",
            "12     \t [1.24259184 1.24264022]. \t  -9.14270152562797 \t -7.199697072967178\n",
            "13     \t [-0.39953173  0.11825681]. \t  \u001b[92m-2.129826789185481\u001b[0m \t -2.129826789185481\n",
            "14     \t [-1.09616116  1.34412918]. \t  -6.426224060447454 \t -2.129826789185481\n",
            "15     \t [ 0.27160577 -1.05662412]. \t  -128.30957542447186 \t -2.129826789185481\n",
            "16     \t [0.68631347 1.36133275]. \t  -79.36297907764468 \t -2.129826789185481\n",
            "17     \t [0.00538592 0.02257563]. \t  \u001b[92m-1.040092165165339\u001b[0m \t -1.040092165165339\n",
            "18     \t [0.80015162 0.06182939]. \t  -33.49612528157359 \t -1.040092165165339\n",
            "19     \t [-0.97133167  0.71074785]. \t  -9.302816067749289 \t -1.040092165165339\n",
            "20     \t [0.74195659 0.71657497]. \t  -2.8246902609662787 \t -1.040092165165339\n"
          ]
        }
      ],
      "source": [
        "### Bayesian optimisation runs (x20): 'STP' Acquisition Function run number = 7 \n",
        "\n",
        "np.random.seed(run_num_7)\n",
        "surrogate_stp_7 = tStudentProcess(cov_func, nu = df, optimize=hyperOpt)\n",
        "\n",
        "stp_7 = GPGO(surrogate_stp_7, Acquisition_new(util_stp), f_syn_polarity, param, n_jobs = -1) # Define BayesOpt\n",
        "stp_7.run(max_iter = max_iter, init_evals = n_init) # run\n"
      ]
    },
    {
      "cell_type": "code",
      "execution_count": null,
      "metadata": {
        "id": "yCh1YYTlJLlB",
        "colab": {
          "base_uri": "https://localhost:8080/"
        },
        "outputId": "6cf0b049-3830-40e0-fc6d-27578375c12d"
      },
      "outputs": [
        {
          "output_type": "stream",
          "name": "stdout",
          "text": [
            "Evaluation \t Proposed point \t  Current eval. \t Best eval.\n",
            "init   \t [1.52956683 1.91914255]. \t  -17.95675982372887 \t -1.7663579664225912\n",
            "init   \t [1.51222084 0.12638491]. \t  -467.0068292530542 \t -1.7663579664225912\n",
            "init   \t [-1.09474477 -2.0013105 ]. \t  -1028.244988519411 \t -1.7663579664225912\n",
            "init   \t [-0.28479972 -0.39996883]. \t  -24.79447905426233 \t -1.7663579664225912\n",
            "init   \t [ 0.09287545 -0.0885072 ]. \t  -1.7663579664225912 \t -1.7663579664225912\n",
            "1      \t [-1.12367833  1.16939348]. \t  -5.379743192543796 \t -1.7663579664225912\n",
            "2      \t [ 2.048 -2.048]. \t  -3897.7342268415996 \t -1.7663579664225912\n",
            "3      \t [-2.048  2.048]. \t  -469.9523900415999 \t -1.7663579664225912\n",
            "4      \t [0.09237685 2.048     ]. \t  -416.7661476152455 \t -1.7663579664225912\n",
            "5      \t [-2.048      -0.00507692]. \t  -1772.7703113412836 \t -1.7663579664225912\n",
            "6      \t [2.048 2.048]. \t  -461.7603900415999 \t -1.7663579664225912\n",
            "7      \t [0.14215177 0.79807553]. \t  -61.243829796572435 \t -1.7663579664225912\n",
            "8      \t [-0.05731027  0.67485885]. \t  -46.219120166938936 \t -1.7663579664225912\n",
            "9      \t [-0.85606173  2.048     ]. \t  -176.40910443916079 \t -1.7663579664225912\n",
            "10     \t [1.6470134  1.10353883]. \t  -259.34351375384296 \t -1.7663579664225912\n",
            "11     \t [ 0.14542911 -1.22799892]. \t  -156.76750165761806 \t -1.7663579664225912\n",
            "12     \t [0.97488044 1.53824347]. \t  -34.55758054721584 \t -1.7663579664225912\n",
            "13     \t [-0.60565863  1.35545012]. \t  -100.31661956522525 \t -1.7663579664225912\n",
            "14     \t [1.09243865 2.048     ]. \t  -73.03886587848767 \t -1.7663579664225912\n",
            "15     \t [-0.02866445 -2.048     ]. \t  -420.8251662553299 \t -1.7663579664225912\n",
            "16     \t [0.86906818 0.60510198]. \t  -2.272472057165231 \t -1.7663579664225912\n",
            "17     \t [-0.32033778 -1.13905347]. \t  -155.91767290514983 \t -1.7663579664225912\n",
            "18     \t [-1.33434185  1.5466722 ]. \t  -10.915207217586502 \t -1.7663579664225912\n",
            "19     \t [ 0.24157752 -0.14397789]. \t  -4.66925475008602 \t -1.7663579664225912\n",
            "20     \t [ 0.01295154 -0.65232457]. \t  -43.54888642299222 \t -1.7663579664225912\n"
          ]
        }
      ],
      "source": [
        "### Bayesian optimisation runs (x20): 'STP' Acquisition Function run number = 8 \n",
        "\n",
        "np.random.seed(run_num_8)\n",
        "surrogate_stp_8 = tStudentProcess(cov_func, nu = df, optimize=hyperOpt)\n",
        "\n",
        "stp_8 = GPGO(surrogate_stp_8, Acquisition_new(util_stp), f_syn_polarity, param, n_jobs = -1) # Define BayesOpt\n",
        "stp_8.run(max_iter = max_iter, init_evals = n_init) # run\n"
      ]
    },
    {
      "cell_type": "code",
      "execution_count": null,
      "metadata": {
        "id": "IDhy8DkEJLlC",
        "colab": {
          "base_uri": "https://localhost:8080/"
        },
        "outputId": "331cf221-40cf-4ea9-e2db-3e8f34bc7a91"
      },
      "outputs": [
        {
          "output_type": "stream",
          "name": "stdout",
          "text": [
            "Evaluation \t Proposed point \t  Current eval. \t Best eval.\n",
            "init   \t [-2.00550747  0.00767833]. \t  -1620.5592513107108 \t -132.4681822844375\n",
            "init   \t [-0.01731259 -1.49983425]. \t  -226.0751192637302 \t -132.4681822844375\n",
            "init   \t [-1.46591299 -1.15278366]. \t  -1096.1928272344956 \t -132.4681822844375\n",
            "init   \t [-0.33379049 -1.03177761]. \t  -132.4681822844375 \t -132.4681822844375\n",
            "init   \t [-1.70369167 -0.63283757]. \t  -1257.2172959284223 \t -132.4681822844375\n",
            "1      \t [0.87794999 0.23986923]. \t  \u001b[92m-28.203239569757038\u001b[0m \t -28.203239569757038\n",
            "2      \t [2.048 2.048]. \t  -461.7603900415999 \t -28.203239569757038\n",
            "3      \t [ 2.048 -2.048]. \t  -3897.7342268415996 \t -28.203239569757038\n",
            "4      \t [-0.3273882  2.048    ]. \t  -378.43900818725035 \t -28.203239569757038\n",
            "5      \t [-2.048  2.048]. \t  -469.9523900415999 \t -28.203239569757038\n",
            "6      \t [2.048      0.50931507]. \t  -1359.012648959772 \t -28.203239569757038\n",
            "7      \t [0.04413646 0.54813917]. \t  -30.746151239703227 \t -28.203239569757038\n",
            "8      \t [0.84051344 2.048     ]. \t  -179.99762828288394 \t -28.203239569757038\n",
            "9      \t [ 0.39763725 -0.48372496]. \t  -41.55874439148326 \t -28.203239569757038\n",
            "10     \t [0.68079852 1.13114031]. \t  -44.67803404239039 \t -28.203239569757038\n",
            "11     \t [-0.48425791 -2.048     ]. \t  -523.1862600072291 \t -28.203239569757038\n",
            "12     \t [0.38538615 0.22085626]. \t  \u001b[92m-0.9009676351745971\u001b[0m \t -0.9009676351745971\n",
            "13     \t [-0.92129215  1.27034852]. \t  -21.46343055348605 \t -0.9009676351745971\n",
            "14     \t [-0.68065161  0.26011559]. \t  -6.952436390564728 \t -0.9009676351745971\n",
            "15     \t [-1.2156216  2.048    ]. \t  -37.4290951814801 \t -0.9009676351745971\n",
            "16     \t [-2.048 -2.048]. \t  -3905.9262268415996 \t -0.9009676351745971\n",
            "17     \t [1.29917239 1.52175041]. \t  -2.848374771013295 \t -0.9009676351745971\n",
            "18     \t [ 0.97471947 -0.44151372]. \t  -193.65340541589455 \t -0.9009676351745971\n",
            "19     \t [1.38212671 2.048     ]. \t  -2.042858994929442 \t -0.9009676351745971\n",
            "20     \t [-0.03993152 -0.19696922]. \t  -5.024213830440795 \t -0.9009676351745971\n"
          ]
        }
      ],
      "source": [
        "### Bayesian optimisation runs (x20): 'STP' Acquisition Function run number = 9 \n",
        "\n",
        "np.random.seed(run_num_9)\n",
        "surrogate_stp_9 = tStudentProcess(cov_func, nu = df, optimize=hyperOpt)\n",
        "\n",
        "stp_9 = GPGO(surrogate_stp_9, Acquisition_new(util_stp), f_syn_polarity, param, n_jobs = -1) # Define BayesOpt\n",
        "stp_9.run(max_iter = max_iter, init_evals = n_init) # run\n"
      ]
    },
    {
      "cell_type": "code",
      "execution_count": null,
      "metadata": {
        "id": "RqwHOur5JLlC",
        "colab": {
          "base_uri": "https://localhost:8080/"
        },
        "outputId": "499d5c66-d200-4856-92f8-487871d381c2"
      },
      "outputs": [
        {
          "output_type": "stream",
          "name": "stdout",
          "text": [
            "Evaluation \t Proposed point \t  Current eval. \t Best eval.\n",
            "init   \t [ 1.11132935 -1.96300002]. \t  -1022.7666615237944 \t -26.382363522743674\n",
            "init   \t [0.54742317 1.0191007 ]. \t  -51.962573317574716 \t -26.382363522743674\n",
            "init   \t [-0.00611528 -1.12723294]. \t  -128.08610911295406 \t -26.382363522743674\n",
            "init   \t [-1.23673451  1.0671338 ]. \t  -26.382363522743674 \t -26.382363522743674\n",
            "init   \t [-1.35532201 -1.68616012]. \t  -1246.7412252563456 \t -26.382363522743674\n",
            "1      \t [2.048 2.048]. \t  -461.7603900415999 \t -26.382363522743674\n",
            "2      \t [-2.048  2.048]. \t  -469.9523900415999 \t -26.382363522743674\n",
            "3      \t [2.048      0.06588695]. \t  -1705.4810371317435 \t -26.382363522743674\n",
            "4      \t [-0.07550934  2.048     ]. \t  -418.2549713566172 \t -26.382363522743674\n",
            "5      \t [-0.46300625  0.25703929]. \t  \u001b[92m-2.3224132929460004\u001b[0m \t -2.3224132929460004\n",
            "6      \t [-2.048       0.29809638]. \t  -1527.3336869185425 \t -2.3224132929460004\n",
            "7      \t [-0.07658109  0.49204485]. \t  -24.796144549197265 \t -2.3224132929460004\n",
            "8      \t [-0.16919082  0.78907069]. \t  -59.19469002718235 \t -2.3224132929460004\n",
            "9      \t [1.0226226 2.048    ]. \t  -100.4496170920305 \t -2.3224132929460004\n",
            "10     \t [ 0.14904554 -0.45655389]. \t  -23.64604767824889 \t -2.3224132929460004\n",
            "11     \t [-1.13170899  1.80686076]. \t  -32.2218325402823 \t -2.3224132929460004\n",
            "12     \t [-0.32384228 -0.53255042]. \t  -42.383525201772116 \t -2.3224132929460004\n",
            "13     \t [1.19816899 1.43481423]. \t  \u001b[92m-0.03933410393635744\u001b[0m \t -0.03933410393635744\n",
            "14     \t [-0.9168651   1.26900604]. \t  -22.02398009268545 \t -0.03933410393635744\n",
            "15     \t [0.83277849 1.55076974]. \t  -73.5156719625625 \t -0.03933410393635744\n",
            "16     \t [-1.31846051  1.48000808]. \t  -12.048699423870294 \t -0.03933410393635744\n",
            "17     \t [-0.12491389 -0.15708082]. \t  -4.247417983351065 \t -0.03933410393635744\n",
            "18     \t [1.02206951 1.13306938]. \t  -0.7827088860076119 \t -0.03933410393635744\n",
            "19     \t [-0.06320596  0.76916136]. \t  -59.67836377563704 \t -0.03933410393635744\n",
            "20     \t [-0.83767488  0.76328419]. \t  -3.756319968355204 \t -0.03933410393635744\n"
          ]
        }
      ],
      "source": [
        "### Bayesian optimisation runs (x20): 'STP' Acquisition Function run number = 10 \n",
        "\n",
        "np.random.seed(run_num_10)\n",
        "surrogate_stp_10 = tStudentProcess(cov_func, nu = df, optimize=hyperOpt)\n",
        "\n",
        "stp_10 = GPGO(surrogate_stp_10, Acquisition_new(util_stp), f_syn_polarity, param, n_jobs = -1) # Define BayesOpt\n",
        "stp_10.run(max_iter = max_iter, init_evals = n_init) # run\n"
      ]
    },
    {
      "cell_type": "code",
      "execution_count": null,
      "metadata": {
        "id": "iXLW3-5DJLlD",
        "colab": {
          "base_uri": "https://localhost:8080/"
        },
        "outputId": "49561694-f9ad-4f9b-a25f-acd58ea90b11"
      },
      "outputs": [
        {
          "output_type": "stream",
          "name": "stdout",
          "text": [
            "Evaluation \t Proposed point \t  Current eval. \t Best eval.\n",
            "init   \t [-1.30961535 -1.96822941]. \t  -1362.0202619238294 \t -4.533376036769996\n",
            "init   \t [-0.15065692  0.92132937]. \t  -82.0779347186456 \t -4.533376036769996\n",
            "init   \t [-0.32684604 -0.05969061]. \t  -4.533376036769996 \t -4.533376036769996\n",
            "init   \t [-1.99564978 -0.0517259 ]. \t  -1636.5670319859503 \t -4.533376036769996\n",
            "init   \t [1.80964005 1.43685669]. \t  -338.45801473698816 \t -4.533376036769996\n",
            "1      \t [ 2.048      -1.71922406]. \t  -3498.0797166397965 \t -4.533376036769996\n",
            "2      \t [-1.27196015  2.048     ]. \t  -23.66189962656452 \t -4.533376036769996\n",
            "3      \t [0.2707895 2.048    ]. \t  -390.46511251215543 \t -4.533376036769996\n",
            "4      \t [-2.048  2.048]. \t  -469.9523900415999 \t -4.533376036769996\n",
            "5      \t [0.70428831 0.29343795]. \t  \u001b[92m-4.191476075231778\u001b[0m \t -4.191476075231778\n",
            "6      \t [2.048 2.048]. \t  -461.7603900415999 \t -4.191476075231778\n",
            "7      \t [2.048      0.37211905]. \t  -1462.0080854206637 \t -4.191476075231778\n",
            "8      \t [0.09960238 0.04430557]. \t  \u001b[92m-0.928948286656594\u001b[0m \t -0.928948286656594\n",
            "9      \t [-0.07437191 -1.16371701]. \t  -137.86840837835598 \t -0.928948286656594\n",
            "10     \t [0.8405065  1.15451309]. \t  -20.10138693353349 \t -0.928948286656594\n",
            "11     \t [ 0.10067639 -2.048     ]. \t  -424.4010535197053 \t -0.928948286656594\n",
            "12     \t [-1.12177493  1.24452136]. \t  -4.521132284779825 \t -0.928948286656594\n",
            "13     \t [-0.69842011  1.74147042]. \t  -160.05592772397696 \t -0.928948286656594\n",
            "14     \t [1.22269056 2.048     ]. \t  -30.633565736672757 \t -0.928948286656594\n",
            "15     \t [-0.74714793  0.6239344 ]. \t  -3.4842322674434 \t -0.928948286656594\n",
            "16     \t [0.52012087 0.59005833]. \t  -10.440392735436388 \t -0.928948286656594\n",
            "17     \t [ 0.33728468 -0.62762711]. \t  -55.404818767891435 \t -0.928948286656594\n",
            "18     \t [-0.12262321 -0.54982033]. \t  -33.16660163998058 \t -0.928948286656594\n",
            "19     \t [1.06814954 0.86919239]. \t  -7.389507492638798 \t -0.928948286656594\n",
            "20     \t [0.09274751 0.35419   ]. \t  -12.766206815390554 \t -0.928948286656594\n"
          ]
        }
      ],
      "source": [
        "### Bayesian optimisation runs (x20): 'STP' Acquisition Function run number = 11 \n",
        "\n",
        "np.random.seed(run_num_11)\n",
        "surrogate_stp_11 = tStudentProcess(cov_func, nu = df, optimize=hyperOpt)\n",
        "\n",
        "stp_11 = GPGO(surrogate_stp_11, Acquisition_new(util_stp), f_syn_polarity, param, n_jobs = -1) # Define BayesOpt\n",
        "stp_11.run(max_iter = max_iter, init_evals = n_init) # run\n"
      ]
    },
    {
      "cell_type": "code",
      "execution_count": null,
      "metadata": {
        "id": "Sv5SygMbJLlD",
        "colab": {
          "base_uri": "https://localhost:8080/"
        },
        "outputId": "1577be11-6f4a-4c5d-d036-0e859d750475"
      },
      "outputs": [
        {
          "output_type": "stream",
          "name": "stdout",
          "text": [
            "Evaluation \t Proposed point \t  Current eval. \t Best eval.\n",
            "init   \t [-1.416549    0.98324356]. \t  -110.56781423235984 \t -68.14456326432247\n",
            "init   \t [-0.9694617   0.13819656]. \t  -68.14456326432247 \t -68.14456326432247\n",
            "init   \t [-1.98830095  1.71518775]. \t  -509.86279959563035 \t -68.14456326432247\n",
            "init   \t [ 1.64132804 -1.91110583]. \t  -2121.0723550229873 \t -68.14456326432247\n",
            "init   \t [ 1.87166448 -1.48599062]. \t  -2489.890190157968 \t -68.14456326432247\n",
            "1      \t [0.79479069 2.048     ]. \t  -200.63487846824577 \t -68.14456326432247\n",
            "2      \t [-2.048 -2.048]. \t  -3905.9262268415996 \t -68.14456326432247\n",
            "3      \t [2.048      1.22576783]. \t  -882.3190060842575 \t -68.14456326432247\n",
            "4      \t [0.13155791 0.75590192]. \t  \u001b[92m-55.30636623798565\u001b[0m \t -55.30636623798565\n",
            "5      \t [-0.4651604  2.048    ]. \t  -337.6320042020847 \t -55.30636623798565\n",
            "6      \t [-2.048       0.23134386]. \t  -1579.795609863954 \t -55.30636623798565\n",
            "7      \t [ 0.01696787 -0.74618061]. \t  -56.687877683911445 \t -55.30636623798565\n",
            "8      \t [ 0.01868398 -2.048     ]. \t  -420.5363809933983 \t -55.30636623798565\n",
            "9      \t [-0.62149475  0.90855836]. \t  \u001b[92m-29.909248727565092\u001b[0m \t -29.909248727565092\n",
            "10     \t [0.84596014 0.08669275]. \t  -39.582269618612536 \t -29.909248727565092\n",
            "11     \t [-0.04771663  0.01415083]. \t  \u001b[92m-1.1118092075836123\u001b[0m \t -1.1118092075836123\n",
            "12     \t [1.01297005 0.92064671]. \t  -1.1123835386471137 \t -1.1118092075836123\n",
            "13     \t [-0.56778288 -0.74103479]. \t  -115.54249094583749 \t -1.1118092075836123\n",
            "14     \t [-1.3137561  2.048    ]. \t  -15.72476001673219 \t -1.1118092075836123\n",
            "15     \t [1.82703948 2.048     ]. \t  -167.1128932177201 \t -1.1118092075836123\n",
            "16     \t [-1.1249523   1.51274166]. \t  -10.627392208961936 \t -1.1118092075836123\n",
            "17     \t [0.68173779 0.5064788 ]. \t  \u001b[92m-0.27528314450991204\u001b[0m \t -0.27528314450991204\n",
            "18     \t [0.72700142 1.35891055]. \t  -69.02753677050292 \t -0.27528314450991204\n",
            "19     \t [-0.09384103  0.18685088]. \t  -4.366481196116042 \t -0.27528314450991204\n",
            "20     \t [-0.0314402  0.3599383]. \t  -13.948365728994276 \t -0.27528314450991204\n"
          ]
        }
      ],
      "source": [
        "### Bayesian optimisation runs (x20): 'STP' Acquisition Function run number = 12\n",
        "\n",
        "np.random.seed(run_num_12)\n",
        "surrogate_stp_12 = tStudentProcess(cov_func, nu = df, optimize=hyperOpt)\n",
        "\n",
        "stp_12 = GPGO(surrogate_stp_12, Acquisition_new(util_stp), f_syn_polarity, param, n_jobs = -1) # Define BayesOpt\n",
        "stp_12.run(max_iter = max_iter, init_evals = n_init) # run\n"
      ]
    },
    {
      "cell_type": "code",
      "execution_count": null,
      "metadata": {
        "id": "NSskozWHJLlE",
        "colab": {
          "base_uri": "https://localhost:8080/"
        },
        "outputId": "fbdb4712-c455-4b3a-9ec3-9b3ca8e4ac7a"
      },
      "outputs": [
        {
          "output_type": "stream",
          "name": "stdout",
          "text": [
            "Evaluation \t Proposed point \t  Current eval. \t Best eval.\n",
            "init   \t [ 1.13746907 -1.07503116]. \t  -561.1720108286133 \t -2.166231627813885\n",
            "init   \t [1.32824487 1.90770872]. \t  -2.166231627813885 \t -2.166231627813885\n",
            "init   \t [ 1.93577416 -0.19067188]. \t  -1551.5761879230556 \t -2.166231627813885\n",
            "init   \t [0.44663793 1.1285566 ]. \t  -86.6235326520391 \t -2.166231627813885\n",
            "init   \t [0.58004826 0.90938667]. \t  -33.00131633274188 \t -2.166231627813885\n",
            "1      \t [-1.74994322  0.98397938]. \t  -439.5043759438344 \t -2.166231627813885\n",
            "2      \t [-2.048 -2.048]. \t  -3905.9262268415996 \t -2.166231627813885\n",
            "3      \t [-0.4144037  2.048    ]. \t  -354.0392875646862 \t -2.166231627813885\n",
            "4      \t [2.048 2.048]. \t  -461.7603900415999 \t -2.166231627813885\n",
            "5      \t [-0.28014996 -0.32732949]. \t  -18.10724319925357 \t -2.166231627813885\n",
            "6      \t [ 2.048 -2.048]. \t  -3897.7342268415996 \t -2.166231627813885\n",
            "7      \t [ 0.09580299 -1.74673349]. \t  -309.1401622872044 \t -2.166231627813885\n",
            "8      \t [-2.048  2.048]. \t  -469.9523900415999 \t -2.166231627813885\n",
            "9      \t [-0.43709601  0.35504047]. \t  -4.754436535370286 \t -2.166231627813885\n",
            "10     \t [ 0.52803882 -0.39813583]. \t  -46.050344394001435 \t -2.166231627813885\n",
            "11     \t [-2.048      -0.06025891]. \t  -1819.4208559838562 \t -2.166231627813885\n",
            "12     \t [1.59794131 1.19420187]. \t  -185.10395577967478 \t -2.166231627813885\n",
            "13     \t [-1.05535265  1.42898069]. \t  -14.160302069443144 \t -2.166231627813885\n",
            "14     \t [ 0.311506   -1.07721545]. \t  -138.36066747329386 \t -2.166231627813885\n",
            "15     \t [0.71624219 2.048     ]. \t  -235.70213691477142 \t -2.166231627813885\n",
            "16     \t [-1.26641796  2.048     ]. \t  -24.86673127747646 \t -2.166231627813885\n",
            "17     \t [1.05769007 1.40089452]. \t  -7.966235115106962 \t -2.166231627813885\n",
            "18     \t [0.06601576 0.17331986]. \t  -3.7271348254593417 \t -2.166231627813885\n",
            "19     \t [ 0.49173824 -2.048     ]. \t  -524.579710248489 \t -2.166231627813885\n",
            "20     \t [-1.41830829  1.65596289]. \t  -18.49587589607229 \t -2.166231627813885\n"
          ]
        }
      ],
      "source": [
        "### Bayesian optimisation runs (x20): 'STP' Acquisition Function run number = 13 \n",
        "\n",
        "np.random.seed(run_num_13)\n",
        "surrogate_stp_13 = tStudentProcess(cov_func, nu = df, optimize=hyperOpt)\n",
        "\n",
        "stp_13 = GPGO(surrogate_stp_13, Acquisition_new(util_stp), f_syn_polarity, param, n_jobs = -1) # Define BayesOpt\n",
        "stp_13.run(max_iter = max_iter, init_evals = n_init) # run\n"
      ]
    },
    {
      "cell_type": "code",
      "execution_count": null,
      "metadata": {
        "id": "aM5FQ3ibJLlE",
        "colab": {
          "base_uri": "https://localhost:8080/"
        },
        "outputId": "3cb596ca-d8c1-436a-d4d9-3df087d86a70"
      },
      "outputs": [
        {
          "output_type": "stream",
          "name": "stdout",
          "text": [
            "Evaluation \t Proposed point \t  Current eval. \t Best eval.\n",
            "init   \t [0.05711194 1.11888405]. \t  -125.35034508047823 \t -56.7252447162893\n",
            "init   \t [ 1.5172718 -2.0150397]. \t  -1864.0489319378007 \t -56.7252447162893\n",
            "init   \t [-0.77932165  1.87434492]. \t  -163.6955655658878 \t -56.7252447162893\n",
            "init   \t [ 0.05372605 -0.744307  ]. \t  -56.7252447162893 \t -56.7252447162893\n",
            "init   \t [ 0.16056294 -1.14173976]. \t  -137.01499974575526 \t -56.7252447162893\n",
            "1      \t [-1.93542934 -1.24521385]. \t  -2499.725246872047 \t -56.7252447162893\n",
            "2      \t [2.048 2.048]. \t  -461.7603900415999 \t -56.7252447162893\n",
            "3      \t [-2.048  2.048]. \t  -469.9523900415999 \t -56.7252447162893\n",
            "4      \t [2.048      0.29096623]. \t  -1524.7028772335782 \t -56.7252447162893\n",
            "5      \t [0.41196319 2.048     ]. \t  -353.14173953228095 \t -56.7252447162893\n",
            "6      \t [-1.15318847  0.7072201 ]. \t  \u001b[92m-43.40222851564992\u001b[0m \t -43.40222851564992\n",
            "7      \t [-0.34220583 -2.048     ]. \t  -470.5694075719844 \t -43.40222851564992\n",
            "8      \t [-2.048       0.86997313]. \t  -1114.407876497133 \t -43.40222851564992\n",
            "9      \t [-0.46464146  0.36281886]. \t  \u001b[92m-4.303933940761352\u001b[0m \t -4.303933940761352\n",
            "10     \t [-0.71548585  1.09277637]. \t  -36.68230477437817 \t -4.303933940761352\n",
            "11     \t [ 0.52495516 -0.0606921 ]. \t  -11.533420647320964 \t -4.303933940761352\n",
            "12     \t [0.9341962 1.1213321]. \t  -6.185001631818012 \t -4.303933940761352\n",
            "13     \t [0.54105758 0.58545615]. \t  -8.778709262460723 \t -4.303933940761352\n",
            "14     \t [1.23562196 2.048     ]. \t  -27.224462446560022 \t -4.303933940761352\n",
            "15     \t [-1.31968919  2.048     ]. \t  -14.770305983315335 \t -4.303933940761352\n",
            "16     \t [0.97031583 1.59756171]. \t  -43.040895524965435 \t -4.303933940761352\n",
            "17     \t [ 0.52434088 -0.66572589]. \t  -88.7102334163454 \t -4.303933940761352\n",
            "18     \t [ 0.17661783 -0.06782014]. \t  \u001b[92m-1.6583353258543378\u001b[0m \t -1.6583353258543378\n",
            "19     \t [-0.7659637   0.65759193]. \t  -3.6211887267486293 \t -1.6583353258543378\n",
            "20     \t [-0.04838693  0.35661809]. \t  -13.650320164237545 \t -1.6583353258543378\n"
          ]
        }
      ],
      "source": [
        "### Bayesian optimisation runs (x20): 'STP' Acquisition Function run number = 14 \n",
        "\n",
        "np.random.seed(run_num_14)\n",
        "surrogate_stp_14 = tStudentProcess(cov_func, nu = df, optimize=hyperOpt)\n",
        "\n",
        "stp_14 = GPGO(surrogate_stp_14, Acquisition_new(util_stp), f_syn_polarity, param, n_jobs = -1) # Define BayesOpt\n",
        "stp_14.run(max_iter = max_iter, init_evals = n_init) # run\n"
      ]
    },
    {
      "cell_type": "code",
      "execution_count": null,
      "metadata": {
        "id": "XmPTh2j_JLlF",
        "colab": {
          "base_uri": "https://localhost:8080/"
        },
        "outputId": "07e074fa-0ba1-4e47-c609-eaec9963e52d"
      },
      "outputs": [
        {
          "output_type": "stream",
          "name": "stdout",
          "text": [
            "Evaluation \t Proposed point \t  Current eval. \t Best eval.\n",
            "init   \t [ 1.42875729 -1.31524229]. \t  -1126.8532605124637 \t -56.02298763074632\n",
            "init   \t [-1.82532827 -0.56713852]. \t  -1528.1728177033635 \t -56.02298763074632\n",
            "init   \t [-0.9199578   0.12288092]. \t  -56.02298763074632 \t -56.02298763074632\n",
            "init   \t [-0.79495612 -0.80087302]. \t  -208.52154958515655 \t -56.02298763074632\n",
            "init   \t [-1.59030773 -1.02441364]. \t  -1269.4404638957562 \t -56.02298763074632\n",
            "1      \t [0.02850607 1.03742348]. \t  -108.40001302039568 \t -56.02298763074632\n",
            "2      \t [2.048 2.048]. \t  -461.7603900415999 \t -56.02298763074632\n",
            "3      \t [-2.048  2.048]. \t  -469.9523900415999 \t -56.02298763074632\n",
            "4      \t [ 0.04853896 -0.18282475]. \t  \u001b[92m-4.334470401173434\u001b[0m \t -4.334470401173434\n",
            "5      \t [-0.35150179 -2.048     ]. \t  -473.3910221684677 \t -4.334470401173434\n",
            "6      \t [-0.11801244  2.048     ]. \t  -414.99527481581265 \t -4.334470401173434\n",
            "7      \t [0.17648502 0.35125103]. \t  -10.924838031347514 \t -4.334470401173434\n",
            "8      \t [2.048      0.52704747]. \t  -1345.975348777213 \t -4.334470401173434\n",
            "9      \t [-0.37410612  0.26722891]. \t  \u001b[92m-3.508022560791093\u001b[0m \t -3.508022560791093\n",
            "10     \t [-1.12720534  1.08325699]. \t  -8.034438506210972 \t -3.508022560791093\n",
            "11     \t [-2.048       1.05628694]. \t  -994.0054123812574 \t -3.508022560791093\n",
            "12     \t [-0.60054372  0.84146953]. \t  -25.680216590395172 \t -3.508022560791093\n",
            "13     \t [-1.12681988  2.048     ]. \t  -65.09486511121938 \t -3.508022560791093\n",
            "14     \t [0.90377848 1.25992173]. \t  -19.643568179743227 \t -3.508022560791093\n",
            "15     \t [1.06176114 2.048     ]. \t  -84.76590218853121 \t -3.508022560791093\n",
            "16     \t [-0.14343718 -0.91221714]. \t  -88.31742102097078 \t -3.508022560791093\n",
            "17     \t [0.67680755 0.71635546]. \t  -6.775671036909598 \t -3.508022560791093\n",
            "18     \t [-0.99180262  1.48326502]. \t  -28.926552050993095 \t -3.508022560791093\n",
            "19     \t [-0.36220917 -0.35444481]. \t  -25.440263337827147 \t -3.508022560791093\n",
            "20     \t [-0.28567131  0.25923051]. \t  -4.8079229831592 \t -3.508022560791093\n"
          ]
        }
      ],
      "source": [
        "### Bayesian optimisation runs (x20): 'STP' Acquisition Function run number = 15 \n",
        "\n",
        "np.random.seed(run_num_15)\n",
        "surrogate_stp_15 = tStudentProcess(cov_func, nu = df, optimize=hyperOpt)\n",
        "\n",
        "stp_15 = GPGO(surrogate_stp_15, Acquisition_new(util_stp), f_syn_polarity, param, n_jobs = -1) # Define BayesOpt\n",
        "stp_15.run(max_iter = max_iter, init_evals = n_init) # run\n"
      ]
    },
    {
      "cell_type": "code",
      "execution_count": null,
      "metadata": {
        "id": "6aUP_b73JLlG",
        "colab": {
          "base_uri": "https://localhost:8080/"
        },
        "outputId": "c9143513-12b8-44db-9bfb-a204b6d9fe9d"
      },
      "outputs": [
        {
          "output_type": "stream",
          "name": "stdout",
          "text": [
            "Evaluation \t Proposed point \t  Current eval. \t Best eval.\n",
            "init   \t [-1.13339974  0.09487705]. \t  -146.09426826423262 \t -146.09426826423262\n",
            "init   \t [ 0.20767317 -1.86121441]. \t  -363.27983894611043 \t -146.09426826423262\n",
            "init   \t [-0.57045469 -1.13426046]. \t  -215.5326110993483 \t -146.09426826423262\n",
            "init   \t [ 0.77302236 -1.37735608]. \t  -390.08228141599125 \t -146.09426826423262\n",
            "init   \t [-1.75994935  1.80638048]. \t  -174.29606237276562 \t -146.09426826423262\n",
            "1      \t [2.048 2.048]. \t  -461.7603900415999 \t -146.09426826423262\n",
            "2      \t [-2.048 -2.048]. \t  -3905.9262268415996 \t -146.09426826423262\n",
            "3      \t [0.33356164 0.85937374]. \t  \u001b[92m-56.411053087449744\u001b[0m \t -56.411053087449744\n",
            "4      \t [ 2.048      -0.08629829]. \t  -1833.4538965665977 \t -56.411053087449744\n",
            "5      \t [-0.15698113  2.048     ]. \t  -410.73592938445745 \t -56.411053087449744\n",
            "6      \t [ 2.048 -2.048]. \t  -3897.7342268415996 \t -56.411053087449744\n",
            "7      \t [-2.048       0.70223016]. \t  -1228.7482763842577 \t -56.411053087449744\n",
            "8      \t [-0.02703076 -0.19074672]. \t  \u001b[92m-4.7211510739205504\u001b[0m \t -4.7211510739205504\n",
            "9      \t [-0.0957856  -0.16790043]. \t  \u001b[92m-4.336312573817125\u001b[0m \t -4.336312573817125\n",
            "10     \t [-0.75721785  1.14586698]. \t  -35.86207801331577 \t -4.336312573817125\n",
            "11     \t [1.01150301 2.048     ]. \t  -105.03427426101074 \t -4.336312573817125\n",
            "12     \t [1.29965245 1.22261521]. \t  -21.850269902319475 \t -4.336312573817125\n",
            "13     \t [ 0.13114236 -1.03129308]. \t  -110.6883356295122 \t -4.336312573817125\n",
            "14     \t [-1.1618425  2.048    ]. \t  -53.41099796543186 \t -4.336312573817125\n",
            "15     \t [0.89998552 0.30526484]. \t  -25.48313006737194 \t -4.336312573817125\n",
            "16     \t [-2.048  2.048]. \t  -469.9523900415999 \t -4.336312573817125\n",
            "17     \t [-0.95065675 -0.53314929]. \t  -210.2725166010676 \t -4.336312573817125\n",
            "18     \t [ 0.80026394 -0.51533435]. \t  -133.61725406223354 \t -4.336312573817125\n",
            "19     \t [0.85389625 1.33308586]. \t  -36.49654978511875 \t -4.336312573817125\n",
            "20     \t [-0.02901743  0.33378851]. \t  -12.14421393794956 \t -4.336312573817125\n"
          ]
        }
      ],
      "source": [
        "### Bayesian optimisation runs (x20): 'STP' Acquisition Function run number = 16 \n",
        "\n",
        "np.random.seed(run_num_16)\n",
        "surrogate_stp_16 = tStudentProcess(cov_func, nu = df, optimize=hyperOpt)\n",
        "\n",
        "stp_16 = GPGO(surrogate_stp_16, Acquisition_new(util_stp), f_syn_polarity, param, n_jobs = -1) # Define BayesOpt\n",
        "stp_16.run(max_iter = max_iter, init_evals = n_init) # run\n"
      ]
    },
    {
      "cell_type": "code",
      "execution_count": null,
      "metadata": {
        "id": "TV8_B_7cJLlH",
        "colab": {
          "base_uri": "https://localhost:8080/"
        },
        "outputId": "121d5220-d499-4a6e-ea85-227e7249d865"
      },
      "outputs": [
        {
          "output_type": "stream",
          "name": "stdout",
          "text": [
            "Evaluation \t Proposed point \t  Current eval. \t Best eval.\n",
            "init   \t [-0.84105215  0.12528335]. \t  -37.27181038922863 \t -0.19652774971866602\n",
            "init   \t [-1.26353086 -1.76988013]. \t  -1138.381976578598 \t -0.19652774971866602\n",
            "init   \t [1.17549244 0.64034211]. \t  -55.004181467935105 \t -0.19652774971866602\n",
            "init   \t [0.56328559 0.30966945]. \t  -0.19652774971866602 \t -0.19652774971866602\n",
            "init   \t [-1.8879983  -0.58239548]. \t  -1728.0458971940702 \t -0.19652774971866602\n",
            "1      \t [-0.58900316  1.92206156]. \t  -250.63053605725392 \t -0.19652774971866602\n",
            "2      \t [ 2.048 -2.048]. \t  -3897.7342268415996 \t -0.19652774971866602\n",
            "3      \t [2.048 2.048]. \t  -461.7603900415999 \t -0.19652774971866602\n",
            "4      \t [-2.048  2.048]. \t  -469.9523900415999 \t -0.19652774971866602\n",
            "5      \t [0.57124459 2.048     ]. \t  -296.6019009736309 \t -0.19652774971866602\n",
            "6      \t [2.048      0.49989728]. \t  -1365.9624038475138 \t -0.19652774971866602\n",
            "7      \t [-0.10514809  0.72292518]. \t  -51.8971075357069 \t -0.19652774971866602\n",
            "8      \t [ 0.15348652 -0.27048947]. \t  -9.362983428210036 \t -0.19652774971866602\n",
            "9      \t [-0.03370133  0.64262862]. \t  -42.219844486557044 \t -0.19652774971866602\n",
            "10     \t [-0.0421678 -2.048    ]. \t  -421.24514934303437 \t -0.19652774971866602\n",
            "11     \t [-1.60024003  0.99999089]. \t  -250.3638119109548 \t -0.19652774971866602\n",
            "12     \t [0.87367405 1.2467555 ]. \t  -23.38826635218215 \t -0.19652774971866602\n",
            "13     \t [-0.30995603 -0.96663456]. \t  -114.65066554995775 \t -0.19652774971866602\n",
            "14     \t [-0.92086389  0.92788924]. \t  -4.328102209792096 \t -0.19652774971866602\n",
            "15     \t [-0.36671019 -0.22913974]. \t  -15.089563719057772 \t -0.19652774971866602\n",
            "16     \t [ 0.26773063 -1.08930765]. \t  -135.3253788219611 \t -0.19652774971866602\n",
            "17     \t [-0.61546798  0.45280945]. \t  -3.157464305940109 \t -0.19652774971866602\n",
            "18     \t [0.12455213 0.16146581]. \t  -2.8966245131791544 \t -0.19652774971866602\n",
            "19     \t [1.3279889 2.048    ]. \t  -8.198500361097246 \t -0.19652774971866602\n",
            "20     \t [0.07933786 0.2640506 ]. \t  -7.491439722581388 \t -0.19652774971866602\n"
          ]
        }
      ],
      "source": [
        "### Bayesian optimisation runs (x20): 'STP' Acquisition Function run number = 17 \n",
        "\n",
        "np.random.seed(run_num_17)\n",
        "surrogate_stp_17 = tStudentProcess(cov_func, nu = df, optimize=hyperOpt)\n",
        "\n",
        "stp_17 = GPGO(surrogate_stp_17, Acquisition_new(util_stp), f_syn_polarity, param, n_jobs = -1) # Define BayesOpt\n",
        "stp_17.run(max_iter = max_iter, init_evals = n_init) # run\n"
      ]
    },
    {
      "cell_type": "code",
      "execution_count": null,
      "metadata": {
        "id": "57ABzGR1JLlI",
        "colab": {
          "base_uri": "https://localhost:8080/"
        },
        "outputId": "818a5894-5604-41ed-b49e-133a38b1c7ff"
      },
      "outputs": [
        {
          "output_type": "stream",
          "name": "stdout",
          "text": [
            "Evaluation \t Proposed point \t  Current eval. \t Best eval.\n",
            "init   \t [0.61593289 0.02233702]. \t  -12.895000300241685 \t -12.895000300241685\n",
            "init   \t [ 1.55075162 -1.30318244]. \t  -1375.2393970855524 \t -12.895000300241685\n",
            "init   \t [1.44274665 1.02455823]. \t  -111.91239818238155 \t -12.895000300241685\n",
            "init   \t [0.68035243 1.99841976]. \t  -235.89058418537797 \t -12.895000300241685\n",
            "init   \t [-0.99545734 -1.93205893]. \t  -858.3713873043706 \t -12.895000300241685\n",
            "1      \t [-2.048       1.41357526]. \t  -782.53553543379 \t -12.895000300241685\n",
            "2      \t [2.048 2.048]. \t  -461.7603900415999 \t -12.895000300241685\n",
            "3      \t [-0.19226628  0.56320154]. \t  -29.113849361150564 \t -12.895000300241685\n",
            "4      \t [-2.048    -0.477538]. \t  -2191.9010757159735 \t -12.895000300241685\n",
            "5      \t [-0.47227649  2.048     ]. \t  -335.21364346122067 \t -12.895000300241685\n",
            "6      \t [0.46890803 0.73041333]. \t  -26.3470244693864 \t -12.895000300241685\n",
            "7      \t [2.048      0.53699211]. \t  -1338.6913275501074 \t -12.895000300241685\n",
            "8      \t [0.17301684 0.79128799]. \t  -58.64976479074861 \t -12.895000300241685\n",
            "9      \t [-0.01617374 -0.74589024]. \t  -56.70686492306955 \t -12.895000300241685\n",
            "10     \t [ 0.27846947 -2.048     ]. \t  -452.3148646641154 \t -12.895000300241685\n",
            "11     \t [ 0.07385536 -0.08049836]. \t  \u001b[92m-1.5965352158272443\u001b[0m \t -1.5965352158272443\n",
            "12     \t [-0.86372587  1.20526728]. \t  -24.564062384031292 \t -1.5965352158272443\n",
            "13     \t [1.18535833 1.5196955 ]. \t  \u001b[92m-1.3481581070455366\u001b[0m \t -1.3481581070455366\n",
            "14     \t [ 0.38424568 -0.68010203]. \t  -68.8956251388964 \t -1.3481581070455366\n",
            "15     \t [0.98069955 1.10091286]. \t  -1.9364016132752082 \t -1.3481581070455366\n",
            "16     \t [-1.43026255  2.048     ]. \t  -5.906727857578916 \t -1.3481581070455366\n",
            "17     \t [-2.048  2.048]. \t  -469.9523900415999 \t -1.3481581070455366\n",
            "18     \t [1.30219405 2.048     ]. \t  -12.502191117165006 \t -1.3481581070455366\n",
            "19     \t [-1.11444638  1.73971073]. \t  -29.243403412493464 \t -1.3481581070455366\n",
            "20     \t [0.34352762 0.18151878]. \t  \u001b[92m-0.8342769106958137\u001b[0m \t -0.8342769106958137\n"
          ]
        }
      ],
      "source": [
        "### Bayesian optimisation runs (x20): 'STP' Acquisition Function run number = 18 \n",
        "\n",
        "np.random.seed(run_num_18)\n",
        "surrogate_stp_18 = tStudentProcess(cov_func, nu = df, optimize=hyperOpt)\n",
        "\n",
        "stp_18 = GPGO(surrogate_stp_18, Acquisition_new(util_stp), f_syn_polarity, param, n_jobs = -1) # Define BayesOpt\n",
        "stp_18.run(max_iter = max_iter, init_evals = n_init) # run\n"
      ]
    },
    {
      "cell_type": "code",
      "execution_count": null,
      "metadata": {
        "id": "x2CyIorrJLlJ",
        "colab": {
          "base_uri": "https://localhost:8080/"
        },
        "outputId": "5eeca8f5-2a8d-4936-dde8-0b685392c66b"
      },
      "outputs": [
        {
          "output_type": "stream",
          "name": "stdout",
          "text": [
            "Evaluation \t Proposed point \t  Current eval. \t Best eval.\n",
            "init   \t [-1.64850237  1.07007884]. \t  -278.43400025820534 \t -57.78708636899354\n",
            "init   \t [-1.03654206 -1.48221261]. \t  -657.7842496298689 \t -57.78708636899354\n",
            "init   \t [-0.69039488 -1.70803378]. \t  -480.139610337942 \t -57.78708636899354\n",
            "init   \t [0.70441812 1.2558082 ]. \t  -57.78708636899354 \t -57.78708636899354\n",
            "init   \t [1.97731088 0.55566637]. \t  -1125.9484203106679 \t -57.78708636899354\n",
            "1      \t [ 2.048 -2.048]. \t  -3897.7342268415996 \t -57.78708636899354\n",
            "2      \t [-0.35708281  2.048     ]. \t  -370.6705761198553 \t -57.78708636899354\n",
            "3      \t [-0.24529347  0.19276381]. \t  \u001b[92m-3.3088972346810004\u001b[0m \t -3.3088972346810004\n",
            "4      \t [-2.048      -0.24591171]. \t  -1980.8418616867968 \t -3.3088972346810004\n",
            "5      \t [-2.048  2.048]. \t  -469.9523900415999 \t -3.3088972346810004\n",
            "6      \t [2.048 2.048]. \t  -461.7603900415999 \t -3.3088972346810004\n",
            "7      \t [-0.01591847  0.7875658 ]. \t  -63.018171493987346 \t -3.3088972346810004\n",
            "8      \t [-2.048 -2.048]. \t  -3905.9262268415996 \t -3.3088972346810004\n",
            "9      \t [-0.11466355 -0.89834112]. \t  -84.3236664039273 \t -3.3088972346810004\n",
            "10     \t [ 0.32236377 -0.20954724]. \t  -10.28526165517606 \t -3.3088972346810004\n",
            "11     \t [0.83666851 2.048     ]. \t  -181.73325150272464 \t -3.3088972346810004\n",
            "12     \t [-1.09276447  1.52226777]. \t  -15.146827921522387 \t -3.3088972346810004\n",
            "13     \t [-0.69193127 -0.66233847]. \t  -133.07523012269064 \t -3.3088972346810004\n",
            "14     \t [0.72128856 0.50707686]. \t  \u001b[92m-0.09505214581000246\u001b[0m \t -0.09505214581000246\n",
            "15     \t [-0.89553968  0.81755325]. \t  -3.6172880585313916 \t -0.09505214581000246\n",
            "16     \t [1.33449913 1.51853212]. \t  -6.994945811181845 \t -0.09505214581000246\n",
            "17     \t [-1.22398701  2.048     ]. \t  -35.18025814845485 \t -0.09505214581000246\n",
            "18     \t [1.37559642 2.048     ]. \t  -2.566395421532599 \t -0.09505214581000246\n",
            "19     \t [ 0.12421866 -2.048     ]. \t  -426.54144263765244 \t -0.09505214581000246\n",
            "20     \t [-0.06515867 -0.01536822]. \t  -1.1730334068040387 \t -0.09505214581000246\n"
          ]
        }
      ],
      "source": [
        "### Bayesian optimisation runs (x20): 'STP' Acquisition Function run number = 19 \n",
        "\n",
        "np.random.seed(run_num_19)\n",
        "surrogate_stp_19 = tStudentProcess(cov_func, nu = df, optimize=hyperOpt)\n",
        "\n",
        "stp_19 = GPGO(surrogate_stp_19, Acquisition_new(util_stp), f_syn_polarity, param, n_jobs = -1) # Define BayesOpt\n",
        "stp_19.run(max_iter = max_iter, init_evals = n_init) # run\n"
      ]
    },
    {
      "cell_type": "code",
      "execution_count": null,
      "metadata": {
        "id": "4O6_IplWJLlJ",
        "colab": {
          "base_uri": "https://localhost:8080/"
        },
        "outputId": "9a3b8571-08d9-48a2-f092-11eeecbfe1b8"
      },
      "outputs": [
        {
          "output_type": "stream",
          "name": "stdout",
          "text": [
            "Evaluation \t Proposed point \t  Current eval. \t Best eval.\n",
            "init   \t [0.36098376 1.62903543]. \t  -225.0263501192369 \t -5.168692520381821\n",
            "init   \t [1.60370987 1.29367031]. \t  -163.7478327754951 \t -5.168692520381821\n",
            "init   \t [-1.90099626  0.78543905]. \t  -808.3708592256118 \t -5.168692520381821\n",
            "init   \t [-0.49692286  0.07582083]. \t  -5.168692520381821 \t -5.168692520381821\n",
            "init   \t [ 0.6469692  -1.25398951]. \t  -279.86987688431674 \t -5.168692520381821\n",
            "1      \t [-2.048 -2.048]. \t  -3905.9262268415996 \t -5.168692520381821\n",
            "2      \t [ 2.048 -2.048]. \t  -3897.7342268415996 \t -5.168692520381821\n",
            "3      \t [0.75407617 0.14431854]. \t  -18.06457435100652 \t -5.168692520381821\n",
            "4      \t [2.048 2.048]. \t  -461.7603900415999 \t -5.168692520381821\n",
            "5      \t [-1.00895374  2.048     ]. \t  -110.12844094926305 \t -5.168692520381821\n",
            "6      \t [2.048      0.33005814]. \t  -1494.337913826352 \t -5.168692520381821\n",
            "7      \t [-2.048  2.048]. \t  -469.9523900415999 \t -5.168692520381821\n",
            "8      \t [-0.06633653 -0.48302629]. \t  -24.89556422275126 \t -5.168692520381821\n",
            "9      \t [-0.0528539   0.72932039]. \t  -53.89262817892308 \t -5.168692520381821\n",
            "10     \t [0.15469669 2.048     ]. \t  -410.40004252631974 \t -5.168692520381821\n",
            "11     \t [ 0.00609957 -2.048     ]. \t  -420.4334772746945 \t -5.168692520381821\n",
            "12     \t [1.18081875 2.048     ]. \t  -42.760760996206265 \t -5.168692520381821\n",
            "13     \t [0.86720691 0.94967433]. \t  \u001b[92m-3.923257481976287\u001b[0m \t -3.923257481976287\n",
            "14     \t [-0.91322382  1.07374772]. \t  -9.409389722694971 \t -3.923257481976287\n",
            "15     \t [ 0.51427663 -0.5194157 ]. \t  -61.68524422327746 \t -3.923257481976287\n",
            "16     \t [-1.15870253 -0.34561072]. \t  -289.66268412263236 \t -3.923257481976287\n",
            "17     \t [-0.04541651 -1.26352329]. \t  -161.26367552865344 \t -3.923257481976287\n",
            "18     \t [-0.62282924  1.49033566]. \t  -124.16642761100353 \t -3.923257481976287\n",
            "19     \t [0.2938543  0.15160164]. \t  \u001b[92m-0.924414760145872\u001b[0m \t -0.924414760145872\n",
            "20     \t [-0.02676395  0.42918194]. \t  -19.412524243629168 \t -0.924414760145872\n"
          ]
        }
      ],
      "source": [
        "### Bayesian optimisation runs (x20): 'STP' Acquisition Function run number = 20 \n",
        "\n",
        "np.random.seed(run_num_20)\n",
        "surrogate_stp_20 = tStudentProcess(cov_func, nu = df, optimize=hyperOpt)\n",
        "\n",
        "stp_20 = GPGO(surrogate_stp_20, Acquisition_new(util_stp), f_syn_polarity, param, n_jobs = -1) # Define BayesOpt\n",
        "stp_20.run(max_iter = max_iter, init_evals = n_init) # run\n"
      ]
    },
    {
      "cell_type": "code",
      "execution_count": null,
      "metadata": {
        "id": "B9S2UvZ9JLlK",
        "colab": {
          "base_uri": "https://localhost:8080/"
        },
        "outputId": "97294ba1-6160-4ae1-fca7-330da50ccf76"
      },
      "outputs": [
        {
          "output_type": "execute_result",
          "data": {
            "text/plain": [
              "(-1.0730341353516124, -0.7343896648781388)"
            ]
          },
          "metadata": {},
          "execution_count": 49
        }
      ],
      "source": [
        "### Simple regret minimisation: run number = 1\n",
        "\n",
        "gp_output_1 = np.append(np.max(gp_1.GP.y[0:n_init]),gp_1.GP.y[n_init:(n_init+max_iter)]) \n",
        "stp_output_1 = np.append(np.max(stp_1.GP.y[0:n_init]),stp_1.GP.y[n_init:(n_init+max_iter)]) \n",
        "\n",
        "regret_gp_1 = np.log(y_global_orig - gp_output_1)\n",
        "regret_stp_1 = np.log(y_global_orig - stp_output_1)\n",
        "\n",
        "simple_regret_gp_1 = min_max_array(regret_gp_1)\n",
        "simple_regret_stp_1 = min_max_array(regret_stp_1)\n",
        "\n",
        "min_simple_regret_gp_1 = min(simple_regret_gp_1)\n",
        "min_simple_regret_stp_1 = min(simple_regret_stp_1)\n",
        "\n",
        "min_simple_regret_gp_1, min_simple_regret_stp_1\n"
      ]
    },
    {
      "cell_type": "code",
      "execution_count": null,
      "metadata": {
        "id": "adGcU8l5JLlK",
        "colab": {
          "base_uri": "https://localhost:8080/"
        },
        "outputId": "b9b22fec-5bb6-4b48-9dc9-0a6f8b2b23e1"
      },
      "outputs": [
        {
          "output_type": "execute_result",
          "data": {
            "text/plain": [
              "(1.696094286762818, 0.8593999788936736)"
            ]
          },
          "metadata": {},
          "execution_count": 50
        }
      ],
      "source": [
        "### Simple regret minimisation: run number = 2\n",
        "\n",
        "gp_output_2 = np.append(np.max(gp_2.GP.y[0:n_init]),gp_2.GP.y[n_init:(n_init+max_iter)]) \n",
        "stp_output_2 = np.append(np.max(stp_2.GP.y[0:n_init]),stp_2.GP.y[n_init:(n_init+max_iter)]) \n",
        "\n",
        "regret_gp_2 = np.log(y_global_orig - gp_output_2)\n",
        "regret_stp_2 = np.log(y_global_orig - stp_output_2)\n",
        "\n",
        "simple_regret_gp_2 = min_max_array(regret_gp_2)\n",
        "simple_regret_stp_2 = min_max_array(regret_stp_2)\n",
        "\n",
        "min_simple_regret_gp_2 = min(simple_regret_gp_2)\n",
        "min_simple_regret_stp_2 = min(simple_regret_stp_2)\n",
        "\n",
        "min_simple_regret_gp_2, min_simple_regret_stp_2\n"
      ]
    },
    {
      "cell_type": "code",
      "execution_count": null,
      "metadata": {
        "id": "1F9LaViaJLlL",
        "colab": {
          "base_uri": "https://localhost:8080/"
        },
        "outputId": "52f8d34b-0d5b-421a-8b0e-6c13d76a673f"
      },
      "outputs": [
        {
          "output_type": "execute_result",
          "data": {
            "text/plain": [
              "(3.0680927400030256, 0.6461079590440518)"
            ]
          },
          "metadata": {},
          "execution_count": 51
        }
      ],
      "source": [
        "### Simple regret minimisation: run number = 3\n",
        "\n",
        "gp_output_3 = np.append(np.max(gp_3.GP.y[0:n_init]),gp_3.GP.y[n_init:(n_init+max_iter)]) \n",
        "stp_output_3 = np.append(np.max(stp_3.GP.y[0:n_init]),stp_3.GP.y[n_init:(n_init+max_iter)]) \n",
        "\n",
        "regret_gp_3 = np.log(y_global_orig - gp_output_3)\n",
        "regret_stp_3 = np.log(y_global_orig - stp_output_3)\n",
        "\n",
        "simple_regret_gp_3 = min_max_array(regret_gp_3)\n",
        "simple_regret_stp_3 = min_max_array(regret_stp_3)\n",
        "\n",
        "min_simple_regret_gp_3 = min(simple_regret_gp_3)\n",
        "min_simple_regret_stp_3 = min(simple_regret_stp_3)\n",
        "\n",
        "min_simple_regret_gp_3, min_simple_regret_stp_3\n"
      ]
    },
    {
      "cell_type": "code",
      "execution_count": null,
      "metadata": {
        "id": "vThMylZmJLlL",
        "colab": {
          "base_uri": "https://localhost:8080/"
        },
        "outputId": "5fdba533-14aa-4b78-bf57-19049b1d3d88"
      },
      "outputs": [
        {
          "output_type": "execute_result",
          "data": {
            "text/plain": [
              "(1.4767248253671934, 0.34680837424263383)"
            ]
          },
          "metadata": {},
          "execution_count": 52
        }
      ],
      "source": [
        "### Simple regret minimisation: run number = 4\n",
        "\n",
        "gp_output_4 = np.append(np.max(gp_4.GP.y[0:n_init]),gp_4.GP.y[n_init:(n_init+max_iter)]) \n",
        "stp_output_4 = np.append(np.max(stp_4.GP.y[0:n_init]),stp_4.GP.y[n_init:(n_init+max_iter)]) \n",
        "\n",
        "regret_gp_4 = np.log(y_global_orig - gp_output_4)\n",
        "regret_stp_4 = np.log(y_global_orig - stp_output_4)\n",
        "\n",
        "simple_regret_gp_4 = min_max_array(regret_gp_4)\n",
        "simple_regret_stp_4 = min_max_array(regret_stp_4)\n",
        "\n",
        "min_simple_regret_gp_4 = min(simple_regret_gp_4)\n",
        "min_simple_regret_stp_4 = min(simple_regret_stp_4)\n",
        "\n",
        "min_simple_regret_gp_4, min_simple_regret_stp_4\n"
      ]
    },
    {
      "cell_type": "code",
      "execution_count": null,
      "metadata": {
        "id": "9Um6_WG7JLlM",
        "colab": {
          "base_uri": "https://localhost:8080/"
        },
        "outputId": "0abaecb6-48f5-424a-ca4c-58cceb48fa4c"
      },
      "outputs": [
        {
          "output_type": "execute_result",
          "data": {
            "text/plain": [
              "(0.8077335971406675, 0.31482282708118325)"
            ]
          },
          "metadata": {},
          "execution_count": 53
        }
      ],
      "source": [
        "### Simple regret minimisation: run number = 5\n",
        "\n",
        "gp_output_5 = np.append(np.max(gp_5.GP.y[0:n_init]),gp_5.GP.y[n_init:(n_init+max_iter)]) \n",
        "stp_output_5 = np.append(np.max(stp_5.GP.y[0:n_init]),stp_5.GP.y[n_init:(n_init+max_iter)]) \n",
        "\n",
        "regret_gp_5 = np.log(y_global_orig - gp_output_5)\n",
        "regret_stp_5 = np.log(y_global_orig - stp_output_5)\n",
        "\n",
        "simple_regret_gp_5 = min_max_array(regret_gp_5)\n",
        "simple_regret_stp_5 = min_max_array(regret_stp_5)\n",
        "\n",
        "min_simple_regret_gp_5 = min(simple_regret_gp_5)\n",
        "min_simple_regret_stp_5 = min(simple_regret_stp_5)\n",
        "\n",
        "min_simple_regret_gp_5, min_simple_regret_stp_5\n"
      ]
    },
    {
      "cell_type": "code",
      "execution_count": null,
      "metadata": {
        "id": "s7F8Y3b9JLlM",
        "colab": {
          "base_uri": "https://localhost:8080/"
        },
        "outputId": "e8654cbd-e67b-4080-af17-4e02aa8511c7"
      },
      "outputs": [
        {
          "output_type": "execute_result",
          "data": {
            "text/plain": [
              "(1.107540634427908, 1.107540634427908)"
            ]
          },
          "metadata": {},
          "execution_count": 54
        }
      ],
      "source": [
        "### Simple regret minimisation: run number = 6\n",
        "\n",
        "gp_output_6 = np.append(np.max(gp_6.GP.y[0:n_init]),gp_6.GP.y[n_init:(n_init+max_iter)]) \n",
        "stp_output_6 = np.append(np.max(stp_6.GP.y[0:n_init]),stp_6.GP.y[n_init:(n_init+max_iter)]) \n",
        "\n",
        "regret_gp_6 = np.log(y_global_orig - gp_output_6)\n",
        "regret_stp_6 = np.log(y_global_orig - stp_output_6)\n",
        "\n",
        "simple_regret_gp_6 = min_max_array(regret_gp_6)\n",
        "simple_regret_stp_6 = min_max_array(regret_stp_6)\n",
        "\n",
        "min_simple_regret_gp_6 = min(simple_regret_gp_6)\n",
        "min_simple_regret_stp_6 = min(simple_regret_stp_6)\n",
        "\n",
        "min_simple_regret_gp_6, min_simple_regret_stp_6\n"
      ]
    },
    {
      "cell_type": "code",
      "execution_count": null,
      "metadata": {
        "id": "FbMNex-gJLlN",
        "colab": {
          "base_uri": "https://localhost:8080/"
        },
        "outputId": "662962c3-813f-4d9a-fe8d-2dd1cca44fca"
      },
      "outputs": [
        {
          "output_type": "execute_result",
          "data": {
            "text/plain": [
              "(0.6582708934242117, 0.03930932957801742)"
            ]
          },
          "metadata": {},
          "execution_count": 55
        }
      ],
      "source": [
        "### Simple regret minimisation: run number = 7\n",
        "\n",
        "gp_output_7 = np.append(np.max(gp_7.GP.y[0:n_init]),gp_7.GP.y[n_init:(n_init+max_iter)]) \n",
        "stp_output_7 = np.append(np.max(stp_7.GP.y[0:n_init]),stp_7.GP.y[n_init:(n_init+max_iter)]) \n",
        "\n",
        "regret_gp_7 = np.log(y_global_orig - gp_output_7)\n",
        "regret_stp_7 = np.log(y_global_orig - stp_output_7)\n",
        "\n",
        "simple_regret_gp_7 = min_max_array(regret_gp_7)\n",
        "simple_regret_stp_7 = min_max_array(regret_stp_7)\n",
        "\n",
        "min_simple_regret_gp_7 = min(simple_regret_gp_7)\n",
        "min_simple_regret_stp_7 = min(simple_regret_stp_7)\n",
        "\n",
        "min_simple_regret_gp_7, min_simple_regret_stp_7\n"
      ]
    },
    {
      "cell_type": "code",
      "execution_count": null,
      "metadata": {
        "id": "yTxbjos2JLlN",
        "colab": {
          "base_uri": "https://localhost:8080/"
        },
        "outputId": "7e3aabd4-0fd0-440e-caa2-a88567236821"
      },
      "outputs": [
        {
          "output_type": "execute_result",
          "data": {
            "text/plain": [
              "(0.5689197806346428, 0.5689197806346428)"
            ]
          },
          "metadata": {},
          "execution_count": 56
        }
      ],
      "source": [
        "### Simple regret minimisation: run number = 8\n",
        "\n",
        "gp_output_8 = np.append(np.max(gp_8.GP.y[0:n_init]),gp_8.GP.y[n_init:(n_init+max_iter)]) \n",
        "stp_output_8 = np.append(np.max(stp_8.GP.y[0:n_init]),stp_8.GP.y[n_init:(n_init+max_iter)]) \n",
        "\n",
        "regret_gp_8 = np.log(y_global_orig - gp_output_8)\n",
        "regret_stp_8 = np.log(y_global_orig - stp_output_8)\n",
        "\n",
        "simple_regret_gp_8 = min_max_array(regret_gp_8)\n",
        "simple_regret_stp_8 = min_max_array(regret_stp_8)\n",
        "\n",
        "min_simple_regret_gp_8 = min(simple_regret_gp_8)\n",
        "min_simple_regret_stp_8 = min(simple_regret_stp_8)\n",
        "\n",
        "min_simple_regret_gp_8, min_simple_regret_stp_8\n"
      ]
    },
    {
      "cell_type": "code",
      "execution_count": null,
      "metadata": {
        "id": "iBuMpq59JLlO",
        "colab": {
          "base_uri": "https://localhost:8080/"
        },
        "outputId": "5c596769-c7c9-4002-b80c-1ce2cf9739d7"
      },
      "outputs": [
        {
          "output_type": "execute_result",
          "data": {
            "text/plain": [
              "(0.6904192487430019, -0.10428594302386056)"
            ]
          },
          "metadata": {},
          "execution_count": 57
        }
      ],
      "source": [
        "### Simple regret minimisation: run number = 9\n",
        "\n",
        "gp_output_9 = np.append(np.max(gp_9.GP.y[0:n_init]),gp_9.GP.y[n_init:(n_init+max_iter)]) \n",
        "stp_output_9 = np.append(np.max(stp_9.GP.y[0:n_init]),stp_9.GP.y[n_init:(n_init+max_iter)]) \n",
        "\n",
        "regret_gp_9 = np.log(y_global_orig - gp_output_9)\n",
        "regret_stp_9 = np.log(y_global_orig - stp_output_9)\n",
        "\n",
        "simple_regret_gp_9 = min_max_array(regret_gp_9)\n",
        "simple_regret_stp_9 = min_max_array(regret_stp_9)\n",
        "\n",
        "min_simple_regret_gp_9 = min(simple_regret_gp_9)\n",
        "min_simple_regret_stp_9 = min(simple_regret_stp_9)\n",
        "\n",
        "min_simple_regret_gp_9, min_simple_regret_stp_9\n"
      ]
    },
    {
      "cell_type": "code",
      "execution_count": null,
      "metadata": {
        "id": "MT-MYaKEJLlO",
        "colab": {
          "base_uri": "https://localhost:8080/"
        },
        "outputId": "fdd25780-8af9-40f8-a956-77ccfe691c1a"
      },
      "outputs": [
        {
          "output_type": "execute_result",
          "data": {
            "text/plain": [
              "(1.3494403693321055, -3.2356633517741873)"
            ]
          },
          "metadata": {},
          "execution_count": 58
        }
      ],
      "source": [
        "### Simple regret minimisation: run number = 10\n",
        "\n",
        "gp_output_10 = np.append(np.max(gp_10.GP.y[0:n_init]),gp_10.GP.y[n_init:(n_init+max_iter)]) \n",
        "stp_output_10 = np.append(np.max(stp_10.GP.y[0:n_init]),stp_10.GP.y[n_init:(n_init+max_iter)]) \n",
        "\n",
        "regret_gp_10 = np.log(y_global_orig - gp_output_10)\n",
        "regret_stp_10 = np.log(y_global_orig - stp_output_10)\n",
        "\n",
        "simple_regret_gp_10 = min_max_array(regret_gp_10)\n",
        "simple_regret_stp_10 = min_max_array(regret_stp_10)\n",
        "\n",
        "min_simple_regret_gp_10 = min(simple_regret_gp_10)\n",
        "min_simple_regret_stp_10 = min(simple_regret_stp_10)\n",
        "\n",
        "min_simple_regret_gp_10, min_simple_regret_stp_10\n"
      ]
    },
    {
      "cell_type": "code",
      "execution_count": null,
      "metadata": {
        "id": "JgXNMHBOJLlP",
        "colab": {
          "base_uri": "https://localhost:8080/"
        },
        "outputId": "7334b1e6-1020-4175-90fc-800c395bb9e3"
      },
      "outputs": [
        {
          "output_type": "execute_result",
          "data": {
            "text/plain": [
              "(1.5114669239052643, -0.07370220731876848)"
            ]
          },
          "metadata": {},
          "execution_count": 59
        }
      ],
      "source": [
        "### Simple regret minimisation: run number = 11\n",
        "\n",
        "gp_output_11 = np.append(np.max(gp_11.GP.y[0:n_init]),gp_11.GP.y[n_init:(n_init+max_iter)]) \n",
        "stp_output_11 = np.append(np.max(stp_11.GP.y[0:n_init]),stp_11.GP.y[n_init:(n_init+max_iter)]) \n",
        "\n",
        "regret_gp_11 = np.log(y_global_orig - gp_output_11)\n",
        "regret_stp_11 = np.log(y_global_orig - stp_output_11)\n",
        "\n",
        "simple_regret_gp_11 = min_max_array(regret_gp_11)\n",
        "simple_regret_stp_11 = min_max_array(regret_stp_11)\n",
        "\n",
        "min_simple_regret_gp_11 = min(simple_regret_gp_11)\n",
        "min_simple_regret_stp_11 = min(simple_regret_stp_11)\n",
        "\n",
        "min_simple_regret_gp_11, min_simple_regret_stp_11\n"
      ]
    },
    {
      "cell_type": "code",
      "execution_count": null,
      "metadata": {
        "id": "CNvnLAXOJLlQ",
        "colab": {
          "base_uri": "https://localhost:8080/"
        },
        "outputId": "fd5807be-cea5-47f8-f640-9e6d06cab421"
      },
      "outputs": [
        {
          "output_type": "execute_result",
          "data": {
            "text/plain": [
              "(3.7055969802776443, -1.2899550946072962)"
            ]
          },
          "metadata": {},
          "execution_count": 60
        }
      ],
      "source": [
        "### Simple regret minimisation: run number = 12\n",
        "\n",
        "gp_output_12 = np.append(np.max(gp_12.GP.y[0:n_init]),gp_12.GP.y[n_init:(n_init+max_iter)]) \n",
        "stp_output_12 = np.append(np.max(stp_12.GP.y[0:n_init]),stp_12.GP.y[n_init:(n_init+max_iter)]) \n",
        "\n",
        "regret_gp_12 = np.log(y_global_orig - gp_output_12)\n",
        "regret_stp_12 = np.log(y_global_orig - stp_output_12)\n",
        "\n",
        "simple_regret_gp_12 = min_max_array(regret_gp_12)\n",
        "simple_regret_stp_12 = min_max_array(regret_stp_12)\n",
        "\n",
        "min_simple_regret_gp_12 = min(simple_regret_gp_12)\n",
        "min_simple_regret_stp_12 = min(simple_regret_stp_12)\n",
        "\n",
        "min_simple_regret_gp_12, min_simple_regret_stp_12\n"
      ]
    },
    {
      "cell_type": "code",
      "execution_count": null,
      "metadata": {
        "id": "LccPP2SJJLlQ",
        "colab": {
          "base_uri": "https://localhost:8080/"
        },
        "outputId": "73e46506-2bdc-48af-d231-528dfd82f255"
      },
      "outputs": [
        {
          "output_type": "execute_result",
          "data": {
            "text/plain": [
              "(0.7729890809102185, 0.7729890809102185)"
            ]
          },
          "metadata": {},
          "execution_count": 61
        }
      ],
      "source": [
        "### Simple regret minimisation: run number = 13\n",
        "\n",
        "gp_output_13 = np.append(np.max(gp_13.GP.y[0:n_init]),gp_13.GP.y[n_init:(n_init+max_iter)]) \n",
        "stp_output_13 = np.append(np.max(stp_13.GP.y[0:n_init]),stp_13.GP.y[n_init:(n_init+max_iter)]) \n",
        "\n",
        "regret_gp_13 = np.log(y_global_orig - gp_output_13)\n",
        "regret_stp_13 = np.log(y_global_orig - stp_output_13)\n",
        "\n",
        "simple_regret_gp_13 = min_max_array(regret_gp_13)\n",
        "simple_regret_stp_13 = min_max_array(regret_stp_13)\n",
        "\n",
        "min_simple_regret_gp_13 = min(simple_regret_gp_13)\n",
        "min_simple_regret_stp_13 = min(simple_regret_stp_13)\n",
        "\n",
        "min_simple_regret_gp_13, min_simple_regret_stp_13\n"
      ]
    },
    {
      "cell_type": "code",
      "execution_count": null,
      "metadata": {
        "id": "OsCDbV_CJLlR",
        "colab": {
          "base_uri": "https://localhost:8080/"
        },
        "outputId": "4f30f943-82f3-4775-d1a9-9ac5baae6566"
      },
      "outputs": [
        {
          "output_type": "execute_result",
          "data": {
            "text/plain": [
              "(0.8579012049190373, 0.5058142834619284)"
            ]
          },
          "metadata": {},
          "execution_count": 62
        }
      ],
      "source": [
        "### Simple regret minimisation: run number = 14\n",
        "\n",
        "gp_output_14 = np.append(np.max(gp_14.GP.y[0:n_init]),gp_14.GP.y[n_init:(n_init+max_iter)]) \n",
        "stp_output_14 = np.append(np.max(stp_14.GP.y[0:n_init]),stp_14.GP.y[n_init:(n_init+max_iter)]) \n",
        "\n",
        "regret_gp_14 = np.log(y_global_orig - gp_output_14)\n",
        "regret_stp_14 = np.log(y_global_orig - stp_output_14)\n",
        "\n",
        "simple_regret_gp_14 = min_max_array(regret_gp_14)\n",
        "simple_regret_stp_14 = min_max_array(regret_stp_14)\n",
        "\n",
        "min_simple_regret_gp_14 = min(simple_regret_gp_14)\n",
        "min_simple_regret_stp_14 = min(simple_regret_stp_14)\n",
        "\n",
        "min_simple_regret_gp_14, min_simple_regret_stp_14\n"
      ]
    },
    {
      "cell_type": "code",
      "execution_count": null,
      "metadata": {
        "id": "HVNGSKzNJLlR",
        "colab": {
          "base_uri": "https://localhost:8080/"
        },
        "outputId": "4ab93fc7-e734-4ed5-9e1a-4781777c3457"
      },
      "outputs": [
        {
          "output_type": "execute_result",
          "data": {
            "text/plain": [
              "(1.3186090620220587, 1.2550525057295907)"
            ]
          },
          "metadata": {},
          "execution_count": 63
        }
      ],
      "source": [
        "### Simple regret minimisation: run number = 15\n",
        "\n",
        "gp_output_15 = np.append(np.max(gp_15.GP.y[0:n_init]),gp_15.GP.y[n_init:(n_init+max_iter)]) \n",
        "stp_output_15 = np.append(np.max(stp_15.GP.y[0:n_init]),stp_15.GP.y[n_init:(n_init+max_iter)]) \n",
        "\n",
        "regret_gp_15 = np.log(y_global_orig - gp_output_15)\n",
        "regret_stp_15 = np.log(y_global_orig - stp_output_15)\n",
        "\n",
        "simple_regret_gp_15 = min_max_array(regret_gp_15)\n",
        "simple_regret_stp_15 = min_max_array(regret_stp_15)\n",
        "\n",
        "min_simple_regret_gp_15 = min(simple_regret_gp_15)\n",
        "min_simple_regret_stp_15 = min(simple_regret_stp_15)\n",
        "\n",
        "min_simple_regret_gp_15, min_simple_regret_stp_15\n"
      ]
    },
    {
      "cell_type": "code",
      "execution_count": null,
      "metadata": {
        "id": "vFT0-DcpJLlS",
        "colab": {
          "base_uri": "https://localhost:8080/"
        },
        "outputId": "f64b0f16-5e67-41f7-f07d-828aec1eef06"
      },
      "outputs": [
        {
          "output_type": "execute_result",
          "data": {
            "text/plain": [
              "(1.4702367714111162, 1.467024349596581)"
            ]
          },
          "metadata": {},
          "execution_count": 64
        }
      ],
      "source": [
        "### Simple regret minimisation: run number = 16\n",
        "\n",
        "gp_output_16 = np.append(np.max(gp_16.GP.y[0:n_init]),gp_16.GP.y[n_init:(n_init+max_iter)]) \n",
        "stp_output_16 = np.append(np.max(stp_16.GP.y[0:n_init]),stp_16.GP.y[n_init:(n_init+max_iter)]) \n",
        "\n",
        "regret_gp_16 = np.log(y_global_orig - gp_output_16)\n",
        "regret_stp_16 = np.log(y_global_orig - stp_output_16)\n",
        "\n",
        "simple_regret_gp_16 = min_max_array(regret_gp_16)\n",
        "simple_regret_stp_16 = min_max_array(regret_stp_16)\n",
        "\n",
        "min_simple_regret_gp_16 = min(simple_regret_gp_16)\n",
        "min_simple_regret_stp_16 = min(simple_regret_stp_16)\n",
        "\n",
        "min_simple_regret_gp_16, min_simple_regret_stp_16\n"
      ]
    },
    {
      "cell_type": "code",
      "execution_count": null,
      "metadata": {
        "id": "TPbl73U3JLlS",
        "colab": {
          "base_uri": "https://localhost:8080/"
        },
        "outputId": "13ee2a68-010e-49c0-e426-d6968166ebf3"
      },
      "outputs": [
        {
          "output_type": "execute_result",
          "data": {
            "text/plain": [
              "(-1.6269516377010977, -1.6269516377010977)"
            ]
          },
          "metadata": {},
          "execution_count": 65
        }
      ],
      "source": [
        "### Simple regret minimisation: run number = 17\n",
        "\n",
        "gp_output_17 = np.append(np.max(gp_17.GP.y[0:n_init]),gp_17.GP.y[n_init:(n_init+max_iter)]) \n",
        "stp_output_17 = np.append(np.max(stp_17.GP.y[0:n_init]),stp_17.GP.y[n_init:(n_init+max_iter)]) \n",
        "\n",
        "regret_gp_17 = np.log(y_global_orig - gp_output_17)\n",
        "regret_stp_17 = np.log(y_global_orig - stp_output_17)\n",
        "\n",
        "simple_regret_gp_17 = min_max_array(regret_gp_17)\n",
        "simple_regret_stp_17 = min_max_array(regret_stp_17)\n",
        "\n",
        "min_simple_regret_gp_17 = min(simple_regret_gp_17)\n",
        "min_simple_regret_stp_17 = min(simple_regret_stp_17)\n",
        "\n",
        "min_simple_regret_gp_17, min_simple_regret_stp_17\n"
      ]
    },
    {
      "cell_type": "code",
      "execution_count": null,
      "metadata": {
        "id": "ANjpLP7uJLlT",
        "colab": {
          "base_uri": "https://localhost:8080/"
        },
        "outputId": "c8c12c8c-6a54-47a8-aa55-662e9dbdb8fe"
      },
      "outputs": [
        {
          "output_type": "execute_result",
          "data": {
            "text/plain": [
              "(2.556839662616882, -0.18118990451902153)"
            ]
          },
          "metadata": {},
          "execution_count": 66
        }
      ],
      "source": [
        "### Simple regret minimisation: run number = 18\n",
        "\n",
        "gp_output_18 = np.append(np.max(gp_18.GP.y[0:n_init]),gp_18.GP.y[n_init:(n_init+max_iter)]) \n",
        "stp_output_18 = np.append(np.max(stp_18.GP.y[0:n_init]),stp_18.GP.y[n_init:(n_init+max_iter)]) \n",
        "\n",
        "regret_gp_18 = np.log(y_global_orig - gp_output_18)\n",
        "regret_stp_18 = np.log(y_global_orig - stp_output_18)\n",
        "\n",
        "simple_regret_gp_18 = min_max_array(regret_gp_18)\n",
        "simple_regret_stp_18 = min_max_array(regret_stp_18)\n",
        "\n",
        "min_simple_regret_gp_18 = min(simple_regret_gp_18)\n",
        "min_simple_regret_stp_18 = min(simple_regret_stp_18)\n",
        "\n",
        "min_simple_regret_gp_18, min_simple_regret_stp_18\n"
      ]
    },
    {
      "cell_type": "code",
      "execution_count": null,
      "metadata": {
        "id": "yYy7bHMOJLlT",
        "colab": {
          "base_uri": "https://localhost:8080/"
        },
        "outputId": "4c680b81-89c3-4906-99b3-e7ce8d4b0e1b"
      },
      "outputs": [
        {
          "output_type": "execute_result",
          "data": {
            "text/plain": [
              "(3.034975917118661, -2.353329634710704)"
            ]
          },
          "metadata": {},
          "execution_count": 67
        }
      ],
      "source": [
        "### Simple regret minimisation: run number = 19\n",
        "\n",
        "gp_output_19 = np.append(np.max(gp_19.GP.y[0:n_init]),gp_19.GP.y[n_init:(n_init+max_iter)]) \n",
        "stp_output_19 = np.append(np.max(stp_19.GP.y[0:n_init]),stp_19.GP.y[n_init:(n_init+max_iter)]) \n",
        "\n",
        "regret_gp_19 = np.log(y_global_orig - gp_output_19)\n",
        "regret_stp_19 = np.log(y_global_orig - stp_output_19)\n",
        "\n",
        "simple_regret_gp_19 = min_max_array(regret_gp_19)\n",
        "simple_regret_stp_19 = min_max_array(regret_stp_19)\n",
        "\n",
        "min_simple_regret_gp_19 = min(simple_regret_gp_19)\n",
        "min_simple_regret_stp_19 = min(simple_regret_stp_19)\n",
        "\n",
        "min_simple_regret_gp_19, min_simple_regret_stp_19\n"
      ]
    },
    {
      "cell_type": "code",
      "execution_count": null,
      "metadata": {
        "id": "7h8DTQ7MJLlU",
        "colab": {
          "base_uri": "https://localhost:8080/"
        },
        "outputId": "c475bae8-75ed-4be9-f277-e28f59caeba9"
      },
      "outputs": [
        {
          "output_type": "execute_result",
          "data": {
            "text/plain": [
              "(1.4230267188765355, -0.07859443343778157)"
            ]
          },
          "metadata": {},
          "execution_count": 68
        }
      ],
      "source": [
        "### Simple regret minimisation: run number = 20\n",
        "\n",
        "gp_output_20 = np.append(np.max(gp_20.GP.y[0:n_init]),gp_20.GP.y[n_init:(n_init+max_iter)]) \n",
        "stp_output_20 = np.append(np.max(stp_20.GP.y[0:n_init]),stp_20.GP.y[n_init:(n_init+max_iter)]) \n",
        "\n",
        "regret_gp_20 = np.log(y_global_orig - gp_output_20)\n",
        "regret_stp_20 = np.log(y_global_orig - stp_output_20)\n",
        "\n",
        "simple_regret_gp_20 = min_max_array(regret_gp_20)\n",
        "simple_regret_stp_20 = min_max_array(regret_stp_20)\n",
        "\n",
        "min_simple_regret_gp_20 = min(simple_regret_gp_20)\n",
        "min_simple_regret_stp_20 = min(simple_regret_stp_20)\n",
        "\n",
        "min_simple_regret_gp_20, min_simple_regret_stp_20\n"
      ]
    },
    {
      "cell_type": "code",
      "execution_count": null,
      "metadata": {
        "id": "FuTVzVQkJLlU"
      },
      "outputs": [],
      "source": [
        "# Iteration1 :\n",
        "\n",
        "slice1 = 0\n",
        "\n",
        "gp1 = [simple_regret_gp_1[slice1],\n",
        "       simple_regret_gp_2[slice1],\n",
        "       simple_regret_gp_3[slice1],\n",
        "       simple_regret_gp_4[slice1],\n",
        "       simple_regret_gp_5[slice1],\n",
        "       simple_regret_gp_6[slice1],\n",
        "       simple_regret_gp_7[slice1],\n",
        "       simple_regret_gp_8[slice1],\n",
        "       simple_regret_gp_9[slice1],\n",
        "       simple_regret_gp_10[slice1],\n",
        "       simple_regret_gp_11[slice1],\n",
        "       simple_regret_gp_12[slice1],\n",
        "       simple_regret_gp_13[slice1],\n",
        "       simple_regret_gp_14[slice1],\n",
        "       simple_regret_gp_15[slice1],\n",
        "       simple_regret_gp_16[slice1],\n",
        "       simple_regret_gp_17[slice1],\n",
        "       simple_regret_gp_18[slice1],\n",
        "       simple_regret_gp_19[slice1],\n",
        "       simple_regret_gp_20[slice1]]\n",
        "\n",
        "stp1 = [simple_regret_stp_1[slice1],\n",
        "       simple_regret_stp_2[slice1],\n",
        "       simple_regret_stp_3[slice1],\n",
        "       simple_regret_stp_4[slice1],\n",
        "       simple_regret_stp_5[slice1],\n",
        "       simple_regret_stp_6[slice1],\n",
        "       simple_regret_stp_7[slice1],\n",
        "       simple_regret_stp_8[slice1],\n",
        "       simple_regret_stp_9[slice1],\n",
        "       simple_regret_stp_10[slice1],\n",
        "       simple_regret_stp_11[slice1],\n",
        "       simple_regret_stp_12[slice1],\n",
        "       simple_regret_stp_13[slice1],\n",
        "       simple_regret_stp_14[slice1],\n",
        "       simple_regret_stp_15[slice1],\n",
        "       simple_regret_stp_16[slice1],\n",
        "       simple_regret_stp_17[slice1],\n",
        "       simple_regret_stp_18[slice1],\n",
        "       simple_regret_stp_19[slice1],\n",
        "       simple_regret_stp_20[slice1]]\n",
        "\n",
        "gp1_results = pd.DataFrame(gp1).sort_values(by=[0], ascending=False)\n",
        "stp1_results = pd.DataFrame(stp1).sort_values(by=[0], ascending=False)\n",
        "\n",
        "### Best training regret minimization IQR - gp:\n",
        "lower_gp1 = np.asarray(gp1_results[4:5][0])[0]\n",
        "median_gp1 = np.asarray(gp1_results[9:10][0])[0]\n",
        "upper_gp1 = np.asarray(gp1_results[14:15][0])[0]\n",
        "\n",
        "lower_stp1 = np.asarray(stp1_results[4:5][0])[0]\n",
        "median_stp1 = np.asarray(stp1_results[9:10][0])[0]\n",
        "upper_stp1 = np.asarray(stp1_results[14:15][0])[0]\n"
      ]
    },
    {
      "cell_type": "code",
      "execution_count": null,
      "metadata": {
        "id": "OCTtqlBHJLlV"
      },
      "outputs": [],
      "source": [
        "# Iteration11 :\n",
        "\n",
        "slice11 = 10\n",
        "\n",
        "gp11 = [simple_regret_gp_1[slice11],\n",
        "       simple_regret_gp_2[slice11],\n",
        "       simple_regret_gp_3[slice11],\n",
        "       simple_regret_gp_4[slice11],\n",
        "       simple_regret_gp_5[slice11],\n",
        "       simple_regret_gp_6[slice11],\n",
        "       simple_regret_gp_7[slice11],\n",
        "       simple_regret_gp_8[slice11],\n",
        "       simple_regret_gp_9[slice11],\n",
        "       simple_regret_gp_10[slice11],\n",
        "       simple_regret_gp_11[slice11],\n",
        "       simple_regret_gp_12[slice11],\n",
        "       simple_regret_gp_13[slice11],\n",
        "       simple_regret_gp_14[slice11],\n",
        "       simple_regret_gp_15[slice11],\n",
        "       simple_regret_gp_16[slice11],\n",
        "       simple_regret_gp_17[slice11],\n",
        "       simple_regret_gp_18[slice11],\n",
        "       simple_regret_gp_19[slice11],\n",
        "       simple_regret_gp_20[slice11]]\n",
        "\n",
        "stp11 = [simple_regret_stp_1[slice11],\n",
        "       simple_regret_stp_2[slice11],\n",
        "       simple_regret_stp_3[slice11],\n",
        "       simple_regret_stp_4[slice11],\n",
        "       simple_regret_stp_5[slice11],\n",
        "       simple_regret_stp_6[slice11],\n",
        "       simple_regret_stp_7[slice11],\n",
        "       simple_regret_stp_8[slice11],\n",
        "       simple_regret_stp_9[slice11],\n",
        "       simple_regret_stp_10[slice11],\n",
        "       simple_regret_stp_11[slice11],\n",
        "       simple_regret_stp_12[slice11],\n",
        "       simple_regret_stp_13[slice11],\n",
        "       simple_regret_stp_14[slice11],\n",
        "       simple_regret_stp_15[slice11],\n",
        "       simple_regret_stp_16[slice11],\n",
        "       simple_regret_stp_17[slice11],\n",
        "       simple_regret_stp_18[slice11],\n",
        "       simple_regret_stp_19[slice11],\n",
        "       simple_regret_stp_20[slice11]]\n",
        "\n",
        "gp11_results = pd.DataFrame(gp11).sort_values(by=[0], ascending=False)\n",
        "stp11_results = pd.DataFrame(stp11).sort_values(by=[0], ascending=False)\n",
        "\n",
        "### Best training regret minimization IQR - gp:\n",
        "lower_gp11 = np.asarray(gp11_results[4:5][0])[0]\n",
        "median_gp11 = np.asarray(gp11_results[9:10][0])[0]\n",
        "upper_gp11 = np.asarray(gp11_results[14:15][0])[0]\n",
        "\n",
        "lower_stp11 = np.asarray(stp11_results[4:5][0])[0]\n",
        "median_stp11 = np.asarray(stp11_results[9:10][0])[0]\n",
        "upper_stp11 = np.asarray(stp11_results[14:15][0])[0]\n"
      ]
    },
    {
      "cell_type": "code",
      "execution_count": null,
      "metadata": {
        "id": "OhneK6K5JLlV"
      },
      "outputs": [],
      "source": [
        "# Iteration21 :\n",
        "\n",
        "slice21 = 20\n",
        "\n",
        "gp21 = [simple_regret_gp_1[slice21],\n",
        "       simple_regret_gp_2[slice21],\n",
        "       simple_regret_gp_3[slice21],\n",
        "       simple_regret_gp_4[slice21],\n",
        "       simple_regret_gp_5[slice21],\n",
        "       simple_regret_gp_6[slice21],\n",
        "       simple_regret_gp_7[slice21],\n",
        "       simple_regret_gp_8[slice21],\n",
        "       simple_regret_gp_9[slice21],\n",
        "       simple_regret_gp_10[slice21],\n",
        "       simple_regret_gp_11[slice21],\n",
        "       simple_regret_gp_12[slice21],\n",
        "       simple_regret_gp_13[slice21],\n",
        "       simple_regret_gp_14[slice21],\n",
        "       simple_regret_gp_15[slice21],\n",
        "       simple_regret_gp_16[slice21],\n",
        "       simple_regret_gp_17[slice21],\n",
        "       simple_regret_gp_18[slice21],\n",
        "       simple_regret_gp_19[slice21],\n",
        "       simple_regret_gp_20[slice21]]\n",
        "\n",
        "stp21 = [simple_regret_stp_1[slice21],\n",
        "       simple_regret_stp_2[slice21],\n",
        "       simple_regret_stp_3[slice21],\n",
        "       simple_regret_stp_4[slice21],\n",
        "       simple_regret_stp_5[slice21],\n",
        "       simple_regret_stp_6[slice21],\n",
        "       simple_regret_stp_7[slice21],\n",
        "       simple_regret_stp_8[slice21],\n",
        "       simple_regret_stp_9[slice21],\n",
        "       simple_regret_stp_10[slice21],\n",
        "       simple_regret_stp_11[slice21],\n",
        "       simple_regret_stp_12[slice21],\n",
        "       simple_regret_stp_13[slice21],\n",
        "       simple_regret_stp_14[slice21],\n",
        "       simple_regret_stp_15[slice21],\n",
        "       simple_regret_stp_16[slice21],\n",
        "       simple_regret_stp_17[slice21],\n",
        "       simple_regret_stp_18[slice21],\n",
        "       simple_regret_stp_19[slice21],\n",
        "       simple_regret_stp_20[slice21]]\n",
        "\n",
        "gp21_results = pd.DataFrame(gp21).sort_values(by=[0], ascending=False)\n",
        "stp21_results = pd.DataFrame(stp21).sort_values(by=[0], ascending=False)\n",
        "\n",
        "### Best training regret minimization IQR - gp:\n",
        "lower_gp21 = np.asarray(gp21_results[4:5][0])[0]\n",
        "median_gp21 = np.asarray(gp21_results[9:10][0])[0]\n",
        "upper_gp21 = np.asarray(gp21_results[14:15][0])[0]\n",
        "\n",
        "lower_stp21 = np.asarray(stp21_results[4:5][0])[0]\n",
        "median_stp21 = np.asarray(stp21_results[9:10][0])[0]\n",
        "upper_stp21 = np.asarray(stp21_results[14:15][0])[0]\n"
      ]
    },
    {
      "cell_type": "code",
      "execution_count": null,
      "metadata": {
        "id": "wetKUCmLJLlb"
      },
      "outputs": [],
      "source": [
        "# Iteration2 :\n",
        "\n",
        "slice2 = 1\n",
        "\n",
        "gp2 = [simple_regret_gp_1[slice2],\n",
        "       simple_regret_gp_2[slice2],\n",
        "       simple_regret_gp_3[slice2],\n",
        "       simple_regret_gp_4[slice2],\n",
        "       simple_regret_gp_5[slice2],\n",
        "       simple_regret_gp_6[slice2],\n",
        "       simple_regret_gp_7[slice2],\n",
        "       simple_regret_gp_8[slice2],\n",
        "       simple_regret_gp_9[slice2],\n",
        "       simple_regret_gp_10[slice2],\n",
        "       simple_regret_gp_11[slice2],\n",
        "       simple_regret_gp_12[slice2],\n",
        "       simple_regret_gp_13[slice2],\n",
        "       simple_regret_gp_14[slice2],\n",
        "       simple_regret_gp_15[slice2],\n",
        "       simple_regret_gp_16[slice2],\n",
        "       simple_regret_gp_17[slice2],\n",
        "       simple_regret_gp_18[slice2],\n",
        "       simple_regret_gp_19[slice2],\n",
        "       simple_regret_gp_20[slice2]]\n",
        "\n",
        "stp2 = [simple_regret_stp_1[slice2],\n",
        "       simple_regret_stp_2[slice2],\n",
        "       simple_regret_stp_3[slice2],\n",
        "       simple_regret_stp_4[slice2],\n",
        "       simple_regret_stp_5[slice2],\n",
        "       simple_regret_stp_6[slice2],\n",
        "       simple_regret_stp_7[slice2],\n",
        "       simple_regret_stp_8[slice2],\n",
        "       simple_regret_stp_9[slice2],\n",
        "       simple_regret_stp_10[slice2],\n",
        "       simple_regret_stp_11[slice2],\n",
        "       simple_regret_stp_12[slice2],\n",
        "       simple_regret_stp_13[slice2],\n",
        "       simple_regret_stp_14[slice2],\n",
        "       simple_regret_stp_15[slice2],\n",
        "       simple_regret_stp_16[slice2],\n",
        "       simple_regret_stp_17[slice2],\n",
        "       simple_regret_stp_18[slice2],\n",
        "       simple_regret_stp_19[slice2],\n",
        "       simple_regret_stp_20[slice2]]\n",
        "\n",
        "gp2_results = pd.DataFrame(gp2).sort_values(by=[0], ascending=False)\n",
        "stp2_results = pd.DataFrame(stp2).sort_values(by=[0], ascending=False)\n",
        "\n",
        "### Best training regret minimization IQR - gp:\n",
        "lower_gp2 = np.asarray(gp2_results[4:5][0])[0]\n",
        "median_gp2 = np.asarray(gp2_results[9:10][0])[0]\n",
        "upper_gp2 = np.asarray(gp2_results[14:15][0])[0]\n",
        "\n",
        "lower_stp2 = np.asarray(stp2_results[4:5][0])[0]\n",
        "median_stp2 = np.asarray(stp2_results[9:10][0])[0]\n",
        "upper_stp2 = np.asarray(stp2_results[14:15][0])[0]\n"
      ]
    },
    {
      "cell_type": "code",
      "execution_count": null,
      "metadata": {
        "id": "8dIyaTLKJLlc"
      },
      "outputs": [],
      "source": [
        "# Iteration12 :\n",
        "\n",
        "slice12 = 11\n",
        "\n",
        "gp12 = [simple_regret_gp_1[slice12],\n",
        "       simple_regret_gp_2[slice12],\n",
        "       simple_regret_gp_3[slice12],\n",
        "       simple_regret_gp_4[slice12],\n",
        "       simple_regret_gp_5[slice12],\n",
        "       simple_regret_gp_6[slice12],\n",
        "       simple_regret_gp_7[slice12],\n",
        "       simple_regret_gp_8[slice12],\n",
        "       simple_regret_gp_9[slice12],\n",
        "       simple_regret_gp_10[slice12],\n",
        "       simple_regret_gp_11[slice12],\n",
        "       simple_regret_gp_12[slice12],\n",
        "       simple_regret_gp_13[slice12],\n",
        "       simple_regret_gp_14[slice12],\n",
        "       simple_regret_gp_15[slice12],\n",
        "       simple_regret_gp_16[slice12],\n",
        "       simple_regret_gp_17[slice12],\n",
        "       simple_regret_gp_18[slice12],\n",
        "       simple_regret_gp_19[slice12],\n",
        "       simple_regret_gp_20[slice12]]\n",
        "\n",
        "stp12 = [simple_regret_stp_1[slice12],\n",
        "       simple_regret_stp_2[slice12],\n",
        "       simple_regret_stp_3[slice12],\n",
        "       simple_regret_stp_4[slice12],\n",
        "       simple_regret_stp_5[slice12],\n",
        "       simple_regret_stp_6[slice12],\n",
        "       simple_regret_stp_7[slice12],\n",
        "       simple_regret_stp_8[slice12],\n",
        "       simple_regret_stp_9[slice12],\n",
        "       simple_regret_stp_10[slice12],\n",
        "       simple_regret_stp_11[slice12],\n",
        "       simple_regret_stp_12[slice12],\n",
        "       simple_regret_stp_13[slice12],\n",
        "       simple_regret_stp_14[slice12],\n",
        "       simple_regret_stp_15[slice12],\n",
        "       simple_regret_stp_16[slice12],\n",
        "       simple_regret_stp_17[slice12],\n",
        "       simple_regret_stp_18[slice12],\n",
        "       simple_regret_stp_19[slice12],\n",
        "       simple_regret_stp_20[slice12]]\n",
        "\n",
        "gp12_results = pd.DataFrame(gp12).sort_values(by=[0], ascending=False)\n",
        "stp12_results = pd.DataFrame(stp12).sort_values(by=[0], ascending=False)\n",
        "\n",
        "### Best training regret minimization IQR - gp:\n",
        "lower_gp12 = np.asarray(gp12_results[4:5][0])[0]\n",
        "median_gp12 = np.asarray(gp12_results[9:10][0])[0]\n",
        "upper_gp12 = np.asarray(gp12_results[14:15][0])[0]\n",
        "\n",
        "lower_stp12 = np.asarray(stp12_results[4:5][0])[0]\n",
        "median_stp12 = np.asarray(stp12_results[9:10][0])[0]\n",
        "upper_stp12 = np.asarray(stp12_results[14:15][0])[0]\n"
      ]
    },
    {
      "cell_type": "code",
      "execution_count": null,
      "metadata": {
        "id": "1_6u8LF1JLlt"
      },
      "outputs": [],
      "source": [
        "# Iteration3 :\n",
        "\n",
        "slice3 = 2\n",
        "\n",
        "gp3 = [simple_regret_gp_1[slice3],\n",
        "       simple_regret_gp_2[slice3],\n",
        "       simple_regret_gp_3[slice3],\n",
        "       simple_regret_gp_4[slice3],\n",
        "       simple_regret_gp_5[slice3],\n",
        "       simple_regret_gp_6[slice3],\n",
        "       simple_regret_gp_7[slice3],\n",
        "       simple_regret_gp_8[slice3],\n",
        "       simple_regret_gp_9[slice3],\n",
        "       simple_regret_gp_10[slice3],\n",
        "       simple_regret_gp_11[slice3],\n",
        "       simple_regret_gp_12[slice3],\n",
        "       simple_regret_gp_13[slice3],\n",
        "       simple_regret_gp_14[slice3],\n",
        "       simple_regret_gp_15[slice3],\n",
        "       simple_regret_gp_16[slice3],\n",
        "       simple_regret_gp_17[slice3],\n",
        "       simple_regret_gp_18[slice3],\n",
        "       simple_regret_gp_19[slice3],\n",
        "       simple_regret_gp_20[slice3]]\n",
        "\n",
        "stp3 = [simple_regret_stp_1[slice3],\n",
        "       simple_regret_stp_2[slice3],\n",
        "       simple_regret_stp_3[slice3],\n",
        "       simple_regret_stp_4[slice3],\n",
        "       simple_regret_stp_5[slice3],\n",
        "       simple_regret_stp_6[slice3],\n",
        "       simple_regret_stp_7[slice3],\n",
        "       simple_regret_stp_8[slice3],\n",
        "       simple_regret_stp_9[slice3],\n",
        "       simple_regret_stp_10[slice3],\n",
        "       simple_regret_stp_11[slice3],\n",
        "       simple_regret_stp_12[slice3],\n",
        "       simple_regret_stp_13[slice3],\n",
        "       simple_regret_stp_14[slice3],\n",
        "       simple_regret_stp_15[slice3],\n",
        "       simple_regret_stp_16[slice3],\n",
        "       simple_regret_stp_17[slice3],\n",
        "       simple_regret_stp_18[slice3],\n",
        "       simple_regret_stp_19[slice3],\n",
        "       simple_regret_stp_20[slice3]]\n",
        "\n",
        "gp3_results = pd.DataFrame(gp3).sort_values(by=[0], ascending=False)\n",
        "stp3_results = pd.DataFrame(stp3).sort_values(by=[0], ascending=False)\n",
        "\n",
        "### Best training regret minimization IQR - gp:\n",
        "lower_gp3 = np.asarray(gp3_results[4:5][0])[0]\n",
        "median_gp3 = np.asarray(gp3_results[9:10][0])[0]\n",
        "upper_gp3 = np.asarray(gp3_results[14:15][0])[0]\n",
        "\n",
        "lower_stp3 = np.asarray(stp3_results[4:5][0])[0]\n",
        "median_stp3 = np.asarray(stp3_results[9:10][0])[0]\n",
        "upper_stp3 = np.asarray(stp3_results[14:15][0])[0]\n"
      ]
    },
    {
      "cell_type": "code",
      "execution_count": null,
      "metadata": {
        "id": "GGEAa73pJLlu"
      },
      "outputs": [],
      "source": [
        "# Iteration13 :\n",
        "\n",
        "slice13 = 12\n",
        "\n",
        "gp13 = [simple_regret_gp_1[slice13],\n",
        "       simple_regret_gp_2[slice13],\n",
        "       simple_regret_gp_3[slice13],\n",
        "       simple_regret_gp_4[slice13],\n",
        "       simple_regret_gp_5[slice13],\n",
        "       simple_regret_gp_6[slice13],\n",
        "       simple_regret_gp_7[slice13],\n",
        "       simple_regret_gp_8[slice13],\n",
        "       simple_regret_gp_9[slice13],\n",
        "       simple_regret_gp_10[slice13],\n",
        "       simple_regret_gp_11[slice13],\n",
        "       simple_regret_gp_12[slice13],\n",
        "       simple_regret_gp_13[slice13],\n",
        "       simple_regret_gp_14[slice13],\n",
        "       simple_regret_gp_15[slice13],\n",
        "       simple_regret_gp_16[slice13],\n",
        "       simple_regret_gp_17[slice13],\n",
        "       simple_regret_gp_18[slice13],\n",
        "       simple_regret_gp_19[slice13],\n",
        "       simple_regret_gp_20[slice13]]\n",
        "\n",
        "stp13 = [simple_regret_stp_1[slice13],\n",
        "       simple_regret_stp_2[slice13],\n",
        "       simple_regret_stp_3[slice13],\n",
        "       simple_regret_stp_4[slice13],\n",
        "       simple_regret_stp_5[slice13],\n",
        "       simple_regret_stp_6[slice13],\n",
        "       simple_regret_stp_7[slice13],\n",
        "       simple_regret_stp_8[slice13],\n",
        "       simple_regret_stp_9[slice13],\n",
        "       simple_regret_stp_10[slice13],\n",
        "       simple_regret_stp_11[slice13],\n",
        "       simple_regret_stp_12[slice13],\n",
        "       simple_regret_stp_13[slice13],\n",
        "       simple_regret_stp_14[slice13],\n",
        "       simple_regret_stp_15[slice13],\n",
        "       simple_regret_stp_16[slice13],\n",
        "       simple_regret_stp_17[slice13],\n",
        "       simple_regret_stp_18[slice13],\n",
        "       simple_regret_stp_19[slice13],\n",
        "       simple_regret_stp_20[slice13]]\n",
        "\n",
        "gp13_results = pd.DataFrame(gp12).sort_values(by=[0], ascending=False)\n",
        "stp13_results = pd.DataFrame(stp12).sort_values(by=[0], ascending=False)\n",
        "\n",
        "### Best training regret minimization IQR - gp:\n",
        "lower_gp13 = np.asarray(gp13_results[4:5][0])[0]\n",
        "median_gp13 = np.asarray(gp13_results[9:10][0])[0]\n",
        "upper_gp13 = np.asarray(gp13_results[14:15][0])[0]\n",
        "\n",
        "lower_stp13 = np.asarray(stp13_results[4:5][0])[0]\n",
        "median_stp13 = np.asarray(stp13_results[9:10][0])[0]\n",
        "upper_stp13 = np.asarray(stp13_results[14:15][0])[0]\n"
      ]
    },
    {
      "cell_type": "code",
      "execution_count": null,
      "metadata": {
        "id": "T30xLxygJLl0"
      },
      "outputs": [],
      "source": [
        "# Iteration4 :\n",
        "\n",
        "slice4 = 3\n",
        "\n",
        "gp4 = [simple_regret_gp_1[slice4],\n",
        "       simple_regret_gp_2[slice4],\n",
        "       simple_regret_gp_3[slice4],\n",
        "       simple_regret_gp_4[slice4],\n",
        "       simple_regret_gp_5[slice4],\n",
        "       simple_regret_gp_6[slice4],\n",
        "       simple_regret_gp_7[slice4],\n",
        "       simple_regret_gp_8[slice4],\n",
        "       simple_regret_gp_9[slice4],\n",
        "       simple_regret_gp_10[slice4],\n",
        "       simple_regret_gp_11[slice4],\n",
        "       simple_regret_gp_12[slice4],\n",
        "       simple_regret_gp_13[slice4],\n",
        "       simple_regret_gp_14[slice4],\n",
        "       simple_regret_gp_15[slice4],\n",
        "       simple_regret_gp_16[slice4],\n",
        "       simple_regret_gp_17[slice4],\n",
        "       simple_regret_gp_18[slice4],\n",
        "       simple_regret_gp_19[slice4],\n",
        "       simple_regret_gp_20[slice4]]\n",
        "\n",
        "stp4 = [simple_regret_stp_1[slice4],\n",
        "       simple_regret_stp_2[slice4],\n",
        "       simple_regret_stp_3[slice4],\n",
        "       simple_regret_stp_4[slice4],\n",
        "       simple_regret_stp_5[slice4],\n",
        "       simple_regret_stp_6[slice4],\n",
        "       simple_regret_stp_7[slice4],\n",
        "       simple_regret_stp_8[slice4],\n",
        "       simple_regret_stp_9[slice4],\n",
        "       simple_regret_stp_10[slice4],\n",
        "       simple_regret_stp_11[slice4],\n",
        "       simple_regret_stp_12[slice4],\n",
        "       simple_regret_stp_13[slice4],\n",
        "       simple_regret_stp_14[slice4],\n",
        "       simple_regret_stp_15[slice4],\n",
        "       simple_regret_stp_16[slice4],\n",
        "       simple_regret_stp_17[slice4],\n",
        "       simple_regret_stp_18[slice4],\n",
        "       simple_regret_stp_19[slice4],\n",
        "       simple_regret_stp_20[slice4]]\n",
        "\n",
        "gp4_results = pd.DataFrame(gp4).sort_values(by=[0], ascending=False)\n",
        "stp4_results = pd.DataFrame(stp4).sort_values(by=[0], ascending=False)\n",
        "\n",
        "### Best training regret minimization IQR - gp:\n",
        "lower_gp4 = np.asarray(gp4_results[4:5][0])[0]\n",
        "median_gp4 = np.asarray(gp4_results[9:10][0])[0]\n",
        "upper_gp4 = np.asarray(gp4_results[14:15][0])[0]\n",
        "\n",
        "lower_stp4 = np.asarray(stp4_results[4:5][0])[0]\n",
        "median_stp4 = np.asarray(stp4_results[9:10][0])[0]\n",
        "upper_stp4 = np.asarray(stp4_results[14:15][0])[0]\n"
      ]
    },
    {
      "cell_type": "code",
      "execution_count": null,
      "metadata": {
        "id": "MQ-jpNrnJLl1"
      },
      "outputs": [],
      "source": [
        "# Iteration14 :\n",
        "\n",
        "slice14 = 13\n",
        "\n",
        "gp14 = [simple_regret_gp_1[slice14],\n",
        "       simple_regret_gp_2[slice14],\n",
        "       simple_regret_gp_3[slice14],\n",
        "       simple_regret_gp_4[slice14],\n",
        "       simple_regret_gp_5[slice14],\n",
        "       simple_regret_gp_6[slice14],\n",
        "       simple_regret_gp_7[slice14],\n",
        "       simple_regret_gp_8[slice14],\n",
        "       simple_regret_gp_9[slice14],\n",
        "       simple_regret_gp_10[slice14],\n",
        "       simple_regret_gp_11[slice14],\n",
        "       simple_regret_gp_12[slice14],\n",
        "       simple_regret_gp_13[slice14],\n",
        "       simple_regret_gp_14[slice14],\n",
        "       simple_regret_gp_15[slice14],\n",
        "       simple_regret_gp_16[slice14],\n",
        "       simple_regret_gp_17[slice14],\n",
        "       simple_regret_gp_18[slice14],\n",
        "       simple_regret_gp_19[slice14],\n",
        "       simple_regret_gp_20[slice14]]\n",
        "\n",
        "stp14 = [simple_regret_stp_1[slice14],\n",
        "       simple_regret_stp_2[slice14],\n",
        "       simple_regret_stp_3[slice14],\n",
        "       simple_regret_stp_4[slice14],\n",
        "       simple_regret_stp_5[slice14],\n",
        "       simple_regret_stp_6[slice14],\n",
        "       simple_regret_stp_7[slice14],\n",
        "       simple_regret_stp_8[slice14],\n",
        "       simple_regret_stp_9[slice14],\n",
        "       simple_regret_stp_10[slice14],\n",
        "       simple_regret_stp_11[slice14],\n",
        "       simple_regret_stp_12[slice14],\n",
        "       simple_regret_stp_13[slice14],\n",
        "       simple_regret_stp_14[slice14],\n",
        "       simple_regret_stp_15[slice14],\n",
        "       simple_regret_stp_16[slice14],\n",
        "       simple_regret_stp_17[slice14],\n",
        "       simple_regret_stp_18[slice14],\n",
        "       simple_regret_stp_19[slice14],\n",
        "       simple_regret_stp_20[slice14]]\n",
        "\n",
        "gp14_results = pd.DataFrame(gp14).sort_values(by=[0], ascending=False)\n",
        "stp14_results = pd.DataFrame(stp14).sort_values(by=[0], ascending=False)\n",
        "\n",
        "### Best training regret minimization IQR - gp:\n",
        "lower_gp14 = np.asarray(gp14_results[4:5][0])[0]\n",
        "median_gp14 = np.asarray(gp14_results[9:10][0])[0]\n",
        "upper_gp14 = np.asarray(gp14_results[14:15][0])[0]\n",
        "\n",
        "lower_stp14 = np.asarray(stp14_results[4:5][0])[0]\n",
        "median_stp14 = np.asarray(stp14_results[9:10][0])[0]\n",
        "upper_stp14 = np.asarray(stp14_results[14:15][0])[0]\n"
      ]
    },
    {
      "cell_type": "code",
      "execution_count": null,
      "metadata": {
        "id": "Xhy_AN9jJLl9"
      },
      "outputs": [],
      "source": [
        "# Iteration5 :\n",
        "\n",
        "slice5 = 4\n",
        "\n",
        "gp5 = [simple_regret_gp_1[slice5],\n",
        "       simple_regret_gp_2[slice5],\n",
        "       simple_regret_gp_3[slice5],\n",
        "       simple_regret_gp_4[slice5],\n",
        "       simple_regret_gp_5[slice5],\n",
        "       simple_regret_gp_6[slice5],\n",
        "       simple_regret_gp_7[slice5],\n",
        "       simple_regret_gp_8[slice5],\n",
        "       simple_regret_gp_9[slice5],\n",
        "       simple_regret_gp_10[slice5],\n",
        "       simple_regret_gp_11[slice5],\n",
        "       simple_regret_gp_12[slice5],\n",
        "       simple_regret_gp_13[slice5],\n",
        "       simple_regret_gp_14[slice5],\n",
        "       simple_regret_gp_15[slice5],\n",
        "       simple_regret_gp_16[slice5],\n",
        "       simple_regret_gp_17[slice5],\n",
        "       simple_regret_gp_18[slice5],\n",
        "       simple_regret_gp_19[slice5],\n",
        "       simple_regret_gp_20[slice5]]\n",
        "\n",
        "stp5 = [simple_regret_stp_1[slice5],\n",
        "       simple_regret_stp_2[slice5],\n",
        "       simple_regret_stp_3[slice5],\n",
        "       simple_regret_stp_4[slice5],\n",
        "       simple_regret_stp_5[slice5],\n",
        "       simple_regret_stp_6[slice5],\n",
        "       simple_regret_stp_7[slice5],\n",
        "       simple_regret_stp_8[slice5],\n",
        "       simple_regret_stp_9[slice5],\n",
        "       simple_regret_stp_10[slice5],\n",
        "       simple_regret_stp_11[slice5],\n",
        "       simple_regret_stp_12[slice5],\n",
        "       simple_regret_stp_13[slice5],\n",
        "       simple_regret_stp_14[slice5],\n",
        "       simple_regret_stp_15[slice5],\n",
        "       simple_regret_stp_16[slice5],\n",
        "       simple_regret_stp_17[slice5],\n",
        "       simple_regret_stp_18[slice5],\n",
        "       simple_regret_stp_19[slice5],\n",
        "       simple_regret_stp_20[slice5]]\n",
        "\n",
        "gp5_results = pd.DataFrame(gp5).sort_values(by=[0], ascending=False)\n",
        "stp5_results = pd.DataFrame(stp5).sort_values(by=[0], ascending=False)\n",
        "\n",
        "### Best training regret minimization IQR - gp:\n",
        "lower_gp5 = np.asarray(gp5_results[4:5][0])[0]\n",
        "median_gp5 = np.asarray(gp5_results[9:10][0])[0]\n",
        "upper_gp5 = np.asarray(gp5_results[14:15][0])[0]\n",
        "\n",
        "lower_stp5 = np.asarray(stp5_results[4:5][0])[0]\n",
        "median_stp5 = np.asarray(stp5_results[9:10][0])[0]\n",
        "upper_stp5 = np.asarray(stp5_results[14:15][0])[0]\n"
      ]
    },
    {
      "cell_type": "code",
      "execution_count": null,
      "metadata": {
        "id": "WHbtLHnbJLl-"
      },
      "outputs": [],
      "source": [
        "# Iteration15 :\n",
        "\n",
        "slice15 = 14\n",
        "\n",
        "gp15 = [simple_regret_gp_1[slice15],\n",
        "       simple_regret_gp_2[slice15],\n",
        "       simple_regret_gp_3[slice15],\n",
        "       simple_regret_gp_4[slice15],\n",
        "       simple_regret_gp_5[slice15],\n",
        "       simple_regret_gp_6[slice15],\n",
        "       simple_regret_gp_7[slice15],\n",
        "       simple_regret_gp_8[slice15],\n",
        "       simple_regret_gp_9[slice15],\n",
        "       simple_regret_gp_10[slice15],\n",
        "       simple_regret_gp_11[slice15],\n",
        "       simple_regret_gp_12[slice15],\n",
        "       simple_regret_gp_13[slice15],\n",
        "       simple_regret_gp_14[slice15],\n",
        "       simple_regret_gp_15[slice15],\n",
        "       simple_regret_gp_16[slice15],\n",
        "       simple_regret_gp_17[slice15],\n",
        "       simple_regret_gp_18[slice15],\n",
        "       simple_regret_gp_19[slice15],\n",
        "       simple_regret_gp_20[slice15]]\n",
        "\n",
        "stp15 = [simple_regret_stp_1[slice15],\n",
        "       simple_regret_stp_2[slice15],\n",
        "       simple_regret_stp_3[slice15],\n",
        "       simple_regret_stp_4[slice15],\n",
        "       simple_regret_stp_5[slice15],\n",
        "       simple_regret_stp_6[slice15],\n",
        "       simple_regret_stp_7[slice15],\n",
        "       simple_regret_stp_8[slice15],\n",
        "       simple_regret_stp_9[slice15],\n",
        "       simple_regret_stp_10[slice15],\n",
        "       simple_regret_stp_11[slice15],\n",
        "       simple_regret_stp_12[slice15],\n",
        "       simple_regret_stp_13[slice15],\n",
        "       simple_regret_stp_14[slice15],\n",
        "       simple_regret_stp_15[slice15],\n",
        "       simple_regret_stp_16[slice15],\n",
        "       simple_regret_stp_17[slice15],\n",
        "       simple_regret_stp_18[slice15],\n",
        "       simple_regret_stp_19[slice15],\n",
        "       simple_regret_stp_20[slice15]]\n",
        "\n",
        "gp15_results = pd.DataFrame(gp15).sort_values(by=[0], ascending=False)\n",
        "stp15_results = pd.DataFrame(stp15).sort_values(by=[0], ascending=False)\n",
        "\n",
        "### Best training regret minimization IQR - gp:\n",
        "lower_gp15 = np.asarray(gp15_results[4:5][0])[0]\n",
        "median_gp15 = np.asarray(gp15_results[9:10][0])[0]\n",
        "upper_gp15 = np.asarray(gp15_results[14:15][0])[0]\n",
        "\n",
        "lower_stp15 = np.asarray(stp15_results[4:5][0])[0]\n",
        "median_stp15 = np.asarray(stp15_results[9:10][0])[0]\n",
        "upper_stp15 = np.asarray(stp15_results[14:15][0])[0]\n"
      ]
    },
    {
      "cell_type": "code",
      "execution_count": null,
      "metadata": {
        "id": "XqsNyHzqJLmC"
      },
      "outputs": [],
      "source": [
        "# Iteration6 :\n",
        "\n",
        "slice6 = 5\n",
        "\n",
        "gp6 = [simple_regret_gp_1[slice6],\n",
        "       simple_regret_gp_2[slice6],\n",
        "       simple_regret_gp_3[slice6],\n",
        "       simple_regret_gp_4[slice6],\n",
        "       simple_regret_gp_5[slice6],\n",
        "       simple_regret_gp_6[slice6],\n",
        "       simple_regret_gp_7[slice6],\n",
        "       simple_regret_gp_8[slice6],\n",
        "       simple_regret_gp_9[slice6],\n",
        "       simple_regret_gp_10[slice6],\n",
        "       simple_regret_gp_11[slice6],\n",
        "       simple_regret_gp_12[slice6],\n",
        "       simple_regret_gp_13[slice6],\n",
        "       simple_regret_gp_14[slice6],\n",
        "       simple_regret_gp_15[slice6],\n",
        "       simple_regret_gp_16[slice6],\n",
        "       simple_regret_gp_17[slice6],\n",
        "       simple_regret_gp_18[slice6],\n",
        "       simple_regret_gp_19[slice6],\n",
        "       simple_regret_gp_20[slice6]]\n",
        "\n",
        "stp6 = [simple_regret_stp_1[slice6],\n",
        "       simple_regret_stp_2[slice6],\n",
        "       simple_regret_stp_3[slice6],\n",
        "       simple_regret_stp_4[slice6],\n",
        "       simple_regret_stp_5[slice6],\n",
        "       simple_regret_stp_6[slice6],\n",
        "       simple_regret_stp_7[slice6],\n",
        "       simple_regret_stp_8[slice6],\n",
        "       simple_regret_stp_9[slice6],\n",
        "       simple_regret_stp_10[slice6],\n",
        "       simple_regret_stp_11[slice6],\n",
        "       simple_regret_stp_12[slice6],\n",
        "       simple_regret_stp_13[slice6],\n",
        "       simple_regret_stp_14[slice6],\n",
        "       simple_regret_stp_15[slice6],\n",
        "       simple_regret_stp_16[slice6],\n",
        "       simple_regret_stp_17[slice6],\n",
        "       simple_regret_stp_18[slice6],\n",
        "       simple_regret_stp_19[slice6],\n",
        "       simple_regret_stp_20[slice6]]\n",
        "\n",
        "gp6_results = pd.DataFrame(gp6).sort_values(by=[0], ascending=False)\n",
        "stp6_results = pd.DataFrame(stp6).sort_values(by=[0], ascending=False)\n",
        "\n",
        "### Best training regret minimization IQR - gp:\n",
        "lower_gp6 = np.asarray(gp6_results[4:5][0])[0]\n",
        "median_gp6 = np.asarray(gp6_results[9:10][0])[0]\n",
        "upper_gp6 = np.asarray(gp6_results[14:15][0])[0]\n",
        "\n",
        "lower_stp6 = np.asarray(stp6_results[4:5][0])[0]\n",
        "median_stp6 = np.asarray(stp6_results[9:10][0])[0]\n",
        "upper_stp6 = np.asarray(stp6_results[14:15][0])[0]\n"
      ]
    },
    {
      "cell_type": "code",
      "execution_count": null,
      "metadata": {
        "id": "V0-8P_clJLmD"
      },
      "outputs": [],
      "source": [
        "# Iteration16 :\n",
        "\n",
        "slice16 = 15\n",
        "\n",
        "gp16 = [simple_regret_gp_1[slice16],\n",
        "       simple_regret_gp_2[slice16],\n",
        "       simple_regret_gp_3[slice16],\n",
        "       simple_regret_gp_4[slice16],\n",
        "       simple_regret_gp_5[slice16],\n",
        "       simple_regret_gp_6[slice16],\n",
        "       simple_regret_gp_7[slice16],\n",
        "       simple_regret_gp_8[slice16],\n",
        "       simple_regret_gp_9[slice16],\n",
        "       simple_regret_gp_10[slice16],\n",
        "       simple_regret_gp_11[slice16],\n",
        "       simple_regret_gp_12[slice16],\n",
        "       simple_regret_gp_13[slice16],\n",
        "       simple_regret_gp_14[slice16],\n",
        "       simple_regret_gp_15[slice16],\n",
        "       simple_regret_gp_16[slice16],\n",
        "       simple_regret_gp_17[slice16],\n",
        "       simple_regret_gp_18[slice16],\n",
        "       simple_regret_gp_19[slice16],\n",
        "       simple_regret_gp_20[slice16]]\n",
        "\n",
        "stp16 = [simple_regret_stp_1[slice16],\n",
        "       simple_regret_stp_2[slice16],\n",
        "       simple_regret_stp_3[slice16],\n",
        "       simple_regret_stp_4[slice16],\n",
        "       simple_regret_stp_5[slice16],\n",
        "       simple_regret_stp_6[slice16],\n",
        "       simple_regret_stp_7[slice16],\n",
        "       simple_regret_stp_8[slice16],\n",
        "       simple_regret_stp_9[slice16],\n",
        "       simple_regret_stp_10[slice16],\n",
        "       simple_regret_stp_11[slice16],\n",
        "       simple_regret_stp_12[slice16],\n",
        "       simple_regret_stp_13[slice16],\n",
        "       simple_regret_stp_14[slice16],\n",
        "       simple_regret_stp_15[slice16],\n",
        "       simple_regret_stp_16[slice16],\n",
        "       simple_regret_stp_17[slice16],\n",
        "       simple_regret_stp_18[slice16],\n",
        "       simple_regret_stp_19[slice16],\n",
        "       simple_regret_stp_20[slice16]]\n",
        "\n",
        "gp16_results = pd.DataFrame(gp16).sort_values(by=[0], ascending=False)\n",
        "stp16_results = pd.DataFrame(stp16).sort_values(by=[0], ascending=False)\n",
        "\n",
        "### Best training regret minimization IQR - gp:\n",
        "lower_gp16 = np.asarray(gp16_results[4:5][0])[0]\n",
        "median_gp16 = np.asarray(gp16_results[9:10][0])[0]\n",
        "upper_gp16 = np.asarray(gp16_results[14:15][0])[0]\n",
        "\n",
        "lower_stp16 = np.asarray(stp16_results[4:5][0])[0]\n",
        "median_stp16 = np.asarray(stp16_results[9:10][0])[0]\n",
        "upper_stp16 = np.asarray(stp16_results[14:15][0])[0]\n"
      ]
    },
    {
      "cell_type": "code",
      "execution_count": null,
      "metadata": {
        "id": "OcLUACB0JLmM"
      },
      "outputs": [],
      "source": [
        "# Iteration7 :\n",
        "\n",
        "slice7 = 6\n",
        "\n",
        "gp7 = [simple_regret_gp_1[slice7],\n",
        "       simple_regret_gp_2[slice7],\n",
        "       simple_regret_gp_3[slice7],\n",
        "       simple_regret_gp_4[slice7],\n",
        "       simple_regret_gp_5[slice7],\n",
        "       simple_regret_gp_6[slice7],\n",
        "       simple_regret_gp_7[slice7],\n",
        "       simple_regret_gp_8[slice7],\n",
        "       simple_regret_gp_9[slice7],\n",
        "       simple_regret_gp_10[slice7],\n",
        "       simple_regret_gp_11[slice7],\n",
        "       simple_regret_gp_12[slice7],\n",
        "       simple_regret_gp_13[slice7],\n",
        "       simple_regret_gp_14[slice7],\n",
        "       simple_regret_gp_15[slice7],\n",
        "       simple_regret_gp_16[slice7],\n",
        "       simple_regret_gp_17[slice7],\n",
        "       simple_regret_gp_18[slice7],\n",
        "       simple_regret_gp_19[slice7],\n",
        "       simple_regret_gp_20[slice7]]\n",
        "\n",
        "stp7 = [simple_regret_stp_1[slice7],\n",
        "       simple_regret_stp_2[slice7],\n",
        "       simple_regret_stp_3[slice7],\n",
        "       simple_regret_stp_4[slice7],\n",
        "       simple_regret_stp_5[slice7],\n",
        "       simple_regret_stp_6[slice7],\n",
        "       simple_regret_stp_7[slice7],\n",
        "       simple_regret_stp_8[slice7],\n",
        "       simple_regret_stp_9[slice7],\n",
        "       simple_regret_stp_10[slice7],\n",
        "       simple_regret_stp_11[slice7],\n",
        "       simple_regret_stp_12[slice7],\n",
        "       simple_regret_stp_13[slice7],\n",
        "       simple_regret_stp_14[slice7],\n",
        "       simple_regret_stp_15[slice7],\n",
        "       simple_regret_stp_16[slice7],\n",
        "       simple_regret_stp_17[slice7],\n",
        "       simple_regret_stp_18[slice7],\n",
        "       simple_regret_stp_19[slice7],\n",
        "       simple_regret_stp_20[slice7]]\n",
        "\n",
        "gp7_results = pd.DataFrame(gp7).sort_values(by=[0], ascending=False)\n",
        "stp7_results = pd.DataFrame(stp7).sort_values(by=[0], ascending=False)\n",
        "\n",
        "### Best training regret minimization IQR - gp:\n",
        "lower_gp7 = np.asarray(gp7_results[4:5][0])[0]\n",
        "median_gp7 = np.asarray(gp7_results[9:10][0])[0]\n",
        "upper_gp7 = np.asarray(gp7_results[14:15][0])[0]\n",
        "\n",
        "lower_stp7 = np.asarray(stp7_results[4:5][0])[0]\n",
        "median_stp7 = np.asarray(stp7_results[9:10][0])[0]\n",
        "upper_stp7 = np.asarray(stp7_results[14:15][0])[0]\n"
      ]
    },
    {
      "cell_type": "code",
      "execution_count": null,
      "metadata": {
        "id": "q-Fd0t3kJLmN"
      },
      "outputs": [],
      "source": [
        "# Iteration17 :\n",
        "\n",
        "slice17 = 16\n",
        "\n",
        "gp17 = [simple_regret_gp_1[slice17],\n",
        "       simple_regret_gp_2[slice17],\n",
        "       simple_regret_gp_3[slice17],\n",
        "       simple_regret_gp_4[slice17],\n",
        "       simple_regret_gp_5[slice17],\n",
        "       simple_regret_gp_6[slice17],\n",
        "       simple_regret_gp_7[slice17],\n",
        "       simple_regret_gp_8[slice17],\n",
        "       simple_regret_gp_9[slice17],\n",
        "       simple_regret_gp_10[slice17],\n",
        "       simple_regret_gp_11[slice17],\n",
        "       simple_regret_gp_12[slice17],\n",
        "       simple_regret_gp_13[slice17],\n",
        "       simple_regret_gp_14[slice17],\n",
        "       simple_regret_gp_15[slice17],\n",
        "       simple_regret_gp_16[slice17],\n",
        "       simple_regret_gp_17[slice17],\n",
        "       simple_regret_gp_18[slice17],\n",
        "       simple_regret_gp_19[slice17],\n",
        "       simple_regret_gp_20[slice17]]\n",
        "\n",
        "stp17 = [simple_regret_stp_1[slice17],\n",
        "       simple_regret_stp_2[slice17],\n",
        "       simple_regret_stp_3[slice17],\n",
        "       simple_regret_stp_4[slice17],\n",
        "       simple_regret_stp_5[slice17],\n",
        "       simple_regret_stp_6[slice17],\n",
        "       simple_regret_stp_7[slice17],\n",
        "       simple_regret_stp_8[slice17],\n",
        "       simple_regret_stp_9[slice17],\n",
        "       simple_regret_stp_10[slice17],\n",
        "       simple_regret_stp_11[slice17],\n",
        "       simple_regret_stp_12[slice17],\n",
        "       simple_regret_stp_13[slice17],\n",
        "       simple_regret_stp_14[slice17],\n",
        "       simple_regret_stp_15[slice17],\n",
        "       simple_regret_stp_16[slice17],\n",
        "       simple_regret_stp_17[slice17],\n",
        "       simple_regret_stp_18[slice17],\n",
        "       simple_regret_stp_19[slice17],\n",
        "       simple_regret_stp_20[slice17]]\n",
        "\n",
        "gp17_results = pd.DataFrame(gp17).sort_values(by=[0], ascending=False)\n",
        "stp17_results = pd.DataFrame(stp17).sort_values(by=[0], ascending=False)\n",
        "\n",
        "### Best training regret minimization IQR - gp:\n",
        "lower_gp17 = np.asarray(gp17_results[4:5][0])[0]\n",
        "median_gp17 = np.asarray(gp17_results[9:10][0])[0]\n",
        "upper_gp17 = np.asarray(gp17_results[14:15][0])[0]\n",
        "\n",
        "lower_stp17 = np.asarray(stp17_results[4:5][0])[0]\n",
        "median_stp17 = np.asarray(stp17_results[9:10][0])[0]\n",
        "upper_stp17 = np.asarray(stp17_results[14:15][0])[0]\n"
      ]
    },
    {
      "cell_type": "code",
      "execution_count": null,
      "metadata": {
        "id": "JueXVbnGJLmU"
      },
      "outputs": [],
      "source": [
        "# Iteration8 :\n",
        "\n",
        "slice8 = 7\n",
        "\n",
        "gp8 = [simple_regret_gp_1[slice8],\n",
        "       simple_regret_gp_2[slice8],\n",
        "       simple_regret_gp_3[slice8],\n",
        "       simple_regret_gp_4[slice8],\n",
        "       simple_regret_gp_5[slice8],\n",
        "       simple_regret_gp_6[slice8],\n",
        "       simple_regret_gp_7[slice8],\n",
        "       simple_regret_gp_8[slice8],\n",
        "       simple_regret_gp_9[slice8],\n",
        "       simple_regret_gp_10[slice8],\n",
        "       simple_regret_gp_11[slice8],\n",
        "       simple_regret_gp_12[slice8],\n",
        "       simple_regret_gp_13[slice8],\n",
        "       simple_regret_gp_14[slice8],\n",
        "       simple_regret_gp_15[slice8],\n",
        "       simple_regret_gp_16[slice8],\n",
        "       simple_regret_gp_17[slice8],\n",
        "       simple_regret_gp_18[slice8],\n",
        "       simple_regret_gp_19[slice8],\n",
        "       simple_regret_gp_20[slice8]]\n",
        "\n",
        "stp8 = [simple_regret_stp_1[slice8],\n",
        "       simple_regret_stp_2[slice8],\n",
        "       simple_regret_stp_3[slice8],\n",
        "       simple_regret_stp_4[slice8],\n",
        "       simple_regret_stp_5[slice8],\n",
        "       simple_regret_stp_6[slice8],\n",
        "       simple_regret_stp_7[slice8],\n",
        "       simple_regret_stp_8[slice8],\n",
        "       simple_regret_stp_9[slice8],\n",
        "       simple_regret_stp_10[slice8],\n",
        "       simple_regret_stp_11[slice8],\n",
        "       simple_regret_stp_12[slice8],\n",
        "       simple_regret_stp_13[slice8],\n",
        "       simple_regret_stp_14[slice8],\n",
        "       simple_regret_stp_15[slice8],\n",
        "       simple_regret_stp_16[slice8],\n",
        "       simple_regret_stp_17[slice8],\n",
        "       simple_regret_stp_18[slice8],\n",
        "       simple_regret_stp_19[slice8],\n",
        "       simple_regret_stp_20[slice8]]\n",
        "\n",
        "gp8_results = pd.DataFrame(gp8).sort_values(by=[0], ascending=False)\n",
        "stp8_results = pd.DataFrame(stp8).sort_values(by=[0], ascending=False)\n",
        "\n",
        "### Best training regret minimization IQR - gp:\n",
        "lower_gp8 = np.asarray(gp8_results[4:5][0])[0]\n",
        "median_gp8 = np.asarray(gp8_results[9:10][0])[0]\n",
        "upper_gp8 = np.asarray(gp8_results[14:15][0])[0]\n",
        "\n",
        "lower_stp8 = np.asarray(stp8_results[4:5][0])[0]\n",
        "median_stp8 = np.asarray(stp8_results[9:10][0])[0]\n",
        "upper_stp8 = np.asarray(stp8_results[14:15][0])[0]\n"
      ]
    },
    {
      "cell_type": "code",
      "execution_count": null,
      "metadata": {
        "id": "mnFJ7maJJLmU"
      },
      "outputs": [],
      "source": [
        "# Iteration18 :\n",
        "\n",
        "slice18 = 17\n",
        "\n",
        "gp18 = [simple_regret_gp_1[slice18],\n",
        "       simple_regret_gp_2[slice18],\n",
        "       simple_regret_gp_3[slice18],\n",
        "       simple_regret_gp_4[slice18],\n",
        "       simple_regret_gp_5[slice18],\n",
        "       simple_regret_gp_6[slice18],\n",
        "       simple_regret_gp_7[slice18],\n",
        "       simple_regret_gp_8[slice18],\n",
        "       simple_regret_gp_9[slice18],\n",
        "       simple_regret_gp_10[slice18],\n",
        "       simple_regret_gp_11[slice18],\n",
        "       simple_regret_gp_12[slice18],\n",
        "       simple_regret_gp_13[slice18],\n",
        "       simple_regret_gp_14[slice18],\n",
        "       simple_regret_gp_15[slice18],\n",
        "       simple_regret_gp_16[slice18],\n",
        "       simple_regret_gp_17[slice18],\n",
        "       simple_regret_gp_18[slice18],\n",
        "       simple_regret_gp_19[slice18],\n",
        "       simple_regret_gp_20[slice18]]\n",
        "\n",
        "stp18 = [simple_regret_stp_1[slice18],\n",
        "       simple_regret_stp_2[slice18],\n",
        "       simple_regret_stp_3[slice18],\n",
        "       simple_regret_stp_4[slice18],\n",
        "       simple_regret_stp_5[slice18],\n",
        "       simple_regret_stp_6[slice18],\n",
        "       simple_regret_stp_7[slice18],\n",
        "       simple_regret_stp_8[slice18],\n",
        "       simple_regret_stp_9[slice18],\n",
        "       simple_regret_stp_10[slice18],\n",
        "       simple_regret_stp_11[slice18],\n",
        "       simple_regret_stp_12[slice18],\n",
        "       simple_regret_stp_13[slice18],\n",
        "       simple_regret_stp_14[slice18],\n",
        "       simple_regret_stp_15[slice18],\n",
        "       simple_regret_stp_16[slice18],\n",
        "       simple_regret_stp_17[slice18],\n",
        "       simple_regret_stp_18[slice18],\n",
        "       simple_regret_stp_19[slice18],\n",
        "       simple_regret_stp_20[slice18]]\n",
        "\n",
        "gp18_results = pd.DataFrame(gp18).sort_values(by=[0], ascending=False)\n",
        "stp18_results = pd.DataFrame(stp18).sort_values(by=[0], ascending=False)\n",
        "\n",
        "### Best training regret minimization IQR - gp:\n",
        "lower_gp18 = np.asarray(gp18_results[4:5][0])[0]\n",
        "median_gp18 = np.asarray(gp18_results[9:10][0])[0]\n",
        "upper_gp18 = np.asarray(gp18_results[14:15][0])[0]\n",
        "\n",
        "lower_stp18 = np.asarray(stp18_results[4:5][0])[0]\n",
        "median_stp18 = np.asarray(stp18_results[9:10][0])[0]\n",
        "upper_stp18 = np.asarray(stp18_results[14:15][0])[0]\n"
      ]
    },
    {
      "cell_type": "code",
      "execution_count": null,
      "metadata": {
        "id": "ll-p_qWUJLmb"
      },
      "outputs": [],
      "source": [
        "# Iteration9 :\n",
        "\n",
        "slice9 = 8\n",
        "\n",
        "gp9 = [simple_regret_gp_1[slice9],\n",
        "       simple_regret_gp_2[slice9],\n",
        "       simple_regret_gp_3[slice9],\n",
        "       simple_regret_gp_4[slice9],\n",
        "       simple_regret_gp_5[slice9],\n",
        "       simple_regret_gp_6[slice9],\n",
        "       simple_regret_gp_7[slice9],\n",
        "       simple_regret_gp_8[slice9],\n",
        "       simple_regret_gp_9[slice9],\n",
        "       simple_regret_gp_10[slice9],\n",
        "       simple_regret_gp_11[slice9],\n",
        "       simple_regret_gp_12[slice9],\n",
        "       simple_regret_gp_13[slice9],\n",
        "       simple_regret_gp_14[slice9],\n",
        "       simple_regret_gp_15[slice9],\n",
        "       simple_regret_gp_16[slice9],\n",
        "       simple_regret_gp_17[slice9],\n",
        "       simple_regret_gp_18[slice9],\n",
        "       simple_regret_gp_19[slice9],\n",
        "       simple_regret_gp_20[slice9]]\n",
        "\n",
        "stp9 = [simple_regret_stp_1[slice9],\n",
        "       simple_regret_stp_2[slice9],\n",
        "       simple_regret_stp_3[slice9],\n",
        "       simple_regret_stp_4[slice9],\n",
        "       simple_regret_stp_5[slice9],\n",
        "       simple_regret_stp_6[slice9],\n",
        "       simple_regret_stp_7[slice9],\n",
        "       simple_regret_stp_8[slice9],\n",
        "       simple_regret_stp_9[slice9],\n",
        "       simple_regret_stp_10[slice9],\n",
        "       simple_regret_stp_11[slice9],\n",
        "       simple_regret_stp_12[slice9],\n",
        "       simple_regret_stp_13[slice9],\n",
        "       simple_regret_stp_14[slice9],\n",
        "       simple_regret_stp_15[slice9],\n",
        "       simple_regret_stp_16[slice9],\n",
        "       simple_regret_stp_17[slice9],\n",
        "       simple_regret_stp_18[slice9],\n",
        "       simple_regret_stp_19[slice9],\n",
        "       simple_regret_stp_20[slice9]]\n",
        "\n",
        "gp9_results = pd.DataFrame(gp9).sort_values(by=[0], ascending=False)\n",
        "stp9_results = pd.DataFrame(stp9).sort_values(by=[0], ascending=False)\n",
        "\n",
        "### Best training regret minimization IQR - gp:\n",
        "lower_gp9 = np.asarray(gp9_results[4:5][0])[0]\n",
        "median_gp9 = np.asarray(gp9_results[9:10][0])[0]\n",
        "upper_gp9 = np.asarray(gp9_results[14:15][0])[0]\n",
        "\n",
        "lower_stp9 = np.asarray(stp9_results[4:5][0])[0]\n",
        "median_stp9 = np.asarray(stp9_results[9:10][0])[0]\n",
        "upper_stp9 = np.asarray(stp9_results[14:15][0])[0]\n"
      ]
    },
    {
      "cell_type": "code",
      "execution_count": null,
      "metadata": {
        "id": "G3QVtLpJJLmc"
      },
      "outputs": [],
      "source": [
        "# Iteration19 :\n",
        "\n",
        "slice19 = 18\n",
        "\n",
        "gp19 = [simple_regret_gp_1[slice19],\n",
        "       simple_regret_gp_2[slice19],\n",
        "       simple_regret_gp_3[slice19],\n",
        "       simple_regret_gp_4[slice19],\n",
        "       simple_regret_gp_5[slice19],\n",
        "       simple_regret_gp_6[slice19],\n",
        "       simple_regret_gp_7[slice19],\n",
        "       simple_regret_gp_8[slice19],\n",
        "       simple_regret_gp_9[slice19],\n",
        "       simple_regret_gp_10[slice19],\n",
        "       simple_regret_gp_11[slice19],\n",
        "       simple_regret_gp_12[slice19],\n",
        "       simple_regret_gp_13[slice19],\n",
        "       simple_regret_gp_14[slice19],\n",
        "       simple_regret_gp_15[slice19],\n",
        "       simple_regret_gp_16[slice19],\n",
        "       simple_regret_gp_17[slice19],\n",
        "       simple_regret_gp_18[slice19],\n",
        "       simple_regret_gp_19[slice19],\n",
        "       simple_regret_gp_20[slice19]]\n",
        "\n",
        "stp19 = [simple_regret_stp_1[slice19],\n",
        "       simple_regret_stp_2[slice19],\n",
        "       simple_regret_stp_3[slice19],\n",
        "       simple_regret_stp_4[slice19],\n",
        "       simple_regret_stp_5[slice19],\n",
        "       simple_regret_stp_6[slice19],\n",
        "       simple_regret_stp_7[slice19],\n",
        "       simple_regret_stp_8[slice19],\n",
        "       simple_regret_stp_9[slice19],\n",
        "       simple_regret_stp_10[slice19],\n",
        "       simple_regret_stp_11[slice19],\n",
        "       simple_regret_stp_12[slice19],\n",
        "       simple_regret_stp_13[slice19],\n",
        "       simple_regret_stp_14[slice19],\n",
        "       simple_regret_stp_15[slice19],\n",
        "       simple_regret_stp_16[slice19],\n",
        "       simple_regret_stp_17[slice19],\n",
        "       simple_regret_stp_18[slice19],\n",
        "       simple_regret_stp_19[slice19],\n",
        "       simple_regret_stp_20[slice19]]\n",
        "\n",
        "gp19_results = pd.DataFrame(gp19).sort_values(by=[0], ascending=False)\n",
        "stp19_results = pd.DataFrame(stp19).sort_values(by=[0], ascending=False)\n",
        "\n",
        "### Best training regret minimization IQR - gp:\n",
        "lower_gp19 = np.asarray(gp19_results[4:5][0])[0]\n",
        "median_gp19 = np.asarray(gp19_results[9:10][0])[0]\n",
        "upper_gp19 = np.asarray(gp19_results[14:15][0])[0]\n",
        "\n",
        "lower_stp19 = np.asarray(stp19_results[4:5][0])[0]\n",
        "median_stp19 = np.asarray(stp19_results[9:10][0])[0]\n",
        "upper_stp19 = np.asarray(stp19_results[14:15][0])[0]\n"
      ]
    },
    {
      "cell_type": "code",
      "execution_count": null,
      "metadata": {
        "id": "IzQng-ULJLmj"
      },
      "outputs": [],
      "source": [
        "# Iteration10 :\n",
        "\n",
        "slice10 = 9\n",
        "\n",
        "gp10 = [simple_regret_gp_1[slice10],\n",
        "       simple_regret_gp_2[slice10],\n",
        "       simple_regret_gp_3[slice10],\n",
        "       simple_regret_gp_4[slice10],\n",
        "       simple_regret_gp_5[slice10],\n",
        "       simple_regret_gp_6[slice10],\n",
        "       simple_regret_gp_7[slice10],\n",
        "       simple_regret_gp_8[slice10],\n",
        "       simple_regret_gp_9[slice10],\n",
        "       simple_regret_gp_10[slice10],\n",
        "       simple_regret_gp_11[slice10],\n",
        "       simple_regret_gp_12[slice10],\n",
        "       simple_regret_gp_13[slice10],\n",
        "       simple_regret_gp_14[slice10],\n",
        "       simple_regret_gp_15[slice10],\n",
        "       simple_regret_gp_16[slice10],\n",
        "       simple_regret_gp_17[slice10],\n",
        "       simple_regret_gp_18[slice10],\n",
        "       simple_regret_gp_19[slice10],\n",
        "       simple_regret_gp_20[slice10]]\n",
        "\n",
        "stp10 = [simple_regret_stp_1[slice10],\n",
        "       simple_regret_stp_2[slice10],\n",
        "       simple_regret_stp_3[slice10],\n",
        "       simple_regret_stp_4[slice10],\n",
        "       simple_regret_stp_5[slice10],\n",
        "       simple_regret_stp_6[slice10],\n",
        "       simple_regret_stp_7[slice10],\n",
        "       simple_regret_stp_8[slice10],\n",
        "       simple_regret_stp_9[slice10],\n",
        "       simple_regret_stp_10[slice10],\n",
        "       simple_regret_stp_11[slice10],\n",
        "       simple_regret_stp_12[slice10],\n",
        "       simple_regret_stp_13[slice10],\n",
        "       simple_regret_stp_14[slice10],\n",
        "       simple_regret_stp_15[slice10],\n",
        "       simple_regret_stp_16[slice10],\n",
        "       simple_regret_stp_17[slice10],\n",
        "       simple_regret_stp_18[slice10],\n",
        "       simple_regret_stp_19[slice10],\n",
        "       simple_regret_stp_20[slice10]]\n",
        "\n",
        "gp10_results = pd.DataFrame(gp10).sort_values(by=[0], ascending=False)\n",
        "stp10_results = pd.DataFrame(stp10).sort_values(by=[0], ascending=False)\n",
        "\n",
        "### Best training regret minimization IQR - gp:\n",
        "lower_gp10 = np.asarray(gp10_results[4:5][0])[0]\n",
        "median_gp10 = np.asarray(gp10_results[9:10][0])[0]\n",
        "upper_gp10 = np.asarray(gp10_results[14:15][0])[0]\n",
        "\n",
        "lower_stp10 = np.asarray(stp10_results[4:5][0])[0]\n",
        "median_stp10 = np.asarray(stp10_results[9:10][0])[0]\n",
        "upper_stp10 = np.asarray(stp10_results[14:15][0])[0]\n"
      ]
    },
    {
      "cell_type": "code",
      "execution_count": null,
      "metadata": {
        "id": "DQ_Cuh-4JLmk"
      },
      "outputs": [],
      "source": [
        "# Iteration20 :\n",
        "\n",
        "slice20 = 19\n",
        "\n",
        "gp20 = [simple_regret_gp_1[slice20],\n",
        "       simple_regret_gp_2[slice20],\n",
        "       simple_regret_gp_3[slice20],\n",
        "       simple_regret_gp_4[slice20],\n",
        "       simple_regret_gp_5[slice20],\n",
        "       simple_regret_gp_6[slice20],\n",
        "       simple_regret_gp_7[slice20],\n",
        "       simple_regret_gp_8[slice20],\n",
        "       simple_regret_gp_9[slice20],\n",
        "       simple_regret_gp_10[slice20],\n",
        "       simple_regret_gp_11[slice20],\n",
        "       simple_regret_gp_12[slice20],\n",
        "       simple_regret_gp_13[slice20],\n",
        "       simple_regret_gp_14[slice20],\n",
        "       simple_regret_gp_15[slice20],\n",
        "       simple_regret_gp_16[slice20],\n",
        "       simple_regret_gp_17[slice20],\n",
        "       simple_regret_gp_18[slice20],\n",
        "       simple_regret_gp_19[slice20],\n",
        "       simple_regret_gp_20[slice20]]\n",
        "\n",
        "stp20 = [simple_regret_stp_1[slice20],\n",
        "       simple_regret_stp_2[slice20],\n",
        "       simple_regret_stp_3[slice20],\n",
        "       simple_regret_stp_4[slice20],\n",
        "       simple_regret_stp_5[slice20],\n",
        "       simple_regret_stp_6[slice20],\n",
        "       simple_regret_stp_7[slice20],\n",
        "       simple_regret_stp_8[slice20],\n",
        "       simple_regret_stp_9[slice20],\n",
        "       simple_regret_stp_10[slice20],\n",
        "       simple_regret_stp_11[slice20],\n",
        "       simple_regret_stp_12[slice20],\n",
        "       simple_regret_stp_13[slice20],\n",
        "       simple_regret_stp_14[slice20],\n",
        "       simple_regret_stp_15[slice20],\n",
        "       simple_regret_stp_16[slice20],\n",
        "       simple_regret_stp_17[slice20],\n",
        "       simple_regret_stp_18[slice20],\n",
        "       simple_regret_stp_19[slice20],\n",
        "       simple_regret_stp_20[slice20]]\n",
        "\n",
        "gp20_results = pd.DataFrame(gp20).sort_values(by=[0], ascending=False)\n",
        "stp20_results = pd.DataFrame(stp20).sort_values(by=[0], ascending=False)\n",
        "\n",
        "### Best training regret minimization IQR - gp:\n",
        "lower_gp20 = np.asarray(gp20_results[4:5][0])[0]\n",
        "median_gp20 = np.asarray(gp20_results[9:10][0])[0]\n",
        "upper_gp20 = np.asarray(gp20_results[14:15][0])[0]\n",
        "\n",
        "lower_stp20 = np.asarray(stp20_results[4:5][0])[0]\n",
        "median_stp20 = np.asarray(stp20_results[9:10][0])[0]\n",
        "upper_stp20 = np.asarray(stp20_results[14:15][0])[0]\n"
      ]
    },
    {
      "cell_type": "code",
      "execution_count": null,
      "metadata": {
        "id": "R1gk3HGTJLms"
      },
      "outputs": [],
      "source": [
        "### Summarise arrays: 'GP'\n",
        "\n",
        "lower_gp = [lower_gp1,\n",
        "            lower_gp2,\n",
        "            lower_gp3,\n",
        "            lower_gp4,\n",
        "            lower_gp5,\n",
        "            lower_gp6,\n",
        "            lower_gp7,\n",
        "            lower_gp8,\n",
        "            lower_gp9,\n",
        "            lower_gp10,\n",
        "            lower_gp11,\n",
        "            lower_gp12,\n",
        "            lower_gp13,\n",
        "            lower_gp14,\n",
        "            lower_gp15,\n",
        "            lower_gp16,\n",
        "            lower_gp17,\n",
        "            lower_gp18,\n",
        "            lower_gp19,\n",
        "            lower_gp20,\n",
        "            lower_gp21]\n",
        "\n",
        "median_gp = [median_gp1,\n",
        "            median_gp2,\n",
        "            median_gp3,\n",
        "            median_gp4,\n",
        "            median_gp5,\n",
        "            median_gp6,\n",
        "            median_gp7,\n",
        "            median_gp8,\n",
        "            median_gp9,\n",
        "            median_gp10,\n",
        "            median_gp11,\n",
        "            median_gp12,\n",
        "            median_gp13,\n",
        "            median_gp14,\n",
        "            median_gp15,\n",
        "            median_gp16,\n",
        "            median_gp17,\n",
        "            median_gp18,\n",
        "            median_gp19,\n",
        "            median_gp20,\n",
        "            median_gp21]\n",
        "\n",
        "upper_gp = [upper_gp1,\n",
        "            upper_gp2,\n",
        "            upper_gp3,\n",
        "            upper_gp4,\n",
        "            upper_gp5,\n",
        "            upper_gp6,\n",
        "            upper_gp7,\n",
        "            upper_gp8,\n",
        "            upper_gp9,\n",
        "            upper_gp10,\n",
        "            upper_gp11,\n",
        "            upper_gp12,\n",
        "            upper_gp13,\n",
        "            upper_gp14,\n",
        "            upper_gp15,\n",
        "            upper_gp16,\n",
        "            upper_gp17,\n",
        "            upper_gp18,\n",
        "            upper_gp19,\n",
        "            upper_gp20,\n",
        "            upper_gp21]\n"
      ]
    },
    {
      "cell_type": "code",
      "execution_count": null,
      "metadata": {
        "id": "jox8uqaeJLmu"
      },
      "outputs": [],
      "source": [
        "### Summarise arrays: 'STP'\n",
        "\n",
        "lower_stp = [lower_stp1,\n",
        "            lower_stp2,\n",
        "            lower_stp3,\n",
        "            lower_stp4,\n",
        "            lower_stp5,\n",
        "            lower_stp6,\n",
        "            lower_stp7,\n",
        "            lower_stp8,\n",
        "            lower_stp9,\n",
        "            lower_stp10,\n",
        "            lower_stp11,\n",
        "            lower_stp12,\n",
        "            lower_stp13,\n",
        "            lower_stp14,\n",
        "            lower_stp15,\n",
        "            lower_stp16,\n",
        "            lower_stp17,\n",
        "            lower_stp18,\n",
        "            lower_stp19,\n",
        "            lower_stp20,\n",
        "            lower_stp21]\n",
        "\n",
        "median_stp = [median_stp1,\n",
        "            median_stp2,\n",
        "            median_stp3,\n",
        "            median_stp4,\n",
        "            median_stp5,\n",
        "            median_stp6,\n",
        "            median_stp7,\n",
        "            median_stp8,\n",
        "            median_stp9,\n",
        "            median_stp10,\n",
        "            median_stp11,\n",
        "            median_stp12,\n",
        "            median_stp13,\n",
        "            median_stp14,\n",
        "            median_stp15,\n",
        "            median_stp16,\n",
        "            median_stp17,\n",
        "            median_stp18,\n",
        "            median_stp19,\n",
        "            median_stp20,\n",
        "            median_stp21]\n",
        "\n",
        "upper_stp = [upper_stp1,\n",
        "            upper_stp2,\n",
        "            upper_stp3,\n",
        "            upper_stp4,\n",
        "            upper_stp5,\n",
        "            upper_stp6,\n",
        "            upper_stp7,\n",
        "            upper_stp8,\n",
        "            upper_stp9,\n",
        "            upper_stp10,\n",
        "            upper_stp11,\n",
        "            upper_stp12,\n",
        "            upper_stp13,\n",
        "            upper_stp14,\n",
        "            upper_stp15,\n",
        "            upper_stp16,\n",
        "            upper_stp17,\n",
        "            upper_stp18,\n",
        "            upper_stp19,\n",
        "            upper_stp20,\n",
        "            upper_stp21]\n"
      ]
    },
    {
      "cell_type": "code",
      "execution_count": null,
      "metadata": {
        "id": "W4hkYeeMJLmw",
        "colab": {
          "base_uri": "https://localhost:8080/",
          "height": 299
        },
        "outputId": "6c29bb5c-b7d1-4563-f55b-087d5cd8e77c"
      },
      "outputs": [
        {
          "output_type": "display_data",
          "data": {
            "text/plain": [
              "<Figure size 432x288 with 1 Axes>"
            ],
            "image/png": "[encoded data removed]"
          },
          "metadata": {
            "needs_background": "light"
          }
        }
      ],
      "source": [
        "### Visualise!\n",
        "\n",
        "title = obj_func\n",
        "\n",
        "plt.figure()\n",
        "\n",
        "plt.plot(median_gp, color = 'Yellow')\n",
        "plt.plot(median_stp, color = 'Green')\n",
        "\n",
        "xstar = np.arange(0, max_iter+1, step=1)\n",
        "plt.fill_between(xstar, lower_gp, upper_gp, facecolor = 'Yellow', alpha=0.4, label='GP CBM Regret: IQR')\n",
        "plt.fill_between(xstar, lower_stp, upper_stp, facecolor = 'Green', alpha=0.4, label='STP CBM Regret: IQR ' r'($\\nu$' ' = {})'.format(df))\n",
        "\n",
        "plt.title(title, weight = 'bold')\n",
        "plt.xlabel('(Post-initialisation) iteration $\\it{k}$', weight = 'bold') # x-axis label\n",
        "plt.ylabel('ln(Regret)', weight = 'bold') # y-axis label\n",
        "plt.legend(loc=0) # add plot legend\n",
        "\n",
        "### Make the x-ticks integers, not floats:\n",
        "count = len(xstar)\n",
        "plt.xticks(np.arange(count), np.arange(0, count))\n",
        "plt.show() #visualise!\n"
      ]
    },
    {
      "cell_type": "code",
      "execution_count": null,
      "metadata": {
        "id": "5TOZMC49JLmw"
      },
      "outputs": [],
      "source": []
    }
  ],
  "metadata": {
    "kernelspec": {
      "display_name": "Python 3",
      "language": "python",
      "name": "python3"
    },
    "language_info": {
      "codemirror_mode": {
        "name": "ipython",
        "version": 3
      },
      "file_extension": ".py",
      "mimetype": "text/x-python",
      "name": "python",
      "nbconvert_exporter": "python",
      "pygments_lexer": "ipython3",
      "version": "3.6.5"
    },
    "colab": {
      "provenance": [],
      "collapsed_sections": []
    }
  },
  "nbformat": 4,
  "nbformat_minor": 0
}